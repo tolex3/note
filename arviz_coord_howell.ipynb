{
 "cells": [
  {
   "cell_type": "code",
   "execution_count": null,
   "metadata": {},
   "outputs": [],
   "source": [
    "import numpy as np\n",
    "import pandas as pd\n",
    "import matplotlib.pyplot as plt\n",
    "import seaborn as sns\n",
    "import pymc3 as pm\n",
    "import arviz as az\n",
    "\n",
    "sns.set()"
   ]
  },
  {
   "cell_type": "code",
   "execution_count": null,
   "metadata": {},
   "outputs": [],
   "source": [
    "df = pd.read_csv('https://raw.githubusercontent.com/tolex3/resources/master/Rethinking_2/Data/Howell1.csv',sep=';')\n",
    "\n",
    "df.head()"
   ]
  },
  {
   "cell_type": "code",
   "execution_count": null,
   "metadata": {},
   "outputs": [],
   "source": [
    "df = df.loc[df['age'] >= 18]\n",
    "df.plot(x='weight',y='height',kind='scatter',color='b')\n"
   ]
  },
  {
   "cell_type": "code",
   "execution_count": null,
   "metadata": {
    "scrolled": false
   },
   "outputs": [],
   "source": [
    "x = df['weight'].values\n",
    "gender_idx = df['male']\n",
    "\n",
    "model = pm.Model()\n",
    "with model:\n",
    "    alpha = pm.Normal('alpha',170,30,shape=2)\n",
    "    beta = pm.Normal('beta',1,2,shape=2)\n",
    "    sigma = pm.Uniform('sigma',0,50)\n",
    "    \n",
    "    reg = pm.Deterministic('reg',alpha[gender_idx] + beta[gender_idx] * x)\n",
    "    \n",
    "    obs = pm.Normal('obs',mu=reg,sd=sigma,observed=df['height'])\n",
    "    \n",
    "    trace = pm.sample(500,tune=500)"
   ]
  },
  {
   "cell_type": "code",
   "execution_count": null,
   "metadata": {},
   "outputs": [],
   "source": []
  },
  {
   "cell_type": "code",
   "execution_count": null,
   "metadata": {},
   "outputs": [],
   "source": [
    "with model:\n",
    "    idata = az.from_pymc3(trace,coords={'gender_idx': np.array(['female','male'])}, \n",
    "    dims={'alpha': ['gender_idx'], 'beta': ['gender_idx']})\n",
    "    \n"
   ]
  },
  {
   "cell_type": "code",
   "execution_count": null,
   "metadata": {},
   "outputs": [],
   "source": [
    "with model:\n",
    "    _ = az.plot_posterior(idata,var_names=['alpha','beta'],\n",
    "                          coords={'gender_idx' : ['female','male']},\n",
    "                         figsize=(18,12))"
   ]
  },
  {
   "cell_type": "code",
   "execution_count": null,
   "metadata": {},
   "outputs": [],
   "source": [
    "f_idx = df['male'] == 0\n",
    "m_idx = df['male'] == 1\n",
    "\n",
    "x_f = df.loc[df['male'] == 0]['weight']\n",
    "x_m = df.loc[df['male'] == 1]['weight']\n",
    "\n",
    "trace_f = trace['reg'][:,f_idx]\n",
    "trace_m = trace['reg'][:,m_idx]"
   ]
  },
  {
   "cell_type": "code",
   "execution_count": null,
   "metadata": {
    "scrolled": false
   },
   "outputs": [],
   "source": [
    "\n",
    "\n",
    "print (trace_f)\n",
    "\n",
    "plt.plot(x,trace['alpha'][:,0].mean() + x * trace['beta'][:,0].mean(),color='crimson',ls='dashed')\n",
    "plt.plot(x,trace['alpha'][:,1].mean() + x * trace['beta'][:,1].mean(),color='navy',ls='dashed')\n",
    "\n",
    "ax = plt.gca()\n",
    "\n",
    "draws = range(0,len(trace['reg']),10)\n",
    "\n",
    "#plt.plot(x,trace['alpha'][:,1][draws] + trace['beta'][:,1][draws] * x[:,None],color='lightblue',alpha=0.05)\n",
    "#plt.plot(x,trace['alpha'][:,0][draws] + trace['beta'][:,0][draws] * x[:,None],color='orange',alpha=0.05)\n",
    "\n",
    "#### QUESTION : HOW TO DO THE below TWO CI-PLOTS WITH ARVIZ ? \n",
    "#### that is, how to make arviz 'aware' which of the items in trace['reg'] belong to the male/female categories ?\n",
    "#### \n",
    "\n",
    "az.plot_hdi(x_f,trace_f,ax=ax)\n",
    "az.plot_hdi(x_m,trace_m,ax=ax)\n",
    "\n",
    "### how should I write the coords/dims argument above to be able to use az.plot_hdi for the below plot ? \n",
    "\n",
    "plt.savefig('arviz_question.jpg',format='jpg')"
   ]
  }
 ],
 "metadata": {
  "kernelspec": {
   "display_name": "Python 3",
   "language": "python",
   "name": "python3"
  },
  "language_info": {
   "codemirror_mode": {
    "name": "ipython",
    "version": 3
   },
   "file_extension": ".py",
   "mimetype": "text/x-python",
   "name": "python",
   "nbconvert_exporter": "python",
   "pygments_lexer": "ipython3",
   "version": "3.8.5"
  }
 },
 "nbformat": 4,
 "nbformat_minor": 4
}
