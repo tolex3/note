{
 "cells": [
  {
   "cell_type": "code",
   "execution_count": null,
   "metadata": {},
   "outputs": [],
   "source": [
    "import numpy as np\n",
    "import matplotlib.pyplot as plt\n",
    "import seaborn as sns\n",
    "import pandas as pd\n",
    "import requests\n",
    "\n",
    "sns.set()"
   ]
  },
  {
   "cell_type": "code",
   "execution_count": null,
   "metadata": {},
   "outputs": [],
   "source": [
    "url = 'http://api.scb.se/OV0104/v1/doris/sv/ssd/START/BE/BE0101/BE0101E/FodelselandArK'\n",
    "\n",
    "data = {\n",
    "  \"query\": [\n",
    "    {\n",
    "      \"code\": \"Fodelseland\",\n",
    "      \"selection\": {\n",
    "        \"filter\": \"vs:LandISOAlfa2-96A3\",\n",
    "        \"values\": [\n",
    "          \"AF\",\n",
    "          \"AL\",\n",
    "          \"DZ\",\n",
    "          \"AD\",\n",
    "          \"AO\",\n",
    "          \"AG\",\n",
    "          \"AE\",\n",
    "          \"AR\",\n",
    "          \"AM\",\n",
    "          \"AU\",\n",
    "          \"AZ\",\n",
    "          \"BS\",\n",
    "          \"BH\",\n",
    "          \"BD\",\n",
    "          \"BB\",\n",
    "          \"BE\",\n",
    "          \"BZ\",\n",
    "          \"BJ\",\n",
    "          \"BM\",\n",
    "          \"BT\",\n",
    "          \"BO\",\n",
    "          \"BA\",\n",
    "          \"BW\",\n",
    "          \"BR\",\n",
    "          \"VG\",\n",
    "          \"BN\",\n",
    "          \"BG\",\n",
    "          \"BF\",\n",
    "          \"BI\",\n",
    "          \"CF\",\n",
    "          \"CL\",\n",
    "          \"CO\",\n",
    "          \"KM\",\n",
    "          \"CR\",\n",
    "          \"CY\",\n",
    "          \"DK\",\n",
    "          \"DJ\",\n",
    "          \"DM\",\n",
    "          \"DO\",\n",
    "          \"EC\",\n",
    "          \"EG\",\n",
    "          \"GQ\",\n",
    "          \"SV\",\n",
    "          \"CI\",\n",
    "          \"ER\",\n",
    "          \"EE\",\n",
    "          \"ET\",\n",
    "          \"FJ\",\n",
    "          \"PH\",\n",
    "          \"FI\",\n",
    "          \"FR\",\n",
    "          \"GA\",\n",
    "          \"GM\",\n",
    "          \"GE\",\n",
    "          \"GH\",\n",
    "          \"GI\",\n",
    "          \"GR\",\n",
    "          \"GD\",\n",
    "          \"GT\",\n",
    "          \"GN\",\n",
    "          \"GW\",\n",
    "          \"GY\",\n",
    "          \"HT\",\n",
    "          \"HN\",\n",
    "          \"HK\",\n",
    "          \"IN\",\n",
    "          \"ID\",\n",
    "          \"IQ\",\n",
    "          \"IR\",\n",
    "          \"IE\",\n",
    "          \"IS\",\n",
    "          \"IL\",\n",
    "          \"IT\",\n",
    "          \"JM\",\n",
    "          \"JP\",\n",
    "          \"YE\",\n",
    "          \"JO\",\n",
    "          \"YU\",\n",
    "          \"KH\",\n",
    "          \"CM\",\n",
    "          \"CA\",\n",
    "          \"CV\",\n",
    "          \"KZ\",\n",
    "          \"KE\",\n",
    "          \"CN\",\n",
    "          \"KG\",\n",
    "          \"KI\",\n",
    "          \"CG\",\n",
    "          \"CD\",\n",
    "          \"XK\",\n",
    "          \"HR\",\n",
    "          \"CU\",\n",
    "          \"KW\",\n",
    "          \"LA\",\n",
    "          \"LS\",\n",
    "          \"LV\",\n",
    "          \"LB\",\n",
    "          \"LR\",\n",
    "          \"LY\",\n",
    "          \"LI\",\n",
    "          \"LT\",\n",
    "          \"LU\",\n",
    "          \"MG\",\n",
    "          \"MW\",\n",
    "          \"MY\",\n",
    "          \"MV\",\n",
    "          \"ML\",\n",
    "          \"MT\",\n",
    "          \"MA\",\n",
    "          \"MH\",\n",
    "          \"MR\",\n",
    "          \"MU\",\n",
    "          \"MX\",\n",
    "          \"FM\",\n",
    "          \"MZ\",\n",
    "          \"MD\",\n",
    "          \"MC\",\n",
    "          \"MN\",\n",
    "          \"ME\",\n",
    "          \"MM\",\n",
    "          \"NA\",\n",
    "          \"NR\",\n",
    "          \"NL\",\n",
    "          \"NP\",\n",
    "          \"NI\",\n",
    "          \"NE\",\n",
    "          \"NG\",\n",
    "          \"KP\",\n",
    "          \"MK\",\n",
    "          \"NO\",\n",
    "          \"NZ\",\n",
    "          \"OM\",\n",
    "          \"PK\",\n",
    "          \"PW\",\n",
    "          \"PS\",\n",
    "          \"PA\",\n",
    "          \"PG\",\n",
    "          \"PY\",\n",
    "          \"PE\",\n",
    "          \"PL\",\n",
    "          \"PT\",\n",
    "          \"QA\",\n",
    "          \"RO\",\n",
    "          \"RW\",\n",
    "          \"RU\",\n",
    "          \"SB\",\n",
    "          \"WS\",\n",
    "          \"SM\",\n",
    "          \"ST\",\n",
    "          \"SA\",\n",
    "          \"CH\",\n",
    "          \"SN\",\n",
    "          \"RS\",\n",
    "          \"CS\",\n",
    "          \"SC\",\n",
    "          \"SL\",\n",
    "          \"SG\",\n",
    "          \"SK\",\n",
    "          \"SI\",\n",
    "          \"SO\",\n",
    "          \"SU\",\n",
    "          \"ES\",\n",
    "          \"LK\",\n",
    "          \"KN\",\n",
    "          \"LC\",\n",
    "          \"VC\",\n",
    "          \"GB\",\n",
    "          \"SD\",\n",
    "          \"SR\",\n",
    "          \"SZ\",\n",
    "          \"SE\",\n",
    "          \"ZA\",\n",
    "          \"KR\",\n",
    "          \"SS\",\n",
    "          \"SY\",\n",
    "          \"TJ\",\n",
    "          \"TW\",\n",
    "          \"TZ\",\n",
    "          \"TD\",\n",
    "          \"TH\",\n",
    "          \"CZ\",\n",
    "          \"QT\",\n",
    "          \"TG\",\n",
    "          \"TO\",\n",
    "          \"TT\",\n",
    "          \"TN\",\n",
    "          \"TR\",\n",
    "          \"TM\",\n",
    "          \"TV\",\n",
    "          \"DE\",\n",
    "          \"UG\",\n",
    "          \"UA\",\n",
    "          \"HU\",\n",
    "          \"UY\",\n",
    "          \"US\",\n",
    "          \"UZ\",\n",
    "          \"VU\",\n",
    "          \"VA\",\n",
    "          \"VE\",\n",
    "          \"VN\",\n",
    "          \"BY\",\n",
    "          \"ZM\",\n",
    "          \"ZW\",\n",
    "          \"AT\",\n",
    "          \"TL\",\n",
    "          \"ÖOF\"\n",
    "        ]\n",
    "      }\n",
    "    },\n",
    "    {\n",
    "      \"code\": \"Alder\",\n",
    "      \"selection\": {\n",
    "        \"filter\": \"agg:Ålder10år\",\n",
    "        \"values\": [\n",
    "          \"-4\",\n",
    "          \"5-14\",\n",
    "          \"15-24\",\n",
    "          \"25-34\",\n",
    "          \"35-44\",\n",
    "          \"45-54\",\n",
    "          \"55-64\",\n",
    "          \"65-74\",\n",
    "          \"75-84\",\n",
    "          \"85-94\",\n",
    "          \"95+\"\n",
    "        ]\n",
    "      }\n",
    "    },\n",
    "    {\n",
    "      \"code\": \"Kon\",\n",
    "      \"selection\": {\n",
    "        \"filter\": \"item\",\n",
    "        \"values\": [\n",
    "          \"1\",\n",
    "          \"2\"\n",
    "        ]\n",
    "      }\n",
    "    }\n",
    "  ],\n",
    "  \"response\": {\n",
    "    \"format\": \"json\"\n",
    "  }\n",
    "}"
   ]
  },
  {
   "cell_type": "code",
   "execution_count": null,
   "metadata": {},
   "outputs": [],
   "source": [
    "r = requests.post(url,json=data)\n",
    "r.status_code"
   ]
  },
  {
   "cell_type": "code",
   "execution_count": null,
   "metadata": {
    "scrolled": false
   },
   "outputs": [],
   "source": [
    "json = r.json()\n",
    "json['data'][0]"
   ]
  },
  {
   "cell_type": "code",
   "execution_count": null,
   "metadata": {},
   "outputs": [],
   "source": [
    "data_list = []\n",
    "\n",
    "nr_records = (len(json['data']))\n",
    "\n",
    "for rec in range(nr_records):\n",
    "\n",
    "    data_list.append ((json['data'][rec]['key'][0],\n",
    "                        json['data'][rec]['key'][1],\n",
    "                        json['data'][rec]['key'][2],\n",
    "                        json['data'][rec]['key'][3],\n",
    "                        json['data'][rec]['values'][0]))\n"
   ]
  },
  {
   "cell_type": "code",
   "execution_count": null,
   "metadata": {},
   "outputs": [],
   "source": [
    "data_list"
   ]
  },
  {
   "cell_type": "code",
   "execution_count": null,
   "metadata": {},
   "outputs": [],
   "source": [
    "migrants = pd.DataFrame(data_list,columns=['abb','age','gender','year','count'])\n"
   ]
  },
  {
   "cell_type": "code",
   "execution_count": null,
   "metadata": {},
   "outputs": [],
   "source": [
    "migrants"
   ]
  },
  {
   "cell_type": "code",
   "execution_count": null,
   "metadata": {},
   "outputs": [],
   "source": [
    "country_abb = pd.read_csv('country_abb.csv',sep=';',header=None,keep_default_na=False,\n",
    "                         encoding='UTF-8')\n",
    "country_abb.columns = ['abb','country']\n",
    "country_abb.set_index('abb',inplace=True)\n",
    "country_abb"
   ]
  },
  {
   "cell_type": "code",
   "execution_count": null,
   "metadata": {},
   "outputs": [],
   "source": [
    "country_abb.loc['US']"
   ]
  },
  {
   "cell_type": "code",
   "execution_count": null,
   "metadata": {},
   "outputs": [],
   "source": [
    "countr_abb = country_abb[~country_abb.index.duplicated(keep='first')]\n",
    "country_abb.loc['US']"
   ]
  },
  {
   "cell_type": "code",
   "execution_count": null,
   "metadata": {},
   "outputs": [],
   "source": [
    "mask = country_abb.index.duplicated()\n",
    "country_abb = country_abb[~mask]\n",
    "country_abb.loc['US']"
   ]
  },
  {
   "cell_type": "code",
   "execution_count": null,
   "metadata": {},
   "outputs": [],
   "source": [
    "migrants['count'] = migrants['count'].astype(int)\n",
    "migrants_orig = migrants.copy()\n",
    "migrants"
   ]
  },
  {
   "cell_type": "code",
   "execution_count": null,
   "metadata": {},
   "outputs": [],
   "source": [
    "migrants['country'] = migrants['abb'].apply(lambda x : country_abb.loc[x,'country'])\n",
    "migrants"
   ]
  },
  {
   "cell_type": "code",
   "execution_count": null,
   "metadata": {},
   "outputs": [],
   "source": [
    "migrants.groupby('year')['count'].sum()"
   ]
  },
  {
   "cell_type": "code",
   "execution_count": null,
   "metadata": {},
   "outputs": [],
   "source": [
    "# https://worldpopulationreview.com/country-rankings/muslim-majority-countries\n",
    "muslim_countries_ratio = pd.read_json('muslim_countries.json')\n",
    "muslim_countries_ratio['pop2020'] = muslim_countries_ratio['pop2020'].astype(str).str.replace('.','').astype(int)\n",
    "muslim_countries_ratio['muslimPopulation'] = muslim_countries_ratio['muslimPopulation'].astype(int)\n",
    "muslim_countries_ratio[['muslim%','worldMuslim%']] = muslim_countries_ratio[['muslim%','worldMuslim%']].astype(float)\n",
    "muslim_countries_ratio"
   ]
  },
  {
   "cell_type": "code",
   "execution_count": null,
   "metadata": {},
   "outputs": [],
   "source": [
    "muslim_countries = (muslim_countries_ratio.loc[muslim_countries_ratio['muslim%'] > 50]).copy()\n",
    "muslim_countries.sort_values('country',inplace=True)\n",
    "muslim_countries.set_index('country',inplace=True)\n",
    "muslim_countries"
   ]
  },
  {
   "cell_type": "code",
   "execution_count": null,
   "metadata": {},
   "outputs": [],
   "source": [
    "total_pop = pd.DataFrame({'total_pop':migrants.groupby('year')['count'].sum()})\n",
    "total_pop"
   ]
  },
  {
   "cell_type": "code",
   "execution_count": null,
   "metadata": {},
   "outputs": [],
   "source": [
    "real_migrants = (migrants[migrants['abb'] != 'SE']).copy()\n",
    "real_migrants"
   ]
  },
  {
   "cell_type": "code",
   "execution_count": null,
   "metadata": {},
   "outputs": [],
   "source": [
    "migrants_yearly = real_migrants.groupby('year').sum()\n"
   ]
  },
  {
   "cell_type": "code",
   "execution_count": null,
   "metadata": {},
   "outputs": [],
   "source": [
    "total_pop['foreign_born'] = migrants_yearly\n",
    "total_pop['native_born'] = total_pop['total_pop'] - total_pop['foreign_born']\n",
    "total_pop['foreign_born_%'] = total_pop['foreign_born'] / total_pop['total_pop'] * 100\n",
    "total_pop"
   ]
  },
  {
   "cell_type": "code",
   "execution_count": null,
   "metadata": {},
   "outputs": [],
   "source": [
    "total_pop.plot(kind='bar',y='foreign_born_%',\n",
    "               title='SWE ratio foreign born of population',\n",
    "              figsize=(18,12))\n",
    "\n",
    "plt.ylabel('%')\n",
    "plt.savefig('swe_foreign_born_pct.jpg',format='jpg')"
   ]
  },
  {
   "cell_type": "code",
   "execution_count": null,
   "metadata": {},
   "outputs": [],
   "source": [
    "def is_muslim(country):\n",
    "    '''\n",
    "    try:\n",
    "        muslim_countries.loc[country]\n",
    "    except KeyError:\n",
    "        return 0\n",
    "    return 1\n",
    "    '''\n",
    "    \n",
    "    # below didnt work if there are duplicates in the muslim_countries.index\n",
    "    \n",
    "    if country in np.array(muslim_countries.index):\n",
    "        return 1\n",
    "    return 0\n",
    "    "
   ]
  },
  {
   "cell_type": "code",
   "execution_count": null,
   "metadata": {
    "scrolled": false
   },
   "outputs": [],
   "source": [
    "real_migrants['muslim'] = real_migrants.apply(lambda row : is_muslim(row.country),axis=1)\n",
    "real_migrants"
   ]
  },
  {
   "cell_type": "code",
   "execution_count": null,
   "metadata": {},
   "outputs": [],
   "source": [
    "migrant_religion = real_migrants.groupby(['year','muslim']).sum().unstack()\n",
    "migrant_religion.columns=['No','Yes']\n",
    "migrant_religion.columns.name='muslim'\n",
    "migrant_religion['ratio_muslim'] = migrant_religion['Yes'] / migrant_religion['No']\n",
    "migrant_religion"
   ]
  },
  {
   "cell_type": "code",
   "execution_count": null,
   "metadata": {},
   "outputs": [],
   "source": [
    "migrant_religion.plot(y='ratio_muslim',kind='bar', figsize=(18,12),\n",
    "                      title='SWE ratio foreign born from Muslim Majority Countries of all foreign born')\n",
    "plt.savefig('swe_ratio_muslim_foreign_born.jpg',format='jpg')"
   ]
  },
  {
   "cell_type": "code",
   "execution_count": null,
   "metadata": {},
   "outputs": [],
   "source": [
    "all_countries = pd.DataFrame(migrants['country'].unique(),columns=['country'])"
   ]
  },
  {
   "cell_type": "code",
   "execution_count": null,
   "metadata": {},
   "outputs": [],
   "source": [
    "scb_migrant_deaths = pd.read_excel('scb_prel_deaths.xlsx',sheet_name='Tabell 9a',skiprows=11,\n",
    "                                  thousands=',',usecols=[0,1,2,3,6,7,8])"
   ]
  },
  {
   "cell_type": "code",
   "execution_count": null,
   "metadata": {},
   "outputs": [],
   "source": [
    "scb_migrant_deaths"
   ]
  },
  {
   "cell_type": "code",
   "execution_count": null,
   "metadata": {},
   "outputs": [],
   "source": [
    "scb_migrant_deaths.drop([54,55,56],inplace=True)"
   ]
  },
  {
   "cell_type": "code",
   "execution_count": null,
   "metadata": {},
   "outputs": [],
   "source": [
    "scb_migrant_deaths"
   ]
  },
  {
   "cell_type": "code",
   "execution_count": null,
   "metadata": {},
   "outputs": [],
   "source": [
    "total_deaths = scb_migrant_deaths.sum()\n",
    "total_deaths"
   ]
  },
  {
   "cell_type": "code",
   "execution_count": null,
   "metadata": {},
   "outputs": [],
   "source": [
    "ratio_weekly_deaths = scb_migrant_deaths.iloc[:-1,1:] / total_deaths\n",
    "ratio_weekly_deaths\n"
   ]
  },
  {
   "cell_type": "code",
   "execution_count": null,
   "metadata": {},
   "outputs": [],
   "source": [
    "scb_migrant_deaths.iloc[:-1,1:] = scb_migrant_deaths.iloc[:-1,1:] * ratio_weekly_deaths + scb_migrant_deaths.iloc[:-1,1:]"
   ]
  },
  {
   "cell_type": "code",
   "execution_count": null,
   "metadata": {},
   "outputs": [],
   "source": [
    "scb_migrant_deaths.index = range(1,len(scb_migrant_deaths) + 1)\n",
    "scb_migrant_deaths.drop(54,inplace=True)\n"
   ]
  },
  {
   "cell_type": "code",
   "execution_count": null,
   "metadata": {},
   "outputs": [],
   "source": [
    "scb_migrant_deaths"
   ]
  },
  {
   "cell_type": "code",
   "execution_count": null,
   "metadata": {},
   "outputs": [],
   "source": [
    "pop_2015_2019 = total_pop.loc['2014' : '2018'].mean()\n",
    "pop_2020 = total_pop.loc['2019']\n",
    "\n",
    "pop_2015_2019\n",
    "pop_2020"
   ]
  },
  {
   "cell_type": "code",
   "execution_count": null,
   "metadata": {},
   "outputs": [],
   "source": [
    "tot_15_19_per_M = scb_migrant_deaths['Tot 15-19'] / (pop_2015_2019['total_pop'] / 1e6)\n",
    "foreign_15_19_per_M = scb_migrant_deaths['UtrF 15-19'] / (pop_2015_2019['foreign_born'] / 1e6)\n",
    "native_15_19_per_M = scb_migrant_deaths['InrF 15-19'] / (pop_2015_2019['native_born'] / 1e6)\n",
    "tot_2020_per_M = scb_migrant_deaths['Tot 2020'] / (pop_2020['total_pop'] / 1e6)\n",
    "foreign_2020_per_M = scb_migrant_deaths['UtrF 2020'] / (pop_2020['foreign_born'] / 1e6)\n",
    "native_2020_per_M = scb_migrant_deaths['InrF 2020'] / (pop_2020['native_born'] / 1e6)\n"
   ]
  },
  {
   "cell_type": "code",
   "execution_count": null,
   "metadata": {},
   "outputs": [],
   "source": [
    "deaths_per_m = pd.concat([tot_15_19_per_M,foreign_15_19_per_M,native_15_19_per_M,\n",
    "                         tot_2020_per_M,foreign_2020_per_M,native_2020_per_M],axis=1)\n",
    "\n",
    "deaths_per_m.index = range(1,len(deaths_per_m) +1 )\n",
    "deaths_per_m"
   ]
  },
  {
   "cell_type": "code",
   "execution_count": null,
   "metadata": {},
   "outputs": [],
   "source": [
    "last_data = (deaths_per_m.loc[deaths_per_m['Tot 2020'] != 0]).index[-1]\n",
    "last_good_data = last_data - 1\n",
    "\n",
    "deaths_per_m = (deaths_per_m.loc[:last_good_data]).copy()"
   ]
  },
  {
   "cell_type": "code",
   "execution_count": null,
   "metadata": {},
   "outputs": [],
   "source": [
    "title = 'SWEDEN deaths per million foreign vs native born, 2015-2019 vs 2020'\n",
    "deaths_per_m.plot(y=['UtrF 15-19','InrF 15-19','UtrF 2020','InrF 2020'],title=title,\n",
    "                 figsize=(18,12),style='o--')\n",
    "\n",
    "plt.xlabel('week')\n",
    "plt.ylabel('deaths per million')\n",
    "plt.savefig('swe_deaths_per_m_native_foreign.jpg',format='jpg')"
   ]
  },
  {
   "cell_type": "code",
   "execution_count": null,
   "metadata": {},
   "outputs": [],
   "source": [
    "deaths_per_m['exs_UtrF'] = deaths_per_m['UtrF 2020'] / deaths_per_m['UtrF 15-19']\n",
    "deaths_per_m['exs_InrF'] = deaths_per_m['InrF 2020'] / deaths_per_m['InrF 15-19']\n",
    "deaths_per_m"
   ]
  },
  {
   "cell_type": "code",
   "execution_count": null,
   "metadata": {},
   "outputs": [],
   "source": [
    "title = 'SWEDEN change factor 2020 vs 2015-2019, deaths per million, foreign vs native born'\n",
    "ax = deaths_per_m.plot(y=['exs_UtrF','exs_InrF'],figsize=(18,12),style='o--',title=title)\n",
    "ax.axhline(1,color='k')\n",
    "plt.ylabel('change factor')\n",
    "plt.xlabel('week')\n",
    "plt.savefig('swe_deaths_per_m_change_factor_foreign_native.jpg',format='jpg')"
   ]
  },
  {
   "cell_type": "code",
   "execution_count": null,
   "metadata": {},
   "outputs": [],
   "source": [
    "deaths_per_m['UtrF 15-19 cum'] = deaths_per_m['UtrF 15-19'].cumsum()\n",
    "deaths_per_m['UtrF 2020 cum'] = deaths_per_m['UtrF 2020'].cumsum()\n",
    "deaths_per_m['InrF 15-19 cum'] = deaths_per_m['InrF 15-19'].cumsum()\n",
    "deaths_per_m['InrF 2020 cum'] = deaths_per_m['InrF 2020'].cumsum()\n",
    "deaths_per_m"
   ]
  },
  {
   "cell_type": "code",
   "execution_count": null,
   "metadata": {},
   "outputs": [],
   "source": [
    "tot_cum = deaths_per_m[['Tot 15-19','Tot 2020']].cumsum()\n",
    "tot_cum"
   ]
  },
  {
   "cell_type": "code",
   "execution_count": null,
   "metadata": {},
   "outputs": [],
   "source": [
    "cums = tot_cum.copy()\n",
    "tmp_cums = deaths_per_m.loc[:,'UtrF 15-19 cum' :]\n",
    "\n",
    "cums = pd.concat([tmp_cums,cums],axis=1)\n",
    "\n",
    "cums['UtrF_f'] = cums['UtrF 2020 cum'] / cums['UtrF 15-19 cum']\n",
    "cums['InrF_f'] = cums['InrF 2020 cum'] / cums['InrF 15-19 cum']\n",
    "cums['Tot_f'] = cums['Tot 2020'] / cums['Tot 15-19']\n",
    "\n",
    "cums"
   ]
  },
  {
   "cell_type": "code",
   "execution_count": null,
   "metadata": {},
   "outputs": [],
   "source": [
    "title = 'cumulative deaths per million, foreign vs native born'\n",
    "\n",
    "ax = deaths_per_m.plot(y=['UtrF 15-19 cum','UtrF 2020 cum','InrF 15-19 cum','InrF 2020 cum'],\n",
    "                 figsize=(18,12),style='o--')\n",
    "tot_cum.plot(ax=ax)\n",
    "plt.ylabel('deaths per million')\n",
    "plt.xlabel('week')\n",
    "plt.savefig('swe_deaths_per_m_foreign_native_cumulative.jpg',format='jpg')"
   ]
  },
  {
   "cell_type": "code",
   "execution_count": null,
   "metadata": {},
   "outputs": [],
   "source": [
    "tot_cum.plot(style='o--',figsize=(18,12))"
   ]
  },
  {
   "cell_type": "code",
   "execution_count": null,
   "metadata": {},
   "outputs": [],
   "source": [
    "utrf_cum_factor = deaths_per_m['UtrF 2020 cum'] / deaths_per_m['UtrF 15-19 cum']\n",
    "inrf_cum_factor = deaths_per_m['InrF 2020 cum'] / deaths_per_m['InrF 15-19 cum']\n",
    "tot_cum_factor = tot_cum['Tot 2020'] / tot_cum['Tot 15-19']\n",
    "cum_factor = pd.concat([utrf_cum_factor,inrf_cum_factor,tot_cum_factor],axis=1)\n",
    "cum_factor.columns = ['UtrF','InrF','Total']\n",
    "cum_factor"
   ]
  },
  {
   "cell_type": "code",
   "execution_count": null,
   "metadata": {
    "scrolled": false
   },
   "outputs": [],
   "source": [
    "title = 'SWEDEN weekly growth factors cumulative deaths per million 2020 vs 2015-2019, native & foregn born'\n",
    "ax = cum_factor.plot(figsize=(18,12),style='o--',title=title)\n",
    "plt.ylabel('growth factor')\n",
    "ax.axhline(1,color='k')"
   ]
  },
  {
   "cell_type": "code",
   "execution_count": null,
   "metadata": {},
   "outputs": [],
   "source": [
    "all_cums = (deaths_per_m[['UtrF 15-19 cum','InrF 15-19 cum','UtrF 2020 cum','InrF 2020 cum']]).copy()\n",
    "all_cums['Tot 15-19 cum'] = deaths_per_m['Tot 15-19'].cumsum()\n",
    "all_cums['Tot 2020 cum'] = deaths_per_m['Tot 2020'].cumsum()\n",
    "all_cums['f_UtrF'] = all_cums['UtrF 2020 cum'] / all_cums['UtrF 15-19 cum']\n",
    "all_cums['f_InfF'] = all_cums['InrF 2020 cum'] / all_cums['InrF 15-19 cum']\n",
    "all_cums['f_Tot'] = all_cums['Tot 2020 cum'] / all_cums['Tot 15-19 cum']\n",
    "all_cums"
   ]
  },
  {
   "cell_type": "code",
   "execution_count": null,
   "metadata": {},
   "outputs": [],
   "source": []
  },
  {
   "cell_type": "code",
   "execution_count": null,
   "metadata": {},
   "outputs": [],
   "source": [
    "scb_migrant_deaths = scb_migrant_deaths.loc[:last_good_data]"
   ]
  },
  {
   "cell_type": "code",
   "execution_count": null,
   "metadata": {},
   "outputs": [],
   "source": [
    "abs_sums = scb_migrant_deaths.loc[:last_good_data,'Tot 15-19':].sum()\n",
    "abs_sums"
   ]
  },
  {
   "cell_type": "code",
   "execution_count": null,
   "metadata": {},
   "outputs": [],
   "source": [
    "print (abs_sums['Tot 2020'] / abs_sums['Tot 15-19'])\n",
    "print (abs_sums['InrF 2020'] / abs_sums['InrF 15-19'])\n",
    "print (abs_sums['UtrF 2020'] / abs_sums['UtrF 15-19'])"
   ]
  },
  {
   "cell_type": "code",
   "execution_count": null,
   "metadata": {},
   "outputs": [],
   "source": [
    "print (pop_2015_2019)\n",
    "print (pop_2020)"
   ]
  },
  {
   "cell_type": "code",
   "execution_count": null,
   "metadata": {},
   "outputs": [],
   "source": [
    "pop_2020 / pop_2015_2019"
   ]
  },
  {
   "cell_type": "code",
   "execution_count": null,
   "metadata": {},
   "outputs": [],
   "source": [
    "abs_sums"
   ]
  },
  {
   "cell_type": "code",
   "execution_count": null,
   "metadata": {},
   "outputs": [],
   "source": [
    "tot_d_per_m_15_19 = abs_sums['Tot 15-19'] / (pop_2015_2019['total_pop'] / 1e6)\n",
    "tot_d_per_m_2020 = abs_sums['Tot 2020'] / (pop_2020['total_pop'] / 1e6)\n",
    "utrf_d_per_m_15_19 = abs_sums['UtrF 15-19'] /(pop_2015_2019['foreign_born'] / 1e6)\n",
    "utrf_d_per_m_2020 = abs_sums['UtrF 2020'] / (pop_2020['foreign_born'] / 1e6)\n",
    "inrf_d_per_m_15_19 = abs_sums['InrF 15-19'] / (pop_2015_2019['native_born'] / 1e6)\n",
    "inrf_d_per_m_2020 = abs_sums['InrF 2020'] / (pop_2020['native_born'] / 1e6)\n",
    "\n",
    "death_per_m_all = pd.DataFrame([tot_d_per_m_15_19,tot_d_per_m_2020,\n",
    "           utrf_d_per_m_15_19,utrf_d_per_m_2020,\n",
    "          inrf_d_per_m_15_19,inrf_d_per_m_2020],index=['tot 15-19','tot 2020',\n",
    "                                                      'utrf 15-19','utrf 2020',\n",
    "                                                      'inrf 15-19','inrf 2020'],columns=['dead_per_m'])\n",
    "\n",
    "death_per_m_all = death_per_m_all.T\n",
    "death_per_m_all"
   ]
  },
  {
   "cell_type": "code",
   "execution_count": null,
   "metadata": {},
   "outputs": [],
   "source": [
    "growth = pd.DataFrame()\n",
    "growth['tot'] = death_per_m_all['tot 2020'] / death_per_m_all['tot 15-19']\n",
    "growth['utrf'] = death_per_m_all['utrf 2020'] / death_per_m_all['utrf 15-19']\n",
    "growth['inrf'] = death_per_m_all['inrf 2020'] / death_per_m_all['inrf 15-19']\n",
    "growth"
   ]
  },
  {
   "cell_type": "code",
   "execution_count": null,
   "metadata": {},
   "outputs": [],
   "source": [
    "deaths_per_m.sum()"
   ]
  },
  {
   "cell_type": "code",
   "execution_count": null,
   "metadata": {},
   "outputs": [],
   "source": [
    "foo = scb_migrant_deaths.loc[:last_good_data,'Tot 15-19':]\n",
    "foo"
   ]
  },
  {
   "cell_type": "code",
   "execution_count": null,
   "metadata": {},
   "outputs": [],
   "source": [
    "(foo['Tot 15-19'] / (pop_2015_2019['total_pop'] / 1e6)).sum()"
   ]
  },
  {
   "cell_type": "code",
   "execution_count": null,
   "metadata": {},
   "outputs": [],
   "source": [
    "foo['Tot 15-19'].sum()"
   ]
  },
  {
   "cell_type": "code",
   "execution_count": null,
   "metadata": {},
   "outputs": [],
   "source": [
    "foo['Tot 15-19'].sum() / (pop_2015_2019['total_pop'] / 1e6)"
   ]
  },
  {
   "cell_type": "code",
   "execution_count": null,
   "metadata": {},
   "outputs": [],
   "source": [
    "(foo['Tot 15-19'] / (pop_2015_2019['total_pop'] / 1e6)).cumsum()"
   ]
  },
  {
   "cell_type": "code",
   "execution_count": null,
   "metadata": {},
   "outputs": [],
   "source": [
    "tot_15_19 = foo['Tot 15-19'].sum() / (pop_2015_2019['total_pop'] / 1e6)\n",
    "tot_2020 = foo['Tot 2020'].sum() / (pop_2020['total_pop'] / 1e6)\n",
    "\n",
    "inrf_15_19 = foo['InrF 15-19'].sum() /(pop_2015_2019['native_born'] / 1e6)\n",
    "inrf_2020 = foo['InrF 2020'].sum() /(pop_2020['native_born'] / 1e6)\n",
    "\n",
    "utrf_15_19 = foo['UtrF 15-19'].sum() / (pop_2015_2019['foreign_born'] / 1e6)\n",
    "utrf_2020 = foo['UtrF 2020'].sum() / (pop_2020['foreign_born'] / 1e6)\n",
    "\n",
    "print (tot_15_19)\n",
    "print (tot_2020)\n",
    "print (tot_2020 / tot_15_19)\n",
    "print()\n",
    "print (inrf_15_19)\n",
    "print (inrf_2020)\n",
    "print (inrf_2020 / inrf_15_19)\n",
    "print()\n",
    "print (utrf_15_19)\n",
    "print (utrf_2020)\n",
    "print (utrf_2020 / utrf_15_19)"
   ]
  },
  {
   "cell_type": "code",
   "execution_count": null,
   "metadata": {},
   "outputs": [],
   "source": [
    "df = pd.DataFrame({'A_pop' : [20,60],\n",
    "                  'B_pop' : [80,140],\n",
    "                  'A_dead' : [2,10],\n",
    "                  'B_dead' : [20,40]},index=['year1','year2'])\n",
    "\n",
    "df"
   ]
  },
  {
   "cell_type": "code",
   "execution_count": null,
   "metadata": {},
   "outputs": [],
   "source": [
    "df['A_mort'] = df['A_dead'] / df['A_pop']\n",
    "df['B_mort'] = df['B_dead'] / df['B_pop']\n",
    "df['tot_mort'] = (df['A_dead'] + df['B_dead']) / (df['A_pop'] + df['B_pop'])\n",
    "\n",
    "df"
   ]
  },
  {
   "cell_type": "code",
   "execution_count": null,
   "metadata": {},
   "outputs": [],
   "source": [
    "a_mort_factor = (df['A_mort'] / df['A_mort'].shift())['year2']\n",
    "b_mort_factor = (df['B_mort'] / df['B_mort'].shift())['year2']\n",
    "tot_mort_factor = (df['tot_mort'] / df['tot_mort'].shift())['year2']\n",
    "\n",
    "a_pop_factor = (df['A_pop'] / df['A_pop'].shift())['year2']\n",
    "b_pop_factor = (df['B_pop'] / df['B_pop'].shift())['year2']\n",
    "tot_pop_factor = ((df['A_pop'] + df['B_pop']) / ((df['A_pop'] + df['B_pop']).shift()))['year2']\n",
    "\n",
    "\n",
    "factors = pd.Series({'a_mort_factor': a_mort_factor,\n",
    "                           'b_mort_factor' : b_mort_factor,\n",
    "                           'tot_mort_factor' : tot_mort_factor,\n",
    "                    'a_pop_factor' : a_pop_factor,\n",
    "                    'b_pop_factor' : b_pop_factor,\n",
    "                    'tot_pop_factor' : tot_pop_factor})\n",
    "\n",
    "factors"
   ]
  },
  {
   "cell_type": "code",
   "execution_count": null,
   "metadata": {},
   "outputs": [],
   "source": [
    "pop_2020['total_pop']"
   ]
  }
 ],
 "metadata": {
  "kernelspec": {
   "display_name": "Python 3",
   "language": "python",
   "name": "python3"
  },
  "language_info": {
   "codemirror_mode": {
    "name": "ipython",
    "version": 3
   },
   "file_extension": ".py",
   "mimetype": "text/x-python",
   "name": "python",
   "nbconvert_exporter": "python",
   "pygments_lexer": "ipython3",
   "version": "3.8.6"
  }
 },
 "nbformat": 4,
 "nbformat_minor": 4
}
