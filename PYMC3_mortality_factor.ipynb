{
 "cells": [
  {
   "cell_type": "code",
   "execution_count": null,
   "metadata": {},
   "outputs": [],
   "source": [
    "import numpy as np\n",
    "import matplotlib.pyplot as plt\n",
    "import seaborn as sns\n",
    "import pandas as pd\n",
    "import pymc3 as pm\n",
    "import arviz as az\n",
    "\n",
    "sns.set()"
   ]
  },
  {
   "cell_type": "code",
   "execution_count": null,
   "metadata": {},
   "outputs": [],
   "source": [
    "dick = pd.read_pickle('country_data.pkl')\n",
    "dick['Sweden']"
   ]
  },
  {
   "cell_type": "code",
   "execution_count": null,
   "metadata": {},
   "outputs": [],
   "source": [
    "pop = pd.read_csv('world_pop.csv',sep=';',thousands=',',header=None,index_col=0,names=['pop'])\n",
    "pop\n"
   ]
  },
  {
   "cell_type": "code",
   "execution_count": null,
   "metadata": {},
   "outputs": [],
   "source": []
  },
  {
   "cell_type": "code",
   "execution_count": null,
   "metadata": {
    "scrolled": false
   },
   "outputs": [],
   "source": [
    "df = pd.DataFrame()\n",
    "\n",
    "for k,v in dick.items():\n",
    "    temp = pd.DataFrame(v)\n",
    "    temp['country'] = k\n",
    "    \n",
    "    df = pd.concat([df,temp])\n",
    "    \n",
    "df.drop(['conf_over_dead','dead_conf_ratio'],axis=1,inplace=True)"
   ]
  },
  {
   "cell_type": "code",
   "execution_count": null,
   "metadata": {},
   "outputs": [],
   "source": [
    "mask = (df['confirmed'] > 1000) & (df['deceased'] > 100)\n",
    "df = df[mask]\n",
    "\n",
    "df"
   ]
  },
  {
   "cell_type": "code",
   "execution_count": null,
   "metadata": {},
   "outputs": [],
   "source": [
    "df = df.merge(pop,left_on='country',right_index=True)\n",
    "df"
   ]
  },
  {
   "cell_type": "code",
   "execution_count": null,
   "metadata": {
    "scrolled": false
   },
   "outputs": [],
   "source": [
    "unique_countries = list(df['country'].unique())\n",
    "\n",
    "country_idx_dict = dict(zip(unique_countries,range(len(unique_countries))))\n",
    "\n",
    "country_idx_dict"
   ]
  },
  {
   "cell_type": "code",
   "execution_count": null,
   "metadata": {},
   "outputs": [],
   "source": []
  },
  {
   "cell_type": "code",
   "execution_count": null,
   "metadata": {},
   "outputs": [],
   "source": [
    "df['country_idx'] = df['country'].apply(lambda x : country_idx_dict[x])\n",
    "\n",
    "df['dead_inc'] = df['dead_inc'].apply(lambda x : x if x >= 0 else 0)\n",
    "df['confirmed'] = df['confirmed'].apply(lambda x : x if x >= 0 else 0)\n",
    "df['inc'] = df['inc'].apply(lambda x : x if x >= 0 else 0)\n",
    "df['deceased'] = df['deceased'].apply(lambda x : x if x >= 0 else 0)\n",
    "\n",
    "df['dead_per_M'] = df['deceased'] / (df['pop'] / 1e6)\n",
    "df['conf_per_M'] = df['confirmed'] / (df['pop'] / 1e6)\n",
    "\n",
    "df\n"
   ]
  },
  {
   "cell_type": "code",
   "execution_count": null,
   "metadata": {},
   "outputs": [],
   "source": [
    "df.loc[df['country'] == 'Sweden']"
   ]
  },
  {
   "cell_type": "code",
   "execution_count": null,
   "metadata": {
    "scrolled": false
   },
   "outputs": [],
   "source": [
    "model = pm.Model()\n",
    "\n",
    "pop = df['pop'].values\n",
    "x = df['conf_per_M'].values\n",
    "y = df['dead_per_M'].values\n",
    "\n",
    "country_idx = df['country_idx'].values\n",
    "\n",
    "with model:\n",
    "    \n",
    "    \n",
    "    F_mu = pm.Uniform('F_mu',lower=1.1,upper=5)\n",
    "    F_sigma = pm.Uniform('F_sigma',lower=0.1,upper=0.9)\n",
    "    \n",
    "\n",
    "    M_alpha = pm.Uniform('M_alpha',lower=1,upper=10)\n",
    "    M_beta = pm.Uniform ('M_beta',lower=500,upper=1000)\n",
    "\n",
    "    F = pm.Lognormal('F',mu=F_mu, sd=F_sigma,shape=len(unique_countries)) \n",
    "\n",
    "    M = pm.Beta('M',alpha=M_alpha,beta=M_beta,shape=len(unique_countries))\n",
    "    \n",
    "    gen_dead = x * M[country_idx] * F[country_idx]    \n",
    "    \n",
    "    obs = pm.Poisson('obs', gen_dead,observed=y)\n",
    "    \n",
    "    step1 = pm.Metropolis()\n",
    "    \n",
    "    trace = pm.sample(1000,tune=1000,chains=2,cores=2,target_accept=0.99)\n",
    "\n",
    "    result = pm.trace_to_dataframe(trace)\n",
    "    summary = az.summary(trace,hdi_prob=0.89,stat_funcs=[np.median])\n"
   ]
  },
  {
   "cell_type": "code",
   "execution_count": null,
   "metadata": {},
   "outputs": [],
   "source": [
    "summary"
   ]
  },
  {
   "cell_type": "code",
   "execution_count": null,
   "metadata": {
    "scrolled": false
   },
   "outputs": [],
   "source": [
    "with model:\n",
    "    az.plot_trace(trace)"
   ]
  },
  {
   "cell_type": "code",
   "execution_count": null,
   "metadata": {},
   "outputs": [],
   "source": [
    "ppc = pm.sample_posterior_predictive(trace,samples=200,model=model)"
   ]
  },
  {
   "cell_type": "code",
   "execution_count": null,
   "metadata": {},
   "outputs": [],
   "source": [
    "ppc['obs'].shape"
   ]
  },
  {
   "cell_type": "code",
   "execution_count": null,
   "metadata": {},
   "outputs": [],
   "source": [
    "data_ppc = az.from_pymc3(trace,model=model,posterior_predictive=ppc)\n",
    "az.plot_ppc(data_ppc)"
   ]
  },
  {
   "cell_type": "code",
   "execution_count": null,
   "metadata": {},
   "outputs": [],
   "source": [
    "mean = result.describe().loc['mean','M__0': 'M__100'].mean()\n",
    "print (mean)"
   ]
  },
  {
   "cell_type": "code",
   "execution_count": null,
   "metadata": {},
   "outputs": [],
   "source": [
    "result.describe().loc['mean','M__88']"
   ]
  },
  {
   "cell_type": "code",
   "execution_count": null,
   "metadata": {
    "scrolled": false
   },
   "outputs": [],
   "source": [
    "result.describe().loc['mean','M__0':'M__100'].plot(figsize=(18,12),kind='bar',\n",
    "                                                   title='Estimated COVID-mortality rate [Infection Mortality Rate]')\n",
    "\n",
    "_= plt.xticks(range(len(unique_countries)),unique_countries,rotation=90)\n",
    "\n",
    "plt.ylabel('mortality rate')\n",
    "\n",
    "plt.axhline(mean,color='r',ls='dashed')"
   ]
  },
  {
   "cell_type": "code",
   "execution_count": null,
   "metadata": {},
   "outputs": [],
   "source": [
    "result_F = result.loc[:,'F__0' : 'F__100']\n",
    "result_M = result.loc[:,'M__0' : 'M__100']\n",
    "result_F.columns=unique_countries\n",
    "result_M.columns = unique_countries\n",
    "result_M.describe()"
   ]
  },
  {
   "cell_type": "code",
   "execution_count": null,
   "metadata": {},
   "outputs": [],
   "source": []
  },
  {
   "cell_type": "code",
   "execution_count": null,
   "metadata": {},
   "outputs": [],
   "source": [
    "def plot(df,country_name):\n",
    "    \n",
    "    CI = np.percentile(df,[5.5,94.5])\n",
    "    \n",
    "    ax = df[country_name].plot(kind='hist',title='COVID Estimated IFR {}'.format(country_name.upper()),\n",
    "                          density=True,bins=np.arange(0,0.03,0.001),color='yellow',alpha=0.7)\n",
    "    \n",
    "    ax.axvline(CI[0],color='orange',ls='dashed',label='CI-89%')\n",
    "    ax.axvline(CI[1],color='orange',ls='dashed')\n",
    "    \n",
    "    ax.axvline(df[country_name].mean(),color='g',label='mean: {:.4f}'.format(df[country_name].mean()))\n",
    "    ax.axvline(df[country_name].median(),color='r',label='median: {:.4f}'.format(df[country_name].median()))\n",
    "    ax.set_xlabel('Estimated IFR')\n",
    "    ax.set_ylabel('Probability Density')\n",
    "    \n",
    "    ax.legend(loc='lower right')\n",
    "    \n",
    "    dist = result_M[country_name].sort_values() / result_M[country_name].sum()\n",
    "\n",
    "    ax2 = plt.twinx()\n",
    "    ax2.plot(result_M[country_name].sort_values(),dist.cumsum(),ls='dashed',color='k')\n",
    "    ax2.set_ylabel('cumulative probability')"
   ]
  },
  {
   "cell_type": "code",
   "execution_count": null,
   "metadata": {
    "scrolled": false
   },
   "outputs": [],
   "source": [
    "countries = ['Sweden','United Kingdom','US','Argentina','Peru','Australia',\n",
    "            'Belgium','Denmark','Finland','Norway','Germany','Austria','Italy','Spain']\n",
    "\n",
    "for c in countries:\n",
    "    plt.figure()\n",
    "    plot(result_M,c)"
   ]
  },
  {
   "cell_type": "code",
   "execution_count": null,
   "metadata": {},
   "outputs": [],
   "source": [
    "summary"
   ]
  },
  {
   "cell_type": "code",
   "execution_count": null,
   "metadata": {},
   "outputs": [],
   "source": [
    "plt.plot(trace['M'][88],trace['F'][88],'o')"
   ]
  }
 ],
 "metadata": {
  "kernelspec": {
   "display_name": "Python 3",
   "language": "python",
   "name": "python3"
  },
  "language_info": {
   "codemirror_mode": {
    "name": "ipython",
    "version": 3
   },
   "file_extension": ".py",
   "mimetype": "text/x-python",
   "name": "python",
   "nbconvert_exporter": "python",
   "pygments_lexer": "ipython3",
   "version": "3.8.5"
  }
 },
 "nbformat": 4,
 "nbformat_minor": 4
}
