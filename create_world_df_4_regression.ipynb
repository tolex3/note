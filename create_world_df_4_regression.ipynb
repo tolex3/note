{
 "cells": [
  {
   "cell_type": "code",
   "execution_count": null,
   "metadata": {},
   "outputs": [],
   "source": [
    "import pandas as pd\n",
    "import numpy as np\n",
    "import matplotlib.pyplot as plt\n",
    "import seaborn as sns\n",
    "\n",
    "sns.set()"
   ]
  },
  {
   "cell_type": "code",
   "execution_count": null,
   "metadata": {},
   "outputs": [],
   "source": [
    "df = pd.read_pickle('country_data.pkl')\n",
    "all_countries = pd.DataFrame()\n",
    "\n",
    "for c,v in df.items():\n",
    "    temp = pd.DataFrame({c:v.iloc[-1,:]}).T\n",
    "    all_countries = all_countries.append(temp)\n",
    "\n",
    "all_countries.loc['UK',:] = all_countries.loc['United Kingdom',:]\n",
    "all_countries.drop(['conf_over_dead','dead_conf_ratio'],axis=1,inplace=True)\n",
    "mask = all_countries['deceased'] > 0\n",
    "all_countries = all_countries[mask]\n",
    "\n",
    "all_countries['conf_log'] = np.log10(all_countries['confirmed'])\n",
    "all_countries['dead_log'] = np.log10(all_countries['deceased'])\n",
    "\n",
    "all_countries"
   ]
  },
  {
   "cell_type": "code",
   "execution_count": null,
   "metadata": {
    "scrolled": false
   },
   "outputs": [],
   "source": [
    "world_facts = pd.read_csv('world_density.csv',sep=';',usecols=[1,2,4,5],index_col=0)\n",
    "world_facts['pop2020'] *= 1000 # uses dot a thousand separator\n",
    "world_facts"
   ]
  },
  {
   "cell_type": "code",
   "execution_count": null,
   "metadata": {},
   "outputs": [],
   "source": [
    "def strip(x):\n",
    "    return x.replace('$','').replace(',','')\n",
    "\n",
    "world_gdp = pd.read_csv('world_gdp.csv',sep=';',header=None,usecols=[1,6],\n",
    "                        converters={'GDPpc': strip},names=['state','GDPpc'],index_col='state')\n",
    "\n",
    "world_gdp['GDPpc'] = world_gdp['GDPpc'].astype(int)\n",
    "world_facts = world_facts.join(world_gdp)\n",
    "world_facts.rename(columns={'GDPpc' : 'gdp'},inplace=True)\n",
    "world_facts.loc['US',:] = world_facts.loc['United States',:]\n",
    "world_facts.loc['UK',:] = world_facts.loc['United Kingdom',:]\n",
    "world_facts.loc['UK']"
   ]
  },
  {
   "cell_type": "code",
   "execution_count": null,
   "metadata": {},
   "outputs": [],
   "source": [
    "world_age = pd.read_csv('world_median_age.csv',sep=r'\\t',header=None,\n",
    "                        usecols=[1,2],index_col=0,names=['state','median_age'],engine='python')\n",
    "\n",
    "world_facts = world_facts.join(world_age)\n",
    "world_facts.loc['US']"
   ]
  },
  {
   "cell_type": "code",
   "execution_count": null,
   "metadata": {},
   "outputs": [],
   "source": [
    "abb = pd.read_csv('country_abb.csv',sep=';',header=None,index_col=1,names=['abb','state'])\n",
    "world_facts = world_facts.join(abb)\n",
    "\n",
    "all_countries = all_countries.join(world_facts)\n",
    "all_countries['density_log'] = np.log10(all_countries['density'])\n",
    "all_countries['gdp_log'] = np.log10(all_countries['gdp'])\n",
    "\n",
    "all_countries.dropna(inplace=True)\n",
    "all_countries.sort_values('median_age',inplace=True)\n",
    "all_countries.sort_values('median_age')"
   ]
  },
  {
   "cell_type": "code",
   "execution_count": null,
   "metadata": {},
   "outputs": [],
   "source": [
    "all_countries.describe()"
   ]
  },
  {
   "cell_type": "code",
   "execution_count": null,
   "metadata": {},
   "outputs": [],
   "source": [
    "import scipy.stats as sps\n",
    "\n",
    "all_countries['GDP_tot'] = all_countries['gdp'] * all_countries['pop2020']\n",
    "\n",
    "slope,intercept,_,_,_ = sps.linregress(range(len(all_countries['gdp'])),all_countries['gdp'])\n",
    "all_countries.sort_values('GDP_tot',ascending=False,inplace=True)\n",
    "\n",
    "all_countries"
   ]
  },
  {
   "cell_type": "code",
   "execution_count": null,
   "metadata": {
    "scrolled": false
   },
   "outputs": [],
   "source": [
    "quartiles = np.percentile(all_countries['gdp'],[25,50,75])\n",
    "print (quartiles)\n",
    "\n",
    "plt.figure(figsize=(36,24))\n",
    "ax = plt.gca()\n",
    "ax2 = plt.twinx()\n",
    "\n",
    "plt.title('World Economic unequality - GDP by country')\n",
    "ax.bar(all_countries.index,(all_countries['GDP_tot']),label='GDP')\n",
    "ax.set_xticklabels(all_countries.index,rotation=90)\n",
    "\n",
    "cumsum = all_countries['GDP_tot'].cumsum()\n",
    "cumsum_deciles = pd.DataFrame(cumsum.quantile(np.arange(0,1.1,0.1)))\n",
    "cumsum_deciles['pct'] = cumsum_deciles['GDP_tot'] / cumsum_deciles['GDP_tot'].iloc[-1]\n",
    "print (cumsum_deciles)\n",
    "\n",
    "(cumsum / cumsum.iloc[-1]).plot(ax=ax2,label='GDP cumulative',color='r')\n",
    "\n",
    "ax.legend(loc='upper left')\n",
    "ax2.legend(loc='upper right')\n",
    "\n",
    "max_gdp_idx = all_countries['gdp'].argmax()\n",
    "print (all_countries.iloc[max_gdp_idx])\n",
    "\n"
   ]
  },
  {
   "cell_type": "code",
   "execution_count": null,
   "metadata": {},
   "outputs": [],
   "source": [
    "#Gini index\n",
    "\n",
    "def capitalize(x):\n",
    "    if x not in ['US', 'UK']:\n",
    "        return x.lower().capitalize()\n",
    "    else:\n",
    "        return x\n",
    "\n",
    "gini = pd.read_csv('gini_index.csv',sep=';',header=None,usecols=[1,2],converters={1:capitalize})\n",
    "gini.rename(columns={1:'state',\n",
    "                    2:'gini'},inplace=True)\n",
    "gini.set_index('state',inplace=True)\n",
    "\n",
    "all_countries = all_countries.join(gini)\n"
   ]
  },
  {
   "cell_type": "code",
   "execution_count": null,
   "metadata": {},
   "outputs": [],
   "source": [
    "all_countries['gini'].isna().sum()"
   ]
  },
  {
   "cell_type": "code",
   "execution_count": null,
   "metadata": {},
   "outputs": [],
   "source": [
    "cats = 4\n",
    "\n",
    "gdp_cat = pd.qcut(all_countries['gdp'],q=cats,labels=range(1,cats + 1))\n",
    "all_countries['gdp_cat'] = gdp_cat\n",
    "\n",
    "#all_countries = (all_countries.loc[all_countries['gdp_cat'] >= 9]).copy()\n",
    "all_countries"
   ]
  },
  {
   "cell_type": "code",
   "execution_count": null,
   "metadata": {
    "scrolled": true
   },
   "outputs": [],
   "source": [
    "all_countries.describe()"
   ]
  },
  {
   "cell_type": "code",
   "execution_count": null,
   "metadata": {},
   "outputs": [],
   "source": [
    "all_countries.to_pickle('world_facts.pkl')\n"
   ]
  },
  {
   "cell_type": "code",
   "execution_count": null,
   "metadata": {},
   "outputs": [],
   "source": [
    "plt.figure(figsize=(18,12))\n",
    "sns.violinplot(data=all_countries,inner='box',x='gdp_cat',y='gdp',scale='count')"
   ]
  },
  {
   "cell_type": "code",
   "execution_count": null,
   "metadata": {},
   "outputs": [],
   "source": [
    "all_countries.loc['Sweden']"
   ]
  }
 ],
 "metadata": {
  "kernelspec": {
   "display_name": "Python 3",
   "language": "python",
   "name": "python3"
  },
  "language_info": {
   "codemirror_mode": {
    "name": "ipython",
    "version": 3
   },
   "file_extension": ".py",
   "mimetype": "text/x-python",
   "name": "python",
   "nbconvert_exporter": "python",
   "pygments_lexer": "ipython3",
   "version": "3.8.5"
  }
 },
 "nbformat": 4,
 "nbformat_minor": 4
}
