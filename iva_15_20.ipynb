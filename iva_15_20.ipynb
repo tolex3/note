{
 "cells": [
  {
   "cell_type": "code",
   "execution_count": null,
   "metadata": {},
   "outputs": [],
   "source": [
    "#### depends on :\n",
    "#### - iva_occupacy*.xlsx : https://portal.icuregswe.org/utdata/sv/report/prod.belaggning - \n",
    "##  update iva_occupacy_2020_YTD\n",
    "\n",
    "#### - iva.xlxs : https://portal.icuregswe.org/utdata/sv/report/demo.antalvtf ; select years 2015-2020\n",
    "#### - gruppera på månad\n",
    "\n",
    "#### - iva_age_2020.xlsx : https://portal.icuregswe.org/utdata/sv/report/demo.alder-kon ; select 2020\n",
    "#### - iva_days*.xlsx : https://portal.icuregswe.org/utdata/sv/report/prod.vardtid-grupp ; select 2020\n",
    "#### - iva_icd_codes_2020.xlsx : https://portal.icuregswe.org/utdata/sv/report/prod.diagnoser-antal select 2020 \n",
    "\n",
    "import numpy as np\n",
    "import matplotlib.pyplot as plt\n",
    "import seaborn as sns\n",
    "import pandas as pd\n",
    "\n",
    "sns.set()"
   ]
  },
  {
   "cell_type": "code",
   "execution_count": null,
   "metadata": {},
   "outputs": [],
   "source": [
    "#### PARAM : when new data has been downloaded to iva_occupacy_2020_YTD, set param to True. Run ONCE, then set \n",
    "#### param to False until next time new data has been downloaded.\n",
    "\n",
    "READ_NEW_DATA = False"
   ]
  },
  {
   "cell_type": "code",
   "execution_count": null,
   "metadata": {},
   "outputs": [],
   "source": [
    "#https://portal.icuregswe.org/utdata/sv/report/prod.belaggning\n",
    "\n",
    "def read_beds(filename,sheetname):\n",
    "    df = pd.read_excel(filename,sheet_name=sheetname,skiprows=1,\n",
    "                        parse_dates=True,index_col=0)\n",
    "    \n",
    "    return df"
   ]
  },
  {
   "cell_type": "code",
   "execution_count": null,
   "metadata": {},
   "outputs": [],
   "source": [
    "def iva_datetime_idx(df):\n",
    "    \n",
    "    def to_eng_month(m):\n",
    "        class MonthError(Exception):\n",
    "            pass\n",
    "    \n",
    "        if m == 'Januari' : return 'January'\n",
    "        if m == 'Februari' : return 'February'\n",
    "        if m == 'Mars' : return 'March'\n",
    "        if m == 'April' : return 'April'\n",
    "        if m == 'Maj' : return 'May'\n",
    "        if m == 'Juni' : return 'June'\n",
    "        if m == 'Juli' : return 'July'\n",
    "        if m == 'Augusti' : return 'August'\n",
    "        if m == 'September' : return 'September'\n",
    "        if m == 'Oktober' : return 'October'\n",
    "        if m == 'November' : return 'November'\n",
    "        if m == 'December' : return 'December'\n",
    "    \n",
    "        raise MonthError('cant translate {}'.format(m))\n",
    "    \n",
    "    df[['month','year']] = df['Månad'].str.split(' ',expand=True)\n",
    "\n",
    "    df['month'] = df['month'].apply(to_eng_month)\n",
    "    \n",
    "    idx = pd.date_range('2015-01-01',freq='M',periods=len(df))\n",
    "    df.index = idx\n",
    "    \n",
    "    return df"
   ]
  },
  {
   "cell_type": "code",
   "execution_count": null,
   "metadata": {},
   "outputs": [],
   "source": [
    "#### previous years ####\n",
    "df_beds_15 = read_beds('iva_occupacy_15.xlsx','Utdataportalen')\n",
    "df_beds_16 = read_beds('iva_occupacy_16.xlsx','Utdataportalen')\n",
    "df_beds_17 = read_beds('iva_occupacy_17.xlsx','Utdataportalen')\n",
    "df_beds_18 = read_beds('iva_occupacy_18.xlsx','Utdataportalen')\n",
    "df_beds_19 = read_beds('iva_occupacy_19.xlsx','Utdataportalen')"
   ]
  },
  {
   "cell_type": "code",
   "execution_count": null,
   "metadata": {},
   "outputs": [],
   "source": [
    "#### update with 2020 fresh data\n",
    "\n",
    "df_beds_YTD = pd.concat([df_beds_15,df_beds_16,df_beds_17,df_beds_18,df_beds_19])\n",
    "\n",
    "# drop previous 2020 data\n",
    "#df_beds_YTD = df_beds_YTD[~(df_beds_YTD.index.year==2020)]\n",
    "\n",
    "df_beds_2020_YTD = read_beds('iva_occupacy_2020_YTD.xlsx','Utdataportalen')\n",
    "df_beds_YTD = pd.concat([df_beds_YTD,df_beds_2020_YTD])\n",
    "\n",
    "df_beds_YTD"
   ]
  },
  {
   "cell_type": "code",
   "execution_count": null,
   "metadata": {},
   "outputs": [],
   "source": [
    "df_beds_YTD.describe()"
   ]
  },
  {
   "cell_type": "code",
   "execution_count": null,
   "metadata": {},
   "outputs": [],
   "source": [
    "df_beds_YTD.info()"
   ]
  },
  {
   "cell_type": "code",
   "execution_count": null,
   "metadata": {},
   "outputs": [],
   "source": [
    "last_timestamp = df_beds_YTD.iloc[-1].name\n",
    "back_2_months = last_timestamp - pd.DateOffset(months=2)\n",
    "last_timestamp"
   ]
  },
  {
   "cell_type": "code",
   "execution_count": null,
   "metadata": {},
   "outputs": [],
   "source": [
    "#stored_beds = stored_beds[pd.Timestamp('2020-12-02').date()]\n"
   ]
  },
  {
   "cell_type": "code",
   "execution_count": null,
   "metadata": {},
   "outputs": [],
   "source": [
    "#stored_beds.to_pickle('iva_stored_beds.pkl')"
   ]
  },
  {
   "cell_type": "code",
   "execution_count": null,
   "metadata": {},
   "outputs": [],
   "source": [
    "stored_beds = pd.read_pickle('iva_stored_beds.pkl')\n"
   ]
  },
  {
   "cell_type": "code",
   "execution_count": null,
   "metadata": {},
   "outputs": [],
   "source": [
    "if READ_NEW_DATA:\n",
    "    new_data = df_beds_YTD.resample('D').mean()\n",
    "    new_data.rename(columns={'Platser' : last_timestamp.date()},inplace=True)\n",
    "    stored_beds = pd.concat([stored_beds,new_data],axis=1)\n",
    "    stored_beds.to_pickle('iva_stored_beds.pkl')\n"
   ]
  },
  {
   "cell_type": "code",
   "execution_count": null,
   "metadata": {},
   "outputs": [],
   "source": [
    "\n",
    "\n",
    "stored_beds"
   ]
  },
  {
   "cell_type": "code",
   "execution_count": null,
   "metadata": {},
   "outputs": [],
   "source": [
    "\n",
    "title = \"SWE ICU beds diff between data pulls\"\n",
    "\n",
    "stored_beds.plot(figsize=(18,12),title=title)\n",
    "plt.savefig('swe_iva_bed_update_diff_full.jpg',format='jpg')"
   ]
  },
  {
   "cell_type": "code",
   "execution_count": null,
   "metadata": {},
   "outputs": [],
   "source": [
    "# zoom into the last two months\n",
    "\n",
    "\n",
    "title = \"SWE ICU beds diff between data pulls\"\n",
    "stored_beds[back_2_months:].plot(style='o--',figsize=(18,12),title=title)\n",
    "plt.ylabel('nr of beds occupied')\n",
    "plt.savefig('swe_iva_bed_update_diff.jpg',format='jpg')"
   ]
  },
  {
   "cell_type": "code",
   "execution_count": null,
   "metadata": {},
   "outputs": [],
   "source": [
    "if READ_NEW_DATA:\n",
    "\n",
    "    stored_beds = np.round(stored_beds)\n",
    "    stored_beds = stored_beds.replace(np.nan,0)\n",
    "    stored_beds = stored_beds.astype(int)\n",
    "    print (stored_beds)"
   ]
  },
  {
   "cell_type": "code",
   "execution_count": null,
   "metadata": {},
   "outputs": [],
   "source": [
    "if READ_NEW_DATA:\n",
    "\n",
    "    latest = stored_beds.iloc[:,-1]\n",
    "    old = stored_beds.iloc[:,:-1]\n",
    "\n"
   ]
  },
  {
   "cell_type": "code",
   "execution_count": null,
   "metadata": {
    "scrolled": false
   },
   "outputs": [],
   "source": [
    "\n",
    "if READ_NEW_DATA:\n",
    "\n",
    "    old_cols = old.columns\n",
    "    old_cols\n",
    "\n",
    "    for col in old_cols:\n",
    "        mask = latest != old[col]\n",
    "        diff = latest[mask].sub(old[col][mask],axis=0)\n",
    "        print (col, ': dates with diffs > 15 (~5%) from old records\\n',diff[diff > 15])"
   ]
  },
  {
   "cell_type": "code",
   "execution_count": null,
   "metadata": {},
   "outputs": [],
   "source": []
  },
  {
   "cell_type": "code",
   "execution_count": null,
   "metadata": {},
   "outputs": [],
   "source": [
    "last_date = df_beds_YTD.index[-1]\n",
    "print (last_date)\n",
    "last_good_date = last_date - pd.DateOffset(days=0)\n",
    "last_good_date"
   ]
  },
  {
   "cell_type": "code",
   "execution_count": null,
   "metadata": {},
   "outputs": [],
   "source": [
    "df_beds_YTD = df_beds_YTD.loc[:last_good_date]\n",
    "df_beds_YTD"
   ]
  },
  {
   "cell_type": "code",
   "execution_count": null,
   "metadata": {},
   "outputs": [],
   "source": [
    "new_year_eve = (df_beds_YTD.index.month == 12) & (df_beds_YTD.index.day == 31) & \\\n",
    "                                                 (df_beds_YTD.index.hour == 23) & \\\n",
    "                                                (df_beds_YTD.index.minute == 59)\n",
    "df_beds_YTD[new_year_eve]"
   ]
  },
  {
   "cell_type": "code",
   "execution_count": null,
   "metadata": {},
   "outputs": [],
   "source": [
    "avg_daily_beds = df_beds_YTD.resample('D').mean()\n",
    "avg_daily_beds"
   ]
  },
  {
   "cell_type": "code",
   "execution_count": null,
   "metadata": {
    "scrolled": false
   },
   "outputs": [],
   "source": [
    "avg_daily_beds_15_19  = avg_daily_beds.loc[:'2019-12-31'].groupby(\n",
    "    [avg_daily_beds.loc[:'2019-12-31'].index.month,avg_daily_beds.loc[:'2019-12-31'].index.day]).mean()\n",
    "\n",
    "print (avg_daily_beds_15_19[(avg_daily_beds_15_19.index.get_level_values(0) == 2) \\\n",
    "                     & (avg_daily_beds_15_19.index.get_level_values(1) == 29)])\n",
    "\n",
    "avg_daily_beds_15_19_no_leap = avg_daily_beds_15_19.drop((2,29),axis=0)\n",
    "avg_daily_beds_15_19_no_leap"
   ]
  },
  {
   "cell_type": "code",
   "execution_count": null,
   "metadata": {},
   "outputs": [],
   "source": [
    "yearly_day_avg = pd.concat([avg_daily_beds_15_19_no_leap['Platser'].reset_index(drop=True),\n",
    "                            avg_daily_beds_15_19['Platser'].reset_index(drop=True),\n",
    "                            pd.Series(np.tile(avg_daily_beds_15_19_no_leap['Platser'].reset_index(drop=True),3)),\n",
    "                           avg_daily_beds_15_19['Platser'].reset_index(drop=True)])\n",
    "                            \n",
    "yearly_day_avg \n"
   ]
  },
  {
   "cell_type": "code",
   "execution_count": null,
   "metadata": {},
   "outputs": [],
   "source": [
    "idx = pd.date_range('2015-01-01','2020-12-31',freq='D')"
   ]
  },
  {
   "cell_type": "code",
   "execution_count": null,
   "metadata": {},
   "outputs": [],
   "source": [
    "yearly_day_avg.index = idx\n",
    "yearly_day_avg"
   ]
  },
  {
   "cell_type": "code",
   "execution_count": null,
   "metadata": {},
   "outputs": [],
   "source": [
    "title = 'SWEDEN ICU avg daily occupancy 2015 - YTD {} cmp daily average 2015-2019'.format(last_good_date.date())\n",
    "ax = yearly_day_avg.plot(figsize=(18,12),color='orange',title=title)\n",
    "avg_daily_beds.plot(ax=ax)\n",
    "\n",
    "plt.legend(['2015-2019 average per day of year','actuals'])\n",
    "plt.ylabel('occupancy')\n",
    "plt.xlabel('date')\n",
    "plt.ylim([0,750])\n",
    "plt.savefig('swe_iva_2015-2020_ytd.jpg',format='jpg')"
   ]
  },
  {
   "cell_type": "code",
   "execution_count": null,
   "metadata": {},
   "outputs": [],
   "source": [
    "500/350"
   ]
  },
  {
   "cell_type": "code",
   "execution_count": null,
   "metadata": {},
   "outputs": [],
   "source": [
    "avg_daily_beds"
   ]
  },
  {
   "cell_type": "code",
   "execution_count": null,
   "metadata": {},
   "outputs": [],
   "source": [
    "ax = yearly_day_avg.loc['2020-11-01' : '2020-11-30'].plot(figsize=(18,12),label='baseline',color='orange')\n",
    "avg_daily_beds.loc['2020-11-01' : '2020-11-30','Platser'].plot(color='b',ax=ax,label='2020')\n",
    "plt.ylim([0,600])\n",
    "plt.legend(loc='upper left')"
   ]
  },
  {
   "cell_type": "code",
   "execution_count": null,
   "metadata": {},
   "outputs": [],
   "source": [
    "nov_2020_beds = avg_daily_beds.loc['2020-11-01' : '2020-11-30','Platser']\n",
    "nov_baseline_beds = yearly_day_avg.loc['2020-11-01' : '2020-11-30']\n",
    "\n",
    "pct_diff = nov_2020_beds / nov_baseline_beds\n",
    "pct_diff"
   ]
  },
  {
   "cell_type": "code",
   "execution_count": null,
   "metadata": {},
   "outputs": [],
   "source": [
    "title = 'SWEDEN Growth factor ICU daily avg. occupacy Nov 2020 vs Nov baseline 2015-2019\\nDataSource : Svenska Intensivvårdsregistret'\n",
    "pct_diff.plot(figsize=(18,12),title=title,style='o--')\n",
    "plt.axhline(1,ls='dashed',color='k')\n",
    "plt.ylabel('Growth factor')\n",
    "plt.savefig('swe_icu_november_growth.jpg',format='jpg')"
   ]
  },
  {
   "cell_type": "code",
   "execution_count": null,
   "metadata": {},
   "outputs": [],
   "source": [
    "avg_weekly_beds = avg_daily_beds.resample('W').mean()\n",
    "avg_weekly_beds"
   ]
  },
  {
   "cell_type": "code",
   "execution_count": null,
   "metadata": {},
   "outputs": [],
   "source": [
    "last_week = avg_weekly_beds.index[-2].date()\n",
    "\n",
    "title = 'SWEDEN weekly avg daily ICU bed usage YTD {}'.format(last_week)\n",
    "avg_weekly_beds[:last_week].plot(figsize=(18,12),style='o--',title=title)\n",
    "plt.ylabel('avg daily ICU beds per week')\n",
    "plt.savefig('iva_avg_daily_beds_per_week.jpg',format='jpg')"
   ]
  },
  {
   "cell_type": "code",
   "execution_count": null,
   "metadata": {},
   "outputs": [],
   "source": [
    "df_icu_transactions = pd.read_excel('iva.xlsx',sheet_name='Utdataportalen',skiprows=1)"
   ]
  },
  {
   "cell_type": "code",
   "execution_count": null,
   "metadata": {},
   "outputs": [],
   "source": [
    "iva_trans = iva_datetime_idx(df_icu_transactions)\n",
    "iva_trans"
   ]
  },
  {
   "cell_type": "code",
   "execution_count": null,
   "metadata": {},
   "outputs": [],
   "source": [
    "avg_daily_beds"
   ]
  },
  {
   "cell_type": "code",
   "execution_count": null,
   "metadata": {},
   "outputs": [],
   "source": [
    "yearly_beds = avg_daily_beds.groupby(avg_daily_beds.index.year)"
   ]
  },
  {
   "cell_type": "code",
   "execution_count": null,
   "metadata": {},
   "outputs": [],
   "source": [
    "beds_2015_ytd = (yearly_beds.get_group(2015)).loc[:last_good_date].sum()\n",
    "beds_2016_ytd = (yearly_beds.get_group(2016)).loc[:last_good_date].sum()\n",
    "beds_2017_ytd = (yearly_beds.get_group(2017)).loc[:last_good_date].sum()\n",
    "beds_2018_ytd = (yearly_beds.get_group(2018)).loc[:last_good_date].sum()\n",
    "beds_2019_ytd = (yearly_beds.get_group(2019)).loc[:last_good_date].sum()\n",
    "beds_2020_ytd = (yearly_beds.get_group(2020)).loc[:last_good_date].sum()\n",
    "\n",
    "total_yearly_beds_ytd = pd.concat([beds_2015_ytd,beds_2016_ytd,beds_2017_ytd,\n",
    "                                  beds_2018_ytd,beds_2019_ytd,beds_2020_ytd],axis=1)\n",
    "total_yearly_beds_ytd.columns = range(2015,2021)"
   ]
  },
  {
   "cell_type": "code",
   "execution_count": null,
   "metadata": {},
   "outputs": [],
   "source": [
    "total_yearly_beds_ytd = total_yearly_beds_ytd.T\n",
    "total_yearly_beds_ytd"
   ]
  },
  {
   "cell_type": "code",
   "execution_count": null,
   "metadata": {},
   "outputs": [],
   "source": [
    "beds_mean = total_yearly_beds_ytd.mean()\n",
    "total_yearly_beds_ytd / beds_mean"
   ]
  },
  {
   "cell_type": "code",
   "execution_count": null,
   "metadata": {},
   "outputs": [],
   "source": [
    "foo = avg_daily_beds.groupby(avg_daily_beds.index.year).cumsum()\n",
    "grps = foo.groupby(foo.index.year)\n",
    "cum_beds_15 = grps.get_group(2015)\n",
    "cum_beds_16 = grps.get_group(2016)\n",
    "cum_beds_17 = grps.get_group(2017)\n",
    "cum_beds_18 = grps.get_group(2018)\n",
    "cum_beds_19 = grps.get_group(2019)\n",
    "cum_beds_20 = grps.get_group(2020)\n",
    "\n",
    "cum_beds = pd.concat([cum_beds_15.reset_index(drop=True),\n",
    "                      cum_beds_16.reset_index(drop=True),\n",
    "                      cum_beds_17.reset_index(drop=True),\n",
    "                      cum_beds_18.reset_index(drop=True),\n",
    "                      cum_beds_19.reset_index(drop=True),\n",
    "                      cum_beds_20.reset_index(drop=True)],axis=1)\n",
    "cum_beds.index = pd.date_range('2020-01-01','2020-12-31',freq='D')\n",
    "cum_beds.columns = range(2015,2021)\n",
    "cum_beds"
   ]
  },
  {
   "cell_type": "code",
   "execution_count": null,
   "metadata": {},
   "outputs": [],
   "source": [
    "cum_beds.loc[:last_date].plot(figsize=(18,12))"
   ]
  },
  {
   "cell_type": "code",
   "execution_count": null,
   "metadata": {},
   "outputs": [],
   "source": [
    "avg_daily_beds['year'] = avg_daily_beds.index.year\n",
    "avg_daily_beds['month'] = avg_daily_beds.index.month\n",
    "avg_daily_beds"
   ]
  },
  {
   "cell_type": "code",
   "execution_count": null,
   "metadata": {},
   "outputs": [],
   "source": [
    "\n",
    "\n",
    "### must use pivot_table with its agg func to average monthly values from day based data ###\n",
    "\n",
    "pivot = avg_daily_beds.pivot_table(index='year',columns='month',values='Platser')\n",
    "pivot"
   ]
  },
  {
   "cell_type": "code",
   "execution_count": null,
   "metadata": {},
   "outputs": [],
   "source": [
    "pivot.sum(axis=1)"
   ]
  },
  {
   "cell_type": "code",
   "execution_count": null,
   "metadata": {},
   "outputs": [],
   "source": [
    "# the units on y-axis make no sense...!!!!\n",
    "\n",
    "pivot.plot(kind='bar',stacked=True,figsize=(18,12),title=title)\n"
   ]
  },
  {
   "cell_type": "code",
   "execution_count": null,
   "metadata": {},
   "outputs": [],
   "source": [
    "### IVA AGE vårdtillfällen aka transactions ####\n",
    "\n",
    "age_df = pd.DataFrame()\n",
    "\n",
    "for y in range(2015,2021):\n",
    "    tmp = pd.read_excel('iva_age_' + str(y)[2:] + '.xlsx','Utdataportalen',skiprows=1)\n",
    "    print (len(tmp))\n",
    "    \n",
    "    tmp['Åldersgrupp'] = pd.Categorical(['0 - 4 år','5 - 9 år','10 - 14 år','15 - 19 år','20 - 24 år',\n",
    "                                       '25 - 29 år','30 - 34 år','35 - 39 år','40 - 44 år',\n",
    "                                       '45 - 49 år','50 - 54 år','55 - 59 år','60 - 64 år',\n",
    "                                       '65 - 69 år','70 - 74 år','75 - 79 år','80 - 84 år',\n",
    "                                     '85 - 89 år','90 - 94 år','95 - 99 år','100 - 104 år',\n",
    "                                        '105 - 109 år', '110 - 114 år', '115 - 119 år'])[:len(tmp)]\n",
    "    \n",
    "    tmp['year'] = y\n",
    "    age_df = pd.concat([age_df,tmp])\n",
    "    \n",
    "\n",
    "    \n",
    "age_df"
   ]
  },
  {
   "cell_type": "code",
   "execution_count": null,
   "metadata": {},
   "outputs": [],
   "source": [
    "age_df['iva_count'] = age_df['Antal kvinnor'] + age_df['Antal män']\n",
    "age_df"
   ]
  },
  {
   "cell_type": "code",
   "execution_count": null,
   "metadata": {},
   "outputs": [],
   "source": [
    "age_pivot = age_df.pivot(index='year',columns=['Åldersgrupp'],values=['iva_count'])\n",
    "age_pivot"
   ]
  },
  {
   "cell_type": "code",
   "execution_count": null,
   "metadata": {},
   "outputs": [],
   "source": [
    "age_pivot.sum(axis=1)"
   ]
  },
  {
   "cell_type": "code",
   "execution_count": null,
   "metadata": {},
   "outputs": [],
   "source": [
    "#### 2020 YTD, others full year ####\n",
    "\n",
    "age_pivot.plot(kind='bar',stacked=True,figsize=(18,12))\n",
    "plt.legend(loc='lower center')"
   ]
  },
  {
   "cell_type": "code",
   "execution_count": null,
   "metadata": {},
   "outputs": [],
   "source": [
    "import requests\n",
    "\n",
    "url = 'http://api.scb.se/OV0104/v1/doris/sv/ssd/START/BE/BE0101/BE0101A/BefolkningR1860'\n",
    "data = {\n",
    "  \"query\": [\n",
    "    {\n",
    "      \"code\": \"Alder\",\n",
    "      \"selection\": {\n",
    "        \"filter\": \"agg:Ålder5år\",\n",
    "        \"values\": [\n",
    "          \"-4\",\n",
    "          \"5-9\",\n",
    "          \"10-14\",\n",
    "          \"15-19\",\n",
    "          \"20-24\",\n",
    "          \"25-29\",\n",
    "          \"30-34\",\n",
    "          \"35-39\",\n",
    "          \"40-44\",\n",
    "          \"45-49\",\n",
    "          \"50-54\",\n",
    "          \"55-59\",\n",
    "          \"60-64\",\n",
    "          \"65-69\",\n",
    "          \"70-74\",\n",
    "          \"75-79\",\n",
    "          \"80-84\",\n",
    "          \"85-89\",\n",
    "          \"90-94\",\n",
    "          \"95-99\",\n",
    "          \"100+\"\n",
    "        ]\n",
    "      }\n",
    "    },\n",
    "    {\n",
    "      \"code\": \"Kon\",\n",
    "      \"selection\": {\n",
    "        \"filter\": \"item\",\n",
    "        \"values\": [\n",
    "          \"1\",\n",
    "          \"2\"\n",
    "        ]\n",
    "      }\n",
    "    },\n",
    "    {\n",
    "      \"code\": \"Tid\",\n",
    "      \"selection\": {\n",
    "        \"filter\": \"item\",\n",
    "        \"values\": [\n",
    "          \"2014\",  \n",
    "          \"2015\",\n",
    "          \"2016\",\n",
    "          \"2017\",\n",
    "          \"2018\",\n",
    "          \"2019\"\n",
    "        ]\n",
    "      }\n",
    "    }\n",
    "  ],\n",
    "  \"response\": {\n",
    "    \"format\": \"json\"\n",
    "  }\n",
    "}"
   ]
  },
  {
   "cell_type": "code",
   "execution_count": null,
   "metadata": {},
   "outputs": [],
   "source": [
    "r = requests.post(url,json=data)\n",
    "r.status_code"
   ]
  },
  {
   "cell_type": "code",
   "execution_count": null,
   "metadata": {},
   "outputs": [],
   "source": [
    "json = r.json()\n",
    "json['data'][0]"
   ]
  },
  {
   "cell_type": "code",
   "execution_count": null,
   "metadata": {},
   "outputs": [],
   "source": [
    "items = len(json['data'])\n",
    "data_list = []\n",
    "\n",
    "for i in range(items):\n",
    "    tmp = list([json['data'][i]['key'][0],json['data'][i]['key'][1],json['data'][i]['key'][2],\n",
    "               json['data'][i]['values'][0]])\n",
    "    \n",
    "    data_list.append(tmp)\n",
    "    \n",
    "data_list\n",
    "\n",
    "pop_df = pd.DataFrame(data_list)\n",
    "pop_df.columns = ['age','gender','year','pop']\n",
    "pop_df['age'] = pd.Categorical(pop_df['age'],['-4','5-9','10-14','15-19','20-24',\n",
    "                                             '25-29','30-34','35-39','40-44',\n",
    "                                             '45-49','50-54','55-59','60-64','65-69',\n",
    "                                             '70-74','75-79','80-84','85-89',\n",
    "                                             '90-94','95-99','100+'])\n",
    "pop_df"
   ]
  },
  {
   "cell_type": "code",
   "execution_count": null,
   "metadata": {},
   "outputs": [],
   "source": [
    "pop_df['pop'] = pop_df['pop'].astype(int)\n",
    "pop_df = pop_df.groupby(['year','age']).sum()\n",
    "pop_df"
   ]
  },
  {
   "cell_type": "code",
   "execution_count": null,
   "metadata": {},
   "outputs": [],
   "source": [
    "pop_df.groupby(pop_df.index.get_level_values(0)).sum()"
   ]
  },
  {
   "cell_type": "code",
   "execution_count": null,
   "metadata": {},
   "outputs": [],
   "source": [
    "pop_df = pop_df.unstack()\n",
    "pop_df.index = range(2015,2021)\n",
    "pop_df.info()"
   ]
  },
  {
   "cell_type": "code",
   "execution_count": null,
   "metadata": {},
   "outputs": [],
   "source": [
    "pop_df.sum(axis=1)"
   ]
  },
  {
   "cell_type": "code",
   "execution_count": null,
   "metadata": {},
   "outputs": [],
   "source": [
    "pop_df = pop_df.unstack().reset_index().drop('level_0',axis=1).pivot(index='level_2',columns='age',values=0)\n",
    "pop_df"
   ]
  },
  {
   "cell_type": "code",
   "execution_count": null,
   "metadata": {},
   "outputs": [],
   "source": [
    "age_pivot = age_pivot.unstack().reset_index().drop('level_0',axis=1).pivot(index='year',columns='Åldersgrupp',\n",
    "                                                              values=0)\n",
    "age_pivot"
   ]
  },
  {
   "cell_type": "code",
   "execution_count": null,
   "metadata": {},
   "outputs": [],
   "source": [
    "hundred_plus = age_pivot.loc[:,'100 - 104 år':].sum(axis=1)\n",
    "hundred_plus"
   ]
  },
  {
   "cell_type": "code",
   "execution_count": null,
   "metadata": {},
   "outputs": [],
   "source": [
    "age_pivot = (age_pivot.loc[:,:'95 - 99 år']).copy()\n",
    "age_pivot.columns = age_pivot.columns.tolist()\n",
    "age_pivot"
   ]
  },
  {
   "cell_type": "code",
   "execution_count": null,
   "metadata": {},
   "outputs": [],
   "source": [
    "age_pivot\n",
    "age_pivot['100+'] = hundred_plus\n",
    "age_pivot"
   ]
  },
  {
   "cell_type": "code",
   "execution_count": null,
   "metadata": {},
   "outputs": [],
   "source": [
    "age_pivot.sum(axis=1)"
   ]
  },
  {
   "cell_type": "code",
   "execution_count": null,
   "metadata": {},
   "outputs": [],
   "source": [
    "age_pivot.columns = pop_df.columns"
   ]
  },
  {
   "cell_type": "code",
   "execution_count": null,
   "metadata": {},
   "outputs": [],
   "source": [
    "# rel pop of age group\n",
    "iva_per_age = age_pivot / pop_df\n",
    "iva_per_age"
   ]
  },
  {
   "cell_type": "code",
   "execution_count": null,
   "metadata": {},
   "outputs": [],
   "source": [
    "iva_per_age.sum(axis=1)"
   ]
  },
  {
   "cell_type": "code",
   "execution_count": null,
   "metadata": {},
   "outputs": [],
   "source": [
    "# age grp proportion of all IVA transactions\n",
    "iva_per_age_rel = iva_per_age.div(iva_per_age.sum(axis=1),axis=0)\n",
    "iva_per_age_rel"
   ]
  },
  {
   "cell_type": "code",
   "execution_count": null,
   "metadata": {},
   "outputs": [],
   "source": [
    "iva_per_age_rel.sum(axis=1)"
   ]
  },
  {
   "cell_type": "code",
   "execution_count": null,
   "metadata": {},
   "outputs": [],
   "source": [
    "iva_per_age_rel.T.plot(kind='bar',figsize=(18,12))"
   ]
  },
  {
   "cell_type": "code",
   "execution_count": null,
   "metadata": {},
   "outputs": [],
   "source": [
    "iva_per_age_rel.plot(kind='bar',stacked=True,figsize=(18,12))"
   ]
  },
  {
   "cell_type": "code",
   "execution_count": null,
   "metadata": {},
   "outputs": [],
   "source": [
    "age_grp_rel_avg = iva_per_age_rel.loc[:2019,:].mean()\n",
    "rel_change = iva_per_age_rel / age_grp_rel_avg\n",
    "rel_change"
   ]
  },
  {
   "cell_type": "code",
   "execution_count": null,
   "metadata": {},
   "outputs": [],
   "source": [
    "rel_change.plot(kind='bar',figsize=(18,12))\n",
    "plt.axhline(1,ls='dashed',color='k')"
   ]
  },
  {
   "cell_type": "code",
   "execution_count": null,
   "metadata": {},
   "outputs": [],
   "source": [
    "change_vs_baseline = pd.concat([age_grp_rel_avg,iva_per_age_rel.loc[2020]],axis=1)\n",
    "change_vs_baseline.rename(columns={0:'2015-2019'},inplace=True)\n",
    "change_vs_baseline"
   ]
  },
  {
   "cell_type": "code",
   "execution_count": null,
   "metadata": {},
   "outputs": [],
   "source": [
    "change_vs_baseline['change'] = change_vs_baseline[2020] / change_vs_baseline['2015-2019']\n",
    "change_vs_baseline"
   ]
  },
  {
   "cell_type": "code",
   "execution_count": null,
   "metadata": {},
   "outputs": [],
   "source": [
    "title = 'SWEDEN ICU transactions: change per age group 2020 YTD vs avg 2015-2019'\n",
    "change_vs_baseline.plot(y='change',kind='bar',figsize=(18,12),color='orange',title=title)\n",
    "plt.axhline(1,ls='dashed',color='k')\n",
    "plt.ylabel('change factor')\n",
    "plt.savefig('swe_iva_age_grp_change.jpg',format='jpg')"
   ]
  },
  {
   "cell_type": "code",
   "execution_count": null,
   "metadata": {},
   "outputs": [],
   "source": []
  },
  {
   "cell_type": "code",
   "execution_count": null,
   "metadata": {},
   "outputs": [],
   "source": [
    "iva_per_age.plot(kind='bar',stacked=True,figsize=(18,12))"
   ]
  },
  {
   "cell_type": "code",
   "execution_count": null,
   "metadata": {},
   "outputs": [],
   "source": [
    "### vårddygn och längd ###\n",
    "\n",
    "days_df = pd.DataFrame()\n",
    "\n",
    "for y in range(2015,2021):\n",
    "    tmp = pd.read_excel('iva_days_' + str(y)[2:] + '.xlsx','Utdataportalen',skiprows=1)\n",
    "    tmp['year'] = y\n",
    "    days_df = pd.concat([days_df,tmp])\n",
    "  \n",
    "\n",
    "days_df['Vårdtid, dagar'] = pd.Categorical(days_df['Vårdtid, dagar'],\n",
    "                                          ['< 1','1 - 3','4 - 10','11 - 30','> 30'])    \n",
    "days_df"
   ]
  },
  {
   "cell_type": "code",
   "execution_count": null,
   "metadata": {},
   "outputs": [],
   "source": [
    "days_pivot = days_df.pivot(index='year',columns='Vårdtid, dagar',\n",
    "                           values=['Antal vårdtillfällen','Antal vårddygn'])\n",
    "\n",
    "days_pivot"
   ]
  },
  {
   "cell_type": "code",
   "execution_count": null,
   "metadata": {},
   "outputs": [],
   "source": [
    "days_pivot['Antal vårdtillfällen'].plot(kind='bar',figsize=(18,12))"
   ]
  },
  {
   "cell_type": "code",
   "execution_count": null,
   "metadata": {},
   "outputs": [],
   "source": [
    "icd_df = pd.DataFrame()\n",
    "\n",
    "for y in range(2015,2021):\n",
    "    tmp = pd.read_excel('iva_icd_codes_' + str(y)[2:] + '.xlsx','Utdataportalen',skiprows=1)\n",
    "    print (len(tmp))\n",
    "    \n",
    "    tmp['year'] = y\n",
    "    icd_df = pd.concat([icd_df,tmp])\n",
    "    \n"
   ]
  },
  {
   "cell_type": "code",
   "execution_count": null,
   "metadata": {},
   "outputs": [],
   "source": [
    "icd_df"
   ]
  },
  {
   "cell_type": "code",
   "execution_count": null,
   "metadata": {},
   "outputs": [],
   "source": [
    "(icd_df.loc[icd_df['year'] != 2020]).mean()"
   ]
  },
  {
   "cell_type": "code",
   "execution_count": null,
   "metadata": {
    "scrolled": false
   },
   "outputs": [],
   "source": [
    "icd_year_grp = icd_df.groupby(['year','Huvudsaklig IVA-diagnos']).mean()\n",
    "g = icd_year_grp.groupby('year',group_keys=False)\n",
    "sorted_vtf = g.apply(lambda x : x.sort_values('Antal vtf',ascending=False).head(10))\n",
    "sorted_beds = g.apply(lambda x : x.sort_values('Antal dygn',ascending=False).head(10))\n",
    "\n",
    "all_sorted_vtf = g.apply(lambda x : x.sort_values('Antal vtf',ascending=False))\n",
    "all_sorted_vtf['rank'] = all_sorted_vtf.groupby('year')['Antal vtf'].rank(ascending=False)\n",
    "\n",
    "sorted_vtf['rank'] = sorted_vtf.groupby('year')['Antal vtf'].rank(ascending=False)\n",
    "sorted_beds['rank'] = sorted_beds.groupby('year')['Antal dygn'].rank(ascending=False)\n",
    "\n",
    "sorted_vtf"
   ]
  },
  {
   "cell_type": "code",
   "execution_count": null,
   "metadata": {},
   "outputs": [],
   "source": [
    "sorted_beds"
   ]
  },
  {
   "cell_type": "code",
   "execution_count": null,
   "metadata": {
    "scrolled": false
   },
   "outputs": [],
   "source": [
    "color_factor = 10\n",
    "color_15 = ['g'] * 10\n",
    "color_16 = ['yellow'] * 10\n",
    "color_17 = ['darkorange'] * 10\n",
    "color_18 = ['magenta'] * 10\n",
    "color_19 = ['k'] * 10\n",
    "color_20 = ['crimson'] * 10\n",
    "\n",
    "colors = color_15 + color_16 + color_17 + color_18 + color_19 + color_20\n",
    "\n",
    "data_source = 'https://www.icuregswe.org/'\n",
    "title = 'SWEDEN Top-10 yearly ICU transactions by diagnosis 2015-2019, cmp YTD {}\\nDataSource {}'.format(\n",
    "    last_good_date.date(),data_source)\n",
    "\n",
    "sorted_vtf.plot(y='Antal vtf',kind='bar',figsize=(18,12),color=colors,title=title,legend=False)\n",
    "plt.ylabel('nr of ICU transactions')\n",
    "plt.xlabel('Huvudsaklig diagnos')\n",
    "plt.savefig('swe_iva_top_10_trans.jpg',format='jpg')"
   ]
  },
  {
   "cell_type": "code",
   "execution_count": null,
   "metadata": {},
   "outputs": [],
   "source": [
    "data_source = 'https://www.icuregswe.org/'\n",
    "title = 'SWEDEN Top-10 yearly ICU days by diagnosis 2015-2019, cmp YTD {}\\nDataSource {}'.format(\n",
    "    last_good_date.date(),data_source)\n",
    "\n",
    "sorted_vtf.plot(y='Antal dygn',kind='bar',figsize=(18,12),color=colors,title=title,legend=False)\n",
    "plt.ylabel('nr of ICU days')\n",
    "plt.xlabel('Huvudsaklig diagnos')\n",
    "plt.savefig('swe_iva_top_10_days.jpg',format='jpg')"
   ]
  },
  {
   "cell_type": "code",
   "execution_count": null,
   "metadata": {},
   "outputs": [],
   "source": [
    "icd_pivot = icd_df.pivot(index='year',columns='Huvudsaklig IVA-diagnos',values='Antal vtf')\n",
    "icd_pivot.T"
   ]
  },
  {
   "cell_type": "code",
   "execution_count": null,
   "metadata": {},
   "outputs": [],
   "source": [
    "icd_pivot.plot(figsize=(18,12),style='o--')\n",
    "plt.legend(loc='lower center')"
   ]
  },
  {
   "cell_type": "code",
   "execution_count": null,
   "metadata": {},
   "outputs": [],
   "source": [
    "sorted_vtf"
   ]
  },
  {
   "cell_type": "code",
   "execution_count": null,
   "metadata": {},
   "outputs": [],
   "source": [
    "top_10_pivot_rank = sorted_vtf.reset_index().pivot(index='year',columns='Huvudsaklig IVA-diagnos',values='rank')\n",
    "#top_10_pivot_rank = top_10_pivot_rank.replace(np.nan,0)\n",
    "top_10_pivot_rank\n"
   ]
  },
  {
   "cell_type": "code",
   "execution_count": null,
   "metadata": {},
   "outputs": [],
   "source": [
    "colors = ['white','grey','yellow',\n",
    "          'gold','darkorange','sandybrown','crimson','k',\n",
    "          'red','blue','olive','lime','magenta','cyan','silver']\n",
    "\n",
    "cols = top_10_pivot_rank.columns\n",
    "\n",
    "color_dict = dict(zip(cols,colors))\n",
    "\n",
    "\n",
    "[color_dict.get(x) for x in cols]\n"
   ]
  },
  {
   "cell_type": "code",
   "execution_count": null,
   "metadata": {
    "scrolled": false
   },
   "outputs": [],
   "source": [
    "\n",
    "\n",
    "plt.figure(figsize=(18,12))\n",
    "ax = plt.gca()\n",
    "\n",
    "title = 'SWEDEN ICU Top-10 transaction diagnosis trends 2015-2019 & YTD {}\\nDataSource : {}'.format(\n",
    "    last_good_date.date(),data_source)\n",
    "\n",
    "top_10_pivot_rank.plot(ax=ax,color=[color_dict.get(x) for x in cols],\n",
    "                       ls='dashdot',marker='o',title=title)\n",
    "\n",
    "plt.legend(loc='lower left')\n",
    "plt.gca().invert_yaxis()\n",
    "plt.ylabel('rank')\n",
    "_= plt.yticks(range(1,11,1))\n",
    "plt.savefig('swe_iva_top_10_rank.jpg',format='jpg')"
   ]
  },
  {
   "cell_type": "code",
   "execution_count": null,
   "metadata": {},
   "outputs": [],
   "source": [
    "top_10_pivot_vtf = sorted_vtf.reset_index().pivot(index='year',columns='Huvudsaklig IVA-diagnos',\n",
    "                                                  values='Antal vtf')\n",
    "top_10_pivot_vtf\n"
   ]
  },
  {
   "cell_type": "code",
   "execution_count": null,
   "metadata": {},
   "outputs": [],
   "source": [
    "top_10_pivot_vtf.plot(style='o--',figsize=(18,12))\n",
    "plt.legend(loc='lower left')\n",
    "#plt.gca().invert_yaxis()\n"
   ]
  },
  {
   "cell_type": "code",
   "execution_count": null,
   "metadata": {},
   "outputs": [],
   "source": [
    "all_sorted_vtf"
   ]
  },
  {
   "cell_type": "code",
   "execution_count": null,
   "metadata": {
    "scrolled": false
   },
   "outputs": [],
   "source": [
    "for y in range(2015,2021):\n",
    "    \n",
    "    print (all_sorted_vtf.loc[all_sorted_vtf.index.get_level_values(0) == y,'rank'])\n",
    "    print()"
   ]
  },
  {
   "cell_type": "code",
   "execution_count": null,
   "metadata": {},
   "outputs": [],
   "source": [
    "title = 'SWEDEN ICU Top-10 transaction diagnosis,avg nr days in care, trends 2015-2019 & YTD {}\\nDataSource : {}'.format(\n",
    "    last_good_date.date(),data_source)\n",
    "sorted_vtf.unstack()['Medel dygn'].plot(color=[color_dict.get(x) for x in cols],figsize=(18,12),\n",
    "                                       ls='dashed',marker='o',title=title)\n",
    "\n",
    "plt.ylabel('Avg days of ICU treatment')\n",
    "plt.savefig('swe_iva_top_10_avg_days.jpg',format='jpg')\n"
   ]
  },
  {
   "cell_type": "code",
   "execution_count": null,
   "metadata": {},
   "outputs": [],
   "source": [
    "age_pivot['-4'] / pop_df['-4']"
   ]
  },
  {
   "cell_type": "code",
   "execution_count": null,
   "metadata": {},
   "outputs": [],
   "source": [
    "iva_per_age_rel"
   ]
  },
  {
   "cell_type": "code",
   "execution_count": null,
   "metadata": {},
   "outputs": [],
   "source": [
    "std_pop = pop_df.loc[2019]\n",
    "std_pop"
   ]
  },
  {
   "cell_type": "code",
   "execution_count": null,
   "metadata": {},
   "outputs": [],
   "source": [
    "age_pivot"
   ]
  },
  {
   "cell_type": "code",
   "execution_count": null,
   "metadata": {},
   "outputs": [],
   "source": [
    "std_cases = (iva_per_age_rel * std_pop).sum(axis=1)\n",
    "std_cases"
   ]
  },
  {
   "cell_type": "code",
   "execution_count": null,
   "metadata": {},
   "outputs": [],
   "source": [
    "std_cases_avg = std_cases.loc[2015:2019].mean()\n",
    "std_cases_avg"
   ]
  },
  {
   "cell_type": "code",
   "execution_count": null,
   "metadata": {},
   "outputs": [],
   "source": [
    "std_cases.loc[2020] / std_cases_avg"
   ]
  },
  {
   "cell_type": "code",
   "execution_count": null,
   "metadata": {},
   "outputs": [],
   "source": [
    "iva_per_age\n"
   ]
  }
 ],
 "metadata": {
  "kernelspec": {
   "display_name": "Python 3",
   "language": "python",
   "name": "python3"
  },
  "language_info": {
   "codemirror_mode": {
    "name": "ipython",
    "version": 3
   },
   "file_extension": ".py",
   "mimetype": "text/x-python",
   "name": "python",
   "nbconvert_exporter": "python",
   "pygments_lexer": "ipython3",
   "version": "3.8.6"
  }
 },
 "nbformat": 4,
 "nbformat_minor": 4
}
