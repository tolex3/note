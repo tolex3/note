{
 "cells": [
  {
   "cell_type": "code",
   "execution_count": 1,
   "metadata": {},
   "outputs": [],
   "source": [
    "#### depends on :\n",
    "#### - iva_occupacy*.xlsx : https://portal.icuregswe.org/utdata/sv/report/prod.belaggning - \n",
    "##  update iva_occupacy_2020_YTD\n",
    "\n",
    "#### - iva.xlxs : https://portal.icuregswe.org/utdata/sv/report/demo.antalvtf ; select years 2015-2020\n",
    "#### - gruppera på månad\n",
    "\n",
    "#### - iva_age_2020.xlsx : https://portal.icuregswe.org/utdata/sv/report/demo.alder-kon ; select 2020\n",
    "#### - iva_days*.xlsx : https://portal.icuregswe.org/utdata/sv/report/prod.vardtid-grupp ; select 2020\n",
    "#### - iva_icd_codes_2020.xlsx : https://portal.icuregswe.org/utdata/sv/report/prod.diagnoser-antal select 2020 \n",
    "\n",
    "import numpy as np\n",
    "import matplotlib.pyplot as plt\n",
    "import seaborn as sns\n",
    "import pandas as pd\n",
    "\n",
    "sns.set()"
   ]
  },
  {
   "cell_type": "code",
   "execution_count": 2,
   "metadata": {},
   "outputs": [],
   "source": [
    "#### PARAM : when new data has been downloaded to iva_occupacy_2020_YTD, set param to True. Run ONCE, then set \n",
    "#### param to False until next time new data has been downloaded.\n",
    "\n",
    "READ_NEW_DATA = True"
   ]
  },
  {
   "cell_type": "code",
   "execution_count": 3,
   "metadata": {},
   "outputs": [],
   "source": [
    "#https://portal.icuregswe.org/utdata/sv/report/prod.belaggning\n",
    "\n",
    "def read_beds(filename,sheetname):\n",
    "    df = pd.read_excel(filename,sheet_name=sheetname,skiprows=1,\n",
    "                        parse_dates=True,index_col=0)\n",
    "    \n",
    "    return df"
   ]
  },
  {
   "cell_type": "code",
   "execution_count": 4,
   "metadata": {},
   "outputs": [],
   "source": [
    "def iva_datetime_idx(df):\n",
    "    \n",
    "    def to_eng_month(m):\n",
    "        class MonthError(Exception):\n",
    "            pass\n",
    "    \n",
    "        if m == 'Januari' : return 'January'\n",
    "        if m == 'Februari' : return 'February'\n",
    "        if m == 'Mars' : return 'March'\n",
    "        if m == 'April' : return 'April'\n",
    "        if m == 'Maj' : return 'May'\n",
    "        if m == 'Juni' : return 'June'\n",
    "        if m == 'Juli' : return 'July'\n",
    "        if m == 'Augusti' : return 'August'\n",
    "        if m == 'September' : return 'September'\n",
    "        if m == 'Oktober' : return 'October'\n",
    "        if m == 'November' : return 'November'\n",
    "        if m == 'December' : return 'December'\n",
    "    \n",
    "        raise MonthError('cant translate {}'.format(m))\n",
    "    \n",
    "    df[['month','year']] = df['Månad'].str.split(' ',expand=True)\n",
    "\n",
    "    df['month'] = df['month'].apply(to_eng_month)\n",
    "    \n",
    "    idx = pd.date_range('2015-01-01',freq='M',periods=len(df))\n",
    "    df.index = idx\n",
    "    \n",
    "    return df"
   ]
  },
  {
   "cell_type": "code",
   "execution_count": 5,
   "metadata": {},
   "outputs": [],
   "source": [
    "#### previous years ####\n",
    "df_beds_15 = read_beds('iva_occupacy_15.xlsx','Utdataportalen')\n",
    "df_beds_16 = read_beds('iva_occupacy_16.xlsx','Utdataportalen')\n",
    "df_beds_17 = read_beds('iva_occupacy_17.xlsx','Utdataportalen')\n",
    "df_beds_18 = read_beds('iva_occupacy_18.xlsx','Utdataportalen')\n",
    "df_beds_19 = read_beds('iva_occupacy_19.xlsx','Utdataportalen')"
   ]
  },
  {
   "cell_type": "code",
   "execution_count": 6,
   "metadata": {},
   "outputs": [
    {
     "data": {
      "text/html": [
       "<div>\n",
       "<style scoped>\n",
       "    .dataframe tbody tr th:only-of-type {\n",
       "        vertical-align: middle;\n",
       "    }\n",
       "\n",
       "    .dataframe tbody tr th {\n",
       "        vertical-align: top;\n",
       "    }\n",
       "\n",
       "    .dataframe thead th {\n",
       "        text-align: right;\n",
       "    }\n",
       "</style>\n",
       "<table border=\"1\" class=\"dataframe\">\n",
       "  <thead>\n",
       "    <tr style=\"text-align: right;\">\n",
       "      <th></th>\n",
       "      <th>Platser</th>\n",
       "    </tr>\n",
       "  </thead>\n",
       "  <tbody>\n",
       "    <tr>\n",
       "      <th>2015-01-01 00:00:00</th>\n",
       "      <td>310</td>\n",
       "    </tr>\n",
       "    <tr>\n",
       "      <th>2015-01-01 00:05:00</th>\n",
       "      <td>311</td>\n",
       "    </tr>\n",
       "    <tr>\n",
       "      <th>2015-01-01 00:10:00</th>\n",
       "      <td>313</td>\n",
       "    </tr>\n",
       "    <tr>\n",
       "      <th>2015-01-01 00:21:00</th>\n",
       "      <td>314</td>\n",
       "    </tr>\n",
       "    <tr>\n",
       "      <th>2015-01-01 00:49:00</th>\n",
       "      <td>315</td>\n",
       "    </tr>\n",
       "    <tr>\n",
       "      <th>...</th>\n",
       "      <td>...</td>\n",
       "    </tr>\n",
       "    <tr>\n",
       "      <th>2020-12-31 23:40:00</th>\n",
       "      <td>534</td>\n",
       "    </tr>\n",
       "    <tr>\n",
       "      <th>2020-12-31 23:45:00</th>\n",
       "      <td>533</td>\n",
       "    </tr>\n",
       "    <tr>\n",
       "      <th>2020-12-31 23:50:00</th>\n",
       "      <td>532</td>\n",
       "    </tr>\n",
       "    <tr>\n",
       "      <th>2020-12-31 23:55:00</th>\n",
       "      <td>532</td>\n",
       "    </tr>\n",
       "    <tr>\n",
       "      <th>2020-12-31 23:59:00</th>\n",
       "      <td>0</td>\n",
       "    </tr>\n",
       "  </tbody>\n",
       "</table>\n",
       "<p>353526 rows × 1 columns</p>\n",
       "</div>"
      ],
      "text/plain": [
       "                     Platser\n",
       "2015-01-01 00:00:00      310\n",
       "2015-01-01 00:05:00      311\n",
       "2015-01-01 00:10:00      313\n",
       "2015-01-01 00:21:00      314\n",
       "2015-01-01 00:49:00      315\n",
       "...                      ...\n",
       "2020-12-31 23:40:00      534\n",
       "2020-12-31 23:45:00      533\n",
       "2020-12-31 23:50:00      532\n",
       "2020-12-31 23:55:00      532\n",
       "2020-12-31 23:59:00        0\n",
       "\n",
       "[353526 rows x 1 columns]"
      ]
     },
     "execution_count": 6,
     "metadata": {},
     "output_type": "execute_result"
    }
   ],
   "source": [
    "#### update with 2020 fresh data\n",
    "\n",
    "df_beds_YTD = pd.concat([df_beds_15,df_beds_16,df_beds_17,df_beds_18,df_beds_19])\n",
    "\n",
    "# drop previous 2020 data\n",
    "#df_beds_YTD = df_beds_YTD[~(df_beds_YTD.index.year==2020)]\n",
    "\n",
    "df_beds_2020_YTD = read_beds('iva_occupacy_2020_YTD.xlsx','Data portal')\n",
    "df_beds_2020_YTD.rename(columns={'Beds' : 'Platser'},inplace=True)\n",
    "df_beds_YTD = pd.concat([df_beds_YTD,df_beds_2020_YTD])\n",
    "\n",
    "df_beds_YTD"
   ]
  },
  {
   "cell_type": "code",
   "execution_count": 7,
   "metadata": {},
   "outputs": [
    {
     "data": {
      "text/html": [
       "<div>\n",
       "<style scoped>\n",
       "    .dataframe tbody tr th:only-of-type {\n",
       "        vertical-align: middle;\n",
       "    }\n",
       "\n",
       "    .dataframe tbody tr th {\n",
       "        vertical-align: top;\n",
       "    }\n",
       "\n",
       "    .dataframe thead th {\n",
       "        text-align: right;\n",
       "    }\n",
       "</style>\n",
       "<table border=\"1\" class=\"dataframe\">\n",
       "  <thead>\n",
       "    <tr style=\"text-align: right;\">\n",
       "      <th></th>\n",
       "      <th>Platser</th>\n",
       "    </tr>\n",
       "  </thead>\n",
       "  <tbody>\n",
       "    <tr>\n",
       "      <th>count</th>\n",
       "      <td>353526.000000</td>\n",
       "    </tr>\n",
       "    <tr>\n",
       "      <th>mean</th>\n",
       "      <td>351.203957</td>\n",
       "    </tr>\n",
       "    <tr>\n",
       "      <th>std</th>\n",
       "      <td>66.259967</td>\n",
       "    </tr>\n",
       "    <tr>\n",
       "      <th>min</th>\n",
       "      <td>0.000000</td>\n",
       "    </tr>\n",
       "    <tr>\n",
       "      <th>25%</th>\n",
       "      <td>317.000000</td>\n",
       "    </tr>\n",
       "    <tr>\n",
       "      <th>50%</th>\n",
       "      <td>341.000000</td>\n",
       "    </tr>\n",
       "    <tr>\n",
       "      <th>75%</th>\n",
       "      <td>365.000000</td>\n",
       "    </tr>\n",
       "    <tr>\n",
       "      <th>max</th>\n",
       "      <td>771.000000</td>\n",
       "    </tr>\n",
       "  </tbody>\n",
       "</table>\n",
       "</div>"
      ],
      "text/plain": [
       "             Platser\n",
       "count  353526.000000\n",
       "mean      351.203957\n",
       "std        66.259967\n",
       "min         0.000000\n",
       "25%       317.000000\n",
       "50%       341.000000\n",
       "75%       365.000000\n",
       "max       771.000000"
      ]
     },
     "execution_count": 7,
     "metadata": {},
     "output_type": "execute_result"
    }
   ],
   "source": [
    "df_beds_YTD.describe()"
   ]
  },
  {
   "cell_type": "code",
   "execution_count": 8,
   "metadata": {},
   "outputs": [
    {
     "name": "stdout",
     "output_type": "stream",
     "text": [
      "<class 'pandas.core.frame.DataFrame'>\n",
      "DatetimeIndex: 353526 entries, 2015-01-01 00:00:00 to 2020-12-31 23:59:00\n",
      "Data columns (total 1 columns):\n",
      " #   Column   Non-Null Count   Dtype\n",
      "---  ------   --------------   -----\n",
      " 0   Platser  353526 non-null  int64\n",
      "dtypes: int64(1)\n",
      "memory usage: 5.4 MB\n"
     ]
    }
   ],
   "source": [
    "df_beds_YTD.info()"
   ]
  },
  {
   "cell_type": "code",
   "execution_count": 9,
   "metadata": {},
   "outputs": [
    {
     "data": {
      "text/plain": [
       "Timestamp('2020-12-31 23:59:00')"
      ]
     },
     "execution_count": 9,
     "metadata": {},
     "output_type": "execute_result"
    }
   ],
   "source": [
    "last_timestamp = df_beds_YTD.iloc[-1].name\n",
    "back_2_months = last_timestamp - pd.DateOffset(months=2)\n",
    "last_timestamp"
   ]
  },
  {
   "cell_type": "code",
   "execution_count": 10,
   "metadata": {},
   "outputs": [],
   "source": [
    "#stored_beds = stored_beds[pd.Timestamp('2020-12-02').date()]\n"
   ]
  },
  {
   "cell_type": "code",
   "execution_count": 11,
   "metadata": {},
   "outputs": [],
   "source": [
    "#stored_beds.to_pickle('iva_stored_beds.pkl')"
   ]
  },
  {
   "cell_type": "code",
   "execution_count": 12,
   "metadata": {},
   "outputs": [],
   "source": [
    "stored_beds = pd.read_pickle('iva_stored_beds.pkl')\n"
   ]
  },
  {
   "cell_type": "code",
   "execution_count": 13,
   "metadata": {},
   "outputs": [],
   "source": [
    "if READ_NEW_DATA:\n",
    "    new_data = df_beds_YTD.resample('D').mean()\n",
    "    new_data.rename(columns={'Platser' : last_timestamp.date()},inplace=True)\n",
    "    stored_beds = pd.concat([stored_beds,new_data],axis=1)\n",
    "    stored_beds.to_pickle('iva_stored_beds.pkl')\n"
   ]
  },
  {
   "cell_type": "code",
   "execution_count": 14,
   "metadata": {},
   "outputs": [
    {
     "data": {
      "text/html": [
       "<div>\n",
       "<style scoped>\n",
       "    .dataframe tbody tr th:only-of-type {\n",
       "        vertical-align: middle;\n",
       "    }\n",
       "\n",
       "    .dataframe tbody tr th {\n",
       "        vertical-align: top;\n",
       "    }\n",
       "\n",
       "    .dataframe thead th {\n",
       "        text-align: right;\n",
       "    }\n",
       "</style>\n",
       "<table border=\"1\" class=\"dataframe\">\n",
       "  <thead>\n",
       "    <tr style=\"text-align: right;\">\n",
       "      <th></th>\n",
       "      <th>2020-12-02</th>\n",
       "      <th>2020-12-03</th>\n",
       "      <th>2020-12-07</th>\n",
       "      <th>2020-12-14</th>\n",
       "      <th>2020-12-15</th>\n",
       "      <th>2020-12-22</th>\n",
       "      <th>2020-12-31</th>\n",
       "      <th>2020-12-31</th>\n",
       "      <th>2020-12-31</th>\n",
       "    </tr>\n",
       "    <tr>\n",
       "      <th>Datum</th>\n",
       "      <th></th>\n",
       "      <th></th>\n",
       "      <th></th>\n",
       "      <th></th>\n",
       "      <th></th>\n",
       "      <th></th>\n",
       "      <th></th>\n",
       "      <th></th>\n",
       "      <th></th>\n",
       "    </tr>\n",
       "  </thead>\n",
       "  <tbody>\n",
       "    <tr>\n",
       "      <th>2015-01-01</th>\n",
       "      <td>327.0</td>\n",
       "      <td>327.025000</td>\n",
       "      <td>327.025000</td>\n",
       "      <td>327.025000</td>\n",
       "      <td>327.025000</td>\n",
       "      <td>327.025000</td>\n",
       "      <td>327.025000</td>\n",
       "      <td>327.025000</td>\n",
       "      <td>327.025000</td>\n",
       "    </tr>\n",
       "    <tr>\n",
       "      <th>2015-01-02</th>\n",
       "      <td>320.0</td>\n",
       "      <td>320.294872</td>\n",
       "      <td>320.294872</td>\n",
       "      <td>320.294872</td>\n",
       "      <td>320.294872</td>\n",
       "      <td>320.294872</td>\n",
       "      <td>320.294872</td>\n",
       "      <td>320.294872</td>\n",
       "      <td>320.294872</td>\n",
       "    </tr>\n",
       "    <tr>\n",
       "      <th>2015-01-03</th>\n",
       "      <td>329.0</td>\n",
       "      <td>328.975610</td>\n",
       "      <td>328.975610</td>\n",
       "      <td>328.975610</td>\n",
       "      <td>328.975610</td>\n",
       "      <td>328.975610</td>\n",
       "      <td>328.975610</td>\n",
       "      <td>328.975610</td>\n",
       "      <td>328.975610</td>\n",
       "    </tr>\n",
       "    <tr>\n",
       "      <th>2015-01-04</th>\n",
       "      <td>330.0</td>\n",
       "      <td>330.467949</td>\n",
       "      <td>330.467949</td>\n",
       "      <td>330.467949</td>\n",
       "      <td>330.467949</td>\n",
       "      <td>330.467949</td>\n",
       "      <td>330.467949</td>\n",
       "      <td>330.467949</td>\n",
       "      <td>330.467949</td>\n",
       "    </tr>\n",
       "    <tr>\n",
       "      <th>2015-01-05</th>\n",
       "      <td>338.0</td>\n",
       "      <td>337.972414</td>\n",
       "      <td>337.972414</td>\n",
       "      <td>337.972414</td>\n",
       "      <td>337.972414</td>\n",
       "      <td>337.972414</td>\n",
       "      <td>337.972414</td>\n",
       "      <td>337.972414</td>\n",
       "      <td>337.972414</td>\n",
       "    </tr>\n",
       "    <tr>\n",
       "      <th>...</th>\n",
       "      <td>...</td>\n",
       "      <td>...</td>\n",
       "      <td>...</td>\n",
       "      <td>...</td>\n",
       "      <td>...</td>\n",
       "      <td>...</td>\n",
       "      <td>...</td>\n",
       "      <td>...</td>\n",
       "      <td>...</td>\n",
       "    </tr>\n",
       "    <tr>\n",
       "      <th>2020-12-27</th>\n",
       "      <td>NaN</td>\n",
       "      <td>NaN</td>\n",
       "      <td>NaN</td>\n",
       "      <td>NaN</td>\n",
       "      <td>NaN</td>\n",
       "      <td>NaN</td>\n",
       "      <td>404.250000</td>\n",
       "      <td>528.718310</td>\n",
       "      <td>528.718310</td>\n",
       "    </tr>\n",
       "    <tr>\n",
       "      <th>2020-12-28</th>\n",
       "      <td>NaN</td>\n",
       "      <td>NaN</td>\n",
       "      <td>NaN</td>\n",
       "      <td>NaN</td>\n",
       "      <td>NaN</td>\n",
       "      <td>NaN</td>\n",
       "      <td>406.554140</td>\n",
       "      <td>545.947977</td>\n",
       "      <td>545.947977</td>\n",
       "    </tr>\n",
       "    <tr>\n",
       "      <th>2020-12-29</th>\n",
       "      <td>NaN</td>\n",
       "      <td>NaN</td>\n",
       "      <td>NaN</td>\n",
       "      <td>NaN</td>\n",
       "      <td>NaN</td>\n",
       "      <td>NaN</td>\n",
       "      <td>405.822086</td>\n",
       "      <td>556.139665</td>\n",
       "      <td>556.139665</td>\n",
       "    </tr>\n",
       "    <tr>\n",
       "      <th>2020-12-30</th>\n",
       "      <td>NaN</td>\n",
       "      <td>NaN</td>\n",
       "      <td>NaN</td>\n",
       "      <td>NaN</td>\n",
       "      <td>NaN</td>\n",
       "      <td>NaN</td>\n",
       "      <td>392.517241</td>\n",
       "      <td>555.398964</td>\n",
       "      <td>555.398964</td>\n",
       "    </tr>\n",
       "    <tr>\n",
       "      <th>2020-12-31</th>\n",
       "      <td>NaN</td>\n",
       "      <td>NaN</td>\n",
       "      <td>NaN</td>\n",
       "      <td>NaN</td>\n",
       "      <td>NaN</td>\n",
       "      <td>NaN</td>\n",
       "      <td>354.692810</td>\n",
       "      <td>533.853801</td>\n",
       "      <td>533.853801</td>\n",
       "    </tr>\n",
       "  </tbody>\n",
       "</table>\n",
       "<p>2192 rows × 9 columns</p>\n",
       "</div>"
      ],
      "text/plain": [
       "            2020-12-02  2020-12-03  2020-12-07  2020-12-14  2020-12-15  \\\n",
       "Datum                                                                    \n",
       "2015-01-01       327.0  327.025000  327.025000  327.025000  327.025000   \n",
       "2015-01-02       320.0  320.294872  320.294872  320.294872  320.294872   \n",
       "2015-01-03       329.0  328.975610  328.975610  328.975610  328.975610   \n",
       "2015-01-04       330.0  330.467949  330.467949  330.467949  330.467949   \n",
       "2015-01-05       338.0  337.972414  337.972414  337.972414  337.972414   \n",
       "...                ...         ...         ...         ...         ...   \n",
       "2020-12-27         NaN         NaN         NaN         NaN         NaN   \n",
       "2020-12-28         NaN         NaN         NaN         NaN         NaN   \n",
       "2020-12-29         NaN         NaN         NaN         NaN         NaN   \n",
       "2020-12-30         NaN         NaN         NaN         NaN         NaN   \n",
       "2020-12-31         NaN         NaN         NaN         NaN         NaN   \n",
       "\n",
       "            2020-12-22  2020-12-31  2020-12-31  2020-12-31  \n",
       "Datum                                                       \n",
       "2015-01-01  327.025000  327.025000  327.025000  327.025000  \n",
       "2015-01-02  320.294872  320.294872  320.294872  320.294872  \n",
       "2015-01-03  328.975610  328.975610  328.975610  328.975610  \n",
       "2015-01-04  330.467949  330.467949  330.467949  330.467949  \n",
       "2015-01-05  337.972414  337.972414  337.972414  337.972414  \n",
       "...                ...         ...         ...         ...  \n",
       "2020-12-27         NaN  404.250000  528.718310  528.718310  \n",
       "2020-12-28         NaN  406.554140  545.947977  545.947977  \n",
       "2020-12-29         NaN  405.822086  556.139665  556.139665  \n",
       "2020-12-30         NaN  392.517241  555.398964  555.398964  \n",
       "2020-12-31         NaN  354.692810  533.853801  533.853801  \n",
       "\n",
       "[2192 rows x 9 columns]"
      ]
     },
     "execution_count": 14,
     "metadata": {},
     "output_type": "execute_result"
    }
   ],
   "source": [
    "\n",
    "\n",
    "stored_beds"
   ]
  },
  {
   "cell_type": "code",
   "execution_count": 15,
   "metadata": {},
   "outputs": [
    {
     "data": {
      "image/png": "[encoded data removed]",
      "text/plain": [
       "<Figure size 1296x864 with 1 Axes>"
      ]
     },
     "metadata": {},
     "output_type": "display_data"
    }
   ],
   "source": [
    "\n",
    "title = \"SWE ICU beds diff between data pulls\"\n",
    "\n",
    "stored_beds.plot(figsize=(18,12),title=title)\n",
    "plt.savefig('swe_iva_bed_update_diff_full.jpg',format='jpg')"
   ]
  },
  {
   "cell_type": "code",
   "execution_count": 16,
   "metadata": {},
   "outputs": [
    {
     "data": {
      "image/png": "[encoded data removed]",
      "text/plain": [
       "<Figure size 1296x864 with 1 Axes>"
      ]
     },
     "metadata": {},
     "output_type": "display_data"
    }
   ],
   "source": [
    "# zoom into the last two months\n",
    "\n",
    "\n",
    "title = \"SWE ICU beds diff between data pulls\"\n",
    "stored_beds[back_2_months:].plot(style='o--',figsize=(18,12),title=title)\n",
    "plt.ylabel('nr of beds occupied')\n",
    "plt.savefig('swe_iva_bed_update_diff.jpg',format='jpg')"
   ]
  },
  {
   "cell_type": "code",
   "execution_count": 17,
   "metadata": {},
   "outputs": [
    {
     "name": "stdout",
     "output_type": "stream",
     "text": [
      "            2020-12-02  2020-12-03  2020-12-07  2020-12-14  2020-12-15  \\\n",
      "Datum                                                                    \n",
      "2015-01-01         327         327         327         327         327   \n",
      "2015-01-02         320         320         320         320         320   \n",
      "2015-01-03         329         329         329         329         329   \n",
      "2015-01-04         330         330         330         330         330   \n",
      "2015-01-05         338         338         338         338         338   \n",
      "...                ...         ...         ...         ...         ...   \n",
      "2020-12-27           0           0           0           0           0   \n",
      "2020-12-28           0           0           0           0           0   \n",
      "2020-12-29           0           0           0           0           0   \n",
      "2020-12-30           0           0           0           0           0   \n",
      "2020-12-31           0           0           0           0           0   \n",
      "\n",
      "            2020-12-22  2020-12-31  2020-12-31  2020-12-31  \n",
      "Datum                                                       \n",
      "2015-01-01         327         327         327         327  \n",
      "2015-01-02         320         320         320         320  \n",
      "2015-01-03         329         329         329         329  \n",
      "2015-01-04         330         330         330         330  \n",
      "2015-01-05         338         338         338         338  \n",
      "...                ...         ...         ...         ...  \n",
      "2020-12-27           0         404         529         529  \n",
      "2020-12-28           0         407         546         546  \n",
      "2020-12-29           0         406         556         556  \n",
      "2020-12-30           0         393         555         555  \n",
      "2020-12-31           0         355         534         534  \n",
      "\n",
      "[2192 rows x 9 columns]\n"
     ]
    }
   ],
   "source": [
    "if READ_NEW_DATA:\n",
    "\n",
    "    stored_beds = np.round(stored_beds)\n",
    "    stored_beds = stored_beds.replace(np.nan,0)\n",
    "    stored_beds = stored_beds.astype(int)\n",
    "    print (stored_beds)"
   ]
  },
  {
   "cell_type": "code",
   "execution_count": 18,
   "metadata": {},
   "outputs": [],
   "source": [
    "if READ_NEW_DATA:\n",
    "\n",
    "    latest = stored_beds.iloc[:,-1]\n",
    "    old = stored_beds.iloc[:,:-1]\n",
    "\n"
   ]
  },
  {
   "cell_type": "code",
   "execution_count": 19,
   "metadata": {
    "scrolled": false
   },
   "outputs": [
    {
     "name": "stdout",
     "output_type": "stream",
     "text": [
      "2020-12-02 : dates with diffs > 15 (~5%) from old records\n",
      " Datum\n",
      "2020-10-14     17\n",
      "2020-10-15     17\n",
      "2020-10-16     17\n",
      "2020-10-17     19\n",
      "2020-10-18     18\n",
      "             ... \n",
      "2020-12-27    529\n",
      "2020-12-28    546\n",
      "2020-12-29    556\n",
      "2020-12-30    555\n",
      "2020-12-31    534\n",
      "Length: 79, dtype: int64\n",
      "2020-12-03 : dates with diffs > 15 (~5%) from old records\n",
      " Datum\n",
      "2020-10-17     17\n",
      "2020-10-18     16\n",
      "2020-10-20     16\n",
      "2020-10-21     19\n",
      "2020-10-22     20\n",
      "             ... \n",
      "2020-12-27    529\n",
      "2020-12-28    546\n",
      "2020-12-29    556\n",
      "2020-12-30    555\n",
      "2020-12-31    534\n",
      "Length: 75, dtype: int64\n",
      "2020-12-07 : dates with diffs > 15 (~5%) from old records\n",
      " Datum\n",
      "2020-10-21     17\n",
      "2020-10-22     18\n",
      "2020-10-23     17\n",
      "2020-10-24     17\n",
      "2020-10-25     19\n",
      "             ... \n",
      "2020-12-27    529\n",
      "2020-12-28    546\n",
      "2020-12-29    556\n",
      "2020-12-30    555\n",
      "2020-12-31    534\n",
      "Length: 72, dtype: int64\n",
      "2020-12-14 : dates with diffs > 15 (~5%) from old records\n",
      " Datum\n",
      "2020-11-01     16\n",
      "2020-11-02     20\n",
      "2020-11-03     21\n",
      "2020-11-04     20\n",
      "2020-11-05     22\n",
      "             ... \n",
      "2020-12-27    529\n",
      "2020-12-28    546\n",
      "2020-12-29    556\n",
      "2020-12-30    555\n",
      "2020-12-31    534\n",
      "Length: 61, dtype: int64\n",
      "2020-12-15 : dates with diffs > 15 (~5%) from old records\n",
      " Datum\n",
      "2020-11-02     16\n",
      "2020-11-03     18\n",
      "2020-11-04     16\n",
      "2020-11-05     17\n",
      "2020-11-06     20\n",
      "2020-11-07     22\n",
      "2020-11-08     22\n",
      "2020-11-09     24\n",
      "2020-11-10     26\n",
      "2020-11-11     28\n",
      "2020-11-12     25\n",
      "2020-11-13     28\n",
      "2020-11-14     35\n",
      "2020-11-15     37\n",
      "2020-11-16     39\n",
      "2020-11-17     44\n",
      "2020-11-18     45\n",
      "2020-11-19     48\n",
      "2020-11-20     53\n",
      "2020-11-21     55\n",
      "2020-11-22     59\n",
      "2020-11-23     70\n",
      "2020-11-24     78\n",
      "2020-11-25     88\n",
      "2020-11-26    101\n",
      "2020-11-27    120\n",
      "2020-11-28    127\n",
      "2020-11-29    137\n",
      "2020-11-30    154\n",
      "2020-12-01    169\n",
      "2020-12-02    183\n",
      "2020-12-03    198\n",
      "2020-12-04    216\n",
      "2020-12-05    238\n",
      "2020-12-06    254\n",
      "2020-12-07    269\n",
      "2020-12-08    292\n",
      "2020-12-09    313\n",
      "2020-12-10    341\n",
      "2020-12-11    367\n",
      "2020-12-12    380\n",
      "2020-12-13    406\n",
      "2020-12-14    444\n",
      "2020-12-15    497\n",
      "2020-12-16    503\n",
      "2020-12-17    509\n",
      "2020-12-18    525\n",
      "2020-12-19    500\n",
      "2020-12-20    516\n",
      "2020-12-21    505\n",
      "2020-12-22    517\n",
      "2020-12-23    515\n",
      "2020-12-24    507\n",
      "2020-12-25    507\n",
      "2020-12-26    509\n",
      "2020-12-27    529\n",
      "2020-12-28    546\n",
      "2020-12-29    556\n",
      "2020-12-30    555\n",
      "2020-12-31    534\n",
      "dtype: int64\n",
      "2020-12-22 : dates with diffs > 15 (~5%) from old records\n",
      " Datum\n",
      "2020-11-13     16\n",
      "2020-11-14     19\n",
      "2020-11-15     21\n",
      "2020-11-16     22\n",
      "2020-11-17     23\n",
      "2020-11-18     25\n",
      "2020-11-19     25\n",
      "2020-11-20     28\n",
      "2020-11-21     29\n",
      "2020-11-22     32\n",
      "2020-11-23     39\n",
      "2020-11-24     44\n",
      "2020-11-25     51\n",
      "2020-11-26     59\n",
      "2020-11-27     70\n",
      "2020-11-28     76\n",
      "2020-11-29     85\n",
      "2020-11-30    100\n",
      "2020-12-01    113\n",
      "2020-12-02    121\n",
      "2020-12-03    133\n",
      "2020-12-04    146\n",
      "2020-12-05    161\n",
      "2020-12-06    172\n",
      "2020-12-07    182\n",
      "2020-12-08    192\n",
      "2020-12-09    207\n",
      "2020-12-10    234\n",
      "2020-12-11    261\n",
      "2020-12-12    265\n",
      "2020-12-13    280\n",
      "2020-12-14    298\n",
      "2020-12-15    332\n",
      "2020-12-16    346\n",
      "2020-12-17    372\n",
      "2020-12-18    421\n",
      "2020-12-19    439\n",
      "2020-12-20    476\n",
      "2020-12-21    491\n",
      "2020-12-22    517\n",
      "2020-12-23    515\n",
      "2020-12-24    507\n",
      "2020-12-25    507\n",
      "2020-12-26    509\n",
      "2020-12-27    529\n",
      "2020-12-28    546\n",
      "2020-12-29    556\n",
      "2020-12-30    555\n",
      "2020-12-31    534\n",
      "dtype: int64\n"
     ]
    },
    {
     "ename": "ValueError",
     "evalue": "cannot reindex from a duplicate axis",
     "output_type": "error",
     "traceback": [
      "\u001b[0;31m---------------------------------------------------------------------------\u001b[0m",
      "\u001b[0;31mValueError\u001b[0m                                Traceback (most recent call last)",
      "\u001b[0;32m<ipython-input-19-a68219b8ba54>\u001b[0m in \u001b[0;36m<module>\u001b[0;34m\u001b[0m\n\u001b[1;32m      5\u001b[0m \u001b[0;34m\u001b[0m\u001b[0m\n\u001b[1;32m      6\u001b[0m     \u001b[0;32mfor\u001b[0m \u001b[0mcol\u001b[0m \u001b[0;32min\u001b[0m \u001b[0mold_cols\u001b[0m\u001b[0;34m:\u001b[0m\u001b[0;34m\u001b[0m\u001b[0;34m\u001b[0m\u001b[0m\n\u001b[0;32m----> 7\u001b[0;31m         \u001b[0mmask\u001b[0m \u001b[0;34m=\u001b[0m \u001b[0mlatest\u001b[0m \u001b[0;34m!=\u001b[0m \u001b[0mold\u001b[0m\u001b[0;34m[\u001b[0m\u001b[0mcol\u001b[0m\u001b[0;34m]\u001b[0m\u001b[0;34m\u001b[0m\u001b[0;34m\u001b[0m\u001b[0m\n\u001b[0m\u001b[1;32m      8\u001b[0m         \u001b[0mdiff\u001b[0m \u001b[0;34m=\u001b[0m \u001b[0mlatest\u001b[0m\u001b[0;34m[\u001b[0m\u001b[0mmask\u001b[0m\u001b[0;34m]\u001b[0m\u001b[0;34m.\u001b[0m\u001b[0msub\u001b[0m\u001b[0;34m(\u001b[0m\u001b[0mold\u001b[0m\u001b[0;34m[\u001b[0m\u001b[0mcol\u001b[0m\u001b[0;34m]\u001b[0m\u001b[0;34m[\u001b[0m\u001b[0mmask\u001b[0m\u001b[0;34m]\u001b[0m\u001b[0;34m,\u001b[0m\u001b[0maxis\u001b[0m\u001b[0;34m=\u001b[0m\u001b[0;36m0\u001b[0m\u001b[0;34m)\u001b[0m\u001b[0;34m\u001b[0m\u001b[0;34m\u001b[0m\u001b[0m\n\u001b[1;32m      9\u001b[0m         \u001b[0mprint\u001b[0m \u001b[0;34m(\u001b[0m\u001b[0mcol\u001b[0m\u001b[0;34m,\u001b[0m \u001b[0;34m': dates with diffs > 15 (~5%) from old records\\n'\u001b[0m\u001b[0;34m,\u001b[0m\u001b[0mdiff\u001b[0m\u001b[0;34m[\u001b[0m\u001b[0mdiff\u001b[0m \u001b[0;34m>\u001b[0m \u001b[0;36m15\u001b[0m\u001b[0;34m]\u001b[0m\u001b[0;34m)\u001b[0m\u001b[0;34m\u001b[0m\u001b[0;34m\u001b[0m\u001b[0m\n",
      "\u001b[0;32m/usr/local/lib64/python3.8/site-packages/pandas/core/ops/__init__.py\u001b[0m in \u001b[0;36mf\u001b[0;34m(self, other)\u001b[0m\n\u001b[1;32m    699\u001b[0m         \u001b[0maxis\u001b[0m \u001b[0;34m=\u001b[0m \u001b[0;36m1\u001b[0m  \u001b[0;31m# only relevant for Series other case\u001b[0m\u001b[0;34m\u001b[0m\u001b[0;34m\u001b[0m\u001b[0m\n\u001b[1;32m    700\u001b[0m \u001b[0;34m\u001b[0m\u001b[0m\n\u001b[0;32m--> 701\u001b[0;31m         \u001b[0mself\u001b[0m\u001b[0;34m,\u001b[0m \u001b[0mother\u001b[0m \u001b[0;34m=\u001b[0m \u001b[0m_align_method_FRAME\u001b[0m\u001b[0;34m(\u001b[0m\u001b[0mself\u001b[0m\u001b[0;34m,\u001b[0m \u001b[0mother\u001b[0m\u001b[0;34m,\u001b[0m \u001b[0maxis\u001b[0m\u001b[0;34m,\u001b[0m \u001b[0mlevel\u001b[0m\u001b[0;34m=\u001b[0m\u001b[0;32mNone\u001b[0m\u001b[0;34m,\u001b[0m \u001b[0mflex\u001b[0m\u001b[0;34m=\u001b[0m\u001b[0;32mFalse\u001b[0m\u001b[0;34m)\u001b[0m\u001b[0;34m\u001b[0m\u001b[0;34m\u001b[0m\u001b[0m\n\u001b[0m\u001b[1;32m    702\u001b[0m \u001b[0;34m\u001b[0m\u001b[0m\n\u001b[1;32m    703\u001b[0m         \u001b[0;31m# See GH#4537 for discussion of scalar op behavior\u001b[0m\u001b[0;34m\u001b[0m\u001b[0;34m\u001b[0m\u001b[0;34m\u001b[0m\u001b[0m\n",
      "\u001b[0;32m/usr/local/lib64/python3.8/site-packages/pandas/core/ops/__init__.py\u001b[0m in \u001b[0;36m_align_method_FRAME\u001b[0;34m(left, right, axis, flex, level)\u001b[0m\n\u001b[1;32m    514\u001b[0m         \u001b[0;31m# axis=1 is default for DataFrame-with-Series op\u001b[0m\u001b[0;34m\u001b[0m\u001b[0;34m\u001b[0m\u001b[0;34m\u001b[0m\u001b[0m\n\u001b[1;32m    515\u001b[0m         \u001b[0maxis\u001b[0m \u001b[0;34m=\u001b[0m \u001b[0mleft\u001b[0m\u001b[0;34m.\u001b[0m\u001b[0m_get_axis_number\u001b[0m\u001b[0;34m(\u001b[0m\u001b[0maxis\u001b[0m\u001b[0;34m)\u001b[0m \u001b[0;32mif\u001b[0m \u001b[0maxis\u001b[0m \u001b[0;32mis\u001b[0m \u001b[0;32mnot\u001b[0m \u001b[0;32mNone\u001b[0m \u001b[0;32melse\u001b[0m \u001b[0;36m1\u001b[0m\u001b[0;34m\u001b[0m\u001b[0;34m\u001b[0m\u001b[0m\n\u001b[0;32m--> 516\u001b[0;31m         left, right = left.align(\n\u001b[0m\u001b[1;32m    517\u001b[0m             \u001b[0mright\u001b[0m\u001b[0;34m,\u001b[0m \u001b[0mjoin\u001b[0m\u001b[0;34m=\u001b[0m\u001b[0;34m\"outer\"\u001b[0m\u001b[0;34m,\u001b[0m \u001b[0maxis\u001b[0m\u001b[0;34m=\u001b[0m\u001b[0maxis\u001b[0m\u001b[0;34m,\u001b[0m \u001b[0mlevel\u001b[0m\u001b[0;34m=\u001b[0m\u001b[0mlevel\u001b[0m\u001b[0;34m,\u001b[0m \u001b[0mcopy\u001b[0m\u001b[0;34m=\u001b[0m\u001b[0;32mFalse\u001b[0m\u001b[0;34m\u001b[0m\u001b[0;34m\u001b[0m\u001b[0m\n\u001b[1;32m    518\u001b[0m         )\n",
      "\u001b[0;32m/usr/local/lib64/python3.8/site-packages/pandas/core/frame.py\u001b[0m in \u001b[0;36malign\u001b[0;34m(self, other, join, axis, level, copy, fill_value, method, limit, fill_axis, broadcast_axis)\u001b[0m\n\u001b[1;32m   3950\u001b[0m         \u001b[0mbroadcast_axis\u001b[0m\u001b[0;34m=\u001b[0m\u001b[0;32mNone\u001b[0m\u001b[0;34m,\u001b[0m\u001b[0;34m\u001b[0m\u001b[0;34m\u001b[0m\u001b[0m\n\u001b[1;32m   3951\u001b[0m     ) -> \"DataFrame\":\n\u001b[0;32m-> 3952\u001b[0;31m         return super().align(\n\u001b[0m\u001b[1;32m   3953\u001b[0m             \u001b[0mother\u001b[0m\u001b[0;34m,\u001b[0m\u001b[0;34m\u001b[0m\u001b[0;34m\u001b[0m\u001b[0m\n\u001b[1;32m   3954\u001b[0m             \u001b[0mjoin\u001b[0m\u001b[0;34m=\u001b[0m\u001b[0mjoin\u001b[0m\u001b[0;34m,\u001b[0m\u001b[0;34m\u001b[0m\u001b[0;34m\u001b[0m\u001b[0m\n",
      "\u001b[0;32m/usr/local/lib64/python3.8/site-packages/pandas/core/generic.py\u001b[0m in \u001b[0;36malign\u001b[0;34m(self, other, join, axis, level, copy, fill_value, method, limit, fill_axis, broadcast_axis)\u001b[0m\n\u001b[1;32m   8545\u001b[0m             )\n\u001b[1;32m   8546\u001b[0m         \u001b[0;32melif\u001b[0m \u001b[0misinstance\u001b[0m\u001b[0;34m(\u001b[0m\u001b[0mother\u001b[0m\u001b[0;34m,\u001b[0m \u001b[0mABCSeries\u001b[0m\u001b[0;34m)\u001b[0m\u001b[0;34m:\u001b[0m\u001b[0;34m\u001b[0m\u001b[0;34m\u001b[0m\u001b[0m\n\u001b[0;32m-> 8547\u001b[0;31m             return self._align_series(\n\u001b[0m\u001b[1;32m   8548\u001b[0m                 \u001b[0mother\u001b[0m\u001b[0;34m,\u001b[0m\u001b[0;34m\u001b[0m\u001b[0;34m\u001b[0m\u001b[0m\n\u001b[1;32m   8549\u001b[0m                 \u001b[0mjoin\u001b[0m\u001b[0;34m=\u001b[0m\u001b[0mjoin\u001b[0m\u001b[0;34m,\u001b[0m\u001b[0;34m\u001b[0m\u001b[0;34m\u001b[0m\u001b[0m\n",
      "\u001b[0;32m/usr/local/lib64/python3.8/site-packages/pandas/core/generic.py\u001b[0m in \u001b[0;36m_align_series\u001b[0;34m(self, other, join, axis, level, copy, fill_value, method, limit, fill_axis)\u001b[0m\n\u001b[1;32m   8678\u001b[0m \u001b[0;34m\u001b[0m\u001b[0m\n\u001b[1;32m   8679\u001b[0m                 \u001b[0;32mif\u001b[0m \u001b[0mlidx\u001b[0m \u001b[0;32mis\u001b[0m \u001b[0;32mnot\u001b[0m \u001b[0;32mNone\u001b[0m\u001b[0;34m:\u001b[0m\u001b[0;34m\u001b[0m\u001b[0;34m\u001b[0m\u001b[0m\n\u001b[0;32m-> 8680\u001b[0;31m                     \u001b[0mfdata\u001b[0m \u001b[0;34m=\u001b[0m \u001b[0mfdata\u001b[0m\u001b[0;34m.\u001b[0m\u001b[0mreindex_indexer\u001b[0m\u001b[0;34m(\u001b[0m\u001b[0mjoin_index\u001b[0m\u001b[0;34m,\u001b[0m \u001b[0mlidx\u001b[0m\u001b[0;34m,\u001b[0m \u001b[0maxis\u001b[0m\u001b[0;34m=\u001b[0m\u001b[0;36m0\u001b[0m\u001b[0;34m)\u001b[0m\u001b[0;34m\u001b[0m\u001b[0;34m\u001b[0m\u001b[0m\n\u001b[0m\u001b[1;32m   8681\u001b[0m             \u001b[0;32melse\u001b[0m\u001b[0;34m:\u001b[0m\u001b[0;34m\u001b[0m\u001b[0;34m\u001b[0m\u001b[0m\n\u001b[1;32m   8682\u001b[0m                 \u001b[0;32mraise\u001b[0m \u001b[0mValueError\u001b[0m\u001b[0;34m(\u001b[0m\u001b[0;34m\"Must specify axis=0 or 1\"\u001b[0m\u001b[0;34m)\u001b[0m\u001b[0;34m\u001b[0m\u001b[0;34m\u001b[0m\u001b[0m\n",
      "\u001b[0;32m/usr/local/lib64/python3.8/site-packages/pandas/core/internals/managers.py\u001b[0m in \u001b[0;36mreindex_indexer\u001b[0;34m(self, new_axis, indexer, axis, fill_value, allow_dups, copy)\u001b[0m\n\u001b[1;32m   1241\u001b[0m         \u001b[0;31m# some axes don't allow reindexing with dups\u001b[0m\u001b[0;34m\u001b[0m\u001b[0;34m\u001b[0m\u001b[0;34m\u001b[0m\u001b[0m\n\u001b[1;32m   1242\u001b[0m         \u001b[0;32mif\u001b[0m \u001b[0;32mnot\u001b[0m \u001b[0mallow_dups\u001b[0m\u001b[0;34m:\u001b[0m\u001b[0;34m\u001b[0m\u001b[0;34m\u001b[0m\u001b[0m\n\u001b[0;32m-> 1243\u001b[0;31m             \u001b[0mself\u001b[0m\u001b[0;34m.\u001b[0m\u001b[0maxes\u001b[0m\u001b[0;34m[\u001b[0m\u001b[0maxis\u001b[0m\u001b[0;34m]\u001b[0m\u001b[0;34m.\u001b[0m\u001b[0m_can_reindex\u001b[0m\u001b[0;34m(\u001b[0m\u001b[0mindexer\u001b[0m\u001b[0;34m)\u001b[0m\u001b[0;34m\u001b[0m\u001b[0;34m\u001b[0m\u001b[0m\n\u001b[0m\u001b[1;32m   1244\u001b[0m \u001b[0;34m\u001b[0m\u001b[0m\n\u001b[1;32m   1245\u001b[0m         \u001b[0;32mif\u001b[0m \u001b[0maxis\u001b[0m \u001b[0;34m>=\u001b[0m \u001b[0mself\u001b[0m\u001b[0;34m.\u001b[0m\u001b[0mndim\u001b[0m\u001b[0;34m:\u001b[0m\u001b[0;34m\u001b[0m\u001b[0;34m\u001b[0m\u001b[0m\n",
      "\u001b[0;32m/usr/local/lib64/python3.8/site-packages/pandas/core/indexes/base.py\u001b[0m in \u001b[0;36m_can_reindex\u001b[0;34m(self, indexer)\u001b[0m\n\u001b[1;32m   3281\u001b[0m         \u001b[0;31m# trying to reindex on an axis with duplicates\u001b[0m\u001b[0;34m\u001b[0m\u001b[0;34m\u001b[0m\u001b[0;34m\u001b[0m\u001b[0m\n\u001b[1;32m   3282\u001b[0m         \u001b[0;32mif\u001b[0m \u001b[0;32mnot\u001b[0m \u001b[0mself\u001b[0m\u001b[0;34m.\u001b[0m\u001b[0mis_unique\u001b[0m \u001b[0;32mand\u001b[0m \u001b[0mlen\u001b[0m\u001b[0;34m(\u001b[0m\u001b[0mindexer\u001b[0m\u001b[0;34m)\u001b[0m\u001b[0;34m:\u001b[0m\u001b[0;34m\u001b[0m\u001b[0;34m\u001b[0m\u001b[0m\n\u001b[0;32m-> 3283\u001b[0;31m             \u001b[0;32mraise\u001b[0m \u001b[0mValueError\u001b[0m\u001b[0;34m(\u001b[0m\u001b[0;34m\"cannot reindex from a duplicate axis\"\u001b[0m\u001b[0;34m)\u001b[0m\u001b[0;34m\u001b[0m\u001b[0;34m\u001b[0m\u001b[0m\n\u001b[0m\u001b[1;32m   3284\u001b[0m \u001b[0;34m\u001b[0m\u001b[0m\n\u001b[1;32m   3285\u001b[0m     \u001b[0;32mdef\u001b[0m \u001b[0mreindex\u001b[0m\u001b[0;34m(\u001b[0m\u001b[0mself\u001b[0m\u001b[0;34m,\u001b[0m \u001b[0mtarget\u001b[0m\u001b[0;34m,\u001b[0m \u001b[0mmethod\u001b[0m\u001b[0;34m=\u001b[0m\u001b[0;32mNone\u001b[0m\u001b[0;34m,\u001b[0m \u001b[0mlevel\u001b[0m\u001b[0;34m=\u001b[0m\u001b[0;32mNone\u001b[0m\u001b[0;34m,\u001b[0m \u001b[0mlimit\u001b[0m\u001b[0;34m=\u001b[0m\u001b[0;32mNone\u001b[0m\u001b[0;34m,\u001b[0m \u001b[0mtolerance\u001b[0m\u001b[0;34m=\u001b[0m\u001b[0;32mNone\u001b[0m\u001b[0;34m)\u001b[0m\u001b[0;34m:\u001b[0m\u001b[0;34m\u001b[0m\u001b[0;34m\u001b[0m\u001b[0m\n",
      "\u001b[0;31mValueError\u001b[0m: cannot reindex from a duplicate axis"
     ]
    }
   ],
   "source": [
    "\n",
    "if READ_NEW_DATA:\n",
    "\n",
    "    old_cols = old.columns\n",
    "    old_cols\n",
    "\n",
    "    for col in old_cols:\n",
    "        mask = latest != old[col]\n",
    "        diff = latest[mask].sub(old[col][mask],axis=0)\n",
    "        print (col, ': dates with diffs > 15 (~5%) from old records\\n',diff[diff > 15])"
   ]
  },
  {
   "cell_type": "code",
   "execution_count": null,
   "metadata": {},
   "outputs": [],
   "source": []
  },
  {
   "cell_type": "code",
   "execution_count": null,
   "metadata": {},
   "outputs": [],
   "source": [
    "last_date = df_beds_YTD.index[-1]\n",
    "print (last_date)\n",
    "last_good_date = last_date - pd.DateOffset(days=0)\n",
    "last_good_date"
   ]
  },
  {
   "cell_type": "code",
   "execution_count": null,
   "metadata": {},
   "outputs": [],
   "source": [
    "df_beds_YTD = df_beds_YTD.loc[:last_good_date]\n",
    "df_beds_YTD"
   ]
  },
  {
   "cell_type": "code",
   "execution_count": null,
   "metadata": {},
   "outputs": [],
   "source": [
    "new_year_eve = (df_beds_YTD.index.month == 12) & (df_beds_YTD.index.day == 31) & \\\n",
    "                                                 (df_beds_YTD.index.hour == 23) & \\\n",
    "                                                (df_beds_YTD.index.minute == 59)\n",
    "df_beds_YTD[new_year_eve]"
   ]
  },
  {
   "cell_type": "code",
   "execution_count": null,
   "metadata": {},
   "outputs": [],
   "source": [
    "avg_daily_beds = df_beds_YTD.resample('D').mean()\n",
    "avg_daily_beds"
   ]
  },
  {
   "cell_type": "code",
   "execution_count": null,
   "metadata": {
    "scrolled": false
   },
   "outputs": [],
   "source": [
    "avg_daily_beds_15_19  = avg_daily_beds.loc[:'2019-12-31'].groupby(\n",
    "    [avg_daily_beds.loc[:'2019-12-31'].index.month,avg_daily_beds.loc[:'2019-12-31'].index.day]).mean()\n",
    "\n",
    "print (avg_daily_beds_15_19[(avg_daily_beds_15_19.index.get_level_values(0) == 2) \\\n",
    "                     & (avg_daily_beds_15_19.index.get_level_values(1) == 29)])\n",
    "\n",
    "avg_daily_beds_15_19_no_leap = avg_daily_beds_15_19.drop((2,29),axis=0)\n",
    "avg_daily_beds_15_19_no_leap"
   ]
  },
  {
   "cell_type": "code",
   "execution_count": null,
   "metadata": {},
   "outputs": [],
   "source": [
    "yearly_day_avg = pd.concat([avg_daily_beds_15_19_no_leap['Platser'].reset_index(drop=True),\n",
    "                            avg_daily_beds_15_19['Platser'].reset_index(drop=True),\n",
    "                            pd.Series(np.tile(avg_daily_beds_15_19_no_leap['Platser'].reset_index(drop=True),3)),\n",
    "                           avg_daily_beds_15_19['Platser'].reset_index(drop=True)])\n",
    "                            \n",
    "yearly_day_avg \n"
   ]
  },
  {
   "cell_type": "code",
   "execution_count": null,
   "metadata": {},
   "outputs": [],
   "source": [
    "idx = pd.date_range('2015-01-01','2020-12-31',freq='D')"
   ]
  },
  {
   "cell_type": "code",
   "execution_count": null,
   "metadata": {},
   "outputs": [],
   "source": [
    "yearly_day_avg.index = idx\n",
    "yearly_day_avg"
   ]
  },
  {
   "cell_type": "code",
   "execution_count": null,
   "metadata": {},
   "outputs": [],
   "source": [
    "title = 'SWEDEN ICU avg daily occupancy 2015 - YTD {} cmp daily average 2015-2019'.format(last_good_date.date())\n",
    "ax = yearly_day_avg.plot(figsize=(18,12),color='orange',title=title)\n",
    "avg_daily_beds.plot(ax=ax)\n",
    "\n",
    "plt.legend(['2015-2019 average per day of year','actuals'])\n",
    "plt.ylabel('occupancy')\n",
    "plt.xlabel('date')\n",
    "plt.ylim([0,750])\n",
    "plt.savefig('swe_iva_2015-2020_ytd.jpg',format='jpg')"
   ]
  },
  {
   "cell_type": "code",
   "execution_count": null,
   "metadata": {},
   "outputs": [],
   "source": [
    "500/350"
   ]
  },
  {
   "cell_type": "code",
   "execution_count": null,
   "metadata": {},
   "outputs": [],
   "source": [
    "avg_daily_beds"
   ]
  },
  {
   "cell_type": "code",
   "execution_count": null,
   "metadata": {},
   "outputs": [],
   "source": [
    "ax = yearly_day_avg.loc['2020-11-01' : '2020-11-30'].plot(figsize=(18,12),label='baseline',color='orange')\n",
    "avg_daily_beds.loc['2020-11-01' : '2020-11-30','Platser'].plot(color='b',ax=ax,label='2020')\n",
    "plt.ylim([0,600])\n",
    "plt.legend(loc='upper left')"
   ]
  },
  {
   "cell_type": "code",
   "execution_count": null,
   "metadata": {},
   "outputs": [],
   "source": [
    "nov_2020_beds = avg_daily_beds.loc['2020-11-01' : '2020-11-30','Platser']\n",
    "nov_baseline_beds = yearly_day_avg.loc['2020-11-01' : '2020-11-30']\n",
    "\n",
    "pct_diff = nov_2020_beds / nov_baseline_beds\n",
    "pct_diff"
   ]
  },
  {
   "cell_type": "code",
   "execution_count": null,
   "metadata": {},
   "outputs": [],
   "source": [
    "title = 'SWEDEN Growth factor ICU daily avg. occupacy Nov 2020 vs Nov baseline 2015-2019\\nDataSource : Svenska Intensivvårdsregistret'\n",
    "pct_diff.plot(figsize=(18,12),title=title,style='o--')\n",
    "plt.axhline(1,ls='dashed',color='k')\n",
    "plt.ylabel('Growth factor')\n",
    "plt.savefig('swe_icu_november_growth.jpg',format='jpg')"
   ]
  },
  {
   "cell_type": "code",
   "execution_count": null,
   "metadata": {},
   "outputs": [],
   "source": [
    "avg_weekly_beds = avg_daily_beds.resample('W').mean()\n",
    "avg_weekly_beds"
   ]
  },
  {
   "cell_type": "code",
   "execution_count": null,
   "metadata": {},
   "outputs": [],
   "source": [
    "last_week = avg_weekly_beds.index[-2].date()\n",
    "\n",
    "title = 'SWEDEN weekly avg daily ICU bed usage YTD {}'.format(last_week)\n",
    "avg_weekly_beds[:last_week].plot(figsize=(18,12),style='o--',title=title)\n",
    "plt.ylabel('avg daily ICU beds per week')\n",
    "plt.savefig('iva_avg_daily_beds_per_week.jpg',format='jpg')"
   ]
  },
  {
   "cell_type": "code",
   "execution_count": null,
   "metadata": {},
   "outputs": [],
   "source": [
    "df_icu_transactions = pd.read_excel('iva.xlsx',sheet_name='Data portal',skiprows=1)"
   ]
  },
  {
   "cell_type": "code",
   "execution_count": null,
   "metadata": {},
   "outputs": [],
   "source": [
    "iva_trans = iva_datetime_idx(df_icu_transactions)\n",
    "iva_trans"
   ]
  },
  {
   "cell_type": "code",
   "execution_count": null,
   "metadata": {},
   "outputs": [],
   "source": [
    "avg_daily_beds"
   ]
  },
  {
   "cell_type": "code",
   "execution_count": null,
   "metadata": {},
   "outputs": [],
   "source": [
    "yearly_beds = avg_daily_beds.groupby(avg_daily_beds.index.year)"
   ]
  },
  {
   "cell_type": "code",
   "execution_count": null,
   "metadata": {},
   "outputs": [],
   "source": [
    "beds_2015_ytd = (yearly_beds.get_group(2015)).loc[:last_good_date].sum()\n",
    "beds_2016_ytd = (yearly_beds.get_group(2016)).loc[:last_good_date].sum()\n",
    "beds_2017_ytd = (yearly_beds.get_group(2017)).loc[:last_good_date].sum()\n",
    "beds_2018_ytd = (yearly_beds.get_group(2018)).loc[:last_good_date].sum()\n",
    "beds_2019_ytd = (yearly_beds.get_group(2019)).loc[:last_good_date].sum()\n",
    "beds_2020_ytd = (yearly_beds.get_group(2020)).loc[:last_good_date].sum()\n",
    "\n",
    "total_yearly_beds_ytd = pd.concat([beds_2015_ytd,beds_2016_ytd,beds_2017_ytd,\n",
    "                                  beds_2018_ytd,beds_2019_ytd,beds_2020_ytd],axis=1)\n",
    "total_yearly_beds_ytd.columns = range(2015,2021)"
   ]
  },
  {
   "cell_type": "code",
   "execution_count": null,
   "metadata": {},
   "outputs": [],
   "source": [
    "total_yearly_beds_ytd = total_yearly_beds_ytd.T\n",
    "total_yearly_beds_ytd"
   ]
  },
  {
   "cell_type": "code",
   "execution_count": null,
   "metadata": {},
   "outputs": [],
   "source": [
    "beds_mean = total_yearly_beds_ytd.mean()\n",
    "total_yearly_beds_ytd / beds_mean"
   ]
  },
  {
   "cell_type": "code",
   "execution_count": null,
   "metadata": {},
   "outputs": [],
   "source": [
    "foo = avg_daily_beds.groupby(avg_daily_beds.index.year).cumsum()\n",
    "grps = foo.groupby(foo.index.year)\n",
    "cum_beds_15 = grps.get_group(2015)\n",
    "cum_beds_16 = grps.get_group(2016)\n",
    "cum_beds_17 = grps.get_group(2017)\n",
    "cum_beds_18 = grps.get_group(2018)\n",
    "cum_beds_19 = grps.get_group(2019)\n",
    "cum_beds_20 = grps.get_group(2020)\n",
    "\n",
    "cum_beds = pd.concat([cum_beds_15.reset_index(drop=True),\n",
    "                      cum_beds_16.reset_index(drop=True),\n",
    "                      cum_beds_17.reset_index(drop=True),\n",
    "                      cum_beds_18.reset_index(drop=True),\n",
    "                      cum_beds_19.reset_index(drop=True),\n",
    "                      cum_beds_20.reset_index(drop=True)],axis=1)\n",
    "cum_beds.index = pd.date_range('2020-01-01','2020-12-31',freq='D')\n",
    "cum_beds.columns = range(2015,2021)\n",
    "cum_beds"
   ]
  },
  {
   "cell_type": "code",
   "execution_count": null,
   "metadata": {},
   "outputs": [],
   "source": [
    "cum_beds.loc[:last_date].plot(figsize=(18,12))"
   ]
  },
  {
   "cell_type": "code",
   "execution_count": null,
   "metadata": {},
   "outputs": [],
   "source": [
    "avg_daily_beds['year'] = avg_daily_beds.index.year\n",
    "avg_daily_beds['month'] = avg_daily_beds.index.month\n",
    "avg_daily_beds"
   ]
  },
  {
   "cell_type": "code",
   "execution_count": null,
   "metadata": {},
   "outputs": [],
   "source": [
    "\n",
    "\n",
    "### must use pivot_table with its agg func to average monthly values from day based data ###\n",
    "\n",
    "pivot = avg_daily_beds.pivot_table(index='year',columns='month',values='Platser')\n",
    "pivot"
   ]
  },
  {
   "cell_type": "code",
   "execution_count": null,
   "metadata": {},
   "outputs": [],
   "source": [
    "pivot.sum(axis=1)"
   ]
  },
  {
   "cell_type": "code",
   "execution_count": null,
   "metadata": {},
   "outputs": [],
   "source": [
    "# the units on y-axis make no sense...!!!!\n",
    "\n",
    "pivot.plot(kind='bar',stacked=True,figsize=(18,12),title=title)\n"
   ]
  },
  {
   "cell_type": "code",
   "execution_count": null,
   "metadata": {},
   "outputs": [],
   "source": [
    "### IVA AGE vårdtillfällen aka transactions ####\n",
    "\n",
    "age_df = pd.DataFrame()\n",
    "\n",
    "for y in range(2015,2021):\n",
    "    tmp = pd.read_excel('iva_age_' + str(y)[2:] + '.xlsx','Utdataportalen',skiprows=1)\n",
    "    print (len(tmp))\n",
    "    \n",
    "    tmp['Åldersgrupp'] = pd.Categorical(['0 - 4 år','5 - 9 år','10 - 14 år','15 - 19 år','20 - 24 år',\n",
    "                                       '25 - 29 år','30 - 34 år','35 - 39 år','40 - 44 år',\n",
    "                                       '45 - 49 år','50 - 54 år','55 - 59 år','60 - 64 år',\n",
    "                                       '65 - 69 år','70 - 74 år','75 - 79 år','80 - 84 år',\n",
    "                                     '85 - 89 år','90 - 94 år','95 - 99 år','100 - 104 år',\n",
    "                                        '105 - 109 år', '110 - 114 år', '115 - 119 år'])[:len(tmp)]\n",
    "    \n",
    "    tmp['year'] = y\n",
    "    age_df = pd.concat([age_df,tmp])\n",
    "    \n",
    "\n",
    "    \n",
    "age_df"
   ]
  },
  {
   "cell_type": "code",
   "execution_count": null,
   "metadata": {},
   "outputs": [],
   "source": [
    "age_df['iva_count'] = age_df['Antal kvinnor'] + age_df['Antal män']\n",
    "age_df"
   ]
  },
  {
   "cell_type": "code",
   "execution_count": null,
   "metadata": {},
   "outputs": [],
   "source": [
    "age_pivot = age_df.pivot(index='year',columns=['Åldersgrupp'],values=['iva_count'])\n",
    "age_pivot"
   ]
  },
  {
   "cell_type": "code",
   "execution_count": null,
   "metadata": {},
   "outputs": [],
   "source": [
    "age_pivot.sum(axis=1)"
   ]
  },
  {
   "cell_type": "code",
   "execution_count": null,
   "metadata": {},
   "outputs": [],
   "source": [
    "#### 2020 YTD, others full year ####\n",
    "\n",
    "age_pivot.plot(kind='bar',stacked=True,figsize=(18,12))\n",
    "plt.legend(loc='lower center')"
   ]
  },
  {
   "cell_type": "code",
   "execution_count": null,
   "metadata": {},
   "outputs": [],
   "source": [
    "import requests\n",
    "\n",
    "url = 'http://api.scb.se/OV0104/v1/doris/sv/ssd/START/BE/BE0101/BE0101A/BefolkningR1860'\n",
    "data = {\n",
    "  \"query\": [\n",
    "    {\n",
    "      \"code\": \"Alder\",\n",
    "      \"selection\": {\n",
    "        \"filter\": \"agg:Ålder5år\",\n",
    "        \"values\": [\n",
    "          \"-4\",\n",
    "          \"5-9\",\n",
    "          \"10-14\",\n",
    "          \"15-19\",\n",
    "          \"20-24\",\n",
    "          \"25-29\",\n",
    "          \"30-34\",\n",
    "          \"35-39\",\n",
    "          \"40-44\",\n",
    "          \"45-49\",\n",
    "          \"50-54\",\n",
    "          \"55-59\",\n",
    "          \"60-64\",\n",
    "          \"65-69\",\n",
    "          \"70-74\",\n",
    "          \"75-79\",\n",
    "          \"80-84\",\n",
    "          \"85-89\",\n",
    "          \"90-94\",\n",
    "          \"95-99\",\n",
    "          \"100+\"\n",
    "        ]\n",
    "      }\n",
    "    },\n",
    "    {\n",
    "      \"code\": \"Kon\",\n",
    "      \"selection\": {\n",
    "        \"filter\": \"item\",\n",
    "        \"values\": [\n",
    "          \"1\",\n",
    "          \"2\"\n",
    "        ]\n",
    "      }\n",
    "    },\n",
    "    {\n",
    "      \"code\": \"Tid\",\n",
    "      \"selection\": {\n",
    "        \"filter\": \"item\",\n",
    "        \"values\": [\n",
    "          \"2014\",  \n",
    "          \"2015\",\n",
    "          \"2016\",\n",
    "          \"2017\",\n",
    "          \"2018\",\n",
    "          \"2019\"\n",
    "        ]\n",
    "      }\n",
    "    }\n",
    "  ],\n",
    "  \"response\": {\n",
    "    \"format\": \"json\"\n",
    "  }\n",
    "}"
   ]
  },
  {
   "cell_type": "code",
   "execution_count": null,
   "metadata": {},
   "outputs": [],
   "source": [
    "r = requests.post(url,json=data)\n",
    "r.status_code"
   ]
  },
  {
   "cell_type": "code",
   "execution_count": null,
   "metadata": {},
   "outputs": [],
   "source": [
    "json = r.json()\n",
    "json['data'][0]"
   ]
  },
  {
   "cell_type": "code",
   "execution_count": null,
   "metadata": {},
   "outputs": [],
   "source": [
    "items = len(json['data'])\n",
    "data_list = []\n",
    "\n",
    "for i in range(items):\n",
    "    tmp = list([json['data'][i]['key'][0],json['data'][i]['key'][1],json['data'][i]['key'][2],\n",
    "               json['data'][i]['values'][0]])\n",
    "    \n",
    "    data_list.append(tmp)\n",
    "    \n",
    "data_list\n",
    "\n",
    "pop_df = pd.DataFrame(data_list)\n",
    "pop_df.columns = ['age','gender','year','pop']\n",
    "pop_df['age'] = pd.Categorical(pop_df['age'],['-4','5-9','10-14','15-19','20-24',\n",
    "                                             '25-29','30-34','35-39','40-44',\n",
    "                                             '45-49','50-54','55-59','60-64','65-69',\n",
    "                                             '70-74','75-79','80-84','85-89',\n",
    "                                             '90-94','95-99','100+'])\n",
    "pop_df"
   ]
  },
  {
   "cell_type": "code",
   "execution_count": null,
   "metadata": {},
   "outputs": [],
   "source": [
    "pop_df['pop'] = pop_df['pop'].astype(int)\n",
    "pop_df = pop_df.groupby(['year','age']).sum()\n",
    "pop_df"
   ]
  },
  {
   "cell_type": "code",
   "execution_count": null,
   "metadata": {},
   "outputs": [],
   "source": [
    "pop_df.groupby(pop_df.index.get_level_values(0)).sum()"
   ]
  },
  {
   "cell_type": "code",
   "execution_count": null,
   "metadata": {},
   "outputs": [],
   "source": [
    "pop_df = pop_df.unstack()\n",
    "pop_df.index = range(2015,2021)\n",
    "pop_df.info()"
   ]
  },
  {
   "cell_type": "code",
   "execution_count": null,
   "metadata": {},
   "outputs": [],
   "source": [
    "pop_df.sum(axis=1)"
   ]
  },
  {
   "cell_type": "code",
   "execution_count": null,
   "metadata": {},
   "outputs": [],
   "source": [
    "pop_df = pop_df.unstack().reset_index().drop('level_0',axis=1).pivot(index='level_2',columns='age',values=0)\n",
    "pop_df"
   ]
  },
  {
   "cell_type": "code",
   "execution_count": null,
   "metadata": {},
   "outputs": [],
   "source": [
    "age_pivot = age_pivot.unstack().reset_index().drop('level_0',axis=1).pivot(index='year',columns='Åldersgrupp',\n",
    "                                                              values=0)\n",
    "age_pivot"
   ]
  },
  {
   "cell_type": "code",
   "execution_count": null,
   "metadata": {},
   "outputs": [],
   "source": [
    "hundred_plus = age_pivot.loc[:,'100 - 104 år':].sum(axis=1)\n",
    "hundred_plus"
   ]
  },
  {
   "cell_type": "code",
   "execution_count": null,
   "metadata": {},
   "outputs": [],
   "source": [
    "age_pivot = (age_pivot.loc[:,:'95 - 99 år']).copy()\n",
    "age_pivot.columns = age_pivot.columns.tolist()\n",
    "age_pivot"
   ]
  },
  {
   "cell_type": "code",
   "execution_count": null,
   "metadata": {},
   "outputs": [],
   "source": [
    "age_pivot\n",
    "age_pivot['100+'] = hundred_plus\n",
    "age_pivot"
   ]
  },
  {
   "cell_type": "code",
   "execution_count": null,
   "metadata": {},
   "outputs": [],
   "source": [
    "age_pivot.sum(axis=1)"
   ]
  },
  {
   "cell_type": "code",
   "execution_count": null,
   "metadata": {},
   "outputs": [],
   "source": [
    "age_pivot.columns = pop_df.columns"
   ]
  },
  {
   "cell_type": "code",
   "execution_count": null,
   "metadata": {},
   "outputs": [],
   "source": [
    "# rel pop of age group\n",
    "iva_per_age = age_pivot / pop_df\n",
    "iva_per_age"
   ]
  },
  {
   "cell_type": "code",
   "execution_count": null,
   "metadata": {},
   "outputs": [],
   "source": [
    "iva_per_age.sum(axis=1)"
   ]
  },
  {
   "cell_type": "code",
   "execution_count": null,
   "metadata": {},
   "outputs": [],
   "source": [
    "# age grp proportion of all IVA transactions\n",
    "iva_per_age_rel = iva_per_age.div(iva_per_age.sum(axis=1),axis=0)\n",
    "iva_per_age_rel"
   ]
  },
  {
   "cell_type": "code",
   "execution_count": null,
   "metadata": {},
   "outputs": [],
   "source": [
    "iva_per_age_rel.sum(axis=1)"
   ]
  },
  {
   "cell_type": "code",
   "execution_count": null,
   "metadata": {},
   "outputs": [],
   "source": [
    "iva_per_age_rel.T.plot(kind='bar',figsize=(18,12))"
   ]
  },
  {
   "cell_type": "code",
   "execution_count": null,
   "metadata": {},
   "outputs": [],
   "source": [
    "iva_per_age_rel.plot(kind='bar',stacked=True,figsize=(18,12))"
   ]
  },
  {
   "cell_type": "code",
   "execution_count": null,
   "metadata": {},
   "outputs": [],
   "source": [
    "age_grp_rel_avg = iva_per_age_rel.loc[:2019,:].mean()\n",
    "rel_change = iva_per_age_rel / age_grp_rel_avg\n",
    "rel_change"
   ]
  },
  {
   "cell_type": "code",
   "execution_count": null,
   "metadata": {},
   "outputs": [],
   "source": [
    "rel_change.plot(kind='bar',figsize=(18,12))\n",
    "plt.axhline(1,ls='dashed',color='k')"
   ]
  },
  {
   "cell_type": "code",
   "execution_count": null,
   "metadata": {},
   "outputs": [],
   "source": [
    "change_vs_baseline = pd.concat([age_grp_rel_avg,iva_per_age_rel.loc[2020]],axis=1)\n",
    "change_vs_baseline.rename(columns={0:'2015-2019'},inplace=True)\n",
    "change_vs_baseline"
   ]
  },
  {
   "cell_type": "code",
   "execution_count": null,
   "metadata": {},
   "outputs": [],
   "source": [
    "change_vs_baseline['change'] = change_vs_baseline[2020] / change_vs_baseline['2015-2019']\n",
    "change_vs_baseline"
   ]
  },
  {
   "cell_type": "code",
   "execution_count": null,
   "metadata": {},
   "outputs": [],
   "source": [
    "title = 'SWEDEN ICU transactions: change per age group 2020 YTD vs avg 2015-2019'\n",
    "change_vs_baseline.plot(y='change',kind='bar',figsize=(18,12),color='orange',title=title)\n",
    "plt.axhline(1,ls='dashed',color='k')\n",
    "plt.ylabel('change factor')\n",
    "plt.savefig('swe_iva_age_grp_change.jpg',format='jpg')"
   ]
  },
  {
   "cell_type": "code",
   "execution_count": null,
   "metadata": {},
   "outputs": [],
   "source": []
  },
  {
   "cell_type": "code",
   "execution_count": null,
   "metadata": {},
   "outputs": [],
   "source": [
    "iva_per_age.plot(kind='bar',stacked=True,figsize=(18,12))"
   ]
  },
  {
   "cell_type": "code",
   "execution_count": null,
   "metadata": {},
   "outputs": [],
   "source": [
    "### vårddygn och längd ###\n",
    "\n",
    "days_df = pd.DataFrame()\n",
    "\n",
    "for y in range(2015,2021):\n",
    "    tmp = pd.read_excel('iva_days_' + str(y)[2:] + '.xlsx','Utdataportalen',skiprows=1)\n",
    "    tmp['year'] = y\n",
    "    days_df = pd.concat([days_df,tmp])\n",
    "  \n",
    "\n",
    "days_df['Vårdtid, dagar'] = pd.Categorical(days_df['Vårdtid, dagar'],\n",
    "                                          ['< 1','1 - 3','4 - 10','11 - 30','> 30'])    \n",
    "days_df"
   ]
  },
  {
   "cell_type": "code",
   "execution_count": null,
   "metadata": {},
   "outputs": [],
   "source": [
    "days_pivot = days_df.pivot(index='year',columns='Vårdtid, dagar',\n",
    "                           values=['Antal vårdtillfällen','Antal vårddygn'])\n",
    "\n",
    "days_pivot"
   ]
  },
  {
   "cell_type": "code",
   "execution_count": null,
   "metadata": {},
   "outputs": [],
   "source": [
    "days_pivot['Antal vårdtillfällen'].plot(kind='bar',figsize=(18,12))"
   ]
  },
  {
   "cell_type": "code",
   "execution_count": null,
   "metadata": {},
   "outputs": [],
   "source": [
    "icd_df = pd.DataFrame()\n",
    "\n",
    "for y in range(2015,2021):\n",
    "    tmp = pd.read_excel('iva_icd_codes_' + str(y)[2:] + '.xlsx','Utdataportalen',skiprows=1)\n",
    "    print (len(tmp))\n",
    "    \n",
    "    tmp['year'] = y\n",
    "    icd_df = pd.concat([icd_df,tmp])\n",
    "    \n"
   ]
  },
  {
   "cell_type": "code",
   "execution_count": null,
   "metadata": {},
   "outputs": [],
   "source": [
    "icd_df"
   ]
  },
  {
   "cell_type": "code",
   "execution_count": null,
   "metadata": {},
   "outputs": [],
   "source": [
    "(icd_df.loc[icd_df['year'] != 2020]).mean()"
   ]
  },
  {
   "cell_type": "code",
   "execution_count": null,
   "metadata": {
    "scrolled": false
   },
   "outputs": [],
   "source": [
    "icd_year_grp = icd_df.groupby(['year','Huvudsaklig IVA-diagnos']).mean()\n",
    "g = icd_year_grp.groupby('year',group_keys=False)\n",
    "sorted_vtf = g.apply(lambda x : x.sort_values('Antal vtf',ascending=False).head(10))\n",
    "sorted_beds = g.apply(lambda x : x.sort_values('Antal dygn',ascending=False).head(10))\n",
    "\n",
    "all_sorted_vtf = g.apply(lambda x : x.sort_values('Antal vtf',ascending=False))\n",
    "all_sorted_vtf['rank'] = all_sorted_vtf.groupby('year')['Antal vtf'].rank(ascending=False)\n",
    "\n",
    "sorted_vtf['rank'] = sorted_vtf.groupby('year')['Antal vtf'].rank(ascending=False)\n",
    "sorted_beds['rank'] = sorted_beds.groupby('year')['Antal dygn'].rank(ascending=False)\n",
    "\n",
    "sorted_vtf"
   ]
  },
  {
   "cell_type": "code",
   "execution_count": null,
   "metadata": {},
   "outputs": [],
   "source": [
    "sorted_beds"
   ]
  },
  {
   "cell_type": "code",
   "execution_count": null,
   "metadata": {
    "scrolled": false
   },
   "outputs": [],
   "source": [
    "color_factor = 10\n",
    "color_15 = ['g'] * 10\n",
    "color_16 = ['yellow'] * 10\n",
    "color_17 = ['darkorange'] * 10\n",
    "color_18 = ['magenta'] * 10\n",
    "color_19 = ['k'] * 10\n",
    "color_20 = ['crimson'] * 10\n",
    "\n",
    "colors = color_15 + color_16 + color_17 + color_18 + color_19 + color_20\n",
    "\n",
    "data_source = 'https://www.icuregswe.org/'\n",
    "title = 'SWEDEN Top-10 yearly ICU transactions by diagnosis 2015-2019, cmp YTD {}\\nDataSource {}'.format(\n",
    "    last_good_date.date(),data_source)\n",
    "\n",
    "sorted_vtf.plot(y='Antal vtf',kind='bar',figsize=(18,12),color=colors,title=title,legend=False)\n",
    "plt.ylabel('nr of ICU transactions')\n",
    "plt.xlabel('Huvudsaklig diagnos')\n",
    "plt.savefig('swe_iva_top_10_trans.jpg',format='jpg')"
   ]
  },
  {
   "cell_type": "code",
   "execution_count": null,
   "metadata": {},
   "outputs": [],
   "source": [
    "data_source = 'https://www.icuregswe.org/'\n",
    "title = 'SWEDEN Top-10 yearly ICU days by diagnosis 2015-2019, cmp YTD {}\\nDataSource {}'.format(\n",
    "    last_good_date.date(),data_source)\n",
    "\n",
    "sorted_vtf.plot(y='Antal dygn',kind='bar',figsize=(18,12),color=colors,title=title,legend=False)\n",
    "plt.ylabel('nr of ICU days')\n",
    "plt.xlabel('Huvudsaklig diagnos')\n",
    "plt.savefig('swe_iva_top_10_days.jpg',format='jpg')"
   ]
  },
  {
   "cell_type": "code",
   "execution_count": null,
   "metadata": {},
   "outputs": [],
   "source": [
    "icd_pivot = icd_df.pivot(index='year',columns='Huvudsaklig IVA-diagnos',values='Antal vtf')\n",
    "icd_pivot.T"
   ]
  },
  {
   "cell_type": "code",
   "execution_count": null,
   "metadata": {},
   "outputs": [],
   "source": [
    "icd_pivot.plot(figsize=(18,12),style='o--')\n",
    "plt.legend(loc='lower center')"
   ]
  },
  {
   "cell_type": "code",
   "execution_count": null,
   "metadata": {},
   "outputs": [],
   "source": [
    "sorted_vtf"
   ]
  },
  {
   "cell_type": "code",
   "execution_count": null,
   "metadata": {},
   "outputs": [],
   "source": [
    "top_10_pivot_rank = sorted_vtf.reset_index().pivot(index='year',columns='Huvudsaklig IVA-diagnos',values='rank')\n",
    "#top_10_pivot_rank = top_10_pivot_rank.replace(np.nan,0)\n",
    "top_10_pivot_rank\n"
   ]
  },
  {
   "cell_type": "code",
   "execution_count": null,
   "metadata": {},
   "outputs": [],
   "source": [
    "colors = ['white','grey','yellow',\n",
    "          'gold','darkorange','sandybrown','crimson','k',\n",
    "          'red','blue','olive','lime','magenta','cyan','silver']\n",
    "\n",
    "cols = top_10_pivot_rank.columns\n",
    "\n",
    "color_dict = dict(zip(cols,colors))\n",
    "\n",
    "\n",
    "[color_dict.get(x) for x in cols]\n"
   ]
  },
  {
   "cell_type": "code",
   "execution_count": null,
   "metadata": {
    "scrolled": false
   },
   "outputs": [],
   "source": [
    "\n",
    "\n",
    "plt.figure(figsize=(18,12))\n",
    "ax = plt.gca()\n",
    "\n",
    "title = 'SWEDEN ICU Top-10 transaction diagnosis trends 2015-2019 & YTD {}\\nDataSource : {}'.format(\n",
    "    last_good_date.date(),data_source)\n",
    "\n",
    "top_10_pivot_rank.plot(ax=ax,color=[color_dict.get(x) for x in cols],\n",
    "                       ls='dashdot',marker='o',title=title)\n",
    "\n",
    "plt.legend(loc='lower left')\n",
    "plt.gca().invert_yaxis()\n",
    "plt.ylabel('rank')\n",
    "_= plt.yticks(range(1,11,1))\n",
    "plt.savefig('swe_iva_top_10_rank.jpg',format='jpg')"
   ]
  },
  {
   "cell_type": "code",
   "execution_count": null,
   "metadata": {},
   "outputs": [],
   "source": [
    "top_10_pivot_vtf = sorted_vtf.reset_index().pivot(index='year',columns='Huvudsaklig IVA-diagnos',\n",
    "                                                  values='Antal vtf')\n",
    "top_10_pivot_vtf\n"
   ]
  },
  {
   "cell_type": "code",
   "execution_count": null,
   "metadata": {},
   "outputs": [],
   "source": [
    "top_10_pivot_vtf.plot(style='o--',figsize=(18,12))\n",
    "plt.legend(loc='lower left')\n",
    "#plt.gca().invert_yaxis()\n"
   ]
  },
  {
   "cell_type": "code",
   "execution_count": null,
   "metadata": {},
   "outputs": [],
   "source": [
    "all_sorted_vtf"
   ]
  },
  {
   "cell_type": "code",
   "execution_count": null,
   "metadata": {
    "scrolled": false
   },
   "outputs": [],
   "source": [
    "for y in range(2015,2021):\n",
    "    \n",
    "    print (all_sorted_vtf.loc[all_sorted_vtf.index.get_level_values(0) == y,'rank'])\n",
    "    print()"
   ]
  },
  {
   "cell_type": "code",
   "execution_count": null,
   "metadata": {},
   "outputs": [],
   "source": [
    "title = 'SWEDEN ICU Top-10 transaction diagnosis,avg nr days in care, trends 2015-2019 & YTD {}\\nDataSource : {}'.format(\n",
    "    last_good_date.date(),data_source)\n",
    "sorted_vtf.unstack()['Medel dygn'].plot(color=[color_dict.get(x) for x in cols],figsize=(18,12),\n",
    "                                       ls='dashed',marker='o',title=title)\n",
    "\n",
    "plt.ylabel('Avg days of ICU treatment')\n",
    "plt.savefig('swe_iva_top_10_avg_days.jpg',format='jpg')\n"
   ]
  },
  {
   "cell_type": "code",
   "execution_count": null,
   "metadata": {},
   "outputs": [],
   "source": [
    "age_pivot['-4'] / pop_df['-4']"
   ]
  },
  {
   "cell_type": "code",
   "execution_count": null,
   "metadata": {},
   "outputs": [],
   "source": [
    "iva_per_age_rel"
   ]
  },
  {
   "cell_type": "code",
   "execution_count": null,
   "metadata": {},
   "outputs": [],
   "source": [
    "std_pop = pop_df.loc[2019]\n",
    "std_pop"
   ]
  },
  {
   "cell_type": "code",
   "execution_count": null,
   "metadata": {},
   "outputs": [],
   "source": [
    "age_pivot"
   ]
  },
  {
   "cell_type": "code",
   "execution_count": null,
   "metadata": {},
   "outputs": [],
   "source": [
    "std_cases = (iva_per_age_rel * std_pop).sum(axis=1)\n",
    "std_cases"
   ]
  },
  {
   "cell_type": "code",
   "execution_count": null,
   "metadata": {},
   "outputs": [],
   "source": [
    "std_cases_avg = std_cases.loc[2015:2019].mean()\n",
    "std_cases_avg"
   ]
  },
  {
   "cell_type": "code",
   "execution_count": null,
   "metadata": {},
   "outputs": [],
   "source": [
    "std_cases.loc[2020] / std_cases_avg"
   ]
  },
  {
   "cell_type": "code",
   "execution_count": null,
   "metadata": {},
   "outputs": [],
   "source": [
    "iva_per_age\n"
   ]
  }
 ],
 "metadata": {
  "kernelspec": {
   "display_name": "Python 3",
   "language": "python",
   "name": "python3"
  },
  "language_info": {
   "codemirror_mode": {
    "name": "ipython",
    "version": 3
   },
   "file_extension": ".py",
   "mimetype": "text/x-python",
   "name": "python",
   "nbconvert_exporter": "python",
   "pygments_lexer": "ipython3",
   "version": "3.8.10"
  }
 },
 "nbformat": 4,
 "nbformat_minor": 4
}
