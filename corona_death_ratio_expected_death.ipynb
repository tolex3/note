{
 "cells": [
  {
   "cell_type": "code",
   "execution_count": null,
   "metadata": {
    "scrolled": false
   },
   "outputs": [],
   "source": [
    "import numpy as np\n",
    "import matplotlib.pyplot as plt\n",
    "import seaborn as sns\n",
    "import pandas as pd\n",
    "\n",
    "\n",
    "sns.set()\n",
    "\n",
    "def strip(x):\n",
    "    return x.replace('\\t','')\n",
    "\n",
    "global_df = pd.read_pickle('global_data.pkl')\n",
    "country_dick = pd.read_pickle('country_data.pkl')\n",
    "country_populations = pd.read_csv('world_pop.csv',\n",
    "                                  sep=';',header=None,index_col=0,names=['population'],\n",
    "                                 thousands=',',converters={0 : strip})\n",
    "\n",
    "country_death_rate = pd.read_csv('deaths_per_year.csv',sep=';',\n",
    "                                 header=None,names=['country','deaths_per_thousand'],index_col=0,usecols=[1,2])\n",
    "\n",
    "country_death_rate.sort_index(inplace=True)\n",
    "world_pop = 7.8e9\n",
    "global_deaths_per_year = 56e6\n",
    "global_deaths_per_day = 56e6 / 365\n",
    "\n",
    "population_data =  country_populations.join(country_death_rate,how='outer')\n",
    "\n"
   ]
  },
  {
   "cell_type": "code",
   "execution_count": null,
   "metadata": {
    "scrolled": false
   },
   "outputs": [],
   "source": [
    "def plot_country(country_name):\n",
    "    country = country_dick[country_name]\n",
    "    country_pop = population_data.loc[country_name,'population']\n",
    "    country_death_rate = population_data.loc[country_name,'deaths_per_thousand'] / 1000 / 365\n",
    "    country_deaths_per_day = country_death_rate * country_pop\n",
    "\n",
    "    if country_pop > 1e6: #skip lilleput-countries\n",
    "        \n",
    "        mask = (1e6 * country['confirmed'] / country_pop) > 1\n",
    "        country = country[mask]\n",
    "        mask = country['dead_inc'] >= 1\n",
    "        country = country[mask]\n",
    "    \n",
    "        \n",
    "        country_deaths_by_corona_per_day = country['dead_inc']\n",
    "        country_total_deaths_per_day =  country_deaths_per_day + country_deaths_by_corona_per_day\n",
    "        ratio = country_deaths_by_corona_per_day / country_total_deaths_per_day\n",
    "    \n",
    "        return pd.Series(ratio,name=country_name)\n",
    "\n",
    "death_ratio_df = pd.DataFrame()\n",
    "\n",
    "for c in country_dick.keys():\n",
    "    \n",
    "    try:\n",
    "        pop = population_data.loc[c] #test if present in world_population.csv\n",
    "        s = plot_country(c)\n",
    "        death_ratio_df = pd.concat([death_ratio_df,s],axis=1)\n",
    "    except KeyError:\n",
    "        print ('cant find {} in population data'.format(c))\n",
    "\n",
    "death_ratio_df.index = pd.DatetimeIndex(death_ratio_df.index).date\n",
    "mask = ~death_ratio_df.isnull().all()\n",
    "df = death_ratio_df.loc[:,mask].T\n",
    "last_days_status = df.iloc[:,-4:].median(axis=1)\n",
    "last_days_status = last_days_status.sort_values(ascending=False)\n",
    "last_days_status.dropna(inplace=True)\n",
    "last_days_status *= 100\n",
    "\n",
    "plt.figure(figsize=(18,12))\n",
    "plt.title('Corona - By country ratio daily deaths caused by Corona relative to all Daily deaths [worst case]')\n",
    "plt.ylabel('Corona deaths of all deaths %')\n",
    "plt.savefig('corona_corona_death_ratio.jpg',format='jpg')\n",
    "last_days_status.plot(kind='bar',color='crimson') #exclude San Marino\n",
    "plt.savefig('corona_death_percentage.jpg',format='jpg')\n",
    "last_days_status.head(200)\n",
    "\n"
   ]
  },
  {
   "cell_type": "code",
   "execution_count": null,
   "metadata": {
    "scrolled": false
   },
   "outputs": [],
   "source": [
    "some_countries = ['China','Korea, South','Italy','Spain','US','France']\n",
    "colors = ['crimson','sienna','lime','orange','navy','b']\n",
    "\n",
    "plt.figure(figsize=(18,12))\n",
    "for i,c in enumerate(some_countries):\n",
    "    country = df.loc[c] * 100\n",
    "    plt.plot(country,'x--',label=c,color=colors[i])\n",
    "\n",
    "plt.title('Corona - death ratio timeline')\n",
    "plt.ylabel('ratio assumed Corona caused daily deaths relative all daily deaths in %')\n",
    "plt.legend(loc='upper left')\n",
    "plt.savefig('corona_death_ratio.jpg',format='jpg')"
   ]
  },
  {
   "cell_type": "code",
   "execution_count": null,
   "metadata": {},
   "outputs": [],
   "source": [
    "plt.figure(figsize=(18,12))\n",
    "for i,c in enumerate(some_countries):\n",
    "    country = df.loc[c] * 100\n",
    "    plt.plot(country,'x--',label=c,color=colors[i])\n",
    "\n",
    "plt.title('Corona - death ratio timeline [log scale]')\n",
    "plt.ylabel('ratio assumed Corona caused daily deaths relative all daily deaths in % [log scale]')\n",
    "plt.legend(loc='upper left')\n",
    "plt.yscale('log')\n",
    "plt.savefig('corona_death_ratio_log.jpg',format='jpg')"
   ]
  },
  {
   "cell_type": "code",
   "execution_count": null,
   "metadata": {},
   "outputs": [],
   "source": []
  }
 ],
 "metadata": {
  "kernelspec": {
   "display_name": "Python 3",
   "language": "python",
   "name": "python3"
  },
  "language_info": {
   "codemirror_mode": {
    "name": "ipython",
    "version": 3
   },
   "file_extension": ".py",
   "mimetype": "text/x-python",
   "name": "python",
   "nbconvert_exporter": "python",
   "pygments_lexer": "ipython3",
   "version": "3.6.9"
  }
 },
 "nbformat": 4,
 "nbformat_minor": 4
}
