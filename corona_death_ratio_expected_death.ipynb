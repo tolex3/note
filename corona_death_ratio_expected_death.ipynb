{
 "cells": [
  {
   "cell_type": "code",
   "execution_count": null,
   "metadata": {
    "scrolled": false
   },
   "outputs": [],
   "source": [
    "import numpy as np\n",
    "import matplotlib.pyplot as plt\n",
    "import seaborn as sns\n",
    "import pandas as pd\n",
    "import pymc as pm\n",
    "\n",
    "\n",
    "sns.set()\n",
    "\n",
    "def strip(x):\n",
    "    return x.replace('\\t','')\n",
    "\n",
    "global_df = pd.read_pickle('global_data.pkl')\n",
    "country_dick = pd.read_pickle('country_data.pkl')\n",
    "country_populations = pd.read_csv('world_pop.csv',\n",
    "                                  sep=';',header=None,index_col=0,names=['population'],\n",
    "                                 thousands=',',converters={0 : strip})\n",
    "\n",
    "country_death_rate = pd.read_csv('deaths_per_year.csv',sep=';',\n",
    "                                 header=None,names=['country','deaths_per_thousand'],index_col=0,usecols=[1,2])\n",
    "\n",
    "country_death_rate.sort_index(inplace=True)\n",
    "world_pop = 7.8e9\n",
    "global_deaths_per_year = 56e6\n",
    "global_deaths_per_day = 56e6 / 365\n",
    "\n",
    "population_data =  country_populations.join(country_death_rate,how='outer')\n",
    "\n"
   ]
  },
  {
   "cell_type": "code",
   "execution_count": null,
   "metadata": {},
   "outputs": [],
   "source": [
    "country_dick['Sweden'].tail()\n",
    "country_death_rate.loc['Sweden'] * 10000 / 365"
   ]
  },
  {
   "cell_type": "code",
   "execution_count": null,
   "metadata": {
    "scrolled": false
   },
   "outputs": [],
   "source": [
    "def plot_country(country_name):\n",
    "    country = country_dick[country_name]\n",
    "    country_pop = population_data.loc[country_name,'population']\n",
    "    country_death_rate = population_data.loc[country_name,'deaths_per_thousand'] / 1000 / 365\n",
    "    country_deaths_per_day = country_death_rate * country_pop\n",
    "\n",
    "    if country_pop > 1e6: #skip lilleput-countries\n",
    "        \n",
    "        mask = (1e6 * country['confirmed'] / country_pop) > 1\n",
    "        country = country[mask]\n",
    "        mask = country['dead_inc'] >= 1\n",
    "        country = country[mask]\n",
    "    \n",
    "        \n",
    "        country_deaths_by_corona_per_day = country['dead_inc']\n",
    "        country_total_deaths_per_day =  country_deaths_per_day + country_deaths_by_corona_per_day\n",
    "        ratio = country_deaths_by_corona_per_day / country_total_deaths_per_day\n",
    "    \n",
    "        return pd.Series(ratio,name=country_name)\n",
    "\n",
    "death_ratio_df = pd.DataFrame()\n",
    "\n",
    "for c in country_dick.keys():\n",
    "    \n",
    "    try:\n",
    "        pop = population_data.loc[c] #test if present in world_population.csv\n",
    "        s = plot_country(c)\n",
    "        death_ratio_df = pd.concat([death_ratio_df,s],axis=1)\n",
    "    except KeyError:\n",
    "        print ('cant find {} in population data'.format(c))\n",
    "\n",
    "death_ratio_df.index = pd.DatetimeIndex(death_ratio_df.index).date\n",
    "mask = ~death_ratio_df.isnull().all()\n",
    "df = death_ratio_df.loc[:,mask].T\n",
    "last_days_status = df.iloc[:,-4:].median(axis=1)\n",
    "last_days_status = last_days_status.sort_values(ascending=False)\n",
    "last_days_status.dropna(inplace=True)\n",
    "last_days_status *= 100\n",
    "\n",
    "\n",
    "plt.figure(figsize=(18,12))\n",
    "plt.title('Corona - By country ratio daily deaths caused by Corona relative to all Daily deaths [worst case]')\n",
    "plt.ylabel('Corona deaths of all deaths %')\n",
    "plt.axhline(last_days_status.median() , color='orange',ls='dashed',label='Median')\n",
    "plt.legend (loc='upper left')\n",
    "\n",
    "\n",
    "plt.savefig('corona_corona_death_ratio.jpg',format='jpg')\n",
    "last_days_status.plot(kind='bar',color='crimson') #exclude San Marino\n",
    "plt.savefig('corona_death_percentage.jpg',format='jpg')\n",
    "last_days_status.describe()\n",
    "\n"
   ]
  },
  {
   "cell_type": "code",
   "execution_count": null,
   "metadata": {
    "scrolled": false
   },
   "outputs": [],
   "source": [
    "some_countries = ['China','Korea, South','Italy','Spain','US','France','Sweden']\n",
    "colors = ['crimson','sienna','lime','orange','navy','b','yellow']\n",
    "\n",
    "plt.figure(figsize=(18,12))\n",
    "for i,c in enumerate(some_countries):\n",
    "    country = df.loc[c] * 100\n",
    "    plt.plot(country,'x--',label=c,color=colors[i])\n",
    "\n",
    "plt.title('Corona - death ratio timeline')\n",
    "plt.ylabel('ratio assumed Corona caused daily deaths relative all daily deaths in %')\n",
    "plt.legend(loc='upper left')\n",
    "plt.savefig('corona_death_ratio.jpg',format='jpg')"
   ]
  },
  {
   "cell_type": "code",
   "execution_count": null,
   "metadata": {},
   "outputs": [],
   "source": [
    "plt.figure(figsize=(18,12))\n",
    "for i,c in enumerate(some_countries):\n",
    "    country = df.loc[c] * 100\n",
    "    plt.plot(country,'x--',label=c,color=colors[i])\n",
    "\n",
    "plt.title('Corona - death ratio timeline [log scale]')\n",
    "plt.ylabel('ratio assumed Corona caused daily deaths relative all daily deaths in % [log scale]')\n",
    "plt.legend(loc='upper left')\n",
    "plt.yscale('log')\n",
    "plt.savefig('corona_death_ratio_log.jpg',format='jpg')"
   ]
  },
  {
   "cell_type": "code",
   "execution_count": null,
   "metadata": {},
   "outputs": [],
   "source": [
    "swe = country_dick['Sweden']\n",
    "swe_excess_deaths = 100 * swe['dead_inc'] / (swe['dead_inc'] + \\\n",
    "                                       country_death_rate.loc['Sweden','deaths_per_thousand'] * 10000 / 365)\n",
    "swe_excess_deaths"
   ]
  },
  {
   "cell_type": "code",
   "execution_count": null,
   "metadata": {},
   "outputs": [],
   "source": [
    "swe_excess_deaths.plot(figsize=(18,12),color='crimson')\n",
    "plt.title('Sweden Excess Deaths')\n",
    "plt.ylabel('%')"
   ]
  },
  {
   "cell_type": "code",
   "execution_count": null,
   "metadata": {
    "scrolled": false
   },
   "outputs": [],
   "source": [
    "#### befoe running, edit the csv-file to eliminate comments on top and bottom, and \n",
    "#### rename column dagmånad to dag_månad\n",
    "#### \n",
    "scb_dead = pd.read_csv('scb-dead_per_day.csv',sep=';')\n",
    "scb_dead = scb_dead[['2020','2015-2019']]\n",
    "scb_dead.index=pd.DatetimeIndex(pd.date_range('2020-01-01','2020-12-31'))\n",
    "\n",
    "last_day = scb_dead[scb_dead['2020'] != 0]\n",
    "\n",
    "last_day = last_day.index[-1]\n",
    "last_day = last_day.date()\n",
    "print (last_day)\n",
    "scb_dead[:'2020-05-11']\n",
    "scb_dead[:last_day]"
   ]
  },
  {
   "cell_type": "code",
   "execution_count": null,
   "metadata": {
    "scrolled": false
   },
   "outputs": [],
   "source": [
    "\n",
    "\n",
    "expected_daily_deaths = pd.Series(np.ones(366) * country_death_rate.loc['Sweden','deaths_per_thousand'] * 10000 / 365)\n",
    "expected_daily_deaths.index=pd.DatetimeIndex(pd.date_range('2020-01-01' , '2020-12-31'))\n",
    "\n",
    "expected_eoy = expected_daily_deaths.cumsum()[:last_day][-1]\n",
    "\n",
    "joint_deaths = expected_daily_deaths + swe['dead_inc']\n",
    "joint_deaths.fillna(country_death_rate.loc['Sweden','deaths_per_thousand'] * 10000 / 365,inplace=True)\n",
    "\n",
    "joint_eoy = joint_deaths.cumsum()[:last_day][-1] \n",
    "\n",
    "plt.figure(figsize=(18,12))\n",
    "plt.title('Cumulative deaths Sweden per day - average 2015-2019 vs 2020 actuals until {} \\n Data Source: SCB.se'.format(last_day))\n",
    "#plt.plot(expected_daily_deaths.cumsum()[:last_day],ls='dashed',label='normal expected deaths')\n",
    "print (joint_deaths)\n",
    "#plt.plot(joint_deaths.cumsum()[:last_day],ls='dashed',label='normal expected + corona actual deaths')\n",
    "plt.ylabel('Total Number of Deaths (cumulative)')\n",
    "print (expected_eoy)\n",
    "print (joint_eoy)\n",
    "print (joint_eoy - expected_eoy)\n",
    "\n",
    "last_scb_actual = scb_dead['2020'].cumsum()[:last_day][-1]\n",
    "print (last_scb_actual)\n",
    "\n",
    "last_scb_mean = scb_dead['2015-2019'].cumsum()[:last_day][-1]\n",
    "print (last_scb_mean)\n",
    "\n",
    "print (last_scb_actual - last_scb_mean)\n",
    "\n",
    "plt.plot(scb_dead['2020'].cumsum()[:last_day],ls='dashed',color='crimson',label='scb 2020 total deaths')\n",
    "plt.plot(scb_dead['2015-2019'].cumsum()[:last_day],ls='dashed',color='orange',label='scb 2015-2019 mean deaths')\n",
    "plt.legend(loc='upper left')\n",
    "plt.savefig('scb-daily-deaths.jpg',format='jpg')"
   ]
  },
  {
   "cell_type": "code",
   "execution_count": null,
   "metadata": {},
   "outputs": [],
   "source": [
    "scb_dead = pd.read_csv('scb-dead_per_day.csv',sep=';')\n",
    "scb_dead = scb_dead[['2020','2015-2019']]\n",
    "scb_dead\n",
    "scb_dead.index=pd.DatetimeIndex(pd.date_range('2020-01-01','2020-12-31'))\n",
    "plt.plot(scb_dead.cumsum())"
   ]
  },
  {
   "cell_type": "code",
   "execution_count": null,
   "metadata": {},
   "outputs": [],
   "source": [
    "#excess_deaths per day\n",
    "\n",
    "scb_dead = scb_dead[:last_day].copy()\n",
    "scb_dead['excess_deaths'] = scb_dead['2020'] - scb_dead['2015-2019']\n",
    "\n",
    "print (scb_dead['excess_deaths'].mean())\n",
    "print (scb_dead['excess_deaths'].sum())\n",
    "\n",
    "print (scb_dead.sum())\n",
    "excess_average_mortality = scb_dead['2020'].sum() / scb_dead['2015-2019'].sum()\n",
    "print (excess_average_mortality)\n",
    "print (scb_dead.mean())\n",
    "\n",
    "daily_average_15_19 = scb_dead['2015-2019'].mean()\n",
    "print (daily_average_15_19)\n",
    "scb_dead"
   ]
  },
  {
   "cell_type": "code",
   "execution_count": null,
   "metadata": {},
   "outputs": [],
   "source": [
    "plt.figure(figsize=(18,12))\n",
    "plt.title('Excess deaths day-by-day Sweden 2020 compared to daily average 2015-2019 \\n Data Source SCB.se')\n",
    "\n",
    "plt.bar(scb_dead.index,scb_dead['excess_deaths'],\n",
    "        color='orange',\n",
    "        label='excess deaths per day (accumulated excess deaths YTD: {})'.format(scb_dead['excess_deaths'].sum()))\n",
    "\n",
    "plt.axhline(scb_dead['excess_deaths'].mean(),\n",
    "            color='crimson',ls='dashed',\n",
    "            label='average excess deaths per day: {:.0f} daily average 2015-2019: {:.0f}'.format(\n",
    "                scb_dead['excess_deaths'].mean(),daily_average_15_19))\n",
    "\n",
    "plt.ylabel('excess deaths')\n",
    "plt.legend(loc='upper left')\n",
    "plt.savefig('scb_daily_excess_deaths.jpg',format='jpg')"
   ]
  },
  {
   "cell_type": "code",
   "execution_count": null,
   "metadata": {},
   "outputs": [],
   "source": [
    "lambda_ = pm.Exponential('lambda_',1/scb_dead['2015-2019'].mean())\n",
    "\n",
    "lkh = pm.Poisson('lkh',lambda_,observed=True,value=scb_dead['2015-2019'])\n",
    "\n",
    "model = pm.Model([lambda_,lkh])\n",
    "\n",
    "map_ = pm.MAP(model)\n",
    "map_.fit()\n",
    "\n",
    "mcmc = pm.MCMC(model)\n",
    "\n",
    "sample = mcmc.sample(50000,10000,2)\n",
    "\n",
    "lambda__post = mcmc.trace('lambda_')[:]\n",
    "\n",
    "result = pd.DataFrame({'lambda__post' : lambda__post})\n",
    "\n"
   ]
  },
  {
   "cell_type": "code",
   "execution_count": null,
   "metadata": {},
   "outputs": [],
   "source": [
    "print (result.describe())\n",
    "result.head()"
   ]
  },
  {
   "cell_type": "code",
   "execution_count": null,
   "metadata": {},
   "outputs": [],
   "source": [
    "nr_days = len(scb_dead)\n",
    "#nr_days = 5\n",
    "nr_samples_per_day = 10000\n",
    "\n",
    "samples = np.zeros((nr_days,nr_samples_per_day))\n",
    "\n",
    "for day in range(nr_days):\n",
    "    rows = np.random.choice(result.index,replace=True,size=nr_samples_per_day)\n",
    "    samples[day] = pm.rpoisson(result.iloc[rows].lambda__post)\n",
    "    \n",
    "samples = pd.DataFrame(samples)\n",
    "idx = pd.date_range('2020-01-01',last_day)\n",
    "#idx = pd.date_range('2020-01-01','2020-01-05')\n",
    "\n",
    "samples.index = idx.date\n",
    "\n",
    "CI_89 = np.percentile(samples,[5.5,94.5],axis=1)\n"
   ]
  },
  {
   "cell_type": "code",
   "execution_count": null,
   "metadata": {
    "scrolled": false
   },
   "outputs": [],
   "source": [
    "plt.figure(figsize=(18,12))\n",
    "plt.title('Expected vs Actual Deaths Y2D Sweden')\n",
    "plt.ylabel('Number of deaths')\n",
    "\n",
    "plt.errorbar(samples.index,\n",
    "             samples.mean(axis=1),\n",
    "             yerr=np.array((np.abs(samples.mean(axis=1) - CI_89[0]),\n",
    "                            np.abs(samples.mean(axis=1) - CI_89[1]))),fmt='o',capsize=5,label='Expected deaths, 89% CI')\n",
    "\n",
    "plt.plot(scb_dead['2020'],'o',label='actual deaths 2020')\n",
    "plt.xticks(rotation=90)\n",
    "plt.legend(loc='upper left')\n",
    "plt.savefig('scb_expected_vs_actual_deaths.jpg',format='jpg')"
   ]
  }
 ],
 "metadata": {
  "kernelspec": {
   "display_name": "Python 3",
   "language": "python",
   "name": "python3"
  }
 },
 "nbformat": 4,
 "nbformat_minor": 4
}
