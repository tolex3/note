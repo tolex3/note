{
 "cells": [
  {
   "cell_type": "code",
   "execution_count": null,
   "metadata": {},
   "outputs": [],
   "source": [
    "### uses sheet 1 from scb and  sheet åldersgrupp from fhm\n",
    "\n",
    "#### BEFORE USING, check that scb and fhm have about same number of days of data\n",
    "\n",
    "import numpy as np\n",
    "import matplotlib.pyplot as plt\n",
    "import seaborn as sns\n",
    "import pandas as pd\n",
    "import requests\n",
    "\n",
    "sns.set()\n"
   ]
  },
  {
   "cell_type": "code",
   "execution_count": null,
   "metadata": {},
   "outputs": [],
   "source": [
    "# SCB Excel sheet 1\n",
    "scb_deaths = pd.read_csv('scb-dead_per_day.csv',sep=';',usecols=[1,2,3,4,5,6,7,10,11])\n",
    "scb_deaths"
   ]
  },
  {
   "cell_type": "code",
   "execution_count": null,
   "metadata": {},
   "outputs": [],
   "source": [
    "def translate_month(m):\n",
    "    if m == 'januari' : return  'January'\n",
    "    if m == 'februari' : return 'February'\n",
    "    if m == 'mars' : return 'March'\n",
    "    if m == 'april' : return 'April'\n",
    "    if m == 'maj' : return 'May'\n",
    "    if m == 'juni' : return 'June'\n",
    "    if m == 'juli' : return 'July'\n",
    "    if m == 'augusti' : return 'August'\n",
    "    if m == 'september' : return 'September'\n",
    "    if m == 'oktober' : return 'October'\n",
    "    if m == 'november' : return 'November'\n",
    "    if m == 'december' : return 'December'\n",
    "    \n",
    "    \n",
    "scb_deaths['month'] = scb_deaths['Månad'].apply(translate_month)\n",
    "\n",
    "scb_deaths = scb_deaths.drop('Månad',axis=1)\n",
    "\n",
    "\n",
    "scb_deaths.rename(columns={'Dag' : 'day'},inplace=True)\n",
    "scb_deaths['year'] = '2020'\n",
    "\n",
    "scb_deaths['day'] = scb_deaths['day'].astype(str)\n",
    "    \n"
   ]
  },
  {
   "cell_type": "code",
   "execution_count": null,
   "metadata": {},
   "outputs": [],
   "source": [
    "pd.datetime.strptime('2020'+ '-'+'January'+'-'+'31','%Y-%B-%d')"
   ]
  },
  {
   "cell_type": "code",
   "execution_count": null,
   "metadata": {},
   "outputs": [],
   "source": [
    "def fix_date(s):\n",
    "    return pd.datetime.strptime('2020'+'-'+s.month+'-'+s.day,'%Y-%B-%d')\n",
    "\n",
    "scb_deaths['date'] = scb_deaths.apply(lambda row : fix_date(row),axis=1)"
   ]
  },
  {
   "cell_type": "code",
   "execution_count": null,
   "metadata": {},
   "outputs": [],
   "source": [
    "scb_deaths['date'] = pd.to_datetime(scb_deaths['date'])"
   ]
  },
  {
   "cell_type": "code",
   "execution_count": null,
   "metadata": {},
   "outputs": [],
   "source": [
    "scb_deaths = scb_deaths.set_index('date')"
   ]
  },
  {
   "cell_type": "code",
   "execution_count": null,
   "metadata": {},
   "outputs": [],
   "source": [
    "scb_deaths.drop(['day','month','year'],inplace=True,axis=1)"
   ]
  },
  {
   "cell_type": "code",
   "execution_count": null,
   "metadata": {},
   "outputs": [],
   "source": [
    "last_day_mask = scb_deaths['2020'] != 0\n",
    "scb_deaths = scb_deaths[last_day_mask]\n",
    "\n",
    "scb_deaths"
   ]
  },
  {
   "cell_type": "code",
   "execution_count": null,
   "metadata": {},
   "outputs": [],
   "source": [
    "last_day = scb_deaths.index[-1].date()\n",
    "print (last_day)\n",
    "last_stable_day = (last_day - pd.DateOffset(days=7)).date()\n",
    "last_stable_day"
   ]
  },
  {
   "cell_type": "code",
   "execution_count": null,
   "metadata": {},
   "outputs": [],
   "source": [
    "scb_deaths['excess'] = scb_deaths['2020'] - scb_deaths['2015-2019']\n",
    "scb_deaths['cumexcess'] = scb_deaths['excess'].cumsum()\n",
    "scb_deaths['excess_19'] = scb_deaths['2019'] - scb_deaths['2015-2019']\n",
    "scb_deaths['cumexcess_19'] = scb_deaths['excess_19'].cumsum()\n",
    "scb_deaths"
   ]
  },
  {
   "cell_type": "code",
   "execution_count": null,
   "metadata": {},
   "outputs": [],
   "source": [
    "scb_deaths.sum()['2019'] - scb_deaths.sum()['2015-2019']"
   ]
  },
  {
   "cell_type": "code",
   "execution_count": null,
   "metadata": {},
   "outputs": [],
   "source": [
    "scb_deaths = scb_deaths.loc[:last_stable_day].copy()\n",
    "scb_deaths"
   ]
  },
  {
   "cell_type": "code",
   "execution_count": null,
   "metadata": {
    "scrolled": false
   },
   "outputs": [],
   "source": [
    "\n",
    "plt.figure(figsize=(18,12))\n",
    "plt.title('SWEDEN Daily Excess Deaths & Cumulative Excess Deaths vs 2015-2019\\n\\nData inc {}\\n\\n'.format(last_stable_day)+\\\n",
    "         'DataSource : SCB.se')\n",
    "ax = plt.gca()\n",
    "ax2 = plt.twinx()\n",
    "ax.bar(scb_deaths.index,scb_deaths['excess'],color='r',label='Excess Deaths')\n",
    "ax.plot(scb_deaths.index,[0] * len(scb_deaths.index),color='k',ls='dashed')\n",
    "\n",
    "ax2.plot(scb_deaths.index,scb_deaths['cumexcess'],color='orange',label='Cumulative Excess Deaths')\n",
    "ax2.plot(scb_deaths.index,[0] * len(scb_deaths.index),color='k',ls='dashed')\n",
    "ax.legend(loc='upper left')\n",
    "ax2.legend(loc='upper right')\n",
    "\n",
    "ax.set_ylabel('Daily Excess Deaths')\n",
    "ax2.set_ylabel('Cumulative Excess Deaths')\n",
    "plt.savefig('fhm_scb_excess.jpg',format='jpg')"
   ]
  },
  {
   "cell_type": "code",
   "execution_count": null,
   "metadata": {},
   "outputs": [],
   "source": [
    "### population 2015-2019\n",
    "url = 'http://api.scb.se/OV0104/v1/doris/sv/ssd/START/BE/BE0101/BE0101A/BefolkningR1860'\n",
    "data = {\n",
    "  \"query\": [\n",
    "    {\n",
    "      \"code\": \"Alder\",\n",
    "      \"selection\": {\n",
    "        \"filter\": \"vs:ÅlderTotA\",\n",
    "        \"values\": []\n",
    "      }\n",
    "    },\n",
    "    {\n",
    "      \"code\": \"Kon\",\n",
    "      \"selection\": {\n",
    "        \"filter\": \"item\",\n",
    "        \"values\": [\n",
    "          \"1\",\n",
    "          \"2\"\n",
    "        ]\n",
    "      }\n",
    "    },\n",
    "    {\n",
    "      \"code\": \"Tid\",\n",
    "      \"selection\": {\n",
    "        \"filter\": \"item\",\n",
    "        \"values\": [\n",
    "          \"2015\",\n",
    "          \"2016\",\n",
    "          \"2017\",\n",
    "          \"2018\",\n",
    "          \"2019\"\n",
    "        ]\n",
    "      }\n",
    "    }\n",
    "  ],\n",
    "  \"response\": {\n",
    "    \"format\": \"json\"\n",
    "  }\n",
    "}"
   ]
  },
  {
   "cell_type": "code",
   "execution_count": null,
   "metadata": {},
   "outputs": [],
   "source": [
    "r = requests.post(url,json=data)\n",
    "r.status_code"
   ]
  },
  {
   "cell_type": "code",
   "execution_count": null,
   "metadata": {},
   "outputs": [],
   "source": [
    "json = r.json()"
   ]
  },
  {
   "cell_type": "code",
   "execution_count": null,
   "metadata": {},
   "outputs": [],
   "source": [
    "json['data'][0]"
   ]
  },
  {
   "cell_type": "code",
   "execution_count": null,
   "metadata": {},
   "outputs": [],
   "source": [
    "data_list = []\n",
    "\n",
    "for rec in range(len(json['data'])):\n",
    "    data_list.append((json['data'][rec]['key'][0],json['data'][rec]['key'][1],json['data'][rec]['values'][0]))"
   ]
  },
  {
   "cell_type": "code",
   "execution_count": null,
   "metadata": {},
   "outputs": [],
   "source": [
    "population = pd.DataFrame(data_list,columns=['gender','year','population'])\n",
    "population = population.set_index('year')\n",
    "population['population'] = population['population'].astype(int)"
   ]
  },
  {
   "cell_type": "code",
   "execution_count": null,
   "metadata": {},
   "outputs": [],
   "source": [
    "population"
   ]
  },
  {
   "cell_type": "code",
   "execution_count": null,
   "metadata": {},
   "outputs": [],
   "source": [
    "population = population.groupby(population.index).sum()\n",
    "population['growth'] = population['population'] / population['population'].shift()\n",
    "\n",
    "## assuming population 2020 grows as it did 2918-2019\n",
    "population.loc['2020','population'] = population.loc['2019','population'] * population.loc['2019','growth'] \n",
    "population"
   ]
  },
  {
   "cell_type": "code",
   "execution_count": null,
   "metadata": {},
   "outputs": [],
   "source": [
    "scb_deaths_ytd = scb_deaths.sum()\n",
    "scb_deaths_ytd = scb_deaths_ytd.drop(['2015-2019','excess','cumexcess'])\n",
    "scb_deaths_ytd"
   ]
  },
  {
   "cell_type": "code",
   "execution_count": null,
   "metadata": {},
   "outputs": [],
   "source": [
    "deaths_per_M_ytd = scb_deaths_ytd / (population['population'] / 1e6)\n",
    "deaths_per_M_ytd"
   ]
  },
  {
   "cell_type": "code",
   "execution_count": null,
   "metadata": {},
   "outputs": [],
   "source": [
    "scb_deaths"
   ]
  },
  {
   "cell_type": "code",
   "execution_count": null,
   "metadata": {},
   "outputs": [],
   "source": [
    "maximums = pd.concat ([scb_deaths.max(),\n",
    "            pd.Series(scb_deaths.index[scb_deaths.apply(np.argmax)].values,\n",
    "                      index=scb_deaths.max().index)],axis=1)\n",
    "maximums.columns = ['max','date_of_max']\n",
    "maximums"
   ]
  },
  {
   "cell_type": "code",
   "execution_count": null,
   "metadata": {},
   "outputs": [],
   "source": [
    "minimums = pd.concat ([scb_deaths.min(),\n",
    "            pd.Series(scb_deaths.index[scb_deaths.apply(np.argmin)].values,\n",
    "                      index=scb_deaths.min().index)],axis=1)\n",
    "minimums.columns = ['min','date_of_min']\n",
    "minimums"
   ]
  },
  {
   "cell_type": "code",
   "execution_count": null,
   "metadata": {},
   "outputs": [],
   "source": [
    "daily_deaths_per_M = scb_deaths.loc[:,'2015' : '2020'].div(population['population'] / 1e6,axis=1)\n",
    "daily_deaths_per_M "
   ]
  },
  {
   "cell_type": "code",
   "execution_count": null,
   "metadata": {},
   "outputs": [],
   "source": [
    "daily_deaths_per_M.sum()"
   ]
  },
  {
   "cell_type": "code",
   "execution_count": null,
   "metadata": {},
   "outputs": [],
   "source": [
    "daily_deaths_per_M.sum().plot(kind='bar',\n",
    "                              figsize=(18,12),\n",
    "                              color='r',\n",
    "                              title='Sweden Deaths per Million YTD {}\\n\\nDataSource :SCB.se'.format(last_stable_day))\n",
    "plt.ylabel('deaths per million')\n",
    "plt.savefig('fhm_scb_deaths_per_M.jpg',format='jpg')"
   ]
  },
  {
   "cell_type": "code",
   "execution_count": null,
   "metadata": {},
   "outputs": [],
   "source": [
    "daily_deaths_per_M_2015_2019_avg = daily_deaths_per_M[['2015','2016','2017','2018','2019']].mean(axis=1)\n",
    "daily_deaths_per_M_2015_2019_avg"
   ]
  },
  {
   "cell_type": "code",
   "execution_count": null,
   "metadata": {},
   "outputs": [],
   "source": [
    "plt.figure(figsize=(18,12))\n",
    "plt.plot(daily_deaths_per_M_2015_2019_avg)\n",
    "plt.plot(daily_deaths_per_M['2020'])\n",
    "plt.title('Sweden deaths per day per million YTD, 2020 vs average 2015-2019')\n",
    "plt.ylabel('deaths per million per day')"
   ]
  },
  {
   "cell_type": "code",
   "execution_count": null,
   "metadata": {},
   "outputs": [],
   "source": [
    "import calendar\n",
    "d = dict(enumerate(calendar.month_abbr))"
   ]
  },
  {
   "cell_type": "code",
   "execution_count": null,
   "metadata": {},
   "outputs": [],
   "source": [
    "monthly_deaths_per_M = daily_deaths_per_M.groupby(daily_deaths_per_M.index.month).sum()\n",
    "month_names = pd.Series(monthly_deaths_per_M.index.values).map(d)\n",
    "month_names\n",
    "monthly_deaths_per_M.index = month_names\n",
    "monthly_deaths_per_M.index.name = 'month'\n",
    "monthly_deaths_per_M"
   ]
  },
  {
   "cell_type": "code",
   "execution_count": null,
   "metadata": {},
   "outputs": [],
   "source": [
    "ytd_deaths_per_M_avg = monthly_deaths_per_M.loc[:,:'2019'].sum().mean()\n",
    "ytd_deaths_per_M_avg"
   ]
  },
  {
   "cell_type": "code",
   "execution_count": null,
   "metadata": {},
   "outputs": [],
   "source": [
    "monthly_deaths_per_M.T.plot(kind='bar',\n",
    "                            stacked=True,figsize=(18,12),\n",
    "                           title='Sweden deaths per million YTD {}, monthly cumulative\\n\\nDataSource:SCB.se'.format(\n",
    "                               last_stable_day))\n",
    "plt.ylabel('deaths per million')\n",
    "plt.axhline(ytd_deaths_per_M_avg,ls='dashed',color='orange',label='2015-2019 average')\n",
    "plt.legend(loc='lower center')"
   ]
  },
  {
   "cell_type": "code",
   "execution_count": null,
   "metadata": {},
   "outputs": [],
   "source": [
    "# FHM excel sheed döda åldersgrupp\n",
    "fhm_age_grp = pd.read_csv('fhm_dead_age_grp.csv',sep=';')\n",
    "age_grp = ['0-9','10-19','20-29','30-39','40-49','50-59','60-69','70-79','80-89','90+']\n",
    "fhm_age_grp.drop('Åldersgrupp',axis=1,inplace=True)\n",
    "fhm_cols = ['cases','icu','dead']\n",
    "fhm_age_grp.columns = fhm_cols\n",
    "fhm_age_grp['age_grp'] = age_grp\n",
    "fhm_age_grp.set_index('age_grp',inplace=True,drop=True)\n",
    "fhm_age_grp"
   ]
  },
  {
   "cell_type": "code",
   "execution_count": null,
   "metadata": {},
   "outputs": [],
   "source": [
    "print (fhm_age_grp.sum())\n",
    "scb_deaths['2020'].sum()"
   ]
  },
  {
   "cell_type": "code",
   "execution_count": null,
   "metadata": {},
   "outputs": [],
   "source": [
    "fhm_age_grp['dead'].cumsum().plot(style='ro--',\n",
    "                                  title='SWEDEN Covid-19 deaths per age group, cumulative,Y2D {}\\n\\nDataSource : SCB,FHM'.format(last_stable_day),\n",
    "                                  figsize=(18,12))\n",
    "plt.ylabel('total number of deaths')\n",
    "_= plt.xticks(range(len(fhm_age_grp)),age_grp,rotation=90)\n",
    "plt.savefig('fhm_scb_cumulative_covid_deaths.jpg',format='jpg')"
   ]
  },
  {
   "cell_type": "code",
   "execution_count": null,
   "metadata": {},
   "outputs": [],
   "source": [
    "# population stratified\n",
    "\n",
    "url2 = 'http://api.scb.se/OV0104/v1/doris/sv/ssd/START/BE/BE0101/BE0101A/BefolkningR1860'\n",
    "\n",
    "data2 = {\n",
    "  \"query\": [\n",
    "    {\n",
    "      \"code\": \"Alder\",\n",
    "      \"selection\": {\n",
    "        \"filter\": \"vs:Ålder1årA\",\n",
    "        \"values\": [\n",
    "          \"0\",\n",
    "          \"1\",\n",
    "          \"2\",\n",
    "          \"3\",\n",
    "          \"4\",\n",
    "          \"5\",\n",
    "          \"6\",\n",
    "          \"7\",\n",
    "          \"8\",\n",
    "          \"9\",\n",
    "          \"10\",\n",
    "          \"11\",\n",
    "          \"12\",\n",
    "          \"13\",\n",
    "          \"14\",\n",
    "          \"15\",\n",
    "          \"16\",\n",
    "          \"17\",\n",
    "          \"18\",\n",
    "          \"19\",\n",
    "          \"20\",\n",
    "          \"21\",\n",
    "          \"22\",\n",
    "          \"23\",\n",
    "          \"24\",\n",
    "          \"25\",\n",
    "          \"26\",\n",
    "          \"27\",\n",
    "          \"28\",\n",
    "          \"29\",\n",
    "          \"30\",\n",
    "          \"31\",\n",
    "          \"32\",\n",
    "          \"33\",\n",
    "          \"34\",\n",
    "          \"35\",\n",
    "          \"36\",\n",
    "          \"37\",\n",
    "          \"38\",\n",
    "          \"39\",\n",
    "          \"40\",\n",
    "          \"41\",\n",
    "          \"42\",\n",
    "          \"43\",\n",
    "          \"44\",\n",
    "          \"45\",\n",
    "          \"46\",\n",
    "          \"47\",\n",
    "          \"48\",\n",
    "          \"49\",\n",
    "          \"50\",\n",
    "          \"51\",\n",
    "          \"52\",\n",
    "          \"53\",\n",
    "          \"54\",\n",
    "          \"55\",\n",
    "          \"56\",\n",
    "          \"57\",\n",
    "          \"58\",\n",
    "          \"59\",\n",
    "          \"60\",\n",
    "          \"61\",\n",
    "          \"62\",\n",
    "          \"63\",\n",
    "          \"64\",\n",
    "          \"65\",\n",
    "          \"66\",\n",
    "          \"67\",\n",
    "          \"68\",\n",
    "          \"69\",\n",
    "          \"70\",\n",
    "          \"71\",\n",
    "          \"72\",\n",
    "          \"73\",\n",
    "          \"74\",\n",
    "          \"75\",\n",
    "          \"76\",\n",
    "          \"77\",\n",
    "          \"78\",\n",
    "          \"79\",\n",
    "          \"80\",\n",
    "          \"81\",\n",
    "          \"82\",\n",
    "          \"83\",\n",
    "          \"84\",\n",
    "          \"85\",\n",
    "          \"86\",\n",
    "          \"87\",\n",
    "          \"88\",\n",
    "          \"89\",\n",
    "          \"90\",\n",
    "          \"91\",\n",
    "          \"92\",\n",
    "          \"93\",\n",
    "          \"94\",\n",
    "          \"95\",\n",
    "          \"96\",\n",
    "          \"97\",\n",
    "          \"98\",\n",
    "          \"99\",\n",
    "          \"100+\"\n",
    "        ]\n",
    "      }\n",
    "    },\n",
    "    {\n",
    "      \"code\": \"Kon\",\n",
    "      \"selection\": {\n",
    "        \"filter\": \"item\",\n",
    "        \"values\": [\n",
    "          \"1\",\n",
    "          \"2\"\n",
    "        ]\n",
    "      }\n",
    "    },\n",
    "    {\n",
    "      \"code\": \"Tid\",\n",
    "      \"selection\": {\n",
    "        \"filter\": \"item\",\n",
    "        \"values\": [\n",
    "          \"2019\"\n",
    "        ]\n",
    "      }\n",
    "    }\n",
    "  ],\n",
    "  \"response\": {\n",
    "    \"format\": \"json\"\n",
    "  }\n",
    "}"
   ]
  },
  {
   "cell_type": "code",
   "execution_count": null,
   "metadata": {},
   "outputs": [],
   "source": [
    "r2 = requests.post(url2,json=data2)\n",
    "r2.status_code"
   ]
  },
  {
   "cell_type": "code",
   "execution_count": null,
   "metadata": {},
   "outputs": [],
   "source": [
    "json2 = r2.json()\n",
    "json2['data'][0]"
   ]
  },
  {
   "cell_type": "code",
   "execution_count": null,
   "metadata": {},
   "outputs": [],
   "source": [
    "data2_list = []\n",
    "\n",
    "for rec2 in range(len(json2['data'])):\n",
    "    \n",
    "    data2_list.append((json2['data'][rec2]['key'][0],json2['data'][rec2]['key'][1],json2['data'][rec2]['key'][2],\n",
    "                      json2['data'][rec2]['values'][0]))"
   ]
  },
  {
   "cell_type": "code",
   "execution_count": null,
   "metadata": {},
   "outputs": [],
   "source": [
    "population_age_grp = pd.DataFrame(data=data2_list,columns=['age_grp','gender','year','pop'])\n",
    "population_age_grp['pop'] = population_age_grp['pop'].astype(int)\n",
    "population_age_grp['age_grp'] = population_age_grp['age_grp'].apply(lambda s : s.replace('+',''))\n",
    "population_age_grp['age_grp'] = population_age_grp['age_grp'].astype(int)\n",
    "population_age_grp"
   ]
  },
  {
   "cell_type": "code",
   "execution_count": null,
   "metadata": {},
   "outputs": [],
   "source": [
    "population_age_grp = pd.pivot_table(population_age_grp,index='age_grp',columns='gender',values='pop')\n",
    "population_age_grp"
   ]
  },
  {
   "cell_type": "code",
   "execution_count": null,
   "metadata": {},
   "outputs": [],
   "source": [
    "population_age_grp['pop'] = population_age_grp.sum(axis=1)\n",
    "population_age_grp.drop(['1','2'],axis=1,inplace=True)\n"
   ]
  },
  {
   "cell_type": "code",
   "execution_count": null,
   "metadata": {},
   "outputs": [],
   "source": [
    "population_age_grp = pd.Series(population_age_grp['pop'])\n",
    "population_age_grp"
   ]
  },
  {
   "cell_type": "code",
   "execution_count": null,
   "metadata": {},
   "outputs": [],
   "source": [
    "population_age_grp.loc['30':'39'].sum()"
   ]
  },
  {
   "cell_type": "code",
   "execution_count": null,
   "metadata": {},
   "outputs": [],
   "source": [
    "population_age_grp"
   ]
  },
  {
   "cell_type": "code",
   "execution_count": null,
   "metadata": {},
   "outputs": [],
   "source": [
    "zero_9 = pd.Series(population_age_grp.loc[0:9].sum())\n",
    "ten_19 = pd.Series(population_age_grp.loc[10:19].sum())\n",
    "twenty_29 = pd.Series(population_age_grp.loc[20:29].sum())\n",
    "thirty_39 = pd.Series(population_age_grp.loc[30:39].sum())\n",
    "forty_49 = pd.Series(population_age_grp.loc[40:49].sum())\n",
    "fifty_59 = pd.Series(population_age_grp.loc[50:59].sum())\n",
    "sixty_69 = pd.Series(population_age_grp.loc[60:69].sum())\n",
    "seventy_79 = pd.Series(population_age_grp.loc[70:79].sum())\n",
    "eighty_89 = pd.Series(population_age_grp.loc[80:89].sum())\n",
    "ninety_plus = pd.Series(population_age_grp.loc[90:].sum())\n",
    "\n",
    "thirty_39"
   ]
  },
  {
   "cell_type": "code",
   "execution_count": null,
   "metadata": {},
   "outputs": [],
   "source": [
    "population_age_grp = pd.DataFrame([zero_9,ten_19,twenty_29,thirty_39,forty_49,fifty_59,\n",
    "                               sixty_69,seventy_79,eighty_89,ninety_plus],index=age_grp)\n",
    "\n",
    "population_age_grp.rename(columns={0:'pop'},inplace=True)\n",
    "\n",
    "population_age_grp"
   ]
  },
  {
   "cell_type": "code",
   "execution_count": null,
   "metadata": {},
   "outputs": [],
   "source": [
    "population_age_grp['pop'].sum()"
   ]
  },
  {
   "cell_type": "code",
   "execution_count": null,
   "metadata": {},
   "outputs": [],
   "source": [
    "population_age_grp"
   ]
  },
  {
   "cell_type": "code",
   "execution_count": null,
   "metadata": {},
   "outputs": [],
   "source": [
    "fhm_age_grp"
   ]
  },
  {
   "cell_type": "code",
   "execution_count": null,
   "metadata": {},
   "outputs": [],
   "source": [
    "covid_dead_per_age_grp = fhm_age_grp['dead'] / population_age_grp['pop']\n",
    "covid_dead_per_age_grp"
   ]
  },
  {
   "cell_type": "code",
   "execution_count": null,
   "metadata": {},
   "outputs": [],
   "source": [
    "(100 * covid_dead_per_age_grp).plot(kind='bar',color='r',figsize=(18,12),\n",
    "                                    title='SWEDEN percent COVID-19 dead of pop. per age group, Y2D {}\\n\\nDataSource : SCB, FHM'.format(last_stable_day))\n",
    "plt.ylabel('percent of age group')\n",
    "#plt.yscale('log')"
   ]
  },
  {
   "cell_type": "code",
   "execution_count": null,
   "metadata": {},
   "outputs": [],
   "source": [
    "fhm_age_grp.plot(kind='bar',\n",
    "                 figsize=(18,12),\n",
    "                 color=['green','orange','red'],\n",
    "                title='SWEDEN Nr. Cases, ICUs, Deaths per Age Group YTD {}\\n\\nDataSource : SCB,FHM'.format(last_stable_day))\n",
    "plt.ylabel('number of persons')\n",
    "plt.savefig('fhm_case_icu_deaths.jpg',format='jpg')"
   ]
  },
  {
   "cell_type": "code",
   "execution_count": null,
   "metadata": {},
   "outputs": [],
   "source": [
    "fhm_data_per_age_group_capita = fhm_age_grp.div(population_age_grp['pop'],axis=0)\n",
    "fhm_data_per_age_group_capita"
   ]
  },
  {
   "cell_type": "code",
   "execution_count": null,
   "metadata": {},
   "outputs": [],
   "source": [
    "(100 * fhm_data_per_age_group_capita).plot(kind='bar',title='SWEDEN percent of age group impacted Y2D {} by COVID-19\\n\\nDataSource : SCB, FHM'.format(last_stable_day),\n",
    "                                           figsize=(18,12),color=['green','orange','red'])\n",
    "plt.ylabel('percent of age group')\n",
    "plt.savefig('fhm_pct_age_grp_impacted.jpg',format='jpg')"
   ]
  }
 ],
 "metadata": {
  "kernelspec": {
   "display_name": "Python 3",
   "language": "python",
   "name": "python3"
  },
  "language_info": {
   "codemirror_mode": {
    "name": "ipython",
    "version": 3
   },
   "file_extension": ".py",
   "mimetype": "text/x-python",
   "name": "python",
   "nbconvert_exporter": "python",
   "pygments_lexer": "ipython3",
   "version": "3.6.9"
  }
 },
 "nbformat": 4,
 "nbformat_minor": 4
}
