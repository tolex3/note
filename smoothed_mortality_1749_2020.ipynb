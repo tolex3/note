{
 "cells": [
  {
   "cell_type": "code",
   "execution_count": null,
   "metadata": {},
   "outputs": [],
   "source": [
    "import numpy as np\n",
    "import matplotlib.pyplot as plt\n",
    "import seaborn as sns\n",
    "import pandas as pd\n",
    "\n",
    "import requests\n",
    "\n",
    "sns.set()"
   ]
  },
  {
   "cell_type": "code",
   "execution_count": null,
   "metadata": {},
   "outputs": [],
   "source": [
    "pop_2020 = 10378483 # scb november population, updated dec 2020\n"
   ]
  },
  {
   "cell_type": "code",
   "execution_count": null,
   "metadata": {},
   "outputs": [],
   "source": [
    "scb_prel = pd.ExcelFile('scb_prel_deaths.xlsx')\n",
    "scb_prel.sheet_names"
   ]
  },
  {
   "cell_type": "code",
   "execution_count": null,
   "metadata": {},
   "outputs": [],
   "source": [
    "deaths_2020 = scb_prel.parse('Tabell 1',skiprows=6,usecols=[6])\n",
    "deaths_2020"
   ]
  },
  {
   "cell_type": "code",
   "execution_count": null,
   "metadata": {},
   "outputs": [],
   "source": [
    "deaths_2020 = pd.Series(deaths_2020.sum(),name='dead',index=['2020'])\n",
    "deaths_2020"
   ]
  },
  {
   "cell_type": "code",
   "execution_count": null,
   "metadata": {},
   "outputs": [],
   "source": [
    "dead_url = 'http://api.scb.se/OV0104/v1/doris/sv/ssd/START/BE/BE0101/BE0101G/BefUtvKon1749'\n",
    "\n",
    "dead_json_post = {\n",
    "  \"query\": [\n",
    "    {\n",
    "      \"code\": \"Kon\",\n",
    "      \"selection\": {\n",
    "        \"filter\": \"item\",\n",
    "        \"values\": [\n",
    "          \"1+2\"\n",
    "        ]\n",
    "      }\n",
    "    },\n",
    "    {\n",
    "      \"code\": \"ContentsCode\",\n",
    "      \"selection\": {\n",
    "        \"filter\": \"item\",\n",
    "        \"values\": [\n",
    "          \"0000001F\"\n",
    "        ]\n",
    "      }\n",
    "    }\n",
    "  ],\n",
    "  \"response\": {\n",
    "    \"format\": \"json\"\n",
    "  }\n",
    "}"
   ]
  },
  {
   "cell_type": "code",
   "execution_count": null,
   "metadata": {},
   "outputs": [],
   "source": [
    "r_dead = requests.post(dead_url,json=dead_json_post)\n",
    "r_dead.status_code"
   ]
  },
  {
   "cell_type": "code",
   "execution_count": null,
   "metadata": {},
   "outputs": [],
   "source": [
    "dead_json = r_dead.json()\n",
    "dead_json['data'][0]"
   ]
  },
  {
   "cell_type": "code",
   "execution_count": null,
   "metadata": {},
   "outputs": [],
   "source": [
    "dead_df = pd.DataFrame.from_dict(dead_json['data'])\n",
    "\n",
    "dead_df[['gender','year']] = dead_df['key'].to_list()\n",
    "dead_df['dead'] = dead_df['values'].apply(lambda x :x[0])\n",
    "dead_df.drop(['key','values','gender'],axis=1,inplace=True)\n",
    "dead_df = dead_df.set_index('year')\n",
    "dead_df['dead'] = dead_df['dead'].astype(int)\n",
    "\n",
    "dead_df.loc['2020','dead'] = deaths_2020.values\n",
    "\n",
    "dead_df\n"
   ]
  },
  {
   "cell_type": "code",
   "execution_count": null,
   "metadata": {},
   "outputs": [],
   "source": [
    "pop_url = 'http://api.scb.se/OV0104/v1/doris/sv/ssd/START/BE/BE0101/BE0101G/BefUtvKon1749'\n",
    "pop_json_post = {\n",
    "  \"query\": [\n",
    "    {\n",
    "      \"code\": \"Kon\",\n",
    "      \"selection\": {\n",
    "        \"filter\": \"item\",\n",
    "        \"values\": [\n",
    "          \"1+2\"\n",
    "        ]\n",
    "      }\n",
    "    },\n",
    "    {\n",
    "      \"code\": \"ContentsCode\",\n",
    "      \"selection\": {\n",
    "        \"filter\": \"item\",\n",
    "        \"values\": [\n",
    "          \"000000LV\"\n",
    "        ]\n",
    "      }\n",
    "    }\n",
    "  ],\n",
    "  \"response\": {\n",
    "    \"format\": \"json\"\n",
    "  }\n",
    "}"
   ]
  },
  {
   "cell_type": "code",
   "execution_count": null,
   "metadata": {},
   "outputs": [],
   "source": [
    "r_pop = requests.post(pop_url,json=pop_json_post)\n",
    "r_pop.status_code"
   ]
  },
  {
   "cell_type": "code",
   "execution_count": null,
   "metadata": {},
   "outputs": [],
   "source": [
    "pop_json = r_pop.json()\n",
    "pop_json['data'][0]"
   ]
  },
  {
   "cell_type": "code",
   "execution_count": null,
   "metadata": {},
   "outputs": [],
   "source": [
    "pop_df = pd.DataFrame.from_dict(pop_json['data'])\n",
    "pop_df[['gender','year']] = pop_df['key'].to_list()\n",
    "pop_df['pop'] = pop_df['values'].apply(lambda x : x[0])\n",
    "pop_df.drop(['key','values','gender'],axis=1,inplace=True)\n",
    "pop_df['pop'] = pop_df['pop'].astype(int)\n",
    "pop_df = pop_df.set_index('year')\n",
    "pop_df.loc['2020','pop'] = pop_2020\n",
    "pop_df"
   ]
  },
  {
   "cell_type": "code",
   "execution_count": null,
   "metadata": {},
   "outputs": [],
   "source": [
    "mortality = dead_df['dead'] / pop_df['pop']\n",
    "mortality"
   ]
  },
  {
   "cell_type": "code",
   "execution_count": null,
   "metadata": {},
   "outputs": [],
   "source": [
    "def smooth(x,window_len=10,window='hanning'):\n",
    "    \"\"\"smooth the data using a window with requested size.\n",
    "    \n",
    "    This method is based on the convolution of a scaled window with the signal.\n",
    "    The signal is prepared by introducing reflected copies of the signal \n",
    "    (with the window size) in both ends so that transient parts are minimized\n",
    "    in the begining and end part of the output signal.\n",
    "    \n",
    "    input:\n",
    "        x: the input signal \n",
    "        window_len: the dimension of the smoothing window\n",
    "        window: the type of window from 'flat', 'hanning', 'hamming', 'bartlett', 'blackman'\n",
    "            flat window will produce a moving average smoothing.\n",
    "\n",
    "    output:\n",
    "        the smoothed signal\n",
    "        \n",
    "    example:\n",
    "\n",
    "    t=linspace(-2,2,0.1)\n",
    "    x=sin(t)+randn(len(t))*0.1\n",
    "    y=smooth(x)\n",
    "    \n",
    "    see also: \n",
    "    \n",
    "    numpy.hanning, numpy.hamming, numpy.bartlett, numpy.blackman, numpy.convolve\n",
    "    scipy.signal.lfilter\n",
    " \n",
    "    TODO: the window parameter could be the window itself if an array instead of a string   \n",
    "    \"\"\"\n",
    "    \n",
    "    '''\n",
    "    if x.ndim != 1:\n",
    "        raise ValueError, \"smooth only accepts 1 dimension arrays.\"\n",
    "\n",
    "    if x.size < window_len:\n",
    "        raise ValueError, \"Input vector needs to be bigger than window size.\"\n",
    "\n",
    "\n",
    "    if window_len<3:\n",
    "        return x\n",
    "\n",
    "\n",
    "    if not window in ['flat', 'hanning', 'hamming', 'bartlett', 'blackman']:\n",
    "        raise ValueError, \"Window is on of 'flat', 'hanning', 'hamming', 'bartlett', 'blackman'\"\n",
    "\n",
    "    '''\n",
    "    x = np.array(x,dtype=float) #conv from dataframe col to array\n",
    "    s=np.r_[2*x[0]-x[window_len:1:-1],x,2*x[-1]-x[-1:-window_len:-1]]\n",
    "    #print(len(s))\n",
    "    if window == 'flat': #moving average\n",
    "        w=np.ones(window_len,'d')\n",
    "    else:\n",
    "        w=eval('np.'+window+'(window_len)')\n",
    "\n",
    "    y=np.convolve(w/w.sum(),s,mode='same')\n",
    "    return y[window_len-1:-window_len+1]\n"
   ]
  },
  {
   "cell_type": "code",
   "execution_count": null,
   "metadata": {},
   "outputs": [],
   "source": [
    "start_at = 200 #index\n",
    "# the shorter window, the more excess 2020\n",
    "\n",
    "window_len = 20\n",
    "\n",
    "smoothed = smooth(mortality[start_at:],window_len=window_len,window='hanning')\n",
    "smoothed"
   ]
  },
  {
   "cell_type": "code",
   "execution_count": null,
   "metadata": {},
   "outputs": [],
   "source": [
    "pop_df"
   ]
  },
  {
   "cell_type": "code",
   "execution_count": null,
   "metadata": {},
   "outputs": [],
   "source": [
    "abs_excess = (mortality[start_at:] - smoothed) * pop_df['pop']\n",
    "abs_excess"
   ]
  },
  {
   "cell_type": "code",
   "execution_count": null,
   "metadata": {},
   "outputs": [],
   "source": [
    "abs_excess.plot(style='o--',figsize = (18,12),title = 'SWEDEN absolute excess deaths based on Curve fitting')\n",
    "plt.ylabel('number of excess deaths')\n",
    "plt.savefig('swe_curve_fit_excess.jpg',format='jpg')"
   ]
  },
  {
   "cell_type": "code",
   "execution_count": null,
   "metadata": {},
   "outputs": [],
   "source": [
    "plt.figure(figsize=(18,12))\n",
    "title1 = 'SWEDEN non-age-adj. mortality {}-2020 Y2D  - Curve Fitting Model (Hanning Window)'.format(\n",
    "mortality.index[start_at])\n",
    "    \n",
    "title2 = '\\nPURPOSE : to illustrate the pitfalls with \"Excess Deaths\"'\n",
    "title4 = '\\nDataSource : scb.se'\n",
    "\n",
    "plt.title(title1 + title2 + title4) \n",
    "plt.plot(mortality.index[start_at:],mortality[start_at:],'o--',label='2020 data YTD')\n",
    "plt.plot(mortality.index[start_at:],smoothed,label='Baseline by Smoothed Hanning Window, win_len:{}'.format(\n",
    "window_len))\n",
    "\n",
    "plt.ylabel('mortality')\n",
    "plt.xlabel('year')\n",
    "plt.legend(loc='upper left')\n",
    "\n",
    "ax = plt.gca()\n",
    "\n",
    "for label in ax.xaxis.get_ticklabels()[::2]:\n",
    "        label.set_visible(False)\n",
    "        \n",
    "_= plt.xticks(rotation=90)\n",
    "\n",
    "plt.savefig('swe_excess_pitfall_smoothed_{}.jpg'.format(window_len),format='jpg')"
   ]
  },
  {
   "cell_type": "code",
   "execution_count": null,
   "metadata": {},
   "outputs": [],
   "source": [
    "delta = mortality[start_at:] / smoothed\n",
    "delta.plot(figsize=(18,12))"
   ]
  }
 ],
 "metadata": {
  "kernelspec": {
   "display_name": "Python 3",
   "language": "python",
   "name": "python3"
  },
  "language_info": {
   "codemirror_mode": {
    "name": "ipython",
    "version": 3
   },
   "file_extension": ".py",
   "mimetype": "text/x-python",
   "name": "python",
   "nbconvert_exporter": "python",
   "pygments_lexer": "ipython3",
   "version": "3.8.6"
  }
 },
 "nbformat": 4,
 "nbformat_minor": 4
}
