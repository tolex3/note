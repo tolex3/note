{
 "cells": [
  {
   "cell_type": "code",
   "execution_count": null,
   "metadata": {},
   "outputs": [],
   "source": [
    "import numpy as np\n",
    "import matplotlib.pyplot as plt\n",
    "import seaborn as sns\n",
    "import pandas as pd\n",
    "import pymc as pm\n",
    "\n",
    "sns.set()"
   ]
  },
  {
   "cell_type": "code",
   "execution_count": null,
   "metadata": {},
   "outputs": [],
   "source": [
    "df = pd.read_csv('Howell1.csv',sep=';')\n",
    "df.head()\n"
   ]
  },
  {
   "cell_type": "code",
   "execution_count": null,
   "metadata": {},
   "outputs": [],
   "source": [
    "df['sex'] = df['male'].apply(lambda x : 1 if x else 2)\n",
    "\n",
    "religions = ['Christian','Muslim','Buddist','Jew']\n",
    "\n",
    "df['religion'] =  np.random.choice(religions,replace=True,size=len(df),p=[0.25,0.50,0.15,0.10])\n",
    "\n",
    "#### create an index for a multivalued category ####\n",
    "df['rel'] = df['religion'].apply(lambda x : religions.index(x) + 1)\n",
    "\n",
    "df = df[df['age'] > 18]\n",
    "df"
   ]
  },
  {
   "cell_type": "code",
   "execution_count": null,
   "metadata": {},
   "outputs": [],
   "source": []
  },
  {
   "cell_type": "code",
   "execution_count": null,
   "metadata": {},
   "outputs": [],
   "source": [
    "def regression (cat1,x1,y):\n",
    "    \n",
    "    a_mu = pm.Uniform('a_mu',0,1)\n",
    "    a_sigma = pm.Uniform('a_sigma',0,1)\n",
    "    \n",
    "    a_cat1 = pm.Normal('a_cat1',a_mu, 1 / a_sigma ** 2,size=2)\n",
    "    beta1 = pm.Normal('beta1',0,1,size=2)\n",
    "    obs_sigma = pm.Uniform('obs_sigma',0,1)\n",
    "    \n",
    "    @pm.deterministic\n",
    "    def linreg(a1=a_cat1[cat1-1],beta1=beta1[cat1-1],x1=x1):\n",
    "        return beta1 * x1 + a1  \n",
    "    \n",
    "    obs = pm.Normal('obs',mu=linreg, tau=1/obs_sigma ** 2,observed=True,value=y)\n",
    "    \n",
    "    model = pm.Model([a_mu,a_sigma,a_cat1,beta1,obs_sigma,linreg,obs])\n",
    "    \n",
    "    map_ = pm.MAP(model)\n",
    "    map_.fit()\n",
    "    \n",
    "    mcmc = pm.MCMC(model)\n",
    "    \n",
    "    sample = mcmc.sample(50000,10000,2)\n",
    "    \n",
    "    a_mu_post = mcmc.trace('a_mu')[:]\n",
    "    a_mu_sigma_post = mcmc.trace('a_sigma')[:]\n",
    "    a_cat1_1_post = mcmc.trace('a_cat1')[:,0]\n",
    "    a_cat1_2_post = mcmc.trace('a_cat1')[:,1]\n",
    "    beta1_post_1 = mcmc.trace('beta1')[:,0]\n",
    "    beta1_post_2 = mcmc.trace('beta1')[:,1]\n",
    "    obs_sigma_post = mcmc.trace('obs_sigma')[:]\n",
    "    \n",
    "    result = pd.DataFrame({'a_mu_post' : a_mu_post,\n",
    "                         'a_mu_sigma_post' : a_mu_sigma_post,\n",
    "                         'a_cat1_1_post' : a_cat1_1_post,\n",
    "                         'a_cat1_2_post' : a_cat1_2_post,\n",
    "                         'beta1_post_1' : beta1_post_1,\n",
    "                         'beta1_post_2' : beta1_post_2,\n",
    "                         'obs_sigma_post' : obs_sigma_post})\n",
    "    \n",
    "    return result\n",
    "    "
   ]
  },
  {
   "cell_type": "code",
   "execution_count": null,
   "metadata": {},
   "outputs": [],
   "source": [
    "def standardize(x):\n",
    "    return (x - x.mean()) / x.std()\n",
    "\n",
    "df[['weight','age','height']] = df[['weight','age','height']].apply(standardize)\n",
    "\n",
    "result = regression (df['sex'],df['weight'],df['height'])"
   ]
  },
  {
   "cell_type": "code",
   "execution_count": null,
   "metadata": {},
   "outputs": [],
   "source": [
    "print (result.head())\n",
    "result.describe()\n"
   ]
  },
  {
   "cell_type": "code",
   "execution_count": null,
   "metadata": {},
   "outputs": [],
   "source": [
    "import scipy.stats as sps\n",
    "\n",
    "plt.figure(figsize=(18,12))\n",
    "\n",
    "males = df[ df['sex'] == 1]\n",
    "females = df[df['sex'] == 2]\n",
    "\n",
    "plt.scatter(males.weight,males.height,color='navy')\n",
    "plt.scatter(females.weight,females.height,color='crimson')\n",
    "\n",
    "male_slope,male_intercept,_,_,_ = sps.linregress(males.weight,males.height)\n",
    "female_slope,female_intercept,_,_,_ = sps.linregress(females.weight,females.height)\n",
    "combined_slope,combined_intercept,_,_,_ = sps.linregress(df.weight,df.height)\n",
    "\n",
    "X = np.linspace(-3,3,100)\n",
    "\n",
    "plt.plot(X,X * male_slope + male_intercept, \n",
    "         color='navy',\n",
    "         ls='dashed',\n",
    "         label='LSQ male slope {:.2f}, male intercept {:.2f}'.format(male_slope,male_intercept))\n",
    "         \n",
    "plt.plot(X,X * female_slope + female_intercept, \n",
    "         color='crimson',\n",
    "         ls='dashed',\n",
    "         label='LSQ female slope {:.2f}, male intercept {:.2f}'.format(female_slope,female_intercept))\n",
    "\n",
    "plt.plot(X,X * combined_slope + combined_intercept, \n",
    "         color='orange',\n",
    "         ls='dashed',\n",
    "         label='LSQ combined slope {:.2f}, combined intercept {:.2f}'.format(combined_slope,combined_intercept))\n",
    "         \n",
    "plt.legend(loc='upper left')\n",
    "\n",
    "nr_rows = 500\n",
    "\n",
    "sample_rows = np.random.choice(result.index,replace=True,size=nr_rows)\n",
    "\n",
    "a_cat1_1_samples = result.iloc[sample_rows].a_cat1_1_post\n",
    "a_cat1_2_samples = result.iloc[sample_rows].a_cat1_2_post\n",
    "beta1_1_samples = result.iloc[sample_rows].beta1_post_1\n",
    "beta1_2_samples = result.iloc[sample_rows].beta1_post_2\n",
    "\n",
    "lines_male = np.array([X[i] * beta1_1_samples  + \\\n",
    "                  a_cat1_1_samples  for i in range(len(X))])\n",
    "\n",
    "_= plt.plot(X,lines_male,color='navy',alpha=0.01)\n",
    "\n",
    "lines_female = np.array([X[i] * beta1_2_samples  + \\\n",
    "                  a_cat1_2_samples  for i in range(len(X))])\n",
    "\n",
    "_= plt.plot(X,lines_female,color='crimson',alpha=0.01)\n",
    "\n",
    "\n"
   ]
  }
 ],
 "metadata": {
  "kernelspec": {
   "display_name": "Python 3",
   "language": "python",
   "name": "python3"
  },
  "language_info": {
   "codemirror_mode": {
    "name": "ipython",
    "version": 3
   },
   "file_extension": ".py",
   "mimetype": "text/x-python",
   "name": "python",
   "nbconvert_exporter": "python",
   "pygments_lexer": "ipython3",
   "version": "3.6.9"
  }
 },
 "nbformat": 4,
 "nbformat_minor": 4
}
