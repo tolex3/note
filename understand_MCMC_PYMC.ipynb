{
 "cells": [
  {
   "cell_type": "code",
   "execution_count": null,
   "metadata": {},
   "outputs": [],
   "source": [
    "import numpy as np\n",
    "import matplotlib.pyplot as plt\n",
    "import seaborn as sns\n",
    "import pandas as pd\n",
    "import pymc as pm\n",
    "import scipy.stats as sps\n",
    "sns.set()"
   ]
  },
  {
   "cell_type": "code",
   "execution_count": null,
   "metadata": {},
   "outputs": [],
   "source": [
    "#investigate how observation becomes likelihood\n",
    "\n",
    "# note how we give each column it's own lambda !\n",
    "#likelihood = pm.Poisson('likelihood',[1,2,3,4,5],value=[1,2,3,4,5])\n",
    "\n",
    "lambdas = pm.Exponential('lambdas',np.array([1/1,1/2,1/3,1/4,1/5]))\n",
    "# if observed=False, then the values do no impact on distribution,\n",
    "# only enabling us to have different lambda for each value\n",
    "# that is, by giving a value to the 'prior', we can have a different lambda\n",
    "# for each value\n",
    "\n",
    "# each value gets its own lambda\n",
    "a_dist = pm.Poisson('a_dist',lambdas,value=[1000,2000,3000,4000,5000])\n",
    "lkh = pm.Poisson('lkh',lambdas,value=[1,2,3,4,5],observed=True)\n",
    "\n",
    "model = pm.Model([lambdas,a_dist])\n",
    "mcmc = pm.MCMC(model)\n",
    "sample = mcmc.sample(50000,10000)\n",
    "\n",
    "post_a_dist = mcmc.trace(a_dist)[:]\n",
    "post_lambdas = mcmc.trace(lambdas)[:]\n",
    "post_a_dist = pd.DataFrame(data=post_a_dist,columns=range(1,6))\n",
    "post_lambdas = pd.DataFrame(data=post_lambdas,columns=range(1,6))"
   ]
  },
  {
   "cell_type": "code",
   "execution_count": null,
   "metadata": {},
   "outputs": [],
   "source": [
    "print (post_a_dist.describe())\n",
    "print (post_lambdas.describe())"
   ]
  }
 ],
 "metadata": {
  "kernelspec": {
   "display_name": "Python 3",
   "language": "python",
   "name": "python3"
  },
  "language_info": {
   "codemirror_mode": {
    "name": "ipython",
    "version": 3
   },
   "file_extension": ".py",
   "mimetype": "text/x-python",
   "name": "python",
   "nbconvert_exporter": "python",
   "pygments_lexer": "ipython3",
   "version": "3.6.9"
  }
 },
 "nbformat": 4,
 "nbformat_minor": 4
}
