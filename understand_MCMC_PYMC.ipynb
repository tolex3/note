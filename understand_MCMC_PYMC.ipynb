{
 "cells": [
  {
   "cell_type": "code",
   "execution_count": null,
   "metadata": {},
   "outputs": [],
   "source": [
    "import numpy as np\n",
    "import matplotlib.pyplot as plt\n",
    "import seaborn as sns\n",
    "import pandas as pd\n",
    "import pymc as pm\n",
    "import scipy.stats as sps\n",
    "import scipy.special as spc\n",
    "sns.set()"
   ]
  },
  {
   "cell_type": "code",
   "execution_count": null,
   "metadata": {},
   "outputs": [],
   "source": [
    "### demo poisson likelihood with one data point\n",
    "data = [6] \n",
    "lower,upper = 0,20\n",
    "\n",
    "lambda_ = pm.Uniform('lambda_',lower,upper)\n",
    "obs = pm.Poisson('obs',lambda_,observed=True,value=data)\n",
    "\n",
    "model = pm.Model([lambda_,obs])\n",
    "mcmc = pm.MCMC(model)\n",
    "samples = mcmc.sample(50000,10000,2)\n",
    "post = pd.DataFrame({'lambda' : mcmc.trace(lambda_)[:]})"
   ]
  },
  {
   "cell_type": "code",
   "execution_count": null,
   "metadata": {},
   "outputs": [],
   "source": [
    "print (post.describe())\n",
    "print (post.head())"
   ]
  },
  {
   "cell_type": "code",
   "execution_count": null,
   "metadata": {},
   "outputs": [],
   "source": [
    "# pull lambda samples from posterior, generate simulated data based on those lambdas\n",
    "nr_rows = 100000\n",
    "\n",
    "rows = np.random.choice(post.index,replace=True,size=nr_rows)\n",
    "posterior_samples = pm.rpoisson(post.iloc[rows,0])\n",
    "posterior_samples"
   ]
  },
  {
   "cell_type": "code",
   "execution_count": null,
   "metadata": {},
   "outputs": [],
   "source": [
    "### HOW DOES MCMC FIT THE LIKELIHOOD TO DATA ? \n",
    "\n",
    "# this attempts to solve the problem by testing a set of lambda values, and recording which of the lambdas provides \n",
    "# highest frequency of 6 (the single data point), given a number of tries per lambda.\n",
    "\n",
    "# having one data point (6), we want to find out which value for lambda gives highest frequency of \n",
    "# matches. We do so by trying each individual value for lambda, that is, the for loop with lambda below\n",
    "# acts as our (uniform) prior. \n",
    "\n",
    "nr_tries = 100000\n",
    "out = np.zeros((upper-lower+1,len(data) * nr_tries))\n",
    "\n",
    "r = 0\n",
    "c = 0\n",
    "\n",
    "for d in data:\n",
    "    \n",
    "    for lambda_ in range(lower,upper+1):\n",
    "        c = 0\n",
    "        for tries in range(nr_tries):\n",
    "            out[r,c] = pm.rpoisson(lambda_)\n",
    "            c += 1\n",
    "        r += 1       \n",
    "\n",
    "out = out.astype(int)\n",
    "freq = np.count_nonzero(out == data,axis=1)\n",
    "freq"
   ]
  },
  {
   "cell_type": "code",
   "execution_count": null,
   "metadata": {},
   "outputs": [],
   "source": [
    "print (freq)\n",
    "dist = freq / freq.sum()\n",
    "#plt.hist(post['lambda'],density=True,alpha=0.5,color='green')\n",
    "plt.bar(range(len(freq)),dist,alpha=0.5,color='red')\n",
    "plt.hist(posterior_samples,density=True,alpha=0.5,color='green',bins=50)"
   ]
  },
  {
   "cell_type": "code",
   "execution_count": null,
   "metadata": {},
   "outputs": [],
   "source": [
    "from matplotlib.ticker import MaxNLocator\n",
    "\n",
    "ax = plt.gca()\n",
    "\n",
    "plt.plot(np.arange(len(dist)).astype(int),dist.cumsum(),'o--')\n",
    "plt.title('Cumulative Probability')\n",
    "plt.xlabel('lambda')\n",
    "plt.ylabel('probability')\n",
    "ax.xaxis.set_major_locator(MaxNLocator(integer=True))\n"
   ]
  },
  {
   "cell_type": "code",
   "execution_count": null,
   "metadata": {},
   "outputs": [],
   "source": [
    "#### https://sciencehouse.wordpress.com/2010/06/23/mcmc-and-fitting-models-to-data/\n",
    "#### https://prappleizer.github.io/Tutorials/MCMC/MCMC_Tutorial.html\n",
    "\n",
    "#### demo of how to build a likelihood function to fit model to data using Metropolis-Hastings MCMC.\n",
    "#### The problem is thus to find out what parameter value mu for the Gaussian Distribution best matches the actual data\n",
    "####\n",
    "# error function: sum of square errors: computes error between our data and what our model generates\n",
    "# sigma is an estimate of the error of data. it seems that with a small sigma, more proposals are rejected\n",
    "# but with too small sigma, runtime errors occur\n",
    "#\n",
    "#\n",
    "#\n",
    "# It appears that sigma is sensitive to both the nr of data points, the EV. \n",
    "# Finding correct value for Sigma is currently not clear to me. Most likely, Sigma must be made dynamic, \n",
    "# depending on feedback on magnitude of data, number of data points and how much the walk has converged,\n",
    "# that is, after convergence has begun, Sigma should probably become smaller, to generate larger error values, \n",
    "# i.e. to obtain more fine grained errors...\n",
    "\n",
    "def X2(data,generated,sigma=0.3) :\n",
    "    return  ( ( (data - generated) ** 2 ) / (2 * sigma ** 2) ).sum() \n",
    "\n",
    "#### alternative error function\n",
    "def X2_alt(data,generated,sigma=0.3) :\n",
    "    return   ( ( (data - generated) / (data * sigma ) )  ** 2 ).sum() / 2"
   ]
  },
  {
   "cell_type": "code",
   "execution_count": null,
   "metadata": {},
   "outputs": [],
   "source": [
    "# the data we want to fit. Here we KNOW the value for the parameter p we are looking for\n",
    "# it appears that the more data we have, the clearer difference about the peak there is between PYMC\n",
    "# and the hack - might be due to the error function not operating optimally\n",
    "\n",
    "SIZE = 5 # number of data points\n",
    "true_mu = 5\n",
    "\n",
    "data = pm.rnormal(mu=true_mu,tau=1 / 1 ** 2,size=SIZE)\n"
   ]
  },
  {
   "cell_type": "code",
   "execution_count": null,
   "metadata": {},
   "outputs": [],
   "source": [
    "# this is our model that we want to fit, i.e the likelihood function with parameter param for p\n",
    "\n",
    "def generator(param,size=SIZE):\n",
    "    return pm.rnormal(mu=param,tau=1 / 1 ** 2,size=size)"
   ]
  },
  {
   "cell_type": "code",
   "execution_count": null,
   "metadata": {},
   "outputs": [],
   "source": [
    "# the function used by Metropolis-Hastings to determine wether to accept a proposal.\n",
    "# it uses the value returned for current and proposed errors,X2_current,X2_proposed, to determine \n",
    "# whether to move to the proposed new value for param p\n",
    "\n",
    "# it's basically an exponential form of the quotient proposed/current, that is, P(D|proposed_p / P(D|current_p) == \n",
    "# exp(-X2_proposed + X2_current) which is based on the Gaussian Likelihood function P(D|param) = exp(-X**2)\n",
    "\n",
    "# The likelihood function returns:\n",
    "# 1 if X2_current == X2_proposed ;\n",
    "# > 1 if X2_proposed  < X2_current\n",
    "# < 1 if X2_proposed > X2_current\n",
    "\n",
    "# The returned value is then tested against a random value [0..1] to decide acceptance:\n",
    "# accept = rnd < likelihood_ratio ? True : False\n",
    "\n",
    "def likelihood_ratio(X2_current,X2_proposed):\n",
    "    return np.exp(-X2_proposed + X2_current)\n",
    "\n"
   ]
  },
  {
   "cell_type": "code",
   "execution_count": null,
   "metadata": {
    "scrolled": false
   },
   "outputs": [],
   "source": [
    "### Metropolis-Hastings MCMC algorithm for fitting data. That is, we are using MCMC to search for \n",
    "### the parameter mu that best matches our data\n",
    "\n",
    "\n",
    "steps = 100000 # length of MCMC random sampling walk\n",
    "\n",
    "burn = steps // 2\n",
    "\n",
    "walk = np.zeros(steps) # array of samples \n",
    "\n",
    "all_proposed = np.zeros(steps)\n",
    "all_current = np.zeros(steps)\n",
    "\n",
    "accepted = 0\n",
    "rejected = 0\n",
    "\n",
    "A_s = np.zeros(steps)\n",
    "P_s = np.zeros(steps)\n",
    "\n",
    "walk[0] = 1 #init first step with dummy value for param to get MCMC walk started. Good value gives better convergence\n",
    "\n",
    "error_sigma = 0.3\n",
    "\n",
    "# the random walk\n",
    "for i in range(1,steps):\n",
    "    \n",
    "    current = walk[i-1]\n",
    "    all_current[i] = current\n",
    "    \n",
    "    random_step = pm.rnormal(0, 1 / 1 ** 2)\n",
    "    proposed = current + random_step\n",
    "        \n",
    "    all_proposed[i] = proposed\n",
    "    \n",
    "    error_func = X2\n",
    "    \n",
    "    X2_current = error_func(data,generator(current),error_sigma) #compute error of current generated data vs real data\n",
    "    X2_proposed = error_func(data,generator(proposed),error_sigma) #compute error of proposed generated data vs real data\n",
    "    \n",
    "    A = likelihood_ratio(X2_current,X2_proposed) # compute ratio, i.e accept ? \n",
    "    A_s[i-1] = A\n",
    "    \n",
    "    # ratio above expresses ratio of probabilities for proposed outcome vs current outcome, accoriding to distribution\n",
    "    # if ratio > 1 : accept always. if ratio < 1, accept if ratio > random number 0..1\n",
    "    # That is: if P(target) > P(current) : always accept. Else accept if random p is less than ratio. The smaller\n",
    "    # the ratio, the less chance of accept. \n",
    "    \n",
    "    p = pm.runiform(0,1)\n",
    "    P_s[i-1] = p\n",
    "    \n",
    "\n",
    "    if p < A : \n",
    "        walk[i] = proposed # accept\n",
    "        accepted += 1\n",
    "    else:\n",
    "        walk[i] = current\n",
    "        rejected += 1\n",
    "        \n",
    "    \n",
    "        \n",
    "print ('accepted',accepted,'rejected',rejected,'accepted/(accepted + rejected)', accepted / (accepted + rejected))\n",
    " \n"
   ]
  },
  {
   "cell_type": "code",
   "execution_count": null,
   "metadata": {
    "scrolled": false
   },
   "outputs": [],
   "source": [
    "if steps < 1e6:\n",
    "    alpha =  1 / np.log10(steps) / np.log10(steps)\n",
    "\n",
    "    plt.figure(figsize=(18,12))\n",
    "    plt.title('Likelihood Ratio vs Random draw - if Random Draw less than LR, accept proposed')\n",
    "    plt.plot(range(1,len(A_s) ),A_s[:-1],'o--',color='blue',label='Likelihood Ratio',alpha=alpha)\n",
    "    plt.plot(range(1,len(P_s)),P_s[:-1],'o--',color='orange',label='Random draw',alpha=alpha)\n",
    "    plt.xlabel('to position')\n",
    "    plt.legend(loc='upper left')\n",
    "    plt.yscale('log')"
   ]
  },
  {
   "cell_type": "code",
   "execution_count": null,
   "metadata": {},
   "outputs": [],
   "source": [
    "if steps < 1e6:\n",
    "    plt.figure(figsize=(18,12))\n",
    "    plt.title('Metropolis-Hastings random sampling walk,True parameter value:{} nr of data points: {}'.format(true_mu,len(data)))\n",
    "    plt.xlabel ('step number')\n",
    "    plt.ylabel(' acceepted and proposed parameter values')\n",
    "    plt.plot(walk,'o--',label='accepted',color='navy',alpha=alpha)\n",
    "    plt.plot(range(1,len(all_proposed)),all_proposed[1:],'o',color='orange',label='proposed',alpha=alpha)\n",
    "    plt.legend(loc='upper left')"
   ]
  },
  {
   "cell_type": "code",
   "execution_count": null,
   "metadata": {},
   "outputs": [],
   "source": [
    "pdf = sps.norm.pdf(np.linspace(0,9,100),true_mu,1)\n",
    "counts,bins = np.histogram(walk[:burn],bins=[0,1,2,3,4,5,6,7,8,9,10])\n",
    "print (counts,bins)\n",
    "\n",
    "print (walk[burn:].mean())\n",
    "print (walk[burn:].std())"
   ]
  },
  {
   "cell_type": "code",
   "execution_count": null,
   "metadata": {},
   "outputs": [],
   "source": [
    "plt.figure(figsize=(18,12))\n",
    "plt.title('MCMC Metropolis Hastings with Gaussian Likelihood'\\\n",
    "          ' True Parameter value: {}\\n nr of data points: {} nr of steps: {}' .format(true_mu,len(data),steps))\n",
    "plt.xlabel('parameter value')\n",
    "plt.ylabel('Relative Frequency')\n",
    "\n",
    "plt.plot(np.linspace(0,9,100),pdf,color='crimson',\n",
    "         ls='dashed',label=r'Normal PDF $\\mu$: {} $\\sigma$: {}'.format(true_mu,1))\n",
    "\n",
    "_=plt.hist(walk[burn:],color='orange',\n",
    "           weights=np.ones_like(walk[burn:]) / len(walk[burn:]),label='MCMC Hack')\n",
    "plt.legend(loc='upper left')\n",
    "plt.savefig('MCMC_HACK.jpg',format='jpg')"
   ]
  },
  {
   "cell_type": "code",
   "execution_count": null,
   "metadata": {},
   "outputs": [],
   "source": [
    "# use PYMC for the same fitting, using uniform prior\n",
    "\n",
    "#prior = pm.Uniform('prior',0,1)\n",
    "#obs = pm.Binomial('obs',n=N,p=prior,observed=True,value=data)\n",
    "\n",
    "prior = pm.Uniform('prior',-10,10)\n",
    "obs = pm.Normal('obs',mu=prior,tau= 1 / 1 ** 2,observed=True,value=data)\n",
    "                  \n",
    "model = pm.Model([prior,obs])\n",
    "map_ = pm.MAP(model)\n",
    "map_.fit()\n",
    "mcmc = pm.MCMC(model)\n",
    "samples = mcmc.sample(50000,10000,2)\n",
    "\n",
    "result = pd.DataFrame({'post_prior' :mcmc.trace(prior)[:]})\n"
   ]
  },
  {
   "cell_type": "code",
   "execution_count": null,
   "metadata": {},
   "outputs": [],
   "source": [
    "result.describe()"
   ]
  },
  {
   "cell_type": "code",
   "execution_count": null,
   "metadata": {},
   "outputs": [],
   "source": []
  },
  {
   "cell_type": "code",
   "execution_count": null,
   "metadata": {},
   "outputs": [],
   "source": [
    "ci_89 = np.percentile(walk[burn:],[5.5,94.5])\n",
    "\n",
    "plt.figure(figsize=(18,12))\n",
    "plt.hist(result.post_prior,density=True,label='PYMC',alpha=0.6,color='blue',bins=10)\n",
    "plt.hist(walk[burn:],density=True,label='MCMC-hack',alpha=0.6,color='orange',bins=20)\n",
    "plt.axvline(ci_89[0],color='red',ls='dashed')\n",
    "plt.axvline(ci_89[1],color='red',ls='dashed')\n",
    "plt.plot(np.linspace(0,9,100),pdf,color='orange',ls='dashed',label=r'Normal PDF $\\mu$: {} $\\sigma$:{}'.format(true_mu,1))\n",
    "plt.legend(loc='upper left')"
   ]
  },
  {
   "cell_type": "code",
   "execution_count": null,
   "metadata": {},
   "outputs": [],
   "source": [
    "### a look at the basics of a Gaussian\n",
    "x = np.linspace(-3,3,100)\n",
    "y = np.exp(-x**2)\n",
    "plt.plot(x,y)\n"
   ]
  },
  {
   "cell_type": "code",
   "execution_count": null,
   "metadata": {},
   "outputs": [],
   "source": [
    "def lkh_ratio(X2_current,X2_proposed):\n",
    "    return np.exp(-X2_proposed + X2_current) \n",
    "\n",
    "\n",
    "def X2_alt(data,generated,sigma=0.3) :\n",
    "    return  (  ( (data - generated) / data )  ** 2 ).sum() / 2\n",
    "\n",
    "D = np.array([5,5,5,5,5] )\n",
    "\n",
    "curr = np.array([4,4,4,4,4] ) \n",
    "prop = np.array([4,4,4,4,5] ) \n",
    "\n",
    "sigma = 1\n",
    "\n",
    "e_curr = X2(D,curr,sigma)\n",
    "e_prop = X2(D,prop,sigma)\n",
    "\n",
    "print ('e_curr ',e_curr)\n",
    "print ('e_prop ',e_prop)\n",
    "ratio = lkh_ratio(e_curr,e_prop)\n",
    "print ('ratio ',ratio)\n",
    "\n",
    "p = pm.runiform(0,1)\n",
    "print ('p ',p)\n",
    "accpt = p < ratio\n",
    "print ('accept ? ',accpt)"
   ]
  },
  {
   "cell_type": "code",
   "execution_count": null,
   "metadata": {},
   "outputs": [],
   "source": [
    "# ratios = np.exp(-e_prop) / np.exp(-e_curr) can be done without division as below\n",
    "\n",
    "ratios = np.exp(-e_prop + e_curr)\n",
    "print (ratios)\n",
    "print (ratios2)"
   ]
  },
  {
   "cell_type": "code",
   "execution_count": null,
   "metadata": {},
   "outputs": [],
   "source": [
    "\n",
    "\n",
    "for e_prop in range (4):\n",
    "    label='e_prop: {}'.format(e_prop)\n",
    "    ratios = []\n",
    "    print ()\n",
    "    for e_curr in range(4):\n",
    "        print (e_curr,e_prop,lkh_ratio(e_curr,e_prop))\n",
    "        ratios.append(lkh_ratio(e_curr,e_prop))\n",
    "    plt.plot(ratios,'o--',label=label)\n",
    "\n",
    "plt.xlabel('e_curr')\n",
    "plt.ylabel('likelihood ratio')\n",
    "plt.legend(loc='upper left')\n",
    "\n"
   ]
  }
 ],
 "metadata": {
  "kernelspec": {
   "display_name": "Python 3",
   "language": "python",
   "name": "python3"
  },
  "language_info": {
   "codemirror_mode": {
    "name": "ipython",
    "version": 3
   },
   "file_extension": ".py",
   "mimetype": "text/x-python",
   "name": "python",
   "nbconvert_exporter": "python",
   "pygments_lexer": "ipython3",
   "version": "3.6.9"
  }
 },
 "nbformat": 4,
 "nbformat_minor": 4
}
