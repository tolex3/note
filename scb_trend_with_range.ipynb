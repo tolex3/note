{
 "cells": [
  {
   "cell_type": "code",
   "execution_count": null,
   "metadata": {},
   "outputs": [],
   "source": [
    "import numpy as np\n",
    "import matplotlib.pyplot as plt\n",
    "import seaborn as sns\n",
    "import pandas as pd\n",
    "import pymc as pm\n",
    "\n",
    "sns.set()"
   ]
  },
  {
   "cell_type": "code",
   "execution_count": null,
   "metadata": {},
   "outputs": [],
   "source": [
    "scb = pd.read_csv('scb-dead_per_day.csv',sep=';',usecols=[1,2,3,4,5,6,7])\n",
    "scb.index = pd.date_range('2020-01-01','2020-12-31')\n",
    "scb.drop(pd.Timestamp('2020-02-29'),inplace=True,axis=0)\n",
    "last_day = scb.loc[scb['2020'] == 0]\n",
    "last_day = last_day.iloc[0]\n",
    "last_day = last_day.name.date()\n",
    "last_data_day = last_day - pd.DateOffset(days=1)\n",
    "\n",
    "last_day = (last_day - pd.DateOffset(days=7)).date() # skip last 6 days; last day is one day after before call\n"
   ]
  },
  {
   "cell_type": "code",
   "execution_count": null,
   "metadata": {},
   "outputs": [],
   "source": [
    "daily_min = scb.loc[:,'2015' : '2019'].min(axis=1)\n",
    "daily_max = scb.loc[:,'2015' : '2019'].max(axis=1)\n",
    "daily_mean = scb.loc[:,'2015' : '2019'].mean(axis=1)\n",
    "cum_diff = scb.loc[:last_day,'2020'].sum() - scb.loc[:last_day,'2015-2019'].sum()\n",
    "cum_diff"
   ]
  },
  {
   "cell_type": "code",
   "execution_count": null,
   "metadata": {},
   "outputs": [],
   "source": [
    "excess = scb.loc[:last_day,'2020'] - scb.loc[:last_day,'2015-2019']\n",
    "excess"
   ]
  },
  {
   "cell_type": "code",
   "execution_count": null,
   "metadata": {},
   "outputs": [],
   "source": [
    "plt.figure(figsize=(18,12))\n",
    "ax = plt.gca()\n",
    "ax2 = plt.twinx()\n",
    "\n",
    "ax.plot(scb['2015-2019'],'o',color='lime',label='baseline 2015-2019')\n",
    "ax.fill_between(scb.index,y1=daily_min,y2=daily_max,color='olive',alpha=0.2,label='baseline range')\n",
    "ax.plot(scb.loc[:last_day,'2020'],'o',color='crimson',label='2020')\n",
    "ax.set_title('SWEDEN daily deaths : 2020-01-01 - {} total diff in deaths Y2D: {}\\nData Source: SCB.se'.format(last_day,cum_diff))\n",
    "ax.set_ylabel('number of daily deaths')\n",
    "ax.legend(loc='upper left')\n",
    "ax2.plot(excess.cumsum(),ls='dashed',color='orange',label='Excess Deaths Y2D')\n",
    "ax2.set_ylabel('Total Excess deaths')\n",
    "ax2.legend(loc='upper right')\n",
    "\n",
    "plt.savefig('SCB_compare_with_interval.jpg',format='jpg')"
   ]
  },
  {
   "cell_type": "code",
   "execution_count": null,
   "metadata": {},
   "outputs": [],
   "source": [
    "scb_weekly = scb.resample('W-TUE').sum()\n",
    "scb_weekly.loc[:last_data_day]"
   ]
  },
  {
   "cell_type": "code",
   "execution_count": null,
   "metadata": {},
   "outputs": [],
   "source": [
    "weekly_min = scb_weekly.loc[:,'2015' : '2019'].min(axis=1)\n",
    "weekly_max = scb_weekly.loc[:,'2015' : '2019'].max(axis=1)\n",
    "weekly_mean = scb_weekly.loc[:,'2015' : '2019'].mean(axis=1)\n",
    "weekly_cum_diff = scb_weekly.loc[:last_data_day,'2020'].sum() - scb_weekly.loc[:last_data_day,'2015-2019'].sum()\n",
    "weekly_cum_diff"
   ]
  },
  {
   "cell_type": "code",
   "execution_count": null,
   "metadata": {},
   "outputs": [],
   "source": [
    "weekly_excess = scb_weekly.loc[:last_data_day,'2020'] - scb_weekly.loc[:last_data_day.date(),'2015-2019']\n",
    "weekly_excess"
   ]
  },
  {
   "cell_type": "code",
   "execution_count": null,
   "metadata": {},
   "outputs": [],
   "source": [
    "last_week = scb_weekly.loc[:last_data_day].index[-1].date()\n",
    "last_week"
   ]
  },
  {
   "cell_type": "code",
   "execution_count": null,
   "metadata": {},
   "outputs": [],
   "source": [
    "plt.figure(figsize=(18,12))\n",
    "ax = plt.gca()\n",
    "ax2 = plt.twinx()\n",
    "\n",
    "ax.plot(scb_weekly['2015-2019'][:-1],'o--',color='lime',label='baseline 2015-2019')\n",
    "ax.fill_between(scb_weekly.index[:-1],y1=weekly_min[:-1],y2=weekly_max[:-1],color='olive',alpha=0.2,label='baseline range')\n",
    "ax.plot(scb_weekly.loc[:last_week,'2020'],'o--',color='crimson',label='2020')\n",
    "ax.set_title('SWEDEN weekly deaths : 2020-01-01 - {} total diff in deaths Y2D: {}\\nData Source: SCB.se'.format(last_week,\n",
    "                                                                                                               weekly_cum_diff))\n",
    "ax.set_ylabel('number of daily deaths')\n",
    "ax.legend(loc='upper left')\n",
    "ax2.plot(weekly_excess.cumsum(),ls='dashed',color='orange',label='Excess Deaths Y2D')\n",
    "ax2.set_ylabel('Total Excess deaths')\n",
    "ax2.legend(loc='upper right')\n",
    "\n",
    "plt.savefig('SCB_compare_weekly_with_interval.jpg',format='jpg')"
   ]
  }
 ],
 "metadata": {
  "kernelspec": {
   "display_name": "Python 3",
   "language": "python",
   "name": "python3"
  },
  "language_info": {
   "codemirror_mode": {
    "name": "ipython",
    "version": 3
   },
   "file_extension": ".py",
   "mimetype": "text/x-python",
   "name": "python",
   "nbconvert_exporter": "python",
   "pygments_lexer": "ipython3",
   "version": "3.6.9"
  }
 },
 "nbformat": 4,
 "nbformat_minor": 4
}
