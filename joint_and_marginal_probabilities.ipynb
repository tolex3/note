{
 "cells": [
  {
   "cell_type": "code",
   "execution_count": null,
   "metadata": {},
   "outputs": [],
   "source": [
    "import numpy as np\n",
    "import matplotlib.pyplot as plt\n",
    "import seaborn as sns\n",
    "import pandas as pd\n",
    "\n",
    "sns.set()\n",
    "\n",
    "# Example from Bayes rule with Python"
   ]
  },
  {
   "cell_type": "code",
   "execution_count": null,
   "metadata": {
    "scrolled": false
   },
   "outputs": [],
   "source": [
    "N = 200\n",
    "rows = 4\n",
    "cols = 10\n",
    "\n",
    "'''\n",
    "symptoms_deceases =  np.zeros((rows,cols))\n",
    "\n",
    "for n in range(N):\n",
    "    \n",
    "    r = np.random.randint(0,rows)\n",
    "    c = np.random.randint(0,cols)\n",
    "    symptoms_deceases[r,c] += 1\n",
    "    \n",
    "'''\n",
    "\n",
    "\n",
    "symptoms_deceases = np.array([[0,0,1,0,3,5,10,7,7,4],\n",
    "                            [0,1,1,10,16,11,12,7,8,5],\n",
    "                            [3,5,8,9,14,10,3,3,0,0],\n",
    "                            [8,9,9,5,4,1,1,0,0,0]])  \n",
    "\n",
    "flipped = np.flip(symptoms_deceases,0)\n",
    "\n",
    "df = pd.DataFrame(symptoms_deceases).astype(int)\n",
    "\n",
    "plt.figure(figsize=(18,12))\n",
    "plt.grid(True)\n",
    "plt.xticks(range(0,11))\n",
    "plt.yticks(range(1,5))\n",
    "plt.xlabel('disease')\n",
    "plt.ylabel('symptom')\n",
    "\n",
    "nr_per_disease = flipped.sum(axis=0)\n",
    "nr_per_symptom = flipped.sum(axis=1)\n",
    "\n",
    "print (flipped)\n",
    "print (nr_per_disease)\n",
    "print (nr_per_symptom)\n",
    "\n",
    "plt.subplot(311)\n",
    "plt.grid(True)\n",
    "plt.xticks(range(0,11))\n",
    "plt.yticks(range(1,5))\n",
    "plt.xlabel('disease')\n",
    "plt.ylabel('symptom')\n",
    "\n",
    "for r in range(len(flipped[:,0])):\n",
    "    \n",
    "    for c in range(len(flipped[0,:])):\n",
    "        \n",
    "        ndots = flipped[r,c]\n",
    "        \n",
    "        for i in range(0,ndots):\n",
    "            \n",
    "            rr = 0.1 + r + 0.8 * np.random.random()\n",
    "            cc = 0.1 + c + 0.8 * np.random.random()\n",
    "            \n",
    "            plt.scatter(cc,rr,color='orange')\n",
    " \n",
    "plt.subplot(312)\n",
    "plt.bar(range(len(flipped[0,:])),nr_per_disease,color='orange')\n",
    "plt.xticks(range(len(flipped[0,:])),range(1,11))\n",
    "plt.xlabel('disease')\n",
    "plt.ylabel('number')\n",
    "\n",
    "plt.subplot(313)\n",
    "plt.barh(range(len(flipped[:,0])),nr_per_symptom,color='orange')\n",
    "plt.yticks(range(len(flipped[:,0])),range(1,5))\n",
    "plt.ylabel('symptom')\n",
    "plt.xlabel('number')\n",
    "plt.savefig('joint_margin_plot.jpg',format='jpg')\n",
    "\n",
    "\n",
    "df['All'] = df.sum(axis=1)\n",
    "df.loc['All'] = df.sum(axis=0)\n",
    "df.columns = range(1,12)\n",
    "df.rename(columns={11:'All'},inplace=True)\n",
    "df.index = range(4,-1,-1)\n",
    "df.rename(index={0:'All'},inplace=True)\n",
    "\n",
    "df.index.name='symptom'  \n",
    "df.columns.name='disease'\n",
    "\n",
    "df"
   ]
  },
  {
   "cell_type": "markdown",
   "metadata": {},
   "source": [
    "Look at disease 5: lkh p(s3|d5) for symptom[3] is 16/37, 0.43, while lkh for symptom[2] is 14/37, 0.38. \n",
    "And prior is obviously same for the same disease. Still, posterior is larger for symptom[2]. See graph below.\n",
    "This is because the posterior is (prior * likelihood) / marginal marginal lkh (symptom), which is the last column\n",
    "in joint probability\n",
    "\n",
    "Having the table of numbers above, or the corresponding joint distribution, it's trivial to calculate POSTERIOR,\n",
    "e.g. p(d5|s3) = 16/71 or 0.08 / 0.355 ; == 0.2253 which by Bayes rule is calculated as:\n",
    "p(d5|s3) = ( p(s3|d5) * p(d5) ) / p(s3) == (16/37 * 37/200) / 71/200 == (0.43 * 0.185) / 0.355 == 0.2253\n",
    "\n",
    "And of course, the PRIOR for each disease is given by the last row of the number table, divided by the total number of people,\n",
    "and LIKELIHOOD for a symptom|disease is given by taking the number in [row,col] and dividing by 'All' for that column"
   ]
  },
  {
   "cell_type": "code",
   "execution_count": null,
   "metadata": {},
   "outputs": [],
   "source": [
    "16/37 * 37/200 / (71/200)\n"
   ]
  },
  {
   "cell_type": "code",
   "execution_count": null,
   "metadata": {},
   "outputs": [],
   "source": [
    "### joint probability of symptom and decease \n",
    "### each cell holds the joint propability of having that symptom AND that decease\n",
    "\n",
    "#   p of having symptom x and disease d : p(x,d) divide entry in (x,d) by total population\n",
    "### marginal probability of symptom (last column), i.e the denominator in Bayes rule, marginal likelihood,\n",
    "### MLE is the highest value in each row\n",
    "### marginal probability of disease (last row), also known as PRIOR probability distribution for each decease\n",
    "\n",
    "distribution = df.iloc[:-1,:-1] / df.iloc[:-1,:-1].sum().sum()\n",
    "distribution.loc[[1,2,3,4],'All'] = df.loc[[1,2,3,4],'All'] / df.loc[[1,2,3,4],'All'].sum()\n",
    "distribution.loc['All',:] = df.loc['All'] / df.loc[[1,2,3,4],'All'].sum()\n",
    "distribution"
   ]
  },
  {
   "cell_type": "code",
   "execution_count": null,
   "metadata": {},
   "outputs": [],
   "source": [
    "# conditional probability symptom | disease : LIKELIHOOD FUNCTION for each symptom : each col but not row sums to 1\n",
    "# p(x|d) = divide entry in (x,d) with total of col d\n",
    "\n",
    "conditional_symptom_disease = df.iloc[:-1,:-1] / df.iloc[-1,:-1] # div by all in the col for disease\n",
    "conditional_symptom_disease['All'] = conditional_symptom_disease.sum(axis=1)\n",
    "conditional_symptom_disease.loc['All',:] = conditional_symptom_disease.sum(axis=0)\n",
    "conditional_symptom_disease"
   ]
  },
  {
   "cell_type": "code",
   "execution_count": null,
   "metadata": {},
   "outputs": [],
   "source": [
    "# conditional probability disease | symptom : POSTERIOR PROBABILITY DISTRIBUTION for each disease\n",
    "# p(d|x) = divide entry in (x,d) by total in row x\n",
    "# each row but not col sums to 1\n",
    "# MAP for each disease given symptom\n",
    "\n",
    "conditional_disease_symptom = df.iloc[:-1,:-1].div(df.iloc[:-1,-1],axis=0)\n",
    "conditional_disease_symptom['All'] = conditional_disease_symptom.sum(axis=1)\n",
    "conditional_disease_symptom.loc['All'] = conditional_disease_symptom.sum(axis=0)\n",
    "conditional_disease_symptom"
   ]
  },
  {
   "cell_type": "code",
   "execution_count": null,
   "metadata": {},
   "outputs": [],
   "source": [
    "prior_dist = distribution.loc['All'][:-1]\n",
    "posterior_dists = np.zeros((4,10))\n",
    "\n",
    "for s in range(1,5):\n",
    "    lkh_sympt = conditional_symptom_disease.loc[s][:-1]\n",
    "    posterior_dists[s-1,:] = prior_dist * lkh_sympt\n",
    "\n",
    "div = posterior_dists.sum(axis=1)\n",
    "posterior = np.array([posterior_dists[i,:] / div[i] for i in range(4)])\n",
    "posterior = pd.DataFrame(posterior)\n",
    "posterior.index=range(1,5)\n",
    "posterior.columns = range(1,11)\n",
    "posterior.sort_index(ascending=False,inplace=True)\n",
    "posterior"
   ]
  },
  {
   "cell_type": "code",
   "execution_count": null,
   "metadata": {
    "scrolled": false
   },
   "outputs": [],
   "source": [
    "plt.figure(figsize=(18,12))\n",
    "plt.title('Posterior probability disease given symptoms : MAP & MLE')\n",
    "ax = plt.gca()\n",
    "ax2 = plt.twinx()\n",
    "\n",
    "ax.plot(posterior.columns,prior_dist,'o--',label='prior',color='k',lw=3,ms=10)\n",
    "\n",
    "colors = ['blue','orange','red','green']\n",
    "\n",
    "i = 0\n",
    "for s in posterior.index:\n",
    "    \n",
    "    ax.plot(posterior.columns,posterior.loc[s,:],'x-',\n",
    "             color=colors[i],label='posterior for symptom {}'.format(s))\n",
    "    \n",
    "    ax2.plot(posterior.columns,conditional_symptom_disease.loc[s,:][:-1],'.--',\n",
    "             color=colors[i],alpha=1.0,label='likelihood for symptom {}'.format(s))\n",
    "    i += 1\n",
    "    \n",
    "ax.set_xlabel('disease')\n",
    "ax.set_ylabel('posterior probability')\n",
    "ax2.set_ylabel('likelihood : symtom | disease')\n",
    "ax.legend(loc='upper left')\n",
    "ax2.legend(loc='upper right')\n",
    "plt.savefig('posterior_and_likelihood.jpg',format='jpg')"
   ]
  },
  {
   "cell_type": "code",
   "execution_count": null,
   "metadata": {},
   "outputs": [],
   "source": [
    "# pandas operators\n",
    "df_df = pd.DataFrame({'angles': [0, 3, 4],\n",
    "                   'degrees': [360, 180, 360]},\n",
    "                  index=['circle', 'triangle', 'rectangle'])\n",
    "df_df\n",
    "\n"
   ]
  },
  {
   "cell_type": "code",
   "execution_count": null,
   "metadata": {},
   "outputs": [],
   "source": [
    "df_df.add([1,2,3],axis=0) #axis matches index, so the values of the list are added row-by-row for both columns.\n",
    "# add 1,2,3 in 1st col, 1,2,3 in second col \n"
   ]
  },
  {
   "cell_type": "code",
   "execution_count": null,
   "metadata": {},
   "outputs": [],
   "source": [
    "df_df.add([1,2],axis=1) # add 1s in 1st col, 2s in 2d col"
   ]
  }
 ],
 "metadata": {
  "kernelspec": {
   "display_name": "Python 3",
   "language": "python",
   "name": "python3"
  },
  "language_info": {
   "codemirror_mode": {
    "name": "ipython",
    "version": 3
   },
   "file_extension": ".py",
   "mimetype": "text/x-python",
   "name": "python",
   "nbconvert_exporter": "python",
   "pygments_lexer": "ipython3",
   "version": "3.6.9"
  }
 },
 "nbformat": 4,
 "nbformat_minor": 4
}
