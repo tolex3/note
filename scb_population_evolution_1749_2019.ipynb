{
 "cells": [
  {
   "cell_type": "code",
   "execution_count": null,
   "metadata": {},
   "outputs": [],
   "source": [
    "import numpy as np\n",
    "import matplotlib.pyplot as plt\n",
    "import seaborn as sns\n",
    "import pandas as pd\n",
    "\n",
    "import requests\n",
    "\n",
    "sns.set()"
   ]
  },
  {
   "cell_type": "code",
   "execution_count": null,
   "metadata": {},
   "outputs": [],
   "source": [
    "pop_url = 'http://api.scb.se/OV0104/v1/doris/sv/ssd/START/BE/BE0101/BE0101A/BefolkningR1860'\n",
    "\n",
    "pop_json_query = {\n",
    "  \"query\": [\n",
    "    {\n",
    "      \"code\": \"Alder\",\n",
    "      \"selection\": {\n",
    "        \"filter\": \"vs:Ålder1årA\",\n",
    "        \"values\": [\n",
    "          \"0\",\n",
    "          \"1\",\n",
    "          \"2\",\n",
    "          \"3\",\n",
    "          \"4\",\n",
    "          \"5\",\n",
    "          \"6\",\n",
    "          \"7\",\n",
    "          \"8\",\n",
    "          \"9\",\n",
    "          \"10\",\n",
    "          \"11\",\n",
    "          \"12\",\n",
    "          \"13\",\n",
    "          \"14\",\n",
    "          \"15\",\n",
    "          \"16\",\n",
    "          \"17\",\n",
    "          \"18\",\n",
    "          \"19\",\n",
    "          \"20\",\n",
    "          \"21\",\n",
    "          \"22\",\n",
    "          \"23\",\n",
    "          \"24\",\n",
    "          \"25\",\n",
    "          \"26\",\n",
    "          \"27\",\n",
    "          \"28\",\n",
    "          \"29\",\n",
    "          \"30\",\n",
    "          \"31\",\n",
    "          \"32\",\n",
    "          \"33\",\n",
    "          \"34\",\n",
    "          \"35\",\n",
    "          \"36\",\n",
    "          \"37\",\n",
    "          \"38\",\n",
    "          \"39\",\n",
    "          \"40\",\n",
    "          \"41\",\n",
    "          \"42\",\n",
    "          \"43\",\n",
    "          \"44\",\n",
    "          \"45\",\n",
    "          \"46\",\n",
    "          \"47\",\n",
    "          \"48\",\n",
    "          \"49\",\n",
    "          \"50\",\n",
    "          \"51\",\n",
    "          \"52\",\n",
    "          \"53\",\n",
    "          \"54\",\n",
    "          \"55\",\n",
    "          \"56\",\n",
    "          \"57\",\n",
    "          \"58\",\n",
    "          \"59\",\n",
    "          \"60\",\n",
    "          \"61\",\n",
    "          \"62\",\n",
    "          \"63\",\n",
    "          \"64\",\n",
    "          \"65\",\n",
    "          \"66\",\n",
    "          \"67\",\n",
    "          \"68\",\n",
    "          \"69\",\n",
    "          \"70\",\n",
    "          \"71\",\n",
    "          \"72\",\n",
    "          \"73\",\n",
    "          \"74\",\n",
    "          \"75\",\n",
    "          \"76\",\n",
    "          \"77\",\n",
    "          \"78\",\n",
    "          \"79\",\n",
    "          \"80\",\n",
    "          \"81\",\n",
    "          \"82\",\n",
    "          \"83\",\n",
    "          \"84\",\n",
    "          \"85\",\n",
    "          \"86\",\n",
    "          \"87\",\n",
    "          \"88\",\n",
    "          \"89\",\n",
    "          \"90\",\n",
    "          \"91\",\n",
    "          \"92\",\n",
    "          \"93\",\n",
    "          \"94\",\n",
    "          \"95\",\n",
    "          \"96\",\n",
    "          \"97\",\n",
    "          \"98\",\n",
    "          \"99\",\n",
    "          \"100+\"\n",
    "        ]\n",
    "      }\n",
    "    },\n",
    "    {\n",
    "      \"code\": \"Kon\",\n",
    "      \"selection\": {\n",
    "        \"filter\": \"item\",\n",
    "        \"values\": [\n",
    "          \"1\",\n",
    "          \"2\"\n",
    "        ]\n",
    "      }\n",
    "    }\n",
    "  ],\n",
    "  \"response\": {\n",
    "    \"format\": \"json\"\n",
    "  }\n",
    "}"
   ]
  },
  {
   "cell_type": "code",
   "execution_count": null,
   "metadata": {},
   "outputs": [],
   "source": [
    "r = requests.post(pop_url,json=pop_json_query)\n",
    "r.status_code"
   ]
  },
  {
   "cell_type": "code",
   "execution_count": null,
   "metadata": {},
   "outputs": [],
   "source": [
    "pop_json = r.json()\n",
    "pop_data = pop_json['data']\n",
    "pop_data[0]"
   ]
  },
  {
   "cell_type": "code",
   "execution_count": null,
   "metadata": {},
   "outputs": [],
   "source": [
    "tmp = pd.DataFrame.from_dict(pop_data)\n",
    "tmp.head()"
   ]
  },
  {
   "cell_type": "code",
   "execution_count": null,
   "metadata": {},
   "outputs": [],
   "source": [
    "pop_df = pd.DataFrame(tmp['key'].tolist(),columns=['age','gender','year'])\n",
    "\n",
    "# cant use pop as col name - it's a method! \n",
    "\n",
    "pop_df['population'] = tmp['values'].apply(lambda x : x[0]).astype(int)\n",
    "pop_df['age'] = pop_df['age'].apply(lambda x : x.replace('+','')).astype(int)\n",
    "pop_df = pop_df.groupby(['year','age']).sum()\n",
    "pop_df['age_num'] = pop_df.index.get_level_values(1)\n",
    "pop_df['age_num'] = pop_df['age_num'] + 0.5 # median of each bin\n",
    "\n",
    "pop_df"
   ]
  },
  {
   "cell_type": "code",
   "execution_count": null,
   "metadata": {},
   "outputs": [],
   "source": [
    "# set median of top age grp to 105\n",
    "pop_df.loc[pop_df.index.get_level_values(1) == 100,'age_num'] = 105\n",
    "pop_df\n"
   ]
  },
  {
   "cell_type": "code",
   "execution_count": null,
   "metadata": {},
   "outputs": [],
   "source": [
    "pop_df.info()"
   ]
  },
  {
   "cell_type": "code",
   "execution_count": null,
   "metadata": {
    "scrolled": false
   },
   "outputs": [],
   "source": [
    "years = pop_df.index.get_level_values(0).unique()\n",
    "stats_df = pd.DataFrame()\n",
    "\n",
    "for y in years:\n",
    "    flat = np.repeat (pop_df.loc[y,'age_num'],pop_df.loc[y,'population'])\n",
    "    s = flat.agg(['mean','median','count'])\n",
    "    s.name=y\n",
    "    stats_df = pd.concat([stats_df,s],axis=1)\n",
    "\n",
    "stats_df.T"
   ]
  },
  {
   "cell_type": "code",
   "execution_count": null,
   "metadata": {},
   "outputs": [],
   "source": [
    "limit = -5\n",
    "\n",
    "stats_df.T[limit:]"
   ]
  },
  {
   "cell_type": "code",
   "execution_count": null,
   "metadata": {},
   "outputs": [],
   "source": [
    "\n",
    "\n",
    "title = 'SWEDEN population mean and median age, 1860 - 2019\\nDataSource : scb.se'\n",
    "ax = stats_df.T.loc['1958':].plot(y=['mean','median'],figsize=(18,12),style='o--',title=title)\n",
    "ax.set_ylabel('age')\n",
    "ax.set_xlabel('year')\n",
    "\n",
    "plt.xticks(rotation=90)\n",
    "\n",
    "_= ax.set_yticks(np.arange(24,45,1))"
   ]
  },
  {
   "cell_type": "code",
   "execution_count": null,
   "metadata": {},
   "outputs": [],
   "source": [
    "pop_df['coarse_bins'] = pd.cut(pop_df.index.get_level_values(1),[-1,70,80,90,101],\n",
    "                              labels=['-70','70-79','80-89','90+'])\n",
    "pop_df"
   ]
  },
  {
   "cell_type": "code",
   "execution_count": null,
   "metadata": {},
   "outputs": [],
   "source": [
    "coarse_pop = pop_df.groupby(['year','coarse_bins'])['population'].sum()\n",
    "coarse_pop"
   ]
  },
  {
   "cell_type": "code",
   "execution_count": null,
   "metadata": {},
   "outputs": [],
   "source": [
    "base_year = '2000'\n",
    "coarse_pop_growth_vs_base = coarse_pop.unstack() / coarse_pop.unstack().loc[base_year]\n",
    "coarse_pop_growth_vs_base"
   ]
  },
  {
   "cell_type": "code",
   "execution_count": null,
   "metadata": {},
   "outputs": [],
   "source": [
    "title = 'SWEDEN Population Growth per Age Group vs base year {} \\nDataSource : scb.se'.format(base_year)\n",
    "coarse_pop_growth_vs_base.loc[base_year:].plot(figsize=(18,12),style='o--',title=title)\n",
    "#_= plt.yticks(range(1,13))\n",
    "plt.ylabel('growth factor vs base year of {}'.format(base_year))\n",
    "plt.savefig('swe_pop_age_grp_growth_vs_base_{}.jpg'.format(base_year),format='jpg')"
   ]
  },
  {
   "cell_type": "code",
   "execution_count": null,
   "metadata": {},
   "outputs": [],
   "source": [
    "\n",
    "coarse_y2y_growth = coarse_pop.unstack() / coarse_pop.unstack().shift()\n",
    "coarse_y2y_growth"
   ]
  },
  {
   "cell_type": "code",
   "execution_count": null,
   "metadata": {},
   "outputs": [],
   "source": [
    "start_year = '2015'\n",
    "coarse_y2y_growth.loc[start_year:].plot(figsize=(18,12),style='o--')"
   ]
  },
  {
   "cell_type": "code",
   "execution_count": null,
   "metadata": {},
   "outputs": [],
   "source": [
    "scb_bef_utv = pd.ExcelFile('https://www.scb.se/contentassets/fbc2871e93e64b9aa4d20d1fe8b7de2b/be0101_tab9utv1749-2019.xlsx')\n"
   ]
  },
  {
   "cell_type": "code",
   "execution_count": null,
   "metadata": {},
   "outputs": [],
   "source": [
    "scb_bef_utv.sheet_names"
   ]
  },
  {
   "cell_type": "code",
   "execution_count": null,
   "metadata": {},
   "outputs": [],
   "source": [
    "last_year = 2019\n",
    "scb_bef_utv_df = scb_bef_utv.parse('Befutv',skiprows=2)\n",
    "last_year_idx = scb_bef_utv_df.loc[scb_bef_utv_df['År'] == last_year].index\n",
    "last_year_idx = last_year_idx.values[0]\n",
    "\n",
    "scb_bef_utv_df = scb_bef_utv_df.loc[:last_year_idx]\n",
    "scb_bef_utv_df.set_index('År',inplace=True)\n",
    "scb_bef_utv_df.replace('..',np.nan,inplace=True)\n",
    "scb_bef_utv_df = scb_bef_utv_df.astype(float)\n",
    "scb_bef_utv_df"
   ]
  },
  {
   "cell_type": "code",
   "execution_count": null,
   "metadata": {},
   "outputs": [],
   "source": [
    "scb_bef_changes = pd.DataFrame(scb_bef_utv_df['Födda'] / scb_bef_utv_df['Folkmängd'],columns=['born_%'])\n",
    "scb_bef_changes['dead_%'] = scb_bef_utv_df['Döda'] / scb_bef_utv_df['Folkmängd']\n",
    "scb_bef_changes['migration_in_%'] = scb_bef_utv_df['Invandringar'] / scb_bef_utv_df['Folkmängd']\n",
    "scb_bef_changes['migration_out_%'] = scb_bef_utv_df['Utvandringar'] / scb_bef_utv_df['Folkmängd']\n",
    "\n",
    "scb_bef_changes"
   ]
  },
  {
   "cell_type": "code",
   "execution_count": null,
   "metadata": {},
   "outputs": [],
   "source": [
    "start_year = 2000 #first avail year : 1749\n",
    "\n",
    "title = 'SWEDEN demographics evolution {} - 2019\\nDataSource : scb.se'.format(start_year)\n",
    "\n",
    "ax = scb_bef_changes.loc[start_year:].plot(figsize=(18,12),y=['born_%','dead_%','migration_in_%',\n",
    "                                                             'migration_out_%'],\n",
    "                                           style='o--',title=title)\n",
    "\n",
    "ax2 = plt.twinx(ax)\n",
    "\n",
    "scb_bef_utv_df.loc[start_year:].plot(y='Folkmängd',ax=ax2,color='lightgrey')\n",
    "\n",
    "ax.set_ylabel('proportion of population')\n",
    "ax2.set_ylabel('population size')\n",
    "\n",
    "ax.legend(loc='upper center')\n",
    "ax2.legend(['population'],loc='upper right')\n",
    "\n",
    "if start_year == 1749:\n",
    "    ax.text(1773+2,scb_bef_changes.loc[1773,'dead_%'],'1773 Crops Failed => Dysentery',color='crimson')\n",
    "    ax.text(1809+2,scb_bef_changes.loc[1809,'dead_%'],'1808/09 Finnish War => \"Lantvärnssjukan\" (Dysentery/Tyfus)',\n",
    "           color='crimson')\n",
    "\n",
    "    ax.text(1918,scb_bef_changes.loc[1918,'dead_%'] + 0.0001,'1918 Spanish Flu',color='crimson',\n",
    "           rotation=45)\n",
    "    \n",
    "plt.savefig('swe_demographics_evolution_{}_2019.jpg'.format(start_year),format='jpg')"
   ]
  },
  {
   "cell_type": "code",
   "execution_count": null,
   "metadata": {},
   "outputs": [],
   "source": [
    "scb_bef_changes.sort_values('dead_%',ascending=False)"
   ]
  }
 ],
 "metadata": {
  "kernelspec": {
   "display_name": "Python 3",
   "language": "python",
   "name": "python3"
  },
  "language_info": {
   "codemirror_mode": {
    "name": "ipython",
    "version": 3
   },
   "file_extension": ".py",
   "mimetype": "text/x-python",
   "name": "python",
   "nbconvert_exporter": "python",
   "pygments_lexer": "ipython3",
   "version": "3.8.6"
  }
 },
 "nbformat": 4,
 "nbformat_minor": 4
}
