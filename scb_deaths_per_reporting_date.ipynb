{
 "cells": [
  {
   "cell_type": "code",
   "execution_count": null,
   "metadata": {},
   "outputs": [],
   "source": [
    "### list report_dates below must be updated after each read of new scb-data"
   ]
  },
  {
   "cell_type": "code",
   "execution_count": null,
   "metadata": {},
   "outputs": [],
   "source": [
    "import pandas as pd\n",
    "import numpy as np\n",
    "import matplotlib.pyplot as plt\n",
    "import seaborn as sns\n",
    "\n",
    "sns.set()"
   ]
  },
  {
   "cell_type": "code",
   "execution_count": null,
   "metadata": {},
   "outputs": [],
   "source": [
    "df = pd.read_excel('scb_prel_deaths.xlsx',sheet_name='Tabell 8',skiprows=6)"
   ]
  },
  {
   "cell_type": "code",
   "execution_count": null,
   "metadata": {},
   "outputs": [],
   "source": [
    "df"
   ]
  },
  {
   "cell_type": "code",
   "execution_count": null,
   "metadata": {},
   "outputs": [],
   "source": [
    "def monthname2number(m):\n",
    "        if m == 'januari' or m == 'jan' : return 1\n",
    "        if m == 'februari' or m == 'feb' : return 2\n",
    "        if m == 'mars'  or m == 'mar': return 3\n",
    "        if m == 'april' or m == 'apr': return 4\n",
    "        if m == 'maj'  or m == 'maj': return 5\n",
    "        if m == 'juni'  or m == 'jun': return 6\n",
    "        if m == 'juli' or m == 'jul': return 7\n",
    "        if m == 'augusti' or m == 'aug.': return 8\n",
    "        if m == 'september' or m == 'sep.': return 9\n",
    "        if m == 'oktober' or m == 'okt.' : return 10\n",
    "        if m == 'november' or m == 'nov.': return 11\n",
    "        if m == 'december' or m == 'dec.': return 12"
   ]
  },
  {
   "cell_type": "code",
   "execution_count": null,
   "metadata": {},
   "outputs": [],
   "source": []
  },
  {
   "cell_type": "code",
   "execution_count": null,
   "metadata": {},
   "outputs": [],
   "source": [
    "df[['day','month','dummy']] = df['Datum'].str.split(' ',expand=True)\n",
    "df.drop(['Datum','dummy'],axis=1,inplace=True)"
   ]
  },
  {
   "cell_type": "code",
   "execution_count": null,
   "metadata": {},
   "outputs": [],
   "source": [
    "df.index = pd.date_range('2020-01-01','2021-01-01')\n",
    "df = df.iloc[:,:-2]\n",
    "df = df[:-1]\n",
    "df"
   ]
  },
  {
   "cell_type": "code",
   "execution_count": null,
   "metadata": {},
   "outputs": [],
   "source": [
    "df_monthly = df.resample('M').sum()\n",
    "df_monthly"
   ]
  },
  {
   "cell_type": "code",
   "execution_count": null,
   "metadata": {},
   "outputs": [],
   "source": [
    "\n",
    "df_monthly.columns"
   ]
  },
  {
   "cell_type": "code",
   "execution_count": null,
   "metadata": {},
   "outputs": [],
   "source": [
    "def swe2eng(datum):\n",
    "    \n",
    "    month_map = {'april' : '04',\n",
    "                'maj' : '05',\n",
    "                'juni' : '06',\n",
    "                'juli' : '07',\n",
    "                'aug.' : '08',\n",
    "                'sep.' : '09',\n",
    "                'okt.' : '10',\n",
    "                'nov.' : '11',\n",
    "                'dec.' : '12'}\n",
    "    \n",
    "    dag,mon = datum.split()\n",
    "    \n",
    "    if len(dag) == 1:\n",
    "        dag = '0' + dag\n",
    "    \n",
    "    return '2020-' + month_map[mon] + '-' + dag"
   ]
  },
  {
   "cell_type": "code",
   "execution_count": null,
   "metadata": {},
   "outputs": [],
   "source": [
    "report_dates = [ swe2eng(x) for x in df_monthly.columns.values ]"
   ]
  },
  {
   "cell_type": "code",
   "execution_count": null,
   "metadata": {},
   "outputs": [],
   "source": [
    "'''\n",
    "report_dates = ['2020-04-03','2020-04-06','2020-04-14','2020-04-20','2020-04-27',\n",
    "                '2020-05-04','2020-05-11','2020-05-18','2020-05-25',\n",
    "                '2020-06-01','2020-06-08','2020-06-15','2020-06-22','2020-06-29',\n",
    "               '2020-07-03','2020-07-10','2020-07-17','2020-07-24',\n",
    "                '2020-08-03','2020-08-10','2020-08-17','2020-08-24','2020-08-31',\n",
    "               '2020-09-07','2020-09-14','2020-09-21','2020-09-28',\n",
    "               '2020-10-05','2020-10-12','2020-10-19','2020-10-26','2020-11-02','2020-11-09',\n",
    "               '2020-11-16','2020-11-23','2020-11-30','2020-12-07']\n",
    "\n",
    "'''\n",
    "report_dates = pd.to_datetime(report_dates)\n",
    "df_monthly.columns = report_dates\n",
    "df_monthly.index = df_monthly.index.date"
   ]
  },
  {
   "cell_type": "code",
   "execution_count": null,
   "metadata": {},
   "outputs": [],
   "source": [
    "df_monthly = df_monthly[:-1]\n",
    "df_monthly"
   ]
  },
  {
   "cell_type": "code",
   "execution_count": null,
   "metadata": {},
   "outputs": [],
   "source": [
    "df_monthly.T.plot(style='o--',figsize=(18,12),title='Sweden monthly deaths per reporting date')\n",
    "plt.xlabel('reporting date')\n",
    "plt.ylabel('monthly deaths reported')\n",
    "plt.yticks(range(0,12000,1000))\n",
    "#plt.yscale('log')\n",
    "plt.savefig('sweden_monthly_deaths_per_reporting_date.jpg',format='jpg')"
   ]
  },
  {
   "cell_type": "code",
   "execution_count": null,
   "metadata": {},
   "outputs": [],
   "source": [
    "df_weekly = df.resample('W').sum()\n",
    "df_weekly"
   ]
  },
  {
   "cell_type": "code",
   "execution_count": null,
   "metadata": {},
   "outputs": [],
   "source": [
    "df_weekly.columns = report_dates"
   ]
  },
  {
   "cell_type": "code",
   "execution_count": null,
   "metadata": {},
   "outputs": [],
   "source": [
    "df_weekly"
   ]
  },
  {
   "cell_type": "code",
   "execution_count": null,
   "metadata": {},
   "outputs": [],
   "source": [
    "all_zeros = (df_weekly.T == 0).all()"
   ]
  },
  {
   "cell_type": "code",
   "execution_count": null,
   "metadata": {},
   "outputs": [],
   "source": [
    "df_weekly.index = df_weekly.index.date\n",
    "\n",
    "df_weekly = df_weekly[~all_zeros]\n",
    "df_weekly"
   ]
  },
  {
   "cell_type": "code",
   "execution_count": null,
   "metadata": {},
   "outputs": [],
   "source": [
    "df_weekly.T.plot(style='o--',figsize=(18,12),title='Sweden weekly deaths per reporting date',legend=False)\n",
    "plt.xlabel('reporting date')\n",
    "plt.ylabel('weekly deaths reported')\n"
   ]
  },
  {
   "cell_type": "code",
   "execution_count": null,
   "metadata": {},
   "outputs": [],
   "source": [
    "df_monthly.T"
   ]
  },
  {
   "cell_type": "code",
   "execution_count": null,
   "metadata": {},
   "outputs": [],
   "source": [
    "change_by_report_date = df_monthly.T / df_monthly.T.shift()\n",
    "change_by_report_date"
   ]
  },
  {
   "cell_type": "code",
   "execution_count": null,
   "metadata": {},
   "outputs": [],
   "source": [
    "change_by_report_date.plot(figsize=(18,12),style='o--')\n",
    "plt.ylim([1,2])"
   ]
  },
  {
   "cell_type": "code",
   "execution_count": null,
   "metadata": {},
   "outputs": [],
   "source": [
    "last_report = df_monthly.T.iloc[-1]\n",
    "last_report"
   ]
  },
  {
   "cell_type": "code",
   "execution_count": null,
   "metadata": {},
   "outputs": [],
   "source": [
    "df_monthly.T / last_report"
   ]
  },
  {
   "cell_type": "code",
   "execution_count": null,
   "metadata": {},
   "outputs": [],
   "source": [
    "# assuming 1:St week after month change the numbers are 85%, after second 95%, of final\n"
   ]
  }
 ],
 "metadata": {
  "kernelspec": {
   "display_name": "Python 3",
   "language": "python",
   "name": "python3"
  },
  "language_info": {
   "codemirror_mode": {
    "name": "ipython",
    "version": 3
   },
   "file_extension": ".py",
   "mimetype": "text/x-python",
   "name": "python",
   "nbconvert_exporter": "python",
   "pygments_lexer": "ipython3",
   "version": "3.8.6"
  }
 },
 "nbformat": 4,
 "nbformat_minor": 4
}
