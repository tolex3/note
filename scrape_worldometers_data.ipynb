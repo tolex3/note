{
 "cells": [
  {
   "cell_type": "code",
   "execution_count": null,
   "metadata": {},
   "outputs": [],
   "source": [
    "from bs4 import BeautifulSoup as bs\n",
    "import requests\n",
    "import pandas as pd\n",
    "import numpy as np\n",
    "import seaborn as sns\n",
    "import matplotlib.pyplot as plt\n",
    "import pymc as pm\n",
    "import scipy.stats as sps\n",
    "\n",
    "\n",
    "sns.set()\n",
    "pd.set_option(\"display.precision\", 2)\n",
    "\n",
    "# SCRAPES THE LATEST DATA FROM WORLDOMETERS\n",
    "url = 'https://www.worldometers.info/coronavirus/#countries'\n",
    "\n",
    "r = requests.get(url)\n",
    "\n",
    "c = r.content\n",
    "\n",
    "soup = bs(c,'html.parser')\n",
    "\n",
    "foo = soup.findAll('div',{'class' : 'tab-content'})\n",
    "print (len(foo))\n",
    "\n",
    "the_div = foo[2]\n",
    "\n",
    "tbody = the_div.tbody\n",
    "\n",
    "rows = tbody.findAll('tr')\n",
    "\n",
    "countries = dict()\n",
    "\n",
    "for r in rows:\n",
    "    td = r.findAll('td')\n",
    "    name = td[0].get_text().strip()\n",
    "    confirmed = td[1].get_text().strip()\n",
    "    inc = td[2].get_text().strip()\n",
    "    deaths = td[3].get_text().strip()\n",
    "    d_inc = td[4].get_text().strip()\n",
    "    recovered = td[5].get_text().strip()\n",
    "    active_cases = td[6].get_text().strip()\n",
    "    serious = td[7].get_text().strip()\n",
    "    conf_p_M = td[8].get_text().strip()\n",
    "    countries[name] = [confirmed,inc,deaths,d_inc,\n",
    "                       recovered,active_cases,serious,conf_p_M]\n",
    "    \n",
    "cols = ['confirmed','inc','dead','dead_inc','recovered',\n",
    "        'active_cases','serious','confirmed_per_M']\n",
    "\n",
    "df = pd.DataFrame.from_dict(countries)\n",
    "df = df.T\n",
    "df.columns = cols\n",
    "\n",
    "df[['inc','dead_inc']] = df[['inc','dead_inc']].apply(\n",
    "    lambda x : x.str.replace('+',''))\n",
    "\n",
    "df[['confirmed','dead','recovered','active_cases',\n",
    "    'serious','inc','dead_inc','confirmed_per_M']] = \\\n",
    "    df[['confirmed','dead','recovered','active_cases',\n",
    "        'serious','inc','dead_inc','confirmed_per_M']].apply(\n",
    "    lambda x : x.str.replace(',',''))\n",
    "\n",
    "df[cols] = df[cols].apply(lambda x: x.replace('',np.nan))\n",
    "\n",
    "\n",
    "df[cols] = df[cols].astype(float)\n",
    "df['yesterday'] = df['confirmed'] - df['inc']\n",
    "df['factor'] = df['confirmed'] / df['yesterday']\n",
    "cols  = ['confirmed', 'yesterday','inc', 'factor','dead', 'dead_inc', 'recovered', 'active_cases',\n",
    "       'serious', 'confirmed_per_M']\n",
    "\n",
    "df = df[cols]\n",
    "\n",
    "#df['factor'].loc[df['factor'] == np.inf]\n",
    "df['factor'] = df['factor'].replace(np.inf,np.nan)\n",
    "df['dead_pct'] = 100 * df['dead'] / df['confirmed']\n",
    "df['dead'] = df['dead'].fillna(0)\n",
    "df['dead_factor'] = df['dead'].div (df['dead'] - df['dead_inc'])\n",
    "df['dead_factor'].replace(np.inf,np.nan,inplace=True)\n",
    "\n",
    "### add population data to calculate dead_per_M\n",
    "\n",
    "def strip(x):\n",
    "    return x.replace('\\t','')\n",
    "\n",
    "country_populations = pd.read_csv('world_pop.csv',\n",
    "                                  sep=';',header=None,index_col=0,names=['population'],\n",
    "                                 thousands=',',converters={0 : strip})\n",
    "\n",
    "df['dead_per_M'] = df['dead'].div (country_populations['population'] / 1e6)\n",
    "\n",
    "###\n",
    "\n",
    "df.head(40)\n"
   ]
  },
  {
   "cell_type": "code",
   "execution_count": null,
   "metadata": {},
   "outputs": [],
   "source": [
    "df.to_pickle('scrape_df.pkl')\n",
    "df.agg(['sum','max','min','mean','median','count'])\n"
   ]
  },
  {
   "cell_type": "code",
   "execution_count": null,
   "metadata": {},
   "outputs": [],
   "source": [
    "today = pd.to_datetime('today').strftime('%Y-%m-%d %H:%M:%S')\n",
    "file_prefix = 'snapshots/corona_snapshot_'\n",
    "filename = file_prefix + today.replace(' ','_').replace(':','_') + '.pkl'\n",
    "df['datetime'] = [today] * len(df)\n",
    "df.set_index([df.index,'datetime'],drop=True).to_pickle(filename)\n",
    "df.head()"
   ]
  },
  {
   "cell_type": "code",
   "execution_count": null,
   "metadata": {
    "scrolled": true
   },
   "outputs": [],
   "source": [
    "import glob\n",
    "files = [f for f in glob.glob('./' + file_prefix +'*')]\n",
    "\n",
    "timeline_df = pd.DataFrame()\n",
    "\n",
    "for f in files:\n",
    "    temp = pd.read_pickle(f)\n",
    "    timeline_df = pd.concat([timeline_df,temp],axis=0)\n",
    "    \n",
    "timeline_df.sort_index(inplace=True)\n",
    "timeline_df['dead'] = timeline_df['dead'].fillna(0)\n",
    "timeline_df"
   ]
  },
  {
   "cell_type": "code",
   "execution_count": null,
   "metadata": {},
   "outputs": [],
   "source": [
    "timeline_group = timeline_df.groupby(level=0)\n",
    "\n",
    "a_country = timeline_group.get_group('USA')\n",
    "a_country = timeline_group.get_group('Sweden')\n",
    "a_country"
   ]
  },
  {
   "cell_type": "code",
   "execution_count": null,
   "metadata": {},
   "outputs": [],
   "source": [
    "non_duplicates = ( ( a_country['confirmed'] != a_country['confirmed'].shift() )  | (\n",
    "    a_country['dead'] != a_country['dead'].shift()))\n",
    "\n",
    "a_country = a_country[non_duplicates]\n",
    "a_country"
   ]
  },
  {
   "cell_type": "code",
   "execution_count": null,
   "metadata": {},
   "outputs": [],
   "source": [
    "resample = a_country.droplevel(0)\n",
    "resample.index = pd.DatetimeIndex(resample.index)\n",
    "#resample = resample.resample('180T').bfill()\n",
    "resample = resample.resample('D').bfill()\n",
    "\n",
    "index = pd.to_datetime(resample.index)"
   ]
  },
  {
   "cell_type": "code",
   "execution_count": null,
   "metadata": {},
   "outputs": [],
   "source": [
    "\n",
    "\n",
    "plt.figure(figsize=(18,12))\n",
    "plt.title('Short term Corona evolution {}'.format(a_country.index[0][0]))\n",
    "resample['confirmed'].plot(style ='o--')\n",
    "#plt.xticks(rotation=90)\n",
    "#plt.xticks(np.arange(len(index)),index.values)\n",
    "plt.xlabel('time [GMT + 1]')\n",
    "\n",
    "#plt.ylabel('Nr of infected')\n",
    "plt.ylabel(r'Nr of infected [ $10^{x}$ ]')\n",
    "plt.yscale('log')\n",
    "\n",
    "filename = 'corona_short_term_' + a_country.index[0][0] + '.jpg'\n",
    "plt.savefig (filename,format='jpg')\n"
   ]
  },
  {
   "cell_type": "code",
   "execution_count": null,
   "metadata": {
    "scrolled": false
   },
   "outputs": [],
   "source": [
    "top_dead_pct = df.loc[df['confirmed'] > 500].sort_values('dead_pct',ascending=False)\n",
    "top_dead_pct"
   ]
  },
  {
   "cell_type": "code",
   "execution_count": null,
   "metadata": {},
   "outputs": [],
   "source": [
    "country_names = sorted(df.index.values)\n",
    "#country_names"
   ]
  },
  {
   "cell_type": "code",
   "execution_count": null,
   "metadata": {
    "scrolled": false
   },
   "outputs": [],
   "source": [
    "df.loc[df['confirmed'] > 500 ].sort_values('factor',ascending=False)"
   ]
  },
  {
   "cell_type": "code",
   "execution_count": null,
   "metadata": {},
   "outputs": [],
   "source": [
    "top_10_per_m = df.sort_values('confirmed_per_M',ascending=False).head(10)\n",
    "top_10_per_m"
   ]
  },
  {
   "cell_type": "code",
   "execution_count": null,
   "metadata": {},
   "outputs": [],
   "source": [
    "plt.figure(figsize=(18,12))\n",
    "plt.title('Corona - confirmed cases per 1 Million')\n",
    "plt.ylabel ('Confirmed per Million')\n",
    "top_10_per_m['confirmed_per_M'].plot(kind='bar')\n",
    "plt.savefig('confirmed_per_million.jpg',format='jpg')"
   ]
  },
  {
   "cell_type": "code",
   "execution_count": null,
   "metadata": {},
   "outputs": [],
   "source": [
    "totals = pd.DataFrame(df.sum(),columns=['totals'])\n",
    "totals.drop(['factor','confirmed_per_M','dead_pct','datetime'],inplace=True)\n",
    "totals"
   ]
  },
  {
   "cell_type": "code",
   "execution_count": null,
   "metadata": {},
   "outputs": [],
   "source": [
    "country_names = list(sorted((df.index.unique().values)))\n",
    "country_names"
   ]
  },
  {
   "cell_type": "code",
   "execution_count": null,
   "metadata": {},
   "outputs": [],
   "source": [
    "some_countries = ['Sweden','Finland','Denmark','Norway','Iceland']\n",
    "countries_of_interest = df.loc[some_countries,:]\n",
    "countries_of_interest.sort_values('dead_per_M',inplace=True,ascending=False)\n",
    "countries_of_interest"
   ]
  },
  {
   "cell_type": "code",
   "execution_count": null,
   "metadata": {
    "scrolled": true
   },
   "outputs": [],
   "source": [
    "countries_of_interest.sort_values('confirmed_per_M',ascending=False)"
   ]
  },
  {
   "cell_type": "code",
   "execution_count": null,
   "metadata": {
    "scrolled": false
   },
   "outputs": [],
   "source": [
    "european_countries = pd.read_csv('european_countries.csv',sep=';',\n",
    "                     encoding='ISO-8859-1',header=None,\n",
    "                     names=['country','population','region'],\n",
    "                    thousands=',')\n",
    "europe_names = list(european_countries['country'].values)\n",
    "\n",
    "try:\n",
    "    europe = df.loc[europe_names,:]\n",
    "except KeyError:\n",
    "    print ('some country from european_countries missing from dataset')\n",
    "    \n",
    "europe.sort_values('confirmed',ascending=False,inplace=True)\n",
    "europe"
   ]
  },
  {
   "cell_type": "code",
   "execution_count": null,
   "metadata": {},
   "outputs": [],
   "source": [
    "europe_sum = europe[['confirmed','yesterday','inc','dead','dead_inc','recovered','active_cases']].sum()\n",
    "europe_sum"
   ]
  },
  {
   "cell_type": "code",
   "execution_count": null,
   "metadata": {},
   "outputs": [],
   "source": [
    "plt.figure(figsize=(18,12))\n",
    "europe['confirmed'].cumsum().plot(kind='bar')\n",
    "plt.title('Corona - Europe : cumulative number of confirmed')\n",
    "plt.ylabel('Nr of confirmed')\n",
    "plt.savefig('Corona_europe_cumulative.jpg',format='jpg')\n"
   ]
  },
  {
   "cell_type": "code",
   "execution_count": null,
   "metadata": {},
   "outputs": [],
   "source": [
    "def standardize(x):\n",
    "    return (x - x.mean()) / x.std()\n",
    "\n",
    "min_confirmed = 100\n",
    "max_confirmed = 100000 # exclude e.g. China for better view\n",
    "\n",
    "df_no_extrems = df.loc[ ( ( df['confirmed'] > min_confirmed  ) & ( df['confirmed'] < max_confirmed )) ]\n",
    "df_no_extrems = df_no_extrems.loc[df_no_extrems['factor'] > 0]\n",
    "df_no_extrems = df_no_extrems.loc[( \n",
    "    ( df_no_extrems['confirmed'] >= min_confirmed ) & (df_no_extrems['confirmed'] <= max_confirmed))]\n",
    "\n",
    "x = df_no_extrems['confirmed_per_M']\n",
    "x = standardize(x)\n",
    "y = df_no_extrems['factor']\n",
    "y = standardize(y)"
   ]
  },
  {
   "cell_type": "code",
   "execution_count": null,
   "metadata": {},
   "outputs": [],
   "source": [
    "# \n",
    "\n",
    "slope,intercept,_,_,_ = sps.linregress(x,y)\n",
    "\n",
    "alpha_mu = 0\n",
    "alpha_sigma = 1\n",
    "beta_mu = 0\n",
    "beta_sigma = 1\n",
    "\n",
    "\n",
    "alpha = pm.Normal('alpha',mu=alpha_mu,tau = 1 / alpha_sigma ** 2)\n",
    "beta = pm.Normal('beta',mu=beta_mu,tau = 1 / beta_sigma ** 2)\n",
    "\n",
    "# by changing sigma from uniform to lognormal, the y-range of sample plot below\n",
    "# shrunk a lot\n",
    "\n",
    "sigma = pm.Uniform('sigma',lower=0,upper=10)\n",
    "\n",
    "@pm.deterministic()\n",
    "def linreq_mu(x=x,beta=beta,alpha=alpha):\n",
    "    return x * beta + alpha\n",
    "\n",
    "likelihood  = pm.Normal('likelihood',mu=linreq_mu,tau= 1 / sigma ** 2,\n",
    "                       observed=True,value=y)\n",
    "\n",
    "model = pm.Model([alpha,beta,sigma,linreq_mu,likelihood])\n",
    "map_ = pm.MAP(model)\n",
    "map_.fit()\n",
    "\n",
    "mcmc = pm.MCMC(model)\n",
    "\n",
    "mcmc.sample(10000,5000,2)\n",
    "\n",
    "alpha_samples = mcmc.trace('alpha')[:]\n",
    "beta_samples = mcmc.trace('beta')[:]\n",
    "sigma_samples = mcmc.trace('sigma')[:]\n",
    "linreq_mu_samples = mcmc.trace('sigma')[:]\n",
    "\n",
    "result = pd.DataFrame({'alpha_post': alpha_samples,\n",
    "                     'beta_post' : beta_samples,\n",
    "                     'sigma_post' : sigma_samples,\n",
    "                     'linreq_mu_post' : linreq_mu_samples})\n"
   ]
  },
  {
   "cell_type": "code",
   "execution_count": null,
   "metadata": {},
   "outputs": [],
   "source": [
    "\n",
    "nr_rows = 100\n",
    "nr_samples = 1000\n",
    "\n",
    "alphas = np.random.choice(result['alpha_post'],replace=True,size=nr_samples)\n",
    "betas = np.random.choice(result['beta_post'],replace=True,size=nr_samples)\n",
    "\n",
    "X = np.linspace(x.min(),x.max(),nr_rows)\n",
    "\n",
    "line_ys = np.array([X[i] * betas + alphas for i in range(len(X))])\n",
    "\n",
    "plt.figure(figsize=(18,12))\n",
    "\n",
    "line_alpha = result['alpha_post'].mean()\n",
    "line_beta = result['beta_post'].mean()\n",
    "\n",
    "plt.title(r'Corona - Linear Regression: growth factor <== confirmed_per_M [ $\\alpha$ {:.2f} $\\beta$ {:.2f}]'.format(\n",
    "                                                                                        line_alpha,line_beta))\n",
    "\n",
    "plt.ylabel(r'factor [std] $\\mu$ {:.2f} $\\sigma$ {:.2f}'.format(df_no_extrems['factor'].mean(),\n",
    "                                                              df_no_extrems['factor'].std()))\n",
    "plt.xlabel(r'confirmed_per_M [std] $\\mu$ {:.2f} $\\sigma$ {:.2f}'.format(df_no_extrems['confirmed_per_M'].mean(),\n",
    "                                                             df_no_extrems['confirmed_per_M'].std()))\n",
    "plt.scatter(x,y,color='r')\n",
    "plt.plot(X,[X[i] * slope + intercept for i in range(len(X))],color='k',ls='dashed')\n",
    "plt.plot(X,line_ys,color='r',alpha = 0.01)\n",
    "plt.plot(X,[X[i] * result['beta_post'].mean() + result['alpha_post'].mean() for i in range(len(X))],\n",
    "        color='orange',ls='dashed')\n",
    "result.describe()\n"
   ]
  },
  {
   "cell_type": "code",
   "execution_count": null,
   "metadata": {},
   "outputs": [],
   "source": [
    "plt.figure(figsize=(18,12))\n",
    "plt.title ('Corona - Confirmed per Million in standardized units, as above')\n",
    "plt.xlabel('confirmed per million [std]')\n",
    "#df_no_extrems['confirmed_per_M'].sort_values().plot(kind='barh')\n",
    "std_values = standardize(df_no_extrems['confirmed_per_M'])\n",
    "_= std_values.sort_values().plot(kind='barh')\n",
    "\n"
   ]
  }
 ],
 "metadata": {
  "kernelspec": {
   "display_name": "Python 3",
   "language": "python",
   "name": "python3"
  },
  "language_info": {
   "codemirror_mode": {
    "name": "ipython",
    "version": 3
   },
   "file_extension": ".py",
   "mimetype": "text/x-python",
   "name": "python",
   "nbconvert_exporter": "python",
   "pygments_lexer": "ipython3",
   "version": "3.6.9"
  }
 },
 "nbformat": 4,
 "nbformat_minor": 4
}
