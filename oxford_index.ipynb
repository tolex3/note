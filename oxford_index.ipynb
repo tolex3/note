{
 "cells": [
  {
   "cell_type": "code",
   "execution_count": null,
   "metadata": {},
   "outputs": [],
   "source": [
    "import numpy as np\n",
    "import matplotlib.pyplot as plt\n",
    "import seaborn as sns\n",
    "import pandas as pd\n",
    "import pymc as pm\n",
    "import requests\n",
    "import scipy.stats as sps\n",
    "\n",
    "from pymc.Matplot import plot as pmplot\n",
    "\n",
    "sns.set()"
   ]
  },
  {
   "cell_type": "code",
   "execution_count": null,
   "metadata": {
    "scrolled": false
   },
   "outputs": [],
   "source": [
    "start_date = '2020-03-01'\n",
    "end_date = '2020-08-01'\n",
    "\n",
    "url = 'https://covidtrackerapi.bsg.ox.ac.uk/api/v2/stringency/date-range/{}/{}'.format(start_date,end_date)\n",
    "\n",
    "r = requests.get(url,timeout=5.0)\n",
    "r.status_code"
   ]
  },
  {
   "cell_type": "code",
   "execution_count": null,
   "metadata": {},
   "outputs": [],
   "source": []
  },
  {
   "cell_type": "code",
   "execution_count": null,
   "metadata": {},
   "outputs": [],
   "source": [
    "keys = pd.date_range(start_date,end_date)\n",
    "keys"
   ]
  },
  {
   "cell_type": "code",
   "execution_count": null,
   "metadata": {
    "scrolled": false
   },
   "outputs": [],
   "source": [
    "json = r.json()\n",
    "data = json['data']\n",
    "countries = json['countries']"
   ]
  },
  {
   "cell_type": "code",
   "execution_count": null,
   "metadata": {
    "scrolled": false
   },
   "outputs": [],
   "source": [
    "data_list = []\n",
    "\n",
    "for k in keys:\n",
    "    date = k.date().strftime('%Y-%m-%d')\n",
    "    for c in countries:\n",
    "        try:\n",
    "            data_list.append((date,c,data[date][c]['confirmed'],data[date][c]['deaths'],data[date][c]['stringency']))\n",
    "        except KeyError:\n",
    "            print ('cant find',c)\n"
   ]
  },
  {
   "cell_type": "code",
   "execution_count": null,
   "metadata": {
    "scrolled": false
   },
   "outputs": [],
   "source": [
    "df = pd.DataFrame(data_list,columns=['date','country','confirmed','dead','oxford_stringency'])\n",
    "df['date'] = pd.to_datetime(df['date'])\n",
    "df.set_index(['country','date'],inplace=True)\n",
    "df.loc['GBR']"
   ]
  },
  {
   "cell_type": "code",
   "execution_count": null,
   "metadata": {},
   "outputs": [],
   "source": [
    "average_ox_idx = df['oxford_stringency'].groupby(level=0).mean()\n",
    "average_ox_idx"
   ]
  },
  {
   "cell_type": "code",
   "execution_count": null,
   "metadata": {},
   "outputs": [],
   "source": [
    "population = pd.read_csv('world_pop.csv',sep=';',thousands=',',header=None,index_col=0)\n",
    "population.columns=['pop']\n",
    "population.index.name='country'\n",
    "population"
   ]
  },
  {
   "cell_type": "code",
   "execution_count": null,
   "metadata": {},
   "outputs": [],
   "source": [
    "three_letter_abb = pd.read_csv('three_letter_country_abb.csv',sep=';',header=None,index_col=2)\n",
    "three_letter_abb = three_letter_abb[0]\n",
    "three_letter_abb.loc['GBR']"
   ]
  },
  {
   "cell_type": "code",
   "execution_count": null,
   "metadata": {},
   "outputs": [],
   "source": [
    "df = df.reset_index(level=1)"
   ]
  },
  {
   "cell_type": "code",
   "execution_count": null,
   "metadata": {},
   "outputs": [],
   "source": [
    "df.loc['GBR']"
   ]
  },
  {
   "cell_type": "code",
   "execution_count": null,
   "metadata": {},
   "outputs": [],
   "source": [
    "df = df.join(three_letter_abb)"
   ]
  },
  {
   "cell_type": "code",
   "execution_count": null,
   "metadata": {},
   "outputs": [],
   "source": [
    "df.rename(columns={0 : 'country'},inplace=True)"
   ]
  },
  {
   "cell_type": "code",
   "execution_count": null,
   "metadata": {
    "scrolled": false
   },
   "outputs": [],
   "source": [
    "df = df.join(average_ox_idx,lsuffix='_current',rsuffix='_mean')"
   ]
  },
  {
   "cell_type": "code",
   "execution_count": null,
   "metadata": {},
   "outputs": [],
   "source": [
    "df"
   ]
  },
  {
   "cell_type": "code",
   "execution_count": null,
   "metadata": {},
   "outputs": [],
   "source": [
    "foo = df.merge(population,left_on='country',right_on=population.index)\n",
    "foo['dead_per_M'] = foo['dead'] / (foo['pop'] / 1e6)\n",
    "foo"
   ]
  },
  {
   "cell_type": "code",
   "execution_count": null,
   "metadata": {},
   "outputs": [],
   "source": [
    "three_letter_abb.name='country'\n",
    "three_letter_abb.index.name='abb'\n",
    "three_letter_abb = pd.DataFrame(three_letter_abb)\n",
    "three_letter_abb.columns=['country']\n",
    "three_letter_abb.reset_index(inplace=True)\n"
   ]
  },
  {
   "cell_type": "code",
   "execution_count": null,
   "metadata": {},
   "outputs": [],
   "source": [
    "three_letter_abb"
   ]
  },
  {
   "cell_type": "code",
   "execution_count": null,
   "metadata": {},
   "outputs": [],
   "source": [
    "foo = foo.merge(three_letter_abb,left_on='country',right_on='country')\n",
    "foo"
   ]
  },
  {
   "cell_type": "code",
   "execution_count": null,
   "metadata": {},
   "outputs": [],
   "source": [
    "gbr = foo.loc[foo['abb'] == 'GBR']\n",
    "gbr"
   ]
  },
  {
   "cell_type": "code",
   "execution_count": null,
   "metadata": {},
   "outputs": [],
   "source": [
    "last_data_date = gbr['date'].iloc[-1]\n",
    "last_data_date"
   ]
  },
  {
   "cell_type": "code",
   "execution_count": null,
   "metadata": {
    "scrolled": false
   },
   "outputs": [],
   "source": [
    "last_days = foo.loc[foo['date'] == last_data_date]\n",
    "drop = ['San Marino','Andorra']\n",
    "\n",
    "mask = last_days['country'].isin(drop)\n",
    "last_days = last_days[~mask]\n",
    "\n",
    "#last_days = last_days.merge(three_letter_abb,left_on='country',right_on='country')\n",
    "\n",
    "last_days['conf_per_M'] = last_days['confirmed'] / (last_days['pop'] / 1e6)\n",
    "\n",
    "### MASK ###\n",
    "mask2 = last_days['dead_per_M'] > 10\n",
    "############\n",
    "\n",
    "last_days = last_days[mask2]\n",
    "last_days['dead_per_M_log'] = np.log10(last_days['dead_per_M'])\n",
    "\n",
    "last_days"
   ]
  },
  {
   "cell_type": "code",
   "execution_count": null,
   "metadata": {
    "scrolled": false
   },
   "outputs": [],
   "source": [
    "last_days.sort_values('oxford_stringency_mean',ascending=True).head(50)\n",
    "\n"
   ]
  },
  {
   "cell_type": "code",
   "execution_count": null,
   "metadata": {
    "scrolled": false
   },
   "outputs": [],
   "source": [
    "last_days.shape"
   ]
  },
  {
   "cell_type": "code",
   "execution_count": null,
   "metadata": {},
   "outputs": [],
   "source": []
  },
  {
   "cell_type": "code",
   "execution_count": null,
   "metadata": {},
   "outputs": [],
   "source": [
    "x = last_days['oxford_stringency_mean']\n",
    "\n",
    "y_param = 'dead_per_M'\n",
    "\n",
    "if y_param == 'dead_per_M':\n",
    "    beta_mean = 0\n",
    "    beta_std = 1\n",
    "    alpha_low = 0\n",
    "    alpha_high = 500\n",
    "    obs_sigma_high = 200\n",
    "    \n",
    "else:\n",
    "    beta_mean = 0\n",
    "    beta_std = 1000\n",
    "    alpha_low = -4000\n",
    "    alpha_high = 4000\n",
    "    obs_sigma_high = 10000\n",
    "\n",
    "alpha = pm.Uniform('alpha',alpha_low,alpha_high)\n",
    "#beta = pm.Uniform('beta',beta_low,beta_high)\n",
    "beta = pm.Normal('beta',beta_mean, 1 / beta_std **2)\n",
    "obs_sigma = pm.Uniform('obs_sigma',0,obs_sigma_high)\n",
    "\n",
    "@pm.deterministic\n",
    "def linreq(x=x,alpha=alpha,beta=beta):\n",
    "    return alpha + x * beta\n",
    "\n",
    "obs = pm.Normal('obs',mu = linreq,tau = 1 / obs_sigma ** 2,observed = True,value = last_days[y_param])\n",
    "\n",
    "model = pm.Model([alpha,beta,linreq,obs])\n",
    "\n",
    "map_ = pm.MAP(model)\n",
    "map_.fit()\n",
    "\n",
    "mcmc = pm.MCMC(model)\n",
    "\n",
    "sample = mcmc.sample(50000,20000,3)"
   ]
  },
  {
   "cell_type": "code",
   "execution_count": null,
   "metadata": {},
   "outputs": [],
   "source": [
    "beta_post = mcmc.trace('beta')[:]\n",
    "alpha_post = mcmc.trace('alpha')[:]\n",
    "obs_sigma_post = mcmc.trace('obs_sigma')[:]\n",
    "\n",
    "pmplot(beta_post,'beta_post')\n",
    "pmplot(alpha_post,'alpha_post')\n",
    "pmplot(obs_sigma_post,'obs_sigma_post')\n",
    "\n",
    "result = pd.DataFrame({'beta_post' : beta_post,\n",
    "                      'alpha_post' : alpha_post,\n",
    "                      'obs_sigma_post' : obs_sigma_post})\n",
    "\n",
    "result.describe()"
   ]
  },
  {
   "cell_type": "code",
   "execution_count": null,
   "metadata": {},
   "outputs": [],
   "source": [
    "beta_ci = np.percentile(result['beta_post'],[5.5,94.5])\n",
    "alpha_ci = np.percentile(result['alpha_post'],[5.5,94.5])"
   ]
  },
  {
   "cell_type": "code",
   "execution_count": null,
   "metadata": {},
   "outputs": [],
   "source": [
    "mean_req = np.array([x * result['beta_post'].mean() + result['alpha_post'].mean() for x in range(0,101)])\n",
    "\n",
    "slope,intercept,_,_,_ = sps.linregress(last_days['oxford_stringency_mean'],last_days[y_param])\n",
    "\n",
    "least_squares = np.array([x * slope + intercept for x in range(0,101)])"
   ]
  },
  {
   "cell_type": "code",
   "execution_count": null,
   "metadata": {},
   "outputs": [],
   "source": [
    "X = np.linspace(0,100,1000)\n",
    "rows = np.random.choice(result.index,replace=True,size=len(X))\n",
    "beta_samples = result['beta_post'][rows]\n",
    "alpha_samples = result['alpha_post'][rows]\n",
    "\n",
    "lines = np.array([X[i] * beta_samples + alpha_samples for i in range(len(X))])\n",
    "\n",
    "samples = np.array([pm.rnormal(X[i] * result.beta_post[rows] + result.alpha_post[rows],\n",
    "                                      1 / result.obs_sigma_post[rows] ** 2,size=len(X)) for i in range(len(X))])\n",
    "\n",
    "high,low = np.percentile(samples,[5.5,94.5],axis=1)\n",
    "\n",
    "\n"
   ]
  },
  {
   "cell_type": "code",
   "execution_count": null,
   "metadata": {},
   "outputs": [],
   "source": [
    "plt.figure(figsize=(18,12))\n",
    "plt.title('Bayesian Linear Regression : COVID-19'\\\n",
    "          '- Effect of Lockdowns on {} \\n'.format(y_param)+\\\n",
    "          'based on {} countries\\n'.format(len(last_days))+\\\n",
    "          'Assuming average lockdown index value {} - {}\\n'.format(start_date,end_date)+\\\n",
    "         'death/conf data as of {}'.format(end_date))\n",
    "\n",
    "plt.scatter(last_days['oxford_stringency_mean'],last_days[y_param],color='r')\n",
    "plt.ylabel(y_param)\n",
    "plt.xlabel('Oxford COVID-19 Government Response Tracker index\\nHale, Thomas, Sam Webster, Anna Petherick, Toby Phillips, and Beatriz Kira (2020)')\n",
    "\n",
    "plt.plot(range(0,101),mean_req,ls='dashed',color='k')\n",
    "plt.plot(range(0,101),least_squares,ls='dashed',color='crimson')\n",
    "\n",
    "plt.fill_between(X,high,low,color='c',alpha=0.2)\n",
    "\n",
    "countries_of_interest = ['SWE','GBR','BEL','ESP','ITA','PER','FRA',\n",
    "                         'USA','DNK','FIN','NOR','BRA','CHL','QAT','BHR',\n",
    "                        'HNT','GTM','NIC','JPN','ISL','ARG','NLD','DEU','ZAF','HND','IRQ']\n",
    "\n",
    "for i,p in enumerate(last_days['oxford_stringency_mean']):\n",
    "    #if last_days.iloc[i]['abb'] in countries_of_interest:\n",
    "    plt.text(last_days.iloc[i]['oxford_stringency_mean'],last_days.iloc[i][y_param],last_days.iloc[i]['abb'])\n",
    "\n",
    "plt.plot(X,lines[0,:],\n",
    "         color='orange',\n",
    "         alpha=0.03,\n",
    "         label=r'$\\beta$: {:.2f} 89% CI: [ {:.2f} {:.2f} ] $\\alpha$: {:.2f} CI: [ {:.2f} {:.2f} ]'.format(\n",
    "         result.beta_post.mean(),beta_ci[0],beta_ci[1],result.alpha_post.mean(),alpha_ci[0],alpha_ci[1]))\n",
    "\n",
    "_=plt.plot(X,lines,color='orange',alpha=0.03)\n",
    "\n",
    "plt.legend(loc='upper left')\n",
    "\n",
    "plt.savefig('lockdown_index_{}.jpg'.format(y_param),format='jpg',dpi=400)"
   ]
  },
  {
   "cell_type": "code",
   "execution_count": null,
   "metadata": {},
   "outputs": [],
   "source": [
    "foo.dropna(inplace=True)"
   ]
  },
  {
   "cell_type": "code",
   "execution_count": null,
   "metadata": {},
   "outputs": [],
   "source": [
    "countries = foo.groupby('country')\n",
    "some_countries = ['Sweden','Belgium','UK','South Africa','Germany','US',\n",
    "                  'Denmark','Austria','Italy','France','Argentina','Brazil','Chile','Peru']\n",
    "\n",
    "colors = ['black','grey','lightcoral','mistyrose','tan','gold','crimson','yellow',\n",
    "         'deepskyblue','royalblue','orangered','lime','aqua','darkmagenta']\n",
    "\n"
   ]
  },
  {
   "cell_type": "code",
   "execution_count": null,
   "metadata": {},
   "outputs": [],
   "source": []
  },
  {
   "cell_type": "code",
   "execution_count": null,
   "metadata": {
    "scrolled": false
   },
   "outputs": [],
   "source": [
    "from datetime import datetime\n",
    "\n",
    "weeklies = dict()\n",
    "\n",
    "fig,ax = plt.subplots(2,1,sharex=True,figsize=(18,12))\n",
    "\n",
    "\n",
    "for i,c in enumerate(some_countries):\n",
    "    country = (countries.get_group(c)).copy()\n",
    "    country.set_index('date',inplace=True)\n",
    "    country['dead_inc'] = country['dead'] - country['dead'].shift()\n",
    "    country['dead_inc_per_M'] = country['dead_inc'] / (country['pop'] / 1e6)\n",
    "    \n",
    "    resample_period = ['W-MON','W-TUE','W-WED','W-THU','W-FRI','W-SAT','W-SUN']\n",
    "    \n",
    "    #today = datetime.today().weekday()\n",
    "    last_data_day = last_data_date.weekday()\n",
    "\n",
    "    #yesterday = lambda i : resample_period[i % 7 -1] if i != 0 else resample_period[6]\n",
    "    period = resample_period[last_data_day]\n",
    "    \n",
    "    weekly = country.resample(period).agg({'dead_inc_per_M' : np.sum, 'dead_per_M' :np.sum,\n",
    "                                           'oxford_stringency_current' : np.mean})\n",
    "    \n",
    "    weeklies[c] = weekly\n",
    "        \n",
    "    ax[1].plot(weekly.index,weekly['dead_inc_per_M'],'o--',label=c,color=colors[i])\n",
    "    ax[0].plot(weekly.index,weekly['oxford_stringency_current'],'o--',label=c,color=colors[i])\n",
    " \n",
    "citation = '\\nHale, Thomas, Sam Webster, Anna Petherick, Toby Phillips, and Beatriz Kira (2020).\\nOxford COVID-19 Government Response Tracker, Blavatnik School of Government.\\nData use policy: Creative Commons Attribution CC BY standard.'\n",
    "ax[0].legend(loc='upper left')\n",
    "ax[0].set_title('Oxford Covid Government Response Tracker Index\\n' + citation)\n",
    "ax[0].set_ylabel('OXCGRT')\n",
    "#ax[0].set_yscale('log')\n",
    "ax[1].legend(loc='upper left')\n",
    "ax[1].set_title('Weekly deaths per M')\n",
    "ax[1].set_ylabel('Weekly deaths per M')\n",
    "#ax[1].set_yscale('log')\n",
    "plt.savefig('oxcgrt_country_plot.jpg',format='jpg',dpi=400)"
   ]
  },
  {
   "cell_type": "code",
   "execution_count": null,
   "metadata": {},
   "outputs": [],
   "source": [
    "steps = 100000\n",
    "burn = 40000\n",
    "thin = 3\n",
    "\n",
    "dist_size = (steps - burn) // thin\n",
    "\n",
    "def inference(x,y):\n",
    "    \n",
    "    beta_mean = 0\n",
    "    beta_std = 10\n",
    "    alpha_low = -500\n",
    "    alpha_high = 500\n",
    "    obs_sigma_high = 1000\n",
    "\n",
    "    alpha = pm.Uniform('alpha',alpha_low,alpha_high)\n",
    "    beta = pm.Normal('beta',beta_mean, 1 / beta_std **2)\n",
    "    obs_sigma = pm.Uniform('obs_sigma',0,obs_sigma_high)\n",
    "\n",
    "    @pm.deterministic\n",
    "    def linreq(x=x,alpha=alpha,beta=beta):\n",
    "        return alpha + x * beta\n",
    "\n",
    "    obs = pm.Normal('obs',mu = linreq,tau = 1 / obs_sigma ** 2,observed = True,value = y)\n",
    "\n",
    "    model = pm.Model([alpha,beta,linreq,obs])\n",
    "\n",
    "    map_ = pm.MAP(model)\n",
    "    map_.fit()\n",
    "\n",
    "    mcmc = pm.MCMC(model)\n",
    "\n",
    "    sample = mcmc.sample(steps,burn,thin)   \n",
    "    \n",
    "    beta_post = mcmc.trace('beta')[:]\n",
    "    alpha_post = mcmc.trace('alpha')[:]\n",
    "    obs_sigma_post = mcmc.trace('obs_sigma')[:]\n",
    "\n",
    "    pmplot(beta_post,'beta_post')\n",
    "    pmplot(alpha_post,'alpha_post')\n",
    "    pmplot(obs_sigma_post,'obs_sigma_post')\n",
    "\n",
    "    result = pd.DataFrame({'beta_post' : beta_post,\n",
    "                          'alpha_post' : alpha_post,\n",
    "                          'obs_sigma_post' : obs_sigma_post})\n",
    "\n",
    "    return result\n"
   ]
  },
  {
   "cell_type": "code",
   "execution_count": null,
   "metadata": {
    "scrolled": false
   },
   "outputs": [],
   "source": [
    "import scipy.stats as sps\n",
    "\n",
    "weeklies_df = pd.DataFrame()\n",
    "\n",
    "\n",
    "fig,axes = plt.subplots(7,2,sharex=True,figsize=(18,12))\n",
    "\n",
    "for i,k in enumerate(weeklies.keys()):\n",
    "        \n",
    "    weeklies[k]['country'] = k\n",
    "        \n",
    "    weeklies_df = pd.concat([weeklies_df,weeklies[k]])\n",
    "    \n",
    "    \n",
    "    axes[i % 7,i % 2].plot(weeklies[k].index,weeklies[k]['dead_inc_per_M'],'o--',label='weekly deaths per M',\n",
    "                           color='r')\n",
    "    axes[i % 7,i % 2].plot(weeklies[k].index,weeklies[k]['oxford_stringency_current'],'o--',label='weekly deaths per M',\n",
    "                           color='orange')\n",
    "    axes[i % 7,i % 2].tick_params('x',rotation=90)\n",
    "    axes[i % 7,i % 2].set_title('{}'.format(k))\n",
    "    axes[i % 7, i % 2].set_ylabel('deaths per M\\nOxCGRT')\n",
    "    \n",
    "plt.savefig('oxcgrt_14.jpg',format='jpg',dpi=400)"
   ]
  },
  {
   "cell_type": "code",
   "execution_count": null,
   "metadata": {
    "scrolled": false
   },
   "outputs": [],
   "source": [
    "results = dict()\n",
    "\n",
    "for i,k in enumerate(weeklies.keys()):\n",
    "\n",
    "    results[k] = inference(weeklies[k]['oxford_stringency_current'],weeklies[k]['dead_inc_per_M'])\n",
    "\n"
   ]
  },
  {
   "cell_type": "code",
   "execution_count": null,
   "metadata": {},
   "outputs": [],
   "source": [
    "\n",
    "\n",
    "print (results['Argentina'].describe())\n",
    "results['Sweden'].describe()\n"
   ]
  },
  {
   "cell_type": "code",
   "execution_count": null,
   "metadata": {
    "scrolled": false
   },
   "outputs": [],
   "source": [
    "fig,axes = plt.subplots(7,2,figsize=(18,12))\n",
    "\n",
    "nr_samples = 1000\n",
    "\n",
    "for i,k in enumerate(weeklies.keys()):\n",
    "\n",
    "    axes[i % 7,i %2].scatter(weeklies[k]['oxford_stringency_current'],weeklies[k]['dead_inc_per_M'],color='r')\n",
    "\n",
    "    slope,intercept,_,_,_ = sps.linregress(weeklies[k]['oxford_stringency_current'],\n",
    "                                           weeklies[k]['dead_inc_per_M'])\n",
    "\n",
    "    X = np.linspace(weeklies[k]['oxford_stringency_current'].min(),\n",
    "                    weeklies[k]['oxford_stringency_current'].max(),nr_samples)\n",
    "        \n",
    "    #X = np.linspace(0,100,nr_samples) # for computing samples, this must concur with nr of sample rows\n",
    "    \n",
    "    alpha_mean = results[k].alpha_post.mean()\n",
    "    beta_mean = results[k].beta_post.mean()\n",
    "    \n",
    "    axes[i % 7, i %2].plot(X,X*beta_mean + alpha_mean,'--',color='k')\n",
    "    \n",
    "    rows = np.random.choice(range(len(weeklies[k].index)),replace=True,size=nr_samples)\n",
    "    \n",
    "    lines = [X[i] * results[k].iloc[rows].beta_post + results[k].iloc[rows].alpha_post for i in range(len(X))]\n",
    "    \n",
    "    samples = np.array([pm.rnormal(X[i] * results[k].iloc[rows].beta_post + results[k].iloc[rows].alpha_post,\n",
    "                                      1 / results[k].iloc[rows].obs_sigma_post ** 2,size=len(X)) for i in range(len(X))])\n",
    "\n",
    "    high,low = np.percentile(samples,[5.5,94.5],axis=1)\n",
    "    \n",
    "    axes[i % 7, i % 2].plot(X,lines,color='orange',alpha=0.01)\n",
    "    \n",
    "    least_squares = X * slope + intercept\n",
    "\n",
    "    axes[i % 7, i % 2].plot(X,least_squares,'--',color='r')\n",
    "    \n",
    "    axes[i % 7, i % 2].fill_between(X,high,low,color='c',alpha=0.2)\n",
    "\n",
    "    \n",
    "    axes[i % 7, i % 2].set_title(k)\n",
    "    axes[i % 7, i % 2].set_ylabel('weekly\\ndead_per_M')\n",
    "    axes[i % 7, i % 2].set_xlabel('OxCGRT')\n",
    "    #axes[i % 7,i % 2].set_ylim([0,150])\n",
    "    \n",
    "plt.tight_layout()\n",
    "plt.savefig('OxCGRT_regression_14.jpg',format='jpg',dpi=400)"
   ]
  },
  {
   "cell_type": "code",
   "execution_count": null,
   "metadata": {},
   "outputs": [],
   "source": [
    "swe_weekly = weeklies_df.loc[weeklies_df['country'] == 'Sweden']\n",
    "bel_weekly = weeklies_df.loc[weeklies_df['country'] == 'Belgium']\n",
    "arg_weekly = weeklies_df.loc[weeklies_df['country'] == 'Argentina']"
   ]
  },
  {
   "cell_type": "code",
   "execution_count": null,
   "metadata": {},
   "outputs": [],
   "source": [
    "swe_weekly"
   ]
  },
  {
   "cell_type": "code",
   "execution_count": null,
   "metadata": {},
   "outputs": [],
   "source": []
  },
  {
   "cell_type": "code",
   "execution_count": null,
   "metadata": {},
   "outputs": [],
   "source": [
    "\n",
    "arg_weekly.plot(y=['oxford_stringency_current','dead_inc_per_M'],style='o--')"
   ]
  },
  {
   "cell_type": "code",
   "execution_count": null,
   "metadata": {
    "scrolled": false
   },
   "outputs": [],
   "source": [
    "all_countries = pd.DataFrame()\n",
    "\n",
    "for c in countries.groups:\n",
    "    country = countries.get_group(c)\n",
    "    inc = country['dead'] - country['dead'].shift()\n",
    "    inc.name='inc'\n",
    "    country = pd.concat([country,inc],axis=1)\n",
    "    \n",
    "    country = country.replace(np.inf,np.nan)\n",
    "    country = country.dropna()\n",
    "    all_countries = pd.concat([all_countries,country],axis=0)\n",
    "    \n"
   ]
  },
  {
   "cell_type": "code",
   "execution_count": null,
   "metadata": {},
   "outputs": [],
   "source": [
    "all_countries.head(50)\n"
   ]
  },
  {
   "cell_type": "code",
   "execution_count": null,
   "metadata": {},
   "outputs": [],
   "source": [
    "select_countries = ['Sweden','UK','Spain','Italy','UK','Belgium','France','US','Germany']\n",
    "select_countries = ['Sweden','UK','Belgium']\n",
    "\n",
    "mask = all_countries['country'].isin(select_countries)\n",
    "\n",
    "selected_countries = (all_countries[mask]).copy()\n",
    "selected_countries"
   ]
  },
  {
   "cell_type": "code",
   "execution_count": null,
   "metadata": {},
   "outputs": [],
   "source": [
    "unique_country_abbs = selected_countries['abb'].unique()\n",
    "print (unique_country_abbs)\n",
    "country_idx = dict(zip(unique_country_abbs,range(1,len(unique_country_abbs) + 1)))\n",
    "country_idx    "
   ]
  },
  {
   "cell_type": "code",
   "execution_count": null,
   "metadata": {},
   "outputs": [],
   "source": [
    "unique_days = selected_countries['date'].unique()\n",
    "day_idx = dict(zip(pd.to_datetime(unique_days),range(1,len(unique_days) + 1)))\n"
   ]
  },
  {
   "cell_type": "code",
   "execution_count": null,
   "metadata": {},
   "outputs": [],
   "source": [
    "def create_country_index(abb):\n",
    "    return country_idx[abb]\n",
    "\n",
    "def create_day_index(day):\n",
    "    return day_idx[day]\n",
    "\n",
    "selected_countries['country_idx'] = selected_countries['abb'].apply(create_country_index)\n",
    "selected_countries['day_idx'] = selected_countries['date'].apply(create_day_index)\n",
    "selected_countries['ox_idx'] = selected_countries['oxford_stringency_current'].astype(int)\n",
    "selected_countries['inc_per_M'] = selected_countries['inc'] / (selected_countries['pop'] / 1e6)\n",
    "selected_countries"
   ]
  },
  {
   "cell_type": "code",
   "execution_count": null,
   "metadata": {
    "scrolled": false
   },
   "outputs": [],
   "source": [
    "selected_countries.corr()"
   ]
  },
  {
   "cell_type": "code",
   "execution_count": null,
   "metadata": {},
   "outputs": [],
   "source": [
    "def logit_pure(x):\n",
    "    return (np.exp(x)) / (1 + np.exp(x))\n",
    "\n",
    "def logistic_pure(p):\n",
    "    return np.log(p / (1 - p))"
   ]
  },
  {
   "cell_type": "code",
   "execution_count": null,
   "metadata": {
    "scrolled": false
   },
   "outputs": [],
   "source": [
    "country_idx = selected_countries['country_idx']\n",
    "day_idx = selected_countries['day_idx']\n",
    "ox_idx = selected_countries['ox_idx']\n",
    "\n",
    "x = selected_countries['oxford_stringency_mean']\n",
    "\n",
    "r_alpha = pm.rnormal(0,1/1**2,10)\n",
    "r_beta = pm.rnormal(0,1/1**2,10)\n",
    "\n",
    "#[ logit_pure(r_alpha + r_beta * x) for x in selected_countries['oxford_stringency_current']]"
   ]
  },
  {
   "cell_type": "code",
   "execution_count": null,
   "metadata": {
    "scrolled": false
   },
   "outputs": [],
   "source": [
    "#PYMC\n",
    "import pymc as pm\n",
    "from pymc.Matplot import plot as pmplot\n",
    "\n",
    "\n",
    "x = np.log(selected_countries['oxford_stringency_current'])\n",
    "\n",
    "alpha = pm.Normal('alpha',0, 1 / 1 ** 2,size=len(unique_country_abbs))\n",
    "\n",
    "beta = pm.Normal('beta',0, 1/ 1 ** 2,size=len(unique_days))\n",
    "\n",
    "@pm.deterministic\n",
    "def logit(country_idx=country_idx-1,x=x,day_idx=day_idx-1,alpha=alpha,beta=beta):\n",
    "        \n",
    "    return np.exp(alpha[country_idx] + beta[day_idx]*x) / (\n",
    "        1 + np.exp(alpha[country_idx] + beta[day_idx]*x) )\n",
    "\n",
    "\n",
    "lkh = pm.Binomial('lkh',n=selected_countries['pop'],p=logit,observed=True,\n",
    "                      value=selected_countries['inc'])\n",
    "\n",
    "model = pm.Model([alpha,beta,logit,lkh])\n",
    "\n",
    "_map = pm.MAP(model)\n",
    "_map.fit()\n",
    "\n",
    "mcmc = pm.MCMC(model)\n",
    "sample = mcmc.sample(50000,20000,3)"
   ]
  },
  {
   "cell_type": "code",
   "execution_count": null,
   "metadata": {
    "scrolled": false
   },
   "outputs": [],
   "source": [
    "alpha = mcmc.trace('alpha')[:]\n",
    "beta = mcmc.trace('beta')[:]\n",
    "\n",
    "pmplot(alpha,'alpha')\n",
    "#pmplot(beta,'beta')\n",
    "\n",
    "result_alpha = pd.DataFrame(alpha,columns=unique_country_abbs)\n",
    "result_beta = pd.DataFrame(beta)\n",
    "result_beta.columns.name = 'day nr'\n",
    "\n",
    "result_alpha.describe()"
   ]
  },
  {
   "cell_type": "code",
   "execution_count": null,
   "metadata": {},
   "outputs": [],
   "source": [
    "result_beta.describe()"
   ]
  },
  {
   "cell_type": "code",
   "execution_count": null,
   "metadata": {},
   "outputs": [],
   "source": [
    "swe_p = np.zeros((10000,146))\n",
    "gbr_p = np.zeros((10000,146))\n",
    "bel_p = np.zeros((10000,146))\n",
    "\n",
    "\n",
    "\n",
    "for c in range(len(result_beta.columns)):\n",
    "    \n",
    "    swe_p[:,c] = logit_pure(result_alpha['SWE'].add(result_beta[c]))\n",
    "    gbr_p[:,c] = logit_pure(result_alpha['GBR'].add(result_beta[c]))\n",
    "    bel_p[:,c] = logit_pure(result_alpha['BEL'].add(result_beta[c]))\n",
    "    \n",
    "swe_p = pd.DataFrame(swe_p)\n",
    "gbr_p = pd.DataFrame(gbr_p)\n",
    "bel_p = pd.DataFrame(bel_p)\n",
    "\n",
    "swe_p.describe()"
   ]
  },
  {
   "cell_type": "code",
   "execution_count": null,
   "metadata": {},
   "outputs": [],
   "source": [
    "ax = swe_p.describe().loc['mean'].plot(color='yellow',figsize=(18,12))\n",
    "gbr_p.describe().loc['mean'].plot(ax=ax,color='b')\n",
    "bel_p.describe().loc['mean'].plot(ax=ax,color='r')"
   ]
  },
  {
   "cell_type": "code",
   "execution_count": null,
   "metadata": {},
   "outputs": [],
   "source": []
  }
 ],
 "metadata": {
  "kernelspec": {
   "display_name": "Python 3",
   "language": "python",
   "name": "python3"
  },
  "language_info": {
   "codemirror_mode": {
    "name": "ipython",
    "version": 3
   },
   "file_extension": ".py",
   "mimetype": "text/x-python",
   "name": "python",
   "nbconvert_exporter": "python",
   "pygments_lexer": "ipython3",
   "version": "3.6.9"
  }
 },
 "nbformat": 4,
 "nbformat_minor": 4
}
