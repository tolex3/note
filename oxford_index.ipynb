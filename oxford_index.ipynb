{
 "cells": [
  {
   "cell_type": "code",
   "execution_count": null,
   "metadata": {},
   "outputs": [],
   "source": [
    "import numpy as np\n",
    "import matplotlib.pyplot as plt\n",
    "import seaborn as sns\n",
    "import pandas as pd\n",
    "import pymc as pm\n",
    "import requests\n",
    "import scipy.stats as sps\n",
    "\n",
    "from pymc.Matplot import plot as pmplot\n",
    "\n",
    "sns.set()"
   ]
  },
  {
   "cell_type": "code",
   "execution_count": null,
   "metadata": {
    "scrolled": false
   },
   "outputs": [],
   "source": [
    "start_date = '2020-04-01'\n",
    "end_date = '2020-07-24'\n",
    "\n",
    "url = 'https://covidtrackerapi.bsg.ox.ac.uk/api/v2/stringency/date-range/{}/{}'.format(start_date,end_date)\n",
    "\n",
    "r = requests.get(url,timeout=5.0)\n",
    "r.status_code"
   ]
  },
  {
   "cell_type": "code",
   "execution_count": null,
   "metadata": {},
   "outputs": [],
   "source": []
  },
  {
   "cell_type": "code",
   "execution_count": null,
   "metadata": {},
   "outputs": [],
   "source": [
    "keys = pd.date_range(start_date,end_date)\n",
    "keys"
   ]
  },
  {
   "cell_type": "code",
   "execution_count": null,
   "metadata": {
    "scrolled": false
   },
   "outputs": [],
   "source": [
    "json = r.json()\n",
    "data = json['data']\n",
    "countries = json['countries']"
   ]
  },
  {
   "cell_type": "code",
   "execution_count": null,
   "metadata": {
    "scrolled": false
   },
   "outputs": [],
   "source": [
    "data_list = []\n",
    "\n",
    "for k in keys:\n",
    "    date = k.date().strftime('%Y-%m-%d')\n",
    "    for c in countries:\n",
    "        try:\n",
    "            data_list.append((date,c,data[date][c]['confirmed'],data[date][c]['deaths'],data[date][c]['stringency']))\n",
    "        except KeyError:\n",
    "            print ('cant find',c)\n"
   ]
  },
  {
   "cell_type": "code",
   "execution_count": null,
   "metadata": {
    "scrolled": false
   },
   "outputs": [],
   "source": [
    "df = pd.DataFrame(data_list,columns=['date','country','confirmed','dead','oxford_stringency'])\n",
    "df['date'] = pd.to_datetime(df['date'])\n",
    "df.set_index(['country','date'],inplace=True)\n",
    "df.loc['SWE']"
   ]
  },
  {
   "cell_type": "code",
   "execution_count": null,
   "metadata": {},
   "outputs": [],
   "source": [
    "average_ox_idx = df['oxford_stringency'].groupby(level=0).mean()\n",
    "average_ox_idx"
   ]
  },
  {
   "cell_type": "code",
   "execution_count": null,
   "metadata": {},
   "outputs": [],
   "source": [
    "population = pd.read_csv('world_pop.csv',sep=';',thousands=',',header=None,index_col=0)\n",
    "population.columns=['pop']\n",
    "population.index.name='country'\n",
    "population"
   ]
  },
  {
   "cell_type": "code",
   "execution_count": null,
   "metadata": {},
   "outputs": [],
   "source": [
    "three_letter_abb = pd.read_csv('three_letter_country_abb.csv',sep=';',header=None,index_col=2)\n",
    "three_letter_abb = three_letter_abb[0]\n",
    "three_letter_abb"
   ]
  },
  {
   "cell_type": "code",
   "execution_count": null,
   "metadata": {},
   "outputs": [],
   "source": [
    "df = df.reset_index(level=1)"
   ]
  },
  {
   "cell_type": "code",
   "execution_count": null,
   "metadata": {},
   "outputs": [],
   "source": [
    "df.loc['SWE']"
   ]
  },
  {
   "cell_type": "code",
   "execution_count": null,
   "metadata": {},
   "outputs": [],
   "source": [
    "df = df.join(three_letter_abb)"
   ]
  },
  {
   "cell_type": "code",
   "execution_count": null,
   "metadata": {},
   "outputs": [],
   "source": [
    "df.rename(columns={0 : 'country'},inplace=True)"
   ]
  },
  {
   "cell_type": "code",
   "execution_count": null,
   "metadata": {
    "scrolled": false
   },
   "outputs": [],
   "source": [
    "df = df.join(average_ox_idx,lsuffix='_current',rsuffix='_mean')"
   ]
  },
  {
   "cell_type": "code",
   "execution_count": null,
   "metadata": {},
   "outputs": [],
   "source": [
    "df"
   ]
  },
  {
   "cell_type": "code",
   "execution_count": null,
   "metadata": {},
   "outputs": [],
   "source": [
    "foo = df.merge(population,left_on='country',right_on=population.index)\n",
    "foo['dead_per_M'] = foo['dead'] / (foo['pop'] / 1e6)\n",
    "foo"
   ]
  },
  {
   "cell_type": "code",
   "execution_count": null,
   "metadata": {},
   "outputs": [],
   "source": [
    "three_letter_abb.name='country'\n",
    "three_letter_abb.index.name='abb'\n",
    "three_letter_abb = pd.DataFrame(three_letter_abb)\n",
    "three_letter_abb.columns=['country']\n",
    "three_letter_abb.reset_index(inplace=True)\n",
    "three_letter_abb"
   ]
  },
  {
   "cell_type": "code",
   "execution_count": null,
   "metadata": {},
   "outputs": [],
   "source": [
    "last_days = foo.loc[foo['date'] == end_date]\n",
    "drop = ['San Marino','Andorra']\n",
    "\n",
    "mask = last_days['country'].isin(drop)\n",
    "last_days = last_days[~mask]\n",
    "\n",
    "last_days = last_days.merge(three_letter_abb,left_on='country',right_on='country')\n",
    "\n",
    "last_days['conf_per_M'] = last_days['confirmed'] / (last_days['pop'] / 1e6)\n",
    "\n",
    "mask2 = last_days['dead_per_M'] > 40\n",
    "last_days = last_days[mask2]\n",
    "last_days"
   ]
  },
  {
   "cell_type": "code",
   "execution_count": null,
   "metadata": {},
   "outputs": [],
   "source": [
    "last_days.sort_values('oxford_stringency_mean',ascending=True).head(50)\n",
    "\n"
   ]
  },
  {
   "cell_type": "code",
   "execution_count": null,
   "metadata": {},
   "outputs": [],
   "source": [
    "x = last_days['oxford_stringency_mean']\n",
    "\n",
    "y_param = 'dead_per_M'\n",
    "\n",
    "if y_param == 'dead_per_M':\n",
    "    beta_mean = 0\n",
    "    beta_std = 10\n",
    "    alpha_low = 100\n",
    "    alpha_high = 300\n",
    "    obs_sigma_high = 500\n",
    "    \n",
    "else:\n",
    "    beta_mean = 0\n",
    "    beta_std = 1000\n",
    "    alpha_low = -4000\n",
    "    alpha_high = 4000\n",
    "    obs_sigma_high = 10000\n",
    "\n",
    "alpha = pm.Uniform('alpha',alpha_low,alpha_high)\n",
    "#beta = pm.Uniform('beta',beta_low,beta_high)\n",
    "beta = pm.Normal('beta',beta_mean, 1 / beta_std **2)\n",
    "obs_sigma = pm.Uniform('obs_sigma',0,obs_sigma_high)\n",
    "\n",
    "@pm.deterministic\n",
    "def linreq(x=x,alpha=alpha,beta=beta):\n",
    "    return alpha + x * beta\n",
    "\n",
    "obs = pm.Normal('obs',mu = linreq,tau = 1 / obs_sigma ** 2,observed = True,value = last_days[y_param])\n",
    "\n",
    "model = pm.Model([alpha,beta,linreq,obs])\n",
    "\n",
    "map_ = pm.MAP(model)\n",
    "map_.fit()\n",
    "\n",
    "mcmc = pm.MCMC(model)\n",
    "\n",
    "sample = mcmc.sample(50000,20000,3)"
   ]
  },
  {
   "cell_type": "code",
   "execution_count": null,
   "metadata": {
    "scrolled": false
   },
   "outputs": [],
   "source": [
    "beta_post = mcmc.trace('beta')[:]\n",
    "alpha_post = mcmc.trace('alpha')[:]\n",
    "obs_sigma_post = mcmc.trace('obs_sigma')[:]\n",
    "\n",
    "pmplot(beta_post,'beta_post')\n",
    "pmplot(alpha_post,'alpha_post')\n",
    "pmplot(obs_sigma_post,'obs_sigma_post')\n",
    "\n",
    "result = pd.DataFrame({'beta_post' : beta_post,\n",
    "                      'alpha_post' : alpha_post,\n",
    "                      'obs_sigma_post' : obs_sigma_post})\n",
    "\n",
    "result.describe()"
   ]
  },
  {
   "cell_type": "code",
   "execution_count": null,
   "metadata": {},
   "outputs": [],
   "source": [
    "beta_ci = np.percentile(result['beta_post'],[5.5,94.5])\n",
    "alpha_ci = np.percentile(result['alpha_post'],[5.5,94.5])"
   ]
  },
  {
   "cell_type": "code",
   "execution_count": null,
   "metadata": {},
   "outputs": [],
   "source": [
    "mean_req = np.array([x * result['beta_post'].mean() + result['alpha_post'].mean() for x in range(0,101)])\n",
    "\n",
    "slope,intercept,_,_,_ = sps.linregress(last_days['oxford_stringency_mean'],last_days[y_param])\n",
    "\n",
    "least_squares = np.array([x * slope + intercept for x in range(0,101)])"
   ]
  },
  {
   "cell_type": "code",
   "execution_count": null,
   "metadata": {},
   "outputs": [],
   "source": [
    "X = np.linspace(0,100,1000)\n",
    "rows = np.random.choice(result.index,replace=True,size=len(X))\n",
    "beta_samples = result['beta_post'][rows]\n",
    "alpha_samples = result['alpha_post'][rows]\n",
    "\n",
    "lines = np.array([X[i] * beta_samples + alpha_samples for i in range(len(X))])\n",
    "\n",
    "samples = np.array([pm.rnormal(X[i] * result.beta_post[rows] + result.alpha_post[rows],\n",
    "                                      1 / result.obs_sigma_post[rows] ** 2,size=len(X)) for i in range(len(X))])\n",
    "\n",
    "high,low = np.percentile(samples,[5.5,94.5],axis=1)\n",
    "\n",
    "\n"
   ]
  },
  {
   "cell_type": "code",
   "execution_count": null,
   "metadata": {
    "scrolled": false
   },
   "outputs": [],
   "source": [
    "plt.figure(figsize=(18,12))\n",
    "plt.title('Bayesian Linear Regression : COVID-19'\\\n",
    "          '- Effect of Lockdowns on {} \\n'.format(y_param)+\\\n",
    "          'based on {} countries\\n'.format(len(last_days))+\\\n",
    "          'Assuming average lockdown index value April 1st-July 24th\\n'\\\n",
    "         'death/conf data as of {}'.format(end_date))\n",
    "\n",
    "plt.scatter(last_days['oxford_stringency_mean'],last_days[y_param],color='r')\n",
    "plt.ylabel(y_param)\n",
    "plt.xlabel('Oxford COVID-19 Government Response Tracker index\\nHale, Thomas, Sam Webster, Anna Petherick, Toby Phillips, and Beatriz Kira (2020)')\n",
    "\n",
    "plt.plot(range(0,101),mean_req,ls='dashed',color='k')\n",
    "plt.plot(range(0,101),least_squares,ls='dashed',color='crimson')\n",
    "\n",
    "plt.fill_between(X,high,low,color='c',alpha=0.2)\n",
    "\n",
    "countries_of_interest = ['SWE','GBR','BEL','ESP','ITA','PER','FRA',\n",
    "                         'USA','DNK','FIN','NOR','BRA','CHL','QAT','BHR',\n",
    "                        'HNT','GTM','NIC','JPN','ISL','ARG','NLD','DEU','ZAF','HND','IRQ']\n",
    "\n",
    "for i,p in enumerate(last_days['oxford_stringency_mean']):\n",
    "    #if last_days.iloc[i]['abb'] in countries_of_interest:\n",
    "    plt.text(last_days.iloc[i]['oxford_stringency_mean'],last_days.iloc[i][y_param],last_days.iloc[i]['abb'])\n",
    "\n",
    "plt.plot(X,lines[0,:],\n",
    "         color='orange',\n",
    "         alpha=0.03,\n",
    "         label=r'$\\beta$: {:.2f} 89% CI: [ {:.2f} {:.2f} ] $\\alpha$: {:.2f} CI: [ {:.2f} {:.2f} ]'.format(\n",
    "         result.beta_post.mean(),beta_ci[0],beta_ci[1],result.alpha_post.mean(),alpha_ci[0],alpha_ci[1]))\n",
    "\n",
    "_=plt.plot(X,lines,color='orange',alpha=0.03)\n",
    "\n",
    "plt.legend(loc='upper left')\n",
    "\n",
    "plt.savefig('lockdown_index_{}.jpg'.format(y_param),format='jpg')"
   ]
  },
  {
   "cell_type": "code",
   "execution_count": null,
   "metadata": {},
   "outputs": [],
   "source": [
    "last_days.sort_values('oxford_stringency_mean',ascending=False)\n"
   ]
  },
  {
   "cell_type": "code",
   "execution_count": null,
   "metadata": {},
   "outputs": [],
   "source": []
  }
 ],
 "metadata": {
  "kernelspec": {
   "display_name": "Python 3",
   "language": "python",
   "name": "python3"
  },
  "language_info": {
   "codemirror_mode": {
    "name": "ipython",
    "version": 3
   },
   "file_extension": ".py",
   "mimetype": "text/x-python",
   "name": "python",
   "nbconvert_exporter": "python",
   "pygments_lexer": "ipython3",
   "version": "3.6.9"
  }
 },
 "nbformat": 4,
 "nbformat_minor": 4
}
