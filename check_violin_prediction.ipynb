{
 "cells": [
  {
   "cell_type": "code",
   "execution_count": null,
   "metadata": {},
   "outputs": [],
   "source": [
    "import numpy as np\n",
    "import matplotlib.pyplot as plt\n",
    "import seaborn as sns\n",
    "import pandas as pd\n",
    "import pymc as pm\n",
    "from pymc.Matplot import plot as pmplot\n",
    "\n",
    "\n",
    "sns.set()\n",
    "\n"
   ]
  },
  {
   "cell_type": "code",
   "execution_count": null,
   "metadata": {},
   "outputs": [],
   "source": [
    "country_name = 'Italy'\n",
    "start_date = '2020-04-12'\n",
    "\n",
    "forecast_df = pd.read_pickle('dead_forecast_{}_starting_{}.pkl'.format(country_name.replace(' ','_'),start_date))\n",
    "forecast_df"
   ]
  },
  {
   "cell_type": "code",
   "execution_count": null,
   "metadata": {},
   "outputs": [],
   "source": [
    "dick = pd.read_pickle('country_data.pkl')\n",
    "US = pd.read_pickle('us_state_dict.pkl')\n",
    "ny = US['New York']\n",
    "ny = ny[['confirmed','deceased','recovered','inc','factor','dead_inc','dead_factor']]\n",
    "dick['New York'] = ny\n",
    "country = dick[country_name]\n",
    "day_before = pd.to_datetime(start_date) - pd.Timedelta(days=1)\n",
    "country = country.loc[day_before :]\n",
    "\n",
    "\n",
    "country"
   ]
  },
  {
   "cell_type": "code",
   "execution_count": null,
   "metadata": {},
   "outputs": [],
   "source": [
    "means = forecast_df.mean(axis=0)\n",
    "CI_89 = np.percentile(forecast_df,[5.5,94.5],axis=0)\n",
    "CI_89_low = CI_89[0,:]\n",
    "CI_89_high = CI_89[1,:]\n"
   ]
  },
  {
   "cell_type": "code",
   "execution_count": null,
   "metadata": {},
   "outputs": [],
   "source": [
    "plt.figure(figsize=(18,12))\n",
    "plt.title('Corona prediction done at {} on future number of daily deaths for {}'.format(\n",
    "    start_date,country_name.upper()))\n",
    "sns.violinplot(data=forecast_df,palette=['cyan'])\n",
    "plt.scatter(range(len(country)), country['dead_inc'],color='crimson',s=100,label='actual data')\n",
    "plt.xlabel('day after {} when prediction was done'.format(start_date))\n",
    "plt.ylabel('predicted number of daily deaths')\n",
    "plt.legend(loc='upper right')"
   ]
  },
  {
   "cell_type": "code",
   "execution_count": null,
   "metadata": {},
   "outputs": [],
   "source": [
    "plt.figure(figsize=(18,12))\n",
    "nr_points = len(country)\n",
    "print (country['dead_inc'])\n",
    "print (range(len(country)))\n",
    "plt.errorbar(range(len(forecast_df.columns)),means,np.array((np.abs(means - CI_89_low),np.abs(means - CI_89_high))),fmt='o')\n",
    "plt.scatter(range(len(country)), country['dead_inc'],color='r',s=100)"
   ]
  }
 ],
 "metadata": {
  "kernelspec": {
   "display_name": "Python 3",
   "language": "python",
   "name": "python3"
  },
  "language_info": {
   "codemirror_mode": {
    "name": "ipython",
    "version": 3
   },
   "file_extension": ".py",
   "mimetype": "text/x-python",
   "name": "python",
   "nbconvert_exporter": "python",
   "pygments_lexer": "ipython3",
   "version": "3.6.9"
  }
 },
 "nbformat": 4,
 "nbformat_minor": 4
}
