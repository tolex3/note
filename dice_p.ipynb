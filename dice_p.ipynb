{
 "cells": [
  {
   "cell_type": "code",
   "execution_count": null,
   "metadata": {},
   "outputs": [],
   "source": [
    "import scipy.stats as sps\n",
    "import numpy as np\n",
    "import matplotlib.pyplot as plt\n",
    "import seaborn as sns\n",
    "\n",
    "sns.set()"
   ]
  },
  {
   "cell_type": "code",
   "execution_count": null,
   "metadata": {},
   "outputs": [],
   "source": [
    "n=2 # number of trials\n",
    "p = 1/6 # probability for success (dice==1/6)\n",
    "\n",
    "x = range(n+1) # number of successful outcomes, 0..n\n",
    "\n",
    "p_dist = sps.binom.pmf(x,n,p)\n",
    "p_cum = sps.binom.cdf(x,n,p)\n"
   ]
  },
  {
   "cell_type": "code",
   "execution_count": null,
   "metadata": {},
   "outputs": [],
   "source": [
    "# nr of ways to get exactly 1 six : 10 => p = 10/36\n",
    "# number of complete successful paths in garden of forking data = 10\n",
    "\n",
    "# p(!6) * p(6) + p(6) * p(!6)\n",
    "# 5/6 * 1/6 + 1/6 + 5/6 == (5/6 + 1/6) * 2\n",
    "\n",
    "# ways\n",
    "print (10/36)\n",
    "\n",
    "# analytic\n",
    "# first dice not 6 & second dice 6 | first dice 6 & second dice not 6\n",
    "print (5/6 * 1/6 + 1/6 * 5/6)"
   ]
  },
  {
   "cell_type": "code",
   "execution_count": null,
   "metadata": {},
   "outputs": [],
   "source": [
    "#nr of ways to get 1 or 2 sixes : 11 => p = 11/36\n",
    "print (11/36)\n",
    "# adding p(1) and p(2) gives p for at least 1\n",
    "print (p_dist[1] + p_dist[2])\n",
    "\n",
    "# p(!6) * p(6) + p(6) * p(!6) + p(6) * p(6)\n",
    "# first dice not six & second dice 6 | first dice 6 & second dice not six | both dice 6\n",
    "print ((5/6 * 1/6) + (1/6 * 5/6) + 1/6*1/6)"
   ]
  },
  {
   "cell_type": "code",
   "execution_count": null,
   "metadata": {},
   "outputs": [],
   "source": [
    "plt.figure(figsize=(18,12))\n",
    "ax = plt.gca()\n",
    "\n",
    "ax.set_title('Probability of x successes in {} trials with p={:.2f}'.format(n,p))\n",
    "\n",
    "ax.plot(x,p_dist,'o--')\n",
    "ax.set_xlabel('successes')\n",
    "ax.set_ylabel('probability')\n",
    "_= ax.set_xticks(range(n+1))\n",
    "\n",
    "ax2 = plt.twinx()\n",
    "\n",
    "ax2.plot(x,p_cum,'o--',color='orange')\n"
   ]
  },
  {
   "cell_type": "code",
   "execution_count": null,
   "metadata": {},
   "outputs": [],
   "source": [
    "# russian roulette\n",
    "# probability to survive n rounds\n",
    "\n",
    "n=10\n",
    "p = 1/6\n",
    "\n",
    "x = np.arange(0,n+1)\n",
    "prob = sps.binom.pmf(x,n=n,p=p)\n",
    "\n",
    "plt.figure(figsize=(18,12))\n",
    "ax = plt.gca()\n",
    "ax2 = plt.twinx()\n",
    "\n",
    "ax.plot(x,prob,'o--',color='orange',label='p(k success)')\n",
    "_ = ax.set_xticks(range(0,n+1))\n",
    "\n",
    "ax.set_xlabel('k')\n",
    "ax.set_ylabel('probability')\n",
    "ax.legend(loc='upper left')\n",
    "\n",
    "survival_p = sps.binom.sf(x,n,p) # probability to survive k shots\n",
    "survival_p2 = 1 - np.cumsum(prob) #same as above\n",
    "\n",
    "cdf = sps.binom.cdf(x,n,p) # p(kill yourself in k shots)\n",
    "\n",
    "ax2.plot(x,survival_p,'o--',color='lime',label='p(not at least one success in n shots)')\n",
    "ax2.plot(x,cdf,'o--',color='red',label='p(at least one in k shots)')\n",
    "ax2.legend(loc='center right')\n",
    "\n",
    "# red is sum of all individual p's thus far\n",
    "# green is 1 - red"
   ]
  },
  {
   "cell_type": "code",
   "execution_count": null,
   "metadata": {},
   "outputs": [],
   "source": [
    "print (cdf)\n",
    "print (1 - survival_p)"
   ]
  }
 ],
 "metadata": {
  "kernelspec": {
   "display_name": "Python 3",
   "language": "python",
   "name": "python3"
  },
  "language_info": {
   "codemirror_mode": {
    "name": "ipython",
    "version": 3
   },
   "file_extension": ".py",
   "mimetype": "text/x-python",
   "name": "python",
   "nbconvert_exporter": "python",
   "pygments_lexer": "ipython3",
   "version": "3.8.5"
  }
 },
 "nbformat": 4,
 "nbformat_minor": 4
}
