{
 "cells": [
  {
   "cell_type": "code",
   "execution_count": null,
   "metadata": {},
   "outputs": [],
   "source": [
    "import scipy.stats as sps\n",
    "import numpy as np\n",
    "import matplotlib.pyplot as plt\n",
    "import seaborn as sns\n",
    "\n",
    "sns.set()"
   ]
  },
  {
   "cell_type": "code",
   "execution_count": null,
   "metadata": {},
   "outputs": [],
   "source": [
    "n=2 # number of trials\n",
    "p = 1/6 # probability for success (dice==1/6)\n",
    "\n",
    "x = range(n+1) # number of successful outcomes, 0..n\n",
    "\n",
    "p_dist = sps.binom.pmf(x,n,p)\n",
    "p_cum = sps.binom.cdf(x,n,p)\n"
   ]
  },
  {
   "cell_type": "code",
   "execution_count": null,
   "metadata": {},
   "outputs": [],
   "source": [
    "# nr of ways to get exactly 1 six : 10 => p = 10/36\n",
    "# number of complete successful paths in garden of forking data = 10\n",
    "\n",
    "print (10/36)"
   ]
  },
  {
   "cell_type": "code",
   "execution_count": null,
   "metadata": {},
   "outputs": [],
   "source": [
    "#nr of ways to get 1 or 2 sixes : 11 => p = 11/36\n",
    "print (11/36)\n",
    "# adding p(1) and p(2) gives p for at least 1\n",
    "print (p_dist[1] + p_dist[2])"
   ]
  },
  {
   "cell_type": "code",
   "execution_count": null,
   "metadata": {},
   "outputs": [],
   "source": [
    "plt.figure(figsize=(18,12))\n",
    "ax = plt.gca()\n",
    "\n",
    "ax.set_title('Probability of x successes in {} trials with p={:.2f}'.format(n,p))\n",
    "\n",
    "ax.plot(x,p_dist,'o--')\n",
    "ax.set_xlabel('successes')\n",
    "ax.set_ylabel('probability')\n",
    "_= ax.set_xticks(range(n+1))\n",
    "\n",
    "ax2 = plt.twinx()\n",
    "\n",
    "ax2.plot(x,p_cum,'o--',color='orange')\n"
   ]
  }
 ],
 "metadata": {
  "kernelspec": {
   "display_name": "Python 3",
   "language": "python",
   "name": "python3"
  },
  "language_info": {
   "codemirror_mode": {
    "name": "ipython",
    "version": 3
   },
   "file_extension": ".py",
   "mimetype": "text/x-python",
   "name": "python",
   "nbconvert_exporter": "python",
   "pygments_lexer": "ipython3",
   "version": "3.8.5"
  }
 },
 "nbformat": 4,
 "nbformat_minor": 4
}
