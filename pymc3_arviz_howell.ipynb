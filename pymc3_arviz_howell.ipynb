{
 "cells": [
  {
   "cell_type": "code",
   "execution_count": null,
   "metadata": {},
   "outputs": [],
   "source": [
    "import numpy as np\n",
    "import matplotlib.pyplot as plt\n",
    "import seaborn as sns\n",
    "import pandas as pd\n",
    "import pymc3 as pm\n",
    "import arviz as az\n",
    "\n",
    "sns.set()"
   ]
  },
  {
   "cell_type": "code",
   "execution_count": null,
   "metadata": {},
   "outputs": [],
   "source": [
    "df = pd.read_csv('Howell1.csv',header=0,sep=';')\n",
    "df = df.loc[df['age'] >= 18]\n",
    "df_female = df.loc[df['male']==0]\n",
    "df_male = df.loc[df['male'] ==1]\n",
    "\n",
    "df_female.describe()"
   ]
  },
  {
   "cell_type": "code",
   "execution_count": null,
   "metadata": {},
   "outputs": [],
   "source": [
    "df.plot(x='weight',y='height',style='o')"
   ]
  },
  {
   "cell_type": "code",
   "execution_count": null,
   "metadata": {
    "scrolled": false
   },
   "outputs": [],
   "source": [
    "model = pm.Model()\n",
    "x = df['weight'].values\n",
    "gender_idx = df['male'].values\n",
    "\n",
    "with model:\n",
    "    \n",
    "    alpha = pm.Normal('alpha',100,50,shape=2)\n",
    "    beta = pm.Normal('beta',1,1,shape=2)\n",
    "    \n",
    "    mu=alpha[gender_idx] + x * beta[gender_idx]\n",
    "    sigma = pm.Uniform('sigma',0,10)\n",
    "    obs = pm.Normal('obs',mu=mu,sd=sigma,observed=df['height'])\n",
    "    \n",
    "    trace = pm.sample(500,tune=500)\n",
    "    summary = az.summary(trace,credible_interval=0.89)\n",
    "    result = pm.trace_to_dataframe(trace)\n",
    "    az.plot_trace(trace)"
   ]
  },
  {
   "cell_type": "code",
   "execution_count": null,
   "metadata": {},
   "outputs": [],
   "source": [
    "summary"
   ]
  },
  {
   "cell_type": "code",
   "execution_count": null,
   "metadata": {},
   "outputs": [],
   "source": [
    "result.describe()"
   ]
  },
  {
   "cell_type": "code",
   "execution_count": null,
   "metadata": {
    "scrolled": false
   },
   "outputs": [],
   "source": []
  },
  {
   "cell_type": "code",
   "execution_count": null,
   "metadata": {
    "scrolled": false
   },
   "outputs": [],
   "source": [
    "ppc = pm.sample_posterior_predictive(trace,500,model,var_names=['alpha',\n",
    "                                                                'beta','obs'])\n",
    "print (ppc['obs'].shape)\n",
    "ppc"
   ]
  },
  {
   "cell_type": "code",
   "execution_count": null,
   "metadata": {},
   "outputs": [],
   "source": [
    "print (ppc['obs'].shape)\n",
    "print (ppc['alpha'].shape)\n"
   ]
  },
  {
   "cell_type": "code",
   "execution_count": null,
   "metadata": {},
   "outputs": [],
   "source": [
    "with model:\n",
    "    data_ppc = az.from_pymc3(trace,posterior_predictive=ppc)\n"
   ]
  },
  {
   "cell_type": "code",
   "execution_count": null,
   "metadata": {},
   "outputs": [],
   "source": [
    "ppc['obs'].shape"
   ]
  },
  {
   "cell_type": "code",
   "execution_count": null,
   "metadata": {},
   "outputs": [],
   "source": [
    "ppc['obs']"
   ]
  },
  {
   "cell_type": "code",
   "execution_count": null,
   "metadata": {},
   "outputs": [],
   "source": [
    "az.plot_ppc(data_ppc,var_names=['obs'])"
   ]
  },
  {
   "cell_type": "code",
   "execution_count": null,
   "metadata": {},
   "outputs": [],
   "source": [
    "mu_pp_male = ppc['alpha'][:,1] + ppc['beta'][:,1] * x[:,None]\n",
    "mu_pp_female = ppc['alpha'][:,0] + ppc['beta'][:,0] *  x[:,None]\n",
    "mu_pp_male.shape\n",
    "mu_pp_female.shape"
   ]
  },
  {
   "cell_type": "code",
   "execution_count": null,
   "metadata": {},
   "outputs": [],
   "source": [
    "nr_rows = 500\n",
    "\n",
    "X = np.linspace(30,65,100)\n",
    "\n",
    "rows = np.random.choice(result.index,replace=True,size=nr_rows)\n",
    "\n",
    "sample_mu_f = [result.iloc[rows]['alpha__0'] + result.iloc[rows]['beta__0'] * X[i] for i in range(len(X))]\n",
    "samples_f = pm.Normal.dist(sample_mu_f,sigma).random()\n",
    "\n",
    "sample_mu_m = [result.iloc[rows]['alpha__1'] + result.iloc[rows]['beta__1'] * X[i] for i in range(len(X))]\n",
    "samples_m = pm.Normal.dist(sample_mu_m,sigma).random()\n",
    "\n",
    "CI_f = np.percentile(samples_f,[5.5,94.5],axis=1)\n",
    "CI_m = np.percentile(samples_m,[5.5,94.5],axis=1)\n",
    "\n"
   ]
  },
  {
   "cell_type": "code",
   "execution_count": null,
   "metadata": {},
   "outputs": [],
   "source": []
  },
  {
   "cell_type": "code",
   "execution_count": null,
   "metadata": {},
   "outputs": [],
   "source": [
    "plt.figure(figsize=(18,12))\n",
    "\n",
    "ax = plt.gca()\n",
    "\n",
    "fill_kwargs1_0={'label':'lines 89%',\n",
    "            'color':'navy',\n",
    "               'alpha':0.6}\n",
    "\n",
    "fill_kwargs1_1={'label':'lines 89%',\n",
    "            'color':'red',\n",
    "               'alpha':0.6}\n",
    "\n",
    "fill_kwargs2={'label':'common points 89%',\n",
    "             'color' : 'orange',\n",
    "             'alpha' : 0.4}\n",
    "\n",
    "az.plot_hpd(x,mu_pp_male.T,ax=ax,hdi_prob=0.89,fill_kwargs=fill_kwargs1_0)\n",
    "\n",
    "az.plot_hpd(x,mu_pp_female.T,ax=ax,hdi_prob=0.89,fill_kwargs=fill_kwargs1_1)\n",
    "\n",
    "\n",
    "az.plot_hpd(x,ppc['obs'],ax=ax,hdi_prob=0.89,fill_kwargs=fill_kwargs2)\n",
    "\n",
    "ax.plot(x,mu_pp_male.T.mean(axis=0),'--',color='k',label='mean')\n",
    "\n",
    "ax.plot(x,mu_pp_female.T.mean(axis=0),'--',color='k',label='mean')\n",
    "\n",
    "\n",
    "df_female = df.loc[df['male'] == 0]\n",
    "df_male = df.loc[df['male'] == 1]\n",
    "\n",
    "ax.scatter(df_male['weight'],df_male['height'],color='b',label='male data')\n",
    "ax.scatter(df_female['weight'],df_female['height'],color='r',label='female data')\n",
    "\n",
    "ax.fill_between(X,CI_f[0],CI_f[1],color='pink',alpha=0.5,label='female sample CI')\n",
    "ax.fill_between(X,CI_m[0],CI_m[1],color='b',alpha=0.5,label='male sample CI')\n",
    "\n",
    "ax.legend(loc='upper left')"
   ]
  },
  {
   "cell_type": "code",
   "execution_count": null,
   "metadata": {},
   "outputs": [],
   "source": []
  }
 ],
 "metadata": {
  "kernelspec": {
   "display_name": "Python 3",
   "language": "python",
   "name": "python3"
  },
  "language_info": {
   "codemirror_mode": {
    "name": "ipython",
    "version": 3
   },
   "file_extension": ".py",
   "mimetype": "text/x-python",
   "name": "python",
   "nbconvert_exporter": "python",
   "pygments_lexer": "ipython3",
   "version": "3.8.5"
  }
 },
 "nbformat": 4,
 "nbformat_minor": 4
}
