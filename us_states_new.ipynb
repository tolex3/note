{
 "cells": [
  {
   "cell_type": "code",
   "execution_count": null,
   "metadata": {
    "scrolled": false
   },
   "outputs": [],
   "source": [
    "import pandas as pd\n",
    "import glob\n",
    "import numpy as np\n",
    "\n",
    "# new files since april-12\n",
    "\n",
    "path = '../../corona/COVID-19/csse_covid_19_data/csse_covid_19_daily_reports_us/*.csv'\n",
    "\n",
    "files = glob.glob(path)\n",
    "\n",
    "us_states = pd.read_csv('us_states.csv',sep=';',header=None,usecols=[0])\n",
    "us_states_df = pd.DataFrame()\n",
    "\n",
    "for f in files:\n",
    "    date = f.split('/')[-1].split('.')[0]\n",
    "    \n",
    "    df = pd.read_csv(f,sep=',',usecols=[0,2,5,6])\n",
    "    df['Last_Update'] = (pd.to_datetime(df['Last_Update']))\n",
    "    df['date'] = pd.to_datetime([date] * len(df))\n",
    "\n",
    "    df.rename(columns={'Province_State' : 'state',\n",
    "                      'Confirmed' : 'confirmed',\n",
    "                      'Deaths' : 'deceased'},inplace=True)\n",
    "    df = pd.merge(df,us_states,left_on='state',right_on=0)\n",
    "    df.drop(0,axis=1,inplace=True)\n",
    "    df.set_index('date',inplace=True)\n",
    "\n",
    "    \n",
    "    us_states_df = pd.concat([us_states_df,df])\n",
    "    \n",
    "us_states_df"
   ]
  },
  {
   "cell_type": "code",
   "execution_count": null,
   "metadata": {},
   "outputs": [],
   "source": [
    "state_names = us_states_df['state'].unique()\n",
    "\n",
    "state_dic = dict()\n",
    "\n",
    "def process_state(state_name):\n",
    "    \n",
    "    state = (us_states_df[us_states_df['state'] == state_name]).copy()\n",
    "    state['inc'] = state['confirmed'] - state['confirmed'].shift()\n",
    "    state['dead_inc'] = state['deceased'] - state['deceased'].shift()\n",
    "    state['factor'] = state['confirmed'] / state['confirmed'].shift()\n",
    "    state['dead_factor'] = state['deceased'] / state['deceased'].shift()\n",
    "    state_dic[state_name] = state\n"
   ]
  },
  {
   "cell_type": "code",
   "execution_count": null,
   "metadata": {
    "scrolled": false
   },
   "outputs": [],
   "source": [
    "for s in state_names:\n",
    "    process_state(s)\n",
    "    \n",
    "state_dic['New York']"
   ]
  },
  {
   "cell_type": "code",
   "execution_count": null,
   "metadata": {
    "scrolled": false
   },
   "outputs": [],
   "source": [
    "# old data from files before april 12\n",
    "old_state_dic = pd.read_pickle('us_state_dict_old.pkl')\n",
    "\n"
   ]
  },
  {
   "cell_type": "code",
   "execution_count": null,
   "metadata": {},
   "outputs": [],
   "source": [
    "#https://worldpopulationreview.com/states/\n",
    "us_state_density = pd.read_csv('us_states_pop_density.csv')\n",
    "us_state_density.set_index('State',inplace=True)\n",
    "\n",
    "us_state_economy = pd.read_csv('us_states_economy.csv',header=None,sep=';',\n",
    "                               index_col=[1],thousands=',')\n",
    "\n",
    "sqr_mile_factor = 2.58998811\n",
    "\n",
    "us_state_density['density'] *= sqr_mile_factor \n",
    "\n",
    "us_state_economy.drop([0,2,3,5],axis=1,inplace=True)\n",
    "us_state_economy.rename(columns={4:'gdp'},inplace=True)\n",
    "us_state_economy.index.name='state'\n"
   ]
  },
  {
   "cell_type": "code",
   "execution_count": null,
   "metadata": {},
   "outputs": [],
   "source": [
    "us_state_density"
   ]
  },
  {
   "cell_type": "code",
   "execution_count": null,
   "metadata": {
    "scrolled": false
   },
   "outputs": [],
   "source": [
    "joined_state_dic = dict()\n",
    "\n",
    "for k,v in old_state_dic.items():\n",
    "    new_state =  pd.concat([v,state_dic[k]])\n",
    "    new_state.index = (pd.to_datetime(new_state.index)).date\n",
    "    new_state = new_state[['confirmed','deceased','inc','dead_inc',\n",
    "                          'factor','dead_factor']]\n",
    "    \n",
    "    new_state['inc'] = new_state['confirmed'] - new_state['confirmed'].shift()\n",
    "    new_state['dead_inc'] = new_state['deceased'] - new_state['deceased'].shift()\n",
    "    new_state['factor'] = new_state['confirmed'] / new_state['confirmed'].shift()\n",
    "    new_state['dead_factor'] = new_state['deceased'] / new_state['deceased'].shift()\n",
    "    new_state['density'] = us_state_density.loc[k,'density']\n",
    "    new_state['gdp'] = us_state_economy.loc[k,'gdp']\n",
    "    new_state['pct_dead'] = 100 * new_state['deceased'] / new_state['confirmed']\n",
    "    new_state['conf_per_M'] = new_state['confirmed'] / (us_state_density.loc[k,'Pop'] / 1e6)\n",
    "    new_state['dead_per_M'] = new_state['deceased'] / (us_state_density.loc[k,'Pop'] / 1e6)\n",
    "    new_state = new_state[new_state['deceased'] > 1]\n",
    "    new_state.replace(np.inf,np.nan,inplace=True)\n",
    "    \n",
    "    joined_state_dic[k] = new_state\n"
   ]
  },
  {
   "cell_type": "code",
   "execution_count": null,
   "metadata": {},
   "outputs": [],
   "source": [
    "joined_state_dic['New York']"
   ]
  },
  {
   "cell_type": "code",
   "execution_count": null,
   "metadata": {},
   "outputs": [],
   "source": [
    "import pickle\n",
    "\n",
    "with open ('us_state_dict.pkl','wb') as f:\n",
    "    pickle.dump(joined_state_dic,f,pickle.HIGHEST_PROTOCOL)\n",
    "    "
   ]
  }
 ],
 "metadata": {
  "kernelspec": {
   "display_name": "Python 3",
   "language": "python",
   "name": "python3"
  },
  "language_info": {
   "codemirror_mode": {
    "name": "ipython",
    "version": 3
   },
   "file_extension": ".py",
   "mimetype": "text/x-python",
   "name": "python",
   "nbconvert_exporter": "python",
   "pygments_lexer": "ipython3",
   "version": "3.8.5"
  }
 },
 "nbformat": 4,
 "nbformat_minor": 4
}
