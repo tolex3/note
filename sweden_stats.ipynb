{
 "cells": [
  {
   "cell_type": "code",
   "execution_count": null,
   "metadata": {},
   "outputs": [],
   "source": [
    "import numpy as np\n",
    "import matplotlib.pyplot as plt\n",
    "import seaborn as sns\n",
    "import pandas as pd\n",
    "import pymc as pm\n",
    "\n",
    "sns.set()"
   ]
  },
  {
   "cell_type": "code",
   "execution_count": null,
   "metadata": {},
   "outputs": [],
   "source": [
    "df = pd.read_csv('Folkhalsomyndigheten.csv',sep=';',encoding='ISO-8859-1')\n",
    "df['Region'].replace('Jämtland Härjedalen','Jämtland',inplace=True)\n",
    "df['Region'].replace('Sörmland','Södermanland',inplace=True)\n",
    "df.set_index('Region',inplace=True)\n",
    "df"
   ]
  },
  {
   "cell_type": "code",
   "execution_count": null,
   "metadata": {},
   "outputs": [],
   "source": [
    "pop_df = pd.read_csv('sverige_befolkning.csv',sep=';',thousands=' ',header=None,usecols=[0,1,2])\n",
    "pop_df.set_index(0,inplace=True)\n",
    "pop_df"
   ]
  },
  {
   "cell_type": "code",
   "execution_count": null,
   "metadata": {},
   "outputs": [],
   "source": [
    "def regioner(x):\n",
    "    if len(x) == 2:\n",
    "        return 'region'\n",
    "    else:\n",
    "        return 'kommun'\n",
    "\n",
    "grouped = pop_df.groupby(regioner)\n",
    "\n",
    "region_df = grouped.get_group('region')\n",
    "region_df = region_df.set_index(1)\n",
    "region_df.rename(columns={2:'befolkning'},inplace=True)\n",
    "region_df.index.name='region'\n",
    "region_df"
   ]
  },
  {
   "cell_type": "code",
   "execution_count": null,
   "metadata": {},
   "outputs": [],
   "source": [
    "df = df.join(region_df)\n",
    "df.drop('Fall_per_100000_inv',axis=1,inplace=True)\n",
    "df.columns=['confirmed','icu','dead','population']\n",
    "df['conf_per_M'] = df['confirmed'] / (df['population'] / 1e6)\n",
    "df['dead_per_M'] = df['dead'] / (df['population'] / 1e6)\n",
    "df.sort_values('dead_per_M',inplace=True,ascending=False)\n",
    "df"
   ]
  },
  {
   "cell_type": "code",
   "execution_count": null,
   "metadata": {},
   "outputs": [],
   "source": [
    "print (df.describe())\n",
    "df.sum()"
   ]
  },
  {
   "cell_type": "code",
   "execution_count": null,
   "metadata": {},
   "outputs": [],
   "source": [
    "df_age = pd.read_csv('Folkhalsomyndigheten_age.csv',sep=';',encoding='ISO-8859-1')\n",
    "df_age"
   ]
  },
  {
   "cell_type": "code",
   "execution_count": null,
   "metadata": {},
   "outputs": [],
   "source": [
    "df_age.plot(kind='bar',x='Åldersgrupp',y=['Totalt_antal_fall','Totalt_antal_avlidna'],figsize=(18,12))\n",
    "plt.title('Corona Sverige åldersprofil')\n",
    "plt.ylabel('Antal')\n",
    "plt.savefig('Corona_sverige_age.jpg',format='jpg')"
   ]
  },
  {
   "cell_type": "code",
   "execution_count": null,
   "metadata": {},
   "outputs": [],
   "source": [
    "df['conf_of_total'] = 100 * df['confirmed'] / df['confirmed'].sum()\n",
    "df['dead_of_total'] = 100 * df['dead'] / df['dead'].sum()\n",
    "\n",
    "df.plot(kind='bar',y=['conf_of_total','dead_of_total'],figsize=(18,12))\n",
    "plt.title('Corona Sweden - percentages confirmed & dead per Region')\n",
    "plt.ylabel('percent')\n",
    "plt.savefig('corona_sweden_regions_pct.jpg',format='jpg')"
   ]
  }
 ],
 "metadata": {
  "kernelspec": {
   "display_name": "Python 3",
   "language": "python",
   "name": "python3"
  },
  "language_info": {
   "codemirror_mode": {
    "name": "ipython",
    "version": 3
   },
   "file_extension": ".py",
   "mimetype": "text/x-python",
   "name": "python",
   "nbconvert_exporter": "python",
   "pygments_lexer": "ipython3",
   "version": "3.6.9"
  }
 },
 "nbformat": 4,
 "nbformat_minor": 4
}
