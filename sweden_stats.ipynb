{
 "cells": [
  {
   "cell_type": "code",
   "execution_count": null,
   "metadata": {},
   "outputs": [],
   "source": [
    "import numpy as np\n",
    "import matplotlib.pyplot as plt\n",
    "import seaborn as sns\n",
    "import pandas as pd\n",
    "import pymc as pm\n",
    "from pymc.Matplot import plot as pmplot\n",
    "\n",
    "sns.set()"
   ]
  },
  {
   "cell_type": "code",
   "execution_count": null,
   "metadata": {},
   "outputs": [],
   "source": [
    "df = pd.read_csv('Folkhalsomyndigheten.csv',sep=';',encoding='ISO-8859-1')\n",
    "df['Region'].replace('Jämtland Härjedalen','Jämtland',inplace=True)\n",
    "df['Region'].replace('Sörmland','Södermanland',inplace=True)\n",
    "df.set_index('Region',inplace=True)\n",
    "df"
   ]
  },
  {
   "cell_type": "code",
   "execution_count": null,
   "metadata": {},
   "outputs": [],
   "source": [
    "pop_df = pd.read_csv('sverige_befolkning.csv',sep=';',thousands=' ',header=None,usecols=[0,1,2])\n",
    "pop_df.set_index(0,inplace=True)\n",
    "pop_df"
   ]
  },
  {
   "cell_type": "code",
   "execution_count": null,
   "metadata": {},
   "outputs": [],
   "source": [
    "def regioner(x):\n",
    "    if len(x) == 2:\n",
    "        return 'region'\n",
    "    else:\n",
    "        return 'kommun'\n",
    "\n",
    "grouped = pop_df.groupby(regioner)\n",
    "\n",
    "region_df = grouped.get_group('region')\n",
    "region_df = region_df.set_index(1)\n",
    "region_df.rename(columns={2:'befolkning'},inplace=True)\n",
    "region_df.index.name='region'\n",
    "\n",
    "region_data = pd.read_csv('sveriges_regioner.csv',sep=';',encoding='utf-8',index_col='region')\n",
    "region_df = region_df.join(region_data)\n",
    "region_df"
   ]
  },
  {
   "cell_type": "code",
   "execution_count": null,
   "metadata": {},
   "outputs": [],
   "source": [
    "df = df.join(region_df)\n",
    "df.drop('Fall_per_100000_inv',axis=1,inplace=True)\n",
    "df.columns=['confirmed','icu','dead','population','density']\n",
    "df['conf_per_M'] = df['confirmed'] / (df['population'] / 1e6)\n",
    "df['dead_per_M'] = df['dead'] / (df['population'] / 1e6)\n",
    "df.sort_values('dead_per_M',inplace=True,ascending=False)\n",
    "df"
   ]
  },
  {
   "cell_type": "code",
   "execution_count": null,
   "metadata": {},
   "outputs": [],
   "source": [
    "print (df.describe())\n",
    "df.sum()"
   ]
  },
  {
   "cell_type": "code",
   "execution_count": null,
   "metadata": {},
   "outputs": [],
   "source": [
    "df_age = pd.read_csv('Folkhalsomyndigheten_age.csv',sep=';',encoding='ISO-8859-1')\n",
    "df_age"
   ]
  },
  {
   "cell_type": "code",
   "execution_count": null,
   "metadata": {},
   "outputs": [],
   "source": [
    "df_age.plot(kind='bar',x='Åldersgrupp',y=['Totalt_antal_fall','Totalt_antal_avlidna'],figsize=(18,12))\n",
    "plt.title('Corona Sverige åldersprofil')\n",
    "plt.ylabel('Antal')\n",
    "plt.savefig('Corona_sverige_age.jpg',format='jpg')"
   ]
  },
  {
   "cell_type": "code",
   "execution_count": null,
   "metadata": {},
   "outputs": [],
   "source": [
    "df['conf_of_total'] = 100 * df['confirmed'] / df['confirmed'].sum()\n",
    "df['dead_of_total'] = 100 * df['dead'] / df['dead'].sum()\n",
    "\n",
    "df.plot(kind='bar',y=['conf_of_total','dead_of_total'],figsize=(18,12))\n",
    "plt.title('Corona Sweden - percentages confirmed & dead per Region')\n",
    "plt.ylabel('percent')\n",
    "plt.savefig('corona_sweden_regions_pct.jpg',format='jpg')"
   ]
  },
  {
   "cell_type": "code",
   "execution_count": null,
   "metadata": {},
   "outputs": [],
   "source": [
    "x_param = 'density'\n",
    "y_param = 'dead_per_M'\n",
    "\n",
    "def regression(x_std,y_std):\n",
    "    \n",
    "    alpha_mu = pm.Normal('alpha_mu',0,1 / 1 ** 2)\n",
    "    alpha_sigma = pm.Uniform('alpha_sigma', 0.01, 0.5)\n",
    "    \n",
    "    beta_mu = pm.Normal('beta_mu', 0, 1 / 1 ** 2)\n",
    "    beta_sigma = pm.Uniform('beta_sigma',0.01, 0.5 )\n",
    "    \n",
    "    alpha = pm.Normal('alpha',alpha_mu, 1 / alpha_sigma ** 2)\n",
    "    beta = pm.Normal('beta',beta_mu, 1 / beta_sigma ** 2)\n",
    "    \n",
    "    obs_sigma = pm.Uniform('obs_sigma',0,0.5)\n",
    "    \n",
    "    @pm.deterministic()\n",
    "    def linreq(x_std=x_std,alpha=alpha,beta=beta):\n",
    "        return x_std * beta + alpha\n",
    "    \n",
    "    obs = pm.Normal('obs',linreq, 1 / obs_sigma ** 2,observed=True,value=y_std)\n",
    "    \n",
    "    model = pm.Model([alpha_mu,alpha_sigma,beta_mu,beta_sigma,alpha,beta,obs_sigma,linreq,obs])\n",
    "    \n",
    "    map_ = pm.MAP (model)\n",
    "    map_.fit()\n",
    "    \n",
    "    mcmc = pm.MCMC(model)\n",
    "    \n",
    "    sample = mcmc.sample(100000,50000,2)\n",
    "    \n",
    "    alpha_post = mcmc.trace('alpha')[:]\n",
    "    beta_post = mcmc.trace('beta')[:]\n",
    "    obs_sigma_post = mcmc.trace('obs_sigma')[:]\n",
    "    \n",
    "    pmplot(alpha_post,'alpha')\n",
    "    pmplot(beta_post,'beta')\n",
    "    pmplot(obs_sigma_post,'obs_sigma')\n",
    "    \n",
    "    result = pd.DataFrame({'alpha_post' : alpha_post,\n",
    "                          'beta_post' : beta_post,\n",
    "                          'obs_sigma_post' : obs_sigma_post})\n",
    "    \n",
    "    return result\n",
    "    "
   ]
  },
  {
   "cell_type": "code",
   "execution_count": null,
   "metadata": {},
   "outputs": [],
   "source": [
    "\n",
    "def plot(x,y,result,x_orig_mean,x_orig_std,y_orig_mean,y_orig_std,region_names):\n",
    "    \n",
    "    beta_mean = result.beta_post.mean()\n",
    "    beta_sigma = result.beta_post.std()\n",
    "    alpha_mean = result.alpha_post.mean()\n",
    "    alpha_sigma = result.alpha_post.std()\n",
    "    beta_89 = np.percentile(result.beta_post,[5.5,94.5])\n",
    "    alpha_89 = np.percentile(result.alpha_post,[5.5,94.5])\n",
    "    \n",
    "    title_suffix = r'$\\alpha$: {:.2f} alpha_89: [ {:.2f} , {:.2f} ] $\\beta$: {:.2f} beta_89: [ {:.2f} , {:.2f} ]'.format(\n",
    "    alpha_mean,alpha_89[0],alpha_89[1],beta_mean,beta_89[0],beta_89[1])\n",
    "    \n",
    "    plt.figure(figsize=(18,12))\n",
    "    plt.title('Corona Sverige Regioner/Län: Linear Regression ' + title_suffix)\n",
    "    \n",
    "    \n",
    "    \n",
    "    plt.xlabel(x_param + r' [STD] $\\mu$: {:.2f} $\\sigma$: {:.2f}'.format(x_orig_mean,x_orig_std))\n",
    "    plt.ylabel(y_param + r' [STD] $\\mu$: {:.2f} $\\sigma$: {:.2f}'.format(y_orig_mean,y_orig_std))\n",
    "    \n",
    "    X = np.linspace(min(x),max(x),1000)\n",
    "    \n",
    "    alpha_samples = np.random.choice(result.alpha_post,replace=True,size=len(X))\n",
    "    beta_samples = np.random.choice(result.beta_post,replace=True,size=len(X))\n",
    "    \n",
    "    lines = [X[i] * beta_samples + alpha_samples for i in range(len(X))]\n",
    "    \n",
    "    plt.plot(X,lines,alpha=0.01,color='red')\n",
    "    \n",
    "    rows = np.random.choice(result.index,replace=True,size=len(X))\n",
    "    \n",
    "    samples = np.array([pm.rnormal(X[i] * result['beta_post'][rows] + result['alpha_post'][rows],\n",
    "                                  1 / result['obs_sigma_post'][rows],size=len(X)) for i in range(len(X))])\n",
    "    \n",
    "    step = 100\n",
    "    for i in range(0,len(X),step):\n",
    "        plt.scatter(X,samples[:,i],edgecolors='orange',facecolors='none',alpha=0.5)\n",
    "        \n",
    "    high,low = np.percentile(samples,[5.5,94.5],axis=1)\n",
    "    \n",
    "    plt.fill_between(X,high,low,color='c',alpha=0.2)\n",
    "    \n",
    "    plt.scatter(x,y,color='lime',s=100)\n",
    "    \n",
    "    offset = np.array([-0.05,0.05])\n",
    "    rotation = np.array([0,45,90])\n",
    "    \n",
    "    for i in range(len(x)):\n",
    "        plt.text(x[i],y[i] + offset[i % 2],region_names[i],rotation=rotation[i % 3],rotation_mode='anchor')\n",
    "        "
   ]
  },
  {
   "cell_type": "code",
   "execution_count": null,
   "metadata": {
    "scrolled": false
   },
   "outputs": [],
   "source": [
    "def standardize(x):\n",
    "    return (x - x.mean()) / x.std()\n",
    "\n",
    "x_std = standardize(df[x_param])\n",
    "y_std = standardize(df[y_param])\n",
    "\n",
    "max_std = 5\n",
    "\n",
    "mask_x = (x_std > -max_std) & (x_std < max_std)\n",
    "mask_y = (y_std > -max_std) & (y_std < max_std)\n",
    "\n",
    "mask = mask_x & mask_y\n",
    "\n",
    "x_std = x_std[mask]\n",
    "y_std = y_std[mask]\n",
    "df = df[mask]\n",
    "\n",
    "region_names = list(df.index.values)\n",
    "print (region_names)\n",
    "\n",
    "\n",
    "#result = regression(x_std,y_std)\n",
    "plot(x_std,y_std,result,df[x_param].mean(),df[x_param].std(),\n",
    "     df[y_param].mean(),df[y_param].std(),\n",
    "    region_names)"
   ]
  }
 ],
 "metadata": {
  "kernelspec": {
   "display_name": "Python 3",
   "language": "python",
   "name": "python3"
  },
  "language_info": {
   "codemirror_mode": {
    "name": "ipython",
    "version": 3
   },
   "file_extension": ".py",
   "mimetype": "text/x-python",
   "name": "python",
   "nbconvert_exporter": "python",
   "pygments_lexer": "ipython3",
   "version": "3.6.9"
  }
 },
 "nbformat": 4,
 "nbformat_minor": 4
}
