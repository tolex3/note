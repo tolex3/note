{
 "cells": [
  {
   "cell_type": "code",
   "execution_count": null,
   "metadata": {},
   "outputs": [],
   "source": [
    "import numpy as np\n",
    "import matplotlib.pyplot as plt\n",
    "import seaborn as sns\n",
    "import pandas as pd\n",
    "import pymc3 as pm\n",
    "import arviz as az\n",
    "\n",
    "sns.set()"
   ]
  },
  {
   "cell_type": "code",
   "execution_count": null,
   "metadata": {},
   "outputs": [],
   "source": [
    "\n",
    "nr_samples = 10\n",
    "inside = np.array([23,19,23,19,23,19,23,19,23,19])\n",
    "                                    \n",
    "outside = np.array([-20,-20,-15,-15,-10,-10,-8,-8,-4,-4])\n",
    "\n",
    "print (inside)\n",
    "print (outside)\n",
    "\n",
    "e = (2 * inside) ** 2 + outside ** 2 + inside * -outside\n",
    "print (e)"
   ]
  },
  {
   "cell_type": "code",
   "execution_count": null,
   "metadata": {},
   "outputs": [],
   "source": [
    "df = pd.DataFrame({'out': outside,\n",
    "                  'in' : inside,\n",
    "                  'e' : e})\n",
    "\n",
    "dates = pd.date_range('2020-01-01',periods=len(df))\n",
    "df.index = dates\n",
    "df"
   ]
  },
  {
   "cell_type": "code",
   "execution_count": null,
   "metadata": {
    "scrolled": false
   },
   "outputs": [],
   "source": [
    "ax=df.plot(y='e',style='ro--',figsize=(18,12),\n",
    "           title='Energy consuption given inside & outside temp')\n",
    "ax2 = plt.twinx()\n",
    "\n",
    "df[['in','out']].plot(ax=ax2,style=['go--','bo--'])\n",
    "\n",
    "ax.legend(loc='upper left')\n",
    "ax.set_ylabel('energy')\n",
    "\n",
    "ax2.legend(loc='upper right')\n",
    "ax2.set_ylabel('temp [inside,outside]')"
   ]
  },
  {
   "cell_type": "code",
   "execution_count": null,
   "metadata": {},
   "outputs": [],
   "source": [
    "df.corr()"
   ]
  },
  {
   "cell_type": "code",
   "execution_count": null,
   "metadata": {},
   "outputs": [],
   "source": [
    "\n",
    "def standardize(series):\n",
    "    return (series - series.mean()) / series.std()\n",
    "\n",
    "df[['out_std','in_std','e_std']] = df.apply(standardize)\n",
    "df['day_idx'] = range(len(df))\n",
    "df['country_idx'] = 0\n",
    "df['isolation_idx'] = 0\n",
    "df"
   ]
  },
  {
   "cell_type": "code",
   "execution_count": null,
   "metadata": {},
   "outputs": [],
   "source": [
    "df2 = df.copy()\n",
    "df2['country_idx'] = 1\n",
    "df2['isolation_idx'] = 1\n",
    "df2['e'] = df2['e'] * 1.1\n",
    "df2['e_std'] = standardize(df2['e'])"
   ]
  },
  {
   "cell_type": "code",
   "execution_count": null,
   "metadata": {},
   "outputs": [],
   "source": [
    "df2"
   ]
  },
  {
   "cell_type": "code",
   "execution_count": null,
   "metadata": {},
   "outputs": [],
   "source": [
    "df_all = pd.concat([df,df2])\n",
    "df_all"
   ]
  },
  {
   "cell_type": "code",
   "execution_count": null,
   "metadata": {},
   "outputs": [],
   "source": [
    "plt.scatter(df['out_std'],df['e_std'])\n",
    "plt.title('regression out -> energy, std units')\n",
    "plt.xlabel('out')\n",
    "plt.ylabel('energy')"
   ]
  },
  {
   "cell_type": "code",
   "execution_count": null,
   "metadata": {},
   "outputs": [],
   "source": [
    "# model 1 single regression outside temp -> energy\n",
    "\n",
    "x = df['out_std'].values\n",
    "\n",
    "model1 = pm.Model()\n",
    "\n",
    "result = pd.DataFrame()\n",
    "\n",
    "with model1:\n",
    "    alpha = pm.Normal('alpha',mu=0,sd=1)\n",
    "    beta = pm.Normal('beta',mu=0,sd=1)\n",
    "    obs_sigma = pm.Exponential('obs_sigma',1)\n",
    "    \n",
    "    reg = alpha + x * beta\n",
    "    lkh = pm.Normal('lkh',mu=reg,sd=obs_sigma,observed=df['e_std'])\n",
    "    \n",
    "    trace = pm.sample(500,tune=500)\n",
    "    \n",
    "    result = pm.trace_to_dataframe(trace)\n",
    "    \n",
    "    \n",
    "    "
   ]
  },
  {
   "cell_type": "code",
   "execution_count": null,
   "metadata": {},
   "outputs": [],
   "source": [
    "result"
   ]
  },
  {
   "cell_type": "code",
   "execution_count": null,
   "metadata": {},
   "outputs": [],
   "source": [
    "summary = pd.DataFrame()\n",
    "\n",
    "with model1:\n",
    "    az.plot_trace(trace)\n",
    "    summary = az.summary(trace,hdi_prob=0.89)\n",
    "    print (summary)"
   ]
  },
  {
   "cell_type": "code",
   "execution_count": null,
   "metadata": {},
   "outputs": [],
   "source": [
    "with model1:\n",
    "\n",
    "    print (az.summary(trace,hdi_prob=0.89))\n",
    "    \n"
   ]
  },
  {
   "cell_type": "code",
   "execution_count": null,
   "metadata": {},
   "outputs": [],
   "source": [
    "nr_rows = 1000\n",
    "\n",
    "X = np.linspace(df['out_std'].min(),df['out_std'].max(),100)\n",
    "\n",
    "rows = np.random.choice(result.index,replace=True,size=nr_rows)\n",
    "\n",
    "lines = np.array([result.iloc[rows]['alpha'] + result.iloc[rows]['beta'] * X[i] for i in range(len(X))])\n",
    "\n"
   ]
  },
  {
   "cell_type": "code",
   "execution_count": null,
   "metadata": {
    "scrolled": false
   },
   "outputs": [],
   "source": [
    "_= plt.plot(X,lines,color='r',alpha=0.01)\n",
    "\n",
    "ax = plt.gca()\n",
    "\n",
    "label_1 = r'$\\alpha$ : {:.2f} [HPDI : {:.2f} .. {:.2f}]'.format(summary.loc['alpha','mean'],\n",
    "                                                                summary.loc['alpha','hdi_5.5%'],\n",
    "                                                                summary.loc['alpha','hdi_94.5%'])\n",
    "\n",
    "label_2 = r'$\\beta$ : {:.2f} [HPDI : {:.2f} .. {:.2f}]'.format(summary.loc['beta','mean'],\n",
    "                                                              summary.loc['beta','hdi_5.5%'],\n",
    "                                                              summary.loc['beta','hdi_94.5%'])\n",
    "\n",
    "_= plt.plot(X,result['alpha'].mean() + result['beta'].mean() * X,\n",
    "            color='k',ls='dashed',label=label_1 + '\\n' + label_2)\n",
    "\n",
    "plt.xlabel('out [std]')\n",
    "plt.ylabel('energy [std]')\n",
    "\n",
    "plt.legend(loc='upper left')\n",
    "\n",
    "fill_kwargs = {'alpha': 0.3}\n",
    "az.plot_hpd(X, lines.T,ax=ax,color='c',fill_kwargs=fill_kwargs,hdi_prob=0.89)\n",
    "\n",
    "plt.scatter(df['out_std'],df['e_std'],color='crimson')"
   ]
  },
  {
   "cell_type": "code",
   "execution_count": null,
   "metadata": {},
   "outputs": [],
   "source": [
    "# model_2 indoor --> energy\n",
    "\n",
    "x = df['in_std'].values\n",
    "\n",
    "model_2 = pm.Model()\n",
    "with model_2:\n",
    "    \n",
    "    alpha = pm.Normal('alpha',0,1)\n",
    "    beta = pm.Normal('beta',0,1)\n",
    "    obs_sigma = pm.Exponential('obs_sigma',1)\n",
    "    \n",
    "    reg = alpha + x * beta\n",
    "    \n",
    "    lkh = pm.Normal('lkh',reg,obs_sigma,observed=df['e_std'])\n",
    "    \n",
    "    trace = pm.sample(500,tune=500)"
   ]
  },
  {
   "cell_type": "code",
   "execution_count": null,
   "metadata": {},
   "outputs": [],
   "source": [
    "summary = pd.DataFrame()\n",
    "result = pd.DataFrame()\n",
    "\n",
    "\n",
    "with model_2:\n",
    "    result = pm.trace_to_dataframe(trace)\n",
    "    az.plot_trace(trace)\n",
    "    summary = az.summary(trace,hdi_prob=0.89)\n",
    "\n",
    "summary"
   ]
  },
  {
   "cell_type": "code",
   "execution_count": null,
   "metadata": {},
   "outputs": [],
   "source": [
    "result.describe()"
   ]
  },
  {
   "cell_type": "code",
   "execution_count": null,
   "metadata": {},
   "outputs": [],
   "source": [
    "rows = np.random.choice(result.index,replace=True,size=nr_rows)\n",
    "\n",
    "lines = np.array([result.iloc[rows]['alpha'] + result.iloc[rows]['beta'] * X[i] for i in range(len(X))])"
   ]
  },
  {
   "cell_type": "code",
   "execution_count": null,
   "metadata": {},
   "outputs": [],
   "source": [
    "_= plt.plot(X,lines,color='r',alpha=0.02)\n",
    "\n",
    "ax = plt.gca()\n",
    "\n",
    "label_1 = r'$\\alpha$ : {:.2f} [HPDI : {:.2f} .. {:.2f}]'.format(summary.loc['alpha','mean'],\n",
    "                                                                summary.loc['alpha','hdi_5.5%'],\n",
    "                                                                summary.loc['alpha','hdi_94.5%'])\n",
    "\n",
    "label_2 = r'$\\beta$ : {:.2f} [HPDI : {:.2f} .. {:.2f}]'.format(summary.loc['beta','mean'],\n",
    "                                                              summary.loc['beta','hdi_5.5%'],\n",
    "                                                              summary.loc['beta','hdi_94.5%'])\n",
    "\n",
    "_= plt.plot(X,result['alpha'].mean() + result['beta'].mean() * X,\n",
    "            color='k',ls='dashed',label=label_1 + '\\n' + label_2)\n",
    "\n",
    "plt.xlabel('in [std]')\n",
    "plt.ylabel('energy [std]')\n",
    "\n",
    "plt.legend(loc='upper left')\n",
    "\n",
    "fill_kwargs = {'alpha': 0.5}\n",
    "az.plot_hpd(X, lines.T,ax=ax,color='c',fill_kwargs=fill_kwargs,hdi_prob=0.89)\n",
    "\n",
    "plt.scatter(df['in_std'],df['e_std'],color='crimson')"
   ]
  },
  {
   "cell_type": "code",
   "execution_count": null,
   "metadata": {},
   "outputs": [],
   "source": [
    "#model 3 : multi-regression {in,out} --> energy\n",
    "\n",
    "result = pd.DataFrame()\n",
    "summary = pd.DataFrame()\n",
    "\n",
    "x0 = df['out_std']\n",
    "x1 = df['in_std']\n",
    "\n",
    "model_3 = pm.Model()\n",
    "with model_3:\n",
    "    \n",
    "    alpha = pm.Normal('alpha',0,1)\n",
    "    beta = pm.Normal('beta',0,1,shape=2)\n",
    "    obs_sigma = pm.Exponential('obs_sigma',1)\n",
    "    \n",
    "    reg = alpha + beta[0] * x0 + beta[1] * x1\n",
    "    \n",
    "    lkh = pm.Normal('lkh',reg,obs_sigma,observed=df['e_std'])\n",
    "    \n",
    "    trace = pm.sample(500,tune=500)\n",
    "    \n",
    "    result = pm.trace_to_dataframe(trace)\n",
    "    \n",
    "    summary = az.summary(trace,hdi_prob=0.89)\n",
    "    \n",
    "    print (summary)\n",
    "    az.plot_trace(trace)"
   ]
  },
  {
   "cell_type": "code",
   "execution_count": null,
   "metadata": {},
   "outputs": [],
   "source": [
    "result.describe()"
   ]
  },
  {
   "cell_type": "code",
   "execution_count": null,
   "metadata": {},
   "outputs": [],
   "source": [
    "rows = np.random.choice(result.index,replace=True,size=nr_rows)\n",
    "\n",
    "lines = np.array([result.iloc[rows]['alpha'] + result.iloc[rows]['beta__0'] * X[i] \\\n",
    "                  + result.iloc[rows]['beta__1'] * X[i] for i in range(len(X))])"
   ]
  },
  {
   "cell_type": "code",
   "execution_count": null,
   "metadata": {},
   "outputs": [],
   "source": [
    "summary"
   ]
  },
  {
   "cell_type": "code",
   "execution_count": null,
   "metadata": {},
   "outputs": [],
   "source": [
    "_= plt.plot(X,lines,color='r',alpha=0.02)\n",
    "\n",
    "ax = plt.gca()\n",
    "\n",
    "label_1 = r'$\\alpha$ : {:.2f} [HPDI : {:.2f} .. {:.2f}]'.format(summary.loc['alpha','mean'],\n",
    "                                                                summary.loc['alpha','hdi_5.5%'],\n",
    "                                                                summary.loc['alpha','hdi_94.5%'])\n",
    "\n",
    "label_2 = r'$\\beta_0$ : {:.2f} [HPDI : {:.2f} .. {:.2f}]'.format(summary.loc['beta[0]','mean'],\n",
    "                                                              summary.loc['beta[0]','hdi_5.5%'],\n",
    "                                                              summary.loc['beta[0]','hdi_94.5%'])\n",
    "\n",
    "label_3 = r'$\\beta_1$ : {:.2f} [HPDI : {:.2f} .. {:.2f}]'.format(summary.loc['beta[1]','mean'],\n",
    "                                                              summary.loc['beta[1]','hdi_5.5%'],\n",
    "                                                              summary.loc['beta[1]','hdi_94.5%'])\n",
    "\n",
    "\n",
    "_= plt.plot(X,result['alpha'].mean() + result['beta__0'].mean() * X + result['beta__1'].mean() * X,\n",
    "            color='k',ls='dashed',label=label_1 + '\\n' + label_2 + '\\n' + label_3)\n",
    "\n",
    "plt.xlabel('in [std]')\n",
    "plt.ylabel('energy [std]')\n",
    "\n",
    "plt.legend(loc='upper left')\n",
    "\n",
    "fill_kwargs = {'alpha': 0.5}\n",
    "az.plot_hpd(X, lines.T,ax=ax,color='c',fill_kwargs=fill_kwargs,hdi_prob=0.89)\n",
    "\n",
    "plt.scatter(df['in_std'],df['e_std'],color='crimson')\n",
    "plt.scatter(df['out_std'],df['e_std'],color='green')"
   ]
  },
  {
   "cell_type": "code",
   "execution_count": null,
   "metadata": {},
   "outputs": [],
   "source": [
    "df_all[['out_std','in_std','e_std']] = df_all[['out','in','e']].apply(standardize)\n",
    "df_all\n"
   ]
  },
  {
   "cell_type": "code",
   "execution_count": null,
   "metadata": {
    "scrolled": false
   },
   "outputs": [],
   "source": [
    "# model 4 : two 'countries or houses with differing energy consumption, second has 10% more'\n",
    "\n",
    "x0 = df_all['out_std'].values\n",
    "x1 = df_all['in_std'].values \n",
    "\n",
    "country_idx = df_all['country_idx'].values\n",
    "\n",
    "result = pd.DataFrame()\n",
    "summary = pd.DataFrame()\n",
    "\n",
    "model_4 = pm.Model()\n",
    "with model_4:\n",
    "    \n",
    "    alpha = pm.Normal('alpha',0,10,shape=2)\n",
    "    beta = pm.Normal('beta',0,10,shape=(2,2))\n",
    "    obs_sigma = pm.Exponential('obs_sigma',1)\n",
    "\n",
    "    reg = alpha[country_idx] + x0 * beta[0,country_idx] + x1 * beta[1,country_idx]\n",
    "\n",
    "    lkh = pm.Normal('lkh',reg,obs_sigma,observed=df_all['e_std'])\n",
    "\n",
    "    trace = pm.sample(500,tune=500)\n",
    "\n",
    "    result = pm.trace_to_dataframe(trace)\n",
    "    \n",
    "    summary = az.summary(trace,hdi_prob=0.89)\n",
    "    \n",
    "    print (result.describe())\n",
    "    print (summary)\n",
    "    \n",
    "    az.plot_trace(trace)"
   ]
  },
  {
   "cell_type": "code",
   "execution_count": null,
   "metadata": {},
   "outputs": [],
   "source": [
    "rows = np.random.choice(result.index,replace=True,size=nr_rows)\n",
    "\n",
    "lines_0 = np.array([result.iloc[rows]['alpha__0'] + result.iloc[rows]['beta__0_0'] * X[i] \\\n",
    "                  + result.iloc[rows]['beta__1_0'] * X[i] for i in range(len(X))])\n",
    "\n",
    "lines_1 = np.array([result.iloc[rows]['alpha__1'] + result.iloc[rows]['beta__0_1'] * X[i] \\\n",
    "                  + result.iloc[rows]['beta__1_1'] * X[i] for i in range(len(X))])"
   ]
  },
  {
   "cell_type": "code",
   "execution_count": null,
   "metadata": {},
   "outputs": [],
   "source": [
    "_= plt.plot(X,lines_0,color='r',alpha=0.02)\n",
    "\n",
    "plt.plot(X,lines_1,color='g',alpha=0.02)\n",
    "\n",
    "\n",
    "ax = plt.gca()\n",
    "\n",
    "\n",
    "_= plt.plot(X,result['alpha__0'].mean() + result['beta__0_0'].mean() * X + result['beta__1_0'].mean() * X,\n",
    "            color='k',ls='dashed')\n",
    "\n",
    "_= plt.plot(X,result['alpha__1'].mean() + result['beta__0_1'].mean() * X + result['beta__1_1'].mean() * X,\n",
    "            color='k',ls='dashed')\n",
    "\n",
    "\n",
    "plt.xlabel('in [std]')\n",
    "plt.ylabel('energy [std]')\n",
    "\n",
    "plt.legend(loc='upper left')\n",
    "\n",
    "fill_kwargs = {'alpha': 0.5}\n",
    "az.plot_hpd(X, lines_0.T,ax=ax,color='c',fill_kwargs=fill_kwargs,hdi_prob=0.89)\n",
    "az.plot_hpd(X, lines_1.T,ax=ax,color='lime',fill_kwargs=fill_kwargs,hdi_prob=0.89)\n",
    "\n",
    "\n",
    "\n"
   ]
  }
 ],
 "metadata": {
  "kernelspec": {
   "display_name": "Python 3",
   "language": "python",
   "name": "python3"
  },
  "language_info": {
   "codemirror_mode": {
    "name": "ipython",
    "version": 3
   },
   "file_extension": ".py",
   "mimetype": "text/x-python",
   "name": "python",
   "nbconvert_exporter": "python",
   "pygments_lexer": "ipython3",
   "version": "3.8.5"
  }
 },
 "nbformat": 4,
 "nbformat_minor": 4
}
