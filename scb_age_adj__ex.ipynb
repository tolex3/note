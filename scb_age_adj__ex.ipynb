{
 "cells": [
  {
   "cell_type": "markdown",
   "metadata": {
    "id": "hxK4cRNKxKQt"
   },
   "source": [
    "# Python / Pandas example of age adjusted mortality using SCB's data"
   ]
  },
  {
   "cell_type": "code",
   "execution_count": null,
   "metadata": {
    "id": "FD94tnMWxwWh"
   },
   "outputs": [],
   "source": [
    "import numpy as np\n",
    "import matplotlib.pyplot as plt\n",
    "import seaborn as sns\n",
    "import pandas as pd\n",
    "import requests\n",
    "\n",
    "sns.set()\n"
   ]
  },
  {
   "cell_type": "code",
   "execution_count": null,
   "metadata": {},
   "outputs": [],
   "source": [
    "### PARAM ####\n",
    "\n",
    "last_good_week = 50 #my weeknr's is one less than calendar\n"
   ]
  },
  {
   "cell_type": "code",
   "execution_count": null,
   "metadata": {
    "id": "2BFe6yPgx8VS"
   },
   "outputs": [],
   "source": [
    "# get latest official population data from SCB, updated 2020-12-08, includes 2020\n",
    "pop_url = 'http://api.scb.se/OV0104/v1/doris/sv/ssd/START/BE/BE0101/BE0101A/FolkmangdNov'"
   ]
  },
  {
   "cell_type": "code",
   "execution_count": null,
   "metadata": {
    "id": "7SkJlewex8uy"
   },
   "outputs": [],
   "source": [
    "pop_json_data = {\n",
    "  \"query\": [\n",
    "    {\n",
    "      \"code\": \"Region\",\n",
    "      \"selection\": {\n",
    "        \"filter\": \"vs:RegionRiket99\",\n",
    "        \"values\": [\n",
    "          \"00\"\n",
    "        ]\n",
    "      }\n",
    "    },\n",
    "    {\n",
    "      \"code\": \"Alder\",\n",
    "      \"selection\": {\n",
    "        \"filter\": \"vs:Ålder1årA\",\n",
    "        \"values\": [\n",
    "          \"0\",\n",
    "          \"1\",\n",
    "          \"2\",\n",
    "          \"3\",\n",
    "          \"4\",\n",
    "          \"5\",\n",
    "          \"6\",\n",
    "          \"7\",\n",
    "          \"8\",\n",
    "          \"9\",\n",
    "          \"10\",\n",
    "          \"11\",\n",
    "          \"12\",\n",
    "          \"13\",\n",
    "          \"14\",\n",
    "          \"15\",\n",
    "          \"16\",\n",
    "          \"17\",\n",
    "          \"18\",\n",
    "          \"19\",\n",
    "          \"20\",\n",
    "          \"21\",\n",
    "          \"22\",\n",
    "          \"23\",\n",
    "          \"24\",\n",
    "          \"25\",\n",
    "          \"26\",\n",
    "          \"27\",\n",
    "          \"28\",\n",
    "          \"29\",\n",
    "          \"30\",\n",
    "          \"31\",\n",
    "          \"32\",\n",
    "          \"33\",\n",
    "          \"34\",\n",
    "          \"35\",\n",
    "          \"36\",\n",
    "          \"37\",\n",
    "          \"38\",\n",
    "          \"39\",\n",
    "          \"40\",\n",
    "          \"41\",\n",
    "          \"42\",\n",
    "          \"43\",\n",
    "          \"44\",\n",
    "          \"45\",\n",
    "          \"46\",\n",
    "          \"47\",\n",
    "          \"48\",\n",
    "          \"49\",\n",
    "          \"50\",\n",
    "          \"51\",\n",
    "          \"52\",\n",
    "          \"53\",\n",
    "          \"54\",\n",
    "          \"55\",\n",
    "          \"56\",\n",
    "          \"57\",\n",
    "          \"58\",\n",
    "          \"59\",\n",
    "          \"60\",\n",
    "          \"61\",\n",
    "          \"62\",\n",
    "          \"63\",\n",
    "          \"64\",\n",
    "          \"65\",\n",
    "          \"66\",\n",
    "          \"67\",\n",
    "          \"68\",\n",
    "          \"69\",\n",
    "          \"70\",\n",
    "          \"71\",\n",
    "          \"72\",\n",
    "          \"73\",\n",
    "          \"74\",\n",
    "          \"75\",\n",
    "          \"76\",\n",
    "          \"77\",\n",
    "          \"78\",\n",
    "          \"79\",\n",
    "          \"80\",\n",
    "          \"81\",\n",
    "          \"82\",\n",
    "          \"83\",\n",
    "          \"84\",\n",
    "          \"85\",\n",
    "          \"86\",\n",
    "          \"87\",\n",
    "          \"88\",\n",
    "          \"89\",\n",
    "          \"90\",\n",
    "          \"91\",\n",
    "          \"92\",\n",
    "          \"93\",\n",
    "          \"94\",\n",
    "          \"95\",\n",
    "          \"96\",\n",
    "          \"97\",\n",
    "          \"98\",\n",
    "          \"99\",\n",
    "          \"100+\"\n",
    "        ]\n",
    "      }\n",
    "    },\n",
    "    {\n",
    "      \"code\": \"Kon\",\n",
    "      \"selection\": {\n",
    "        \"filter\": \"item\",\n",
    "        \"values\": [\n",
    "          \"1\",\n",
    "          \"2\"\n",
    "        ]\n",
    "      }\n",
    "    }\n",
    "  ],\n",
    "  \"response\": {\n",
    "    \"format\": \"json\"\n",
    "  }\n",
    "}"
   ]
  },
  {
   "cell_type": "code",
   "execution_count": null,
   "metadata": {
    "colab": {
     "base_uri": "https://localhost:8080/"
    },
    "id": "Ckg8vMV2ylZn",
    "outputId": "3ddf75ab-ae55-42e7-e958-30b3a7979daa"
   },
   "outputs": [],
   "source": [
    "pop_r = requests.post(pop_url, json=pop_json_data)\n",
    "pop_r.status_code"
   ]
  },
  {
   "cell_type": "code",
   "execution_count": null,
   "metadata": {
    "colab": {
     "base_uri": "https://localhost:8080/"
    },
    "id": "VyvEVCR5x9FU",
    "outputId": "e1500b20-2ec3-4477-947a-7bd895ef9a94"
   },
   "outputs": [],
   "source": [
    "pop_json = pop_r.json()\n",
    "nr_recs = len(pop_json['data'])\n",
    "pop_json['data'][0]"
   ]
  },
  {
   "cell_type": "code",
   "execution_count": null,
   "metadata": {
    "id": "1xILFttZzqE0"
   },
   "outputs": [],
   "source": [
    "pop_list = []\n",
    "\n",
    "for rec in range(nr_recs):\n",
    "  pop_list.append([pop_json['data'][rec]['key'][1],\n",
    "                   pop_json['data'][rec]['key'][2],\n",
    "                   pop_json['data'][rec]['key'][3],\n",
    "                   pop_json['data'][rec]['values'][0]])\n",
    "  \n"
   ]
  },
  {
   "cell_type": "code",
   "execution_count": null,
   "metadata": {
    "colab": {
     "base_uri": "https://localhost:8080/",
     "height": 419
    },
    "id": "6Q_Cud551z5e",
    "outputId": "c9d79e8b-2ab6-4223-df51-7ec40bf68041"
   },
   "outputs": [],
   "source": [
    "pop_df = pd.DataFrame(pop_list,columns=['age','gender',\n",
    "                                        'year','pop'])\n",
    "\n",
    "pop_df['pop'] = pop_df['pop'].astype(int)\n",
    "\n",
    "pop_df['age'] = (pop_df['age'].apply(\n",
    "    lambda x : x.replace('+','')).astype(int))\n",
    "\n",
    "pop_df"
   ]
  },
  {
   "cell_type": "code",
   "execution_count": null,
   "metadata": {
    "colab": {
     "base_uri": "https://localhost:8080/",
     "height": 450
    },
    "id": "qduT1SP530M1",
    "outputId": "1bad1399-8ad5-4d95-aeef-57f881e68ede"
   },
   "outputs": [],
   "source": [
    "pop_df = pop_df.groupby(['year','age']).sum()\n",
    "pop_df"
   ]
  },
  {
   "cell_type": "code",
   "execution_count": null,
   "metadata": {
    "colab": {
     "base_uri": "https://localhost:8080/",
     "height": 669
    },
    "id": "Mq_M7K7O4ib4",
    "outputId": "5165664b-05fe-4dab-8aaf-6fe36033675d"
   },
   "outputs": [],
   "source": [
    "yearly_tot_pop = pop_df.groupby('year').sum()\n",
    "yearly_tot_pop"
   ]
  },
  {
   "cell_type": "code",
   "execution_count": null,
   "metadata": {
    "colab": {
     "base_uri": "https://localhost:8080/",
     "height": 669
    },
    "id": "5VUuDzCc4uGx",
    "outputId": "800c91bf-85aa-42bb-8680-a989eccbe30e"
   },
   "outputs": [],
   "source": [
    "pop_growth = yearly_tot_pop / yearly_tot_pop.shift()\n",
    "pop_growth"
   ]
  },
  {
   "cell_type": "code",
   "execution_count": null,
   "metadata": {
    "id": "YqzQDese6e8v"
   },
   "outputs": [],
   "source": [
    "# get official scb deaths for years up to 2019 "
   ]
  },
  {
   "cell_type": "code",
   "execution_count": null,
   "metadata": {
    "id": "bW0PcEF07Gcl"
   },
   "outputs": [],
   "source": [
    "#deaths\n",
    "dead_url = 'http://api.scb.se/OV0104/v1/doris/sv/ssd/START/BE/BE0101/BE0101I/DodaHandelseK'\n",
    "dead_json_data = {\n",
    "  \"query\": [\n",
    "    {\n",
    "      \"code\": \"Region\",\n",
    "      \"selection\": {\n",
    "        \"filter\": \"vs:RegionRiket99\",\n",
    "        \"values\": [\n",
    "          \"00\"\n",
    "        ]\n",
    "      }\n",
    "    },\n",
    "    {\n",
    "      \"code\": \"Alder\",\n",
    "      \"selection\": {\n",
    "        \"filter\": \"vs:Ålder1årA\",\n",
    "        \"values\": [\n",
    "          \"0\",\n",
    "          \"1\",\n",
    "          \"2\",\n",
    "          \"3\",\n",
    "          \"4\",\n",
    "          \"5\",\n",
    "          \"6\",\n",
    "          \"7\",\n",
    "          \"8\",\n",
    "          \"9\",\n",
    "          \"10\",\n",
    "          \"11\",\n",
    "          \"12\",\n",
    "          \"13\",\n",
    "          \"14\",\n",
    "          \"15\",\n",
    "          \"16\",\n",
    "          \"17\",\n",
    "          \"18\",\n",
    "          \"19\",\n",
    "          \"20\",\n",
    "          \"21\",\n",
    "          \"22\",\n",
    "          \"23\",\n",
    "          \"24\",\n",
    "          \"25\",\n",
    "          \"26\",\n",
    "          \"27\",\n",
    "          \"28\",\n",
    "          \"29\",\n",
    "          \"30\",\n",
    "          \"31\",\n",
    "          \"32\",\n",
    "          \"33\",\n",
    "          \"34\",\n",
    "          \"35\",\n",
    "          \"36\",\n",
    "          \"37\",\n",
    "          \"38\",\n",
    "          \"39\",\n",
    "          \"40\",\n",
    "          \"41\",\n",
    "          \"42\",\n",
    "          \"43\",\n",
    "          \"44\",\n",
    "          \"45\",\n",
    "          \"46\",\n",
    "          \"47\",\n",
    "          \"48\",\n",
    "          \"49\",\n",
    "          \"50\",\n",
    "          \"51\",\n",
    "          \"52\",\n",
    "          \"53\",\n",
    "          \"54\",\n",
    "          \"55\",\n",
    "          \"56\",\n",
    "          \"57\",\n",
    "          \"58\",\n",
    "          \"59\",\n",
    "          \"60\",\n",
    "          \"61\",\n",
    "          \"62\",\n",
    "          \"63\",\n",
    "          \"64\",\n",
    "          \"65\",\n",
    "          \"66\",\n",
    "          \"67\",\n",
    "          \"68\",\n",
    "          \"69\",\n",
    "          \"70\",\n",
    "          \"71\",\n",
    "          \"72\",\n",
    "          \"73\",\n",
    "          \"74\",\n",
    "          \"75\",\n",
    "          \"76\",\n",
    "          \"77\",\n",
    "          \"78\",\n",
    "          \"79\",\n",
    "          \"80\",\n",
    "          \"81\",\n",
    "          \"82\",\n",
    "          \"83\",\n",
    "          \"84\",\n",
    "          \"85\",\n",
    "          \"86\",\n",
    "          \"87\",\n",
    "          \"88\",\n",
    "          \"89\",\n",
    "          \"90\",\n",
    "          \"91\",\n",
    "          \"92\",\n",
    "          \"93\",\n",
    "          \"94\",\n",
    "          \"95\",\n",
    "          \"96\",\n",
    "          \"97\",\n",
    "          \"98\",\n",
    "          \"99\",\n",
    "          \"100+\"\n",
    "        ]\n",
    "      }\n",
    "      },\n",
    "    {\n",
    "      \"code\": \"Kon\",\n",
    "      \"selection\": {\n",
    "        \"filter\": \"item\",\n",
    "        \"values\": [\n",
    "          \"1\",\n",
    "          \"2\"\n",
    "        ]\n",
    "      }\n",
    "    }\n",
    "  ],\n",
    "  \"response\": {\n",
    "    \"format\": \"json\"\n",
    "  }\n",
    "}"
   ]
  },
  {
   "cell_type": "code",
   "execution_count": null,
   "metadata": {
    "colab": {
     "base_uri": "https://localhost:8080/"
    },
    "id": "Q3EC54Qx8Qdx",
    "outputId": "7cad8ea3-272d-4334-db87-743340d3e57e"
   },
   "outputs": [],
   "source": [
    "r_dead = requests.post(dead_url,json=dead_json_data)\n",
    "r_dead.status_code"
   ]
  },
  {
   "cell_type": "code",
   "execution_count": null,
   "metadata": {
    "colab": {
     "base_uri": "https://localhost:8080/"
    },
    "id": "uYAC6apF8jAJ",
    "outputId": "ba152a22-b1ea-46ca-f098-7b3eaeb4cda6"
   },
   "outputs": [],
   "source": [
    "dead_json = r_dead.json()\n",
    "nr_recs = len(dead_json['data'])\n",
    "data = dead_json['data']\n",
    "print (data[0])\n",
    "dead_list = []\n",
    "\n",
    "for rec in range (nr_recs):\n",
    "  dead_list.append([data[rec]['key'][1],\n",
    "                    data[rec]['key'][2],\n",
    "                    data[rec]['key'][3],\n",
    "                    data[rec]['values'][0]])\n",
    "  "
   ]
  },
  {
   "cell_type": "code",
   "execution_count": null,
   "metadata": {
    "colab": {
     "base_uri": "https://localhost:8080/",
     "height": 450
    },
    "id": "UheySrvF-8NQ",
    "outputId": "b1326ac1-0b7b-4b9b-dc2a-7ec3945ad54b"
   },
   "outputs": [],
   "source": [
    "dead_df = pd.DataFrame(dead_list,columns=['age',\n",
    "                                          'gender',\n",
    "                                          'year',\n",
    "                                          'dead'])\n",
    "\n",
    "dead_df['dead'] = dead_df['dead'].astype(int)\n",
    "\n",
    "dead_df['age'] = (dead_df['age'].apply(\n",
    "    lambda x : x.replace('+','')).astype(int))\n",
    "\n",
    "dead_df = dead_df.groupby(['year','age']).sum()\n",
    "dead_df\n",
    "\n"
   ]
  },
  {
   "cell_type": "code",
   "execution_count": null,
   "metadata": {
    "colab": {
     "base_uri": "https://localhost:8080/",
     "height": 450
    },
    "id": "RsEL4UjQAyPp",
    "outputId": "2b559cb1-034d-47c7-886e-0cdc0fed4236"
   },
   "outputs": [],
   "source": [
    "pop_data = pop_df.join(dead_df)\n",
    "pop_data = pop_data.replace(np.nan,0)\n",
    "pop_data"
   ]
  },
  {
   "cell_type": "code",
   "execution_count": null,
   "metadata": {
    "colab": {
     "base_uri": "https://localhost:8080/",
     "height": 450
    },
    "id": "ffNCIvNoCS2s",
    "outputId": "ff13f3e8-3ccd-46f1-e1ff-59c9ae8bc059"
   },
   "outputs": [],
   "source": [
    "# since the prel. SCB 2020 age grp death data are binned to 4 groups, we need to adjust our age grps accordingly \n",
    "pop_data['age_grp'] = pd.cut(pop_data.index.get_level_values(1),bins=[-1,64,79,89,200],labels=[64,79,89,200])\n",
    "pop_data"
   ]
  },
  {
   "cell_type": "code",
   "execution_count": null,
   "metadata": {
    "colab": {
     "base_uri": "https://localhost:8080/",
     "height": 450
    },
    "id": "xW-ovv9uFQAJ",
    "outputId": "4ece6bcb-ccc1-4079-8f3c-9cd3e0d8d438"
   },
   "outputs": [],
   "source": [
    "pop_data_4_grps = pop_data.groupby(['year','age_grp']).sum()\n",
    "pop_data_4_grps"
   ]
  },
  {
   "cell_type": "code",
   "execution_count": null,
   "metadata": {
    "id": "pwlkBrMSQ5Sa"
   },
   "outputs": [],
   "source": []
  },
  {
   "cell_type": "code",
   "execution_count": null,
   "metadata": {
    "colab": {
     "base_uri": "https://localhost:8080/"
    },
    "id": "XX-pdXH7Fljm",
    "outputId": "1a6c2f60-b9c0-4f1b-b3cd-08c30ee41260"
   },
   "outputs": [],
   "source": [
    "# fetch 2020 prel death data from SCB's excel file\n",
    "scb_excel = pd.ExcelFile('https://www.scb.se/hitta-statistik/statistik-efter-amne/befolkning/befolkningens-sammansattning/befolkningsstatistik/pong/tabell-och-diagram/preliminar-statistik-over-doda/')\n",
    "scb_excel.sheet_names\n",
    "\n"
   ]
  },
  {
   "cell_type": "code",
   "execution_count": null,
   "metadata": {},
   "outputs": [],
   "source": [
    "last_data_date = scb_excel.parse('Info',skiprows=1,usecols=[15]).dropna().iloc[0,0]\n",
    "last_data_date = pd.to_datetime(last_data_date).date()\n",
    "last_data_date"
   ]
  },
  {
   "cell_type": "code",
   "execution_count": null,
   "metadata": {
    "colab": {
     "base_uri": "https://localhost:8080/",
     "height": 1000
    },
    "id": "dZQ_xP9JF88q",
    "outputId": "7a5b4fae-4e16-4f29-a502-93fcc8c7c2c7"
   },
   "outputs": [],
   "source": [
    "scb_prel_dead = scb_excel.parse('Tabell 7',skiprows = 8,usecols=range(11,19))\n",
    "scb_prel_dead_orig = scb_prel_dead.copy()\n",
    "\n"
   ]
  },
  {
   "cell_type": "code",
   "execution_count": null,
   "metadata": {
    "colab": {
     "base_uri": "https://localhost:8080/"
    },
    "id": "6ero6Y4XHSUY",
    "outputId": "905fd88e-1053-41f4-c11d-e985053c304d"
   },
   "outputs": [],
   "source": [
    "unknowns = scb_prel_dead.iloc[53]\n",
    "unknowns.index = [64,79,89,200] * 2\n",
    "\n",
    "unknown_male = unknowns[:4]\n",
    "unknown_female = unknowns[4:]\n",
    "\n",
    "unknown_female.name='2020'\n",
    "unknown_male.name='2020'\n",
    "\n",
    "print (unknown_male,unknown_female)\n"
   ]
  },
  {
   "cell_type": "code",
   "execution_count": null,
   "metadata": {
    "colab": {
     "base_uri": "https://localhost:8080/",
     "height": 1000
    },
    "id": "4oqVkr_qHfLK",
    "outputId": "d6a5857e-cd89-41e8-9dc1-999c37e0ab3a"
   },
   "outputs": [],
   "source": [
    "scb_prel_dead = scb_prel_dead.loc[:52]\n",
    "scb_prel_dead"
   ]
  },
  {
   "cell_type": "code",
   "execution_count": null,
   "metadata": {
    "id": "IVR_I37rICSq"
   },
   "outputs": [],
   "source": [
    "scb_prel_dead_male = scb_prel_dead.iloc[:,:4]\n",
    "scb_prel_dead_male.columns=[64,79,89,200]\n",
    "scb_prel_dead_female = scb_prel_dead.iloc[:,4:]\n",
    "scb_prel_dead_female.columns = [64,79,89,200]\n"
   ]
  },
  {
   "cell_type": "code",
   "execution_count": null,
   "metadata": {
    "id": "hZipO8h_LW_o"
   },
   "outputs": [],
   "source": [
    "def allocate_unknowns(df,unknown):\n",
    "  daily_fraction = df / df.sum()\n",
    "  add_ons = daily_fraction * unknown\n",
    "  return df + add_ons"
   ]
  },
  {
   "cell_type": "code",
   "execution_count": null,
   "metadata": {
    "colab": {
     "base_uri": "https://localhost:8080/"
    },
    "id": "0VXwmuC5Mqns",
    "outputId": "2e857825-fc47-4c02-a156-561bd959c1f3"
   },
   "outputs": [],
   "source": [
    "unknown_male"
   ]
  },
  {
   "cell_type": "code",
   "execution_count": null,
   "metadata": {
    "colab": {
     "base_uri": "https://localhost:8080/",
     "height": 1000
    },
    "id": "YfE8O84eLlb6",
    "outputId": "6bc56ab8-cae9-4285-9ff4-02ea38bd0ebb"
   },
   "outputs": [],
   "source": [
    "corrected_male_dead = allocate_unknowns(scb_prel_dead_male,unknown_male)\n",
    "corrected_female_dead = allocate_unknowns(scb_prel_dead_female,unknown_female)\n",
    "\n",
    "corrected_dead = corrected_male_dead + corrected_female_dead\n",
    "corrected_dead"
   ]
  },
  {
   "cell_type": "code",
   "execution_count": null,
   "metadata": {
    "colab": {
     "base_uri": "https://localhost:8080/"
    },
    "id": "Cu23YTVjNUSp",
    "outputId": "b03582e4-4102-4a4c-ae14-5e49cf85bcf6"
   },
   "outputs": [],
   "source": [
    "print (scb_prel_dead_orig.sum(axis=1).sum())\n",
    "corrected_dead.sum(axis=1).sum()"
   ]
  },
  {
   "cell_type": "code",
   "execution_count": null,
   "metadata": {
    "colab": {
     "base_uri": "https://localhost:8080/",
     "height": 1000
    },
    "id": "rsIYTZfULTp8",
    "outputId": "a2155ac5-0a96-48ca-c8cf-1d73dc0b307e"
   },
   "outputs": [],
   "source": [
    "scb_prel_dead_combined = scb_prel_dead_male + scb_prel_dead_female\n",
    "scb_prel_dead_combined"
   ]
  },
  {
   "cell_type": "code",
   "execution_count": null,
   "metadata": {
    "colab": {
     "base_uri": "https://localhost:8080/"
    },
    "id": "mZDQSu_POKIk",
    "outputId": "17d7b63e-b91f-4e32-e561-4c4279cfa839"
   },
   "outputs": [],
   "source": [
    "scb_2020_age_grp_ytd = scb_prel_dead_combined.sum()\n",
    "scb_2020_age_grp_ytd"
   ]
  },
  {
   "cell_type": "code",
   "execution_count": null,
   "metadata": {
    "colab": {
     "base_uri": "https://localhost:8080/"
    },
    "id": "XG1hogsVOftu",
    "outputId": "27cf9686-c7b1-40a0-fc93-04f8a038d858"
   },
   "outputs": [],
   "source": [
    "multi_idx = pd.MultiIndex.from_arrays([['2020'] * 4,[64,79,89,200]])\n",
    "scb_2020_age_grp_ytd.index = multi_idx\n",
    "scb_2020_age_grp_ytd"
   ]
  },
  {
   "cell_type": "code",
   "execution_count": null,
   "metadata": {
    "colab": {
     "base_uri": "https://localhost:8080/",
     "height": 450
    },
    "id": "5AEU_SnjOtn8",
    "outputId": "c3cf5503-d25a-43da-a42d-b6c23c92751c"
   },
   "outputs": [],
   "source": [
    "pop_data_4_grps.loc['2020','dead'] = scb_2020_age_grp_ytd\n",
    "pop_data_4_grps              "
   ]
  },
  {
   "cell_type": "code",
   "execution_count": null,
   "metadata": {
    "colab": {
     "base_uri": "https://localhost:8080/",
     "height": 450
    },
    "id": "H8LwVgFDQ77h",
    "outputId": "09c2bd76-8d89-4668-d54a-94963a8f0003"
   },
   "outputs": [],
   "source": [
    "pop_data_4_grps['mortality'] = pop_data_4_grps['dead'] / pop_data_4_grps['pop']\n",
    "pop_data_4_grps"
   ]
  },
  {
   "cell_type": "code",
   "execution_count": null,
   "metadata": {
    "colab": {
     "base_uri": "https://localhost:8080/"
    },
    "id": "-cNyggG-RVEc",
    "outputId": "39349c83-32d6-4e3f-c57c-367a23b0210c"
   },
   "outputs": [],
   "source": [
    "std_pop = pop_data_4_grps.loc['2019','pop']\n",
    "std_pop"
   ]
  },
  {
   "cell_type": "code",
   "execution_count": null,
   "metadata": {
    "colab": {
     "base_uri": "https://localhost:8080/"
    },
    "id": "vKuwf530S0e1",
    "outputId": "c3305268-8210-4dbd-e672-09e02de9c438"
   },
   "outputs": [],
   "source": [
    "age_adj_dead = pop_data_4_grps['mortality'] * std_pop\n",
    "age_adj_dead"
   ]
  },
  {
   "cell_type": "code",
   "execution_count": null,
   "metadata": {
    "colab": {
     "base_uri": "https://localhost:8080/",
     "height": 450
    },
    "id": "OVq9GMe_TJuf",
    "outputId": "a0198cb8-86c2-40c0-dcc9-ece47b917159"
   },
   "outputs": [],
   "source": [
    "pop_data_4_grps['age_adj_dead'] = age_adj_dead\n",
    "pop_data_4_grps"
   ]
  },
  {
   "cell_type": "code",
   "execution_count": null,
   "metadata": {
    "colab": {
     "base_uri": "https://localhost:8080/"
    },
    "id": "_oZWvJHsTZ2Q",
    "outputId": "36a2c8a3-9130-48fd-dfb3-5199d15ec782"
   },
   "outputs": [],
   "source": [
    "age_adj_years = pop_data_4_grps.groupby('year')['age_adj_dead'].sum()\n",
    "age_adj_years"
   ]
  },
  {
   "cell_type": "code",
   "execution_count": null,
   "metadata": {
    "colab": {
     "base_uri": "https://localhost:8080/"
    },
    "id": "o67MEcsBTsbc",
    "outputId": "99f46e52-0a7f-4965-9c02-bc38032925ba"
   },
   "outputs": [],
   "source": [
    "age_adj_mort = age_adj_years / std_pop.sum()\n",
    "age_adj_mort"
   ]
  },
  {
   "cell_type": "code",
   "execution_count": null,
   "metadata": {
    "colab": {
     "base_uri": "https://localhost:8080/",
     "height": 754
    },
    "id": "hXdUfGW6T4N4",
    "outputId": "2d9bc810-14f2-47c5-c673-c3a92c01aac5"
   },
   "outputs": [],
   "source": [
    "colors = ['crimson'] * (len(age_adj_mort) - 1)\n",
    "colors.append('orange')\n",
    "last_good_data = last_data_date - pd.DateOffset(weeks=2)\n",
    "\n",
    "title = 'Age adj. mortality 2020 YTD {}, others full years. [based on 4 age grps, std year 2019]'.format(\n",
    "    last_good_data.date())\n",
    "\n",
    "age_adj_mort.plot(kind='bar',\n",
    "                  figsize=(18,12),\n",
    "                  title=title + '\\nPopulation data update: Nov. 2020' + '\\nDataSource : scb.se',color=colors)\n",
    "plt.ylabel('mortality')\n",
    "_= plt.yticks(np.arange(0,0.012,0.0005))\n",
    "plt.savefig('age_adj_mort_incl_nov_pop_update.jpg',format='jpg')"
   ]
  },
  {
   "cell_type": "code",
   "execution_count": null,
   "metadata": {},
   "outputs": [],
   "source": []
  },
  {
   "cell_type": "code",
   "execution_count": null,
   "metadata": {},
   "outputs": [],
   "source": [
    "param = 'pop'\n",
    "age_grp_y2y_growth = pop_data_4_grps[param].unstack() / pop_data_4_grps[param].unstack().shift()\n",
    "age_grp_y2y_growth"
   ]
  },
  {
   "cell_type": "code",
   "execution_count": null,
   "metadata": {},
   "outputs": [],
   "source": [
    "age_grp_y2y_growth.plot(figsize=(18,12),style='o--')\n",
    "plt.axhline(1,ls='dashed',color='k')\n",
    "_= plt.xticks(range(len(age_grp_y2y_growth)),age_grp_y2y_growth.index)"
   ]
  },
  {
   "cell_type": "code",
   "execution_count": null,
   "metadata": {},
   "outputs": [],
   "source": [
    "param = 'mortality'\n",
    "age_grp_y2y_mort_growth = pop_data_4_grps[param].unstack() / pop_data_4_grps[param].unstack().shift()\n",
    "age_grp_y2y_mort_growth"
   ]
  },
  {
   "cell_type": "code",
   "execution_count": null,
   "metadata": {},
   "outputs": [],
   "source": [
    "title = 'SWEDEN Y2Y age group mortality growth, 2003-2019\\nDataSource : SCB.se'\n",
    "age_grp_y2y_mort_growth[:-1].plot(figsize=(18,12),style='o--',title=title)\n",
    "_= plt.xticks(range(len(age_grp_y2y_mort_growth) -1 ),age_grp_y2y_mort_growth.index[:-1])\n",
    "plt.axhline(1,ls='dashed',color='k')\n",
    "plt.legend(['-64','65-79','80-80','90+'],title='age_grp')\n",
    "plt.ylabel('Y\"Y growth factor')"
   ]
  },
  {
   "cell_type": "code",
   "execution_count": null,
   "metadata": {},
   "outputs": [],
   "source": [
    "base_15_19_mort = pop_data_4_grps.loc['2015':'2019','mortality'].groupby(['age_grp']).mean()\n",
    "base_15_19_mort.index = [64,79,89,200]\n",
    "base_15_19_mort"
   ]
  },
  {
   "cell_type": "code",
   "execution_count": null,
   "metadata": {},
   "outputs": [],
   "source": [
    "ax = pop_data_4_grps.unstack()['mortality'].plot(figsize=(18,12),style='o--')\n",
    "for i in base_15_19_mort.index:\n",
    "    plt.axhline(base_15_19_mort[i],color='k',ls='dashed',lw=1)\n",
    " \n",
    "plt.yscale('log')\n",
    "_= plt.xticks(range(len(age_grp_y2y_mort_growth) ),age_grp_y2y_mort_growth.index)\n"
   ]
  },
  {
   "cell_type": "code",
   "execution_count": null,
   "metadata": {},
   "outputs": [],
   "source": [
    "pop_grp_dist = pop_data_4_grps['pop'].unstack().T / (pop_data_4_grps['pop'].unstack().T).sum()\n",
    "pop_grp_dist.T.plot(kind='bar',stacked=True,figsize=(18,12))\n",
    "_=plt.yticks(np.arange(0,1.05,0.05))\n"
   ]
  },
  {
   "cell_type": "code",
   "execution_count": null,
   "metadata": {},
   "outputs": [],
   "source": [
    "pop_grp_dist[['2002','2012','2020']].cumsum().plot(figsize=(18,12),style='o--')"
   ]
  },
  {
   "cell_type": "code",
   "execution_count": null,
   "metadata": {},
   "outputs": [],
   "source": [
    "all_age_grp_dist = pop_df.unstack().T / pop_df.unstack().T.sum()\n",
    "all_age_grp_dist = all_age_grp_dist.droplevel(0)\n",
    "all_age_grp_dist"
   ]
  },
  {
   "cell_type": "code",
   "execution_count": null,
   "metadata": {},
   "outputs": [],
   "source": [
    "ax = all_age_grp_dist['2015'].cumsum().plot(figsize=(18,12))\n",
    "all_age_grp_dist['2020'].cumsum().plot(ax=ax)"
   ]
  },
  {
   "cell_type": "code",
   "execution_count": null,
   "metadata": {},
   "outputs": [],
   "source": [
    "all_age_grp_dist[['2019','2020']].T.plot(kind='bar',stacked=True,figsize=(18,12))"
   ]
  },
  {
   "cell_type": "code",
   "execution_count": null,
   "metadata": {},
   "outputs": [],
   "source": [
    "pop_df.index.get_level_values(1)"
   ]
  },
  {
   "cell_type": "code",
   "execution_count": null,
   "metadata": {},
   "outputs": [],
   "source": [
    "pop_df['bin_10'] = pd.cut(pop_df.index.get_level_values(1),range(-1,111,10),labels=[10,20,30,40,50,60,70,80,90,100,110])\n",
    "pop_df"
   ]
  },
  {
   "cell_type": "code",
   "execution_count": null,
   "metadata": {},
   "outputs": [],
   "source": [
    "pop_df_bin_10 = pop_df.groupby(['year','bin_10']).sum()\n",
    "pop_df_bin_10"
   ]
  },
  {
   "cell_type": "code",
   "execution_count": null,
   "metadata": {},
   "outputs": [],
   "source": [
    "pop_df_bin_10_flat = pop_df_bin_10.unstack()\n",
    "pop_df_bin_10_flat = pop_df_bin_10_flat.droplevel(0,axis=1)\n",
    "pop_df_bin_10_flat"
   ]
  },
  {
   "cell_type": "code",
   "execution_count": null,
   "metadata": {},
   "outputs": [],
   "source": [
    "pop_df_bin_10_dist = pop_df_bin_10_flat.div(pop_df_bin_10_flat.sum(axis=1),axis=0)\n",
    "pop_df_bin_10_dist"
   ]
  },
  {
   "cell_type": "code",
   "execution_count": null,
   "metadata": {},
   "outputs": [],
   "source": [
    "pop_df_bin_10_dist / pop_df_bin_10_dist.shift()"
   ]
  },
  {
   "cell_type": "code",
   "execution_count": null,
   "metadata": {},
   "outputs": [],
   "source": [
    "baseline = pop_data_4_grps.loc['2015' :'2019'].groupby('age_grp').mean()\n",
    "baseline"
   ]
  },
  {
   "cell_type": "code",
   "execution_count": null,
   "metadata": {},
   "outputs": [],
   "source": [
    "pop_data_4_grps\n"
   ]
  },
  {
   "cell_type": "code",
   "execution_count": null,
   "metadata": {},
   "outputs": [],
   "source": [
    "title = 'SWEDEN Y2Y growth factor Age Adj. All Cause Mortality 2003 - 2019'\n",
    "age_adj_mort_y2y_growth = age_adj_mort / age_adj_mort.shift()\n",
    "age_adj_mort_y2y_growth[:-1].plot(figsize=(18,12),style='o--',title=title)\n",
    "_= plt.xticks(range(len(age_adj_mort_y2y_growth[:-1])),age_adj_mort_y2y_growth.index[:-1])\n",
    "plt.axhline(1,ls='dashed',color='k')\n",
    "plt.ylabel('Age Adj. Mortality Growth Factor')\n",
    "plt.savefig('swe_age_adj_mort_growth_factor.jpg',format='jpg')"
   ]
  },
  {
   "cell_type": "code",
   "execution_count": null,
   "metadata": {},
   "outputs": [],
   "source": [
    "age_adj_dead.groupby('year').sum()"
   ]
  },
  {
   "cell_type": "code",
   "execution_count": null,
   "metadata": {},
   "outputs": [],
   "source": [
    "age_adj_mort_baseline = age_adj_mort.loc['2015' : '2018'].mean()\n",
    "age_adj_mort_baseline"
   ]
  },
  {
   "cell_type": "code",
   "execution_count": null,
   "metadata": {},
   "outputs": [],
   "source": [
    "ax = age_adj_mort[:-1].plot(style='o--',figsize=(18,12))\n",
    "ax.axhline(age_adj_mort_baseline,ls='dashed',color='k')\n",
    "_= plt.xticks(range(len(age_adj_mort[:-1])),age_adj_mort.index[:-1])"
   ]
  },
  {
   "cell_type": "code",
   "execution_count": null,
   "metadata": {},
   "outputs": [],
   "source": [
    "# weekly deaths per age grp\n",
    "scb_prel_dead_combined.index = range(1,len(scb_prel_dead_combined) + 1)\n",
    "scb_prel_dead_combined.index.name='week'\n",
    "scb_prel_dead_combined"
   ]
  },
  {
   "cell_type": "code",
   "execution_count": null,
   "metadata": {},
   "outputs": [],
   "source": [
    "date_str = '2020-50-1'\n",
    "pd.to_datetime(date_str,format='%Y-%W-%w')\n",
    "\n",
    "week_nr_2_date = [pd.to_datetime(\n",
    "    '2020-' + str(x-1) + '-0',format='%Y-%W-%w') for x in scb_prel_dead_combined.index.values]\n",
    "\n"
   ]
  },
  {
   "cell_type": "code",
   "execution_count": null,
   "metadata": {},
   "outputs": [],
   "source": [
    "week_nr_2_date"
   ]
  },
  {
   "cell_type": "code",
   "execution_count": null,
   "metadata": {},
   "outputs": [],
   "source": [
    "pop_4_grps = pop_data_4_grps['pop']\n",
    "pop_4_grps = pop_4_grps.unstack()\n",
    "pop_4_grps"
   ]
  },
  {
   "cell_type": "code",
   "execution_count": null,
   "metadata": {},
   "outputs": [],
   "source": [
    "dead = pop_data_4_grps['dead']\n",
    "dead = dead.unstack()\n",
    "dead.drop('2020',inplace=True)\n",
    "dead"
   ]
  },
  {
   "cell_type": "code",
   "execution_count": null,
   "metadata": {},
   "outputs": [],
   "source": [
    "def add_2020_until_week(week,cumsum=True):\n",
    "    if cumsum:\n",
    "        return scb_prel_dead_combined.loc[:week].cumsum()\n",
    "    else:\n",
    "        return scb_prel_dead_combined.loc[:week]\n"
   ]
  },
  {
   "cell_type": "code",
   "execution_count": null,
   "metadata": {},
   "outputs": [],
   "source": [
    "cum_age_grp_dead_2020 = add_2020_until_week(last_good_week)\n",
    "cum_age_grp_dead_2020"
   ]
  },
  {
   "cell_type": "code",
   "execution_count": null,
   "metadata": {},
   "outputs": [],
   "source": [
    "cum_age_grp_dead_2020.iloc[-1].sum()"
   ]
  },
  {
   "cell_type": "code",
   "execution_count": null,
   "metadata": {},
   "outputs": [],
   "source": []
  },
  {
   "cell_type": "code",
   "execution_count": null,
   "metadata": {},
   "outputs": [],
   "source": [
    "cum_age_grp_mort_2020 = cum_age_grp_dead_2020 / pop_4_grps.loc['2020'] \n",
    "cum_age_grp_mort_2020"
   ]
  },
  {
   "cell_type": "code",
   "execution_count": null,
   "metadata": {},
   "outputs": [],
   "source": [
    "cum_age_adj_dead_2020 = cum_age_grp_mort_2020 * std_pop\n",
    "cum_age_adj_dead_2020.sum(axis=1)"
   ]
  },
  {
   "cell_type": "code",
   "execution_count": null,
   "metadata": {},
   "outputs": [],
   "source": [
    "weekly_age_adj_mort_2020 = cum_age_adj_dead_2020.sum(axis=1) / std_pop.sum()\n",
    "weekly_age_adj_mort_2020"
   ]
  },
  {
   "cell_type": "code",
   "execution_count": null,
   "metadata": {},
   "outputs": [],
   "source": [
    "title = \"SWEDEN weekly cumulative age adjusted mortality [std.year : 2019] 2020 YTD {}\".format(\n",
    "    week_nr_2_date[last_good_week].date())\n",
    "\n",
    "weekly_age_adj_mort_2020.plot(kind='bar',stacked=True,figsize=(18,12),title=title)\n",
    "_= plt.yticks(np.arange(0,0.009,0.0005))\n",
    "plt.ylabel('mortality')\n",
    "plt.savefig('swe_weekly_cum_age_adj_mortality.jpg',format='jpg')"
   ]
  },
  {
   "cell_type": "code",
   "execution_count": null,
   "metadata": {},
   "outputs": [],
   "source": [
    "age_grp_dead_2020 = add_2020_until_week(last_good_week,cumsum=False)\n",
    "age_grp_dead_2020"
   ]
  },
  {
   "cell_type": "code",
   "execution_count": null,
   "metadata": {},
   "outputs": [],
   "source": [
    "age_grp_dead_2020.sum(axis=1).sum()"
   ]
  },
  {
   "cell_type": "code",
   "execution_count": null,
   "metadata": {},
   "outputs": [],
   "source": [
    "weekly_mort_2020 = age_grp_dead_2020 / pop_4_grps.loc['2020']\n",
    "weekly_mort_2020"
   ]
  },
  {
   "cell_type": "code",
   "execution_count": null,
   "metadata": {},
   "outputs": [],
   "source": [
    "weekly_mort_2020"
   ]
  },
  {
   "cell_type": "code",
   "execution_count": null,
   "metadata": {},
   "outputs": [],
   "source": [
    "age_adj_weekly_deaths_2020 = weekly_mort_2020 * std_pop\n",
    "age_adj_weekly_deaths_2020"
   ]
  },
  {
   "cell_type": "code",
   "execution_count": null,
   "metadata": {},
   "outputs": [],
   "source": [
    "weekly_std_mort = age_adj_weekly_deaths_2020.sum(axis=1) / std_pop.sum()\n",
    "weekly_std_mort"
   ]
  },
  {
   "cell_type": "code",
   "execution_count": null,
   "metadata": {},
   "outputs": [],
   "source": [
    "weekly_age_adj_cum_mort_2020_2 = weekly_std_mort.cumsum()\n",
    "weekly_age_adj_cum_mort_2020_2"
   ]
  },
  {
   "cell_type": "code",
   "execution_count": null,
   "metadata": {},
   "outputs": [],
   "source": [
    "stacked = pd.DataFrame(weekly_std_mort).T\n",
    "stacked.index=['2020']\n",
    "stacked"
   ]
  },
  {
   "cell_type": "code",
   "execution_count": null,
   "metadata": {},
   "outputs": [],
   "source": [
    "stacked.plot(kind='bar',stacked=True,figsize=(18,12))\n",
    "_= plt.yticks(np.arange(0,0.009,0.0005))"
   ]
  },
  {
   "cell_type": "code",
   "execution_count": null,
   "metadata": {},
   "outputs": [],
   "source": [
    "age_adj_mort"
   ]
  },
  {
   "cell_type": "code",
   "execution_count": null,
   "metadata": {},
   "outputs": [],
   "source": [
    "scb_prel_dead_combined.index = week_nr_2_date\n",
    "scb_prel_dead_combined\n"
   ]
  },
  {
   "cell_type": "code",
   "execution_count": null,
   "metadata": {},
   "outputs": [],
   "source": [
    "scb_prel_dead_monthly = scb_prel_dead_combined.resample('M').sum()\n",
    "scb_prel_dead_monthly"
   ]
  },
  {
   "cell_type": "code",
   "execution_count": null,
   "metadata": {},
   "outputs": [],
   "source": [
    "monthly_mort_2020 = scb_prel_dead_monthly / pop_4_grps.loc['2020']\n",
    "monthly_mort_2020"
   ]
  },
  {
   "cell_type": "code",
   "execution_count": null,
   "metadata": {},
   "outputs": [],
   "source": [
    "std_monthly_deaths_2020 = monthly_mort_2020 * std_pop\n",
    "std_monthly_deaths_2020"
   ]
  },
  {
   "cell_type": "code",
   "execution_count": null,
   "metadata": {},
   "outputs": [],
   "source": [
    "std_monthly_deaths_2020"
   ]
  },
  {
   "cell_type": "code",
   "execution_count": null,
   "metadata": {},
   "outputs": [],
   "source": [
    "std_monthly_all_deaths_2020 = std_monthly_deaths_2020.sum(axis=1)\n",
    "std_monthly_all_deaths_2020"
   ]
  },
  {
   "cell_type": "code",
   "execution_count": null,
   "metadata": {},
   "outputs": [],
   "source": [
    "std_monthly_mortality_2020 = std_monthly_all_deaths_2020 / std_pop.sum()\n",
    "std_monthly_mortality_2020"
   ]
  },
  {
   "cell_type": "code",
   "execution_count": null,
   "metadata": {},
   "outputs": [],
   "source": [
    "std_monthly_mortality_cum_2020 = std_monthly_mortality_2020.cumsum()\n",
    "std_monthly_mortality_cum_2020"
   ]
  },
  {
   "cell_type": "code",
   "execution_count": null,
   "metadata": {},
   "outputs": [],
   "source": [
    "std_monthly_mortality_cum_2020 - std_monthly_mortality_cum_2020.shift()"
   ]
  },
  {
   "cell_type": "code",
   "execution_count": null,
   "metadata": {},
   "outputs": [],
   "source": [
    "title = 'SWEDEN age adjusted monthly mortality [std. year : 2019], December Month-to-Date'\n",
    "xticks = [x.strftime('%Y-%m-%d') for x in std_monthly_mortality_2020.index]\n",
    "std_monthly_mortality_2020[:-1].plot(kind='bar',title=title,figsize=(18,12))\n",
    "_= plt.xticks(range(len(std_monthly_mortality_2020.index) - 1),xticks[:-1])\n",
    "\n",
    "plt.ylabel('Monthly age adjusted mortality')"
   ]
  },
  {
   "cell_type": "code",
   "execution_count": null,
   "metadata": {},
   "outputs": [],
   "source": [
    "title = 'SWEDEN age adjusted monthly cumulative mortality [std. year : 2019], December Month-to-Date {}'.format(\n",
    "week_nr_2_date[last_good_week].date())\n",
    "\n",
    "std_monthly_mortality_cum_2020[:-1].plot(kind='bar',title=title,figsize=(18,12))\n",
    "_= plt.xticks(range(len(std_monthly_mortality_2020.index) - 1),xticks[:-1])\n",
    "\n",
    "plt.yticks(np.arange(0,0.009,0.0005))\n",
    "plt.ylabel('cumulative age adjusted mortality')"
   ]
  },
  {
   "cell_type": "code",
   "execution_count": null,
   "metadata": {},
   "outputs": [],
   "source": [
    "pop_data_4_grps"
   ]
  },
  {
   "cell_type": "code",
   "execution_count": null,
   "metadata": {},
   "outputs": [],
   "source": [
    "pop_data_4_grps.groupby('year').sum()"
   ]
  },
  {
   "cell_type": "code",
   "execution_count": null,
   "metadata": {
    "scrolled": false
   },
   "outputs": [],
   "source": [
    "pop_data_fractions = pop_data_4_grps[['pop','dead']] / pop_data_4_grps[['pop','dead']].groupby(['year']).sum()\n",
    "pop_data_fractions"
   ]
  },
  {
   "cell_type": "code",
   "execution_count": null,
   "metadata": {},
   "outputs": [],
   "source": [
    "pop_data_fractions['pop'].unstack().plot(kind='bar',stacked=True,figsize=(18,12))\n",
    "plt.legend(['-64','65-79','80-89','90+'])\n",
    "plt.ylim([0.75,1.01])"
   ]
  },
  {
   "cell_type": "code",
   "execution_count": null,
   "metadata": {},
   "outputs": [],
   "source": [
    "pop_data_fractions['dead'].unstack().plot(kind='bar',stacked=True,figsize=(18,12))\n",
    "plt.legend(['-64','65-79','80-89','90+'])\n"
   ]
  },
  {
   "cell_type": "code",
   "execution_count": null,
   "metadata": {},
   "outputs": [],
   "source": [
    "idx_dict = {64: '-64',\n",
    "           79 : '65-79',\n",
    "           89 : '80-89',\n",
    "           200 : '90+'}\n",
    "\n",
    "\n",
    "age_group = [idx_dict[idx] for idx in pop_data_4_grps.index.get_level_values(1)]"
   ]
  },
  {
   "cell_type": "code",
   "execution_count": null,
   "metadata": {},
   "outputs": [],
   "source": [
    "pop_data_4_grps['age_group'] = age_group\n",
    "pop_data_4_grps = pop_data_4_grps.reset_index().set_index(['year','age_group'])\n",
    "pop_data_4_grps.loc['2015':]"
   ]
  },
  {
   "cell_type": "code",
   "execution_count": null,
   "metadata": {},
   "outputs": [],
   "source": [
    "pop_delta_20_19 = pop_data_4_grps.loc['2020','pop'].sub(pop_data_4_grps.loc['2019','pop'],axis=0)\n",
    "pop_delta_20_19"
   ]
  },
  {
   "cell_type": "code",
   "execution_count": null,
   "metadata": {},
   "outputs": [],
   "source": [
    "pop_cmp_19_20 = pd.concat([pop_4_grps.loc['2019'],pop_4_grps.loc['2020']],axis=1)\n",
    "pop_cmp_19_20['delta'] = pop_cmp_19_20['2020'] - pop_cmp_19_20['2019']\n",
    "pop_cmp_19_20.index = ['64','65-79','80-89','90+']\n",
    "pop_cmp_19_20.plot(y='delta',kind='bar')\n",
    "pop_cmp_19_20"
   ]
  },
  {
   "cell_type": "code",
   "execution_count": null,
   "metadata": {},
   "outputs": [],
   "source": [
    "base_pop = pop_data_4_grps.loc['2015']\n",
    "base_pop"
   ]
  },
  {
   "cell_type": "code",
   "execution_count": null,
   "metadata": {},
   "outputs": [],
   "source": [
    "pop_data_4_grps.loc['2015':'2020','pop'] / base_pop['pop']"
   ]
  },
  {
   "cell_type": "code",
   "execution_count": null,
   "metadata": {},
   "outputs": [],
   "source": [
    "pop_data_4_grps.loc['2020','pop'] / pop_data_4_grps.loc['2019','pop']"
   ]
  },
  {
   "cell_type": "code",
   "execution_count": null,
   "metadata": {
    "scrolled": false
   },
   "outputs": [],
   "source": [
    "fig,axes = plt.subplots(3,2,figsize=(18,12))\n",
    "\n",
    "row = col = 0\n",
    "idx = 0\n",
    "\n",
    "for base_year in pop_4_grps.loc['2015':].index.get_level_values(0):\n",
    "\n",
    "    col = idx % 2\n",
    "    \n",
    "    if (idx > 0) and (col == 0):\n",
    "        row += 1\n",
    "    \n",
    "    growth_vs_base = pd.DataFrame(pop_data_4_grps.loc['2015':,'pop'] / pop_data_4_grps.loc[base_year,'pop'])\n",
    "    \n",
    "    growth_vs_base['pop'].plot(ax=axes[row,col],kind='bar',title='baseline-year : {}'.format(base_year))\n",
    "    \n",
    "    axes[row,col].axhline(1,ls='dashed',color='k')\n",
    "    \n",
    "    axes[row,col].set_ylabel('growth factor vs baseline')\n",
    "    \n",
    "    idx += 1\n",
    "        \n",
    "    axes[row,col].set_ylim([0.90,1.11])\n",
    "    \n",
    "plt.suptitle('SWEDEN population growth per age group cmp to different baseline years\\nDataSource : SCB.se')\n",
    "\n",
    "plt.tight_layout()\n",
    "plt.savefig('swe_why_age_matters.jpg',format='jpg')"
   ]
  },
  {
   "cell_type": "code",
   "execution_count": null,
   "metadata": {},
   "outputs": [],
   "source": [
    "fig,axes = plt.subplots(3,2,figsize=(18,12))\n",
    "\n",
    "row = col = 0\n",
    "idx = 0\n",
    "\n",
    "for base_year in pop_4_grps.loc['2015':].index.get_level_values(0):\n",
    "\n",
    "    col = idx % 2\n",
    "    \n",
    "    if (idx > 0) and (col == 0):\n",
    "        row += 1\n",
    "    \n",
    "    diff_vs_base = pd.DataFrame(pop_data_4_grps.loc['2015':,'pop'] - pop_data_4_grps.loc[base_year,'pop'])\n",
    "    \n",
    "    diff_vs_base['pop'].plot(ax=axes[row,col],kind='bar',title='baseline-year : {}'.format(base_year))\n",
    "    \n",
    "    axes[row,col].axhline(1,ls='dashed',color='k')\n",
    "    \n",
    "    axes[row,col].set_ylabel('growth factor vs baseline')\n",
    "    \n",
    "    idx += 1\n",
    "        \n",
    "    #axes[row,col].set_ylim([0.90,1.11])\n",
    "    \n",
    "plt.suptitle('SWEDEN population diff per age group cmp to different baseline years\\nDataSource : SCB.se')\n",
    "\n",
    "plt.tight_layout()    "
   ]
  },
  {
   "cell_type": "code",
   "execution_count": null,
   "metadata": {},
   "outputs": [],
   "source": [
    "pop_cmp_19_20"
   ]
  },
  {
   "cell_type": "code",
   "execution_count": null,
   "metadata": {},
   "outputs": [],
   "source": [
    "std_mort = pop_data_4_grps.loc['2015' : '2018','mortality'].groupby('age_group').mean()\n",
    "std_mort.index = ['64','65-79','80-89','90+']\n",
    "std_mort"
   ]
  },
  {
   "cell_type": "code",
   "execution_count": null,
   "metadata": {},
   "outputs": [],
   "source": [
    "# 2020 vs 2019 expected abs additional deaths; based on mortality avg 2015-2018\n",
    "\n",
    "expected_additional_deaths = pop_cmp_19_20['delta'] * std_mort\n",
    "expected_additional_deaths"
   ]
  },
  {
   "cell_type": "code",
   "execution_count": null,
   "metadata": {},
   "outputs": [],
   "source": [
    "dead_2019 = pop_data_4_grps.loc['2019','dead']\n",
    "dead_2019.index = ['64','65-79','80-89','90+']\n",
    "dead_2020 = pop_data_4_grps.loc['2020','dead']\n",
    "dead_2020.index = ['64','65-79','80-89','90+']\n",
    "dead_2020"
   ]
  },
  {
   "cell_type": "code",
   "execution_count": null,
   "metadata": {},
   "outputs": [],
   "source": [
    "pop_cmp_19_20['growth'] = pop_cmp_19_20['2020'] / pop_cmp_19_20['2019']\n",
    "pop_cmp_19_20['exp_add_deaths'] = expected_additional_deaths\n",
    "pop_cmp_19_20['mort_15-18'] = std_mort\n",
    "pop_cmp_19_20 = pop_cmp_19_20[['mort_15-18','2019','2020','delta','growth','exp_add_deaths']]\n",
    "\n",
    "pop_cmp_19_20 = pop_cmp_19_20.rename(columns={'2019' : 'pop_2019',\n",
    "                             '2020':'pop_2020',\n",
    "                             'delta':'pop_diff',\n",
    "                             'growth' : 'growth_factor'})\n",
    "pop_cmp_19_20"
   ]
  },
  {
   "cell_type": "code",
   "execution_count": null,
   "metadata": {},
   "outputs": [],
   "source": [
    "pop_cmp_19_20['dead_2019'] = dead_2019\n",
    "pop_cmp_19_20['dead_2020_YTD'] = dead_2020\n",
    "pop_cmp_19_20['dead_diff'] = pop_cmp_19_20['dead_2020_YTD'] - pop_cmp_19_20['dead_2019']\n",
    "pop_cmp_19_20['mort_2019'] = pop_cmp_19_20['dead_2019'] / pop_cmp_19_20['pop_2019']\n",
    "pop_cmp_19_20['mort_2020_YTD'] = pop_cmp_19_20['dead_2020_YTD'] / pop_cmp_19_20['pop_2020']\n",
    "pop_cmp_19_20"
   ]
  },
  {
   "cell_type": "code",
   "execution_count": null,
   "metadata": {},
   "outputs": [],
   "source": [
    "pop_cmp_19_20 = pop_cmp_19_20[['pop_2019','pop_2020','pop_diff','growth_factor',\n",
    "                              'dead_2019','dead_2020_YTD','dead_diff','exp_add_deaths',\n",
    "                               'mort_15-18','mort_2019','mort_2020_YTD']]\n",
    "\n",
    "pop_cmp_19_20"
   ]
  },
  {
   "cell_type": "code",
   "execution_count": null,
   "metadata": {},
   "outputs": [],
   "source": [
    "stats_19_20 = pop_cmp_19_20.sum().astype(int)\n",
    "stats_19_20 = stats_19_20.loc[stats_19_20 != 0]\n",
    "stats_19_20.drop('growth_factor',inplace=True)"
   ]
  },
  {
   "cell_type": "code",
   "execution_count": null,
   "metadata": {},
   "outputs": [],
   "source": [
    "stats_19_20['diff_vs_exp'] = stats_19_20['dead_diff'] - stats_19_20['exp_add_deaths']\n",
    "stats_19_20['dead_per_M_2019'] = stats_19_20['dead_2019'] / (stats_19_20['pop_2019'] / 1e6)\n",
    "stats_19_20['dead_per_M_2020_YTD'] = stats_19_20['dead_2020_YTD'] / (stats_19_20['pop_2020'] / 1e6)\n",
    "stats_19_20['excess_per_M'] = stats_19_20['dead_per_M_2020_YTD'] - stats_19_20['dead_per_M_2019']\n",
    "\n",
    "stats_19_20 = pd.DataFrame(stats_19_20).T\n",
    "stats_19_20"
   ]
  },
  {
   "cell_type": "code",
   "execution_count": null,
   "metadata": {},
   "outputs": [],
   "source": [
    "stats_19_20[['pop_2019','pop_2020','pop_diff','dead_2019',\n",
    "             'dead_2020_YTD','dead_diff','exp_add_deaths','diff_vs_exp']] = stats_19_20[['pop_2019','pop_2020','pop_diff','dead_2019',\n",
    "             'dead_2020_YTD','dead_diff','exp_add_deaths','diff_vs_exp']].astype(int)"
   ]
  },
  {
   "cell_type": "code",
   "execution_count": null,
   "metadata": {},
   "outputs": [],
   "source": [
    "stats_19_20"
   ]
  }
 ],
 "metadata": {
  "colab": {
   "name": "scb_age_adj__ex.ipynb",
   "provenance": []
  },
  "kernelspec": {
   "display_name": "Python 3",
   "language": "python",
   "name": "python3"
  },
  "language_info": {
   "codemirror_mode": {
    "name": "ipython",
    "version": 3
   },
   "file_extension": ".py",
   "mimetype": "text/x-python",
   "name": "python",
   "nbconvert_exporter": "python",
   "pygments_lexer": "ipython3",
   "version": "3.8.6"
  }
 },
 "nbformat": 4,
 "nbformat_minor": 1
}
