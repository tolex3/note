{
 "cells": [
  {
   "cell_type": "code",
   "execution_count": null,
   "metadata": {},
   "outputs": [],
   "source": [
    "import numpy as np\n",
    "import matplotlib.pyplot as plt\n",
    "import seaborn as sns\n",
    "import pandas as pd\n",
    "import pymc as pm\n",
    "from pymc.Matplot import plot as pmplot\n",
    "\n",
    "sns.set()\n",
    "\n"
   ]
  },
  {
   "cell_type": "code",
   "execution_count": null,
   "metadata": {},
   "outputs": [],
   "source": [
    "def strip(x):\n",
    "    return x.strip()\n",
    "\n",
    "df = pd.read_csv('joe_law.csv',sep=';',header=None,converters={0:strip},index_col=0,names=['US_news_rank'])\n",
    "\n",
    "def standardize(x,mean,std):\n",
    "    return (x - mean) / std\n",
    "\n",
    "df['WS_rank'] = range(1,len(df) + 1)\n",
    "df.sort_values('US_news_rank',inplace=True)\n",
    "\n",
    "df['WS_rank_std'] = df['WS_rank'].apply(standardize,args=(df['WS_rank'].mean(),df['WS_rank'].std()))\n",
    "df['US_news_rank_std'] = df['US_news_rank'].apply(standardize,args=(df['US_news_rank'].mean(),df['US_news_rank'].std()))\n",
    "\n",
    "df.sort_values('WS_rank',inplace=True)\n",
    "df"
   ]
  },
  {
   "cell_type": "code",
   "execution_count": null,
   "metadata": {},
   "outputs": [],
   "source": [
    "def inference(rank,rank2):\n",
    "    \n",
    "    x = rank\n",
    "    \n",
    "    alpha = pm.Normal('alpha',mu = 0, tau = 1 / 0.5 ** 2)\n",
    "    beta = pm.Normal('beta', mu = 0, tau = 1 / 0.5 ** 2)\n",
    "    \n",
    "    sigma = pm.Uniform('sigma',0,1)\n",
    "    \n",
    "    @pm.deterministic\n",
    "    def mu(x=x,alpha=alpha,beta=beta):\n",
    "        return x * beta + alpha\n",
    "    \n",
    "    \n",
    "    obs = pm.Normal('obs',mu=mu,tau = 1 / sigma ** 2,observed = True, value = rank2)\n",
    "    \n",
    "    model = pm.Model([alpha,beta,sigma,mu,obs])\n",
    "    \n",
    "    map_ = pm.MAP(model)\n",
    "    map_.fit()\n",
    "    \n",
    "    mcmc = pm.MCMC(model)\n",
    "    \n",
    "    sample = mcmc.sample(50000,10000,3)\n",
    "    \n",
    "    alpha_post = mcmc.trace('alpha')[:]\n",
    "    beta_post = mcmc.trace('beta')[:]\n",
    "    sigma_post = mcmc.trace('sigma')[:]\n",
    "    \n",
    "    pmplot(alpha_post,'alpha')\n",
    "    pmplot(beta_post,'beta')\n",
    "    pmplot(sigma_post,'sigma')\n",
    "    \n",
    "    result = pd.DataFrame({'alpha_post' : alpha_post,\n",
    "                          'beta_post' : beta_post,\n",
    "                          'sigma_post' : sigma_post})\n",
    "    \n",
    "    \n",
    "    return result\n",
    "\n"
   ]
  },
  {
   "cell_type": "code",
   "execution_count": null,
   "metadata": {
    "scrolled": false
   },
   "outputs": [],
   "source": [
    "result = inference(df['WS_rank_std'],df['US_news_rank_std'])\n",
    "\n",
    "\n"
   ]
  },
  {
   "cell_type": "code",
   "execution_count": null,
   "metadata": {
    "scrolled": false
   },
   "outputs": [],
   "source": [
    "print (result.describe())\n",
    "\n",
    "X = np.linspace(-2,2,1000)\n",
    "\n",
    "rows = np.random.choice(result.index,replace=True,size=len(X))\n",
    "\n",
    "lines = result.iloc[rows]\n",
    "\n",
    "samples = np.array([pm.rnormal(X[i] * result.beta_post[rows] + result.alpha_post[rows], \n",
    "                              1 / result.sigma_post[rows] ** 2,size=len(X)) for i in range(len(X))])\n",
    "\n",
    "CI_89 = np.percentile(samples,[5.5,94.5],axis=1)\n",
    "\n",
    "print (df.corr())\n",
    "print (np.corrcoef(df['WS_rank_std'],df['US_news_rank_std']))\n",
    "\n",
    "plt.figure(figsize=(18,12))\n",
    "plt.scatter(df['WS_rank_std'],df['US_news_rank_std'])\n",
    "plt.plot(X,[X[i] * lines.beta_post + lines.alpha_post for i in range(len(X))],color='r',alpha=0.01)\n",
    "\n",
    "plt.fill_between(X,CI_89[0],CI_89[1],color='c',alpha=0.1)\n",
    "\n",
    "plt.xlabel('WS ranking [STD]')\n",
    "plt.ylabel('US news ranking [STD]')\n",
    "plt.savefig('joe_law_correlation.jpg',format='jpg')"
   ]
  },
  {
   "cell_type": "code",
   "execution_count": null,
   "metadata": {},
   "outputs": [],
   "source": []
  }
 ],
 "metadata": {
  "kernelspec": {
   "display_name": "Python 3",
   "language": "python",
   "name": "python3"
  },
  "language_info": {
   "codemirror_mode": {
    "name": "ipython",
    "version": 3
   },
   "file_extension": ".py",
   "mimetype": "text/x-python",
   "name": "python",
   "nbconvert_exporter": "python",
   "pygments_lexer": "ipython3",
   "version": "3.6.9"
  }
 },
 "nbformat": 4,
 "nbformat_minor": 4
}
