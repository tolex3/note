{
 "cells": [
  {
   "cell_type": "code",
   "execution_count": null,
   "metadata": {},
   "outputs": [],
   "source": [
    "###### PARAM FOR LAST GOOD DATE BELOW TO BE SET ######\n",
    "###### PARAM FOR LAST COMPLETE MONTH DOWNSTREAM TO BET MANUALLY SET! ####\n",
    "\n",
    "import numpy as np\n",
    "import pandas as pd\n",
    "import matplotlib.pyplot as plt\n",
    "import seaborn as sns\n",
    "import requests\n",
    "\n",
    "sns.set()"
   ]
  },
  {
   "cell_type": "code",
   "execution_count": null,
   "metadata": {},
   "outputs": [],
   "source": [
    "#### the pymc models are weird - most times the don't sample first time ####\n"
   ]
  },
  {
   "cell_type": "code",
   "execution_count": null,
   "metadata": {},
   "outputs": [],
   "source": [
    "##### excess calculation example #####\n",
    "\n",
    "df_foo = pd.DataFrame({'pop' : [100,1000],'dead' : [1,20]},index=['Y1','Y2'])\n",
    "excess_foo = df_foo.loc['Y2','dead'] - df_foo.loc['Y1','dead']\n",
    "df_foo['mortality'] = df_foo['dead'] / df_foo['pop']\n",
    "diff_mortality = df_foo.loc['Y2','mortality'] - df_foo.loc['Y1','mortality']\n",
    "print (df_foo)\n",
    "print ('abs_exess',excess_foo)\n",
    "print ('diff mortality',diff_mortality)\n",
    "print ('scaled excess', diff_mortality * df_foo.loc['Y2','pop'])\n"
   ]
  },
  {
   "cell_type": "code",
   "execution_count": null,
   "metadata": {},
   "outputs": [],
   "source": [
    "def parse_scb_prel(YTD=True):\n",
    "    \n",
    "    def monthname2number(m):\n",
    "        if m == 'januari' : return 1\n",
    "        if m == 'februari' : return 2\n",
    "        if m == 'mars' : return 3\n",
    "        if m == 'april' : return 4\n",
    "        if m == 'maj' : return 5\n",
    "        if m == 'juni' : return 6\n",
    "        if m == 'juli' : return 7\n",
    "        if m == 'augusti' : return 8\n",
    "        if m == 'september' : return 9\n",
    "        if m == 'oktober' : return 10\n",
    "        if m == 'november' : return 11\n",
    "        if m == 'december' : return 12\n",
    "\n",
    "    df = pd.read_csv('scb-dead_per_day.csv',sep=';',usecols=[1,2,3,4,5,6,7,10,11],thousands=',')\n",
    "    \n",
    "    \n",
    "    df['month'] = df['Månad'].apply(monthname2number)\n",
    "    df[['Månad','month']] = df[['Månad','month']].replace(np.nan,0)\n",
    "    df['month'] = df['month'].astype(int)\n",
    "    \n",
    "    \n",
    "    df = df.replace(np.nan,0)\n",
    "\n",
    "    \n",
    "    df[['2015','2016','2017','2018','2019','2020','2015-2019']] = df[['2015','2016','2017','2018','2019','2020','2015-2019']].astype(int)\n",
    "\n",
    "    unknown_death_day = df.iloc[-1,:7]\n",
    "    \n",
    "    df.drop(366,inplace=True)\n",
    "    \n",
    "    if YTD:\n",
    "        df = df.loc[df['2020'] != 0]\n",
    "        \n",
    "    df = df.drop('Månad',axis=1)\n",
    "    \n",
    "    known_death_day = df.iloc[:,:7].sum()\n",
    "    \n",
    "    year_fraction = len(df) / 366\n",
    "    \n",
    "    unknown_death_day[['2015','2016','2017','2018','2019','2015-2019']] = unknown_death_day[\n",
    "    ['2015','2016','2017','2018','2019','2015-2019']] * year_fraction\n",
    "    \n",
    "    dead_pct_per_day = df[['2015','2016','2017','2018','2019','2020','2015-2019']] / known_death_day\n",
    "    \n",
    "    all_deaths = df[['2015','2016','2017','2018','2019','2020','2015-2019']] + unknown_death_day * dead_pct_per_day\n",
    "    \n",
    "    if YTD:\n",
    "        index = pd.date_range('2020-01-01',periods=len(all_deaths))\n",
    "    else:\n",
    "        index = pd.date_range('2020-01-01','2020-12-31')\n",
    "        \n",
    "    all_deaths.index = index\n",
    "    \n",
    "    return all_deaths\n",
    "    \n",
    "    "
   ]
  },
  {
   "cell_type": "code",
   "execution_count": null,
   "metadata": {},
   "outputs": [],
   "source": [
    "df = parse_scb_prel()\n"
   ]
  },
  {
   "cell_type": "code",
   "execution_count": null,
   "metadata": {},
   "outputs": [],
   "source": [
    "df"
   ]
  },
  {
   "cell_type": "code",
   "execution_count": null,
   "metadata": {},
   "outputs": [],
   "source": [
    "df['2015-2018_avg'] = df.loc[:,'2015' : '2018'].mean(axis=1)"
   ]
  },
  {
   "cell_type": "code",
   "execution_count": null,
   "metadata": {},
   "outputs": [],
   "source": [
    "#### PARAM ##### \n",
    "last_good_date = '2020-11-15'\n",
    "df = df.loc[:last_good_date].copy()\n",
    "df"
   ]
  },
  {
   "cell_type": "code",
   "execution_count": null,
   "metadata": {},
   "outputs": [],
   "source": [
    "df.sum()"
   ]
  },
  {
   "cell_type": "code",
   "execution_count": null,
   "metadata": {},
   "outputs": [],
   "source": [
    "df['excess'] = df['2020'] - df['2015-2018_avg']\n",
    "df.drop('2015-2019',axis=1,inplace=True)\n",
    "df"
   ]
  },
  {
   "cell_type": "code",
   "execution_count": null,
   "metadata": {},
   "outputs": [],
   "source": [
    "df.sum()"
   ]
  },
  {
   "cell_type": "code",
   "execution_count": null,
   "metadata": {},
   "outputs": [],
   "source": [
    "pop = pd.read_pickle('pop_2015_2020.pkl')\n",
    "pop.loc['excess'] = pop.loc['2020']\n",
    "pop.loc['2015-2018_avg'] = pop.loc['2015' : '2018'].mean()\n",
    "\n",
    "### setting the baseline pop to 2020 yields correct erroneous excess !!! #\n",
    "#pop.loc['2015-2018_avg'] = pop.loc['2020']\n",
    "###\n",
    "\n",
    "pop"
   ]
  },
  {
   "cell_type": "code",
   "execution_count": null,
   "metadata": {},
   "outputs": [],
   "source": [
    "## for excess to be correct, the diff must be obtained from dividing the abs diff with the pop ! ##\n",
    "df_per_m = df / (pop / 1e6 )\n",
    "\n",
    "# taking the diff after having made fractions yields wrong result! b/c populations are different!\n",
    "\n",
    "# that is: df_per_m['excess'] which gives correct result is divided by population 2020, \n",
    "# while df_per_m['wrong_excess'] is calculated by diff 2020 - baseline, where the deaths are \n",
    "# already divided by population 2015-2018_avg, a smaller population which results in larger abs numbers. \n",
    "\n",
    "### BOTTOM LINE : dont add/subtract fractions where the denominator is different! ###\n",
    "\n",
    "df_per_m['wrong_excess'] = df_per_m['2020'] - df_per_m['2015-2018_avg']\n",
    "\n",
    "df_per_m"
   ]
  },
  {
   "cell_type": "code",
   "execution_count": null,
   "metadata": {},
   "outputs": [],
   "source": [
    "# if you subtract fractions youll get wrong result! #\n",
    "per_m_diff = df_per_m['2020'] - df_per_m['2015-2018_avg']\n",
    "per_m_diff.sum()"
   ]
  },
  {
   "cell_type": "code",
   "execution_count": null,
   "metadata": {},
   "outputs": [],
   "source": [
    "df_per_m.sum()"
   ]
  },
  {
   "cell_type": "code",
   "execution_count": null,
   "metadata": {},
   "outputs": [],
   "source": [
    "df_per_m.cumsum().plot(y=['excess','wrong_excess'])"
   ]
  },
  {
   "cell_type": "code",
   "execution_count": null,
   "metadata": {},
   "outputs": [],
   "source": [
    "df['excess'].cumsum().plot()"
   ]
  },
  {
   "cell_type": "code",
   "execution_count": null,
   "metadata": {},
   "outputs": [],
   "source": [
    "df.sum() / pop"
   ]
  },
  {
   "cell_type": "code",
   "execution_count": null,
   "metadata": {},
   "outputs": [],
   "source": [
    "(df['excess'] / (pop.loc['2020'] / 1e6)).cumsum()"
   ]
  },
  {
   "cell_type": "code",
   "execution_count": null,
   "metadata": {},
   "outputs": [],
   "source": [
    "df.sum().loc['2020'] - df.sum().loc['2015-2018_avg']"
   ]
  },
  {
   "cell_type": "code",
   "execution_count": null,
   "metadata": {},
   "outputs": [],
   "source": [
    "df.sum()"
   ]
  },
  {
   "cell_type": "code",
   "execution_count": null,
   "metadata": {},
   "outputs": [],
   "source": [
    "pop_diff = pop.loc['2020'] - pop.loc['2015-2018_avg']\n",
    "pop_diff"
   ]
  },
  {
   "cell_type": "code",
   "execution_count": null,
   "metadata": {},
   "outputs": [],
   "source": [
    "dead_diff = df.sum().loc['2020'] - df.sum().loc['2015-2018_avg']\n",
    "dead_diff"
   ]
  },
  {
   "cell_type": "code",
   "execution_count": null,
   "metadata": {},
   "outputs": [],
   "source": [
    "dead_diff / (pop.loc['2020'] / 1e6)"
   ]
  },
  {
   "cell_type": "code",
   "execution_count": null,
   "metadata": {},
   "outputs": [],
   "source": [
    "df_per_m.sum()"
   ]
  },
  {
   "cell_type": "code",
   "execution_count": null,
   "metadata": {},
   "outputs": [],
   "source": [
    "dead_per_m_2020 = df_per_m.sum().loc['2020']\n",
    "dead_per_m_15_18 = df_per_m.sum().loc['2015-2018_avg']\n",
    "\n",
    "print (dead_per_m_15_18)\n",
    "print (dead_per_m_2020)"
   ]
  },
  {
   "cell_type": "code",
   "execution_count": null,
   "metadata": {},
   "outputs": [],
   "source": [
    "# diff in cum mortality expressed in millions\n",
    "dead_per_m_2020 - dead_per_m_15_18"
   ]
  },
  {
   "cell_type": "code",
   "execution_count": null,
   "metadata": {},
   "outputs": [],
   "source": [
    "# diff in mortality\n",
    "mort_diff = ((df.sum() / pop).loc['2020'] - (df.sum() / pop).loc['2015-2018_avg']) \n",
    "mort_diff"
   ]
  },
  {
   "cell_type": "code",
   "execution_count": null,
   "metadata": {},
   "outputs": [],
   "source": [
    "mortality = df_per_m.sum() / 1e6\n",
    "mortality\n"
   ]
  },
  {
   "cell_type": "code",
   "execution_count": null,
   "metadata": {},
   "outputs": [],
   "source": [
    "dead_2020 = mortality.loc['2020'] * pop.loc['2020']\n",
    "dead_15_18 = mortality.loc['2015-2018_avg'] * pop.loc['2015-2018_avg']\n",
    "\n",
    "print (dead_2020)\n",
    "print (dead_15_18)\n",
    "\n",
    "print (dead_2020 - dead_15_18)"
   ]
  },
  {
   "cell_type": "code",
   "execution_count": null,
   "metadata": {},
   "outputs": [],
   "source": [
    "pop"
   ]
  },
  {
   "cell_type": "code",
   "execution_count": null,
   "metadata": {},
   "outputs": [],
   "source": [
    "abs_totals = df.sum()\n",
    "abs_totals"
   ]
  },
  {
   "cell_type": "code",
   "execution_count": null,
   "metadata": {},
   "outputs": [],
   "source": [
    "mortality = abs_totals / pop\n",
    "mortality"
   ]
  },
  {
   "cell_type": "code",
   "execution_count": null,
   "metadata": {},
   "outputs": [],
   "source": [
    "mortality.loc['excess']"
   ]
  },
  {
   "cell_type": "code",
   "execution_count": null,
   "metadata": {},
   "outputs": [],
   "source": [
    "mort_diff * pop.loc['2020']"
   ]
  },
  {
   "cell_type": "code",
   "execution_count": null,
   "metadata": {},
   "outputs": [],
   "source": [
    "calc_deaths = mortality * pop\n",
    "calc_deaths"
   ]
  },
  {
   "cell_type": "code",
   "execution_count": null,
   "metadata": {},
   "outputs": [],
   "source": [
    "calc_diff = calc_deaths.loc['2020'] - calc_deaths.loc['2015-2018_avg']\n",
    "calc_diff"
   ]
  },
  {
   "cell_type": "code",
   "execution_count": null,
   "metadata": {},
   "outputs": [],
   "source": [
    "mortality"
   ]
  },
  {
   "cell_type": "code",
   "execution_count": null,
   "metadata": {},
   "outputs": [],
   "source": [
    "pop_adj_deaths = mortality * pop.loc['2020']\n",
    "\n",
    "pop_adj_deaths.index = pd.Categorical(pop_adj_deaths.index,\n",
    "                                      ['2015','2016','2017','2018','2019','2015-2018_avg','2020','excess'])\n",
    "\n",
    "pop_adj_deaths.sort_index(inplace=True)\n",
    "pop_adj_deaths"
   ]
  },
  {
   "cell_type": "code",
   "execution_count": null,
   "metadata": {
    "scrolled": false
   },
   "outputs": [],
   "source": [
    "colors = ['r'] * 5\n",
    "colors.extend(['crimson','crimson'])\n",
    "\n",
    "\n",
    "title = 'SWEDEN population adjusted [std year 2020] deaths 2015-2020 YTD {}'.format(df_per_m.index[-1].date())\n",
    "pop_adj_deaths[:-1].plot(kind='bar',figsize=(18,12),title=title,color=colors)\n",
    "_= plt.yticks(np.arange(0,90000,5000))\n",
    "plt.ylabel('pop adjusted deaths [std year 2020]')\n",
    "plt.savefig('swe_pop_adj_deaths_ytd_15_20.jpg',format='jpg')\n"
   ]
  },
  {
   "cell_type": "code",
   "execution_count": null,
   "metadata": {},
   "outputs": [],
   "source": [
    "df.sum()"
   ]
  },
  {
   "cell_type": "code",
   "execution_count": null,
   "metadata": {},
   "outputs": [],
   "source": [
    "from pandas.tseries.offsets import MonthEnd\n",
    "month_ends = df_per_m.index + MonthEnd(0)\n",
    "month_ends"
   ]
  },
  {
   "cell_type": "code",
   "execution_count": null,
   "metadata": {},
   "outputs": [],
   "source": [
    "#### historical monthly deaths\n",
    "\n",
    "url = 'http://api.scb.se/OV0104/v1/doris/sv/ssd/START/BE/BE0101/BE0101G/ManadFoddDod'\n",
    "\n",
    "data = {\n",
    "  \"query\": [\n",
    "    {\n",
    "      \"code\": \"Kon\",\n",
    "      \"selection\": {\n",
    "        \"filter\": \"item\",\n",
    "        \"values\": [\n",
    "          \"1\",\n",
    "          \"2\"\n",
    "        ]\n",
    "      }\n",
    "    },\n",
    "    {\n",
    "      \"code\": \"Manad\",\n",
    "      \"selection\": {\n",
    "        \"filter\": \"item\",\n",
    "        \"values\": [\n",
    "          \"01\",\n",
    "          \"02\",\n",
    "          \"03\",\n",
    "          \"04\",\n",
    "          \"05\",\n",
    "          \"06\",\n",
    "          \"07\",\n",
    "          \"08\",\n",
    "          \"09\",\n",
    "          \"10\",\n",
    "          \"11\",\n",
    "          \"12\",\n",
    "          \"90\"\n",
    "        ]\n",
    "      }\n",
    "    },\n",
    "    {\n",
    "      \"code\": \"ContentsCode\",\n",
    "      \"selection\": {\n",
    "        \"filter\": \"item\",\n",
    "        \"values\": [\n",
    "          \"000000NF\"\n",
    "        ]\n",
    "      }\n",
    "    }\n",
    "  ],\n",
    "  \"response\": {\n",
    "    \"format\": \"json\"\n",
    "  }\n",
    "}"
   ]
  },
  {
   "cell_type": "code",
   "execution_count": null,
   "metadata": {},
   "outputs": [],
   "source": [
    "r = requests.post(url,json=data)"
   ]
  },
  {
   "cell_type": "code",
   "execution_count": null,
   "metadata": {},
   "outputs": [],
   "source": [
    "r.status_code"
   ]
  },
  {
   "cell_type": "code",
   "execution_count": null,
   "metadata": {},
   "outputs": [],
   "source": [
    "json = r.json()\n",
    "json['data'][0]"
   ]
  },
  {
   "cell_type": "code",
   "execution_count": null,
   "metadata": {},
   "outputs": [],
   "source": [
    "data_list = []\n",
    "\n",
    "nr_records = (len(json['data']))\n",
    "\n",
    "for rec in range(nr_records):\n",
    "\n",
    "    data_list.append ((json['data'][rec]['key'][0],json['data'][rec]['key'][1],json['data'][rec]['key'][2],\n",
    "                        json['data'][rec]['values'][0]))\n",
    "\n"
   ]
  },
  {
   "cell_type": "code",
   "execution_count": null,
   "metadata": {},
   "outputs": [],
   "source": [
    "hist_deaths = pd.DataFrame(data_list,columns=['gender','month','year','deaths'])\n",
    "hist_deaths['deaths'] = hist_deaths['deaths'].astype(int)\n",
    "hist_deaths.head()"
   ]
  },
  {
   "cell_type": "code",
   "execution_count": null,
   "metadata": {},
   "outputs": [],
   "source": [
    "hist_deaths = hist_deaths.groupby(['year','month']).sum()\n",
    "hist_deaths"
   ]
  },
  {
   "cell_type": "code",
   "execution_count": null,
   "metadata": {},
   "outputs": [],
   "source": [
    "yearly_sums = hist_deaths.groupby('year').sum()\n",
    "yearly_sums"
   ]
  },
  {
   "cell_type": "code",
   "execution_count": null,
   "metadata": {},
   "outputs": [],
   "source": [
    "unknown_month_mask = hist_deaths.index.get_level_values('month') == '90'\n",
    "unknown_month_mask"
   ]
  },
  {
   "cell_type": "code",
   "execution_count": null,
   "metadata": {},
   "outputs": [],
   "source": [
    "unknown_death_months = hist_deaths.loc[unknown_month_mask]['deaths']\n",
    "unknown_death_months = unknown_death_months.reset_index().set_index('year')\n",
    "unknown_death_months"
   ]
  },
  {
   "cell_type": "code",
   "execution_count": null,
   "metadata": {},
   "outputs": [],
   "source": [
    "hist_deaths = (hist_deaths.loc[~unknown_month_mask]).copy()\n",
    "hist_deaths"
   ]
  },
  {
   "cell_type": "code",
   "execution_count": null,
   "metadata": {},
   "outputs": [],
   "source": [
    "# wow! \n",
    "hist_deaths['ratio_of_year'] = hist_deaths / hist_deaths.groupby('year').sum()\n",
    "hist_deaths"
   ]
  },
  {
   "cell_type": "code",
   "execution_count": null,
   "metadata": {},
   "outputs": [],
   "source": [
    "hist_deaths.groupby('year').sum()"
   ]
  },
  {
   "cell_type": "code",
   "execution_count": null,
   "metadata": {},
   "outputs": [],
   "source": [
    "hist_deaths\n"
   ]
  },
  {
   "cell_type": "code",
   "execution_count": null,
   "metadata": {},
   "outputs": [],
   "source": [
    "hist_deaths = hist_deaths.reset_index().set_index('year')\n",
    "hist_deaths"
   ]
  },
  {
   "cell_type": "code",
   "execution_count": null,
   "metadata": {},
   "outputs": [],
   "source": [
    "hist_deaths['corr_deaths'] = unknown_death_months['deaths'] * hist_deaths['ratio_of_year'] + hist_deaths['deaths']\n",
    "hist_deaths['delta'] = hist_deaths['corr_deaths'] - hist_deaths['deaths']\n",
    "hist_deaths"
   ]
  },
  {
   "cell_type": "code",
   "execution_count": null,
   "metadata": {},
   "outputs": [],
   "source": [
    "hist_deaths.groupby(hist_deaths.index).sum()"
   ]
  },
  {
   "cell_type": "code",
   "execution_count": null,
   "metadata": {},
   "outputs": [],
   "source": [
    "yearly_sums"
   ]
  },
  {
   "cell_type": "code",
   "execution_count": null,
   "metadata": {},
   "outputs": [],
   "source": [
    "hist_deaths"
   ]
  },
  {
   "cell_type": "code",
   "execution_count": null,
   "metadata": {},
   "outputs": [],
   "source": [
    "dates = pd.to_datetime(hist_deaths.index + '-' + hist_deaths['month'],infer_datetime_format=True)\n",
    "dates"
   ]
  },
  {
   "cell_type": "code",
   "execution_count": null,
   "metadata": {},
   "outputs": [],
   "source": [
    "hist_deaths.index = dates\n",
    "hist_deaths"
   ]
  },
  {
   "cell_type": "code",
   "execution_count": null,
   "metadata": {},
   "outputs": [],
   "source": [
    "hist_deaths_ytd = hist_deaths.copy()\n",
    "hist_deaths_ytd = hist_deaths_ytd['corr_deaths']\n",
    "hist_deaths_ytd"
   ]
  },
  {
   "cell_type": "code",
   "execution_count": null,
   "metadata": {},
   "outputs": [],
   "source": [
    "(hist_deaths_ytd[hist_deaths_ytd.index.get_level_values(0) == 2019]).sum()"
   ]
  },
  {
   "cell_type": "code",
   "execution_count": null,
   "metadata": {},
   "outputs": [],
   "source": [
    "df = df.astype(float)\n",
    "df.info()"
   ]
  },
  {
   "cell_type": "code",
   "execution_count": null,
   "metadata": {},
   "outputs": [],
   "source": [
    "df_monthly = df.resample('M').sum()\n",
    "df_monthly.sum()"
   ]
  },
  {
   "cell_type": "code",
   "execution_count": null,
   "metadata": {},
   "outputs": [],
   "source": [
    "hist_deaths_ytd = pd.concat([hist_deaths_ytd,df_monthly['2020']])\n",
    "hist_deaths_ytd"
   ]
  },
  {
   "cell_type": "code",
   "execution_count": null,
   "metadata": {},
   "outputs": [],
   "source": [
    "hist_deaths_ytd.tail(50)"
   ]
  },
  {
   "cell_type": "code",
   "execution_count": null,
   "metadata": {},
   "outputs": [],
   "source": [
    "hist_deaths_ytd.plot(figsize=(18,12))"
   ]
  },
  {
   "cell_type": "code",
   "execution_count": null,
   "metadata": {},
   "outputs": [],
   "source": [
    "plt.figure(figsize=(18,12))\n",
    "plt.title('SWEDEN monthly abs deaths 1851 - 2020 YTD {}'.format(hist_deaths_ytd.index[-2].date()))\n",
    "plt.plot(hist_deaths_ytd[:-1])\n",
    "plt.ylabel('number of deaths per month')\n",
    "plt.savefig('swe_historical_abs_deaths.jpg',format='jpg')"
   ]
  },
  {
   "cell_type": "code",
   "execution_count": null,
   "metadata": {},
   "outputs": [],
   "source": [
    "## population 1860 - 2020\n",
    "\n",
    "pop_url = 'http://api.scb.se/OV0104/v1/doris/sv/ssd/START/BE/BE0101/BE0101A/BefolkningR1860'\n",
    "\n",
    "pop_data = {\n",
    "  \"query\": [\n",
    "    {\n",
    "      \"code\": \"Alder\",\n",
    "      \"selection\": {\n",
    "        \"filter\": \"vs:Ålder1årA\",\n",
    "        \"values\": [\n",
    "          \"0\",\n",
    "          \"1\",\n",
    "          \"2\",\n",
    "          \"3\",\n",
    "          \"4\",\n",
    "          \"5\",\n",
    "          \"6\",\n",
    "          \"7\",\n",
    "          \"8\",\n",
    "          \"9\",\n",
    "          \"10\",\n",
    "          \"11\",\n",
    "          \"12\",\n",
    "          \"13\",\n",
    "          \"14\",\n",
    "          \"15\",\n",
    "          \"16\",\n",
    "          \"17\",\n",
    "          \"18\",\n",
    "          \"19\",\n",
    "          \"20\",\n",
    "          \"21\",\n",
    "          \"22\",\n",
    "          \"23\",\n",
    "          \"24\",\n",
    "          \"25\",\n",
    "          \"26\",\n",
    "          \"27\",\n",
    "          \"28\",\n",
    "          \"29\",\n",
    "          \"30\",\n",
    "          \"31\",\n",
    "          \"32\",\n",
    "          \"33\",\n",
    "          \"34\",\n",
    "          \"35\",\n",
    "          \"36\",\n",
    "          \"37\",\n",
    "          \"38\",\n",
    "          \"39\",\n",
    "          \"40\",\n",
    "          \"41\",\n",
    "          \"42\",\n",
    "          \"43\",\n",
    "          \"44\",\n",
    "          \"45\",\n",
    "          \"46\",\n",
    "          \"47\",\n",
    "          \"48\",\n",
    "          \"49\",\n",
    "          \"50\",\n",
    "          \"51\",\n",
    "          \"52\",\n",
    "          \"53\",\n",
    "          \"54\",\n",
    "          \"55\",\n",
    "          \"56\",\n",
    "          \"57\",\n",
    "          \"58\",\n",
    "          \"59\",\n",
    "          \"60\",\n",
    "          \"61\",\n",
    "          \"62\",\n",
    "          \"63\",\n",
    "          \"64\",\n",
    "          \"65\",\n",
    "          \"66\",\n",
    "          \"67\",\n",
    "          \"68\",\n",
    "          \"69\",\n",
    "          \"70\",\n",
    "          \"71\",\n",
    "          \"72\",\n",
    "          \"73\",\n",
    "          \"74\",\n",
    "          \"75\",\n",
    "          \"76\",\n",
    "          \"77\",\n",
    "          \"78\",\n",
    "          \"79\",\n",
    "          \"80\",\n",
    "          \"81\",\n",
    "          \"82\",\n",
    "          \"83\",\n",
    "          \"84\",\n",
    "          \"85\",\n",
    "          \"86\",\n",
    "          \"87\",\n",
    "          \"88\",\n",
    "          \"89\",\n",
    "          \"90\",\n",
    "          \"91\",\n",
    "          \"92\",\n",
    "          \"93\",\n",
    "          \"94\",\n",
    "          \"95\",\n",
    "          \"96\",\n",
    "          \"97\",\n",
    "          \"98\",\n",
    "          \"99\",\n",
    "          \"100+\"\n",
    "        ]\n",
    "      }\n",
    "    },\n",
    "    {\n",
    "      \"code\": \"Kon\",\n",
    "      \"selection\": {\n",
    "        \"filter\": \"item\",\n",
    "        \"values\": [\n",
    "          \"1\",\n",
    "          \"2\"\n",
    "        ]\n",
    "      }\n",
    "    }\n",
    "  ],\n",
    "  \"response\": {\n",
    "    \"format\": \"json\"\n",
    "  }\n",
    "}"
   ]
  },
  {
   "cell_type": "code",
   "execution_count": null,
   "metadata": {},
   "outputs": [],
   "source": [
    "r_pop = requests.post(pop_url, json=pop_data)"
   ]
  },
  {
   "cell_type": "code",
   "execution_count": null,
   "metadata": {},
   "outputs": [],
   "source": [
    "r_pop.status_code"
   ]
  },
  {
   "cell_type": "code",
   "execution_count": null,
   "metadata": {},
   "outputs": [],
   "source": [
    "pop_json = r_pop.json()\n",
    "pop_json['data'][0]"
   ]
  },
  {
   "cell_type": "code",
   "execution_count": null,
   "metadata": {},
   "outputs": [],
   "source": [
    "pop_list = []\n",
    "\n",
    "nr_records = (len(pop_json['data']))\n",
    "\n",
    "for rec in range(nr_records):\n",
    "\n",
    "    pop_list.append ((pop_json['data'][rec]['key'][0],pop_json['data'][rec]['key'][1],\n",
    "                       pop_json['data'][rec]['key'][2],\n",
    "                        pop_json['data'][rec]['values'][0]))\n",
    "\n"
   ]
  },
  {
   "cell_type": "code",
   "execution_count": null,
   "metadata": {},
   "outputs": [],
   "source": [
    "l = list(range(0,100))\n",
    "\n",
    "str_l = [str(i) for i in l]\n",
    "\n",
    "str_l.append('100+')\n",
    "str_l"
   ]
  },
  {
   "cell_type": "code",
   "execution_count": null,
   "metadata": {},
   "outputs": [],
   "source": [
    "pop_df = pd.DataFrame(pop_list,columns=['age','gender','year','pop'])\n",
    "pop_df['pop'] = pop_df['pop'].astype(int)\n",
    "pop_df['age'] = pd.Categorical(pop_df['age'],str_l)\n"
   ]
  },
  {
   "cell_type": "code",
   "execution_count": null,
   "metadata": {},
   "outputs": [],
   "source": [
    "pop_df = pop_df.sort_values(['year','age'])\n",
    "pop_df"
   ]
  },
  {
   "cell_type": "code",
   "execution_count": null,
   "metadata": {},
   "outputs": [],
   "source": [
    "pop_df = pop_df.groupby(['year','age']).sum()\n",
    "pop_df"
   ]
  },
  {
   "cell_type": "code",
   "execution_count": null,
   "metadata": {},
   "outputs": [],
   "source": [
    "pop_df.loc['2019'].sum()"
   ]
  },
  {
   "cell_type": "code",
   "execution_count": null,
   "metadata": {},
   "outputs": [],
   "source": [
    "total_pops = pop_df.groupby('year').sum()\n",
    "total_pops.index = pd.to_datetime(total_pops.index).year"
   ]
  },
  {
   "cell_type": "code",
   "execution_count": null,
   "metadata": {},
   "outputs": [],
   "source": [
    "total_pops"
   ]
  },
  {
   "cell_type": "code",
   "execution_count": null,
   "metadata": {},
   "outputs": [],
   "source": [
    "hist_deaths_ytd.resample('Y').sum()"
   ]
  },
  {
   "cell_type": "code",
   "execution_count": null,
   "metadata": {},
   "outputs": [],
   "source": [
    "yearly_abs_deaths = hist_deaths_ytd.resample('Y').sum()\n",
    "\n",
    "yearly_abs_deaths.index = yearly_abs_deaths.index.year"
   ]
  },
  {
   "cell_type": "code",
   "execution_count": null,
   "metadata": {},
   "outputs": [],
   "source": [
    "yearly_abs_deaths"
   ]
  },
  {
   "cell_type": "code",
   "execution_count": null,
   "metadata": {},
   "outputs": [],
   "source": [
    "# includes partial 2020 deaths ! #\n",
    "\n",
    "title='SWEDEN population 1861 - 2019'\n",
    "#ax = yearly_abs_deaths[:-1].plot(label='abs_deaths',style='ro--',figsize=(18,12),title=title)\n",
    "#ax.legend(loc='upper left')\n",
    "#ax.set_ylabel('abs deaths')\n",
    "#ax = plt.gca()\n",
    "#ax2 = plt.twinx()\n",
    "total_pops.plot(style='bo--',figsize=(18,12),title=title)\n",
    "plt.ylabel('population')\n",
    "plt.xlabel('year')\n",
    "plt.legend(loc='upper left')\n",
    "#ax2.legend(loc='upper right')\n",
    "#ax2.set_ylabel('population')\n",
    "\n",
    "plt.savefig('awe_pop_1861_2019.jpg',format='jpg')"
   ]
  },
  {
   "cell_type": "code",
   "execution_count": null,
   "metadata": {},
   "outputs": [],
   "source": [
    "hist_deaths_ytd"
   ]
  },
  {
   "cell_type": "code",
   "execution_count": null,
   "metadata": {},
   "outputs": [],
   "source": [
    "total_pops.loc['2020','pop'] = np.nan\n",
    "total_pops = total_pops.shift()\n",
    "total_pops"
   ]
  },
  {
   "cell_type": "code",
   "execution_count": null,
   "metadata": {},
   "outputs": [],
   "source": [
    "foo = hist_deaths_ytd.groupby([hist_deaths_ytd.index.year]).sum()\n",
    "foo.index.name='year'\n",
    "foo"
   ]
  },
  {
   "cell_type": "code",
   "execution_count": null,
   "metadata": {},
   "outputs": [],
   "source": [
    "hist_deaths_ytd = pd.DataFrame(hist_deaths_ytd)\n",
    "hist_deaths_ytd['year'] = hist_deaths_ytd.index.year\n",
    "hist_deaths_ytd.columns=['dead','year']"
   ]
  },
  {
   "cell_type": "code",
   "execution_count": null,
   "metadata": {},
   "outputs": [],
   "source": [
    "hist_deaths_ytd"
   ]
  },
  {
   "cell_type": "code",
   "execution_count": null,
   "metadata": {},
   "outputs": [],
   "source": [
    "total_pops.index = pd.to_datetime(total_pops.index,format='%Y')\n",
    "total_pops['y'] = total_pops.index.year\n",
    "total_pops"
   ]
  },
  {
   "cell_type": "code",
   "execution_count": null,
   "metadata": {},
   "outputs": [],
   "source": [
    "total_pops.reset_index()"
   ]
  },
  {
   "cell_type": "code",
   "execution_count": null,
   "metadata": {},
   "outputs": [],
   "source": [
    "hist_deaths_ytd = hist_deaths_ytd.reset_index()\n",
    "hist_deaths_ytd"
   ]
  },
  {
   "cell_type": "code",
   "execution_count": null,
   "metadata": {},
   "outputs": [],
   "source": [
    "hist_deaths_ytd = hist_deaths_ytd.set_index('year')\n",
    "hist_deaths_ytd"
   ]
  },
  {
   "cell_type": "code",
   "execution_count": null,
   "metadata": {},
   "outputs": [],
   "source": [
    "total_pops = total_pops.set_index('y')\n",
    "total_pops"
   ]
  },
  {
   "cell_type": "code",
   "execution_count": null,
   "metadata": {},
   "outputs": [],
   "source": [
    "mortality_per_month = hist_deaths_ytd['dead'] / total_pops['pop']\n",
    "mortality_per_month = pd.DataFrame(mortality_per_month,columns=['mortality'])\n",
    "mortality_per_month"
   ]
  },
  {
   "cell_type": "code",
   "execution_count": null,
   "metadata": {},
   "outputs": [],
   "source": [
    "mortality_per_month.index = hist_deaths_ytd['index']\n",
    "mortality_per_month['month'] = mortality_per_month.index.month\n",
    "mortality_per_month"
   ]
  },
  {
   "cell_type": "code",
   "execution_count": null,
   "metadata": {},
   "outputs": [],
   "source": [
    "mortality_per_month = mortality_per_month.dropna()"
   ]
  },
  {
   "cell_type": "code",
   "execution_count": null,
   "metadata": {},
   "outputs": [],
   "source": [
    "mortality_per_month"
   ]
  },
  {
   "cell_type": "code",
   "execution_count": null,
   "metadata": {},
   "outputs": [],
   "source": [
    "### param ### \n",
    "last_complete_month = 10\n",
    "###\n",
    "\n",
    "full_mortality_per_month = mortality_per_month.copy()\n",
    "\n",
    "mortality_per_month = mortality_per_month.loc[mortality_per_month['month'] <= last_complete_month]\n"
   ]
  },
  {
   "cell_type": "code",
   "execution_count": null,
   "metadata": {},
   "outputs": [],
   "source": [
    "yearly_mortality = mortality_per_month.groupby(mortality_per_month.index.year).sum()\n",
    "yearly_mortality"
   ]
  },
  {
   "cell_type": "code",
   "execution_count": null,
   "metadata": {},
   "outputs": [],
   "source": [
    "title = 'SWEDEN monthly mortality 1861 - 2020, for period Jan 1:st - {} last'.format(\n",
    "mortality_per_month.index[-1].month_name())\n",
    "mortality_per_month.plot(y='mortality',figsize=(18,12),title=title)\n",
    "plt.ylabel('YTD monthly mortality')\n",
    "plt.xlabel('year')"
   ]
  },
  {
   "cell_type": "code",
   "execution_count": null,
   "metadata": {},
   "outputs": [],
   "source": [
    "mortality_per_month.index[-1].date()"
   ]
  },
  {
   "cell_type": "code",
   "execution_count": null,
   "metadata": {},
   "outputs": [],
   "source": [
    "yearly_mortality.plot(y='mortality',figsize=(18,12),style='o--',\n",
    "                      title='SWEDEN mortality YTD 1861 - 2020, for period Jan 1st - {} last'.format(\n",
    "mortality_per_month.index[-1].month_name()))\n",
    "\n",
    "plt.ylabel('YTD mortality')\n",
    "plt.xlabel('year')\n",
    "\n",
    "plt.savefig('swe_historical_mortality_YTD_1861_2020.jpg',format='jpg')"
   ]
  },
  {
   "cell_type": "code",
   "execution_count": null,
   "metadata": {},
   "outputs": [],
   "source": [
    "(mortality_per_month.loc['2020-01-01' :,'mortality' ]).plot(style='o--')\n",
    "mortality_per_month"
   ]
  },
  {
   "cell_type": "code",
   "execution_count": null,
   "metadata": {},
   "outputs": [],
   "source": [
    "year_month_mortality = mortality_per_month.groupby([mortality_per_month.index.year,\n",
    "                                                    mortality_per_month.index.month]).mean()\n",
    "\n",
    "year_month_mortality = year_month_mortality.droplevel(level=1)\n",
    "year_month_mortality"
   ]
  },
  {
   "cell_type": "code",
   "execution_count": null,
   "metadata": {},
   "outputs": [],
   "source": []
  },
  {
   "cell_type": "code",
   "execution_count": null,
   "metadata": {},
   "outputs": [],
   "source": [
    "avg_mortality_15_18 = year_month_mortality.loc['2015' : '2018'].groupby('month').mean()\n",
    "avg_mortality_15_18"
   ]
  },
  {
   "cell_type": "code",
   "execution_count": null,
   "metadata": {},
   "outputs": [],
   "source": [
    "monthly_mort_2020 = mortality_per_month.loc['2020-01-01' :,'mortality']\n",
    "monthly_mort_2020"
   ]
  },
  {
   "cell_type": "code",
   "execution_count": null,
   "metadata": {},
   "outputs": [],
   "source": [
    "title = 'SWEDEN 2020 monthly mortality Jan 1:st - {} last cmp baseline 2015-2018'.format(\n",
    "    mortality_per_month.index[-1].month_name())\n",
    "\n",
    "ax = avg_mortality_15_18.reset_index().plot(y='mortality',title=title,\n",
    "                                            style='o--',label='avg 15-18',figsize=(18,12))\n",
    "\n",
    "(mortality_per_month.loc['2020-01-01' :,'mortality' ]).reset_index().plot(style='o--',y='mortality',\n",
    "                                                                          label='2020',ax=ax)\n",
    "\n",
    "plt.xticks(range(len(avg_mortality_15_18)),range(1,len(avg_mortality_15_18) + 1))\n",
    "plt.xlabel('month')\n",
    "plt.ylabel('monthly mortality')\n",
    "plt.legend(loc='upper left')\n",
    "\n",
    "ax2 = plt.twinx()\n",
    "\n",
    "ax2.plot(avg_mortality_15_18['mortality'].values.cumsum(),'x--',label='avg 15-18 cumulative mortality YTD')\n",
    "ax2.plot(monthly_mort_2020.values.cumsum(),'x--',label='2020 cumulative mortality YTD')\n",
    "\n",
    "ax2.set_ylabel('cumulative mortality YTD')\n",
    "ax2.legend(loc='upper center')\n",
    "plt.savefig('swe_monthly_mortality_vs_baseline.jpg',format='jpg')"
   ]
  },
  {
   "cell_type": "code",
   "execution_count": null,
   "metadata": {},
   "outputs": [],
   "source": [
    "death_url = 'http://api.scb.se/OV0104/v1/doris/sv/ssd/START/BE/BE0101/BE0101I/DodaFodelsearK'\n",
    "\n",
    "death_data = {\n",
    "  \"query\": [\n",
    "    {\n",
    "      \"code\": \"Region\",\n",
    "      \"selection\": {\n",
    "        \"filter\": \"vs:RegionRiket99\",\n",
    "        \"values\": [\n",
    "          \"00\"\n",
    "        ]\n",
    "      }\n",
    "    },\n",
    "    {\n",
    "      \"code\": \"Alder\",\n",
    "      \"selection\": {\n",
    "        \"filter\": \"vs:Ålder1årA\",\n",
    "        \"values\": [\n",
    "          \"0\",\n",
    "          \"1\",\n",
    "          \"2\",\n",
    "          \"3\",\n",
    "          \"4\",\n",
    "          \"5\",\n",
    "          \"6\",\n",
    "          \"7\",\n",
    "          \"8\",\n",
    "          \"9\",\n",
    "          \"10\",\n",
    "          \"11\",\n",
    "          \"12\",\n",
    "          \"13\",\n",
    "          \"14\",\n",
    "          \"15\",\n",
    "          \"16\",\n",
    "          \"17\",\n",
    "          \"18\",\n",
    "          \"19\",\n",
    "          \"20\",\n",
    "          \"21\",\n",
    "          \"22\",\n",
    "          \"23\",\n",
    "          \"24\",\n",
    "          \"25\",\n",
    "          \"26\",\n",
    "          \"27\",\n",
    "          \"28\",\n",
    "          \"29\",\n",
    "          \"30\",\n",
    "          \"31\",\n",
    "          \"32\",\n",
    "          \"33\",\n",
    "          \"34\",\n",
    "          \"35\",\n",
    "          \"36\",\n",
    "          \"37\",\n",
    "          \"38\",\n",
    "          \"39\",\n",
    "          \"40\",\n",
    "          \"41\",\n",
    "          \"42\",\n",
    "          \"43\",\n",
    "          \"44\",\n",
    "          \"45\",\n",
    "          \"46\",\n",
    "          \"47\",\n",
    "          \"48\",\n",
    "          \"49\",\n",
    "          \"50\",\n",
    "          \"51\",\n",
    "          \"52\",\n",
    "          \"53\",\n",
    "          \"54\",\n",
    "          \"55\",\n",
    "          \"56\",\n",
    "          \"57\",\n",
    "          \"58\",\n",
    "          \"59\",\n",
    "          \"60\",\n",
    "          \"61\",\n",
    "          \"62\",\n",
    "          \"63\",\n",
    "          \"64\",\n",
    "          \"65\",\n",
    "          \"66\",\n",
    "          \"67\",\n",
    "          \"68\",\n",
    "          \"69\",\n",
    "          \"70\",\n",
    "          \"71\",\n",
    "          \"72\",\n",
    "          \"73\",\n",
    "          \"74\",\n",
    "          \"75\",\n",
    "          \"76\",\n",
    "          \"77\",\n",
    "          \"78\",\n",
    "          \"79\",\n",
    "          \"80\",\n",
    "          \"81\",\n",
    "          \"82\",\n",
    "          \"83\",\n",
    "          \"84\",\n",
    "          \"85\",\n",
    "          \"86\",\n",
    "          \"87\",\n",
    "          \"88\",\n",
    "          \"89\",\n",
    "          \"90\",\n",
    "          \"91\",\n",
    "          \"92\",\n",
    "          \"93\",\n",
    "          \"94\",\n",
    "          \"95\",\n",
    "          \"96\",\n",
    "          \"97\",\n",
    "          \"98\",\n",
    "          \"99\",\n",
    "          \"100+\"\n",
    "        ]\n",
    "      }\n",
    "    },\n",
    "    {\n",
    "      \"code\": \"Kon\",\n",
    "      \"selection\": {\n",
    "        \"filter\": \"item\",\n",
    "        \"values\": [\n",
    "          \"1\",\n",
    "          \"2\"\n",
    "        ]\n",
    "      }\n",
    "    }\n",
    "  ],\n",
    "  \"response\": {\n",
    "    \"format\": \"json\"\n",
    "  }\n",
    "}"
   ]
  },
  {
   "cell_type": "code",
   "execution_count": null,
   "metadata": {},
   "outputs": [],
   "source": [
    "r_death_age = requests.post(death_url,json=death_data)\n",
    "r_death_age.status_code"
   ]
  },
  {
   "cell_type": "code",
   "execution_count": null,
   "metadata": {},
   "outputs": [],
   "source": [
    "death_age_json = r_death_age.json()\n",
    "death_age_json['data'][0]"
   ]
  },
  {
   "cell_type": "code",
   "execution_count": null,
   "metadata": {},
   "outputs": [],
   "source": [
    "death_age_list = []\n",
    "\n",
    "nr_records = (len(death_age_json['data']))\n",
    "\n",
    "for rec in range(nr_records):\n",
    "\n",
    "    death_age_list.append ((death_age_json['data'][rec]['key'][0],death_age_json['data'][rec]['key'][1],\n",
    "                       death_age_json['data'][rec]['key'][2],death_age_json['data'][rec]['key'][3],\n",
    "                        death_age_json['data'][rec]['values'][0]))\n",
    "\n"
   ]
  },
  {
   "cell_type": "code",
   "execution_count": null,
   "metadata": {},
   "outputs": [],
   "source": [
    "death_age_df = pd.DataFrame(death_age_list,columns=['riket','age','gender','year','deaths'])\n",
    "death_age_df['deaths'] = death_age_df['deaths'].astype(int)\n",
    "death_age_df"
   ]
  },
  {
   "cell_type": "code",
   "execution_count": null,
   "metadata": {},
   "outputs": [],
   "source": [
    "death_age_df['age'] = pd.Categorical(death_age_df['age'],str_l)\n",
    "\n",
    "death_age_df = death_age_df.groupby(['year','age']).sum()\n",
    "\n",
    "death_age_df"
   ]
  },
  {
   "cell_type": "code",
   "execution_count": null,
   "metadata": {},
   "outputs": [],
   "source": [
    "pop_df"
   ]
  },
  {
   "cell_type": "code",
   "execution_count": null,
   "metadata": {},
   "outputs": [],
   "source": [
    "age_mortality = death_age_df['deaths'] /pop_df['pop'] \n",
    "age_mortality.dropna(inplace=True)"
   ]
  },
  {
   "cell_type": "code",
   "execution_count": null,
   "metadata": {},
   "outputs": [],
   "source": [
    "age_mortality = pd.DataFrame(age_mortality,columns=['mortality'])\n",
    "age_mortality = age_mortality.reset_index().set_index('year')\n",
    "age_mortality"
   ]
  },
  {
   "cell_type": "code",
   "execution_count": null,
   "metadata": {},
   "outputs": [],
   "source": [
    "pop_df_mask = pop_df.index.get_level_values(0) == '2019'\n",
    "age_std_pop = pop_df[pop_df_mask]\n",
    "age_std_pop = age_std_pop.reset_index().set_index('year')\n",
    "age_std_pop"
   ]
  },
  {
   "cell_type": "code",
   "execution_count": null,
   "metadata": {},
   "outputs": [],
   "source": [
    "nr_unique_years = len(age_mortality.index.unique())\n",
    "\n",
    "age_mortality['std_pop'] = np.tile(age_std_pop['pop'],nr_unique_years)\n",
    "age_mortality['age_adj_deaths'] = age_mortality['mortality'] * age_mortality['std_pop']\n",
    "age_mortality"
   ]
  },
  {
   "cell_type": "code",
   "execution_count": null,
   "metadata": {},
   "outputs": [],
   "source": [
    "age_adj_deaths = age_mortality.groupby('year').sum()\n",
    "age_adj_deaths['age_pop_adj_mortality'] = age_adj_deaths['age_adj_deaths'] / age_std_pop['pop'].sum()\n",
    "age_adj_deaths"
   ]
  },
  {
   "cell_type": "code",
   "execution_count": null,
   "metadata": {},
   "outputs": [],
   "source": [
    "yearly_mortality"
   ]
  },
  {
   "cell_type": "code",
   "execution_count": null,
   "metadata": {},
   "outputs": [],
   "source": [
    "\n",
    "age_adj_deaths.plot(kind='bar',y='age_pop_adj_mortality',figsize=(18,12))\n",
    "_= plt.yticks(np.arange(0,0.02,0.001))"
   ]
  },
  {
   "cell_type": "code",
   "execution_count": null,
   "metadata": {},
   "outputs": [],
   "source": [
    "yearly_mortality.loc[1968:2019]"
   ]
  },
  {
   "cell_type": "code",
   "execution_count": null,
   "metadata": {},
   "outputs": [],
   "source": [
    "pop_df"
   ]
  },
  {
   "cell_type": "code",
   "execution_count": null,
   "metadata": {},
   "outputs": [],
   "source": [
    "death_age_df.reset_index(inplace=True)"
   ]
  },
  {
   "cell_type": "code",
   "execution_count": null,
   "metadata": {},
   "outputs": [],
   "source": [
    "def str_2_int(s):\n",
    "    if s[-1] == '+':\n",
    "        return int(s[:-1])\n",
    "    return int(s)\n",
    "\n",
    "death_age_df['age_num'] = (death_age_df['age'].apply(str_2_int)).astype(int)"
   ]
  },
  {
   "cell_type": "code",
   "execution_count": null,
   "metadata": {},
   "outputs": [],
   "source": [
    "death_age_df"
   ]
  },
  {
   "cell_type": "code",
   "execution_count": null,
   "metadata": {},
   "outputs": [],
   "source": [
    "death_age_df['grp'] = pd.cut(death_age_df.reset_index()['age_num'],[-1,64,79,89,1000])\n",
    "death_age_df"
   ]
  },
  {
   "cell_type": "code",
   "execution_count": null,
   "metadata": {},
   "outputs": [],
   "source": []
  },
  {
   "cell_type": "code",
   "execution_count": null,
   "metadata": {},
   "outputs": [],
   "source": [
    "grp_death = death_age_df.groupby(['year','grp']).sum()\n",
    "grp_death"
   ]
  },
  {
   "cell_type": "code",
   "execution_count": null,
   "metadata": {},
   "outputs": [],
   "source": []
  },
  {
   "cell_type": "code",
   "execution_count": null,
   "metadata": {},
   "outputs": [],
   "source": [
    "pop_df.reset_index(inplace=True)\n",
    "pop_df['age_num'] = (pop_df['age'].apply(str_2_int)).astype(int)"
   ]
  },
  {
   "cell_type": "code",
   "execution_count": null,
   "metadata": {},
   "outputs": [],
   "source": [
    "pop_df"
   ]
  },
  {
   "cell_type": "code",
   "execution_count": null,
   "metadata": {},
   "outputs": [],
   "source": [
    "pop_df['grp'] = pd.cut(pop_df['age_num'],[-1,64,79,89,1000])\n",
    "pop_df"
   ]
  },
  {
   "cell_type": "code",
   "execution_count": null,
   "metadata": {},
   "outputs": [],
   "source": [
    "grp_pop = pop_df.groupby(['year','grp']).sum()\n",
    "grp_pop"
   ]
  },
  {
   "cell_type": "code",
   "execution_count": null,
   "metadata": {},
   "outputs": [],
   "source": [
    "age_pop_dead = pd.concat([grp_pop['pop'],grp_death['deaths']],axis=1)\n",
    "age_pop_dead"
   ]
  },
  {
   "cell_type": "code",
   "execution_count": null,
   "metadata": {},
   "outputs": [],
   "source": [
    "age_pop_dead.dropna(inplace=True)"
   ]
  },
  {
   "cell_type": "code",
   "execution_count": null,
   "metadata": {},
   "outputs": [],
   "source": [
    "age_pop_dead"
   ]
  },
  {
   "cell_type": "code",
   "execution_count": null,
   "metadata": {},
   "outputs": [],
   "source": [
    "(age_pop_dead[age_pop_dead.index.get_level_values(0) == '2019']).sum()"
   ]
  },
  {
   "cell_type": "code",
   "execution_count": null,
   "metadata": {},
   "outputs": [],
   "source": [
    "age_pop_dead['mortality'] = age_pop_dead['deaths'] / age_pop_dead['pop']\n",
    "age_pop_dead"
   ]
  },
  {
   "cell_type": "code",
   "execution_count": null,
   "metadata": {},
   "outputs": [],
   "source": [
    "# 2020 age deaths\n",
    "\n",
    "### can't do age adj deaths incl 2020 YTD b/c cant find historical death data with both month and age ###\n",
    "\n",
    "df_age_2020 = pd.read_csv('scb_dead_per_age.csv',sep=';',header=None,index_col=0,\n",
    "                          usecols=[0,11,12,13,14,15,16,16,17,18],thousands=',')\n",
    "\n",
    "df_age_2020[64] = df_age_2020[11] + df_age_2020[15]\n",
    "df_age_2020[79] = df_age_2020[12] + df_age_2020[16]\n",
    "df_age_2020[89] = df_age_2020[13] + df_age_2020[17]\n",
    "df_age_2020[90] = df_age_2020[14] + df_age_2020[18]\n",
    "\n",
    "df_age_2020 = df_age_2020.drop([11,12,13,14,15,16,17,18],axis=1)\n",
    "df_age_2020"
   ]
  },
  {
   "cell_type": "code",
   "execution_count": null,
   "metadata": {},
   "outputs": [],
   "source": [
    "unknown_days = df_age_2020.iloc[-1,:]\n",
    "unknown_days"
   ]
  },
  {
   "cell_type": "code",
   "execution_count": null,
   "metadata": {},
   "outputs": [],
   "source": [
    "df_age_2020 = (df_age_2020[(df_age_2020 == 0) == False]).dropna()[:-1]\n",
    "df_age_2020 = df_age_2020[:-7]\n",
    "df_age_2020"
   ]
  },
  {
   "cell_type": "code",
   "execution_count": null,
   "metadata": {},
   "outputs": [],
   "source": [
    "add_ons = df_age_2020 / df_age_2020.sum() * unknown_days\n",
    "add_ons"
   ]
  },
  {
   "cell_type": "code",
   "execution_count": null,
   "metadata": {},
   "outputs": [],
   "source": [
    "df_age_2020 = df_age_2020 + add_ons\n",
    "df_age_2020"
   ]
  },
  {
   "cell_type": "code",
   "execution_count": null,
   "metadata": {},
   "outputs": [],
   "source": [
    "grps_2018 = grp_pop[grp_pop.index.get_level_values(0) == '2018']\n",
    "grps_2019 = grp_pop[grp_pop.index.get_level_values(0) == '2019']\n",
    "\n",
    "grp_growth = grps_2019['pop'].values / grps_2018['pop'].values\n",
    "grp_growth"
   ]
  },
  {
   "cell_type": "code",
   "execution_count": null,
   "metadata": {},
   "outputs": [],
   "source": [
    "grps_2020_extrapolated = grp_pop[grp_pop.index.get_level_values(0) == '2019']['pop'] * grp_growth\n",
    "grps_2020_extrapolated = grps_2020_extrapolated.reset_index()\n",
    "grps_2020_extrapolated['year'] = '2020'\n",
    "grps_2020_extrapolated"
   ]
  },
  {
   "cell_type": "code",
   "execution_count": null,
   "metadata": {},
   "outputs": [],
   "source": [
    "grp_pop = grp_pop.reset_index()\n",
    "grp_pop"
   ]
  },
  {
   "cell_type": "code",
   "execution_count": null,
   "metadata": {},
   "outputs": [],
   "source": [
    "grp_pop = grp_pop.append(grps_2020_extrapolated)\n",
    "grp_pop"
   ]
  },
  {
   "cell_type": "code",
   "execution_count": null,
   "metadata": {},
   "outputs": [],
   "source": [
    "grps_2020_extrapolated['grp']"
   ]
  },
  {
   "cell_type": "code",
   "execution_count": null,
   "metadata": {},
   "outputs": [],
   "source": [
    "deaths_2020_YTD = df_age_2020.sum()\n",
    "deaths_2020_YTD = pd.DataFrame(deaths_2020_YTD)\n",
    "deaths_2020_YTD['year'] = ['2020'] * 4\n",
    "deaths_2020_YTD.rename(columns={0:'deaths'},inplace=True)\n",
    "deaths_2020_YTD['grp'] = grps_2020_extrapolated['grp'].values\n",
    "deaths_2020_YTD"
   ]
  },
  {
   "cell_type": "code",
   "execution_count": null,
   "metadata": {},
   "outputs": [],
   "source": [
    "grp_death = grp_death.reset_index().append(deaths_2020_YTD)\n",
    "grp_death"
   ]
  },
  {
   "cell_type": "code",
   "execution_count": null,
   "metadata": {},
   "outputs": [],
   "source": [
    "grp_pop = grp_pop.set_index(['year','grp'])\n",
    "grp_death = grp_death.set_index(['year','grp'])\n",
    "\n",
    "grp_pop"
   ]
  },
  {
   "cell_type": "code",
   "execution_count": null,
   "metadata": {},
   "outputs": [],
   "source": [
    "grp_death"
   ]
  },
  {
   "cell_type": "code",
   "execution_count": null,
   "metadata": {},
   "outputs": [],
   "source": [
    "# full year mortality until 2019, 2020 YTD\n",
    "\n",
    "grp_mortality_YTD = pd.DataFrame((grp_death['deaths'] / grp_pop['pop']).dropna(),columns=['mortality'])\n",
    "grp_mortality_YTD"
   ]
  },
  {
   "cell_type": "code",
   "execution_count": null,
   "metadata": {},
   "outputs": [],
   "source": [
    "grp_std_pop = grp_pop[grp_pop.index.get_level_values(0) == '2019']\n",
    "grp_std_pop"
   ]
  },
  {
   "cell_type": "code",
   "execution_count": null,
   "metadata": {},
   "outputs": [],
   "source": [
    "nr_years = len(grp_mortality_YTD.reset_index()['year'].unique())"
   ]
  },
  {
   "cell_type": "code",
   "execution_count": null,
   "metadata": {},
   "outputs": [],
   "source": [
    "np.tile(grp_std_pop['pop'].values,nr_years)\n",
    "grp_mortality_YTD['std_pop'] = np.tile(grp_std_pop['pop'].values,nr_years)\n",
    "grp_mortality_YTD['age_adj_deaths'] = grp_mortality_YTD['mortality'] * grp_mortality_YTD['std_pop']\n",
    "grp_mortality_YTD"
   ]
  },
  {
   "cell_type": "code",
   "execution_count": null,
   "metadata": {},
   "outputs": [],
   "source": [
    "age_adj_deaths_inc_2020 = grp_mortality_YTD.groupby('year').sum()\n",
    "####\n",
    "age_adj_deaths_inc_2020.drop('mortality',inplace=True,axis=1)\n",
    "####\n",
    "age_adj_deaths_inc_2020"
   ]
  },
  {
   "cell_type": "code",
   "execution_count": null,
   "metadata": {},
   "outputs": [],
   "source": [
    "nr_years"
   ]
  },
  {
   "cell_type": "code",
   "execution_count": null,
   "metadata": {
    "scrolled": false
   },
   "outputs": [],
   "source": [
    "colors = ['b'] * (nr_years -1) \n",
    "colors.extend(['orange'])\n",
    "print (colors)\n",
    "\n",
    "title = \"SWEDEN age adj deaths [std-year 2019] 1968-2020\\n(2020 data only until {})\".format(df_age_2020.index[-1])\n",
    "\n",
    "_= age_adj_deaths_inc_2020.plot(kind='bar',y='age_adj_deaths',figsize=(18,12),title=title,color=colors)"
   ]
  },
  {
   "cell_type": "code",
   "execution_count": null,
   "metadata": {},
   "outputs": [],
   "source": [
    "# 2020 months reg at month end, rest month start\n",
    "hist_deaths_ytd['rank'] = hist_deaths_ytd['dead'].rank(ascending=True)\n",
    "hist_deaths_ytd"
   ]
  },
  {
   "cell_type": "code",
   "execution_count": null,
   "metadata": {},
   "outputs": [],
   "source": [
    "hist_deaths_ytd.loc[hist_deaths_ytd['index'] == '2019-12-01']"
   ]
  },
  {
   "cell_type": "code",
   "execution_count": null,
   "metadata": {},
   "outputs": [],
   "source": [
    "hist_deaths_ytd.sort_values('rank')[-50:]"
   ]
  },
  {
   "cell_type": "code",
   "execution_count": null,
   "metadata": {},
   "outputs": [],
   "source": [
    "mortality_per_month['rank'] = mortality_per_month['mortality'].rank(ascending=True)\n",
    "mortality_per_month"
   ]
  },
  {
   "cell_type": "code",
   "execution_count": null,
   "metadata": {},
   "outputs": [],
   "source": [
    "mortality_per_month.sort_values('rank',ascending=False)[:50]"
   ]
  },
  {
   "cell_type": "code",
   "execution_count": null,
   "metadata": {},
   "outputs": [],
   "source": [
    "mortality_per_month.sort_values('rank')[:50]"
   ]
  },
  {
   "cell_type": "code",
   "execution_count": null,
   "metadata": {},
   "outputs": [],
   "source": [
    "mortality_per_month.sort_values('rank',ascending=True)[:50]"
   ]
  },
  {
   "cell_type": "code",
   "execution_count": null,
   "metadata": {},
   "outputs": [],
   "source": [
    "mortality_per_month.index = mortality_per_month.index.date\n"
   ]
  },
  {
   "cell_type": "code",
   "execution_count": null,
   "metadata": {},
   "outputs": [],
   "source": [
    "mortality_per_month[pd.DatetimeIndex(mortality_per_month.index).year == 2020]"
   ]
  },
  {
   "cell_type": "code",
   "execution_count": null,
   "metadata": {},
   "outputs": [],
   "source": [
    "top_20 = mortality_per_month.sort_values('rank',ascending=True)[:20]\n",
    "top_20"
   ]
  },
  {
   "cell_type": "code",
   "execution_count": null,
   "metadata": {},
   "outputs": [],
   "source": [
    "top_20_2020 = pd.DatetimeIndex(top_20.index).year == 2020\n",
    "top_20_2020"
   ]
  },
  {
   "cell_type": "code",
   "execution_count": null,
   "metadata": {},
   "outputs": [],
   "source": [
    "\n",
    "colors = ['b' if not top_20_2020[i] else 'r' for i in range(len(top_20_2020))]\n",
    "colors "
   ]
  },
  {
   "cell_type": "code",
   "execution_count": null,
   "metadata": {},
   "outputs": [],
   "source": [
    "title = 'SWEDEN Top-20 lowest mortality months, 1861 - 2020 YTD {}'.format(mortality_per_month.index[-1])\n",
    "\n",
    "mortality_per_month.sort_values('rank',ascending=True)[:20].plot(figsize=(18,12),color=colors,\n",
    "    kind='bar',y='mortality',title=title)\n",
    "\n",
    "plt.ylabel('monthly mortality')"
   ]
  },
  {
   "cell_type": "code",
   "execution_count": null,
   "metadata": {},
   "outputs": [],
   "source": [
    "mortality_per_month"
   ]
  },
  {
   "cell_type": "code",
   "execution_count": null,
   "metadata": {},
   "outputs": [],
   "source": [
    "yearly_mortality"
   ]
  },
  {
   "cell_type": "code",
   "execution_count": null,
   "metadata": {},
   "outputs": [],
   "source": [
    "age_adj_deaths"
   ]
  },
  {
   "cell_type": "code",
   "execution_count": null,
   "metadata": {},
   "outputs": [],
   "source": [
    "yearly_mortality.info()"
   ]
  },
  {
   "cell_type": "code",
   "execution_count": null,
   "metadata": {},
   "outputs": [],
   "source": [
    "age_adj_deaths.index = range(1968,2020)\n",
    "age_adj_deaths.info()"
   ]
  },
  {
   "cell_type": "code",
   "execution_count": null,
   "metadata": {},
   "outputs": [],
   "source": [
    "yearly_mortality['age_pop_adj_mortality'] = age_adj_deaths['age_pop_adj_mortality']\n",
    "yearly_mortality"
   ]
  },
  {
   "cell_type": "code",
   "execution_count": null,
   "metadata": {},
   "outputs": [],
   "source": [
    "title = 'SWEDEN mortality 1968 - 2019 : comparison mortality vs age adj mortality'\n",
    "ax = yearly_mortality.dropna().plot(y=['mortality','age_pop_adj_mortality'],figsize=(18,12),\n",
    "                              style=['o--','o--'])"
   ]
  },
  {
   "cell_type": "code",
   "execution_count": null,
   "metadata": {},
   "outputs": [],
   "source": [
    "age_adj_deaths_inc_2020['age_pop_adj_mortality'] = age_adj_deaths_inc_2020['age_adj_deaths'] /\\\n",
    "age_adj_deaths_inc_2020['std_pop']\n",
    "\n",
    "age_adj_deaths_inc_2020\n"
   ]
  },
  {
   "cell_type": "code",
   "execution_count": null,
   "metadata": {},
   "outputs": [],
   "source": [
    "age_adj_deaths_inc_2020.index = range(1968,2021)"
   ]
  },
  {
   "cell_type": "code",
   "execution_count": null,
   "metadata": {},
   "outputs": [],
   "source": [
    "title = 'SWEDEN mortality comparison 1968 - 2020\\n2020 data YTD {}'.format(df_age_2020.index[-1])\n",
    "\n",
    "ax = yearly_mortality.dropna().plot(y=['mortality','age_pop_adj_mortality'],figsize=(18,12),\n",
    "                              style=['o--','o--'],title=title,\n",
    "                                    label=['mortality','age_pop_adj_mortality yearly age grps'])\n",
    "\n",
    "ax.plot(age_adj_deaths_inc_2020['age_pop_adj_mortality'],'o--',\n",
    "        label='age_pop_ajd_mortality 4 age grps')\n",
    "ax.legend(loc='upper right')"
   ]
  },
  {
   "cell_type": "code",
   "execution_count": null,
   "metadata": {},
   "outputs": [],
   "source": [
    "colors = ['b'] * (nr_years -1) \n",
    "colors.extend(['orange'])\n",
    "print (colors)\n",
    "\n",
    "title = \"SWEDEN age adj mortality [std-year 2019] \\\n",
    "1968-2020\\n(2020 data YTD until {}, others full years)\".format(df_age_2020.index[-1])\n",
    "\n",
    "_= age_adj_deaths_inc_2020.plot(kind='bar',y='age_pop_adj_mortality',figsize=(18,12),title=title,color=colors)\n",
    "plt.yticks(np.arange(0,0.018,0.001))\n",
    "plt.savefig('swe_age_adj_mortality_1968_2020_YTD.jpg',format='jpg')"
   ]
  },
  {
   "cell_type": "code",
   "execution_count": null,
   "metadata": {},
   "outputs": [],
   "source": [
    "year = hist_deaths_ytd['index']\n",
    "month = year.dt.month\n",
    "\n",
    "hist_deaths_ytd.rename(columns={'index' : 'month'},inplace=True)"
   ]
  },
  {
   "cell_type": "code",
   "execution_count": null,
   "metadata": {},
   "outputs": [],
   "source": [
    "hist_deaths_ytd.set_index('month',inplace=True)\n",
    "hist_deaths_ytd"
   ]
  },
  {
   "cell_type": "code",
   "execution_count": null,
   "metadata": {},
   "outputs": [],
   "source": [
    "hist_cum_deaths = hist_deaths_ytd.groupby(hist_deaths_ytd.index.get_level_values(0).year).cumsum()\n",
    "hist_cum_deaths"
   ]
  },
  {
   "cell_type": "code",
   "execution_count": null,
   "metadata": {},
   "outputs": [],
   "source": [
    "deaths_year_month = hist_deaths_ytd.reset_index()"
   ]
  },
  {
   "cell_type": "code",
   "execution_count": null,
   "metadata": {},
   "outputs": [],
   "source": [
    "deaths_year_month.rename(columns={'month': 'date'},inplace=True)\n",
    "deaths_year_month"
   ]
  },
  {
   "cell_type": "code",
   "execution_count": null,
   "metadata": {},
   "outputs": [],
   "source": [
    "deaths_year_month['year'] = deaths_year_month['date'].apply(lambda d : d.year)\n",
    "deaths_year_month['month'] = deaths_year_month['date'].apply(lambda d : d.month)"
   ]
  },
  {
   "cell_type": "code",
   "execution_count": null,
   "metadata": {},
   "outputs": [],
   "source": [
    "deaths_year_month"
   ]
  },
  {
   "cell_type": "code",
   "execution_count": null,
   "metadata": {},
   "outputs": [],
   "source": [
    "deaths_year_month"
   ]
  },
  {
   "cell_type": "code",
   "execution_count": null,
   "metadata": {},
   "outputs": [],
   "source": [
    "deaths_year_month = deaths_year_month.pivot(index='year',columns='month',values='dead')"
   ]
  },
  {
   "cell_type": "code",
   "execution_count": null,
   "metadata": {},
   "outputs": [],
   "source": [
    "deaths_year_month"
   ]
  },
  {
   "cell_type": "code",
   "execution_count": null,
   "metadata": {},
   "outputs": [],
   "source": [
    "sns.axes_style()"
   ]
  },
  {
   "cell_type": "code",
   "execution_count": null,
   "metadata": {},
   "outputs": [],
   "source": [
    "start_year = 1900\n",
    "sns.set()\n",
    "sns.set_style({\"grid.color\": \"lightgrey\"})\n",
    "title = 'SWEDEN abs deaths {} - 2020 YTD {}, stacked by month'.format(start_year,df_age_2020.index[-1])\n",
    "deaths_year_month.loc[start_year:].plot(kind='bar',stacked=True,title=title,\n",
    "                                        figsize=(18,12),edgecolor='none',fontsize=7)\n",
    "ax = plt.gca()\n",
    "for label in ax.xaxis.get_ticklabels()[1::2]:\n",
    "        label.set_visible(False)\n",
    "\n",
    "\n",
    "plt.savefig('swe_deaths_stacked_by_month_1860_2020_ytd.jpg',format='jpg')\n",
    "_= plt.yticks(range(0,115000,5000))"
   ]
  },
  {
   "cell_type": "code",
   "execution_count": null,
   "metadata": {},
   "outputs": [],
   "source": [
    "full_mortality_per_month['year'] = pd.DatetimeIndex(full_mortality_per_month.index).year\n",
    "full_mortality_per_month"
   ]
  },
  {
   "cell_type": "code",
   "execution_count": null,
   "metadata": {},
   "outputs": [],
   "source": [
    "full_mortality_year_month = full_mortality_per_month.pivot(index='year',columns='month',values='mortality')\n",
    "full_mortality_year_month"
   ]
  },
  {
   "cell_type": "code",
   "execution_count": null,
   "metadata": {},
   "outputs": [],
   "source": [
    "full_mortality_year_month.sum(axis=1)"
   ]
  },
  {
   "cell_type": "code",
   "execution_count": null,
   "metadata": {},
   "outputs": [],
   "source": [
    "title = 'SWEDEN mortality {} - 2020 YTD {}, stacked by month'.format(start_year,df_age_2020.index[-1])\n",
    "\n",
    "full_mortality_year_month.loc[start_year:].plot(kind='bar',\n",
    "    stacked=True,figsize=(18,12),edgecolor='none',title=title,fontsize=7)\n",
    "\n",
    "ax = plt.gca()\n",
    "for label in ax.xaxis.get_ticklabels()[1::2]:\n",
    "        label.set_visible(False)\n",
    "\n",
    "_= plt.yticks(np.arange(0,0.019,0.001))\n",
    "plt.legend(loc='upper center')\n",
    "plt.savefig('swe_spot_the_pandemic.jpg',format='jpg')"
   ]
  },
  {
   "cell_type": "code",
   "execution_count": null,
   "metadata": {},
   "outputs": [],
   "source": [
    "yearly_mortality = full_mortality_year_month.sum(axis=1)\n",
    "yearly_mortality"
   ]
  },
  {
   "cell_type": "code",
   "execution_count": null,
   "metadata": {},
   "outputs": [],
   "source": [
    "mortality_growth = yearly_mortality / yearly_mortality.shift()\n",
    "mortality_growth = pd.DataFrame(mortality_growth,columns=['growth'])\n",
    "mortality_growth['hue'] = np.random.randint(0,2,size=len(mortality_growth))\n",
    "mortality_growth"
   ]
  },
  {
   "cell_type": "code",
   "execution_count": null,
   "metadata": {},
   "outputs": [],
   "source": [
    "mean_growth = mortality_growth['growth'].mean()\n",
    "mean_growth"
   ]
  },
  {
   "cell_type": "code",
   "execution_count": null,
   "metadata": {},
   "outputs": [],
   "source": [
    "mortality_growth['growth_vs_avg'] = mortality_growth['growth'] / mean_growth\n",
    "mortality_growth"
   ]
  },
  {
   "cell_type": "code",
   "execution_count": null,
   "metadata": {},
   "outputs": [],
   "source": [
    "mortality_growth.plot(style='o--',y=['growth','growth_vs_avg'],figsize=(18,12))"
   ]
  },
  {
   "cell_type": "code",
   "execution_count": null,
   "metadata": {},
   "outputs": [],
   "source": [
    "plt.figure(figsize=(18,12))\n",
    "sns.violinplot(data=mortality_growth,y='growth',inner='box')\n",
    "plt.title('SWEDEN Y2Y mortality growth factor distribution')\n",
    "plt.xlabel('freq')\n",
    "plt.ylabel('growth factor Y2Y')"
   ]
  },
  {
   "cell_type": "code",
   "execution_count": null,
   "metadata": {},
   "outputs": [],
   "source": [
    "\n",
    "\n",
    "mortality_growth.plot(y='growth',style='o--')"
   ]
  },
  {
   "cell_type": "code",
   "execution_count": null,
   "metadata": {},
   "outputs": [],
   "source": [
    "mortality_growth.dropna(inplace=True)\n",
    "\n",
    "mortality_growth['growth'].plot(kind='hist')\n"
   ]
  },
  {
   "cell_type": "code",
   "execution_count": null,
   "metadata": {},
   "outputs": [],
   "source": [
    "mortality_growth['growth'] "
   ]
  },
  {
   "cell_type": "code",
   "execution_count": null,
   "metadata": {},
   "outputs": [],
   "source": [
    "mortality_growth"
   ]
  },
  {
   "cell_type": "code",
   "execution_count": null,
   "metadata": {},
   "outputs": [],
   "source": [
    "mortality_growth['growth'].plot()"
   ]
  },
  {
   "cell_type": "code",
   "execution_count": null,
   "metadata": {},
   "outputs": [],
   "source": [
    "import pymc3 as pm\n",
    "import arviz as az\n",
    "\n",
    "model = pm.Model()\n",
    "with model:\n",
    "    x = range(len(mortality_growth))\n",
    "    \n",
    "    alpha = pm.Normal('alpha',mu=1,sd=1)\n",
    "    beta = pm.Normal('beta',mu=0,sd=1)\n",
    "    sigma = pm.Normal('sigma',1,3)\n",
    "    \n",
    "    reg = pm.Deterministic('reg', alpha + x * beta)\n",
    "    \n",
    "    obs = pm.Normal('obs',mu=reg,sd=sigma,observed=mortality_growth['growth'])\n",
    "    \n",
    "    trace = pm.sample(500,tune=500)\n",
    "    "
   ]
  },
  {
   "cell_type": "code",
   "execution_count": null,
   "metadata": {},
   "outputs": [],
   "source": [
    "with model:\n",
    "    print (pm.summary(trace,hdi_prob=0.89))\n",
    "    az.plot_trace(trace,var_names=['alpha','beta'])"
   ]
  },
  {
   "cell_type": "code",
   "execution_count": null,
   "metadata": {},
   "outputs": [],
   "source": [
    "trace['reg']"
   ]
  },
  {
   "cell_type": "code",
   "execution_count": null,
   "metadata": {},
   "outputs": [],
   "source": [
    "fig,ax = plt.subplots(figsize=(18,12))\n",
    "with model:\n",
    "    ppc = pm.sample_posterior_predictive(trace,samples=1000,model=model)\n",
    "    \n",
    "    az.plot_hpd(x,trace['reg'],hdi_prob=0.89,ax=ax)\n",
    "    ax.plot(trace['alpha'].mean() + x * trace['beta'].mean(),color='k',ls='dashed')\n",
    "    ax.plot(range(len(mortality_growth)),mortality_growth['growth'],'o')\n",
    "    ax.set_xticks(range(len(mortality_growth)))\n",
    "    ax.set_xticklabels(range(1862,2021),rotation=90)\n",
    "    az.plot_hpd(x,ppc['obs'],hdi_prob=0.89,ax=ax)\n"
   ]
  },
  {
   "cell_type": "code",
   "execution_count": null,
   "metadata": {},
   "outputs": [],
   "source": [
    "yearly_mortality *= 1000 # to get pymc to process the otherwise very small numbers\n",
    "yearly_mortality"
   ]
  },
  {
   "cell_type": "code",
   "execution_count": null,
   "metadata": {},
   "outputs": [],
   "source": [
    "yearly_mortality.plot()"
   ]
  },
  {
   "cell_type": "code",
   "execution_count": null,
   "metadata": {},
   "outputs": [],
   "source": [
    "model2 = pm.Model()\n",
    "with model2:\n",
    "    \n",
    "\n",
    "    \n",
    "    x = range(len(yearly_mortality))\n",
    "    \n",
    "    alpha = pm.Normal('alpha',20,2)\n",
    "    beta = pm.Normal('beta',0, 2)\n",
    "    sigma = pm.Normal('sigma',10, 5)\n",
    "    \n",
    "    reg = pm.Deterministic('reg',alpha + x * beta)\n",
    "    \n",
    "    obs = pm.Normal('obs',reg, sigma,observed=yearly_mortality)\n",
    "    \n",
    "    trace2 = pm.sample(500,tune=500)\n",
    "    "
   ]
  },
  {
   "cell_type": "code",
   "execution_count": null,
   "metadata": {},
   "outputs": [],
   "source": [
    "with model2:\n",
    "    print (pm.summary(trace2,hdi_prob=0.89))\n",
    "    az.plot_trace(trace2,var_names=['alpha','beta','sigma'])"
   ]
  },
  {
   "cell_type": "code",
   "execution_count": null,
   "metadata": {},
   "outputs": [],
   "source": [
    "fig,ax = plt.subplots(figsize=(18,12))\n",
    "\n",
    "def numfmt(x, pos): # your custom formatter function: divide by 100.0\n",
    "    s = '{}'.format(x / 1000.0)\n",
    "    return s\n",
    "\n",
    "import matplotlib.ticker as tkr     # has classes for tick-locating and -formatting\n",
    "yfmt = tkr.FuncFormatter(numfmt)    # create your custom formatter function\n",
    "\n",
    "\n",
    "with model2:\n",
    "    \n",
    "    ppc = pm.sample_posterior_predictive(trace2,samples=1000,model=model2)\n",
    "\n",
    "    az.plot_hpd(x,trace2['reg'],hdi_prob=0.89,ax=ax)\n",
    "    \n",
    "    az.plot_hpd(x,ppc['obs'],hdi_prob=0.89,ax=ax)\n",
    "    \n",
    "    ax.plot(x,trace2['alpha'].mean() + x * trace2['beta'].mean(),color='k',ls='--')\n",
    "    ax.plot(x,yearly_mortality,'o')\n",
    "    ax.set_xticks(range(len(yearly_mortality)))\n",
    "    ax.set_xticklabels(range(1861,2021),rotation=90)\n",
    "    \n",
    "    for label in ax.xaxis.get_ticklabels()[::2]:\n",
    "        label.set_visible(False)\n",
    "        \n",
    "    ax.yaxis.set_major_formatter(yfmt)\n",
    "        \n"
   ]
  },
  {
   "cell_type": "code",
   "execution_count": null,
   "metadata": {},
   "outputs": [],
   "source": [
    "pop_df = pop_df.set_index(['year','grp'])\n",
    "pop_df"
   ]
  },
  {
   "cell_type": "code",
   "execution_count": null,
   "metadata": {},
   "outputs": [],
   "source": [
    "grouped_pop = pop_df.reset_index().groupby(['year','grp']).sum()\n",
    "grouped_pop"
   ]
  },
  {
   "cell_type": "code",
   "execution_count": null,
   "metadata": {},
   "outputs": [],
   "source": [
    "pop_pivot = (grouped_pop.reset_index()).pivot(index='year',columns='grp',values='pop')\n",
    "pop_pivot"
   ]
  },
  {
   "cell_type": "code",
   "execution_count": null,
   "metadata": {},
   "outputs": [],
   "source": [
    "pop_pivot.sum(axis=1)"
   ]
  },
  {
   "cell_type": "code",
   "execution_count": null,
   "metadata": {},
   "outputs": [],
   "source": [
    "title = 'SWEDEN population stacked per age group, 1860-2019'\n",
    "ax = pop_pivot.plot(kind='bar',stacked=True,figsize=(18,12),title=title)\n",
    "\n",
    "for label in ax.xaxis.get_ticklabels()[::2]:\n",
    "        label.set_visible(False)\n",
    "        \n",
    "plt.ylabel('population size')\n",
    "plt.savefig('swe_abs_pop_age_grp_1860_2019.jpg',format='jpg')"
   ]
  },
  {
   "cell_type": "code",
   "execution_count": null,
   "metadata": {},
   "outputs": [],
   "source": [
    "rel_pop_pivot = pop_pivot.div(pop_pivot.sum(axis=1),axis=0)\n",
    "rel_pop_pivot"
   ]
  },
  {
   "cell_type": "code",
   "execution_count": null,
   "metadata": {},
   "outputs": [],
   "source": [
    "title = 'SWEDEN age group proportion of total population, 1860-2019'\n",
    "\n",
    "\n",
    "ax = rel_pop_pivot.plot(kind='bar',stacked=True,figsize=(18,12),title=title)\n",
    "\n",
    "for label in ax.xaxis.get_ticklabels()[::2]:\n",
    "        label.set_visible(False)\n",
    "\n",
    "plt.ylabel('cumulative fraction of total population')\n",
    "plt.savefig('swe_rel_pop_age_grp_1860_2019.jpg',format='jpg')        "
   ]
  },
  {
   "cell_type": "code",
   "execution_count": null,
   "metadata": {},
   "outputs": [],
   "source": []
  },
  {
   "cell_type": "code",
   "execution_count": null,
   "metadata": {},
   "outputs": [],
   "source": [
    "(pop_pivot / pop_pivot.shift()).plot(figsize=(18,12),style=['o--'] * 4)"
   ]
  },
  {
   "cell_type": "code",
   "execution_count": null,
   "metadata": {},
   "outputs": [],
   "source": [
    "pop_growth_since_1860 = pop_pivot / pop_pivot.loc['1860']\n",
    "pop_growth_since_1860"
   ]
  },
  {
   "cell_type": "code",
   "execution_count": null,
   "metadata": {},
   "outputs": [],
   "source": [
    "pop_growth_since_1860.plot(figsize=(18,12))"
   ]
  },
  {
   "cell_type": "code",
   "execution_count": null,
   "metadata": {},
   "outputs": [],
   "source": [
    "rel_pop_pivot"
   ]
  },
  {
   "cell_type": "code",
   "execution_count": null,
   "metadata": {},
   "outputs": [],
   "source": [
    "rel_pop_growth_since_1860 = rel_pop_pivot / rel_pop_pivot.loc['1860']\n",
    "rel_pop_growth_since_1860"
   ]
  },
  {
   "cell_type": "code",
   "execution_count": null,
   "metadata": {},
   "outputs": [],
   "source": [
    "title = 'SWEDEN relative population age group growth, baseline 1860'\n",
    "rel_pop_growth_since_1860.plot(figsize=(18,12),style=['o--'] * 4,title=title)\n",
    "plt.ylabel('growth factor')\n",
    "plt.savefig('swe_age_group_rel_growth.jpg',format='jpg')"
   ]
  }
 ],
 "metadata": {
  "kernelspec": {
   "display_name": "Python 3",
   "language": "python",
   "name": "python3"
  },
  "language_info": {
   "codemirror_mode": {
    "name": "ipython",
    "version": 3
   },
   "file_extension": ".py",
   "mimetype": "text/x-python",
   "name": "python",
   "nbconvert_exporter": "python",
   "pygments_lexer": "ipython3",
   "version": "3.8.6"
  }
 },
 "nbformat": 4,
 "nbformat_minor": 4
}
