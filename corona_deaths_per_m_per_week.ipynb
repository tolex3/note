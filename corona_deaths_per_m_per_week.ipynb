{
 "cells": [
  {
   "cell_type": "code",
   "execution_count": null,
   "metadata": {},
   "outputs": [],
   "source": [
    "### pre-req's:\n",
    "### run covid_confirmed followed by consolidated plots\n",
    "###\n",
    "###\n",
    "\n",
    "import pickle\n",
    "import pandas as pd\n",
    "import numpy as np\n",
    "import matplotlib.pyplot as plt\n",
    "import seaborn as sns\n",
    "\n",
    "sns.set()"
   ]
  },
  {
   "cell_type": "code",
   "execution_count": null,
   "metadata": {},
   "outputs": [],
   "source": [
    "def strip(x):\n",
    "    return x.replace('\\t','')\n",
    "\n",
    "country_populations = pd.read_csv('world_pop.csv',\n",
    "                                  sep=';',header=None,index_col=0,names=['population'],\n",
    "                                 thousands=',',converters={0 : strip})\n",
    "country_populations"
   ]
  },
  {
   "cell_type": "code",
   "execution_count": null,
   "metadata": {},
   "outputs": [],
   "source": [
    "with open ('weekly_dick.pkl','rb') as f:\n",
    "    week_dick = pickle.load(f)\n",
    "\n",
    "countries = []\n",
    "for keys,items in week_dick.items():\n",
    "    countries.append(keys)\n",
    "    \n",
    "countries.remove('New York')"
   ]
  },
  {
   "cell_type": "code",
   "execution_count": null,
   "metadata": {},
   "outputs": [],
   "source": [
    "#countries = ['Sweden','US','United Kingdom','Spain','Italy','France','Norway','Denmark']\n",
    "colors = ['yellow','navy','c','orange','green','red','k','m','lime','purple']\n",
    "\n",
    "plt.figure(figsize=(18,12))\n",
    "plt.title('COVID-19 : Deaths per million per week after total confirmed > 500 & total deaths > 10')\n",
    "\n",
    "for i,c in enumerate(countries):\n",
    "    df = week_dick[c]\n",
    "    df['dead_inc_M'] = df['dead_inc'] / (country_populations.loc[c,'population'] / 1e6 )\n",
    "    #df['dead_inc_M'].plot()\n",
    "    plt.plot(df.index,df['dead_inc_M'],'o--',color=colors[i],label=countries[i])\n",
    "\n",
    "plt.legend(loc='upper right')\n",
    "plt.ylabel('Deaths per million per week')"
   ]
  },
  {
   "cell_type": "code",
   "execution_count": null,
   "metadata": {},
   "outputs": [],
   "source": [
    "from matplotlib.ticker import MaxNLocator\n",
    "\n",
    "\n",
    "\n",
    "plt.figure(figsize=(18,12))\n",
    "plt.title('COVID-19 : Deaths per million per week after total confirmed > 500 & total deaths > 10')\n",
    "ax = plt.gca()\n",
    "\n",
    "for i,c in enumerate(countries):\n",
    "    df = week_dick[c]\n",
    "    df['dead_inc_M'] = df['dead_inc'] / (country_populations.loc[c,'population'] / 1e6 )\n",
    "    ax.plot(df.reset_index()['dead_inc_M'],'o--',color=colors[i],label=countries[i])\n",
    "\n",
    "ax.xaxis.set_major_locator(MaxNLocator(integer=True))\n",
    "ax.legend(loc='upper right')\n",
    "\n",
    "ax.set_xlabel('week after total confirmed > 500 & total deaths > 10')\n",
    "ax.set_ylabel('Deaths per million per week')\n",
    "#plt.ylim([0,140])"
   ]
  },
  {
   "cell_type": "code",
   "execution_count": null,
   "metadata": {
    "scrolled": false
   },
   "outputs": [],
   "source": [
    "fig,axes = plt.subplots(2,1,figsize=(18,12))\n",
    "\n",
    "axes[0].set_title('COVID-19 : Deaths per million per week after total confirmed > 500 & total deaths > 10\\nactual dates')\n",
    "\n",
    "for i,c in enumerate(countries):\n",
    "    df = week_dick[c]\n",
    "    df['dead_inc_M'] = df['dead_inc'] / (country_populations.loc[c,'population'] / 1e6 )\n",
    "    axes[0].plot(df.index,df['dead_inc_M'],'o--',color=colors[i],label=countries[i])\n",
    "\n",
    "axes[0].legend(loc='upper right')\n",
    "axes[0].set_ylabel('Deaths per million per week')\n",
    "#axes[0].xaxis.set_major_locator(MaxNLocator(integer=True))\n",
    "#axes[0].set_ylim([-10,130])\n",
    "\n",
    "\n",
    "axes[1].set_title('COVID-19 : Deaths per million per week after total confirmed > 500 & total deaths > 10\\ncommon timeline')\n",
    "\n",
    "for i,c in enumerate(countries):\n",
    "    df = week_dick[c]\n",
    "    df['dead_inc_M'] = df['dead_inc'] / (country_populations.loc[c,'population'] / 1e6 )\n",
    "    axes[1].plot(df.reset_index()['dead_inc_M'],'o--',color=colors[i],label=countries[i])\n",
    "\n",
    "axes[1].legend(loc='upper right')\n",
    "axes[1].set_ylabel('Deaths per million per week')\n",
    "axes[1].set_xlabel('week number after total confirmed > 500 & total deaths > 10')\n",
    "axes[1].xaxis.set_major_locator(MaxNLocator(integer=True))\n",
    "#axes[1].set_ylim([-10,130])\n",
    "plt.savefig('weekly_deaths_normalized.jpg',format='jpg')\n",
    "\n"
   ]
  },
  {
   "cell_type": "code",
   "execution_count": null,
   "metadata": {},
   "outputs": [],
   "source": [
    "plt.figure(figsize=(18,12))\n",
    "plt.title('COVID-19 : Deaths per million cumulative, after total confirmed > 500 & total deaths > 10')\n",
    "\n",
    "for i,c in enumerate(countries):\n",
    "    df = week_dick[c]\n",
    "    df['dead_inc_M'] = df['dead_inc'] / (country_populations.loc[c,'population'] / 1e6 )\n",
    "    plt.plot(df.reset_index()['dead_inc_M'].cumsum(),'o--',color=colors[i],label=countries[i])\n",
    "\n",
    "plt.legend(loc='upper left')\n",
    "plt.xlabel('week after total confirmed > 500 & total deaths > 10')\n",
    "plt.ylabel('Deaths per million cumulative')\n"
   ]
  }
 ],
 "metadata": {
  "kernelspec": {
   "display_name": "Python 3",
   "language": "python",
   "name": "python3"
  },
  "language_info": {
   "codemirror_mode": {
    "name": "ipython",
    "version": 3
   },
   "file_extension": ".py",
   "mimetype": "text/x-python",
   "name": "python",
   "nbconvert_exporter": "python",
   "pygments_lexer": "ipython3",
   "version": "3.6.9"
  }
 },
 "nbformat": 4,
 "nbformat_minor": 4
}
