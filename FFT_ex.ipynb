{
 "cells": [
  {
   "cell_type": "code",
   "execution_count": null,
   "metadata": {},
   "outputs": [],
   "source": [
    "import numpy as np\n",
    "import matplotlib.pyplot as plt\n",
    "import seaborn as sns\n",
    "import pandas as pd\n",
    "from scipy.fft import rfft,rfftfreq\n",
    "\n",
    "sns.set()"
   ]
  },
  {
   "cell_type": "code",
   "execution_count": null,
   "metadata": {},
   "outputs": [],
   "source": [
    "\n",
    "SAMPLE_RATE = 16  # Hertz - Nyquist theorem : sampling rate at least 2 x highest signal freq. \n",
    "DURATION = 5  # Seconds\n",
    "\n",
    "def generate_sine_wave(freq, sample_rate, duration):\n",
    "    x = np.linspace(0, duration, sample_rate * duration, endpoint=False)\n",
    "    frequencies = x * freq\n",
    "    # 2pi because np.sin takes radians\n",
    "    y = np.sin((2 * np.pi) * frequencies)\n",
    "    return x, y\n",
    "\n",
    "\n",
    "f1 = 2\n",
    "f2 = 4\n",
    "\n",
    "# Generate a sine wave  of f Hz that lasts for 5 seconds\n",
    "x, y = generate_sine_wave(f1, SAMPLE_RATE, DURATION)\n",
    "x2,y2 = generate_sine_wave(f2,SAMPLE_RATE,DURATION)\n",
    "\n",
    "plt.figure(figsize=(18,12))\n",
    "plt.plot(x, y)\n",
    "plt.plot(x2,y2)\n",
    "\n"
   ]
  },
  {
   "cell_type": "code",
   "execution_count": null,
   "metadata": {},
   "outputs": [],
   "source": [
    "signal = y + y2 * 0.5\n",
    "\n",
    "N = SAMPLE_RATE * DURATION\n",
    "\n",
    "yf = rfft(signal)\n",
    "xf = rfftfreq(N, 1 / SAMPLE_RATE)\n",
    "\n",
    "plt.plot(xf, np.abs(yf) / N)\n",
    "plt.ylabel('power')\n",
    "plt.xlabel('frequency')\n",
    "plt.show()"
   ]
  },
  {
   "cell_type": "code",
   "execution_count": null,
   "metadata": {},
   "outputs": [],
   "source": [
    "faked_yearly_data = np.array([0,1,2,3,4,4,3,2,1,0] * 10)\n",
    "faked_yearly_data = faked_yearly_data / faked_yearly_data.max() #normalize\n",
    "\n",
    "plt.plot(faked_yearly_data,'o--')\n",
    "plt.xlabel('year')"
   ]
  },
  {
   "cell_type": "code",
   "execution_count": null,
   "metadata": {},
   "outputs": [],
   "source": [
    "\n",
    "sample_rate = 10 # 10 samples per decennium\n",
    "\n",
    "faked_yearly_data = faked_yearly_data - faked_yearly_data.mean() # remove DC-component\n",
    "\n",
    "yf = rfft(faked_yearly_data)\n",
    "xf = rfftfreq(len(faked_yearly_data),1 / sample_rate) #normalize so that we can have low sampling rate (Nyquist)\n",
    "\n",
    "plt.plot(xf,np.abs(yf) / len(faked_yearly_data))\n",
    "plt.xlabel('freq [ 1/ decade]')\n"
   ]
  },
  {
   "cell_type": "code",
   "execution_count": null,
   "metadata": {},
   "outputs": [],
   "source": [
    "# next example"
   ]
  },
  {
   "cell_type": "code",
   "execution_count": null,
   "metadata": {},
   "outputs": [],
   "source": [
    "def build_signal(f_arr,power_arr):\n",
    "    sig = np.zeros_like(SAMPLE_RATE * DURATION)\n",
    "    \n",
    "    for i,f in enumerate(f_arr):\n",
    "        \n",
    "        xf,yf = generate_sine_wave(f,SAMPLE_RATE,DURATION)\n",
    "        sig = sig + yf * power_arr[i]\n",
    "        \n",
    "    return xf,sig\n"
   ]
  },
  {
   "cell_type": "code",
   "execution_count": null,
   "metadata": {},
   "outputs": [],
   "source": [
    "def normalize_sig (sig):\n",
    "    return np.int16((sig / sig.max()) * 32767)\n"
   ]
  },
  {
   "cell_type": "code",
   "execution_count": null,
   "metadata": {},
   "outputs": [],
   "source": [
    "SAMPLE_RATE = 44100\n",
    "DURATION = 5\n",
    "freq_boost_factor = 13000\n",
    "\n",
    "f_arr = np.array([1]) * freq_boost_factor\n",
    "power_arr = np.array([1])\n",
    "\n",
    "print ('component frequencies:',f_arr)\n",
    "xf,yf = build_signal(f_arr,power_arr)\n"
   ]
  },
  {
   "cell_type": "code",
   "execution_count": null,
   "metadata": {},
   "outputs": [],
   "source": [
    "subset = 100\n",
    "\n",
    "plt.figure(figsize=(18,12))\n",
    "plt.plot(xf[:subset],yf[:subset],color='crimson',lw=5,label='resultant signal')\n",
    "\n",
    "for i,f in enumerate(f_arr):\n",
    "    x_tmp,y_tmp = generate_sine_wave(f,SAMPLE_RATE,DURATION)\n",
    "    plt.plot(x_tmp[:subset],y_tmp[:subset] * power_arr[i],'--',label='{} Hz'.format(f))\n",
    "    \n",
    "plt.legend(loc='upper right')    \n",
    "plt.xlabel('time [s]')"
   ]
  },
  {
   "cell_type": "code",
   "execution_count": null,
   "metadata": {},
   "outputs": [],
   "source": [
    "audible_sig = normalize_sig(yf)\n",
    "plt.plot(xf[:subset],audible_sig[:subset])"
   ]
  },
  {
   "cell_type": "code",
   "execution_count": null,
   "metadata": {},
   "outputs": [],
   "source": [
    "from scipy.io.wavfile import write\n",
    "\n",
    "write(\"mysinewave.wav\", SAMPLE_RATE, audible_sig)"
   ]
  },
  {
   "cell_type": "code",
   "execution_count": null,
   "metadata": {},
   "outputs": [],
   "source": [
    "def concat_freqs(f_arr,power_arr):\n",
    "    sig = np.zeros(SAMPLE_RATE * DURATION * len(f_arr))\n",
    "    idx = 0\n",
    "    \n",
    "    for i,f in enumerate(f_arr):\n",
    "        xf,yf = generate_sine_wave(f,SAMPLE_RATE,DURATION)\n",
    "        yf = yf * power_arr[i]\n",
    "        \n",
    "        sig[idx:idx + SAMPLE_RATE * DURATION] = yf\n",
    "        idx += SAMPLE_RATE * DURATION\n",
    "        \n",
    "    return sig\n",
    "        "
   ]
  },
  {
   "cell_type": "code",
   "execution_count": null,
   "metadata": {},
   "outputs": [],
   "source": [
    "DURATION = 1\n",
    "\n",
    "\n",
    "f_arr = np.array([20,40,60,80,100,10000,14000,15000,\n",
    "                 16000,17000,18000])\n",
    "\n",
    "power_arr = np.repeat(1,len(f_arr))\n",
    "\n",
    "varying_freq_signal = concat_freqs(f_arr,power_arr)"
   ]
  },
  {
   "cell_type": "code",
   "execution_count": null,
   "metadata": {},
   "outputs": [],
   "source": [
    "varying_freq_signal = normalize_sig(varying_freq_signal)\n",
    "\n",
    "write('varying_freq_signal.wav',SAMPLE_RATE,varying_freq_signal)"
   ]
  },
  {
   "cell_type": "code",
   "execution_count": null,
   "metadata": {},
   "outputs": [],
   "source": [
    "yf = rfft(varying_freq_signal)\n",
    "yf = yf / yf.max()\n",
    "\n",
    "yf = yf - yf.mean()\n",
    "xf = rfftfreq(len(varying_freq_signal),1 / SAMPLE_RATE)"
   ]
  },
  {
   "cell_type": "code",
   "execution_count": null,
   "metadata": {},
   "outputs": [],
   "source": [
    "plt.figure(figsize=(18,12))\n",
    "plt.title('Varying audible signal - frequency domain')\n",
    "plt.plot(xf,np.abs(yf))\n",
    "plt.ylabel('power')\n",
    "plt.xlabel('Hz')\n"
   ]
  },
  {
   "cell_type": "code",
   "execution_count": null,
   "metadata": {},
   "outputs": [],
   "source": [
    "plt.plot(varying_freq_signal[:44100])"
   ]
  },
  {
   "cell_type": "code",
   "execution_count": null,
   "metadata": {},
   "outputs": [],
   "source": [
    "# perfect fifth\n",
    "\n",
    "f1 = 600\n",
    "f2 = 400 # 2/3 of f1\n",
    "\n",
    "_,sig1 = generate_sine_wave(f1,SAMPLE_RATE,DURATION)\n",
    "_,sig2 = generate_sine_wave(f2,SAMPLE_RATE,DURATION)\n",
    "\n",
    "perf_5 = sig1 + sig2\n",
    "\n",
    "write('perfect_5th.wav',SAMPLE_RATE,perf_5)"
   ]
  },
  {
   "cell_type": "code",
   "execution_count": null,
   "metadata": {},
   "outputs": [],
   "source": [
    "perf_5_yf = rfft(perf_5)\n",
    "perf_5_xf = rfftfreq(len(perf_5), 1 / SAMPLE_RATE)\n",
    "\n",
    "plt.plot(perf_5_xf[:1000],np.abs(perf_5_yf[:1000]))"
   ]
  },
  {
   "cell_type": "code",
   "execution_count": null,
   "metadata": {
    "scrolled": false
   },
   "outputs": [],
   "source": [
    "# piano frequencies\n",
    "import re\n",
    "\n",
    "SAMPLE_RATE = 44100\n",
    "\n",
    "frequencies = []\n",
    "with open('piano_freq.txt','r') as f:\n",
    "    \n",
    "    for line in f:\n",
    "        result = re.match('[0-9]+\\.[0-9]+',line.split()[-1])\n",
    "        if result:\n",
    "            frequencies.append(result.group(0))\n",
    "            \n",
    "frequencies = np.array(frequencies).astype(float)\n",
    "power_arr = np.repeat(1,len(frequencies))\n",
    "\n",
    "piano_keys = concat_freqs(frequencies,power_arr)\n",
    "\n",
    "piano_keys = normalize_sig(piano_keys)\n",
    "\n",
    "write('piano_keys.wav',SAMPLE_RATE,piano_keys)\n",
    "\n"
   ]
  },
  {
   "cell_type": "code",
   "execution_count": null,
   "metadata": {},
   "outputs": [],
   "source": [
    "yf = rfft(piano_keys)\n",
    "yf = yf - yf.mean()\n",
    "\n",
    "xf = rfftfreq(len(piano_keys), 1 / SAMPLE_RATE)\n",
    "\n",
    "plt.figure(figsize=(18,12))\n",
    "plt.plot(xf,np.abs(yf) / np.abs(yf).max())"
   ]
  }
 ],
 "metadata": {
  "kernelspec": {
   "display_name": "Python 3",
   "language": "python",
   "name": "python3"
  },
  "language_info": {
   "codemirror_mode": {
    "name": "ipython",
    "version": 3
   },
   "file_extension": ".py",
   "mimetype": "text/x-python",
   "name": "python",
   "nbconvert_exporter": "python",
   "pygments_lexer": "ipython3",
   "version": "3.8.10"
  }
 },
 "nbformat": 4,
 "nbformat_minor": 4
}
