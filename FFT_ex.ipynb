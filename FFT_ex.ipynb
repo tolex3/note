{
 "cells": [
  {
   "cell_type": "code",
   "execution_count": null,
   "metadata": {},
   "outputs": [],
   "source": [
    "import numpy as np\n",
    "import matplotlib.pyplot as plt\n",
    "import seaborn as sns\n",
    "import pandas as pd\n",
    "from scipy.fft import rfft,rfftfreq\n",
    "\n",
    "sns.set()"
   ]
  },
  {
   "cell_type": "code",
   "execution_count": null,
   "metadata": {},
   "outputs": [],
   "source": [
    "\n",
    "SAMPLE_RATE = 16  # Hertz - Nyquist theorem : sampling rate at least 2 x highest signal freq. \n",
    "DURATION = 5  # Seconds\n",
    "\n",
    "def generate_sine_wave(freq, sample_rate, duration):\n",
    "    x = np.linspace(0, duration, sample_rate * duration, endpoint=False)\n",
    "    frequencies = x * freq\n",
    "    # 2pi because np.sin takes radians\n",
    "    y = np.sin((2 * np.pi) * frequencies)\n",
    "    return x, y\n",
    "\n",
    "# Generate a 2 hertz sine wave that lasts for 5 seconds\n",
    "x, y = generate_sine_wave(2, SAMPLE_RATE, DURATION)\n",
    "x2,y2 = generate_sine_wave(4,SAMPLE_RATE,DURATION)\n",
    "\n",
    "plt.figure(figsize=(18,12))\n",
    "plt.plot(x, y)\n",
    "plt.plot(x2,y2)\n",
    "plt.show()"
   ]
  },
  {
   "cell_type": "code",
   "execution_count": null,
   "metadata": {},
   "outputs": [],
   "source": [
    "signal = y + y2 * 0.5\n",
    "\n",
    "N = SAMPLE_RATE * DURATION\n",
    "\n",
    "yf = rfft(signal)\n",
    "xf = rfftfreq(N, 1 / SAMPLE_RATE)\n",
    "\n",
    "plt.plot(xf, np.abs(yf) / N)\n",
    "plt.ylabel('power')\n",
    "plt.xlabel('frequency')\n",
    "plt.show()"
   ]
  },
  {
   "cell_type": "code",
   "execution_count": null,
   "metadata": {},
   "outputs": [],
   "source": [
    "faked_yearly_data = np.array([0,1,2,3,4,4,3,2,1,0] * 10)\n",
    "faked_yearly_data = faked_yearly_data / faked_yearly_data.max() #normalize\n",
    "\n",
    "plt.plot(faked_yearly_data,'o--')"
   ]
  },
  {
   "cell_type": "code",
   "execution_count": null,
   "metadata": {},
   "outputs": [],
   "source": [
    "\n",
    "sample_rate = 10 # 10 samples per decennium\n",
    "\n",
    "yf = rfft(faked_yearly_data)\n",
    "xf = rfftfreq(len(faked_yearly_data),1 / sample_rate) #normalize so that we can have low sampling rate (Nyquist)\n",
    "\n",
    "plt.plot(xf,np.abs(yf) / len(faked_yearly_data))\n",
    "plt.xlabel('freq [ 1/ decade]')\n"
   ]
  }
 ],
 "metadata": {
  "kernelspec": {
   "display_name": "Python 3",
   "language": "python",
   "name": "python3"
  },
  "language_info": {
   "codemirror_mode": {
    "name": "ipython",
    "version": 3
   },
   "file_extension": ".py",
   "mimetype": "text/x-python",
   "name": "python",
   "nbconvert_exporter": "python",
   "pygments_lexer": "ipython3",
   "version": "3.8.6"
  }
 },
 "nbformat": 4,
 "nbformat_minor": 4
}
