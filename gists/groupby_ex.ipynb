{
 "cells": [
  {
   "cell_type": "code",
   "execution_count": 6,
   "metadata": {},
   "outputs": [
    {
     "name": "stdout",
     "output_type": "stream",
     "text": [
      "+++ DataFrame +++\n",
      "                          Temp  TWS  TWD  Pressure\n",
      "City Timestamp                                    \n",
      "Sth  2018-01-01 08:00:00    12   21  224      1080\n",
      "Gbg  2018-01-01 08:00:00    11   31  180       980\n",
      "Sth  2018-01-01 15:00:00     8    6  350       920\n",
      "Gbg  2018-01-01 15:00:00     2    9   90      1002\n",
      "Sth  2018-01-02 08:00:00     4    2   91      1001\n",
      "Gbg  2018-01-02 08:00:00    16    6  135       991\n",
      "Cph  2018-01-01 08:00:00     0   40   85       881\n",
      "     2018-01-01 15:00:00    21   18   95       773\n",
      "Hel  2018-01-02 08:00:00     1    7   65       664\n",
      "     2018-01-02 15:00:00     0    9   45       557\n"
     ]
    }
   ],
   "source": [
    "import numpy as np\n",
    "import matplotlib.pyplot as plt\n",
    "import pandas as pd\n",
    "\n",
    "df = pd.read_csv('../groupby_ex.csv',sep=';'\n",
    "                 ,header=0,parse_dates=['Timestamp'],\n",
    "                 index_col=['City','Timestamp'])\n",
    "\n",
    "print ('+++ DataFrame +++')\n",
    "print (df.head(40))\n",
    "\n"
   ]
  },
  {
   "cell_type": "code",
   "execution_count": 8,
   "metadata": {},
   "outputs": [
    {
     "name": "stdout",
     "output_type": "stream",
     "text": [
      "\n",
      "+++ city_group +++\n",
      "                Temp   TWS    TWD  Pressure\n",
      "City Timestamp                             \n",
      "Cph  1          10.5  29.0   90.0     827.0\n",
      "Gbg  1           6.5  20.0  135.0     991.0\n",
      "     2          16.0   6.0  135.0     991.0\n",
      "Hel  2           0.5   8.0   55.0     610.5\n",
      "Sth  1          10.0  13.5  287.0    1000.0\n",
      "     2           4.0   2.0   91.0    1001.0\n"
     ]
    }
   ],
   "source": [
    "#daily mean values by city per day of month\n",
    "city_group = df.groupby(['City',df.index.get_level_values(\n",
    "    'Timestamp').day]).mean()\n",
    "\n",
    "print ('\\n+++ city_group +++')\n",
    "print (city_group)\n"
   ]
  },
  {
   "cell_type": "code",
   "execution_count": 9,
   "metadata": {},
   "outputs": [
    {
     "name": "stdout",
     "output_type": "stream",
     "text": [
      "\n",
      "+++ col_group by dict +++\n",
      "                          summa\n",
      "City Timestamp                 \n",
      "Sth  2018-01-01 08:00:00   1337\n",
      "Gbg  2018-01-01 08:00:00   1202\n",
      "Sth  2018-01-01 15:00:00   1284\n",
      "Gbg  2018-01-01 15:00:00   1103\n",
      "Sth  2018-01-02 08:00:00   1098\n",
      "Gbg  2018-01-02 08:00:00   1148\n",
      "Cph  2018-01-01 08:00:00   1006\n",
      "     2018-01-01 15:00:00    907\n",
      "Hel  2018-01-02 08:00:00    737\n",
      "     2018-01-02 15:00:00    611\n",
      "{'Temp': 7.5, 'TWS': 14.9, 'TWD': 136.0, 'Pressure': 884.9}\n"
     ]
    }
   ],
   "source": [
    "#grouping by columns - see letter_type ex\n",
    "col_group = df.groupby({x:'summa' for x in df.columns},axis=1).sum()\n",
    "print ('\\n+++ col_group by dict +++')\n",
    "print (col_group)\n",
    "print ({x:df[x].mean() for x in df.columns})\n"
   ]
  },
  {
   "cell_type": "code",
   "execution_count": 5,
   "metadata": {},
   "outputs": [
    {
     "name": "stdout",
     "output_type": "stream",
     "text": [
      "\n",
      "+++ letter_grp by function +++\n",
      "                          startsWithNonT  startsWithT\n",
      "City Timestamp                                       \n",
      "Sth  2018-01-01 08:00:00            1080          257\n",
      "Gbg  2018-01-01 08:00:00             980          222\n",
      "Sth  2018-01-01 15:00:00             920          364\n",
      "Gbg  2018-01-01 15:00:00            1002          101\n",
      "Sth  2018-01-02 08:00:00            1001           97\n",
      "Gbg  2018-01-02 08:00:00             991          157\n",
      "Cph  2018-01-01 08:00:00             881          125\n",
      "     2018-01-01 15:00:00             773          134\n",
      "Hel  2018-01-02 08:00:00             664           73\n",
      "     2018-01-02 15:00:00             557           54\n"
     ]
    }
   ],
   "source": [
    "def letter_type(colName):\n",
    "    #print (colName)\n",
    "    if colName.lower()[0] =='t':\n",
    "        return 'startsWithT'\n",
    "    else:\n",
    "        return 'startsWithNonT'\n",
    "\n",
    "print ('\\n+++ letter_grp by function +++')\n",
    "letter_grp = df.groupby(letter_type,axis=1).sum()\n",
    "print (letter_grp)"
   ]
  }
 ],
 "metadata": {
  "kernelspec": {
   "display_name": "Python 3",
   "language": "python",
   "name": "python3"
  },
  "language_info": {
   "codemirror_mode": {
    "name": "ipython",
    "version": 3
   },
   "file_extension": ".py",
   "mimetype": "text/x-python",
   "name": "python",
   "nbconvert_exporter": "python",
   "pygments_lexer": "ipython3",
   "version": "3.6.9"
  }
 },
 "nbformat": 4,
 "nbformat_minor": 4
}
