{
 "cells": [
  {
   "cell_type": "code",
   "execution_count": null,
   "metadata": {},
   "outputs": [],
   "source": [
    "import numpy as np\n",
    "import matplotlib.pyplot as plt\n",
    "import pandas as pd\n",
    "\n",
    "df = pd.read_csv('../groupby_ex.csv',sep=';'\n",
    "                 ,header=0,parse_dates=['Timestamp'],\n",
    "                 index_col=['City','Timestamp'])\n",
    "\n",
    "print ('+++ DataFrame +++')\n",
    "print (df.head(40))\n",
    "\n"
   ]
  },
  {
   "cell_type": "code",
   "execution_count": null,
   "metadata": {},
   "outputs": [],
   "source": [
    "#daily mean values by city per day of month\n",
    "city_group = df.groupby(['City',df.index.get_level_values(\n",
    "    'Timestamp').day]).mean()\n",
    "\n",
    "print ('\\n+++ city_group +++')\n",
    "print (city_group)\n"
   ]
  },
  {
   "cell_type": "code",
   "execution_count": null,
   "metadata": {},
   "outputs": [],
   "source": [
    "#grouping by columns - see letter_type ex\n",
    "col_group = df.groupby({x:'summa' for x in df.columns},axis=1).sum()\n",
    "print ('\\n+++ col_group by dict +++')\n",
    "print (col_group)\n",
    "print ({x:df[x].mean() for x in df.columns})\n"
   ]
  },
  {
   "cell_type": "code",
   "execution_count": null,
   "metadata": {},
   "outputs": [],
   "source": [
    "def letter_type(colName):\n",
    "    #print (colName)\n",
    "    if colName.lower()[0] =='t':\n",
    "        return 'startsWithT'\n",
    "    else:\n",
    "        return 'startsWithNonT'\n",
    "\n",
    "print ('\\n+++ letter_grp by function +++')\n",
    "letter_grp = df.groupby(letter_type,axis=1).sum()\n",
    "print (letter_grp)"
   ]
  }
 ],
 "metadata": {
  "kernelspec": {
   "display_name": "Python 3",
   "language": "python",
   "name": "python3"
  },
  "language_info": {
   "codemirror_mode": {
    "name": "ipython",
    "version": 3
   },
   "file_extension": ".py",
   "mimetype": "text/x-python",
   "name": "python",
   "nbconvert_exporter": "python",
   "pygments_lexer": "ipython3",
   "version": "3.8.6"
  }
 },
 "nbformat": 4,
 "nbformat_minor": 4
}
