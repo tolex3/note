{
 "cells": [
  {
   "cell_type": "code",
   "execution_count": null,
   "metadata": {},
   "outputs": [],
   "source": [
    "import numpy as np\n",
    "import matplotlib.pyplot as plt\n",
    "import seaborn as sns\n",
    "import pandas as pd\n",
    "\n",
    "sns.set()"
   ]
  },
  {
   "cell_type": "code",
   "execution_count": null,
   "metadata": {},
   "outputs": [],
   "source": [
    "np.random.seed(4711)\n",
    "\n",
    "df = pd.DataFrame({'F_1': np.random.randint(1,6,6),\n",
    "                  'F_2' : np.random.randint(1,6,6),\n",
    "                  'M_1' : np.random.randint(1,6,6),\n",
    "                  'M_2' : np.random.randint(1,6,6)})\n",
    "\n",
    "midx = pd.MultiIndex.from_arrays([[2000,2000,2001,2001,2002,2002],[1,2,1,2,1,2]])\n",
    "\n",
    "df = df.set_index(midx)\n",
    "df.index.names=('year','half')\n",
    "df"
   ]
  },
  {
   "cell_type": "code",
   "execution_count": null,
   "metadata": {},
   "outputs": [],
   "source": [
    "def gender(col):\n",
    "    if 'F' in col:\n",
    "        return 'F'\n",
    "    \n",
    "    if 'M' in col:\n",
    "        return 'M'"
   ]
  },
  {
   "cell_type": "code",
   "execution_count": null,
   "metadata": {},
   "outputs": [],
   "source": [
    "\n",
    "g = df.groupby(gender,axis=1)\n",
    "g.apply(np.sum,axis=1)"
   ]
  },
  {
   "cell_type": "code",
   "execution_count": null,
   "metadata": {},
   "outputs": [],
   "source": [
    "groupby_sum = g.sum()\n",
    "groupby_sum"
   ]
  },
  {
   "cell_type": "code",
   "execution_count": null,
   "metadata": {},
   "outputs": [],
   "source": [
    "groupby_transform_sum = g.transform(np.sum)\n",
    "groupby_transform_sum"
   ]
  },
  {
   "cell_type": "code",
   "execution_count": null,
   "metadata": {},
   "outputs": [],
   "source": [
    "df / groupby_transform_sum"
   ]
  }
 ],
 "metadata": {
  "kernelspec": {
   "display_name": "Python 3",
   "language": "python",
   "name": "python3"
  },
  "language_info": {
   "codemirror_mode": {
    "name": "ipython",
    "version": 3
   },
   "file_extension": ".py",
   "mimetype": "text/x-python",
   "name": "python",
   "nbconvert_exporter": "python",
   "pygments_lexer": "ipython3",
   "version": "3.8.6"
  }
 },
 "nbformat": 4,
 "nbformat_minor": 4
}
