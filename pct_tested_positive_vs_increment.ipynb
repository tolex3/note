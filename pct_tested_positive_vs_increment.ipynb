{
 "cells": [
  {
   "cell_type": "code",
   "execution_count": null,
   "metadata": {},
   "outputs": [],
   "source": [
    "import pandas as pd\n",
    "import numpy as np\n",
    "import matplotlib.pyplot as plt\n",
    "import seaborn as sns\n",
    "\n",
    "sns.set()"
   ]
  },
  {
   "cell_type": "code",
   "execution_count": null,
   "metadata": {},
   "outputs": [],
   "source": [
    "week_dick = pd.read_pickle('weekly_dick.pkl')\n",
    "week_dick.keys()"
   ]
  },
  {
   "cell_type": "code",
   "execution_count": null,
   "metadata": {},
   "outputs": [],
   "source": [
    "week_dick['Sweden'].tail()"
   ]
  },
  {
   "cell_type": "code",
   "execution_count": null,
   "metadata": {},
   "outputs": [],
   "source": [
    "def strip(x):\n",
    "    return x.replace('\\t','')\n",
    "\n",
    "country_populations = pd.read_csv('world_pop.csv',\n",
    "                                  sep=';',header=None,index_col=0,names=['population'],\n",
    "                                 thousands=',',converters={0 : strip})\n",
    "\n",
    "def process_country(country_name,country_df,color,param='inc'):\n",
    "    \n",
    "    cum_country_df = country_df.cumsum()\n",
    "    \n",
    "    cum_country_df['inc_%'] = cum_country_df['inc'] / country_populations.loc[country_name,'population']\n",
    "        \n",
    "    plt.plot(cum_country_df['inc_%'],\n",
    "             country_df[param] / (country_populations.loc[country_name,'population']/ 1e6),\n",
    "             'o--',\n",
    "             label=country_name,color=color)\n",
    "    \n",
    "    plt.legend(loc='best')\n",
    "    plt.ylabel('Weekly {} per million'.format(param))\n",
    "    plt.xlabel('fraction of population tested positive')\n",
    "    "
   ]
  },
  {
   "cell_type": "code",
   "execution_count": null,
   "metadata": {},
   "outputs": [],
   "source": []
  },
  {
   "cell_type": "code",
   "execution_count": null,
   "metadata": {},
   "outputs": [],
   "source": [
    "plt.figure(figsize=(18,12))\n",
    "\n",
    "colors = ['b','lime','orange','yellow','navy','k','crimson','maroon','cyan','deeppink']\n",
    "\n",
    "for i,country in enumerate(week_dick.keys()):\n",
    "    process_country(country,week_dick[country][:5],colors[i],'dead_inc')\n",
    "    \n",
    "    "
   ]
  }
 ],
 "metadata": {
  "kernelspec": {
   "display_name": "Python 3",
   "language": "python",
   "name": "python3"
  },
  "language_info": {
   "codemirror_mode": {
    "name": "ipython",
    "version": 3
   },
   "file_extension": ".py",
   "mimetype": "text/x-python",
   "name": "python",
   "nbconvert_exporter": "python",
   "pygments_lexer": "ipython3",
   "version": "3.8.6"
  }
 },
 "nbformat": 4,
 "nbformat_minor": 4
}
