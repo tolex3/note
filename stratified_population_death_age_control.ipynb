{
 "cells": [
  {
   "cell_type": "code",
   "execution_count": null,
   "metadata": {},
   "outputs": [],
   "source": [
    "#### MUST RUN SIMPSON_POPULATION_DEATHS_PER_AGE_GROUP TO INCORPORATE NEW DATA FOR 2020\n",
    "\n",
    "\n",
    "##### LESSONS LEARNED :\n",
    "# 1) DONT SUM AVERAGES : DEATH RATES MUST BE CONVERTED TO ABSOLUTE NUMBERS BEFORE SUMMING AGE CATEGORIES,\n",
    "#    AND FIRST THEN CONVERT BACK TO NEW RATES !!! EXAMPLE: 100 CATEGORIES OF AGE EACH WITH RATE OF 2% SUMS TO 200%...!\n",
    "\n",
    "### ASSUMPTIONS : 2020 NR DEATHS SECOND HALF OF YEAR WILL BE SAME AS 1 ST HALF (DOUBTFUL)\n",
    "\n",
    "#### POPULATION DATA AND AGE STRUCTURE FOR 2020 SAME AS FOR 2019\n",
    "\n",
    "##### down below the death data for 2020 are doubled, since at design time, we have access to data jan-june. \n",
    "##### When data for additional months arrive, the scaling must be changed accoridngly\n",
    "\n",
    "# standardization algorithm from : https://www.healthknowledge.org.uk/e-learning/epidemiology/specialists/standardisation\n",
    "\n",
    "\n",
    "import requests\n",
    "import numpy as np\n",
    "import matplotlib.pyplot as plt\n",
    "import seaborn as sns\n",
    "import pandas as pd\n",
    "\n",
    "sns.set()"
   ]
  },
  {
   "cell_type": "code",
   "execution_count": null,
   "metadata": {},
   "outputs": [],
   "source": [
    "url = 'http://api.scb.se/OV0104/v1/doris/sv/ssd/START/BE/BE0101/BE0101I/Dodstal'\n",
    "\n",
    "data = {\n",
    "  \"query\": [\n",
    "    {\n",
    "      \"code\": \"Kon\",\n",
    "      \"selection\": {\n",
    "        \"filter\": \"item\",\n",
    "        \"values\": [\n",
    "          \"4\"\n",
    "        ]\n",
    "      }\n",
    "    }\n",
    "  ],\n",
    "  \"response\": {\n",
    "    \"format\": \"json\"\n",
    "  }\n",
    "}"
   ]
  },
  {
   "cell_type": "code",
   "execution_count": null,
   "metadata": {},
   "outputs": [],
   "source": [
    "r = requests.post(url,json=data)\n",
    "r.status_code\n",
    "\n",
    "json = r.json()"
   ]
  },
  {
   "cell_type": "code",
   "execution_count": null,
   "metadata": {},
   "outputs": [],
   "source": [
    "#parse death data from json to df \n",
    "\n",
    "data_list = []\n",
    "\n",
    "nr_records = (len(json['data']))\n",
    "\n",
    "for rec in range(nr_records):\n",
    "\n",
    "    data_list.append ((json['data'][rec]['key'][0],json['data'][rec]['key'][2],json['data'][rec]['values'][0]))"
   ]
  },
  {
   "cell_type": "code",
   "execution_count": null,
   "metadata": {},
   "outputs": [],
   "source": [
    "# death rate df from SCB data, deaths per 1000\n",
    "\n",
    "death_rate = pd.DataFrame(data_list,columns=['age_grp','year','dead_per_1k'])\n",
    "death_rate"
   ]
  },
  {
   "cell_type": "code",
   "execution_count": null,
   "metadata": {},
   "outputs": [],
   "source": [
    "death_rate['year'] = death_rate['year'].astype(int)\n",
    "death_rate['dead_per_1k'] = death_rate['dead_per_1k'].astype(float)\n",
    "\n",
    "# make age_grp categorial for correct sorting\n",
    "death_rate['age_grp'] = pd.Categorical(death_rate['age_grp'],['0','1-4','5-9','10-14','15-19','20-24','25-29',\n",
    "                                             '30-34','35-39','40-44','45-49','50-54','55-59',\n",
    "                                             '60-64','65-69','70-74','75-79','80-84',\n",
    "                                             '85-89','90+'])\n"
   ]
  },
  {
   "cell_type": "code",
   "execution_count": null,
   "metadata": {},
   "outputs": [],
   "source": [
    "death_rate_idx = ['0','1-4','5-9','10-14','15-19','20-24','25-29','30-34','35-39',\n",
    "                '40-44','45-49','50-54','55-59','60-64','65-69','70-74','75-79',\n",
    "                '80-84','85-89','90+']"
   ]
  },
  {
   "cell_type": "code",
   "execution_count": null,
   "metadata": {},
   "outputs": [],
   "source": [
    "#pivot for easier handling\n",
    "death_rate = pd.pivot(death_rate,index='year',columns='age_grp',values='dead_per_1k')\n",
    "death_rate = death_rate.T\n",
    "\n",
    "death_rate.index = death_rate_idx\n",
    "death_rate"
   ]
  },
  {
   "cell_type": "code",
   "execution_count": null,
   "metadata": {
    "scrolled": false
   },
   "outputs": [],
   "source": [
    "# Darwin awards to young males.....\n",
    "\n",
    "# max deathrate and corresponding column index \n",
    "\n",
    "print(death_rate.max(axis=1),death_rate.apply(lambda row: np.argmax(row),axis=1))\n",
    "\n",
    "death_rate.plot(figsize=(18,12),style='o--',title='Sweden deaths per 1K per age group, 2000-2019')\n",
    "plt.xlabel('age group')\n",
    "plt.ylabel('deaths per 1000 [log scale]')\n",
    "plt.yscale('log')\n",
    "_= plt.xticks(range(len(death_rate)),death_rate.index.values,rotation=90)"
   ]
  },
  {
   "cell_type": "code",
   "execution_count": null,
   "metadata": {},
   "outputs": [],
   "source": [
    "# fetch population data\n",
    "\n",
    "url2 = 'http://api.scb.se/OV0104/v1/doris/sv/ssd/START/BE/BE0101/BE0101A/BefolkningR1860'\n",
    "data2 = {\n",
    "  \"query\": [\n",
    "    {\n",
    "      \"code\": \"Alder\",\n",
    "      \"selection\": {\n",
    "        \"filter\": \"agg:Ålder5år\",\n",
    "        \"values\": [\n",
    "          \"-4\",\n",
    "          \"5-9\",\n",
    "          \"10-14\",\n",
    "          \"15-19\",\n",
    "          \"20-24\",\n",
    "          \"25-29\",\n",
    "          \"30-34\",\n",
    "          \"35-39\",\n",
    "          \"40-44\",\n",
    "          \"45-49\",\n",
    "          \"50-54\",\n",
    "          \"55-59\",\n",
    "          \"60-64\",\n",
    "          \"65-69\",\n",
    "          \"70-74\",\n",
    "          \"75-79\",\n",
    "          \"80-84\",\n",
    "          \"85-89\",\n",
    "          \"90-94\",\n",
    "          \"95-99\",\n",
    "          \"100+\"\n",
    "        ]\n",
    "      }\n",
    "    },\n",
    "    {\n",
    "      \"code\": \"Kon\",\n",
    "      \"selection\": {\n",
    "        \"filter\": \"item\",\n",
    "        \"values\": [\n",
    "          \"1\",\n",
    "          \"2\"\n",
    "        ]\n",
    "      }\n",
    "    },\n",
    "    {\n",
    "      \"code\": \"Tid\",\n",
    "      \"selection\": {\n",
    "        \"filter\": \"item\",\n",
    "        \"values\": [\n",
    "          \"2000\",\n",
    "          \"2001\",\n",
    "          \"2002\",\n",
    "          \"2003\",\n",
    "          \"2004\",\n",
    "          \"2005\",\n",
    "          \"2006\",\n",
    "          \"2007\",\n",
    "          \"2008\",\n",
    "          \"2009\",\n",
    "          \"2010\",\n",
    "          \"2011\",\n",
    "          \"2012\",\n",
    "          \"2013\",\n",
    "          \"2014\",\n",
    "          \"2015\",\n",
    "          \"2016\",\n",
    "          \"2017\",\n",
    "          \"2018\",\n",
    "          \"2019\"\n",
    "        ]\n",
    "      }\n",
    "    }\n",
    "  ],\n",
    "  \"response\": {\n",
    "    \"format\": \"json\"\n",
    "  }\n",
    "}\n"
   ]
  },
  {
   "cell_type": "code",
   "execution_count": null,
   "metadata": {},
   "outputs": [],
   "source": [
    "r2 = requests.post(url2,json=data2)\n",
    "print (r2.status_code)\n",
    "json2 = r2.json()"
   ]
  },
  {
   "cell_type": "code",
   "execution_count": null,
   "metadata": {},
   "outputs": [],
   "source": [
    "#parse population data\n",
    "\n",
    "data_list2 = []\n",
    "\n",
    "nr_records2 = (len(json2['data']))\n",
    "\n",
    "for rec2 in range(nr_records2):\n",
    "\n",
    "    data_list2.append ((json2['data'][rec2]['key'][0],\n",
    "                        json2['data'][rec2]['key'][1],json2['data'][rec2]['key'][2],json2['data'][rec2]['values'][0]))\n"
   ]
  },
  {
   "cell_type": "code",
   "execution_count": null,
   "metadata": {},
   "outputs": [],
   "source": [
    "# put pop.data into df2\n",
    "\n",
    "population = pd.DataFrame(data_list2,columns=['age_grp','gender','year','pop'])\n",
    "population['year'] = population['year'].astype(int)\n",
    "population['pop'] = population['pop'].astype(int)\n",
    "\n"
   ]
  },
  {
   "cell_type": "code",
   "execution_count": null,
   "metadata": {},
   "outputs": [],
   "source": [
    "# make age_grp categorical for correct sort order\n",
    "population['age_grp'] = pd.Categorical(population['age_grp'],['-4','5-9','10-14','15-19','20-24','25-29',\n",
    "                                               '30-34','35-39','40-44','45-49','50-54',\n",
    "                                               '55-59','60-64','65-69','70-74','75-79',\n",
    "                                               '80-84','85-89','90-94','95-99','100+'])\n",
    "\n",
    "population"
   ]
  },
  {
   "cell_type": "code",
   "execution_count": null,
   "metadata": {},
   "outputs": [],
   "source": [
    "# sum male + female by grouping \n",
    "population = population.groupby(['age_grp','year']).sum()\n",
    "population = population.unstack()\n",
    "population = population.droplevel(0,axis=1)\n",
    "\n",
    "population_idx = ['1-4','5-9','10-14','15-19','20-24','25-29','30-34','35-39',\n",
    "                '40-44','45-49','50-54','55-59','60-64','65-69','70-74','75-79',\n",
    "                '80-84','85-89','90-94','95-99','100+']\n",
    "\n",
    "population.index = population_idx\n",
    "population"
   ]
  },
  {
   "cell_type": "code",
   "execution_count": null,
   "metadata": {},
   "outputs": [],
   "source": [
    "# in order to compare with death rates, where 0-year old are separate, and highest cat is 90+,\n",
    "# must do some restructruring of age groups"
   ]
  },
  {
   "cell_type": "code",
   "execution_count": null,
   "metadata": {},
   "outputs": [],
   "source": [
    "# new index to confirm with death rates\n",
    "\n",
    "population_idx = ['1-4','5-9','10-14','15-19','20-24','25-29','30-34','35-39',\n",
    "                '40-44','45-49','50-54','55-59','60-64','65-69','70-74','75-79',\n",
    "                '80-84','85-89','90+']\n",
    "\n",
    "# merge the 90-94,95-99 and 100+ groups to 90+\n",
    "\n",
    "pop_90_plus = population.iloc[-3:].sum()\n",
    "population = population.drop(['90-94','95-99','100+'])\n",
    "population = population.append(pop_90_plus,ignore_index=True)\n",
    "population.index = population_idx\n"
   ]
  },
  {
   "cell_type": "code",
   "execution_count": null,
   "metadata": {},
   "outputs": [],
   "source": [
    "# born under the year - find the 0-years old\n",
    "\n",
    "url3 = 'http://api.scb.se/OV0104/v1/doris/sv/ssd/START/BE/BE0101/BE0101H/FoddaK'\n",
    "\n",
    "data3 = {\n",
    "  \"query\": [\n",
    "    {\n",
    "      \"code\": \"Region\",\n",
    "      \"selection\": {\n",
    "        \"filter\": \"vs:RegionRiket99\",\n",
    "        \"values\": []\n",
    "      }\n",
    "    },\n",
    "    {\n",
    "      \"code\": \"AlderModer\",\n",
    "      \"selection\": {\n",
    "        \"filter\": \"vs:ÅlderTotA\",\n",
    "        \"values\": []\n",
    "      }\n",
    "    },\n",
    "    {\n",
    "      \"code\": \"Kon\",\n",
    "      \"selection\": {\n",
    "        \"filter\": \"item\",\n",
    "        \"values\": [\n",
    "          \"1\",\n",
    "          \"2\"\n",
    "        ]\n",
    "      }\n",
    "    },\n",
    "    {\n",
    "      \"code\": \"Tid\",\n",
    "      \"selection\": {\n",
    "        \"filter\": \"item\",\n",
    "        \"values\": [\n",
    "          \"2000\",\n",
    "          \"2001\",\n",
    "          \"2002\",\n",
    "          \"2003\",\n",
    "          \"2004\",\n",
    "          \"2005\",\n",
    "          \"2006\",\n",
    "          \"2007\",\n",
    "          \"2008\",\n",
    "          \"2009\",\n",
    "          \"2010\",\n",
    "          \"2011\",\n",
    "          \"2012\",\n",
    "          \"2013\",\n",
    "          \"2014\",\n",
    "          \"2015\",\n",
    "          \"2016\",\n",
    "          \"2017\",\n",
    "          \"2018\",\n",
    "          \"2019\"\n",
    "        ]\n",
    "      }\n",
    "    }\n",
    "  ],\n",
    "  \"response\": {\n",
    "    \"format\": \"json\"\n",
    "  }\n",
    "}"
   ]
  },
  {
   "cell_type": "code",
   "execution_count": null,
   "metadata": {},
   "outputs": [],
   "source": [
    "r3 = requests.post(url3,json=data3)\n",
    "print (r3.status_code)\n",
    "json3 = r3.json()"
   ]
  },
  {
   "cell_type": "code",
   "execution_count": null,
   "metadata": {},
   "outputs": [],
   "source": [
    "#parse population data\n",
    "\n",
    "data_list3 = []\n",
    "\n",
    "nr_records3 = (len(json3['data']))\n",
    "\n",
    "for rec3 in range(nr_records3):\n",
    "\n",
    "    data_list3.append ((json3['data'][rec3]['key'][0],\n",
    "                        json3['data'][rec3]['key'][1],json3['data'][rec3]['values'][0]))\n"
   ]
  },
  {
   "cell_type": "code",
   "execution_count": null,
   "metadata": {},
   "outputs": [],
   "source": [
    "# put pop.data into df2\n",
    "\n",
    "births = pd.DataFrame(data_list3,columns=['gender','year','0'])\n",
    "births['year'] = births['year'].astype(int)\n",
    "births['0'] = births['0'].astype(int)\n",
    "\n",
    "births"
   ]
  },
  {
   "cell_type": "code",
   "execution_count": null,
   "metadata": {},
   "outputs": [],
   "source": [
    "# add boys + girls\n",
    "\n",
    "births = (births.groupby(['year']).sum()).T\n",
    "births.index.name='age_grp'\n",
    "births"
   ]
  },
  {
   "cell_type": "code",
   "execution_count": null,
   "metadata": {},
   "outputs": [],
   "source": [
    "# add zero years old to top of population, subtract z-years from 1-4\n",
    "population = pd.concat([births,population],axis=0)\n",
    "population.loc['1-4',:] = population.loc['1-4',:] - population.loc['0',:]\n",
    "population\n"
   ]
  },
  {
   "cell_type": "code",
   "execution_count": null,
   "metadata": {},
   "outputs": [],
   "source": [
    "# check for correct totals\n",
    "\n",
    "population.sum()"
   ]
  },
  {
   "cell_type": "code",
   "execution_count": null,
   "metadata": {},
   "outputs": [],
   "source": [
    "#yby_pop_increase = population.sum() / (population.sum()).shift()\n",
    "#yby_pop_increase\n",
    "yby_age_increase = population.T / population.T.shift()\n",
    "\n",
    "age_increase_2019 = yby_age_increase.loc[2019]\n",
    "age_increase_2019"
   ]
  },
  {
   "cell_type": "code",
   "execution_count": null,
   "metadata": {},
   "outputs": [],
   "source": [
    "### ASSUME population for 2020 increases by age group as it did from 2018 to 2019\n",
    "pop_2020 = population[2019] * age_increase_2019\n",
    "population[2020] = pop_2020.astype(int)\n",
    "#population\n",
    "population.sum()"
   ]
  },
  {
   "cell_type": "code",
   "execution_count": null,
   "metadata": {},
   "outputs": [],
   "source": [
    "medel_pop = (population.T + population.T.shift()) / 2 #snittet av två påföljande år\n",
    "medel_pop = medel_pop.T\n",
    "medel_pop = medel_pop.drop(2000,axis=1)\n",
    "\n",
    "# use the official population average of two consequtive years; drop column 2000 in death rate also\n",
    "\n",
    "#### CHANGING POPULATION to official AVERAGE population! \n",
    "population = medel_pop\n",
    "####\n",
    "\n",
    "death_rate = death_rate.drop(2000,axis=1)"
   ]
  },
  {
   "cell_type": "code",
   "execution_count": null,
   "metadata": {},
   "outputs": [],
   "source": [
    "population.sum()"
   ]
  },
  {
   "cell_type": "code",
   "execution_count": null,
   "metadata": {},
   "outputs": [],
   "source": [
    "####\n",
    "#### MUST RUN SIMPSON_POPULATION_DEATHS_PER_AGE_GROUP TO INCORPORATE NEW DATA FOR 2020\n",
    "####\n",
    "deaths_2020_ytd = pd.read_pickle('deaths_2020_ytd.pkl')\n",
    "deaths_2020_ytd = deaths_2020_ytd.unstack()"
   ]
  },
  {
   "cell_type": "code",
   "execution_count": null,
   "metadata": {},
   "outputs": [],
   "source": [
    "deaths_2020_ytd = deaths_2020_ytd.drop(2019).T\n",
    "print(deaths_2020_ytd)\n",
    "print (deaths_2020_ytd.sum())"
   ]
  },
  {
   "cell_type": "code",
   "execution_count": null,
   "metadata": {},
   "outputs": [],
   "source": [
    "###### PARAMETER ######\n",
    "### how many months of 2020 we have data for - can be changed to days, e.g. year_fraction_factor = 1 / (days/365)\n",
    "###\n",
    "months = 6\n",
    "###\n",
    "#######################\n",
    "\n",
    "# print deaths inc FORECASTED DEATHS FOR 2020\n",
    "\n",
    "year_fraction_factor = 1 / (months/12)\n",
    "deaths_2020_ytd *= year_fraction_factor\n",
    "print (deaths_2020_ytd)\n",
    "print (deaths_2020_ytd.sum())"
   ]
  },
  {
   "cell_type": "code",
   "execution_count": null,
   "metadata": {},
   "outputs": [],
   "source": [
    "# CALCULATE ABSOLUTE YEARLY DEATHS FROM POPULATION x DEATH RATE\n",
    "absolute_deaths = (death_rate / 1000 * population).astype(int,errors='ignore')\n",
    "print (absolute_deaths.sum())\n"
   ]
  },
  {
   "cell_type": "code",
   "execution_count": null,
   "metadata": {},
   "outputs": [],
   "source": [
    "# stratify absolute deaths into 4 age groups\n",
    "\n",
    "abs_deaths_64 = absolute_deaths.loc[:'60-64'].sum()\n",
    "abs_deaths_79 = absolute_deaths.loc['65-69' : '75-79'].sum()\n",
    "abs_deaths_89 = absolute_deaths.loc['80-84': '85-89'].sum()\n",
    "abs_deaths_90 = absolute_deaths.loc['90+']\n",
    "\n",
    "strata_abs_deaths = pd.concat([abs_deaths_64,abs_deaths_79,abs_deaths_89,abs_deaths_90],axis=1)\n",
    "strata_abs_deaths.columns = ['64','79','89','90+']\n",
    "strata_abs_deaths.loc[2020,:] = deaths_2020_ytd.T.values\n",
    "strata_abs_deaths = strata_abs_deaths.astype(int)\n",
    "print (strata_abs_deaths.sum(axis=1))\n",
    "strata_abs_deaths"
   ]
  },
  {
   "cell_type": "code",
   "execution_count": null,
   "metadata": {},
   "outputs": [],
   "source": [
    "# stratify population to 4 age groups\n",
    "\n",
    "abs_pop_64 = population.loc[:'60-64'].sum()\n",
    "abs_pop_79 = population.loc['65-69' : '75-79'].sum()\n",
    "abs_pop_89 = population.loc['80-84' : '85-89'].sum()\n",
    "abs_pop_90 = population.loc['90+']\n",
    "\n",
    "strata_abs_pop = pd.concat([abs_pop_64,abs_pop_79,abs_pop_89,abs_pop_90],axis=1)\n",
    "strata_abs_pop.columns = ['64','79','89','90+']\n",
    "strata_abs_pop"
   ]
  },
  {
   "cell_type": "code",
   "execution_count": null,
   "metadata": {},
   "outputs": [],
   "source": [
    "strata_abs_pop.sum(axis=1)"
   ]
  },
  {
   "cell_type": "code",
   "execution_count": null,
   "metadata": {},
   "outputs": [],
   "source": [
    "# compute stratified per capita death rates\n",
    "\n",
    "computed_death_rate_per_capita = strata_abs_deaths / strata_abs_pop\n",
    "computed_death_rate_per_capita \n"
   ]
  },
  {
   "cell_type": "code",
   "execution_count": null,
   "metadata": {},
   "outputs": [],
   "source": [
    "# death rate YBY change\n",
    "\n",
    "stratified_yearly_death_rate_per_capita_YBY_change = computed_death_rate_per_capita / computed_death_rate_per_capita.shift()\n",
    "stratified_yearly_death_rate_per_capita_YBY_change"
   ]
  },
  {
   "cell_type": "code",
   "execution_count": null,
   "metadata": {},
   "outputs": [],
   "source": [
    "# calculate avg 2015-2019 death rate\n",
    "\n",
    "stratified_avg_death_rate_2015_2019 = computed_death_rate_per_capita.loc[2015:2019].mean()\n",
    "stratified_avg_death_rate_2015_2019"
   ]
  },
  {
   "cell_type": "code",
   "execution_count": null,
   "metadata": {},
   "outputs": [],
   "source": [
    "# factor death yearly death rates vs avg 2015-2019\n",
    "\n",
    "stratified_death_rate_vs_avg_2015_2019 = computed_death_rate_per_capita / stratified_avg_death_rate_2015_2019\n",
    "\n",
    "stratified_death_rate_vs_avg_2015_2019"
   ]
  },
  {
   "cell_type": "code",
   "execution_count": null,
   "metadata": {},
   "outputs": [],
   "source": [
    "title = 'SWEDEN deaths per capita compared to average 2015-2019, age groups -64,65-79,80-89,90+\\n'\\\n",
    "'2020 forecast : ASSUMING full year 2020 deaths will be 2x deaths 2020 Jan-Jun\\nDataSource:SCB.se'\n",
    "\n",
    "stratified_death_rate_vs_avg_2015_2019.plot(figsize=(18,12),\n",
    "                                            style='o--',title=title)\n",
    "plt.xticks(range(2001,2021))\n",
    "plt.ylabel('factor')\n",
    "plt.savefig('death_rate_trend.jpg',format='jpg')"
   ]
  },
  {
   "cell_type": "code",
   "execution_count": null,
   "metadata": {},
   "outputs": [],
   "source": [
    "title = 'Sweden Deaths per Capita per Age Group : 2001-2020\\n\\n' +\\\n",
    "'ASSUMPTIONS: \\n1) Number of deaths 2:d half 2020 will be equal to 1:st half\\n' +\\\n",
    "'2) population 2020 grows, per age group, as between 2018-2019\\n\\n' +\\\n",
    "r'DataSource : SCB.se'\n",
    "\n",
    "(computed_death_rate_per_capita).plot(kind='bar',\n",
    "                                    figsize=(18,12),\n",
    "                                      title=title)\n",
    "plt.yscale('log')\n",
    "plt.ylabel('deaths per capita [log scale]')\n",
    "plt.legend(['0-64','65-79','80-89','90+'])\n",
    "plt.savefig('age_adj_death_ratio_1.jpg',format='jpg')\n"
   ]
  },
  {
   "cell_type": "code",
   "execution_count": null,
   "metadata": {
    "scrolled": false
   },
   "outputs": [],
   "source": [
    "title = 'Sweden Deaths per Age Group, non-adj (abs numbers) : 2001-2020\\n\\n' +\\\n",
    "'ASSUMPTIONS: \\n1) Number of deaths 2:d half 2020 will be equal to 1:st half\\n' +\\\n",
    "'2) population 2020 grows, per age group, as between 2018-2019\\n\\n' +\\\n",
    "r'DataSource : SCB.se'\n",
    "print (computed_death_rate_per_capita)\n",
    "total_computed_deaths = computed_death_rate_per_capita * strata_abs_pop\n",
    "total_computed_deaths.plot(kind='bar',\n",
    "                           stacked=True,figsize=(18,12),title=title)\n",
    "plt.legend(['0-64','65-79','80-89','90+'])\n",
    "plt.ylabel('number of deaths')\n",
    "total_computed_deaths.sum(axis=1)\n",
    "plt.savefig('age_adj_abs_numbers_age_grp_1.jpg',format='jpg',dpi=600)\n",
    "total_computed_deaths.sum(axis=1)\n"
   ]
  },
  {
   "cell_type": "code",
   "execution_count": null,
   "metadata": {},
   "outputs": [],
   "source": [
    "dead_per_M_strata = (total_computed_deaths / strata_abs_pop * 1e6).astype(int)\n",
    "dead_per_M_strata"
   ]
  },
  {
   "cell_type": "code",
   "execution_count": null,
   "metadata": {},
   "outputs": [],
   "source": [
    "std_pop = strata_abs_pop.loc[2001]\n",
    "std_pop"
   ]
  },
  {
   "cell_type": "code",
   "execution_count": null,
   "metadata": {},
   "outputs": [],
   "source": [
    "computed_death_rate_per_capita"
   ]
  },
  {
   "cell_type": "code",
   "execution_count": null,
   "metadata": {},
   "outputs": [],
   "source": [
    "age_adj_deaths = std_pop * computed_death_rate_per_capita\n",
    "age_adj_deaths"
   ]
  },
  {
   "cell_type": "code",
   "execution_count": null,
   "metadata": {},
   "outputs": [],
   "source": [
    "title = 'Sweden Age Adjusted Deaths per Age Group, non-pop-adjusted (abs numbers) : 2001-2020\\n\\n' +\\\n",
    "'ASSUMPTIONS: \\n1) Number of deaths 2:d half 2020 will be equal to 1:st half\\n' +\\\n",
    "'2) population 2020 grows, per age group, as between 2018-2019\\n\\n' +\\\n",
    "r'DataSource : SCB.se'\n",
    "age_adj_deaths.plot(kind='bar',stacked=True,figsize=(18,12),title=title)\n",
    "plt.legend(['0-64','65-79','80-89','90+'])\n",
    "plt.ylabel('number of deaths [age adjusted]')\n",
    "plt.ylim([0,100000])\n",
    "plt.savefig('age_adj_no_pop_adjusted_3.jpg',format='jpg',dpi=600)\n"
   ]
  },
  {
   "cell_type": "code",
   "execution_count": null,
   "metadata": {},
   "outputs": [],
   "source": [
    "print (std_pop.sum())\n",
    "age_adj_deaths_per_M = age_adj_deaths.sum(axis=1) / (std_pop.sum() / 1e6)\n",
    "age_adj_deaths_per_M"
   ]
  },
  {
   "cell_type": "code",
   "execution_count": null,
   "metadata": {},
   "outputs": [],
   "source": [
    "title = 'Sweden Age Adjusted + Population Adjusted Deaths All Age Groups : 2001-2020\\n\\n' +\\\n",
    "'ASSUMPTIONS: \\n1) Number of deaths 2:d half 2020 will be equal to 1:st half\\n' +\\\n",
    "'2) population 2020 grows, per age group, as between 2018-2019\\n\\n' +\\\n",
    "r'DataSource : SCB.se'\n",
    "\n",
    "age_adj_deaths_per_M.plot(kind='bar',figsize=(18,12),title=title,color='crimson')\n",
    "plt.ylabel('age adjusted deaths per million')\n",
    "plt.savefig('age_adj_pop_adj_4.jpg',format='jpg')\n"
   ]
  },
  {
   "cell_type": "code",
   "execution_count": null,
   "metadata": {},
   "outputs": [],
   "source": [
    "strata_abs_pop.head()"
   ]
  },
  {
   "cell_type": "code",
   "execution_count": null,
   "metadata": {},
   "outputs": [],
   "source": [
    "def create_age_idx(a):\n",
    "    if a == '64' : return 1\n",
    "    if a == '79' : return 2\n",
    "    if a == '89' : return 3\n",
    "    if a == '90+' : return 4\n",
    "\n",
    "all_data = strata_abs_pop.unstack().reset_index()\n",
    "all_data.rename(columns={'level_0' : 'age_grp',0 : 'pop' },inplace=True)\n",
    "\n",
    "temp = strata_abs_deaths.unstack().reset_index()\n",
    "temp.rename(columns={'level_0' : 'age_grp', 0 : 'dead'},inplace=True)\n",
    "all_data = pd.concat([all_data,temp['dead']],axis=1)\n",
    "all_data['year_idx'] = all_data['year'] - 2000\n",
    "all_data['age_idx'] = all_data['age_grp'].apply(create_age_idx)\n",
    "all_data['pop'] = all_data['pop'].astype(int)\n",
    "all_data.tail(40)"
   ]
  },
  {
   "cell_type": "code",
   "execution_count": null,
   "metadata": {},
   "outputs": [],
   "source": []
  },
  {
   "cell_type": "code",
   "execution_count": null,
   "metadata": {},
   "outputs": [],
   "source": []
  },
  {
   "cell_type": "code",
   "execution_count": null,
   "metadata": {},
   "outputs": [],
   "source": [
    "#PYMC\n",
    "import pymc as pm\n",
    "from pymc.Matplot import plot as pmplot\n",
    "\n",
    "\n",
    "### condition on year by assigning a unique alpha to each year\n",
    "### condition on age_grp by assigning a unique beta to each age group\n",
    "\n",
    "# model: \n",
    "# dead ~ Binomial(population,p)\n",
    "# p = logit(alpha[year_idx] + beta[age_idx])\n",
    "# alpha[year_idx] ~ Normal(0,10)\n",
    "# beta[age_idx] ~ Normal(0,10) \n",
    "\n",
    "\n",
    "year_idx = all_data['year_idx'] \n",
    "age_idx = all_data['age_idx']\n",
    "\n",
    "alpha = pm.Normal('alpha',0, 1 / 5 ** 2,size=len(year_idx)) # 20 years\n",
    "\n",
    "beta = pm.Normal('beta',0,1 / 5 ** 2,size=4)\n",
    "\n",
    "\n",
    "@pm.deterministic\n",
    "def logit_age(age_idx=age_idx-1,year_idx=year_idx-1,alpha=alpha,beta=beta):\n",
    "        \n",
    "    return np.exp(alpha[year_idx] + beta[age_idx]) / (\n",
    "        1 + np.exp(alpha[year_idx] + beta[age_idx]))\n",
    "\n",
    "\n",
    "lkh_age = pm.Binomial('lkh_age',n=all_data['pop'],p=logit_age,observed=True,\n",
    "                      value=all_data['dead'])\n",
    "\n",
    "model = pm.Model([alpha,beta,logit_age,lkh_age])\n",
    "\n",
    "_map = pm.MAP(model)\n",
    "_map.fit()\n",
    "\n",
    "mcmc = pm.MCMC(model)\n",
    "sample = mcmc.sample(500000,200000,3)"
   ]
  },
  {
   "cell_type": "code",
   "execution_count": null,
   "metadata": {},
   "outputs": [],
   "source": [
    "def logit_pure(x):\n",
    "    return (np.exp(x)) / (1 + np.exp(x))\n",
    "\n",
    "def logistic_pure(p):\n",
    "    return np.log(p / (1 - p))"
   ]
  },
  {
   "cell_type": "code",
   "execution_count": null,
   "metadata": {
    "scrolled": false
   },
   "outputs": [],
   "source": [
    "#\n",
    "\n",
    "alpha_2001 = mcmc.trace('alpha')[:,0]\n",
    "alpha_2002 = mcmc.trace('alpha')[:,1]\n",
    "alpha_2003 = mcmc.trace('alpha')[:,2]\n",
    "alpha_2004 = mcmc.trace('alpha')[:,3]\n",
    "alpha_2005 = mcmc.trace('alpha')[:,4]\n",
    "alpha_2006 = mcmc.trace('alpha')[:,5]\n",
    "alpha_2007 = mcmc.trace('alpha')[:,6]\n",
    "alpha_2008 = mcmc.trace('alpha')[:,7]\n",
    "alpha_2009 = mcmc.trace('alpha')[:,8]\n",
    "alpha_2010 = mcmc.trace('alpha')[:,9]\n",
    "alpha_2011 = mcmc.trace('alpha')[:,10]\n",
    "alpha_2012 = mcmc.trace('alpha')[:,11]\n",
    "alpha_2013 = mcmc.trace('alpha')[:,12]\n",
    "alpha_2014 = mcmc.trace('alpha')[:,13]\n",
    "alpha_2015 = mcmc.trace('alpha')[:,14]\n",
    "alpha_2016 = mcmc.trace('alpha')[:,15]\n",
    "alpha_2017 = mcmc.trace('alpha')[:,16]\n",
    "alpha_2018 = mcmc.trace('alpha')[:,17]\n",
    "alpha_2019 = mcmc.trace('alpha')[:,18]\n",
    "alpha_2020 = mcmc.trace('alpha')[:,19]\n",
    "\n",
    "\n",
    "beta_64 = mcmc.trace('beta')[:,0]\n",
    "beta_79 = mcmc.trace('beta')[:,1]\n",
    "beta_89 = mcmc.trace('beta')[:,2]\n",
    "beta_90 = mcmc.trace('beta')[:,3]\n",
    "\n",
    "pmplot(beta_64,'beta_64')\n",
    "pmplot(beta_79,'beta_79')\n",
    "pmplot(beta_89,'beta_89')\n",
    "pmplot(beta_90,'beta_90')\n",
    "\n",
    "pmplot(alpha_2001,'alpha_2001')\n",
    "pmplot(alpha_2002,'alpha_2002')\n",
    "pmplot(alpha_2012,'alpha_2012')\n",
    "pmplot(alpha_2015,'alpha_2015')\n",
    "pmplot(alpha_2019,'alpha_2019')\n",
    "pmplot(alpha_2020,'alpha_2020')\n",
    "\n",
    "\n",
    "\n",
    "\n",
    "result = pd.DataFrame({\n",
    "                       'alpha_2001': alpha_2001,\n",
    "                       'alpha_2002' : alpha_2002,\n",
    "                       'alpha_2003' : alpha_2003,\n",
    "                       'alpha_2004' : alpha_2004,\n",
    "                       'alpha_2005' : alpha_2005,\n",
    "                       'alpha_2006' : alpha_2006,\n",
    "                       'alpha_2007' : alpha_2007,\n",
    "                       'alpha_2008' : alpha_2008,\n",
    "                       'alpha_2009' : alpha_2009,\n",
    "                       'alpha_2010' : alpha_2010,\n",
    "                       'alpha_2011' : alpha_2011,\n",
    "                       'alpha_2012' : alpha_2012,\n",
    "                       'alpha_2013' : alpha_2013,\n",
    "                       'alpha_2014' : alpha_2014,\n",
    "                       'alpha_2015' : alpha_2015,\n",
    "                       'alpha_2016' : alpha_2016,\n",
    "                       'alpha_2017' : alpha_2017,\n",
    "                       'alpha_2018' : alpha_2018,\n",
    "                       'alpha_2019' : alpha_2019,\n",
    "                        'alpha_2020' : alpha_2020,\n",
    "                        'beta_64' : beta_64,\n",
    "                        'beta_79' : beta_79,\n",
    "                        'beta_89' : beta_89,\n",
    "                        'beta_90' : beta_90})\n",
    "                      \n",
    "\n",
    "result.describe()\n"
   ]
  },
  {
   "cell_type": "code",
   "execution_count": null,
   "metadata": {},
   "outputs": [],
   "source": [
    "result_p = pd.DataFrame()\n",
    "\n",
    "\n",
    "\n",
    "result_p['2001_64'] = logit_pure(result['alpha_2001'] + result['beta_64']) \n",
    "result_p['2001_79'] = logit_pure(result['alpha_2001'] + result['beta_79']) \n",
    "result_p['2001_89'] = logit_pure(result['alpha_2001'] + result['beta_89']) \n",
    "result_p['2001_90'] = logit_pure(result['alpha_2001'] + result['beta_90']) \n",
    "\n",
    "result_p['2002_64'] = logit_pure(result['alpha_2002'] + result['beta_64']) \n",
    "result_p['2002_79'] = logit_pure(result['alpha_2002'] + result['beta_79']) \n",
    "result_p['2002_89'] = logit_pure(result['alpha_2002'] + result['beta_89']) \n",
    "result_p['2002_90'] = logit_pure(result['alpha_2002'] + result['beta_90']) \n",
    "\n",
    "result_p['2003_64'] = logit_pure(result['alpha_2003'] + result['beta_64']) \n",
    "result_p['2003_79'] = logit_pure(result['alpha_2003'] + result['beta_79']) \n",
    "result_p['2003_89'] = logit_pure(result['alpha_2003'] + result['beta_89']) \n",
    "result_p['2003_90'] = logit_pure(result['alpha_2003'] + result['beta_90']) \n",
    "\n",
    "result_p['2004_64'] = logit_pure(result['alpha_2004'] + result['beta_64']) \n",
    "result_p['2004_79'] = logit_pure(result['alpha_2004'] + result['beta_79']) \n",
    "result_p['2004_89'] = logit_pure(result['alpha_2004'] + result['beta_89']) \n",
    "result_p['2004_90'] = logit_pure(result['alpha_2004'] + result['beta_90']) \n",
    "\n",
    "result_p['2005_64'] = logit_pure(result['alpha_2005'] + result['beta_64']) \n",
    "result_p['2005_79'] = logit_pure(result['alpha_2005'] + result['beta_79']) \n",
    "result_p['2005_89'] = logit_pure(result['alpha_2005'] + result['beta_89']) \n",
    "result_p['2005_90'] = logit_pure(result['alpha_2005'] + result['beta_90']) \n",
    "\n",
    "result_p['2006_64'] = logit_pure(result['alpha_2006'] + result['beta_64']) \n",
    "result_p['2006_79'] = logit_pure(result['alpha_2006'] + result['beta_79']) \n",
    "result_p['2006_89'] = logit_pure(result['alpha_2006'] + result['beta_89']) \n",
    "result_p['2006_90'] = logit_pure(result['alpha_2006'] + result['beta_90']) \n",
    "\n",
    "result_p['2007_64'] = logit_pure(result['alpha_2007'] + result['beta_64']) \n",
    "result_p['2007_79'] = logit_pure(result['alpha_2007'] + result['beta_79']) \n",
    "result_p['2007_89'] = logit_pure(result['alpha_2007'] + result['beta_89']) \n",
    "result_p['2007_90'] = logit_pure(result['alpha_2007'] + result['beta_90']) \n",
    "\n",
    "result_p['2008_64'] = logit_pure(result['alpha_2008'] + result['beta_64']) \n",
    "result_p['2008_79'] = logit_pure(result['alpha_2008'] + result['beta_79']) \n",
    "result_p['2008_89'] = logit_pure(result['alpha_2008'] + result['beta_89']) \n",
    "result_p['2008_90'] = logit_pure(result['alpha_2008'] + result['beta_90']) \n",
    "\n",
    "result_p['2009_64'] = logit_pure(result['alpha_2009'] + result['beta_64']) \n",
    "result_p['2009_79'] = logit_pure(result['alpha_2009'] + result['beta_79']) \n",
    "result_p['2009_89'] = logit_pure(result['alpha_2009'] + result['beta_89']) \n",
    "result_p['2009_90'] = logit_pure(result['alpha_2009'] + result['beta_90']) \n",
    "\n",
    "result_p['2010_64'] = logit_pure(result['alpha_2010'] + result['beta_64']) \n",
    "result_p['2010_79'] = logit_pure(result['alpha_2010'] + result['beta_79']) \n",
    "result_p['2010_89'] = logit_pure(result['alpha_2010'] + result['beta_89']) \n",
    "result_p['2010_90'] = logit_pure(result['alpha_2010'] + result['beta_90']) \n",
    "\n",
    "result_p['2011_64'] = logit_pure(result['alpha_2011'] + result['beta_64']) \n",
    "result_p['2011_79'] = logit_pure(result['alpha_2011'] + result['beta_79']) \n",
    "result_p['2011_89'] = logit_pure(result['alpha_2011'] + result['beta_89']) \n",
    "result_p['2011_90'] = logit_pure(result['alpha_2011'] + result['beta_90']) \n",
    "\n",
    "result_p['2012_64'] = logit_pure(result['alpha_2012'] + result['beta_64']) \n",
    "result_p['2012_79'] = logit_pure(result['alpha_2012'] + result['beta_79']) \n",
    "result_p['2012_89'] = logit_pure(result['alpha_2012'] + result['beta_89']) \n",
    "result_p['2012_90'] = logit_pure(result['alpha_2012'] + result['beta_90']) \n",
    "\n",
    "result_p['2013_64'] = logit_pure(result['alpha_2013'] + result['beta_64']) \n",
    "result_p['2013_79'] = logit_pure(result['alpha_2013'] + result['beta_79']) \n",
    "result_p['2013_89'] = logit_pure(result['alpha_2013'] + result['beta_89']) \n",
    "result_p['2013_90'] = logit_pure(result['alpha_2013'] + result['beta_90']) \n",
    "\n",
    "result_p['2014_64'] = logit_pure(result['alpha_2014'] + result['beta_64']) \n",
    "result_p['2014_79'] = logit_pure(result['alpha_2014'] + result['beta_79']) \n",
    "result_p['2014_89'] = logit_pure(result['alpha_2014'] + result['beta_89']) \n",
    "result_p['2014_90'] = logit_pure(result['alpha_2014'] + result['beta_90']) \n",
    "\n",
    "result_p['2015_64'] = logit_pure(result['alpha_2015'] + result['beta_64']) \n",
    "result_p['2015_79'] = logit_pure(result['alpha_2015'] + result['beta_79']) \n",
    "result_p['2015_89'] = logit_pure(result['alpha_2015'] + result['beta_89']) \n",
    "result_p['2015_90'] = logit_pure(result['alpha_2015'] + result['beta_90']) \n",
    "\n",
    "result_p['2016_64'] = logit_pure(result['alpha_2016'] + result['beta_64']) \n",
    "result_p['2016_79'] = logit_pure(result['alpha_2016'] + result['beta_79']) \n",
    "result_p['2016_89'] = logit_pure(result['alpha_2016'] + result['beta_89']) \n",
    "result_p['2016_90'] = logit_pure(result['alpha_2016'] + result['beta_90']) \n",
    "\n",
    "result_p['2017_64'] = logit_pure(result['alpha_2017'] + result['beta_64']) \n",
    "result_p['2017_79'] = logit_pure(result['alpha_2017'] + result['beta_79']) \n",
    "result_p['2017_89'] = logit_pure(result['alpha_2017'] + result['beta_89']) \n",
    "result_p['2017_90'] = logit_pure(result['alpha_2017'] + result['beta_90']) \n",
    "\n",
    "result_p['2018_64'] = logit_pure(result['alpha_2018'] + result['beta_64']) \n",
    "result_p['2018_79'] = logit_pure(result['alpha_2018'] + result['beta_79']) \n",
    "result_p['2018_89'] = logit_pure(result['alpha_2018'] + result['beta_89']) \n",
    "result_p['2018_90'] = logit_pure(result['alpha_2018'] + result['beta_90']) \n",
    "\n",
    "result_p['2019_64'] = logit_pure(result['alpha_2019'] + result['beta_64']) \n",
    "result_p['2019_79'] = logit_pure(result['alpha_2019'] + result['beta_79']) \n",
    "result_p['2019_89'] = logit_pure(result['alpha_2019'] + result['beta_89']) \n",
    "result_p['2019_90'] = logit_pure(result['alpha_2019'] + result['beta_90']) \n",
    "\n",
    "result_p['2020_64'] = logit_pure(result['alpha_2020'] + result['beta_64']) \n",
    "result_p['2020_79'] = logit_pure(result['alpha_2020'] + result['beta_79']) \n",
    "result_p['2020_89'] = logit_pure(result['alpha_2020'] + result['beta_89']) \n",
    "result_p['2020_90'] = logit_pure(result['alpha_2020'] + result['beta_90']) \n",
    "\n",
    "result_p.describe()\n"
   ]
  },
  {
   "cell_type": "code",
   "execution_count": null,
   "metadata": {},
   "outputs": [],
   "source": [
    "p_means = result_p.describe().loc['mean']\n",
    "p_means = p_means.reset_index()\n",
    "p_means[['year','age_grp']] = p_means['index'].str.split('_',1,expand=True)\n",
    "p_means = pd.pivot(p_means,index='age_grp',columns='year',values='mean')\n",
    "p_means = p_means.T\n",
    "p_means.rename(columns={'90' : '90+'},inplace=True)"
   ]
  },
  {
   "cell_type": "code",
   "execution_count": null,
   "metadata": {},
   "outputs": [],
   "source": [
    "p_means.index = range(2001,2021)"
   ]
  },
  {
   "cell_type": "code",
   "execution_count": null,
   "metadata": {},
   "outputs": [],
   "source": [
    "pymc_abs_deaths_cond_year_age = strata_abs_pop * p_means\n",
    "\n",
    "pymc_abs_sum = pymc_abs_deaths_cond_year_age.sum(axis=1)\n",
    "pymc_abs_sum"
   ]
  },
  {
   "cell_type": "code",
   "execution_count": null,
   "metadata": {},
   "outputs": [],
   "source": [
    "computed_abs_sum = total_computed_deaths.sum(axis=1)\n",
    "computed_abs_sum"
   ]
  },
  {
   "cell_type": "code",
   "execution_count": null,
   "metadata": {},
   "outputs": [],
   "source": [
    "combined_abs_sums = pd.concat([pymc_abs_sum,computed_abs_sum],axis=1)\n",
    "combined_abs_sums.columns=['pymc_abs_dead','analytic_abs_dead']\n",
    "combined_abs_sums"
   ]
  },
  {
   "cell_type": "code",
   "execution_count": null,
   "metadata": {},
   "outputs": [],
   "source": [
    "combined_abs_sums.plot(kind='bar',figsize=(18,12),title='SWEDEN All Cause Deaths conditioned on year + age_grp, absolute')\n",
    "plt.ylabel('number of deaths')"
   ]
  },
  {
   "cell_type": "code",
   "execution_count": null,
   "metadata": {},
   "outputs": [],
   "source": [
    "yearly_pop = strata_abs_pop.sum(axis=1)\n",
    "\n",
    "pop_adj_deaths = combined_abs_sums.div(yearly_pop / 1e6,axis=0)\n",
    "pop_adj_deaths.columns = ['pymc_dead_per_M','analytic_dead_per_M']\n",
    "pop_adj_deaths"
   ]
  },
  {
   "cell_type": "code",
   "execution_count": null,
   "metadata": {},
   "outputs": [],
   "source": [
    "pop_adj_deaths.plot(kind='bar',figsize=(18,12),\n",
    "                    title='SWEDEN All Cause Deaths, conditioned on year+age_grp, per Million pop')\n",
    "\n",
    "plt.ylabel('deaths per million')"
   ]
  }
 ],
 "metadata": {
  "kernelspec": {
   "display_name": "Python 3",
   "language": "python",
   "name": "python3"
  },
  "language_info": {
   "codemirror_mode": {
    "name": "ipython",
    "version": 3
   },
   "file_extension": ".py",
   "mimetype": "text/x-python",
   "name": "python",
   "nbconvert_exporter": "python",
   "pygments_lexer": "ipython3",
   "version": "3.6.9"
  }
 },
 "nbformat": 4,
 "nbformat_minor": 4
}
