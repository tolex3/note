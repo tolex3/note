{
 "cells": [
  {
   "cell_type": "code",
   "execution_count": null,
   "metadata": {},
   "outputs": [],
   "source": [
    "## leave the last line in the CSV!\n",
    "\n",
    "# # uses table taken from scb excel sheet 2\n",
    "# df = pd.read_csv('scb_dead_per_age.csv',sep=';',header=None,usecols=range(19),index_col=0)\n",
    "\n",
    "### ASSUME population for 2020 increases by age group as it did from 2018 to 2019\n",
    "\n",
    "### using average of two consecutive years for population\n",
    "\n",
    "#### !!!!! ANOMALY in SCB data: historical death data for (at least ) 2019 from statistikdatabasen \n",
    "# http://www.statistikdatabasen.scb.se/pxweb/sv/ssd/START__BE__BE0101__BE0101G/ManadFoddDod/table/tableViewLayout1/\n",
    "# does not concur with death data 2019 in the preliminary data! \n",
    "\n",
    "### DUE to okänd dödsdag when using the daily data of the preliminary stuff - much more okänd dag than okänd månad in \n",
    "### the monthly stuff\n",
    "####\n",
    "\n",
    "# ALL DATA BASED ON SCB PREL DATA IGNORES THOSE WITH UNKNOWN DAY OF DEATH !!!\n",
    "\n",
    "\n",
    "##### LESSONS LEARNED :\n",
    "# 1) DONT SUM AVERAGES : DEATH RATES MUST BE CONVERTED TO ABSOLUTE NUMBERS BEFORE SUMMING AGE CATEGORIES,\n",
    "#    AND FIRST THEN CONVERT BACK TO NEW RATES !!! EXAMPLE: 100 CATEGORIES OF AGE EACH WITH RATE OF 2% SUMS TO 200%...!\n",
    "\n",
    "### ASSUMPTIONS : 2020 NR DEATHS WILL GROW LINEARLY DEATHS = (1 / (NR_DATA_DAYS / 365)) * CURRENT_DEATHS\n",
    "\n",
    "#### POPULATION AGE STRUCTURE FOR 2020 SAME AS FOR 2019\n",
    "\n",
    "# standardization algorithm from : https://www.healthknowledge.org.uk/e-learning/epidemiology/specialists/standardisation\n",
    "\n",
    "\n",
    "import requests\n",
    "import numpy as np\n",
    "import matplotlib.pyplot as plt\n",
    "import seaborn as sns\n",
    "import pandas as pd\n",
    "\n",
    "sns.set()"
   ]
  },
  {
   "cell_type": "code",
   "execution_count": null,
   "metadata": {},
   "outputs": [],
   "source": [
    "def parse_scb_prel(YTD=True):\n",
    "    \n",
    "    def monthname2number(m):\n",
    "        if m == 'januari' : return 1\n",
    "        if m == 'februari' : return 2\n",
    "        if m == 'mars' : return 3\n",
    "        if m == 'april' : return 4\n",
    "        if m == 'maj' : return 5\n",
    "        if m == 'juni' : return 6\n",
    "        if m == 'juli' : return 7\n",
    "        if m == 'augusti' : return 8\n",
    "        if m == 'september' : return 9\n",
    "        if m == 'oktober' : return 10\n",
    "        if m == 'november' : return 11\n",
    "        if m == 'december' : return 12\n",
    "\n",
    "    df = pd.read_csv('scb-dead_per_day.csv',sep=';',usecols=[1,2,3,4,5,6,7,10,11],thousands=',')\n",
    "    \n",
    "    df['month'] = df['Månad'].apply(monthname2number)\n",
    "    df[['Månad','month']] = df[['Månad','month']].replace(np.nan,0)\n",
    "    df['month'] = df['month'].astype(int)\n",
    "    \n",
    "    df = df.replace(np.nan,0)\n",
    "\n",
    "    \n",
    "    df[['2015','2016','2017','2018','2019','2020','2015-2019']] = df[['2015','2016','2017','2018','2019','2020','2015-2019']].astype(int)\n",
    "\n",
    "    unknown_death_day = df.iloc[-1,:7]\n",
    "    \n",
    "    df.drop(366,inplace=True)\n",
    "    \n",
    "    if YTD:\n",
    "        df = df.loc[df['2020'] != 0]\n",
    "    \n",
    "    #df = df.loc[df['2020'] != 0]\n",
    "    \n",
    "    #df = df.drop('Månad',axis=1)\n",
    "    \n",
    "    index = pd.date_range('2020-01-01',periods=len(df))\n",
    "    df.index = index\n",
    "    \n",
    "    known_death_day = df.iloc[:,:7].sum()\n",
    "    \n",
    "    \n",
    "    unknown_death_day[['2015','2016','2017','2018','2019','2015-2019']] = unknown_death_day[\n",
    "    ['2015','2016','2017','2018','2019','2015-2019']] \n",
    "    \n",
    "    dead_pct_per_day = df[['2015','2016','2017','2018','2019','2020','2015-2019']] / known_death_day\n",
    "    \n",
    "    all_deaths = df[['2015','2016','2017','2018','2019','2020','2015-2019']] + unknown_death_day * dead_pct_per_day\n",
    "    \n",
    "    all_deaths = pd.concat([all_deaths,df['Månad']],axis=1)\n",
    "    \n",
    "    return all_deaths"
   ]
  },
  {
   "cell_type": "code",
   "execution_count": null,
   "metadata": {
    "scrolled": false
   },
   "outputs": [],
   "source": [
    "daily_deaths = parse_scb_prel()\n",
    "\n",
    "### year_fraction is used to predict full year 2020 deaths ###\n",
    "### goes from 1/366 to 1 ###\n",
    "\n",
    "year_fraction = len(daily_deaths) / 366"
   ]
  },
  {
   "cell_type": "code",
   "execution_count": null,
   "metadata": {},
   "outputs": [],
   "source": [
    "url = 'http://api.scb.se/OV0104/v1/doris/sv/ssd/START/BE/BE0101/BE0101I/Dodstal'\n",
    "\n",
    "data = {\n",
    "  \"query\": [\n",
    "    {\n",
    "      \"code\": \"Kon\",\n",
    "      \"selection\": {\n",
    "        \"filter\": \"item\",\n",
    "        \"values\": [\n",
    "          \"4\"\n",
    "        ]\n",
    "      }\n",
    "    }\n",
    "  ],\n",
    "  \"response\": {\n",
    "    \"format\": \"json\"\n",
    "  }\n",
    "}"
   ]
  },
  {
   "cell_type": "code",
   "execution_count": null,
   "metadata": {},
   "outputs": [],
   "source": [
    "r = requests.post(url,json=data)\n",
    "r.status_code\n",
    "\n",
    "json = r.json()"
   ]
  },
  {
   "cell_type": "code",
   "execution_count": null,
   "metadata": {},
   "outputs": [],
   "source": [
    "#parse death data from json to df \n",
    "\n",
    "data_list = []\n",
    "\n",
    "nr_records = (len(json['data']))\n",
    "\n",
    "for rec in range(nr_records):\n",
    "\n",
    "    data_list.append ((json['data'][rec]['key'][0],json['data'][rec]['key'][2],json['data'][rec]['values'][0]))"
   ]
  },
  {
   "cell_type": "code",
   "execution_count": null,
   "metadata": {},
   "outputs": [],
   "source": [
    "# death rate df from SCB data, deaths per 1000\n",
    "\n",
    "death_rate = pd.DataFrame(data_list,columns=['age_grp','year','dead_per_1k'])\n",
    "death_rate"
   ]
  },
  {
   "cell_type": "code",
   "execution_count": null,
   "metadata": {},
   "outputs": [],
   "source": [
    "death_rate['year'] = death_rate['year'].astype(int)\n",
    "death_rate['dead_per_1k'] = death_rate['dead_per_1k'].astype(float)\n",
    "\n",
    "# make age_grp categorial for correct sorting\n",
    "death_rate['age_grp'] = pd.Categorical(death_rate['age_grp'],['0','1-4','5-9','10-14','15-19','20-24','25-29',\n",
    "                                             '30-34','35-39','40-44','45-49','50-54','55-59',\n",
    "                                             '60-64','65-69','70-74','75-79','80-84',\n",
    "                                             '85-89','90+'])\n"
   ]
  },
  {
   "cell_type": "code",
   "execution_count": null,
   "metadata": {},
   "outputs": [],
   "source": [
    "death_rate_idx = ['0','1-4','5-9','10-14','15-19','20-24','25-29','30-34','35-39',\n",
    "                '40-44','45-49','50-54','55-59','60-64','65-69','70-74','75-79',\n",
    "                '80-84','85-89','90+']"
   ]
  },
  {
   "cell_type": "code",
   "execution_count": null,
   "metadata": {},
   "outputs": [],
   "source": [
    "#pivot for easier handling\n",
    "death_rate = pd.pivot(death_rate,index='year',columns='age_grp',values='dead_per_1k')\n",
    "death_rate = death_rate.T\n",
    "\n",
    "death_rate.index = death_rate_idx\n",
    "death_rate"
   ]
  },
  {
   "cell_type": "code",
   "execution_count": null,
   "metadata": {
    "scrolled": false
   },
   "outputs": [],
   "source": [
    "# Darwin awards to young males.....\n",
    "\n",
    "# max deathrate and corresponding column index \n",
    "\n",
    "print(death_rate.max(axis=1),death_rate.apply(lambda row: np.argmax(row),axis=1))\n",
    "\n",
    "death_rate.plot(figsize=(18,12),style='o--',title='Sweden deaths per 1K per age group, 2000-2019')\n",
    "plt.xlabel('age group')\n",
    "plt.ylabel('deaths per 1000 [log scale]')\n",
    "plt.yscale('log')\n",
    "_= plt.xticks(range(len(death_rate)),death_rate.index.values,rotation=90)"
   ]
  },
  {
   "cell_type": "code",
   "execution_count": null,
   "metadata": {},
   "outputs": [],
   "source": [
    "# fetch population data\n",
    "\n",
    "url2 = 'http://api.scb.se/OV0104/v1/doris/sv/ssd/START/BE/BE0101/BE0101A/BefolkningR1860'\n",
    "data2 = {\n",
    "  \"query\": [\n",
    "    {\n",
    "      \"code\": \"Alder\",\n",
    "      \"selection\": {\n",
    "        \"filter\": \"agg:Ålder5år\",\n",
    "        \"values\": [\n",
    "          \"-4\",\n",
    "          \"5-9\",\n",
    "          \"10-14\",\n",
    "          \"15-19\",\n",
    "          \"20-24\",\n",
    "          \"25-29\",\n",
    "          \"30-34\",\n",
    "          \"35-39\",\n",
    "          \"40-44\",\n",
    "          \"45-49\",\n",
    "          \"50-54\",\n",
    "          \"55-59\",\n",
    "          \"60-64\",\n",
    "          \"65-69\",\n",
    "          \"70-74\",\n",
    "          \"75-79\",\n",
    "          \"80-84\",\n",
    "          \"85-89\",\n",
    "          \"90-94\",\n",
    "          \"95-99\",\n",
    "          \"100+\"\n",
    "        ]\n",
    "      }\n",
    "    },\n",
    "    {\n",
    "      \"code\": \"Kon\",\n",
    "      \"selection\": {\n",
    "        \"filter\": \"item\",\n",
    "        \"values\": [\n",
    "          \"1\",\n",
    "          \"2\"\n",
    "        ]\n",
    "      }\n",
    "    },\n",
    "    {\n",
    "      \"code\": \"Tid\",\n",
    "      \"selection\": {\n",
    "        \"filter\": \"item\",\n",
    "        \"values\": [\n",
    "          \"2000\",\n",
    "          \"2001\",\n",
    "          \"2002\",\n",
    "          \"2003\",\n",
    "          \"2004\",\n",
    "          \"2005\",\n",
    "          \"2006\",\n",
    "          \"2007\",\n",
    "          \"2008\",\n",
    "          \"2009\",\n",
    "          \"2010\",\n",
    "          \"2011\",\n",
    "          \"2012\",\n",
    "          \"2013\",\n",
    "          \"2014\",\n",
    "          \"2015\",\n",
    "          \"2016\",\n",
    "          \"2017\",\n",
    "          \"2018\",\n",
    "          \"2019\"\n",
    "        ]\n",
    "      }\n",
    "    }\n",
    "  ],\n",
    "  \"response\": {\n",
    "    \"format\": \"json\"\n",
    "  }\n",
    "}\n"
   ]
  },
  {
   "cell_type": "code",
   "execution_count": null,
   "metadata": {},
   "outputs": [],
   "source": [
    "r2 = requests.post(url2,json=data2)\n",
    "print (r2.status_code)\n",
    "json2 = r2.json()"
   ]
  },
  {
   "cell_type": "code",
   "execution_count": null,
   "metadata": {},
   "outputs": [],
   "source": [
    "#parse population data\n",
    "\n",
    "data_list2 = []\n",
    "\n",
    "nr_records2 = (len(json2['data']))\n",
    "\n",
    "for rec2 in range(nr_records2):\n",
    "\n",
    "    data_list2.append ((json2['data'][rec2]['key'][0],\n",
    "                        json2['data'][rec2]['key'][1],json2['data'][rec2]['key'][2],json2['data'][rec2]['values'][0]))\n"
   ]
  },
  {
   "cell_type": "code",
   "execution_count": null,
   "metadata": {},
   "outputs": [],
   "source": [
    "# put pop.data into df2\n",
    "\n",
    "population = pd.DataFrame(data_list2,columns=['age_grp','gender','year','pop'])\n",
    "population['year'] = population['year'].astype(int)\n",
    "population['pop'] = population['pop'].astype(int)\n",
    "\n"
   ]
  },
  {
   "cell_type": "code",
   "execution_count": null,
   "metadata": {},
   "outputs": [],
   "source": [
    "# make age_grp categorical for correct sort order\n",
    "population['age_grp'] = pd.Categorical(population['age_grp'],['-4','5-9','10-14','15-19','20-24','25-29',\n",
    "                                               '30-34','35-39','40-44','45-49','50-54',\n",
    "                                               '55-59','60-64','65-69','70-74','75-79',\n",
    "                                               '80-84','85-89','90-94','95-99','100+'])\n",
    "\n",
    "population"
   ]
  },
  {
   "cell_type": "code",
   "execution_count": null,
   "metadata": {},
   "outputs": [],
   "source": [
    "# sum male + female by grouping \n",
    "population = population.groupby(['age_grp','year']).sum()\n",
    "population = population.unstack()\n",
    "population = population.droplevel(0,axis=1)\n",
    "\n",
    "population_idx = ['1-4','5-9','10-14','15-19','20-24','25-29','30-34','35-39',\n",
    "                '40-44','45-49','50-54','55-59','60-64','65-69','70-74','75-79',\n",
    "                '80-84','85-89','90-94','95-99','100+']\n",
    "\n",
    "population.index = population_idx\n",
    "population"
   ]
  },
  {
   "cell_type": "code",
   "execution_count": null,
   "metadata": {},
   "outputs": [],
   "source": [
    "population.sum()\n"
   ]
  },
  {
   "cell_type": "code",
   "execution_count": null,
   "metadata": {},
   "outputs": [],
   "source": [
    "# in order to compare with death rates, where 0-year old are separate, and highest cat is 90+,\n",
    "# must do some restructruring of age groups"
   ]
  },
  {
   "cell_type": "code",
   "execution_count": null,
   "metadata": {},
   "outputs": [],
   "source": [
    "# new index to confirm with death rates\n",
    "\n",
    "population_idx = ['1-4','5-9','10-14','15-19','20-24','25-29','30-34','35-39',\n",
    "                '40-44','45-49','50-54','55-59','60-64','65-69','70-74','75-79',\n",
    "                '80-84','85-89','90+']\n",
    "\n",
    "# merge the 90-94,95-99 and 100+ groups to 90+\n",
    "\n",
    "pop_90_plus = population.iloc[-3:].sum()\n",
    "population = population.drop(['90-94','95-99','100+'])\n",
    "population = population.append(pop_90_plus,ignore_index=True)\n",
    "population.index = population_idx\n",
    "population.sum()\n"
   ]
  },
  {
   "cell_type": "code",
   "execution_count": null,
   "metadata": {},
   "outputs": [],
   "source": [
    "# born under the year - find the 0-years old\n",
    "\n",
    "url3 = 'http://api.scb.se/OV0104/v1/doris/sv/ssd/START/BE/BE0101/BE0101H/FoddaK'\n",
    "\n",
    "data3 = {\n",
    "  \"query\": [\n",
    "    {\n",
    "      \"code\": \"Region\",\n",
    "      \"selection\": {\n",
    "        \"filter\": \"vs:RegionRiket99\",\n",
    "        \"values\": []\n",
    "      }\n",
    "    },\n",
    "    {\n",
    "      \"code\": \"AlderModer\",\n",
    "      \"selection\": {\n",
    "        \"filter\": \"vs:ÅlderTotA\",\n",
    "        \"values\": []\n",
    "      }\n",
    "    },\n",
    "    {\n",
    "      \"code\": \"Kon\",\n",
    "      \"selection\": {\n",
    "        \"filter\": \"item\",\n",
    "        \"values\": [\n",
    "          \"1\",\n",
    "          \"2\"\n",
    "        ]\n",
    "      }\n",
    "    },\n",
    "    {\n",
    "      \"code\": \"Tid\",\n",
    "      \"selection\": {\n",
    "        \"filter\": \"item\",\n",
    "        \"values\": [\n",
    "          \"2000\",\n",
    "          \"2001\",\n",
    "          \"2002\",\n",
    "          \"2003\",\n",
    "          \"2004\",\n",
    "          \"2005\",\n",
    "          \"2006\",\n",
    "          \"2007\",\n",
    "          \"2008\",\n",
    "          \"2009\",\n",
    "          \"2010\",\n",
    "          \"2011\",\n",
    "          \"2012\",\n",
    "          \"2013\",\n",
    "          \"2014\",\n",
    "          \"2015\",\n",
    "          \"2016\",\n",
    "          \"2017\",\n",
    "          \"2018\",\n",
    "          \"2019\"\n",
    "        ]\n",
    "      }\n",
    "    }\n",
    "  ],\n",
    "  \"response\": {\n",
    "    \"format\": \"json\"\n",
    "  }\n",
    "}"
   ]
  },
  {
   "cell_type": "code",
   "execution_count": null,
   "metadata": {},
   "outputs": [],
   "source": [
    "r3 = requests.post(url3,json=data3)\n",
    "print (r3.status_code)\n",
    "json3 = r3.json()"
   ]
  },
  {
   "cell_type": "code",
   "execution_count": null,
   "metadata": {},
   "outputs": [],
   "source": [
    "#parse population data\n",
    "\n",
    "data_list3 = []\n",
    "\n",
    "nr_records3 = (len(json3['data']))\n",
    "\n",
    "for rec3 in range(nr_records3):\n",
    "\n",
    "    data_list3.append ((json3['data'][rec3]['key'][0],\n",
    "                        json3['data'][rec3]['key'][1],json3['data'][rec3]['values'][0]))\n"
   ]
  },
  {
   "cell_type": "code",
   "execution_count": null,
   "metadata": {},
   "outputs": [],
   "source": [
    "# put pop.data into df2\n",
    "\n",
    "births = pd.DataFrame(data_list3,columns=['gender','year','0'])\n",
    "births['year'] = births['year'].astype(int)\n",
    "births['0'] = births['0'].astype(int)\n",
    "\n",
    "births"
   ]
  },
  {
   "cell_type": "code",
   "execution_count": null,
   "metadata": {},
   "outputs": [],
   "source": [
    "# add boys + girls\n",
    "\n",
    "births = (births.groupby(['year']).sum()).T\n",
    "births.index.name='age_grp'\n",
    "births"
   ]
  },
  {
   "cell_type": "code",
   "execution_count": null,
   "metadata": {},
   "outputs": [],
   "source": [
    "# add zero years old to top of population, subtract z-years from 1-4\n",
    "population = pd.concat([births,population],axis=0)\n",
    "population.loc['1-4',:] = population.loc['1-4',:] - population.loc['0',:]\n",
    "population\n"
   ]
  },
  {
   "cell_type": "code",
   "execution_count": null,
   "metadata": {},
   "outputs": [],
   "source": [
    "# check for correct totals\n",
    "\n",
    "population.sum()"
   ]
  },
  {
   "cell_type": "code",
   "execution_count": null,
   "metadata": {},
   "outputs": [],
   "source": [
    "#yby_pop_increase = population.sum() / (population.sum()).shift()\n",
    "#yby_pop_increase\n",
    "yby_age_increase = population.T / population.T.shift()\n",
    "yby_age_increase\n"
   ]
  },
  {
   "cell_type": "code",
   "execution_count": null,
   "metadata": {},
   "outputs": [],
   "source": [
    "max_age_increase = yby_age_increase.max(axis=1)\n",
    "max_age_increase_idx =yby_age_increase.apply(np.argmax,axis=1)\n",
    "print (max_age_increase)\n",
    "max_age_increase_idx"
   ]
  },
  {
   "cell_type": "code",
   "execution_count": null,
   "metadata": {},
   "outputs": [],
   "source": [
    "age_increase_2019 = yby_age_increase.loc[2019]\n",
    "age_increase_2019"
   ]
  },
  {
   "cell_type": "code",
   "execution_count": null,
   "metadata": {},
   "outputs": [],
   "source": [
    "### ASSUME population for 2020 increases by age group as it did from 2018 to 2019\n",
    "print (population.sum())\n",
    "pop_2020 = population[2019] * age_increase_2019\n",
    "population[2020] = pop_2020.astype(int)\n",
    "#population\n",
    "population.sum()"
   ]
  },
  {
   "cell_type": "code",
   "execution_count": null,
   "metadata": {},
   "outputs": [],
   "source": [
    "medel_pop = (population.T + population.T.shift()) / 2 #snittet av två påföljande år\n",
    "medel_pop = medel_pop.T\n",
    "medel_pop = medel_pop.drop(2000,axis=1)\n",
    "\n",
    "# use the official population average of two consequtive years; drop column 2000 in death rate also\n",
    "\n",
    "#### CHANGING POPULATION to official AVERAGE population! \n",
    "population = medel_pop\n",
    "####\n",
    "\n",
    "death_rate = death_rate.drop(2000,axis=1)"
   ]
  },
  {
   "cell_type": "code",
   "execution_count": null,
   "metadata": {},
   "outputs": [],
   "source": [
    "population.sum()"
   ]
  },
  {
   "cell_type": "code",
   "execution_count": null,
   "metadata": {},
   "outputs": [],
   "source": [
    "population.to_pickle('population.pkl')\n",
    "population"
   ]
  },
  {
   "cell_type": "code",
   "execution_count": null,
   "metadata": {},
   "outputs": [],
   "source": [
    "death_rate"
   ]
  },
  {
   "cell_type": "code",
   "execution_count": null,
   "metadata": {},
   "outputs": [],
   "source": [
    "mortality = (death_rate/ 1000)\n",
    "mortality.to_pickle('mortality.pkl')\n",
    "mortality"
   ]
  },
  {
   "cell_type": "code",
   "execution_count": null,
   "metadata": {},
   "outputs": [],
   "source": [
    "(population / population.sum()).T.plot(kind='bar',stacked=True,figsize=(18,12),\n",
    "                                       title='SWEDEN population age group fraction')\n",
    "\n",
    "plt.savefig('sweden_age_grp_fraction.jpg',format='jpg')"
   ]
  },
  {
   "cell_type": "code",
   "execution_count": null,
   "metadata": {},
   "outputs": [],
   "source": [
    "# table taken from scb excel sheet 2\n",
    "# to get 2020 deaths\n",
    "\n",
    "age_df = pd.read_csv('scb_dead_per_age.csv',sep=';',header=None,usecols=range(19),index_col=0)\n",
    "\n",
    "cols = ['2019_tot','2019_M_64','2019_M_79','2019_M_89','2019_M_90+',\n",
    "       '2019_W_64','2019_W_79','2019_W_89','2019_W_90+',\n",
    "       '2020_tot','2020_M_64','2020_M_79','2020_M_89','2020_M_90+',\n",
    "       '2020_W_64','2020_W_79','2020_W_89','2020_W_90+']\n",
    "\n",
    "index = pd.date_range('2020-01-01','2021-01-01')\n",
    "age_df.index = index\n",
    "age_df.columns = cols\n",
    "age_df"
   ]
  },
  {
   "cell_type": "code",
   "execution_count": null,
   "metadata": {},
   "outputs": [],
   "source": []
  },
  {
   "cell_type": "code",
   "execution_count": null,
   "metadata": {
    "scrolled": false
   },
   "outputs": [],
   "source": [
    "weekly_2020 = age_df.resample('W').sum()\n",
    "weekly_2020 = weekly_2020[['2020_M_64','2020_M_79','2020_M_89','2020_M_90+',\n",
    "                     '2020_W_64','2020_W_79','2020_W_89','2020_W_90+']]\n",
    "\n",
    "weekly_2020_both = pd.DataFrame()\n",
    "\n",
    "weekly_2020_both['64'] = (weekly_2020['2020_M_64'] + weekly_2020['2020_W_64']).copy()\n",
    "weekly_2020_both['79'] = (weekly_2020['2020_M_79'] + weekly_2020['2020_W_79']).copy()\n",
    "weekly_2020_both['89'] = (weekly_2020['2020_M_89'] + weekly_2020['2020_W_89']).copy()\n",
    "weekly_2020_both['90+'] = (weekly_2020['2020_M_90+'] + weekly_2020['2020_W_90+']).copy()\n",
    "\n",
    "\n",
    "weekly_2020_both = weekly_2020_both[(weekly_2020_both.T != 0).all()]\n",
    "weekly_2020_both = weekly_2020_both.iloc[:-2]\n",
    "weekly_2020_both"
   ]
  },
  {
   "cell_type": "code",
   "execution_count": null,
   "metadata": {},
   "outputs": [],
   "source": [
    "last_week = weekly_2020_both.index[-1].date()\n",
    "last_week"
   ]
  },
  {
   "cell_type": "code",
   "execution_count": null,
   "metadata": {},
   "outputs": [],
   "source": [
    "weekly_2020_both.plot(title='SWEDEN weekly abs deaths per age group YTD {}'.format(last_week),style='o--',\n",
    "                     figsize=(18,12))\n",
    "\n",
    "plt.ylabel('absolute weekly deaths')\n",
    "\n",
    "plt.savefig('sweden_weekly_abs_deaths_age_grp.jpg',format='jpg')"
   ]
  },
  {
   "cell_type": "code",
   "execution_count": null,
   "metadata": {},
   "outputs": [],
   "source": [
    "monthly = age_df.resample('M').sum()\n",
    "monthly"
   ]
  },
  {
   "cell_type": "code",
   "execution_count": null,
   "metadata": {},
   "outputs": [],
   "source": [
    "\n",
    "monthly.sum()\n",
    "\n"
   ]
  },
  {
   "cell_type": "code",
   "execution_count": null,
   "metadata": {},
   "outputs": [],
   "source": [
    "##### EVERYTHING BELOW IS SCALED BY EPSILON ! #####"
   ]
  },
  {
   "cell_type": "code",
   "execution_count": null,
   "metadata": {},
   "outputs": [],
   "source": []
  },
  {
   "cell_type": "code",
   "execution_count": null,
   "metadata": {},
   "outputs": [],
   "source": [
    "\n",
    "\n",
    "\n",
    "#monthly.drop(['2019_tot','2020_tot'],axis=1,inplace=True)\n",
    "monthly_sums_per_age = monthly.sum()\n",
    "cols = ['2019_M_64','2020_M_64','2019_M_79','2020_M_79','2019_M_89','2020_M_89','2019_M_90+','2020_M_90+',\n",
    "        '2019_W_64','2020_W_64','2019_W_79','2020_W_79','2019_W_89','2020_W_89','2019_W_90+','2020_W_90+']\n",
    "\n",
    "monthly_sums_per_age = monthly_sums_per_age[cols]\n",
    "\n",
    "foo = monthly_sums_per_age.index.str.contains('W')\n",
    "\n",
    "monthly_sums_per_age = pd.DataFrame(monthly_sums_per_age,columns=['dead'])\n",
    "\n",
    "\n",
    "monthly_sums_per_age['female'] = foo\n",
    "\n",
    "\n",
    "monthly_sums_per_age.reset_index(inplace=True,drop=False)\n",
    "\n",
    "bar = monthly_sums_per_age['index'].str[-3:].str.replace('_','').str.replace('+','').astype(int)\n",
    "\n",
    "monthly_sums_per_age['age'] = bar\n",
    "\n",
    "monthly_sums_per_age['year'] = monthly_sums_per_age['index'].apply(lambda x : x[:4])\n",
    "monthly_sums_per_age['year'] = monthly_sums_per_age['year'].apply(lambda x : pd.Timestamp(x).year)\n",
    "monthly_sums_per_age['gender'] = monthly_sums_per_age['female'].apply(lambda x : 'F' if x == True else 'M')\n",
    "monthly_sums_per_age.index = monthly_sums_per_age[['year','gender','age']]\n",
    "\n",
    "monthly_sums_per_age = monthly_sums_per_age.groupby(['year','age'])['dead'].sum()\n",
    "deaths_2020_ytd = monthly_sums_per_age.unstack()\n",
    "deaths_2020_ytd = deaths_2020_ytd.drop(2019).T\n",
    "\n",
    "\n",
    "### forecast full year 2020 deaths ###\n",
    "### to encounter the raising deaths from sept fwd, reduce epsilon from default 1 ###\n",
    "\n",
    "#### EPSILON #####\n",
    "\n",
    "epsilon = 0.96\n",
    "\n",
    "\n",
    "deaths_2020_full_year = deaths_2020_ytd * ( 1 / (year_fraction * epsilon))\n",
    "\n",
    "print (monthly_sums_per_age)\n",
    "print (deaths_2020_full_year)\n",
    "print (deaths_2020_full_year.sum())"
   ]
  },
  {
   "cell_type": "code",
   "execution_count": null,
   "metadata": {},
   "outputs": [],
   "source": [
    "pd.Series(epsilon).to_pickle('epsilon.pkl')"
   ]
  },
  {
   "cell_type": "code",
   "execution_count": null,
   "metadata": {},
   "outputs": [],
   "source": [
    "monthly_sums_per_age"
   ]
  },
  {
   "cell_type": "code",
   "execution_count": null,
   "metadata": {},
   "outputs": [],
   "source": [
    "# CALCULATE ABSOLUTE YEARLY DEATHS FROM POPULATION x DEATH RATE - 2020 forecasted \n",
    "absolute_deaths = (death_rate / 1000 * population).astype(int,errors='ignore')\n",
    "print (absolute_deaths.sum())\n"
   ]
  },
  {
   "cell_type": "code",
   "execution_count": null,
   "metadata": {},
   "outputs": [],
   "source": []
  },
  {
   "cell_type": "code",
   "execution_count": null,
   "metadata": {},
   "outputs": [],
   "source": [
    "# stratify absolute deaths into 4 age groups\n",
    "\n",
    "abs_deaths_64 = absolute_deaths.loc[:'60-64'].sum()\n",
    "abs_deaths_79 = absolute_deaths.loc['65-69' : '75-79'].sum()\n",
    "abs_deaths_89 = absolute_deaths.loc['80-84': '85-89'].sum()\n",
    "abs_deaths_90 = absolute_deaths.loc['90+']\n",
    "\n",
    "strata_abs_deaths = pd.concat([abs_deaths_64,abs_deaths_79,abs_deaths_89,abs_deaths_90],axis=1)\n",
    "strata_abs_deaths.columns = ['64','79','89','90+']\n",
    "\n",
    "strata_abs_deaths.loc[2020,:] = deaths_2020_full_year.T.values\n",
    "\n",
    "strata_abs_deaths = strata_abs_deaths.astype(int)\n",
    "print (strata_abs_deaths.sum(axis=1))\n",
    "strata_abs_deaths.to_pickle('strata_abs_deaths.pkl')\n",
    "strata_abs_deaths"
   ]
  },
  {
   "cell_type": "code",
   "execution_count": null,
   "metadata": {},
   "outputs": [],
   "source": [
    "strata_abs_deaths.plot(figsize=(18,12),style='o--',title='SWEDEN absolute deaths per age group')\n",
    "_= plt.xticks(range(2001,2021))\n",
    "plt.savefig('sweden_absolute_deaths_age_grp.jpg',format='jpg')"
   ]
  },
  {
   "cell_type": "code",
   "execution_count": null,
   "metadata": {},
   "outputs": [],
   "source": [
    "# stratify population to 4 age groups\n",
    "\n",
    "abs_pop_64 = population.loc[:'60-64'].sum()\n",
    "abs_pop_79 = population.loc['65-69' : '75-79'].sum()\n",
    "abs_pop_89 = population.loc['80-84' : '85-89'].sum()\n",
    "abs_pop_90 = population.loc['90+']\n",
    "\n",
    "strata_abs_pop = pd.concat([abs_pop_64,abs_pop_79,abs_pop_89,abs_pop_90],axis=1)\n",
    "strata_abs_pop.columns = ['64','79','89','90+']\n",
    "strata_abs_pop.to_pickle('strata_abs_pop.pkl')\n",
    "strata_abs_pop"
   ]
  },
  {
   "cell_type": "code",
   "execution_count": null,
   "metadata": {},
   "outputs": [],
   "source": [
    "strata_abs_pop.sum(axis=1)"
   ]
  },
  {
   "cell_type": "code",
   "execution_count": null,
   "metadata": {},
   "outputs": [],
   "source": [
    "# compute stratified per capita death rates\n",
    "\n",
    "computed_death_rate_per_capita = strata_abs_deaths / strata_abs_pop\n",
    "computed_death_rate_per_capita \n"
   ]
  },
  {
   "cell_type": "code",
   "execution_count": null,
   "metadata": {},
   "outputs": [],
   "source": [
    "### ABSOLUTE SHARK\n",
    "\n",
    "computed_death_rate_per_capita.plot(title='SWEDEN Mortality age groups -64,65-79,80-89,90+\\n'\\\n",
    "'2020 forecast : ASSUMING full year 2020 deaths follow linearly Y2D\\nDataSource:SCB.se',style='o--',\n",
    "                                   figsize=(18,12))\n",
    "_=plt.xticks(range(2001,2021))\n",
    "\n",
    "plt.ylabel('SWEDEN Mortality per age group')\n",
    "\n",
    "\n",
    "plt.savefig('Mortality_absolute_shark.jpg',format='jpg')"
   ]
  },
  {
   "cell_type": "code",
   "execution_count": null,
   "metadata": {},
   "outputs": [],
   "source": [
    "fig,axes = plt.subplots(2,2,sharex=True,figsize=(18,12))\n",
    "\n",
    "computed_death_rate_per_capita.plot(y='64',ax=axes[0,0],style='o--')\n",
    "computed_death_rate_per_capita.plot(y='79',ax=axes[0,1],style='o--')\n",
    "computed_death_rate_per_capita.plot(y='89',ax=axes[1,0],style='o--')\n",
    "computed_death_rate_per_capita.plot(y='90+',ax=axes[1,1],style='o--')\n",
    "\n",
    "axes[0,0].set_xticks(range(2001,2021))\n",
    "axes[1,0].set_xticklabels(range(2001,2021),rotation=90)\n",
    "axes[1,1].set_xticklabels(range(2001,2021),rotation=90)\n",
    "\n",
    "plt.suptitle('SWEDEN mortality per age group')\n",
    "\n",
    "plt.savefig('sweden_mortality_age_grp_subplots.jpg',format='jpg')\n"
   ]
  },
  {
   "cell_type": "code",
   "execution_count": null,
   "metadata": {},
   "outputs": [],
   "source": [
    "computed_death_rate_per_capita / computed_death_rate_per_capita.loc[2015:2019].mean()"
   ]
  },
  {
   "cell_type": "code",
   "execution_count": null,
   "metadata": {},
   "outputs": [],
   "source": [
    "strata_abs_pop.div(strata_abs_pop.sum(axis=1),axis=0)"
   ]
  },
  {
   "cell_type": "code",
   "execution_count": null,
   "metadata": {},
   "outputs": [],
   "source": [
    "(strata_abs_pop.div(strata_abs_pop.sum(axis=1),axis=0)).plot(kind='bar',title='SWEDEN age group ratio of population',\n",
    "                                                             stacked=True,figsize=(18,12))"
   ]
  },
  {
   "cell_type": "code",
   "execution_count": null,
   "metadata": {},
   "outputs": [],
   "source": [
    "# death rate YBY change\n",
    "\n",
    "stratified_yearly_death_rate_per_capita_YBY_change = computed_death_rate_per_capita / computed_death_rate_per_capita.shift()\n",
    "stratified_yearly_death_rate_per_capita_YBY_change"
   ]
  },
  {
   "cell_type": "code",
   "execution_count": null,
   "metadata": {},
   "outputs": [],
   "source": [
    "# calculate avg 2015-2019 death rate\n",
    "\n",
    "stratified_avg_death_rate_2015_2019 = computed_death_rate_per_capita.loc[2015:2019].mean()\n",
    "stratified_avg_death_rate_2015_2019"
   ]
  },
  {
   "cell_type": "code",
   "execution_count": null,
   "metadata": {},
   "outputs": [],
   "source": [
    "weekly_2020_per_m = weekly_2020_both / (strata_abs_pop.loc[2020,:] /1e6)\n",
    "weekly_2020_per_m"
   ]
  },
  {
   "cell_type": "code",
   "execution_count": null,
   "metadata": {},
   "outputs": [],
   "source": [
    "plt.figure(figsize=(18,12))\n",
    "plt.suptitle ('SWEDEN 2020 YTD : weekly deaths per million, per age group\\n')\n",
    "plt.subplot(4,1,1)\n",
    "plt.title('weekly deaths per million, age group -64')\n",
    "plt.plot(weekly_2020_per_m['64'][:-1],'o--')\n",
    "plt.subplot(4,1,2)\n",
    "plt.title('weekly deaths per million, age group 65-79')\n",
    "plt.plot(weekly_2020_per_m['79'][:-1],'o--')\n",
    "plt.subplot(4,1,3)\n",
    "plt.title('weekly deaths per million, age group 80-89')\n",
    "plt.plot(weekly_2020_per_m['89'][:-1],'o--')\n",
    "plt.subplot(4,1,4)\n",
    "plt.title('weekly deaths per million, age group 90+')\n",
    "plt.plot(weekly_2020_per_m['90+'][:-1],'o--')\n",
    "plt.tight_layout()\n",
    "\n",
    "plt.savefig('sweden_weekly_deaths_per_m_per_age_grp.jpg',format='jpg')"
   ]
  },
  {
   "cell_type": "code",
   "execution_count": null,
   "metadata": {},
   "outputs": [],
   "source": [
    "weekly_factors = weekly_2020_per_m / weekly_2020_per_m.shift()\n",
    "weekly_factors"
   ]
  },
  {
   "cell_type": "code",
   "execution_count": null,
   "metadata": {},
   "outputs": [],
   "source": [
    "weekly_factors = weekly_factors.iloc[:-1]\n"
   ]
  },
  {
   "cell_type": "code",
   "execution_count": null,
   "metadata": {},
   "outputs": [],
   "source": [
    "fig,axes = plt.subplots(4,1,sharex=True,sharey=True,figsize=(18,12))\n",
    "weekly_factors['64'].plot(ax=axes[0],style='o--',title='weekly change factor age group -64')\n",
    "weekly_factors['79'].plot(ax=axes[1],style='o--',title='weekly change factor age group 65-79')\n",
    "weekly_factors['89'].plot(ax=axes[2],style='o--',title='weekly change factor age group 80-89')\n",
    "weekly_factors['90+'].plot(ax=axes[3],style='o--',title='weekly change factor age group 90+')"
   ]
  },
  {
   "cell_type": "code",
   "execution_count": null,
   "metadata": {},
   "outputs": [],
   "source": [
    "# factor death yearly death rates vs avg 2015-2019\n",
    "\n",
    "stratified_death_rate_vs_avg_2015_2019 = computed_death_rate_per_capita / stratified_avg_death_rate_2015_2019\n",
    "\n",
    "stratified_death_rate_vs_avg_2015_2019"
   ]
  },
  {
   "cell_type": "code",
   "execution_count": null,
   "metadata": {},
   "outputs": [],
   "source": [
    "### RELATIVE PENQUIN\n",
    "\n",
    "title = 'SWEDEN deaths per capita compared to average 2015-2019, age groups -64,65-79,80-89,90+\\n'\\\n",
    "'2020 forecast : ASSUMING full year 2020 deaths follow linearly Y2D\\nDataSource:SCB.se'\n",
    "\n",
    "stratified_death_rate_vs_avg_2015_2019.plot(figsize=(18,12),\n",
    "                                            style='o--',title=title)\n",
    "\n",
    "plt.axhline(1,color='lightgrey',label='average 2015-2019')\n",
    "\n",
    "plt.xticks(range(2001,2021))\n",
    "plt.ylabel('relative change')\n",
    "plt.legend(loc='upper right')\n",
    "plt.savefig('mortality_relative_penquin.jpg',format='jpg')"
   ]
  },
  {
   "cell_type": "code",
   "execution_count": null,
   "metadata": {},
   "outputs": [],
   "source": [
    "computed_death_rate_per_capita"
   ]
  },
  {
   "cell_type": "code",
   "execution_count": null,
   "metadata": {},
   "outputs": [],
   "source": [
    "baseline_deaths = strata_abs_deaths.loc[2015 : 2019]\n",
    "baseline_deaths = baseline_deaths.sum(axis=1)\n",
    "baseline_deaths"
   ]
  },
  {
   "cell_type": "code",
   "execution_count": null,
   "metadata": {},
   "outputs": [],
   "source": [
    "baseline_pop = population.sum()\n",
    "baseline_pop = baseline_pop.loc[2015 : 2019]"
   ]
  },
  {
   "cell_type": "code",
   "execution_count": null,
   "metadata": {},
   "outputs": [],
   "source": [
    "baseline_mortality = baseline_deaths.div(baseline_pop,axis=0)\n",
    "baseline_mortality"
   ]
  },
  {
   "cell_type": "code",
   "execution_count": null,
   "metadata": {},
   "outputs": [],
   "source": [
    "baseline_mortality_mean = baseline_mortality.mean()\n",
    "baseline_mortality_mean"
   ]
  },
  {
   "cell_type": "code",
   "execution_count": null,
   "metadata": {},
   "outputs": [],
   "source": [
    "all_mortality_2020 = (strata_abs_deaths.loc[2020]).sum() / population[2020].sum()\n",
    "all_mortality_2020"
   ]
  },
  {
   "cell_type": "code",
   "execution_count": null,
   "metadata": {},
   "outputs": [],
   "source": [
    "all_mortality_2020 - baseline_mortality_mean"
   ]
  },
  {
   "cell_type": "code",
   "execution_count": null,
   "metadata": {},
   "outputs": [],
   "source": [
    "mortality_mean = computed_death_rate_per_capita.loc['2015' : '2019',:].mean(axis=0)\n",
    "mortality_mean"
   ]
  },
  {
   "cell_type": "code",
   "execution_count": null,
   "metadata": {},
   "outputs": [],
   "source": [
    "combined_shark = pd.concat([mortality_mean,computed_death_rate_per_capita.loc[2020,:]],axis=1)\n",
    "combined_shark.rename(columns={0 : '2015-2019'},inplace=True)\n",
    "combined_shark"
   ]
  },
  {
   "cell_type": "code",
   "execution_count": null,
   "metadata": {},
   "outputs": [],
   "source": [
    "combined_shark.plot(kind='bar',title='SWEDEN Mortality age groups -64,65-79,80-89,90+, 2020 forecast cmp avg. 2015-2019\\n'\\\n",
    "'2020 forecast : ASSUMING full year 2020 deaths follow linearly Y2D\\nDataSource:SCB.se',\n",
    "                   figsize=(18,12))\n",
    "plt.ylabel('mortality [log scale]')\n",
    "plt.xlabel('age grp')\n",
    "plt.yscale('log')\n",
    "\n",
    "plt.savefig('mortality_absolute_cmp.jpg',format='jpg')"
   ]
  },
  {
   "cell_type": "code",
   "execution_count": null,
   "metadata": {},
   "outputs": [],
   "source": [
    "absolute_shark = computed_death_rate_per_capita.loc[2020,:] - mortality_mean\n",
    "absolute_shark"
   ]
  },
  {
   "cell_type": "code",
   "execution_count": null,
   "metadata": {},
   "outputs": [],
   "source": [
    "stratified_death_rate_vs_avg_2015_2019"
   ]
  },
  {
   "cell_type": "code",
   "execution_count": null,
   "metadata": {},
   "outputs": [],
   "source": [
    "relative_penquin = stratified_death_rate_vs_avg_2015_2019.loc[2020,:]\n",
    "relative_penquin"
   ]
  },
  {
   "cell_type": "code",
   "execution_count": null,
   "metadata": {},
   "outputs": [],
   "source": [
    "fig,axes = plt.subplots(2,1,sharex=True)\n",
    "\n",
    "computed_death_rate_per_capita.plot(ax=axes[0],title='SWEDEN Mortality age groups -64,65-79,80-89,90+\\n'\\\n",
    "'2020 forecast : ASSUMING full year 2020 deaths follow linearly Y2D\\nDataSource:SCB.se',style='o--',\n",
    "                                   figsize=(18,12))\n",
    "\n",
    "axes[0].set_ylabel('mortality')\n",
    "#axes[0].set_yscale('log')\n",
    "axes[0].legend(loc='upper left')\n",
    "\n",
    "stratified_death_rate_vs_avg_2015_2019.plot(figsize=(18,12),ax=axes[1],\n",
    "                                            style='o--',title=title)\n",
    "\n",
    "axes[1].set_ylabel('mortality relative to avg. 2015-2019')\n",
    "axes[1].axhline(1,color='lightgrey',label='average 2015-2019')\n",
    "axes[1].legend(loc='upper right')\n",
    "_=plt.xticks(range(2001,2021))\n"
   ]
  },
  {
   "cell_type": "code",
   "execution_count": null,
   "metadata": {},
   "outputs": [],
   "source": [
    "colors = ['g','r','g','r']\n",
    "absolute_shark.plot(kind='bar',title='SWEDEN change in mortality 2020 cmp average 2015-2019, per age grp\\n' +\\\n",
    "                   'ASSUMING full year deaths 2020 grow proportionally YTD\\nDataSource:SCB.se',\n",
    "                    figsize=(18,12),color=colors)\n",
    "plt.ylabel('change in mortality')\n",
    "plt.xlabel('age grp')\n",
    "\n",
    "plt.savefig('mortality_abs_change.jpg',format='jpg')"
   ]
  },
  {
   "cell_type": "code",
   "execution_count": null,
   "metadata": {},
   "outputs": [],
   "source": [
    "colors = ['g','r','g','r']\n",
    "relative_penquin.plot(kind='bar',figsize=(18,12),\n",
    "                      color=colors,\n",
    "                     title='SWEDEN relative change in mortality 2020 vs average 2015-2019, per age group')\n",
    "plt.ylabel('relative change')\n",
    "plt.xlabel('age grp')\n",
    "plt.savefig('mortality_relative_change.jpg',format='jpg')"
   ]
  },
  {
   "cell_type": "code",
   "execution_count": null,
   "metadata": {},
   "outputs": [],
   "source": [
    "title = 'Sweden Deaths per Capita per Age Group : 2001-2020\\n\\n' +\\\n",
    "'ASSUMPTIONS: \\n1) 2020 forecast : linear growth for full year assumed. \\n' +\\\n",
    "'2) population 2020 grows, per age group, as between 2018-2019\\n\\n' +\\\n",
    "r'DataSource : SCB.se'\n",
    "\n",
    "(computed_death_rate_per_capita).plot(kind='bar',\n",
    "                                    figsize=(18,12),\n",
    "                                      title=title)\n",
    "plt.yscale('log')\n",
    "plt.ylabel('deaths per capita [log scale]')\n",
    "plt.legend(['0-64','65-79','80-89','90+'])\n",
    "plt.savefig('age_adj_death_ratio_1.jpg',format='jpg')\n"
   ]
  },
  {
   "cell_type": "code",
   "execution_count": null,
   "metadata": {},
   "outputs": [],
   "source": [
    "per_M_ylim = [0,14000]"
   ]
  },
  {
   "cell_type": "code",
   "execution_count": null,
   "metadata": {
    "scrolled": false
   },
   "outputs": [],
   "source": [
    "title = 'Sweden Deaths per Age Group, non-adj (abs numbers) : 2001-2020\\n\\n' +\\\n",
    "'ASSUMPTIONS: \\n1) Linear growth for full year assumed\\n' +\\\n",
    "'2) population 2020 grows, per age group, as between 2018-2019\\n\\n' +\\\n",
    "r'DataSource : SCB.se'\n",
    "print (computed_death_rate_per_capita)\n",
    "total_computed_deaths = computed_death_rate_per_capita * strata_abs_pop\n",
    "total_computed_deaths.plot(kind='bar',\n",
    "                           stacked=True,figsize=(18,12),title=title)\n",
    "plt.legend(['0-64','65-79','80-89','90+'])\n",
    "plt.ylabel('number of deaths')\n",
    "total_computed_deaths.sum(axis=1)\n",
    "plt.savefig('age_adj_abs_numbers_age_grp_1.jpg',format='jpg',dpi=600)\n",
    "total_computed_deaths.sum(axis=1)\n"
   ]
  },
  {
   "cell_type": "code",
   "execution_count": null,
   "metadata": {},
   "outputs": [],
   "source": [
    "tot_abs_deaths = total_computed_deaths.sum(axis=1)\n",
    "mean_2010_2018 = tot_abs_deaths.loc['2010':'2018'].mean()\n",
    "tot_abs_deaths"
   ]
  },
  {
   "cell_type": "code",
   "execution_count": null,
   "metadata": {
    "scrolled": false
   },
   "outputs": [],
   "source": [
    "dead_per_M_strata = (total_computed_deaths / strata_abs_pop * 1e6).astype(int)\n",
    "dead_per_M_strata"
   ]
  },
  {
   "cell_type": "code",
   "execution_count": null,
   "metadata": {},
   "outputs": [],
   "source": [
    "std_pop = strata_abs_pop.loc[2010]\n",
    "std_pop"
   ]
  },
  {
   "cell_type": "code",
   "execution_count": null,
   "metadata": {
    "scrolled": false
   },
   "outputs": [],
   "source": [
    "computed_death_rate_per_capita.to_pickle('computed_death_rate_per_capita.pkl')\n",
    "computed_death_rate_per_capita"
   ]
  },
  {
   "cell_type": "code",
   "execution_count": null,
   "metadata": {},
   "outputs": [],
   "source": [
    "age_adj_deaths = std_pop * computed_death_rate_per_capita\n",
    "age_adj_deaths"
   ]
  },
  {
   "cell_type": "code",
   "execution_count": null,
   "metadata": {},
   "outputs": [],
   "source": [
    "age_adj_deaths.sum(axis=1)"
   ]
  },
  {
   "cell_type": "code",
   "execution_count": null,
   "metadata": {},
   "outputs": [],
   "source": [
    "title = 'Sweden Age Adjusted (std pop : 2010) Deaths per Age Group, non-pop-adjusted (abs numbers) : 2001-2020\\n\\n' +\\\n",
    "'ASSUMPTIONS: \\n1) Linear growth for full year assumed\\n' +\\\n",
    "'2) population 2020 grows, per age group, as between 2018-2019\\n\\n' +\\\n",
    "r'DataSource : SCB.se'\n",
    "age_adj_deaths.plot(kind='bar',stacked=True,figsize=(18,12),title=title)\n",
    "plt.legend(['0-64','65-79','80-89','90+'])\n",
    "plt.ylabel('number of deaths [age adjusted]')\n",
    "#plt.ylim([0,100000])\n",
    "plt.savefig('age_adj_no_pop_adjusted_3.jpg',format='jpg',dpi=600)\n"
   ]
  },
  {
   "cell_type": "code",
   "execution_count": null,
   "metadata": {},
   "outputs": [],
   "source": [
    "print (std_pop.sum())\n",
    "age_adj_deaths_per_M = age_adj_deaths.sum(axis=1) / (std_pop.sum() / 1e6)\n",
    "age_adj_deaths_per_M"
   ]
  },
  {
   "cell_type": "code",
   "execution_count": null,
   "metadata": {},
   "outputs": [],
   "source": [
    "title = 'Sweden Age Adjusted (std pop : 2010) + Population Adjusted Deaths All Age Groups : 2001-2020\\n\\n' +\\\n",
    "'ASSUMPTIONS: \\n1) Linear growth for full year assumed\\n' +\\\n",
    "'2) population 2020 grows, per age group, as between 2018-2019\\n\\n' +\\\n",
    "r'DataSource : SCB.se'\n",
    "\n",
    "age_adj_deaths_per_M.plot(kind='bar',figsize=(18,12),title=title,color='crimson')\n",
    "plt.ylabel('age adjusted deaths per million')\n",
    "plt.ylim(per_M_ylim)\n",
    "plt.savefig('age_adj_pop_adj_4.jpg',format='jpg')\n"
   ]
  },
  {
   "cell_type": "code",
   "execution_count": null,
   "metadata": {},
   "outputs": [],
   "source": [
    "age_adj_mortality = age_adj_deaths.sum(axis=1) / std_pop.sum()\n",
    "age_adj_mortality"
   ]
  },
  {
   "cell_type": "code",
   "execution_count": null,
   "metadata": {},
   "outputs": [],
   "source": [
    "age_adj_2015_2018_mean = age_adj_mortality.loc['2015' : '2018'].mean()\n",
    "age_adj_2015_2018_mean"
   ]
  },
  {
   "cell_type": "code",
   "execution_count": null,
   "metadata": {},
   "outputs": [],
   "source": [
    "age_adj_mortality.plot(kind='bar',figsize=(18,12),color='crimson',label='mortality',\n",
    "                      title='Sweden Age Adjusted (std pop : 2010) Mortality : 2001-2020\\n\\n' +\\\n",
    "'ASSUMPTIONS: \\n1) Linear growth for full year assumed [$\\epsilon$ : {:.2f}]\\n'.format(epsilon) +\\\n",
    "'2) population 2020 grows, per age group, as between 2018-2019\\n\\n' +\\\n",
    "r'DataSource : SCB.se')\n",
    "plt.axhline(age_adj_2015_2018_mean,color='orange',ls='dashed',label='2015-2018 average')\n",
    "plt.legend(loc='upper right')\n",
    "plt.ylabel('mortality')\n",
    "plt.savefig('mortality_2001_2020.jpg',format='jpg')"
   ]
  },
  {
   "cell_type": "code",
   "execution_count": null,
   "metadata": {},
   "outputs": [],
   "source": [
    "age_adj_mortality_mean = (age_adj_mortality.loc[2015 : 2018]).mean()\n",
    "age_adj_mortality_mean "
   ]
  },
  {
   "cell_type": "code",
   "execution_count": null,
   "metadata": {},
   "outputs": [],
   "source": [
    "age_adj_mortality_2020 = age_adj_mortality[2020]\n",
    "age_adj_mortality_2020"
   ]
  },
  {
   "cell_type": "code",
   "execution_count": null,
   "metadata": {},
   "outputs": [],
   "source": [
    "age_adj_mortality_means = pd.Series({'2015-2018-mean' : age_adj_mortality_mean,\n",
    "                                        '2020-forecast' : age_adj_mortality_2020})\n",
    "age_adj_mortality_means"
   ]
  },
  {
   "cell_type": "code",
   "execution_count": null,
   "metadata": {},
   "outputs": [],
   "source": [
    "age_adj_mortality_means.plot(kind='bar',figsize=(18,12),\n",
    "                             title='Sweden age & pop. adjusted mortality, 2020 forecast vs avg 2015-2018',\n",
    "                            color='r')\n",
    "plt.ylabel('mortality')\n",
    "plt.savefig('age_and_pop_adjusted_mortality_2020_vs_2015-2018.jpg',format='jpg')"
   ]
  },
  {
   "cell_type": "code",
   "execution_count": null,
   "metadata": {},
   "outputs": [],
   "source": [
    "strata_abs_pop.head()"
   ]
  },
  {
   "cell_type": "code",
   "execution_count": null,
   "metadata": {},
   "outputs": [],
   "source": [
    "def create_age_idx(a):\n",
    "    if a == '64' : return 1\n",
    "    if a == '79' : return 2\n",
    "    if a == '89' : return 3\n",
    "    if a == '90+' : return 4\n",
    "\n",
    "all_data = strata_abs_pop.unstack().reset_index()\n",
    "all_data.rename(columns={'level_0' : 'age_grp',0 : 'pop' },inplace=True)\n",
    "\n",
    "temp = strata_abs_deaths.unstack().reset_index()\n",
    "\n",
    "temp.rename(columns={'level_0' : 'age_grp', 0 : 'dead'},inplace=True)\n",
    "all_data = pd.concat([all_data,temp['dead']],axis=1)\n",
    "all_data['year_idx'] = all_data['year'] - 2000\n",
    "all_data['age_idx'] = all_data['age_grp'].apply(create_age_idx)\n",
    "all_data['pop'] = all_data['pop'].astype(int)\n",
    "all_data.to_pickle('stratified_population_death_age_control.pkl')\n",
    "all_data.tail(40)"
   ]
  },
  {
   "cell_type": "code",
   "execution_count": null,
   "metadata": {
    "scrolled": false
   },
   "outputs": [],
   "source": [
    "#PYMC\n",
    "import pymc3 as pm\n",
    "import arviz as az\n",
    "\n",
    "#from pymc.Matplot import plot as pmplot\n",
    "\n",
    "\n",
    "### condition on year by assigning a unique alpha to each year\n",
    "### condition on age_grp by assigning a unique beta to each age group\n",
    "\n",
    "# model: \n",
    "# dead ~ Binomial(population,p)\n",
    "# p = logit(alpha[year_idx] + beta[age_idx])\n",
    "# alpha[year_idx] ~ Normal(0,10)\n",
    "# beta[age_idx] ~ Normal(0,10) \n",
    "\n",
    "model = pm.Model()\n",
    "\n",
    "with model:\n",
    "    year_idx = all_data['year_idx'] \n",
    "    age_idx = all_data['age_idx']\n",
    "\n",
    "    alpha = pm.Normal('alpha',0, sigma=1.5,shape=len(year_idx)) # 20 years\n",
    "\n",
    "    beta = pm.Normal('beta',0,sigma=1.5,shape=4)\n",
    "\n",
    "\n",
    "    logit_age = np.exp(alpha[year_idx-1] + beta[age_idx-1]) / (\n",
    "            1 + np.exp(alpha[year_idx-1] + beta[age_idx-1]))\n",
    "\n",
    "\n",
    "    lkh_age = pm.Binomial('lkh_age',n=all_data['pop'],p=logit_age,observed=all_data['dead'])\n",
    "\n",
    "    step1 = pm.Metropolis([alpha,beta])\n",
    "    \n",
    "    trace = pm.sample(50000,step=step1,tune=30000)\n",
    "    _= az.plot_trace(trace)\n",
    "    print (az.summary(trace,round_to=2))\n",
    "    "
   ]
  },
  {
   "cell_type": "code",
   "execution_count": null,
   "metadata": {},
   "outputs": [],
   "source": [
    "def logit_pure(x):\n",
    "    return (np.exp(x)) / (1 + np.exp(x))\n",
    "\n",
    "def logistic_pure(p):\n",
    "    return np.log(p / (1 - p))"
   ]
  },
  {
   "cell_type": "code",
   "execution_count": null,
   "metadata": {
    "scrolled": false
   },
   "outputs": [],
   "source": [
    "#\n",
    "\n",
    "alpha_2001 = trace['alpha'][:,0]\n",
    "alpha_2002 = trace['alpha'][:,1]\n",
    "alpha_2003 = trace['alpha'][:,2]\n",
    "alpha_2004 = trace['alpha'][:,3]\n",
    "alpha_2005 = trace['alpha'][:,4]\n",
    "alpha_2006 = trace['alpha'][:,5]\n",
    "alpha_2007 = trace['alpha'][:,6]\n",
    "alpha_2008 = trace['alpha'][:,7]\n",
    "alpha_2009 = trace['alpha'][:,8]\n",
    "alpha_2010 = trace['alpha'][:,9]\n",
    "alpha_2011 = trace['alpha'][:,10]\n",
    "alpha_2012 = trace['alpha'][:,11]\n",
    "alpha_2013 = trace['alpha'][:,12]\n",
    "alpha_2014 = trace['alpha'][:,13]\n",
    "alpha_2015 = trace['alpha'][:,14]\n",
    "alpha_2016 = trace['alpha'][:,15]\n",
    "alpha_2017 = trace['alpha'][:,16]\n",
    "alpha_2018 = trace['alpha'][:,17]\n",
    "alpha_2019 = trace['alpha'][:,18]\n",
    "alpha_2020 = trace['alpha'][:,19]\n",
    "\n",
    "\n",
    "beta_64 = trace['beta'][:,0]\n",
    "beta_79 = trace['beta'][:,1]\n",
    "beta_89 = trace['beta'][:,2]\n",
    "beta_90 = trace['beta'][:,3]\n",
    "'''\n",
    "pmplot(beta_64,'beta_64')\n",
    "pmplot(beta_79,'beta_79')\n",
    "pmplot(beta_89,'beta_89')\n",
    "pmplot(beta_90,'beta_90')\n",
    "\n",
    "pmplot(alpha_2001,'alpha_2001')\n",
    "pmplot(alpha_2002,'alpha_2002')\n",
    "pmplot(alpha_2012,'alpha_2012')\n",
    "pmplot(alpha_2015,'alpha_2015')\n",
    "pmplot(alpha_2019,'alpha_2019')\n",
    "pmplot(alpha_2020,'alpha_2020')\n",
    "'''\n",
    "\n",
    "\n",
    "\n",
    "result = pd.DataFrame({\n",
    "                       'alpha_2001': alpha_2001,\n",
    "                       'alpha_2002' : alpha_2002,\n",
    "                       'alpha_2003' : alpha_2003,\n",
    "                       'alpha_2004' : alpha_2004,\n",
    "                       'alpha_2005' : alpha_2005,\n",
    "                       'alpha_2006' : alpha_2006,\n",
    "                       'alpha_2007' : alpha_2007,\n",
    "                       'alpha_2008' : alpha_2008,\n",
    "                       'alpha_2009' : alpha_2009,\n",
    "                       'alpha_2010' : alpha_2010,\n",
    "                       'alpha_2011' : alpha_2011,\n",
    "                       'alpha_2012' : alpha_2012,\n",
    "                       'alpha_2013' : alpha_2013,\n",
    "                       'alpha_2014' : alpha_2014,\n",
    "                       'alpha_2015' : alpha_2015,\n",
    "                       'alpha_2016' : alpha_2016,\n",
    "                       'alpha_2017' : alpha_2017,\n",
    "                       'alpha_2018' : alpha_2018,\n",
    "                       'alpha_2019' : alpha_2019,\n",
    "                        'alpha_2020' : alpha_2020,\n",
    "                        'beta_64' : beta_64,\n",
    "                        'beta_79' : beta_79,\n",
    "                        'beta_89' : beta_89,\n",
    "                        'beta_90' : beta_90})\n",
    "                      \n",
    "\n",
    "result.describe()\n"
   ]
  },
  {
   "cell_type": "code",
   "execution_count": null,
   "metadata": {},
   "outputs": [],
   "source": [
    "result_p = pd.DataFrame()\n",
    "\n",
    "result_p['2001_64'] = logit_pure(result['alpha_2001'] + result['beta_64']) \n",
    "result_p['2001_79'] = logit_pure(result['alpha_2001'] + result['beta_79']) \n",
    "result_p['2001_89'] = logit_pure(result['alpha_2001'] + result['beta_89']) \n",
    "result_p['2001_90'] = logit_pure(result['alpha_2001'] + result['beta_90']) \n",
    "\n",
    "result_p['2002_64'] = logit_pure(result['alpha_2002'] + result['beta_64']) \n",
    "result_p['2002_79'] = logit_pure(result['alpha_2002'] + result['beta_79']) \n",
    "result_p['2002_89'] = logit_pure(result['alpha_2002'] + result['beta_89']) \n",
    "result_p['2002_90'] = logit_pure(result['alpha_2002'] + result['beta_90']) \n",
    "\n",
    "result_p['2003_64'] = logit_pure(result['alpha_2003'] + result['beta_64']) \n",
    "result_p['2003_79'] = logit_pure(result['alpha_2003'] + result['beta_79']) \n",
    "result_p['2003_89'] = logit_pure(result['alpha_2003'] + result['beta_89']) \n",
    "result_p['2003_90'] = logit_pure(result['alpha_2003'] + result['beta_90']) \n",
    "\n",
    "result_p['2004_64'] = logit_pure(result['alpha_2004'] + result['beta_64']) \n",
    "result_p['2004_79'] = logit_pure(result['alpha_2004'] + result['beta_79']) \n",
    "result_p['2004_89'] = logit_pure(result['alpha_2004'] + result['beta_89']) \n",
    "result_p['2004_90'] = logit_pure(result['alpha_2004'] + result['beta_90']) \n",
    "\n",
    "result_p['2005_64'] = logit_pure(result['alpha_2005'] + result['beta_64']) \n",
    "result_p['2005_79'] = logit_pure(result['alpha_2005'] + result['beta_79']) \n",
    "result_p['2005_89'] = logit_pure(result['alpha_2005'] + result['beta_89']) \n",
    "result_p['2005_90'] = logit_pure(result['alpha_2005'] + result['beta_90']) \n",
    "\n",
    "result_p['2006_64'] = logit_pure(result['alpha_2006'] + result['beta_64']) \n",
    "result_p['2006_79'] = logit_pure(result['alpha_2006'] + result['beta_79']) \n",
    "result_p['2006_89'] = logit_pure(result['alpha_2006'] + result['beta_89']) \n",
    "result_p['2006_90'] = logit_pure(result['alpha_2006'] + result['beta_90']) \n",
    "\n",
    "result_p['2007_64'] = logit_pure(result['alpha_2007'] + result['beta_64']) \n",
    "result_p['2007_79'] = logit_pure(result['alpha_2007'] + result['beta_79']) \n",
    "result_p['2007_89'] = logit_pure(result['alpha_2007'] + result['beta_89']) \n",
    "result_p['2007_90'] = logit_pure(result['alpha_2007'] + result['beta_90']) \n",
    "\n",
    "result_p['2008_64'] = logit_pure(result['alpha_2008'] + result['beta_64']) \n",
    "result_p['2008_79'] = logit_pure(result['alpha_2008'] + result['beta_79']) \n",
    "result_p['2008_89'] = logit_pure(result['alpha_2008'] + result['beta_89']) \n",
    "result_p['2008_90'] = logit_pure(result['alpha_2008'] + result['beta_90']) \n",
    "\n",
    "result_p['2009_64'] = logit_pure(result['alpha_2009'] + result['beta_64']) \n",
    "result_p['2009_79'] = logit_pure(result['alpha_2009'] + result['beta_79']) \n",
    "result_p['2009_89'] = logit_pure(result['alpha_2009'] + result['beta_89']) \n",
    "result_p['2009_90'] = logit_pure(result['alpha_2009'] + result['beta_90']) \n",
    "\n",
    "result_p['2010_64'] = logit_pure(result['alpha_2010'] + result['beta_64']) \n",
    "result_p['2010_79'] = logit_pure(result['alpha_2010'] + result['beta_79']) \n",
    "result_p['2010_89'] = logit_pure(result['alpha_2010'] + result['beta_89']) \n",
    "result_p['2010_90'] = logit_pure(result['alpha_2010'] + result['beta_90']) \n",
    "\n",
    "result_p['2011_64'] = logit_pure(result['alpha_2011'] + result['beta_64']) \n",
    "result_p['2011_79'] = logit_pure(result['alpha_2011'] + result['beta_79']) \n",
    "result_p['2011_89'] = logit_pure(result['alpha_2011'] + result['beta_89']) \n",
    "result_p['2011_90'] = logit_pure(result['alpha_2011'] + result['beta_90']) \n",
    "\n",
    "result_p['2012_64'] = logit_pure(result['alpha_2012'] + result['beta_64']) \n",
    "result_p['2012_79'] = logit_pure(result['alpha_2012'] + result['beta_79']) \n",
    "result_p['2012_89'] = logit_pure(result['alpha_2012'] + result['beta_89']) \n",
    "result_p['2012_90'] = logit_pure(result['alpha_2012'] + result['beta_90']) \n",
    "\n",
    "result_p['2013_64'] = logit_pure(result['alpha_2013'] + result['beta_64']) \n",
    "result_p['2013_79'] = logit_pure(result['alpha_2013'] + result['beta_79']) \n",
    "result_p['2013_89'] = logit_pure(result['alpha_2013'] + result['beta_89']) \n",
    "result_p['2013_90'] = logit_pure(result['alpha_2013'] + result['beta_90']) \n",
    "\n",
    "result_p['2014_64'] = logit_pure(result['alpha_2014'] + result['beta_64']) \n",
    "result_p['2014_79'] = logit_pure(result['alpha_2014'] + result['beta_79']) \n",
    "result_p['2014_89'] = logit_pure(result['alpha_2014'] + result['beta_89']) \n",
    "result_p['2014_90'] = logit_pure(result['alpha_2014'] + result['beta_90']) \n",
    "\n",
    "result_p['2015_64'] = logit_pure(result['alpha_2015'] + result['beta_64']) \n",
    "result_p['2015_79'] = logit_pure(result['alpha_2015'] + result['beta_79']) \n",
    "result_p['2015_89'] = logit_pure(result['alpha_2015'] + result['beta_89']) \n",
    "result_p['2015_90'] = logit_pure(result['alpha_2015'] + result['beta_90']) \n",
    "\n",
    "result_p['2016_64'] = logit_pure(result['alpha_2016'] + result['beta_64']) \n",
    "result_p['2016_79'] = logit_pure(result['alpha_2016'] + result['beta_79']) \n",
    "result_p['2016_89'] = logit_pure(result['alpha_2016'] + result['beta_89']) \n",
    "result_p['2016_90'] = logit_pure(result['alpha_2016'] + result['beta_90']) \n",
    "\n",
    "result_p['2017_64'] = logit_pure(result['alpha_2017'] + result['beta_64']) \n",
    "result_p['2017_79'] = logit_pure(result['alpha_2017'] + result['beta_79']) \n",
    "result_p['2017_89'] = logit_pure(result['alpha_2017'] + result['beta_89']) \n",
    "result_p['2017_90'] = logit_pure(result['alpha_2017'] + result['beta_90']) \n",
    "\n",
    "result_p['2018_64'] = logit_pure(result['alpha_2018'] + result['beta_64']) \n",
    "result_p['2018_79'] = logit_pure(result['alpha_2018'] + result['beta_79']) \n",
    "result_p['2018_89'] = logit_pure(result['alpha_2018'] + result['beta_89']) \n",
    "result_p['2018_90'] = logit_pure(result['alpha_2018'] + result['beta_90']) \n",
    "\n",
    "result_p['2019_64'] = logit_pure(result['alpha_2019'] + result['beta_64']) \n",
    "result_p['2019_79'] = logit_pure(result['alpha_2019'] + result['beta_79']) \n",
    "result_p['2019_89'] = logit_pure(result['alpha_2019'] + result['beta_89']) \n",
    "result_p['2019_90'] = logit_pure(result['alpha_2019'] + result['beta_90']) \n",
    "\n",
    "result_p['2020_64'] = logit_pure(result['alpha_2020'] + result['beta_64']) \n",
    "result_p['2020_79'] = logit_pure(result['alpha_2020'] + result['beta_79']) \n",
    "result_p['2020_89'] = logit_pure(result['alpha_2020'] + result['beta_89']) \n",
    "result_p['2020_90'] = logit_pure(result['alpha_2020'] + result['beta_90']) \n",
    "\n",
    "result_p.describe()\n"
   ]
  },
  {
   "cell_type": "code",
   "execution_count": null,
   "metadata": {},
   "outputs": [],
   "source": [
    "p_means = result_p.describe().loc['mean']\n",
    "p_means = p_means.reset_index()\n",
    "p_means[['year','age_grp']] = p_means['index'].str.split('_',1,expand=True)\n",
    "p_means = pd.pivot(p_means,index='age_grp',columns='year',values='mean')\n",
    "p_means = p_means.T\n",
    "p_means.rename(columns={'90' : '90+'},inplace=True)"
   ]
  },
  {
   "cell_type": "code",
   "execution_count": null,
   "metadata": {},
   "outputs": [],
   "source": [
    "p_means.index = range(2001,2021)"
   ]
  },
  {
   "cell_type": "code",
   "execution_count": null,
   "metadata": {},
   "outputs": [],
   "source": [
    "strata_abs_pop.to_pickle('strata_abs_pop.pkl')"
   ]
  },
  {
   "cell_type": "code",
   "execution_count": null,
   "metadata": {},
   "outputs": [],
   "source": [
    "pymc_abs_deaths_cond_year_age = strata_abs_pop * p_means\n",
    "\n",
    "pymc_abs_sum = pymc_abs_deaths_cond_year_age.sum(axis=1)\n",
    "pymc_abs_deaths_cond_year_age"
   ]
  },
  {
   "cell_type": "code",
   "execution_count": null,
   "metadata": {},
   "outputs": [],
   "source": [
    "computed_abs_sum = total_computed_deaths.sum(axis=1)\n",
    "total_computed_deaths"
   ]
  },
  {
   "cell_type": "code",
   "execution_count": null,
   "metadata": {},
   "outputs": [],
   "source": [
    "combined_abs_sums = pd.concat([pymc_abs_sum,computed_abs_sum],axis=1)\n",
    "combined_abs_sums.columns=['pymc_abs_dead','analytic_abs_dead']\n",
    "\n",
    "combined_abs_sums"
   ]
  },
  {
   "cell_type": "code",
   "execution_count": null,
   "metadata": {},
   "outputs": [],
   "source": [
    "title = 'SWEDEN All Cause Deaths conditioned on year + age group,ABS values, two different methods\\n'\\\n",
    "'ASSUMING LINEAR GROWTH FOR FULL YEAR 2020\\nDataSource : SCB.se'\n",
    "\n",
    "combined_abs_sums.plot(kind='bar',\n",
    "                       figsize=(18,12),\n",
    "                       title=title)\n",
    "plt.ylabel('number of deaths')\n",
    "plt.savefig('pymc_cond_year_age_abs.jpg',format='jpg')"
   ]
  },
  {
   "cell_type": "code",
   "execution_count": null,
   "metadata": {},
   "outputs": [],
   "source": [
    "strata_abs_pop.sum(axis=1)"
   ]
  },
  {
   "cell_type": "code",
   "execution_count": null,
   "metadata": {},
   "outputs": [],
   "source": [
    "yearly_pop = strata_abs_pop.sum(axis=1)\n",
    "\n",
    "pop_adj_deaths = combined_abs_sums.div(yearly_pop / 1e6,axis=0)\n",
    "pop_adj_deaths.columns = ['pymc_dead_per_M','analytic_dead_per_M']\n",
    "pop_adj_deaths['factor'] = pop_adj_deaths['pymc_dead_per_M'] / pop_adj_deaths['analytic_dead_per_M']\n",
    "pop_adj_deaths"
   ]
  },
  {
   "cell_type": "code",
   "execution_count": null,
   "metadata": {},
   "outputs": [],
   "source": [
    "title = 'SWEDEN All Cause Deaths conditioned on year + age group,per Million, two different methods\\n'\\\n",
    "'ASSUMING LINEAR GROWTH FOR FULL YEAR 2020\\n'+\\\n",
    "'DataSource : SCB.se'\n",
    "pop_adj_deaths.plot(kind='bar',figsize=(18,12),\n",
    "                    title=title)\n",
    "\n",
    "plt.ylabel('deaths per million')\n",
    "plt.ylim(per_M_ylim)\n",
    "plt.savefig('pymc_cond_year_age_per_M.jpg',format='jpg')"
   ]
  },
  {
   "cell_type": "code",
   "execution_count": null,
   "metadata": {},
   "outputs": [],
   "source": [
    "pymc_deaths_per_M_per_age_grp = pymc_abs_deaths_cond_year_age.T / (yearly_pop / 1e6)\n",
    "pymc_deaths_per_M_per_age_grp = pymc_deaths_per_M_per_age_grp.T\n",
    "pymc_deaths_per_M_per_age_grp"
   ]
  },
  {
   "cell_type": "code",
   "execution_count": null,
   "metadata": {},
   "outputs": [],
   "source": [
    "pymc_deaths_per_M_per_age_grp.sum(axis=1)"
   ]
  },
  {
   "cell_type": "code",
   "execution_count": null,
   "metadata": {},
   "outputs": [],
   "source": [
    "title = 'SWEDEN All Cause Deaths conditioned on year + age group, per million, per age group\\n'\\\n",
    "'ASSUMING LINEAR GROWTH FOR FULL YEAR 2020\\n'+\\\n",
    "'DataSource : SCB.se'\n",
    "pymc_deaths_per_M_per_age_grp.plot(kind='bar',title=title,\n",
    "                                   stacked=True,figsize=(18,12))\n",
    "plt.ylabel('deaths per million')\n",
    "plt.ylim(per_M_ylim)\n",
    "plt.savefig('pymc_cond_age_year_per_M_stratified.jpg',format='jpg')"
   ]
  },
  {
   "cell_type": "code",
   "execution_count": null,
   "metadata": {},
   "outputs": [],
   "source": [
    "### include median age of death as proxy for health\n",
    "\n",
    "url4 = 'http://api.scb.se/OV0104/v1/doris/sv/ssd/START/BE/BE0101/BE0101I/LivslangdEttariga'\n",
    "data4 = {\n",
    "  \"query\": [\n",
    "    {\n",
    "      \"code\": \"Alder\",\n",
    "      \"selection\": {\n",
    "        \"filter\": \"item\",\n",
    "        \"values\": [\n",
    "          \"0\"\n",
    "        ]\n",
    "      }\n",
    "    },\n",
    "    {\n",
    "      \"code\": \"ContentsCode\",\n",
    "      \"selection\": {\n",
    "        \"filter\": \"item\",\n",
    "        \"values\": [\n",
    "          \"BE0101A$\"\n",
    "        ]\n",
    "      }\n",
    "    }\n",
    "  ],\n",
    "  \"response\": {\n",
    "    \"format\": \"json\"\n",
    "  }\n",
    "}"
   ]
  },
  {
   "cell_type": "code",
   "execution_count": null,
   "metadata": {},
   "outputs": [],
   "source": [
    "r4 = requests.post(url4,json=data4)\n",
    "r4.status_code"
   ]
  },
  {
   "cell_type": "code",
   "execution_count": null,
   "metadata": {},
   "outputs": [],
   "source": [
    "json4 = r4.json()\n",
    "json4['data'][0]"
   ]
  },
  {
   "cell_type": "code",
   "execution_count": null,
   "metadata": {},
   "outputs": [],
   "source": [
    "data_list4 = []\n",
    "\n",
    "for rec in json4['data']:\n",
    "    data_list4.append((rec['key'][0],rec['key'][2],rec['values'][0]))\n",
    "    \n",
    "median_age_of_death = pd.DataFrame(data_list4,columns=['gender','year','median'])\n",
    "median_age_of_death.set_index('year',inplace=True)\n",
    "median_age_of_death['median'] = median_age_of_death['median'].astype(float)\n",
    "\n",
    "median_age_of_death"
   ]
  },
  {
   "cell_type": "code",
   "execution_count": null,
   "metadata": {},
   "outputs": [],
   "source": [
    "gender_groups = median_age_of_death.groupby('gender')\n",
    "\n",
    "male = gender_groups.get_group('1')\n",
    "male.index = range(1960,2020)\n",
    "\n",
    "ax = male.plot(style='o--',figsize=(18,12))\n",
    "\n",
    "female = gender_groups.get_group('2')\n",
    "female.index = range(1960,2020)\n",
    "female.plot(ax=ax,style='o--')\n",
    "\n",
    "ax.legend(['male','female'])\n",
    "plt.title('SWEDEN Median Age of Death')\n",
    "plt.ylabel('median age death')"
   ]
  },
  {
   "cell_type": "code",
   "execution_count": null,
   "metadata": {},
   "outputs": [],
   "source": [
    "all_data"
   ]
  },
  {
   "cell_type": "code",
   "execution_count": null,
   "metadata": {},
   "outputs": [],
   "source": [
    "all_data_no_2020 = all_data.loc[all_data['year'] != 2020]\n",
    "\n",
    "# use male median death as health proxy\n",
    "all_data_no_2020 = all_data_no_2020.join(male,on='year')\n",
    "all_data_no_2020['std_median'] = all_data_no_2020['median'].apply(\n",
    "    lambda x : (x - all_data_no_2020['median'].mean()) / all_data_no_2020['median'].std())\n",
    "\n",
    "all_data_no_2020['mortality'] = all_data_no_2020['dead'] / all_data_no_2020['pop']\n",
    "\n",
    "all_data_no_2020['health_idx'] = all_data_no_2020['median'].astype(int) - 76 # index 1..5\n",
    "all_data_no_2020['std_year'] = all_data_no_2020['year_idx'].apply(\n",
    "    lambda x : (x - all_data_no_2020['year_idx'].mean()) / all_data_no_2020['year_idx'].std())\n",
    "\n",
    "all_data_no_2020"
   ]
  },
  {
   "cell_type": "code",
   "execution_count": null,
   "metadata": {},
   "outputs": [],
   "source": [
    "all_data_no_2020.loc[all_data_no_2020['year'].isin([2008,2009,2010,2011])]"
   ]
  },
  {
   "cell_type": "code",
   "execution_count": null,
   "metadata": {},
   "outputs": [],
   "source": [
    "all_data_no_2020.corr()"
   ]
  },
  {
   "cell_type": "code",
   "execution_count": null,
   "metadata": {
    "scrolled": false
   },
   "outputs": [],
   "source": [
    "model2 = pm.Model()\n",
    "with model2:\n",
    "    \n",
    "    alpha = pm.Normal('alpha', 0, sigma=10,shape=19)\n",
    "    beta = pm.Normal('beta',0, sigma=10,shape=4)\n",
    "\n",
    "    age_idx = all_data_no_2020['age_idx']\n",
    "    year_idx = all_data_no_2020['year_idx']\n",
    "\n",
    "\n",
    "    lgit = np.exp(alpha[year_idx-1]   + beta[age_idx-1]) / (\n",
    "            1 + np.exp(alpha[year_idx-1]  + beta[age_idx-1] ))\n",
    "\n",
    "    likelihood = pm.Binomial('likelihood',n=all_data_no_2020['pop'],p=lgit,observed=all_data_no_2020['dead'])\n",
    "    step1 = pm.Metropolis([alpha,beta])\n",
    "    \n",
    "    \n",
    "    trace2 = pm.sample(500,tune=300)\n",
    "    \n",
    "    _= az.plot_trace(trace2)\n",
    "    print(az.summary(trace2,round_to=2))\n",
    "    \n",
    "    "
   ]
  },
  {
   "cell_type": "code",
   "execution_count": null,
   "metadata": {
    "scrolled": false
   },
   "outputs": [],
   "source": [
    "alpha_post = trace2['alpha'][:]\n",
    "beta_post = trace2['beta'][:]\n",
    "\n",
    "\n",
    "\n",
    "result = pd.DataFrame(alpha_post)"
   ]
  },
  {
   "cell_type": "code",
   "execution_count": null,
   "metadata": {},
   "outputs": [],
   "source": [
    "result.columns = range(2001,2020)\n",
    "result = pd.concat([result,pd.DataFrame(beta_post)],axis=1)\n"
   ]
  },
  {
   "cell_type": "code",
   "execution_count": null,
   "metadata": {},
   "outputs": [],
   "source": [
    "result.describe()"
   ]
  },
  {
   "cell_type": "code",
   "execution_count": null,
   "metadata": {},
   "outputs": [],
   "source": [
    "result.columns = ['alpha_2001','alpha_2002','alpha_2003','alpha_2004','alpha_2005',\n",
    "                 'alpha_2006','alpha_2007','alpha_2008','alpha_2009','alpha_2010',\n",
    "                 'alpha_2011','alpha_2012','alpha_2013','alpha_2014','alpha_2015',\n",
    "                 'alpha_2016','alpha_2017','alpha_2018','alpha_2019','beta_64','beta_79',\n",
    "                 'beta_89','beta_90']\n",
    "result.describe()"
   ]
  },
  {
   "cell_type": "code",
   "execution_count": null,
   "metadata": {},
   "outputs": [],
   "source": [
    "result_p = pd.DataFrame()\n",
    "\n",
    "result_p['2001_64'] = logit_pure(result['alpha_2001'] + result['beta_64'])\n",
    "result_p['2001_79'] = logit_pure(result['alpha_2001'] + result['beta_79'])\n",
    "result_p['2001_89'] = logit_pure(result['alpha_2001'] + result['beta_89'])\n",
    "result_p['2001_90'] = logit_pure(result['alpha_2001'] + result['beta_90'])\n",
    "\n",
    "result_p['2002_64'] = logit_pure(result['alpha_2002'] + result['beta_64'])\n",
    "result_p['2002_79'] = logit_pure(result['alpha_2002'] + result['beta_79'])\n",
    "result_p['2002_89'] = logit_pure(result['alpha_2002'] + result['beta_89'])\n",
    "result_p['2002_90'] = logit_pure(result['alpha_2002'] + result['beta_90'])\n",
    "\n",
    "result_p['2003_64'] = logit_pure(result['alpha_2003'] + result['beta_64'])\n",
    "result_p['2003_79'] = logit_pure(result['alpha_2003'] + result['beta_79'])\n",
    "result_p['2003_89'] = logit_pure(result['alpha_2003'] + result['beta_89'])\n",
    "result_p['2003_90'] = logit_pure(result['alpha_2003'] + result['beta_90'])\n",
    "\n",
    "result_p['2004_64'] = logit_pure(result['alpha_2004'] + result['beta_64'])\n",
    "result_p['2004_79'] = logit_pure(result['alpha_2004'] + result['beta_79'])\n",
    "result_p['2004_89'] = logit_pure(result['alpha_2004'] + result['beta_89'])\n",
    "result_p['2004_90'] = logit_pure(result['alpha_2004'] + result['beta_90'])\n",
    "\n",
    "result_p['2005_64'] = logit_pure(result['alpha_2005'] + result['beta_64'])\n",
    "result_p['2005_79'] = logit_pure(result['alpha_2005'] + result['beta_79'])\n",
    "result_p['2005_89'] = logit_pure(result['alpha_2005'] + result['beta_89'])\n",
    "result_p['2005_90'] = logit_pure(result['alpha_2005'] + result['beta_90'])\n",
    "\n",
    "result_p['2006_64'] = logit_pure(result['alpha_2006'] + result['beta_64'])\n",
    "result_p['2006_79'] = logit_pure(result['alpha_2006'] + result['beta_79'])\n",
    "result_p['2006_89'] = logit_pure(result['alpha_2006'] + result['beta_89'])\n",
    "result_p['2006_90'] = logit_pure(result['alpha_2006'] + result['beta_90'])\n",
    "\n",
    "result_p['2007_64'] = logit_pure(result['alpha_2007'] + result['beta_64'])\n",
    "result_p['2007_79'] = logit_pure(result['alpha_2007'] + result['beta_79'])\n",
    "result_p['2007_89'] = logit_pure(result['alpha_2007'] + result['beta_89'])\n",
    "result_p['2007_90'] = logit_pure(result['alpha_2007'] + result['beta_90'])\n",
    "\n",
    "result_p['2008_64'] = logit_pure(result['alpha_2008'] + result['beta_64'])\n",
    "result_p['2008_79'] = logit_pure(result['alpha_2008'] + result['beta_79'])\n",
    "result_p['2008_89'] = logit_pure(result['alpha_2008'] + result['beta_89'])\n",
    "result_p['2008_90'] = logit_pure(result['alpha_2008'] + result['beta_90'])\n",
    "\n",
    "result_p['2009_64'] = logit_pure(result['alpha_2009'] + result['beta_64'])\n",
    "result_p['2009_79'] = logit_pure(result['alpha_2009'] + result['beta_79'])\n",
    "result_p['2009_89'] = logit_pure(result['alpha_2009'] + result['beta_89'])\n",
    "result_p['2009_90'] = logit_pure(result['alpha_2009'] + result['beta_90'])\n",
    "\n",
    "result_p['2010_64'] = logit_pure(result['alpha_2010'] + result['beta_64'])\n",
    "result_p['2010_79'] = logit_pure(result['alpha_2010'] + result['beta_79'])\n",
    "result_p['2010_89'] = logit_pure(result['alpha_2010'] + result['beta_89'])\n",
    "result_p['2010_90'] = logit_pure(result['alpha_2010'] + result['beta_90'])\n",
    "\n",
    "result_p['2011_64'] = logit_pure(result['alpha_2011'] + result['beta_64'])\n",
    "result_p['2011_79'] = logit_pure(result['alpha_2011'] + result['beta_79'])\n",
    "result_p['2011_89'] = logit_pure(result['alpha_2011'] + result['beta_89'])\n",
    "result_p['2011_90'] = logit_pure(result['alpha_2011'] + result['beta_90'])\n",
    "\n",
    "result_p['2012_64'] = logit_pure(result['alpha_2012'] + result['beta_64'])\n",
    "result_p['2012_79'] = logit_pure(result['alpha_2012'] + result['beta_79'])\n",
    "result_p['2012_89'] = logit_pure(result['alpha_2012'] + result['beta_89'])\n",
    "result_p['2012_90'] = logit_pure(result['alpha_2012'] + result['beta_90'])\n",
    "\n",
    "result_p['2013_64'] = logit_pure(result['alpha_2013'] + result['beta_64'])\n",
    "result_p['2013_79'] = logit_pure(result['alpha_2013'] + result['beta_79'])\n",
    "result_p['2013_89'] = logit_pure(result['alpha_2013'] + result['beta_89'])\n",
    "result_p['2013_90'] = logit_pure(result['alpha_2013'] + result['beta_90'])\n",
    "\n",
    "result_p['2014_64'] = logit_pure(result['alpha_2014'] + result['beta_64'])\n",
    "result_p['2014_79'] = logit_pure(result['alpha_2014'] + result['beta_79'])\n",
    "result_p['2014_89'] = logit_pure(result['alpha_2014'] + result['beta_89'])\n",
    "result_p['2014_90'] = logit_pure(result['alpha_2014'] + result['beta_90'])\n",
    "\n",
    "result_p['2015_64'] = logit_pure(result['alpha_2015'] + result['beta_64'])\n",
    "result_p['2015_79'] = logit_pure(result['alpha_2015'] + result['beta_79'])\n",
    "result_p['2015_89'] = logit_pure(result['alpha_2015'] + result['beta_89'])\n",
    "result_p['2015_90'] = logit_pure(result['alpha_2015'] + result['beta_90'])\n",
    "\n",
    "result_p['2016_64'] = logit_pure(result['alpha_2016'] + result['beta_64'])\n",
    "result_p['2016_79'] = logit_pure(result['alpha_2016'] + result['beta_79'])\n",
    "result_p['2016_89'] = logit_pure(result['alpha_2016'] + result['beta_89'])\n",
    "result_p['2016_90'] = logit_pure(result['alpha_2016'] + result['beta_90'])\n",
    "\n",
    "result_p['2017_64'] = logit_pure(result['alpha_2017'] + result['beta_64'])\n",
    "result_p['2017_79'] = logit_pure(result['alpha_2017'] + result['beta_79'])\n",
    "result_p['2017_89'] = logit_pure(result['alpha_2017'] + result['beta_89'])\n",
    "result_p['2017_90'] = logit_pure(result['alpha_2017'] + result['beta_90'])\n",
    "\n",
    "result_p['2018_64'] = logit_pure(result['alpha_2018'] + result['beta_64'])\n",
    "result_p['2018_79'] = logit_pure(result['alpha_2018'] + result['beta_79'])\n",
    "result_p['2018_89'] = logit_pure(result['alpha_2018'] + result['beta_89'])\n",
    "result_p['2018_90'] = logit_pure(result['alpha_2018'] + result['beta_90'])\n",
    "\n",
    "result_p['2019_64'] = logit_pure(result['alpha_2019'] + result['beta_64'])\n",
    "result_p['2019_79'] = logit_pure(result['alpha_2019'] + result['beta_79'])\n",
    "result_p['2019_89'] = logit_pure(result['alpha_2019'] + result['beta_89'])\n",
    "result_p['2019_90'] = logit_pure(result['alpha_2019'] + result['beta_90'])\n",
    "\n"
   ]
  },
  {
   "cell_type": "code",
   "execution_count": null,
   "metadata": {},
   "outputs": [],
   "source": [
    "result_p.describe()"
   ]
  },
  {
   "cell_type": "code",
   "execution_count": null,
   "metadata": {
    "scrolled": false
   },
   "outputs": [],
   "source": [
    "plt.figure(figsize=(18,12))\n",
    "plt.title('Mortality')\n",
    "result_p.describe().loc['mean'].plot(kind='bar',color=['b','orange','g','r'])\n",
    "_= plt.xticks(rotation=90)"
   ]
  },
  {
   "cell_type": "code",
   "execution_count": null,
   "metadata": {},
   "outputs": [],
   "source": [
    "abs_pop_no_2020 = strata_abs_pop.loc[2001:2019]\n",
    "abs_pop_no_2020"
   ]
  },
  {
   "cell_type": "code",
   "execution_count": null,
   "metadata": {},
   "outputs": [],
   "source": [
    "p_means = result_p.describe().loc['mean']\n",
    "p_means = p_means.reset_index()\n",
    "p_means[['year','age_grp']] = p_means['index'].str.split('_',1,expand=True)\n",
    "p_means = pd.pivot(p_means,index='age_grp',columns='year',values='mean')\n",
    "p_means = p_means.T\n",
    "p_means.rename(columns={'90' : '90+'},inplace=True)\n",
    "p_means.index = range(2001,2020)\n",
    "p_means"
   ]
  },
  {
   "cell_type": "code",
   "execution_count": null,
   "metadata": {},
   "outputs": [],
   "source": [
    "abs_d = p_means * abs_pop_no_2020\n",
    "abs_d"
   ]
  },
  {
   "cell_type": "code",
   "execution_count": null,
   "metadata": {},
   "outputs": [],
   "source": [
    "abs_d.sum(axis=1)"
   ]
  },
  {
   "cell_type": "code",
   "execution_count": null,
   "metadata": {},
   "outputs": [],
   "source": [
    "abs_d.sum(axis=1).plot(kind='bar',figsize=(18,12),color='r')"
   ]
  },
  {
   "cell_type": "code",
   "execution_count": null,
   "metadata": {
    "scrolled": false
   },
   "outputs": [],
   "source": [
    "model3 = pm.Model()\n",
    "with model3:\n",
    "    \n",
    "    alpha = pm.Normal('alpha', 0, sigma=10,shape=4)\n",
    "    beta = pm.Normal('beta',0, sigma=10)\n",
    "\n",
    "    std_year = all_data_no_2020['std_year']\n",
    "    age_idx = all_data_no_2020['age_idx']\n",
    "\n",
    "    lgit = np.exp(alpha[age_idx-1]   + beta * std_year) / (\n",
    "            1 + np.exp(alpha[age_idx-1]  + beta * std_year ))\n",
    "\n",
    "    likelihood = pm.Binomial('likelihood',n=all_data_no_2020['pop'],p=lgit,observed=all_data_no_2020['dead'])\n",
    "    step1 = pm.Metropolis([alpha,beta])\n",
    "    trace3 = pm.sample(5000,step1,tune=1000)\n",
    "    az.plot_trace(trace3)\n",
    "    print(az.summary(trace3,round_to=2))\n",
    "    \n",
    "    \n",
    "    "
   ]
  },
  {
   "cell_type": "code",
   "execution_count": null,
   "metadata": {
    "scrolled": false
   },
   "outputs": [],
   "source": [
    "alpha_post = trace3['alpha'][:]\n",
    "beta_post = trace3['beta'][:]\n",
    "\n"
   ]
  },
  {
   "cell_type": "code",
   "execution_count": null,
   "metadata": {},
   "outputs": [],
   "source": [
    "result=pd.DataFrame({'64' : alpha_post[:,0],'79' : alpha_post[:,1],\n",
    "                    '89' : alpha_post[:,2],'90' : alpha_post[:,3],\n",
    "                    'beta' : beta_post})"
   ]
  },
  {
   "cell_type": "code",
   "execution_count": null,
   "metadata": {},
   "outputs": [],
   "source": [
    "result.describe()\n"
   ]
  },
  {
   "cell_type": "code",
   "execution_count": null,
   "metadata": {},
   "outputs": [],
   "source": [
    "result_p = pd.DataFrame()\n",
    "result_p['64'] = logit_pure(result['64'] + result['beta'])\n",
    "result_p['79'] = logit_pure(result['79'] + result['beta'])\n",
    "result_p['89'] = logit_pure(result['89'] + result['beta'])\n",
    "result_p['90'] = logit_pure(result['90'] + result['beta'])\n",
    "\n",
    "result_p.describe()"
   ]
  },
  {
   "cell_type": "code",
   "execution_count": null,
   "metadata": {},
   "outputs": [],
   "source": [
    "### \n",
    "df_for_CI = parse_scb_prel(YTD=False)\n",
    "df_for_CI"
   ]
  },
  {
   "cell_type": "code",
   "execution_count": null,
   "metadata": {},
   "outputs": [],
   "source": [
    "# skip last 7 days of prel data\n",
    "\n",
    "last_day_mask = df_for_CI['2020'] == 0\n",
    "last_day = df_for_CI[last_day_mask].index[0]\n",
    "last_day = last_day - pd.DateOffset(days=7)\n",
    "last_day"
   ]
  },
  {
   "cell_type": "code",
   "execution_count": null,
   "metadata": {},
   "outputs": [],
   "source": [
    "df_for_CI.loc[last_day:,'2020'] = df_for_CI.loc[last_day:,'2015':'2018'].mean(axis=1)"
   ]
  },
  {
   "cell_type": "code",
   "execution_count": null,
   "metadata": {},
   "outputs": [],
   "source": [
    "df_for_CI"
   ]
  },
  {
   "cell_type": "code",
   "execution_count": null,
   "metadata": {},
   "outputs": [],
   "source": [
    "df_for_CI.drop(['2015-2019','Månad'],axis=1,inplace=True)"
   ]
  },
  {
   "cell_type": "code",
   "execution_count": null,
   "metadata": {},
   "outputs": [],
   "source": [
    "df_for_CI"
   ]
  },
  {
   "cell_type": "code",
   "execution_count": null,
   "metadata": {},
   "outputs": [],
   "source": [
    "strata_abs_pop.sum(axis=1)"
   ]
  },
  {
   "cell_type": "code",
   "execution_count": null,
   "metadata": {},
   "outputs": [],
   "source": [
    "age_adj_pops = strata_abs_pop.sum(axis=1)\n",
    "age_adj_pops = age_adj_pops[[2015,2016,2017,2018,2019,2020]]\n",
    "age_adj_pops"
   ]
  },
  {
   "cell_type": "code",
   "execution_count": null,
   "metadata": {},
   "outputs": [],
   "source": [
    "df_for_CI = df_for_CI / (age_adj_pops.values / 1e6)\n",
    "df_for_CI"
   ]
  },
  {
   "cell_type": "code",
   "execution_count": null,
   "metadata": {},
   "outputs": [],
   "source": [
    "df_for_CI_trans = df_for_CI.unstack().reset_index()\n"
   ]
  },
  {
   "cell_type": "code",
   "execution_count": null,
   "metadata": {},
   "outputs": [],
   "source": [
    "df_for_CI_trans"
   ]
  },
  {
   "cell_type": "code",
   "execution_count": null,
   "metadata": {},
   "outputs": [],
   "source": [
    "df_for_CI_trans.loc[df_for_CI_trans['level_1'] == '2020-02-29']"
   ]
  },
  {
   "cell_type": "code",
   "execution_count": null,
   "metadata": {},
   "outputs": [],
   "source": [
    "df_for_CI_trans.drop([59,791,1157,1523,1889],inplace=True)"
   ]
  },
  {
   "cell_type": "code",
   "execution_count": null,
   "metadata": {},
   "outputs": [],
   "source": [
    "df_for_CI_trans['day_idx'] = df_for_CI_trans['level_1'].dt.dayofyear\n",
    "df_for_CI_trans.set_index('level_1',inplace=True)"
   ]
  },
  {
   "cell_type": "code",
   "execution_count": null,
   "metadata": {},
   "outputs": [],
   "source": [
    "df_for_CI_trans.index.name='date'\n",
    "df_for_CI_trans.rename(columns={'level_0' : 'year',0 : 'dead'},inplace=True)\n",
    "df_for_CI_trans"
   ]
  },
  {
   "cell_type": "code",
   "execution_count": null,
   "metadata": {},
   "outputs": [],
   "source": [
    "df_for_CI_trans['dead'] = df_for_CI_trans['dead'].astype(float)\n",
    "df_for_CI_trans"
   ]
  },
  {
   "cell_type": "code",
   "execution_count": null,
   "metadata": {},
   "outputs": [],
   "source": [
    "year_groups = df_for_CI_trans.groupby('year').sum()\n",
    "year_groups"
   ]
  },
  {
   "cell_type": "code",
   "execution_count": null,
   "metadata": {},
   "outputs": [],
   "source": [
    "import pymc3 as pm\n",
    "import arviz as az \n",
    "\n",
    "model5 = pm.Model()\n",
    "\n",
    "day_idx = df_for_CI_trans['day_idx'].values\n",
    "\n",
    "with model5:\n",
    "\n",
    "    lambda_bar = pm.Exponential('lambda_bar',1 / df_for_CI_trans['dead'].mean())\n",
    "    \n",
    "    lambda_ = pm.Exponential('lambda_',1 / lambda_bar,shape=len(df_for_CI_trans['day_idx'].unique()))\n",
    "    \n",
    "    lkh = pm.Poisson('lkh',lambda_[day_idx-1],observed=df_for_CI_trans['dead'])\n",
    "    \n",
    "    trace5 = pm.sample(500,tune=500)\n",
    "    \n",
    "    summary5 = az.summary(trace5,hdi_prob=0.89)"
   ]
  },
  {
   "cell_type": "code",
   "execution_count": null,
   "metadata": {},
   "outputs": [],
   "source": [
    "with model5:\n",
    "    print (summary5)"
   ]
  },
  {
   "cell_type": "code",
   "execution_count": null,
   "metadata": {
    "scrolled": false
   },
   "outputs": [],
   "source": [
    "with model5:\n",
    "    az.plot_forest(trace5,var_names='lambda_',hdi_prob=0.89)"
   ]
  },
  {
   "cell_type": "code",
   "execution_count": null,
   "metadata": {},
   "outputs": [],
   "source": [
    "daily_samples = pd.DataFrame(trace5['lambda_']).T\n",
    "dates = pd.date_range('2020-01-01','2020-12-31')\n",
    "daily_samples.index=dates\n",
    "daily_samples"
   ]
  },
  {
   "cell_type": "code",
   "execution_count": null,
   "metadata": {},
   "outputs": [],
   "source": [
    "daily_CIs = np.percentile(daily_samples,[5.5,94.5],axis=1)\n",
    "daily_means = daily_samples.mean(axis=1)\n",
    "daily_means"
   ]
  },
  {
   "cell_type": "code",
   "execution_count": null,
   "metadata": {},
   "outputs": [],
   "source": [
    "daily_err_low = np.abs(daily_means - daily_CIs[0,:])\n",
    "daily_err_high = np.abs(daily_means - daily_CIs[1,:])\n",
    "\n",
    "daily_err_high"
   ]
  },
  {
   "cell_type": "code",
   "execution_count": null,
   "metadata": {},
   "outputs": [],
   "source": [
    "df_for_CI"
   ]
  },
  {
   "cell_type": "code",
   "execution_count": null,
   "metadata": {},
   "outputs": [],
   "source": [
    "df_predict = df_for_CI.copy()\n",
    "df_predict"
   ]
  },
  {
   "cell_type": "code",
   "execution_count": null,
   "metadata": {},
   "outputs": [],
   "source": [
    "worst_case = daily_means + daily_err_high\n",
    "best_case = daily_means - daily_err_low\n",
    "\n",
    "df_predict['worst_case'] = worst_case\n",
    "df_predict['best_case'] = best_case\n",
    "\n",
    "df_predict"
   ]
  },
  {
   "cell_type": "code",
   "execution_count": null,
   "metadata": {},
   "outputs": [],
   "source": [
    "df_predict[['2020','worst_case','best_case']].plot()"
   ]
  },
  {
   "cell_type": "code",
   "execution_count": null,
   "metadata": {},
   "outputs": [],
   "source": [
    "df_predict_cmp = df_predict.copy()\n",
    "df_predict_cmp"
   ]
  },
  {
   "cell_type": "code",
   "execution_count": null,
   "metadata": {},
   "outputs": [],
   "source": [
    "df_predict_cmp.loc[last_day:,'2020_best'] = df_predict_cmp.loc[last_day:,'best_case']\n",
    "df_predict_cmp.loc[last_day:,'2020_worst'] = df_predict_cmp.loc[last_day:,'worst_case']\n",
    "\n",
    "df_predict_cmp.loc[:last_day,'2020_best'] = df_predict_cmp.loc[:last_day,'2020']\n",
    "df_predict_cmp.loc[:last_day,'2020_worst'] = df_predict_cmp.loc[:last_day,'2020']\n",
    "\n",
    "\n",
    "df_predict_cmp"
   ]
  },
  {
   "cell_type": "code",
   "execution_count": null,
   "metadata": {},
   "outputs": [],
   "source": [
    "df_predict_cmp.drop(['worst_case','best_case'],axis=1,inplace=True)"
   ]
  },
  {
   "cell_type": "code",
   "execution_count": null,
   "metadata": {},
   "outputs": [],
   "source": [
    "df_predict_cmp"
   ]
  },
  {
   "cell_type": "code",
   "execution_count": null,
   "metadata": {},
   "outputs": [],
   "source": [
    "df_predict_cmp.plot(y=['2020_best','2020_worst','2020'],figsize=(18,12))"
   ]
  },
  {
   "cell_type": "code",
   "execution_count": null,
   "metadata": {},
   "outputs": [],
   "source": [
    "df_predict_cmp.cumsum().plot(figsize=(18,12))"
   ]
  },
  {
   "cell_type": "code",
   "execution_count": null,
   "metadata": {},
   "outputs": [],
   "source": [
    "df_predict_cmp['2015-2018'] = df_predict_cmp[['2015','2016','2017','2018']].mean(axis=1)\n",
    "df_predict_cmp"
   ]
  },
  {
   "cell_type": "code",
   "execution_count": null,
   "metadata": {},
   "outputs": [],
   "source": [
    "\n",
    "df_predict_cmp[['2015-2018','2020_best','2020_worst','2020']].cumsum().plot(figsize=(18,12))"
   ]
  },
  {
   "cell_type": "code",
   "execution_count": null,
   "metadata": {},
   "outputs": [],
   "source": [
    "low = df_predict_cmp['2020_best'].cumsum().values.astype(float)\n",
    "high = df_predict_cmp['2020_worst'].cumsum().values.astype(float)\n",
    "print (low[-1])\n",
    "print (high[-1])"
   ]
  },
  {
   "cell_type": "code",
   "execution_count": null,
   "metadata": {},
   "outputs": [],
   "source": [
    "last_day = last_day.date()\n"
   ]
  },
  {
   "cell_type": "code",
   "execution_count": null,
   "metadata": {},
   "outputs": [],
   "source": [
    "\n",
    "ax = df_predict_cmp[['2020','2015-2018']].cumsum().plot(figsize=(18,12))\n",
    "\n",
    "ax.fill_between(x=df_predict_cmp.index,color='m',alpha=0.2,\n",
    "                y1=high,\n",
    "                y2=low,label='89% CI for remaining days of 2020')\n",
    "\n",
    "ax.axvline(last_day,color='orange',ls='dashed',label='prediction starts {}'.format(last_day))\n",
    "\n",
    "ax.legend(loc='upper left')\n",
    "ax.set_ylabel('cumulative deaths per million')\n",
    "ax.set_yticks(range(0,10000,1000))\n",
    "\n",
    "plt.title('SWEDEN cumulative deaths per million : 2020 Forecasted vs avg. 2015-2018\\nData until {}\\nDataSource : scb.se'.format(last_day))\n",
    "plt.savefig('stratified_cumulative_deaths.jpg',format='jpg')"
   ]
  },
  {
   "cell_type": "code",
   "execution_count": null,
   "metadata": {},
   "outputs": [],
   "source": [
    "yearly_totals = df_predict_cmp.sum()['2015' : '2020']\n",
    "yearly_totals"
   ]
  },
  {
   "cell_type": "code",
   "execution_count": null,
   "metadata": {},
   "outputs": [],
   "source": [
    "errs = np.array([[0,0,0,0,0,np.abs(low[-1] - yearly_totals['2020'])],\n",
    "                [0,0,0,0,0,np.abs(high[-1] - yearly_totals['2020'])]])"
   ]
  },
  {
   "cell_type": "code",
   "execution_count": null,
   "metadata": {},
   "outputs": [],
   "source": [
    "title = 'SWEDEN Predicted Full Year 2020 deaths per million cmp 2015-2019\\nDataSource : scb.se'\n",
    "\n",
    "ax = yearly_totals.plot(kind='bar',figsize=(18,12),color='r',yerr=errs,capsize=5,title=title)\n",
    "ax.set_ylabel('deaths per million')\n",
    "_= ax.set_yticks(range(0,10000,1000))\n",
    "plt.savefig('stratified_deaths_2015-2020-predicted.jpg',format='jpg')"
   ]
  },
  {
   "cell_type": "code",
   "execution_count": null,
   "metadata": {},
   "outputs": [],
   "source": [
    "df_predict_cmp"
   ]
  },
  {
   "cell_type": "code",
   "execution_count": null,
   "metadata": {},
   "outputs": [],
   "source": [
    "df_predict_cmp.plot(y='2020')"
   ]
  },
  {
   "cell_type": "code",
   "execution_count": null,
   "metadata": {},
   "outputs": [],
   "source": [
    "yearly_totals"
   ]
  },
  {
   "cell_type": "code",
   "execution_count": null,
   "metadata": {},
   "outputs": [],
   "source": [
    "age_adj_mortality * 1e6"
   ]
  },
  {
   "cell_type": "code",
   "execution_count": null,
   "metadata": {},
   "outputs": [],
   "source": [
    "df_predict_cmp.sum()"
   ]
  },
  {
   "cell_type": "code",
   "execution_count": null,
   "metadata": {},
   "outputs": [],
   "source": [
    "yearly_totals / 1e6\n"
   ]
  },
  {
   "cell_type": "code",
   "execution_count": null,
   "metadata": {},
   "outputs": [],
   "source": [
    "yearly_mortality = yearly_totals / 1e6\n",
    "mortality_errs = errs / 1e6\n",
    "mortality_errs"
   ]
  },
  {
   "cell_type": "code",
   "execution_count": null,
   "metadata": {},
   "outputs": [],
   "source": [
    "print (yearly_mortality)\n",
    "print ('mortality low', yearly_mortality.loc['2020'] - mortality_errs[0,-1])\n",
    "print ('mortality high',yearly_mortality.loc['2020'] + mortality_errs[1,-1])"
   ]
  },
  {
   "cell_type": "code",
   "execution_count": null,
   "metadata": {},
   "outputs": [],
   "source": []
  },
  {
   "cell_type": "code",
   "execution_count": null,
   "metadata": {},
   "outputs": [],
   "source": [
    "title = 'SWEDEN Predicted Full Year 2020 mortality cmp 2015-2019\\nDataSource : scb.se'\n",
    "\n",
    "ax = yearly_mortality.plot(kind='bar',figsize=(18,12),color='r',title=title,yerr=mortality_errs,capsize=5)\n",
    "ax.set_ylabel('mortality')\n",
    "_= ax.set_yticks(np.arange(0,0.011,0.001))\n",
    "plt.savefig('stratified_mortality_2015-2020-predicted.jpg',format='jpg')"
   ]
  }
 ],
 "metadata": {
  "kernelspec": {
   "display_name": "Python 3",
   "language": "python",
   "name": "python3"
  },
  "language_info": {
   "codemirror_mode": {
    "name": "ipython",
    "version": 3
   },
   "file_extension": ".py",
   "mimetype": "text/x-python",
   "name": "python",
   "nbconvert_exporter": "python",
   "pygments_lexer": "ipython3",
   "version": "3.8.6"
  }
 },
 "nbformat": 4,
 "nbformat_minor": 4
}
