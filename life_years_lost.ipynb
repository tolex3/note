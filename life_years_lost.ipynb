{
 "cells": [
  {
   "cell_type": "code",
   "execution_count": null,
   "metadata": {},
   "outputs": [],
   "source": [
    "import numpy as np\n",
    "import matplotlib.pyplot as plt\n",
    "import seaborn as sns\n",
    "import pandas as pd\n",
    "import pymc3 as pm\n",
    "import arviz as az\n",
    "import scipy.stats as sps\n",
    "import requests\n",
    "\n",
    "sns.set()"
   ]
  },
  {
   "cell_type": "code",
   "execution_count": null,
   "metadata": {},
   "outputs": [],
   "source": [
    "# https://www.healthknowledge.org.uk/public-health-textbook/research-methods/1a-epidemiology/years-lost-life\n",
    "# https://data.oecd.org/healthstat/potential-years-of-life-lost.htm"
   ]
  },
  {
   "cell_type": "code",
   "execution_count": null,
   "metadata": {},
   "outputs": [],
   "source": [
    "strata_abs_deaths = pd.read_pickle('strata_abs_deaths.pkl')\n",
    "strata_abs_deaths"
   ]
  },
  {
   "cell_type": "code",
   "execution_count": null,
   "metadata": {},
   "outputs": [],
   "source": [
    "strata_abs_pop = pd.read_pickle('strata_abs_pop.pkl')\n",
    "strata_abs_pop"
   ]
  },
  {
   "cell_type": "code",
   "execution_count": null,
   "metadata": {},
   "outputs": [],
   "source": [
    "death_rate = strata_abs_deaths.div(strata_abs_pop ,axis=0)\n",
    "death_rate"
   ]
  },
  {
   "cell_type": "code",
   "execution_count": null,
   "metadata": {},
   "outputs": [],
   "source": [
    "std_pop = strata_abs_pop.loc[2010]\n",
    "std_pop"
   ]
  },
  {
   "cell_type": "code",
   "execution_count": null,
   "metadata": {},
   "outputs": [],
   "source": [
    "# age adjusted deaths, std year = 2010\n",
    "\n",
    "age_adjusted_deaths = death_rate * std_pop\n",
    "age_adjusted_deaths"
   ]
  },
  {
   "cell_type": "code",
   "execution_count": null,
   "metadata": {},
   "outputs": [],
   "source": [
    "# OECD defines 74 as std death age\n",
    "\n",
    "median_age_of_death = 84\n",
    "\n",
    "age_grps = np.array([64,79,89,90])\n",
    "\n",
    "lyl = median_age_of_death - age_grps\n",
    "lyl"
   ]
  },
  {
   "cell_type": "code",
   "execution_count": null,
   "metadata": {},
   "outputs": [],
   "source": [
    "life_years_lost_per_age = age_adjusted_deaths * lyl\n",
    "life_years_lost_per_age"
   ]
  },
  {
   "cell_type": "code",
   "execution_count": null,
   "metadata": {},
   "outputs": [],
   "source": [
    "life_years_lost_per_age = life_years_lost_per_age.applymap(lambda x : 0 if x < 0 else x)\n",
    "life_years_lost_per_age"
   ]
  },
  {
   "cell_type": "code",
   "execution_count": null,
   "metadata": {},
   "outputs": [],
   "source": [
    "LYL_total = life_years_lost_per_age.sum(axis=1)\n",
    "LYL_total"
   ]
  },
  {
   "cell_type": "code",
   "execution_count": null,
   "metadata": {},
   "outputs": [],
   "source": [
    "LYL_total.plot(kind='bar',\n",
    "               figsize=(18,12),\n",
    "               title='SWEDEN Age Adj. Life-Years-Lost\\nASSUMPTIONS:\\n1) 2020 pop grows as 2018-2019\\n' \\\n",
    "               '2) deaths 2020 grow proportionally YTD\\n[Standard Population : 2010, Life Expectancy: {}]'.format(\n",
    "                   median_age_of_death),\n",
    "               color='r')\n",
    "\n",
    "plt.savefig('LYL_{}.jpg'.format(median_age_of_death),format='jpg',dpi=400)"
   ]
  },
  {
   "cell_type": "code",
   "execution_count": null,
   "metadata": {},
   "outputs": [],
   "source": [
    "LYL_total_per_m = LYL_total / (std_pop.sum() / 1e6)\n",
    "LYL_total_per_m"
   ]
  },
  {
   "cell_type": "code",
   "execution_count": null,
   "metadata": {},
   "outputs": [],
   "source": [
    "LYL_total_per_m.plot(kind='bar',\n",
    "               figsize=(18,12),\n",
    "               title='SWEDEN Age & Pop. Adj, Life-Years-Lost\\nASSUMPTIONS:\\n1) 2020 pop grows as 2018-2019\\n' \\\n",
    "               '2) deaths 2020 grow proportionally YTD\\n[Standard Population : 2010, Life Expectancy: {}]'.format(\n",
    "                   median_age_of_death),\n",
    "               color='r')\n",
    "\n",
    "plt.savefig('LYL_per_m_{}.jpg'.format(median_age_of_death),format='jpg',dpi=400)"
   ]
  }
 ],
 "metadata": {
  "kernelspec": {
   "display_name": "Python 3",
   "language": "python",
   "name": "python3"
  },
  "language_info": {
   "codemirror_mode": {
    "name": "ipython",
    "version": 3
   },
   "file_extension": ".py",
   "mimetype": "text/x-python",
   "name": "python",
   "nbconvert_exporter": "python",
   "pygments_lexer": "ipython3",
   "version": "3.8.5"
  }
 },
 "nbformat": 4,
 "nbformat_minor": 4
}
