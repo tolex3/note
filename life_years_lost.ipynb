{
 "cells": [
  {
   "cell_type": "code",
   "execution_count": null,
   "metadata": {},
   "outputs": [],
   "source": [
    "import numpy as np\n",
    "import matplotlib.pyplot as plt\n",
    "import seaborn as sns\n",
    "import pandas as pd\n",
    "import pymc3 as pm\n",
    "import arviz as az\n",
    "import scipy.stats as sps\n",
    "import requests\n",
    "\n",
    "sns.set()"
   ]
  },
  {
   "cell_type": "code",
   "execution_count": null,
   "metadata": {},
   "outputs": [],
   "source": [
    "# https://www.healthknowledge.org.uk/public-health-textbook/research-methods/1a-epidemiology/years-lost-life\n",
    "# https://data.oecd.org/healthstat/potential-years-of-life-lost.htm\n",
    "\n",
    "#### DEPENDS ON RUNNING stratified...ipynb to produce pkl-files below ###"
   ]
  },
  {
   "cell_type": "code",
   "execution_count": null,
   "metadata": {},
   "outputs": [],
   "source": [
    "strata_abs_deaths = pd.read_pickle('strata_abs_deaths.pkl')\n",
    "strata_abs_deaths"
   ]
  },
  {
   "cell_type": "code",
   "execution_count": null,
   "metadata": {},
   "outputs": [],
   "source": [
    "strata_abs_pop = pd.read_pickle('strata_abs_pop.pkl')\n",
    "strata_abs_pop"
   ]
  },
  {
   "cell_type": "code",
   "execution_count": null,
   "metadata": {},
   "outputs": [],
   "source": [
    "death_rate = strata_abs_deaths.div(strata_abs_pop ,axis=0)\n",
    "death_rate"
   ]
  },
  {
   "cell_type": "code",
   "execution_count": null,
   "metadata": {},
   "outputs": [],
   "source": [
    "std_pop = strata_abs_pop.loc[2010]\n",
    "std_pop"
   ]
  },
  {
   "cell_type": "code",
   "execution_count": null,
   "metadata": {},
   "outputs": [],
   "source": [
    "# age adjusted deaths, std year = 2010\n",
    "\n",
    "age_adjusted_deaths = death_rate * std_pop\n",
    "age_adjusted_deaths"
   ]
  },
  {
   "cell_type": "code",
   "execution_count": null,
   "metadata": {},
   "outputs": [],
   "source": [
    "# OECD defines 70 as std death age\n",
    "\n",
    "median_age_of_death = 70\n",
    "\n",
    "age_grps = np.array([64,79,89,90])\n",
    "\n",
    "lyl = median_age_of_death - age_grps\n",
    "lyl"
   ]
  },
  {
   "cell_type": "code",
   "execution_count": null,
   "metadata": {},
   "outputs": [],
   "source": [
    "life_years_lost_per_age = age_adjusted_deaths * lyl\n",
    "life_years_lost_per_age"
   ]
  },
  {
   "cell_type": "code",
   "execution_count": null,
   "metadata": {},
   "outputs": [],
   "source": [
    "life_years_lost_per_age = life_years_lost_per_age.applymap(lambda x : 0 if x < 0 else x)\n",
    "life_years_lost_per_age"
   ]
  },
  {
   "cell_type": "code",
   "execution_count": null,
   "metadata": {},
   "outputs": [],
   "source": [
    "LYL_total = life_years_lost_per_age.sum(axis=1)\n",
    "LYL_total"
   ]
  },
  {
   "cell_type": "code",
   "execution_count": null,
   "metadata": {},
   "outputs": [],
   "source": [
    "epsilon = pd.read_pickle('epsilon.pkl').values[0]\n",
    "epsilon"
   ]
  },
  {
   "cell_type": "code",
   "execution_count": null,
   "metadata": {},
   "outputs": [],
   "source": [
    "LYL_total.plot(kind='bar',\n",
    "               figsize=(18,12),\n",
    "               title='SWEDEN Age Adj. Estimate Life-Years-Lost 2001-2020\\n\\nASSUMPTIONS:\\n1) 2020 pop grows as 2018-2019\\n' \\\n",
    "               r'2) deaths 2020 grow proportionally YTD [$\\epsilon$ : {:.2f}]'.format(epsilon) + '\\n[Standard Population : 2010, Life Expectancy: {} (OECD STD)]'.format(\n",
    "                   median_age_of_death),\n",
    "               color='r')\n",
    "\n",
    "text = r'LYL $estimated$ with the 4 age grps [64,79,89,90+]  avail. for prel. 2020 data' \n",
    "text2 = 'see https://data.oecd.org/healthstat/potential-years-of-life-lost.htm'\n",
    "\n",
    "plt.ylabel('Rough Estimate Life Years Lost')\n",
    "\n",
    "plt.text(10,80000,text)\n",
    "plt.text(10,75000,text2)\n",
    "\n",
    "plt.savefig('LYL_{}.jpg'.format(median_age_of_death),format='jpg',dpi=400)"
   ]
  },
  {
   "cell_type": "code",
   "execution_count": null,
   "metadata": {},
   "outputs": [],
   "source": []
  },
  {
   "cell_type": "code",
   "execution_count": null,
   "metadata": {},
   "outputs": [],
   "source": [
    "LYL_total_per_m = LYL_total / (std_pop.sum() / 1e6)\n",
    "LYL_total_per_m"
   ]
  },
  {
   "cell_type": "code",
   "execution_count": null,
   "metadata": {},
   "outputs": [],
   "source": [
    "LYL_total_per_m.plot(kind='bar',\n",
    "               figsize=(18,12),\n",
    "               title='SWEDEN Age & Pop. Adj, Life-Years-Lost\\nASSUMPTIONS:\\n1) 2020 pop grows as 2018-2019\\n' \\\n",
    "               '2) deaths 2020 grow proportionally YTD\\n[Standard Population : 2010, Life Expectancy: {}]'.format(\n",
    "                   median_age_of_death),\n",
    "               color='r')\n",
    "\n",
    "plt.savefig('LYL_per_m_{}.jpg'.format(median_age_of_death),format='jpg',dpi=400)"
   ]
  },
  {
   "cell_type": "code",
   "execution_count": null,
   "metadata": {},
   "outputs": [],
   "source": [
    "# constructed example using official SCB mortality data\n",
    "\n",
    "scb_mortality = pd.read_pickle('mortality.pkl')\n",
    "scb_mortality"
   ]
  },
  {
   "cell_type": "code",
   "execution_count": null,
   "metadata": {},
   "outputs": [],
   "source": [
    "scb_population = pd.read_pickle('population.pkl')\n",
    "scb_population"
   ]
  },
  {
   "cell_type": "code",
   "execution_count": null,
   "metadata": {},
   "outputs": [],
   "source": [
    "standard_population = scb_population[2010]\n",
    "standard_population"
   ]
  },
  {
   "cell_type": "code",
   "execution_count": null,
   "metadata": {},
   "outputs": [],
   "source": [
    "standard_deaths_age_grp = scb_mortality.mul(standard_population,axis=0)\n",
    "standard_deaths_age_grp"
   ]
  },
  {
   "cell_type": "code",
   "execution_count": null,
   "metadata": {},
   "outputs": [],
   "source": [
    "age_adjusted_deaths = standard_deaths_age_grp.sum()\n",
    "age_adjusted_deaths\n"
   ]
  },
  {
   "cell_type": "code",
   "execution_count": null,
   "metadata": {},
   "outputs": [],
   "source": [
    "age_adjusted_deaths.plot(kind='bar',figsize=(18,12))"
   ]
  },
  {
   "cell_type": "code",
   "execution_count": null,
   "metadata": {},
   "outputs": [],
   "source": [
    "life_expectancy = median_age_of_death\n",
    "\n",
    "years_lost_per_age = pd.Series(range(0,100,5),index=standard_deaths_age_grp.index)\n",
    "years_lost_per_age = life_expectancy - years_lost_per_age\n",
    "years_lost_per_age"
   ]
  },
  {
   "cell_type": "code",
   "execution_count": null,
   "metadata": {},
   "outputs": [],
   "source": [
    "LYL_per_age = standard_deaths_age_grp.mul(years_lost_per_age,axis=0)\n",
    "LYL_per_age = LYL_per_age.applymap(lambda x : 0 if x < 0 else x)\n",
    "LYL_per_age"
   ]
  },
  {
   "cell_type": "code",
   "execution_count": null,
   "metadata": {},
   "outputs": [],
   "source": [
    "LYL = LYL_per_age.sum()\n",
    "LYL"
   ]
  },
  {
   "cell_type": "code",
   "execution_count": null,
   "metadata": {},
   "outputs": [],
   "source": [
    "LYL.plot(kind='bar',figsize=(18,12))"
   ]
  },
  {
   "cell_type": "code",
   "execution_count": null,
   "metadata": {},
   "outputs": [],
   "source": [
    "plt.figure(figsize=(18,12))\n",
    "title = 'SWEDEN Life Years Lost, official age groups vs preliminary FHM/SCB covid reporting age groups\\n\\n' \\\n",
    "'ASSUMPTIONS:\\n1) Life Expectancy: {}\\nPopulation 2020 grows as 2018->2019\\n2)'.format(life_expectancy) + \\\n",
    "' Full Year 2020 deaths grow proportionally YTD\\n' \\\n",
    "'DataSource: SCB.se'\n",
    "\n",
    "plt.title(title)\n",
    "plt.plot(LYL,'o--',label='calc. from SCB official 5 year strata')\n",
    "plt.plot(LYL_total,'o--',label='calc using age groups [64,79,89,90+]')\n",
    "_= plt.xticks(LYL_total.index)\n",
    "plt.ylabel('Life Years Lost')\n",
    "\n",
    "plt.legend(loc='upper right')"
   ]
  },
  {
   "cell_type": "code",
   "execution_count": null,
   "metadata": {},
   "outputs": [],
   "source": [
    "lyls = pd.concat([LYL,LYL_total],axis=1)\n",
    "lyls.columns=['LYL_SCB','LYL__COVID_prel']\n",
    "lyls"
   ]
  },
  {
   "cell_type": "code",
   "execution_count": null,
   "metadata": {},
   "outputs": [],
   "source": [
    "lyls.corr()"
   ]
  },
  {
   "cell_type": "code",
   "execution_count": null,
   "metadata": {},
   "outputs": [],
   "source": [
    "# manipulate mortality for the young \n",
    "\n",
    "mortality_fake = scb_mortality.copy()\n",
    "mortality_fake.loc['1-4' : '25-29',2019] = scb_mortality.loc['1-4' : '25-29',2019] * 2\n",
    "mortality_fake"
   ]
  },
  {
   "cell_type": "code",
   "execution_count": null,
   "metadata": {},
   "outputs": [],
   "source": [
    "fake_pop_adj_per_grp = mortality_fake.mul(standard_population,axis=0)\n",
    "fake_pop_adj_per_grp"
   ]
  },
  {
   "cell_type": "code",
   "execution_count": null,
   "metadata": {},
   "outputs": [],
   "source": [
    "fake_pop_adj_per_grp.sum()"
   ]
  },
  {
   "cell_type": "code",
   "execution_count": null,
   "metadata": {},
   "outputs": [],
   "source": [
    "LYL_fake = fake_pop_adj_per_grp.mul(years_lost_per_age,axis=0)\n",
    "LYL_fake = LYL_fake.applymap(lambda x : 0 if x < 0 else x)\n",
    "LYL_fake"
   ]
  },
  {
   "cell_type": "code",
   "execution_count": null,
   "metadata": {},
   "outputs": [],
   "source": [
    "LYL_fake_tot = LYL_fake.sum()\n",
    "LYL_fake_tot"
   ]
  },
  {
   "cell_type": "code",
   "execution_count": null,
   "metadata": {},
   "outputs": [],
   "source": [
    "colors = ['b'] * 18\n",
    "colors.append('r')\n",
    "\n",
    "fig,axes = plt.subplots(2,1,sharex=True,sharey=True,figsize=(18,12))\n",
    "\n",
    "LYL.plot(kind='bar',ax=axes[0],title='SWEDEN Life-Years-Lost 2001-2020')\n",
    "\n",
    "LYL_fake_tot.plot(kind='bar',color=colors,ax=axes[1],\n",
    "                  title='SIMULATED DATA for 2019: Life-Years-Lost with DOUBLED mortality for ages 1-29, year 2019')\n",
    "\n",
    "axes[0].set_ylabel('life years lost')\n",
    "axes[1].set_ylabel('life years lost')\n",
    "\n",
    "plt.savefig('LYL_simulated_double_mortality_1_29.jpg',format='jpg',dpi=400)"
   ]
  },
  {
   "cell_type": "code",
   "execution_count": null,
   "metadata": {},
   "outputs": [],
   "source": [
    "\n",
    "x = np.arange(5)\n",
    "c = np.arange(10)\n",
    "_= plt.plot(x,x[:,np.newaxis]*c)\n",
    "x[:,np.newaxis]*c\n"
   ]
  }
 ],
 "metadata": {
  "kernelspec": {
   "display_name": "Python 3",
   "language": "python",
   "name": "python3"
  },
  "language_info": {
   "codemirror_mode": {
    "name": "ipython",
    "version": 3
   },
   "file_extension": ".py",
   "mimetype": "text/x-python",
   "name": "python",
   "nbconvert_exporter": "python",
   "pygments_lexer": "ipython3",
   "version": "3.8.5"
  }
 },
 "nbformat": 4,
 "nbformat_minor": 4
}
