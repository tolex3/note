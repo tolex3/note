{
 "cells": [
  {
   "cell_type": "code",
   "execution_count": null,
   "metadata": {},
   "outputs": [],
   "source": [
    "#### marbles example\n",
    "\n",
    "import numpy as np\n",
    "import pandas as pd\n",
    "import matplotlib.pyplot as plt\n",
    "import seaborn as sns\n",
    "import pymc as pm\n",
    "from pymc.Matplot import plot as pmplot\n",
    "import scipy.stats as sps\n",
    "\n",
    "sns.set()"
   ]
  },
  {
   "cell_type": "code",
   "execution_count": null,
   "metadata": {},
   "outputs": [],
   "source": [
    "df = pd.DataFrame({'prior': [0.00,0.25,0.50,0.75,1.00],\n",
    "                  'ways' : [0,3,8,9,0]})\n",
    "\n",
    "df['posterior_w_flat_prior'] = df['ways'] / df['ways'].sum()\n",
    "\n",
    "df['prod_p_x_ways'] = df['prior'] * df['ways']\n",
    "\n",
    "df['posterior_w_prior'] = df['prod_p_x_ways'] /df['prod_p_x_ways'].sum()\n",
    "\n",
    "\n",
    "df"
   ]
  },
  {
   "cell_type": "code",
   "execution_count": null,
   "metadata": {},
   "outputs": [],
   "source": [
    "df.plot(x='prior',y=['posterior_w_prior','posterior_w_flat_prior'],style='x--')"
   ]
  },
  {
   "cell_type": "code",
   "execution_count": null,
   "metadata": {
    "scrolled": false
   },
   "outputs": [],
   "source": [
    "import scipy.stats as sps\n",
    "\n",
    "grid_size = 20\n",
    "p_grid = np.linspace(0,1,grid_size)\n",
    "\n",
    "prior = np.ones_like(p_grid)\n",
    "#prior = p_grid\n",
    "\n",
    "k = 6 # number of blue\n",
    "n = 9 # in n draws\n",
    "\n",
    "likelihood = sps.binom.pmf(k,n,p_grid)\n",
    "\n",
    "posterior = prior * likelihood\n",
    "posterior /= sum(posterior)\n",
    "posterior"
   ]
  },
  {
   "cell_type": "code",
   "execution_count": null,
   "metadata": {},
   "outputs": [],
   "source": [
    "\n",
    "def loss(posterior,d):\n",
    "    result = np.zeros_like(d)\n",
    "    \n",
    "    for i in range(len(d)):\n",
    "        result [i] = (posterior * np.abs(d[i] - p_grid)).sum()\n",
    "        \n",
    "    return result\n",
    "\n",
    "d = np.linspace(0,1,grid_size)\n",
    "\n",
    "l = loss(posterior,d)\n",
    "\n",
    "plt.plot(d,l,label='loss')\n",
    "plt.plot(d,posterior,label='posterior')\n",
    "plt.legend(loc='upper center')"
   ]
  },
  {
   "cell_type": "code",
   "execution_count": null,
   "metadata": {},
   "outputs": [],
   "source": [
    "### vectorize works ok with only one vector parameter\n",
    "def loss2(d):\n",
    "    \n",
    "    return np.sum(posterior * np.abs(d - p_grid))\n",
    "\n",
    "l = np.vectorize(loss2)(d)\n",
    "print (l)\n",
    "\n",
    "plt.plot(d,l)\n",
    "    "
   ]
  },
  {
   "cell_type": "code",
   "execution_count": null,
   "metadata": {},
   "outputs": [],
   "source": [
    "print (p_grid)\n",
    "print ()\n",
    "print (posterior)\n",
    "\n",
    "plt.plot(p_grid,likelihood,'x--',label='likelihood')\n",
    "plt.plot(p_grid,prior,'x--',label='prior')\n",
    "plt.plot(p_grid,posterior,'x--',label='posterior')\n",
    "plt.legend(loc='upper left')"
   ]
  },
  {
   "cell_type": "code",
   "execution_count": null,
   "metadata": {},
   "outputs": [],
   "source": [
    "plt.plot(p_grid,posterior,'x--')\n",
    "plt.xlabel('ratio of blue in conjecture')\n",
    "plt.ylabel('Probability getting {} blue out of {}'.format(k,n))\n",
    "\n"
   ]
  },
  {
   "cell_type": "code",
   "execution_count": null,
   "metadata": {},
   "outputs": [],
   "source": []
  },
  {
   "cell_type": "code",
   "execution_count": null,
   "metadata": {},
   "outputs": [],
   "source": [
    "# sample from grid posterior\n",
    "nr_samples = 100000\n",
    "\n",
    "samples = np.random.choice(p_grid,replace=True,size=nr_samples,p=posterior)\n",
    "plt.hist(samples,weights=np.ones_like(samples) / len(samples))\n",
    "plt.xlabel('ratio of blue marbles given n = {} and k = {}'.format(n,k))\n",
    "plt.ylabel('probability')"
   ]
  },
  {
   "cell_type": "code",
   "execution_count": null,
   "metadata": {},
   "outputs": [],
   "source": [
    "\n",
    "#### NOTE - USING SAMPLES AS probability distribution!!! ### \n",
    "foo = pm.rbinomial(9,p=samples)\n",
    "print (foo)\n",
    "plt.hist(foo)\n"
   ]
  },
  {
   "cell_type": "code",
   "execution_count": null,
   "metadata": {},
   "outputs": [],
   "source": [
    "import pymc as pm\n",
    "from pymc.Matplot import plot as pmplot\n",
    "\n",
    "p = pm.Uniform('p',lower=0,upper=1)\n",
    "\n",
    "n = 3\n",
    "k = 2\n",
    "\n",
    "obs = pm.Binomial('obs',n,p,observed=True,value=[k])\n",
    "\n",
    "model = pm.Model([p,obs])\n",
    "\n",
    "map_ = pm.MAP(model)\n",
    "map_.fit()\n",
    "\n",
    "print (map_[0]) # first (and only param in model)\n",
    "\n",
    "mcmc = pm.MCMC(model)\n",
    "mcmc.sample(10000,1000,2)\n",
    "\n",
    "p_post = mcmc.trace(p)[:]\n",
    "\n",
    "pmplot(p_post,'p_post')\n",
    "\n",
    "result = pd.DataFrame({'p_post': p_post})\n",
    "\n",
    "plt.figure(figsize=(18,12))\n",
    "plt.axvline(0,color='r',ls='dashed',label='ratio blue marbles in each of 5 conjectures')\n",
    "plt.axvline(0.25,color='r',ls='dashed')\n",
    "plt.axvline(0.50,color='r',ls='dashed')\n",
    "plt.axvline(0.75,color='r',ls='dashed')\n",
    "plt.axvline(1.0,color='r',ls='dashed')\n",
    "\n",
    "plt.xlabel('posterior (most plausible) ratio blue marbles with n = {:.0f} k = {:.0f}'.format(n,k))\n",
    "plt.ylabel('probability')\n",
    "plt.legend(loc='upper center')\n",
    "\n",
    "plt.hist(result.p_post, weights=np.ones_like(result.p_post) / len(result.p_post))\n",
    "\n",
    "result.describe()\n",
    "\n"
   ]
  },
  {
   "cell_type": "code",
   "execution_count": null,
   "metadata": {},
   "outputs": [],
   "source": [
    "print (sum(np.array([0,1,2,3,4,5]) / sum(np.arange(0,6))))"
   ]
  },
  {
   "cell_type": "code",
   "execution_count": null,
   "metadata": {},
   "outputs": [],
   "source": [
    "### Metropolis-Hastings algorithm\n",
    "###\n",
    "### example distribution\n",
    "#https://stephens999.github.io/fiveMinuteStats/MH_intro.html\n",
    "# π(x)=exp(−x)(x≥0) distribution to sample from \n",
    "\n",
    "\n",
    "# see these as pdf's\n",
    "\n",
    "def my_exp_dist(x):\n",
    "    lambda_ = 2\n",
    "\n",
    "    return 0 if x < 0 else lambda_ * np.exp(-x*lambda_) ### def of pdf for exponential distribution\n",
    "\n",
    "def my_gauss_dist(x):\n",
    "    mu = 0\n",
    "    sigma = 1\n",
    "    \n",
    "    return 1 / (sigma * (2 * np.pi) ** 0.5) * np.exp(-0.5 * ( (x-mu) / sigma ) ** 2 )\n",
    "\n",
    "def my_weird_dist(x): #must sum to 1, x in range 0..5\n",
    "    \n",
    "    if (x < 0) or (x > 5): #pretend dist only defined between 0..5\n",
    "        return 0\n",
    "    else:\n",
    "        return (x / sum([0,1,2,3,4,5])) #sums to 1 for the range of independent values [0..5]\n",
    "\n",
    "\n",
    "### select distribution ###\n",
    "target = my_weird_dist\n",
    "### ### ### ### ### ### ###\n",
    "\n",
    "x = np.linspace(0,5,6)\n",
    "f = np.zeros_like(x)\n",
    "\n",
    "for i in range(len(x)):\n",
    "    f[i] = target(x[i])\n",
    "    \n",
    "\n",
    "plt.figure(figsize=(18,12))   \n",
    "plt.plot(x,f,'o--')\n",
    "plt.title('A weird homemade probability distribution for 6 discrete outcomes')\n",
    "plt.xlabel('outcome')\n",
    "plt.ylabel('probability')\n",
    "plt.savefig('MH-homemade_dist.jpg',format='jpg')"
   ]
  },
  {
   "cell_type": "code",
   "execution_count": null,
   "metadata": {},
   "outputs": [],
   "source": [
    "# Information entropy\n",
    "#data = np.array([0.3,0.7])\n",
    "data = f\n",
    "print (data)\n",
    "data = data[1:]\n",
    "ie = -sum(data * np.log(data)) #if first prob is zero, skip it\n",
    "ie"
   ]
  },
  {
   "cell_type": "code",
   "execution_count": null,
   "metadata": {
    "scrolled": false
   },
   "outputs": [],
   "source": [
    "### Metropolis-Hastings MCMC algorithm\n",
    "\n",
    "# 'target' is a probability distribution, that is, a function that sums to 1,\n",
    "# here implemented as a Python function.\n",
    "# \n",
    "\n",
    "size = 20 # length of MCMC random sampling\n",
    "\n",
    "walk = np.zeros(size) # array of samples \n",
    "\n",
    "all_proposed = np.zeros(size)\n",
    "all_current = np.zeros(size)\n",
    "\n",
    "walk[0] = 3 #initialize first step with dummy value to get MCMC walk started\n",
    "\n",
    "# the random walk\n",
    "for i in range(1,size):\n",
    "    current = walk[i-1]\n",
    "    all_current[i] = current\n",
    "    proposed = current + pm.rnormal(0,1/ 1**2)\n",
    "    all_proposed[i] = proposed\n",
    "    \n",
    "    A = target(proposed) / target(current) # accept ?\n",
    "    \n",
    "    # ratio above expresses ratio of probabilities for proposed outcome vs current outcome, accoriding to distribution\n",
    "    # if ratio > 1 : accept always. if ratio < 1, accept if ratio > random number 0..1\n",
    "    # That is: if P(target) > P(current) : always accept. Else accept if random p is less than ratio. The smaller\n",
    "    # the ratio, the less chance of accept. \n",
    "    \n",
    "    # For proposals outside domain of independent variable, i.e the outcome, for instance, if current is 5, \n",
    "    # that is, domain max of independent variable , and proposed is 6,\n",
    "    # then, since all values outside of domain for the independent have p==0, that proposal is not accepted. \n",
    "    # This can be seen in the trace plot, where proposals occur outside of domain [0..5], but are never accepted. \n",
    "    \n",
    "    if pm.runiform(0,1) < A : \n",
    "        walk[i] = proposed # accept\n",
    "    else:\n",
    "        walk[i] = current\n",
    "        \n",
    "plt.figure(figsize=(18,12))\n",
    "plt.title('Metropolis-Hastings random sampling walk')\n",
    "plt.xlabel ('step number')\n",
    "plt.ylabel('from unknown probability distribution sampled value')\n",
    "plt.plot(walk,'o--',label='accepted',color='navy',alpha=1)\n",
    "plt.plot(range(1,len(all_proposed)),all_proposed[1:],'o',color='orange',label='proposed',alpha=1)\n",
    "plt.legend(loc='upper left')\n",
    "plt.savefig('MH-random-sampling-walk.jpg',format='jpg')\n",
    "\n"
   ]
  },
  {
   "cell_type": "code",
   "execution_count": null,
   "metadata": {},
   "outputs": [],
   "source": [
    "plt.figure(figsize=(18,12))\n",
    "plt.title('Samples obtained by Metropolis-Hastings from given probability distribution')\n",
    "plt.xlabel('sampled outcome')\n",
    "plt.ylabel('Relative Frequency')\n",
    "_=plt.hist(walk,bins=[0,1,2,3,4,5,6],weights=np.ones_like(walk) / len(walk))\n",
    "plt.savefig('MH-posterior-samples.jpg',format='jpg')"
   ]
  },
  {
   "cell_type": "code",
   "execution_count": null,
   "metadata": {
    "scrolled": false
   },
   "outputs": [],
   "source": [
    "# expected daily deaths sweden 252\n",
    "\n",
    "lambda_ = 252.\n",
    "deaths = pm.Poisson('deaths',lambda_)\n",
    "\n",
    "model = pm.Model([deaths])\n",
    "map_ = pm.MAP(model)\n",
    "\n",
    "mcmc = pm.MCMC(model)\n",
    "samples = mcmc.sample(200000,50000,2)\n",
    "\n",
    "deaths_post = mcmc.trace('deaths')[:]\n",
    "pmplot(deaths_post,'deaths_post')\n",
    "\n",
    "result = pd.DataFrame({'deaths_post' : deaths_post})\n",
    "\n",
    "plt.figure(figsize=(18,12))\n",
    "result.describe()\n",
    "_= plt.hist(result.deaths_post)\n",
    "\n",
    "nr_rows = 10\n",
    "\n",
    "sample_rows = np.random.choice(result.index,replace=True,size=nr_rows)\n",
    "samples = result.loc[sample_rows]\n",
    "\n",
    "ci_89 = np.percentile(samples.deaths_post,[5.5,94.5])\n",
    "\n",
    "plt.axvline(samples.deaths_post.mean(),color='r',ls='dashed',label='mean at {:.2f}'.format(result.deaths_post.mean()))\n",
    "plt.axvline(ci_89[0],color='orange',ls='dashed',label='89% CI low at {:.2f}'.format(ci_89[0]))\n",
    "plt.axvline(ci_89[1],color='orange',ls='dashed', label='89% CI high at {:.2f}'.format(ci_89[1]))\n",
    "plt.legend(loc='upper right')"
   ]
  },
  {
   "cell_type": "code",
   "execution_count": null,
   "metadata": {},
   "outputs": [],
   "source": [
    "# matrix grid approx\n",
    "\n",
    "df = pd.read_csv('../Stat_Rethink/Howell1.csv',sep=';')\n"
   ]
  },
  {
   "cell_type": "code",
   "execution_count": null,
   "metadata": {
    "scrolled": false
   },
   "outputs": [],
   "source": [
    "grid_step = 1\n",
    "\n",
    "# 200 * 50 matrix, gives 10000 rows of combinations mu,sigma\n",
    "\n",
    "grid = np.mgrid[1:5:grid_step,5:10:grid_step].reshape(2,-1).T\n",
    "grid = pd.DataFrame(grid)\n",
    "grid.columns=[['mu','sigma']]\n",
    "grid"
   ]
  },
  {
   "cell_type": "code",
   "execution_count": null,
   "metadata": {
    "scrolled": false
   },
   "outputs": [],
   "source": [
    "def foo(mu,sigma):\n",
    "    return sps.norm.pdf(np.linspace(-2,2,10),mu,sigma)\n",
    "\n",
    "bar = grid.apply(lambda x : foo (x['mu'], x['sigma']),axis=1)\n",
    "bar"
   ]
  },
  {
   "cell_type": "code",
   "execution_count": null,
   "metadata": {},
   "outputs": [],
   "source": [
    "df = pd.DataFrame({'a_col':[1,2,3,4],\n",
    "                   'b_col': [5,6,7,8]})\n",
    "\n",
    "df"
   ]
  },
  {
   "cell_type": "code",
   "execution_count": null,
   "metadata": {},
   "outputs": [],
   "source": [
    "def foo(a,b):\n",
    "    return a * b"
   ]
  },
  {
   "cell_type": "code",
   "execution_count": null,
   "metadata": {},
   "outputs": [],
   "source": [
    "df.apply(lambda row : foo(row['a_col'],row['b_col']),axis=1)\n"
   ]
  }
 ],
 "metadata": {
  "kernelspec": {
   "display_name": "Python 3",
   "language": "python",
   "name": "python3"
  },
  "language_info": {
   "codemirror_mode": {
    "name": "ipython",
    "version": 3
   },
   "file_extension": ".py",
   "mimetype": "text/x-python",
   "name": "python",
   "nbconvert_exporter": "python",
   "pygments_lexer": "ipython3",
   "version": "3.6.9"
  }
 },
 "nbformat": 4,
 "nbformat_minor": 4
}
