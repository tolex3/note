{
 "cells": [
  {
   "cell_type": "code",
   "execution_count": null,
   "metadata": {},
   "outputs": [],
   "source": [
    "#### marbles example\n",
    "\n",
    "import numpy as np\n",
    "import pandas as pd\n",
    "import matplotlib.pyplot as plt\n",
    "import seaborn as sns\n",
    "\n",
    "sns.set()"
   ]
  },
  {
   "cell_type": "code",
   "execution_count": null,
   "metadata": {},
   "outputs": [],
   "source": [
    "df = pd.DataFrame({'prior': [0.00,0.25,0.50,0.75,1.00],\n",
    "                  'ways' : [0,3,8,9,0]})\n",
    "\n",
    "df['posterior_w_flat_prior'] = df['ways'] / df['ways'].sum()\n",
    "\n",
    "df['prod_p_x_ways'] = df['prior'] * df['ways']\n",
    "\n",
    "df['posterior_w_prior'] = df['prod_p_x_ways'] /df['prod_p_x_ways'].sum()\n",
    "\n",
    "\n",
    "df"
   ]
  },
  {
   "cell_type": "code",
   "execution_count": null,
   "metadata": {},
   "outputs": [],
   "source": [
    "df.plot(x='prior',y=['posterior_w_prior','posterior_w_flat_prior'],style='x--')"
   ]
  },
  {
   "cell_type": "code",
   "execution_count": null,
   "metadata": {},
   "outputs": [],
   "source": [
    "import scipy.stats as sps\n",
    "\n",
    "grid_size = 5\n",
    "p_grid = np.linspace(0,1,grid_size)\n",
    "\n",
    "#prior = np.ones_like(p_grid)\n",
    "prior = p_grid\n",
    "\n",
    "k = 2 # number of blue\n",
    "n = 3 # in n draws\n",
    "\n",
    "likelihood = sps.binom.pmf(k,n,p_grid)\n",
    "\n",
    "posterior = prior * likelihood\n",
    "posterior /= sum(posterior)\n",
    "posterior"
   ]
  },
  {
   "cell_type": "code",
   "execution_count": null,
   "metadata": {},
   "outputs": [],
   "source": [
    "plt.plot(p_grid,likelihood,'x--',label='likelihood')\n",
    "plt.plot(p_grid,prior,'x--',label='prior')\n",
    "plt.plot(p_grid,posterior,'x--',label='posterior')\n",
    "plt.legend(loc='upper left')"
   ]
  },
  {
   "cell_type": "code",
   "execution_count": null,
   "metadata": {},
   "outputs": [],
   "source": [
    "plt.plot(p_grid,posterior,'x--')\n",
    "plt.xlabel('ratio of blue in conjecture')\n",
    "plt.ylabel('Probability getting {} blue out of {}'.format(k,n))"
   ]
  }
 ],
 "metadata": {
  "kernelspec": {
   "display_name": "Python 3",
   "language": "python",
   "name": "python3"
  },
  "language_info": {
   "codemirror_mode": {
    "name": "ipython",
    "version": 3
   },
   "file_extension": ".py",
   "mimetype": "text/x-python",
   "name": "python",
   "nbconvert_exporter": "python",
   "pygments_lexer": "ipython3",
   "version": "3.6.9"
  }
 },
 "nbformat": 4,
 "nbformat_minor": 4
}
