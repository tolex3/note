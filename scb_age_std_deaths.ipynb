{
 "cells": [
  {
   "cell_type": "code",
   "execution_count": null,
   "metadata": {},
   "outputs": [],
   "source": [
    "import numpy as np\n",
    "import matplotlib.pyplot as plt\n",
    "import seaborn as sns\n",
    "import pandas as pd\n",
    "import requests\n",
    "\n",
    "sns.set()"
   ]
  },
  {
   "cell_type": "markdown",
   "metadata": {},
   "source": [
    "calculations of averages on scb/fhm data will not exactly correspond to the official numbers. Probable reason\n",
    "is that for SCB data, my granularity is 1 year, for FHM data 10 year bins. Consider the diff between someone\n",
    "born 1 jan, dying 1 jan next year. That will be counted in the 1 year old bin. Now, consider someone born dec last,also dying jan 1:st next year. That person could be counted as 0 or 1 years old, depending on how the scb stats are organized, which I don't know. In any case, I bet for scb offical stat's, they count with year fractions, while I in the best case have integer data, with 1 year granularity at best. Thus, my averages should therefore be higher than those of scb. "
   ]
  },
  {
   "cell_type": "code",
   "execution_count": null,
   "metadata": {},
   "outputs": [],
   "source": [
    "### deaths ####\n",
    "\n",
    "dead_url = 'http://api.scb.se/OV0104/v1/doris/sv/ssd/START/BE/BE0101/BE0101I/DodaFodelsearK'\n",
    "dead_json = {\n",
    "  \"query\": [\n",
    "    {\n",
    "      \"code\": \"Region\",\n",
    "      \"selection\": {\n",
    "        \"filter\": \"vs:RegionRiket99\",\n",
    "        \"values\": [\n",
    "          \"00\"\n",
    "        ]\n",
    "      }\n",
    "    },\n",
    "    {\n",
    "      \"code\": \"Alder\",\n",
    "      \"selection\": {\n",
    "        \"filter\": \"agg:Ålder5år\",\n",
    "        \"values\": [\n",
    "          \"-4\",\n",
    "          \"5-9\",\n",
    "          \"10-14\",\n",
    "          \"15-19\",\n",
    "          \"20-24\",\n",
    "          \"25-29\",\n",
    "          \"30-34\",\n",
    "          \"35-39\",\n",
    "          \"40-44\",\n",
    "          \"45-49\",\n",
    "          \"50-54\",\n",
    "          \"55-59\",\n",
    "          \"60-64\",\n",
    "          \"65-69\",\n",
    "          \"70-74\",\n",
    "          \"75-79\",\n",
    "          \"80-84\",\n",
    "          \"85-89\",\n",
    "          \"90-94\",\n",
    "          \"95-99\",\n",
    "          \"100+\"\n",
    "        ]\n",
    "      }\n",
    "    },\n",
    "    {\n",
    "      \"code\": \"Kon\",\n",
    "      \"selection\": {\n",
    "        \"filter\": \"item\",\n",
    "        \"values\": [\n",
    "          \"1\",\n",
    "          \"2\"\n",
    "        ]\n",
    "      }\n",
    "    }\n",
    "  ],\n",
    "  \"response\": {\n",
    "    \"format\": \"json\"\n",
    "  }\n",
    "}"
   ]
  },
  {
   "cell_type": "code",
   "execution_count": null,
   "metadata": {},
   "outputs": [],
   "source": [
    "r_dead = requests.post(dead_url,json=dead_json)\n",
    "r_dead.status_code"
   ]
  },
  {
   "cell_type": "code",
   "execution_count": null,
   "metadata": {},
   "outputs": [],
   "source": [
    "json_dead = r_dead.json()\n",
    "json_dead['data'][0]"
   ]
  },
  {
   "cell_type": "code",
   "execution_count": null,
   "metadata": {},
   "outputs": [],
   "source": [
    "### population ###\n",
    "url = 'http://api.scb.se/OV0104/v1/doris/sv/ssd/START/BE/BE0101/BE0101A/BefolkningR1860'\n",
    "data = {\n",
    "  \"query\": [\n",
    "    {\n",
    "      \"code\": \"Alder\",\n",
    "      \"selection\": {\n",
    "        \"filter\": \"agg:Ålder5år\",\n",
    "        \"values\": [\n",
    "          \"-4\",\n",
    "          \"5-9\",\n",
    "          \"10-14\",\n",
    "          \"15-19\",\n",
    "          \"20-24\",\n",
    "          \"25-29\",\n",
    "          \"30-34\",\n",
    "          \"35-39\",\n",
    "          \"40-44\",\n",
    "          \"45-49\",\n",
    "          \"50-54\",\n",
    "          \"55-59\",\n",
    "          \"60-64\",\n",
    "          \"65-69\",\n",
    "          \"70-74\",\n",
    "          \"75-79\",\n",
    "          \"80-84\",\n",
    "          \"85-89\",\n",
    "          \"90-94\",\n",
    "          \"95-99\",\n",
    "          \"100+\"\n",
    "        ]\n",
    "      }\n",
    "    },\n",
    "    {\n",
    "      \"code\": \"Kon\",\n",
    "      \"selection\": {\n",
    "        \"filter\": \"item\",\n",
    "        \"values\": [\n",
    "          \"1\",\n",
    "          \"2\"\n",
    "        ]\n",
    "      }\n",
    "    },\n",
    "    {\n",
    "      \"code\": \"Tid\",\n",
    "      \"selection\": {\n",
    "        \"filter\": \"item\",\n",
    "        \"values\": [\n",
    "          \"1968\",\n",
    "          \"1969\",\n",
    "          \"1970\",\n",
    "          \"1971\",\n",
    "          \"1972\",\n",
    "          \"1973\",\n",
    "          \"1974\",\n",
    "          \"1975\",\n",
    "          \"1976\",\n",
    "          \"1977\",\n",
    "          \"1978\",\n",
    "          \"1979\",\n",
    "          \"1980\",\n",
    "            \"1981\",\n",
    "            \"1982\",\n",
    "            \"1983\",\n",
    "            \"1984\",\n",
    "            \"1985\",\n",
    "            \"1986\",\n",
    "            \"1987\",\n",
    "            \"1988\",\n",
    "            \"1989\",\n",
    "            \"1990\",\n",
    "            \"1991\",\n",
    "            \"1992\",\n",
    "            \"1993\",\n",
    "            \"1994\",\n",
    "            \"1995\",\n",
    "            \"1996\",\n",
    "            \"1997\",\n",
    "            \"1998\",\n",
    "            \"1999\",\n",
    "            \"2000\",\n",
    "            \"2001\",\n",
    "            \"2002\",\n",
    "            \"2003\",\n",
    "            \"2004\",\n",
    "            \"2005\",\n",
    "            \"2006\",\n",
    "            \"2007\",\n",
    "            \"2008\",\n",
    "            \"2009\",\n",
    "            \"2010\",\n",
    "            \"2011\",\n",
    "            \"2012\",\n",
    "            \"2013\",\n",
    "          \"2014\",  \n",
    "          \"2015\",\n",
    "          \"2016\",\n",
    "          \"2017\",\n",
    "          \"2018\",\n",
    "          \"2019\"\n",
    "        ]\n",
    "      }\n",
    "    }\n",
    "  ],\n",
    "  \"response\": {\n",
    "    \"format\": \"json\"\n",
    "  }\n",
    "}\n",
    "\n",
    "r = requests.post(url,json=data)\n",
    "print (r.status_code)\n",
    "json_pop = r.json()\n",
    "\n",
    "json_pop['data'][0]"
   ]
  },
  {
   "cell_type": "code",
   "execution_count": null,
   "metadata": {},
   "outputs": [],
   "source": [
    "def parse_json(json):\n",
    "    \n",
    "    nr_keys = len(json['data'][0]['key'])\n",
    "    nr_vals = len(json['data'][0]['values'])\n",
    "    \n",
    "    \n",
    "    items = len(json['data'])\n",
    "    data_list = []\n",
    "\n",
    "    for i in range(items):\n",
    "        val_list = []\n",
    "        \n",
    "        for j,k in enumerate(range(nr_keys)):\n",
    "            val_list.append(json['data'][i]['key'][j])\n",
    "            \n",
    "        for j,v in enumerate(range(nr_vals)):\n",
    "            val_list.append(json['data'][i]['values'][j])\n",
    "            \n",
    "        data_list.append(val_list)\n",
    "\n",
    "    return data_list\n",
    "    \n",
    "dead_df = pd.DataFrame(parse_json(json_dead))\n",
    "dead_df.drop(0,axis=1,inplace=True)\n",
    "dead_df    "
   ]
  },
  {
   "cell_type": "code",
   "execution_count": null,
   "metadata": {},
   "outputs": [],
   "source": [
    "dead_df.columns = ['age','gender','year','dead']\n",
    "dead_df['age'] = pd.Categorical(dead_df['age'],['-4','5-9','10-14','15-19','20-24',\n",
    "                                                 '25-29','30-34','35-39','40-44',\n",
    "                                                 '45-49','50-54','55-59','60-64','65-69',\n",
    "                                                 '70-74','75-79','80-84','85-89',\n",
    "                                                 '90-94','95-99','100+'])\n",
    "\n",
    "dead_df['dead'] = dead_df['dead'].astype(int)\n",
    "dead_df"
   ]
  },
  {
   "cell_type": "code",
   "execution_count": null,
   "metadata": {},
   "outputs": [],
   "source": [
    "dead_df_men_women = dead_df.groupby(['year','age']).sum()\n",
    "\n",
    "dead_df_men_women = dead_df_men_women.unstack()\n",
    "dead_df_men_women = dead_df_men_women.droplevel(0,axis=1)\n",
    "dead_df_men_women.info()"
   ]
  },
  {
   "cell_type": "code",
   "execution_count": null,
   "metadata": {},
   "outputs": [],
   "source": [
    "dead_df_men_women"
   ]
  },
  {
   "cell_type": "code",
   "execution_count": null,
   "metadata": {},
   "outputs": [],
   "source": [
    "pop_df = pd.DataFrame(parse_json(json_pop))\n",
    "pop_df.columns = ['age','gender','year','pop']\n",
    "pop_df['pop'] = pop_df['pop'].astype(int)\n",
    "pop_df['age'] = pd.Categorical(pop_df['age'],['-4','5-9','10-14','15-19','20-24',\n",
    "                                                 '25-29','30-34','35-39','40-44',\n",
    "                                                 '45-49','50-54','55-59','60-64','65-69',\n",
    "                                                 '70-74','75-79','80-84','85-89',\n",
    "                                                 '90-94','95-99','100+'])\n",
    "\n",
    "pop_df"
   ]
  },
  {
   "cell_type": "code",
   "execution_count": null,
   "metadata": {},
   "outputs": [],
   "source": [
    "pop_df = pop_df.groupby(['year','age']).sum()\n",
    "pop_df"
   ]
  },
  {
   "cell_type": "code",
   "execution_count": null,
   "metadata": {},
   "outputs": [],
   "source": [
    "pop_df_men_women = pop_df.unstack().droplevel(0,axis=1)\n",
    "pop_df_men_women"
   ]
  },
  {
   "cell_type": "code",
   "execution_count": null,
   "metadata": {},
   "outputs": [],
   "source": [
    "\n",
    "### NOT REAL MORTALITY SINCE WE ARE ADDING MORTALITIES FOR DIFFERENT AGE GROUPS ! ###\n",
    "\n",
    "age_grp_mortality = dead_df_men_women / pop_df_men_women\n",
    "age_grp_mortality"
   ]
  },
  {
   "cell_type": "code",
   "execution_count": null,
   "metadata": {},
   "outputs": [],
   "source": [
    "avg_mortality_per_age_grp = age_grp_mortality.mean()\n",
    "avg_mortality_per_age_grp"
   ]
  },
  {
   "cell_type": "code",
   "execution_count": null,
   "metadata": {},
   "outputs": [],
   "source": [
    "avg_mortality_per_age_grp.plot(figsize=(18,12),style='o--')"
   ]
  },
  {
   "cell_type": "code",
   "execution_count": null,
   "metadata": {},
   "outputs": [],
   "source": [
    "std_pop = pop_df_men_women.loc['2019']"
   ]
  },
  {
   "cell_type": "code",
   "execution_count": null,
   "metadata": {},
   "outputs": [],
   "source": [
    "strata_abs_deaths = age_grp_mortality * std_pop\n",
    "strata_abs_deaths"
   ]
  },
  {
   "cell_type": "code",
   "execution_count": null,
   "metadata": {},
   "outputs": [],
   "source": [
    "strata_abs_deaths"
   ]
  },
  {
   "cell_type": "code",
   "execution_count": null,
   "metadata": {},
   "outputs": [],
   "source": [
    "strata_abs_deaths.plot(kind='bar',stacked=True,figsize=(18,12))"
   ]
  },
  {
   "cell_type": "code",
   "execution_count": null,
   "metadata": {},
   "outputs": [],
   "source": [
    "tot_strat_deaths = strata_abs_deaths.sum(axis=1)\n",
    "tot_strat_deaths"
   ]
  },
  {
   "cell_type": "code",
   "execution_count": null,
   "metadata": {},
   "outputs": [],
   "source": [
    "age_adj_mortality = tot_strat_deaths / std_pop.sum()\n",
    "age_adj_mortality"
   ]
  },
  {
   "cell_type": "code",
   "execution_count": null,
   "metadata": {},
   "outputs": [],
   "source": [
    "age_adj_mortality.plot(kind='bar',figsize=(18,12))\n",
    "_= plt.yticks(np.arange(0,0.019,0.001))"
   ]
  },
  {
   "cell_type": "code",
   "execution_count": null,
   "metadata": {},
   "outputs": [],
   "source": [
    "dead_df_men_women.head()"
   ]
  },
  {
   "cell_type": "code",
   "execution_count": null,
   "metadata": {},
   "outputs": [],
   "source": [
    "dead_2019 = pd.DataFrame(dead_df_men_women.loc['2019'])\n",
    "dead_2019['age_idx'] = range(1,len(dead_2019) + 1)\n",
    "dead_2019\n"
   ]
  },
  {
   "cell_type": "code",
   "execution_count": null,
   "metadata": {},
   "outputs": [],
   "source": [
    "dead_2019.describe()"
   ]
  },
  {
   "cell_type": "code",
   "execution_count": null,
   "metadata": {},
   "outputs": [],
   "source": [
    "ticks_2019 = pd.Series(np.repeat(dead_2019['age_idx'],dead_2019['2019']))\n",
    "ticks_2019 = ticks_2019.reset_index()\n",
    "ticks_2019"
   ]
  },
  {
   "cell_type": "code",
   "execution_count": null,
   "metadata": {},
   "outputs": [],
   "source": [
    "ticks_2019.describe()"
   ]
  },
  {
   "cell_type": "code",
   "execution_count": null,
   "metadata": {},
   "outputs": [],
   "source": [
    "dead_df_men_women.columns"
   ]
  },
  {
   "cell_type": "code",
   "execution_count": null,
   "metadata": {},
   "outputs": [],
   "source": [
    "### https://la.utexas.edu/users/denbow/labs/Ageofdeath.htm ###\n",
    "\n",
    "\n",
    "avg_age_of_death = dead_df_men_women.copy()\n",
    "# first, calculate median age per age group by subtracting the larger number, dividing by 2,\n",
    "# then adding that to the lower nr.\n",
    "\n",
    "grp_medians = [(4-0)/2+0,(9-5)/2+5,(14-10)/2+10,(19-15)/2+15,(24-20)/2+20,(29-25)/2+25,\n",
    "              (34-30)/2+30,(39-35)/2+35,(44-40)/2+40,(49-45)/2+45,(54-50)/2+50,(59-55)/2+55,\n",
    "              (64-60)/2+60,(69-65)/2+65,(74-70)/2+70,(79-75)/2+75,(84-80)/2+80,(89-85)/2+85,\n",
    "              (94-90)/2+90,(99-95)/2+95,100]\n",
    "grp_medians"
   ]
  },
  {
   "cell_type": "code",
   "execution_count": null,
   "metadata": {},
   "outputs": [],
   "source": [
    "avg_age_of_death.columns=grp_medians\n",
    "avg_age_of_death"
   ]
  },
  {
   "cell_type": "code",
   "execution_count": null,
   "metadata": {},
   "outputs": [],
   "source": [
    "yearly_sums = avg_age_of_death.sum(axis=1)\n",
    "yearly_sums"
   ]
  },
  {
   "cell_type": "code",
   "execution_count": null,
   "metadata": {},
   "outputs": [],
   "source": [
    "years_lost = avg_age_of_death * grp_medians\n",
    "tot_years_lost = years_lost.sum(axis=1)\n",
    "tot_years_lost"
   ]
  },
  {
   "cell_type": "code",
   "execution_count": null,
   "metadata": {},
   "outputs": [],
   "source": [
    "avg_age = tot_years_lost / yearly_sums\n",
    "avg_age"
   ]
  },
  {
   "cell_type": "code",
   "execution_count": null,
   "metadata": {},
   "outputs": [],
   "source": [
    "avg_age.plot()"
   ]
  },
  {
   "cell_type": "code",
   "execution_count": null,
   "metadata": {},
   "outputs": [],
   "source": [
    "avg_age / avg_age.shift()"
   ]
  },
  {
   "cell_type": "code",
   "execution_count": null,
   "metadata": {},
   "outputs": [],
   "source": [
    "### dead in yearly groups \n",
    "url = 'http://api.scb.se/OV0104/v1/doris/sv/ssd/START/BE/BE0101/BE0101I/DodaFodelsearK'\n",
    "data = {\n",
    "  \"query\": [\n",
    "    {\n",
    "      \"code\": \"Region\",\n",
    "      \"selection\": {\n",
    "        \"filter\": \"vs:RegionRiket99\",\n",
    "        \"values\": [\n",
    "          \"00\"\n",
    "        ]\n",
    "      }\n",
    "    },\n",
    "    {\n",
    "      \"code\": \"Alder\",\n",
    "      \"selection\": {\n",
    "        \"filter\": \"vs:Ålder1årA\",\n",
    "        \"values\": [\n",
    "          \"0\",\n",
    "          \"1\",\n",
    "          \"2\",\n",
    "          \"3\",\n",
    "          \"4\",\n",
    "          \"5\",\n",
    "          \"6\",\n",
    "          \"7\",\n",
    "          \"8\",\n",
    "          \"9\",\n",
    "          \"10\",\n",
    "          \"11\",\n",
    "          \"12\",\n",
    "          \"13\",\n",
    "          \"14\",\n",
    "          \"15\",\n",
    "          \"16\",\n",
    "          \"17\",\n",
    "          \"18\",\n",
    "          \"19\",\n",
    "          \"20\",\n",
    "          \"21\",\n",
    "          \"22\",\n",
    "          \"23\",\n",
    "          \"24\",\n",
    "          \"25\",\n",
    "          \"26\",\n",
    "          \"27\",\n",
    "          \"28\",\n",
    "          \"29\",\n",
    "          \"30\",\n",
    "          \"31\",\n",
    "          \"32\",\n",
    "          \"33\",\n",
    "          \"34\",\n",
    "          \"35\",\n",
    "          \"36\",\n",
    "          \"37\",\n",
    "          \"38\",\n",
    "          \"39\",\n",
    "          \"40\",\n",
    "          \"41\",\n",
    "          \"42\",\n",
    "          \"43\",\n",
    "          \"44\",\n",
    "          \"45\",\n",
    "          \"46\",\n",
    "          \"47\",\n",
    "          \"48\",\n",
    "          \"49\",\n",
    "          \"50\",\n",
    "          \"51\",\n",
    "          \"52\",\n",
    "          \"53\",\n",
    "          \"54\",\n",
    "          \"55\",\n",
    "          \"56\",\n",
    "          \"57\",\n",
    "          \"58\",\n",
    "          \"59\",\n",
    "          \"60\",\n",
    "          \"61\",\n",
    "          \"62\",\n",
    "          \"63\",\n",
    "          \"64\",\n",
    "          \"65\",\n",
    "          \"66\",\n",
    "          \"67\",\n",
    "          \"68\",\n",
    "          \"69\",\n",
    "          \"70\",\n",
    "          \"71\",\n",
    "          \"72\",\n",
    "          \"73\",\n",
    "          \"74\",\n",
    "          \"75\",\n",
    "          \"76\",\n",
    "          \"77\",\n",
    "          \"78\",\n",
    "          \"79\",\n",
    "          \"80\",\n",
    "          \"81\",\n",
    "          \"82\",\n",
    "          \"83\",\n",
    "          \"84\",\n",
    "          \"85\",\n",
    "          \"86\",\n",
    "          \"87\",\n",
    "          \"88\",\n",
    "          \"89\",\n",
    "          \"90\",\n",
    "          \"91\",\n",
    "          \"92\",\n",
    "          \"93\",\n",
    "          \"94\",\n",
    "          \"95\",\n",
    "          \"96\",\n",
    "          \"97\",\n",
    "          \"98\",\n",
    "          \"99\",\n",
    "          \"100+\"\n",
    "        ]\n",
    "      }\n",
    "    },\n",
    "    {\n",
    "      \"code\": \"Kon\",\n",
    "      \"selection\": {\n",
    "        \"filter\": \"item\",\n",
    "        \"values\": [\n",
    "          \"1\",\n",
    "          \"2\"\n",
    "        ]\n",
    "      }\n",
    "    }\n",
    "  ],\n",
    "  \"response\": {\n",
    "    \"format\": \"json\"\n",
    "  }\n",
    "}"
   ]
  },
  {
   "cell_type": "code",
   "execution_count": null,
   "metadata": {},
   "outputs": [],
   "source": [
    "r = requests.post(url,json=data)\n",
    "r.status_code"
   ]
  },
  {
   "cell_type": "code",
   "execution_count": null,
   "metadata": {},
   "outputs": [],
   "source": [
    "json = r.json()"
   ]
  },
  {
   "cell_type": "code",
   "execution_count": null,
   "metadata": {},
   "outputs": [],
   "source": [
    "json['data'][0]"
   ]
  },
  {
   "cell_type": "code",
   "execution_count": null,
   "metadata": {
    "scrolled": false
   },
   "outputs": [],
   "source": [
    "dead_yearly_grp = pd.DataFrame(parse_json(json))\n",
    "dead_yearly_grp.drop(0,axis=1,inplace=True)\n",
    "dead_yearly_grp.columns = ['age','gender','year','dead']\n",
    "dead_yearly_grp['dead'] = dead_yearly_grp['dead'].astype(int)\n",
    "\n",
    "dead_by_gender = dead_yearly_grp.copy()\n",
    "\n",
    "dead_yearly_grp = (dead_yearly_grp.groupby(['year','age']).sum()).reset_index()\n",
    "dead_yearly_grp"
   ]
  },
  {
   "cell_type": "code",
   "execution_count": null,
   "metadata": {},
   "outputs": [],
   "source": [
    "# to test effect \n",
    "#dead_yearly_grp['age'] = dead_yearly_grp['age'].replace('100+','120')"
   ]
  },
  {
   "cell_type": "code",
   "execution_count": null,
   "metadata": {},
   "outputs": [],
   "source": [
    "dead_yearly_grp['age'] = dead_yearly_grp['age'].apply(lambda x : x.replace('+','')).astype(int)\n",
    "# test effect \n",
    "#dead_yearly_grp['age'] += 0.5\n",
    "\n",
    "# test_effect\n",
    "#dead_yearly_grp = dead_yearly_grp.loc[dead_yearly_grp['age'] > 0]\n",
    "\n",
    "dead_yearly_grp"
   ]
  },
  {
   "cell_type": "code",
   "execution_count": null,
   "metadata": {},
   "outputs": [],
   "source": [
    "dead_yearly_grp = dead_yearly_grp.sort_values(['year','age'])\n",
    "\n",
    "yearly_deaths = dead_yearly_grp.copy()\n",
    "yearly_deaths"
   ]
  },
  {
   "cell_type": "code",
   "execution_count": null,
   "metadata": {},
   "outputs": [],
   "source": [
    "dead_yearly_grp = dead_yearly_grp.groupby(['year','age']).mean()\n",
    "dead_yearly_grp"
   ]
  },
  {
   "cell_type": "code",
   "execution_count": null,
   "metadata": {},
   "outputs": [],
   "source": [
    "dead_yearly_grp['years_lived'] = dead_yearly_grp.index.get_level_values(1) * dead_yearly_grp['dead']\n",
    "dead_yearly_grp"
   ]
  },
  {
   "cell_type": "code",
   "execution_count": null,
   "metadata": {},
   "outputs": [],
   "source": [
    "totals = dead_yearly_grp.groupby('year').sum()\n",
    "totals"
   ]
  },
  {
   "cell_type": "code",
   "execution_count": null,
   "metadata": {},
   "outputs": [],
   "source": [
    "avg_age_2 = totals['years_lived'] / totals['dead']\n",
    "avg_age_2"
   ]
  },
  {
   "cell_type": "code",
   "execution_count": null,
   "metadata": {},
   "outputs": [],
   "source": [
    "ax = avg_age.plot(alpha=0.5,figsize=(18,12),label='avg_age')\n",
    "\n",
    "# by adding 1 to each age group, as above is test effect, the diff is significant\n",
    "\n",
    "avg_age_2.plot(ax=ax,alpha=0.5,label='avg_age_2')\n",
    "plt.legend(loc='upper left')"
   ]
  },
  {
   "cell_type": "markdown",
   "metadata": {},
   "source": [
    "To get median from a frequency table, start by sorting the keys (age groups) into ascending scale. Then do a \n",
    "cumsum on the frequency (dead). Take the median (midpoint) of that cumsum, that is, the half value of the cumsum. Then find out which value in the cumsum column corresponds to that half cumsum (median)\n",
    "\n",
    "https://support.sisense.com/hc/en-us/community/posts/360033174073-Calculating-Weighted-Median-Median-of-Data-in-Frequency-Table-Mean-Mode"
   ]
  },
  {
   "cell_type": "code",
   "execution_count": null,
   "metadata": {},
   "outputs": [],
   "source": [
    "g = dead_yearly_grp.groupby('year',group_keys=False)\n",
    "g"
   ]
  },
  {
   "cell_type": "code",
   "execution_count": null,
   "metadata": {},
   "outputs": [],
   "source": [
    "sorted_dead = g.apply(lambda x : x.sort_index(level=[0,1],ascending=[True,True]))\n",
    "sorted_dead"
   ]
  },
  {
   "cell_type": "code",
   "execution_count": null,
   "metadata": {},
   "outputs": [],
   "source": [
    "cums = sorted_dead.groupby('year').cumsum()\n",
    "cums.columns = ['cum_dead','cum_years_lived']\n",
    "cums"
   ]
  },
  {
   "cell_type": "code",
   "execution_count": null,
   "metadata": {},
   "outputs": [],
   "source": [
    "all_dead = sorted_dead.join(cums)\n",
    "all_dead"
   ]
  },
  {
   "cell_type": "code",
   "execution_count": null,
   "metadata": {},
   "outputs": [],
   "source": [
    "all_dead.drop(['years_lived','cum_years_lived'],axis=1,inplace=True)\n",
    "all_dead"
   ]
  },
  {
   "cell_type": "code",
   "execution_count": null,
   "metadata": {},
   "outputs": [],
   "source": [
    "# median is middle value of cum_dead #\n",
    "medians = all_dead.groupby('year')['cum_dead'].apply(lambda x : x.iloc[-1] / 2 + 1) # ODD NR OF DATA POINTS\n",
    "medians"
   ]
  },
  {
   "cell_type": "code",
   "execution_count": null,
   "metadata": {},
   "outputs": [],
   "source": []
  },
  {
   "cell_type": "code",
   "execution_count": null,
   "metadata": {},
   "outputs": [],
   "source": [
    "foo = all_dead['cum_dead'].unstack()\n",
    "foo = foo.T\n",
    "foo"
   ]
  },
  {
   "cell_type": "code",
   "execution_count": null,
   "metadata": {},
   "outputs": [],
   "source": [
    "foo - medians"
   ]
  },
  {
   "cell_type": "code",
   "execution_count": null,
   "metadata": {},
   "outputs": [],
   "source": [
    "baz = foo >= medians\n",
    "median_age = len(foo) - baz.sum()\n",
    "median_age"
   ]
  },
  {
   "cell_type": "code",
   "execution_count": null,
   "metadata": {},
   "outputs": [],
   "source": [
    "mask = (foo - medians) >= 0\n",
    "bar = foo[mask]\n",
    "\n",
    "bar"
   ]
  },
  {
   "cell_type": "code",
   "execution_count": null,
   "metadata": {},
   "outputs": [],
   "source": [
    "for col in bar.columns:\n",
    "    print (col,bar[col].argmin())"
   ]
  },
  {
   "cell_type": "code",
   "execution_count": null,
   "metadata": {},
   "outputs": [],
   "source": [
    "all_dead\n",
    "all_dead_2019 = all_dead.loc['2019']\n",
    "all_dead_2019"
   ]
  },
  {
   "cell_type": "code",
   "execution_count": null,
   "metadata": {},
   "outputs": [],
   "source": [
    "median = all_dead_2019.iloc[-1]['cum_dead'] / 2+1\n",
    "median"
   ]
  },
  {
   "cell_type": "code",
   "execution_count": null,
   "metadata": {},
   "outputs": [],
   "source": [
    "all_dead_2019.loc[all_dead_2019['cum_dead'] >= median]"
   ]
  },
  {
   "cell_type": "code",
   "execution_count": null,
   "metadata": {},
   "outputs": [],
   "source": [
    "# simple ex \n",
    "\n",
    "\n",
    "df = pd.DataFrame({'score' : range(1,6),\n",
    "                  'freq' :range(1,6)})\n",
    "\n",
    "df['cum_freq'] = df['freq'].cumsum()\n",
    "median_point = int(df['cum_freq'].iloc[-1] / 2 + 1)\n",
    "\n",
    "print (median_point)\n",
    "\n",
    "df\n",
    "# so median is the 8th score, which falls in cum_freq value row 10, i.e the 8:th value is a score of 4"
   ]
  },
  {
   "cell_type": "code",
   "execution_count": null,
   "metadata": {},
   "outputs": [],
   "source": [
    "flat_scores = pd.Series(np.repeat(df['score'],df['freq']))\n",
    "flat_scores = flat_scores.reset_index(drop=True)\n",
    "flat_scores.median()"
   ]
  },
  {
   "cell_type": "code",
   "execution_count": null,
   "metadata": {},
   "outputs": [],
   "source": []
  },
  {
   "cell_type": "code",
   "execution_count": null,
   "metadata": {},
   "outputs": [],
   "source": [
    "# flat on real data"
   ]
  },
  {
   "cell_type": "code",
   "execution_count": null,
   "metadata": {
    "scrolled": false
   },
   "outputs": [],
   "source": [
    "all_dead\n"
   ]
  },
  {
   "cell_type": "code",
   "execution_count": null,
   "metadata": {},
   "outputs": [],
   "source": [
    "all_dead['age_col'] = all_dead.index.get_level_values(1)\n",
    "all_flat = all_dead.groupby('year',group_keys=False).apply(lambda row : np.repeat(row['age_col'],row['dead']))\n",
    "all_flat"
   ]
  },
  {
   "cell_type": "code",
   "execution_count": null,
   "metadata": {},
   "outputs": [],
   "source": [
    "flattened_medians = all_flat.groupby('year').median()\n",
    "flattened_means = all_flat.groupby('year').mean()\n",
    "flats = pd.concat([flattened_medians,flattened_means],axis=1)\n",
    "flats.columns=['median','mean']\n",
    "flats"
   ]
  },
  {
   "cell_type": "code",
   "execution_count": null,
   "metadata": {},
   "outputs": [],
   "source": [
    "flats.plot(figsize=(18,12),style='o--')"
   ]
  },
  {
   "cell_type": "code",
   "execution_count": null,
   "metadata": {},
   "outputs": [],
   "source": [
    "all_dead.droplevel(1).groupby('year')['dead'].sum()\n",
    "\n",
    "vals = [1,2,3,4,5]\n",
    "\n",
    "np.random.choice(vals,5,replace=False)"
   ]
  },
  {
   "cell_type": "code",
   "execution_count": null,
   "metadata": {},
   "outputs": [],
   "source": [
    "# general example of descriptive stats taken from a frequency table\n",
    "\n",
    "np.random.seed(666)\n",
    "\n",
    "vals = [0,1,2,3,4,5]\n",
    "\n",
    "nr_categories = 5\n",
    "\n",
    "df_freq = pd.DataFrame({'math' : np.random.choice(vals,nr_categories,replace=False),\n",
    "                  'physics' : np.random.choice(vals,nr_categories,replace=False),\n",
    "                  'chemistry' : np.random.choice(vals,nr_categories,replace=False),\n",
    "                  'biology' : np.random.choice(vals,nr_categories,replace=False)},\n",
    "                       index=range(1,nr_categories + 1))\n",
    "\n",
    "df_freq.index.name='points'\n",
    "df_freq.columns.name='subject'\n",
    "\n",
    "df_freq.sort_index(inplace=True)\n",
    "\n",
    "# taking mean & median does not give what we want - it gives values of freq, not of points\n",
    "\n",
    "print ()\n",
    "print ('mean',df_freq.mean())\n",
    "print ()\n",
    "print ('median',df_freq.median())\n",
    "print ()\n",
    "df_freq"
   ]
  },
  {
   "cell_type": "code",
   "execution_count": null,
   "metadata": {},
   "outputs": [],
   "source": [
    "df_freq.sum()"
   ]
  },
  {
   "cell_type": "code",
   "execution_count": null,
   "metadata": {},
   "outputs": [],
   "source": [
    "df_freq_subgrps = pd.DataFrame(df_freq.unstack()) \n",
    "df_freq_subgrps.columns=['freq']\n",
    "df_freq_subgrps['points'] = df_freq_subgrps.index.get_level_values(1)\n",
    "df_freq_subgrps = df_freq_subgrps[['points','freq']]\n",
    "df_freq_subgrps = df_freq_subgrps.droplevel(1)\n",
    "\n",
    "df_freq_subgrps"
   ]
  },
  {
   "cell_type": "code",
   "execution_count": null,
   "metadata": {},
   "outputs": [],
   "source": [
    "serialized_points = df_freq_subgrps.groupby('subject',group_keys=False).apply(\n",
    "        lambda row: np.repeat(row['points'],row['freq'])) # flat is a Series\n",
    "\n",
    "serialized_points"
   ]
  },
  {
   "cell_type": "code",
   "execution_count": null,
   "metadata": {},
   "outputs": [],
   "source": [
    "serialized_points['math'].agg(['median','mean'])"
   ]
  },
  {
   "cell_type": "code",
   "execution_count": null,
   "metadata": {},
   "outputs": [],
   "source": [
    "stats = serialized_points.groupby('subject').agg(['median','mean','count','min','max'])\n",
    "stats"
   ]
  },
  {
   "cell_type": "code",
   "execution_count": null,
   "metadata": {},
   "outputs": [],
   "source": [
    "\n",
    "dead_by_gender['age'] = dead_by_gender['age'].apply(lambda x : x.strip('+')).astype(int)\n",
    "dead_by_gender"
   ]
  },
  {
   "cell_type": "code",
   "execution_count": null,
   "metadata": {},
   "outputs": [],
   "source": [
    "gender_groups = dead_by_gender.groupby(['year','age','gender']).apply(lambda row : np.repeat(row.age,row.dead))\n",
    "gender_groups"
   ]
  },
  {
   "cell_type": "code",
   "execution_count": null,
   "metadata": {},
   "outputs": [],
   "source": [
    "gender_stats = gender_groups.groupby(['year','gender']).agg(['median','mean','count'])\n",
    "gender_stats"
   ]
  },
  {
   "cell_type": "code",
   "execution_count": null,
   "metadata": {},
   "outputs": [],
   "source": [
    "unstacked_gender_stats = gender_stats.reset_index()\n",
    "unstacked_gender_stats"
   ]
  },
  {
   "cell_type": "code",
   "execution_count": null,
   "metadata": {},
   "outputs": [],
   "source": [
    "fig,ax = plt.subplots(figsize=(18,12))\n",
    "sns.barplot(x='year',y='mean',hue='gender',data=unstacked_gender_stats,ax=ax)\n",
    "_=plt.xticks(rotation=90)"
   ]
  },
  {
   "cell_type": "code",
   "execution_count": null,
   "metadata": {},
   "outputs": [],
   "source": [
    "common_stats = gender_groups.groupby('year').agg(['median','mean','count'])\n",
    "common_stats"
   ]
  },
  {
   "cell_type": "code",
   "execution_count": null,
   "metadata": {},
   "outputs": [],
   "source": [
    "ax = common_stats.plot(figsize=(18,12))\n",
    "\n",
    "#flats.plot(ax=ax)"
   ]
  },
  {
   "cell_type": "code",
   "execution_count": null,
   "metadata": {},
   "outputs": [],
   "source": [
    "yearly_deaths = yearly_deaths.set_index('year')\n",
    "yearly_deaths"
   ]
  },
  {
   "cell_type": "code",
   "execution_count": null,
   "metadata": {},
   "outputs": [],
   "source": [
    "#yearly_deaths.drop('years_lived',axis=1,inplace=True)"
   ]
  },
  {
   "cell_type": "code",
   "execution_count": null,
   "metadata": {},
   "outputs": [],
   "source": [
    "#yearly_deaths['age_num'] = yearly_deaths.index.get_level_values(1)\n",
    "#yearly_deaths"
   ]
  },
  {
   "cell_type": "code",
   "execution_count": null,
   "metadata": {},
   "outputs": [],
   "source": [
    "freq_1973 = yearly_deaths.loc['1973']\n",
    "serialized_1973 = freq_1973.groupby('age',group_keys=False).apply(lambda row : np.repeat(row.age,row.dead))\n",
    "serialized_1973.plot(kind='hist',bins=range(0,101))\n"
   ]
  },
  {
   "cell_type": "code",
   "execution_count": null,
   "metadata": {},
   "outputs": [],
   "source": [
    "# 1973 has max freq shared by 77 & 78 years, dual mode\n",
    "serialized_1973.mode()"
   ]
  },
  {
   "cell_type": "code",
   "execution_count": null,
   "metadata": {},
   "outputs": [],
   "source": [
    "serialized_yearly_deaths = yearly_deaths.groupby(\n",
    "    'year',group_keys=False).apply(lambda row : np.repeat(row.age,row.dead))\n",
    "\n",
    "print (serialized_yearly_deaths)\n",
    "\n",
    "death_stats = serialized_yearly_deaths.groupby('year').agg(['mean','median','count'])\n",
    "death_stats"
   ]
  },
  {
   "cell_type": "code",
   "execution_count": null,
   "metadata": {},
   "outputs": [],
   "source": [
    "# since 1973 has dual mode, we take the last (highest) value\n",
    "\n",
    "death_mode = serialized_yearly_deaths.groupby('year').apply(lambda row : row.mode().iloc[-1])\n",
    "\n",
    "death_mode\n",
    "\n"
   ]
  },
  {
   "cell_type": "code",
   "execution_count": null,
   "metadata": {},
   "outputs": [],
   "source": [
    "death_stats['mode'] = death_mode\n",
    "death_stats"
   ]
  },
  {
   "cell_type": "code",
   "execution_count": null,
   "metadata": {},
   "outputs": [],
   "source": [
    "excel = pd.ExcelFile('fhm_excel.xlsx')\n",
    "excel.sheet_names"
   ]
  },
  {
   "cell_type": "code",
   "execution_count": null,
   "metadata": {},
   "outputs": [],
   "source": [
    "age_df = excel.parse('Totalt antal per åldersgrupp')\n",
    "age_df = age_df[:-1]\n",
    "age_grp_median = np.arange(5,100,10)\n",
    "age_df['age_num'] = age_grp_median\n",
    "age_df\n"
   ]
  },
  {
   "cell_type": "code",
   "execution_count": null,
   "metadata": {},
   "outputs": [],
   "source": [
    "fhm_dead_serialized = age_df.groupby('Åldersgrupp').apply(\n",
    "    lambda row : np.repeat(row['age_num'],row['Totalt_antal_avlidna']))\n",
    "\n",
    "fhm_dead_serialized = fhm_dead_serialized.droplevel(1)\n",
    "fhm_dead_serialized"
   ]
  },
  {
   "cell_type": "code",
   "execution_count": null,
   "metadata": {},
   "outputs": [],
   "source": [
    "fhm_dead_mode = fhm_dead_serialized.mode()\n",
    "fhm_dead_mode"
   ]
  },
  {
   "cell_type": "code",
   "execution_count": null,
   "metadata": {},
   "outputs": [],
   "source": [
    "fhm_dead_stats = fhm_dead_serialized.agg(['mean','median','count'])\n",
    "fhm_dead_stats"
   ]
  },
  {
   "cell_type": "code",
   "execution_count": null,
   "metadata": {
    "scrolled": false
   },
   "outputs": [],
   "source": [
    "colors = ['red','green','blue']\n",
    "\n",
    "ax = death_stats.plot(figsize=(18,12),style=['ro--','go--','bo--'],y=['mean','median','mode'],\n",
    "                 title='SWEDEN 1968 - 2019 age of death [all-cause] stats\\nDataSource : SCB.se')\n",
    "\n",
    "\n",
    "xtick_pos = plt.xticks()\n",
    "xtick_pos[0]\n",
    "\n",
    "props = dict(boxstyle='round', facecolor='wheat', alpha=0.5)\n",
    "\n",
    "\n",
    "\n",
    "plt.text(0,88.5,'2020 COVID STATS:',color='crimson',size=18,bbox=props)\n",
    "plt.text(0,87,'* mean age of death: {:.0f}'.format(fhm_dead_stats['mean']),color='red',bbox = props)\n",
    "plt.text(0,86.5,'* median age of death: {:.0f}'.format(fhm_dead_stats['median']),color='green',bbox=props)\n",
    "plt.text(0,86,'* mode age of death: {:.0f}'.format(fhm_dead_mode.iloc[0]),color='blue',bbox=props)\n",
    "\n",
    "plt.ylabel('age')\n",
    "\n",
    "plt.yticks(range(70,95,1))\n",
    "_= plt.xticks(range(len(death_stats)),death_stats.index,rotation=90)\n",
    "\n",
    "plt.savefig('swe_median_mean_mode_age_of_death_cmp_covid.jpg',format='jpg')"
   ]
  },
  {
   "cell_type": "code",
   "execution_count": null,
   "metadata": {},
   "outputs": [],
   "source": [
    "all_dead"
   ]
  },
  {
   "cell_type": "code",
   "execution_count": null,
   "metadata": {},
   "outputs": [],
   "source": [
    "dead_2001 = all_dead.loc['2001']\n",
    "dead_2000 = all_dead.loc['2000']\n",
    "dead_2001"
   ]
  },
  {
   "cell_type": "code",
   "execution_count": null,
   "metadata": {},
   "outputs": [],
   "source": [
    "ax = dead_2001.plot(kind='bar',figsize=(18,12),y='dead',color='red',alpha=0.5)\n",
    "dead_2000.plot(kind='bar',y='dead',ax=ax,color='g',alpha=0.5)\n",
    "plt.legend(['dead 2001','dead 2000'])"
   ]
  },
  {
   "cell_type": "code",
   "execution_count": null,
   "metadata": {},
   "outputs": [],
   "source": [
    "ax = dead_2001['cum_dead'].plot(figsize=(18,12),title='SWE 2001 & 2000 cumulative deaths')\n",
    "dead_2000['cum_dead'].plot(ax=ax)\n",
    "plt.legend(['2001 cumulative dead','2000 cumulative dead'])\n",
    "plt.ylabel('nr deaths')"
   ]
  },
  {
   "cell_type": "code",
   "execution_count": null,
   "metadata": {},
   "outputs": [],
   "source": [
    "unstacked_gender_stats\n"
   ]
  },
  {
   "cell_type": "code",
   "execution_count": null,
   "metadata": {},
   "outputs": [],
   "source": [
    "male = unstacked_gender_stats.loc[unstacked_gender_stats['gender'] == '1']\n",
    "female = unstacked_gender_stats.loc[unstacked_gender_stats['gender'] == '2']\n",
    "\n",
    "ax = male.plot(x='year',figsize=(18,12),style='o--',y=['median','mean'])\n",
    "female.plot(ax=ax,x='year',style='o--',y=['median','mean'])\n",
    "\n",
    "plt.yticks(range(68,87))\n",
    "ax.legend(['male median','male mean','female median','female mean'])"
   ]
  }
 ],
 "metadata": {
  "kernelspec": {
   "display_name": "Python 3",
   "language": "python",
   "name": "python3"
  },
  "language_info": {
   "codemirror_mode": {
    "name": "ipython",
    "version": 3
   },
   "file_extension": ".py",
   "mimetype": "text/x-python",
   "name": "python",
   "nbconvert_exporter": "python",
   "pygments_lexer": "ipython3",
   "version": "3.8.6"
  }
 },
 "nbformat": 4,
 "nbformat_minor": 4
}
