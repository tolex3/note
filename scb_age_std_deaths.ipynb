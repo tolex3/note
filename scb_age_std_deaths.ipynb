{
 "cells": [
  {
   "cell_type": "code",
   "execution_count": null,
   "metadata": {},
   "outputs": [],
   "source": [
    "import numpy as np\n",
    "import matplotlib.pyplot as plt\n",
    "import seaborn as sns\n",
    "import pandas as pd\n",
    "import requests\n",
    "\n",
    "sns.set()"
   ]
  },
  {
   "cell_type": "code",
   "execution_count": null,
   "metadata": {},
   "outputs": [],
   "source": [
    "### deaths ####\n",
    "\n",
    "dead_url = 'http://api.scb.se/OV0104/v1/doris/sv/ssd/START/BE/BE0101/BE0101I/DodaFodelsearK'\n",
    "dead_json = {\n",
    "  \"query\": [\n",
    "    {\n",
    "      \"code\": \"Region\",\n",
    "      \"selection\": {\n",
    "        \"filter\": \"vs:RegionRiket99\",\n",
    "        \"values\": [\n",
    "          \"00\"\n",
    "        ]\n",
    "      }\n",
    "    },\n",
    "    {\n",
    "      \"code\": \"Alder\",\n",
    "      \"selection\": {\n",
    "        \"filter\": \"agg:Ålder5år\",\n",
    "        \"values\": [\n",
    "          \"-4\",\n",
    "          \"5-9\",\n",
    "          \"10-14\",\n",
    "          \"15-19\",\n",
    "          \"20-24\",\n",
    "          \"25-29\",\n",
    "          \"30-34\",\n",
    "          \"35-39\",\n",
    "          \"40-44\",\n",
    "          \"45-49\",\n",
    "          \"50-54\",\n",
    "          \"55-59\",\n",
    "          \"60-64\",\n",
    "          \"65-69\",\n",
    "          \"70-74\",\n",
    "          \"75-79\",\n",
    "          \"80-84\",\n",
    "          \"85-89\",\n",
    "          \"90-94\",\n",
    "          \"95-99\",\n",
    "          \"100+\"\n",
    "        ]\n",
    "      }\n",
    "    },\n",
    "    {\n",
    "      \"code\": \"Kon\",\n",
    "      \"selection\": {\n",
    "        \"filter\": \"item\",\n",
    "        \"values\": [\n",
    "          \"1\",\n",
    "          \"2\"\n",
    "        ]\n",
    "      }\n",
    "    }\n",
    "  ],\n",
    "  \"response\": {\n",
    "    \"format\": \"json\"\n",
    "  }\n",
    "}"
   ]
  },
  {
   "cell_type": "code",
   "execution_count": null,
   "metadata": {},
   "outputs": [],
   "source": [
    "r_dead = requests.post(dead_url,json=dead_json)\n",
    "r_dead.status_code"
   ]
  },
  {
   "cell_type": "code",
   "execution_count": null,
   "metadata": {},
   "outputs": [],
   "source": [
    "json_dead = r_dead.json()\n",
    "json_dead['data'][0]"
   ]
  },
  {
   "cell_type": "code",
   "execution_count": null,
   "metadata": {},
   "outputs": [],
   "source": [
    "### population ###\n",
    "url = 'http://api.scb.se/OV0104/v1/doris/sv/ssd/START/BE/BE0101/BE0101A/BefolkningR1860'\n",
    "data = {\n",
    "  \"query\": [\n",
    "    {\n",
    "      \"code\": \"Alder\",\n",
    "      \"selection\": {\n",
    "        \"filter\": \"agg:Ålder5år\",\n",
    "        \"values\": [\n",
    "          \"-4\",\n",
    "          \"5-9\",\n",
    "          \"10-14\",\n",
    "          \"15-19\",\n",
    "          \"20-24\",\n",
    "          \"25-29\",\n",
    "          \"30-34\",\n",
    "          \"35-39\",\n",
    "          \"40-44\",\n",
    "          \"45-49\",\n",
    "          \"50-54\",\n",
    "          \"55-59\",\n",
    "          \"60-64\",\n",
    "          \"65-69\",\n",
    "          \"70-74\",\n",
    "          \"75-79\",\n",
    "          \"80-84\",\n",
    "          \"85-89\",\n",
    "          \"90-94\",\n",
    "          \"95-99\",\n",
    "          \"100+\"\n",
    "        ]\n",
    "      }\n",
    "    },\n",
    "    {\n",
    "      \"code\": \"Kon\",\n",
    "      \"selection\": {\n",
    "        \"filter\": \"item\",\n",
    "        \"values\": [\n",
    "          \"1\",\n",
    "          \"2\"\n",
    "        ]\n",
    "      }\n",
    "    },\n",
    "    {\n",
    "      \"code\": \"Tid\",\n",
    "      \"selection\": {\n",
    "        \"filter\": \"item\",\n",
    "        \"values\": [\n",
    "          \"1968\",\n",
    "          \"1969\",\n",
    "          \"1970\",\n",
    "          \"1971\",\n",
    "          \"1972\",\n",
    "          \"1973\",\n",
    "          \"1974\",\n",
    "          \"1975\",\n",
    "          \"1976\",\n",
    "          \"1977\",\n",
    "          \"1978\",\n",
    "          \"1979\",\n",
    "          \"1980\",\n",
    "            \"1981\",\n",
    "            \"1982\",\n",
    "            \"1983\",\n",
    "            \"1984\",\n",
    "            \"1985\",\n",
    "            \"1986\",\n",
    "            \"1987\",\n",
    "            \"1988\",\n",
    "            \"1989\",\n",
    "            \"1990\",\n",
    "            \"1991\",\n",
    "            \"1992\",\n",
    "            \"1993\",\n",
    "            \"1994\",\n",
    "            \"1995\",\n",
    "            \"1996\",\n",
    "            \"1997\",\n",
    "            \"1998\",\n",
    "            \"1999\",\n",
    "            \"2000\",\n",
    "            \"2001\",\n",
    "            \"2002\",\n",
    "            \"2003\",\n",
    "            \"2004\",\n",
    "            \"2005\",\n",
    "            \"2006\",\n",
    "            \"2007\",\n",
    "            \"2008\",\n",
    "            \"2009\",\n",
    "            \"2010\",\n",
    "            \"2011\",\n",
    "            \"2012\",\n",
    "            \"2013\",\n",
    "          \"2014\",  \n",
    "          \"2015\",\n",
    "          \"2016\",\n",
    "          \"2017\",\n",
    "          \"2018\",\n",
    "          \"2019\"\n",
    "        ]\n",
    "      }\n",
    "    }\n",
    "  ],\n",
    "  \"response\": {\n",
    "    \"format\": \"json\"\n",
    "  }\n",
    "}\n",
    "\n",
    "r = requests.post(url,json=data)\n",
    "print (r.status_code)\n",
    "json_pop = r.json()\n",
    "\n",
    "json_pop['data'][0]"
   ]
  },
  {
   "cell_type": "code",
   "execution_count": null,
   "metadata": {},
   "outputs": [],
   "source": [
    "def parse_json(json):\n",
    "    \n",
    "    nr_keys = len(json['data'][0]['key'])\n",
    "    nr_vals = len(json['data'][0]['values'])\n",
    "    \n",
    "    \n",
    "    items = len(json['data'])\n",
    "    data_list = []\n",
    "\n",
    "    for i in range(items):\n",
    "        val_list = []\n",
    "        \n",
    "        for j,k in enumerate(range(nr_keys)):\n",
    "            val_list.append(json['data'][i]['key'][j])\n",
    "            \n",
    "        for j,v in enumerate(range(nr_vals)):\n",
    "            val_list.append(json['data'][i]['values'][j])\n",
    "            \n",
    "        data_list.append(val_list)\n",
    "\n",
    "    return data_list\n",
    "    \n",
    "dead_df = pd.DataFrame(parse_json(json_dead))\n",
    "dead_df.drop(0,axis=1,inplace=True)\n",
    "dead_df    "
   ]
  },
  {
   "cell_type": "code",
   "execution_count": null,
   "metadata": {},
   "outputs": [],
   "source": [
    "dead_df.columns = ['age','gender','year','dead']\n",
    "dead_df['age'] = pd.Categorical(dead_df['age'],['-4','5-9','10-14','15-19','20-24',\n",
    "                                                 '25-29','30-34','35-39','40-44',\n",
    "                                                 '45-49','50-54','55-59','60-64','65-69',\n",
    "                                                 '70-74','75-79','80-84','85-89',\n",
    "                                                 '90-94','95-99','100+'])\n",
    "\n",
    "dead_df['dead'] = dead_df['dead'].astype(int)\n",
    "dead_df"
   ]
  },
  {
   "cell_type": "code",
   "execution_count": null,
   "metadata": {},
   "outputs": [],
   "source": [
    "dead_df_men_women = dead_df.groupby(['year','age']).sum()\n",
    "\n",
    "dead_df_men_women = dead_df_men_women.unstack()\n",
    "dead_df_men_women = dead_df_men_women.droplevel(0,axis=1)\n",
    "dead_df_men_women.info()"
   ]
  },
  {
   "cell_type": "code",
   "execution_count": null,
   "metadata": {},
   "outputs": [],
   "source": [
    "dead_df_men_women"
   ]
  },
  {
   "cell_type": "code",
   "execution_count": null,
   "metadata": {},
   "outputs": [],
   "source": [
    "pop_df = pd.DataFrame(parse_json(json_pop))\n",
    "pop_df.columns = ['age','gender','year','pop']\n",
    "pop_df['pop'] = pop_df['pop'].astype(int)\n",
    "pop_df['age'] = pd.Categorical(pop_df['age'],['-4','5-9','10-14','15-19','20-24',\n",
    "                                                 '25-29','30-34','35-39','40-44',\n",
    "                                                 '45-49','50-54','55-59','60-64','65-69',\n",
    "                                                 '70-74','75-79','80-84','85-89',\n",
    "                                                 '90-94','95-99','100+'])\n",
    "\n",
    "pop_df"
   ]
  },
  {
   "cell_type": "code",
   "execution_count": null,
   "metadata": {},
   "outputs": [],
   "source": [
    "pop_df = pop_df.groupby(['year','age']).sum()\n",
    "pop_df"
   ]
  },
  {
   "cell_type": "code",
   "execution_count": null,
   "metadata": {},
   "outputs": [],
   "source": [
    "pop_df_men_women = pop_df.unstack().droplevel(0,axis=1)\n",
    "pop_df_men_women"
   ]
  },
  {
   "cell_type": "code",
   "execution_count": null,
   "metadata": {},
   "outputs": [],
   "source": [
    "\n",
    "### NOT REAL MORTALITY SINCE WE ARE ADDING MORTALITIES FOR DIFFERENT AGE GROUPS ! ###\n",
    "\n",
    "age_grp_mortality = dead_df_men_women / pop_df_men_women\n",
    "age_grp_mortality"
   ]
  },
  {
   "cell_type": "code",
   "execution_count": null,
   "metadata": {},
   "outputs": [],
   "source": [
    "avg_mortality_per_age_grp = age_grp_mortality.mean()\n",
    "avg_mortality_per_age_grp"
   ]
  },
  {
   "cell_type": "code",
   "execution_count": null,
   "metadata": {},
   "outputs": [],
   "source": [
    "avg_mortality_per_age_grp.plot(figsize=(18,12),style='o--')"
   ]
  },
  {
   "cell_type": "code",
   "execution_count": null,
   "metadata": {},
   "outputs": [],
   "source": [
    "std_pop = pop_df_men_women.loc['2019']"
   ]
  },
  {
   "cell_type": "code",
   "execution_count": null,
   "metadata": {},
   "outputs": [],
   "source": [
    "strata_abs_deaths = age_grp_mortality * std_pop\n",
    "strata_abs_deaths"
   ]
  },
  {
   "cell_type": "code",
   "execution_count": null,
   "metadata": {},
   "outputs": [],
   "source": [
    "strata_abs_deaths"
   ]
  },
  {
   "cell_type": "code",
   "execution_count": null,
   "metadata": {},
   "outputs": [],
   "source": [
    "strata_abs_deaths.plot(kind='bar',stacked=True,figsize=(18,12))"
   ]
  },
  {
   "cell_type": "code",
   "execution_count": null,
   "metadata": {},
   "outputs": [],
   "source": [
    "tot_strat_deaths = strata_abs_deaths.sum(axis=1)\n",
    "tot_strat_deaths"
   ]
  },
  {
   "cell_type": "code",
   "execution_count": null,
   "metadata": {},
   "outputs": [],
   "source": [
    "age_adj_mortality = tot_strat_deaths / std_pop.sum()\n",
    "age_adj_mortality"
   ]
  },
  {
   "cell_type": "code",
   "execution_count": null,
   "metadata": {},
   "outputs": [],
   "source": [
    "age_adj_mortality.plot(kind='bar',figsize=(18,12))\n",
    "_= plt.yticks(np.arange(0,0.019,0.001))"
   ]
  }
 ],
 "metadata": {
  "kernelspec": {
   "display_name": "Python 3",
   "language": "python",
   "name": "python3"
  },
  "language_info": {
   "codemirror_mode": {
    "name": "ipython",
    "version": 3
   },
   "file_extension": ".py",
   "mimetype": "text/x-python",
   "name": "python",
   "nbconvert_exporter": "python",
   "pygments_lexer": "ipython3",
   "version": "3.8.6"
  }
 },
 "nbformat": 4,
 "nbformat_minor": 4
}
