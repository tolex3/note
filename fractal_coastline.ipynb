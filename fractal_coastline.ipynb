{
 "cells": [
  {
   "cell_type": "code",
   "execution_count": null,
   "metadata": {},
   "outputs": [],
   "source": [
    "import numpy as np\n",
    "import matplotlib.pyplot as plt\n",
    "import seaborn as sns\n",
    "import pandas as pd\n",
    "\n",
    "sns.set()"
   ]
  },
  {
   "cell_type": "code",
   "execution_count": null,
   "metadata": {},
   "outputs": [],
   "source": [
    "#df = pd.DataFrame({'r' : [1,2,3],\n",
    "                  #'N' : [31,12,6]})\n",
    "\n",
    "#df = pd.DataFrame({'r' : [1,2,3],\n",
    "                  #'N' : [30,12,7]})\n",
    "    \n",
    "# line\n",
    "\n",
    "df = pd.DataFrame({'r' : [1,2,3],\n",
    "                  'N' : [9,5,3]})\n",
    "\n",
    "df['log_r'] = np.log(df['r'])\n",
    "df['log_r_inv'] = np.log(1 / df['r'])\n",
    "df['log_n'] = np.log(df['N'])\n",
    "df"
   ]
  },
  {
   "cell_type": "code",
   "execution_count": null,
   "metadata": {},
   "outputs": [],
   "source": [
    "df.plot(x='log_r_inv',y='log_n',style='o--')\n",
    "plt.ylabel('log N')"
   ]
  },
  {
   "cell_type": "code",
   "execution_count": null,
   "metadata": {},
   "outputs": [],
   "source": [
    "# Hausdorff Dimension based on Box counting\n",
    "\n",
    "D = (df.loc[2,'log_n'] - df.loc[0,'log_n']) / (df.loc[2,'log_r_inv'] - df.loc[0,'log_r_inv'])\n",
    "D"
   ]
  },
  {
   "cell_type": "code",
   "execution_count": null,
   "metadata": {},
   "outputs": [],
   "source": [
    "df['L'] = df['N'] * np.power(df['r'],1-D)\n",
    "df"
   ]
  },
  {
   "cell_type": "code",
   "execution_count": null,
   "metadata": {},
   "outputs": [],
   "source": [
    "df.plot(x='log_r',y='log_n',style='o--')\n",
    "plt.ylabel('log_N')"
   ]
  },
  {
   "cell_type": "code",
   "execution_count": null,
   "metadata": {},
   "outputs": [],
   "source": [
    "x = [2,0,1,1,2,2,1,1,0,2]\n",
    "y = [0,5,2,1,5,3,7,2,1,0]\n",
    "\n",
    "plt.plot(x,y)\n",
    "\n",
    "# r = 1, N = 30\n",
    "# r = 2, N = 12\n",
    "# r = 3, N = 7"
   ]
  }
 ],
 "metadata": {
  "kernelspec": {
   "display_name": "Python 3",
   "language": "python",
   "name": "python3"
  },
  "language_info": {
   "codemirror_mode": {
    "name": "ipython",
    "version": 3
   },
   "file_extension": ".py",
   "mimetype": "text/x-python",
   "name": "python",
   "nbconvert_exporter": "python",
   "pygments_lexer": "ipython3",
   "version": "3.8.6"
  }
 },
 "nbformat": 4,
 "nbformat_minor": 4
}
