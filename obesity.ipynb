{
 "cells": [
  {
   "cell_type": "code",
   "execution_count": null,
   "metadata": {},
   "outputs": [],
   "source": [
    "import numpy as np\n",
    "import matplotlib.pyplot as plt\n",
    "import seaborn as sns\n",
    "import pandas as pd\n",
    "\n",
    "sns.set()"
   ]
  },
  {
   "cell_type": "code",
   "execution_count": null,
   "metadata": {},
   "outputs": [],
   "source": [
    "df = pd.read_excel('fhm_excel.xlsx',sheet_name='Antal per dag region',usecols=[0,1],index_col=0,parse_dates=True)"
   ]
  },
  {
   "cell_type": "code",
   "execution_count": null,
   "metadata": {},
   "outputs": [],
   "source": [
    "df = df.loc[df['Totalt_antal_fall'] >= 10]\n",
    "\n",
    "df['change'] = df['Totalt_antal_fall'] / df['Totalt_antal_fall'].shift()\n",
    "\n",
    "df = df.dropna()\n",
    "df['tot_log'] = np.log(df['Totalt_antal_fall'])\n",
    "df['change_log'] = np.log(df['change'])\n",
    "df"
   ]
  },
  {
   "cell_type": "code",
   "execution_count": null,
   "metadata": {},
   "outputs": [],
   "source": [
    "df.describe()"
   ]
  },
  {
   "cell_type": "code",
   "execution_count": null,
   "metadata": {},
   "outputs": [],
   "source": [
    "df['bins'] = pd.cut(df['change_log'],np.arange(-1.3,1,0.2))\n",
    "df"
   ]
  },
  {
   "cell_type": "code",
   "execution_count": null,
   "metadata": {},
   "outputs": [],
   "source": [
    "value_counts = df['bins'].value_counts()\n",
    "value_counts = value_counts.sort_index()\n",
    "value_counts = np.log(value_counts)\n",
    "value_counts"
   ]
  },
  {
   "cell_type": "code",
   "execution_count": null,
   "metadata": {
    "scrolled": false
   },
   "outputs": [],
   "source": [
    "value_counts.plot()"
   ]
  },
  {
   "cell_type": "code",
   "execution_count": null,
   "metadata": {},
   "outputs": [],
   "source": [
    "x = np.array([1,10,100])\n",
    "y = np.array([1,10,100])\n",
    "\n",
    "plt.plot(x,y)\n",
    "plt.yscale('log')\n",
    "plt.xscale('log')"
   ]
  },
  {
   "cell_type": "code",
   "execution_count": null,
   "metadata": {},
   "outputs": [],
   "source": [
    "y = np.array([1,10,100,1000])\n",
    "x = np.array([1,2,4,8])\n",
    "\n",
    "plt.plot(x,y,'o--')\n",
    "plt.yscale('log')\n",
    "plt.xscale('log')"
   ]
  },
  {
   "cell_type": "code",
   "execution_count": null,
   "metadata": {},
   "outputs": [],
   "source": []
  },
  {
   "cell_type": "code",
   "execution_count": null,
   "metadata": {},
   "outputs": [],
   "source": [
    "obesity = pd.read_json('world_obesity.json')\n",
    "\n",
    "countries = ['Sweden','Finland','Spain','Italy','Belgium','United States','United Kingdom',\n",
    "            'Norway','Denmark','Iceland','Argentina','Peru','Germany','Austria','Australia','Chile',\n",
    "            'Japan','China','Singapore','Switzerland','France','India','Russia','Poland','Czech Republic',\n",
    "            'Hungary','Thailand','Israel','Greece','Turkey']\n",
    "\n",
    "some_obesities = obesity.loc[obesity['country'].isin(countries)]"
   ]
  },
  {
   "cell_type": "code",
   "execution_count": null,
   "metadata": {},
   "outputs": [],
   "source": [
    "import re\n",
    "re.sub (r'\\n','',obesity['country'].sort_values().to_string(index=False,header=False))"
   ]
  },
  {
   "cell_type": "code",
   "execution_count": null,
   "metadata": {},
   "outputs": [],
   "source": [
    "dataSource = 'DataSource : https://worldpopulationreview.com/country-rankings/obesity-rates-by-country'\n",
    "title = 'Obesity rates for selected countries\\n' + dataSource\n",
    "\n",
    "some_obesities.plot(kind='bar',\n",
    "                    x='country',\n",
    "                    y='obesityRate',\n",
    "                    figsize=(18,12),\n",
    "                   title = title)\n",
    "_= plt.ylabel('%')\n",
    "plt.savefig('obesityrates.jpg',format='jpg')"
   ]
  },
  {
   "cell_type": "code",
   "execution_count": null,
   "metadata": {},
   "outputs": [],
   "source": []
  }
 ],
 "metadata": {
  "kernelspec": {
   "display_name": "Python 3",
   "language": "python",
   "name": "python3"
  },
  "language_info": {
   "codemirror_mode": {
    "name": "ipython",
    "version": 3
   },
   "file_extension": ".py",
   "mimetype": "text/x-python",
   "name": "python",
   "nbconvert_exporter": "python",
   "pygments_lexer": "ipython3",
   "version": "3.8.6"
  }
 },
 "nbformat": 4,
 "nbformat_minor": 4
}
