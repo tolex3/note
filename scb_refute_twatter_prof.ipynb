{
 "cells": [
  {
   "cell_type": "code",
   "execution_count": null,
   "metadata": {},
   "outputs": [],
   "source": [
    "import numpy as np\n",
    "import matplotlib.pyplot as plt\n",
    "import seaborn as sns\n",
    "import pandas as pd\n",
    "\n",
    "sns.set()\n",
    "\n",
    "last_good_date = '2020-11-17'"
   ]
  },
  {
   "cell_type": "code",
   "execution_count": null,
   "metadata": {},
   "outputs": [],
   "source": [
    "def parse_scb_prel(YTD=True):\n",
    "    \n",
    "    def monthname2number(m):\n",
    "        if m == 'januari' : return 1\n",
    "        if m == 'februari' : return 2\n",
    "        if m == 'mars' : return 3\n",
    "        if m == 'april' : return 4\n",
    "        if m == 'maj' : return 5\n",
    "        if m == 'juni' : return 6\n",
    "        if m == 'juli' : return 7\n",
    "        if m == 'augusti' : return 8\n",
    "        if m == 'september' : return 9\n",
    "        if m == 'oktober' : return 10\n",
    "        if m == 'november' : return 11\n",
    "        if m == 'december' : return 12\n",
    "\n",
    "    df = pd.read_csv('scb-dead_per_day.csv',sep=';',usecols=[1,2,3,4,5,6,7,10,11],thousands=',')\n",
    "    \n",
    "    \n",
    "    df['month'] = df['Månad'].apply(monthname2number)\n",
    "    df[['Månad','month']] = df[['Månad','month']].replace(np.nan,0)\n",
    "    df['month'] = df['month'].astype(int)\n",
    "    \n",
    "    \n",
    "    df = df.replace(np.nan,0)\n",
    "\n",
    "    \n",
    "    df[['2015','2016','2017','2018','2019','2020','2015-2019']] = df[['2015','2016','2017','2018','2019','2020','2015-2019']].astype(int)\n",
    "\n",
    "    unknown_death_day = df.iloc[-1,:7]\n",
    "    print (unknown_death_day)\n",
    "    \n",
    "    df.drop(366,inplace=True)\n",
    "    \n",
    "    #if YTD:\n",
    "        #df = df.loc[df['2020'] != 0]\n",
    "        \n",
    "    df = df.drop('Månad',axis=1)\n",
    "    \n",
    "    known_death_day = df.iloc[:,:7].sum()\n",
    "    print (known_death_day)\n",
    "    print (unknown_death_day + known_death_day)\n",
    "    \n",
    "    year_fraction = len(df) / 366\n",
    "    \n",
    "    unknown_death_day[['2015','2016','2017','2018','2019','2015-2019']] = unknown_death_day[\n",
    "    ['2015','2016','2017','2018','2019','2015-2019']] * year_fraction\n",
    "    \n",
    "    dead_pct_per_day = df[['2015','2016','2017','2018','2019','2020','2015-2019']] / known_death_day\n",
    "    \n",
    "    all_deaths = df[['2015','2016','2017','2018','2019','2020','2015-2019']] + unknown_death_day * dead_pct_per_day\n",
    "    \n",
    "    if YTD:\n",
    "        index = pd.date_range('2020-01-01',periods=len(all_deaths))\n",
    "    else:\n",
    "        index = pd.date_range('2020-01-01','2020-12-31')\n",
    "        \n",
    "    all_deaths.index = index\n",
    "    \n",
    "    if YTD:\n",
    "        all_deaths = all_deaths.loc[all_deaths['2020'] != 0]\n",
    "    \n",
    "    print (all_deaths.sum())\n",
    "    return all_deaths\n",
    "    \n",
    "    "
   ]
  },
  {
   "cell_type": "code",
   "execution_count": null,
   "metadata": {},
   "outputs": [],
   "source": [
    "df = parse_scb_prel()\n",
    "df = df.astype(float)\n",
    "\n",
    "monthly = df.resample('M').sum()\n",
    "print (monthly.sum())\n",
    "monthly"
   ]
  },
  {
   "cell_type": "markdown",
   "metadata": {},
   "source": [
    " \t2015 \t2016 \t2017 \t2018 \t2019 \t2020 \t2015-2019\n",
    "2020-01-31 \t8729.182285 \t8736.495984 \t9327.150855 \t8818.392921 \t8422.208752 \t8347.187992 \t8809.689366\n",
    "2020-02-29 \t8153.098703 \t7841.178894 \t8070.685966 \t8379.426521 \t7515.486988 \t7568.267827 \t8191.752730\n",
    "2020-03-31 \t8710.990172 \t8185.610241 \t8276.680618 \t9468.104313 \t7799.867905 \t8602.032584 \t8487.421087\n",
    "2020-04-30 \t7776.117692 \t7569.313203 \t7754.007622 \t7828.405467 \t7404.207499 \t10659.286106 \t7666.915818\n",
    "2020-05-31 \t7389.029951 \t7145.161842 \t7514.192953 \t6967.949081 \t7183.709251 \t8945.250704 \t7238.247854\n",
    "2020-06-30 \t6839.223865 \t6686.260731 \t6820.370172 \t6681.130286 \t6647.919118 \t7436.735135 \t6735.918568\n",
    "2020-07-31 \t7111.094889 \t7240.212629 \t6946.426601 \t7462.428796 \t6927.148207 \t7036.999061 \t7133.894316\n",
    "2020-08-31 \t6783.636853 \t7159.470562 \t6993.569655 \t6981.313398 \t7036.366965 \t6974.315512 \t6988.617822\n",
    "2020-09-30 \t6989.814135 \t6876.362305 \t6930.029017 \t6993.649690 \t6876.660290 \t6765.712882 \t6932.348757\n",
    "2020-10-31 \t7223.279587 \t7519.232681 \t7599.255421 \t7479.905210 \t7560.823076 \t7236.353298 \t7477.647147\n",
    "2020-11-30 \t7296.048039 \t7564.202945 \t7470.124446 \t7094.396077 \t7452.634684 \t5765.858897 \t7375.339756\n",
    "2020-12-31 \t7905.483829 \t8458.497984 \t8269.506675 \t8029.898240 \t7938.967266 \t0.000000 \t8123.206779\n",
    "\n",
    "\n",
    "2015         90907.0\n",
    "2016         90982.0\n",
    "2017         91972.0\n",
    "2018         92185.0\n",
    "2019         88766.0\n",
    "2020         85338.0\n",
    "2015-2019    91161.0"
   ]
  },
  {
   "cell_type": "code",
   "execution_count": null,
   "metadata": {},
   "outputs": [],
   "source": [
    "df.sum()"
   ]
  },
  {
   "cell_type": "code",
   "execution_count": null,
   "metadata": {},
   "outputs": [],
   "source": [
    "df = df.loc[:last_good_date]\n",
    "df"
   ]
  },
  {
   "cell_type": "code",
   "execution_count": null,
   "metadata": {},
   "outputs": [],
   "source": [
    "march_june = df.loc['2020-03-01':'2020-06-30'].sum()\n",
    "march_june"
   ]
  },
  {
   "cell_type": "code",
   "execution_count": null,
   "metadata": {},
   "outputs": [],
   "source": [
    "march_june_2020 = march_june.loc['2020']\n",
    "march_june_2020 / march_june"
   ]
  },
  {
   "cell_type": "code",
   "execution_count": null,
   "metadata": {},
   "outputs": [],
   "source": [
    "full_2020_YTD = df.sum().loc['2020']\n",
    "full_2020_YTD"
   ]
  },
  {
   "cell_type": "code",
   "execution_count": null,
   "metadata": {},
   "outputs": [],
   "source": [
    "full_2020_YTD / df.sum()"
   ]
  },
  {
   "cell_type": "code",
   "execution_count": null,
   "metadata": {},
   "outputs": [],
   "source": [
    "df"
   ]
  },
  {
   "cell_type": "code",
   "execution_count": null,
   "metadata": {
    "scrolled": false
   },
   "outputs": [],
   "source": [
    "\n",
    "weekly = df.resample('W').sum()\n",
    "\n",
    "weekly"
   ]
  }
 ],
 "metadata": {
  "kernelspec": {
   "display_name": "Python 3",
   "language": "python",
   "name": "python3"
  },
  "language_info": {
   "codemirror_mode": {
    "name": "ipython",
    "version": 3
   },
   "file_extension": ".py",
   "mimetype": "text/x-python",
   "name": "python",
   "nbconvert_exporter": "python",
   "pygments_lexer": "ipython3",
   "version": "3.8.6"
  }
 },
 "nbformat": 4,
 "nbformat_minor": 4
}
