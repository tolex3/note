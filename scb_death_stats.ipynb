{
 "cells": [
  {
   "cell_type": "code",
   "execution_count": null,
   "metadata": {},
   "outputs": [],
   "source": [
    "import pandas as pd\n",
    "import matplotlib.pyplot as plt\n",
    "import seaborn as sns\n",
    "import numpy as np\n",
    "import pymc as pm\n",
    "import scipy.stats as sps\n",
    "\n",
    "sns.set()\n"
   ]
  },
  {
   "cell_type": "code",
   "execution_count": null,
   "metadata": {},
   "outputs": [],
   "source": [
    "df = pd.read_csv('scb-dead_per_day.csv',sep=';',usecols=range(8),encoding='ISO-8859-1')\n",
    "print (df.sum())\n",
    "df"
   ]
  },
  {
   "cell_type": "code",
   "execution_count": null,
   "metadata": {},
   "outputs": [],
   "source": [
    "dates = pd.date_range('2020-01-01','2020-12-31')\n",
    "df.set_index(dates,inplace=True)\n",
    "df.loc['2020-02-25' : '2020-03-02']\n",
    "\n",
    "mean = df['2015-2019'].mean()\n",
    "std = df['2015-2019'].std()\n",
    "print (mean,std)\n",
    "print (df.sum())\n",
    "print (df[['2015','2019']].sum().max() - df[['2015-2019']].sum().min())\n"
   ]
  },
  {
   "cell_type": "code",
   "execution_count": null,
   "metadata": {},
   "outputs": [],
   "source": [
    "# random variability 954 vs diff max-min 842 vs 2020 y2d excess 2300\n",
    "yearly_mean = df.loc[:,'2015' : '2019'].sum().mean()\n",
    "print (yearly_mean)\n",
    "yearly_std = df.loc[:,'2015' : '2019'].sum().std()\n",
    "print (yearly_std)\n",
    "\n",
    "samples = pm.rpoisson(yearly_mean,size=100000)\n",
    "ci = np.percentile(samples,[5.5,94.5])\n",
    "print (ci)\n",
    "print (ci[1] - ci[0])\n",
    "samples_mean = samples.mean()\n",
    "samples_std = samples.std()\n",
    "\n",
    "print (samples_mean)\n",
    "print (samples_std)\n",
    "plt.hist(samples,density=True)\n",
    "plt.hist(df.loc[:,'2015':'2019'].sum(),density=True)\n",
    "\n",
    "x = np.arange(86000,92000)\n",
    "y = sps.poisson.pmf(x,mu=yearly_mean)\n",
    "plt.plot(x,y)\n",
    "\n",
    "y = sps.norm.pdf(x,yearly_mean,yearly_std)\n",
    "plt.plot(x,y)\n"
   ]
  },
  {
   "cell_type": "code",
   "execution_count": null,
   "metadata": {},
   "outputs": [],
   "source": [
    "daily_mean = df['2015-2019'].mean()\n",
    "daily_std = df['2015-2019'].std()\n",
    "\n",
    "print (daily_mean,daily_std)\n",
    "plt.hist(df['2015-2019'],density=True,alpha=0.7)\n",
    "\n",
    "daily_samples = pm.rpoisson(daily_mean,10000)\n",
    "plt.hist(daily_samples,density=True,alpha=0.7)"
   ]
  },
  {
   "cell_type": "code",
   "execution_count": null,
   "metadata": {},
   "outputs": [],
   "source": [
    "df.plot(figsize=(18,12))\n",
    "plt.title('Daily Deaths Sweden ')\n",
    "plt.axhline(mean,ls='dashed',color='crimson',label='mean 2015-2019')\n",
    "plt.axhline(mean + std,ls='dashed',color='orange',label='standard dev 2015-2019')\n",
    "plt.axhline(mean - std,ls='dashed',color='orange')\n",
    "plt.axhline(mean + 2 * std,ls='dashed',color='orange')\n",
    "plt.axhline(mean - 2 * std,ls='dashed',color='orange')\n",
    "plt.axhline(mean + 3 * std,ls='dashed',color='orange')\n",
    "plt.axhline(mean - 3 * std,ls='dashed',color='orange')\n",
    "plt.axhline(mean + 4 * std,ls='dashed',color='orange')\n",
    "plt.axhline(mean - 4 * std,ls='dashed',color='orange')\n",
    "plt.axhline(mean + 5 * std,ls='dashed',color='orange')\n",
    "plt.axhline(mean - 5 * std,ls='dashed',color='orange')\n",
    "plt.axhline(mean + 6 * std,ls='dashed',color='orange')\n",
    "plt.axhline(mean - 6 * std,ls='dashed',color='orange')\n",
    "plt.ylabel('Nr of deaths per day')\n",
    "\n",
    "plt.legend(loc='upper right')\n"
   ]
  },
  {
   "cell_type": "code",
   "execution_count": null,
   "metadata": {},
   "outputs": [],
   "source": [
    "fig,axes = plt.subplots(3,2,sharex=True,sharey=True,figsize=(18,12))\n",
    "\n",
    "axes[0,0].plot(df['2015'])\n",
    "axes[0,0].plot(df['2015-2019'],ls='dashed',color='crimson')\n",
    "axes[0,0].set_title('2015')\n",
    "\n",
    "axes[0,1].plot(df['2016'])\n",
    "axes[0,1].plot(df['2015-2019'],ls='dashed',color='crimson')\n",
    "axes[0,1].set_title('2016')\n",
    "\n",
    "axes[1,0].plot(df['2017'])\n",
    "axes[1,0].plot(df['2015-2019'],ls='dashed',color='crimson')\n",
    "axes[1,0].set_title('2017')\n",
    "\n",
    "axes[1,1].plot(df['2018'])\n",
    "axes[1,1].plot(df['2015-2019'],ls='dashed',color='crimson')\n",
    "axes[1,1].set_title('2018')\n",
    "\n",
    "axes[2,0].plot(df['2019'])\n",
    "axes[2,0].plot(df['2015-2019'],ls='dashed',color='crimson')\n",
    "axes[2,0].set_title('2019')\n",
    "\n",
    "axes[2,1].plot(df['2020'])\n",
    "axes[2,1].plot(df['2015-2019'],ls='dashed',color='crimson')\n",
    "axes[2,1].set_title('2020')\n"
   ]
  },
  {
   "cell_type": "code",
   "execution_count": null,
   "metadata": {
    "scrolled": false
   },
   "outputs": [],
   "source": [
    "df.cumsum().plot(figsize=(18,12))\n",
    "plt.title ('Cumulative deaths Sweden')\n",
    "plt.ylabel('total number of deaths')"
   ]
  },
  {
   "cell_type": "code",
   "execution_count": null,
   "metadata": {},
   "outputs": [],
   "source": [
    "fig,axes = plt.subplots(3,2,sharex=True,sharey=True,figsize=(18,12))\n",
    "\n",
    "axes[0,0].plot(df['2015'].cumsum())\n",
    "axes[0,0].plot(df['2015-2019'].cumsum(),ls='dashed',color='crimson')\n",
    "axes[0,0].set_title('2015')\n",
    "\n",
    "axes[0,1].plot(df['2016'].cumsum())\n",
    "axes[0,1].plot(df['2015-2019'].cumsum(),ls='dashed',color='crimson')\n",
    "axes[0,1].set_title('2016')\n",
    "\n",
    "axes[1,0].plot(df['2017'].cumsum())\n",
    "axes[1,0].plot(df['2015-2019'].cumsum(),ls='dashed',color='crimson')\n",
    "axes[1,0].set_title('2017')\n",
    "\n",
    "axes[1,1].plot(df['2018'].cumsum())\n",
    "axes[1,1].plot(df['2015-2019'].cumsum(),ls='dashed',color='crimson')\n",
    "axes[1,1].set_title('2018')\n",
    "\n",
    "axes[2,0].plot(df['2019'].cumsum())\n",
    "axes[2,0].plot(df['2015-2019'].cumsum(),ls='dashed',color='crimson')\n",
    "axes[2,0].set_title('2019')\n",
    "\n",
    "axes[2,1].plot(df['2020'].cumsum())\n",
    "axes[2,1].plot(df['2015-2019'].cumsum(),ls='dashed',color='crimson')\n",
    "axes[2,1].set_title('2020')\n"
   ]
  },
  {
   "cell_type": "code",
   "execution_count": null,
   "metadata": {},
   "outputs": [],
   "source": [
    "df['excess_deaths'] = df['2020'] - df['2015-2019']\n",
    "\n",
    "last_day = df[df['2020'] == 0].iloc[0].name.date()\n",
    "last_day = last_day - pd.DateOffset(days=1)\n",
    "\n",
    "print (last_day)\n",
    "\n",
    "df_until_last_day = df.loc[:last_day].copy()\n",
    "df_until_last_day['cum_excess'] = df_until_last_day['excess_deaths'].cumsum()\n",
    "df_until_last_day.tail(30)\n",
    "\n",
    "cumsums = df_until_last_day[['2015-2019','2020']].cumsum()\n",
    "cumsums['delta'] = cumsums['2020'] - cumsums['2015-2019'] \n",
    "cumsums['delta_pct'] = cumsums['2020'] / cumsums['2015-2019'] \n",
    "\n",
    "cumsums.tail(20)"
   ]
  },
  {
   "cell_type": "code",
   "execution_count": null,
   "metadata": {},
   "outputs": [],
   "source": [
    "df_until_last_day.index = df_until_last_day.index.date\n",
    "plt.figure(figsize=(18,12))\n",
    "plt.title('Sweden Excess Deaths \\nData Source: SCB.se')\n",
    "plt.bar(df_until_last_day.index,df_until_last_day['excess_deaths'],color='crimson')\n",
    "plt.xticks(rotation=90)\n",
    "plt.ylabel('number of excess deaths')\n",
    "plt.savefig('SCB_excess_daily_{}.jpg'.format(last_day.date()),format='jpg')"
   ]
  },
  {
   "cell_type": "code",
   "execution_count": null,
   "metadata": {},
   "outputs": [],
   "source": [
    "plt.figure(figsize=(18,12))\n",
    "plt.title('Sweden Excess Deaths Cumulative \\nData Source: SCB.se')\n",
    "plt.bar(df_until_last_day.index,df_until_last_day['cum_excess'],color='crimson')\n",
    "plt.xticks(rotation=90)\n",
    "plt.ylabel('cumulative number of excess deaths')\n",
    "print (df_until_last_day['cum_excess'].tail(60))\n",
    "plt.savefig('SCB_excess_daily_cumsum_{}.jpg'.format(last_day.date()),format='jpg')"
   ]
  },
  {
   "cell_type": "code",
   "execution_count": null,
   "metadata": {},
   "outputs": [],
   "source": [
    "df_until_last_day.index = pd.to_datetime(df_until_last_day.index)\n",
    "\n",
    "### skip the last 7 days since they are likely to be updated ### \n",
    "\n",
    "last_week = df_until_last_day.index[-1] - pd.DateOffset(weeks=1)\n",
    "last_week = last_week.date()\n",
    "\n",
    "until_last_week = df_until_last_day[:last_week]\n",
    "until_last_week.tail(40)\n",
    "\n",
    "weekly = until_last_week['excess_deaths'].resample('W').sum()\n",
    "weekly"
   ]
  },
  {
   "cell_type": "code",
   "execution_count": null,
   "metadata": {},
   "outputs": [],
   "source": [
    "#plt.figure(figsize=(18,12))\n",
    "#plt.bar(weekly.index,weekly,color='crimson')\n",
    "weekly.index = weekly.index.date\n",
    "weekly.plot.bar(figsize=(18,12),color='crimson',title='Sweden Excess Deaths 2020 by week\\n Data Source: SCB.se')\n",
    "plt.ylabel('nr of excess deaths')\n",
    "plt.savefig('SCB_excess_weekly_{}.jpg'.format(last_day.date()),format='jpg')\n"
   ]
  },
  {
   "cell_type": "code",
   "execution_count": null,
   "metadata": {},
   "outputs": [],
   "source": [
    "latest = weekly.cumsum()[-1]\n",
    "weekly.cumsum().plot.bar(figsize=(18,12),color='crimson',\n",
    "                         title='Sweden cumulative excess deaths for year 2020, currently: {} \\n Data Source: SCB.se'.format(latest))\n",
    "print (weekly.cumsum())\n",
    "plt.ylabel('total number of excess deaths')\n",
    "plt.savefig('SCB_excess_weekly_cumsum_{}.jpg'.format(last_day.date()),format='jpg')\n"
   ]
  },
  {
   "cell_type": "code",
   "execution_count": null,
   "metadata": {},
   "outputs": [],
   "source": [
    "df"
   ]
  },
  {
   "cell_type": "code",
   "execution_count": null,
   "metadata": {},
   "outputs": [],
   "source": [
    "# 2019 flu season\n",
    "\n",
    "df['excess_2019'] = df['2019'] - df['2015-2019']\n",
    "df"
   ]
  },
  {
   "cell_type": "code",
   "execution_count": null,
   "metadata": {},
   "outputs": [],
   "source": [
    "df_weekly = df.resample('W').sum()\n",
    "df_weekly['2020_cum'] = df_weekly['excess_deaths'].cumsum()\n",
    "df_weekly['2019_cum'] = df_weekly['excess_2019'].cumsum()\n",
    "df_weekly.index = df_weekly.index - pd.DateOffset(years=1)\n",
    "\n",
    "df_weekly"
   ]
  },
  {
   "cell_type": "code",
   "execution_count": null,
   "metadata": {},
   "outputs": [],
   "source": [
    "plt.figure(figsize=(18,12))\n",
    "plt.bar(df_weekly.index,df_weekly['excess_2019'],color='crimson')\n",
    "plt.title('Excess deaths 2019')"
   ]
  },
  {
   "cell_type": "code",
   "execution_count": null,
   "metadata": {},
   "outputs": [],
   "source": [
    "plt.figure(figsize=(18,12))\n",
    "plt.bar(df_weekly.index,df_weekly['2019_cum'],color='crimson')\n",
    "plt.title('2019 Excess Deaths Cumulative')"
   ]
  },
  {
   "cell_type": "code",
   "execution_count": null,
   "metadata": {},
   "outputs": [],
   "source": [
    "df"
   ]
  },
  {
   "cell_type": "code",
   "execution_count": null,
   "metadata": {},
   "outputs": [],
   "source": [
    "print(df.loc['2020-10-01':,'excess_2019'].sum())\n",
    "df.loc[:'2020-05-15',['excess_deaths','excess_2019']].sum()"
   ]
  },
  {
   "cell_type": "code",
   "execution_count": null,
   "metadata": {
    "scrolled": false
   },
   "outputs": [],
   "source": [
    "start_day = '2020-05-22' # back 7 days to get stable data from scb\n",
    "start_period = pd.Timestamp(start_day)\n",
    "\n",
    "\n",
    "df_19_2h = df.loc[start_period :,'2019']\n",
    "df_19_2h.index = pd.date_range(start_period - pd.DateOffset(years=1),'2019-12-31')\n",
    "\n",
    "dayname = df_19_2h.index[0].day_name()\n",
    "\n",
    "df_20_1h = df.loc['2020-01-01' : start_period - pd.DateOffset(days=1),'2020']\n",
    "print (df_20_1h)\n",
    "\n",
    "df_19_20 = pd.concat([df_19_2h,df_20_1h])\n",
    "df_19_20.sum()"
   ]
  },
  {
   "cell_type": "code",
   "execution_count": null,
   "metadata": {},
   "outputs": [],
   "source": [
    "df_baseline_1h = df.loc[start_period :,'2015-2019']\n",
    "df_baseline_1h.index = pd.date_range(start_period - pd.DateOffset(years=1),'2019-12-31')\n",
    "df_baseline_2h = df.loc[:start_period - pd.DateOffset(days=1),'2015-2019']\n",
    "\n",
    "df_baseline = pd.concat([df_baseline_1h,df_baseline_2h])\n",
    "(df_19_20 - df_baseline).sum()"
   ]
  },
  {
   "cell_type": "code",
   "execution_count": null,
   "metadata": {},
   "outputs": [],
   "source": [
    "last_day = df_19_20.index[-1].date()\n",
    "plt.figure(figsize=(18,12))\n",
    "plt.title('Sweden Daily Deaths : season 2019/2020 vs baseline [Last day: {}]'.format(last_day))\n",
    "plt.plot(df_19_20,'x--',color='crimson',label='2019/2020')\n",
    "plt.plot(df_baseline,color='orange',label='Average 2015-2019')\n",
    "plt.ylabel('# daily deaths')\n",
    "plt.legend(loc='upper left')\n",
    "plt.savefig('SCB_season_19_20.jpg',format='jpg')"
   ]
  },
  {
   "cell_type": "code",
   "execution_count": null,
   "metadata": {},
   "outputs": [],
   "source": [
    "season_diff = df_19_20.sum() - df_baseline.sum()\n",
    "print (season_diff)\n",
    "plt.figure(figsize=(18,12))\n",
    "plt.title('Sweden Cumulative Deaths : season 2019/2020 vs baseline [Last day: {}] season diff: {}\\nData Source: SCB.se'.format(last_day,season_diff))\n",
    "plt.plot(df_19_20.cumsum(),color='crimson',label='season 2019/2020')\n",
    "plt.plot(df_baseline.cumsum(),color='orange',label='Average 2015-2019')\n",
    "plt.legend(loc='upper left')\n",
    "plt.ylabel('number of deaths, season diff:{}'.format(df_19_20.sum() - df_baseline.sum()))\n",
    "plt.savefig('SCB_season_19_20_cumulative.jpg',format='jpg')"
   ]
  },
  {
   "cell_type": "code",
   "execution_count": null,
   "metadata": {},
   "outputs": [],
   "source": [
    "print ('startday in 2019 calendar:',dayname)\n",
    "previous_day = df_19_20.index[0] - pd.DateOffset(days=1)\n",
    "print ('previous day:',previous_day)\n",
    "day_code = 'W-' + previous_day.day_name()[:3].upper()\n",
    "print (day_code)\n",
    "df_weekly_19_20 = df_19_20.resample(day_code,convention='end').sum()\n",
    "df_weekly_baseline = df_baseline.resample(day_code,convention='end').sum()\n",
    "df_weekly_19_20.tail(40)"
   ]
  },
  {
   "cell_type": "code",
   "execution_count": null,
   "metadata": {},
   "outputs": [],
   "source": [
    "#flu season\n",
    "\n",
    "flu_baseline = df_baseline.loc['2019-12-01' : '2020-03-31']\n",
    "flu_19_20 = df_19_20.loc['2019-12-01' : '2020-03-31']\n",
    "print (flu_baseline.sum())\n",
    "print (flu_19_20.sum())\n",
    "\n",
    "flu = flu_19_20.sum() - flu_baseline.sum()\n",
    "print (flu)\n",
    "\n",
    "end_period = start_period - pd.DateOffset(days=1)\n",
    "corona_baseline = df_baseline.loc['2020-04-01' : end_period].sum()\n",
    "corona_19_20 = df_19_20.loc['2020-04-01' : end_period].sum()\n",
    "\n",
    "corona = corona_19_20 - corona_baseline\n",
    "print (corona)"
   ]
  },
  {
   "cell_type": "code",
   "execution_count": null,
   "metadata": {},
   "outputs": [],
   "source": [
    "#note cut of last incomplete week\n",
    "last_day = df_weekly_19_20.index[-2].date()\n",
    "\n",
    "plt.figure(figsize=(18,12))\n",
    "plt.title('Sweden Deaths per week season 19/20 vs baseline [Last day: {}]\\nData Source: SCB.se'.format(last_day))\n",
    "plt.ylabel('Number of deaths')\n",
    "plt.plot(df_weekly_19_20[:-1],\n",
    "         'x--',color='crimson',\n",
    "         label='season 19/20 : non-flu deficit: {} Corona Excess: {} Delta: {}'.format(flu,corona,corona+flu))\n",
    "plt.plot(df_weekly_baseline[:-1],color='orange',label='average 2015-2019')\n",
    "plt.legend(loc='upper left')\n",
    "plt.savefig('SCB_season_19_20_weekly.jpg',format='jpg')"
   ]
  },
  {
   "cell_type": "code",
   "execution_count": null,
   "metadata": {},
   "outputs": [],
   "source": [
    "df_monthly_19_20 = df_19_20.resample('M').sum()\n",
    "df_monthly_baseline = df_baseline.resample('M').sum()\n",
    "print (df_monthly_19_20)\n",
    "print (df_monthly_baseline)\n",
    "print (df_monthly_19_20 - df_monthly_baseline)\n",
    "\n",
    "plt.figure(figsize=(18,12))\n",
    "plt.plot(df_monthly_19_20[1:-1],'x--',color='crimson')\n",
    "plt.plot(df_monthly_baseline[1:-1],color='orange')"
   ]
  }
 ],
 "metadata": {
  "kernelspec": {
   "display_name": "Python 3",
   "language": "python",
   "name": "python3"
  },
  "language_info": {
   "codemirror_mode": {
    "name": "ipython",
    "version": 3
   },
   "file_extension": ".py",
   "mimetype": "text/x-python",
   "name": "python",
   "nbconvert_exporter": "python",
   "pygments_lexer": "ipython3",
   "version": "3.6.9"
  }
 },
 "nbformat": 4,
 "nbformat_minor": 4
}
