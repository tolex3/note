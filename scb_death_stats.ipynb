{
 "cells": [
  {
   "cell_type": "code",
   "execution_count": null,
   "metadata": {},
   "outputs": [],
   "source": [
    "import pandas as pd\n",
    "import matplotlib.pyplot as plt\n",
    "import seaborn as sns\n",
    "import numpy as np\n",
    "\n",
    "sns.set()\n"
   ]
  },
  {
   "cell_type": "code",
   "execution_count": null,
   "metadata": {},
   "outputs": [],
   "source": [
    "df = pd.read_csv('scb-dead_per_day.csv',sep=';',usecols=range(8),encoding='ISO-8859-1')\n",
    "df"
   ]
  },
  {
   "cell_type": "code",
   "execution_count": null,
   "metadata": {},
   "outputs": [],
   "source": [
    "dates = pd.date_range('2020-01-01','2020-12-31')\n",
    "df.set_index(dates,inplace=True)\n",
    "df.loc['2020-02-25' : '2020-03-02']\n",
    "\n",
    "mean = df['2015-2019'].mean()\n",
    "std = df['2015-2019'].std()\n",
    "print (mean,std)"
   ]
  },
  {
   "cell_type": "code",
   "execution_count": null,
   "metadata": {},
   "outputs": [],
   "source": [
    "df.plot(figsize=(18,12))\n",
    "plt.title('Daily Deaths Sweden ')\n",
    "plt.axhline(mean,ls='dashed',color='crimson',label='mean 2015-2019')\n",
    "plt.axhline(mean + std,ls='dashed',color='orange',label='standard dev 2015-2019')\n",
    "plt.axhline(mean - std,ls='dashed',color='orange')\n",
    "plt.axhline(mean + 2 * std,ls='dashed',color='orange')\n",
    "plt.axhline(mean - 2 * std,ls='dashed',color='orange')\n",
    "plt.axhline(mean + 3 * std,ls='dashed',color='orange')\n",
    "plt.axhline(mean - 3 * std,ls='dashed',color='orange')\n",
    "plt.axhline(mean + 4 * std,ls='dashed',color='orange')\n",
    "plt.axhline(mean - 4 * std,ls='dashed',color='orange')\n",
    "plt.axhline(mean + 5 * std,ls='dashed',color='orange')\n",
    "plt.axhline(mean - 5 * std,ls='dashed',color='orange')\n",
    "plt.axhline(mean + 6 * std,ls='dashed',color='orange')\n",
    "plt.axhline(mean - 6 * std,ls='dashed',color='orange')\n",
    "plt.ylabel('Nr of deaths per day')\n",
    "\n",
    "plt.legend(loc='upper right')\n"
   ]
  },
  {
   "cell_type": "code",
   "execution_count": null,
   "metadata": {},
   "outputs": [],
   "source": [
    "fig,axes = plt.subplots(3,2,sharex=True,sharey=True,figsize=(18,12))\n",
    "\n",
    "axes[0,0].plot(df['2015'])\n",
    "axes[0,0].plot(df['2015-2019'],ls='dashed',color='crimson')\n",
    "axes[0,0].set_title('2015')\n",
    "\n",
    "axes[0,1].plot(df['2016'])\n",
    "axes[0,1].plot(df['2015-2019'],ls='dashed',color='crimson')\n",
    "axes[0,1].set_title('2016')\n",
    "\n",
    "axes[1,0].plot(df['2017'])\n",
    "axes[1,0].plot(df['2015-2019'],ls='dashed',color='crimson')\n",
    "axes[1,0].set_title('2017')\n",
    "\n",
    "axes[1,1].plot(df['2018'])\n",
    "axes[1,1].plot(df['2015-2019'],ls='dashed',color='crimson')\n",
    "axes[1,1].set_title('2018')\n",
    "\n",
    "axes[2,0].plot(df['2019'])\n",
    "axes[2,0].plot(df['2015-2019'],ls='dashed',color='crimson')\n",
    "axes[2,0].set_title('2019')\n",
    "\n",
    "axes[2,1].plot(df['2020'])\n",
    "axes[2,1].plot(df['2015-2019'],ls='dashed',color='crimson')\n",
    "axes[2,1].set_title('2020')\n"
   ]
  },
  {
   "cell_type": "code",
   "execution_count": null,
   "metadata": {
    "scrolled": false
   },
   "outputs": [],
   "source": [
    "df.cumsum().plot(figsize=(18,12))\n",
    "plt.title ('Cumulative deaths Sweden')\n",
    "plt.ylabel('total number of deaths')"
   ]
  },
  {
   "cell_type": "code",
   "execution_count": null,
   "metadata": {},
   "outputs": [],
   "source": [
    "fig,axes = plt.subplots(3,2,sharex=True,sharey=True,figsize=(18,12))\n",
    "\n",
    "axes[0,0].plot(df['2015'].cumsum())\n",
    "axes[0,0].plot(df['2015-2019'].cumsum(),ls='dashed',color='crimson')\n",
    "axes[0,0].set_title('2015')\n",
    "\n",
    "axes[0,1].plot(df['2016'].cumsum())\n",
    "axes[0,1].plot(df['2015-2019'].cumsum(),ls='dashed',color='crimson')\n",
    "axes[0,1].set_title('2016')\n",
    "\n",
    "axes[1,0].plot(df['2017'].cumsum())\n",
    "axes[1,0].plot(df['2015-2019'].cumsum(),ls='dashed',color='crimson')\n",
    "axes[1,0].set_title('2017')\n",
    "\n",
    "axes[1,1].plot(df['2018'].cumsum())\n",
    "axes[1,1].plot(df['2015-2019'].cumsum(),ls='dashed',color='crimson')\n",
    "axes[1,1].set_title('2018')\n",
    "\n",
    "axes[2,0].plot(df['2019'].cumsum())\n",
    "axes[2,0].plot(df['2015-2019'].cumsum(),ls='dashed',color='crimson')\n",
    "axes[2,0].set_title('2019')\n",
    "\n",
    "axes[2,1].plot(df['2020'].cumsum())\n",
    "axes[2,1].plot(df['2015-2019'].cumsum(),ls='dashed',color='crimson')\n",
    "axes[2,1].set_title('2020')\n"
   ]
  },
  {
   "cell_type": "code",
   "execution_count": null,
   "metadata": {},
   "outputs": [],
   "source": [
    "df['excess_deaths'] = df['2020'] - df['2015-2019']\n",
    "\n",
    "last_day = df[df['2020'] == 0].iloc[0].name.date()\n",
    "last_day = last_day - pd.DateOffset(days=1)\n",
    "print (last_day)\n",
    "df_until_last_day = df.loc[:last_day].copy()\n",
    "df_until_last_day['cum_excess'] = df_until_last_day['excess_deaths'].cumsum()\n",
    "df_until_last_day.tail(30)\n",
    "\n",
    "cumsums = df_until_last_day[['2015-2019','2020']].cumsum()\n",
    "cumsums['delta'] = cumsums['2020'] - cumsums['2015-2019'] \n",
    "cumsums['delta_pct'] = cumsums['2020'] / cumsums['2015-2019'] \n",
    "\n",
    "cumsums.tail(20)"
   ]
  },
  {
   "cell_type": "code",
   "execution_count": null,
   "metadata": {},
   "outputs": [],
   "source": [
    "df_until_last_day.index = df_until_last_day.index.date\n",
    "plt.figure(figsize=(18,12))\n",
    "plt.title('Sweden Excess Deaths \\nData Source: SCB.se')\n",
    "plt.bar(df_until_last_day.index,df_until_last_day['excess_deaths'],color='crimson')\n",
    "plt.xticks(rotation=90)\n",
    "plt.ylabel('number of excess deaths')\n",
    "plt.savefig('SCB_excess_daily_0522.jpg',format='jpg')"
   ]
  },
  {
   "cell_type": "code",
   "execution_count": null,
   "metadata": {},
   "outputs": [],
   "source": [
    "plt.figure(figsize=(18,12))\n",
    "plt.title('Sweden Excess Deaths Cumulative \\nData Source: SCB.se')\n",
    "plt.bar(df_until_last_day.index,df_until_last_day['cum_excess'],color='crimson')\n",
    "plt.xticks(rotation=90)\n",
    "plt.ylabel('cumulative number of excess deaths')\n",
    "print (df_until_last_day['cum_excess'].tail(60))\n",
    "plt.savefig('SCB_excess_daily_cumsum_0522.jpg',format='jpg')"
   ]
  },
  {
   "cell_type": "code",
   "execution_count": null,
   "metadata": {},
   "outputs": [],
   "source": [
    "df_until_last_day.index = pd.to_datetime(df_until_last_day.index)\n",
    "last_week = df_until_last_day.index[-1] - pd.DateOffset(weeks=1)\n",
    "last_week = last_week.date()\n",
    "\n",
    "until_last_week = df_until_last_day[:last_week]\n",
    "until_last_week.tail(40)\n",
    "\n",
    "weekly = until_last_week['excess_deaths'].resample('W').sum()\n",
    "weekly"
   ]
  },
  {
   "cell_type": "code",
   "execution_count": null,
   "metadata": {},
   "outputs": [],
   "source": [
    "#plt.figure(figsize=(18,12))\n",
    "#plt.bar(weekly.index,weekly,color='crimson')\n",
    "weekly.index = weekly.index.date\n",
    "weekly.plot.bar(figsize=(18,12),color='crimson',title='Sweden Excess Deaths 2020 by week\\n Data Source: SCB.se')\n",
    "plt.ylabel('nr of excess deaths')\n",
    "plt.savefig('SCB_excess_weekly_0522.jpg',format='jpg')\n"
   ]
  },
  {
   "cell_type": "code",
   "execution_count": null,
   "metadata": {},
   "outputs": [],
   "source": [
    "weekly.cumsum().plot.bar(figsize=(18,12),color='crimson',title='Sweden cumulative excess deaths \\n Data Source: SCB.se')\n",
    "print (weekly.cumsum())\n",
    "plt.ylabel('total number of excess deaths')\n",
    "plt.savefig('SCB_excess_weekly_cumsum_0522.jpg',format='jpg')\n"
   ]
  },
  {
   "cell_type": "code",
   "execution_count": null,
   "metadata": {},
   "outputs": [],
   "source": [
    "df"
   ]
  },
  {
   "cell_type": "code",
   "execution_count": null,
   "metadata": {},
   "outputs": [],
   "source": [
    "# 2019 flu season\n",
    "\n",
    "df['excess_2019'] = df['2019'] - df['2015-2019']\n",
    "df"
   ]
  },
  {
   "cell_type": "code",
   "execution_count": null,
   "metadata": {},
   "outputs": [],
   "source": [
    "df_weekly = df.resample('W').sum()\n",
    "df_weekly['2020_cum'] = df_weekly['excess_deaths'].cumsum()\n",
    "df_weekly['2019_cum'] = df_weekly['excess_2019'].cumsum()\n",
    "df_weekly.index = df_weekly.index - pd.DateOffset(years=1)\n",
    "\n",
    "df_weekly"
   ]
  },
  {
   "cell_type": "code",
   "execution_count": null,
   "metadata": {},
   "outputs": [],
   "source": [
    "plt.figure(figsize=(18,12))\n",
    "plt.bar(df_weekly.index,df_weekly['excess_2019'],color='crimson')\n",
    "plt.title('Excess deaths 2019')"
   ]
  },
  {
   "cell_type": "code",
   "execution_count": null,
   "metadata": {},
   "outputs": [],
   "source": [
    "plt.figure(figsize=(18,12))\n",
    "plt.bar(df_weekly.index,df_weekly['2019_cum'],color='crimson')\n",
    "plt.title('2019 Excess Deaths Cumulative')"
   ]
  },
  {
   "cell_type": "code",
   "execution_count": null,
   "metadata": {},
   "outputs": [],
   "source": [
    "df"
   ]
  },
  {
   "cell_type": "code",
   "execution_count": null,
   "metadata": {},
   "outputs": [],
   "source": [
    "print(df.loc['2020-10-01':,'excess_2019'].sum())\n",
    "df.loc[:'2020-05-15',['excess_deaths','excess_2019']].sum()"
   ]
  },
  {
   "cell_type": "code",
   "execution_count": null,
   "metadata": {
    "scrolled": false
   },
   "outputs": [],
   "source": [
    "start_period = pd.Timestamp('2020-05-17')\n",
    "df_19_2h = df.loc[start_period :,'2019']\n",
    "df_19_2h.index = pd.date_range(start_period - pd.DateOffset(years=1),'2019-12-31')\n",
    "\n",
    "print (df_19_2h)\n",
    "\n",
    "df_20_1h = df.loc['2020-01-01' : start_period - pd.DateOffset(days=1),'2020']\n",
    "print (df_20_1h)\n",
    "\n",
    "df_19_20 = pd.concat([df_19_2h,df_20_1h])\n",
    "df_19_20.sum()"
   ]
  },
  {
   "cell_type": "code",
   "execution_count": null,
   "metadata": {},
   "outputs": [],
   "source": [
    "df_baseline_1h = df.loc[start_period :,'2015-2019']\n",
    "df_baseline_1h.index = pd.date_range(start_period - pd.DateOffset(years=1),'2019-12-31')\n",
    "df_baseline_2h = df.loc[:start_period - pd.DateOffset(days=1),'2015-2019']\n",
    "\n",
    "df_baseline = pd.concat([df_baseline_1h,df_baseline_2h])\n",
    "(df_19_20 - df_baseline).sum()"
   ]
  },
  {
   "cell_type": "code",
   "execution_count": null,
   "metadata": {},
   "outputs": [],
   "source": [
    "plt.figure(figsize=(18,12))\n",
    "plt.title('Sweden Daily Deaths : season 2019/2020 vs baseline')\n",
    "plt.plot(df_19_20,color='crimson',label='2019/2020')\n",
    "plt.plot(df_baseline,color='orange',label='Average 2015-2019')\n",
    "plt.ylabel('# daily deaths')\n",
    "plt.legend(loc='upper left')"
   ]
  },
  {
   "cell_type": "code",
   "execution_count": null,
   "metadata": {},
   "outputs": [],
   "source": [
    "plt.figure(figsize=(18,12))\n",
    "plt.title('Sweden Cumulative Excess Deaths : season 2019/2020 vs baseline')\n",
    "plt.plot(df_19_20.cumsum(),color='crimson',label='season 2019/2020')\n",
    "plt.plot(df_baseline.cumsum(),color='orange',label='Average 2015-2019')\n",
    "plt.legend(loc='upper left')\n",
    "plt.ylabel('number of deaths, yearly diff:{}'.format(df_19_20.sum() - df_baseline.sum()))"
   ]
  }
 ],
 "metadata": {
  "kernelspec": {
   "display_name": "Python 3",
   "language": "python",
   "name": "python3"
  },
  "language_info": {
   "codemirror_mode": {
    "name": "ipython",
    "version": 3
   },
   "file_extension": ".py",
   "mimetype": "text/x-python",
   "name": "python",
   "nbconvert_exporter": "python",
   "pygments_lexer": "ipython3",
   "version": "3.6.9"
  }
 },
 "nbformat": 4,
 "nbformat_minor": 4
}
