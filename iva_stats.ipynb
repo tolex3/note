{
 "cells": [
  {
   "cell_type": "code",
   "execution_count": null,
   "metadata": {},
   "outputs": [],
   "source": [
    "### needs fixing when month changes; set last_complete_month, and make sure that xlsx's are same ###\n",
    "### depends on iva.xlxs & iva_occupacy_*.xlsx ###\n",
    "\n",
    "last_complete_month = '2020-10-31'"
   ]
  },
  {
   "cell_type": "code",
   "execution_count": null,
   "metadata": {},
   "outputs": [],
   "source": [
    "import numpy as np\n",
    "import matplotlib.pyplot as plt\n",
    "import seaborn as sns\n",
    "import pandas as pd\n",
    "\n",
    "sns.set()"
   ]
  },
  {
   "cell_type": "code",
   "execution_count": null,
   "metadata": {},
   "outputs": [],
   "source": [
    "df = pd.read_excel('iva.xlsx',sheet_name='Utdataportalen',skiprows=1)"
   ]
  },
  {
   "cell_type": "code",
   "execution_count": null,
   "metadata": {},
   "outputs": [],
   "source": [
    "def to_eng_month(m):\n",
    "    class MonthError(Exception):\n",
    "        pass\n",
    "    \n",
    "    if m == 'Januari' : return 'January'\n",
    "    if m == 'Februari' : return 'February'\n",
    "    if m == 'Mars' : return 'March'\n",
    "    if m == 'April' : return 'April'\n",
    "    if m == 'Maj' : return 'May'\n",
    "    if m == 'Juni' : return 'June'\n",
    "    if m == 'Juli' : return 'July'\n",
    "    if m == 'Augusti' : return 'August'\n",
    "    if m == 'September' : return 'September'\n",
    "    if m == 'Oktober' : return 'October'\n",
    "    if m == 'November' : return 'November'\n",
    "    if m == 'December' : return 'December'\n",
    "    \n",
    "    raise MonthError('cant translate {}'.format(m))\n",
    "    \n",
    "df[['month','year']] = df['Månad'].str.split(' ',expand=True)\n",
    "\n",
    "df['month'] = df['month'].apply(to_eng_month)\n",
    "df"
   ]
  },
  {
   "cell_type": "code",
   "execution_count": null,
   "metadata": {},
   "outputs": [],
   "source": [
    "latest_day = pd.to_datetime(df.iloc[-1,4])\n",
    "latest_month = latest_day + pd.DateOffset(months=1)\n",
    "latest_month"
   ]
  },
  {
   "cell_type": "code",
   "execution_count": null,
   "metadata": {},
   "outputs": [],
   "source": [
    "idx = pd.date_range('2015-01-01',latest_month,freq='M')\n",
    "idx"
   ]
  },
  {
   "cell_type": "code",
   "execution_count": null,
   "metadata": {},
   "outputs": [],
   "source": [
    "df.index = idx\n",
    "df"
   ]
  },
  {
   "cell_type": "code",
   "execution_count": null,
   "metadata": {},
   "outputs": [],
   "source": [
    "#df.index = df.index.date\n"
   ]
  },
  {
   "cell_type": "code",
   "execution_count": null,
   "metadata": {},
   "outputs": [],
   "source": [
    "df.plot(y='Antal vårdtillfällen',kind='bar',figsize=(18,12))"
   ]
  },
  {
   "cell_type": "code",
   "execution_count": null,
   "metadata": {},
   "outputs": [],
   "source": [
    "df"
   ]
  },
  {
   "cell_type": "code",
   "execution_count": null,
   "metadata": {},
   "outputs": [],
   "source": [
    "def read_beds(filename,sheetname):\n",
    "    df = pd.read_excel(filename,sheet_name=sheetname,skiprows=1,\n",
    "                        parse_dates=True,index_col=0)\n",
    "    \n",
    "    return df"
   ]
  },
  {
   "cell_type": "code",
   "execution_count": null,
   "metadata": {},
   "outputs": [],
   "source": [
    "#### previous years ####\n",
    "df_beds_15 = read_beds('iva_occupacy_15.xlsx','Utdataportalen')\n",
    "df_beds_16 = read_beds('iva_occupacy_16.xlsx','Utdataportalen')\n",
    "df_beds_17 = read_beds('iva_occupacy_17.xlsx','Utdataportalen')\n",
    "df_beds_18 = read_beds('iva_occupacy_18.xlsx','Utdataportalen')\n",
    "df_beds_19 = read_beds('iva_occupacy_19.xlsx','Utdataportalen')\n",
    "\n",
    "#### update with 2020 fresh data\n",
    "\n",
    "df_beds_YTD = pd.concat([df_beds_15,df_beds_16,df_beds_17,df_beds_18,df_beds_19])\n",
    "\n",
    "# drop previous 2020 data\n",
    "#df_beds_YTD = df_beds_YTD[~(df_beds_YTD.index.year==2020)]\n",
    "\n",
    "df_beds_2020_YTD = read_beds('iva_occupacy_2020_YTD.xlsx','Utdataportalen')\n",
    "df_beds_YTD = pd.concat([df_beds_YTD,df_beds_2020_YTD])\n",
    "\n",
    "df_beds = df_beds_YTD\n",
    "df_beds"
   ]
  },
  {
   "cell_type": "code",
   "execution_count": null,
   "metadata": {},
   "outputs": [],
   "source": [
    "df_beds_daily_avg_per_month = df_beds.resample('M').mean()\n",
    "df_beds_daily_avg_per_month"
   ]
  },
  {
   "cell_type": "code",
   "execution_count": null,
   "metadata": {},
   "outputs": [],
   "source": [
    "#df = df.loc['2018-01-31' : last_complete_month]\n",
    "df"
   ]
  },
  {
   "cell_type": "code",
   "execution_count": null,
   "metadata": {},
   "outputs": [],
   "source": [
    "#df = (df.loc['2018-01-31' : last_complete_month]).copy()\n",
    "df"
   ]
  },
  {
   "cell_type": "code",
   "execution_count": null,
   "metadata": {},
   "outputs": [],
   "source": [
    "df['Platser'] = df_beds_daily_avg_per_month['Platser']\n",
    "df"
   ]
  },
  {
   "cell_type": "code",
   "execution_count": null,
   "metadata": {},
   "outputs": [],
   "source": [
    "last_date = df.index[-1]\n",
    "last_date"
   ]
  },
  {
   "cell_type": "code",
   "execution_count": null,
   "metadata": {},
   "outputs": [],
   "source": []
  },
  {
   "cell_type": "code",
   "execution_count": null,
   "metadata": {},
   "outputs": [],
   "source": [
    "df"
   ]
  },
  {
   "cell_type": "code",
   "execution_count": null,
   "metadata": {
    "scrolled": false
   },
   "outputs": [],
   "source": [
    "print (df)\n",
    "\n",
    "df['month'] = pd.Categorical(df['month'],['January','February','March','April','May','June',\n",
    "                                         'July','August','September','October','November','December'])\n",
    "\n",
    "pivot = df.pivot(index='year',columns='month',values='Antal vårdtillfällen')\n",
    "pivot"
   ]
  },
  {
   "cell_type": "code",
   "execution_count": null,
   "metadata": {},
   "outputs": [],
   "source": [
    "title = 'SWEDEN ICU transactions stacked by month,' \\\n",
    "' Jan 2018 - {} YTD\\nDataSource : http://portal.icuregswe.org/utdata/sv/home'.format(last_date.date())\n",
    "\n",
    "pivot.plot(kind='bar',stacked=True,figsize=(18,12),title=title)\n",
    "plt.legend(loc='lower center')\n",
    "plt.ylabel ('nr transactions')\n",
    "plt.savefig('swe_iva_transactions_stacked.jpg',format='jpg')"
   ]
  },
  {
   "cell_type": "code",
   "execution_count": null,
   "metadata": {},
   "outputs": [],
   "source": [
    "pivot2 = df.pivot(index='year',columns='month',values='Antal vårdtillfällen >48 tim')\n",
    "pivot2"
   ]
  },
  {
   "cell_type": "code",
   "execution_count": null,
   "metadata": {},
   "outputs": [],
   "source": [
    "title = 'SWEDEN ICU transactions > 48h, stacked by month,' \\\n",
    "' Jan 2015 - {} YTD\\nDataSource : http://portal.icuregswe.org/utdata/sv/home'.format(last_date.date())\n",
    "\n",
    "pivot2.plot(kind='bar',stacked=True,figsize=(18,12),title=title)\n",
    "plt.ylabel('nr transactions')\n",
    "plt.legend(loc='lower center')\n",
    "plt.savefig('swe_iva_long_trans_stacked.jpg',format='jpg')"
   ]
  },
  {
   "cell_type": "code",
   "execution_count": null,
   "metadata": {},
   "outputs": [],
   "source": [
    "title = 'SWEDEN number of ICU occupancies Jan 2018 -  {}'.format(last_date.date())\n",
    "df.plot(y='Antal vårdtillfällen',figsize=(18,12),style='o--',title=title)"
   ]
  },
  {
   "cell_type": "code",
   "execution_count": null,
   "metadata": {},
   "outputs": [],
   "source": [
    "df.plot(y='Antal personer',figsize=(18,12))"
   ]
  },
  {
   "cell_type": "code",
   "execution_count": null,
   "metadata": {},
   "outputs": [],
   "source": [
    "df.head()"
   ]
  },
  {
   "cell_type": "code",
   "execution_count": null,
   "metadata": {},
   "outputs": [],
   "source": [
    "df = df[['Antal vårdtillfällen','Antal vårdtillfällen >48 tim','Antal personer','Platser']]"
   ]
  },
  {
   "cell_type": "code",
   "execution_count": null,
   "metadata": {},
   "outputs": [],
   "source": [
    "df.plot(y='Antal vårdtillfällen >48 tim',figsize=(18,12))"
   ]
  },
  {
   "cell_type": "code",
   "execution_count": null,
   "metadata": {},
   "outputs": [],
   "source": [
    "title = 'SWEDEN ICU monthly statistics Jan 2018 - {}\\nDataSource : http://portal.icuregswe.org/utdata/sv/home'.format(\n",
    "    last_date.date())\n",
    "\n",
    "axes = df.plot(y=['Antal vårdtillfällen','Antal vårdtillfällen >48 tim','Antal personer','Platser'],\n",
    "        subplots=True,style=['ro--','go--','bo--','ko--'],title=title,\n",
    "        figsize=(18,12))\n",
    "\n",
    "axes[0].set_ylabel('Nr ICU transactions')\n",
    "axes[1].set_ylabel('Nr ICU transactions')\n",
    "axes[2].set_ylabel('Nr individuals')\n",
    "axes[3].set_ylabel('Avg daily nr of beds')\n",
    "\n",
    "legends = ['Nr ICU Transactions','Nr ICU Transactions, duration > 48h',\n",
    "           'Nr individuals','Nr Beds occupied (daily avg)']\n",
    "\n",
    "for n,ax in enumerate(axes):\n",
    "    ax.legend([legends[n]])\n",
    "\n",
    "plt.savefig('swe_iva_stats.jpg',format='jpg')"
   ]
  },
  {
   "cell_type": "code",
   "execution_count": null,
   "metadata": {},
   "outputs": [],
   "source": [
    "df.describe()"
   ]
  },
  {
   "cell_type": "code",
   "execution_count": null,
   "metadata": {},
   "outputs": [],
   "source": [
    "df_beds"
   ]
  },
  {
   "cell_type": "code",
   "execution_count": null,
   "metadata": {},
   "outputs": [],
   "source": [
    "df_beds.describe()"
   ]
  },
  {
   "cell_type": "code",
   "execution_count": null,
   "metadata": {},
   "outputs": [],
   "source": [
    "df_beds.loc['2020-03-31': '2020-05-31'].plot(figsize=(18,12))"
   ]
  },
  {
   "cell_type": "code",
   "execution_count": null,
   "metadata": {},
   "outputs": [],
   "source": [
    "df"
   ]
  },
  {
   "cell_type": "code",
   "execution_count": null,
   "metadata": {},
   "outputs": [],
   "source": [
    "df_sums = pd.DataFrame(df['Antal vårdtillfällen'] + df['Antal vårdtillfällen >48 tim'],\n",
    "                       columns=['Total ICU Transactions'])\n",
    "df_sums"
   ]
  },
  {
   "cell_type": "code",
   "execution_count": null,
   "metadata": {},
   "outputs": [],
   "source": [
    "idx = df_sums.index.format(lambda x : x.strftime('%Y-%m-%d'))\n",
    "idx = idx[1:]\n",
    "\n",
    "df_sums['date'] = idx\n",
    "title = 'SWE monthly all ICU transactions'\n",
    "df_sums.set_index('date').plot(kind='bar',figsize=(18,12),title=title)\n",
    "plt.savefig('swe_iva_combined_transactions.jpg',format='jpg')"
   ]
  },
  {
   "cell_type": "code",
   "execution_count": null,
   "metadata": {},
   "outputs": [],
   "source": [
    "df_sums"
   ]
  },
  {
   "cell_type": "code",
   "execution_count": null,
   "metadata": {},
   "outputs": [],
   "source": [
    "sums = df_sums.groupby([df_sums.index.year,df_sums.index.month]).sum()\n",
    "sums"
   ]
  },
  {
   "cell_type": "code",
   "execution_count": null,
   "metadata": {},
   "outputs": [],
   "source": [
    "mask = sums.index.get_level_values(1) < 11\n",
    "sums[mask]"
   ]
  },
  {
   "cell_type": "code",
   "execution_count": null,
   "metadata": {},
   "outputs": [],
   "source": []
  },
  {
   "cell_type": "code",
   "execution_count": null,
   "metadata": {},
   "outputs": [],
   "source": [
    "sums_YTD = sums[mask].groupby(sums[mask].index.get_level_values(0)).sum()\n",
    "sums_YTD"
   ]
  },
  {
   "cell_type": "code",
   "execution_count": null,
   "metadata": {},
   "outputs": [],
   "source": [
    "title = 'SWEDEN ICU all transactions 2015 - 2020 for period January 1:st - {} {}:st'.format(\n",
    "    pd.to_datetime(last_date).month_name(),last_date.date().day)\n",
    "\n",
    "sums_YTD.plot(kind='bar',figsize=(18,12),title=title)\n",
    "plt.savefig('swe_iva_all_trans_cum_ytd.jpg',format='jpg')"
   ]
  },
  {
   "cell_type": "code",
   "execution_count": null,
   "metadata": {},
   "outputs": [],
   "source": [
    "monthly = sums.unstack()\n",
    "monthly.columns = range(1,13)\n",
    "monthly"
   ]
  },
  {
   "cell_type": "code",
   "execution_count": null,
   "metadata": {},
   "outputs": [],
   "source": [
    "monthly.loc[:,:10].sum(axis=1)"
   ]
  },
  {
   "cell_type": "code",
   "execution_count": null,
   "metadata": {},
   "outputs": [],
   "source": [
    "pd.to_datetime(last_date).month_name()"
   ]
  },
  {
   "cell_type": "code",
   "execution_count": null,
   "metadata": {},
   "outputs": [],
   "source": [
    "df_beds"
   ]
  },
  {
   "cell_type": "code",
   "execution_count": null,
   "metadata": {},
   "outputs": [],
   "source": [
    "df_beds_weekly_avg = df_beds.resample('w').mean()\n",
    "df_beds_weekly_avg"
   ]
  },
  {
   "cell_type": "code",
   "execution_count": null,
   "metadata": {},
   "outputs": [],
   "source": [
    "(df_beds_weekly_avg - df_beds_weekly_avg.shift())[:-1].plot(figsize=(18,12),style='o--')"
   ]
  },
  {
   "cell_type": "code",
   "execution_count": null,
   "metadata": {},
   "outputs": [],
   "source": [
    "### yearly cumsum ...?\n",
    "year = df_beds_weekly_avg.index.year\n",
    "df_beds_weekly_avg.groupby(year).cumsum().plot()"
   ]
  },
  {
   "cell_type": "code",
   "execution_count": null,
   "metadata": {},
   "outputs": [],
   "source": [
    "daily_beds = df_beds.resample('D').mean()\n",
    "daily_beds"
   ]
  },
  {
   "cell_type": "code",
   "execution_count": null,
   "metadata": {},
   "outputs": [],
   "source": [
    "(daily_beds - daily_beds.shift()).plot(figsize=(18,12),style='o--')"
   ]
  },
  {
   "cell_type": "code",
   "execution_count": null,
   "metadata": {},
   "outputs": [],
   "source": [
    "(daily_beds - daily_beds.mean()).plot(figsize=(18,12),style='o--')"
   ]
  }
 ],
 "metadata": {
  "kernelspec": {
   "display_name": "Python 3",
   "language": "python",
   "name": "python3"
  },
  "language_info": {
   "codemirror_mode": {
    "name": "ipython",
    "version": 3
   },
   "file_extension": ".py",
   "mimetype": "text/x-python",
   "name": "python",
   "nbconvert_exporter": "python",
   "pygments_lexer": "ipython3",
   "version": "3.8.6"
  }
 },
 "nbformat": 4,
 "nbformat_minor": 4
}
