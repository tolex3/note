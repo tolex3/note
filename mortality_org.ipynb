{
 "cells": [
  {
   "cell_type": "code",
   "execution_count": null,
   "metadata": {},
   "outputs": [],
   "source": [
    "import pandas as pd\n",
    "import matplotlib.pyplot as plt\n",
    "import seaborn as sns\n",
    "import numpy as np\n",
    "\n",
    "import pymc3 as pm\n",
    "import arviz as az\n",
    "\n",
    "sns.set()\n"
   ]
  },
  {
   "cell_type": "code",
   "execution_count": null,
   "metadata": {},
   "outputs": [],
   "source": [
    "meta_df = pd.read_excel('mortality_org.xlsx',sheet_name='Description',skiprows=21,usecols=[1,8])\n",
    "meta_df.dropna(inplace=True)\n",
    "meta_df"
   ]
  },
  {
   "cell_type": "code",
   "execution_count": null,
   "metadata": {},
   "outputs": [],
   "source": [
    "nordic_abbs = ['SWE','FIN','NOR','DNK','ISL']\n",
    "\n",
    "#must fix explicit ref's to countries below, e.g. swe,fin,nor etc before using other countries\n",
    "#high_hit_abbs = ['SWE','BEL','ESP','ITA','GBRTENW','USA']\n",
    "\n",
    "abbs = nordic_abbs"
   ]
  },
  {
   "cell_type": "code",
   "execution_count": null,
   "metadata": {},
   "outputs": [],
   "source": [
    "df = pd.DataFrame()\n",
    "\n",
    "for a in abbs:\n",
    "    temp = pd.read_excel('mortality_org.xlsx',sheet_name=a,skiprows=2)\n",
    "    \n",
    "    df = pd.concat([df,temp],axis=0)"
   ]
  },
  {
   "cell_type": "code",
   "execution_count": null,
   "metadata": {},
   "outputs": [],
   "source": [
    "# the col Total.1 represents mortality, and is obtained by dividing Total with population and mult by 52\n",
    "\n",
    "df"
   ]
  },
  {
   "cell_type": "code",
   "execution_count": null,
   "metadata": {},
   "outputs": [],
   "source": [
    "df_2020 = (df[(df.loc[:,'Sex'] == 'b') & (df['Year'] == 2020)]).copy()\n",
    "\n",
    "df_2020.rename(columns={'0-14.1': 'age_grp_0-14','15-64.1' : 'age_grp_15-64',\n",
    "                      '65-74.1' : 'age_grp_65-74', '75-84.1' : 'age_grp_75-84',\n",
    "                      '85+.1' : 'age_grp_85+','Total.1' : 'all_age_grp'},inplace=True)\n",
    "df_2020"
   ]
  },
  {
   "cell_type": "code",
   "execution_count": null,
   "metadata": {},
   "outputs": [],
   "source": [
    "df_timeline = (df[(df.loc[:,'Sex'] == 'b')]).copy()\n",
    "df_timeline.rename(columns={'0-14.1': 'age_grp_0-14','15-64.1' : 'age_grp_15-64',\n",
    "                      '65-74.1' : 'age_grp_65-74', '75-84.1' : 'age_grp_75-84',\n",
    "                      '85+.1' : 'age_grp_85+','Total.1' : 'all_age_grp'},inplace=True)\n",
    "df_timeline"
   ]
  },
  {
   "cell_type": "code",
   "execution_count": null,
   "metadata": {},
   "outputs": [],
   "source": [
    "def year_week_2_date(y,w):\n",
    "    return pd.to_datetime(str(y) + ' ' + str(w) + ' 0',format='%Y %W %w')\n",
    "\n",
    "\n",
    "df_timeline.index = df_timeline.apply(lambda row : year_week_2_date(row.Year,row.Week),axis=1)\n",
    "df_timeline"
   ]
  },
  {
   "cell_type": "code",
   "execution_count": null,
   "metadata": {},
   "outputs": [],
   "source": []
  },
  {
   "cell_type": "code",
   "execution_count": null,
   "metadata": {},
   "outputs": [],
   "source": [
    "country_grp = df_timeline.groupby('Country')\n",
    "swe = country_grp.get_group('SWE').resample('Y').mean().loc['2000-01-01' :]\n",
    "fin = country_grp.get_group('FIN').resample('Y').mean().loc['2000-01-01' :]\n",
    "den = country_grp.get_group('DNK').resample('Y').mean().loc['2000-01-01' :]\n",
    "nor = country_grp.get_group('NOR').resample('Y').mean().loc['2000-01-01' :]\n",
    "isl = country_grp.get_group('ISL').resample('Y').mean().loc['2000-01-01' :]\n",
    "\n",
    "swe"
   ]
  },
  {
   "cell_type": "code",
   "execution_count": null,
   "metadata": {},
   "outputs": [],
   "source": [
    "### note that graph goes beyond 2020, and that the value presented is an avg. of weekly mortality ###\n",
    "\n",
    "\n",
    "title = 'Nordic countries : trend overall mortality rate -2020 YTD\\nDataSource : mortality.org'\n",
    "\n",
    "ax = swe['all_age_grp'].plot(style='yo--',figsize=(18,12),label='SWE',title=title)\n",
    "fin['all_age_grp'].plot(style='bo--',ax=ax,label='FIN')\n",
    "den['all_age_grp'].plot(style='ro--',ax=ax,label='DNK')\n",
    "nor['all_age_grp'].plot(style='ko--',ax=ax,label='NOR')\n",
    "isl['all_age_grp'].plot(style='go--',ax=ax,label='ISL')\n",
    "\n",
    "ax.set_ylabel('mortality')\n",
    "\n",
    "ax.set_ylim([0,0.012])\n",
    "plt.legend(loc='upper left')\n",
    "plt.savefig('nordic_mortality_trend.jpg',format='jpg')"
   ]
  },
  {
   "cell_type": "code",
   "execution_count": null,
   "metadata": {
    "scrolled": false
   },
   "outputs": [],
   "source": [
    "swe_2020 = df_2020.loc[df_2020['Country'] == 'SWE']\n",
    "fin_2020 = df_2020.loc[df_2020['Country'] == 'FIN']\n",
    "den_2020 = df_2020.loc[df_2020['Country'] == 'DNK']\n",
    "nor_2020 = df_2020.loc[df_2020['Country'] == 'NOR']\n",
    "isl_2020 = df_2020.loc[df_2020['Country'] == 'ISL']\n",
    "\n",
    "ax = swe_2020.plot(x='Week',y='all_age_grp',style=['o--'],label='SWE',figsize=(18,12),\n",
    "             title='2020 Weekly Overall Death Rate Nordic Countries\\nDataSource : mortality.org')\n",
    "\n",
    "fin_2020.plot(x='Week',y='all_age_grp',style=['o--'],label='FIN',ax=ax)\n",
    "den_2020.plot(x='Week',y='all_age_grp',style=['o--'],label='DNK',ax=ax)\n",
    "nor_2020.plot(x='Week',y='all_age_grp',style=['o--'],label='NOR',ax=ax)\n",
    "isl_2020.plot(x='Week',y='all_age_grp',style=['yo--'],label='ISL',ax=ax)\n",
    "\n",
    "\n",
    "\n",
    "plt.ylabel('Weekly Death Rate')\n",
    "plt.savefig('mortality_org_overall_death_rate_nor_2020dics.jpg',format='jpg')"
   ]
  },
  {
   "cell_type": "code",
   "execution_count": null,
   "metadata": {},
   "outputs": [],
   "source": [
    "swe_2020"
   ]
  },
  {
   "cell_type": "code",
   "execution_count": null,
   "metadata": {},
   "outputs": [],
   "source": [
    "swe_2020['age_grp_85+'] "
   ]
  },
  {
   "cell_type": "code",
   "execution_count": null,
   "metadata": {},
   "outputs": [],
   "source": [
    "ax = swe_2020.plot(x='Week',y=['age_grp_0-14','age_grp_15-64','age_grp_65-74',\n",
    "                         'age_grp_75-84','age_grp_85+'],style=['o--'] * 5,figsize=(18,12),\n",
    "             title='SWE 2020 Weekly Death Rate Nordic Countries\\nDataSource : mortality.org')\n",
    "\n",
    "plt.ylabel('Weekly Death Rate')"
   ]
  },
  {
   "cell_type": "code",
   "execution_count": null,
   "metadata": {},
   "outputs": [],
   "source": []
  },
  {
   "cell_type": "code",
   "execution_count": null,
   "metadata": {},
   "outputs": [],
   "source": []
  },
  {
   "cell_type": "code",
   "execution_count": null,
   "metadata": {},
   "outputs": [],
   "source": [
    "ax = fin_2020.plot(x='Week',y=['age_grp_0-14','age_grp_15-64','age_grp_65-74',\n",
    "                         'age_grp_75-84','age_grp_85+'],style=['o--'] * 5,figsize=(18,12),\n",
    "             title='FIN 2020 Weekly Mortality Nordic Countries\\nDataSource : mortality.org')"
   ]
  },
  {
   "cell_type": "code",
   "execution_count": null,
   "metadata": {},
   "outputs": [],
   "source": [
    "ax = den_2020.plot(x='Week',y=['age_grp_0-14','age_grp_15-64','age_grp_65-74',\n",
    "                         'age_grp_75-84','age_grp_85+'],style=['o--'] * 5,figsize=(18,12),\n",
    "             title='DNK 2020 Weekly Mortality Nordic Countries\\nDataSource : mortality.org')"
   ]
  },
  {
   "cell_type": "code",
   "execution_count": null,
   "metadata": {},
   "outputs": [],
   "source": [
    "ax = nor_2020.plot(x='Week',y=['age_grp_0-14','age_grp_15-64','age_grp_65-74',\n",
    "                         'age_grp_75-84','age_grp_85+'],style=['o--'] * 5,figsize=(18,12),\n",
    "             title='NOR 2020 Weekly Mortality Nordic Countries\\nDataSource : mortality.org')"
   ]
  },
  {
   "cell_type": "code",
   "execution_count": null,
   "metadata": {},
   "outputs": [],
   "source": [
    "ax = isl_2020.plot(x='Week',y=['age_grp_0-14','age_grp_15-64','age_grp_65-74',\n",
    "                         'age_grp_75-84','age_grp_85+'],style=['o--'] * 5,figsize=(18,12),\n",
    "             title='ISL 2020 Weekly Mortality Nordic Countries\\nDataSource : mortality.org')"
   ]
  },
  {
   "cell_type": "code",
   "execution_count": null,
   "metadata": {},
   "outputs": [],
   "source": [
    "ax = swe_2020.plot(x='Week',y='age_grp_0-14',style='o--',figsize=(18,12),label='SWE 0-14',\n",
    "             title='2020 Weekly Death Rate per age group Nordic Countries\\nDataSource : mortality.org')\n",
    "\n",
    "fin_2020.plot(x='Week',y='age_grp_0-14',style='o--',ax=ax,label='FIN 0-14')\n",
    "den_2020.plot(x='Week',y='age_grp_0-14',style='o--',ax=ax,label='DNK 0-14')\n",
    "nor_2020.plot(x='Week',y='age_grp_0-14',style='o--',ax=ax,label='NOR 0-14')\n",
    "isl_2020.plot(x='Week',y='age_grp_0-14',style='yo--',ax=ax,label='ISL 0-14')\n",
    "\n",
    "plt.ylabel('Weekly Death Rate')\n",
    "plt.savefig ('mortality_org_0_14.jpg',format='jpg')"
   ]
  },
  {
   "cell_type": "code",
   "execution_count": null,
   "metadata": {},
   "outputs": [],
   "source": [
    "ax = swe_2020.plot(x='Week',y='age_grp_15-64',style='o--',figsize=(18,12),label='SWE 15-64',\n",
    "             title='2020 Weekly Death Rate per age group Nordic Countries\\nDataSource : mortality.org')\n",
    "\n",
    "fin_2020.plot(x='Week',y='age_grp_15-64',style='o--',ax=ax,label='FIN 15-64')\n",
    "den_2020.plot(x='Week',y='age_grp_15-64',style='o--',ax=ax,label='DNK 15-64')\n",
    "nor_2020.plot(x='Week',y='age_grp_15-64',style='o--',ax=ax,label='NOR 15-64')\n",
    "isl_2020.plot(x='Week',y='age_grp_15-64',style='yo--',ax=ax,label='ISL 15-64')\n",
    "\n",
    "plt.ylabel('Weekly Death Rate')\n",
    "\n",
    "plt.savefig('mortality_org_15_64.jpg',format='jpg')"
   ]
  },
  {
   "cell_type": "code",
   "execution_count": null,
   "metadata": {},
   "outputs": [],
   "source": [
    "ax = swe_2020.plot(x='Week',y='age_grp_65-74',style='o--',figsize=(18,12),label='SWE 65-74',\n",
    "             title='2020 Weekly Death Rate per age group Nordic Countries\\nDataSource : mortality.org')\n",
    "\n",
    "fin_2020.plot(x='Week',y='age_grp_65-74',style='o--',ax=ax,label='FIN 65-74')\n",
    "den_2020.plot(x='Week',y='age_grp_65-74',style='o--',ax=ax,label='DNK 65-74')\n",
    "nor_2020.plot(x='Week',y='age_grp_65-74',style='o--',ax=ax,label='NOR 65-74')\n",
    "isl_2020.plot(x='Week',y='age_grp_65-74',style='yo--',ax=ax,label='ISL 65-74')\n",
    "\n",
    "plt.ylabel('Weekly Death Rate')\n",
    "\n",
    "plt.savefig('mortality_org_65_74.jpg',format='jpg')"
   ]
  },
  {
   "cell_type": "code",
   "execution_count": null,
   "metadata": {},
   "outputs": [],
   "source": [
    "ax = swe_2020.plot(x='Week',y='age_grp_75-84',style='o--',figsize=(18,12),label='SWE 75-84',\n",
    "             title='2020 Weekly Death Rate per age group Nordic Countries\\nDataSource : mortality.org')\n",
    "\n",
    "fin_2020.plot(x='Week',y='age_grp_75-84',style='o--',ax=ax,label='FIN 75-84')\n",
    "den_2020.plot(x='Week',y='age_grp_75-84',style='o--',ax=ax,label='DNK 75-84')\n",
    "nor_2020.plot(x='Week',y='age_grp_75-84',style='o--',ax=ax,label='NOR 75-84')\n",
    "isl_2020.plot(x='Week',y='age_grp_75-84',style='yo--',ax=ax,label='ISL 75-84')\n",
    "\n",
    "plt.ylabel('Weekly Death Rate')\n",
    "\n",
    "plt.savefig('mortality_org_75_84.jpg',format='jpg')"
   ]
  },
  {
   "cell_type": "code",
   "execution_count": null,
   "metadata": {},
   "outputs": [],
   "source": [
    "ax = swe_2020.plot(x='Week',y='age_grp_85+',style='o--',figsize=(18,12),label='SWE 85+',\n",
    "             title='2020 Weekly Death Rate per age group Nordic Countries\\nDataSource : mortality.org')\n",
    "\n",
    "fin_2020.plot(x='Week',y='age_grp_85+',style='o--',ax=ax,label='FIN 85+')\n",
    "den_2020.plot(x='Week',y='age_grp_85+',style='o--',ax=ax,label='DNK 85+')\n",
    "nor_2020.plot(x='Week',y='age_grp_85+',style='o--',ax=ax,label='NOR 85+')\n",
    "isl_2020.plot(x='Week',y='age_grp_85+',style='yo--',ax=ax,label='ISL 85+')\n",
    "\n",
    "plt.ylabel('Weekly Death Rate')\n",
    "\n",
    "plt.savefig('mortality_org_85+.jpg',format='jpg')"
   ]
  },
  {
   "cell_type": "code",
   "execution_count": null,
   "metadata": {},
   "outputs": [],
   "source": [
    "swe_2020['all_age_grp']"
   ]
  },
  {
   "cell_type": "code",
   "execution_count": null,
   "metadata": {},
   "outputs": [],
   "source": [
    "swe_2020['Total'].sum() / (10.23e6 * len(swe_2020)/52)\n",
    "\n"
   ]
  },
  {
   "cell_type": "code",
   "execution_count": null,
   "metadata": {},
   "outputs": [],
   "source": [
    "swe_2020"
   ]
  },
  {
   "cell_type": "code",
   "execution_count": null,
   "metadata": {},
   "outputs": [],
   "source": [
    "swe_2020['Total'] / 10.23e6 *52"
   ]
  },
  {
   "cell_type": "code",
   "execution_count": null,
   "metadata": {},
   "outputs": [],
   "source": [
    "def age_grp_mean(col):\n",
    "    return col.mean()\n",
    "\n",
    "age_grp_mean(swe_2020['age_grp_0-14'])\n",
    "age_grp_mean(swe_2020['age_grp_15-64'])\n",
    "age_grp_mean(swe_2020['age_grp_65-74'])\n",
    "age_grp_mean(swe_2020['age_grp_75-84'])\n",
    "age_grp_mean(swe_2020['age_grp_85+'])"
   ]
  },
  {
   "cell_type": "code",
   "execution_count": null,
   "metadata": {},
   "outputs": [],
   "source": [
    "df_2020"
   ]
  },
  {
   "cell_type": "code",
   "execution_count": null,
   "metadata": {},
   "outputs": [],
   "source": [
    "fig,axes = plt.subplots(5,1,figsize=(18,12),sharex=True)\n",
    "\n",
    "\n",
    "title='Nordic Countries 2020 death rate distribution, age group 0-14'\n",
    "sns.violinplot(x='Country',y='age_grp_0-14',data=df_2020,ax=axes[0])\n",
    "axes[0].set_title(title)\n",
    "axes[0].set_ylabel('death rate')\n",
    "\n",
    "title='Nordic Countries 2020 death rate distribution, age group 15-64'\n",
    "sns.violinplot(x='Country',y='age_grp_15-64',data=df_2020,ax=axes[1])\n",
    "axes[1].set_title(title)\n",
    "axes[1].set_ylabel('death rate')\n",
    "\n",
    "title='Nordic Countries 2020 death rate distribution, age group 65-74'\n",
    "sns.violinplot(x='Country',y='age_grp_65-74',data=df_2020,ax=axes[2])\n",
    "axes[2].set_title(title)\n",
    "axes[2].set_ylabel('death rate')\n",
    "\n",
    "title='Nordic Countries 2020 death rate distribution, age group 75-84'\n",
    "sns.violinplot(x='Country',y='age_grp_75-84',data=df_2020,ax=axes[3])\n",
    "axes[3].set_title(title)\n",
    "axes[3].set_ylabel('death rate')\n",
    "\n",
    "title='Nordic Countries 2020 death rate distribution, age group 85+'\n",
    "sns.violinplot(x='Country',y='age_grp_85+',data=df_2020,ax=axes[4])\n",
    "axes[4].set_title(title)\n",
    "axes[4].set_ylabel('death rate')\n",
    "\n",
    "plt.tight_layout()\n",
    "\n",
    "plt.savefig('nor_2020dic_death_rate_distr.jpg',format='jpg')"
   ]
  },
  {
   "cell_type": "code",
   "execution_count": null,
   "metadata": {},
   "outputs": [],
   "source": [
    "plt.figure(figsize=(18,12))\n",
    "plt.title('Nordic countries 2020 weekly death rate distribution, all age groups')\n",
    "sns.violinplot(x='Country',y='all_age_grp',data=df_2020)\n",
    "plt.ylabel('death rate distribution')\n",
    "\n",
    "plt.savefig('nor_2020dic_death_distr_all_ages.jpg',format='jpg')"
   ]
  },
  {
   "cell_type": "code",
   "execution_count": null,
   "metadata": {
    "scrolled": false
   },
   "outputs": [],
   "source": [
    "\n",
    "transaction_df = df_2020[['Country','age_grp_0-14','age_grp_15-64']].copy()\n",
    "#transaction_df['age_grp_0-14'].apply()"
   ]
  },
  {
   "cell_type": "code",
   "execution_count": null,
   "metadata": {},
   "outputs": [],
   "source": [
    "tips = sns.load_dataset('tips')\n",
    "tips"
   ]
  },
  {
   "cell_type": "code",
   "execution_count": null,
   "metadata": {},
   "outputs": [],
   "source": [
    "df_timeline = df_timeline.loc['2007-01-01' :]\n",
    "df_timeline"
   ]
  },
  {
   "cell_type": "code",
   "execution_count": null,
   "metadata": {},
   "outputs": [],
   "source": [
    "unique_countries = df_timeline['Country'].unique()\n",
    "country_idx_map = dict(zip(unique_countries,range(len(unique_countries))))\n",
    "country_idx_map"
   ]
  },
  {
   "cell_type": "code",
   "execution_count": null,
   "metadata": {
    "scrolled": false
   },
   "outputs": [],
   "source": [
    "unique_dates = np.unique(df_timeline.index)\n",
    "date_idx_map = dict(zip(pd.to_datetime(unique_dates),range(len(unique_dates))))\n"
   ]
  },
  {
   "cell_type": "code",
   "execution_count": null,
   "metadata": {},
   "outputs": [],
   "source": [
    "df_timeline['country_idx'] = df_timeline['Country'].apply(lambda x : country_idx_map[x])\n",
    "df_timeline"
   ]
  },
  {
   "cell_type": "code",
   "execution_count": null,
   "metadata": {},
   "outputs": [],
   "source": [
    "week_idx = df_timeline.reset_index()['index'].apply(lambda x : date_idx_map[x])"
   ]
  },
  {
   "cell_type": "code",
   "execution_count": null,
   "metadata": {},
   "outputs": [],
   "source": [
    "df_timeline['week_idx'] = week_idx.values\n",
    "df_timeline"
   ]
  },
  {
   "cell_type": "code",
   "execution_count": null,
   "metadata": {},
   "outputs": [],
   "source": [
    "df_timeline.loc[df_timeline['Country'] == 'NOR']"
   ]
  },
  {
   "cell_type": "code",
   "execution_count": null,
   "metadata": {},
   "outputs": [],
   "source": [
    "last_date = df_timeline.index.max().date()\n",
    "last_date"
   ]
  },
  {
   "cell_type": "code",
   "execution_count": null,
   "metadata": {},
   "outputs": [],
   "source": [
    "plt.scatter(df_timeline.loc[df_timeline['Country'] == 'SWE']['week_idx'],\n",
    "            df_timeline.loc[df_timeline['Country']=='SWE']['all_age_grp'])"
   ]
  },
  {
   "cell_type": "code",
   "execution_count": null,
   "metadata": {},
   "outputs": [],
   "source": [
    "\n",
    "x = df_timeline['week_idx'].values\n",
    "x"
   ]
  },
  {
   "cell_type": "code",
   "execution_count": null,
   "metadata": {},
   "outputs": [],
   "source": [
    "def standardize(series):\n",
    "    return (series - series.mean()) / series.std()\n",
    "\n",
    "model = pm.Model()\n",
    "scale_outcome = 1000\n",
    "\n",
    "\n",
    "def regression(outcome='all_age_grp'):\n",
    "\n",
    "    week_idx = df_timeline['week_idx'].values\n",
    "    country_idx = df_timeline['country_idx'].values\n",
    "\n",
    "\n",
    "    \n",
    "    with model:\n",
    "\n",
    "        alpha = pm.Normal('alpha',0,1,shape=len(unique_countries))\n",
    "        beta = pm.Normal('beta',0, 1,shape=len(unique_countries))\n",
    "\n",
    "        sigma = pm.Uniform('sigma',0,5)\n",
    "\n",
    "        mu = pm.Deterministic('mu',alpha[country_idx] + standardize(x) * beta[country_idx])\n",
    "\n",
    "        obs = pm.Normal('obs',mu,sigma,observed=df_timeline[outcome] * scale_outcome) \n",
    "\n",
    "        trace = pm.sample(2000,tune=2000)\n",
    "        \n",
    "        return trace"
   ]
  },
  {
   "cell_type": "code",
   "execution_count": null,
   "metadata": {},
   "outputs": [],
   "source": [
    "df_timeline.head()"
   ]
  },
  {
   "cell_type": "code",
   "execution_count": null,
   "metadata": {},
   "outputs": [],
   "source": [
    "outcome = 'age_grp_85+'\n",
    "\n",
    "trace=regression(outcome)"
   ]
  },
  {
   "cell_type": "code",
   "execution_count": null,
   "metadata": {},
   "outputs": [],
   "source": [
    "with model:\n",
    "    print (az.summary(trace,var_names=['~mu'],hdi_prob=0.89))"
   ]
  },
  {
   "cell_type": "code",
   "execution_count": null,
   "metadata": {},
   "outputs": [],
   "source": [
    "with model:\n",
    "    az.plot_posterior(trace,var_names=['beta'],hdi_prob=0.89)"
   ]
  },
  {
   "cell_type": "code",
   "execution_count": null,
   "metadata": {
    "scrolled": false
   },
   "outputs": [],
   "source": [
    "def plot_reg(outcome):\n",
    "    \n",
    "    fin_beta = trace['beta'][:,1].mean() / scale_outcome\n",
    "    fin_alpha = trace['alpha'][:,1].mean() / scale_outcome\n",
    "    swe_beta = trace['beta'][:,0].mean() / scale_outcome\n",
    "    swe_alpha = trace['alpha'][:,0].mean() / scale_outcome\n",
    "    nor_beta = trace['beta'][:,2].mean() / scale_outcome\n",
    "    nor_alpha = trace['alpha'][:,2].mean() / scale_outcome\n",
    "    den_beta = trace['beta'][:,3].mean() / scale_outcome\n",
    "    den_alpha = trace['alpha'][:,3].mean() / scale_outcome\n",
    "    isl_beta = trace['beta'][:,4].mean() / scale_outcome\n",
    "    isl_alpha = trace['alpha'][:,4].mean() / scale_outcome\n",
    "    \n",
    "    \n",
    "    fin_hdi_kwargs = {'color':'lightblue','alpha':1.0,'label' : 'FIN'}\n",
    "    swe_hdi_kwargs = {'color' : 'yellow','alpha' : 1.0,'label' : 'SWE'}\n",
    "    den_hdi_kwargs = {'color' : 'orange','alpha' : 1.0,'label' : 'DNK'}\n",
    "    nor_hdi_kwargs = {'color' : 'lime','alpha' : 1.0,'label' : 'NOR'}\n",
    "    isl_hdi_kwargs = {'color' : 'cyan','alpha' : 1.0,'label' : 'ISL'}\n",
    "\n",
    "    numeric_timeline = df_timeline.reset_index().copy()\n",
    "\n",
    "    hdi_swe_x = numeric_timeline.loc[numeric_timeline['Country'] == 'SWE']['week_idx']\n",
    "    hdi_fin_x = numeric_timeline.loc[numeric_timeline['Country'] == 'FIN']['week_idx']\n",
    "    hdi_den_x = numeric_timeline.loc[numeric_timeline['Country'] == 'DNK']['week_idx']\n",
    "    hdi_nor_x = numeric_timeline.loc[numeric_timeline['Country'] == 'NOR']['week_idx']\n",
    "    hdi_isl_x = numeric_timeline.loc[numeric_timeline['Country'] == 'ISL']['week_idx']\n",
    "\n",
    "\n",
    "    swe_num = numeric_timeline.loc[numeric_timeline['Country'] == 'SWE']\n",
    "    swe_idx = swe_num.index.values\n",
    "    hdi_swe_mu = trace['mu'][:,swe_idx]\n",
    "\n",
    "    fin_num = numeric_timeline.loc[numeric_timeline['Country'] == 'FIN']\n",
    "    fin_idx = fin_num.index.values\n",
    "    hdi_fin_mu = trace['mu'][:,fin_idx]\n",
    "\n",
    "    den_num = numeric_timeline.loc[numeric_timeline['Country'] == 'DNK']\n",
    "    den_idx = den_num.index.values\n",
    "    hdi_den_mu = trace['mu'][:,den_idx]\n",
    "\n",
    "    nor_num = numeric_timeline.loc[numeric_timeline['Country'] == 'NOR']\n",
    "    nor_idx = nor_num.index.values\n",
    "    hdi_nor_mu = trace['mu'][:,nor_idx]\n",
    "\n",
    "    isl_num = numeric_timeline.loc[numeric_timeline['Country'] == 'ISL']\n",
    "    isl_idx = isl_num.index.values\n",
    "    hdi_isl_mu = trace['mu'][:,isl_idx]\n",
    "\n",
    "    fig,axes = plt.subplots(2,3,sharex=True,sharey=True,figsize=(18,12))\n",
    "\n",
    "    plt.suptitle('Nordic countries : mortality trends for [{}]'.format(outcome) +\\\n",
    "                 ' based on weekly death rates Jan 2007 - {}'.format(last_date))\n",
    "\n",
    "\n",
    "    axes[0,0].plot(hdi_swe_x,\n",
    "            (trace['alpha'][0,0].mean() + \\\n",
    "               standardize(numeric_timeline.loc[numeric_timeline['Country'] \\\n",
    "                                           == 'SWE']['week_idx']) * trace['beta'][:,0].mean()) / scale_outcome,\n",
    "            '--',color='k',lw=1)\n",
    "\n",
    "\n",
    "\n",
    "    axes[0,0].scatter(df_timeline.loc[df_timeline['Country'] == 'SWE']['week_idx'],\n",
    "                df_timeline.loc[df_timeline['Country']=='SWE'][outcome],color='lightgrey',alpha=0.3)\n",
    "\n",
    "    az.plot_hdi(hdi_swe_x,hdi_swe_mu / scale_outcome,hdi_prob=0.89,ax=axes[0,0],fill_kwargs=swe_hdi_kwargs)\n",
    "    \n",
    "    axes[0,0].axvline(x.mean(),ls='dashed',color='orange')\n",
    "\n",
    "    ##\n",
    "\n",
    "    axes[0,1].plot(hdi_fin_x,\n",
    "            (trace['alpha'][:,1].mean() + \\\n",
    "               standardize(numeric_timeline.loc[numeric_timeline['Country'] \\\n",
    "                                           == 'FIN']['week_idx']) * trace['beta'][:,1].mean()) / scale_outcome,\n",
    "            '--',color='k',lw=1)\n",
    "\n",
    "\n",
    "    axes[0,1].scatter(df_timeline.loc[df_timeline['Country'] == 'FIN']['week_idx'],\n",
    "                df_timeline.loc[df_timeline['Country']=='FIN'][outcome],color='lightgrey',alpha=0.3)\n",
    "\n",
    "    az.plot_hdi(hdi_fin_x,hdi_fin_mu / scale_outcome,hdi_prob=0.89,ax=axes[0,1],fill_kwargs=fin_hdi_kwargs)\n",
    "    \n",
    "    axes[0,1].axvline(x.mean(),ls='dashed',color='orange')\n",
    "\n",
    "\n",
    "    ##\n",
    "\n",
    "    axes[0,2].plot(hdi_den_x,\n",
    "            (trace['alpha'][:,3].mean() + \\\n",
    "               standardize(numeric_timeline.loc[numeric_timeline['Country'] \\\n",
    "                                           == 'DNK']['week_idx']) * trace['beta'][:,3].mean()) / scale_outcome,\n",
    "            '--',color='k',lw=1)\n",
    "\n",
    "\n",
    "    axes[0,2].scatter(df_timeline.loc[df_timeline['Country'] == 'DNK']['week_idx'],\n",
    "                df_timeline.loc[df_timeline['Country']=='DNK'][outcome],color='lightgrey',alpha=0.3)\n",
    "\n",
    "    az.plot_hdi(hdi_den_x,hdi_den_mu / scale_outcome,hdi_prob=0.89,ax=axes[0,2],fill_kwargs=den_hdi_kwargs)\n",
    "    \n",
    "    axes[0,2].axvline(x.mean(),ls='dashed',color='orange')\n",
    "\n",
    "\n",
    "    ##\n",
    "    axes[1,0].plot(hdi_nor_x,\n",
    "            (trace['alpha'][:,2].mean() + \\\n",
    "               standardize(numeric_timeline.loc[numeric_timeline['Country'] \\\n",
    "                                           == 'NOR']['week_idx']) * trace['beta'][:,2].mean()) / scale_outcome,\n",
    "            '--',color='k',lw=1)\n",
    "\n",
    "\n",
    "    axes[1,0].scatter(df_timeline.loc[df_timeline['Country'] == 'NOR']['week_idx'],\n",
    "                df_timeline.loc[df_timeline['Country']=='NOR'][outcome],color='lightgrey',alpha=0.3)\n",
    "\n",
    "    az.plot_hdi(hdi_nor_x,hdi_nor_mu / scale_outcome,hdi_prob=0.89,ax=axes[1,0],fill_kwargs=nor_hdi_kwargs)\n",
    "    \n",
    "    axes[1,0].axvline(x.mean(),ls='dashed',color='orange')\n",
    "\n",
    "\n",
    "    ##\n",
    "\n",
    "    axes[1,1].plot(hdi_isl_x,\n",
    "            (trace['alpha'][:,4].mean() + \\\n",
    "               standardize(numeric_timeline.loc[numeric_timeline['Country'] \\\n",
    "                                           == 'ISL']['week_idx']) * trace['beta'][:,4].mean()) / scale_outcome,\n",
    "            '--',color='k',lw=1)\n",
    "\n",
    "\n",
    "    axes[1,1].scatter(df_timeline.loc[df_timeline['Country'] == 'ISL']['week_idx'],\n",
    "                df_timeline.loc[df_timeline['Country']=='ISL'][outcome],color='lightgrey',alpha=0.3)\n",
    "\n",
    "    az.plot_hdi(hdi_isl_x,hdi_isl_mu / scale_outcome,hdi_prob=0.89,ax=axes[1,1],fill_kwargs=isl_hdi_kwargs)\n",
    "    \n",
    "    axes[1,1].axvline(x.mean(),ls='dashed',color='orange')\n",
    "\n",
    "\n",
    "    plt.legend(loc='upper center')\n",
    "\n",
    "    axes[1,0].set_xlabel('week number')\n",
    "    axes[1,1].set_xlabel('week_number')\n",
    "    axes[1,2].set_xlabel('week_number')\n",
    "\n",
    "    axes[0,0].set_title(r'SWE $\\alpha$ : {:.4f}   $\\beta$ : {:.6f}'.format(swe_alpha,swe_beta))\n",
    "    axes[0,1].set_title(r'FIN $\\alpha$ : {:.4f}   $\\beta$ : {:.6f}'.format(fin_alpha,fin_beta))\n",
    "    axes[0,2].set_title(r'DNK $\\alpha$ : {:.4f}   $\\beta$ : {:.6f}'.format(den_alpha,den_beta))\n",
    "    axes[1,0].set_title(r'NOR $\\alpha$ : {:.4f}   $\\beta$ : {:.6f}'.format(nor_alpha,nor_beta))\n",
    "    axes[1,1].set_title(r'ISL $\\alpha$ : {:.4f}   $\\beta$ : {:.6f}'.format(isl_alpha,isl_beta))\n",
    "\n",
    "    axes[1,2].axis('off')\n",
    "\n",
    "    plt.savefig('nordic_mortality_bayesian_trends_{}.jpg'.format(outcome),format='jpg')\n",
    "\n"
   ]
  },
  {
   "cell_type": "code",
   "execution_count": null,
   "metadata": {
    "scrolled": false
   },
   "outputs": [],
   "source": [
    "# reported alpha's dont cross at 0 b/c x vals are standardized in calculation : mean at about week 350\n",
    "plot_reg(outcome)"
   ]
  },
  {
   "cell_type": "code",
   "execution_count": null,
   "metadata": {},
   "outputs": [],
   "source": [
    "df_2020"
   ]
  },
  {
   "cell_type": "code",
   "execution_count": null,
   "metadata": {},
   "outputs": [],
   "source": [
    "age_grps_2020 = df_2020[['Country','age_grp_0-14','age_grp_15-64','age_grp_65-74',\n",
    "                        'age_grp_75-84','age_grp_85+','all_age_grp']].copy()\n",
    "\n",
    "age_grps_2020"
   ]
  },
  {
   "cell_type": "code",
   "execution_count": null,
   "metadata": {},
   "outputs": [],
   "source": [
    "country_age_grps = age_grps_2020.groupby('Country')\n",
    "\n",
    "swe_2020 = country_age_grps.get_group('SWE')\n",
    "fin_2020 = country_age_grps.get_group('FIN')\n",
    "nor_2020 = country_age_grps.get_group('NOR')\n",
    "den_2020 = country_age_grps.get_group('DNK')\n",
    "isl_2020 = country_age_grps.get_group('ISL')\n",
    "\n",
    "swe_means = swe_2020.mean()\n",
    "swe_2020_ci = swe_2020.quantile([0.055,0.945])\n",
    "swe_2020_ci = np.abs(swe_2020_ci - swe_means)\n",
    "\n",
    "fin_means = fin_2020.mean()\n",
    "fin_2020_ci = fin_2020.quantile([0.055,0.945])\n",
    "fin_2020_ci = np.abs(fin_2020_ci - fin_means)\n",
    "\n",
    "nor_means = nor_2020.mean()\n",
    "nor_2020_ci = nor_2020.quantile([0.055,0.945])\n",
    "nor_2020_ci = np.abs(nor_2020_ci - nor_means)\n",
    "\n",
    "den_means = den_2020.mean()\n",
    "den_2020_ci = den_2020.quantile([0.055,0.945])\n",
    "den_2020_ci = np.abs(den_2020_ci - den_means)\n",
    "\n",
    "isl_means = isl_2020.mean()\n",
    "isl_2020_ci = isl_2020.quantile([0.055,0.945])\n",
    "isl_2020_ci = np.abs(isl_2020_ci - isl_means)\n",
    "\n",
    "print (swe_means)\n",
    "print (swe_2020_ci.T)\n",
    "\n",
    "swe_2020.describe(percentiles=[0.055,0.945])\n"
   ]
  },
  {
   "cell_type": "code",
   "execution_count": null,
   "metadata": {},
   "outputs": [],
   "source": [
    "all_means = pd.concat([swe_means,fin_means,nor_means,den_means,isl_means],axis=1)\n",
    "all_means.columns=['SWE','FIN','NOR','DNK','ISL']\n",
    "all_means"
   ]
  },
  {
   "cell_type": "code",
   "execution_count": null,
   "metadata": {},
   "outputs": [],
   "source": [
    "all_cis = np.array([swe_2020_ci.values,fin_2020_ci.values,nor_2020_ci.values,\n",
    "                    den_2020_ci.values,isl_2020_ci.values])\n",
    "all_cis.shape"
   ]
  },
  {
   "cell_type": "code",
   "execution_count": null,
   "metadata": {},
   "outputs": [],
   "source": [
    "all_means"
   ]
  },
  {
   "cell_type": "code",
   "execution_count": null,
   "metadata": {},
   "outputs": [],
   "source": [
    "all_means.mean(axis=1)"
   ]
  },
  {
   "cell_type": "code",
   "execution_count": null,
   "metadata": {},
   "outputs": [],
   "source": [
    "all_means.sub(all_means.mean(axis=1),axis=0)"
   ]
  },
  {
   "cell_type": "code",
   "execution_count": null,
   "metadata": {
    "scrolled": false
   },
   "outputs": [],
   "source": [
    "all_means.plot(kind='bar',\n",
    "               figsize=(18,12),yerr=all_cis,error_kw={'capsize' : 5,'ecolor':'k','label' : '89%'},\n",
    "               title='Nordic Countries 2020 age grp mortality from weekly death rates Jan - {}\\nDataSource : mortality.org'.format(last_date))\n",
    "\n",
    "plt.ylabel('mortality')\n",
    "plt.yscale('log')\n",
    "plt.savefig('nordic_mortality_bar_chart.jpg',format='jpg')"
   ]
  },
  {
   "cell_type": "code",
   "execution_count": null,
   "metadata": {},
   "outputs": [],
   "source": [
    "all_means.loc['age_grp_85+'].plot(kind='bar')"
   ]
  },
  {
   "cell_type": "code",
   "execution_count": null,
   "metadata": {},
   "outputs": [],
   "source": [
    "all_means.loc['age_grp_0-14'].plot(kind='bar')"
   ]
  },
  {
   "cell_type": "code",
   "execution_count": null,
   "metadata": {},
   "outputs": [],
   "source": [
    "df_2020.loc[df_2020['Country'] == 'SWE']"
   ]
  },
  {
   "cell_type": "code",
   "execution_count": null,
   "metadata": {},
   "outputs": [],
   "source": [
    "swe_2020_abs = df_2020.loc[df_2020['Country'] == 'SWE'][['0-14','15-64','65-74','75-84','85+']]\n",
    "fin_2020_abs = df_2020.loc[df_2020['Country'] == 'FIN'][['0-14','15-64','65-74','75-84','85+']]\n",
    "den_2020_abs = df_2020.loc[df_2020['Country'] == 'DNK'][['0-14','15-64','65-74','75-84','85+']]\n",
    "nor_2020_abs = df_2020.loc[df_2020['Country'] == 'NOR'][['0-14','15-64','65-74','75-84','85+']]\n",
    "isl_2020_abs = df_2020.loc[df_2020['Country'] == 'ISL'][['0-14','15-64','65-74','75-84','85+']]\n",
    "\n",
    "swe_2020_abs"
   ]
  },
  {
   "cell_type": "code",
   "execution_count": null,
   "metadata": {},
   "outputs": [],
   "source": [
    "swe_2020_abs.sum()"
   ]
  },
  {
   "cell_type": "code",
   "execution_count": null,
   "metadata": {},
   "outputs": [],
   "source": [
    "mortality_pop = true_pop = 10327589\n",
    "\n",
    "swe_mortality_2020 = swe_2020_abs.sum().sum() / true_pop / (len(swe_2020_abs) / 52)\n",
    "swe_mortality_2020"
   ]
  },
  {
   "cell_type": "code",
   "execution_count": null,
   "metadata": {},
   "outputs": [],
   "source": [
    "df_2020"
   ]
  },
  {
   "cell_type": "code",
   "execution_count": null,
   "metadata": {},
   "outputs": [],
   "source": [
    "nordic_age_grp_pop = df_2020.set_index('Country')[['0-14','15-64','65-74','75-84','85+']] /\\\n",
    "df_2020.set_index('Country')[['age_grp_0-14','age_grp_15-64','age_grp_65-74','age_grp_75-84','age_grp_85+']].values\n",
    "\n",
    "nordic_age_grp_pop *= 52\n",
    "nordic_age_grp_pop.dropna(inplace=True)\n",
    "nordic_age_grp_pop"
   ]
  },
  {
   "cell_type": "code",
   "execution_count": null,
   "metadata": {},
   "outputs": [],
   "source": [
    "nordic_age_grp_pop = nordic_age_grp_pop.astype(int)\n",
    "nordic_age_grp_pop"
   ]
  },
  {
   "cell_type": "code",
   "execution_count": null,
   "metadata": {},
   "outputs": [],
   "source": [
    "nordic_age_grp_pop = nordic_age_grp_pop.drop_duplicates()\n",
    "nordic_age_grp_pop"
   ]
  },
  {
   "cell_type": "code",
   "execution_count": null,
   "metadata": {},
   "outputs": [],
   "source": [
    "nordic_age_grp_pop.sum(axis=1)"
   ]
  },
  {
   "cell_type": "code",
   "execution_count": null,
   "metadata": {},
   "outputs": [],
   "source": [
    "swe_2020_mortality = swe_2020_abs / nordic_age_grp_pop.loc['SWE'] * 52\n",
    "fin_2020_mortality = fin_2020_abs / nordic_age_grp_pop.loc['FIN'] * 52\n",
    "den_2020_mortality = den_2020_abs / nordic_age_grp_pop.loc['DNK'] * 52\n",
    "nor_2020_mortality = nor_2020_abs / nordic_age_grp_pop.loc['NOR'] * 52\n",
    "isl_2020_mortality = isl_2020_abs / nordic_age_grp_pop.loc['ISL'] * 52\n",
    "\n",
    "swe_2020_mortality"
   ]
  },
  {
   "cell_type": "code",
   "execution_count": null,
   "metadata": {},
   "outputs": [],
   "source": [
    "print ('SWE',swe_2020_mortality.mean())\n",
    "print ('FIN',fin_2020_mortality.mean())\n",
    "print ('DNK',den_2020_mortality.mean())\n",
    "print ('NOR',nor_2020_mortality.mean())\n",
    "print ('ISL',isl_2020_mortality.mean())"
   ]
  },
  {
   "cell_type": "code",
   "execution_count": null,
   "metadata": {},
   "outputs": [],
   "source": [
    "mortality_avg = pd.DataFrame({'SWE' : swe_2020_mortality.mean(),\n",
    "                             'FIN' : fin_2020_mortality.mean(),\n",
    "                             'DNK' : den_2020_mortality.mean(),\n",
    "                             'NOR' : nor_2020_mortality.mean(),\n",
    "                             'ISL' : isl_2020_mortality.mean()})\n",
    "\n",
    "mortality_avg"
   ]
  },
  {
   "cell_type": "code",
   "execution_count": null,
   "metadata": {},
   "outputs": [],
   "source": [
    "mortality_avg.plot(kind='bar',figsize=(18,12))\n",
    "plt.yscale('log')"
   ]
  },
  {
   "cell_type": "code",
   "execution_count": null,
   "metadata": {},
   "outputs": [],
   "source": [
    "df_2020.head()"
   ]
  },
  {
   "cell_type": "code",
   "execution_count": null,
   "metadata": {},
   "outputs": [],
   "source": [
    "def trans(x):\n",
    "    return x\n",
    "\n",
    "nordic_abs = df_2020.set_index(['Country','Week']).groupby(\n",
    "    'Country')[['0-14','15-64','65-74','75-84','85+']].transform(trans)\n",
    "\n",
    "nordic_abs"
   ]
  },
  {
   "cell_type": "code",
   "execution_count": null,
   "metadata": {},
   "outputs": [],
   "source": [
    "nordic_abs.sum(axis=1).groupby('Country').sum()"
   ]
  },
  {
   "cell_type": "code",
   "execution_count": null,
   "metadata": {},
   "outputs": [],
   "source": [
    "std_pop = nordic_age_grp_pop.loc['DNK']\n",
    "std_pop"
   ]
  },
  {
   "cell_type": "code",
   "execution_count": null,
   "metadata": {},
   "outputs": [],
   "source": [
    "# https://www.healthknowledge.org.uk/e-learning/epidemiology/specialists/standardisation\n",
    "\n",
    "std_abs_deaths = mortality_avg.mul(std_pop,axis=0)\n",
    "std_abs_deaths"
   ]
  },
  {
   "cell_type": "code",
   "execution_count": null,
   "metadata": {},
   "outputs": [],
   "source": [
    "total_age_adj_deaths = std_abs_deaths.sum()\n",
    "total_age_adj_deaths"
   ]
  },
  {
   "cell_type": "code",
   "execution_count": null,
   "metadata": {},
   "outputs": [],
   "source": [
    "age_adj_mortality = total_age_adj_deaths / (std_pop.sum())\n",
    "age_adj_mortality"
   ]
  },
  {
   "cell_type": "code",
   "execution_count": null,
   "metadata": {},
   "outputs": [],
   "source": [
    "title = 'Nordic Countries Age Adjusted [stdPop Denmark] Mortality 2020 YTD week 1 - {} \\nDataSource:mortality.org\\\n",
    "'.format(len(swe_2020))\n",
    "age_adj_mortality.sort_values(ascending=False).plot(kind='bar',figsize=(18,12),color='crimson',title=title)\n",
    "plt.ylabel('mortality')\n",
    "plt.savefig('nordic_age_adj_mortality.jpg',format='jpg')"
   ]
  },
  {
   "cell_type": "code",
   "execution_count": null,
   "metadata": {},
   "outputs": [],
   "source": [
    "all_means.loc['all_age_grp'].sort_values(ascending=False).plot(kind='bar',figsize=(18,12))"
   ]
  },
  {
   "cell_type": "code",
   "execution_count": null,
   "metadata": {},
   "outputs": [],
   "source": [
    "### new ###\n",
    "\n",
    "xl = pd.ExcelFile('mortality_org.xlsx')\n"
   ]
  },
  {
   "cell_type": "code",
   "execution_count": null,
   "metadata": {},
   "outputs": [],
   "source": [
    "xl.sheet_names"
   ]
  },
  {
   "cell_type": "code",
   "execution_count": null,
   "metadata": {},
   "outputs": [],
   "source": [
    "df_all_countries = pd.DataFrame()\n",
    "\n",
    "abbs = xl.sheet_names[1:]\n",
    "\n",
    "for a in abbs:\n",
    "    temp = pd.read_excel('mortality_org.xlsx',sheet_name=a,skiprows=2)\n",
    "    \n",
    "    df_all_countries = pd.concat([df_all_countries,temp],axis=0)"
   ]
  },
  {
   "cell_type": "code",
   "execution_count": null,
   "metadata": {},
   "outputs": [],
   "source": [
    "df_all_countries"
   ]
  },
  {
   "cell_type": "code",
   "execution_count": null,
   "metadata": {},
   "outputs": [],
   "source": [
    "df_all_countries_2020 = df_all_countries.loc[(df_all_countries['Year'] == 2020) & (df_all_countries['Sex'] == 'b')]\n",
    "df_all_countries_2020"
   ]
  },
  {
   "cell_type": "code",
   "execution_count": null,
   "metadata": {},
   "outputs": [],
   "source": [
    "latest_week = df_all_countries_2020.groupby('Country')['Week'].max().max()\n",
    "latest_week"
   ]
  },
  {
   "cell_type": "code",
   "execution_count": null,
   "metadata": {},
   "outputs": [],
   "source": [
    "df_all_countries_2020 = df_all_countries_2020.rename(columns={'0-14.1': 'age_grp_0-14','15-64.1' : 'age_grp_15-64',\n",
    "                      '65-74.1' : 'age_grp_65-74', '75-84.1' : 'age_grp_75-84',\n",
    "                      '85+.1' : 'age_grp_85+','Total.1' : 'all_age_grp'})\n",
    "\n",
    "df_all_countries_2020"
   ]
  },
  {
   "cell_type": "code",
   "execution_count": null,
   "metadata": {},
   "outputs": [],
   "source": [
    "country_max_week = df_all_countries_2020.groupby('Country')['Week'].max()\n",
    "country_max_week"
   ]
  },
  {
   "cell_type": "code",
   "execution_count": null,
   "metadata": {},
   "outputs": [],
   "source": [
    "recent_countries = country_max_week.loc[country_max_week >= latest_week - 2].index.values\n",
    "recent_countries"
   ]
  },
  {
   "cell_type": "code",
   "execution_count": null,
   "metadata": {},
   "outputs": [],
   "source": [
    "'ITA' in recent_countries"
   ]
  },
  {
   "cell_type": "code",
   "execution_count": null,
   "metadata": {},
   "outputs": [],
   "source": [
    "df_all_countries_2020 = df_all_countries_2020.set_index('Country')\n"
   ]
  },
  {
   "cell_type": "code",
   "execution_count": null,
   "metadata": {},
   "outputs": [],
   "source": [
    "df_all_countries_2020 = df_all_countries_2020.loc[recent_countries]\n",
    "\n",
    "\n",
    "\n",
    "#!!!!#\n",
    "#df_all_countries_2020 = df_all_countries_2020.loc[df_all_countries_2020['Week'] <=26]\n",
    "#!!!!#\n",
    "\n",
    "latest_week = df_all_countries_2020.groupby('Country')['Week'].max().max()\n",
    "print ('latest_week',latest_week)\n",
    "\n",
    "df_all_countries_2020"
   ]
  },
  {
   "cell_type": "code",
   "execution_count": null,
   "metadata": {},
   "outputs": [],
   "source": [
    "all_age_grp_pop = df_all_countries_2020[['0-14','15-64','65-74','75-84','85+']] /\\\n",
    "df_all_countries_2020[['age_grp_0-14','age_grp_15-64','age_grp_65-74','age_grp_75-84','age_grp_85+']].values\n",
    "\n",
    "all_age_grp_pop *= 52\n",
    "all_age_grp_pop.dropna(inplace=True)\n",
    "\n",
    "all_age_grp_pop.dropna(inplace=True)\n",
    "all_age_grp_pop = all_age_grp_pop.astype(int)\n",
    "all_age_grp_pop = all_age_grp_pop.drop_duplicates()\n",
    "all_age_grp_pop"
   ]
  },
  {
   "cell_type": "code",
   "execution_count": null,
   "metadata": {},
   "outputs": [],
   "source": []
  },
  {
   "cell_type": "code",
   "execution_count": null,
   "metadata": {},
   "outputs": [],
   "source": [
    "all_age_grp_pop.sum(axis=1)"
   ]
  },
  {
   "cell_type": "code",
   "execution_count": null,
   "metadata": {},
   "outputs": [],
   "source": [
    "all_age_grp_abs_deaths = df_all_countries_2020[['0-14','15-64','65-74','75-84','85+']]\n",
    "deaths_YTD = all_age_grp_abs_deaths.sum(axis=1).groupby('Country').sum()\n",
    "deaths_YTD"
   ]
  },
  {
   "cell_type": "code",
   "execution_count": null,
   "metadata": {},
   "outputs": [],
   "source": [
    "all_countries_mortality_age_grp = \\\n",
    "df_all_countries_2020[['age_grp_0-14','age_grp_15-64','age_grp_65-74','age_grp_75-84','age_grp_85+']].groupby('Country').mean()\n",
    "\n",
    "all_countries_mortality_age_grp.columns = all_age_grp_pop.columns\n",
    "all_countries_mortality_age_grp"
   ]
  },
  {
   "cell_type": "code",
   "execution_count": null,
   "metadata": {},
   "outputs": [],
   "source": [
    "(all_age_grp_pop * all_countries_mortality_age_grp).sum(axis=1).astype(int)"
   ]
  },
  {
   "cell_type": "code",
   "execution_count": null,
   "metadata": {},
   "outputs": [],
   "source": [
    "all_abs_deaths = all_age_grp_abs_deaths.groupby('Country').sum()\n",
    "all_abs_deaths"
   ]
  },
  {
   "cell_type": "code",
   "execution_count": null,
   "metadata": {},
   "outputs": [],
   "source": [
    "all_abs_deaths.sum(axis=1)"
   ]
  },
  {
   "cell_type": "code",
   "execution_count": null,
   "metadata": {},
   "outputs": [],
   "source": []
  },
  {
   "cell_type": "code",
   "execution_count": null,
   "metadata": {},
   "outputs": [],
   "source": [
    "all_YTD_mortality = all_abs_deaths / (all_age_grp_pop * ((latest_week - 1)/52))\n",
    "all_YTD_mortality"
   ]
  },
  {
   "cell_type": "code",
   "execution_count": null,
   "metadata": {},
   "outputs": [],
   "source": [
    "all_std_pop = all_age_grp_pop.loc['DNK']\n",
    "all_std_pop"
   ]
  },
  {
   "cell_type": "code",
   "execution_count": null,
   "metadata": {},
   "outputs": [],
   "source": [
    "all_std_abs_age_grp_deaths = all_std_pop * all_countries_mortality_age_grp\n",
    "all_std_abs_age_grp_deaths"
   ]
  },
  {
   "cell_type": "code",
   "execution_count": null,
   "metadata": {},
   "outputs": [],
   "source": [
    "all_std_abs_age_grp_deaths.sum(axis=1)"
   ]
  },
  {
   "cell_type": "code",
   "execution_count": null,
   "metadata": {},
   "outputs": [],
   "source": [
    "all_std_pop.sum()"
   ]
  },
  {
   "cell_type": "code",
   "execution_count": null,
   "metadata": {},
   "outputs": [],
   "source": [
    "all_std_mortality = all_std_abs_age_grp_deaths.sum(axis=1) / all_std_pop.sum()\n",
    "all_std_mortality"
   ]
  },
  {
   "cell_type": "code",
   "execution_count": null,
   "metadata": {},
   "outputs": [],
   "source": [
    "title = \"Selected countries 2020 YTD age adjusted [stdPop : DNK] Mortality\\nDataSource : mortality.org\"\n",
    "all_std_mortality.sort_values(ascending=False).plot(kind='bar',color='crimson',\n",
    "                                                    figsize=(18,12),title=title)\n",
    "plt.ylabel('mortality')\n",
    "plt.savefig('age_adj_mortality_selected_countries.jpg',format='jpg')"
   ]
  },
  {
   "cell_type": "code",
   "execution_count": null,
   "metadata": {},
   "outputs": [],
   "source": [
    "all_non_age_adj_mortality = all_abs_deaths.sum(axis=1) / (all_age_grp_pop.sum(axis=1) * ((latest_week -1)/52))\n",
    "all_non_age_adj_mortality"
   ]
  },
  {
   "cell_type": "code",
   "execution_count": null,
   "metadata": {},
   "outputs": [],
   "source": [
    "all_non_age_adj_mortality.sort_values(ascending=False).plot(kind='bar',figsize=(18,12))"
   ]
  },
  {
   "cell_type": "code",
   "execution_count": null,
   "metadata": {},
   "outputs": [],
   "source": [
    "latest_week"
   ]
  },
  {
   "cell_type": "code",
   "execution_count": null,
   "metadata": {},
   "outputs": [],
   "source": [
    "all_age_grp_pop"
   ]
  },
  {
   "cell_type": "code",
   "execution_count": null,
   "metadata": {},
   "outputs": [],
   "source": [
    "all_age_pct = all_age_grp_pop.div(all_age_grp_pop.sum(axis=1),axis=0)\n",
    "all_age_pct"
   ]
  },
  {
   "cell_type": "code",
   "execution_count": null,
   "metadata": {},
   "outputs": [],
   "source": [
    "all_age_pct.loc[['SWE','FIN','DNK','NOR','ISL']].plot(kind='bar',stacked=True,figsize=(18,12))\n",
    "_= plt.yticks(np.arange(0,1.1,0.1))"
   ]
  },
  {
   "cell_type": "code",
   "execution_count": null,
   "metadata": {},
   "outputs": [],
   "source": [
    "all_age_pct.plot(kind='bar',stacked=True,figsize=(18,12))\n",
    "_= plt.yticks(np.arange(0,1.1,0.1))"
   ]
  },
  {
   "cell_type": "code",
   "execution_count": null,
   "metadata": {},
   "outputs": [],
   "source": [
    "(all_std_abs_age_grp_deaths.div(all_std_abs_age_grp_deaths.sum(axis=1),axis=0)).plot(\n",
    "    kind='bar',stacked=True,figsize=(18,12))\n",
    "\n",
    "all_deaths_age_pct = all_std_abs_age_grp_deaths.div(all_std_abs_age_grp_deaths.sum(axis=1),axis=0)\n",
    "all_deaths_age_pct"
   ]
  },
  {
   "cell_type": "code",
   "execution_count": null,
   "metadata": {},
   "outputs": [],
   "source": [
    "all_abs_deaths"
   ]
  },
  {
   "cell_type": "code",
   "execution_count": null,
   "metadata": {},
   "outputs": [],
   "source": [
    "all_age_grp_pop"
   ]
  },
  {
   "cell_type": "code",
   "execution_count": null,
   "metadata": {},
   "outputs": [],
   "source": [
    "all_abs_deaths_pct = all_abs_deaths.div(all_abs_deaths.sum(axis=1),axis=0)\n",
    "\n",
    "title = 'Selected Countries : pct deaths per age grp of all deaths'\n",
    "all_abs_deaths_pct.plot(kind='bar',stacked=True,figsize=(18,12),title=title)\n",
    "all_abs_deaths_pct"
   ]
  },
  {
   "cell_type": "code",
   "execution_count": null,
   "metadata": {
    "scrolled": false
   },
   "outputs": [],
   "source": [
    "SWE_2020 = df_timeline.loc[(df_timeline['Country'] == 'SWE') & (df_timeline['Year'] == 2020)]\n",
    "SWE_2020\n"
   ]
  },
  {
   "cell_type": "code",
   "execution_count": null,
   "metadata": {},
   "outputs": [],
   "source": [
    "nordic_2020_pop = nordic_age_grp_pop.sum(axis=1)\n",
    "nordic_2020_pop"
   ]
  },
  {
   "cell_type": "code",
   "execution_count": null,
   "metadata": {},
   "outputs": [],
   "source": [
    "nordic_2020_abs = nordic_abs.groupby('Country').sum().sum(axis=1)\n",
    "nordic_2020_abs"
   ]
  },
  {
   "cell_type": "code",
   "execution_count": null,
   "metadata": {},
   "outputs": [],
   "source": [
    "# https://www.statista.com/statistics/580174/death-rate-in-iceland/ #\n",
    "\n",
    "title = 'Nordic All Cause Mortality 2020\\nDataSource : Mortality.org'\n",
    "nordic_2020_mort = nordic_2020_abs / nordic_2020_pop\n",
    "nordic_2020_mort.plot(kind='bar',figsize=(18,12),color='r',title=title)\n",
    "plt.ylabel('mortality')\n",
    "plt.yticks(np.arange(0,0.012,0.0005))\n",
    "plt.savefig('mortality_org_nordic_mortality_2020.jpg',format='jpg')"
   ]
  },
  {
   "cell_type": "code",
   "execution_count": null,
   "metadata": {},
   "outputs": [],
   "source": [
    "# weekly mean does give too low value #\n",
    "df_timeline.loc[( df_timeline['Country'] == 'SWE' ) & (df_timeline['Year'] == 2020)]['all_age_grp'].mean()"
   ]
  }
 ],
 "metadata": {
  "kernelspec": {
   "display_name": "Python 3",
   "language": "python",
   "name": "python3"
  },
  "language_info": {
   "codemirror_mode": {
    "name": "ipython",
    "version": 3
   },
   "file_extension": ".py",
   "mimetype": "text/x-python",
   "name": "python",
   "nbconvert_exporter": "python",
   "pygments_lexer": "ipython3",
   "version": "3.8.6"
  }
 },
 "nbformat": 4,
 "nbformat_minor": 4
}
