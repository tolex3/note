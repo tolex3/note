{
 "cells": [
  {
   "cell_type": "code",
   "execution_count": null,
   "metadata": {},
   "outputs": [],
   "source": [
    "import pandas as pd\n",
    "import matplotlib.pyplot as plt\n",
    "import seaborn as sns\n",
    "import numpy as np\n",
    "\n",
    "import pymc3 as pm\n",
    "import arviz as az\n",
    "\n",
    "sns.set()\n"
   ]
  },
  {
   "cell_type": "code",
   "execution_count": null,
   "metadata": {},
   "outputs": [],
   "source": [
    "abbs = ['SWE','FIN','NOR','DNK','ISL']"
   ]
  },
  {
   "cell_type": "code",
   "execution_count": null,
   "metadata": {},
   "outputs": [],
   "source": [
    "df = pd.DataFrame()\n",
    "\n",
    "for a in abbs:\n",
    "    temp = pd.read_excel('mortality_org.xlsx',sheet_name=a,skiprows=2)\n",
    "    \n",
    "    df = pd.concat([df,temp],axis=0)"
   ]
  },
  {
   "cell_type": "code",
   "execution_count": null,
   "metadata": {},
   "outputs": [],
   "source": []
  },
  {
   "cell_type": "code",
   "execution_count": null,
   "metadata": {},
   "outputs": [],
   "source": [
    "df_2020 = (df[(df.loc[:,'Sex'] == 'b') & (df['Year'] == 2020)]).copy()\n",
    "\n",
    "df_2020.rename(columns={'0-14.1': 'age_grp_0-14','15-64.1' : 'age_grp_15-64',\n",
    "                      '65-74.1' : 'age_grp_65-74', '75-84.1' : 'age_grp_75-84',\n",
    "                      '85+.1' : 'age_grp_85+','Total.1' : 'all_age_grp'},inplace=True)\n",
    "df_2020"
   ]
  },
  {
   "cell_type": "code",
   "execution_count": null,
   "metadata": {},
   "outputs": [],
   "source": [
    "df_timeline = (df[(df.loc[:,'Sex'] == 'b')]).copy()\n",
    "df_timeline.rename(columns={'0-14.1': 'age_grp_0-14','15-64.1' : 'age_grp_15-64',\n",
    "                      '65-74.1' : 'age_grp_65-74', '75-84.1' : 'age_grp_75-84',\n",
    "                      '85+.1' : 'age_grp_85+','Total.1' : 'all_age_grp'},inplace=True)\n",
    "df_timeline"
   ]
  },
  {
   "cell_type": "code",
   "execution_count": null,
   "metadata": {},
   "outputs": [],
   "source": [
    "def year_week_2_date(y,w):\n",
    "    return pd.to_datetime(str(y) + ' ' + str(w) + ' 0',format='%Y %W %w')\n",
    "\n",
    "\n",
    "df_timeline.index = df_timeline.apply(lambda row : year_week_2_date(row.Year,row.Week),axis=1)\n",
    "df_timeline"
   ]
  },
  {
   "cell_type": "code",
   "execution_count": null,
   "metadata": {},
   "outputs": [],
   "source": []
  },
  {
   "cell_type": "code",
   "execution_count": null,
   "metadata": {},
   "outputs": [],
   "source": [
    "country_grp = df_timeline.groupby('Country')\n",
    "swe = country_grp.get_group('SWE').resample('Y').mean().loc['2000-01-01' :]\n",
    "fin = country_grp.get_group('FIN').resample('Y').mean().loc['2000-01-01' :]\n",
    "den = country_grp.get_group('DNK').resample('Y').mean().loc['2000-01-01' :]\n",
    "nor = country_grp.get_group('NOR').resample('Y').mean().loc['2000-01-01' :]\n",
    "isl = country_grp.get_group('ISL').resample('Y').mean().loc['2000-01-01' :]\n",
    "\n",
    "swe"
   ]
  },
  {
   "cell_type": "code",
   "execution_count": null,
   "metadata": {},
   "outputs": [],
   "source": [
    "title = 'Nordic countries : trend overall mortality rate -2020 YTD\\nDataSource : mortality.org'\n",
    "\n",
    "ax = swe['all_age_grp'].plot(style='yo--',figsize=(18,12),label='SWE',title=title)\n",
    "fin['all_age_grp'].plot(style='bo--',ax=ax,label='FIN')\n",
    "den['all_age_grp'].plot(style='ro--',ax=ax,label='DNK')\n",
    "nor['all_age_grp'].plot(style='ko--',ax=ax,label='NOR')\n",
    "isl['all_age_grp'].plot(style='go--',ax=ax,label='ISL')\n",
    "\n",
    "ax.set_ylabel('mortality')\n",
    "\n",
    "ax.set_ylim([0,0.012])\n",
    "plt.legend(loc='upper left')\n",
    "plt.savefig('nordic_mortality_trend.jpg',format='jpg')"
   ]
  },
  {
   "cell_type": "code",
   "execution_count": null,
   "metadata": {
    "scrolled": false
   },
   "outputs": [],
   "source": [
    "swe_2020 = df_2020.loc[df_2020['Country'] == 'SWE']\n",
    "fin_2020 = df_2020.loc[df_2020['Country'] == 'FIN']\n",
    "den_2020 = df_2020.loc[df_2020['Country'] == 'DNK']\n",
    "nor_2020 = df_2020.loc[df_2020['Country'] == 'NOR']\n",
    "isl_2020 = df_2020.loc[df_2020['Country'] == 'ISL']\n",
    "\n",
    "ax = swe_2020.plot(x='Week',y='all_age_grp',style=['o--'],label='SWE',figsize=(18,12),\n",
    "             title='2020 Weekly Overall Death Rate Nordic Countries\\nDataSource : mortality.org')\n",
    "\n",
    "fin_2020.plot(x='Week',y='all_age_grp',style=['o--'],label='FIN',ax=ax)\n",
    "den_2020.plot(x='Week',y='all_age_grp',style=['o--'],label='DNK',ax=ax)\n",
    "nor_2020.plot(x='Week',y='all_age_grp',style=['o--'],label='NOR',ax=ax)\n",
    "isl_2020.plot(x='Week',y='all_age_grp',style=['yo--'],label='ISL',ax=ax)\n",
    "\n",
    "\n",
    "\n",
    "plt.ylabel('Weekly Death Rate')\n",
    "plt.savefig('mortality_org_overall_death_rate_nor_2020dics.jpg',format='jpg')"
   ]
  },
  {
   "cell_type": "code",
   "execution_count": null,
   "metadata": {},
   "outputs": [],
   "source": [
    "swe_2020.tail()"
   ]
  },
  {
   "cell_type": "code",
   "execution_count": null,
   "metadata": {},
   "outputs": [],
   "source": [
    "ax = swe_2020.plot(x='Week',y=['age_grp_0-14','age_grp_15-64','age_grp_65-74',\n",
    "                         'age_grp_75-84','age_grp_85+'],style=['o--'] * 5,figsize=(18,12),\n",
    "             title='SWE 2020 Weekly Death Rate Nordic Countries\\nDataSource : mortality.org')\n",
    "\n",
    "plt.ylabel('Weekly Death Rate')"
   ]
  },
  {
   "cell_type": "code",
   "execution_count": null,
   "metadata": {},
   "outputs": [],
   "source": []
  },
  {
   "cell_type": "code",
   "execution_count": null,
   "metadata": {},
   "outputs": [],
   "source": [
    "ax = fin_2020.plot(x='Week',y=['age_grp_0-14','age_grp_15-64','age_grp_65-74',\n",
    "                         'age_grp_75-84','age_grp_85+'],style=['o--'] * 5,figsize=(18,12),\n",
    "             title='FIN 2020 Weekly Mortality Nordic Countries\\nDataSource : mortality.org')"
   ]
  },
  {
   "cell_type": "code",
   "execution_count": null,
   "metadata": {},
   "outputs": [],
   "source": [
    "ax = den_2020.plot(x='Week',y=['age_grp_0-14','age_grp_15-64','age_grp_65-74',\n",
    "                         'age_grp_75-84','age_grp_85+'],style=['o--'] * 5,figsize=(18,12),\n",
    "             title='DNK 2020 Weekly Mortality Nordic Countries\\nDataSource : mortality.org')"
   ]
  },
  {
   "cell_type": "code",
   "execution_count": null,
   "metadata": {},
   "outputs": [],
   "source": [
    "ax = nor_2020.plot(x='Week',y=['age_grp_0-14','age_grp_15-64','age_grp_65-74',\n",
    "                         'age_grp_75-84','age_grp_85+'],style=['o--'] * 5,figsize=(18,12),\n",
    "             title='NOR 2020 Weekly Mortality Nordic Countries\\nDataSource : mortality.org')"
   ]
  },
  {
   "cell_type": "code",
   "execution_count": null,
   "metadata": {},
   "outputs": [],
   "source": [
    "ax = isl_2020.plot(x='Week',y=['age_grp_0-14','age_grp_15-64','age_grp_65-74',\n",
    "                         'age_grp_75-84','age_grp_85+'],style=['o--'] * 5,figsize=(18,12),\n",
    "             title='ISL 2020 Weekly Mortality Nordic Countries\\nDataSource : mortality.org')"
   ]
  },
  {
   "cell_type": "code",
   "execution_count": null,
   "metadata": {},
   "outputs": [],
   "source": [
    "ax = swe_2020.plot(x='Week',y='age_grp_0-14',style='o--',figsize=(18,12),label='SWE 0-14',\n",
    "             title='2020 Weekly Death Rate per age group Nordic Countries\\nDataSource : mortality.org')\n",
    "\n",
    "fin_2020.plot(x='Week',y='age_grp_0-14',style='o--',ax=ax,label='FIN 0-14')\n",
    "den_2020.plot(x='Week',y='age_grp_0-14',style='o--',ax=ax,label='DNK 0-14')\n",
    "nor_2020.plot(x='Week',y='age_grp_0-14',style='o--',ax=ax,label='NOR 0-14')\n",
    "isl_2020.plot(x='Week',y='age_grp_0-14',style='yo--',ax=ax,label='ISL 0-14')\n",
    "\n",
    "plt.ylabel('Weekly Death Rate')\n",
    "plt.savefig ('mortality_org_0_14.jpg',format='jpg')"
   ]
  },
  {
   "cell_type": "code",
   "execution_count": null,
   "metadata": {},
   "outputs": [],
   "source": [
    "ax = swe_2020.plot(x='Week',y='age_grp_15-64',style='o--',figsize=(18,12),label='SWE 15-64',\n",
    "             title='2020 Weekly Death Rate per age group Nordic Countries\\nDataSource : mortality.org')\n",
    "\n",
    "fin_2020.plot(x='Week',y='age_grp_15-64',style='o--',ax=ax,label='FIN 15-64')\n",
    "den_2020.plot(x='Week',y='age_grp_15-64',style='o--',ax=ax,label='DNK 15-64')\n",
    "nor_2020.plot(x='Week',y='age_grp_15-64',style='o--',ax=ax,label='NOR 15-64')\n",
    "isl_2020.plot(x='Week',y='age_grp_15-64',style='yo--',ax=ax,label='ISL 15-64')\n",
    "\n",
    "plt.ylabel('Weekly Death Rate')\n",
    "\n",
    "plt.savefig('mortality_org_15_64.jpg',format='jpg')"
   ]
  },
  {
   "cell_type": "code",
   "execution_count": null,
   "metadata": {},
   "outputs": [],
   "source": [
    "ax = swe_2020.plot(x='Week',y='age_grp_65-74',style='o--',figsize=(18,12),label='SWE 65-74',\n",
    "             title='2020 Weekly Death Rate per age group Nordic Countries\\nDataSource : mortality.org')\n",
    "\n",
    "fin_2020.plot(x='Week',y='age_grp_65-74',style='o--',ax=ax,label='FIN 65-74')\n",
    "den_2020.plot(x='Week',y='age_grp_65-74',style='o--',ax=ax,label='DNK 65-74')\n",
    "nor_2020.plot(x='Week',y='age_grp_65-74',style='o--',ax=ax,label='NOR 65-74')\n",
    "isl_2020.plot(x='Week',y='age_grp_65-74',style='yo--',ax=ax,label='ISL 65-74')\n",
    "\n",
    "plt.ylabel('Weekly Death Rate')\n",
    "\n",
    "plt.savefig('mortality_org_65_74.jpg',format='jpg')"
   ]
  },
  {
   "cell_type": "code",
   "execution_count": null,
   "metadata": {},
   "outputs": [],
   "source": [
    "ax = swe_2020.plot(x='Week',y='age_grp_75-84',style='o--',figsize=(18,12),label='SWE 75-84',\n",
    "             title='2020 Weekly Death Rate per age group Nordic Countries\\nDataSource : mortality.org')\n",
    "\n",
    "fin_2020.plot(x='Week',y='age_grp_75-84',style='o--',ax=ax,label='FIN 75-84')\n",
    "den_2020.plot(x='Week',y='age_grp_75-84',style='o--',ax=ax,label='DNK 75-84')\n",
    "nor_2020.plot(x='Week',y='age_grp_75-84',style='o--',ax=ax,label='NOR 75-84')\n",
    "isl_2020.plot(x='Week',y='age_grp_75-84',style='yo--',ax=ax,label='ISL 75-84')\n",
    "\n",
    "plt.ylabel('Weekly Death Rate')\n",
    "\n",
    "plt.savefig('mortality_org_75_84.jpg',format='jpg')"
   ]
  },
  {
   "cell_type": "code",
   "execution_count": null,
   "metadata": {},
   "outputs": [],
   "source": [
    "ax = swe_2020.plot(x='Week',y='age_grp_85+',style='o--',figsize=(18,12),label='SWE 85+',\n",
    "             title='2020 Weekly Death Rate per age group Nordic Countries\\nDataSource : mortality.org')\n",
    "\n",
    "fin_2020.plot(x='Week',y='age_grp_85+',style='o--',ax=ax,label='FIN 85+')\n",
    "den_2020.plot(x='Week',y='age_grp_85+',style='o--',ax=ax,label='DNK 85+')\n",
    "nor_2020.plot(x='Week',y='age_grp_85+',style='o--',ax=ax,label='NOR 85+')\n",
    "isl_2020.plot(x='Week',y='age_grp_85+',style='yo--',ax=ax,label='ISL 85+')\n",
    "\n",
    "plt.ylabel('Weekly Death Rate')\n",
    "\n",
    "plt.savefig('mortality_org_85+.jpg',format='jpg')"
   ]
  },
  {
   "cell_type": "code",
   "execution_count": null,
   "metadata": {},
   "outputs": [],
   "source": [
    "swe_2020['Total'].sum() / (10.23e6 * 37/52)\n",
    "\n"
   ]
  },
  {
   "cell_type": "code",
   "execution_count": null,
   "metadata": {},
   "outputs": [],
   "source": [
    "swe_2020"
   ]
  },
  {
   "cell_type": "code",
   "execution_count": null,
   "metadata": {},
   "outputs": [],
   "source": [
    "swe_2020['Total'] / 10.23e6 *52"
   ]
  },
  {
   "cell_type": "code",
   "execution_count": null,
   "metadata": {},
   "outputs": [],
   "source": [
    "def age_grp_mean(col):\n",
    "    return col.mean()\n",
    "\n",
    "age_grp_mean(swe_2020['age_grp_0-14'])\n",
    "age_grp_mean(swe_2020['age_grp_15-64'])\n",
    "age_grp_mean(swe_2020['age_grp_65-74'])\n",
    "age_grp_mean(swe_2020['age_grp_75-84'])\n",
    "age_grp_mean(swe_2020['age_grp_85+'])"
   ]
  },
  {
   "cell_type": "code",
   "execution_count": null,
   "metadata": {},
   "outputs": [],
   "source": [
    "df_2020"
   ]
  },
  {
   "cell_type": "code",
   "execution_count": null,
   "metadata": {},
   "outputs": [],
   "source": [
    "fig,axes = plt.subplots(5,1,figsize=(18,12),sharex=True)\n",
    "\n",
    "\n",
    "title='Nordic Countries 2020 death rate distribution, age group 0-14'\n",
    "sns.violinplot(x='Country',y='age_grp_0-14',data=df_2020,ax=axes[0])\n",
    "axes[0].set_title(title)\n",
    "axes[0].set_ylabel('death rate')\n",
    "\n",
    "title='Nordic Countries 2020 death rate distribution, age group 15-64'\n",
    "sns.violinplot(x='Country',y='age_grp_15-64',data=df_2020,ax=axes[1])\n",
    "axes[1].set_title(title)\n",
    "axes[1].set_ylabel('death rate')\n",
    "\n",
    "title='Nordic Countries 2020 death rate distribution, age group 65-74'\n",
    "sns.violinplot(x='Country',y='age_grp_65-74',data=df_2020,ax=axes[2])\n",
    "axes[2].set_title(title)\n",
    "axes[2].set_ylabel('death rate')\n",
    "\n",
    "title='Nordic Countries 2020 death rate distribution, age group 75-84'\n",
    "sns.violinplot(x='Country',y='age_grp_75-84',data=df_2020,ax=axes[3])\n",
    "axes[3].set_title(title)\n",
    "axes[3].set_ylabel('death rate')\n",
    "\n",
    "title='Nordic Countries 2020 death rate distribution, age group 85+'\n",
    "sns.violinplot(x='Country',y='age_grp_85+',data=df_2020,ax=axes[4])\n",
    "axes[4].set_title(title)\n",
    "axes[4].set_ylabel('death rate')\n",
    "\n",
    "plt.tight_layout()\n",
    "\n",
    "plt.savefig('nor_2020dic_death_rate_distr.jpg',format='jpg')"
   ]
  },
  {
   "cell_type": "code",
   "execution_count": null,
   "metadata": {},
   "outputs": [],
   "source": [
    "plt.figure(figsize=(18,12))\n",
    "plt.title('Nordic countries 2020 weekly death rate distribution, all age groups')\n",
    "sns.violinplot(x='Country',y='all_age_grp',data=df_2020)\n",
    "plt.ylabel('death rate distribution')\n",
    "\n",
    "plt.savefig('nor_2020dic_death_distr_all_ages.jpg',format='jpg')"
   ]
  },
  {
   "cell_type": "code",
   "execution_count": null,
   "metadata": {
    "scrolled": false
   },
   "outputs": [],
   "source": [
    "\n",
    "transaction_df = df_2020[['Country','age_grp_0-14','age_grp_15-64']].copy()\n",
    "#transaction_df['age_grp_0-14'].apply()"
   ]
  },
  {
   "cell_type": "code",
   "execution_count": null,
   "metadata": {},
   "outputs": [],
   "source": [
    "tips = sns.load_dataset('tips')\n",
    "tips"
   ]
  },
  {
   "cell_type": "code",
   "execution_count": null,
   "metadata": {},
   "outputs": [],
   "source": [
    "df_timeline = df_timeline.loc['2007-01-01' :]\n",
    "df_timeline"
   ]
  },
  {
   "cell_type": "code",
   "execution_count": null,
   "metadata": {},
   "outputs": [],
   "source": [
    "unique_countries = df_timeline['Country'].unique()\n",
    "country_idx_map = dict(zip(unique_countries,range(len(unique_countries))))\n",
    "country_idx_map"
   ]
  },
  {
   "cell_type": "code",
   "execution_count": null,
   "metadata": {
    "scrolled": false
   },
   "outputs": [],
   "source": [
    "unique_dates = np.unique(df_timeline.index)\n",
    "date_idx_map = dict(zip(pd.to_datetime(unique_dates),range(len(unique_dates))))\n"
   ]
  },
  {
   "cell_type": "code",
   "execution_count": null,
   "metadata": {},
   "outputs": [],
   "source": [
    "df_timeline['country_idx'] = df_timeline['Country'].apply(lambda x : country_idx_map[x])\n",
    "df_timeline"
   ]
  },
  {
   "cell_type": "code",
   "execution_count": null,
   "metadata": {},
   "outputs": [],
   "source": [
    "week_idx = df_timeline.reset_index()['index'].apply(lambda x : date_idx_map[x])"
   ]
  },
  {
   "cell_type": "code",
   "execution_count": null,
   "metadata": {},
   "outputs": [],
   "source": [
    "df_timeline['week_idx'] = week_idx.values\n",
    "df_timeline"
   ]
  },
  {
   "cell_type": "code",
   "execution_count": null,
   "metadata": {},
   "outputs": [],
   "source": [
    "df_timeline.loc[df_timeline['Country'] == 'NOR']"
   ]
  },
  {
   "cell_type": "code",
   "execution_count": null,
   "metadata": {},
   "outputs": [],
   "source": [
    "plt.scatter(df_timeline.loc[df_timeline['Country'] == 'SWE']['week_idx'],\n",
    "            df_timeline.loc[df_timeline['Country']=='SWE']['all_age_grp'])"
   ]
  },
  {
   "cell_type": "code",
   "execution_count": null,
   "metadata": {},
   "outputs": [],
   "source": [
    "\n",
    "x = df_timeline['week_idx'].values\n",
    "x"
   ]
  },
  {
   "cell_type": "code",
   "execution_count": null,
   "metadata": {},
   "outputs": [],
   "source": [
    "def standardize(series):\n",
    "    return (series - series.mean()) / series.std()\n",
    "\n",
    "def regression(outcome='all_age_grp'):\n",
    "\n",
    "    week_idx = df_timeline['week_idx'].values\n",
    "    country_idx = df_timeline['country_idx'].values\n",
    "\n",
    "    scale_outcome = 1000\n",
    "\n",
    "    model = pm.Model()\n",
    "    with model:\n",
    "\n",
    "        alpha = pm.Normal('alpha',0,1,shape=len(unique_countries))\n",
    "        beta = pm.Normal('beta',0, 1,shape=len(unique_countries))\n",
    "\n",
    "        sigma = pm.Uniform('sigma',0,5)\n",
    "\n",
    "        mu = pm.Deterministic('mu',alpha[country_idx] + standardize(x) * beta[country_idx])\n",
    "\n",
    "        obs = pm.Normal('obs',mu,sigma,observed=df_timeline[outcome] * scale_outcome) \n",
    "\n",
    "        trace = pm.sample(2000,tune=2000)\n",
    "        \n",
    "        return trace"
   ]
  },
  {
   "cell_type": "code",
   "execution_count": null,
   "metadata": {},
   "outputs": [],
   "source": [
    "df_timeline.head()"
   ]
  },
  {
   "cell_type": "code",
   "execution_count": null,
   "metadata": {},
   "outputs": [],
   "source": [
    "outcome = 'age_grp_85+'\n",
    "\n",
    "trace=regression(outcome)"
   ]
  },
  {
   "cell_type": "code",
   "execution_count": null,
   "metadata": {},
   "outputs": [],
   "source": [
    "with model:\n",
    "    print (az.summary(trace,var_names=['~mu'],hdi_prob=0.89))"
   ]
  },
  {
   "cell_type": "code",
   "execution_count": null,
   "metadata": {},
   "outputs": [],
   "source": [
    "with model:\n",
    "    az.plot_posterior(trace,var_names=['beta'],hdi_prob=0.89)"
   ]
  },
  {
   "cell_type": "code",
   "execution_count": null,
   "metadata": {
    "scrolled": false
   },
   "outputs": [],
   "source": [
    "def plot_reg(outcome):\n",
    "    \n",
    "    fin_beta = trace['beta'][:,1].mean() / scale_outcome\n",
    "    fin_alpha = trace['alpha'][:,1].mean() / scale_outcome\n",
    "    swe_beta = trace['beta'][:,0].mean() / scale_outcome\n",
    "    swe_alpha = trace['alpha'][:,0].mean() / scale_outcome\n",
    "    nor_beta = trace['beta'][:,2].mean() / scale_outcome\n",
    "    nor_alpha = trace['alpha'][:,2].mean() / scale_outcome\n",
    "    den_beta = trace['beta'][:,3].mean() / scale_outcome\n",
    "    den_alpha = trace['alpha'][:,3].mean() / scale_outcome\n",
    "    isl_beta = trace['beta'][:,4].mean() / scale_outcome\n",
    "    isl_alpha = trace['alpha'][:,4].mean() / scale_outcome\n",
    "    \n",
    "    \n",
    "    fin_hdi_kwargs = {'color':'lightblue','alpha':1.0,'label' : 'FIN'}\n",
    "    swe_hdi_kwargs = {'color' : 'yellow','alpha' : 1.0,'label' : 'SWE'}\n",
    "    den_hdi_kwargs = {'color' : 'orange','alpha' : 1.0,'label' : 'DNK'}\n",
    "    nor_hdi_kwargs = {'color' : 'lime','alpha' : 1.0,'label' : 'NOR'}\n",
    "    isl_hdi_kwargs = {'color' : 'cyan','alpha' : 1.0,'label' : 'ISL'}\n",
    "\n",
    "    numeric_timeline = df_timeline.reset_index().copy()\n",
    "\n",
    "    hdi_swe_x = numeric_timeline.loc[numeric_timeline['Country'] == 'SWE']['week_idx']\n",
    "    hdi_fin_x = numeric_timeline.loc[numeric_timeline['Country'] == 'FIN']['week_idx']\n",
    "    hdi_den_x = numeric_timeline.loc[numeric_timeline['Country'] == 'DNK']['week_idx']\n",
    "    hdi_nor_x = numeric_timeline.loc[numeric_timeline['Country'] == 'NOR']['week_idx']\n",
    "    hdi_isl_x = numeric_timeline.loc[numeric_timeline['Country'] == 'ISL']['week_idx']\n",
    "\n",
    "\n",
    "    swe_num = numeric_timeline.loc[numeric_timeline['Country'] == 'SWE']\n",
    "    swe_idx = swe_num.index.values\n",
    "    hdi_swe_mu = trace['mu'][:,swe_idx]\n",
    "\n",
    "    fin_num = numeric_timeline.loc[numeric_timeline['Country'] == 'FIN']\n",
    "    fin_idx = fin_num.index.values\n",
    "    hdi_fin_mu = trace['mu'][:,fin_idx]\n",
    "\n",
    "    den_num = numeric_timeline.loc[numeric_timeline['Country'] == 'DNK']\n",
    "    den_idx = den_num.index.values\n",
    "    hdi_den_mu = trace['mu'][:,den_idx]\n",
    "\n",
    "    nor_num = numeric_timeline.loc[numeric_timeline['Country'] == 'NOR']\n",
    "    nor_idx = nor_num.index.values\n",
    "    hdi_nor_mu = trace['mu'][:,nor_idx]\n",
    "\n",
    "    isl_num = numeric_timeline.loc[numeric_timeline['Country'] == 'ISL']\n",
    "    isl_idx = isl_num.index.values\n",
    "    hdi_isl_mu = trace['mu'][:,isl_idx]\n",
    "\n",
    "    fig,axes = plt.subplots(2,3,sharex=True,sharey=True,figsize=(18,12))\n",
    "\n",
    "    plt.suptitle('Nordic countries : mortality trends for [{}]'.format(outcome) +\\\n",
    "                 ' based on weekly death rates Jan 2007 - Aug 2020')\n",
    "\n",
    "\n",
    "    axes[0,0].plot(hdi_swe_x,\n",
    "            (trace['alpha'][0,0].mean() + \\\n",
    "               standardize(numeric_timeline.loc[numeric_timeline['Country'] \\\n",
    "                                           == 'SWE']['week_idx']) * trace['beta'][:,0].mean()) / scale_outcome,\n",
    "            '--',color='k',lw=1)\n",
    "\n",
    "\n",
    "\n",
    "    axes[0,0].scatter(df_timeline.loc[df_timeline['Country'] == 'SWE']['week_idx'],\n",
    "                df_timeline.loc[df_timeline['Country']=='SWE'][outcome],color='lightgrey',alpha=0.3)\n",
    "\n",
    "    az.plot_hdi(hdi_swe_x,hdi_swe_mu / scale_outcome,hdi_prob=0.89,ax=axes[0,0],fill_kwargs=swe_hdi_kwargs)\n",
    "    \n",
    "    axes[0,0].axvline(x.mean(),ls='dashed',color='orange')\n",
    "\n",
    "    ##\n",
    "\n",
    "    axes[0,1].plot(hdi_fin_x,\n",
    "            (trace['alpha'][:,1].mean() + \\\n",
    "               standardize(numeric_timeline.loc[numeric_timeline['Country'] \\\n",
    "                                           == 'FIN']['week_idx']) * trace['beta'][:,1].mean()) / scale_outcome,\n",
    "            '--',color='k',lw=1)\n",
    "\n",
    "\n",
    "    axes[0,1].scatter(df_timeline.loc[df_timeline['Country'] == 'FIN']['week_idx'],\n",
    "                df_timeline.loc[df_timeline['Country']=='FIN'][outcome],color='lightgrey',alpha=0.3)\n",
    "\n",
    "    az.plot_hdi(hdi_fin_x,hdi_fin_mu / scale_outcome,hdi_prob=0.89,ax=axes[0,1],fill_kwargs=fin_hdi_kwargs)\n",
    "    \n",
    "    axes[0,1].axvline(x.mean(),ls='dashed',color='orange')\n",
    "\n",
    "\n",
    "    ##\n",
    "\n",
    "    axes[0,2].plot(hdi_den_x,\n",
    "            (trace['alpha'][:,3].mean() + \\\n",
    "               standardize(numeric_timeline.loc[numeric_timeline['Country'] \\\n",
    "                                           == 'DNK']['week_idx']) * trace['beta'][:,3].mean()) / scale_outcome,\n",
    "            '--',color='k',lw=1)\n",
    "\n",
    "\n",
    "    axes[0,2].scatter(df_timeline.loc[df_timeline['Country'] == 'DNK']['week_idx'],\n",
    "                df_timeline.loc[df_timeline['Country']=='DNK'][outcome],color='lightgrey',alpha=0.3)\n",
    "\n",
    "    az.plot_hdi(hdi_den_x,hdi_den_mu / scale_outcome,hdi_prob=0.89,ax=axes[0,2],fill_kwargs=den_hdi_kwargs)\n",
    "    \n",
    "    axes[0,2].axvline(x.mean(),ls='dashed',color='orange')\n",
    "\n",
    "\n",
    "    ##\n",
    "    axes[1,0].plot(hdi_nor_x,\n",
    "            (trace['alpha'][:,2].mean() + \\\n",
    "               standardize(numeric_timeline.loc[numeric_timeline['Country'] \\\n",
    "                                           == 'NOR']['week_idx']) * trace['beta'][:,2].mean()) / scale_outcome,\n",
    "            '--',color='k',lw=1)\n",
    "\n",
    "\n",
    "    axes[1,0].scatter(df_timeline.loc[df_timeline['Country'] == 'NOR']['week_idx'],\n",
    "                df_timeline.loc[df_timeline['Country']=='NOR'][outcome],color='lightgrey',alpha=0.3)\n",
    "\n",
    "    az.plot_hdi(hdi_nor_x,hdi_nor_mu / scale_outcome,hdi_prob=0.89,ax=axes[1,0],fill_kwargs=nor_hdi_kwargs)\n",
    "    \n",
    "    axes[1,0].axvline(x.mean(),ls='dashed',color='orange')\n",
    "\n",
    "\n",
    "    ##\n",
    "\n",
    "    axes[1,1].plot(hdi_isl_x,\n",
    "            (trace['alpha'][:,4].mean() + \\\n",
    "               standardize(numeric_timeline.loc[numeric_timeline['Country'] \\\n",
    "                                           == 'ISL']['week_idx']) * trace['beta'][:,4].mean()) / scale_outcome,\n",
    "            '--',color='k',lw=1)\n",
    "\n",
    "\n",
    "    axes[1,1].scatter(df_timeline.loc[df_timeline['Country'] == 'ISL']['week_idx'],\n",
    "                df_timeline.loc[df_timeline['Country']=='ISL'][outcome],color='lightgrey',alpha=0.3)\n",
    "\n",
    "    az.plot_hdi(hdi_isl_x,hdi_isl_mu / scale_outcome,hdi_prob=0.89,ax=axes[1,1],fill_kwargs=isl_hdi_kwargs)\n",
    "    \n",
    "    axes[1,1].axvline(x.mean(),ls='dashed',color='orange')\n",
    "\n",
    "\n",
    "    plt.legend(loc='upper center')\n",
    "\n",
    "    axes[1,0].set_xlabel('week number')\n",
    "    axes[1,1].set_xlabel('week_number')\n",
    "    axes[1,2].set_xlabel('week_number')\n",
    "\n",
    "    axes[0,0].set_title(r'SWE $\\alpha$ : {:.4f}   $\\beta$ : {:.6f}'.format(swe_alpha,swe_beta))\n",
    "    axes[0,1].set_title(r'FIN $\\alpha$ : {:.4f}   $\\beta$ : {:.6f}'.format(fin_alpha,fin_beta))\n",
    "    axes[0,2].set_title(r'DNK $\\alpha$ : {:.4f}   $\\beta$ : {:.6f}'.format(den_alpha,den_beta))\n",
    "    axes[1,0].set_title(r'NOR $\\alpha$ : {:.4f}   $\\beta$ : {:.6f}'.format(nor_alpha,nor_beta))\n",
    "    axes[1,1].set_title(r'ISL $\\alpha$ : {:.4f}   $\\beta$ : {:.6f}'.format(isl_alpha,isl_beta))\n",
    "\n",
    "    axes[1,2].axis('off')\n",
    "\n",
    "    plt.savefig('nordic_mortality_bayesian_trends_{}.jpg'.format(outcome),format='jpg')\n",
    "\n"
   ]
  },
  {
   "cell_type": "code",
   "execution_count": null,
   "metadata": {
    "scrolled": false
   },
   "outputs": [],
   "source": [
    "# reported alpha's dont cross at 0 b/c x vals are standardized in calculation : mean at about week 350\n",
    "plot_reg(outcome)"
   ]
  },
  {
   "cell_type": "code",
   "execution_count": null,
   "metadata": {},
   "outputs": [],
   "source": [
    "df_2020"
   ]
  },
  {
   "cell_type": "code",
   "execution_count": null,
   "metadata": {},
   "outputs": [],
   "source": [
    "age_grps_2020 = df_2020[['Country','age_grp_0-14','age_grp_15-64','age_grp_65-74',\n",
    "                        'age_grp_75-84','age_grp_85+','all_age_grp']].copy()\n",
    "\n",
    "age_grps_2020"
   ]
  },
  {
   "cell_type": "code",
   "execution_count": null,
   "metadata": {},
   "outputs": [],
   "source": [
    "country_age_grps = age_grps_2020.groupby('Country')\n",
    "\n",
    "swe_2020 = country_age_grps.get_group('SWE')\n",
    "fin_2020 = country_age_grps.get_group('FIN')\n",
    "nor_2020 = country_age_grps.get_group('NOR')\n",
    "den_2020 = country_age_grps.get_group('DNK')\n",
    "isl_2020 = country_age_grps.get_group('ISL')\n",
    "\n",
    "swe_means = swe_2020.mean()\n",
    "swe_2020_ci = swe_2020.quantile([0.055,0.945])\n",
    "swe_2020_ci = np.abs(swe_2020_ci - swe_2020_means)\n",
    "\n",
    "fin_means = fin_2020.mean()\n",
    "fin_2020_ci = fin_2020.quantile([0.055,0.945])\n",
    "fin_2020_ci = np.abs(fin_2020_ci - fin_means)\n",
    "\n",
    "nor_means = nor_2020.mean()\n",
    "nor_2020_ci = nor_2020.quantile([0.055,0.945])\n",
    "nor_2020_ci = np.abs(nor_2020_ci - nor_means)\n",
    "\n",
    "den_means = den_2020.mean()\n",
    "den_2020_ci = den_2020.quantile([0.055,0.945])\n",
    "den_2020_ci = np.abs(den_2020_ci - den_means)\n",
    "\n",
    "isl_means = isl_2020.mean()\n",
    "isl_2020_ci = isl_2020.quantile([0.055,0.945])\n",
    "isl_2020_ci = np.abs(isl_2020_ci - isl_means)\n",
    "\n",
    "print (swe_means)\n",
    "print (swe_2020_ci.T)\n",
    "\n",
    "swe_2020.describe(percentiles=[0.055,0.945])\n"
   ]
  },
  {
   "cell_type": "code",
   "execution_count": null,
   "metadata": {},
   "outputs": [],
   "source": [
    "all_means = pd.concat([swe_means,fin_means,nor_means,den_means,isl_means],axis=1)\n",
    "all_means.columns=['SWE','FIN','NOR','DNK','ISL']\n",
    "all_means"
   ]
  },
  {
   "cell_type": "code",
   "execution_count": null,
   "metadata": {},
   "outputs": [],
   "source": [
    "all_cis = np.array([swe_2020_ci.values,fin_2020_ci.values,nor_2020_ci.values,\n",
    "                    den_2020_ci.values,isl_2020_ci.values])\n",
    "all_cis.shape"
   ]
  },
  {
   "cell_type": "code",
   "execution_count": null,
   "metadata": {},
   "outputs": [],
   "source": [
    "all_means"
   ]
  },
  {
   "cell_type": "code",
   "execution_count": null,
   "metadata": {},
   "outputs": [],
   "source": [
    "all_means.mean(axis=1)"
   ]
  },
  {
   "cell_type": "code",
   "execution_count": null,
   "metadata": {},
   "outputs": [],
   "source": [
    "all_means.sub(all_means.mean(axis=1),axis=0)"
   ]
  },
  {
   "cell_type": "code",
   "execution_count": null,
   "metadata": {
    "scrolled": false
   },
   "outputs": [],
   "source": [
    "all_means.plot(kind='bar',\n",
    "               figsize=(18,12),yerr=all_cis,error_kw={'capsize' : 5,'ecolor':'k','label' : '89%'},\n",
    "               title='Nordic Countries 2020 age grp mortality from weekly death rates Jan - Aug\\nDataSource : mortality.org')\n",
    "\n",
    "plt.ylabel('mortality')\n",
    "plt.yscale('log')\n",
    "plt.savefig('nordic_mortality_bar_chart.jpg',format='jpg')"
   ]
  },
  {
   "cell_type": "code",
   "execution_count": null,
   "metadata": {},
   "outputs": [],
   "source": [
    "all_means.loc['age_grp_85+'].plot(kind='bar')"
   ]
  },
  {
   "cell_type": "code",
   "execution_count": null,
   "metadata": {},
   "outputs": [],
   "source": [
    "all_means.loc['age_grp_0-14'].plot(kind='bar')"
   ]
  }
 ],
 "metadata": {
  "kernelspec": {
   "display_name": "Python 3",
   "language": "python",
   "name": "python3"
  },
  "language_info": {
   "codemirror_mode": {
    "name": "ipython",
    "version": 3
   },
   "file_extension": ".py",
   "mimetype": "text/x-python",
   "name": "python",
   "nbconvert_exporter": "python",
   "pygments_lexer": "ipython3",
   "version": "3.8.5"
  }
 },
 "nbformat": 4,
 "nbformat_minor": 4
}
