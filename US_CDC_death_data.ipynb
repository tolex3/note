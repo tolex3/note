{
 "cells": [
  {
   "cell_type": "code",
   "execution_count": null,
   "metadata": {},
   "outputs": [],
   "source": [
    "import requests\n",
    "import numpy as np\n",
    "import matplotlib.pyplot as plt\n",
    "import pandas as pd\n",
    "import seaborn as sns\n",
    "import zipfile\n",
    "import os\n",
    "\n",
    "sns.set()\n",
    "\n"
   ]
  },
  {
   "cell_type": "code",
   "execution_count": null,
   "metadata": {},
   "outputs": [],
   "source": [
    "# this url must be MANUALLY changed for other year data\n",
    "url = 'http://ftp.cdc.gov/pub/Health_Statistics/NCHS/Datasets/DVS/mortality/mort2012us.zip'\n",
    "\n",
    "r = requests.get(url,stream=True)\n",
    "r.status_code"
   ]
  },
  {
   "cell_type": "code",
   "execution_count": null,
   "metadata": {},
   "outputs": [],
   "source": [
    "zip_file_name = 'us_mort_data.zip'"
   ]
  },
  {
   "cell_type": "code",
   "execution_count": null,
   "metadata": {},
   "outputs": [],
   "source": [
    "\n",
    "def download_url(url, save_path, chunk_size=128):\n",
    "    \n",
    "    r = requests.get(url, stream=True)\n",
    "    \n",
    "    with open(save_path, 'wb') as fd:\n",
    "        \n",
    "        for chunk in r.iter_content(chunk_size=chunk_size):\n",
    "            fd.write(chunk)\n"
   ]
  },
  {
   "cell_type": "code",
   "execution_count": null,
   "metadata": {},
   "outputs": [],
   "source": [
    "# this downloads the zip-file to local directory. \n",
    "\n",
    "#download_url(url,zip_file_name)"
   ]
  },
  {
   "cell_type": "code",
   "execution_count": null,
   "metadata": {},
   "outputs": [],
   "source": [
    "# unzip it and get name of the [only!] file in zip archive\n",
    "\n",
    "#zf = zipfile.ZipFile('us_mort_data.zip', 'r')\n",
    "#unzipped_file_name = zf.namelist()[0]\n",
    "unzipped_file_name = 'VS12MORT.DUSMCPUB'\n",
    "print (unzipped_file_name)"
   ]
  },
  {
   "cell_type": "code",
   "execution_count": null,
   "metadata": {},
   "outputs": [],
   "source": [
    "#zf.extract(unzipped_file_name)"
   ]
  },
  {
   "cell_type": "code",
   "execution_count": null,
   "metadata": {},
   "outputs": [],
   "source": [
    "#os.remove(zip_file_name)"
   ]
  },
  {
   "cell_type": "code",
   "execution_count": null,
   "metadata": {
    "scrolled": false
   },
   "outputs": [],
   "source": [
    "age_code_map = dict(zip(['0' + str(i) for i in list(range(1,10))] + ['10','11','12'],\n",
    "         ['-1','1-4','5-14','15-24','25-34','35-44','45-54','55-64',\n",
    "          '65-74','75-84','85+','unspec']))\n",
    "\n",
    "place_of_death_map = dict(zip([str(i) for i in list(range(1,8))] + ['9'],['Hosp.InPatient','Hosp.OutPatient',\n",
    "                                             'Hosp.DeadArr','Home','Hospice','NursingHome',\n",
    "                                             'Other','Unknown']))\n",
    "\n",
    "\n",
    "cause_map = dict(zip([str(i) for i in list(range(1,8))] + [' '],['Accident','Suicide','Homicide',\n",
    "                                                    'Pending','Undecided','SelfInflected',\n",
    "                                                    'Natural','NotSpecified']))\n",
    "\n",
    "activity_map = dict(zip(['0','1','2','3','4','8','9',' '],['Sport','Leasure','Job','Oth.Work',\n",
    "                                                      'Vital.Activities','Oth.Activities','Unspec.','N/A']))\n",
    "\n",
    "race_map = dict(\n",
    "        zip(\n",
    "            ['0' + str(i) for i in list(range(1,8))] + [str(i) for i in list(range(18,88,10))],\n",
    "            ['White','Black','Am.Indian','Chinese','Japanese','Hawaiian',\n",
    "            'Filipino','Asian.Indian','Korean','Samoan','Vietnamese',\n",
    "            'Guamanian','Other.Asian','Other.Asian']))\n",
    "\n",
    "buf_size = 492\n",
    "\n",
    "with open (unzipped_file_name,'rb') as data_file:\n",
    "    \n",
    "    dict_list = []\n",
    "    \n",
    "    data_remaining = True\n",
    "    \n",
    "    while data_remaining:\n",
    "    \n",
    "        data = data_file.read(buf_size)        \n",
    "            \n",
    "        if len(data) == buf_size:\n",
    "\n",
    "            p_dic = dict()\n",
    "            \n",
    "            p_dic['month_of_death'] = (data[64:66]).decode('utf-8')\n",
    "            p_dic['sex'] = chr(data[68])\n",
    "            p_dic['age'] = age_code_map[(data[78:80]).decode('utf-8')]\n",
    "            p_dic['place_of_death'] = place_of_death_map[chr(data[82])]\n",
    "            p_dic['marital_status'] = chr(data[83])\n",
    "            p_dic['injury_at_work'] = chr(data[105])\n",
    "            p_dic['manner_of_death'] = cause_map[chr(data[106])]\n",
    "            p_dic['activity_at_death'] = activity_map[chr(data[143])]\n",
    "            p_dic['ICD-code'] = (data[145:149]).decode('utf-8')\n",
    "            p_dic['race'] = race_map[(data[444:446]).decode('utf-8')]\n",
    "\n",
    "            dict_list.append(p_dic)\n",
    "            \n",
    "        else:\n",
    "                \n",
    "            data_remaining = False\n",
    "\n",
    "\n",
    "\n",
    "df = pd.DataFrame(dict_list)\n"
   ]
  },
  {
   "cell_type": "code",
   "execution_count": null,
   "metadata": {},
   "outputs": [],
   "source": [
    "#os.remove(unzipped_file_name)"
   ]
  },
  {
   "cell_type": "code",
   "execution_count": null,
   "metadata": {},
   "outputs": [],
   "source": [
    "df['age'] = pd.Categorical(df['age'],['-1','1-4','5-14','15-24','25-34','35-44','45-54','55-64',\n",
    "          '65-74','75-84','85+','unspec'])\n",
    "\n",
    "df.head()"
   ]
  },
  {
   "cell_type": "code",
   "execution_count": null,
   "metadata": {},
   "outputs": [],
   "source": [
    "age_counts = df.groupby('age').count()['month_of_death']\n",
    "age_counts"
   ]
  },
  {
   "cell_type": "code",
   "execution_count": null,
   "metadata": {},
   "outputs": [],
   "source": [
    "age_counts.plot(kind='bar',title='US 2018 deaths per age grp')\n",
    "plt.ylabel('nr of deaths')"
   ]
  },
  {
   "cell_type": "code",
   "execution_count": null,
   "metadata": {},
   "outputs": [],
   "source": [
    "\n",
    "age_death_dist = age_counts / age_counts.sum()\n",
    "age_death_dist.plot(kind='bar',title='US 2018 age grp deaths distribution')\n",
    "plt.ylabel('rel.Freq')\n",
    "age_death_dist"
   ]
  },
  {
   "cell_type": "code",
   "execution_count": null,
   "metadata": {},
   "outputs": [],
   "source": [
    "age_death_dist.cumsum().plot(title='US 2018 cumulative deaths distribution',style='o--')\n",
    "plt.ylabel('cumulative rel.Freq')\n",
    "_= plt.xticks(range(len(age_death_dist.cumsum())),\n",
    "              age_death_dist.cumsum().index,rotation=90)"
   ]
  },
  {
   "cell_type": "code",
   "execution_count": null,
   "metadata": {},
   "outputs": [],
   "source": [
    "df.head()"
   ]
  },
  {
   "cell_type": "code",
   "execution_count": null,
   "metadata": {},
   "outputs": [],
   "source": [
    "df.groupby('manner_of_death').count()['age'] / df['age'].count()"
   ]
  },
  {
   "cell_type": "code",
   "execution_count": null,
   "metadata": {},
   "outputs": [],
   "source": [
    "df.groupby('place_of_death').count()['age']"
   ]
  },
  {
   "cell_type": "code",
   "execution_count": null,
   "metadata": {},
   "outputs": [],
   "source": [
    "df.groupby('activity_at_death').count()['age']"
   ]
  },
  {
   "cell_type": "code",
   "execution_count": null,
   "metadata": {},
   "outputs": [],
   "source": [
    "df.groupby('ICD-code').count()['age'].sort_values(ascending=False)"
   ]
  }
 ],
 "metadata": {
  "kernelspec": {
   "display_name": "Python 3",
   "language": "python",
   "name": "python3"
  },
  "language_info": {
   "codemirror_mode": {
    "name": "ipython",
    "version": 3
   },
   "file_extension": ".py",
   "mimetype": "text/x-python",
   "name": "python",
   "nbconvert_exporter": "python",
   "pygments_lexer": "ipython3",
   "version": "3.8.6"
  }
 },
 "nbformat": 4,
 "nbformat_minor": 4
}
