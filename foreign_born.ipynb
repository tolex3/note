{
 "cells": [
  {
   "cell_type": "code",
   "execution_count": null,
   "metadata": {},
   "outputs": [],
   "source": [
    "import requests\n",
    "import numpy as np\n",
    "import pandas as pd\n",
    "import matplotlib.pyplot as plt\n",
    "import seaborn as sns\n",
    "\n",
    "sns.set()"
   ]
  },
  {
   "cell_type": "code",
   "execution_count": null,
   "metadata": {},
   "outputs": [],
   "source": [
    "# utrikes födda, Afrika, Asien, Okänd,Statslös\n",
    "url = 'http://api.scb.se/OV0104/v1/doris/sv/ssd/START/BE/BE0101/BE0101E/FodelselandArK'\n",
    "\n",
    "data = {\n",
    "  \"query\": [\n",
    "    {\n",
    "      \"code\": \"Fodelseland\",\n",
    "      \"selection\": {\n",
    "        \"filter\": \"agg:LandISOAlfa2Varldsdelar2\",\n",
    "        \"values\": [\n",
    "          \"AFR\",\n",
    "          \"ASI3\",\n",
    "          \"OSPEC2\",\n",
    "          \"ÖSL\"\n",
    "        ]\n",
    "      }\n",
    "    },\n",
    "    {\n",
    "      \"code\": \"Alder\",\n",
    "      \"selection\": {\n",
    "        \"filter\": \"agg:Ålder5år\",\n",
    "        \"values\": [\n",
    "          \"-4\",\n",
    "          \"5-9\",\n",
    "          \"10-14\",\n",
    "          \"15-19\",\n",
    "          \"20-24\",\n",
    "          \"25-29\",\n",
    "          \"30-34\",\n",
    "          \"35-39\",\n",
    "          \"40-44\",\n",
    "          \"45-49\",\n",
    "          \"50-54\",\n",
    "          \"55-59\",\n",
    "          \"60-64\",\n",
    "          \"65-69\",\n",
    "          \"70-74\",\n",
    "          \"75-79\",\n",
    "          \"80-84\",\n",
    "          \"85-89\",\n",
    "          \"90-94\",\n",
    "          \"95-99\",\n",
    "          \"100+\"\n",
    "        ]\n",
    "      }\n",
    "    },\n",
    "    {\n",
    "      \"code\": \"Kon\",\n",
    "      \"selection\": {\n",
    "        \"filter\": \"item\",\n",
    "        \"values\": [\n",
    "          \"1\",\n",
    "          \"2\"\n",
    "        ]\n",
    "      }\n",
    "    }\n",
    "  ],\n",
    "  \"response\": {\n",
    "    \"format\": \"json\"\n",
    "  }\n",
    "}"
   ]
  },
  {
   "cell_type": "code",
   "execution_count": null,
   "metadata": {},
   "outputs": [],
   "source": [
    "r = requests.post(url,json=data)\n",
    "r.status_code"
   ]
  },
  {
   "cell_type": "code",
   "execution_count": null,
   "metadata": {},
   "outputs": [],
   "source": [
    "json = r.json()\n",
    "json['data'][0]"
   ]
  },
  {
   "cell_type": "code",
   "execution_count": null,
   "metadata": {},
   "outputs": [],
   "source": [
    "#parse death data from json to df \n",
    "\n",
    "data_list = []\n",
    "\n",
    "nr_records = (len(json['data']))\n",
    "\n",
    "for rec in range(nr_records):\n",
    "\n",
    "    data_list.append ((json['data'][rec]['key'][0],json['data'][rec]['key'][1],\n",
    "                       json['data'][rec]['key'][2],json['data'][rec]['key'][3],json['data'][rec]['values'][0]))"
   ]
  },
  {
   "cell_type": "code",
   "execution_count": null,
   "metadata": {
    "scrolled": false
   },
   "outputs": [],
   "source": [
    "# death rate df\n",
    "foreign_born = pd.DataFrame(data_list,columns=['continent','age_grp','gender','year','pop'])\n",
    "foreign_born['continent'].unique()"
   ]
  },
  {
   "cell_type": "code",
   "execution_count": null,
   "metadata": {},
   "outputs": [],
   "source": [
    "foreign_born['pop'] = foreign_born['pop'].astype(int)\n",
    "foreign_born['year'] =  foreign_born['year'].astype(int)\n",
    "foreign_born"
   ]
  },
  {
   "cell_type": "code",
   "execution_count": null,
   "metadata": {},
   "outputs": [],
   "source": [
    "foreign_born = foreign_born.groupby(['year','gender']).sum()\n",
    "foreign_born"
   ]
  },
  {
   "cell_type": "code",
   "execution_count": null,
   "metadata": {},
   "outputs": [],
   "source": [
    "foreign_born = foreign_born.unstack()\n",
    "cols = ['foreign_male','foreign_female']\n",
    "foreign_born.columns = cols\n",
    "foreign_born['foreign_tot'] = foreign_born['foreign_male'] + foreign_born['foreign_female']\n",
    "foreign_born['foreign_male_factor'] = foreign_born['foreign_male'] / foreign_born['foreign_female']\n",
    "foreign_born"
   ]
  },
  {
   "cell_type": "code",
   "execution_count": null,
   "metadata": {},
   "outputs": [],
   "source": [
    "# total population\n",
    "# fetch population data\n",
    "\n",
    "url2 = 'http://api.scb.se/OV0104/v1/doris/sv/ssd/START/BE/BE0101/BE0101A/BefolkningR1860'\n",
    "data2 = {\n",
    "  \"query\": [\n",
    "    {\n",
    "      \"code\": \"Alder\",\n",
    "      \"selection\": {\n",
    "        \"filter\": \"agg:Ålder5år\",\n",
    "        \"values\": [\n",
    "          \"-4\",\n",
    "          \"5-9\",\n",
    "          \"10-14\",\n",
    "          \"15-19\",\n",
    "          \"20-24\",\n",
    "          \"25-29\",\n",
    "          \"30-34\",\n",
    "          \"35-39\",\n",
    "          \"40-44\",\n",
    "          \"45-49\",\n",
    "          \"50-54\",\n",
    "          \"55-59\",\n",
    "          \"60-64\",\n",
    "          \"65-69\",\n",
    "          \"70-74\",\n",
    "          \"75-79\",\n",
    "          \"80-84\",\n",
    "          \"85-89\",\n",
    "          \"90-94\",\n",
    "          \"95-99\",\n",
    "          \"100+\"\n",
    "        ]\n",
    "      }\n",
    "    },\n",
    "    {\n",
    "      \"code\": \"Kon\",\n",
    "      \"selection\": {\n",
    "        \"filter\": \"item\",\n",
    "        \"values\": [\n",
    "          \"1\",\n",
    "          \"2\"\n",
    "        ]\n",
    "      }\n",
    "    },\n",
    "    {\n",
    "      \"code\": \"Tid\",\n",
    "      \"selection\": {\n",
    "        \"filter\": \"item\",\n",
    "        \"values\": [\n",
    "          \"2000\",\n",
    "          \"2001\",\n",
    "          \"2002\",\n",
    "          \"2003\",\n",
    "          \"2004\",\n",
    "          \"2005\",\n",
    "          \"2006\",\n",
    "          \"2007\",\n",
    "          \"2008\",\n",
    "          \"2009\",\n",
    "          \"2010\",\n",
    "          \"2011\",\n",
    "          \"2012\",\n",
    "          \"2013\",\n",
    "          \"2014\",\n",
    "          \"2015\",\n",
    "          \"2016\",\n",
    "          \"2017\",\n",
    "          \"2018\",\n",
    "          \"2019\"\n",
    "        ]\n",
    "      }\n",
    "    }\n",
    "  ],\n",
    "  \"response\": {\n",
    "    \"format\": \"json\"\n",
    "  }\n",
    "}"
   ]
  },
  {
   "cell_type": "code",
   "execution_count": null,
   "metadata": {},
   "outputs": [],
   "source": [
    "r2 = requests.post(url2,json=data2)\n",
    "print (r2.status_code)\n",
    "json2 = r2.json()"
   ]
  },
  {
   "cell_type": "code",
   "execution_count": null,
   "metadata": {},
   "outputs": [],
   "source": [
    "#parse population data\n",
    "\n",
    "data_list2 = []\n",
    "\n",
    "nr_records2 = (len(json2['data']))\n",
    "\n",
    "for rec2 in range(nr_records2):\n",
    "\n",
    "    data_list2.append ((json2['data'][rec2]['key'][0],\n",
    "                        json2['data'][rec2]['key'][1],json2['data'][rec2]['key'][2],json2['data'][rec2]['values'][0]))\n"
   ]
  },
  {
   "cell_type": "code",
   "execution_count": null,
   "metadata": {},
   "outputs": [],
   "source": [
    "# put pop.data into df2\n",
    "\n",
    "population = pd.DataFrame(data_list2,columns=['age_grp','gender','year','pop'])\n",
    "population['year'] = population['year'].astype(int)\n",
    "population['pop'] = population['pop'].astype(int)\n",
    "population"
   ]
  },
  {
   "cell_type": "code",
   "execution_count": null,
   "metadata": {},
   "outputs": [],
   "source": [
    "population = population.groupby('year').sum()\n",
    "population"
   ]
  },
  {
   "cell_type": "code",
   "execution_count": null,
   "metadata": {},
   "outputs": [],
   "source": [
    "#foreign_born['total_pop'] = population['pop']\n",
    "foreign_born"
   ]
  },
  {
   "cell_type": "code",
   "execution_count": null,
   "metadata": {},
   "outputs": [],
   "source": [
    "foreign_born['total_pop'] = population['pop']\n",
    "foreign_born['foreign_ratio'] = foreign_born['foreign_tot'] / foreign_born['total_pop']\n",
    "foreign_born['growth_factor'] = foreign_born['foreign_ratio'] / foreign_born['foreign_ratio'].shift()\n",
    "foreign_born['other'] = foreign_born['total_pop'] - foreign_born['foreign_tot']\n",
    "foreign_born['other_ratio'] = foreign_born['other'] / foreign_born['total_pop']\n",
    "foreign_born"
   ]
  },
  {
   "cell_type": "code",
   "execution_count": null,
   "metadata": {},
   "outputs": [],
   "source": [
    "(foreign_born[['foreign_ratio','other_ratio']] * 100).plot(\n",
    "    kind='bar',stacked=True,color=['k','yellow'],\n",
    "    figsize=(18,12),title='Sweden percentage population from Africa,Asia,Unspecified,Stateless')\n",
    "\n",
    "plt.ylabel('percent')\n",
    "plt.yticks(range(0,111,5))\n",
    "plt.ylim([0,100])\n",
    "plt.legend(['percent population from Africa/Asia/Unspecified/Stateless','percent population other'])\n",
    "plt.savefig('swe_population_read_and_weep.jpg',format='jpg',dpi=600)"
   ]
  }
 ],
 "metadata": {
  "kernelspec": {
   "display_name": "Python 3",
   "language": "python",
   "name": "python3"
  },
  "language_info": {
   "codemirror_mode": {
    "name": "ipython",
    "version": 3
   },
   "file_extension": ".py",
   "mimetype": "text/x-python",
   "name": "python",
   "nbconvert_exporter": "python",
   "pygments_lexer": "ipython3",
   "version": "3.6.9"
  }
 },
 "nbformat": 4,
 "nbformat_minor": 4
}
