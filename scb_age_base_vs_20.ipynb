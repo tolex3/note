{
 "cells": [
  {
   "cell_type": "code",
   "execution_count": null,
   "metadata": {},
   "outputs": [],
   "source": [
    "import numpy as np\n",
    "import matplotlib.pyplot as plt\n",
    "import pandas as pd\n",
    "import seaborn as sns\n",
    "sns.set()"
   ]
  },
  {
   "cell_type": "code",
   "execution_count": null,
   "metadata": {},
   "outputs": [],
   "source": [
    "fhm = pd.ExcelFile('https://www.arcgis.com/sharing/rest/content/items/b5e7488e117749c19881cce45db13f7e/data')\n",
    "\n",
    "fhm.sheet_names"
   ]
  },
  {
   "cell_type": "code",
   "execution_count": null,
   "metadata": {},
   "outputs": [],
   "source": [
    "df =pd.read_excel('https://www.arcgis.com/sharing/rest/content/items/b5e7488e117749c19881cce45db13f7e/data',sheet_name='Antal avlidna per dag',\n",
    "                 parse_dates=True,skipfooter=1)"
   ]
  },
  {
   "cell_type": "code",
   "execution_count": null,
   "metadata": {},
   "outputs": [],
   "source": [
    "df\n"
   ]
  },
  {
   "cell_type": "code",
   "execution_count": null,
   "metadata": {},
   "outputs": [],
   "source": [
    "df.set_index('Datum_avliden',inplace=True)"
   ]
  },
  {
   "cell_type": "code",
   "execution_count": null,
   "metadata": {},
   "outputs": [],
   "source": [
    "df"
   ]
  },
  {
   "cell_type": "code",
   "execution_count": null,
   "metadata": {},
   "outputs": [],
   "source": [
    "df.plot(figsize=(18,12))\n",
    "plt.grid(True)"
   ]
  },
  {
   "cell_type": "code",
   "execution_count": null,
   "metadata": {},
   "outputs": [],
   "source": [
    "df_weekly = df.resample('W').sum()"
   ]
  },
  {
   "cell_type": "code",
   "execution_count": null,
   "metadata": {},
   "outputs": [],
   "source": [
    "df_weekly"
   ]
  },
  {
   "cell_type": "code",
   "execution_count": null,
   "metadata": {},
   "outputs": [],
   "source": [
    "df_weekly[:-1].plot(style='o--',figsize=(18,12))\n",
    "plt.grid(True)"
   ]
  },
  {
   "cell_type": "code",
   "execution_count": null,
   "metadata": {},
   "outputs": [],
   "source": [
    "conf_df = pd.read_excel('https://www.arcgis.com/sharing/rest/content/items/b5e7488e117749c19881cce45db13f7e/data',sheet_name='Antal per dag region',\n",
    "                       usecols=[0,1],index_col=0,parse_dates=True)"
   ]
  },
  {
   "cell_type": "code",
   "execution_count": null,
   "metadata": {},
   "outputs": [],
   "source": [
    "conf_df"
   ]
  },
  {
   "cell_type": "code",
   "execution_count": null,
   "metadata": {},
   "outputs": [],
   "source": [
    "conf_weekly=conf_df.resample('W').sum()\n",
    "conf_weekly"
   ]
  },
  {
   "cell_type": "code",
   "execution_count": null,
   "metadata": {},
   "outputs": [],
   "source": [
    "conf_weekly[:-1].plot(style='o--',figsize=(18,12))\n",
    "plt.grid(True)"
   ]
  },
  {
   "cell_type": "code",
   "execution_count": null,
   "metadata": {},
   "outputs": [],
   "source": [
    "icu = fhm.parse('Antal intensivvårdade per dag', parse_dates=True,\n",
    "               index_col=0)\n",
    "\n",
    "icu"
   ]
  },
  {
   "cell_type": "code",
   "execution_count": null,
   "metadata": {},
   "outputs": [],
   "source": [
    "icu.plot(figsize=(18,12))"
   ]
  },
  {
   "cell_type": "code",
   "execution_count": null,
   "metadata": {},
   "outputs": [],
   "source": [
    "icu_weekly = icu.resample('W').sum()\n",
    "icu_weekly"
   ]
  },
  {
   "cell_type": "code",
   "execution_count": null,
   "metadata": {},
   "outputs": [],
   "source": [
    "icu_weekly[:-1].plot(figsize=(18,12),style='o--')"
   ]
  },
  {
   "cell_type": "code",
   "execution_count": null,
   "metadata": {},
   "outputs": [],
   "source": [
    "scb = pd.ExcelFile('https://scb.se/hitta-statistik/statistik-efter-amne/befolkning/befolkningens-sammansattning/befolkningsstatistik/pong/tabell-och-diagram/preliminar-statistik-over-doda/')"
   ]
  },
  {
   "cell_type": "code",
   "execution_count": null,
   "metadata": {},
   "outputs": [],
   "source": [
    "scb.sheet_names"
   ]
  },
  {
   "cell_type": "code",
   "execution_count": null,
   "metadata": {},
   "outputs": [],
   "source": [
    "scb_daily = scb.parse('Tabell 1',skiprows=6)\n",
    "scb_daily.index = pd.date_range('2020-01-01' , '2021-01-01')\n",
    "scb_daily = scb_daily.drop('DagMånad',axis=1)\n",
    "scb_daily = scb_daily.loc[:,'2015' : '2015-2019']\n",
    "unknowns = scb_daily.iloc[-1]\n",
    "scb_daily = scb_daily.iloc[:-1]\n",
    "scb_daily"
   ]
  },
  {
   "cell_type": "code",
   "execution_count": null,
   "metadata": {},
   "outputs": [],
   "source": [
    "knowns_sum = scb_daily.sum()\n",
    "knowns_sum"
   ]
  },
  {
   "cell_type": "code",
   "execution_count": null,
   "metadata": {},
   "outputs": [],
   "source": [
    "daily_pct = scb_daily / knowns_sum\n",
    "daily_pct"
   ]
  },
  {
   "cell_type": "code",
   "execution_count": null,
   "metadata": {},
   "outputs": [],
   "source": [
    "scb_daily_corr = scb_daily + unknowns * daily_pct\n",
    "scb_daily_corr"
   ]
  },
  {
   "cell_type": "code",
   "execution_count": null,
   "metadata": {},
   "outputs": [],
   "source": [
    "corr_diff = scb_daily_corr - scb_daily\n",
    "corr_diff"
   ]
  },
  {
   "cell_type": "code",
   "execution_count": null,
   "metadata": {},
   "outputs": [],
   "source": [
    "corr_diff.plot(figsize=(18,12))"
   ]
  },
  {
   "cell_type": "code",
   "execution_count": null,
   "metadata": {},
   "outputs": [],
   "source": [
    "scb_daily_corr.sum()"
   ]
  },
  {
   "cell_type": "code",
   "execution_count": null,
   "metadata": {},
   "outputs": [],
   "source": [
    "baseline = scb_daily['2015-2019']\n",
    "baseline"
   ]
  },
  {
   "cell_type": "code",
   "execution_count": null,
   "metadata": {},
   "outputs": [],
   "source": [
    "pct_change = scb_daily_corr.div(baseline,axis=0)\n",
    "pct_change"
   ]
  },
  {
   "cell_type": "code",
   "execution_count": null,
   "metadata": {},
   "outputs": [],
   "source": [
    "pct_change.plot(y='2020',figsize=(18,12))\n",
    "plt.axhline(1,ls='dashed',color='k')"
   ]
  },
  {
   "cell_type": "code",
   "execution_count": null,
   "metadata": {},
   "outputs": [],
   "source": [
    "weekly_change = pct_change.groupby(pct_change.index.week).mean()\n",
    "weekly_change"
   ]
  },
  {
   "cell_type": "code",
   "execution_count": null,
   "metadata": {},
   "outputs": [],
   "source": [
    "weekly_change.plot(figsize=(18,12),y='2020',style='o--')\n",
    "plt.axhline(1,ls='dashed',color='k')"
   ]
  },
  {
   "cell_type": "code",
   "execution_count": null,
   "metadata": {},
   "outputs": [],
   "source": [
    "cum_growth = scb_daily_corr.cumsum().div(baseline.cumsum(),axis=0)\n",
    "cum_growth"
   ]
  },
  {
   "cell_type": "code",
   "execution_count": null,
   "metadata": {},
   "outputs": [],
   "source": [
    "cum_growth.plot(y='2020', figsize=(18,12))\n",
    "plt.axhline(1,ls='dashed',color='k')"
   ]
  },
  {
   "cell_type": "code",
   "execution_count": null,
   "metadata": {},
   "outputs": [],
   "source": [
    "weekly_dead = scb_daily.groupby(scb_daily.index.week).sum()\n",
    "weekly_dead"
   ]
  },
  {
   "cell_type": "code",
   "execution_count": null,
   "metadata": {},
   "outputs": [],
   "source": [
    "weekly_cum_growth = weekly_dead['2020'].cumsum().div(weekly_dead['2015-2019'].cumsum())\n",
    "\n",
    "weekly_cum_growth"
   ]
  },
  {
   "cell_type": "code",
   "execution_count": null,
   "metadata": {},
   "outputs": [],
   "source": [
    "weekly_cum_growth.plot(figsize=(18,12),style='o--')\n",
    "plt.axhline(1,ls='dashed',color='k')"
   ]
  },
  {
   "cell_type": "code",
   "execution_count": null,
   "metadata": {},
   "outputs": [],
   "source": [
    "monthly_dead = scb_daily.groupby(scb_daily.index.month).sum()\n",
    "monthly_dead"
   ]
  },
  {
   "cell_type": "code",
   "execution_count": null,
   "metadata": {},
   "outputs": [],
   "source": [
    "monthly_cum_growth = monthly_dead['2020'].cumsum().div(monthly_dead['2015-2019'].cumsum())\n",
    "monthly_cum_growth"
   ]
  },
  {
   "cell_type": "code",
   "execution_count": null,
   "metadata": {},
   "outputs": [],
   "source": [
    "monthly_cum_growth.plot(figsize=(18,12),style='o--')\n",
    "plt.axhline(1,ls='dashed',color='k')"
   ]
  },
  {
   "cell_type": "code",
   "execution_count": null,
   "metadata": {},
   "outputs": [],
   "source": [
    "df_age = scb.parse('Tabell 7',skiprows=8,usecols=range(0,19))\n",
    "df_age"
   ]
  },
  {
   "cell_type": "code",
   "execution_count": null,
   "metadata": {},
   "outputs": [],
   "source": [
    "df_age = df_age.iloc[:-3,:]\n",
    "df_age"
   ]
  },
  {
   "cell_type": "code",
   "execution_count": null,
   "metadata": {},
   "outputs": [],
   "source": [
    "cols = [64,79,89,100]"
   ]
  },
  {
   "cell_type": "code",
   "execution_count": null,
   "metadata": {},
   "outputs": [],
   "source": [
    "def add_unknowns(df):\n",
    "    unknowns=df.iloc[-1,:]\n",
    "    knowns = df.iloc[:-1,:]\n",
    "    pct = knowns / knowns.sum()\n",
    "    corr = knowns + unknowns * pct\n",
    "    idx = pd.date_range('2020-01-01',freq='W',periods=53)\n",
    "    corr.index=idx\n",
    "    \n",
    "    return corr"
   ]
  },
  {
   "cell_type": "code",
   "execution_count": null,
   "metadata": {},
   "outputs": [],
   "source": [
    "df_age_male_base=df_age.iloc[:,2:6]\n",
    "df_age_female_base=df_age.iloc[:,6:10]\n",
    "df_age_male_base.columns=cols\n",
    "df_age_female_base.columns=cols\n",
    "df_age_male_base"
   ]
  },
  {
   "cell_type": "code",
   "execution_count": null,
   "metadata": {},
   "outputs": [],
   "source": [
    "male_base = add_unknowns(df_age_male_base)\n",
    "female_base = add_unknowns(df_age_female_base)"
   ]
  },
  {
   "cell_type": "code",
   "execution_count": null,
   "metadata": {},
   "outputs": [],
   "source": [
    "df_age_male_base.sum(axis=1).sum()"
   ]
  },
  {
   "cell_type": "code",
   "execution_count": null,
   "metadata": {},
   "outputs": [],
   "source": [
    "df_age_female_base"
   ]
  },
  {
   "cell_type": "code",
   "execution_count": null,
   "metadata": {},
   "outputs": [],
   "source": [
    "df_age_male_20 = df_age.iloc[:,11:15]\n",
    "df_age_male_20.columns=cols\n",
    "df_age_male_20"
   ]
  },
  {
   "cell_type": "code",
   "execution_count": null,
   "metadata": {},
   "outputs": [],
   "source": [
    "df_age_female_20 = df_age.iloc[:,15:]\n",
    "df_age_female_20.columns=cols\n",
    "df_age_female_20"
   ]
  },
  {
   "cell_type": "code",
   "execution_count": null,
   "metadata": {},
   "outputs": [],
   "source": [
    "male_20 = add_unknowns(df_age_male_20)\n",
    "female_20 = add_unknowns(df_age_female_20)"
   ]
  },
  {
   "cell_type": "code",
   "execution_count": null,
   "metadata": {},
   "outputs": [],
   "source": [
    "age_both_base = male_base + female_base\n",
    "age_both_20 = male_20 + female_20\n",
    "age_both_20"
   ]
  },
  {
   "cell_type": "code",
   "execution_count": null,
   "metadata": {},
   "outputs": [],
   "source": [
    "\n",
    "last_week = age_both_20.where(age_both_20 != 0).dropna().index[-1]\n",
    "last_week\n",
    "last_good_week = last_week - pd.DateOffset(weeks=2)\n",
    "last_good_week"
   ]
  },
  {
   "cell_type": "code",
   "execution_count": null,
   "metadata": {},
   "outputs": [],
   "source": [
    "age_both_20.sum(axis=1).sum()"
   ]
  },
  {
   "cell_type": "code",
   "execution_count": null,
   "metadata": {},
   "outputs": [],
   "source": [
    "age_both_base.sum(axis=1).sum()"
   ]
  },
  {
   "cell_type": "code",
   "execution_count": null,
   "metadata": {},
   "outputs": [],
   "source": [
    "weekly_growth = age_both_20 / age_both_base"
   ]
  },
  {
   "cell_type": "code",
   "execution_count": null,
   "metadata": {},
   "outputs": [],
   "source": [
    "weekly_growth.plot(figsize=(18,12),style='o--')"
   ]
  },
  {
   "cell_type": "code",
   "execution_count": null,
   "metadata": {},
   "outputs": [],
   "source": [
    "weekly_cum_growth = age_both_20.cumsum() / age_both_base.cumsum()"
   ]
  },
  {
   "cell_type": "code",
   "execution_count": null,
   "metadata": {},
   "outputs": [],
   "source": [
    "weekly_cum_growth.plot(figsize=(18,12),style='o--')"
   ]
  },
  {
   "cell_type": "code",
   "execution_count": null,
   "metadata": {},
   "outputs": [],
   "source": [
    "import requests\n",
    "url = 'http://api.scb.se/OV0104/v1/doris/sv/ssd/START/BE/BE0101/BE0101A/BefolkningR1860'\n",
    "\n",
    "json_data = {\n",
    "  \"query\": [\n",
    "    {\n",
    "      \"code\": \"Alder\",\n",
    "      \"selection\": {\n",
    "        \"filter\": \"vs:Ålder1årA\",\n",
    "        \"values\": [\n",
    "          \"0\",\n",
    "          \"1\",\n",
    "          \"2\",\n",
    "          \"3\",\n",
    "          \"4\",\n",
    "          \"5\",\n",
    "          \"6\",\n",
    "          \"7\",\n",
    "          \"8\",\n",
    "          \"9\",\n",
    "          \"10\",\n",
    "          \"11\",\n",
    "          \"12\",\n",
    "          \"13\",\n",
    "          \"14\",\n",
    "          \"15\",\n",
    "          \"16\",\n",
    "          \"17\",\n",
    "          \"18\",\n",
    "          \"19\",\n",
    "          \"20\",\n",
    "          \"21\",\n",
    "          \"22\",\n",
    "          \"23\",\n",
    "          \"24\",\n",
    "          \"25\",\n",
    "          \"26\",\n",
    "          \"27\",\n",
    "          \"28\",\n",
    "          \"29\",\n",
    "          \"30\",\n",
    "          \"31\",\n",
    "          \"32\",\n",
    "          \"33\",\n",
    "          \"34\",\n",
    "          \"35\",\n",
    "          \"36\",\n",
    "          \"37\",\n",
    "          \"38\",\n",
    "          \"39\",\n",
    "          \"40\",\n",
    "          \"41\",\n",
    "          \"42\",\n",
    "          \"43\",\n",
    "          \"44\",\n",
    "          \"45\",\n",
    "          \"46\",\n",
    "          \"47\",\n",
    "          \"48\",\n",
    "          \"49\",\n",
    "          \"50\",\n",
    "          \"51\",\n",
    "          \"52\",\n",
    "          \"53\",\n",
    "          \"54\",\n",
    "          \"55\",\n",
    "          \"56\",\n",
    "          \"57\",\n",
    "          \"58\",\n",
    "          \"59\",\n",
    "          \"60\",\n",
    "          \"61\",\n",
    "          \"62\",\n",
    "          \"63\",\n",
    "          \"64\",\n",
    "          \"65\",\n",
    "          \"66\",\n",
    "          \"67\",\n",
    "          \"68\",\n",
    "          \"69\",\n",
    "          \"70\",\n",
    "          \"71\",\n",
    "          \"72\",\n",
    "          \"73\",\n",
    "          \"74\",\n",
    "          \"75\",\n",
    "          \"76\",\n",
    "          \"77\",\n",
    "          \"78\",\n",
    "          \"79\",\n",
    "          \"80\",\n",
    "          \"81\",\n",
    "          \"82\",\n",
    "          \"83\",\n",
    "          \"84\",\n",
    "          \"85\",\n",
    "          \"86\",\n",
    "          \"87\",\n",
    "          \"88\",\n",
    "          \"89\",\n",
    "          \"90\",\n",
    "          \"91\",\n",
    "          \"92\",\n",
    "          \"93\",\n",
    "          \"94\",\n",
    "          \"95\",\n",
    "          \"96\",\n",
    "          \"97\",\n",
    "          \"98\",\n",
    "          \"99\",\n",
    "          \"100+\"\n",
    "        ]\n",
    "      }\n",
    "    },\n",
    "    {\n",
    "      \"code\": \"Kon\",\n",
    "      \"selection\": {\n",
    "        \"filter\": \"item\",\n",
    "        \"values\": [\n",
    "          \"1\",\n",
    "          \"2\"\n",
    "        ]\n",
    "      }\n",
    "    },\n",
    "    {\n",
    "      \"code\": \"Tid\",\n",
    "      \"selection\": {\n",
    "        \"filter\": \"item\",\n",
    "        \"values\": [\n",
    "          \"2014\",\n",
    "          \"2015\",\n",
    "          \"2016\",\n",
    "          \"2017\",\n",
    "          \"2018\",\n",
    "          \"2019\"\n",
    "        ]\n",
    "      }\n",
    "    }\n",
    "  ],\n",
    "  \"response\": {\n",
    "    \"format\": \"json\"\n",
    "  }\n",
    "}"
   ]
  },
  {
   "cell_type": "code",
   "execution_count": null,
   "metadata": {},
   "outputs": [],
   "source": [
    "r = requests.post(url,json=json_data)\n",
    "r.status_code"
   ]
  },
  {
   "cell_type": "code",
   "execution_count": null,
   "metadata": {},
   "outputs": [],
   "source": [
    "json = r.json()\n",
    "\n",
    "json['data'][0]"
   ]
  },
  {
   "cell_type": "code",
   "execution_count": null,
   "metadata": {},
   "outputs": [],
   "source": []
  },
  {
   "cell_type": "code",
   "execution_count": null,
   "metadata": {},
   "outputs": [],
   "source": [
    "rows = len(json['data'])\n",
    "\n",
    "data_list = []\n",
    "\n",
    "for r in range(rows):\n",
    "    rec = json['data']\n",
    "    data_list.append([rec[r]['key'][0],rec[r]['key'][1],rec[r]['key'][2],rec[r]['values'][0]])\n",
    "    \n",
    "data_list"
   ]
  },
  {
   "cell_type": "code",
   "execution_count": null,
   "metadata": {},
   "outputs": [],
   "source": [
    "pop_df = pd.DataFrame(data_list,columns=['age','gender','year','pop'])\n",
    "pop_df['pop'] = pop_df['pop'].astype(int)\n",
    "pop_df['age'] = pop_df['age'].apply(lambda x : x.replace('+','')).astype(int)\n",
    "\n",
    "pop_df"
   ]
  },
  {
   "cell_type": "code",
   "execution_count": null,
   "metadata": {},
   "outputs": [],
   "source": [
    "pop_age_tot = pop_df.groupby(['year','age']).sum()\n",
    "pop_age_tot"
   ]
  },
  {
   "cell_type": "code",
   "execution_count": null,
   "metadata": {},
   "outputs": [],
   "source": [
    "pop_age_tot_flat = pop_age_tot.unstack()\n",
    "pop_age_tot_flat = pop_age_tot_flat.droplevel(0,axis=1)\n",
    "pop_age_tot_flat"
   ]
  },
  {
   "cell_type": "code",
   "execution_count": null,
   "metadata": {},
   "outputs": [],
   "source": [
    "grp_64 = pop_age_tot_flat.loc[:,:64].sum(axis=1)\n",
    "grp_79 = pop_age_tot_flat.loc[:,65:79].sum(axis=1)\n",
    "grp_89 = pop_age_tot_flat.loc[:,80:89].sum(axis=1)\n",
    "grp_100 = pop_age_tot_flat.loc[:,90:].sum(axis=1)\n",
    "grp_100"
   ]
  },
  {
   "cell_type": "code",
   "execution_count": null,
   "metadata": {},
   "outputs": [],
   "source": [
    "pop_age_grps = pd.concat([grp_64,grp_79,grp_89,grp_100],axis=1)\n",
    "pop_age_grps.columns = cols\n",
    "pop_age_grps"
   ]
  },
  {
   "cell_type": "code",
   "execution_count": null,
   "metadata": {},
   "outputs": [],
   "source": [
    "pop_age_grps.plot(kind='bar',stacked=True,figsize=(18,12))"
   ]
  },
  {
   "cell_type": "code",
   "execution_count": null,
   "metadata": {},
   "outputs": [],
   "source": [
    "baseline_pop = pop_age_grps.loc['2014':'2018'].mean()\n",
    "baseline_pop"
   ]
  },
  {
   "cell_type": "code",
   "execution_count": null,
   "metadata": {},
   "outputs": [],
   "source": [
    "twenty_twenty_pop = pop_age_grps.loc['2019']\n",
    "twenty_twenty_pop.name = '2020'\n",
    "twenty_twenty_pop"
   ]
  },
  {
   "cell_type": "code",
   "execution_count": null,
   "metadata": {},
   "outputs": [],
   "source": [
    "baseline_weekly_mortality = age_both_base / baseline_pop\n",
    "twenty_twenty_weekly_mortality = age_both_20 / twenty_twenty_pop\n",
    "\n",
    "twenty_twenty_weekly_mortality"
   ]
  },
  {
   "cell_type": "code",
   "execution_count": null,
   "metadata": {},
   "outputs": [],
   "source": [
    "weekly_mortality = pd.concat([baseline_weekly_mortality,twenty_twenty_weekly_mortality],axis=1)\n",
    "weekly_mortality.columns = ['15-19_age_grp_64',\n",
    "                           '15-19_age_grp_79',\n",
    "                           '15-19_age_grp_89',\n",
    "                           '15-19_age_grp_90+',\n",
    "                           '20_age_grp_64',\n",
    "                           '20_age_grp_79',\n",
    "                           '20_age_grp_89',\n",
    "                           '20_age_grp_90+']\n",
    "\n",
    "weekly_mortality"
   ]
  },
  {
   "cell_type": "code",
   "execution_count": null,
   "metadata": {},
   "outputs": [],
   "source": [
    "weekly_mortality.plot(figsize=(18,12),style='o--')"
   ]
  },
  {
   "cell_type": "code",
   "execution_count": null,
   "metadata": {},
   "outputs": [],
   "source": [
    "weekly_growth = twenty_twenty_weekly_mortality / baseline_weekly_mortality\n",
    "weekly_growth"
   ]
  },
  {
   "cell_type": "code",
   "execution_count": null,
   "metadata": {},
   "outputs": [],
   "source": [
    "title = 'SWEDEN weekly mortality growth factor 2020 YTD {} vs baseline 2015-2019'.format(last_good_week.date())\n",
    "\n",
    "weekly_growth[:last_good_week].plot(figsize=(18,12),style='o--',title=title)\n",
    "plt.axhline(1,ls='dashed',color='k')\n",
    "plt.ylabel('growth factor')"
   ]
  },
  {
   "cell_type": "code",
   "execution_count": null,
   "metadata": {},
   "outputs": [],
   "source": [
    "weekly_cum_growth = twenty_twenty_weekly_mortality.cumsum() / baseline_weekly_mortality.cumsum()\n",
    "weekly_cum_growth"
   ]
  },
  {
   "cell_type": "code",
   "execution_count": null,
   "metadata": {},
   "outputs": [],
   "source": [
    "title = 'SWEDEN weekly cumulative mortality growth factor 2020 YTD {} vs baseline 2015-2019\\nDataSource : SCB.se'.format(last_good_week.date())\n",
    "\n",
    "weekly_cum_growth[:last_good_week].plot(figsize=(18,12),style='o--',title=title)\n",
    "plt.axhline(1,ls='dashed',color='k')\n",
    "plt.ylabel('growth factor')\n",
    "plt.legend(['-64','65-79','80-89','90+'])\n",
    "plt.savefig('scb_weekly_growth_factors_vs_15_19.jpg',format='jpg')"
   ]
  },
  {
   "cell_type": "code",
   "execution_count": null,
   "metadata": {},
   "outputs": [],
   "source": [
    "ytd_deaths_20 = age_both_20.loc[:last_good_week].sum()\n",
    "ytd_deaths_base = age_both_base.loc[:last_good_week].sum()\n",
    "ytd_deaths_20\n"
   ]
  },
  {
   "cell_type": "code",
   "execution_count": null,
   "metadata": {},
   "outputs": [],
   "source": [
    "ytd_deaths = pd.concat([ytd_deaths_base,ytd_deaths_20],axis=1)\n",
    "ytd_deaths.columns = ['15-19-base','2020']\n",
    "ytd_deaths"
   ]
  },
  {
   "cell_type": "code",
   "execution_count": null,
   "metadata": {},
   "outputs": [],
   "source": [
    "ytd_deaths.plot(kind='bar')"
   ]
  },
  {
   "cell_type": "code",
   "execution_count": null,
   "metadata": {},
   "outputs": [],
   "source": [
    "ytd_mortality = weekly_mortality.loc[:last_good_week].sum()\n",
    "ytd_mortality_combined = pd.DataFrame({'15-19-base' :ytd_mortality.iloc[:4].values,\n",
    "                             '2020' : ytd_mortality.iloc[4:].values})\n",
    "\n",
    "ytd_mortality_combined.index = [64,79,89,100]\n",
    "ytd_mortality_combined"
   ]
  },
  {
   "cell_type": "code",
   "execution_count": null,
   "metadata": {},
   "outputs": [],
   "source": [
    "title = 'SWEDEN age group mortality YTD {}\\nDataSource : SCB.se'.format(last_good_week.date())\n",
    "\n",
    "ytd_mortality_combined.plot(kind='bar',figsize=(18,12),logy=True,title=title)\n",
    "\n",
    "_= plt.xticks(range(len(ytd_mortality_combined)),['-64','65-79','80-89','90+'])\n",
    "plt.ylabel('mortality [log scale]')\n",
    "plt.xlabel('age group')\n",
    "plt.savefig('swe_age_grp_mortality_ytd.jpg',format='jpg')"
   ]
  },
  {
   "cell_type": "code",
   "execution_count": null,
   "metadata": {},
   "outputs": [],
   "source": [
    "ytd_mortality_combined_growth = ytd_mortality_combined['2020'] / ytd_mortality_combined['15-19-base']\n",
    "ytd_mortality_combined_growth"
   ]
  },
  {
   "cell_type": "code",
   "execution_count": null,
   "metadata": {},
   "outputs": [],
   "source": [
    "title='SWEDEN age grp mortality growth factors 2020 vs baseline 2015-2019, YTD {}\\nDataSource : scb.se'.format(\n",
    "last_good_week.date())\n",
    "plt.ylabel('growth factor')\n",
    "plt.xlabel('age group')\n",
    "plt.axhline(1,ls='dashed',color='k')\n",
    "ytd_mortality_combined_growth.plot(kind='bar',figsize=(18,12),color='red',title=title)\n",
    "_=plt.xticks(range(len(ytd_mortality_combined_growth)),['-64','65-79','80-89','90+'])\n",
    "plt.yticks(np.arange(0,1.1,0.05))\n",
    "plt.savefig('swe_age_grp_mortality_growth_ytd.jpg',format='jpg')"
   ]
  },
  {
   "cell_type": "code",
   "execution_count": null,
   "metadata": {},
   "outputs": [],
   "source": [
    "fhm_age = fhm.parse('Totalt antal per åldersgrupp')\n",
    "fhm_age"
   ]
  },
  {
   "cell_type": "code",
   "execution_count": null,
   "metadata": {},
   "outputs": [],
   "source": [
    "url = 'http://api.scb.se/OV0104/v1/doris/sv/ssd/START/BE/BE0101/BE0101I/DodaFodelsearK'\n",
    "\n",
    "json_data = {\n",
    "  \"query\": [\n",
    "    {\n",
    "      \"code\": \"Region\",\n",
    "      \"selection\": {\n",
    "        \"filter\": \"vs:RegionRiket99\",\n",
    "        \"values\": [\n",
    "          \"00\"\n",
    "        ]\n",
    "      }\n",
    "    },\n",
    "    {\n",
    "      \"code\": \"Alder\",\n",
    "      \"selection\": {\n",
    "        \"filter\": \"vs:Ålder1årA\",\n",
    "        \"values\": [\n",
    "          \"0\",\n",
    "          \"1\",\n",
    "          \"2\",\n",
    "          \"3\",\n",
    "          \"4\",\n",
    "          \"5\",\n",
    "          \"6\",\n",
    "          \"7\",\n",
    "          \"8\",\n",
    "          \"9\",\n",
    "          \"10\",\n",
    "          \"11\",\n",
    "          \"12\",\n",
    "          \"13\",\n",
    "          \"14\",\n",
    "          \"15\",\n",
    "          \"16\",\n",
    "          \"17\",\n",
    "          \"18\",\n",
    "          \"19\",\n",
    "          \"20\",\n",
    "          \"21\",\n",
    "          \"22\",\n",
    "          \"23\",\n",
    "          \"24\",\n",
    "          \"25\",\n",
    "          \"26\",\n",
    "          \"27\",\n",
    "          \"28\",\n",
    "          \"29\",\n",
    "          \"30\",\n",
    "          \"31\",\n",
    "          \"32\",\n",
    "          \"33\",\n",
    "          \"34\",\n",
    "          \"35\",\n",
    "          \"36\",\n",
    "          \"37\",\n",
    "          \"38\",\n",
    "          \"39\",\n",
    "          \"40\",\n",
    "          \"41\",\n",
    "          \"42\",\n",
    "          \"43\",\n",
    "          \"44\",\n",
    "          \"45\",\n",
    "          \"46\",\n",
    "          \"47\",\n",
    "          \"48\",\n",
    "          \"49\",\n",
    "          \"50\",\n",
    "          \"51\",\n",
    "          \"52\",\n",
    "          \"53\",\n",
    "          \"54\",\n",
    "          \"55\",\n",
    "          \"56\",\n",
    "          \"57\",\n",
    "          \"58\",\n",
    "          \"59\",\n",
    "          \"60\",\n",
    "          \"61\",\n",
    "          \"62\",\n",
    "          \"63\",\n",
    "          \"64\",\n",
    "          \"65\",\n",
    "          \"66\",\n",
    "          \"67\",\n",
    "          \"68\",\n",
    "          \"69\",\n",
    "          \"70\",\n",
    "          \"71\",\n",
    "          \"72\",\n",
    "          \"73\",\n",
    "          \"74\",\n",
    "          \"75\",\n",
    "          \"76\",\n",
    "          \"77\",\n",
    "          \"78\",\n",
    "          \"79\",\n",
    "          \"80\",\n",
    "          \"81\",\n",
    "          \"82\",\n",
    "          \"83\",\n",
    "          \"84\",\n",
    "          \"85\",\n",
    "          \"86\",\n",
    "          \"87\",\n",
    "          \"88\",\n",
    "          \"89\",\n",
    "          \"90\",\n",
    "          \"91\",\n",
    "          \"92\",\n",
    "          \"93\",\n",
    "          \"94\",\n",
    "          \"95\",\n",
    "          \"96\",\n",
    "          \"97\",\n",
    "          \"98\",\n",
    "          \"99\",\n",
    "          \"100+\"\n",
    "        ]\n",
    "      }\n",
    "    },\n",
    "    {\n",
    "      \"code\": \"Kon\",\n",
    "      \"selection\": {\n",
    "        \"filter\": \"item\",\n",
    "        \"values\": [\n",
    "          \"1\",\n",
    "          \"2\"\n",
    "        ]\n",
    "      }\n",
    "    },\n",
    "    {\n",
    "      \"code\": \"Tid\",\n",
    "      \"selection\": {\n",
    "        \"filter\": \"item\",\n",
    "        \"values\": [\n",
    "          \"2014\",\n",
    "          \"2015\",\n",
    "          \"2016\",\n",
    "          \"2017\",\n",
    "          \"2018\",\n",
    "          \"2019\"\n",
    "        ]\n",
    "      }\n",
    "    }\n",
    "  ],\n",
    "  \"response\": {\n",
    "    \"format\": \"json\"\n",
    "  }\n",
    "}"
   ]
  },
  {
   "cell_type": "code",
   "execution_count": null,
   "metadata": {},
   "outputs": [],
   "source": [
    "r = requests.post(url,json=json_data)\n",
    "r.status_code"
   ]
  },
  {
   "cell_type": "code",
   "execution_count": null,
   "metadata": {},
   "outputs": [],
   "source": [
    "json = r.json()\n",
    "json['data'][0]"
   ]
  },
  {
   "cell_type": "code",
   "execution_count": null,
   "metadata": {},
   "outputs": [],
   "source": [
    "nr_recs = len(json['data'])\n",
    "data_list = []\n",
    "\n",
    "for rec in range(nr_recs):\n",
    "    data_list.append([json['data'][rec]['key'][1],json['data'][rec]['key'][2],\n",
    "                     json['data'][rec]['key'][3],json['data'][rec]['values'][0]])\n",
    "    \n"
   ]
  },
  {
   "cell_type": "code",
   "execution_count": null,
   "metadata": {},
   "outputs": [],
   "source": [
    "dead = pd.DataFrame(data_list,columns=['age','gender','year','dead'])\n",
    "dead['dead'] = dead['dead'].astype(int)\n",
    "dead['age'] = dead['age'].str.replace('+','').astype(int)\n",
    "dead"
   ]
  },
  {
   "cell_type": "code",
   "execution_count": null,
   "metadata": {},
   "outputs": [],
   "source": [
    "dead = dead.groupby(['year','age']).sum()\n",
    "dead"
   ]
  },
  {
   "cell_type": "code",
   "execution_count": null,
   "metadata": {},
   "outputs": [],
   "source": [
    "dead = dead.unstack()\n",
    "dead = dead.droplevel(0,axis=1)\n",
    "dead"
   ]
  },
  {
   "cell_type": "code",
   "execution_count": null,
   "metadata": {},
   "outputs": [],
   "source": [
    "dead_0_64 = dead.loc[:,0:64].sum(axis=1)\n",
    "dead_65_79 = dead.loc[:,65:79].sum(axis=1)\n",
    "\n",
    "print (dead_0_64)\n",
    "print()\n",
    "print (dead_65_79)\n"
   ]
  },
  {
   "cell_type": "code",
   "execution_count": null,
   "metadata": {},
   "outputs": [],
   "source": [
    "full_year_dead = dead.sum(axis=1)\n",
    "full_year_dead"
   ]
  },
  {
   "cell_type": "code",
   "execution_count": null,
   "metadata": {},
   "outputs": [],
   "source": [
    "pct_0_64 = dead_0_64 / full_year_dead\n",
    "pct_65_79 = dead_65_79 / full_year_dead\n",
    "print (pct_0_64)\n",
    "print (pct_65_79)"
   ]
  },
  {
   "cell_type": "code",
   "execution_count": null,
   "metadata": {},
   "outputs": [],
   "source": [
    "dead_0_9 = dead.loc[:,:9].sum(axis=1)\n",
    "dead_10_19 = dead.loc[:,10:19].sum(axis=1)\n",
    "dead_20_29 = dead.loc[:,20:29].sum(axis=1)\n",
    "dead_30_39 = dead.loc[:,30:39].sum(axis=1)\n",
    "dead_40_49 = dead.loc[:,40:49].sum(axis=1)\n",
    "dead_50_59 = dead.loc[:,50:59].sum(axis=1)\n",
    "dead_60_69 = dead.loc[:,60:69].sum(axis=1)\n",
    "dead_70_79 = dead.loc[:,70:79].sum(axis=1)\n",
    "dead_80_89 = dead.loc[:,80:89].sum(axis=1)\n",
    "dead_90_ = dead.loc[:,90:].sum(axis=1)\n",
    "\n",
    "dead_90_"
   ]
  },
  {
   "cell_type": "code",
   "execution_count": null,
   "metadata": {},
   "outputs": [],
   "source": [
    "dead_bin_10y = pd.concat([dead_0_9,dead_10_19,dead_20_29,dead_30_39,dead_40_49,\n",
    "                         dead_50_59,dead_60_69,dead_70_79,dead_80_89,dead_90_],axis=1)\n",
    "\n",
    "dead_bin_10y.columns = range(0,100,10)\n",
    "\n",
    "dead_bin_10y"
   ]
  },
  {
   "cell_type": "code",
   "execution_count": null,
   "metadata": {},
   "outputs": [],
   "source": [
    "dead_bin_10y_base = dead_bin_10y.loc['2014':'2018'].mean()\n",
    "dead_bin_10y_base"
   ]
  },
  {
   "cell_type": "code",
   "execution_count": null,
   "metadata": {},
   "outputs": [],
   "source": [
    "acd_cum_ratio = dead_bin_10y_base.cumsum() / dead_bin_10y_base.sum()\n",
    "ax = acd_cum_ratio.plot(style='o--')\n",
    "acd_cum_ratio"
   ]
  },
  {
   "cell_type": "code",
   "execution_count": null,
   "metadata": {},
   "outputs": [],
   "source": [
    "fhm_dead = fhm_age['Totalt_antal_avlidna']\n",
    "fhm_dead = fhm_dead[:-1]\n",
    "fhm_dead"
   ]
  },
  {
   "cell_type": "code",
   "execution_count": null,
   "metadata": {},
   "outputs": [],
   "source": [
    "fhm_cum_ratio = fhm_dead.cumsum() / fhm_dead.sum()\n",
    "fhm_cum_ratio.index = range(0,100,10)\n",
    "fhm_cum_ratio"
   ]
  },
  {
   "cell_type": "code",
   "execution_count": null,
   "metadata": {
    "scrolled": false
   },
   "outputs": [],
   "source": [
    "title = 'SWEDEN cumulative deaths per age group : distributions for All-Cause baseline 15-19 and Covid registered deaths 2020'\\\n",
    "+ ' YTD {}\\nDataSource : scb.se, FHM'.format(last_good_week.date())\n",
    "\n",
    "ax = acd_cum_ratio.plot(figsize=(18,12),style='go--',title=title)\n",
    "fhm_cum_ratio.plot(ax=ax,style='ro--')\n",
    "plt.xticks(acd_cum_ratio.index)\n",
    "\n",
    "plt.legend(['All Cause Deaths avg 2015-2019','Covid-reg. Deaths 2020'])\n",
    "\n",
    "plt.ylabel('ratio of deaths, [All Cause,Covid]')\n",
    "plt.xlabel('age group [10 year bins]')\n",
    "#plt.yscale('log')\n",
    "_= plt.yticks(np.arange(0,1.05,0.05))"
   ]
  },
  {
   "cell_type": "code",
   "execution_count": null,
   "metadata": {},
   "outputs": [],
   "source": [
    "acd_cum_age_grp_growth = acd_cum_ratio / acd_cum_ratio.shift()\n",
    "fhm_cum_age_grp_growth = fhm_cum_ratio / fhm_cum_ratio.shift()\n",
    "\n",
    "cum_age_grp_growth = pd.concat([acd_cum_age_grp_growth,fhm_cum_age_grp_growth],axis=1)\n",
    "cum_age_grp_growth.columns=['All_Cause_Deaths','Covid_reg_Deaths']\n",
    "cum_age_grp_growth"
   ]
  },
  {
   "cell_type": "code",
   "execution_count": null,
   "metadata": {},
   "outputs": [],
   "source": [
    "cum_age_grp_growth.plot(figsize=(18,12),style='o--')"
   ]
  },
  {
   "cell_type": "code",
   "execution_count": null,
   "metadata": {},
   "outputs": [],
   "source": [
    "fhm_all = pd.concat([df,icu,conf_df],axis=1)\n",
    "fhm_all.columns=['Covid_deaths','Covid_ICUs','Covid_Pos']\n",
    "print (fhm_all)\n",
    "fhm_all = fhm_all.loc[:last_good_week]\n",
    "fhm_all"
   ]
  },
  {
   "cell_type": "code",
   "execution_count": null,
   "metadata": {},
   "outputs": [],
   "source": [
    "fhm_dist = fhm_all / fhm_all.sum()\n",
    "fhm_dist"
   ]
  },
  {
   "cell_type": "code",
   "execution_count": null,
   "metadata": {},
   "outputs": [],
   "source": [
    "fhm_cum_dist = fhm_dist.cumsum()\n",
    "fhm_cum_dist"
   ]
  },
  {
   "cell_type": "code",
   "execution_count": null,
   "metadata": {},
   "outputs": [],
   "source": [
    "fhm_cum_dist.plot(figsize=(18,12),color=['r','g','b'])"
   ]
  },
  {
   "cell_type": "code",
   "execution_count": null,
   "metadata": {},
   "outputs": [],
   "source": []
  },
  {
   "cell_type": "code",
   "execution_count": null,
   "metadata": {},
   "outputs": [],
   "source": [
    "fhm_age\n",
    "fhm_age = fhm_age.drop(10)\n",
    "fhm_age"
   ]
  },
  {
   "cell_type": "code",
   "execution_count": null,
   "metadata": {},
   "outputs": [],
   "source": [
    "fhm_age.index = range(0,100,10)\n",
    "fhm_age = fhm_age.drop('Åldersgrupp',axis=1)\n",
    "fhm_age.columns=['Covid_Pos','Covid_ICUs','Covid_Deaths']\n",
    "\n",
    "fhm_age"
   ]
  },
  {
   "cell_type": "code",
   "execution_count": null,
   "metadata": {},
   "outputs": [],
   "source": [
    "fhm_age_dist = fhm_age / fhm_age.sum()\n",
    "fhm_age_dist"
   ]
  },
  {
   "cell_type": "code",
   "execution_count": null,
   "metadata": {},
   "outputs": [],
   "source": [
    "fhm_age_cum_dist = fhm_age_dist.cumsum()\n",
    "fhm_age_cum_dist"
   ]
  },
  {
   "cell_type": "code",
   "execution_count": null,
   "metadata": {},
   "outputs": [],
   "source": [
    "title = 'SWEDEN Covid : cumulative distribution of events over age groups YTD {}'.format(last_good_week.date())\n",
    "\n",
    "ax = fhm_age_cum_dist.plot(figsize=(18,12),style=['go--','bo--','ro--'],title=title)\n",
    "\n",
    "acd_cum_ratio.plot(ax=ax,style='ko--')\n",
    "\n",
    "plt.xticks(fhm_age_cum_dist.index,['0-9','10-19','20-29','30-39','40-49','50-59','60-69','70-79','80-89','90+'])\n",
    "plt.xlabel('age group')\n",
    "plt.ylabel('fraction of total')\n",
    "_= plt.yticks(np.arange(0,1.05,0.05))\n",
    "plt.legend(['Covid_Pos','Covid_ICUs','Covid_Deaths','15-19_All_Cause_Deaths'])\n",
    "plt.savefig('swe_covid_cum_dist.jpg',format='jpg')"
   ]
  },
  {
   "cell_type": "code",
   "execution_count": null,
   "metadata": {},
   "outputs": [],
   "source": [
    "weekly_baseline = weekly_mortality.loc[:,'15-19_age_grp_64':'15-19_age_grp_90+']\n",
    "weekly_baseline.columns=[64,79,89,100]\n",
    "\n",
    "weekly_baseline"
   ]
  },
  {
   "cell_type": "code",
   "execution_count": null,
   "metadata": {},
   "outputs": [],
   "source": [
    "age_grp_mort = weekly_baseline.sum()\n",
    "age_grp_mort"
   ]
  },
  {
   "cell_type": "code",
   "execution_count": null,
   "metadata": {},
   "outputs": [],
   "source": []
  },
  {
   "cell_type": "code",
   "execution_count": null,
   "metadata": {},
   "outputs": [],
   "source": [
    "pop_age_grps"
   ]
  },
  {
   "cell_type": "code",
   "execution_count": null,
   "metadata": {},
   "outputs": [],
   "source": [
    "age_grp_strat_dead = age_grp_mort * pop_age_grps\n",
    "age_grp_strat_dead"
   ]
  },
  {
   "cell_type": "code",
   "execution_count": null,
   "metadata": {},
   "outputs": [],
   "source": [
    "strat_dead = age_grp_strat_dead.sum(axis=1)\n",
    "strat_dead"
   ]
  },
  {
   "cell_type": "code",
   "execution_count": null,
   "metadata": {},
   "outputs": [],
   "source": [
    "strat_dead / pop_age_grps.sum(axis=1)"
   ]
  },
  {
   "cell_type": "code",
   "execution_count": null,
   "metadata": {},
   "outputs": [],
   "source": [
    "scb_daily_corr"
   ]
  },
  {
   "cell_type": "code",
   "execution_count": null,
   "metadata": {},
   "outputs": [],
   "source": [
    "common_pop = pop_df.groupby(['year'])['pop'].sum()\n",
    "common_pop.index = range(2015,2021)\n",
    "common_pop"
   ]
  },
  {
   "cell_type": "code",
   "execution_count": null,
   "metadata": {},
   "outputs": [],
   "source": [
    "total_abs_deaths = scb_daily_corr.sum()\n",
    "total_abs_deaths"
   ]
  },
  {
   "cell_type": "code",
   "execution_count": null,
   "metadata": {},
   "outputs": [],
   "source": [
    "mort_base = total_abs_deaths.loc['2015-2019'] / common_pop.loc['2015':'2019'].mean()\n",
    "mort_base"
   ]
  },
  {
   "cell_type": "code",
   "execution_count": null,
   "metadata": {},
   "outputs": [],
   "source": [
    "normal_2020_deaths = mort_base * common_pop.loc[2020]\n",
    "normal_2020_deaths"
   ]
  },
  {
   "cell_type": "code",
   "execution_count": null,
   "metadata": {},
   "outputs": [],
   "source": [
    "scb_daily_corr.loc[:last_good_week].sum()"
   ]
  },
  {
   "cell_type": "code",
   "execution_count": null,
   "metadata": {},
   "outputs": [],
   "source": [
    "current_2020_deaths = scb_daily_corr.loc[:last_good_week].sum()\n",
    "current_2020_deaths"
   ]
  },
  {
   "cell_type": "code",
   "execution_count": null,
   "metadata": {},
   "outputs": [],
   "source": [
    "remaining_deaths = normal_2020_deaths - current_2020_deaths.loc['2020']\n",
    "remaining_deaths"
   ]
  },
  {
   "cell_type": "code",
   "execution_count": null,
   "metadata": {},
   "outputs": [],
   "source": [
    "scb_daily_corr.loc[:last_good_week].resample('M').sum()"
   ]
  },
  {
   "cell_type": "code",
   "execution_count": null,
   "metadata": {},
   "outputs": [],
   "source": [
    "forecast_deaths = scb_daily_corr.sum()\n",
    "forecast_deaths['2020'] = normal_2020_deaths\n",
    "forecast_deaths"
   ]
  },
  {
   "cell_type": "code",
   "execution_count": null,
   "metadata": {},
   "outputs": [],
   "source": [
    "\n",
    "common_pop.index = ['2015','2016','2017','2018','2019','2020']\n",
    "common_pop['2015-2019'] = common_pop.loc['2015' : '2019'].mean()\n",
    "forecasted_uncorrected_nov = forecast_deaths / common_pop"
   ]
  },
  {
   "cell_type": "code",
   "execution_count": null,
   "metadata": {},
   "outputs": [],
   "source": [
    "print ('last_data_date:',(scb_daily_corr.loc[scb_daily_corr['2020'] != 0]).index[-1])\n",
    "scb_daily_corr.resample('M').sum()"
   ]
  },
  {
   "cell_type": "code",
   "execution_count": null,
   "metadata": {},
   "outputs": [],
   "source": [
    "nov_2020 = scb_daily_corr.resample('M').sum()\n",
    "nov_2020_ytd = nov_2020.loc['2020-11-30','2020']\n",
    "nov_2020_ytd"
   ]
  },
  {
   "cell_type": "code",
   "execution_count": null,
   "metadata": {},
   "outputs": [],
   "source": [
    "# assuming 1:St week after month change the numbers are 85%, after second 95%, of final\n",
    "nov_2020_ytd_corr = nov_2020_ytd / 0.85\n",
    "nov_2020_ytd_corr"
   ]
  },
  {
   "cell_type": "code",
   "execution_count": null,
   "metadata": {},
   "outputs": [],
   "source": [
    "totals_inc_oct_2020 = scb_daily_corr.loc[:'2020-10-31','2020'].resample('M').sum()\n",
    "totals_inc_oct_2020 = totals_inc_oct_2020.sum()\n",
    "totals_inc_oct_2020\n"
   ]
  },
  {
   "cell_type": "code",
   "execution_count": null,
   "metadata": {},
   "outputs": [],
   "source": [
    "left_for_dec = normal_2020_deaths - (totals_inc_oct_2020 + nov_2020_ytd_corr)\n",
    "left_for_dec"
   ]
  },
  {
   "cell_type": "code",
   "execution_count": null,
   "metadata": {},
   "outputs": [],
   "source": [
    "base_dec = (scb_daily_corr.resample('M').sum()).loc['2020-12-31','2015-2019']"
   ]
  },
  {
   "cell_type": "code",
   "execution_count": null,
   "metadata": {},
   "outputs": [],
   "source": [
    "forecasted_corr_total = totals_inc_oct_2020 + nov_2020_ytd_corr + base_dec\n",
    "forecasted_corr_total"
   ]
  },
  {
   "cell_type": "code",
   "execution_count": null,
   "metadata": {},
   "outputs": [],
   "source": [
    "forecasted_corr_total / common_pop['2020']"
   ]
  },
  {
   "cell_type": "code",
   "execution_count": null,
   "metadata": {},
   "outputs": [],
   "source": [
    "forecasted_uncorrected_nov"
   ]
  }
 ],
 "metadata": {
  "kernelspec": {
   "display_name": "Python 3",
   "language": "python",
   "name": "python3"
  },
  "language_info": {
   "codemirror_mode": {
    "name": "ipython",
    "version": 3
   },
   "file_extension": ".py",
   "mimetype": "text/x-python",
   "name": "python",
   "nbconvert_exporter": "python",
   "pygments_lexer": "ipython3",
   "version": "3.8.6"
  }
 },
 "nbformat": 4,
 "nbformat_minor": 2
}
