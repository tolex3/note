{
 "cells": [
  {
   "cell_type": "code",
   "execution_count": null,
   "metadata": {},
   "outputs": [],
   "source": [
    "import numpy as np\n",
    "import matplotlib.pyplot as plt\n",
    "import seaborn as sns\n",
    "import pandas as pd\n",
    "\n",
    "sns.set()"
   ]
  },
  {
   "cell_type": "code",
   "execution_count": null,
   "metadata": {},
   "outputs": [],
   "source": [
    "df = pd.read_pickle('../2020/socialstyrelsen_dodsfall.pkl')\n"
   ]
  },
  {
   "cell_type": "code",
   "execution_count": null,
   "metadata": {},
   "outputs": [],
   "source": [
    "df['varde'] = df['varde'].astype(int)\n"
   ]
  },
  {
   "cell_type": "code",
   "execution_count": null,
   "metadata": {},
   "outputs": [],
   "source": [
    "riket = df[df['text'] == 'Riket']\n",
    "riket = riket.loc[riket['konId'] == 3]\n",
    "riket = riket.loc[riket['text_x'] == 'Samtliga dödsorsaker']\n",
    "riket_years = riket.groupby('ar').sum()\n",
    "riket_years"
   ]
  },
  {
   "cell_type": "code",
   "execution_count": null,
   "metadata": {},
   "outputs": [],
   "source": [
    "suicide = riket.loc[ ( riket['diagnosId'] == '2026' ) & (riket['ar'] == 2018) & (riket['konId'] == 3)]\n",
    "suicide"
   ]
  },
  {
   "cell_type": "code",
   "execution_count": null,
   "metadata": {},
   "outputs": [],
   "source": [
    "traffic_ids = ['2001','2002','2003','2004','2005','2006','2007','2008','2009']\n",
    "\n",
    "traffic_2018 = df.loc[ ( df['diagnosId'].isin(traffic_ids) ) &\\\n",
    "                      ( df['text'] == 'Riket' ) & (df['ar'] == 2018) & (df['konId'] == 3)  ]\n",
    "\n",
    "traffic_2018\n"
   ]
  },
  {
   "cell_type": "code",
   "execution_count": null,
   "metadata": {},
   "outputs": [],
   "source": [
    "cancer = df.loc[ ( df['diagnosId'] =='02' ) & (df['text'] == 'Riket') & (df['ar'] == 2018) & (df['konId'] == 3) ]\n",
    "\n"
   ]
  },
  {
   "cell_type": "code",
   "execution_count": null,
   "metadata": {},
   "outputs": [],
   "source": [
    "cancer"
   ]
  },
  {
   "cell_type": "code",
   "execution_count": null,
   "metadata": {},
   "outputs": [],
   "source": [
    "# group ages to match covid-grouping\n",
    "cancer_age = cancer['varde'] + cancer['varde'].shift() # add shifted rows\n",
    "cancer_age  = cancer_age.iloc[1::2] #every second row starting from nr 1\n",
    "cancer_age.index = ['0-9','10-19','20-29','30-39','40-49','50-59','60-69','70-79','80+']\n",
    "cancer_age"
   ]
  },
  {
   "cell_type": "code",
   "execution_count": null,
   "metadata": {},
   "outputs": [],
   "source": [
    "cancer_year = cancer.groupby('ar').agg('varde').sum()"
   ]
  },
  {
   "cell_type": "code",
   "execution_count": null,
   "metadata": {},
   "outputs": [],
   "source": [
    "cancer_year"
   ]
  },
  {
   "cell_type": "code",
   "execution_count": null,
   "metadata": {},
   "outputs": [],
   "source": [
    "cancer_age.plot(kind='bar')"
   ]
  },
  {
   "cell_type": "code",
   "execution_count": null,
   "metadata": {},
   "outputs": [],
   "source": [
    "fhm_df = pd.read_csv('fhm_dead.csv',sep=';',index_col='age')\n",
    "fhm_df"
   ]
  },
  {
   "cell_type": "code",
   "execution_count": null,
   "metadata": {},
   "outputs": [],
   "source": [
    "fhm_df = fhm_df.join(cancer_age)\n"
   ]
  },
  {
   "cell_type": "code",
   "execution_count": null,
   "metadata": {},
   "outputs": [],
   "source": [
    "fhm_df.columns=['covid_cases','covid_icu','covid_dead','cancer-2018']\n",
    "fhm_df"
   ]
  },
  {
   "cell_type": "code",
   "execution_count": null,
   "metadata": {},
   "outputs": [],
   "source": [
    "ratio = fhm_df['covid_dead'] / fhm_df['cancer-2018']\n",
    "ratio.plot(kind='bar',title='percent deaths covid vs cancer per age group',figsize=(18,12),color='orange')\n",
    "plt.ylabel('percent')\n",
    "plt.savefig('covid-vs-cancer-pct.jpg',format='jpg')"
   ]
  },
  {
   "cell_type": "code",
   "execution_count": null,
   "metadata": {},
   "outputs": [],
   "source": [
    "fhm_df[['covid_dead','cancer-2018']].plot(kind='bar',\n",
    "                                          figsize=(18,12),\n",
    "                                          color=['b','r'],\n",
    "                                          title='Deaths Covid (2020) vs Cancer (2018) in Sweden, per age group\\nDataSource: SCB.se')\n",
    "plt.ylabel('number of deaths')\n",
    "plt.savefig('covid-vs-cancer_age.jpg',format='jpg')"
   ]
  },
  {
   "cell_type": "code",
   "execution_count": null,
   "metadata": {
    "scrolled": false
   },
   "outputs": [],
   "source": [
    "fhm_df[['covid_dead','cancer-2018']].sum().plot(kind='bar',\n",
    "                                                figsize=(18,12),color=['b','r'],\n",
    "                                               title='Deaths Covid (2020) vs Cancer (2018) Sweden\\nDataSource:SCB.se')\n",
    "plt.ylabel('number of deaths')\n",
    "plt.savefig('covid_vs_cancer_tot.jpg',format='jpg')"
   ]
  },
  {
   "cell_type": "code",
   "execution_count": null,
   "metadata": {},
   "outputs": [],
   "source": [
    "fhm_df"
   ]
  },
  {
   "cell_type": "code",
   "execution_count": null,
   "metadata": {},
   "outputs": [],
   "source": [
    "mfp_1 = pd.DataFrame({'value' : [10,20,30,40],'age':['0-4','5-9','10-14','15-19']})\n",
    "mfp_1"
   ]
  },
  {
   "cell_type": "code",
   "execution_count": null,
   "metadata": {},
   "outputs": [],
   "source": []
  },
  {
   "cell_type": "code",
   "execution_count": null,
   "metadata": {},
   "outputs": [],
   "source": [
    "mfp_2 = pd.DataFrame({'value': [1,2],'age':['0-9','10-19']})\n",
    "mfp_2"
   ]
  },
  {
   "cell_type": "code",
   "execution_count": null,
   "metadata": {},
   "outputs": [],
   "source": [
    "mfp_1_fixed_value = pd.DataFrame(mfp_1['value'] + mfp_1['value'].shift()).iloc[1::2]\n",
    "mfp_1_fixed_value.index = ['0-9','10-19']\n",
    "mfp_1_fixed_value.index.name='age'\n",
    "mfp_1_fixed_value.name='value'\n",
    "mfp_1_fixed_value"
   ]
  }
 ],
 "metadata": {
  "kernelspec": {
   "display_name": "Python 3",
   "language": "python",
   "name": "python3"
  },
  "language_info": {
   "codemirror_mode": {
    "name": "ipython",
    "version": 3
   },
   "file_extension": ".py",
   "mimetype": "text/x-python",
   "name": "python",
   "nbconvert_exporter": "python",
   "pygments_lexer": "ipython3",
   "version": "3.6.9"
  }
 },
 "nbformat": 4,
 "nbformat_minor": 4
}
