{
 "cells": [
  {
   "cell_type": "code",
   "execution_count": null,
   "metadata": {},
   "outputs": [],
   "source": [
    "import numpy as np\n",
    "import matplotlib.pyplot as plt\n",
    "import seaborn as sns\n",
    "import pandas as pd\n",
    "\n",
    "sns.set()"
   ]
  },
  {
   "cell_type": "code",
   "execution_count": null,
   "metadata": {},
   "outputs": [],
   "source": [
    "excel = pd.ExcelFile('fhm_excel.xlsx')\n",
    "excel.sheet_names"
   ]
  },
  {
   "cell_type": "code",
   "execution_count": null,
   "metadata": {},
   "outputs": [],
   "source": [
    "age_df = excel.parse('Totalt antal per åldersgrupp')\n",
    "age_df = age_df[:-1]\n",
    "age_df"
   ]
  },
  {
   "cell_type": "code",
   "execution_count": null,
   "metadata": {},
   "outputs": [],
   "source": [
    "age_grp_median = np.arange(5,100,10)\n",
    "age_df['age_num'] = age_grp_median\n",
    "age_df"
   ]
  },
  {
   "cell_type": "code",
   "execution_count": null,
   "metadata": {},
   "outputs": [],
   "source": [
    "age_df.sum()"
   ]
  },
  {
   "cell_type": "code",
   "execution_count": null,
   "metadata": {},
   "outputs": [],
   "source": [
    "serialized_age_death_df = age_df.groupby('Åldersgrupp').apply(\n",
    "    lambda row : np.repeat(row['age_num'],row['Totalt_antal_avlidna']))\n",
    "\n",
    "serialized_age_death_df = serialized_age_death_df.droplevel(1)\n",
    "serialized_age_death_df"
   ]
  },
  {
   "cell_type": "code",
   "execution_count": null,
   "metadata": {},
   "outputs": [],
   "source": [
    "serialized_age_death_df.mode()"
   ]
  },
  {
   "cell_type": "code",
   "execution_count": null,
   "metadata": {},
   "outputs": [],
   "source": [
    "serialized_age_icu_df = age_df.groupby('Åldersgrupp').apply(\n",
    "lambda row : np.repeat(row['age_num'],row['Totalt_antal_intensivvårdade']))\n",
    "\n",
    "icu_stats = serialized_age_icu_df.agg(['mean','median','count'])\n",
    "icu_stats"
   ]
  },
  {
   "cell_type": "code",
   "execution_count": null,
   "metadata": {},
   "outputs": [],
   "source": [
    "serialized_age_positive_df = age_df.groupby('Åldersgrupp').apply(\n",
    "lambda row : np.repeat(row['age_num'],row['Totalt_antal_fall']))\n",
    "\n",
    "serialized_age_positive_df"
   ]
  },
  {
   "cell_type": "code",
   "execution_count": null,
   "metadata": {},
   "outputs": [],
   "source": [
    "positive_stats = serialized_age_positive_df.agg(['mean','median','count'])\n",
    "positive_stats"
   ]
  },
  {
   "cell_type": "code",
   "execution_count": null,
   "metadata": {},
   "outputs": [],
   "source": [
    "death_stats = serialized_age_death_df.agg(['mean','median','count'])\n",
    "death_stats"
   ]
  },
  {
   "cell_type": "code",
   "execution_count": null,
   "metadata": {},
   "outputs": [],
   "source": [
    "icu_stats "
   ]
  },
  {
   "cell_type": "code",
   "execution_count": null,
   "metadata": {},
   "outputs": [],
   "source": [
    "stats = pd.concat([positive_stats,icu_stats,death_stats],axis=1)\n",
    "stats.columns = ['Covid_POS','Covid_ICU','Covid_DEAD']\n",
    "stats.columns.name = 'age'\n",
    "stats"
   ]
  },
  {
   "cell_type": "code",
   "execution_count": null,
   "metadata": {},
   "outputs": [],
   "source": [
    "title = 'SWEDEN Covid deaths frequency per age group\\nDataSource : Folkhälsomyndigheten'\n",
    "\n",
    "serialized_age_death_df.plot(kind='hist',bins=range(0,110,10),figsize=(18,12),title=title)\n",
    "plt.xlabel('age group [10 year bins]')\n",
    "plt.ylabel('frequency')\n",
    "\n",
    "plt.text(6,2800,'Mean age of Covid death : {:.1f} +- 1 year'.format(stats.loc['mean','Covid_DEAD']),color='crimson')\n",
    "plt.text(6,2700,'Median age of Covid death {:.1f} +- 1 year'.format(stats.loc['median','Covid_DEAD']),color='crimson')\n",
    "plt.text(6,2600,'[Mean & Median above are approximate, calculated from the coarse 10 year age bins provided by FHM]',\n",
    "         color='orange')\n",
    "plt.text(6,2900,'Official Swedish Life Expectancy from SCB.se : Women 84.7, Men 81.3',\n",
    "         color='navy')\n",
    "\n",
    "_= plt.xticks(range(0,110,10))\n",
    "\n",
    "plt.savefig('fhm_death_stats.jpg',format='jpg')"
   ]
  },
  {
   "cell_type": "code",
   "execution_count": null,
   "metadata": {},
   "outputs": [],
   "source": [
    "title = 'SWEDEN Covid ICU frequency per age group\\nDataSource : Folkhälsomyndigheten'\n",
    "\n",
    "serialized_age_icu_df.plot(kind='hist',bins=range(0,110,10),figsize=(18,12),title=title)\n",
    "plt.xlabel('age group [10 year bins]')\n",
    "plt.ylabel('frequency')\n",
    "\n",
    "plt.text(0,900,'Mean age of Covid ICU : {:.1f} +- 1 year'.format(stats.loc['mean','Covid_ICU']),color='crimson')\n",
    "plt.text(0,930,'Median age of Covid ICU {:.1f} +- 1 year'.format(stats.loc['median','Covid_ICU']),color='crimson')\n",
    "plt.text(0,810,'[Mean & Median above are approximate,\\ncalculated from the coarse 10 year age bins provided by FHM]',\n",
    "         color='orange')\n",
    "plt.text(0,1000,'Official Swedish Life Expectancy from SCB.se : Women 84.7, Men 81.3',color='navy')\n",
    "\n",
    "_= plt.xticks(range(0,110,10))\n",
    "\n",
    "plt.savefig('fhm_icu_stats.jpg',format='jpg')"
   ]
  },
  {
   "cell_type": "code",
   "execution_count": null,
   "metadata": {},
   "outputs": [],
   "source": [
    "title = 'SWEDEN Covid positives frequency per age group\\nDataSource : Folkhälsomyndigheten'\n",
    "\n",
    "serialized_age_positive_df.plot(kind='hist',bins=range(0,110,10),figsize=(18,12),title=title)\n",
    "plt.xlabel('age group [10 year bins]')\n",
    "plt.ylabel('frequency')\n",
    "\n",
    "plt.text(60,51000,'Mean age of Covid positive : {:.1f} +- 1 year'.format(stats.loc['mean','Covid_POS']),color='crimson')\n",
    "plt.text(60,49000,'Median age of Covid positive {:.1f} +- 1 year'.format(stats.loc['median','Covid_POS']),color='crimson')\n",
    "plt.text(60,46000,'[Mean & Median above are approximate\\ncalculated from the coarse 10 year age bins provided by FHM]',\n",
    "         color='orange')\n",
    "#plt.text(6,2900,'Official Swedish Life Expectancy from SCB.se : Women 84.7, Men 81.3',\n",
    "         #color='navy')\n",
    "\n",
    "_= plt.xticks(range(0,110,10))\n",
    "\n",
    "plt.savefig('fhm_positive_stats.jpg',format='jpg')"
   ]
  }
 ],
 "metadata": {
  "kernelspec": {
   "display_name": "Python 3",
   "language": "python",
   "name": "python3"
  },
  "language_info": {
   "codemirror_mode": {
    "name": "ipython",
    "version": 3
   },
   "file_extension": ".py",
   "mimetype": "text/x-python",
   "name": "python",
   "nbconvert_exporter": "python",
   "pygments_lexer": "ipython3",
   "version": "3.8.6"
  }
 },
 "nbformat": 4,
 "nbformat_minor": 4
}
