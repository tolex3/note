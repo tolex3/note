{
 "cells": [
  {
   "cell_type": "code",
   "execution_count": null,
   "metadata": {},
   "outputs": [],
   "source": [
    "import pandas as pd\n",
    "import numpy as np\n",
    "import scipy.stats as sps\n",
    "import matplotlib.pyplot as plt\n",
    "import seaborn as sns\n",
    "import pymc as pm\n",
    "\n",
    "%matplotlib inline\n",
    "\n",
    "sns.set()\n",
    "sns.set_context(\"poster\", font_scale = 1, rc={\"grid.linewidth\": 5})\n",
    "\n",
    "\n",
    "# its possible to look at Confirmed,Recovered or Deaths simply by changing the filename below\n",
    "# assign either of ['Confirmed','Deaths','Recovered'] to param below:\n",
    "\n",
    "\n",
    "param = 'confirmed'\n",
    "\n",
    "df_confirmed = pd.read_csv(\n",
    "    '../../corona/COVID-19/csse_covid_19_data/csse_covid_19_time_series/time_series_covid19_{}_global.csv'.format(\n",
    "        param),sep=',',encoding='ISO8859-1')\n",
    "df_confirmed.head()"
   ]
  },
  {
   "cell_type": "code",
   "execution_count": null,
   "metadata": {},
   "outputs": [],
   "source": [
    "countries = df_confirmed.groupby('Country/Region')\n",
    "\n",
    "### SELECT Country\n",
    "s = countries.get_group('Sweden').iloc[:,4:].sum()\n",
    "###\n",
    "\n",
    "s.index = pd.to_datetime(s.index)\n",
    "mask = s > 1\n",
    "s = pd.DataFrame(s[mask],columns=['confirmed'])\n",
    "s['log'] = np.log10(s['confirmed'])\n",
    "s['day'] = np.arange(1,len(s) + 1).astype(int)\n",
    "s['factor'] = s['confirmed'] / s['confirmed'].shift()\n",
    "s"
   ]
  },
  {
   "cell_type": "code",
   "execution_count": null,
   "metadata": {},
   "outputs": [],
   "source": [
    "# PATCH missing days\n",
    "'''\n",
    "yesterday = pd.to_datetime('2020-03-13')\n",
    "today = pd.to_datetime('2020-03-14')\n",
    "\n",
    "y_data = [687,np.log10(687),17]\n",
    "temp = pd.DataFrame({yesterday : y_data}).T\n",
    "temp.columns=['confirmed','log','day']\n",
    "s = s.append(temp)\n",
    "\n",
    "y_data = [814,np.log10(814),18]\n",
    "temp = pd.DataFrame({today : y_data}).T\n",
    "temp.columns=['confirmed','log','day']\n",
    "s = s.append(temp)\n",
    "s['factor'] = (s['confirmed'] / s['confirmed'].shift())\n",
    "\n",
    "s\n",
    "'''"
   ]
  },
  {
   "cell_type": "code",
   "execution_count": null,
   "metadata": {},
   "outputs": [],
   "source": [
    "s.describe()"
   ]
  },
  {
   "cell_type": "code",
   "execution_count": null,
   "metadata": {},
   "outputs": [],
   "source": [
    "plt.figure(figsize=(18,12))\n",
    "sns.lineplot(x=s['day'],y=s['log'],data=s,markers=True,marker='o').set_title('Nr Infected [Log-10]')"
   ]
  },
  {
   "cell_type": "code",
   "execution_count": null,
   "metadata": {},
   "outputs": [],
   "source": [
    "s['std_x'] = (s['day'] - s['day'].mean()) / s['day'].std()\n",
    "s['std_y'] = (s['log'] - s['log'].mean()) / s['log'].std()\n",
    "s['factor_log'] = np.log10(s['factor'])\n",
    "\n",
    "### CUT SERIES to see trend as it was before limit testing ###\n",
    "#s = s[-7:]\n",
    "###\n",
    "s"
   ]
  },
  {
   "cell_type": "code",
   "execution_count": null,
   "metadata": {},
   "outputs": [],
   "source": [
    "s.describe()"
   ]
  },
  {
   "cell_type": "code",
   "execution_count": null,
   "metadata": {},
   "outputs": [],
   "source": [
    "sns.lineplot(x='std_x',y='log',data=s,marker='o')"
   ]
  },
  {
   "cell_type": "code",
   "execution_count": null,
   "metadata": {},
   "outputs": [],
   "source": [
    "alpha_mu = 1.5\n",
    "alpha_sigma = 5\n",
    "beta_mu = 0\n",
    "beta_sigma = 5\n",
    "sigma_sigma = 0.000001 #0.0001"
   ]
  },
  {
   "cell_type": "code",
   "execution_count": null,
   "metadata": {},
   "outputs": [],
   "source": [
    "#simulate lines\n",
    "nr_samples = 10000\n",
    "nr_lines = 100\n",
    "\n",
    "alpha = pm.rnormal(alpha_mu, 1 / alpha_sigma ** 2, nr_samples)\n",
    "beta = pm.rnormal(beta_mu, 1 / beta_sigma ** 2, nr_samples)\n",
    "\n",
    "#X = np.linspace(min(s['std_x']), max(s['std_x']),nr_lines)\n",
    "# extend X over the data period\n",
    "X = np.linspace(min(s['std_x']),max(s['std_x']) * 4, nr_lines)\n",
    "                \n",
    "alphas = np.random.choice(alpha,replace=True,size=nr_lines)\n",
    "betas = np.random.choice(beta,replace=True,size=nr_lines)\n",
    "\n",
    "def linreq_mu(x,alpha,beta):\n",
    "    return x*beta+alpha\n",
    "\n",
    "gen_factors = linreq_mu(X,alphas,betas)\n",
    "_ = plt.hist(gen_factors)\n",
    "\n"
   ]
  },
  {
   "cell_type": "code",
   "execution_count": null,
   "metadata": {},
   "outputs": [],
   "source": [
    "lines = np.array([X[i] * betas + alphas for i in range(len(X))])\n",
    "_= plt.plot(X,lines,color='r',alpha=0.2)"
   ]
  },
  {
   "cell_type": "code",
   "execution_count": null,
   "metadata": {},
   "outputs": [],
   "source": [
    "alpha = pm.Normal('alpha',mu=alpha_mu,tau = 1 / alpha_sigma ** 2)\n",
    "beta = pm.Normal('beta',mu=beta_mu,tau = 1 / beta_sigma ** 2)\n",
    "\n",
    "# by changing sigma from uniform to lognormal, the y-range of sample plot below\n",
    "# shrunk a lot\n",
    "\n",
    "sigma = pm.Lognormal('sigma',mu=0,tau = 1 / sigma_sigma ** 2)\n",
    "\n",
    "\n",
    "\n",
    "@pm.deterministic()\n",
    "def linreq_mu(x=s['std_x'],alpha=alpha,beta=beta):\n",
    "    return x*beta+alpha\n",
    "\n",
    "likelihood  = pm.Normal('likelihood',mu=linreq_mu,tau= 1 / sigma ** 2,\n",
    "                       observed=True,value=s['log'])\n",
    "\n",
    "model = pm.Model([alpha,beta,sigma,linreq_mu,likelihood])\n",
    "map_ = pm.MAP(model)\n",
    "map_.fit()\n",
    "\n",
    "mcmc = pm.MCMC(model)\n",
    "\n",
    "mcmc.sample(100000,50000,2)\n",
    "\n",
    "alpha_samples = mcmc.trace('alpha')[:]\n",
    "beta_samples = mcmc.trace('beta')[:]\n",
    "sigma_samples = mcmc.trace('sigma')[:]\n",
    "linreq_mu_samples = mcmc.trace('sigma')[:]\n",
    "\n",
    "result = pd.DataFrame({'alpha_post': alpha_samples,\n",
    "                     'beta_post' : beta_samples,\n",
    "                     'sigma_post' : sigma_samples,\n",
    "                     'linreq_mu_post' : linreq_mu_samples})\n",
    "\n",
    "result.describe()\n",
    "\n"
   ]
  },
  {
   "cell_type": "code",
   "execution_count": null,
   "metadata": {},
   "outputs": [],
   "source": [
    "alphas = np.random.choice(result['alpha_post'],replace=True,size=nr_lines)\n",
    "betas = np.random.choice(result['beta_post'],replace=True,size=nr_lines)\n",
    "sigmas = np.random.choice(result['sigma_post'],replace=True,size=nr_lines)\n",
    "\n",
    "lines = np.array([X[i] * betas + alphas for i in range(len(X))])\n",
    "print (lines.min(),lines.max())"
   ]
  },
  {
   "cell_type": "code",
   "execution_count": null,
   "metadata": {},
   "outputs": [],
   "source": [
    "slope,intercept,_,_,_ = sps.linregress(s['std_x'],s['log'])\n",
    "print (slope,intercept)"
   ]
  },
  {
   "cell_type": "code",
   "execution_count": null,
   "metadata": {},
   "outputs": [],
   "source": [
    "# lin/log plot - x standardized\n",
    "\n",
    "plt.figure(figsize=(18,12))\n",
    "\n",
    "daily_increase_log = result['beta_post'].mean() / s['day'].std()\n",
    "daily_increase_lin = np.power(10,daily_increase_log)\n",
    "\n",
    "title = r'Corona Prediction Sweden $\\alpha$ {:.2f} $\\beta$ {:.2f} '\\\n",
    "    'daily factor [log] {:.5f} [ ==> Growth factor {:.2f}]'.format(result['alpha_post'].mean(),\n",
    "                                                            result['beta_post'].mean(),\n",
    "                                                            daily_increase_log,\n",
    "                                                            daily_increase_lin)\n",
    "plt.title(title)\n",
    "\n",
    "day_mean = s['day'].mean()\n",
    "day_std = s['day'].std()\n",
    "y_mean = s['log'].mean()\n",
    "y_std = s['log'].std()\n",
    "\n",
    "plt.xlabel(r'day after growth started $\\mu$ {:.2f} days, $\\sigma$ {:.2f} days [STD]'.format(day_mean,day_std))\n",
    "plt.ylabel(r'Nr infected 10$^{x}$')\n",
    "\n",
    "plt.ylim([-3,10])\n",
    "plt.yticks(np.arange( -3,11 ,1))\n",
    "\n",
    "#plt.axvline(max(s['std_x']),ls='dashed',color='k',label='last real data point')\n",
    "\n",
    "week_in_std = 7 * 1 / s['day'].std()\n",
    "\n",
    "week_bars = np.arange(max(s['std_x']),max(X),week_in_std)\n",
    "for w in week_bars:\n",
    "    plt.axvline(w,ls='dashed',color='m')\n",
    "    \n",
    "week_bars = np.arange(max(s['std_x']),min(X),-week_in_std)\n",
    "for w in week_bars:\n",
    "    plt.axvline(w,ls='dashed',color='m')\n",
    "    \n",
    "\n",
    "plt.plot(s['std_x'],s['log'],'o--',color='darkred',label='data',lw=2,ms=12)\n",
    "plt.plot(X,lines,color='m',alpha=0.1)\n",
    "\n",
    "plt.plot(X,[X[i] * slope + intercept for i in range(len(X))], \n",
    "         color='k',ls = 'dashed', label='LSQ',lw=2,alpha=1 )\n",
    "\n",
    "plt.plot(X,[X[i] * betas.mean() + alphas.mean() for i in range(len(X))],\n",
    "        color='orange',ls='dashed',lw=2)\n",
    "\n",
    "# the rnormal returns a 2 x 2 matrix, with each row containing a complete line's yvals. \n",
    "samples = np.array(\n",
    "    [pm.rnormal(X[i] * betas + alphas,sigmas) for i in range(len(X))])\n",
    "\n",
    "low,high = np.percentile(samples,[5.5,94.5],axis=1)\n",
    "last_low,last_high = low[-1],high[-1]\n",
    "\n",
    "\n",
    "plt.fill_between(np.linspace(min(X),max(X),high.size),\n",
    "                low,high,color='c',alpha=0.2,label='89% Credible Interval')\n",
    "\n",
    "for i in range(len(X)):\n",
    "    plt.plot(X,samples[:,i],'o',color='orange',alpha=0.02)\n",
    "plt.legend(loc='upper left')\n",
    "plt.savefig('corona_prediction_lin_log.jpg',format='jpg')"
   ]
  }
 ],
 "metadata": {
  "kernelspec": {
   "display_name": "Python 3",
   "language": "python",
   "name": "python3"
  },
  "language_info": {
   "codemirror_mode": {
    "name": "ipython",
    "version": 3
   },
   "file_extension": ".py",
   "mimetype": "text/x-python",
   "name": "python",
   "nbconvert_exporter": "python",
   "pygments_lexer": "ipython3",
   "version": "3.6.9"
  }
 },
 "nbformat": 4,
 "nbformat_minor": 4
}
