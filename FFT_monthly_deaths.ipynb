{
 "cells": [
  {
   "cell_type": "code",
   "execution_count": null,
   "metadata": {},
   "outputs": [],
   "source": [
    "import numpy as np\n",
    "import matplotlib.pyplot as plt\n",
    "import seaborn as sns\n",
    "import pandas as pd\n",
    "from scipy.fft import rfft,rfftfreq,irfft\n",
    "import requests\n",
    "\n",
    "sns.set()"
   ]
  },
  {
   "cell_type": "code",
   "execution_count": null,
   "metadata": {},
   "outputs": [],
   "source": [
    "url = 'http://api.scb.se/OV0104/v1/doris/sv/ssd/START/BE/BE0101/BE0101G/ManadFoddDod'\n",
    "json_post = {\n",
    "  \"query\": [\n",
    "    {\n",
    "      \"code\": \"Kon\",\n",
    "      \"selection\": {\n",
    "        \"filter\": \"item\",\n",
    "        \"values\": [\n",
    "          \"1\",\n",
    "          \"2\"\n",
    "        ]\n",
    "      }\n",
    "    },\n",
    "    {\n",
    "      \"code\": \"Manad\",\n",
    "      \"selection\": {\n",
    "        \"filter\": \"item\",\n",
    "        \"values\": [\n",
    "          \"01\",\n",
    "          \"02\",\n",
    "          \"03\",\n",
    "          \"04\",\n",
    "          \"05\",\n",
    "          \"06\",\n",
    "          \"07\",\n",
    "          \"08\",\n",
    "          \"09\",\n",
    "          \"10\",\n",
    "          \"11\",\n",
    "          \"12\"\n",
    "        ]\n",
    "      }\n",
    "    },\n",
    "    {\n",
    "      \"code\": \"ContentsCode\",\n",
    "      \"selection\": {\n",
    "        \"filter\": \"item\",\n",
    "        \"values\": [\n",
    "          \"000000NF\"\n",
    "        ]\n",
    "      }\n",
    "    }\n",
    "  ],\n",
    "  \"response\": {\n",
    "    \"format\": \"json\"\n",
    "  }\n",
    "}"
   ]
  },
  {
   "cell_type": "code",
   "execution_count": null,
   "metadata": {},
   "outputs": [],
   "source": [
    "r = requests.post(url,json = json_post)\n",
    "r.status_code"
   ]
  },
  {
   "cell_type": "code",
   "execution_count": null,
   "metadata": {},
   "outputs": [],
   "source": [
    "json = r.json()\n",
    "data = json['data']"
   ]
  },
  {
   "cell_type": "code",
   "execution_count": null,
   "metadata": {},
   "outputs": [],
   "source": [
    "dead_df = pd.DataFrame.from_dict(data)\n",
    "dead_df"
   ]
  },
  {
   "cell_type": "code",
   "execution_count": null,
   "metadata": {},
   "outputs": [],
   "source": [
    "dead_df[['gender','month','year']] = dead_df['key'].to_list()\n",
    "dead_df['dead'] = dead_df['values'].apply(lambda x : x[0])\n",
    "dead_df.drop(['key','values'],axis=1,inplace=True)\n",
    "dead_df['dead'] = dead_df['dead'].astype(int)\n",
    "dead_df = dead_df.groupby(['year','month']).sum()\n",
    "dead_df"
   ]
  },
  {
   "cell_type": "code",
   "execution_count": null,
   "metadata": {},
   "outputs": [],
   "source": [
    "dead_df = dead_df.loc['2015':'2019']\n",
    "dead_df"
   ]
  },
  {
   "cell_type": "code",
   "execution_count": null,
   "metadata": {},
   "outputs": [],
   "source": [
    "# deaths with unknown date not included # \n",
    "dead_df.groupby('year').sum()\n",
    "start_year = dead_df.index[0][0]\n",
    "end_year = dead_df.index[-1][0]\n",
    "end_year"
   ]
  },
  {
   "cell_type": "code",
   "execution_count": null,
   "metadata": {},
   "outputs": [],
   "source": [
    "title = 'SWEDEN monthly deaths [time domain] {} - {}'.format(start_year,end_year)\n",
    "dead_df.plot(figsize=(18,12),style='o--',title=title)\n",
    "plt.ylabel('nr of deaths')\n",
    "plt.savefig('swe_fft_time_domain_deaths_{}_{}.jpg'.format(start_year,end_year),format='jpg')"
   ]
  },
  {
   "cell_type": "code",
   "execution_count": null,
   "metadata": {},
   "outputs": [],
   "source": [
    "sample_rate = 12 # monthly data : set unit a year\n",
    "\n",
    "signal = dead_df['dead']\n",
    "signal = signal - signal.mean()\n",
    "signal = signal.values\n",
    "\n",
    "yf = rfft(signal) \n",
    "\n",
    "xf = rfftfreq(len(signal),1 / sample_rate)\n"
   ]
  },
  {
   "cell_type": "code",
   "execution_count": null,
   "metadata": {},
   "outputs": [],
   "source": [
    "plt.figure(figsize=(18,12))\n",
    "plt.title('SWEDEN FFT on all cause deaths [Frequency domain] for years {} - {}'.format(start_year,end_year))\n",
    "plt.xlabel('frequency [1/year]')\n",
    "plt.ylabel('Normalized \"Power\"')\n",
    "plt.plot(xf,np.abs(yf) / np.abs(yf).max())\n",
    "yf_max = yf.argmax()\n",
    "print (yf_max)\n",
    "plt.savefig('fft_swe_deaths_periodicity_{}_{}.jpg'.format(start_year,end_year),format='jpg')"
   ]
  },
  {
   "cell_type": "code",
   "execution_count": null,
   "metadata": {},
   "outputs": [],
   "source": [
    "dominant_freq = np.zeros_like(yf)\n",
    "dominant_freq[yf_max] = yf[yf_max]\n",
    "\n",
    "plt.figure(figsize=(18,12))\n",
    "plt.plot(xf,np.abs(dominant_freq))"
   ]
  },
  {
   "cell_type": "code",
   "execution_count": null,
   "metadata": {},
   "outputs": [],
   "source": []
  },
  {
   "cell_type": "code",
   "execution_count": null,
   "metadata": {
    "scrolled": false
   },
   "outputs": [],
   "source": [
    "def NormalizeData(data):\n",
    "    return (data - np.min(data)) / (np.max(data) - np.min(data))\n",
    "\n",
    "yf_filtered = irfft(dominant_freq)\n",
    "\n",
    "\n",
    "plt.figure(figsize=(18,12))\n",
    "\n",
    "ax = plt.gca()\n",
    "\n",
    "title = 'SWEDEN {} - {} death periodicity obtained from FFT compared to actual data'.format(start_year,end_year)\n",
    "\n",
    "ax.set_title(title)\n",
    "ax.plot((yf_filtered / yf_filtered.max() + 1) / (yf_filtered / yf_filtered.max() +1).max(),'o--',\n",
    "        label='reverse engineered monthly deaths obtained from FFT using top frequency')\n",
    "ax.plot(NormalizeData(dead_df['dead'].values),'o--',label='actual monthly deaths')\n",
    "\n",
    "ax.set_xlabel('month nr')\n",
    "ax.set_ylabel('\"Power\"')\n",
    "\n",
    "ax.legend(loc='upper right')\n",
    "#ax.set_xticklabels(range(1,len(dead_df) + 1),rotation=90)\n",
    "\n",
    "\n",
    "#for label in ax.xaxis.get_ticklabels()[0::12]:\n",
    "        #label.set_visible(False)"
   ]
  },
  {
   "cell_type": "code",
   "execution_count": null,
   "metadata": {},
   "outputs": [],
   "source": [
    "plt.plot(xf,yf)"
   ]
  }
 ],
 "metadata": {
  "kernelspec": {
   "display_name": "Python 3",
   "language": "python",
   "name": "python3"
  },
  "language_info": {
   "codemirror_mode": {
    "name": "ipython",
    "version": 3
   },
   "file_extension": ".py",
   "mimetype": "text/x-python",
   "name": "python",
   "nbconvert_exporter": "python",
   "pygments_lexer": "ipython3",
   "version": "3.8.6"
  }
 },
 "nbformat": 4,
 "nbformat_minor": 4
}
