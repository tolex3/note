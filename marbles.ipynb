{
 "cells": [
  {
   "cell_type": "code",
   "execution_count": null,
   "metadata": {},
   "outputs": [],
   "source": [
    "import numpy as np\n",
    "import matplotlib.pyplot as plt\n",
    "import seaborn as sns\n",
    "import pandas as pd\n",
    "import pymc as pm\n",
    "\n",
    "sns.set()"
   ]
  },
  {
   "cell_type": "code",
   "execution_count": null,
   "metadata": {},
   "outputs": [],
   "source": [
    "conjectures_arr = np.array([[False,False,False,False], #all white\n",
    "                          [False,False,False,True],\n",
    "                          [False,False,True,True],\n",
    "                          [False,True,True,True],\n",
    "                          [True,True,True,True]]) #all blue\n",
    "\n",
    "ways_B = np.array([0,1,2,3,4])\n",
    "dist_B = ways_B / ways_B.sum()\n",
    "ways_W = np.array([4,3,2,1,0])\n",
    "dist_W = ways_W / ways_W.sum()\n",
    "\n",
    "flat_prior = np.ones_like(ways_B) / len(ways_B)\n",
    "informative_prior = ways_B / ways_B.sum() # prior indicates probability of pulling blue\n",
    "\n"
   ]
  },
  {
   "cell_type": "code",
   "execution_count": null,
   "metadata": {},
   "outputs": [],
   "source": [
    "# sample 3 marbles from each conjecture, with flat prior\n",
    "# hits_conjecture first and last are 0, because they have 0 ways to produce target\n",
    "\n",
    "hits_conjecture = np.zeros(5)\n",
    "\n",
    "target = np.array([True,False,True])\n",
    "\n",
    "values = np.array([False,False,False,True])\n",
    "hits = 0\n",
    "\n",
    "for i in range(10000):\n",
    "    sample = np.random.choice(values,replace=True,size=3)\n",
    "    hits += (sample == target).all().sum()\n",
    "    \n",
    "hits_conjecture[1] = hits\n",
    "\n",
    "values = np.array([False,False,True,True])\n",
    "hits = 0\n",
    "\n",
    "for i in range(10000):\n",
    "    sample = np.random.choice(values,replace=True,size=3)\n",
    "    hits += (sample == target).all().sum()\n",
    "    \n",
    "hits_conjecture[2] = hits\n",
    "\n",
    "values = np.array([False,True,True,True])\n",
    "hits = 0\n",
    "\n",
    "for i in range(10000):\n",
    "    sample = np.random.choice(values,replace=True,size=3)\n",
    "    hits += (sample == target).all().sum()\n",
    "    \n",
    "hits_conjecture[3] = hits\n",
    "\n",
    "posterior = hits_conjecture / hits_conjecture.sum()\n",
    "posterior"
   ]
  },
  {
   "cell_type": "code",
   "execution_count": null,
   "metadata": {},
   "outputs": [],
   "source": [
    "def random_sampling(prior,target):\n",
    "    \n",
    "# randomly pull from the 5 conjectures, record number of times target sequence is pulled\n",
    "    # use def. of bag to switch between priors\n",
    "\n",
    "    #target = np.array([True,False,True,True])\n",
    "\n",
    "    nr_pulls = 1000000\n",
    "    score = np.zeros((5))\n",
    "\n",
    "    for i in range(nr_pulls):\n",
    "        #bag = np.random.choice(range(5),p=flat_prior)\n",
    "        bag = np.random.choice(range(5),p=prior) # prior prob for blue\n",
    "\n",
    "        pulls = np.random.choice(conjectures_arr[bag,:],replace=True,size=len(target))\n",
    "        success = (pulls == target).all()\n",
    "        score[bag] += success\n",
    "    \n",
    "    return score / score.sum()"
   ]
  },
  {
   "cell_type": "code",
   "execution_count": null,
   "metadata": {},
   "outputs": [],
   "source": [
    "target = np.array([True,False,True,True])\n",
    "\n",
    "print (random_sampling(flat_prior,target))"
   ]
  },
  {
   "cell_type": "code",
   "execution_count": null,
   "metadata": {},
   "outputs": [],
   "source": [
    "# Bayesian updating - pull marbles one-by-one, update likelihood  by mult previous likelihood by ways for new marble\n",
    "# dist_B,dist_W are just ways (likelihoods) to produce a B or W converted to probabilities\n",
    "\n",
    "# first with flat prior\n",
    "\n",
    "df_flat = pd.DataFrame({'ways_B' : ways_B,\n",
    "                  'dist_B' : dist_B,\n",
    "                  'ways_W' : ways_W,\n",
    "                  'dist_W' : dist_W})\n",
    "\n",
    "df_flat.index.name = 'conjecture'\n",
    "prior = flat_prior\n",
    "\n",
    "df_flat['lkh_BW'] = df_flat['dist_B'] * df_flat['dist_W']\n",
    "df_flat['lkh_BWB'] = df_flat['lkh_BW'] * df_flat['dist_B']\n",
    "df_flat['lkh_BWBB'] = df_flat['lkh_BWB'] * df_flat['dist_B']\n",
    "\n",
    "unstd = df_flat['dist_B'] * prior\n",
    "df_flat['post_B'] = unstd / unstd.sum()\n",
    "\n",
    "unstd = df_flat['lkh_BW'] * prior\n",
    "df_flat['post_BW'] = unstd / unstd.sum()\n",
    "\n",
    "unstd = df_flat['lkh_BWB'] * prior\n",
    "df_flat['post_BWB'] = unstd / unstd.sum()\n",
    "\n",
    "unstd = df_flat['lkh_BWBB'] * prior\n",
    "df_flat['post_BWBB'] = unstd / unstd.sum()\n",
    "df_flat"
   ]
  },
  {
   "cell_type": "code",
   "execution_count": null,
   "metadata": {},
   "outputs": [],
   "source": [
    "print (random_sampling(informative_prior,target))"
   ]
  },
  {
   "cell_type": "code",
   "execution_count": null,
   "metadata": {},
   "outputs": [],
   "source": [
    "#now with informative prior - probability for pulling one blue\n",
    "\n",
    "prior = informative_prior\n",
    "\n",
    "df_informed = df_flat.copy()\n",
    "\n",
    "df_informed['lkh_BW'] = df_informed['dist_B'] * df_informed['dist_W']\n",
    "df_informed['lkh_BWB'] = df_informed['lkh_BW'] * df_informed['dist_B']\n",
    "df_informed['lkh_BWBB'] = df_informed['lkh_BWB'] * df_informed['dist_B']\n",
    "df_informed['lkh_BWBBB'] = df_informed['lkh_BWBB'] * df_informed['dist_B']\n",
    "\n",
    "\n",
    "unstd = df_informed['dist_B'] * prior\n",
    "df_informed['post_B'] = unstd / unstd.sum()\n",
    "\n",
    "unstd = df_informed['lkh_BW'] * prior\n",
    "df_informed['post_BW'] = unstd / unstd.sum()\n",
    "\n",
    "unstd = df_informed['lkh_BWB'] * prior\n",
    "df_informed['post_BWB'] = unstd / unstd.sum()\n",
    "\n",
    "unstd = df_informed['lkh_BWBB'] * prior\n",
    "df_informed['post_BWBB'] = unstd / unstd.sum()\n",
    "\n",
    "unstd = df_informed['lkh_BWBBB'] * prior\n",
    "df_informed['post_BWBBB'] = unstd / unstd.sum()\n",
    "df_informed"
   ]
  },
  {
   "cell_type": "code",
   "execution_count": null,
   "metadata": {},
   "outputs": [],
   "source": [
    "plt.figure(figsize=(18,12))\n",
    "plt.subplot(211)\n",
    "plt.title('Posteriors with flat prior')\n",
    "plt.ylabel('probability')\n",
    "x_labels = ['conj-0','conj_1','conj_2','conj_3','conj_4']\n",
    "plt.plot(x_labels,df_flat.post_B,label='posterior_B')\n",
    "plt.plot(x_labels,df_flat.post_BW,label='posterior_B_W')\n",
    "plt.plot(x_labels,df_flat.post_BWB,label='posterior_B_W_B')\n",
    "plt.plot(x_labels,df_flat.post_BWBB,label='posterior_B_W_B_B')\n",
    "\n",
    "plt.legend(loc='upper left')\n",
    "\n",
    "plt.subplot(212)\n",
    "plt.title('Posteriors with informative prior')\n",
    "plt.ylabel('probability')\n",
    "x_labels = ['conj-0','conj_1','conj_2','conj_3','conj_4']\n",
    "plt.plot(x_labels,df_informed.post_B,label='posterior_B')\n",
    "plt.plot(x_labels,df_informed.post_BW,label='posterior_B_W')\n",
    "plt.plot(x_labels,df_informed.post_BWB,label='posterior_B_W_B')\n",
    "plt.plot(x_labels,df_informed.post_BWBB,label='posterior_B_W_B_B')\n",
    "\n",
    "plt.legend(loc='upper left')"
   ]
  },
  {
   "cell_type": "code",
   "execution_count": null,
   "metadata": {},
   "outputs": [],
   "source": [
    "# compute posterior probaility for any number of draws of blue,white\n",
    "\n",
    "def compute_posterior(ways,prior):\n",
    "    \n",
    "    posterior = ways * prior\n",
    "    posterior = posterior / posterior.sum()\n",
    "    return posterior\n",
    "\n",
    "# Likelihood is simply the product of all the ways Blue and White can be drawn\n",
    "# and it doesnt matter if we use ways or the normalised distribution for ways\n",
    "\n",
    "#post = compute_posterior(ways_B * ways_W * ways_B  * ways_B,flat_prior)\n",
    "\n",
    "def pulls(B=1,W=0,prior=flat_prior):\n",
    "    post = compute_posterior(dist_B ** B * dist_W ** W,prior=prior)\n",
    "    return post\n",
    "\n",
    "# number of Blue and White marbles pulled\n",
    "B = 2\n",
    "W = 1\n",
    "\n",
    "flat_post = pulls(B,W)\n",
    "print (flat_post)\n",
    "\n",
    "informed_post = pulls(B,W,informative_prior)\n",
    "print (informed_post)"
   ]
  },
  {
   "cell_type": "code",
   "execution_count": null,
   "metadata": {},
   "outputs": [],
   "source": [
    "plt.figure(figsize=(18,12))\n",
    "plt.plot([0,1,2,3,4],flat_post,'x--',label='posterior with flat prior having pulled {} B and {} W'.format(B,W))\n",
    "plt.plot([0,1,2,3,4],informed_post,'x--',label='posterior with informative prior')\n",
    "\n",
    "xticks = ['WWWW','WWWB','WWBB','WBBB','BBBB']\n",
    "plt.xlabel('Conjecture')\n",
    "plt.ylabel('probability')\n",
    "plt.legend(loc='upper left')\n",
    "_=plt.xticks([0,1,2,3,4],xticks)\n"
   ]
  },
  {
   "cell_type": "code",
   "execution_count": null,
   "metadata": {},
   "outputs": [],
   "source": [
    "nr_dists = 4\n",
    "dists = np.zeros((2 * nr_dists ,len(ways_B)))\n",
    "idxs = np.zeros((2 * nr_dists,2))\n",
    "\n",
    "pos = 0\n",
    "for b in range(1,nr_dists + 1):\n",
    "    for w_diff in range(2):\n",
    "        idxs[pos,0] = b\n",
    "        idxs[pos,1] = b-1\n",
    "        dists[pos] = pulls(b,b-1,flat_prior) if (pos % 2 ) else pulls(b,b-1,informative_prior)\n",
    "        pos += 1\n",
    "        \n",
    "print (dists)\n",
    "print (idxs)"
   ]
  },
  {
   "cell_type": "code",
   "execution_count": null,
   "metadata": {
    "scrolled": false
   },
   "outputs": [],
   "source": [
    "plt.figure(figsize=(18,12))\n",
    "\n",
    "colors = ['red','blue'] # informative,flat\n",
    "alpha = 0.1\n",
    "\n",
    "for idx in range(len(idxs)):\n",
    "    plt.plot(dists[idx],'x--',color=colors[(idx % 2 )],alpha=alpha)\n",
    "    if idx % 2:\n",
    "        alpha += 0.1\n",
    "    \n",
    "_=plt.xticks([0,1,2,3,4],xticks)\n"
   ]
  },
  {
   "cell_type": "code",
   "execution_count": null,
   "metadata": {},
   "outputs": [],
   "source": [
    "2 % 2"
   ]
  },
  {
   "cell_type": "code",
   "execution_count": null,
   "metadata": {},
   "outputs": [],
   "source": [
    "# pymc \n",
    "# likelihood = ways to produce 2 blue (successes) out of 3 trials, for each conjecture.\n",
    "# conjecture first and last can be skipped, ways are 0\n",
    "# p indicates probability for a blue\n",
    "\n",
    "\n",
    "\n",
    "data = np.array([True,False,True,True,True])\n",
    "\n",
    "p = pm.Uniform('p',0,1)\n",
    "lkh = pm.Binomial('lkh',n=1,p=p,observed=True,value=data)\n",
    "\n",
    "model = pm.Model([p,lkh])\n",
    "mcmc = pm.MCMC(model)\n",
    "\n",
    "sample = mcmc.sample(50000,10000,5)"
   ]
  },
  {
   "cell_type": "code",
   "execution_count": null,
   "metadata": {},
   "outputs": [],
   "source": [
    "post_p = mcmc.trace('p')[:]\n",
    "\n",
    "result = pd.DataFrame({'post_p' : post_p})\n",
    "result.describe()"
   ]
  },
  {
   "cell_type": "code",
   "execution_count": null,
   "metadata": {},
   "outputs": [],
   "source": [
    "plt.hist(result.post_p,bins=20)"
   ]
  },
  {
   "cell_type": "code",
   "execution_count": null,
   "metadata": {},
   "outputs": [],
   "source": [
    "### THIS STUFF IS CONFUSING... TRYING TO CREATE A CUSTOM DIST, BASED ON THE WAYS TO PULL BLUE, WHICH IS\n",
    "### A DISCRETE DISTRIBUTION WITH VALUES 0, 0.25, 0.50, 0.75, 0\n",
    "### DERIVED FROM [0,1,2,3,4] WAYS TO PULL A BLUE\n",
    "###\n",
    "### looks like when the number of draws increases, the result gets closer to the analytically calculated result above\n",
    "\n",
    "summie = 10 # sum of ways\n",
    "\n",
    "@pm.stochastic\n",
    "def custom_dist(value=0.01,summie=summie): #default for value seems to be a necessary dummy value\n",
    "    if np.any(value <= 0):\n",
    "        return np.inf\n",
    "    p = np.log(value / summie)\n",
    "    return (p)\n",
    "\n",
    "\n",
    "data = [True,False,True,True,True,True,True,True,True,True] \n",
    "\n",
    "lkh = pm.Binomial('lkh',n=1,p=custom_dist,observed=True,value=data)\n",
    "\n",
    "model = pm.Model([custom_dist,lkh])\n",
    "\n",
    "mcmc = pm.MCMC(model)\n",
    "sample = mcmc.sample(50000,10000,5)"
   ]
  },
  {
   "cell_type": "code",
   "execution_count": null,
   "metadata": {},
   "outputs": [],
   "source": [
    "post_p = mcmc.trace('custom_dist')[:]\n",
    "\n",
    "result = pd.DataFrame({'post_p' : post_p})\n",
    "\n",
    "result.describe()"
   ]
  },
  {
   "cell_type": "code",
   "execution_count": null,
   "metadata": {},
   "outputs": [],
   "source": [
    "plt.hist(result.post_p,bins=20)"
   ]
  }
 ],
 "metadata": {
  "kernelspec": {
   "display_name": "Python 3",
   "language": "python",
   "name": "python3"
  },
  "language_info": {
   "codemirror_mode": {
    "name": "ipython",
    "version": 3
   },
   "file_extension": ".py",
   "mimetype": "text/x-python",
   "name": "python",
   "nbconvert_exporter": "python",
   "pygments_lexer": "ipython3",
   "version": "3.6.9"
  }
 },
 "nbformat": 4,
 "nbformat_minor": 4
}
