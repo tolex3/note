{
 "cells": [
  {
   "cell_type": "code",
   "execution_count": null,
   "metadata": {},
   "outputs": [],
   "source": [
    "import numpy as np\n",
    "import matplotlib.pyplot as plt\n",
    "import seaborn as sns\n",
    "import pandas as pd\n",
    "import pymc as pm\n",
    "\n",
    "sns.set()"
   ]
  },
  {
   "cell_type": "code",
   "execution_count": null,
   "metadata": {},
   "outputs": [],
   "source": [
    "dick = pd.read_pickle('country_data.pkl')\n",
    "\n",
    "def strip(x):\n",
    "    return x.replace('\\t','')\n",
    "\n",
    "country_populations = pd.read_csv('world_pop.csv',\n",
    "                                  sep=';',header=None,index_col=0,names=['population'],\n",
    "                                 thousands=',',converters={0 : strip})\n",
    "\n",
    "def process_country(country_name):\n",
    "    \n",
    "    country = dick[country_name]\n",
    "    country_population = country_populations.loc[country_name,'population']\n",
    "    country['conf_per_M'] = country['confirmed'] / (country_population / 1e6)\n",
    "    country['dead_per_M'] = country['deceased'] / (country_population / 1e6)\n",
    "    \n",
    "    return country\n",
    "\n"
   ]
  },
  {
   "cell_type": "code",
   "execution_count": null,
   "metadata": {},
   "outputs": [],
   "source": [
    "r_prior = pm.rlognormal(0.27,1/0.05**2,100000)\n",
    "f_prior = pm.rbeta(5,200,100000)"
   ]
  },
  {
   "cell_type": "code",
   "execution_count": null,
   "metadata": {},
   "outputs": [],
   "source": [
    "### ASSUMPTIONS ###\n",
    "### 1) nr of dead inc is a function of nr of confirmed\n",
    "### 2) D = f * C\n",
    "### 3) D = C * r * f + m\n",
    "\n",
    "def inference(df,C,D,country_name):\n",
    "   \n",
    "    alpha=10\n",
    "\n",
    "    f_alpha = 5\n",
    "    f_beta = 100\n",
    "    f = pm.rbeta(f_alpha,f_beta,size=100000)\n",
    "\n",
    "    r = pm.Lognormal('r',0.27,1/0.05**2)\n",
    "    f = pm.Beta('f',f_alpha,f_beta)\n",
    "    #m = pm.Uniform ('m',-2,2)\n",
    "\n",
    "    @pm.deterministic()\n",
    "    def prediction(C=C,r=r,f=f):\n",
    "        return C * r * f \n",
    "\n",
    "    obs = pm.Poisson('obs',prediction, observed=True,value=D)\n",
    "\n",
    "    model = pm.Model([f,r,prediction,obs])\n",
    "    try:\n",
    "        map_ = pm.MAP(model)\n",
    "        map_.fit()\n",
    "        \n",
    "    except:\n",
    "        print ('cant fit {}'.format(country_name))\n",
    "\n",
    "    mcmc = pm.MCMC(model)\n",
    "\n",
    "    mcmc.sample(100000,50000,2)\n",
    "\n",
    "    r_post = mcmc.trace('r')[:]\n",
    "    f_post = mcmc.trace('f')[:]\n",
    "    prediction_post = mcmc.trace('prediction')[:,0]\n",
    "\n",
    "    result = pd.DataFrame({'r_post':r_post,\n",
    "                          'f_post':f_post,\n",
    "                          'prediction_post':prediction_post})\n",
    "\n",
    "    print ()\n",
    "    print ('++++++++++++++ {} ++++++++++++++++'.format(country_name))\n",
    "    print (result.describe())\n",
    "    print()\n",
    "    \n",
    "    plt.figure(figsize=(18,12))\n",
    "    plt.hist(r_prior,color='r',label='r prior',alpha=0.5,histtype='stepfilled',density=True)\n",
    "    plt.hist(result.r_post,color='g',label='r posterior',alpha=0.7,histtype='stepfilled',density=True)\n",
    "    plt.legend(loc='upper left')\n",
    "\n",
    "    plt.figure(figsize=(18,12))\n",
    "    plt.hist(f_prior,color='r',label='f prior',alpha=0.5,histtype='stepfilled',density=True)\n",
    "    plt.hist(result.f_post,color='g',label='f posterior',alpha=0.7,histtype='stepfilled',density=True)\n",
    "    \n",
    "    plt.legend(loc='upper left')\n",
    "    \n",
    "    return result\n",
    "\n"
   ]
  },
  {
   "cell_type": "code",
   "execution_count": null,
   "metadata": {},
   "outputs": [],
   "source": [
    "def create_posterior_samples(result):\n",
    "    N = 10000\n",
    "    f_samples = np.random.choice(result.f_post,replace=True,size=N)\n",
    "    r_samples = np.random.choice(result.r_post,replace=True,size=N)\n",
    "\n",
    "    samples = np.array([pm.rpoisson(C[i] * r_samples * f_samples,N) for i in range(len(C))])\n",
    "\n",
    "    samples.shape\n",
    "\n",
    "    sample_df = pd.DataFrame(samples,index=range(len(samples)))\n",
    "    sample_df.index.name='day'\n",
    "    sample_df.columns.name='sample_nr'\n",
    "    return sample_df"
   ]
  },
  {
   "cell_type": "code",
   "execution_count": null,
   "metadata": {},
   "outputs": [],
   "source": [
    "\n",
    "def plot(df,sample_df,country_name):\n",
    "    plt.figure(figsize=(18,12))\n",
    "    title_postfix = r'posterior growth factor $\\mu$: {:.2f} posterior mortality rate $\\mu$: {:.4f}'.format(\n",
    "    result.r_post.mean(),result.f_post.mean())\n",
    "\n",
    "    sns.violinplot(data=sample_df.T,inner='quartile',scale='count')\n",
    "\n",
    "    plt.title('Bayesian Posterior Expected number of deaths per day {}, after the day CONFIRMED hit {} \\n'.format(\n",
    "        country_name,limit) + title_postfix)\n",
    "\n",
    "    plt.ylabel('Expected number of deaths per day')\n",
    "    plt.xlabel('Day after number of confirmed hit {}'.format(limit))\n",
    "    plt.scatter(range(len(df)),df['dead_inc'],color='crimson',label='actual data')\n",
    "    plt.legend(loc='upper left')\n",
    "    plt.savefig('{}_violinplot.jpg'.format(country_name),format='jpg')"
   ]
  },
  {
   "cell_type": "code",
   "execution_count": null,
   "metadata": {
    "scrolled": false
   },
   "outputs": [],
   "source": [
    "countries = ['India','Italy','Spain','Sweden','US',\n",
    "             'Korea, South','Netherlands','Canada','Germany','New York']\n",
    "\n",
    "#countries = ['Finland','Norway','Denmark','Sweden','Iceland']\n",
    "\n",
    "for country_name in countries:\n",
    "    \n",
    "    df = process_country(country_name)\n",
    "\n",
    "    limit = 1000\n",
    "    mask = df['confirmed'] >= limit\n",
    "    df = df[mask]\n",
    "\n",
    "    #df = df[-10:]\n",
    "\n",
    "    print (df['dead_inc'])\n",
    "\n",
    "    D = df['dead_inc']\n",
    "    C = df['confirmed']\n",
    "\n",
    "    result = inference(df,C,D,country_name)\n",
    "    sample_df = create_posterior_samples(result)\n",
    "    #print (sample_df.head(40))\n",
    "    sample_df.iloc[-1].describe()\n",
    "    plot(df,sample_df,country_name)"
   ]
  },
  {
   "cell_type": "code",
   "execution_count": null,
   "metadata": {},
   "outputs": [],
   "source": [
    "US = pd.read_pickle('us_state_dict.pkl')"
   ]
  },
  {
   "cell_type": "code",
   "execution_count": null,
   "metadata": {},
   "outputs": [],
   "source": [
    "ny = US['New York']\n",
    "ny"
   ]
  },
  {
   "cell_type": "code",
   "execution_count": null,
   "metadata": {
    "scrolled": false
   },
   "outputs": [],
   "source": [
    "print (ny['dead_inc'])\n",
    "\n",
    "D = ny['dead_inc']\n",
    "C = ny['confirmed']\n",
    "\n",
    "result = inference(ny,C,D,'New York')\n",
    "sample_df = create_posterior_samples(result)\n",
    "plot(ny,sample_df,'New York')"
   ]
  }
 ],
 "metadata": {
  "kernelspec": {
   "display_name": "Python 3",
   "language": "python",
   "name": "python3"
  },
  "language_info": {
   "codemirror_mode": {
    "name": "ipython",
    "version": 3
   },
   "file_extension": ".py",
   "mimetype": "text/x-python",
   "name": "python",
   "nbconvert_exporter": "python",
   "pygments_lexer": "ipython3",
   "version": "3.6.9"
  }
 },
 "nbformat": 4,
 "nbformat_minor": 4
}
