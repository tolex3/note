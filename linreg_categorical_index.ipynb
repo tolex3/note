{
 "cells": [
  {
   "cell_type": "code",
   "execution_count": null,
   "metadata": {},
   "outputs": [],
   "source": [
    "import numpy as np\n",
    "import matplotlib.pyplot as plt\n",
    "import seaborn as sns\n",
    "import pandas as pd\n",
    "import pymc as pm\n",
    "\n",
    "from pymc.Matplot import plot as pmplot\n",
    "\n",
    "sns.set()"
   ]
  },
  {
   "cell_type": "code",
   "execution_count": null,
   "metadata": {},
   "outputs": [],
   "source": [
    "number_of_categories = 2\n",
    "\n",
    "df = pd.read_csv('Howell1.csv',sep=';')\n",
    "df['index'] = df['male'].apply(lambda x : 1 if x==1 else 2)\n",
    "\n",
    "df.head()"
   ]
  },
  {
   "cell_type": "code",
   "execution_count": null,
   "metadata": {},
   "outputs": [],
   "source": [
    "def regression(x,y): # x is the category index (male/female), y the outcome (height)\n",
    "   \n",
    "    height_sigma = pm.Uniform('height_sigma',0,50)\n",
    "    \n",
    "    a = pm.Normal('a',178,1 / 20 ** 2,size=nr_categories) # two 'a:s', one for each category\n",
    "    \n",
    "    mu = a[x-1] # data category index starts at 1, so shift down to match python zero-based index\n",
    "    \n",
    "    height_mu = pm.Normal('height_mu', mu, 1 / height_sigma ** 2)\n",
    "    \n",
    "    obs = pm.Normal('obs',height_mu, 1 / height_sigma ** 2,observed=True,value=y)\n",
    "    \n",
    "    model = pm.Model([height_sigma,a,height_mu,obs])\n",
    "    \n",
    "    map_ = pm.MAP(model)\n",
    "    map_.fit()\n",
    "    \n",
    "    mcmc = pm.MCMC(model)\n",
    "    \n",
    "    sample = mcmc.sample(300000,100000,3)\n",
    "    \n",
    "    height_sigma_post = mcmc.trace('height_sigma')[:]\n",
    "    a_post_1 = mcmc.trace('a')[:,0]\n",
    "    a_post_2 = mcmc.trace('a')[:,1]\n",
    "    height_mu_post = mcmc.trace('height_mu')[:]\n",
    "    \n",
    "    pmplot(height_sigma_post,'height_sigma')\n",
    "    pmplot(a_post_1,'a_1')\n",
    "    pmplot(a_post_2,'a_2')\n",
    "    \n",
    "    \n",
    "    result = pd.DataFrame({'height_sigma_post' : height_sigma_post,\n",
    "                          'a_post_1' : a_post_1,\n",
    "                            'a_post_2' : a_post_2})\n",
    "    \n",
    "    return result"
   ]
  },
  {
   "cell_type": "code",
   "execution_count": null,
   "metadata": {
    "scrolled": false
   },
   "outputs": [],
   "source": [
    "result = regression(df['index'],df['height'])\n",
    "\n"
   ]
  },
  {
   "cell_type": "code",
   "execution_count": null,
   "metadata": {},
   "outputs": [],
   "source": [
    "\n",
    "result['alpha_diff'] = (result.a_post_2 - result.a_post_1)\n",
    "\n",
    "desc = result.describe().T\n",
    "\n",
    "CI_89_low = result.quantile(0.055)\n",
    "CI_89_high = result.quantile(0.945)\n",
    "\n",
    "CI = pd.DataFrame({'5.5%': CI_89_low,\n",
    "                  '94.5%':CI_89_high})\n",
    "\n",
    "\n",
    "stats = desc.join(CI)\n",
    "\n",
    "stats"
   ]
  },
  {
   "cell_type": "code",
   "execution_count": null,
   "metadata": {},
   "outputs": [],
   "source": []
  }
 ],
 "metadata": {
  "kernelspec": {
   "display_name": "Python 3",
   "language": "python",
   "name": "python3"
  },
  "language_info": {
   "codemirror_mode": {
    "name": "ipython",
    "version": 3
   },
   "file_extension": ".py",
   "mimetype": "text/x-python",
   "name": "python",
   "nbconvert_exporter": "python",
   "pygments_lexer": "ipython3",
   "version": "3.6.9"
  }
 },
 "nbformat": 4,
 "nbformat_minor": 4
}
