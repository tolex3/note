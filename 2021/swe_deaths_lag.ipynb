{
 "cells": [
  {
   "cell_type": "code",
   "execution_count": null,
   "metadata": {},
   "outputs": [],
   "source": [
    "### TEMP until 2021-01-18 scb report !!!! ####\n",
    "### remove the line below above tag when the next scb update has arrived, scheduled 2021-01-18 ###\n"
   ]
  },
  {
   "cell_type": "code",
   "execution_count": null,
   "metadata": {},
   "outputs": [],
   "source": [
    "import numpy as np\n",
    "import matplotlib.pyplot as plt\n",
    "import seaborn as sns\n",
    "import pandas as pd\n",
    "\n",
    "sns.set()"
   ]
  },
  {
   "cell_type": "code",
   "execution_count": null,
   "metadata": {},
   "outputs": [],
   "source": [
    "scb_file = pd.ExcelFile('https://www.scb.se/hitta-statistik/statistik-efter-amne/befolkning/befolkningens-sammansattning/befolkningsstatistik/pong/tabell-och-diagram/preliminar-statistik-over-doda/')\n"
   ]
  },
  {
   "cell_type": "code",
   "execution_count": null,
   "metadata": {},
   "outputs": [],
   "source": [
    "rap_date = scb_file.parse(sheet_name='Tabell 8',skiprows=6)\n",
    "rap_date"
   ]
  },
  {
   "cell_type": "code",
   "execution_count": null,
   "metadata": {},
   "outputs": [],
   "source": [
    "rap_date = rap_date.replace(np.nan,0)\n",
    "rap_date = rap_date.loc[rap_date['DagMånad'] != 0]\n",
    "unknowns = rap_date.iloc[-1]\n",
    "\n",
    "rap_date = rap_date[:-1]\n",
    "unknowns"
   ]
  },
  {
   "cell_type": "code",
   "execution_count": null,
   "metadata": {},
   "outputs": [],
   "source": [
    "# always pick 2020 unknowns from table 1, where 2020 is its own column (avoid getting 2021 entries incl.)\n",
    "\n",
    "last_unknown = scb_file.parse('Tabell 1',skiprows=6,usecols=[6])\n",
    "unknowns = unknowns[1:]\n",
    "unknowns.iloc[-1] = last_unknown.iloc[-1].values[0]\n",
    "    \n",
    "unknowns"
   ]
  },
  {
   "cell_type": "code",
   "execution_count": null,
   "metadata": {},
   "outputs": [],
   "source": [
    "unknowns = unknowns.replace(0,method='ffill')\n",
    "unknowns"
   ]
  },
  {
   "cell_type": "code",
   "execution_count": null,
   "metadata": {},
   "outputs": [],
   "source": [
    "swe_months = ['januari','februari','mars','april','maj','juni',\n",
    "              'juli','augusti','september','oktober','november','december']\n",
    "\n",
    "eng_months = ['January','February','March','April','May','June',\n",
    "             'July','August','September','October','November','December']\n",
    "\n",
    "swe_2_eng_map = dict(zip(swe_months,eng_months))\n",
    "    \n",
    "idx = pd.to_datetime(rap_date['DagMånad'].apply(lambda d : d.replace(d.split(' ')[1],swe_2_eng_map[d.split(' ')[1]])))\n",
    "rap_date.index = idx\n",
    "rap_date = rap_date.drop('DagMånad',axis=1)\n",
    "\n",
    "rap_date = rap_date.loc[:'2020-12-31']\n",
    "\n",
    "rap_date\n"
   ]
  },
  {
   "cell_type": "code",
   "execution_count": null,
   "metadata": {},
   "outputs": [],
   "source": [
    "def swe2eng(i,datum):\n",
    "    \n",
    "    month_map = {'jan.' : '01',\n",
    "                'april' : '04',\n",
    "                'maj' : '05',\n",
    "                'juni' : '06',\n",
    "                'juli' : '07',\n",
    "                'aug.' : '08',\n",
    "                'sep.' : '09',\n",
    "                'okt.' : '10',\n",
    "                'nov.' : '11',\n",
    "                'dec.' : '12'}\n",
    "    \n",
    "    dag,mon = datum.split()\n",
    "    \n",
    "    if len(dag) == 1:\n",
    "        dag = '0' + dag\n",
    "    \n",
    "    if i < 39: # 39 reports 2020\n",
    "        return '2020-' + month_map[mon] + '-' + dag\n",
    "\n",
    "    else:\n",
    "        return '2021-' + month_map[mon] + '-' + dag\n"
   ]
  },
  {
   "cell_type": "code",
   "execution_count": null,
   "metadata": {},
   "outputs": [],
   "source": [
    "cols = [ swe2eng(i,x) for i,x in enumerate(rap_date.columns.values) ]\n",
    "rap_date.columns = cols\n",
    "rap_date"
   ]
  },
  {
   "cell_type": "code",
   "execution_count": null,
   "metadata": {},
   "outputs": [],
   "source": [
    "rap_date.sum()"
   ]
  },
  {
   "cell_type": "code",
   "execution_count": null,
   "metadata": {},
   "outputs": [],
   "source": [
    "unknowns.index = cols\n",
    "unknowns"
   ]
  },
  {
   "cell_type": "code",
   "execution_count": null,
   "metadata": {},
   "outputs": [],
   "source": [
    "rap_date.loc[:'2020-12-31']"
   ]
  },
  {
   "cell_type": "code",
   "execution_count": null,
   "metadata": {},
   "outputs": [],
   "source": [
    "daily_proportions = rap_date / rap_date.sum()\n",
    "add_ons = daily_proportions * unknowns\n",
    "rap_date = rap_date + add_ons\n",
    "rap_date"
   ]
  },
  {
   "cell_type": "code",
   "execution_count": null,
   "metadata": {},
   "outputs": [],
   "source": [
    "rap_date.sum()"
   ]
  },
  {
   "cell_type": "code",
   "execution_count": null,
   "metadata": {},
   "outputs": [],
   "source": [
    "monthly_deaths_by_rep_date = rap_date.resample('M').sum()\n",
    "\n",
    "### TEMP until 2021-01-18 scb report !!!! ####\n",
    "#monthly_deaths_by_rep_date['2021-01-18'] = monthly_deaths_by_rep_date['2021-01-11']\n",
    "###\n",
    "\n",
    "monthly_deaths_by_rep_date"
   ]
  },
  {
   "cell_type": "code",
   "execution_count": null,
   "metadata": {},
   "outputs": [],
   "source": [
    "monthly_transposed = monthly_deaths_by_rep_date.T\n",
    "monthly_transposed.index.name='report_date'\n",
    "monthly_transposed.columns.name = 'month'\n",
    "monthly_transposed"
   ]
  },
  {
   "cell_type": "code",
   "execution_count": null,
   "metadata": {
    "scrolled": false
   },
   "outputs": [],
   "source": [
    "dead_diff_last_report_vs_third_after_month_end = np.zeros(12)\n",
    "all_diffs = np.zeros((len(monthly_transposed.columns),len(monthly_transposed)))\n",
    "\n",
    "for i,month in enumerate(monthly_transposed.columns):\n",
    "    mask = pd.to_datetime(monthly_transposed[month].index) > month + pd.DateOffset(weeks=2)\n",
    "    \n",
    "    dead_diff_last_report_vs_third_after_month_end[i] = \\\n",
    "    (monthly_transposed[month][mask][-1] - monthly_transposed[month][mask][0])\n",
    "    \n",
    "    for j in range(len(monthly_transposed)):\n",
    "        all_diffs[i,j] = monthly_transposed[month][-1] - monthly_transposed[month][j]    \n",
    "    \n",
    "diff_third_report_vs_last = pd.Series(dead_diff_last_report_vs_third_after_month_end,\n",
    "                                     index=range(1,13))\n",
    "\n",
    "diff_third_report_vs_last\n"
   ]
  },
  {
   "cell_type": "code",
   "execution_count": null,
   "metadata": {},
   "outputs": [],
   "source": [
    "dead_diff_last_report_vs_third_after_month_end"
   ]
  },
  {
   "cell_type": "code",
   "execution_count": null,
   "metadata": {},
   "outputs": [],
   "source": [
    "total_updates = diff_third_report_vs_last.sum()\n",
    "print (total_updates)\n",
    "diff_third_report_vs_last[1:11].mean()"
   ]
  },
  {
   "cell_type": "code",
   "execution_count": null,
   "metadata": {
    "scrolled": false
   },
   "outputs": [],
   "source": [
    "plt.figure(figsize=(18,12))\n",
    "\n",
    "ax = plt.gca()\n",
    "\n",
    "for month in monthly_transposed.columns:\n",
    "    monthly_transposed.plot(ax=ax,y=month,style='o--')\n",
    "    \n",
    "plt.xlabel('reporting date')\n",
    "plt.ylabel('monthly deaths')\n",
    "\n",
    "legends = [pd.to_datetime(x).month_name() for x in monthly_transposed.columns]\n",
    "\n",
    "plt.legend(legends)\n",
    "\n",
    "title1 = 'SWEDEN monthly All Cause Deaths Jan-Dec 2020 - Data reliable 3 weeks after initial report\\nDataSource : scb.se'\n",
    "title2 = \"\\n\\nsee also https://www.scb.se/om-scb/nyheter-och-pressmeddelanden/scb-publicerar-preliminar-statistik-over-doda-i-sverige/\"\n",
    "\n",
    "plt.title(title1+title2)\n",
    "\n",
    "_= plt.xticks(range(len(monthly_transposed)),monthly_transposed.index,rotation=90)\n",
    "\n",
    "plt.savefig('swe_deaths_lag.jpg',format='jpg')\n"
   ]
  },
  {
   "cell_type": "code",
   "execution_count": null,
   "metadata": {},
   "outputs": [],
   "source": [
    "all_diffs_df = pd.DataFrame(all_diffs).T\n",
    "all_diffs_df.columns = monthly_transposed.columns\n",
    "all_diffs_df.index = monthly_transposed.index\n",
    "all_diffs_df"
   ]
  },
  {
   "cell_type": "code",
   "execution_count": null,
   "metadata": {
    "scrolled": false
   },
   "outputs": [],
   "source": [
    "plt.figure(figsize=(18,12))\n",
    "plt.title('SWEDEN All Cause Deaths - differences for each monthly death count between latest and earlier reports\\nDataSource : scb.se')\n",
    "\n",
    "for month in all_diffs_df.columns:\n",
    "    mask = pd.to_datetime(all_diffs_df[month].index) > pd.to_datetime(month) \n",
    "    plt.plot (all_diffs_df[month][mask],'o--',label=month.date())\n",
    "    \n",
    "plt.legend(loc='upper center')\n",
    "plt.xlabel('reporting date')\n",
    "plt.ylabel('difference in registered deaths per reporting date vs latest reported data')\n",
    "    \n",
    "_=plt.xticks(rotation=90)"
   ]
  }
 ],
 "metadata": {
  "kernelspec": {
   "display_name": "Python 3",
   "language": "python",
   "name": "python3"
  },
  "language_info": {
   "codemirror_mode": {
    "name": "ipython",
    "version": 3
   },
   "file_extension": ".py",
   "mimetype": "text/x-python",
   "name": "python",
   "nbconvert_exporter": "python",
   "pygments_lexer": "ipython3",
   "version": "3.8.6"
  }
 },
 "nbformat": 4,
 "nbformat_minor": 4
}
