{
 "cells": [
  {
   "cell_type": "code",
   "execution_count": null,
   "metadata": {},
   "outputs": [],
   "source": [
    "import numpy as np\n",
    "import matplotlib.pyplot as plt\n",
    "import seaborn as sns\n",
    "import pandas as pd\n",
    "import requests\n",
    "\n",
    "sns.set()"
   ]
  },
  {
   "cell_type": "code",
   "execution_count": null,
   "metadata": {},
   "outputs": [],
   "source": [
    "dead_url = 'http://api.scb.se/OV0104/v1/doris/sv/ssd/START/BE/BE0101/BE0101I/DodaHandelseK'\n",
    "dead_query = {\n",
    "  \"query\": [\n",
    "    {\n",
    "      \"code\": \"Region\",\n",
    "      \"selection\": {\n",
    "        \"filter\": \"vs:RegionRiket99\",\n",
    "        \"values\": [\n",
    "          \"00\"\n",
    "        ]\n",
    "      }\n",
    "    },\n",
    "    {\n",
    "      \"code\": \"Alder\",\n",
    "      \"selection\": {\n",
    "        \"filter\": \"vs:Ålder1årA\",\n",
    "        \"values\": [\n",
    "          \"0\",\n",
    "          \"1\",\n",
    "          \"2\",\n",
    "          \"3\",\n",
    "          \"4\",\n",
    "          \"5\",\n",
    "          \"6\",\n",
    "          \"7\",\n",
    "          \"8\",\n",
    "          \"9\",\n",
    "          \"10\",\n",
    "          \"11\",\n",
    "          \"12\",\n",
    "          \"13\",\n",
    "          \"14\",\n",
    "          \"15\",\n",
    "          \"16\",\n",
    "          \"17\",\n",
    "          \"18\",\n",
    "          \"19\",\n",
    "          \"20\",\n",
    "          \"21\",\n",
    "          \"22\",\n",
    "          \"23\",\n",
    "          \"24\",\n",
    "          \"25\",\n",
    "          \"26\",\n",
    "          \"27\",\n",
    "          \"28\",\n",
    "          \"29\",\n",
    "          \"30\",\n",
    "          \"31\",\n",
    "          \"32\",\n",
    "          \"33\",\n",
    "          \"34\",\n",
    "          \"35\",\n",
    "          \"36\",\n",
    "          \"37\",\n",
    "          \"38\",\n",
    "          \"39\",\n",
    "          \"40\",\n",
    "          \"41\",\n",
    "          \"42\",\n",
    "          \"43\",\n",
    "          \"44\",\n",
    "          \"45\",\n",
    "          \"46\",\n",
    "          \"47\",\n",
    "          \"48\",\n",
    "          \"49\",\n",
    "          \"50\",\n",
    "          \"51\",\n",
    "          \"52\",\n",
    "          \"53\",\n",
    "          \"54\",\n",
    "          \"55\",\n",
    "          \"56\",\n",
    "          \"57\",\n",
    "          \"58\",\n",
    "          \"59\",\n",
    "          \"60\",\n",
    "          \"61\",\n",
    "          \"62\",\n",
    "          \"63\",\n",
    "          \"64\",\n",
    "          \"65\",\n",
    "          \"66\",\n",
    "          \"67\",\n",
    "          \"68\",\n",
    "          \"69\",\n",
    "          \"70\",\n",
    "          \"71\",\n",
    "          \"72\",\n",
    "          \"73\",\n",
    "          \"74\",\n",
    "          \"75\",\n",
    "          \"76\",\n",
    "          \"77\",\n",
    "          \"78\",\n",
    "          \"79\",\n",
    "          \"80\",\n",
    "          \"81\",\n",
    "          \"82\",\n",
    "          \"83\",\n",
    "          \"84\",\n",
    "          \"85\",\n",
    "          \"86\",\n",
    "          \"87\",\n",
    "          \"88\",\n",
    "          \"89\",\n",
    "          \"90\",\n",
    "          \"91\",\n",
    "          \"92\",\n",
    "          \"93\",\n",
    "          \"94\",\n",
    "          \"95\",\n",
    "          \"96\",\n",
    "          \"97\",\n",
    "          \"98\",\n",
    "          \"99\",\n",
    "          \"100+\"\n",
    "        ]\n",
    "      }\n",
    "    },\n",
    "    {\n",
    "      \"code\": \"Kon\",\n",
    "      \"selection\": {\n",
    "        \"filter\": \"item\",\n",
    "        \"values\": [\n",
    "          \"1\",\n",
    "          \"2\"\n",
    "        ]\n",
    "      }\n",
    "    }\n",
    "  ],\n",
    "  \"response\": {\n",
    "    \"format\": \"json\"\n",
    "  }\n",
    "}\n",
    "\n",
    "pop_url = 'http://api.scb.se/OV0104/v1/doris/sv/ssd/START/BE/BE0101/BE0101A/FolkmangdNov'\n",
    "pop_query = {\n",
    "  \"query\": [\n",
    "    {\n",
    "      \"code\": \"Region\",\n",
    "      \"selection\": {\n",
    "        \"filter\": \"vs:RegionRiket99\",\n",
    "        \"values\": [\n",
    "          \"00\"\n",
    "        ]\n",
    "      }\n",
    "    },\n",
    "    {\n",
    "      \"code\": \"Alder\",\n",
    "      \"selection\": {\n",
    "        \"filter\": \"vs:Ålder1årA\",\n",
    "        \"values\": [\n",
    "          \"0\",\n",
    "          \"1\",\n",
    "          \"2\",\n",
    "          \"3\",\n",
    "          \"4\",\n",
    "          \"5\",\n",
    "          \"6\",\n",
    "          \"7\",\n",
    "          \"8\",\n",
    "          \"9\",\n",
    "          \"10\",\n",
    "          \"11\",\n",
    "          \"12\",\n",
    "          \"13\",\n",
    "          \"14\",\n",
    "          \"15\",\n",
    "          \"16\",\n",
    "          \"17\",\n",
    "          \"18\",\n",
    "          \"19\",\n",
    "          \"20\",\n",
    "          \"21\",\n",
    "          \"22\",\n",
    "          \"23\",\n",
    "          \"24\",\n",
    "          \"25\",\n",
    "          \"26\",\n",
    "          \"27\",\n",
    "          \"28\",\n",
    "          \"29\",\n",
    "          \"30\",\n",
    "          \"31\",\n",
    "          \"32\",\n",
    "          \"33\",\n",
    "          \"34\",\n",
    "          \"35\",\n",
    "          \"36\",\n",
    "          \"37\",\n",
    "          \"38\",\n",
    "          \"39\",\n",
    "          \"40\",\n",
    "          \"41\",\n",
    "          \"42\",\n",
    "          \"43\",\n",
    "          \"44\",\n",
    "          \"45\",\n",
    "          \"46\",\n",
    "          \"47\",\n",
    "          \"48\",\n",
    "          \"49\",\n",
    "          \"50\",\n",
    "          \"51\",\n",
    "          \"52\",\n",
    "          \"53\",\n",
    "          \"54\",\n",
    "          \"55\",\n",
    "          \"56\",\n",
    "          \"57\",\n",
    "          \"58\",\n",
    "          \"59\",\n",
    "          \"60\",\n",
    "          \"61\",\n",
    "          \"62\",\n",
    "          \"63\",\n",
    "          \"64\",\n",
    "          \"65\",\n",
    "          \"66\",\n",
    "          \"67\",\n",
    "          \"68\",\n",
    "          \"69\",\n",
    "          \"70\",\n",
    "          \"71\",\n",
    "          \"72\",\n",
    "          \"73\",\n",
    "          \"74\",\n",
    "          \"75\",\n",
    "          \"76\",\n",
    "          \"77\",\n",
    "          \"78\",\n",
    "          \"79\",\n",
    "          \"80\",\n",
    "          \"81\",\n",
    "          \"82\",\n",
    "          \"83\",\n",
    "          \"84\",\n",
    "          \"85\",\n",
    "          \"86\",\n",
    "          \"87\",\n",
    "          \"88\",\n",
    "          \"89\",\n",
    "          \"90\",\n",
    "          \"91\",\n",
    "          \"92\",\n",
    "          \"93\",\n",
    "          \"94\",\n",
    "          \"95\",\n",
    "          \"96\",\n",
    "          \"97\",\n",
    "          \"98\",\n",
    "          \"99\",\n",
    "          \"100+\"\n",
    "        ]\n",
    "      }\n",
    "    },\n",
    "    {\n",
    "      \"code\": \"Kon\",\n",
    "      \"selection\": {\n",
    "        \"filter\": \"item\",\n",
    "        \"values\": [\n",
    "          \"1\",\n",
    "          \"2\"\n",
    "        ]\n",
    "      }\n",
    "    }\n",
    "  ],\n",
    "  \"response\": {\n",
    "    \"format\": \"json\"\n",
    "  }\n",
    "}"
   ]
  },
  {
   "cell_type": "code",
   "execution_count": null,
   "metadata": {},
   "outputs": [],
   "source": []
  },
  {
   "cell_type": "code",
   "execution_count": null,
   "metadata": {},
   "outputs": [],
   "source": [
    "def get_data(url,query):\n",
    "    r = requests.post(url,json=query)\n",
    "    \n",
    "    if r.status_code != 200 :\n",
    "        print (r.status_code)\n",
    "    \n",
    "    data = pd.DataFrame.from_dict(r.json()['data'])\n",
    "    data[['area','age','gender','year']] = data['key'].to_list()\n",
    "    data['count'] = data['values'].apply(lambda x : x[0])\n",
    "    data['age'] = data['age'].apply(lambda x : x.replace('+','')).astype(int)\n",
    "    data.drop(['values','key','area'],axis=1,inplace=True)\n",
    "    data.set_index('year',inplace=True)\n",
    "    data['count'] = data['count'].astype(int)\n",
    "    data = data.groupby(['year','age']).sum()\n",
    "    \n",
    "    return data\n",
    "    \n",
    "\n"
   ]
  },
  {
   "cell_type": "code",
   "execution_count": null,
   "metadata": {},
   "outputs": [],
   "source": [
    "dead_df = get_data(dead_url,dead_query)\n",
    "dead_df"
   ]
  },
  {
   "cell_type": "code",
   "execution_count": null,
   "metadata": {},
   "outputs": [],
   "source": [
    "dead_df.loc['2020'].head(40)"
   ]
  },
  {
   "cell_type": "code",
   "execution_count": null,
   "metadata": {},
   "outputs": [],
   "source": [
    "pop_df = get_data(pop_url,pop_query)\n",
    "pop_df"
   ]
  },
  {
   "cell_type": "code",
   "execution_count": null,
   "metadata": {},
   "outputs": [],
   "source": [
    "dead_df.to_excel('official_deaths.xlsx')\n",
    "pop_df.to_excel('official_pop.xlsx')"
   ]
  },
  {
   "cell_type": "code",
   "execution_count": null,
   "metadata": {},
   "outputs": [],
   "source": [
    "total_dead = dead_df.groupby('year').sum()\n",
    "total_pop = pop_df.groupby('year').sum()\n",
    "\n",
    "mortality = (total_dead / total_pop).dropna()\n",
    "mortality"
   ]
  },
  {
   "cell_type": "code",
   "execution_count": null,
   "metadata": {},
   "outputs": [],
   "source": [
    "title='SWEDEN Final Official Mortality 2002-2020\\nDataSource : scb.se'\n",
    "mortality.plot(kind='bar',color='crimson',figsize=(18,12),title=title)\n",
    "plt.legend(['Mortality'])\n",
    "plt.ylabel('Mortality')\n",
    "plt.yticks(np.arange(0,0.012,0.001))\n",
    "plt.savefig('SCB_FINAL_mortality.jpg',format='jpg')"
   ]
  },
  {
   "cell_type": "code",
   "execution_count": null,
   "metadata": {},
   "outputs": [],
   "source": [
    "def binner(df,binsize=10):\n",
    "    \n",
    "    binned = pd.cut(df.index.get_level_values(1),range(-1,100+binsize,binsize),labels=range(0,100+binsize,binsize))\n",
    "    return binned"
   ]
  },
  {
   "cell_type": "code",
   "execution_count": null,
   "metadata": {},
   "outputs": [],
   "source": [
    "pop_df['bin_10'] = binner(pop_df)\n",
    "dead_df['bin_10'] = binner(dead_df)\n",
    "\n",
    "dead_df"
   ]
  },
  {
   "cell_type": "code",
   "execution_count": null,
   "metadata": {},
   "outputs": [],
   "source": [
    "binned_pop = pop_df.groupby(['year','bin_10']).sum()\n",
    "binned_dead = dead_df.groupby(['year','bin_10']).sum()\n",
    "binned_dead"
   ]
  },
  {
   "cell_type": "code",
   "execution_count": null,
   "metadata": {},
   "outputs": [],
   "source": [
    "age_grp_mortality = (binned_dead / binned_pop).dropna()\n",
    "age_grp_mortality"
   ]
  },
  {
   "cell_type": "code",
   "execution_count": null,
   "metadata": {},
   "outputs": [],
   "source": [
    "unstacked_age_grp_mortality = age_grp_mortality.unstack()\n",
    "unstacked_age_grp_mortality = unstacked_age_grp_mortality.droplevel(0,axis=1)\n",
    "unstacked_age_grp_mortality"
   ]
  },
  {
   "cell_type": "code",
   "execution_count": null,
   "metadata": {},
   "outputs": [],
   "source": [
    "age_grp_baseline = unstacked_age_grp_mortality.loc['2015' : '2018'].mean()\n",
    "age_grp_baseline"
   ]
  },
  {
   "cell_type": "code",
   "execution_count": null,
   "metadata": {},
   "outputs": [],
   "source": [
    "title = 'SWEDEN Final Official Age Group Mortality [10 year bins], 2002-2020\\nDataSource : scb.se'\n",
    "axes = unstacked_age_grp_mortality.plot(subplots=True,figsize=(18,12),style='ro--',title=title)\n",
    "plt.ylabel('mortality')\n",
    "\n",
    "for i,ax in enumerate(axes):\n",
    "    ax.legend(loc='upper left')\n",
    "    ax.axhline(age_grp_baseline.iloc[i],ls='dashed',color='k')\n",
    "    \n",
    "plt.savefig('SCB_FINAL_age_grp_mort.jpg',format='jpg')\n"
   ]
  },
  {
   "cell_type": "code",
   "execution_count": null,
   "metadata": {},
   "outputs": [],
   "source": [
    "age_grp_growth_vs_baseline = unstacked_age_grp_mortality / age_grp_baseline\n",
    "age_grp_growth_vs_baseline"
   ]
  },
  {
   "cell_type": "code",
   "execution_count": null,
   "metadata": {},
   "outputs": [],
   "source": [
    "title = 'SWEDEN age group mortality growth 2020 vs baseline 2015-2018\\nDataSource : scb.se'\n",
    "age_grp_growth_vs_baseline.loc['2020'].plot(kind='bar',figsize=(18,12),color='red',title=title)\n",
    "\n",
    "plt.ylabel('growth factor')\n",
    "plt.xlabel('age group')\n",
    "plt.axhline(1,ls='dashed',color='k')\n",
    "\n",
    "plt.savefig('SCB_FINAL_age_grp_growth.jpg',format='jpg')"
   ]
  },
  {
   "cell_type": "code",
   "execution_count": null,
   "metadata": {},
   "outputs": [],
   "source": [
    "binned_dead.loc['2020']"
   ]
  },
  {
   "cell_type": "code",
   "execution_count": null,
   "metadata": {},
   "outputs": [],
   "source": [
    "pop_df['bin_5'] = binner(pop_df,5)\n",
    "dead_df['bin_5'] = binner(dead_df,5)\n",
    "pop_df.tail()"
   ]
  },
  {
   "cell_type": "code",
   "execution_count": null,
   "metadata": {},
   "outputs": [],
   "source": [
    "binned_5_dead = dead_df.groupby(['year','bin_5']).sum()\n",
    "binned_5_pop = pop_df.groupby(['year','bin_5']).sum()\n",
    "binned_5_dead.loc['2020']"
   ]
  },
  {
   "cell_type": "code",
   "execution_count": null,
   "metadata": {},
   "outputs": [],
   "source": [
    "\n",
    "binned_5_mort = (binned_5_dead / binned_5_pop).dropna()\n",
    "binned_5_unstacked = binned_5_mort.unstack().droplevel(0,axis=1)\n",
    "binned_5_unstacked"
   ]
  },
  {
   "cell_type": "code",
   "execution_count": null,
   "metadata": {},
   "outputs": [],
   "source": [
    "binned_5_unstacked.plot(figsize=(18,12),style='o--',logy=True)\n",
    "plt.legend(loc='upper left')"
   ]
  },
  {
   "cell_type": "code",
   "execution_count": null,
   "metadata": {},
   "outputs": [],
   "source": [
    "binned_5_baseline = binned_5_unstacked.loc['2015' : '2018'].mean()\n",
    "binned_5_baseline"
   ]
  },
  {
   "cell_type": "code",
   "execution_count": null,
   "metadata": {},
   "outputs": [],
   "source": [
    "binned_5_growth = binned_5_unstacked.loc['2020'] / binned_5_baseline\n",
    "binned_5_growth"
   ]
  },
  {
   "cell_type": "code",
   "execution_count": null,
   "metadata": {},
   "outputs": [],
   "source": [
    "binned_5_growth.plot(kind='bar',figsize=(18,12),color='r')\n",
    "plt.yticks(np.arange(0,1.2,0.05))\n",
    "plt.axhline(1,ls='dashed',color='k')\n",
    "plt.xlabel('age group')\n",
    "plt.ylabel('growth factor')"
   ]
  },
  {
   "cell_type": "code",
   "execution_count": null,
   "metadata": {},
   "outputs": [],
   "source": [
    "expected_deaths = binned_pop.unstack().droplevel(0,axis=1) * age_grp_baseline\n",
    "expected_deaths\n"
   ]
  },
  {
   "cell_type": "code",
   "execution_count": null,
   "metadata": {},
   "outputs": [],
   "source": [
    "expectation = expected_deaths.sum(axis=1)\n",
    "expectation"
   ]
  },
  {
   "cell_type": "code",
   "execution_count": null,
   "metadata": {},
   "outputs": [],
   "source": [
    "excess = (dead_df.groupby('year')['count'].sum() - expectation).dropna()\n",
    "excess"
   ]
  },
  {
   "cell_type": "code",
   "execution_count": null,
   "metadata": {},
   "outputs": [],
   "source": [
    "pop_df['bin_1'] = pop_df.index.get_level_values(1)\n",
    "dead_df['bin_1'] = dead_df.index.get_level_values(1)\n",
    "\n",
    "dead_df"
   ]
  },
  {
   "cell_type": "code",
   "execution_count": null,
   "metadata": {},
   "outputs": [],
   "source": [
    "dead_df['scb_prel_bin'] = pd.cut(dead_df.index.get_level_values(1),[-1,64,79,89,100],labels=[64,79,89,100])\n",
    "pop_df['scb_prel_bin'] = pd.cut(pop_df.index.get_level_values(1),[-1,64,79,89,100],labels=[64,79,89,100])\n"
   ]
  },
  {
   "cell_type": "code",
   "execution_count": null,
   "metadata": {},
   "outputs": [],
   "source": [
    "def binned_mort(bin):\n",
    "    return (dead_df.groupby(['year',bin])['count'].sum() / pop_df.groupby(['year',bin])['count'].sum()).dropna()\n",
    "\n",
    "binned_mort('bin_5').tail(40)"
   ]
  },
  {
   "cell_type": "code",
   "execution_count": null,
   "metadata": {},
   "outputs": [],
   "source": [
    "def baseline(start_year='2015',end_year='2018',bin='bin_10'):\n",
    "    tmp = binned_mort(bin)\n",
    "    base = tmp.loc[start_year : end_year]\n",
    "    s = base.unstack().mean()\n",
    "    s.name=bin\n",
    "    return s\n"
   ]
  },
  {
   "cell_type": "code",
   "execution_count": null,
   "metadata": {},
   "outputs": [],
   "source": [
    "def expectation(base):\n",
    "    grp_pop = pop_df.groupby(['year',base.name])['count'].sum()\n",
    "    return base * grp_pop\n",
    "    \n",
    "\n",
    "def excess(base,start_year='2015',end_year='2018'):\n",
    "    return (dead_df.groupby(['year',base.name])['count'].sum() - expectation(base)).dropna()\n",
    "\n",
    "\n",
    "excess_15_18_bin_1 = excess(baseline('2015','2018','bin_1')).groupby('year').sum()\n",
    "excess_15_18_bin_5 = excess(baseline('2015','2018','bin_5')).groupby('year').sum()\n",
    "excess_15_18_bin_10 = excess(baseline('2015','2018','bin_10')).groupby('year').sum()\n",
    "excess_15_18_bin_scb_prel = excess(baseline('2015','2018','scb_prel_bin')).groupby('year').sum()\n",
    "\n",
    "print (excess_15_18_bin_1)\n",
    "print ()\n",
    "print (excess_15_18_bin_5)\n",
    "print ()\n",
    "print (excess_15_18_bin_10)\n",
    "print ()\n",
    "print (excess_15_18_bin_scb_prel)"
   ]
  },
  {
   "cell_type": "code",
   "execution_count": null,
   "metadata": {},
   "outputs": [],
   "source": [
    "title = 'SWEDEN Excess Deaths vs baseline 2015-2018, 4 different binnings\\nDataSource : scb.se'\n",
    "ax = excess_15_18_bin_1.loc['2010':].plot(figsize=(18,12),style='o--',title=title)\n",
    "excess_15_18_bin_5.loc['2010':].plot(ax=ax,style='o--')\n",
    "excess_15_18_bin_10.loc['2010':].plot(ax=ax,style='o--')\n",
    "excess_15_18_bin_scb_prel.loc['2010':].plot(ax=ax,style='o--')\n",
    "\n",
    "plt.ylabel('Excess Deaths')\n",
    "plt.axhline(0,ls='dashed',color='k')\n",
    "plt.yticks(range(-6500,7000,500))\n",
    "plt.legend(['bin_1','bin_5','bin_10','-64,79,89,90+'])\n",
    "plt.savefig('SCB_FINAL_excess_deaths_4_bins.jpg',format='jpg')"
   ]
  },
  {
   "cell_type": "code",
   "execution_count": null,
   "metadata": {},
   "outputs": [],
   "source": [
    "one_bin_mort = (dead_df.groupby(['year','bin_1'])['count'].sum() / pop_df.groupby(['year','bin_1'])['count'].sum()).dropna()\n",
    "one_bin_growth = one_bin_mort / baseline(bin='bin_1')\n",
    "one_bin_growth.loc['2020'].plot(kind='bar',figsize=(18,12),color='r')\n",
    "plt.axhline(1,ls='dashed',color='k')\n",
    "plt.yticks(np.arange(0,1.7,0.05))\n",
    "one_bin_growth.loc['2020']"
   ]
  },
  {
   "cell_type": "code",
   "execution_count": null,
   "metadata": {},
   "outputs": [],
   "source": [
    "title='SWEDEN 2020 deaths per age group\\nDataSource : scb.se'\n",
    "ax = (dead_df.groupby(['year','bin_1']).sum()).loc['2020'].plot(kind='bar',figsize=(18,12),label='deaths',\n",
    "                                                           color='r',title=title,alpha=0.7)\n",
    "\n",
    "(dead_df.groupby(['year','bin_1']).sum().loc['2015' : '2018']).groupby(\n",
    "    'bin_1').mean().plot(ax=ax,kind='bar',color='g',alpha=0.5)\n",
    "\n",
    "plt.legend(['deaths 2020','deaths 2015-2018'],loc='upper left')\n",
    "plt.ylabel('nr of deaths')\n",
    "plt.xlabel('age group')\n",
    "\n",
    "plt.savefig('SCB_FINAL_2020_deaths_per_age_grp.jpg',format='jpg')"
   ]
  },
  {
   "cell_type": "code",
   "execution_count": null,
   "metadata": {},
   "outputs": [],
   "source": [
    "(dead_df.groupby(['year','bin_1']).sum().loc['2015' : '2018']).groupby('bin_1').mean()\n"
   ]
  },
  {
   "cell_type": "code",
   "execution_count": null,
   "metadata": {},
   "outputs": [],
   "source": [
    "(dead_df.groupby(['year','bin_1']).sum()).loc['2020'].head(40)"
   ]
  },
  {
   "cell_type": "code",
   "execution_count": null,
   "metadata": {},
   "outputs": [],
   "source": [
    "growth_old = one_bin_growth.loc['2020'].loc[60:].sort_values()\n",
    "growth_old"
   ]
  },
  {
   "cell_type": "code",
   "execution_count": null,
   "metadata": {},
   "outputs": [],
   "source": [
    "growth_old.plot(style='o',kind='bar',figsize=(18,12))"
   ]
  },
  {
   "cell_type": "code",
   "execution_count": null,
   "metadata": {},
   "outputs": [],
   "source": [
    "pop_df"
   ]
  },
  {
   "cell_type": "code",
   "execution_count": null,
   "metadata": {},
   "outputs": [],
   "source": [
    "### PARAM ###\n",
    "bin = 'bin_1'\n",
    "\n",
    "def std_pop_f(bin='bin_1'):\n",
    "    std_pop = pop_df.groupby(['year',bin])['count'].sum()\n",
    "    return (std_pop.loc['2019'])\n",
    "\n",
    "std_pop = std_pop_f(bin)\n",
    "std_pop"
   ]
  },
  {
   "cell_type": "code",
   "execution_count": null,
   "metadata": {},
   "outputs": [],
   "source": [
    "def age_adj_mortality(bin='bin_1'):\n",
    "    binned_mortality = (dead_df.groupby(['year',bin])['count'].sum() / pop_df.groupby(['year',bin])['count'].sum()).dropna()\n",
    "    return binned_mortality"
   ]
  },
  {
   "cell_type": "code",
   "execution_count": null,
   "metadata": {},
   "outputs": [],
   "source": [
    "bin_mortality = age_adj_mortality(bin)\n",
    "std_deaths = bin_mortality.unstack() * std_pop\n",
    "std_deaths"
   ]
  },
  {
   "cell_type": "code",
   "execution_count": null,
   "metadata": {},
   "outputs": [],
   "source": [
    "age_adj_mortality = std_deaths.sum(axis=1) / std_pop.sum()\n",
    "age_adj_mortality"
   ]
  },
  {
   "cell_type": "code",
   "execution_count": null,
   "metadata": {},
   "outputs": [],
   "source": [
    "title='SWEDEN Age Adjusted Mortality [std. year 2019]\\nDataSource : scb.se'\n",
    "age_adj_mortality.plot(kind='bar',figsize=(18,12),color='r',title=title)\n",
    "plt.ylabel('Mortality')\n",
    "_= plt.yticks(np.arange(0,0.012,0.0005))\n",
    "\n",
    "plt.savefig('SCB_FINAL_age_adj_mort.jpg',format='jpg')"
   ]
  },
  {
   "cell_type": "code",
   "execution_count": null,
   "metadata": {},
   "outputs": [],
   "source": [
    "mort_1 = binned_mort('bin_1')\n",
    "mort_5 = binned_mort('bin_5')\n",
    "mort_10 = binned_mort('bin_10')\n",
    "mort_prel = binned_mort('scb_prel_bin')\n",
    "\n",
    "ax = mort_1.loc['2020'].plot(figsize=(18,12),style='o--')\n",
    "mort_5.loc['2020'].plot(ax=ax)\n",
    "mort_10.loc['2020'].plot(ax=ax,style='x--')\n",
    "mort_prel.loc['2020'].plot(ax=ax,style='.--')\n",
    "mort_10.loc['2020']"
   ]
  },
  {
   "cell_type": "code",
   "execution_count": null,
   "metadata": {},
   "outputs": [],
   "source": [
    "mort_1_baseline = mort_1.unstack().loc['2015' : '2018'].mean()\n",
    "mort_5_baseline = mort_5.unstack().loc['2015' : '2018'].mean()\n",
    "mort_1_baseline"
   ]
  },
  {
   "cell_type": "code",
   "execution_count": null,
   "metadata": {},
   "outputs": [],
   "source": [
    "ax = mort_1_baseline.plot(figsize=(18,12),style='ko--',label='baseline')\n",
    "mort_1.loc['2019'].plot(ax=ax,style='go--',label='2019')\n",
    "mort_1.loc['2020'].plot(ax=ax,style='ro--',label='2020')\n",
    "plt.legend(loc='upper left')"
   ]
  },
  {
   "cell_type": "code",
   "execution_count": null,
   "metadata": {},
   "outputs": [],
   "source": [
    "mort_1_change = mort_1.loc['2020'] / mort_1.loc['2019']\n",
    "mort_1_change"
   ]
  },
  {
   "cell_type": "code",
   "execution_count": null,
   "metadata": {},
   "outputs": [],
   "source": [
    "mort_1_change.plot(figsize=(18,12),style='o--')"
   ]
  },
  {
   "cell_type": "code",
   "execution_count": null,
   "metadata": {},
   "outputs": [],
   "source": [
    "mort_5_2020_vs_base = mort_5.loc['2020'] / mort_5_baseline\n",
    "mort_5_2019_vs_base = mort_5.loc['2019'] / mort_5_baseline"
   ]
  },
  {
   "cell_type": "code",
   "execution_count": null,
   "metadata": {},
   "outputs": [],
   "source": [
    "title = 'SWEDEN age group mortality growth : 2019 & 2020 vs baseline 2015-2018\\nDataSource : SCB.se'\n",
    "ax = mort_5_2020_vs_base.plot(figsize=(18,12),style='ro--',label='2020',title=title)\n",
    "mort_5_2019_vs_base.plot(style='go--',label='2019')\n",
    "plt.axhline(1,ls='dashed',color='k',label='baseline')\n",
    "plt.xlabel('age group')\n",
    "plt.ylabel('growth factor')\n",
    "plt.yticks(np.arange(0.65,1.12,0.025))\n",
    "plt.xticks(range(0,105,5))\n",
    "plt.legend(loc='upper right')\n",
    "plt.savefig('SCB_FINAL_age_grp_mort_growth.jpg',format='jpg')"
   ]
  },
  {
   "cell_type": "code",
   "execution_count": null,
   "metadata": {},
   "outputs": [],
   "source": []
  },
  {
   "cell_type": "code",
   "execution_count": null,
   "metadata": {},
   "outputs": [],
   "source": [
    "(dead_df.groupby(['year','bin_5']).sum()['count']).loc['2020']"
   ]
  },
  {
   "cell_type": "code",
   "execution_count": null,
   "metadata": {},
   "outputs": [],
   "source": [
    "pop_5_flat = pop_df.groupby(['year','bin_5'])['count'].sum().unstack()\n",
    "pop_5_flat"
   ]
  },
  {
   "cell_type": "code",
   "execution_count": null,
   "metadata": {},
   "outputs": [],
   "source": [
    "dead_5_flat = dead_df.groupby(['year','bin_5'])['count'].sum().unstack()\n",
    "dead_5_flat\n"
   ]
  },
  {
   "cell_type": "code",
   "execution_count": null,
   "metadata": {},
   "outputs": [],
   "source": [
    "title = 'SWEDEN Expected vs Actual Deaths per age group, 2019 & 2020\\nDataSource : scb.se'\n",
    "\n",
    "expected_5 = pop_5_flat * mort_5_baseline\n",
    "\n",
    "ax = expected_5.loc['2020'].plot(figsize=(18,12),style='r--',label='2020 expected deaths',title=title)\n",
    "expected_5.loc['2019'].plot(ax=ax,style='g--',label='2019 expected deaths')\n",
    "\n",
    "dead_5_flat.loc['2020'].plot(ax=ax,style='rx',label='2020 actual deaths')\n",
    "dead_5_flat.loc['2019'].plot(ax=ax,style='gx',label='2019 actual deaths')\n",
    "\n",
    "plt.xticks(range(len(expected_5.loc['2020'])),range(0,105,5))\n",
    "plt.yticks(range(0,19000,1000))\n",
    "plt.xlabel('age_grp')\n",
    "plt.ylabel('number of deaths')\n",
    "plt.legend(loc='upper left')\n",
    "plt.savefig('SCB_FINAL_expected_vs_actual_deaths.jpg',format='jpg')"
   ]
  },
  {
   "cell_type": "code",
   "execution_count": null,
   "metadata": {},
   "outputs": [],
   "source": [
    "\n",
    "ax = expected_5.loc['2020',60:].plot(figsize=(18,12),style='r--',label='2020 expected deaths',title=title)\n",
    "expected_5.loc['2019',60:].plot(ax=ax,style='g--',label='2019 expected deaths')\n",
    "\n",
    "dead_5_flat.loc['2020',60:].plot(ax=ax,style='rx',label='2020 actual deaths')\n",
    "dead_5_flat.loc['2019',60:].plot(ax=ax,style='gx',label='2019 actual deaths')"
   ]
  },
  {
   "cell_type": "code",
   "execution_count": null,
   "metadata": {},
   "outputs": [],
   "source": [
    "mort_5.loc['2020'].plot(figsize=(18,12))"
   ]
  },
  {
   "cell_type": "code",
   "execution_count": null,
   "metadata": {},
   "outputs": [],
   "source": [
    "title = 'SWEDEN deaths per age group 2019 & 2020\\nDataSource : scb.se'\n",
    "(dead_df.groupby(['year','bin_5'])['count'].sum()).loc['2019' : '2020'].unstack().T.plot(kind='bar',title=title,\n",
    "                                                                                        figsize=(18,12))\n",
    "\n",
    "plt.ylabel('nr deaths')\n",
    "plt.xlabel('age group')\n",
    "\n",
    "plt.savefig('SCB_FINAL_nr_deaths_age_grp_2019_2020.jpg',format='jpg')"
   ]
  },
  {
   "cell_type": "code",
   "execution_count": null,
   "metadata": {},
   "outputs": [],
   "source": [
    "title = 'SWEDEN population per age grp 2019 & 2020\\nDataSource : scb.se'\n",
    "(pop_df.groupby(['year','bin_5'])['count'].sum()).loc['2019' : '2020'].unstack().T.plot(kind='bar',title=title,\n",
    "                                                                                        figsize=(18,12))\n"
   ]
  },
  {
   "cell_type": "code",
   "execution_count": null,
   "metadata": {},
   "outputs": [],
   "source": [
    "mort_5_cmp = mort_5.loc['2019' : '2020'].unstack().T\n",
    "mort_5_cmp['baseline_2015_2018'] = mort_5_baseline\n",
    "\n",
    "title = 'SWEDEN Age Grp Mortality 2019 & 2020 vs baseline 2015-2018\\nDataSource : scb.se'\n",
    "\n",
    "mort_5_cmp.plot(figsize=(18,12),kind='bar',color=['g','r','k'],title=title)\n",
    "plt.ylabel('mortality')\n",
    "plt.xlabel('age group')\n",
    "plt.yticks(np.arange(0,0.5,0.05))\n",
    "plt.savefig('SCB_FINAL_2020_age_grp_mort_cmp.jpg',format='jpg')\n",
    "\n",
    "mort_5_cmp['over_base_20'] = mort_5_cmp['2020'] > mort_5_cmp['baseline_2015_2018']\n",
    "mort_5_cmp['under_base_19'] = mort_5_cmp['2019'] < mort_5_cmp['baseline_2015_2018']\n",
    "mort_5_cmp"
   ]
  },
  {
   "cell_type": "code",
   "execution_count": null,
   "metadata": {},
   "outputs": [],
   "source": [
    "mort_5_cmp.plot(figsize=(18,12),kind='bar',color=['g','r','k'],title=title)\n",
    "plt.yscale('log')\n",
    "plt.ylabel('mortality [log scale]')\n",
    "plt.xlabel('age group')\n",
    "plt.savefig('SCB_FINAL_2020_age_grp_mort_cmp_log.jpg',format='jpg')\n"
   ]
  },
  {
   "cell_type": "code",
   "execution_count": null,
   "metadata": {},
   "outputs": [],
   "source": [
    "mort_5_cmp"
   ]
  },
  {
   "cell_type": "code",
   "execution_count": null,
   "metadata": {},
   "outputs": [],
   "source": [
    "expected_5.sum(axis=1)"
   ]
  },
  {
   "cell_type": "code",
   "execution_count": null,
   "metadata": {},
   "outputs": [],
   "source": [
    "bin_5_dead_sums = binned_5_dead.unstack().sum(axis=1)\n",
    "bin_5_dead_sums"
   ]
  },
  {
   "cell_type": "code",
   "execution_count": null,
   "metadata": {},
   "outputs": [],
   "source": [
    "totals_expected_actuals = pd.concat([expected_5.sum(axis=1),bin_5_dead_sums],axis=1)\n",
    "totals_expected_actuals.columns=['Expected_Deaths','Actual_Deaths']\n",
    "totals_expected_actuals['excess'] = totals_expected_actuals['Actual_Deaths'] - totals_expected_actuals['Expected_Deaths']\n",
    "totals_expected_actuals.dropna(inplace=True)\n",
    "totals_expected_actuals"
   ]
  },
  {
   "cell_type": "code",
   "execution_count": null,
   "metadata": {},
   "outputs": [],
   "source": [
    "title='SWEDEN Excess Deaths (calculated on age group mortality baseline 2015-2018)\\nDataSource : scb.se'\n",
    "totals_expected_actuals.plot(kind='bar',figsize=(18,12),y='excess',color='r',title=title)\n",
    "plt.ylabel('Excess Deaths')\n",
    "plt.xlabel('year')\n",
    "plt.savefig('SCB_FINAL_excess_deaths_bar.jpg',format='jpg')"
   ]
  },
  {
   "cell_type": "code",
   "execution_count": null,
   "metadata": {},
   "outputs": [],
   "source": [
    "totals_expected_actuals.plot(y='Expected_Deaths')"
   ]
  },
  {
   "cell_type": "code",
   "execution_count": null,
   "metadata": {},
   "outputs": [],
   "source": [
    "import scipy.stats as sps\n",
    "\n",
    "### linear regression for expected deaths 2002 - 2018 ###\n",
    "x = totals_expected_actuals.index.values[:-2].astype(int)\n",
    "y = totals_expected_actuals['Expected_Deaths'][:-2]\n",
    "print (y)\n",
    "\n",
    "slope,intercept,_,_,_ = sps.linregress(x,\n",
    "                                       y)\n",
    "\n",
    "print (slope,intercept)"
   ]
  },
  {
   "cell_type": "code",
   "execution_count": null,
   "metadata": {},
   "outputs": [],
   "source": [
    "plt.plot(range(2002,2021),totals_expected_actuals['Actual_Deaths'],'o--')\n",
    "X = range(2002,2021)\n",
    "plt.plot(X,X*slope + intercept,'x--')"
   ]
  },
  {
   "cell_type": "code",
   "execution_count": null,
   "metadata": {},
   "outputs": [],
   "source": [
    "reg_expectation = X * slope + intercept\n",
    "\n",
    "### excess deaths from linear regression ###\n",
    "reg_excess = totals_expected_actuals['Actual_Deaths'] - reg_expectation\n",
    "reg_excess"
   ]
  },
  {
   "cell_type": "code",
   "execution_count": null,
   "metadata": {},
   "outputs": [],
   "source": [
    "title = 'SWEDEN Excess Deaths calculated by linear regression model 2002-2018\\nDataSource : scb.se'\n",
    "reg_excess.plot(kind='bar',figsize=(18,12),color='r',title=title)\n",
    "plt.ylabel('Excess Deaths')\n",
    "plt.xlabel('year')\n",
    "plt.savefig('SCB_FINAL_excess_bar_linreq.jpg',format='jpg')"
   ]
  },
  {
   "cell_type": "code",
   "execution_count": null,
   "metadata": {},
   "outputs": [],
   "source": [
    "mort_5_flat = mort_5.unstack()\n",
    "mort_5_flat"
   ]
  },
  {
   "cell_type": "code",
   "execution_count": null,
   "metadata": {},
   "outputs": [],
   "source": [
    "start_year = 2015\n",
    "end_year = 2018\n"
   ]
  },
  {
   "cell_type": "code",
   "execution_count": null,
   "metadata": {
    "scrolled": false
   },
   "outputs": [],
   "source": [
    "\n",
    "\n",
    "def age_grp_slope_intercept(s):\n",
    "\n",
    "    return sps.linregress(np.arange(start_year,end_year + 1),s.loc[str(start_year) : str(end_year):])[:2]\n",
    "\n",
    "slope_intercept = mort_5_flat.apply(age_grp_slope_intercept)\n",
    "slope_intercept = slope_intercept.T\n",
    "slope_intercept.columns = ['slope','intercept']\n",
    "slope_intercept"
   ]
  },
  {
   "cell_type": "code",
   "execution_count": null,
   "metadata": {
    "scrolled": false
   },
   "outputs": [],
   "source": [
    "X = np.arange(2002,2021)\n",
    "age_reg_mort = pd.DataFrame([X[i] * slope_intercept['slope'] + slope_intercept['intercept'] for i in range(len(X))])\n",
    "age_reg_mort.index = np.arange(2002,2021).astype(str)\n",
    "age_reg_mort"
   ]
  },
  {
   "cell_type": "code",
   "execution_count": null,
   "metadata": {},
   "outputs": [],
   "source": [
    "age_reg_mort.plot(figsize=(18,12))\n"
   ]
  },
  {
   "cell_type": "code",
   "execution_count": null,
   "metadata": {},
   "outputs": [],
   "source": [
    "age_reg_mort_expectation = (pop_5_flat * age_reg_mort).sum(axis=1)\n",
    "age_reg_mort_expectation"
   ]
  },
  {
   "cell_type": "code",
   "execution_count": null,
   "metadata": {},
   "outputs": [],
   "source": [
    "age_reg_excess = (dead_5_flat.sum(axis=1) - age_reg_mort_expectation).dropna()\n",
    "age_reg_excess"
   ]
  },
  {
   "cell_type": "code",
   "execution_count": null,
   "metadata": {},
   "outputs": [],
   "source": [
    "age_reg_excess.plot(figsize=(18,12),kind='bar',color='r')"
   ]
  },
  {
   "cell_type": "code",
   "execution_count": null,
   "metadata": {},
   "outputs": [],
   "source": [
    "mortality\n"
   ]
  },
  {
   "cell_type": "code",
   "execution_count": null,
   "metadata": {},
   "outputs": [],
   "source": [
    "slope,intercept,_,_,_ = sps.linregress(mortality.loc[:'2018'].index.values.astype(int),\n",
    "                                       mortality['count'][:-2])\n",
    "\n",
    "X = np.arange(2002,2200)\n",
    "\n",
    "reg_mortality = X * slope + intercept\n",
    "plt.plot(X,reg_mortality)"
   ]
  }
 ],
 "metadata": {
  "kernelspec": {
   "display_name": "Python 3",
   "language": "python",
   "name": "python3"
  },
  "language_info": {
   "codemirror_mode": {
    "name": "ipython",
    "version": 3
   },
   "file_extension": ".py",
   "mimetype": "text/x-python",
   "name": "python",
   "nbconvert_exporter": "python",
   "pygments_lexer": "ipython3",
   "version": "3.8.6"
  }
 },
 "nbformat": 4,
 "nbformat_minor": 4
}
