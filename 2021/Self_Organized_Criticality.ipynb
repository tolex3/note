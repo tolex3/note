{
 "cells": [
  {
   "cell_type": "markdown",
   "metadata": {},
   "source": [
    "file:///home/tole/Downloads/Kron_Grund_Criticality.pdf\n",
    "https://www.researchgate.net/publication/263333872_Society_as_a_Self-Organized_Critical_System\n",
    "https://youtu.be/S83u_y3ZRYg\n",
    "\n",
    "\n",
    "* relative criticality defined as proportion cells >= SOC / total nr of cells \n",
    "\n",
    "* relative criticality does not necessarily decrease after an avalance, but if it has decreased, then it is\n",
    "* as a result of an avalance : an avalance is a necessary but not sufficient condition for decrease\n",
    "\n",
    "\n"
   ]
  },
  {
   "cell_type": "code",
   "execution_count": null,
   "metadata": {},
   "outputs": [],
   "source": [
    "import numpy as np\n",
    "import matplotlib.pyplot as plt\n",
    "import seaborn as sns\n",
    "import pandas as pd\n",
    "from graphics import *\n",
    "import time\n",
    "\n",
    "sns.set()"
   ]
  },
  {
   "cell_type": "code",
   "execution_count": null,
   "metadata": {
    "scrolled": false
   },
   "outputs": [],
   "source": [
    "GRID_SIDE = 49 ### use odd number for a well defined center int (N / 2)\n",
    "OUTER_GRID_SIDE = GRID_SIDE + 2 \n",
    "SOC = 3 # Self Organized Criticality - Critical Point #\n",
    "\n",
    "GRAPHICS = False\n",
    "DBG = False\n",
    "\n",
    "np.random.seed(100)\n",
    "\n",
    "full_grid = np.zeros((OUTER_GRID_SIDE,OUTER_GRID_SIDE)).reshape(OUTER_GRID_SIDE,-1).astype(int)\n",
    "\n",
    "full_grid[1:-1,1:-1]  = np.random.randint(0,SOC+1,GRID_SIDE ** 2).reshape(GRID_SIDE,-1).astype(int)\n",
    "#full_grid[1:-1,1:-1] = np.zeros((GRID_SIDE,GRID_SIDE))\n",
    "\n",
    "def add_grain(grid,r,c):\n",
    "    grid[r,c] += 1\n",
    "    return grid\n",
    "\n",
    "def inner_to_outer(r,c):\n",
    "    return (r+1,c+1)\n",
    "\n",
    "def reconfigure(full_grid,r,c):\n",
    "    r,c = inner_to_outer(r,c)\n",
    "    \n",
    "    ### diagonals ###\n",
    "    if full_grid[r,c] == 5:\n",
    "        full_grid[r-1,c-1] += 1\n",
    "    \n",
    "    if full_grid[r,c] == 6:\n",
    "        full_grid[r-1,c+1] += 1\n",
    "        \n",
    "    if full_grid[r,c] == 7:\n",
    "        full_grid[r+1,c-1] += 1\n",
    "        \n",
    "    if full_grid[r,c] == 8 :\n",
    "        full_grid[r+1,c+1] += 1\n",
    "        \n",
    "        \n",
    "    full_grid[r+1,c] += 1\n",
    "    full_grid[r-1,c] += 1\n",
    "    full_grid[r,c+1] += 1\n",
    "    full_grid[r,c-1] += 1\n",
    "\n",
    "    full_grid[r,c] = 0\n",
    "            \n",
    "    return full_grid\n",
    "    \n",
    "def get_inner_grid():\n",
    "    return full_grid[1:-1,1:-1]\n",
    "\n",
    "\n",
    "inner = get_inner_grid()\n",
    "\n",
    "#### GRAPHICS ####\n",
    "graphics_factor = 30 # N pixels is a graphical unit (side)\n",
    "\n",
    "if GRAPHICS:\n",
    "    win = GraphWin(r'Self Organized Criticality - The Sandpile Model',\n",
    "               GRID_SIDE * graphics_factor,GRID_SIDE * graphics_factor )\n",
    "\n",
    "square_side = graphics_factor * GRID_SIDE // GRID_SIDE\n",
    "\n",
    "colors = ['lightgrey','lightgreen','yellow','orange','red','crimson','darkred','navy','black']\n",
    "\n",
    "def create_grid():\n",
    "    rec_list = []\n",
    "    r_list = []\n",
    "    c_list = []\n",
    "    \n",
    "    for r in range(GRID_SIDE):\n",
    "        for c in range(GRID_SIDE):\n",
    "                \n",
    "            rr = c * graphics_factor\n",
    "            cc = r * graphics_factor\n",
    "\n",
    "            rec = Rectangle(Point(rr,cc),\n",
    "                Point((rr + square_side),(cc + square_side )))\n",
    "            \n",
    "            rec.setFill(colors[inner[r,c]])\n",
    "        \n",
    "            rec_list.append(rec)\n",
    "            r_list.append(r)\n",
    "            c_list.append(c)\n",
    "    \n",
    "    return rec_list,r_list,c_list\n",
    "\n",
    "def redraw_grid(rec_list,r_list,c_list):\n",
    "    \n",
    "    for i in range(len(rec_list)):\n",
    "        \n",
    "        rec_list[i].undraw()\n",
    "\n",
    "        rec_list[i].setFill(colors[ inner[ r_list[i],c_list[i] ] ])\n",
    "\n",
    "        rec_list[i].draw(win)\n",
    "\n",
    "\n",
    "rec_list,r_list,c_list = create_grid()\n",
    "\n",
    "def add_marker(r,c):\n",
    "    rr = c * graphics_factor + graphics_factor // 2\n",
    "    cc = r * graphics_factor + graphics_factor // 2\n",
    "    marker = Circle(Point(rr,cc),10)\n",
    "    marker.setFill('black')\n",
    "    marker.draw(win)\n",
    "    return marker\n",
    "\n",
    "#### GRAPHICS END ####\n",
    "\n",
    "\n",
    "print ('start : \\n',inner)\n",
    "print()\n",
    "\n",
    "ITERATIONS = int(1e6)\n",
    "\n",
    "saturation = GRID_SIDE ** 2 * SOC\n",
    "\n",
    "chain_reactions = np.zeros((ITERATIONS))\n",
    "nr_grains = np.zeros(ITERATIONS)\n",
    "rel_criticality = np.zeros(ITERATIONS)\n",
    "rel_saturation = np.zeros(ITERATIONS)\n",
    "max_pile = np.zeros(ITERATIONS)\n",
    "\n",
    "#max_criticality = inner.shape[0] * inner.shape[1] * SOC\n",
    "max_criticality = inner.shape[0] * inner.shape[1] # all cells >= SOC\n",
    "\n",
    "status_factor = ITERATIONS // 10 if GRAPHICS else ITERATIONS // 1000\n",
    "\n",
    "for i in range(ITERATIONS):\n",
    "    \n",
    "    #rel_criticality[i] = inner.sum() / max_criticality\n",
    "    rel_criticality[i] = (inner >= SOC).sum() / max_criticality\n",
    "    \n",
    "    if GRAPHICS:\n",
    "        redraw_grid(rec_list,r_list,c_list)\n",
    "        time.sleep(0.2)\n",
    "        \n",
    "    \n",
    "    if i % (ITERATIONS // status_factor) == 0:\n",
    "        print ('\\n+++ TIME : {} ITERATION : {} +++'.format(pd.Timestamp.now(),i))\n",
    "    \n",
    "    nr_grains[i] = get_inner_grid().sum()\n",
    "    rel_saturation[i] = nr_grains[i] / saturation\n",
    "    \n",
    "    #### drop new grains at random ####\n",
    "    #r0,c0 = np.random.randint(0,inner.shape[0],2)\n",
    "    #inner = add_grain(inner,r0,c0) \n",
    "    \n",
    "    #### drop new grains at center ####\n",
    "    r0,c0 = GRID_SIDE // 2, GRID_SIDE // 2\n",
    "    inner = add_grain(inner,GRID_SIDE // 2,GRID_SIDE // 2)\n",
    "    \n",
    "    if GRAPHICS:\n",
    "        marker = add_marker(r0,c0)\n",
    "        time.sleep(0.3)\n",
    "\n",
    "    critical = True\n",
    "\n",
    "    chain = 0\n",
    "    while critical:\n",
    "                \n",
    "        if GRAPHICS:\n",
    "            redraw_grid(rec_list,r_list,c_list)\n",
    "            time.sleep(0.2)\n",
    "        \n",
    "       \n",
    "        for r in range(GRID_SIDE):\n",
    "            for c in range(GRID_SIDE):\n",
    "                \n",
    "                if inner[r,c] > SOC:  \n",
    "\n",
    "                    full_grid = reconfigure(full_grid,r,c)\n",
    "                    \n",
    "                    if GRAPHICS:\n",
    "                        redraw_grid(rec_list,r_list,c_list)\n",
    "                        time.sleep(0.1)\n",
    "                    \n",
    "                    inner = get_inner_grid()\n",
    "                    chain += 1\n",
    "                    \n",
    "                    if max_pile[i] < get_inner_grid().max():\n",
    "                        max_pile[i] = get_inner_grid().max()\n",
    "                    \n",
    "\n",
    "\n",
    "        critical = (inner > SOC).any()\n",
    "        \n",
    "    chain_reactions[i] = chain\n",
    "    \n",
    "    ###redraw_grid(rec_list,r_list,c_list)\n",
    "\n",
    "    if GRAPHICS:\n",
    "        marker.undraw()\n",
    "        del(marker)\n",
    "        \n",
    "    if DBG:\n",
    "        print ('\\n',inner,'\\n')\n",
    "    \n",
    "    #win.getMouse()\n",
    "\n",
    "print (chain_reactions)\n",
    "print ()\n",
    "print (nr_grains)\n",
    "print()\n",
    "print (rel_criticality)\n",
    "print()\n",
    "print (max_pile)\n",
    "print()\n",
    "print (max_pile.max(),max_pile.argmax())\n",
    "print ()\n",
    "\n"
   ]
  },
  {
   "cell_type": "code",
   "execution_count": null,
   "metadata": {},
   "outputs": [],
   "source": [
    "(inner >= SOC).sum()\n",
    "inner.shape[0] * inner.shape[1]"
   ]
  },
  {
   "cell_type": "code",
   "execution_count": null,
   "metadata": {},
   "outputs": [],
   "source": [
    "rel_criticality = pd.Series(rel_criticality)\n",
    "rel_criticality.plot(figsize=(18,12),style='o--')"
   ]
  },
  {
   "cell_type": "code",
   "execution_count": null,
   "metadata": {},
   "outputs": [],
   "source": [
    "plt.scatter(nr_grains,chain_reactions)"
   ]
  },
  {
   "cell_type": "code",
   "execution_count": null,
   "metadata": {
    "scrolled": false
   },
   "outputs": [],
   "source": [
    "plt.plot(np.log(nr_grains),np.log(chain_reactions))\n"
   ]
  },
  {
   "cell_type": "code",
   "execution_count": null,
   "metadata": {},
   "outputs": [],
   "source": [
    "plt.hist(chain_reactions)\n",
    "plt.yscale('log')\n",
    "plt.xscale('log')"
   ]
  },
  {
   "cell_type": "code",
   "execution_count": null,
   "metadata": {},
   "outputs": [],
   "source": [
    "chain_reactions = pd.Series(chain_reactions)\n",
    "\n",
    "freq = chain_reactions.value_counts().sort_index()\n",
    "freq = freq[1:] ### skip events of 0 chain\n",
    "print (freq)\n",
    "freq.plot(logx=True,logy=True,figsize=(18,12),style='o')\n",
    "plt.xlabel('Avalance Chain Reaction Length')\n",
    "plt.ylabel('Number of events')"
   ]
  },
  {
   "cell_type": "code",
   "execution_count": null,
   "metadata": {},
   "outputs": [],
   "source": [
    "freq = pd.DataFrame([freq.index.values,freq]).T\n",
    "freq.columns=['chain_len','count']\n",
    "\n",
    "#### max chain length ####\n",
    "_max = freq['chain_len'].max()\n",
    "\n",
    "#### \n",
    "digits_in_max = len( str(int(_max)))\n",
    "factor = 10 ** (digits_in_max - 1)\n",
    "uprounded_max = ((_max / factor).astype(int) + 1) * factor\n",
    "\n",
    "bin_width = factor // 100 if factor >= 1000 else 10\n",
    "\n",
    "freq['bin'] = pd.cut(freq['chain_len'],\n",
    "                     range(-bin_width,uprounded_max + bin_width,bin_width),\n",
    "                     labels=range(0,uprounded_max + bin_width,bin_width))\n",
    "\n",
    "freq['p'] = freq['count'] / freq['count'].sum()\n",
    "freq"
   ]
  },
  {
   "cell_type": "code",
   "execution_count": null,
   "metadata": {},
   "outputs": [],
   "source": [
    "freq.plot(y='p',logx=True,logy=True)"
   ]
  },
  {
   "cell_type": "code",
   "execution_count": null,
   "metadata": {},
   "outputs": [],
   "source": [
    "freq.groupby('bin')['p'].sum().plot(logx=True,logy=True)"
   ]
  },
  {
   "cell_type": "code",
   "execution_count": null,
   "metadata": {},
   "outputs": [],
   "source": [
    "freq['bin'] = freq['bin'].astype(int)\n",
    "freq['count_log'] = np.log(freq['count'])\n",
    "freq['bin_log'] = np.log(freq['bin'])\n",
    "freq"
   ]
  },
  {
   "cell_type": "code",
   "execution_count": null,
   "metadata": {},
   "outputs": [],
   "source": [
    "bin_counts = freq.groupby('bin')['count'].sum()\n",
    "bin_counts.plot(style='o--')"
   ]
  },
  {
   "cell_type": "code",
   "execution_count": null,
   "metadata": {},
   "outputs": [],
   "source": [
    "bin_counts.plot(style='o--',logx=True,logy=True,figsize=(18,12))"
   ]
  },
  {
   "cell_type": "code",
   "execution_count": null,
   "metadata": {},
   "outputs": [],
   "source": [
    "freq.sum()"
   ]
  },
  {
   "cell_type": "code",
   "execution_count": null,
   "metadata": {},
   "outputs": [],
   "source": [
    "freq.describe()"
   ]
  },
  {
   "cell_type": "code",
   "execution_count": null,
   "metadata": {},
   "outputs": [],
   "source": [
    "chain_reactions.plot(figsize=(18,12),style='o--')"
   ]
  },
  {
   "cell_type": "code",
   "execution_count": null,
   "metadata": {},
   "outputs": [],
   "source": [
    "chain_reactions[4000:4200].plot()"
   ]
  },
  {
   "cell_type": "code",
   "execution_count": null,
   "metadata": {},
   "outputs": [],
   "source": [
    "# https://realpython.com/python-scipy-fft/ #\n",
    "# https://www.softdb.com/what-is-white-noise/ #\n",
    "\n",
    "from scipy.fft import rfft,rfftfreq,irfft\n",
    "\n",
    "sample_rate = 1000 # unit of \"time\" == N : \n",
    "\n",
    "signal = chain_reactions\n",
    "signal = signal - signal.mean()\n",
    "signal = signal.values\n",
    "\n",
    "yf = rfft(signal) \n",
    "yf = yf / yf.max()\n",
    "\n",
    "xf = rfftfreq(len(signal),1 / sample_rate)\n"
   ]
  },
  {
   "cell_type": "code",
   "execution_count": null,
   "metadata": {},
   "outputs": [],
   "source": [
    "yf"
   ]
  },
  {
   "cell_type": "code",
   "execution_count": null,
   "metadata": {},
   "outputs": [],
   "source": [
    "plt.plot(xf,np.abs(yf))\n",
    "plt.yscale('log')\n",
    "plt.xscale('log')"
   ]
  },
  {
   "cell_type": "code",
   "execution_count": null,
   "metadata": {},
   "outputs": [],
   "source": [
    "signal = rel_criticality\n",
    "signal = signal - signal.mean()\n",
    "signal = signal.values\n",
    "\n",
    "yf = rfft(signal) \n",
    "\n",
    "\n",
    "xf = rfftfreq(len(signal),1 / sample_rate)"
   ]
  },
  {
   "cell_type": "code",
   "execution_count": null,
   "metadata": {},
   "outputs": [],
   "source": [
    "### PINK Noise ###\n",
    "\n",
    "plt.plot(xf,np.abs(yf))\n",
    "plt.yscale('log')\n",
    "plt.xscale('log')"
   ]
  },
  {
   "cell_type": "code",
   "execution_count": null,
   "metadata": {},
   "outputs": [],
   "source": [
    "rel_saturation = pd.Series(rel_saturation)\n"
   ]
  },
  {
   "cell_type": "code",
   "execution_count": null,
   "metadata": {},
   "outputs": [],
   "source": [
    "signal = rel_saturation.values\n",
    "signal = signal - signal.mean()\n",
    "signal = signal\n",
    "\n",
    "yf = rfft(signal) \n",
    "yf = yf / yf.max()\n",
    "\n",
    "xf = rfftfreq(len(signal),1 / sample_rate)"
   ]
  },
  {
   "cell_type": "code",
   "execution_count": null,
   "metadata": {},
   "outputs": [],
   "source": [
    "plt.plot(xf,np.abs(yf))\n",
    "plt.yscale('log')\n",
    "plt.xscale('log')"
   ]
  },
  {
   "cell_type": "code",
   "execution_count": null,
   "metadata": {},
   "outputs": [],
   "source": [
    "if GRAPHICS:\n",
    "    win.getMouse()\n",
    "    win.close()\n",
    "\n"
   ]
  },
  {
   "cell_type": "code",
   "execution_count": null,
   "metadata": {},
   "outputs": [],
   "source": [
    "fig,ax = plt.subplots(figsize=(18,12))\n",
    "\n",
    "plt.title('Self Organized Criticality - Sandpile model')\n",
    "ax.plot(chain_reactions,'o--',color='r',label='chain reaction')\n",
    "\n",
    "ax2 = ax.twinx()\n",
    "ax2.plot(rel_criticality,'o--',color='g',label='relative system criticality')\n",
    "\n",
    "ax.set_ylabel('chain reaction length')\n",
    "ax2.set_ylabel('system relative criticality level')\n",
    "\n",
    "ax.legend(loc='upper left')\n",
    "ax2.legend(loc='upper right')\n",
    "\n",
    "ax.set_xlabel('Iteration')\n",
    "\n",
    "plt.savefig('SOC_rel_criticality.jpg',format='jpg')"
   ]
  },
  {
   "cell_type": "code",
   "execution_count": null,
   "metadata": {
    "scrolled": false
   },
   "outputs": [],
   "source": [
    "start = 5400\n",
    "stop = 5500\n",
    "\n",
    "plt.figure(figsize=(18,12))\n",
    "\n",
    "ax = plt.gca()\n",
    "\n",
    "ax.plot(chain_reactions[start : stop+1],'o--',color='r')\n",
    "\n",
    "ax2 = plt.twinx()\n",
    "\n",
    "ax2.plot(rel_criticality[start : stop+1],'o--',color='g')\n",
    "\n",
    "step = 1\n",
    "_= ax.set_xticks(range(start,stop+1,step))\n",
    "_= ax.set_xticklabels(range(start,stop+1,step),rotation=90)\n",
    "\n",
    "\n",
    "for label in ax.xaxis.get_ticklabels()[::2]:\n",
    "    label.set_visible(False)\n",
    "    \n",
    "ax2.grid(None)"
   ]
  },
  {
   "cell_type": "code",
   "execution_count": null,
   "metadata": {},
   "outputs": [],
   "source": [
    "rel_criticality = np.round(rel_criticality,2)\n",
    "rel_criticality"
   ]
  },
  {
   "cell_type": "code",
   "execution_count": null,
   "metadata": {},
   "outputs": [],
   "source": [
    "rel_criticality.max()"
   ]
  },
  {
   "cell_type": "code",
   "execution_count": null,
   "metadata": {},
   "outputs": [],
   "source": [
    "\n",
    "\n",
    "rel_crit_binned = pd.cut(rel_criticality,np.arange(rel_criticality.min(),rel_criticality.max() + 0.01,0.01),\n",
    "                         labels=np.arange(rel_criticality.min(),rel_criticality.max(),0.01))\n",
    "\n",
    "rel_crit_binned = rel_crit_binned.astype(float)\n",
    "\n",
    "rel_crit_binned.value_counts().sort_index().plot(figsize=(18,12),style='o--')\n",
    "\n",
    "plt.ylabel('count')\n",
    "plt.xlabel('system relative criticality')"
   ]
  },
  {
   "cell_type": "code",
   "execution_count": null,
   "metadata": {},
   "outputs": [],
   "source": [
    "plt.scatter(nr_grains,rel_criticality)"
   ]
  },
  {
   "cell_type": "code",
   "execution_count": null,
   "metadata": {},
   "outputs": [],
   "source": [
    "rel_saturation.plot()"
   ]
  },
  {
   "cell_type": "code",
   "execution_count": null,
   "metadata": {},
   "outputs": [],
   "source": [
    "plt.plot(rel_saturation)\n",
    "plt.plot(rel_criticality)"
   ]
  },
  {
   "cell_type": "code",
   "execution_count": null,
   "metadata": {},
   "outputs": [],
   "source": [
    "plt.plot(nr_grains,rel_saturation)"
   ]
  },
  {
   "cell_type": "code",
   "execution_count": null,
   "metadata": {},
   "outputs": [],
   "source": [
    "plt.figure(figsize=(18,12))\n",
    "plt.plot(nr_grains,rel_criticality)"
   ]
  },
  {
   "cell_type": "code",
   "execution_count": null,
   "metadata": {},
   "outputs": [],
   "source": [
    "plt.plot(rel_saturation,rel_criticality)"
   ]
  },
  {
   "cell_type": "code",
   "execution_count": null,
   "metadata": {},
   "outputs": [],
   "source": [
    "plt.plot(rel_saturation,chain_reactions)"
   ]
  },
  {
   "cell_type": "code",
   "execution_count": null,
   "metadata": {
    "scrolled": false
   },
   "outputs": [],
   "source": [
    "plt.plot(np.log(rel_saturation),np.log(chain_reactions))\n"
   ]
  },
  {
   "cell_type": "code",
   "execution_count": null,
   "metadata": {},
   "outputs": [],
   "source": [
    "summary_data = pd.concat([chain_reactions,rel_criticality,rel_saturation],axis=1)\n",
    "summary_data.columns = ['chain_reactions','rel_criticality','rel_saturation']\n",
    "summary_data = summary_data.sort_values('chain_reactions',ascending=False)\n",
    "summary_data"
   ]
  },
  {
   "cell_type": "code",
   "execution_count": null,
   "metadata": {},
   "outputs": [],
   "source": [
    "plt.plot(nr_grains[:100000])\n",
    "# about 10000 iterations onwards, the number of grains is stable #"
   ]
  },
  {
   "cell_type": "code",
   "execution_count": null,
   "metadata": {},
   "outputs": [],
   "source": [
    "# after \"steady state\" reached, the number of grains seems to be normally distributed\n",
    "_=plt.hist(nr_grains[20000:],bins=20)"
   ]
  },
  {
   "cell_type": "code",
   "execution_count": null,
   "metadata": {},
   "outputs": [],
   "source": [
    "# chain reactions are not normally dist, but a power law # \n",
    "_= plt.hist(chain_reactions[20000:],bins=100)\n",
    "plt.yscale('log')\n",
    "plt.xscale('log')"
   ]
  }
 ],
 "metadata": {
  "kernelspec": {
   "display_name": "Python 3",
   "language": "python",
   "name": "python3"
  },
  "language_info": {
   "codemirror_mode": {
    "name": "ipython",
    "version": 3
   },
   "file_extension": ".py",
   "mimetype": "text/x-python",
   "name": "python",
   "nbconvert_exporter": "python",
   "pygments_lexer": "ipython3",
   "version": "3.8.6"
  }
 },
 "nbformat": 4,
 "nbformat_minor": 4
}
