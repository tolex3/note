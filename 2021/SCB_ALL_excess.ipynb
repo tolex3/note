{
 "cells": [
  {
   "cell_type": "code",
   "execution_count": null,
   "metadata": {},
   "outputs": [],
   "source": [
    "import numpy as np\n",
    "import matplotlib.pyplot as plt\n",
    "import seaborn as sns\n",
    "import pandas as pd\n",
    "import requests\n",
    "\n",
    "sns.set()"
   ]
  },
  {
   "cell_type": "code",
   "execution_count": null,
   "metadata": {},
   "outputs": [],
   "source": [
    "dead_url = 'http://api.scb.se/OV0104/v1/doris/sv/ssd/START/BE/BE0101/BE0101I/DodaHandelseK'\n",
    "dead_query = {\n",
    "  \"query\": [\n",
    "    {\n",
    "      \"code\": \"Region\",\n",
    "      \"selection\": {\n",
    "        \"filter\": \"vs:RegionRiket99\",\n",
    "        \"values\": [\n",
    "          \"00\"\n",
    "        ]\n",
    "      }\n",
    "    },\n",
    "    {\n",
    "      \"code\": \"Alder\",\n",
    "      \"selection\": {\n",
    "        \"filter\": \"vs:Ålder1årA\",\n",
    "        \"values\": [\n",
    "          \"0\",\n",
    "          \"1\",\n",
    "          \"2\",\n",
    "          \"3\",\n",
    "          \"4\",\n",
    "          \"5\",\n",
    "          \"6\",\n",
    "          \"7\",\n",
    "          \"8\",\n",
    "          \"9\",\n",
    "          \"10\",\n",
    "          \"11\",\n",
    "          \"12\",\n",
    "          \"13\",\n",
    "          \"14\",\n",
    "          \"15\",\n",
    "          \"16\",\n",
    "          \"17\",\n",
    "          \"18\",\n",
    "          \"19\",\n",
    "          \"20\",\n",
    "          \"21\",\n",
    "          \"22\",\n",
    "          \"23\",\n",
    "          \"24\",\n",
    "          \"25\",\n",
    "          \"26\",\n",
    "          \"27\",\n",
    "          \"28\",\n",
    "          \"29\",\n",
    "          \"30\",\n",
    "          \"31\",\n",
    "          \"32\",\n",
    "          \"33\",\n",
    "          \"34\",\n",
    "          \"35\",\n",
    "          \"36\",\n",
    "          \"37\",\n",
    "          \"38\",\n",
    "          \"39\",\n",
    "          \"40\",\n",
    "          \"41\",\n",
    "          \"42\",\n",
    "          \"43\",\n",
    "          \"44\",\n",
    "          \"45\",\n",
    "          \"46\",\n",
    "          \"47\",\n",
    "          \"48\",\n",
    "          \"49\",\n",
    "          \"50\",\n",
    "          \"51\",\n",
    "          \"52\",\n",
    "          \"53\",\n",
    "          \"54\",\n",
    "          \"55\",\n",
    "          \"56\",\n",
    "          \"57\",\n",
    "          \"58\",\n",
    "          \"59\",\n",
    "          \"60\",\n",
    "          \"61\",\n",
    "          \"62\",\n",
    "          \"63\",\n",
    "          \"64\",\n",
    "          \"65\",\n",
    "          \"66\",\n",
    "          \"67\",\n",
    "          \"68\",\n",
    "          \"69\",\n",
    "          \"70\",\n",
    "          \"71\",\n",
    "          \"72\",\n",
    "          \"73\",\n",
    "          \"74\",\n",
    "          \"75\",\n",
    "          \"76\",\n",
    "          \"77\",\n",
    "          \"78\",\n",
    "          \"79\",\n",
    "          \"80\",\n",
    "          \"81\",\n",
    "          \"82\",\n",
    "          \"83\",\n",
    "          \"84\",\n",
    "          \"85\",\n",
    "          \"86\",\n",
    "          \"87\",\n",
    "          \"88\",\n",
    "          \"89\",\n",
    "          \"90\",\n",
    "          \"91\",\n",
    "          \"92\",\n",
    "          \"93\",\n",
    "          \"94\",\n",
    "          \"95\",\n",
    "          \"96\",\n",
    "          \"97\",\n",
    "          \"98\",\n",
    "          \"99\",\n",
    "          \"100+\"\n",
    "        ]\n",
    "      }\n",
    "    },\n",
    "    {\n",
    "      \"code\": \"Kon\",\n",
    "      \"selection\": {\n",
    "        \"filter\": \"item\",\n",
    "        \"values\": [\n",
    "          \"1\",\n",
    "          \"2\"\n",
    "        ]\n",
    "      }\n",
    "    }\n",
    "  ],\n",
    "  \"response\": {\n",
    "    \"format\": \"json\"\n",
    "  }\n",
    "}\n",
    "\n",
    "pop_url = 'http://api.scb.se/OV0104/v1/doris/sv/ssd/START/BE/BE0101/BE0101A/FolkmangdNov'\n",
    "pop_query = {\n",
    "  \"query\": [\n",
    "    {\n",
    "      \"code\": \"Region\",\n",
    "      \"selection\": {\n",
    "        \"filter\": \"vs:RegionRiket99\",\n",
    "        \"values\": [\n",
    "          \"00\"\n",
    "        ]\n",
    "      }\n",
    "    },\n",
    "    {\n",
    "      \"code\": \"Alder\",\n",
    "      \"selection\": {\n",
    "        \"filter\": \"vs:Ålder1årA\",\n",
    "        \"values\": [\n",
    "          \"0\",\n",
    "          \"1\",\n",
    "          \"2\",\n",
    "          \"3\",\n",
    "          \"4\",\n",
    "          \"5\",\n",
    "          \"6\",\n",
    "          \"7\",\n",
    "          \"8\",\n",
    "          \"9\",\n",
    "          \"10\",\n",
    "          \"11\",\n",
    "          \"12\",\n",
    "          \"13\",\n",
    "          \"14\",\n",
    "          \"15\",\n",
    "          \"16\",\n",
    "          \"17\",\n",
    "          \"18\",\n",
    "          \"19\",\n",
    "          \"20\",\n",
    "          \"21\",\n",
    "          \"22\",\n",
    "          \"23\",\n",
    "          \"24\",\n",
    "          \"25\",\n",
    "          \"26\",\n",
    "          \"27\",\n",
    "          \"28\",\n",
    "          \"29\",\n",
    "          \"30\",\n",
    "          \"31\",\n",
    "          \"32\",\n",
    "          \"33\",\n",
    "          \"34\",\n",
    "          \"35\",\n",
    "          \"36\",\n",
    "          \"37\",\n",
    "          \"38\",\n",
    "          \"39\",\n",
    "          \"40\",\n",
    "          \"41\",\n",
    "          \"42\",\n",
    "          \"43\",\n",
    "          \"44\",\n",
    "          \"45\",\n",
    "          \"46\",\n",
    "          \"47\",\n",
    "          \"48\",\n",
    "          \"49\",\n",
    "          \"50\",\n",
    "          \"51\",\n",
    "          \"52\",\n",
    "          \"53\",\n",
    "          \"54\",\n",
    "          \"55\",\n",
    "          \"56\",\n",
    "          \"57\",\n",
    "          \"58\",\n",
    "          \"59\",\n",
    "          \"60\",\n",
    "          \"61\",\n",
    "          \"62\",\n",
    "          \"63\",\n",
    "          \"64\",\n",
    "          \"65\",\n",
    "          \"66\",\n",
    "          \"67\",\n",
    "          \"68\",\n",
    "          \"69\",\n",
    "          \"70\",\n",
    "          \"71\",\n",
    "          \"72\",\n",
    "          \"73\",\n",
    "          \"74\",\n",
    "          \"75\",\n",
    "          \"76\",\n",
    "          \"77\",\n",
    "          \"78\",\n",
    "          \"79\",\n",
    "          \"80\",\n",
    "          \"81\",\n",
    "          \"82\",\n",
    "          \"83\",\n",
    "          \"84\",\n",
    "          \"85\",\n",
    "          \"86\",\n",
    "          \"87\",\n",
    "          \"88\",\n",
    "          \"89\",\n",
    "          \"90\",\n",
    "          \"91\",\n",
    "          \"92\",\n",
    "          \"93\",\n",
    "          \"94\",\n",
    "          \"95\",\n",
    "          \"96\",\n",
    "          \"97\",\n",
    "          \"98\",\n",
    "          \"99\",\n",
    "          \"100+\"\n",
    "        ]\n",
    "      }\n",
    "    },\n",
    "    {\n",
    "      \"code\": \"Kon\",\n",
    "      \"selection\": {\n",
    "        \"filter\": \"item\",\n",
    "        \"values\": [\n",
    "          \"1\",\n",
    "          \"2\"\n",
    "        ]\n",
    "      }\n",
    "    }\n",
    "  ],\n",
    "  \"response\": {\n",
    "    \"format\": \"json\"\n",
    "  }\n",
    "}"
   ]
  },
  {
   "cell_type": "code",
   "execution_count": null,
   "metadata": {},
   "outputs": [],
   "source": [
    "def get_data(url,query):\n",
    "    r = requests.post(url,json=query)\n",
    "    \n",
    "    if r.status_code != 200 :\n",
    "        print (r.status_code)\n",
    "    \n",
    "    data = pd.DataFrame.from_dict(r.json()['data'])\n",
    "    data[['area','age','gender','year']] = data['key'].to_list()\n",
    "    data['count'] = data['values'].apply(lambda x : x[0])\n",
    "    data['age'] = data['age'].apply(lambda x : x.replace('+','')).astype(int)\n",
    "    data.drop(['values','key','area'],axis=1,inplace=True)\n",
    "    data.set_index('year',inplace=True)\n",
    "    data['count'] = data['count'].astype(int)\n",
    "    data = data.groupby(['year','age']).sum()\n",
    "    \n",
    "    return data\n",
    "    \n"
   ]
  },
  {
   "cell_type": "code",
   "execution_count": null,
   "metadata": {},
   "outputs": [],
   "source": [
    "dead_df = get_data(dead_url,dead_query)\n",
    "dead_df"
   ]
  },
  {
   "cell_type": "code",
   "execution_count": null,
   "metadata": {},
   "outputs": [],
   "source": [
    "pop_df = get_data(pop_url,pop_query)\n",
    "pop_df"
   ]
  },
  {
   "cell_type": "code",
   "execution_count": null,
   "metadata": {},
   "outputs": [],
   "source": [
    "def bin_category(df,binsize=10):\n",
    "    \n",
    "    binned = pd.cut(df.index.get_level_values(1),range(-1,100+binsize,binsize),labels=range(0,100+binsize,binsize))\n",
    "    return binned"
   ]
  },
  {
   "cell_type": "code",
   "execution_count": null,
   "metadata": {},
   "outputs": [],
   "source": [
    "def binit(df,binsize=10):\n",
    "    return df.groupby(['year',bin_category(df,binsize=binsize)]).sum()\n",
    "    \n"
   ]
  },
  {
   "cell_type": "code",
   "execution_count": null,
   "metadata": {},
   "outputs": [],
   "source": [
    "dead_bin_5 = binit(dead_df,binsize=5)\n",
    "pop_bin_5 = binit(pop_df,binsize=5)\n",
    "\n",
    "dead_bin_1 = binit(dead_df,binsize=1)\n",
    "pop_bin_1 = binit(pop_df,binsize=1)"
   ]
  },
  {
   "cell_type": "code",
   "execution_count": null,
   "metadata": {},
   "outputs": [],
   "source": [
    "def agg_bin_data(pop,dead):\n",
    "    \n",
    "    bin_data = pd.concat([pop,dead],axis=1).dropna()\n",
    "    bin_data.columns = ['pop','dead']\n",
    "    bin_data['mortality'] = bin_data['dead'] / bin_data['pop']\n",
    "    bin_data.index.names=('year','age_grp')\n",
    "    return bin_data"
   ]
  },
  {
   "cell_type": "code",
   "execution_count": null,
   "metadata": {},
   "outputs": [],
   "source": [
    "bin_1_data = agg_bin_data(pop_bin_1,dead_bin_1)\n",
    "bin_5_data = agg_bin_data(pop_bin_5,dead_bin_5)\n",
    "\n",
    "print (bin_1_data.head())\n",
    "\n",
    "# sanity check # \n",
    "((bin_5_data.groupby('year').sum() == bin_1_data.groupby('year').sum()).all()) & \\\n",
    "(bin_1_data.groupby('year').sum().loc['2020','dead'] == 98124)"
   ]
  },
  {
   "cell_type": "code",
   "execution_count": null,
   "metadata": {},
   "outputs": [],
   "source": [
    "bin_1_data"
   ]
  },
  {
   "cell_type": "code",
   "execution_count": null,
   "metadata": {},
   "outputs": [],
   "source": [
    "yearly_stats = bin_1_data.groupby('year')[['pop','dead']].sum()\n",
    "yearly_stats"
   ]
  },
  {
   "cell_type": "code",
   "execution_count": null,
   "metadata": {},
   "outputs": [],
   "source": [
    "yearly_stats_base_15_18 = yearly_stats.loc['2015' : '2018'].mean()\n",
    "yearly_stats_base_15_18"
   ]
  },
  {
   "cell_type": "code",
   "execution_count": null,
   "metadata": {},
   "outputs": [],
   "source": [
    "yearly_growth = yearly_stats / yearly_stats.shift()\n",
    "yearly_growth"
   ]
  },
  {
   "cell_type": "code",
   "execution_count": null,
   "metadata": {},
   "outputs": [],
   "source": []
  },
  {
   "cell_type": "code",
   "execution_count": null,
   "metadata": {},
   "outputs": [],
   "source": [
    "axes = yearly_stats.plot(subplots=True,style='o--',sharex=True)\n",
    "\n",
    "axes[1].set_xticks(range(len(yearly_stats)))\n",
    "_= axes[1].set_xticklabels(range(2002,2021),rotation=90)"
   ]
  },
  {
   "cell_type": "code",
   "execution_count": null,
   "metadata": {},
   "outputs": [],
   "source": []
  },
  {
   "cell_type": "code",
   "execution_count": null,
   "metadata": {},
   "outputs": [],
   "source": [
    "yearly_growth.plot(style='o--')"
   ]
  },
  {
   "cell_type": "code",
   "execution_count": null,
   "metadata": {},
   "outputs": [],
   "source": [
    "bin_1_base_15_18 = bin_1_data.loc['2015' : '2018'].groupby(['age_grp']).mean()\n",
    "bin_1_base_15_19 = bin_1_data.loc['2015' : '2019'].groupby(['age_grp']).mean()\n",
    "\n",
    "bin_1_base_15_18"
   ]
  },
  {
   "cell_type": "code",
   "execution_count": null,
   "metadata": {},
   "outputs": [],
   "source": [
    "bin_1_base_15_18_expected = bin_1_base_15_18['mortality'] * bin_1_data['pop']\n",
    "bin_1_base_15_18_expected_tot = bin_1_base_15_18_expected.groupby('year').sum()\n",
    "\n",
    "bin_1_base_15_19_expected = bin_1_base_15_19['mortality'] * bin_1_data['pop']\n",
    "bin_1_base_15_19_expected_tot = bin_1_base_15_19_expected.groupby('year').sum()\n",
    "\n",
    "bin_1_base_15_18_expected_tot"
   ]
  },
  {
   "cell_type": "code",
   "execution_count": null,
   "metadata": {},
   "outputs": [],
   "source": [
    "bin_1_actuals = bin_1_data.groupby(['year'])['dead'].sum()\n",
    "bin_1_actuals"
   ]
  },
  {
   "cell_type": "code",
   "execution_count": null,
   "metadata": {},
   "outputs": [],
   "source": [
    "bin_1_excess = pd.DataFrame()\n",
    "bin_1_excess['age_mort_base_15_18'] = bin_1_data.groupby('year')['dead'].sum() - bin_1_base_15_18_expected_tot\n",
    "bin_1_excess['age_mort_base_15_18_pct'] = bin_1_data.groupby('year')['dead'].sum() / bin_1_base_15_18_expected_tot\n",
    "\n",
    "bin_1_excess['age_mort_base_15_19'] = bin_1_data.groupby('year')['dead'].sum() - bin_1_base_15_19_expected_tot\n",
    "bin_1_excess['age_mort_base_15_19_pct'] = bin_1_data.groupby('year')['dead'].sum() / bin_1_base_15_19_expected_tot\n",
    "\n",
    "bin_1_excess"
   ]
  },
  {
   "cell_type": "code",
   "execution_count": null,
   "metadata": {},
   "outputs": [],
   "source": [
    "fig,axes = plt.subplots(2)\n",
    "\n",
    "bin_1_excess.plot(ax = axes[0],y=['age_mort_base_15_18','age_mort_base_15_19'],figsize=(18,12),style='o--')\n",
    "axes[0].set_ylabel('excess deaths')\n",
    "\n",
    "bin_1_excess.plot(ax=axes[1],y=['age_mort_base_15_18_pct','age_mort_base_15_19_pct'],style='o--')\n",
    "axes[1].set_ylabel('excess growth factor')\n",
    "\n",
    "plt.suptitle('SWE excess deaths by age specific mortality [1 year bins] two baselines\\nDataSource : scb.se')"
   ]
  },
  {
   "cell_type": "code",
   "execution_count": null,
   "metadata": {},
   "outputs": [],
   "source": [
    "abs_excess = pd.DataFrame()\n",
    "\n",
    "abs_excess['abs_base_15_18'] = bin_1_data.groupby('year')['dead'].sum() - bin_1_base_15_18['dead'].sum()\n",
    "abs_excess['abs_base_15_18_pct'] = bin_1_data.groupby('year')['dead'].sum() / bin_1_base_15_18['dead'].sum()\n",
    "\n",
    "abs_excess['abs_base_15_19'] = bin_1_data.groupby('year')['dead'].sum() - bin_1_base_15_19['dead'].sum()\n",
    "abs_excess['abs_base_15_19_pct'] = bin_1_data.groupby('year')['dead'].sum() / bin_1_base_15_19['dead'].sum()\n",
    "\n",
    "abs_excess"
   ]
  },
  {
   "cell_type": "code",
   "execution_count": null,
   "metadata": {},
   "outputs": [],
   "source": []
  },
  {
   "cell_type": "code",
   "execution_count": null,
   "metadata": {},
   "outputs": [],
   "source": [
    "import scipy.stats as sps\n",
    "\n",
    "trend_start = 2015\n",
    "trend_end = 2018\n",
    "\n",
    "def find_slope_intercept(s):\n",
    "    s.index = s.index.astype(int)\n",
    "    slope,intercept,_,_,_ = sps.linregress(np.arange(trend_start,trend_end + 1),s.loc[trend_start:trend_end])\n",
    "    return slope,intercept\n",
    "    \n",
    "    \n",
    "bin_1_data_flat = bin_1_data['mortality'].unstack()\n",
    "bin_1_trend = bin_1_data_flat.apply(find_slope_intercept).T\n",
    "bin_1_trend.columns = ['slope','intercept']\n",
    "bin_1_trend"
   ]
  },
  {
   "cell_type": "code",
   "execution_count": null,
   "metadata": {},
   "outputs": [],
   "source": [
    "X = np.arange(2002,2021)\n",
    "bin_1_trend_mortality = pd.DataFrame([X[i] * bin_1_trend['slope'] + \\\n",
    "                                        bin_1_trend['intercept'] for i in range(len(X))]) \n",
    "\n",
    "bin_1_trend_mortality.index = np.arange(2002,2021).astype(str)\n",
    "\n",
    "bin_1_trend_mortality"
   ]
  },
  {
   "cell_type": "code",
   "execution_count": null,
   "metadata": {},
   "outputs": [],
   "source": [
    "bin_1_pop_flat = bin_1_data['pop'].unstack()\n",
    "bin_1_trend_expectation = bin_1_pop_flat * bin_1_trend_mortality\n",
    "bin_1_trend_expectation_tot = bin_1_trend_expectation.sum(axis=1)\n",
    "bin_1_trend_expectation_tot"
   ]
  },
  {
   "cell_type": "code",
   "execution_count": null,
   "metadata": {},
   "outputs": [],
   "source": [
    "bin_1_trend_excess = pd.DataFrame(bin_1_data.groupby('year')['dead'].sum() - bin_1_trend_expectation_tot,\n",
    "                                  columns = ['bin_1_15_18_trend'])\n",
    "\n",
    "bin_1_trend_excess['bin_1_15_18_trend_pct'] = bin_1_data.groupby('year')['dead'].sum() /\\\n",
    "bin_1_trend_expectation_tot\n",
    "bin_1_trend_excess"
   ]
  },
  {
   "cell_type": "code",
   "execution_count": null,
   "metadata": {},
   "outputs": [],
   "source": [
    "all_excess = pd.concat([bin_1_excess,abs_excess,bin_1_trend_excess],axis=1)\n",
    "all_excess"
   ]
  },
  {
   "cell_type": "code",
   "execution_count": null,
   "metadata": {},
   "outputs": [],
   "source": [
    "fig,axes = plt.subplots(2,sharex=True)\n",
    "\n",
    "all_excess.plot(ax = axes[0],\n",
    "                y=['abs_base_15_18','abs_base_15_19',\n",
    "                   'age_mort_base_15_18','age_mort_base_15_19',\n",
    "                  'bin_1_15_18_trend'],\n",
    "                figsize=(18,12),style='o--')\n",
    "\n",
    "axes[0].set_ylabel('excess deaths')\n",
    "\n",
    "\n",
    "all_excess.plot(ax=axes[1],\n",
    "                y=['abs_base_15_18_pct','abs_base_15_19_pct',\n",
    "                   'age_mort_base_15_18_pct','age_mort_base_15_19_pct',\n",
    "                  'bin_1_15_18_trend_pct'],\n",
    "                style='o--')\n",
    "\n",
    "axes[1].set_ylabel('relative vs expectation excess')\n",
    "\n",
    "axes[1].set_xticks(range(len(all_excess)))\n",
    "axes[1].set_xticklabels(range(2002,2021))\n",
    "\n",
    "plt.suptitle('SWE excess deaths by 5 different expectations\\nDataSource : scb.se')\n",
    "plt.savefig('SCB_ALL_EXCESS.jpg',format='jpg')"
   ]
  },
  {
   "cell_type": "code",
   "execution_count": null,
   "metadata": {},
   "outputs": [],
   "source": [
    "bin_5_data"
   ]
  },
  {
   "cell_type": "code",
   "execution_count": null,
   "metadata": {},
   "outputs": [],
   "source": [
    "dead_bin_10 = binit(dead_df,binsize=10)\n",
    "pop_bin_10 = binit(pop_df,binsize=10)\n",
    "\n",
    "dead_bin_20 = binit(dead_df,binsize=20)\n",
    "pop_bin_20 = binit(pop_df,binsize=20)\n",
    "\n",
    "dead_bin_1 = binit(dead_df,binsize=1)\n",
    "pop_bin_1 = binit (pop_df,binsize=1)\n",
    "\n",
    "age_mort_bin_10 = (dead_bin_10 / pop_bin_10).unstack().droplevel(0,axis=1).dropna()\n",
    "baseline_age_mort_bin_10 = age_mort_bin_10.loc['2015' : '2018'].mean()\n",
    "\n",
    "age_mort_bin_5 = (dead_bin_5 / pop_bin_5).unstack().droplevel(0,axis=1).dropna()\n",
    "baseline_age_mort_bin_5 = age_mort_bin_5.loc['2015' : '2018'].mean()\n",
    "\n",
    "age_mort_bin_1 = (dead_bin_1 / pop_bin_1).unstack().droplevel(0,axis=1).dropna()\n",
    "baseline_age_mort_bin_1 = age_mort_bin_1.loc['2015' : '2018'].mean()\n",
    "\n",
    "age_mort_bin_20 = (dead_bin_20 / pop_bin_20).unstack().droplevel(0,axis=1).dropna()\n",
    "baseline_age_mort_bin_20 = age_mort_bin_20.loc['2015' : '2018'].mean()\n"
   ]
  },
  {
   "cell_type": "code",
   "execution_count": null,
   "metadata": {},
   "outputs": [],
   "source": [
    "ax = baseline_age_mort_bin_5.plot(style='o--',figsize=(18,12),label='bin_5')\n",
    "baseline_age_mort_bin_10.plot(ax=ax,style='o--',label='bin_10')\n",
    "ax.legend(loc='upper left')"
   ]
  },
  {
   "cell_type": "code",
   "execution_count": null,
   "metadata": {},
   "outputs": [],
   "source": [
    "bin_1_expectation = baseline_age_mort_bin_1 * pop_bin_1.loc['2020','count']\n",
    "bin_5_expectation = baseline_age_mort_bin_5 * pop_bin_5.loc['2020','count']\n",
    "bin_10_expectation = baseline_age_mort_bin_10 * pop_bin_10.loc['2020','count']\n",
    "bin_20_expectation = baseline_age_mort_bin_20 * pop_bin_20.loc['2020','count']\n",
    "\n",
    "print (bin_1_expectation.sum())\n",
    "print (bin_5_expectation.sum())\n",
    "print (bin_10_expectation.sum())\n",
    "print (bin_20_expectation.sum())"
   ]
  },
  {
   "cell_type": "code",
   "execution_count": null,
   "metadata": {},
   "outputs": [],
   "source": [
    "### excess deaths based on different binnings ###\n",
    "print (dead_bin_1.loc['2020','count'].sum() - bin_1_expectation.sum())\n",
    "print (dead_bin_5.loc['2020','count'].sum() - bin_5_expectation.sum())\n",
    "print (dead_bin_10.loc['2020','count'].sum() - bin_10_expectation.sum())\n",
    "print (dead_bin_20.loc['2020','count'].sum() - bin_20_expectation.sum())"
   ]
  },
  {
   "cell_type": "code",
   "execution_count": null,
   "metadata": {},
   "outputs": [],
   "source": [
    "scb_prel_pop_bin = pd.cut(pop_df.index.get_level_values(1),[-1,64,79,89,200],labels=['-64','65-79','80-89','90+'])\n",
    "scb_prel_dead_bin = pd.cut(dead_df.index.get_level_values(1),[-1,64,79,89,200],labels=['-64','65-79','80-89','90+'])"
   ]
  },
  {
   "cell_type": "code",
   "execution_count": null,
   "metadata": {},
   "outputs": [],
   "source": [
    "pop_df_scb_prel = pop_df.copy()\n",
    "pop_df_scb_prel['scb_prel_bin'] = scb_prel_pop_bin\n",
    "\n",
    "dead_df_scb_prel = dead_df.copy()\n",
    "dead_df_scb_prel['scb_prel_bin'] = scb_prel_dead_bin\n",
    "dead_df_scb_prel"
   ]
  },
  {
   "cell_type": "code",
   "execution_count": null,
   "metadata": {},
   "outputs": [],
   "source": [
    "dead_bin_prel = dead_df_scb_prel.groupby(['year','scb_prel_bin']).sum()\n",
    "pop_bin_prel = pop_df_scb_prel.groupby(['year','scb_prel_bin']).sum()\n",
    "\n",
    "mort_prel = (dead_bin_prel / pop_bin_prel).dropna()\n",
    "mort_prel"
   ]
  },
  {
   "cell_type": "code",
   "execution_count": null,
   "metadata": {},
   "outputs": [],
   "source": [
    "mort_prel_15_18 = mort_prel.loc['2015' : '2018'].unstack().droplevel(0,axis=1)\n",
    "mort_prel_15_18"
   ]
  },
  {
   "cell_type": "code",
   "execution_count": null,
   "metadata": {},
   "outputs": [],
   "source": [
    "mort_prel_baseline  = mort_prel_15_18.mean()\n",
    "mort_prel_baseline"
   ]
  },
  {
   "cell_type": "code",
   "execution_count": null,
   "metadata": {},
   "outputs": [],
   "source": [
    "pop_prel_unstacked = pop_bin_prel.unstack().droplevel(0,axis=1)\n",
    "dead_prel_unstacked = dead_bin_prel.unstack().droplevel(0,axis=1)"
   ]
  },
  {
   "cell_type": "code",
   "execution_count": null,
   "metadata": {},
   "outputs": [],
   "source": [
    "\n",
    "prel_expect = (mort_prel_baseline * pop_prel_unstacked).sum(axis=1)\n",
    "prel_observed = dead_prel_unstacked.sum(axis=1)\n",
    "prel_observed"
   ]
  },
  {
   "cell_type": "code",
   "execution_count": null,
   "metadata": {},
   "outputs": [],
   "source": [
    "### excess deaths based on scb prel binning with 4 age groups ###\n",
    "(prel_observed - prel_expect).dropna()"
   ]
  },
  {
   "cell_type": "code",
   "execution_count": null,
   "metadata": {},
   "outputs": [],
   "source": [
    "l = [dead_bin_1.loc['2020','count'].sum() - bin_1_expectation.sum(),\n",
    "     dead_bin_5.loc['2020','count'].sum() - bin_5_expectation.sum(),\n",
    "     dead_bin_10.loc['2020','count'].sum() - bin_10_expectation.sum(),\n",
    "     dead_bin_20.loc['2020','count'].sum() - bin_20_expectation.sum(),\n",
    "    prel_observed.loc['2020'] - prel_expect.loc['2020']]\n",
    "     \n",
    "twenty_twenty_excess = pd.DataFrame(l,columns=['excess'],index=['bin_1','bin_5','bin_10','bin_20','bin_scb_prel'])\n",
    "twenty_twenty_excess"
   ]
  },
  {
   "cell_type": "code",
   "execution_count": null,
   "metadata": {},
   "outputs": [],
   "source": [
    "title = 'SWEDEN 2020 Excess Deaths using 5 different age binnings, baseline 2015-2018\\nDataSource : scb.se'\n",
    "twenty_twenty_excess.plot(kind='bar',figsize=(18,12),color='red',title=title)\n",
    "plt.ylabel('Excess Deaths')\n",
    "plt.xlabel('binning')\n",
    "plt.savefig('scb_all_excess_different_bins.jpg',format='jpg')"
   ]
  }
 ],
 "metadata": {
  "kernelspec": {
   "display_name": "Python 3",
   "language": "python",
   "name": "python3"
  },
  "language_info": {
   "codemirror_mode": {
    "name": "ipython",
    "version": 3
   },
   "file_extension": ".py",
   "mimetype": "text/x-python",
   "name": "python",
   "nbconvert_exporter": "python",
   "pygments_lexer": "ipython3",
   "version": "3.8.6"
  }
 },
 "nbformat": 4,
 "nbformat_minor": 4
}
