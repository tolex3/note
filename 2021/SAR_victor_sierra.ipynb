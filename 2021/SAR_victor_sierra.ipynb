{
 "cells": [
  {
   "cell_type": "code",
   "execution_count": null,
   "metadata": {},
   "outputs": [],
   "source": [
    "import numpy as np\n",
    "import matplotlib.pyplot as plt\n",
    "import seaborn as sns\n",
    "\n",
    "sns.set()"
   ]
  },
  {
   "cell_type": "code",
   "execution_count": null,
   "metadata": {},
   "outputs": [],
   "source": [
    "def cart2pol(x, y):\n",
    "    rho = np.sqrt(x**2 + y**2)\n",
    "    phi = np.arctan2(x,y) #inversed due to negative plot direction\n",
    "    return(rho, phi)"
   ]
  },
  {
   "cell_type": "code",
   "execution_count": null,
   "metadata": {},
   "outputs": [],
   "source": [
    "def pol2cart(rho, phi):# since direction of plot is neg, these vals are reversed\n",
    "    ydelta = rho * np.cos(phi)\n",
    "    xdelta = rho * np.sin(phi)\n",
    "    return(xdelta, ydelta)"
   ]
  },
  {
   "cell_type": "code",
   "execution_count": null,
   "metadata": {},
   "outputs": [],
   "source": [
    "### polar point : (r,theta) ###\n",
    "\n",
    "def draw_vector_from_cart(p1,p2,ax,m,c,ls='--'):\n",
    "    polar_p1 = cart2pol(p1[0],p1[1])\n",
    "    polar_p2 = cart2pol(p2[0],p2[1])\n",
    "    theta = np.array([polar_p1[1],polar_p2[1]])\n",
    "    r = np.array([polar_p1[0],polar_p2[0]])\n",
    "    ax.plot(theta,r,marker=m,color=c,linewidth=1,ls=ls)"
   ]
  },
  {
   "cell_type": "code",
   "execution_count": null,
   "metadata": {},
   "outputs": [],
   "source": [
    "def cart_for_next_point(p1,course,dist):\n",
    "    \n",
    "    delta_x = np.cos(np.deg2rad(90-course)) * dist \n",
    "    delta_y = np.sin(np.deg2rad(90-course)) * dist \n",
    "    \n",
    "    new_x = p1[0] + delta_x\n",
    "    new_y = p1[1] + delta_y\n",
    "\n",
    "    return (new_x,new_y)\n"
   ]
  },
  {
   "cell_type": "code",
   "execution_count": null,
   "metadata": {
    "scrolled": false
   },
   "outputs": [],
   "source": [
    "fig = plt.figure(figsize=(18,12))\n",
    "ax = plt.subplot(111,projection='polar')\n",
    "ax.set_theta_zero_location('N')\n",
    "ax.set_theta_direction(-1)\n",
    "\n",
    "ground_stabilized_leg_points = []\n",
    "sea_stabilized_leg_points = []\n",
    "courses = []\n",
    "\n",
    "### PARAM ###\n",
    "start_course = 0\n",
    "own_speed = 6\n",
    "own_vector = own_speed / 60 # one minute legs \n",
    "v_current = 3 # \n",
    "current_vector = v_current / 60\n",
    "c_current = 45\n",
    "\n",
    "mode = 'Ground_Stabilized' if v_current > 0 else 'Sea Stabilized'\n",
    "\n",
    "ax.set_title('SAR Victor Sierra Search Pattern\\n {}\\n 1 minute legs\\nOwn Initial Course : {} Own Speed : {}\\n Current Course : {} Current Speed : {}'.format(\n",
    "mode, start_course,own_speed,c_current,v_current))\n",
    "\n",
    "next_p = start_p = (0,0)\n",
    "\n",
    "ground_stabilized_leg_points.append(next_p)\n",
    "\n",
    "courses.append(start_course)\n",
    "\n",
    "for leg in range(9):\n",
    "    next_p = cart_for_next_point(next_p,start_course,own_vector)\n",
    "        \n",
    "    if v_current != 0:\n",
    "        next_p = cart_for_next_point(next_p,c_current,current_vector)\n",
    "    \n",
    "    ground_stabilized_leg_points.append(next_p)\n",
    "\n",
    "    if (leg +1) % 3 != 0:\n",
    "        start_course = (start_course + 120) % 360\n",
    "    else:\n",
    "        start_course = start_course\n",
    "    \n",
    "    courses.append(start_course)\n",
    "\n",
    "print (ground_stabilized_leg_points)\n",
    "\n",
    "xs_ground,ys_ground = list(zip(*ground_stabilized_leg_points))\n",
    "\n",
    "colors = ['lime','blue','magenta','green','yellow',\n",
    "         'orange','red','brown','k']\n",
    "\n",
    "for i in range(len(xs_ground) - 1):\n",
    "    draw_vector_from_cart((xs_ground[i],ys_ground[i]),(xs_ground[i+1],ys_ground[i+1]),ax,'*',colors[i]) \n",
    "\n",
    "max_x = max(xs_ground)\n",
    "max_y = max(ys_ground)\n",
    "max_ = max([max_x,max_y])\n",
    "_= ax.set_yticks(np.arange(0,max_ ),(max_/100))\n",
    "\n",
    "plt.savefig('SAR_victor_sierra_' + mode + '.jpg',format='jpg')"
   ]
  },
  {
   "cell_type": "code",
   "execution_count": null,
   "metadata": {},
   "outputs": [],
   "source": []
  }
 ],
 "metadata": {
  "kernelspec": {
   "display_name": "Python 3",
   "language": "python",
   "name": "python3"
  },
  "language_info": {
   "codemirror_mode": {
    "name": "ipython",
    "version": 3
   },
   "file_extension": ".py",
   "mimetype": "text/x-python",
   "name": "python",
   "nbconvert_exporter": "python",
   "pygments_lexer": "ipython3",
   "version": "3.8.10"
  }
 },
 "nbformat": 4,
 "nbformat_minor": 4
}
