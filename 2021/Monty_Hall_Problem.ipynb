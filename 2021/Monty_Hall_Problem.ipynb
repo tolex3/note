{
 "cells": [
  {
   "cell_type": "code",
   "execution_count": null,
   "metadata": {},
   "outputs": [],
   "source": [
    "import numpy as np\n",
    "import matplotlib.pyplot as plt\n",
    "import seaborn as sns\n",
    "import pandas as pd\n",
    "\n",
    "sns.set()\n"
   ]
  },
  {
   "cell_type": "code",
   "execution_count": null,
   "metadata": {
    "scrolled": false
   },
   "outputs": [],
   "source": [
    "def round_of_game():\n",
    "    \n",
    "    ### Monty Hall Problem : 3 doors, one car, two goats ###\n",
    "    \n",
    "    car_loc = np.random.randint(0,3)\n",
    "    guess = np.random.randint(0,3)\n",
    "    \n",
    "    ### figure out which door is available for host to open and suggest switch ###\n",
    "    \n",
    "    taken = np.unique(np.array([car_loc,guess])) # doors already taken, not avail. for host #\n",
    "    \n",
    "    # find door available for host to open by random search until the door is not in taken #\n",
    "    host_open = np.random.randint(0,3)\n",
    "    \n",
    "    while host_open in taken:\n",
    "        host_open = np.random.randint(0,3)\n",
    "    \n",
    "    # find remaining door (available for switching to) # \n",
    "    switch_taken = np.unique(np.array([guess,host_open]))\n",
    "    \n",
    "    switch_to = np.random.randint(0,3)\n",
    "    \n",
    "    while switch_to in switch_taken:\n",
    "        switch_to = np.random.randint(0,3)\n",
    "        \n",
    "    return car_loc,guess,host_open,switch_to\n",
    "    \n",
    "\n",
    "iterations = 100000\n",
    "\n",
    "game_list = []\n",
    "\n",
    "for i in range(iterations):\n",
    "    game_list.append(round_of_game())\n",
    "    \n",
    "df = pd.DataFrame(game_list,columns=['car_loc','guess_loc','host_open','switch_to'])\n",
    "df['success_no_switch'] = df['car_loc'] == df['guess_loc']    \n",
    "df['success_switch'] = df['car_loc'] == df['switch_to']\n",
    "df\n"
   ]
  },
  {
   "cell_type": "code",
   "execution_count": null,
   "metadata": {},
   "outputs": [],
   "source": [
    "print ('win no switch : ' , df['success_no_switch'].sum() / df['success_no_switch'].count())\n",
    "print ('win switch : ', df['success_switch'].sum() / df['success_switch'].count())"
   ]
  },
  {
   "cell_type": "code",
   "execution_count": null,
   "metadata": {},
   "outputs": [],
   "source": [
    "ax = df['success_switch'].cumsum().plot()\n",
    "df['success_no_switch'].cumsum().plot(ax=ax)"
   ]
  },
  {
   "cell_type": "code",
   "execution_count": null,
   "metadata": {},
   "outputs": [],
   "source": [
    "### boy born Tuesday - I have 2 children, one being boy born on Tuesday. P(two boys) ?  ###\n",
    "# https://en.wikipedia.org/wiki/Boy_or_Girl_paradox #\n",
    "\n",
    "def gen_children():\n",
    "    gender = np.random.randint(0,2,2)\n",
    "    day = np.random.randint(1,8,2)\n",
    "    return gender,day\n",
    "\n",
    "siblings = []\n",
    "\n",
    "iterations = 1000000\n",
    "\n",
    "for i in range(iterations):\n",
    "    siblings.append(gen_children())\n",
    "    "
   ]
  },
  {
   "cell_type": "code",
   "execution_count": null,
   "metadata": {},
   "outputs": [],
   "source": [
    "df = pd.DataFrame(siblings)\n",
    "\n",
    "df['gender_1'] = df[0].apply(lambda x : x[0])\n",
    "df['day_1'] = df[1].apply(lambda x : x[0])\n",
    "df['gender_2'] = df[0].apply(lambda x : x[1])\n",
    "df['day_2'] = df[1].apply(lambda x : x[1])\n",
    "df.drop([0,1],axis=1,inplace=True)\n",
    "\n",
    "df"
   ]
  },
  {
   "cell_type": "code",
   "execution_count": null,
   "metadata": {},
   "outputs": [],
   "source": [
    "target_day = 2 # Tues #\n",
    "\n",
    "at_least_one_boy = df.loc[ ( df['gender_1'] == 1 ) | ( df['gender_2'] == 1 ) ]\n",
    "at_least_one_boy"
   ]
  },
  {
   "cell_type": "code",
   "execution_count": null,
   "metadata": {},
   "outputs": [],
   "source": [
    "# P(at least one boy) #\n",
    "print ('P(one or two boys) : ',len(at_least_one_boy) / iterations)"
   ]
  },
  {
   "cell_type": "code",
   "execution_count": null,
   "metadata": {},
   "outputs": [],
   "source": [
    "both_boys = at_least_one_boy.loc[ ( at_least_one_boy['gender_1'] == 1 ) &\\\n",
    "                                 ( at_least_one_boy['gender_2'] == 1 ) ]\n",
    "both_boys"
   ]
  },
  {
   "cell_type": "code",
   "execution_count": null,
   "metadata": {},
   "outputs": [],
   "source": [
    "print ('P(both boys) : ', len (both_boys) / len (df))\n",
    "print ('P(both boys | one boy) : ',len (both_boys) / len(at_least_one_boy))"
   ]
  },
  {
   "cell_type": "code",
   "execution_count": null,
   "metadata": {},
   "outputs": [],
   "source": [
    "at_least_one_boy_born_tuesday = df.loc[ ( ( df['gender_1'] == 1 ) & ( df['day_1'] == target_day ) ) | \\\n",
    "                                       ( (df['gender_2'] == 1 ) & ( df['day_2'] == target_day ) ) ]\n",
    "\n",
    "at_least_one_boy_born_tuesday"
   ]
  },
  {
   "cell_type": "code",
   "execution_count": null,
   "metadata": {},
   "outputs": [],
   "source": [
    "two_boys_given_at_least_one_born_tue = \\\n",
    "at_least_one_boy_born_tuesday.loc[ ( at_least_one_boy_born_tuesday['gender_1'] == 1) &\\\n",
    "                                  (at_least_one_boy_born_tuesday['gender_2'] == 1 )]\n",
    "\n",
    "two_boys_given_at_least_one_born_tue\n"
   ]
  },
  {
   "cell_type": "code",
   "execution_count": null,
   "metadata": {},
   "outputs": [],
   "source": [
    "# P(two boys given at least one boy born Tuesday) # \n",
    "\n",
    "print ('P(two boys given at least one born Tuesday) : ',\n",
    "       len (two_boys_given_at_least_one_born_tue) / len(at_least_one_boy_born_tuesday))\n"
   ]
  },
  {
   "cell_type": "code",
   "execution_count": null,
   "metadata": {},
   "outputs": [],
   "source": [
    "13/27"
   ]
  },
  {
   "cell_type": "code",
   "execution_count": null,
   "metadata": {
    "scrolled": false
   },
   "outputs": [],
   "source": [
    "#### analytic calculation ####\n",
    "import itertools as it\n",
    "\n",
    "# gender A, day A, gender B, day B # \n",
    "l = [[0,1],[1,2,3,4,5,6,7],[0,1],[1,2,3,4,5,6,7]]\n",
    "\n",
    "# cartesian product # \n",
    "outcome_space = list(it.product(*l))\n",
    "\n",
    "outcome_space = pd.DataFrame(outcome_space,columns=['gender_A','day_A','gender_B','day_B'])\n",
    "outcome_space\n"
   ]
  },
  {
   "cell_type": "code",
   "execution_count": null,
   "metadata": {},
   "outputs": [],
   "source": [
    "# at least one child is boy born Tuesday #\n",
    "\n",
    "boy_born_tue = outcome_space.loc[ ( ( outcome_space['gender_A'] == 1 ) & \\\n",
    "                                  ( outcome_space['day_A'] == target_day ) ) | \\\n",
    "                                  ( ( outcome_space['gender_B'] == 1 ) & \\\n",
    "                                  ( outcome_space['day_B'] == target_day ) ) ]\n",
    "\n",
    "boy_born_tue"
   ]
  },
  {
   "cell_type": "code",
   "execution_count": null,
   "metadata": {},
   "outputs": [],
   "source": [
    "two_boys_at_least_one_born_tue = boy_born_tue.loc[ ( boy_born_tue['gender_A'] == 1 ) &\\\n",
    "                                                  ( boy_born_tue['gender_B'] == 1 ) ]\n",
    "\n",
    "two_boys_at_least_one_born_tue"
   ]
  },
  {
   "cell_type": "code",
   "execution_count": null,
   "metadata": {},
   "outputs": [],
   "source": [
    "print ('P(two boys at least one born Tue) : ',len (two_boys_at_least_one_born_tue) / len(boy_born_tue))"
   ]
  }
 ],
 "metadata": {
  "kernelspec": {
   "display_name": "Python 3",
   "language": "python",
   "name": "python3"
  },
  "language_info": {
   "codemirror_mode": {
    "name": "ipython",
    "version": 3
   },
   "file_extension": ".py",
   "mimetype": "text/x-python",
   "name": "python",
   "nbconvert_exporter": "python",
   "pygments_lexer": "ipython3",
   "version": "3.8.6"
  }
 },
 "nbformat": 4,
 "nbformat_minor": 4
}
