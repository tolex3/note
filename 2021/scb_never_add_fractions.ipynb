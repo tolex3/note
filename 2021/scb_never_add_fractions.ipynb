{
 "cells": [
  {
   "cell_type": "code",
   "execution_count": 1,
   "metadata": {},
   "outputs": [],
   "source": [
    "###### PARAM FOR LAST GOOD DATE BELOW TO BE SET ######\n",
    "###### PARAM FOR LAST COMPLETE MONTH DOWNSTREAM TO BET MANUALLY SET! ####\n",
    "###### PARAM for linreg start_year to be set #####\n",
    "\n",
    "import numpy as np\n",
    "import pandas as pd\n",
    "import matplotlib.pyplot as plt\n",
    "import seaborn as sns\n",
    "import requests\n",
    "\n",
    "sns.set()\n",
    "\n",
    "#param\n",
    "#linreg_start_year = 1861\n",
    "linreg_start_year = 2010\n",
    "linreq_age_adj_start_year = 2010\n"
   ]
  },
  {
   "cell_type": "code",
   "execution_count": 2,
   "metadata": {},
   "outputs": [],
   "source": [
    "#### the pymc models are weird - most times the don't sample first time ####\n"
   ]
  },
  {
   "cell_type": "code",
   "execution_count": 3,
   "metadata": {},
   "outputs": [
    {
     "name": "stdout",
     "output_type": "stream",
     "text": [
      "      pop  dead  mortality\n",
      "Y1   1000    10       0.01\n",
      "Y2  10000   100       0.01\n",
      "abs_exess 90\n",
      "diff mortality 0.0\n",
      "scaled excess 0.0\n"
     ]
    }
   ],
   "source": [
    "##### excess calculation example #####\n",
    "\n",
    "df_foo = pd.DataFrame({'pop' : [1000,10000],'dead' : [10,100]},index=['Y1','Y2'])\n",
    "excess_foo = df_foo.loc['Y2','dead'] - df_foo.loc['Y1','dead']\n",
    "df_foo['mortality'] = df_foo['dead'] / df_foo['pop']\n",
    "diff_mortality = df_foo.loc['Y2','mortality'] - df_foo.loc['Y1','mortality']\n",
    "print (df_foo)\n",
    "print ('abs_exess',excess_foo)\n",
    "print ('diff mortality',diff_mortality)\n",
    "print ('scaled excess', diff_mortality * df_foo.loc['Y2','pop'])\n"
   ]
  },
  {
   "cell_type": "code",
   "execution_count": 4,
   "metadata": {},
   "outputs": [],
   "source": [
    "def parse_scb_prel(YTD=True):\n",
    "    \n",
    "    def monthname2number(m):\n",
    "        if m == 'januari' : return 1\n",
    "        if m == 'februari' : return 2\n",
    "        if m == 'mars' : return 3\n",
    "        if m == 'april' : return 4\n",
    "        if m == 'maj' : return 5\n",
    "        if m == 'juni' : return 6\n",
    "        if m == 'juli' : return 7\n",
    "        if m == 'augusti' : return 8\n",
    "        if m == 'september' : return 9\n",
    "        if m == 'oktober' : return 10\n",
    "        if m == 'november' : return 11\n",
    "        if m == 'december' : return 12\n",
    "\n",
    "    df = pd.read_csv('scb-dead_per_day.csv',sep=';',usecols=[1,2,3,4,5,6,7,10,11],thousands=',')\n",
    "    \n",
    "    \n",
    "    df['month'] = df['Månad'].apply(monthname2number)\n",
    "    df[['Månad','month']] = df[['Månad','month']].replace(np.nan,0)\n",
    "    df['month'] = df['month'].astype(int)\n",
    "    \n",
    "    \n",
    "    df = df.replace(np.nan,0)\n",
    "\n",
    "    \n",
    "    df[['2015','2016','2017','2018','2019','2020','2015-2019']] = df[['2015','2016','2017','2018','2019','2020','2015-2019']].astype(int)\n",
    "\n",
    "    unknown_death_day = df.iloc[-1,:7]\n",
    "    \n",
    "    df.drop(366,inplace=True)\n",
    "    \n",
    "    #if YTD:\n",
    "        #df = df.loc[df['2020'] != 0]\n",
    "        \n",
    "    df = df.drop('Månad',axis=1)\n",
    "    \n",
    "    known_death_day = df.iloc[:,:7].sum()\n",
    "    \n",
    "    year_fraction = len(df) / 366\n",
    "    \n",
    "    unknown_death_day[['2015','2016','2017','2018','2019','2015-2019']] = unknown_death_day[\n",
    "    ['2015','2016','2017','2018','2019','2015-2019']] * year_fraction\n",
    "    \n",
    "    dead_pct_per_day = df[['2015','2016','2017','2018','2019','2020','2015-2019']] / known_death_day\n",
    "    \n",
    "    all_deaths = df[['2015','2016','2017','2018','2019','2020','2015-2019']] + unknown_death_day * dead_pct_per_day\n",
    "    \n",
    "    if YTD:\n",
    "        index = pd.date_range('2020-01-01',periods=len(all_deaths))\n",
    "    else:\n",
    "        index = pd.date_range('2020-01-01','2020-12-31')\n",
    "        \n",
    "    \n",
    "        \n",
    "    all_deaths.index = index\n",
    "    \n",
    "    if YTD:\n",
    "        all_deaths = all_deaths.loc[all_deaths['2020'] != 0]\n",
    "    \n",
    "    return all_deaths\n",
    "    \n",
    "    "
   ]
  },
  {
   "cell_type": "code",
   "execution_count": 5,
   "metadata": {},
   "outputs": [],
   "source": [
    "def parse_scb_prel_2021(YTD=True):\n",
    "    \n",
    "    df = pd.read_csv('scb-dead_per_day.csv',sep=';',thousands=',',header=0,usecols=[1,2,3,4,5,6,7,8,9])\n",
    "    unknown_date = df.loc[366]\n",
    "    df = df.loc[:365]\n",
    "    \n",
    "    daily_ratio = df / df.sum()\n",
    "    \n",
    "    df = df + daily_ratio * unknown_date\n",
    "    df.index = pd.date_range('2020-01-01','2020-12-31')\n",
    "    return df"
   ]
  },
  {
   "cell_type": "code",
   "execution_count": 6,
   "metadata": {},
   "outputs": [],
   "source": [
    "df = parse_scb_prel_2021()\n",
    "\n"
   ]
  },
  {
   "cell_type": "code",
   "execution_count": 7,
   "metadata": {
    "scrolled": false
   },
   "outputs": [
    {
     "data": {
      "text/plain": [
       "2015         90907.0\n",
       "2016         90982.0\n",
       "2017         91972.0\n",
       "2018         92185.0\n",
       "2019         88766.0\n",
       "2020         97164.0\n",
       "2021           552.0\n",
       "2015-2019    91161.0\n",
       "2016-2020    92364.0\n",
       "dtype: float64"
      ]
     },
     "execution_count": 7,
     "metadata": {},
     "output_type": "execute_result"
    }
   ],
   "source": [
    "df.sum()"
   ]
  },
  {
   "cell_type": "code",
   "execution_count": 8,
   "metadata": {},
   "outputs": [],
   "source": [
    "df['2015-2018_avg'] = df.loc[:,'2015' : '2018'].mean(axis=1)"
   ]
  },
  {
   "cell_type": "code",
   "execution_count": 9,
   "metadata": {},
   "outputs": [
    {
     "data": {
      "text/html": [
       "<div>\n",
       "<style scoped>\n",
       "    .dataframe tbody tr th:only-of-type {\n",
       "        vertical-align: middle;\n",
       "    }\n",
       "\n",
       "    .dataframe tbody tr th {\n",
       "        vertical-align: top;\n",
       "    }\n",
       "\n",
       "    .dataframe thead th {\n",
       "        text-align: right;\n",
       "    }\n",
       "</style>\n",
       "<table border=\"1\" class=\"dataframe\">\n",
       "  <thead>\n",
       "    <tr style=\"text-align: right;\">\n",
       "      <th></th>\n",
       "      <th>2015</th>\n",
       "      <th>2016</th>\n",
       "      <th>2017</th>\n",
       "      <th>2018</th>\n",
       "      <th>2019</th>\n",
       "      <th>2020</th>\n",
       "      <th>2021</th>\n",
       "      <th>2015-2019</th>\n",
       "      <th>2016-2020</th>\n",
       "      <th>2015-2018_avg</th>\n",
       "    </tr>\n",
       "  </thead>\n",
       "  <tbody>\n",
       "    <tr>\n",
       "      <th>2020-01-01</th>\n",
       "      <td>298.148521</td>\n",
       "      <td>250.402611</td>\n",
       "      <td>347.423815</td>\n",
       "      <td>282.706698</td>\n",
       "      <td>309.109692</td>\n",
       "      <td>260.936721</td>\n",
       "      <td>96.574586</td>\n",
       "      <td>297.714505</td>\n",
       "      <td>290.488337</td>\n",
       "      <td>294.670411</td>\n",
       "    </tr>\n",
       "    <tr>\n",
       "      <th>2020-01-02</th>\n",
       "      <td>274.903043</td>\n",
       "      <td>277.998000</td>\n",
       "      <td>324.877137</td>\n",
       "      <td>320.743599</td>\n",
       "      <td>284.380917</td>\n",
       "      <td>310.247597</td>\n",
       "      <td>113.856354</td>\n",
       "      <td>296.691431</td>\n",
       "      <td>303.832324</td>\n",
       "      <td>299.630445</td>\n",
       "    </tr>\n",
       "    <tr>\n",
       "      <th>2020-01-03</th>\n",
       "      <td>283.999099</td>\n",
       "      <td>299.461081</td>\n",
       "      <td>317.703194</td>\n",
       "      <td>303.267185</td>\n",
       "      <td>279.229089</td>\n",
       "      <td>262.991341</td>\n",
       "      <td>109.790055</td>\n",
       "      <td>296.691431</td>\n",
       "      <td>292.541258</td>\n",
       "      <td>301.107640</td>\n",
       "    </tr>\n",
       "    <tr>\n",
       "      <th>2020-01-04</th>\n",
       "      <td>258.732276</td>\n",
       "      <td>265.733383</td>\n",
       "      <td>312.578949</td>\n",
       "      <td>292.986941</td>\n",
       "      <td>290.563111</td>\n",
       "      <td>281.482919</td>\n",
       "      <td>80.309392</td>\n",
       "      <td>284.414545</td>\n",
       "      <td>288.435416</td>\n",
       "      <td>282.507887</td>\n",
       "    </tr>\n",
       "    <tr>\n",
       "      <th>2020-01-05</th>\n",
       "      <td>270.860351</td>\n",
       "      <td>265.733383</td>\n",
       "      <td>311.554100</td>\n",
       "      <td>299.155087</td>\n",
       "      <td>283.350551</td>\n",
       "      <td>272.237130</td>\n",
       "      <td>58.961326</td>\n",
       "      <td>286.460692</td>\n",
       "      <td>286.382494</td>\n",
       "      <td>286.825730</td>\n",
       "    </tr>\n",
       "    <tr>\n",
       "      <th>...</th>\n",
       "      <td>...</td>\n",
       "      <td>...</td>\n",
       "      <td>...</td>\n",
       "      <td>...</td>\n",
       "      <td>...</td>\n",
       "      <td>...</td>\n",
       "      <td>...</td>\n",
       "      <td>...</td>\n",
       "      <td>...</td>\n",
       "      <td>...</td>\n",
       "    </tr>\n",
       "    <tr>\n",
       "      <th>2020-12-27</th>\n",
       "      <td>229.422760</td>\n",
       "      <td>254.490817</td>\n",
       "      <td>277.734082</td>\n",
       "      <td>246.725845</td>\n",
       "      <td>245.227023</td>\n",
       "      <td>315.384147</td>\n",
       "      <td>0.000000</td>\n",
       "      <td>250.653106</td>\n",
       "      <td>267.906205</td>\n",
       "      <td>252.093376</td>\n",
       "    </tr>\n",
       "    <tr>\n",
       "      <th>2020-12-28</th>\n",
       "      <td>276.924389</td>\n",
       "      <td>267.777486</td>\n",
       "      <td>279.783780</td>\n",
       "      <td>268.314357</td>\n",
       "      <td>221.528613</td>\n",
       "      <td>323.602626</td>\n",
       "      <td>0.000000</td>\n",
       "      <td>262.929993</td>\n",
       "      <td>272.012047</td>\n",
       "      <td>273.200003</td>\n",
       "    </tr>\n",
       "    <tr>\n",
       "      <th>2020-12-29</th>\n",
       "      <td>295.116502</td>\n",
       "      <td>280.042103</td>\n",
       "      <td>282.858327</td>\n",
       "      <td>270.370405</td>\n",
       "      <td>251.409216</td>\n",
       "      <td>223.953564</td>\n",
       "      <td>0.000000</td>\n",
       "      <td>276.229953</td>\n",
       "      <td>261.747441</td>\n",
       "      <td>282.096834</td>\n",
       "    </tr>\n",
       "    <tr>\n",
       "      <th>2020-12-30</th>\n",
       "      <td>286.020445</td>\n",
       "      <td>313.769802</td>\n",
       "      <td>281.833478</td>\n",
       "      <td>238.501650</td>\n",
       "      <td>232.862635</td>\n",
       "      <td>141.768770</td>\n",
       "      <td>0.000000</td>\n",
       "      <td>271.114584</td>\n",
       "      <td>242.244691</td>\n",
       "      <td>280.031344</td>\n",
       "    </tr>\n",
       "    <tr>\n",
       "      <th>2020-12-31</th>\n",
       "      <td>257.721603</td>\n",
       "      <td>295.372875</td>\n",
       "      <td>309.504402</td>\n",
       "      <td>265.230284</td>\n",
       "      <td>253.469948</td>\n",
       "      <td>147.932629</td>\n",
       "      <td>0.000000</td>\n",
       "      <td>276.229953</td>\n",
       "      <td>254.562217</td>\n",
       "      <td>281.957291</td>\n",
       "    </tr>\n",
       "  </tbody>\n",
       "</table>\n",
       "<p>366 rows × 10 columns</p>\n",
       "</div>"
      ],
      "text/plain": [
       "                  2015        2016        2017        2018        2019  \\\n",
       "2020-01-01  298.148521  250.402611  347.423815  282.706698  309.109692   \n",
       "2020-01-02  274.903043  277.998000  324.877137  320.743599  284.380917   \n",
       "2020-01-03  283.999099  299.461081  317.703194  303.267185  279.229089   \n",
       "2020-01-04  258.732276  265.733383  312.578949  292.986941  290.563111   \n",
       "2020-01-05  270.860351  265.733383  311.554100  299.155087  283.350551   \n",
       "...                ...         ...         ...         ...         ...   \n",
       "2020-12-27  229.422760  254.490817  277.734082  246.725845  245.227023   \n",
       "2020-12-28  276.924389  267.777486  279.783780  268.314357  221.528613   \n",
       "2020-12-29  295.116502  280.042103  282.858327  270.370405  251.409216   \n",
       "2020-12-30  286.020445  313.769802  281.833478  238.501650  232.862635   \n",
       "2020-12-31  257.721603  295.372875  309.504402  265.230284  253.469948   \n",
       "\n",
       "                  2020        2021   2015-2019   2016-2020  2015-2018_avg  \n",
       "2020-01-01  260.936721   96.574586  297.714505  290.488337     294.670411  \n",
       "2020-01-02  310.247597  113.856354  296.691431  303.832324     299.630445  \n",
       "2020-01-03  262.991341  109.790055  296.691431  292.541258     301.107640  \n",
       "2020-01-04  281.482919   80.309392  284.414545  288.435416     282.507887  \n",
       "2020-01-05  272.237130   58.961326  286.460692  286.382494     286.825730  \n",
       "...                ...         ...         ...         ...            ...  \n",
       "2020-12-27  315.384147    0.000000  250.653106  267.906205     252.093376  \n",
       "2020-12-28  323.602626    0.000000  262.929993  272.012047     273.200003  \n",
       "2020-12-29  223.953564    0.000000  276.229953  261.747441     282.096834  \n",
       "2020-12-30  141.768770    0.000000  271.114584  242.244691     280.031344  \n",
       "2020-12-31  147.932629    0.000000  276.229953  254.562217     281.957291  \n",
       "\n",
       "[366 rows x 10 columns]"
      ]
     },
     "execution_count": 9,
     "metadata": {},
     "output_type": "execute_result"
    }
   ],
   "source": [
    "#### PARAM ##### \n",
    "last_good_date = '2020-12-31'\n",
    "df = df.loc[:last_good_date].copy()\n",
    "df"
   ]
  },
  {
   "cell_type": "code",
   "execution_count": 10,
   "metadata": {},
   "outputs": [
    {
     "data": {
      "text/plain": [
       "2015             90907.0\n",
       "2016             90982.0\n",
       "2017             91972.0\n",
       "2018             92185.0\n",
       "2019             88766.0\n",
       "2020             97164.0\n",
       "2021               552.0\n",
       "2015-2019        91161.0\n",
       "2016-2020        92364.0\n",
       "2015-2018_avg    91511.5\n",
       "dtype: float64"
      ]
     },
     "execution_count": 10,
     "metadata": {},
     "output_type": "execute_result"
    }
   ],
   "source": [
    "df.sum()"
   ]
  },
  {
   "cell_type": "code",
   "execution_count": 11,
   "metadata": {},
   "outputs": [
    {
     "data": {
      "text/html": [
       "<div>\n",
       "<style scoped>\n",
       "    .dataframe tbody tr th:only-of-type {\n",
       "        vertical-align: middle;\n",
       "    }\n",
       "\n",
       "    .dataframe tbody tr th {\n",
       "        vertical-align: top;\n",
       "    }\n",
       "\n",
       "    .dataframe thead th {\n",
       "        text-align: right;\n",
       "    }\n",
       "</style>\n",
       "<table border=\"1\" class=\"dataframe\">\n",
       "  <thead>\n",
       "    <tr style=\"text-align: right;\">\n",
       "      <th></th>\n",
       "      <th>2015</th>\n",
       "      <th>2016</th>\n",
       "      <th>2017</th>\n",
       "      <th>2018</th>\n",
       "      <th>2019</th>\n",
       "      <th>2020</th>\n",
       "      <th>2015-2018_avg</th>\n",
       "      <th>excess</th>\n",
       "    </tr>\n",
       "  </thead>\n",
       "  <tbody>\n",
       "    <tr>\n",
       "      <th>2020-01-01</th>\n",
       "      <td>298.148521</td>\n",
       "      <td>250.402611</td>\n",
       "      <td>347.423815</td>\n",
       "      <td>282.706698</td>\n",
       "      <td>309.109692</td>\n",
       "      <td>260.936721</td>\n",
       "      <td>294.670411</td>\n",
       "      <td>-33.733690</td>\n",
       "    </tr>\n",
       "    <tr>\n",
       "      <th>2020-01-02</th>\n",
       "      <td>274.903043</td>\n",
       "      <td>277.998000</td>\n",
       "      <td>324.877137</td>\n",
       "      <td>320.743599</td>\n",
       "      <td>284.380917</td>\n",
       "      <td>310.247597</td>\n",
       "      <td>299.630445</td>\n",
       "      <td>10.617153</td>\n",
       "    </tr>\n",
       "    <tr>\n",
       "      <th>2020-01-03</th>\n",
       "      <td>283.999099</td>\n",
       "      <td>299.461081</td>\n",
       "      <td>317.703194</td>\n",
       "      <td>303.267185</td>\n",
       "      <td>279.229089</td>\n",
       "      <td>262.991341</td>\n",
       "      <td>301.107640</td>\n",
       "      <td>-38.116299</td>\n",
       "    </tr>\n",
       "    <tr>\n",
       "      <th>2020-01-04</th>\n",
       "      <td>258.732276</td>\n",
       "      <td>265.733383</td>\n",
       "      <td>312.578949</td>\n",
       "      <td>292.986941</td>\n",
       "      <td>290.563111</td>\n",
       "      <td>281.482919</td>\n",
       "      <td>282.507887</td>\n",
       "      <td>-1.024968</td>\n",
       "    </tr>\n",
       "    <tr>\n",
       "      <th>2020-01-05</th>\n",
       "      <td>270.860351</td>\n",
       "      <td>265.733383</td>\n",
       "      <td>311.554100</td>\n",
       "      <td>299.155087</td>\n",
       "      <td>283.350551</td>\n",
       "      <td>272.237130</td>\n",
       "      <td>286.825730</td>\n",
       "      <td>-14.588600</td>\n",
       "    </tr>\n",
       "    <tr>\n",
       "      <th>...</th>\n",
       "      <td>...</td>\n",
       "      <td>...</td>\n",
       "      <td>...</td>\n",
       "      <td>...</td>\n",
       "      <td>...</td>\n",
       "      <td>...</td>\n",
       "      <td>...</td>\n",
       "      <td>...</td>\n",
       "    </tr>\n",
       "    <tr>\n",
       "      <th>2020-12-27</th>\n",
       "      <td>229.422760</td>\n",
       "      <td>254.490817</td>\n",
       "      <td>277.734082</td>\n",
       "      <td>246.725845</td>\n",
       "      <td>245.227023</td>\n",
       "      <td>315.384147</td>\n",
       "      <td>252.093376</td>\n",
       "      <td>63.290771</td>\n",
       "    </tr>\n",
       "    <tr>\n",
       "      <th>2020-12-28</th>\n",
       "      <td>276.924389</td>\n",
       "      <td>267.777486</td>\n",
       "      <td>279.783780</td>\n",
       "      <td>268.314357</td>\n",
       "      <td>221.528613</td>\n",
       "      <td>323.602626</td>\n",
       "      <td>273.200003</td>\n",
       "      <td>50.402623</td>\n",
       "    </tr>\n",
       "    <tr>\n",
       "      <th>2020-12-29</th>\n",
       "      <td>295.116502</td>\n",
       "      <td>280.042103</td>\n",
       "      <td>282.858327</td>\n",
       "      <td>270.370405</td>\n",
       "      <td>251.409216</td>\n",
       "      <td>223.953564</td>\n",
       "      <td>282.096834</td>\n",
       "      <td>-58.143271</td>\n",
       "    </tr>\n",
       "    <tr>\n",
       "      <th>2020-12-30</th>\n",
       "      <td>286.020445</td>\n",
       "      <td>313.769802</td>\n",
       "      <td>281.833478</td>\n",
       "      <td>238.501650</td>\n",
       "      <td>232.862635</td>\n",
       "      <td>141.768770</td>\n",
       "      <td>280.031344</td>\n",
       "      <td>-138.262574</td>\n",
       "    </tr>\n",
       "    <tr>\n",
       "      <th>2020-12-31</th>\n",
       "      <td>257.721603</td>\n",
       "      <td>295.372875</td>\n",
       "      <td>309.504402</td>\n",
       "      <td>265.230284</td>\n",
       "      <td>253.469948</td>\n",
       "      <td>147.932629</td>\n",
       "      <td>281.957291</td>\n",
       "      <td>-134.024662</td>\n",
       "    </tr>\n",
       "  </tbody>\n",
       "</table>\n",
       "<p>366 rows × 8 columns</p>\n",
       "</div>"
      ],
      "text/plain": [
       "                  2015        2016        2017        2018        2019  \\\n",
       "2020-01-01  298.148521  250.402611  347.423815  282.706698  309.109692   \n",
       "2020-01-02  274.903043  277.998000  324.877137  320.743599  284.380917   \n",
       "2020-01-03  283.999099  299.461081  317.703194  303.267185  279.229089   \n",
       "2020-01-04  258.732276  265.733383  312.578949  292.986941  290.563111   \n",
       "2020-01-05  270.860351  265.733383  311.554100  299.155087  283.350551   \n",
       "...                ...         ...         ...         ...         ...   \n",
       "2020-12-27  229.422760  254.490817  277.734082  246.725845  245.227023   \n",
       "2020-12-28  276.924389  267.777486  279.783780  268.314357  221.528613   \n",
       "2020-12-29  295.116502  280.042103  282.858327  270.370405  251.409216   \n",
       "2020-12-30  286.020445  313.769802  281.833478  238.501650  232.862635   \n",
       "2020-12-31  257.721603  295.372875  309.504402  265.230284  253.469948   \n",
       "\n",
       "                  2020  2015-2018_avg      excess  \n",
       "2020-01-01  260.936721     294.670411  -33.733690  \n",
       "2020-01-02  310.247597     299.630445   10.617153  \n",
       "2020-01-03  262.991341     301.107640  -38.116299  \n",
       "2020-01-04  281.482919     282.507887   -1.024968  \n",
       "2020-01-05  272.237130     286.825730  -14.588600  \n",
       "...                ...            ...         ...  \n",
       "2020-12-27  315.384147     252.093376   63.290771  \n",
       "2020-12-28  323.602626     273.200003   50.402623  \n",
       "2020-12-29  223.953564     282.096834  -58.143271  \n",
       "2020-12-30  141.768770     280.031344 -138.262574  \n",
       "2020-12-31  147.932629     281.957291 -134.024662  \n",
       "\n",
       "[366 rows x 8 columns]"
      ]
     },
     "execution_count": 11,
     "metadata": {},
     "output_type": "execute_result"
    }
   ],
   "source": [
    "df['excess'] = df['2020'] - df['2015-2018_avg']\n",
    "df.drop(['2021','2016-2020','2015-2019'],axis=1,inplace=True)\n",
    "df"
   ]
  },
  {
   "cell_type": "code",
   "execution_count": 12,
   "metadata": {},
   "outputs": [
    {
     "data": {
      "text/plain": [
       "2015             90907.0\n",
       "2016             90982.0\n",
       "2017             91972.0\n",
       "2018             92185.0\n",
       "2019             88766.0\n",
       "2020             97164.0\n",
       "2015-2018_avg    91511.5\n",
       "excess            5652.5\n",
       "dtype: float64"
      ]
     },
     "execution_count": 12,
     "metadata": {},
     "output_type": "execute_result"
    }
   ],
   "source": [
    "df.sum()"
   ]
  },
  {
   "cell_type": "code",
   "execution_count": 13,
   "metadata": {},
   "outputs": [
    {
     "data": {
      "text/plain": [
       "year\n",
       "2015              9838418.0\n",
       "2016              9967637.0\n",
       "2017             10104036.0\n",
       "2018             10215309.0\n",
       "2019             10319473.0\n",
       "2020             10378483.0\n",
       "excess           10378483.0\n",
       "2015-2018_avg    10031350.0\n",
       "Name: pop, dtype: float64"
      ]
     },
     "execution_count": 13,
     "metadata": {},
     "output_type": "execute_result"
    }
   ],
   "source": [
    "pop = pd.read_pickle('pop_2015_2020.pkl')\n",
    "pop.loc['excess'] = pop.loc['2020']\n",
    "pop.loc['2015-2018_avg'] = pop.loc['2015' : '2018'].mean()\n",
    "\n",
    "### setting the baseline pop to 2020 yields correct erroneous excess !!! #\n",
    "#pop.loc['2015-2018_avg'] = pop.loc['2020']\n",
    "###\n",
    "\n",
    "pop"
   ]
  },
  {
   "cell_type": "code",
   "execution_count": 14,
   "metadata": {},
   "outputs": [
    {
     "data": {
      "text/html": [
       "<div>\n",
       "<style scoped>\n",
       "    .dataframe tbody tr th:only-of-type {\n",
       "        vertical-align: middle;\n",
       "    }\n",
       "\n",
       "    .dataframe tbody tr th {\n",
       "        vertical-align: top;\n",
       "    }\n",
       "\n",
       "    .dataframe thead th {\n",
       "        text-align: right;\n",
       "    }\n",
       "</style>\n",
       "<table border=\"1\" class=\"dataframe\">\n",
       "  <thead>\n",
       "    <tr style=\"text-align: right;\">\n",
       "      <th></th>\n",
       "      <th>2015</th>\n",
       "      <th>2015-2018_avg</th>\n",
       "      <th>2016</th>\n",
       "      <th>2017</th>\n",
       "      <th>2018</th>\n",
       "      <th>2019</th>\n",
       "      <th>2020</th>\n",
       "      <th>excess</th>\n",
       "      <th>wrong_excess</th>\n",
       "    </tr>\n",
       "  </thead>\n",
       "  <tbody>\n",
       "    <tr>\n",
       "      <th>2020-01-01</th>\n",
       "      <td>30.304519</td>\n",
       "      <td>29.374951</td>\n",
       "      <td>25.121562</td>\n",
       "      <td>34.384657</td>\n",
       "      <td>27.674806</td>\n",
       "      <td>29.954019</td>\n",
       "      <td>25.142087</td>\n",
       "      <td>-3.250349</td>\n",
       "      <td>-4.232864</td>\n",
       "    </tr>\n",
       "    <tr>\n",
       "      <th>2020-01-02</th>\n",
       "      <td>27.941793</td>\n",
       "      <td>29.869404</td>\n",
       "      <td>27.890061</td>\n",
       "      <td>32.153205</td>\n",
       "      <td>31.398326</td>\n",
       "      <td>27.557698</td>\n",
       "      <td>29.893347</td>\n",
       "      <td>1.022997</td>\n",
       "      <td>0.023943</td>\n",
       "    </tr>\n",
       "    <tr>\n",
       "      <th>2020-01-03</th>\n",
       "      <td>28.866338</td>\n",
       "      <td>30.016662</td>\n",
       "      <td>30.043337</td>\n",
       "      <td>31.443197</td>\n",
       "      <td>29.687519</td>\n",
       "      <td>27.058464</td>\n",
       "      <td>25.340056</td>\n",
       "      <td>-3.672627</td>\n",
       "      <td>-4.676606</td>\n",
       "    </tr>\n",
       "    <tr>\n",
       "      <th>2020-01-04</th>\n",
       "      <td>26.298158</td>\n",
       "      <td>28.162499</td>\n",
       "      <td>26.659617</td>\n",
       "      <td>30.936049</td>\n",
       "      <td>28.681163</td>\n",
       "      <td>28.156778</td>\n",
       "      <td>27.121779</td>\n",
       "      <td>-0.098759</td>\n",
       "      <td>-1.040721</td>\n",
       "    </tr>\n",
       "    <tr>\n",
       "      <th>2020-01-05</th>\n",
       "      <td>27.530885</td>\n",
       "      <td>28.592934</td>\n",
       "      <td>26.659617</td>\n",
       "      <td>30.834619</td>\n",
       "      <td>29.284977</td>\n",
       "      <td>27.457851</td>\n",
       "      <td>26.230917</td>\n",
       "      <td>-1.405658</td>\n",
       "      <td>-2.362017</td>\n",
       "    </tr>\n",
       "    <tr>\n",
       "      <th>...</th>\n",
       "      <td>...</td>\n",
       "      <td>...</td>\n",
       "      <td>...</td>\n",
       "      <td>...</td>\n",
       "      <td>...</td>\n",
       "      <td>...</td>\n",
       "      <td>...</td>\n",
       "      <td>...</td>\n",
       "      <td>...</td>\n",
       "    </tr>\n",
       "    <tr>\n",
       "      <th>2020-12-27</th>\n",
       "      <td>23.319070</td>\n",
       "      <td>25.130553</td>\n",
       "      <td>25.531710</td>\n",
       "      <td>27.487440</td>\n",
       "      <td>24.152558</td>\n",
       "      <td>23.763522</td>\n",
       "      <td>30.388270</td>\n",
       "      <td>6.098268</td>\n",
       "      <td>5.257717</td>\n",
       "    </tr>\n",
       "    <tr>\n",
       "      <th>2020-12-28</th>\n",
       "      <td>28.147248</td>\n",
       "      <td>27.234620</td>\n",
       "      <td>26.864691</td>\n",
       "      <td>27.690299</td>\n",
       "      <td>26.265907</td>\n",
       "      <td>21.467047</td>\n",
       "      <td>31.180147</td>\n",
       "      <td>4.856454</td>\n",
       "      <td>3.945527</td>\n",
       "    </tr>\n",
       "    <tr>\n",
       "      <th>2020-12-29</th>\n",
       "      <td>29.996337</td>\n",
       "      <td>28.121522</td>\n",
       "      <td>28.095135</td>\n",
       "      <td>27.994588</td>\n",
       "      <td>26.467178</td>\n",
       "      <td>24.362602</td>\n",
       "      <td>21.578641</td>\n",
       "      <td>-5.602290</td>\n",
       "      <td>-6.542881</td>\n",
       "    </tr>\n",
       "    <tr>\n",
       "      <th>2020-12-30</th>\n",
       "      <td>29.071792</td>\n",
       "      <td>27.915619</td>\n",
       "      <td>31.478855</td>\n",
       "      <td>27.893159</td>\n",
       "      <td>23.347473</td>\n",
       "      <td>22.565361</td>\n",
       "      <td>13.659874</td>\n",
       "      <td>-13.322041</td>\n",
       "      <td>-14.255745</td>\n",
       "    </tr>\n",
       "    <tr>\n",
       "      <th>2020-12-31</th>\n",
       "      <td>26.195431</td>\n",
       "      <td>28.107612</td>\n",
       "      <td>29.633189</td>\n",
       "      <td>30.631760</td>\n",
       "      <td>25.964000</td>\n",
       "      <td>24.562296</td>\n",
       "      <td>14.253782</td>\n",
       "      <td>-12.913704</td>\n",
       "      <td>-13.853830</td>\n",
       "    </tr>\n",
       "  </tbody>\n",
       "</table>\n",
       "<p>366 rows × 9 columns</p>\n",
       "</div>"
      ],
      "text/plain": [
       "                 2015  2015-2018_avg       2016       2017       2018  \\\n",
       "2020-01-01  30.304519      29.374951  25.121562  34.384657  27.674806   \n",
       "2020-01-02  27.941793      29.869404  27.890061  32.153205  31.398326   \n",
       "2020-01-03  28.866338      30.016662  30.043337  31.443197  29.687519   \n",
       "2020-01-04  26.298158      28.162499  26.659617  30.936049  28.681163   \n",
       "2020-01-05  27.530885      28.592934  26.659617  30.834619  29.284977   \n",
       "...               ...            ...        ...        ...        ...   \n",
       "2020-12-27  23.319070      25.130553  25.531710  27.487440  24.152558   \n",
       "2020-12-28  28.147248      27.234620  26.864691  27.690299  26.265907   \n",
       "2020-12-29  29.996337      28.121522  28.095135  27.994588  26.467178   \n",
       "2020-12-30  29.071792      27.915619  31.478855  27.893159  23.347473   \n",
       "2020-12-31  26.195431      28.107612  29.633189  30.631760  25.964000   \n",
       "\n",
       "                 2019       2020     excess  wrong_excess  \n",
       "2020-01-01  29.954019  25.142087  -3.250349     -4.232864  \n",
       "2020-01-02  27.557698  29.893347   1.022997      0.023943  \n",
       "2020-01-03  27.058464  25.340056  -3.672627     -4.676606  \n",
       "2020-01-04  28.156778  27.121779  -0.098759     -1.040721  \n",
       "2020-01-05  27.457851  26.230917  -1.405658     -2.362017  \n",
       "...               ...        ...        ...           ...  \n",
       "2020-12-27  23.763522  30.388270   6.098268      5.257717  \n",
       "2020-12-28  21.467047  31.180147   4.856454      3.945527  \n",
       "2020-12-29  24.362602  21.578641  -5.602290     -6.542881  \n",
       "2020-12-30  22.565361  13.659874 -13.322041    -14.255745  \n",
       "2020-12-31  24.562296  14.253782 -12.913704    -13.853830  \n",
       "\n",
       "[366 rows x 9 columns]"
      ]
     },
     "execution_count": 14,
     "metadata": {},
     "output_type": "execute_result"
    }
   ],
   "source": [
    "## for excess to be correct, the diff must be obtained from dividing the abs diff with the pop ! ##\n",
    "df_per_m = df / (pop / 1e6 )\n",
    "\n",
    "# taking the diff after having made fractions yields wrong result! b/c populations are different!\n",
    "\n",
    "# that is: df_per_m['excess'] which gives correct result is divided by population 2020, \n",
    "# while df_per_m['wrong_excess'] is calculated by diff 2020 - baseline, where the deaths are \n",
    "# already divided by population 2015-2018_avg, a smaller population which results in larger abs numbers. \n",
    "\n",
    "### BOTTOM LINE : dont add/subtract fractions where the denominator is different! ###\n",
    "\n",
    "df_per_m['wrong_excess'] = df_per_m['2020'] - df_per_m['2015-2018_avg']\n",
    "\n",
    "df_per_m"
   ]
  },
  {
   "cell_type": "code",
   "execution_count": 15,
   "metadata": {},
   "outputs": [
    {
     "data": {
      "text/plain": [
       "239.51107035794325"
      ]
     },
     "execution_count": 15,
     "metadata": {},
     "output_type": "execute_result"
    }
   ],
   "source": [
    "# if you subtract fractions youll get wrong result! #\n",
    "per_m_diff = df_per_m['2020'] - df_per_m['2015-2018_avg']\n",
    "per_m_diff.sum()"
   ]
  },
  {
   "cell_type": "code",
   "execution_count": 16,
   "metadata": {},
   "outputs": [
    {
     "data": {
      "text/plain": [
       "2015             9240.001797\n",
       "2015-2018_avg    9122.550803\n",
       "2016             9127.740105\n",
       "2017             9102.501218\n",
       "2018             9024.200834\n",
       "2019             8601.795848\n",
       "2020             9362.061874\n",
       "excess            544.636437\n",
       "wrong_excess      239.511070\n",
       "dtype: float64"
      ]
     },
     "execution_count": 16,
     "metadata": {},
     "output_type": "execute_result"
    }
   ],
   "source": [
    "df_per_m.sum()"
   ]
  },
  {
   "cell_type": "code",
   "execution_count": 17,
   "metadata": {},
   "outputs": [
    {
     "data": {
      "text/plain": [
       "<AxesSubplot:>"
      ]
     },
     "execution_count": 17,
     "metadata": {},
     "output_type": "execute_result"
    },
    {
     "data": {
      "image/png": "[encoded data removed]",
      "text/plain": [
       "<Figure size 432x288 with 1 Axes>"
      ]
     },
     "metadata": {},
     "output_type": "display_data"
    }
   ],
   "source": [
    "df_per_m.cumsum().plot(y=['excess','wrong_excess'])"
   ]
  },
  {
   "cell_type": "code",
   "execution_count": 18,
   "metadata": {},
   "outputs": [
    {
     "data": {
      "text/plain": [
       "<AxesSubplot:>"
      ]
     },
     "execution_count": 18,
     "metadata": {},
     "output_type": "execute_result"
    },
    {
     "data": {
      "image/png": "[encoded data removed]",
      "text/plain": [
       "<Figure size 432x288 with 1 Axes>"
      ]
     },
     "metadata": {},
     "output_type": "display_data"
    }
   ],
   "source": [
    "df['excess'].cumsum().plot()"
   ]
  },
  {
   "cell_type": "code",
   "execution_count": 19,
   "metadata": {},
   "outputs": [
    {
     "data": {
      "text/plain": [
       "2015             0.009240\n",
       "2015-2018_avg    0.009123\n",
       "2016             0.009128\n",
       "2017             0.009103\n",
       "2018             0.009024\n",
       "2019             0.008602\n",
       "2020             0.009362\n",
       "excess           0.000545\n",
       "dtype: float64"
      ]
     },
     "execution_count": 19,
     "metadata": {},
     "output_type": "execute_result"
    }
   ],
   "source": [
    "df.sum() / pop"
   ]
  },
  {
   "cell_type": "code",
   "execution_count": 20,
   "metadata": {},
   "outputs": [
    {
     "data": {
      "text/plain": [
       "2020-01-01     -3.250349\n",
       "2020-01-02     -2.227352\n",
       "2020-01-03     -5.899979\n",
       "2020-01-04     -5.998738\n",
       "2020-01-05     -7.404397\n",
       "                 ...    \n",
       "2020-12-27    571.618018\n",
       "2020-12-28    576.474472\n",
       "2020-12-29    570.872182\n",
       "2020-12-30    557.550141\n",
       "2020-12-31    544.636437\n",
       "Freq: D, Name: excess, Length: 366, dtype: float64"
      ]
     },
     "execution_count": 20,
     "metadata": {},
     "output_type": "execute_result"
    }
   ],
   "source": [
    "(df['excess'] / (pop.loc['2020'] / 1e6)).cumsum()"
   ]
  },
  {
   "cell_type": "code",
   "execution_count": 21,
   "metadata": {},
   "outputs": [
    {
     "data": {
      "text/plain": [
       "5652.499999999913"
      ]
     },
     "execution_count": 21,
     "metadata": {},
     "output_type": "execute_result"
    }
   ],
   "source": [
    "df.sum().loc['2020'] - df.sum().loc['2015-2018_avg']"
   ]
  },
  {
   "cell_type": "code",
   "execution_count": 22,
   "metadata": {},
   "outputs": [
    {
     "data": {
      "text/plain": [
       "2015             90907.0\n",
       "2016             90982.0\n",
       "2017             91972.0\n",
       "2018             92185.0\n",
       "2019             88766.0\n",
       "2020             97164.0\n",
       "2015-2018_avg    91511.5\n",
       "excess            5652.5\n",
       "dtype: float64"
      ]
     },
     "execution_count": 22,
     "metadata": {},
     "output_type": "execute_result"
    }
   ],
   "source": [
    "df.sum()"
   ]
  },
  {
   "cell_type": "code",
   "execution_count": 23,
   "metadata": {},
   "outputs": [
    {
     "data": {
      "text/plain": [
       "347133.0"
      ]
     },
     "execution_count": 23,
     "metadata": {},
     "output_type": "execute_result"
    }
   ],
   "source": [
    "pop_diff = pop.loc['2020'] - pop.loc['2015-2018_avg']\n",
    "pop_diff"
   ]
  },
  {
   "cell_type": "code",
   "execution_count": 24,
   "metadata": {},
   "outputs": [
    {
     "data": {
      "text/plain": [
       "5652.499999999913"
      ]
     },
     "execution_count": 24,
     "metadata": {},
     "output_type": "execute_result"
    }
   ],
   "source": [
    "dead_diff = df.sum().loc['2020'] - df.sum().loc['2015-2018_avg']\n",
    "dead_diff"
   ]
  },
  {
   "cell_type": "code",
   "execution_count": 25,
   "metadata": {},
   "outputs": [
    {
     "data": {
      "text/plain": [
       "544.6364367509118"
      ]
     },
     "execution_count": 25,
     "metadata": {},
     "output_type": "execute_result"
    }
   ],
   "source": [
    "dead_diff / (pop.loc['2020'] / 1e6)"
   ]
  },
  {
   "cell_type": "code",
   "execution_count": 26,
   "metadata": {},
   "outputs": [
    {
     "data": {
      "text/plain": [
       "2015             9240.001797\n",
       "2015-2018_avg    9122.550803\n",
       "2016             9127.740105\n",
       "2017             9102.501218\n",
       "2018             9024.200834\n",
       "2019             8601.795848\n",
       "2020             9362.061874\n",
       "excess            544.636437\n",
       "wrong_excess      239.511070\n",
       "dtype: float64"
      ]
     },
     "execution_count": 26,
     "metadata": {},
     "output_type": "execute_result"
    }
   ],
   "source": [
    "df_per_m.sum()"
   ]
  },
  {
   "cell_type": "code",
   "execution_count": 27,
   "metadata": {},
   "outputs": [
    {
     "name": "stdout",
     "output_type": "stream",
     "text": [
      "9122.550803231865\n",
      "9362.061873589817\n"
     ]
    }
   ],
   "source": [
    "dead_per_m_2020 = df_per_m.sum().loc['2020']\n",
    "dead_per_m_15_18 = df_per_m.sum().loc['2015-2018_avg']\n",
    "\n",
    "print (dead_per_m_15_18)\n",
    "print (dead_per_m_2020)"
   ]
  },
  {
   "cell_type": "code",
   "execution_count": 28,
   "metadata": {},
   "outputs": [
    {
     "data": {
      "text/plain": [
       "239.51107035795212"
      ]
     },
     "execution_count": 28,
     "metadata": {},
     "output_type": "execute_result"
    }
   ],
   "source": [
    "# diff in cum mortality expressed in millions\n",
    "dead_per_m_2020 - dead_per_m_15_18"
   ]
  },
  {
   "cell_type": "code",
   "execution_count": 29,
   "metadata": {},
   "outputs": [
    {
     "data": {
      "text/plain": [
       "0.0002395110703579343"
      ]
     },
     "execution_count": 29,
     "metadata": {},
     "output_type": "execute_result"
    }
   ],
   "source": [
    "# diff in mortality\n",
    "mort_diff = ((df.sum() / pop).loc['2020'] - (df.sum() / pop).loc['2015-2018_avg']) \n",
    "mort_diff"
   ]
  },
  {
   "cell_type": "code",
   "execution_count": 30,
   "metadata": {},
   "outputs": [
    {
     "data": {
      "text/plain": [
       "2015             0.009240\n",
       "2015-2018_avg    0.009123\n",
       "2016             0.009128\n",
       "2017             0.009103\n",
       "2018             0.009024\n",
       "2019             0.008602\n",
       "2020             0.009362\n",
       "excess           0.000545\n",
       "wrong_excess     0.000240\n",
       "dtype: float64"
      ]
     },
     "execution_count": 30,
     "metadata": {},
     "output_type": "execute_result"
    }
   ],
   "source": [
    "mortality = df_per_m.sum() / 1e6\n",
    "mortality\n"
   ]
  },
  {
   "cell_type": "code",
   "execution_count": 31,
   "metadata": {},
   "outputs": [
    {
     "name": "stdout",
     "output_type": "stream",
     "text": [
      "97164.00000000006\n",
      "91511.49999999997\n",
      "5652.500000000087\n"
     ]
    }
   ],
   "source": [
    "dead_2020 = mortality.loc['2020'] * pop.loc['2020']\n",
    "dead_15_18 = mortality.loc['2015-2018_avg'] * pop.loc['2015-2018_avg']\n",
    "\n",
    "print (dead_2020)\n",
    "print (dead_15_18)\n",
    "\n",
    "print (dead_2020 - dead_15_18)"
   ]
  },
  {
   "cell_type": "code",
   "execution_count": 32,
   "metadata": {},
   "outputs": [
    {
     "data": {
      "text/plain": [
       "year\n",
       "2015              9838418.0\n",
       "2016              9967637.0\n",
       "2017             10104036.0\n",
       "2018             10215309.0\n",
       "2019             10319473.0\n",
       "2020             10378483.0\n",
       "excess           10378483.0\n",
       "2015-2018_avg    10031350.0\n",
       "Name: pop, dtype: float64"
      ]
     },
     "execution_count": 32,
     "metadata": {},
     "output_type": "execute_result"
    }
   ],
   "source": [
    "pop"
   ]
  },
  {
   "cell_type": "code",
   "execution_count": 33,
   "metadata": {},
   "outputs": [
    {
     "data": {
      "text/plain": [
       "2015             90907.0\n",
       "2016             90982.0\n",
       "2017             91972.0\n",
       "2018             92185.0\n",
       "2019             88766.0\n",
       "2020             97164.0\n",
       "2015-2018_avg    91511.5\n",
       "excess            5652.5\n",
       "dtype: float64"
      ]
     },
     "execution_count": 33,
     "metadata": {},
     "output_type": "execute_result"
    }
   ],
   "source": [
    "abs_totals = df.sum()\n",
    "abs_totals"
   ]
  },
  {
   "cell_type": "code",
   "execution_count": 34,
   "metadata": {},
   "outputs": [
    {
     "data": {
      "text/plain": [
       "2015             0.009240\n",
       "2015-2018_avg    0.009123\n",
       "2016             0.009128\n",
       "2017             0.009103\n",
       "2018             0.009024\n",
       "2019             0.008602\n",
       "2020             0.009362\n",
       "excess           0.000545\n",
       "dtype: float64"
      ]
     },
     "execution_count": 34,
     "metadata": {},
     "output_type": "execute_result"
    }
   ],
   "source": [
    "mortality = abs_totals / pop\n",
    "mortality"
   ]
  },
  {
   "cell_type": "code",
   "execution_count": 35,
   "metadata": {},
   "outputs": [
    {
     "data": {
      "text/plain": [
       "0.00054463643675092"
      ]
     },
     "execution_count": 35,
     "metadata": {},
     "output_type": "execute_result"
    }
   ],
   "source": [
    "mortality.loc['excess']"
   ]
  },
  {
   "cell_type": "code",
   "execution_count": 36,
   "metadata": {},
   "outputs": [
    {
     "data": {
      "text/plain": [
       "2485.761572021625"
      ]
     },
     "execution_count": 36,
     "metadata": {},
     "output_type": "execute_result"
    }
   ],
   "source": [
    "mort_diff * pop.loc['2020']"
   ]
  },
  {
   "cell_type": "code",
   "execution_count": 37,
   "metadata": {},
   "outputs": [
    {
     "data": {
      "text/plain": [
       "2015             90907.0\n",
       "2015-2018_avg    91511.5\n",
       "2016             90982.0\n",
       "2017             91972.0\n",
       "2018             92185.0\n",
       "2019             88766.0\n",
       "2020             97164.0\n",
       "excess            5652.5\n",
       "dtype: float64"
      ]
     },
     "execution_count": 37,
     "metadata": {},
     "output_type": "execute_result"
    }
   ],
   "source": [
    "calc_deaths = mortality * pop\n",
    "calc_deaths"
   ]
  },
  {
   "cell_type": "code",
   "execution_count": 38,
   "metadata": {},
   "outputs": [
    {
     "data": {
      "text/plain": [
       "5652.499999999913"
      ]
     },
     "execution_count": 38,
     "metadata": {},
     "output_type": "execute_result"
    }
   ],
   "source": [
    "calc_diff = calc_deaths.loc['2020'] - calc_deaths.loc['2015-2018_avg']\n",
    "calc_diff"
   ]
  },
  {
   "cell_type": "code",
   "execution_count": 39,
   "metadata": {},
   "outputs": [
    {
     "data": {
      "text/plain": [
       "2015             0.009240\n",
       "2015-2018_avg    0.009123\n",
       "2016             0.009128\n",
       "2017             0.009103\n",
       "2018             0.009024\n",
       "2019             0.008602\n",
       "2020             0.009362\n",
       "excess           0.000545\n",
       "dtype: float64"
      ]
     },
     "execution_count": 39,
     "metadata": {},
     "output_type": "execute_result"
    }
   ],
   "source": [
    "mortality"
   ]
  },
  {
   "cell_type": "code",
   "execution_count": 40,
   "metadata": {},
   "outputs": [
    {
     "data": {
      "text/plain": [
       "2015             95897.201571\n",
       "2016             94732.095511\n",
       "2017             94470.154152\n",
       "2018             93657.514947\n",
       "2019             89273.591973\n",
       "2015-2018_avg    94678.238428\n",
       "2020             97164.000000\n",
       "excess            5652.500000\n",
       "dtype: float64"
      ]
     },
     "execution_count": 40,
     "metadata": {},
     "output_type": "execute_result"
    }
   ],
   "source": [
    "pop_adj_deaths = mortality * pop.loc['2020']\n",
    "\n",
    "pop_adj_deaths.index = pd.Categorical(pop_adj_deaths.index,\n",
    "                                      ['2015','2016','2017','2018','2019','2015-2018_avg','2020','excess'])\n",
    "\n",
    "pop_adj_deaths.sort_index(inplace=True)\n",
    "pop_adj_deaths"
   ]
  },
  {
   "cell_type": "code",
   "execution_count": 41,
   "metadata": {
    "scrolled": false
   },
   "outputs": [
    {
     "data": {
      "image/png": "[encoded data removed]",
      "text/plain": [
       "<Figure size 1296x864 with 1 Axes>"
      ]
     },
     "metadata": {},
     "output_type": "display_data"
    }
   ],
   "source": [
    "colors = ['r'] * 5\n",
    "colors.extend(['crimson','crimson'])\n",
    "\n",
    "\n",
    "title = 'SWEDEN population adjusted [std year 2020] deaths 2015-2020 YTD {}'.format(df_per_m.index[-1].date())\n",
    "pop_adj_deaths[:-1].plot(kind='bar',figsize=(18,12),title=title,color=colors)\n",
    "_= plt.yticks(np.arange(0,100000,5000))\n",
    "plt.ylabel('pop adjusted deaths [std year 2020]')\n",
    "plt.savefig('swe_pop_adj_deaths_ytd_15_20.jpg',format='jpg')\n"
   ]
  },
  {
   "cell_type": "code",
   "execution_count": 42,
   "metadata": {},
   "outputs": [
    {
     "data": {
      "text/plain": [
       "2015             90907.0\n",
       "2016             90982.0\n",
       "2017             91972.0\n",
       "2018             92185.0\n",
       "2019             88766.0\n",
       "2020             97164.0\n",
       "2015-2018_avg    91511.5\n",
       "excess            5652.5\n",
       "dtype: float64"
      ]
     },
     "execution_count": 42,
     "metadata": {},
     "output_type": "execute_result"
    }
   ],
   "source": [
    "df.sum()"
   ]
  },
  {
   "cell_type": "code",
   "execution_count": 43,
   "metadata": {},
   "outputs": [
    {
     "data": {
      "text/plain": [
       "DatetimeIndex(['2020-01-31', '2020-01-31', '2020-01-31', '2020-01-31',\n",
       "               '2020-01-31', '2020-01-31', '2020-01-31', '2020-01-31',\n",
       "               '2020-01-31', '2020-01-31',\n",
       "               ...\n",
       "               '2020-12-31', '2020-12-31', '2020-12-31', '2020-12-31',\n",
       "               '2020-12-31', '2020-12-31', '2020-12-31', '2020-12-31',\n",
       "               '2020-12-31', '2020-12-31'],\n",
       "              dtype='datetime64[ns]', length=366, freq=None)"
      ]
     },
     "execution_count": 43,
     "metadata": {},
     "output_type": "execute_result"
    }
   ],
   "source": [
    "from pandas.tseries.offsets import MonthEnd\n",
    "month_ends = df_per_m.index + MonthEnd(0)\n",
    "month_ends"
   ]
  },
  {
   "cell_type": "code",
   "execution_count": 44,
   "metadata": {},
   "outputs": [],
   "source": [
    "#### historical monthly deaths\n",
    "\n",
    "url = 'http://api.scb.se/OV0104/v1/doris/sv/ssd/START/BE/BE0101/BE0101G/ManadFoddDod'\n",
    "\n",
    "data = {\n",
    "  \"query\": [\n",
    "    {\n",
    "      \"code\": \"Kon\",\n",
    "      \"selection\": {\n",
    "        \"filter\": \"item\",\n",
    "        \"values\": [\n",
    "          \"1\",\n",
    "          \"2\"\n",
    "        ]\n",
    "      }\n",
    "    },\n",
    "    {\n",
    "      \"code\": \"Manad\",\n",
    "      \"selection\": {\n",
    "        \"filter\": \"item\",\n",
    "        \"values\": [\n",
    "          \"01\",\n",
    "          \"02\",\n",
    "          \"03\",\n",
    "          \"04\",\n",
    "          \"05\",\n",
    "          \"06\",\n",
    "          \"07\",\n",
    "          \"08\",\n",
    "          \"09\",\n",
    "          \"10\",\n",
    "          \"11\",\n",
    "          \"12\",\n",
    "          \"90\"\n",
    "        ]\n",
    "      }\n",
    "    },\n",
    "    {\n",
    "      \"code\": \"ContentsCode\",\n",
    "      \"selection\": {\n",
    "        \"filter\": \"item\",\n",
    "        \"values\": [\n",
    "          \"000000NF\"\n",
    "        ]\n",
    "      }\n",
    "    }\n",
    "  ],\n",
    "  \"response\": {\n",
    "    \"format\": \"json\"\n",
    "  }\n",
    "}"
   ]
  },
  {
   "cell_type": "code",
   "execution_count": 45,
   "metadata": {},
   "outputs": [],
   "source": [
    "r = requests.post(url,json=data)"
   ]
  },
  {
   "cell_type": "code",
   "execution_count": 46,
   "metadata": {},
   "outputs": [
    {
     "data": {
      "text/plain": [
       "200"
      ]
     },
     "execution_count": 46,
     "metadata": {},
     "output_type": "execute_result"
    }
   ],
   "source": [
    "r.status_code"
   ]
  },
  {
   "cell_type": "code",
   "execution_count": 47,
   "metadata": {},
   "outputs": [
    {
     "data": {
      "text/plain": [
       "{'key': ['1', '01', '1851'], 'values': ['3245']}"
      ]
     },
     "execution_count": 47,
     "metadata": {},
     "output_type": "execute_result"
    }
   ],
   "source": [
    "json = r.json()\n",
    "json['data'][0]"
   ]
  },
  {
   "cell_type": "code",
   "execution_count": 48,
   "metadata": {},
   "outputs": [],
   "source": [
    "data_list = []\n",
    "\n",
    "nr_records = (len(json['data']))\n",
    "\n",
    "for rec in range(nr_records):\n",
    "\n",
    "    data_list.append ((json['data'][rec]['key'][0],json['data'][rec]['key'][1],json['data'][rec]['key'][2],\n",
    "                        json['data'][rec]['values'][0]))\n",
    "\n"
   ]
  },
  {
   "cell_type": "code",
   "execution_count": 49,
   "metadata": {},
   "outputs": [
    {
     "data": {
      "text/html": [
       "<div>\n",
       "<style scoped>\n",
       "    .dataframe tbody tr th:only-of-type {\n",
       "        vertical-align: middle;\n",
       "    }\n",
       "\n",
       "    .dataframe tbody tr th {\n",
       "        vertical-align: top;\n",
       "    }\n",
       "\n",
       "    .dataframe thead th {\n",
       "        text-align: right;\n",
       "    }\n",
       "</style>\n",
       "<table border=\"1\" class=\"dataframe\">\n",
       "  <thead>\n",
       "    <tr style=\"text-align: right;\">\n",
       "      <th></th>\n",
       "      <th>gender</th>\n",
       "      <th>month</th>\n",
       "      <th>year</th>\n",
       "      <th>deaths</th>\n",
       "    </tr>\n",
       "  </thead>\n",
       "  <tbody>\n",
       "    <tr>\n",
       "      <th>0</th>\n",
       "      <td>1</td>\n",
       "      <td>01</td>\n",
       "      <td>1851</td>\n",
       "      <td>3245</td>\n",
       "    </tr>\n",
       "    <tr>\n",
       "      <th>1</th>\n",
       "      <td>1</td>\n",
       "      <td>01</td>\n",
       "      <td>1852</td>\n",
       "      <td>3403</td>\n",
       "    </tr>\n",
       "    <tr>\n",
       "      <th>2</th>\n",
       "      <td>1</td>\n",
       "      <td>01</td>\n",
       "      <td>1853</td>\n",
       "      <td>3559</td>\n",
       "    </tr>\n",
       "    <tr>\n",
       "      <th>3</th>\n",
       "      <td>1</td>\n",
       "      <td>01</td>\n",
       "      <td>1854</td>\n",
       "      <td>2980</td>\n",
       "    </tr>\n",
       "    <tr>\n",
       "      <th>4</th>\n",
       "      <td>1</td>\n",
       "      <td>01</td>\n",
       "      <td>1855</td>\n",
       "      <td>3244</td>\n",
       "    </tr>\n",
       "  </tbody>\n",
       "</table>\n",
       "</div>"
      ],
      "text/plain": [
       "  gender month  year  deaths\n",
       "0      1    01  1851    3245\n",
       "1      1    01  1852    3403\n",
       "2      1    01  1853    3559\n",
       "3      1    01  1854    2980\n",
       "4      1    01  1855    3244"
      ]
     },
     "execution_count": 49,
     "metadata": {},
     "output_type": "execute_result"
    }
   ],
   "source": [
    "hist_deaths = pd.DataFrame(data_list,columns=['gender','month','year','deaths'])\n",
    "hist_deaths['deaths'] = hist_deaths['deaths'].astype(int)\n",
    "hist_deaths.head()"
   ]
  },
  {
   "cell_type": "code",
   "execution_count": 50,
   "metadata": {},
   "outputs": [
    {
     "data": {
      "text/html": [
       "<div>\n",
       "<style scoped>\n",
       "    .dataframe tbody tr th:only-of-type {\n",
       "        vertical-align: middle;\n",
       "    }\n",
       "\n",
       "    .dataframe tbody tr th {\n",
       "        vertical-align: top;\n",
       "    }\n",
       "\n",
       "    .dataframe thead th {\n",
       "        text-align: right;\n",
       "    }\n",
       "</style>\n",
       "<table border=\"1\" class=\"dataframe\">\n",
       "  <thead>\n",
       "    <tr style=\"text-align: right;\">\n",
       "      <th></th>\n",
       "      <th></th>\n",
       "      <th>deaths</th>\n",
       "    </tr>\n",
       "    <tr>\n",
       "      <th>year</th>\n",
       "      <th>month</th>\n",
       "      <th></th>\n",
       "    </tr>\n",
       "  </thead>\n",
       "  <tbody>\n",
       "    <tr>\n",
       "      <th rowspan=\"5\" valign=\"top\">1851</th>\n",
       "      <th>01</th>\n",
       "      <td>6261</td>\n",
       "    </tr>\n",
       "    <tr>\n",
       "      <th>02</th>\n",
       "      <td>6007</td>\n",
       "    </tr>\n",
       "    <tr>\n",
       "      <th>03</th>\n",
       "      <td>8812</td>\n",
       "    </tr>\n",
       "    <tr>\n",
       "      <th>04</th>\n",
       "      <td>7818</td>\n",
       "    </tr>\n",
       "    <tr>\n",
       "      <th>05</th>\n",
       "      <td>7406</td>\n",
       "    </tr>\n",
       "    <tr>\n",
       "      <th>...</th>\n",
       "      <th>...</th>\n",
       "      <td>...</td>\n",
       "    </tr>\n",
       "    <tr>\n",
       "      <th rowspan=\"5\" valign=\"top\">2020</th>\n",
       "      <th>09</th>\n",
       "      <td>6772</td>\n",
       "    </tr>\n",
       "    <tr>\n",
       "      <th>10</th>\n",
       "      <td>7281</td>\n",
       "    </tr>\n",
       "    <tr>\n",
       "      <th>11</th>\n",
       "      <td>8220</td>\n",
       "    </tr>\n",
       "    <tr>\n",
       "      <th>12</th>\n",
       "      <td>10187</td>\n",
       "    </tr>\n",
       "    <tr>\n",
       "      <th>90</th>\n",
       "      <td>254</td>\n",
       "    </tr>\n",
       "  </tbody>\n",
       "</table>\n",
       "<p>2210 rows × 1 columns</p>\n",
       "</div>"
      ],
      "text/plain": [
       "            deaths\n",
       "year month        \n",
       "1851 01       6261\n",
       "     02       6007\n",
       "     03       8812\n",
       "     04       7818\n",
       "     05       7406\n",
       "...            ...\n",
       "2020 09       6772\n",
       "     10       7281\n",
       "     11       8220\n",
       "     12      10187\n",
       "     90        254\n",
       "\n",
       "[2210 rows x 1 columns]"
      ]
     },
     "execution_count": 50,
     "metadata": {},
     "output_type": "execute_result"
    }
   ],
   "source": [
    "hist_deaths = hist_deaths.groupby(['year','month']).sum()\n",
    "hist_deaths"
   ]
  },
  {
   "cell_type": "code",
   "execution_count": 51,
   "metadata": {},
   "outputs": [
    {
     "data": {
      "text/html": [
       "<div>\n",
       "<style scoped>\n",
       "    .dataframe tbody tr th:only-of-type {\n",
       "        vertical-align: middle;\n",
       "    }\n",
       "\n",
       "    .dataframe tbody tr th {\n",
       "        vertical-align: top;\n",
       "    }\n",
       "\n",
       "    .dataframe thead th {\n",
       "        text-align: right;\n",
       "    }\n",
       "</style>\n",
       "<table border=\"1\" class=\"dataframe\">\n",
       "  <thead>\n",
       "    <tr style=\"text-align: right;\">\n",
       "      <th></th>\n",
       "      <th>deaths</th>\n",
       "    </tr>\n",
       "    <tr>\n",
       "      <th>year</th>\n",
       "      <th></th>\n",
       "    </tr>\n",
       "  </thead>\n",
       "  <tbody>\n",
       "    <tr>\n",
       "      <th>1851</th>\n",
       "      <td>72506</td>\n",
       "    </tr>\n",
       "    <tr>\n",
       "      <th>1852</th>\n",
       "      <td>80090</td>\n",
       "    </tr>\n",
       "    <tr>\n",
       "      <th>1853</th>\n",
       "      <td>84047</td>\n",
       "    </tr>\n",
       "    <tr>\n",
       "      <th>1854</th>\n",
       "      <td>70846</td>\n",
       "    </tr>\n",
       "    <tr>\n",
       "      <th>1855</th>\n",
       "      <td>77734</td>\n",
       "    </tr>\n",
       "    <tr>\n",
       "      <th>...</th>\n",
       "      <td>...</td>\n",
       "    </tr>\n",
       "    <tr>\n",
       "      <th>2016</th>\n",
       "      <td>90982</td>\n",
       "    </tr>\n",
       "    <tr>\n",
       "      <th>2017</th>\n",
       "      <td>91972</td>\n",
       "    </tr>\n",
       "    <tr>\n",
       "      <th>2018</th>\n",
       "      <td>92185</td>\n",
       "    </tr>\n",
       "    <tr>\n",
       "      <th>2019</th>\n",
       "      <td>88766</td>\n",
       "    </tr>\n",
       "    <tr>\n",
       "      <th>2020</th>\n",
       "      <td>98124</td>\n",
       "    </tr>\n",
       "  </tbody>\n",
       "</table>\n",
       "<p>170 rows × 1 columns</p>\n",
       "</div>"
      ],
      "text/plain": [
       "      deaths\n",
       "year        \n",
       "1851   72506\n",
       "1852   80090\n",
       "1853   84047\n",
       "1854   70846\n",
       "1855   77734\n",
       "...      ...\n",
       "2016   90982\n",
       "2017   91972\n",
       "2018   92185\n",
       "2019   88766\n",
       "2020   98124\n",
       "\n",
       "[170 rows x 1 columns]"
      ]
     },
     "execution_count": 51,
     "metadata": {},
     "output_type": "execute_result"
    }
   ],
   "source": [
    "yearly_sums = hist_deaths.groupby('year').sum()\n",
    "yearly_sums"
   ]
  },
  {
   "cell_type": "code",
   "execution_count": 52,
   "metadata": {},
   "outputs": [
    {
     "data": {
      "text/plain": [
       "array([False, False, False, ..., False, False,  True])"
      ]
     },
     "execution_count": 52,
     "metadata": {},
     "output_type": "execute_result"
    }
   ],
   "source": [
    "unknown_month_mask = hist_deaths.index.get_level_values('month') == '90'\n",
    "unknown_month_mask"
   ]
  },
  {
   "cell_type": "code",
   "execution_count": 53,
   "metadata": {},
   "outputs": [
    {
     "data": {
      "text/html": [
       "<div>\n",
       "<style scoped>\n",
       "    .dataframe tbody tr th:only-of-type {\n",
       "        vertical-align: middle;\n",
       "    }\n",
       "\n",
       "    .dataframe tbody tr th {\n",
       "        vertical-align: top;\n",
       "    }\n",
       "\n",
       "    .dataframe thead th {\n",
       "        text-align: right;\n",
       "    }\n",
       "</style>\n",
       "<table border=\"1\" class=\"dataframe\">\n",
       "  <thead>\n",
       "    <tr style=\"text-align: right;\">\n",
       "      <th></th>\n",
       "      <th>month</th>\n",
       "      <th>deaths</th>\n",
       "    </tr>\n",
       "    <tr>\n",
       "      <th>year</th>\n",
       "      <th></th>\n",
       "      <th></th>\n",
       "    </tr>\n",
       "  </thead>\n",
       "  <tbody>\n",
       "    <tr>\n",
       "      <th>1851</th>\n",
       "      <td>90</td>\n",
       "      <td>0</td>\n",
       "    </tr>\n",
       "    <tr>\n",
       "      <th>1852</th>\n",
       "      <td>90</td>\n",
       "      <td>0</td>\n",
       "    </tr>\n",
       "    <tr>\n",
       "      <th>1853</th>\n",
       "      <td>90</td>\n",
       "      <td>0</td>\n",
       "    </tr>\n",
       "    <tr>\n",
       "      <th>1854</th>\n",
       "      <td>90</td>\n",
       "      <td>0</td>\n",
       "    </tr>\n",
       "    <tr>\n",
       "      <th>1855</th>\n",
       "      <td>90</td>\n",
       "      <td>0</td>\n",
       "    </tr>\n",
       "    <tr>\n",
       "      <th>...</th>\n",
       "      <td>...</td>\n",
       "      <td>...</td>\n",
       "    </tr>\n",
       "    <tr>\n",
       "      <th>2016</th>\n",
       "      <td>90</td>\n",
       "      <td>186</td>\n",
       "    </tr>\n",
       "    <tr>\n",
       "      <th>2017</th>\n",
       "      <td>90</td>\n",
       "      <td>197</td>\n",
       "    </tr>\n",
       "    <tr>\n",
       "      <th>2018</th>\n",
       "      <td>90</td>\n",
       "      <td>248</td>\n",
       "    </tr>\n",
       "    <tr>\n",
       "      <th>2019</th>\n",
       "      <td>90</td>\n",
       "      <td>262</td>\n",
       "    </tr>\n",
       "    <tr>\n",
       "      <th>2020</th>\n",
       "      <td>90</td>\n",
       "      <td>254</td>\n",
       "    </tr>\n",
       "  </tbody>\n",
       "</table>\n",
       "<p>170 rows × 2 columns</p>\n",
       "</div>"
      ],
      "text/plain": [
       "     month  deaths\n",
       "year              \n",
       "1851    90       0\n",
       "1852    90       0\n",
       "1853    90       0\n",
       "1854    90       0\n",
       "1855    90       0\n",
       "...    ...     ...\n",
       "2016    90     186\n",
       "2017    90     197\n",
       "2018    90     248\n",
       "2019    90     262\n",
       "2020    90     254\n",
       "\n",
       "[170 rows x 2 columns]"
      ]
     },
     "execution_count": 53,
     "metadata": {},
     "output_type": "execute_result"
    }
   ],
   "source": [
    "unknown_death_months = hist_deaths.loc[unknown_month_mask]['deaths']\n",
    "unknown_death_months = unknown_death_months.reset_index().set_index('year')\n",
    "unknown_death_months"
   ]
  },
  {
   "cell_type": "code",
   "execution_count": 54,
   "metadata": {},
   "outputs": [
    {
     "data": {
      "text/html": [
       "<div>\n",
       "<style scoped>\n",
       "    .dataframe tbody tr th:only-of-type {\n",
       "        vertical-align: middle;\n",
       "    }\n",
       "\n",
       "    .dataframe tbody tr th {\n",
       "        vertical-align: top;\n",
       "    }\n",
       "\n",
       "    .dataframe thead th {\n",
       "        text-align: right;\n",
       "    }\n",
       "</style>\n",
       "<table border=\"1\" class=\"dataframe\">\n",
       "  <thead>\n",
       "    <tr style=\"text-align: right;\">\n",
       "      <th></th>\n",
       "      <th></th>\n",
       "      <th>deaths</th>\n",
       "    </tr>\n",
       "    <tr>\n",
       "      <th>year</th>\n",
       "      <th>month</th>\n",
       "      <th></th>\n",
       "    </tr>\n",
       "  </thead>\n",
       "  <tbody>\n",
       "    <tr>\n",
       "      <th rowspan=\"5\" valign=\"top\">1851</th>\n",
       "      <th>01</th>\n",
       "      <td>6261</td>\n",
       "    </tr>\n",
       "    <tr>\n",
       "      <th>02</th>\n",
       "      <td>6007</td>\n",
       "    </tr>\n",
       "    <tr>\n",
       "      <th>03</th>\n",
       "      <td>8812</td>\n",
       "    </tr>\n",
       "    <tr>\n",
       "      <th>04</th>\n",
       "      <td>7818</td>\n",
       "    </tr>\n",
       "    <tr>\n",
       "      <th>05</th>\n",
       "      <td>7406</td>\n",
       "    </tr>\n",
       "    <tr>\n",
       "      <th>...</th>\n",
       "      <th>...</th>\n",
       "      <td>...</td>\n",
       "    </tr>\n",
       "    <tr>\n",
       "      <th rowspan=\"5\" valign=\"top\">2020</th>\n",
       "      <th>08</th>\n",
       "      <td>6968</td>\n",
       "    </tr>\n",
       "    <tr>\n",
       "      <th>09</th>\n",
       "      <td>6772</td>\n",
       "    </tr>\n",
       "    <tr>\n",
       "      <th>10</th>\n",
       "      <td>7281</td>\n",
       "    </tr>\n",
       "    <tr>\n",
       "      <th>11</th>\n",
       "      <td>8220</td>\n",
       "    </tr>\n",
       "    <tr>\n",
       "      <th>12</th>\n",
       "      <td>10187</td>\n",
       "    </tr>\n",
       "  </tbody>\n",
       "</table>\n",
       "<p>2040 rows × 1 columns</p>\n",
       "</div>"
      ],
      "text/plain": [
       "            deaths\n",
       "year month        \n",
       "1851 01       6261\n",
       "     02       6007\n",
       "     03       8812\n",
       "     04       7818\n",
       "     05       7406\n",
       "...            ...\n",
       "2020 08       6968\n",
       "     09       6772\n",
       "     10       7281\n",
       "     11       8220\n",
       "     12      10187\n",
       "\n",
       "[2040 rows x 1 columns]"
      ]
     },
     "execution_count": 54,
     "metadata": {},
     "output_type": "execute_result"
    }
   ],
   "source": [
    "hist_deaths = (hist_deaths.loc[~unknown_month_mask]).copy()\n",
    "hist_deaths"
   ]
  },
  {
   "cell_type": "code",
   "execution_count": 55,
   "metadata": {},
   "outputs": [
    {
     "data": {
      "text/html": [
       "<div>\n",
       "<style scoped>\n",
       "    .dataframe tbody tr th:only-of-type {\n",
       "        vertical-align: middle;\n",
       "    }\n",
       "\n",
       "    .dataframe tbody tr th {\n",
       "        vertical-align: top;\n",
       "    }\n",
       "\n",
       "    .dataframe thead th {\n",
       "        text-align: right;\n",
       "    }\n",
       "</style>\n",
       "<table border=\"1\" class=\"dataframe\">\n",
       "  <thead>\n",
       "    <tr style=\"text-align: right;\">\n",
       "      <th></th>\n",
       "      <th></th>\n",
       "      <th>deaths</th>\n",
       "      <th>ratio_of_year</th>\n",
       "    </tr>\n",
       "    <tr>\n",
       "      <th>year</th>\n",
       "      <th>month</th>\n",
       "      <th></th>\n",
       "      <th></th>\n",
       "    </tr>\n",
       "  </thead>\n",
       "  <tbody>\n",
       "    <tr>\n",
       "      <th rowspan=\"5\" valign=\"top\">1851</th>\n",
       "      <th>01</th>\n",
       "      <td>6261</td>\n",
       "      <td>0.086351</td>\n",
       "    </tr>\n",
       "    <tr>\n",
       "      <th>02</th>\n",
       "      <td>6007</td>\n",
       "      <td>0.082848</td>\n",
       "    </tr>\n",
       "    <tr>\n",
       "      <th>03</th>\n",
       "      <td>8812</td>\n",
       "      <td>0.121535</td>\n",
       "    </tr>\n",
       "    <tr>\n",
       "      <th>04</th>\n",
       "      <td>7818</td>\n",
       "      <td>0.107826</td>\n",
       "    </tr>\n",
       "    <tr>\n",
       "      <th>05</th>\n",
       "      <td>7406</td>\n",
       "      <td>0.102143</td>\n",
       "    </tr>\n",
       "    <tr>\n",
       "      <th>...</th>\n",
       "      <th>...</th>\n",
       "      <td>...</td>\n",
       "      <td>...</td>\n",
       "    </tr>\n",
       "    <tr>\n",
       "      <th rowspan=\"5\" valign=\"top\">2020</th>\n",
       "      <th>08</th>\n",
       "      <td>6968</td>\n",
       "      <td>0.071196</td>\n",
       "    </tr>\n",
       "    <tr>\n",
       "      <th>09</th>\n",
       "      <td>6772</td>\n",
       "      <td>0.069194</td>\n",
       "    </tr>\n",
       "    <tr>\n",
       "      <th>10</th>\n",
       "      <td>7281</td>\n",
       "      <td>0.074395</td>\n",
       "    </tr>\n",
       "    <tr>\n",
       "      <th>11</th>\n",
       "      <td>8220</td>\n",
       "      <td>0.083989</td>\n",
       "    </tr>\n",
       "    <tr>\n",
       "      <th>12</th>\n",
       "      <td>10187</td>\n",
       "      <td>0.104087</td>\n",
       "    </tr>\n",
       "  </tbody>\n",
       "</table>\n",
       "<p>2040 rows × 2 columns</p>\n",
       "</div>"
      ],
      "text/plain": [
       "            deaths  ratio_of_year\n",
       "year month                       \n",
       "1851 01       6261       0.086351\n",
       "     02       6007       0.082848\n",
       "     03       8812       0.121535\n",
       "     04       7818       0.107826\n",
       "     05       7406       0.102143\n",
       "...            ...            ...\n",
       "2020 08       6968       0.071196\n",
       "     09       6772       0.069194\n",
       "     10       7281       0.074395\n",
       "     11       8220       0.083989\n",
       "     12      10187       0.104087\n",
       "\n",
       "[2040 rows x 2 columns]"
      ]
     },
     "execution_count": 55,
     "metadata": {},
     "output_type": "execute_result"
    }
   ],
   "source": [
    "# wow! \n",
    "hist_deaths['ratio_of_year'] = hist_deaths / hist_deaths.groupby('year').sum()\n",
    "hist_deaths"
   ]
  },
  {
   "cell_type": "code",
   "execution_count": 56,
   "metadata": {},
   "outputs": [
    {
     "data": {
      "text/html": [
       "<div>\n",
       "<style scoped>\n",
       "    .dataframe tbody tr th:only-of-type {\n",
       "        vertical-align: middle;\n",
       "    }\n",
       "\n",
       "    .dataframe tbody tr th {\n",
       "        vertical-align: top;\n",
       "    }\n",
       "\n",
       "    .dataframe thead th {\n",
       "        text-align: right;\n",
       "    }\n",
       "</style>\n",
       "<table border=\"1\" class=\"dataframe\">\n",
       "  <thead>\n",
       "    <tr style=\"text-align: right;\">\n",
       "      <th></th>\n",
       "      <th>deaths</th>\n",
       "      <th>ratio_of_year</th>\n",
       "    </tr>\n",
       "    <tr>\n",
       "      <th>year</th>\n",
       "      <th></th>\n",
       "      <th></th>\n",
       "    </tr>\n",
       "  </thead>\n",
       "  <tbody>\n",
       "    <tr>\n",
       "      <th>1851</th>\n",
       "      <td>72506</td>\n",
       "      <td>1.0</td>\n",
       "    </tr>\n",
       "    <tr>\n",
       "      <th>1852</th>\n",
       "      <td>80090</td>\n",
       "      <td>1.0</td>\n",
       "    </tr>\n",
       "    <tr>\n",
       "      <th>1853</th>\n",
       "      <td>84047</td>\n",
       "      <td>1.0</td>\n",
       "    </tr>\n",
       "    <tr>\n",
       "      <th>1854</th>\n",
       "      <td>70846</td>\n",
       "      <td>1.0</td>\n",
       "    </tr>\n",
       "    <tr>\n",
       "      <th>1855</th>\n",
       "      <td>77734</td>\n",
       "      <td>1.0</td>\n",
       "    </tr>\n",
       "    <tr>\n",
       "      <th>...</th>\n",
       "      <td>...</td>\n",
       "      <td>...</td>\n",
       "    </tr>\n",
       "    <tr>\n",
       "      <th>2016</th>\n",
       "      <td>90796</td>\n",
       "      <td>1.0</td>\n",
       "    </tr>\n",
       "    <tr>\n",
       "      <th>2017</th>\n",
       "      <td>91775</td>\n",
       "      <td>1.0</td>\n",
       "    </tr>\n",
       "    <tr>\n",
       "      <th>2018</th>\n",
       "      <td>91937</td>\n",
       "      <td>1.0</td>\n",
       "    </tr>\n",
       "    <tr>\n",
       "      <th>2019</th>\n",
       "      <td>88504</td>\n",
       "      <td>1.0</td>\n",
       "    </tr>\n",
       "    <tr>\n",
       "      <th>2020</th>\n",
       "      <td>97870</td>\n",
       "      <td>1.0</td>\n",
       "    </tr>\n",
       "  </tbody>\n",
       "</table>\n",
       "<p>170 rows × 2 columns</p>\n",
       "</div>"
      ],
      "text/plain": [
       "      deaths  ratio_of_year\n",
       "year                       \n",
       "1851   72506            1.0\n",
       "1852   80090            1.0\n",
       "1853   84047            1.0\n",
       "1854   70846            1.0\n",
       "1855   77734            1.0\n",
       "...      ...            ...\n",
       "2016   90796            1.0\n",
       "2017   91775            1.0\n",
       "2018   91937            1.0\n",
       "2019   88504            1.0\n",
       "2020   97870            1.0\n",
       "\n",
       "[170 rows x 2 columns]"
      ]
     },
     "execution_count": 56,
     "metadata": {},
     "output_type": "execute_result"
    }
   ],
   "source": [
    "hist_deaths.groupby('year').sum()"
   ]
  },
  {
   "cell_type": "code",
   "execution_count": 57,
   "metadata": {},
   "outputs": [
    {
     "data": {
      "text/html": [
       "<div>\n",
       "<style scoped>\n",
       "    .dataframe tbody tr th:only-of-type {\n",
       "        vertical-align: middle;\n",
       "    }\n",
       "\n",
       "    .dataframe tbody tr th {\n",
       "        vertical-align: top;\n",
       "    }\n",
       "\n",
       "    .dataframe thead th {\n",
       "        text-align: right;\n",
       "    }\n",
       "</style>\n",
       "<table border=\"1\" class=\"dataframe\">\n",
       "  <thead>\n",
       "    <tr style=\"text-align: right;\">\n",
       "      <th></th>\n",
       "      <th></th>\n",
       "      <th>deaths</th>\n",
       "      <th>ratio_of_year</th>\n",
       "    </tr>\n",
       "    <tr>\n",
       "      <th>year</th>\n",
       "      <th>month</th>\n",
       "      <th></th>\n",
       "      <th></th>\n",
       "    </tr>\n",
       "  </thead>\n",
       "  <tbody>\n",
       "    <tr>\n",
       "      <th rowspan=\"5\" valign=\"top\">1851</th>\n",
       "      <th>01</th>\n",
       "      <td>6261</td>\n",
       "      <td>0.086351</td>\n",
       "    </tr>\n",
       "    <tr>\n",
       "      <th>02</th>\n",
       "      <td>6007</td>\n",
       "      <td>0.082848</td>\n",
       "    </tr>\n",
       "    <tr>\n",
       "      <th>03</th>\n",
       "      <td>8812</td>\n",
       "      <td>0.121535</td>\n",
       "    </tr>\n",
       "    <tr>\n",
       "      <th>04</th>\n",
       "      <td>7818</td>\n",
       "      <td>0.107826</td>\n",
       "    </tr>\n",
       "    <tr>\n",
       "      <th>05</th>\n",
       "      <td>7406</td>\n",
       "      <td>0.102143</td>\n",
       "    </tr>\n",
       "    <tr>\n",
       "      <th>...</th>\n",
       "      <th>...</th>\n",
       "      <td>...</td>\n",
       "      <td>...</td>\n",
       "    </tr>\n",
       "    <tr>\n",
       "      <th rowspan=\"5\" valign=\"top\">2020</th>\n",
       "      <th>08</th>\n",
       "      <td>6968</td>\n",
       "      <td>0.071196</td>\n",
       "    </tr>\n",
       "    <tr>\n",
       "      <th>09</th>\n",
       "      <td>6772</td>\n",
       "      <td>0.069194</td>\n",
       "    </tr>\n",
       "    <tr>\n",
       "      <th>10</th>\n",
       "      <td>7281</td>\n",
       "      <td>0.074395</td>\n",
       "    </tr>\n",
       "    <tr>\n",
       "      <th>11</th>\n",
       "      <td>8220</td>\n",
       "      <td>0.083989</td>\n",
       "    </tr>\n",
       "    <tr>\n",
       "      <th>12</th>\n",
       "      <td>10187</td>\n",
       "      <td>0.104087</td>\n",
       "    </tr>\n",
       "  </tbody>\n",
       "</table>\n",
       "<p>2040 rows × 2 columns</p>\n",
       "</div>"
      ],
      "text/plain": [
       "            deaths  ratio_of_year\n",
       "year month                       \n",
       "1851 01       6261       0.086351\n",
       "     02       6007       0.082848\n",
       "     03       8812       0.121535\n",
       "     04       7818       0.107826\n",
       "     05       7406       0.102143\n",
       "...            ...            ...\n",
       "2020 08       6968       0.071196\n",
       "     09       6772       0.069194\n",
       "     10       7281       0.074395\n",
       "     11       8220       0.083989\n",
       "     12      10187       0.104087\n",
       "\n",
       "[2040 rows x 2 columns]"
      ]
     },
     "execution_count": 57,
     "metadata": {},
     "output_type": "execute_result"
    }
   ],
   "source": [
    "hist_deaths\n"
   ]
  },
  {
   "cell_type": "code",
   "execution_count": 58,
   "metadata": {},
   "outputs": [
    {
     "data": {
      "text/html": [
       "<div>\n",
       "<style scoped>\n",
       "    .dataframe tbody tr th:only-of-type {\n",
       "        vertical-align: middle;\n",
       "    }\n",
       "\n",
       "    .dataframe tbody tr th {\n",
       "        vertical-align: top;\n",
       "    }\n",
       "\n",
       "    .dataframe thead th {\n",
       "        text-align: right;\n",
       "    }\n",
       "</style>\n",
       "<table border=\"1\" class=\"dataframe\">\n",
       "  <thead>\n",
       "    <tr style=\"text-align: right;\">\n",
       "      <th></th>\n",
       "      <th>month</th>\n",
       "      <th>deaths</th>\n",
       "      <th>ratio_of_year</th>\n",
       "    </tr>\n",
       "    <tr>\n",
       "      <th>year</th>\n",
       "      <th></th>\n",
       "      <th></th>\n",
       "      <th></th>\n",
       "    </tr>\n",
       "  </thead>\n",
       "  <tbody>\n",
       "    <tr>\n",
       "      <th>1851</th>\n",
       "      <td>01</td>\n",
       "      <td>6261</td>\n",
       "      <td>0.086351</td>\n",
       "    </tr>\n",
       "    <tr>\n",
       "      <th>1851</th>\n",
       "      <td>02</td>\n",
       "      <td>6007</td>\n",
       "      <td>0.082848</td>\n",
       "    </tr>\n",
       "    <tr>\n",
       "      <th>1851</th>\n",
       "      <td>03</td>\n",
       "      <td>8812</td>\n",
       "      <td>0.121535</td>\n",
       "    </tr>\n",
       "    <tr>\n",
       "      <th>1851</th>\n",
       "      <td>04</td>\n",
       "      <td>7818</td>\n",
       "      <td>0.107826</td>\n",
       "    </tr>\n",
       "    <tr>\n",
       "      <th>1851</th>\n",
       "      <td>05</td>\n",
       "      <td>7406</td>\n",
       "      <td>0.102143</td>\n",
       "    </tr>\n",
       "    <tr>\n",
       "      <th>...</th>\n",
       "      <td>...</td>\n",
       "      <td>...</td>\n",
       "      <td>...</td>\n",
       "    </tr>\n",
       "    <tr>\n",
       "      <th>2020</th>\n",
       "      <td>08</td>\n",
       "      <td>6968</td>\n",
       "      <td>0.071196</td>\n",
       "    </tr>\n",
       "    <tr>\n",
       "      <th>2020</th>\n",
       "      <td>09</td>\n",
       "      <td>6772</td>\n",
       "      <td>0.069194</td>\n",
       "    </tr>\n",
       "    <tr>\n",
       "      <th>2020</th>\n",
       "      <td>10</td>\n",
       "      <td>7281</td>\n",
       "      <td>0.074395</td>\n",
       "    </tr>\n",
       "    <tr>\n",
       "      <th>2020</th>\n",
       "      <td>11</td>\n",
       "      <td>8220</td>\n",
       "      <td>0.083989</td>\n",
       "    </tr>\n",
       "    <tr>\n",
       "      <th>2020</th>\n",
       "      <td>12</td>\n",
       "      <td>10187</td>\n",
       "      <td>0.104087</td>\n",
       "    </tr>\n",
       "  </tbody>\n",
       "</table>\n",
       "<p>2040 rows × 3 columns</p>\n",
       "</div>"
      ],
      "text/plain": [
       "     month  deaths  ratio_of_year\n",
       "year                             \n",
       "1851    01    6261       0.086351\n",
       "1851    02    6007       0.082848\n",
       "1851    03    8812       0.121535\n",
       "1851    04    7818       0.107826\n",
       "1851    05    7406       0.102143\n",
       "...    ...     ...            ...\n",
       "2020    08    6968       0.071196\n",
       "2020    09    6772       0.069194\n",
       "2020    10    7281       0.074395\n",
       "2020    11    8220       0.083989\n",
       "2020    12   10187       0.104087\n",
       "\n",
       "[2040 rows x 3 columns]"
      ]
     },
     "execution_count": 58,
     "metadata": {},
     "output_type": "execute_result"
    }
   ],
   "source": [
    "hist_deaths = hist_deaths.reset_index().set_index('year')\n",
    "hist_deaths"
   ]
  },
  {
   "cell_type": "code",
   "execution_count": 59,
   "metadata": {},
   "outputs": [
    {
     "data": {
      "text/html": [
       "<div>\n",
       "<style scoped>\n",
       "    .dataframe tbody tr th:only-of-type {\n",
       "        vertical-align: middle;\n",
       "    }\n",
       "\n",
       "    .dataframe tbody tr th {\n",
       "        vertical-align: top;\n",
       "    }\n",
       "\n",
       "    .dataframe thead th {\n",
       "        text-align: right;\n",
       "    }\n",
       "</style>\n",
       "<table border=\"1\" class=\"dataframe\">\n",
       "  <thead>\n",
       "    <tr style=\"text-align: right;\">\n",
       "      <th></th>\n",
       "      <th>month</th>\n",
       "      <th>deaths</th>\n",
       "      <th>ratio_of_year</th>\n",
       "      <th>corr_deaths</th>\n",
       "      <th>delta</th>\n",
       "    </tr>\n",
       "    <tr>\n",
       "      <th>year</th>\n",
       "      <th></th>\n",
       "      <th></th>\n",
       "      <th></th>\n",
       "      <th></th>\n",
       "      <th></th>\n",
       "    </tr>\n",
       "  </thead>\n",
       "  <tbody>\n",
       "    <tr>\n",
       "      <th>1851</th>\n",
       "      <td>01</td>\n",
       "      <td>6261</td>\n",
       "      <td>0.086351</td>\n",
       "      <td>6261.000000</td>\n",
       "      <td>0.000000</td>\n",
       "    </tr>\n",
       "    <tr>\n",
       "      <th>1851</th>\n",
       "      <td>02</td>\n",
       "      <td>6007</td>\n",
       "      <td>0.082848</td>\n",
       "      <td>6007.000000</td>\n",
       "      <td>0.000000</td>\n",
       "    </tr>\n",
       "    <tr>\n",
       "      <th>1851</th>\n",
       "      <td>03</td>\n",
       "      <td>8812</td>\n",
       "      <td>0.121535</td>\n",
       "      <td>8812.000000</td>\n",
       "      <td>0.000000</td>\n",
       "    </tr>\n",
       "    <tr>\n",
       "      <th>1851</th>\n",
       "      <td>04</td>\n",
       "      <td>7818</td>\n",
       "      <td>0.107826</td>\n",
       "      <td>7818.000000</td>\n",
       "      <td>0.000000</td>\n",
       "    </tr>\n",
       "    <tr>\n",
       "      <th>1851</th>\n",
       "      <td>05</td>\n",
       "      <td>7406</td>\n",
       "      <td>0.102143</td>\n",
       "      <td>7406.000000</td>\n",
       "      <td>0.000000</td>\n",
       "    </tr>\n",
       "    <tr>\n",
       "      <th>...</th>\n",
       "      <td>...</td>\n",
       "      <td>...</td>\n",
       "      <td>...</td>\n",
       "      <td>...</td>\n",
       "      <td>...</td>\n",
       "    </tr>\n",
       "    <tr>\n",
       "      <th>2020</th>\n",
       "      <td>08</td>\n",
       "      <td>6968</td>\n",
       "      <td>0.071196</td>\n",
       "      <td>6986.083907</td>\n",
       "      <td>18.083907</td>\n",
       "    </tr>\n",
       "    <tr>\n",
       "      <th>2020</th>\n",
       "      <td>09</td>\n",
       "      <td>6772</td>\n",
       "      <td>0.069194</td>\n",
       "      <td>6789.575232</td>\n",
       "      <td>17.575232</td>\n",
       "    </tr>\n",
       "    <tr>\n",
       "      <th>2020</th>\n",
       "      <td>10</td>\n",
       "      <td>7281</td>\n",
       "      <td>0.074395</td>\n",
       "      <td>7299.896230</td>\n",
       "      <td>18.896230</td>\n",
       "    </tr>\n",
       "    <tr>\n",
       "      <th>2020</th>\n",
       "      <td>11</td>\n",
       "      <td>8220</td>\n",
       "      <td>0.083989</td>\n",
       "      <td>8241.333197</td>\n",
       "      <td>21.333197</td>\n",
       "    </tr>\n",
       "    <tr>\n",
       "      <th>2020</th>\n",
       "      <td>12</td>\n",
       "      <td>10187</td>\n",
       "      <td>0.104087</td>\n",
       "      <td>10213.438112</td>\n",
       "      <td>26.438112</td>\n",
       "    </tr>\n",
       "  </tbody>\n",
       "</table>\n",
       "<p>2040 rows × 5 columns</p>\n",
       "</div>"
      ],
      "text/plain": [
       "     month  deaths  ratio_of_year   corr_deaths      delta\n",
       "year                                                      \n",
       "1851    01    6261       0.086351   6261.000000   0.000000\n",
       "1851    02    6007       0.082848   6007.000000   0.000000\n",
       "1851    03    8812       0.121535   8812.000000   0.000000\n",
       "1851    04    7818       0.107826   7818.000000   0.000000\n",
       "1851    05    7406       0.102143   7406.000000   0.000000\n",
       "...    ...     ...            ...           ...        ...\n",
       "2020    08    6968       0.071196   6986.083907  18.083907\n",
       "2020    09    6772       0.069194   6789.575232  17.575232\n",
       "2020    10    7281       0.074395   7299.896230  18.896230\n",
       "2020    11    8220       0.083989   8241.333197  21.333197\n",
       "2020    12   10187       0.104087  10213.438112  26.438112\n",
       "\n",
       "[2040 rows x 5 columns]"
      ]
     },
     "execution_count": 59,
     "metadata": {},
     "output_type": "execute_result"
    }
   ],
   "source": [
    "hist_deaths['corr_deaths'] = unknown_death_months['deaths'] * hist_deaths['ratio_of_year'] + hist_deaths['deaths']\n",
    "hist_deaths['delta'] = hist_deaths['corr_deaths'] - hist_deaths['deaths']\n",
    "hist_deaths"
   ]
  },
  {
   "cell_type": "code",
   "execution_count": 60,
   "metadata": {},
   "outputs": [
    {
     "data": {
      "text/html": [
       "<div>\n",
       "<style scoped>\n",
       "    .dataframe tbody tr th:only-of-type {\n",
       "        vertical-align: middle;\n",
       "    }\n",
       "\n",
       "    .dataframe tbody tr th {\n",
       "        vertical-align: top;\n",
       "    }\n",
       "\n",
       "    .dataframe thead th {\n",
       "        text-align: right;\n",
       "    }\n",
       "</style>\n",
       "<table border=\"1\" class=\"dataframe\">\n",
       "  <thead>\n",
       "    <tr style=\"text-align: right;\">\n",
       "      <th></th>\n",
       "      <th>deaths</th>\n",
       "      <th>ratio_of_year</th>\n",
       "      <th>corr_deaths</th>\n",
       "      <th>delta</th>\n",
       "    </tr>\n",
       "    <tr>\n",
       "      <th>year</th>\n",
       "      <th></th>\n",
       "      <th></th>\n",
       "      <th></th>\n",
       "      <th></th>\n",
       "    </tr>\n",
       "  </thead>\n",
       "  <tbody>\n",
       "    <tr>\n",
       "      <th>1851</th>\n",
       "      <td>72506</td>\n",
       "      <td>1.0</td>\n",
       "      <td>72506.0</td>\n",
       "      <td>0.0</td>\n",
       "    </tr>\n",
       "    <tr>\n",
       "      <th>1852</th>\n",
       "      <td>80090</td>\n",
       "      <td>1.0</td>\n",
       "      <td>80090.0</td>\n",
       "      <td>0.0</td>\n",
       "    </tr>\n",
       "    <tr>\n",
       "      <th>1853</th>\n",
       "      <td>84047</td>\n",
       "      <td>1.0</td>\n",
       "      <td>84047.0</td>\n",
       "      <td>0.0</td>\n",
       "    </tr>\n",
       "    <tr>\n",
       "      <th>1854</th>\n",
       "      <td>70846</td>\n",
       "      <td>1.0</td>\n",
       "      <td>70846.0</td>\n",
       "      <td>0.0</td>\n",
       "    </tr>\n",
       "    <tr>\n",
       "      <th>1855</th>\n",
       "      <td>77734</td>\n",
       "      <td>1.0</td>\n",
       "      <td>77734.0</td>\n",
       "      <td>0.0</td>\n",
       "    </tr>\n",
       "    <tr>\n",
       "      <th>...</th>\n",
       "      <td>...</td>\n",
       "      <td>...</td>\n",
       "      <td>...</td>\n",
       "      <td>...</td>\n",
       "    </tr>\n",
       "    <tr>\n",
       "      <th>2016</th>\n",
       "      <td>90796</td>\n",
       "      <td>1.0</td>\n",
       "      <td>90982.0</td>\n",
       "      <td>186.0</td>\n",
       "    </tr>\n",
       "    <tr>\n",
       "      <th>2017</th>\n",
       "      <td>91775</td>\n",
       "      <td>1.0</td>\n",
       "      <td>91972.0</td>\n",
       "      <td>197.0</td>\n",
       "    </tr>\n",
       "    <tr>\n",
       "      <th>2018</th>\n",
       "      <td>91937</td>\n",
       "      <td>1.0</td>\n",
       "      <td>92185.0</td>\n",
       "      <td>248.0</td>\n",
       "    </tr>\n",
       "    <tr>\n",
       "      <th>2019</th>\n",
       "      <td>88504</td>\n",
       "      <td>1.0</td>\n",
       "      <td>88766.0</td>\n",
       "      <td>262.0</td>\n",
       "    </tr>\n",
       "    <tr>\n",
       "      <th>2020</th>\n",
       "      <td>97870</td>\n",
       "      <td>1.0</td>\n",
       "      <td>98124.0</td>\n",
       "      <td>254.0</td>\n",
       "    </tr>\n",
       "  </tbody>\n",
       "</table>\n",
       "<p>170 rows × 4 columns</p>\n",
       "</div>"
      ],
      "text/plain": [
       "      deaths  ratio_of_year  corr_deaths  delta\n",
       "year                                           \n",
       "1851   72506            1.0      72506.0    0.0\n",
       "1852   80090            1.0      80090.0    0.0\n",
       "1853   84047            1.0      84047.0    0.0\n",
       "1854   70846            1.0      70846.0    0.0\n",
       "1855   77734            1.0      77734.0    0.0\n",
       "...      ...            ...          ...    ...\n",
       "2016   90796            1.0      90982.0  186.0\n",
       "2017   91775            1.0      91972.0  197.0\n",
       "2018   91937            1.0      92185.0  248.0\n",
       "2019   88504            1.0      88766.0  262.0\n",
       "2020   97870            1.0      98124.0  254.0\n",
       "\n",
       "[170 rows x 4 columns]"
      ]
     },
     "execution_count": 60,
     "metadata": {},
     "output_type": "execute_result"
    }
   ],
   "source": [
    "hist_deaths.groupby(hist_deaths.index).sum()"
   ]
  },
  {
   "cell_type": "code",
   "execution_count": 61,
   "metadata": {},
   "outputs": [
    {
     "data": {
      "text/html": [
       "<div>\n",
       "<style scoped>\n",
       "    .dataframe tbody tr th:only-of-type {\n",
       "        vertical-align: middle;\n",
       "    }\n",
       "\n",
       "    .dataframe tbody tr th {\n",
       "        vertical-align: top;\n",
       "    }\n",
       "\n",
       "    .dataframe thead th {\n",
       "        text-align: right;\n",
       "    }\n",
       "</style>\n",
       "<table border=\"1\" class=\"dataframe\">\n",
       "  <thead>\n",
       "    <tr style=\"text-align: right;\">\n",
       "      <th></th>\n",
       "      <th>deaths</th>\n",
       "    </tr>\n",
       "    <tr>\n",
       "      <th>year</th>\n",
       "      <th></th>\n",
       "    </tr>\n",
       "  </thead>\n",
       "  <tbody>\n",
       "    <tr>\n",
       "      <th>1851</th>\n",
       "      <td>72506</td>\n",
       "    </tr>\n",
       "    <tr>\n",
       "      <th>1852</th>\n",
       "      <td>80090</td>\n",
       "    </tr>\n",
       "    <tr>\n",
       "      <th>1853</th>\n",
       "      <td>84047</td>\n",
       "    </tr>\n",
       "    <tr>\n",
       "      <th>1854</th>\n",
       "      <td>70846</td>\n",
       "    </tr>\n",
       "    <tr>\n",
       "      <th>1855</th>\n",
       "      <td>77734</td>\n",
       "    </tr>\n",
       "    <tr>\n",
       "      <th>...</th>\n",
       "      <td>...</td>\n",
       "    </tr>\n",
       "    <tr>\n",
       "      <th>2016</th>\n",
       "      <td>90982</td>\n",
       "    </tr>\n",
       "    <tr>\n",
       "      <th>2017</th>\n",
       "      <td>91972</td>\n",
       "    </tr>\n",
       "    <tr>\n",
       "      <th>2018</th>\n",
       "      <td>92185</td>\n",
       "    </tr>\n",
       "    <tr>\n",
       "      <th>2019</th>\n",
       "      <td>88766</td>\n",
       "    </tr>\n",
       "    <tr>\n",
       "      <th>2020</th>\n",
       "      <td>98124</td>\n",
       "    </tr>\n",
       "  </tbody>\n",
       "</table>\n",
       "<p>170 rows × 1 columns</p>\n",
       "</div>"
      ],
      "text/plain": [
       "      deaths\n",
       "year        \n",
       "1851   72506\n",
       "1852   80090\n",
       "1853   84047\n",
       "1854   70846\n",
       "1855   77734\n",
       "...      ...\n",
       "2016   90982\n",
       "2017   91972\n",
       "2018   92185\n",
       "2019   88766\n",
       "2020   98124\n",
       "\n",
       "[170 rows x 1 columns]"
      ]
     },
     "execution_count": 61,
     "metadata": {},
     "output_type": "execute_result"
    }
   ],
   "source": [
    "yearly_sums"
   ]
  },
  {
   "cell_type": "code",
   "execution_count": 62,
   "metadata": {},
   "outputs": [
    {
     "data": {
      "text/html": [
       "<div>\n",
       "<style scoped>\n",
       "    .dataframe tbody tr th:only-of-type {\n",
       "        vertical-align: middle;\n",
       "    }\n",
       "\n",
       "    .dataframe tbody tr th {\n",
       "        vertical-align: top;\n",
       "    }\n",
       "\n",
       "    .dataframe thead th {\n",
       "        text-align: right;\n",
       "    }\n",
       "</style>\n",
       "<table border=\"1\" class=\"dataframe\">\n",
       "  <thead>\n",
       "    <tr style=\"text-align: right;\">\n",
       "      <th></th>\n",
       "      <th>month</th>\n",
       "      <th>deaths</th>\n",
       "      <th>ratio_of_year</th>\n",
       "      <th>corr_deaths</th>\n",
       "      <th>delta</th>\n",
       "    </tr>\n",
       "    <tr>\n",
       "      <th>year</th>\n",
       "      <th></th>\n",
       "      <th></th>\n",
       "      <th></th>\n",
       "      <th></th>\n",
       "      <th></th>\n",
       "    </tr>\n",
       "  </thead>\n",
       "  <tbody>\n",
       "    <tr>\n",
       "      <th>1851</th>\n",
       "      <td>01</td>\n",
       "      <td>6261</td>\n",
       "      <td>0.086351</td>\n",
       "      <td>6261.000000</td>\n",
       "      <td>0.000000</td>\n",
       "    </tr>\n",
       "    <tr>\n",
       "      <th>1851</th>\n",
       "      <td>02</td>\n",
       "      <td>6007</td>\n",
       "      <td>0.082848</td>\n",
       "      <td>6007.000000</td>\n",
       "      <td>0.000000</td>\n",
       "    </tr>\n",
       "    <tr>\n",
       "      <th>1851</th>\n",
       "      <td>03</td>\n",
       "      <td>8812</td>\n",
       "      <td>0.121535</td>\n",
       "      <td>8812.000000</td>\n",
       "      <td>0.000000</td>\n",
       "    </tr>\n",
       "    <tr>\n",
       "      <th>1851</th>\n",
       "      <td>04</td>\n",
       "      <td>7818</td>\n",
       "      <td>0.107826</td>\n",
       "      <td>7818.000000</td>\n",
       "      <td>0.000000</td>\n",
       "    </tr>\n",
       "    <tr>\n",
       "      <th>1851</th>\n",
       "      <td>05</td>\n",
       "      <td>7406</td>\n",
       "      <td>0.102143</td>\n",
       "      <td>7406.000000</td>\n",
       "      <td>0.000000</td>\n",
       "    </tr>\n",
       "    <tr>\n",
       "      <th>...</th>\n",
       "      <td>...</td>\n",
       "      <td>...</td>\n",
       "      <td>...</td>\n",
       "      <td>...</td>\n",
       "      <td>...</td>\n",
       "    </tr>\n",
       "    <tr>\n",
       "      <th>2020</th>\n",
       "      <td>08</td>\n",
       "      <td>6968</td>\n",
       "      <td>0.071196</td>\n",
       "      <td>6986.083907</td>\n",
       "      <td>18.083907</td>\n",
       "    </tr>\n",
       "    <tr>\n",
       "      <th>2020</th>\n",
       "      <td>09</td>\n",
       "      <td>6772</td>\n",
       "      <td>0.069194</td>\n",
       "      <td>6789.575232</td>\n",
       "      <td>17.575232</td>\n",
       "    </tr>\n",
       "    <tr>\n",
       "      <th>2020</th>\n",
       "      <td>10</td>\n",
       "      <td>7281</td>\n",
       "      <td>0.074395</td>\n",
       "      <td>7299.896230</td>\n",
       "      <td>18.896230</td>\n",
       "    </tr>\n",
       "    <tr>\n",
       "      <th>2020</th>\n",
       "      <td>11</td>\n",
       "      <td>8220</td>\n",
       "      <td>0.083989</td>\n",
       "      <td>8241.333197</td>\n",
       "      <td>21.333197</td>\n",
       "    </tr>\n",
       "    <tr>\n",
       "      <th>2020</th>\n",
       "      <td>12</td>\n",
       "      <td>10187</td>\n",
       "      <td>0.104087</td>\n",
       "      <td>10213.438112</td>\n",
       "      <td>26.438112</td>\n",
       "    </tr>\n",
       "  </tbody>\n",
       "</table>\n",
       "<p>2040 rows × 5 columns</p>\n",
       "</div>"
      ],
      "text/plain": [
       "     month  deaths  ratio_of_year   corr_deaths      delta\n",
       "year                                                      \n",
       "1851    01    6261       0.086351   6261.000000   0.000000\n",
       "1851    02    6007       0.082848   6007.000000   0.000000\n",
       "1851    03    8812       0.121535   8812.000000   0.000000\n",
       "1851    04    7818       0.107826   7818.000000   0.000000\n",
       "1851    05    7406       0.102143   7406.000000   0.000000\n",
       "...    ...     ...            ...           ...        ...\n",
       "2020    08    6968       0.071196   6986.083907  18.083907\n",
       "2020    09    6772       0.069194   6789.575232  17.575232\n",
       "2020    10    7281       0.074395   7299.896230  18.896230\n",
       "2020    11    8220       0.083989   8241.333197  21.333197\n",
       "2020    12   10187       0.104087  10213.438112  26.438112\n",
       "\n",
       "[2040 rows x 5 columns]"
      ]
     },
     "execution_count": 62,
     "metadata": {},
     "output_type": "execute_result"
    }
   ],
   "source": [
    "hist_deaths"
   ]
  },
  {
   "cell_type": "code",
   "execution_count": 63,
   "metadata": {},
   "outputs": [
    {
     "data": {
      "text/plain": [
       "year\n",
       "1851   1851-01-01\n",
       "1851   1851-02-01\n",
       "1851   1851-03-01\n",
       "1851   1851-04-01\n",
       "1851   1851-05-01\n",
       "          ...    \n",
       "2020   2020-08-01\n",
       "2020   2020-09-01\n",
       "2020   2020-10-01\n",
       "2020   2020-11-01\n",
       "2020   2020-12-01\n",
       "Length: 2040, dtype: datetime64[ns]"
      ]
     },
     "execution_count": 63,
     "metadata": {},
     "output_type": "execute_result"
    }
   ],
   "source": [
    "dates = pd.to_datetime(hist_deaths.index + '-' + hist_deaths['month'],infer_datetime_format=True)\n",
    "dates"
   ]
  },
  {
   "cell_type": "code",
   "execution_count": 64,
   "metadata": {},
   "outputs": [
    {
     "data": {
      "text/html": [
       "<div>\n",
       "<style scoped>\n",
       "    .dataframe tbody tr th:only-of-type {\n",
       "        vertical-align: middle;\n",
       "    }\n",
       "\n",
       "    .dataframe tbody tr th {\n",
       "        vertical-align: top;\n",
       "    }\n",
       "\n",
       "    .dataframe thead th {\n",
       "        text-align: right;\n",
       "    }\n",
       "</style>\n",
       "<table border=\"1\" class=\"dataframe\">\n",
       "  <thead>\n",
       "    <tr style=\"text-align: right;\">\n",
       "      <th></th>\n",
       "      <th>month</th>\n",
       "      <th>deaths</th>\n",
       "      <th>ratio_of_year</th>\n",
       "      <th>corr_deaths</th>\n",
       "      <th>delta</th>\n",
       "    </tr>\n",
       "  </thead>\n",
       "  <tbody>\n",
       "    <tr>\n",
       "      <th>1851-01-01</th>\n",
       "      <td>01</td>\n",
       "      <td>6261</td>\n",
       "      <td>0.086351</td>\n",
       "      <td>6261.000000</td>\n",
       "      <td>0.000000</td>\n",
       "    </tr>\n",
       "    <tr>\n",
       "      <th>1851-02-01</th>\n",
       "      <td>02</td>\n",
       "      <td>6007</td>\n",
       "      <td>0.082848</td>\n",
       "      <td>6007.000000</td>\n",
       "      <td>0.000000</td>\n",
       "    </tr>\n",
       "    <tr>\n",
       "      <th>1851-03-01</th>\n",
       "      <td>03</td>\n",
       "      <td>8812</td>\n",
       "      <td>0.121535</td>\n",
       "      <td>8812.000000</td>\n",
       "      <td>0.000000</td>\n",
       "    </tr>\n",
       "    <tr>\n",
       "      <th>1851-04-01</th>\n",
       "      <td>04</td>\n",
       "      <td>7818</td>\n",
       "      <td>0.107826</td>\n",
       "      <td>7818.000000</td>\n",
       "      <td>0.000000</td>\n",
       "    </tr>\n",
       "    <tr>\n",
       "      <th>1851-05-01</th>\n",
       "      <td>05</td>\n",
       "      <td>7406</td>\n",
       "      <td>0.102143</td>\n",
       "      <td>7406.000000</td>\n",
       "      <td>0.000000</td>\n",
       "    </tr>\n",
       "    <tr>\n",
       "      <th>...</th>\n",
       "      <td>...</td>\n",
       "      <td>...</td>\n",
       "      <td>...</td>\n",
       "      <td>...</td>\n",
       "      <td>...</td>\n",
       "    </tr>\n",
       "    <tr>\n",
       "      <th>2020-08-01</th>\n",
       "      <td>08</td>\n",
       "      <td>6968</td>\n",
       "      <td>0.071196</td>\n",
       "      <td>6986.083907</td>\n",
       "      <td>18.083907</td>\n",
       "    </tr>\n",
       "    <tr>\n",
       "      <th>2020-09-01</th>\n",
       "      <td>09</td>\n",
       "      <td>6772</td>\n",
       "      <td>0.069194</td>\n",
       "      <td>6789.575232</td>\n",
       "      <td>17.575232</td>\n",
       "    </tr>\n",
       "    <tr>\n",
       "      <th>2020-10-01</th>\n",
       "      <td>10</td>\n",
       "      <td>7281</td>\n",
       "      <td>0.074395</td>\n",
       "      <td>7299.896230</td>\n",
       "      <td>18.896230</td>\n",
       "    </tr>\n",
       "    <tr>\n",
       "      <th>2020-11-01</th>\n",
       "      <td>11</td>\n",
       "      <td>8220</td>\n",
       "      <td>0.083989</td>\n",
       "      <td>8241.333197</td>\n",
       "      <td>21.333197</td>\n",
       "    </tr>\n",
       "    <tr>\n",
       "      <th>2020-12-01</th>\n",
       "      <td>12</td>\n",
       "      <td>10187</td>\n",
       "      <td>0.104087</td>\n",
       "      <td>10213.438112</td>\n",
       "      <td>26.438112</td>\n",
       "    </tr>\n",
       "  </tbody>\n",
       "</table>\n",
       "<p>2040 rows × 5 columns</p>\n",
       "</div>"
      ],
      "text/plain": [
       "           month  deaths  ratio_of_year   corr_deaths      delta\n",
       "1851-01-01    01    6261       0.086351   6261.000000   0.000000\n",
       "1851-02-01    02    6007       0.082848   6007.000000   0.000000\n",
       "1851-03-01    03    8812       0.121535   8812.000000   0.000000\n",
       "1851-04-01    04    7818       0.107826   7818.000000   0.000000\n",
       "1851-05-01    05    7406       0.102143   7406.000000   0.000000\n",
       "...          ...     ...            ...           ...        ...\n",
       "2020-08-01    08    6968       0.071196   6986.083907  18.083907\n",
       "2020-09-01    09    6772       0.069194   6789.575232  17.575232\n",
       "2020-10-01    10    7281       0.074395   7299.896230  18.896230\n",
       "2020-11-01    11    8220       0.083989   8241.333197  21.333197\n",
       "2020-12-01    12   10187       0.104087  10213.438112  26.438112\n",
       "\n",
       "[2040 rows x 5 columns]"
      ]
     },
     "execution_count": 64,
     "metadata": {},
     "output_type": "execute_result"
    }
   ],
   "source": [
    "hist_deaths.index = dates\n",
    "hist_deaths"
   ]
  },
  {
   "cell_type": "code",
   "execution_count": 65,
   "metadata": {},
   "outputs": [
    {
     "data": {
      "text/plain": [
       "1851-01-01     6261.000000\n",
       "1851-02-01     6007.000000\n",
       "1851-03-01     8812.000000\n",
       "1851-04-01     7818.000000\n",
       "1851-05-01     7406.000000\n",
       "                  ...     \n",
       "2020-08-01     6986.083907\n",
       "2020-09-01     6789.575232\n",
       "2020-10-01     7299.896230\n",
       "2020-11-01     8241.333197\n",
       "2020-12-01    10213.438112\n",
       "Name: corr_deaths, Length: 2040, dtype: float64"
      ]
     },
     "execution_count": 65,
     "metadata": {},
     "output_type": "execute_result"
    }
   ],
   "source": [
    "hist_deaths_ytd = hist_deaths.copy()\n",
    "hist_deaths_ytd = hist_deaths_ytd['corr_deaths']\n",
    "hist_deaths_ytd"
   ]
  },
  {
   "cell_type": "code",
   "execution_count": 66,
   "metadata": {},
   "outputs": [
    {
     "data": {
      "text/plain": [
       "0.0"
      ]
     },
     "execution_count": 66,
     "metadata": {},
     "output_type": "execute_result"
    }
   ],
   "source": [
    "(hist_deaths_ytd[hist_deaths_ytd.index.get_level_values(0) == 2019]).sum()"
   ]
  },
  {
   "cell_type": "code",
   "execution_count": 67,
   "metadata": {},
   "outputs": [
    {
     "name": "stdout",
     "output_type": "stream",
     "text": [
      "<class 'pandas.core.frame.DataFrame'>\n",
      "DatetimeIndex: 366 entries, 2020-01-01 to 2020-12-31\n",
      "Freq: D\n",
      "Data columns (total 8 columns):\n",
      " #   Column         Non-Null Count  Dtype  \n",
      "---  ------         --------------  -----  \n",
      " 0   2015           366 non-null    float64\n",
      " 1   2016           366 non-null    float64\n",
      " 2   2017           366 non-null    float64\n",
      " 3   2018           366 non-null    float64\n",
      " 4   2019           366 non-null    float64\n",
      " 5   2020           366 non-null    float64\n",
      " 6   2015-2018_avg  366 non-null    float64\n",
      " 7   excess         366 non-null    float64\n",
      "dtypes: float64(8)\n",
      "memory usage: 25.7 KB\n"
     ]
    }
   ],
   "source": [
    "df = df.astype(float)\n",
    "df.info()"
   ]
  },
  {
   "cell_type": "code",
   "execution_count": 68,
   "metadata": {},
   "outputs": [
    {
     "data": {
      "text/plain": [
       "2015             90907.0\n",
       "2016             90982.0\n",
       "2017             91972.0\n",
       "2018             92185.0\n",
       "2019             88766.0\n",
       "2020             97164.0\n",
       "2015-2018_avg    91511.5\n",
       "excess            5652.5\n",
       "dtype: float64"
      ]
     },
     "execution_count": 68,
     "metadata": {},
     "output_type": "execute_result"
    }
   ],
   "source": [
    "df_monthly = df.resample('M').sum()\n",
    "df_monthly.sum()"
   ]
  },
  {
   "cell_type": "code",
   "execution_count": 69,
   "metadata": {},
   "outputs": [
    {
     "data": {
      "text/plain": [
       "1851-01-01    6261.000000\n",
       "1851-02-01    6007.000000\n",
       "1851-03-01    8812.000000\n",
       "1851-04-01    7818.000000\n",
       "1851-05-01    7406.000000\n",
       "                 ...     \n",
       "2020-08-31    6973.379770\n",
       "2020-09-30    6766.890475\n",
       "2020-10-31    7246.644210\n",
       "2020-11-30    8222.588638\n",
       "2020-12-31    9362.902655\n",
       "Length: 2052, dtype: float64"
      ]
     },
     "execution_count": 69,
     "metadata": {},
     "output_type": "execute_result"
    }
   ],
   "source": [
    "hist_deaths_ytd = pd.concat([hist_deaths_ytd,df_monthly['2020']])\n",
    "hist_deaths_ytd"
   ]
  },
  {
   "cell_type": "code",
   "execution_count": 70,
   "metadata": {},
   "outputs": [
    {
     "data": {
      "text/plain": [
       "2017-11-01     7498.060518\n",
       "2017-12-01     8276.728390\n",
       "2018-01-01     8826.746087\n",
       "2018-02-01     8359.489052\n",
       "2018-03-01     9462.456302\n",
       "2018-04-01     7818.032403\n",
       "2018-05-01     6971.755713\n",
       "2018-06-01     6680.973438\n",
       "2018-07-01     7488.144925\n",
       "2018-08-01     6989.804268\n",
       "2018-09-01     6970.753016\n",
       "2018-10-01     7460.069395\n",
       "2018-11-01     7121.157641\n",
       "2018-12-01     8035.617760\n",
       "2019-01-01     8396.783784\n",
       "2019-02-01     7509.163902\n",
       "2019-03-01     7814.063839\n",
       "2019-04-01     7394.826426\n",
       "2019-05-01     7168.157394\n",
       "2019-06-01     6653.638751\n",
       "2019-07-01     6964.556449\n",
       "2019-08-01     7051.813997\n",
       "2019-09-01     6875.292981\n",
       "2019-10-01     7558.308958\n",
       "2019-11-01     7460.018847\n",
       "2019-12-01     7919.374672\n",
       "2020-01-01     8369.665393\n",
       "2020-02-01     7560.571002\n",
       "2020-03-01     8579.207806\n",
       "2020-04-01    10582.393175\n",
       "2020-05-01     8944.152488\n",
       "2020-06-01     7459.308879\n",
       "2020-07-01     7098.374579\n",
       "2020-08-01     6986.083907\n",
       "2020-09-01     6789.575232\n",
       "2020-10-01     7299.896230\n",
       "2020-11-01     8241.333197\n",
       "2020-12-01    10213.438112\n",
       "2020-01-31     8347.920449\n",
       "2020-02-29     7567.164906\n",
       "2020-03-31     8599.611381\n",
       "2020-04-30    10658.340470\n",
       "2020-05-31     8943.760206\n",
       "2020-06-30     7437.723856\n",
       "2020-07-31     7037.072985\n",
       "2020-08-31     6973.379770\n",
       "2020-09-30     6766.890475\n",
       "2020-10-31     7246.644210\n",
       "2020-11-30     8222.588638\n",
       "2020-12-31     9362.902655\n",
       "dtype: float64"
      ]
     },
     "execution_count": 70,
     "metadata": {},
     "output_type": "execute_result"
    }
   ],
   "source": [
    "hist_deaths_ytd.tail(50)"
   ]
  },
  {
   "cell_type": "code",
   "execution_count": 71,
   "metadata": {},
   "outputs": [
    {
     "data": {
      "text/plain": [
       "<AxesSubplot:>"
      ]
     },
     "execution_count": 71,
     "metadata": {},
     "output_type": "execute_result"
    },
    {
     "data": {
      "image/png": "[encoded data removed]",
      "text/plain": [
       "<Figure size 1296x864 with 1 Axes>"
      ]
     },
     "metadata": {},
     "output_type": "display_data"
    }
   ],
   "source": [
    "hist_deaths_ytd.plot(figsize=(18,12))"
   ]
  },
  {
   "cell_type": "code",
   "execution_count": 72,
   "metadata": {},
   "outputs": [
    {
     "data": {
      "image/png": "[encoded data removed]",
      "text/plain": [
       "<Figure size 1296x864 with 1 Axes>"
      ]
     },
     "metadata": {},
     "output_type": "display_data"
    }
   ],
   "source": [
    "plt.figure(figsize=(18,12))\n",
    "plt.title('SWEDEN monthly abs deaths 1851 - 2020 YTD {}'.format(hist_deaths_ytd.index[-2].date()))\n",
    "plt.plot(hist_deaths_ytd[:-1])\n",
    "plt.ylabel('number of deaths per month')\n",
    "plt.savefig('swe_historical_abs_deaths.jpg',format='jpg')"
   ]
  },
  {
   "cell_type": "code",
   "execution_count": 73,
   "metadata": {},
   "outputs": [],
   "source": [
    "## population 1860 - 2020\n",
    "\n",
    "pop_url = 'http://api.scb.se/OV0104/v1/doris/sv/ssd/START/BE/BE0101/BE0101A/BefolkningR1860'\n",
    "\n",
    "pop_data = {\n",
    "  \"query\": [\n",
    "    {\n",
    "      \"code\": \"Alder\",\n",
    "      \"selection\": {\n",
    "        \"filter\": \"vs:Ålder1årA\",\n",
    "        \"values\": [\n",
    "          \"0\",\n",
    "          \"1\",\n",
    "          \"2\",\n",
    "          \"3\",\n",
    "          \"4\",\n",
    "          \"5\",\n",
    "          \"6\",\n",
    "          \"7\",\n",
    "          \"8\",\n",
    "          \"9\",\n",
    "          \"10\",\n",
    "          \"11\",\n",
    "          \"12\",\n",
    "          \"13\",\n",
    "          \"14\",\n",
    "          \"15\",\n",
    "          \"16\",\n",
    "          \"17\",\n",
    "          \"18\",\n",
    "          \"19\",\n",
    "          \"20\",\n",
    "          \"21\",\n",
    "          \"22\",\n",
    "          \"23\",\n",
    "          \"24\",\n",
    "          \"25\",\n",
    "          \"26\",\n",
    "          \"27\",\n",
    "          \"28\",\n",
    "          \"29\",\n",
    "          \"30\",\n",
    "          \"31\",\n",
    "          \"32\",\n",
    "          \"33\",\n",
    "          \"34\",\n",
    "          \"35\",\n",
    "          \"36\",\n",
    "          \"37\",\n",
    "          \"38\",\n",
    "          \"39\",\n",
    "          \"40\",\n",
    "          \"41\",\n",
    "          \"42\",\n",
    "          \"43\",\n",
    "          \"44\",\n",
    "          \"45\",\n",
    "          \"46\",\n",
    "          \"47\",\n",
    "          \"48\",\n",
    "          \"49\",\n",
    "          \"50\",\n",
    "          \"51\",\n",
    "          \"52\",\n",
    "          \"53\",\n",
    "          \"54\",\n",
    "          \"55\",\n",
    "          \"56\",\n",
    "          \"57\",\n",
    "          \"58\",\n",
    "          \"59\",\n",
    "          \"60\",\n",
    "          \"61\",\n",
    "          \"62\",\n",
    "          \"63\",\n",
    "          \"64\",\n",
    "          \"65\",\n",
    "          \"66\",\n",
    "          \"67\",\n",
    "          \"68\",\n",
    "          \"69\",\n",
    "          \"70\",\n",
    "          \"71\",\n",
    "          \"72\",\n",
    "          \"73\",\n",
    "          \"74\",\n",
    "          \"75\",\n",
    "          \"76\",\n",
    "          \"77\",\n",
    "          \"78\",\n",
    "          \"79\",\n",
    "          \"80\",\n",
    "          \"81\",\n",
    "          \"82\",\n",
    "          \"83\",\n",
    "          \"84\",\n",
    "          \"85\",\n",
    "          \"86\",\n",
    "          \"87\",\n",
    "          \"88\",\n",
    "          \"89\",\n",
    "          \"90\",\n",
    "          \"91\",\n",
    "          \"92\",\n",
    "          \"93\",\n",
    "          \"94\",\n",
    "          \"95\",\n",
    "          \"96\",\n",
    "          \"97\",\n",
    "          \"98\",\n",
    "          \"99\",\n",
    "          \"100+\"\n",
    "        ]\n",
    "      }\n",
    "    },\n",
    "    {\n",
    "      \"code\": \"Kon\",\n",
    "      \"selection\": {\n",
    "        \"filter\": \"item\",\n",
    "        \"values\": [\n",
    "          \"1\",\n",
    "          \"2\"\n",
    "        ]\n",
    "      }\n",
    "    }\n",
    "  ],\n",
    "  \"response\": {\n",
    "    \"format\": \"json\"\n",
    "  }\n",
    "}"
   ]
  },
  {
   "cell_type": "code",
   "execution_count": 74,
   "metadata": {},
   "outputs": [],
   "source": [
    "r_pop = requests.post(pop_url, json=pop_data)"
   ]
  },
  {
   "cell_type": "code",
   "execution_count": 75,
   "metadata": {},
   "outputs": [
    {
     "data": {
      "text/plain": [
       "404"
      ]
     },
     "execution_count": 75,
     "metadata": {},
     "output_type": "execute_result"
    }
   ],
   "source": [
    "r_pop.status_code"
   ]
  },
  {
   "cell_type": "code",
   "execution_count": 76,
   "metadata": {},
   "outputs": [
    {
     "ename": "JSONDecodeError",
     "evalue": "Expecting value: line 1 column 1 (char 0)",
     "output_type": "error",
     "traceback": [
      "\u001b[0;31m---------------------------------------------------------------------------\u001b[0m",
      "\u001b[0;31mJSONDecodeError\u001b[0m                           Traceback (most recent call last)",
      "\u001b[0;32m<ipython-input-76-0597a10f49fe>\u001b[0m in \u001b[0;36m<module>\u001b[0;34m\u001b[0m\n\u001b[0;32m----> 1\u001b[0;31m \u001b[0mpop_json\u001b[0m \u001b[0;34m=\u001b[0m \u001b[0mr_pop\u001b[0m\u001b[0;34m.\u001b[0m\u001b[0mjson\u001b[0m\u001b[0;34m(\u001b[0m\u001b[0;34m)\u001b[0m\u001b[0;34m\u001b[0m\u001b[0;34m\u001b[0m\u001b[0m\n\u001b[0m\u001b[1;32m      2\u001b[0m \u001b[0mpop_json\u001b[0m\u001b[0;34m[\u001b[0m\u001b[0;34m'data'\u001b[0m\u001b[0;34m]\u001b[0m\u001b[0;34m[\u001b[0m\u001b[0;36m0\u001b[0m\u001b[0;34m]\u001b[0m\u001b[0;34m\u001b[0m\u001b[0;34m\u001b[0m\u001b[0m\n",
      "\u001b[0;32m/usr/lib/python3.8/site-packages/requests/models.py\u001b[0m in \u001b[0;36mjson\u001b[0;34m(self, **kwargs)\u001b[0m\n\u001b[1;32m    895\u001b[0m                     \u001b[0;31m# used.\u001b[0m\u001b[0;34m\u001b[0m\u001b[0;34m\u001b[0m\u001b[0;34m\u001b[0m\u001b[0m\n\u001b[1;32m    896\u001b[0m                     \u001b[0;32mpass\u001b[0m\u001b[0;34m\u001b[0m\u001b[0;34m\u001b[0m\u001b[0m\n\u001b[0;32m--> 897\u001b[0;31m         \u001b[0;32mreturn\u001b[0m \u001b[0mcomplexjson\u001b[0m\u001b[0;34m.\u001b[0m\u001b[0mloads\u001b[0m\u001b[0;34m(\u001b[0m\u001b[0mself\u001b[0m\u001b[0;34m.\u001b[0m\u001b[0mtext\u001b[0m\u001b[0;34m,\u001b[0m \u001b[0;34m**\u001b[0m\u001b[0mkwargs\u001b[0m\u001b[0;34m)\u001b[0m\u001b[0;34m\u001b[0m\u001b[0;34m\u001b[0m\u001b[0m\n\u001b[0m\u001b[1;32m    898\u001b[0m \u001b[0;34m\u001b[0m\u001b[0m\n\u001b[1;32m    899\u001b[0m     \u001b[0;34m@\u001b[0m\u001b[0mproperty\u001b[0m\u001b[0;34m\u001b[0m\u001b[0;34m\u001b[0m\u001b[0m\n",
      "\u001b[0;32m/usr/lib64/python3.8/json/__init__.py\u001b[0m in \u001b[0;36mloads\u001b[0;34m(s, cls, object_hook, parse_float, parse_int, parse_constant, object_pairs_hook, **kw)\u001b[0m\n\u001b[1;32m    355\u001b[0m             \u001b[0mparse_int\u001b[0m \u001b[0;32mis\u001b[0m \u001b[0;32mNone\u001b[0m \u001b[0;32mand\u001b[0m \u001b[0mparse_float\u001b[0m \u001b[0;32mis\u001b[0m \u001b[0;32mNone\u001b[0m \u001b[0;32mand\u001b[0m\u001b[0;34m\u001b[0m\u001b[0;34m\u001b[0m\u001b[0m\n\u001b[1;32m    356\u001b[0m             parse_constant is None and object_pairs_hook is None and not kw):\n\u001b[0;32m--> 357\u001b[0;31m         \u001b[0;32mreturn\u001b[0m \u001b[0m_default_decoder\u001b[0m\u001b[0;34m.\u001b[0m\u001b[0mdecode\u001b[0m\u001b[0;34m(\u001b[0m\u001b[0ms\u001b[0m\u001b[0;34m)\u001b[0m\u001b[0;34m\u001b[0m\u001b[0;34m\u001b[0m\u001b[0m\n\u001b[0m\u001b[1;32m    358\u001b[0m     \u001b[0;32mif\u001b[0m \u001b[0mcls\u001b[0m \u001b[0;32mis\u001b[0m \u001b[0;32mNone\u001b[0m\u001b[0;34m:\u001b[0m\u001b[0;34m\u001b[0m\u001b[0;34m\u001b[0m\u001b[0m\n\u001b[1;32m    359\u001b[0m         \u001b[0mcls\u001b[0m \u001b[0;34m=\u001b[0m \u001b[0mJSONDecoder\u001b[0m\u001b[0;34m\u001b[0m\u001b[0;34m\u001b[0m\u001b[0m\n",
      "\u001b[0;32m/usr/lib64/python3.8/json/decoder.py\u001b[0m in \u001b[0;36mdecode\u001b[0;34m(self, s, _w)\u001b[0m\n\u001b[1;32m    335\u001b[0m \u001b[0;34m\u001b[0m\u001b[0m\n\u001b[1;32m    336\u001b[0m         \"\"\"\n\u001b[0;32m--> 337\u001b[0;31m         \u001b[0mobj\u001b[0m\u001b[0;34m,\u001b[0m \u001b[0mend\u001b[0m \u001b[0;34m=\u001b[0m \u001b[0mself\u001b[0m\u001b[0;34m.\u001b[0m\u001b[0mraw_decode\u001b[0m\u001b[0;34m(\u001b[0m\u001b[0ms\u001b[0m\u001b[0;34m,\u001b[0m \u001b[0midx\u001b[0m\u001b[0;34m=\u001b[0m\u001b[0m_w\u001b[0m\u001b[0;34m(\u001b[0m\u001b[0ms\u001b[0m\u001b[0;34m,\u001b[0m \u001b[0;36m0\u001b[0m\u001b[0;34m)\u001b[0m\u001b[0;34m.\u001b[0m\u001b[0mend\u001b[0m\u001b[0;34m(\u001b[0m\u001b[0;34m)\u001b[0m\u001b[0;34m)\u001b[0m\u001b[0;34m\u001b[0m\u001b[0;34m\u001b[0m\u001b[0m\n\u001b[0m\u001b[1;32m    338\u001b[0m         \u001b[0mend\u001b[0m \u001b[0;34m=\u001b[0m \u001b[0m_w\u001b[0m\u001b[0;34m(\u001b[0m\u001b[0ms\u001b[0m\u001b[0;34m,\u001b[0m \u001b[0mend\u001b[0m\u001b[0;34m)\u001b[0m\u001b[0;34m.\u001b[0m\u001b[0mend\u001b[0m\u001b[0;34m(\u001b[0m\u001b[0;34m)\u001b[0m\u001b[0;34m\u001b[0m\u001b[0;34m\u001b[0m\u001b[0m\n\u001b[1;32m    339\u001b[0m         \u001b[0;32mif\u001b[0m \u001b[0mend\u001b[0m \u001b[0;34m!=\u001b[0m \u001b[0mlen\u001b[0m\u001b[0;34m(\u001b[0m\u001b[0ms\u001b[0m\u001b[0;34m)\u001b[0m\u001b[0;34m:\u001b[0m\u001b[0;34m\u001b[0m\u001b[0;34m\u001b[0m\u001b[0m\n",
      "\u001b[0;32m/usr/lib64/python3.8/json/decoder.py\u001b[0m in \u001b[0;36mraw_decode\u001b[0;34m(self, s, idx)\u001b[0m\n\u001b[1;32m    353\u001b[0m             \u001b[0mobj\u001b[0m\u001b[0;34m,\u001b[0m \u001b[0mend\u001b[0m \u001b[0;34m=\u001b[0m \u001b[0mself\u001b[0m\u001b[0;34m.\u001b[0m\u001b[0mscan_once\u001b[0m\u001b[0;34m(\u001b[0m\u001b[0ms\u001b[0m\u001b[0;34m,\u001b[0m \u001b[0midx\u001b[0m\u001b[0;34m)\u001b[0m\u001b[0;34m\u001b[0m\u001b[0;34m\u001b[0m\u001b[0m\n\u001b[1;32m    354\u001b[0m         \u001b[0;32mexcept\u001b[0m \u001b[0mStopIteration\u001b[0m \u001b[0;32mas\u001b[0m \u001b[0merr\u001b[0m\u001b[0;34m:\u001b[0m\u001b[0;34m\u001b[0m\u001b[0;34m\u001b[0m\u001b[0m\n\u001b[0;32m--> 355\u001b[0;31m             \u001b[0;32mraise\u001b[0m \u001b[0mJSONDecodeError\u001b[0m\u001b[0;34m(\u001b[0m\u001b[0;34m\"Expecting value\"\u001b[0m\u001b[0;34m,\u001b[0m \u001b[0ms\u001b[0m\u001b[0;34m,\u001b[0m \u001b[0merr\u001b[0m\u001b[0;34m.\u001b[0m\u001b[0mvalue\u001b[0m\u001b[0;34m)\u001b[0m \u001b[0;32mfrom\u001b[0m \u001b[0;32mNone\u001b[0m\u001b[0;34m\u001b[0m\u001b[0;34m\u001b[0m\u001b[0m\n\u001b[0m\u001b[1;32m    356\u001b[0m         \u001b[0;32mreturn\u001b[0m \u001b[0mobj\u001b[0m\u001b[0;34m,\u001b[0m \u001b[0mend\u001b[0m\u001b[0;34m\u001b[0m\u001b[0;34m\u001b[0m\u001b[0m\n",
      "\u001b[0;31mJSONDecodeError\u001b[0m: Expecting value: line 1 column 1 (char 0)"
     ]
    }
   ],
   "source": [
    "pop_json = r_pop.json()\n",
    "pop_json['data'][0]"
   ]
  },
  {
   "cell_type": "code",
   "execution_count": null,
   "metadata": {},
   "outputs": [],
   "source": [
    "pop_list = []\n",
    "\n",
    "nr_records = (len(pop_json['data']))\n",
    "\n",
    "for rec in range(nr_records):\n",
    "\n",
    "    pop_list.append ((pop_json['data'][rec]['key'][0],pop_json['data'][rec]['key'][1],\n",
    "                       pop_json['data'][rec]['key'][2],\n",
    "                        pop_json['data'][rec]['values'][0]))\n",
    "\n"
   ]
  },
  {
   "cell_type": "code",
   "execution_count": null,
   "metadata": {},
   "outputs": [],
   "source": [
    "l = list(range(0,100))\n",
    "\n",
    "str_l = [str(i) for i in l]\n",
    "\n",
    "str_l.append('100+')\n",
    "str_l"
   ]
  },
  {
   "cell_type": "code",
   "execution_count": null,
   "metadata": {},
   "outputs": [],
   "source": [
    "pop_df = pd.DataFrame(pop_list,columns=['age','gender','year','pop'])\n",
    "pop_df['pop'] = pop_df['pop'].astype(int)\n",
    "pop_df['age'] = pd.Categorical(pop_df['age'],str_l)\n"
   ]
  },
  {
   "cell_type": "code",
   "execution_count": null,
   "metadata": {},
   "outputs": [],
   "source": [
    "pop_df = pop_df.sort_values(['year','age'])\n",
    "pop_df"
   ]
  },
  {
   "cell_type": "code",
   "execution_count": null,
   "metadata": {},
   "outputs": [],
   "source": [
    "pop_df = pop_df.groupby(['year','age']).sum()\n",
    "pop_df"
   ]
  },
  {
   "cell_type": "code",
   "execution_count": null,
   "metadata": {
    "scrolled": false
   },
   "outputs": [],
   "source": [
    "pop_df.loc['2019'].sum()"
   ]
  },
  {
   "cell_type": "code",
   "execution_count": null,
   "metadata": {},
   "outputs": [],
   "source": [
    "total_pops = pop_df.groupby('year').sum()\n",
    "total_pops.index = pd.to_datetime(total_pops.index).year"
   ]
  },
  {
   "cell_type": "code",
   "execution_count": null,
   "metadata": {
    "scrolled": false
   },
   "outputs": [],
   "source": [
    "total_pops"
   ]
  },
  {
   "cell_type": "code",
   "execution_count": null,
   "metadata": {},
   "outputs": [],
   "source": [
    "hist_deaths_ytd.resample('Y').sum()"
   ]
  },
  {
   "cell_type": "code",
   "execution_count": null,
   "metadata": {},
   "outputs": [],
   "source": [
    "yearly_abs_deaths = hist_deaths_ytd.resample('Y').sum()\n",
    "\n",
    "yearly_abs_deaths.index = yearly_abs_deaths.index.year"
   ]
  },
  {
   "cell_type": "code",
   "execution_count": null,
   "metadata": {
    "scrolled": false
   },
   "outputs": [],
   "source": [
    "yearly_abs_deaths"
   ]
  },
  {
   "cell_type": "code",
   "execution_count": null,
   "metadata": {},
   "outputs": [],
   "source": [
    "# includes partial 2020 deaths ! #\n",
    "\n",
    "title='SWEDEN population 1861 - 2019'\n",
    "#ax = yearly_abs_deaths[:-1].plot(label='abs_deaths',style='ro--',figsize=(18,12),title=title)\n",
    "#ax.legend(loc='upper left')\n",
    "#ax.set_ylabel('abs deaths')\n",
    "#ax = plt.gca()\n",
    "#ax2 = plt.twinx()\n",
    "total_pops.plot(style='bo--',figsize=(18,12),title=title)\n",
    "plt.ylabel('population')\n",
    "plt.xlabel('year')\n",
    "plt.legend(loc='upper left')\n",
    "#ax2.legend(loc='upper right')\n",
    "#ax2.set_ylabel('population')\n",
    "\n",
    "plt.savefig('awe_pop_1861_2019.jpg',format='jpg')"
   ]
  },
  {
   "cell_type": "code",
   "execution_count": null,
   "metadata": {},
   "outputs": [],
   "source": [
    "hist_deaths_ytd"
   ]
  },
  {
   "cell_type": "code",
   "execution_count": null,
   "metadata": {},
   "outputs": [],
   "source": [
    "total_pops.loc['2020','pop'] = np.nan\n",
    "total_pops = total_pops.shift()\n",
    "total_pops"
   ]
  },
  {
   "cell_type": "code",
   "execution_count": null,
   "metadata": {},
   "outputs": [],
   "source": [
    "foo = hist_deaths_ytd.groupby([hist_deaths_ytd.index.year]).sum()\n",
    "foo.index.name='year'\n",
    "foo"
   ]
  },
  {
   "cell_type": "code",
   "execution_count": null,
   "metadata": {},
   "outputs": [],
   "source": [
    "hist_deaths_ytd = pd.DataFrame(hist_deaths_ytd)\n",
    "hist_deaths_ytd['year'] = hist_deaths_ytd.index.year\n",
    "hist_deaths_ytd.columns=['dead','year']"
   ]
  },
  {
   "cell_type": "code",
   "execution_count": null,
   "metadata": {},
   "outputs": [],
   "source": [
    "hist_deaths_ytd"
   ]
  },
  {
   "cell_type": "code",
   "execution_count": null,
   "metadata": {},
   "outputs": [],
   "source": [
    "total_pops.index = pd.to_datetime(total_pops.index,format='%Y')\n",
    "total_pops['y'] = total_pops.index.year\n",
    "total_pops"
   ]
  },
  {
   "cell_type": "code",
   "execution_count": null,
   "metadata": {},
   "outputs": [],
   "source": [
    "total_pops.reset_index()"
   ]
  },
  {
   "cell_type": "code",
   "execution_count": null,
   "metadata": {},
   "outputs": [],
   "source": [
    "hist_deaths_ytd = hist_deaths_ytd.reset_index()\n",
    "hist_deaths_ytd"
   ]
  },
  {
   "cell_type": "code",
   "execution_count": null,
   "metadata": {},
   "outputs": [],
   "source": [
    "hist_deaths_ytd = hist_deaths_ytd.set_index('year')\n",
    "hist_deaths_ytd"
   ]
  },
  {
   "cell_type": "code",
   "execution_count": null,
   "metadata": {},
   "outputs": [],
   "source": [
    "total_pops = total_pops.set_index('y')\n",
    "total_pops"
   ]
  },
  {
   "cell_type": "code",
   "execution_count": null,
   "metadata": {},
   "outputs": [],
   "source": [
    "mortality_per_month = hist_deaths_ytd['dead'] / total_pops['pop']\n",
    "mortality_per_month = pd.DataFrame(mortality_per_month,columns=['mortality'])\n",
    "mortality_per_month"
   ]
  },
  {
   "cell_type": "code",
   "execution_count": null,
   "metadata": {},
   "outputs": [],
   "source": [
    "mortality_per_month.index = hist_deaths_ytd['index']\n",
    "mortality_per_month['month'] = mortality_per_month.index.month\n",
    "mortality_per_month"
   ]
  },
  {
   "cell_type": "code",
   "execution_count": null,
   "metadata": {},
   "outputs": [],
   "source": [
    "mortality_per_month = mortality_per_month.dropna()"
   ]
  },
  {
   "cell_type": "code",
   "execution_count": null,
   "metadata": {},
   "outputs": [],
   "source": [
    "mortality_per_month"
   ]
  },
  {
   "cell_type": "code",
   "execution_count": null,
   "metadata": {},
   "outputs": [],
   "source": [
    "### param ### \n",
    "last_complete_month = 12\n",
    "###\n",
    "\n",
    "full_mortality_per_month = mortality_per_month.copy()\n",
    "\n",
    "mortality_per_month = mortality_per_month.loc[mortality_per_month['month'] <= last_complete_month]\n"
   ]
  },
  {
   "cell_type": "code",
   "execution_count": null,
   "metadata": {},
   "outputs": [],
   "source": [
    "yearly_mortality = mortality_per_month.groupby(mortality_per_month.index.year).sum()\n",
    "yearly_mortality"
   ]
  },
  {
   "cell_type": "code",
   "execution_count": null,
   "metadata": {},
   "outputs": [],
   "source": [
    "title = 'SWEDEN monthly mortality 1861 - 2020, for period Jan 1:st - {} last'.format(\n",
    "mortality_per_month.index[-1].month_name())\n",
    "mortality_per_month.plot(y='mortality',figsize=(18,12),title=title)\n",
    "plt.ylabel('YTD monthly mortality')\n",
    "plt.xlabel('year')"
   ]
  },
  {
   "cell_type": "code",
   "execution_count": null,
   "metadata": {},
   "outputs": [],
   "source": [
    "mortality_per_month.index[-1].date()"
   ]
  },
  {
   "cell_type": "code",
   "execution_count": null,
   "metadata": {},
   "outputs": [],
   "source": [
    "yearly_mortality.plot(y='mortality',figsize=(18,12),style='o--',\n",
    "                      title='SWEDEN mortality YTD 1861 - 2020, for period Jan 1st - {} last'.format(\n",
    "mortality_per_month.index[-1].month_name()))\n",
    "\n",
    "plt.ylabel('YTD mortality')\n",
    "plt.xlabel('year')\n",
    "\n",
    "plt.savefig('swe_historical_mortality_YTD_1861_2020.jpg',format='jpg')"
   ]
  },
  {
   "cell_type": "code",
   "execution_count": null,
   "metadata": {},
   "outputs": [],
   "source": [
    "(mortality_per_month.loc['2020-01-01' :,'mortality' ]).plot(style='o--')\n",
    "mortality_per_month"
   ]
  },
  {
   "cell_type": "code",
   "execution_count": null,
   "metadata": {},
   "outputs": [],
   "source": [
    "year_month_mortality = mortality_per_month.groupby([mortality_per_month.index.year,\n",
    "                                                    mortality_per_month.index.month]).mean()\n",
    "\n",
    "year_month_mortality = year_month_mortality.droplevel(level=1)\n",
    "year_month_mortality"
   ]
  },
  {
   "cell_type": "code",
   "execution_count": null,
   "metadata": {},
   "outputs": [],
   "source": []
  },
  {
   "cell_type": "code",
   "execution_count": null,
   "metadata": {},
   "outputs": [],
   "source": [
    "avg_mortality_15_18 = year_month_mortality.loc['2015' : '2018'].groupby('month').mean()\n",
    "avg_mortality_15_18"
   ]
  },
  {
   "cell_type": "code",
   "execution_count": null,
   "metadata": {},
   "outputs": [],
   "source": [
    "monthly_mort_2020 = mortality_per_month.loc['2020-01-01' :,'mortality']\n",
    "monthly_mort_2020"
   ]
  },
  {
   "cell_type": "code",
   "execution_count": null,
   "metadata": {},
   "outputs": [],
   "source": [
    "title = 'SWEDEN 2020 monthly mortality Jan 1:st - {} last cmp baseline 2015-2018'.format(\n",
    "    mortality_per_month.index[-1].month_name())\n",
    "\n",
    "ax = avg_mortality_15_18.reset_index().plot(y='mortality',title=title,\n",
    "                                            style='o--',label='avg 15-18',figsize=(18,12))\n",
    "\n",
    "(mortality_per_month.loc['2020-01-01' :,'mortality' ]).reset_index().plot(style='o--',y='mortality',\n",
    "                                                                          label='2020',ax=ax)\n",
    "\n",
    "plt.xticks(range(len(avg_mortality_15_18)),range(1,len(avg_mortality_15_18) + 1))\n",
    "plt.xlabel('month')\n",
    "plt.ylabel('monthly mortality')\n",
    "plt.legend(loc='upper left')\n",
    "\n",
    "ax2 = plt.twinx()\n",
    "\n",
    "ax2.plot(avg_mortality_15_18['mortality'].values.cumsum(),'x--',label='avg 15-18 cumulative mortality YTD')\n",
    "ax2.plot(monthly_mort_2020.values.cumsum(),'x--',label='2020 cumulative mortality YTD')\n",
    "\n",
    "ax2.set_ylabel('cumulative mortality YTD')\n",
    "ax2.legend(loc='upper center')\n",
    "plt.savefig('swe_monthly_mortality_vs_baseline.jpg',format='jpg')"
   ]
  },
  {
   "cell_type": "code",
   "execution_count": null,
   "metadata": {},
   "outputs": [],
   "source": [
    "death_url = 'http://api.scb.se/OV0104/v1/doris/sv/ssd/START/BE/BE0101/BE0101I/DodaFodelsearK'\n",
    "\n",
    "death_data = {\n",
    "  \"query\": [\n",
    "    {\n",
    "      \"code\": \"Region\",\n",
    "      \"selection\": {\n",
    "        \"filter\": \"vs:RegionRiket99\",\n",
    "        \"values\": [\n",
    "          \"00\"\n",
    "        ]\n",
    "      }\n",
    "    },\n",
    "    {\n",
    "      \"code\": \"Alder\",\n",
    "      \"selection\": {\n",
    "        \"filter\": \"vs:Ålder1årA\",\n",
    "        \"values\": [\n",
    "          \"0\",\n",
    "          \"1\",\n",
    "          \"2\",\n",
    "          \"3\",\n",
    "          \"4\",\n",
    "          \"5\",\n",
    "          \"6\",\n",
    "          \"7\",\n",
    "          \"8\",\n",
    "          \"9\",\n",
    "          \"10\",\n",
    "          \"11\",\n",
    "          \"12\",\n",
    "          \"13\",\n",
    "          \"14\",\n",
    "          \"15\",\n",
    "          \"16\",\n",
    "          \"17\",\n",
    "          \"18\",\n",
    "          \"19\",\n",
    "          \"20\",\n",
    "          \"21\",\n",
    "          \"22\",\n",
    "          \"23\",\n",
    "          \"24\",\n",
    "          \"25\",\n",
    "          \"26\",\n",
    "          \"27\",\n",
    "          \"28\",\n",
    "          \"29\",\n",
    "          \"30\",\n",
    "          \"31\",\n",
    "          \"32\",\n",
    "          \"33\",\n",
    "          \"34\",\n",
    "          \"35\",\n",
    "          \"36\",\n",
    "          \"37\",\n",
    "          \"38\",\n",
    "          \"39\",\n",
    "          \"40\",\n",
    "          \"41\",\n",
    "          \"42\",\n",
    "          \"43\",\n",
    "          \"44\",\n",
    "          \"45\",\n",
    "          \"46\",\n",
    "          \"47\",\n",
    "          \"48\",\n",
    "          \"49\",\n",
    "          \"50\",\n",
    "          \"51\",\n",
    "          \"52\",\n",
    "          \"53\",\n",
    "          \"54\",\n",
    "          \"55\",\n",
    "          \"56\",\n",
    "          \"57\",\n",
    "          \"58\",\n",
    "          \"59\",\n",
    "          \"60\",\n",
    "          \"61\",\n",
    "          \"62\",\n",
    "          \"63\",\n",
    "          \"64\",\n",
    "          \"65\",\n",
    "          \"66\",\n",
    "          \"67\",\n",
    "          \"68\",\n",
    "          \"69\",\n",
    "          \"70\",\n",
    "          \"71\",\n",
    "          \"72\",\n",
    "          \"73\",\n",
    "          \"74\",\n",
    "          \"75\",\n",
    "          \"76\",\n",
    "          \"77\",\n",
    "          \"78\",\n",
    "          \"79\",\n",
    "          \"80\",\n",
    "          \"81\",\n",
    "          \"82\",\n",
    "          \"83\",\n",
    "          \"84\",\n",
    "          \"85\",\n",
    "          \"86\",\n",
    "          \"87\",\n",
    "          \"88\",\n",
    "          \"89\",\n",
    "          \"90\",\n",
    "          \"91\",\n",
    "          \"92\",\n",
    "          \"93\",\n",
    "          \"94\",\n",
    "          \"95\",\n",
    "          \"96\",\n",
    "          \"97\",\n",
    "          \"98\",\n",
    "          \"99\",\n",
    "          \"100+\"\n",
    "        ]\n",
    "      }\n",
    "    },\n",
    "    {\n",
    "      \"code\": \"Kon\",\n",
    "      \"selection\": {\n",
    "        \"filter\": \"item\",\n",
    "        \"values\": [\n",
    "          \"1\",\n",
    "          \"2\"\n",
    "        ]\n",
    "      }\n",
    "    }\n",
    "  ],\n",
    "  \"response\": {\n",
    "    \"format\": \"json\"\n",
    "  }\n",
    "}"
   ]
  },
  {
   "cell_type": "code",
   "execution_count": null,
   "metadata": {},
   "outputs": [],
   "source": [
    "r_death_age = requests.post(death_url,json=death_data)\n",
    "r_death_age.status_code"
   ]
  },
  {
   "cell_type": "code",
   "execution_count": null,
   "metadata": {},
   "outputs": [],
   "source": [
    "death_age_json = r_death_age.json()\n",
    "death_age_json['data'][0]"
   ]
  },
  {
   "cell_type": "code",
   "execution_count": null,
   "metadata": {},
   "outputs": [],
   "source": [
    "death_age_list = []\n",
    "\n",
    "nr_records = (len(death_age_json['data']))\n",
    "\n",
    "for rec in range(nr_records):\n",
    "\n",
    "    death_age_list.append ((death_age_json['data'][rec]['key'][0],death_age_json['data'][rec]['key'][1],\n",
    "                       death_age_json['data'][rec]['key'][2],death_age_json['data'][rec]['key'][3],\n",
    "                        death_age_json['data'][rec]['values'][0]))\n",
    "\n"
   ]
  },
  {
   "cell_type": "code",
   "execution_count": null,
   "metadata": {},
   "outputs": [],
   "source": [
    "death_age_df = pd.DataFrame(death_age_list,columns=['riket','age','gender','year','deaths'])\n",
    "death_age_df['deaths'] = death_age_df['deaths'].astype(int)\n",
    "death_age_df"
   ]
  },
  {
   "cell_type": "code",
   "execution_count": null,
   "metadata": {},
   "outputs": [],
   "source": [
    "death_age_df['age'] = pd.Categorical(death_age_df['age'],str_l)\n",
    "\n",
    "death_age_df = death_age_df.groupby(['year','age']).sum()\n",
    "\n",
    "death_age_df"
   ]
  },
  {
   "cell_type": "code",
   "execution_count": null,
   "metadata": {},
   "outputs": [],
   "source": [
    "pop_df"
   ]
  },
  {
   "cell_type": "code",
   "execution_count": null,
   "metadata": {},
   "outputs": [],
   "source": [
    "age_mortality = death_age_df['deaths'] /pop_df['pop'] \n",
    "age_mortality.dropna(inplace=True)"
   ]
  },
  {
   "cell_type": "code",
   "execution_count": null,
   "metadata": {},
   "outputs": [],
   "source": [
    "age_mortality = pd.DataFrame(age_mortality,columns=['mortality'])\n",
    "age_mortality = age_mortality.reset_index().set_index('year')\n",
    "age_mortality"
   ]
  },
  {
   "cell_type": "code",
   "execution_count": null,
   "metadata": {},
   "outputs": [],
   "source": [
    "pop_df_mask = pop_df.index.get_level_values(0) == '2019'\n",
    "age_std_pop = pop_df[pop_df_mask]\n",
    "age_std_pop = age_std_pop.reset_index().set_index('year')\n",
    "age_std_pop"
   ]
  },
  {
   "cell_type": "code",
   "execution_count": null,
   "metadata": {},
   "outputs": [],
   "source": [
    "nr_unique_years = len(age_mortality.index.unique())\n",
    "\n",
    "age_mortality['std_pop'] = np.tile(age_std_pop['pop'],nr_unique_years)\n",
    "age_mortality['age_adj_deaths'] = age_mortality['mortality'] * age_mortality['std_pop']\n",
    "age_mortality"
   ]
  },
  {
   "cell_type": "code",
   "execution_count": null,
   "metadata": {},
   "outputs": [],
   "source": [
    "age_adj_deaths = age_mortality.groupby('year').sum()\n",
    "age_adj_deaths['age_pop_adj_mortality'] = age_adj_deaths['age_adj_deaths'] / age_std_pop['pop'].sum()\n",
    "age_adj_deaths"
   ]
  },
  {
   "cell_type": "code",
   "execution_count": null,
   "metadata": {},
   "outputs": [],
   "source": [
    "yearly_mortality"
   ]
  },
  {
   "cell_type": "code",
   "execution_count": null,
   "metadata": {},
   "outputs": [],
   "source": [
    "\n",
    "age_adj_deaths.plot(kind='bar',y='age_pop_adj_mortality',figsize=(18,12))\n",
    "_= plt.yticks(np.arange(0,0.02,0.001))"
   ]
  },
  {
   "cell_type": "code",
   "execution_count": null,
   "metadata": {},
   "outputs": [],
   "source": [
    "yearly_mortality.loc[1968:2019]"
   ]
  },
  {
   "cell_type": "code",
   "execution_count": null,
   "metadata": {},
   "outputs": [],
   "source": [
    "pop_df"
   ]
  },
  {
   "cell_type": "code",
   "execution_count": null,
   "metadata": {},
   "outputs": [],
   "source": [
    "death_age_df.reset_index(inplace=True)"
   ]
  },
  {
   "cell_type": "code",
   "execution_count": null,
   "metadata": {},
   "outputs": [],
   "source": [
    "def str_2_int(s):\n",
    "    if s[-1] == '+':\n",
    "        return int(s[:-1])\n",
    "    return int(s)\n",
    "\n",
    "death_age_df['age_num'] = (death_age_df['age'].apply(str_2_int)).astype(int)"
   ]
  },
  {
   "cell_type": "code",
   "execution_count": null,
   "metadata": {},
   "outputs": [],
   "source": [
    "death_age_df"
   ]
  },
  {
   "cell_type": "code",
   "execution_count": null,
   "metadata": {},
   "outputs": [],
   "source": [
    "death_age_df['grp'] = pd.cut(death_age_df.reset_index()['age_num'],[-1,64,79,89,1000])\n",
    "death_age_df"
   ]
  },
  {
   "cell_type": "code",
   "execution_count": null,
   "metadata": {},
   "outputs": [],
   "source": []
  },
  {
   "cell_type": "code",
   "execution_count": null,
   "metadata": {},
   "outputs": [],
   "source": [
    "grp_death = death_age_df.groupby(['year','grp']).sum()\n",
    "grp_death"
   ]
  },
  {
   "cell_type": "code",
   "execution_count": null,
   "metadata": {},
   "outputs": [],
   "source": []
  },
  {
   "cell_type": "code",
   "execution_count": null,
   "metadata": {},
   "outputs": [],
   "source": [
    "pop_df.reset_index(inplace=True)\n",
    "pop_df['age_num'] = (pop_df['age'].apply(str_2_int)).astype(int)"
   ]
  },
  {
   "cell_type": "code",
   "execution_count": null,
   "metadata": {},
   "outputs": [],
   "source": [
    "pop_df"
   ]
  },
  {
   "cell_type": "code",
   "execution_count": null,
   "metadata": {},
   "outputs": [],
   "source": [
    "pop_df['grp'] = pd.cut(pop_df['age_num'],[-1,64,79,89,1000])\n",
    "pop_df"
   ]
  },
  {
   "cell_type": "code",
   "execution_count": null,
   "metadata": {},
   "outputs": [],
   "source": [
    "grp_pop = pop_df.groupby(['year','grp']).sum()\n",
    "grp_pop"
   ]
  },
  {
   "cell_type": "code",
   "execution_count": null,
   "metadata": {},
   "outputs": [],
   "source": [
    "age_pop_dead = pd.concat([grp_pop['pop'],grp_death['deaths']],axis=1)\n",
    "age_pop_dead"
   ]
  },
  {
   "cell_type": "code",
   "execution_count": null,
   "metadata": {},
   "outputs": [],
   "source": [
    "age_pop_dead.dropna(inplace=True)"
   ]
  },
  {
   "cell_type": "code",
   "execution_count": null,
   "metadata": {},
   "outputs": [],
   "source": [
    "age_pop_dead"
   ]
  },
  {
   "cell_type": "code",
   "execution_count": null,
   "metadata": {},
   "outputs": [],
   "source": [
    "(age_pop_dead[age_pop_dead.index.get_level_values(0) == '2019']).sum()"
   ]
  },
  {
   "cell_type": "code",
   "execution_count": null,
   "metadata": {},
   "outputs": [],
   "source": [
    "age_pop_dead['mortality'] = age_pop_dead['deaths'] / age_pop_dead['pop']\n",
    "age_pop_dead"
   ]
  },
  {
   "cell_type": "code",
   "execution_count": null,
   "metadata": {
    "scrolled": false
   },
   "outputs": [],
   "source": [
    "age_prel_deaths_2020 = pd.read_csv('scb_dead_per_age.csv',sep=';',header=None,usecols=[0,1,4,5,6,7,9,10,11,12])\n",
    "age_prel_deaths_2020.columns=['År','Datum','M 0-64 år','M 65-79 år','M 80-89 år','M 90+ år',\n",
    "                            'K 0-64 år','K 65-79 år','K 80-89 år','K 90+ år']\n",
    "\n",
    "age_prel_deaths_2020 = age_prel_deaths_2020.loc[age_prel_deaths_2020['År'] == 2020]"
   ]
  },
  {
   "cell_type": "code",
   "execution_count": null,
   "metadata": {
    "scrolled": false
   },
   "outputs": [],
   "source": [
    "dead_64 = age_prel_deaths_2020['M 0-64 år'] + age_prel_deaths_2020['K 0-64 år']\n",
    "dead_79 = age_prel_deaths_2020['M 65-79 år'] + age_prel_deaths_2020['K 65-79 år']\n",
    "dead_89 = age_prel_deaths_2020['M 80-89 år'] + age_prel_deaths_2020['K 80-89 år']\n",
    "dead_90 = age_prel_deaths_2020['M 90+ år'] + age_prel_deaths_2020['K 90+ år']\n",
    "\n",
    "dead_by_age = pd.concat([dead_64,dead_79,dead_89,dead_90],axis=1)\n",
    "dead_by_age.columns = ['0-64','65-79','80-89','90+']\n",
    "unknown_date_2020 = dead_by_age.iloc[-1]\n",
    "dead_by_age = dead_by_age.iloc[:-1]\n",
    "dead_by_age = (dead_by_age / dead_by_age.sum()) * unknown_date_2020 + dead_by_age\n",
    "dead_by_age.index = pd.date_range('2020-01-01','2020-12-31')\n",
    "print ('total deaths 2020 YTD',dead_by_age.sum(axis=1).sum())\n",
    "dead_by_age"
   ]
  },
  {
   "cell_type": "code",
   "execution_count": null,
   "metadata": {},
   "outputs": [],
   "source": [
    "df_age_2020 = dead_by_age\n",
    "#df_age_2020 = df_age_2020[:-7]\n",
    "df_age_2020"
   ]
  },
  {
   "cell_type": "code",
   "execution_count": null,
   "metadata": {},
   "outputs": [],
   "source": [
    "grps_2018 = grp_pop[grp_pop.index.get_level_values(0) == '2018']\n",
    "grps_2019 = grp_pop[grp_pop.index.get_level_values(0) == '2019']\n",
    "\n",
    "grp_growth = grps_2019['pop'].values / grps_2018['pop'].values\n",
    "grp_growth"
   ]
  },
  {
   "cell_type": "code",
   "execution_count": null,
   "metadata": {},
   "outputs": [],
   "source": [
    "grps_2020_extrapolated = grp_pop[grp_pop.index.get_level_values(0) == '2019']['pop'] * grp_growth\n",
    "grps_2020_extrapolated = grps_2020_extrapolated.reset_index()\n",
    "grps_2020_extrapolated['year'] = '2020'\n",
    "grps_2020_extrapolated"
   ]
  },
  {
   "cell_type": "code",
   "execution_count": null,
   "metadata": {},
   "outputs": [],
   "source": [
    "grp_pop = grp_pop.reset_index()\n",
    "grp_pop"
   ]
  },
  {
   "cell_type": "code",
   "execution_count": null,
   "metadata": {},
   "outputs": [],
   "source": [
    "grp_pop = grp_pop.append(grps_2020_extrapolated)\n",
    "grp_pop"
   ]
  },
  {
   "cell_type": "code",
   "execution_count": null,
   "metadata": {},
   "outputs": [],
   "source": [
    "grps_2020_extrapolated['grp']"
   ]
  },
  {
   "cell_type": "code",
   "execution_count": null,
   "metadata": {},
   "outputs": [],
   "source": [
    "deaths_2020_YTD = df_age_2020.sum()\n",
    "deaths_2020_YTD = pd.DataFrame(deaths_2020_YTD)\n",
    "deaths_2020_YTD['year'] = ['2020'] * 4\n",
    "deaths_2020_YTD.rename(columns={0:'deaths'},inplace=True)\n",
    "deaths_2020_YTD['grp'] = grps_2020_extrapolated['grp'].values\n",
    "deaths_2020_YTD"
   ]
  },
  {
   "cell_type": "code",
   "execution_count": null,
   "metadata": {},
   "outputs": [],
   "source": [
    "grp_death = grp_death.reset_index().append(deaths_2020_YTD)\n",
    "grp_death"
   ]
  },
  {
   "cell_type": "code",
   "execution_count": null,
   "metadata": {},
   "outputs": [],
   "source": [
    "grp_pop = grp_pop.set_index(['year','grp'])\n",
    "grp_death = grp_death.set_index(['year','grp'])\n",
    "\n",
    "grp_pop"
   ]
  },
  {
   "cell_type": "code",
   "execution_count": null,
   "metadata": {},
   "outputs": [],
   "source": [
    "grp_death"
   ]
  },
  {
   "cell_type": "code",
   "execution_count": null,
   "metadata": {},
   "outputs": [],
   "source": [
    "# full year mortality until 2019, 2020 YTD\n",
    "\n",
    "grp_mortality_YTD = pd.DataFrame((grp_death['deaths'] / grp_pop['pop']).dropna(),columns=['mortality'])\n",
    "grp_mortality_YTD"
   ]
  },
  {
   "cell_type": "code",
   "execution_count": null,
   "metadata": {},
   "outputs": [],
   "source": [
    "grp_std_pop = grp_pop[grp_pop.index.get_level_values(0) == '2019']\n",
    "grp_std_pop"
   ]
  },
  {
   "cell_type": "code",
   "execution_count": null,
   "metadata": {},
   "outputs": [],
   "source": [
    "nr_years = len(grp_mortality_YTD.reset_index()['year'].unique())"
   ]
  },
  {
   "cell_type": "code",
   "execution_count": null,
   "metadata": {},
   "outputs": [],
   "source": [
    "np.tile(grp_std_pop['pop'].values,nr_years)\n",
    "grp_mortality_YTD['std_pop'] = np.tile(grp_std_pop['pop'].values,nr_years)\n",
    "grp_mortality_YTD['age_adj_deaths'] = grp_mortality_YTD['mortality'] * grp_mortality_YTD['std_pop']\n",
    "grp_mortality_YTD"
   ]
  },
  {
   "cell_type": "code",
   "execution_count": null,
   "metadata": {},
   "outputs": [],
   "source": [
    "age_adj_deaths_inc_2020 = grp_mortality_YTD.groupby('year').sum()\n",
    "####\n",
    "age_adj_deaths_inc_2020.drop('mortality',inplace=True,axis=1)\n",
    "####\n",
    "age_adj_deaths_inc_2020"
   ]
  },
  {
   "cell_type": "code",
   "execution_count": null,
   "metadata": {},
   "outputs": [],
   "source": [
    "nr_years"
   ]
  },
  {
   "cell_type": "code",
   "execution_count": null,
   "metadata": {
    "scrolled": false
   },
   "outputs": [],
   "source": [
    "colors = ['b'] * (nr_years -1) \n",
    "colors.extend(['orange'])\n",
    "print (colors)\n",
    "\n",
    "title = \"SWEDEN age adj deaths [std-year 2019] 1968-2020\\n(2020 data only until {})\".format(df_age_2020.index[-1])\n",
    "\n",
    "_= age_adj_deaths_inc_2020.plot(kind='bar',y='age_adj_deaths',figsize=(18,12),title=title,color=colors)"
   ]
  },
  {
   "cell_type": "code",
   "execution_count": null,
   "metadata": {},
   "outputs": [],
   "source": [
    "# 2020 months reg at month end, rest month start\n",
    "hist_deaths_ytd['rank'] = hist_deaths_ytd['dead'].rank(ascending=False)\n",
    "hist_deaths_ytd"
   ]
  },
  {
   "cell_type": "code",
   "execution_count": null,
   "metadata": {},
   "outputs": [],
   "source": [
    "hist_deaths_ytd.loc[hist_deaths_ytd['index'] == '2019-12-01']"
   ]
  },
  {
   "cell_type": "code",
   "execution_count": null,
   "metadata": {},
   "outputs": [],
   "source": [
    "hist_deaths_ytd.sort_values('rank')[-50:]"
   ]
  },
  {
   "cell_type": "code",
   "execution_count": null,
   "metadata": {},
   "outputs": [],
   "source": [
    "mortality_per_month['rank'] = mortality_per_month['mortality'].rank(ascending=True)\n",
    "mortality_per_month"
   ]
  },
  {
   "cell_type": "code",
   "execution_count": null,
   "metadata": {},
   "outputs": [],
   "source": [
    "mortality_per_month.sort_values('rank',ascending=False)[:50]"
   ]
  },
  {
   "cell_type": "code",
   "execution_count": null,
   "metadata": {},
   "outputs": [],
   "source": [
    "mortality_per_month.sort_values('rank')[:50]"
   ]
  },
  {
   "cell_type": "code",
   "execution_count": null,
   "metadata": {},
   "outputs": [],
   "source": [
    "mortality_per_month.sort_values('rank',ascending=True)[:50]"
   ]
  },
  {
   "cell_type": "code",
   "execution_count": null,
   "metadata": {},
   "outputs": [],
   "source": [
    "mortality_per_month.index = mortality_per_month.index.date\n"
   ]
  },
  {
   "cell_type": "code",
   "execution_count": null,
   "metadata": {},
   "outputs": [],
   "source": [
    "mortality_per_month[pd.DatetimeIndex(mortality_per_month.index).year == 2020]"
   ]
  },
  {
   "cell_type": "code",
   "execution_count": null,
   "metadata": {},
   "outputs": [],
   "source": [
    "top_20 = mortality_per_month.sort_values('rank',ascending=True)[:20]\n",
    "top_20"
   ]
  },
  {
   "cell_type": "code",
   "execution_count": null,
   "metadata": {},
   "outputs": [],
   "source": [
    "top_20_2020 = pd.DatetimeIndex(top_20.index).year == 2020\n",
    "top_20_2020"
   ]
  },
  {
   "cell_type": "code",
   "execution_count": null,
   "metadata": {},
   "outputs": [],
   "source": [
    "\n",
    "colors = ['b' if not top_20_2020[i] else 'r' for i in range(len(top_20_2020))]\n",
    "colors "
   ]
  },
  {
   "cell_type": "code",
   "execution_count": null,
   "metadata": {},
   "outputs": [],
   "source": [
    "title = 'SWEDEN Top-20 lowest mortality months, 1861 - 2020 YTD {}'.format(mortality_per_month.index[-1])\n",
    "\n",
    "mortality_per_month.sort_values('rank',ascending=True)[:20].plot(figsize=(18,12),color=colors,\n",
    "    kind='bar',y='mortality',title=title)\n",
    "\n",
    "plt.ylabel('monthly mortality')\n",
    "plt.savefig('swe_top_20_lowest_mortality_months.jpg',format='jpg')"
   ]
  },
  {
   "cell_type": "code",
   "execution_count": null,
   "metadata": {},
   "outputs": [],
   "source": [
    "mortality_per_month"
   ]
  },
  {
   "cell_type": "code",
   "execution_count": null,
   "metadata": {},
   "outputs": [],
   "source": [
    "yearly_mortality"
   ]
  },
  {
   "cell_type": "code",
   "execution_count": null,
   "metadata": {},
   "outputs": [],
   "source": [
    "age_adj_deaths"
   ]
  },
  {
   "cell_type": "code",
   "execution_count": null,
   "metadata": {},
   "outputs": [],
   "source": [
    "yearly_mortality.info()"
   ]
  },
  {
   "cell_type": "code",
   "execution_count": null,
   "metadata": {},
   "outputs": [],
   "source": [
    "age_adj_deaths.index = range(1968,2020)\n",
    "age_adj_deaths.info()"
   ]
  },
  {
   "cell_type": "code",
   "execution_count": null,
   "metadata": {},
   "outputs": [],
   "source": [
    "yearly_mortality['age_pop_adj_mortality'] = age_adj_deaths['age_pop_adj_mortality']\n",
    "yearly_mortality"
   ]
  },
  {
   "cell_type": "code",
   "execution_count": null,
   "metadata": {},
   "outputs": [],
   "source": [
    "title = 'SWEDEN mortality 1968 - 2019 : comparison mortality vs age adj mortality'\n",
    "ax = yearly_mortality.dropna().plot(y=['mortality','age_pop_adj_mortality'],figsize=(18,12),\n",
    "                              style=['o--','o--'])"
   ]
  },
  {
   "cell_type": "code",
   "execution_count": null,
   "metadata": {},
   "outputs": [],
   "source": [
    "age_adj_deaths_inc_2020['age_pop_adj_mortality'] = age_adj_deaths_inc_2020['age_adj_deaths'] /\\\n",
    "age_adj_deaths_inc_2020['std_pop']\n",
    "\n",
    "age_adj_deaths_inc_2020\n"
   ]
  },
  {
   "cell_type": "code",
   "execution_count": null,
   "metadata": {},
   "outputs": [],
   "source": [
    "age_adj_deaths_inc_2020.index = range(1968,2021)"
   ]
  },
  {
   "cell_type": "code",
   "execution_count": null,
   "metadata": {},
   "outputs": [],
   "source": [
    "title = 'SWEDEN mortality comparison 1968 - 2020\\n2020 data YTD {}'.format(df_age_2020.index[-1])\n",
    "\n",
    "ax = yearly_mortality.dropna().plot(y=['mortality','age_pop_adj_mortality'],figsize=(18,12),\n",
    "                              style=['o--','o--'],title=title,\n",
    "                                    label=['mortality','age_pop_adj_mortality yearly age grps'])\n",
    "\n",
    "ax.plot(age_adj_deaths_inc_2020['age_pop_adj_mortality'],'o--',\n",
    "        label='age_pop_ajd_mortality 4 age grps')\n",
    "ax.legend(loc='upper right')"
   ]
  },
  {
   "cell_type": "code",
   "execution_count": null,
   "metadata": {},
   "outputs": [],
   "source": [
    "age_adj_deaths_inc_2020"
   ]
  },
  {
   "cell_type": "code",
   "execution_count": null,
   "metadata": {},
   "outputs": [],
   "source": [
    "df_age_2020.tail()"
   ]
  },
  {
   "cell_type": "code",
   "execution_count": null,
   "metadata": {},
   "outputs": [],
   "source": [
    "colors = ['b'] * (nr_years -1) \n",
    "colors.extend(['orange'])\n",
    "print (colors)\n",
    "\n",
    "title = \"SWEDEN age adj mortality [std-year 2019] \\\n",
    "1968-2020\\n(2020 data YTD until {}, others full years)\\nDataSource : SCB.se\".format(df_age_2020.index[-1].date())\n",
    "\n",
    "_= age_adj_deaths_inc_2020.plot(kind='bar',y='age_pop_adj_mortality',figsize=(18,12),title=title,color=colors)\n",
    "plt.yticks(np.arange(0,0.018,0.0005))\n",
    "plt.ylabel('age adj. mortality [deaths / population]')\n",
    "plt.savefig('swe_age_adj_mortality_1968_2020_YTD.jpg',format='jpg')"
   ]
  },
  {
   "cell_type": "code",
   "execution_count": null,
   "metadata": {},
   "outputs": [],
   "source": [
    "year = hist_deaths_ytd['index']\n",
    "month = year.dt.month\n",
    "\n",
    "hist_deaths_ytd.rename(columns={'index' : 'month'},inplace=True)"
   ]
  },
  {
   "cell_type": "code",
   "execution_count": null,
   "metadata": {},
   "outputs": [],
   "source": [
    "hist_deaths_ytd.set_index('month',inplace=True)\n",
    "hist_deaths_ytd"
   ]
  },
  {
   "cell_type": "code",
   "execution_count": null,
   "metadata": {},
   "outputs": [],
   "source": [
    "hist_cum_deaths = hist_deaths_ytd.groupby(hist_deaths_ytd.index.get_level_values(0).year).cumsum()\n",
    "hist_cum_deaths"
   ]
  },
  {
   "cell_type": "code",
   "execution_count": null,
   "metadata": {},
   "outputs": [],
   "source": [
    "deaths_year_month = hist_deaths_ytd.reset_index()"
   ]
  },
  {
   "cell_type": "code",
   "execution_count": null,
   "metadata": {},
   "outputs": [],
   "source": [
    "deaths_year_month.rename(columns={'month': 'date'},inplace=True)\n",
    "deaths_year_month"
   ]
  },
  {
   "cell_type": "code",
   "execution_count": null,
   "metadata": {},
   "outputs": [],
   "source": [
    "deaths_year_month['year'] = deaths_year_month['date'].apply(lambda d : d.year)\n",
    "deaths_year_month['month'] = deaths_year_month['date'].apply(lambda d : d.month)"
   ]
  },
  {
   "cell_type": "code",
   "execution_count": null,
   "metadata": {},
   "outputs": [],
   "source": [
    "deaths_year_month"
   ]
  },
  {
   "cell_type": "code",
   "execution_count": null,
   "metadata": {},
   "outputs": [],
   "source": [
    "deaths_year_month_ranked = deaths_year_month.sort_values('rank',ascending=True)\n",
    "deaths_year_month_ranked"
   ]
  },
  {
   "cell_type": "code",
   "execution_count": null,
   "metadata": {},
   "outputs": [],
   "source": [
    "month_grps = deaths_year_month_ranked.groupby('month')\n",
    "nov = month_grps.get_group(11)\n",
    "nov = nov.sort_values('dead',ascending=False)\n",
    "nov['nov_rank'] = range(1,len(nov) + 1)\n",
    "nov"
   ]
  },
  {
   "cell_type": "code",
   "execution_count": null,
   "metadata": {},
   "outputs": [],
   "source": [
    "mort_mont_grps = mortality_per_month.groupby('month')\n",
    "mort_nov = mort_mont_grps.get_group(11)\n",
    "mort_nov = mort_nov.sort_values('mortality',ascending=False)\n",
    "mort_nov.index = pd.DatetimeIndex(mort_nov.index)\n",
    "mort_nov['nov_rank'] = range(1,len(mort_nov) + 1)\n",
    "mort_nov"
   ]
  },
  {
   "cell_type": "code",
   "execution_count": null,
   "metadata": {
    "scrolled": false
   },
   "outputs": [],
   "source": [
    "pd.options.display.max_rows = 999\n",
    "mort_nov"
   ]
  },
  {
   "cell_type": "code",
   "execution_count": null,
   "metadata": {},
   "outputs": [],
   "source": [
    "mort_nov.loc['2020-11-30']"
   ]
  },
  {
   "cell_type": "code",
   "execution_count": null,
   "metadata": {},
   "outputs": [],
   "source": [
    "idx = mort_nov.index\n",
    "idx = idx.strftime('%Y-%m-%d')\n",
    "mort_nov.index = idx\n",
    "\n",
    "\n"
   ]
  },
  {
   "cell_type": "code",
   "execution_count": null,
   "metadata": {},
   "outputs": [],
   "source": [
    "title = 'SWEDEN November mortality ranking 1862 - 2020'\n",
    "ax = mort_nov.sort_index().plot(kind='bar',figsize=(18,12),y='mortality',title=title)\n",
    "\n",
    "for label in ax.xaxis.get_ticklabels()[0::2]:\n",
    "        label.set_visible(False)\n",
    "        \n",
    "plt.ylabel('monthly mortality')\n",
    "plt.xlabel('year [labels every second year for visibility]')\n",
    "plt.savefig('swe_nov_mortality_1862_2020.jpg',format='jpg')"
   ]
  },
  {
   "cell_type": "code",
   "execution_count": null,
   "metadata": {},
   "outputs": [],
   "source": [
    "deaths_year_month = deaths_year_month.pivot(index='year',columns='month',values='dead')"
   ]
  },
  {
   "cell_type": "code",
   "execution_count": null,
   "metadata": {
    "scrolled": false
   },
   "outputs": [],
   "source": [
    "deaths_year_month"
   ]
  },
  {
   "cell_type": "code",
   "execution_count": null,
   "metadata": {},
   "outputs": [],
   "source": [
    "sns.axes_style()"
   ]
  },
  {
   "cell_type": "code",
   "execution_count": null,
   "metadata": {},
   "outputs": [],
   "source": []
  },
  {
   "cell_type": "code",
   "execution_count": null,
   "metadata": {},
   "outputs": [],
   "source": [
    "start_year = 1900\n",
    "sns.set()\n",
    "sns.set_style({\"grid.color\": \"lightgrey\"})\n",
    "title = 'SWEDEN abs deaths {} - {}, stacked by month'.format(start_year,df_age_2020.index[-1].date())\n",
    "deaths_year_month.loc[start_year:].plot(kind='bar',stacked=True,title=title,\n",
    "                                        figsize=(18,12),edgecolor='none',fontsize=10)\n",
    "ax = plt.gca()\n",
    "for label in ax.xaxis.get_ticklabels()[1::2]:\n",
    "        label.set_visible(False)\n",
    "\n",
    "_= plt.yticks(range(0,115000,5000))\n",
    "plt.ylabel('number of deaths')\n",
    "plt.savefig('swe_deaths_stacked_by_month_1860_2020_ytd.jpg',format='jpg')\n"
   ]
  },
  {
   "cell_type": "code",
   "execution_count": null,
   "metadata": {},
   "outputs": [],
   "source": [
    "full_mortality_per_month['year'] = pd.DatetimeIndex(full_mortality_per_month.index).year\n",
    "full_mortality_per_month"
   ]
  },
  {
   "cell_type": "code",
   "execution_count": null,
   "metadata": {},
   "outputs": [],
   "source": [
    "full_mortality_year_month = full_mortality_per_month.pivot(index='year',columns='month',values='mortality')\n",
    "full_mortality_year_month"
   ]
  },
  {
   "cell_type": "code",
   "execution_count": null,
   "metadata": {
    "scrolled": false
   },
   "outputs": [],
   "source": [
    "full_mortality_year_month.sum(axis=1)"
   ]
  },
  {
   "cell_type": "code",
   "execution_count": null,
   "metadata": {},
   "outputs": [],
   "source": [
    "title = 'SWEDEN mortality {} - {}, stacked by month\\nDataSource:SCB.se'.format(start_year,\n",
    "                                                                                        df_age_2020.index[-1].date())\n",
    "\n",
    "full_mortality_year_month.loc[start_year:].plot(kind='bar',\n",
    "    stacked=True,figsize=(18,12),edgecolor='none',title=title,fontsize=10)\n",
    "\n",
    "ax = plt.gca()\n",
    "for label in ax.xaxis.get_ticklabels()[1::2]:\n",
    "        label.set_visible(False)\n",
    "\n",
    "_= plt.yticks(np.arange(0,0.019,0.001))\n",
    "plt.legend(loc='upper center')\n",
    "plt.ylabel('mortality [deaths / population]')\n",
    "plt.savefig('swe_spot_the_pandemic.jpg',format='jpg')"
   ]
  },
  {
   "cell_type": "code",
   "execution_count": null,
   "metadata": {},
   "outputs": [],
   "source": [
    "yearly_mortality.loc[linreg_start_year:]"
   ]
  },
  {
   "cell_type": "code",
   "execution_count": null,
   "metadata": {},
   "outputs": [],
   "source": [
    "yearly_mortality = full_mortality_year_month.sum(axis=1)\n",
    "yearly_mortality = yearly_mortality.loc[linreg_start_year:]\n",
    "yearly_mortality"
   ]
  },
  {
   "cell_type": "code",
   "execution_count": null,
   "metadata": {},
   "outputs": [],
   "source": [
    "mortality_growth = yearly_mortality / yearly_mortality.shift()\n",
    "mortality_growth = pd.DataFrame(mortality_growth,columns=['growth'])\n",
    "mortality_growth['hue'] = np.random.randint(0,2,size=len(mortality_growth))\n",
    "mortality_growth"
   ]
  },
  {
   "cell_type": "code",
   "execution_count": null,
   "metadata": {},
   "outputs": [],
   "source": [
    "mean_growth = mortality_growth['growth'].mean()\n",
    "mean_growth"
   ]
  },
  {
   "cell_type": "code",
   "execution_count": null,
   "metadata": {},
   "outputs": [],
   "source": [
    "mortality_growth['growth_vs_avg'] = mortality_growth['growth'] / mean_growth\n",
    "mortality_growth"
   ]
  },
  {
   "cell_type": "code",
   "execution_count": null,
   "metadata": {},
   "outputs": [],
   "source": [
    "mortality_growth.plot(style='o--',y=['growth','growth_vs_avg'],figsize=(18,12))"
   ]
  },
  {
   "cell_type": "code",
   "execution_count": null,
   "metadata": {},
   "outputs": [],
   "source": [
    "plt.figure(figsize=(18,12))\n",
    "sns.violinplot(data=mortality_growth,y='growth',inner='box')\n",
    "plt.title('SWEDEN Y2Y mortality growth factor distribution')\n",
    "plt.xlabel('freq')\n",
    "plt.ylabel('growth factor Y2Y')"
   ]
  },
  {
   "cell_type": "code",
   "execution_count": null,
   "metadata": {},
   "outputs": [],
   "source": [
    "\n",
    "\n",
    "mortality_growth.plot(y='growth',style='o--')"
   ]
  },
  {
   "cell_type": "code",
   "execution_count": null,
   "metadata": {},
   "outputs": [],
   "source": [
    "mortality_growth.dropna(inplace=True)\n",
    "\n",
    "mortality_growth['growth'].plot(kind='hist')\n"
   ]
  },
  {
   "cell_type": "code",
   "execution_count": null,
   "metadata": {},
   "outputs": [],
   "source": [
    "mortality_growth['growth'] "
   ]
  },
  {
   "cell_type": "code",
   "execution_count": null,
   "metadata": {},
   "outputs": [],
   "source": [
    "mortality_growth"
   ]
  },
  {
   "cell_type": "code",
   "execution_count": null,
   "metadata": {},
   "outputs": [],
   "source": [
    "mortality_growth['growth'].plot()"
   ]
  },
  {
   "cell_type": "code",
   "execution_count": null,
   "metadata": {},
   "outputs": [],
   "source": [
    "import pymc3 as pm\n",
    "import arviz as az\n",
    "\n",
    "model = pm.Model()\n",
    "with model:\n",
    "    x = range(len(mortality_growth))\n",
    "    \n",
    "    alpha = pm.Normal('alpha',mu=1,sd=1)\n",
    "    beta = pm.Normal('beta',mu=0,sd=1)\n",
    "    sigma = pm.Normal('sigma',1,3)\n",
    "    \n",
    "    reg = pm.Deterministic('reg', alpha + x * beta)\n",
    "    \n",
    "    obs = pm.Normal('obs',mu=reg,sd=sigma,observed=mortality_growth['growth'])\n",
    "    \n",
    "    trace = pm.sample(500,tune=500)\n",
    "    "
   ]
  },
  {
   "cell_type": "code",
   "execution_count": null,
   "metadata": {},
   "outputs": [],
   "source": [
    "with model:\n",
    "    print (pm.summary(trace,hdi_prob=0.89))\n",
    "    az.plot_trace(trace,var_names=['alpha','beta'])"
   ]
  },
  {
   "cell_type": "code",
   "execution_count": null,
   "metadata": {},
   "outputs": [],
   "source": [
    "trace['reg']"
   ]
  },
  {
   "cell_type": "code",
   "execution_count": null,
   "metadata": {},
   "outputs": [],
   "source": [
    "total_pop = pop_df.groupby(['year'])['pop'].sum()\n",
    "total_pop['2020'] = 10378483 # scb november population, updated dec 2020\n",
    "total_pop"
   ]
  },
  {
   "cell_type": "code",
   "execution_count": null,
   "metadata": {},
   "outputs": [],
   "source": [
    "fig,ax = plt.subplots(figsize=(18,12))\n",
    "with model:\n",
    "    \n",
    "    \n",
    "    title1 = 'SWEDEN non-age-adj. mortality Y2Y growth {}-2020 Y2D {} - Linear Regression Model'.format(\n",
    "        linreg_start_year + 1,last_good_date)\n",
    "    \n",
    "    title2 = '\\nPURPOSE : to illustrate the pitfalls with \"Excess Deaths\"'\n",
    "    title4 = '\\nDataSource : scb.se'\n",
    "    \n",
    "    plt.title(title1 + title4 )\n",
    "    plt.ylabel('mortality growth factor')\n",
    "    \n",
    "    ppc = pm.sample_posterior_predictive(trace,samples=1000,model=model)\n",
    "    \n",
    "    az.plot_hpd(x,trace['reg'],hdi_prob=0.89,ax=ax)\n",
    "    ax.plot(trace['alpha'].mean() + x * trace['beta'].mean(),color='k',ls='dashed')\n",
    "    ax.plot(range(len(mortality_growth)),mortality_growth['growth'],'o')\n",
    "    ax.set_xticks(range(len(mortality_growth)))\n",
    "    ax.set_xticklabels(range(linreg_start_year+1,2021),rotation=90)\n",
    "    az.plot_hpd(x,ppc['obs'],hdi_prob=0.89,ax=ax)\n",
    "    \n",
    "    '''\n",
    "    for label in ax.xaxis.get_ticklabels()[::2]:\n",
    "        label.set_visible(False)\n",
    "    '''\n",
    "        \n",
    "    plt.savefig('swe_mortality__Y2Y_growth_linreg_excess_pitfall_{}.jpg'.format(linreg_start_year),format='jpg')\n"
   ]
  },
  {
   "cell_type": "code",
   "execution_count": null,
   "metadata": {},
   "outputs": [],
   "source": [
    "linreg_growth_mean = trace['alpha'].mean() + x * trace['beta'].mean()\n",
    "\n",
    "growth_diff = mortality_growth['growth'] - linreg_growth_mean\n",
    "\n",
    "growth_diff"
   ]
  },
  {
   "cell_type": "code",
   "execution_count": null,
   "metadata": {},
   "outputs": [],
   "source": [
    "title = 'SWEDEN linear regression Y2Y growth model - excess mortality'\n",
    "growth_diff.plot(figsize=(18,12),style='o--',title=title)\n",
    "plt.ylabel('excess mortality')\n",
    "plt.savefig('swe_linreg_YTY_growth_excess_{}.jpg'.format(linreg_start_year),format='jpg')"
   ]
  },
  {
   "cell_type": "code",
   "execution_count": null,
   "metadata": {},
   "outputs": [],
   "source": [
    "yearly_mortality *= 1000 # to get pymc to process the otherwise very small numbers\n"
   ]
  },
  {
   "cell_type": "code",
   "execution_count": null,
   "metadata": {},
   "outputs": [],
   "source": [
    "yearly_mortality"
   ]
  },
  {
   "cell_type": "code",
   "execution_count": null,
   "metadata": {},
   "outputs": [],
   "source": [
    "yearly_mortality.plot()"
   ]
  },
  {
   "cell_type": "code",
   "execution_count": null,
   "metadata": {},
   "outputs": [],
   "source": [
    "model2 = pm.Model()\n",
    "with model2:\n",
    "    \n",
    "\n",
    "    ### it might be necessary to modify the params to alpha when changing period. Look at the trace plots.\n",
    "    x = range(len(yearly_mortality))\n",
    "    \n",
    "    alpha = pm.Normal('alpha',20,10)\n",
    "    beta = pm.Normal('beta',0, 2)\n",
    "    sigma = pm.Normal('sigma',10, 5)\n",
    "    \n",
    "    reg = pm.Deterministic('reg',alpha + x * beta)\n",
    "    \n",
    "    obs = pm.Normal('obs',reg, sigma,observed=yearly_mortality)\n",
    "    \n",
    "    trace2 = pm.sample(500,tune=500)\n",
    "    "
   ]
  },
  {
   "cell_type": "code",
   "execution_count": null,
   "metadata": {},
   "outputs": [],
   "source": [
    "with model2:\n",
    "    print (pm.summary(trace2,hdi_prob=0.89))\n",
    "    az.plot_trace(trace2,var_names=['alpha','beta','sigma'])"
   ]
  },
  {
   "cell_type": "code",
   "execution_count": null,
   "metadata": {},
   "outputs": [],
   "source": [
    "fig,ax = plt.subplots(figsize=(18,12))\n",
    "\n",
    "def numfmt(x, pos): # your custom formatter function: divide by 100.0\n",
    "    s = '{:.4f}'.format(x / 1000.0)\n",
    "    return s\n",
    "\n",
    "import matplotlib.ticker as tkr     # has classes for tick-locating and -formatting\n",
    "yfmt = tkr.FuncFormatter(numfmt)    # create your custom formatter function\n",
    "\n",
    "\n",
    "with model2:\n",
    "    \n",
    "    title1 = 'SWEDEN non-age-adj. mortality {}-2020 Y2D {} - Linear Regression Model'.format(\n",
    "        linreg_start_year,last_good_date)\n",
    "    title2 = '\\nPURPOSE : to illustrate the pitfalls with \"Excess Deaths\"'\n",
    "    title3 = '\\nAccording to this model - and many others using \"Excess Deaths\" - SWE has had excess deaths since late 70:ies'\n",
    "    title4 = '\\nDataSource : scb.se'\n",
    "    \n",
    "    plt.title(title1+title4)\n",
    "    \n",
    "    ppc = pm.sample_posterior_predictive(trace2,samples=1000,model=model2)\n",
    "\n",
    "    az.plot_hpd(x,trace2['reg'],hdi_prob=0.89,ax=ax)\n",
    "    \n",
    "    az.plot_hpd(x,ppc['obs'],hdi_prob=0.89,ax=ax)\n",
    "    \n",
    "    ax.plot(x,trace2['alpha'].mean() + x * trace2['beta'].mean(),color='k',ls='--')\n",
    "    ax.plot(x,yearly_mortality,'o')\n",
    "    ax.set_xticks(range(len(yearly_mortality)))\n",
    "    ax.set_xticklabels(range(linreg_start_year,2021),rotation=90)\n",
    "    \n",
    "    '''\n",
    "    for label in ax.xaxis.get_ticklabels()[::2]:\n",
    "        label.set_visible(False)\n",
    "    '''\n",
    "    \n",
    "    ax.yaxis.set_major_formatter(yfmt)\n",
    "    \n",
    "    plt.ylabel('mortality')\n",
    "    plt.xlabel('year')\n",
    "        \n",
    "    plt.savefig('swe_mortality_linreg_excess_pitfall_{}.jpg'.format(linreg_start_year),format='jpg')"
   ]
  },
  {
   "cell_type": "code",
   "execution_count": null,
   "metadata": {},
   "outputs": [],
   "source": [
    "linreg_mort_mean = (trace2['alpha'].mean() + x * trace2['beta'].mean()) / 1000\n",
    "mort_diff = yearly_mortality/1000 - linreg_mort_mean\n",
    "mort_diff"
   ]
  },
  {
   "cell_type": "code",
   "execution_count": null,
   "metadata": {},
   "outputs": [],
   "source": [
    "total_pop = pop_df.groupby(['year'])['pop'].sum()\n",
    "total_pop['2020'] = 10378483 # scb november population, updated dec 2020\n",
    "total_pop\n"
   ]
  },
  {
   "cell_type": "code",
   "execution_count": null,
   "metadata": {},
   "outputs": [],
   "source": [
    "idx = [int(x) for x in total_pop.index]\n",
    "total_pop.index = idx\n",
    "\n",
    "\n",
    "excess = mort_diff * total_pop.loc[linreg_start_year:]\n",
    "excess"
   ]
  },
  {
   "cell_type": "code",
   "execution_count": null,
   "metadata": {},
   "outputs": [],
   "source": [
    "excess.plot(figsize=(18,12),title='SWEDEN absolute excess deaths derived from Linear Regression model')\n",
    "plt.ylabel('absolute excess deaths')\n",
    "plt.xlabel('year')\n",
    "\n",
    "plt.savefig('swe_linreg_excess_{}.jpg'.format(linreg_start_year),format='jpg')\n"
   ]
  },
  {
   "cell_type": "code",
   "execution_count": null,
   "metadata": {},
   "outputs": [],
   "source": [
    "yearly_mortality.index[0]"
   ]
  },
  {
   "cell_type": "code",
   "execution_count": null,
   "metadata": {},
   "outputs": [],
   "source": [
    "pop_df = pop_df.set_index(['year','grp'])\n",
    "pop_df"
   ]
  },
  {
   "cell_type": "code",
   "execution_count": null,
   "metadata": {},
   "outputs": [],
   "source": [
    "grouped_pop = pop_df.reset_index().groupby(['year','grp']).sum()\n",
    "grouped_pop"
   ]
  },
  {
   "cell_type": "code",
   "execution_count": null,
   "metadata": {},
   "outputs": [],
   "source": [
    "pop_pivot = (grouped_pop.reset_index()).pivot(index='year',columns='grp',values='pop')\n",
    "pop_pivot"
   ]
  },
  {
   "cell_type": "code",
   "execution_count": null,
   "metadata": {},
   "outputs": [],
   "source": [
    "pop_pivot.sum(axis=1)"
   ]
  },
  {
   "cell_type": "code",
   "execution_count": null,
   "metadata": {},
   "outputs": [],
   "source": [
    "title = 'SWEDEN population stacked per age group, 1860-2019'\n",
    "ax = pop_pivot.plot(kind='bar',stacked=True,figsize=(18,12),title=title)\n",
    "\n",
    "for label in ax.xaxis.get_ticklabels()[::2]:\n",
    "        label.set_visible(False)\n",
    "\n",
    "plt.ylim([0.3e7,1.1e7])\n",
    "plt.ylabel('population size')\n",
    "plt.savefig('swe_abs_pop_age_grp_1860_2019.jpg',format='jpg')"
   ]
  },
  {
   "cell_type": "code",
   "execution_count": null,
   "metadata": {},
   "outputs": [],
   "source": [
    "rel_pop_pivot = pop_pivot.div(pop_pivot.sum(axis=1),axis=0)\n",
    "rel_pop_pivot"
   ]
  },
  {
   "cell_type": "code",
   "execution_count": null,
   "metadata": {},
   "outputs": [],
   "source": [
    "title = 'SWEDEN age group proportion of total population, 1860-2019'\n",
    "\n",
    "\n",
    "ax = rel_pop_pivot.plot(kind='bar',stacked=True,figsize=(18,12),title=title)\n",
    "\n",
    "for label in ax.xaxis.get_ticklabels()[::2]:\n",
    "        label.set_visible(False)\n",
    "        \n",
    "plt.ylim([0.75,1.01])\n",
    "\n",
    "plt.ylabel('cumulative fraction of total population')\n",
    "plt.savefig('swe_rel_pop_age_grp_1860_2019.jpg',format='jpg')        "
   ]
  },
  {
   "cell_type": "code",
   "execution_count": null,
   "metadata": {},
   "outputs": [],
   "source": []
  },
  {
   "cell_type": "code",
   "execution_count": null,
   "metadata": {},
   "outputs": [],
   "source": [
    "(pop_pivot / pop_pivot.shift()).plot(figsize=(18,12),style=['o--'] * 4)"
   ]
  },
  {
   "cell_type": "code",
   "execution_count": null,
   "metadata": {},
   "outputs": [],
   "source": [
    "pop_growth_since_1860 = pop_pivot / pop_pivot.loc['1860']\n",
    "pop_growth_since_1860"
   ]
  },
  {
   "cell_type": "code",
   "execution_count": null,
   "metadata": {},
   "outputs": [],
   "source": [
    "pop_growth_since_1860.plot(figsize=(18,12))"
   ]
  },
  {
   "cell_type": "code",
   "execution_count": null,
   "metadata": {},
   "outputs": [],
   "source": [
    "y = '2015'\n",
    "pop_growth_since_year = pop_pivot / pop_pivot.loc[y]\n",
    "pop_growth_since_year = pop_growth_since_year.loc[y:]\n",
    "pop_growth_since_year"
   ]
  },
  {
   "cell_type": "code",
   "execution_count": null,
   "metadata": {},
   "outputs": [],
   "source": [
    "pop_growth_since_year.plot(figsize=(18,12))"
   ]
  },
  {
   "cell_type": "code",
   "execution_count": null,
   "metadata": {},
   "outputs": [],
   "source": [
    "rel_pop_pivot"
   ]
  },
  {
   "cell_type": "code",
   "execution_count": null,
   "metadata": {},
   "outputs": [],
   "source": [
    "rel_pop_growth_since_1860 = rel_pop_pivot / rel_pop_pivot.loc['1860']\n",
    "rel_pop_growth_since_1900 = rel_pop_pivot / rel_pop_pivot.loc['1900']\n",
    "rel_pop_growth_since_1900 = rel_pop_growth_since_1900.loc['1900':]\n",
    "rel_pop_growth_since_1900"
   ]
  },
  {
   "cell_type": "code",
   "execution_count": null,
   "metadata": {},
   "outputs": [],
   "source": [
    "title = 'SWEDEN relative population age group growth, baseline 1900'\n",
    "rel_pop_growth_since_1900.plot(figsize=(18,12),style=['o--'] * 4,title=title)\n",
    "plt.ylabel('growth factor')\n",
    "plt.savefig('swe_age_group_rel_growth.jpg',format='jpg')"
   ]
  },
  {
   "cell_type": "code",
   "execution_count": null,
   "metadata": {},
   "outputs": [],
   "source": [
    "age_adj_deaths_inc_2020['mort_x_1000'] = age_adj_deaths_inc_2020['age_pop_adj_mortality'] * 1000\n",
    "age_adj_deaths_inc_2020 = age_adj_deaths_inc_2020.loc[linreq_age_adj_start_year:].copy()\n",
    "age_adj_deaths_inc_2020"
   ]
  },
  {
   "cell_type": "code",
   "execution_count": null,
   "metadata": {},
   "outputs": [],
   "source": [
    "model3 = pm.Model()\n",
    "with model3:\n",
    "    \n",
    "\n",
    "    ### it might be necessary to modify the params to alpha when changing period. Look at the trace plots.\n",
    "    x = range(len(age_adj_deaths_inc_2020))\n",
    "    \n",
    "    alpha = pm.Normal('alpha',20,5)\n",
    "    beta = pm.Normal('beta',0, 1)\n",
    "    sigma = pm.Normal('sigma',10, 5)\n",
    "    \n",
    "    reg = pm.Deterministic('reg',alpha + x * beta)\n",
    "    \n",
    "    obs = pm.Normal('obs',reg, sigma,observed=age_adj_deaths_inc_2020['mort_x_1000'])\n",
    "    \n",
    "    trace3 = pm.sample(500,tune=500)\n",
    "    "
   ]
  },
  {
   "cell_type": "code",
   "execution_count": null,
   "metadata": {
    "scrolled": false
   },
   "outputs": [],
   "source": [
    "with model3:\n",
    "    print (pm.summary(trace3,hdi_prob=0.89))\n",
    "    az.plot_trace(trace3,var_names=['alpha','beta','sigma'])"
   ]
  },
  {
   "cell_type": "code",
   "execution_count": null,
   "metadata": {},
   "outputs": [],
   "source": [
    "fig,ax = plt.subplots(figsize=(18,12))\n",
    "\n",
    "def numfmt(x, pos): # your custom formatter function: divide by 100.0\n",
    "    s = '{:.4f}'.format(x / 1000.0)\n",
    "    return s\n",
    "\n",
    "import matplotlib.ticker as tkr     # has classes for tick-locating and -formatting\n",
    "yfmt = tkr.FuncFormatter(numfmt)    # create your custom formatter function\n",
    "\n",
    "\n",
    "with model3:\n",
    "    \n",
    "    title1 = 'SWEDEN age-adj. mortality {}-2020 Y2D {} - Linear Regression Model'.format(\n",
    "        linreg_start_year,last_good_date)\n",
    "    title2 = '\\nPURPOSE : to illustrate the pitfalls with \"Excess Deaths\"'\n",
    "    title3 = '\\nAccording to this model - and many others using \"Excess Deaths\" - SWE has had excess deaths since late 70:ies'\n",
    "    title4 = '\\nDataSource : scb.se'\n",
    "    \n",
    "    plt.title(title1+title4)\n",
    "    \n",
    "    ppc = pm.sample_posterior_predictive(trace3,samples=1000,model=model3)\n",
    "\n",
    "    az.plot_hpd(x,trace3['reg'],hdi_prob=0.89,ax=ax)\n",
    "    \n",
    "    az.plot_hpd(x,ppc['obs'],hdi_prob=0.89,ax=ax)\n",
    "    \n",
    "    ax.plot(x,trace3['alpha'].mean() + x * trace3['beta'].mean(),color='k',ls='--')\n",
    "    ax.plot(x,age_adj_deaths_inc_2020['mort_x_1000'],'o')\n",
    "    ax.set_xticks(range(len(age_adj_deaths_inc_2020)))\n",
    "    ax.set_xticklabels(range(linreq_age_adj_start_year,2021),rotation=90)\n",
    "    \n",
    "    '''\n",
    "    for label in ax.xaxis.get_ticklabels()[::2]:\n",
    "        label.set_visible(False)\n",
    "    ''' \n",
    "    \n",
    "    ax.yaxis.set_major_formatter(yfmt)\n",
    "    \n",
    "    plt.ylabel('age adjusted mortality')\n",
    "    plt.xlabel('year')\n",
    "    \n",
    "    plt.savefig('swe_age_adj_mortality_linreg_excess_pitfall_{}.jpg'.format(linreg_start_year),format='jpg')\n",
    "        "
   ]
  },
  {
   "cell_type": "code",
   "execution_count": null,
   "metadata": {},
   "outputs": [],
   "source": [
    "plt.plot(range(len(age_adj_deaths_inc_2020)),age_adj_deaths_inc_2020['mort_x_1000'])"
   ]
  }
 ],
 "metadata": {
  "kernelspec": {
   "display_name": "Python 3",
   "language": "python",
   "name": "python3"
  },
  "language_info": {
   "codemirror_mode": {
    "name": "ipython",
    "version": 3
   },
   "file_extension": ".py",
   "mimetype": "text/x-python",
   "name": "python",
   "nbconvert_exporter": "python",
   "pygments_lexer": "ipython3",
   "version": "3.8.10"
  }
 },
 "nbformat": 4,
 "nbformat_minor": 4
}
