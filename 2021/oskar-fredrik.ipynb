{
 "cells": [
  {
   "cell_type": "code",
   "execution_count": null,
   "metadata": {},
   "outputs": [],
   "source": [
    "import numpy as np\n",
    "import matplotlib.pyplot as plt\n",
    "import seaborn as sns\n",
    "import pandas as pd\n",
    "\n",
    "sns.set()"
   ]
  },
  {
   "cell_type": "code",
   "execution_count": null,
   "metadata": {},
   "outputs": [],
   "source": [
    "df = pd.DataFrame({'measurement' : [1.0,1.4,1.2,1.3,1.4,1.3,1.2,1.1,1.3,1.4,1.6,1.4,1.4]},index=range(1,14))\n",
    "\n",
    "df"
   ]
  },
  {
   "cell_type": "code",
   "execution_count": null,
   "metadata": {},
   "outputs": [],
   "source": [
    "df.sum()"
   ]
  },
  {
   "cell_type": "code",
   "execution_count": null,
   "metadata": {},
   "outputs": [],
   "source": [
    "measurement_error = 0.02 # stdDev of error\n",
    "\n",
    "nr_samples_per_measurement = 100000\n",
    "measurement_dist = pd.DataFrame([np.random.normal(df['measurement'].values[i],\n",
    "                                     measurement_error,\n",
    "                                     size=nr_samples_per_measurement) for i in range(len(df))])\n",
    "\n",
    "measurement_dist.index.name = 'measurement_nr'\n",
    "measurement_dist.columns.name = 'sample_nr'\n",
    "\n",
    "measurement_dist\n"
   ]
  },
  {
   "cell_type": "code",
   "execution_count": null,
   "metadata": {},
   "outputs": [],
   "source": []
  },
  {
   "cell_type": "code",
   "execution_count": null,
   "metadata": {},
   "outputs": [],
   "source": [
    "measurement_dist_stats = measurement_dist.agg(['min','max','mean','std'],axis=1)\n",
    "measurement_dist_stats"
   ]
  },
  {
   "cell_type": "code",
   "execution_count": null,
   "metadata": {},
   "outputs": [],
   "source": [
    "measurement_dist_stats.sum()"
   ]
  },
  {
   "cell_type": "code",
   "execution_count": null,
   "metadata": {},
   "outputs": [],
   "source": []
  },
  {
   "cell_type": "code",
   "execution_count": null,
   "metadata": {},
   "outputs": [],
   "source": [
    "total_dist = measurement_dist.T.sum(axis=1)\n",
    "total_dist_stats = total_dist.describe()\n",
    "total_dist_stats"
   ]
  },
  {
   "cell_type": "code",
   "execution_count": null,
   "metadata": {},
   "outputs": [],
   "source": [
    "prop_beyond_1_sd = 2 * (total_dist > total_dist_stats.loc['mean'] + total_dist_stats.loc['std']).sum() / total_dist_stats.loc['count']\n",
    "print (prop_beyond_1_sd)\n",
    "print (1 - prop_beyond_1_sd)"
   ]
  },
  {
   "cell_type": "code",
   "execution_count": null,
   "metadata": {},
   "outputs": [],
   "source": [
    "prop_beyond_2_sd = 2 * (total_dist > total_dist_stats.loc['mean'] + 2 * total_dist_stats.loc['std']).sum() / total_dist_stats.loc['count']\n",
    "print (prop_beyond_2_sd)\n",
    "print (1 - prop_beyond_2_sd)"
   ]
  },
  {
   "cell_type": "code",
   "execution_count": null,
   "metadata": {},
   "outputs": [],
   "source": [
    "title = r'Distribution of total elevation measure assuming measurement error $\\sigma$ of {:.2f} m'.format(\n",
    "measurement_error)\n",
    "\n",
    "ax = measurement_dist.T.sum(axis=1).plot(kind='hist',title=title,\n",
    "                                         bins=100,figsize=(18,12),label='Density',density=True)\n",
    "\n",
    "ax.axvline(total_dist_stats.loc['mean'],color='k',ls='dashed')\n",
    "\n",
    "label = '1 StdDev'\n",
    "for i in range (1,4):\n",
    "    label = '1 StdDev' if i == 1 else ''\n",
    "    ax.axvline(total_dist_stats.loc['mean'] + i * total_dist_stats.loc['std'],color='orange',ls='dashed',\n",
    "              label = label)\n",
    "    ax.axvline(total_dist_stats.loc['mean'] - i * total_dist_stats.loc['std'],color='orange',ls='dashed')\n",
    "    \n",
    "plt.ylabel('Probability Density')\n",
    "plt.xlabel(r'Elevation [ $\\mu$ : {:.2f} [m] $\\sigma$ : {:.2f} [m] ]'.format(total_dist_stats.loc['mean'],\n",
    "                                                                 total_dist_stats.loc['std']))\n",
    "plt.legend(loc='upper left')\n",
    "plt.savefig('oskar_fredrik_altitude.jpg',format='jpg')"
   ]
  }
 ],
 "metadata": {
  "kernelspec": {
   "display_name": "Python 3",
   "language": "python",
   "name": "python3"
  },
  "language_info": {
   "codemirror_mode": {
    "name": "ipython",
    "version": 3
   },
   "file_extension": ".py",
   "mimetype": "text/x-python",
   "name": "python",
   "nbconvert_exporter": "python",
   "pygments_lexer": "ipython3",
   "version": "3.8.6"
  }
 },
 "nbformat": 4,
 "nbformat_minor": 4
}
