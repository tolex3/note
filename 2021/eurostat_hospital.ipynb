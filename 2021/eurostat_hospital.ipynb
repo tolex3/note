{
 "cells": [
  {
   "cell_type": "code",
   "execution_count": null,
   "metadata": {},
   "outputs": [],
   "source": [
    "import numpy as np\n",
    "import matplotlib.pyplot as plt\n",
    "import seaborn as sns\n",
    "import pandas as pd\n",
    "\n",
    "sns.set()"
   ]
  },
  {
   "cell_type": "code",
   "execution_count": null,
   "metadata": {},
   "outputs": [],
   "source": [
    "eu_beds_file = pd.ExcelFile('eurostat_beds.xlsx')\n",
    "eu_beds_file.sheet_names"
   ]
  },
  {
   "cell_type": "code",
   "execution_count": null,
   "metadata": {},
   "outputs": [],
   "source": [
    "eu_beds = eu_beds_file.parse(sheet_name='Sheet 1',skiprows=8)\n",
    "cols = [0,1] + list(range(3,24))\n",
    "cols = [0,1] + cols[2::2]\n",
    "eu_beds = eu_beds.iloc[:,cols]\n",
    "eu_beds\n",
    "\n"
   ]
  },
  {
   "cell_type": "code",
   "execution_count": null,
   "metadata": {},
   "outputs": [],
   "source": [
    "eu_beds = eu_beds.drop([0,1,2,3,8])\n",
    "eu_beds = eu_beds.loc[:40]\n",
    "eu_beds.rename(columns={'TIME' : 'Country'},inplace=True)\n",
    "eu_beds = eu_beds.set_index('Country')\n",
    "eu_beds = eu_beds.replace(':',np.nan)\n",
    "eu_beds = eu_beds.astype(float)\n",
    "eu_beds"
   ]
  },
  {
   "cell_type": "code",
   "execution_count": null,
   "metadata": {},
   "outputs": [],
   "source": []
  },
  {
   "cell_type": "code",
   "execution_count": null,
   "metadata": {},
   "outputs": [],
   "source": [
    "eu_beds_18 = eu_beds['2018'].sort_values(ascending=False).dropna()\n",
    "\n",
    "swe_idx = np.where(eu_beds_18.index == 'Sweden')[0][0]\n",
    "\n",
    "colors = ['b'] * len(eu_beds_18)\n",
    "colors[swe_idx] ='orange'\n",
    "\n",
    "title = 'European Union : hospital beds per 100000 inhabitants 2018\\nDataSource : Eurostat'\n",
    "eu_beds_18.plot(figsize=(18,12),kind='bar',title=title,color=colors)\n",
    "\n",
    "plt.ylabel ('hospital beds / 100000')\n",
    "plt.savefig('eurostat_hospital_beds_ranking_2018.jpg',format='jpg')\n",
    "eu_beds_18"
   ]
  },
  {
   "cell_type": "code",
   "execution_count": null,
   "metadata": {},
   "outputs": [],
   "source": [
    "title = 'SWEDEN hospital beds per 100000 habitants, 2007 - 2018\\nDataSource : Eurostat'\n",
    "eu_beds.loc['Sweden'].plot(figsize=(18,12),style='o--',title=title)\n",
    "plt.ylabel('hospital beds / 100000')\n",
    "plt.xlabel('year')\n",
    "plt.savefig('eurostat_swe_hostpital_beds_2007_2018.jpg',format='jpg')"
   ]
  }
 ],
 "metadata": {
  "kernelspec": {
   "display_name": "Python 3",
   "language": "python",
   "name": "python3"
  },
  "language_info": {
   "codemirror_mode": {
    "name": "ipython",
    "version": 3
   },
   "file_extension": ".py",
   "mimetype": "text/x-python",
   "name": "python",
   "nbconvert_exporter": "python",
   "pygments_lexer": "ipython3",
   "version": "3.8.6"
  }
 },
 "nbformat": 4,
 "nbformat_minor": 4
}
