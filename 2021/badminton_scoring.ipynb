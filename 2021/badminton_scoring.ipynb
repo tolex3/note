{
 "cells": [
  {
   "cell_type": "code",
   "execution_count": null,
   "metadata": {},
   "outputs": [],
   "source": [
    "import numpy as np\n",
    "import matplotlib.pyplot as plt\n",
    "import seaborn as sns\n",
    "import pandas as pd\n",
    "\n",
    "sns.set()"
   ]
  },
  {
   "cell_type": "code",
   "execution_count": null,
   "metadata": {},
   "outputs": [],
   "source": [
    "court = pd.DataFrame({'team_1' : ['A','B'],\n",
    "                     'team_2' : ['C','D']},index=['R','L'])\n",
    "\n",
    "court"
   ]
  },
  {
   "cell_type": "code",
   "execution_count": null,
   "metadata": {},
   "outputs": [],
   "source": [
    "def shift(team):\n",
    "    idx = team.index\n",
    "    return pd.Series([team.iloc[-1],team.iloc[0]],index=idx)\n"
   ]
  },
  {
   "cell_type": "code",
   "execution_count": null,
   "metadata": {},
   "outputs": [],
   "source": []
  },
  {
   "cell_type": "code",
   "execution_count": null,
   "metadata": {},
   "outputs": [],
   "source": [
    "nr_points = 100\n",
    "\n",
    "score = pd.DataFrame(np.zeros((nr_points,2)),columns=court.columns).astype(int)\n",
    "score_own_serve = pd.DataFrame(np.zeros((nr_points,2)),columns=court.columns).astype(int) # also nr of switches\n",
    "facings = []\n",
    "\n",
    "\n",
    "#serving = np.random.choice(court.columns)\n",
    "serving = 'team_1'\n",
    "print ('++++++++++++++++')\n",
    "print (court)\n",
    "print ('---------------')\n",
    "\n",
    "p_win_team_1 = 0.5\n",
    "p_win = [p_win_team_1,1-p_win_team_1]\n",
    "\n",
    "facings.append([\n",
    "                [court.loc['R','team_1'],court.loc['R','team_2']],\n",
    "               [court.loc['L','team_1'],court.loc['L','team_2']]])\n",
    "\n",
    "for g in range(nr_points):\n",
    "    point = np.random.choice(court.columns,p=p_win)\n",
    "    \n",
    "    if point == serving:\n",
    "        court[serving] = shift(court[serving])\n",
    "        score_own_serve.loc[g,point] += 1\n",
    "        \n",
    "    serving = point\n",
    "    \n",
    "    facings.append([\n",
    "                [court.loc['R','team_1'],court.loc['R','team_2']],\n",
    "               [court.loc['L','team_1'],court.loc['L','team_2']]])\n",
    "\n",
    "    score.loc[g,point] += 1\n",
    "    \n",
    "    '''\n",
    "    print ('point',point,'to serve',serving)\n",
    "\n",
    "    print (score)\n",
    "    print ()\n",
    "    print (score_own_serve)\n",
    "    print ()\n",
    "    print (court)\n",
    "    print ('-----')\n",
    "    '''"
   ]
  },
  {
   "cell_type": "code",
   "execution_count": null,
   "metadata": {},
   "outputs": [],
   "source": [
    "facings = pd.DataFrame.from_records(facings,columns=['R','L'])"
   ]
  },
  {
   "cell_type": "code",
   "execution_count": null,
   "metadata": {},
   "outputs": [],
   "source": [
    "facings_R = pd.DataFrame(facings['R'].to_list(),columns=court.columns)\n",
    "facings_L = pd.DataFrame(facings['L'].to_list(),columns=court.columns)\n",
    "\n",
    "all_facings = pd.concat([facings_R,facings_L],axis=1)\n",
    "all_facings"
   ]
  },
  {
   "cell_type": "code",
   "execution_count": null,
   "metadata": {},
   "outputs": [],
   "source": [
    "idx  = pd.MultiIndex.from_arrays([['R','R','L','L'] ,['team_1','team_2'] * 2 ])\n",
    "all_facings.columns = idx\n",
    "all_facings"
   ]
  },
  {
   "cell_type": "code",
   "execution_count": null,
   "metadata": {},
   "outputs": [],
   "source": [
    "print (all_facings['R'].value_counts())\n",
    "print (all_facings['L'].value_counts())\n",
    "\n"
   ]
  },
  {
   "cell_type": "code",
   "execution_count": null,
   "metadata": {},
   "outputs": [],
   "source": [
    "print ('total number of switches\\n',score_own_serve.sum())"
   ]
  },
  {
   "cell_type": "code",
   "execution_count": null,
   "metadata": {},
   "outputs": [],
   "source": [
    "score"
   ]
  },
  {
   "cell_type": "code",
   "execution_count": null,
   "metadata": {},
   "outputs": [],
   "source": [
    "score.sum()"
   ]
  },
  {
   "cell_type": "code",
   "execution_count": null,
   "metadata": {},
   "outputs": [],
   "source": [
    "# switches \n",
    "score_own_serve.sum()"
   ]
  },
  {
   "cell_type": "code",
   "execution_count": null,
   "metadata": {},
   "outputs": [],
   "source": [
    "fig,axes = plt.subplots(2,figsize=(18,12))\n",
    "score_own_serve.cumsum().plot(ax=axes[0],style='o--',title='Won Points in own serve')\n",
    "score.cumsum().plot(ax=axes[1],style='o--',title='Won Points')"
   ]
  }
 ],
 "metadata": {
  "kernelspec": {
   "display_name": "Python 3",
   "language": "python",
   "name": "python3"
  },
  "language_info": {
   "codemirror_mode": {
    "name": "ipython",
    "version": 3
   },
   "file_extension": ".py",
   "mimetype": "text/x-python",
   "name": "python",
   "nbconvert_exporter": "python",
   "pygments_lexer": "ipython3",
   "version": "3.8.6"
  }
 },
 "nbformat": 4,
 "nbformat_minor": 4
}
