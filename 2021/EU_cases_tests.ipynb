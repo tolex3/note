{
 "cells": [
  {
   "cell_type": "code",
   "execution_count": null,
   "metadata": {},
   "outputs": [],
   "source": [
    "### https://www.ecdc.europa.eu/en/covid-19/situation-updates/weekly-maps-coordinated-restriction-free-movement ###"
   ]
  },
  {
   "cell_type": "code",
   "execution_count": null,
   "metadata": {},
   "outputs": [],
   "source": [
    "import numpy as np\n",
    "import matplotlib.pyplot as plt\n",
    "import seaborn as sns\n",
    "import pandas as pd\n",
    "\n",
    "sns.set()"
   ]
  },
  {
   "cell_type": "code",
   "execution_count": null,
   "metadata": {},
   "outputs": [],
   "source": [
    "excel_file = pd.ExcelFile('EU_case_test_positivity.xlsx')\n",
    "excel_file.sheet_names"
   ]
  },
  {
   "cell_type": "code",
   "execution_count": null,
   "metadata": {},
   "outputs": [],
   "source": [
    "df = excel_file.parse(excel_file.sheet_names[0])\n",
    "df.tail(40)"
   ]
  },
  {
   "cell_type": "code",
   "execution_count": null,
   "metadata": {},
   "outputs": [],
   "source": [
    "df.info()"
   ]
  },
  {
   "cell_type": "code",
   "execution_count": null,
   "metadata": {},
   "outputs": [],
   "source": [
    "df_countries = df.groupby(['country','week']).mean()[['national_cases_7','national_population','national_testing_rate',\n",
    "                                      'positivity_rate_combined','testing_rate_combined']]"
   ]
  },
  {
   "cell_type": "code",
   "execution_count": null,
   "metadata": {},
   "outputs": [],
   "source": [
    "df_countries = df_countries.replace(999999.0,np.nan).interpolate(method='linear',limit_direction='forward')\n",
    "df_countries['weekly_cases_per_100K'] = (df_countries['national_cases_7'] / df_countries['national_population']) * 100000\n",
    "\n",
    "df_countries"
   ]
  },
  {
   "cell_type": "code",
   "execution_count": null,
   "metadata": {},
   "outputs": [],
   "source": [
    "ax = df_countries.loc['Sweden','weekly_cases_per_100K'].plot(label='Sweden',figsize=(18,12))\n",
    "df_countries.loc['Italy','weekly_cases_per_100K'].plot(ax=ax,label='Italy')\n",
    "df_countries.loc['Denmark','weekly_cases_per_100K'].plot(ax=ax,label='Denmark')\n",
    "df_countries.loc['Spain','weekly_cases_per_100K'].plot(ax=ax,label='Spain')\n",
    "df_countries.loc['Finland','weekly_cases_per_100K'].plot(ax=ax,label='Finland')\n",
    "df_countries.loc['Czechia','weekly_cases_per_100K'].plot(ax=ax,label='Czechia')\n",
    "df_countries.loc['Hungary','weekly_cases_per_100K'].plot(ax=ax,label='Hungary')\n",
    "\n",
    "ax.legend(loc='upper right')"
   ]
  }
 ],
 "metadata": {
  "kernelspec": {
   "display_name": "Python 3",
   "language": "python",
   "name": "python3"
  },
  "language_info": {
   "codemirror_mode": {
    "name": "ipython",
    "version": 3
   },
   "file_extension": ".py",
   "mimetype": "text/x-python",
   "name": "python",
   "nbconvert_exporter": "python",
   "pygments_lexer": "ipython3",
   "version": "3.8.6"
  }
 },
 "nbformat": 4,
 "nbformat_minor": 4
}
