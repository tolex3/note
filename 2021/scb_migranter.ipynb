{
 "cells": [
  {
   "cell_type": "code",
   "execution_count": null,
   "metadata": {},
   "outputs": [],
   "source": [
    "import numpy as np\n",
    "import matplotlib.pyplot as plt\n",
    "import seaborn as sns\n",
    "import pandas as pd\n",
    "import requests\n",
    "\n",
    "sns.set()"
   ]
  },
  {
   "cell_type": "code",
   "execution_count": null,
   "metadata": {},
   "outputs": [],
   "source": [
    "url = 'http://api.scb.se/OV0104/v1/doris/sv/ssd/START/BE/BE0101/BE0101E/FodelselandArK'\n",
    "\n",
    "data = {\n",
    "  \"query\": [\n",
    "    {\n",
    "      \"code\": \"Fodelseland\",\n",
    "      \"selection\": {\n",
    "        \"filter\": \"vs:LandISOAlfa2-96A3\",\n",
    "        \"values\": [\n",
    "          \"AF\",\n",
    "          \"AL\",\n",
    "          \"DZ\",\n",
    "          \"AD\",\n",
    "          \"AO\",\n",
    "          \"AG\",\n",
    "          \"AE\",\n",
    "          \"AR\",\n",
    "          \"AM\",\n",
    "          \"AU\",\n",
    "          \"AZ\",\n",
    "          \"BS\",\n",
    "          \"BH\",\n",
    "          \"BD\",\n",
    "          \"BB\",\n",
    "          \"BE\",\n",
    "          \"BZ\",\n",
    "          \"BJ\",\n",
    "          \"BM\",\n",
    "          \"BT\",\n",
    "          \"BO\",\n",
    "          \"BA\",\n",
    "          \"BW\",\n",
    "          \"BR\",\n",
    "          \"VG\",\n",
    "          \"BN\",\n",
    "          \"BG\",\n",
    "          \"BF\",\n",
    "          \"BI\",\n",
    "          \"CF\",\n",
    "          \"CL\",\n",
    "          \"CO\",\n",
    "          \"KM\",\n",
    "          \"CR\",\n",
    "          \"CY\",\n",
    "          \"DK\",\n",
    "          \"DJ\",\n",
    "          \"DM\",\n",
    "          \"DO\",\n",
    "          \"EC\",\n",
    "          \"EG\",\n",
    "          \"GQ\",\n",
    "          \"SV\",\n",
    "          \"CI\",\n",
    "          \"ER\",\n",
    "          \"EE\",\n",
    "          \"ET\",\n",
    "          \"FJ\",\n",
    "          \"PH\",\n",
    "          \"FI\",\n",
    "          \"FR\",\n",
    "          \"GA\",\n",
    "          \"GM\",\n",
    "          \"GE\",\n",
    "          \"GH\",\n",
    "          \"GI\",\n",
    "          \"GR\",\n",
    "          \"GD\",\n",
    "          \"GT\",\n",
    "          \"GN\",\n",
    "          \"GW\",\n",
    "          \"GY\",\n",
    "          \"HT\",\n",
    "          \"HN\",\n",
    "          \"HK\",\n",
    "          \"IN\",\n",
    "          \"ID\",\n",
    "          \"IQ\",\n",
    "          \"IR\",\n",
    "          \"IE\",\n",
    "          \"IS\",\n",
    "          \"IL\",\n",
    "          \"IT\",\n",
    "          \"JM\",\n",
    "          \"JP\",\n",
    "          \"YE\",\n",
    "          \"JO\",\n",
    "          \"YU\",\n",
    "          \"KH\",\n",
    "          \"CM\",\n",
    "          \"CA\",\n",
    "          \"CV\",\n",
    "          \"KZ\",\n",
    "          \"KE\",\n",
    "          \"CN\",\n",
    "          \"KG\",\n",
    "          \"KI\",\n",
    "          \"CG\",\n",
    "          \"CD\",\n",
    "          \"XK\",\n",
    "          \"HR\",\n",
    "          \"CU\",\n",
    "          \"KW\",\n",
    "          \"LA\",\n",
    "          \"LS\",\n",
    "          \"LV\",\n",
    "          \"LB\",\n",
    "          \"LR\",\n",
    "          \"LY\",\n",
    "          \"LI\",\n",
    "          \"LT\",\n",
    "          \"LU\",\n",
    "          \"MG\",\n",
    "          \"MW\",\n",
    "          \"MY\",\n",
    "          \"MV\",\n",
    "          \"ML\",\n",
    "          \"MT\",\n",
    "          \"MA\",\n",
    "          \"MH\",\n",
    "          \"MR\",\n",
    "          \"MU\",\n",
    "          \"MX\",\n",
    "          \"FM\",\n",
    "          \"MZ\",\n",
    "          \"MD\",\n",
    "          \"MC\",\n",
    "          \"MN\",\n",
    "          \"ME\",\n",
    "          \"MM\",\n",
    "          \"NA\",\n",
    "          \"NR\",\n",
    "          \"NL\",\n",
    "          \"NP\",\n",
    "          \"NI\",\n",
    "          \"NE\",\n",
    "          \"NG\",\n",
    "          \"KP\",\n",
    "          \"MK\",\n",
    "          \"NO\",\n",
    "          \"NZ\",\n",
    "          \"OM\",\n",
    "          \"PK\",\n",
    "          \"PW\",\n",
    "          \"PS\",\n",
    "          \"PA\",\n",
    "          \"PG\",\n",
    "          \"PY\",\n",
    "          \"PE\",\n",
    "          \"PL\",\n",
    "          \"PT\",\n",
    "          \"QA\",\n",
    "          \"RO\",\n",
    "          \"RW\",\n",
    "          \"RU\",\n",
    "          \"SB\",\n",
    "          \"WS\",\n",
    "          \"SM\",\n",
    "          \"ST\",\n",
    "          \"SA\",\n",
    "          \"CH\",\n",
    "          \"SN\",\n",
    "          \"RS\",\n",
    "          \"CS\",\n",
    "          \"SC\",\n",
    "          \"SL\",\n",
    "          \"SG\",\n",
    "          \"SK\",\n",
    "          \"SI\",\n",
    "          \"SO\",\n",
    "          \"SU\",\n",
    "          \"ES\",\n",
    "          \"LK\",\n",
    "          \"KN\",\n",
    "          \"LC\",\n",
    "          \"VC\",\n",
    "          \"GB\",\n",
    "          \"SD\",\n",
    "          \"SR\",\n",
    "          \"SZ\",\n",
    "          \"SE\",\n",
    "          \"ZA\",\n",
    "          \"KR\",\n",
    "          \"SS\",\n",
    "          \"SY\",\n",
    "          \"TJ\",\n",
    "          \"TW\",\n",
    "          \"TZ\",\n",
    "          \"TD\",\n",
    "          \"TH\",\n",
    "          \"CZ\",\n",
    "          \"QT\",\n",
    "          \"TG\",\n",
    "          \"TO\",\n",
    "          \"TT\",\n",
    "          \"TN\",\n",
    "          \"TR\",\n",
    "          \"TM\",\n",
    "          \"TV\",\n",
    "          \"DE\",\n",
    "          \"UG\",\n",
    "          \"UA\",\n",
    "          \"HU\",\n",
    "          \"UY\",\n",
    "          \"US\",\n",
    "          \"UZ\",\n",
    "          \"VU\",\n",
    "          \"VA\",\n",
    "          \"VE\",\n",
    "          \"VN\",\n",
    "          \"BY\",\n",
    "          \"ZM\",\n",
    "          \"ZW\",\n",
    "          \"AT\",\n",
    "          \"TL\",\n",
    "          \"ÖOF\"\n",
    "        ]\n",
    "      }\n",
    "    },\n",
    "    {\n",
    "      \"code\": \"Alder\",\n",
    "      \"selection\": {\n",
    "        \"filter\": \"agg:Ålder10år\",\n",
    "        \"values\": [\n",
    "          \"-4\",\n",
    "          \"5-14\",\n",
    "          \"15-24\",\n",
    "          \"25-34\",\n",
    "          \"35-44\",\n",
    "          \"45-54\",\n",
    "          \"55-64\",\n",
    "          \"65-74\",\n",
    "          \"75-84\",\n",
    "          \"85-94\",\n",
    "          \"95+\"\n",
    "        ]\n",
    "      }\n",
    "    },\n",
    "    {\n",
    "      \"code\": \"Kon\",\n",
    "      \"selection\": {\n",
    "        \"filter\": \"item\",\n",
    "        \"values\": [\n",
    "          \"1\",\n",
    "          \"2\"\n",
    "        ]\n",
    "      }\n",
    "    }\n",
    "  ],\n",
    "  \"response\": {\n",
    "    \"format\": \"json\"\n",
    "  }\n",
    "}"
   ]
  },
  {
   "cell_type": "code",
   "execution_count": null,
   "metadata": {},
   "outputs": [],
   "source": [
    "r = requests.post(url,json=data)\n",
    "r.status_code"
   ]
  },
  {
   "cell_type": "code",
   "execution_count": null,
   "metadata": {
    "scrolled": false
   },
   "outputs": [],
   "source": [
    "json = r.json()\n",
    "json['data'][0]"
   ]
  },
  {
   "cell_type": "code",
   "execution_count": null,
   "metadata": {},
   "outputs": [],
   "source": [
    "data_list = []\n",
    "\n",
    "nr_records = (len(json['data']))\n",
    "\n",
    "for rec in range(nr_records):\n",
    "\n",
    "    data_list.append ((json['data'][rec]['key'][0],\n",
    "                        json['data'][rec]['key'][1],\n",
    "                        json['data'][rec]['key'][2],\n",
    "                        json['data'][rec]['key'][3],\n",
    "                        json['data'][rec]['values'][0]))\n"
   ]
  },
  {
   "cell_type": "code",
   "execution_count": null,
   "metadata": {},
   "outputs": [],
   "source": []
  },
  {
   "cell_type": "code",
   "execution_count": null,
   "metadata": {},
   "outputs": [],
   "source": [
    "migrants = pd.DataFrame(data_list,columns=['abb','age','gender','year','count'])\n"
   ]
  },
  {
   "cell_type": "code",
   "execution_count": null,
   "metadata": {},
   "outputs": [],
   "source": [
    "migrants"
   ]
  },
  {
   "cell_type": "code",
   "execution_count": null,
   "metadata": {},
   "outputs": [],
   "source": [
    "country_abb = pd.read_csv('country_abb.csv',sep=';',header=None,keep_default_na=False,\n",
    "                         encoding='UTF-8')\n",
    "country_abb.columns = ['abb','country']\n",
    "country_abb.set_index('abb',inplace=True)\n",
    "country_abb"
   ]
  },
  {
   "cell_type": "code",
   "execution_count": null,
   "metadata": {},
   "outputs": [],
   "source": [
    "country_abb.loc['US']"
   ]
  },
  {
   "cell_type": "code",
   "execution_count": null,
   "metadata": {},
   "outputs": [],
   "source": [
    "#doesnt work!\n",
    "countr_abb = country_abb[~country_abb.index.duplicated(keep='first')]\n",
    "country_abb.loc['US']"
   ]
  },
  {
   "cell_type": "code",
   "execution_count": null,
   "metadata": {},
   "outputs": [],
   "source": [
    "mask = country_abb.index.duplicated()\n",
    "country_abb = country_abb[~mask]\n",
    "country_abb.loc['US']"
   ]
  },
  {
   "cell_type": "code",
   "execution_count": null,
   "metadata": {},
   "outputs": [],
   "source": [
    "migrants['count'] = migrants['count'].astype(int)\n",
    "migrants_orig = migrants.copy()\n",
    "migrants"
   ]
  },
  {
   "cell_type": "code",
   "execution_count": null,
   "metadata": {},
   "outputs": [],
   "source": [
    "migrants['country'] = migrants['abb'].apply(lambda x : country_abb.loc[x,'country'])\n",
    "migrants"
   ]
  },
  {
   "cell_type": "code",
   "execution_count": null,
   "metadata": {},
   "outputs": [],
   "source": [
    "migrants.groupby('year')['count'].sum()"
   ]
  },
  {
   "cell_type": "code",
   "execution_count": null,
   "metadata": {},
   "outputs": [],
   "source": [
    "# https://worldpopulationreview.com/country-rankings/muslim-majority-countries\n",
    "muslim_countries_ratio = pd.read_json('muslim_countries.json')\n",
    "muslim_countries_ratio['pop2020'] = muslim_countries_ratio['pop2020'].astype(str).str.replace('.','').astype(int)\n",
    "muslim_countries_ratio['muslimPopulation'] = muslim_countries_ratio['muslimPopulation'].astype(int)\n",
    "muslim_countries_ratio[['muslim%','worldMuslim%']] = muslim_countries_ratio[['muslim%','worldMuslim%']].astype(float)\n",
    "muslim_countries_ratio"
   ]
  },
  {
   "cell_type": "code",
   "execution_count": null,
   "metadata": {},
   "outputs": [],
   "source": [
    "muslim_countries = (muslim_countries_ratio.loc[muslim_countries_ratio['muslim%'] > 50]).copy()\n",
    "muslim_countries.sort_values('country',inplace=True)\n",
    "muslim_countries.set_index('country',inplace=True)\n",
    "muslim_countries"
   ]
  },
  {
   "cell_type": "code",
   "execution_count": null,
   "metadata": {},
   "outputs": [],
   "source": [
    "total_pop = pd.DataFrame({'total_pop':migrants.groupby('year')['count'].sum()})\n",
    "total_pop"
   ]
  },
  {
   "cell_type": "code",
   "execution_count": null,
   "metadata": {},
   "outputs": [],
   "source": [
    "real_migrants = (migrants[migrants['abb'] != 'SE']).copy()\n",
    "real_migrants"
   ]
  },
  {
   "cell_type": "code",
   "execution_count": null,
   "metadata": {},
   "outputs": [],
   "source": [
    "migrants_yearly = real_migrants.groupby('year').sum()\n",
    "migrants_yearly"
   ]
  },
  {
   "cell_type": "code",
   "execution_count": null,
   "metadata": {},
   "outputs": [],
   "source": [
    "total_pop['foreign_born'] = migrants_yearly\n",
    "total_pop['native_born'] = total_pop['total_pop'] - total_pop['foreign_born']\n",
    "total_pop['foreign_born_%'] = total_pop['foreign_born'] / total_pop['total_pop'] * 100\n",
    "total_pop"
   ]
  },
  {
   "cell_type": "code",
   "execution_count": null,
   "metadata": {},
   "outputs": [],
   "source": [
    "total_pop.plot(kind='bar',y='foreign_born_%',\n",
    "               title='SWE ratio foreign born of population',\n",
    "              figsize=(18,12))\n",
    "\n",
    "plt.ylabel('%')\n",
    "plt.ylim([10,21])\n",
    "plt.savefig('swe_foreign_born_pct.jpg',format='jpg')"
   ]
  },
  {
   "cell_type": "code",
   "execution_count": null,
   "metadata": {},
   "outputs": [],
   "source": [
    "def is_muslim(country):\n",
    "    '''\n",
    "    try:\n",
    "        muslim_countries.loc[country]\n",
    "    except KeyError:\n",
    "        return 0\n",
    "    return 1\n",
    "    '''\n",
    "    \n",
    "    # below didnt work if there are duplicates in the muslim_countries.index\n",
    "    \n",
    "    if country in np.array(muslim_countries.index):\n",
    "        return 1\n",
    "    return 0\n",
    "    "
   ]
  },
  {
   "cell_type": "code",
   "execution_count": null,
   "metadata": {
    "scrolled": false
   },
   "outputs": [],
   "source": [
    "real_migrants['muslim'] = real_migrants.apply(lambda row : is_muslim(row.country),axis=1)\n",
    "real_migrants"
   ]
  },
  {
   "cell_type": "code",
   "execution_count": null,
   "metadata": {},
   "outputs": [],
   "source": [
    "migrant_religion = real_migrants.groupby(['year','muslim']).sum().unstack()\n",
    "migrant_religion.columns=['No','Yes']\n",
    "migrant_religion.columns.name='muslim'\n",
    "migrant_religion['ratio_muslim'] = migrant_religion['Yes'] / migrant_religion['No']\n",
    "migrant_religion"
   ]
  },
  {
   "cell_type": "code",
   "execution_count": null,
   "metadata": {},
   "outputs": [],
   "source": [
    "migrant_religion.plot(y='ratio_muslim',kind='bar', figsize=(18,12),\n",
    "                      title='SWE ratio foreign born from Muslim Majority Countries of all foreign born')\n",
    "plt.savefig('swe_ratio_muslim_foreign_born.jpg',format='jpg')"
   ]
  },
  {
   "cell_type": "code",
   "execution_count": null,
   "metadata": {},
   "outputs": [],
   "source": [
    "all_countries = pd.DataFrame(migrants['country'].unique(),columns=['country'])"
   ]
  },
  {
   "cell_type": "code",
   "execution_count": null,
   "metadata": {},
   "outputs": [],
   "source": [
    "scb_migrant_deaths = pd.read_excel('scb_prel_deaths.xlsx',sheet_name='Tabell 9a',skiprows=11,\n",
    "                                  thousands=',',usecols=[0,1,2,3,6,7,8])"
   ]
  },
  {
   "cell_type": "code",
   "execution_count": null,
   "metadata": {},
   "outputs": [],
   "source": [
    "scb_migrant_deaths"
   ]
  },
  {
   "cell_type": "code",
   "execution_count": null,
   "metadata": {},
   "outputs": [],
   "source": [
    "scb_migrant_deaths.drop([54,55,56,57],inplace=True)"
   ]
  },
  {
   "cell_type": "code",
   "execution_count": null,
   "metadata": {},
   "outputs": [],
   "source": [
    "scb_migrant_deaths"
   ]
  },
  {
   "cell_type": "code",
   "execution_count": null,
   "metadata": {},
   "outputs": [],
   "source": [
    "unknown_date = scb_migrant_deaths.iloc[-1,1:]\n",
    "deaths = scb_migrant_deaths.iloc[:-1,1:]\n",
    "deaths.sum() + unknown_date"
   ]
  },
  {
   "cell_type": "code",
   "execution_count": null,
   "metadata": {},
   "outputs": [],
   "source": [
    "scb_migrant_deaths.sum()"
   ]
  },
  {
   "cell_type": "code",
   "execution_count": null,
   "metadata": {},
   "outputs": [],
   "source": [
    "total_deaths = scb_migrant_deaths.sum()\n",
    "total_deaths"
   ]
  },
  {
   "cell_type": "code",
   "execution_count": null,
   "metadata": {},
   "outputs": [],
   "source": [
    "ratio_weekly_deaths = (scb_migrant_deaths.iloc[:-1,1:] ) / (total_deaths - unknown_date)\n",
    "ratio_weekly_deaths\n"
   ]
  },
  {
   "cell_type": "code",
   "execution_count": null,
   "metadata": {},
   "outputs": [],
   "source": [
    "ratio_weekly_deaths.sum()"
   ]
  },
  {
   "cell_type": "code",
   "execution_count": null,
   "metadata": {},
   "outputs": [],
   "source": [
    "scb_migrant_deaths.sum()"
   ]
  },
  {
   "cell_type": "code",
   "execution_count": null,
   "metadata": {},
   "outputs": [],
   "source": [
    "# add unknown date deaths by adding weekly fraction of them to all known deaths\n",
    "deaths_fixed = deaths + (ratio_weekly_deaths * unknown_date)\n"
   ]
  },
  {
   "cell_type": "code",
   "execution_count": null,
   "metadata": {},
   "outputs": [],
   "source": [
    "deaths_fixed.sum()"
   ]
  },
  {
   "cell_type": "code",
   "execution_count": null,
   "metadata": {},
   "outputs": [],
   "source": [
    "scb_migrant_deaths = deaths_fixed\n",
    "scb_migrant_deaths"
   ]
  },
  {
   "cell_type": "code",
   "execution_count": null,
   "metadata": {},
   "outputs": [],
   "source": [
    "scb_migrant_deaths.sum()"
   ]
  },
  {
   "cell_type": "code",
   "execution_count": null,
   "metadata": {},
   "outputs": [],
   "source": [
    "scb_migrant_deaths.index = range(1,len(scb_migrant_deaths) + 1)\n"
   ]
  },
  {
   "cell_type": "code",
   "execution_count": null,
   "metadata": {},
   "outputs": [],
   "source": [
    "scb_migrant_deaths = scb_migrant_deaths.astype(float)"
   ]
  },
  {
   "cell_type": "code",
   "execution_count": null,
   "metadata": {},
   "outputs": [],
   "source": [
    "scb_migrant_deaths.sum()"
   ]
  },
  {
   "cell_type": "code",
   "execution_count": null,
   "metadata": {},
   "outputs": [],
   "source": [
    "(scb_migrant_deaths.sum())['InrF 2020'] + (scb_migrant_deaths.sum())['UtrF 2020']"
   ]
  },
  {
   "cell_type": "code",
   "execution_count": null,
   "metadata": {},
   "outputs": [],
   "source": [
    "pop_2015_2019 = total_pop.loc['2014' : '2018'].mean()\n",
    "pop_2020 = total_pop.loc['2019']\n",
    "\n",
    "print(pop_2015_2019)\n",
    "print (pop_2020)"
   ]
  },
  {
   "cell_type": "code",
   "execution_count": null,
   "metadata": {},
   "outputs": [],
   "source": [
    "pop_growth = pd.DataFrame(\n",
    "    {'birthplace': [pop_2020['foreign_born'] / pop_2015_2019['foreign_born'],\n",
    "                   pop_2020['native_born'] / pop_2015_2019['native_born']]},index=['UtrF','InrF'])\n",
    "pop_growth\n"
   ]
  },
  {
   "cell_type": "code",
   "execution_count": null,
   "metadata": {},
   "outputs": [],
   "source": [
    "tot_15_19_per_M = scb_migrant_deaths['Tot 15-19'] / (pop_2015_2019['total_pop'] / 1e6)\n",
    "foreign_15_19_per_M = scb_migrant_deaths['UtrF 15-19'] / (pop_2015_2019['foreign_born'] / 1e6)\n",
    "native_15_19_per_M = scb_migrant_deaths['InrF 15-19'] / (pop_2015_2019['native_born'] / 1e6)\n",
    "tot_2020_per_M = scb_migrant_deaths['Tot 2020'] / (pop_2020['total_pop'] / 1e6)\n",
    "foreign_2020_per_M = scb_migrant_deaths['UtrF 2020'] / (pop_2020['foreign_born'] / 1e6)\n",
    "native_2020_per_M = scb_migrant_deaths['InrF 2020'] / (pop_2020['native_born'] / 1e6)\n"
   ]
  },
  {
   "cell_type": "code",
   "execution_count": null,
   "metadata": {},
   "outputs": [],
   "source": [
    "deaths_per_m = pd.concat([tot_15_19_per_M,foreign_15_19_per_M,native_15_19_per_M,\n",
    "                         tot_2020_per_M,foreign_2020_per_M,native_2020_per_M],axis=1)\n",
    "\n",
    "deaths_per_m.index = range(1,len(deaths_per_m) +1 )\n",
    "\n",
    "last_data = (deaths_per_m.loc[deaths_per_m['Tot 2020'] != 0]).index[-1]\n",
    "print (last_data)\n",
    "last_good_data = last_data - 2\n",
    "deaths_per_m = deaths_per_m.loc[:last_good_data]\n",
    "deaths_per_m"
   ]
  },
  {
   "cell_type": "code",
   "execution_count": null,
   "metadata": {},
   "outputs": [],
   "source": [
    "deaths_per_m.sum()"
   ]
  },
  {
   "cell_type": "code",
   "execution_count": null,
   "metadata": {},
   "outputs": [],
   "source": [
    "scb_migrant_deaths"
   ]
  },
  {
   "cell_type": "code",
   "execution_count": null,
   "metadata": {},
   "outputs": [],
   "source": [
    "scb_migrant_deaths.sum()"
   ]
  },
  {
   "cell_type": "code",
   "execution_count": null,
   "metadata": {},
   "outputs": [],
   "source": [
    "pop_2020"
   ]
  },
  {
   "cell_type": "code",
   "execution_count": null,
   "metadata": {},
   "outputs": [],
   "source": [
    "pop = pd.DataFrame({'Tot 15-19' : pop_2015_2019['total_pop'],\n",
    "                   'UtrF 15-19' : pop_2015_2019['foreign_born'],\n",
    "                   'InrF 15-19' : pop_2015_2019['native_born'],\n",
    "                   'Tot 2020' : pop_2020['total_pop'],\n",
    "                   'UtrF 2020' : pop_2020['foreign_born'],\n",
    "                   'InrF 2020' : pop_2020['native_born']},index=['pop'])\n",
    "pop"
   ]
  },
  {
   "cell_type": "code",
   "execution_count": null,
   "metadata": {},
   "outputs": [],
   "source": [
    "mortality = scb_migrant_deaths.iloc[:,:] / pop.loc['pop',:]\n",
    "mortality"
   ]
  },
  {
   "cell_type": "code",
   "execution_count": null,
   "metadata": {},
   "outputs": [],
   "source": [
    "mortality = mortality.loc[:last_good_data]\n",
    "mortality"
   ]
  },
  {
   "cell_type": "code",
   "execution_count": null,
   "metadata": {},
   "outputs": [],
   "source": [
    "mortality.plot(figsize=(18,12),style='o--')"
   ]
  },
  {
   "cell_type": "code",
   "execution_count": null,
   "metadata": {},
   "outputs": [],
   "source": [
    "mortality.cumsum().plot(figsize=(18,12),style='o--')"
   ]
  },
  {
   "cell_type": "code",
   "execution_count": null,
   "metadata": {},
   "outputs": [],
   "source": []
  },
  {
   "cell_type": "code",
   "execution_count": null,
   "metadata": {},
   "outputs": [],
   "source": [
    "abs_deaths = mortality * pop.loc['pop']\n",
    "\n",
    "abs_deaths"
   ]
  },
  {
   "cell_type": "code",
   "execution_count": null,
   "metadata": {},
   "outputs": [],
   "source": [
    "abs_deaths.sum()"
   ]
  },
  {
   "cell_type": "code",
   "execution_count": null,
   "metadata": {},
   "outputs": [],
   "source": [
    "mortality"
   ]
  },
  {
   "cell_type": "code",
   "execution_count": null,
   "metadata": {},
   "outputs": [],
   "source": [
    "mortality_diff_UtrF = mortality['UtrF 2020'] - mortality['UtrF 15-19']\n",
    "mortality_diff_InrF = mortality['InrF 2020'] - mortality['InrF 15-19']\n",
    "mortality_diff_Tot = mortality['Tot 2020'] - mortality['Tot 15-19']\n",
    "\n",
    "mortality_diff = pd.concat([mortality_diff_UtrF,mortality_diff_InrF,mortality_diff_Tot],axis=1)\n",
    "mortality_diff.columns = ['UtrF','InrF','Tot']\n",
    "mortality_diff"
   ]
  },
  {
   "cell_type": "code",
   "execution_count": null,
   "metadata": {},
   "outputs": [],
   "source": [
    "mortality_diff.plot(figsize=(18,12),style=['o--'] * 3)"
   ]
  },
  {
   "cell_type": "code",
   "execution_count": null,
   "metadata": {},
   "outputs": [],
   "source": [
    "mortality_diff.cumsum()"
   ]
  },
  {
   "cell_type": "code",
   "execution_count": null,
   "metadata": {},
   "outputs": [],
   "source": [
    "mortality_diff.cumsum().plot(figsize=(18,12),style='o--')"
   ]
  },
  {
   "cell_type": "code",
   "execution_count": null,
   "metadata": {},
   "outputs": [],
   "source": [
    "#abs_diff = mortality_diff * popsie.loc['pop']\n",
    "#abs_diff"
   ]
  },
  {
   "cell_type": "code",
   "execution_count": null,
   "metadata": {},
   "outputs": [],
   "source": [
    "#abs_diff.cumsum()"
   ]
  },
  {
   "cell_type": "code",
   "execution_count": null,
   "metadata": {},
   "outputs": [],
   "source": [
    "#abs_diff.cumsum().plot()"
   ]
  },
  {
   "cell_type": "code",
   "execution_count": null,
   "metadata": {},
   "outputs": [],
   "source": [
    "mortality\n",
    "growth_UtrF = mortality['UtrF 2020'] / mortality['UtrF 15-19']\n",
    "growth_InrF = mortality['InrF 2020'] / mortality['InrF 15-19']\n",
    "\n",
    "growth = pd.concat([growth_UtrF,growth_InrF],axis=1)\n",
    "growth.columns = ['Foreign Born','Native Born']\n",
    "growth"
   ]
  },
  {
   "cell_type": "code",
   "execution_count": null,
   "metadata": {},
   "outputs": [],
   "source": [
    "growth.max()"
   ]
  },
  {
   "cell_type": "code",
   "execution_count": null,
   "metadata": {},
   "outputs": [],
   "source": []
  },
  {
   "cell_type": "code",
   "execution_count": null,
   "metadata": {},
   "outputs": [],
   "source": [
    "title = 'SWEDEN weekly mortality native vs foreign born, 2020 YTD vs avg 2015-2019'\n",
    "mortality.plot(y=['InrF 15-19','InrF 2020','UtrF 15-19','UtrF 2020'],figsize=(18,12),\n",
    "               style=['g--','go--','r--','ro--'],title=title)\n",
    "\n",
    "plt.legend(['Native born 15-19','Native born 2020','Foreign born 15-19','Foreign born 2020'])\n",
    "plt.ylabel('weekly mortality')\n",
    "plt.xlabel('week')\n",
    "plt.savefig('swe_native_vs_foreign_mort.jpg',format='jpg')"
   ]
  },
  {
   "cell_type": "code",
   "execution_count": null,
   "metadata": {},
   "outputs": [],
   "source": [
    "title = 'SWEDEN weekly mortality Y2Y Growth factors, native vs foreign born, 2020 vs baseline 2015-2019'\n",
    "growth.plot(figsize=(18,12),style=['ro--','go--'],title=title)\n",
    "plt.ylabel ('weekly growth factor')\n",
    "plt.xlabel('week')\n",
    "plt.savefig('swe_native_vs_foreign_growth.jpg',format='jpg')"
   ]
  },
  {
   "cell_type": "code",
   "execution_count": null,
   "metadata": {},
   "outputs": [],
   "source": [
    "pop"
   ]
  },
  {
   "cell_type": "code",
   "execution_count": null,
   "metadata": {},
   "outputs": [],
   "source": [
    "std_abs_deaths = mortality * pop.loc['pop']\n",
    "std_abs_deaths"
   ]
  },
  {
   "cell_type": "code",
   "execution_count": null,
   "metadata": {},
   "outputs": [],
   "source": [
    "std_abs_deaths_sum = std_abs_deaths.sum()\n",
    "std_abs_deaths_sum"
   ]
  },
  {
   "cell_type": "code",
   "execution_count": null,
   "metadata": {},
   "outputs": [],
   "source": [
    "tot_std_deaths_15_19 = std_abs_deaths_sum['InrF 15-19'] + std_abs_deaths_sum['UtrF 15-19']\n",
    "tot_std_deaths_2020 = std_abs_deaths_sum['InrF 2020'] + std_abs_deaths_sum['UtrF 2020']\n",
    "\n",
    "tot_std_deaths = pd.DataFrame([tot_std_deaths_15_19,tot_std_deaths_2020])\n",
    "tot_std_deaths"
   ]
  },
  {
   "cell_type": "code",
   "execution_count": null,
   "metadata": {},
   "outputs": [],
   "source": [
    "scb_migrant_deaths.sum()"
   ]
  },
  {
   "cell_type": "code",
   "execution_count": null,
   "metadata": {},
   "outputs": [],
   "source": []
  },
  {
   "cell_type": "code",
   "execution_count": null,
   "metadata": {},
   "outputs": [],
   "source": [
    "std_2020_pop = pop.loc['pop','Tot 2020' : 'InrF 2020']\n",
    "std_2020_pop.index = ['Tot','UtrF','InrF']\n",
    "std_2020_pop"
   ]
  },
  {
   "cell_type": "code",
   "execution_count": null,
   "metadata": {},
   "outputs": [],
   "source": [
    "adj_excess_deaths = mortality_diff * std_2020_pop"
   ]
  },
  {
   "cell_type": "code",
   "execution_count": null,
   "metadata": {},
   "outputs": [],
   "source": [
    "# if both cohorts have neg excess, tot is below both. If both cohorts have pos excess, tot is above both\n",
    "\n",
    "adj_excess_deaths.plot(figsize=(18,12),style=['go--','ko--','ro--'])\n",
    "plt.legend(['Native born','Total','Foreign born'])"
   ]
  },
  {
   "cell_type": "code",
   "execution_count": null,
   "metadata": {},
   "outputs": [],
   "source": [
    "adj_excess_deaths_cum = adj_excess_deaths.cumsum()\n",
    "adj_excess_deaths_cum.plot(figsize=(18,12),style=['go--','ko--','ro--'])\n",
    "plt.legend(['Native born','Total','Foreign born'])"
   ]
  },
  {
   "cell_type": "code",
   "execution_count": null,
   "metadata": {},
   "outputs": [],
   "source": [
    "(adj_excess_deaths_cum / std_2020_pop).plot(figsize=(18,12),style='o--')"
   ]
  },
  {
   "cell_type": "code",
   "execution_count": null,
   "metadata": {},
   "outputs": [],
   "source": [
    "mortality_diff"
   ]
  },
  {
   "cell_type": "code",
   "execution_count": null,
   "metadata": {},
   "outputs": [],
   "source": [
    "mortality_diff.cumsum().plot(figsize=(18,12),style=['ro--','go--','ko--'])\n",
    "plt.legend(['Foreign born','Native born','Total'])"
   ]
  },
  {
   "cell_type": "code",
   "execution_count": null,
   "metadata": {},
   "outputs": [],
   "source": [
    "mortality.cumsum().plot(figsize=(18,12),style=['g--','go--','k--','ko--','r--','ro--'])\n",
    "plt.legend(['Native born 15-19','Native born 2020','Total 15-19','Total 2020',\n",
    "           'Foreign born 15-19','Foreign born 2020'])"
   ]
  },
  {
   "cell_type": "code",
   "execution_count": null,
   "metadata": {},
   "outputs": [],
   "source": [
    "mortality"
   ]
  },
  {
   "cell_type": "code",
   "execution_count": null,
   "metadata": {
    "scrolled": false
   },
   "outputs": [],
   "source": [
    "def select_pairs(colName):\n",
    "    if 'InrF' in colName:\n",
    "        return 'InrF'\n",
    "    if 'UtrF' in colName:\n",
    "        return 'UtrF'\n",
    "    if 'Tot in colName':\n",
    "        return 'Tot'\n",
    "\n",
    "def diff(arr):\n",
    "    return arr.iloc[:,1] - arr.iloc[:,0]\n",
    "\n",
    "def growth(arr):\n",
    "    return arr.iloc[:,1] / arr.iloc[:,0]\n",
    "    \n",
    "mort_diff = mortality.groupby(select_pairs,axis=1).agg(diff)\n",
    "\n",
    "mort_growth = mortality.groupby(select_pairs,axis=1).agg(growth)\n",
    "\n",
    "print (mort_diff)\n",
    "print (mort_growth)"
   ]
  },
  {
   "cell_type": "code",
   "execution_count": null,
   "metadata": {},
   "outputs": [],
   "source": [
    "mort_diff.plot()"
   ]
  },
  {
   "cell_type": "code",
   "execution_count": null,
   "metadata": {},
   "outputs": [],
   "source": [
    "mort_diff.cumsum().plot(figsize=(18,12))"
   ]
  },
  {
   "cell_type": "code",
   "execution_count": null,
   "metadata": {},
   "outputs": [],
   "source": [
    "mort_growth.plot(figsize=(18,12),style=['go--','ko--','ro--'])\n",
    "plt.legend(['Native born','Total','Foreign born'])"
   ]
  },
  {
   "cell_type": "code",
   "execution_count": null,
   "metadata": {},
   "outputs": [],
   "source": [
    "mort_cum = mortality.cumsum()\n",
    "mort_cum_growth = mort_cum.groupby(select_pairs,axis=1).agg(growth)\n",
    "mort_cum_growth"
   ]
  },
  {
   "cell_type": "code",
   "execution_count": null,
   "metadata": {},
   "outputs": [],
   "source": [
    "mort_cum_growth.plot(figsize=(18,12),style=['go--','ko--','ro--'])\n",
    "plt.legend(['Native born','Total','Foreign born'])\n",
    "plt.yticks(np.arange(0.8,1.16,0.1))"
   ]
  },
  {
   "cell_type": "code",
   "execution_count": null,
   "metadata": {},
   "outputs": [],
   "source": [
    "deaths = scb_migrant_deaths[:last_good_data]\n",
    "deaths"
   ]
  },
  {
   "cell_type": "code",
   "execution_count": null,
   "metadata": {},
   "outputs": [],
   "source": [
    "deaths.sum()"
   ]
  },
  {
   "cell_type": "code",
   "execution_count": null,
   "metadata": {},
   "outputs": [],
   "source": [
    "(deaths.sum() / pop).plot(kind='bar')\n",
    "print (deaths.sum() / pop)\n",
    "\n"
   ]
  },
  {
   "cell_type": "code",
   "execution_count": null,
   "metadata": {},
   "outputs": [],
   "source": [
    "mortality.sum()"
   ]
  },
  {
   "cell_type": "code",
   "execution_count": null,
   "metadata": {},
   "outputs": [],
   "source": [
    "sums = deaths.sum()\n",
    "sums"
   ]
  },
  {
   "cell_type": "code",
   "execution_count": null,
   "metadata": {},
   "outputs": [],
   "source": [
    "print (sums['InrF 15-19'] / sums['Tot 15-19'])\n",
    "print (sums['InrF 2020'] / sums['Tot 2020'])"
   ]
  },
  {
   "cell_type": "code",
   "execution_count": null,
   "metadata": {},
   "outputs": [],
   "source": []
  }
 ],
 "metadata": {
  "kernelspec": {
   "display_name": "Python 3",
   "language": "python",
   "name": "python3"
  },
  "language_info": {
   "codemirror_mode": {
    "name": "ipython",
    "version": 3
   },
   "file_extension": ".py",
   "mimetype": "text/x-python",
   "name": "python",
   "nbconvert_exporter": "python",
   "pygments_lexer": "ipython3",
   "version": "3.8.6"
  }
 },
 "nbformat": 4,
 "nbformat_minor": 4
}
