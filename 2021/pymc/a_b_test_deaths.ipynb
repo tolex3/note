{
 "cells": [
  {
   "cell_type": "code",
   "execution_count": null,
   "metadata": {},
   "outputs": [],
   "source": [
    "import numpy as np\n",
    "import matplotlib.pyplot as plt\n",
    "import pandas as pd\n",
    "import seaborn as sns\n",
    "import pymc3 as pm\n",
    "import arviz as az\n",
    "\n",
    "sns.set()"
   ]
  },
  {
   "cell_type": "code",
   "execution_count": null,
   "metadata": {},
   "outputs": [],
   "source": [
    "np.random.seed(87)\n",
    "\n",
    "N1 = 10031350 # baseline 15-18\n",
    "N2 = 10378483 # 2020\n",
    "N3 = 10319473 # 2019\n",
    "N4 = 10215309 # 2018\n",
    "N5 = 10104036 # 2017\n",
    "N6 = 9967637 # 2016\n",
    "N7 = 9838418 # 2015\n",
    "\n",
    "K1 = 91511 # baseline 15-18\n",
    "K2 = 98124 # 2020\n",
    "K3 = 88766 # 2019\n",
    "K4 = 92185 # 2018\n",
    "K5 = 91972 # 2017\n",
    "K6 = 90982 # 2016\n",
    "K7 = 90907 # 2015\n",
    "\n",
    "\n",
    "y1 = np.zeros(N1)\n",
    "y1[np.random.choice(np.arange(len(y1)),replace=False,size=K1)] = 1\n",
    "\n",
    "y2 = np.zeros(N2)\n",
    "y2[np.random.choice(np.arange(len(y2)),replace=False,size=K2)] = 1\n",
    "\n",
    "y3 = np.zeros(N3)\n",
    "y3[np.random.choice(np.arange(len(y3)),replace=False,size=K3)] = 1\n",
    "\n",
    "y4 = np.zeros(N4)\n",
    "y4[np.random.choice(np.arange(len(y4)),replace=False,size=K4)] = 1\n",
    "\n",
    "y5 = np.zeros(N5)\n",
    "y5[np.random.choice(np.arange(len(y5)),replace=False,size=K5)] = 1\n",
    "\n",
    "y6 = np.zeros(N6)\n",
    "y6[np.random.choice(np.arange(len(y6)),replace=False,size=K6)] = 1\n",
    "\n",
    "y7 = np.zeros(N7)\n",
    "y7[np.random.choice(np.arange(len(y7)),replace=False,size=K7)] = 1\n",
    "\n",
    "\n",
    "observations_A = sum(y1)\n",
    "observations_B = sum(y2)\n",
    "observations_C = sum(y3)\n",
    "observations_D = sum(y4)\n",
    "observations_E = sum(y5)\n",
    "observations_F = sum(y6)\n",
    "observations_G = sum(y7)\n",
    "\n",
    "\n",
    "\n",
    "observations_B"
   ]
  },
  {
   "cell_type": "code",
   "execution_count": null,
   "metadata": {},
   "outputs": [],
   "source": [
    "prior_A = pm.Beta.dist(alpha=K1,beta=N1-K1).random(size=1000)\n",
    "plt.hist(prior_A)"
   ]
  },
  {
   "cell_type": "code",
   "execution_count": null,
   "metadata": {},
   "outputs": [],
   "source": [
    "with pm.Model() as model:\n",
    "\n",
    "    # define priors\n",
    "    p_A = pm.Beta('p_A', alpha=K1,beta=N1-K1)\n",
    "    p_B = pm.Beta('p_B', alpha=K1,beta=N1-K1)\n",
    "    p_C = pm.Beta('p_C',alpha=K1,beta=N1-K1)\n",
    "    p_D = pm.Beta('p_D',alpha=K1,beta=N1-K1)\n",
    "    p_E = pm.Beta('p_E',alpha=K1,beta=N1-K1)\n",
    "    p_F = pm.Beta('p_F',alpha=K1,beta=N1-K1)\n",
    "    p_G = pm.Beta('p_G',alpha=K1,beta=N1-K1)\n",
    "\n",
    "    \n",
    "    # define likelihood\n",
    "    obs_A = pm.Binomial('obs_A', n=len(y1), p=p_A, observed=observations_A)\n",
    "    obs_B = pm.Binomial('obs_B', n=len(y2), p=p_B, observed=observations_B)\n",
    "    obs_C = pm.Binomial('obs_C', n=len(y3), p=p_C,observed=observations_C)\n",
    "    obs_D = pm.Binomial('obs_D', n=len(y4), p=p_D,observed=observations_D)\n",
    "    obs_E = pm.Binomial('obs_E', n=len(y5), p=p_E,observed=observations_E)\n",
    "    obs_F = pm.Binomial('obs_F', n=len(y6), p=p_F,observed=observations_F)\n",
    "    obs_G = pm.Binomial('obs_G', n=len(y7), p=p_G,observed=observations_G)\n",
    "\n",
    "    # define metrics\n",
    "    pm.Deterministic('diff_p_B - p_A', p_B - p_A)\n",
    "    pm.Deterministic('rel_p_B / p_A', (p_B/p_A) - 1)\n",
    "    pm.Deterministic('diff_p_C - p_A', p_C - p_A)\n",
    "    pm.Deterministic('rel_p_C / p_A', (p_C/p_A) - 1)\n",
    "    pm.Deterministic('diff_p_D - p_A', p_D - p_A)\n",
    "    pm.Deterministic('rel_p_D / p_A', (p_D/p_A) - 1)\n",
    "    pm.Deterministic('diff_p_E - p_A', p_E - p_A)\n",
    "    pm.Deterministic('rel_p_E / p_A', (p_E/p_A) - 1)\n",
    "    pm.Deterministic('diff_p_F - p_A', p_F - p_A)\n",
    "    pm.Deterministic('rel_p_F / p_A', (p_F/p_A) - 1)\n",
    "    pm.Deterministic('diff_p_G - p_A', p_G - p_A)\n",
    "    pm.Deterministic('rel_p_G / p_A', (p_G/p_A) - 1)\n",
    " \n",
    " \n",
    "    trace = pm.sample(progressbar=True)\n",
    "    "
   ]
  },
  {
   "cell_type": "code",
   "execution_count": null,
   "metadata": {
    "scrolled": false
   },
   "outputs": [],
   "source": [
    "with model:\n",
    "    az.plot_trace(trace)"
   ]
  },
  {
   "cell_type": "code",
   "execution_count": null,
   "metadata": {
    "scrolled": false
   },
   "outputs": [],
   "source": [
    "with model:\n",
    "    az.plot_posterior(trace,figsize=(18,6),hdi_prob=0.89,var_names=['p_A'])\n",
    "    az.plot_posterior(trace,figsize=(18,6),hdi_prob=0.89,var_names=['p_B'])\n",
    "    az.plot_posterior(trace,figsize=(18,6),hdi_prob=0.89,var_names=['p_C'])\n",
    "    az.plot_posterior(trace,figsize=(18,6),hdi_prob=0.89,var_names=['p_D'])\n",
    "    az.plot_posterior(trace,figsize=(18,6),hdi_prob=0.89,var_names=['p_E'])\n",
    "    az.plot_posterior(trace,figsize=(18,6),hdi_prob=0.89,var_names=['p_F'])\n",
    "    az.plot_posterior(trace,figsize=(18,6),hdi_prob=0.89,var_names=['p_G'])\n",
    "\n",
    "\n",
    "    az.plot_posterior(trace,figsize=(18,6),hdi_prob=0.89,ref_val=0,var_names=['diff_p_B - p_A'])\n",
    "    az.plot_posterior(trace,figsize=(18,6),hdi_prob=0.89,ref_val=0,var_names=['rel_p_B / p_A'])\n",
    "    az.plot_posterior(trace,figsize=(18,6),hdi_prob=0.89,ref_val=0,var_names=['diff_p_C - p_A'])\n",
    "    az.plot_posterior(trace,figsize=(18,6),hdi_prob=0.89,ref_val=0,var_names=['rel_p_C / p_A'])\n",
    "    az.plot_posterior(trace,figsize=(18,6),hdi_prob=0.89,ref_val=0,var_names=['diff_p_D - p_A'])\n",
    "    az.plot_posterior(trace,figsize=(18,6),hdi_prob=0.89,ref_val=0,var_names=['rel_p_D / p_A'])\n",
    "    az.plot_posterior(trace,figsize=(18,6),hdi_prob=0.89,ref_val=0,var_names=['diff_p_E - p_A'])\n",
    "    az.plot_posterior(trace,figsize=(18,6),hdi_prob=0.89,ref_val=0,var_names=['rel_p_E / p_A'])\n",
    "    az.plot_posterior(trace,figsize=(18,6),hdi_prob=0.89,ref_val=0,var_names=['diff_p_F - p_A'])\n",
    "    az.plot_posterior(trace,figsize=(18,6),hdi_prob=0.89,ref_val=0,var_names=['rel_p_F / p_A'])\n",
    "    az.plot_posterior(trace,figsize=(18,6),hdi_prob=0.89,ref_val=0,var_names=['diff_p_G - p_A'])\n",
    "    az.plot_posterior(trace,figsize=(18,6),hdi_prob=0.89,ref_val=0,var_names=['rel_p_G / p_A'])"
   ]
  },
  {
   "cell_type": "code",
   "execution_count": null,
   "metadata": {},
   "outputs": [],
   "source": [
    "with model:\n",
    "    print (az.summary(trace,hdi_prob=0.89))"
   ]
  },
  {
   "cell_type": "code",
   "execution_count": null,
   "metadata": {},
   "outputs": [],
   "source": [
    "with pm.Model() as model2:\n",
    "    \n",
    "    lambda_A = pm.Exponential('lambda_A',1 / K1)\n",
    "    lambda_B = pm.Exponential('lambda_B', 1 / K1)\n",
    "    \n",
    "    \n",
    "    obs_A = pm.Poisson('obs_A',lambda_A,observed=K1)\n",
    "    obs_B = pm.Poisson('obs_B',lambda_B,observed=K2)\n",
    "    \n",
    "    pm.Deterministic('lambda_B - lambda_A',lambda_B - lambda_A)\n",
    "    pm.Deterministic('lambda_B / lambda_A', (lambda_B / lambda_A) - 1)\n",
    "    \n",
    "    trace2 = pm.sample()"
   ]
  },
  {
   "cell_type": "code",
   "execution_count": null,
   "metadata": {},
   "outputs": [],
   "source": [
    "with model2:\n",
    "    pm.plot_trace(trace2)"
   ]
  },
  {
   "cell_type": "code",
   "execution_count": null,
   "metadata": {},
   "outputs": [],
   "source": [
    "with model2:\n",
    "    az.plot_posterior(trace2,figsize=(18,6),hdi_prob=0.89,var_names=['lambda_A'])\n",
    "    az.plot_posterior(trace2,figsize=(18,6),hdi_prob=0.89,var_names=['lambda_B'])\n",
    "\n",
    "    \n"
   ]
  },
  {
   "cell_type": "code",
   "execution_count": null,
   "metadata": {},
   "outputs": [],
   "source": [
    "with model2:\n",
    "    az.plot_posterior(trace2,figsize=(18,6),hdi_prob=0.89,var_names=['lambda_B - lambda_A'])\n",
    "    az.plot_posterior(trace2,figsize=(18,6),hdi_prob=0.89,ref_val=0,var_names=['lambda_B / lambda_A'])\n",
    "    "
   ]
  }
 ],
 "metadata": {
  "kernelspec": {
   "display_name": "Python 3",
   "language": "python",
   "name": "python3"
  },
  "language_info": {
   "codemirror_mode": {
    "name": "ipython",
    "version": 3
   },
   "file_extension": ".py",
   "mimetype": "text/x-python",
   "name": "python",
   "nbconvert_exporter": "python",
   "pygments_lexer": "ipython3",
   "version": "3.8.6"
  }
 },
 "nbformat": 4,
 "nbformat_minor": 4
}
