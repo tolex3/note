{
 "cells": [
  {
   "cell_type": "code",
   "execution_count": null,
   "metadata": {},
   "outputs": [],
   "source": [
    "### https://towardsdatascience.com/the-ultimate-guide-to-a-b-testing-part-4-bayesian-approach-binomial-variables-aa71e25d2165\n",
    "\n",
    "### to replicate the exact numbers from the article, use the lines prefixed by #EX-code ###\n",
    "import numpy as np\n",
    "import matplotlib.pyplot as plt\n",
    "import pandas as pd\n",
    "import seaborn as sns\n",
    "import pymc3 as pm\n",
    "import arviz as az\n",
    "\n",
    "sns.set()"
   ]
  },
  {
   "cell_type": "code",
   "execution_count": null,
   "metadata": {},
   "outputs": [],
   "source": [
    "np.random.seed(87)\n",
    "\n",
    "N1 = N2 = 2500\n",
    "K1 = 50\n",
    "K2 = 42\n",
    "\n",
    "y1 = np.zeros(N1)\n",
    "# use choice to ensure no doubles #\n",
    "y1[np.random.choice(np.arange(len(y1)),replace=False,size=K1)] = 1\n",
    "#y1[np.random.randint(0,N1,K1)] = 1 #EX-code\n",
    "\n",
    "y2 = np.zeros(N2)\n",
    "y2[np.random.choice(np.arange(len(y2)),replace=False,size=K2)] = 1\n",
    "#y2[np.random.randint(0,N2,K2)] = 1 #EX-code\n",
    "\n",
    "observations_A = sum(y1)\n",
    "observations_B = sum(y2)\n",
    "observations_B"
   ]
  },
  {
   "cell_type": "code",
   "execution_count": null,
   "metadata": {},
   "outputs": [],
   "source": [
    "with pm.Model() as model:\n",
    "\n",
    "    # define priors\n",
    "    p_A = pm.Beta('p_A', alpha=K1, beta=N1 - K1)\n",
    "    p_B = pm.Beta('p_B', alpha=K1, beta=N1 - K1)\n",
    "    \n",
    "    # define likelihood\n",
    "    obs_A = pm.Binomial('obs_A', n=len(y1), p=p_A, observed=observations_A)\n",
    "    obs_B = pm.Binomial('obs_B', n=len(y2), p=p_B, observed=observations_B)\n",
    "    \n",
    "    # define metrics\n",
    "    pm.Deterministic('difference', p_B - p_A)\n",
    "    pm.Deterministic('relation', (p_B/p_A) - 1)\n",
    "    \n",
    "    trace = pm.sample(progressbar=True)\n",
    "    #trace = pm.sample(draws=50000, step=pm.Metropolis(), progressbar=True) #EX-code\n",
    "\n",
    "    #pm.trace_plot(trace[1000:]) #EX-code\n",
    "    \n"
   ]
  },
  {
   "cell_type": "code",
   "execution_count": null,
   "metadata": {},
   "outputs": [],
   "source": [
    "with model:\n",
    "    az.plot_trace(trace)"
   ]
  },
  {
   "cell_type": "code",
   "execution_count": null,
   "metadata": {},
   "outputs": [],
   "source": [
    "with model:\n",
    "    az.plot_posterior(trace,figsize=(18,6),hdi_prob=0.89,ref_val=0,var_names=['p_A'])\n",
    "    az.plot_posterior(trace,figsize=(18,6),hdi_prob=0.89,ref_val=0,var_names=['p_B'])\n",
    "    az.plot_posterior(trace,figsize=(18,6),hdi_prob=0.89,ref_val=0,var_names=['difference'])\n",
    "    az.plot_posterior(trace,figsize=(18,6),hdi_prob=0.89,ref_val=0,var_names=['relation'])"
   ]
  },
  {
   "cell_type": "code",
   "execution_count": null,
   "metadata": {},
   "outputs": [],
   "source": [
    "with model:\n",
    "    print (az.summary(trace,hdi_prob=0.89))"
   ]
  },
  {
   "cell_type": "code",
   "execution_count": null,
   "metadata": {},
   "outputs": [],
   "source": [
    "plt.hist(sample_posterior['obs_A'])"
   ]
  },
  {
   "cell_type": "code",
   "execution_count": null,
   "metadata": {},
   "outputs": [],
   "source": [
    "with model:\n",
    "    az.plot_posterior(trace,ref_val=0,var_names=['difference','relation'])"
   ]
  }
 ],
 "metadata": {
  "kernelspec": {
   "display_name": "Python 3",
   "language": "python",
   "name": "python3"
  },
  "language_info": {
   "codemirror_mode": {
    "name": "ipython",
    "version": 3
   },
   "file_extension": ".py",
   "mimetype": "text/x-python",
   "name": "python",
   "nbconvert_exporter": "python",
   "pygments_lexer": "ipython3",
   "version": "3.8.6"
  }
 },
 "nbformat": 4,
 "nbformat_minor": 4
}
