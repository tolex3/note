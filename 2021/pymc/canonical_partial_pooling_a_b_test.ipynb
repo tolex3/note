{
 "cells": [
  {
   "cell_type": "code",
   "execution_count": null,
   "metadata": {},
   "outputs": [],
   "source": [
    "import numpy as np\n",
    "import matplotlib.pyplot as plt\n",
    "import seaborn as sns\n",
    "import pandas as pd\n",
    "import pymc3 as pm\n",
    "import arviz as az\n",
    "\n",
    "sns.set()\n"
   ]
  },
  {
   "cell_type": "code",
   "execution_count": null,
   "metadata": {},
   "outputs": [],
   "source": [
    "def logit_pure(x):\n",
    "    return (np.exp(x)) / (1 + np.exp(x))\n",
    "\n",
    "def logistic_pure(p):\n",
    "    return np.log(p / (1 - p))"
   ]
  },
  {
   "cell_type": "code",
   "execution_count": null,
   "metadata": {},
   "outputs": [],
   "source": [
    "### simulated population that we in reality know nothing about, only thru sampling ###\n",
    "#np.random.seed(4711)\n",
    "np.random.seed(666)\n",
    "\n",
    "POP_SIZE = 100000 # pop in each cohort #\n",
    "MAX_CONV_RATE = 0.2\n",
    "\n",
    "\n",
    "pop_df = pd.DataFrame({'country' : ['SWE','SWE','FIN','FIN','DEN','DEN','NOR','NOR'],\n",
    "                      'pop' : [POP_SIZE] * 8,\n",
    "                      'conversions' : np.random.randint(1,int(MAX_CONV_RATE * POP_SIZE),size=8),\n",
    "                      'age_idx' : [0,1] * 4})\n",
    "\n",
    "pop_df['conversion_rate'] = pop_df['conversions'] / pop_df['pop']\n",
    "pop_df['country_idx'],_ = pd.factorize(pop_df['country'])\n",
    "pop_df"
   ]
  },
  {
   "cell_type": "code",
   "execution_count": null,
   "metadata": {},
   "outputs": [],
   "source": [
    "### create a binary representation of conversions to enable sampling ###\n",
    "def create_pop(df):\n",
    "    pop_arr = np.zeros((POP_SIZE,len(df)))\n",
    "    \n",
    "    i = 0\n",
    "    for r,c in df.iterrows():\n",
    "        pop_arr[np.random.choice(np.arange(c['pop']),replace=False,size=c['conversions']),i] = 1\n",
    "        i +=1\n",
    "    return pop_arr.T"
   ]
  },
  {
   "cell_type": "code",
   "execution_count": null,
   "metadata": {},
   "outputs": [],
   "source": [
    "### binary conversion yes/no for each individual ###\n",
    "### 1 == conversion, 0 == no conversion ###\n",
    "\n",
    "sim_pop = pd.DataFrame(create_pop(pop_df)).astype(int)\n",
    "sim_pop.columns.name = 'individual'\n",
    "sim_pop"
   ]
  },
  {
   "cell_type": "code",
   "execution_count": null,
   "metadata": {},
   "outputs": [],
   "source": [
    "### sample sim_pop ###\n",
    "MAX_SAMPLE_SIZE = int(0.01 * POP_SIZE) # maximally % of pop are sampled # \n",
    "\n",
    "samples = np.zeros((len(sim_pop),2))\n",
    "\n",
    "i = 0\n",
    "for r,c in sim_pop.iterrows():\n",
    "    sample = np.random.choice(c,np.random.randint(0,MAX_SAMPLE_SIZE),replace=False)\n",
    "    conversions = sample.sum()\n",
    "    N = len(sample)\n",
    "    samples[i,0] = conversions\n",
    "    samples[i,1] = N\n",
    "    i += 1\n",
    "    \n",
    "samples = pd.DataFrame(samples)\n",
    "samples.columns = ['conversions','sample_size']\n",
    "samples['conversion_rate'] = samples['conversions'] / samples['sample_size']\n",
    "samples"
   ]
  },
  {
   "cell_type": "code",
   "execution_count": null,
   "metadata": {
    "scrolled": false
   },
   "outputs": [],
   "source": [
    "import scipy.stats as sps\n",
    "\n",
    "slope,intercept,_,_,_ = sps.linregress(samples['sample_size'], samples['conversions'])\n",
    "print (slope,intercept)\n",
    "print ()\n",
    "print (samples.mean())\n",
    "ax = samples.plot(x='sample_size',y='conversions',style='o',figsize=(18,12))\n",
    "\n",
    "X = range(0,1000)\n",
    "\n",
    "# y = kx (intercept = 0)\n",
    "ax.plot(X,[X[i] * samples['conversion_rate'].mean() for i in range(len(X))],ls='dashed',color='k',\n",
    "       label=r'no intercept, $\\beta$ : {:.4f}'.format(samples['conversion_rate'].mean()))\n",
    "\n",
    "# y = kx + m\n",
    "ax.plot(X,[X[i] * slope + intercept for i in range(len(X))],color='orange',ls='dashed',\n",
    "       label=r'intercept, $\\beta$ : {:.4f}, $\\alpha$ : {:.4f}'.format(slope,intercept))\n",
    "ax.legend(loc='upper left')"
   ]
  },
  {
   "cell_type": "code",
   "execution_count": null,
   "metadata": {},
   "outputs": [],
   "source": [
    "print ('avg. rate pop: ',pop_df['conversion_rate'].mean())\n",
    "print ('avg. rate samples : ',samples['conversion_rate'].mean())\n",
    "print ('weighted avg. rate pop : ',np.average(pop_df['conversion_rate'],weights=pop_df['pop']))\n",
    "print ('weighted avg. rate samples : ',np.average(samples['conversion_rate'],weights=samples['sample_size']))\n"
   ]
  },
  {
   "cell_type": "code",
   "execution_count": null,
   "metadata": {},
   "outputs": [],
   "source": [
    "cmp_rates = pd.concat([pop_df['conversion_rate'],samples['conversion_rate']],axis=1)\n",
    "cmp_rates.columns = ['pop_rate','sample_rate']\n",
    "cmp_rates['rel_diff'] = cmp_rates['sample_rate'] / cmp_rates['pop_rate']\n",
    "cmp_rates"
   ]
  },
  {
   "cell_type": "code",
   "execution_count": null,
   "metadata": {},
   "outputs": [],
   "source": [
    "### prior predictive check ###\n",
    "\n",
    "with pm.Model() as ppc:\n",
    "    alpha = pm.Normal('alpha',mu=0,sd=1.5)\n",
    "    prior_predictive = pm.sample_prior_predictive(samples=5000)\n",
    "    plt.hist(prior_predictive['alpha'])"
   ]
  },
  {
   "cell_type": "code",
   "execution_count": null,
   "metadata": {},
   "outputs": [],
   "source": [
    "with pm.Model() as ppc2:\n",
    "    alpha_bar = pm.Normal('alpha_bar',mu=0,sd=1.5)\n",
    "    sigma = pm.Exponential('sigma',1)\n",
    "    alpha = pm.Normal('alpha',mu=alpha_bar,sd=sigma)\n",
    "    \n",
    "    prior_predictive = pm.sample_prior_predictive(samples=1000)\n",
    "\n",
    "fig,axes = plt.subplots(3,1,figsize=(18,12),sharex=True,sharey=True)\n",
    "axes[0].hist(prior_predictive['alpha_bar'])\n",
    "axes[1].hist(prior_predictive['sigma'])\n",
    "axes[2].hist(prior_predictive['alpha'])"
   ]
  },
  {
   "cell_type": "code",
   "execution_count": null,
   "metadata": {},
   "outputs": [],
   "source": [
    "### no pooling, aggregated ###\n",
    "\n",
    "with pm.Model() as no_pool_agg_mdl:\n",
    "    sigma = pm.Exponential('sigma',1)\n",
    "    alpha = pm.Normal('alpha',mu=0,sd=sigma)\n",
    "    \n",
    "    p_alpha = pm.Deterministic('p_alpha',pm.math.invlogit(alpha))\n",
    "    \n",
    "    obs = pm.Binomial('obs',n=samples['sample_size'].sum(),p=pm.math.invlogit(alpha),\n",
    "                      observed=samples['conversions'].sum())\n",
    "    \n",
    "    trace_no_pool_agg_mdl = pm.sample(10000,tune=10000,target_accept=0.99,return_inferencedata=False)"
   ]
  },
  {
   "cell_type": "code",
   "execution_count": null,
   "metadata": {},
   "outputs": [],
   "source": [
    "with no_pool_agg_mdl:\n",
    "    print (az.summary(trace_no_pool_agg_mdl,hdi_prob=0.89,round_to=5))"
   ]
  },
  {
   "cell_type": "code",
   "execution_count": null,
   "metadata": {},
   "outputs": [],
   "source": [
    "np.average(samples['conversion_rate'],weights=samples['sample_size'])"
   ]
  },
  {
   "cell_type": "markdown",
   "metadata": {},
   "source": [
    "           mean       sd  hdi_5.5%  hdi_94.5%  mcse_mean  mcse_sd  \\\n",
    "alpha   -2.52340  0.05521  -2.61286   -2.43705    0.00058  0.00041   \n",
    "p_alpha  0.07432  0.00380   0.06832    0.08039    0.00004  0.00003   \n",
    "\n",
    "           ess_bulk     ess_tail    r_hat  \n",
    "alpha    9209.91749  13797.16343  0.99994  \n",
    "p_alpha  9209.91749  13797.16343  0.99994  "
   ]
  },
  {
   "cell_type": "code",
   "execution_count": null,
   "metadata": {},
   "outputs": [],
   "source": [
    "### no pooling ###\n",
    "\n",
    "with pm.Model() as no_pool_mdl:\n",
    "    \n",
    "    sigma = pm.Exponential('sigma',1)\n",
    "    alpha = pm.Normal('alpha',mu=0,sd=sigma)\n",
    "    \n",
    "    p_alpha = pm.Deterministic('p_alpha',logit_pure(alpha))\n",
    "    \n",
    "    obs = pm.Binomial('obs',n=samples['sample_size'],p=logit_pure(alpha),observed=samples['conversions'])\n",
    "    \n",
    "    trace_no_pool_mdl = pm.sample(10000,tune=10000,return_inferencedata=False,target_accept=0.99)\n",
    "    "
   ]
  },
  {
   "cell_type": "code",
   "execution_count": null,
   "metadata": {},
   "outputs": [],
   "source": [
    "with no_pool_mdl:\n",
    "    print (az.summary(trace_no_pool_mdl,hdi_prob=0.89,round_to=5))"
   ]
  },
  {
   "cell_type": "code",
   "execution_count": null,
   "metadata": {},
   "outputs": [],
   "source": [
    "np.average(samples['conversion_rate'],weights=samples['sample_size'])"
   ]
  },
  {
   "cell_type": "code",
   "execution_count": null,
   "metadata": {},
   "outputs": [],
   "source": [
    "### compare aggregated vs non-aggregated models ###\n",
    "with no_pool_agg_mdl,pooling_age_mdl:\n",
    "    az.plot_forest(data=[trace_no_pool_mdl,trace_no_pool_agg_mdl],\n",
    "                   model_names=[no_pool_mdl,no_pool_agg_mdl],var_names=['p_alpha'],combined=True,\n",
    "                  hdi_prob=0.89)"
   ]
  },
  {
   "cell_type": "code",
   "execution_count": null,
   "metadata": {},
   "outputs": [],
   "source": [
    "print ('avg. rate pop : ',pop_df['conversion_rate'].mean())\n",
    "print ('avg. rate samples : ',samples['conversion_rate'].mean())\n",
    "print ('weighted avg. rate pop : ',np.average(pop_df['conversion_rate'],weights=pop_df['pop']))\n",
    "print ('weighted avg. rate samples : ',np.average(samples['conversion_rate'],weights=samples['sample_size']))"
   ]
  },
  {
   "cell_type": "code",
   "execution_count": null,
   "metadata": {},
   "outputs": [],
   "source": [
    "with no_pool_mdl:\n",
    "    az.plot_posterior(trace_no_pool_mdl,hdi_prob=0.89)"
   ]
  },
  {
   "cell_type": "code",
   "execution_count": null,
   "metadata": {},
   "outputs": [],
   "source": [
    "combined_df = pd.concat([pop_df,samples],axis=1)\n",
    "combined_df.columns = ['country','pop','pop_conversions','age_idx','pop_conversion_rate','country_idx',\n",
    "                      'sample_conversions','sample_size','sample_conversion_rate']\n",
    "\n",
    "combined_df\n"
   ]
  },
  {
   "cell_type": "code",
   "execution_count": null,
   "metadata": {},
   "outputs": [],
   "source": [
    "### pooling - full pooling on age only ###\n",
    "\n",
    "with pm.Model() as pooling_age_mdl:\n",
    "    alpha = pm.Normal('alpha',mu=0,sd=1.5,shape=2)\n",
    "    p_alpha = pm.Deterministic('p_alpha',logit_pure(alpha))\n",
    "    obs = pm.Binomial('obs',n=combined_df['sample_size'],p=logit_pure(alpha[combined_df['age_idx']]),\n",
    "                      observed=combined_df['sample_conversions']) \n",
    "    \n",
    "    trace_pooling_age_mdl = pm.sample(10000,tune=10000,return_inferencedata=False)"
   ]
  },
  {
   "cell_type": "code",
   "execution_count": null,
   "metadata": {},
   "outputs": [],
   "source": [
    "with pooling_age_mdl:\n",
    "    print (az.summary(trace_pooling_age_mdl,hdi_prob=0.89))"
   ]
  },
  {
   "cell_type": "code",
   "execution_count": null,
   "metadata": {},
   "outputs": [],
   "source": [
    "### partial pooling - age only ###\n",
    "\n",
    "with pm.Model() as partial_pooling_age_mdl:\n",
    "    alpha_bar = pm.Normal('alpha_bar',mu=0,sd=1.5)\n",
    "    \n",
    "    sigma = pm.Exponential('sigma',1)\n",
    "    \n",
    "    alpha = pm.Normal('alpha',mu=alpha_bar,sd=sigma,shape=2)\n",
    "    p_alpha = pm.Deterministic('p_alpha',logit_pure(alpha))\n",
    "    obs = pm.Binomial('obs',n=combined_df['sample_size'],p=logit_pure(alpha[combined_df['age_idx']]),\n",
    "                      observed=combined_df['sample_conversions']) \n",
    "    \n",
    "    trace_partial_pooling_age_mdl = pm.sample(10000,tune=10000,\n",
    "                                              target_accept=0.99,return_inferencedata=False)"
   ]
  },
  {
   "cell_type": "code",
   "execution_count": null,
   "metadata": {},
   "outputs": [],
   "source": [
    "with partial_pooling_age_mdl:\n",
    "    print (az.summary(data=trace_partial_pooling_age_mdl,hdi_prob=0.89))"
   ]
  },
  {
   "cell_type": "code",
   "execution_count": null,
   "metadata": {},
   "outputs": [],
   "source": [
    "with partial_pooling_age_mdl,pooling_age_mdl:\n",
    "    az.plot_forest(data=[trace_pooling_age_mdl,trace_partial_pooling_age_mdl],\n",
    "                model_names=[pooling_age_mdl,partial_pooling_age_mdl],var_names='p_alpha',\n",
    "                hdi_prob=0.89,combined=True,figsize=(18,12))"
   ]
  },
  {
   "cell_type": "code",
   "execution_count": null,
   "metadata": {},
   "outputs": [],
   "source": [
    "combined_df"
   ]
  },
  {
   "cell_type": "code",
   "execution_count": null,
   "metadata": {},
   "outputs": [],
   "source": [
    "### weighted avg of samples gets closest to Bayes mean ###\n",
    "\n",
    "print (combined_df.loc[combined_df['age_idx'] == 0][['pop_conversion_rate','sample_conversion_rate']].mean())\n",
    "print (combined_df.loc[combined_df['age_idx'] == 1][['pop_conversion_rate','sample_conversion_rate']].mean())\n",
    "\n",
    "conv_0 = combined_df.loc[combined_df['age_idx'] == 0][['pop_conversion_rate','sample_conversion_rate']]\n",
    "weights_0 = combined_df.loc[combined_df['age_idx'] == 0]['sample_size'] \n",
    "\n",
    "conv_1 = combined_df.loc[combined_df['age_idx'] == 1][['pop_conversion_rate','sample_conversion_rate']]\n",
    "weights_1 = combined_df.loc[combined_df['age_idx'] == 1]['sample_size']\n",
    "\n",
    "print ('weighted sample avg 0 : ',np.average(conv_0['sample_conversion_rate'],weights=weights_0))\n",
    "print ('weighted sample avg 1 : ',np.average(conv_1['sample_conversion_rate'],weights=weights_1))\n",
    "print ()\n",
    "\n",
    "print ('weighted_pop_avg_0 : ',np.average(conv_0['pop_conversion_rate'],weights=weights_0))\n",
    "print ('weighted_pop_avg_1 : ',np.average(conv_1['pop_conversion_rate'],weights=weights_1))\n",
    "print()\n",
    "\n",
    "print ('Bayes full pool mean : ',trace_pooling_age_mdl['p_alpha'].mean(axis=0))\n",
    "print ('Bayes partial pool mean : ',trace_partial_pooling_age_mdl['p_alpha'].mean(axis=0))"
   ]
  },
  {
   "cell_type": "code",
   "execution_count": null,
   "metadata": {},
   "outputs": [],
   "source": [
    "combined_df"
   ]
  },
  {
   "cell_type": "code",
   "execution_count": null,
   "metadata": {},
   "outputs": [],
   "source": [
    "az.plot_forest({'fake' : sps.norm.rvs(0,1,10000)},hdi_prob=0.89)"
   ]
  },
  {
   "cell_type": "code",
   "execution_count": null,
   "metadata": {},
   "outputs": [],
   "source": [
    "fig,ax = plt.subplots(figsize=(18,12))\n",
    "az.plot_forest({'p_alpha_no_pool_agg' : trace_no_pool_agg_mdl['p_alpha'],\n",
    "               'p_alpha_no_pool' : trace_no_pool_mdl['p_alpha'],\n",
    "               'p_alpha_full_pool_age[0]' : trace_pooling_age_mdl['p_alpha'][:,0],\n",
    "               'p_alpha_full_pool_age[1]' : trace_pooling_age_mdl['p_alpha'][:,1],\n",
    "               'p_alpha_partial_pool_age[0]' : trace_partial_pooling_age_mdl['p_alpha'][:,0],\n",
    "               'p_alpha_partial_pool_age[1]' : trace_partial_pooling_age_mdl['p_alpha'][:,1]},\n",
    "               hdi_prob=0.89,ax=ax,colors=['red'],\n",
    "              markersize=10)\n"
   ]
  },
  {
   "cell_type": "code",
   "execution_count": null,
   "metadata": {},
   "outputs": [],
   "source": [
    "### A/B test on fully pooled on age ###\n",
    "\n",
    "coords = {'age' : ['young','old']}\n",
    "\n",
    "with pm.Model(coords=coords) as a_b_full_pool_age:\n",
    "    sigma = pm.Exponential('sigma',1)\n",
    "    alpha = pm.Normal('alpha',mu=0,sd=sigma,dims='age')\n",
    "    \n",
    "    p_alpha = pm.Deterministic('p_alpha',pm.math.invlogit(alpha),dims='age')\n",
    "    \n",
    "    ### 1 == treatment, 0 == control ###\n",
    "    rel_diff = pm.Deterministic('rel_diff',(p_alpha[1] / p_alpha[0]) - 1 )\n",
    "    abs_diff = pm.Deterministic('abs_diff',p_alpha[1] - p_alpha[0])\n",
    "    \n",
    "    obs = pm.Binomial('obs',n=combined_df['sample_size'],p=pm.math.invlogit(alpha[combined_df['age_idx']]),\n",
    "                     observed=combined_df['sample_conversions'])\n",
    "    \n",
    "    trace_a_b_full_pool_age = pm.sample(10000,tune=10000,return_inferencedata=False,\n",
    "                                       target_accept=0.95)"
   ]
  },
  {
   "cell_type": "code",
   "execution_count": null,
   "metadata": {},
   "outputs": [],
   "source": [
    "with a_b_full_pool_age:\n",
    "    print (pm.summary(trace_a_b_full_pool_age,hdi_prob=0.89,round_to=5))"
   ]
  },
  {
   "cell_type": "code",
   "execution_count": null,
   "metadata": {},
   "outputs": [],
   "source": [
    "with a_b_full_pool_age:\n",
    "    az.plot_posterior(data=trace_a_b_full_pool_age,hdi_prob=0.89,\n",
    "                      var_names=['p_alpha','abs_diff','rel_diff'],figsize=(18,6))"
   ]
  },
  {
   "cell_type": "code",
   "execution_count": null,
   "metadata": {},
   "outputs": [],
   "source": [
    "with a_b_full_pool_age:\n",
    "    az.plot_forest(data=trace_a_b_full_pool_age,var_names=['p_alpha'],hdi_prob=0.89,combined=True)"
   ]
  },
  {
   "cell_type": "code",
   "execution_count": null,
   "metadata": {},
   "outputs": [],
   "source": [
    "a_b_full_pool_idata = az.from_pymc3(trace=trace_a_b_full_pool_age,model=a_b_full_pool_age)\n",
    "a_b_full_pool_idata"
   ]
  },
  {
   "cell_type": "code",
   "execution_count": null,
   "metadata": {},
   "outputs": [],
   "source": [
    "with a_b_full_pool_age:\n",
    "    az.plot_posterior(data=a_b_full_pool_idata,coords=coords,\n",
    "                      var_names=['p_alpha','abs_diff','rel_diff'],hdi_prob=0.89,\n",
    "                     figsize=(18,6),ref_val={'p_alpha' : [{'age': 'young' , 'ref_val' : 0}],\n",
    "                                             'abs_diff' : [{'ref_val' : 0}]})"
   ]
  },
  {
   "cell_type": "code",
   "execution_count": null,
   "metadata": {},
   "outputs": [],
   "source": [
    "combined_df"
   ]
  }
 ],
 "metadata": {
  "kernelspec": {
   "display_name": "Python 3",
   "language": "python",
   "name": "python3"
  },
  "language_info": {
   "codemirror_mode": {
    "name": "ipython",
    "version": 3
   },
   "file_extension": ".py",
   "mimetype": "text/x-python",
   "name": "python",
   "nbconvert_exporter": "python",
   "pygments_lexer": "ipython3",
   "version": "3.8.6"
  }
 },
 "nbformat": 4,
 "nbformat_minor": 4
}
