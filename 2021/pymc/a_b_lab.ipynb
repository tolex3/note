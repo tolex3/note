{
 "cells": [
  {
   "cell_type": "code",
   "execution_count": null,
   "metadata": {},
   "outputs": [],
   "source": [
    "import numpy as np\n",
    "import matplotlib.pyplot as plt\n",
    "import pandas as pd\n",
    "import seaborn as sns\n",
    "import pymc3 as pm\n",
    "import arviz as az\n",
    "\n",
    "sns.set()"
   ]
  },
  {
   "cell_type": "code",
   "execution_count": null,
   "metadata": {},
   "outputs": [],
   "source": [
    "np.random.seed(87)\n",
    "\n",
    "N1 = N2 = 1000\n",
    "K1 = 500\n",
    "K2 = 580\n",
    "\n",
    "y1 = np.zeros(N1)\n",
    "y1[np.random.choice(np.arange(len(y1)),replace=False,size=K1)] = 1\n",
    "\n",
    "y2 = np.zeros(N2)\n",
    "y2[np.random.choice(np.arange(len(y2)),replace=False,size=K2)] = 1\n",
    "\n",
    "observations_A = sum(y1)\n",
    "observations_B = sum(y2)\n",
    "\n",
    "observations_B"
   ]
  },
  {
   "cell_type": "code",
   "execution_count": null,
   "metadata": {},
   "outputs": [],
   "source": [
    "prior_A = pm.Beta.dist(alpha=K1,beta=N1-K1).random(size=1000)\n",
    "plt.hist(prior_A)"
   ]
  },
  {
   "cell_type": "code",
   "execution_count": null,
   "metadata": {},
   "outputs": [],
   "source": [
    "with pm.Model() as model:\n",
    "\n",
    "    # define priors\n",
    "    p_A = pm.Beta('p_A', alpha=K1,beta=N1-K1)\n",
    "    p_B = pm.Beta('p_B', alpha=K1,beta=N1-K1)\n",
    "    \n",
    "    # define likelihood\n",
    "    obs_A = pm.Binomial('obs_A', n=len(y1), p=p_A, observed=observations_A)\n",
    "    obs_B = pm.Binomial('obs_B', n=len(y2), p=p_B, observed=observations_B)\n",
    "    \n",
    "    # define metrics\n",
    "    pm.Deterministic('difference', p_B - p_A)\n",
    "    pm.Deterministic('relation', (p_B/p_A) - 1)\n",
    "    \n",
    "    trace = pm.sample(progressbar=True)\n",
    "    \n",
    "    trace_df = pm.trace_to_dataframe(trace)\n",
    "    \n",
    "    \n"
   ]
  },
  {
   "cell_type": "code",
   "execution_count": null,
   "metadata": {},
   "outputs": [],
   "source": [
    "with model:\n",
    "    az.plot_trace(trace)"
   ]
  },
  {
   "cell_type": "code",
   "execution_count": null,
   "metadata": {},
   "outputs": [],
   "source": [
    "with model:\n",
    "    az.plot_posterior(trace,figsize=(18,6),hdi_prob=0.89,ref_val=0,var_names=['p_A'])\n",
    "    az.plot_posterior(trace,figsize=(18,6),hdi_prob=0.89,ref_val=0,var_names=['p_B'])\n",
    "    az.plot_posterior(trace,figsize=(18,6),hdi_prob=0.89,ref_val=0,var_names=['difference'])\n",
    "    az.plot_posterior(trace,figsize=(18,6),hdi_prob=0.89,ref_val=0,var_names=['relation'])"
   ]
  },
  {
   "cell_type": "code",
   "execution_count": null,
   "metadata": {},
   "outputs": [],
   "source": [
    "with model:\n",
    "    print (az.summary(trace,hdi_prob=0.89))"
   ]
  },
  {
   "cell_type": "code",
   "execution_count": null,
   "metadata": {},
   "outputs": [],
   "source": [
    "### diff and rel. of frequencies ###\n",
    "\n",
    "df = pd.DataFrame({'group_A' : [1,2,3,3,3,3,3,3,4,4,5],\n",
    "                  'group_B' : [1,2,2,3,3,3,4,4,5,5,5]})\n",
    "\n",
    "df"
   ]
  },
  {
   "cell_type": "code",
   "execution_count": null,
   "metadata": {},
   "outputs": [],
   "source": [
    "A_freq = df['group_A'].value_counts()\n",
    "B_freq = df['group_B'].value_counts()\n",
    "\n",
    "freq_table = pd.DataFrame({'A' : A_freq,\n",
    "                          'B' : B_freq})\n",
    "\n",
    "freq_table['diff'] = freq_table['A'] - freq_table['B']\n",
    "freq_table['rel'] = freq_table['A'] / freq_table['B']\n",
    "\n",
    "freq_table"
   ]
  },
  {
   "cell_type": "code",
   "execution_count": null,
   "metadata": {},
   "outputs": [],
   "source": [
    "freq_table.plot(kind='bar',y=['A','B'])\n"
   ]
  },
  {
   "cell_type": "code",
   "execution_count": 170,
   "metadata": {},
   "outputs": [
    {
     "data": {
      "text/plain": [
       "<AxesSubplot:>"
      ]
     },
     "execution_count": 170,
     "metadata": {},
     "output_type": "execute_result"
    },
    {
     "data": {
      "image/png": "[encoded data removed]",
      "text/plain": [
       "<Figure size 432x288 with 1 Axes>"
      ]
     },
     "metadata": {},
     "output_type": "display_data"
    }
   ],
   "source": [
    "freq_table.plot(kind='bar',y=['diff'])"
   ]
  },
  {
   "cell_type": "code",
   "execution_count": null,
   "metadata": {},
   "outputs": [],
   "source": [
    "trace_df"
   ]
  },
  {
   "cell_type": "code",
   "execution_count": null,
   "metadata": {},
   "outputs": [],
   "source": [
    "trace_df['p_B'] - trace_df['p_A']"
   ]
  }
 ],
 "metadata": {
  "kernelspec": {
   "display_name": "Python 3",
   "language": "python",
   "name": "python3"
  },
  "language_info": {
   "codemirror_mode": {
    "name": "ipython",
    "version": 3
   },
   "file_extension": ".py",
   "mimetype": "text/x-python",
   "name": "python",
   "nbconvert_exporter": "python",
   "pygments_lexer": "ipython3",
   "version": "3.8.6"
  }
 },
 "nbformat": 4,
 "nbformat_minor": 4
}
