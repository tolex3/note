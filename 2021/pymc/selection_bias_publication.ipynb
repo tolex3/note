{
 "cells": [
  {
   "cell_type": "code",
   "execution_count": null,
   "metadata": {},
   "outputs": [],
   "source": [
    "import numpy as np\n",
    "import matplotlib.pyplot as plt\n",
    "import seaborn as sns\n",
    "import pandas as pd\n",
    "import scipy.stats as sps\n",
    "import pymc3 as pm\n",
    "import arviz as az\n",
    "\n",
    "sns.set()\n",
    "\n",
    "np.random.seed(4711)"
   ]
  },
  {
   "cell_type": "code",
   "execution_count": null,
   "metadata": {},
   "outputs": [],
   "source": [
    "size = 1000\n",
    "\n",
    "df = pd.DataFrame({'newsworthy' : np.random.uniform(-1,1,size),\n",
    "                  'trustworthy' : np.random.uniform(-1,1,size)})\n",
    "df"
   ]
  },
  {
   "cell_type": "code",
   "execution_count": null,
   "metadata": {},
   "outputs": [],
   "source": [
    "df.plot(x='newsworthy',y='trustworthy',style='o')"
   ]
  },
  {
   "cell_type": "code",
   "execution_count": null,
   "metadata": {},
   "outputs": [],
   "source": [
    "df['product'] = df['newsworthy'] * df['trustworthy']\n",
    "selection = df.loc[ ( df['newsworthy'] > 0 ) & (df['trustworthy'] > 0) ]\n",
    "selection = selection.sort_values('product',ascending=False)\n",
    "top_10_pct = int(len(df) * 0.1)\n",
    "\n",
    "print (top_10_pct)\n",
    "selection = selection.iloc[:top_10_pct]\n",
    "selection"
   ]
  },
  {
   "cell_type": "code",
   "execution_count": null,
   "metadata": {},
   "outputs": [],
   "source": [
    "ax = df.plot(x='newsworthy',y='trustworthy',style='o',legend=False)\n",
    "selection.plot(x='newsworthy',y='trustworthy',style='ro',ax=ax,legend=False)\n",
    "ax.set_ylabel('trustworthy')\n",
    "print ('selected : ',len(selection))"
   ]
  },
  {
   "cell_type": "code",
   "execution_count": null,
   "metadata": {},
   "outputs": [],
   "source": [
    "slope_pop,intercept_pop,_,_,_ = sps.linregress (df['newsworthy'],df['trustworthy'])\n",
    "print (slope_pop,intercept_pop)\n",
    "slope_selection,intercept_selection,_,_,_ = sps.linregress(selection['newsworthy'],selection['trustworthy'])\n",
    "print (slope_selection,intercept_selection)"
   ]
  },
  {
   "cell_type": "code",
   "execution_count": null,
   "metadata": {
    "scrolled": false
   },
   "outputs": [],
   "source": [
    "ax = df.plot(x='newsworthy',y='trustworthy',style='o',legend=False)\n",
    "selection.plot(x='newsworthy',y='trustworthy',style='ro',ax=ax,legend=False)\n",
    "ax.set_ylabel('trustworthy')\n",
    "\n",
    "X = np.linspace(-1,1,size)\n",
    "ax.plot(X,X * slope_pop + intercept_pop,ls='--',color='orange')\n",
    "ax.plot(X,X * slope_selection + intercept_selection,ls='--',color='orange')"
   ]
  },
  {
   "cell_type": "code",
   "execution_count": null,
   "metadata": {},
   "outputs": [],
   "source": [
    "### with non-flat priors it seems that there is a difference when having few data points ###\n",
    "### between sps.linregress beta and pymc mean beta. With flat priors the difference (almost) vanishes ### \n",
    "\n",
    "with pm.Model() as model:\n",
    "    alpha = pm.Normal('alpha',mu=0,sd=1,shape=2)\n",
    "    beta = pm.Normal('beta',mu=0,sd=1,shape=2)\n",
    "    \n",
    "    ### flat priors give results very close with sps.linregress ###\n",
    "    #alpha = pm.Uniform('alpha',-2,2,shape=2)\n",
    "    #beta = pm.Uniform('beta',-2,2,shape=2)\n",
    "    \n",
    "    sigma = pm.Uniform('sigma',0,1)\n",
    "    \n",
    "    mu_pop = pm.Deterministic('mu_pop',df['newsworthy'].values * beta[0] + alpha[0])\n",
    "    mu_selection = pm.Deterministic('mu_selection',selection['newsworthy'].values * beta[1] + alpha[1])\n",
    "    \n",
    "    pm.Deterministic('diff',beta[0] - beta[1])\n",
    "    pm.Deterministic('rel',(beta[0] / beta[1]) - 1)\n",
    "    \n",
    "    obs_pop = pm.Normal('obs_pop',mu=mu_pop,\n",
    "                        sd=sigma,observed=df['trustworthy'].values)\n",
    "    \n",
    "    obs_selection = pm.Normal('obs_selection',mu=mu_selection,sd=sigma,\n",
    "                              observed=selection['trustworthy'].values)\n",
    "    \n",
    "    trace = pm.sample()"
   ]
  },
  {
   "cell_type": "code",
   "execution_count": null,
   "metadata": {
    "scrolled": false
   },
   "outputs": [],
   "source": [
    "with model:\n",
    "    az.plot_trace(trace,var_names=['alpha','beta','sigma','diff','rel'])\n",
    "    print (az.summary(trace,hdi_prob=0.89,var_names=['alpha','beta','sigma','diff','rel']))"
   ]
  },
  {
   "cell_type": "code",
   "execution_count": null,
   "metadata": {},
   "outputs": [],
   "source": [
    "print ('pm beta_0 : ',trace['beta'][:,0].mean(),'sps beta_0 :',slope_pop)\n",
    "print ('pm_alpha_0 : ', trace['alpha'][:,0].mean(),'sps_alpha_0 : ',intercept_pop)\n",
    "\n",
    "print ('pm_beta_1 : ',trace['beta'][:,1].mean(), 'sps_beta_1 : ',slope_selection)\n",
    "print ('pm_alpha_1 : ', trace['alpha'][:,1].mean(), 'sps_alpha_1 : ',intercept_selection)"
   ]
  },
  {
   "cell_type": "code",
   "execution_count": null,
   "metadata": {},
   "outputs": [],
   "source": [
    "ax = az.plot_hpd(df['newsworthy'],trace['mu_pop'],hdi_prob=0.89)\n",
    "ax.plot(df['newsworthy'],df['newsworthy'] * trace['beta'][:,0].mean() + trace['alpha'][:,0].mean(),\n",
    "       color='k')\n",
    "\n",
    "ax.plot(df['newsworthy'],df['newsworthy'] * slope_pop + intercept_pop,color='crimson')\n"
   ]
  },
  {
   "cell_type": "code",
   "execution_count": null,
   "metadata": {},
   "outputs": [],
   "source": [
    "ax = az.plot_hpd(selection['newsworthy'],trace['mu_selection'],hdi_prob=0.89)\n",
    "ax.plot(selection['newsworthy'],selection['newsworthy'] * trace['beta'][:,1].mean() + trace['alpha'][:,1].mean(),\n",
    "       color='k')\n",
    "\n",
    "ax.plot(selection['newsworthy'],selection['newsworthy'] * slope_selection + intercept_selection,color='crimson')\n"
   ]
  },
  {
   "cell_type": "code",
   "execution_count": null,
   "metadata": {},
   "outputs": [],
   "source": [
    "ax = az.plot_hpd(df['newsworthy'],trace['mu_pop'],hdi_prob=0.89,color='blue')\n",
    "ax.plot(df['newsworthy'],df['newsworthy'] * trace['beta'][:,0].mean() + trace['alpha'][:,0].mean(),\n",
    "       color='k')\n",
    "\n",
    "ax.plot(df['newsworthy'],df['newsworthy'] * slope_pop + intercept_pop,color='blue')\n",
    "\n",
    "az.plot_hpd(selection['newsworthy'],trace['mu_selection'],hdi_prob=0.89,ax=ax)\n",
    "ax.plot(selection['newsworthy'],selection['newsworthy'] * trace['beta'][:,1].mean() + trace['alpha'][:,1].mean(),\n",
    "       color='k')\n",
    "\n",
    "ax.plot(selection['newsworthy'],selection['newsworthy'] * slope_selection + intercept_selection,color='crimson')\n"
   ]
  },
  {
   "cell_type": "code",
   "execution_count": null,
   "metadata": {
    "scrolled": false
   },
   "outputs": [],
   "source": [
    "with model:\n",
    "    az.plot_posterior(trace,var_names=['alpha','beta','diff','rel'],ref_val=0)"
   ]
  },
  {
   "cell_type": "code",
   "execution_count": null,
   "metadata": {},
   "outputs": [],
   "source": [
    "\n",
    "### draws 100 random instances of all params from the trace. For each draw generates values for each x, from a \n",
    "### Normal distribution with the drawn parameter instances ###\n",
    "\n",
    "\n",
    "with model:\n",
    "    samples = pm.sample_posterior_predictive(trace,len(selection['newsworthy']),model,var_names=['obs_selection'])\n",
    "    samples"
   ]
  },
  {
   "cell_type": "code",
   "execution_count": null,
   "metadata": {
    "scrolled": false
   },
   "outputs": [],
   "source": [
    "plt.hist([s.mean() for s in samples['obs_selection']])"
   ]
  },
  {
   "cell_type": "code",
   "execution_count": null,
   "metadata": {},
   "outputs": [],
   "source": [
    "selection['newsworthy'].sort_values()"
   ]
  },
  {
   "cell_type": "code",
   "execution_count": null,
   "metadata": {},
   "outputs": [],
   "source": [
    "plt.figure(figsize=(18,12))\n",
    "sample_CI = np.percentile(samples['obs_selection'],[5.5,94.5],axis=1)\n",
    "print (sample_CI.shape)\n",
    "\n",
    "### plot posterior samples ###\n",
    "\n",
    "plt.plot(selection['newsworthy'].sort_values(),[s for s in samples['obs_selection']],'o',color='b',alpha=0.1)\n",
    "    \n",
    "\n",
    "plt.plot(selection['newsworthy'].sort_values(),samples['obs_selection'].mean(axis=1),'o',color='k',\n",
    "         label='selected posterior sample mean')\n",
    "\n",
    "plt.plot(selection['newsworthy'],selection['trustworthy'],'x',color='crimson',label='selected data points',ms=12)\n",
    "\n",
    "plt.fill_between(selection['newsworthy'].sort_values(),y1=sample_CI[0,:],y2=sample_CI[1,:],\n",
    "                 color='orange',alpha=0.3,label='selected posterior sample 89% CI')\n",
    "\n",
    "plt.legend(loc='upper left')\n",
    "plt.xlabel('newsworthy')\n",
    "plt.ylabel('trustworthy')\n",
    "\n",
    "title = 'Selection of articles to publish - Selection bias confounding'\n",
    "title = title + '\\nselection by taking top 10% of product newsworthy x trustworthy (i.e. upper right corner points)'\n",
    "plt.title(title)\n",
    "\n",
    "ax = plt.gca()\n",
    "\n",
    "df.plot(x='newsworthy',y='trustworthy',ax=ax,style='k.',label='all data points')\n",
    "\n",
    "az.plot_hpd(df['newsworthy'],trace['mu_pop'],hdi_prob=0.89,color='blue',ax=ax)\n",
    "ax.plot(df['newsworthy'],df['newsworthy'] * trace['beta'][:,0].mean() + trace['alpha'][:,0].mean(),\n",
    "       color='k')\n",
    "\n",
    "ax.plot(df['newsworthy'],df['newsworthy'] * slope_pop + intercept_pop,color='blue')\n",
    "\n",
    "ax.plot(selection['newsworthy'],selection['newsworthy'] * trace['beta'][:,1].mean() + trace['alpha'][:,1].mean(),\n",
    "       color='k')\n",
    "\n",
    "ax.plot(selection['newsworthy'],selection['newsworthy'] * slope_selection + intercept_selection,color='crimson')\n",
    "az.plot_hpd(selection['newsworthy'],trace['mu_selection'],hdi_prob=0.89,ax=ax,color='cyan')\n",
    "\n",
    "plt.legend(loc='upper left')\n",
    "plt.axvline(0,ls='dashed',color='magenta')\n",
    "plt.axhline(0,ls='dashed',color='magenta')"
   ]
  },
  {
   "cell_type": "code",
   "execution_count": null,
   "metadata": {},
   "outputs": [],
   "source": [
    "with model:\n",
    "    data_ppc = az.from_pymc3(trace=trace,posterior_predictive=samples)\n",
    "    \n",
    "data_ppc"
   ]
  },
  {
   "cell_type": "code",
   "execution_count": null,
   "metadata": {},
   "outputs": [],
   "source": [
    "data_ppc"
   ]
  },
  {
   "cell_type": "code",
   "execution_count": null,
   "metadata": {},
   "outputs": [],
   "source": [
    "az.plot_ppc(data_ppc,var_names=['obs_selection'],figsize=(18,12))"
   ]
  },
  {
   "cell_type": "code",
   "execution_count": null,
   "metadata": {},
   "outputs": [],
   "source": [
    "selection.plot(x='newsworthy',y='trustworthy',style='o')"
   ]
  },
  {
   "cell_type": "code",
   "execution_count": null,
   "metadata": {
    "scrolled": false
   },
   "outputs": [],
   "source": [
    "draws = np.arange(0,len(trace),10) # selects every n:th sample (of alpha & beta) posteriors from trace\n",
    "\n",
    "fig,ax = plt.subplots()\n",
    "\n",
    "\n",
    "# for each x-value, generate draws nr of samples of alpha and beta # \n",
    "# use these sampled params to generate HDI for means for y-values #\n",
    "# NOTE ! this is not y-samples from posterior - for that, use pm.sample_posterior_predictive as above # \n",
    "\n",
    "_= ax.plot(selection['newsworthy'].values,\n",
    "         selection['newsworthy'].values[:,np.newaxis] * trace['beta'][:,1][draws] + trace['alpha'][:,1][draws],\n",
    "        'o',color='crimson',alpha=0.1)\n",
    "\n",
    "# mean line by pymc\n",
    "ax.plot(selection['newsworthy'],selection['newsworthy'] * trace['beta'][:,1].mean() + trace['alpha'][:,1].mean(),\n",
    "       color='k')\n",
    "\n",
    "# mean line by sps\n",
    "ax.plot(selection['newsworthy'],selection['newsworthy'] * slope_selection + intercept_selection,color='c')\n",
    "\n",
    "# hdi for mean\n",
    "az.plot_hpd(selection['newsworthy'],trace['mu_selection'],hdi_prob=0.89,ax=ax,color='orange')\n"
   ]
  },
  {
   "cell_type": "code",
   "execution_count": null,
   "metadata": {},
   "outputs": [],
   "source": [
    "df"
   ]
  },
  {
   "cell_type": "code",
   "execution_count": null,
   "metadata": {},
   "outputs": [],
   "source": [
    "df['sum'] = df['newsworthy'] + df['trustworthy']\n",
    "df = df.sort_values('sum',ascending=False)\n",
    "selected_2 = df[:top_10_pct]\n",
    "selected_2"
   ]
  },
  {
   "cell_type": "code",
   "execution_count": null,
   "metadata": {},
   "outputs": [],
   "source": [
    "ax = df.plot(x='newsworthy',y='trustworthy',style='bo')\n",
    "selected_2.plot(x='newsworthy',y='trustworthy',style='ro',ax=ax)\n"
   ]
  },
  {
   "cell_type": "code",
   "execution_count": 851,
   "metadata": {},
   "outputs": [
    {
     "name": "stderr",
     "output_type": "stream",
     "text": [
      "Auto-assigning NUTS sampler...\n",
      "Initializing NUTS using jitter+adapt_diag...\n",
      "Multiprocess sampling (2 chains in 2 jobs)\n",
      "NUTS: [sigma, beta, alpha]\n"
     ]
    },
    {
     "data": {
      "text/html": [
       "\n",
       "    <div>\n",
       "        <style>\n",
       "            /* Turns off some styling */\n",
       "            progress {\n",
       "                /* gets rid of default border in Firefox and Opera. */\n",
       "                border: none;\n",
       "                /* Needs to be in here for Safari polyfill so background images work as expected. */\n",
       "                background-size: auto;\n",
       "            }\n",
       "            .progress-bar-interrupted, .progress-bar-interrupted::-webkit-progress-bar {\n",
       "                background: #F44336;\n",
       "            }\n",
       "        </style>\n",
       "      <progress value='4000' class='' max='4000' style='width:300px; height:20px; vertical-align: middle;'></progress>\n",
       "      100.00% [4000/4000 00:05<00:00 Sampling 2 chains, 0 divergences]\n",
       "    </div>\n",
       "    "
      ],
      "text/plain": [
       "<IPython.core.display.HTML object>"
      ]
     },
     "metadata": {},
     "output_type": "display_data"
    },
    {
     "name": "stderr",
     "output_type": "stream",
     "text": [
      "Sampling 2 chains for 1_000 tune and 1_000 draw iterations (2_000 + 2_000 draws total) took 6 seconds.\n"
     ]
    }
   ],
   "source": [
    "with pm.Model() as model2:\n",
    "    alpha = pm.Normal('alpha',mu=0,sd=1,shape=2)\n",
    "    beta = pm.Normal('beta',mu=0,sd=1,shape=2)\n",
    "    \n",
    "    ### flat priors give results very close with sps.linregress ###\n",
    "    #alpha = pm.Uniform('alpha',-2,2,shape=2)\n",
    "    #beta = pm.Uniform('beta',-2,2,shape=2)\n",
    "    \n",
    "    sigma = pm.Uniform('sigma',0,1)\n",
    "    \n",
    "    mu_pop = pm.Deterministic('mu_pop',df['newsworthy'].values * beta[0] + alpha[0])\n",
    "    mu_selection = pm.Deterministic('mu_selection',selected_2['newsworthy'].values * beta[1] + alpha[1])\n",
    "    \n",
    "    pm.Deterministic('diff',beta[0] - beta[1])\n",
    "    pm.Deterministic('rel',(beta[0] / beta[1]) - 1)\n",
    "    \n",
    "    obs_pop = pm.Normal('obs_pop',mu=mu_pop,\n",
    "                        sd=sigma,observed=df['trustworthy'].values)\n",
    "    \n",
    "    obs_selection = pm.Normal('obs_selection',mu=mu_selection,sd=sigma,\n",
    "                              observed=selected_2['trustworthy'].values)\n",
    "    \n",
    "    trace2 = pm.sample(return_inferencedata=True)\n",
    "    "
   ]
  },
  {
   "cell_type": "code",
   "execution_count": 853,
   "metadata": {},
   "outputs": [
    {
     "data": {
      "text/plain": [
       "{}"
      ]
     },
     "execution_count": 853,
     "metadata": {},
     "output_type": "execute_result"
    }
   ],
   "source": [
    "model2.coords"
   ]
  },
  {
   "cell_type": "code",
   "execution_count": null,
   "metadata": {},
   "outputs": [],
   "source": [
    "with model2:\n",
    "    print (pm.summary(trace2,hdi_prob=0.89,var_names=['alpha','beta']))\n",
    "    pm.plot_trace(trace2,var_names=['alpha','beta','diff','rel'])"
   ]
  },
  {
   "cell_type": "code",
   "execution_count": null,
   "metadata": {},
   "outputs": [],
   "source": [
    "with model2:\n",
    "    az.plot_posterior(trace2,var_names=['alpha','beta','diff','rel'],ref_val=0)"
   ]
  },
  {
   "cell_type": "code",
   "execution_count": null,
   "metadata": {},
   "outputs": [],
   "source": [
    "with model2:\n",
    "    samples2 = pm.sample_posterior_predictive(trace2,len(selection['newsworthy']),\n",
    "                                              model2,var_names=['obs_selection'])\n",
    "\n",
    "    \n",
    "print (samples2['obs_selection'].shape)\n",
    "\n"
   ]
  },
  {
   "cell_type": "code",
   "execution_count": null,
   "metadata": {},
   "outputs": [],
   "source": [
    "plt.plot(selected_2['newsworthy'],[s for s in samples2['obs_selection']],'o',color='b',alpha=0.01)\n",
    "\n",
    "plt.plot(selected_2['newsworthy'],\n",
    "         selected_2['newsworthy'] * trace2['beta'][:,1].mean() + trace2['alpha'][:,1].mean(),\n",
    "         ls='dashed',color='crimson')\n",
    "\n",
    "plt.plot(selected_2['newsworthy'],selected_2['trustworthy'],'.',color='r')\n",
    "\n",
    "ax = plt.gca()\n",
    "\n",
    "az.plot_hpd(selected_2['newsworthy'],trace2['mu_selection'],hdi_prob=0.89,ax=ax)"
   ]
  },
  {
   "cell_type": "code",
   "execution_count": null,
   "metadata": {},
   "outputs": [],
   "source": []
  },
  {
   "cell_type": "code",
   "execution_count": null,
   "metadata": {},
   "outputs": [],
   "source": [
    "fig,ax = plt.subplots(figsize=(18,12))\n",
    "\n",
    "az.plot_hpd(selected_2['newsworthy'],trace2['mu_selection'],hdi_prob=0.89,ax=ax)\n",
    "\n",
    "ax.plot(selected_2['newsworthy'],\n",
    "        selected_2['newsworthy'] * trace2['beta'][:,1].mean() + trace2['alpha'][:,1].mean(),\n",
    "       ls='dashed',color='crimson')\n",
    "\n",
    "selected_2.plot(x='newsworthy',y='trustworthy',style='ro',ax=ax)\n",
    "\n",
    "df.plot(x='newsworthy',y='trustworthy',style='b.',ax=ax)\n",
    "\n",
    "az.plot_hpd(df['newsworthy'],trace2['mu_pop'],hdi_prob=0.89,ax=ax)\n",
    "\n",
    "ax.plot(df['newsworthy'],\n",
    "        df['newsworthy'] * trace2['beta'][:,0].mean() + trace2['alpha'][:,0].mean(),\n",
    "       ls='dashed',color='crimson')\n"
   ]
  }
 ],
 "metadata": {
  "kernelspec": {
   "display_name": "Python 3",
   "language": "python",
   "name": "python3"
  },
  "language_info": {
   "codemirror_mode": {
    "name": "ipython",
    "version": 3
   },
   "file_extension": ".py",
   "mimetype": "text/x-python",
   "name": "python",
   "nbconvert_exporter": "python",
   "pygments_lexer": "ipython3",
   "version": "3.8.6"
  }
 },
 "nbformat": 4,
 "nbformat_minor": 4
}
