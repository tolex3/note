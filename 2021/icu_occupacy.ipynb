{
 "cells": [
  {
   "cell_type": "code",
   "execution_count": null,
   "metadata": {},
   "outputs": [],
   "source": [
    "'''\n",
    "https://portal.icuregswe.org/utdata/sv/report/prod.belaggning\n",
    "\n",
    "REMEMBER to add new,additional years to list years below \n",
    "'''"
   ]
  },
  {
   "cell_type": "code",
   "execution_count": null,
   "metadata": {},
   "outputs": [],
   "source": [
    "import numpy as np\n",
    "import matplotlib.pyplot as plt\n",
    "import seaborn as sns\n",
    "import pandas as pd\n",
    "\n",
    "sns.set()"
   ]
  },
  {
   "cell_type": "code",
   "execution_count": null,
   "metadata": {},
   "outputs": [],
   "source": [
    "all_data = pd.DataFrame()"
   ]
  },
  {
   "cell_type": "code",
   "execution_count": null,
   "metadata": {},
   "outputs": [],
   "source": [
    "def read_occupacy(fname):\n",
    "    excel_file = pd.ExcelFile(fname)\n",
    "    \n",
    "    sheet = excel_file.sheet_names\n",
    "    \n",
    "    df = excel_file.parse(sheet_names=sheet,skiprows=1)\n",
    "    df.columns = ['Datum','Platser'] ### sometimes get english columns ###\n",
    "    df['date'] = pd.to_datetime(df['Datum'])\n",
    "    df.drop('Datum',inplace=True,axis=1)\n",
    "    df.set_index('date',inplace=True)\n",
    "    df.rename(columns={'Platser' : 'occupacy'},inplace=True)\n",
    "    df = df.resample('D').mean()\n",
    "    \n",
    "    \n",
    "    return (df)"
   ]
  },
  {
   "cell_type": "code",
   "execution_count": null,
   "metadata": {},
   "outputs": [],
   "source": [
    "years = ['2016','2017','2018','2019','2020','2021','2022']"
   ]
  },
  {
   "cell_type": "code",
   "execution_count": null,
   "metadata": {},
   "outputs": [],
   "source": [
    "for y in years:\n",
    "    df = read_occupacy('iva_occupacy_' + y + '.xlsx')\n",
    "    all_data = pd.concat([all_data,df])\n"
   ]
  },
  {
   "cell_type": "code",
   "execution_count": null,
   "metadata": {},
   "outputs": [],
   "source": [
    "all_data"
   ]
  },
  {
   "cell_type": "code",
   "execution_count": null,
   "metadata": {},
   "outputs": [],
   "source": [
    "all_data.index.dayofyear"
   ]
  },
  {
   "cell_type": "code",
   "execution_count": null,
   "metadata": {},
   "outputs": [],
   "source": [
    "all_data.loc['2021'].index.isocalendar().week"
   ]
  },
  {
   "cell_type": "code",
   "execution_count": null,
   "metadata": {},
   "outputs": [],
   "source": [
    "last_good_day = (all_data.index[-1] - pd.DateOffset(weeks=2))\n",
    "last_good_day_nr = last_good_day.dayofyear"
   ]
  },
  {
   "cell_type": "code",
   "execution_count": null,
   "metadata": {},
   "outputs": [],
   "source": [
    "plt.figure(figsize=(18,12))\n",
    "\n",
    "for y in years:\n",
    "    plt.plot(all_data.loc[y].index.dayofyear,all_data.loc[y],label=y)\n",
    "    \n",
    "plt.xlabel('day of year')\n",
    "plt.ylabel('nr of ICU patients')\n",
    "plt.axvline(last_good_day_nr,label='last stable day {}'.format(last_good_day.date()),color='red',ls='dashed')\n",
    "plt.legend(loc='upper left')\n",
    "plt.title('SWEDEN : Daily ICU occupacy ' + years[0] +' - YTD {}\\n\\nDataSource : Svenska Intensivvårdsregistret [Swedish ICU Registry]'.format(\n",
    "last_good_day.date()))\n"
   ]
  },
  {
   "cell_type": "code",
   "execution_count": null,
   "metadata": {},
   "outputs": [],
   "source": [
    "base_dates = all_data.loc[:'2019']\n",
    "baseline = base_dates.groupby(base_dates.index.dayofyear).mean()\n",
    "baseline"
   ]
  },
  {
   "cell_type": "code",
   "execution_count": null,
   "metadata": {},
   "outputs": [],
   "source": [
    "fig,ax = plt.subplots(figsize=(18,12))\n",
    "\n",
    "ax.plot(all_data.loc['2020'].index.dayofyear,all_data.loc['2020'],label='2020',color='red')\n",
    "ax.plot(all_data.loc['2021'].index.dayofyear,all_data.loc['2021'],label='2021',color='green')\n",
    "ax.plot(all_data.loc['2022'].index.dayofyear,all_data.loc['2022'],label='2022',color='blue')\n",
    "\n",
    "ax.plot(baseline.index,baseline,label='baseline 2016-2019',ls='dashed',color='orange')\n",
    "ax.axvline(last_good_day_nr,label='last stable day {}'.format(last_good_day.date()),color='k',ls='dashed')\n",
    "ax.legend(loc='upper left')\n",
    "ax.set_xlabel('day of year')\n",
    "ax.set_ylabel('Nr of ICU patients')\n",
    "plt.title('SWEDEN : Daily ICU occupacy 2020 - YTD {} cmp baseline 2016-2019\\n\\nDataSource : Svenska Intensivvårdsregistret [Swedish ICU Registry]'.format(\n",
    "last_good_day.date()))\n",
    "plt.savefig('iva_occupacy_vs_baseline.jpg',format='jpg')\n"
   ]
  },
  {
   "cell_type": "code",
   "execution_count": null,
   "metadata": {},
   "outputs": [],
   "source": [
    "baseline"
   ]
  },
  {
   "cell_type": "code",
   "execution_count": null,
   "metadata": {
    "scrolled": false
   },
   "outputs": [],
   "source": [
    "\n",
    "ax = all_data.plot(figsize=(18,12))\n",
    "ax.axvline(last_good_day,label='last stable day {}'.format(last_good_day.date()),color='k',ls='dashed')\n",
    "\n",
    "non_leap_base = baseline.iloc[:-1]\n",
    "leap_base = baseline\n",
    "\n",
    "full_period_base = pd.concat([leap_base,non_leap_base,non_leap_base,non_leap_base,leap_base,non_leap_base,\n",
    "                             non_leap_base])\n",
    "full_period_base.index = pd.date_range('2016-01-01',periods=len(full_period_base))\n",
    "full_period_base.plot(ax=ax,ls='dashed',color='orange')\n",
    "ax.legend(['occupacy','stable data','baseline'])\n",
    "full_period_base.to_pickle('iva_daily_baseline.pkl')\n",
    "\n",
    "all_data.tail(40)"
   ]
  },
  {
   "cell_type": "code",
   "execution_count": null,
   "metadata": {},
   "outputs": [],
   "source": [
    "all_data.info()"
   ]
  },
  {
   "cell_type": "code",
   "execution_count": null,
   "metadata": {},
   "outputs": [],
   "source": [
    "arrow_properties = dict(\n",
    "    facecolor=\"red\", width=5,\n",
    "    headwidth=10, shrink=1)\n",
    "\n",
    "label_x = 18100\n",
    "label_y = 400\n",
    "#arrow_x = 18300\n",
    "arrow_x = '2020-02-15'\n",
    "arrow_x2 = '2020-09-15'\n",
    "arrow_y = 350\n",
    "\n",
    "\n",
    "\n",
    "cred = '\\nDataSource : Svenska Intensivvårdsregistret'\n",
    "title = 'SWEDEN ICU daily bed usage, rolling 7 day avg. 2016-2022 YTD, last stable date: {}'.format(last_good_day.date()) + cred\n",
    "ax = all_data.rolling(7).mean().plot(figsize=(18,12),title=title)\n",
    "ax.axvline(last_good_day,label='last stable day {}'.format(last_good_day.date()),color='k',ls='dashed')\n",
    "full_period_base.rolling(7).mean().plot(ax=ax,ls='dashed',color='orange')\n",
    "\n",
    "\n",
    "x_data = ax.get_xticks(minor=False)\n",
    "y_data = ax.get_yticks()\n",
    "\n",
    "\n",
    "\n",
    "print (x_data,y_data)\n",
    "\n",
    "#print (ax.transData.transform((200,200)))\n",
    "\n",
    "ax.annotate('Interesting Areas',xy=(arrow_x,arrow_y+20),\n",
    "           xytext = (label_x,label_y + 40),color='red',\n",
    "           arrowprops = arrow_properties)\n",
    "\n",
    "\n",
    "ax.annotate('                          ',xy=(arrow_x2 ,arrow_y-20),\n",
    "           xytext = (label_x ,label_y+40),color='red',\n",
    "           arrowprops = arrow_properties)\n",
    "\n",
    "\n",
    "'''\n",
    "ax.annotate('Interesting \\nArea',xy=(arrow_x,arrow_y+20),\n",
    "           xytext = (label_x,label_y + 40),color='red',\n",
    "           arrowprops = arrow_properties)\n",
    "\n",
    "ax.annotate('Interesting \\nArea',xy=(arrow_x + 225,arrow_y-20),\n",
    "           xytext = (label_x + 225,label_y),color='red',\n",
    "           arrowprops = arrow_properties)\n",
    "'''\n",
    "\n",
    "ax.legend(['ICU beds','last stable date','ICU beds baseline'])\n",
    "ax.set_ylabel('beds in use')\n",
    "ax.set_ylim([0,800])\n",
    "plt.savefig('iva_usage_rolling.jpg',format='jpg')"
   ]
  },
  {
   "cell_type": "code",
   "execution_count": null,
   "metadata": {},
   "outputs": [],
   "source": [
    "arrow_x = '2019-12-23'\n",
    "arrow_x2 = '2020-03-27'\n",
    "arrow_x3 = '2020-07-26'\n",
    "arrow_x4 = '2020-10-23'\n",
    "\n",
    "diff = (all_data.rolling(7).mean() - full_period_base.rolling(7).mean()).dropna()\n",
    "\n",
    "title = 'SWEDEN Daily ICU usage : diff from baseline\\nDataSource : Svenska Intensivvårdsregistret'\n",
    "ax = diff.plot(figsize=(18,12),title=title)\n",
    "\n",
    "ax.fill_between(x = diff.loc[arrow_x : arrow_x2].index,y1 = diff.loc[arrow_x : arrow_x2]['occupacy'],\n",
    "               color='orange')\n",
    "ax.fill_between(x = diff.loc[arrow_x3 : arrow_x4].index,y1 = diff.loc[arrow_x3 : arrow_x4]['occupacy'],\n",
    "               color='orange')\n",
    "ax.set_ylabel('difference')\n",
    "\n",
    "plt.savefig('iva_diff_full.jpg',format='jpg')\n",
    "\n",
    "\n",
    "diff = diff.loc['2019-10':'2021-12']\n",
    "diff"
   ]
  },
  {
   "cell_type": "code",
   "execution_count": null,
   "metadata": {
    "scrolled": false
   },
   "outputs": [],
   "source": [
    "\n",
    "\n",
    "\n",
    "print (diff.loc[arrow_x : arrow_x2]['occupacy'])\n",
    "\n",
    "title = 'SWEDEN Daily ICU usage : diff from baseline : {} - {} \\nDataSource : Svenska Intensivvårdsregistret'.format(\n",
    "diff.index[0].date(),diff.index[-1].date())\n",
    "\n",
    "ax = diff.plot(figsize=(18,12),title=title)\n",
    "\n",
    "\n",
    "ax.axvline(arrow_x,ls='dashed',color='red',label=arrow_x)\n",
    "ax.axvline(arrow_x2,ls='dashed',color='red',label=arrow_x2)\n",
    "ax.axvline(arrow_x3,ls='dashed',color='red',label=arrow_x3)\n",
    "ax.axvline(arrow_x4,ls='dashed',color='red',label=arrow_x4)\n",
    "\n",
    "ax.fill_between(x = diff.loc[arrow_x : arrow_x2].index,y1 = diff.loc[arrow_x : arrow_x2]['occupacy'],\n",
    "               color='orange')\n",
    "ax.fill_between(x = diff.loc[arrow_x3 : arrow_x4].index,y1 = diff.loc[arrow_x3 : arrow_x4]['occupacy'],\n",
    "               color='orange')\n",
    "\n",
    "\n",
    "ax.set_ylabel('diff actuals - baseline')\n",
    "ax.legend(loc='upper right')\n",
    "\n",
    "plt.savefig('iva_daily_diff.jpg')\n"
   ]
  },
  {
   "cell_type": "code",
   "execution_count": null,
   "metadata": {},
   "outputs": [],
   "source": [
    "s = diff < 0\n",
    "(~s).cumsum()[s].value_counts()\n",
    "\n"
   ]
  },
  {
   "cell_type": "code",
   "execution_count": null,
   "metadata": {},
   "outputs": [],
   "source": [
    "### FHM ###\n",
    "fhm_url = 'https://www.arcgis.com/sharing/rest/content/items/b5e7488e117749c19881cce45db13f7e/data'\n",
    "fhm_file = pd.ExcelFile(fhm_url)\n",
    "fhm_file.sheet_names\n"
   ]
  },
  {
   "cell_type": "code",
   "execution_count": null,
   "metadata": {},
   "outputs": [],
   "source": [
    "fhm_icu = fhm_file.parse(sheet_name=fhm_file.sheet_names[2],index_col=0,parse_dates=True)\n",
    "fhm_icu.rename(columns={'Antal_intensivvårdade' : 'ICU_Daily_New_Covid_cases'},inplace=True)\n",
    "fhm_icu.index.names=['date']"
   ]
  },
  {
   "cell_type": "code",
   "execution_count": null,
   "metadata": {},
   "outputs": [],
   "source": [
    "fhm_icu"
   ]
  },
  {
   "cell_type": "code",
   "execution_count": null,
   "metadata": {},
   "outputs": [],
   "source": [
    "sir_fhm = all_data.join(fhm_icu).dropna()\n",
    "sir_fhm"
   ]
  },
  {
   "cell_type": "code",
   "execution_count": null,
   "metadata": {},
   "outputs": [],
   "source": [
    "sir_fhm['ICU_Daily_non_Covid_beds_in_use'] = sir_fhm['occupacy'] - sir_fhm['ICU_Daily_New_Covid_cases']\n",
    "sir_fhm"
   ]
  },
  {
   "cell_type": "code",
   "execution_count": null,
   "metadata": {},
   "outputs": [],
   "source": [
    "'''\n",
    "Unable to draw any conclusions from the data since there's no info in the FHM data\n",
    "on when a new case checks out\n",
    "'''\n",
    "ax = sir_fhm.plot(y=['ICU_Daily_New_Covid_cases','ICU_Daily_non_Covid_beds_in_use'],figsize=(18,12))\n"
   ]
  },
  {
   "cell_type": "code",
   "execution_count": null,
   "metadata": {},
   "outputs": [],
   "source": [
    "'''\n",
    "https://portal.icuregswe.org/siri/en/report/corona.covid-dagligen\n",
    "'''\n",
    "sir_covid_url = 'iva_covid_occupancy.xlsx'\n",
    "sir_covid_file = pd.ExcelFile(sir_covid_url)\n",
    "sir_covid_file.sheet_names"
   ]
  },
  {
   "cell_type": "code",
   "execution_count": null,
   "metadata": {},
   "outputs": [],
   "source": [
    "sir_covid = sir_covid_file.parse(sheet_name=sir_covid_file.sheet_names[0],skiprows=1,index_col=0,parse_dates=True)\n",
    "sir_covid = sir_covid['Covid-19 Totalt']\n",
    "sir_covid"
   ]
  },
  {
   "cell_type": "code",
   "execution_count": null,
   "metadata": {},
   "outputs": [],
   "source": [
    "sir_covid_non_covid = all_data.join(sir_covid).dropna()\n",
    "sir_covid_non_covid"
   ]
  },
  {
   "cell_type": "code",
   "execution_count": null,
   "metadata": {},
   "outputs": [],
   "source": [
    "sir_covid_non_covid['Non-Covid'] = sir_covid_non_covid['occupacy'] - sir_covid_non_covid['Covid-19 Totalt']\n",
    "sir_covid_non_covid"
   ]
  },
  {
   "cell_type": "code",
   "execution_count": null,
   "metadata": {},
   "outputs": [],
   "source": [
    "sir_covid_non_covid.rename(columns={'Covid-19 Totalt' : 'Covid','occupacy' : 'Total'},inplace=True)"
   ]
  },
  {
   "cell_type": "code",
   "execution_count": null,
   "metadata": {},
   "outputs": [],
   "source": [
    "sir_covid_non_covid"
   ]
  },
  {
   "cell_type": "code",
   "execution_count": null,
   "metadata": {},
   "outputs": [],
   "source": [
    "# daily average per week \n",
    "sir_covid_non_covid = sir_covid_non_covid.resample('W').mean()"
   ]
  },
  {
   "cell_type": "code",
   "execution_count": null,
   "metadata": {},
   "outputs": [],
   "source": [
    "sir_covid_non_covid.index"
   ]
  },
  {
   "cell_type": "code",
   "execution_count": null,
   "metadata": {},
   "outputs": [],
   "source": [
    "covid_period_all_icu_base = full_period_base.resample('W').mean()\n",
    "covid_period_all_icu_base = covid_period_all_icu_base.loc[sir_covid_non_covid.index[0]:]\n",
    "covid_period_all_icu_base"
   ]
  },
  {
   "cell_type": "code",
   "execution_count": null,
   "metadata": {},
   "outputs": [],
   "source": [
    "print (covid_period_all_icu_base.info())\n",
    "print()\n",
    "sir_covid_non_covid.info()"
   ]
  },
  {
   "cell_type": "code",
   "execution_count": null,
   "metadata": {},
   "outputs": [],
   "source": [
    "sir_covid_non_covid.index = pd.to_datetime(sir_covid_non_covid.index)\n",
    "sir_covid_non_covid.index"
   ]
  },
  {
   "cell_type": "code",
   "execution_count": null,
   "metadata": {},
   "outputs": [],
   "source": [
    "covid_period_all_icu_base.index"
   ]
  },
  {
   "cell_type": "code",
   "execution_count": null,
   "metadata": {},
   "outputs": [],
   "source": [
    "fig,ax = plt.subplots(figsize=(18,12))\n",
    "sir_covid_non_covid.index = sir_covid_non_covid.index\n",
    "sir_covid_non_covid.plot(ax=ax,kind='bar',stacked=True,y=['Non-Covid','Covid'])\n",
    "\n",
    "\n",
    "print (ax.get_xticks())\n",
    "ax.axvline(ax.get_xticks()[-4],color='k',ls='dashed',label='last stable data')\n",
    "ax.legend(loc='upper left')\n",
    "ax.set_title('SWEDEN daily avg. ICU occupancy by week, Covid + Non-Covid, {} - {}, last stable date: {}\\n\\nDataSource : Svenska Intensivvårdsregistret (SIR,SIRI)'.format(\n",
    "sir_covid_non_covid.index[0],sir_covid_non_covid.index[-1],sir_covid_non_covid.index[-4]))\n",
    "ax.set_ylabel('beds occupied')\n",
    "ax.set_xlabel('week of')\n"
   ]
  },
  {
   "cell_type": "code",
   "execution_count": null,
   "metadata": {},
   "outputs": [],
   "source": [
    "combined_sir_and_base = sir_covid_non_covid.join(covid_period_all_icu_base)\n",
    "combined_sir_and_base.rename(columns={'occupacy' : 'baseline'},inplace=True)\n",
    "combined_sir_and_base"
   ]
  },
  {
   "cell_type": "code",
   "execution_count": null,
   "metadata": {},
   "outputs": [],
   "source": [
    "combined_sir_and_base.info()"
   ]
  },
  {
   "cell_type": "code",
   "execution_count": null,
   "metadata": {},
   "outputs": [],
   "source": [
    "'''\n",
    "pandas bug: can't plot using datetime index a line and bar on same plot \n",
    "https://stackoverflow.com/questions/42455391/python-different-behaviour-of-datetimeindex-while-plotting-line-and-bar-plots\n",
    "'''\n",
    "combined_sir_and_base.index = combined_sir_and_base.index.astype(str)"
   ]
  },
  {
   "cell_type": "code",
   "execution_count": null,
   "metadata": {},
   "outputs": [],
   "source": [
    "combined_sir_and_base.clip(lower=0)"
   ]
  },
  {
   "cell_type": "code",
   "execution_count": null,
   "metadata": {},
   "outputs": [],
   "source": [
    "### reporting on covid specific beds is updated faster than the all cause beds. therefore ###\n",
    "### the latest weeks can get negative ###\n",
    "\n",
    "fig,ax = plt.subplots(figsize=(18,12))\n",
    "combined_sir_and_base.clip(lower=0).plot(kind='bar',stacked=True,y=['Non-Covid','Covid'],ax=ax)\n",
    "ax.plot(combined_sir_and_base.index,combined_sir_and_base['baseline'],ls='dashed',color='k',label='ICU total baseline')\n",
    "\n",
    "ax.set_title('SWEDEN 2021 daily avg. ICU occupancy by week, Covid + Non-Covid, {} - {}, last stable date: {}\\n\\nDataSource : Svenska Intensivvårdsregistret (SIR,SIRI)\\nData pull : {}'.format(sir_covid_non_covid.index[0].date(),sir_covid_non_covid.index[-2].date(),sir_covid_non_covid.index[-4].date(),\n",
    "pd.to_datetime('today').date()))\n",
    "\n",
    "print (ax.get_xticks())\n",
    "\n",
    "ax.axvline(ax.get_xticks()[-4],color='red',ls='dashed',label='last stable data')\n",
    "\n",
    "\n",
    "#ax.legend(['Non-Covid','Covid','ICU-baseline','last stable date'][::-1])\n",
    "ax.legend(loc='upper center')\n",
    "ax.set_ylabel('beds occupied')\n",
    "ax.set_xlabel('week ending')\n",
    "\n",
    "\n",
    "for label in ax.xaxis.get_ticklabels()[1::2]:\n",
    "    label.set_visible(False)\n",
    "   \n",
    "\n",
    "\n",
    "plt.savefig('iva_covid_non_covid.jpg')"
   ]
  },
  {
   "cell_type": "code",
   "execution_count": null,
   "metadata": {},
   "outputs": [],
   "source": [
    "from datetime import date\n",
    "\n",
    "variants = pd.read_pickle('variants.pkl')\n",
    "variants.index = pd.DatetimeIndex(pd.to_datetime(variants.index.str.strip() + '-01',format='%Y-%W-%w%f').date)\n",
    "variants.index"
   ]
  },
  {
   "cell_type": "code",
   "execution_count": null,
   "metadata": {},
   "outputs": [],
   "source": [
    "combined_sir_and_base.index = pd.DatetimeIndex(combined_sir_and_base.index)\n",
    "\n",
    "combined_sir_base_variants = (combined_sir_and_base.join(variants))\n",
    "combined_sir_base_variants.drop('year',axis=1,inplace=True)\n",
    "combined_sir_base_variants.dropna(inplace=True)\n",
    "combined_sir_base_variants"
   ]
  },
  {
   "cell_type": "code",
   "execution_count": null,
   "metadata": {},
   "outputs": [],
   "source": [
    "arrow_properties = dict(\n",
    "    facecolor=\"orange\", width=5,\n",
    "    headwidth=10, shrink=1)\n",
    "\n",
    "\n",
    "fig,axes = plt.subplots(2,figsize=(18,12),sharex=True)\n",
    "\n",
    "xticks = combined_sir_base_variants.index.date\n",
    "\n",
    "combined_sir_base_variants.plot(y=['Non-Covid','Covid'],kind='bar',stacked=True,ax=axes[1])\n",
    "combined_sir_base_variants.plot(y='baseline',ax=axes[1],kind='bar',facecolor='none',edgecolor='k')\n",
    "combined_sir_base_variants.plot(y=['alpha','beta','gamma','delta','omicron'],kind='bar',stacked=True,ax=axes[0])\n",
    "\n",
    "axes[1].set_title('SWEDEN 2021 --> daily avg. ICU occupancy by week, Covid + Non-Covid, {} - {}\\nDataSource : Svenska Intensivvårdsregistret (SIR,SIRI)'.format(\n",
    "    combined_sir_base_variants.index[0].date(),combined_sir_base_variants.index[-1].date()))\n",
    "\n",
    "axes[1].set_ylabel('number of ICU beds in use')\n",
    "\n",
    "_= axes[1].set_xticklabels(xticks)\n",
    "\n",
    "_= axes[0].set_title('SWEDEN 2021 --> Covid Variants of Concern {} - {}\\nDataSource : Folkhälsomyndigheten'.format(\n",
    "combined_sir_base_variants.index[0].date(),combined_sir_base_variants.index[-1].date()))\n",
    "\n",
    "axes[0].set_ylabel('nr of sequenced virus samples')\n",
    "print (axes[0].get_xticks())\n",
    "\n",
    "\n",
    "axes[0].annotate('DELTA Arrives',xy=(17,2100),\n",
    "           xytext = (16,4000),color='orange',\n",
    "           arrowprops = arrow_properties)\n",
    "\n",
    "axes[1].annotate('DELTA Arrives',xy=(17,450),\n",
    "           xytext = (17,600),color='orange',\n",
    "           arrowprops = arrow_properties)\n",
    "\n",
    "axes[0].annotate('OMICRON Arrives',xy=(44,3100),\n",
    "           xytext = (44,4500),color='orange',\n",
    "           arrowprops = arrow_properties)\n",
    "\n",
    "axes[1].annotate('OMICRON Arrives',xy=(44,350),\n",
    "           xytext = (44,500),color='orange',\n",
    "           arrowprops = arrow_properties)\n",
    "\n",
    "\n",
    "plt.savefig('scb_excess_icus_and_variants.jpg',format='jpg')"
   ]
  }
 ],
 "metadata": {
  "kernelspec": {
   "display_name": "Python 3",
   "language": "python",
   "name": "python3"
  },
  "language_info": {
   "codemirror_mode": {
    "name": "ipython",
    "version": 3
   },
   "file_extension": ".py",
   "mimetype": "text/x-python",
   "name": "python",
   "nbconvert_exporter": "python",
   "pygments_lexer": "ipython3",
   "version": "3.8.10"
  }
 },
 "nbformat": 4,
 "nbformat_minor": 4
}
