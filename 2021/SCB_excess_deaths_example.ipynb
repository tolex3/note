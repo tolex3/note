{
 "cells": [
  {
   "cell_type": "code",
   "execution_count": null,
   "metadata": {},
   "outputs": [],
   "source": [
    "import numpy as np\n",
    "import matplotlib.pyplot as plt\n",
    "import seaborn as sns\n",
    "import pandas as pd\n",
    "import requests\n",
    "\n",
    "sns.set()"
   ]
  },
  {
   "cell_type": "raw",
   "metadata": {},
   "source": [
    "'''\n",
    "This program computes various stats on Swedish mortality, non-age-adjusted and age-adjusted.\n",
    "'''"
   ]
  },
  {
   "cell_type": "code",
   "execution_count": null,
   "metadata": {},
   "outputs": [],
   "source": [
    "# define parameters for SCB's JSON API for population data #\n",
    "# don't forget to change the default 'px' response format to 'json' bottom of the pop_query data struct # \n",
    "\n",
    "pop_url = 'http://api.scb.se/OV0104/v1/doris/en/ssd/START/BE/BE0101/BE0101A/FolkmangdNov'\n",
    "\n",
    "pop_query = {\n",
    "  \"query\": [\n",
    "    {\n",
    "      \"code\": \"Region\",\n",
    "      \"selection\": {\n",
    "        \"filter\": \"vs:RegionRiket99\",\n",
    "        \"values\": [\n",
    "          \"00\"\n",
    "        ]\n",
    "      }\n",
    "    },\n",
    "    {\n",
    "      \"code\": \"Alder\",\n",
    "      \"selection\": {\n",
    "        \"filter\": \"vs:Ålder1årA\",\n",
    "        \"values\": [\n",
    "          \"0\",\n",
    "          \"1\",\n",
    "          \"2\",\n",
    "          \"3\",\n",
    "          \"4\",\n",
    "          \"5\",\n",
    "          \"6\",\n",
    "          \"7\",\n",
    "          \"8\",\n",
    "          \"9\",\n",
    "          \"10\",\n",
    "          \"11\",\n",
    "          \"12\",\n",
    "          \"13\",\n",
    "          \"14\",\n",
    "          \"15\",\n",
    "          \"16\",\n",
    "          \"17\",\n",
    "          \"18\",\n",
    "          \"19\",\n",
    "          \"20\",\n",
    "          \"21\",\n",
    "          \"22\",\n",
    "          \"23\",\n",
    "          \"24\",\n",
    "          \"25\",\n",
    "          \"26\",\n",
    "          \"27\",\n",
    "          \"28\",\n",
    "          \"29\",\n",
    "          \"30\",\n",
    "          \"31\",\n",
    "          \"32\",\n",
    "          \"33\",\n",
    "          \"34\",\n",
    "          \"35\",\n",
    "          \"36\",\n",
    "          \"37\",\n",
    "          \"38\",\n",
    "          \"39\",\n",
    "          \"40\",\n",
    "          \"41\",\n",
    "          \"42\",\n",
    "          \"43\",\n",
    "          \"44\",\n",
    "          \"45\",\n",
    "          \"46\",\n",
    "          \"47\",\n",
    "          \"48\",\n",
    "          \"49\",\n",
    "          \"50\",\n",
    "          \"51\",\n",
    "          \"52\",\n",
    "          \"53\",\n",
    "          \"54\",\n",
    "          \"55\",\n",
    "          \"56\",\n",
    "          \"57\",\n",
    "          \"58\",\n",
    "          \"59\",\n",
    "          \"60\",\n",
    "          \"61\",\n",
    "          \"62\",\n",
    "          \"63\",\n",
    "          \"64\",\n",
    "          \"65\",\n",
    "          \"66\",\n",
    "          \"67\",\n",
    "          \"68\",\n",
    "          \"69\",\n",
    "          \"70\",\n",
    "          \"71\",\n",
    "          \"72\",\n",
    "          \"73\",\n",
    "          \"74\",\n",
    "          \"75\",\n",
    "          \"76\",\n",
    "          \"77\",\n",
    "          \"78\",\n",
    "          \"79\",\n",
    "          \"80\",\n",
    "          \"81\",\n",
    "          \"82\",\n",
    "          \"83\",\n",
    "          \"84\",\n",
    "          \"85\",\n",
    "          \"86\",\n",
    "          \"87\",\n",
    "          \"88\",\n",
    "          \"89\",\n",
    "          \"90\",\n",
    "          \"91\",\n",
    "          \"92\",\n",
    "          \"93\",\n",
    "          \"94\",\n",
    "          \"95\",\n",
    "          \"96\",\n",
    "          \"97\",\n",
    "          \"98\",\n",
    "          \"99\",\n",
    "          \"100+\"\n",
    "        ]\n",
    "      }\n",
    "    },\n",
    "    {\n",
    "      \"code\": \"Kon\",\n",
    "      \"selection\": {\n",
    "        \"filter\": \"item\",\n",
    "        \"values\": [\n",
    "          \"1\",\n",
    "          \"2\"\n",
    "        ]\n",
    "      }\n",
    "    }\n",
    "  ],\n",
    "  \"response\": {\n",
    "    \"format\": \"json\"\n",
    "  }\n",
    "}"
   ]
  },
  {
   "cell_type": "code",
   "execution_count": null,
   "metadata": {},
   "outputs": [],
   "source": [
    "# define parameters for SCB's JSON API for death data #\n",
    "# don't forget to change the default 'px' response format to 'json' bottom of the dead_query data struct #\n",
    "\n",
    "dead_url = 'http://api.scb.se/OV0104/v1/doris/en/ssd/START/BE/BE0101/BE0101I/DodaFodelsearK'\n",
    "dead_query = {\n",
    "  \"query\": [\n",
    "    {\n",
    "      \"code\": \"Region\",\n",
    "      \"selection\": {\n",
    "        \"filter\": \"vs:RegionRiket99\",\n",
    "        \"values\": [\n",
    "          \"00\"\n",
    "        ]\n",
    "      }\n",
    "    },\n",
    "    {\n",
    "      \"code\": \"Alder\",\n",
    "      \"selection\": {\n",
    "        \"filter\": \"vs:Ålder1årA\",\n",
    "        \"values\": [\n",
    "          \"0\",\n",
    "          \"1\",\n",
    "          \"2\",\n",
    "          \"3\",\n",
    "          \"4\",\n",
    "          \"5\",\n",
    "          \"6\",\n",
    "          \"7\",\n",
    "          \"8\",\n",
    "          \"9\",\n",
    "          \"10\",\n",
    "          \"11\",\n",
    "          \"12\",\n",
    "          \"13\",\n",
    "          \"14\",\n",
    "          \"15\",\n",
    "          \"16\",\n",
    "          \"17\",\n",
    "          \"18\",\n",
    "          \"19\",\n",
    "          \"20\",\n",
    "          \"21\",\n",
    "          \"22\",\n",
    "          \"23\",\n",
    "          \"24\",\n",
    "          \"25\",\n",
    "          \"26\",\n",
    "          \"27\",\n",
    "          \"28\",\n",
    "          \"29\",\n",
    "          \"30\",\n",
    "          \"31\",\n",
    "          \"32\",\n",
    "          \"33\",\n",
    "          \"34\",\n",
    "          \"35\",\n",
    "          \"36\",\n",
    "          \"37\",\n",
    "          \"38\",\n",
    "          \"39\",\n",
    "          \"40\",\n",
    "          \"41\",\n",
    "          \"42\",\n",
    "          \"43\",\n",
    "          \"44\",\n",
    "          \"45\",\n",
    "          \"46\",\n",
    "          \"47\",\n",
    "          \"48\",\n",
    "          \"49\",\n",
    "          \"50\",\n",
    "          \"51\",\n",
    "          \"52\",\n",
    "          \"53\",\n",
    "          \"54\",\n",
    "          \"55\",\n",
    "          \"56\",\n",
    "          \"57\",\n",
    "          \"58\",\n",
    "          \"59\",\n",
    "          \"60\",\n",
    "          \"61\",\n",
    "          \"62\",\n",
    "          \"63\",\n",
    "          \"64\",\n",
    "          \"65\",\n",
    "          \"66\",\n",
    "          \"67\",\n",
    "          \"68\",\n",
    "          \"69\",\n",
    "          \"70\",\n",
    "          \"71\",\n",
    "          \"72\",\n",
    "          \"73\",\n",
    "          \"74\",\n",
    "          \"75\",\n",
    "          \"76\",\n",
    "          \"77\",\n",
    "          \"78\",\n",
    "          \"79\",\n",
    "          \"80\",\n",
    "          \"81\",\n",
    "          \"82\",\n",
    "          \"83\",\n",
    "          \"84\",\n",
    "          \"85\",\n",
    "          \"86\",\n",
    "          \"87\",\n",
    "          \"88\",\n",
    "          \"89\",\n",
    "          \"90\",\n",
    "          \"91\",\n",
    "          \"92\",\n",
    "          \"93\",\n",
    "          \"94\",\n",
    "          \"95\",\n",
    "          \"96\",\n",
    "          \"97\",\n",
    "          \"98\",\n",
    "          \"99\",\n",
    "          \"100+\"\n",
    "        ]\n",
    "      }\n",
    "    },\n",
    "    {\n",
    "      \"code\": \"Kon\",\n",
    "      \"selection\": {\n",
    "        \"filter\": \"item\",\n",
    "        \"values\": [\n",
    "          \"1\",\n",
    "          \"2\"\n",
    "        ]\n",
    "      }\n",
    "    },\n",
    "    {\n",
    "      \"code\": \"Tid\",\n",
    "      \"selection\": {\n",
    "        \"filter\": \"item\",\n",
    "        \"values\": [\n",
    "          \"2002\",\n",
    "          \"2003\",\n",
    "          \"2004\",\n",
    "          \"2005\",\n",
    "          \"2006\",\n",
    "          \"2007\",\n",
    "          \"2008\",\n",
    "          \"2009\",\n",
    "          \"2010\",\n",
    "          \"2011\",\n",
    "          \"2012\",\n",
    "          \"2013\",\n",
    "          \"2014\",\n",
    "          \"2015\",\n",
    "          \"2016\",\n",
    "          \"2017\",\n",
    "          \"2018\",\n",
    "          \"2019\"\n",
    "        ]\n",
    "      }\n",
    "    }\n",
    "  ],\n",
    "  \"response\": {\n",
    "    \"format\": \"json\"\n",
    "  }\n",
    "}"
   ]
  },
  {
   "cell_type": "code",
   "execution_count": null,
   "metadata": {},
   "outputs": [],
   "source": [
    "### function to fetch SCB population or death data, returns 3 DataFrames w. different age binnings ### \n",
    "\n",
    "def fetch_scb_data(url,query,param='pop'):\n",
    "    \n",
    "    # call the API, check HTML status code (should be 200 for success) #\n",
    "\n",
    "    r= requests.post(url,json=query)\n",
    "    print ('HTML status code fetching {}: '.format(param),r.status_code)\n",
    "    \n",
    "    # extract the json data section from the response #\n",
    "\n",
    "    json_data = r.json()['data'] # get the data section (skip metadata) #\n",
    "\n",
    "    # we get two dictionaries : 'key' and 'values' #\n",
    "    # 'key' attributes are : 'geo' (all of sweden), 'age','gender','year' #\n",
    "    # 'values' attribute is : 'population' / 'dead' #\n",
    "    \n",
    "    # check the first record to figure out the structure of the data #\n",
    "    print ('record layout for {}: '.format(param),json_data[0])\n",
    "    \n",
    "    # create a Pandas DataFrame from the list of dictionaries, and massage it to a decent structure #\n",
    "\n",
    "    age_df = pd.DataFrame.from_dict(json_data)\n",
    "    age_df[['area','age','gender','year']] = age_df['key'].to_list() # split keys to separate columns #\n",
    "\n",
    "    age_df[param] = age_df['values'].apply(\n",
    "        lambda x : x[0]).astype(int) # extract size from the values list #\n",
    "\n",
    "    age_df['num_age'] = age_df['age'].apply(\n",
    "        lambda x :x.replace('+','')).astype(int) # create numeric age column #\n",
    "\n",
    "    age_df = age_df.drop(['key','values','area'],axis=1) # delete unwanted columns #\n",
    "\n",
    "    # combine the two genders #\n",
    "    age_df = age_df.groupby(['year','num_age']).sum()\n",
    "\n",
    "    # bin the data to the same age bins that are used in SCB's prel. death data #\n",
    "    age_df['scb_prel_age_bin'] = pd.cut(age_df.index.get_level_values(1),[-1,64,79,89,200],\n",
    "                                        labels=['-64','65-79','80-89','90+'])\n",
    "\n",
    "    # and finally, for each year, combine the 1 year age bin sums to match the 4 age bins of the prel death data #\n",
    "\n",
    "    age_scb_prel_df = age_df.groupby([age_df.index.get_level_values(0),\n",
    "                                                      'scb_prel_age_bin']).sum()\n",
    "    \n",
    "    # create a df with total yearly values #\n",
    "    df = age_scb_prel_df.groupby('year').sum()\n",
    "    \n",
    "    \n",
    "    \n",
    "\n",
    "    return age_df,age_scb_prel_df,df\n",
    "    "
   ]
  },
  {
   "cell_type": "code",
   "execution_count": null,
   "metadata": {},
   "outputs": [],
   "source": [
    "### get the population & death data from SCB ###\n",
    "pop_age_df,pop_age_scb_prel_df,pop_df = fetch_scb_data(pop_url,pop_query,param='pop')\n",
    "dead_age_df,dead_age_scb_prel_df,dead_df = fetch_scb_data(dead_url,dead_query,param='dead')\n"
   ]
  },
  {
   "cell_type": "code",
   "execution_count": null,
   "metadata": {},
   "outputs": [],
   "source": [
    "### combine the pop & death data to 3 separate, complete df's with: ###\n",
    "### 1) 1 year age bins; 2) 4 age bins as with scb prel death data, 3) no age bins ###\n",
    "\n",
    "one_year_binned = pd.DataFrame(pop_age_df['pop']).join(dead_age_df['dead'])\n",
    "scb_prel_binned = pd.DataFrame(pop_age_scb_prel_df['pop']).join(dead_age_scb_prel_df['dead'])\n",
    "no_bins = pd.DataFrame(pop_df['pop']).join(dead_df['dead'])\n"
   ]
  },
  {
   "cell_type": "code",
   "execution_count": null,
   "metadata": {},
   "outputs": [],
   "source": [
    "### now we need to fetch the 2020 prel death data which do no yet reside in the scb database ###\n",
    "\n",
    "scb_prel_url = 'https://www.scb.se/hitta-statistik/statistik-efter-amne/befolkning/'\\\n",
    "'befolkningens-sammansattning/befolkningsstatistik/pong/tabell-och-diagram/preliminar-statistik-over-doda/'\n",
    "\n",
    "scb_prel_file = pd.ExcelFile(scb_prel_url)"
   ]
  },
  {
   "cell_type": "code",
   "execution_count": null,
   "metadata": {},
   "outputs": [],
   "source": [
    "# check the sheet names #\n",
    "# Tabell 1 contains the daily, non age-binned data #\n",
    "\n",
    "scb_prel_file.sheet_names"
   ]
  },
  {
   "cell_type": "code",
   "execution_count": null,
   "metadata": {},
   "outputs": [],
   "source": [
    "# parse the prel daily death data #\n",
    "\n",
    "scb_prel_daily = scb_prel_file.parse(sheet_name='Tabell 1',skiprows=6,usecols=range(10))\n",
    "\n",
    "scb_prel_daily\n"
   ]
  },
  {
   "cell_type": "code",
   "execution_count": null,
   "metadata": {},
   "outputs": [],
   "source": [
    "# get the deaths occurred on unknown days #\n",
    "unknown_death_day = scb_prel_daily.iloc[-1,1:]\n",
    "\n",
    "# remove the unknown deaths from the df and drop the DagMånad column #\n",
    "\n",
    "scb_prel_daily = scb_prel_daily.iloc[:-1,1:]\n",
    "scb_prel_daily"
   ]
  },
  {
   "cell_type": "code",
   "execution_count": null,
   "metadata": {},
   "outputs": [],
   "source": [
    "# let's allocate the unknown deaths proportionally to the days of year #\n",
    "\n",
    "daily_proportion_of_total_deaths = scb_prel_daily / scb_prel_daily.sum()\n",
    "deaths_to_add = daily_proportion_of_total_deaths * unknown_death_day\n",
    "scb_prel_daily += deaths_to_add\n",
    "scb_prel_daily"
   ]
  },
  {
   "cell_type": "code",
   "execution_count": null,
   "metadata": {},
   "outputs": [],
   "source": [
    "total_deaths = scb_prel_daily.sum()\n",
    "total_deaths"
   ]
  },
  {
   "cell_type": "code",
   "execution_count": null,
   "metadata": {},
   "outputs": [],
   "source": [
    "### let's add the prel 2020 daily death total to no_bins df ###\n",
    "### notice that the 2020 total death toll calculated by daily deaths is not identical to ###\n",
    "### the total calculated by weekly sums below due to week 53 stretching to Jan 3'd ###\n",
    "### the difference is ~800 more deaths for the weekly calculation ###\n",
    "\n",
    "no_bins.loc['2020','dead'] = total_deaths['2020']\n",
    "no_bins"
   ]
  },
  {
   "cell_type": "code",
   "execution_count": null,
   "metadata": {},
   "outputs": [],
   "source": [
    "### get the age group binned prel death data ###\n",
    "scb_prel_age = scb_prel_file.parse('Tabell 2',skiprows=7,usecols=[0,1,4,5,6,7,9,10,11,12])\n",
    "\n",
    "scb_prel_age = scb_prel_age.loc[scb_prel_age['År'] == 2020]\n",
    "scb_prel_age = scb_prel_age[::-1] # reverse order\n",
    "scb_prel_age.drop(['År','DagMånad'],axis=1,inplace=True)\n",
    "\n",
    "scb_prel_age\n"
   ]
  },
  {
   "cell_type": "code",
   "execution_count": null,
   "metadata": {},
   "outputs": [],
   "source": [
    "### function to combine gender specific deaths per age group to age grp total ###\n",
    "\n",
    "def combine_ages(col):\n",
    "    \n",
    "    class AgeError(Exception):\n",
    "        pass\n",
    "    \n",
    "    if '0-64' in col:\n",
    "        return '-64'\n",
    "    if '65-79' in col:\n",
    "        return '65-79'\n",
    "    if '80-89' in col:\n",
    "        return '80-89'\n",
    "    if '90+' in col:\n",
    "        return '90+'\n",
    "    else:\n",
    "        return AgeError('no such age group')\n",
    "    "
   ]
  },
  {
   "cell_type": "code",
   "execution_count": null,
   "metadata": {
    "scrolled": false
   },
   "outputs": [],
   "source": [
    "### combine the two genders ###\n",
    "scb_prel_age = scb_prel_age.groupby(combine_ages,axis=1).sum()\n",
    "scb_prel_age"
   ]
  },
  {
   "cell_type": "code",
   "execution_count": null,
   "metadata": {},
   "outputs": [],
   "source": [
    "unknown_2020_age_date = scb_prel_age.iloc[0] # get deaths with unknown date #\n",
    "scb_prel_age = scb_prel_age.iloc[1:] # drop unknown dates from df #\n"
   ]
  },
  {
   "cell_type": "code",
   "execution_count": null,
   "metadata": {},
   "outputs": [],
   "source": [
    "### add unknown deaths proportionally to the days ###\n",
    "prop_deaths_per_day = scb_prel_age / scb_prel_age.sum()\n",
    "add_ons = prop_deaths_per_day * unknown_2020_age_date\n",
    "scb_prel_age += add_ons\n",
    "scb_prel_age.sum().sum()"
   ]
  },
  {
   "cell_type": "code",
   "execution_count": null,
   "metadata": {},
   "outputs": [],
   "source": [
    "### set datetime index ###\n",
    "scb_prel_age.index = pd.date_range('2020-01-01','2020-12-31')\n",
    "scb_prel_age"
   ]
  },
  {
   "cell_type": "code",
   "execution_count": null,
   "metadata": {},
   "outputs": [],
   "source": [
    "### totals per age group ###\n",
    "scb_age_2020_total = scb_prel_age.sum()\n",
    "scb_age_2020_total"
   ]
  },
  {
   "cell_type": "code",
   "execution_count": null,
   "metadata": {},
   "outputs": [],
   "source": [
    "### total totals for 2020 ###\n",
    "scb_age_2020_total.sum()"
   ]
  },
  {
   "cell_type": "code",
   "execution_count": null,
   "metadata": {},
   "outputs": [],
   "source": [
    "### now, let's add the 2020 prel death data to the age binned death dataframe from above ###\n",
    "\n",
    "# first we need a multi-index for 2020 for the 4 age groups # \n",
    "\n",
    "idx = pd.MultiIndex.from_arrays([ ['2020'] * len (scb_prel_age.columns), scb_prel_age.columns ])\n",
    "\n",
    "scb_age_2020_total.index = idx\n",
    "scb_age_2020_total.name='dead'\n",
    "scb_age_2020_total = pd.DataFrame(scb_age_2020_total)\n",
    "scb_age_2020_total"
   ]
  },
  {
   "cell_type": "code",
   "execution_count": null,
   "metadata": {},
   "outputs": [],
   "source": [
    "scb_prel_binned"
   ]
  },
  {
   "cell_type": "code",
   "execution_count": null,
   "metadata": {},
   "outputs": [],
   "source": [
    "### and now let's add 2020 to the scb_prel_binned_df ###\n",
    "\n",
    "scb_prel_binned.at['2020','dead'] = scb_age_2020_total\n",
    "scb_prel_binned"
   ]
  },
  {
   "cell_type": "code",
   "execution_count": null,
   "metadata": {},
   "outputs": [],
   "source": [
    "### yearly totals calculated on the age binned data ###\n",
    "\n",
    "scb_prel_binned.groupby('year').sum()"
   ]
  },
  {
   "cell_type": "code",
   "execution_count": null,
   "metadata": {},
   "outputs": [],
   "source": [
    "### now, let's add age group based mortality ###\n",
    "scb_prel_binned['mortality'] = scb_prel_binned['dead'] / scb_prel_binned['pop']\n",
    "scb_prel_binned"
   ]
  },
  {
   "cell_type": "code",
   "execution_count": null,
   "metadata": {},
   "outputs": [],
   "source": [
    "### let's define 2019 as our standard population, for age adjusted overall mortality ###\n",
    "### and then add 'standardized deaths', that is, absolute deaths based on ACTUAL yearly mortality ###\n",
    "### acting on the standard population. I.e we are computing the number absolute deaths given actual ###\n",
    "### mortality but as if the population age group sizes had been equal to that of the std year (2019) ###\n",
    "\n",
    "std_pop = scb_prel_binned.loc['2019','pop']\n",
    "\n",
    "scb_prel_binned['std_deaths'] = scb_prel_binned['mortality'] * std_pop\n",
    "scb_prel_binned"
   ]
  },
  {
   "cell_type": "code",
   "execution_count": null,
   "metadata": {},
   "outputs": [],
   "source": [
    "### now, to compute age adj mortality, for each year we sum the age_group std_deaths ###\n",
    "### and divide by total std_population ###\n",
    "\n",
    "age_adj_mortality = scb_prel_binned.groupby('year').sum()['std_deaths'] / std_pop.sum()\n",
    "age_adj_mortality"
   ]
  },
  {
   "cell_type": "code",
   "execution_count": null,
   "metadata": {},
   "outputs": [],
   "source": [
    "title = 'SWEDEN Age Adj. Mortality (std.pop : 2019) 2002-2020\\nDataSource : scb.se'\n",
    "colors = ['b'] * len (age_adj_mortality)\n",
    "colors[-1] = 'orange'\n",
    "\n",
    "age_adj_mortality.plot(kind='bar',figsize=(18,12),color=colors,title=title)\n",
    "plt.ylabel('age adjusted mortality')\n",
    "_= plt.yticks(np.arange(0,0.015,0.0005))\n",
    "\n",
    "plt.savefig('SCB_excess_age_adj_mortality.jpg',format='jpg')"
   ]
  },
  {
   "cell_type": "code",
   "execution_count": null,
   "metadata": {},
   "outputs": [],
   "source": [
    "### lets compute non-age-adj mortality ###\n",
    "no_bins['mortality'] = no_bins['dead'] / no_bins['pop']\n",
    "no_bins"
   ]
  },
  {
   "cell_type": "code",
   "execution_count": null,
   "metadata": {},
   "outputs": [],
   "source": [
    "title = 'SWEDEN Mortality (deaths / capita) 2002-2020\\nDataSource : scb.se'\n",
    "colors = ['b'] * len (age_adj_mortality)\n",
    "colors[-1] = 'orange'\n",
    "\n",
    "no_bins.plot(y='mortality',kind='bar',figsize=(18,12),color=colors,title=title)\n",
    "plt.ylabel('mortality')\n",
    "_= plt.yticks(np.arange(0,0.011,0.0005))\n",
    "plt.savefig('SCB_excess_mortality.jpg',format='jpg')"
   ]
  },
  {
   "cell_type": "code",
   "execution_count": null,
   "metadata": {},
   "outputs": [],
   "source": [
    "### age adj Mortality baselines ###\n",
    "\n",
    "age_adj_grp_mort_base_15_18 = scb_prel_binned.loc['2015':'2018','mortality'].groupby('scb_prel_age_bin').mean()\n",
    "age_adj_grp_mort_base_15_19 = scb_prel_binned.loc['2015' :'2019','mortality'].groupby('scb_prel_age_bin').mean()\n",
    "\n",
    "print ('base_15_18_mortality :',age_adj_grp_mort_base_15_18)\n",
    "print ()\n",
    "print ('base_15_19_mortality :',age_adj_grp_mort_base_15_19)"
   ]
  },
  {
   "cell_type": "code",
   "execution_count": null,
   "metadata": {},
   "outputs": [],
   "source": [
    "### compute expected age grp deaths given mortality per age group is baseline mortality ###\n",
    "scb_prel_binned['exp_dead_base_15_18'] = scb_prel_binned['pop'] * age_adj_grp_mort_base_15_18\n",
    "scb_prel_binned['exp_dead_base_15_19'] = scb_prel_binned['pop'] * age_adj_grp_mort_base_15_19"
   ]
  },
  {
   "cell_type": "code",
   "execution_count": null,
   "metadata": {},
   "outputs": [],
   "source": [
    "### compute excess age grp deaths as diff actual age grp deaths - expected age grp deaths ### \n",
    "scb_prel_binned['excess_15_18'] = scb_prel_binned['dead'] - scb_prel_binned['exp_dead_base_15_18']\n",
    "scb_prel_binned['excess_15_19'] = scb_prel_binned['dead'] - scb_prel_binned['exp_dead_base_15_19'] \n",
    "\n",
    "scb_prel_binned"
   ]
  },
  {
   "cell_type": "code",
   "execution_count": null,
   "metadata": {},
   "outputs": [],
   "source": [
    "### compute yearly sums of total excess deaths based on age groups ###\n",
    "age_grp_based_excess_deaths = scb_prel_binned.groupby('year')[['excess_15_18','excess_15_19']].sum()\n",
    "age_grp_based_excess_deaths"
   ]
  },
  {
   "cell_type": "code",
   "execution_count": null,
   "metadata": {},
   "outputs": [],
   "source": [
    "### compute non-age-adj baselines ###\n",
    "mort_15_18_base = no_bins.loc['2015':'2018']['mortality'].mean()\n",
    "mort_15_19_base = no_bins.loc['2015' : '2019']['mortality'].mean()\n",
    "\n",
    "print ('non-age-adj-mort_base_15_18 :',mort_15_18_base)\n",
    "print ()\n",
    "print ('non-age_adj-mort_base_15_19 :',mort_15_19_base)"
   ]
  },
  {
   "cell_type": "code",
   "execution_count": null,
   "metadata": {},
   "outputs": [],
   "source": [
    "### compute expected deaths given these baselines ###\n",
    "no_bins['exp_dead_base_15_18'] = no_bins['pop'] * mort_15_18_base\n",
    "no_bins['exp_dead_base_15_19'] = no_bins['pop'] * mort_15_19_base\n",
    "\n",
    "no_bins"
   ]
  },
  {
   "cell_type": "code",
   "execution_count": null,
   "metadata": {},
   "outputs": [],
   "source": [
    "### compute excess deaths given the two expectations ###\n",
    "\n",
    "no_bins['excess_15_18'] = no_bins['dead'] - no_bins['exp_dead_base_15_18']\n",
    "no_bins['excess_15_19'] = no_bins['dead'] - no_bins['exp_dead_base_15_19']\n",
    "\n",
    "no_bins"
   ]
  },
  {
   "cell_type": "code",
   "execution_count": null,
   "metadata": {},
   "outputs": [],
   "source": [
    "### finally, let's compute the excess for absolute deaths, with the same baseline years ###\n",
    "abs_base_15_18 = no_bins.loc['2015' : '2018','dead'].mean()\n",
    "abs_base_15_19 = no_bins.loc['2015' : '2019','dead'].mean()\n",
    "\n",
    "print ('abs_base_15_18 :',abs_base_15_18)\n",
    "print ('abs_base_15_19 :',abs_base_15_19)"
   ]
  },
  {
   "cell_type": "code",
   "execution_count": null,
   "metadata": {},
   "outputs": [],
   "source": [
    "abs_excess = pd.DataFrame({'15_18_base' : no_bins['dead'] - abs_base_15_18,\n",
    "                          '15_19_base' : no_bins['dead'] - abs_base_15_19})\n",
    "abs_excess\n"
   ]
  },
  {
   "cell_type": "code",
   "execution_count": null,
   "metadata": {},
   "outputs": [],
   "source": [
    "### summary of excess deaths, computed in different ways, with two different baselines (15-18,15-19) ###\n",
    "\n",
    "print ('\\n2020 excess deaths :\\n'.upper())\n",
    "\n",
    "print ('Absolute excess deaths cmp baseline 15-18 :',abs_excess.loc['2020','15_18_base'].astype(int))\n",
    "print ('\\nAbsolute excess deaths cmp baseline 15-19 :',abs_excess.loc['2020','15_19_base'].astype(int))\n",
    "print ('\\nPopulation adjusted excess deaths cmp baseline 15-18 :',no_bins.loc['2020','excess_15_18'].astype(int))\n",
    "print ('\\nPopulation adjusted excess deaths cmp baseline 15-19 :',no_bins.loc['2020','excess_15_19'].astype(int))\n",
    "\n",
    "print ('\\nAge adjusted excess deaths cmp baseline 15-18 :',\n",
    "       age_grp_based_excess_deaths.loc['2020','excess_15_18'].astype(int))\n",
    "\n",
    "print ('\\nAge adjusted excess deaths cmp baseline 15-19 :',\n",
    "       age_grp_based_excess_deaths.loc['2020','excess_15_19'].astype(int))\n",
    "\n",
    "print ('\\n2019 death deficit :\\n'.upper())\n",
    "\n",
    "print ('Absolute death deficit cmp baseline 15-18 :',abs_excess.loc['2019','15_18_base'].astype(int))\n",
    "print ('\\nAbsolute death deficit cmp baseline 15-19 :',abs_excess.loc['2019','15_19_base'].astype(int))\n",
    "print ('\\nPopulation adjusted death deficit cmp baseline 15-18 :',no_bins.loc['2019','excess_15_18'].astype(int))\n",
    "print ('\\nPopulation adjusted death deficit cmp baseline 15-19 :',no_bins.loc['2019','excess_15_19'].astype(int))\n",
    "\n",
    "print ('\\nAge adjusted death deficit cmp baseline 15-18 :',\n",
    "       age_grp_based_excess_deaths.loc['2019','excess_15_18'].astype(int))\n",
    "\n",
    "print ('\\nAge adjusted death deficit cmp baseline 15-19 :',\n",
    "       age_grp_based_excess_deaths.loc['2019','excess_15_19'].astype(int))\n",
    "\n",
    "\n"
   ]
  },
  {
   "cell_type": "code",
   "execution_count": null,
   "metadata": {},
   "outputs": [],
   "source": [
    "title = 'SWEDEN population & absolute deaths 2002 - 2020\\nDataSource : scb.se'\n",
    "ax = no_bins['dead'].plot(style='ro--',figsize=(18,12),label='abs deaths',title=title)\n",
    "ax.set_ylim([80000,100000])\n",
    "\n",
    "ax2 = plt.twinx()\n",
    "\n",
    "no_bins['pop'].plot(ax=ax2,style='bo--',label='population')\n",
    "\n",
    "ax.legend(loc='upper left')\n",
    "ax2.legend(loc='upper center')\n",
    "\n",
    "ax.set_ylabel('absolute deaths')\n",
    "ax2.set_ylabel('population')"
   ]
  },
  {
   "cell_type": "code",
   "execution_count": null,
   "metadata": {},
   "outputs": [],
   "source": []
  },
  {
   "cell_type": "code",
   "execution_count": null,
   "metadata": {},
   "outputs": [],
   "source": [
    "title = 'SWEDEN mortality (deaths/capita) 2002 - 2020\\nDataSource : scb.se'\n",
    "no_bins.plot(y='mortality',figsize=(18,12),style='o--',title=title)\n",
    "plt.ylabel('population adj. absolute excess deaths')\n",
    "\n"
   ]
  },
  {
   "cell_type": "code",
   "execution_count": null,
   "metadata": {},
   "outputs": [],
   "source": [
    "title = 'SWEDEN age adjusted mortality 2002-2020 (std.pop : 2019)\\nDataSource : scb.se'\n",
    "age_adj_mortality.plot(figsize=(18,12),style='ro--',title=title)\n",
    "plt.ylabel('age adj. mortality')"
   ]
  },
  {
   "cell_type": "code",
   "execution_count": null,
   "metadata": {},
   "outputs": [],
   "source": [
    "title = 'SWEDEN absolute excess deaths 2002-2020, two different baselines\\nDataSource : scb.se'\n",
    "abs_excess.plot(figsize=(18,12),style='o--',title=title)\n",
    "plt.ylabel('absolute excess deaths')"
   ]
  },
  {
   "cell_type": "code",
   "execution_count": null,
   "metadata": {},
   "outputs": [],
   "source": [
    "title = 'SWEDEN population adjusted excess deaths 2002-2020\\nDataSource : scb.se'\n",
    "no_bins.plot(y=['excess_15_18','excess_15_19'],style='o--',figsize=(18,12),title=title)\n",
    "plt.ylabel('population adjusted excess deaths')\n",
    "plt.axhline(0,ls='dashed',color='k')"
   ]
  },
  {
   "cell_type": "code",
   "execution_count": null,
   "metadata": {},
   "outputs": [],
   "source": [
    "title = 'SWEDEN age adjusted excess deaths 2002-2020 (std pop 2019), two different baselines\\nDataSource : scb.se'\n",
    "age_grp_based_excess_deaths.plot(figsize=(18,12),style='o--',title=title)\n",
    "plt.ylabel('age adj. excess deaths')"
   ]
  },
  {
   "cell_type": "code",
   "execution_count": null,
   "metadata": {},
   "outputs": [],
   "source": [
    "age_mortality_flat = scb_prel_binned['mortality'].unstack()\n",
    "age_mortality_flat"
   ]
  },
  {
   "cell_type": "code",
   "execution_count": null,
   "metadata": {},
   "outputs": [],
   "source": [
    "#### sanity check ####\n",
    "(scb_prel_binned.loc['2020','pop'] * scb_prel_binned.loc['2020','mortality']).sum()"
   ]
  },
  {
   "cell_type": "code",
   "execution_count": null,
   "metadata": {},
   "outputs": [],
   "source": [
    "fig,axes = plt.subplots(2,2,figsize=(18,12))\n",
    "\n",
    "x_labels = [age_mortality_flat.index[i] for i in range(len(age_mortality_flat))]\n",
    "\n",
    "rows = [0,0,1,1]\n",
    "\n",
    "plt.suptitle('SWEDEN Mortality Trend 2002 - 2020 per Age Group\\nDataSource : SCB.se')\n",
    "\n",
    "for i,grp in enumerate(age_mortality_flat.columns):\n",
    "    \n",
    "    axes[rows[i],i%2].plot(age_mortality_flat[grp],'o--')\n",
    "    axes[rows[i],i%2].set_title('Age Group {}'.format(grp))\n",
    "    axes[rows[i],i%2].set_xticklabels(x_labels,rotation=90)\n",
    "    axes[rows[i],i%2].set_ylabel('mortality')\n",
    "    \n",
    "    axes[rows[i],i%2].axhline(age_adj_grp_mort_base_15_18.iloc[i],\n",
    "                              ls='dashed',color='orange',label='baseline_15_18')\n",
    "    \n",
    "    axes[rows[i],i%2].axhline(age_adj_grp_mort_base_15_19.iloc[i],\n",
    "                              ls='dashed',color='red',label='baseline_15_19')\n",
    "    \n",
    "    axes[rows[i],i%2].legend(['mortality','baseline_15_18','baseline_15_19'],loc='upper right')\n",
    "    \n",
    "plt.tight_layout()\n",
    "plt.savefig('Age_grp_mortality_trends.jpg',format='jpg')"
   ]
  },
  {
   "cell_type": "code",
   "execution_count": null,
   "metadata": {},
   "outputs": [],
   "source": [
    "excess_vals = [abs_excess.loc['2020'].values,\n",
    " no_bins.loc['2020',['excess_15_18','excess_15_19']].values,\n",
    " age_grp_based_excess_deaths.loc['2020',['excess_15_18','excess_15_19']].values ]\n",
    "\n",
    "excess = pd.DataFrame(excess_vals)\n",
    "excess.columns = ['excess_rel_baseline_2015_2018','excess_rel_baseline_2015_2019']\n",
    "excess.index = ['abs_deaths','pop_adj_deaths','age_adj_deaths']\n",
    "excess = excess.astype(int)\n",
    "excess"
   ]
  },
  {
   "cell_type": "code",
   "execution_count": null,
   "metadata": {},
   "outputs": [],
   "source": [
    "title = 'SWEDEN \"Excess Deaths\" 2020 by three different methods. Two different baselines\\nDataSource : SCB.se'\n",
    "excess.plot(kind='bar',figsize=(18,12),title=title)\n",
    "plt.ylabel('Excess deaths')\n",
    "plt.xlabel('excess calculation method')\n",
    "\n",
    "plt.savefig('SCB_excess_excess_deaths.jpg',format='jpg')"
   ]
  },
  {
   "cell_type": "code",
   "execution_count": null,
   "metadata": {},
   "outputs": [],
   "source": [
    "#### let's do one for seasonal deaths as well ####\n",
    "### SECTION ###\n",
    "scb_prel_daily"
   ]
  },
  {
   "cell_type": "code",
   "execution_count": null,
   "metadata": {},
   "outputs": [],
   "source": [
    "### find out the last reported day of 2021, and define last_good_day ###\n",
    "\n",
    "days_of_2021 = len(scb_prel_daily['2021'].loc[scb_prel_daily['2021'] != 0 ])\n",
    "last_data_day = pd.date_range('2021-01-01',periods=days_of_2021)[-1]\n",
    "last_good_day = last_data_day - pd.DateOffset(weeks=2)\n",
    "last_good_day"
   ]
  },
  {
   "cell_type": "code",
   "execution_count": null,
   "metadata": {},
   "outputs": [],
   "source": [
    "#### leap_day_idx : 60:th day of year in the prel datafame ####\n",
    "leap_day_idx = 59\n",
    "leap_year_mask = scb_prel_daily.iloc[leap_day_idx] != 0\n",
    "leap_years = scb_prel_daily.columns[leap_year_mask][:-2].values\n",
    "leap_years\n"
   ]
  },
  {
   "cell_type": "code",
   "execution_count": null,
   "metadata": {},
   "outputs": [],
   "source": [
    "#### serialize the dataframe by years ####\n",
    "\n",
    "serialized_daily_15_21 = []\n",
    "\n",
    "for c in scb_prel_daily.columns[:-2]:\n",
    "    if c not in leap_years:\n",
    "        scb_prel_daily[c].drop(leap_day_idx,inplace=True) # drop the leap day for non-leap years #\n",
    "        \n",
    "    serialized_daily_15_21.extend(scb_prel_daily[c])\n",
    "\n",
    "serialized_daily_15_21 = pd.DataFrame(serialized_daily_15_21)\n",
    "serialized_daily_15_21.columns = ['dead']"
   ]
  },
  {
   "cell_type": "code",
   "execution_count": null,
   "metadata": {
    "scrolled": false
   },
   "outputs": [],
   "source": [
    "#### since scb_prel_daily has 366 days for each year, even those without leap days, ####\n",
    "#### we can't do a straight datetimeindex for 2015-2021 using pd.date_range(). ####\n",
    "#### Instead, we build it up year-by-year #### \n",
    "\n",
    "def build_multi_year_idx(start_year,end_year):\n",
    "    \n",
    "    serialized_idx = list(pd.date_range(str(start_year) + '-01-01',str(start_year) + '-12-31'))\n",
    "    \n",
    "    for y in range(start_year + 1,end_year + 1):\n",
    "        serialized_idx.extend(list(pd.date_range(str(y) + '-01-01',str(y) + '-12-31')))\n",
    "    return serialized_idx\n",
    "        \n",
    "serialized_idx = pd.DatetimeIndex(build_multi_year_idx(2015,2021))\n",
    "serialized_idx"
   ]
  },
  {
   "cell_type": "code",
   "execution_count": null,
   "metadata": {},
   "outputs": [],
   "source": [
    "### assume population 2021 initially is same as 2020 ###\n",
    "pop_df.at['2021','pop'] = pop_df.loc['2020','pop']\n"
   ]
  },
  {
   "cell_type": "code",
   "execution_count": null,
   "metadata": {},
   "outputs": [],
   "source": [
    "#### add year,month,day explicit for convenience ####\n",
    "#### compute daily mortality ####\n",
    "\n",
    "serialized_daily_15_21.index = serialized_idx\n",
    "\n",
    "### skip the last two weeks of data ###\n",
    "serialized_daily_stable = serialized_daily_15_21.loc[:last_good_day].copy()\n",
    "serialized_daily_stable['year'] = serialized_daily_stable.index.year.astype(str)\n",
    "\n",
    "serialized_daily_stable['month'] = serialized_daily_stable.index.month\n",
    "serialized_daily_stable['day'] = serialized_daily_stable.index.day\n",
    "\n",
    "serialized_daily_stable['daily_mortality'] = serialized_daily_stable.apply(\n",
    "    lambda row : row.dead / pop_df.loc[row.year,'pop'],axis=1)\n",
    "\n",
    "serialized_daily_stable"
   ]
  },
  {
   "cell_type": "code",
   "execution_count": null,
   "metadata": {},
   "outputs": [],
   "source": [
    "#### define season e.g. as starting from oct 1:st to sep last ####\n",
    "\n",
    "season_start = 10 # month number\n",
    "season_end = 9\n",
    "\n",
    "#### this drops the first season of the first year (2015) from the data ####\n",
    "\n",
    "def seasonal(df,start_year,next_year):\n",
    "    first_part = df.loc[(df['month'] >= season_start) & (df['year'] == start_year)]\n",
    "    second_part = df.loc[(df['month'] <= season_end) & (df['year'] == next_year)]\n",
    "    \n",
    "    return pd.concat([first_part,second_part])\n",
    "\n"
   ]
  },
  {
   "cell_type": "code",
   "execution_count": null,
   "metadata": {},
   "outputs": [],
   "source": [
    "#### collect the different seasons into a single df ####\n",
    "all_seasons_df = pd.DataFrame()\n",
    "\n",
    "years = scb_prel_daily.columns.values\n",
    "\n",
    "for y in range(len(years[:-2]) - 1):\n",
    "    season_df = pd.DataFrame(seasonal(serialized_daily_stable,years[y],years[y+1]))\n",
    "    season_df['season'] = years[y] + '/' + years[y+1]\n",
    "    all_seasons_df = pd.concat([all_seasons_df,season_df])\n",
    "    \n",
    "all_seasons_df"
   ]
  },
  {
   "cell_type": "code",
   "execution_count": null,
   "metadata": {},
   "outputs": [],
   "source": [
    "all_seasons_df.loc[all_seasons_df['season'] == '2016/2017']"
   ]
  },
  {
   "cell_type": "code",
   "execution_count": null,
   "metadata": {},
   "outputs": [],
   "source": [
    "title = 'SWEDEN seasonal mortality 2015/2016 - 2019/2020\\nDataSource : scb.se'\n",
    "seasonal_mortality = all_seasons_df.groupby('season')['daily_mortality'].sum()\n",
    "seasonal_mortality[:-1].plot(figsize=(18,12),kind='bar',title=title)\n",
    "plt.yticks(np.arange(0,0.01,0.0005))\n",
    "plt.ylabel('mortality')\n",
    "plt.savefig('seasonal_deaths.jpg',format='jpg')\n"
   ]
  },
  {
   "cell_type": "code",
   "execution_count": null,
   "metadata": {},
   "outputs": [],
   "source": [
    "title = 'SWEDEN monthly absolute deaths 2015-2020\\nDataSource : scb.se'\n",
    "monthly_dead = serialized_daily_stable.resample('M')['dead'].sum()[:-1]\n",
    "monthly_dead.plot(kind='bar',figsize=(18,12),style='o--',title=title)\n",
    "x_labels = [ monthly_dead.index[i].date() for i in range(len(monthly_dead))]\n",
    "plt.xticks(range(len(monthly_dead)),x_labels)\n",
    "[ plt.axvline(11 + i * 12,color='orange',ls='dashed') for i in range(0,6) ]\n",
    "\n",
    "plt.ylabel('number of deaths per month')\n",
    "monthly_dead"
   ]
  },
  {
   "cell_type": "code",
   "execution_count": null,
   "metadata": {},
   "outputs": [],
   "source": [
    "title = 'SWEDEN monthly mortality 2015 - 2020\\nDataSource : scb.se'\n",
    "monthly_mortality = serialized_daily_stable.resample('M')['daily_mortality'].sum()[:-1]\n",
    "monthly_mortality.plot(kind='bar',figsize=(18,12))\n",
    "plt.xticks(range(len(monthly_mortality)),x_labels)\n",
    "plt.ylabel('monthly mortality')\n",
    "[ plt.axvline(11 + i * 12,color='orange',ls='dashed') for i in range(0,6) ]\n",
    "monthly_mortality"
   ]
  },
  {
   "cell_type": "code",
   "execution_count": null,
   "metadata": {},
   "outputs": [],
   "source": [
    "#### summaries for Prof. Levitt #### \n",
    "\n",
    "summary_age_adj_flat = scb_prel_binned.reset_index().groupby('year')[['pop','dead','std_deaths',\n",
    "                                               'exp_dead_base_15_18','exp_dead_base_15_19',\n",
    "                                               'excess_15_18','excess_15_19']].sum()\n",
    "\n",
    "summary_age_adj_flat.to_excel('scb_yearly_age_adjusted_deaths_summary.xlsx')\n",
    "scb_prel_binned.to_excel('scb_age_binned_data_2002_2020.xlsx')"
   ]
  },
  {
   "cell_type": "code",
   "execution_count": null,
   "metadata": {},
   "outputs": [],
   "source": [
    "### cmp mortality vs age adj. mortality std.pop 2019 ###"
   ]
  },
  {
   "cell_type": "code",
   "execution_count": null,
   "metadata": {},
   "outputs": [],
   "source": [
    "ax = no_bins.plot(y='mortality',figsize=(18,12),style='o--')\n",
    "age_adj_mortality.plot(ax=ax,style='o--')\n",
    "\n",
    "x_labels = [ no_bins.index[i] for i in range(len(no_bins)) ]\n",
    "ax.set_xticks(range(len(no_bins)))\n",
    "_= ax.set_xticklabels(labels=x_labels,rotation=90)\n",
    "ax.legend(['mortality','age adj. mortality'])\n"
   ]
  }
 ],
 "metadata": {
  "kernelspec": {
   "display_name": "Python 3",
   "language": "python",
   "name": "python3"
  },
  "language_info": {
   "codemirror_mode": {
    "name": "ipython",
    "version": 3
   },
   "file_extension": ".py",
   "mimetype": "text/x-python",
   "name": "python",
   "nbconvert_exporter": "python",
   "pygments_lexer": "ipython3",
   "version": "3.8.6"
  }
 },
 "nbformat": 4,
 "nbformat_minor": 4
}
