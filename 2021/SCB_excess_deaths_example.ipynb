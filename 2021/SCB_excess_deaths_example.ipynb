{
 "cells": [
  {
   "cell_type": "code",
   "execution_count": null,
   "metadata": {},
   "outputs": [],
   "source": [
    "### DISCOVERED AN ERROR IN SCB'S AGE GRP PREL DATA (TABELL 2) , VERIFIED FOR 2015, PROBABLY SAME UP INC 2019 ###\n",
    "### 90+ AGE GRP CONTAINS TOO FEW (22167) DEATHS. FETCHING THE DATA FROM THE OFFICIAL DATABASE - ###\n",
    "### GIVES 24083 ###\n",
    "\n",
    "#### EXPLANATION OF THE DIFFERENCE IS THAT THE PREL.DATA IS AGE REACHED AT TIME OF DEATH ####\n",
    "#### WHILE THE OFFICIAL DATA I USED INITIALLY IS AGE AT END-OF-YEAR ####\n",
    "#### REPLACING THE URL TO OFFICIAL DATA TO POINT AT A PAGE WHERE DEATHS ARE COUNTED AS FOR THE PREL.DATA ####\n",
    "#### REMOVES THE DIFFERENCE ! ####\n",
    "\n",
    "### ALL CODE BELOW PREFIXED BY 'BUG' IS DUE TO THIS PROBLEM ###"
   ]
  },
  {
   "cell_type": "code",
   "execution_count": null,
   "metadata": {},
   "outputs": [],
   "source": [
    "### YEAR CHANGE TAG : YC #\n",
    "\n",
    "### CHANGE CONSTANT ###\n",
    "previous_year = 2021\n",
    "\n",
    "import numpy as np\n",
    "import matplotlib.pyplot as plt\n",
    "import seaborn as sns\n",
    "import pandas as pd\n",
    "import requests\n",
    "from bs4 import BeautifulSoup\n",
    "\n",
    "\n",
    "sns.set()"
   ]
  },
  {
   "cell_type": "raw",
   "metadata": {},
   "source": [
    "'''\n",
    "This program computes various stats on Swedish mortality, non-age-adjusted and age-adjusted.\n",
    "'''"
   ]
  },
  {
   "cell_type": "code",
   "execution_count": null,
   "metadata": {},
   "outputs": [],
   "source": [
    "# define parameters for SCB's JSON API for population data #\n",
    "# don't forget to change the default 'px' response format to 'json' bottom of the pop_query data struct # \n",
    "\n",
    "pop_url = 'http://api.scb.se/OV0104/v1/doris/en/ssd/START/BE/BE0101/BE0101A/FolkmangdNov'\n",
    "\n",
    "pop_query = {\n",
    "  \"query\": [\n",
    "    {\n",
    "      \"code\": \"Region\",\n",
    "      \"selection\": {\n",
    "        \"filter\": \"vs:RegionRiket99\",\n",
    "        \"values\": [\n",
    "          \"00\"\n",
    "        ]\n",
    "      }\n",
    "    },\n",
    "    {\n",
    "      \"code\": \"Alder\",\n",
    "      \"selection\": {\n",
    "        \"filter\": \"vs:Ålder1årA\",\n",
    "        \"values\": [\n",
    "          \"0\",\n",
    "          \"1\",\n",
    "          \"2\",\n",
    "          \"3\",\n",
    "          \"4\",\n",
    "          \"5\",\n",
    "          \"6\",\n",
    "          \"7\",\n",
    "          \"8\",\n",
    "          \"9\",\n",
    "          \"10\",\n",
    "          \"11\",\n",
    "          \"12\",\n",
    "          \"13\",\n",
    "          \"14\",\n",
    "          \"15\",\n",
    "          \"16\",\n",
    "          \"17\",\n",
    "          \"18\",\n",
    "          \"19\",\n",
    "          \"20\",\n",
    "          \"21\",\n",
    "          \"22\",\n",
    "          \"23\",\n",
    "          \"24\",\n",
    "          \"25\",\n",
    "          \"26\",\n",
    "          \"27\",\n",
    "          \"28\",\n",
    "          \"29\",\n",
    "          \"30\",\n",
    "          \"31\",\n",
    "          \"32\",\n",
    "          \"33\",\n",
    "          \"34\",\n",
    "          \"35\",\n",
    "          \"36\",\n",
    "          \"37\",\n",
    "          \"38\",\n",
    "          \"39\",\n",
    "          \"40\",\n",
    "          \"41\",\n",
    "          \"42\",\n",
    "          \"43\",\n",
    "          \"44\",\n",
    "          \"45\",\n",
    "          \"46\",\n",
    "          \"47\",\n",
    "          \"48\",\n",
    "          \"49\",\n",
    "          \"50\",\n",
    "          \"51\",\n",
    "          \"52\",\n",
    "          \"53\",\n",
    "          \"54\",\n",
    "          \"55\",\n",
    "          \"56\",\n",
    "          \"57\",\n",
    "          \"58\",\n",
    "          \"59\",\n",
    "          \"60\",\n",
    "          \"61\",\n",
    "          \"62\",\n",
    "          \"63\",\n",
    "          \"64\",\n",
    "          \"65\",\n",
    "          \"66\",\n",
    "          \"67\",\n",
    "          \"68\",\n",
    "          \"69\",\n",
    "          \"70\",\n",
    "          \"71\",\n",
    "          \"72\",\n",
    "          \"73\",\n",
    "          \"74\",\n",
    "          \"75\",\n",
    "          \"76\",\n",
    "          \"77\",\n",
    "          \"78\",\n",
    "          \"79\",\n",
    "          \"80\",\n",
    "          \"81\",\n",
    "          \"82\",\n",
    "          \"83\",\n",
    "          \"84\",\n",
    "          \"85\",\n",
    "          \"86\",\n",
    "          \"87\",\n",
    "          \"88\",\n",
    "          \"89\",\n",
    "          \"90\",\n",
    "          \"91\",\n",
    "          \"92\",\n",
    "          \"93\",\n",
    "          \"94\",\n",
    "          \"95\",\n",
    "          \"96\",\n",
    "          \"97\",\n",
    "          \"98\",\n",
    "          \"99\",\n",
    "          \"100+\"\n",
    "        ]\n",
    "      }\n",
    "    },\n",
    "    {\n",
    "      \"code\": \"Kon\",\n",
    "      \"selection\": {\n",
    "        \"filter\": \"item\",\n",
    "        \"values\": [\n",
    "          \"1\",\n",
    "          \"2\"\n",
    "        ]\n",
    "      }\n",
    "    }\n",
    "  ],\n",
    "  \"response\": {\n",
    "    \"format\": \"json\"\n",
    "  }\n",
    "}"
   ]
  },
  {
   "cell_type": "code",
   "execution_count": null,
   "metadata": {},
   "outputs": [],
   "source": [
    "# define parameters for SCB's JSON API for death data #\n",
    "# don't forget to change the default 'px' response format to 'json' bottom of the dead_query data struct #\n",
    "\n",
    "# DEAD AT AGE BY END OF YEAR #\n",
    "#dead_url = 'http://api.scb.se/OV0104/v1/doris/en/ssd/START/BE/BE0101/BE0101I/DodaFodelsearK'\n",
    "\n",
    "# DEAD AT AGE REACHED AT TIME OF DEATH #\n",
    "dead_url = 'http://api.scb.se/OV0104/v1/doris/sv/ssd/START/BE/BE0101/BE0101I/DodaHandelseK'\n",
    "\n",
    "dead_query = {\n",
    "  \"query\": [\n",
    "    {\n",
    "      \"code\": \"Region\",\n",
    "      \"selection\": {\n",
    "        \"filter\": \"vs:RegionRiket99\",\n",
    "        \"values\": [\n",
    "          \"00\"\n",
    "        ]\n",
    "      }\n",
    "    },\n",
    "    {\n",
    "      \"code\": \"Alder\",\n",
    "      \"selection\": {\n",
    "        \"filter\": \"vs:Ålder1årA\",\n",
    "        \"values\": [\n",
    "          \"0\",\n",
    "          \"1\",\n",
    "          \"2\",\n",
    "          \"3\",\n",
    "          \"4\",\n",
    "          \"5\",\n",
    "          \"6\",\n",
    "          \"7\",\n",
    "          \"8\",\n",
    "          \"9\",\n",
    "          \"10\",\n",
    "          \"11\",\n",
    "          \"12\",\n",
    "          \"13\",\n",
    "          \"14\",\n",
    "          \"15\",\n",
    "          \"16\",\n",
    "          \"17\",\n",
    "          \"18\",\n",
    "          \"19\",\n",
    "          \"20\",\n",
    "          \"21\",\n",
    "          \"22\",\n",
    "          \"23\",\n",
    "          \"24\",\n",
    "          \"25\",\n",
    "          \"26\",\n",
    "          \"27\",\n",
    "          \"28\",\n",
    "          \"29\",\n",
    "          \"30\",\n",
    "          \"31\",\n",
    "          \"32\",\n",
    "          \"33\",\n",
    "          \"34\",\n",
    "          \"35\",\n",
    "          \"36\",\n",
    "          \"37\",\n",
    "          \"38\",\n",
    "          \"39\",\n",
    "          \"40\",\n",
    "          \"41\",\n",
    "          \"42\",\n",
    "          \"43\",\n",
    "          \"44\",\n",
    "          \"45\",\n",
    "          \"46\",\n",
    "          \"47\",\n",
    "          \"48\",\n",
    "          \"49\",\n",
    "          \"50\",\n",
    "          \"51\",\n",
    "          \"52\",\n",
    "          \"53\",\n",
    "          \"54\",\n",
    "          \"55\",\n",
    "          \"56\",\n",
    "          \"57\",\n",
    "          \"58\",\n",
    "          \"59\",\n",
    "          \"60\",\n",
    "          \"61\",\n",
    "          \"62\",\n",
    "          \"63\",\n",
    "          \"64\",\n",
    "          \"65\",\n",
    "          \"66\",\n",
    "          \"67\",\n",
    "          \"68\",\n",
    "          \"69\",\n",
    "          \"70\",\n",
    "          \"71\",\n",
    "          \"72\",\n",
    "          \"73\",\n",
    "          \"74\",\n",
    "          \"75\",\n",
    "          \"76\",\n",
    "          \"77\",\n",
    "          \"78\",\n",
    "          \"79\",\n",
    "          \"80\",\n",
    "          \"81\",\n",
    "          \"82\",\n",
    "          \"83\",\n",
    "          \"84\",\n",
    "          \"85\",\n",
    "          \"86\",\n",
    "          \"87\",\n",
    "          \"88\",\n",
    "          \"89\",\n",
    "          \"90\",\n",
    "          \"91\",\n",
    "          \"92\",\n",
    "          \"93\",\n",
    "          \"94\",\n",
    "          \"95\",\n",
    "          \"96\",\n",
    "          \"97\",\n",
    "          \"98\",\n",
    "          \"99\",\n",
    "          \"100+\"\n",
    "        ]\n",
    "      }\n",
    "    },\n",
    "    {\n",
    "      \"code\": \"Kon\",\n",
    "      \"selection\": {\n",
    "        \"filter\": \"item\",\n",
    "        \"values\": [\n",
    "          \"1\",\n",
    "          \"2\"\n",
    "        ]\n",
    "      }\n",
    "    },\n",
    "    {\n",
    "      \"code\": \"Tid\",\n",
    "      \"selection\": {\n",
    "        \"filter\": \"item\",\n",
    "        \"values\": [\n",
    "          \"2002\",\n",
    "          \"2003\",\n",
    "          \"2004\",\n",
    "          \"2005\",\n",
    "          \"2006\",\n",
    "          \"2007\",\n",
    "          \"2008\",\n",
    "          \"2009\",\n",
    "          \"2010\",\n",
    "          \"2011\",\n",
    "          \"2012\",\n",
    "          \"2013\",\n",
    "          \"2014\",\n",
    "          \"2015\",\n",
    "          \"2016\",\n",
    "          \"2017\",\n",
    "          \"2018\",\n",
    "          \"2019\",\n",
    "          \"2020\",\n",
    "          \"2021\"\n",
    "          \n",
    "        ]\n",
    "      }\n",
    "    }\n",
    "  ],\n",
    "  \"response\": {\n",
    "    \"format\": \"json\"\n",
    "  }\n",
    "}"
   ]
  },
  {
   "cell_type": "code",
   "execution_count": null,
   "metadata": {},
   "outputs": [],
   "source": [
    "### function to fetch SCB population or death data, returns 3 DataFrames w. different age binnings ### \n",
    "\n",
    "def fetch_scb_data(url,query,param='pop'):\n",
    "    \n",
    "    # call the API, check HTML status code (should be 200 for success) #\n",
    "\n",
    "    r= requests.post(url,json=query)\n",
    "    print ('HTML status code fetching {}: '.format(param),r.status_code)\n",
    "    \n",
    "    # extract the json data section from the response #\n",
    "\n",
    "    json_data = r.json()['data'] # get the data section (skip metadata) #\n",
    "\n",
    "    # we get two dictionaries : 'key' and 'values' #\n",
    "    # 'key' attributes are : 'geo' (all of sweden), 'age','gender','year' #\n",
    "    # 'values' attribute is : 'population' / 'dead' #\n",
    "    \n",
    "    # check the first record to figure out the structure of the data #\n",
    "    print ('record layout for {}: '.format(param),json_data[0])\n",
    "    \n",
    "    # create a Pandas DataFrame from the list of dictionaries, and massage it to a decent structure #\n",
    "\n",
    "    age_df = pd.DataFrame.from_dict(json_data)\n",
    "    age_df[['area','age','gender','year']] = age_df['key'].to_list() # split keys to separate columns #\n",
    "\n",
    "    age_df[param] = age_df['values'].apply(\n",
    "        lambda x : x[0]).astype(int) # extract size from the values list #\n",
    "\n",
    "    age_df['num_age'] = age_df['age'].apply(\n",
    "        lambda x :x.replace('+','')).astype(int) # create numeric age column #\n",
    "\n",
    "    age_df = age_df.drop(['key','values','area'],axis=1) # delete unwanted columns #\n",
    "\n",
    "    # combine the two genders #\n",
    "    age_df = age_df.groupby(['year','num_age']).sum()\n",
    "\n",
    "    # bin the data to the same age bins that are used in SCB's prel. death data #\n",
    "    age_df['scb_prel_age_bin'] = pd.cut(age_df.index.get_level_values(1),[-1,64,79,89,200],\n",
    "                                        labels=['-64','65-79','80-89','90+'])\n",
    "    \n",
    "    # and finally, for each year, combine the 1 year age bin sums to match the 4 age bins of the prel death data #\n",
    "\n",
    "    age_scb_prel_df = age_df.groupby([age_df.index.get_level_values(0),\n",
    "                                                      'scb_prel_age_bin']).sum()\n",
    "    \n",
    "    # create a df with total yearly values #\n",
    "    df = age_scb_prel_df.groupby('year').sum()\n",
    "    \n",
    "    \n",
    "    \n",
    "\n",
    "    return age_df,age_scb_prel_df,df\n",
    "    "
   ]
  },
  {
   "cell_type": "code",
   "execution_count": null,
   "metadata": {
    "scrolled": false
   },
   "outputs": [],
   "source": [
    "### get the population & death data from SCB ###\n",
    "pop_age_df,pop_age_scb_prel_df,pop_df = fetch_scb_data(pop_url,pop_query,param='pop')\n",
    "dead_age_df,dead_age_scb_prel_df,dead_df = fetch_scb_data(dead_url,dead_query,param='dead')\n",
    "print (pop_age_df.tail())\n",
    "print (pop_age_scb_prel_df.tail())\n",
    "print(pop_df.tail())"
   ]
  },
  {
   "cell_type": "code",
   "execution_count": null,
   "metadata": {},
   "outputs": [],
   "source": [
    "### combine the pop & death data to 3 separate, complete df's with: ###\n",
    "### 1) 1 year age bins; 2) 4 age bins as with scb prel death data, 3) no age bins ###\n",
    "\n",
    "one_year_binned = pd.DataFrame(pop_age_df['pop']).join(dead_age_df['dead'])\n",
    "scb_prel_binned = pd.DataFrame(pop_age_scb_prel_df['pop']).join(dead_age_scb_prel_df['dead'])\n",
    "no_bins = pd.DataFrame(pop_df['pop']).join(dead_df['dead'])\n"
   ]
  },
  {
   "cell_type": "code",
   "execution_count": null,
   "metadata": {},
   "outputs": [],
   "source": [
    "one_year_binned"
   ]
  },
  {
   "cell_type": "code",
   "execution_count": null,
   "metadata": {},
   "outputs": [],
   "source": [
    "scb_prel_binned.tail(20)"
   ]
  },
  {
   "cell_type": "code",
   "execution_count": null,
   "metadata": {},
   "outputs": [],
   "source": [
    "### now we need to fetch the prel death data which do no yet reside in the scb database ###\n",
    "'''\n",
    "scb_prel_url = \"https://www.scb.se/hitta-statistik/statistik-efter-amne/befolkning/'\\\n",
    "'befolkningens-sammansattning/befolkningsstatistik/pong/tabell-och-diagram/preliminar-statistik-over-doda/\"\n",
    "\n",
    "scb_prel_url = \"https://scb.se/link/0fec627c501e476aacf7ae328c7a4a8b.aspx\"\n",
    "\n",
    "scb_prel_url = \"https://www.scb.se/hitta-statistik/statistik-efter-amne/befolkning/befolkningens-sammansattning/befolkningsstatistik/pong/tabell-och-diagram/preliminar-statistik-over-doda-publicerad-2021-05-17/\"\n",
    "\n",
    "\n",
    "scb_prel_url = \"https://scb.se/hitta-statistik/statistik-efter-amne/befolkning/befolkningens-sammansattning/befolkningsstatistik/pong/tabell-och-diagram/preliminar-statistik-over-doda/\"\n",
    "'''\n",
    "\n",
    "scb_prel_url = \"https://scb.se/link/0fec627c501e476aacf7ae328c7a4a8b.aspx\"\n",
    "scb_prel_file = pd.ExcelFile(scb_prel_url)"
   ]
  },
  {
   "cell_type": "code",
   "execution_count": null,
   "metadata": {},
   "outputs": [],
   "source": [
    "# check the sheet names #\n",
    "# Tabell 1 contains the daily, non age-binned data #\n",
    "\n",
    "scb_prel_file.sheet_names"
   ]
  },
  {
   "cell_type": "code",
   "execution_count": null,
   "metadata": {},
   "outputs": [],
   "source": [
    "last_reported_date = scb_prel_file.parse('Info',usecols=[15]).dropna()\n",
    "last_reported_date"
   ]
  },
  {
   "cell_type": "code",
   "execution_count": null,
   "metadata": {},
   "outputs": [],
   "source": [
    "# parse the prel daily death data,NON-AGE-BASED #\n",
    "\n",
    "'''\n",
    "format:\n",
    "DATE|15|16|17|18|19|20|21|15-19|16-20\n",
    "\n",
    "'''\n",
    "\n",
    "scb_prel_daily = scb_prel_file.parse(sheet_name='Tabell 1',skiprows=6,usecols=range(10))\n",
    "\n",
    "scb_prel_daily\n"
   ]
  },
  {
   "cell_type": "code",
   "execution_count": null,
   "metadata": {},
   "outputs": [],
   "source": [
    "# get the deaths occurred on unknown days #\n",
    "unknown_death_day = scb_prel_daily.iloc[-1,1:]\n",
    "\n",
    "# remove the unknown deaths from the df and drop the DagMånad column #\n",
    "\n",
    "scb_prel_daily = scb_prel_daily.iloc[:-1,1:]\n",
    "scb_prel_daily"
   ]
  },
  {
   "cell_type": "code",
   "execution_count": null,
   "metadata": {},
   "outputs": [],
   "source": [
    "# let's allocate the unknown deaths proportionally to the days of year #\n",
    "\n",
    "daily_proportion_of_total_deaths = scb_prel_daily / scb_prel_daily.sum()\n",
    "deaths_to_add = daily_proportion_of_total_deaths * unknown_death_day\n",
    "scb_prel_daily += deaths_to_add\n",
    "scb_prel_daily"
   ]
  },
  {
   "cell_type": "code",
   "execution_count": null,
   "metadata": {},
   "outputs": [],
   "source": [
    "total_deaths = scb_prel_daily.sum()\n",
    "total_deaths.plot(kind='bar',figsize=(18,12))\n",
    "total_deaths"
   ]
  },
  {
   "cell_type": "code",
   "execution_count": null,
   "metadata": {},
   "outputs": [],
   "source": [
    "# non-age-adjusted #\n",
    "colors = ['k','blue','lime','orange','red']\n",
    "scb_prel_daily.loc[:,'2018':'2022'].cumsum().plot(figsize=(18,12),color=colors,marker='.')"
   ]
  },
  {
   "cell_type": "code",
   "execution_count": null,
   "metadata": {},
   "outputs": [],
   "source": [
    "title = 'SWEDEN daily cumulative number of all cause deaths 2018 - 2022 YTD\\nDataSource : scb.se'\n",
    "last_2022_day = scb_prel_daily.loc[:,'2022'].dropna().cumsum().index[-1]\n",
    "ax = scb_prel_daily.loc[:last_2022_day,'2018' : '2022'].cumsum().plot(figsize=(18,12),title=title,\n",
    "                                                                 color=colors,marker='o')\n",
    "\n",
    "ax.set_ylabel(' cumulative # of daily deaths')\n",
    "ax.set_xlabel('day of year')\n",
    "\n",
    "plt.savefig('scb_excess_daily_deaths_YTD.jpg',format='jpg')"
   ]
  },
  {
   "cell_type": "code",
   "execution_count": null,
   "metadata": {},
   "outputs": [],
   "source": [
    "scb_prel_daily.loc[:last_2022_day,'2018' : '2022'].loc[59]"
   ]
  },
  {
   "cell_type": "code",
   "execution_count": null,
   "metadata": {},
   "outputs": [],
   "source": [
    "### let's add the prel 2021 daily death total to no_bins df ###\n",
    "no_bins\n",
    "\n",
    "### NO NEED if offical prev.year numbers available ###\n",
    "#no_bins.loc[str(previous_year),'dead'] = total_deaths[str(previous_year)]\n",
    "no_bins"
   ]
  },
  {
   "cell_type": "code",
   "execution_count": null,
   "metadata": {},
   "outputs": [],
   "source": [
    "### get the age group binned prel death data ###\n",
    "\n",
    "### this is used to get the prel. numbers of the year just ended, until the official data for prev. year arrives\n",
    "\n",
    "'''\n",
    "\n",
    "YEAR|DATE|TOTAL|MEN TOT|MEN-64|MEN-79|MEN-89|MEN-90|WOMEN TOT|WOMEN-64|WOMEN-79|WOMEN-89|WOMEN-90\n",
    "\n",
    "'''\n",
    "\n",
    "scb_prel_age = scb_prel_file.parse('Tabell 2',skiprows=7,usecols=[0,1,4,5,6,7,9,10,11,12])\n",
    "\n",
    "### Before offical data for prev. year avail, after YC, read the prel data for the previous year ###\n",
    "\n",
    "### YC : change the next line year to previous year ###\n",
    "scb_prel_age = scb_prel_age.loc[scb_prel_age['År'] == previous_year]\n",
    "\n",
    "scb_prel_age = scb_prel_age[::-1] # reverse order\n",
    "scb_prel_age.drop(['År','DagMånad'],axis=1,inplace=True)\n",
    "\n",
    "# remove yearly summary #\n",
    "scb_prel_age = scb_prel_age.iloc[1:]\n",
    "\n",
    "\n",
    "print (scb_prel_age.head(20))\n",
    "\n",
    "scb_prel_age\n"
   ]
  },
  {
   "cell_type": "code",
   "execution_count": null,
   "metadata": {},
   "outputs": [],
   "source": [
    "### function to combine gender specific deaths per age group to age grp total ###\n",
    "\n",
    "def combine_ages(col):\n",
    "    \n",
    "    class AgeError(Exception):\n",
    "        pass\n",
    "    \n",
    "    if '0-64' in col:\n",
    "        return '-64'\n",
    "    if '65-79' in col:\n",
    "        return '65-79'\n",
    "    if '80-89' in col:\n",
    "        return '80-89'\n",
    "    if '90+' in col:\n",
    "        return '90+'\n",
    "    else:\n",
    "        return AgeError('no such age group')\n",
    "    "
   ]
  },
  {
   "cell_type": "code",
   "execution_count": null,
   "metadata": {},
   "outputs": [],
   "source": [
    "### combine the two genders ###\n",
    "scb_prel_age = scb_prel_age.groupby(combine_ages,axis=1).sum()\n",
    "scb_prel_age"
   ]
  },
  {
   "cell_type": "code",
   "execution_count": null,
   "metadata": {},
   "outputs": [],
   "source": [
    "unknown_prev_year_age_date = scb_prel_age.iloc[0] # get deaths with unknown date #\n",
    "scb_prel_age = scb_prel_age.iloc[1:] # drop unknown dates from df #\n",
    "unknown_prev_year_age_date"
   ]
  },
  {
   "cell_type": "code",
   "execution_count": null,
   "metadata": {},
   "outputs": [],
   "source": [
    "### add unknown deaths proportionally to the days ###\n",
    "prop_deaths_per_day = scb_prel_age / scb_prel_age.sum()\n",
    "add_ons = prop_deaths_per_day * unknown_prev_year_age_date\n",
    "scb_prel_age += add_ons\n",
    "scb_prel_age.sum().sum()"
   ]
  },
  {
   "cell_type": "code",
   "execution_count": null,
   "metadata": {},
   "outputs": [],
   "source": [
    "### get the entire previous year prel data ###\n",
    "### YC : change date range after new year, when first new data come in ###\n",
    "\n",
    "### set datetime index ###\n",
    "scb_prel_age.index = pd.date_range(str(previous_year) +'-01-01',str(previous_year) +'-12-31')\n",
    "scb_prel_age"
   ]
  },
  {
   "cell_type": "code",
   "execution_count": null,
   "metadata": {},
   "outputs": [],
   "source": [
    "### totals per age group ###\n",
    "scb_age_prev_year_total = scb_prel_age.sum()\n",
    "print (scb_age_prev_year_total)\n",
    "print (scb_age_prev_year_total.sum())"
   ]
  },
  {
   "cell_type": "code",
   "execution_count": null,
   "metadata": {},
   "outputs": [],
   "source": [
    "### total totals for prev.year ###\n",
    "scb_age_prev_year_total.sum()"
   ]
  },
  {
   "cell_type": "code",
   "execution_count": null,
   "metadata": {},
   "outputs": [],
   "source": [
    "### now, let's add the prev year prel death data to the age binned death dataframe from above ###\n",
    "\n",
    "# first we need a multi-index for prev for the 4 age groups # \n",
    "\n",
    "idx = pd.MultiIndex.from_arrays([ [str(previous_year)] * len (scb_prel_age.columns), scb_prel_age.columns ])\n",
    "\n",
    "scb_age_prev_year_total.index = idx\n",
    "scb_age_prev_year_total.name='dead'\n",
    "scb_age_prev_year_total = pd.DataFrame(scb_age_prev_year_total)\n",
    "scb_age_prev_year_total"
   ]
  },
  {
   "cell_type": "code",
   "execution_count": null,
   "metadata": {},
   "outputs": [],
   "source": [
    "scb_prel_binned"
   ]
  },
  {
   "cell_type": "code",
   "execution_count": null,
   "metadata": {},
   "outputs": [],
   "source": [
    "### and now let's add prev year to the scb_prel_binned_df ###\n",
    "\n",
    "### NO NEED - official after official death numbersavailable ###\n",
    "#scb_prel_binned.at['2021','dead'] = scb_age_prev_year_total\n",
    "scb_prel_binned.tail(40)"
   ]
  },
  {
   "cell_type": "code",
   "execution_count": null,
   "metadata": {},
   "outputs": [],
   "source": [
    "### yearly totals calculated on the age binned data ###\n",
    "\n",
    "scb_prel_binned.groupby('year').sum()"
   ]
  },
  {
   "cell_type": "code",
   "execution_count": null,
   "metadata": {},
   "outputs": [],
   "source": [
    "### now, let's add age group based mortality ###\n",
    "scb_prel_binned['mortality'] = scb_prel_binned['dead'] / scb_prel_binned['pop']\n",
    "scb_prel_binned.loc['2015':]"
   ]
  },
  {
   "cell_type": "code",
   "execution_count": null,
   "metadata": {},
   "outputs": [],
   "source": [
    "### let's define 2019 as our standard population, for age adjusted overall mortality ###\n",
    "### and then use 'standardized deaths', that is, absolute deaths based on ACTUAL yearly mortality ###\n",
    "### acting on the standard population. I.e we are computing the number absolute deaths given actual ###\n",
    "### mortality but as if the population age group sizes had been equal to that of the std year (2019) ###\n",
    "\n",
    "std_pop = scb_prel_binned.loc['2019','pop']\n",
    "\n",
    "scb_prel_binned['std_deaths'] = scb_prel_binned['mortality'] * std_pop\n",
    "scb_prel_binned"
   ]
  },
  {
   "cell_type": "code",
   "execution_count": null,
   "metadata": {},
   "outputs": [],
   "source": [
    "### now, to compute age adj mortality, for each year we sum the age_group std_deaths ###\n",
    "### and divide by total std_population ###\n",
    "\n",
    "age_adj_mortality = scb_prel_binned.groupby('year').sum()['std_deaths'] / std_pop.sum()\n",
    "age_adj_mortality"
   ]
  },
  {
   "cell_type": "code",
   "execution_count": null,
   "metadata": {},
   "outputs": [],
   "source": [
    "title = 'SWEDEN Age Adj. Mortality (age_grps : [<=64,65-79,80-89,>=90], std.pop : 2019) 2002-2021\\nDataSource : scb.se'\n",
    "colors = ['red'] * len (age_adj_mortality)\n",
    "#colors[-1] = 'orange'\n",
    "\n",
    "age_adj_mortality.plot(kind='bar',figsize=(18,12),color=colors,title=title)\n",
    "plt.ylabel('age adjusted mortality')\n",
    "_= plt.yticks(np.arange(0,0.012,0.0005))\n",
    "\n",
    "plt.savefig('SCB_excess_age_adj_mortality.jpg',format='jpg')"
   ]
  },
  {
   "cell_type": "code",
   "execution_count": null,
   "metadata": {},
   "outputs": [],
   "source": [
    "### lets compute non-age-adj mortality ###\n",
    "no_bins['mortality'] = no_bins['dead'] / no_bins['pop']\n",
    "no_bins.to_pickle('no_bins.pkl')\n",
    "no_bins"
   ]
  },
  {
   "cell_type": "code",
   "execution_count": null,
   "metadata": {},
   "outputs": [],
   "source": [
    "title = 'SWEDEN Mortality (deaths / capita) 2002-2021\\nDataSource : scb.se'\n",
    "colors = ['orange'] * len (age_adj_mortality)\n",
    "#colors[-1] = 'orange'\n",
    "\n",
    "no_bins.plot(y='mortality',kind='bar',figsize=(18,12),color=colors,title=title)\n",
    "plt.ylabel('mortality')\n",
    "_= plt.yticks(np.arange(0,0.011,0.0005))\n",
    "plt.savefig('SCB_excess_mortality.jpg',format='jpg')"
   ]
  },
  {
   "cell_type": "code",
   "execution_count": null,
   "metadata": {},
   "outputs": [],
   "source": [
    "### age adj Mortality baselines ###\n",
    "\n",
    "age_adj_grp_mort_base_15_18 = scb_prel_binned.loc['2015':'2018','mortality'].groupby('scb_prel_age_bin').mean()\n",
    "age_adj_grp_mort_base_15_19 = scb_prel_binned.loc['2015' :'2019','mortality'].groupby('scb_prel_age_bin').mean()\n",
    "\n",
    "print ('base_15_18_mortality :',age_adj_grp_mort_base_15_18)\n",
    "print ()\n",
    "print ('base_15_19_mortality :',age_adj_grp_mort_base_15_19)"
   ]
  },
  {
   "cell_type": "code",
   "execution_count": null,
   "metadata": {},
   "outputs": [],
   "source": [
    "### compute expected age grp deaths given mortality per age group is baseline mortality ###\n",
    "scb_prel_binned['exp_dead_base_15_18'] = scb_prel_binned['pop'] * age_adj_grp_mort_base_15_18\n",
    "scb_prel_binned['exp_dead_base_15_19'] = scb_prel_binned['pop'] * age_adj_grp_mort_base_15_19"
   ]
  },
  {
   "cell_type": "code",
   "execution_count": null,
   "metadata": {},
   "outputs": [],
   "source": [
    "### compute excess age grp deaths as diff actual age grp deaths - expected age grp deaths ### \n",
    "scb_prel_binned['excess_15_18'] = scb_prel_binned['dead'] - scb_prel_binned['exp_dead_base_15_18']\n",
    "scb_prel_binned['excess_15_19'] = scb_prel_binned['dead'] - scb_prel_binned['exp_dead_base_15_19'] \n",
    "\n",
    "scb_prel_binned"
   ]
  },
  {
   "cell_type": "code",
   "execution_count": null,
   "metadata": {},
   "outputs": [],
   "source": [
    "### compute yearly sums of total excess deaths based on age groups ###\n",
    "age_grp_based_excess_deaths = scb_prel_binned.groupby('year')[['excess_15_18','excess_15_19']].sum()\n",
    "age_grp_based_excess_deaths"
   ]
  },
  {
   "cell_type": "code",
   "execution_count": null,
   "metadata": {},
   "outputs": [],
   "source": [
    "### compute non-age-adj baselines ###\n",
    "mort_15_18_base = no_bins.loc['2015':'2018']['mortality'].mean()\n",
    "mort_15_19_base = no_bins.loc['2015' : '2019']['mortality'].mean()\n",
    "\n",
    "print ('non-age-adj-mort_base_15_18 :',mort_15_18_base)\n",
    "print ()\n",
    "print ('non-age_adj-mort_base_15_19 :',mort_15_19_base)"
   ]
  },
  {
   "cell_type": "code",
   "execution_count": null,
   "metadata": {},
   "outputs": [],
   "source": [
    "### compute expected deaths given these baselines ###\n",
    "no_bins['exp_dead_base_15_18'] = no_bins['pop'] * mort_15_18_base\n",
    "no_bins['exp_dead_base_15_19'] = no_bins['pop'] * mort_15_19_base\n",
    "\n",
    "no_bins"
   ]
  },
  {
   "cell_type": "code",
   "execution_count": null,
   "metadata": {},
   "outputs": [],
   "source": [
    "### compute excess deaths given the two expectations ###\n",
    "\n",
    "no_bins['excess_15_18'] = no_bins['dead'] - no_bins['exp_dead_base_15_18']\n",
    "no_bins['excess_15_19'] = no_bins['dead'] - no_bins['exp_dead_base_15_19']\n",
    "\n",
    "no_bins[['pop','dead']].to_pickle('pop_and_dead_2002_2020.pkl')\n",
    "no_bins"
   ]
  },
  {
   "cell_type": "code",
   "execution_count": null,
   "metadata": {},
   "outputs": [],
   "source": [
    "### finally, let's compute the excess for absolute deaths, with the same baseline years ###\n",
    "abs_base_15_18 = no_bins.loc['2015' : '2018','dead'].mean()\n",
    "abs_base_15_19 = no_bins.loc['2015' : '2019','dead'].mean()\n",
    "\n",
    "print ('abs_base_15_18 :',abs_base_15_18)\n",
    "print ('abs_base_15_19 :',abs_base_15_19)"
   ]
  },
  {
   "cell_type": "code",
   "execution_count": null,
   "metadata": {},
   "outputs": [],
   "source": [
    "abs_excess = pd.DataFrame({'15_18_base' : no_bins['dead'] - abs_base_15_18,\n",
    "                          '15_19_base' : no_bins['dead'] - abs_base_15_19})\n",
    "abs_excess\n"
   ]
  },
  {
   "cell_type": "code",
   "execution_count": null,
   "metadata": {},
   "outputs": [],
   "source": [
    "### summary of excess deaths, computed in different ways, with two different baselines (15-18,15-19) ###\n",
    "\n",
    "print ('\\n2020 excess deaths :\\n'.upper())\n",
    "\n",
    "print ('Absolute excess deaths cmp baseline 15-18 :',abs_excess.loc['2020','15_18_base'].astype(int))\n",
    "print ('\\nAbsolute excess deaths cmp baseline 15-19 :',abs_excess.loc['2020','15_19_base'].astype(int))\n",
    "print ('\\nPopulation adjusted excess deaths cmp baseline 15-18 :',no_bins.loc['2020','excess_15_18'].astype(int))\n",
    "print ('\\nPopulation adjusted excess deaths cmp baseline 15-19 :',no_bins.loc['2020','excess_15_19'].astype(int))\n",
    "\n",
    "print ('\\nAge adjusted excess deaths cmp baseline 15-18 :',\n",
    "       age_grp_based_excess_deaths.loc['2020','excess_15_18'].astype(int))\n",
    "\n",
    "print ('\\nAge adjusted excess deaths cmp baseline 15-19 :',\n",
    "       age_grp_based_excess_deaths.loc['2020','excess_15_19'].astype(int))\n",
    "\n",
    "print ('\\n2019 death deficit :\\n'.upper())\n",
    "\n",
    "print ('Absolute death deficit cmp baseline 15-18 :',abs_excess.loc['2019','15_18_base'].astype(int))\n",
    "print ('\\nAbsolute death deficit cmp baseline 15-19 :',abs_excess.loc['2019','15_19_base'].astype(int))\n",
    "print ('\\nPopulation adjusted death deficit cmp baseline 15-18 :',no_bins.loc['2019','excess_15_18'].astype(int))\n",
    "print ('\\nPopulation adjusted death deficit cmp baseline 15-19 :',no_bins.loc['2019','excess_15_19'].astype(int))\n",
    "\n",
    "print ('\\nAge adjusted death deficit cmp baseline 15-18 :',\n",
    "       age_grp_based_excess_deaths.loc['2019','excess_15_18'].astype(int))\n",
    "\n",
    "print ('\\nAge adjusted death deficit cmp baseline 15-19 :',\n",
    "       age_grp_based_excess_deaths.loc['2019','excess_15_19'].astype(int))\n",
    "\n",
    "\n"
   ]
  },
  {
   "cell_type": "code",
   "execution_count": null,
   "metadata": {},
   "outputs": [],
   "source": [
    "title = 'SWEDEN population & absolute deaths 2002 - 2021\\nDataSource : scb.se'\n",
    "ax = no_bins['dead'].plot(style='ro--',figsize=(18,12),label='abs deaths',title=title)\n",
    "ax.set_ylim([80000,100000])\n",
    "\n",
    "ax2 = plt.twinx()\n",
    "\n",
    "no_bins['pop'].plot(ax=ax2,style='bo--',label='population')\n",
    "\n",
    "ax.legend(loc='upper left')\n",
    "ax2.legend(loc='upper center')\n",
    "\n",
    "ax.set_ylabel('absolute deaths')\n",
    "ax2.set_ylabel('population')"
   ]
  },
  {
   "cell_type": "code",
   "execution_count": null,
   "metadata": {},
   "outputs": [],
   "source": []
  },
  {
   "cell_type": "code",
   "execution_count": null,
   "metadata": {},
   "outputs": [],
   "source": [
    "title = 'SWEDEN mortality (deaths/capita) 2002 - 2021\\nDataSource : scb.se'\n",
    "no_bins.plot(y='mortality',figsize=(18,12),style='o--',title=title)\n",
    "plt.ylabel('population adj. absolute excess deaths')\n",
    "\n"
   ]
  },
  {
   "cell_type": "code",
   "execution_count": null,
   "metadata": {},
   "outputs": [],
   "source": [
    "title = 'SWEDEN age adjusted mortality 2002-2021 (std.pop : 2019)\\nDataSource : scb.se'\n",
    "age_adj_mortality.plot(figsize=(18,12),style='ro--',title=title)\n",
    "plt.ylabel('age adj. mortality')"
   ]
  },
  {
   "cell_type": "code",
   "execution_count": null,
   "metadata": {},
   "outputs": [],
   "source": [
    "title = 'SWEDEN absolute excess deaths 2002-2021, two different baselines\\nDataSource : scb.se'\n",
    "abs_excess.plot(figsize=(18,12),style='o--',title=title)\n",
    "plt.ylabel('absolute excess deaths')"
   ]
  },
  {
   "cell_type": "code",
   "execution_count": null,
   "metadata": {},
   "outputs": [],
   "source": [
    "title = 'SWEDEN population adjusted excess deaths 2002-2021\\nDataSource : scb.se'\n",
    "no_bins.plot(y=['excess_15_18','excess_15_19'],style='o--',figsize=(18,12),title=title)\n",
    "plt.ylabel('population adjusted excess deaths')\n",
    "plt.axhline(0,ls='dashed',color='k')"
   ]
  },
  {
   "cell_type": "code",
   "execution_count": null,
   "metadata": {},
   "outputs": [],
   "source": [
    "title = 'SWEDEN age adjusted excess deaths 2002-2021 (std pop 2019), two different baselines\\nDataSource : scb.se'\n",
    "age_grp_based_excess_deaths.plot(figsize=(18,12),style='o--',title=title)\n",
    "plt.ylabel('age adj. excess deaths')\n",
    "plt.axhline(0,ls='dashed',color='k')\n",
    "_= plt.yticks(np.arange(-5000,21000,1000))\n",
    "plt.savefig('SCB_excess_excess_deaths_2002_2020.jpg',format='jpg')"
   ]
  },
  {
   "cell_type": "code",
   "execution_count": null,
   "metadata": {},
   "outputs": [],
   "source": [
    "age_mortality_flat = scb_prel_binned['mortality'].unstack()\n",
    "age_mortality_flat"
   ]
  },
  {
   "cell_type": "code",
   "execution_count": null,
   "metadata": {},
   "outputs": [],
   "source": [
    "### age group mortality growth vs base  15-18 ###\n",
    "age_mort_growth_vs_base = age_mortality_flat / age_adj_grp_mort_base_15_18\n",
    "age_mort_growth_vs_base"
   ]
  },
  {
   "cell_type": "code",
   "execution_count": null,
   "metadata": {},
   "outputs": [],
   "source": [
    "no_bins.loc['2015' : '2019','mortality']"
   ]
  },
  {
   "cell_type": "code",
   "execution_count": null,
   "metadata": {},
   "outputs": [],
   "source": [
    "### non-age-adj growth vs base 15-18 ###\n",
    "no_bins['mortality'] / no_bins.loc['2015' : '2018','mortality'].mean()\n"
   ]
  },
  {
   "cell_type": "code",
   "execution_count": null,
   "metadata": {},
   "outputs": [],
   "source": [
    "### abs growth ### \n",
    "scb_prel_daily['2020'].sum() / scb_prel_daily['2015-2019'].sum()"
   ]
  },
  {
   "cell_type": "code",
   "execution_count": null,
   "metadata": {},
   "outputs": [],
   "source": [
    "#### sanity check ####\n",
    "(scb_prel_binned.loc['2020','pop'] * scb_prel_binned.loc['2020','mortality']).sum()"
   ]
  },
  {
   "cell_type": "code",
   "execution_count": null,
   "metadata": {},
   "outputs": [],
   "source": [
    "fig,axes = plt.subplots(2,2,figsize=(18,12))\n",
    "\n",
    "x_labels = [age_mortality_flat.index[i] for i in range(len(age_mortality_flat))]\n",
    "\n",
    "rows = [0,0,1,1]\n",
    "\n",
    "plt.suptitle('SWEDEN Mortality Trend 2002 - 2021 per Age Group\\nDataSource : SCB.se')\n",
    "\n",
    "for i,grp in enumerate(age_mortality_flat.columns):\n",
    "    \n",
    "    axes[rows[i],i%2].plot(age_mortality_flat[grp],'o--')\n",
    "    axes[rows[i],i%2].set_title('Age Group {}'.format(grp))\n",
    "    axes[rows[i],i%2].set_xticklabels(x_labels,rotation=90)\n",
    "    axes[rows[i],i%2].set_ylabel('mortality')\n",
    "    \n",
    "    axes[rows[i],i%2].axhline(age_adj_grp_mort_base_15_18.iloc[i],\n",
    "                              ls='dashed',color='orange',label='baseline_15_18')\n",
    "    \n",
    "    axes[rows[i],i%2].axhline(age_adj_grp_mort_base_15_19.iloc[i],\n",
    "                              ls='dashed',color='red',label='baseline_15_19')\n",
    "    \n",
    "    axes[rows[i],i%2].legend(['mortality','baseline_15_18','baseline_15_19'],loc='upper right')\n",
    "    \n",
    "plt.tight_layout()\n",
    "plt.savefig('Age_grp_mortality_trends.jpg',format='jpg')"
   ]
  },
  {
   "cell_type": "code",
   "execution_count": null,
   "metadata": {},
   "outputs": [],
   "source": [
    "excess_vals = [abs_excess.loc['2020'].values,\n",
    " no_bins.loc['2020',['excess_15_18','excess_15_19']].values,\n",
    " age_grp_based_excess_deaths.loc['2020',['excess_15_18','excess_15_19']].values ]\n",
    "\n",
    "excess = pd.DataFrame(excess_vals)\n",
    "excess.columns = ['excess_rel_baseline_2015_2018','excess_rel_baseline_2015_2019']\n",
    "excess.index = ['abs_deaths','pop_adj_deaths','age_adj_deaths']\n",
    "excess = excess.astype(int)\n",
    "excess"
   ]
  },
  {
   "cell_type": "code",
   "execution_count": null,
   "metadata": {},
   "outputs": [],
   "source": [
    "title = 'SWEDEN \"Excess Deaths\" 2020 by three different methods. Two different baselines\\nDataSource : SCB.se'\n",
    "excess.plot(kind='bar',figsize=(18,12),title=title)\n",
    "plt.ylabel('Excess deaths')\n",
    "plt.xlabel('excess calculation method')\n",
    "\n",
    "plt.savefig('SCB_excess_excess_deaths.jpg',format='jpg')"
   ]
  },
  {
   "cell_type": "code",
   "execution_count": null,
   "metadata": {},
   "outputs": [],
   "source": [
    "#### let's do one for seasonal deaths as well ####\n",
    "### SECTION ###\n",
    "scb_prel_daily"
   ]
  },
  {
   "cell_type": "code",
   "execution_count": null,
   "metadata": {},
   "outputs": [],
   "source": [
    "### find out the last reported day of prev year, and define last_good_day ###\n",
    "### YC ###\n",
    "\n",
    "days_of_previous_year = len(scb_prel_daily[str(previous_year)].loc[scb_prel_daily[str(previous_year)] != np.NaN ])\n",
    "print (days_of_previous_year)\n",
    "last_data_day = pd.date_range('2021-01-01',periods=days_of_previous_year)[-1]\n",
    "print (last_data_day)\n",
    "#last_good_day = last_data_day - pd.DateOffset(weeks=2)\n",
    "last_good_day = last_data_day\n",
    "last_good_day"
   ]
  },
  {
   "cell_type": "markdown",
   "metadata": {},
   "source": [
    "scb_prel_daily.iloc[59].replace(np.nan,0,inplace=True)\n",
    "scb_prel_daily.iloc[59]"
   ]
  },
  {
   "cell_type": "code",
   "execution_count": null,
   "metadata": {},
   "outputs": [],
   "source": [
    "\n",
    "### YC ###\n",
    "leap_years = ['2016','2020']\n",
    "leap_years"
   ]
  },
  {
   "cell_type": "code",
   "execution_count": null,
   "metadata": {},
   "outputs": [],
   "source": [
    "years = ['2015','2016','2017','2018','2019','2020','2021']\n",
    "non_leap_years = ['2015','2017','2018','2019','2021']\n",
    "\n",
    "### leap day is 59 ###\n",
    "\n",
    "scb_prel_daily_leap_removed = pd.DataFrame()\n",
    "\n",
    "for y in years:\n",
    "    if y in non_leap_years:\n",
    "        tmp = scb_prel_daily[y].drop(59)\n",
    "    else:\n",
    "        tmp = scb_prel_daily[y]\n",
    "    scb_prel_daily_leap_removed = pd.concat([scb_prel_daily_leap_removed,tmp])\n",
    "    \n",
    "scb_prel_daily_leap_removed"
   ]
  },
  {
   "cell_type": "code",
   "execution_count": null,
   "metadata": {},
   "outputs": [],
   "source": []
  },
  {
   "cell_type": "code",
   "execution_count": null,
   "metadata": {},
   "outputs": [],
   "source": [
    "5 * 365 + 2 * 366"
   ]
  },
  {
   "cell_type": "code",
   "execution_count": null,
   "metadata": {},
   "outputs": [],
   "source": [
    "#### leap_day_idx : 60:th day of year in the prel datafame ####\n",
    "leap_day_idx = 59\n",
    "#leap_year_mask = scb_prel_daily.iloc[leap_day_idx] != 0\n",
    "#leap_years = scb_prel_daily.columns[leap_year_mask][:-2]\n"
   ]
  },
  {
   "cell_type": "code",
   "execution_count": null,
   "metadata": {},
   "outputs": [],
   "source": [
    "#### serialize the dataframe by years ####\n",
    "serialized_daily_15_fwd = scb_prel_daily_leap_removed\n",
    "serialized_daily_15_fwd.columns = ['dead']\n",
    "serialized_daily_15_fwd"
   ]
  },
  {
   "cell_type": "code",
   "execution_count": null,
   "metadata": {},
   "outputs": [],
   "source": [
    "366 * 6 + 1 * 366"
   ]
  },
  {
   "cell_type": "code",
   "execution_count": null,
   "metadata": {},
   "outputs": [],
   "source": [
    "scb_prel_daily"
   ]
  },
  {
   "cell_type": "code",
   "execution_count": null,
   "metadata": {},
   "outputs": [],
   "source": [
    "#### since scb_prel_daily has 366 days for each year, even those without leap days, ####\n",
    "#### we can't do a straight datetimeindex for 2015-fwd using pd.date_range(). ####\n",
    "#### Instead, we build it up year-by-year #### \n",
    "\n",
    "def build_multi_year_idx(start_year,end_year):\n",
    "    \n",
    "    serialized_idx = list(pd.date_range(str(start_year) + '-01-01',str(start_year) + '-12-31'))\n",
    "    \n",
    "    for y in range(start_year + 1,end_year + 1):\n",
    "        serialized_idx.extend(list(pd.date_range(str(y) + '-01-01',str(y) + '-12-31')))\n",
    "    return serialized_idx\n",
    "        \n",
    "serialized_idx = pd.DatetimeIndex(build_multi_year_idx(2015,previous_year))\n",
    "serialized_idx"
   ]
  },
  {
   "cell_type": "markdown",
   "metadata": {},
   "source": [
    "### assume population 2021 initially is same as 2020 ###\n",
    "pop_df.at['2021','pop'] = pop_df.loc['2020','pop']\n"
   ]
  },
  {
   "cell_type": "markdown",
   "metadata": {},
   "source": [
    "serialized_daily_15_fwd.iloc[58]"
   ]
  },
  {
   "cell_type": "markdown",
   "metadata": {},
   "source": [
    "scb_prel_daily.iloc[59]"
   ]
  },
  {
   "cell_type": "code",
   "execution_count": null,
   "metadata": {},
   "outputs": [],
   "source": [
    "#### add year,month,day explicit for convenience ####\n",
    "#### compute daily mortality ####\n",
    "\n",
    "serialized_daily_15_fwd.index = serialized_idx\n",
    "\n",
    "### skip the last two weeks of data ###\n",
    "serialized_daily_stable = serialized_daily_15_fwd.loc[:last_good_day].copy()\n",
    "serialized_daily_stable['year'] = serialized_daily_stable.index.year.astype(str)\n",
    "\n",
    "serialized_daily_stable['month'] = serialized_daily_stable.index.month\n",
    "serialized_daily_stable['day'] = serialized_daily_stable.index.day\n",
    "\n",
    "serialized_daily_stable['daily_mortality'] = serialized_daily_stable.apply(\n",
    "    lambda row : row.dead / pop_df.loc[row.year,'pop'],axis=1)\n",
    "\n",
    "serialized_daily_stable['pop'] = serialized_daily_stable.apply(lambda row : pop_df.loc[row.year,'pop'],axis=1)\n",
    "\n",
    "serialized_daily_stable"
   ]
  },
  {
   "cell_type": "code",
   "execution_count": null,
   "metadata": {},
   "outputs": [],
   "source": [
    "### proof summing daily mortality rates yields same result as by dividing dead/pop for year ###\n",
    "mort_by_div = serialized_daily_stable.groupby(\n",
    "    serialized_daily_stable.index.year)['dead'].sum() / serialized_daily_stable.groupby(\n",
    "serialized_daily_stable.index.year)['pop'].mean()\n",
    "\n",
    "mort_by_daily_sum = serialized_daily_stable.resample('Y')['daily_mortality'].sum()\n",
    "\n",
    "print (mort_by_div)\n",
    "print (mort_by_daily_sum)"
   ]
  },
  {
   "cell_type": "code",
   "execution_count": null,
   "metadata": {},
   "outputs": [],
   "source": [
    "#### define season e.g. as starting from oct 1:st to sep last ####\n",
    "\n",
    "season_start = 10 # month number\n",
    "season_end = 9\n",
    "\n",
    "#### this drops the first season of the first year (2015) from the data ####\n",
    "\n",
    "def seasonal(df,start_year,next_year):\n",
    "    first_part = df.loc[(df['month'] >= season_start) & (df['year'] == start_year)]\n",
    "    second_part = df.loc[(df['month'] <= season_end) & (df['year'] == next_year)]\n",
    "    \n",
    "    return pd.concat([first_part,second_part])\n",
    "\n"
   ]
  },
  {
   "cell_type": "code",
   "execution_count": null,
   "metadata": {},
   "outputs": [],
   "source": [
    "### drop all days not yet occurred ###\n",
    "serialized_daily_stable = serialized_daily_stable[~serialized_daily_stable['dead'].isna()]\n",
    "serialized_daily_stable"
   ]
  },
  {
   "cell_type": "code",
   "execution_count": null,
   "metadata": {},
   "outputs": [],
   "source": [
    "season_latest_day = serialized_daily_stable.index[-1].date()\n",
    "season_latest_day"
   ]
  },
  {
   "cell_type": "code",
   "execution_count": null,
   "metadata": {},
   "outputs": [],
   "source": [
    "#### collect the different seasons into a single df ####\n",
    "all_seasons_df = pd.DataFrame()\n",
    "\n",
    "years = scb_prel_daily.columns.values\n",
    "\n",
    "for y in range(len(years[:-2]) - 1):\n",
    "    season_df = pd.DataFrame(seasonal(serialized_daily_stable,years[y],years[y+1]))\n",
    "    season_df['season'] = years[y] + '/' + years[y+1]\n",
    "    all_seasons_df = pd.concat([all_seasons_df,season_df])\n",
    "    \n",
    "all_seasons_df"
   ]
  },
  {
   "cell_type": "code",
   "execution_count": null,
   "metadata": {},
   "outputs": [],
   "source": [
    "all_seasons_df.loc[all_seasons_df['season'] == '2020/2021']"
   ]
  },
  {
   "cell_type": "code",
   "execution_count": null,
   "metadata": {},
   "outputs": [],
   "source": [
    "### age not taken into account ###\n",
    "\n",
    "import scipy.stats as sps\n",
    "\n",
    "title = 'SWEDEN seasonal mortality 2015/2016 - 2020/2021 ( Latest data date :{})\\nSeason : Oct-Sep\\nDataSource : scb.se'.format(\n",
    "season_latest_day)\n",
    "\n",
    "seasonal_mortality = all_seasons_df.groupby('season')['daily_mortality'].sum()\n",
    "\n",
    "slope,intercept,_,_,_ = sps.linregress(range(len(seasonal_mortality[:-1])),seasonal_mortality[:-1].values)\n",
    "print (slope,intercept)\n",
    "\n",
    "#ax = seasonal_mortality[:-1].plot(figsize=(18,12),kind='bar',title=title,color='r')\n",
    "ax = seasonal_mortality.plot(figsize=(18,12),kind='bar',title=title,color='r')\n",
    "\n",
    "print (ax.get_xticks())\n",
    "#seasonal_mortality.plot(kind = 'bar',ax=ax,edgecolor='k',color='r',alpha=0.1)\n",
    "plt.yticks(np.arange(0,0.01,0.0005))\n",
    "plt.ylabel('mortality')\n",
    "plt.savefig('seasonal_deaths.jpg',format='jpg')\n",
    "print (seasonal_mortality)\n"
   ]
  },
  {
   "cell_type": "code",
   "execution_count": null,
   "metadata": {},
   "outputs": [],
   "source": [
    "### age not taken into account ###\n",
    "title = 'SWEDEN seasonal monthly cumulative mortality 2015/2016 - 2020/2021 YTD {}\\nSeason : Oct-Sep\\nDataSource : scb.se'.format(\n",
    "season_latest_day)\n",
    "\n",
    "seasonal_monthly_mortality = pd.DataFrame()\n",
    "\n",
    "seasons = all_seasons_df.groupby('season')\n",
    "for g in seasons.groups:\n",
    "    seasonal_monthly_mortality = pd.concat([seasonal_monthly_mortality,seasons.get_group(g)['daily_mortality'].resample('M').sum().cumsum()])\n",
    "    \n",
    "idx = seasonal_monthly_mortality.index.date\n",
    "\n",
    "seasonal_monthly_mortality.columns=['cumulative mortality']\n",
    "\n",
    "last_seasonal_month = seasonal_monthly_mortality.loc['2021'].index[-1].month\n",
    "\n",
    "last_month_mask = seasonal_monthly_mortality.index.month == last_seasonal_month -1\n",
    "\n",
    "avg_by_latest_month = seasonal_monthly_mortality[last_month_mask]['cumulative mortality'].mean()\n",
    "\n",
    "ax = seasonal_monthly_mortality[:-1].plot(kind='bar',figsize=(18,12),color='r',title=title)\n",
    "seasonal_monthly_mortality.plot(kind='bar',alpha=0.3,color='r',title=title,ax=ax)\n",
    "\n",
    "ax.axhline(avg_by_latest_month,color='k',ls='dashed',\n",
    "           xmax=len(seasonal_monthly_mortality[:-1]) / len(seasonal_monthly_mortality),\n",
    "           label='season avg. up to latest complete month')\n",
    "\n",
    "\n",
    "label = 'latest month of current season'\n",
    "\n",
    "for i in range(len(seasonal_monthly_mortality)):\n",
    "    if seasonal_monthly_mortality.index[i].month == last_seasonal_month:\n",
    "        plt.axvline(i,color='orange',ls='dashed',label=label)\n",
    "        label=None\n",
    "    \n",
    "plt.ylabel('mortality')\n",
    "plt.yticks(np.arange(0,0.01,0.0005))\n",
    "plt.legend(['season avg. up to latest complete month','latest month'],\n",
    "           framealpha=0.2,loc='upper left')\n",
    "\n",
    "_=plt.xticks(range(len(idx)),idx)\n",
    "plt.savefig('seasonal_monthly_cumulative_deaths.jpg',format='jpg')\n"
   ]
  },
  {
   "cell_type": "code",
   "execution_count": null,
   "metadata": {},
   "outputs": [],
   "source": [
    "title = 'SWEDEN seasonal monthly cumulative mortality 2015/2016 - 2020/2021 YTD, grouped by month of year\\nSeason : Oct-Sep\\nDataSource : scb.se'\n",
    "\n",
    "\n",
    "seasonal_monthly_mortality['cat'] = pd.Categorical(seasonal_monthly_mortality.index.month, [10,11,12,1,2,3,4,5,6,7,8,9])\n",
    "seasonal_monthly_mortality['year'] = seasonal_monthly_mortality.index.year\n",
    "    \n",
    "ax = seasonal_monthly_mortality.sort_values(['cat','year']).plot(\n",
    "    figsize=(18,12),kind='bar',y='cumulative mortality',title=title,color='r')\n",
    "\n",
    "vticks = [5,11,17,23,29,35,41,46,51,56,61,66]\n",
    "\n",
    "month_names =['Oct','Nov','Dec','Jan','Feb','Mar','Apr','May','Jun',\n",
    "             'Jul','Aug','Sep']\n",
    "\n",
    "label='month of year'\n",
    "for i, vt in enumerate(vticks):\n",
    "    ax.axvline(vt,color='orange',ls='dashed',label=label)\n",
    "    ax.text(vt-4,0.0085,month_names[i],color='orange',size=15)\n",
    "    label=None\n",
    "\n",
    "plt.legend(loc='upper left')\n",
    "\n",
    "plt.ylabel('mortality')\n",
    "_=plt.xticks(range(len(seasonal_monthly_mortality)),seasonal_monthly_mortality.sort_values(\n",
    "    ['cat','year']).index.date)\n",
    "\n",
    "plt.savefig('seasonal_monthly_cumulative_deaths_grp_by_month.jpg',format='jpg')\n"
   ]
  },
  {
   "cell_type": "code",
   "execution_count": null,
   "metadata": {},
   "outputs": [],
   "source": [
    "title = 'SWEDEN monthly absolute deaths 2015-\\nDataSource : scb.se'\n",
    "monthly_dead = serialized_daily_stable.resample('M')['dead'].sum()[:-1]\n",
    "monthly_dead.plot(kind='bar',figsize=(18,12),style='o--',title=title)\n",
    "x_labels = [ monthly_dead.index[i].date() for i in range(len(monthly_dead))]\n",
    "plt.xticks(range(len(monthly_dead)),x_labels)\n",
    "[ plt.axvline(11 + i * 12,color='orange',ls='dashed') for i in range(0,6) ]\n",
    "\n",
    "plt.ylabel('number of deaths per month')\n",
    "monthly_dead"
   ]
  },
  {
   "cell_type": "code",
   "execution_count": null,
   "metadata": {},
   "outputs": [],
   "source": []
  },
  {
   "cell_type": "code",
   "execution_count": null,
   "metadata": {},
   "outputs": [],
   "source": [
    "title = 'SWEDEN monthly mortality 2015 - 2020\\nDataSource : scb.se'\n",
    "monthly_mortality = serialized_daily_stable.resample('M')['daily_mortality'].sum()[:-1]\n",
    "monthly_mortality.plot(kind='bar',figsize=(18,12))\n",
    "plt.xticks(range(len(monthly_mortality)),x_labels)\n",
    "plt.ylabel('monthly mortality')\n",
    "[ plt.axvline(11 + i * 12,color='orange',ls='dashed') for i in range(0,6) ]\n",
    "monthly_mortality"
   ]
  },
  {
   "cell_type": "code",
   "execution_count": null,
   "metadata": {},
   "outputs": [],
   "source": [
    "#### summaries for Prof. Levitt #### \n",
    "\n",
    "summary_age_adj_flat = scb_prel_binned.reset_index().groupby('year')[['pop','dead','std_deaths',\n",
    "                                               'exp_dead_base_15_18','exp_dead_base_15_19',\n",
    "                                               'excess_15_18','excess_15_19']].sum()\n",
    "\n",
    "summary_age_adj_flat.to_excel('scb_yearly_age_adjusted_deaths_summary.xlsx')\n",
    "scb_prel_binned.to_excel('scb_age_binned_data_2002_2020.xlsx')"
   ]
  },
  {
   "cell_type": "code",
   "execution_count": null,
   "metadata": {},
   "outputs": [],
   "source": [
    "### cmp mortality vs age adj. mortality std.pop 2019 ###"
   ]
  },
  {
   "cell_type": "code",
   "execution_count": null,
   "metadata": {},
   "outputs": [],
   "source": [
    "ax = no_bins.plot(y='mortality',figsize=(18,12),style='o--')\n",
    "age_adj_mortality.plot(ax=ax,style='o--')\n",
    "\n",
    "x_labels = [ no_bins.index[i] for i in range(len(no_bins)) ]\n",
    "ax.set_xticks(range(len(no_bins)))\n",
    "_= ax.set_xticklabels(labels=x_labels,rotation=90)\n",
    "ax.legend(['mortality','age adj. mortality'])\n"
   ]
  },
  {
   "cell_type": "code",
   "execution_count": null,
   "metadata": {},
   "outputs": [],
   "source": [
    "##### NEXT - AGE BINNED CORRECTED DAILY TIMELINE 2015-2021 ytd #####\n",
    "##### NOTE the scb data error notice on top of this notebook ####"
   ]
  },
  {
   "cell_type": "code",
   "execution_count": null,
   "metadata": {},
   "outputs": [],
   "source": [
    "#### create a corrected age binned timeline 2015 and forward ####\n",
    "#### all data inc.  YTD #####\n",
    "\n",
    "### get the age group binned prel death data again ###\n",
    "### FOR TABLE LAYOUT, SEE ABOVE ###\n",
    "scb_prel_age_TD = scb_prel_file.parse('Tabell 2',skiprows=7,usecols=[0,1,4,5,6,7,9,10,11,12])\n",
    "\n",
    "# scb_prel_age_TD = scb_prel_age_TD[::-1] # reverse order\n",
    "# scb_prel_age_TD.drop(['År','DagMånad'],axis=1,inplace=True)\n",
    "\n",
    "scb_prel_age_TD = scb_prel_age_TD.loc[scb_prel_age_TD['DagMånad'] != 'Samtliga döda']\n",
    "scb_prel_age_TD"
   ]
  },
  {
   "cell_type": "code",
   "execution_count": null,
   "metadata": {},
   "outputs": [],
   "source": [
    "#### unknowns ####\n",
    "unknowns_TD = scb_prel_age_TD.loc[scb_prel_age_TD['DagMånad'].str.strip() == 'Okänd dödsdag']\n",
    "unknowns_TD = unknowns_TD.drop('DagMånad',axis=1).set_index('År')\n",
    "\n",
    "scb_prel_age_TD = (scb_prel_age_TD[scb_prel_age_TD['DagMånad'].str.strip() != 'Okänd dödsdag']).copy()\n",
    "\n",
    "scb_prel_age_TD"
   ]
  },
  {
   "cell_type": "code",
   "execution_count": null,
   "metadata": {},
   "outputs": [],
   "source": [
    "#### map swedish month names to month numbers ####\n",
    "swe_2_eng_month = dict(zip(['januari','februari','mars','april','maj','juni',\n",
    "                           'juli','augusti','september','oktober','november','december'],\n",
    "                          list(range(1,13))))\n",
    "    \n",
    "scb_prel_age_TD[['day','month']] = scb_prel_age_TD['DagMånad'].str.split(expand=True)\n",
    "scb_prel_age_TD['month'] = scb_prel_age_TD['month'].apply(lambda m : swe_2_eng_month[m])\n",
    "scb_prel_age_TD = scb_prel_age_TD.drop('DagMånad',axis=1)\n",
    "scb_prel_age_TD.rename(columns={'År':'year'},inplace=True)\n",
    "\n",
    "scb_prel_age_TD"
   ]
  },
  {
   "cell_type": "code",
   "execution_count": null,
   "metadata": {},
   "outputs": [],
   "source": [
    "#### create DatetimeIndex ####\n",
    "scb_prel_age_TD['date'] = pd.to_datetime(scb_prel_age_TD[['year','month','day']])\n",
    "scb_prel_age_TD = scb_prel_age_TD.drop(['year','day','month'],axis=1).set_index('date')\n",
    "scb_prel_age_TD"
   ]
  },
  {
   "cell_type": "code",
   "execution_count": null,
   "metadata": {},
   "outputs": [],
   "source": [
    "#### reverse order ####\n",
    "scb_prel_age_TD = scb_prel_age_TD[::-1]\n",
    "scb_prel_age_TD"
   ]
  },
  {
   "cell_type": "code",
   "execution_count": null,
   "metadata": {},
   "outputs": [],
   "source": [
    "#### combine both genders to single death count ####\n",
    "scb_prel_age_TD = scb_prel_age_TD.groupby(combine_ages,axis=1).sum()\n"
   ]
  },
  {
   "cell_type": "code",
   "execution_count": null,
   "metadata": {},
   "outputs": [],
   "source": [
    "scb_prel_age_TD"
   ]
  },
  {
   "cell_type": "code",
   "execution_count": null,
   "metadata": {},
   "outputs": [],
   "source": [
    "scb_prel_age_TD.groupby(scb_prel_age_TD.index.year).sum()"
   ]
  },
  {
   "cell_type": "code",
   "execution_count": null,
   "metadata": {},
   "outputs": [],
   "source": [
    "scb_prel_age_TD.groupby(scb_prel_age_TD.index.year).sum().sum(axis=1)"
   ]
  },
  {
   "cell_type": "code",
   "execution_count": null,
   "metadata": {},
   "outputs": [],
   "source": [
    "dead_age_scb_prel_df.loc['2015']"
   ]
  },
  {
   "cell_type": "code",
   "execution_count": null,
   "metadata": {},
   "outputs": [],
   "source": [
    "#### combine genders for unknown death dates ####\n",
    "unknowns_TD = unknowns_TD.groupby(combine_ages,axis=1).sum()\n",
    "unknowns_TD"
   ]
  },
  {
   "cell_type": "code",
   "execution_count": null,
   "metadata": {},
   "outputs": [],
   "source": [
    "unknowns_TD"
   ]
  },
  {
   "cell_type": "code",
   "execution_count": null,
   "metadata": {},
   "outputs": [],
   "source": [
    "unknowns_TD.loc[2020]"
   ]
  },
  {
   "cell_type": "code",
   "execution_count": null,
   "metadata": {},
   "outputs": [],
   "source": [
    "#### get the deaths with known dates from the timeline ####\n",
    "knowns_TD = scb_prel_age_TD.groupby(\n",
    "    scb_prel_age_TD.index.get_level_values(0).year)[['-64','65-79','80-89','90+']].sum()\n",
    "\n",
    "knowns_TD"
   ]
  },
  {
   "cell_type": "code",
   "execution_count": null,
   "metadata": {},
   "outputs": [],
   "source": [
    "unknowns_TD + knowns_TD"
   ]
  },
  {
   "cell_type": "code",
   "execution_count": null,
   "metadata": {},
   "outputs": [],
   "source": [
    "(unknowns_TD + knowns_TD).sum(axis=1)"
   ]
  },
  {
   "cell_type": "code",
   "execution_count": null,
   "metadata": {},
   "outputs": [],
   "source": [
    "### compute daily proportion of all known deaths ###\n",
    "###\n",
    "\n",
    "def calc_daily_proportion(dead):\n",
    "    return dead / dead.sum() \n",
    "\n",
    "prop_age_TD = scb_prel_age_TD.groupby(\n",
    "    scb_prel_age_TD.index.get_level_values(0).year).transform(calc_daily_proportion)\n",
    "\n",
    "\n",
    "### create groups by year ###\n",
    "g = prop_age_TD.groupby(prop_age_TD.index.get_level_values(0).year)\n",
    "\n",
    "### df to store all corrected daily data for all years ###\n",
    "grp_daily_corrected = pd.DataFrame()\n",
    "\n",
    "### for each year, multiply the daily proportions with the unknowns and add the knowns ###\n",
    "for grp in g.groups.keys():\n",
    "    \n",
    "    foo = g.get_group(grp) * unknowns_TD.loc[grp] + scb_prel_age_TD.loc[str(grp)]\n",
    "    grp_daily_corrected = pd.concat([grp_daily_corrected,foo])\n",
    "    \n"
   ]
  },
  {
   "cell_type": "code",
   "execution_count": null,
   "metadata": {},
   "outputs": [],
   "source": [
    "### check that yearly totals are still correct ###\n",
    "grp_daily_corrected.groupby(grp_daily_corrected.index.get_level_values(0).year).sum().sum(axis=1)\n"
   ]
  },
  {
   "cell_type": "code",
   "execution_count": null,
   "metadata": {},
   "outputs": [],
   "source": [
    "grp_daily_corrected.rolling(7).mean().plot(figsize=(18,12))\n",
    "grp_daily_corrected.rolling(7).mean()"
   ]
  },
  {
   "cell_type": "code",
   "execution_count": null,
   "metadata": {},
   "outputs": [],
   "source": [
    "grp_daily_corrected.plot(figsize=(18,12))"
   ]
  },
  {
   "cell_type": "code",
   "execution_count": null,
   "metadata": {},
   "outputs": [],
   "source": [
    "#### monthly deaths ####\n",
    "grp_daily_corrected_monthly = grp_daily_corrected.resample('M').sum()\n",
    "grp_daily_corrected_monthly.plot(figsize=(18,12),style='o--')"
   ]
  },
  {
   "cell_type": "code",
   "execution_count": null,
   "metadata": {},
   "outputs": [],
   "source": [
    "pop_age_scb_prel_df"
   ]
  },
  {
   "cell_type": "code",
   "execution_count": null,
   "metadata": {},
   "outputs": [],
   "source": [
    "### add population for prev. year ###\n",
    "### for now assume population current year == population prev year. UPDATE when new prev year pop numbers arrive ###\n",
    "\n",
    "pop_current_year = pop_age_scb_prel_df.loc[str(previous_year)]\n",
    "pop_current_year.name=str(previous_year + 1)\n",
    "idx = pd.MultiIndex.from_arrays([[str(previous_year + 1)] * 4,['-64','65-79','80-89','90+']])\n",
    "pop_current_year.index = idx\n",
    "\n",
    "### make current new year pop same as prev. year until official pop data for curr. year arrives \n",
    "pop_age_scb_prel_df = pd.concat([pop_age_scb_prel_df,pop_current_year])\n",
    "pop_age_scb_prel_df.tail(20)"
   ]
  },
  {
   "cell_type": "code",
   "execution_count": null,
   "metadata": {},
   "outputs": [],
   "source": [
    "### check total population sizes ###\n",
    "pop_age_scb_prel_df.groupby('year').sum()"
   ]
  },
  {
   "cell_type": "code",
   "execution_count": null,
   "metadata": {},
   "outputs": [],
   "source": [
    "### HERE scb data error illustrated! \n",
    "grp_daily_corrected.loc['2015'].sum()"
   ]
  },
  {
   "cell_type": "code",
   "execution_count": null,
   "metadata": {},
   "outputs": [],
   "source": [
    "### vs HERE! \n",
    "scb_prel_binned.loc['2015','dead']"
   ]
  },
  {
   "cell_type": "code",
   "execution_count": null,
   "metadata": {},
   "outputs": [],
   "source": [
    "grp_daily_corrected.loc['2015'].sum() / pop_age_scb_prel_df.loc['2015','pop']"
   ]
  },
  {
   "cell_type": "code",
   "execution_count": null,
   "metadata": {},
   "outputs": [],
   "source": [
    "pop_age_scb_prel_df.tail()"
   ]
  },
  {
   "cell_type": "code",
   "execution_count": null,
   "metadata": {},
   "outputs": [],
   "source": [
    "#### BUG !!!! Identifed : scb data error, see top of notebook.\n",
    "#### FOR SOME REASON, CALCULATING MORTALITY THIS WAY (DAILY) RESULTS IN age grp 90+ ALL YEARS BUT 2020 \n",
    "#### HAVING DIFFERENT OUTCOME COMPARED TO WHEN CALCULATED ON YEARLY BASIS AS FOR  scb_prel_binned.\n",
    "#### can it be a rounding error....? \n",
    "\n",
    "#### compute binned daily mortality for each year ####\n",
    "gg = grp_daily_corrected.groupby(grp_daily_corrected.index.get_level_values(0).year)\n",
    "\n",
    "mortality_all_grp_TD = pd.DataFrame().astype('uint64')\n",
    "\n",
    "for grp in gg.groups.keys():\n",
    "    foo = gg.get_group(grp)\n",
    "    print (foo)\n",
    "    year = foo.index.get_level_values(0).year[0] # use the first index year for the pop.lookup below #\n",
    "    pop = pop_age_scb_prel_df.loc[str(year),'pop']\n",
    "    print (pop)\n",
    "\n",
    "    mortality_all_grp_TD = pd.concat([mortality_all_grp_TD,foo.div(pop,axis=1)])\n",
    "    \n",
    "mortality_all_grp_TD"
   ]
  },
  {
   "cell_type": "code",
   "execution_count": null,
   "metadata": {},
   "outputs": [],
   "source": [
    "### check yearly mortality per age group ###\n",
    "mortality_all_grp_TD.groupby(mortality_all_grp_TD.index.year).sum()"
   ]
  },
  {
   "cell_type": "code",
   "execution_count": null,
   "metadata": {},
   "outputs": [],
   "source": [
    "dead_age_100k = (mortality_all_grp_TD.groupby(mortality_all_grp_TD.index.year).sum() * 1e5).astype(int)\n",
    "dead_age_100k"
   ]
  },
  {
   "cell_type": "code",
   "execution_count": null,
   "metadata": {},
   "outputs": [],
   "source": [
    "np.random.seed(4711)\n",
    "\n",
    "title = 'SWEDEN All Cause Deaths per 100K per age group, 2015-2021 YTD\\nlatest data : {}\\nDataSource : scb.se'.format(\n",
    "mortality_all_grp_TD.index[-1].date())\n",
    "\n",
    "axes = dead_age_100k.plot(figsize=(18,12),kind='bar',subplots=True,title=title)\n",
    "\n",
    "for a in axes:\n",
    "    a.set_ylabel('deaths/100K')\n",
    "    #a.set_xticklabels(a.get_xticklabels(),visible=False)\n",
    "    \n",
    "plt.savefig('scb_excess_deaths_per_100K.jpg',format='jpg')"
   ]
  },
  {
   "cell_type": "code",
   "execution_count": null,
   "metadata": {},
   "outputs": [],
   "source": [
    "### plot weekly mortality per age grp over the years 2015-2021 YTD, skip last two weeks to be updated) ###\n",
    "last_date = mortality_all_grp_TD.index[-1]\n",
    "last_good_date = last_date - pd.DateOffset(weeks=2)\n",
    "print ('last_date : ',last_date)\n",
    "print ('last_good_date : ',last_good_date)\n",
    "\n",
    "weekly_age_mortality = mortality_all_grp_TD.resample('W').sum()\n",
    "title='SWEDEN weekly mortality per age group, 2015 - 2022 YTD {}\\nDataSource : scb.se'.format(last_good_date.date())\n",
    "axes = weekly_age_mortality.loc[:last_good_date].plot(figsize=(18,12),style='o--',subplots=True,title=title)\n",
    "\n",
    "for ax in axes:\n",
    "    ax.set_ylabel('mortality')"
   ]
  },
  {
   "cell_type": "code",
   "execution_count": null,
   "metadata": {},
   "outputs": [],
   "source": [
    "from pandas.tseries.offsets import MonthEnd\n",
    "\n",
    "### plot monthly mortality per age grp over the years 2015- YTD, skip last two weeks to be updated) ###\n",
    "last_date = mortality_all_grp_TD.index[-1]\n",
    "last_good_date = last_date - MonthEnd(1)\n",
    "\n",
    "print ('last_date : ',last_date)\n",
    "print ('last_good_date : ',last_good_date)\n",
    "\n",
    "monthly_age_mortality = mortality_all_grp_TD.resample('M').sum()\n",
    "\n",
    "title='SWEDEN monthly mortality per age group, 2015 - 2022 YTD {}\\nDataSource : scb.se'.format(last_good_date.date())\n",
    "axes = monthly_age_mortality.loc[:last_good_date].plot(figsize=(18,12),style='o--',subplots=True,title=title)\n",
    "\n",
    "for ax in axes:\n",
    "    ax.set_ylabel('mortality')\n",
    "    ax.set_ylim([0,0.03])\n",
    "    \n",
    "plt.savefig('scb_excess_age_grp_mort_common_scale.jpg',format='jpg')"
   ]
  },
  {
   "cell_type": "code",
   "execution_count": null,
   "metadata": {},
   "outputs": [],
   "source": [
    "### other stuff ###\n"
   ]
  },
  {
   "cell_type": "code",
   "execution_count": null,
   "metadata": {},
   "outputs": [],
   "source": [
    "### age grp daily mortality from 2015 to latest scb latest update ###\n",
    "mortality_all_grp_TD"
   ]
  },
  {
   "cell_type": "code",
   "execution_count": null,
   "metadata": {},
   "outputs": [],
   "source": [
    "#### BUG !!!! Identified : error in scb data - see note on top of notebook. \n",
    "#### FOR SOME REASON, CALCULATING MORTALITY THIS WAY (DAILY) RESULTS IN age grp 90+ ALL YEARS BUT 2020 \n",
    "#### HAVING DIFFERENT OUTCOME COMPARED TO WHEN CALCULATED ON YEARLY BASIS AS FOR  scb_prel_binned.\n",
    "#### can it be a rounding error....? \n",
    "\n",
    "mortality_all_grp_TD.groupby(mortality_all_grp_TD.index.year).sum()"
   ]
  },
  {
   "cell_type": "code",
   "execution_count": null,
   "metadata": {},
   "outputs": [],
   "source": [
    "### create a 2015-2018 daily mortality baseline ###\n",
    "mortality_all_grp_2015_2018 = mortality_all_grp_TD.loc[:'2018']\n",
    "\n",
    "### min,max,mean for each day of year ###\n",
    "baseline_15_18_min_max_mean = mortality_all_grp_2015_2018.groupby([mortality_all_grp_2015_2018.index.month,\n",
    "                                    mortality_all_grp_2015_2018.index.day]).agg(['min','max','mean'])\n",
    "\n",
    "baseline_15_18_min_max_mean.index=pd.date_range('2020-01-01','2020-12-31')\n",
    "baseline_15_18_min_max_mean"
   ]
  },
  {
   "cell_type": "code",
   "execution_count": null,
   "metadata": {},
   "outputs": [],
   "source": [
    "### drop leap day from non-leap years, create one df for leap years, one for non-leap years ###\n",
    "baseline_15_18_min_max_mean_no_leap = baseline_15_18_min_max_mean.drop(pd.Timestamp('2020-02-29'))\n",
    "baseline_15_18_min_max_mean_leap = baseline_15_18_min_max_mean\n",
    "baseline_15_18_min_max_mean_no_leap.index=range(1,366)\n",
    "baseline_15_18_min_max_mean_leap"
   ]
  },
  {
   "cell_type": "code",
   "execution_count": null,
   "metadata": {},
   "outputs": [],
   "source": [
    "### concatenate the leap and non-leap baselines for the period of 2015 - 2021 ###\n",
    "\n",
    "### YC add one more leap or noleap,extend index ###\n",
    "baseline_stats = pd.concat([baseline_15_18_min_max_mean_no_leap,baseline_15_18_min_max_mean_leap,\n",
    "                          baseline_15_18_min_max_mean_no_leap,baseline_15_18_min_max_mean_no_leap,\n",
    "                          baseline_15_18_min_max_mean_no_leap,baseline_15_18_min_max_mean_leap,\n",
    "                          baseline_15_18_min_max_mean_no_leap,baseline_15_18_min_max_mean_no_leap],axis=0)\n",
    "\n",
    "baseline_stats.index = pd.date_range('2015-01-01','2022-12-31')\n",
    "\n",
    "baseline_stats"
   ]
  },
  {
   "cell_type": "code",
   "execution_count": null,
   "metadata": {},
   "outputs": [],
   "source": [
    "#### select the desired attribute from the multi-columns using xs ####\n",
    "mean = baseline_stats.xs('mean',level=1,axis=1)\n",
    "min_ = baseline_stats.xs('min',level=1,axis=1)\n",
    "max_ = baseline_stats.xs('max',level=1,axis=1)\n"
   ]
  },
  {
   "cell_type": "code",
   "execution_count": null,
   "metadata": {},
   "outputs": [],
   "source": [
    "### reduce the daily fill shading to every 30:th day for clarity ###  \n",
    "axes = mortality_all_grp_TD[:-14].plot(figsize=(18,12),subplots=True)\n",
    "axes[0].fill_between(min_.index[::30],min_['-64'][::30],max_['-64'][::30],color='lightgrey')\n",
    "axes[1].fill_between(min_.index[::30],min_['65-79'][::30],max_['65-79'][::30],color='lightgrey')\n",
    "axes[2].fill_between(min_.index[::30],min_['80-89'][::30],max_['80-89'][::30],color='lightgrey')\n",
    "axes[3].fill_between(min_.index[::30],min_['90+'][::30],max_['90+'][::30],color='lightgrey')\n",
    "\n",
    "mortality_all_grp_TD[:-14]"
   ]
  },
  {
   "cell_type": "code",
   "execution_count": null,
   "metadata": {},
   "outputs": [],
   "source": [
    "grp_64 = weekly_age_mortality.loc['2015':'2018','-64']\n",
    "weekly_mean_64 = grp_64.groupby(grp_64.index.weekofyear).mean()\n",
    "weekly_min_64 = grp_64.groupby(grp_64.index.weekofyear).min()\n",
    "weekly_max_64 = grp_64.groupby(grp_64.index.weekofyear).max()\n",
    "\n",
    "fig,ax = plt.subplots()\n",
    "\n",
    "ax.plot(weekly_age_mortality.loc['2020','-64'].index,weekly_mean_64[1:],color='k',ls='dashed')\n",
    "weekly_age_mortality.loc['2020','-64'].plot(color='red',marker='o',ax=ax)\n",
    "ax.fill_between(weekly_age_mortality.loc['2020','-64'].index,weekly_min_64[1:],weekly_max_64[1:],\n",
    "               color='lightgrey')\n"
   ]
  },
  {
   "cell_type": "code",
   "execution_count": null,
   "metadata": {},
   "outputs": [],
   "source": [
    "weekly_age_mortality.index[-3]"
   ]
  },
  {
   "cell_type": "code",
   "execution_count": null,
   "metadata": {},
   "outputs": [],
   "source": [
    "### resample on weekly basis ###\n",
    "### the shadow for the years does not look exactly identical, since the week numbers are not aligned ###\n",
    "### year by year ###\n",
    "weekly_baseline_stats = baseline_stats.resample('W-WED').sum()\n",
    "\n",
    "weekly_mean = weekly_baseline_stats.xs('mean',level=1,axis=1)\n",
    "weekly_min_ = weekly_baseline_stats.xs('min',level=1,axis=1)\n",
    "weekly_max_ = weekly_baseline_stats.xs('max',level=1,axis=1)\n",
    "\n",
    "title='SWEDEN age group [-64,65-79,80-89,90+] weekly mortality 2015-2021 YTD {}\\nDataSource : scb.se'.format(\n",
    "    weekly_age_mortality.index[-2].date() )\n",
    "\n",
    "axes = weekly_age_mortality[:-1].plot(figsize=(18,12),subplots=True,title=title)\n",
    "\n",
    "axes[0].fill_between(weekly_min_.index,weekly_min_['-64'],weekly_max_['-64'],\n",
    "                     color='lightgrey',label='range 2015-2018 : -64')\n",
    "\n",
    "weekly_mean['-64'][:-1].plot(ax=axes[0],style='k--',label='-64 avg.')\n",
    "\n",
    "axes[1].fill_between(weekly_min_.index,weekly_min_['65-79'],weekly_max_['65-79'],\n",
    "                     color='lightgrey',label='range 2015-2018 : 65-79')\n",
    "\n",
    "weekly_mean['65-79'][:-1].plot(ax=axes[1],style='k--',label='65-79 avg.')\n",
    "\n",
    "\n",
    "axes[2].fill_between(weekly_min_.index,weekly_min_['80-89'],weekly_max_['80-89'],\n",
    "                     color='lightgrey',label='range 2015-2018 : 80-89')\n",
    "\n",
    "weekly_mean['80-89'][:-1].plot(ax=axes[2],style='k--',label='80-89 avg.')\n",
    "\n",
    "\n",
    "axes[3].fill_between(weekly_min_.index,weekly_min_['90+'],weekly_max_['90+'],\n",
    "                     color='lightgrey',label='range 2015-2018 : 90+')\n",
    "\n",
    "weekly_mean['90+'][:-1].plot(ax=axes[3],style='k--',label='90+ avg.')\n",
    "\n",
    "\n",
    "for a in axes:\n",
    "    a.set_ylabel('weekly mortality')\n",
    "    a.legend(loc='lower left')\n",
    "\n",
    "\n",
    "plt.savefig('SCB_excess_weekly_age_mortality.jpg',format='jpg')\n",
    "\n",
    "weekly_age_mortality[:-1]\n"
   ]
  },
  {
   "cell_type": "code",
   "execution_count": null,
   "metadata": {},
   "outputs": [],
   "source": [
    "monthly_age_mortality = mortality_all_grp_TD.resample('M').sum()\n",
    "\n",
    "monthly_baseline_stats = baseline_stats.resample('M').sum()\n",
    "monthly_mean = monthly_baseline_stats.xs('mean',level=1,axis=1)\n",
    "monthly_min_ = monthly_baseline_stats.xs('min',level=1,axis=1)\n",
    "monthly_max_ = monthly_baseline_stats.xs('max',level=1,axis=1)\n",
    "\n",
    "title='SWEDEN age group [-64,65-79,80-89,90+] monthly mortality 2015-2021 YTD {}\\nDataSource : scb.se'.format(\n",
    "    monthly_age_mortality.index[-2].date() )\n",
    "\n",
    "axes = monthly_age_mortality[:-1].plot(figsize=(18,12),style='ro--',subplots=True,title=title)\n",
    "\n",
    "axes[0].fill_between(monthly_min_.index,monthly_min_['-64'],monthly_max_['-64'],\n",
    "                     color='lightgrey',label='range 2015-2018 : -64')\n",
    "\n",
    "monthly_mean['-64'].plot(ax=axes[0],style='k--',label='baseline -64')\n",
    "\n",
    "axes[1].fill_between(monthly_min_.index,monthly_min_['65-79'],monthly_max_['65-79'],\n",
    "                     color='lightgrey',label='range 2015-2018 : 65-79')\n",
    "\n",
    "monthly_mean['65-79'].plot(ax=axes[1],style='k--',label='baseline 65-79')\n",
    "\n",
    "\n",
    "axes[2].fill_between(monthly_min_.index,monthly_min_['80-89'],monthly_max_['80-89'],\n",
    "                     color='lightgrey',label='range 2015-2018 : 80-89')\n",
    "\n",
    "monthly_mean['80-89'].plot(ax=axes[2],style='k--',label='baseline 80-89')\n",
    "\n",
    "axes[3].fill_between(monthly_min_.index,monthly_min_['90+'],monthly_max_['90+'],\n",
    "                     color='lightgrey',label='range 2015-2018 : 90+')\n",
    "\n",
    "monthly_mean['90+'].plot(ax=axes[3],style='k--',label='baseline 90+')\n",
    "\n",
    "for a in axes:\n",
    "    a.set_ylabel('monthly mortality')\n",
    "    a.legend(loc='lower left')\n",
    "\n",
    "\n",
    "plt.savefig('SCB_excess_monthly_age_mortality.jpg',format='jpg')\n",
    "\n",
    "monthly_age_mortality[:-1]\n"
   ]
  },
  {
   "cell_type": "code",
   "execution_count": null,
   "metadata": {},
   "outputs": [],
   "source": [
    "last_data_day"
   ]
  },
  {
   "cell_type": "code",
   "execution_count": null,
   "metadata": {},
   "outputs": [],
   "source": [
    "baseline_stats"
   ]
  },
  {
   "cell_type": "code",
   "execution_count": null,
   "metadata": {},
   "outputs": [],
   "source": [
    "mortality_all_grp_TD.loc['2021']"
   ]
  },
  {
   "cell_type": "code",
   "execution_count": null,
   "metadata": {},
   "outputs": [],
   "source": [
    "last_data_day = mortality_all_grp_TD.loc['2021'].index[-1]\n",
    "last_data_day"
   ]
  },
  {
   "cell_type": "code",
   "execution_count": null,
   "metadata": {},
   "outputs": [],
   "source": [
    "disclaimer = '\\nData older than 3W from report date can be considered stable\\n'\n",
    "title = 'SWEDEN 2021 daily age grp mortality YTD {}\\nDataSource : scb.se'.format(last_data_day.date()) + disclaimer\n",
    "\n",
    "axes = mortality_all_grp_TD.loc['2021'][:last_data_day].plot(figsize=(18,12),\n",
    "                                                             style='r--',subplots=True,title=title)\n",
    "min_2021 = min_.loc['2021': last_data_day]\n",
    "max_2021 = max_.loc['2021' : last_data_day]\n",
    "\n",
    "axes[0].fill_between(min_2021.index,min_2021['-64'],max_2021['-64'],color='lightgrey',label='2015-2018 range')\n",
    "axes[1].fill_between(min_2021.index,min_2021['65-79'],max_2021['65-79'],color='lightgrey',label='2015-2018 range')\n",
    "axes[2].fill_between(min_2021.index,min_2021['80-89'],max_2021['80-89'],color='lightgrey',label='2015-2018 range')\n",
    "axes[3].fill_between(min_2021.index,min_2021['90+'],max_2021['90+'],color='lightgrey',label='2015-2018 range')\n",
    "\n",
    "mean.loc['2021':last_data_day,'-64'].plot(ax=axes[0],style='k--',label='baseline -64')\n",
    "mean.loc['2021':last_data_day,'65-79'].plot(ax=axes[1],style='k--',label='baseline 65-79')\n",
    "mean.loc['2021':last_data_day,'80-89'].plot(ax=axes[2],style='k--',label='baseline 80-89')\n",
    "mean.loc['2021':last_data_day,'90+'].plot(ax=axes[3],style='k--',label='baseline 90+')\n",
    "\n",
    "\n",
    "for a in axes:\n",
    "    a.set_ylabel('daily mortality')\n",
    "    a.axvline (mortality_all_grp_TD.index[-21],ls='dashed',color='orange',label='stable data to the left')\n",
    "    a.legend(loc='lower left')\n",
    "\n",
    "plt.savefig('SCB_excess_daily_age_grp_2021_mortality.jpg',format='jpg')"
   ]
  },
  {
   "cell_type": "code",
   "execution_count": null,
   "metadata": {},
   "outputs": [],
   "source": [
    "title = 'SWEDEN 2021 cumulative daily age grp mortality YTD {}\\nDataSource : scb.se'.format(last_data_day.date())\n",
    "axes = mortality_all_grp_TD.loc['2021'][:last_data_day].cumsum().plot(subplots=True,\n",
    "                                                                      title=title,figsize=(18,12),style='r--')\n",
    "\n",
    "mean.loc['2021','-64'][:last_data_day].cumsum().plot(ax=axes[0],ls='dashed',color='k')\n",
    "axes[0].fill_between(min_2021.index,min_2021['-64'].cumsum(),max_2021['-64'].cumsum(),color='lightgrey')\n",
    "\n",
    "mean.loc['2021','65-79'][:last_data_day].cumsum().plot(ax=axes[1],ls='dashed',color='k')\n",
    "axes[1].fill_between(min_2021.index,min_2021['65-79'].cumsum(),max_2021['65-79'].cumsum(),color='lightgrey')\n",
    "\n",
    "mean.loc['2021','80-89'][:last_data_day].cumsum().plot(ax=axes[2],ls='dashed',color='k')\n",
    "axes[2].fill_between(min_2021.index,min_2021['80-89'].cumsum(),max_2021['80-89'].cumsum(),color='lightgrey')\n",
    "\n",
    "mean.loc['2021','90+'][:last_data_day].cumsum().plot(ax=axes[3],ls='dashed',color='k')\n",
    "axes[3].fill_between(min_2021.index,min_2021['90+'].cumsum(),max_2021['90+'].cumsum(),color='lightgrey')\n",
    "\n",
    "for i,a in enumerate(axes):\n",
    "    a.axvline (mortality_all_grp_TD.index[-21],ls='dashed',color='orange',label='stable data to the left')\n",
    "\n",
    "    a.legend([mean.columns[i],'avg 2015-2018','stable data to the left','range 2015-2018'],loc='upper left')\n",
    "    a.set_ylabel('cum. daily mort.')\n",
    "    \n",
    "plt.savefig('SCB_excess_daily_age_grp_2021_cum_mortality.jpg',format='jpg')\n"
   ]
  },
  {
   "cell_type": "code",
   "execution_count": null,
   "metadata": {},
   "outputs": [],
   "source": [
    "monthly_age_grp_mortality = mortality_all_grp_TD.groupby(\n",
    "    [mortality_all_grp_TD.index.year,mortality_all_grp_TD.index.month]).sum()\n",
    "\n",
    "monthly_age_grp_mortality"
   ]
  },
  {
   "cell_type": "code",
   "execution_count": null,
   "metadata": {},
   "outputs": [],
   "source": [
    "title = 'SWEDEN monthly age group mortality 2015-2022 YTD\\nDataSource : scb.se'\n",
    "axes = monthly_age_grp_mortality.plot(kind='bar',figsize=(18,12),subplots=True,title=title)\n",
    "\n",
    "for a in axes:\n",
    "    for i in range(len(monthly_age_grp_mortality)):\n",
    "        a.axvline(i*12,ls='dashed',color='grey')"
   ]
  },
  {
   "cell_type": "code",
   "execution_count": null,
   "metadata": {
    "scrolled": false
   },
   "outputs": [],
   "source": [
    "axes = monthly_age_grp_mortality.sort_index(level=1).plot(kind='bar',figsize=(18,12),subplots=True)\n",
    "\n",
    "(monthly_age_grp_mortality.sort_index(level=1).index[0])"
   ]
  },
  {
   "cell_type": "code",
   "execution_count": null,
   "metadata": {},
   "outputs": [],
   "source": []
  },
  {
   "cell_type": "code",
   "execution_count": null,
   "metadata": {},
   "outputs": [],
   "source": [
    "\n",
    "\n",
    "title='SWEDEN age group [-64,65-79,80-89,90+] monthly mortality 2020 \\nDataSource : scb.se' \n",
    "\n",
    "monthly_age_mortality_2020 = monthly_age_mortality.loc['2020-01-01' : '2020-12-31']\n",
    "\n",
    "monthly_mean_2020 = monthly_baseline_stats.loc['2020-01-01' :'2020-12-31'].xs('mean',level=1,axis=1)\n",
    "monthly_min_2020 = monthly_baseline_stats.loc['2020-01-01' : '2020-12-31'].xs('min',level=1,axis=1)\n",
    "monthly_max_2020 = monthly_baseline_stats.loc['2020-01-01' : '2020-12-31'].xs('max',level=1,axis=1)\n",
    "\n",
    "axes = monthly_age_mortality_2020.plot(figsize=(18,12),style='ro--',subplots=True,title=title)\n",
    "\n",
    "axes[0].fill_between(monthly_min_2020.index,monthly_min_2020['-64'],monthly_max_2020['-64'],\n",
    "                     color='lightgrey',label='range 2015-2018 : -64')\n",
    "\n",
    "monthly_mean_2020.plot(ax=axes[0],y='-64',style='k--',label='mean')\n",
    "\n",
    "\n",
    "axes[1].fill_between(monthly_min_2020.index,monthly_min_2020['65-79'],monthly_max_2020['65-79'],\n",
    "                     color='lightgrey',label='range 2015-2018 : 65-79')\n",
    "\n",
    "monthly_mean_2020.plot(ax=axes[1],y='65-79',style='k--',label='mean')\n",
    "\n",
    "\n",
    "axes[2].fill_between(monthly_min_2020.index,monthly_min_2020['80-89'],monthly_max_2020['80-89'],\n",
    "                     color='lightgrey',label='range 2015-2018 : 80-89')\n",
    "\n",
    "monthly_mean_2020.plot(ax=axes[2],y='80-89',style='k--',label='mean')\n",
    "\n",
    "\n",
    "axes[3].fill_between(monthly_min_2020.index,monthly_min_2020['90+'],monthly_max_2020['90+'],\n",
    "                     color='lightgrey',label='range 2015-2018 : 90+')\n",
    "\n",
    "monthly_mean_2020.plot(ax=axes[3],y='90+',style='k--',label='mean')\n",
    "\n",
    "\n",
    "for a in axes:\n",
    "    a.set_ylabel('monthly mortality')\n",
    "    a.legend(loc='lower left')\n",
    "\n",
    "\n",
    "plt.savefig('SCB_excess_2020_monthly_age_mortality.jpg',format='jpg')\n",
    "\n",
    "\n",
    "\n",
    "monthly_age_mortality_2020\n"
   ]
  },
  {
   "cell_type": "code",
   "execution_count": null,
   "metadata": {},
   "outputs": [],
   "source": [
    "monthly_age_grp_mortality"
   ]
  },
  {
   "cell_type": "code",
   "execution_count": null,
   "metadata": {},
   "outputs": [],
   "source": [
    "### monthly mortality indexed by DatetimeIndex ###\n",
    "\n",
    "monthly_age_grp_mortality_long = monthly_age_grp_mortality.copy()\n",
    "monthly_age_grp_mortality_long.index = pd.date_range('2015',periods=len(monthly_age_grp_mortality),freq='M')"
   ]
  },
  {
   "cell_type": "code",
   "execution_count": null,
   "metadata": {},
   "outputs": [],
   "source": [
    "monthly_age_grp_mortality_long"
   ]
  },
  {
   "cell_type": "code",
   "execution_count": null,
   "metadata": {},
   "outputs": [],
   "source": [
    "monthly_age_grp_mortality_long.groupby(monthly_age_grp_mortality_long.index.year).sum()"
   ]
  },
  {
   "cell_type": "code",
   "execution_count": null,
   "metadata": {},
   "outputs": [],
   "source": [
    "### get the monthly age grp specific mortality for baseline 2015 - 2018 ###\n",
    "\n",
    "### PARAM : set start and end year for baseline. Normally 2015,2018 ###\n",
    "baseline_start = '2015-01-01'\n",
    "baseline_end = '2018-12-31'\n",
    "###                                                  ###\n",
    "\n",
    "baseline_monthly_mort = monthly_age_grp_mortality_long.loc[baseline_start : baseline_end]\n",
    "baseline_mort_15_18 = baseline_monthly_mort.groupby([baseline_monthly_mort.index.month]).mean()\n",
    "baseline_mort_15_18"
   ]
  },
  {
   "cell_type": "code",
   "execution_count": null,
   "metadata": {},
   "outputs": [],
   "source": [
    "nr_years = len(pop_age_scb_prel_df.index.get_level_values(0).unique())\n",
    "nr_years"
   ]
  },
  {
   "cell_type": "code",
   "execution_count": null,
   "metadata": {},
   "outputs": [],
   "source": [
    "### create a repeating baseline based on the above monthly baseline ###\n",
    "baseline_mort_monthly = pd.concat([baseline_mort_15_18] * nr_years)\n",
    "baseline_mort_monthly.index = pd.date_range('2002-01-01',str(previous_year+1) + '-12-31',freq='M')"
   ]
  },
  {
   "cell_type": "code",
   "execution_count": null,
   "metadata": {},
   "outputs": [],
   "source": [
    "baseline_mort_15_18"
   ]
  },
  {
   "cell_type": "code",
   "execution_count": null,
   "metadata": {},
   "outputs": [],
   "source": [
    "\n",
    "baseline_mort_monthly.loc['2020']"
   ]
  },
  {
   "cell_type": "code",
   "execution_count": null,
   "metadata": {},
   "outputs": [],
   "source": [
    "pop_age_scb_prel_df_long = pd.DataFrame(\n",
    "    np.tile(pop_age_scb_prel_df.unstack().droplevel(0,axis=1).values,12).reshape((-1,4)),\n",
    "columns=monthly_age_grp_mortality_long.columns,index=pd.date_range('2002-01-01',str(previous_year +1) + '-12-31',\n",
    "                                                                   freq='M'))"
   ]
  },
  {
   "cell_type": "code",
   "execution_count": null,
   "metadata": {},
   "outputs": [],
   "source": [
    "pop_age_scb_prel_df_long"
   ]
  },
  {
   "cell_type": "code",
   "execution_count": null,
   "metadata": {},
   "outputs": [],
   "source": [
    "\n",
    "monthly_expected_deaths = baseline_mort_monthly * pop_age_scb_prel_df_long\n",
    "print (monthly_expected_deaths.sum(axis=1).groupby(monthly_expected_deaths.index.year).sum())\n",
    "monthly_expected_deaths"
   ]
  },
  {
   "cell_type": "code",
   "execution_count": null,
   "metadata": {},
   "outputs": [],
   "source": [
    "grp_daily_corrected_monthly"
   ]
  },
  {
   "cell_type": "code",
   "execution_count": null,
   "metadata": {},
   "outputs": [],
   "source": [
    "monthly_excess = grp_daily_corrected_monthly.sub(\n",
    "    monthly_expected_deaths.loc['2015':last_good_date],axis=0)\n",
    "monthly_excess.dropna()"
   ]
  },
  {
   "cell_type": "code",
   "execution_count": null,
   "metadata": {},
   "outputs": [],
   "source": [
    "monthly_excess_15_21_YTD = monthly_excess.dropna().sum(axis=1)\n",
    "monthly_excess_15_21_YTD.to_pickle('monthly_excess_15_21_YTD.pkl')"
   ]
  },
  {
   "cell_type": "code",
   "execution_count": null,
   "metadata": {},
   "outputs": [],
   "source": [
    "from pandas.tseries.offsets import MonthEnd\n",
    "title='SWEDEN monthly actual vs expected deaths 2015 - {} per age grp, baseline 2015-2018\\nDataSource : scb.se'.format(\n",
    "    (last_good_date + MonthEnd(0)).date())\n",
    "\n",
    "axes = grp_daily_corrected_monthly[:-1].plot(subplots=True,figsize=(18,12),style='ro--',title=title,sharey=True)\n",
    "monthly_expected_deaths.loc['2015' : ].plot(ax=axes,subplots=True,style='kx--')\n",
    "\n",
    "for i,a in enumerate(axes):\n",
    "    a.legend([grp_daily_corrected_monthly.columns[i] + ' actuals',\n",
    "              grp_daily_corrected_monthly.columns[i] + ' expected'],loc='upper left')\n",
    "    \n",
    "    a.set_ylabel('nr of deaths')\n",
    "    \n",
    "plt.savefig('scb_excess_monthly_expected_vs_actuals_per_age.jpg',format='jpg')"
   ]
  },
  {
   "cell_type": "code",
   "execution_count": null,
   "metadata": {},
   "outputs": [],
   "source": [
    "grp_daily_corrected_monthly"
   ]
  },
  {
   "cell_type": "code",
   "execution_count": null,
   "metadata": {},
   "outputs": [],
   "source": [
    "title='SWEDEN cumulative monthly actual vs expected deaths 2015 - {} per age grp, baseline 2015-2018\\nDataSource : scb.se'.format(\n",
    "    (last_good_date + MonthEnd(0)).date())\n",
    "\n",
    "axes=grp_daily_corrected_monthly[:-1].groupby(grp_daily_corrected_monthly.index[:-1].year).cumsum().plot(\n",
    "figsize=(18,12),subplots=True,style='ro--',title=title)\n",
    "\n",
    "monthly_expected_deaths.loc['2015' :][:-1].groupby(\n",
    "    monthly_expected_deaths.loc['2015' :][:-1].index.year).cumsum().plot(\n",
    "subplots=True,style='kx--',ax=axes)\n",
    "\n",
    "for i,a in enumerate(axes):\n",
    "    a.legend([grp_daily_corrected_monthly.columns[i] + ' actuals',\n",
    "              grp_daily_corrected_monthly.columns[i] + ' expected'],loc='upper left')\n",
    "    \n",
    "    a.set_ylabel('nr of deaths')\n",
    "    \n",
    "plt.savefig('scb_excess_cumulative_monthly_expected_vs_actuals_per_age.jpg',format='jpg')"
   ]
  },
  {
   "cell_type": "code",
   "execution_count": null,
   "metadata": {},
   "outputs": [],
   "source": [
    "last_data_day"
   ]
  },
  {
   "cell_type": "code",
   "execution_count": null,
   "metadata": {},
   "outputs": [],
   "source": [
    "idx = grp_daily_corrected_monthly[:-1].index.date"
   ]
  },
  {
   "cell_type": "code",
   "execution_count": null,
   "metadata": {},
   "outputs": [],
   "source": [
    "title='SWEDEN cumulative monthly actual vs expected deaths 2015 - {} per age grp, baseline 2015-2018\\n(latest month (shaded) reliable 2w after end of month)\\nDataSource : scb.se'.format(\n",
    "    (last_good_date + MonthEnd(0)).date())\n",
    "\n",
    "axes = grp_daily_corrected_monthly[:-1].groupby(grp_daily_corrected_monthly.index[:-1].year).cumsum().plot(\n",
    "    kind='bar',figsize=(18,12),subplots=True,color='r',title=title)\n",
    "\n",
    "monthly_expected_deaths.loc['2015' :].groupby(\n",
    "    monthly_expected_deaths.loc['2015' :].index.year).cumsum().plot(\n",
    "subplots=True,kind='bar',edgecolor='k',color='none',ax=axes)\n",
    "\n",
    "# include the latest, non-complete month #\n",
    "grp_daily_corrected_monthly.groupby(grp_daily_corrected_monthly.index.year).cumsum().plot(\n",
    "    kind='bar',ax=axes,subplots=True,color='r',alpha=0.3)\n",
    "\n",
    "for i,a in enumerate(axes):\n",
    "    a.set_xticks(range(len(grp_daily_corrected_monthly[:-1])))\n",
    "    a.set_xticklabels(idx)\n",
    "    \n",
    "    a.legend([grp_daily_corrected_monthly.columns[i] + ' actuals',\n",
    "              grp_daily_corrected_monthly.columns[i] + ' expected',\n",
    "             grp_daily_corrected_monthly.columns[i] + ' Prel.'],loc='upper left')\n",
    "    \n",
    "    a.set_ylabel('nr of deaths')\n",
    "    \n",
    "\n",
    "    \n",
    "plt.savefig('scb_excess_cumulative_monthly_expected_vs_actuals_per_age_bar.jpg',format='jpg')\n"
   ]
  },
  {
   "cell_type": "code",
   "execution_count": null,
   "metadata": {},
   "outputs": [],
   "source": [
    "title='SWEDEN Total cumulative monthly actual vs expected deaths 2015 - {} per age grp, baseline 2015-2018\\nDataSource : scb.se'.format(\n",
    "    (last_good_date + MonthEnd(0)).date())\n",
    "\n",
    "axes = grp_daily_corrected_monthly[:-1].sum(axis=1).groupby(\n",
    "    grp_daily_corrected_monthly.index[:-1].year).cumsum().plot(figsize=(18,12),style='ro--',title=title)\n",
    "\n",
    "monthly_expected_deaths.loc['2015' :].sum(axis=1).groupby(\n",
    "    monthly_expected_deaths.loc['2015' :].index.year).cumsum().plot(\n",
    "ax=axes,style='kx--')\n",
    "\n",
    "plt.ylabel('nr of deaths')\n",
    "plt.legend(['actuals','expected'],loc='upper center')\n",
    "\n",
    "plt.savefig('scb_excess_total_cumulative_monthly_expected_vs_actuals_per_age.jpg',format='jpg')"
   ]
  },
  {
   "cell_type": "code",
   "execution_count": null,
   "metadata": {},
   "outputs": [],
   "source": [
    "grp_daily_corrected_monthly[:-1].sum(axis=1).groupby(\n",
    "    grp_daily_corrected_monthly.index[:-1].year).cumsum().loc['2020']"
   ]
  },
  {
   "cell_type": "code",
   "execution_count": null,
   "metadata": {},
   "outputs": [],
   "source": [
    "title='SWEDEN Total cumulative monthly actual vs expected deaths 2015 - {} per age grp, baseline 2015-2018\\nDataSource : scb.se'.format(\n",
    "    (last_good_date + MonthEnd(0)).date())\n",
    "\n",
    "axes = grp_daily_corrected_monthly[:-1].sum(axis=1).groupby(\n",
    "    grp_daily_corrected_monthly.index[:-1].year).cumsum().plot(figsize=(18,12),kind='bar',\n",
    "                                                               color='r',title=title)\n",
    "\n",
    "grp_daily_corrected_monthly.sum(axis=1).groupby(\n",
    "    grp_daily_corrected_monthly.index.year).cumsum().plot(figsize=(18,12),kind='bar',\n",
    "                                                               color='r',alpha=0.3,ax=axes)\n",
    "\n",
    "\n",
    "monthly_expected_deaths.loc['2015' :].sum(axis=1).groupby(\n",
    "    monthly_expected_deaths.loc['2015' :].index.year).cumsum().plot(\n",
    "ax=axes,kind='bar',edgecolor='k',color='none')\n",
    "\n",
    "plt.ylabel('nr of deaths')\n",
    "plt.legend(['actuals','Prel.','expected'],loc='upper center')\n",
    "\n",
    "_=plt.xticks(range(len(grp_daily_corrected_monthly[:-1])),idx)\n",
    "\n",
    "plt.savefig('scb_excess_total_cumulative_monthly_expected_vs_actuals_per_age_bar.jpg',format='jpg')"
   ]
  },
  {
   "cell_type": "code",
   "execution_count": null,
   "metadata": {},
   "outputs": [],
   "source": [
    "\n",
    "yearly_age_grp_excess = monthly_excess.groupby(monthly_excess.index.year).sum()\n",
    "print (yearly_age_grp_excess.sum(axis=1))\n",
    "yearly_age_grp_excess"
   ]
  },
  {
   "cell_type": "code",
   "execution_count": null,
   "metadata": {},
   "outputs": [],
   "source": [
    "monthly_excess.groupby([monthly_excess.index.year,monthly_excess.index.month]).cumsum()"
   ]
  },
  {
   "cell_type": "code",
   "execution_count": null,
   "metadata": {},
   "outputs": [],
   "source": [
    "from pandas.tseries.offsets import MonthEnd\n",
    "title='SWEDEN monthly excess deaths 2015 - {} per age grp vs baseline 2015-2018\\nDataSource : scb.se'.format(\n",
    "    (last_good_date + MonthEnd(0)).date())\n",
    "\n",
    "axes = monthly_excess.plot(figsize=(18,12),style='ro--',subplots=True,title=title)\n",
    "\n",
    "for a in axes:\n",
    "    a.set_ylabel('excess deaths')\n",
    "    a.axhline(0,ls='dashed',color='k')\n",
    "    \n",
    "    for i in range(len(monthly_excess.index))[::12]:\n",
    "        a.axvline(monthly_excess.index[i],ls='dashed',color='orange')\n",
    "        \n",
    "plt.savefig('SCB_timeline_age_grp_monthly_excess.jpg',format='jpg')"
   ]
  },
  {
   "cell_type": "code",
   "execution_count": null,
   "metadata": {},
   "outputs": [],
   "source": [
    "monthly_excess"
   ]
  },
  {
   "cell_type": "code",
   "execution_count": null,
   "metadata": {},
   "outputs": [],
   "source": [
    "monthly_cum_excess = monthly_excess.groupby(monthly_excess.index.year).cumsum()\n",
    "monthly_cum_excess"
   ]
  },
  {
   "cell_type": "code",
   "execution_count": null,
   "metadata": {},
   "outputs": [],
   "source": [
    "total_monthly_cum_excess = monthly_cum_excess.sum(axis=1)\n",
    "total_monthly_cum_excess"
   ]
  },
  {
   "cell_type": "code",
   "execution_count": null,
   "metadata": {},
   "outputs": [],
   "source": [
    "title = 'SWEDEN yearly cumulative excess deaths per month [baseline: 2015-2018] 2015-01-01 - {}\\nDataSource : scb.se'.format(\n",
    "total_monthly_cum_excess.index[-2].date())\n",
    "\n",
    "total_monthly_cum_excess[:-1].plot(figsize=(18,12),style='ro--',title=title)\n",
    "plt.axhline(0,ls='dashed',color='k')\n",
    "plt.ylabel('#Excess Deaths')\n",
    "plt.xlabel('year')\n",
    "plt.savefig('SCB_excess_cum_total_excess_deaths_2015_2021_YTD.jpg',format='jpg')"
   ]
  },
  {
   "cell_type": "code",
   "execution_count": null,
   "metadata": {},
   "outputs": [],
   "source": [
    "#### BUG! Identified : scb data error : see note on top of notebook ####\n",
    "#### HOW CAN 90+ HAVE EXCESS DEATHS WHEN MORTALITY FOR THAT AGE GRP AS ABOVE IS BELOW SAME BASELINE....? ####\n",
    "#### ONLY MORTALITY FOR 2020 IS IDENTICAL IN THE TWO COMPUTATIONS - MORTALITY FOR OTHER YEARS IS LOWER FOR ####\n",
    "#### THE OTHER YEARS IN THE SECOND COMPUTATION ####\n",
    "\n",
    "#### the first computation is correct ####\n",
    "\n",
    "title='SWEDEN monthly cumulative excess deaths per year 2015 - {} per age grp vs baseline 2015-2018\\nDataSource : scb.se'.format(\n",
    "    (last_good_date + MonthEnd(0)).date())\n",
    "axes = monthly_cum_excess.plot(figsize=(18,12),subplots=True,style='ro--',title=title)\n",
    "\n",
    "for a in axes:\n",
    "    a.axhline(0,ls='dashed',color='k')\n",
    "    a.set_ylabel('excess deaths')\n",
    "    a.legend(loc='lower left')\n",
    "    \n",
    "    for i in range(len(monthly_cum_excess.index))[::12]:\n",
    "        a.axvline(monthly_cum_excess.index[i],ls='dashed',color='orange')\n",
    "        \n",
    "plt.savefig('SCB_timeline_age_grp_monthly_cumulative_excess.jpg',format='jpg')\n",
    "monthly_cum_excess"
   ]
  },
  {
   "cell_type": "code",
   "execution_count": null,
   "metadata": {},
   "outputs": [],
   "source": [
    "monthly_cum_excess.sum(axis=1)"
   ]
  },
  {
   "cell_type": "code",
   "execution_count": null,
   "metadata": {},
   "outputs": [],
   "source": [
    "monthly_cum_excess.loc['2020'].sum(axis=1)"
   ]
  },
  {
   "cell_type": "code",
   "execution_count": null,
   "metadata": {},
   "outputs": [],
   "source": [
    "monthly_cum_excess.sum(axis=1)[:-1].plot(figsize=(18,12),style='ro--')\n",
    "plt.axhline(0,ls='dashed',color='k')"
   ]
  },
  {
   "cell_type": "code",
   "execution_count": null,
   "metadata": {},
   "outputs": [],
   "source": [
    "#### scb data error, cmp next cell - this one has the correct data for all years ###\n",
    "mort_by_official = age_mortality_flat.loc['2015':]\n",
    "mort_by_official"
   ]
  },
  {
   "cell_type": "code",
   "execution_count": null,
   "metadata": {},
   "outputs": [],
   "source": [
    "#### scb data error - this one has only 2020 correct (all data from prel data scb excel tabell 2)\n",
    "mort_by_prel = monthly_age_grp_mortality_long[:-1].groupby(monthly_age_grp_mortality_long.index[:-1].year).sum()\n",
    "mort_by_prel"
   ]
  },
  {
   "cell_type": "code",
   "execution_count": null,
   "metadata": {},
   "outputs": [],
   "source": [
    "official_2015_2019 = dead_age_scb_prel_df.loc['2015':].unstack()\n",
    "official_2015_2019"
   ]
  },
  {
   "cell_type": "code",
   "execution_count": null,
   "metadata": {},
   "outputs": [],
   "source": [
    "prel_2015_2021 = grp_daily_corrected.groupby(grp_daily_corrected.index.year).sum()\n",
    "prel_2015_2021"
   ]
  },
  {
   "cell_type": "code",
   "execution_count": null,
   "metadata": {},
   "outputs": [],
   "source": [
    "official_2015_2019.index = range(2015,2022)\n",
    "\n",
    "official_2015_2019.index.name='year'\n",
    "\n",
    "official_2015_2019 = official_2015_2019.droplevel(0,axis=1)\n",
    "\n",
    "official_2015_2019"
   ]
  },
  {
   "cell_type": "code",
   "execution_count": null,
   "metadata": {},
   "outputs": [],
   "source": [
    "prel_2015_2021 - official_2015_2019"
   ]
  },
  {
   "cell_type": "code",
   "execution_count": null,
   "metadata": {},
   "outputs": [],
   "source": [
    "official_2015_2019.sum(axis=1)"
   ]
  },
  {
   "cell_type": "code",
   "execution_count": null,
   "metadata": {},
   "outputs": [],
   "source": [
    "prel_2015_2021.sum(axis=1)"
   ]
  },
  {
   "cell_type": "code",
   "execution_count": null,
   "metadata": {},
   "outputs": [],
   "source": [
    "monthly_cum_excess"
   ]
  },
  {
   "cell_type": "code",
   "execution_count": null,
   "metadata": {},
   "outputs": [],
   "source": [
    "monthly_cum_excess.sum(axis=1)"
   ]
  },
  {
   "cell_type": "code",
   "execution_count": null,
   "metadata": {},
   "outputs": [],
   "source": [
    "def plot_excess_timeline(df,title=''):\n",
    "    \n",
    "    year_grps = df.groupby(df.index.year)\n",
    "\n",
    "    yrs = range(2015,previous_year+1)\n",
    "\n",
    "    plt.figure(figsize=(18,12))\n",
    "    plt.title(title)\n",
    "    plt.ylabel('excess deaths')\n",
    "    plt.xlabel('year')\n",
    "\n",
    "    colors = ['blue','green','orange','red']\n",
    "\n",
    "    for y in yrs:\n",
    "\n",
    "        yg = year_grps.get_group(y)\n",
    "\n",
    "        for i, ag in enumerate(yg.columns):\n",
    "\n",
    "            if y == 2015:\n",
    "                label = ag\n",
    "            else:\n",
    "                label = ''\n",
    "\n",
    "            plt.plot(yg[ag],'o--',color=colors[i],label=label)\n",
    "            \n",
    "        if y != yrs[-1]:\n",
    "            label = 'EOY' if y == yrs[0] else ''\n",
    "            plt.axvline(yg.index[-1],color='k',ls='dashed',label=label)\n",
    "    \n",
    "\n",
    "    plt.legend()\n",
    "    plt.axhline(0,color='k',ls='dashed')\n",
    "\n"
   ]
  },
  {
   "cell_type": "code",
   "execution_count": null,
   "metadata": {},
   "outputs": [],
   "source": [
    "leg = '\\nMortality Baseline : 2015-2018'\n",
    "cred = '\\nDataSource : SCB.se'\n",
    "title = 'SWEDEN Cumulative Monthly Excess deaths per age group : timeline 2015-01-01 - {}'.format(\n",
    "    monthly_cum_excess.index[-2].date()) + leg + cred\n",
    "\n",
    "plot_excess_timeline(monthly_cum_excess,title)\n",
    "plt.savefig('SCB_excess_cum_excess_2015_YTD_timeline.jpg',format='jpg')\n",
    "\n",
    "title = 'SWEDEN Monthly Excess deaths per age group : timeline 2015-01-01 - {}'.format(\n",
    "    monthly_cum_excess.index[-2].date()) + leg + cred\n",
    "\n",
    "plot_excess_timeline(monthly_excess,title)\n",
    "plt.savefig('SCB_excess_excess_2015_YTD_timeline.jpg',format='jpg')\n",
    "\n"
   ]
  },
  {
   "cell_type": "code",
   "execution_count": null,
   "metadata": {},
   "outputs": [],
   "source": [
    "##### FHM #####"
   ]
  },
  {
   "cell_type": "code",
   "execution_count": null,
   "metadata": {},
   "outputs": [],
   "source": [
    "#'https://www.arcgis.com/sharing/rest/content/items/b5e7488e117749c19881cce45db13f7e/data'\n",
    "fhm_file = pd.ExcelFile('https://www.arcgis.com/sharing/rest/content/items/b5e7488e117749c19881cce45db13f7e/data')\n",
    "fhm_file.sheet_names"
   ]
  },
  {
   "cell_type": "code",
   "execution_count": null,
   "metadata": {},
   "outputs": [],
   "source": [
    "fhm_daily_dead = fhm_file.parse(sheet_name='Antal avlidna per dag')\n",
    "fhm_daily_dead.tail(20)"
   ]
  },
  {
   "cell_type": "code",
   "execution_count": null,
   "metadata": {},
   "outputs": [],
   "source": [
    "fhm_daily_dead.to_pickle('fhm_daily_dead.pkl')"
   ]
  },
  {
   "cell_type": "code",
   "execution_count": null,
   "metadata": {},
   "outputs": [],
   "source": [
    "fhm_daily_dead.sum()"
   ]
  },
  {
   "cell_type": "code",
   "execution_count": null,
   "metadata": {},
   "outputs": [],
   "source": [
    "fhm_dead_unknowns = fhm_daily_dead.iloc[-1].copy()\n",
    "fhm_daily_dead_knowns = fhm_daily_dead.iloc[:-1].copy()\n",
    "fhm_dead_unknowns"
   ]
  },
  {
   "cell_type": "code",
   "execution_count": null,
   "metadata": {},
   "outputs": [],
   "source": [
    "fhm_daily_dead_knowns"
   ]
  },
  {
   "cell_type": "code",
   "execution_count": null,
   "metadata": {},
   "outputs": [],
   "source": [
    "add_ons = fhm_dead_unknowns.loc['Antal_avlidna'] * (fhm_daily_dead_knowns['Antal_avlidna'] / \n",
    "                                                    fhm_daily_dead_knowns['Antal_avlidna'].sum())\n",
    "#fhm_dead_unknowns.loc['Antal_avlidna']\n",
    "fhm_daily_dead_corrected = add_ons + fhm_daily_dead_knowns['Antal_avlidna']\n",
    "print (fhm_daily_dead_corrected.sum())\n",
    "fhm_daily_dead_corrected"
   ]
  },
  {
   "cell_type": "code",
   "execution_count": null,
   "metadata": {},
   "outputs": [],
   "source": [
    "### NOTE - using only the deaths with known dates, skipping the 40 with unknown date ###\n",
    "fhm_daily_dead_knowns['Datum_avliden'] = pd.to_datetime(fhm_daily_dead_knowns['Datum_avliden'])\n",
    "fhm_daily_dead_knowns.set_index('Datum_avliden',inplace=True)\n",
    "fhm_daily_dead_knowns"
   ]
  },
  {
   "cell_type": "code",
   "execution_count": null,
   "metadata": {},
   "outputs": [],
   "source": [
    "fhm_daily_dead_knowns.tail(30)"
   ]
  },
  {
   "cell_type": "code",
   "execution_count": null,
   "metadata": {},
   "outputs": [],
   "source": [
    "fhm_monthly_dead = fhm_daily_dead_knowns.groupby([fhm_daily_dead_knowns.index.year,fhm_daily_dead_knowns.index.month]).sum()\n",
    "covid_dead_per_month =fhm_monthly_dead.unstack().droplevel(0,axis=1)\n",
    "covid_dead_per_month"
   ]
  },
  {
   "cell_type": "code",
   "execution_count": null,
   "metadata": {},
   "outputs": [],
   "source": [
    "covid_dead_per_month.sum(axis=1)"
   ]
  },
  {
   "cell_type": "code",
   "execution_count": null,
   "metadata": {},
   "outputs": [],
   "source": [
    "print (fhm_daily_dead_knowns.sum())\n",
    "print (fhm_daily_dead_corrected.sum())"
   ]
  },
  {
   "cell_type": "code",
   "execution_count": null,
   "metadata": {},
   "outputs": [],
   "source": [
    "### pattern ###\n",
    "#pd.to_datetime(scb_prel_daily.index[:-1],unit='D',origin='2021')"
   ]
  },
  {
   "cell_type": "code",
   "execution_count": null,
   "metadata": {},
   "outputs": [],
   "source": [
    "all_cause_dead_per_month = scb_prel_age_TD.sum(axis=1).groupby(\n",
    "    [scb_prel_age_TD.sum(axis=1).index.year,scb_prel_age_TD.sum(axis=1).index.month]).sum().unstack()\n",
    "prop_covid_dead_per_month = (covid_dead_per_month / all_cause_dead_per_month.loc['2020':])\n",
    "prop_covid_dead_per_month"
   ]
  },
  {
   "cell_type": "code",
   "execution_count": null,
   "metadata": {},
   "outputs": [],
   "source": [
    "title='SWEDEN proportion Covid dead of all dead per month, 2020-2022\\nDataSource : scb.se,Folkhälsomyndigheten'\n",
    "prop_covid_dead_per_month.T.plot(kind='bar',figsize=(18,12),title=title)\n",
    "plt.ylabel('proportion Covid dead')\n",
    "plt.xlabel('month of year')\n",
    "plt.savefig('scb_excess_prop_covid_dead_of_all_dead.jpg',format='jpg')"
   ]
  },
  {
   "cell_type": "code",
   "execution_count": null,
   "metadata": {
    "scrolled": false
   },
   "outputs": [],
   "source": [
    "age_grp_deaths_per_month = scb_prel_age_TD.groupby([scb_prel_age_TD.index.year,scb_prel_age_TD.index.month]).sum()\n",
    "age_grp_deaths_per_month.plot(kind='bar',figsize=(18,12),stacked=True)\n",
    "plt.xlabel('year,month')\n",
    "grp_means = age_grp_deaths_per_month.mean()\n",
    "print (grp_means)\n",
    "age_grp_deaths_per_month.tail(48)"
   ]
  },
  {
   "cell_type": "code",
   "execution_count": null,
   "metadata": {},
   "outputs": [],
   "source": [
    "monthly_covid_deaths = \\\n",
    "fhm_daily_dead_knowns.groupby([fhm_daily_dead_knowns.index.year,fhm_daily_dead_knowns.index.month]).sum()\n",
    "\n",
    "ax = monthly_covid_deaths.unstack().droplevel(level=0,axis=1).T.plot(kind='bar',figsize=(18,12))\n",
    "ax.set_ylabel(\"# Covid Dead\")\n",
    "ax.set_xlabel('Month')\n",
    "\n",
    "plt.title('SWEDEN Covid dead per month, 2020,2021,2022 YTD {}\\nDataSource : Folkhälsomyndigheten'.format(\n",
    "fhm_daily_dead_knowns.index[-1].date()))\n",
    "plt.legend(loc='upper center')\n",
    "plt.savefig('scb_excess_covid_dead_monthly_2020_vs_2021.jpg',format='jpg')"
   ]
  },
  {
   "cell_type": "code",
   "execution_count": null,
   "metadata": {},
   "outputs": [],
   "source": [
    "fhm_daily_dead_knowns.sum()"
   ]
  },
  {
   "cell_type": "code",
   "execution_count": null,
   "metadata": {},
   "outputs": [],
   "source": [
    "fhm_daily_dead_knowns.plot(figsize=(18,12),style='o--')\n",
    "plt.savefig('SCB_excess_fhm_daily_dead.jpg',format='jpg')"
   ]
  },
  {
   "cell_type": "code",
   "execution_count": null,
   "metadata": {},
   "outputs": [],
   "source": [
    "fhm_weekly_dead = fhm_daily_dead_knowns.resample('W').sum()\n",
    "fhm_weekly_dead"
   ]
  },
  {
   "cell_type": "code",
   "execution_count": null,
   "metadata": {},
   "outputs": [],
   "source": [
    "fhm_weekly_dead.plot(style='o--',figsize=(18,12))\n",
    "plt.savefig('SCB_excess_fhm_weekly_dead.jpg',format='jpg')"
   ]
  },
  {
   "cell_type": "code",
   "execution_count": null,
   "metadata": {},
   "outputs": [],
   "source": [
    "fhm_positive = fhm_file.parse(sheet_name='Antal per dag region',usecols=[0,1],parse_dates=True,index_col=0)\n",
    "fhm_positive.tail(40)\n"
   ]
  },
  {
   "cell_type": "code",
   "execution_count": null,
   "metadata": {},
   "outputs": [],
   "source": [
    "fhm_weekly_positive = fhm_positive.resample('W').sum()\n",
    "fhm_weekly_positive"
   ]
  },
  {
   "cell_type": "code",
   "execution_count": null,
   "metadata": {},
   "outputs": [],
   "source": [
    "fhm_weekly_positive.plot(style='o--',figsize=(18,12))\n",
    "plt.savefig('SCB_excess_fhm_weekly_positive.jpg',format='jpg')"
   ]
  },
  {
   "cell_type": "code",
   "execution_count": null,
   "metadata": {},
   "outputs": [],
   "source": [
    "fhm_icu = fhm_file.parse(sheet_name='Antal intensivvårdade per dag',parse_dates=True,index_col=0)\n",
    "fhm_icu.plot()\n",
    "fhm_icu.tail(40)"
   ]
  },
  {
   "cell_type": "code",
   "execution_count": null,
   "metadata": {},
   "outputs": [],
   "source": [
    "fhm_daily_dead_knowns"
   ]
  },
  {
   "cell_type": "code",
   "execution_count": null,
   "metadata": {},
   "outputs": [],
   "source": [
    "fhm_all_daily = fhm_positive.join(fhm_icu).join(fhm_daily_dead_knowns)\n",
    "fhm_all_daily.columns=['Cases','ICUs','Dead']"
   ]
  },
  {
   "cell_type": "code",
   "execution_count": null,
   "metadata": {},
   "outputs": [],
   "source": [
    "fhm_all_daily.sum()"
   ]
  },
  {
   "cell_type": "code",
   "execution_count": null,
   "metadata": {},
   "outputs": [],
   "source": [
    "fhm_all_daily"
   ]
  },
  {
   "cell_type": "code",
   "execution_count": null,
   "metadata": {},
   "outputs": [],
   "source": [
    "title='SWEDEN Daily Covid Events, {} - {}\\nDataSource : Folkhälsomyndigheten'.format(\n",
    "fhm_all_daily.index[0].date(),fhm_all_daily.index[-1].date())\n",
    "\n",
    "axes = fhm_all_daily.plot(subplots=True,figsize=(18,12),title=title,\n",
    "                          color=['blue','orange','red'],ls='dashed')\n",
    "for ax in axes:\n",
    "    \n",
    "    ax.set_xlabel('date')\n",
    "    ax.set_ylabel('nr. of events')\n",
    "    ax.legend(loc='upper left')\n",
    "    \n",
    "plt.savefig('scb_excess_fhm_daily_events.jpg',format='jpg')"
   ]
  },
  {
   "cell_type": "code",
   "execution_count": null,
   "metadata": {},
   "outputs": [],
   "source": [
    "fhm_all_daily.rolling(7).mean()"
   ]
  },
  {
   "cell_type": "code",
   "execution_count": null,
   "metadata": {},
   "outputs": [],
   "source": [
    "title='SWEDEN Daily Covid Events, Rolling 7 Day Avg. {} - {}\\nDataSource : Folkhälsomyndigheten'.format(\n",
    "fhm_all_daily.index[0].date(),fhm_all_daily.index[-1].date())\n",
    "\n",
    "axes = fhm_all_daily.rolling(7).mean().plot(subplots=True,figsize=(18,12),title=title,\n",
    "                          color=['blue','orange','red'],ls='dashed')\n",
    "for ax in axes:\n",
    "    \n",
    "    ax.set_xlabel('date')\n",
    "    ax.set_ylabel('nr. of events')\n",
    "    ax.legend(loc='upper left')\n",
    "    ax.axvline('2022-02-09',ls='dashed',color='k',label='Feb 9 2022 - All Covid Restrictions Removed')\n",
    "    ax.legend(loc='upper left')\n",
    "    \n",
    "plt.savefig('scb_excess_fhm_daily_events_rolling.jpg',format='jpg')"
   ]
  },
  {
   "cell_type": "code",
   "execution_count": null,
   "metadata": {},
   "outputs": [],
   "source": [
    "fhm_all_daily.tail(60)"
   ]
  },
  {
   "cell_type": "code",
   "execution_count": null,
   "metadata": {},
   "outputs": [],
   "source": [
    "### last n days ###\n",
    "nr_of_days = 60\n",
    "fhm_daily_last_30_days = fhm_all_daily.iloc[-nr_of_days:]\n",
    "fhm_daily_last_30_days.tail(40)"
   ]
  },
  {
   "cell_type": "code",
   "execution_count": null,
   "metadata": {},
   "outputs": [],
   "source": [
    "title='SWEDEN Daily Covid Events, last {} days : {} - {}\\nDataSource : Folkhälsomyndigheten'.format(\n",
    "nr_of_days, fhm_daily_last_30_days.index[0].date(),fhm_daily_last_30_days.index[-1].date())\n",
    "\n",
    "axes = fhm_daily_last_30_days.plot(subplots=True,figsize=(18,12),title=title,\n",
    "                          color=['blue','orange','red'],ls='dashed',marker='o')\n",
    "for ax in axes:\n",
    "    \n",
    "    ax.set_xlabel('date')\n",
    "    ax.set_ylabel('nr. of events')\n",
    "    ax.legend(loc='upper left')\n",
    "    \n",
    "plt.savefig('scb_excess_fhm_daily_last_30_events.jpg',format='jpg')"
   ]
  },
  {
   "cell_type": "code",
   "execution_count": null,
   "metadata": {},
   "outputs": [],
   "source": [
    "title='SWEDEN Daily Covid Events, last {} days, Rolling 7 day Avg.  : {} - {}\\nDataSource : Folkhälsomyndigheten'.format(\n",
    "nr_of_days, fhm_daily_last_30_days.index[0].date(),fhm_daily_last_30_days.index[-1].date())\n",
    "\n",
    "fhm_all_daily_rolling_last_30_days = fhm_daily_last_30_days.rolling(7).mean()\n",
    "\n",
    "axes = fhm_all_daily_rolling_last_30_days.plot(figsize=(18,12),subplots=True,ls='dashed',marker='o',\n",
    "                                        color=['blue','orange','red'],title=title)\n",
    "\n",
    "for ax in axes:\n",
    "    \n",
    "    ax.set_xlabel('date')\n",
    "    ax.set_ylabel('nr. of events')\n",
    "    ax.legend(loc='upper left')\n",
    "    ax.axvline('2022-02-09',ls='dashed',color='k',label='2022-02-09 Restrictions Removed')\n",
    "    ax.legend(loc='upper left')\n",
    "\n",
    "    \n",
    "plt.savefig('scb_excess_fhm_daily_last_30_events_rolling.jpg',format='jpg')"
   ]
  },
  {
   "cell_type": "code",
   "execution_count": null,
   "metadata": {},
   "outputs": [],
   "source": [
    "fhm_all_daily.groupby(fhm_all_daily.index.year).sum()"
   ]
  },
  {
   "cell_type": "code",
   "execution_count": null,
   "metadata": {},
   "outputs": [],
   "source": [
    "fhm_icu_weekly = fhm_icu.resample('W').sum()\n",
    "fhm_icu_weekly"
   ]
  },
  {
   "cell_type": "code",
   "execution_count": null,
   "metadata": {},
   "outputs": [],
   "source": [
    "print(fhm_icu_weekly.loc['2020-05'])\n",
    "print (fhm_icu_weekly.loc['2021-05'])"
   ]
  },
  {
   "cell_type": "code",
   "execution_count": null,
   "metadata": {},
   "outputs": [],
   "source": [
    "last_good = fhm_icu_weekly.index[-2].date()\n",
    "one_year_back_from_last = last_good - pd.DateOffset(years=1)\n",
    "one_week_fwd = last_good + pd.DateOffset(weeks=1)\n",
    "\n",
    "title = \"SWEDEN nr COVID ICU cases per week {} - {}\".format(fhm_icu_weekly.index[0].date(),last_good)\n",
    "ax = fhm_icu_weekly[:-1].plot(style='o--',figsize=(18,12),title=title)\n",
    "plt.axvline(one_year_back_from_last,ls='dashed',color='orange',label='one year back from latest week')\n",
    "plt.axvline(last_good,color='red',ls='dashed',label='latest week')\n",
    "fhm_icu_weekly.plot(ax=ax,alpha=0) # to extend the x-axis one more week for clarity #\n",
    "plt.ylabel('nr ICU cases per week')\n",
    "plt.legend(['ICU Cases','one year back from latest week','latest week'],loc='upper right')\n",
    "plt.savefig('SCB_excess_fhm_weekly_icu.jpg',format='jpg')"
   ]
  },
  {
   "cell_type": "code",
   "execution_count": null,
   "metadata": {},
   "outputs": [],
   "source": [
    "fhm_weekly_positive"
   ]
  },
  {
   "cell_type": "code",
   "execution_count": null,
   "metadata": {},
   "outputs": [],
   "source": [
    "fhm_weekly_positive.tail()"
   ]
  },
  {
   "cell_type": "code",
   "execution_count": null,
   "metadata": {},
   "outputs": [],
   "source": [
    "def covid_plots(df,title_sub,ax,full_date_range):\n",
    "    last_good = df.index[-2].date()\n",
    "    one_year_back_from_last = last_good - pd.DateOffset(years=1)\n",
    "    print ('one year back : ',one_year_back_from_last)\n",
    "    one_week_fwd = last_good + pd.DateOffset(weeks=1)\n",
    "    \n",
    "    ### put all 3 sublots with identical x-axis, covering the full period from first case ###\n",
    "    ax.plot(full_date_range,[df.max().values[0]] * (len(full_date_range) ),alpha=0)\n",
    "\n",
    "    title = \"SWEDEN nr COVID \" + title_sub + \" per week {} - {}\".format(df.index[0].date(),last_good)\n",
    "    df[:-1].plot(style='o--',figsize=(18,12),title=title,ax=ax)\n",
    "    ax.axvline(one_year_back_from_last,ls='dashed',color='orange',label='one year back from latest week')\n",
    "    ax.axvline(last_good,color='red',ls='dashed',label='latest week')\n",
    "    df.plot(ax=ax,alpha=0) # to extend the x-axis one more week for clarity #\n",
    "    ax.set_ylabel('nr ' + title_sub + ' per week')\n",
    "    ax.set_xlabel('date')\n",
    "    ax.legend([None,title_sub,'one year back from latest week','latest week'],loc='upper center',\n",
    "             framealpha=0.3)\n",
    "    \n",
    "fig,axes = plt.subplots(3,sharex=True)\n",
    "\n",
    "full_date_range = pd.date_range('2020-02-09',fhm_weekly_positive.index[-1],freq='W')\n",
    "\n",
    "covid_plots(fhm_weekly_positive,'Positive',axes[0],full_date_range)\n",
    "covid_plots(fhm_icu_weekly,'ICU Cases',axes[1],full_date_range)\n",
    "covid_plots(fhm_weekly_dead,'Deaths',axes[2],full_date_range)\n",
    "\n",
    "plt.suptitle('SWEDEN weekly Covid Events\\nDatasource : folkhalsomyndigheten.se')\n",
    "plt.savefig('scb_excess_fhm_combined.jpg',format='jpg')"
   ]
  },
  {
   "cell_type": "code",
   "execution_count": null,
   "metadata": {},
   "outputs": [],
   "source": [
    "fhm_positive.tail(30)"
   ]
  },
  {
   "cell_type": "code",
   "execution_count": null,
   "metadata": {},
   "outputs": [],
   "source": [
    "fhm_age_grp_impact = fhm_file.parse(sheet_name='Totalt antal per åldersgrupp',skipfooter=1)\n",
    "fhm_age_grp_impact['10_year_bin'] = ['0-9','10-19','20-29','30-39','40-49','50-59','60-69','70-79','80-89','90+']\n",
    "fhm_age_grp_impact.set_index('10_year_bin',inplace=True)\n",
    "fhm_age_grp_impact.drop('Åldersgrupp',axis=1,inplace=True)\n",
    "fhm_age_grp_impact"
   ]
  },
  {
   "cell_type": "code",
   "execution_count": null,
   "metadata": {},
   "outputs": [],
   "source": [
    "fhm_age_grp_impact['Totalt_antal_avlidna'].plot(kind='bar')"
   ]
  },
  {
   "cell_type": "code",
   "execution_count": null,
   "metadata": {
    "scrolled": false
   },
   "outputs": [],
   "source": [
    "title = 'SWEDEN Cumulative Proportion Covid Attributed Deaths per Age Grp.\\nDataSource : Folkhälsomyndigheten'\n",
    "ax = (fhm_age_grp_impact['Totalt_antal_avlidna'].cumsum() /\\\n",
    "fhm_age_grp_impact['Totalt_antal_avlidna'].sum()).plot(figsize=(18,12),kind='bar',color='red',title=title)\n",
    "\n",
    "ax.set_ylabel('proportion')\n",
    "ax.set_xlabel('age grp')\n",
    "_= ax.set_yticks(np.arange(0,1.05,0.05))\n",
    "\n",
    "plt.savefig('scb_excess_fhm_cumulative_proportion.jpg',format='jpg')"
   ]
  },
  {
   "cell_type": "code",
   "execution_count": null,
   "metadata": {},
   "outputs": [],
   "source": [
    "(fhm_age_grp_impact['Totalt_antal_avlidna'] / fhm_age_grp_impact['Totalt_antal_avlidna'].sum()).plot(\n",
    "figsize=(18,12),kind='bar',color='red')\n",
    "\n",
    "fhm_age_grp_impact['Totalt_antal_avlidna'] / fhm_age_grp_impact['Totalt_antal_avlidna'].sum()"
   ]
  },
  {
   "cell_type": "code",
   "execution_count": null,
   "metadata": {},
   "outputs": [],
   "source": [
    "ten_year_bins = pd.cut(pop_age_df.loc['2020'].index,[-1,9,19,29,39,49,59,69,79,89,200],\n",
    "       labels=['0-9','10-19','20-29','30-39','40-49','50-59','60-69','70-79','80-89','90+'])\n",
    "\n",
    "ten_year_bins"
   ]
  },
  {
   "cell_type": "code",
   "execution_count": null,
   "metadata": {},
   "outputs": [],
   "source": [
    "twenty_twenty_pop = pop_age_df.loc['2020'].copy()\n",
    "twenty_twenty_pop['10_year_bin'] = ten_year_bins\n",
    "twenty_twenty_pop = twenty_twenty_pop.groupby('10_year_bin').sum()\n"
   ]
  },
  {
   "cell_type": "code",
   "execution_count": null,
   "metadata": {},
   "outputs": [],
   "source": [
    "dead_age_df"
   ]
  },
  {
   "cell_type": "code",
   "execution_count": null,
   "metadata": {},
   "outputs": [],
   "source": [
    "dead_age_df['10_y_bin'] = pd.cut(\n",
    "    dead_age_df.index.get_level_values(1),[-1,9,19,29,39,49,59,69,79,89,100],labels=fhm_age_grp_impact.index.values)\n",
    "\n",
    "pop_age_df['10_y_bin'] = pd.cut(\n",
    "    pop_age_df.index.get_level_values(1),[-1,9,19,29,39,49,59,69,79,89,100],labels=fhm_age_grp_impact.index.values)\n",
    "\n",
    "dead_age_df.loc['2020'][8:12]"
   ]
  },
  {
   "cell_type": "code",
   "execution_count": null,
   "metadata": {},
   "outputs": [],
   "source": [
    "baseline_15_18_10_y_deaths = dead_age_df.loc['2015' : '2018'].groupby(\n",
    "    ['year','10_y_bin']).sum().groupby('10_y_bin').mean()\n",
    "\n",
    "baseline_15_18_10_y_deaths"
   ]
  },
  {
   "cell_type": "code",
   "execution_count": null,
   "metadata": {},
   "outputs": [],
   "source": [
    "pop_age_df.loc['2015' : '2018']"
   ]
  },
  {
   "cell_type": "code",
   "execution_count": null,
   "metadata": {},
   "outputs": [],
   "source": [
    "baseline_15_18_10_y_pop = pop_age_df.loc['2015' : '2018'].groupby(\n",
    "    ['year','10_y_bin']).sum().groupby('10_y_bin').mean()\n",
    "\n",
    "baseline_15_18_10_y_pop"
   ]
  },
  {
   "cell_type": "code",
   "execution_count": null,
   "metadata": {},
   "outputs": [],
   "source": []
  },
  {
   "cell_type": "code",
   "execution_count": null,
   "metadata": {},
   "outputs": [],
   "source": [
    "twenty_twenty_pop"
   ]
  },
  {
   "cell_type": "code",
   "execution_count": null,
   "metadata": {},
   "outputs": [],
   "source": [
    "baseline_15_18_mort =  baseline_15_18_10_y_deaths['dead'] / twenty_twenty_pop['pop']\n",
    "baseline_15_18_mort =  baseline_15_18_10_y_deaths['dead'] / baseline_15_18_10_y_pop['pop']\n",
    "\n",
    "baseline_15_18_mort"
   ]
  },
  {
   "cell_type": "code",
   "execution_count": null,
   "metadata": {},
   "outputs": [],
   "source": [
    "title = 'SWEDEN Annual proportion of all cause deaths of population age group\\nDataSource : scb.se'\n",
    "baseline_15_18_mort.plot(figsize=(18,12),style='ro--',title=title)\n",
    "plt.xticks(range(len(baseline_15_18_mort)),baseline_15_18_mort.index)\n",
    "plt.ylabel('proportion deaths')\n",
    "plt.savefig('SCB_excess_proportion_all_cause_deaths.jpg',format='jpg')"
   ]
  },
  {
   "cell_type": "code",
   "execution_count": null,
   "metadata": {},
   "outputs": [],
   "source": [
    "fhm_age_grp_impact"
   ]
  },
  {
   "cell_type": "code",
   "execution_count": null,
   "metadata": {},
   "outputs": [],
   "source": [
    "fhm_age_grp_impact.sum()"
   ]
  },
  {
   "cell_type": "code",
   "execution_count": null,
   "metadata": {},
   "outputs": [],
   "source": [
    "twenty_twenty_pop"
   ]
  },
  {
   "cell_type": "code",
   "execution_count": null,
   "metadata": {},
   "outputs": [],
   "source": [
    "### NOTE THAT SINCE THE AGE GRP IMPACT NUMBERS EXTEND TO 2021, THE FRACTION BELOW DOES NOT SHOW POPULATION \n",
    "### IMPACT 2020 ###\n",
    "\n",
    "prop_impacted_YTD = fhm_age_grp_impact.div(twenty_twenty_pop['pop'],axis=0)\n",
    "prop_impacted_YTD['CFR'] = fhm_age_grp_impact['Totalt_antal_avlidna'] / fhm_age_grp_impact['Totalt_antal_fall']\n",
    "\n",
    "prop_impacted_YTD['baseline_15_18_all_cause_mortality'] = baseline_15_18_mort\n",
    "prop_impacted_YTD['covid_base_ratio'] = prop_impacted_YTD['Totalt_antal_avlidna'] / prop_impacted_YTD['baseline_15_18_all_cause_mortality']\n",
    "prop_impacted_YTD.to_pickle('covid_prop_impacted.pkl')\n",
    "prop_impacted_YTD"
   ]
  },
  {
   "cell_type": "code",
   "execution_count": null,
   "metadata": {},
   "outputs": [],
   "source": [
    "odds_impacted_YTD = 1 / prop_impacted_YTD[['Totalt_antal_fall','Totalt_antal_intensivvårdade',\n",
    "                                      'Totalt_antal_avlidna']]\n",
    "\n",
    "odds_impacted_YTD"
   ]
  },
  {
   "cell_type": "code",
   "execution_count": null,
   "metadata": {},
   "outputs": [],
   "source": [
    "odds_impacted_YTD.plot(kind='bar',subplots=True,logy=True,figsize=(18,12))"
   ]
  },
  {
   "cell_type": "code",
   "execution_count": null,
   "metadata": {},
   "outputs": [],
   "source": [
    "creds = '\\nDataSouce : scb.se, folkhalsomyndigheten.se'\n",
    "title = 'SWEDEN proportion of age grp impacted by Covid, Feb 2020 to 2021 YTD [2020 population count]' + creds\n",
    "\n",
    "legend = ['Covid Positive','Covid ICU','Covid Death','Baseline 2015-2018 All Cause Mortality','CFR']\n",
    "\n",
    "axes = prop_impacted_YTD.plot(subplots=True,figsize=(18,12),style=['bo--','go--','ro--','ko--','mo--'],\n",
    "                             title=title,label=legend,\n",
    "                              y=['Totalt_antal_fall','Totalt_antal_intensivvårdade',\n",
    "                                           'Totalt_antal_avlidna','baseline_15_18_all_cause_mortality','CFR'])\n",
    "\n",
    "\n",
    "for i,a in enumerate(axes):\n",
    "    a.set_xticks(range(len(prop_impacted_YTD)))\n",
    "    a.set_xticklabels(prop_impacted_YTD.index)\n",
    "    a.set_ylabel('prop impact')\n",
    "    a.legend(loc='upper left')\n",
    "    \n",
    "axes[-1].set_ylabel('CFR')\n",
    "plt.savefig('SCB_excess_covid_impact.jpg',format='jpg')"
   ]
  },
  {
   "cell_type": "code",
   "execution_count": null,
   "metadata": {},
   "outputs": [],
   "source": [
    "fhm_age_grp_impact"
   ]
  },
  {
   "cell_type": "code",
   "execution_count": null,
   "metadata": {},
   "outputs": [],
   "source": [
    "title = 'SWEDEN Covid Case Fatality Rate per age group\\nDataSource : Folkhalsomyndigheten.se'\n",
    "prop_impacted_YTD.plot(y='CFR',kind='bar',figsize=(18,12),title=title)\n",
    "plt.savefig('scb_error_cfr.jpg',format='jpg')"
   ]
  },
  {
   "cell_type": "code",
   "execution_count": null,
   "metadata": {},
   "outputs": [],
   "source": [
    "fhm_age_grp_impact['bin_mid'] = range(5,100,10)\n",
    "fhm_age_grp_impact"
   ]
  },
  {
   "cell_type": "code",
   "execution_count": null,
   "metadata": {},
   "outputs": [],
   "source": [
    "### adjust 2020 pop to correspond to the FHM numbers that extend beyond 2020 ###\n",
    "fhm_last_data = pd.to_datetime(fhm_file.sheet_names[-1].strip('FOHM ')) - pd.DateOffset(days=1)\n",
    "print (fhm_last_data)\n",
    "\n",
    "fhm_last_day_of_year = fhm_last_data.dayofyear\n",
    "print (fhm_last_day_of_year)\n",
    "fhm_pop_factor = (365 + fhm_last_day_of_year) / 365\n",
    "print (fhm_pop_factor)"
   ]
  },
  {
   "cell_type": "code",
   "execution_count": null,
   "metadata": {},
   "outputs": [],
   "source": [
    "### adjust population size to account for FHM data covering more than a year ###\n",
    "prop_impacted_YTD_adj = fhm_age_grp_impact.div(twenty_twenty_pop['pop'] * fhm_pop_factor,axis=0)\n",
    "prop_impacted_YTD_adj['CFR'] = fhm_age_grp_impact['Totalt_antal_avlidna'] / fhm_age_grp_impact['Totalt_antal_fall']\n",
    "\n",
    "prop_impacted_YTD_adj['baseline_15_18_all_cause_mortality'] = baseline_15_18_mort\n",
    "print (prop_impacted_YTD_adj['Totalt_antal_avlidna'])\n",
    "prop_impacted_YTD_adj.to_pickle('covid_prop_impacted_adj.pkl')\n",
    "prop_impacted_YTD_adj"
   ]
  },
  {
   "cell_type": "code",
   "execution_count": null,
   "metadata": {},
   "outputs": [],
   "source": [
    "print (prop_impacted_YTD - prop_impacted_YTD_adj)\n",
    "prop_impacted_YTD"
   ]
  },
  {
   "cell_type": "code",
   "execution_count": null,
   "metadata": {},
   "outputs": [],
   "source": [
    "creds = '\\nDataSouce : scb.se, folkhalsomyndigheten.se'\n",
    "title = 'SWEDEN proportion of age grp impacted by Covid, Feb 2020 to 2021 YTD [2020 population count adj.]' + creds\n",
    "\n",
    "legend = ['Covid Positive','Covid ICU','Covid Death','Baseline 2015-2018 All Cause Mortality','CFR']\n",
    "\n",
    "axes = prop_impacted_YTD_adj.plot(subplots=True,figsize=(18,12),style=['bo--','go--','ro--','ko--','mo--'],\n",
    "                             title=title,label=legend,\n",
    "                              y=['Totalt_antal_fall','Totalt_antal_intensivvårdade',\n",
    "                                           'Totalt_antal_avlidna','baseline_15_18_all_cause_mortality','CFR'])\n",
    "\n",
    "\n",
    "for i,a in enumerate(axes):\n",
    "    a.set_xticks(range(len(prop_impacted_YTD)))\n",
    "    a.set_xticklabels(prop_impacted_YTD.index)\n",
    "    a.set_ylabel('prop impact')\n",
    "    a.legend(loc='upper left')\n",
    "    \n",
    "axes[-1].set_ylabel('CFR')\n",
    "plt.savefig('SCB_excess_covid_impact_adj.jpg',format='jpg')"
   ]
  },
  {
   "cell_type": "code",
   "execution_count": null,
   "metadata": {},
   "outputs": [],
   "source": [
    "fhm_age_flat = np.repeat(fhm_age_grp_impact['bin_mid'],fhm_age_grp_impact['Totalt_antal_avlidna'])\n",
    "fhm_age_flat"
   ]
  },
  {
   "cell_type": "code",
   "execution_count": null,
   "metadata": {},
   "outputs": [],
   "source": [
    "fig,ax = plt.subplots(figsize=(18,12))\n",
    "sns.violinplot(data=fhm_age_flat,ax=ax)\n",
    "plt.title('SWEDEN Covid deaths age group distribution')\n",
    "plt.ylabel('age group')\n",
    "\n",
    "_=plt.yticks(range(5,100,10),range(5,100,10))"
   ]
  },
  {
   "cell_type": "code",
   "execution_count": null,
   "metadata": {},
   "outputs": [],
   "source": [
    "fhm_age_flat.describe()"
   ]
  },
  {
   "cell_type": "code",
   "execution_count": null,
   "metadata": {},
   "outputs": [],
   "source": [
    "def mid_bin(x):\n",
    "    return pd.Series(np.array(x))\n",
    "\n",
    "mids = mid_bin(dead_age_df['10_y_bin']).apply(lambda x : int(x[0] + '5'))\n",
    "\n",
    "dead_age_df['mid_bin'] = mids.values\n",
    "dead_age_df"
   ]
  },
  {
   "cell_type": "code",
   "execution_count": null,
   "metadata": {},
   "outputs": [],
   "source": [
    "baseline_age_dead = dead_age_df.loc['2015':'2018'].groupby('mid_bin').mean()\n",
    "baseline_age_dead"
   ]
  },
  {
   "cell_type": "code",
   "execution_count": null,
   "metadata": {},
   "outputs": [],
   "source": [
    "fig,ax = plt.subplots(figsize=(18,12))\n",
    "\n",
    "title = 'SWEDEN age of death distribution for baseline 2015-2018' +\\\n",
    "'vs Covid death distribution [10 year bins]\\nDataSource : scb.se, folkhalsomyndigheten.se'\n",
    "\n",
    "baseline_age_flat = pd.Series(np.repeat(baseline_age_dead.index.values,np.round(baseline_age_dead['dead'],0).astype(int)))\n",
    "sns.violinplot(data=baseline_age_flat,ax=ax)\n",
    "sns.violinplot(data=fhm_age_flat,color='orange')\n",
    "plt.title(title)\n",
    "plt.ylabel('age bin [10y]')\n",
    "plt.xlabel('baseline 2015-2018,Covid-2020')\n",
    "\n",
    "plt.savefig('SCB_excess_covid_all_cause_deaths_dist_violin.jpg',format='jpg')"
   ]
  },
  {
   "cell_type": "code",
   "execution_count": null,
   "metadata": {},
   "outputs": [],
   "source": [
    "grp_corrected_weekly = grp_daily_corrected.loc['2015' : '2020']\n",
    "grp_corrected_weekly = grp_corrected_weekly.resample('W').sum()\n",
    "weekly_prop = grp_corrected_weekly.groupby(grp_corrected_weekly.index.year).transform(lambda x : x / x.sum())\n",
    "weekly_prop"
   ]
  },
  {
   "cell_type": "code",
   "execution_count": null,
   "metadata": {},
   "outputs": [],
   "source": [
    "weekly_prop[:-1].plot(figsize=(18,12),subplots=True,style='o--')"
   ]
  },
  {
   "cell_type": "code",
   "execution_count": null,
   "metadata": {},
   "outputs": [],
   "source": [
    "last_4_weeks = weekly_prop.loc[weekly_prop.index.week.isin([49,50,51,52,53])]\n",
    "last_4_weeks[:-1].plot(kind='bar',figsize=(18,12))"
   ]
  },
  {
   "cell_type": "code",
   "execution_count": null,
   "metadata": {},
   "outputs": [],
   "source": [
    "last_week_baseline = pd.DataFrame()\n",
    "\n",
    "yearly_last_week_grps = last_4_weeks.groupby(last_4_weeks.index.year)\n",
    "for y in range(2015,2019):\n",
    "    g = yearly_last_week_grps.get_group(y)\n",
    "    last_week_baseline = pd.concat([last_week_baseline,g])\n",
    "    \n",
    "last_week_baseline['week'] = last_week_baseline.index.week\n",
    "last_week_baseline = last_week_baseline.groupby('week').mean()\n",
    "last_week_baseline"
   ]
  },
  {
   "cell_type": "code",
   "execution_count": null,
   "metadata": {},
   "outputs": [],
   "source": [
    "twenty_twenty_last_4_weeks = yearly_last_week_grps.get_group(2020)\n",
    "twenty_twenty_last_4_weeks.index = range(49,53)\n",
    "twenty_twenty_last_4_weeks"
   ]
  },
  {
   "cell_type": "code",
   "execution_count": null,
   "metadata": {},
   "outputs": [],
   "source": [
    "last_4_vs_baseline = twenty_twenty_last_4_weeks / last_week_baseline\n",
    "last_4_vs_baseline.dropna().plot(kind='bar',figsize=(18,12))\n",
    "plt.axhline(1,ls='dashed',color='k')\n",
    "plt.xlabel('week nr')"
   ]
  },
  {
   "cell_type": "code",
   "execution_count": null,
   "metadata": {},
   "outputs": [],
   "source": [
    "last_4_weeks"
   ]
  },
  {
   "cell_type": "code",
   "execution_count": null,
   "metadata": {},
   "outputs": [],
   "source": []
  },
  {
   "cell_type": "code",
   "execution_count": null,
   "metadata": {},
   "outputs": [],
   "source": [
    "monthly_prop = grp_daily_corrected_monthly.groupby(\n",
    "    grp_daily_corrected_monthly.index.year).transform(lambda x : x / x.sum())\n",
    "\n",
    "monthly_prop[:-1].plot(subplots=True,figsize=(18,12),style='o--')"
   ]
  },
  {
   "cell_type": "code",
   "execution_count": null,
   "metadata": {},
   "outputs": [],
   "source": [
    "title = 'SWEDEN December proportion of yearly deaths per age group\\nDataSource : scb.se'\n",
    "decembers = monthly_prop.loc[monthly_prop.index.month==12]\n",
    "decembers.plot(kind='bar',figsize=(18,12),title=title)\n",
    "plt.ylabel('proportion of yearly deaths')\n",
    "plt.xlabel('year')\n",
    "_= plt.xticks(range(len(decembers)),decembers.index.date)"
   ]
  },
  {
   "cell_type": "code",
   "execution_count": null,
   "metadata": {},
   "outputs": [],
   "source": [
    "dead_age_df.groupby([dead_age_df.index.get_level_values(0),'scb_prel_age_bin']).sum()"
   ]
  },
  {
   "cell_type": "code",
   "execution_count": null,
   "metadata": {},
   "outputs": [],
   "source": [
    "axes = mortality_all_grp_TD.loc['2021'].resample('W').sum().plot(subplots=True,figsize=(18,12),style='o--')\n",
    "axes"
   ]
  },
  {
   "cell_type": "code",
   "execution_count": null,
   "metadata": {},
   "outputs": [],
   "source": [
    "mortality_all_grp_TD.plot(figsize=(18,12))\n",
    "mortality_all_grp_TD"
   ]
  },
  {
   "cell_type": "code",
   "execution_count": null,
   "metadata": {},
   "outputs": [],
   "source": [
    "### there are 20 years. By using 366 days per year (i.e. having Feb 29 each year) while only 5 years\n",
    "### (2020,2016,2012,2008,2004) are true leap years. So, we overshoot by 15 days in replicating the population.\n",
    "### So, we must remove the 59:th day for all years except the true leap years. \n",
    "\n",
    "daily_age_grp_pop = np.tile(pop_age_scb_prel_df.unstack().droplevel(0,axis=1).values,366).reshape(-1,4)\n",
    "\n",
    "# day number of feb 29:th each year\n",
    "day_59 = np.array([(366 * i + 59)  for i in range(21)]) \n",
    "\n",
    "# leap years 2002-2021\n",
    "leap = np.array([False,False,True,False,False,False,True,False,False,False,True,False,False,False,True,\n",
    "       False,False,False,True,False,False])\n",
    "\n",
    "day_59[~leap]"
   ]
  },
  {
   "cell_type": "code",
   "execution_count": null,
   "metadata": {},
   "outputs": [],
   "source": [
    "daily_age_grp_pop = np.delete(daily_age_grp_pop,day_59[~leap],axis=0)\n",
    "daily_age_grp_pop"
   ]
  },
  {
   "cell_type": "code",
   "execution_count": null,
   "metadata": {},
   "outputs": [],
   "source": [
    "pop_age_scb_prel_df_daily = pd.DataFrame(\n",
    "    daily_age_grp_pop,\n",
    "columns=monthly_age_grp_mortality_long.columns,index=pd.date_range('2002-01-01','2022-12-31',freq='D'))\n",
    "\n",
    "pop_age_scb_prel_df_daily"
   ]
  },
  {
   "cell_type": "code",
   "execution_count": null,
   "metadata": {},
   "outputs": [],
   "source": [
    "daily_deaths = (mortality_all_grp_TD * pop_age_scb_prel_df_daily).dropna()\n",
    "daily_deaths"
   ]
  },
  {
   "cell_type": "code",
   "execution_count": null,
   "metadata": {},
   "outputs": [],
   "source": [
    "grp_mortality_15_18 = mortality_all_grp_TD.loc['2015' : '2018']\n",
    "\n",
    "baseline_daily_mortality = grp_mortality_15_18.groupby(grp_mortality_15_18.index.dayofyear).mean()\n",
    "baseline_daily_mortality"
   ]
  },
  {
   "cell_type": "code",
   "execution_count": null,
   "metadata": {},
   "outputs": [],
   "source": [
    "baseline_daily_mortality.plot(figsize=(18,12))\n"
   ]
  },
  {
   "cell_type": "code",
   "execution_count": null,
   "metadata": {},
   "outputs": [],
   "source": [
    "baseline_daily_tiled = np.concatenate([baseline_daily_mortality.values] * 21).reshape(-1,4)\n",
    "baseline_daily_tiled = pd.DataFrame(np.delete(baseline_daily_tiled,day_59[~leap],axis=0),\n",
    "                                   columns=['-64','65-79','80-89','90+'])\n"
   ]
  },
  {
   "cell_type": "code",
   "execution_count": null,
   "metadata": {},
   "outputs": [],
   "source": [
    "foo = np.array([[1,2,3,4],[5,6,7,8],[9,10,11,12],[13,14,15,16]])\n",
    "np.concatenate([foo] * 4)"
   ]
  },
  {
   "cell_type": "code",
   "execution_count": null,
   "metadata": {},
   "outputs": [],
   "source": [
    "#baseline_daily_tiled.index = pd.date_range('2002-01-01','2021-12-31')\n",
    "ax = baseline_daily_tiled.plot(figsize=(18,12),logy=True)\n",
    "baseline_daily_tiled\n"
   ]
  },
  {
   "cell_type": "code",
   "execution_count": null,
   "metadata": {},
   "outputs": [],
   "source": [
    "#pop_age_scb_prel_df_daily['day_nr'] = pop_age_scb_prel_df_daily.index.dayofyear\n",
    "#pop_age_scb_prel_df_daily = pop_age_scb_prel_df_daily.set_index('day_nr')\n",
    "pop_age_scb_prel_df_daily"
   ]
  },
  {
   "cell_type": "code",
   "execution_count": null,
   "metadata": {},
   "outputs": [],
   "source": [
    "expected_daily_deaths = baseline_daily_tiled * pop_age_scb_prel_df_daily.reset_index(drop=True)\n",
    "expected_daily_deaths.index = pd.date_range('2002','2022-12-31')\n",
    "\n",
    "ax = expected_daily_deaths.loc['2015':].sum(axis=1).plot(figsize=(18,12))\n",
    "daily_deaths.sum(axis=1).plot(ax=ax)\n",
    "expected_daily_deaths"
   ]
  },
  {
   "cell_type": "code",
   "execution_count": null,
   "metadata": {},
   "outputs": [],
   "source": [
    "daily_excess_deaths = (daily_deaths - expected_daily_deaths).dropna()\n",
    "daily_excess_deaths"
   ]
  },
  {
   "cell_type": "code",
   "execution_count": null,
   "metadata": {},
   "outputs": [],
   "source": [
    "daily_excess_deaths.sum(axis=1).groupby(daily_excess_deaths.index.year).sum()"
   ]
  },
  {
   "cell_type": "code",
   "execution_count": null,
   "metadata": {},
   "outputs": [],
   "source": [
    "axes = daily_excess_deaths.plot(subplots=True,figsize=(18,12))\n",
    "\n",
    "for a in axes:\n",
    "    a.axhline(0,ls='dashed',color='k')"
   ]
  },
  {
   "cell_type": "code",
   "execution_count": null,
   "metadata": {},
   "outputs": [],
   "source": [
    "first = daily_excess_deaths.rolling(7).mean().dropna().index[0]\n",
    "last = daily_excess_deaths.rolling(7).mean().dropna().index[-1]\n",
    "\n",
    "print (first,last)\n",
    "\n",
    "stable = last - pd.DateOffset(days=14)\n",
    "stable"
   ]
  },
  {
   "cell_type": "code",
   "execution_count": null,
   "metadata": {},
   "outputs": [],
   "source": [
    "title = 'SWEDEN Daily Excess Deaths per age grp, Rolling 7 day avg, {} - {} \\nBaseline : 15-18\\nDataSource : scb.se'.format(\n",
    "first.date(),last.date())\n",
    "\n",
    "axes = daily_excess_deaths.rolling(7).mean().plot(figsize=(18,12),subplots=True,sharey=True,title=title)\n",
    "for a in axes:\n",
    "    a.axhline(0,ls='dashed',color='k')\n",
    "    a.set_ylabel('excess deaths')\n",
    "    a.axvline(stable,ls='dashed',color='orange')\n",
    "    a.legend(loc='upper left')\n",
    "    \n",
    "plt.savefig('scb_excess_daily_excess_rolling.jpg',format='jpg')"
   ]
  },
  {
   "cell_type": "code",
   "execution_count": null,
   "metadata": {},
   "outputs": [],
   "source": [
    "title = 'SWEDEN cumulative rolling daily 7 day avg excess deaths per age group since Oct 2015\\nBaseline : 15-18\\nDataSource : scb.se'\n",
    "ax = (daily_excess_deaths.loc['2019-09-23':].rolling(7).mean()).dropna().cumsum().plot(figsize=(18,12),\n",
    "                                                                                      title=title)\n",
    "ax.axhline(0,ls='dashed',color='k')\n",
    "ax.set_ylabel('Cumulative Excess Deaths')\n",
    "plt.savefig('scb_excess_cum_age_grp_excess_line.jpg',format='jpg')"
   ]
  },
  {
   "cell_type": "code",
   "execution_count": null,
   "metadata": {},
   "outputs": [],
   "source": [
    "weekly_excess_deaths = daily_excess_deaths.resample('W').sum()\n",
    "\n",
    "last_week = weekly_excess_deaths.index[-2].date()\n",
    "print (last_week)\n",
    "print (weekly_excess_deaths[:].tail())\n",
    "    \n",
    "axes = weekly_excess_deaths[:].plot(subplots=True,figsize=(18,12))\n",
    "\n",
    "for a in axes:\n",
    "    a.axhline(0,ls='dashed',color='k')"
   ]
  },
  {
   "cell_type": "code",
   "execution_count": null,
   "metadata": {},
   "outputs": [],
   "source": [
    "monthly_excess = daily_excess_deaths.resample('M').sum()\n",
    "monthly_excess"
   ]
  },
  {
   "cell_type": "code",
   "execution_count": null,
   "metadata": {},
   "outputs": [],
   "source": [
    "axes = monthly_excess[:-1].plot(figsize=(18,12),style='o--',subplots=True,sharey=True)\n",
    "\n",
    "for a in axes:\n",
    "    a.axhline(0,ls='dashed',color='k')"
   ]
  },
  {
   "cell_type": "code",
   "execution_count": null,
   "metadata": {},
   "outputs": [],
   "source": [
    "daily_excess_deaths.resample('Y').sum().sum(axis=1)"
   ]
  },
  {
   "cell_type": "code",
   "execution_count": null,
   "metadata": {},
   "outputs": [],
   "source": [
    "monthly_excess.resample('Y').sum().sum(axis=1)"
   ]
  },
  {
   "cell_type": "code",
   "execution_count": null,
   "metadata": {},
   "outputs": [],
   "source": [
    "#### SPANISH FLU COMPARISON ####\n",
    "\n",
    "#http://share.scb.se/ov9993/data/historisk%20statistik//SOS%201911-/H%C3%A4lso-%20och%20sjukv%C3%A5rd/D%C3%B6dsorsaker%20(SOS)%201911-1996/Dodsorsaker-1918.pdf\n",
    "\n",
    "deaths_1918_file = pd.ExcelFile('deaths_1918.xlsx')\n",
    "deaths_1918_file.sheet_names"
   ]
  },
  {
   "cell_type": "code",
   "execution_count": null,
   "metadata": {},
   "outputs": [],
   "source": [
    "#### NEVER AVERAGE AVERAGES! ####\n",
    "# here, I'm forced to average the few 5 year bin mortalities since I don't have the real numbers on deaths #\n",
    "# and for the young age grp's the error isn't that huge,since the sizes of the groups (weights) averaged #\n",
    "# are not way too different (hopefully). However, if averaging the rates for covid mortality for the 70+ grps #\n",
    "# you'll get a significant difference in combined 70+ mortality, compared to when taking the absolute deaths # \n",
    "# and population numbers, and summing them, and then dividing #. If taking the average, you get about 2%, #\n",
    "# but if doing the calculations based on the absolute numbers, it's less than 1% #\n",
    "# Reason being that the 80-89 and 90+ groups have a very high mortality cmp 70 and below, and the fact that #\n",
    "# the 80-89 & 90+ grps has a vast majority of covid deaths #\n",
    "\n",
    "deaths_1918 = deaths_1918_file.parse(sheet_name='Sheet1')\n",
    "\n",
    "deaths_1918\n"
   ]
  },
  {
   "cell_type": "code",
   "execution_count": null,
   "metadata": {},
   "outputs": [],
   "source": [
    "fhm_age_grp_impact['Totalt_antal_avlidna']"
   ]
  },
  {
   "cell_type": "code",
   "execution_count": null,
   "metadata": {},
   "outputs": [],
   "source": [
    "deaths_1918.plot(x = 'Age Grp', y=['Spanish Flu','Tuberculosis'],\n",
    "                 kind='bar',title='SWEDEN 1918 deaths per 100.000',figsize=(18,12))\n",
    "\n",
    "plt.savefig('scb_excess_spanish_flu.jpg',format='jpg')"
   ]
  },
  {
   "cell_type": "code",
   "execution_count": null,
   "metadata": {},
   "outputs": [],
   "source": [
    "pop_url_1918 = 'http://api.scb.se/OV0104/v1/doris/sv/ssd/START/BE/BE0101/BE0101A/BefolkningR1860N'\n",
    "pop_query_1918 = {\n",
    "  \"query\": [\n",
    "    {\n",
    "      \"code\": \"Alder\",\n",
    "      \"selection\": {\n",
    "        \"filter\": \"vs:Ålder1årL\",\n",
    "        \"values\": [\n",
    "          \"0\",\n",
    "          \"1\",\n",
    "          \"2\",\n",
    "          \"3\",\n",
    "          \"4\",\n",
    "          \"5\",\n",
    "          \"6\",\n",
    "          \"7\",\n",
    "          \"8\",\n",
    "          \"9\",\n",
    "          \"10\",\n",
    "          \"11\",\n",
    "          \"12\",\n",
    "          \"13\",\n",
    "          \"14\",\n",
    "          \"15\",\n",
    "          \"16\",\n",
    "          \"17\",\n",
    "          \"18\",\n",
    "          \"19\",\n",
    "          \"20\",\n",
    "          \"21\",\n",
    "          \"22\",\n",
    "          \"23\",\n",
    "          \"24\",\n",
    "          \"25\",\n",
    "          \"26\",\n",
    "          \"27\",\n",
    "          \"28\",\n",
    "          \"29\",\n",
    "          \"30\",\n",
    "          \"31\",\n",
    "          \"32\",\n",
    "          \"33\",\n",
    "          \"34\",\n",
    "          \"35\",\n",
    "          \"36\",\n",
    "          \"37\",\n",
    "          \"38\",\n",
    "          \"39\",\n",
    "          \"40\",\n",
    "          \"41\",\n",
    "          \"42\",\n",
    "          \"43\",\n",
    "          \"44\",\n",
    "          \"45\",\n",
    "          \"46\",\n",
    "          \"47\",\n",
    "          \"48\",\n",
    "          \"49\",\n",
    "          \"50\",\n",
    "          \"51\",\n",
    "          \"52\",\n",
    "          \"53\",\n",
    "          \"54\",\n",
    "          \"55\",\n",
    "          \"56\",\n",
    "          \"57\",\n",
    "          \"58\",\n",
    "          \"59\",\n",
    "          \"60\",\n",
    "          \"61\",\n",
    "          \"62\",\n",
    "          \"63\",\n",
    "          \"64\",\n",
    "          \"65\",\n",
    "          \"66\",\n",
    "          \"67\",\n",
    "          \"68\",\n",
    "          \"69\",\n",
    "          \"70\",\n",
    "          \"71\",\n",
    "          \"72\",\n",
    "          \"73\",\n",
    "          \"74\",\n",
    "          \"75\",\n",
    "          \"76\",\n",
    "          \"77\",\n",
    "          \"78\",\n",
    "          \"79\",\n",
    "          \"80\",\n",
    "          \"81\",\n",
    "          \"82\",\n",
    "          \"83\",\n",
    "          \"84\",\n",
    "          \"85\",\n",
    "          \"86\",\n",
    "          \"87\",\n",
    "          \"88\",\n",
    "          \"89\",\n",
    "          \"90\",\n",
    "          \"91\",\n",
    "          \"92\",\n",
    "          \"93\",\n",
    "          \"94\",\n",
    "          \"95\",\n",
    "          \"96\",\n",
    "          \"97\",\n",
    "          \"98\",\n",
    "          \"99\",\n",
    "          \"100\",\n",
    "          \"101\",\n",
    "          \"102\",\n",
    "          \"103\",\n",
    "          \"104\",\n",
    "          \"105\",\n",
    "          \"106\",\n",
    "          \"107\",\n",
    "          \"108\",\n",
    "          \"109\",\n",
    "          \"110+\"\n",
    "        ]\n",
    "      }\n",
    "    },\n",
    "    {\n",
    "      \"code\": \"Kon\",\n",
    "      \"selection\": {\n",
    "        \"filter\": \"item\",\n",
    "        \"values\": [\n",
    "          \"1\",\n",
    "          \"2\"\n",
    "        ]\n",
    "      }\n",
    "    },\n",
    "    {\n",
    "      \"code\": \"Tid\",\n",
    "      \"selection\": {\n",
    "        \"filter\": \"item\",\n",
    "        \"values\": [\n",
    "          \"1918\"\n",
    "        ]\n",
    "      }\n",
    "    }\n",
    "  ],\n",
    "  \"response\": {\n",
    "    \"format\": \"json\"\n",
    "  }\n",
    "}"
   ]
  },
  {
   "cell_type": "code",
   "execution_count": null,
   "metadata": {},
   "outputs": [],
   "source": [
    "r_1918 = requests.post(pop_url_1918,json=pop_query_1918)\n",
    "r_1918.status_code"
   ]
  },
  {
   "cell_type": "code",
   "execution_count": null,
   "metadata": {},
   "outputs": [],
   "source": [
    "json_1918 = r_1918.json()['data']\n",
    "json_1918[0]"
   ]
  },
  {
   "cell_type": "code",
   "execution_count": null,
   "metadata": {},
   "outputs": [],
   "source": [
    "pop_1918 = pd.DataFrame.from_dict(json_1918)\n",
    "pop_1918[['age','gender','year']] = pop_1918['key'].to_list()\n",
    "pop_1918['pop_1918'] = pop_1918['values'].apply(lambda x :x[0]).astype(int)\n",
    "pop_1918['age'] = pop_1918['age'].str.replace('+','').astype(int)\n",
    "pop_1918.drop(['key','values','year'],axis=1,inplace=True)\n"
   ]
  },
  {
   "cell_type": "code",
   "execution_count": null,
   "metadata": {},
   "outputs": [],
   "source": [
    "pop_1918"
   ]
  },
  {
   "cell_type": "code",
   "execution_count": null,
   "metadata": {},
   "outputs": [],
   "source": [
    "pop_1918_both = pop_1918.groupby(['age']).sum()\n",
    "pop_1918_both['bin_10'] = pd.cut(pop_1918_both.index,[-1,9,19,29,39,49,59,69,150],\n",
    "                                 labels=['0-9','10-19','20-29','30-39','40-49',\n",
    "                                                                '50-59','60-69','70+'])\n",
    "\n",
    "pop_1918_2020_bin_10 = pop_1918_both.groupby('bin_10').sum()\n",
    "pop_1918_2020_bin_10"
   ]
  },
  {
   "cell_type": "code",
   "execution_count": null,
   "metadata": {},
   "outputs": [],
   "source": [
    "pop_1918_2020_bin_10['pop_1918'].sum()"
   ]
  },
  {
   "cell_type": "code",
   "execution_count": null,
   "metadata": {},
   "outputs": [],
   "source": [
    "fhm_age_grp_impact['Totalt_antal_avlidna']"
   ]
  },
  {
   "cell_type": "code",
   "execution_count": null,
   "metadata": {},
   "outputs": [],
   "source": [
    "pop_2020_70_plus = twenty_twenty_pop.loc['70-79':].sum()\n",
    "pop_1918_2020_bin_10['pop_2020'] = twenty_twenty_pop.loc[:'60-69','pop']\n",
    "pop_1918_2020_bin_10.loc['70+','pop_2020'] = pop_2020_70_plus.values\n",
    "\n",
    "\n",
    "covid_dead_2020_70_plus = fhm_age_grp_impact['Totalt_antal_avlidna'].loc['70-79':].sum()\n",
    "pop_1918_2020_bin_10['covid_dead_2020_YTD'] = fhm_age_grp_impact['Totalt_antal_avlidna'].loc[:'70-79']\n",
    "\n",
    "pop_1918_2020_bin_10.loc['70+','covid_dead_2020_YTD'] = covid_dead_2020_70_plus\n",
    "pop_1918_2020_bin_10"
   ]
  },
  {
   "cell_type": "code",
   "execution_count": null,
   "metadata": {},
   "outputs": [],
   "source": []
  },
  {
   "cell_type": "code",
   "execution_count": null,
   "metadata": {},
   "outputs": [],
   "source": [
    "deaths_1918['bin_10'] = ['0-9','0-9','10-19','10-19','20-29','30-39','40-49','50-59',\n",
    "                        '60-69','70+']\n",
    "\n",
    "deaths_1918"
   ]
  },
  {
   "cell_type": "code",
   "execution_count": null,
   "metadata": {},
   "outputs": [],
   "source": [
    "mort_spanish_flu = deaths_1918.groupby('bin_10')['Spanish Flu'].mean() / 100000\n",
    "mort_spanish_flu"
   ]
  },
  {
   "cell_type": "code",
   "execution_count": null,
   "metadata": {},
   "outputs": [],
   "source": [
    "pop_1918_2020_bin_10['spanish_flu_dead'] = mort_spanish_flu * pop_1918_2020_bin_10['pop_1918']\n",
    "pop_1918_2020_bin_10"
   ]
  },
  {
   "cell_type": "code",
   "execution_count": null,
   "metadata": {},
   "outputs": [],
   "source": [
    "pop_1918_2020_bin_10.sum()"
   ]
  },
  {
   "cell_type": "code",
   "execution_count": null,
   "metadata": {},
   "outputs": [],
   "source": [
    "pop_1918_2020_bin_10['spanish_flu_mort'] = pop_1918_2020_bin_10['spanish_flu_dead'] / pop_1918_2020_bin_10['pop_1918']\n",
    "pop_1918_2020_bin_10['covid_mort'] = pop_1918_2020_bin_10['covid_dead_2020_YTD'] / pop_1918_2020_bin_10['pop_2020']\n",
    "pop_1918_2020_bin_10"
   ]
  },
  {
   "cell_type": "code",
   "execution_count": null,
   "metadata": {},
   "outputs": [],
   "source": [
    "credits = '\\nDataSource : scb.se'\n",
    "title = 'SWEDEN Covid deaths/pop per age grp 2020 + 2021 YTD vs Spanish Flu deaths/pop per age grp 1918' + credits\n",
    "pop_1918_2020_bin_10.plot(y=['spanish_flu_mort','covid_mort'],style='o--',figsize=(18,12),title=title)\n",
    "plt.ylabel('age group mortality')\n",
    "plt.xlabel('age group')\n",
    "\n",
    "\n",
    "plt.text(0,0.001,'HISTORICAL DATA ON 1918 DEATHS:\\nhttp://share.scb.se/ov9993/data/historisk%20statistik/\\n/SOS%201911-/H%C3%A4lso-%20och%20sjukv%C3%A5rd/D%C3%B6dsorsaker%20(SOS)%201911-1996/Dodsorsaker-1918.pdf')\n",
    "\n",
    "note = 'NOTE: the 1918 data are given with 70+ as the last, open-ended age grp\\n' +\\\n",
    "'while the data on covid deaths are given with 90+ as the last, open-ended age grp.\\n' +\\\n",
    "'This makes the graph a bit misleading, since a vast majority of the covid deaths, rel. to population\\n' +\\\n",
    "'size within age grp, occur in the 80-89 & 90+ age grps'\n",
    "plt.text (plt.xticks()[0][3],0.009,note,color='crimson')\n",
    "plt.savefig('scb_excess_sp_flu_vs_covid_mortality.jpg',format='jpg')"
   ]
  },
  {
   "cell_type": "code",
   "execution_count": null,
   "metadata": {},
   "outputs": [],
   "source": [
    "all_cause_1918 = deaths_1918_file.parse('Sheet2')\n",
    "all_cause_1918['bin_10'] = ['0-9','0-9','0-9','0-9','0-9',\n",
    "                           '10-19','10-19','20-29','30-39','40-49',\n",
    "                           '50-59','60-69','70+']\n",
    "\n",
    "all_cause_1918"
   ]
  },
  {
   "cell_type": "code",
   "execution_count": null,
   "metadata": {},
   "outputs": [],
   "source": [
    "all_cause_bin_10_1918 = all_cause_1918.groupby('bin_10').sum().sum(axis=1)\n",
    "all_cause_bin_10_1918"
   ]
  },
  {
   "cell_type": "code",
   "execution_count": null,
   "metadata": {},
   "outputs": [],
   "source": [
    "pop_1918_2020_bin_10['all_cause_1918'] = all_cause_bin_10_1918\n",
    "pop_1918_2020_bin_10"
   ]
  },
  {
   "cell_type": "code",
   "execution_count": null,
   "metadata": {},
   "outputs": [],
   "source": [
    "all_cause_bin_10_2020 = dead_age_df.loc['2020'].groupby('10_y_bin').sum()\n",
    "all_cause_70_plus = all_cause_bin_10_2020.loc['70-79':].sum()['dead']\n",
    "all_cause_bin_10_2020 = all_cause_bin_10_2020.loc[:'60-69']\n",
    "\n",
    "all_cause_bin_10_2020 = pd.concat(\n",
    "    [all_cause_bin_10_2020.reset_index(),pd.DataFrame(\n",
    "        {'10_y_bin' : '70+','dead' : [all_cause_70_plus],\n",
    "        'mid_bin' : [0]},index=[7])]).set_index('10_y_bin')['dead']\n",
    "\n",
    "all_cause_bin_10_2020"
   ]
  },
  {
   "cell_type": "code",
   "execution_count": null,
   "metadata": {},
   "outputs": [],
   "source": [
    "pop_1918_2020_bin_10['all_cause_2020'] = all_cause_bin_10_2020\n",
    "pop_1918_2020_bin_10"
   ]
  },
  {
   "cell_type": "code",
   "execution_count": null,
   "metadata": {},
   "outputs": [],
   "source": [
    "pop_1918_2020_bin_10['mort_1918'] = pop_1918_2020_bin_10['all_cause_1918'] / pop_1918_2020_bin_10['pop_1918']\n",
    "pop_1918_2020_bin_10['mort_2020'] = pop_1918_2020_bin_10['all_cause_2020'] / pop_1918_2020_bin_10['pop_2020']\n",
    "\n",
    "pop_1918_2020_bin_10"
   ]
  },
  {
   "cell_type": "code",
   "execution_count": null,
   "metadata": {},
   "outputs": [],
   "source": [
    "pop_1918_2020_bin_10.plot(y=['mort_1918','mort_2020'],style='o--')"
   ]
  },
  {
   "cell_type": "code",
   "execution_count": null,
   "metadata": {},
   "outputs": [],
   "source": [
    "pop_1918_2020_bin_10['1918_mort_ratio'] = pop_1918_2020_bin_10['spanish_flu_mort'] / pop_1918_2020_bin_10['mort_1918']\n",
    "pop_1918_2020_bin_10['2020_mort_ratio'] = pop_1918_2020_bin_10['covid_mort'] / pop_1918_2020_bin_10['mort_2020']\n",
    "\n",
    "pop_1918_2020_bin_10"
   ]
  },
  {
   "cell_type": "code",
   "execution_count": null,
   "metadata": {},
   "outputs": [],
   "source": [
    "pop_1918_2020_bin_10.plot(y=['1918_mort_ratio','2020_mort_ratio'],style='o--')"
   ]
  },
  {
   "cell_type": "code",
   "execution_count": null,
   "metadata": {},
   "outputs": [],
   "source": [
    "all_cause_1917 = deaths_1918_file.parse(sheet_name='Sheet3')\n",
    "all_cause_1917['bin_10'] = ['0-9','0-9','0-9','0-9','0-9',\n",
    "                           '10-19','10-19',\n",
    "                           '20-29','20-29',\n",
    "                           '30-39','30-39',\n",
    "                           '40-49','40-49',\n",
    "                           '50-59','50-59',\n",
    "                           '60-69','60-69',\n",
    "                           '70-79','70-79',\n",
    "                           '80-89','80-89',\n",
    "                           '90+']\n",
    "\n",
    "all_cause_1917"
   ]
  },
  {
   "cell_type": "code",
   "execution_count": null,
   "metadata": {},
   "outputs": [],
   "source": [
    "all_cause_bin_10_1917 = all_cause_1917.groupby('bin_10').sum()\n",
    "plus_70_1917 = all_cause_bin_10_1917.loc['70-79':]['dead'].sum()\n",
    "plus_70_1917"
   ]
  },
  {
   "cell_type": "code",
   "execution_count": null,
   "metadata": {},
   "outputs": [],
   "source": [
    "all_cause_bin_10_1917 = all_cause_bin_10_1917.loc[:'60-69']\n",
    "all_cause_bin_10_1917 = pd.concat([all_cause_bin_10_1917.reset_index(),pd.DataFrame({'bin_10' : '70+',\n",
    "                                                            'dead' : plus_70_1917},index=[8])]).set_index('bin_10')"
   ]
  },
  {
   "cell_type": "code",
   "execution_count": null,
   "metadata": {},
   "outputs": [],
   "source": [
    "all_cause_bin_10_1917"
   ]
  },
  {
   "cell_type": "code",
   "execution_count": null,
   "metadata": {},
   "outputs": [],
   "source": [
    "all_cause_bin_10_1917.sum()"
   ]
  },
  {
   "cell_type": "code",
   "execution_count": null,
   "metadata": {},
   "outputs": [],
   "source": [
    "pop_url_1917 = 'http://api.scb.se/OV0104/v1/doris/sv/ssd/START/BE/BE0101/BE0101A/BefolkningR1860N'\n",
    "pop_query_1917 = {\n",
    "  \"query\": [\n",
    "    {\n",
    "      \"code\": \"Alder\",\n",
    "      \"selection\": {\n",
    "        \"filter\": \"vs:Ålder1årL\",\n",
    "        \"values\": [\n",
    "          \"0\",\n",
    "          \"1\",\n",
    "          \"2\",\n",
    "          \"3\",\n",
    "          \"4\",\n",
    "          \"5\",\n",
    "          \"6\",\n",
    "          \"7\",\n",
    "          \"8\",\n",
    "          \"9\",\n",
    "          \"10\",\n",
    "          \"11\",\n",
    "          \"12\",\n",
    "          \"13\",\n",
    "          \"14\",\n",
    "          \"15\",\n",
    "          \"16\",\n",
    "          \"17\",\n",
    "          \"18\",\n",
    "          \"19\",\n",
    "          \"20\",\n",
    "          \"21\",\n",
    "          \"22\",\n",
    "          \"23\",\n",
    "          \"24\",\n",
    "          \"25\",\n",
    "          \"26\",\n",
    "          \"27\",\n",
    "          \"28\",\n",
    "          \"29\",\n",
    "          \"30\",\n",
    "          \"31\",\n",
    "          \"32\",\n",
    "          \"33\",\n",
    "          \"34\",\n",
    "          \"35\",\n",
    "          \"36\",\n",
    "          \"37\",\n",
    "          \"38\",\n",
    "          \"39\",\n",
    "          \"40\",\n",
    "          \"41\",\n",
    "          \"42\",\n",
    "          \"43\",\n",
    "          \"44\",\n",
    "          \"45\",\n",
    "          \"46\",\n",
    "          \"47\",\n",
    "          \"48\",\n",
    "          \"49\",\n",
    "          \"50\",\n",
    "          \"51\",\n",
    "          \"52\",\n",
    "          \"53\",\n",
    "          \"54\",\n",
    "          \"55\",\n",
    "          \"56\",\n",
    "          \"57\",\n",
    "          \"58\",\n",
    "          \"59\",\n",
    "          \"60\",\n",
    "          \"61\",\n",
    "          \"62\",\n",
    "          \"63\",\n",
    "          \"64\",\n",
    "          \"65\",\n",
    "          \"66\",\n",
    "          \"67\",\n",
    "          \"68\",\n",
    "          \"69\",\n",
    "          \"70\",\n",
    "          \"71\",\n",
    "          \"72\",\n",
    "          \"73\",\n",
    "          \"74\",\n",
    "          \"75\",\n",
    "          \"76\",\n",
    "          \"77\",\n",
    "          \"78\",\n",
    "          \"79\",\n",
    "          \"80\",\n",
    "          \"81\",\n",
    "          \"82\",\n",
    "          \"83\",\n",
    "          \"84\",\n",
    "          \"85\",\n",
    "          \"86\",\n",
    "          \"87\",\n",
    "          \"88\",\n",
    "          \"89\",\n",
    "          \"90\",\n",
    "          \"91\",\n",
    "          \"92\",\n",
    "          \"93\",\n",
    "          \"94\",\n",
    "          \"95\",\n",
    "          \"96\",\n",
    "          \"97\",\n",
    "          \"98\",\n",
    "          \"99\",\n",
    "          \"100\",\n",
    "          \"101\",\n",
    "          \"102\",\n",
    "          \"103\",\n",
    "          \"104\",\n",
    "          \"105\",\n",
    "          \"106\",\n",
    "          \"107\",\n",
    "          \"108\",\n",
    "          \"109\",\n",
    "          \"110+\"\n",
    "        ]\n",
    "      }\n",
    "    },\n",
    "    {\n",
    "      \"code\": \"Kon\",\n",
    "      \"selection\": {\n",
    "        \"filter\": \"item\",\n",
    "        \"values\": [\n",
    "          \"1\",\n",
    "          \"2\"\n",
    "        ]\n",
    "      }\n",
    "    },\n",
    "    {\n",
    "      \"code\": \"Tid\",\n",
    "      \"selection\": {\n",
    "        \"filter\": \"item\",\n",
    "        \"values\": [\n",
    "          \"1917\"\n",
    "        ]\n",
    "      }\n",
    "    }\n",
    "  ],\n",
    "  \"response\": {\n",
    "    \"format\": \"json\"\n",
    "  }\n",
    "}"
   ]
  },
  {
   "cell_type": "code",
   "execution_count": null,
   "metadata": {},
   "outputs": [],
   "source": [
    "r_1917 = requests.post(pop_url_1917,json=pop_query_1917)\n",
    "\n",
    "r_1917.status_code"
   ]
  },
  {
   "cell_type": "code",
   "execution_count": null,
   "metadata": {},
   "outputs": [],
   "source": [
    "json_1917 = r_1917.json()['data']\n",
    "pop_1917 = pd.DataFrame.from_dict(json_1917)\n",
    "pop_1917[['age','gender','year']] = pop_1917['key'].to_list()\n",
    "pop_1917['pop_1917'] = pop_1917['values'].apply(lambda x :x[0]).astype(int)\n",
    "pop_1917['age'] = pop_1917['age'].str.replace('+','').astype(int)\n",
    "pop_1917.drop(['key','values','year'],axis=1,inplace=True)\n",
    "\n",
    "pop_1917_both = pop_1917.groupby(['age']).sum()\n",
    "pop_1917_both['bin_10'] = pd.cut(pop_1917_both.index,[-1,9,19,29,39,49,59,69,150],\n",
    "                                 labels=['0-9','10-19','20-29','30-39','40-49',\n",
    "                                                                '50-59','60-69','70+'])\n",
    "\n",
    "pop_1917_bin_10 = pop_1917_both.groupby('bin_10').sum()\n",
    "pop_1917_bin_10\n"
   ]
  },
  {
   "cell_type": "code",
   "execution_count": null,
   "metadata": {},
   "outputs": [],
   "source": [
    "pop_1917_bin_10.sum()"
   ]
  },
  {
   "cell_type": "code",
   "execution_count": null,
   "metadata": {},
   "outputs": [],
   "source": [
    "pop_1917_bin_10"
   ]
  },
  {
   "cell_type": "code",
   "execution_count": null,
   "metadata": {},
   "outputs": [],
   "source": [
    "all_cause_bin_10_1917"
   ]
  },
  {
   "cell_type": "code",
   "execution_count": null,
   "metadata": {},
   "outputs": [],
   "source": [
    "mort_1917 = all_cause_bin_10_1917['dead'] / pop_1917_bin_10['pop_1917']\n",
    "mort_1917"
   ]
  },
  {
   "cell_type": "code",
   "execution_count": null,
   "metadata": {},
   "outputs": [],
   "source": [
    "ax = mort_1917.plot(style='o--',label='mort_1917')\n",
    "pop_1918_2020_bin_10.plot(y='mort_1918',ax=ax,style='o--')\n",
    "ax.legend(loc='upper left')"
   ]
  },
  {
   "cell_type": "code",
   "execution_count": null,
   "metadata": {},
   "outputs": [],
   "source": [
    "''' Difference ABSOLUTE change vs RELATIVE change : think about something you pay for each month, e.g. \n",
    "your plastic shopping bag vs. your morgage : now think about relative vs absolute change : a relative change of\n",
    "2x of the price of the plastic bag does not matter much, but a relative change of 2x of your morgage matters\n",
    "a lot. Bottom line: with very low absolute values, even significant relative change might be insignificant, \n",
    "but for high absolute values, even minor relative changes can change your life.'''\n",
    "\n",
    "mort_rel_1918_1917 = pop_1918_2020_bin_10['mort_1918'] / mort_1917\n",
    "mort_rel_1918_1917"
   ]
  },
  {
   "cell_type": "code",
   "execution_count": null,
   "metadata": {},
   "outputs": [],
   "source": [
    "mort_rel_1918_1917.plot(style='o--')"
   ]
  },
  {
   "cell_type": "code",
   "execution_count": null,
   "metadata": {},
   "outputs": [],
   "source": [
    "pop_age_bin_10_70 = pop_age_df.groupby(['year','num_age']).sum().reset_index(level=1)\n",
    "pop_age_bin_10_70"
   ]
  },
  {
   "cell_type": "code",
   "execution_count": null,
   "metadata": {},
   "outputs": [],
   "source": [
    "pop_age_bin_10_70['bin_10'] = pd.cut(pop_age_df.groupby(['year','num_age']).sum().reset_index(level=1)['num_age'],[-1,9,19,29,39,49,59,69,150],\n",
    "       labels=['0-9','10-19','20-29','30-39','40-49','50-59','60-69','70+'])\n",
    "pop_age_bin_10_70 = pop_age_bin_10_70.groupby(['year','bin_10'])['pop'].sum()\n"
   ]
  },
  {
   "cell_type": "code",
   "execution_count": null,
   "metadata": {},
   "outputs": [],
   "source": [
    "pop_age_bin_10_70"
   ]
  },
  {
   "cell_type": "code",
   "execution_count": null,
   "metadata": {},
   "outputs": [],
   "source": [
    "dead_age_bin_10_70 = dead_age_df.groupby(['year','num_age']).sum().reset_index(level=1)\n",
    "dead_age_bin_10_70"
   ]
  },
  {
   "cell_type": "code",
   "execution_count": null,
   "metadata": {},
   "outputs": [],
   "source": [
    "dead_age_bin_10_70['bin_10'] = pd.cut(dead_age_df.groupby(['year','num_age']).sum().reset_index(level=1)['num_age'],[-1,9,19,29,39,49,59,69,150],\n",
    "       labels=['0-9','10-19','20-29','30-39','40-49','50-59','60-69','70+'])\n",
    "dead_age_bin_10_70 = dead_age_bin_10_70.groupby(['year','bin_10'])['dead'].sum()\n",
    "\n",
    "dead_age_bin_10_70"
   ]
  },
  {
   "cell_type": "code",
   "execution_count": null,
   "metadata": {},
   "outputs": [],
   "source": [
    "mort_2002_2020 = dead_age_bin_10_70 / pop_age_bin_10_70\n",
    "mort_2002_2020"
   ]
  },
  {
   "cell_type": "code",
   "execution_count": null,
   "metadata": {},
   "outputs": [],
   "source": [
    "mort_abs_1918_1917 = pop_1918_2020_bin_10['mort_1918'] - mort_1917\n",
    "mort_abs_1918_1917\n"
   ]
  },
  {
   "cell_type": "code",
   "execution_count": null,
   "metadata": {},
   "outputs": [],
   "source": [
    "mort_abs_2020_2019 = mort_2002_2020.loc['2020'] - mort_2002_2020.loc['2019']\n",
    "mort_abs_2020_2019"
   ]
  },
  {
   "cell_type": "code",
   "execution_count": null,
   "metadata": {},
   "outputs": [],
   "source": [
    "mort_rel_2020_2019 = mort_2002_2020.loc['2020'] / mort_2002_2020.loc['2019']\n",
    "mort_rel_2020_2019"
   ]
  },
  {
   "cell_type": "code",
   "execution_count": null,
   "metadata": {},
   "outputs": [],
   "source": [
    "title='SWEDEN mortality growth : 1) Spanish Flu year 1918 vs 1917 2) Covid year 2020 vs 2019\\nDataSource : scb.se'\n",
    "ax = mort_rel_1918_1917.plot(style='o--',label='mort rel. 1918/1917',figsize=(18,12),title=title)\n",
    "mort_rel_2020_2019.plot(ax=ax,style='o--',label='mort rel. 2020/2019')\n",
    "ax.legend(loc='upper right')\n",
    "ax.set_ylabel('growth factor')\n",
    "ax.set_xlabel('age group')\n",
    "ax.axhline(1,ls='dashed',color='k')\n",
    "plt.savefig('scb_excess_spanish_flu_vs_covid_mort_growth.jpg',format='jpg')"
   ]
  },
  {
   "cell_type": "code",
   "execution_count": null,
   "metadata": {},
   "outputs": [],
   "source": [
    "title = 'absolute change'\n",
    "ax = mort_abs_1918_1917.plot(style='o--',title=title)\n",
    "mort_abs_2020_2019.plot(ax=ax,style='o--')"
   ]
  },
  {
   "cell_type": "code",
   "execution_count": null,
   "metadata": {},
   "outputs": [],
   "source": [
    "fig,axes = plt.subplots(2,figsize=(18,12),sharey=True,sharex=True) \n",
    "pop_1918_2020_bin_10['mort_1918'].plot(ax=axes[0],style='o--',label='1918')\n",
    "mort_1917.plot(style='o--',ax=axes[0],label='1917')\n",
    "axes[0].legend(loc='upper left')\n",
    "\n",
    "mort_2002_2020.loc['2020'].plot(ax=axes[1],style='o--',label='2020')\n",
    "mort_2002_2020.loc['2019'].plot(ax=axes[1],style='o--',label='2019')\n",
    "axes[1].legend(loc='upper left')\n",
    "\n",
    "for a in axes:\n",
    "    a.set_ylabel('mortality')\n",
    "    \n",
    "axes[0].set_title('Spanish Flu Impact')\n",
    "axes[1].set_title('Covid Impact')\n",
    "\n",
    "plt.suptitle('SWEDEN mortality 1917 : 1918, 2019 : 2020\\nDataSource : scb.se')"
   ]
  },
  {
   "cell_type": "code",
   "execution_count": null,
   "metadata": {},
   "outputs": [],
   "source": [
    "fhm_icu_weekly.sum()"
   ]
  },
  {
   "cell_type": "code",
   "execution_count": null,
   "metadata": {},
   "outputs": [],
   "source": [
    "fhm_icu_weekly"
   ]
  },
  {
   "cell_type": "code",
   "execution_count": null,
   "metadata": {},
   "outputs": [],
   "source": [
    "fhm_weekly_positive.loc['2020']"
   ]
  },
  {
   "cell_type": "code",
   "execution_count": null,
   "metadata": {},
   "outputs": [],
   "source": [
    "plt.plot(fhm_weekly_positive.loc['2020'].index.isocalendar().week.values.astype(int),\n",
    "        fhm_weekly_positive.loc['2020'].values)"
   ]
  },
  {
   "cell_type": "code",
   "execution_count": null,
   "metadata": {
    "scrolled": false
   },
   "outputs": [],
   "source": [
    "### RUN ON MONDAYS !# \n",
    "\n",
    "def fhm_plot_weekly_20_21(ax,df,title):\n",
    "    \n",
    "    ax.plot(np.array(df.loc['2020'].index.isocalendar()['week'].values).astype(int),\n",
    "            df.loc['2020'].values,'o--',label='2020')\n",
    "\n",
    "    #ax.plot(np.array(df.loc['2021'].index[1:-1].isocalendar()['week'].values).astype(int),\n",
    "        #df.loc['2021'][1:-1],'o--',label='2021')\n",
    "    \n",
    "    ax.plot(np.array(df.loc['2021'].index.isocalendar()['week'].values).astype(int) % 53,\n",
    "        df.loc['2021'].values,'o--',label='2021')\n",
    "    \n",
    "    ax.plot(np.array(df.loc['2022'][:-1].index.isocalendar()['week'].values).astype(int) % 52,\n",
    "        df.loc['2022'].values[:-1],'o--',label='2022')\n",
    "\n",
    "    ax.set_xlabel('week')\n",
    "    ax.set_ylabel('count')\n",
    "    ax.legend(loc='upper center')\n",
    "    ax.set_title(title)\n",
    "\n",
    "credits = '\\nDataSource : folkhalsomyndigheten.se'\n",
    "fig,axes = plt.subplots(3,figsize=(18,12),sharex=True)\n",
    "\n",
    "fhm_plot_weekly_20_21(axes[0],\n",
    "    fhm_weekly_positive,'SWEDEN comparison 2020-2022 YTD weekly Covid Positives YTD {} '.format(\n",
    "    fhm_weekly_positive.index[-2].date()) + credits)\n",
    "\n",
    "fhm_plot_weekly_20_21(axes[1],\n",
    "    fhm_icu_weekly,'SWEDEN comparison 2020-2022 YTD weekly Covid ICU YTD {} '.format(\n",
    "    fhm_icu_weekly.index[-2].date()))\n",
    "\n",
    "fhm_plot_weekly_20_21(axes[2],\n",
    "    fhm_weekly_dead,'SWEDEN comparison 2020-2022 YTD weekly Covid Deaths YTD {} '.format(\n",
    "    fhm_weekly_dead.index[-2].date()))\n",
    "\n",
    "plt.tight_layout()\n",
    "plt.savefig('scb_excess_fhm_events_20_21.jpg',format='jpg')"
   ]
  },
  {
   "cell_type": "code",
   "execution_count": null,
   "metadata": {},
   "outputs": [],
   "source": [
    "fhm_last_data"
   ]
  },
  {
   "cell_type": "code",
   "execution_count": null,
   "metadata": {},
   "outputs": [],
   "source": [
    "fhm_weekly_dead.tail()"
   ]
  },
  {
   "cell_type": "code",
   "execution_count": null,
   "metadata": {},
   "outputs": [],
   "source": [
    "\n",
    "fhm_weekly_pos_change = fhm_weekly_positive / fhm_weekly_positive.shift()\n",
    "fhm_weekly_icu_change = fhm_icu_weekly / fhm_icu_weekly.shift()\n",
    "fhm_weekly_dead_change = fhm_weekly_dead / fhm_weekly_dead.shift()"
   ]
  },
  {
   "cell_type": "code",
   "execution_count": null,
   "metadata": {},
   "outputs": [],
   "source": [
    "def plot_weekly_change(ax,df,title):\n",
    "    \n",
    "    fhm_plot_weekly_20_21(ax,df,title)\n",
    "    ax.set_ylim([0,3])\n",
    "    ax.axhline(1,ls='dashed',color='k')\n",
    "    ax.set_ylabel('rel.change')\n",
    "    \n",
    "fig,axes = plt.subplots(3,1,figsize=(18,12),sharex=True)\n",
    "\n",
    "title = 'Covid Cases'\n",
    "plot_weekly_change(axes[0],fhm_weekly_pos_change,title)\n",
    "\n",
    "title = 'Covid ICUs'\n",
    "plot_weekly_change(axes[1],fhm_weekly_icu_change,title)\n",
    "\n",
    "title = 'Covid Deaths'\n",
    "plot_weekly_change(axes[2],fhm_weekly_dead_change,title)\n",
    "\n",
    "plt.suptitle('SWEDEN weekly relative change in Covid Cases, ICUs, Deaths YTD {}\\nDataSource : folkhalsomyndigheten.se'.format(\n",
    "fhm_weekly_positive.index[-2].date()))\n",
    "plt.tight_layout()\n",
    "plt.savefig('scb_excess_fhm_weekly_change.jpg',format='jpg')\n",
    "\n",
    "print (fhm_weekly_pos_change.tail())\n",
    "print (fhm_weekly_icu_change.tail())\n",
    "print (fhm_weekly_dead_change.tail())"
   ]
  },
  {
   "cell_type": "code",
   "execution_count": null,
   "metadata": {},
   "outputs": [],
   "source": [
    "dayofyear_baseline_mortality = mortality_all_grp_2015_2018.groupby(mortality_all_grp_2015_2018.index.dayofyear).mean()"
   ]
  },
  {
   "cell_type": "code",
   "execution_count": null,
   "metadata": {},
   "outputs": [],
   "source": []
  },
  {
   "cell_type": "code",
   "execution_count": null,
   "metadata": {},
   "outputs": [],
   "source": [
    "dayofyear_baseline_mortality.to_pickle('day_of_year_age_grp_mortality.pkl')"
   ]
  },
  {
   "cell_type": "code",
   "execution_count": null,
   "metadata": {},
   "outputs": [],
   "source": [
    "pop_age_df['10_y_bin'] = pd.cut(\n",
    "    pop_age_df.index.get_level_values(1),[-1,9,19,29,39,49,59,69,79,89,100],labels=fhm_age_grp_impact.index.values)"
   ]
  },
  {
   "cell_type": "code",
   "execution_count": null,
   "metadata": {},
   "outputs": [],
   "source": [
    "dead_age_df.loc['2020'].sum()"
   ]
  },
  {
   "cell_type": "code",
   "execution_count": null,
   "metadata": {},
   "outputs": [],
   "source": [
    "dead_age_df"
   ]
  },
  {
   "cell_type": "code",
   "execution_count": null,
   "metadata": {},
   "outputs": [],
   "source": [
    "dead_bin_10 = dead_age_df.groupby(['year','10_y_bin'])['dead'].sum()\n",
    "pop_bin_10 = pop_age_df.groupby(['year','10_y_bin'])['pop'].sum()\n",
    "\n",
    "odds_dying = 1 / (dead_bin_10 / pop_bin_10)\n",
    "mort = dead_bin_10 / pop_bin_10\n",
    "mort"
   ]
  },
  {
   "cell_type": "code",
   "execution_count": null,
   "metadata": {},
   "outputs": [],
   "source": [
    "pop_bin_10.loc['2020'].sum()\n"
   ]
  },
  {
   "cell_type": "code",
   "execution_count": null,
   "metadata": {},
   "outputs": [],
   "source": [
    "baseline_mort = mort.loc['2015' : '2018'].groupby('10_y_bin').mean()\n",
    "1 / baseline_mort"
   ]
  },
  {
   "cell_type": "code",
   "execution_count": null,
   "metadata": {},
   "outputs": [],
   "source": [
    "odds_unstacked = odds_dying.unstack()\n",
    "odds_unstacked"
   ]
  },
  {
   "cell_type": "code",
   "execution_count": null,
   "metadata": {},
   "outputs": [],
   "source": [
    "mortality_ranking_2020 = np.zeros(len(odds_unstacked.columns))\n",
    "\n",
    "for i, col in enumerate(odds_unstacked.columns):\n",
    "    mortality_ranking_2020[i] = (odds_unstacked[col].sort_values().index == '2020').argmax() + 1\n",
    "    \n",
    "mortality_ranking_2020"
   ]
  },
  {
   "cell_type": "code",
   "execution_count": null,
   "metadata": {},
   "outputs": [],
   "source": [
    "plt.figure(figsize=(18,12))\n",
    "plt.title('SWEDEN : 2020 Age Group Mortality rank for period 2002-2020')\n",
    "plt.bar(odds_unstacked.columns,mortality_ranking_2020)\n",
    "plt.ylabel('rank (1 == deadliest, 19 == lowest)')\n",
    "_= plt.yticks(range(1,len(odds_unstacked) + 1))"
   ]
  },
  {
   "cell_type": "code",
   "execution_count": null,
   "metadata": {},
   "outputs": [],
   "source": [
    "odds_unstacked.rank()"
   ]
  },
  {
   "cell_type": "code",
   "execution_count": null,
   "metadata": {},
   "outputs": [],
   "source": [
    "odds_unstacked.loc['2015':].dropna().rank().astype(int)\n"
   ]
  },
  {
   "cell_type": "code",
   "execution_count": null,
   "metadata": {},
   "outputs": [],
   "source": [
    "mortality_2002_2020 = (dead_bin_10 / pop_bin_10).unstack()\n",
    "mortality_2002_2020"
   ]
  },
  {
   "cell_type": "code",
   "execution_count": null,
   "metadata": {},
   "outputs": [],
   "source": [
    "print ('highest mortality : ',mortality_2002_2020.idxmax())\n",
    "print ('lowest mortality : ', mortality_2002_2020.idxmin())"
   ]
  },
  {
   "cell_type": "code",
   "execution_count": null,
   "metadata": {},
   "outputs": [],
   "source": [
    "# ranking : deadliest year # \n",
    "mortality_2002_2020.dropna().rank(ascending=False).astype(int)"
   ]
  },
  {
   "cell_type": "code",
   "execution_count": null,
   "metadata": {},
   "outputs": [],
   "source": [
    "title = 'SWEDEN Deadliest Year by Age Group RANKING [by mortality] 2002-2020\\nDataSource : scb.se'\n",
    "axes = mortality_2002_2020.dropna().rank(ascending=False).astype(int).plot(figsize=(18,12),\n",
    "                                                                  subplots=True,style='o--',title=title)\n",
    "\n",
    "for a in axes:\n",
    "    a.invert_yaxis()\n",
    "    a.set_ylabel('RANK')\n",
    "    a.set_yticks(np.arange(1,21,6))\n",
    "    \n",
    "plt.savefig('SCB_excess_deadliest_year_RANKING.jpg',format='jpg')"
   ]
  },
  {
   "cell_type": "code",
   "execution_count": null,
   "metadata": {},
   "outputs": [],
   "source": [
    "title = 'SWEDEN Deadliest Year by Age Group RANKING [by mortality] 2015-2020\\nDataSource : scb.se'\n",
    "axes = mortality_2002_2020.loc['2015':].dropna().rank(ascending=False).astype(int).plot(figsize=(18,12),\n",
    "                                                                  subplots=True,style='o--',title=title)\n",
    "\n",
    "for a in axes:\n",
    "    a.invert_yaxis()\n",
    "    a.set_ylabel('RANK')\n",
    "    a.set_yticks(np.arange(1,8,2))\n",
    "    \n",
    "plt.savefig('SCB_excess_deadliest_year_RANKING_15_20.jpg',format='jpg')"
   ]
  },
  {
   "cell_type": "code",
   "execution_count": null,
   "metadata": {},
   "outputs": [],
   "source": [
    "mortality_2002_2020.loc['2015':].T.dropna().rank(ascending=False).astype(int)"
   ]
  },
  {
   "cell_type": "code",
   "execution_count": null,
   "metadata": {},
   "outputs": [],
   "source": [
    "baseline_15_18_mort"
   ]
  },
  {
   "cell_type": "code",
   "execution_count": null,
   "metadata": {},
   "outputs": [],
   "source": [
    "odds_dying.unstack().agg(['argmin','argmax'])"
   ]
  },
  {
   "cell_type": "code",
   "execution_count": null,
   "metadata": {},
   "outputs": [],
   "source": [
    "odds_dying.unstack().agg(['argmax'])"
   ]
  },
  {
   "cell_type": "code",
   "execution_count": null,
   "metadata": {},
   "outputs": [],
   "source": [
    "print ('least deadly year ', odds_dying.unstack().idxmax())\n",
    "print ('most deadly year ', odds_dying.unstack().idxmin())"
   ]
  },
  {
   "cell_type": "code",
   "execution_count": null,
   "metadata": {},
   "outputs": [],
   "source": [
    "prop_impacted_YTD_adj['covid_add_on_mortality'] = prop_impacted_YTD_adj['Totalt_antal_avlidna'] +\\\n",
    "prop_impacted_YTD_adj['baseline_15_18_all_cause_mortality']\n",
    "prop_impacted_YTD_adj['baseline_odds'] = 1 / prop_impacted_YTD_adj['baseline_15_18_all_cause_mortality']\n",
    "prop_impacted_YTD_adj['covid_add_on_odds'] = 1 / prop_impacted_YTD_adj['covid_add_on_mortality']\n",
    " \n",
    "prop_impacted_YTD_adj.to_pickle('covid_prop_impacted_adj.pkl')\n",
    "\n",
    "prop_impacted_YTD_adj"
   ]
  },
  {
   "cell_type": "code",
   "execution_count": null,
   "metadata": {},
   "outputs": [],
   "source": [
    "1 / odds_dying.loc['2020']"
   ]
  },
  {
   "cell_type": "code",
   "execution_count": null,
   "metadata": {},
   "outputs": [],
   "source": [
    "# actual mortality greater than baseline mortality #\n",
    "mort_vs_baseline = 1 / (odds_dying.unstack()) > prop_impacted_YTD_adj['baseline_15_18_all_cause_mortality']\n",
    "mort_vs_baseline"
   ]
  },
  {
   "cell_type": "code",
   "execution_count": null,
   "metadata": {},
   "outputs": [],
   "source": [
    "mort_vs_baseline.loc['2015':].astype(int).plot(figsize=(18,12),style='x--',subplots=True)"
   ]
  },
  {
   "cell_type": "code",
   "execution_count": null,
   "metadata": {},
   "outputs": [],
   "source": [
    "# actual mortality greater than baseline + covid induced mortality\n",
    "mort_vs_baseline_and_covid = 1 / (odds_dying.unstack()) > prop_impacted_YTD_adj['Totalt_antal_avlidna'] + prop_impacted_YTD_adj['baseline_15_18_all_cause_mortality']\n",
    "mort_vs_baseline_and_covid"
   ]
  },
  {
   "cell_type": "code",
   "execution_count": null,
   "metadata": {},
   "outputs": [],
   "source": [
    "mort_vs_baseline.sum(axis=1)"
   ]
  },
  {
   "cell_type": "code",
   "execution_count": null,
   "metadata": {},
   "outputs": [],
   "source": [
    "mort_vs_baseline_and_covid.sum(axis=1)"
   ]
  },
  {
   "cell_type": "code",
   "execution_count": null,
   "metadata": {},
   "outputs": [],
   "source": [
    "baseline_15_18_mort"
   ]
  },
  {
   "cell_type": "code",
   "execution_count": null,
   "metadata": {},
   "outputs": [],
   "source": [
    "1 / (odds_dying.unstack())"
   ]
  },
  {
   "cell_type": "code",
   "execution_count": null,
   "metadata": {},
   "outputs": [],
   "source": [
    "### SECTION SEASON ###\n",
    "\n",
    "### YC - add datetime and label for next season ### \n",
    "\n",
    "season_age_grp_deaths = grp_daily_corrected_monthly.loc['2015-10':]\n",
    "season_age_grp_deaths['season'] = pd.cut(season_age_grp_deaths.index,\n",
    "                                [pd.to_datetime('2015-10-01'),pd.to_datetime('2016-10-01'),\n",
    "                                pd.to_datetime('2017-10-01'),pd.to_datetime('2018-10-01'),\n",
    "                                pd.to_datetime('2019-10-10'),pd.to_datetime('2020-10-01'),\n",
    "                                pd.to_datetime('2021-10-01'),pd.to_datetime('2022-10-01')],\n",
    "                                        labels=['2015/2016','2016/2017','2017/2018',\n",
    "                                               '2018/2019','2019/2020','2020/2021',\n",
    "                                               '2021/2022'])\n",
    "                                        \n",
    "\n",
    "season_last_date = grp_daily_corrected.index[-1].date()\n",
    "\n",
    "season_age_grp_deaths"
   ]
  },
  {
   "cell_type": "code",
   "execution_count": null,
   "metadata": {},
   "outputs": [],
   "source": [
    "season_age_grp_deaths.groupby('season').cumsum().plot(figsize=(18,12),kind='bar',subplots=True)"
   ]
  },
  {
   "cell_type": "code",
   "execution_count": null,
   "metadata": {},
   "outputs": [],
   "source": [
    "pop_age_df.groupby(['year','scb_prel_age_bin']).sum().loc['2015':]"
   ]
  },
  {
   "cell_type": "code",
   "execution_count": null,
   "metadata": {},
   "outputs": [],
   "source": [
    "### ASSUME 2021 POPULATION IS SAME AS 2020 - MAKE MORTALITY WORSTCASE ###\n",
    "### then take avg. of the two season years ###\n",
    "\n",
    "### YC - add new entry to index ###\n",
    "\n",
    "season_pop = pop_age_df.groupby(['year','scb_prel_age_bin']).sum().loc['2015':]\n",
    "print (season_pop)\n",
    "\n",
    "current_season = season_pop.loc['2021']\n",
    "current_season.index = pd.MultiIndex.from_arrays([['2022'] * 4,['-64','65-79','80-89','90+']])\n",
    "\n",
    "### 2021 pop now in official stats ###\n",
    "season_pop = season_pop.append(current_season)\n",
    "\n",
    "season_age_grp_pop = ((season_pop.unstack() + season_pop.unstack().shift()) / 2).dropna()\n",
    "print (season_age_grp_pop)\n",
    "season_age_grp_pop.index = ['2015/2016','2016/2017','2017/2018','2018/2019','2019/2020','2020/2021','2021/2022']\n",
    "season_age_grp_pop = season_age_grp_pop.droplevel(0,axis=1)\n",
    "season_age_grp_pop"
   ]
  },
  {
   "cell_type": "code",
   "execution_count": null,
   "metadata": {},
   "outputs": [],
   "source": [
    "season_months_idx = season_age_grp_deaths.index"
   ]
  },
  {
   "cell_type": "code",
   "execution_count": null,
   "metadata": {},
   "outputs": [],
   "source": [
    "last_good_date.date()"
   ]
  },
  {
   "cell_type": "code",
   "execution_count": null,
   "metadata": {},
   "outputs": [],
   "source": [
    "title = 'SWEDEN seasonal monthly cumulative Age Group mortality 2015/2016 - 2020/2021 YTD{} (Last stable date : {}) \\nSeason : Oct-Sep\\nDataSource : scb.se'.format(\n",
    "season_last_date,last_good_date.date())\n",
    "\n",
    "season_age_grp_monthly_mort = season_age_grp_deaths.set_index('season') / season_age_grp_pop\n",
    "season_age_grp_monthly_mort['idx'] = season_months_idx\n",
    "\n",
    "axes = season_age_grp_monthly_mort.reset_index().set_index('idx').groupby('index').cumsum()[:-1].plot(\n",
    "    figsize=(18,12),kind='bar',subplots=True,sharex=True,title=title)\n",
    "\n",
    "season_age_grp_monthly_mort.reset_index().set_index('idx').groupby('index').cumsum().plot(\n",
    "    kind='bar',subplots=True,sharex=True,ax=axes,alpha=0.5)\n",
    "\n",
    "foo = season_age_grp_monthly_mort.groupby(season_age_grp_monthly_mort.index).cumsum().reset_index()\n",
    "foo.index = season_months_idx\n",
    "\n",
    "last_seasonal_month = 9\n",
    "\n",
    "grp_means_by_last_month = foo.loc[foo.index.month==last_seasonal_month - 1].mean()\n",
    "\n",
    "\n",
    "for k,a in enumerate(axes):\n",
    "    \n",
    "    label = 'latest month of current season'\n",
    "    for i in range(len(seasonal_monthly_mortality)):\n",
    "        if seasonal_monthly_mortality.index[i].month == last_seasonal_month:\n",
    "            a.axvline(i,color='orange',ls='dashed',label=label)\n",
    "            label=None\n",
    "            \n",
    "    a.axhline(grp_means_by_last_month[k],color='k',ls='dashed',label='season to date avg, last stable month.')\n",
    "\n",
    "    a.legend(loc='upper left',framealpha=0.3)\n",
    "    a.set_ylabel('mortality')\n",
    "    \n",
    " \n",
    "plt.xlabel('season')\n",
    "_=plt.xticks(range(len(season_months_idx)),season_months_idx.date)\n",
    "\n",
    "plt.savefig('season_age_grp_cumulative_mort.jpg',format='jpg')"
   ]
  },
  {
   "cell_type": "markdown",
   "metadata": {},
   "source": [
    "season_age_grp_monthly_mort"
   ]
  },
  {
   "cell_type": "code",
   "execution_count": null,
   "metadata": {},
   "outputs": [],
   "source": [
    "season_avg_mort = season_age_grp_monthly_mort.loc['2015/2016' : '2018/2019']\n",
    "\n",
    "season_avg_mort_year = season_avg_mort.groupby(season_avg_mort.index).sum().mean()\n",
    "season_avg_mort_year"
   ]
  },
  {
   "cell_type": "code",
   "execution_count": null,
   "metadata": {},
   "outputs": [],
   "source": [
    "season_expectation = season_age_grp_pop * season_avg_mort_year\n",
    "season_expectation_tot = season_expectation.sum(axis=1)\n",
    "season_expectation_tot"
   ]
  },
  {
   "cell_type": "code",
   "execution_count": null,
   "metadata": {},
   "outputs": [],
   "source": [
    "season_age_grp_pop.sum(axis=1)"
   ]
  },
  {
   "cell_type": "code",
   "execution_count": null,
   "metadata": {},
   "outputs": [],
   "source": [
    "season_excess_grp = season_age_grp_deaths.groupby('season').sum() - season_expectation\n",
    "season_excess_grp"
   ]
  },
  {
   "cell_type": "code",
   "execution_count": null,
   "metadata": {},
   "outputs": [],
   "source": [
    "(season_age_grp_deaths.groupby('season').sum().sum(axis=1) / season_expectation_tot).plot(kind='bar')\n",
    "_=plt.yticks(np.arange(0,1.1,0.10))\n",
    "\n",
    "season_age_grp_deaths"
   ]
  },
  {
   "cell_type": "code",
   "execution_count": null,
   "metadata": {},
   "outputs": [],
   "source": [
    "nr_of_seasons = len(season_age_grp_deaths['season'].unique())"
   ]
  },
  {
   "cell_type": "code",
   "execution_count": null,
   "metadata": {},
   "outputs": [],
   "source": [
    "### 2 DO - verify and beautify ###\n",
    "### seasonal cumulative monthly expected and observed deaths ### \n",
    "\n",
    "title = 'SWEDEN seasonal cumulative monthly Age Group expected & observed deaths 2015/2016 - 2021/2022 YTD {}\\nbaseline : 2015/2016 - 2018/2019\\nSeason : Oct-Sep\\nDataSource : scb.se'.format(\n",
    "season_last_date)\n",
    "axes = season_age_grp_deaths.groupby('season').cumsum()[:-1].plot(figsize=(18,12),subplots=True,kind='bar',title=title)\n",
    "season_age_grp_deaths.groupby('season').cumsum().plot(ax=axes,subplots=True,kind='bar',alpha=0.3)\n",
    "\n",
    "baseline_monthly_avg_mort = season_age_grp_monthly_mort.loc['2015/2016' :'2018/2019'].set_index('idx')\n",
    "baseline_monthly_avg_cum_mort = baseline_monthly_avg_mort.groupby(\n",
    "    baseline_monthly_avg_mort.index.month).mean().cumsum()\n",
    "\n",
    "all_seasons_baseline = pd.concat([baseline_monthly_avg_cum_mort] * nr_of_seasons)\n",
    "\n",
    "### YC : add season label and factor ###\n",
    "season_idx_base = ['2015/2016'] * 12 + ['2016/2017'] * 12 + ['2017/2018'] * 12 + ['2018/2019'] * 12 +\\\n",
    "['2019/2020'] * 12 + ['2020/2021'] * 12 + ['2021/2022'] * 12\n",
    "\n",
    "all_seasons_baseline.index = season_idx_base\n",
    "age_grp_expected_monthly_deaths = all_seasons_baseline * season_age_grp_pop\n",
    "age_grp_expected_monthly_deaths.index = pd.date_range('2015-10-01',str(previous_year+1) + '-09-30',freq='M')\n",
    "\n",
    "age_grp_expected_monthly_deaths.plot(ax=axes,figsize=(18,12),kind='bar',subplots=True,color='none',edgecolor='k')\n",
    "\n",
    "for a in axes:\n",
    "    a.set_ylabel('deaths')\n",
    "    a.legend(['observed','prel.','expected'])\n",
    "\n",
    "_=plt.xticks(range(len(age_grp_expected_monthly_deaths.index)),age_grp_expected_monthly_deaths.index.date)\n",
    "\n",
    "age_grp_expected_monthly_deaths.sum(axis=1)\n",
    "\n",
    "plt.savefig('seasonal_monthly_cum_age_grp_expected_observed_deaths.jpg',format='jpg')"
   ]
  },
  {
   "cell_type": "code",
   "execution_count": null,
   "metadata": {},
   "outputs": [],
   "source": [
    "title = 'SWEDEN Cumulative Monthly Observed & Expected Deaths per Season 15/16 - 21/22 YTD\\nseason : Oct-Sep, baseline : 15/16 - 18/19\\nDataSource : scb.se'\n",
    "\n",
    "season_monthly = season_age_grp_deaths.groupby(\n",
    "    ['season',season_age_grp_deaths.index.month]).sum().sum(axis=1).unstack()\n",
    "\n",
    "season_monthly = season_monthly[[10,11,12,1,2,3,4,5,6,7,8,9]]\n",
    "\n",
    "ax = season_monthly.plot(kind='bar',stacked=True,figsize=(18,12),title=title)\n",
    "season_expectation_tot.plot(ax=ax,kind='bar',color='none',edgecolor='k',label='Season\\nExpectation')\n",
    "\n",
    "ax.legend(bbox_to_anchor=(1,1),title='month')\n",
    "ax.set_ylabel('nr. deaths')\n",
    "_= ax.set_yticks(np.arange(0,105000,5000))\n",
    "\n",
    "plt.savefig('scb_excess_monthly_seasonal_bar_color.jpg',format='jpg')"
   ]
  },
  {
   "cell_type": "code",
   "execution_count": null,
   "metadata": {},
   "outputs": [],
   "source": [
    "title = 'SWEDEN seasonal excesss deaths per age group 2015/2016 - 2020/2021 YTD\\nSeason : Oct-Sep, Baseline : 15/16-18/19\\nDataSource : scb.se'\n",
    "\n",
    "axes = season_excess_grp[:-1].plot(figsize=(18,12),subplots=True,style='ro--',title=title)\n",
    "\n",
    "for a in axes:\n",
    "    a.axhline(0,color='k',ls='dashed')\n",
    "    a.set_ylabel('excess deaths')\n",
    "    \n",
    "plt.savefig('seasonal_excess_age_grp.jpg',format='jpg')"
   ]
  },
  {
   "cell_type": "code",
   "execution_count": null,
   "metadata": {},
   "outputs": [],
   "source": [
    "season_expectation_tot"
   ]
  },
  {
   "cell_type": "code",
   "execution_count": null,
   "metadata": {},
   "outputs": [],
   "source": [
    "season_excess_grp.sum(axis=1)"
   ]
  },
  {
   "cell_type": "code",
   "execution_count": null,
   "metadata": {},
   "outputs": [],
   "source": [
    "### seasonal excess based on prel age grps ###\n",
    "\n",
    "title = 'SWEDEN seasonal excess deaths\\nseason : Oct - Sep, baseline : 15/16 - 18/19\\nDataSource : scb.se'\n",
    "ax = season_excess_grp.sum(axis=1)[:-1].plot(kind='bar',figsize=(18,12),color='red',title=title)\n",
    "ax.set_ylabel('excess deaths')\n",
    "ax.axhline(0,ls='dashed',color='k')\n",
    "plt.savefig('scb_excess_season_excess_deaths.jpg',format='jpg')"
   ]
  },
  {
   "cell_type": "code",
   "execution_count": null,
   "metadata": {},
   "outputs": [],
   "source": [
    "quarter_expectation = season_expectation_tot / 4\n",
    "quarter_expectation"
   ]
  },
  {
   "cell_type": "code",
   "execution_count": null,
   "metadata": {},
   "outputs": [],
   "source": [
    "quarter_cum_expectation = pd.DataFrame([q * quarter_expectation for q in range (1,5)]).T\n",
    "quarter_cum_expectation"
   ]
  },
  {
   "cell_type": "code",
   "execution_count": null,
   "metadata": {},
   "outputs": [],
   "source": [
    "### scb prel. age group based ###\n",
    "\n",
    "fig,ax = plt.subplots(figsize=(18,12))\n",
    "\n",
    "title = 'SWEDEN Age Grp based [-64,65-79,80-89,90+] SEASONAL deaths : Actuals vs Expectation : 2015/2016 - 2021/2022 (Last data date : {})\\nSeason : Oct-Sep, Baseline : 15/16-18/19\\nDataSource : scb.se'.format(\n",
    "season_last_date)\n",
    "\n",
    "\n",
    "season_actuals_tot = season_age_grp_deaths.groupby('season').sum().sum(axis=1)\n",
    "\n",
    "#season_actuals_tot[:-1].plot(kind='bar',ax=ax,color='r',label='observed')\n",
    "season_actuals_tot.plot(kind='bar',ax=ax,color='r',label='observed')\n",
    "\n",
    "#season_actuals_tot.plot(ax=ax,kind='bar',color='r',alpha=0.3)\n",
    "\n",
    "season_expectation_tot.plot(ax=ax,kind='bar',edgecolor='k',color='none',linewidth=1,\n",
    "                                 title=title,label='expected')\n",
    "\n",
    "quarter_cum_expectation.plot(ax=ax,kind='bar',edgecolor='k',color='none',linewidth=1,label='quarter')\n",
    "\n",
    "plt.legend(['observed','expected','expected (flat) per quarter'],loc='upper left')\n",
    "plt.ylabel('deaths')\n",
    "plt.savefig('seasonal_actuals_vs_expected.jpg',format='jpg')"
   ]
  },
  {
   "cell_type": "code",
   "execution_count": null,
   "metadata": {},
   "outputs": [],
   "source": [
    "season_tot_pop = season_age_grp_pop.sum(axis=1)\n",
    "season_tot_pop"
   ]
  },
  {
   "cell_type": "code",
   "execution_count": null,
   "metadata": {},
   "outputs": [],
   "source": [
    "### age grp based tot mort ###\n",
    "season_tot_mort = season_actuals_tot / season_tot_pop\n",
    "season_tot_mort"
   ]
  },
  {
   "cell_type": "code",
   "execution_count": null,
   "metadata": {},
   "outputs": [],
   "source": [
    "ax = season_tot_mort.plot(figsize=(18,12),kind='bar',color='red')\n",
    "_= ax.set_yticks(np.arange(0,0.0105,0.0005))"
   ]
  },
  {
   "cell_type": "code",
   "execution_count": null,
   "metadata": {},
   "outputs": [],
   "source": [
    "fig,ax = plt.subplots(figsize=(18,12))\n",
    "\n",
    "print (season_tot_mort[:3])\n",
    "\n",
    "baseline = season_tot_mort[:3].mean()\n",
    "\n",
    "print (baseline)\n",
    "\n",
    "slope,intercept,_,_,_ = sps.linregress(range(len(season_tot_mort[:3])),season_tot_mort[:3])\n",
    "print (slope,intercept)\n",
    "\n",
    "X = range(len(season_tot_mort))\n",
    "Y = X * slope + intercept\n",
    "\n",
    "title = 'SWEDEN age grp [-64,65-79,80-89,90+] based total SEASONAL [ 15/16 - 21/22 (prel) ] mortality\\nbaseline : 15/16 - 17/18\\nDataSource : scb.se' \n",
    "season_tot_mort.plot(ax=ax,kind='bar',figsize=(18,12),color='red',title=title)\n",
    "\n",
    "ax.plot(X,Y,ls='dashed',color='orange')\n",
    "\n",
    "print (ax.get_xticks())\n",
    "ax.axhline(baseline,color='k',ls='dashed')\n",
    "\n",
    "ax.legend(['trend','avg','mortality'],loc='upper right',framealpha=0.3)\n",
    "\n",
    "_= plt.yticks(np.arange(0,0.0095,0.0005))\n",
    "plt.ylabel('mortality')\n",
    "plt.savefig('scb_excess_seasonal_age_grp_mort.jpg',format='jpg')"
   ]
  },
  {
   "cell_type": "code",
   "execution_count": null,
   "metadata": {},
   "outputs": [],
   "source": [
    "### age grp based seasonal excess ###\n",
    "trend_season_excess = (season_tot_mort - Y) * season_age_grp_pop.sum(axis=1)\n",
    "\n",
    "print ('trend season excess pct : ', trend_season_excess / season_actuals_tot)\n",
    "print ('abs trend season excess : ',trend_season_excess)"
   ]
  },
  {
   "cell_type": "code",
   "execution_count": null,
   "metadata": {},
   "outputs": [],
   "source": [
    "### abs excess based on age grp mort trend ###\n",
    "trend_season_excess[:-1].plot(figsize=(18,12),kind='bar',color='red')"
   ]
  },
  {
   "cell_type": "code",
   "execution_count": null,
   "metadata": {},
   "outputs": [],
   "source": [
    "#### non age adj vs age adj mort ###\n",
    "seasonal_mortality - season_tot_mort"
   ]
  },
  {
   "cell_type": "code",
   "execution_count": null,
   "metadata": {},
   "outputs": [],
   "source": []
  },
  {
   "cell_type": "code",
   "execution_count": null,
   "metadata": {},
   "outputs": [],
   "source": [
    "### section ###\n",
    "no_bins['mortality']\n",
    "no_bins.to_pickle('pop_death_data.pkl')"
   ]
  },
  {
   "cell_type": "code",
   "execution_count": null,
   "metadata": {},
   "outputs": [],
   "source": [
    "### pattern ###\n",
    "\n",
    "old_lim = 80\n",
    "\n",
    "old_pop_grps = pop_age_df.loc[pd.IndexSlice[:,old_lim:],:]\n",
    "old_pop = old_pop_grps.groupby('year').sum()\n",
    "print (old_pop_grps.loc['2020'])\n",
    "old_pop"
   ]
  },
  {
   "cell_type": "code",
   "execution_count": null,
   "metadata": {},
   "outputs": [],
   "source": [
    "all_pop = pop_age_df.groupby('year').sum()\n",
    "all_pop"
   ]
  },
  {
   "cell_type": "code",
   "execution_count": null,
   "metadata": {},
   "outputs": [],
   "source": [
    "prop_old_pop = old_pop / all_pop\n",
    "prop_old_pop"
   ]
  },
  {
   "cell_type": "code",
   "execution_count": null,
   "metadata": {},
   "outputs": [],
   "source": [
    "prop_old_pop.plot(kind='bar',figsize=(18,12))"
   ]
  },
  {
   "cell_type": "code",
   "execution_count": null,
   "metadata": {},
   "outputs": [],
   "source": [
    "no_bins['mortality']"
   ]
  },
  {
   "cell_type": "code",
   "execution_count": null,
   "metadata": {},
   "outputs": [],
   "source": [
    "import scipy.stats as sps\n",
    "\n",
    "slope,intercept,_,_,_ = sps.linregress(prop_old_pop['pop'],no_bins['mortality'])\n",
    "\n",
    "print (slope,intercept)\n",
    "corr_coef = np.corrcoef(prop_old_pop['pop'],no_bins['mortality'])\n",
    "\n",
    "X_vals = np.linspace(prop_old_pop['pop'].min(),prop_old_pop['pop'].max(),100)\n",
    "Y_vals = slope * X_vals + intercept\n",
    "\n",
    "plt.figure(figsize=(18,12))\n",
    "title = 'SWEDEN linear regression prop. population >= {} vs. total mortality, 2002-2021'.format(old_lim)+\\\n",
    "r': $\\alpha$ : {:.2f} $\\beta$ : {:.2f}'.format(\n",
    "    intercept,slope) + '\\nCorrelation Coefficient : {:.2f}\\nDataSource : scb.se'.format(corr_coef[0,1]) \n",
    "\n",
    "plt.scatter(prop_old_pop,no_bins['mortality'],label='mortality',color='red')\n",
    "plt.plot(X_vals,Y_vals,ls='dashed',color='orange',label='linreg')\n",
    "\n",
    "annotate_xy = list(zip(prop_old_pop['pop'],no_bins['mortality']))\n",
    "\n",
    "for i in range(len(prop_old_pop)):\n",
    "    plt.annotate(prop_old_pop.index[i],annotate_xy[i])\n",
    "\n",
    "plt.title(title)\n",
    "plt.ylabel('mortality')\n",
    "plt.xlabel('proportion population >= {} years'.format(old_lim))\n",
    "_= plt.legend(loc='upper left')\n",
    "plt.savefig('scb_excess_prop_old_linreg_mort.jpg',format='jpg')"
   ]
  },
  {
   "cell_type": "code",
   "execution_count": null,
   "metadata": {},
   "outputs": [],
   "source": [
    "\n",
    "fig,axes = plt.subplots(2,figsize=(18,12))\n",
    "\n",
    "axes[0].bar(prop_old_pop.index,prop_old_pop['pop'])\n",
    "axes[1].bar(no_bins.index,no_bins['mortality'],color='red')"
   ]
  },
  {
   "cell_type": "code",
   "execution_count": null,
   "metadata": {},
   "outputs": [],
   "source": [
    "plt.figure(figsize=(18,12))\n",
    "title = 'SWEDEN proportion population older than {} years vs. overall mortality 2002-2021\\nDataSource : scb.se'.format(\n",
    "old_lim)\n",
    "\n",
    "plt.title(title)\n",
    "\n",
    "ax = plt.gca()\n",
    "ax2 = plt.twinx()\n",
    "\n",
    "ax.plot(prop_old_pop['pop'],'o--',label='proportion pop. >= 80 years')\n",
    "ax2.plot(no_bins['mortality'],'o--',color='red',label='mortality')\n",
    "\n",
    "ax.legend(loc='upper left')\n",
    "ax2.legend(loc='upper right')\n",
    "\n",
    "ax.set_ylabel('proportion >= {} years'.format(old_lim))\n",
    "ax2.set_ylabel('mortality')\n",
    "\n",
    "ax.set_xlabel('year')\n",
    "plt.savefig('scb_excess_prop_old_vs_mort.jpg',format='jpg')"
   ]
  },
  {
   "cell_type": "code",
   "execution_count": null,
   "metadata": {},
   "outputs": [],
   "source": [
    "title = 'SWEDEN cumulative age distribution 2019-2021\\nDataSource : scb.se'\n",
    "age_proportions = pop_age_df.groupby('year').cumsum() / pop_age_df.groupby('year').sum()\n",
    "ax = age_proportions.unstack().droplevel(level=0,axis=1).loc['2019' : '2021'].T.plot(figsize=(18,12),\n",
    "                                                                                    title=title)\n",
    "_=ax.set_xticks(range(101))\n",
    "_= ax.set_xticklabels(range(101),rotation=90)"
   ]
  },
  {
   "cell_type": "code",
   "execution_count": null,
   "metadata": {},
   "outputs": [],
   "source": [
    "age_grp_prop_pop = pop_age_df.groupby('year').transform(lambda x : x / x.sum())\n",
    "ax = age_grp_prop_pop.loc['2020'].plot(color='red',figsize=(18,12))\n",
    "age_grp_prop_pop.loc['2019'].plot(ax=ax,color='blue')\n",
    "age_grp_prop_pop.loc['2021'].plot(ax=ax,color='lime')\n",
    "\n",
    "plt.legend(['2020','2019','2021'])"
   ]
  },
  {
   "cell_type": "code",
   "execution_count": null,
   "metadata": {},
   "outputs": [],
   "source": [
    "age_grp_2020_rel_2019 = age_grp_prop_pop.loc['2020'] / age_grp_prop_pop.loc['2019']\n",
    "ax = age_grp_2020_rel_2019.plot(figsize=(18,12),style='o--')\n",
    "\n",
    "_= ax.set_xticks(age_grp_2020_rel_2019.index)\n",
    "_= ax.set_xticklabels(age_grp_2020_rel_2019.index,rotation=90)\n",
    "\n",
    "ax.axhline(1,ls='dashed',color='orange')"
   ]
  },
  {
   "cell_type": "code",
   "execution_count": null,
   "metadata": {},
   "outputs": [],
   "source": [
    "pop_url_1_year_1860 = 'http://api.scb.se/OV0104/v1/doris/sv/ssd/START/BE/BE0101/BE0101A/BefolkningR1860N'\n",
    "pop_query_1_year_1860 = {\n",
    "  \"query\": [\n",
    "    {\n",
    "      \"code\": \"Alder\",\n",
    "      \"selection\": {\n",
    "        \"filter\": \"vs:Ålder1årL\",\n",
    "        \"values\": [\n",
    "          \"0\",\n",
    "          \"1\",\n",
    "          \"2\",\n",
    "          \"3\",\n",
    "          \"4\",\n",
    "          \"5\",\n",
    "          \"6\",\n",
    "          \"7\",\n",
    "          \"8\",\n",
    "          \"9\",\n",
    "          \"10\",\n",
    "          \"11\",\n",
    "          \"12\",\n",
    "          \"13\",\n",
    "          \"14\",\n",
    "          \"15\",\n",
    "          \"16\",\n",
    "          \"17\",\n",
    "          \"18\",\n",
    "          \"19\",\n",
    "          \"20\",\n",
    "          \"21\",\n",
    "          \"22\",\n",
    "          \"23\",\n",
    "          \"24\",\n",
    "          \"25\",\n",
    "          \"26\",\n",
    "          \"27\",\n",
    "          \"28\",\n",
    "          \"29\",\n",
    "          \"30\",\n",
    "          \"31\",\n",
    "          \"32\",\n",
    "          \"33\",\n",
    "          \"34\",\n",
    "          \"35\",\n",
    "          \"36\",\n",
    "          \"37\",\n",
    "          \"38\",\n",
    "          \"39\",\n",
    "          \"40\",\n",
    "          \"41\",\n",
    "          \"42\",\n",
    "          \"43\",\n",
    "          \"44\",\n",
    "          \"45\",\n",
    "          \"46\",\n",
    "          \"47\",\n",
    "          \"48\",\n",
    "          \"49\",\n",
    "          \"50\",\n",
    "          \"51\",\n",
    "          \"52\",\n",
    "          \"53\",\n",
    "          \"54\",\n",
    "          \"55\",\n",
    "          \"56\",\n",
    "          \"57\",\n",
    "          \"58\",\n",
    "          \"59\",\n",
    "          \"60\",\n",
    "          \"61\",\n",
    "          \"62\",\n",
    "          \"63\",\n",
    "          \"64\",\n",
    "          \"65\",\n",
    "          \"66\",\n",
    "          \"67\",\n",
    "          \"68\",\n",
    "          \"69\",\n",
    "          \"70\",\n",
    "          \"71\",\n",
    "          \"72\",\n",
    "          \"73\",\n",
    "          \"74\",\n",
    "          \"75\",\n",
    "          \"76\",\n",
    "          \"77\",\n",
    "          \"78\",\n",
    "          \"79\",\n",
    "          \"80\",\n",
    "          \"81\",\n",
    "          \"82\",\n",
    "          \"83\",\n",
    "          \"84\",\n",
    "          \"85\",\n",
    "          \"86\",\n",
    "          \"87\",\n",
    "          \"88\",\n",
    "          \"89\",\n",
    "          \"90\",\n",
    "          \"91\",\n",
    "          \"92\",\n",
    "          \"93\",\n",
    "          \"94\",\n",
    "          \"95\",\n",
    "          \"96\",\n",
    "          \"97\",\n",
    "          \"98\",\n",
    "          \"99\",\n",
    "          \"100\",\n",
    "          \"101\",\n",
    "          \"102\",\n",
    "          \"103\",\n",
    "          \"104\",\n",
    "          \"105\",\n",
    "          \"106\",\n",
    "          \"107\",\n",
    "          \"108\",\n",
    "          \"109\",\n",
    "          \"110+\"\n",
    "        ]\n",
    "      }\n",
    "    },\n",
    "    {\n",
    "      \"code\": \"Kon\",\n",
    "      \"selection\": {\n",
    "        \"filter\": \"item\",\n",
    "        \"values\": [\n",
    "          \"1\",\n",
    "          \"2\"\n",
    "        ]\n",
    "      }\n",
    "    }\n",
    "  ],\n",
    "  \"response\": {\n",
    "    \"format\": \"json\"\n",
    "  }\n",
    "}"
   ]
  },
  {
   "cell_type": "code",
   "execution_count": null,
   "metadata": {},
   "outputs": [],
   "source": [
    "r = requests.post(pop_url_1_year_1860,json=pop_query_1_year_1860)\n",
    "r.status_code"
   ]
  },
  {
   "cell_type": "code",
   "execution_count": null,
   "metadata": {},
   "outputs": [],
   "source": [
    "pop_1860_json = r.json()\n",
    "pop_1860_data = pop_1860_json['data']\n",
    "pop_1860_df = pd.DataFrame.from_dict(pop_1860_data)\n",
    "pop_1860_df[['age','gender','year']] = pop_1860_df['key'].to_list()\n",
    "pop_1860_df['pop'] = pop_1860_df['values'].apply(lambda x : x[0]).astype(int)\n",
    "pop_1860_df.drop(['key','values'],axis=1,inplace=True)\n",
    "pop_1860_df['age'] = pop_1860_df['age'].str.replace('+','').astype(int)\n",
    "pop_1860_df = pop_1860_df.groupby(['year','age']).sum()\n",
    "pop_1860_df = pop_1860_df.unstack().droplevel(0,axis=1)\n",
    "pop_1860_df"
   ]
  },
  {
   "cell_type": "code",
   "execution_count": null,
   "metadata": {},
   "outputs": [],
   "source": [
    "age_lim = '80'\n",
    "proportion_old_1860 = pop_1860_df.loc[:,age_lim:].sum(axis=1) / pop_1860_df.sum(axis=1)\n",
    "proportion_old_1860"
   ]
  },
  {
   "cell_type": "code",
   "execution_count": null,
   "metadata": {},
   "outputs": [],
   "source": [
    "dead_1749_url = 'http://api.scb.se/OV0104/v1/doris/sv/ssd/START/BE/BE0101/BE0101G/BefUtvKon1749'\n",
    "dead_1749_query = {\n",
    "  \"query\": [\n",
    "    {\n",
    "      \"code\": \"Kon\",\n",
    "      \"selection\": {\n",
    "        \"filter\": \"item\",\n",
    "        \"values\": [\n",
    "          \"1+2\"\n",
    "        ]\n",
    "      }\n",
    "    },\n",
    "    {\n",
    "      \"code\": \"ContentsCode\",\n",
    "      \"selection\": {\n",
    "        \"filter\": \"item\",\n",
    "        \"values\": [\n",
    "          \"0000001F\"\n",
    "        ]\n",
    "      }\n",
    "    }\n",
    "  ],\n",
    "  \"response\": {\n",
    "    \"format\": \"json\"\n",
    "  }\n",
    "}"
   ]
  },
  {
   "cell_type": "code",
   "execution_count": null,
   "metadata": {},
   "outputs": [],
   "source": [
    "r = requests.post(dead_1749_url,json=dead_1749_query)\n",
    "r.status_code"
   ]
  },
  {
   "cell_type": "code",
   "execution_count": null,
   "metadata": {},
   "outputs": [],
   "source": [
    "dead_1749_df = pd.DataFrame.from_dict(r.json()['data'])\n",
    "dead_1749_df[['gender','year']] = dead_1749_df['key'].to_list()\n",
    "dead_1749_df['dead'] = dead_1749_df['values'].apply(lambda x : x[0]).astype(int)\n",
    "dead_1749_df.drop(['gender','key','values'],inplace=True,axis=1)\n",
    "dead_1749_df.set_index('year',inplace=True)\n",
    "mort_1860 = (dead_1749_df['dead'] / pop_1860_df.sum(axis=1)).dropna()\n",
    "mort_1860"
   ]
  },
  {
   "cell_type": "code",
   "execution_count": null,
   "metadata": {},
   "outputs": [],
   "source": [
    "mort_1860.at['2021'] = no_bins.loc['2021','mortality']\n",
    "mort_1860"
   ]
  },
  {
   "cell_type": "code",
   "execution_count": null,
   "metadata": {},
   "outputs": [],
   "source": [
    "title = 'SWEDEN proportion population aged {} or more, 1860-2021 ; overall mortality 1860-2021\\nDataSource : scb.se'.format(age_lim)\n",
    "ax = proportion_old_1860.plot(figsize=(18,12),title=title,marker='.')\n",
    "ax.set_ylabel('proportion over 80')\n",
    "ax2 = plt.twinx()\n",
    "mort_1860.plot(ax=ax2,color='red',marker='.',ls='dashed')\n",
    "ax2.set_ylabel('mortality')\n",
    "ax.legend(['proportion 80+'],loc='upper left')\n",
    "ax2.legend(['overall mortality'],loc='upper right')\n",
    "plt.savefig('scb_excess_swe_aging_pop.jpg',format='jpg')"
   ]
  },
  {
   "cell_type": "code",
   "execution_count": null,
   "metadata": {},
   "outputs": [],
   "source": [
    "mort_1860.rolling(10).mean().plot()"
   ]
  },
  {
   "cell_type": "code",
   "execution_count": null,
   "metadata": {},
   "outputs": [],
   "source": [
    "arr = pd.Series(np.sin(np.linspace(0,2*np.pi,20)))\n",
    "ax = arr.plot(marker='o')\n",
    "arr.rolling(2).mean().plot(ax=ax,marker='o')"
   ]
  },
  {
   "cell_type": "code",
   "execution_count": null,
   "metadata": {},
   "outputs": [],
   "source": [
    "ax = mort_1860.plot(figsize=(18,12))\n",
    "mort_1860.rolling(10).mean().plot(ax=ax)\n"
   ]
  },
  {
   "cell_type": "code",
   "execution_count": null,
   "metadata": {},
   "outputs": [],
   "source": [
    "avg_over = 10\n",
    "rolling_5_rel_mort_1860 = mort_1860/ mort_1860.rolling(avg_over).mean()\n",
    "\n",
    "title = 'SWEDEN {} - 2021 : annual mortality relative to mortality {} year rolling average\\nDataSource : scb.se'.format(\n",
    "rolling_5_rel_mort_1860.dropna().index[0],avg_over)\n",
    "ax = rolling_5_rel_mort_1860.plot(figsize=(18,12),marker='.',title=title,color='red')\n",
    "ax.axhline(1,color='k')\n",
    "ax.set_ylabel('proportion')\n",
    "ax.set_yticks(np.arange(0.8,1.3,0.01))\n",
    "plt.savefig('scb_excess_rolling_average_proportion.jpg',format='jpg')\n",
    "rolling_5_rel_mort_1860"
   ]
  },
  {
   "cell_type": "code",
   "execution_count": null,
   "metadata": {},
   "outputs": [],
   "source": [
    "rel_prev_year_1860 = mort_1860 / mort_1860.shift()\n",
    "ax = rel_prev_year_1860.plot(figsize=(18,12),color='orange',marker='.')\n",
    "ax.axhline(1,color='k')"
   ]
  },
  {
   "cell_type": "code",
   "execution_count": null,
   "metadata": {},
   "outputs": [],
   "source": [
    "no_bins"
   ]
  },
  {
   "cell_type": "code",
   "execution_count": null,
   "metadata": {},
   "outputs": [],
   "source": [
    "#monthly_mortality.to_pickle('monthly_mort_2015_2021.pkl')"
   ]
  },
  {
   "cell_type": "code",
   "execution_count": null,
   "metadata": {},
   "outputs": [],
   "source": [
    "pop_age_df"
   ]
  },
  {
   "cell_type": "code",
   "execution_count": null,
   "metadata": {},
   "outputs": [],
   "source": [
    "pop_age_df_scb_prel = pop_age_df.groupby(['year','scb_prel_age_bin']).sum()\n",
    "pop_age_df_scb_prel.loc['2020'] / pop_age_df_scb_prel.loc['2019']"
   ]
  },
  {
   "cell_type": "code",
   "execution_count": null,
   "metadata": {},
   "outputs": [],
   "source": [
    "### days of studying covid ###\n",
    "pd.date_range('2020-02-13','2021-06-15')"
   ]
  },
  {
   "cell_type": "code",
   "execution_count": null,
   "metadata": {},
   "outputs": [],
   "source": [
    "pd.to_datetime('2020-06-01') - MonthEnd(1)"
   ]
  },
  {
   "cell_type": "code",
   "execution_count": null,
   "metadata": {},
   "outputs": [],
   "source": [
    "pd.date_range('2019-10','2020-10',freq='M')[0].month_name()"
   ]
  },
  {
   "cell_type": "code",
   "execution_count": null,
   "metadata": {},
   "outputs": [],
   "source": [
    "### All Deaths since first week of Covid deaths 2020-03-15 ###\n",
    "### or all deaths since season 19/20 started ###\n",
    "\n",
    "season_pre_pandemic_start = '2019-10'\n",
    "pandemic_start = '2020-03'\n",
    "\n",
    "### PARAM ###\n",
    "start = season_pre_pandemic_start\n",
    "#start = pandemic_start\n",
    "#start = '2020-02'\n",
    "###       ###\n",
    "\n",
    "pre_pandemic_title = 'SWEDEN Monthly Expected vs. Observed Deaths per age group, Mar 2020 - {}\\nbaseline : 2015-2018\\nDataSource : scb.se'.format(\n",
    "last_good_date.date())\n",
    "\n",
    "season_title = 'SWEDEN Monthly Expected vs. Observed Deaths per age group, seasons 19/20 --> : {} --> YTD {}\\nbaseline : 2015-2018\\nDataSource : scb.se'.format(\n",
    "pd.to_datetime(start).date(),last_good_date.date())\n",
    "\n",
    "if start == pandemic_start:\n",
    "    title = pre_pandemic_title\n",
    "else:\n",
    "    title = season_title\n",
    "    \n",
    "covid_period_monthly_expected_deaths = monthly_expected_deaths.loc[start : last_good_date ]\n",
    "covid_period_monthly_deaths = grp_daily_corrected_monthly.loc[start : last_good_date]\n",
    "\n",
    "ax = covid_period_monthly_deaths.plot(figsize=(18,12),kind='bar',subplots=True,\n",
    "                                         color='red',label='expected',sharex=True,title=title)\n",
    "\n",
    "covid_period_monthly_expected_deaths.plot(ax=ax,kind='bar',subplots=True,facecolor='none',edgecolor='k')\n",
    "_= ax[-1].set_xticklabels(covid_period_monthly_deaths.index.date)\n",
    "\n",
    "for i,a in enumerate(ax):\n",
    "    a.set_ylabel('deaths')\n",
    "    a.legend([covid_period_monthly_deaths.columns[i] +' observed',\n",
    "              covid_period_monthly_deaths.columns[i] + ' expected'],framealpha=0.3,loc='upper left')\n",
    "\n",
    "\n",
    "plt.savefig('scb_excess_' + start + '_expected_vs_excess.jpg',format='jpg' )"
   ]
  },
  {
   "cell_type": "code",
   "execution_count": null,
   "metadata": {},
   "outputs": [],
   "source": [
    "prop_obs_vs_exp = covid_period_monthly_deaths / covid_period_monthly_expected_deaths\n",
    "\n",
    "pre_pandemic_title = 'SWEDEN proportion Excess Deaths per age group, Mar 2020 - {}\\nbaseline : 2015-2018\\nDataSource : scb.se'.format(\n",
    "last_good_date.date())\n",
    "\n",
    "season_title = 'SWEDEN proportion Excess Deaths per age group, seasons 19/20 --> : {} --> YTD {}\\nbaseline : 2015-2018\\nDataSource : scb.se'.format(\n",
    "pd.to_datetime(start).date(),last_good_date.date())\n",
    "\n",
    "if start == pandemic_start:\n",
    "    title = pre_pandemic_title\n",
    "else:\n",
    "    title = season_title\n",
    "\n",
    "axes = prop_obs_vs_exp.plot(kind='bar',subplots=True,figsize=(18,12),color='red',title=title)\n",
    "\n",
    "for a in axes:\n",
    "    a.axhline(1,color='k',ls='dashed')\n",
    "    a.set_ylabel('proportion excess')\n",
    "    a.legend(framealpha=0.3)\n",
    "    \n",
    "_=axes[-1].set_xticklabels(prop_obs_vs_exp.index.date)\n",
    "\n",
    "plt.savefig('scb_excess_proportion' + start + '_expected_vs_excess.jpg',format='jpg' )"
   ]
  },
  {
   "cell_type": "code",
   "execution_count": null,
   "metadata": {},
   "outputs": [],
   "source": [
    "covid_period_excess = covid_period_monthly_deaths - covid_period_monthly_expected_deaths\n",
    "\n",
    "pre_pandemic_title = 'SWEDEN Monthly Excess Deaths per age group, Mar 2020 - {}\\nbaseline : 2015-2018\\nDataSource : scb.se'.format(\n",
    "last_good_date.date())\n",
    "\n",
    "season_title = 'SWEDEN  Monthly Excess Deaths per age group, seasons 19/20 --> : {} --> YTD {}\\nbaseline : 2015-2018\\nDataSource : scb.se'.format(\n",
    "pd.to_datetime(start).date(),last_good_date.date())\n",
    "\n",
    "if start == pandemic_start:\n",
    "    title = pre_pandemic_title\n",
    "else:\n",
    "    title = season_title\n",
    "\n",
    "ax = covid_period_excess.plot(figsize=(18,12),kind='bar',subplots=True,sharex=True,color='red',title=title)\n",
    "_= ax[-1].set_xticklabels(covid_period_excess.index.date)\n",
    "\n",
    "for a in ax:\n",
    "    a.set_ylabel('excess deaths')\n",
    "    a.axhline(0,ls='dashed',color='k')\n",
    "    \n",
    "plt.savefig('scb_excess_' + start + '_excess_age_grp.jpg',format='jpg' )"
   ]
  },
  {
   "cell_type": "code",
   "execution_count": null,
   "metadata": {},
   "outputs": [],
   "source": [
    "pre_pandemic_title = 'SWEDEN cumulative Excess Deaths per age grp, Mar 2020 - {}\\nbaseline : 2015-2018\\nDataSource : scb.se'.format(\n",
    "last_good_date.date())\n",
    "\n",
    "season_title = 'SWEDEN cumulative Excess Deaths per age grp, seasons 19/20 --> : {} --> YTD {}\\nbaseline : 2015-2018\\nDataSource : scb.se'.format(\n",
    "pd.to_datetime(start).date(),last_good_date.date())\n",
    "\n",
    "if start == pandemic_start:\n",
    "    title = pre_pandemic_title\n",
    "else:\n",
    "    title = season_title\n",
    "\n",
    "\n",
    "ax = covid_period_excess.cumsum().plot(kind='bar',subplots=True,figsize=(18,12),color='red',title=title)\n",
    "_= ax[-1].set_xticklabels(covid_period_excess.index.date)\n",
    "\n",
    "for a in ax:\n",
    "    a.set_ylabel('excess deaths')\n",
    "    a.axhline(0,ls='dashed',color='k')\n",
    "    \n",
    "    \n",
    "plt.savefig('scb_excess_' + start + '_cum_excess_grp.jpg',format='jpg' )"
   ]
  },
  {
   "cell_type": "code",
   "execution_count": null,
   "metadata": {},
   "outputs": [],
   "source": [
    "covid_period_monthly_excess = covid_period_excess.sum(axis=1)\n",
    "covid_period_monthly_excess"
   ]
  },
  {
   "cell_type": "code",
   "execution_count": null,
   "metadata": {},
   "outputs": [],
   "source": [
    "covid_period_monthly_excess.cumsum()"
   ]
  },
  {
   "cell_type": "code",
   "execution_count": null,
   "metadata": {},
   "outputs": [],
   "source": [
    "pre_pandemic_title = 'SWEDEN monthly tot. Excess Deaths, Mar 2020 - {}\\nbaseline : 2015-2018\\nDataSource : scb.se'.format(\n",
    "last_good_date.date())\n",
    "\n",
    "season_title = 'SWEDEN monthly tot. Excess Deaths, seasons 19/20 --> : {} --> YTD {}\\nbaseline : 2015-2018\\nDataSource : scb.se'.format(\n",
    "pd.to_datetime(start).date(),last_good_date.date())\n",
    "\n",
    "if start == pandemic_start:\n",
    "    title = pre_pandemic_title\n",
    "else:\n",
    "    title = season_title\n",
    "\n",
    "ax = covid_period_monthly_excess.plot(figsize=(18,12),kind='bar',color='red',title=title)\n",
    "_= ax.set_xticklabels(covid_period_monthly_excess.index.date)\n",
    "\n",
    "ax.set_ylabel('excess deaths')\n",
    "ax.axhline(0,ls='dashed',color='k')\n",
    "\n",
    "plt.savefig('scb_excess_' + start + '_total_excess_monthly.jpg',format='jpg' )"
   ]
  },
  {
   "cell_type": "code",
   "execution_count": null,
   "metadata": {},
   "outputs": [],
   "source": [
    "covid_period_cum_excess = covid_period_excess.sum(axis=1).cumsum()\n",
    "\n",
    "pre_pandemic_title = 'SWEDEN monthly tot. cumulative Excess Deaths, Mar 2020 - {}\\nbaseline : 2015-2018\\nDataSource : scb.se'.format(\n",
    "last_good_date.date())\n",
    "\n",
    "season_title = 'SWEDEN monthly tot. cumulative Excess Deaths, seasons 19/20 --> : {} --> YTD {}\\nbaseline : 2015-2018\\nDataSource : scb.se'.format(\n",
    "pd.to_datetime(start).date(),last_good_date.date())\n",
    "\n",
    "if start == pandemic_start:\n",
    "    title = pre_pandemic_title\n",
    "else:\n",
    "    title = season_title\n",
    "\n",
    "ax = covid_period_cum_excess.plot(kind='bar',figsize=(18,12),color='red',title=title)\n",
    "_= ax.set_xticklabels(covid_period_cum_excess.index.date)\n",
    "\n",
    "ax.set_ylabel('excess deaths')\n",
    "ax.axhline(0,ls='dashed',color='k')\n",
    "\n",
    "plt.savefig('scb_excess_' + start + '_tot_cum_excess.jpg',format='jpg' )\n"
   ]
  },
  {
   "cell_type": "code",
   "execution_count": null,
   "metadata": {},
   "outputs": [],
   "source": [
    "covid_period_cum_excess"
   ]
  },
  {
   "cell_type": "code",
   "execution_count": null,
   "metadata": {},
   "outputs": [],
   "source": [
    "\n",
    "def func(*args,**kwargs):\n",
    "    print ('args : ',args)\n",
    "    print ('kwargs : ', kwargs)\n",
    "    \n",
    "\n",
    "func(1,2,a=3,b=4,c=5)"
   ]
  },
  {
   "cell_type": "code",
   "execution_count": null,
   "metadata": {},
   "outputs": [],
   "source": [
    "monthly_excess.loc['2020':].sum(axis=1).cumsum()"
   ]
  },
  {
   "cell_type": "code",
   "execution_count": null,
   "metadata": {},
   "outputs": [],
   "source": [
    "monthly_excess.loc['2019-10':].sum(axis=1).cumsum()"
   ]
  },
  {
   "cell_type": "code",
   "execution_count": null,
   "metadata": {},
   "outputs": [],
   "source": [
    "dead_df.loc['2020'] / dead_df.loc['2015' : '2019'].mean()"
   ]
  },
  {
   "cell_type": "code",
   "execution_count": null,
   "metadata": {},
   "outputs": [],
   "source": [
    "### antal testade ###\n",
    "###\n",
    "###\n",
    "###\n",
    "\n",
    "### this reads the latest 5 weeks data ###\n",
    "tester = pd.read_html('https://www.folkhalsomyndigheten.se/smittskydd-beredskap/utbrott/aktuella-utbrott/covid-19/statistik-och-analyser/antalet-testade-for-covid-19/',\n",
    "                     encoding='utf-8',thousands=' ')\n",
    "fhm_test_df = tester[0]\n",
    "fhm_test_df"
   ]
  },
  {
   "cell_type": "code",
   "execution_count": null,
   "metadata": {},
   "outputs": [],
   "source": [
    "from datetime import date\n",
    "### year, week, day of week (sun)\n",
    "date.fromisocalendar(2021, 29, 7)"
   ]
  },
  {
   "cell_type": "code",
   "execution_count": null,
   "metadata": {},
   "outputs": [],
   "source": [
    "### YC ###\n",
    "fhm_test_df['Vecka'] = fhm_test_df['Vecka'].str.replace('[a-z]*','',regex=True).str.strip(' ').astype(int)\n",
    "\n",
    "### YC use the below when some of the entries are the last weeks of the previous year, some from current ###\n",
    "\n",
    "###fhm_test_df.index = fhm_test_df['Vecka'].apply(\n",
    "    ###lambda v : date.fromisocalendar(previous_year if v > 5 else previous_year + 1,v,7))\n",
    "\n",
    "### use this when all entries are from same year ###\n",
    "fhm_test_df.index = fhm_test_df['Vecka'].apply(lambda v : date.fromisocalendar(previous_year + 1,v,7))\n",
    "\n",
    "fhm_test_df"
   ]
  },
  {
   "cell_type": "code",
   "execution_count": null,
   "metadata": {},
   "outputs": [],
   "source": [
    "fhm_test_df.head()\n",
    "rel_col_names = fhm_test_df.columns\n",
    "fhm_test_df.columns = ['Vecka','Testade individer','Genomförda test']\n",
    "fhm_test_df.head()"
   ]
  },
  {
   "cell_type": "code",
   "execution_count": null,
   "metadata": {},
   "outputs": [],
   "source": [
    "fhm_test_df['total_tested_individuals'] = fhm_test_df['Testade individer']\n",
    "fhm_test_df['total_tests_performed'] = fhm_test_df['Genomförda test'] \n",
    "fhm_test_df.drop(['Testade individer','Genomförda test'],axis=1,inplace=True)\n",
    "fhm_test_df"
   ]
  },
  {
   "cell_type": "code",
   "execution_count": null,
   "metadata": {},
   "outputs": [],
   "source": [
    "fhm_test_df = fhm_test_df.join(fhm_weekly_positive)\n",
    "fhm_test_df"
   ]
  },
  {
   "cell_type": "code",
   "execution_count": null,
   "metadata": {},
   "outputs": [],
   "source": [
    "fhm_test_df.rename(columns={'Totalt_antal_fall' : 'total_cases'},inplace=True)\n"
   ]
  },
  {
   "cell_type": "code",
   "execution_count": null,
   "metadata": {},
   "outputs": [],
   "source": [
    "fhm_test_df['cases_per_tested_individuals'] = fhm_test_df['total_cases'] / fhm_test_df['total_tested_individuals']\n",
    "fhm_test_df['cases_per_test'] = fhm_test_df['total_cases'] / fhm_test_df['total_tests_performed']\n",
    "fhm_test_df"
   ]
  },
  {
   "cell_type": "code",
   "execution_count": null,
   "metadata": {},
   "outputs": [],
   "source": [
    "fhm_test_df.index.name='date'"
   ]
  },
  {
   "cell_type": "code",
   "execution_count": null,
   "metadata": {},
   "outputs": [],
   "source": [
    "fhm_test_df.plot(y='cases_per_test',style='o--')"
   ]
  },
  {
   "cell_type": "code",
   "execution_count": null,
   "metadata": {},
   "outputs": [],
   "source": []
  },
  {
   "cell_type": "code",
   "execution_count": null,
   "metadata": {
    "scrolled": false
   },
   "outputs": [],
   "source": [
    "\n",
    "test_data_df = pd.DataFrame()\n",
    "\n",
    "### now read earlier weeks. Problem is that the formatting of the web-page has changed during the weeks ###\n",
    "\n",
    "### also NOTE next line ! \n",
    "\n",
    "### update the range end by looking at the web page below, how many 'next' buttons there are,currently 6 ###\n",
    "\n",
    "for page in range(1,8):\n",
    "\n",
    "    url = 'https://www.folkhalsomyndigheten.se/smittskydd-beredskap/utbrott/aktuella-utbrott/covid-19/statistik-och-analyser/antalet-testade-for-covid-19/tidigare-data/?page={}'.format(page)\n",
    "    r = requests.get(url,timeout=10)\n",
    "    print (r.status_code)\n",
    "    \n",
    "    ### find all week links on a page ###\n",
    "    bs = BeautifulSoup(r.text,'html.parser')\n",
    "    links = bs.find_all('h2',{'class' :'header-3' } )\n",
    "    \n",
    "        \n",
    "    for l in links:\n",
    "        \n",
    "        heading = l.a.text\n",
    "        split_heading = heading.split()\n",
    "        print (split_heading)\n",
    "                \n",
    "        tables = pd.read_html ('https://www.folkhalsomyndigheten.se/' + l.find('a')['href'],thousands=' ',\n",
    "                              encoding='utf-8')\n",
    "        \n",
    "        the_table = tables[0]   \n",
    "        \n",
    "        ###the_table = the_table.set_index('Vecka')\n",
    "        the_table['Vecka'] = split_heading[5]\n",
    "        the_table['year'] = split_heading[-1]\n",
    "        the_table = the_table.set_index('Vecka')\n",
    "                       \n",
    "        #the_table = pd.DataFrame(the_table.iloc[-1],columns=[the_table.iloc[-1].name])\n",
    "        the_table = pd.DataFrame(the_table.iloc[0],columns=[the_table.iloc[0].name])\n",
    "        the_table = the_table.astype(int)\n",
    "        print ((the_table.T))\n",
    "        print ('++++')\n",
    "        \n",
    "        test_data_df = pd.concat([test_data_df,the_table.T])\n",
    "        \n",
    "        \n",
    "test_data_df"
   ]
  },
  {
   "cell_type": "code",
   "execution_count": null,
   "metadata": {},
   "outputs": [],
   "source": [
    "test_data_df.loc['38']"
   ]
  },
  {
   "cell_type": "code",
   "execution_count": null,
   "metadata": {},
   "outputs": [],
   "source": [
    "test_data_df.index = test_data_df.reset_index()['index'].replace('[a-zA-Z]*','',regex=True).str.strip().astype(int)\n",
    "#fhm_test_df.index = fhm_test_df['Vecka'].apply(lambda v : date.fromisocalendar(2021,v,7))\n",
    "\n",
    "# remove week 27 of 2021 from end, it's already covered #\n",
    "# test_data_df = test_data_df.iloc[:-1]"
   ]
  },
  {
   "cell_type": "code",
   "execution_count": null,
   "metadata": {},
   "outputs": [],
   "source": [
    "test_data_df"
   ]
  },
  {
   "cell_type": "code",
   "execution_count": null,
   "metadata": {},
   "outputs": [],
   "source": [
    "test_data_df.loc[38]"
   ]
  },
  {
   "cell_type": "code",
   "execution_count": null,
   "metadata": {},
   "outputs": [],
   "source": [
    "test_data_df.columns"
   ]
  },
  {
   "cell_type": "code",
   "execution_count": null,
   "metadata": {},
   "outputs": [],
   "source": [
    "test_data_df = test_data_df.reset_index()\n",
    "test_data_df"
   ]
  },
  {
   "cell_type": "code",
   "execution_count": null,
   "metadata": {},
   "outputs": [],
   "source": [
    "test_data_df['date'] = test_data_df.apply(lambda row : date.fromisocalendar(int(row['year']),int(row['index']),7),axis=1)"
   ]
  },
  {
   "cell_type": "code",
   "execution_count": null,
   "metadata": {},
   "outputs": [],
   "source": [
    "test_data_df"
   ]
  },
  {
   "cell_type": "code",
   "execution_count": null,
   "metadata": {},
   "outputs": [],
   "source": [
    "test_data_df = test_data_df.set_index('date')\n",
    "test_data_df.index = pd.to_datetime(test_data_df.index)\n",
    "test_data_df"
   ]
  },
  {
   "cell_type": "code",
   "execution_count": null,
   "metadata": {},
   "outputs": [],
   "source": [
    "test_data_df = test_data_df.replace(np.nan,0)\n",
    "test_data_df"
   ]
  },
  {
   "cell_type": "code",
   "execution_count": null,
   "metadata": {},
   "outputs": [],
   "source": [
    "test_data_df = test_data_df.iloc[:,[2,3,5,6,8,10]]\n"
   ]
  },
  {
   "cell_type": "code",
   "execution_count": null,
   "metadata": {},
   "outputs": [],
   "source": [
    "test_data_df"
   ]
  },
  {
   "cell_type": "code",
   "execution_count": null,
   "metadata": {},
   "outputs": [],
   "source": [
    "test_data_df.loc['2021-9']"
   ]
  },
  {
   "cell_type": "code",
   "execution_count": null,
   "metadata": {},
   "outputs": [],
   "source": [
    "test_data_df.drop('year',axis=1,inplace=True)\n",
    "test_data_df"
   ]
  },
  {
   "cell_type": "code",
   "execution_count": null,
   "metadata": {},
   "outputs": [],
   "source": [
    "test_data_df['total_tests_performed'] = test_data_df.sum(axis=1)\n",
    "test_data_df"
   ]
  },
  {
   "cell_type": "code",
   "execution_count": null,
   "metadata": {},
   "outputs": [],
   "source": [
    "test_data_df"
   ]
  },
  {
   "cell_type": "code",
   "execution_count": null,
   "metadata": {},
   "outputs": [],
   "source": [
    "test_data_df.to_pickle('fhm_testing_data_df_{}.pkl'.format(pd.to_datetime('today').date()))"
   ]
  },
  {
   "cell_type": "code",
   "execution_count": null,
   "metadata": {},
   "outputs": [],
   "source": [
    "test_data_df"
   ]
  },
  {
   "cell_type": "code",
   "execution_count": null,
   "metadata": {},
   "outputs": [],
   "source": [
    "test_data_df['total_tests_performed'].plot(style='o--')"
   ]
  },
  {
   "cell_type": "code",
   "execution_count": null,
   "metadata": {},
   "outputs": [],
   "source": [
    "test_data_df = test_data_df.loc[~test_data_df.index.duplicated()]\n",
    "test_data_df"
   ]
  },
  {
   "cell_type": "code",
   "execution_count": null,
   "metadata": {},
   "outputs": [],
   "source": [
    "total_tests = test_data_df['total_tests_performed']\n",
    "total_tests"
   ]
  },
  {
   "cell_type": "code",
   "execution_count": null,
   "metadata": {},
   "outputs": [],
   "source": [
    "total_tests.index"
   ]
  },
  {
   "cell_type": "code",
   "execution_count": null,
   "metadata": {},
   "outputs": [],
   "source": [
    "fhm_test_df.sort_index()"
   ]
  },
  {
   "cell_type": "code",
   "execution_count": null,
   "metadata": {},
   "outputs": [],
   "source": [
    "fhm_test_df.iloc[-1,2]"
   ]
  },
  {
   "cell_type": "code",
   "execution_count": null,
   "metadata": {},
   "outputs": [],
   "source": [
    "total_tests"
   ]
  },
  {
   "cell_type": "code",
   "execution_count": null,
   "metadata": {},
   "outputs": [],
   "source": []
  },
  {
   "cell_type": "code",
   "execution_count": null,
   "metadata": {},
   "outputs": [],
   "source": []
  },
  {
   "cell_type": "code",
   "execution_count": null,
   "metadata": {},
   "outputs": [],
   "source": [
    "total_tests.tail()"
   ]
  },
  {
   "cell_type": "code",
   "execution_count": null,
   "metadata": {},
   "outputs": [],
   "source": [
    "fhm_test_df.sort_index()"
   ]
  },
  {
   "cell_type": "code",
   "execution_count": null,
   "metadata": {},
   "outputs": [],
   "source": [
    "last_test_point = pd.Series([fhm_test_df.iloc[-1,2]],index=[fhm_test_df.index[-1]])\n",
    "last_test_point"
   ]
  },
  {
   "cell_type": "code",
   "execution_count": null,
   "metadata": {},
   "outputs": [],
   "source": [
    "total_tests = pd.concat([total_tests,last_test_point])\n",
    "total_tests"
   ]
  },
  {
   "cell_type": "code",
   "execution_count": null,
   "metadata": {},
   "outputs": [],
   "source": [
    "total_tests = total_tests.sort_index()\n",
    "total_tests"
   ]
  },
  {
   "cell_type": "code",
   "execution_count": null,
   "metadata": {},
   "outputs": [],
   "source": [
    "total_tests.index = pd.to_datetime(total_tests.index)"
   ]
  },
  {
   "cell_type": "code",
   "execution_count": null,
   "metadata": {},
   "outputs": [],
   "source": [
    "total_tests.name='total_tests'\n",
    "total_tests"
   ]
  },
  {
   "cell_type": "code",
   "execution_count": null,
   "metadata": {},
   "outputs": [],
   "source": [
    "total_tests.plot(style='o--')"
   ]
  },
  {
   "cell_type": "code",
   "execution_count": null,
   "metadata": {},
   "outputs": [],
   "source": [
    "price_test = 700 # average of PCR and Antigen tests # \n",
    "total_testing_cost = total_tests.cumsum() * price_test\n",
    "total_testing_cost.sort_index(ascending=True,inplace=True)\n",
    "total_testing_cost.index = total_testing_cost.index.date\n",
    "\n",
    "title = 'SWEDEN Minimum Cumulative Cost COVID-testing {} - {}\\nDataSource : Folkhälsomyndigheten'.format(\n",
    "total_testing_cost.index[0],total_testing_cost.index[-1])\n",
    "\n",
    "ax = total_testing_cost.plot(figsize=(18,12),kind='bar',color='orange',title=title)\n",
    "ax.set_ylabel('cumulative testing cost [SEK]')\n",
    "ax.get_yaxis().set_major_formatter(\n",
    "    plt.FuncFormatter(lambda x, p: format(int(x), ',')))\n",
    "\n",
    "plt.savefig('scb_excess_testing_cost.jpg',format='jpg')"
   ]
  },
  {
   "cell_type": "code",
   "execution_count": null,
   "metadata": {},
   "outputs": [],
   "source": [
    "fhm_weekly_cases_and_tests = fhm_weekly_positive.join(total_tests)\n",
    "fhm_weekly_cases_and_tests.columns = ['cases','tests']\n"
   ]
  },
  {
   "cell_type": "code",
   "execution_count": null,
   "metadata": {},
   "outputs": [],
   "source": [
    "fhm_weekly_cases_and_tests['cases_per_test'] = fhm_weekly_cases_and_tests['cases'] / fhm_weekly_cases_and_tests['tests']"
   ]
  },
  {
   "cell_type": "code",
   "execution_count": null,
   "metadata": {},
   "outputs": [],
   "source": [
    "fhm_weekly_cases_and_tests.dropna(inplace=True)"
   ]
  },
  {
   "cell_type": "code",
   "execution_count": null,
   "metadata": {},
   "outputs": [],
   "source": [
    "265088 / 544959\n"
   ]
  },
  {
   "cell_type": "code",
   "execution_count": null,
   "metadata": {},
   "outputs": [],
   "source": [
    "fhm_test_df"
   ]
  },
  {
   "cell_type": "markdown",
   "metadata": {},
   "source": [
    "fhm_weekly_cases_and_tests = fhm_weekly_cases_and_tests.join(fhm_icu_weekly).join(fhm_weekly_dead)\n",
    "fhm_weekly_cases_and_tests.columns=['cases','tests','cases_per_test','ICU','dead']\n",
    "fhm_weekly_cases_and_tests"
   ]
  },
  {
   "cell_type": "code",
   "execution_count": null,
   "metadata": {
    "scrolled": false
   },
   "outputs": [],
   "source": [
    "\n",
    "title = 'SWEDEN COVID Weekly Cases, Tests & Cases per Test, {} - {}\\nDataSource : folkhalsomyndigheten.se'.format(\n",
    "fhm_weekly_cases_and_tests.index[0].date(),fhm_weekly_cases_and_tests.index[-1].date()) \n",
    "\n",
    "fhm_weekly_cases_and_tests.plot(figsize=(18,12),subplots=True,sharex=True,title=title,\n",
    "                               ls = 'dashed',marker='o',color=['blue','orange','red'])\n",
    "\n",
    "plt.savefig('SCB_excess_fhm_cases_tests.jpg',format='jpg')"
   ]
  },
  {
   "cell_type": "code",
   "execution_count": null,
   "metadata": {},
   "outputs": [],
   "source": [
    "fhm_weekly_cases_and_tests.corr()"
   ]
  },
  {
   "cell_type": "code",
   "execution_count": null,
   "metadata": {},
   "outputs": [],
   "source": [
    "fhm_weekly_cases_and_tests['tests'].sum()"
   ]
  },
  {
   "cell_type": "code",
   "execution_count": null,
   "metadata": {},
   "outputs": [],
   "source": [
    "fhm_weekly_dead"
   ]
  },
  {
   "cell_type": "code",
   "execution_count": null,
   "metadata": {},
   "outputs": [],
   "source": [
    "fhm_weekly_cases_and_tests['ICUs'] = fhm_icu['Antal_intensivvårdade']\n",
    "fhm_weekly_cases_and_tests['Dead'] = fhm_weekly_dead['Antal_avlidna']\n",
    "fhm_weekly_cases_and_tests['ICUs_per_test'] = fhm_weekly_cases_and_tests['ICUs'] / \\\n",
    "fhm_weekly_cases_and_tests['tests']\n",
    "fhm_weekly_cases_and_tests['dead_per_test'] = fhm_weekly_cases_and_tests['Dead'] / \\\n",
    "fhm_weekly_cases_and_tests['tests']\n",
    "fhm_weekly_cases_and_tests"
   ]
  },
  {
   "cell_type": "code",
   "execution_count": null,
   "metadata": {},
   "outputs": [],
   "source": [
    "title = 'SWEDEN Covid Weekly Events per Test {} - {}\\nDataSource : Folkhälsomyndigheten'.format(\n",
    "fhm_weekly_cases_and_tests.index[0].date(),fhm_weekly_cases_and_tests.index[-1].date())\n",
    "\n",
    "colors = ['lime','orange','crimson']\n",
    "axes = fhm_weekly_cases_and_tests[['cases_per_test','ICUs_per_test','dead_per_test']].plot(\n",
    "    figsize=(18,12),color=colors,title=title,\n",
    "    subplots=True,marker='o')\n",
    "\n",
    "for a in axes:\n",
    "    a.set_ylabel('proportion')\n",
    "    \n",
    "plt.xlabel('date')\n",
    "plt.savefig('scb_excess_fhm_events_per_test.jpg',format='jpg')"
   ]
  },
  {
   "cell_type": "code",
   "execution_count": null,
   "metadata": {},
   "outputs": [],
   "source": [
    "### VACCINERADE ###\n",
    "\n",
    "vax_url = 'https://fohm.maps.arcgis.com/sharing/rest/content/items/fc749115877443d29c2a49ea9eca77e9/data'\n",
    "\n",
    "vax_file = pd.ExcelFile(vax_url)\n",
    "vax_file.sheet_names"
   ]
  },
  {
   "cell_type": "code",
   "execution_count": null,
   "metadata": {},
   "outputs": [],
   "source": [
    "vaxed_ts = vax_file.parse(sheet_name='Vaccinerade tidsserie')\n",
    "vaxed_ts.head()"
   ]
  },
  {
   "cell_type": "code",
   "execution_count": null,
   "metadata": {},
   "outputs": [],
   "source": [
    "partial_vax_ts = vaxed_ts.loc[(vaxed_ts['Region'].str.contains('Sverige')) & (\n",
    "    vaxed_ts['Vaccinationsstatus'].str.contains('Minst 1 dos' ) ) ]\n",
    "\n",
    "partial_vax_ts.index = partial_vax_ts.apply(lambda row : date.fromisocalendar(row['År'],row['Vecka'],7),axis=1)\n",
    "\n",
    "partial_vax_ts"
   ]
  },
  {
   "cell_type": "code",
   "execution_count": null,
   "metadata": {},
   "outputs": [],
   "source": []
  },
  {
   "cell_type": "code",
   "execution_count": null,
   "metadata": {},
   "outputs": [],
   "source": [
    "full_vax_ts = vaxed_ts.loc[(vaxed_ts['Region'].str.contains('Sverige')) & (\n",
    "    vaxed_ts['Vaccinationsstatus'].str.contains('Minst 2 doser' ) ) ]\n",
    "\n",
    "full_vax_ts.index = full_vax_ts.apply(lambda row : date.fromisocalendar(row['År'],row['Vecka'],7),axis=1)\n",
    "full_vax_ts"
   ]
  },
  {
   "cell_type": "code",
   "execution_count": null,
   "metadata": {},
   "outputs": [],
   "source": [
    "antal_doser = full_vax_ts.iloc[-1,3] * 2\n",
    "total_kostnad = antal_doser * 275 #statens ersättning till regionerna enl https://handlingar.se/sv/request/hur_mycket_kostar_en_dos_covid_1\n",
    "print ('Statens totala kostnad för Covid-vaccin : SEK {:,.2f}'.format(total_kostnad))"
   ]
  },
  {
   "cell_type": "code",
   "execution_count": null,
   "metadata": {},
   "outputs": [],
   "source": [
    "antal_fattigpension = 300000\n",
    "(total_kostnad + 22e9) / 300000 # kostnad för tester och vaccin\n"
   ]
  },
  {
   "cell_type": "code",
   "execution_count": null,
   "metadata": {},
   "outputs": [],
   "source": [
    "full_vax_ts = full_vax_ts.join(fhm_weekly_positive)\n",
    "\n"
   ]
  },
  {
   "cell_type": "code",
   "execution_count": null,
   "metadata": {},
   "outputs": [],
   "source": [
    "full_vax_ts.rename(columns={'Totalt_antal_fall' : 'Cases','Andel vaccinerade' : 'prop. fully vaccinated'},inplace=True)"
   ]
  },
  {
   "cell_type": "code",
   "execution_count": null,
   "metadata": {},
   "outputs": [],
   "source": [
    "full_vax_ts = full_vax_ts.join(fhm_icu_weekly)"
   ]
  },
  {
   "cell_type": "code",
   "execution_count": null,
   "metadata": {},
   "outputs": [],
   "source": [
    "full_vax_ts.rename(columns={'Antal_intensivvårdade' : 'ICU'},inplace=True)"
   ]
  },
  {
   "cell_type": "code",
   "execution_count": null,
   "metadata": {},
   "outputs": [],
   "source": [
    "full_vax_ts = full_vax_ts.join(fhm_weekly_dead)\n",
    "full_vax_ts"
   ]
  },
  {
   "cell_type": "code",
   "execution_count": null,
   "metadata": {},
   "outputs": [],
   "source": [
    "full_vax_ts.rename(columns={'Antal_avlidna' : 'Dead'},inplace=True)\n",
    "full_vax_ts"
   ]
  },
  {
   "cell_type": "code",
   "execution_count": null,
   "metadata": {},
   "outputs": [],
   "source": [
    "full_vax_ts.loc['2021-02']"
   ]
  },
  {
   "cell_type": "code",
   "execution_count": null,
   "metadata": {
    "scrolled": false
   },
   "outputs": [],
   "source": [
    "colors = ['blue','orange','red','k']\n",
    "title = 'SWEDEN Weekly Covid Events & Vaccination Timeline {} - {} \\nDataSource : Folkhälsomyndigheten'.format(\n",
    "full_vax_ts.index[0].date(),full_vax_ts.index[-1].date())\n",
    "\n",
    "axes = full_vax_ts.plot(y=['Cases','ICU','Dead','prop. fully vaccinated'],\n",
    "                        marker='o',figsize=(18,12),subplots=True,color=colors,title=title)\n",
    "plt.savefig('scb_excess_fhm_events_prop_vaccinated.jpg',format='jpg')"
   ]
  },
  {
   "cell_type": "code",
   "execution_count": null,
   "metadata": {},
   "outputs": [],
   "source": [
    "full_vax_ts.corr()"
   ]
  },
  {
   "cell_type": "code",
   "execution_count": null,
   "metadata": {},
   "outputs": [],
   "source": [
    "colors = ['blue','orange','red','k']\n",
    "title = 'SWEDEN Weekly Covid Events & Vaccination Timeline Zoom-In {} - {} \\nDataSource : Folkhälsomyndigheten'.format(\n",
    "full_vax_ts.index[0].date(),full_vax_ts.index[11].date())\n",
    "\n",
    "axes = full_vax_ts.iloc[:12].plot(y=['Cases','ICU','Dead','prop. fully vaccinated'],\n",
    "                        marker='o',figsize=(18,12),subplots=True,color=colors,title=title)\n",
    "\n",
    "plt.savefig('scb_excess_fhm_events_prop_vaccinated_zoom_in.jpg',format='jpg')"
   ]
  },
  {
   "cell_type": "code",
   "execution_count": null,
   "metadata": {},
   "outputs": [],
   "source": [
    "full_vax_ts"
   ]
  },
  {
   "cell_type": "code",
   "execution_count": null,
   "metadata": {
    "scrolled": false
   },
   "outputs": [],
   "source": [
    "fig,axes = plt.subplots(3,figsize=(18,12),sharex=True)\n",
    "last_vax_day = full_vax_ts.index[-1].date()\n",
    "print (last_vax_day)\n",
    "colors = ['blue','orange','red']\n",
    "\n",
    "title = \"SWEDEN : Weekly COVID Cases, ICU's, Deaths vs proportion of population fully vaccinated {}\\nDataSource : Folkhalsomyndigheten.se\".format(\n",
    "last_vax_day)\n",
    "    \n",
    "axes[0].plot(full_vax_ts['prop. fully vaccinated'],full_vax_ts['Cases'],color='blue',\n",
    "               ls='dashed')\n",
    "axes[1].plot(full_vax_ts['prop. fully vaccinated'],full_vax_ts['ICU'],color='orange',ls='dashed')\n",
    "axes[2].plot(full_vax_ts['prop. fully vaccinated'],full_vax_ts['Dead'],color='red',ls='dashed')\n",
    "\n",
    "titles = ['Covid Cases','Covid ICUs','Covid Deaths']\n",
    "ylabels = ['nr. Cases','nr. ICUs','nr. Deaths']\n",
    "\n",
    "for i,a in enumerate(axes):\n",
    "    a.set_xticks(np.arange(0,1,0.05))\n",
    "    a.set_ylabel(ylabels[i])\n",
    "    a.set_title(titles[i])\n",
    "    \n",
    "plt.suptitle(title)\n",
    "plt.xlabel('proportion fully vaccinated')\n",
    "    \n",
    "plt.savefig('scb_excess_prop_vaccinated_orig.jpg',format='jpg')"
   ]
  },
  {
   "cell_type": "code",
   "execution_count": null,
   "metadata": {},
   "outputs": [],
   "source": [
    "full_vax_ts.corr()"
   ]
  },
  {
   "cell_type": "code",
   "execution_count": null,
   "metadata": {},
   "outputs": [],
   "source": [
    "full_vax_ts.plot(y=['prop. fully vaccinated','Cases','ICU','Dead'],subplots=True,figsize=(18,12),\n",
    "                color=['k','blue','green','red'])"
   ]
  },
  {
   "cell_type": "code",
   "execution_count": null,
   "metadata": {},
   "outputs": [],
   "source": [
    "full_vax_ts"
   ]
  },
  {
   "cell_type": "code",
   "execution_count": null,
   "metadata": {},
   "outputs": [],
   "source": [
    "one_or_two_doses = pd.concat([partial_vax_ts['Andel vaccinerade'],full_vax_ts['prop. fully vaccinated']],axis=1)\n",
    "one_or_two_doses.columns = ['at least one dose','at least two doses']\n",
    "one_or_two_doses"
   ]
  },
  {
   "cell_type": "code",
   "execution_count": null,
   "metadata": {
    "scrolled": false
   },
   "outputs": [],
   "source": [
    "ax = one_or_two_doses.plot(figsize=(18,12),marker='o',y=['at least one dose', 'at least two doses'])\n",
    "ax2 = plt.twinx()\n",
    "\n",
    "prop_vax_events = pd.concat([one_or_two_doses,fhm_weekly_dead,fhm_icu_weekly],axis=1).dropna()\n",
    "\n",
    "prop_vax_events.plot(ax=ax2,y=['Antal_intensivvårdade','Antal_avlidna'],color=['orange','red'],marker='x')\n",
    "\n",
    "ax.legend(loc='upper left',framealpha=0.3)\n",
    "ax2.legend(['Covid ICU','Covid Dead'],loc='upper right')\n",
    "_=ax.set_yticks(np.arange(0,1.0,0.05))"
   ]
  },
  {
   "cell_type": "code",
   "execution_count": null,
   "metadata": {},
   "outputs": [],
   "source": [
    "fhm_daily_dead = fhm_daily_dead.iloc[:-1]\n",
    "fhm_daily_dead"
   ]
  },
  {
   "cell_type": "code",
   "execution_count": null,
   "metadata": {
    "scrolled": false
   },
   "outputs": [],
   "source": [
    "fhm_pos_icu_dead = pd.concat([fhm_positive,fhm_icu,fhm_daily_dead.dropna().set_index('Datum_avliden')],axis=1).replace(\n",
    "np.nan,0)\n",
    "fhm_pos_icu_dead.tail(40)"
   ]
  },
  {
   "cell_type": "code",
   "execution_count": null,
   "metadata": {},
   "outputs": [],
   "source": [
    "fhm_positive.tail(40)"
   ]
  },
  {
   "cell_type": "code",
   "execution_count": null,
   "metadata": {},
   "outputs": [],
   "source": [
    "fhm_pos_icu_dead_weekly = fhm_pos_icu_dead.resample('W-SUN').sum()\n",
    "fhm_pos_icu_dead_weekly"
   ]
  },
  {
   "cell_type": "code",
   "execution_count": null,
   "metadata": {},
   "outputs": [],
   "source": [
    "fhm_pos_icu_dead_weekly['icu_per_case'] = fhm_pos_icu_dead_weekly['Antal_intensivvårdade'] / fhm_pos_icu_dead_weekly['Totalt_antal_fall']\n",
    "fhm_pos_icu_dead_weekly['dead_per_case'] = fhm_pos_icu_dead_weekly['Antal_avlidna'] / fhm_pos_icu_dead_weekly['Totalt_antal_fall']\n",
    "fhm_pos_icu_dead_weekly"
   ]
  },
  {
   "cell_type": "code",
   "execution_count": null,
   "metadata": {},
   "outputs": [],
   "source": [
    "title = \"SWEDEN Covid ICU's & Deaths per Positive Case, March 2020 - {}\\nDataSource : folkhalsomyndigheten.se\".format(\n",
    "    fhm_pos_icu_dead_weekly.index[-2].date())\n",
    "ax = fhm_pos_icu_dead_weekly[:-1].plot(y=['icu_per_case','dead_per_case'],figsize=(18,12),\n",
    "                                  ls='dashed',marker='o',color=['orange','red'],title=title)\n",
    "ax.set_ylabel('Covid events per positive case')\n",
    "\n",
    "#ax2 = plt.twinx()\n",
    "#fhm_weekly_cases_and_tests.plot(y='cases_per_test',ax=ax2)\n",
    "\n",
    "plt.savefig('scb_excess_fhm_icu_and_death_per_case.jpg',format='jpg')"
   ]
  },
  {
   "cell_type": "code",
   "execution_count": null,
   "metadata": {},
   "outputs": [],
   "source": [
    "fhm_pos_icu_dead_weekly.iloc[:-1]"
   ]
  },
  {
   "cell_type": "code",
   "execution_count": null,
   "metadata": {},
   "outputs": [],
   "source": [
    "title = \"SWEDEN Covid ICU's & Deaths per Positive Case, last 8 weeks, {} - {}\\nDataSource : folkhalsomyndigheten.se\".format(\n",
    "    fhm_pos_icu_dead_weekly.index[-9].date(),fhm_pos_icu_dead_weekly.index[-2].date())\n",
    "ax = fhm_pos_icu_dead_weekly.iloc[-9:-1].plot(y=['icu_per_case','dead_per_case'],figsize=(18,12),\n",
    "                                  ls='dashed',marker='o',color=['orange','red'],title=title)\n",
    "ax.set_ylabel('Covid events per positive case')\n",
    "plt.savefig('scb_excess_fhm_icu_and_death_per_case_last_8_weeks.jpg',format='jpg')"
   ]
  },
  {
   "cell_type": "code",
   "execution_count": null,
   "metadata": {},
   "outputs": [],
   "source": [
    "fhm_weekly_cases_and_tests"
   ]
  },
  {
   "cell_type": "code",
   "execution_count": null,
   "metadata": {},
   "outputs": [],
   "source": [
    "fhm_weekly_cases_and_tests['cases_per_test'].plot(figsize=(18,12),style='o--')"
   ]
  },
  {
   "cell_type": "code",
   "execution_count": null,
   "metadata": {},
   "outputs": [],
   "source": [
    "monthly_age_grp_mortality"
   ]
  },
  {
   "cell_type": "code",
   "execution_count": null,
   "metadata": {},
   "outputs": [],
   "source": [
    "idx = pd.IndexSlice\n",
    "Baseline_age_grp_monthly_mort = monthly_age_grp_mortality.loc[idx[2015 : 2018],:].groupby(\n",
    "    monthly_age_grp_mortality.loc[idx[2015 : 2018],:].index.get_level_values(1)).mean()\n",
    "\n",
    "Baseline_age_grp_monthly_mort.plot(style='o--')\n",
    "\n",
    "plt.xlabel('month')\n",
    "plt.ylabel('baseline age grp mortality')"
   ]
  },
  {
   "cell_type": "code",
   "execution_count": null,
   "metadata": {},
   "outputs": [],
   "source": [
    "Baseline_age_grp_monthly_mort.corr()"
   ]
  },
  {
   "cell_type": "code",
   "execution_count": null,
   "metadata": {},
   "outputs": [],
   "source": [
    "monthly_age_grp_mortality_long.melt()"
   ]
  },
  {
   "cell_type": "code",
   "execution_count": null,
   "metadata": {},
   "outputs": [],
   "source": [
    "### age grp mortality trends by month of years 2015- ###\n",
    "mask_64 = monthly_age_grp_mortality_long.melt()['variable'] == '-64' \n",
    "mask_65_79 = monthly_age_grp_mortality_long.melt()['variable'] == '65-79'\n",
    "mask_80_89 = monthly_age_grp_mortality_long.melt()['variable'] == '80-89'\n",
    "mask_90_plus = monthly_age_grp_mortality_long.melt()['variable'] == '90+'\n",
    "\n",
    "index =pd.date_range(monthly_age_grp_mortality_long.index[0],monthly_age_grp_mortality_long.index[-1],\n",
    "                    freq='m') \n",
    "\n",
    "\n",
    "fig,axes = plt.subplots(4,figsize=(18,12),sharex=True)\n",
    "trend_64 = monthly_age_grp_mortality_long.melt()[mask_64]\n",
    "trend_64.index = index\n",
    "trend_64.rename(columns={'value' : '-64'},inplace=True)\n",
    "trend_64.plot(ax=axes[0])\n",
    "\n",
    "trend_65_79 = monthly_age_grp_mortality_long.melt()[mask_65_79]\n",
    "trend_65_79.index = index\n",
    "trend_65_79.rename(columns={'value' : '65-79'},inplace=True)\n",
    "trend_65_79.plot(ax=axes[1])\n",
    "\n",
    "trend_80_89 = monthly_age_grp_mortality_long.melt()[mask_80_89]\n",
    "trend_80_89.index = index\n",
    "trend_80_89.rename(columns={'value' : '80-89'},inplace=True)\n",
    "trend_80_89.plot(ax=axes[2])\n",
    "\n",
    "trend_90_plus = monthly_age_grp_mortality_long.melt()[mask_90_plus]\n",
    "trend_90_plus.index = index\n",
    "trend_90_plus.rename(columns={'value' : '90+'},inplace=True)\n",
    "trend_90_plus.plot(ax=axes[3])"
   ]
  },
  {
   "cell_type": "code",
   "execution_count": null,
   "metadata": {},
   "outputs": [],
   "source": [
    "monthly_age_grp_mortality_long = monthly_age_grp_mortality_long[:last_good_date]\n",
    "monthly_age_grp_mortality_long"
   ]
  },
  {
   "cell_type": "code",
   "execution_count": null,
   "metadata": {
    "scrolled": false
   },
   "outputs": [],
   "source": [
    "### PARAM : define trend_start, trend_end ###\n",
    "\n",
    "### YC\n",
    "\n",
    "trend_start = '2015' ## 2015 first possible ###\n",
    "trend_end = '2018'\n",
    "\n",
    "month_grps = monthly_age_grp_mortality_long.groupby(monthly_age_grp_mortality_long.index.month)\n",
    "\n",
    "month_nr_to_name = dict(zip([1,2,3,4,5,6,7,8,9,10,11,12],['Jan','Feb','Mar','Apr',\n",
    "                                                         'May','Jun','Jul','Aug',\n",
    "                                                         'Sep','Oct','Nov','Dec']))\n",
    "\n",
    "color_map = dict(zip(monthly_age_grp_mortality_long.columns,['blue','green','orange','red']))\n",
    "\n",
    "### YC ###\n",
    "Y_store = np.zeros((4,12,len(range(2015,2023))))\n",
    "\n",
    "for i,age_grp in enumerate(monthly_age_grp_mortality_long.columns):\n",
    "    \n",
    "\n",
    "    fig,axes = plt.subplots(3,4,figsize=(18,12),sharey=True)\n",
    "    row = 0\n",
    "    col = 0\n",
    "\n",
    "    for g in month_grps.groups.keys():\n",
    "        \n",
    "        #Y_store_idx = 0\n",
    "\n",
    "        group = month_grps.get_group(g)\n",
    "        \n",
    "        group_baseline = group[age_grp].loc[trend_start : trend_end].mean()\n",
    "        \n",
    "        \n",
    "        slope,intercept,_,_,_ = sps.linregress (np.arange(int(trend_start),int(trend_end) + 1),\n",
    "                                                group.loc[trend_start: trend_end,age_grp])\n",
    "        ### YC ###\n",
    "        X = np.arange(2015,2023)\n",
    "        Y = slope * X + intercept\n",
    "        Y_store[i,g-1,:] = Y\n",
    "        \n",
    "        trend_coeffs = r'$\\alpha$ : {:.2e} $\\beta$ : {:.2e}'.format(intercept,slope)\n",
    "        \n",
    "        axes[row,col].plot(group.index.year,group[age_grp].values,marker='o',color=color_map[age_grp])\n",
    "        axes[row,col].set_title(month_nr_to_name[g])\n",
    "        axes[row,col].axhline(group_baseline,ls='dashed',color='k')\n",
    "        axes[row,col].plot(X,Y,color='magenta',ls='dashed')\n",
    "        axes[row,col].legend([age_grp + ' observed','baseline 15-18','trendline 15-18, ' + trend_coeffs],\n",
    "                             loc='best',framealpha=0.3)\n",
    "        \n",
    "        axes[row,col].legend().set_visible(False)\n",
    "\n",
    "        if col == 3:\n",
    "            row += 1\n",
    "        col = (col + 1) % 4\n",
    "\n",
    "    plt.suptitle('Sweden monthly age group mortality 2015-2022 age group : {}\\n baseline : 15-18\\nLast reliable data : {}\\nDataSource : scb.se'.format(\n",
    "        age_grp,last_good_date.date()))\n",
    "    plt.tight_layout()\n",
    "    plt.savefig('scb_excess__trend_age_grp_' + age_grp + ' month_by_month_mort.jpg',format='jpg')"
   ]
  },
  {
   "cell_type": "code",
   "execution_count": null,
   "metadata": {},
   "outputs": [],
   "source": [
    "### 4 age grps, 12 months, 7 years (for most months) ###\n",
    "Y_store.shape"
   ]
  },
  {
   "cell_type": "code",
   "execution_count": null,
   "metadata": {},
   "outputs": [],
   "source": [
    "### trend expectation calculated on age group specific monthly mortality 2015-2018 ###\n",
    "def trend_expectation(y_store,age_grp):\n",
    "    \n",
    "    age_map = dict(zip(['-64','65-79','80-89','90+'],[0,1,2,3]))\n",
    "    \n",
    "    df = pd.DataFrame(Y_store[age_map[age_grp],:,:]).T\n",
    "    df.columns=range(1,13)\n",
    "    df.columns.name='month'\n",
    "    ### YC ###\n",
    "    df.index  = ['2015','2016','2017','2018','2019','2020','2021','2022']\n",
    "    df.index.name='year'\n",
    "    trend_expect = pop_age_scb_prel_df.loc['2015' :].unstack().droplevel(0,axis=1)[age_grp] * df.T\n",
    "    return trend_expect\n",
    "\n",
    "trend_monthly_expected_64 = trend_expectation(Y_store,'-64')\n",
    "trend_monthly_expected_65_79 = trend_expectation(Y_store,'65-79')\n",
    "trend_monthly_expected_80_89 = trend_expectation(Y_store,'80-89')\n",
    "trend_monthly_expected_90_plus = trend_expectation(Y_store,'90+')"
   ]
  },
  {
   "cell_type": "code",
   "execution_count": null,
   "metadata": {},
   "outputs": [],
   "source": [
    "print (trend_monthly_expected_64.head())\n",
    "print (trend_monthly_expected_65_79.head())\n",
    "print (trend_monthly_expected_80_89.head())\n",
    "print (trend_monthly_expected_90_plus.head())"
   ]
  },
  {
   "cell_type": "code",
   "execution_count": null,
   "metadata": {},
   "outputs": [],
   "source": [
    "trend_monthly_expected_tot = trend_monthly_expected_64 + trend_monthly_expected_65_79 + trend_monthly_expected_80_89 + trend_monthly_expected_90_plus\n",
    "trend_monthly_expected_tot"
   ]
  },
  {
   "cell_type": "code",
   "execution_count": null,
   "metadata": {},
   "outputs": [],
   "source": [
    "trend_monthly_expected_cum_tot = trend_monthly_expected_tot.cumsum().melt()['value']\n",
    "\n",
    "trend_monthly_expected_cum_tot.index = pd.date_range('2015-01','2023-01',freq='m')\n",
    "trend_monthly_expected_cum_tot"
   ]
  },
  {
   "cell_type": "code",
   "execution_count": null,
   "metadata": {},
   "outputs": [],
   "source": [
    "observed_monthly_cum_tot = grp_daily_corrected_monthly[:-1].groupby(grp_daily_corrected_monthly.index[:-1].year).cumsum().sum(axis=1)\n",
    "observed_monthly_cum_tot"
   ]
  },
  {
   "cell_type": "code",
   "execution_count": null,
   "metadata": {},
   "outputs": [],
   "source": [
    "trend_obs_vs_exp = pd.concat([trend_monthly_expected_cum_tot,observed_monthly_cum_tot],axis=1)\n",
    "trend_obs_vs_exp.columns = ['expected','observed']\n",
    "trend_obs_vs_exp"
   ]
  },
  {
   "cell_type": "code",
   "execution_count": null,
   "metadata": {},
   "outputs": [],
   "source": [
    "trend_obs_vs_exp.loc['2022']"
   ]
  },
  {
   "cell_type": "code",
   "execution_count": null,
   "metadata": {},
   "outputs": [],
   "source": [
    "trend_obs_vs_exp"
   ]
  },
  {
   "cell_type": "code",
   "execution_count": null,
   "metadata": {
    "scrolled": false
   },
   "outputs": [],
   "source": [
    "title = 'SWEDEN monthly cumulative all cause deaths per year : observed vs expected, calculated by monthly age grp mortality trend 15-18\\nDataSource : scb.se'\n",
    "trend_obs_vs_exp.dropna().index = trend_obs_vs_exp.dropna().index.date\n",
    "trend_obs_vs_exp.index = trend_obs_vs_exp.index.date\n",
    "ax = trend_obs_vs_exp.dropna().plot(y='observed',kind='bar',color='red',figsize=(18,12),title=title)\n",
    "trend_obs_vs_exp.dropna().plot(y='expected',kind='bar',facecolor='none',edgecolor='k',ax=ax)\n",
    "ax.set_ylabel('nr of deaths')\n",
    "plt.savefig('scb_excess_trend_monthly_cum_obs_vs_expected.jpg',format='jpg')"
   ]
  },
  {
   "cell_type": "code",
   "execution_count": null,
   "metadata": {},
   "outputs": [],
   "source": [
    "trend_obs_vs_exp.index = pd.to_datetime(trend_obs_vs_exp.index)\n",
    "trend_obs_vs_exp\n"
   ]
  },
  {
   "cell_type": "code",
   "execution_count": null,
   "metadata": {},
   "outputs": [],
   "source": [
    "trend_monthly_exp_deaths = trend_monthly_expected_tot.melt()['value']\n",
    "trend_monthly_exp_deaths.index = pd.date_range('2015-01','2023-01',freq='m')\n",
    "trend_monthly_exp_deaths"
   ]
  },
  {
   "cell_type": "code",
   "execution_count": null,
   "metadata": {},
   "outputs": [],
   "source": [
    "observed_monthly_deaths = grp_daily_corrected_monthly[:-1].sum(axis=1)\n",
    "observed_monthly_deaths"
   ]
  },
  {
   "cell_type": "code",
   "execution_count": null,
   "metadata": {},
   "outputs": [],
   "source": [
    "trend_excess = pd.concat([observed_monthly_deaths,trend_monthly_exp_deaths],axis=1)\n",
    "trend_excess.columns=['observed','expected']\n",
    "trend_excess['excess'] = trend_excess['observed'] - trend_excess['expected']\n",
    "trend_excess = trend_excess.groupby(trend_excess.index.year).cumsum()\n",
    "trend_excess"
   ]
  },
  {
   "cell_type": "code",
   "execution_count": null,
   "metadata": {},
   "outputs": [],
   "source": [
    "yearly_trend_excess = trend_excess.loc[trend_excess.index.month==12]\n"
   ]
  },
  {
   "cell_type": "code",
   "execution_count": null,
   "metadata": {
    "scrolled": false
   },
   "outputs": [],
   "source": [
    "title = 'SWEDEN Excess deaths at end of year 2015-2020, calculated by age group monthly mortality trend 15-18\\nDataSource : scb.se'\n",
    "yearly_trend_excess.index = yearly_trend_excess.index.date\n",
    "yearly_trend_excess.plot(kind='bar',y='excess',color='red',figsize=(18,12),title=title)\n",
    "plt.ylabel('excess deaths')\n",
    "plt.xlabel('year end')\n",
    "\n",
    "yearly_trend_excess.index = pd.to_datetime(yearly_trend_excess.index)\n",
    "#plt.annotate('???',(5.8,-400),size=50,rotation=90)\n",
    "plt.savefig('scb_excess_trend_year_end_excess.jpg',format='jpg')\n",
    "yearly_trend_excess"
   ]
  },
  {
   "cell_type": "code",
   "execution_count": null,
   "metadata": {},
   "outputs": [],
   "source": [
    "trend_excess_2 = pd.concat([observed_monthly_deaths,trend_monthly_exp_deaths],axis=1)\n",
    "trend_excess_2.columns=['observed','expected']\n",
    "trend_excess_2['excess'] = trend_excess_2['observed'] - trend_excess_2['expected']\n",
    "trend_excess_2"
   ]
  },
  {
   "cell_type": "code",
   "execution_count": null,
   "metadata": {
    "scrolled": false
   },
   "outputs": [],
   "source": [
    "fig,axes = plt.subplots(2)\n",
    "\n",
    "start = season_pre_pandemic_start\n",
    "#start = pandemic_start\n",
    "#start = '2020-01-01'\n",
    "\n",
    "xticks = list(trend_excess_2.loc[start :].dropna().index.date)\n",
    "\n",
    "trend_excess_2.loc[start :, 'excess'].dropna().plot(kind='bar',color='red',ax=axes[0],sharex=True,figsize=(18,12))\n",
    "trend_excess_2.loc[start :,'excess'].dropna().cumsum().plot(kind='bar',color='red',ax=axes[1],sharex=True)\n",
    "axes[1].set_xticklabels(xticks)\n",
    "\n",
    "axes[0].set_title('monthly excess')\n",
    "axes[0].set_ylabel('nr excess deaths')\n",
    "axes[1].set_title('cumulative excess since start of period')\n",
    "axes[1].set_ylabel('nr excess deaths')\n",
    "\n",
    "plt.suptitle('SWEDEN age group monthly mortality trend (15-18) based excess deaths\\nDataSource : scb.se')\n",
    "plt.tight_layout()\n",
    "plt.savefig('scb_excess_trend_excess_since_starting_point.jpg',format='jpg')\n",
    "\n",
    "print (trend_excess_2.loc[start :,'excess'])\n",
    "print (trend_excess_2.loc[start :,'excess'].cumsum())"
   ]
  },
  {
   "cell_type": "code",
   "execution_count": null,
   "metadata": {},
   "outputs": [],
   "source": [
    "title = 'SWEDEN age group monthly mortality trend (15-18) based Observed vs Expected deaths\\nDataSource : scb.se'\n",
    "\n",
    "ax = trend_excess_2.loc[start :,'observed'].dropna().plot(kind='bar',color='red',figsize=(18,12),title=title)\n",
    "trend_excess_2.loc[start : , 'expected'].dropna().plot(kind='bar',facecolor='none',edgecolor='k',ax=ax)\n",
    "ax.legend(['observed','expected'])\n",
    "ax.set_ylabel('nr of deaths')\n",
    "\n",
    "xticks = trend_excess_2.loc[start:].index.date\n",
    "_= ax.set_xticklabels(xticks)\n",
    "plt.savefig('scb_excess_trend_monthly_obs_vs_exp.jpg',format='jpg')"
   ]
  },
  {
   "cell_type": "code",
   "execution_count": null,
   "metadata": {},
   "outputs": [],
   "source": [
    "trend_excess_2_tot = trend_excess_2.loc[start: '2021-07'].sum()\n",
    "print (trend_excess_2_tot['observed'] / trend_excess_2_tot['expected'])\n",
    "trend_excess_2_tot\n"
   ]
  },
  {
   "cell_type": "code",
   "execution_count": null,
   "metadata": {},
   "outputs": [],
   "source": [
    "### non-adj. mortality change from prev. year ### \n",
    "((no_bins['mortality'] / no_bins['mortality'].shift()) - 1 ).loc['2015':'2019'].plot(kind='bar')"
   ]
  },
  {
   "cell_type": "code",
   "execution_count": null,
   "metadata": {},
   "outputs": [],
   "source": [
    "rel_diff = no_bins.loc['2019','mortality'] / no_bins.loc['2018','mortality']\n",
    "\n",
    "print (no_bins.loc['2019','mortality'])\n",
    "no_bins.loc['2018','mortality'] - (1-rel_diff) * no_bins.loc['2018','mortality']"
   ]
  },
  {
   "cell_type": "code",
   "execution_count": null,
   "metadata": {},
   "outputs": [],
   "source": [
    "monthly_age_grp_mortality = monthly_age_grp_mortality.rename_axis(index=['year','month'])"
   ]
  },
  {
   "cell_type": "code",
   "execution_count": null,
   "metadata": {},
   "outputs": [],
   "source": [
    "monthly_age_grp_mortality"
   ]
  },
  {
   "cell_type": "code",
   "execution_count": null,
   "metadata": {},
   "outputs": [],
   "source": [
    "pop_age_scb_prel_df.unstack().droplevel(0,axis=1)"
   ]
  },
  {
   "cell_type": "code",
   "execution_count": null,
   "metadata": {},
   "outputs": [],
   "source": []
  },
  {
   "cell_type": "code",
   "execution_count": null,
   "metadata": {},
   "outputs": [],
   "source": [
    "(monthly_age_grp_mortality.loc[2015:].groupby('year').sum().values * pop_age_scb_prel_df.loc['2015':].unstack().droplevel(0,axis=1)).sum(axis=1)"
   ]
  },
  {
   "cell_type": "code",
   "execution_count": null,
   "metadata": {},
   "outputs": [],
   "source": [
    "### COVID-VARIANTS ###\n",
    "### note that the numbers for alpha..delta do not include all tested - not all tests are sequenced ###\n",
    "varianter = pd.read_html('https://www.folkhalsomyndigheten.se/smittskydd-beredskap/utbrott/aktuella-utbrott/covid-19/statistik-och-analyser/sars-cov-2-virusvarianter-av-sarskild-betydelse/',\n",
    "                        index_col=0,thousands=' ')\n",
    "vars = varianter[1]\n",
    "vars = vars.iloc[:,:-2]\n",
    "vars.columns = ['alpha','beta','gamma','delta','omicron']\n",
    "vars = vars.replace('-',0)\n",
    "vars = vars.fillna(0).astype(int)\n",
    "vars"
   ]
  },
  {
   "cell_type": "code",
   "execution_count": null,
   "metadata": {},
   "outputs": [],
   "source": [
    "### currently they use (a) to designate incomplete weeks ###\n",
    "### PARAM ###\n",
    "\n",
    "replace_string = '(a)'\n",
    "\n",
    "nr_non_complete_weeks = vars.index.str.contains('\\(a\\)').sum()"
   ]
  },
  {
   "cell_type": "code",
   "execution_count": null,
   "metadata": {
    "scrolled": false
   },
   "outputs": [],
   "source": [
    "cred = '\\nDataSource : folkhalsomyndigheten.se'\n",
    "title = 'SWEDEN Covid Variants 2021 week {} to {}'.format(vars.index[0],vars.index[-1]) + cred\n",
    "vars.plot(kind='bar',stacked=True,figsize=(18,12),title=title)\n",
    "plt.ylabel('count')\n",
    "plt.xlabel('week')\n",
    "plt.savefig('scb_excess_variants.jpg',format='jpg')\n",
    "vars"
   ]
  },
  {
   "cell_type": "code",
   "execution_count": null,
   "metadata": {},
   "outputs": [],
   "source": [
    "### YC ###\n",
    "\n",
    "### 48 weeks for 2021 ###\n",
    "vars_previous_year = vars.iloc[:48].copy()\n",
    "vars_previous_year['year'] = previous_year\n",
    "vars_previous_year"
   ]
  },
  {
   "cell_type": "code",
   "execution_count": null,
   "metadata": {},
   "outputs": [],
   "source": [
    "### 48 weeks for 2021 ###\n",
    "vars_current_year = vars.iloc[48:].copy()\n",
    "\n",
    "vars_current_year.index = vars_current_year.index.str.strip(replace_string)\n",
    "vars_current_year"
   ]
  },
  {
   "cell_type": "code",
   "execution_count": null,
   "metadata": {},
   "outputs": [],
   "source": [
    "#vars_current_year.index = vars_current_year.index.astype(int)\n",
    "vars_current_year.info()"
   ]
  },
  {
   "cell_type": "markdown",
   "metadata": {},
   "source": [
    "\n",
    "vars_previous_year.index = vars_previous_year.reset_index().apply(\n",
    "    lambda row : date.fromisocalendar(int(row['year']),\n",
    "    int(row['Vecka'].strip(replace_string)),7),axis=1)\n",
    "vars_previous_year"
   ]
  },
  {
   "cell_type": "markdown",
   "metadata": {},
   "source": [
    "vars_current_year\n",
    "vars_current_year['year'] = previous_year + 1\n",
    "'''\n",
    "vars_current_year['date'] = vars_current_year.reset_index().apply(\n",
    "    lambda row : date.fromisocalendar(row['year'],row['Vecka'],7),axis=1)\n",
    "'''\n",
    "vars_current_year.index = vars_current_year.reset_index().apply(\n",
    "    lambda row : date.fromisocalendar(row['year'],row['Vecka'],7),axis=1)\n",
    "\n",
    "vars_current_year"
   ]
  },
  {
   "cell_type": "code",
   "execution_count": null,
   "metadata": {},
   "outputs": [],
   "source": [
    "vars_all_years = pd.concat([vars_previous_year,vars_current_year])\n",
    "vars_all_years.to_pickle('variants.pkl')\n",
    "vars_all_years.index = vars_all_years.index.str.strip(' ')\n",
    "vars_all_years.index"
   ]
  },
  {
   "cell_type": "code",
   "execution_count": null,
   "metadata": {},
   "outputs": [],
   "source": [
    "\n",
    "title = 'SWEDEN Covid Variants of Concern {} to {}'.format(\n",
    "    vars_all_years.index[0],vars_all_years.index[-1]) + '\\n(incomplete weeks faded)' + cred\n",
    "\n",
    "colors = ['blue','green','yellow','orange','red']\n",
    "\n",
    "ax = vars_all_years[:-nr_non_complete_weeks].plot(figsize=(18,12),kind='bar',stacked=True,\n",
    "                    y=['alpha','beta','gamma','delta','omicron'],title=title,color=colors)\n",
    "\n",
    "vars_all_years.plot(kind='bar',stacked=True,y=['alpha','beta','gamma','delta','omicron'],\n",
    "                   alpha=0.5,ax=ax,legend=None,color=colors)\n",
    "\n",
    "plt.ylabel('nr of sequenced tests')\n",
    "plt.xlabel('week')\n",
    "\n",
    "plt.savefig('scb_excess_variants_of_concern_dates.jpg',format='jpg')"
   ]
  },
  {
   "cell_type": "code",
   "execution_count": null,
   "metadata": {},
   "outputs": [],
   "source": [
    "dead_weeks = fhm_weekly_dead.index.week.astype(str)\n",
    "dead_years = fhm_weekly_dead.index.year.astype(str)\n",
    "\n",
    "new_index = dead_years + '-' + dead_weeks\n",
    "\n",
    "new_index = new_index.str.replace('-1$'.format(i),'-01',regex=True)\n",
    "new_index = new_index.str.replace('-2$'.format(i),'-02',regex=True)\n",
    "new_index = new_index.str.replace('-3$'.format(i),'-03',regex=True)\n",
    "new_index = new_index.str.replace('-4$'.format(i),'-04',regex=True)\n",
    "new_index = new_index.str.replace('-5$'.format(i),'-05',regex=True)\n",
    "new_index = new_index.str.replace('-6$'.format(i),'-06',regex=True)\n",
    "new_index = new_index.str.replace('-7$'.format(i),'-07',regex=True)\n",
    "new_index = new_index.str.replace('-8$'.format(i),'-08',regex=True)\n",
    "new_index = new_index.str.replace('-9$'.format(i),'-09',regex=True)\n",
    "\n",
    "# last week of 2021 ends in 2022\n",
    "new_index = new_index.str.replace('2022-52','2021-52')\n",
    "new_index = new_index.str.replace(' ','')\n",
    "\n",
    "new_index"
   ]
  },
  {
   "cell_type": "code",
   "execution_count": null,
   "metadata": {},
   "outputs": [],
   "source": [
    "fhm_weekly_dead_copy = fhm_weekly_dead.copy()\n",
    "fhm_weekly_dead_copy.index = new_index\n",
    "#vax_fhm_combined = pd.concat([fhm_weekly_dead_copy,vars_all_years],axis=1)\n",
    "vars_all_years.index = vars_all_years.index.str.replace(' ','')\n",
    "vax_fhm_combined = fhm_weekly_dead_copy.join(vars_all_years)\n",
    "vax_fhm_combined.drop('year',axis=1,inplace=True)\n",
    "vax_fhm_combined.dropna(inplace=True)\n",
    "vax_fhm_combined.tail(60)"
   ]
  },
  {
   "cell_type": "code",
   "execution_count": null,
   "metadata": {},
   "outputs": [],
   "source": [
    "title = 'SWEDEN Covid Variants of Concern {} to {}'.format(\n",
    "    vax_fhm_combined.index[0],vax_fhm_combined.index[-1]) + '\\n(incomplete weeks faded)' + cred\n",
    "\n",
    "colors = ['blue','green','yellow','orange','red']\n",
    "\n",
    "ax = vax_fhm_combined[:-nr_non_complete_weeks].plot(figsize=(18,12),kind='bar',stacked=True,\n",
    "                    y=['alpha','beta','gamma','delta','omicron'],title=title,color=colors)\n",
    "\n",
    "vax_fhm_combined.plot(kind='bar',stacked=True,y=['alpha','beta','gamma','delta','omicron'],\n",
    "                   alpha=0.5,ax=ax,legend=None,color=colors)\n",
    "\n",
    "ax2 = plt.twinx()\n",
    "\n",
    "vax_fhm_combined.plot(kind='line',y='Antal_avlidna',ax=ax2,color='k',ls='dashed',marker='o')\n",
    "\n",
    "ax.set_ylabel('nr of sequenced tests')\n",
    "ax.legend(['alpha','beta','gamma','delta','omicron'],loc='upper left')\n",
    "\n",
    "ax2.set_ylabel('nr of covid events')\n",
    "ax2.legend(['covid deaths'],loc='upper right')\n",
    "plt.xlabel('week')"
   ]
  },
  {
   "cell_type": "code",
   "execution_count": null,
   "metadata": {},
   "outputs": [],
   "source": [
    "pop_df"
   ]
  },
  {
   "cell_type": "code",
   "execution_count": null,
   "metadata": {},
   "outputs": [],
   "source": [
    "yearly_covid_dead = fhm_daily_dead_knowns.groupby(fhm_daily_dead_knowns.index.year).sum()\n",
    "yearly_covid_dead"
   ]
  },
  {
   "cell_type": "code",
   "execution_count": null,
   "metadata": {},
   "outputs": [],
   "source": [
    "yearly_covid_dead['Antal_avlidna'] / pop_df['pop'].loc['2020']"
   ]
  },
  {
   "cell_type": "code",
   "execution_count": null,
   "metadata": {},
   "outputs": [],
   "source": [
    "\"note that this table contains ALL covid deaths, 2020+2021+2022\"\n",
    "fhm_age_grp_impact\n"
   ]
  },
  {
   "cell_type": "code",
   "execution_count": null,
   "metadata": {},
   "outputs": [],
   "source": [
    "fhm_age_grp_impact.sum()"
   ]
  },
  {
   "cell_type": "code",
   "execution_count": null,
   "metadata": {},
   "outputs": [],
   "source": [
    "pop_2020_10y = pop_age_df.groupby(['year','10_y_bin']).sum().loc['2020']\n",
    "pop_2021_10y = pop_age_df.groupby(['year','10_y_bin']).sum().loc['2021']\n",
    "print (pop_2020_10y.sum())\n",
    "print (pop_2021_10y.sum())\n",
    "print (pop_2020_10y)\n",
    "       "
   ]
  },
  {
   "cell_type": "code",
   "execution_count": null,
   "metadata": {},
   "outputs": [],
   "source": [
    "# IFR per 100K. Note that deaths are for 2020+2021+2022\n",
    "### not real IFR, since I'm using entire pop as denominator, not the count of infected,known and unknown ###\n",
    "\n",
    "fhm_age_grp_impact['Totalt_antal_avlidna'] / pop_2020_10y['pop'] * 100000"
   ]
  },
  {
   "cell_type": "code",
   "execution_count": null,
   "metadata": {},
   "outputs": [],
   "source": [
    "# IFR per 100K age grp 20-60. Note that deaths are for 2020+2021+2022... so divide by 2 (early 2022)\n",
    "fhm_age_grp_impact.loc['20-29':'50-59'].sum()['Totalt_antal_avlidna'] / pop_2020_10y.loc['20-29':'50-59','pop'].sum() * 100000\n"
   ]
  },
  {
   "cell_type": "code",
   "execution_count": null,
   "metadata": {},
   "outputs": [],
   "source": [
    "nr_of_years_of_pandemic = len(fhm_all_daily.index) / 365\n",
    "nr_of_years_of_pandemic"
   ]
  },
  {
   "cell_type": "code",
   "execution_count": null,
   "metadata": {},
   "outputs": [],
   "source": [
    "### transform day of year and year to datetime ###\n",
    "scb_prel_daily.reset_index().head()"
   ]
  },
  {
   "cell_type": "code",
   "execution_count": null,
   "metadata": {},
   "outputs": [],
   "source": [
    "scb_daily_melted = scb_prel_daily.iloc[:,:-1].reset_index().melt(id_vars='index').dropna()\n",
    "scb_daily_melted"
   ]
  },
  {
   "cell_type": "code",
   "execution_count": null,
   "metadata": {},
   "outputs": [],
   "source": [
    "scb_daily_melted['index'] += 1"
   ]
  },
  {
   "cell_type": "code",
   "execution_count": null,
   "metadata": {},
   "outputs": [],
   "source": [
    "\n",
    "scb_daily_melted.index = pd.to_datetime(scb_daily_melted.apply(lambda row : int(row.variable) * 1000 + int(row['index']),axis=1),\n",
    "                                     format='%Y%j')"
   ]
  },
  {
   "cell_type": "code",
   "execution_count": null,
   "metadata": {},
   "outputs": [],
   "source": [
    "scb_daily_melted.columns = ['dayofyear','year','dead']\n",
    "scb_daily_melted"
   ]
  },
  {
   "cell_type": "code",
   "execution_count": null,
   "metadata": {},
   "outputs": [],
   "source": [
    "scb_daily_melted.plot(y='dead')"
   ]
  },
  {
   "cell_type": "code",
   "execution_count": null,
   "metadata": {},
   "outputs": [],
   "source": [
    "### non-leap years get 0 for march 1:st - should fix ###\n",
    "scb_daily_melted[scb_daily_melted['dead'] < 10]"
   ]
  },
  {
   "cell_type": "code",
   "execution_count": null,
   "metadata": {},
   "outputs": [],
   "source": [
    "mortality_all_grp_TD"
   ]
  },
  {
   "cell_type": "code",
   "execution_count": null,
   "metadata": {},
   "outputs": [],
   "source": [
    "disclaimer = '\\nData older than 3W from report date can be considered stable\\n'\n",
    "title = 'SWEDEN 2015--> daily age grp mortality YTD, rolling 7 day avg. incl. {}\\nDataSource : scb.se'.format(\n",
    "    mortality_all_grp_TD.index[-1].date()) + disclaimer\n",
    "\n",
    "axes = mortality_all_grp_TD[:last_data_day].rolling(7).mean().plot(figsize=(18,12),\n",
    "                                                             style='r--',subplots=True,title=title)\n",
    "\n",
    "#axes[0].fill_between(min_.index,min_['-64'],max_['-64'],color='lightgrey',label='2015-2018 range')\n",
    "#axes[1].fill_between(min_.index,min_['65-79'],max_['65-79'],color='lightgrey',label='2015-2018 range')\n",
    "#axes[2].fill_between(min_.index,min_['80-89'],max_['80-89'],color='lightgrey',label='2015-2018 range')\n",
    "#axes[3].fill_between(min_.index,min_['90+'],max_['90+'],color='lightgrey',label='2015-2018 range')\n",
    "\n",
    "mean.loc[:last_data_day,'-64'].rolling(7).mean().plot(ax=axes[0],ls='--',color='lime',label='baseline -64')\n",
    "mean.loc[:last_data_day,'65-79'].rolling(7).mean().plot(ax=axes[1],ls='--',color='lime',label='baseline 65-79')\n",
    "mean.loc[:last_data_day,'80-89'].rolling(7).mean().plot(ax=axes[2],ls='--',color='lime',label='baseline 80-89')\n",
    "mean.loc[:last_data_day,'90+'].rolling(7).mean().plot(ax=axes[3],ls='--',color='lime',label='baseline 90+')\n",
    "\n",
    "subtitles = ['0-64','65-79','80-89','90+']\n",
    "\n",
    "for i,a in enumerate(axes):\n",
    "    a.set_ylabel('daily mortality')\n",
    "    a.set_title('Age Grp ' + subtitles[i])\n",
    "    a.legend(loc='upper center',framealpha=0.3)\n"
   ]
  },
  {
   "cell_type": "code",
   "execution_count": null,
   "metadata": {},
   "outputs": [],
   "source": [
    "disclaimer = '\\nData older than 3W from report date can be considered stable\\n'\n",
    "title = 'SWEDEN 2019--> daily age grp mortality YTD, rolling 7 day avg. incl. {}\\nDataSource : scb.se'.format(\n",
    "    mortality_all_grp_TD.index[-1].date()) + disclaimer\n",
    "\n",
    "axes = mortality_all_grp_TD['2019':last_data_day].rolling(7).mean().plot(figsize=(18,12),\n",
    "                                                             style='r--',subplots=True,title=title)\n",
    "\n",
    "#axes[0].fill_between(min_.index,min_['-64'],max_['-64'],color='lightgrey',label='2015-2018 range')\n",
    "#axes[1].fill_between(min_.index,min_['65-79'],max_['65-79'],color='lightgrey',label='2015-2018 range')\n",
    "#axes[2].fill_between(min_.index,min_['80-89'],max_['80-89'],color='lightgrey',label='2015-2018 range')\n",
    "#axes[3].fill_between(min_.index,min_['90+'],max_['90+'],color='lightgrey',label='2015-2018 range')\n",
    "\n",
    "mean.loc['2019':last_data_day,'-64'].rolling(7).mean().plot(ax=axes[0],ls='--',color='lime',label='baseline -64')\n",
    "mean.loc['2019':last_data_day,'65-79'].rolling(7).mean().plot(ax=axes[1],ls='--',color='lime',label='baseline 65-79')\n",
    "mean.loc['2019':last_data_day,'80-89'].rolling(7).mean().plot(ax=axes[2],ls='--',color='lime',label='baseline 80-89')\n",
    "mean.loc['2019':last_data_day,'90+'].rolling(7).mean().plot(ax=axes[3],ls='--',color='lime',label='baseline 90+')\n",
    "\n",
    "subtitles = ['0-64','65-79','80-89','90+']\n",
    "\n",
    "for i,a in enumerate(axes):\n",
    "    a.set_ylabel('daily mortality')\n",
    "    a.set_title('Age Grp ' + subtitles[i])\n",
    "    a.legend(loc='upper center',framealpha=0.3)\n",
    "    \n",
    "plt.savefig('scb_excess_age_grp_mort_2019_fwd.jpg',format='jpg')"
   ]
  },
  {
   "cell_type": "code",
   "execution_count": null,
   "metadata": {},
   "outputs": [],
   "source": [
    "fhm_daily_dead"
   ]
  },
  {
   "cell_type": "code",
   "execution_count": null,
   "metadata": {},
   "outputs": [],
   "source": [
    "scb_daily_melted"
   ]
  },
  {
   "cell_type": "code",
   "execution_count": null,
   "metadata": {},
   "outputs": [],
   "source": [
    "fhm_daily_dead.set_index('Datum_avliden').join(scb_daily_melted)"
   ]
  },
  {
   "cell_type": "code",
   "execution_count": null,
   "metadata": {},
   "outputs": [],
   "source": [
    "fhm_scb_daily_dead = fhm_daily_dead.set_index('Datum_avliden').join(scb_daily_melted)\n",
    "fhm_scb_daily_dead.columns = ['covid_dead','dayofyear','year','all_dead']\n",
    "fhm_scb_daily_dead = fhm_scb_daily_dead.dropna()\n",
    "\n",
    "fhm_scb_daily_dead.drop(['dayofyear','year'],inplace=True,axis=1)\n",
    "\n",
    "fhm_scb_daily_dead = fhm_scb_daily_dead.astype(int)\n",
    "fhm_scb_monthly_dead = fhm_scb_daily_dead.resample('M').sum()\n",
    "\n",
    "# since fhm_deaths start later than march first #\n",
    "\n",
    "fhm_scb_monthly_dead.iat[0,1] = monthly_dead.loc['2020-03'].values[0]\n",
    "fhm_scb_monthly_dead['non_covid_dead'] = fhm_scb_monthly_dead['all_dead'] - fhm_scb_monthly_dead['covid_dead']\n",
    "\n",
    "print (fhm_scb_monthly_dead)\n",
    "fhm_scb_monthly_dead['prop_covid_dead'] = fhm_scb_monthly_dead['covid_dead'] / fhm_scb_monthly_dead['all_dead']\n",
    "\n",
    "\n",
    "fhm_scb_monthly_dead"
   ]
  },
  {
   "cell_type": "code",
   "execution_count": null,
   "metadata": {},
   "outputs": [],
   "source": [
    "monthly_expected_deaths.sum(axis=1).loc['2020-03']"
   ]
  },
  {
   "cell_type": "code",
   "execution_count": null,
   "metadata": {},
   "outputs": [],
   "source": [
    "monthly_expected_deaths"
   ]
  },
  {
   "cell_type": "code",
   "execution_count": null,
   "metadata": {},
   "outputs": [],
   "source": [
    "fig,ax = plt.subplots(figsize=(18,12))\n",
    "\n",
    "plot_start = fhm_scb_monthly_dead.index[0]\n",
    "plot_end = fhm_scb_monthly_dead.index[-1]\n",
    "\n",
    "fhm_scb_monthly_dead.index = fhm_scb_monthly_dead.index.date\n",
    "\n",
    "title = 'SWEDEN Monthly Covid vs Non-Covid Deaths, {} - {} (prel.) \\nDataSource : scb.se, Folkhälsomyndigheten'.format(\n",
    "fhm_scb_monthly_dead.index[0],fhm_scb_monthly_dead.index[-1])\n",
    "\n",
    "\n",
    "fhm_scb_monthly_dead.plot(ax=ax,kind='bar',title=title,\n",
    "                               y=['non_covid_dead','covid_dead'],stacked=True,\n",
    "                       color=['orange','red'],alpha=0.3)\n",
    "\n",
    "xtick_loc = ax.get_xticks()\n",
    "xticks = fhm_scb_monthly_dead.index\n",
    "\n",
    "fhm_scb_monthly_dead[:-1].plot(ax=ax,kind='bar',\n",
    "                               y=['non_covid_dead','covid_dead'],stacked=True,\n",
    "                       color=['orange','red'])\n",
    "\n",
    "monthly_expected_deaths.loc[plot_start : plot_end].sum(axis=1).plot(ax=ax,kind='bar',edgecolor='k',\n",
    "                                                                   facecolor='none')\n",
    "\n",
    "ax.set_xticks(xtick_loc)\n",
    "ax.set_xticklabels(xticks)\n",
    "\n",
    "ax.set_ylabel(\"Nr. of deaths\")\n",
    "ax.set_xlabel('Month')\n",
    "\n",
    "ax.legend(labels=['prel','prel','non-Covid','Covid','expectation all deaths'])\n",
    "\n",
    "\n",
    "plt.savefig('scb_fhm_excess_covid_non_covid_dead.jpg',format='jpg')\n",
    "fhm_scb_monthly_dead"
   ]
  },
  {
   "cell_type": "code",
   "execution_count": null,
   "metadata": {},
   "outputs": [],
   "source": [
    "### xticks show beginning of month,markers show end of month ###\n",
    "fhm_scb_monthly_dead['prop_covid_dead'].plot(figsize=(18,12),color='red',marker='o')"
   ]
  },
  {
   "cell_type": "code",
   "execution_count": null,
   "metadata": {},
   "outputs": [],
   "source": [
    "fhm_scb_monthly_dead"
   ]
  },
  {
   "cell_type": "code",
   "execution_count": null,
   "metadata": {},
   "outputs": [],
   "source": [
    "real_time_proportion = (fhm_scb_monthly_dead['all_dead'] / monthly_expected_deaths.sum(axis=1)).dropna()\n",
    "real_time_proportion"
   ]
  },
  {
   "cell_type": "code",
   "execution_count": null,
   "metadata": {},
   "outputs": [],
   "source": [
    "\n",
    "historical_proportion = (monthly_dead / monthly_expected_deaths.sum(axis=1)).dropna()\n",
    "historical_proportion"
   ]
  },
  {
   "cell_type": "code",
   "execution_count": null,
   "metadata": {
    "scrolled": false
   },
   "outputs": [],
   "source": [
    "total_proportion = pd.concat([historical_proportion,real_time_proportion])\n",
    "total_proportion = total_proportion[~total_proportion.index.duplicated(keep='last')]\n",
    "\n",
    "print (total_proportion.index)\n",
    "last_good_idx = total_proportion.index[-2]\n",
    "\n",
    "total_proportion = total_proportion.astype(float)\n",
    "\n",
    "title = 'SWEDEN : All Cause Deaths : ratio monthly observed deaths / monthly expected deaths {} - {}\\nDataSource : scb.se'.format(\n",
    "total_proportion.index[0].date(),total_proportion.index[-2].date())\n",
    "\n",
    "ax = total_proportion[:-1].plot(figsize=(18,12),marker='.',ls='dashed',title=title,color='red',alpha=0.5)\n",
    "ax.axhline(1,ls='dashed',color='k')\n",
    "ax.set_ylabel('proportion observed vs expected deaths')\n",
    "ax.set_xlabel ('month')\n",
    "\n",
    "ax.fill_between(total_proportion.loc['2018-08' : '2020-03'].index,total_proportion.loc['2018-08' : '2020-03'],\n",
    "                1,color='green',alpha=0.3)\n",
    "\n",
    "ax.fill_between(total_proportion.loc['2020-04' : '2020-06'].index,total_proportion.loc['2020-04' : '2020-06'],\n",
    "                1,color='red',alpha=0.3)\n",
    "\n",
    "ax.fill_between(total_proportion.loc['2020-07' : '2020-08'].index,total_proportion.loc['2020-07' : '2020-08'],\n",
    "                1,color='green',alpha=0.3)\n",
    "\n",
    "### splitting due to seeming bug in fill_between : fails to account for august is put in continuous sequence ###\n",
    "ax.fill_between(total_proportion.loc['2020-08' : '2020-10'].index,total_proportion.loc['2020-08' : '2020-10'],\n",
    "                1,color='green',alpha=0.3)\n",
    "\n",
    "ax.fill_between(total_proportion.loc['2020-11' : '2021-01'].index,total_proportion.loc['2020-11' : '2021-01'],\n",
    "                1,color='red',alpha=0.3)\n",
    "\n",
    "arrow_properties = dict(\n",
    "    facecolor=\"green\", width=5,\n",
    "    headwidth=10, shrink=1)\n",
    "\n",
    "arrow_x = '2019-06'\n",
    "arrow_y = 0.98\n",
    "label_x = '2018-07'\n",
    "label_y = 1.1\n",
    "\n",
    "ax.annotate('Pre-Pandemic',xy=(arrow_x,arrow_y),\n",
    "           xytext = (label_x,label_y),color='green',\n",
    "           arrowprops = arrow_properties)\n",
    "\n",
    "arrow_x = '2020-06'\n",
    "arrow_y = 1.15\n",
    "label_x = '2020-09'\n",
    "label_y = 1.25\n",
    "\n",
    "arrow_properties['color'] = 'red'\n",
    "\n",
    "ax.annotate('Pandemic',xy=(arrow_x,arrow_y),\n",
    "           xytext = (label_x,label_y),color='red',\n",
    "           arrowprops = arrow_properties)\n",
    "\n",
    "arrow_x = '2020-12'\n",
    "arrow_y = 1.10\n",
    "label_x = '2020-09'\n",
    "label_y = 1.25\n",
    "\n",
    "ax.annotate(' ',xy=(arrow_x,arrow_y),\n",
    "           xytext = (label_x,label_y),color='red',\n",
    "           arrowprops = arrow_properties)\n",
    "\n",
    "\n",
    "arrow_x = '2021-05'\n",
    "arrow_y = 0.98\n",
    "label_x = '2021-05'\n",
    "label_y = 1.05\n",
    "\n",
    "\n",
    "arrow_properties['color'] = 'navy'\n",
    "\n",
    "ax.annotate('Post-Pandemic',xy=(arrow_x,arrow_y),\n",
    "           xytext = (label_x,label_y),color='navy',\n",
    "           arrowprops = arrow_properties)\n",
    "\n",
    "ax.fill_between(total_proportion.loc['2021-02' : last_good_idx].index,\n",
    "                total_proportion.loc['2021-02' : last_good_idx],\n",
    "                1,color='navy',alpha=0.3)\n",
    "\n",
    "plt.savefig('scb_excess_proportion_obs_vs_exp.jpg',format='jpg')"
   ]
  },
  {
   "cell_type": "code",
   "execution_count": null,
   "metadata": {},
   "outputs": [],
   "source": [
    "SAMPLE_RATE = 1  # Hertz - Nyquist theorem : sampling rate at least 2 x highest signal freq. \n",
    "DURATION = len(total_proportion) -1 # Seconds\n",
    "\n",
    "def generate_sine_wave(freq, sample_rate, duration):\n",
    "    x = np.linspace(0, duration, sample_rate * duration, endpoint=False)\n",
    "    \n",
    "    frequencies = x * freq\n",
    "    # 2pi because np.sin takes radians\n",
    "    y = 0.1 * np.sin((2 * np.pi) * frequencies)\n",
    "    return x, y\n",
    "\n",
    "\n",
    "f1 = 1/12\n",
    "\n",
    "# Generate a sine wave  of f Hz that lasts for 5 seconds\n",
    "x, y = generate_sine_wave(f1, SAMPLE_RATE, DURATION)\n",
    "\n",
    "fig,ax = plt.subplots(figsize=(18,12))\n",
    "\n",
    "periodic_wave = pd.DataFrame(index=total_proportion.index[:-1],data=y)\n",
    "\n",
    "periodic_wave.plot(ax=ax,marker='.')\n",
    "\n",
    "norm_proportion = d = 3.*(total_proportion - np.min(total_proportion))/np.ptp(total_proportion) -1\n",
    "norm_proportion -= 1\n",
    "norm_proportion[:-1].plot(ax=ax,marker='o')\n"
   ]
  },
  {
   "cell_type": "code",
   "execution_count": null,
   "metadata": {},
   "outputs": [],
   "source": [
    "from scipy.fft import rfft,rfftfreq,irfft\n",
    "\n",
    "def fft(series,sample_rate):\n",
    "    signal = series\n",
    "    signal = signal - signal.mean()\n",
    "    signal = signal.values\n",
    "\n",
    "    yf = rfft(signal) \n",
    "\n",
    "    xf = rfftfreq(len(signal),1 / sample_rate)\n",
    "    \n",
    "    return xf,yf"
   ]
  },
  {
   "cell_type": "code",
   "execution_count": null,
   "metadata": {
    "scrolled": false
   },
   "outputs": [],
   "source": [
    "fft_df = pd.DataFrame(fft(total_proportion,12)).T\n",
    "\n",
    "#fft_df = pd.DataFrame(fft(periodic_wave[0],12)).T\n",
    "\n",
    "fft_df.columns=['freq','power']\n",
    "fft_df['freq'] = np.abs(fft_df['freq'])\n",
    "fft_df['power'] = np.abs(fft_df['power']) / np.abs(fft_df['power'].max())\n",
    "\n",
    "ax = fft_df.plot(x='freq',y='power',label='sine')\n",
    "\n",
    "dominant_freq = fft_df.iloc[fft_df.idxmax()['power']]\n",
    "dominant_freq['freq']\n",
    "\n",
    "print ('dominant freq : ',dominant_freq)\n",
    "\n",
    "DURATION = len(total_proportion)\n",
    "\n",
    "x, y = generate_sine_wave(1/ (dominant_freq['freq'] * 12) , SAMPLE_RATE, DURATION)\n",
    "\n",
    "dominant_wave = pd.DataFrame(index=total_proportion.index,data=y)\n",
    "\n",
    "ax2 = dominant_wave.plot(figsize=(18,12),ls='dashed')\n",
    "\n",
    "title='SWEDEN monthly relative excess deaths {} - {}\\nDataSource : scb.se'.format(\n",
    "norm_proportion.index[0].date(),norm_proportion.index[-2].date())\n",
    "\n",
    "\n",
    "\n",
    "(0.5 * norm_proportion[:-1]).plot(ax=ax2,marker='.',title=title)\n",
    "ax2.legend(['dominant frequency','proportion excess deaths'])\n",
    "ax2.axes.get_yaxis().set_visible(False)\n",
    "ax2.set_ylabel('power')\n",
    "ax2.set_xlabel('month')\n",
    "\n",
    "plt.savefig('scb_excess_fourier_excess.jpg',format='jpg')\n"
   ]
  },
  {
   "cell_type": "code",
   "execution_count": null,
   "metadata": {},
   "outputs": [],
   "source": [
    "12 * 1.4"
   ]
  },
  {
   "cell_type": "code",
   "execution_count": null,
   "metadata": {},
   "outputs": [],
   "source": [
    "baseline_cum_excess = covid_period_excess.sum(axis=1).cumsum()\n",
    "baseline_cum_excess"
   ]
  },
  {
   "cell_type": "code",
   "execution_count": null,
   "metadata": {},
   "outputs": [],
   "source": [
    "trend_excess_2.loc['2021':]"
   ]
  },
  {
   "cell_type": "code",
   "execution_count": null,
   "metadata": {},
   "outputs": [],
   "source": [
    "trend_cum_excess = trend_excess_2.loc['2019-10':,'excess'].cumsum().dropna()\n",
    "trend_cum_excess"
   ]
  },
  {
   "cell_type": "code",
   "execution_count": null,
   "metadata": {},
   "outputs": [],
   "source": [
    "title = 'SWEDEN cumulative age grp based excess deaths since start of flu season 19/20, by two methods : avg. & trend\\nDataSource : scb.se'\n",
    "ax = trend_cum_excess.plot(figsize=(18,12),marker='o',label='excess based on trend 15-18',title=title)\n",
    "baseline_cum_excess.plot(ax=ax,marker='o',label='excess based on avg. 15-18')\n",
    "ax.axhline(0,ls='dashed',color='k')\n",
    "\n",
    "ax.legend(loc='upper right')\n",
    "ax.set_ylabel('cumulative excess deaths')\n",
    "_= ax.set_yticks(np.arange(-6000,6000,1000))\n",
    "plt.savefig('scb_excess_cum_excess_trend_and_avg.jpg',format='jpg')"
   ]
  },
  {
   "cell_type": "code",
   "execution_count": null,
   "metadata": {},
   "outputs": [],
   "source": [
    "\n",
    "trendie = trend_excess_2.loc['2019-10':,'excess']\n",
    "basie = pd.DataFrame(covid_period_excess.sum(axis=1))\n",
    "\n",
    "two_excesses = basie.join(trendie)\n",
    "two_excesses.columns = ['avg. 15-18','trend 15-18']\n",
    "two_excesses"
   ]
  },
  {
   "cell_type": "code",
   "execution_count": null,
   "metadata": {},
   "outputs": [],
   "source": [
    "xticks = two_excesses.index.date\n",
    "title='SWEDEN Monthly Excess Deaths by trend and average\\nDataSource : scb.se'\n",
    "ax = two_excesses.plot(kind='bar',figsize=(18,12),title=title)\n",
    "\n",
    "ax.set_ylabel('excess deaths')\n",
    "_= ax.set_xticklabels(xticks)\n",
    "\n",
    "plt.savefig('scb_excess_monthly_excess_by_two_methods.jpg',format='jpg')"
   ]
  },
  {
   "cell_type": "code",
   "execution_count": null,
   "metadata": {},
   "outputs": [],
   "source": [
    "ax = two_excesses.cumsum().plot(figsize=(18,12),kind='bar')\n",
    "ax.set_xticklabels(xticks)\n",
    "ax.set_ylabel('cumulative excess')"
   ]
  },
  {
   "cell_type": "code",
   "execution_count": null,
   "metadata": {},
   "outputs": [],
   "source": [
    "\n",
    "title = 'SWEDEN proportion population aged {} or more, 1860-2021 ; overall mortality 1860-2021\\nDataSource : scb.se'.format(age_lim)\n",
    "ax = proportion_old_1860.plot(figsize=(18,12),title=title,marker='.')\n",
    "ax.set_ylabel('proportion over 80')\n",
    "ax.set_yticks(np.arange(0,0.07,0.01))\n",
    "ax2 = plt.twinx()\n",
    "mort_1860.plot(ax=ax2,color='red',marker='.',ls='dashed')\n",
    "mort_1860.rolling(5).mean().plot(ax=ax2,color='orange',ls='dashed')\n",
    "ax2.set_ylabel('mortality')\n",
    "ax.legend(['proportion 80+'],loc='upper left')\n",
    "ax2.legend(['raw mortality','raw mortality rolling 5y avg.'],loc='upper right',framealpha=0.1)\n",
    "plt.savefig('scb_excess_swe_aging_pop.jpg',format='jpg')"
   ]
  },
  {
   "cell_type": "code",
   "execution_count": null,
   "metadata": {},
   "outputs": [],
   "source": [
    "(mort_1860 / mort_1860.rolling(5).mean()).plot(figsize=(18,12))"
   ]
  },
  {
   "cell_type": "code",
   "execution_count": null,
   "metadata": {},
   "outputs": [],
   "source": [
    "fhm_pos_icu_dead_weekly.iloc[:,:3].sum()"
   ]
  },
  {
   "cell_type": "code",
   "execution_count": null,
   "metadata": {},
   "outputs": [],
   "source": [
    "weekly_excess_deaths.loc['2020-03':]"
   ]
  },
  {
   "cell_type": "code",
   "execution_count": null,
   "metadata": {},
   "outputs": [],
   "source": [
    "fhm_all_weekly = fhm_all_daily.resample('W').sum()\n",
    "fhm_all_weekly"
   ]
  },
  {
   "cell_type": "code",
   "execution_count": null,
   "metadata": {},
   "outputs": [],
   "source": [
    "weekly_total_excess = weekly_excess_deaths.loc['2020-02':].sum(axis=1)\n",
    "weekly_total_excess.name='excess'\n",
    "weekly_total_excess"
   ]
  },
  {
   "cell_type": "code",
   "execution_count": null,
   "metadata": {},
   "outputs": [],
   "source": [
    "excess_and_fhm = fhm_all_weekly.join(weekly_total_excess).dropna()\n",
    "excess_and_fhm.columns = ['Covid_Cases','Cocid_ICUs','Covid_Deaths','Excess_Deaths']\n",
    "excess_and_fhm"
   ]
  },
  {
   "cell_type": "code",
   "execution_count": null,
   "metadata": {},
   "outputs": [],
   "source": [
    "title = 'SWEDEN Weekly Covid Deaths vs Excess Deaths {} - {}\\nDataSource : scb.se, Folkhälsomyndigheten.se'.format(\n",
    "excess_and_fhm.index[0].date(),excess_and_fhm.index[-2].date())\n",
    "\n",
    "ax = excess_and_fhm[:-1].plot(y=['Covid_Deaths','Excess_Deaths'],figsize=(18,12),marker='o',color=['red','orange'],\n",
    "                        title=title)\n",
    "ax.axhline(0,ls='dashed',color='k')\n",
    "ax.set_ylabel('deaths')\n",
    "plt.savefig('scb_excess_covid_dead_vs_excess_dead.jpg',format='jpg')"
   ]
  },
  {
   "cell_type": "code",
   "execution_count": null,
   "metadata": {},
   "outputs": [],
   "source": [
    "excess_and_fhm.corr()"
   ]
  },
  {
   "cell_type": "code",
   "execution_count": null,
   "metadata": {},
   "outputs": [],
   "source": [
    "weekly_cases = fhm_all_daily['Cases'].resample('W').sum()\n",
    "weekly_proportion_cases = weekly_cases.cumsum() / weekly_cases.sum()\n",
    "ax = weekly_proportion_cases.plot()\n"
   ]
  },
  {
   "cell_type": "code",
   "execution_count": null,
   "metadata": {},
   "outputs": [],
   "source": [
    "prop_cases_vax = pd.concat([full_vax_ts['prop. fully vaccinated'],weekly_proportion_cases],axis=1)\n",
    "\n",
    "title = 'SWEDEN Proportion Covid Cases vs. Proportion Population Fully Vaccinated\\nDataSource : Folkhälsomyndigheten'\n",
    "ax = prop_cases_vax.plot(y='Cases',x='prop. fully vaccinated',figsize=(18,12),title=title,color='orange')\n",
    "ax.set_ylabel('prop. of all cases')\n",
    "ax.legend(loc='upper left')\n",
    "plt.savefig('scb_excess_props_vax_cases.jpg',format='jpg')"
   ]
  },
  {
   "cell_type": "code",
   "execution_count": null,
   "metadata": {},
   "outputs": [],
   "source": [
    "prop_cases_vax.plot(figsize=(18,12),color=['orange','red'])"
   ]
  },
  {
   "cell_type": "code",
   "execution_count": null,
   "metadata": {},
   "outputs": [],
   "source": [
    "fhm_weekly_proportions = fhm_all_weekly[:-1].cumsum() / fhm_all_weekly[:-1].sum()\n",
    "fhm_weekly_proportions"
   ]
  },
  {
   "cell_type": "code",
   "execution_count": null,
   "metadata": {},
   "outputs": [],
   "source": [
    "total_test_proportion = total_tests.cumsum() / total_tests.sum()\n",
    "total_test_proportion"
   ]
  },
  {
   "cell_type": "code",
   "execution_count": null,
   "metadata": {},
   "outputs": [],
   "source": [
    "fhm_tests_proportions = fhm_weekly_proportions.join(total_test_proportion)\n",
    "fhm_tests_proportions = fhm_tests_proportions.join(full_vax_ts['prop. fully vaccinated'])\n",
    "fhm_tests_proportions"
   ]
  },
  {
   "cell_type": "code",
   "execution_count": null,
   "metadata": {},
   "outputs": [],
   "source": [
    "fhm_tests_proportions.plot(color=['blue','orange','red','green','k'],figsize=(18,12),marker='o')"
   ]
  },
  {
   "cell_type": "code",
   "execution_count": null,
   "metadata": {},
   "outputs": [],
   "source": [
    "title = 'SWEDEN Covid Vaccine Effectiveness vs. stated Vaccine Efficacy\\nDataSource : Folkhälsomyndigheten'\n",
    "ax = fhm_tests_proportions.plot(x='prop. fully vaccinated',y=['Cases','ICUs','Dead','total_tests'],\n",
    "                          figsize=(18,12),color=['blue','orange','red','green'],marker='o',title=title)\n",
    "\n",
    "ax.set_ylabel('proportion of total events')\n",
    "ax.set_yticks(np.arange(0,1.05,0.05))\n",
    "_= ax.set_xticks(np.arange(0,1.05,0.05))\n",
    "\n",
    "plt.savefig('scb_excess_prop_vax_vs_covid_events.jpg',format='jpg')"
   ]
  },
  {
   "cell_type": "code",
   "execution_count": null,
   "metadata": {},
   "outputs": [],
   "source": [
    "(partial_vax_ts['Antal vaccinerade'] - partial_vax_ts['Antal vaccinerade'].shift()).plot(\n",
    "    figsize=(18,12),marker='o')"
   ]
  },
  {
   "cell_type": "code",
   "execution_count": null,
   "metadata": {},
   "outputs": [],
   "source": [
    "expected_weekly_deaths = expected_daily_deaths.sum(axis=1).resample('W').sum()\n",
    "expected_weekly_deaths.name='expected_weekly'\n",
    "\n",
    "expected_weekly_deaths.loc['2022']\n"
   ]
  },
  {
   "cell_type": "code",
   "execution_count": null,
   "metadata": {},
   "outputs": [],
   "source": [
    "weekly_observed_deaths = daily_deaths.sum(axis=1).resample('W').sum()\n",
    "weekly_observed_deaths.name = 'weekly_obs'\n",
    "weekly_observed_deaths.index"
   ]
  },
  {
   "cell_type": "code",
   "execution_count": null,
   "metadata": {},
   "outputs": [],
   "source": [
    "date_list = []\n",
    "\n",
    "for i in range(len(vax_fhm_combined)):\n",
    "    date_list.append (date.fromisocalendar(\n",
    "        int(vax_fhm_combined.index[i].split('-')[0]),int(vax_fhm_combined.index[i].split('-')[1]),7))"
   ]
  },
  {
   "cell_type": "code",
   "execution_count": null,
   "metadata": {},
   "outputs": [],
   "source": [
    "date_idx = pd.DatetimeIndex(date_list)\n",
    "date_idx"
   ]
  },
  {
   "cell_type": "code",
   "execution_count": null,
   "metadata": {},
   "outputs": [],
   "source": [
    "vax_fhm_combined.index = date_idx\n",
    "vax_fhm_combined.info()"
   ]
  },
  {
   "cell_type": "code",
   "execution_count": null,
   "metadata": {},
   "outputs": [],
   "source": [
    "vax_fhm_scb_combined = vax_fhm_combined.join(expected_weekly_deaths).join(weekly_observed_deaths)\n",
    "vax_fhm_scb_combined['non_covid_deaths'] = vax_fhm_scb_combined['weekly_obs'] - vax_fhm_scb_combined['Antal_avlidna']\n",
    "vax_fhm_scb_combined.rename(columns={'Antal_avlidna' : 'covid_deaths'},inplace=True)\n",
    "vax_fhm_scb_combined"
   ]
  },
  {
   "cell_type": "code",
   "execution_count": null,
   "metadata": {},
   "outputs": [],
   "source": [
    "fig,axes = plt.subplots(2,figsize=(18,12),sharex=True)\n",
    "cred = '\\nDataSource : Folkhälsomyndigheten, scb.se'\n",
    "\n",
    "title = 'SWEDEN Covid Variants of Concern {} to {}'.format(\n",
    "    vax_fhm_scb_combined.index[0].date(),vax_fhm_scb_combined.index[-1].date()) + cred\n",
    "\n",
    "#colors = ['blue','green','yellow','orange','red']\n",
    "\n",
    "vax_fhm_scb_combined.plot(ax=axes[0],kind='bar',stacked=True,\n",
    "                    y=['alpha','beta','gamma','delta','omicron'],title=title)\n",
    "\n",
    "axes[0].set_ylabel('Nr. of sequenced tests')\n",
    "\n",
    "xticks = vax_fhm_scb_combined.index.date\n",
    "\n",
    "\n",
    "vax_fhm_scb_combined.plot(ax=axes[1],kind='bar',stacked=True,y=['non_covid_deaths','covid_deaths'],\n",
    "                                                               color=['orange','crimson'])\n",
    "\n",
    "vax_fhm_scb_combined.plot(ax=axes[1],kind='bar',facecolor='none',edgecolor='k',y='expected_weekly',\n",
    "                         title='SWEDEN Expected (All Cause) and Observed deaths (non-covid,covid)')\n",
    "\n",
    "axes[1].set_ylabel('Nr. of deaths')\n",
    "\n",
    "axes[1].legend(['Weekly non-Covid-Deaths','Weekly Covid-Deaths','Weekly Expected All Cause-Deaths'])\n",
    "_= axes[1].set_xticklabels(xticks,rotation=90)\n",
    "\n",
    "plt.savefig('scb_excess_variants_fhm_scb.jpg',format='jpg')\n"
   ]
  },
  {
   "cell_type": "code",
   "execution_count": null,
   "metadata": {},
   "outputs": [],
   "source": [
    "excess_and_fhm"
   ]
  },
  {
   "cell_type": "code",
   "execution_count": null,
   "metadata": {},
   "outputs": [],
   "source": [
    "excess_and_fhm.sum()"
   ]
  },
  {
   "cell_type": "code",
   "execution_count": null,
   "metadata": {},
   "outputs": [],
   "source": [
    "vax_fhm_scb_combined['excess'] = vax_fhm_scb_combined['weekly_obs'] - vax_fhm_scb_combined['expected_weekly']\n",
    "vax_fhm_scb_combined.corr()"
   ]
  },
  {
   "cell_type": "code",
   "execution_count": null,
   "metadata": {},
   "outputs": [],
   "source": [
    "daily_exp_fhm_scb = (expected_daily_deaths.join(scb_daily_melted).join(fhm_daily_dead.set_index('Datum_avliden'))).replace(\n",
    "np.nan,0)\n",
    "daily_exp_fhm_scb['expected'] = daily_exp_fhm_scb.loc[:,'-64':'90+'].sum(axis=1)\n",
    "daily_exp_fhm_scb = daily_exp_fhm_scb[['dead','Antal_avlidna','expected']]\n",
    "daily_exp_fhm_scb.columns = ['all_cause_dead','covid_dead','all_cause_expected']\n",
    "daily_exp_fhm_scb = daily_exp_fhm_scb.loc['2015':]\n",
    "daily_exp_fhm_scb['non_covid_dead'] = daily_exp_fhm_scb['all_cause_dead'] - daily_exp_fhm_scb['covid_dead']\n",
    "daily_exp_fhm_scb"
   ]
  },
  {
   "cell_type": "code",
   "execution_count": null,
   "metadata": {},
   "outputs": [],
   "source": [
    "monthly_exp_fhm_scb = daily_exp_fhm_scb.resample('M').sum()\n",
    "monthly_exp_fhm_scb"
   ]
  },
  {
   "cell_type": "code",
   "execution_count": null,
   "metadata": {},
   "outputs": [],
   "source": [
    "last_date = (monthly_exp_fhm_scb.loc[monthly_exp_fhm_scb['non_covid_dead'] == 0]).index[0] - pd.DateOffset(\n",
    "    months=1)\n",
    "print (last_date)\n",
    "last_date = last_date - pd.tseries.offsets.MonthEnd(1)\n",
    "last_date"
   ]
  },
  {
   "cell_type": "code",
   "execution_count": null,
   "metadata": {
    "scrolled": false
   },
   "outputs": [],
   "source": [
    "### run twice for annotation on/off ###\n",
    "### param ###\n",
    "plot_hint = True\n",
    "\n",
    "start = '2015-01-01'\n",
    "\n",
    "title = 'SWEDEN monthly Expected, Observed (Non-Covid,Covid) Deaths {} - {} (prel.)\\nbaseline : 15-18\\nDataSource : Folkhälsomyndigheten, scb.se'.format(\n",
    "start,last_date.date())\n",
    "\n",
    "fig,ax = plt.subplots(figsize=(18,12))\n",
    "monthly_exp_fhm_scb[start:].plot(title=title,\n",
    "    y=['non_covid_dead','covid_dead'],stacked=True,kind='bar',ax=ax,color=['orange','red'])\n",
    "\n",
    "monthly_exp_fhm_scb[start:].plot(y='all_cause_expected',ax=ax,facecolor='none',edgecolor='k',kind='bar')\n",
    "\n",
    "xticks = monthly_exp_fhm_scb[start:].index.date\n",
    "_= ax.set_xticklabels(xticks)\n",
    "\n",
    "if plot_hint :\n",
    "    arrow_properties = dict(\n",
    "        facecolor=\"green\", width=5,\n",
    "        headwidth=10, shrink=1)\n",
    "\n",
    "    arrow_x = 43\n",
    "    arrow_y = 7100\n",
    "    label_x = 40\n",
    "    label_y = 10000\n",
    "\n",
    "    ax.annotate('Pre-Pandemic\\nDeath Deficit\\nStart',xy=(arrow_x,arrow_y),\n",
    "           xytext = (label_x,label_y),color='green',\n",
    "           arrowprops = arrow_properties)\n",
    "    \n",
    "    arrow_x = 73\n",
    "    arrow_y = 8600\n",
    "    label_x = 73\n",
    "    label_y = 10000\n",
    "    \n",
    "    ax.annotate('Post-Pandemic\\nDeath Deficit\\nStart',xy=(arrow_x,arrow_y),\n",
    "               xytext = (label_x,label_y),color='green',arrowprops=arrow_properties)\n",
    "\n",
    "\n",
    "ax.set_ylabel('deaths')\n",
    "ax.set_xlabel('month end')\n",
    "\n",
    "ax.legend(loc='upper left',framealpha=0.3)\n",
    "\n",
    "tick_loc = ax.get_xticks()\n",
    "print (tick_loc)\n",
    "\n",
    "for i in range(0,len(tick_loc),12):\n",
    "    ax.axvline(i,ls='dashed',color='grey')\n",
    "    \n",
    "ax.set_yticks(np.arange(0,11000,500))\n",
    "\n",
    "plt.savefig('scb_excess_monthly_exp_fhm_scb_{}.jpg'.format(plot_hint),format='jpg')"
   ]
  },
  {
   "cell_type": "code",
   "execution_count": null,
   "metadata": {},
   "outputs": [],
   "source": [
    "monthly_exp_fhm_scb.loc['2019':,'all_cause_expected']"
   ]
  },
  {
   "cell_type": "code",
   "execution_count": null,
   "metadata": {},
   "outputs": [],
   "source": [
    "monthly_exp_fhm_scb['all_cause_expected'].plot(figsize=(18,12),marker='o')"
   ]
  },
  {
   "cell_type": "code",
   "execution_count": null,
   "metadata": {},
   "outputs": [],
   "source": [
    "### at end of 2020 the old grew less than normal, so old pop 2021 was relatively low ###\n",
    "pop_age_df.groupby(['year','scb_prel_age_bin']).sum().loc['2015':].unstack().droplevel(0,axis=1) -\\\n",
    "pop_age_df.groupby(['year','scb_prel_age_bin']).sum().loc['2015':].unstack().droplevel(0,axis=1).shift()"
   ]
  },
  {
   "cell_type": "code",
   "execution_count": null,
   "metadata": {},
   "outputs": [],
   "source": [
    "season_age_grp_monthly_mort"
   ]
  },
  {
   "cell_type": "code",
   "execution_count": null,
   "metadata": {},
   "outputs": [],
   "source": [
    "season_age_grp_pop"
   ]
  },
  {
   "cell_type": "code",
   "execution_count": null,
   "metadata": {},
   "outputs": [],
   "source": [
    "ax = season_monthly.sum(axis=1).plot(figsize=(18,12),color='red',marker='o')\n",
    "ax2 = plt.twinx()\n",
    "season_age_grp_pop.loc[:,'65-79':].sum(axis=1).plot(ax=ax2,marker='o')"
   ]
  },
  {
   "cell_type": "code",
   "execution_count": null,
   "metadata": {},
   "outputs": [],
   "source": [
    "age_grp_deaths_per_month\n"
   ]
  },
  {
   "cell_type": "code",
   "execution_count": null,
   "metadata": {},
   "outputs": [],
   "source": [
    "l = len(mort_1860.loc['1960':])\n",
    "\n",
    "first = ['b','r','b','b','b','b','b','b','r']\n",
    "last = ['b'] * (l - len(first))\n",
    "\n",
    "colors = first + last\n",
    "title = 'SWEDEN Sorted Mortality 1960 - 2021\\nDataSource : scb.se'\n",
    "ax = mort_1860.loc['1960':].sort_values().plot(figsize=(18,12),kind='bar',color=colors,title=title)\n",
    "\n",
    "ax.set_ylabel('mortality')\n",
    "\n",
    "plt.savefig('scb_excess_swe_mort_1960_fwd.jpg',format='jpg')"
   ]
  },
  {
   "cell_type": "code",
   "execution_count": null,
   "metadata": {},
   "outputs": [],
   "source": []
  },
  {
   "cell_type": "code",
   "execution_count": null,
   "metadata": {},
   "outputs": [],
   "source": [
    "one_year_std_pop = one_year_binned.loc['2019','pop']\n",
    "\n",
    "one_year_binned['mortality'] = one_year_binned['dead'] / one_year_binned['pop']\n",
    "one_year_binned['std_dead'] = one_year_binned['mortality'] * one_year_std_pop\n",
    "one_year_binned"
   ]
  },
  {
   "cell_type": "code",
   "execution_count": null,
   "metadata": {},
   "outputs": [],
   "source": [
    "one_year_age_adj_mortality = one_year_binned.groupby('year')['std_dead'].sum()\n",
    "one_year_age_adj_mortality = one_year_age_adj_mortality / one_year_std_pop.sum()\n",
    "one_year_age_adj_mortality"
   ]
  },
  {
   "cell_type": "code",
   "execution_count": null,
   "metadata": {},
   "outputs": [],
   "source": [
    "title = 'SWEDEN Age Adj. Mortality, one year age bins, std pop 2019\\nDataSource : scb.se'\n",
    "ax = one_year_age_adj_mortality.plot(kind='bar',figsize=(18,12),color='red',title=title)\n",
    "ax.set_ylabel('age adj. mortality')\n",
    "_= ax.set_yticks(np.arange(0,0.013,0.001))\n",
    "\n",
    "plt.savefig('scb_excess_one_year_age_adj_mortality.jpg',format='jpg')"
   ]
  },
  {
   "cell_type": "code",
   "execution_count": null,
   "metadata": {},
   "outputs": [],
   "source": [
    "mort_comp_bins = pd.concat([age_adj_mortality,one_year_age_adj_mortality],axis=1)\n",
    "mort_comp_bins.columns=['std_mort_64_79_89_90plus_bins','std_mort_one_year_bins']\n",
    "mort_comp_bins"
   ]
  },
  {
   "cell_type": "code",
   "execution_count": null,
   "metadata": {},
   "outputs": [],
   "source": [
    "mort_comp_bins.plot(figsize=(18,12),marker='o')"
   ]
  },
  {
   "cell_type": "code",
   "execution_count": null,
   "metadata": {},
   "outputs": [],
   "source": [
    "mort_comp_bins.plot(kind='bar',figsize=(18,12))"
   ]
  },
  {
   "cell_type": "code",
   "execution_count": null,
   "metadata": {},
   "outputs": [],
   "source": [
    "one_year_std_dead = one_year_binned['std_dead'].unstack()\n",
    "one_year_std_dead"
   ]
  },
  {
   "cell_type": "code",
   "execution_count": null,
   "metadata": {},
   "outputs": [],
   "source": [
    "one_year_diff_vs_std_year = (one_year_std_dead - one_year_std_dead.loc['2019']).sum(axis=1)\n",
    "one_year_diff_vs_std_year"
   ]
  },
  {
   "cell_type": "code",
   "execution_count": null,
   "metadata": {},
   "outputs": [],
   "source": [
    "one_year_diff_vs_std_year.plot(figsize=(18,12),marker='o')"
   ]
  },
  {
   "cell_type": "code",
   "execution_count": null,
   "metadata": {},
   "outputs": [],
   "source": [
    "colors = ['b','r','b','b','b','b','r'] + ['b'] * 12\n",
    "\n",
    "title = 'SWEDEN Age Adj. Mortality 2002-2021, [1 year bins, std. pop 2019]\\nDataSource : scb.se'\n",
    "ax = mort_comp_bins['std_mort_one_year_bins'].sort_values().plot(figsize=(18,12),kind='bar',\n",
    "                                                                 color=colors,title=title)\n",
    "\n",
    "ax.set_ylabel('mortality')\n",
    "ax.set_yticks(np.arange(0,0.012,0.001))\n",
    "\n",
    "plt.savefig('scb_excess_one_year_age_adj_mort_sorted.jpg',format='jpg')"
   ]
  },
  {
   "cell_type": "code",
   "execution_count": null,
   "metadata": {},
   "outputs": [],
   "source": [
    "one_year_prop = one_year_binned.loc['2012','mortality'] / one_year_binned.loc['2008','mortality']\n",
    "one_year_prop"
   ]
  },
  {
   "cell_type": "code",
   "execution_count": null,
   "metadata": {},
   "outputs": [],
   "source": [
    "ax = one_year_prop.loc[60:].plot(figsize=(18,12),marker='o')\n",
    "max_, min_ = one_year_prop.loc[60:].max(), one_year_prop.loc[60:].min()\n",
    "ax.set_yticks(np.arange(np.around(min_ - 0.05,2),np.around(max_ + 0.1,2),0.05))\n",
    "ax.axhline(1,ls='dashed',color='k')"
   ]
  },
  {
   "cell_type": "code",
   "execution_count": null,
   "metadata": {},
   "outputs": [],
   "source": [
    "monthly_age_mortality"
   ]
  },
  {
   "cell_type": "code",
   "execution_count": null,
   "metadata": {},
   "outputs": [],
   "source": [
    "latest_month = monthly_age_mortality.index[-2].month_name()[:3]"
   ]
  },
  {
   "cell_type": "code",
   "execution_count": null,
   "metadata": {
    "scrolled": false
   },
   "outputs": [],
   "source": [
    "monthly_age_mort_per_month = monthly_age_mortality[:-1].groupby(\n",
    "    [monthly_age_mortality[:-1].index.month,monthly_age_mortality[:-1].index.year]).mean()\n",
    "\n",
    "monthly_age_mort_per_month.plot(subplots=True,kind='bar',figsize=(18,12),sharey=False)"
   ]
  },
  {
   "cell_type": "code",
   "execution_count": null,
   "metadata": {},
   "outputs": [],
   "source": [
    "monthly_age_mort_per_month"
   ]
  },
  {
   "cell_type": "code",
   "execution_count": null,
   "metadata": {
    "scrolled": false
   },
   "outputs": [],
   "source": [
    "def plot_age_grp_mort(grp):\n",
    "    \n",
    "    months = ['Jan','Feb','Mar','Apr','May','Jun',\n",
    "            'Jul','Aug','Sep','Oct','Nov','Dec']\n",
    "    \n",
    "    month_map = dict(zip([1,2,3,4,5,6,7,8,9,10,11,12],[e.upper() for e in months]))\n",
    "    \n",
    "    fig,axes = plt.subplots(3,4,figsize=(18,12),sharey=True)\n",
    "    \n",
    "    sup_title = 'SWEDEN Ranked Monthly Age Group Monthly Mortality Jan 2015-' +\\\n",
    "    latest_month +' 2022 for age group {}\\n2020 : RED, 2021 : ORANGE, 2022 : GREEN\\n2019 : GREY\\nDataSource : scb.se'.format(grp)\n",
    "    \n",
    "    grps = monthly_age_mort_per_month.groupby(monthly_age_mort_per_month.index.get_level_values(0))\n",
    "\n",
    "    idx = 0\n",
    "    row = 0\n",
    "    col = 0\n",
    "    \n",
    "    plt.suptitle(sup_title)\n",
    "    \n",
    "    color_map = dict(zip([2019,2020,2021,2022],['grey','red','orange','green']))\n",
    "    \n",
    "    ranks = pd.DataFrame()\n",
    "    \n",
    "    for month in range(1,13):\n",
    "        \n",
    "        g = grps.get_group(month)\n",
    "        g = g.sort_values(grp)\n",
    "        \n",
    "        idx = pd.IndexSlice\n",
    "\n",
    "        rank = g[grp].rank()\n",
    "        # the first version gives warnings since the number of years is not uniform #\n",
    "        #mean_pandemic_rank = (rank.loc[idx[:,[2020,2021,2022]]].mean()) \n",
    "        #mean_pandemic_rank = rank.loc[rank.index.isin([2020,2021,2022],level=1)].mean()\n",
    "        \n",
    "        mean_pandemic_rank = (rank.loc[rank.index.isin([2020,2021,2022],level=1)].sum()) / len(g)\n",
    "        \n",
    "        # do we have 7 or 8 years for the particular month ? #\n",
    "        #max_rank = [(13/2)  if len(g) == 7 else (21/3) ]\n",
    "        \n",
    "        max_rank = [13 / len(g)  if len(g) == 7 else 21 / len(g)  ]\n",
    "              \n",
    "        pct_of_max_rank = mean_pandemic_rank / max_rank\n",
    "        \n",
    "        xticks = g.index.get_level_values(1).values\n",
    "        \n",
    "        colors = [color_map[xticks[i]] if xticks[i] in color_map else 'lightgrey' for i in range(len(xticks))]\n",
    "        \n",
    "        ax = g.plot(ax = axes[row,col],legend=False,kind='bar',y=grp,color=colors)\n",
    "        ax.set_title('{} '.format(month_map[month]))\n",
    "        ax.set_xticks(np.arange(len(g)))\n",
    "        ax.set_xticklabels(xticks,rotation=90)\n",
    "        ax.set_xlabel('year')\n",
    "\n",
    "        if col == 3:\n",
    "            col = 0\n",
    "            row += 1\n",
    "        else:\n",
    "            col += 1\n",
    "\n",
    "    plt.tight_layout()\n",
    "    \n",
    "age_grps = ['-64','65-79','80-89','90+']\n",
    "\n",
    "\n",
    "for grp in age_grps:\n",
    "    plot_age_grp_mort(grp)\n",
    "    \n",
    "    plt.savefig('scb_excess_monthly_age_adj_mortality_sorted_{}_.jpg'.format(grp))\n",
    "    \n"
   ]
  },
  {
   "cell_type": "code",
   "execution_count": null,
   "metadata": {},
   "outputs": [],
   "source": [
    "pop_age_proportions = (pop_age_df.groupby(['year','scb_prel_age_bin']).sum() / pop_age_df.groupby(['year']).sum()).unstack()\\\n",
    ".droplevel(0,axis=1)\n",
    "\n",
    "title = 'SWEDEN Population age group cumulative proportions, 2002-2021\\nDataSource : scb.se'\n",
    "ax = pop_age_proportions.plot(figsize=(18,12),kind='bar',stacked=True,title=title)\n",
    "ax.set_ylabel('age grp cumulative proportion')\n",
    "\n",
    "plt.savefig('scb_excess_pop_age_proportions.jpg',format='jpg')\n",
    "pop_age_proportions"
   ]
  },
  {
   "cell_type": "code",
   "execution_count": null,
   "metadata": {},
   "outputs": [],
   "source": [
    "dead_15_30 = (dead_age_df.groupby(['year','num_age'])['dead'].sum()).unstack().loc[:,15:30].sum(axis=1)\n",
    "dead_15_30.name = 'dead_15_30'\n",
    "dead_15_30.plot(kind='bar')\n",
    "dead_15_30"
   ]
  },
  {
   "cell_type": "code",
   "execution_count": null,
   "metadata": {},
   "outputs": [],
   "source": [
    "killed_by_guns = pd.DataFrame.from_dict(zip(\n",
    "    ['2017','2018','2019','2020','2021'],[36,43,45,47,45]))\n",
    "\n",
    "killed_by_guns.columns=['year','killed_by_guns']\n",
    "killed_by_guns.set_index('year',inplace=True)\n",
    "killed_by_guns"
   ]
  },
  {
   "cell_type": "code",
   "execution_count": null,
   "metadata": {},
   "outputs": [],
   "source": [
    "dead_15_30_and_total_killed_by_guns = killed_by_guns.join(dead_15_30)\n",
    "dead_15_30_and_total_killed_by_guns['proportion'] = dead_15_30_and_total_killed_by_guns['killed_by_guns']/\\\n",
    "dead_15_30_and_total_killed_by_guns['dead_15_30']\n",
    "dead_15_30_and_total_killed_by_guns"
   ]
  },
  {
   "cell_type": "code",
   "execution_count": null,
   "metadata": {},
   "outputs": [],
   "source": [
    "mars = monthly_exp_fhm_scb.loc[monthly_exp_fhm_scb.index.month==3]\n",
    "xticks = mars.index.date\n",
    "ax = mars.plot(kind='bar',figsize=(18,12),y=['all_cause_dead','all_cause_expected'])\n",
    "ax.set_xticklabels(xticks)"
   ]
  },
  {
   "cell_type": "code",
   "execution_count": null,
   "metadata": {},
   "outputs": [],
   "source": [
    "hist_dead_monthly_url = 'https://api.scb.se/OV0104/v1/doris/sv/ssd/START/BE/BE0101/BE0101G/ManadFoddDod'\n",
    "\n",
    "hist_dead_monthly_query = {\n",
    "  \"query\": [\n",
    "    {\n",
    "      \"code\": \"Kon\",\n",
    "      \"selection\": {\n",
    "        \"filter\": \"item\",\n",
    "        \"values\": [\n",
    "          \"1\",\n",
    "          \"2\"\n",
    "        ]\n",
    "      }\n",
    "    },\n",
    "    {\n",
    "      \"code\": \"Manad\",\n",
    "      \"selection\": {\n",
    "        \"filter\": \"item\",\n",
    "        \"values\": [\n",
    "          \"01\",\n",
    "          \"02\",\n",
    "          \"03\",\n",
    "          \"04\",\n",
    "          \"05\",\n",
    "          \"06\",\n",
    "          \"07\",\n",
    "          \"08\",\n",
    "          \"09\",\n",
    "          \"10\",\n",
    "          \"11\",\n",
    "          \"12\",\n",
    "          \"90\"\n",
    "        ]\n",
    "      }\n",
    "    },\n",
    "    {\n",
    "      \"code\": \"ContentsCode\",\n",
    "      \"selection\": {\n",
    "        \"filter\": \"item\",\n",
    "        \"values\": [\n",
    "          \"000000NF\"\n",
    "        ]\n",
    "      }\n",
    "    }\n",
    "  ],\n",
    "  \"response\": {\n",
    "    \"format\": \"json\"\n",
    "  }\n",
    "}"
   ]
  },
  {
   "cell_type": "code",
   "execution_count": null,
   "metadata": {},
   "outputs": [],
   "source": [
    "hist_dead_r = requests.post(hist_dead_monthly_url,json=hist_dead_monthly_query)\n",
    "hist_dead_r"
   ]
  },
  {
   "cell_type": "code",
   "execution_count": null,
   "metadata": {},
   "outputs": [],
   "source": [
    "hist_dead_json = hist_dead_r.json()['data']\n",
    "hist_monthly_dead_df = pd.DataFrame.from_dict(hist_dead_json)\n",
    "\n",
    "### gender, month, year, value ###\n",
    "hist_monthly_dead_df"
   ]
  },
  {
   "cell_type": "code",
   "execution_count": null,
   "metadata": {},
   "outputs": [],
   "source": [
    "hist_monthly_dead_df[['gender','month','year']] = hist_monthly_dead_df['key'].to_list()\n",
    "hist_monthly_dead_df['dead'] = hist_monthly_dead_df['values'].apply(lambda x :x[0])\n",
    "hist_monthly_dead_df.drop(['key','values'],axis=1,inplace=True)\n",
    "hist_monthly_dead_df['month'] = hist_monthly_dead_df['month'].replace('^0','',regex=True)\n",
    "hist_monthly_dead_df = hist_monthly_dead_df.astype(int)\n",
    "hist_monthly_dead_df"
   ]
  },
  {
   "cell_type": "code",
   "execution_count": null,
   "metadata": {},
   "outputs": [],
   "source": [
    "hist_monthly_dead_df = hist_monthly_dead_df.groupby(['year','month'])['dead'].sum().unstack()\n",
    "hist_monthly_dead_df"
   ]
  },
  {
   "cell_type": "code",
   "execution_count": null,
   "metadata": {},
   "outputs": [],
   "source": [
    "hist_monthly_known = hist_monthly_dead_df.iloc[:,:-1].sum(axis=1)\n",
    "hist_monthly_known"
   ]
  },
  {
   "cell_type": "code",
   "execution_count": null,
   "metadata": {},
   "outputs": [],
   "source": [
    "hist_monthly_prop_dead = hist_monthly_dead_df.iloc[:,:-1].div(hist_monthly_known,axis=0)\n",
    "hist_monthly_prop_dead"
   ]
  },
  {
   "cell_type": "code",
   "execution_count": null,
   "metadata": {},
   "outputs": [],
   "source": [
    "hist_monthly_addons = hist_monthly_prop_dead.mul(hist_monthly_dead_df[90],axis=0)\n",
    "hist_monthly_addons"
   ]
  },
  {
   "cell_type": "code",
   "execution_count": null,
   "metadata": {},
   "outputs": [],
   "source": [
    "hist_monthly_dead_df_corrected = hist_monthly_addons + hist_monthly_dead_df.iloc[:,:-1]\n",
    "hist_monthly_dead_df_corrected"
   ]
  },
  {
   "cell_type": "code",
   "execution_count": null,
   "metadata": {},
   "outputs": [],
   "source": [
    "title = 'SWEDEN Cumulative Monthly deaths 1851 - 2021\\nDataSource : scb.se'\n",
    "ax = hist_monthly_dead_df_corrected.plot(kind='bar',stacked=True,figsize=(18,12),title=title)\n",
    "ax.set_ylabel('nr. deaths')\n",
    "\n",
    "for label in ax.xaxis.get_ticklabels()[::2]:\n",
    "    label.set_visible(False)\n",
    "    \n",
    "plt.savefig('scb_excess_historical_monthly_deaths.jpg',format='jpg')"
   ]
  },
  {
   "cell_type": "code",
   "execution_count": null,
   "metadata": {},
   "outputs": [],
   "source": [
    "hist_monthly_dead_df_corrected[4].plot(figsize=(18,12),marker='o')\n",
    "hist_monthly_dead_df_corrected"
   ]
  },
  {
   "cell_type": "code",
   "execution_count": null,
   "metadata": {},
   "outputs": [],
   "source": [
    "hist_monthly_dead_df_corrected.plot(figsize=(18,12))"
   ]
  },
  {
   "cell_type": "code",
   "execution_count": null,
   "metadata": {},
   "outputs": [],
   "source": [
    "hist_monthly_dead_df_corrected"
   ]
  },
  {
   "cell_type": "code",
   "execution_count": null,
   "metadata": {},
   "outputs": [],
   "source": [
    "hist_pop_url = 'https://api.scb.se/OV0104/v1/doris/sv/ssd/START/BE/BE0101/BE0101A/BefolkningR1860N'\n",
    "\n",
    "hist_pop_query = {\n",
    "  \"query\": [\n",
    "    {\n",
    "      \"code\": \"Alder\",\n",
    "      \"selection\": {\n",
    "        \"filter\": \"vs:ÅlderTotA\",\n",
    "        \"values\": [\n",
    "          \"tot\"\n",
    "        ]\n",
    "      }\n",
    "    },\n",
    "    {\n",
    "      \"code\": \"Kon\",\n",
    "      \"selection\": {\n",
    "        \"filter\": \"item\",\n",
    "        \"values\": [\n",
    "          \"1\",\n",
    "          \"2\"\n",
    "        ]\n",
    "      }\n",
    "    }\n",
    "  ],\n",
    "  \"response\": {\n",
    "    \"format\": \"json\"\n",
    "  }\n",
    "}"
   ]
  },
  {
   "cell_type": "code",
   "execution_count": null,
   "metadata": {},
   "outputs": [],
   "source": [
    "hist_pop_r = requests.post(hist_pop_url,json=hist_pop_query)\n",
    "hist_pop_r"
   ]
  },
  {
   "cell_type": "code",
   "execution_count": null,
   "metadata": {},
   "outputs": [],
   "source": [
    "hist_pop_json = hist_pop_r.json()['data']\n",
    "hist_pop_json"
   ]
  },
  {
   "cell_type": "code",
   "execution_count": null,
   "metadata": {},
   "outputs": [],
   "source": [
    "hist_pop_df = pd.DataFrame.from_dict(hist_pop_json)\n",
    "hist_pop_df"
   ]
  },
  {
   "cell_type": "code",
   "execution_count": null,
   "metadata": {},
   "outputs": [],
   "source": [
    "hist_pop_df[['tot','gender','year']] = hist_pop_df['key'].to_list()\n",
    "hist_pop_df['pop'] = hist_pop_df['values'].apply(lambda x : x[0])\n",
    "hist_pop_df.drop(['tot','key','values'],axis=1,inplace=True)\n",
    "\n",
    "hist_pop_df = hist_pop_df.astype(int)\n",
    "hist_pop_df"
   ]
  },
  {
   "cell_type": "code",
   "execution_count": null,
   "metadata": {},
   "outputs": [],
   "source": [
    "hist_pop_df = hist_pop_df.groupby('year')['pop'].sum()\n",
    "hist_pop_df"
   ]
  },
  {
   "cell_type": "code",
   "execution_count": null,
   "metadata": {},
   "outputs": [],
   "source": [
    "### NOT AGE ADJ ###\n",
    "hist_mortality = (hist_monthly_dead_df_corrected.div(hist_pop_df,axis=0).dropna()).sum(axis=1)\n",
    "hist_mortality.plot(kind='bar',figsize=(18,12))"
   ]
  },
  {
   "cell_type": "code",
   "execution_count": null,
   "metadata": {},
   "outputs": [],
   "source": []
  },
  {
   "cell_type": "code",
   "execution_count": null,
   "metadata": {},
   "outputs": [],
   "source": [
    "hist_monthly_mort = hist_monthly_dead_df_corrected.div(hist_pop_df,axis=0).dropna()\n",
    "hist_monthly_mort"
   ]
  },
  {
   "cell_type": "code",
   "execution_count": null,
   "metadata": {},
   "outputs": [],
   "source": [
    "title = 'SWEDEN Crude Cumulative Monthly Mortality Rate 1860-2021\\nDataSource : scb.se'\n",
    "ax = hist_monthly_mort.plot(kind='bar',stacked=True,figsize=(18,12),title=title)\n",
    "\n",
    "for label in ax.xaxis.get_ticklabels()[::2]:\n",
    "    label.set_visible(False)\n",
    "    \n",
    "ax.set_ylabel('mortality')\n",
    "\n",
    "plt.savefig('scb_excess_hist_monthly_mortality.jpg',format='jpg')"
   ]
  },
  {
   "cell_type": "code",
   "execution_count": null,
   "metadata": {},
   "outputs": [],
   "source": [
    "title = 'SWEDEN Crude Cumulative Monthly Mortality Rate 2000-2021\\nDataSource : scb.se'\n",
    "ax = hist_monthly_mort.loc[2000:].plot(kind='bar',stacked=True,figsize=(18,12),title=title)\n",
    "print (ax.get_xticks())\n",
    "ax.legend(bbox_to_anchor =(1.1, 1.),title='month')\n",
    "ax.set_ylabel('mortality')\n",
    "plt.savefig('scb_excess_hist_monthly_mort_zoom.jpg',format='jpg')"
   ]
  },
  {
   "cell_type": "code",
   "execution_count": null,
   "metadata": {},
   "outputs": [],
   "source": [
    "ax = pop_age_df.loc['2019'].plot(figsize=(18,12),marker='o')\n",
    "pop_age_df.loc['2021'].plot(ax=ax,marker='x')"
   ]
  },
  {
   "cell_type": "code",
   "execution_count": null,
   "metadata": {},
   "outputs": [],
   "source": [
    "ax = pop_age_df['pop'].unstack().plot(kind='bar',stacked=True,figsize=(18,12))\n",
    "ax.legend(bbox_to_anchor =(1.1, 1.),title='age')\n"
   ]
  },
  {
   "cell_type": "code",
   "execution_count": null,
   "metadata": {},
   "outputs": [],
   "source": [
    "(pop_age_df.groupby(['year','10_y_bin']).sum().unstack()).droplevel(0,axis=1).plot(figsize=(18,12),\n",
    "                                                                                  kind='bar',stacked=True)"
   ]
  },
  {
   "cell_type": "code",
   "execution_count": null,
   "metadata": {},
   "outputs": [],
   "source": [
    "pop_age_10_y = (pop_age_df.groupby(['year','10_y_bin']).sum().unstack()).droplevel(0,axis=1)\n",
    "pop_age_10_growth = pop_age_10_y / pop_age_10_y.shift()\n",
    "pop_age_10_growth.agg(['idxmin','min','idxmax','max'])\n",
    "pop_age_10_growth"
   ]
  },
  {
   "cell_type": "code",
   "execution_count": null,
   "metadata": {},
   "outputs": [],
   "source": [
    "pop_age_10_growth.loc[:,:'50-59'].plot(figsize=(18,12),marker='o')\n",
    "pop_age_10_growth.loc[:,'50-59':].plot(figsize=(18,12),marker='o')"
   ]
  },
  {
   "cell_type": "code",
   "execution_count": null,
   "metadata": {},
   "outputs": [],
   "source": [
    "dead_age_df.groupby(['year','10_y_bin']).sum()['dead'].unstack().plot(kind='bar',stacked=True,figsize=(18,12))\n"
   ]
  }
 ],
 "metadata": {
  "kernelspec": {
   "display_name": "Python 3 (ipykernel)",
   "language": "python",
   "name": "python3"
  },
  "language_info": {
   "codemirror_mode": {
    "name": "ipython",
    "version": 3
   },
   "file_extension": ".py",
   "mimetype": "text/x-python",
   "name": "python",
   "nbconvert_exporter": "python",
   "pygments_lexer": "ipython3",
   "version": "3.9.12"
  }
 },
 "nbformat": 4,
 "nbformat_minor": 4
}
