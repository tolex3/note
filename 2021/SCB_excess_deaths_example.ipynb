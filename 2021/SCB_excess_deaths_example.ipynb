{
 "cells": [
  {
   "cell_type": "code",
   "execution_count": null,
   "metadata": {},
   "outputs": [],
   "source": [
    "### DISCOVERED AN ERROR IN SCB'S AGE GRP PREL DATA (TABELL 2) , VERIFIED FOR 2015, PROBABLY SAME UP INC 2019 ###\n",
    "### 90+ AGE GRP CONTAINS TOO FEW (22167) DEATHS. FETCHING THE DATA FROM THE OFFICIAL DATABASE - ###\n",
    "### GIVES 24083 ###\n",
    "\n",
    "#### EXPLANATION OF THE DIFFERENCE IS THAT THE PREL.DATA IS AGE REACHED AT TIME OF DEATH ####\n",
    "#### WHILE THE OFFICIAL DATA I USED INITIALLY IS AGE AT END-OF-YEAR ####\n",
    "#### REPLACING THE URL TO OFFICIAL DATA TO POINT AT A PAGE WHERE DEATHS ARE COUNTED AS FOR THE PREL.DATA ####\n",
    "#### REMOVES THE DIFFERENCE ! ####\n",
    "\n",
    "### ALL CODE BELOW PREFIXED BY 'BUG' IS DUE TO THIS PROBLEM ###"
   ]
  },
  {
   "cell_type": "code",
   "execution_count": null,
   "metadata": {},
   "outputs": [],
   "source": [
    "import numpy as np\n",
    "import matplotlib.pyplot as plt\n",
    "import seaborn as sns\n",
    "import pandas as pd\n",
    "import requests\n",
    "\n",
    "sns.set()"
   ]
  },
  {
   "cell_type": "raw",
   "metadata": {},
   "source": [
    "'''\n",
    "This program computes various stats on Swedish mortality, non-age-adjusted and age-adjusted.\n",
    "'''"
   ]
  },
  {
   "cell_type": "code",
   "execution_count": null,
   "metadata": {},
   "outputs": [],
   "source": [
    "# define parameters for SCB's JSON API for population data #\n",
    "# don't forget to change the default 'px' response format to 'json' bottom of the pop_query data struct # \n",
    "\n",
    "pop_url = 'http://api.scb.se/OV0104/v1/doris/en/ssd/START/BE/BE0101/BE0101A/FolkmangdNov'\n",
    "\n",
    "pop_query = {\n",
    "  \"query\": [\n",
    "    {\n",
    "      \"code\": \"Region\",\n",
    "      \"selection\": {\n",
    "        \"filter\": \"vs:RegionRiket99\",\n",
    "        \"values\": [\n",
    "          \"00\"\n",
    "        ]\n",
    "      }\n",
    "    },\n",
    "    {\n",
    "      \"code\": \"Alder\",\n",
    "      \"selection\": {\n",
    "        \"filter\": \"vs:Ålder1årA\",\n",
    "        \"values\": [\n",
    "          \"0\",\n",
    "          \"1\",\n",
    "          \"2\",\n",
    "          \"3\",\n",
    "          \"4\",\n",
    "          \"5\",\n",
    "          \"6\",\n",
    "          \"7\",\n",
    "          \"8\",\n",
    "          \"9\",\n",
    "          \"10\",\n",
    "          \"11\",\n",
    "          \"12\",\n",
    "          \"13\",\n",
    "          \"14\",\n",
    "          \"15\",\n",
    "          \"16\",\n",
    "          \"17\",\n",
    "          \"18\",\n",
    "          \"19\",\n",
    "          \"20\",\n",
    "          \"21\",\n",
    "          \"22\",\n",
    "          \"23\",\n",
    "          \"24\",\n",
    "          \"25\",\n",
    "          \"26\",\n",
    "          \"27\",\n",
    "          \"28\",\n",
    "          \"29\",\n",
    "          \"30\",\n",
    "          \"31\",\n",
    "          \"32\",\n",
    "          \"33\",\n",
    "          \"34\",\n",
    "          \"35\",\n",
    "          \"36\",\n",
    "          \"37\",\n",
    "          \"38\",\n",
    "          \"39\",\n",
    "          \"40\",\n",
    "          \"41\",\n",
    "          \"42\",\n",
    "          \"43\",\n",
    "          \"44\",\n",
    "          \"45\",\n",
    "          \"46\",\n",
    "          \"47\",\n",
    "          \"48\",\n",
    "          \"49\",\n",
    "          \"50\",\n",
    "          \"51\",\n",
    "          \"52\",\n",
    "          \"53\",\n",
    "          \"54\",\n",
    "          \"55\",\n",
    "          \"56\",\n",
    "          \"57\",\n",
    "          \"58\",\n",
    "          \"59\",\n",
    "          \"60\",\n",
    "          \"61\",\n",
    "          \"62\",\n",
    "          \"63\",\n",
    "          \"64\",\n",
    "          \"65\",\n",
    "          \"66\",\n",
    "          \"67\",\n",
    "          \"68\",\n",
    "          \"69\",\n",
    "          \"70\",\n",
    "          \"71\",\n",
    "          \"72\",\n",
    "          \"73\",\n",
    "          \"74\",\n",
    "          \"75\",\n",
    "          \"76\",\n",
    "          \"77\",\n",
    "          \"78\",\n",
    "          \"79\",\n",
    "          \"80\",\n",
    "          \"81\",\n",
    "          \"82\",\n",
    "          \"83\",\n",
    "          \"84\",\n",
    "          \"85\",\n",
    "          \"86\",\n",
    "          \"87\",\n",
    "          \"88\",\n",
    "          \"89\",\n",
    "          \"90\",\n",
    "          \"91\",\n",
    "          \"92\",\n",
    "          \"93\",\n",
    "          \"94\",\n",
    "          \"95\",\n",
    "          \"96\",\n",
    "          \"97\",\n",
    "          \"98\",\n",
    "          \"99\",\n",
    "          \"100+\"\n",
    "        ]\n",
    "      }\n",
    "    },\n",
    "    {\n",
    "      \"code\": \"Kon\",\n",
    "      \"selection\": {\n",
    "        \"filter\": \"item\",\n",
    "        \"values\": [\n",
    "          \"1\",\n",
    "          \"2\"\n",
    "        ]\n",
    "      }\n",
    "    }\n",
    "  ],\n",
    "  \"response\": {\n",
    "    \"format\": \"json\"\n",
    "  }\n",
    "}"
   ]
  },
  {
   "cell_type": "code",
   "execution_count": null,
   "metadata": {},
   "outputs": [],
   "source": [
    "# define parameters for SCB's JSON API for death data #\n",
    "# don't forget to change the default 'px' response format to 'json' bottom of the dead_query data struct #\n",
    "\n",
    "# DEAD AT AGE BY END OF YEAR #\n",
    "#dead_url = 'http://api.scb.se/OV0104/v1/doris/en/ssd/START/BE/BE0101/BE0101I/DodaFodelsearK'\n",
    "\n",
    "# DEAD AT AGE REACHED AT TIME OF DEATH #\n",
    "dead_url = 'http://api.scb.se/OV0104/v1/doris/sv/ssd/START/BE/BE0101/BE0101I/DodaHandelseK'\n",
    "\n",
    "dead_query = {\n",
    "  \"query\": [\n",
    "    {\n",
    "      \"code\": \"Region\",\n",
    "      \"selection\": {\n",
    "        \"filter\": \"vs:RegionRiket99\",\n",
    "        \"values\": [\n",
    "          \"00\"\n",
    "        ]\n",
    "      }\n",
    "    },\n",
    "    {\n",
    "      \"code\": \"Alder\",\n",
    "      \"selection\": {\n",
    "        \"filter\": \"vs:Ålder1årA\",\n",
    "        \"values\": [\n",
    "          \"0\",\n",
    "          \"1\",\n",
    "          \"2\",\n",
    "          \"3\",\n",
    "          \"4\",\n",
    "          \"5\",\n",
    "          \"6\",\n",
    "          \"7\",\n",
    "          \"8\",\n",
    "          \"9\",\n",
    "          \"10\",\n",
    "          \"11\",\n",
    "          \"12\",\n",
    "          \"13\",\n",
    "          \"14\",\n",
    "          \"15\",\n",
    "          \"16\",\n",
    "          \"17\",\n",
    "          \"18\",\n",
    "          \"19\",\n",
    "          \"20\",\n",
    "          \"21\",\n",
    "          \"22\",\n",
    "          \"23\",\n",
    "          \"24\",\n",
    "          \"25\",\n",
    "          \"26\",\n",
    "          \"27\",\n",
    "          \"28\",\n",
    "          \"29\",\n",
    "          \"30\",\n",
    "          \"31\",\n",
    "          \"32\",\n",
    "          \"33\",\n",
    "          \"34\",\n",
    "          \"35\",\n",
    "          \"36\",\n",
    "          \"37\",\n",
    "          \"38\",\n",
    "          \"39\",\n",
    "          \"40\",\n",
    "          \"41\",\n",
    "          \"42\",\n",
    "          \"43\",\n",
    "          \"44\",\n",
    "          \"45\",\n",
    "          \"46\",\n",
    "          \"47\",\n",
    "          \"48\",\n",
    "          \"49\",\n",
    "          \"50\",\n",
    "          \"51\",\n",
    "          \"52\",\n",
    "          \"53\",\n",
    "          \"54\",\n",
    "          \"55\",\n",
    "          \"56\",\n",
    "          \"57\",\n",
    "          \"58\",\n",
    "          \"59\",\n",
    "          \"60\",\n",
    "          \"61\",\n",
    "          \"62\",\n",
    "          \"63\",\n",
    "          \"64\",\n",
    "          \"65\",\n",
    "          \"66\",\n",
    "          \"67\",\n",
    "          \"68\",\n",
    "          \"69\",\n",
    "          \"70\",\n",
    "          \"71\",\n",
    "          \"72\",\n",
    "          \"73\",\n",
    "          \"74\",\n",
    "          \"75\",\n",
    "          \"76\",\n",
    "          \"77\",\n",
    "          \"78\",\n",
    "          \"79\",\n",
    "          \"80\",\n",
    "          \"81\",\n",
    "          \"82\",\n",
    "          \"83\",\n",
    "          \"84\",\n",
    "          \"85\",\n",
    "          \"86\",\n",
    "          \"87\",\n",
    "          \"88\",\n",
    "          \"89\",\n",
    "          \"90\",\n",
    "          \"91\",\n",
    "          \"92\",\n",
    "          \"93\",\n",
    "          \"94\",\n",
    "          \"95\",\n",
    "          \"96\",\n",
    "          \"97\",\n",
    "          \"98\",\n",
    "          \"99\",\n",
    "          \"100+\"\n",
    "        ]\n",
    "      }\n",
    "    },\n",
    "    {\n",
    "      \"code\": \"Kon\",\n",
    "      \"selection\": {\n",
    "        \"filter\": \"item\",\n",
    "        \"values\": [\n",
    "          \"1\",\n",
    "          \"2\"\n",
    "        ]\n",
    "      }\n",
    "    },\n",
    "    {\n",
    "      \"code\": \"Tid\",\n",
    "      \"selection\": {\n",
    "        \"filter\": \"item\",\n",
    "        \"values\": [\n",
    "          \"2002\",\n",
    "          \"2003\",\n",
    "          \"2004\",\n",
    "          \"2005\",\n",
    "          \"2006\",\n",
    "          \"2007\",\n",
    "          \"2008\",\n",
    "          \"2009\",\n",
    "          \"2010\",\n",
    "          \"2011\",\n",
    "          \"2012\",\n",
    "          \"2013\",\n",
    "          \"2014\",\n",
    "          \"2015\",\n",
    "          \"2016\",\n",
    "          \"2017\",\n",
    "          \"2018\",\n",
    "          \"2019\",\n",
    "          \"2020\"\n",
    "        ]\n",
    "      }\n",
    "    }\n",
    "  ],\n",
    "  \"response\": {\n",
    "    \"format\": \"json\"\n",
    "  }\n",
    "}"
   ]
  },
  {
   "cell_type": "code",
   "execution_count": null,
   "metadata": {},
   "outputs": [],
   "source": [
    "### function to fetch SCB population or death data, returns 3 DataFrames w. different age binnings ### \n",
    "\n",
    "def fetch_scb_data(url,query,param='pop'):\n",
    "    \n",
    "    # call the API, check HTML status code (should be 200 for success) #\n",
    "\n",
    "    r= requests.post(url,json=query)\n",
    "    print ('HTML status code fetching {}: '.format(param),r.status_code)\n",
    "    \n",
    "    # extract the json data section from the response #\n",
    "\n",
    "    json_data = r.json()['data'] # get the data section (skip metadata) #\n",
    "\n",
    "    # we get two dictionaries : 'key' and 'values' #\n",
    "    # 'key' attributes are : 'geo' (all of sweden), 'age','gender','year' #\n",
    "    # 'values' attribute is : 'population' / 'dead' #\n",
    "    \n",
    "    # check the first record to figure out the structure of the data #\n",
    "    print ('record layout for {}: '.format(param),json_data[0])\n",
    "    \n",
    "    # create a Pandas DataFrame from the list of dictionaries, and massage it to a decent structure #\n",
    "\n",
    "    age_df = pd.DataFrame.from_dict(json_data)\n",
    "    age_df[['area','age','gender','year']] = age_df['key'].to_list() # split keys to separate columns #\n",
    "\n",
    "    age_df[param] = age_df['values'].apply(\n",
    "        lambda x : x[0]).astype(int) # extract size from the values list #\n",
    "\n",
    "    age_df['num_age'] = age_df['age'].apply(\n",
    "        lambda x :x.replace('+','')).astype(int) # create numeric age column #\n",
    "\n",
    "    age_df = age_df.drop(['key','values','area'],axis=1) # delete unwanted columns #\n",
    "\n",
    "    # combine the two genders #\n",
    "    age_df = age_df.groupby(['year','num_age']).sum()\n",
    "\n",
    "    # bin the data to the same age bins that are used in SCB's prel. death data #\n",
    "    age_df['scb_prel_age_bin'] = pd.cut(age_df.index.get_level_values(1),[-1,64,79,89,200],\n",
    "                                        labels=['-64','65-79','80-89','90+'])\n",
    "    \n",
    "    # and finally, for each year, combine the 1 year age bin sums to match the 4 age bins of the prel death data #\n",
    "\n",
    "    age_scb_prel_df = age_df.groupby([age_df.index.get_level_values(0),\n",
    "                                                      'scb_prel_age_bin']).sum()\n",
    "    \n",
    "    # create a df with total yearly values #\n",
    "    df = age_scb_prel_df.groupby('year').sum()\n",
    "    \n",
    "    \n",
    "    \n",
    "\n",
    "    return age_df,age_scb_prel_df,df\n",
    "    "
   ]
  },
  {
   "cell_type": "code",
   "execution_count": null,
   "metadata": {},
   "outputs": [],
   "source": [
    "### get the population & death data from SCB ###\n",
    "pop_age_df,pop_age_scb_prel_df,pop_df = fetch_scb_data(pop_url,pop_query,param='pop')\n",
    "dead_age_df,dead_age_scb_prel_df,dead_df = fetch_scb_data(dead_url,dead_query,param='dead')\n",
    "print (pop_age_df.head())"
   ]
  },
  {
   "cell_type": "code",
   "execution_count": null,
   "metadata": {},
   "outputs": [],
   "source": [
    "### combine the pop & death data to 3 separate, complete df's with: ###\n",
    "### 1) 1 year age bins; 2) 4 age bins as with scb prel death data, 3) no age bins ###\n",
    "\n",
    "one_year_binned = pd.DataFrame(pop_age_df['pop']).join(dead_age_df['dead'])\n",
    "scb_prel_binned = pd.DataFrame(pop_age_scb_prel_df['pop']).join(dead_age_scb_prel_df['dead'])\n",
    "no_bins = pd.DataFrame(pop_df['pop']).join(dead_df['dead'])\n"
   ]
  },
  {
   "cell_type": "code",
   "execution_count": null,
   "metadata": {},
   "outputs": [],
   "source": [
    "scb_prel_binned"
   ]
  },
  {
   "cell_type": "code",
   "execution_count": null,
   "metadata": {},
   "outputs": [],
   "source": [
    "scb_prel_binned"
   ]
  },
  {
   "cell_type": "code",
   "execution_count": null,
   "metadata": {},
   "outputs": [],
   "source": [
    "### now we need to fetch the 2020 prel death data which do no yet reside in the scb database ###\n",
    "'''\n",
    "scb_prel_url = \"https://www.scb.se/hitta-statistik/statistik-efter-amne/befolkning/'\\\n",
    "'befolkningens-sammansattning/befolkningsstatistik/pong/tabell-och-diagram/preliminar-statistik-over-doda/\"\n",
    "'''\n",
    "scb_prel_url = \"https://scb.se/link/0fec627c501e476aacf7ae328c7a4a8b.aspx\"\n",
    "scb_prel_file = pd.ExcelFile(scb_prel_url)"
   ]
  },
  {
   "cell_type": "code",
   "execution_count": null,
   "metadata": {},
   "outputs": [],
   "source": [
    "# check the sheet names #\n",
    "# Tabell 1 contains the daily, non age-binned data #\n",
    "\n",
    "scb_prel_file.sheet_names"
   ]
  },
  {
   "cell_type": "code",
   "execution_count": null,
   "metadata": {},
   "outputs": [],
   "source": [
    "last_reported_date = scb_prel_file.parse('Info',usecols=[15]).dropna()\n",
    "last_reported_date"
   ]
  },
  {
   "cell_type": "code",
   "execution_count": null,
   "metadata": {},
   "outputs": [],
   "source": [
    "# parse the prel daily death data #\n",
    "\n",
    "scb_prel_daily = scb_prel_file.parse(sheet_name='Tabell 1',skiprows=6,usecols=range(10))\n",
    "\n",
    "scb_prel_daily\n"
   ]
  },
  {
   "cell_type": "code",
   "execution_count": null,
   "metadata": {},
   "outputs": [],
   "source": [
    "# get the deaths occurred on unknown days #\n",
    "unknown_death_day = scb_prel_daily.iloc[-1,1:]\n",
    "\n",
    "# remove the unknown deaths from the df and drop the DagMånad column #\n",
    "\n",
    "scb_prel_daily = scb_prel_daily.iloc[:-1,1:]\n",
    "scb_prel_daily"
   ]
  },
  {
   "cell_type": "code",
   "execution_count": null,
   "metadata": {},
   "outputs": [],
   "source": [
    "# let's allocate the unknown deaths proportionally to the days of year #\n",
    "\n",
    "daily_proportion_of_total_deaths = scb_prel_daily / scb_prel_daily.sum()\n",
    "deaths_to_add = daily_proportion_of_total_deaths * unknown_death_day\n",
    "scb_prel_daily += deaths_to_add\n",
    "scb_prel_daily"
   ]
  },
  {
   "cell_type": "code",
   "execution_count": null,
   "metadata": {},
   "outputs": [],
   "source": [
    "total_deaths = scb_prel_daily.sum()\n",
    "total_deaths"
   ]
  },
  {
   "cell_type": "code",
   "execution_count": null,
   "metadata": {},
   "outputs": [],
   "source": [
    "### let's add the prel 2020 daily death total to no_bins df ###\n",
    "no_bins\n",
    "\n",
    "### NO NEED - offical 2020 numbers now available ###\n",
    "#no_bins.loc['2020','dead'] = total_deaths['2020']\n",
    "#no_bins"
   ]
  },
  {
   "cell_type": "code",
   "execution_count": null,
   "metadata": {},
   "outputs": [],
   "source": [
    "### get the age group binned prel death data ###\n",
    "scb_prel_age = scb_prel_file.parse('Tabell 2',skiprows=7,usecols=[0,1,4,5,6,7,9,10,11,12])\n",
    "\n",
    "scb_prel_age = scb_prel_age.loc[scb_prel_age['År'] == 2020]\n",
    "scb_prel_age = scb_prel_age[::-1] # reverse order\n",
    "scb_prel_age.drop(['År','DagMånad'],axis=1,inplace=True)\n",
    "\n",
    "scb_prel_age\n"
   ]
  },
  {
   "cell_type": "code",
   "execution_count": null,
   "metadata": {},
   "outputs": [],
   "source": [
    "### function to combine gender specific deaths per age group to age grp total ###\n",
    "\n",
    "def combine_ages(col):\n",
    "    \n",
    "    class AgeError(Exception):\n",
    "        pass\n",
    "    \n",
    "    if '0-64' in col:\n",
    "        return '-64'\n",
    "    if '65-79' in col:\n",
    "        return '65-79'\n",
    "    if '80-89' in col:\n",
    "        return '80-89'\n",
    "    if '90+' in col:\n",
    "        return '90+'\n",
    "    else:\n",
    "        return AgeError('no such age group')\n",
    "    "
   ]
  },
  {
   "cell_type": "code",
   "execution_count": null,
   "metadata": {
    "scrolled": false
   },
   "outputs": [],
   "source": [
    "### combine the two genders ###\n",
    "scb_prel_age = scb_prel_age.groupby(combine_ages,axis=1).sum()\n",
    "scb_prel_age"
   ]
  },
  {
   "cell_type": "code",
   "execution_count": null,
   "metadata": {},
   "outputs": [],
   "source": [
    "unknown_2020_age_date = scb_prel_age.iloc[0] # get deaths with unknown date #\n",
    "scb_prel_age = scb_prel_age.iloc[1:] # drop unknown dates from df #\n"
   ]
  },
  {
   "cell_type": "code",
   "execution_count": null,
   "metadata": {},
   "outputs": [],
   "source": [
    "### add unknown deaths proportionally to the days ###\n",
    "prop_deaths_per_day = scb_prel_age / scb_prel_age.sum()\n",
    "add_ons = prop_deaths_per_day * unknown_2020_age_date\n",
    "scb_prel_age += add_ons\n",
    "scb_prel_age.sum().sum()"
   ]
  },
  {
   "cell_type": "code",
   "execution_count": null,
   "metadata": {},
   "outputs": [],
   "source": [
    "### set datetime index ###\n",
    "scb_prel_age.index = pd.date_range('2020-01-01','2020-12-31')\n",
    "scb_prel_age"
   ]
  },
  {
   "cell_type": "code",
   "execution_count": null,
   "metadata": {},
   "outputs": [],
   "source": [
    "### totals per age group ###\n",
    "scb_age_2020_total = scb_prel_age.sum()\n",
    "scb_age_2020_total"
   ]
  },
  {
   "cell_type": "code",
   "execution_count": null,
   "metadata": {},
   "outputs": [],
   "source": [
    "### total totals for 2020 ###\n",
    "scb_age_2020_total.sum()"
   ]
  },
  {
   "cell_type": "code",
   "execution_count": null,
   "metadata": {},
   "outputs": [],
   "source": [
    "### now, let's add the 2020 prel death data to the age binned death dataframe from above ###\n",
    "\n",
    "# first we need a multi-index for 2020 for the 4 age groups # \n",
    "\n",
    "idx = pd.MultiIndex.from_arrays([ ['2020'] * len (scb_prel_age.columns), scb_prel_age.columns ])\n",
    "\n",
    "scb_age_2020_total.index = idx\n",
    "scb_age_2020_total.name='dead'\n",
    "scb_age_2020_total = pd.DataFrame(scb_age_2020_total)\n",
    "scb_age_2020_total"
   ]
  },
  {
   "cell_type": "code",
   "execution_count": null,
   "metadata": {},
   "outputs": [],
   "source": [
    "scb_prel_binned"
   ]
  },
  {
   "cell_type": "code",
   "execution_count": null,
   "metadata": {},
   "outputs": [],
   "source": [
    "### and now let's add 2020 to the scb_prel_binned_df ###\n",
    "\n",
    "### NO NEED - official numbers now available ###\n",
    "#scb_prel_binned.at['2020','dead'] = scb_age_2020_total\n",
    "scb_prel_binned"
   ]
  },
  {
   "cell_type": "code",
   "execution_count": null,
   "metadata": {},
   "outputs": [],
   "source": [
    "### yearly totals calculated on the age binned data ###\n",
    "\n",
    "scb_prel_binned.groupby('year').sum()"
   ]
  },
  {
   "cell_type": "code",
   "execution_count": null,
   "metadata": {},
   "outputs": [],
   "source": [
    "### now, let's add age group based mortality ###\n",
    "scb_prel_binned['mortality'] = scb_prel_binned['dead'] / scb_prel_binned['pop']\n",
    "scb_prel_binned.loc['2015':]"
   ]
  },
  {
   "cell_type": "code",
   "execution_count": null,
   "metadata": {},
   "outputs": [],
   "source": [
    "### let's define 2019 as our standard population, for age adjusted overall mortality ###\n",
    "### and then add 'standardized deaths', that is, absolute deaths based on ACTUAL yearly mortality ###\n",
    "### acting on the standard population. I.e we are computing the number absolute deaths given actual ###\n",
    "### mortality but as if the population age group sizes had been equal to that of the std year (2019) ###\n",
    "\n",
    "std_pop = scb_prel_binned.loc['2019','pop']\n",
    "\n",
    "scb_prel_binned['std_deaths'] = scb_prel_binned['mortality'] * std_pop\n",
    "scb_prel_binned"
   ]
  },
  {
   "cell_type": "code",
   "execution_count": null,
   "metadata": {},
   "outputs": [],
   "source": [
    "### now, to compute age adj mortality, for each year we sum the age_group std_deaths ###\n",
    "### and divide by total std_population ###\n",
    "\n",
    "age_adj_mortality = scb_prel_binned.groupby('year').sum()['std_deaths'] / std_pop.sum()\n",
    "age_adj_mortality"
   ]
  },
  {
   "cell_type": "code",
   "execution_count": null,
   "metadata": {},
   "outputs": [],
   "source": [
    "title = 'SWEDEN Age Adj. Mortality (std.pop : 2019) 2002-2020\\nDataSource : scb.se'\n",
    "colors = ['b'] * len (age_adj_mortality)\n",
    "colors[-1] = 'orange'\n",
    "\n",
    "age_adj_mortality.plot(kind='bar',figsize=(18,12),color=colors,title=title)\n",
    "plt.ylabel('age adjusted mortality')\n",
    "_= plt.yticks(np.arange(0,0.012,0.0005))\n",
    "\n",
    "plt.savefig('SCB_excess_age_adj_mortality.jpg',format='jpg')"
   ]
  },
  {
   "cell_type": "code",
   "execution_count": null,
   "metadata": {},
   "outputs": [],
   "source": [
    "### lets compute non-age-adj mortality ###\n",
    "no_bins['mortality'] = no_bins['dead'] / no_bins['pop']\n",
    "no_bins"
   ]
  },
  {
   "cell_type": "code",
   "execution_count": null,
   "metadata": {},
   "outputs": [],
   "source": [
    "title = 'SWEDEN Mortality (deaths / capita) 2002-2020\\nDataSource : scb.se'\n",
    "colors = ['b'] * len (age_adj_mortality)\n",
    "colors[-1] = 'orange'\n",
    "\n",
    "no_bins.plot(y='mortality',kind='bar',figsize=(18,12),color=colors,title=title)\n",
    "plt.ylabel('mortality')\n",
    "_= plt.yticks(np.arange(0,0.011,0.0005))\n",
    "plt.savefig('SCB_excess_mortality.jpg',format='jpg')"
   ]
  },
  {
   "cell_type": "code",
   "execution_count": null,
   "metadata": {},
   "outputs": [],
   "source": [
    "### age adj Mortality baselines ###\n",
    "\n",
    "age_adj_grp_mort_base_15_18 = scb_prel_binned.loc['2015':'2018','mortality'].groupby('scb_prel_age_bin').mean()\n",
    "age_adj_grp_mort_base_15_19 = scb_prel_binned.loc['2015' :'2019','mortality'].groupby('scb_prel_age_bin').mean()\n",
    "\n",
    "print ('base_15_18_mortality :',age_adj_grp_mort_base_15_18)\n",
    "print ()\n",
    "print ('base_15_19_mortality :',age_adj_grp_mort_base_15_19)"
   ]
  },
  {
   "cell_type": "code",
   "execution_count": null,
   "metadata": {},
   "outputs": [],
   "source": [
    "### compute expected age grp deaths given mortality per age group is baseline mortality ###\n",
    "scb_prel_binned['exp_dead_base_15_18'] = scb_prel_binned['pop'] * age_adj_grp_mort_base_15_18\n",
    "scb_prel_binned['exp_dead_base_15_19'] = scb_prel_binned['pop'] * age_adj_grp_mort_base_15_19"
   ]
  },
  {
   "cell_type": "code",
   "execution_count": null,
   "metadata": {},
   "outputs": [],
   "source": [
    "### compute excess age grp deaths as diff actual age grp deaths - expected age grp deaths ### \n",
    "scb_prel_binned['excess_15_18'] = scb_prel_binned['dead'] - scb_prel_binned['exp_dead_base_15_18']\n",
    "scb_prel_binned['excess_15_19'] = scb_prel_binned['dead'] - scb_prel_binned['exp_dead_base_15_19'] \n",
    "\n",
    "scb_prel_binned"
   ]
  },
  {
   "cell_type": "code",
   "execution_count": null,
   "metadata": {},
   "outputs": [],
   "source": [
    "### compute yearly sums of total excess deaths based on age groups ###\n",
    "age_grp_based_excess_deaths = scb_prel_binned.groupby('year')[['excess_15_18','excess_15_19']].sum()\n",
    "age_grp_based_excess_deaths"
   ]
  },
  {
   "cell_type": "code",
   "execution_count": null,
   "metadata": {},
   "outputs": [],
   "source": [
    "### compute non-age-adj baselines ###\n",
    "mort_15_18_base = no_bins.loc['2015':'2018']['mortality'].mean()\n",
    "mort_15_19_base = no_bins.loc['2015' : '2019']['mortality'].mean()\n",
    "\n",
    "print ('non-age-adj-mort_base_15_18 :',mort_15_18_base)\n",
    "print ()\n",
    "print ('non-age_adj-mort_base_15_19 :',mort_15_19_base)"
   ]
  },
  {
   "cell_type": "code",
   "execution_count": null,
   "metadata": {},
   "outputs": [],
   "source": [
    "### compute expected deaths given these baselines ###\n",
    "no_bins['exp_dead_base_15_18'] = no_bins['pop'] * mort_15_18_base\n",
    "no_bins['exp_dead_base_15_19'] = no_bins['pop'] * mort_15_19_base\n",
    "\n",
    "no_bins"
   ]
  },
  {
   "cell_type": "code",
   "execution_count": null,
   "metadata": {},
   "outputs": [],
   "source": [
    "### compute excess deaths given the two expectations ###\n",
    "\n",
    "no_bins['excess_15_18'] = no_bins['dead'] - no_bins['exp_dead_base_15_18']\n",
    "no_bins['excess_15_19'] = no_bins['dead'] - no_bins['exp_dead_base_15_19']\n",
    "\n",
    "no_bins"
   ]
  },
  {
   "cell_type": "code",
   "execution_count": null,
   "metadata": {},
   "outputs": [],
   "source": [
    "### finally, let's compute the excess for absolute deaths, with the same baseline years ###\n",
    "abs_base_15_18 = no_bins.loc['2015' : '2018','dead'].mean()\n",
    "abs_base_15_19 = no_bins.loc['2015' : '2019','dead'].mean()\n",
    "\n",
    "print ('abs_base_15_18 :',abs_base_15_18)\n",
    "print ('abs_base_15_19 :',abs_base_15_19)"
   ]
  },
  {
   "cell_type": "code",
   "execution_count": null,
   "metadata": {},
   "outputs": [],
   "source": [
    "abs_excess = pd.DataFrame({'15_18_base' : no_bins['dead'] - abs_base_15_18,\n",
    "                          '15_19_base' : no_bins['dead'] - abs_base_15_19})\n",
    "abs_excess\n"
   ]
  },
  {
   "cell_type": "code",
   "execution_count": null,
   "metadata": {},
   "outputs": [],
   "source": [
    "### summary of excess deaths, computed in different ways, with two different baselines (15-18,15-19) ###\n",
    "\n",
    "print ('\\n2020 excess deaths :\\n'.upper())\n",
    "\n",
    "print ('Absolute excess deaths cmp baseline 15-18 :',abs_excess.loc['2020','15_18_base'].astype(int))\n",
    "print ('\\nAbsolute excess deaths cmp baseline 15-19 :',abs_excess.loc['2020','15_19_base'].astype(int))\n",
    "print ('\\nPopulation adjusted excess deaths cmp baseline 15-18 :',no_bins.loc['2020','excess_15_18'].astype(int))\n",
    "print ('\\nPopulation adjusted excess deaths cmp baseline 15-19 :',no_bins.loc['2020','excess_15_19'].astype(int))\n",
    "\n",
    "print ('\\nAge adjusted excess deaths cmp baseline 15-18 :',\n",
    "       age_grp_based_excess_deaths.loc['2020','excess_15_18'].astype(int))\n",
    "\n",
    "print ('\\nAge adjusted excess deaths cmp baseline 15-19 :',\n",
    "       age_grp_based_excess_deaths.loc['2020','excess_15_19'].astype(int))\n",
    "\n",
    "print ('\\n2019 death deficit :\\n'.upper())\n",
    "\n",
    "print ('Absolute death deficit cmp baseline 15-18 :',abs_excess.loc['2019','15_18_base'].astype(int))\n",
    "print ('\\nAbsolute death deficit cmp baseline 15-19 :',abs_excess.loc['2019','15_19_base'].astype(int))\n",
    "print ('\\nPopulation adjusted death deficit cmp baseline 15-18 :',no_bins.loc['2019','excess_15_18'].astype(int))\n",
    "print ('\\nPopulation adjusted death deficit cmp baseline 15-19 :',no_bins.loc['2019','excess_15_19'].astype(int))\n",
    "\n",
    "print ('\\nAge adjusted death deficit cmp baseline 15-18 :',\n",
    "       age_grp_based_excess_deaths.loc['2019','excess_15_18'].astype(int))\n",
    "\n",
    "print ('\\nAge adjusted death deficit cmp baseline 15-19 :',\n",
    "       age_grp_based_excess_deaths.loc['2019','excess_15_19'].astype(int))\n",
    "\n",
    "\n"
   ]
  },
  {
   "cell_type": "code",
   "execution_count": null,
   "metadata": {},
   "outputs": [],
   "source": [
    "title = 'SWEDEN population & absolute deaths 2002 - 2020\\nDataSource : scb.se'\n",
    "ax = no_bins['dead'].plot(style='ro--',figsize=(18,12),label='abs deaths',title=title)\n",
    "ax.set_ylim([80000,100000])\n",
    "\n",
    "ax2 = plt.twinx()\n",
    "\n",
    "no_bins['pop'].plot(ax=ax2,style='bo--',label='population')\n",
    "\n",
    "ax.legend(loc='upper left')\n",
    "ax2.legend(loc='upper center')\n",
    "\n",
    "ax.set_ylabel('absolute deaths')\n",
    "ax2.set_ylabel('population')"
   ]
  },
  {
   "cell_type": "code",
   "execution_count": null,
   "metadata": {},
   "outputs": [],
   "source": []
  },
  {
   "cell_type": "code",
   "execution_count": null,
   "metadata": {},
   "outputs": [],
   "source": [
    "title = 'SWEDEN mortality (deaths/capita) 2002 - 2020\\nDataSource : scb.se'\n",
    "no_bins.plot(y='mortality',figsize=(18,12),style='o--',title=title)\n",
    "plt.ylabel('population adj. absolute excess deaths')\n",
    "\n"
   ]
  },
  {
   "cell_type": "code",
   "execution_count": null,
   "metadata": {},
   "outputs": [],
   "source": [
    "title = 'SWEDEN age adjusted mortality 2002-2020 (std.pop : 2019)\\nDataSource : scb.se'\n",
    "age_adj_mortality.plot(figsize=(18,12),style='ro--',title=title)\n",
    "plt.ylabel('age adj. mortality')"
   ]
  },
  {
   "cell_type": "code",
   "execution_count": null,
   "metadata": {},
   "outputs": [],
   "source": [
    "title = 'SWEDEN absolute excess deaths 2002-2020, two different baselines\\nDataSource : scb.se'\n",
    "abs_excess.plot(figsize=(18,12),style='o--',title=title)\n",
    "plt.ylabel('absolute excess deaths')"
   ]
  },
  {
   "cell_type": "code",
   "execution_count": null,
   "metadata": {},
   "outputs": [],
   "source": [
    "title = 'SWEDEN population adjusted excess deaths 2002-2020\\nDataSource : scb.se'\n",
    "no_bins.plot(y=['excess_15_18','excess_15_19'],style='o--',figsize=(18,12),title=title)\n",
    "plt.ylabel('population adjusted excess deaths')\n",
    "plt.axhline(0,ls='dashed',color='k')"
   ]
  },
  {
   "cell_type": "code",
   "execution_count": null,
   "metadata": {},
   "outputs": [],
   "source": [
    "title = 'SWEDEN age adjusted excess deaths 2002-2020 (std pop 2019), two different baselines\\nDataSource : scb.se'\n",
    "age_grp_based_excess_deaths.plot(figsize=(18,12),style='o--',title=title)\n",
    "plt.ylabel('age adj. excess deaths')\n",
    "plt.axhline(0,ls='dashed',color='k')\n",
    "_= plt.yticks(np.arange(-5000,21000,1000))\n",
    "plt.savefig('SCB_excess_excess_deaths_2002_2020.jpg',format='jpg')"
   ]
  },
  {
   "cell_type": "code",
   "execution_count": null,
   "metadata": {},
   "outputs": [],
   "source": [
    "age_mortality_flat = scb_prel_binned['mortality'].unstack()\n",
    "age_mortality_flat"
   ]
  },
  {
   "cell_type": "code",
   "execution_count": null,
   "metadata": {},
   "outputs": [],
   "source": [
    "### age group mortality growth vs base  15-18 ###\n",
    "age_mort_growth_vs_base = age_mortality_flat / age_adj_grp_mort_base_15_18\n",
    "age_mort_growth_vs_base"
   ]
  },
  {
   "cell_type": "code",
   "execution_count": null,
   "metadata": {},
   "outputs": [],
   "source": [
    "### non-age-adj growth vs base 15-18 ###\n",
    "no_bins['mortality'] / no_bins.loc['2015' : '2019','mortality'].mean()\n"
   ]
  },
  {
   "cell_type": "code",
   "execution_count": null,
   "metadata": {},
   "outputs": [],
   "source": [
    "### abs growth ### \n",
    "scb_prel_daily['2020'].sum() / scb_prel_daily['2015-2019'].sum()"
   ]
  },
  {
   "cell_type": "code",
   "execution_count": null,
   "metadata": {},
   "outputs": [],
   "source": [
    "#### sanity check ####\n",
    "(scb_prel_binned.loc['2020','pop'] * scb_prel_binned.loc['2020','mortality']).sum()"
   ]
  },
  {
   "cell_type": "code",
   "execution_count": null,
   "metadata": {},
   "outputs": [],
   "source": [
    "fig,axes = plt.subplots(2,2,figsize=(18,12))\n",
    "\n",
    "x_labels = [age_mortality_flat.index[i] for i in range(len(age_mortality_flat))]\n",
    "\n",
    "rows = [0,0,1,1]\n",
    "\n",
    "plt.suptitle('SWEDEN Mortality Trend 2002 - 2020 per Age Group\\nDataSource : SCB.se')\n",
    "\n",
    "for i,grp in enumerate(age_mortality_flat.columns):\n",
    "    \n",
    "    axes[rows[i],i%2].plot(age_mortality_flat[grp],'o--')\n",
    "    axes[rows[i],i%2].set_title('Age Group {}'.format(grp))\n",
    "    axes[rows[i],i%2].set_xticklabels(x_labels,rotation=90)\n",
    "    axes[rows[i],i%2].set_ylabel('mortality')\n",
    "    \n",
    "    axes[rows[i],i%2].axhline(age_adj_grp_mort_base_15_18.iloc[i],\n",
    "                              ls='dashed',color='orange',label='baseline_15_18')\n",
    "    \n",
    "    axes[rows[i],i%2].axhline(age_adj_grp_mort_base_15_19.iloc[i],\n",
    "                              ls='dashed',color='red',label='baseline_15_19')\n",
    "    \n",
    "    axes[rows[i],i%2].legend(['mortality','baseline_15_18','baseline_15_19'],loc='upper right')\n",
    "    \n",
    "plt.tight_layout()\n",
    "plt.savefig('Age_grp_mortality_trends.jpg',format='jpg')"
   ]
  },
  {
   "cell_type": "code",
   "execution_count": null,
   "metadata": {},
   "outputs": [],
   "source": [
    "excess_vals = [abs_excess.loc['2020'].values,\n",
    " no_bins.loc['2020',['excess_15_18','excess_15_19']].values,\n",
    " age_grp_based_excess_deaths.loc['2020',['excess_15_18','excess_15_19']].values ]\n",
    "\n",
    "excess = pd.DataFrame(excess_vals)\n",
    "excess.columns = ['excess_rel_baseline_2015_2018','excess_rel_baseline_2015_2019']\n",
    "excess.index = ['abs_deaths','pop_adj_deaths','age_adj_deaths']\n",
    "excess = excess.astype(int)\n",
    "excess"
   ]
  },
  {
   "cell_type": "code",
   "execution_count": null,
   "metadata": {},
   "outputs": [],
   "source": [
    "title = 'SWEDEN \"Excess Deaths\" 2020 by three different methods. Two different baselines\\nDataSource : SCB.se'\n",
    "excess.plot(kind='bar',figsize=(18,12),title=title)\n",
    "plt.ylabel('Excess deaths')\n",
    "plt.xlabel('excess calculation method')\n",
    "\n",
    "plt.savefig('SCB_excess_excess_deaths.jpg',format='jpg')"
   ]
  },
  {
   "cell_type": "code",
   "execution_count": null,
   "metadata": {},
   "outputs": [],
   "source": [
    "#### let's do one for seasonal deaths as well ####\n",
    "### SECTION ###\n",
    "scb_prel_daily"
   ]
  },
  {
   "cell_type": "code",
   "execution_count": null,
   "metadata": {},
   "outputs": [],
   "source": [
    "### find out the last reported day of 2021, and define last_good_day ###\n",
    "\n",
    "days_of_2021 = len(scb_prel_daily['2021'].loc[scb_prel_daily['2021'] != 0 ])\n",
    "last_data_day = pd.date_range('2021-01-01',periods=days_of_2021)[-1]\n",
    "last_good_day = last_data_day - pd.DateOffset(weeks=2)\n",
    "last_good_day"
   ]
  },
  {
   "cell_type": "code",
   "execution_count": null,
   "metadata": {},
   "outputs": [],
   "source": [
    "#### leap_day_idx : 60:th day of year in the prel datafame ####\n",
    "leap_day_idx = 59\n",
    "leap_year_mask = scb_prel_daily.iloc[leap_day_idx] != 0\n",
    "print (leap_year_mask)\n",
    "leap_years = scb_prel_daily.columns[leap_year_mask][:-3].values\n",
    "leap_years\n"
   ]
  },
  {
   "cell_type": "code",
   "execution_count": null,
   "metadata": {},
   "outputs": [],
   "source": [
    "scb_prel_daily"
   ]
  },
  {
   "cell_type": "code",
   "execution_count": null,
   "metadata": {},
   "outputs": [],
   "source": [
    "#### serialize the dataframe by years ####\n",
    "\n",
    "serialized_daily_15_21 = []\n",
    "\n",
    "for c in scb_prel_daily.columns[:-2]:\n",
    "    if c not in leap_years:\n",
    "        scb_prel_daily[c].drop(leap_day_idx,inplace=True) # drop the leap day for non-leap years #\n",
    "        \n",
    "    serialized_daily_15_21.extend(scb_prel_daily[c])\n",
    "\n",
    "serialized_daily_15_21 = pd.DataFrame(serialized_daily_15_21)\n",
    "serialized_daily_15_21.columns = ['dead']\n",
    "serialized_daily_15_21"
   ]
  },
  {
   "cell_type": "code",
   "execution_count": null,
   "metadata": {
    "scrolled": false
   },
   "outputs": [],
   "source": [
    "#### since scb_prel_daily has 366 days for each year, even those without leap days, ####\n",
    "#### we can't do a straight datetimeindex for 2015-2021 using pd.date_range(). ####\n",
    "#### Instead, we build it up year-by-year #### \n",
    "\n",
    "def build_multi_year_idx(start_year,end_year):\n",
    "    \n",
    "    serialized_idx = list(pd.date_range(str(start_year) + '-01-01',str(start_year) + '-12-31'))\n",
    "    \n",
    "    for y in range(start_year + 1,end_year + 1):\n",
    "        serialized_idx.extend(list(pd.date_range(str(y) + '-01-01',str(y) + '-12-31')))\n",
    "    return serialized_idx\n",
    "        \n",
    "serialized_idx = pd.DatetimeIndex(build_multi_year_idx(2015,2021))\n",
    "serialized_idx"
   ]
  },
  {
   "cell_type": "code",
   "execution_count": null,
   "metadata": {},
   "outputs": [],
   "source": [
    "### assume population 2021 initially is same as 2020 ###\n",
    "pop_df.at['2021','pop'] = pop_df.loc['2020','pop']\n"
   ]
  },
  {
   "cell_type": "code",
   "execution_count": null,
   "metadata": {},
   "outputs": [],
   "source": [
    "#### add year,month,day explicit for convenience ####\n",
    "#### compute daily mortality ####\n",
    "\n",
    "serialized_daily_15_21.index = serialized_idx\n",
    "\n",
    "### skip the last two weeks of data ###\n",
    "serialized_daily_stable = serialized_daily_15_21.loc[:last_good_day].copy()\n",
    "serialized_daily_stable['year'] = serialized_daily_stable.index.year.astype(str)\n",
    "\n",
    "serialized_daily_stable['month'] = serialized_daily_stable.index.month\n",
    "serialized_daily_stable['day'] = serialized_daily_stable.index.day\n",
    "\n",
    "serialized_daily_stable['daily_mortality'] = serialized_daily_stable.apply(\n",
    "    lambda row : row.dead / pop_df.loc[row.year,'pop'],axis=1)\n",
    "\n",
    "serialized_daily_stable['pop'] = serialized_daily_stable.apply(lambda row : pop_df.loc[row.year,'pop'],axis=1)\n",
    "\n",
    "serialized_daily_stable"
   ]
  },
  {
   "cell_type": "code",
   "execution_count": null,
   "metadata": {},
   "outputs": [],
   "source": [
    "### proof summing daily mortality rates yields same result as by dividing dead/pop for year ###\n",
    "mort_by_div = serialized_daily_stable.groupby(\n",
    "    serialized_daily_stable.index.year)['dead'].sum() / serialized_daily_stable.groupby(\n",
    "serialized_daily_stable.index.year)['pop'].mean()\n",
    "\n",
    "mort_by_daily_sum = serialized_daily_stable.resample('Y')['daily_mortality'].sum()\n",
    "\n",
    "print (mort_by_div)\n",
    "print (mort_by_daily_sum)"
   ]
  },
  {
   "cell_type": "code",
   "execution_count": null,
   "metadata": {},
   "outputs": [],
   "source": [
    "#### define season e.g. as starting from oct 1:st to sep last ####\n",
    "\n",
    "season_start = 10 # month number\n",
    "season_end = 9\n",
    "\n",
    "#### this drops the first season of the first year (2015) from the data ####\n",
    "\n",
    "def seasonal(df,start_year,next_year):\n",
    "    first_part = df.loc[(df['month'] >= season_start) & (df['year'] == start_year)]\n",
    "    second_part = df.loc[(df['month'] <= season_end) & (df['year'] == next_year)]\n",
    "    \n",
    "    return pd.concat([first_part,second_part])\n",
    "\n"
   ]
  },
  {
   "cell_type": "code",
   "execution_count": null,
   "metadata": {},
   "outputs": [],
   "source": [
    "#### collect the different seasons into a single df ####\n",
    "all_seasons_df = pd.DataFrame()\n",
    "\n",
    "years = scb_prel_daily.columns.values\n",
    "\n",
    "for y in range(len(years[:-2]) - 1):\n",
    "    season_df = pd.DataFrame(seasonal(serialized_daily_stable,years[y],years[y+1]))\n",
    "    season_df['season'] = years[y] + '/' + years[y+1]\n",
    "    all_seasons_df = pd.concat([all_seasons_df,season_df])\n",
    "    \n",
    "all_seasons_df"
   ]
  },
  {
   "cell_type": "code",
   "execution_count": null,
   "metadata": {},
   "outputs": [],
   "source": [
    "all_seasons_df.loc[all_seasons_df['season'] == '2016/2017']"
   ]
  },
  {
   "cell_type": "code",
   "execution_count": null,
   "metadata": {},
   "outputs": [],
   "source": [
    "title = 'SWEDEN seasonal mortality 2015/2016 - 2019/2020\\nDataSource : scb.se'\n",
    "seasonal_mortality = all_seasons_df.groupby('season')['daily_mortality'].sum()\n",
    "seasonal_mortality[:-1].plot(figsize=(18,12),kind='bar',title=title)\n",
    "plt.yticks(np.arange(0,0.01,0.0005))\n",
    "plt.ylabel('mortality')\n",
    "plt.savefig('seasonal_deaths.jpg',format='jpg')\n"
   ]
  },
  {
   "cell_type": "code",
   "execution_count": null,
   "metadata": {},
   "outputs": [],
   "source": [
    "title = 'SWEDEN monthly absolute deaths 2015-\\nDataSource : scb.se'\n",
    "monthly_dead = serialized_daily_stable.resample('M')['dead'].sum()[:-1]\n",
    "monthly_dead.plot(kind='bar',figsize=(18,12),style='o--',title=title)\n",
    "x_labels = [ monthly_dead.index[i].date() for i in range(len(monthly_dead))]\n",
    "plt.xticks(range(len(monthly_dead)),x_labels)\n",
    "[ plt.axvline(11 + i * 12,color='orange',ls='dashed') for i in range(0,6) ]\n",
    "\n",
    "plt.ylabel('number of deaths per month')\n",
    "monthly_dead"
   ]
  },
  {
   "cell_type": "code",
   "execution_count": null,
   "metadata": {},
   "outputs": [],
   "source": []
  },
  {
   "cell_type": "code",
   "execution_count": null,
   "metadata": {},
   "outputs": [],
   "source": [
    "title = 'SWEDEN monthly mortality 2015 - 2020\\nDataSource : scb.se'\n",
    "monthly_mortality = serialized_daily_stable.resample('M')['daily_mortality'].sum()[:-1]\n",
    "monthly_mortality.plot(kind='bar',figsize=(18,12))\n",
    "plt.xticks(range(len(monthly_mortality)),x_labels)\n",
    "plt.ylabel('monthly mortality')\n",
    "[ plt.axvline(11 + i * 12,color='orange',ls='dashed') for i in range(0,6) ]\n",
    "monthly_mortality"
   ]
  },
  {
   "cell_type": "code",
   "execution_count": null,
   "metadata": {},
   "outputs": [],
   "source": [
    "#### summaries for Prof. Levitt #### \n",
    "\n",
    "summary_age_adj_flat = scb_prel_binned.reset_index().groupby('year')[['pop','dead','std_deaths',\n",
    "                                               'exp_dead_base_15_18','exp_dead_base_15_19',\n",
    "                                               'excess_15_18','excess_15_19']].sum()\n",
    "\n",
    "summary_age_adj_flat.to_excel('scb_yearly_age_adjusted_deaths_summary.xlsx')\n",
    "scb_prel_binned.to_excel('scb_age_binned_data_2002_2020.xlsx')"
   ]
  },
  {
   "cell_type": "code",
   "execution_count": null,
   "metadata": {},
   "outputs": [],
   "source": [
    "### cmp mortality vs age adj. mortality std.pop 2019 ###"
   ]
  },
  {
   "cell_type": "code",
   "execution_count": null,
   "metadata": {},
   "outputs": [],
   "source": [
    "ax = no_bins.plot(y='mortality',figsize=(18,12),style='o--')\n",
    "age_adj_mortality.plot(ax=ax,style='o--')\n",
    "\n",
    "x_labels = [ no_bins.index[i] for i in range(len(no_bins)) ]\n",
    "ax.set_xticks(range(len(no_bins)))\n",
    "_= ax.set_xticklabels(labels=x_labels,rotation=90)\n",
    "ax.legend(['mortality','age adj. mortality'])\n"
   ]
  },
  {
   "cell_type": "code",
   "execution_count": null,
   "metadata": {},
   "outputs": [],
   "source": [
    "##### NEXT - AGE BINNED CORRECTED DAILY TIMELINE 2015-2021 ytd #####\n",
    "##### NOTE the scb data error notice on top of this notebook ####"
   ]
  },
  {
   "cell_type": "code",
   "execution_count": null,
   "metadata": {},
   "outputs": [],
   "source": [
    "#### create a corrected age binned timeline 2015 and forward ####\n",
    "#### all data inc. 2021 YTD #####\n",
    "\n",
    "### get the age group binned prel death data again ###\n",
    "scb_prel_age_TD = scb_prel_file.parse('Tabell 2',skiprows=7,usecols=[0,1,4,5,6,7,9,10,11,12])\n",
    "\n",
    "# scb_prel_age_TD = scb_prel_age_TD[::-1] # reverse order\n",
    "# scb_prel_age_TD.drop(['År','DagMånad'],axis=1,inplace=True)\n",
    "\n",
    "scb_prel_age_TD"
   ]
  },
  {
   "cell_type": "code",
   "execution_count": null,
   "metadata": {},
   "outputs": [],
   "source": [
    "#### unknowns ####\n",
    "unknowns_TD = scb_prel_age_TD.loc[scb_prel_age_TD['DagMånad'].str.strip() == 'Okänd dödsdag']\n",
    "unknowns_TD = unknowns_TD.drop('DagMånad',axis=1).set_index('År')\n",
    "\n",
    "scb_prel_age_TD = (scb_prel_age_TD[scb_prel_age_TD['DagMånad'].str.strip() != 'Okänd dödsdag']).copy()\n",
    "\n",
    "scb_prel_age_TD"
   ]
  },
  {
   "cell_type": "code",
   "execution_count": null,
   "metadata": {},
   "outputs": [],
   "source": [
    "#### map swedish month names to month numbers ####\n",
    "swe_2_eng_month = dict(zip(['januari','februari','mars','april','maj','juni',\n",
    "                           'juli','augusti','september','oktober','november','december'],\n",
    "                          list(range(1,13))))\n",
    "    \n",
    "scb_prel_age_TD[['day','month']] = scb_prel_age_TD['DagMånad'].str.split(expand=True)\n",
    "scb_prel_age_TD['month'] = scb_prel_age_TD['month'].apply(lambda m : swe_2_eng_month[m])\n",
    "scb_prel_age_TD = scb_prel_age_TD.drop('DagMånad',axis=1)\n",
    "scb_prel_age_TD.rename(columns={'År':'year'},inplace=True)\n",
    "\n",
    "scb_prel_age_TD"
   ]
  },
  {
   "cell_type": "code",
   "execution_count": null,
   "metadata": {},
   "outputs": [],
   "source": [
    "#### create DatetimeIndex ####\n",
    "scb_prel_age_TD['date'] = pd.to_datetime(scb_prel_age_TD[['year','month','day']])\n",
    "scb_prel_age_TD = scb_prel_age_TD.drop(['year','day','month'],axis=1).set_index('date')\n",
    "scb_prel_age_TD"
   ]
  },
  {
   "cell_type": "code",
   "execution_count": null,
   "metadata": {},
   "outputs": [],
   "source": [
    "#### reverse order ####\n",
    "scb_prel_age_TD = scb_prel_age_TD[::-1]\n",
    "scb_prel_age_TD"
   ]
  },
  {
   "cell_type": "code",
   "execution_count": null,
   "metadata": {},
   "outputs": [],
   "source": [
    "#### combine both genders to single death count ####\n",
    "scb_prel_age_TD = scb_prel_age_TD.groupby(combine_ages,axis=1).sum()\n"
   ]
  },
  {
   "cell_type": "code",
   "execution_count": null,
   "metadata": {},
   "outputs": [],
   "source": [
    "scb_prel_age_TD"
   ]
  },
  {
   "cell_type": "code",
   "execution_count": null,
   "metadata": {},
   "outputs": [],
   "source": [
    "scb_prel_age_TD.groupby(scb_prel_age_TD.index.year).sum()"
   ]
  },
  {
   "cell_type": "code",
   "execution_count": null,
   "metadata": {},
   "outputs": [],
   "source": [
    "dead_age_scb_prel_df.loc['2015']"
   ]
  },
  {
   "cell_type": "code",
   "execution_count": null,
   "metadata": {},
   "outputs": [],
   "source": [
    "#### combine genders for unknown death dates ####\n",
    "unknowns_TD = unknowns_TD.groupby(combine_ages,axis=1).sum()\n",
    "unknowns_TD"
   ]
  },
  {
   "cell_type": "code",
   "execution_count": null,
   "metadata": {},
   "outputs": [],
   "source": [
    "unknowns_TD"
   ]
  },
  {
   "cell_type": "code",
   "execution_count": null,
   "metadata": {},
   "outputs": [],
   "source": [
    "unknowns_TD.loc[2020]"
   ]
  },
  {
   "cell_type": "code",
   "execution_count": null,
   "metadata": {},
   "outputs": [],
   "source": [
    "#### get the deaths with known dates from the timeline ####\n",
    "knowns_TD = scb_prel_age_TD.groupby(\n",
    "    scb_prel_age_TD.index.get_level_values(0).year)[['-64','65-79','80-89','90+']].sum()\n",
    "\n",
    "knowns_TD"
   ]
  },
  {
   "cell_type": "code",
   "execution_count": null,
   "metadata": {},
   "outputs": [],
   "source": [
    "unknowns_TD + knowns_TD"
   ]
  },
  {
   "cell_type": "code",
   "execution_count": null,
   "metadata": {
    "scrolled": false
   },
   "outputs": [],
   "source": [
    "### compute daily proportion of all known deaths ###\n",
    "###\n",
    "\n",
    "def calc_daily_proportion(dead):\n",
    "    return dead / dead.sum() \n",
    "\n",
    "prop_age_TD = scb_prel_age_TD.groupby(\n",
    "    scb_prel_age_TD.index.get_level_values(0).year).transform(calc_daily_proportion)\n",
    "\n",
    "\n",
    "### create groups by year ###\n",
    "g = prop_age_TD.groupby(prop_age_TD.index.get_level_values(0).year)\n",
    "\n",
    "### df to store all corrected daily data for all years ###\n",
    "grp_daily_corrected = pd.DataFrame()\n",
    "\n",
    "### for each year, multiply the daily proportions with the unknowns and add the knowns ###\n",
    "for grp in g.groups.keys():\n",
    "    \n",
    "    foo = g.get_group(grp) * unknowns_TD.loc[grp] + scb_prel_age_TD.loc[str(grp)]\n",
    "    grp_daily_corrected = pd.concat([grp_daily_corrected,foo])\n",
    "    \n"
   ]
  },
  {
   "cell_type": "code",
   "execution_count": null,
   "metadata": {},
   "outputs": [],
   "source": [
    "### check that yearly totals are still correct ###\n",
    "grp_daily_corrected.groupby(grp_daily_corrected.index.get_level_values(0).year).sum().sum(axis=1)"
   ]
  },
  {
   "cell_type": "code",
   "execution_count": null,
   "metadata": {},
   "outputs": [],
   "source": [
    "grp_daily_corrected.plot(figsize=(18,12))"
   ]
  },
  {
   "cell_type": "code",
   "execution_count": null,
   "metadata": {},
   "outputs": [],
   "source": [
    "#### monthly deaths ####\n",
    "grp_daily_corrected_monthly = grp_daily_corrected.resample('M').sum()\n",
    "grp_daily_corrected_monthly.plot(figsize=(18,12),style='o--')"
   ]
  },
  {
   "cell_type": "code",
   "execution_count": null,
   "metadata": {},
   "outputs": [],
   "source": [
    "pop_age_scb_prel_df"
   ]
  },
  {
   "cell_type": "code",
   "execution_count": null,
   "metadata": {},
   "outputs": [],
   "source": [
    "### add population for 2021 ###\n",
    "### for now assume population 2021 == population 2020. UPDATE when new 2021 pop numbers arrive ###\n",
    "\n",
    "pop_2021 = pop_age_scb_prel_df.loc['2020']\n",
    "pop_2021.name='2021'\n",
    "idx = pd.MultiIndex.from_arrays([['2021'] * 4,['-64','65-79','80-89','90+']])\n",
    "pop_2021.index = idx\n",
    "pop_age_scb_prel_df = pd.concat([pop_age_scb_prel_df,pop_2021])\n",
    "pop_age_scb_prel_df"
   ]
  },
  {
   "cell_type": "code",
   "execution_count": null,
   "metadata": {},
   "outputs": [],
   "source": [
    "### check total population sizes ###\n",
    "pop_age_scb_prel_df.groupby('year').sum()"
   ]
  },
  {
   "cell_type": "code",
   "execution_count": null,
   "metadata": {},
   "outputs": [],
   "source": [
    "### HERE scb data error illustrated! \n",
    "grp_daily_corrected.loc['2015'].sum()"
   ]
  },
  {
   "cell_type": "code",
   "execution_count": null,
   "metadata": {},
   "outputs": [],
   "source": [
    "### vs HERE! \n",
    "scb_prel_binned.loc['2015','dead']"
   ]
  },
  {
   "cell_type": "code",
   "execution_count": null,
   "metadata": {},
   "outputs": [],
   "source": [
    "grp_daily_corrected.loc['2015'].sum() / pop_age_scb_prel_df.loc['2015','pop']"
   ]
  },
  {
   "cell_type": "code",
   "execution_count": null,
   "metadata": {
    "scrolled": false
   },
   "outputs": [],
   "source": [
    "#### BUG !!!! Identifed : scb data error, see top of notebook.\n",
    "#### FOR SOME REASON, CALCULATING MORTALITY THIS WAY (DAILY) RESULTS IN age grp 90+ ALL YEARS BUT 2020 \n",
    "#### HAVING DIFFERENT OUTCOME COMPARED TO WHEN CALCULATED ON YEARLY BASIS AS FOR  scb_prel_binned.\n",
    "#### can it be a rounding error....? \n",
    "\n",
    "#### compute binned daily mortality for each year ####\n",
    "gg = grp_daily_corrected.groupby(grp_daily_corrected.index.get_level_values(0).year)\n",
    "\n",
    "mortality_all_grp_TD = pd.DataFrame().astype('uint64')\n",
    "\n",
    "for grp in gg.groups.keys():\n",
    "    foo = gg.get_group(grp)\n",
    "    year = foo.index.get_level_values(0).year[0] # use the first index year for the pop.lookup below #\n",
    "    pop = pop_age_scb_prel_df.loc[str(year),'pop']\n",
    "\n",
    "    mortality_all_grp_TD = pd.concat([mortality_all_grp_TD,foo.div(pop,axis=1)])\n",
    "    \n",
    "mortality_all_grp_TD"
   ]
  },
  {
   "cell_type": "code",
   "execution_count": null,
   "metadata": {},
   "outputs": [],
   "source": [
    "### check yearly mortality per age group ###\n",
    "mortality_all_grp_TD.groupby(mortality_all_grp_TD.index.year).sum()"
   ]
  },
  {
   "cell_type": "code",
   "execution_count": null,
   "metadata": {},
   "outputs": [],
   "source": [
    "### plot weekly mortality per age grp over the years 2015-2021 YTD, skip last two weeks to be updated) ###\n",
    "last_date = mortality_all_grp_TD.index[-1]\n",
    "last_good_date = last_date - pd.DateOffset(weeks=2)\n",
    "print ('last_date : ',last_date)\n",
    "print ('last_good_date : ',last_good_date)\n",
    "\n",
    "weekly_age_mortality = mortality_all_grp_TD.resample('W').sum()\n",
    "title='SWEDEN weekly mortality per age group, 2015 - 2021 YTD {}\\nDataSource : scb.se'.format(last_good_date.date())\n",
    "axes = weekly_age_mortality.loc[:last_good_date].plot(figsize=(18,12),style='o--',subplots=True,title=title)\n",
    "\n",
    "for ax in axes:\n",
    "    ax.set_ylabel('mortality')"
   ]
  },
  {
   "cell_type": "code",
   "execution_count": null,
   "metadata": {},
   "outputs": [],
   "source": [
    "from pandas.tseries.offsets import MonthEnd\n",
    "\n",
    "### plot monthly mortality per age grp over the years 2015-2021 YTD, skip last two weeks to be updated) ###\n",
    "last_date = mortality_all_grp_TD.index[-1]\n",
    "last_good_date = last_date - MonthEnd(1)\n",
    "\n",
    "print ('last_date : ',last_date)\n",
    "print ('last_good_date : ',last_good_date)\n",
    "\n",
    "monthly_age_mortality = mortality_all_grp_TD.resample('M').sum()\n",
    "\n",
    "title='SWEDEN monthly mortality per age group, 2015 - 2021 YTD {}\\nDataSource : scb.se'.format(last_good_date.date())\n",
    "axes = monthly_age_mortality.loc[:last_good_date].plot(figsize=(18,12),style='o--',subplots=True,title=title)\n",
    "\n",
    "for ax in axes:\n",
    "    ax.set_ylabel('mortality')"
   ]
  },
  {
   "cell_type": "code",
   "execution_count": null,
   "metadata": {},
   "outputs": [],
   "source": [
    "### other stuff ###\n"
   ]
  },
  {
   "cell_type": "code",
   "execution_count": null,
   "metadata": {},
   "outputs": [],
   "source": [
    "### age grp daily mortality from 2015 to latest scb latest update ###\n",
    "mortality_all_grp_TD"
   ]
  },
  {
   "cell_type": "code",
   "execution_count": null,
   "metadata": {},
   "outputs": [],
   "source": [
    "#### BUG !!!! Identified : error in scb data - see note on top of notebook. \n",
    "#### FOR SOME REASON, CALCULATING MORTALITY THIS WAY (DAILY) RESULTS IN age grp 90+ ALL YEARS BUT 2020 \n",
    "#### HAVING DIFFERENT OUTCOME COMPARED TO WHEN CALCULATED ON YEARLY BASIS AS FOR  scb_prel_binned.\n",
    "#### can it be a rounding error....? \n",
    "\n",
    "mortality_all_grp_TD.groupby(mortality_all_grp_TD.index.year).sum()"
   ]
  },
  {
   "cell_type": "code",
   "execution_count": null,
   "metadata": {},
   "outputs": [],
   "source": [
    "### create a 2015-2018 daily mortality baseline ###\n",
    "mortality_all_grp_2015_2018 = mortality_all_grp_TD.loc[:'2018']\n",
    "\n",
    "### min,max,mean for each day of year ###\n",
    "baseline_15_18_min_max_mean = mortality_all_grp_2015_2018.groupby([mortality_all_grp_2015_2018.index.month,\n",
    "                                    mortality_all_grp_2015_2018.index.day]).agg(['min','max','mean'])\n",
    "\n",
    "baseline_15_18_min_max_mean.index=pd.date_range('2020-01-01','2020-12-31')\n",
    "baseline_15_18_min_max_mean"
   ]
  },
  {
   "cell_type": "code",
   "execution_count": null,
   "metadata": {},
   "outputs": [],
   "source": [
    "### drop leap day from non-leap years, create one df for leap years, one for non-leap years ###\n",
    "baseline_15_18_min_max_mean_no_leap = baseline_15_18_min_max_mean.drop(pd.Timestamp('2020-02-29'))\n",
    "baseline_15_18_min_max_mean_leap = baseline_15_18_min_max_mean\n",
    "baseline_15_18_min_max_mean_no_leap.index=range(1,366)\n",
    "baseline_15_18_min_max_mean_leap"
   ]
  },
  {
   "cell_type": "code",
   "execution_count": null,
   "metadata": {},
   "outputs": [],
   "source": [
    "### concatenate the leap and non-leap baselines for the period of 2015 - 2021 ###\n",
    "baseline_stats = pd.concat([baseline_15_18_min_max_mean_no_leap,baseline_15_18_min_max_mean_leap,\n",
    "                          baseline_15_18_min_max_mean_no_leap,baseline_15_18_min_max_mean_no_leap,\n",
    "                          baseline_15_18_min_max_mean_no_leap,baseline_15_18_min_max_mean_leap,\n",
    "                          baseline_15_18_min_max_mean_no_leap],axis=0)\n",
    "\n",
    "baseline_stats.index = pd.date_range('2015-01-01','2021-12-31')\n",
    "\n",
    "baseline_stats"
   ]
  },
  {
   "cell_type": "code",
   "execution_count": null,
   "metadata": {},
   "outputs": [],
   "source": [
    "#### select the desired attribute from the multi-columns using xs ####\n",
    "mean = baseline_stats.xs('mean',level=1,axis=1)\n",
    "min_ = baseline_stats.xs('min',level=1,axis=1)\n",
    "max_ = baseline_stats.xs('max',level=1,axis=1)\n"
   ]
  },
  {
   "cell_type": "code",
   "execution_count": null,
   "metadata": {
    "scrolled": false
   },
   "outputs": [],
   "source": [
    "### reduce the daily fill shading to every 30:th day for clarity ###  \n",
    "axes = mortality_all_grp_TD[:-14].plot(figsize=(18,12),subplots=True)\n",
    "axes[0].fill_between(min_.index[::30],min_['-64'][::30],max_['-64'][::30],color='lightgrey')\n",
    "axes[1].fill_between(min_.index[::30],min_['65-79'][::30],max_['65-79'][::30],color='lightgrey')\n",
    "axes[2].fill_between(min_.index[::30],min_['80-89'][::30],max_['80-89'][::30],color='lightgrey')\n",
    "axes[3].fill_between(min_.index[::30],min_['90+'][::30],max_['90+'][::30],color='lightgrey')\n",
    "\n",
    "mortality_all_grp_TD[:-14]"
   ]
  },
  {
   "cell_type": "code",
   "execution_count": null,
   "metadata": {},
   "outputs": [],
   "source": [
    "weekly_age_mortality.index[-3]"
   ]
  },
  {
   "cell_type": "code",
   "execution_count": null,
   "metadata": {},
   "outputs": [],
   "source": [
    "### resample on weekly basis ###\n",
    "### the shadow for the years does not look exactly identical, since the week numbers are not aligned ###\n",
    "### year by year ###\n",
    "weekly_baseline_stats = baseline_stats.resample('W-WED').sum()\n",
    "\n",
    "weekly_mean = weekly_baseline_stats.xs('mean',level=1,axis=1)\n",
    "weekly_min_ = weekly_baseline_stats.xs('min',level=1,axis=1)\n",
    "weekly_max_ = weekly_baseline_stats.xs('max',level=1,axis=1)\n",
    "\n",
    "title='SWEDEN age group [-64,65-79,80-89,90+] weekly mortality 2015-2021 YTD {}\\nDataSource : scb.se'.format(\n",
    "    weekly_age_mortality.index[-3].date() )\n",
    "\n",
    "axes = weekly_age_mortality[:-2].plot(figsize=(18,12),subplots=True,title=title)\n",
    "\n",
    "axes[0].fill_between(weekly_min_.index,weekly_min_['-64'],weekly_max_['-64'],\n",
    "                     color='lightgrey',label='range 2015-2018 : -64')\n",
    "\n",
    "weekly_mean['-64'][:-1].plot(ax=axes[0],style='k--',label='-64 avg.')\n",
    "\n",
    "axes[1].fill_between(weekly_min_.index,weekly_min_['65-79'],weekly_max_['65-79'],\n",
    "                     color='lightgrey',label='range 2015-2018 : 65-79')\n",
    "\n",
    "weekly_mean['65-79'][:-1].plot(ax=axes[1],style='k--',label='65-79 avg.')\n",
    "\n",
    "\n",
    "axes[2].fill_between(weekly_min_.index,weekly_min_['80-89'],weekly_max_['80-89'],\n",
    "                     color='lightgrey',label='range 2015-2018 : 80-89')\n",
    "\n",
    "weekly_mean['80-89'][:-1].plot(ax=axes[2],style='k--',label='80-89 avg.')\n",
    "\n",
    "\n",
    "axes[3].fill_between(weekly_min_.index,weekly_min_['90+'],weekly_max_['90+'],\n",
    "                     color='lightgrey',label='range 2015-2018 : 90+')\n",
    "\n",
    "weekly_mean['90+'][:-1].plot(ax=axes[3],style='k--',label='90+ avg.')\n",
    "\n",
    "\n",
    "for a in axes:\n",
    "    a.set_ylabel('weekly mortality')\n",
    "    a.legend(loc='lower left')\n",
    "\n",
    "\n",
    "plt.savefig('SCB_excess_weekly_age_mortality.jpg',format='jpg')\n",
    "\n",
    "weekly_age_mortality[:-2]\n"
   ]
  },
  {
   "cell_type": "code",
   "execution_count": null,
   "metadata": {},
   "outputs": [],
   "source": [
    "monthly_age_mortality = mortality_all_grp_TD.resample('M').sum()\n",
    "\n",
    "monthly_baseline_stats = baseline_stats.resample('M').sum()\n",
    "monthly_mean = monthly_baseline_stats.xs('mean',level=1,axis=1)\n",
    "monthly_min_ = monthly_baseline_stats.xs('min',level=1,axis=1)\n",
    "monthly_max_ = monthly_baseline_stats.xs('max',level=1,axis=1)\n",
    "\n",
    "title='SWEDEN age group [-64,65-79,80-89,90+] monthly mortality 2015-2021 YTD {}\\nDataSource : scb.se'.format(\n",
    "    monthly_age_mortality.index[-2].date() )\n",
    "\n",
    "axes = monthly_age_mortality[:-1].plot(figsize=(18,12),style='ro--',subplots=True,title=title)\n",
    "\n",
    "axes[0].fill_between(monthly_min_.index,monthly_min_['-64'],monthly_max_['-64'],\n",
    "                     color='lightgrey',label='range 2015-2018 : -64')\n",
    "\n",
    "monthly_mean['-64'].plot(ax=axes[0],style='k--',label='baseline -64')\n",
    "\n",
    "axes[1].fill_between(monthly_min_.index,monthly_min_['65-79'],monthly_max_['65-79'],\n",
    "                     color='lightgrey',label='range 2015-2018 : 65-79')\n",
    "\n",
    "monthly_mean['65-79'].plot(ax=axes[1],style='k--',label='baseline 65-79')\n",
    "\n",
    "\n",
    "axes[2].fill_between(monthly_min_.index,monthly_min_['80-89'],monthly_max_['80-89'],\n",
    "                     color='lightgrey',label='range 2015-2018 : 80-89')\n",
    "\n",
    "monthly_mean['80-89'].plot(ax=axes[2],style='k--',label='baseline 80-89')\n",
    "\n",
    "axes[3].fill_between(monthly_min_.index,monthly_min_['90+'],monthly_max_['90+'],\n",
    "                     color='lightgrey',label='range 2015-2018 : 90+')\n",
    "\n",
    "monthly_mean['90+'].plot(ax=axes[3],style='k--',label='baseline 90+')\n",
    "\n",
    "for a in axes:\n",
    "    a.set_ylabel('monthly mortality')\n",
    "    a.legend(loc='lower left')\n",
    "\n",
    "\n",
    "plt.savefig('SCB_excess_monthly_age_mortality.jpg',format='jpg')\n",
    "\n",
    "monthly_age_mortality[:-1]\n"
   ]
  },
  {
   "cell_type": "code",
   "execution_count": null,
   "metadata": {},
   "outputs": [],
   "source": [
    "last_data_day"
   ]
  },
  {
   "cell_type": "code",
   "execution_count": null,
   "metadata": {},
   "outputs": [],
   "source": [
    "mean.loc['2021':]"
   ]
  },
  {
   "cell_type": "code",
   "execution_count": null,
   "metadata": {},
   "outputs": [],
   "source": [
    "disclaimer = '\\nData older than 3W from report date can be considered stable\\n'\n",
    "title = 'SWEDEN 2021 daily age grp mortality YTD {}\\nDataSource : scb.se'.format(last_data_day.date()) + disclaimer\n",
    "\n",
    "axes = mortality_all_grp_TD.loc['2021'][:last_data_day].plot(figsize=(18,12),\n",
    "                                                             style='ro--',subplots=True,title=title)\n",
    "min_2021 = min_.loc['2021': last_data_day]\n",
    "max_2021 = max_.loc['2021' : last_data_day]\n",
    "\n",
    "axes[0].fill_between(min_2021.index,min_2021['-64'],max_2021['-64'],color='lightgrey',label='2015-2018 range')\n",
    "axes[1].fill_between(min_2021.index,min_2021['65-79'],max_2021['65-79'],color='lightgrey',label='2015-2018 range')\n",
    "axes[2].fill_between(min_2021.index,min_2021['80-89'],max_2021['80-89'],color='lightgrey',label='2015-2018 range')\n",
    "axes[3].fill_between(min_2021.index,min_2021['90+'],max_2021['90+'],color='lightgrey',label='2015-2018 range')\n",
    "\n",
    "mean.loc['2021':last_data_day,'-64'].plot(ax=axes[0],style='k--',label='baseline -64')\n",
    "mean.loc['2021':last_data_day,'65-79'].plot(ax=axes[1],style='k--',label='baseline 65-79')\n",
    "mean.loc['2021':last_data_day,'80-89'].plot(ax=axes[2],style='k--',label='baseline 80-89')\n",
    "mean.loc['2021':last_data_day,'90+'].plot(ax=axes[3],style='k--',label='baseline 90+')\n",
    "\n",
    "\n",
    "for a in axes:\n",
    "    a.set_ylabel('daily mortality')\n",
    "    a.axvline (mortality_all_grp_TD.index[-21],ls='dashed',color='orange',label='stable data to the left')\n",
    "    a.legend(loc='lower left')\n",
    "\n",
    "plt.savefig('SCB_excess_daily_age_grp_2021_mortality.jpg',format='jpg')"
   ]
  },
  {
   "cell_type": "code",
   "execution_count": null,
   "metadata": {},
   "outputs": [],
   "source": [
    "title = 'SWEDEN 2021 cumulative daily age grp mortality YTD {}\\nDataSource : scb.se'.format(last_data_day.date())\n",
    "axes = mortality_all_grp_TD.loc['2021'][:last_data_day].cumsum().plot(subplots=True,\n",
    "                                                                      title=title,figsize=(18,12),style='ro--')\n",
    "\n",
    "mean.loc['2021','-64'][:last_data_day].cumsum().plot(ax=axes[0],ls='dashed',color='k')\n",
    "axes[0].fill_between(min_2021.index,min_2021['-64'].cumsum(),max_2021['-64'].cumsum(),color='lightgrey')\n",
    "\n",
    "mean.loc['2021','65-79'][:last_data_day].cumsum().plot(ax=axes[1],ls='dashed',color='k')\n",
    "axes[1].fill_between(min_2021.index,min_2021['65-79'].cumsum(),max_2021['65-79'].cumsum(),color='lightgrey')\n",
    "\n",
    "mean.loc['2021','80-89'][:last_data_day].cumsum().plot(ax=axes[2],ls='dashed',color='k')\n",
    "axes[2].fill_between(min_2021.index,min_2021['80-89'].cumsum(),max_2021['80-89'].cumsum(),color='lightgrey')\n",
    "\n",
    "mean.loc['2021','90+'][:last_data_day].cumsum().plot(ax=axes[3],ls='dashed',color='k')\n",
    "axes[3].fill_between(min_2021.index,min_2021['90+'].cumsum(),max_2021['90+'].cumsum(),color='lightgrey')\n",
    "\n",
    "for i,a in enumerate(axes):\n",
    "    a.axvline (mortality_all_grp_TD.index[-21],ls='dashed',color='orange',label='stable data to the left')\n",
    "\n",
    "    a.legend([mean.columns[i],'avg 2015-2018','stable data to the left','range 2015-2018'],loc='upper left')\n",
    "    a.set_ylabel('cum. daily mort.')\n",
    "    \n",
    "plt.savefig('SCB_excess_daily_age_grp_2021_cum_mortality.jpg',format='jpg')\n"
   ]
  },
  {
   "cell_type": "code",
   "execution_count": null,
   "metadata": {},
   "outputs": [],
   "source": [
    "monthly_age_grp_mortality = mortality_all_grp_TD.groupby(\n",
    "    [mortality_all_grp_TD.index.year,mortality_all_grp_TD.index.month]).sum()\n",
    "\n",
    "monthly_age_grp_mortality"
   ]
  },
  {
   "cell_type": "code",
   "execution_count": null,
   "metadata": {},
   "outputs": [],
   "source": [
    "title = 'SWEDEN monthly age group mortality 2015-2021 YTD\\nDataSource : scb.se'\n",
    "axes = monthly_age_grp_mortality.plot(kind='bar',figsize=(18,12),subplots=True,title=title)\n",
    "\n",
    "for a in axes:\n",
    "    for i in range(len(monthly_age_grp_mortality)):\n",
    "        a.axvline(i*12,ls='dashed',color='grey')"
   ]
  },
  {
   "cell_type": "code",
   "execution_count": null,
   "metadata": {},
   "outputs": [],
   "source": []
  },
  {
   "cell_type": "code",
   "execution_count": null,
   "metadata": {},
   "outputs": [],
   "source": []
  },
  {
   "cell_type": "code",
   "execution_count": null,
   "metadata": {},
   "outputs": [],
   "source": [
    "\n",
    "\n",
    "title='SWEDEN age group [-64,65-79,80-89,90+] monthly mortality 2020 \\nDataSource : scb.se' \n",
    "\n",
    "monthly_age_mortality_2020 = monthly_age_mortality.loc['2020-01-01' : '2020-12-31']\n",
    "\n",
    "monthly_mean_2020 = monthly_baseline_stats.loc['2020-01-01' :'2020-12-31'].xs('mean',level=1,axis=1)\n",
    "monthly_min_2020 = monthly_baseline_stats.loc['2020-01-01' : '2020-12-31'].xs('min',level=1,axis=1)\n",
    "monthly_max_2020 = monthly_baseline_stats.loc['2020-01-01' : '2020-12-31'].xs('max',level=1,axis=1)\n",
    "\n",
    "axes = monthly_age_mortality_2020.plot(figsize=(18,12),style='ro--',subplots=True,title=title)\n",
    "\n",
    "axes[0].fill_between(monthly_min_2020.index,monthly_min_2020['-64'],monthly_max_2020['-64'],\n",
    "                     color='lightgrey',label='range 2015-2018 : -64')\n",
    "\n",
    "monthly_mean_2020.plot(ax=axes[0],y='-64',style='k--',label='mean')\n",
    "\n",
    "\n",
    "axes[1].fill_between(monthly_min_2020.index,monthly_min_2020['65-79'],monthly_max_2020['65-79'],\n",
    "                     color='lightgrey',label='range 2015-2018 : 65-79')\n",
    "\n",
    "monthly_mean_2020.plot(ax=axes[1],y='65-79',style='k--',label='mean')\n",
    "\n",
    "\n",
    "axes[2].fill_between(monthly_min_2020.index,monthly_min_2020['80-89'],monthly_max_2020['80-89'],\n",
    "                     color='lightgrey',label='range 2015-2018 : 80-89')\n",
    "\n",
    "monthly_mean_2020.plot(ax=axes[2],y='80-89',style='k--',label='mean')\n",
    "\n",
    "\n",
    "axes[3].fill_between(monthly_min_2020.index,monthly_min_2020['90+'],monthly_max_2020['90+'],\n",
    "                     color='lightgrey',label='range 2015-2018 : 90+')\n",
    "\n",
    "monthly_mean_2020.plot(ax=axes[3],y='90+',style='k--',label='mean')\n",
    "\n",
    "\n",
    "for a in axes:\n",
    "    a.set_ylabel('monthly mortality')\n",
    "    a.legend(loc='lower left')\n",
    "\n",
    "\n",
    "plt.savefig('SCB_excess_2020_monthly_age_mortality.jpg',format='jpg')\n",
    "\n",
    "\n",
    "\n",
    "monthly_age_mortality_2020\n"
   ]
  },
  {
   "cell_type": "code",
   "execution_count": null,
   "metadata": {},
   "outputs": [],
   "source": [
    "monthly_age_grp_mortality"
   ]
  },
  {
   "cell_type": "code",
   "execution_count": null,
   "metadata": {},
   "outputs": [],
   "source": [
    "### monthly mortality indexed by DatetimeIndex ###\n",
    "\n",
    "monthly_age_grp_mortality_long = monthly_age_grp_mortality.copy()\n",
    "monthly_age_grp_mortality_long.index = pd.date_range('2015',periods=len(monthly_age_grp_mortality),freq='M')"
   ]
  },
  {
   "cell_type": "code",
   "execution_count": null,
   "metadata": {},
   "outputs": [],
   "source": [
    "monthly_age_grp_mortality_long"
   ]
  },
  {
   "cell_type": "code",
   "execution_count": null,
   "metadata": {},
   "outputs": [],
   "source": [
    "monthly_age_grp_mortality_long.groupby(monthly_age_grp_mortality_long.index.year).sum()"
   ]
  },
  {
   "cell_type": "code",
   "execution_count": null,
   "metadata": {},
   "outputs": [],
   "source": [
    "### get the monthly age grp specific mortality for baseline 2015 - 2018 ###\n",
    "baseline_monthly_mort = monthly_age_grp_mortality_long.loc['2015-01-01' : '2018-12-31']\n",
    "baseline_mort_15_18 = baseline_monthly_mort.groupby([baseline_monthly_mort.index.month]).mean()\n",
    "baseline_mort_15_18"
   ]
  },
  {
   "cell_type": "code",
   "execution_count": null,
   "metadata": {},
   "outputs": [],
   "source": [
    "nr_years = len(pop_age_scb_prel_df.index.get_level_values(0).unique())"
   ]
  },
  {
   "cell_type": "code",
   "execution_count": null,
   "metadata": {},
   "outputs": [],
   "source": [
    "### create a repeating baseline based on the above monthly baseline ###\n",
    "baseline_mort_monthly = pd.concat([baseline_mort_15_18] * nr_years)\n",
    "baseline_mort_monthly.index = pd.date_range('2002-01-01','2021-12-31',freq='M')"
   ]
  },
  {
   "cell_type": "code",
   "execution_count": null,
   "metadata": {},
   "outputs": [],
   "source": [
    "\n",
    "baseline_mort_monthly.loc['2020']"
   ]
  },
  {
   "cell_type": "code",
   "execution_count": null,
   "metadata": {
    "scrolled": false
   },
   "outputs": [],
   "source": [
    "pop_age_scb_prel_df_long = pd.DataFrame(\n",
    "    np.tile(pop_age_scb_prel_df.unstack().droplevel(0,axis=1).values,12).reshape((-1,4)),\n",
    "columns=monthly_age_grp_mortality_long.columns,index=pd.date_range('2002-01-01','2021-12-31',freq='M'))"
   ]
  },
  {
   "cell_type": "code",
   "execution_count": null,
   "metadata": {},
   "outputs": [],
   "source": [
    "pop_age_scb_prel_df_long"
   ]
  },
  {
   "cell_type": "code",
   "execution_count": null,
   "metadata": {},
   "outputs": [],
   "source": [
    "\n",
    "monthly_expected_deaths = baseline_mort_monthly * pop_age_scb_prel_df_long\n",
    "print (monthly_expected_deaths.sum(axis=1).groupby(monthly_expected_deaths.index.year).sum())\n",
    "monthly_expected_deaths"
   ]
  },
  {
   "cell_type": "code",
   "execution_count": null,
   "metadata": {},
   "outputs": [],
   "source": [
    "grp_daily_corrected_monthly"
   ]
  },
  {
   "cell_type": "code",
   "execution_count": null,
   "metadata": {},
   "outputs": [],
   "source": [
    "monthly_excess = grp_daily_corrected_monthly.sub(\n",
    "    monthly_expected_deaths.loc['2015':last_good_date],axis=0)\n",
    "monthly_excess.dropna()"
   ]
  },
  {
   "cell_type": "code",
   "execution_count": null,
   "metadata": {},
   "outputs": [],
   "source": [
    "\n",
    "yearly_age_grp_excess = monthly_excess.groupby(monthly_excess.index.year).sum()\n",
    "print (yearly_age_grp_excess.sum(axis=1))\n",
    "yearly_age_grp_excess"
   ]
  },
  {
   "cell_type": "code",
   "execution_count": null,
   "metadata": {},
   "outputs": [],
   "source": [
    "monthly_excess.groupby([monthly_excess.index.year,monthly_excess.index.month]).cumsum()"
   ]
  },
  {
   "cell_type": "code",
   "execution_count": null,
   "metadata": {},
   "outputs": [],
   "source": [
    "from pandas.tseries.offsets import MonthEnd\n",
    "title='SWEDEN monthly excess deaths 2015 - {} per age grp vs baseline 2015-2018\\nDataSource : scb.se'.format(\n",
    "    (last_good_date + MonthEnd(0)).date())\n",
    "\n",
    "axes = monthly_excess.plot(figsize=(18,12),style='ro--',subplots=True,title=title)\n",
    "\n",
    "for a in axes:\n",
    "    a.set_ylabel('excess deaths')\n",
    "    a.axhline(0,ls='dashed',color='k')\n",
    "    \n",
    "    for i in range(len(monthly_excess.index))[::12]:\n",
    "        a.axvline(monthly_excess.index[i],ls='dashed',color='orange')\n",
    "        \n",
    "plt.savefig('SCB_timeline_age_grp_monthly_excess.jpg',format='jpg')"
   ]
  },
  {
   "cell_type": "code",
   "execution_count": null,
   "metadata": {},
   "outputs": [],
   "source": [
    "monthly_excess"
   ]
  },
  {
   "cell_type": "code",
   "execution_count": null,
   "metadata": {},
   "outputs": [],
   "source": [
    "monthly_cum_excess = monthly_excess.groupby(monthly_excess.index.year).cumsum()\n",
    "monthly_cum_excess"
   ]
  },
  {
   "cell_type": "code",
   "execution_count": null,
   "metadata": {},
   "outputs": [],
   "source": [
    "total_monthly_cum_excess = monthly_cum_excess.sum(axis=1)\n",
    "total_monthly_cum_excess"
   ]
  },
  {
   "cell_type": "code",
   "execution_count": null,
   "metadata": {},
   "outputs": [],
   "source": [
    "title = 'SWEDEN yearly cumulative excess deaths per month [baseline: 2015-2018] 2015-01-01 - {}\\nDataSource : scb.se'.format(\n",
    "total_monthly_cum_excess.index[-2].date())\n",
    "\n",
    "total_monthly_cum_excess[:-1].plot(figsize=(18,12),style='ro--',title=title)\n",
    "plt.axhline(0,ls='dashed',color='k')\n",
    "plt.ylabel('#Excess Deaths')\n",
    "plt.xlabel('year')\n",
    "plt.savefig('SCB_excess_cum_total_excess_deaths_2015_2021_YTD.jpg',format='jpg')"
   ]
  },
  {
   "cell_type": "code",
   "execution_count": null,
   "metadata": {},
   "outputs": [],
   "source": [
    "#### BUG! Identified : scb data error : see note on top of notebook ####\n",
    "#### HOW CAN 90+ HAVE EXCESS DEATHS WHEN MORTALITY FOR THAT AGE GRP AS ABOVE IS BELOW SAME BASELINE....? ####\n",
    "#### ONLY MORTALITY FOR 2020 IS IDENTICAL IN THE TWO COMPUTATIONS - MORTALITY FOR OTHER YEARS IS LOWER FOR ####\n",
    "#### THE OTHER YEARS IN THE SECOND COMPUTATION ####\n",
    "\n",
    "#### the first computation is correct ####\n",
    "\n",
    "title='SWEDEN monthly cumulative excess deaths per year 2015 - {} per age grp vs baseline 2015-2018\\nDataSource : scb.se'.format(\n",
    "    (last_good_date + MonthEnd(0)).date())\n",
    "axes = monthly_cum_excess.plot(figsize=(18,12),subplots=True,style='ro--',title=title)\n",
    "\n",
    "for a in axes:\n",
    "    a.axhline(0,ls='dashed',color='k')\n",
    "    a.set_ylabel('excess deaths')\n",
    "    a.legend(loc='lower left')\n",
    "    \n",
    "    for i in range(len(monthly_cum_excess.index))[::12]:\n",
    "        a.axvline(monthly_cum_excess.index[i],ls='dashed',color='orange')\n",
    "        \n",
    "plt.savefig('SCB_timeline_age_grp_monthly_cumulative_excess.jpg',format='jpg')\n",
    "monthly_cum_excess"
   ]
  },
  {
   "cell_type": "code",
   "execution_count": null,
   "metadata": {},
   "outputs": [],
   "source": [
    "monthly_cum_excess.sum(axis=1)"
   ]
  },
  {
   "cell_type": "code",
   "execution_count": null,
   "metadata": {},
   "outputs": [],
   "source": [
    "monthly_cum_excess.sum(axis=1)[:-1].plot(figsize=(18,12),style='ro--')\n",
    "plt.axhline(0,ls='dashed',color='k')"
   ]
  },
  {
   "cell_type": "code",
   "execution_count": null,
   "metadata": {},
   "outputs": [],
   "source": [
    "#### scb data error, cmp next cell - this one has the correct data for all years ###\n",
    "mort_by_official = age_mortality_flat.loc['2015':]\n",
    "mort_by_official"
   ]
  },
  {
   "cell_type": "code",
   "execution_count": null,
   "metadata": {},
   "outputs": [],
   "source": [
    "#### scb data error - this one has only 2020 correct (all data from prel data scb excel tabell 2)\n",
    "mort_by_prel = monthly_age_grp_mortality_long[:-1].groupby(monthly_age_grp_mortality_long.index[:-1].year).sum()\n",
    "mort_by_prel"
   ]
  },
  {
   "cell_type": "code",
   "execution_count": null,
   "metadata": {},
   "outputs": [],
   "source": [
    "official_2015_2019 = dead_age_scb_prel_df.loc['2015':].unstack()\n",
    "official_2015_2019"
   ]
  },
  {
   "cell_type": "code",
   "execution_count": null,
   "metadata": {},
   "outputs": [],
   "source": [
    "prel_2015_2021 = grp_daily_corrected.groupby(grp_daily_corrected.index.year).sum()\n",
    "prel_2015_2021"
   ]
  },
  {
   "cell_type": "code",
   "execution_count": null,
   "metadata": {},
   "outputs": [],
   "source": [
    "official_2015_2019.index = range(2015,2021)\n",
    "\n",
    "official_2015_2019.index.name='year'\n",
    "\n",
    "official_2015_2019 = official_2015_2019.droplevel(0,axis=1)\n",
    "\n",
    "official_2015_2019"
   ]
  },
  {
   "cell_type": "code",
   "execution_count": null,
   "metadata": {},
   "outputs": [],
   "source": [
    "prel_2015_2021 - official_2015_2019"
   ]
  },
  {
   "cell_type": "code",
   "execution_count": null,
   "metadata": {},
   "outputs": [],
   "source": [
    "official_2015_2019.sum(axis=1)"
   ]
  },
  {
   "cell_type": "code",
   "execution_count": null,
   "metadata": {},
   "outputs": [],
   "source": [
    "prel_2015_2021.sum(axis=1)"
   ]
  },
  {
   "cell_type": "code",
   "execution_count": null,
   "metadata": {},
   "outputs": [],
   "source": [
    "monthly_cum_excess"
   ]
  },
  {
   "cell_type": "code",
   "execution_count": null,
   "metadata": {},
   "outputs": [],
   "source": [
    "monthly_cum_excess.sum(axis=1)"
   ]
  },
  {
   "cell_type": "code",
   "execution_count": null,
   "metadata": {},
   "outputs": [],
   "source": [
    "def plot_excess_timeline(df,title=''):\n",
    "    \n",
    "    year_grps = df.groupby(df.index.year)\n",
    "\n",
    "    yrs = range(2015,2022)\n",
    "\n",
    "    plt.figure(figsize=(18,12))\n",
    "    plt.title(title)\n",
    "    plt.ylabel('excess deaths')\n",
    "    plt.xlabel('year')\n",
    "\n",
    "    colors = ['blue','green','orange','red']\n",
    "\n",
    "    for y in yrs:\n",
    "\n",
    "        yg = year_grps.get_group(y)\n",
    "\n",
    "        for i, ag in enumerate(yg.columns):\n",
    "\n",
    "            if y == 2015:\n",
    "                label = ag\n",
    "            else:\n",
    "                label = ''\n",
    "\n",
    "            plt.plot(yg[ag],'o--',color=colors[i],label=label)\n",
    "            \n",
    "        if y != yrs[-1]:\n",
    "            label = 'EOY' if y == yrs[0] else ''\n",
    "            plt.axvline(yg.index[-1],color='k',ls='dashed',label=label)\n",
    "    \n",
    "\n",
    "    plt.legend()\n",
    "    plt.axhline(0,color='k',ls='dashed')\n",
    "\n"
   ]
  },
  {
   "cell_type": "code",
   "execution_count": null,
   "metadata": {},
   "outputs": [],
   "source": [
    "leg = '\\nMortality Baseline : 2015-2018'\n",
    "cred = '\\nDataSource : SCB.se'\n",
    "title = 'SWEDEN Cumulative Monthly Excess deaths per age group : timeline 2015-01-01 - {}'.format(\n",
    "    monthly_cum_excess.index[-2].date()) + leg + cred\n",
    "\n",
    "plot_excess_timeline(monthly_cum_excess,title)\n",
    "plt.savefig('SCB_excess_cum_excess_2015_YTD_timeline.jpg',format='jpg')\n",
    "\n",
    "title = 'SWEDEN Monthly Excess deaths per age group : timeline 2015-01-01 - {}'.format(\n",
    "    monthly_cum_excess.index[-2].date()) + leg + cred\n",
    "\n",
    "plot_excess_timeline(monthly_excess,title)\n",
    "plt.savefig('SCB_excess_excess_2015_YTD_timeline.jpg',format='jpg')\n",
    "\n"
   ]
  },
  {
   "cell_type": "code",
   "execution_count": null,
   "metadata": {},
   "outputs": [],
   "source": [
    "##### FHM #####"
   ]
  },
  {
   "cell_type": "code",
   "execution_count": null,
   "metadata": {},
   "outputs": [],
   "source": [
    "fhm_file = pd.ExcelFile('https://www.arcgis.com/sharing/rest/content/items/b5e7488e117749c19881cce45db13f7e/data')\n",
    "fhm_file.sheet_names"
   ]
  },
  {
   "cell_type": "code",
   "execution_count": null,
   "metadata": {},
   "outputs": [],
   "source": [
    "fhm_daily_dead = fhm_file.parse(sheet_name='Antal avlidna per dag')\n",
    "fhm_daily_dead.tail(20)"
   ]
  },
  {
   "cell_type": "code",
   "execution_count": null,
   "metadata": {},
   "outputs": [],
   "source": [
    "fhm_daily_dead.sum()"
   ]
  },
  {
   "cell_type": "code",
   "execution_count": null,
   "metadata": {},
   "outputs": [],
   "source": [
    "fhm_dead_unknowns = fhm_daily_dead.iloc[-1].copy()\n",
    "fhm_daily_dead_knowns = fhm_daily_dead.iloc[:-1].copy()\n",
    "fhm_dead_unknowns"
   ]
  },
  {
   "cell_type": "code",
   "execution_count": null,
   "metadata": {},
   "outputs": [],
   "source": [
    "fhm_daily_dead_knowns"
   ]
  },
  {
   "cell_type": "code",
   "execution_count": null,
   "metadata": {},
   "outputs": [],
   "source": [
    "add_ons = fhm_dead_unknowns.loc['Antal_avlidna'] * (fhm_daily_dead_knowns['Antal_avlidna'] / \n",
    "                                                    fhm_daily_dead_knowns['Antal_avlidna'].sum())\n",
    "#fhm_dead_unknowns.loc['Antal_avlidna']\n",
    "fhm_daily_dead_corrected = add_ons + fhm_daily_dead_knowns['Antal_avlidna']\n",
    "print (fhm_daily_dead_corrected.sum())\n",
    "fhm_daily_dead_corrected"
   ]
  },
  {
   "cell_type": "code",
   "execution_count": null,
   "metadata": {},
   "outputs": [],
   "source": [
    "### NOTE - using only the deaths with known dates, skipping the 40 with unknown date ###\n",
    "fhm_daily_dead_knowns['Datum_avliden'] = pd.to_datetime(fhm_daily_dead_knowns['Datum_avliden'])\n",
    "fhm_daily_dead_knowns.set_index('Datum_avliden',inplace=True)\n",
    "fhm_daily_dead_knowns"
   ]
  },
  {
   "cell_type": "code",
   "execution_count": null,
   "metadata": {},
   "outputs": [],
   "source": [
    "fhm_daily_dead_knowns.sum()"
   ]
  },
  {
   "cell_type": "code",
   "execution_count": null,
   "metadata": {},
   "outputs": [],
   "source": [
    "fhm_daily_dead_knowns.plot(figsize=(18,12),style='o--')\n",
    "plt.savefig('SCB_excess_fhm_daily_dead.jpg',format='jpg')"
   ]
  },
  {
   "cell_type": "code",
   "execution_count": null,
   "metadata": {},
   "outputs": [],
   "source": [
    "fhm_weekly_dead = fhm_daily_dead_knowns.resample('W').sum()\n",
    "fhm_weekly_dead"
   ]
  },
  {
   "cell_type": "code",
   "execution_count": null,
   "metadata": {},
   "outputs": [],
   "source": [
    "fhm_weekly_dead.plot(style='o--',figsize=(18,12))\n",
    "plt.savefig('SCB_excess_fhm_weekly_dead.jpg',format='jpg')"
   ]
  },
  {
   "cell_type": "code",
   "execution_count": null,
   "metadata": {},
   "outputs": [],
   "source": [
    "fhm_positive = fhm_file.parse(sheet_name='Antal per dag region',usecols=[0,1],parse_dates=True,index_col=0)\n",
    "fhm_positive\n"
   ]
  },
  {
   "cell_type": "code",
   "execution_count": null,
   "metadata": {},
   "outputs": [],
   "source": [
    "fhm_weekly_positive = fhm_positive.resample('W').sum()\n",
    "fhm_weekly_positive"
   ]
  },
  {
   "cell_type": "code",
   "execution_count": null,
   "metadata": {},
   "outputs": [],
   "source": [
    "fhm_weekly_positive.plot(style='o--',figsize=(18,12))\n",
    "plt.savefig('SCB_excess_fhm_weekly_positive.jpg',format='jpg')"
   ]
  },
  {
   "cell_type": "code",
   "execution_count": null,
   "metadata": {},
   "outputs": [],
   "source": [
    "fhm_icu = fhm_file.parse(sheet_name='Antal intensivvårdade per dag',parse_dates=True,index_col=0)\n",
    "fhm_icu.plot()\n",
    "fhm_icu.tail(40)"
   ]
  },
  {
   "cell_type": "code",
   "execution_count": null,
   "metadata": {},
   "outputs": [],
   "source": [
    "fhm_icu_weekly = fhm_icu.resample('W').sum()\n",
    "fhm_icu_weekly"
   ]
  },
  {
   "cell_type": "code",
   "execution_count": null,
   "metadata": {},
   "outputs": [],
   "source": [
    "last_good = fhm_icu_weekly.index[-2].date()\n",
    "one_year_back_from_last = last_good - pd.DateOffset(years=1)\n",
    "one_week_fwd = last_good + pd.DateOffset(weeks=1)\n",
    "\n",
    "title = \"SWEDEN nr COVID ICU cases per week {} - {}\".format(fhm_icu_weekly.index[0].date(),last_good)\n",
    "ax = fhm_icu_weekly[:-1].plot(style='o--',figsize=(18,12),title=title)\n",
    "plt.axvline(one_year_back_from_last,ls='dashed',color='orange',label='one year back from latest week')\n",
    "plt.axvline(last_good,color='red',ls='dashed',label='latest week')\n",
    "fhm_icu_weekly.plot(ax=ax,alpha=0) # to extend the x-axis one more week for clarity #\n",
    "plt.ylabel('nr ICU cases per week')\n",
    "plt.legend(['ICU Cases','one year back from latest week','latest week'],loc='upper right')\n",
    "plt.savefig('SCB_excess_fhm_weekly_icu.jpg',format='jpg')"
   ]
  },
  {
   "cell_type": "code",
   "execution_count": null,
   "metadata": {},
   "outputs": [],
   "source": [
    "fhm_weekly_positive"
   ]
  },
  {
   "cell_type": "code",
   "execution_count": null,
   "metadata": {},
   "outputs": [],
   "source": [
    "def covid_plots(df,title_sub,ax,full_date_range):\n",
    "    last_good = df.index[-2].date()\n",
    "    one_year_back_from_last = last_good - pd.DateOffset(years=1)\n",
    "    one_week_fwd = last_good + pd.DateOffset(weeks=1)\n",
    "    \n",
    "    ### put all 3 sublots with identical x-axis, covering the full period from first case ###\n",
    "    ax.plot(full_date_range,[df.max().values[0]] * (len(full_date_range) ),alpha=0)\n",
    "\n",
    "    title = \"SWEDEN nr COVID \" + title_sub + \" per week {} - {}\".format(df.index[0].date(),last_good)\n",
    "    df[:-1].plot(style='o--',figsize=(18,12),title=title,ax=ax)\n",
    "    ax.axvline(one_year_back_from_last,ls='dashed',color='orange',label='one year back from latest week')\n",
    "    ax.axvline(last_good,color='red',ls='dashed',label='latest week')\n",
    "    df.plot(ax=ax,alpha=0) # to extend the x-axis one more week for clarity #\n",
    "    ax.set_ylabel('nr ' + title_sub + ' per week')\n",
    "    ax.set_xlabel('date')\n",
    "    ax.legend([None,title_sub,'one year back from latest week','latest week'],loc='upper center')\n",
    "    \n",
    "fig,axes = plt.subplots(3,sharex=True)\n",
    "\n",
    "full_date_range = pd.date_range('2020-02-09',fhm_weekly_positive.index[-1],freq='W')\n",
    "\n",
    "covid_plots(fhm_weekly_positive,'Positive',axes[0],full_date_range)\n",
    "covid_plots(fhm_icu_weekly,'ICU Cases',axes[1],full_date_range)\n",
    "covid_plots(fhm_weekly_dead,'Deaths',axes[2],full_date_range)\n",
    "\n",
    "plt.suptitle('SWEDEN weekly Covid Events\\nDatasource : folkhalsomyndigheten.se')\n",
    "plt.savefig('scb_excess_fhm_combined.jpg',format='jpg')"
   ]
  },
  {
   "cell_type": "code",
   "execution_count": null,
   "metadata": {},
   "outputs": [],
   "source": [
    "fhm_age_grp_impact = fhm_file.parse(sheet_name='Totalt antal per åldersgrupp',skipfooter=1)\n",
    "fhm_age_grp_impact['10_year_bin'] = ['0-9','10-19','20-29','30-39','40-49','50-59','60-69','70-79','80-89','90+']\n",
    "fhm_age_grp_impact.set_index('10_year_bin',inplace=True)\n",
    "fhm_age_grp_impact.drop('Åldersgrupp',axis=1,inplace=True)\n",
    "fhm_age_grp_impact"
   ]
  },
  {
   "cell_type": "code",
   "execution_count": null,
   "metadata": {},
   "outputs": [],
   "source": [
    "ten_year_bins = pd.cut(pop_age_df.loc['2020'].index,[-1,10,20,30,40,50,60,70,80,90,100],\n",
    "       labels=['0-9','10-19','20-29','30-39','40-49','50-59','60-69','70-79','80-89','90+'])\n",
    "\n",
    "ten_year_bins"
   ]
  },
  {
   "cell_type": "code",
   "execution_count": null,
   "metadata": {},
   "outputs": [],
   "source": [
    "twenty_twenty_pop = pop_age_df.loc['2020'].copy()\n",
    "twenty_twenty_pop['10_year_bin'] = ten_year_bins\n",
    "twenty_twenty_pop = twenty_twenty_pop.groupby('10_year_bin').sum()\n",
    "twenty_twenty_pop"
   ]
  },
  {
   "cell_type": "code",
   "execution_count": null,
   "metadata": {},
   "outputs": [],
   "source": [
    "dead_age_df"
   ]
  },
  {
   "cell_type": "code",
   "execution_count": null,
   "metadata": {},
   "outputs": [],
   "source": [
    "dead_age_df['10_y_bin'] = pd.cut(\n",
    "    dead_age_df.index.get_level_values(1),[-1,9,19,29,39,49,59,69,79,89,100],labels=fhm_age_grp_impact.index.values)\n",
    "\n",
    "dead_age_df"
   ]
  },
  {
   "cell_type": "code",
   "execution_count": null,
   "metadata": {},
   "outputs": [],
   "source": [
    "baseline_15_18_10_y_deaths = dead_age_df.loc['2015' : '2018'].groupby(\n",
    "    ['year','10_y_bin']).sum().groupby('10_y_bin').mean()\n"
   ]
  },
  {
   "cell_type": "code",
   "execution_count": null,
   "metadata": {},
   "outputs": [],
   "source": [
    "baseline_15_18_mort =  baseline_15_18_10_y_deaths['dead'] / twenty_twenty_pop['pop']\n",
    "baseline_15_18_mort"
   ]
  },
  {
   "cell_type": "code",
   "execution_count": null,
   "metadata": {
    "scrolled": false
   },
   "outputs": [],
   "source": [
    "title = 'SWEDEN Annual proportion of all cause deaths of population age group\\nDataSource : scb.se'\n",
    "baseline_15_18_mort.plot(figsize=(18,12),style='ro--',title=title)\n",
    "plt.xticks(range(len(baseline_15_18_mort)),baseline_15_18_mort.index)\n",
    "plt.ylabel('proportion deaths')\n",
    "plt.savefig('SCB_excess_proportion_all_cause_deaths.jpg',format='jpg')"
   ]
  },
  {
   "cell_type": "code",
   "execution_count": null,
   "metadata": {},
   "outputs": [],
   "source": [
    "fhm_age_grp_impact"
   ]
  },
  {
   "cell_type": "code",
   "execution_count": null,
   "metadata": {},
   "outputs": [],
   "source": [
    "fhm_age_grp_impact.sum()"
   ]
  },
  {
   "cell_type": "code",
   "execution_count": null,
   "metadata": {},
   "outputs": [],
   "source": [
    "twenty_twenty_pop"
   ]
  },
  {
   "cell_type": "code",
   "execution_count": null,
   "metadata": {},
   "outputs": [],
   "source": [
    "### NOTE THAT SINCE THE AGE GRP IMPACT NUMBERS EXTEND TO 2021, THE FRACTION BELOW DOES NOT SHOW POPULATION \n",
    "### IMPACT 2020 ###\n",
    "\n",
    "prop_impacted_YTD = fhm_age_grp_impact.div(twenty_twenty_pop['pop'],axis=0)\n",
    "prop_impacted_YTD['CFR'] = fhm_age_grp_impact['Totalt_antal_avlidna'] / fhm_age_grp_impact['Totalt_antal_fall']\n",
    "\n",
    "prop_impacted_YTD['baseline_15_18_all_cause_mortality'] = baseline_15_18_mort\n",
    "prop_impacted_YTD['covid_base_ratio'] = prop_impacted_YTD['Totalt_antal_avlidna'] / prop_impacted_YTD['baseline_15_18_all_cause_mortality']\n",
    "prop_impacted_YTD.to_pickle('covid_prop_impacted.pkl')"
   ]
  },
  {
   "cell_type": "code",
   "execution_count": null,
   "metadata": {},
   "outputs": [],
   "source": [
    "creds = '\\nDataSouce : scb.se, folkhalsomyndigheten.se'\n",
    "title = 'SWEDEN proportion of age grp impacted by Covid, Feb 2020 to 2021 YTD [2020 population count]' + creds\n",
    "\n",
    "legend = ['Covid Positive','Covid ICU','Covid Death','Baseline 2015-2018 All Cause Mortality','CFR']\n",
    "\n",
    "axes = prop_impacted_YTD.plot(subplots=True,figsize=(18,12),style=['bo--','go--','ro--','ko--','mo--'],\n",
    "                             title=title,label=legend,\n",
    "                              y=['Totalt_antal_fall','Totalt_antal_intensivvårdade',\n",
    "                                           'Totalt_antal_avlidna','baseline_15_18_all_cause_mortality','CFR'])\n",
    "\n",
    "\n",
    "for i,a in enumerate(axes):\n",
    "    a.set_xticks(range(len(prop_impacted_YTD)))\n",
    "    a.set_xticklabels(prop_impacted_YTD.index)\n",
    "    a.set_ylabel('prop impact')\n",
    "    a.legend(loc='upper left')\n",
    "    \n",
    "axes[-1].set_ylabel('CFR')\n",
    "plt.savefig('SCB_excess_covid_impact.jpg',format='jpg')"
   ]
  },
  {
   "cell_type": "code",
   "execution_count": null,
   "metadata": {},
   "outputs": [],
   "source": [
    "fhm_age_grp_impact"
   ]
  },
  {
   "cell_type": "code",
   "execution_count": null,
   "metadata": {},
   "outputs": [],
   "source": [
    "title = 'SWEDEN Covid Case Fatality Rate per age group\\nDataSource : Folkhalsomyndigheten.se'\n",
    "prop_impacted_YTD.plot(y='CFR',kind='bar',figsize=(18,12),title=title)\n",
    "plt.savefig('scb_error_cfr.jpg',format='jpg')"
   ]
  },
  {
   "cell_type": "code",
   "execution_count": null,
   "metadata": {},
   "outputs": [],
   "source": [
    "fhm_age_grp_impact['bin_mid'] = range(5,100,10)\n",
    "fhm_age_grp_impact"
   ]
  },
  {
   "cell_type": "code",
   "execution_count": null,
   "metadata": {},
   "outputs": [],
   "source": [
    "fhm_age_flat = np.repeat(fhm_age_grp_impact['bin_mid'],fhm_age_grp_impact['Totalt_antal_avlidna'])\n",
    "fhm_age_flat"
   ]
  },
  {
   "cell_type": "code",
   "execution_count": null,
   "metadata": {},
   "outputs": [],
   "source": [
    "fig,ax = plt.subplots(figsize=(18,12))\n",
    "sns.violinplot(data=fhm_age_flat,ax=ax)\n",
    "plt.title('SWEDEN Covid deaths age group distribution')\n",
    "plt.ylabel('age group')\n",
    "\n",
    "_=plt.yticks(range(5,100,10),range(5,100,10))"
   ]
  },
  {
   "cell_type": "code",
   "execution_count": null,
   "metadata": {},
   "outputs": [],
   "source": [
    "fhm_age_flat.describe()"
   ]
  },
  {
   "cell_type": "code",
   "execution_count": null,
   "metadata": {},
   "outputs": [],
   "source": [
    "def mid_bin(x):\n",
    "    return pd.Series(np.array(x))\n",
    "\n",
    "mids = mid_bin(dead_age_df['10_y_bin']).apply(lambda x : int(x[0] + '5'))\n",
    "\n",
    "dead_age_df['mid_bin'] = mids.values\n",
    "dead_age_df"
   ]
  },
  {
   "cell_type": "code",
   "execution_count": null,
   "metadata": {},
   "outputs": [],
   "source": [
    "baseline_age_dead = dead_age_df.loc['2015':'2018'].groupby('mid_bin').mean()\n",
    "baseline_age_dead"
   ]
  },
  {
   "cell_type": "code",
   "execution_count": null,
   "metadata": {},
   "outputs": [],
   "source": [
    "fig,ax = plt.subplots(figsize=(18,12))\n",
    "\n",
    "title = 'SWEDEN age of death distribution for baseline 2015-2018' +\\\n",
    "'vs Covid death distribution [10 year bins]\\nDataSource : scb.se, folkhalsomyndigheten.se'\n",
    "\n",
    "baseline_age_flat = pd.Series(np.repeat(baseline_age_dead.index.values,np.round(baseline_age_dead['dead'],0).astype(int)))\n",
    "sns.violinplot(data=baseline_age_flat,ax=ax)\n",
    "sns.violinplot(data=fhm_age_flat,color='orange')\n",
    "plt.title(title)\n",
    "plt.ylabel('age bin [10y]')\n",
    "plt.xlabel('baseline 2015-2018,Covid-2020')\n",
    "\n",
    "plt.savefig('SCB_excess_covid_all_cause_deaths_dist_violin.jpg',format='jpg')"
   ]
  },
  {
   "cell_type": "code",
   "execution_count": null,
   "metadata": {},
   "outputs": [],
   "source": [
    "grp_corrected_weekly = grp_daily_corrected.loc['2015' : '2020']\n",
    "grp_corrected_weekly = grp_corrected_weekly.resample('W').sum()\n",
    "weekly_prop = grp_corrected_weekly.groupby(grp_corrected_weekly.index.year).transform(lambda x : x / x.sum())\n",
    "weekly_prop"
   ]
  },
  {
   "cell_type": "code",
   "execution_count": null,
   "metadata": {},
   "outputs": [],
   "source": [
    "weekly_prop[:-1].plot(figsize=(18,12),subplots=True,style='o--')"
   ]
  },
  {
   "cell_type": "code",
   "execution_count": null,
   "metadata": {},
   "outputs": [],
   "source": [
    "last_4_weeks = weekly_prop.loc[weekly_prop.index.week.isin([49,50,51,52,53])]\n",
    "last_4_weeks[:-1].plot(kind='bar',figsize=(18,12))"
   ]
  },
  {
   "cell_type": "code",
   "execution_count": null,
   "metadata": {},
   "outputs": [],
   "source": [
    "last_week_baseline = pd.DataFrame()\n",
    "\n",
    "yearly_last_week_grps = last_4_weeks.groupby(last_4_weeks.index.year)\n",
    "for y in range(2015,2019):\n",
    "    g = yearly_last_week_grps.get_group(y)\n",
    "    last_week_baseline = pd.concat([last_week_baseline,g])\n",
    "    \n",
    "last_week_baseline['week'] = last_week_baseline.index.week\n",
    "last_week_baseline = last_week_baseline.groupby('week').mean()\n",
    "last_week_baseline"
   ]
  },
  {
   "cell_type": "code",
   "execution_count": null,
   "metadata": {},
   "outputs": [],
   "source": [
    "twenty_twenty_last_4_weeks = yearly_last_week_grps.get_group(2020)\n",
    "twenty_twenty_last_4_weeks.index = range(49,53)\n",
    "twenty_twenty_last_4_weeks"
   ]
  },
  {
   "cell_type": "code",
   "execution_count": null,
   "metadata": {},
   "outputs": [],
   "source": [
    "last_4_vs_baseline = twenty_twenty_last_4_weeks / last_week_baseline\n",
    "last_4_vs_baseline.dropna().plot(kind='bar',figsize=(18,12))\n",
    "plt.axhline(1,ls='dashed',color='k')\n",
    "plt.xlabel('week nr')"
   ]
  },
  {
   "cell_type": "code",
   "execution_count": null,
   "metadata": {},
   "outputs": [],
   "source": [
    "last_4_weeks"
   ]
  },
  {
   "cell_type": "code",
   "execution_count": null,
   "metadata": {},
   "outputs": [],
   "source": []
  },
  {
   "cell_type": "code",
   "execution_count": null,
   "metadata": {},
   "outputs": [],
   "source": [
    "monthly_prop = grp_daily_corrected_monthly.groupby(\n",
    "    grp_daily_corrected_monthly.index.year).transform(lambda x : x / x.sum())\n",
    "\n",
    "monthly_prop[:-1].plot(subplots=True,figsize=(18,12),style='o--')"
   ]
  },
  {
   "cell_type": "code",
   "execution_count": null,
   "metadata": {
    "scrolled": false
   },
   "outputs": [],
   "source": [
    "title = 'SWEDEN December proportion of yearly deaths per age group\\nDataSource : scb.se'\n",
    "decembers = monthly_prop.loc[monthly_prop.index.month==12]\n",
    "decembers.plot(kind='bar',figsize=(18,12),title=title)\n",
    "plt.ylabel('proportion of yearly deaths')\n",
    "plt.xlabel('year')\n",
    "_= plt.xticks(range(len(decembers)),decembers.index.date)"
   ]
  },
  {
   "cell_type": "code",
   "execution_count": null,
   "metadata": {},
   "outputs": [],
   "source": [
    "dead_age_df.groupby([dead_age_df.index.get_level_values(0),'scb_prel_age_bin']).sum()"
   ]
  },
  {
   "cell_type": "code",
   "execution_count": null,
   "metadata": {},
   "outputs": [],
   "source": [
    "axes = mortality_all_grp_TD.loc['2021'].resample('W').sum().plot(subplots=True,figsize=(18,12),style='o--')\n",
    "axes"
   ]
  },
  {
   "cell_type": "code",
   "execution_count": null,
   "metadata": {},
   "outputs": [],
   "source": [
    "mortality_all_grp_TD.plot(figsize=(18,12))\n",
    "mortality_all_grp_TD"
   ]
  },
  {
   "cell_type": "code",
   "execution_count": null,
   "metadata": {},
   "outputs": [],
   "source": [
    "### there are 20 years. By using 366 days per year (i.e. having Feb 29 each year) while only 5 years\n",
    "### (2020,2016,2012,2008,2004) are true leap years. So, we overshoot by 15 days in replicating the population.\n",
    "### So, we must remove the 59:th day for all years except the true leap years. \n",
    "\n",
    "daily_age_grp_pop = np.tile(pop_age_scb_prel_df.unstack().droplevel(0,axis=1).values,366).reshape(-1,4)\n",
    "\n",
    "# day number of feb 29:th each year\n",
    "day_59 = np.array([(366 * i + 59)  for i in range(20)]) \n",
    "\n",
    "# leap years 2002-2021\n",
    "leap = np.array([False,False,True,False,False,False,True,False,False,False,True,False,False,False,True,\n",
    "       False,False,False,True,False])\n",
    "\n",
    "day_59[~leap]"
   ]
  },
  {
   "cell_type": "code",
   "execution_count": null,
   "metadata": {},
   "outputs": [],
   "source": [
    "daily_age_grp_pop = np.delete(daily_age_grp_pop,day_59[~leap],axis=0)\n",
    "daily_age_grp_pop"
   ]
  },
  {
   "cell_type": "code",
   "execution_count": null,
   "metadata": {},
   "outputs": [],
   "source": [
    "pop_age_scb_prel_df_daily = pd.DataFrame(\n",
    "    daily_age_grp_pop,\n",
    "columns=monthly_age_grp_mortality_long.columns,index=pd.date_range('2002-01-01','2021-12-31',freq='D'))\n",
    "\n",
    "pop_age_scb_prel_df_daily"
   ]
  },
  {
   "cell_type": "code",
   "execution_count": null,
   "metadata": {},
   "outputs": [],
   "source": [
    "daily_deaths = (mortality_all_grp_TD * pop_age_scb_prel_df_daily).dropna()\n",
    "daily_deaths"
   ]
  },
  {
   "cell_type": "code",
   "execution_count": null,
   "metadata": {},
   "outputs": [],
   "source": [
    "grp_mortality_15_18 = mortality_all_grp_TD.loc['2015' : '2018']\n",
    "\n",
    "baseline_daily_mortality = grp_mortality_15_18.groupby(grp_mortality_15_18.index.dayofyear).mean()\n",
    "baseline_daily_mortality"
   ]
  },
  {
   "cell_type": "code",
   "execution_count": null,
   "metadata": {},
   "outputs": [],
   "source": [
    "baseline_daily_mortality.plot(figsize=(18,12))\n"
   ]
  },
  {
   "cell_type": "code",
   "execution_count": null,
   "metadata": {
    "scrolled": false
   },
   "outputs": [],
   "source": [
    "baseline_daily_tiled = np.concatenate([baseline_daily_mortality.values] * 20).reshape(-1,4)\n",
    "baseline_daily_tiled = pd.DataFrame(np.delete(baseline_daily_tiled,day_59[~leap],axis=0),\n",
    "                                   columns=['-64','65-79','80-89','90+'])\n"
   ]
  },
  {
   "cell_type": "code",
   "execution_count": null,
   "metadata": {},
   "outputs": [],
   "source": [
    "foo = np.array([[1,2,3,4],[5,6,7,8],[9,10,11,12],[13,14,15,16]])\n",
    "np.concatenate([foo] * 4)"
   ]
  },
  {
   "cell_type": "code",
   "execution_count": null,
   "metadata": {
    "scrolled": false
   },
   "outputs": [],
   "source": [
    "#baseline_daily_tiled.index = pd.date_range('2002-01-01','2021-12-31')\n",
    "ax = baseline_daily_tiled.plot(figsize=(18,12),logy=True)\n",
    "baseline_daily_tiled\n"
   ]
  },
  {
   "cell_type": "code",
   "execution_count": null,
   "metadata": {},
   "outputs": [],
   "source": [
    "#pop_age_scb_prel_df_daily['day_nr'] = pop_age_scb_prel_df_daily.index.dayofyear\n",
    "#pop_age_scb_prel_df_daily = pop_age_scb_prel_df_daily.set_index('day_nr')\n",
    "pop_age_scb_prel_df_daily"
   ]
  },
  {
   "cell_type": "code",
   "execution_count": null,
   "metadata": {},
   "outputs": [],
   "source": [
    "expected_daily_deaths = baseline_daily_tiled * pop_age_scb_prel_df_daily.reset_index(drop=True)\n",
    "expected_daily_deaths.index = pd.date_range('2002','2021-12-31')\n",
    "\n",
    "ax = expected_daily_deaths.loc['2015':].sum(axis=1).plot(figsize=(18,12))\n",
    "daily_deaths.sum(axis=1).plot(ax=ax)\n",
    "expected_daily_deaths"
   ]
  },
  {
   "cell_type": "code",
   "execution_count": null,
   "metadata": {},
   "outputs": [],
   "source": [
    "daily_excess_deaths = (daily_deaths - expected_daily_deaths).dropna()\n",
    "daily_excess_deaths"
   ]
  },
  {
   "cell_type": "code",
   "execution_count": null,
   "metadata": {},
   "outputs": [],
   "source": [
    "daily_excess_deaths.sum(axis=1).groupby(daily_excess_deaths.index.year).sum()"
   ]
  },
  {
   "cell_type": "code",
   "execution_count": null,
   "metadata": {},
   "outputs": [],
   "source": [
    "axes = daily_excess_deaths.plot(subplots=True,figsize=(18,12))\n",
    "\n",
    "for a in axes:\n",
    "    a.axhline(0,ls='dashed',color='k')"
   ]
  },
  {
   "cell_type": "code",
   "execution_count": null,
   "metadata": {},
   "outputs": [],
   "source": [
    "weekly_excess_deaths = daily_excess_deaths.resample('W').sum()\n",
    "\n",
    "last_week = weekly_excess_deaths.index[-3].date()\n",
    "print (last_week)\n",
    "print (weekly_excess_deaths[:-2].tail())\n",
    "    \n",
    "axes = weekly_excess_deaths[:-2].plot(subplots=True,figsize=(18,12))\n",
    "\n",
    "for a in axes:\n",
    "    a.axhline(0,ls='dashed',color='k')"
   ]
  },
  {
   "cell_type": "code",
   "execution_count": null,
   "metadata": {},
   "outputs": [],
   "source": [
    "monthly_excess = daily_excess_deaths.resample('M').sum()\n",
    "monthly_excess"
   ]
  },
  {
   "cell_type": "code",
   "execution_count": null,
   "metadata": {},
   "outputs": [],
   "source": [
    "axes = monthly_excess[:-1].plot(figsize=(18,12),style='o--',subplots=True,sharey=True)\n",
    "\n",
    "for a in axes:\n",
    "    a.axhline(0,ls='dashed',color='k')"
   ]
  },
  {
   "cell_type": "code",
   "execution_count": null,
   "metadata": {},
   "outputs": [],
   "source": [
    "daily_excess_deaths.resample('Y').sum().sum(axis=1)"
   ]
  },
  {
   "cell_type": "code",
   "execution_count": null,
   "metadata": {},
   "outputs": [],
   "source": [
    "monthly_excess.resample('Y').sum().sum(axis=1)"
   ]
  },
  {
   "cell_type": "code",
   "execution_count": null,
   "metadata": {},
   "outputs": [],
   "source": [
    "#### SPANISH FLU COMPARISON ####\n",
    "\n",
    "#http://share.scb.se/ov9993/data/historisk%20statistik//SOS%201911-/H%C3%A4lso-%20och%20sjukv%C3%A5rd/D%C3%B6dsorsaker%20(SOS)%201911-1996/Dodsorsaker-1918.pdf\n",
    "\n",
    "deaths_1918_file = pd.ExcelFile('deaths_1918.xlsx')\n",
    "deaths_1918_file.sheet_names"
   ]
  },
  {
   "cell_type": "code",
   "execution_count": null,
   "metadata": {},
   "outputs": [],
   "source": [
    "#### NEVER AVERAGE AVERAGES! ####\n",
    "# here, I'm forced to average the few 5 year bin mortalities since I don't have the real numbers on deaths #\n",
    "# and for the young age grp's the error isn't that huge,since the sizes of the groups (weights) averaged #\n",
    "# are not way too different (hopefully). However, if averaging the rates for covid mortality for the 70+ grps #\n",
    "# you'll get a significant difference in combined 70+ mortality, compared to when taking the absolute deaths # \n",
    "# and population numbers, and summing them, and then dividing #. If taking the average, you get about 2%, #\n",
    "# but if doing the calculations based on the absolute numbers, it's less than 1% #\n",
    "# Reason being that the 80-89 and 90+ groups have a very high mortality cmp 70 and below, and the fact that #\n",
    "# the 80-89 & 90+ grps has a vast majority of covid deaths #\n",
    "\n",
    "deaths_1918 = deaths_1918_file.parse(sheet_name='Sheet1')\n",
    "\n",
    "deaths_1918\n"
   ]
  },
  {
   "cell_type": "code",
   "execution_count": null,
   "metadata": {},
   "outputs": [],
   "source": [
    "fhm_age_grp_impact['Totalt_antal_avlidna']"
   ]
  },
  {
   "cell_type": "code",
   "execution_count": null,
   "metadata": {},
   "outputs": [],
   "source": [
    "deaths_1918.plot(x = 'Age Grp', y=['Spanish Flu','Tuberculosis'],\n",
    "                 kind='bar',title='SWEDEN 1918 deaths per 100.000',figsize=(18,12))\n",
    "\n",
    "plt.savefig('scb_excess_spanish_flu.jpg',format='jpg')"
   ]
  },
  {
   "cell_type": "code",
   "execution_count": null,
   "metadata": {},
   "outputs": [],
   "source": [
    "pop_url_1918 = 'http://api.scb.se/OV0104/v1/doris/sv/ssd/START/BE/BE0101/BE0101A/BefolkningR1860N'\n",
    "pop_query_1918 = {\n",
    "  \"query\": [\n",
    "    {\n",
    "      \"code\": \"Alder\",\n",
    "      \"selection\": {\n",
    "        \"filter\": \"vs:Ålder1årL\",\n",
    "        \"values\": [\n",
    "          \"0\",\n",
    "          \"1\",\n",
    "          \"2\",\n",
    "          \"3\",\n",
    "          \"4\",\n",
    "          \"5\",\n",
    "          \"6\",\n",
    "          \"7\",\n",
    "          \"8\",\n",
    "          \"9\",\n",
    "          \"10\",\n",
    "          \"11\",\n",
    "          \"12\",\n",
    "          \"13\",\n",
    "          \"14\",\n",
    "          \"15\",\n",
    "          \"16\",\n",
    "          \"17\",\n",
    "          \"18\",\n",
    "          \"19\",\n",
    "          \"20\",\n",
    "          \"21\",\n",
    "          \"22\",\n",
    "          \"23\",\n",
    "          \"24\",\n",
    "          \"25\",\n",
    "          \"26\",\n",
    "          \"27\",\n",
    "          \"28\",\n",
    "          \"29\",\n",
    "          \"30\",\n",
    "          \"31\",\n",
    "          \"32\",\n",
    "          \"33\",\n",
    "          \"34\",\n",
    "          \"35\",\n",
    "          \"36\",\n",
    "          \"37\",\n",
    "          \"38\",\n",
    "          \"39\",\n",
    "          \"40\",\n",
    "          \"41\",\n",
    "          \"42\",\n",
    "          \"43\",\n",
    "          \"44\",\n",
    "          \"45\",\n",
    "          \"46\",\n",
    "          \"47\",\n",
    "          \"48\",\n",
    "          \"49\",\n",
    "          \"50\",\n",
    "          \"51\",\n",
    "          \"52\",\n",
    "          \"53\",\n",
    "          \"54\",\n",
    "          \"55\",\n",
    "          \"56\",\n",
    "          \"57\",\n",
    "          \"58\",\n",
    "          \"59\",\n",
    "          \"60\",\n",
    "          \"61\",\n",
    "          \"62\",\n",
    "          \"63\",\n",
    "          \"64\",\n",
    "          \"65\",\n",
    "          \"66\",\n",
    "          \"67\",\n",
    "          \"68\",\n",
    "          \"69\",\n",
    "          \"70\",\n",
    "          \"71\",\n",
    "          \"72\",\n",
    "          \"73\",\n",
    "          \"74\",\n",
    "          \"75\",\n",
    "          \"76\",\n",
    "          \"77\",\n",
    "          \"78\",\n",
    "          \"79\",\n",
    "          \"80\",\n",
    "          \"81\",\n",
    "          \"82\",\n",
    "          \"83\",\n",
    "          \"84\",\n",
    "          \"85\",\n",
    "          \"86\",\n",
    "          \"87\",\n",
    "          \"88\",\n",
    "          \"89\",\n",
    "          \"90\",\n",
    "          \"91\",\n",
    "          \"92\",\n",
    "          \"93\",\n",
    "          \"94\",\n",
    "          \"95\",\n",
    "          \"96\",\n",
    "          \"97\",\n",
    "          \"98\",\n",
    "          \"99\",\n",
    "          \"100\",\n",
    "          \"101\",\n",
    "          \"102\",\n",
    "          \"103\",\n",
    "          \"104\",\n",
    "          \"105\",\n",
    "          \"106\",\n",
    "          \"107\",\n",
    "          \"108\",\n",
    "          \"109\",\n",
    "          \"110+\"\n",
    "        ]\n",
    "      }\n",
    "    },\n",
    "    {\n",
    "      \"code\": \"Kon\",\n",
    "      \"selection\": {\n",
    "        \"filter\": \"item\",\n",
    "        \"values\": [\n",
    "          \"1\",\n",
    "          \"2\"\n",
    "        ]\n",
    "      }\n",
    "    },\n",
    "    {\n",
    "      \"code\": \"Tid\",\n",
    "      \"selection\": {\n",
    "        \"filter\": \"item\",\n",
    "        \"values\": [\n",
    "          \"1918\"\n",
    "        ]\n",
    "      }\n",
    "    }\n",
    "  ],\n",
    "  \"response\": {\n",
    "    \"format\": \"json\"\n",
    "  }\n",
    "}"
   ]
  },
  {
   "cell_type": "code",
   "execution_count": null,
   "metadata": {},
   "outputs": [],
   "source": [
    "r_1918 = requests.post(pop_url_1918,json=pop_query_1918)\n",
    "r_1918.status_code"
   ]
  },
  {
   "cell_type": "code",
   "execution_count": null,
   "metadata": {},
   "outputs": [],
   "source": [
    "json_1918 = r_1918.json()['data']\n",
    "json_1918[0]"
   ]
  },
  {
   "cell_type": "code",
   "execution_count": null,
   "metadata": {},
   "outputs": [],
   "source": [
    "pop_1918 = pd.DataFrame.from_dict(json_1918)\n",
    "pop_1918[['age','gender','year']] = pop_1918['key'].to_list()\n",
    "pop_1918['pop_1918'] = pop_1918['values'].apply(lambda x :x[0]).astype(int)\n",
    "pop_1918['age'] = pop_1918['age'].str.replace('+','').astype(int)\n",
    "pop_1918.drop(['key','values','year'],axis=1,inplace=True)\n"
   ]
  },
  {
   "cell_type": "code",
   "execution_count": null,
   "metadata": {},
   "outputs": [],
   "source": [
    "pop_1918"
   ]
  },
  {
   "cell_type": "code",
   "execution_count": null,
   "metadata": {},
   "outputs": [],
   "source": [
    "pop_1918_both = pop_1918.groupby(['age']).sum()\n",
    "pop_1918_both['bin_10'] = pd.cut(pop_1918_both.index,[-1,9,19,29,39,49,59,69,150],\n",
    "                                 labels=['0-9','10-19','20-29','30-39','40-49',\n",
    "                                                                '50-59','60-69','70+'])\n",
    "\n",
    "pop_1918_2020_bin_10 = pop_1918_both.groupby('bin_10').sum()\n",
    "pop_1918_2020_bin_10"
   ]
  },
  {
   "cell_type": "code",
   "execution_count": null,
   "metadata": {},
   "outputs": [],
   "source": [
    "pop_1918_2020_bin_10['pop_1918'].sum()"
   ]
  },
  {
   "cell_type": "code",
   "execution_count": null,
   "metadata": {},
   "outputs": [],
   "source": [
    "fhm_age_grp_impact['Totalt_antal_avlidna']"
   ]
  },
  {
   "cell_type": "code",
   "execution_count": null,
   "metadata": {},
   "outputs": [],
   "source": [
    "pop_2020_70_plus = twenty_twenty_pop.loc['70-79':].sum()\n",
    "pop_1918_2020_bin_10['pop_2020'] = twenty_twenty_pop.loc[:'60-69','pop']\n",
    "pop_1918_2020_bin_10.loc['70+','pop_2020'] = pop_2020_70_plus.values\n",
    "\n",
    "\n",
    "covid_dead_2020_70_plus = fhm_age_grp_impact['Totalt_antal_avlidna'].loc['70-79':].sum()\n",
    "pop_1918_2020_bin_10['covid_dead_2020_YTD'] = fhm_age_grp_impact['Totalt_antal_avlidna'].loc[:'70-79']\n",
    "\n",
    "pop_1918_2020_bin_10.loc['70+','covid_dead_2020_YTD'] = covid_dead_2020_70_plus\n",
    "pop_1918_2020_bin_10"
   ]
  },
  {
   "cell_type": "code",
   "execution_count": null,
   "metadata": {},
   "outputs": [],
   "source": []
  },
  {
   "cell_type": "code",
   "execution_count": null,
   "metadata": {},
   "outputs": [],
   "source": [
    "deaths_1918['bin_10'] = ['0-9','0-9','10-19','10-19','20-29','30-39','40-49','50-59',\n",
    "                        '60-69','70+']\n",
    "\n",
    "deaths_1918"
   ]
  },
  {
   "cell_type": "code",
   "execution_count": null,
   "metadata": {},
   "outputs": [],
   "source": [
    "mort_spanish_flu = deaths_1918.groupby('bin_10')['Spanish Flu'].mean() / 100000\n",
    "mort_spanish_flu"
   ]
  },
  {
   "cell_type": "code",
   "execution_count": null,
   "metadata": {},
   "outputs": [],
   "source": [
    "pop_1918_2020_bin_10['spanish_flu_dead'] = mort_spanish_flu * pop_1918_2020_bin_10['pop_1918']\n",
    "pop_1918_2020_bin_10"
   ]
  },
  {
   "cell_type": "code",
   "execution_count": null,
   "metadata": {},
   "outputs": [],
   "source": [
    "pop_1918_2020_bin_10.sum()"
   ]
  },
  {
   "cell_type": "code",
   "execution_count": null,
   "metadata": {},
   "outputs": [],
   "source": [
    "pop_1918_2020_bin_10['spanish_flu_mort'] = pop_1918_2020_bin_10['spanish_flu_dead'] / pop_1918_2020_bin_10['pop_1918']\n",
    "pop_1918_2020_bin_10['covid_mort'] = pop_1918_2020_bin_10['covid_dead_2020_YTD'] / pop_1918_2020_bin_10['pop_2020']\n",
    "pop_1918_2020_bin_10"
   ]
  },
  {
   "cell_type": "code",
   "execution_count": null,
   "metadata": {
    "scrolled": false
   },
   "outputs": [],
   "source": [
    "credits = '\\nDataSource : scb.se'\n",
    "title = 'SWEDEN Covid deaths/pop per age grp 2020 + 2021 YTD vs Spanish Flu deaths/pop per age grp 1918' + credits\n",
    "pop_1918_2020_bin_10.plot(y=['spanish_flu_mort','covid_mort'],style='o--',figsize=(18,12),title=title)\n",
    "plt.ylabel('age group mortality')\n",
    "plt.xlabel('age group')\n",
    "\n",
    "\n",
    "plt.text(0,0.001,'HISTORICAL DATA ON 1918 DEATHS:\\nhttp://share.scb.se/ov9993/data/historisk%20statistik/\\n/SOS%201911-/H%C3%A4lso-%20och%20sjukv%C3%A5rd/D%C3%B6dsorsaker%20(SOS)%201911-1996/Dodsorsaker-1918.pdf')\n",
    "\n",
    "note = 'NOTE: the 1918 data are given with 70+ as the last, open-ended age grp\\n' +\\\n",
    "'while the data on covid deaths are given with 90+ as the last, open-ended age grp.\\n' +\\\n",
    "'This makes the graph a bit misleading, since a vast majority of the covid deaths, rel. to population\\n' +\\\n",
    "'size within age grp, occur in the 80-89 & 90+ age grps'\n",
    "plt.text (plt.xticks()[0][3],0.009,note,color='crimson')\n",
    "plt.savefig('scb_excess_sp_flu_vs_covid_mortality.jpg',format='jpg')"
   ]
  },
  {
   "cell_type": "code",
   "execution_count": null,
   "metadata": {},
   "outputs": [],
   "source": [
    "all_cause_1918 = deaths_1918_file.parse('Sheet2')\n",
    "all_cause_1918['bin_10'] = ['0-9','0-9','0-9','0-9','0-9',\n",
    "                           '10-19','10-19','20-29','30-39','40-49',\n",
    "                           '50-59','60-69','70+']\n",
    "\n",
    "all_cause_1918"
   ]
  },
  {
   "cell_type": "code",
   "execution_count": null,
   "metadata": {},
   "outputs": [],
   "source": [
    "all_cause_bin_10_1918 = all_cause_1918.groupby('bin_10').sum().sum(axis=1)\n",
    "all_cause_bin_10_1918"
   ]
  },
  {
   "cell_type": "code",
   "execution_count": null,
   "metadata": {},
   "outputs": [],
   "source": [
    "pop_1918_2020_bin_10['all_cause_1918'] = all_cause_bin_10_1918\n",
    "pop_1918_2020_bin_10"
   ]
  },
  {
   "cell_type": "code",
   "execution_count": null,
   "metadata": {},
   "outputs": [],
   "source": [
    "all_cause_bin_10_2020 = dead_age_df.loc['2020'].groupby('10_y_bin').sum()\n",
    "all_cause_70_plus = all_cause_bin_10_2020.loc['70-79':].sum()['dead']\n",
    "all_cause_bin_10_2020 = all_cause_bin_10_2020.loc[:'60-69']\n",
    "\n",
    "all_cause_bin_10_2020 = pd.concat(\n",
    "    [all_cause_bin_10_2020.reset_index(),pd.DataFrame(\n",
    "        {'10_y_bin' : '70+','dead' : [all_cause_70_plus],\n",
    "        'mid_bin' : [0]},index=[7])]).set_index('10_y_bin')['dead']\n",
    "\n",
    "all_cause_bin_10_2020"
   ]
  },
  {
   "cell_type": "code",
   "execution_count": null,
   "metadata": {},
   "outputs": [],
   "source": [
    "pop_1918_2020_bin_10['all_cause_2020'] = all_cause_bin_10_2020\n",
    "pop_1918_2020_bin_10"
   ]
  },
  {
   "cell_type": "code",
   "execution_count": null,
   "metadata": {},
   "outputs": [],
   "source": [
    "pop_1918_2020_bin_10['mort_1918'] = pop_1918_2020_bin_10['all_cause_1918'] / pop_1918_2020_bin_10['pop_1918']\n",
    "pop_1918_2020_bin_10['mort_2020'] = pop_1918_2020_bin_10['all_cause_2020'] / pop_1918_2020_bin_10['pop_2020']\n",
    "\n",
    "pop_1918_2020_bin_10"
   ]
  },
  {
   "cell_type": "code",
   "execution_count": null,
   "metadata": {},
   "outputs": [],
   "source": [
    "pop_1918_2020_bin_10.plot(y=['mort_1918','mort_2020'],style='o--')"
   ]
  },
  {
   "cell_type": "code",
   "execution_count": null,
   "metadata": {},
   "outputs": [],
   "source": [
    "pop_1918_2020_bin_10['1918_mort_ratio'] = pop_1918_2020_bin_10['spanish_flu_mort'] / pop_1918_2020_bin_10['mort_1918']\n",
    "pop_1918_2020_bin_10['2020_mort_ratio'] = pop_1918_2020_bin_10['covid_mort'] / pop_1918_2020_bin_10['mort_2020']\n",
    "\n",
    "pop_1918_2020_bin_10"
   ]
  },
  {
   "cell_type": "code",
   "execution_count": null,
   "metadata": {},
   "outputs": [],
   "source": [
    "pop_1918_2020_bin_10.plot(y=['1918_mort_ratio','2020_mort_ratio'],style='o--')"
   ]
  },
  {
   "cell_type": "code",
   "execution_count": null,
   "metadata": {},
   "outputs": [],
   "source": [
    "all_cause_1917 = deaths_1918_file.parse(sheet_name='Sheet3')\n",
    "all_cause_1917['bin_10'] = ['0-9','0-9','0-9','0-9','0-9',\n",
    "                           '10-19','10-19',\n",
    "                           '20-29','20-29',\n",
    "                           '30-39','30-39',\n",
    "                           '40-49','40-49',\n",
    "                           '50-59','50-59',\n",
    "                           '60-69','60-69',\n",
    "                           '70-79','70-79',\n",
    "                           '80-89','80-89',\n",
    "                           '90+']\n",
    "\n",
    "all_cause_1917"
   ]
  },
  {
   "cell_type": "code",
   "execution_count": null,
   "metadata": {},
   "outputs": [],
   "source": [
    "all_cause_bin_10_1917 = all_cause_1917.groupby('bin_10').sum()\n",
    "plus_70_1917 = all_cause_bin_10_1917.loc['70-79':]['dead'].sum()\n",
    "plus_70_1917"
   ]
  },
  {
   "cell_type": "code",
   "execution_count": null,
   "metadata": {},
   "outputs": [],
   "source": [
    "all_cause_bin_10_1917 = all_cause_bin_10_1917.loc[:'60-69']\n",
    "all_cause_bin_10_1917 = pd.concat([all_cause_bin_10_1917.reset_index(),pd.DataFrame({'bin_10' : '70+',\n",
    "                                                            'dead' : plus_70_1917},index=[8])]).set_index('bin_10')"
   ]
  },
  {
   "cell_type": "code",
   "execution_count": null,
   "metadata": {},
   "outputs": [],
   "source": [
    "all_cause_bin_10_1917"
   ]
  },
  {
   "cell_type": "code",
   "execution_count": null,
   "metadata": {},
   "outputs": [],
   "source": [
    "all_cause_bin_10_1917.sum()"
   ]
  },
  {
   "cell_type": "code",
   "execution_count": null,
   "metadata": {},
   "outputs": [],
   "source": [
    "pop_url_1917 = 'http://api.scb.se/OV0104/v1/doris/sv/ssd/START/BE/BE0101/BE0101A/BefolkningR1860N'\n",
    "pop_query_1917 = {\n",
    "  \"query\": [\n",
    "    {\n",
    "      \"code\": \"Alder\",\n",
    "      \"selection\": {\n",
    "        \"filter\": \"vs:Ålder1årL\",\n",
    "        \"values\": [\n",
    "          \"0\",\n",
    "          \"1\",\n",
    "          \"2\",\n",
    "          \"3\",\n",
    "          \"4\",\n",
    "          \"5\",\n",
    "          \"6\",\n",
    "          \"7\",\n",
    "          \"8\",\n",
    "          \"9\",\n",
    "          \"10\",\n",
    "          \"11\",\n",
    "          \"12\",\n",
    "          \"13\",\n",
    "          \"14\",\n",
    "          \"15\",\n",
    "          \"16\",\n",
    "          \"17\",\n",
    "          \"18\",\n",
    "          \"19\",\n",
    "          \"20\",\n",
    "          \"21\",\n",
    "          \"22\",\n",
    "          \"23\",\n",
    "          \"24\",\n",
    "          \"25\",\n",
    "          \"26\",\n",
    "          \"27\",\n",
    "          \"28\",\n",
    "          \"29\",\n",
    "          \"30\",\n",
    "          \"31\",\n",
    "          \"32\",\n",
    "          \"33\",\n",
    "          \"34\",\n",
    "          \"35\",\n",
    "          \"36\",\n",
    "          \"37\",\n",
    "          \"38\",\n",
    "          \"39\",\n",
    "          \"40\",\n",
    "          \"41\",\n",
    "          \"42\",\n",
    "          \"43\",\n",
    "          \"44\",\n",
    "          \"45\",\n",
    "          \"46\",\n",
    "          \"47\",\n",
    "          \"48\",\n",
    "          \"49\",\n",
    "          \"50\",\n",
    "          \"51\",\n",
    "          \"52\",\n",
    "          \"53\",\n",
    "          \"54\",\n",
    "          \"55\",\n",
    "          \"56\",\n",
    "          \"57\",\n",
    "          \"58\",\n",
    "          \"59\",\n",
    "          \"60\",\n",
    "          \"61\",\n",
    "          \"62\",\n",
    "          \"63\",\n",
    "          \"64\",\n",
    "          \"65\",\n",
    "          \"66\",\n",
    "          \"67\",\n",
    "          \"68\",\n",
    "          \"69\",\n",
    "          \"70\",\n",
    "          \"71\",\n",
    "          \"72\",\n",
    "          \"73\",\n",
    "          \"74\",\n",
    "          \"75\",\n",
    "          \"76\",\n",
    "          \"77\",\n",
    "          \"78\",\n",
    "          \"79\",\n",
    "          \"80\",\n",
    "          \"81\",\n",
    "          \"82\",\n",
    "          \"83\",\n",
    "          \"84\",\n",
    "          \"85\",\n",
    "          \"86\",\n",
    "          \"87\",\n",
    "          \"88\",\n",
    "          \"89\",\n",
    "          \"90\",\n",
    "          \"91\",\n",
    "          \"92\",\n",
    "          \"93\",\n",
    "          \"94\",\n",
    "          \"95\",\n",
    "          \"96\",\n",
    "          \"97\",\n",
    "          \"98\",\n",
    "          \"99\",\n",
    "          \"100\",\n",
    "          \"101\",\n",
    "          \"102\",\n",
    "          \"103\",\n",
    "          \"104\",\n",
    "          \"105\",\n",
    "          \"106\",\n",
    "          \"107\",\n",
    "          \"108\",\n",
    "          \"109\",\n",
    "          \"110+\"\n",
    "        ]\n",
    "      }\n",
    "    },\n",
    "    {\n",
    "      \"code\": \"Kon\",\n",
    "      \"selection\": {\n",
    "        \"filter\": \"item\",\n",
    "        \"values\": [\n",
    "          \"1\",\n",
    "          \"2\"\n",
    "        ]\n",
    "      }\n",
    "    },\n",
    "    {\n",
    "      \"code\": \"Tid\",\n",
    "      \"selection\": {\n",
    "        \"filter\": \"item\",\n",
    "        \"values\": [\n",
    "          \"1917\"\n",
    "        ]\n",
    "      }\n",
    "    }\n",
    "  ],\n",
    "  \"response\": {\n",
    "    \"format\": \"json\"\n",
    "  }\n",
    "}"
   ]
  },
  {
   "cell_type": "code",
   "execution_count": null,
   "metadata": {},
   "outputs": [],
   "source": [
    "r_1917 = requests.post(pop_url_1917,json=pop_query_1917)\n",
    "\n",
    "r_1917.status_code"
   ]
  },
  {
   "cell_type": "code",
   "execution_count": null,
   "metadata": {},
   "outputs": [],
   "source": [
    "json_1917 = r_1917.json()['data']\n",
    "pop_1917 = pd.DataFrame.from_dict(json_1917)\n",
    "pop_1917[['age','gender','year']] = pop_1917['key'].to_list()\n",
    "pop_1917['pop_1917'] = pop_1917['values'].apply(lambda x :x[0]).astype(int)\n",
    "pop_1917['age'] = pop_1917['age'].str.replace('+','').astype(int)\n",
    "pop_1917.drop(['key','values','year'],axis=1,inplace=True)\n",
    "\n",
    "pop_1917_both = pop_1917.groupby(['age']).sum()\n",
    "pop_1917_both['bin_10'] = pd.cut(pop_1917_both.index,[-1,9,19,29,39,49,59,69,150],\n",
    "                                 labels=['0-9','10-19','20-29','30-39','40-49',\n",
    "                                                                '50-59','60-69','70+'])\n",
    "\n",
    "pop_1917_bin_10 = pop_1917_both.groupby('bin_10').sum()\n",
    "pop_1917_bin_10\n"
   ]
  },
  {
   "cell_type": "code",
   "execution_count": null,
   "metadata": {},
   "outputs": [],
   "source": [
    "pop_1917_bin_10.sum()"
   ]
  },
  {
   "cell_type": "code",
   "execution_count": null,
   "metadata": {},
   "outputs": [],
   "source": [
    "pop_1917_bin_10"
   ]
  },
  {
   "cell_type": "code",
   "execution_count": null,
   "metadata": {},
   "outputs": [],
   "source": [
    "all_cause_bin_10_1917"
   ]
  },
  {
   "cell_type": "code",
   "execution_count": null,
   "metadata": {},
   "outputs": [],
   "source": [
    "mort_1917 = all_cause_bin_10_1917['dead'] / pop_1917_bin_10['pop_1917']\n",
    "mort_1917"
   ]
  },
  {
   "cell_type": "code",
   "execution_count": null,
   "metadata": {},
   "outputs": [],
   "source": [
    "ax = mort_1917.plot(style='o--',label='mort_1917')\n",
    "pop_1918_2020_bin_10.plot(y='mort_1918',ax=ax,style='o--')\n",
    "ax.legend(loc='upper left')"
   ]
  },
  {
   "cell_type": "code",
   "execution_count": null,
   "metadata": {},
   "outputs": [],
   "source": [
    "''' Difference ABSOLUTE change vs RELATIVE change : think about something you pay for each month, e.g. \n",
    "your plastic shopping bag vs. your morgage : now think about relative vs absolute change : a relative change of\n",
    "2x of the price of the plastic bag does not matter much, but a relative change of 2x of your morgage matters\n",
    "a lot. Bottom line: with very low absolute values, even significant relative change might be insignificant, \n",
    "but for high absolute values, even minor relative changes can change your life.'''\n",
    "\n",
    "mort_rel_1918_1917 = pop_1918_2020_bin_10['mort_1918'] / mort_1917\n",
    "mort_rel_1918_1917"
   ]
  },
  {
   "cell_type": "code",
   "execution_count": null,
   "metadata": {},
   "outputs": [],
   "source": [
    "mort_rel_1918_1917.plot(style='o--')"
   ]
  },
  {
   "cell_type": "code",
   "execution_count": null,
   "metadata": {},
   "outputs": [],
   "source": [
    "pop_age_bin_10_70 = pop_age_df.groupby(['year','num_age']).sum().reset_index(level=1)\n",
    "pop_age_bin_10_70"
   ]
  },
  {
   "cell_type": "code",
   "execution_count": null,
   "metadata": {},
   "outputs": [],
   "source": [
    "pop_age_bin_10_70['bin_10'] = pd.cut(pop_age_df.groupby(['year','num_age']).sum().reset_index(level=1)['num_age'],[-1,9,19,29,39,49,59,69,150],\n",
    "       labels=['0-9','10-19','20-29','30-39','40-49','50-59','60-69','70+'])\n",
    "pop_age_bin_10_70 = pop_age_bin_10_70.groupby(['year','bin_10'])['pop'].sum()\n"
   ]
  },
  {
   "cell_type": "code",
   "execution_count": null,
   "metadata": {},
   "outputs": [],
   "source": [
    "pop_age_bin_10_70"
   ]
  },
  {
   "cell_type": "code",
   "execution_count": null,
   "metadata": {},
   "outputs": [],
   "source": [
    "dead_age_bin_10_70 = dead_age_df.groupby(['year','num_age']).sum().reset_index(level=1)\n",
    "dead_age_bin_10_70"
   ]
  },
  {
   "cell_type": "code",
   "execution_count": null,
   "metadata": {},
   "outputs": [],
   "source": [
    "dead_age_bin_10_70['bin_10'] = pd.cut(dead_age_df.groupby(['year','num_age']).sum().reset_index(level=1)['num_age'],[-1,9,19,29,39,49,59,69,150],\n",
    "       labels=['0-9','10-19','20-29','30-39','40-49','50-59','60-69','70+'])\n",
    "dead_age_bin_10_70 = dead_age_bin_10_70.groupby(['year','bin_10'])['dead'].sum()\n",
    "\n",
    "dead_age_bin_10_70"
   ]
  },
  {
   "cell_type": "code",
   "execution_count": null,
   "metadata": {},
   "outputs": [],
   "source": [
    "mort_2002_2020 = dead_age_bin_10_70 / pop_age_bin_10_70\n",
    "mort_2002_2020"
   ]
  },
  {
   "cell_type": "code",
   "execution_count": null,
   "metadata": {},
   "outputs": [],
   "source": [
    "mort_abs_1918_1917 = pop_1918_2020_bin_10['mort_1918'] - mort_1917\n",
    "mort_abs_1918_1917\n"
   ]
  },
  {
   "cell_type": "code",
   "execution_count": null,
   "metadata": {},
   "outputs": [],
   "source": [
    "mort_abs_2020_2019 = mort_2002_2020.loc['2020'] - mort_2002_2020.loc['2019']\n",
    "mort_abs_2020_2019"
   ]
  },
  {
   "cell_type": "code",
   "execution_count": null,
   "metadata": {},
   "outputs": [],
   "source": [
    "mort_rel_2020_2019 = mort_2002_2020.loc['2020'] / mort_2002_2020.loc['2019']\n",
    "mort_rel_2020_2019"
   ]
  },
  {
   "cell_type": "code",
   "execution_count": null,
   "metadata": {},
   "outputs": [],
   "source": [
    "title='SWEDEN mortality growth : 1) Spanish Flu year 1918 vs 1917 2) Covid year 2020 vs 2019\\nDataSource : scb.se'\n",
    "ax = mort_rel_1918_1917.plot(style='o--',label='mort rel. 1918/1917',figsize=(18,12),title=title)\n",
    "mort_rel_2020_2019.plot(ax=ax,style='o--',label='mort rel. 2020/2019')\n",
    "ax.legend(loc='upper right')\n",
    "ax.set_ylabel('growth factor')\n",
    "ax.set_xlabel('age group')\n",
    "ax.axhline(1,ls='dashed',color='k')\n",
    "plt.savefig('scb_excess_spanish_flu_vs_covid_mort_growth.jpg',format='jpg')"
   ]
  },
  {
   "cell_type": "code",
   "execution_count": null,
   "metadata": {},
   "outputs": [],
   "source": [
    "title = 'absolute change'\n",
    "ax = mort_abs_1918_1917.plot(style='o--',title=title)\n",
    "mort_abs_2020_2019.plot(ax=ax,style='o--')"
   ]
  },
  {
   "cell_type": "code",
   "execution_count": null,
   "metadata": {},
   "outputs": [],
   "source": [
    "fig,axes = plt.subplots(2,figsize=(18,12),sharey=True,sharex=True) \n",
    "pop_1918_2020_bin_10['mort_1918'].plot(ax=axes[0],style='o--',label='1918')\n",
    "mort_1917.plot(style='o--',ax=axes[0],label='1917')\n",
    "axes[0].legend(loc='upper left')\n",
    "\n",
    "mort_2002_2020.loc['2020'].plot(ax=axes[1],style='o--',label='2020')\n",
    "mort_2002_2020.loc['2019'].plot(ax=axes[1],style='o--',label='2019')\n",
    "axes[1].legend(loc='upper left')\n",
    "\n",
    "for a in axes:\n",
    "    a.set_ylabel('mortality')\n",
    "    \n",
    "axes[0].set_title('Spanish Flu Impact')\n",
    "axes[1].set_title('Covid Impact')\n",
    "\n",
    "plt.suptitle('SWEDEN mortality 1917 : 1918, 2019 : 2020\\nDataSource : scb.se')"
   ]
  },
  {
   "cell_type": "code",
   "execution_count": null,
   "metadata": {},
   "outputs": [],
   "source": [
    "fhm_icu_weekly.sum()"
   ]
  },
  {
   "cell_type": "code",
   "execution_count": null,
   "metadata": {},
   "outputs": [],
   "source": [
    "def fhm_plot_weekly_20_21(ax,df,title):\n",
    "    \n",
    "    ax.plot(np.array(df.loc['2020'].index.isocalendar()['week'].values).astype(int),\n",
    "            df.loc['2020'],'o--',label='2020')\n",
    "\n",
    "    #ax.plot(np.array(df.loc['2021'].index[1:-1].isocalendar()['week'].values).astype(int),\n",
    "        #df.loc['2021'][1:-1],'o--',label='2021')\n",
    "    \n",
    "    ax.plot(np.array(df.loc['2021'].index.isocalendar()['week'].values[:-1]).astype(int) % 53,\n",
    "        df.loc['2021'][:-1],'o--',label='2021')\n",
    "\n",
    "    ax.set_xlabel('week')\n",
    "    ax.set_ylabel('count')\n",
    "    ax.legend(loc='upper center')\n",
    "    ax.set_title(title)\n",
    "\n",
    "credits = '\\nDataSource : folkhalsomyndigheten.se'\n",
    "fig,axes = plt.subplots(3,figsize=(18,12),sharex=True)\n",
    "\n",
    "fhm_plot_weekly_20_21(axes[0],\n",
    "    fhm_weekly_positive,'SWEDEN comparison 2020/2021 weekly Covid Positives YTD {} '.format(\n",
    "    fhm_weekly_positive.index[-2].date()) + credits)\n",
    "\n",
    "fhm_plot_weekly_20_21(axes[1],\n",
    "    fhm_icu_weekly,'SWEDEN comparison 2020/2021 weekly Covid ICU YTD {} '.format(\n",
    "    fhm_icu_weekly.index[-2].date()))\n",
    "\n",
    "fhm_plot_weekly_20_21(axes[2],\n",
    "    fhm_weekly_dead,'SWEDEN comparison 2020/2021 weekly Covid Deaths YTD {} '.format(\n",
    "    fhm_weekly_dead.index[-2].date()))\n",
    "\n",
    "plt.tight_layout()\n",
    "plt.savefig('scb_excess_fhm_events_20_21.jpg',format='jpg')"
   ]
  },
  {
   "cell_type": "code",
   "execution_count": null,
   "metadata": {},
   "outputs": [],
   "source": [
    "dayofyear_baseline_mortality = mortality_all_grp_2015_2018.groupby(mortality_all_grp_2015_2018.index.dayofyear).mean()"
   ]
  },
  {
   "cell_type": "code",
   "execution_count": null,
   "metadata": {},
   "outputs": [],
   "source": [
    "dayofyear_baseline_mortality.to_pickle('day_of_year_age_grp_mortality.pkl')"
   ]
  },
  {
   "cell_type": "code",
   "execution_count": null,
   "metadata": {},
   "outputs": [],
   "source": []
  }
 ],
 "metadata": {
  "kernelspec": {
   "display_name": "Python 3",
   "language": "python",
   "name": "python3"
  },
  "language_info": {
   "codemirror_mode": {
    "name": "ipython",
    "version": 3
   },
   "file_extension": ".py",
   "mimetype": "text/x-python",
   "name": "python",
   "nbconvert_exporter": "python",
   "pygments_lexer": "ipython3",
   "version": "3.8.6"
  }
 },
 "nbformat": 4,
 "nbformat_minor": 4
}
