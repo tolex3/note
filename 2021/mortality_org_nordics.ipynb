{
 "cells": [
  {
   "cell_type": "code",
   "execution_count": null,
   "metadata": {},
   "outputs": [],
   "source": [
    "import pandas as pd\n",
    "import matplotlib.pyplot as plt\n",
    "import seaborn as sns\n",
    "import numpy as np\n",
    "\n",
    "sns.set()\n"
   ]
  },
  {
   "cell_type": "code",
   "execution_count": null,
   "metadata": {},
   "outputs": [],
   "source": [
    "nordic_abbs = ['SWE','FIN','NOR','DNK','ISL']\n",
    "\n",
    "abbs = nordic_abbs\n",
    "\n",
    "df = pd.DataFrame()\n",
    "\n",
    "for a in abbs:\n",
    "    temp = pd.read_excel('../mortality_org.xlsx',sheet_name=a,skiprows=2)\n",
    "    \n",
    "    df = pd.concat([df,temp],axis=0)\n",
    "    \n",
    "df"
   ]
  },
  {
   "cell_type": "code",
   "execution_count": null,
   "metadata": {},
   "outputs": [],
   "source": [
    "df = df.loc[df['Sex'] == 'b']\n",
    "df = df.set_index(['Country','Year','Week'])\n"
   ]
  },
  {
   "cell_type": "code",
   "execution_count": null,
   "metadata": {},
   "outputs": [],
   "source": [
    "df = df[['Total','Total.1']]\n",
    "df"
   ]
  },
  {
   "cell_type": "code",
   "execution_count": null,
   "metadata": {},
   "outputs": [],
   "source": [
    "2364 / 0.013855 * 52\n",
    "\n",
    "df['pop'] = (df['Total'] / df['Total.1'] * 52).astype(int)\n",
    "nordic_deaths = df.groupby(['Country','Year'])['Total'].sum()\n",
    "nordic_deaths"
   ]
  },
  {
   "cell_type": "code",
   "execution_count": null,
   "metadata": {},
   "outputs": [],
   "source": [
    "nordic_pop = df.groupby(['Country','Year'])['pop'].apply(lambda x : x[0])\n",
    "nordic_pop"
   ]
  },
  {
   "cell_type": "code",
   "execution_count": null,
   "metadata": {},
   "outputs": [],
   "source": [
    "nordic_mortality = (nordic_deaths / nordic_pop).unstack().T.dropna()\n",
    "nordic_mortality"
   ]
  },
  {
   "cell_type": "code",
   "execution_count": null,
   "metadata": {},
   "outputs": [],
   "source": [
    "nordic_mortality_baseline = nordic_mortality.loc['2015' : '2018'].mean()\n",
    "nordic_mortality_baseline"
   ]
  },
  {
   "cell_type": "code",
   "execution_count": null,
   "metadata": {},
   "outputs": [],
   "source": [
    "title = 'Mortality Nordic Countries 2007 - 2020\\nDataSource : mortality.org'\n",
    "nordic_mortality.plot(figsize=(18,12),style='o--',title=title)\n",
    "plt.ylabel('mortality')\n",
    "plt.savefig('mortality_org_nordics_2007_2020.jpg',format='jpg')"
   ]
  },
  {
   "cell_type": "code",
   "execution_count": null,
   "metadata": {},
   "outputs": [],
   "source": [
    "title = 'Mortality Nordic Countries 2007-2020 vs baseline 2015-2018\\nDataSource : mortality.org'\n",
    "axes = nordic_mortality.plot(figsize=(18,12),style='ro--',title=title,subplots=True)\n",
    "\n",
    "for i,a in enumerate(axes):\n",
    "    a.axhline(nordic_mortality_baseline.iloc[i],color='k',ls='dashed')\n",
    "    a.set_ylabel('mortality')\n",
    "    \n",
    "plt.savefig('mortality_org_nordics_trend_vs_baseline.jpg',format='jpg')"
   ]
  },
  {
   "cell_type": "code",
   "execution_count": null,
   "metadata": {},
   "outputs": [],
   "source": [
    "growth_vs_baseline = nordic_mortality / nordic_mortality_baseline\n",
    "growth_vs_baseline"
   ]
  },
  {
   "cell_type": "code",
   "execution_count": null,
   "metadata": {},
   "outputs": [],
   "source": [
    "title='Nordic Countries : Mortality Growth vs baseline 2015-2018\\nDataSource : mortality.org'\n",
    "growth_vs_baseline.plot(figsize=(18,12),style='o--',title=title)\n",
    "plt.ylabel('growth factor')\n",
    "plt.yticks(np.arange(0.9,1.2,0.01))\n",
    "plt.axhline(1,ls='dashed',color='k')\n",
    "plt.savefig('mortality_org_nordics_growth.jpg',format='jpg')"
   ]
  },
  {
   "cell_type": "code",
   "execution_count": null,
   "metadata": {
    "scrolled": false
   },
   "outputs": [],
   "source": [
    "nordic_mortality.loc[2020].plot(kind='bar',figsize=(18,12))\n",
    "_= plt.yticks(np.arange(0,0.012,0.0005))"
   ]
  }
 ],
 "metadata": {
  "kernelspec": {
   "display_name": "Python 3",
   "language": "python",
   "name": "python3"
  },
  "language_info": {
   "codemirror_mode": {
    "name": "ipython",
    "version": 3
   },
   "file_extension": ".py",
   "mimetype": "text/x-python",
   "name": "python",
   "nbconvert_exporter": "python",
   "pygments_lexer": "ipython3",
   "version": "3.8.6"
  }
 },
 "nbformat": 4,
 "nbformat_minor": 4
}
