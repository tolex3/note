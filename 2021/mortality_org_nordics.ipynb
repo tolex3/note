{
 "cells": [
  {
   "cell_type": "code",
   "execution_count": null,
   "metadata": {},
   "outputs": [],
   "source": [
    "import pandas as pd\n",
    "import matplotlib.pyplot as plt\n",
    "import seaborn as sns\n",
    "import numpy as np\n",
    "\n",
    "sns.set()\n"
   ]
  },
  {
   "cell_type": "code",
   "execution_count": null,
   "metadata": {},
   "outputs": [],
   "source": [
    "nordic_abbs = ['SWE','FIN','NOR','DNK','ISL']\n",
    "\n",
    "abbs = nordic_abbs\n",
    "\n",
    "df = pd.DataFrame()\n",
    "\n",
    "for a in abbs:\n",
    "    temp = pd.read_excel('../mortality_org.xlsx',sheet_name=a,skiprows=2)\n",
    "    \n",
    "    df = pd.concat([df,temp],axis=0)\n",
    "    \n",
    "df"
   ]
  },
  {
   "cell_type": "code",
   "execution_count": null,
   "metadata": {},
   "outputs": [],
   "source": [
    "df = df.loc[df['Sex'] == 'b']\n",
    "df = df.set_index(['Country','Year','Week'])\n"
   ]
  },
  {
   "cell_type": "code",
   "execution_count": null,
   "metadata": {},
   "outputs": [],
   "source": [
    "df_all = df.copy()\n",
    "df = df[['Total','Total.1']]\n",
    "df"
   ]
  },
  {
   "cell_type": "code",
   "execution_count": null,
   "metadata": {},
   "outputs": [],
   "source": [
    "2364 / 0.013855 * 52\n",
    "\n",
    "df['pop'] = (df['Total'] / df['Total.1'] * 52).astype(int)\n",
    "nordic_deaths = df.groupby(['Country','Year'])['Total'].sum()\n",
    "nordic_deaths"
   ]
  },
  {
   "cell_type": "code",
   "execution_count": null,
   "metadata": {},
   "outputs": [],
   "source": [
    "nordic_pop = df.groupby(['Country','Year'])['pop'].apply(lambda x : x[0])\n",
    "nordic_pop"
   ]
  },
  {
   "cell_type": "code",
   "execution_count": null,
   "metadata": {},
   "outputs": [],
   "source": [
    "nordic_mortality = (nordic_deaths / nordic_pop).unstack().T.dropna()\n",
    "nordic_mortality"
   ]
  },
  {
   "cell_type": "code",
   "execution_count": null,
   "metadata": {},
   "outputs": [],
   "source": [
    "nordic_mortality_baseline = nordic_mortality.loc['2015' : '2018'].mean()\n",
    "nordic_mortality_baseline"
   ]
  },
  {
   "cell_type": "code",
   "execution_count": null,
   "metadata": {},
   "outputs": [],
   "source": [
    "title = 'Mortality Nordic Countries 2007 - 2020\\nDataSource : mortality.org'\n",
    "nordic_mortality.plot(figsize=(18,12),style='o--',title=title)\n",
    "plt.ylabel('mortality')\n",
    "plt.savefig('mortality_org_nordics_2007_2020.jpg',format='jpg')"
   ]
  },
  {
   "cell_type": "code",
   "execution_count": null,
   "metadata": {},
   "outputs": [],
   "source": [
    "title = 'Mortality Nordic Countries 2007-2020 vs baseline 2015-2018\\nDataSource : mortality.org'\n",
    "axes = nordic_mortality.plot(figsize=(18,12),style='ro--',title=title,subplots=True,sharey=True)\n",
    "\n",
    "for i,a in enumerate(axes):\n",
    "    a.axhline(nordic_mortality_baseline.iloc[i],color='k',ls='dashed')\n",
    "    a.set_ylabel('mortality')\n",
    "    \n",
    "plt.savefig('mortality_org_nordics_trend_vs_baseline.jpg',format='jpg')"
   ]
  },
  {
   "cell_type": "code",
   "execution_count": null,
   "metadata": {},
   "outputs": [],
   "source": [
    "growth_vs_baseline = nordic_mortality / nordic_mortality_baseline\n",
    "growth_vs_baseline"
   ]
  },
  {
   "cell_type": "code",
   "execution_count": null,
   "metadata": {},
   "outputs": [],
   "source": [
    "title='Nordic Countries : Mortality Growth vs baseline 2015-2018\\nDataSource : mortality.org'\n",
    "growth_vs_baseline.plot(figsize=(18,12),style='o--',title=title)\n",
    "plt.ylabel('growth factor')\n",
    "plt.yticks(np.arange(0.9,1.2,0.01))\n",
    "plt.axhline(1,ls='dashed',color='k')\n",
    "plt.savefig('mortality_org_nordics_growth.jpg',format='jpg')"
   ]
  },
  {
   "cell_type": "code",
   "execution_count": null,
   "metadata": {
    "scrolled": false
   },
   "outputs": [],
   "source": [
    "nordic_mortality.loc[2020].plot(kind='bar',figsize=(18,12))\n",
    "_= plt.yticks(np.arange(0,0.012,0.0005))"
   ]
  },
  {
   "cell_type": "code",
   "execution_count": null,
   "metadata": {},
   "outputs": [],
   "source": [
    "nordic_mortality"
   ]
  },
  {
   "cell_type": "code",
   "execution_count": null,
   "metadata": {},
   "outputs": [],
   "source": [
    "df_all"
   ]
  },
  {
   "cell_type": "code",
   "execution_count": null,
   "metadata": {},
   "outputs": [],
   "source": [
    "### PATTERN ###\n",
    "### group the 2 sets of age group cols, one with deaths, one with mortality, to combined age groups ###\n",
    "def combine_ages(col):\n",
    "    if '0-14' in col:\n",
    "        return '0-14'\n",
    "    \n",
    "    if '15-64' in col:\n",
    "        return '15-64'\n",
    "    \n",
    "    if '65-74' in col:\n",
    "        return '65-74'\n",
    "    \n",
    "    if '75-84' in col:\n",
    "        return '75-84'\n",
    "    \n",
    "    if '85+' in col:\n",
    "        return '85+'\n",
    "    \n",
    "g = df_all.groupby(combine_ages,axis=1)\n",
    "print (g.groups)\n",
    "###\n",
    "\n",
    "### PATTERN ###\n",
    "### div. grp deaths by grp mort and mult by nr of weeks in year ###\n",
    "\n",
    "def calc_pop(grp):\n",
    "    return (grp[grp.columns[0]] / grp[grp.columns[1]] * 52)\n",
    "    \n",
    "age_pop = g.apply(calc_pop)\n",
    "###\n",
    "\n",
    "age_pop = age_pop.dropna().astype(int)\n",
    "age_pop"
   ]
  },
  {
   "cell_type": "code",
   "execution_count": null,
   "metadata": {},
   "outputs": [],
   "source": [
    "age_grp_pop = age_pop.groupby(['Country','Year']).mean()\n",
    "age_grp_pop\n"
   ]
  },
  {
   "cell_type": "code",
   "execution_count": null,
   "metadata": {
    "scrolled": false
   },
   "outputs": [],
   "source": [
    "age_dead_grps = df_all.groupby(combine_ages,axis=1)\n",
    "\n",
    "def calc_dead(grp):\n",
    "    return (grp[grp.columns[0]].groupby(['Country','Year']).sum())\n",
    "\n",
    "age_grp_dead = age_dead_grps.apply(calc_dead)\n",
    "age_grp_dead"
   ]
  },
  {
   "cell_type": "code",
   "execution_count": null,
   "metadata": {},
   "outputs": [],
   "source": [
    "age_grp_mort = age_grp_dead / age_grp_pop\n",
    "age_grp_mort"
   ]
  },
  {
   "cell_type": "code",
   "execution_count": null,
   "metadata": {},
   "outputs": [],
   "source": [
    "std_pop = age_grp_pop.loc['SWE'].loc[2019]\n",
    "std_pop"
   ]
  },
  {
   "cell_type": "code",
   "execution_count": null,
   "metadata": {},
   "outputs": [],
   "source": [
    "std_age_grp_dead = std_pop * age_grp_mort\n",
    "std_age_grp_dead"
   ]
  },
  {
   "cell_type": "code",
   "execution_count": null,
   "metadata": {},
   "outputs": [],
   "source": [
    "std_dead = std_age_grp_dead.sum(axis=1)\n",
    "std_dead"
   ]
  },
  {
   "cell_type": "code",
   "execution_count": null,
   "metadata": {},
   "outputs": [],
   "source": [
    "# drop all NAN years #\n",
    "\n",
    "std_dead = std_dead.loc[std_dead.index.get_level_values(1) >= 2007]\n",
    "std_dead"
   ]
  },
  {
   "cell_type": "code",
   "execution_count": null,
   "metadata": {},
   "outputs": [],
   "source": [
    "std_dead = std_dead.unstack().T"
   ]
  },
  {
   "cell_type": "code",
   "execution_count": null,
   "metadata": {},
   "outputs": [],
   "source": [
    "std_dead.drop(2021,axis=0,inplace=True)\n",
    "std_dead"
   ]
  },
  {
   "cell_type": "code",
   "execution_count": null,
   "metadata": {},
   "outputs": [],
   "source": [
    "std_dead.plot(figsize=(18,12),style='o--')"
   ]
  },
  {
   "cell_type": "code",
   "execution_count": null,
   "metadata": {},
   "outputs": [],
   "source": [
    "age_adj_mort = std_dead / std_pop.sum()\n",
    "age_adj_mort"
   ]
  },
  {
   "cell_type": "code",
   "execution_count": null,
   "metadata": {},
   "outputs": [],
   "source": [
    "title = 'Nordic Countries Age Adjusted Mortality [std.pop: SWE 2019] 2007-2020\\nDataSource :mortality.org'\n",
    "age_adj_mort.plot(figsize=(18,12),style='o--',title=title)\n",
    "plt.ylabel('age adj. mortality')\n",
    "plt.savefig('mortality_org_nordics_age_adj_mort_2007_2020.jpg',format='jpg')"
   ]
  },
  {
   "cell_type": "code",
   "execution_count": null,
   "metadata": {},
   "outputs": [],
   "source": [
    "age_adj_mort_baseline = age_adj_mort.loc[2015:2018].mean()\n",
    "age_adj_mort_baseline"
   ]
  },
  {
   "cell_type": "code",
   "execution_count": null,
   "metadata": {},
   "outputs": [],
   "source": [
    "age_adj_mort_growth = age_adj_mort / age_adj_mort_baseline\n",
    "age_adj_mort_growth"
   ]
  },
  {
   "cell_type": "code",
   "execution_count": null,
   "metadata": {},
   "outputs": [],
   "source": [
    "age_adj_mort_growth.plot(figsize=(18,12),style='o--')"
   ]
  },
  {
   "cell_type": "code",
   "execution_count": null,
   "metadata": {},
   "outputs": [],
   "source": [
    "x = 10000 * 200000\n",
    "print ('{:.2E}'.format(x))"
   ]
  },
  {
   "cell_type": "code",
   "execution_count": null,
   "metadata": {},
   "outputs": [],
   "source": [
    "age_grp_dead = age_grp_dead.loc[(age_grp_dead.index.get_level_values(1) >= 2007) &\\\n",
    "                                (age_grp_dead.index.get_level_values(1) <= 2020)]\n",
    "age_grp_dead.loc['SWE']"
   ]
  },
  {
   "cell_type": "code",
   "execution_count": null,
   "metadata": {},
   "outputs": [],
   "source": [
    "age_grp_dead"
   ]
  },
  {
   "cell_type": "code",
   "execution_count": null,
   "metadata": {},
   "outputs": [],
   "source": [
    "### PATTERN ###\n",
    "avg_dead_pairwise_years = age_grp_dead.groupby('Country').apply(lambda x : (x + x.shift())/2).dropna()\n",
    "avg_dead_pairwise_years"
   ]
  },
  {
   "cell_type": "code",
   "execution_count": null,
   "metadata": {},
   "outputs": [],
   "source": [
    "pairwise_age_grp_mort = (avg_dead_pairwise_years / age_grp_pop).dropna()\n",
    "pairwise_age_grp_mort "
   ]
  },
  {
   "cell_type": "code",
   "execution_count": null,
   "metadata": {},
   "outputs": [],
   "source": [
    "pairwise_std_dead = pairwise_age_grp_mort * std_pop\n",
    "pairwise_std_mort = pairwise_std_dead.sum(axis=1) / std_pop.sum()\n",
    "pairwise_std_mort = pairwise_std_mort.unstack().T\n",
    "pairwise_std_mort"
   ]
  },
  {
   "cell_type": "code",
   "execution_count": null,
   "metadata": {},
   "outputs": [],
   "source": [
    "### 07/08...19/20 ###\n",
    "xticks = ['07/08','08/09','09/10','10/11','11/12','12/13',\n",
    "         '13/14','14/15','15/16','16/17','17/18','18/19','19/20']\n",
    "\n",
    "title = 'Nordic Countries Age Adj. Mortality [std.pop SWE 2019] pairwise years\\nDataSource : mortality.org'\n",
    "ax = pairwise_std_mort.plot(figsize=(18,12),style='o--',title=title)\n",
    "plt.ylabel('age adj. mortality')\n",
    "plt.xlabel('year pair')\n",
    "\n",
    "_= ax.set_xticks(pairwise_std_mort.index)\n",
    "_= ax.set_xticklabels(xticks)"
   ]
  }
 ],
 "metadata": {
  "kernelspec": {
   "display_name": "Python 3",
   "language": "python",
   "name": "python3"
  },
  "language_info": {
   "codemirror_mode": {
    "name": "ipython",
    "version": 3
   },
   "file_extension": ".py",
   "mimetype": "text/x-python",
   "name": "python",
   "nbconvert_exporter": "python",
   "pygments_lexer": "ipython3",
   "version": "3.8.6"
  }
 },
 "nbformat": 4,
 "nbformat_minor": 4
}
