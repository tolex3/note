{
 "cells": [
  {
   "cell_type": "code",
   "execution_count": null,
   "metadata": {},
   "outputs": [],
   "source": [
    "import pandas as pd\n",
    "import numpy as np\n",
    "import matplotlib.pyplot as plt\n",
    "import seaborn as sns\n",
    "import requests\n",
    "\n",
    "sns.set()"
   ]
  },
  {
   "cell_type": "code",
   "execution_count": null,
   "metadata": {},
   "outputs": [],
   "source": [
    "# define parameters for SCB's JSON API for population data #\n",
    "# don't forget to change the default 'px' response format to 'json' bottom of the pop_query data struct # \n",
    "\n",
    "pop_url = 'http://api.scb.se/OV0104/v1/doris/en/ssd/START/BE/BE0101/BE0101A/FolkmangdNov'\n",
    "\n",
    "pop_query = {\n",
    "  \"query\": [\n",
    "    {\n",
    "      \"code\": \"Region\",\n",
    "      \"selection\": {\n",
    "        \"filter\": \"vs:RegionRiket99\",\n",
    "        \"values\": [\n",
    "          \"00\"\n",
    "        ]\n",
    "      }\n",
    "    },\n",
    "    {\n",
    "      \"code\": \"Alder\",\n",
    "      \"selection\": {\n",
    "        \"filter\": \"vs:Ålder1årA\",\n",
    "        \"values\": [\n",
    "          \"0\",\n",
    "          \"1\",\n",
    "          \"2\",\n",
    "          \"3\",\n",
    "          \"4\",\n",
    "          \"5\",\n",
    "          \"6\",\n",
    "          \"7\",\n",
    "          \"8\",\n",
    "          \"9\",\n",
    "          \"10\",\n",
    "          \"11\",\n",
    "          \"12\",\n",
    "          \"13\",\n",
    "          \"14\",\n",
    "          \"15\",\n",
    "          \"16\",\n",
    "          \"17\",\n",
    "          \"18\",\n",
    "          \"19\",\n",
    "          \"20\",\n",
    "          \"21\",\n",
    "          \"22\",\n",
    "          \"23\",\n",
    "          \"24\",\n",
    "          \"25\",\n",
    "          \"26\",\n",
    "          \"27\",\n",
    "          \"28\",\n",
    "          \"29\",\n",
    "          \"30\",\n",
    "          \"31\",\n",
    "          \"32\",\n",
    "          \"33\",\n",
    "          \"34\",\n",
    "          \"35\",\n",
    "          \"36\",\n",
    "          \"37\",\n",
    "          \"38\",\n",
    "          \"39\",\n",
    "          \"40\",\n",
    "          \"41\",\n",
    "          \"42\",\n",
    "          \"43\",\n",
    "          \"44\",\n",
    "          \"45\",\n",
    "          \"46\",\n",
    "          \"47\",\n",
    "          \"48\",\n",
    "          \"49\",\n",
    "          \"50\",\n",
    "          \"51\",\n",
    "          \"52\",\n",
    "          \"53\",\n",
    "          \"54\",\n",
    "          \"55\",\n",
    "          \"56\",\n",
    "          \"57\",\n",
    "          \"58\",\n",
    "          \"59\",\n",
    "          \"60\",\n",
    "          \"61\",\n",
    "          \"62\",\n",
    "          \"63\",\n",
    "          \"64\",\n",
    "          \"65\",\n",
    "          \"66\",\n",
    "          \"67\",\n",
    "          \"68\",\n",
    "          \"69\",\n",
    "          \"70\",\n",
    "          \"71\",\n",
    "          \"72\",\n",
    "          \"73\",\n",
    "          \"74\",\n",
    "          \"75\",\n",
    "          \"76\",\n",
    "          \"77\",\n",
    "          \"78\",\n",
    "          \"79\",\n",
    "          \"80\",\n",
    "          \"81\",\n",
    "          \"82\",\n",
    "          \"83\",\n",
    "          \"84\",\n",
    "          \"85\",\n",
    "          \"86\",\n",
    "          \"87\",\n",
    "          \"88\",\n",
    "          \"89\",\n",
    "          \"90\",\n",
    "          \"91\",\n",
    "          \"92\",\n",
    "          \"93\",\n",
    "          \"94\",\n",
    "          \"95\",\n",
    "          \"96\",\n",
    "          \"97\",\n",
    "          \"98\",\n",
    "          \"99\",\n",
    "          \"100+\"\n",
    "        ]\n",
    "      }\n",
    "    },\n",
    "    {\n",
    "      \"code\": \"Kon\",\n",
    "      \"selection\": {\n",
    "        \"filter\": \"item\",\n",
    "        \"values\": [\n",
    "          \"1\",\n",
    "          \"2\"\n",
    "        ]\n",
    "      }\n",
    "    }\n",
    "  ],\n",
    "  \"response\": {\n",
    "    \"format\": \"json\"\n",
    "  }\n",
    "}"
   ]
  },
  {
   "cell_type": "code",
   "execution_count": null,
   "metadata": {},
   "outputs": [],
   "source": [
    "### function to fetch SCB population or death data, returns 3 DataFrames w. different age binnings ### \n",
    "\n",
    "def fetch_scb_data(url,query,param='pop'):\n",
    "    \n",
    "    # call the API, check HTML status code (should be 200 for success) #\n",
    "\n",
    "    r= requests.post(url,json=query)\n",
    "    print ('HTML status code fetching {}: '.format(param),r.status_code)\n",
    "    \n",
    "    # extract the json data section from the response #\n",
    "\n",
    "    json_data = r.json()['data'] # get the data section (skip metadata) #\n",
    "\n",
    "    # we get two dictionaries : 'key' and 'values' #\n",
    "    # 'key' attributes are : 'geo' (all of sweden), 'age','gender','year' #\n",
    "    # 'values' attribute is : 'population' / 'dead' #\n",
    "    \n",
    "    # check the first record to figure out the structure of the data #\n",
    "    print ('record layout for {}: '.format(param),json_data[0])\n",
    "    \n",
    "    # create a Pandas DataFrame from the list of dictionaries, and massage it to a decent structure #\n",
    "\n",
    "    age_df = pd.DataFrame.from_dict(json_data)\n",
    "    age_df[['area','age','gender','year']] = age_df['key'].to_list() # split keys to separate columns #\n",
    "\n",
    "    age_df[param] = age_df['values'].apply(\n",
    "        lambda x : x[0]).astype(int) # extract size from the values list #\n",
    "\n",
    "    age_df['num_age'] = age_df['age'].apply(\n",
    "        lambda x :x.replace('+','')).astype(int) # create numeric age column #\n",
    "\n",
    "    age_df = age_df.drop(['key','values','area'],axis=1) # delete unwanted columns #\n",
    "\n",
    "    # combine the two genders #\n",
    "    age_df = age_df.groupby(['year','num_age']).sum()\n",
    "\n",
    "    # bin the data to the same age bins that are used in SCB's prel. death data #\n",
    "    age_df['scb_prel_age_bin'] = pd.cut(age_df.index.get_level_values(1),[-1,64,79,89,200],\n",
    "                                        labels=['-64','65-79','80-89','90+'])\n",
    "    \n",
    "    # and finally, for each year, combine the 1 year age bin sums to match the 4 age bins of the prel death data #\n",
    "\n",
    "    age_scb_prel_df = age_df.groupby([age_df.index.get_level_values(0),\n",
    "                                                      'scb_prel_age_bin']).sum()\n",
    "    \n",
    "    # create a df with total yearly values #\n",
    "    df = age_scb_prel_df.groupby('year').sum()\n",
    "    \n",
    "    \n",
    "    \n",
    "\n",
    "    return age_df,age_scb_prel_df,df\n",
    "    "
   ]
  },
  {
   "cell_type": "code",
   "execution_count": null,
   "metadata": {},
   "outputs": [],
   "source": [
    "bin_1_pop,bin_4_grp_pop,no_bin_pop = fetch_scb_data(pop_url,pop_query)\n",
    "\n"
   ]
  },
  {
   "cell_type": "code",
   "execution_count": null,
   "metadata": {},
   "outputs": [],
   "source": [
    "bin_4_grp_pop = bin_4_grp_pop.unstack().droplevel(0,axis=1)\n",
    "bin_1_pop = bin_1_pop.drop('scb_prel_age_bin',axis=1).unstack().droplevel(0,axis=1)\n"
   ]
  },
  {
   "cell_type": "code",
   "execution_count": null,
   "metadata": {},
   "outputs": [],
   "source": [
    "bin_4_grp_pop"
   ]
  },
  {
   "cell_type": "code",
   "execution_count": null,
   "metadata": {},
   "outputs": [],
   "source": [
    "'''\n",
    "scb_prel_url = 'https://www.scb.se/hitta-statistik/statistik-efter-amne/befolkning/'\\\n",
    "'befolkningens-sammansattning/befolkningsstatistik/pong/tabell-och-diagram/preliminar-statistik-over-doda/'\n",
    "'''\n",
    "scb_prel_url = \"https://scb.se/link/0fec627c501e476aacf7ae328c7a4a8b.aspx\"\n",
    "\n",
    "scb_prel_file = pd.ExcelFile(scb_prel_url)\n"
   ]
  },
  {
   "cell_type": "code",
   "execution_count": null,
   "metadata": {},
   "outputs": [],
   "source": [
    "last_reported_date = scb_prel_file.parse('Info',usecols=[15]).dropna()\n",
    "last_reported_date"
   ]
  },
  {
   "cell_type": "code",
   "execution_count": null,
   "metadata": {},
   "outputs": [],
   "source": [
    "'''\n",
    "scb_prel_url = 'https://www.scb.se/hitta-statistik/statistik-efter-amne/befolkning/'\\\n",
    "'befolkningens-sammansattning/befolkningsstatistik/pong/tabell-och-diagram/preliminar-statistik-over-doda/'\n",
    "'''\n",
    "\n",
    "scb_prel_file = pd.ExcelFile(scb_prel_url)\n",
    "\n",
    "scb_prel_age = scb_prel_file.parse('Tabell 2',skiprows=7,usecols=[0,1,4,5,6,7,9,10,11,12])\n",
    "\n",
    "scb_prel_age['DagMånad'] = scb_prel_age['DagMånad'].str.strip(' ')\n",
    "\n",
    "unknowns = scb_prel_age.loc[scb_prel_age['DagMånad'] == 'Okänd dödsdag']\n",
    "\n",
    "scb_prel_age = scb_prel_age.loc[scb_prel_age['DagMånad'] != 'Okänd dödsdag']\n",
    "scb_prel_age = scb_prel_age[::-1]\n",
    "\n",
    "scb_prel_age[['day','month']] = scb_prel_age['DagMånad'].str.split(expand=True)\n",
    "\n",
    "swe_to_eng = {'januari':1,'februari' : 2,'mars' : 3,'april' : 4,\n",
    "              'maj' : 5,'juni' : 6,'juli' : 7,'augusti' : 8,\n",
    "              'september' : 9,'oktober' : 10,'november' : 11,'december' : 12}\n",
    "\n",
    "scb_prel_age.rename(columns={'År' : 'year'},inplace=True)\n",
    "\n",
    "scb_prel_age['day'] = scb_prel_age['day'].astype(int)\n",
    "scb_prel_age['month'] = scb_prel_age['month'].apply(lambda x : int(swe_to_eng[x]))\n",
    "\n",
    "scb_prel_age.index = pd.to_datetime(scb_prel_age[['year','month','day']])\n",
    "\n",
    "scb_prel_age.drop(['year','DagMånad','day','month'],axis=1,inplace=True)\n",
    "\n",
    "unknowns = unknowns.set_index('År')\n",
    "\n",
    "unknowns.drop('DagMånad',axis=1,inplace=True)\n",
    "\n",
    "### pattern transform ###\n",
    "day_proportion = scb_prel_age.groupby(scb_prel_age.index.year).transform(lambda x : x / x.sum())\n",
    "\n",
    "### pattern different size df's ### \n",
    "# in order to multiply day_proportions with unknowns, year-by-year, we must temporarily set a common index.\n",
    "# the index will contain duplicates of years, that's no problem # \n",
    "\n",
    "idx = day_proportion.index\n",
    "day_proportion = day_proportion.set_index(day_proportion.index.year)\n",
    "\n",
    "add_ons = day_proportion * unknowns\n",
    "add_ons.index = idx\n",
    "\n",
    "scb_prel_age += add_ons\n",
    "\n",
    "scb_prel_age"
   ]
  },
  {
   "cell_type": "code",
   "execution_count": null,
   "metadata": {},
   "outputs": [],
   "source": [
    "# sanity check #\n",
    "scb_prel_age.groupby(scb_prel_age.index.year).sum().sum(axis=1)"
   ]
  },
  {
   "cell_type": "code",
   "execution_count": null,
   "metadata": {},
   "outputs": [],
   "source": [
    "def combine_genders(col):\n",
    "    if '64' in col:\n",
    "        return '-64'\n",
    "    if '79' in col:\n",
    "        return '65-79'\n",
    "    if '89' in col:\n",
    "        return '80-89'\n",
    "    if '90' in col:\n",
    "        return '90+'\n",
    "    \n",
    "combined_gender_deaths = scb_prel_age.groupby(combine_genders,axis=1).sum()\n",
    "\n"
   ]
  },
  {
   "cell_type": "code",
   "execution_count": null,
   "metadata": {},
   "outputs": [],
   "source": [
    "combined_gender_deaths"
   ]
  },
  {
   "cell_type": "code",
   "execution_count": null,
   "metadata": {},
   "outputs": [],
   "source": [
    "# sanity check #\n",
    "combined_gender_deaths.groupby(combined_gender_deaths.index.year).sum().sum(axis=1)"
   ]
  },
  {
   "cell_type": "code",
   "execution_count": null,
   "metadata": {},
   "outputs": [],
   "source": [
    "### USING PREVIOUS YEAR'S POP AS POP ###\n",
    "bin_4_grp_pop = bin_4_grp_pop.loc['2014':]\n",
    "bin_4_grp_pop.index = range(2015,2022)\n",
    "bin_4_grp_pop"
   ]
  },
  {
   "cell_type": "code",
   "execution_count": null,
   "metadata": {},
   "outputs": [],
   "source": [
    "full_year_deaths = combined_gender_deaths.resample('Y').sum()\n",
    "full_year_deaths.index = full_year_deaths.index.year\n",
    "full_year_deaths"
   ]
  },
  {
   "cell_type": "code",
   "execution_count": null,
   "metadata": {},
   "outputs": [],
   "source": [
    "full_year_mortality = full_year_deaths / bin_4_grp_pop\n",
    "full_year_mortality"
   ]
  },
  {
   "cell_type": "code",
   "execution_count": null,
   "metadata": {},
   "outputs": [],
   "source": [
    "baseline_start = '2015'\n",
    "baseline_end = '2018'"
   ]
  },
  {
   "cell_type": "code",
   "execution_count": null,
   "metadata": {},
   "outputs": [],
   "source": [
    "full_year_mortality_baseline = full_year_mortality.loc[baseline_start : baseline_end].mean()\n",
    "full_year_mortality_baseline"
   ]
  },
  {
   "cell_type": "code",
   "execution_count": null,
   "metadata": {},
   "outputs": [],
   "source": [
    "full_year_expectation = full_year_mortality_baseline * bin_4_grp_pop\n",
    "full_year_expectation"
   ]
  },
  {
   "cell_type": "code",
   "execution_count": null,
   "metadata": {},
   "outputs": [],
   "source": [
    "##### full year summary ######\n",
    "\n",
    "full_year_excess = full_year_deaths - full_year_expectation\n",
    "full_year_excess_totals = full_year_excess.sum(axis=1)\n",
    "full_year_excess_totals"
   ]
  },
  {
   "cell_type": "code",
   "execution_count": null,
   "metadata": {},
   "outputs": [],
   "source": [
    "#### PATTERN to combine df's with different sizes - temporarily create common index ####\n",
    "daily_mortality = (combined_gender_deaths.set_index(combined_gender_deaths.index.year) / bin_4_grp_pop).set_index(\n",
    "    combined_gender_deaths.index)\n",
    "\n",
    "daily_mortality"
   ]
  },
  {
   "cell_type": "code",
   "execution_count": null,
   "metadata": {},
   "outputs": [],
   "source": [
    "daily_baseline_data = daily_mortality.loc[baseline_start : baseline_end]\n",
    "daily_baseline_mortality = daily_baseline_data.groupby(\n",
    "    [daily_baseline_data.index.month,daily_baseline_data.index.day]).mean()\n",
    "daily_baseline_mortality"
   ]
  },
  {
   "cell_type": "code",
   "execution_count": null,
   "metadata": {},
   "outputs": [],
   "source": [
    "leap_year_daily_mortality = daily_baseline_mortality.copy()\n",
    "leap_year_daily_mortality.index = np.arange(1,367)\n",
    "non_leap_year_daily_mortality = daily_baseline_mortality.copy().drop((2,29))\n",
    "non_leap_year_daily_mortality.index = np.arange(1,366)\n",
    "\n",
    "print (non_leap_year_daily_mortality.tail())\n",
    "print ()\n",
    "print (leap_year_daily_mortality.tail())\n",
    "\n",
    "print (leap_year_daily_mortality.info())"
   ]
  },
  {
   "cell_type": "code",
   "execution_count": null,
   "metadata": {},
   "outputs": [],
   "source": [
    "ax = non_leap_year_daily_mortality[50:70].plot(figsize=(18,12),subplots=True,style='x--')\n",
    "leap_year_daily_mortality[50:70].plot(subplots=True,ax=ax,style='o--')"
   ]
  },
  {
   "cell_type": "code",
   "execution_count": null,
   "metadata": {},
   "outputs": [],
   "source": [
    "timeline_daily_baseline = pd.concat([non_leap_year_daily_mortality,leap_year_daily_mortality,\n",
    "                                     non_leap_year_daily_mortality,non_leap_year_daily_mortality,\n",
    "                                     non_leap_year_daily_mortality,leap_year_daily_mortality,\n",
    "                                     non_leap_year_daily_mortality],axis=0)\n",
    "\n",
    "timeline_daily_baseline.index = pd.date_range(baseline_start,periods=len(timeline_daily_baseline))\n",
    "timeline_daily_baseline\n"
   ]
  },
  {
   "cell_type": "code",
   "execution_count": null,
   "metadata": {
    "scrolled": false
   },
   "outputs": [],
   "source": [
    "axes = daily_mortality.plot(figsize=(18,12),subplots=True)\n",
    "timeline_daily_baseline.plot(subplots=True,color='lightgrey',ls='--',figsize=(18,12),ax=axes)"
   ]
  },
  {
   "cell_type": "code",
   "execution_count": null,
   "metadata": {},
   "outputs": [],
   "source": [
    "bin_4_grp_pop"
   ]
  },
  {
   "cell_type": "code",
   "execution_count": null,
   "metadata": {},
   "outputs": [],
   "source": [
    "##### PATTERN #####\n",
    "daily_expected_deaths = (timeline_daily_baseline.set_index(\n",
    "    timeline_daily_baseline.index.year) * bin_4_grp_pop).set_index(\n",
    "    timeline_daily_baseline.index)\n",
    "\n",
    "daily_expected_deaths"
   ]
  },
  {
   "cell_type": "code",
   "execution_count": null,
   "metadata": {},
   "outputs": [],
   "source": [
    "full_year_expectation_by_daily = daily_expected_deaths.groupby(daily_expected_deaths.index.year).sum()\n",
    "full_year_expectation_by_daily"
   ]
  },
  {
   "cell_type": "code",
   "execution_count": null,
   "metadata": {},
   "outputs": [],
   "source": [
    "full_year_expectation_by_daily.sum(axis=1)"
   ]
  },
  {
   "cell_type": "code",
   "execution_count": null,
   "metadata": {},
   "outputs": [],
   "source": [
    "full_year_expectation.sum(axis=1)"
   ]
  },
  {
   "cell_type": "code",
   "execution_count": null,
   "metadata": {},
   "outputs": [],
   "source": [
    "### leap years stand out ! ####\n",
    "full_year_expectation.sum(axis=1) - full_year_expectation_by_daily.sum(axis=1)"
   ]
  },
  {
   "cell_type": "code",
   "execution_count": null,
   "metadata": {},
   "outputs": [],
   "source": [
    "excess_by_full_year = combined_gender_deaths.groupby(combined_gender_deaths.index.year).sum() - full_year_expectation\n",
    "excess_by_full_year.sum(axis=1)"
   ]
  },
  {
   "cell_type": "code",
   "execution_count": null,
   "metadata": {},
   "outputs": [],
   "source": [
    "excess_by_daily = combined_gender_deaths.groupby(combined_gender_deaths.index.year).sum() - full_year_expectation_by_daily\n",
    "excess_by_daily.sum(axis=1)"
   ]
  },
  {
   "cell_type": "code",
   "execution_count": null,
   "metadata": {},
   "outputs": [],
   "source": [
    "ax = excess_by_full_year[:-1].sum(axis=1).plot(style='o--')\n",
    "excess_by_daily[:-1].sum(axis=1).plot(ax=ax,style='o--')"
   ]
  },
  {
   "cell_type": "code",
   "execution_count": null,
   "metadata": {},
   "outputs": [],
   "source": [
    "(full_year_expectation.sum(axis=1) / full_year_expectation_by_daily.sum(axis=1)).plot(kind='bar')\n",
    "plt.ylim([0.99,1.001])"
   ]
  },
  {
   "cell_type": "code",
   "execution_count": null,
   "metadata": {},
   "outputs": [],
   "source": [
    "no_leap_baseline = daily_mortality.loc['2017' : '2018'].groupby(daily_mortality.loc['2017':'2018'].index.dayofyear).mean()\n",
    "no_leap_baseline"
   ]
  },
  {
   "cell_type": "code",
   "execution_count": null,
   "metadata": {},
   "outputs": [],
   "source": [
    "no_leap_timeline = pd.concat([no_leap_baseline] * 3)\n",
    "no_leap_timeline.index = pd.date_range('2017-01-01','2019-12-31')\n",
    "no_leap_timeline"
   ]
  },
  {
   "cell_type": "code",
   "execution_count": null,
   "metadata": {},
   "outputs": [],
   "source": [
    "no_leap_daily_expectation = (no_leap_timeline.set_index(no_leap_timeline.index.year) * bin_4_grp_pop).dropna().set_index(no_leap_timeline.index)\n",
    "no_leap_daily_expectation"
   ]
  },
  {
   "cell_type": "code",
   "execution_count": null,
   "metadata": {},
   "outputs": [],
   "source": [
    "no_leap_yearly_expectation_by_days = no_leap_daily_expectation.groupby(no_leap_daily_expectation.index.year).sum()\n",
    "no_leap_yearly_expectation_by_days.sum(axis=1)"
   ]
  },
  {
   "cell_type": "code",
   "execution_count": null,
   "metadata": {},
   "outputs": [],
   "source": []
  },
  {
   "cell_type": "code",
   "execution_count": null,
   "metadata": {},
   "outputs": [],
   "source": [
    "no_leap_data_baseline = combined_gender_deaths.loc['2017' : '2018']\n",
    "no_leap_full_year_base = (no_leap_data_baseline.groupby(no_leap_data_baseline.index.year).sum() / bin_4_grp_pop).dropna().mean()"
   ]
  },
  {
   "cell_type": "code",
   "execution_count": null,
   "metadata": {},
   "outputs": [],
   "source": [
    "no_leap_full_year_base"
   ]
  },
  {
   "cell_type": "code",
   "execution_count": null,
   "metadata": {},
   "outputs": [],
   "source": [
    "no_leap_full_year_expectation = no_leap_full_year_base * bin_4_grp_pop\n",
    "no_leap_full_year_expectation"
   ]
  },
  {
   "cell_type": "code",
   "execution_count": null,
   "metadata": {},
   "outputs": [],
   "source": [
    "no_leap_full_year_expectation.sum(axis=1)"
   ]
  },
  {
   "cell_type": "code",
   "execution_count": null,
   "metadata": {},
   "outputs": [],
   "source": [
    "no_leap_yearly_expectation_by_days.sum(axis=1)"
   ]
  },
  {
   "cell_type": "code",
   "execution_count": null,
   "metadata": {},
   "outputs": [],
   "source": [
    "#################################################################################\n",
    "leap_year_subset = combined_gender_deaths.loc[combined_gender_deaths.index.is_leap_year]\n",
    "leap_days = leap_year_subset.loc[(leap_year_subset.index.month==2) & (leap_year_subset.index.day==29)]\n",
    "leap_days"
   ]
  },
  {
   "cell_type": "code",
   "execution_count": null,
   "metadata": {},
   "outputs": [],
   "source": [
    "combined_gender_deaths_no_leap_days = combined_gender_deaths.copy().drop(leap_days.index)"
   ]
  },
  {
   "cell_type": "code",
   "execution_count": null,
   "metadata": {},
   "outputs": [],
   "source": [
    "combined_gender_deaths"
   ]
  },
  {
   "cell_type": "code",
   "execution_count": null,
   "metadata": {},
   "outputs": [],
   "source": [
    "combined_gender_deaths_no_leap_days.loc['2016']"
   ]
  },
  {
   "cell_type": "code",
   "execution_count": null,
   "metadata": {},
   "outputs": [],
   "source": [
    "daily_death_proportions = combined_gender_deaths_no_leap_days.groupby(\n",
    "    combined_gender_deaths_no_leap_days.index.year).transform(lambda x : x / x.sum())\n",
    "\n",
    "daily_death_proportions"
   ]
  },
  {
   "cell_type": "code",
   "execution_count": null,
   "metadata": {},
   "outputs": [],
   "source": [
    "add_ons_2016 = daily_death_proportions.loc['2016']  * leap_days.loc['2016-02-29']\n",
    "add_ons_2020 = daily_death_proportions.loc['2020'] * leap_days.loc['2020-02-29']\n",
    "\n",
    "add_ons_2020"
   ]
  },
  {
   "cell_type": "code",
   "execution_count": null,
   "metadata": {},
   "outputs": [],
   "source": [
    "combined_gender_deaths_no_leap_days.loc['2016'] += add_ons_2016\n",
    "\n",
    "combined_gender_deaths_no_leap_days.loc['2016']"
   ]
  },
  {
   "cell_type": "code",
   "execution_count": null,
   "metadata": {},
   "outputs": [],
   "source": [
    "combined_gender_deaths_no_leap_days.loc['2020'] += add_ons_2020\n",
    "combined_gender_deaths_no_leap_days.loc['2020']"
   ]
  },
  {
   "cell_type": "code",
   "execution_count": null,
   "metadata": {},
   "outputs": [],
   "source": [
    "combined_gender_deaths_no_leap_days.groupby(combined_gender_deaths_no_leap_days.index.year).sum().sum(axis=1)"
   ]
  },
  {
   "cell_type": "code",
   "execution_count": null,
   "metadata": {},
   "outputs": [],
   "source": [
    "combined_gender_deaths.groupby(combined_gender_deaths.index.year).sum().sum(axis=1)"
   ]
  },
  {
   "cell_type": "code",
   "execution_count": null,
   "metadata": {},
   "outputs": [],
   "source": [
    "timeline_no_leap = pd.concat([no_leap_baseline] * 7)"
   ]
  },
  {
   "cell_type": "code",
   "execution_count": null,
   "metadata": {},
   "outputs": [],
   "source": [
    "365 * 7"
   ]
  },
  {
   "cell_type": "code",
   "execution_count": null,
   "metadata": {},
   "outputs": [],
   "source": [
    "idx_no_leap_days = pd.date_range('2015-01-01','2021-12-31')\n",
    "leap_mask = (idx_no_leap_days == '2016-02-29') | (idx_no_leap_days == '2020-02-29')\n",
    "idx_no_leap_days = idx_no_leap_days[~leap_mask]\n",
    "idx_no_leap_days"
   ]
  },
  {
   "cell_type": "code",
   "execution_count": null,
   "metadata": {},
   "outputs": [],
   "source": [
    "### this timeline has the 2 leap day deaths distributed proportionally over their resp. years ###\n",
    "timeline_no_leap.index = idx_no_leap_days\n",
    "timeline_no_leap"
   ]
  },
  {
   "cell_type": "code",
   "execution_count": null,
   "metadata": {},
   "outputs": [],
   "source": [
    "Expected_daily = (timeline_no_leap.set_index(timeline_no_leap.index.year) * bin_4_grp_pop).set_index(\n",
    "    timeline_no_leap.index)\n",
    "\n",
    "Expected_daily"
   ]
  },
  {
   "cell_type": "code",
   "execution_count": null,
   "metadata": {},
   "outputs": [],
   "source": [
    "Expected_daily_no_leap = Expected_daily.groupby(Expected_daily.index.year).sum().sum(axis=1)\n",
    "Expected_daily_no_leap"
   ]
  },
  {
   "cell_type": "code",
   "execution_count": null,
   "metadata": {},
   "outputs": [],
   "source": [
    "full_year_mort_no_leap = combined_gender_deaths_no_leap_days.groupby(combined_gender_deaths_no_leap_days.index.year).sum() / bin_4_grp_pop\n",
    "\n",
    "full_baseline_no_leap = full_year_mort_no_leap.loc['2015' : '2018'].mean()\n",
    "full_baseline_no_leap"
   ]
  },
  {
   "cell_type": "code",
   "execution_count": null,
   "metadata": {},
   "outputs": [],
   "source": [
    "Expected_full_no_leap = (full_baseline_no_leap * bin_4_grp_pop).sum(axis=1)\n",
    "Expected_full_no_leap"
   ]
  },
  {
   "cell_type": "code",
   "execution_count": null,
   "metadata": {},
   "outputs": [],
   "source": [
    "Expected_daily_no_leap/ Expected_full_no_leap"
   ]
  },
  {
   "cell_type": "code",
   "execution_count": null,
   "metadata": {},
   "outputs": [],
   "source": [
    "yearly_actuals = combined_gender_deaths_no_leap_days.groupby(combined_gender_deaths_no_leap_days.index.year).sum()\n",
    "Excess_daily_no_leap = yearly_actuals.sum(axis=1) - Expected_daily_no_leap\n",
    "Excess_daily_no_leap"
   ]
  },
  {
   "cell_type": "code",
   "execution_count": null,
   "metadata": {},
   "outputs": [],
   "source": [
    "Excess_full_no_leap = yearly_actuals.sum(axis=1) - Expected_full_no_leap\n",
    "Excess_full_no_leap"
   ]
  },
  {
   "cell_type": "code",
   "execution_count": null,
   "metadata": {},
   "outputs": [],
   "source": [
    "################################################################################\n",
    "\n",
    "df_no_leap = pd.DataFrame({'dead' : np.repeat(1,365),\n",
    "                          'pop' : np.repeat(1000,365)})\n",
    "\n",
    "\n",
    "df_no_leap['mortality'] = df_no_leap['dead'] / df_no_leap['pop']\n",
    "df_no_leap"
   ]
  },
  {
   "cell_type": "code",
   "execution_count": null,
   "metadata": {},
   "outputs": [],
   "source": [
    "print (df_no_leap.mean())\n",
    "print()\n",
    "print (df_no_leap[['dead','mortality']].sum())"
   ]
  },
  {
   "cell_type": "code",
   "execution_count": null,
   "metadata": {},
   "outputs": [],
   "source": [
    "df_leap = pd.DataFrame({'dead' : np.repeat(1,366),\n",
    "                       'pop' : np.repeat(1000,366)})\n",
    "\n",
    "df_leap['mortality'] = df_leap['dead'] / df_leap['pop']\n",
    "\n",
    "print (df_leap.mean())\n",
    "print ()\n",
    "print (df_leap[['dead','mortality']].sum())"
   ]
  },
  {
   "cell_type": "code",
   "execution_count": null,
   "metadata": {},
   "outputs": [],
   "source": [
    "Expected_daily"
   ]
  },
  {
   "cell_type": "code",
   "execution_count": null,
   "metadata": {},
   "outputs": [],
   "source": [
    "combined_gender_deaths_no_leap_days"
   ]
  },
  {
   "cell_type": "code",
   "execution_count": null,
   "metadata": {},
   "outputs": [],
   "source": [
    "daily_excess = combined_gender_deaths_no_leap_days - Expected_daily\n",
    "daily_excess"
   ]
  },
  {
   "cell_type": "code",
   "execution_count": null,
   "metadata": {},
   "outputs": [],
   "source": [
    "### find out the last reported day of 2021, and define last_good_day ###\n",
    "\n",
    "last_data_day = daily_excess.dropna().index[-1]\n",
    "last_good_day = last_data_day - pd.DateOffset(weeks=2)\n",
    "last_good_day"
   ]
  },
  {
   "cell_type": "code",
   "execution_count": null,
   "metadata": {},
   "outputs": [],
   "source": [
    "title = 'SWEDEN yearly cumulative excess deaths [baseline: daily mortality 2015-2018]\\nYTD {}\\nDataSource : scb.se'.format(\n",
    "last_data_day.date())\n",
    "\n",
    "cum_daily_excess_per_year = daily_excess.groupby(daily_excess.index.year).transform(lambda x : x.cumsum())\n",
    "\n",
    "axes = cum_daily_excess_per_year.plot(subplots=True,figsize=(18,12),sharey=True,title=title)\n",
    "\n",
    "for a in axes:\n",
    "    a.axvline(last_good_day,ls='dashed',color='orange',label='last stable data {}'.format(last_good_day.date()))\n",
    "    a.axhline(0,ls='dashed',color='k')\n",
    "    a.set_ylabel('excess deaths')\n",
    "    a.legend(loc='lower left')\n",
    "\n",
    "plt.savefig('excess_deaths_full_vs_daily_cum_excess_deaths.jpg',format='jpg')"
   ]
  },
  {
   "cell_type": "code",
   "execution_count": null,
   "metadata": {},
   "outputs": [],
   "source": [
    "daily_excess.groupby(daily_excess.index.year).sum()"
   ]
  },
  {
   "cell_type": "code",
   "execution_count": null,
   "metadata": {},
   "outputs": [],
   "source": [
    "#total excess YTD calculated by daily mortality (vs excess 2020 of 2019 if calculated by yearly mortality ) \n",
    "daily_excess.groupby(daily_excess.index.year).sum().sum(axis=1)"
   ]
  },
  {
   "cell_type": "code",
   "execution_count": null,
   "metadata": {},
   "outputs": [],
   "source": [
    "title = 'SWEDEN daily mortality vs baseline [2015-2018]\\nYTD {}\\nDataSource : scb.se'.format(\n",
    "last_data_day.date())\n",
    "\n",
    "axes = daily_mortality.plot(figsize=(18,12),subplots=True,title=title)\n",
    "timeline_daily_baseline.plot(subplots=True,color='lightgrey',ls='--',figsize=(18,12),ax=axes,label='baseline')\n",
    "\n",
    "for a in axes:\n",
    "    a.axvline(last_good_day,ls='dashed',color='orange',label='last stable data {}'.format(last_good_day.date()))\n",
    "    a.set_ylabel('daily mortality')\n",
    "    a.legend(loc='lower left')\n",
    "    \n",
    "plt.savefig('excess_deaths_full_vs_daily_daily_mort.jpg',format='jpg')"
   ]
  }
 ],
 "metadata": {
  "kernelspec": {
   "display_name": "Python 3",
   "language": "python",
   "name": "python3"
  },
  "language_info": {
   "codemirror_mode": {
    "name": "ipython",
    "version": 3
   },
   "file_extension": ".py",
   "mimetype": "text/x-python",
   "name": "python",
   "nbconvert_exporter": "python",
   "pygments_lexer": "ipython3",
   "version": "3.8.6"
  }
 },
 "nbformat": 4,
 "nbformat_minor": 4
}
