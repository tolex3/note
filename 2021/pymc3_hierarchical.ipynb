{
 "cells": [
  {
   "cell_type": "code",
   "execution_count": null,
   "metadata": {},
   "outputs": [],
   "source": [
    "import numpy as np\n",
    "import matplotlib.pyplot as plt\n",
    "import seaborn as sns\n",
    "import pandas as pd\n",
    "import pymc3 as pm\n",
    "import arviz as az\n",
    "\n",
    "sns.set()"
   ]
  },
  {
   "cell_type": "code",
   "execution_count": null,
   "metadata": {},
   "outputs": [],
   "source": [
    "def logit_pure(x):\n",
    "    return (np.exp(x)) / (1 + np.exp(x))\n",
    "\n",
    "def logistic_pure(p):\n",
    "    return np.log(p / (1 - p))"
   ]
  },
  {
   "cell_type": "code",
   "execution_count": null,
   "metadata": {},
   "outputs": [],
   "source": [
    "### divergencies dissapear when having 40 data points asop to 4 ###\n",
    "df = pd.DataFrame({'tank_id' : [0,1],\n",
    "                  'population' : [100,100],\n",
    "                  'survivors' : [10,50]})\n",
    "\n",
    "df"
   ]
  },
  {
   "cell_type": "code",
   "execution_count": null,
   "metadata": {
    "scrolled": false
   },
   "outputs": [],
   "source": [
    "coords = {'tank_name' : ['tank_a','tank_b']}\n",
    "\n",
    "with pm.Model(coords=coords) as model:\n",
    "    alpha_bar = pm.Normal('alpha_bar',mu=0,sd=1.5)\n",
    "    sigma = pm.Exponential('sigma',1)\n",
    "    \n",
    "    alpha = pm.Normal('alpha',mu=alpha_bar,sd=sigma,dims='tank_name')\n",
    "    \n",
    "    obs = pm.Binomial('obs',n=df['population'],p=logit_pure(alpha[df['tank_id']]),\n",
    "                      observed=df['survivors'],dims='tank_name')\n",
    "    \n",
    "    trace = pm.sample(500,tune=500,target_accept=0.99)"
   ]
  },
  {
   "cell_type": "code",
   "execution_count": null,
   "metadata": {},
   "outputs": [],
   "source": [
    "with model:\n",
    "    print(az.summary(trace,hdi_prob=0.89))\n",
    "    az.plot_trace(trace)"
   ]
  },
  {
   "cell_type": "code",
   "execution_count": null,
   "metadata": {},
   "outputs": [],
   "source": [
    "idata = az.from_pymc3(trace,model=model)\n",
    "idata"
   ]
  },
  {
   "cell_type": "code",
   "execution_count": null,
   "metadata": {},
   "outputs": [],
   "source": [
    "az.plot_posterior(idata,var_names='alpha',coords={'tank_name' : ['tank_a']})\n"
   ]
  },
  {
   "cell_type": "code",
   "execution_count": null,
   "metadata": {},
   "outputs": [],
   "source": [
    "print (logit_pure(trace['alpha']).mean(axis=0))\n",
    "logistic_pure(logit_pure(trace['alpha']).mean(axis=0))"
   ]
  }
 ],
 "metadata": {
  "kernelspec": {
   "display_name": "Python 3",
   "language": "python",
   "name": "python3"
  },
  "language_info": {
   "codemirror_mode": {
    "name": "ipython",
    "version": 3
   },
   "file_extension": ".py",
   "mimetype": "text/x-python",
   "name": "python",
   "nbconvert_exporter": "python",
   "pygments_lexer": "ipython3",
   "version": "3.8.6"
  }
 },
 "nbformat": 4,
 "nbformat_minor": 4
}
