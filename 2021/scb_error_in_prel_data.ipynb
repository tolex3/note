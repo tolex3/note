{
 "cells": [
  {
   "cell_type": "code",
   "execution_count": null,
   "metadata": {},
   "outputs": [],
   "source": [
    "import numpy as np\n",
    "import matplotlib.pyplot as plt\n",
    "import seaborn as sns\n",
    "import pandas as pd\n",
    "import requests\n",
    "\n",
    "sns.set()"
   ]
  },
  {
   "cell_type": "code",
   "execution_count": null,
   "metadata": {},
   "outputs": [],
   "source": [
    "#### the first url uses age of death at end of year, the second uses age reached at death ####\n",
    "\n",
    "#official_deaths_url = 'http://api.scb.se/OV0104/v1/doris/sv/ssd/START/BE/BE0101/BE0101I/DodaFodelsearK'\n",
    "official_deaths_url = 'http://api.scb.se/OV0104/v1/doris/sv/ssd/START/BE/BE0101/BE0101I/DodaHandelseK'\n",
    "\n",
    "officeal_deaths_query = {\n",
    "  \"query\": [\n",
    "    {\n",
    "      \"code\": \"Region\",\n",
    "      \"selection\": {\n",
    "        \"filter\": \"vs:RegionRiket99\",\n",
    "        \"values\": [\n",
    "          \"00\"\n",
    "        ]\n",
    "      }\n",
    "    },\n",
    "    {\n",
    "      \"code\": \"Alder\",\n",
    "      \"selection\": {\n",
    "        \"filter\": \"vs:Ålder1årA\",\n",
    "        \"values\": [\n",
    "          \"0\",\n",
    "          \"1\",\n",
    "          \"2\",\n",
    "          \"3\",\n",
    "          \"4\",\n",
    "          \"5\",\n",
    "          \"6\",\n",
    "          \"7\",\n",
    "          \"8\",\n",
    "          \"9\",\n",
    "          \"10\",\n",
    "          \"11\",\n",
    "          \"12\",\n",
    "          \"13\",\n",
    "          \"14\",\n",
    "          \"15\",\n",
    "          \"16\",\n",
    "          \"17\",\n",
    "          \"18\",\n",
    "          \"19\",\n",
    "          \"20\",\n",
    "          \"21\",\n",
    "          \"22\",\n",
    "          \"23\",\n",
    "          \"24\",\n",
    "          \"25\",\n",
    "          \"26\",\n",
    "          \"27\",\n",
    "          \"28\",\n",
    "          \"29\",\n",
    "          \"30\",\n",
    "          \"31\",\n",
    "          \"32\",\n",
    "          \"33\",\n",
    "          \"34\",\n",
    "          \"35\",\n",
    "          \"36\",\n",
    "          \"37\",\n",
    "          \"38\",\n",
    "          \"39\",\n",
    "          \"40\",\n",
    "          \"41\",\n",
    "          \"42\",\n",
    "          \"43\",\n",
    "          \"44\",\n",
    "          \"45\",\n",
    "          \"46\",\n",
    "          \"47\",\n",
    "          \"48\",\n",
    "          \"49\",\n",
    "          \"50\",\n",
    "          \"51\",\n",
    "          \"52\",\n",
    "          \"53\",\n",
    "          \"54\",\n",
    "          \"55\",\n",
    "          \"56\",\n",
    "          \"57\",\n",
    "          \"58\",\n",
    "          \"59\",\n",
    "          \"60\",\n",
    "          \"61\",\n",
    "          \"62\",\n",
    "          \"63\",\n",
    "          \"64\",\n",
    "          \"65\",\n",
    "          \"66\",\n",
    "          \"67\",\n",
    "          \"68\",\n",
    "          \"69\",\n",
    "          \"70\",\n",
    "          \"71\",\n",
    "          \"72\",\n",
    "          \"73\",\n",
    "          \"74\",\n",
    "          \"75\",\n",
    "          \"76\",\n",
    "          \"77\",\n",
    "          \"78\",\n",
    "          \"79\",\n",
    "          \"80\",\n",
    "          \"81\",\n",
    "          \"82\",\n",
    "          \"83\",\n",
    "          \"84\",\n",
    "          \"85\",\n",
    "          \"86\",\n",
    "          \"87\",\n",
    "          \"88\",\n",
    "          \"89\",\n",
    "          \"90\",\n",
    "          \"91\",\n",
    "          \"92\",\n",
    "          \"93\",\n",
    "          \"94\",\n",
    "          \"95\",\n",
    "          \"96\",\n",
    "          \"97\",\n",
    "          \"98\",\n",
    "          \"99\",\n",
    "          \"100+\"\n",
    "        ]\n",
    "      }\n",
    "    },\n",
    "    {\n",
    "      \"code\": \"Kon\",\n",
    "      \"selection\": {\n",
    "        \"filter\": \"item\",\n",
    "        \"values\": [\n",
    "          \"1\",\n",
    "          \"2\"\n",
    "        ]\n",
    "      }\n",
    "    },\n",
    "    {\n",
    "      \"code\": \"Tid\",\n",
    "      \"selection\": {\n",
    "        \"filter\": \"item\",\n",
    "        \"values\": [\n",
    "          \"2015\",\n",
    "          \"2016\",\n",
    "          \"2017\",\n",
    "          \"2018\",\n",
    "          \"2019\"\n",
    "        ]\n",
    "      }\n",
    "    }\n",
    "  ],\n",
    "  \"response\": {\n",
    "    \"format\": \"json\"\n",
    "  }\n",
    "}"
   ]
  },
  {
   "cell_type": "code",
   "execution_count": null,
   "metadata": {},
   "outputs": [],
   "source": [
    "r = requests.post(official_deaths_url,json=officeal_deaths_query)\n",
    "r.status_code"
   ]
  },
  {
   "cell_type": "code",
   "execution_count": null,
   "metadata": {},
   "outputs": [],
   "source": [
    "json = r.json()['data']\n",
    "json[0]"
   ]
  },
  {
   "cell_type": "code",
   "execution_count": null,
   "metadata": {},
   "outputs": [],
   "source": [
    "df = pd.DataFrame.from_dict(json)\n",
    "df[['area','age','gender','year']] = df['key'].to_list()\n",
    "df['dead'] = df['values'].apply(lambda x : x[0]).astype(int)\n",
    "df['age'] = df['age'].apply(lambda x : x.replace('+','')).astype(int)\n",
    "df['bin'] = pd.cut(df['age'],[-1,64,79,89,200],labels=['-64','65-79','80-89','90+'])\n",
    "df.drop(['key','area','values'],axis=1,inplace=True)\n",
    "df = df.groupby(['year','bin']).sum()\n",
    "df"
   ]
  },
  {
   "cell_type": "code",
   "execution_count": null,
   "metadata": {},
   "outputs": [],
   "source": [
    "#### sum of age groups for two genders ####\n",
    "age_sum_64 = np.arange(65).sum() * 2\n",
    "age_sum_65_79 = np.arange(65,80).sum() * 2\n",
    "age_sum_80_89 = np.arange(80,90).sum() * 2\n",
    "age_sum_90 = np.arange(90,101).sum() * 2\n",
    "\n",
    "print (age_sum_64)\n",
    "print (age_sum_65_79)\n",
    "print (age_sum_80_89)\n",
    "print (age_sum_90)"
   ]
  },
  {
   "cell_type": "code",
   "execution_count": null,
   "metadata": {},
   "outputs": [],
   "source": [
    "### prel data ####\n",
    "\n",
    "scb_prel_file = pd.ExcelFile('https://www.scb.se/hitta-statistik/statistik-efter-amne/befolkning/befolkningens-sammansattning/befolkningsstatistik/pong/tabell-och-diagram/preliminar-statistik-over-doda/')\n",
    "\n",
    "scb_prel_file.sheet_names"
   ]
  },
  {
   "cell_type": "code",
   "execution_count": null,
   "metadata": {},
   "outputs": [],
   "source": [
    "scb_prel_tabell2 = scb_prel_file.parse(sheet_name='Tabell 2',skiprows=7,usecols=[0,1,4,5,6,7,9,10,11,12])\n",
    "scb_prel_tabell2['År'] = scb_prel_tabell2['År'].astype(str)\n",
    "scb_prel_tabell2"
   ]
  },
  {
   "cell_type": "code",
   "execution_count": null,
   "metadata": {},
   "outputs": [],
   "source": [
    "unknowns = scb_prel_tabell2.loc[scb_prel_tabell2['DagMånad'].str.contains('Okänd dödsdag')].copy()\n",
    "unknowns.drop('DagMånad',axis=1,inplace=True)\n",
    "unknowns.set_index('År',inplace=True)\n",
    "unknowns\n"
   ]
  },
  {
   "cell_type": "code",
   "execution_count": null,
   "metadata": {},
   "outputs": [],
   "source": [
    "month_name_map = dict(zip(['januari','februari','mars','april','maj','juni',\n",
    "                          'juli','augusti','september','oktober','november','december'],\n",
    "                         np.arange(1,13)))\n",
    "\n",
    "knowns = scb_prel_tabell2.loc[~scb_prel_tabell2['DagMånad'].str.contains('Okänd dödsdag')].copy()\n",
    "knowns                                        "
   ]
  },
  {
   "cell_type": "code",
   "execution_count": null,
   "metadata": {},
   "outputs": [],
   "source": [
    "knowns['DagMånad'] = knowns['DagMånad'].apply(lambda x : str(month_name_map[x.split()[1]]) + '-' + x.split()[0])\n",
    "knowns"
   ]
  },
  {
   "cell_type": "code",
   "execution_count": null,
   "metadata": {},
   "outputs": [],
   "source": [
    "knowns['date'] = pd.to_datetime(knowns['År'].str.cat(knowns['DagMånad'],sep='-'))\n",
    "knowns.drop(['År','DagMånad'],axis=1,inplace=True)\n",
    "knowns.set_index('date',inplace=True)\n",
    "knowns"
   ]
  },
  {
   "cell_type": "code",
   "execution_count": null,
   "metadata": {},
   "outputs": [],
   "source": [
    "def group_genders(col):\n",
    "    if '0-64' in col:\n",
    "        return '-64'\n",
    "    \n",
    "    if '65-79' in col:\n",
    "        return '65-79'\n",
    "    \n",
    "    if '80-89' in col:\n",
    "        return '80-89'\n",
    "    \n",
    "    if '90+' in col:\n",
    "        return '90+'"
   ]
  },
  {
   "cell_type": "code",
   "execution_count": null,
   "metadata": {},
   "outputs": [],
   "source": [
    "common_knowns = knowns.groupby(group_genders,axis=1).sum()\n",
    "common_knowns"
   ]
  },
  {
   "cell_type": "code",
   "execution_count": null,
   "metadata": {},
   "outputs": [],
   "source": [
    "common_unknowns = unknowns.groupby(group_genders,axis=1).sum()\n",
    "common_unknowns = common_unknowns[::-1]\n",
    "common_unknowns"
   ]
  },
  {
   "cell_type": "code",
   "execution_count": null,
   "metadata": {},
   "outputs": [],
   "source": [
    "yearly_common_knowns = common_knowns.groupby(common_knowns.index.year).sum()\n",
    "yearly_common_knowns"
   ]
  },
  {
   "cell_type": "code",
   "execution_count": null,
   "metadata": {},
   "outputs": [],
   "source": [
    "common_unknowns"
   ]
  },
  {
   "cell_type": "code",
   "execution_count": null,
   "metadata": {},
   "outputs": [],
   "source": [
    "yearly_common_knowns.index = common_unknowns.index"
   ]
  },
  {
   "cell_type": "code",
   "execution_count": null,
   "metadata": {},
   "outputs": [],
   "source": [
    "prel_totals = yearly_common_knowns + common_unknowns\n",
    "prel_totals"
   ]
  },
  {
   "cell_type": "code",
   "execution_count": null,
   "metadata": {},
   "outputs": [],
   "source": [
    "prel_totals['tot']  = prel_totals.sum(axis=1)\n",
    "prel_totals"
   ]
  },
  {
   "cell_type": "code",
   "execution_count": null,
   "metadata": {},
   "outputs": [],
   "source": [
    "official_totals = df['dead'].copy().unstack()\n",
    "official_totals.columns = ['-64','65-79','80-89','90+']\n",
    "official_totals['tot'] = official_totals.sum(axis=1)"
   ]
  },
  {
   "cell_type": "code",
   "execution_count": null,
   "metadata": {},
   "outputs": [],
   "source": [
    "official_totals"
   ]
  },
  {
   "cell_type": "code",
   "execution_count": null,
   "metadata": {},
   "outputs": [],
   "source": [
    "prel_totals - official_totals"
   ]
  },
  {
   "cell_type": "code",
   "execution_count": null,
   "metadata": {},
   "outputs": [],
   "source": [
    "common_unknowns"
   ]
  },
  {
   "cell_type": "code",
   "execution_count": null,
   "metadata": {},
   "outputs": [],
   "source": [
    "common_knowns"
   ]
  },
  {
   "cell_type": "code",
   "execution_count": null,
   "metadata": {},
   "outputs": [],
   "source": []
  },
  {
   "cell_type": "code",
   "execution_count": null,
   "metadata": {
    "scrolled": false
   },
   "outputs": [],
   "source": [
    "#### transform example ####\n",
    "\n",
    "daily_proportions = common_knowns.groupby(common_knowns.index.year).transform(lambda x : x / x.sum())\n",
    "\n",
    "#### cant do all age groups in one bang, for some reason ####\n",
    "\n",
    "def add_unknowns(grp):\n",
    "    \n",
    "    return daily_proportions[grp] * daily_proportions.groupby(daily_proportions.index.year)[grp].transform(\n",
    "        lambda x : common_unknowns.loc[str(x.index[0].year),grp]) + common_knowns[grp]\n",
    "\n",
    "corrected_64 = add_unknowns('-64')\n",
    "corrected_65_79 = add_unknowns('65-79')\n",
    "corrected_80_89 = add_unknowns('80-89')\n",
    "corrected_90_plus = add_unknowns('90+')\n",
    "\n",
    "corrected_age_grp_timeline = pd.concat([corrected_64,corrected_65_79,corrected_80_89,corrected_90_plus],\n",
    "                                      axis=1)\n",
    "\n",
    "corrected_age_grp_timeline"
   ]
  },
  {
   "cell_type": "code",
   "execution_count": null,
   "metadata": {},
   "outputs": [],
   "source": [
    "### transform vs apply : same result ###\n",
    "print ('apply : ', common_knowns.groupby(common_knowns.index.year).apply(lambda x : x / x.sum()).head(10))\n",
    "print ('transform : ', common_knowns.groupby(common_knowns.index.year).transform(lambda x : x / x.sum()).head(10))"
   ]
  },
  {
   "cell_type": "code",
   "execution_count": null,
   "metadata": {},
   "outputs": [],
   "source": [
    "corrected_age_grp_timeline.describe()"
   ]
  },
  {
   "cell_type": "code",
   "execution_count": null,
   "metadata": {},
   "outputs": [],
   "source": [
    "fig,axes = plt.subplots(figsize=(18,12))\n",
    "sns.violinplot(data=corrected_age_grp_timeline[['-64','65-79','80-89','90+']],ax=axes,scale='count')\n",
    "\n",
    "plt.title('SWEDEN distribution of daily deaths per age group 2015-2021 YTD ')\n",
    "plt.ylabel('number of daily deaths')\n",
    "plt.xlabel('age group')\n",
    "plt.savefig('scb_error_age_grp_daily_deaths_violin_2015_2021_YTD.jpg',format='jpg')"
   ]
  },
  {
   "cell_type": "code",
   "execution_count": null,
   "metadata": {},
   "outputs": [],
   "source": [
    "avg_daily_deaths = corrected_age_grp_timeline.groupby(\n",
    "    [corrected_age_grp_timeline.index.month,corrected_age_grp_timeline.index.day]).mean()\n",
    "\n",
    "avg_daily_deaths"
   ]
  },
  {
   "cell_type": "code",
   "execution_count": null,
   "metadata": {},
   "outputs": [],
   "source": [
    "avg_daily_deaths.plot()"
   ]
  },
  {
   "cell_type": "code",
   "execution_count": null,
   "metadata": {},
   "outputs": [],
   "source": [
    "p_base = np.array([1/365] * 365)\n",
    "\n",
    "monthly_boost = np.array([4] * 90 + [3] * 30 + [2] * 30 + [1] * 90 + [2] * 60 + [3] * 30 + [4] * 30 + [4] * 5)\n",
    "\n",
    "p_death = p_base * monthly_boost\n",
    "p_death = p_death / p_death.sum()\n"
   ]
  },
  {
   "cell_type": "code",
   "execution_count": null,
   "metadata": {},
   "outputs": [],
   "source": [
    "#### simulation ####\n",
    "\n",
    "### probability distribution with peaks early and late in the year ###\n",
    "\n",
    "N = 100000\n",
    "death_day = np.random.choice(range(1,366),replace=True,p=p_death,size=N)\n",
    "birth_day = np.random.randint(1,366,N)\n",
    "years_completed = np.random.randint(60,100,N)\n",
    "\n",
    "df = pd.DataFrame({'death_day' : death_day,\n",
    "                  'birth_day' : birth_day,\n",
    "                  'years_completed_bef_death' : years_completed})\n",
    "\n",
    "\n",
    "df['age_eoy'] = df.apply(lambda row : row.years_completed_bef_death + 1 if\\\n",
    "                         row.death_day < row.birth_day else row.years_completed_bef_death,axis=1)\n",
    "\n",
    "df['shifted'] = df.apply(lambda row : 1 if row.years_completed_bef_death < row.age_eoy else 0,axis=1)"
   ]
  },
  {
   "cell_type": "code",
   "execution_count": null,
   "metadata": {},
   "outputs": [],
   "source": [
    "df"
   ]
  },
  {
   "cell_type": "code",
   "execution_count": null,
   "metadata": {},
   "outputs": [],
   "source": [
    "df.describe()"
   ]
  },
  {
   "cell_type": "code",
   "execution_count": null,
   "metadata": {},
   "outputs": [],
   "source": [
    "fig,ax = plt.subplots(figsize=(18,12))\n",
    "sns.violinplot(data=df[['birth_day','death_day']])\n",
    "plt.ylabel('day of year')"
   ]
  },
  {
   "cell_type": "code",
   "execution_count": null,
   "metadata": {},
   "outputs": [],
   "source": [
    "(df['age_eoy'] > df['years_completed_bef_death']).sum()"
   ]
  },
  {
   "cell_type": "code",
   "execution_count": null,
   "metadata": {},
   "outputs": [],
   "source": [
    "daily_proportions"
   ]
  },
  {
   "cell_type": "code",
   "execution_count": null,
   "metadata": {},
   "outputs": [],
   "source": [
    "#### different way to compute corrected timeline ####\n",
    "years = daily_proportions.groupby(daily_proportions.index.year).transform(\n",
    "        lambda x : str(x.index[0].year))\n",
    "\n",
    "### here's the trick : we want the year for lookup in common_unknowns for each row, so we take it from the -64 col\n",
    "### only. Otherwise we get the year repeated for each col, and that clearly does not work as key to common_unknowns\n",
    "unknowns_timeline = common_unknowns.loc[years.iloc[:,0]]\n",
    "unknowns_timeline.index = daily_proportions.index\n",
    "unknowns_timeline"
   ]
  },
  {
   "cell_type": "code",
   "execution_count": null,
   "metadata": {},
   "outputs": [],
   "source": [
    "corrected_age_grp_timeline_2 = unknowns_timeline * daily_proportions + common_knowns\n",
    "corrected_age_grp_timeline_2"
   ]
  },
  {
   "cell_type": "code",
   "execution_count": null,
   "metadata": {},
   "outputs": [],
   "source": [
    "corrected_age_grp_timeline_2.groupby(corrected_age_grp_timeline_2.index.year).sum().sum(axis=1)"
   ]
  },
  {
   "cell_type": "code",
   "execution_count": null,
   "metadata": {},
   "outputs": [],
   "source": [
    "corrected_age_grp_timeline_2['day_of_year'] = corrected_age_grp_timeline_2.index.dayofyear\n",
    "corrected_age_grp_timeline_2 = corrected_age_grp_timeline_2[::-1]\n",
    "corrected_age_grp_timeline_2"
   ]
  },
  {
   "cell_type": "code",
   "execution_count": null,
   "metadata": {},
   "outputs": [],
   "source": [
    "\n",
    "day_of_death = corrected_age_grp_timeline_2.loc[:'2020-12-31'].groupby('day_of_year').mean().astype(int)\n",
    "day_of_death"
   ]
  },
  {
   "cell_type": "code",
   "execution_count": null,
   "metadata": {},
   "outputs": [],
   "source": [
    "day_dist_64 = np.repeat(day_of_death.index.values,day_of_death['-64'])\n",
    "day_dist_65_79 = np.repeat(day_of_death.index.values,day_of_death['65-79'])\n",
    "day_dist_80_89 = np.repeat(day_of_death.index.values,day_of_death['80-89'])\n",
    "day_dist_90_plus = np.repeat(day_of_death.index.values,day_of_death['90+'])\n",
    "\n",
    "fig,ax = plt.subplots(figsize=(18,12))\n",
    "plt.title('SWEDEN distribution of deaths over day of year, per age group, 2015 - 2020\\nDataSource : scb.se')\n",
    "plt.ylabel('day of year')\n",
    "plt.xlabel('age group')\n",
    "\n",
    "day_dist_64 = pd.Series(day_dist_64)\n",
    "day_dist_65_79 = pd.Series(day_dist_65_79)\n",
    "day_dist_80_89 = pd.Series(day_dist_80_89)\n",
    "day_dist_90_plus = pd.Series(day_dist_90_plus)\n",
    "\n",
    "day_dist = pd.concat([day_dist_64,day_dist_65_79,day_dist_80_89,day_dist_90_plus],axis=1,ignore_index=True)\n",
    "day_dist.columns = ['-64','65-79','80-89','90+']\n",
    "\n",
    "sns.violinplot(data=day_dist,scale='count')\n",
    "plt.savefig('scb_error_dist_of_deaths_days_of_year.jpg',format='jpg')"
   ]
  },
  {
   "cell_type": "code",
   "execution_count": null,
   "metadata": {},
   "outputs": [],
   "source": [
    "day_dist.describe()"
   ]
  },
  {
   "cell_type": "code",
   "execution_count": null,
   "metadata": {},
   "outputs": [],
   "source": [
    "#### truncating the data from float to int will change the total sums somewhat ####\n",
    "corrected_age_grp_monthly_timeline_2 = corrected_age_grp_timeline_2.resample('M').sum().iloc[:,:-1].astype(int)\n",
    "corrected_age_grp_monthly_timeline_2.groupby(corrected_age_grp_monthly_timeline_2.index.year).sum().sum(axis=1)"
   ]
  },
  {
   "cell_type": "code",
   "execution_count": null,
   "metadata": {},
   "outputs": [],
   "source": [
    "month_of_death = corrected_age_grp_monthly_timeline_2.groupby(\n",
    "    corrected_age_grp_monthly_timeline_2.index.month).mean().astype(int)\n",
    "\n",
    "month_of_death"
   ]
  },
  {
   "cell_type": "code",
   "execution_count": null,
   "metadata": {},
   "outputs": [],
   "source": [
    "month_dist_64 = np.repeat(month_of_death.index.values,month_of_death['-64'])\n",
    "month_dist_65_79 = np.repeat(month_of_death.index.values,month_of_death['65-79'])\n",
    "month_dist_80_89 = np.repeat(month_of_death.index.values,month_of_death['80-89'])\n",
    "month_dist_90_plus = np.repeat(month_of_death.index.values,month_of_death['90+'])\n",
    "\n",
    "month_dist_64 = pd.Series(month_dist_64)\n",
    "month_dist_65_79 = pd.Series(month_dist_65_79)\n",
    "month_dist_80_89 = pd.Series(month_dist_80_89)\n",
    "month_dist_90_plus = pd.Series(month_dist_90_plus)\n",
    "\n",
    "month_dist = pd.concat([month_dist_64,month_dist_65_79,month_dist_80_89,month_dist_90_plus],axis=1,ignore_index=True)\n",
    "month_dist.columns = ['-64','65-79','80-89','90+']\n",
    "\n",
    "month_dist\n"
   ]
  },
  {
   "cell_type": "code",
   "execution_count": null,
   "metadata": {},
   "outputs": [],
   "source": [
    "fig,ax = plt.subplots(figsize=(18,12))\n",
    "sns.violinplot(data=month_dist,ax=ax,scale='count')"
   ]
  },
  {
   "cell_type": "code",
   "execution_count": null,
   "metadata": {},
   "outputs": [],
   "source": [
    "fig,axes = plt.subplots(len(month_dist.columns),figsize=(18,12))\n",
    "\n",
    "for i,c in enumerate(month_dist.columns):\n",
    "    sns.kdeplot(data=month_dist[c],ls='dashdot',ax=axes[i])"
   ]
  },
  {
   "cell_type": "code",
   "execution_count": null,
   "metadata": {},
   "outputs": [],
   "source": [
    "### monthly pct OF YEARLY deaths per age grp ###\n",
    "### good example of transform ###\n",
    "\n",
    "pct_deaths_monthly = corrected_age_grp_monthly_timeline_2[:-1].groupby(\n",
    "    corrected_age_grp_monthly_timeline_2.index[:-1].year).transform(lambda x : x / x.sum())\n",
    "\n",
    "pct_deaths_monthly"
   ]
  },
  {
   "cell_type": "code",
   "execution_count": null,
   "metadata": {},
   "outputs": [],
   "source": [
    "pct_deaths_monthly.groupby(pct_deaths_monthly.index.year).sum()"
   ]
  },
  {
   "cell_type": "code",
   "execution_count": null,
   "metadata": {},
   "outputs": [],
   "source": [
    "#### another example of transform - yearly sum presented for each daily row ####\n",
    "\n",
    "corrected_age_grp_timeline = corrected_age_grp_timeline[::-1]\n",
    "\n",
    "corrected_age_grp_timeline.groupby(\n",
    "    corrected_age_grp_timeline.index.year).transform(np.sum)\n",
    "\n"
   ]
  },
  {
   "cell_type": "code",
   "execution_count": null,
   "metadata": {},
   "outputs": [],
   "source": [
    "title='SWEDEN age grp monthly proportion of yearly deaths\\nDataSource : scb.se'\n",
    "pct_deaths_monthly.plot(subplots=True,figsize=(18,12),style='o--',title=title,sharey=True)\n",
    "\n",
    "plt.savefig('scb_error_prop_monthly_deaths_age_grp_timeline.jpg',format='jpg')"
   ]
  }
 ],
 "metadata": {
  "kernelspec": {
   "display_name": "Python 3",
   "language": "python",
   "name": "python3"
  },
  "language_info": {
   "codemirror_mode": {
    "name": "ipython",
    "version": 3
   },
   "file_extension": ".py",
   "mimetype": "text/x-python",
   "name": "python",
   "nbconvert_exporter": "python",
   "pygments_lexer": "ipython3",
   "version": "3.8.6"
  }
 },
 "nbformat": 4,
 "nbformat_minor": 4
}
