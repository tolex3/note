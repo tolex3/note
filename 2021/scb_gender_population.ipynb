{
 "cells": [
  {
   "cell_type": "code",
   "execution_count": null,
   "metadata": {},
   "outputs": [],
   "source": [
    "import numpy as np\n",
    "import matplotlib.pyplot as plt\n",
    "import seaborn as sns\n",
    "import pandas as pd\n",
    "import requests\n",
    "\n",
    "sns.set()\n"
   ]
  },
  {
   "cell_type": "code",
   "execution_count": null,
   "metadata": {},
   "outputs": [],
   "source": [
    "pop_url = 'http://api.scb.se/OV0104/v1/doris/sv/ssd/START/BE/BE0101/BE0101A/BefolkningR1860N'\n",
    "\n",
    "pop_query = {\n",
    "  \"query\": [\n",
    "    {\n",
    "      \"code\": \"Alder\",\n",
    "      \"selection\": {\n",
    "        \"filter\": \"vs:Ålder1årL\",\n",
    "        \"values\": [\n",
    "          \"0\",\n",
    "          \"1\",\n",
    "          \"2\",\n",
    "          \"3\",\n",
    "          \"4\",\n",
    "          \"5\",\n",
    "          \"6\",\n",
    "          \"7\",\n",
    "          \"8\",\n",
    "          \"9\",\n",
    "          \"10\",\n",
    "          \"11\",\n",
    "          \"12\",\n",
    "          \"13\",\n",
    "          \"14\",\n",
    "          \"15\",\n",
    "          \"16\",\n",
    "          \"17\",\n",
    "          \"18\",\n",
    "          \"19\",\n",
    "          \"20\",\n",
    "          \"21\",\n",
    "          \"22\",\n",
    "          \"23\",\n",
    "          \"24\",\n",
    "          \"25\",\n",
    "          \"26\",\n",
    "          \"27\",\n",
    "          \"28\",\n",
    "          \"29\",\n",
    "          \"30\",\n",
    "          \"31\",\n",
    "          \"32\",\n",
    "          \"33\",\n",
    "          \"34\",\n",
    "          \"35\",\n",
    "          \"36\",\n",
    "          \"37\",\n",
    "          \"38\",\n",
    "          \"39\",\n",
    "          \"40\",\n",
    "          \"41\",\n",
    "          \"42\",\n",
    "          \"43\",\n",
    "          \"44\",\n",
    "          \"45\",\n",
    "          \"46\",\n",
    "          \"47\",\n",
    "          \"48\",\n",
    "          \"49\",\n",
    "          \"50\",\n",
    "          \"51\",\n",
    "          \"52\",\n",
    "          \"53\",\n",
    "          \"54\",\n",
    "          \"55\",\n",
    "          \"56\",\n",
    "          \"57\",\n",
    "          \"58\",\n",
    "          \"59\",\n",
    "          \"60\",\n",
    "          \"61\",\n",
    "          \"62\",\n",
    "          \"63\",\n",
    "          \"64\",\n",
    "          \"65\",\n",
    "          \"66\",\n",
    "          \"67\",\n",
    "          \"68\",\n",
    "          \"69\",\n",
    "          \"70\",\n",
    "          \"71\",\n",
    "          \"72\",\n",
    "          \"73\",\n",
    "          \"74\",\n",
    "          \"75\",\n",
    "          \"76\",\n",
    "          \"77\",\n",
    "          \"78\",\n",
    "          \"79\",\n",
    "          \"80\",\n",
    "          \"81\",\n",
    "          \"82\",\n",
    "          \"83\",\n",
    "          \"84\",\n",
    "          \"85\",\n",
    "          \"86\",\n",
    "          \"87\",\n",
    "          \"88\",\n",
    "          \"89\",\n",
    "          \"90\",\n",
    "          \"91\",\n",
    "          \"92\",\n",
    "          \"93\",\n",
    "          \"94\",\n",
    "          \"95\",\n",
    "          \"96\",\n",
    "          \"97\",\n",
    "          \"98\",\n",
    "          \"99\",\n",
    "          \"100\",\n",
    "          \"101\",\n",
    "          \"102\",\n",
    "          \"103\",\n",
    "          \"104\",\n",
    "          \"105\",\n",
    "          \"106\",\n",
    "          \"107\",\n",
    "          \"108\",\n",
    "          \"109\",\n",
    "          \"110+\"\n",
    "        ]\n",
    "      }\n",
    "    },\n",
    "    {\n",
    "      \"code\": \"Kon\",\n",
    "      \"selection\": {\n",
    "        \"filter\": \"item\",\n",
    "        \"values\": [\n",
    "          \"1\",\n",
    "          \"2\"\n",
    "        ]\n",
    "      }\n",
    "    }\n",
    "  ],\n",
    "  \"response\": {\n",
    "    \"format\": \"json\"\n",
    "  }\n",
    "}"
   ]
  },
  {
   "cell_type": "code",
   "execution_count": null,
   "metadata": {},
   "outputs": [],
   "source": [
    "r = requests.post(pop_url,json=pop_query)\n",
    "r.status_code"
   ]
  },
  {
   "cell_type": "code",
   "execution_count": null,
   "metadata": {},
   "outputs": [],
   "source": [
    "json = r.json()['data']\n",
    "json[0]"
   ]
  },
  {
   "cell_type": "code",
   "execution_count": null,
   "metadata": {},
   "outputs": [],
   "source": [
    "df = pd.DataFrame.from_dict(json)\n",
    "df[['age','gender','year']] = df['key'].to_list()\n",
    "df['age'] = df['age'].str.replace('+','')\n",
    "df['age'] = df['age'].astype(int)\n",
    "df['pop'] = (df['values'].apply(lambda x : x[0])).astype(int)\n",
    "df.drop(['key','values'],axis=1,inplace=True)\n",
    "df\n"
   ]
  },
  {
   "cell_type": "code",
   "execution_count": null,
   "metadata": {},
   "outputs": [],
   "source": [
    "df['bin_10'] = pd.cut(df['age'],range(-10,120,10),labels=range(0,120,10))\n",
    "df"
   ]
  },
  {
   "cell_type": "code",
   "execution_count": null,
   "metadata": {},
   "outputs": [],
   "source": [
    "population_df = df.groupby(['year','bin_10','gender'])['pop'].sum().unstack()\n",
    "population_df.columns=['male','female']\n",
    "population_df"
   ]
  },
  {
   "cell_type": "code",
   "execution_count": null,
   "metadata": {},
   "outputs": [],
   "source": [
    "total_population = population_df.groupby('year').sum().sum(axis=1)\n",
    "total_population"
   ]
  },
  {
   "cell_type": "code",
   "execution_count": null,
   "metadata": {},
   "outputs": [],
   "source": [
    "ax = total_population.plot(style='o--',figsize=(18,12),label='total population')\n",
    "ax.legend()"
   ]
  },
  {
   "cell_type": "code",
   "execution_count": null,
   "metadata": {},
   "outputs": [],
   "source": [
    "male_population = population_df.unstack()['male']\n",
    "female_population = population_df.unstack()['female']\n",
    "\n",
    "male_population.loc['1970':]"
   ]
  },
  {
   "cell_type": "code",
   "execution_count": null,
   "metadata": {},
   "outputs": [],
   "source": [
    "title = 'SWEDEN population by gender, 1860 - 2020\\nDataSource : scb.se'\n",
    "ax = female_population.sum(axis=1).plot(figsize=(18,12),style='ro--',title=title)\n",
    "male_population.sum(axis=1).plot(ax=ax,style='bo--')\n",
    "plt.legend(['Female','Male'])\n",
    "plt.ylabel('population size')\n",
    "plt.savefig('scb_gender_population_by_gender.jpg',format='jpg')"
   ]
  },
  {
   "cell_type": "code",
   "execution_count": null,
   "metadata": {},
   "outputs": [],
   "source": [
    "diff = male_population - female_population\n",
    "diff"
   ]
  },
  {
   "cell_type": "code",
   "execution_count": null,
   "metadata": {},
   "outputs": [],
   "source": [
    "prop_diff = diff / (male_population + female_population)\n",
    "prop_diff"
   ]
  },
  {
   "cell_type": "code",
   "execution_count": null,
   "metadata": {},
   "outputs": [],
   "source": [
    "prop = male_population / (male_population + female_population)\n",
    "prop"
   ]
  },
  {
   "cell_type": "code",
   "execution_count": null,
   "metadata": {},
   "outputs": [],
   "source": [
    "title = 'SWEDEN male surplus of population 1860 - 2020\\nDataSource : scb.se'\n",
    "diff.sum(axis=1).plot(figsize=(18,12),style='o--',title=title)\n",
    "plt.axhline(0,ls='dashed',color='k')\n",
    "plt.ylabel('male surplus')\n",
    "plt.savefig('scb_gender_male_surplus.jpg',format='jpg')"
   ]
  },
  {
   "cell_type": "code",
   "execution_count": null,
   "metadata": {
    "scrolled": false
   },
   "outputs": [],
   "source": [
    "prop = prop.loc['1970':]\n",
    "fig,ax = plt.subplots(3,figsize=(18,12),sharex=True)\n",
    "\n",
    "ax[0].plot(prop[0],label='0-9 years',ls = 'dashdot')\n",
    "ax[0].plot(prop[10],label='10-19 years',ls = 'dashdot')\n",
    "ax[0].plot(prop[20],label='20-29 years',ls = 'dashdot')\n",
    "ax[0].plot(prop[30],label='30-39 years', ls = 'dashdot')\n",
    "ax[0].legend()\n",
    "\n",
    "ax[1].plot(prop[40],label='40-49 years',ls = 'dashdot')\n",
    "ax[1].plot(prop[50],label='50-59 years',ls = 'dashdot')\n",
    "ax[1].plot(prop[60],label='60-69 years',ls = 'dashdot')\n",
    "ax[1].plot(prop[70],label='70-79 years', ls = 'dashdot')\n",
    "ax[1].legend()\n",
    "\n",
    "\n",
    "ax[2].plot(prop[80],label='80-89 years',ls = 'dashdot')\n",
    "ax[2].plot(prop[90],label='90-99 years',ls = 'dashdot')\n",
    "ax[2].plot(prop[100],label='100-109 years',ls = 'dashdot')\n",
    "ax[2].plot(prop[110],label='110+ years', ls = 'dashdot')\n",
    "ax[2].legend()\n",
    "\n",
    "\n",
    "plt.xticks(rotation=90)\n",
    "\n",
    "plt.suptitle('SWEDEN proportion males in population,per age group, 2000-2020\\nDataSource : scb.se')\n",
    "plt.savefig('scb_gender_age_grp_male_prop.jpg',format='jpg')"
   ]
  }
 ],
 "metadata": {
  "kernelspec": {
   "display_name": "Python 3",
   "language": "python",
   "name": "python3"
  },
  "language_info": {
   "codemirror_mode": {
    "name": "ipython",
    "version": 3
   },
   "file_extension": ".py",
   "mimetype": "text/x-python",
   "name": "python",
   "nbconvert_exporter": "python",
   "pygments_lexer": "ipython3",
   "version": "3.8.6"
  }
 },
 "nbformat": 4,
 "nbformat_minor": 4
}
