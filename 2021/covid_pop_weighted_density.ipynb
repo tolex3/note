{
 "cells": [
  {
   "cell_type": "code",
   "execution_count": null,
   "metadata": {},
   "outputs": [],
   "source": [
    "import numpy as np\n",
    "import matplotlib.pyplot as plt\n",
    "import seaborn as sns\n",
    "import pandas as pd\n",
    "import requests\n",
    "import re\n",
    "import scipy.stats as sps\n",
    "\n",
    "sns.set()"
   ]
  },
  {
   "cell_type": "code",
   "execution_count": null,
   "metadata": {},
   "outputs": [],
   "source": [
    "url = 'https://www.worldometers.info/coronavirus/#countries'\n",
    "\n",
    "header = {\n",
    "  \"User-Agent\": \"Mozilla/5.0 (X11; Linux x86_64) AppleWebKit/537.36 (KHTML, like Gecko) Chrome/50.0.2661.75 Safari/537.36\",\n",
    "  \"X-Requested-With\": \"XMLHttpRequest\"\n",
    "}\n",
    "\n",
    "r = requests.get(url, headers=header)\n",
    "\n",
    "html_source = r.text\n",
    "\n",
    "html_source = re.sub(r'<.*?>', lambda g: g.group(0).upper(), html_source)\n",
    "dfs = pd.read_html(html_source,encoding='utf-8')"
   ]
  },
  {
   "cell_type": "code",
   "execution_count": null,
   "metadata": {},
   "outputs": [],
   "source": [
    "df = dfs[0]\n",
    "df"
   ]
  },
  {
   "cell_type": "code",
   "execution_count": null,
   "metadata": {},
   "outputs": [],
   "source": [
    "covid_df = df.loc[~df['#'].isna()]\n",
    "covid_df = covid_df.rename(columns={'Country,Other' : 'country'})\n",
    "covid_df = covid_df.set_index('country')\n",
    "covid_df = covid_df.rename(index={'UK' : 'United Kingdom','Czechia' : 'Czech Republic'})\n",
    "covid_df.columns = covid_df.columns.str.replace(u'\\xa0', u' ')\n",
    "\n",
    "covid_df"
   ]
  },
  {
   "cell_type": "code",
   "execution_count": null,
   "metadata": {},
   "outputs": [],
   "source": [
    "covid_df.sort_index().iloc[40:100]"
   ]
  },
  {
   "cell_type": "code",
   "execution_count": null,
   "metadata": {},
   "outputs": [],
   "source": [
    "PWD_df = pd.read_excel('pwd_country.xlsx')\n",
    "PWD_df = PWD_df.rename(columns={'COUNTRY_NAME' : 'country'})\n",
    "PWD_df = PWD_df.set_index('country')\n",
    "PWD_df.columns = ['COUNTRY_CODE','PWD_2010','PWD_2020','PWD_2030','PWD_2040','PWD_2050']\n",
    "\n",
    "PWD_df"
   ]
  },
  {
   "cell_type": "code",
   "execution_count": null,
   "metadata": {},
   "outputs": [],
   "source": [
    "comb_df = PWD_df.join(covid_df)\n",
    "comb_df.drop('Europe',inplace=True)\n",
    "comb_df"
   ]
  },
  {
   "cell_type": "code",
   "execution_count": null,
   "metadata": {},
   "outputs": [],
   "source": [
    "comb_df.columns"
   ]
  },
  {
   "cell_type": "code",
   "execution_count": null,
   "metadata": {},
   "outputs": [],
   "source": [
    "comb_df['Tests/ 1M pop']"
   ]
  },
  {
   "cell_type": "code",
   "execution_count": null,
   "metadata": {},
   "outputs": [],
   "source": [
    "slope_test,intercept_test,_,_,_ = sps.linregress(comb_df['PWD_2020'],comb_df['Tests/ 1M pop'])\n",
    "slope_cases,intercept_cases,_,_,_ = sps.linregress(comb_df['PWD_2020'],comb_df['Tot Cases/1M pop'])\n",
    "slope_dead,intercept_dead,_,_,_ = sps.linregress(comb_df['PWD_2020'],comb_df['Deaths/1M pop'])"
   ]
  },
  {
   "cell_type": "code",
   "execution_count": null,
   "metadata": {
    "scrolled": false
   },
   "outputs": [],
   "source": [
    "def scatter(ax,param='Deaths/1M pop',color='r',slope=slope_test,intercept=intercept_test):\n",
    "    \n",
    "    comb_df.plot(ax=ax,x='PWD_2020',y=param,figsize=(18,12),style=color+'o')\n",
    "    ax.plot(comb_df['PWD_2020'],comb_df['PWD_2020'].values * slope + intercept,ls='dashed',color='orange')\n",
    "    \n",
    "    for i,j,k in zip(comb_df['PWD_2020'],comb_df[param],comb_df['COUNTRY_CODE']):\n",
    "        ax.annotate(xy=(i,j),text = k)\n",
    "    \n",
    "fig,axes = plt.subplots(3,figsize=(18,12))\n",
    "\n",
    "scatter(axes[0],'Tests/ 1M pop','b',slope_test,intercept_test)\n",
    "scatter(axes[1],'Tot Cases/1M pop','g',slope_cases,intercept_cases)\n",
    "scatter(axes[2],'Deaths/1M pop','r',slope_dead,intercept_dead)\n",
    "\n",
    "title = 'Population Weighted Density --> Covid Outcomes\\nDataSource : EU Joint Research Centre,Worldometers.info'\n",
    "\n",
    "plt.suptitle(title)\n",
    "plt.savefig('covid_population_weighted_density.jpg',format='jpg')"
   ]
  },
  {
   "cell_type": "code",
   "execution_count": null,
   "metadata": {},
   "outputs": [],
   "source": [
    "#### assumed values ####\n",
    "\n",
    "base_rate = 0.001 #https://www.theguardian.com/world/2021/apr/15/rapid-covid-testing-in-england-may-be-scaled-back-over-false-positives\n",
    "pcr_specificity = 0.99 #https://en.wikipedia.org/wiki/COVID-19_testing\n",
    "pcr_sensitivity = 0.95 #https://en.wikipedia.org/wiki/COVID-19_testing\n",
    "\n",
    "pop = 100000\n",
    "infected = pop * base_rate\n",
    "infected \n",
    "not_infected = pop-infected\n",
    "\n",
    "true_positives = pcr_sensitivity * infected\n",
    "true_positives"
   ]
  },
  {
   "cell_type": "code",
   "execution_count": null,
   "metadata": {},
   "outputs": [],
   "source": [
    "false_positives = (1-pcr_specificity) * not_infected\n",
    "false_positives"
   ]
  },
  {
   "cell_type": "code",
   "execution_count": null,
   "metadata": {},
   "outputs": [],
   "source": [
    "p_infected_given_pos_test = true_positives / (true_positives + false_positives)\n",
    "p_infected_given_pos_test"
   ]
  },
  {
   "cell_type": "code",
   "execution_count": null,
   "metadata": {},
   "outputs": [],
   "source": [
    "### by Bayes Rule ###\n",
    "\n",
    "'''\n",
    "P(A|B) = P(B|A) * P(A) / P(B) \n",
    "\n",
    "P(infected  | positive) = P(positive | infected) * P(infected) / P(positive)\n",
    "\n",
    "P(infected | positive) = True_Positives / (True_Positives + False_Positives) \n",
    "\n",
    "P(infected | positive) = sensitivity * base_rate / (base_rate * sensitivity + (1-base_rate) * (1 - specificity) )\n",
    "'''\n",
    "\n",
    "P_infected_given_positive =\\\n",
    "pcr_sensitivity * base_rate / (base_rate * pcr_sensitivity + (1 - base_rate) * (1 - pcr_specificity))\n",
    "\n",
    "P_infected_given_positive"
   ]
  },
  {
   "cell_type": "code",
   "execution_count": null,
   "metadata": {},
   "outputs": [],
   "source": [
    "# RETURNS p(positive | positive tests) # \n",
    "\n",
    "def bayes_rule(likelihood,prior,evidence):\n",
    "    return likelihood * prior / evidence\n",
    "\n",
    "#initial test # \n",
    "posterior = bayes_rule(\n",
    "    pcr_sensitivity,base_rate,base_rate * pcr_sensitivity + (1 - base_rate) * (1 - pcr_specificity))\n",
    "\n",
    "'''\n",
    "example values from https://towardsdatascience.com/bayes-rule-with-a-simple-and-practical-example-2bce3d0f4ad0\n",
    "pcr_sensitivity = 0.97\n",
    "pcr_specificity = 0.95\n",
    "base_rate = 0.005\n",
    "'''\n",
    "\n",
    "posterior = bayes_rule(pcr_sensitivity,base_rate,base_rate * pcr_sensitivity + (1 - base_rate) * (1 - pcr_specificity))\n",
    "# update based on initial test #\n",
    "\n",
    "additional_tests = 3\n",
    "all_posteriors = np.zeros(additional_tests + 1)\n",
    "all_posteriors[0] = posterior\n",
    "\n",
    "\n",
    "for t in range(additional_tests):\n",
    "    \n",
    "    posterior = bayes_rule(\n",
    "        pcr_sensitivity,posterior,posterior * pcr_sensitivity + (1 - posterior) * (1 - pcr_specificity))\n",
    "    all_posteriors[t+1] = posterior\n",
    "\n",
    "print (all_posteriors)"
   ]
  },
  {
   "cell_type": "code",
   "execution_count": null,
   "metadata": {},
   "outputs": [],
   "source": [
    "plt.figure(figsize=(18,12))\n",
    "plt.plot(np.arange(1,1 + additional_tests + 1),all_posteriors,'o--')\n",
    "plt.xlabel('test nr')\n",
    "plt.ylabel('probability infected')\n",
    "_= plt.xticks(range(1, len(all_posteriors) + 1))\n",
    "\n",
    "txt = ['Pos Test','Pos Test','Pos Test','Pos Test']\n",
    "colors = ['red'] * 4\n",
    "\n",
    "for x,y,txt,c in zip(range(1,1 + additional_tests + 1),all_posteriors,txt,colors):\n",
    "    plt.annotate(xy=(x,y),text=txt,color=c)\n",
    "    \n",
    "plt.title('probability positive given n positive tests, assuming incidence {:.3f}, sensitivity {:.2f} specificity {:.2f}'.format(\n",
    "base_rate,pcr_sensitivity,pcr_specificity))\n",
    "base_rate"
   ]
  },
  {
   "cell_type": "code",
   "execution_count": null,
   "metadata": {},
   "outputs": [],
   "source": [
    "\n",
    "def bayes_rule_2(base_rate,sensitivity,specificity,p_pos = True):\n",
    "    true_pos = base_rate * sensitivity\n",
    "    false_neg = base_rate * (1 - sensitivity)\n",
    "    true_neg = (1 - base_rate) * specificity\n",
    "    false_pos =  (1 - base_rate) * (1 - specificity)\n",
    "    \n",
    "    if p_pos:\n",
    "        return true_pos / (true_pos + false_pos)\n",
    "    else:\n",
    "        return true_neg / (true_neg + false_neg)\n",
    "\n",
    "bayes_rule_2(0.001,0.95,0.99,p_pos=True)"
   ]
  },
  {
   "cell_type": "code",
   "execution_count": null,
   "metadata": {},
   "outputs": [],
   "source": [
    "# pos,neg #\n",
    "\n",
    "sensitivity = 0.95\n",
    "specificity = 0.99\n",
    "\n",
    "\n",
    "\n",
    "\n",
    "additional_tests = 4\n",
    "result = np.zeros(additional_tests + 1)\n",
    "\n",
    "# probability for positive given positive test #\n",
    "result[0] = bayes_rule_2(0.001,sensitivity,specificity,p_pos=True)\n",
    "\n",
    "# probability for being negative given negative test AND previous positive test #\n",
    "result[1] = bayes_rule_2(result[0],sensitivity,specificity,p_pos=False)\n",
    "\n",
    "# probability for being negative given negative test AND prior results #\n",
    "result[2] = bayes_rule_2(1-result[1],sensitivity,specificity,p_pos=False)\n",
    "\n",
    "result[3] = bayes_rule_2(1-result[2],sensitivity,specificity,p_pos=False)\n",
    "\n",
    "result[4] = bayes_rule_2(1-result[3],sensitivity,specificity,p_pos=False)\n",
    "\n",
    "\n",
    "print ('p_positive|positive {:.3f} p_negative|negative,previous {:.3f} p_negative|negative,previous {:.3f} p_negative|negative,previous {:.3f}'.format(\n",
    "    result[0],result[1],result[2],result[3]))\n",
    "\n",
    "result[1:] = 1 - result[1:] \n",
    "result"
   ]
  },
  {
   "cell_type": "code",
   "execution_count": null,
   "metadata": {},
   "outputs": [],
   "source": [
    "plt.figure(figsize=(18,12))\n",
    "plt.plot(range(1,len(result) + 1),result,'o--')\n",
    "plt.xlabel('test nr')\n",
    "plt.ylabel('probability infected')\n",
    "\n",
    "txt = ['Pos Test','Neg Test','Neg Test','Neg Test','Neg Test']\n",
    "colors = ['red','green','green','green','green']\n",
    "\n",
    "for x,y,txt,c in zip(range(1,len(result) + 1),result,txt,colors):\n",
    "    plt.annotate(xy=(x,y),text=txt,color=c)\n",
    "    \n",
    "_= plt.xticks(range(1,len(result) + 1))\n",
    "\n",
    "\n",
    "plt.title('Probability of being infected after first receiving a positive test, then subsequent negatives'+\\\n",
    "         '\\nbase rate : {:.3f} sensitivity : {:.3f} specificity : {:.3f}'.format(\n",
    "base_rate,sensitivity,specificity))"
   ]
  },
  {
   "cell_type": "code",
   "execution_count": null,
   "metadata": {},
   "outputs": [],
   "source": [
    "p_inf_given_pos_neg = 1-bayes_rule_2(p_infected_given_pos_test,sensitivity,specificity,p_pos=False)\n",
    "p_inf_given_pos_neg"
   ]
  },
  {
   "cell_type": "code",
   "execution_count": null,
   "metadata": {},
   "outputs": [],
   "source": [
    "# next section #"
   ]
  },
  {
   "cell_type": "code",
   "execution_count": null,
   "metadata": {},
   "outputs": [],
   "source": [
    "title = 'Europe : Covid Tests per 1M population\\nDataSource : Worldometers.info'\n",
    "comb_df.plot(kind='bar',y='Tests/ 1M pop',figsize=(18,12),title=title)\n",
    "plt.savefig('covid_pop_weighted_density_test_per_m.jpg',format='jpg')"
   ]
  },
  {
   "cell_type": "code",
   "execution_count": null,
   "metadata": {},
   "outputs": [],
   "source": [
    "covid_df"
   ]
  },
  {
   "cell_type": "code",
   "execution_count": null,
   "metadata": {},
   "outputs": [],
   "source": [
    "fig,axes = plt.subplots(4,figsize=(18,12))\n",
    "covid_df['Tests/ 1M pop'].sort_values(ascending=False)[:len(covid_df) // 4].plot(kind='bar',ax=axes[0])\n",
    "\n",
    "covid_df['Tests/ 1M pop'].sort_values(\n",
    "    ascending=False)[len(covid_df) // 4 : len(covid_df) // 4 + len(covid_df) // 4].plot(kind='bar',ax=axes[1])\n",
    "\n",
    "covid_df['Tests/ 1M pop'].sort_values(\n",
    "    ascending=False)[len(covid_df) // 4 + len(covid_df) // 4 : len(covid_df) // 4 + 2 * len(covid_df) // 4].plot(kind='bar',ax=axes[2])\n",
    "\n",
    "covid_df['Tests/ 1M pop'].sort_values(\n",
    "    ascending=False)[len(covid_df) // 4 + 2 * len(covid_df) // 4 :].plot(kind='bar',ax=axes[3])\n",
    "\n",
    "plt.suptitle('Covid Tests per Million pop\\nDataSource : worldometers.info')\n",
    "plt.tight_layout()\n",
    "\n",
    "plt.savefig('covid_pop_tests_per_m_worldwide.jpg',format='jpg')"
   ]
  },
  {
   "cell_type": "code",
   "execution_count": null,
   "metadata": {
    "scrolled": false
   },
   "outputs": [],
   "source": [
    "ax = covid_df['Tests/ 1M pop'].sort_values(ascending=False).plot(figsize=(18,12))\n",
    "\n",
    "_=ax.set_xticks(range(len(covid_df)))\n",
    "_= ax.set_xticklabels([''] * len(covid_df))"
   ]
  },
  {
   "cell_type": "code",
   "execution_count": null,
   "metadata": {},
   "outputs": [],
   "source": [
    "plt.plot(range(len(covid_df)),covid_df['Tests/ 1M pop'].sort_values(ascending=False))\n",
    "plt.yscale('log')\n"
   ]
  },
  {
   "cell_type": "code",
   "execution_count": null,
   "metadata": {},
   "outputs": [],
   "source": [
    "6 * 365 * 2 * 17"
   ]
  },
  {
   "cell_type": "code",
   "execution_count": null,
   "metadata": {},
   "outputs": [],
   "source": []
  }
 ],
 "metadata": {
  "kernelspec": {
   "display_name": "Python 3",
   "language": "python",
   "name": "python3"
  },
  "language_info": {
   "codemirror_mode": {
    "name": "ipython",
    "version": 3
   },
   "file_extension": ".py",
   "mimetype": "text/x-python",
   "name": "python",
   "nbconvert_exporter": "python",
   "pygments_lexer": "ipython3",
   "version": "3.8.6"
  }
 },
 "nbformat": 4,
 "nbformat_minor": 4
}
