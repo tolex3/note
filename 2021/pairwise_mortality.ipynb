{
 "cells": [
  {
   "cell_type": "code",
   "execution_count": null,
   "metadata": {},
   "outputs": [],
   "source": [
    "import numpy as np\n",
    "import matplotlib.pyplot as plt\n",
    "import seaborn as sns\n",
    "import pandas as pd\n",
    "import pymc3 as pm\n",
    "import requests\n",
    "\n",
    "sns.set()"
   ]
  },
  {
   "cell_type": "code",
   "execution_count": null,
   "metadata": {},
   "outputs": [],
   "source": [
    "pop_url = 'http://api.scb.se/OV0104/v1/doris/sv/ssd/START/BE/BE0101/BE0101G/BefUtvKon1749'\n",
    "pop_json_query = {\n",
    "  \"query\": [\n",
    "    {\n",
    "      \"code\": \"Kon\",\n",
    "      \"selection\": {\n",
    "        \"filter\": \"item\",\n",
    "        \"values\": [\n",
    "          \"1+2\"\n",
    "        ]\n",
    "      }\n",
    "    },\n",
    "    {\n",
    "      \"code\": \"ContentsCode\",\n",
    "      \"selection\": {\n",
    "        \"filter\": \"item\",\n",
    "        \"values\": [\n",
    "          \"000000LV\",\n",
    "          \"0000001F\"\n",
    "        ]\n",
    "      }\n",
    "    }\n",
    "  ],\n",
    "  \"response\": {\n",
    "    \"format\": \"json\"\n",
    "  }\n",
    "}"
   ]
  },
  {
   "cell_type": "code",
   "execution_count": null,
   "metadata": {},
   "outputs": [],
   "source": [
    "r = requests.post(pop_url,json=pop_json_query)\n",
    "r.status_code"
   ]
  },
  {
   "cell_type": "code",
   "execution_count": null,
   "metadata": {},
   "outputs": [],
   "source": [
    "json_data = r.json()['data']\n",
    "json_data[0]"
   ]
  },
  {
   "cell_type": "code",
   "execution_count": null,
   "metadata": {},
   "outputs": [],
   "source": [
    "pop_df = pd.DataFrame.from_dict(json_data)\n",
    "pop_df[['gender','year']] = pop_df['key'].to_list()\n",
    "\n",
    "def unpack_values(x):\n",
    "    \n",
    "    return int(x[0]),int(x[1])\n",
    "\n",
    "pop_df[['pop','dead']] = pd.DataFrame.from_records(pop_df['values'].apply(unpack_values),columns=['pop','dead'])\n",
    "pop_df.drop(['key','values','gender'],axis=1,inplace=True)\n",
    "pop_df.set_index('year',inplace=True)\n",
    "pop_df"
   ]
  },
  {
   "cell_type": "code",
   "execution_count": null,
   "metadata": {},
   "outputs": [],
   "source": [
    "scb_file = pd.ExcelFile('https://www.scb.se/hitta-statistik/statistik-efter-amne/befolkning/befolkningens-sammansattning/befolkningsstatistik/pong/tabell-och-diagram/preliminar-statistik-over-doda/')\n",
    "scb_prel = scb_file.parse(sheet_name='Tabell 1',skiprows=6,usecols=range(10))\n",
    "scb_prel"
   ]
  },
  {
   "cell_type": "code",
   "execution_count": null,
   "metadata": {},
   "outputs": [],
   "source": [
    "abs_dead_2020 = pd.Series(scb_prel['2020'].sum(),name='dead')\n",
    "abs_dead_2020"
   ]
  },
  {
   "cell_type": "code",
   "execution_count": null,
   "metadata": {},
   "outputs": [],
   "source": [
    "pop_2020_url = 'http://api.scb.se/OV0104/v1/doris/sv/ssd/START/BE/BE0101/BE0101A/FolkmangdNov'\n",
    "pop_2020_json_query = {\n",
    "  \"query\": [\n",
    "    {\n",
    "      \"code\": \"Region\",\n",
    "      \"selection\": {\n",
    "        \"filter\": \"vs:RegionRiket99\",\n",
    "        \"values\": [\n",
    "          \"00\"\n",
    "        ]\n",
    "      }\n",
    "    },\n",
    "    {\n",
    "      \"code\": \"Alder\",\n",
    "      \"selection\": {\n",
    "        \"filter\": \"vs:ÅlderTotA\",\n",
    "        \"values\": [\n",
    "          \"tot\"\n",
    "        ]\n",
    "      }\n",
    "    },\n",
    "    {\n",
    "      \"code\": \"Kon\",\n",
    "      \"selection\": {\n",
    "        \"filter\": \"item\",\n",
    "        \"values\": [\n",
    "          \"1\",\n",
    "          \"2\"\n",
    "        ]\n",
    "      }\n",
    "    },\n",
    "    {\n",
    "      \"code\": \"Tid\",\n",
    "      \"selection\": {\n",
    "        \"filter\": \"item\",\n",
    "        \"values\": [\n",
    "          \"2020\"\n",
    "        ]\n",
    "      }\n",
    "    }\n",
    "  ],\n",
    "  \"response\": {\n",
    "    \"format\": \"json\"\n",
    "  }\n",
    "}"
   ]
  },
  {
   "cell_type": "code",
   "execution_count": null,
   "metadata": {},
   "outputs": [],
   "source": [
    "r = requests.post(pop_2020_url,json=pop_2020_json_query)\n",
    "r.status_code"
   ]
  },
  {
   "cell_type": "code",
   "execution_count": null,
   "metadata": {},
   "outputs": [],
   "source": [
    "pop_2020_json = r.json()['data']\n",
    "pop_2020_json[0]"
   ]
  },
  {
   "cell_type": "code",
   "execution_count": null,
   "metadata": {},
   "outputs": [],
   "source": [
    "pop_2020_df = pd.DataFrame.from_dict(pop_2020_json)\n",
    "pop_2020_df[['area','tot','gender','year']] = pop_2020_df['key'].to_list()\n",
    "pop_2020_df['pop'] = pop_2020_df['values'].apply(lambda x : x[0]).astype(int)\n",
    "pop_2020_df.drop(['key','values','area','tot'],axis=1,inplace=True)\n",
    "pop_2020_df"
   ]
  },
  {
   "cell_type": "code",
   "execution_count": null,
   "metadata": {},
   "outputs": [],
   "source": [
    "pop_2020 = pd.Series(pop_2020_df['pop'].sum(),name='pop')\n",
    "pop_2020"
   ]
  },
  {
   "cell_type": "code",
   "execution_count": null,
   "metadata": {},
   "outputs": [],
   "source": [
    "pop_df.at['2020','pop'] = pop_2020\n",
    "pop_df.at['2020','dead'] = abs_dead_2020\n",
    "pop_df"
   ]
  },
  {
   "cell_type": "code",
   "execution_count": null,
   "metadata": {},
   "outputs": [],
   "source": [
    "pop_df['mortality'] = pop_df['dead'] / pop_df['pop']\n",
    "pop_df"
   ]
  },
  {
   "cell_type": "code",
   "execution_count": null,
   "metadata": {},
   "outputs": [],
   "source": [
    "pop_df.plot(y='mortality',figsize=(18,12))"
   ]
  },
  {
   "cell_type": "code",
   "execution_count": null,
   "metadata": {
    "scrolled": false
   },
   "outputs": [],
   "source": [
    "pair_idx = [pop_df.index[i] + '/' + pop_df.index[i+1] for i in range(len(pop_df.index) - 1)]"
   ]
  },
  {
   "cell_type": "code",
   "execution_count": null,
   "metadata": {},
   "outputs": [],
   "source": [
    "#### pairwise years ####\n",
    "\n",
    "pairwise_pop = np.zeros(len (pop_df) - 1)\n",
    "pairwise_dead = np.zeros(len (pop_df) - 1)\n",
    "\n",
    "for i,y in enumerate(pop_df.index[:-1]):\n",
    "    pairwise_pop[i] = pop_df.iloc[i,0] + pop_df.iloc[i+1,0]\n",
    "    pairwise_dead[i] = pop_df.iloc[i,1] + pop_df.iloc[i+1,1]\n",
    "    \n",
    "\n",
    "pairwise_df = pd.DataFrame({'pop' : pairwise_pop,\n",
    "                           'dead' : pairwise_dead})\n",
    "\n",
    "pairwise_df.index = pair_idx\n",
    "pairwise_df['mortality'] = pairwise_df['dead'] / pairwise_df['pop']\n",
    "pairwise_df\n"
   ]
  },
  {
   "cell_type": "code",
   "execution_count": null,
   "metadata": {
    "scrolled": false
   },
   "outputs": [],
   "source": [
    "\n",
    "title = 'SWEDEN mortality : consecutive pairwise years 1749/1750 - 2019/2020\\nDataSource : scb.se'\n",
    "pairwise_df.plot(y='mortality',figsize=(18,12),title=title)\n",
    "\n",
    "ax = plt.gca()\n",
    "\n",
    "_= plt.xticks(range(len(pair_idx)),pair_idx,rotation=90)\n",
    "\n",
    "plt.ylabel('mortality')\n",
    "plt.xlabel('pairwise consecutive years')\n",
    "\n",
    "for i,label in enumerate(ax.xaxis.get_ticklabels()):\n",
    "    if i % 10 == 0:\n",
    "        label.set_visible(True)\n",
    "    else:\n",
    "        label.set_visible(False)\n",
    "    \n",
    "\n",
    "    \n",
    "plt.savefig('mortality_pairwise_years_1749-2020.jpg',format='jpg')\n"
   ]
  },
  {
   "cell_type": "code",
   "execution_count": null,
   "metadata": {},
   "outputs": [],
   "source": [
    "title = 'SWEDEN mortality : consecutive pairwise years 2015/2016 - 2019/2020\\nDataSource : scb.se'\n",
    "pairwise_df.loc['2015/2016':].plot(y='mortality',kind='bar',figsize=(18,12),title=title)\n",
    "plt.ylabel('mmortality')\n",
    "plt.xlabel('pair of years')\n",
    "_= plt.yticks(np.arange(0,0.01,0.0005))\n",
    "plt.savefig('pairwise_years_mortality_2015-2020.jpg',format='jpg')"
   ]
  },
  {
   "cell_type": "code",
   "execution_count": null,
   "metadata": {},
   "outputs": [],
   "source": [
    "pairwise_df.plot(y='dead',figsize=(18,12))"
   ]
  },
  {
   "cell_type": "code",
   "execution_count": null,
   "metadata": {},
   "outputs": [],
   "source": [
    "top_dead_2k = (pairwise_df.loc['2000/2001':]).sort_values('dead',ascending=False)\n",
    "top_dead_2k"
   ]
  },
  {
   "cell_type": "code",
   "execution_count": null,
   "metadata": {
    "scrolled": false
   },
   "outputs": [],
   "source": [
    "colormap  = {y:'b' for y in top_dead_2k.index}\n",
    "colormap['2019/2020'] = 'orange'\n",
    "\n",
    "title = 'SWEDEN ranking abs deaths pairwise consecutive years 2000/2001 - 2019/2020\\nDataSource : scb.se'\n",
    "\n",
    "top_dead_2k.plot(y='dead',figsize=(18,12),kind='bar',color=colormap.values())\n",
    "plt.ylabel('total dead in 2 years')\n",
    "plt.xlabel('pairwise consecutive years')\n",
    "\n",
    "plt.savefig('pairwise_years_2K_abs_dead_ranking.jpg',format='jpg')"
   ]
  },
  {
   "cell_type": "code",
   "execution_count": null,
   "metadata": {},
   "outputs": [],
   "source": [
    "top_mort_2k = top_dead_2k.sort_values('mortality',ascending=False)\n",
    "top_mort_2k"
   ]
  },
  {
   "cell_type": "code",
   "execution_count": null,
   "metadata": {},
   "outputs": [],
   "source": [
    "colormap  = {y:'b' for y in top_mort_2k.index}\n",
    "colormap['2019/2020'] = 'orange'\n",
    "\n",
    "title = 'SWEDEN ranking mortality pairwise consecutive years 2000/2001 - 2019/2020\\nDataSource : scb.se'\n",
    "\n",
    "top_mort_2k.plot(y='mortality',figsize=(18,12),kind='bar',color=colormap.values(),title=title)\n",
    "plt.ylabel('mortality')\n",
    "plt.xlabel('pairwise consecutive years')\n",
    "\n",
    "plt.savefig('pairwise_years_2K_mortality_ranking.jpg',format='jpg')"
   ]
  },
  {
   "cell_type": "code",
   "execution_count": null,
   "metadata": {},
   "outputs": [],
   "source": [
    "#### multi-year averages #####\n",
    "\n",
    "def compute_set_sums(set,compute_over=2):\n",
    "\n",
    "    nr_items = len(set)\n",
    "    \n",
    "    subset_pop_sum = np.zeros((nr_items-(compute_over-1),set.shape[-1]))\n",
    "    \n",
    "    for i in range(len(subset_pop_sum)):\n",
    "        for j in range(compute_over):\n",
    "            subset_pop_sum[i] += set[i+j]\n",
    "\n",
    "    return subset_pop_sum\n",
    "\n",
    "\n",
    "def create_set_labels(set,subset_length=avg_over):\n",
    "    \n",
    "    years = set.index.values\n",
    "    \n",
    "    index_labels = []\n",
    "    \n",
    "    for i in range(len(years) - (subset_length - 1)):\n",
    "        label = ''\n",
    "        \n",
    "        for l in range(subset_length ):\n",
    "            label += (years[i+l][-2:])\n",
    "            if l < subset_length - 1:\n",
    "                label = label + '/'\n",
    "        \n",
    "        index_labels.append(label)\n",
    "        \n",
    "    return index_labels\n",
    "\n",
    "#create_set_labels(pop_df.loc['2015':],4)"
   ]
  },
  {
   "cell_type": "code",
   "execution_count": null,
   "metadata": {},
   "outputs": [],
   "source": [
    "pop_df"
   ]
  },
  {
   "cell_type": "code",
   "execution_count": null,
   "metadata": {},
   "outputs": [],
   "source": [
    "start_year = '1990'\n",
    "set_data = pop_df.loc[start_year:,['pop','dead']]\n",
    "set_data"
   ]
  },
  {
   "cell_type": "code",
   "execution_count": null,
   "metadata": {
    "scrolled": false
   },
   "outputs": [],
   "source": [
    "compute_over = 4\n",
    "set_sums = pd.DataFrame(compute_set_sums(set_data.values,compute_over),columns=['pop','dead'],\n",
    "                       index = create_set_labels(set_data,compute_over))\n",
    "\n",
    "set_sums['mortality'] = set_sums['dead'] / set_sums['pop']\n",
    "set_sums"
   ]
  },
  {
   "cell_type": "code",
   "execution_count": null,
   "metadata": {
    "scrolled": false
   },
   "outputs": [],
   "source": [
    "fig,axes = plt.subplots(3,2,figsize=(18,12),sharey=True)\n",
    "\n",
    "col = 0\n",
    "rows = [0,0,1,1,2,2]\n",
    "\n",
    "for i, subset in enumerate(range(1,7)):\n",
    "    \n",
    "    labels = create_set_labels(set_data,subset)\n",
    "    \n",
    "    set_sums = pd.DataFrame(compute_set_sums(set_data.values,subset),columns=['pop','dead'],\n",
    "                       index = labels)\n",
    "\n",
    "    set_sums['mortality'] = set_sums['dead'] / set_sums['pop']\n",
    "        \n",
    "    col =  i % 2\n",
    "    row = rows[i]\n",
    "    \n",
    "    axes[row,col].plot(set_sums['mortality'],'o--')\n",
    "    \n",
    "    axes[row,col].set_xticklabels(labels,rotation=90)\n",
    "    \n",
    "    axes[row,col].set_title('SWE mortality averaged over {} year(s)'.format(i+1))\n",
    "    \n",
    "    axes[row,col].set_ylabel('mortality')\n",
    "    axes[row,col].set_xlabel('years')\n",
    "    \n",
    "    \n",
    "plt.suptitle('SWEDEN mortality 1990-2020, averaged over 1..6 years\\n\\nDataSource : scb.se')\n",
    "plt.tight_layout()\n",
    "plt.savefig('mortality_averaged_over_different_years.jpg',format='jpg')"
   ]
  },
  {
   "cell_type": "code",
   "execution_count": null,
   "metadata": {},
   "outputs": [],
   "source": [
    "%load_ext watermark\n",
    "%watermark -n -u -v -iv -w"
   ]
  }
 ],
 "metadata": {
  "kernelspec": {
   "display_name": "Python 3",
   "language": "python",
   "name": "python3"
  },
  "language_info": {
   "codemirror_mode": {
    "name": "ipython",
    "version": 3
   },
   "file_extension": ".py",
   "mimetype": "text/x-python",
   "name": "python",
   "nbconvert_exporter": "python",
   "pygments_lexer": "ipython3",
   "version": "3.8.6"
  }
 },
 "nbformat": 4,
 "nbformat_minor": 4
}
