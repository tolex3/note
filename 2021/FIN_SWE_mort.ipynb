{
 "cells": [
  {
   "cell_type": "code",
   "execution_count": null,
   "metadata": {},
   "outputs": [],
   "source": [
    "import numpy as np\n",
    "import matplotlib.pyplot as plt\n",
    "import seaborn as sns\n",
    "import pandas as pd\n",
    "import requests\n",
    "\n",
    "sns.set()"
   ]
  },
  {
   "cell_type": "code",
   "execution_count": null,
   "metadata": {},
   "outputs": [],
   "source": [
    "### age stratified data FINLAND ###\n",
    "\n",
    "fin_pop_url = 'https://pxnet2.stat.fi:443/PXWeb/api/v1/sv/StatFin/vrm/vaerak/statfin_vaerak_pxt_11rd.px'\n",
    "fin_pop_query = {\n",
    "  \"query\": [\n",
    "    {\n",
    "      \"code\": \"Vuosi\",\n",
    "      \"selection\": {\n",
    "        \"filter\": \"item\",\n",
    "        \"values\": [\n",
    "          \"2015\",\n",
    "          \"2016\",\n",
    "          \"2017\",\n",
    "          \"2018\",\n",
    "          \"2019\",\n",
    "          \"2020\"\n",
    "        ]\n",
    "      }\n",
    "    },\n",
    "    {\n",
    "      \"code\": \"Sukupuoli\",\n",
    "      \"selection\": {\n",
    "        \"filter\": \"item\",\n",
    "        \"values\": [\n",
    "          \"SSS\"\n",
    "        ]\n",
    "      }\n",
    "    },\n",
    "    {\n",
    "      \"code\": \"Ikä\",\n",
    "      \"selection\": {\n",
    "        \"filter\": \"agg:1-års åldersgrupp.agg\",\n",
    "        \"values\": [\n",
    "          \"000\",\n",
    "          \"001\",\n",
    "          \"002\",\n",
    "          \"003\",\n",
    "          \"004\",\n",
    "          \"005\",\n",
    "          \"006\",\n",
    "          \"007\",\n",
    "          \"008\",\n",
    "          \"009\",\n",
    "          \"010\",\n",
    "          \"011\",\n",
    "          \"012\",\n",
    "          \"013\",\n",
    "          \"014\",\n",
    "          \"015\",\n",
    "          \"016\",\n",
    "          \"017\",\n",
    "          \"018\",\n",
    "          \"019\",\n",
    "          \"020\",\n",
    "          \"021\",\n",
    "          \"022\",\n",
    "          \"023\",\n",
    "          \"024\",\n",
    "          \"025\",\n",
    "          \"026\",\n",
    "          \"027\",\n",
    "          \"028\",\n",
    "          \"029\",\n",
    "          \"030\",\n",
    "          \"031\",\n",
    "          \"032\",\n",
    "          \"033\",\n",
    "          \"034\",\n",
    "          \"035\",\n",
    "          \"036\",\n",
    "          \"037\",\n",
    "          \"038\",\n",
    "          \"039\",\n",
    "          \"040\",\n",
    "          \"041\",\n",
    "          \"042\",\n",
    "          \"043\",\n",
    "          \"044\",\n",
    "          \"045\",\n",
    "          \"046\",\n",
    "          \"047\",\n",
    "          \"048\",\n",
    "          \"049\",\n",
    "          \"050\",\n",
    "          \"051\",\n",
    "          \"052\",\n",
    "          \"053\",\n",
    "          \"054\",\n",
    "          \"055\",\n",
    "          \"056\",\n",
    "          \"057\",\n",
    "          \"058\",\n",
    "          \"059\",\n",
    "          \"060\",\n",
    "          \"061\",\n",
    "          \"062\",\n",
    "          \"063\",\n",
    "          \"064\",\n",
    "          \"065\",\n",
    "          \"066\",\n",
    "          \"067\",\n",
    "          \"068\",\n",
    "          \"069\",\n",
    "          \"070\",\n",
    "          \"071\",\n",
    "          \"072\",\n",
    "          \"073\",\n",
    "          \"074\",\n",
    "          \"075\",\n",
    "          \"076\",\n",
    "          \"077\",\n",
    "          \"078\",\n",
    "          \"079\",\n",
    "          \"080\",\n",
    "          \"081\",\n",
    "          \"082\",\n",
    "          \"083\",\n",
    "          \"084\",\n",
    "          \"085\",\n",
    "          \"086\",\n",
    "          \"087\",\n",
    "          \"088\",\n",
    "          \"089\",\n",
    "          \"090\",\n",
    "          \"091\",\n",
    "          \"092\",\n",
    "          \"093\",\n",
    "          \"094\",\n",
    "          \"095\",\n",
    "          \"096\",\n",
    "          \"097\",\n",
    "          \"098\",\n",
    "          \"099\",\n",
    "          \"100-\"\n",
    "        ]\n",
    "      }\n",
    "    }\n",
    "  ],\n",
    "  \"response\": {\n",
    "    \"format\": \"json\"\n",
    "  }\n",
    "}\n"
   ]
  },
  {
   "cell_type": "code",
   "execution_count": null,
   "metadata": {},
   "outputs": [],
   "source": [
    "fin_r = requests.post(fin_pop_url,json=fin_pop_query)\n",
    "fin_r"
   ]
  },
  {
   "cell_type": "code",
   "execution_count": null,
   "metadata": {},
   "outputs": [],
   "source": [
    "### check data structure ###\n",
    "fin_r.json()['data'][0]"
   ]
  },
  {
   "cell_type": "code",
   "execution_count": null,
   "metadata": {},
   "outputs": [],
   "source": [
    "def parse_json(json_data,param):\n",
    "\n",
    "    parsed_data = pd.DataFrame.from_dict(json_data)\n",
    "    parsed_data[['year','foo','age']] = parsed_data['key'].to_list()\n",
    "    parsed_data.drop(['key','foo'],axis=1,inplace=True)\n",
    "    parsed_data['age'] = parsed_data['age'].str.lstrip('0').str.rstrip('-')\n",
    "    parsed_data['age'] = parsed_data['age'].replace('',0)\n",
    "    parsed_data['age'] = parsed_data['age'].astype(int)\n",
    "    parsed_data[param] = parsed_data['values'].apply(lambda x : x[0])\n",
    "    parsed_data.drop('values',axis=1,inplace=True)\n",
    "    parsed_data[param] = parsed_data[param].astype(int)\n",
    "    parsed_data.set_index(['year','age'],inplace=True)\n",
    "    return parsed_data"
   ]
  },
  {
   "cell_type": "code",
   "execution_count": null,
   "metadata": {},
   "outputs": [],
   "source": [
    "fin_age_pop = parse_json(fin_r.json()['data'],'pop')\n",
    "fin_age_pop"
   ]
  },
  {
   "cell_type": "code",
   "execution_count": null,
   "metadata": {},
   "outputs": [],
   "source": [
    "### sanity check ###\n",
    "fin_age_pop.groupby('year').sum()"
   ]
  },
  {
   "cell_type": "code",
   "execution_count": null,
   "metadata": {},
   "outputs": [],
   "source": [
    "### fin dead ###\n",
    "\n",
    "fin_dead_url = 'https://pxnet2.stat.fi:443/PXWeb/api/v1/sv/StatFin/vrm/kuol/statfin_kuol_pxt_12ag.px'\n",
    "fin_dead_query = {\n",
    "  \"query\": [\n",
    "    {\n",
    "      \"code\": \"Vuosi\",\n",
    "      \"selection\": {\n",
    "        \"filter\": \"item\",\n",
    "        \"values\": [\n",
    "          \"2015\",\n",
    "          \"2016\",\n",
    "          \"2017\",\n",
    "          \"2018\",\n",
    "          \"2019\",\n",
    "          \"2020\"\n",
    "        ]\n",
    "      }\n",
    "    },\n",
    "    {\n",
    "      \"code\": \"Sukupuoli\",\n",
    "      \"selection\": {\n",
    "        \"filter\": \"item\",\n",
    "        \"values\": [\n",
    "          \"SSS\"\n",
    "        ]\n",
    "      }\n",
    "    },\n",
    "    {\n",
    "      \"code\": \"Ikä\",\n",
    "      \"selection\": {\n",
    "        \"filter\": \"agg:1-års åldersgrupp.agg\",\n",
    "        \"values\": [\n",
    "          \"000\",\n",
    "          \"001\",\n",
    "          \"002\",\n",
    "          \"003\",\n",
    "          \"004\",\n",
    "          \"005\",\n",
    "          \"006\",\n",
    "          \"007\",\n",
    "          \"008\",\n",
    "          \"009\",\n",
    "          \"010\",\n",
    "          \"011\",\n",
    "          \"012\",\n",
    "          \"013\",\n",
    "          \"014\",\n",
    "          \"015\",\n",
    "          \"016\",\n",
    "          \"017\",\n",
    "          \"018\",\n",
    "          \"019\",\n",
    "          \"020\",\n",
    "          \"021\",\n",
    "          \"022\",\n",
    "          \"023\",\n",
    "          \"024\",\n",
    "          \"025\",\n",
    "          \"026\",\n",
    "          \"027\",\n",
    "          \"028\",\n",
    "          \"029\",\n",
    "          \"030\",\n",
    "          \"031\",\n",
    "          \"032\",\n",
    "          \"033\",\n",
    "          \"034\",\n",
    "          \"035\",\n",
    "          \"036\",\n",
    "          \"037\",\n",
    "          \"038\",\n",
    "          \"039\",\n",
    "          \"040\",\n",
    "          \"041\",\n",
    "          \"042\",\n",
    "          \"043\",\n",
    "          \"044\",\n",
    "          \"045\",\n",
    "          \"046\",\n",
    "          \"047\",\n",
    "          \"048\",\n",
    "          \"049\",\n",
    "          \"050\",\n",
    "          \"051\",\n",
    "          \"052\",\n",
    "          \"053\",\n",
    "          \"054\",\n",
    "          \"055\",\n",
    "          \"056\",\n",
    "          \"057\",\n",
    "          \"058\",\n",
    "          \"059\",\n",
    "          \"060\",\n",
    "          \"061\",\n",
    "          \"062\",\n",
    "          \"063\",\n",
    "          \"064\",\n",
    "          \"065\",\n",
    "          \"066\",\n",
    "          \"067\",\n",
    "          \"068\",\n",
    "          \"069\",\n",
    "          \"070\",\n",
    "          \"071\",\n",
    "          \"072\",\n",
    "          \"073\",\n",
    "          \"074\",\n",
    "          \"075\",\n",
    "          \"076\",\n",
    "          \"077\",\n",
    "          \"078\",\n",
    "          \"079\",\n",
    "          \"080\",\n",
    "          \"081\",\n",
    "          \"082\",\n",
    "          \"083\",\n",
    "          \"084\",\n",
    "          \"085\",\n",
    "          \"086\",\n",
    "          \"087\",\n",
    "          \"088\",\n",
    "          \"089\",\n",
    "          \"090\",\n",
    "          \"091\",\n",
    "          \"092\",\n",
    "          \"093\",\n",
    "          \"094\",\n",
    "          \"095\",\n",
    "          \"096\",\n",
    "          \"097\",\n",
    "          \"098\",\n",
    "          \"099\",\n",
    "          \"100-\"\n",
    "        ]\n",
    "      }\n",
    "    }\n",
    "  ],\n",
    "  \"response\": {\n",
    "    \"format\": \"json\"\n",
    "  }}"
   ]
  },
  {
   "cell_type": "code",
   "execution_count": null,
   "metadata": {},
   "outputs": [],
   "source": [
    "fin_r_dead = requests.post(fin_dead_url,json=fin_dead_query)\n",
    "fin_r_dead"
   ]
  },
  {
   "cell_type": "code",
   "execution_count": null,
   "metadata": {},
   "outputs": [],
   "source": [
    "fin_age_dead = parse_json(fin_r_dead.json()['data'],'dead')\n",
    "fin_age_dead"
   ]
  },
  {
   "cell_type": "code",
   "execution_count": null,
   "metadata": {},
   "outputs": [],
   "source": [
    "### sanity check ###\n",
    "fin_age_dead.groupby('year').sum()"
   ]
  },
  {
   "cell_type": "code",
   "execution_count": null,
   "metadata": {},
   "outputs": [],
   "source": [
    "fin_age_mortality = fin_age_dead['dead'] / fin_age_pop['pop']\n",
    "fin_age_mortality"
   ]
  },
  {
   "cell_type": "code",
   "execution_count": null,
   "metadata": {},
   "outputs": [],
   "source": [
    "fin_age_baseline = fin_age_mortality.loc['2015' : '2018']\n",
    "fin_age_baseline = fin_age_baseline.unstack().mean()\n",
    "fin_age_baseline"
   ]
  },
  {
   "cell_type": "code",
   "execution_count": null,
   "metadata": {},
   "outputs": [],
   "source": [
    "fin_age_expectation = fin_age_pop.unstack().droplevel(level=0,axis=1) * fin_age_baseline\n",
    "fin_age_expectation"
   ]
  },
  {
   "cell_type": "code",
   "execution_count": null,
   "metadata": {},
   "outputs": [],
   "source": [
    "fin_age_expectation.sum(axis=1)"
   ]
  },
  {
   "cell_type": "code",
   "execution_count": null,
   "metadata": {},
   "outputs": [],
   "source": [
    "fin_age_excess = fin_age_dead.unstack().droplevel(level=0,axis=1) - fin_age_expectation\n",
    "fin_age_excess"
   ]
  },
  {
   "cell_type": "code",
   "execution_count": null,
   "metadata": {},
   "outputs": [],
   "source": [
    "fin_age_excess.sum(axis=1)"
   ]
  },
  {
   "cell_type": "code",
   "execution_count": null,
   "metadata": {},
   "outputs": [],
   "source": [
    "### SWE DATA ###\n",
    "\n",
    "dead_url = 'http://api.scb.se/OV0104/v1/doris/sv/ssd/START/BE/BE0101/BE0101I/DodaHandelseK'\n",
    "dead_query = {\n",
    "  \"query\": [\n",
    "    {\n",
    "      \"code\": \"Region\",\n",
    "      \"selection\": {\n",
    "        \"filter\": \"vs:RegionRiket99\",\n",
    "        \"values\": [\n",
    "          \"00\"\n",
    "        ]\n",
    "      }\n",
    "    },\n",
    "    {\n",
    "      \"code\": \"Alder\",\n",
    "      \"selection\": {\n",
    "        \"filter\": \"vs:Ålder1årA\",\n",
    "        \"values\": [\n",
    "          \"0\",\n",
    "          \"1\",\n",
    "          \"2\",\n",
    "          \"3\",\n",
    "          \"4\",\n",
    "          \"5\",\n",
    "          \"6\",\n",
    "          \"7\",\n",
    "          \"8\",\n",
    "          \"9\",\n",
    "          \"10\",\n",
    "          \"11\",\n",
    "          \"12\",\n",
    "          \"13\",\n",
    "          \"14\",\n",
    "          \"15\",\n",
    "          \"16\",\n",
    "          \"17\",\n",
    "          \"18\",\n",
    "          \"19\",\n",
    "          \"20\",\n",
    "          \"21\",\n",
    "          \"22\",\n",
    "          \"23\",\n",
    "          \"24\",\n",
    "          \"25\",\n",
    "          \"26\",\n",
    "          \"27\",\n",
    "          \"28\",\n",
    "          \"29\",\n",
    "          \"30\",\n",
    "          \"31\",\n",
    "          \"32\",\n",
    "          \"33\",\n",
    "          \"34\",\n",
    "          \"35\",\n",
    "          \"36\",\n",
    "          \"37\",\n",
    "          \"38\",\n",
    "          \"39\",\n",
    "          \"40\",\n",
    "          \"41\",\n",
    "          \"42\",\n",
    "          \"43\",\n",
    "          \"44\",\n",
    "          \"45\",\n",
    "          \"46\",\n",
    "          \"47\",\n",
    "          \"48\",\n",
    "          \"49\",\n",
    "          \"50\",\n",
    "          \"51\",\n",
    "          \"52\",\n",
    "          \"53\",\n",
    "          \"54\",\n",
    "          \"55\",\n",
    "          \"56\",\n",
    "          \"57\",\n",
    "          \"58\",\n",
    "          \"59\",\n",
    "          \"60\",\n",
    "          \"61\",\n",
    "          \"62\",\n",
    "          \"63\",\n",
    "          \"64\",\n",
    "          \"65\",\n",
    "          \"66\",\n",
    "          \"67\",\n",
    "          \"68\",\n",
    "          \"69\",\n",
    "          \"70\",\n",
    "          \"71\",\n",
    "          \"72\",\n",
    "          \"73\",\n",
    "          \"74\",\n",
    "          \"75\",\n",
    "          \"76\",\n",
    "          \"77\",\n",
    "          \"78\",\n",
    "          \"79\",\n",
    "          \"80\",\n",
    "          \"81\",\n",
    "          \"82\",\n",
    "          \"83\",\n",
    "          \"84\",\n",
    "          \"85\",\n",
    "          \"86\",\n",
    "          \"87\",\n",
    "          \"88\",\n",
    "          \"89\",\n",
    "          \"90\",\n",
    "          \"91\",\n",
    "          \"92\",\n",
    "          \"93\",\n",
    "          \"94\",\n",
    "          \"95\",\n",
    "          \"96\",\n",
    "          \"97\",\n",
    "          \"98\",\n",
    "          \"99\",\n",
    "          \"100+\"\n",
    "        ]\n",
    "      }\n",
    "    },\n",
    "    {\n",
    "      \"code\": \"Kon\",\n",
    "      \"selection\": {\n",
    "        \"filter\": \"item\",\n",
    "        \"values\": [\n",
    "          \"1\",\n",
    "          \"2\"\n",
    "        ]\n",
    "      }\n",
    "    }\n",
    "  ],\n",
    "  \"response\": {\n",
    "    \"format\": \"json\"\n",
    "  }\n",
    "}\n",
    "\n",
    "pop_url = 'http://api.scb.se/OV0104/v1/doris/sv/ssd/START/BE/BE0101/BE0101A/FolkmangdNov'\n",
    "pop_query = {\n",
    "  \"query\": [\n",
    "    {\n",
    "      \"code\": \"Region\",\n",
    "      \"selection\": {\n",
    "        \"filter\": \"vs:RegionRiket99\",\n",
    "        \"values\": [\n",
    "          \"00\"\n",
    "        ]\n",
    "      }\n",
    "    },\n",
    "    {\n",
    "      \"code\": \"Alder\",\n",
    "      \"selection\": {\n",
    "        \"filter\": \"vs:Ålder1årA\",\n",
    "        \"values\": [\n",
    "          \"0\",\n",
    "          \"1\",\n",
    "          \"2\",\n",
    "          \"3\",\n",
    "          \"4\",\n",
    "          \"5\",\n",
    "          \"6\",\n",
    "          \"7\",\n",
    "          \"8\",\n",
    "          \"9\",\n",
    "          \"10\",\n",
    "          \"11\",\n",
    "          \"12\",\n",
    "          \"13\",\n",
    "          \"14\",\n",
    "          \"15\",\n",
    "          \"16\",\n",
    "          \"17\",\n",
    "          \"18\",\n",
    "          \"19\",\n",
    "          \"20\",\n",
    "          \"21\",\n",
    "          \"22\",\n",
    "          \"23\",\n",
    "          \"24\",\n",
    "          \"25\",\n",
    "          \"26\",\n",
    "          \"27\",\n",
    "          \"28\",\n",
    "          \"29\",\n",
    "          \"30\",\n",
    "          \"31\",\n",
    "          \"32\",\n",
    "          \"33\",\n",
    "          \"34\",\n",
    "          \"35\",\n",
    "          \"36\",\n",
    "          \"37\",\n",
    "          \"38\",\n",
    "          \"39\",\n",
    "          \"40\",\n",
    "          \"41\",\n",
    "          \"42\",\n",
    "          \"43\",\n",
    "          \"44\",\n",
    "          \"45\",\n",
    "          \"46\",\n",
    "          \"47\",\n",
    "          \"48\",\n",
    "          \"49\",\n",
    "          \"50\",\n",
    "          \"51\",\n",
    "          \"52\",\n",
    "          \"53\",\n",
    "          \"54\",\n",
    "          \"55\",\n",
    "          \"56\",\n",
    "          \"57\",\n",
    "          \"58\",\n",
    "          \"59\",\n",
    "          \"60\",\n",
    "          \"61\",\n",
    "          \"62\",\n",
    "          \"63\",\n",
    "          \"64\",\n",
    "          \"65\",\n",
    "          \"66\",\n",
    "          \"67\",\n",
    "          \"68\",\n",
    "          \"69\",\n",
    "          \"70\",\n",
    "          \"71\",\n",
    "          \"72\",\n",
    "          \"73\",\n",
    "          \"74\",\n",
    "          \"75\",\n",
    "          \"76\",\n",
    "          \"77\",\n",
    "          \"78\",\n",
    "          \"79\",\n",
    "          \"80\",\n",
    "          \"81\",\n",
    "          \"82\",\n",
    "          \"83\",\n",
    "          \"84\",\n",
    "          \"85\",\n",
    "          \"86\",\n",
    "          \"87\",\n",
    "          \"88\",\n",
    "          \"89\",\n",
    "          \"90\",\n",
    "          \"91\",\n",
    "          \"92\",\n",
    "          \"93\",\n",
    "          \"94\",\n",
    "          \"95\",\n",
    "          \"96\",\n",
    "          \"97\",\n",
    "          \"98\",\n",
    "          \"99\",\n",
    "          \"100+\"\n",
    "        ]\n",
    "      }\n",
    "    },\n",
    "    {\n",
    "      \"code\": \"Kon\",\n",
    "      \"selection\": {\n",
    "        \"filter\": \"item\",\n",
    "        \"values\": [\n",
    "          \"1\",\n",
    "          \"2\"\n",
    "        ]\n",
    "      }\n",
    "    }\n",
    "  ],\n",
    "  \"response\": {\n",
    "    \"format\": \"json\"\n",
    "  }\n",
    "}\n",
    "\n",
    "def get_data(url,query):\n",
    "    r = requests.post(url,json=query)\n",
    "    \n",
    "    if r.status_code != 200 :\n",
    "        print (r.status_code)\n",
    "    \n",
    "    data = pd.DataFrame.from_dict(r.json()['data'])\n",
    "    data[['area','age','gender','year']] = data['key'].to_list()\n",
    "    data['count'] = data['values'].apply(lambda x : x[0])\n",
    "    data['age'] = data['age'].apply(lambda x : x.replace('+','')).astype(int)\n",
    "    data.drop(['values','key','area'],axis=1,inplace=True)\n",
    "    data.set_index('year',inplace=True)\n",
    "    data['count'] = data['count'].astype(int)\n",
    "    data = data.groupby(['year','age']).sum()\n",
    "    \n",
    "    return data\n",
    "    \n",
    "dead_df = get_data(dead_url,dead_query)\n",
    "dead_df.rename(columns={'count' : 'dead'},inplace=True)\n",
    "\n",
    "pop_df = get_data(pop_url,pop_query)\n",
    "pop_df.rename(columns={'count' : 'pop'},inplace=True)"
   ]
  },
  {
   "cell_type": "code",
   "execution_count": null,
   "metadata": {},
   "outputs": [],
   "source": [
    "def get_swe_gender_data(url,query):\n",
    "    r = requests.post(url,json=query)\n",
    "    \n",
    "    if r.status_code != 200 :\n",
    "        print (r.status_code)\n",
    "    \n",
    "    data = pd.DataFrame.from_dict(r.json()['data'])\n",
    "    data[['area','age','gender','year']] = data['key'].to_list()\n",
    "    data['count'] = data['values'].apply(lambda x : x[0])\n",
    "    data['age'] = data['age'].apply(lambda x : x.replace('+','')).astype(int)\n",
    "    data.drop(['values','key','area'],axis=1,inplace=True)\n",
    "    data.set_index('year',inplace=True)\n",
    "    data['count'] = data['count'].astype(int)\n",
    "    data = data.groupby(['year','age','gender']).sum()\n",
    "    \n",
    "    return data\n",
    "    \n",
    "swe_gender_pop = get_swe_gender_data(pop_url,pop_query)\n",
    "swe_gender_dead = get_swe_gender_data(dead_url,dead_query)\n",
    "\n",
    "swe_gender_mort = (swe_gender_dead / swe_gender_pop).dropna()\n",
    "\n",
    "idx = pd.IndexSlice\n",
    "swe_male_mort = swe_gender_mort.loc[idx[:,:,'1'],:]\n",
    "swe_female_mort = swe_gender_mort.loc[idx[:,:,'2'],:]\n",
    "swe_male_mort = swe_male_mort.droplevel(2)\n",
    "swe_female_mort = swe_female_mort.droplevel(2)\n",
    "\n",
    "swe_male_mort"
   ]
  },
  {
   "cell_type": "code",
   "execution_count": null,
   "metadata": {},
   "outputs": [],
   "source": [
    "ax=swe_male_mort.loc['2020'].plot()\n",
    "swe_female_mort.loc['2020'].plot(ax=ax)\n",
    "\n",
    "print (swe_male_mort.loc['2020',80])\n",
    "print (swe_female_mort.loc['2020',80])"
   ]
  },
  {
   "cell_type": "code",
   "execution_count": null,
   "metadata": {},
   "outputs": [],
   "source": [
    "swe_gender_abs_diff = swe_male_mort - swe_female_mort\n",
    "print (swe_gender_abs_diff.loc['2020'].idxmax())\n",
    "print (swe_gender_abs_diff.loc['2020'].max())"
   ]
  },
  {
   "cell_type": "code",
   "execution_count": null,
   "metadata": {},
   "outputs": [],
   "source": [
    "swe_gender_rel_diff = swe_male_mort / swe_female_mort\n",
    "print (swe_gender_rel_diff.head())\n",
    "swe_female_mort.loc[swe_female_mort['count'] == 0]"
   ]
  },
  {
   "cell_type": "code",
   "execution_count": null,
   "metadata": {},
   "outputs": [],
   "source": [
    "baseline_gender_rel_diff = swe_gender_rel_diff.unstack().droplevel(0,axis=1).loc['2015' : '2018'].mean()\n",
    "\n",
    "title = 'SWEDEN relative gender mortality diff per age group, 2020\\nDataSource : scb.se'\n",
    "ax = baseline_gender_rel_diff.plot(figsize=(18,12),ls='dashed',color='orange',\n",
    "                                   label='2015-2018 avg rel diff',title=title)\n",
    "swe_gender_rel_diff.loc['2020'].plot(ax=ax,color='red')\n",
    "baseline_gender_rel_diff.sort_values().tail(40)\n",
    "ax.axhline(1,ls='dashed',color='k')\n",
    "plt.legend(['2015-2018 avg','2020 rel diff'],loc='upper left')\n",
    "plt.ylabel('Rel. mortality diff')\n",
    "plt.xlabel('age group')\n",
    "plt.savefig('FIN_SWE_rel_gender_diff.jpg',format='jpg')"
   ]
  },
  {
   "cell_type": "code",
   "execution_count": null,
   "metadata": {},
   "outputs": [],
   "source": [
    "title = 'SWEDEN absolute gender mortality diff per age group, 2020\\nDataSource : scb.se'\n",
    "\n",
    "swe_gender_abs_diff.loc['2020'].plot(kind='bar',figsize=(18,12),color='red',title=title)\n",
    "plt.ylabel('absolute mortality diff')\n",
    "plt.savefig('FIN_SWE_abs_gender_diff.jpg',format='jpg')"
   ]
  },
  {
   "cell_type": "code",
   "execution_count": null,
   "metadata": {},
   "outputs": [],
   "source": [
    "swe_age_mortality = (dead_df['dead'] / pop_df['pop']).dropna()\n",
    "swe_age_mortality\n"
   ]
  },
  {
   "cell_type": "code",
   "execution_count": null,
   "metadata": {},
   "outputs": [],
   "source": [
    "### cmp mortality FIN vs SWE 2020 ###\n",
    "fin_swe_age_mort_rel = fin_age_mortality.loc['2020'] / swe_age_mortality.loc['2020']\n",
    "fin_swe_age_mort_rel"
   ]
  },
  {
   "cell_type": "code",
   "execution_count": null,
   "metadata": {},
   "outputs": [],
   "source": [
    "title = 'Avg. 2015-2019 Rel. Diff mortality, FIN vs SWE per age group (1 year bins)\\nDataSource : stat.fi, scb.se'\n",
    "\n",
    "fin_swe_age_mort_rel_all = (fin_age_mortality / swe_age_mortality).dropna()\n",
    "fin_swe_age_mort_rel_all.unstack().T\n",
    "ax = fin_swe_age_mort_rel_all.unstack().T.loc[:,'2015' : '2019'].mean(axis=1).plot(figsize=(18,12), color='red',title=title)\n",
    "ax.axhline(1,ls='dashed',color='k')\n",
    "ax.set_ylabel('Rel. Mortality Diff FIN vs SWE')\n",
    "plt.savefig('FIN_SWE_rel_avg_mort.jpg',format='jpg')"
   ]
  },
  {
   "cell_type": "code",
   "execution_count": null,
   "metadata": {},
   "outputs": [],
   "source": [
    "title = 'Rel. Diff mortality 2020 FIN vs SWE per age group (1 year bins)\\nDataSource : stat.fi, scb.se'\n",
    "ax = fin_swe_age_mort_rel.plot(figsize=(18,12),style='ro--',title=title)\n",
    "ax.axhline(1,ls='dashed',color='k')\n",
    "ax.set_ylabel('Rel. Mortality Diff FIN vs SWE')\n",
    "plt.savefig('FIN_SWE_2020_rel_diff.jpg',format='jpg')"
   ]
  },
  {
   "cell_type": "code",
   "execution_count": null,
   "metadata": {},
   "outputs": [],
   "source": [
    "pop_df\n"
   ]
  },
  {
   "cell_type": "code",
   "execution_count": null,
   "metadata": {},
   "outputs": [],
   "source": [
    "### for comparing FIN vs. SWE, define standard population based on FIN population 2019 ###\n",
    "#std_pop = pop_df.loc['2019'] # SWE std pop #\n",
    "std_pop = fin_age_pop.loc['2019']\n",
    "std_pop"
   ]
  },
  {
   "cell_type": "code",
   "execution_count": null,
   "metadata": {},
   "outputs": [],
   "source": [
    "fin_std_dead = fin_age_mortality * std_pop['pop']\n",
    "swe_std_dead = swe_age_mortality * std_pop['pop']\n",
    "swe_std_dead = swe_std_dead.loc['2015' :]\n",
    "\n",
    "print (fin_std_dead)\n",
    "print (swe_std_dead)"
   ]
  },
  {
   "cell_type": "code",
   "execution_count": null,
   "metadata": {},
   "outputs": [],
   "source": [
    "fin_swe_std_dead_age = pd.concat([fin_std_dead,swe_std_dead],axis=1)\n",
    "fin_swe_std_dead_age.columns = ['FIN','SWE']\n",
    "fin_swe_std_dead_age"
   ]
  },
  {
   "cell_type": "code",
   "execution_count": null,
   "metadata": {},
   "outputs": [],
   "source": [
    "fin_swe_std_dead_2015_2020 = fin_swe_std_dead_age.groupby('year').sum()\n",
    "\n",
    "fin_swe_std_dead_2015_2020 = fin_swe_std_dead_2015_2020 / std_pop['pop'].sum()\n",
    "\n",
    "fin_swe_std_dead_2015_2020"
   ]
  },
  {
   "cell_type": "code",
   "execution_count": null,
   "metadata": {},
   "outputs": [],
   "source": [
    "age_std_baseline = fin_swe_std_dead_2015_2020.loc['2015' : '2018'].mean()\n",
    "age_std_baseline"
   ]
  },
  {
   "cell_type": "code",
   "execution_count": null,
   "metadata": {},
   "outputs": [],
   "source": [
    "title = 'Age Adjusted All Cause Mortality 2015 - 2020 : comparison FINLAND vs. SWEDEN\\nstdPop : FIN 2019, baseline : 2015-2018\\nDataSource : stat.fi,scb.se'\n",
    "ax = fin_swe_std_dead_2015_2020.plot(kind='bar',figsize=(18,12),color=['blue','yellow'],title=title)\n",
    "\n",
    "ax.axhline(age_std_baseline['FIN'],color='navy',ls='dashed',label='FIN baseline')\n",
    "ax.axhline(age_std_baseline['SWE'],color='orange',ls='dashed',label='SWE baseline')\n",
    "\n",
    "ax.legend(loc='lower center')\n",
    "ax.set_ylabel('mortality')\n",
    "plt.savefig('FIN_SWE_age_adj_mortality.jpg',format='jpg')"
   ]
  },
  {
   "cell_type": "code",
   "execution_count": null,
   "metadata": {},
   "outputs": [],
   "source": [
    "swe_age_mort_baseline = swe_age_mortality.loc['2015' : '2018'].unstack().mean()\n",
    "swe_age_mort_baseline"
   ]
  },
  {
   "cell_type": "code",
   "execution_count": null,
   "metadata": {},
   "outputs": [],
   "source": [
    "swe_expectation = swe_age_mort_baseline * pop_df['pop']\n",
    "swe_expectation"
   ]
  },
  {
   "cell_type": "code",
   "execution_count": null,
   "metadata": {},
   "outputs": [],
   "source": [
    "swe_yearly_expectation = (swe_expectation.groupby('year').sum()).loc['2015' :]\n",
    "swe_yearly_expectation"
   ]
  },
  {
   "cell_type": "code",
   "execution_count": null,
   "metadata": {},
   "outputs": [],
   "source": [
    "swe_actuals = (dead_df.groupby('year').sum()).loc['2015' :]\n",
    "swe_actuals"
   ]
  },
  {
   "cell_type": "code",
   "execution_count": null,
   "metadata": {},
   "outputs": [],
   "source": [
    "swe_age_excess = swe_actuals['dead'] - swe_yearly_expectation\n",
    "swe_age_excess"
   ]
  },
  {
   "cell_type": "code",
   "execution_count": null,
   "metadata": {},
   "outputs": [],
   "source": [
    "fin_swe_yearly_excess = pd.concat([fin_age_excess.sum(axis=1),swe_age_excess],axis=1)\n",
    "fin_swe_yearly_excess.columns=['FIN','SWE']\n",
    "fin_swe_yearly_excess"
   ]
  },
  {
   "cell_type": "code",
   "execution_count": null,
   "metadata": {},
   "outputs": [],
   "source": [
    "title = 'Excess Deaths 2015-2020 FINLAND & SWEDEN\\nbaseline : 2015 - 2018, 1 year age bins\\nDataSource : stat.fi, scb.se'\n",
    "ax = fin_swe_yearly_excess.plot(kind='bar',figsize=(18,12),color=['blue','yellow'],title=title)\n",
    "ax.axhline(0,ls='dashed',color='k')\n",
    "ax.legend(loc='upper center')\n",
    "ax.set_ylabel('Excess Deaths')\n",
    "plt.savefig('FIN_SWE_excess_deaths.jpg',format='jpg')"
   ]
  },
  {
   "cell_type": "code",
   "execution_count": null,
   "metadata": {},
   "outputs": [],
   "source": [
    "swe_excess_pct = swe_actuals['dead'] / swe_yearly_expectation\n",
    "swe_excess_pct"
   ]
  },
  {
   "cell_type": "code",
   "execution_count": null,
   "metadata": {},
   "outputs": [],
   "source": [
    "fin_excess_pct = fin_age_dead.unstack().droplevel(level=0,axis=1).sum(axis=1) / fin_age_expectation.sum(axis=1)\n",
    "fin_excess_pct"
   ]
  },
  {
   "cell_type": "code",
   "execution_count": null,
   "metadata": {},
   "outputs": [],
   "source": [
    "fin_swe_excess_pct = pd.concat([fin_excess_pct,swe_excess_pct],axis=1)\n",
    "fin_swe_excess_pct.columns = ['FIN','SWE']\n",
    "fin_swe_excess_pct"
   ]
  },
  {
   "cell_type": "code",
   "execution_count": null,
   "metadata": {},
   "outputs": [],
   "source": [
    "ax = fin_swe_excess_pct.plot(kind='bar',figsize=(18,12),color=['blue','yellow'])\n",
    "ax.axhline(1,ls='dashed',color='k')"
   ]
  },
  {
   "cell_type": "code",
   "execution_count": null,
   "metadata": {},
   "outputs": [],
   "source": [
    "fin_age_mortality.loc['2020'][40:50]"
   ]
  },
  {
   "cell_type": "code",
   "execution_count": null,
   "metadata": {},
   "outputs": [],
   "source": [
    "swe_age_mortality.loc['2020'][40:50]"
   ]
  },
  {
   "cell_type": "code",
   "execution_count": null,
   "metadata": {
    "scrolled": true
   },
   "outputs": [],
   "source": [
    "### DEN ###\n",
    "# Danmarks Statistik https://www.dst.dk/da/ \n",
    "\n",
    "def den_parse(file):\n",
    "    \n",
    "    den_file = pd.ExcelFile(file)\n",
    "    den_age_df = den_file.parse(den_file.sheet_names[0])\n",
    "    den_age_df.rename(columns={'Unnamed: 0' : 'Gender','Unnamed: 1' : 'Age'},inplace=True)\n",
    "\n",
    "    den_age_df['Age'] = den_age_df['Age'].str.replace(' år.*','',regex=True).astype(int)\n",
    "    den_age_df = den_age_df.groupby('Age').sum().T\n",
    "    den_age_df.index.name='year'\n",
    "    return den_age_df\n",
    "\n",
    "den_age_dead = den_parse('DEN_dead.xlsx')\n",
    "den_age_pop = den_parse('DEN_pop.xlsx')\n",
    "print (den_age_dead.head())\n",
    "den_age_pop"
   ]
  },
  {
   "cell_type": "code",
   "execution_count": null,
   "metadata": {},
   "outputs": [],
   "source": [
    "den_age_pop.sum(axis=1)"
   ]
  },
  {
   "cell_type": "code",
   "execution_count": null,
   "metadata": {},
   "outputs": [],
   "source": [
    "den_age_dead.sum(axis=1)"
   ]
  },
  {
   "cell_type": "code",
   "execution_count": null,
   "metadata": {},
   "outputs": [],
   "source": [
    "den_pop_99_plus = den_age_pop.loc[:,99:].sum(axis=1)\n",
    "den_pop_99_plus"
   ]
  },
  {
   "cell_type": "code",
   "execution_count": null,
   "metadata": {},
   "outputs": [],
   "source": [
    "den_age_pop = pd.concat([den_age_pop.loc[:,:98],den_pop_99_plus],axis=1,names=99)\n",
    "den_age_pop.columns = range(100)\n",
    "den_age_pop"
   ]
  },
  {
   "cell_type": "code",
   "execution_count": null,
   "metadata": {},
   "outputs": [],
   "source": [
    "den_age_pop.sum(axis=1)"
   ]
  },
  {
   "cell_type": "code",
   "execution_count": null,
   "metadata": {},
   "outputs": [],
   "source": [
    "den_age_mort = den_age_dead / den_age_pop\n",
    "den_age_mort"
   ]
  },
  {
   "cell_type": "code",
   "execution_count": null,
   "metadata": {},
   "outputs": [],
   "source": [
    "ax = fin_age_mortality.unstack().T.plot(color='blue',subplots=True,figsize=(18,12),ls='dashed')\n",
    "swe_age_mortality.unstack().loc['2015':].T.plot(ax=ax,color='yellow',subplots=True,ls='dashed')\n",
    "den_age_mort.T.plot(subplots=True,ax=ax,color='red',ls='dashed')\n",
    "\n",
    "years = range(2015,2021)\n",
    "countries = ['_FIN','_SWE','_DEN']\n",
    "\n",
    "for i, a in enumerate(ax):\n",
    "    a.legend( [ str(years[i]) + c for c in countries ])\n",
    "    "
   ]
  },
  {
   "cell_type": "code",
   "execution_count": null,
   "metadata": {},
   "outputs": [],
   "source": [
    "den_std_mort = (den_age_mort * std_pop['pop']).sum(axis=1)\n",
    "den_std_mort = den_std_mort / std_pop['pop'].sum()\n",
    "den_std_mort"
   ]
  },
  {
   "cell_type": "code",
   "execution_count": null,
   "metadata": {},
   "outputs": [],
   "source": [
    "### NOR ###\n",
    "# Statistisk Centralbyrå https://www.ssb.no/ #\n",
    "nor_pop_url = 'https://data.ssb.no/api/v0/no/table/07459/'\n",
    "nor_pop_query = {\n",
    "  \"query\": [\n",
    "    {\n",
    "      \"code\": \"Region\",\n",
    "      \"selection\": {\n",
    "        \"filter\": \"vs:Landet\",\n",
    "        \"values\": [\n",
    "          \"0\"\n",
    "        ]\n",
    "      }\n",
    "    },\n",
    "    {\n",
    "      \"code\": \"Kjonn\",\n",
    "      \"selection\": {\n",
    "        \"filter\": \"item\",\n",
    "        \"values\": [\n",
    "          \"1\",\n",
    "          \"2\"\n",
    "        ]\n",
    "      }\n",
    "    },\n",
    "    {\n",
    "      \"code\": \"Alder\",\n",
    "      \"selection\": {\n",
    "        \"filter\": \"vs:AlleAldre00B\",\n",
    "        \"values\": [\n",
    "          \"000\",\n",
    "          \"001\",\n",
    "          \"002\",\n",
    "          \"003\",\n",
    "          \"004\",\n",
    "          \"005\",\n",
    "          \"006\",\n",
    "          \"007\",\n",
    "          \"008\",\n",
    "          \"009\",\n",
    "          \"010\",\n",
    "          \"011\",\n",
    "          \"012\",\n",
    "          \"013\",\n",
    "          \"014\",\n",
    "          \"015\",\n",
    "          \"016\",\n",
    "          \"017\",\n",
    "          \"018\",\n",
    "          \"019\",\n",
    "          \"020\",\n",
    "          \"021\",\n",
    "          \"022\",\n",
    "          \"023\",\n",
    "          \"024\",\n",
    "          \"025\",\n",
    "          \"026\",\n",
    "          \"027\",\n",
    "          \"028\",\n",
    "          \"029\",\n",
    "          \"030\",\n",
    "          \"031\",\n",
    "          \"032\",\n",
    "          \"033\",\n",
    "          \"034\",\n",
    "          \"035\",\n",
    "          \"036\",\n",
    "          \"037\",\n",
    "          \"038\",\n",
    "          \"039\",\n",
    "          \"040\",\n",
    "          \"041\",\n",
    "          \"042\",\n",
    "          \"043\",\n",
    "          \"044\",\n",
    "          \"045\",\n",
    "          \"046\",\n",
    "          \"047\",\n",
    "          \"048\",\n",
    "          \"049\",\n",
    "          \"050\",\n",
    "          \"051\",\n",
    "          \"052\",\n",
    "          \"053\",\n",
    "          \"054\",\n",
    "          \"055\",\n",
    "          \"056\",\n",
    "          \"057\",\n",
    "          \"058\",\n",
    "          \"059\",\n",
    "          \"060\",\n",
    "          \"061\",\n",
    "          \"062\",\n",
    "          \"063\",\n",
    "          \"064\",\n",
    "          \"065\",\n",
    "          \"066\",\n",
    "          \"067\",\n",
    "          \"068\",\n",
    "          \"069\",\n",
    "          \"070\",\n",
    "          \"071\",\n",
    "          \"072\",\n",
    "          \"073\",\n",
    "          \"074\",\n",
    "          \"075\",\n",
    "          \"076\",\n",
    "          \"077\",\n",
    "          \"078\",\n",
    "          \"079\",\n",
    "          \"080\",\n",
    "          \"081\",\n",
    "          \"082\",\n",
    "          \"083\",\n",
    "          \"084\",\n",
    "          \"085\",\n",
    "          \"086\",\n",
    "          \"087\",\n",
    "          \"088\",\n",
    "          \"089\",\n",
    "          \"090\",\n",
    "          \"091\",\n",
    "          \"092\",\n",
    "          \"093\",\n",
    "          \"094\",\n",
    "          \"095\",\n",
    "          \"096\",\n",
    "          \"097\",\n",
    "          \"098\",\n",
    "          \"099\",\n",
    "          \"100\",\n",
    "          \"101\",\n",
    "          \"102\",\n",
    "          \"103\",\n",
    "          \"104\",\n",
    "          \"105+\"\n",
    "        ]\n",
    "      }\n",
    "    },\n",
    "    {\n",
    "      \"code\": \"Tid\",\n",
    "      \"selection\": {\n",
    "        \"filter\": \"item\",\n",
    "        \"values\": [\n",
    "          \"2015\",\n",
    "          \"2016\",\n",
    "          \"2017\",\n",
    "          \"2018\",\n",
    "          \"2019\",\n",
    "          \"2020\"\n",
    "        ]\n",
    "      }\n",
    "    }\n",
    "  ],\n",
    "  \"response\": {\n",
    "    \"format\": \"json\"\n",
    "  }\n",
    "}"
   ]
  },
  {
   "cell_type": "code",
   "execution_count": null,
   "metadata": {},
   "outputs": [],
   "source": [
    "r_pop_nor = requests.post(nor_pop_url,json=nor_pop_query)\n",
    "r_pop_nor.status_code"
   ]
  },
  {
   "cell_type": "code",
   "execution_count": null,
   "metadata": {},
   "outputs": [],
   "source": [
    "# https://www.howtosolutions.net/2019/04/python-fixing-unexpected-utf-8-bom-error-when-loading-json-data/ #\n",
    "r_pop_nor.encoding='utf-8-sig'\n",
    "\n",
    "r_pop_nor.json()['data'][0]"
   ]
  },
  {
   "cell_type": "code",
   "execution_count": null,
   "metadata": {},
   "outputs": [],
   "source": [
    "# population as of Jan 1 2020 #\n",
    "nor_age_pop_data = r_pop_nor.json()['data']\n",
    "\n",
    "nor_age_pop = pd.DataFrame.from_dict(nor_age_pop_data)\n",
    "nor_age_pop[['foo','gender','age','year']] = nor_age_pop['key'].to_list()\n",
    "nor_age_pop.drop(['key','foo'],axis=1,inplace=True)\n",
    "nor_age_pop['pop'] = nor_age_pop['values'].apply(lambda x : x[0])\n",
    "nor_age_pop.drop('values',axis=1,inplace=True)\n",
    "nor_age_pop['age'] = nor_age_pop['age'].replace('^00','',regex=True).str.rstrip('+').astype(int)\n",
    "\n",
    "nor_age_pop['pop'] = nor_age_pop['pop'].astype(int)\n",
    "nor_age_pop = nor_age_pop.groupby(['year','age']).sum()\n",
    "nor_age_pop.groupby('year').sum()\n"
   ]
  },
  {
   "cell_type": "code",
   "execution_count": null,
   "metadata": {},
   "outputs": [],
   "source": []
  },
  {
   "cell_type": "code",
   "execution_count": null,
   "metadata": {},
   "outputs": [],
   "source": [
    "### NOR deaths ###\n",
    "nor_dead_url = 'https://data.ssb.no/api/v0/no/table/10325/'\n",
    "nor_dead_query = {\n",
    "  \"query\": [\n",
    "    {\n",
    "      \"code\": \"Kjonn\",\n",
    "      \"selection\": {\n",
    "        \"filter\": \"item\",\n",
    "        \"values\": [\n",
    "          \"0\"\n",
    "        ]\n",
    "      }\n",
    "    },\n",
    "    {\n",
    "      \"code\": \"Alder\",\n",
    "      \"selection\": {\n",
    "        \"filter\": \"vs:AlleAldre00B\",\n",
    "        \"values\": [\n",
    "          \"000\",\n",
    "          \"001\",\n",
    "          \"002\",\n",
    "          \"003\",\n",
    "          \"004\",\n",
    "          \"005\",\n",
    "          \"006\",\n",
    "          \"007\",\n",
    "          \"008\",\n",
    "          \"009\",\n",
    "          \"010\",\n",
    "          \"011\",\n",
    "          \"012\",\n",
    "          \"013\",\n",
    "          \"014\",\n",
    "          \"015\",\n",
    "          \"016\",\n",
    "          \"017\",\n",
    "          \"018\",\n",
    "          \"019\",\n",
    "          \"020\",\n",
    "          \"021\",\n",
    "          \"022\",\n",
    "          \"023\",\n",
    "          \"024\",\n",
    "          \"025\",\n",
    "          \"026\",\n",
    "          \"027\",\n",
    "          \"028\",\n",
    "          \"029\",\n",
    "          \"030\",\n",
    "          \"031\",\n",
    "          \"032\",\n",
    "          \"033\",\n",
    "          \"034\",\n",
    "          \"035\",\n",
    "          \"036\",\n",
    "          \"037\",\n",
    "          \"038\",\n",
    "          \"039\",\n",
    "          \"040\",\n",
    "          \"041\",\n",
    "          \"042\",\n",
    "          \"043\",\n",
    "          \"044\",\n",
    "          \"045\",\n",
    "          \"046\",\n",
    "          \"047\",\n",
    "          \"048\",\n",
    "          \"049\",\n",
    "          \"050\",\n",
    "          \"051\",\n",
    "          \"052\",\n",
    "          \"053\",\n",
    "          \"054\",\n",
    "          \"055\",\n",
    "          \"056\",\n",
    "          \"057\",\n",
    "          \"058\",\n",
    "          \"059\",\n",
    "          \"060\",\n",
    "          \"061\",\n",
    "          \"062\",\n",
    "          \"063\",\n",
    "          \"064\",\n",
    "          \"065\",\n",
    "          \"066\",\n",
    "          \"067\",\n",
    "          \"068\",\n",
    "          \"069\",\n",
    "          \"070\",\n",
    "          \"071\",\n",
    "          \"072\",\n",
    "          \"073\",\n",
    "          \"074\",\n",
    "          \"075\",\n",
    "          \"076\",\n",
    "          \"077\",\n",
    "          \"078\",\n",
    "          \"079\",\n",
    "          \"080\",\n",
    "          \"081\",\n",
    "          \"082\",\n",
    "          \"083\",\n",
    "          \"084\",\n",
    "          \"085\",\n",
    "          \"086\",\n",
    "          \"087\",\n",
    "          \"088\",\n",
    "          \"089\",\n",
    "          \"090\",\n",
    "          \"091\",\n",
    "          \"092\",\n",
    "          \"093\",\n",
    "          \"094\",\n",
    "          \"095\",\n",
    "          \"096\",\n",
    "          \"097\",\n",
    "          \"098\",\n",
    "          \"099\",\n",
    "          \"100\",\n",
    "          \"101\",\n",
    "          \"102\",\n",
    "          \"103\",\n",
    "          \"104\",\n",
    "          \"105+\"\n",
    "        ]\n",
    "      }\n",
    "    },\n",
    "    {\n",
    "      \"code\": \"Tid\",\n",
    "      \"selection\": {\n",
    "        \"filter\": \"item\",\n",
    "        \"values\": [\n",
    "          \"2015\",\n",
    "          \"2016\",\n",
    "          \"2017\",\n",
    "          \"2018\",\n",
    "          \"2019\",\n",
    "          \"2020\"\n",
    "        ]\n",
    "      }\n",
    "    }\n",
    "  ],\n",
    "  \"response\": {\n",
    "    \"format\": \"json\"\n",
    "  }\n",
    "}"
   ]
  },
  {
   "cell_type": "code",
   "execution_count": null,
   "metadata": {},
   "outputs": [],
   "source": [
    "r_dead_nor = requests.post(nor_dead_url,json=nor_dead_query)\n",
    "r_dead_nor.status_code"
   ]
  },
  {
   "cell_type": "code",
   "execution_count": null,
   "metadata": {},
   "outputs": [],
   "source": [
    "r_dead_nor.encoding='utf-8-sig'\n",
    "\n",
    "r_dead_nor.json()['data'][0]"
   ]
  },
  {
   "cell_type": "code",
   "execution_count": null,
   "metadata": {},
   "outputs": [],
   "source": [
    "nor_age_dead = pd.DataFrame.from_dict(r_dead_nor.json()['data'])\n",
    "nor_age_dead[['foo','age','year']] = nor_age_dead['key'].to_list()\n",
    "nor_age_dead.drop(['key','foo'],axis=1,inplace=True)\n",
    "nor_age_dead['dead'] = nor_age_dead['values'].apply(lambda x : x[0])\n",
    "nor_age_dead.drop('values',axis=1,inplace=True)\n",
    "nor_age_dead['age'] = nor_age_dead['age'].replace('^00','',regex=True).str.rstrip('+').astype(int)\n",
    "\n",
    "#nor_age_dead['dead'] = nor_age_dead['dead'].astype(int)\n",
    "\n",
    "# check if all dead counts are numeric, and find the ones not # \n",
    "foo = nor_age_dead['dead'].str.isnumeric()\n",
    "print (foo.loc[foo==False])\n",
    "\n",
    "print (nor_age_dead.iloc[21])\n",
    "nor_age_dead['dead'] = nor_age_dead['dead'].str.replace('-','0')\n",
    "print (nor_age_dead['dead'].str.isnumeric().all())\n",
    "\n",
    "# now we can convert death counts to int #\n",
    "nor_age_dead['dead'] = nor_age_dead['dead'].astype(int)\n",
    "nor_age_dead.set_index(['year','age'],inplace=True)\n",
    "nor_age_dead"
   ]
  },
  {
   "cell_type": "code",
   "execution_count": null,
   "metadata": {},
   "outputs": [],
   "source": [
    "nor_age_mort = nor_age_dead['dead'] / nor_age_pop['pop']\n",
    "nor_age_mort"
   ]
  },
  {
   "cell_type": "code",
   "execution_count": null,
   "metadata": {},
   "outputs": [],
   "source": [
    "start_age = 70\n",
    "ax = nor_age_mort.unstack().T.loc[start_age:].plot(subplots=True,figsize=(18,12),color='darkred',ls='dashed')\n",
    "fin_age_mortality.unstack().T.loc[start_age:].plot(ax=ax,color='blue',subplots=True,figsize=(18,12),ls='dashed')\n",
    "swe_age_mortality.unstack().loc['2015':].T.loc[start_age:].plot(ax=ax,color='yellow',subplots=True,ls='dashed')\n",
    "den_age_mort.T.loc[start_age:].plot(subplots=True,ax=ax,color='red',ls='dashed')\n",
    "\n",
    "years = range(2015,2021)\n",
    "countries = ['_FIN','_SWE','_DEN','_NOR']\n",
    "\n",
    "for i, a in enumerate(ax):\n",
    "    a.legend( [ str(years[i]) + c for c in countries ])"
   ]
  },
  {
   "cell_type": "code",
   "execution_count": null,
   "metadata": {},
   "outputs": [],
   "source": [
    "# 2DO - convert SWE, FIN, NOR to age groups 0-99+ #"
   ]
  },
  {
   "cell_type": "code",
   "execution_count": null,
   "metadata": {},
   "outputs": [],
   "source": [
    "pop_df"
   ]
  },
  {
   "cell_type": "code",
   "execution_count": null,
   "metadata": {},
   "outputs": [],
   "source": [
    "idx = pd.IndexSlice\n",
    "\n",
    "def merge_99_plus(df):\n",
    "    return df.loc[idx[:,99:],:].groupby('year').sum()\n",
    "\n",
    "fin_99_plus_pop = merge_99_plus(fin_age_pop)\n",
    "swe_99_plus_pop = merge_99_plus(pop_df)\n",
    "nor_99_plus_pop = merge_99_plus(nor_age_pop)\n",
    "\n",
    "nor_99_plus_pop"
   ]
  },
  {
   "cell_type": "code",
   "execution_count": null,
   "metadata": {},
   "outputs": [],
   "source": [
    "fin_99_plus_dead = merge_99_plus(fin_age_dead)\n",
    "swe_99_plus_dead = merge_99_plus(dead_df).loc['2015':]\n",
    "#nor_99_plus_dead = merge_99_plus(nor_age_dead)\n",
    "nor_age_dead = nor_age_dead.sort_index()\n",
    "nor_99_plus_dead = merge_99_plus(nor_age_dead)\n",
    "nor_99_plus_dead"
   ]
  },
  {
   "cell_type": "code",
   "execution_count": null,
   "metadata": {},
   "outputs": [],
   "source": [
    "def drop_and_add_99_plus(df,plus_99,param):\n",
    "    temp = pd.concat([df.loc[idx[:,:98],:].unstack().droplevel(level=0,axis=1),plus_99[param]],axis=1)\n",
    "    temp.columns = range(100)\n",
    "    return temp\n",
    "\n",
    "nor_age_99_pop = drop_and_add_99_plus(nor_age_pop,nor_99_plus_pop,'pop')\n",
    "fin_age_99_pop = drop_and_add_99_plus(fin_age_pop,fin_99_plus_pop,'pop')\n",
    "swe_age_99_pop = drop_and_add_99_plus(pop_df,swe_99_plus_pop,'pop').loc['2015':]\n",
    "den_age_99_pop = den_age_pop\n",
    "\n",
    "nor_age_99_dead = drop_and_add_99_plus(nor_age_dead,nor_99_plus_dead,'dead')\n",
    "fin_age_99_dead = drop_and_add_99_plus(fin_age_dead,fin_99_plus_dead,'dead')\n",
    "swe_age_99_dead = drop_and_add_99_plus(dead_df,swe_99_plus_dead,'dead').loc['2015':]\n",
    "den_age_99_dead = den_age_dead"
   ]
  },
  {
   "cell_type": "code",
   "execution_count": null,
   "metadata": {},
   "outputs": [],
   "source": [
    "\n",
    "nor_age_99_mort = nor_age_99_dead / nor_age_99_pop\n",
    "fin_age_99_mort = fin_age_99_dead / fin_age_99_pop\n",
    "swe_age_99_mort = swe_age_99_dead / swe_age_99_pop\n",
    "den_age_99_mort = den_age_99_dead / den_age_99_pop\n",
    "swe_age_99_mort"
   ]
  },
  {
   "cell_type": "code",
   "execution_count": null,
   "metadata": {},
   "outputs": [],
   "source": [
    "std_pop_99 = fin_age_99_pop.loc['2019']\n",
    "std_pop_99"
   ]
  },
  {
   "cell_type": "code",
   "execution_count": null,
   "metadata": {},
   "outputs": [],
   "source": [
    "fin_std_99_mort = (fin_age_99_mort * std_pop_99).sum(axis=1) / std_pop_99.sum()\n",
    "swe_std_99_mort = (swe_age_99_mort * std_pop_99).sum(axis=1) / std_pop_99.sum()\n",
    "nor_std_99_mort = (nor_age_99_mort * std_pop_99).sum(axis=1) / std_pop_99.sum()\n",
    "den_std_99_mort = (den_age_99_mort * std_pop_99).sum(axis=1) / std_pop_99.sum()\n",
    "\n",
    "nordic_std_mortality = pd.concat([fin_std_99_mort,swe_std_99_mort,\n",
    "                                 nor_std_99_mort,den_std_99_mort],axis=1)\n",
    "\n",
    "nordic_std_mortality.columns = ['FIN','SWE','NOR','DEN']\n",
    "\n",
    "nordic_std_mortality"
   ]
  },
  {
   "cell_type": "code",
   "execution_count": null,
   "metadata": {},
   "outputs": [],
   "source": [
    "\n",
    "credit = '\\nDataSource : stat.fi, scb.se, ssb.no, dst.dk'\n",
    "title = 'Nordic Countries 2020 Age Std. Mortality [1 year bins] : Std.Pop : FIN 2019' + credit\n",
    "nordic_std_mortality.plot(kind='bar',figsize=(18,12),color=['blue','yellow','darkred','red'],title=title)\n",
    "plt.ylabel('Std Mortality')\n",
    "plt.savefig('FIN_SWE_nordic_age_std_mortality.jpg',format='jpg')"
   ]
  },
  {
   "cell_type": "code",
   "execution_count": null,
   "metadata": {},
   "outputs": [],
   "source": [
    "### sanity check ###\n",
    "print (fin_age_pop.groupby('year').sum()['pop'] == fin_age_99_pop.sum(axis=1))\n",
    "print (fin_age_dead.groupby('year').sum()['dead'] == fin_age_99_dead.sum(axis=1))\n",
    "print()\n",
    "\n",
    "print (pop_df.groupby('year').sum().loc['2015':]['pop'] == swe_age_99_pop.sum(axis=1))\n",
    "print (dead_df.groupby('year').sum().loc['2015':]['dead'] == swe_age_99_dead.sum(axis=1))\n",
    "print()\n",
    "print (nor_age_pop.groupby('year').sum()['pop'] == nor_age_99_pop.sum(axis=1))\n",
    "print (nor_age_dead.groupby('year').sum()['dead'] == nor_age_99_dead.sum(axis=1))\n",
    "\n",
    "print ()\n",
    "print (den_age_pop.sum(axis=1) == den_age_99_pop.sum(axis=1))\n",
    "print (den_age_dead.sum(axis=1) == den_age_99_dead.sum(axis=1))"
   ]
  },
  {
   "cell_type": "code",
   "execution_count": null,
   "metadata": {},
   "outputs": [],
   "source": [
    "swe_99_baseline = swe_age_99_mort.loc['2015' : '2018'].mean()\n",
    "fin_99_baseline = fin_age_99_mort.loc['2015' : '2018'].mean()\n",
    "nor_99_baseline = nor_age_99_mort.loc['2015' : '2018'].mean()\n",
    "den_99_baseline = den_age_99_mort.loc['2015' : '2018'].mean()\n",
    "\n",
    "swe_99_expectation = (swe_age_99_pop * swe_99_baseline).sum(axis=1)\n",
    "fin_99_expectation = (fin_age_99_pop * fin_99_baseline).sum(axis=1)\n",
    "nor_99_expectation = (nor_age_99_pop * nor_99_baseline).sum(axis=1)\n",
    "den_99_expectation = (den_age_99_pop * den_99_baseline).sum(axis=1)\n",
    "\n",
    "nordic_expectation = pd.concat([fin_99_expectation,swe_99_expectation,\n",
    "                               nor_99_expectation,den_99_expectation],axis=1)\n",
    "\n",
    "nordic_expectation.columns = ['FIN','SWE','NOR','DEN']\n",
    "\n",
    "print (nordic_expectation.head())\n",
    "\n",
    "swe_99_excess = dead_df.groupby('year').sum().loc['2015':,'dead'] - swe_99_expectation\n",
    "fin_99_excess = fin_age_99_dead.sum(axis=1) - fin_99_expectation\n",
    "nor_99_excess = nor_age_99_dead.sum(axis=1) - nor_99_expectation\n",
    "den_99_excess = den_age_99_dead.sum(axis=1) - den_99_expectation\n",
    "\n",
    "nordic_excess = pd.concat([fin_99_excess,swe_99_excess,nor_99_excess,den_99_excess],axis=1)\n",
    "nordic_excess.columns = ['FIN','SWE','NOR','DEN']\n",
    "nordic_excess"
   ]
  },
  {
   "cell_type": "code",
   "execution_count": null,
   "metadata": {},
   "outputs": [],
   "source": [
    "credit = '\\nDataSource : stat.fi, scb.se, ssb.no, dst.dk'\n",
    "title = 'Nordic Countries 2020 Age Adj [1 year bins] Excess Deaths : Baseline : 2015-2018' + credit\n",
    "nordic_excess.plot(kind='bar',figsize=(18,12),color=['blue','yellow','darkred','red'],title=title)\n",
    "plt.ylabel('Excess Deaths')\n",
    "plt.savefig('FIN_SWE_nordic_excess.jpg',format='jpg')"
   ]
  },
  {
   "cell_type": "code",
   "execution_count": null,
   "metadata": {},
   "outputs": [],
   "source": [
    "nordic_excess_pct = nordic_excess / nordic_expectation\n",
    "\n",
    "credit = '\\nDataSource : stat.fi, scb.se, ssb.no, dst.dk'\n",
    "title = 'Nordic Countries 2020 Age Adj [1 year bins] Rel. change Excess Deaths vs Expectation : Baseline : 2015-2018' + credit\n",
    "nordic_excess_pct.plot(figsize=(18,12),color=['blue','yellow','darkred','red'],kind='bar',title=title)\n",
    "plt.ylabel('relative change vs expectation')\n",
    "plt.savefig('FIN_SWE_nordic_rel_excess.jpg',format='jpg')\n",
    "nordic_excess_pct"
   ]
  },
  {
   "cell_type": "code",
   "execution_count": null,
   "metadata": {},
   "outputs": [],
   "source": [
    "ax = fin_age_mortality.unstack().loc['2019'].plot(figsize=(18,12),ls='dashed',marker='o')\n",
    "fin_age_99_mort.loc['2019'].plot(ax=ax)\n",
    "print (fin_age_mortality.unstack().loc['2019'])\n",
    "print (fin_age_99_mort.loc['2019'].tail(10))\n",
    "\n"
   ]
  },
  {
   "cell_type": "code",
   "execution_count": null,
   "metadata": {},
   "outputs": [],
   "source": [
    "fin_age_pop.loc['2019']"
   ]
  },
  {
   "cell_type": "code",
   "execution_count": null,
   "metadata": {},
   "outputs": [],
   "source": [
    "fin_age_99_pop.loc['2019']"
   ]
  },
  {
   "cell_type": "code",
   "execution_count": null,
   "metadata": {},
   "outputs": [],
   "source": [
    "fin_swe_std_dead_2015_2020"
   ]
  },
  {
   "cell_type": "code",
   "execution_count": null,
   "metadata": {},
   "outputs": [],
   "source": [
    "nordic_std_mortality"
   ]
  },
  {
   "cell_type": "code",
   "execution_count": null,
   "metadata": {},
   "outputs": [],
   "source": [
    "den_age_dead"
   ]
  },
  {
   "cell_type": "code",
   "execution_count": null,
   "metadata": {},
   "outputs": [],
   "source": [
    "### std mortality excluding ages above 99 ###\n",
    "\n",
    "fin_less_100_mort = (fin_age_dead['dead'] / fin_age_pop['pop']).unstack().loc[:,:99]\n",
    "swe_less_100_mort = (dead_df['dead'] / pop_df['pop']).unstack().loc[:,:99]\n",
    "nor_less_100_mort = (nor_age_dead['dead'] / nor_age_pop['pop']).unstack().loc[:,:99]\n",
    "den_less_100_mort = (den_age_dead / den_age_pop).loc[:,:99]\n",
    "\n",
    "den_less_100_mort"
   ]
  },
  {
   "cell_type": "code",
   "execution_count": null,
   "metadata": {},
   "outputs": [],
   "source": [
    "std_pop_less_100 = fin_age_pop.unstack().droplevel(level=0,axis=1).loc['2019',:99]\n",
    "std_pop_less_100"
   ]
  },
  {
   "cell_type": "code",
   "execution_count": null,
   "metadata": {},
   "outputs": [],
   "source": [
    "(std_pop_less_100 * fin_less_100_mort).sum(axis=1) / std_pop_less_100.sum()"
   ]
  },
  {
   "cell_type": "code",
   "execution_count": null,
   "metadata": {},
   "outputs": [],
   "source": [
    "swe_less_100_std_mort = ((swe_less_100_mort * std_pop_less_100).dropna().sum(axis=1)) / std_pop_less_100.sum()\n",
    "swe_less_100_std_mort = swe_less_100_std_mort.loc['2015':]\n",
    "fin_less_100_std_mort = ((fin_less_100_mort * std_pop_less_100).dropna().sum(axis=1)) / std_pop_less_100.sum()\n",
    "nor_less_100_std_mort = ((nor_less_100_mort * std_pop_less_100).dropna().sum(axis=1)) / std_pop_less_100.sum()\n",
    "den_less_100_std_mort = ((den_less_100_mort * std_pop_less_100).dropna().sum(axis=1)) / std_pop_less_100.sum()\n",
    "\n",
    "nordic_less_100_std_mort = pd.concat([swe_less_100_std_mort,fin_less_100_std_mort,\n",
    "          nor_less_100_std_mort,den_less_100_std_mort],axis=1)\n",
    "\n",
    "nordic_less_100_std_mort.columns = ['SWE','FIN','NOR','DEN']\n",
    "\n",
    "nordic_less_100_std_mort.plot(kind='bar',figsize=(18,12),color=['yellow','blue','darkred','red'])"
   ]
  },
  {
   "cell_type": "code",
   "execution_count": null,
   "metadata": {},
   "outputs": [],
   "source": [
    "swe_100_vs_99 = pd.concat([fin_swe_std_dead_2015_2020[\"SWE\"],nordic_std_mortality['SWE'],\n",
    "                              nordic_less_100_std_mort['SWE']],axis=1)\n",
    "swe_100_vs_99.columns=['SWE_100+','SWE_99+','SWE_99']\n",
    "swe_100_vs_99"
   ]
  },
  {
   "cell_type": "code",
   "execution_count": null,
   "metadata": {},
   "outputs": [],
   "source": [
    "title = 'SWE age std mortality by 3 different binning ends: [0-100+,0-99+,0-99]'\n",
    "swe_100_vs_99.plot(kind='bar',figsize=(18,12),title=title)\n",
    "\n",
    "plt.savefig('FIN_SWE_3_different_bin_ends.jpg',format='jpg')"
   ]
  },
  {
   "cell_type": "code",
   "execution_count": null,
   "metadata": {},
   "outputs": [],
   "source": [
    "nordic_std_mortality"
   ]
  },
  {
   "cell_type": "code",
   "execution_count": null,
   "metadata": {},
   "outputs": [],
   "source": [
    "nordic_less_100_std_mort = nordic_less_100_std_mort[['FIN','SWE','NOR','DEN']]\n",
    "nordic_less_100_std_mort"
   ]
  },
  {
   "cell_type": "code",
   "execution_count": null,
   "metadata": {},
   "outputs": [],
   "source": [
    "nordic_less_100_std_mort / nordic_std_mortality"
   ]
  },
  {
   "cell_type": "code",
   "execution_count": null,
   "metadata": {},
   "outputs": [],
   "source": [
    "\n",
    "cebm_tables = pd.read_html('https://www.cebm.net/covid-19/excess-mortality-across-countries-in-2020/',header=0)\n",
    "cebm_tables[0]['Percentage increase in Mortality per Age-Adjusted 100,000'] = \\\n",
    "cebm_tables[0]['Percentage increase in Mortality per Age-Adjusted 100,000'].apply(\n",
    "    lambda x : x.rstrip('%')).astype(float)\n",
    "\n",
    "cebm_tables[0]  = cebm_tables[0].sort_values('Percentage increase in Mortality per Age-Adjusted 100,000',\n",
    "                                             ascending=False)\n",
    "\n",
    "cebm_tables[0].set_index('Country',inplace=True)\n",
    "cebm_tables[0]"
   ]
  },
  {
   "cell_type": "code",
   "execution_count": null,
   "metadata": {},
   "outputs": [],
   "source": [
    "values = cebm_tables[0]['Percentage increase in Mortality per Age-Adjusted 100,000']\n",
    "values"
   ]
  },
  {
   "cell_type": "code",
   "execution_count": null,
   "metadata": {
    "scrolled": false
   },
   "outputs": [],
   "source": [
    "fig,ax = plt.subplots(figsize=(18,12))\n",
    "plt.title('Selected Countries 2020 Excess Mortality\\nDataSource : The Centre for Evidence Based Medicine\\nhttps://www.cebm.net/covid-19/excess-mortality-across-countries-in-2020/ ')\n",
    "\n",
    "values = cebm_tables[0]['Percentage increase in Mortality per Age-Adjusted 100,000']\n",
    "\n",
    "colors = ['red' if x > 0 else 'green' for x in values ]\n",
    "sns.barplot(y=cebm_tables[0].index,x='Percentage increase in Mortality per Age-Adjusted 100,000',\n",
    "            data=cebm_tables[0],ax=ax,palette=colors)\n",
    "\n",
    "plt.savefig('FIN_SWE_cebm_excess.jpg',format='jpg')"
   ]
  },
  {
   "cell_type": "code",
   "execution_count": null,
   "metadata": {},
   "outputs": [],
   "source": [
    "cebm_nordics = cebm_tables[0].loc[['Finland','Sweden','Norway','Denmark']]\n",
    "\n",
    "cebm_nordics.plot(y='Expected Age-standardised Mortality 2020 (per 100,000)',kind='bar',figsize=(18,12))\n",
    "cebm_nordics"
   ]
  },
  {
   "cell_type": "code",
   "execution_count": null,
   "metadata": {},
   "outputs": [],
   "source": [
    "cebm_nordics.plot(y='Age-standardised total mortality perÂ 100,000',kind='bar',figsize=(18,12))\n"
   ]
  },
  {
   "cell_type": "code",
   "execution_count": null,
   "metadata": {},
   "outputs": [],
   "source": [
    "cebm_nordics.loc['Denmark'] / cebm_nordics.loc['Sweden']"
   ]
  },
  {
   "cell_type": "code",
   "execution_count": null,
   "metadata": {},
   "outputs": [],
   "source": [
    "nordic_std_mortality.loc['2020','DEN'] / nordic_std_mortality.loc['2020','SWE']"
   ]
  },
  {
   "cell_type": "code",
   "execution_count": null,
   "metadata": {},
   "outputs": [],
   "source": [
    "cebm_tables[0].sort_values(\n",
    "    'Expected Age-standardised Mortality 2020 (per 100,000)',ascending=False).plot(y='Expected Age-standardised Mortality 2020 (per 100,000)',\n",
    "                                    \n",
    "kind='bar',figsize=(18,12))"
   ]
  },
  {
   "cell_type": "code",
   "execution_count": null,
   "metadata": {},
   "outputs": [],
   "source": [
    "### SECTION ###\n",
    "\n",
    "# https://ec.europa.eu/eurostat/web/products-eurostat-news/-/edn-20210407-1 #\n",
    "\n",
    "EU_life_expectancy_file = pd.ExcelFile('EU_life_expectancy.xlsx')\n",
    "EU_life_expectancy_file"
   ]
  },
  {
   "cell_type": "code",
   "execution_count": null,
   "metadata": {},
   "outputs": [],
   "source": [
    "EU_LE_df = EU_life_expectancy_file.parse(sheet_name='Sheet 1',skiprows=9)\n",
    "EU_LE_df = EU_LE_df.drop([0,1,2,3,4,5,57,58,59,60,61,62,63,64,65])\n",
    "EU_LE_df.rename(columns={'TIME' : 'Country'},inplace=True)\n",
    "EU_LE_df.set_index('Country',inplace=True)\n",
    "EU_LE_df = EU_LE_df.replace(':',np.nan)\n",
    "EU_LE_df.info()"
   ]
  },
  {
   "cell_type": "code",
   "execution_count": null,
   "metadata": {},
   "outputs": [],
   "source": [
    "SWE_LE = EU_LE_df.loc['Sweden']\n",
    "SWE_LE"
   ]
  },
  {
   "cell_type": "code",
   "execution_count": null,
   "metadata": {},
   "outputs": [],
   "source": [
    "swe_LE_age_mort = (dead_df['dead'] / pop_df['pop']).dropna()\n",
    "swe_LE_age_mort"
   ]
  },
  {
   "cell_type": "code",
   "execution_count": null,
   "metadata": {},
   "outputs": [],
   "source": [
    "swe_LE_std_pop = pop_df.loc['2015']\n",
    "swe_LE_std_pop"
   ]
  },
  {
   "cell_type": "code",
   "execution_count": null,
   "metadata": {},
   "outputs": [],
   "source": [
    "swe_LE_std_mort = (swe_LE_std_pop['pop'] * swe_LE_age_mort).groupby('year').sum() / swe_LE_std_pop['pop'].sum()\n",
    "swe_LE_std_mort"
   ]
  },
  {
   "cell_type": "code",
   "execution_count": null,
   "metadata": {},
   "outputs": [],
   "source": [
    "SWE_LE_STD_MORT = pd.concat([SWE_LE,swe_LE_std_mort],axis=1)\n",
    "SWE_LE_STD_MORT.columns=['Life_Expectancy','Std_mort']\n",
    "SWE_LE_STD_MORT"
   ]
  },
  {
   "cell_type": "code",
   "execution_count": null,
   "metadata": {},
   "outputs": [],
   "source": [
    "SWE_LE_STD_MORT.corr()"
   ]
  },
  {
   "cell_type": "code",
   "execution_count": null,
   "metadata": {},
   "outputs": [],
   "source": [
    "credit = '\\nDataSource : ec.europa.eu, scb.se'\n",
    "title = 'SWEDEN Life Expectancy (Eurostat) & Age Standardized Mortality (SCB)' + credit\n",
    "fig,ax = plt.subplots(figsize=(18,12))\n",
    "ax.plot(SWE_LE_STD_MORT['Life_Expectancy'],label='SWE Life Expectancy',color='blue')\n",
    "ax2 = plt.twinx()\n",
    "ax2.plot(SWE_LE_STD_MORT['Std_mort'],label='SWE Age Std. Mortality',color='red')\n",
    "#ax2.invert_yaxis()\n",
    "\n",
    "ax.legend(loc='upper left')\n",
    "ax.set_ylabel('Life Expectancy [years]')\n",
    "ax.set_title(title)\n",
    "\n",
    "ax2.legend(loc='upper right')\n",
    "ax2.set_ylabel('Age Std. mortality')\n",
    "\n",
    "plt.savefig('FIN_SWE_LE_Mort.jpg',format='jpg')\n"
   ]
  },
  {
   "cell_type": "code",
   "execution_count": null,
   "metadata": {},
   "outputs": [],
   "source": [
    "EU_LE_df"
   ]
  },
  {
   "cell_type": "code",
   "execution_count": null,
   "metadata": {},
   "outputs": [],
   "source": [
    "EU_LE_baseline = (EU_LE_df.loc[:,'2015' : '2018'].mean(axis=1)).dropna()\n",
    "EU_LE_2020_plus_baseline = pd.concat([EU_LE_baseline,EU_LE_df['2020']],axis=1)\n",
    "EU_LE_2020_plus_baseline.columns = ['2015-2018','2020']\n",
    "EU_LE_2020_plus_baseline = EU_LE_2020_plus_baseline.dropna()\n",
    "EU_LE_2020_plus_baseline.sort_values('2015-2018',ascending=False,inplace=True)\n",
    "EU_LE_2020_plus_baseline['diff'] = EU_LE_2020_plus_baseline['2020'] - EU_LE_2020_plus_baseline['2015-2018']\n",
    "EU_LE_2020_plus_baseline"
   ]
  },
  {
   "cell_type": "code",
   "execution_count": null,
   "metadata": {},
   "outputs": [],
   "source": [
    "title = 'European Union : Avg. Life Expectancy 2015-2018\\nDataSource : Eurostat'\n",
    "credit = '\\nhttps://ec.europa.eu/eurostat/web/products-eurostat-news/-/edn-20210407-1'\n",
    "\n",
    "EU_LE_2020_plus_baseline.sort_values('2015-2018',ascending=False).plot(kind='bar',\n",
    "                                                                       figsize=(18,12),\n",
    "                                                                      color='orange',\n",
    "                                                                      y='2015-2018',\n",
    "                                                                      title=title+credit)\n",
    "plt.ylabel('Life Expectancy [years]')\n",
    "plt.savefig('FIN_SWE_EU_avg_LE.jpg',format='jpg')"
   ]
  },
  {
   "cell_type": "code",
   "execution_count": null,
   "metadata": {},
   "outputs": [],
   "source": [
    "plt.figure(figsize=(18,12))\n",
    "plt.plot(EU_LE_2020_plus_baseline['2015-2018'],'x',label='2015-2018')\n",
    "plt.plot(EU_LE_2020_plus_baseline['2020'],marker='o',markerfacecolor='none',ls='none',label='2020')\n",
    "_= plt.xticks(rotation=90)"
   ]
  },
  {
   "cell_type": "code",
   "execution_count": null,
   "metadata": {},
   "outputs": [],
   "source": [
    "fig,ax = plt.subplots(figsize=(18,12))\n",
    "EU_LE_2020_plus_baseline.sort_values('diff',inplace=True)\n",
    "\n",
    "colors = ['red' if EU_LE_2020_plus_baseline['diff'][i] < 0 else 'green' for i in range(len(EU_LE_2020_plus_baseline))]\n",
    "\n",
    "sns.barplot(y=EU_LE_2020_plus_baseline.index,data=EU_LE_2020_plus_baseline,\n",
    "            x=EU_LE_2020_plus_baseline['diff'],palette=colors,ax=ax)\n",
    "\n",
    "credit = '\\nhttps://ec.europa.eu/eurostat/web/products-eurostat-news/-/edn-20210407-1'\n",
    "ax.set_title('European Union : change in Life Expectancy 2020 vs baseline 2015-2018\\nDataSource : Eurostat' + credit)\n",
    "ax.set_xlabel('change in life expectancy [years]')\n",
    "\n",
    "plt.savefig('FIN_SWE_EU_change_in_life_expectancy.jpg',format='jpg')"
   ]
  },
  {
   "cell_type": "code",
   "execution_count": null,
   "metadata": {},
   "outputs": [],
   "source": [
    "SWE_LE_STD_MORT"
   ]
  },
  {
   "cell_type": "code",
   "execution_count": null,
   "metadata": {},
   "outputs": [],
   "source": [
    "### Life Expectancy Calculation ###\n",
    "# cmp https://ec.europa.eu/health/indicators/docs/echi_10_ds_en.pdf #\n",
    "\n",
    "LE_initial_pop = 100000\n",
    "\n",
    "remaining_pop = np.zeros(len(swe_age_99_mort.columns) + 1)\n",
    "remaining_pop[0] = LE_initial_pop\n",
    "\n",
    "year = 0\n",
    "for yearly_risk in swe_age_99_mort.loc['2020']:\n",
    "    remaining_pop[year+1] = remaining_pop[year] - (remaining_pop[year] * yearly_risk)\n",
    "    \n",
    "    year += 1\n",
    "    \n",
    "remaining_pop"
   ]
  },
  {
   "cell_type": "code",
   "execution_count": null,
   "metadata": {},
   "outputs": [],
   "source": [
    "more_than_half_pop_remaining = remaining_pop > LE_initial_pop / 2\n",
    "LE = np.argmin(more_than_half_pop_remaining) - 1\n",
    "LE"
   ]
  },
  {
   "cell_type": "code",
   "execution_count": null,
   "metadata": {},
   "outputs": [],
   "source": [
    "plt.plot(remaining_pop) "
   ]
  },
  {
   "cell_type": "code",
   "execution_count": null,
   "metadata": {},
   "outputs": [],
   "source": [
    "# p(living at end of year 1) = 1 - mort_0 # \n",
    "# (1-p_dead_0) * (1-p_dead_1) * ... (1-p_dead_99) #\n",
    "# same principle as probability of at least 1 six in two throws of dice : 1 - (5/6 * 5/6) = 1 - 25/36\n",
    "# https://www.pdx.edu/learning-center/sites/g/files/znldhr3391/files/2020-07/Probability_Dice.pdf\n",
    "print (1 - (5/6 * 5/6))\n",
    "P_living = (1 - swe_age_99_mort.loc['2020']).cumprod()\n",
    "P_living.plot()\n",
    "P_living"
   ]
  },
  {
   "cell_type": "code",
   "execution_count": null,
   "metadata": {},
   "outputs": [],
   "source": [
    "### LE Calculation ex ###\n",
    "# https://ourworldindata.org/life-expectancy-how-is-it-calculated-and-how-should-it-be-interpreted #\n",
    "\n",
    "df = pd.DataFrame({'pop' : [100,100,100,100],\n",
    "                  'dead' : [10,1,2,3]},index=range(4))\n",
    "\n",
    "df['mort'] = df['dead'] / df['pop']\n",
    "\n",
    "def smooth_mort(mort,n=1):\n",
    "    return 1 - np.exp(-n*mort)\n",
    "\n",
    "# qnx is a smooth approximation of proportion dead within each age group, that is, smooth approx of mort rate \n",
    "# where n is the bin size \n",
    "\n",
    "df['qnx'] = smooth_mort(df['mort'])\n",
    "df"
   ]
  },
  {
   "cell_type": "code",
   "execution_count": null,
   "metadata": {},
   "outputs": [],
   "source": [
    "### to use qnx for bins larger than 1, the mort rate param n must be the midpoint of the bin (avg ?) ###\n",
    "\n",
    "def bin_category(df,binsize=10):\n",
    "    \n",
    "    binned = pd.cut(df.index.get_level_values(1),range(-1,100+binsize,binsize),labels=range(0,100+binsize,binsize))\n",
    "    return binned\n",
    "\n",
    "def binit(df,binsize=10):\n",
    "    return df.groupby(['year',bin_category(df,binsize=binsize)]).sum()\n",
    "\n",
    "\n",
    "swe_mort = pd.DataFrame((dead_df['dead'] / pop_df['pop']),columns=['mort_1']).dropna()\n",
    "swe_mort['mort_1_qnx'] = smooth_mort(swe_mort['mort_1'])\n",
    "\n",
    "swe_mort"
   ]
  },
  {
   "cell_type": "code",
   "execution_count": null,
   "metadata": {},
   "outputs": [],
   "source": [
    "swe_mort_1 = (dead_df['dead'] / pop_df['pop']).dropna()\n",
    "swe_mort_5 = (binit(dead_df['dead'],5) / binit(pop_df['pop'],5)).dropna()\n",
    "swe_mort_10 = (binit(dead_df['dead'],10) / binit(pop_df['pop'],10)).dropna()"
   ]
  },
  {
   "cell_type": "code",
   "execution_count": null,
   "metadata": {},
   "outputs": [],
   "source": [
    "ax = swe_mort_1.loc['2020'].plot(label='bin_1')\n",
    "\n",
    "swe_mort_5.loc['2020'].plot(ax=ax,label='bin_5',style='x--')\n",
    "swe_mort_10.loc['2020'].plot(ax=ax,label='bin_10',style='o--')\n",
    "\n",
    "plt.legend(loc='upper left')"
   ]
  },
  {
   "cell_type": "code",
   "execution_count": null,
   "metadata": {},
   "outputs": [],
   "source": [
    "def dice_calc_p_survival(age_mort):\n",
    "    P_living = (1 - age_mort).cumprod()\n",
    "    return P_living\n",
    "\n",
    "survival_1 = dice_calc_p_survival(swe_mort_1.loc['2020'])\n",
    "survival_5 = dice_calc_p_survival(swe_mort_5.loc['2020'])\n",
    "survival_10 = dice_calc_p_survival(swe_mort_10.loc['2020'])\n",
    "\n",
    "ax = survival_1.plot()\n",
    "survival_10.plot(ax=ax,style='o--')"
   ]
  },
  {
   "cell_type": "code",
   "execution_count": null,
   "metadata": {},
   "outputs": [],
   "source": [
    "swe_mort_1.loc['2020',90:]"
   ]
  },
  {
   "cell_type": "code",
   "execution_count": null,
   "metadata": {},
   "outputs": [],
   "source": [
    "swe_mort_10.loc['2020']"
   ]
  },
  {
   "cell_type": "code",
   "execution_count": null,
   "metadata": {},
   "outputs": [],
   "source": [
    "swe_mort.loc['2020'].plot()"
   ]
  },
  {
   "cell_type": "code",
   "execution_count": null,
   "metadata": {},
   "outputs": [],
   "source": [
    "LE_qnx = (1 - swe_mort.loc['2020','mort_1_qnx']).cumprod()\n",
    "ax = LE_qnx.plot(figsize=(18,12),label='qnx')\n",
    "\n",
    "survival_1.plot(ax=ax,label='mort_1')\n",
    "plt.legend(loc='upper right')"
   ]
  },
  {
   "cell_type": "code",
   "execution_count": null,
   "metadata": {},
   "outputs": [],
   "source": [
    "print ((survival_1 > .5).idxmin())\n",
    "print ((P_living > 0.5).idxmin())"
   ]
  },
  {
   "cell_type": "code",
   "execution_count": null,
   "metadata": {},
   "outputs": [],
   "source": [
    "# https://scb.se/hitta-statistik/artiklar/2013/Medellivslangd--matt-med-gamla-anor/#\n",
    "\n",
    "swe_mort_data = pd.concat([dead_df,pop_df],axis=1).dropna()\n",
    "swe_mort_data['mort'] = swe_mort_data['dead'] / swe_mort_data['pop']\n",
    "\n",
    "### survival countdown by age group ###\n",
    "swe_survival = swe_mort_data.groupby('year',group_keys=False).apply(\n",
    "    lambda row :100000 - (row['mort'] * row['pop']).cumsum())\n",
    "\n"
   ]
  },
  {
   "cell_type": "code",
   "execution_count": null,
   "metadata": {},
   "outputs": [],
   "source": [
    "swe_mort_data['survival'] = swe_survival\n",
    "\n",
    "idx = pd.IndexSlice\n",
    "\n",
    "swe_mort_data.loc[idx['2020',:],:]"
   ]
  },
  {
   "cell_type": "code",
   "execution_count": null,
   "metadata": {},
   "outputs": [],
   "source": [
    "swe_mort_data['count_at_start_of_period'] = swe_mort_data.survival.groupby('year').shift()\n",
    "swe_mort_data.loc['2020']"
   ]
  },
  {
   "cell_type": "code",
   "execution_count": null,
   "metadata": {},
   "outputs": [],
   "source": [
    "### set age grp 0 to 100000 for each year ###\n",
    "swe_mort_data['count_at_start_of_period'] = swe_mort_data.groupby('year',group_keys=False).apply(\n",
    "    lambda row : row['count_at_start_of_period'].replace(np.NaN,100000))\n",
    "\n",
    "swe_mort_data.loc['2020']"
   ]
  },
  {
   "cell_type": "code",
   "execution_count": null,
   "metadata": {},
   "outputs": [],
   "source": [
    "### dead during period contribute half year to years_lived ###\n",
    "### except for age grp 0 who only contribute 15% ###\n",
    "idx = pd.IndexSlice\n",
    "\n",
    "swe_mort_data['years_lived'] = swe_mort_data['count_at_start_of_period'] + swe_mort_data['dead'] / 2\n",
    "swe_mort_data.loc[idx[:,0],'years_lived'] = swe_mort_data.loc[\n",
    "    idx[:,0],'count_at_start_of_period'] + swe_mort_data.loc[idx[:,0],'dead'] / (1 / 0.15)\n",
    "#swe_mort_data.loc[idx[:,0],'years_lived']"
   ]
  },
  {
   "cell_type": "code",
   "execution_count": null,
   "metadata": {},
   "outputs": [],
   "source": [
    "swe_mort_data.loc['2020']"
   ]
  },
  {
   "cell_type": "code",
   "execution_count": null,
   "metadata": {},
   "outputs": [],
   "source": [
    "swe_mort_data.loc['2020','cum_years_lived'] / swe_mort_data.loc['2020','count_at_start_of_period']"
   ]
  },
  {
   "cell_type": "code",
   "execution_count": null,
   "metadata": {},
   "outputs": [],
   "source": [
    "### reverse cum_years ###\n",
    "swe_mort_data['cum_years'] = swe_mort_data.groupby('year')['years_lived'].transform(lambda x : x[::-1].cumsum()).values\n",
    "swe_mort_data['cum_years'] = swe_mort_data.groupby('year')['cum_years'].transform(lambda x : x[::-1])\n",
    "swe_mort_data"
   ]
  },
  {
   "cell_type": "code",
   "execution_count": null,
   "metadata": {},
   "outputs": [],
   "source": [
    "# https://www.folkhalsomyndigheten.se/folkhalsorapportering-statistik/tolkad-rapportering/folkhalsans-utveckling/resultat/halsa/medellivslangd/#\n",
    "# FHM 2019 LE : 83.1\n",
    "\n",
    "# stämmer inte riktigt med https://www.scb.se/hitta-statistik/sverige-i-siffror/manniskorna-i-sverige/medellivslangd-i-sverige/\n",
    "swe_mort_LE = swe_mort_data['cum_years'] / swe_mort_data['count_at_start_of_period']\n",
    "swe_mort_LE.unstack()"
   ]
  },
  {
   "cell_type": "code",
   "execution_count": null,
   "metadata": {},
   "outputs": [],
   "source": [
    "swe_mort_LE.unstack().plot(y=0,style='o--')\n",
    "plt.ylim([70,85])"
   ]
  },
  {
   "cell_type": "code",
   "execution_count": null,
   "metadata": {},
   "outputs": [],
   "source": [
    "df = pd.DataFrame({'cat' : ['A','B','A','B','A','B','A','B','C','C'],\n",
    "                   'foo': range(10),\n",
    "                  'bar' : range(10) })\n",
    "\n",
    "df.apply(lambda row : row['foo'] + row['bar'],axis=1)"
   ]
  },
  {
   "cell_type": "code",
   "execution_count": null,
   "metadata": {},
   "outputs": [],
   "source": [
    "def get_swe_gender_data(url,query):\n",
    "    r = requests.post(url,json=query)\n",
    "    \n",
    "    if r.status_code != 200 :\n",
    "        print (r.status_code)\n",
    "    \n",
    "    data = pd.DataFrame.from_dict(r.json()['data'])\n",
    "    data[['area','age','gender','year']] = data['key'].to_list()\n",
    "    data['count'] = data['values'].apply(lambda x : x[0])\n",
    "    data['age'] = data['age'].apply(lambda x : x.replace('+','')).astype(int)\n",
    "    data.drop(['values','key','area'],axis=1,inplace=True)\n",
    "    data.set_index('year',inplace=True)\n",
    "    data['count'] = data['count'].astype(int)\n",
    "    data = data.groupby(['year','age','gender']).sum()\n",
    "    \n",
    "    return data\n",
    "    \n",
    "swe_gender_pop = get_swe_gender_data(pop_url,pop_query)\n",
    "swe_gender_dead = get_swe_gender_data(dead_url,dead_query)\n",
    "\n",
    "swe_gender_mort = (swe_gender_dead / swe_gender_pop).dropna()\n",
    "swe_gender_mort"
   ]
  },
  {
   "cell_type": "code",
   "execution_count": null,
   "metadata": {},
   "outputs": [],
   "source": [
    "idx = pd.IndexSlice\n",
    "swe_male_mort = swe_gender_mort.loc[idx[:,:,'1'],:].droplevel(2)\n",
    "swe_femal_mort = swe_gender_mort.loc[idx[:,:,'2'],:].droplevel(2)"
   ]
  },
  {
   "cell_type": "code",
   "execution_count": null,
   "metadata": {},
   "outputs": [],
   "source": [
    "ax = swe_male_mort.loc['2020'].plot()\n",
    "swe_female_mort.loc['2020'].plot(ax=ax)"
   ]
  },
  {
   "cell_type": "code",
   "execution_count": null,
   "metadata": {},
   "outputs": [],
   "source": [
    "swe_gender_mort_rel_diff = swe_male_mort / swe_female_mort\n",
    "swe_gender_mort_rel_diff"
   ]
  },
  {
   "cell_type": "code",
   "execution_count": null,
   "metadata": {},
   "outputs": [],
   "source": [
    "swe_gender_mort_abs_diff = swe_male_mort - swe_female_mort\n",
    "swe_gender_mort_abs_diff"
   ]
  },
  {
   "cell_type": "code",
   "execution_count": null,
   "metadata": {},
   "outputs": [],
   "source": [
    "swe_gender_rel_diff.loc['2020'].plot()"
   ]
  },
  {
   "cell_type": "code",
   "execution_count": null,
   "metadata": {},
   "outputs": [],
   "source": [
    "swe_gender_abs_diff.loc['2020'].plot()"
   ]
  },
  {
   "cell_type": "code",
   "execution_count": null,
   "metadata": {},
   "outputs": [],
   "source": [
    "swe_age_99_mort_baseline = swe_age_99_mort.loc['2015' : '2018'].mean()\n",
    "\n",
    "ax = swe_age_99_mort_baseline.plot(figsize=(18,12),ls = '--',color='black',marker='x',logy=True)\n",
    "swe_age_99_mort.loc['2020'].plot(ax=ax,ls='dashed',marker='o',markerfacecolor='none',color='red',logy=True)"
   ]
  },
  {
   "cell_type": "code",
   "execution_count": null,
   "metadata": {},
   "outputs": [],
   "source": [
    "ax = swe_age_99_mort.loc['2020'].plot(kind='bar',color='red',figsize=(18,12),label='2020')\n",
    "swe_age_99_mort_baseline.plot(kind='bar',facecolor='none',figsize=(18,12),edgecolor='black',ls='dashed',\n",
    "                             label='2015-2018 avg.')\n",
    "\n",
    "plt.legend(loc='upper left')"
   ]
  }
 ],
 "metadata": {
  "kernelspec": {
   "display_name": "Python 3",
   "language": "python",
   "name": "python3"
  },
  "language_info": {
   "codemirror_mode": {
    "name": "ipython",
    "version": 3
   },
   "file_extension": ".py",
   "mimetype": "text/x-python",
   "name": "python",
   "nbconvert_exporter": "python",
   "pygments_lexer": "ipython3",
   "version": "3.8.6"
  }
 },
 "nbformat": 4,
 "nbformat_minor": 4
}
