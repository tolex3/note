{
 "cells": [
  {
   "cell_type": "code",
   "execution_count": null,
   "metadata": {},
   "outputs": [],
   "source": [
    "import numpy as np\n",
    "import matplotlib.pyplot as plt\n",
    "import seaborn as sns\n",
    "import pandas as pd\n",
    "import pymc3 as pm\n",
    "from scipy.special import binom as bin_coeff\n",
    "\n",
    "sns.set()"
   ]
  },
  {
   "cell_type": "code",
   "execution_count": null,
   "metadata": {},
   "outputs": [],
   "source": [
    "bin_coeff(4,2)"
   ]
  },
  {
   "cell_type": "code",
   "execution_count": null,
   "metadata": {},
   "outputs": [],
   "source": [
    "### not a distribution b/c not summing to 1 ### \n",
    "def binomial_likelihood_func_by_grid_approx(n,k):\n",
    "    \n",
    "    p = np.linspace(0,1,10)\n",
    "    \n",
    "    prob = bin_coeff(n,k) * p ** k * (1-p) ** (n-k)\n",
    "    \n",
    "    return p,prob\n",
    "\n",
    "n = 9\n",
    "k = 6\n",
    "\n",
    "p,lkh = binomial_likelihood_by_grid_approx(n,k)\n",
    "\n",
    "\n",
    "plt.title('plausibility of getting {} successes in {} trials with p(success) == p'.format(k,n))\n",
    "plt.plot(p,lkh,'o--')\n",
    "plt.ylabel('plausibility')\n",
    "plt.xlabel('p')\n",
    "    "
   ]
  },
  {
   "cell_type": "code",
   "execution_count": null,
   "metadata": {},
   "outputs": [],
   "source": [
    "#prior = np.ones(len(p))\n",
    "#prior /= len(prior)\n",
    "\n",
    "prior = np.array([0,0,1,1,2,2,1,1,0,0])\n",
    "prior = prior / prior.sum()\n",
    "rel_posterior = prior * lkh\n",
    "posterior = rel_posterior / rel_posterior.sum()\n",
    "plt.plot(p,posterior,'o--',color='r')\n",
    "plt.plot(p,prior,'o--',color='b')\n",
    "plt.plot(p,lkh,'o--',color='g')"
   ]
  },
  {
   "cell_type": "code",
   "execution_count": null,
   "metadata": {},
   "outputs": [],
   "source": [
    "from itertools import product as prod\n",
    "\n",
    "list_ = [[0,1],[0,1],[0,1],[0,1]]\n",
    "outcome_space_2_of_4 = np.array(list(prod(*list_)))\n",
    "print (*list_)\n",
    "outcome_space_2_of_4"
   ]
  },
  {
   "cell_type": "code",
   "execution_count": null,
   "metadata": {},
   "outputs": [],
   "source": [
    "outcome_space_2_of_4[outcome_space_2_of_4.sum(axis=1) == 2]"
   ]
  },
  {
   "cell_type": "code",
   "execution_count": null,
   "metadata": {},
   "outputs": [],
   "source": [
    "### unpacking with asterisk ###\n",
    "l = [0,1,2,3,4,5]\n",
    "a,*b = l\n",
    "print (a,b)\n",
    "print (*l)"
   ]
  }
 ],
 "metadata": {
  "kernelspec": {
   "display_name": "Python 3",
   "language": "python",
   "name": "python3"
  },
  "language_info": {
   "codemirror_mode": {
    "name": "ipython",
    "version": 3
   },
   "file_extension": ".py",
   "mimetype": "text/x-python",
   "name": "python",
   "nbconvert_exporter": "python",
   "pygments_lexer": "ipython3",
   "version": "3.8.6"
  }
 },
 "nbformat": 4,
 "nbformat_minor": 4
}
