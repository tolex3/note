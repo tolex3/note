{
 "cells": [
  {
   "cell_type": "code",
   "execution_count": null,
   "metadata": {},
   "outputs": [],
   "source": [
    "import numpy as np\n",
    "import matplotlib.pyplot as plt\n",
    "import seaborn as sns\n",
    "import pandas as pd\n",
    "\n",
    "sns.set()"
   ]
  },
  {
   "cell_type": "code",
   "execution_count": null,
   "metadata": {},
   "outputs": [],
   "source": [
    "excel_file = 'https://www.svk.se/siteassets/1.om-kraftsystemet/kraftsystemdata/statistik/forbrukning-tillforsel-per-timme/n_fot2021-01-12.xls'"
   ]
  },
  {
   "cell_type": "code",
   "execution_count": null,
   "metadata": {},
   "outputs": [],
   "source": [
    "el = pd.ExcelFile(excel_file)"
   ]
  },
  {
   "cell_type": "code",
   "execution_count": null,
   "metadata": {},
   "outputs": [],
   "source": [
    "el.sheet_names"
   ]
  },
  {
   "cell_type": "code",
   "execution_count": null,
   "metadata": {},
   "outputs": [],
   "source": [
    "el_df = el.parse(el.sheet_names[0],skiprows=6,parse_dates=True,index_col=0)\n",
    "el_df = el_df.resample('d').mean()\n",
    "el_df"
   ]
  },
  {
   "cell_type": "code",
   "execution_count": null,
   "metadata": {},
   "outputs": [],
   "source": [
    "theta_per_day = 360/365"
   ]
  },
  {
   "cell_type": "code",
   "execution_count": null,
   "metadata": {},
   "outputs": [],
   "source": [
    "def map_time_to_theta(arr,time_unit):\n",
    "    return np.deg2rad(arr.dayofyear * time_unit)\n",
    "\n"
   ]
  },
  {
   "cell_type": "code",
   "execution_count": null,
   "metadata": {},
   "outputs": [],
   "source": [
    "fig = plt.figure(figsize=(18,12))\n",
    "ax = plt.subplot(111,projection='polar')\n",
    "ax.set_theta_zero_location('N')\n",
    "ax.set_theta_direction(-1)\n",
    "\n",
    "plt.title('SWEDEN 2021 Daily avg. Power Production [MW] by month: Wind,Nuclear,Solar,Water\\nDataSource : https://www.svk.se/om-kraftsystemet/kraftsystemdata/elstatistik/')\n",
    "\n",
    "ax.set_xticks (np.linspace(0,2*np.pi,12,endpoint=False))\n",
    "ax.set_xticklabels(range(1,13),rotation=90)\n",
    "\n",
    "ax.plot(map_time_to_theta(el_df.index,theta_per_day),el_df['Kärnkraft'],alpha=1,\n",
    "        label='Nuclear',color='red')\n",
    "ax.fill_between(map_time_to_theta(el_df.index,theta_per_day),el_df['Kärnkraft'],alpha=0.1,color='red')\n",
    "\n",
    "ax.plot(map_time_to_theta(el_df.index,theta_per_day),el_df['Solkraft'],alpha=1,\n",
    "        label='Solar',color='yellow')\n",
    "ax.fill_between(map_time_to_theta(el_df.index,theta_per_day),el_df['Solkraft'],alpha=1,color='yellow')\n",
    "\n",
    "ax.plot(map_time_to_theta(el_df.index,theta_per_day),el_df['Vattenkraft'],alpha=1,color='blue',\n",
    "       label='Water')\n",
    "\n",
    "ax.fill_between(map_time_to_theta(el_df.index,theta_per_day),el_df['Vattenkraft'],alpha=0.1,color='blue')\n",
    "\n",
    "ax.plot(map_time_to_theta(el_df.index,theta_per_day),el_df['Vindkraft'],alpha=0.9,\n",
    "       label='Wind',color='green')\n",
    "ax.fill_between(map_time_to_theta(el_df.index,theta_per_day),el_df['Vindkraft'],alpha=0.1,\n",
    "                color='green')\n",
    "\n",
    "ax.legend(loc='upper right')\n",
    "ax.set_xlabel('month')\n",
    "\n",
    "'''\n",
    "for label in ax.xaxis.get_ticklabels()[::2]:\n",
    "    label.set_visible(False)\n",
    "'''\n",
    "\n",
    "\n",
    "#ax.plot(map_time_to_theta(el_df.index,theta_per_day),el_df['Solkraft'],alpha=0.5,marker='o',ls='dashed')\n",
    "#ax.plot(map_time_to_theta(el_df.index,theta_per_day),el_df['Kärnkraft'],alpha=0.5,marker='o')\n",
    "#ax.plot(map_time_to_theta(el_df.index,theta_per_day),el_df['Vattenkraft'],alpha=0.5,marker='o')\n",
    "\n",
    "plt.savefig('elproduktion.jpg',format='jpg')\n",
    "\n"
   ]
  }
 ],
 "metadata": {
  "kernelspec": {
   "display_name": "Python 3",
   "language": "python",
   "name": "python3"
  },
  "language_info": {
   "codemirror_mode": {
    "name": "ipython",
    "version": 3
   },
   "file_extension": ".py",
   "mimetype": "text/x-python",
   "name": "python",
   "nbconvert_exporter": "python",
   "pygments_lexer": "ipython3",
   "version": "3.8.10"
  }
 },
 "nbformat": 4,
 "nbformat_minor": 4
}
