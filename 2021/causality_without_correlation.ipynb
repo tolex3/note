{
 "cells": [
  {
   "cell_type": "code",
   "execution_count": null,
   "metadata": {},
   "outputs": [],
   "source": [
    "import numpy as np\n",
    "import matplotlib.pyplot as plt\n",
    "import seaborn as sns\n",
    "import pandas as pd\n",
    "import scipy.stats as sps\n",
    "\n",
    "sns.set()"
   ]
  },
  {
   "cell_type": "code",
   "execution_count": null,
   "metadata": {},
   "outputs": [],
   "source": [
    "x = np.linspace(0,4 * np.pi,100)\n",
    "sin_x = np.sin(x)\n",
    "\n",
    "cos_x = np.cos(x) # no correlation\n",
    "#cos_x = np.cos(x-np.pi / 2) # phase shift pi / 2 ==> perfect correlation\n",
    "\n",
    "slope,intercept,_,_,_ = sps.linregress(sin_x,cos_x)\n",
    "print (slope,intercept)\n",
    "\n",
    "plt.plot(x,sin_x)\n",
    "plt.plot(x,cos_x)\n",
    "\n",
    "plt.plot(x,x * slope + intercept,ls='dashed',color='orange')"
   ]
  },
  {
   "cell_type": "code",
   "execution_count": null,
   "metadata": {},
   "outputs": [],
   "source": [
    "np.corrcoef(sin_x,cos_x)"
   ]
  },
  {
   "cell_type": "code",
   "execution_count": null,
   "metadata": {},
   "outputs": [],
   "source": [
    "### logistic map ###\n",
    "\n",
    "def logistic_map_x_i_plus_1(x_i,r):\n",
    "    return r * x_i * (1 - x_i)\n",
    "\n",
    "r = 3.9\n",
    "\n",
    "x_i = 0.1\n",
    "\n",
    "iterations = 100\n",
    "logistic_map = np.zeros(iterations)\n",
    "\n",
    "for i in range(iterations):\n",
    "    \n",
    "    x_i = logistic_map_x_i_plus_1(x_i,r)\n",
    "    logistic_map[i] = x_i\n",
    "    \n",
    "plt.figure(figsize=(18,12))\n",
    "plt.plot(logistic_map)"
   ]
  }
 ],
 "metadata": {
  "kernelspec": {
   "display_name": "Python 3",
   "language": "python",
   "name": "python3"
  },
  "language_info": {
   "codemirror_mode": {
    "name": "ipython",
    "version": 3
   },
   "file_extension": ".py",
   "mimetype": "text/x-python",
   "name": "python",
   "nbconvert_exporter": "python",
   "pygments_lexer": "ipython3",
   "version": "3.8.6"
  }
 },
 "nbformat": 4,
 "nbformat_minor": 4
}
