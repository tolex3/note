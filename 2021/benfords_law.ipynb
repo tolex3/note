{
 "cells": [
  {
   "cell_type": "code",
   "execution_count": 145,
   "metadata": {},
   "outputs": [],
   "source": [
    "import numpy as np\n",
    "import matplotlib.pyplot as plt\n",
    "import seaborn as sns\n",
    "import pandas as pd\n",
    "\n",
    "sns.set()"
   ]
  },
  {
   "cell_type": "code",
   "execution_count": 146,
   "metadata": {},
   "outputs": [],
   "source": [
    "arr = np.arange(1,10)\n",
    "\n",
    "def benfords_law(arr):\n",
    "    p_first_digit = np.log10(1 + 1 / arr)\n",
    "    return p_first_digit"
   ]
  },
  {
   "cell_type": "code",
   "execution_count": 147,
   "metadata": {},
   "outputs": [
    {
     "data": {
      "text/plain": [
       "array([0.30103   , 0.17609126, 0.12493874, 0.09691001, 0.07918125,\n",
       "       0.06694679, 0.05799195, 0.05115252, 0.04575749])"
      ]
     },
     "execution_count": 147,
     "metadata": {},
     "output_type": "execute_result"
    }
   ],
   "source": [
    "benfords_law(arr)"
   ]
  },
  {
   "cell_type": "code",
   "execution_count": 148,
   "metadata": {},
   "outputs": [],
   "source": [
    "def rel_freq(arr):\n",
    "    freq = pd.Series(arr.astype(str)).apply(lambda x : x[0]).astype(int).value_counts() \n",
    "    return freq / freq.sum()"
   ]
  },
  {
   "cell_type": "code",
   "execution_count": 149,
   "metadata": {},
   "outputs": [
    {
     "data": {
      "text/plain": [
       "1    0.4\n",
       "2    0.3\n",
       "3    0.2\n",
       "4    0.1\n",
       "dtype: float64"
      ]
     },
     "execution_count": 149,
     "metadata": {},
     "output_type": "execute_result"
    }
   ],
   "source": [
    "rel_freq(np.array([1,1,1,1,2,2,2,3,3,4]))"
   ]
  },
  {
   "cell_type": "code",
   "execution_count": 150,
   "metadata": {
    "scrolled": false
   },
   "outputs": [],
   "source": [
    "table = pd.read_html('https://data.val.se/val/val2018/slutresultat/R/rike/index.html')\n",
    "table3 = table[3][:-6]\n",
    "vote_2018_first_digit_count = table3['Antal2018'].astype(str).apply(lambda x : x[0]).astype(int).value_counts()\n",
    "vote_2018_freq = vote_2018_first_digit_count / vote_2018_first_digit_count.sum()\n",
    "vote_2018_freq.sort_index(inplace=True)"
   ]
  },
  {
   "cell_type": "code",
   "execution_count": 151,
   "metadata": {},
   "outputs": [
    {
     "data": {
      "text/plain": [
       "1    3\n",
       "5    2\n",
       "2    2\n",
       "6    1\n",
       "4    1\n",
       "3    1\n",
       "Name: Antal2018, dtype: int64"
      ]
     },
     "execution_count": 151,
     "metadata": {},
     "output_type": "execute_result"
    }
   ],
   "source": [
    "vote_2018_first_digit_count"
   ]
  },
  {
   "cell_type": "code",
   "execution_count": 152,
   "metadata": {},
   "outputs": [
    {
     "data": {
      "text/html": [
       "<div>\n",
       "<style scoped>\n",
       "    .dataframe tbody tr th:only-of-type {\n",
       "        vertical-align: middle;\n",
       "    }\n",
       "\n",
       "    .dataframe tbody tr th {\n",
       "        vertical-align: top;\n",
       "    }\n",
       "\n",
       "    .dataframe thead th {\n",
       "        text-align: right;\n",
       "    }\n",
       "</style>\n",
       "<table border=\"1\" class=\"dataframe\">\n",
       "  <thead>\n",
       "    <tr style=\"text-align: right;\">\n",
       "      <th></th>\n",
       "      <th>Förk.</th>\n",
       "      <th>Parti</th>\n",
       "      <th>Antal2018</th>\n",
       "      <th>Andel2018</th>\n",
       "      <th>Antal+/-</th>\n",
       "      <th>Andel+/-</th>\n",
       "      <th>Antal2014</th>\n",
       "      <th>Andel2014</th>\n",
       "    </tr>\n",
       "  </thead>\n",
       "  <tbody>\n",
       "    <tr>\n",
       "      <th>0</th>\n",
       "      <td>M</td>\n",
       "      <td>Moderaterna</td>\n",
       "      <td>1284698</td>\n",
       "      <td>19,84%</td>\n",
       "      <td>-168819</td>\n",
       "      <td>-349</td>\n",
       "      <td>1453517.0</td>\n",
       "      <td>23,33%</td>\n",
       "    </tr>\n",
       "    <tr>\n",
       "      <th>1</th>\n",
       "      <td>C</td>\n",
       "      <td>Centerpartiet</td>\n",
       "      <td>557500</td>\n",
       "      <td>8,61%</td>\n",
       "      <td>176563</td>\n",
       "      <td>+2,49</td>\n",
       "      <td>380937.0</td>\n",
       "      <td>6,11%</td>\n",
       "    </tr>\n",
       "    <tr>\n",
       "      <th>2</th>\n",
       "      <td>L</td>\n",
       "      <td>Liberalerna (tidigare Folkpartiet)</td>\n",
       "      <td>355546</td>\n",
       "      <td>5,49%</td>\n",
       "      <td>17773</td>\n",
       "      <td>+0,07</td>\n",
       "      <td>337773.0</td>\n",
       "      <td>5,42%</td>\n",
       "    </tr>\n",
       "    <tr>\n",
       "      <th>3</th>\n",
       "      <td>KD</td>\n",
       "      <td>Kristdemokraterna</td>\n",
       "      <td>409478</td>\n",
       "      <td>6,32%</td>\n",
       "      <td>124672</td>\n",
       "      <td>+1,75</td>\n",
       "      <td>284806.0</td>\n",
       "      <td>4,57%</td>\n",
       "    </tr>\n",
       "    <tr>\n",
       "      <th>4</th>\n",
       "      <td>S</td>\n",
       "      <td>Arbetarepartiet-Socialdemokraterna</td>\n",
       "      <td>1830386</td>\n",
       "      <td>28,26%</td>\n",
       "      <td>-102325</td>\n",
       "      <td>-275</td>\n",
       "      <td>1932711.0</td>\n",
       "      <td>31,01%</td>\n",
       "    </tr>\n",
       "    <tr>\n",
       "      <th>5</th>\n",
       "      <td>V</td>\n",
       "      <td>Vänsterpartiet</td>\n",
       "      <td>518454</td>\n",
       "      <td>8,00%</td>\n",
       "      <td>162123</td>\n",
       "      <td>+2,29</td>\n",
       "      <td>356331.0</td>\n",
       "      <td>5,72%</td>\n",
       "    </tr>\n",
       "    <tr>\n",
       "      <th>6</th>\n",
       "      <td>MP</td>\n",
       "      <td>Miljöpartiet de gröna</td>\n",
       "      <td>285899</td>\n",
       "      <td>4,41%</td>\n",
       "      <td>-143376</td>\n",
       "      <td>-247</td>\n",
       "      <td>429275.0</td>\n",
       "      <td>6,89%</td>\n",
       "    </tr>\n",
       "    <tr>\n",
       "      <th>7</th>\n",
       "      <td>SD</td>\n",
       "      <td>Sverigedemokraterna</td>\n",
       "      <td>1135627</td>\n",
       "      <td>17,53%</td>\n",
       "      <td>334449</td>\n",
       "      <td>+4,68</td>\n",
       "      <td>801178.0</td>\n",
       "      <td>12,86%</td>\n",
       "    </tr>\n",
       "    <tr>\n",
       "      <th>8</th>\n",
       "      <td>FI</td>\n",
       "      <td>Feministiskt initiativ</td>\n",
       "      <td>29665</td>\n",
       "      <td>0,46%</td>\n",
       "      <td>-165054</td>\n",
       "      <td>-267</td>\n",
       "      <td>194719.0</td>\n",
       "      <td>3,12%</td>\n",
       "    </tr>\n",
       "    <tr>\n",
       "      <th>9</th>\n",
       "      <td>ÖVR</td>\n",
       "      <td>Övriga anmälda partier</td>\n",
       "      <td>69472</td>\n",
       "      <td>1,07%</td>\n",
       "      <td>9146</td>\n",
       "      <td>+0,10</td>\n",
       "      <td>60326.0</td>\n",
       "      <td>0,97%</td>\n",
       "    </tr>\n",
       "  </tbody>\n",
       "</table>\n",
       "</div>"
      ],
      "text/plain": [
       "  Förk.                               Parti  Antal2018 Andel2018  Antal+/-  \\\n",
       "0     M                         Moderaterna    1284698    19,84%   -168819   \n",
       "1     C                       Centerpartiet     557500     8,61%    176563   \n",
       "2     L  Liberalerna (tidigare Folkpartiet)     355546     5,49%     17773   \n",
       "3    KD                   Kristdemokraterna     409478     6,32%    124672   \n",
       "4     S  Arbetarepartiet-Socialdemokraterna    1830386    28,26%   -102325   \n",
       "5     V                      Vänsterpartiet     518454     8,00%    162123   \n",
       "6    MP               Miljöpartiet de gröna     285899     4,41%   -143376   \n",
       "7    SD                 Sverigedemokraterna    1135627    17,53%    334449   \n",
       "8    FI              Feministiskt initiativ      29665     0,46%   -165054   \n",
       "9   ÖVR              Övriga anmälda partier      69472     1,07%      9146   \n",
       "\n",
       "  Andel+/-  Antal2014 Andel2014  \n",
       "0     -349  1453517.0    23,33%  \n",
       "1    +2,49   380937.0     6,11%  \n",
       "2    +0,07   337773.0     5,42%  \n",
       "3    +1,75   284806.0     4,57%  \n",
       "4     -275  1932711.0    31,01%  \n",
       "5    +2,29   356331.0     5,72%  \n",
       "6     -247   429275.0     6,89%  \n",
       "7    +4,68   801178.0    12,86%  \n",
       "8     -267   194719.0     3,12%  \n",
       "9    +0,10    60326.0     0,97%  "
      ]
     },
     "execution_count": 152,
     "metadata": {},
     "output_type": "execute_result"
    }
   ],
   "source": [
    "table3"
   ]
  },
  {
   "cell_type": "code",
   "execution_count": 153,
   "metadata": {},
   "outputs": [
    {
     "data": {
      "text/plain": [
       "1    0.3\n",
       "2    0.2\n",
       "3    0.1\n",
       "4    0.1\n",
       "5    0.2\n",
       "6    0.1\n",
       "Name: Antal2018, dtype: float64"
      ]
     },
     "execution_count": 153,
     "metadata": {},
     "output_type": "execute_result"
    }
   ],
   "source": [
    "vote_2018_freq"
   ]
  },
  {
   "cell_type": "code",
   "execution_count": 154,
   "metadata": {},
   "outputs": [
    {
     "data": {
      "image/png": "[encoded data removed]",
      "text/plain": [
       "<Figure size 1296x864 with 1 Axes>"
      ]
     },
     "metadata": {},
     "output_type": "display_data"
    }
   ],
   "source": [
    "benford_dist = benfords_law(arr)\n",
    "fig = plt.figure(figsize=(18,12))\n",
    "\n",
    "plt.title('Benfords Law vs. Antal Röster per Parti Valet 2018')\n",
    "plt.plot(arr,benford_dist,ls='dashed',marker='o',label='Benfords Law')\n",
    "plt.plot(vote_2018_freq.index,vote_2018_freq,label='Röster per parti Val 2018',ls='dashed',marker='o')\n",
    "plt.legend(loc='upper right')\n",
    "plt.ylabel('P(digit)')\n",
    "plt.xlabel('digit')\n",
    "\n",
    "plt.savefig('benfords_law_val_2018.jpg',format='jpg')"
   ]
  },
  {
   "cell_type": "code",
   "execution_count": 165,
   "metadata": {},
   "outputs": [
    {
     "data": {
      "text/html": [
       "<div>\n",
       "<style scoped>\n",
       "    .dataframe tbody tr th:only-of-type {\n",
       "        vertical-align: middle;\n",
       "    }\n",
       "\n",
       "    .dataframe tbody tr th {\n",
       "        vertical-align: top;\n",
       "    }\n",
       "\n",
       "    .dataframe thead th {\n",
       "        text-align: right;\n",
       "    }\n",
       "</style>\n",
       "<table border=\"1\" class=\"dataframe\">\n",
       "  <thead>\n",
       "    <tr style=\"text-align: right;\">\n",
       "      <th></th>\n",
       "      <th>Totalt_antal_fall</th>\n",
       "    </tr>\n",
       "    <tr>\n",
       "      <th>Statistikdatum</th>\n",
       "      <th></th>\n",
       "    </tr>\n",
       "  </thead>\n",
       "  <tbody>\n",
       "    <tr>\n",
       "      <th>2020-02-04</th>\n",
       "      <td>1</td>\n",
       "    </tr>\n",
       "    <tr>\n",
       "      <th>2020-02-26</th>\n",
       "      <td>1</td>\n",
       "    </tr>\n",
       "    <tr>\n",
       "      <th>2020-02-27</th>\n",
       "      <td>1</td>\n",
       "    </tr>\n",
       "    <tr>\n",
       "      <th>2020-02-28</th>\n",
       "      <td>8</td>\n",
       "    </tr>\n",
       "    <tr>\n",
       "      <th>2020-02-29</th>\n",
       "      <td>3</td>\n",
       "    </tr>\n",
       "    <tr>\n",
       "      <th>...</th>\n",
       "      <td>...</td>\n",
       "    </tr>\n",
       "    <tr>\n",
       "      <th>2022-01-20</th>\n",
       "      <td>43721</td>\n",
       "    </tr>\n",
       "    <tr>\n",
       "      <th>2022-01-21</th>\n",
       "      <td>39811</td>\n",
       "    </tr>\n",
       "    <tr>\n",
       "      <th>2022-01-22</th>\n",
       "      <td>37719</td>\n",
       "    </tr>\n",
       "    <tr>\n",
       "      <th>2022-01-23</th>\n",
       "      <td>30989</td>\n",
       "    </tr>\n",
       "    <tr>\n",
       "      <th>2022-01-24</th>\n",
       "      <td>28367</td>\n",
       "    </tr>\n",
       "  </tbody>\n",
       "</table>\n",
       "<p>693 rows × 1 columns</p>\n",
       "</div>"
      ],
      "text/plain": [
       "                Totalt_antal_fall\n",
       "Statistikdatum                   \n",
       "2020-02-04                      1\n",
       "2020-02-26                      1\n",
       "2020-02-27                      1\n",
       "2020-02-28                      8\n",
       "2020-02-29                      3\n",
       "...                           ...\n",
       "2022-01-20                  43721\n",
       "2022-01-21                  39811\n",
       "2022-01-22                  37719\n",
       "2022-01-23                  30989\n",
       "2022-01-24                  28367\n",
       "\n",
       "[693 rows x 1 columns]"
      ]
     },
     "execution_count": 165,
     "metadata": {},
     "output_type": "execute_result"
    }
   ],
   "source": [
    "fhm_daily_dead = pd.read_pickle('fhm_daily_positive.pkl')\n",
    "fhm_daily_dead = fhm_daily_dead.loc[fhm_daily_dead['Totalt_antal_fall'] > 0]\n",
    "fhm_daily_dead"
   ]
  },
  {
   "cell_type": "code",
   "execution_count": 167,
   "metadata": {},
   "outputs": [
    {
     "data": {
      "text/plain": [
       "1    0.235209\n",
       "2    0.163059\n",
       "3    0.138528\n",
       "4    0.119769\n",
       "6    0.098124\n",
       "7    0.083694\n",
       "5    0.082251\n",
       "8    0.050505\n",
       "9    0.028860\n",
       "Name: Totalt_antal_fall, dtype: float64"
      ]
     },
     "execution_count": 167,
     "metadata": {},
     "output_type": "execute_result"
    }
   ],
   "source": [
    "fhm_daily_dead_freq = rel_freq(fhm_daily_dead['Totalt_antal_fall'])\n",
    "fhm_daily_dead_freq"
   ]
  },
  {
   "cell_type": "code",
   "execution_count": 169,
   "metadata": {},
   "outputs": [
    {
     "data": {
      "text/plain": [
       "[<matplotlib.lines.Line2D at 0x7f1fa778ddf0>]"
      ]
     },
     "execution_count": 169,
     "metadata": {},
     "output_type": "execute_result"
    },
    {
     "data": {
      "image/png": "[encoded data removed]",
      "text/plain": [
       "<Figure size 432x288 with 1 Axes>"
      ]
     },
     "metadata": {},
     "output_type": "display_data"
    }
   ],
   "source": [
    "ax = fhm_daily_dead_freq.plot(ls='dashed',marker='o')\n",
    "ax.plot(arr,benford_dist,marker='o')"
   ]
  }
 ],
 "metadata": {
  "kernelspec": {
   "display_name": "Python 3",
   "language": "python",
   "name": "python3"
  },
  "language_info": {
   "codemirror_mode": {
    "name": "ipython",
    "version": 3
   },
   "file_extension": ".py",
   "mimetype": "text/x-python",
   "name": "python",
   "nbconvert_exporter": "python",
   "pygments_lexer": "ipython3",
   "version": "3.8.10"
  }
 },
 "nbformat": 4,
 "nbformat_minor": 4
}
