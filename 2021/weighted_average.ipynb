{
 "cells": [
  {
   "cell_type": "code",
   "execution_count": null,
   "metadata": {},
   "outputs": [],
   "source": [
    "import numpy as np\n",
    "import matplotlib.pyplot as plt\n",
    "import seaborn as sns\n",
    "import pandas as pd\n",
    "\n",
    "sns.set()\n",
    "''' Note that by calculating mortality by taking the sum of deaths and dividing by sum of pop, for all\n",
    "    age groups, we get the correct avg. mortality. \n",
    "    If we instead average over the age grp specific mortalities, we get a misleading number.\n",
    "    Note also that by taking the formal weighted average of the age grp specific mortality rates, \n",
    "    we get the same answer as when working with the absolute dead and pop numbers. \n",
    "'''\n"
   ]
  },
  {
   "cell_type": "code",
   "execution_count": null,
   "metadata": {},
   "outputs": [],
   "source": [
    "df = pd.DataFrame({'age' : ['0-9','10-19','20-29','30-39','40-49','50-59','60-69','70-79',\n",
    "                           '80-89','90-99','100+'],\n",
    "                  'pop' : [100,1000,10000,10000,10000,10000,10000,10000,10000,10000,10000],\n",
    "                  'dead' : [1,5,1000,1100,1200,1300,1400,1500,1600,1700,1800]})\n",
    "\n",
    "df['mortality'] = df['dead'] / df['pop']\n",
    "\n",
    "total_mort = df['dead'].sum() / df['pop'].sum()\n",
    "\n",
    "print ('total mortality ',total_mort)\n",
    "\n",
    "df"
   ]
  },
  {
   "cell_type": "code",
   "execution_count": null,
   "metadata": {},
   "outputs": [],
   "source": [
    "### note that you can't sum averages from different groups - with enough groups, you get > 100% mortality ! ###\n",
    "### however, you can sum monthly mortalities for a cohort to a yearly mortality, ###\n",
    "### as in post SWEDEN FINAL SUMMARY ###\n",
    "\n",
    "df['mortality'].sum()"
   ]
  },
  {
   "cell_type": "code",
   "execution_count": null,
   "metadata": {},
   "outputs": [],
   "source": [
    "from IPython.display import Image, display,Latex\n",
    "\n",
    "display(Latex(r'$\\frac{\\sum_{i=1}^n weight_i * data_i}{\\sum_{i=1}^n weight_i}$'))"
   ]
  },
  {
   "cell_type": "code",
   "execution_count": null,
   "metadata": {},
   "outputs": [],
   "source": [
    "\n",
    "weighted_mortality = ( df['pop'] * df['mortality'] ).sum() / df['pop'].sum()\n",
    "weighted_mortality"
   ]
  },
  {
   "cell_type": "code",
   "execution_count": null,
   "metadata": {},
   "outputs": [],
   "source": [
    "avg_mortality = df['mortality'].mean()\n",
    "avg_mortality"
   ]
  },
  {
   "cell_type": "code",
   "execution_count": null,
   "metadata": {},
   "outputs": [],
   "source": [
    "### Baseball Batting Example ###\n",
    "\n",
    "df_baseball = pd.DataFrame({'A_bats' : [4,40],'A_hits' : [1,15],\n",
    "                  'B_bats' : [10,5],'B_hits' : [3,2]},index=['1H','2H'])\n",
    "\n",
    "df_baseball"
   ]
  },
  {
   "cell_type": "code",
   "execution_count": null,
   "metadata": {},
   "outputs": [],
   "source": [
    "df_baseball.loc['full_season'] = df_baseball.sum()\n"
   ]
  },
  {
   "cell_type": "code",
   "execution_count": null,
   "metadata": {},
   "outputs": [],
   "source": [
    "df_baseball"
   ]
  },
  {
   "cell_type": "code",
   "execution_count": null,
   "metadata": {},
   "outputs": [],
   "source": [
    "df_baseball['A_avg'] = df_baseball['A_hits'] / df_baseball['A_bats']\n",
    "df_baseball['B_avg'] = df_baseball['B_hits'] / df_baseball['B_bats']\n",
    "\n",
    "df_baseball"
   ]
  },
  {
   "cell_type": "code",
   "execution_count": null,
   "metadata": {},
   "outputs": [],
   "source": [
    "### Naive averaging ###\n",
    "df_baseball.loc[:'2H',['A_avg','B_avg']].mean()"
   ]
  },
  {
   "cell_type": "code",
   "execution_count": null,
   "metadata": {},
   "outputs": [],
   "source": [
    "baseball_weighted_avg_A = ( df_baseball.loc[:'2H','A_bats'] *\\\n",
    "                           df_baseball.loc[:'2H','A_avg'] ).sum() / df_baseball.loc[:'2H','A_bats'].sum()\n",
    "\n",
    "baseball_weighted_avg_B = ( df_baseball.loc[:'2H','B_bats'] *\\\n",
    "                           df_baseball.loc[:'2H','B_avg'] ).sum() / df_baseball.loc[:'2H','B_bats'].sum()\n",
    "\n",
    "print (baseball_weighted_avg_A)\n",
    "print (baseball_weighted_avg_B)"
   ]
  },
  {
   "cell_type": "code",
   "execution_count": null,
   "metadata": {},
   "outputs": [],
   "source": [
    "### example grades ###\n",
    "\n",
    "grades = pd.DataFrame({'Grade' : [1,2,3,4,5,5]})\n",
    "grades"
   ]
  },
  {
   "cell_type": "code",
   "execution_count": null,
   "metadata": {},
   "outputs": [],
   "source": [
    "grades.mean()"
   ]
  },
  {
   "cell_type": "code",
   "execution_count": null,
   "metadata": {},
   "outputs": [],
   "source": [
    "weights = np.array([1,1,1,1,2])\n",
    "unique_grades = grades['Grade'].unique() \n",
    "print (weights)\n",
    "print (unique_grades)"
   ]
  },
  {
   "cell_type": "code",
   "execution_count": null,
   "metadata": {},
   "outputs": [],
   "source": [
    "weighted_grades = (weights * unique_grades).sum() / weights.sum()\n",
    "print (weighted_grades)"
   ]
  },
  {
   "cell_type": "code",
   "execution_count": null,
   "metadata": {},
   "outputs": [],
   "source": [
    "### SECTION ###\n",
    "\n",
    "pop_data = pd.DataFrame({'pop' : [900,100],'dead' : [9,50]},index=['A','B'])\n",
    "                        \n",
    "\n",
    "pop_data.at['tot'] = pop_data.sum()\n",
    "\n",
    "pop_data['mort'] = pop_data['dead'] / pop_data['pop']\n",
    "\n",
    "weighted_avg = (pop_data.loc['A','mort'] * pop_data.loc['A','pop'] +\\\n",
    "pop_data.loc['B','mort'] * pop_data.loc['B','pop']) / (pop_data.loc['A','pop'] + pop_data.loc['B','pop'])\n",
    "\n",
    "print (weighted_avg)\n",
    "print ( ( pop_data.loc['A','mort'] + pop_data.loc['B','mort'] ) / 2 )\n",
    "\n",
    "pop_data\n",
    "\n"
   ]
  }
 ],
 "metadata": {
  "kernelspec": {
   "display_name": "Python 3",
   "language": "python",
   "name": "python3"
  },
  "language_info": {
   "codemirror_mode": {
    "name": "ipython",
    "version": 3
   },
   "file_extension": ".py",
   "mimetype": "text/x-python",
   "name": "python",
   "nbconvert_exporter": "python",
   "pygments_lexer": "ipython3",
   "version": "3.8.6"
  }
 },
 "nbformat": 4,
 "nbformat_minor": 4
}
