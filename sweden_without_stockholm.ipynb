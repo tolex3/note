{
 "cells": [
  {
   "cell_type": "code",
   "execution_count": null,
   "metadata": {},
   "outputs": [],
   "source": [
    "import pandas as pd\n",
    "\n",
    "dick = pd.read_pickle('country_data.pkl')\n",
    "\n",
    "swe = dick['Sweden']\n",
    "swe"
   ]
  },
  {
   "cell_type": "code",
   "execution_count": null,
   "metadata": {},
   "outputs": [],
   "source": [
    "swe_minus_sth = swe.copy()\n",
    "swe_minus_sth['confirmed'] *= 0.54\n",
    "swe_minus_sth['deceased'] *= 0.37\n",
    "swe_minus_sth['factor'] = swe_minus_sth['confirmed'] / swe_minus_sth['confirmed'].shift()\n",
    "swe_minus_sth['inc'] = swe_minus_sth['confirmed'] -  swe_minus_sth['confirmed'].shift()\n",
    "swe_minus_sth['dead_factor'] = swe_minus_sth['deceased'] / swe_minus_sth['deceased'].shift()\n",
    "swe_minus_sth['dead_inc'] = swe_minus_sth['deceased'] - swe_minus_sth['deceased'].shift()\n",
    "swe_minus_sth['pct_dead'] = 100 * swe_minus_sth['deceased'] / swe_minus_sth['confirmed']\n",
    "swe_minus_sth['conf_over_dead'] = swe_minus_sth['confirmed'] / swe_minus_sth['deceased']\n",
    "swe_minus_sth['dead_conf_ratio'] = swe_minus_sth['deceased'] / swe_minus_sth['confirmed']\n",
    "swe_minus_sth\n"
   ]
  },
  {
   "cell_type": "code",
   "execution_count": null,
   "metadata": {},
   "outputs": [],
   "source": [
    "dick['Sweden_without_Stockholm'] = swe_minus_sth\n",
    "import pickle\n",
    "\n",
    "with open ('country_data.pkl','wb') as f:\n",
    "\n",
    "    pickle.dump(dick,f,pickle.HIGHEST_PROTOCOL)"
   ]
  }
 ],
 "metadata": {
  "kernelspec": {
   "display_name": "Python 3",
   "language": "python",
   "name": "python3"
  },
  "language_info": {
   "codemirror_mode": {
    "name": "ipython",
    "version": 3
   },
   "file_extension": ".py",
   "mimetype": "text/x-python",
   "name": "python",
   "nbconvert_exporter": "python",
   "pygments_lexer": "ipython3",
   "version": "3.6.9"
  }
 },
 "nbformat": 4,
 "nbformat_minor": 4
}
