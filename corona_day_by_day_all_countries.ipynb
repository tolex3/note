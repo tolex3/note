{
 "cells": [
  {
   "cell_type": "code",
   "execution_count": null,
   "metadata": {},
   "outputs": [],
   "source": [
    "import numpy as np\n",
    "import matplotlib.pyplot as plt\n",
    "import seaborn as sns\n",
    "import pandas as pd\n",
    "import pymc as pm\n",
    "from pymc.Matplot import plot as pmplot\n",
    "\n",
    "sns.set()"
   ]
  },
  {
   "cell_type": "code",
   "execution_count": null,
   "metadata": {},
   "outputs": [],
   "source": [
    "dick = pd.read_pickle('country_data.pkl')\n",
    "\n",
    "def strip(x):\n",
    "    return x.replace('\\t','')\n",
    "\n",
    "country_populations = pd.read_csv('world_pop.csv',\n",
    "                                  sep=';',header=None,index_col=0,names=['population'],\n",
    "                                        thousands=',',converters={0 : strip})\n",
    "\n"
   ]
  },
  {
   "cell_type": "code",
   "execution_count": null,
   "metadata": {},
   "outputs": [],
   "source": [
    "US = pd.read_pickle('us_state_dict.pkl')\n",
    "ny = US['New York']\n",
    "ny.index = pd.DatetimeIndex(ny.index)\n",
    "\n",
    "dick['New York'] = ny\n",
    "ny"
   ]
  },
  {
   "cell_type": "code",
   "execution_count": null,
   "metadata": {},
   "outputs": [],
   "source": [
    "ita = dick['Italy']\n",
    "us = dick['US']\n",
    "swe =dick['Sweden']\n",
    "ita.tail(60)"
   ]
  },
  {
   "cell_type": "code",
   "execution_count": null,
   "metadata": {},
   "outputs": [],
   "source": [
    "countries = ['Sweden','Italy','Spain','US','New York','Germany',\n",
    "             'Netherlands','Turkey']\n",
    "\n",
    "dead_df = pd.DataFrame()\n",
    "\n",
    "for c in countries:\n",
    "    country = pd.DataFrame(dick[c])\n",
    "    D = pd.DataFrame(country['dead_inc'])\n",
    "    \n",
    "    D['dead_inc'] = D['dead_inc'] / (country_populations.loc[c,'population'] / 1e6)\n",
    "    \n",
    "    D.reset_index(inplace=True,drop=True)\n",
    "    \n",
    "    zero_or_nan = (D.ne(0) & ~D.isna())\n",
    "    \n",
    "    first_non_zero = zero_or_nan.idxmax().values[0]\n",
    "    \n",
    "    D = D.loc[first_non_zero:]\n",
    "    \n",
    "    D.reset_index(inplace=True,drop=True)\n",
    "    \n",
    "    D.rename(columns={'dead_inc' : c},inplace=True)\n",
    "    \n",
    "    dead_df = pd.concat([dead_df,D],axis=1)\n",
    "\n",
    "\n",
    "dead_df.tail(100)\n"
   ]
  },
  {
   "cell_type": "code",
   "execution_count": null,
   "metadata": {},
   "outputs": [],
   "source": [
    "sns.set()\n",
    "sns.set_style('darkgrid')\n",
    "\n",
    "plt.figure(figsize=(18,12))\n",
    "plt.title('Corona deaths per day per million frequency distribution')\n",
    "plt.ylabel('deaths per day per million')\n",
    "\n",
    "sns.violinplot(data=dead_df,scale='count')\n",
    "plt.savefig('violin_plot_deaths_per_day.jpg',format='jpg')"
   ]
  },
  {
   "cell_type": "code",
   "execution_count": null,
   "metadata": {
    "scrolled": false
   },
   "outputs": [],
   "source": [
    "#plt.style.use('whitegrid')\n",
    "sns.set_style('darkgrid')\n",
    "dead_df.plot(figsize=(18,12),colormap='tab10')\n",
    "plt.title('Corona - Deaths per day per million habitants',color='crimson',size=20)\n",
    "plt.xlabel('day number after 1 dead',color='crimson',size=15)\n",
    "plt.ylabel('dead per day per million',color='crimson',size=15)\n",
    "plt.savefig('deaths_per_M_per_day.jpg',format='jpg')\n"
   ]
  },
  {
   "cell_type": "code",
   "execution_count": null,
   "metadata": {},
   "outputs": [],
   "source": [
    "plt.figure(figsize=(18,12))\n",
    "bins = 5\n",
    "plt.subplot(511)\n",
    "plt.hist(dead_df['Sweden'],histtype='stepfilled',color='yellow',alpha=0.5,label='Sweden',bins=bins)\n",
    "plt.legend(loc='upper right')\n",
    "plt.subplot(512)\n",
    "plt.hist(dead_df['Italy'],histtype='stepfilled',color='lime',alpha=0.5,label='Italy',bins=bins)\n",
    "plt.legend(loc='upper right')\n",
    "plt.subplot(513)\n",
    "plt.hist(dead_df['Spain'],histtype='stepfilled',color='crimson',alpha=0.5,label='Spain',bins=bins)\n",
    "plt.legend(loc='upper right')\n",
    "plt.subplot(514)\n",
    "plt.hist(dead_df['US'],histtype='stepfilled',color='navy',alpha=0.5,label='US',bins=bins)\n",
    "plt.legend(loc='upper right')\n",
    "plt.subplot(515)\n",
    "plt.hist(dead_df['New York'],histtype='stepfilled',color='c',alpha=0.5,label='New York',bins=bins)\n",
    "plt.legend(loc='upper right')"
   ]
  }
 ],
 "metadata": {
  "kernelspec": {
   "display_name": "Python 3",
   "language": "python",
   "name": "python3"
  },
  "language_info": {
   "codemirror_mode": {
    "name": "ipython",
    "version": 3
   },
   "file_extension": ".py",
   "mimetype": "text/x-python",
   "name": "python",
   "nbconvert_exporter": "python",
   "pygments_lexer": "ipython3",
   "version": "3.6.9"
  }
 },
 "nbformat": 4,
 "nbformat_minor": 4
}
