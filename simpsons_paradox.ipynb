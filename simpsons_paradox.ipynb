{
 "cells": [
  {
   "cell_type": "code",
   "execution_count": null,
   "metadata": {},
   "outputs": [],
   "source": [
    "import numpy as np\n",
    "import matplotlib.pyplot as plt\n",
    "import seaborn as sns\n",
    "import pandas as pd\n",
    "\n",
    "sns.set()\n"
   ]
  },
  {
   "cell_type": "code",
   "execution_count": null,
   "metadata": {},
   "outputs": [],
   "source": [
    "df = pd.read_csv('../../statistical_rethinking/rethinking/data/UCBadmit.csv',sep=';')\n",
    "\n",
    "df.rename(columns={'applicant.gender' : 'gender'},inplace=True)\n",
    "df"
   ]
  },
  {
   "cell_type": "code",
   "execution_count": null,
   "metadata": {
    "scrolled": false
   },
   "outputs": [],
   "source": [
    "pivot = pd.pivot_table(df,index='dept',columns='gender',values=['admit','applications'],\n",
    "                       aggfunc=sum,margins=True)\n",
    "\n",
    "pivot['applications_f'] = pivot[('applications','female')] / pivot[('applications','All')]\n",
    "pivot['applications_m'] = pivot[('applications','male')] / pivot[('applications','All')]\n",
    "pivot['f_choice'] = pivot[('applications','female')] / pivot.loc['All',('applications','female')]\n",
    "pivot['m_choice'] = pivot[('applications','male')] / pivot.loc['All',('applications','male')]\n",
    "pivot['admit_pct_f'] = pivot[('admit','female')] / pivot[('applications','female')]\n",
    "pivot['admit_pct_m'] = pivot[('admit','male')] / pivot[('applications','male')]\n",
    "pivot['admit_pct_tot'] = pivot[('admit','All')] / pivot[('applications','All')]\n",
    "pivot['female_less'] = pivot['admit_pct_f'] < pivot['admit_pct_m']\n",
    "pivot"
   ]
  },
  {
   "cell_type": "code",
   "execution_count": null,
   "metadata": {
    "scrolled": false
   },
   "outputs": [],
   "source": [
    "pivot[['applications_f','applications_m','f_choice','m_choice','admit_pct_f','admit_pct_m']].plot.bar(figsize=(18,12),\n",
    "                                                                                color=['red','blue','orange','green','pink','cyan'])\n",
    "plt.title('UCBAdmissions example')\n",
    "plt.ylabel('ratio applications,admissions')"
   ]
  },
  {
   "cell_type": "code",
   "execution_count": null,
   "metadata": {},
   "outputs": [],
   "source": [
    "pivot"
   ]
  },
  {
   "cell_type": "code",
   "execution_count": null,
   "metadata": {},
   "outputs": [],
   "source": [
    "pivot2 = pivot.copy()\n",
    "pivot.drop([('applications','All'),('admit','All')],axis=1,inplace=True)\n",
    "pivot[['applications','admit']].plot.bar(stacked=False,figsize=(18,12),color=['red','blue','pink','cyan'])\n"
   ]
  },
  {
   "cell_type": "code",
   "execution_count": null,
   "metadata": {
    "scrolled": false
   },
   "outputs": [],
   "source": [
    "plt.figure(figsize=(18,12))\n",
    "delta = 0.2\n",
    "xticks = ['A','B','C','D','E','F','All']\n",
    "\n",
    "plt.bar(np.arange(len(pivot.index)) - delta/2,pivot[('applications','female')],\n",
    "        width=delta,color='red',alpha=0.6,label='female applications')\n",
    "\n",
    "plt.bar(np.arange(len(pivot.index)) - delta/2,pivot[('admit','female')],\n",
    "        width=delta,color='pink',label='female admissions')\n",
    "\n",
    "plt.bar(np.arange(len(pivot.index)) + delta/2,pivot[('applications','male')],\n",
    "        width=delta,color='blue',alpha=0.6,label='male applications')\n",
    "\n",
    "plt.bar(np.arange(len(pivot.index)) + delta/2,pivot[('admit','male')],\n",
    "        width=delta,color='cyan',label='male admissions')\n",
    "\n",
    "plt.xticks(np.arange(len(pivot.index)),xticks)\n",
    "plt.xlabel('Department')\n",
    "plt.ylabel('Number')\n",
    "plt.legend(loc='upper left')"
   ]
  },
  {
   "cell_type": "code",
   "execution_count": null,
   "metadata": {
    "scrolled": false
   },
   "outputs": [],
   "source": [
    "plt.figure(figsize=(18,12))\n",
    "\n",
    "plt.bar(np.arange(len(pivot2.index)) - delta/2,\n",
    "        pivot2[('applications','female')],width=delta,color='red',label='female applications')\n",
    "\n",
    "plt.bar(np.arange(len(pivot2.index)) - delta/2,pivot2[('applications','male')],width=delta,color='blue',\n",
    "        bottom=pivot2[('applications','female')],label='male applications')\n",
    "\n",
    "plt.bar(np.arange(len(pivot2.index)) + delta/2,\n",
    "        pivot2[('admit','female')],width=delta,color='pink',label='female admissionss')\n",
    "\n",
    "plt.bar(np.arange(len(pivot2.index)) + delta/2,pivot2[('admit','male')],width=delta,color='cyan',\n",
    "        bottom=pivot2[('admit','female')],label='male admissions')\n",
    "\n",
    "\n",
    "plt.legend(loc='upper left')\n",
    "plt.xticks(np.arange(len(pivot.index)),xticks)\n"
   ]
  },
  {
   "cell_type": "code",
   "execution_count": null,
   "metadata": {},
   "outputs": [],
   "source": [
    "plt.figure(figsize=(18,12))\n",
    "plt.title('gender ratios in applications & class')\n",
    "\n",
    "alpha = 1.0\n",
    "\n",
    "plt.bar(np.arange(len(pivot2.index)) - delta/2,pivot2[('applications','female')] / pivot2[('applications','All')],\n",
    "        color='red',edgecolor='k',label='applications female',alpha=alpha,width=delta)\n",
    "\n",
    "plt.bar(np.arange(len(pivot2.index)) - delta/2,pivot2[('applications','male')] / pivot2[('applications','All')],\n",
    "        edgecolor='k',color='blue',width=delta,\n",
    "       bottom=pivot2[('applications','female')] / pivot2[('applications','All')],label='applications male',alpha=alpha)\n",
    "\n",
    "plt.bar(np.arange(len(pivot2.index)) + delta/2,pivot2[('admit','female')] / pivot2[('admit','All')],edgecolor='k',ls='--',\n",
    "        color='pink',alpha=alpha,label='admit female',width=delta)\n",
    "\n",
    "plt.bar(np.arange(len(pivot2.index)) + delta/2,pivot2[('admit','male')] / pivot2[('admit','All')],edgecolor='k',ls='--',\n",
    "        color='cyan',\n",
    "        alpha=alpha,label='admit male',width=delta,bottom=pivot2[('admit','female')] /pivot2[('admit','All')] )\n",
    "\n",
    "plt.legend(loc='upper left')\n",
    "plt.xticks(np.arange(len(pivot.index)),xticks)\n",
    "plt.ylabel('ratio')\n",
    "plt.xlabel('Department')\n",
    "plt.savefig('simpsons_paradox_gender_ratios.jpg',format='jpg')"
   ]
  },
  {
   "cell_type": "code",
   "execution_count": null,
   "metadata": {},
   "outputs": [],
   "source": [
    "pivot2"
   ]
  }
 ],
 "metadata": {
  "kernelspec": {
   "display_name": "Python 3",
   "language": "python",
   "name": "python3"
  },
  "language_info": {
   "codemirror_mode": {
    "name": "ipython",
    "version": 3
   },
   "file_extension": ".py",
   "mimetype": "text/x-python",
   "name": "python",
   "nbconvert_exporter": "python",
   "pygments_lexer": "ipython3",
   "version": "3.6.9"
  }
 },
 "nbformat": 4,
 "nbformat_minor": 4
}
