{
 "cells": [
  {
   "cell_type": "code",
   "execution_count": null,
   "metadata": {},
   "outputs": [],
   "source": [
    "import numpy as np\n",
    "import matplotlib.pyplot as plt\n",
    "import seaborn as sns\n",
    "import pandas as pd\n",
    "from scipy.fft import fft,fftfreq\n",
    "\n",
    "sns.set()"
   ]
  },
  {
   "cell_type": "code",
   "execution_count": null,
   "metadata": {},
   "outputs": [],
   "source": [
    "def cart2pol(x, y):\n",
    "    rho = np.sqrt(x**2 + y**2)\n",
    "    phi = np.arctan2(y, x)\n",
    "    return(rho, phi)\n",
    "\n",
    "def pol2cart(rho, phi):\n",
    "    x = rho * np.cos(phi)\n",
    "    y = rho * np.sin(phi)\n",
    "    return(x, y)"
   ]
  },
  {
   "cell_type": "code",
   "execution_count": null,
   "metadata": {},
   "outputs": [],
   "source": [
    "print (r'$\\pi$')"
   ]
  },
  {
   "cell_type": "code",
   "execution_count": null,
   "metadata": {},
   "outputs": [],
   "source": [
    "t = np.arange(0,1.1,0.1)\n",
    "freq = 1\n",
    "\n",
    "power = np.cos(freq * np.pi * 2 * t) + 1\n",
    "\n",
    "plt.figure(figsize=(18,12))\n",
    "\n",
    "ax = plt.gca()\n",
    "\n",
    "ax.plot(t,power,'o--')\n",
    "\n",
    "NUM_TICKS = 11\n",
    "\n",
    "ax2_ticks = ['0','','','','',r'$\\frac{\\pi}{1}$','','','','',r'2$\\pi$']\n",
    "\n",
    "ax.set_xticks(np.arange(0,1.1,0.1))\n",
    "\n",
    "ax.yaxis.set_major_locator(plt.LinearLocator(numticks=NUM_TICKS))\n",
    "ax.set_xlabel('time')\n",
    "\n",
    "ax2 = ax.twiny()\n",
    "\n",
    "ax2.plot(t,power) # needed to align grid\n",
    "ax2.set_xticks(np.arange(0,1.1,0.1))\n",
    "ax2.set_xticklabels(ax2_ticks,size=15)\n",
    "\n",
    "ax2.set_xlabel(r'$\\phi$',size=15)\n",
    "ax2.yaxis.set_major_locator(plt.LinearLocator(numticks=NUM_TICKS))\n",
    "\n",
    "\n",
    "\n"
   ]
  },
  {
   "cell_type": "code",
   "execution_count": null,
   "metadata": {},
   "outputs": [],
   "source": [
    "def wrap(amp,t,Hz):\n",
    "    x,y = pol2cart(amp,t * Hz * 2 * np.pi)\n",
    "    return (x,y)\n"
   ]
  },
  {
   "cell_type": "code",
   "execution_count": null,
   "metadata": {},
   "outputs": [],
   "source": [
    "x,y = wrap(power,t,1)\n",
    "plt.figure(figsize=(5,5))\n",
    "plt.plot(x,y,'o--')\n",
    "#plt.xlim([-2,2])\n",
    "#plt.ylim([-2,2])\n",
    "plt.ylabel('theta')\n",
    "plt.xlabel('rho')"
   ]
  },
  {
   "cell_type": "code",
   "execution_count": null,
   "metadata": {},
   "outputs": [],
   "source": [
    "# matching wrapping freq\n",
    "\n",
    "plt.figure(figsize=(5,5))\n",
    "plt.polar(t * freq * np.pi * 2 ,power,'o--')"
   ]
  },
  {
   "cell_type": "code",
   "execution_count": null,
   "metadata": {},
   "outputs": [],
   "source": [
    "\n",
    "\n",
    "fi =  2 * np.pi * t \n",
    "fi"
   ]
  },
  {
   "cell_type": "code",
   "execution_count": null,
   "metadata": {},
   "outputs": [],
   "source": [
    "plt.plot(fi,power)"
   ]
  },
  {
   "cell_type": "code",
   "execution_count": null,
   "metadata": {},
   "outputs": [],
   "source": [
    "plt.polar(fi,power,'o--')"
   ]
  },
  {
   "cell_type": "code",
   "execution_count": null,
   "metadata": {},
   "outputs": [],
   "source": [
    "x_trig = power * np.cos(fi)\n",
    "y_trig = power * np.sin(fi)"
   ]
  },
  {
   "cell_type": "code",
   "execution_count": null,
   "metadata": {},
   "outputs": [],
   "source": [
    "plt.plot(x_trig,y_trig,'o--')"
   ]
  }
 ],
 "metadata": {
  "kernelspec": {
   "display_name": "Python 3",
   "language": "python",
   "name": "python3"
  },
  "language_info": {
   "codemirror_mode": {
    "name": "ipython",
    "version": 3
   },
   "file_extension": ".py",
   "mimetype": "text/x-python",
   "name": "python",
   "nbconvert_exporter": "python",
   "pygments_lexer": "ipython3",
   "version": "3.8.6"
  }
 },
 "nbformat": 4,
 "nbformat_minor": 4
}
