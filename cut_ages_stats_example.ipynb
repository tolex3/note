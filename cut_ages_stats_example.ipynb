{
 "cells": [
  {
   "cell_type": "code",
   "execution_count": null,
   "metadata": {},
   "outputs": [],
   "source": [
    "# test how binning impacts mean, median etc #\n",
    "import numpy as np\n",
    "import matplotlib.pyplot as plt\n",
    "import seaborn as sns\n",
    "import pandas as pd\n",
    "\n",
    "sns.set()"
   ]
  },
  {
   "cell_type": "code",
   "execution_count": null,
   "metadata": {},
   "outputs": [],
   "source": [
    "np.random.seed(666)\n",
    "\n",
    "left_tail = np.random.beta(5,3,10000)\n",
    "left_tail = left_tail * 100\n",
    "plt.hist(left_tail)\n",
    "left_tail"
   ]
  },
  {
   "cell_type": "code",
   "execution_count": null,
   "metadata": {},
   "outputs": [],
   "source": [
    "bins = np.arange(0,105,10)\n",
    "bins\n",
    "bin_labels = [ (bins[i] + bins[i+1]) / 2  for i in np.arange(len(bins)-1 )]\n",
    "len (bin_labels)"
   ]
  },
  {
   "cell_type": "code",
   "execution_count": null,
   "metadata": {},
   "outputs": [],
   "source": [
    "df = pd.DataFrame({'age' : left_tail})\n",
    "df.sort_values('age',inplace=True)\n",
    "df.plot(kind='hist')\n",
    "\n",
    "\n",
    "binned_age,bins = pd.cut(df['age'],bins,retbins=True,labels=bin_labels)\n",
    "df['bin_age'] = binned_age\n",
    "df['bin_age'] = df['bin_age'].astype(float)\n",
    "df['int_age'] = df['age'].astype(int)\n",
    "df['ceil_age'] = np.ceil(df['age'])\n",
    "\n",
    "freq_table = df['bin_age'].value_counts()\n",
    "\n",
    "\n",
    "df\n",
    "\n"
   ]
  },
  {
   "cell_type": "code",
   "execution_count": null,
   "metadata": {},
   "outputs": [],
   "source": [
    "df.agg(['mean','median'])"
   ]
  }
 ],
 "metadata": {
  "kernelspec": {
   "display_name": "Python 3",
   "language": "python",
   "name": "python3"
  },
  "language_info": {
   "codemirror_mode": {
    "name": "ipython",
    "version": 3
   },
   "file_extension": ".py",
   "mimetype": "text/x-python",
   "name": "python",
   "nbconvert_exporter": "python",
   "pygments_lexer": "ipython3",
   "version": "3.8.6"
  }
 },
 "nbformat": 4,
 "nbformat_minor": 4
}
