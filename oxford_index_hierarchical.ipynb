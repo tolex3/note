{
 "cells": [
  {
   "cell_type": "code",
   "execution_count": null,
   "metadata": {},
   "outputs": [],
   "source": [
    "import numpy as np\n",
    "import matplotlib.pyplot as plt\n",
    "import seaborn as sns\n",
    "import pandas as pd\n",
    "import pymc3 as pm\n",
    "import requests\n",
    "import scipy.stats as sps\n",
    "import arviz as az\n",
    "\n",
    "az.rcParams[\"stats.hdi_prob\"] = 0.89  # sets default credible interval used by arviz\n",
    "\n",
    "sns.set()"
   ]
  },
  {
   "cell_type": "code",
   "execution_count": null,
   "metadata": {},
   "outputs": [],
   "source": [
    "start_date = '2020-03-01'\n",
    "end_date = '2020-08-27'\n",
    "\n",
    "url = 'https://covidtrackerapi.bsg.ox.ac.uk/api/v2/stringency/date-range/{}/{}'.format(start_date,end_date)\n",
    "\n",
    "r = requests.get(url,timeout=5.0)\n",
    "r.status_code"
   ]
  },
  {
   "cell_type": "code",
   "execution_count": null,
   "metadata": {},
   "outputs": [],
   "source": [
    "keys = pd.date_range(start_date,end_date)\n",
    "keys"
   ]
  },
  {
   "cell_type": "code",
   "execution_count": null,
   "metadata": {},
   "outputs": [],
   "source": [
    "json = r.json()\n",
    "data = json['data']\n",
    "countries = json['countries']"
   ]
  },
  {
   "cell_type": "code",
   "execution_count": null,
   "metadata": {},
   "outputs": [],
   "source": [
    "data_list = []\n",
    "\n",
    "for k in keys:\n",
    "    date = k.date().strftime('%Y-%m-%d')\n",
    "    for c in countries:\n",
    "        try:\n",
    "            data_list.append((date,c,data[date][c]['confirmed'],data[date][c]['deaths'],data[date][c]['stringency']))\n",
    "        except KeyError:\n",
    "            pass"
   ]
  },
  {
   "cell_type": "code",
   "execution_count": null,
   "metadata": {},
   "outputs": [],
   "source": [
    "df = pd.DataFrame(data_list,columns=['date','country','confirmed','dead','oxford_stringency'])\n",
    "df['date'] = pd.to_datetime(df['date'])\n",
    "df.set_index(['country','date'],inplace=True)\n",
    "df.dropna(inplace=True)\n",
    "\n",
    "df"
   ]
  },
  {
   "cell_type": "code",
   "execution_count": null,
   "metadata": {},
   "outputs": [],
   "source": [
    "population = pd.read_csv('world_pop.csv',sep=';',thousands=',',header=None,index_col=0)\n",
    "population.columns=['pop']\n",
    "population.index.name='country'\n",
    "population"
   ]
  },
  {
   "cell_type": "code",
   "execution_count": null,
   "metadata": {},
   "outputs": [],
   "source": [
    "three_letter_abb = pd.read_csv('three_letter_country_abb.csv',sep=';',header=None,index_col=2)\n",
    "three_letter_abb = three_letter_abb[0]\n",
    "three_letter_abb.loc['GBR']"
   ]
  },
  {
   "cell_type": "code",
   "execution_count": null,
   "metadata": {},
   "outputs": [],
   "source": [
    "df = df.reset_index(level=1)"
   ]
  },
  {
   "cell_type": "code",
   "execution_count": null,
   "metadata": {},
   "outputs": [],
   "source": [
    "df = df.join(three_letter_abb)\n",
    "df.rename(columns={0 : 'country'},inplace=True)\n",
    "df"
   ]
  },
  {
   "cell_type": "code",
   "execution_count": null,
   "metadata": {},
   "outputs": [],
   "source": [
    "df = df.merge(population,left_on='country',right_on=population.index)\n",
    "df['dead_per_M'] = df['dead'] / (df['pop'] / 1e6)\n",
    "df"
   ]
  },
  {
   "cell_type": "code",
   "execution_count": null,
   "metadata": {},
   "outputs": [],
   "source": [
    "three_letter_abb.name='country'\n",
    "three_letter_abb.index.name='abb'\n",
    "three_letter_abb = pd.DataFrame(three_letter_abb)\n",
    "three_letter_abb.columns=['country']\n",
    "three_letter_abb.reset_index(inplace=True)"
   ]
  },
  {
   "cell_type": "code",
   "execution_count": null,
   "metadata": {},
   "outputs": [],
   "source": [
    "def standardize(series):\n",
    "    return (series - series.mean()) / series.std()"
   ]
  },
  {
   "cell_type": "code",
   "execution_count": null,
   "metadata": {},
   "outputs": [],
   "source": [
    "df = df.merge(three_letter_abb,left_on='country',right_on='country')\n",
    "\n",
    "df['dead_per_M_std'] = standardize(df['dead_per_M'])\n",
    "df['ox_std'] = standardize(df['oxford_stringency'])\n",
    "\n",
    "df.dropna(inplace=True)\n",
    "\n",
    "mask = (df['confirmed'] > 100)\n",
    "df = df[mask]\n",
    "\n",
    "df"
   ]
  },
  {
   "cell_type": "code",
   "execution_count": null,
   "metadata": {},
   "outputs": [],
   "source": [
    "swe = df.loc[df['abb'] == 'SWE']\n",
    "uk = df.loc[df['abb'] == 'GBR']\n",
    "us = df.loc[df['abb'] == 'USA']\n",
    "bel = df.loc[df['abb'] == 'BEL']\n",
    "aus = df.loc[df['abb'] == 'AUS']"
   ]
  },
  {
   "cell_type": "code",
   "execution_count": null,
   "metadata": {},
   "outputs": [],
   "source": [
    "df"
   ]
  },
  {
   "cell_type": "code",
   "execution_count": null,
   "metadata": {
    "scrolled": false
   },
   "outputs": [],
   "source": [
    "\n",
    "def shift_and_merge(shift=0):\n",
    "    temp = pd.DataFrame()\n",
    "\n",
    "\n",
    "    country_groups = df.groupby('abb')\n",
    "\n",
    "    for country_abb in country_groups.groups.keys():\n",
    "        country = country_groups.get_group(country_abb).copy()\n",
    "        country['dead_inc'] = country['dead'] - country['dead'].shift()\n",
    "        country['dead_per_M_inc'] = country['dead_per_M'] - country['dead_per_M'].shift()\n",
    "        country['dead_per_M_inc_std'] = standardize(country['dead_per_M_inc'])\n",
    "        country['dead_per_M_change']  = country['dead_per_M_inc'] - country['dead_per_M_inc'].shift()\n",
    "        country['dead_per_M_change_std'] = standardize(country['dead_per_M_change'])\n",
    "        country.dropna(inplace=True)\n",
    "        temp = pd.concat([temp,country])\n",
    "        \n",
    "    return temp"
   ]
  },
  {
   "cell_type": "code",
   "execution_count": null,
   "metadata": {
    "scrolled": false
   },
   "outputs": [],
   "source": [
    "shift = 21\n",
    "\n",
    "all_shifted = shift_and_merge(shift=shift)\n",
    "\n",
    "all_shifted.dropna(inplace=True)\n",
    "all_shifted.reset_index(inplace=True,drop=True)\n",
    "\n",
    "all_shifted"
   ]
  },
  {
   "cell_type": "code",
   "execution_count": null,
   "metadata": {
    "scrolled": false
   },
   "outputs": [],
   "source": [
    "country_idx_map = dict(zip(all_shifted['abb'].unique(),range(len(all_shifted['abb']))))\n",
    "\n",
    "inv_map = {v: k for k, v in country_idx_map.items()}\n",
    "\n",
    "all_shifted['country_idx'] = all_shifted['abb'].apply(lambda x : country_idx_map[x])\n",
    "all_shifted"
   ]
  },
  {
   "cell_type": "code",
   "execution_count": null,
   "metadata": {},
   "outputs": [],
   "source": [
    "swe = all_shifted.loc[all_shifted['abb'] == 'SWE']\n",
    "print (swe.max())\n",
    "print (swe.min())"
   ]
  },
  {
   "cell_type": "code",
   "execution_count": null,
   "metadata": {
    "scrolled": false
   },
   "outputs": [],
   "source": [
    "inv_map"
   ]
  },
  {
   "cell_type": "code",
   "execution_count": null,
   "metadata": {},
   "outputs": [],
   "source": [
    "swe = all_shifted.loc[all_shifted['abb'] == 'SWE']\n",
    "per = all_shifted.loc[all_shifted['abb'] == 'PER']\n",
    "swe"
   ]
  },
  {
   "cell_type": "code",
   "execution_count": null,
   "metadata": {},
   "outputs": [],
   "source": [
    "# hierarcical model\n",
    "\n",
    "# standardized values\n",
    "\n",
    "# MODEL\n",
    "# inc_deaths_per_M ~ Normal(req,obs_sigma)\n",
    "# req = alpha[country_idx] + beta[country_idx] * ox_idx\n",
    "# alpha ~ Normal(alpha_bar,alpha_sd)\n",
    "# alpha_bar ~ Normal(0,1)\n",
    "# alpha_sd ~ Exponential(1)\n",
    "# beta ~ Normal(beta_bar,beta_sd)\n",
    "# beta_bar ~ Normal(0,1)\n",
    "# beta_sd ~ Exponential(1)\n",
    "#\n",
    "x = all_shifted['ox_std'].values\n",
    "country_idx = all_shifted['country_idx'].values\n",
    "\n",
    "model = pm.Model()\n",
    "\n",
    "summary = pd.DataFrame()\n",
    "result = pd.DataFrame()\n",
    "\n",
    "with model:\n",
    "    \n",
    "    obs_sigma = pm.Exponential('obs_sigma',1)\n",
    "\n",
    "    alpha_bar = pm.Normal('alpha_bar',mu=0,sd=1)\n",
    "    alpha_sd = pm.Exponential('alpha_sd',1)\n",
    "\n",
    "    beta_bar = pm.Normal('beta_bar',mu=0,sd=1)\n",
    "    beta_sd = pm.Exponential('beta_sd',1)\n",
    "\n",
    "    alpha = pm.Normal('alpha',mu=alpha_bar,sd=alpha_sd,shape=len(country_idx_map))\n",
    "    beta = pm.Normal('beta',mu=beta_bar,sd=beta_sd,shape=len(country_idx_map))\n",
    "\n",
    "    reg = alpha[country_idx] + beta[country_idx] * x\n",
    "    \n",
    "    lkh = pm.Normal('lkh',mu=reg,sd=obs_sigma,observed=all_shifted['dead_per_M_inc_std'])\n",
    "    \n",
    "    trace = pm.sample(500,tune=500)\n",
    "    \n",
    "    result = pm.trace_to_dataframe(trace)\n",
    "    summary = az.summary(trace)\n",
    "    print (summary)"
   ]
  },
  {
   "cell_type": "code",
   "execution_count": null,
   "metadata": {
    "scrolled": false
   },
   "outputs": [],
   "source": [
    "with model:\n",
    "    az.plot_trace(trace)"
   ]
  },
  {
   "cell_type": "code",
   "execution_count": null,
   "metadata": {},
   "outputs": [],
   "source": [
    "result.describe()"
   ]
  },
  {
   "cell_type": "code",
   "execution_count": null,
   "metadata": {},
   "outputs": [],
   "source": [
    "def param_type(colName):\n",
    "    if 'bar' in colName :\n",
    "        return colName\n",
    "    \n",
    "    elif 'sd' in colName:\n",
    "        return colName\n",
    "    \n",
    "    elif 'beta' in colName :\n",
    "        return 'beta'\n",
    "    elif 'alpha' in colName:\n",
    "        return 'alpha'\n",
    "    else:\n",
    "        return colName\n",
    "    \n",
    "grp = result.groupby(param_type,axis=1)\n",
    "\n",
    "alphas = grp.get_group('alpha')\n",
    "betas = grp.get_group('beta')\n",
    "obs_sigma = grp.get_group('obs_sigma')\n",
    "alpha_bar = grp.get_group('alpha_bar')\n",
    "alpha_sd = grp.get_group('alpha_sd')\n",
    "beta_bar = grp.get_group('beta_bar')\n",
    "beta_sd = grp.get_group('beta_sd')\n"
   ]
  },
  {
   "cell_type": "code",
   "execution_count": null,
   "metadata": {},
   "outputs": [],
   "source": [
    "alphas"
   ]
  },
  {
   "cell_type": "code",
   "execution_count": null,
   "metadata": {},
   "outputs": [],
   "source": [
    "nr_rows = 500\n",
    "nr_x = 100\n",
    "\n",
    "rows = np.random.choice(range(len(alphas)),replace=True,size=nr_rows)\n",
    "\n",
    "X = np.linspace(-2,2,nr_x)\n",
    "\n",
    "alpha_samples = alphas.iloc[rows]\n",
    "beta_samples = betas.iloc[rows]\n",
    "\n",
    "lines = np.array([X[i] * beta_samples for i in range(len(X))])\n",
    "\n",
    "lines = lines + alpha_samples.values\n",
    "#lines[:,:,country_idx_map['SWE']]\n",
    "lines[:,:,0]"
   ]
  },
  {
   "cell_type": "code",
   "execution_count": null,
   "metadata": {},
   "outputs": [],
   "source": [
    "_= plt.plot(X,lines[:,:,country_idx_map['SWE']],color='r',alpha=0.01)"
   ]
  },
  {
   "cell_type": "code",
   "execution_count": null,
   "metadata": {},
   "outputs": [],
   "source": [
    "mean_betas = betas.mean()\n",
    "mean_betas.index = list(country_idx_map.keys())\n",
    "mean_betas.loc['SWE']"
   ]
  },
  {
   "cell_type": "code",
   "execution_count": null,
   "metadata": {},
   "outputs": [],
   "source": [
    "mean_alphas = alphas.mean()\n",
    "mean_alphas.index = list(country_idx_map.keys())\n",
    "mean_alphas.loc['SWE']"
   ]
  },
  {
   "cell_type": "code",
   "execution_count": null,
   "metadata": {},
   "outputs": [],
   "source": [
    "mean_betas.sort_values()[:50].plot(kind='bar',figsize=(18,12))\n",
    "plt.savefig('ox_hierarchical_0_50_shift_{}.jpg'.format(shift),format='jpg')"
   ]
  },
  {
   "cell_type": "code",
   "execution_count": null,
   "metadata": {},
   "outputs": [],
   "source": [
    "mean_betas.sort_values()[50:100].plot(kind='bar',figsize=(18,12))\n",
    "plt.savefig('ox_hierarchical_50__100_shift_{}.jpg'.format(shift),format='jpg')"
   ]
  },
  {
   "cell_type": "code",
   "execution_count": null,
   "metadata": {},
   "outputs": [],
   "source": [
    "mean_betas.sort_values()[100:].plot(kind='bar',figsize=(18,12))\n",
    "plt.savefig('ox_hierarchical_100_shift_{}.jpg'.format(shift),format='jpg')"
   ]
  },
  {
   "cell_type": "code",
   "execution_count": null,
   "metadata": {
    "scrolled": false
   },
   "outputs": [],
   "source": [
    "def plot_reg(country_abb):\n",
    "    fill_kwargs = {'alpha': 0.3}\n",
    "\n",
    "    country = all_shifted.loc[all_shifted['abb'] == country_abb]\n",
    "    \n",
    "    #X = np.linspace(country['ox_std'].min(),country['ox_std'].max(),100)\n",
    "    \n",
    "    ax= country.plot(x='ox_std',y='dead_per_M_inc_std',style='o',figsize=(18,12),\n",
    "                    title=country_abb.upper())\n",
    "    \n",
    "    ax.plot(X,lines[:,:,country_idx_map[country_abb]],color='r',alpha=0.01)\n",
    "    \n",
    "    \n",
    "    az.plot_hdi(X,lines[:,:,country_idx_map[country_abb]].T,ax=ax,hdi_prob=0.89,\n",
    "               fill_kwargs=fill_kwargs,color='m')\n",
    "    \n",
    "    plt.xlabel('ox_stringency [standardized]')\n",
    "    plt.ylabel('daily change of increment deaths per Million [standardized]')\n",
    "    plt.savefig('ox_hierarchical_reg_{}_shift_{}.jpg'.format(country_abb,shift),format='jpg')\n",
    "\n",
    "country_abbs = ['SWE','ARG','PER','GBR','USA','ITA','ISR','ZAF','URY','CHL','BEL','ESP','CRI','DNK','FIN']\n",
    "\n",
    "for c in country_abbs:\n",
    "    plot_reg(c)\n"
   ]
  },
  {
   "cell_type": "code",
   "execution_count": null,
   "metadata": {},
   "outputs": [],
   "source": [
    "betas.columns = list(country_idx_map.keys())\n",
    "alphas.columns = list(country_idx_map.keys())\n",
    "\n",
    "beta_CIs = betas.quantile([0.055,0.945])\n",
    "alpha_CIs = alphas.quantile([0.055,0.945])\n",
    "\n",
    "beta_means = betas.mean()\n",
    "alpha_means = alphas.mean()\n",
    "alpha_CIs.loc[0.055,'SWE']"
   ]
  },
  {
   "cell_type": "code",
   "execution_count": null,
   "metadata": {},
   "outputs": [],
   "source": [
    "ca = 'SWE'\n",
    "alpha_CIs.loc[0.055,ca]"
   ]
  },
  {
   "cell_type": "code",
   "execution_count": null,
   "metadata": {
    "scrolled": false
   },
   "outputs": [],
   "source": [
    "r,c = 5,3 #rows,cols\n",
    "\n",
    "fill_kwargs = {'alpha': 1}\n",
    "\n",
    "\n",
    "fig,axes = plt.subplots(r,c,sharex=True,sharey=True,figsize=(18,12))\n",
    "\n",
    "for i,ca in enumerate(country_abbs):\n",
    "    \n",
    "    country = all_shifted.loc[all_shifted['abb'] == ca]\n",
    "    \n",
    "    label = r'$\\alpha$: {:.2f} CI: {:.2f}..{:.2f} $\\beta$: {:.2f} CI: {:.2f}..{:.2f}'.format(\n",
    "    alpha_means[ca],alpha_CIs.loc[0.055,ca],alpha_CIs.loc[0.945,ca],\n",
    "    beta_means[ca],beta_CIs.loc[0.055,ca],beta_CIs.loc[0.945,ca])\n",
    "\n",
    "    axes[i % r,i % c].plot(country['ox_std'],country['dead_per_M_inc_std'],'o',color='crimson')\n",
    "    \n",
    "    #X = np.linspace(country['ox_std'].min(),country['ox_std'].max(),nr_x)\n",
    "    X = np.linspace(-2,2,nr_x)\n",
    "    \n",
    "    axes[i % r,i % c].plot(X,lines[:,:,country_idx_map[ca]],color='orange',alpha=0.01)\n",
    "    \n",
    "    axes[i % r, i % c].plot(X,alpha_means[ca] + X * beta_means[ca],color='k',\n",
    "                            ls='dashed',label=label)\n",
    "    \n",
    "    axes[i % r,i % c].set_title(ca)\n",
    "    axes[i % r, i % c].set_ylabel('inc dead per M [std]')\n",
    "    axes[i % r, i % c].set_xlabel('Oxford Stringency [std]')\n",
    "    axes[i % r, i % c].legend(loc='upper left')\n",
    "    \n",
    "    az.plot_hpd(X, lines[:,:,country_idx_map[ca]].T,ax=axes[i % r,i % c],\n",
    "                color='m',fill_kwargs=fill_kwargs,hdi_prob=0.89)\n",
    "    \n",
    "    \n",
    "fig.suptitle('Regression Oxford Index --> Daily Inc deaths per M, deaths shifted {} days\\n standardized values'.format(shift))\n",
    "    \n",
    "plt.tight_layout()\n",
    "plt.savefig('ox_hierarchical_multi_shifted_{}.jpg'.format(shift),format='jpg')"
   ]
  },
  {
   "cell_type": "code",
   "execution_count": null,
   "metadata": {},
   "outputs": [],
   "source": [
    "all_shifted.loc[all_shifted['abb'] == 'CRI']"
   ]
  },
  {
   "cell_type": "code",
   "execution_count": null,
   "metadata": {},
   "outputs": [],
   "source": [
    "betas['CRI'].plot(kind='hist')"
   ]
  }
 ],
 "metadata": {
  "kernelspec": {
   "display_name": "Python 3",
   "language": "python",
   "name": "python3"
  },
  "language_info": {
   "codemirror_mode": {
    "name": "ipython",
    "version": 3
   },
   "file_extension": ".py",
   "mimetype": "text/x-python",
   "name": "python",
   "nbconvert_exporter": "python",
   "pygments_lexer": "ipython3",
   "version": "3.8.5"
  }
 },
 "nbformat": 4,
 "nbformat_minor": 4
}
