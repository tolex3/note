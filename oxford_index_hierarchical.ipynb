{
 "cells": [
  {
   "cell_type": "code",
   "execution_count": null,
   "metadata": {},
   "outputs": [],
   "source": [
    "import numpy as np\n",
    "import matplotlib.pyplot as plt\n",
    "import seaborn as sns\n",
    "import pandas as pd\n",
    "import pymc3 as pm\n",
    "import requests\n",
    "import scipy.stats as sps\n",
    "import arviz as az\n",
    "\n",
    "az.rcParams[\"stats.hdi_prob\"] = 0.89  # sets default credible interval used by arviz\n",
    "\n",
    "sns.set()"
   ]
  },
  {
   "cell_type": "code",
   "execution_count": null,
   "metadata": {},
   "outputs": [],
   "source": [
    "start_date = '2020-03-01'\n",
    "end_date = '2020-11-01'\n",
    "\n",
    "url = 'https://covidtrackerapi.bsg.ox.ac.uk/api/v2/stringency/date-range/{}/{}'.format(start_date,end_date)\n",
    "\n",
    "r = requests.get(url,timeout=5.0)\n",
    "r.status_code"
   ]
  },
  {
   "cell_type": "code",
   "execution_count": null,
   "metadata": {},
   "outputs": [],
   "source": [
    "keys = pd.date_range(start_date,end_date)\n",
    "keys"
   ]
  },
  {
   "cell_type": "code",
   "execution_count": null,
   "metadata": {},
   "outputs": [],
   "source": [
    "json = r.json()\n",
    "data = json['data']\n",
    "countries = json['countries']"
   ]
  },
  {
   "cell_type": "code",
   "execution_count": null,
   "metadata": {},
   "outputs": [],
   "source": [
    "data_list = []\n",
    "\n",
    "for k in keys:\n",
    "    date = k.date().strftime('%Y-%m-%d')\n",
    "    for c in countries:\n",
    "        try:\n",
    "            data_list.append((date,c,data[date][c]['confirmed'],data[date][c]['deaths'],data[date][c]['stringency']))\n",
    "        except KeyError:\n",
    "            pass"
   ]
  },
  {
   "cell_type": "code",
   "execution_count": null,
   "metadata": {},
   "outputs": [],
   "source": [
    "df = pd.DataFrame(data_list,columns=['date','country','confirmed','dead','oxford_stringency'])\n",
    "df['date'] = pd.to_datetime(df['date'])\n",
    "df.set_index(['country','date'],inplace=True)\n",
    "df.dropna(inplace=True)\n",
    "\n",
    "df"
   ]
  },
  {
   "cell_type": "code",
   "execution_count": null,
   "metadata": {},
   "outputs": [],
   "source": [
    "population = pd.read_csv('world_pop.csv',sep=';',thousands=',',header=None,index_col=0)\n",
    "population.columns=['pop']\n",
    "population.index.name='country'\n",
    "population"
   ]
  },
  {
   "cell_type": "code",
   "execution_count": null,
   "metadata": {},
   "outputs": [],
   "source": [
    "three_letter_abb = pd.read_csv('three_letter_country_abb.csv',sep=';',header=None,index_col=2)\n",
    "three_letter_abb = three_letter_abb[0]\n",
    "three_letter_abb.loc['GBR']"
   ]
  },
  {
   "cell_type": "code",
   "execution_count": null,
   "metadata": {},
   "outputs": [],
   "source": [
    "df = df.reset_index(level=1)"
   ]
  },
  {
   "cell_type": "code",
   "execution_count": null,
   "metadata": {},
   "outputs": [],
   "source": [
    "df = df.join(three_letter_abb)\n",
    "df.rename(columns={0 : 'country'},inplace=True)\n",
    "df"
   ]
  },
  {
   "cell_type": "code",
   "execution_count": null,
   "metadata": {},
   "outputs": [],
   "source": [
    "df = df.merge(population,left_on='country',right_on=population.index)\n",
    "df['dead_per_M'] = df['dead'] / (df['pop'] / 1e6)\n",
    "df"
   ]
  },
  {
   "cell_type": "code",
   "execution_count": null,
   "metadata": {},
   "outputs": [],
   "source": [
    "three_letter_abb.name='country'\n",
    "three_letter_abb.index.name='abb'\n",
    "three_letter_abb = pd.DataFrame(three_letter_abb)\n",
    "three_letter_abb.columns=['country']\n",
    "three_letter_abb.reset_index(inplace=True)"
   ]
  },
  {
   "cell_type": "code",
   "execution_count": null,
   "metadata": {},
   "outputs": [],
   "source": [
    "def standardize(series):\n",
    "    return (series - series.mean()) / series.std()"
   ]
  },
  {
   "cell_type": "code",
   "execution_count": null,
   "metadata": {},
   "outputs": [],
   "source": [
    "df = df.merge(three_letter_abb,left_on='country',right_on='country')\n",
    "\n",
    "df['dead_per_M_std'] = standardize(df['dead_per_M'])\n",
    "df['ox_std'] = standardize(df['oxford_stringency'])\n",
    "\n",
    "df.dropna(inplace=True)\n",
    "\n",
    "mask = (df['confirmed'] > 100)\n",
    "df = df[mask]\n",
    "\n",
    "df"
   ]
  },
  {
   "cell_type": "code",
   "execution_count": null,
   "metadata": {},
   "outputs": [],
   "source": [
    "swe = df.loc[df['abb'] == 'SWE']\n",
    "uk = df.loc[df['abb'] == 'GBR']\n",
    "us = df.loc[df['abb'] == 'USA']\n",
    "bel = df.loc[df['abb'] == 'BEL']\n",
    "aus = df.loc[df['abb'] == 'AUS']\n",
    "isr = df.loc[df['abb'] == 'ISR']"
   ]
  },
  {
   "cell_type": "code",
   "execution_count": null,
   "metadata": {},
   "outputs": [],
   "source": [
    "df"
   ]
  },
  {
   "cell_type": "code",
   "execution_count": null,
   "metadata": {},
   "outputs": [],
   "source": [
    "isr.tail(40)"
   ]
  },
  {
   "cell_type": "code",
   "execution_count": null,
   "metadata": {},
   "outputs": [],
   "source": [
    "\n",
    "def shift_and_merge(shift=0):\n",
    "    temp = pd.DataFrame()\n",
    "\n",
    "\n",
    "    country_groups = df.groupby('abb')\n",
    "\n",
    "    for country_abb in country_groups.groups.keys():\n",
    "        country = country_groups.get_group(country_abb).copy()\n",
    "        country['ox_mean'] = country['oxford_stringency'].mean()\n",
    "\n",
    "        country['dead_inc'] = country['dead'] - country['dead'].shift()\n",
    "        country['dead_per_M_inc'] = country['dead_per_M'] - country['dead_per_M'].shift()\n",
    "        country['dead_per_M_inc_std'] = standardize(country['dead_per_M_inc'])\n",
    "        country['dead_per_M_change']  = country['dead_per_M_inc'] - country['dead_per_M_inc'].shift()\n",
    "        country['dead_per_M_change_std'] = standardize(country['dead_per_M_change'])\n",
    "        \n",
    "        country['dead_per_M_change_std'] = country['dead_per_M_change_std'].shift(shift)\n",
    "        country['dead_per_M_inc_std'] = country['dead_per_M_inc_std'].shift(shift)\n",
    "        country['ox_mean'] = country['oxford_stringency'].mean()\n",
    "        country.dropna(inplace=True)\n",
    "        \n",
    "        country['day_idx'] = range(len(country))\n",
    "\n",
    "        temp = pd.concat([temp,country])\n",
    "        \n",
    "    return temp"
   ]
  },
  {
   "cell_type": "code",
   "execution_count": null,
   "metadata": {},
   "outputs": [],
   "source": [
    "### PARAM ###\n",
    "\n",
    "shift = 21\n",
    "\n",
    "all_shifted = shift_and_merge(shift=shift)\n",
    "\n",
    "all_shifted.dropna(inplace=True)\n",
    "all_shifted.reset_index(inplace=True,drop=True)\n",
    "\n",
    "all_shifted"
   ]
  },
  {
   "cell_type": "code",
   "execution_count": null,
   "metadata": {},
   "outputs": [],
   "source": [
    "isr.head()"
   ]
  },
  {
   "cell_type": "code",
   "execution_count": null,
   "metadata": {},
   "outputs": [],
   "source": [
    "isr_shifted = all_shifted.loc[all_shifted['country'] == 'Israel']\n",
    "swe_shifted = all_shifted.loc[all_shifted['country'] == 'Sweden']\n",
    "isr_shifted.head()\n",
    "swe_shifted.tail()"
   ]
  },
  {
   "cell_type": "code",
   "execution_count": null,
   "metadata": {},
   "outputs": [],
   "source": [
    "country_idx_map = dict(zip(all_shifted['abb'].unique(),range(len(all_shifted['abb']))))\n",
    "\n",
    "inv_map = {v: k for k, v in country_idx_map.items()}\n",
    "\n",
    "all_shifted['country_idx'] = all_shifted['abb'].apply(lambda x : country_idx_map[x])\n",
    "all_shifted"
   ]
  },
  {
   "cell_type": "code",
   "execution_count": null,
   "metadata": {},
   "outputs": [],
   "source": [
    "swe = all_shifted.loc[all_shifted['abb'] == 'SWE']\n",
    "print (swe.max())\n",
    "print (swe.min())"
   ]
  },
  {
   "cell_type": "code",
   "execution_count": null,
   "metadata": {
    "scrolled": false
   },
   "outputs": [],
   "source": [
    "inv_map"
   ]
  },
  {
   "cell_type": "code",
   "execution_count": null,
   "metadata": {},
   "outputs": [],
   "source": [
    "swe = all_shifted.loc[all_shifted['abb'] == 'SWE']\n",
    "per = all_shifted.loc[all_shifted['abb'] == 'PER']\n",
    "swe"
   ]
  },
  {
   "cell_type": "code",
   "execution_count": null,
   "metadata": {},
   "outputs": [],
   "source": [
    "# hierarcical model, cond on country\n",
    "\n",
    "# standardized values\n",
    "\n",
    "# MODEL\n",
    "# inc_deaths_per_M ~ Normal(req,obs_sigma)\n",
    "# req = alpha[country_idx] + beta[country_idx] * ox_idx\n",
    "# alpha ~ Normal(alpha_bar,alpha_sd)\n",
    "# alpha_bar ~ Normal(0,1)\n",
    "# alpha_sd ~ Exponential(1)\n",
    "# beta ~ Normal(beta_bar,beta_sd)\n",
    "# beta_bar ~ Normal(0,1)\n",
    "# beta_sd ~ Exponential(1)\n",
    "#\n",
    "x = all_shifted['ox_std'].values\n",
    "country_idx = all_shifted['country_idx'].values\n",
    "\n",
    "model = pm.Model()\n",
    "\n",
    "summary = pd.DataFrame()\n",
    "result = pd.DataFrame()\n",
    "\n",
    "with model:\n",
    "    \n",
    "    \n",
    "    obs_sigma = pm.Exponential('obs_sigma',1)\n",
    "\n",
    "    alpha_bar = pm.Normal('alpha_bar',mu=0,sd=1)\n",
    "    alpha_sd = pm.Exponential('alpha_sd',1)\n",
    "\n",
    "    beta_bar = pm.Normal('beta_bar',mu=0,sd=1)\n",
    "    beta_sd = pm.Exponential('beta_sd',1)\n",
    "\n",
    "    alpha = pm.Normal('alpha',mu=alpha_bar,sd=alpha_sd,shape=len(country_idx_map))\n",
    "    beta = pm.Normal('beta',mu=beta_bar,sd=beta_sd,shape=len(country_idx_map))\n",
    "\n",
    "    reg = pm.Deterministic('reg',alpha[country_idx] + beta[country_idx] * x)\n",
    "    \n",
    "    lkh = pm.Normal('lkh',mu=reg,sd=obs_sigma,observed=all_shifted['dead_per_M_inc_std'])\n",
    "    \n",
    "    trace = pm.sample(500,tune=500)\n",
    "    \n",
    "    result = pm.trace_to_dataframe(trace)\n",
    "    summary = az.summary(trace)\n"
   ]
  },
  {
   "cell_type": "code",
   "execution_count": null,
   "metadata": {},
   "outputs": [],
   "source": [
    "summary"
   ]
  },
  {
   "cell_type": "code",
   "execution_count": null,
   "metadata": {},
   "outputs": [],
   "source": [
    "trace['reg'].shape"
   ]
  },
  {
   "cell_type": "code",
   "execution_count": null,
   "metadata": {},
   "outputs": [],
   "source": [
    "np.array((range(4),range(4)))"
   ]
  },
  {
   "cell_type": "code",
   "execution_count": null,
   "metadata": {},
   "outputs": [],
   "source": [
    "keys = np.array(list(country_idx_map.keys()))\n",
    "keys"
   ]
  },
  {
   "cell_type": "code",
   "execution_count": null,
   "metadata": {},
   "outputs": [],
   "source": [
    "with model:\n",
    "    idata = az.from_pymc3(trace,coords={'country_idx': keys,\n",
    "                                        'reg_idx' : range(trace['reg'].shape[1])}, \n",
    "    dims={'alpha': ['country_idx'], 'beta': ['country_idx'],'reg' : ['reg_idx']})\n",
    "    \n",
    "    _=az.plot_pair(idata,point_estimate='mean',textsize=12,\n",
    "               marginals=True,figsize=(18,12))\n",
    "    \n",
    "    plt.close()\n",
    " \n",
    " \n",
    "idata"
   ]
  },
  {
   "cell_type": "code",
   "execution_count": null,
   "metadata": {},
   "outputs": [],
   "source": []
  },
  {
   "cell_type": "code",
   "execution_count": null,
   "metadata": {
    "scrolled": false
   },
   "outputs": [],
   "source": [
    "with model:\n",
    "    az.plot_trace(trace)\n",
    "    plt.close()"
   ]
  },
  {
   "cell_type": "code",
   "execution_count": null,
   "metadata": {},
   "outputs": [],
   "source": []
  },
  {
   "cell_type": "code",
   "execution_count": null,
   "metadata": {
    "scrolled": false
   },
   "outputs": [],
   "source": [
    "\n",
    "az.plot_forest(idata,var_names=['beta'],coords={'country_idx' : keys},\n",
    "               combined=True,rope=[-0.01,0.01])\n",
    "plt.close()"
   ]
  },
  {
   "cell_type": "code",
   "execution_count": null,
   "metadata": {},
   "outputs": [],
   "source": [
    "result.describe()"
   ]
  },
  {
   "cell_type": "code",
   "execution_count": null,
   "metadata": {},
   "outputs": [],
   "source": [
    "def param_type(colName):\n",
    "    if 'bar' in colName :\n",
    "        return colName\n",
    "    \n",
    "    elif 'sd' in colName:\n",
    "        return colName\n",
    "    \n",
    "    elif 'beta' in colName :\n",
    "        return 'beta'\n",
    "    elif 'alpha' in colName:\n",
    "        return 'alpha'\n",
    "    else:\n",
    "        return colName\n",
    "    \n",
    "grp = result.groupby(param_type,axis=1)\n",
    "\n",
    "alphas = grp.get_group('alpha')\n",
    "betas = grp.get_group('beta')\n",
    "obs_sigma = grp.get_group('obs_sigma')\n",
    "alpha_bar = grp.get_group('alpha_bar')\n",
    "alpha_sd = grp.get_group('alpha_sd')\n",
    "beta_bar = grp.get_group('beta_bar')\n",
    "beta_sd = grp.get_group('beta_sd')\n"
   ]
  },
  {
   "cell_type": "code",
   "execution_count": null,
   "metadata": {},
   "outputs": [],
   "source": [
    "alphas"
   ]
  },
  {
   "cell_type": "code",
   "execution_count": null,
   "metadata": {},
   "outputs": [],
   "source": [
    "nr_rows = 500\n",
    "nr_x = 100\n",
    "\n",
    "rows = np.random.choice(range(len(alphas)),replace=True,size=nr_rows)\n",
    "\n",
    "X = np.linspace(-3,3,nr_x)\n",
    "\n",
    "alpha_samples = alphas.iloc[rows]\n",
    "beta_samples = betas.iloc[rows]\n",
    "\n",
    "lines = np.array([X[i] * beta_samples for i in range(len(X))])\n",
    "\n",
    "lines = lines + alpha_samples.values\n",
    "#lines[:,:,country_idx_map['SWE']]\n",
    "lines[:,:,0]"
   ]
  },
  {
   "cell_type": "code",
   "execution_count": null,
   "metadata": {},
   "outputs": [],
   "source": [
    "_= plt.plot(X,lines[:,:,country_idx_map['SWE']],color='r',alpha=0.01)\n",
    "\n",
    "plt.close()"
   ]
  },
  {
   "cell_type": "code",
   "execution_count": null,
   "metadata": {},
   "outputs": [],
   "source": [
    "ox_std_means = all_shifted.groupby('abb').mean()['ox_std']"
   ]
  },
  {
   "cell_type": "code",
   "execution_count": null,
   "metadata": {},
   "outputs": [],
   "source": []
  },
  {
   "cell_type": "code",
   "execution_count": null,
   "metadata": {},
   "outputs": [],
   "source": []
  },
  {
   "cell_type": "code",
   "execution_count": null,
   "metadata": {},
   "outputs": [],
   "source": [
    "mean_betas = betas.mean()\n",
    "mean_betas.index = list(country_idx_map.keys())\n",
    "mean_betas"
   ]
  },
  {
   "cell_type": "code",
   "execution_count": null,
   "metadata": {},
   "outputs": [],
   "source": [
    "mean_alphas = alphas.mean()\n",
    "mean_alphas.index = list(country_idx_map.keys())\n",
    "mean_alphas.loc['SWE']"
   ]
  },
  {
   "cell_type": "code",
   "execution_count": null,
   "metadata": {},
   "outputs": [],
   "source": [
    "all_means = pd.concat([ox_std_means,mean_alphas,mean_betas],axis=1)\n",
    "all_means.columns = ['ox_std_mean','alpha','beta']\n",
    "all_means"
   ]
  },
  {
   "cell_type": "code",
   "execution_count": null,
   "metadata": {},
   "outputs": [],
   "source": [
    "all_means.sort_values('beta').plot(y=['beta','ox_std_mean'],figsize=(18,12))\n",
    "plt.xticks(rotation=90)\n",
    " "
   ]
  },
  {
   "cell_type": "code",
   "execution_count": null,
   "metadata": {},
   "outputs": [],
   "source": [
    "all_means.sort_values('ox_std_mean',ascending=False).head(20)"
   ]
  },
  {
   "cell_type": "code",
   "execution_count": null,
   "metadata": {},
   "outputs": [],
   "source": [
    "# regression ox_mean --> beta mean\n",
    "\n",
    "model2 = pm.Model()\n",
    "with model2:\n",
    "    \n",
    "    x2 = all_means.sort_values('beta')['ox_std_mean'].values\n",
    "    y2 = all_means.sort_values('beta')['beta']\n",
    "    \n",
    "    alpha2 = pm.Normal('alpha2',0,2)\n",
    "    beta2 = pm.Normal('beta2',0,2)\n",
    "    \n",
    "    sigma2 = pm.Exponential('sigma2',1)\n",
    "    \n",
    "    reg2 = alpha2 + beta2 * x2\n",
    "    \n",
    "    obs2 = pm.Normal('obs2',reg2,sigma2,observed=y2)\n",
    "    \n",
    "    trace2 = pm.sample(500,tune=500)\n",
    "    \n",
    "    summary2 = az.summary(trace2)\n",
    "    result2 = pm.trace_to_dataframe(trace2)\n",
    "    \n",
    "    az.plot_trace(trace2)\n",
    "    \n",
    "    print (summary2)\n",
    "    \n",
    "     "
   ]
  },
  {
   "cell_type": "code",
   "execution_count": null,
   "metadata": {},
   "outputs": [],
   "source": [
    "with model2:\n",
    "    idata = az.from_pymc3(trace2)\n",
    "    _=az.plot_pair(idata,point_estimate='mean',textsize=12,\n",
    "               marginals=True,figsize=(18,12))\n",
    "    \n",
    "     "
   ]
  },
  {
   "cell_type": "code",
   "execution_count": null,
   "metadata": {},
   "outputs": [],
   "source": [
    "xx = x2\n",
    "\n",
    "\n",
    "with model2:\n",
    "    ppc2 = pm.sample_posterior_predictive(trace2,500,model2,var_names=['alpha2',\n",
    "                                                                    'beta2','obs2'])\n",
    "    \n",
    "    mu_CI = ppc2['alpha2'] + ppc2['beta2'] * xx[:,None]\n",
    "    "
   ]
  },
  {
   "cell_type": "code",
   "execution_count": null,
   "metadata": {},
   "outputs": [],
   "source": [
    "import scipy.stats as sps\n",
    "\n",
    "slope,intercept,_,_,_ = sps.linregress(all_means.sort_values('beta')['ox_std_mean'],\n",
    "                                      all_means.sort_values('beta')['beta'])\n",
    "\n",
    "lsq = intercept + slope * xx \n",
    "\n",
    "plt.figure(figsize=(18,12))\n",
    "plt.title('avg. OXIDX vs change in daily inc deaths per million\\n\"countries with low OXIDX mean have + slope, countries with high OXIDX mean have - slope\"')\n",
    "plt.scatter(all_means.sort_values('beta')['ox_std_mean'],\n",
    "            all_means.sort_values('beta')['beta'],color='r')\n",
    "\n",
    "plt.plot(xx,summary2.loc['alpha2','mean'] + summary2.loc['beta2','mean'] * xx, ls='--',color='r')\n",
    "\n",
    "ax = plt.gca()\n",
    "az.plot_hdi(x=xx,y=mu_CI.T,ax=ax,hdi_prob=0.89)\n",
    "\n",
    "az.plot_hpd(x=xx,y=ppc2['obs2'],ax=ax,hdi_prob=0.89)\n",
    "\n",
    "plt.plot(xx,lsq,'--',color='k')\n",
    "\n",
    "\n",
    "\n",
    "plt.xlabel('ox_std_mean')\n",
    "plt.ylabel('beta')\n",
    "\n",
    " "
   ]
  },
  {
   "cell_type": "code",
   "execution_count": null,
   "metadata": {},
   "outputs": [],
   "source": [
    "ax = all_means.sort_values('beta')[:50].plot(y='beta',kind='bar',figsize=(18,12))\n",
    "\n",
    "ax2 = plt.twinx()\n",
    "\n",
    "all_means.sort_values('beta')[:50].plot(ax=ax2,y='ox_std_mean',style='ro--',)\n",
    "\n",
    "plt.savefig('ox_hierarchical_0_50_shift_{}.jpg'.format(shift),format='jpg')\n",
    " "
   ]
  },
  {
   "cell_type": "code",
   "execution_count": null,
   "metadata": {},
   "outputs": [],
   "source": [
    "mean_betas.sort_values()[50:100].plot(kind='bar',figsize=(18,12))\n",
    "plt.savefig('ox_hierarchical_50__100_shift_{}.jpg'.format(shift),format='jpg')\n",
    " "
   ]
  },
  {
   "cell_type": "code",
   "execution_count": null,
   "metadata": {},
   "outputs": [],
   "source": [
    "mean_betas.sort_values()[100:].plot(kind='bar',figsize=(18,12))\n",
    "plt.savefig('ox_hierarchical_100_shift_{}.jpg'.format(shift),format='jpg')\n",
    " "
   ]
  },
  {
   "cell_type": "code",
   "execution_count": null,
   "metadata": {},
   "outputs": [],
   "source": [
    "mean_alphas"
   ]
  },
  {
   "cell_type": "code",
   "execution_count": null,
   "metadata": {},
   "outputs": [],
   "source": [
    "betas.columns = list(country_idx_map.keys())\n",
    "alphas.columns = list(country_idx_map.keys())\n",
    "\n",
    "beta_CIs = betas.quantile([0.055,0.945])\n",
    "alpha_CIs = alphas.quantile([0.055,0.945])\n",
    "\n",
    "beta_means = betas.mean()\n",
    "alpha_means = alphas.mean()\n",
    "alpha_CIs.loc[0.055,'SWE']"
   ]
  },
  {
   "cell_type": "code",
   "execution_count": null,
   "metadata": {
    "scrolled": false
   },
   "outputs": [],
   "source": [
    "def plot_reg(country_abb):\n",
    "    \n",
    "    global_ox_mu = all_shifted['oxford_stringency'].mean()\n",
    "    global_ox_sd = all_shifted['oxford_stringency'].std()\n",
    "    global_dead_inc_mu = all_shifted['dead_per_M_inc'].mean()\n",
    "    global_dead_inc_sd = all_shifted['dead_per_M_inc'].std()\n",
    "    \n",
    "    \n",
    "    fill_kwargs = {'alpha': 0.3}\n",
    "\n",
    "    country = all_shifted.loc[all_shifted['abb'] == country_abb]\n",
    "    \n",
    "    X = np.linspace(country['ox_std'].min(),country['ox_std'].max(),100) ### \n",
    "    \n",
    "    ax = country.plot(x='ox_std',y='dead_per_M_inc_std',style='o',figsize=(18,12),title=country_abb.upper())\n",
    "    \n",
    "    label = r'$\\alpha$ {:.2f} $\\alpha$-CI {:.2f} {:.2f} $\\beta$ {:.2f} $\\beta$-CI {:.2f} {:.2f}'.format(\n",
    "        mean_alphas[country_abb],alpha_CIs.loc[0.055,country_abb],alpha_CIs.loc[0.945,country_abb],\n",
    "        mean_betas[country_abb],beta_CIs.loc[0.055,country_abb],beta_CIs.loc[0.945,country_abb])\n",
    "    \n",
    "    country_idx = all_shifted['abb'] == country_abb\n",
    "    country_trace = trace['reg'][:,country_idx]\n",
    "    \n",
    "    \n",
    "    ### ??? how to tell pymc which country each of the 22k 'reg' corresponds to...? ###\n",
    "    az.plot_hpd(country['ox_std'],country_trace,hdi_prob=0.89,fill_kwargs=fill_kwargs,ax=ax) ###\n",
    "    \n",
    "    draws = range(0,len(trace['alpha'][:,country_idx_map[country_abb]]),5)\n",
    "\n",
    "    a = trace['alpha'][:,country_idx_map[country_abb]][draws]\n",
    "    b = trace['beta'][:,country_idx_map[country_abb]][draws]\n",
    "\n",
    "\n",
    "    #ax.plot(X,a + b * X[:,None],color='r',alpha=0.1)\n",
    "    #ax.plot(X,lines[:,:,country_idx_map[country_abb]],color='r',alpha=0.01)\n",
    "    \n",
    "    ax.plot(X,mean_alphas[country_abb] + X * mean_betas[country_abb],'--',color='k',label=label)\n",
    "    \n",
    "    #ax.plot(country['ox_std'],trace['alpha'][:,country_idx].mean() +\\\n",
    "            #trace['beta'][:,country_idx].mean() * country['ox_std'],ls='dashed',color='k')\n",
    "    \n",
    "    ### az.plot_hdi(X,lines[:,:,country_idx_map[country_abb]].T,ax=ax,hdi_prob=0.89,\n",
    "               #fill_kwargs=fill_kwargs,color='m')\n",
    "    \n",
    "    ax.axvline(country['ox_std'].mean(),color='orange',ls='dashed')\n",
    "    ax.axhline(country['dead_per_M_inc_std'].mean(),color='orange',ls='dashed')\n",
    "    \n",
    "    ax.set_ylim([-3,3])\n",
    "    \n",
    "    ax.legend(loc='upper center')\n",
    "    \n",
    "    plt.xlabel(r'ox_stringency [standardized] Global $\\mu$: {:.2f} Global $\\sigma$: {:.2f}'.format(global_ox_mu,\n",
    "                                                                                    global_ox_sd))\n",
    "    plt.ylabel(r'daily change of increment deaths per Million [standardized] Global $\\mu$: {:.2f} Global $\\sigma$: {:.2f}'.format(\n",
    "    global_dead_inc_mu,global_dead_inc_sd))\n",
    "        \n",
    "    plt.savefig('ox_hierarchical_reg_{}_shift_{}.jpg'.format(country_abb,shift),format='jpg')\n",
    "     \n",
    "\n",
    "country_abbs = ['SWE','ARG','PER','GBR','USA','ITA','ISR','ZAF','URY','CHL','BEL','ESP','AUS','DNK','BRA']\n",
    "\n",
    "country_abbs_high = ['ARG','BOL','BRA','CHL','COL','DOM','HND','IND','IRQ','KAZ','OMN','PAN','PER','QAT','ZAF']\n",
    "\n",
    "country_abbs_low = ['BLR','EST','HRV','JPN','LTU','MUS','NER','NIC','NOR','NZL','SMR','SOM','TUN','TZA','SWE']\n",
    "\n",
    "country_abbs = country_abbs_high\n",
    "\n",
    "\n",
    "for c in country_abbs:\n",
    "    plot_reg(c)\n",
    "\n"
   ]
  },
  {
   "cell_type": "code",
   "execution_count": null,
   "metadata": {},
   "outputs": [],
   "source": [
    "betas.columns = list(country_idx_map.keys())\n",
    "alphas.columns = list(country_idx_map.keys())\n",
    "\n",
    "beta_CIs = betas.quantile([0.055,0.945])\n",
    "alpha_CIs = alphas.quantile([0.055,0.945])\n",
    "\n",
    "beta_means = betas.mean()\n",
    "alpha_means = alphas.mean()\n",
    "alpha_CIs.loc[0.055,'SWE']"
   ]
  },
  {
   "cell_type": "code",
   "execution_count": null,
   "metadata": {},
   "outputs": [],
   "source": [
    "ca = 'SWE'\n",
    "alpha_CIs.loc[0.055,ca]"
   ]
  },
  {
   "cell_type": "code",
   "execution_count": null,
   "metadata": {},
   "outputs": [],
   "source": [
    "r,c = 5,3 #rows,cols\n",
    "\n",
    "fill_kwargs = {'alpha': 1}\n",
    "\n",
    "\n",
    "fig,axes = plt.subplots(r,c,sharex=True,sharey=True,figsize=(18,12))\n",
    "\n",
    "for i,ca in enumerate(country_abbs):\n",
    "    \n",
    "    country = all_shifted.loc[all_shifted['abb'] == ca]\n",
    "    \n",
    "    label = r'$\\alpha$: {:.2f} CI: {:.2f}..{:.2f} $\\beta$: {:.2f} CI: {:.2f}..{:.2f}'.format(\n",
    "    alpha_means[ca],alpha_CIs.loc[0.055,ca],alpha_CIs.loc[0.945,ca],\n",
    "    beta_means[ca],beta_CIs.loc[0.055,ca],beta_CIs.loc[0.945,ca])\n",
    "\n",
    "    axes[i % r,i % c].plot(country['ox_std'],country['dead_per_M_inc_std'],'o',color='crimson')\n",
    "    \n",
    "    #X = np.linspace(country['ox_std'].min(),country['ox_std'].max(),nr_x)\n",
    "    X = np.linspace(-3,3,nr_x)\n",
    "    \n",
    "    axes[i % r,i % c].plot(X,lines[:,:,country_idx_map[ca]],color='orange',alpha=0.01)\n",
    "    \n",
    "    axes[i % r, i % c].plot(X,alpha_means[ca] + X * beta_means[ca],color='k',\n",
    "                            ls='dashed',label=label)\n",
    "    \n",
    "    axes[i % r,i % c].set_title(ca)\n",
    "    axes[i % r, i % c].set_ylabel('inc dead per M [std]')\n",
    "    axes[i % r, i % c].set_xlabel('Oxford Stringency [std]')\n",
    "    axes[i % r, i % c].legend(loc='upper left')\n",
    "    \n",
    "    az.plot_hpd(X, lines[:,:,country_idx_map[ca]].T,ax=axes[i % r,i % c],\n",
    "                color='m',fill_kwargs=fill_kwargs,hdi_prob=0.89)\n",
    "    \n",
    "    \n",
    "fig.suptitle('Regression Oxford Index --> Daily Inc deaths per M, deaths shifted {} days\\n standardized values'.format(shift))\n",
    "    \n",
    "plt.tight_layout()\n",
    "plt.savefig('ox_hierarchical_multi_shifted_{}.jpg'.format(shift),format='jpg')\n",
    " "
   ]
  },
  {
   "cell_type": "code",
   "execution_count": null,
   "metadata": {},
   "outputs": [],
   "source": [
    "all_shifted.loc[all_shifted['abb'] == 'CRI']"
   ]
  },
  {
   "cell_type": "code",
   "execution_count": null,
   "metadata": {},
   "outputs": [],
   "source": [
    "betas['CRI'].plot(kind='hist')"
   ]
  },
  {
   "cell_type": "code",
   "execution_count": null,
   "metadata": {},
   "outputs": [],
   "source": [
    "all_shifted"
   ]
  },
  {
   "cell_type": "code",
   "execution_count": null,
   "metadata": {},
   "outputs": [],
   "source": [
    "swe = all_shifted.loc[all_shifted['country'] == 'Belgium']\n",
    "swe"
   ]
  },
  {
   "cell_type": "code",
   "execution_count": null,
   "metadata": {},
   "outputs": [],
   "source": [
    "plt.scatter(swe['ox_std'],swe['dead_per_M_inc'])"
   ]
  },
  {
   "cell_type": "code",
   "execution_count": null,
   "metadata": {},
   "outputs": [],
   "source": [
    "all_shifted"
   ]
  },
  {
   "cell_type": "code",
   "execution_count": null,
   "metadata": {},
   "outputs": [],
   "source": [
    "day_idx_map = all_shifted['day_idx'].unique()"
   ]
  },
  {
   "cell_type": "code",
   "execution_count": null,
   "metadata": {},
   "outputs": [],
   "source": []
  },
  {
   "cell_type": "code",
   "execution_count": null,
   "metadata": {},
   "outputs": [],
   "source": [
    "\n",
    "plt.figure(figsize=(18,12))\n",
    "plt.title('Oxford Index vs daily increment deaths per million')\n",
    "x = all_shifted['ox_std']\n",
    "plt.scatter(x,all_shifted['dead_per_M_inc_std'],alpha=0.1,label='data',color='r')\n",
    "plt.ylim([-3,3])\n",
    "plt.ylabel('daily inc deaths per million [standardized]')\n",
    "plt.xlabel('Oxford Index [standardized]')\n",
    "all_shifted.describe()\n",
    "plt.savefig('ox_index_pure_data.jpg',format='jpg')"
   ]
  },
  {
   "cell_type": "code",
   "execution_count": null,
   "metadata": {},
   "outputs": [],
   "source": [
    "# continuous condition, no interaction, cmp model 9\n",
    "\n",
    "x = all_shifted['ox_std'].values\n",
    "country_idx = standardize(all_shifted['country_idx']).values\n",
    "day_idx = standardize(all_shifted['day_idx'].astype(int)).values\n",
    "\n",
    "model3 = pm.Model()\n",
    "\n",
    "summary3 = pd.DataFrame()\n",
    "result3 = pd.DataFrame()\n",
    "\n",
    "with model3:\n",
    "    \n",
    "    obs_sigma = pm.Exponential('obs_sigma',2)\n",
    "\n",
    "    alpha_bar = pm.Normal('alpha_bar',mu=0,sd=1)\n",
    "    alpha_sd = pm.Exponential('alpha_sd',1)\n",
    "\n",
    "    beta_bar = pm.Normal('beta_bar',mu=0,sd=1,shape=3)\n",
    "    beta_sd = pm.Exponential('beta_sd',1,shape=3)\n",
    "    \n",
    "    beta = pm.Normal('beta',mu=beta_bar[0],sd=beta_sd[0])\n",
    "    beta2 = pm.Normal('beta2',beta_bar[1],beta_sd[1])\n",
    "    beta3 = pm.Normal('beta3',beta_bar[2],beta_sd[2])\n",
    "    \n",
    "    alpha = pm.Normal('alpha',mu=alpha_bar,sd=alpha_sd)\n",
    "    \n",
    "\n",
    "    reg = pm.Deterministic('reg',alpha + beta * x + beta2 * day_idx + beta3 * country_idx)\n",
    "    \n",
    "    lkh = pm.Normal('lkh',mu=reg,sd=obs_sigma,observed=all_shifted['dead_per_M_inc_std'])\n",
    "    \n",
    "    trace3 = pm.sample(500,tune=500,target_accept=0.99)\n",
    "    \n",
    "    result3 = pm.trace_to_dataframe(trace3)\n",
    "    summary3 = az.summary(trace3,var_names=['~reg'])\n",
    "    print (summary3)"
   ]
  },
  {
   "cell_type": "code",
   "execution_count": null,
   "metadata": {},
   "outputs": [],
   "source": [
    "trace3['beta'].mean()"
   ]
  },
  {
   "cell_type": "code",
   "execution_count": null,
   "metadata": {
    "scrolled": false
   },
   "outputs": [],
   "source": [
    "with model3:\n",
    "    idata = az.from_pymc3(trace3)\n",
    "    \n",
    "    _=az.plot_pair(idata,var_names=['~reg'],point_estimate='mean',textsize=12,\n",
    "               marginals=True,figsize=(18,12))\n",
    "    \n",
    "    _ = az.plot_forest(idata,var_names=['~reg'],hdi_prob=0.89)\n",
    "     "
   ]
  },
  {
   "cell_type": "code",
   "execution_count": null,
   "metadata": {},
   "outputs": [],
   "source": [
    "ppc3 = pm.sample_posterior_predictive(trace3,model=model3)\n",
    " "
   ]
  },
  {
   "cell_type": "code",
   "execution_count": null,
   "metadata": {},
   "outputs": [],
   "source": [
    "fill_kwargs = {'label':'ppc 89%',\n",
    "            'color':'m',\n",
    "               'alpha':0.2}\n",
    "\n",
    "fill_kwargs2 = {'label':'CI 89%',\n",
    "            'color':'orange',\n",
    "               'alpha':0.2}\n",
    "\n",
    "\n",
    "x = all_shifted['ox_std'].values\n",
    "xx = np.linspace(all_shifted['ox_std'].min(),all_shifted['ox_std'].max(),100)\n",
    "\n",
    "plt.figure(figsize=(18,12))\n",
    "plt.title('Oxford Index [std] as predictor for daily inc deaths per M [std]\\nConditioned \\\n",
    "for country and day into pandemic\\nHierachical (Pooled) Model\\nshift={} days'.format(shift))\n",
    "\n",
    "plt.scatter(x,all_shifted['dead_per_M_inc_std'],alpha=0.4,label='data',color='lightgrey')\n",
    "\n",
    "plt.plot(xx,trace3['alpha'].mean() + trace3['beta'].mean() * xx + trace3['beta2'].mean() *\\\n",
    "         day_idx.mean() + trace3['beta3'].mean() * country_idx.mean(),color='k',ls='dashed',label='mean')\n",
    "ax = plt.gca()\n",
    "\n",
    "az.plot_hdi(x,trace3['reg'],hdi_prob=0.89,color='orange',ax=ax,fill_kwargs=fill_kwargs2)\n",
    "az.plot_hpd(x,ppc3['lkh'],hdi_prob=0.89,ax=ax,fill_kwargs=fill_kwargs)\n",
    "\n",
    "plt.ylabel('daily inc deaths per M [std]')\n",
    "plt.xlabel('daily Oxford Index [std]')\n",
    "plt.ylim([-4,5])\n",
    "plt.legend(loc='upper left')\n",
    "\n",
    "plt.savefig('ox_index_cond_country_day.jpg',format='jpg',dpi=400)\n",
    " "
   ]
  },
  {
   "cell_type": "code",
   "execution_count": null,
   "metadata": {},
   "outputs": [],
   "source": [
    "##### BINNED PREDICTOR #####\n",
    "\n",
    "bins=10\n",
    "\n",
    "\n",
    "\n",
    "all_shifted['ox_bin'] = pd.cut(x=all_shifted['oxford_stringency'],bins=bins,labels=range(bins))\n",
    "all_shifted['ox_bin'] = all_shifted['ox_bin'].astype(int)\n",
    "all_shifted['ox_bin_std'] = standardize(all_shifted['ox_bin'])\n",
    "all_shifted"
   ]
  },
  {
   "cell_type": "code",
   "execution_count": null,
   "metadata": {},
   "outputs": [],
   "source": [
    "# no pooling no condition, not binned predictor; cmp 7 with binned predictor\n",
    "\n",
    "model4 = pm.Model()\n",
    "with model4:\n",
    "    \n",
    "    alpha = pm.Normal('alpha',0,1)\n",
    "    beta = pm.Normal('beta',0,1)\n",
    "    sigma = pm.Exponential('sigma',1)\n",
    "    \n",
    "    req = pm.Deterministic('req',alpha + beta * all_shifted['ox_bin_std'].values)\n",
    "    obs = pm.Normal('obs',mu=req,sd=sigma,observed=all_shifted['dead_per_M_inc_std'])\n",
    "    \n",
    "    trace4 = pm.sample(500,tune=500)\n",
    "    summary4 = pm.summary(trace4)\n",
    "    #result4 = pm.trace_to_dataframe(trace4)\n",
    "    #az.plot_trace(trace4)"
   ]
  },
  {
   "cell_type": "code",
   "execution_count": null,
   "metadata": {},
   "outputs": [],
   "source": [
    "summary4\n",
    "    "
   ]
  },
  {
   "cell_type": "code",
   "execution_count": null,
   "metadata": {},
   "outputs": [],
   "source": [
    "with model4:\n",
    "    idata = az.from_pymc3(trace4)\n",
    "    _=az.plot_pair(idata,var_names=['~req'],point_estimate='mean',textsize=12,\n",
    "               marginals=True,figsize=(18,12))\n",
    "    \n",
    "     "
   ]
  },
  {
   "cell_type": "code",
   "execution_count": null,
   "metadata": {},
   "outputs": [],
   "source": [
    "ppc = pm.sample_posterior_predictive(trace4,model=model4)\n",
    "ppc['obs'].shape"
   ]
  },
  {
   "cell_type": "code",
   "execution_count": null,
   "metadata": {},
   "outputs": [],
   "source": [
    "# category means\n",
    "foo = all_shifted.groupby('ox_bin_std')\n",
    "keys = list(foo.groups.keys())\n",
    "\n",
    "means = foo['dead_per_M_inc_std'].mean()\n",
    "means"
   ]
  },
  {
   "cell_type": "code",
   "execution_count": null,
   "metadata": {
    "scrolled": false
   },
   "outputs": [],
   "source": [
    "e_b = np.zeros((bins,2))\n",
    "\n",
    "for i in range(bins):\n",
    "    g_idx = keys[i]\n",
    "    g = foo.get_group(g_idx)['dead_per_M_inc_std']\n",
    "    print (g.describe(percentiles=[0.055,0.945]))\n",
    "    mean = g.mean()\n",
    "    ci = np.percentile(g,[5.5,94.5])\n",
    "    ci[0] = np.abs(ci[0] - mean)\n",
    "    ci[1] = np.abs(ci[1] - mean)\n",
    "    e_b[i] = ci\n",
    "\n",
    "\n",
    "e_b"
   ]
  },
  {
   "cell_type": "code",
   "execution_count": null,
   "metadata": {},
   "outputs": [],
   "source": [
    "draws = range(0,len(trace4),10)\n",
    "\n",
    "\n",
    "\n",
    "fill_kwargs = {'label':'ppc 89%',\n",
    "            'color':'m',\n",
    "               'alpha':0.2}\n",
    "\n",
    "\n",
    "plt.figure(figsize=(18,12))\n",
    "\n",
    "plt.title('Oxford Index [std] as predictor for daily inc deaths per M [std]\\nTotal non-hierachical,non-conditioned\\n \\\n",
    "Using {} bins for Oxford Index\\nshift={} days'.format(bins,shift))\n",
    "\n",
    "x = all_shifted['ox_bin_std'].values\n",
    "\n",
    "plt.scatter(x,all_shifted['dead_per_M_inc_std'],color='lightgrey',alpha=0.4,label='data')\n",
    "\n",
    "plt.scatter(means.index,means,s=100,color='k',label='bin mean')\n",
    "\n",
    "plt.errorbar(means.index,means,yerr=e_b.T,capsize=5,capthick=5,color='k',fmt='none',label='data bin 89% range')\n",
    "\n",
    "plt.plot(x,trace4['alpha'][draws] + trace4['beta'][draws] * x[:,np.newaxis],color='orange',alpha=0.2)\n",
    "\n",
    "ax = plt.gca()\n",
    "\n",
    "plt.plot(x,trace4['alpha'].mean() + trace4['beta'].mean() * x,color='k',ls='dashed')\n",
    "\n",
    "az.plot_hdi(x=x,y=trace4['req'],hdi_prob=0.89,ax=ax,color='lime')\n",
    "\n",
    "ppc = pm.sample_posterior_predictive(trace4,model=model4)\n",
    "\n",
    "az.plot_hpd(x,ppc['obs'],hdi_prob=0.89,color='m',ax=ax,fill_kwargs=fill_kwargs)\n",
    "\n",
    "plt.ylabel('dead_per_M_inc_std')\n",
    "plt.xlabel('oxford index [std] [data in {} categories]'.format(bins))\n",
    "\n",
    "plt.ylim([-4,5])\n",
    "plt.legend(loc='upper left')\n",
    "plt.savefig('oxford_index_binned.jpg',format='jpg')\n",
    " "
   ]
  },
  {
   "cell_type": "code",
   "execution_count": null,
   "metadata": {},
   "outputs": [],
   "source": [
    "freq = all_shifted.groupby(['abb','ox_bin']).count()['country']\n",
    "freq['ZAF']"
   ]
  },
  {
   "cell_type": "code",
   "execution_count": null,
   "metadata": {
    "scrolled": false
   },
   "outputs": [],
   "source": [
    "#country_abbs = ['SWE','ARG','PER','GBR','USA','ITA','ISR','ZAF','URY','CHL','BEL','ESP','CRI','DNK','FIN']\n",
    "\n",
    "r,c = 5,3\n",
    "fig,axes = plt.subplots(r,c,sharey=True,figsize=(18,12))\n",
    "\n",
    "\n",
    "### cludge to fix a common x range for bar subplot ### \n",
    "\n",
    "for i,ca in enumerate(country_abbs):\n",
    "    try:\n",
    "        (freq[ca].reindex(range(bins)).replace(np.nan,0)).plot(kind='bar',ax=axes[i % r, i % c],title=ca)\n",
    "\n",
    "        axes[i % r, i % c].set_ylabel('nr of days')\n",
    "    except:\n",
    "        pass\n",
    "    \n",
    "plt.suptitle('Number of days spent at binned [0-{}] Oxford Index Level'.format(bins-1))\n",
    "plt.tight_layout()\n",
    "plt.savefig('oxford_index_days_in_prison_levels_shift_{}.jpg'.format(shift),format='jpg')\n",
    " "
   ]
  },
  {
   "cell_type": "code",
   "execution_count": null,
   "metadata": {},
   "outputs": [],
   "source": [
    "# Multiindex slice\n",
    "idx = pd.IndexSlice\n",
    "freq.loc[idx[country_abbs]].plot(kind='bar',figsize=(18,12))\n",
    " "
   ]
  },
  {
   "cell_type": "code",
   "execution_count": null,
   "metadata": {},
   "outputs": [],
   "source": [
    "freq = all_shifted.groupby('ox_bin')['country'].count()\n",
    "freq"
   ]
  },
  {
   "cell_type": "code",
   "execution_count": null,
   "metadata": {},
   "outputs": [],
   "source": [
    "d_scale = np.repeat(2.0,bins-1)\n",
    "\n",
    "d = pm.Dirichlet.dist(d_scale).random()\n",
    "    \n",
    "d"
   ]
  },
  {
   "cell_type": "code",
   "execution_count": null,
   "metadata": {
    "scrolled": false
   },
   "outputs": [],
   "source": [
    "# ordered categorical, cmp model 8\n",
    "\n",
    "import theano.tensor as tt\n",
    "\n",
    "E = all_shifted['ox_bin'].values\n",
    "\n",
    "model6 = pm.Model()\n",
    "with model6:\n",
    "    \n",
    "    bE = pm.Normal('bE',0,1)\n",
    "    delta = pm.Dirichlet(\"delta\", np.repeat(2.0, bins-1), shape=bins-1)\n",
    "    delta_j = tt.concatenate([tt.zeros(1), delta])\n",
    "    delta_j_cumulative = tt.cumsum(delta_j)\n",
    "    sigma = pm.Exponential('sigma',1)\n",
    "    \n",
    "    phi = pm.Deterministic('phi',bE * delta_j_cumulative[E])\n",
    "    \n",
    "    obs = pm.Normal('obs',mu=phi,sd=sigma,observed=all_shifted['dead_per_M_inc_std'])\n",
    "    \n",
    "    trace6 = pm.sample(1000,tune=1000)\n",
    "    \n",
    "    summary6 = pm.summary(trace6)\n",
    "    #az.plot_trace(trace6)"
   ]
  },
  {
   "cell_type": "code",
   "execution_count": null,
   "metadata": {},
   "outputs": [],
   "source": [
    "summary6"
   ]
  },
  {
   "cell_type": "code",
   "execution_count": null,
   "metadata": {},
   "outputs": [],
   "source": [
    "#summary6.loc['delta[0]' : 'delta[8]']"
   ]
  },
  {
   "cell_type": "code",
   "execution_count": null,
   "metadata": {},
   "outputs": [],
   "source": [
    "ppc = pm.sample_posterior_predictive(trace=trace6,model=model6)"
   ]
  },
  {
   "cell_type": "code",
   "execution_count": null,
   "metadata": {},
   "outputs": [],
   "source": [
    "ppc['obs'].shape"
   ]
  },
  {
   "cell_type": "code",
   "execution_count": null,
   "metadata": {},
   "outputs": [],
   "source": [
    "cat_means = np.zeros(bins)\n",
    "\n",
    "for i in range(bins):\n",
    "    cat_means[i] = all_shifted.loc[all_shifted['ox_bin'] == i]['dead_per_M_inc_std'].mean()\n",
    "    \n",
    "cat_means"
   ]
  },
  {
   "cell_type": "code",
   "execution_count": null,
   "metadata": {},
   "outputs": [],
   "source": [
    "# error bar example\n",
    "\n",
    "e_bars = np.zeros((bins,2))\n",
    "\n",
    "for i in range(bins):\n",
    "    CI = np.percentile(all_shifted.loc[all_shifted['ox_bin']==i]['dead_per_M_inc_std'],[5.5,94.5])\n",
    "    mean = all_shifted.loc[all_shifted['ox_bin'] == i]['dead_per_M_inc_std'].mean()\n",
    "    CI[0] = np.abs(CI[0] - mean)\n",
    "    CI[1] = np.abs(CI[1] - mean)\n",
    "    e_bars[i] = CI\n",
    "\n",
    "print (e_bars)\n",
    "\n",
    "e_bars.T\n",
    "\n",
    "#plt.scatter(range(bins),np.repeat(2,bins))\n",
    "#plt.errorbar(range(bins),np.repeat(2,bins),e_bars.T,fmt='none',capsize=5)\n",
    "\n",
    "plt.scatter(range(bins),cat_means)\n",
    "plt.errorbar(range(bins),cat_means,e_bars.T,fmt='none',capsize=5)"
   ]
  },
  {
   "cell_type": "code",
   "execution_count": null,
   "metadata": {},
   "outputs": [],
   "source": []
  },
  {
   "cell_type": "code",
   "execution_count": null,
   "metadata": {
    "scrolled": false
   },
   "outputs": [],
   "source": [
    "fill_kwargs = {'label':'ppc 89%',\n",
    "            'color':'orange',\n",
    "               'alpha':0.4}\n",
    "\n",
    "fill_kwargs2 = {'label':'GLM 89% CI',\n",
    "            'color':'yellow',\n",
    "               'alpha':0.4}\n",
    "\n",
    "\n",
    "plt.figure(figsize=(18,12))\n",
    "\n",
    "title = 'COVID19 Oxford Stringency Index : \\\n",
    "association with daily increment dead per million\\nOxford Index as Ordered Categorical Predictor,\\\n",
    "10 levels\\ndaily data for {} countries during {} - {}'.format(len(country_idx_map),\n",
    "                                                             start_date,end_date)\n",
    "plt.title(title)\n",
    "\n",
    "#plt.scatter(E,all_shifted['dead_per_M_inc_std'],color='lightgrey',alpha=0.3,label='data')\n",
    "ax = plt.gca()\n",
    "#az.plot_hpd(E,ppc['obs'],ax=ax,hdi_prob=0.89,fill_kwargs=fill_kwargs)\n",
    "az.plot_hdi(E,trace6['phi'],ax=ax,color='r',hdi_prob=0.89,fill_kwargs=fill_kwargs2,)\n",
    "\n",
    "\n",
    "for i in range(bins):\n",
    "    label = 'Category Mean daily inc dead per M' if i == 0 else ''\n",
    "    plt.plot(i,all_shifted.loc[all_shifted['ox_bin']==i]['dead_per_M_inc_std'].mean(),'o--',\n",
    "                color='k',label=label)    \n",
    "    \n",
    "#plt.errorbar(range(bins),cat_means,e_bars.T,fmt='none',capsize=5,\n",
    "             #capthick=5,label='Data 89% range',color='k')\n",
    "    \n",
    "plt.xlabel('Oxford Index Ordered Category')\n",
    "plt.ylabel('daily dead inc per Million [std]')\n",
    "plt.ylim([-0.3,0.3])\n",
    "plt.legend(loc='upper left')\n",
    "_= plt.xticks(range(bins))\n",
    "plt.savefig('oxford_index_ordered_categorical.jpg',format='jpg',dpi=400)"
   ]
  },
  {
   "cell_type": "code",
   "execution_count": null,
   "metadata": {},
   "outputs": [],
   "source": [
    "(all_shifted.loc[all_shifted['abb']=='ISR']).plot(x='date',y='ox_bin')"
   ]
  },
  {
   "cell_type": "code",
   "execution_count": null,
   "metadata": {
    "scrolled": false
   },
   "outputs": [],
   "source": [
    "high_ox= ((all_shifted.loc[all_shifted['ox_bin'] > 6]).groupby('abb')['dead_per_M_inc_std'].count()) > 140\n",
    "high_ox.loc[high_ox == True]\n",
    "\n"
   ]
  },
  {
   "cell_type": "code",
   "execution_count": null,
   "metadata": {},
   "outputs": [],
   "source": [
    "low_ox = ((all_shifted.loc[all_shifted['ox_bin'] < 4]).groupby('abb')['dead_per_M_inc_std'].count()) > 100\n",
    "low_ox.loc[low_ox == True]"
   ]
  },
  {
   "cell_type": "code",
   "execution_count": null,
   "metadata": {},
   "outputs": [],
   "source": [
    "all_shifted.loc[all_shifted['abb']== 'ISR']"
   ]
  },
  {
   "cell_type": "code",
   "execution_count": null,
   "metadata": {},
   "outputs": [],
   "source": [
    "with model6:\n",
    "    idata = az.from_pymc3(trace6)\n",
    "    _=az.plot_pair(idata,var_names=['delta'],point_estimate='mean',textsize=12,\n",
    "               marginals=True,figsize=(18,12))"
   ]
  },
  {
   "cell_type": "code",
   "execution_count": null,
   "metadata": {
    "scrolled": false
   },
   "outputs": [],
   "source": [
    "with model6:\n",
    "    az.plot_posterior(trace6,var_names=['bE','delta'],figsize=(18,12))\n",
    "    \n",
    "plt.savefig('oxford_index_ordered_categorical_deltas.jpg',format='jpg',dpi=400)"
   ]
  },
  {
   "cell_type": "code",
   "execution_count": null,
   "metadata": {},
   "outputs": [],
   "source": [
    "ox_select = all_shifted.loc[all_shifted['ox_bin'] > all_shifted['ox_bin'].max() - 3]\n",
    "ox_select"
   ]
  },
  {
   "cell_type": "code",
   "execution_count": null,
   "metadata": {},
   "outputs": [],
   "source": [
    "# bin_std, no condition, but selected high index countries\n",
    "\n",
    "model7 = pm.Model()\n",
    "with model7:\n",
    "    alpha = pm.Normal('alpha',0,1)\n",
    "    beta = pm.Normal('beta',0,1)\n",
    "    sigma = pm.Exponential('sigma',1)\n",
    "    \n",
    "    req = pm.Deterministic('req',alpha + beta * ox_select['ox_bin_std'].values)\n",
    "    obs = pm.Normal('obs',mu=req,sd=sigma,observed=ox_select['dead_per_M_inc_std'])\n",
    "    \n",
    "    trace7 = pm.sample(1000,tune=1000,target_accept=0.95)\n",
    "    summary7 = pm.summary(trace7)"
   ]
  },
  {
   "cell_type": "code",
   "execution_count": null,
   "metadata": {},
   "outputs": [],
   "source": [
    "summary7\n"
   ]
  },
  {
   "cell_type": "code",
   "execution_count": null,
   "metadata": {
    "scrolled": false
   },
   "outputs": [],
   "source": [
    "with model7:\n",
    "    \n",
    "    az.plot_posterior(trace7,\n",
    "                      var_names=['alpha','beta','sigma'],\n",
    "                      figsize=(18,12),\n",
    "                      ref_val=[summary7.loc['alpha','mean'],0,summary7.loc['sigma','mean']])\n",
    "    \n",
    "plt.savefig('oxford_index_high_index_last_3_idx_grps.jpg',format='jpg',dpi=400)"
   ]
  },
  {
   "cell_type": "code",
   "execution_count": null,
   "metadata": {},
   "outputs": [],
   "source": []
  },
  {
   "cell_type": "code",
   "execution_count": null,
   "metadata": {},
   "outputs": [],
   "source": [
    "az.plot_hdi(E,trace6['phi'])"
   ]
  },
  {
   "cell_type": "code",
   "execution_count": null,
   "metadata": {},
   "outputs": [],
   "source": [
    "def normalize_0_1(series):\n",
    "    return series / series.max()\n",
    "\n",
    "all_shifted['ox_bin_0_1'] = all_shifted['ox_bin'] / all_shifted['ox_bin'].max()\n",
    "all_shifted"
   ]
  },
  {
   "cell_type": "code",
   "execution_count": null,
   "metadata": {},
   "outputs": [],
   "source": []
  },
  {
   "cell_type": "code",
   "execution_count": null,
   "metadata": {},
   "outputs": [],
   "source": [
    "#metric predictor, cmp model6\n",
    "\n",
    "model8 = pm.Model()\n",
    "with model8:\n",
    "    \n",
    "    bE = pm.Normal('bE',0,1)\n",
    "    \n",
    "    sigma = pm.Exponential('sigma',1)\n",
    "    \n",
    "    phi = pm.Deterministic('phi',bE * all_shifted['ox_bin_0_1'].values)\n",
    "    \n",
    "    obs = pm.Normal('obs',mu=phi,sd=sigma,observed=all_shifted['dead_per_M_inc_std'])\n",
    "    \n",
    "    trace8 = pm.sample(1000,tune=1000)\n",
    "    \n",
    "    summary8 = pm.summary(trace8)\n"
   ]
  },
  {
   "cell_type": "code",
   "execution_count": null,
   "metadata": {},
   "outputs": [],
   "source": [
    "summary8"
   ]
  },
  {
   "cell_type": "code",
   "execution_count": null,
   "metadata": {},
   "outputs": [],
   "source": [
    "with model8:\n",
    "    \n",
    "    az.plot_posterior(trace8,\n",
    "                      var_names=['bE','sigma'],\n",
    "                      figsize=(18,12),\n",
    "                      ref_val=[summary8.loc['bE','mean'],summary8.loc['sigma','mean']])\n",
    "    "
   ]
  },
  {
   "cell_type": "code",
   "execution_count": null,
   "metadata": {},
   "outputs": [],
   "source": [
    "with model8:\n",
    "    az.plot_hdi(all_shifted['ox_bin_0_1'].values,trace8['phi'])"
   ]
  },
  {
   "cell_type": "code",
   "execution_count": null,
   "metadata": {},
   "outputs": [],
   "source": [
    "ppc = pm.sample_posterior_predictive(trace=trace8,model=model8)\n",
    "ppc"
   ]
  },
  {
   "cell_type": "code",
   "execution_count": null,
   "metadata": {},
   "outputs": [],
   "source": [
    "az.plot_hpd(all_shifted['ox_bin_0_1'],ppc['obs'])"
   ]
  },
  {
   "cell_type": "code",
   "execution_count": null,
   "metadata": {},
   "outputs": [],
   "source": [
    "ox_0_1_values = np.sort(all_shifted['ox_bin_0_1'].unique())\n",
    "ox_0_1_values"
   ]
  },
  {
   "cell_type": "code",
   "execution_count": null,
   "metadata": {},
   "outputs": [],
   "source": [
    "plt.figure(figsize=(18,12))\n",
    "plt.title('comparison Metric vs Ordered Category Predictor [dummy data]')\n",
    "plt.plot(ox_0_1_values,summary6.loc['bE','mean'] * ox_0_1_values,label='ordered category',color='r',ls='dashed')\n",
    "plt.plot(ox_0_1_values,summary8.loc['bE','mean'] * ox_0_1_values,label='metric category',color='g',ls='dashed')\n",
    "plt.legend(loc='lower left')\n",
    "plt.xlabel('predictor')\n",
    "plt.ylabel('outcome')\n",
    "plt.savefig('oxford_cmp_metric_vs_ordered_category.jpg',format='jpg')"
   ]
  },
  {
   "cell_type": "code",
   "execution_count": null,
   "metadata": {},
   "outputs": [],
   "source": [
    "E_values=np.unique(E)\n",
    "E_values"
   ]
  },
  {
   "cell_type": "code",
   "execution_count": null,
   "metadata": {},
   "outputs": [],
   "source": [
    "plt.figure(figsize=(18,12))\n",
    "plt.title('Ordered Categorical Predictor - uncertainty in regression line')\n",
    "draws = range(0,len(trace6),10)\n",
    "_ = plt.plot(E_values,trace6['bE'][draws]  * E_values[:,np.newaxis],color='r',alpha=0.1)\n",
    "\n",
    "plt.plot(E_values,summary6.loc['bE','mean'] * E_values,\n",
    "         color='k',ls='dashed',label='mean')\n",
    "\n",
    "plt.ylabel('outcome')\n",
    "plt.xlabel('ordered categorical predictor')\n",
    "plt.legend(loc='lower left')\n",
    "plt.savefig('oxford_ordered_categorical_predictor.jpg',format='jpg')\n"
   ]
  },
  {
   "cell_type": "code",
   "execution_count": null,
   "metadata": {
    "scrolled": false
   },
   "outputs": [],
   "source": [
    "draws = range(0, len(trace8),10)\n",
    "\n",
    "plt.figure(figsize=(18,12))\n",
    "plt.title('Metric predictor - uncertainty in prediction line')\n",
    "_ = plt.plot(ox_0_1_values,trace8['bE'][draws] * ox_0_1_values[:,np.newaxis],color='r',alpha=0.1)\n",
    "plt.plot(ox_0_1_values,summary8.loc['bE','mean'] * ox_0_1_values,label='mean',\n",
    "         color='k',ls='dashed')\n",
    "\n",
    "plt.ylabel('outcome')\n",
    "plt.xlabel('metric predictor')\n",
    "plt.legend(loc='lower left')\n",
    "plt.savefig('oxford_metric_predictor.jpg',format='jpg')\n",
    "\n"
   ]
  },
  {
   "cell_type": "code",
   "execution_count": null,
   "metadata": {},
   "outputs": [],
   "source": [
    "plt.figure(figsize=(18,12))\n",
    "plt.title('Oxford Index bin distribution')\n",
    "sns.violinplot(x='ox_bin',y='dead_per_M_inc_std',data=all_shifted,color='r',scale='count')\n",
    "plt.savefig('oxford_data_variability_violin.jpg',format='jpg')"
   ]
  },
  {
   "cell_type": "code",
   "execution_count": null,
   "metadata": {},
   "outputs": [],
   "source": [
    "date_mask = all_shifted['date'] > '2020-06-01'\n",
    "level_mask = all_shifted['ox_bin'] > 7\n",
    "\n",
    "low_ox = ((all_shifted[date_mask & level_mask]).groupby('abb')['dead_per_M_inc_std'].count()) > 10\n",
    "low_ox.loc[low_ox == True]"
   ]
  },
  {
   "cell_type": "code",
   "execution_count": null,
   "metadata": {},
   "outputs": [],
   "source": [
    "# with interaction \n",
    "\n",
    "x = all_shifted['ox_std'].values\n",
    "country_idx = standardize(all_shifted['country_idx']).values\n",
    "day_idx = standardize(all_shifted['day_idx'].astype(int)).values\n",
    "\n",
    "model9 = pm.Model()\n",
    "\n",
    "summary9 = pd.DataFrame()\n",
    "result9 = pd.DataFrame()\n",
    "\n",
    "with model9:\n",
    "    \n",
    "    obs_sigma = pm.Exponential('obs_sigma',2)\n",
    "\n",
    "    alpha_bar = pm.Normal('alpha_bar',mu=0,sd=1)\n",
    "    alpha_sd = pm.Exponential('alpha_sd',1)\n",
    "\n",
    "    beta_bar = pm.Normal('beta_bar',mu=0,sd=1,shape=3)\n",
    "    beta_sd = pm.Exponential('beta_sd',1,shape=3)\n",
    "    \n",
    "    beta = pm.Normal('beta',mu=beta_bar[0],sd=beta_sd[0])\n",
    "    beta2 = pm.Normal('beta2',beta_bar[1],beta_sd[1])\n",
    "    beta3 = pm.Normal('beta3',beta_bar[2],beta_sd[2])\n",
    "    \n",
    "    beta4 = pm.Normal('beta4',0,1)\n",
    "    beta5 = pm.Normal('beta5',0,1)\n",
    "    beta6 = pm.Normal('beta6',0,1)\n",
    "    \n",
    "    alpha = pm.Normal('alpha',mu=alpha_bar,sd=alpha_sd)\n",
    "    \n",
    "\n",
    "    reg = pm.Deterministic('reg',alpha + beta * x + beta2 * day_idx + beta3 * country_idx + \\\n",
    "                          beta4 * x * day_idx + beta5 * x * country_idx + beta6 * day_idx * country_idx)\n",
    "    \n",
    "    lkh = pm.Normal('lkh',mu=reg,sd=obs_sigma,observed=all_shifted['dead_per_M_inc_std'])\n",
    "    \n",
    "    trace9 = pm.sample(500,tune=500,target_accept=0.99)\n",
    "    \n",
    "    summary9 = az.summary(trace9)\n",
    "    print (summary9)"
   ]
  },
  {
   "cell_type": "code",
   "execution_count": null,
   "metadata": {
    "scrolled": false
   },
   "outputs": [],
   "source": [
    "with model9:\n",
    "    _ = az.plot_posterior(trace9,var_names=['alpha_bar','beta_bar','alpha','beta','beta2','beta3',\n",
    "                                       'beta4','beta5','beta6','alpha_sd','beta_sd'])"
   ]
  },
  {
   "cell_type": "code",
   "execution_count": null,
   "metadata": {},
   "outputs": [],
   "source": [
    "with model9:\n",
    "    idata = az.from_pymc3(trace9)\n",
    "    _ = az.plot_forest(idata,var_names=['~reg'])"
   ]
  },
  {
   "cell_type": "code",
   "execution_count": null,
   "metadata": {},
   "outputs": [],
   "source": [
    "ppc9 = pm.sample_posterior_predictive(trace9,model=model9)\n",
    "\n",
    "fill_kwargs = {'label':'ppc 89%',\n",
    "            'color':'m',\n",
    "               'alpha':0.2}\n",
    "\n",
    "fill_kwargs2 = {'label':'CI 89%',\n",
    "            'color':'orange',\n",
    "               'alpha':0.2}\n",
    "\n",
    "\n",
    "x = all_shifted['ox_std'].values\n",
    "xx = np.linspace(all_shifted['ox_std'].min(),all_shifted['ox_std'].max(),100)\n",
    "\n",
    "plt.figure(figsize=(18,12))\n",
    "plt.title('Oxford Index [std] as predictor for daily inc deaths per M [std]\\nConditioned \\\n",
    "for country and day into pandemic\\nHierachical (Pooled) Model\\nshift={} days\\nInteractions'.format(shift))\n",
    "\n",
    "plt.scatter(x,all_shifted['dead_per_M_inc_std'],alpha=0.4,label='data',color='lightgrey')\n",
    "\n",
    "ax = plt.gca()\n",
    "\n",
    "az.plot_hdi(x,trace9['reg'],hdi_prob=0.89,color='orange',ax=ax,fill_kwargs=fill_kwargs2,)\n",
    "az.plot_hpd(x,ppc9['lkh'],hdi_prob=0.89,ax=ax,fill_kwargs=fill_kwargs)\n",
    "\n",
    "plt.ylabel('daily inc deaths per M [std]')\n",
    "plt.xlabel('daily Oxford Index [std]')\n",
    "plt.ylim([-4,5])\n",
    "plt.legend(loc='upper left')"
   ]
  },
  {
   "cell_type": "code",
   "execution_count": null,
   "metadata": {},
   "outputs": [],
   "source": [
    "len(all_shifted['country_idx'].unique())"
   ]
  },
  {
   "cell_type": "code",
   "execution_count": null,
   "metadata": {},
   "outputs": [],
   "source": [
    "# dirichlet with pooling by country_idx \n",
    "\n",
    "country_idx = all_shifted['country_idx'].astype(int)\n",
    "    \n",
    "\n",
    "import theano.tensor as tt\n",
    "\n",
    "E = all_shifted['ox_bin'].values\n",
    "\n",
    "model10 = pm.Model()\n",
    "with model10:\n",
    "\n",
    "    bE_bar = pm.Normal('bE_bar',0,1)\n",
    "    bE_sd_bar = pm.Exponential('bE_sd_bar',1)\n",
    "    \n",
    "    bE = pm.Normal('bE',bE_bar,bE_sd_bar, shape=len(all_shifted['country_idx'].unique()))\n",
    "    \n",
    "    delta = pm.Dirichlet(\"delta\", np.repeat(2.0, bins-1), shape=bins-1)\n",
    "    delta_j = tt.concatenate([tt.zeros(1), delta])\n",
    "    delta_j_cumulative = tt.cumsum(delta_j)\n",
    "    sigma = pm.Exponential('sigma',1)\n",
    "    \n",
    "    phi = pm.Deterministic('phi',bE[country_idx] * delta_j_cumulative[E])\n",
    "    \n",
    "    obs = pm.Normal('obs',mu=phi,sd=sigma,observed=all_shifted['dead_per_M_inc_std'])\n",
    "    \n",
    "    trace10 = pm.sample(500,tune=500)\n",
    "    \n",
    "    summary10 = pm.summary(trace10)\n",
    "    #az.plot_trace(trace10)"
   ]
  },
  {
   "cell_type": "code",
   "execution_count": null,
   "metadata": {},
   "outputs": [],
   "source": [
    "summary10\n"
   ]
  },
  {
   "cell_type": "code",
   "execution_count": null,
   "metadata": {},
   "outputs": [],
   "source": [
    "keys = np.array(list(country_idx_map.keys()))"
   ]
  },
  {
   "cell_type": "code",
   "execution_count": null,
   "metadata": {},
   "outputs": [],
   "source": [
    "idata = az.from_pymc3(trace10,model=model10,coords={'country_idx': keys}, \n",
    "    dims={'bE': ['country_idx']})\n",
    "idata"
   ]
  },
  {
   "cell_type": "code",
   "execution_count": null,
   "metadata": {},
   "outputs": [],
   "source": [
    "_ = az.plot_posterior(idata,var_names=['delta'])"
   ]
  },
  {
   "cell_type": "code",
   "execution_count": null,
   "metadata": {
    "scrolled": false
   },
   "outputs": [],
   "source": [
    "_ = az.plot_posterior(idata,var_names='bE',ref_val=0,coords={'country_idx' : keys[19 : 29]})"
   ]
  },
  {
   "cell_type": "code",
   "execution_count": null,
   "metadata": {},
   "outputs": [],
   "source": [
    "result_bE = pd.DataFrame(trace10['bE'],columns=keys)\n",
    "result_bE"
   ]
  },
  {
   "cell_type": "code",
   "execution_count": null,
   "metadata": {},
   "outputs": [],
   "source": [
    "country_abbs_high = ['ARG','BOL','BRA','CHL','COL','DOM','HND','IND','IRQ','KAZ','OMN','PAN','PER','QAT','ZAF']\n",
    "\n",
    "slope_highs = result_bE[country_abbs_high]\n",
    "slope_highs.describe(percentiles=[0.055,0.945])"
   ]
  },
  {
   "cell_type": "code",
   "execution_count": null,
   "metadata": {},
   "outputs": [],
   "source": [
    "CI = np.percentile(slope_highs,[5.5,94.5],axis=0)\n",
    "CI"
   ]
  },
  {
   "cell_type": "code",
   "execution_count": null,
   "metadata": {},
   "outputs": [],
   "source": [
    "##### ERROR BARS !!!!! #### \n",
    "\n",
    "means = slope_highs.mean(axis=0)\n",
    "errs = CI\n",
    "\n",
    "errs[0] = np.abs(errs[0] - means)\n",
    "errs[1] = np.abs(errs[1] - means) \n",
    "\n",
    "errs"
   ]
  },
  {
   "cell_type": "code",
   "execution_count": null,
   "metadata": {},
   "outputs": [],
   "source": [
    "plt.figure(figsize=(18,12))\n",
    "#plt.plot(slope_highs.columns,slope_highs.mean(axis=0),'o',color='crimson')\n",
    "\n",
    "plt.errorbar(x=slope_highs.columns,y=means,\n",
    "             yerr=errs,fmt='o',capsize=5,color='k')"
   ]
  },
  {
   "cell_type": "code",
   "execution_count": null,
   "metadata": {},
   "outputs": [],
   "source": [
    "high_country_keys = []\n",
    "\n",
    "for abb in country_abbs_high:\n",
    "    high_country_keys.append (country_idx_map[abb])\n",
    "\n",
    "high_country_keys = np.array(high_country_keys).astype(int)\n",
    "high_country_keys"
   ]
  },
  {
   "cell_type": "code",
   "execution_count": null,
   "metadata": {},
   "outputs": [],
   "source": [
    "_ = az.plot_posterior(idata,var_names='bE',ref_val=0,coords={'country_idx' : keys[high_country_keys]})"
   ]
  },
  {
   "cell_type": "code",
   "execution_count": null,
   "metadata": {
    "scrolled": false
   },
   "outputs": [],
   "source": [
    "_ = az.plot_posterior(trace10['phi'],hdi_prob=0.89)"
   ]
  },
  {
   "cell_type": "code",
   "execution_count": null,
   "metadata": {},
   "outputs": [],
   "source": [
    "az.plot_forest(idata,var_names=['delta'])"
   ]
  },
  {
   "cell_type": "code",
   "execution_count": null,
   "metadata": {},
   "outputs": [],
   "source": [
    "az.plot_forest(idata,var_names=['bE'],rope=[-0.01,0.01],hdi_prob=0.89,\n",
    "               coords={'country_idx' : keys[high_country_keys]},combined=True,figsize=(18,12))\n",
    "plt.xlabel('Total mean effect of lockdown in terms  of change standardized daily deaths per M \\\n",
    "\\ndelta per bin to be observed')\n",
    "plt.ylabel('country')"
   ]
  },
  {
   "cell_type": "code",
   "execution_count": null,
   "metadata": {
    "scrolled": false
   },
   "outputs": [],
   "source": [
    "nr_countries = len(country_idx_map)\n",
    "\n",
    "az.plot_forest(idata,var_names=['bE'],rope=[-0.01,0.01],\n",
    "               coords={'country_idx' : keys[0:30]},combined=True,figsize=(18,12))\n",
    "\n",
    "plt.savefig('lockdown_0_30.jpg',format='jpg',dpi=400)\n",
    "\n",
    "az.plot_forest(idata,var_names=['bE'],rope=[-0.01,0.01],\n",
    "               coords={'country_idx' : keys[30:60]},combined=True,figsize=(18,12))\n",
    "\n",
    "plt.savefig('lockdown_30_60.jpg',format='jpg',dpi=400)\n",
    "\n",
    "\n",
    "az.plot_forest(idata,var_names=['bE'],rope=[-0.01,0.01],\n",
    "               coords={'country_idx' : keys[60:90]},combined=True,figsize=(18,12))\n",
    "\n",
    "plt.savefig('lockdown_60_90.jpg',format='jpg',dpi=400)\n",
    "\n",
    "\n",
    "az.plot_forest(idata,var_names=['bE'],rope=[-0.01,0.01],\n",
    "               coords={'country_idx' : keys[90:120]},combined=True,figsize=(18,12))\n",
    "\n",
    "plt.savefig('lockdown_90_120.jpg',format='jpg',dpi=400)\n",
    "\n",
    "\n",
    "az.plot_forest(idata,var_names=['bE'],rope=[-0.01,0.01],\n",
    "               coords={'country_idx' : keys[120:150]},combined=True,figsize=(18,12))\n",
    "\n",
    "plt.savefig('lockdown_120_150.jpg',format='jpg',dpi=400)\n",
    "\n",
    "\n",
    "az.plot_forest(idata,var_names=['bE'],rope=[-0.01,0.01],\n",
    "               coords={'country_idx' : keys[150:]},combined=True,figsize=(18,12))\n"
   ]
  },
  {
   "cell_type": "code",
   "execution_count": null,
   "metadata": {},
   "outputs": [],
   "source": [
    "az.plot_forest(idata,var_names=['bE'],rope=[-0.01,0.01],\n",
    "               coords={'country_idx' : keys[:]},combined=True)\n",
    "\n",
    "plt.savefig('lockdown_impact.jpg',format='jpg',dpi=400)"
   ]
  },
  {
   "cell_type": "code",
   "execution_count": null,
   "metadata": {},
   "outputs": [],
   "source": [
    "# cant just do sps.linregress() to get slope and intercept b/c now we have a non-linear\n",
    "# predictor!!! And the Dirichlet based model does not have any intercept\n",
    "#\n",
    "c_name = 'ZAF'\n",
    "\n",
    "c = all_shifted.loc[all_shifted['abb'] == c_name]\n",
    "ax = c.plot(x='ox_std',y='dead_per_M_inc_std',style='o')\n",
    "slope = trace10['bE'][:,country_idx_map[c_name]].mean()\n",
    "CI = np.percentile(trace10['bE'][:,country_idx_map[c_name]],[5.5,94.5])\n",
    "CI2 = np.percentile(trace10['bE'][:,country_idx_map[c_name]],[25,75])\n",
    "hdi = az.hdi(trace10['bE'][:,country_idx_map[c_name]],hdi_prob=0.50)\n",
    "print (slope)\n",
    "print (CI)\n",
    "print (CI2)\n",
    "print (hdi)\n",
    "\n",
    "x = np.linspace(-2,2,100)\n",
    "       \n",
    "ax.plot(x,slope * x)\n"
   ]
  },
  {
   "cell_type": "code",
   "execution_count": null,
   "metadata": {
    "scrolled": false
   },
   "outputs": [],
   "source": [
    "az.plot_forest(data=[trace,trace10],model_names=['model','model10'],var_names=['beta','bE'],\n",
    "               combined=True,colors='cycle')"
   ]
  },
  {
   "cell_type": "code",
   "execution_count": null,
   "metadata": {},
   "outputs": [],
   "source": [
    "idata0 = az.from_pymc3(trace,model=model,coords={'country_idx': keys}, \n",
    "    dims={'beta' : ['country_idx']})\n",
    "\n",
    "idata10 = az.from_pymc3(trace10,model=model10,coords={'country_idx': keys}, \n",
    "    dims={'bE': ['country_idx']})\n"
   ]
  },
  {
   "cell_type": "code",
   "execution_count": null,
   "metadata": {
    "scrolled": false
   },
   "outputs": [],
   "source": [
    "az.plot_forest([idata0,idata10],model_names=['model','model10'],var_names=['beta','bE'],\n",
    "               combined=True,textsize=12,rope=[-0.01,0.01])"
   ]
  },
  {
   "cell_type": "code",
   "execution_count": null,
   "metadata": {
    "scrolled": false
   },
   "outputs": [],
   "source": [
    "az.plot_forest([idata10],model_names=['model10'],var_names=['bE'],\n",
    "               combined=True,textsize=12,rope=[-0.01,0.01],coords={'country_idx' : keys[0:30]})\n",
    "\n",
    "az.plot_forest([idata10],model_names=['model10'],var_names=['bE'],\n",
    "               combined=True,textsize=12,rope=[-0.01,0.01],coords={'country_idx' : keys[30:60]})\n",
    "\n",
    "az.plot_forest([idata10],model_names=['model10'],var_names=['bE'],\n",
    "               combined=True,textsize=12,rope=[-0.01,0.01],coords={'country_idx' : keys[60:90]})\n",
    "\n",
    "az.plot_forest([idata10],model_names=['model10'],var_names=['bE'],\n",
    "               combined=True,textsize=12,rope=[-0.01,0.01],coords={'country_idx' : keys[90:120]})\n",
    "\n",
    "az.plot_forest([idata10],model_names=['model10'],var_names=['bE'],\n",
    "               combined=True,textsize=12,rope=[-0.01,0.01],coords={'country_idx' : keys[120:]})"
   ]
  },
  {
   "cell_type": "code",
   "execution_count": null,
   "metadata": {},
   "outputs": [],
   "source": [
    "all_shifted.loc[all_shifted['abb'] == 'MEX']\n"
   ]
  },
  {
   "cell_type": "code",
   "execution_count": null,
   "metadata": {},
   "outputs": [],
   "source": [
    "diffs = pd.Series(((trace['beta'].mean(axis=0) < 0) &\\\n",
    "                   (trace10['bE'].mean(axis=0) > 0)) |((trace['beta'].mean(axis=0) > 0)\\\n",
    "                    & (trace10['bE'].mean(axis=0) < 0) ),\n",
    "                  index=keys)\n",
    "diffs = diffs.loc[diffs == True]\n",
    "diffs"
   ]
  },
  {
   "cell_type": "code",
   "execution_count": null,
   "metadata": {
    "scrolled": false
   },
   "outputs": [],
   "source": [
    "plt.figure(figsize=(18,12))\n",
    "plt.plot(keys,trace['beta'].mean(axis=0),'o')\n",
    "plt.plot(keys,trace10['bE'].mean(axis=0),'x')\n",
    "_=plt.xticks(rotation=90)"
   ]
  },
  {
   "cell_type": "code",
   "execution_count": null,
   "metadata": {},
   "outputs": [],
   "source": [
    "for a in diffs.index:\n",
    "    print (a)"
   ]
  },
  {
   "cell_type": "code",
   "execution_count": null,
   "metadata": {},
   "outputs": [],
   "source": [
    "diff_country_keys = []\n",
    "\n",
    "for abb in diffs.index:\n",
    "    diff_country_keys.append (country_idx_map[abb])\n",
    "\n",
    "diff_country_keys = np.array(diff_country_keys).astype(int)\n",
    "diff_country_keys"
   ]
  },
  {
   "cell_type": "code",
   "execution_count": null,
   "metadata": {
    "scrolled": false
   },
   "outputs": [],
   "source": [
    "az.plot_forest([idata0,idata10],model_names=['model','model10'],var_names=['beta','bE'],\n",
    "                coords={'country_idx' : keys[diff_country_keys]},combined=True,rope=[-0.01,0.01])"
   ]
  }
 ],
 "metadata": {
  "kernelspec": {
   "display_name": "Python 3",
   "language": "python",
   "name": "python3"
  },
  "language_info": {
   "codemirror_mode": {
    "name": "ipython",
    "version": 3
   },
   "file_extension": ".py",
   "mimetype": "text/x-python",
   "name": "python",
   "nbconvert_exporter": "python",
   "pygments_lexer": "ipython3",
   "version": "3.8.6"
  }
 },
 "nbformat": 4,
 "nbformat_minor": 4
}
