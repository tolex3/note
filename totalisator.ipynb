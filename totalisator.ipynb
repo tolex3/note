{
 "cells": [
  {
   "cell_type": "code",
   "execution_count": null,
   "metadata": {},
   "outputs": [],
   "source": [
    "import numpy as np\n",
    "import matplotlib.pyplot as plt\n",
    "import seaborn as sns\n",
    "import pandas as pd\n",
    "\n",
    "sns.set()\n"
   ]
  },
  {
   "cell_type": "code",
   "execution_count": null,
   "metadata": {},
   "outputs": [],
   "source": [
    "markup = 1.05\n",
    "\n",
    "bets_a = np.array([1,2,3,4,5])\n",
    "bets_b = np.array([1,1,1,1,1])\n",
    "\n",
    "bets_on_a = bets_a.sum()\n",
    "bets_on_b = bets_b.sum()\n",
    "\n",
    "total_in = bets_on_a + bets_on_b\n",
    "\n",
    "print ('total intake', total_in)\n",
    "\n",
    "print ('bets on a',bets_on_a)\n",
    "print ('bets on b', bets_on_b)\n",
    "\n",
    "odds_a = 1 / markup * ((bets_a.sum() + bets_b.sum()) / bets_a.sum())\n",
    "odds_b = 1 / markup * ((bets_a.sum() + bets_b.sum()) / bets_b.sum())\n",
    "\n",
    "print ('odds a',odds_a)\n",
    "print ('odds b', odds_b)\n",
    "\n",
    "at_risk_if_a = odds_a * bets_on_a\n",
    "at_risk_if_b = odds_b * bets_on_b\n",
    "\n",
    "print ('at risk if a wins',at_risk_if_a)\n",
    "print ('at risk if b wins', at_risk_if_b)"
   ]
  },
  {
   "cell_type": "code",
   "execution_count": null,
   "metadata": {},
   "outputs": [],
   "source": [
    "# odds vs probabilities\n",
    "#np.set_printoptions(formatter={'float': lambda x: \"{0:0.1f}\".format(x)})\n",
    "prob = np.linspace(.1,1, 10)\n",
    "odds = 1 / prob\n",
    "\n",
    "print (prob)\n",
    "print (odds)\n"
   ]
  },
  {
   "cell_type": "code",
   "execution_count": null,
   "metadata": {},
   "outputs": [],
   "source": [
    "markup = 1.05\n",
    "\n",
    "for plays in range(10):\n",
    "    b_a = np.random.randint(1,10)\n",
    "    b_b = np.random.randint(1,10)\n",
    "    \n",
    "    if plays == 0:\n",
    "        o_a = 2\n",
    "        o_b = 2\n",
    "    \n",
    "    else:\n",
    "        o_b = 1 / markup * (b_a + b_b) / b_b\n",
    "        o_a = 1 / markup * (b_a + b_b) / b_a\n",
    "\n",
    "    print ('total bets {} bets A {} bets B {} odds A' \\\n",
    "        '{:.2f} odds B {:.2f} payout if A {:.2f} payout if B {:.2f} gain if A {:.2f} gain if B {:.2f}'.format(\n",
    "            b_a + b_b,b_a,b_b,o_a,o_b,o_a * b_a, o_b * b_b,(b_a + b_b) - o_a * b_a,(b_a + b_b) - o_b * b_b))"
   ]
  },
  {
   "cell_type": "code",
   "execution_count": null,
   "metadata": {},
   "outputs": [],
   "source": [
    "markup = 1.0\n",
    "initial_odds_A = 2\n",
    "initial_odds_B = 2\n",
    "\n",
    "# each column is the total at that point\n",
    "A_bets = [10,20,50,500,500]\n",
    "B_bets = [10,10,20,30,600]\n",
    "\n",
    "df = pd.DataFrame({'A_bets' : A_bets,\n",
    "                  'B_bets' : B_bets})\n",
    "\n",
    "df['Total_bets'] = df['A_bets'] + df['B_bets']\n",
    "df['A_odds'] = (df['Total_bets'] / df['A_bets']) / markup\n",
    "df['B_odds'] = (df['Total_bets'] / df['B_bets']) / markup\n",
    "\n",
    "df['A_prob'] = 1 / df['A_odds']\n",
    "df['B_prob'] = 1 / df['B_odds']\n",
    "#df.iat[0,3] = initial_odds_A # initial odds\n",
    "#df.iat[0,4] = initial_odds_B\n",
    "#df.iat[0,5] = 1 / initial_odds_A\n",
    "#df.iat[0,6] = 1 / initial_odds_B\n",
    "df['Payback_if_A'] = df['A_bets'] * df['A_odds']\n",
    "df['Payback_if_B'] = df['B_bets'] * df['B_odds']\n",
    "df['Bookie_gain_worst_case'] = df['Total_bets'] - df[['Payback_if_A','Payback_if_B']].max(axis=1)\n",
    "df['Bookie_gain_pct'] = 100 * df['Bookie_gain_worst_case'] / df['Total_bets']\n",
    "df"
   ]
  }
 ],
 "metadata": {
  "kernelspec": {
   "display_name": "Python 3",
   "language": "python",
   "name": "python3"
  },
  "language_info": {
   "codemirror_mode": {
    "name": "ipython",
    "version": 3
   },
   "file_extension": ".py",
   "mimetype": "text/x-python",
   "name": "python",
   "nbconvert_exporter": "python",
   "pygments_lexer": "ipython3",
   "version": "3.6.9"
  }
 },
 "nbformat": 4,
 "nbformat_minor": 4
}
