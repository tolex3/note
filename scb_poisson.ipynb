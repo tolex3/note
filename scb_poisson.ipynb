{
 "cells": [
  {
   "cell_type": "code",
   "execution_count": null,
   "metadata": {},
   "outputs": [],
   "source": [
    "import numpy as np\n",
    "import matplotlib.pyplot as plt\n",
    "import seaborn as sns\n",
    "import pandas as pd\n",
    "import pymc as pm\n",
    "import scipy.stats as sps\n",
    "sns.set()"
   ]
  },
  {
   "cell_type": "code",
   "execution_count": null,
   "metadata": {
    "scrolled": true
   },
   "outputs": [],
   "source": [
    "post.describe()"
   ]
  },
  {
   "cell_type": "code",
   "execution_count": null,
   "metadata": {},
   "outputs": [],
   "source": [
    "# days with k homicides in UK\n",
    "zeros = np.array([0] * 259)\n",
    "ones = np.array([1] * 387)\n",
    "twos = np.array([2] * 261)\n",
    "threes = np.array([3] * 131)\n",
    "fours = np.array([4] * 40)\n",
    "fives = np.array([5] * 13)\n",
    "six = np.array([6] * 3)\n",
    "\n",
    "data = np.concatenate([zeros,ones,twos,threes,fours,fives,six])\n"
   ]
  },
  {
   "cell_type": "code",
   "execution_count": null,
   "metadata": {},
   "outputs": [],
   "source": [
    "data_mean = data.mean()\n",
    "data_std = data.std()\n",
    "print (data_mean)\n",
    "print (data_std)"
   ]
  },
  {
   "cell_type": "code",
   "execution_count": null,
   "metadata": {},
   "outputs": [],
   "source": [
    "samples = pm.rpoisson(data_mean,100000)"
   ]
  },
  {
   "cell_type": "code",
   "execution_count": null,
   "metadata": {},
   "outputs": [],
   "source": [
    "counts,bins = np.histogram(data,bins=range(0,11))\n",
    "sample_counts,sample_bins=np.histogram(samples,bins=range(0,11))\n",
    "print (sample_counts)\n",
    "norm_sample_counts = sample_counts / sample_counts.sum()\n",
    "\n",
    "x = range(7)\n",
    "y = sps.poisson.pmf(x,data_mean)\n",
    "plt.title('Probability x daily homicides UK')\n",
    "plt.plot(x,y,'x--',label='pdf')\n",
    "plt.hist(data,bins=6,density=True,alpha=0.7,label='data')\n",
    "plt.hist(samples,bins=10,density=True,alpha=0.7,label='Poisson sampling')\n",
    "print (bins,counts)\n",
    "norm_counts = counts / counts.sum()\n",
    "print (counts)\n",
    "plt.plot(range(len(norm_counts)),norm_counts,'o--',label='data dist')\n",
    "plt.plot(range(len(norm_sample_counts)),norm_sample_counts,'.--',label='sample dist')\n",
    "plt.ylabel('Probability')\n",
    "plt.xlabel('nr daily homicides')\n",
    "plt.legend(loc='upper right')"
   ]
  },
  {
   "cell_type": "code",
   "execution_count": null,
   "metadata": {},
   "outputs": [],
   "source": [
    "scb = pd.read_csv('scb-dead_per_day.csv',sep=';',usecols=[1,2,3,4,5,6,7])\n",
    "scb.index = pd.date_range('2020-01-01','2020-12-31')\n",
    "scb.drop(pd.Timestamp('2020-02-29'),inplace=True)\n",
    "scb"
   ]
  },
  {
   "cell_type": "code",
   "execution_count": null,
   "metadata": {},
   "outputs": [],
   "source": []
  },
  {
   "cell_type": "code",
   "execution_count": null,
   "metadata": {},
   "outputs": [],
   "source": [
    "last_data_day = scb.loc[scb['2020'] == 0]\n",
    "last_data_day = last_data_day.iloc[0].name\n",
    "last_data_day = last_data_day - pd.DateOffset(days=1)\n",
    "last_data_day"
   ]
  },
  {
   "cell_type": "code",
   "execution_count": null,
   "metadata": {},
   "outputs": [],
   "source": [
    "scb_weekly = scb.resample('W-TUE').sum()\n",
    "scb_weekly.sum()"
   ]
  },
  {
   "cell_type": "code",
   "execution_count": null,
   "metadata": {},
   "outputs": [],
   "source": [
    "data = scb_weekly.iloc[:,0:5]\n",
    "#data = data.iloc[:9]\n",
    "data.mean(axis=1)\n",
    "data"
   ]
  },
  {
   "cell_type": "code",
   "execution_count": null,
   "metadata": {},
   "outputs": [],
   "source": [
    "data_min = data.min(axis=1)\n",
    "data_max = data.max(axis=1)\n",
    "\n",
    "print (data.mean().mean())"
   ]
  },
  {
   "cell_type": "code",
   "execution_count": null,
   "metadata": {},
   "outputs": [],
   "source": [
    "test_lambda = pm.rexponential(1/ data.mean().mean(),100000)\n",
    "plt.hist(test_lambda)\n",
    "print (np.percentile(test_lambda,[0,25,50,75,100]))"
   ]
  },
  {
   "cell_type": "code",
   "execution_count": null,
   "metadata": {
    "scrolled": false
   },
   "outputs": [],
   "source": [
    "walk = 50000\n",
    "burnin = 20000\n",
    "thin = 2\n",
    "\n",
    "\n",
    "res_array = np.zeros((len(data),3))\n",
    "\n",
    "\n",
    "for i in range(len(data)):\n",
    "    print ('\\n++++++++++++++++++++ processing day ++++++++++++++++++++', i)\n",
    "    print (data.iloc[i,:])\n",
    "    print (data.iloc[i,:].mean())\n",
    "    \n",
    "    lambda_ = pm.Exponential('lambda',1/ data.iloc[i,:].mean())\n",
    "    lkh  = pm.Poisson('lkh',lambda_,observed=True,value=data.iloc[i,:])\n",
    "    model = pm.Model([lambda_,lkh])\n",
    "    mcmc = pm.MCMC(model)\n",
    "    sample = mcmc.sample(walk,burnin,thin)\n",
    "    post = mcmc.trace(lambda_)[:]   \n",
    "        \n",
    "    res_array[i,0] = post.min()\n",
    "    res_array[i,1] = post.mean()\n",
    "    res_array[i,2] = post.max()\n",
    "                     \n",
    "    "
   ]
  },
  {
   "cell_type": "code",
   "execution_count": null,
   "metadata": {},
   "outputs": [],
   "source": [
    "res_array"
   ]
  },
  {
   "cell_type": "code",
   "execution_count": null,
   "metadata": {
    "scrolled": false
   },
   "outputs": [],
   "source": [
    "errors_low = np.abs(res_array[:,1] - res_array[:,0])\n",
    "errors_low = errors_low[:-1]\n",
    "errors_high = np.abs(res_array[:,1] - res_array[:,2]) \n",
    "errors_high = errors_high[:-1]\n",
    "print (errors_low)\n",
    "print (errors_high)\n",
    "\n",
    "errors = np.array((errors_low,errors_high))\n",
    "errors"
   ]
  },
  {
   "cell_type": "code",
   "execution_count": null,
   "metadata": {},
   "outputs": [],
   "source": [
    "\n",
    "excess = scb_weekly.loc[:last_data_day,'2020'] - scb_weekly.loc[:last_data_day,'2015-2019']\n",
    "\n"
   ]
  },
  {
   "cell_type": "code",
   "execution_count": null,
   "metadata": {
    "scrolled": false
   },
   "outputs": [],
   "source": [
    "plt.figure(figsize=(18,12))\n",
    "plt.title('Sweden weekly deaths 2020 compared to average 2015-2019')\n",
    "ax = plt.gca()\n",
    "ax2 = plt.twinx()\n",
    "\n",
    "ax.errorbar(scb_weekly.index[:len(data) - 1],res_array[:-1,1],yerr=errors,\n",
    "             fmt='o',capsize=5,color='lime',alpha=0.6,label='Posterior sample means with CI')\n",
    "\n",
    "ax.plot(scb_weekly.index[:len(data) -1],scb_weekly['2015-2019'][:-1],'o',\n",
    "        markerfacecolor='none',markeredgecolor='navy',markersize=12,\n",
    "        label='2015-2019 mean')\n",
    "\n",
    "ax.plot(scb_weekly[:last_data_day].index,scb_weekly.loc[:last_data_day,'2020'],'o',\n",
    "         color='crimson',label='2020 data')\n",
    "\n",
    "ax.fill_between(scb_weekly.index[:len(data) -1],y1=data_min[:-1],y2=data_max[:-1],color='grey',\n",
    "                 alpha=0.2,label='2015-2019 range')\n",
    "\n",
    "ax2.plot(excess.index,excess.cumsum(),ls='dashed',color='orange',label='Cumulative Excess Deaths')\n",
    "ax.set_ylabel('number of weekly deaths')\n",
    "ax2.set_ylabel('cumulative Excess deaths')\n",
    "ax.legend(loc='upper left')\n",
    "ax2.legend(loc='upper right')\n",
    "plt.savefig('scb_poisson_weekly.jpg',format='jpg')"
   ]
  }
 ],
 "metadata": {
  "kernelspec": {
   "display_name": "Python 3",
   "language": "python",
   "name": "python3"
  },
  "language_info": {
   "codemirror_mode": {
    "name": "ipython",
    "version": 3
   },
   "file_extension": ".py",
   "mimetype": "text/x-python",
   "name": "python",
   "nbconvert_exporter": "python",
   "pygments_lexer": "ipython3",
   "version": "3.6.9"
  }
 },
 "nbformat": 4,
 "nbformat_minor": 4
}
