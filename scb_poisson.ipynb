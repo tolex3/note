{
 "cells": [
  {
   "cell_type": "code",
   "execution_count": null,
   "metadata": {},
   "outputs": [],
   "source": [
    "# uses first sheet of scb excel\n",
    "\n",
    "import numpy as np\n",
    "import matplotlib.pyplot as plt\n",
    "import seaborn as sns\n",
    "import pandas as pd\n",
    "import pymc3 as pm\n",
    "import scipy.stats as sps\n",
    "\n",
    "sns.set()"
   ]
  },
  {
   "cell_type": "code",
   "execution_count": null,
   "metadata": {},
   "outputs": [],
   "source": [
    "def parse_scb_prel():\n",
    "    \n",
    "    def monthname2number(m):\n",
    "        if m == 'januari' : return 1\n",
    "        if m == 'februari' : return 2\n",
    "        if m == 'mars' : return 3\n",
    "        if m == 'april' : return 4\n",
    "        if m == 'maj' : return 5\n",
    "        if m == 'juni' : return 6\n",
    "        if m == 'juli' : return 7\n",
    "        if m == 'augusti' : return 8\n",
    "        if m == 'september' : return 9\n",
    "        if m == 'oktober' : return 10\n",
    "        if m == 'november' : return 11\n",
    "        if m == 'december' : return 12\n",
    "\n",
    "    df = pd.read_csv('scb-dead_per_day.csv',sep=';',usecols=[1,2,3,4,5,6,7,10,11],thousands=',')\n",
    "    \n",
    "    df['month'] = df['Månad'].apply(monthname2number)\n",
    "    df[['Månad','month']] = df[['Månad','month']].replace(np.nan,0)\n",
    "    df['month'] = df['month'].astype(int)\n",
    "    \n",
    "    df[['2015','2016','2017','2018','2019','2020','2015-2019']] = df[['2015','2016','2017','2018','2019','2020','2015-2019']].astype(int)\n",
    "    \n",
    "    unknown_death_day = df.iloc[-1,:7]\n",
    "    \n",
    "    df.drop(366,inplace=True)\n",
    "    \n",
    "    df = df.loc[df['2020'] != 0]\n",
    "    df = df.drop('Månad',axis=1)\n",
    "    \n",
    "    known_death_day = df.iloc[:,:7].sum()\n",
    "    \n",
    "    year_fraction = len(df) / 366\n",
    "    \n",
    "    unknown_death_day[['2015','2016','2017','2018','2019','2015-2019']] = unknown_death_day[\n",
    "    ['2015','2016','2017','2018','2019','2015-2019']] * year_fraction\n",
    "    \n",
    "    dead_pct_per_day = df[['2015','2016','2017','2018','2019','2020','2015-2019']] / known_death_day\n",
    "    \n",
    "    all_deaths = df[['2015','2016','2017','2018','2019','2020','2015-2019']] + unknown_death_day * dead_pct_per_day\n",
    "    \n",
    "    index = pd.date_range('2020-01-01',periods=len(all_deaths))\n",
    "    all_deaths.index = index\n",
    "    \n",
    "    return all_deaths\n",
    "    \n",
    "    "
   ]
  },
  {
   "cell_type": "code",
   "execution_count": null,
   "metadata": {},
   "outputs": [],
   "source": [
    "# days with k homicides in UK\n",
    "zeros = np.array([0] * 259)\n",
    "ones = np.array([1] * 387)\n",
    "twos = np.array([2] * 261)\n",
    "threes = np.array([3] * 131)\n",
    "fours = np.array([4] * 40)\n",
    "fives = np.array([5] * 13)\n",
    "six = np.array([6] * 3)\n",
    "\n",
    "data = np.concatenate([zeros,ones,twos,threes,fours,fives,six])\n"
   ]
  },
  {
   "cell_type": "code",
   "execution_count": null,
   "metadata": {},
   "outputs": [],
   "source": [
    "data_mean = data.mean()\n",
    "data_std = data.std()\n",
    "print (data_mean)\n",
    "print (data_std)"
   ]
  },
  {
   "cell_type": "code",
   "execution_count": null,
   "metadata": {},
   "outputs": [],
   "source": [
    "scb = parse_scb_prel()\n",
    "scb"
   ]
  },
  {
   "cell_type": "code",
   "execution_count": null,
   "metadata": {},
   "outputs": [],
   "source": [
    "scb.loc[:'2020-06-30'].sum()"
   ]
  },
  {
   "cell_type": "code",
   "execution_count": null,
   "metadata": {},
   "outputs": [],
   "source": [
    " # första halvåret\n",
    "scb.loc[:'2020-06-30'].sum().loc['2020'] - scb.loc[:'2020-06-30'].sum().loc['2015-2019']"
   ]
  },
  {
   "cell_type": "code",
   "execution_count": null,
   "metadata": {},
   "outputs": [],
   "source": [
    "last_data_day = scb.index[-1]\n",
    "last_data_day"
   ]
  },
  {
   "cell_type": "code",
   "execution_count": null,
   "metadata": {
    "scrolled": false
   },
   "outputs": [],
   "source": [
    "day_excess = scb['2020'][:last_data_day] - scb['2015-2019'][:last_data_day]\n",
    "idx = day_excess.index.date\n",
    "day_excess.plot(x=idx,figsize=(18,12),style='ro--',\n",
    "               title='Sweden Daily Excess Deaths YTD {}\\nDataSource:SCB.se'.format(last_data_day.date()))\n",
    "plt.ylabel('Excess Deaths per day')\n",
    "\n",
    "plt.savefig('scb_excess_deaths_per_day.jpg',format='jpg')"
   ]
  },
  {
   "cell_type": "code",
   "execution_count": null,
   "metadata": {},
   "outputs": [],
   "source": [
    "cumulative_until_last_day = scb[:last_data_day].sum()\n",
    "cumulative_until_last_day['2020'] / cumulative_until_last_day['2015-2019']"
   ]
  },
  {
   "cell_type": "code",
   "execution_count": null,
   "metadata": {},
   "outputs": [],
   "source": [
    "scb_weekly = scb.resample('W-TUE').sum()\n",
    "print(scb_weekly.loc[:last_data_day].sum())\n",
    "(scb_weekly.loc[:last_data_day,'2020'] - scb_weekly.loc[:last_data_day,'2015-2019']).sum()"
   ]
  },
  {
   "cell_type": "code",
   "execution_count": null,
   "metadata": {},
   "outputs": [],
   "source": [
    "scb_weekly"
   ]
  },
  {
   "cell_type": "code",
   "execution_count": null,
   "metadata": {},
   "outputs": [],
   "source": [
    "scb_weekly.loc[:'2020-07-31'].sum()"
   ]
  },
  {
   "cell_type": "code",
   "execution_count": null,
   "metadata": {},
   "outputs": [],
   "source": [
    "scb_weekly['excess'] = scb_weekly['2020'] - scb_weekly['2015-2019']\n",
    "scb_weekly['cumexcess'] = scb_weekly['excess'].cumsum()\n",
    "scb_weekly"
   ]
  },
  {
   "cell_type": "code",
   "execution_count": null,
   "metadata": {
    "scrolled": false
   },
   "outputs": [],
   "source": [
    "scb_monthly = scb.resample('M').sum()\n",
    "scb_monthly['delta'] = scb_monthly['2020'] - scb_monthly['2015-2019']\n",
    "scb_monthly['cumdelta'] = (scb_monthly['delta'].cumsum())\n",
    "# last of feb not correct for delta - leap year\n",
    "scb_monthly"
   ]
  },
  {
   "cell_type": "code",
   "execution_count": null,
   "metadata": {},
   "outputs": [],
   "source": [
    "scb_monthly.loc[:'2020-07-31'].sum()"
   ]
  },
  {
   "cell_type": "code",
   "execution_count": null,
   "metadata": {},
   "outputs": [],
   "source": [
    "scb_monthly.loc[:'2020-07-31'].sum()['2020'] / 10.327589"
   ]
  },
  {
   "cell_type": "code",
   "execution_count": null,
   "metadata": {},
   "outputs": [],
   "source": [
    "data = scb_weekly.iloc[:,0:5]\n",
    "#data = data.iloc[:9]\n",
    "data.mean(axis=1)\n",
    "data"
   ]
  },
  {
   "cell_type": "code",
   "execution_count": null,
   "metadata": {},
   "outputs": [],
   "source": [
    "data_min = data.min(axis=1)\n",
    "data_max = data.max(axis=1)\n",
    "\n",
    "print (data.mean().mean())"
   ]
  },
  {
   "cell_type": "code",
   "execution_count": null,
   "metadata": {
    "scrolled": false
   },
   "outputs": [],
   "source": [
    "walk = 1000\n",
    "tune = 500\n",
    "chains = 2\n",
    "\n",
    "\n",
    "res_array = np.zeros((len(data),3))\n",
    "dist_array = np.zeros((len(data),walk*chains))\n",
    "\n",
    "for i in range(len(data)):\n",
    "    model = pm.Model()\n",
    "    with model:\n",
    "        print ('\\n++++++++++++++++++++ processing day ++++++++++++++++++++', i)\n",
    "        print (data.iloc[i,:])\n",
    "        print (data.iloc[i,:].mean())\n",
    "\n",
    "        lambda_ = pm.Exponential('lambda',1/ data.iloc[i,:].mean())\n",
    "        lkh  = pm.Poisson('lkh',lambda_,observed=data.iloc[i,:])\n",
    "        \n",
    "        trace = pm.sample(walk,tune=tune)\n",
    "        post = trace['lambda'][:]   \n",
    "\n",
    "        res_array[i,0] = post.min()\n",
    "        res_array[i,1] = post.mean()\n",
    "        res_array[i,2] = post.max()\n",
    "\n",
    "        dist_array[i,:] = post\n",
    "                     \n",
    "    "
   ]
  },
  {
   "cell_type": "code",
   "execution_count": null,
   "metadata": {},
   "outputs": [],
   "source": [
    "dist_array"
   ]
  },
  {
   "cell_type": "code",
   "execution_count": null,
   "metadata": {},
   "outputs": [],
   "source": [
    "N = 1000\n",
    "\n",
    "lambdas_per_week = np.zeros((len(dist_array),N))\n",
    "samples_per_week = np.zeros((len(dist_array),N))\n",
    "\n",
    "for week in range(len(dist_array)):\n",
    "    lambdas_per_week[week] = np.random.choice(dist_array[week],replace=True,size=N)\n",
    "    pois_dist = pm.Poisson.dist(lambdas_per_week[week])\n",
    "    samples_per_week[week] = pois_dist.random(size=N)"
   ]
  },
  {
   "cell_type": "code",
   "execution_count": null,
   "metadata": {},
   "outputs": [],
   "source": [
    "print (lambdas_per_week[:5])\n",
    "samples_per_week[:5]"
   ]
  },
  {
   "cell_type": "code",
   "execution_count": null,
   "metadata": {},
   "outputs": [],
   "source": [
    "ci_samples = np.percentile(samples_per_week,[5.5,94.5],axis=1)\n",
    "ci_samples\n",
    "\n",
    "plt.fill_between(scb_weekly.index,ci_samples[0],ci_samples[1])"
   ]
  },
  {
   "cell_type": "code",
   "execution_count": null,
   "metadata": {},
   "outputs": [],
   "source": [
    "res_array"
   ]
  },
  {
   "cell_type": "code",
   "execution_count": null,
   "metadata": {
    "scrolled": false
   },
   "outputs": [],
   "source": [
    "errors_low = np.abs(res_array[:,1] - res_array[:,0])\n",
    "errors_low = errors_low[:-1]\n",
    "errors_high = np.abs(res_array[:,1] - res_array[:,2]) \n",
    "errors_high = errors_high[:-1]\n",
    "print (errors_low)\n",
    "print (errors_high)\n",
    "\n",
    "errors = np.array((errors_low,errors_high))\n",
    "errors"
   ]
  },
  {
   "cell_type": "code",
   "execution_count": null,
   "metadata": {
    "scrolled": false
   },
   "outputs": [],
   "source": [
    "excess = scb_weekly.loc[:last_data_day,'2020'] - scb_weekly.loc[:last_data_day,'2015-2019']\n",
    "print (excess)\n",
    "current_excess = excess.cumsum()\n",
    "print (current_excess)\n",
    "excess.index = excess.index.date\n",
    "excess.plot.bar(x=excess.index,title='Sweden Weekly Excess deaths YTD {}\\nDataSource: SCB.se'.format(last_data_day.date()),\n",
    "                y=excess,\n",
    "                figsize=(18,12),\n",
    "                color='crimson')\n",
    "plt.ylabel('Number of Excess Deaths')\n",
    "plt.savefig('swe_excess_deaths.jpg',format='jpg',dpi=400)"
   ]
  },
  {
   "cell_type": "code",
   "execution_count": null,
   "metadata": {
    "scrolled": false
   },
   "outputs": [],
   "source": [
    "plt.figure(figsize=(18,12))\n",
    "plt.title('Sweden weekly & excess deaths 2020 Y2D '\\\n",
    "          '{} compared to average 2015-2019 Current nr Excess Deaths: {}\\n$Data Source: SCB.se$'.format(\n",
    "    excess.index[-1],int(current_excess[-1])))\n",
    "ax = plt.gca()\n",
    "ax2 = plt.twinx()\n",
    "\n",
    "ax.errorbar(scb_weekly.index[:len(data) - 1],res_array[:-1,1],yerr=errors,\n",
    "             fmt='o',capsize=5,color='lime',alpha=0.6,label='Posterior sample means with CI')\n",
    "\n",
    "ax.plot(scb_weekly.index[:len(data) -1],scb_weekly['2015-2019'][:-1],'o--',\n",
    "        markerfacecolor='none',markeredgecolor='navy',markersize=12,\n",
    "        label='2015-2019 mean')\n",
    "\n",
    "ax.plot(scb_weekly[:last_data_day].index,scb_weekly.loc[:last_data_day,'2020'],'o--',\n",
    "         color='crimson',label='2020 data')\n",
    "\n",
    "ax.fill_between(scb_weekly.index[:len(data) -1],y1=data_min[:-1],y2=data_max[:-1],color='grey',\n",
    "                 alpha=0.2,label='2015-2019 range')\n",
    "\n",
    "ax.fill_between(scb_weekly.index[:len(data) -1],y1=ci_samples[0][:-1],y2=ci_samples[1][:-1],color='c',\n",
    "                 alpha=0.2,label='Poisson Sample 89% CI')\n",
    "\n",
    "\n",
    "\n",
    "ax2.plot(excess.index,excess.cumsum(),'o--',ls='dashed',color='orange',label='Cumulative Excess Deaths')\n",
    "ax.set_ylabel('number of weekly deaths')\n",
    "ax2.set_ylabel('cumulative Excess deaths')\n",
    "ax.legend(loc='upper left')\n",
    "ax2.legend(loc='upper right')\n",
    "plt.savefig('scb_poisson_weekly.jpg',format='jpg',dpi=400)"
   ]
  },
  {
   "cell_type": "code",
   "execution_count": null,
   "metadata": {
    "scrolled": false
   },
   "outputs": [],
   "source": [
    "#scb_monthly.index = scb_monthly.index.date\n",
    "scb_monthly[['2020','2015-2019']][:pd.Timestamp('2020-07-31')].plot.bar(color=['r','orange'],\n",
    "                                                                        title='Sweden deaths per month\\nDataSource: SCB.se',figsize=(18,12))\n",
    "plt.ylabel('Number of deaths')\n",
    "plt.xticks(range(len(scb_monthly[:pd.Timestamp('2020-07-31')])),['Jan','Feb','Mar','Apr','May','Jun','Jul'])\n",
    "plt.savefig('scb_monthly_deaths.jpg',format='jpg')"
   ]
  }
 ],
 "metadata": {
  "kernelspec": {
   "display_name": "Python 3",
   "language": "python",
   "name": "python3"
  },
  "language_info": {
   "codemirror_mode": {
    "name": "ipython",
    "version": 3
   },
   "file_extension": ".py",
   "mimetype": "text/x-python",
   "name": "python",
   "nbconvert_exporter": "python",
   "pygments_lexer": "ipython3",
   "version": "3.8.5"
  }
 },
 "nbformat": 4,
 "nbformat_minor": 4
}
