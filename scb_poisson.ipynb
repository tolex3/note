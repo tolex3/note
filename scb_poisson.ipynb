{
 "cells": [
  {
   "cell_type": "code",
   "execution_count": null,
   "metadata": {},
   "outputs": [],
   "source": [
    "# uses first sheet of scb excel\n",
    "\n",
    "import numpy as np\n",
    "import matplotlib.pyplot as plt\n",
    "import seaborn as sns\n",
    "import pandas as pd\n",
    "import pymc3 as pm\n",
    "import arviz as az\n",
    "import scipy.stats as sps\n",
    "import requests\n",
    "\n",
    "sns.set()"
   ]
  },
  {
   "cell_type": "code",
   "execution_count": null,
   "metadata": {},
   "outputs": [],
   "source": [
    "def parse_scb_prel(YTD=True):\n",
    "    \n",
    "    def monthname2number(m):\n",
    "        if m == 'januari' : return 1\n",
    "        if m == 'februari' : return 2\n",
    "        if m == 'mars' : return 3\n",
    "        if m == 'april' : return 4\n",
    "        if m == 'maj' : return 5\n",
    "        if m == 'juni' : return 6\n",
    "        if m == 'juli' : return 7\n",
    "        if m == 'augusti' : return 8\n",
    "        if m == 'september' : return 9\n",
    "        if m == 'oktober' : return 10\n",
    "        if m == 'november' : return 11\n",
    "        if m == 'december' : return 12\n",
    "\n",
    "    df = pd.read_csv('scb-dead_per_day.csv',sep=';',usecols=[1,2,3,4,5,6,7,10,11],thousands=',')\n",
    "    \n",
    "    df['month'] = df['Månad'].apply(monthname2number)\n",
    "    df[['Månad','month']] = df[['Månad','month']].replace(np.nan,0)\n",
    "    df['month'] = df['month'].astype(int)\n",
    "    \n",
    "    df[['2015','2016','2017','2018','2019','2020','2015-2019']] = df[['2015','2016','2017','2018','2019','2020','2015-2019']].astype(int)\n",
    "    \n",
    "    unknown_death_day = df.iloc[-1,:7]\n",
    "    \n",
    "    df.drop(366,inplace=True)\n",
    "    \n",
    "    if YTD:\n",
    "        df = df.loc[df['2020'] != 0]\n",
    "        \n",
    "    df = df.drop('Månad',axis=1)\n",
    "    \n",
    "    known_death_day = df.iloc[:,:7].sum()\n",
    "    \n",
    "    year_fraction = len(df) / 366\n",
    "    \n",
    "    unknown_death_day[['2015','2016','2017','2018','2019','2015-2019']] = unknown_death_day[\n",
    "    ['2015','2016','2017','2018','2019','2015-2019']] * year_fraction\n",
    "    \n",
    "    dead_pct_per_day = df[['2015','2016','2017','2018','2019','2020','2015-2019']] / known_death_day\n",
    "    \n",
    "    all_deaths = df[['2015','2016','2017','2018','2019','2020','2015-2019']] + unknown_death_day * dead_pct_per_day\n",
    "    \n",
    "    if YTD:\n",
    "        index = pd.date_range('2020-01-01',periods=len(all_deaths))\n",
    "    else:\n",
    "        index = pd.date_range('2020-01-01','2020-12-31')\n",
    "        \n",
    "    all_deaths.index = index\n",
    "    \n",
    "    return all_deaths\n",
    "    \n",
    "    "
   ]
  },
  {
   "cell_type": "code",
   "execution_count": null,
   "metadata": {},
   "outputs": [],
   "source": [
    "# days with k homicides in UK\n",
    "zeros = np.array([0] * 259)\n",
    "ones = np.array([1] * 387)\n",
    "twos = np.array([2] * 261)\n",
    "threes = np.array([3] * 131)\n",
    "fours = np.array([4] * 40)\n",
    "fives = np.array([5] * 13)\n",
    "six = np.array([6] * 3)\n",
    "\n",
    "data = np.concatenate([zeros,ones,twos,threes,fours,fives,six])\n"
   ]
  },
  {
   "cell_type": "code",
   "execution_count": null,
   "metadata": {},
   "outputs": [],
   "source": [
    "data_mean = data.mean()\n",
    "data_std = data.std()\n",
    "print (data_mean)\n",
    "print (data_std)"
   ]
  },
  {
   "cell_type": "code",
   "execution_count": null,
   "metadata": {},
   "outputs": [],
   "source": [
    "scb = parse_scb_prel()\n",
    "scb"
   ]
  },
  {
   "cell_type": "code",
   "execution_count": null,
   "metadata": {},
   "outputs": [],
   "source": [
    "scb.loc[:'2020-06-30'].sum()"
   ]
  },
  {
   "cell_type": "code",
   "execution_count": null,
   "metadata": {},
   "outputs": [],
   "source": [
    " # första halvåret\n",
    "scb.loc[:'2020-06-30'].sum().loc['2020'] - scb.loc[:'2020-06-30'].sum().loc['2015-2019']"
   ]
  },
  {
   "cell_type": "code",
   "execution_count": null,
   "metadata": {},
   "outputs": [],
   "source": [
    "last_data_day = scb.index[-1]\n",
    "last_data_day"
   ]
  },
  {
   "cell_type": "code",
   "execution_count": null,
   "metadata": {
    "scrolled": false
   },
   "outputs": [],
   "source": [
    "day_excess = scb['2020'][:last_data_day] - scb['2015-2019'][:last_data_day]\n",
    "idx = day_excess.index.date\n",
    "day_excess.plot(x=idx,figsize=(18,12),style='ro--',\n",
    "               title='Sweden Daily Excess Deaths YTD {}\\nDataSource:SCB.se'.format(last_data_day.date()))\n",
    "plt.ylabel('Excess Deaths per day')\n",
    "\n",
    "plt.savefig('scb_excess_deaths_per_day.jpg',format='jpg')"
   ]
  },
  {
   "cell_type": "code",
   "execution_count": null,
   "metadata": {},
   "outputs": [],
   "source": [
    "cumulative_until_last_day = scb[:last_data_day].sum()\n",
    "cumulative_until_last_day['2020'] / cumulative_until_last_day['2015-2019']"
   ]
  },
  {
   "cell_type": "code",
   "execution_count": null,
   "metadata": {},
   "outputs": [],
   "source": [
    "scb_weekly = scb.resample('W-TUE').sum()\n",
    "print(scb_weekly.loc[:last_data_day].sum())\n",
    "(scb_weekly.loc[:last_data_day,'2020'] - scb_weekly.loc[:last_data_day,'2015-2019']).sum()"
   ]
  },
  {
   "cell_type": "code",
   "execution_count": null,
   "metadata": {},
   "outputs": [],
   "source": [
    "scb_weekly"
   ]
  },
  {
   "cell_type": "code",
   "execution_count": null,
   "metadata": {},
   "outputs": [],
   "source": [
    "scb_weekly.loc[:'2020-07-31'].sum()"
   ]
  },
  {
   "cell_type": "code",
   "execution_count": null,
   "metadata": {},
   "outputs": [],
   "source": [
    "scb_weekly['excess'] = scb_weekly['2020'] - scb_weekly['2015-2019']\n",
    "scb_weekly['cumexcess'] = scb_weekly['excess'].cumsum()\n",
    "scb_weekly"
   ]
  },
  {
   "cell_type": "code",
   "execution_count": null,
   "metadata": {
    "scrolled": false
   },
   "outputs": [],
   "source": [
    "scb_monthly = scb.resample('M').sum()\n",
    "scb_monthly['delta'] = scb_monthly['2020'] - scb_monthly['2015-2019']\n",
    "scb_monthly['cumdelta'] = (scb_monthly['delta'].cumsum())\n",
    "# last of feb not correct for delta - leap year\n",
    "scb_monthly"
   ]
  },
  {
   "cell_type": "code",
   "execution_count": null,
   "metadata": {},
   "outputs": [],
   "source": [
    "scb_monthly.loc[:'2020-07-31'].sum()"
   ]
  },
  {
   "cell_type": "code",
   "execution_count": null,
   "metadata": {},
   "outputs": [],
   "source": [
    "scb_monthly.loc[:'2020-07-31'].sum()['2020'] / 10.327589"
   ]
  },
  {
   "cell_type": "code",
   "execution_count": null,
   "metadata": {},
   "outputs": [],
   "source": [
    "data = scb_weekly.iloc[:,0:5]\n",
    "#data = data.iloc[:9]\n",
    "data.mean(axis=1)\n",
    "data"
   ]
  },
  {
   "cell_type": "code",
   "execution_count": null,
   "metadata": {},
   "outputs": [],
   "source": [
    "data_min = data.min(axis=1)\n",
    "data_max = data.max(axis=1)\n",
    "\n",
    "print (data.mean().mean())"
   ]
  },
  {
   "cell_type": "code",
   "execution_count": null,
   "metadata": {
    "scrolled": false
   },
   "outputs": [],
   "source": [
    "walk = 1000\n",
    "tune = 500\n",
    "chains = 2\n",
    "\n",
    "\n",
    "res_array = np.zeros((len(data),3))\n",
    "dist_array = np.zeros((len(data),walk*chains))\n",
    "\n",
    "for i in range(len(data)):\n",
    "    \n",
    "    model1 = pm.Model()\n",
    "    \n",
    "    with model1:\n",
    "        \n",
    "        print ('\\n++++++++++++++++++++ processing day ++++++++++++++++++++', i)\n",
    "        print (data.iloc[i,:])\n",
    "        print (data.iloc[i,:].mean())\n",
    "\n",
    "        lambda_ = pm.Exponential('lambda',1/ data.iloc[i,:].mean())\n",
    "        lkh  = pm.Poisson('lkh',lambda_,observed=data.iloc[i,:])\n",
    "        \n",
    "        trace1 = pm.sample(walk,tune=tune)\n",
    "        post = trace1['lambda'][:]   \n",
    "\n",
    "        res_array[i,0] = post.min()\n",
    "        res_array[i,1] = post.mean()\n",
    "        res_array[i,2] = post.max()\n",
    "\n",
    "        dist_array[i,:] = post\n",
    "                     \n",
    "    "
   ]
  },
  {
   "cell_type": "code",
   "execution_count": null,
   "metadata": {},
   "outputs": [],
   "source": [
    "dist_array"
   ]
  },
  {
   "cell_type": "code",
   "execution_count": null,
   "metadata": {},
   "outputs": [],
   "source": [
    "N = 1000\n",
    "\n",
    "lambdas_per_week = np.zeros((len(dist_array),N))\n",
    "samples_per_week = np.zeros((len(dist_array),N))\n",
    "\n",
    "for week in range(len(dist_array)):\n",
    "    \n",
    "    lambdas_per_week[week] = np.random.choice(dist_array[week],replace=True,size=N)\n",
    "    pois_dist = pm.Poisson.dist(lambdas_per_week[week])\n",
    "    samples_per_week[week] = pois_dist.random(size=N)"
   ]
  },
  {
   "cell_type": "code",
   "execution_count": null,
   "metadata": {},
   "outputs": [],
   "source": [
    "print (lambdas_per_week[:5])\n",
    "samples_per_week[:5]"
   ]
  },
  {
   "cell_type": "code",
   "execution_count": null,
   "metadata": {},
   "outputs": [],
   "source": [
    "ci_samples = np.percentile(samples_per_week,[5.5,94.5],axis=1)\n",
    "ci_samples\n",
    "\n",
    "plt.fill_between(scb_weekly.index,ci_samples[0],ci_samples[1])"
   ]
  },
  {
   "cell_type": "code",
   "execution_count": null,
   "metadata": {},
   "outputs": [],
   "source": [
    "res_array"
   ]
  },
  {
   "cell_type": "code",
   "execution_count": null,
   "metadata": {
    "scrolled": false
   },
   "outputs": [],
   "source": [
    "errors_low = np.abs(res_array[:,1] - res_array[:,0])\n",
    "errors_low = errors_low[:-1]\n",
    "errors_high = np.abs(res_array[:,1] - res_array[:,2]) \n",
    "errors_high = errors_high[:-1]\n",
    "print (errors_low)\n",
    "print (errors_high)\n",
    "\n",
    "errors = np.array((errors_low,errors_high))\n",
    "errors"
   ]
  },
  {
   "cell_type": "code",
   "execution_count": null,
   "metadata": {
    "scrolled": false
   },
   "outputs": [],
   "source": [
    "excess = scb_weekly.loc[:last_data_day,'2020'] - scb_weekly.loc[:last_data_day,'2015-2019']\n",
    "print (excess)\n",
    "current_excess = excess.cumsum()\n",
    "print (current_excess)\n",
    "excess.index = excess.index.date\n",
    "excess.plot.bar(x=excess.index,title='Sweden Weekly Excess deaths YTD {}\\nDataSource: SCB.se'.format(last_data_day.date()),\n",
    "                y=excess,\n",
    "                figsize=(18,12),\n",
    "                color='crimson')\n",
    "plt.ylabel('Number of Excess Deaths')\n",
    "plt.savefig('swe_excess_deaths.jpg',format='jpg',dpi=400)"
   ]
  },
  {
   "cell_type": "code",
   "execution_count": null,
   "metadata": {
    "scrolled": false
   },
   "outputs": [],
   "source": [
    "plt.figure(figsize=(18,12))\n",
    "plt.title('Sweden weekly & excess deaths 2020 Y2D '\\\n",
    "          '{} compared to average 2015-2019 Current nr Excess Deaths: {}\\n$Data Source: SCB.se$'.format(\n",
    "    excess.index[-1],int(current_excess[-1])))\n",
    "ax = plt.gca()\n",
    "ax2 = plt.twinx()\n",
    "\n",
    "ax.errorbar(scb_weekly.index[:len(data) - 1],res_array[:-1,1],yerr=errors,\n",
    "             fmt='o',capsize=5,color='lime',alpha=0.6,label='Posterior sample means with CI')\n",
    "\n",
    "ax.plot(scb_weekly.index[:len(data) -1],scb_weekly['2015-2019'][:-1],'o--',\n",
    "        markerfacecolor='none',markeredgecolor='navy',markersize=12,\n",
    "        label='2015-2019 mean')\n",
    "\n",
    "ax.plot(scb_weekly[:last_data_day].index,scb_weekly.loc[:last_data_day,'2020'],'o--',\n",
    "         color='crimson',label='2020 data')\n",
    "\n",
    "ax.fill_between(scb_weekly.index[:len(data) -1],y1=data_min[:-1],y2=data_max[:-1],color='grey',\n",
    "                 alpha=0.2,label='2015-2019 range')\n",
    "\n",
    "ax.fill_between(scb_weekly.index[:len(data) -1],y1=ci_samples[0][:-1],y2=ci_samples[1][:-1],color='c',\n",
    "                 alpha=0.2,label='Poisson Sample 89% CI')\n",
    "\n",
    "\n",
    "\n",
    "ax2.plot(excess.index,excess.cumsum(),'o--',ls='dashed',color='orange',label='Cumulative Excess Deaths')\n",
    "ax.set_ylabel('number of weekly deaths')\n",
    "ax2.set_ylabel('cumulative Excess deaths')\n",
    "ax.legend(loc='upper left')\n",
    "ax2.legend(loc='upper right')\n",
    "plt.savefig('scb_poisson_weekly.jpg',format='jpg',dpi=400)"
   ]
  },
  {
   "cell_type": "code",
   "execution_count": null,
   "metadata": {
    "scrolled": false
   },
   "outputs": [],
   "source": [
    "#scb_monthly.index = scb_monthly.index.date\n",
    "scb_monthly[['2020','2015-2019']][:pd.Timestamp('2020-08-31')].plot.bar(color=['r','orange'],\n",
    "                                                                        title='Sweden deaths per month\\nDataSource: SCB.se',figsize=(18,12))\n",
    "plt.ylabel('Number of deaths')\n",
    "plt.xticks(range(len(scb_monthly[:pd.Timestamp('2020-08-31')])),['Jan','Feb','Mar','Apr','May','Jun','Jul',\n",
    "                                                                'Aug'])\n",
    "plt.savefig('scb_monthly_deaths.jpg',format='jpg')"
   ]
  },
  {
   "cell_type": "code",
   "execution_count": null,
   "metadata": {},
   "outputs": [],
   "source": [
    "### population 2014-2019\n",
    "url = 'http://api.scb.se/OV0104/v1/doris/sv/ssd/START/BE/BE0101/BE0101A/BefolkningR1860'\n",
    "data = {\n",
    "  \"query\": [\n",
    "    {\n",
    "      \"code\": \"Alder\",\n",
    "      \"selection\": {\n",
    "        \"filter\": \"vs:ÅlderTotA\",\n",
    "        \"values\": []\n",
    "      }\n",
    "    },\n",
    "    {\n",
    "      \"code\": \"Kon\",\n",
    "      \"selection\": {\n",
    "        \"filter\": \"item\",\n",
    "        \"values\": [\n",
    "          \"1\",\n",
    "          \"2\"\n",
    "        ]\n",
    "      }\n",
    "    },\n",
    "    {\n",
    "      \"code\": \"Tid\",\n",
    "      \"selection\": {\n",
    "        \"filter\": \"item\",\n",
    "        \"values\": [\n",
    "          \"2014\",  \n",
    "          \"2015\",\n",
    "          \"2016\",\n",
    "          \"2017\",\n",
    "          \"2018\",\n",
    "          \"2019\"\n",
    "        ]\n",
    "      }\n",
    "    }\n",
    "  ],\n",
    "  \"response\": {\n",
    "    \"format\": \"json\"\n",
    "  }\n",
    "}"
   ]
  },
  {
   "cell_type": "code",
   "execution_count": null,
   "metadata": {},
   "outputs": [],
   "source": [
    "r = requests.post(url,json=data)\n",
    "r.status_code"
   ]
  },
  {
   "cell_type": "code",
   "execution_count": null,
   "metadata": {},
   "outputs": [],
   "source": [
    "json = r.json()"
   ]
  },
  {
   "cell_type": "code",
   "execution_count": null,
   "metadata": {},
   "outputs": [],
   "source": [
    "data_list = []\n",
    "\n",
    "for rec in range(len(json['data'])):\n",
    "    data_list.append((json['data'][rec]['key'][0],json['data'][rec]['key'][1],json['data'][rec]['values'][0]))"
   ]
  },
  {
   "cell_type": "code",
   "execution_count": null,
   "metadata": {},
   "outputs": [],
   "source": [
    "population = pd.DataFrame(data_list,columns=['gender','year','population'])\n",
    "population = population.set_index('year')\n",
    "population['population'] = population['population'].astype(int)"
   ]
  },
  {
   "cell_type": "code",
   "execution_count": null,
   "metadata": {},
   "outputs": [],
   "source": [
    "population = population.groupby(population.index).sum()\n",
    "population['growth'] = population['population'] / population['population'].shift()\n",
    "\n",
    "\n",
    "population.loc['2020','population'] = population.loc['2019','population']  \n",
    "population['population'] = population['population'].astype(int)\n",
    "population"
   ]
  },
  {
   "cell_type": "code",
   "execution_count": null,
   "metadata": {},
   "outputs": [],
   "source": [
    "pop = population['population']\n",
    "pop = pop.shift()\n",
    "pop"
   ]
  },
  {
   "cell_type": "code",
   "execution_count": null,
   "metadata": {},
   "outputs": [],
   "source": [
    "pop.drop('2014',inplace=True)\n",
    "pop"
   ]
  },
  {
   "cell_type": "code",
   "execution_count": null,
   "metadata": {},
   "outputs": [],
   "source": [
    "weekly_deaths = scb_weekly.loc[:,'2015':'2020'].copy()\n",
    "weekly_deaths['2015-2018'] = weekly_deaths.loc[:,'2015':'2018'].mean(axis=1)\n",
    "\n",
    "weekly_deaths_no_truncate = weekly_deaths.copy()\n",
    "weekly_deaths = weekly_deaths[:-1]\n",
    "weekly_deaths"
   ]
  },
  {
   "cell_type": "code",
   "execution_count": null,
   "metadata": {},
   "outputs": [],
   "source": [
    "weekly_deaths_no_truncate"
   ]
  },
  {
   "cell_type": "code",
   "execution_count": null,
   "metadata": {},
   "outputs": [],
   "source": [
    "weekly_deaths_per_m = weekly_deaths / (pop / 1e6)\n",
    "weekly_deaths_per_m['2015-2018'] = weekly_deaths_per_m.loc[:,'2015' : '2018'].mean(axis=1)\n",
    "weekly_deaths_per_m['excess'] = weekly_deaths_per_m['2020'] - weekly_deaths_per_m['2015-2018']\n",
    "weekly_deaths_per_m['cum_excess'] = weekly_deaths_per_m['excess'].cumsum()\n",
    "weekly_deaths_per_m['abs_excess'] = weekly_deaths_per_m['cum_excess'] * (pop['2020'] / 1e6)\n",
    "weekly_deaths_per_m['min'] = weekly_deaths_per_m.loc[:,'2015':'2018'].min(axis=1)\n",
    "weekly_deaths_per_m['max'] = weekly_deaths_per_m.loc[:,'2015' :'2018'].max(axis=1)\n",
    "weekly_deaths_per_m"
   ]
  },
  {
   "cell_type": "code",
   "execution_count": null,
   "metadata": {},
   "outputs": [],
   "source": [
    "data = weekly_deaths_per_m.loc[:,'2015' : '2020'].copy()\n",
    "data_orig = data.copy()\n",
    "\n",
    "data.drop('2015-2018',axis=1,inplace=True)\n",
    "\n",
    "data\n"
   ]
  },
  {
   "cell_type": "code",
   "execution_count": null,
   "metadata": {},
   "outputs": [],
   "source": [
    "data = data.unstack().reset_index()\n",
    "data.columns=['year','week','dead_per_m']\n"
   ]
  },
  {
   "cell_type": "code",
   "execution_count": null,
   "metadata": {},
   "outputs": [],
   "source": [
    "data['week']"
   ]
  },
  {
   "cell_type": "code",
   "execution_count": null,
   "metadata": {},
   "outputs": [],
   "source": [
    "unique_weeks = data['week'].dt.date.unique()\n",
    "week_idx_map = dict(zip(unique_weeks,range(len(unique_weeks))))\n",
    "\n",
    "unique_years = data['year'].unique()\n",
    "year_idx_map = dict(zip(unique_years,range(len(unique_years))))\n",
    "year_idx_map"
   ]
  },
  {
   "cell_type": "code",
   "execution_count": null,
   "metadata": {},
   "outputs": [],
   "source": [
    "data['week_idx'] = data['week'].apply(lambda x : week_idx_map[pd.to_datetime(x).date()])\n",
    "data['year_idx'] = data['year'].apply(lambda x : year_idx_map[x])\n",
    "data.head(50)"
   ]
  },
  {
   "cell_type": "code",
   "execution_count": null,
   "metadata": {
    "scrolled": false
   },
   "outputs": [],
   "source": [
    "model2 = pm.Model()\n",
    "\n",
    "week_idx = data['week_idx'].values\n",
    "\n",
    "with model2:\n",
    "\n",
    "    lambda_bar = pm.Exponential('lambda_bar',1 / data['dead_per_m'].mean())\n",
    "    lambda_ = pm.Exponential('lambda_',lambda_bar,shape=len(week_idx_map))\n",
    "    lkh = pm.Poisson('lkh',lambda_[week_idx],observed=data['dead_per_m'])\n",
    "    \n",
    "    trace2 = pm.sample(500,tune=500)\n",
    "    \n",
    "    result2 = pm.trace_to_dataframe(trace2)\n",
    "    summary2 = az.summary(trace2)\n",
    "    az.plot_trace(trace2)"
   ]
  },
  {
   "cell_type": "code",
   "execution_count": null,
   "metadata": {},
   "outputs": [],
   "source": [
    "print (summary2)"
   ]
  },
  {
   "cell_type": "code",
   "execution_count": null,
   "metadata": {},
   "outputs": [],
   "source": [
    "result2.describe()"
   ]
  },
  {
   "cell_type": "code",
   "execution_count": null,
   "metadata": {},
   "outputs": [],
   "source": [
    "weekly_means = result2.describe().loc['mean','lambda___0' :]\n",
    "\n",
    "weekly_means"
   ]
  },
  {
   "cell_type": "code",
   "execution_count": null,
   "metadata": {},
   "outputs": [],
   "source": [
    "CI = result2.loc[:,'lambda___0':].quantile([0.055,0.945])\n",
    "CI"
   ]
  },
  {
   "cell_type": "code",
   "execution_count": null,
   "metadata": {},
   "outputs": [],
   "source": [
    "abs_error = np.abs(weekly_means - CI)\n",
    "abs_error"
   ]
  },
  {
   "cell_type": "code",
   "execution_count": null,
   "metadata": {},
   "outputs": [],
   "source": [
    "plt.figure(figsize=(18,12))\n",
    "\n",
    "ax = plt.gca()\n",
    "\n",
    "ax2 = plt.twinx()\n",
    "\n",
    "ax.plot(weekly_deaths_per_m.index,weekly_deaths_per_m['2020'],'o--',\n",
    "         color='crimson',label='weekly deaths per million')\n",
    "\n",
    "\n",
    "ax.plot(weekly_deaths_per_m.index,weekly_deaths_per_m['2015-2018'],'o--',\n",
    "         markerfacecolor='none',markeredgecolor='navy',label='average 2015-2018')\n",
    "\n",
    "ax.fill_between(weekly_deaths_per_m.index,weekly_deaths_per_m['min'],weekly_deaths_per_m['max'],\n",
    "                color='grey',alpha=0.3,label='2015-2018 range')\n",
    "\n",
    "ax.errorbar(weekly_deaths_per_m.index,weekly_means,yerr=abs_error.values,\n",
    "            fmt='o--',capsize=5,mec='g',mfc='none',color='g',label='Poisson expectation 89% CI')\n",
    "\n",
    "\n",
    "ax.legend(loc='upper left')\n",
    "\n",
    "ax2.plot(weekly_deaths_per_m.index,weekly_deaths_per_m['cum_excess'],'o--',color='orange',\n",
    "        label='cumulative excess deaths per M')\n",
    "\n",
    "plt.title('SWEDEN Weekly All Cause deaths & excess deaths, per million, cmp Baseline 2015-2018')\n",
    "ax.set_ylabel('deaths per million')\n",
    "ax2.set_ylabel('cumulative excess deaths per M')\n",
    "ax2.legend(loc='upper right')\n",
    "\n",
    "plt.savefig('scb_poisson_per_m.jpg',format='jpg')"
   ]
  },
  {
   "cell_type": "code",
   "execution_count": null,
   "metadata": {},
   "outputs": [],
   "source": [
    "post_samples2 = pm.sample_posterior_predictive(trace2,100,model2)\n",
    "post_samples2"
   ]
  },
  {
   "cell_type": "code",
   "execution_count": null,
   "metadata": {},
   "outputs": [],
   "source": [
    "data_ppc2 = az.from_pymc3(trace=trace2,model=model2,posterior_predictive=post_samples2)\n",
    "data_ppc2"
   ]
  },
  {
   "cell_type": "code",
   "execution_count": null,
   "metadata": {},
   "outputs": [],
   "source": [
    "az.plot_ppc(data_ppc2,figsize=(18,12))"
   ]
  },
  {
   "cell_type": "code",
   "execution_count": null,
   "metadata": {},
   "outputs": [],
   "source": [
    "az.plot_forest(trace2,model_names=[model2],figsize=(18,12),combined=True,colors='r',hdi_prob=0.89)\n"
   ]
  },
  {
   "cell_type": "code",
   "execution_count": null,
   "metadata": {},
   "outputs": [],
   "source": [
    "pop"
   ]
  },
  {
   "cell_type": "code",
   "execution_count": null,
   "metadata": {},
   "outputs": [],
   "source": [
    "data['pop'] = data['year'].apply(lambda x : pop[x])\n",
    "data"
   ]
  },
  {
   "cell_type": "code",
   "execution_count": null,
   "metadata": {
    "scrolled": false
   },
   "outputs": [],
   "source": [
    "# Scientific, dynamic model, not a GLM\n",
    "\n",
    "# Delta D = alpha * Pop^beta - gamma\n",
    "\n",
    "# alpha = deaths per individual\n",
    "# beta = Elasticity (diminishing returns)\n",
    "# gamma = death loss (e.g. better health care)\n",
    "\n",
    "# D ~ Poisson(lambda)\n",
    "# lambda = exp(a[year_idx,week_idx]) * P^b[year_idx,week_idx] / g\n",
    "# a = pm.Normal('a',1,1,shape=len(unique_weeks))\n",
    "# b = pm.Exponential('b',1,shape=len(unique_weeks))\n",
    "# g = pm.Exponential(1)\n",
    "\n",
    "model3 = pm.Model()\n",
    "\n",
    "year_idx = data['year_idx'].values\n",
    "\n",
    "with model3:\n",
    "    \n",
    "    a = pm.Normal('a',mu=1,sigma=1,shape=(len(year_idx_map),len(week_idx_map)))\n",
    "    b = pm.Exponential('b',1,shape=(len(year_idx_map),len(week_idx_map)))\n",
    "    g = pm.Exponential('g',1)\n",
    "    \n",
    "    lambda_ = np.exp(a[year_idx,week_idx]) * np.log(data['pop'].values) ** b[year_idx,week_idx] / g\n",
    "    \n",
    "    lkh = pm.Poisson('lkh',lambda_,observed=data['dead_per_m'].values.astype(int))\n",
    "    \n",
    "    step1 = pm.Metropolis()\n",
    "    trace3 = pm.sample(500,tune=500,target_accept=0.95)\n",
    "    \n",
    "    result3 = pm.trace_to_dataframe(trace3)\n",
    "    summary3 = az.summary(trace3)\n",
    "    \n",
    "    _= az.plot_trace(trace3)\n",
    "    "
   ]
  },
  {
   "cell_type": "code",
   "execution_count": null,
   "metadata": {},
   "outputs": [],
   "source": [
    "def alpha_cols(col):\n",
    "    if 'a_' in col.name:\n",
    "        return True\n",
    "    return False\n",
    "\n",
    "def beta_cols(col):\n",
    "    if 'b_' in col.name:\n",
    "        return True\n",
    "    return False\n",
    "\n",
    "def gamma_col(col):\n",
    "    if col.name == 'g':\n",
    "        return True\n",
    "    return False\n",
    "\n",
    "alpha_mask = result3.apply(alpha_cols)\n",
    "alphas = result3.loc[:,alpha_mask]\n",
    "\n",
    "beta_mask = result3.apply(beta_cols)\n",
    "betas = result3.loc[:,beta_mask]\n",
    "\n",
    "gamma_mask = result3.apply(gamma_col)\n",
    "gamma = result3.loc[:,gamma_mask]\n",
    "\n",
    "gamma"
   ]
  },
  {
   "cell_type": "code",
   "execution_count": null,
   "metadata": {},
   "outputs": [],
   "source": [
    "summary3"
   ]
  },
  {
   "cell_type": "code",
   "execution_count": null,
   "metadata": {
    "scrolled": false
   },
   "outputs": [],
   "source": [
    "plt.figure(figsize=(18,12))\n",
    "\n",
    "ax = plt.gca()\n",
    "ax.plot(range(len(alphas.mean())),alphas.mean(),'o--')\n",
    "\n",
    "ax.plot(range(len(betas.mean())),betas.mean(),'o--')"
   ]
  },
  {
   "cell_type": "code",
   "execution_count": null,
   "metadata": {},
   "outputs": [],
   "source": [
    "alphas"
   ]
  },
  {
   "cell_type": "code",
   "execution_count": null,
   "metadata": {
    "scrolled": false
   },
   "outputs": [],
   "source": [
    "lambdas = np.exp(alphas.values) * np.log(10e6) ** betas.values / gamma.values\n",
    "plt.plot(range(len(lambdas)),lambdas)\n",
    "\n",
    "lambdas.shape"
   ]
  },
  {
   "cell_type": "code",
   "execution_count": null,
   "metadata": {},
   "outputs": [],
   "source": [
    "samples = pm.Poisson.dist(lambdas.mean(axis=0)).random(size=1000)\n",
    "samples.shape"
   ]
  },
  {
   "cell_type": "code",
   "execution_count": null,
   "metadata": {
    "scrolled": false
   },
   "outputs": [],
   "source": [
    "CI = np.percentile(samples,[5.5,94.5],axis=0)\n",
    "weekly_mins = data.loc[data['year_idx'].isin([0,1,2,3])].groupby('week_idx').min()['dead_per_m']\n",
    "weekly_max = data.loc[data['year_idx'].isin([0,1,2,3])].groupby('week_idx').max()['dead_per_m']\n",
    "\n",
    "weekly_max"
   ]
  },
  {
   "cell_type": "code",
   "execution_count": null,
   "metadata": {},
   "outputs": [],
   "source": [
    "cols = data['year'].str.cat(data['week_idx'].astype(str),sep='_')\n",
    "\n",
    "weekly_means = data.loc[data['year_idx'].isin([0,1,2,3])].groupby('week_idx').mean()['dead_per_m']\n",
    "weekly_means"
   ]
  },
  {
   "cell_type": "code",
   "execution_count": null,
   "metadata": {},
   "outputs": [],
   "source": [
    "repeated_weekly_means = np.array(list (weekly_means) * 6)\n",
    "repeat_weekly_means = repeated_weekly_means\n",
    "\n",
    "\n",
    "data['dead_per_m'] - repeated_weekly_means"
   ]
  },
  {
   "cell_type": "code",
   "execution_count": null,
   "metadata": {},
   "outputs": [],
   "source": [
    "plt.figure(figsize=(18,12))\n",
    "idx = pd.date_range(start='2015-01-01',end='2020-09-15',freq='W-WED')\n",
    "plt.plot(data['dead_per_m'] - repeated_weekly_means,'o--')\n",
    "idx"
   ]
  },
  {
   "cell_type": "code",
   "execution_count": null,
   "metadata": {},
   "outputs": [],
   "source": [
    "last_week = data.iloc[-1,1].date()\n",
    "month_name = pd.to_datetime(data.iloc[-1,1]).month_name()\n",
    "day = last_week.day"
   ]
  },
  {
   "cell_type": "code",
   "execution_count": null,
   "metadata": {},
   "outputs": [],
   "source": [
    "CI[1]"
   ]
  },
  {
   "cell_type": "code",
   "execution_count": null,
   "metadata": {
    "scrolled": false
   },
   "outputs": [],
   "source": [
    "last_week = data.iloc[-1,1].date()\n",
    "\n",
    "plt.figure(figsize=(18,12))\n",
    "\n",
    "plt.title('SWEDEN weekly deaths per million 2015 - 2020, period Jan 1st - {} {}'.format(month_name,day))\n",
    "\n",
    "plt.plot(range(len(samples.mean(axis=0))),samples.mean(axis=0),'o--',label='Poisson expectation',\n",
    "         mec='k',mfc='none')\n",
    "\n",
    "plt.fill_between(range(len(samples.T)),CI[0],CI[1],color='m',alpha=0.3,label='Poisson 89% CI')\n",
    "\n",
    "plt.plot(range(len(data)),data['dead_per_m'],'o--',mec='red',mfc='none',label='actuals')\n",
    "\n",
    "\n",
    "for i in range(len(year_idx_map)):\n",
    "    \n",
    "    label = 'start of year' if i == 0 else ''\n",
    "    label2 = '2015-2018 mean' if i == 0 else ''\n",
    "    label3 = '2015-2018 range' if i == 0 else ''\n",
    "    \n",
    "    plt.axvline(i * len(week_idx_map),ls='--',color='orange',label=label)\n",
    "    \n",
    "    plt.plot(range(i*len(week_idx_map),i*len(week_idx_map)+ len(week_idx_map)),weekly_means,'x--',\n",
    "             color='orange',label=label2)\n",
    "    \n",
    "    plt.fill_between(range(i*len(week_idx_map),i*len(week_idx_map) + len(week_idx_map)),\n",
    "    weekly_mins,weekly_max,alpha=0.3,color='c',label=label3)\n",
    "    \n",
    "plt.legend(loc='upper left')\n",
    "\n",
    "    \n",
    "plt.ylabel('weekly deaths per million')\n",
    "plt.xlabel('week nr jan 2015 - {}'.format(last_week))\n",
    "\n",
    "plt.savefig('scb_weekly_deaths_per_m_2015_2020.jpg',format='jpg',dpi=400)\n"
   ]
  },
  {
   "cell_type": "code",
   "execution_count": null,
   "metadata": {
    "scrolled": false
   },
   "outputs": [],
   "source": [
    "under_mean = ((data['dead_per_m'] - repeat_weekly_means) < 0).astype(int) \n",
    "under_mean = under_mean.loc[under_mean==1]\n",
    "under_mean.loc[125:200].plot(x=under_mean.index,style='o--',figsize=(18,12))"
   ]
  },
  {
   "cell_type": "code",
   "execution_count": null,
   "metadata": {},
   "outputs": [],
   "source": [
    "post_samples3 = pm.sample_posterior_predictive(trace3,100,model3)\n",
    "data_ppc3 = az.from_pymc3(trace=trace3,model=model3,posterior_predictive=post_samples3)\n",
    "az.plot_ppc(data_ppc3,figsize=(18,12))\n",
    "az.plot_forest(trace3,model_names=[model3],figsize=(18,12),combined=True,colors='r',hdi_prob=0.89)\n"
   ]
  },
  {
   "cell_type": "code",
   "execution_count": null,
   "metadata": {},
   "outputs": [],
   "source": [
    "weekly_deaths_per_m"
   ]
  },
  {
   "cell_type": "code",
   "execution_count": null,
   "metadata": {},
   "outputs": [],
   "source": [
    "excess_2019 = weekly_deaths_per_m['2019'] - weekly_deaths_per_m['2015-2018']\n",
    "excess_2020 = weekly_deaths_per_m['2020'] - weekly_deaths_per_m['2015-2018']"
   ]
  },
  {
   "cell_type": "code",
   "execution_count": null,
   "metadata": {
    "scrolled": false
   },
   "outputs": [],
   "source": [
    "xticks = ['Jan','Feb','Mar','April','May','Jun','Jul','Aug']\n",
    "\n",
    "plt.figure(figsize=(18,12))\n",
    "\n",
    "plt.subplot(211)\n",
    "\n",
    "plt.title('SWEDEN weekly all cause deaths per million 2019 & 2020 vs 2015-2018 average : Jan 1:st - {}'.format(last_week))\n",
    "plt.plot(weekly_deaths_per_m['2015-2018'],'o--',color='k',label='2015-2018 mean')\n",
    "plt.plot(weekly_deaths_per_m['2019'],'o--',color='g',label='2019')\n",
    "plt.plot(weekly_deaths_per_m['2020'],'o--',color='r',label='2020')\n",
    "plt.ylabel('deaths per million')\n",
    "plt.legend(loc='upper left')\n",
    "\n",
    "plt.subplot(212)\n",
    "\n",
    "plt.title('SWEDEN weekly all cause cumulative excess deaths per million 2019 & 2020 vs 2015-2018 average : Jan 1:st - {}'.format(last_week))\n",
    "\n",
    "plt.plot(excess_2019.cumsum(),'o--',color='g',label='2019')\n",
    "plt.plot(excess_2020.cumsum(),'o--',color='r',label='2020')\n",
    "\n",
    "plt.ylabel('deaths per million')\n",
    "plt.legend(loc='upper left')\n",
    "plt.savefig('excess_deaths_2019_2020_cmp_15-18.jpg',format='jpg')"
   ]
  },
  {
   "cell_type": "code",
   "execution_count": null,
   "metadata": {},
   "outputs": [],
   "source": [
    "data.head()"
   ]
  },
  {
   "cell_type": "code",
   "execution_count": null,
   "metadata": {
    "scrolled": false
   },
   "outputs": [],
   "source": [
    "# ONLY condition on years\n",
    "\n",
    "# Scientific, dynamic model, not a GLM\n",
    "\n",
    "# Delta D = alpha * Pop^beta - gamma\n",
    "\n",
    "# alpha = deaths per individual\n",
    "# beta = Elasticity (diminishing returns)\n",
    "# gamma = death loss (e.g. better health care)\n",
    "\n",
    "# D ~ Poisson(lambda)\n",
    "# lambda = exp(a[year_idx]) * P^b[week_idx] / g\n",
    "# a = pm.Normal('a',1,1,shape=len(unique_weeks))\n",
    "# b = pm.Exponential('b',1,shape=len(unique_weeks))\n",
    "# g = pm.Exponential(1)\n",
    "\n",
    "\n",
    "model4 = pm.Model()\n",
    "\n",
    "year_idx = data['year_idx'].values\n",
    "\n",
    "with model4:\n",
    "    \n",
    "    a = pm.Normal('a',mu=1,sigma=1,shape=len(year_idx_map))\n",
    "    b = pm.Exponential('b',1,shape=len(year_idx_map))\n",
    "    g = pm.Exponential('g',1)\n",
    "    \n",
    "    lambda_ = np.exp(a[year_idx]) * np.log(data['pop'].values) ** b[year_idx] / g\n",
    "    \n",
    "    lkh = pm.Poisson('lkh',lambda_,observed=data['dead_per_m'].values.astype(int))\n",
    "    \n",
    "    step1 = pm.Metropolis()\n",
    "    trace4 = pm.sample(500,tune=500,target_accept=0.95)\n",
    "    \n",
    "    result4 = pm.trace_to_dataframe(trace4)\n",
    "    summary4 = az.summary(trace4)\n",
    "    \n",
    "    _= az.plot_trace(trace4)"
   ]
  },
  {
   "cell_type": "code",
   "execution_count": null,
   "metadata": {},
   "outputs": [],
   "source": [
    "summary4\n"
   ]
  },
  {
   "cell_type": "code",
   "execution_count": null,
   "metadata": {},
   "outputs": [],
   "source": [
    "\n",
    "alphas = result4.iloc[:,0:6]\n",
    "betas = result4.iloc[:,6:12]\n",
    "gamma = result4['g']\n",
    "betas"
   ]
  },
  {
   "cell_type": "code",
   "execution_count": null,
   "metadata": {},
   "outputs": [],
   "source": [
    "lambdas = pd.DataFrame(np.exp(alphas.values) * np.log(pop.T.values) ** betas.values) \n",
    "lambdas.columns=['2015','2016','2017','2018','2019','2020']\n",
    "lambdas = lambdas.div(gamma,axis=0)\n",
    "lambdas"
   ]
  },
  {
   "cell_type": "code",
   "execution_count": null,
   "metadata": {},
   "outputs": [],
   "source": [
    "lambdas.mean()"
   ]
  },
  {
   "cell_type": "code",
   "execution_count": null,
   "metadata": {},
   "outputs": [],
   "source": [
    "lambdas.mean().plot(kind='bar',\n",
    "                    figsize=(18,12),color='red',\n",
    "                    title='SWEDEN average weekly deaths per million, 2015-2020 YTD {}'.format(last_week))\n",
    "\n",
    "plt.ylabel('average weekly deaths per million')"
   ]
  },
  {
   "cell_type": "code",
   "execution_count": null,
   "metadata": {},
   "outputs": [],
   "source": [
    "yearly_week_means = data.groupby('year').mean()\n",
    "yearly_week_means"
   ]
  },
  {
   "cell_type": "code",
   "execution_count": null,
   "metadata": {},
   "outputs": [],
   "source": [
    "CI = lambdas.quantile([0.055,0.945])\n",
    "CI"
   ]
  },
  {
   "cell_type": "code",
   "execution_count": null,
   "metadata": {},
   "outputs": [],
   "source": [
    "samples = pm.Poisson.dist(lambdas.mean()).random(size=1000)\n",
    "samples"
   ]
  },
  {
   "cell_type": "code",
   "execution_count": null,
   "metadata": {},
   "outputs": [],
   "source": [
    "sample_CI = np.percentile(samples,[5.5,94.5],axis=0)\n",
    "sample_CI"
   ]
  },
  {
   "cell_type": "code",
   "execution_count": null,
   "metadata": {},
   "outputs": [],
   "source": [
    "az.plot_hdi([0,1,2,3,4,5],samples,hdi_prob=0.89)"
   ]
  },
  {
   "cell_type": "code",
   "execution_count": null,
   "metadata": {
    "scrolled": false
   },
   "outputs": [],
   "source": [
    "plt.figure(figsize=(18,12))\n",
    "plt.title('SWEDEN average weekly deaths per million, 2015-2020, YTD {}'.format(last_week))\n",
    "\n",
    "ax = plt.gca()\n",
    "\n",
    "az.plot_hdi([0,1,2,3,4,5],samples,hdi_prob=0.89,ax=ax,fill_kwargs={'alpha' : 0.5,'label' : 'Samples HDI'})\n",
    "\n",
    "plt.plot(lambdas.mean(),'o--',color='orange',label='Lambda means')\n",
    "plt.fill_between(lambdas.mean().index,CI.loc[0.055],CI.loc[0.945],color='c',alpha=0.3,label='Lambda CI 89%')\n",
    "plt.fill_between(lambdas.mean().index,lambdas.min(),lambdas.max(),color='grey',alpha=0.3,label='actuals range')\n",
    "\n",
    "plt.plot(lambdas.mean().index,samples.mean(axis=0),'o--',color='lime',label='Poisson sample means')\n",
    "plt.fill_between(lambdas.mean().index,sample_CI[0],sample_CI[1],color='g',alpha=0.3,label='sample CI 89%')\n",
    "\n",
    "plt.plot(yearly_week_means['dead_per_m'],'o--',color='r',label='actuals')\n",
    "plt.ylabel('average weekly deaths per million')\n",
    "plt.legend(loc='upper left')"
   ]
  },
  {
   "cell_type": "code",
   "execution_count": null,
   "metadata": {},
   "outputs": [],
   "source": [
    "post_samples4 = pm.sample_posterior_predictive(trace4,1000,model4)\n",
    "post_samples4['lkh'].shape"
   ]
  },
  {
   "cell_type": "code",
   "execution_count": null,
   "metadata": {},
   "outputs": [],
   "source": [
    "np.percentile(post_samples4['lkh'],[5.5,94.5])"
   ]
  },
  {
   "cell_type": "code",
   "execution_count": null,
   "metadata": {},
   "outputs": [],
   "source": [
    "data_ppc4 = az.from_pymc3(trace=trace4,model=model4,posterior_predictive=post_samples4)\n",
    "data_ppc4"
   ]
  },
  {
   "cell_type": "code",
   "execution_count": null,
   "metadata": {},
   "outputs": [],
   "source": [
    "az.plot_ppc(data_ppc4,figsize=(18,12),)"
   ]
  },
  {
   "cell_type": "code",
   "execution_count": null,
   "metadata": {},
   "outputs": [],
   "source": []
  },
  {
   "cell_type": "code",
   "execution_count": null,
   "metadata": {},
   "outputs": [],
   "source": [
    "az.plot_forest(trace4,model_names=[model4],figsize=(18,12),combined=True,colors='r',hdi_prob=0.89)\n"
   ]
  },
  {
   "cell_type": "code",
   "execution_count": null,
   "metadata": {},
   "outputs": [],
   "source": [
    "scb_daily = parse_scb_prel(YTD=False)\n",
    "scb_daily.drop('2015-2019',axis=1,inplace=True)\n",
    "scb_daily = scb_daily.astype(float)\n",
    "scb_daily.info()\n"
   ]
  },
  {
   "cell_type": "code",
   "execution_count": null,
   "metadata": {},
   "outputs": [],
   "source": [
    "print (scb_daily.loc['2020-02-29'])\n",
    "print (scb_daily.loc['2020-02-28'])\n",
    "\n",
    "scb_daily.loc['2020-02-28'] += 0.5 * scb_daily.loc['2020-02-29']\n",
    "scb_daily.loc['2020-03-01'] += 0.5 * scb_daily.loc['2020-02-29']\n",
    "\n",
    "scb_daily.loc['2020-02-27' : '2020-03-02']"
   ]
  },
  {
   "cell_type": "code",
   "execution_count": null,
   "metadata": {},
   "outputs": [],
   "source": [
    "scb_daily.drop(pd.to_datetime('2020-02-29'),inplace=True)\n",
    "scb_daily['2015-2018'] = scb_daily.loc[:,'2015' : '2018'].mean(axis=1)\n",
    "scb_daily"
   ]
  },
  {
   "cell_type": "code",
   "execution_count": null,
   "metadata": {},
   "outputs": [],
   "source": [
    "scb_daily.loc['2020-02-27' : '2020-03-03']"
   ]
  },
  {
   "cell_type": "code",
   "execution_count": null,
   "metadata": {},
   "outputs": [],
   "source": [
    "scb_daily.info()\n"
   ]
  },
  {
   "cell_type": "code",
   "execution_count": null,
   "metadata": {},
   "outputs": [],
   "source": [
    "pop['2015-2018'] = pop['2015' : '2018'].mean()\n",
    "pop"
   ]
  },
  {
   "cell_type": "code",
   "execution_count": null,
   "metadata": {},
   "outputs": [],
   "source": []
  },
  {
   "cell_type": "code",
   "execution_count": null,
   "metadata": {},
   "outputs": [],
   "source": [
    "scb_daily_per_m = scb_daily / (pop / 1e6)\n",
    "scb_daily_per_m"
   ]
  },
  {
   "cell_type": "code",
   "execution_count": null,
   "metadata": {},
   "outputs": [],
   "source": [
    "scb_daily.plot(y=['2015-2018','2020'])"
   ]
  },
  {
   "cell_type": "code",
   "execution_count": null,
   "metadata": {},
   "outputs": [],
   "source": [
    "scb_daily_per_m.plot(y=['2015-2018','2020'])"
   ]
  },
  {
   "cell_type": "code",
   "execution_count": null,
   "metadata": {},
   "outputs": [],
   "source": [
    "scb_monthly_per_m = scb_daily_per_m.resample('M').sum()\n",
    "scb_monthly_per_m"
   ]
  },
  {
   "cell_type": "code",
   "execution_count": null,
   "metadata": {},
   "outputs": [],
   "source": [
    "scb_monthly_per_m.plot(y=['2015-2018','2020'])"
   ]
  },
  {
   "cell_type": "code",
   "execution_count": null,
   "metadata": {},
   "outputs": [],
   "source": [
    "scb_transaction = scb_monthly_per_m.unstack().reset_index()\n",
    "scb_transaction.columns=['year','month','dead_per_m']\n",
    "scb_transaction = scb_transaction.loc[scb_transaction['year'] != '2015-2018']\n",
    "scb_transaction"
   ]
  },
  {
   "cell_type": "code",
   "execution_count": null,
   "metadata": {},
   "outputs": [],
   "source": [
    "scb_transaction['monthNr'] = scb_transaction['month'].dt.month\n",
    "scb_transaction['year_month'] = scb_transaction['year'].astype(\n",
    "    str).str.cat(scb_transaction['monthNr'].astype(str),'_')"
   ]
  },
  {
   "cell_type": "code",
   "execution_count": null,
   "metadata": {},
   "outputs": [],
   "source": [
    "scb_transaction"
   ]
  },
  {
   "cell_type": "code",
   "execution_count": null,
   "metadata": {},
   "outputs": [],
   "source": [
    "scb_transaction.set_index('year_month',inplace=True)\n"
   ]
  },
  {
   "cell_type": "code",
   "execution_count": null,
   "metadata": {},
   "outputs": [],
   "source": [
    "scb_transaction = (scb_transaction.loc[scb_transaction['dead_per_m'] > 0 ]).copy()\n",
    "scb_transaction"
   ]
  },
  {
   "cell_type": "code",
   "execution_count": null,
   "metadata": {},
   "outputs": [],
   "source": [
    "monthly_means=scb_transaction.loc[scb_transaction.year.isin(\n",
    "    ['2015','2016','2017','2018'])].groupby('monthNr')['dead_per_m'].mean()\n",
    "\n",
    "monthly_mins=scb_transaction.loc[scb_transaction.year.isin(\n",
    "    ['2015','2016','2017','2018'])].groupby('monthNr')['dead_per_m'].min()\n",
    "\n",
    "monthly_maxs=scb_transaction.loc[scb_transaction.year.isin(\n",
    "    ['2015','2016','2017','2018'])].groupby('monthNr')['dead_per_m'].max()\n",
    "\n",
    "scb_transaction['monthly_mean'] = scb_transaction['monthNr'].apply(lambda x : monthly_means.loc[x])\n",
    "scb_transaction['monthly_min'] = scb_transaction['monthNr'].apply(lambda x : monthly_mins.loc[x])\n",
    "scb_transaction['monthly_max'] = scb_transaction['monthNr'].apply(lambda x : monthly_maxs.loc[x])\n",
    "\n",
    "scb_transaction"
   ]
  },
  {
   "cell_type": "code",
   "execution_count": null,
   "metadata": {},
   "outputs": [],
   "source": [
    "scb_transaction.groupby('year').sum()"
   ]
  },
  {
   "cell_type": "code",
   "execution_count": null,
   "metadata": {
    "scrolled": false
   },
   "outputs": [],
   "source": [
    "plt.figure(figsize=(18,12))\n",
    "plt.title('SWEDEN monthly all cause deaths per million, 2015-2020 YTD {}'.format(scb_transaction.iloc[-2,1].date()))\n",
    "\n",
    "plt.plot(scb_transaction['dead_per_m'][:-1],'o--',color='r',label='monthly deaths per million')\n",
    "\n",
    "plt.plot(scb_transaction['monthly_mean'][:-1],'o--',color='orange',label='2015-2018 monthly average')\n",
    "\n",
    "plt.fill_between(scb_transaction.index[:-1],scb_transaction['monthly_min'][:-1],\n",
    "                scb_transaction['monthly_max'][:-1],color='c',alpha=0.3,label='2015-2018 monthly range')\n",
    "\n",
    "\n",
    "_= plt.xticks(rotation=90)\n",
    "\n",
    "for month in range(len(scb_transaction)):\n",
    "    if month % 12 == 0:\n",
    "        plt.axvline(month,color='grey',ls='dashed')\n",
    "\n",
    "plt.legend(loc='upper left')\n",
    "plt.ylabel('monthly deaths per million')\n",
    "plt.xlabel('Year_Month')\n",
    "\n",
    "plt.savefig('scb_deaths_per_m_monthly_2015_2020.jpg',format='jpg',dpi=400)"
   ]
  },
  {
   "cell_type": "code",
   "execution_count": null,
   "metadata": {},
   "outputs": [],
   "source": [
    "#### do one with a credible interval for 2020 ###\n",
    "#### uses real data until last_data_day, then a PYMC distribution based on historical data for the\n",
    "#### remaining days of the year to provide a cumulative sum of full year 2020 deaths\n",
    "\n",
    "df_hist = parse_scb_prel(YTD=False)\n",
    "df_hist.drop('2015-2019',axis=1,inplace=True)"
   ]
  },
  {
   "cell_type": "code",
   "execution_count": null,
   "metadata": {},
   "outputs": [],
   "source": [
    "df_hist"
   ]
  },
  {
   "cell_type": "code",
   "execution_count": null,
   "metadata": {},
   "outputs": [],
   "source": [
    "# fill 2020 dates with no data yet with mean of 2015-2019,\n",
    "# creating a 2020 with real data to last_date, and rest of the year with mean of 2015-2019\n",
    "\n",
    "mask = df_hist['2020'] == 0\n",
    "\n",
    "df_hist.loc[mask,'2020'] = df_hist.loc[mask,'2015' : '2019'].mean(axis=1)"
   ]
  },
  {
   "cell_type": "code",
   "execution_count": null,
   "metadata": {},
   "outputs": [],
   "source": [
    "df_hist"
   ]
  },
  {
   "cell_type": "code",
   "execution_count": null,
   "metadata": {},
   "outputs": [],
   "source": [
    "df_hist.sum()"
   ]
  },
  {
   "cell_type": "code",
   "execution_count": null,
   "metadata": {},
   "outputs": [],
   "source": []
  },
  {
   "cell_type": "code",
   "execution_count": null,
   "metadata": {},
   "outputs": [],
   "source": [
    "mort_hist = df_hist.sum().div(pop)\n",
    "mort_hist.drop('2015-2018',inplace=True)\n",
    "    "
   ]
  },
  {
   "cell_type": "code",
   "execution_count": null,
   "metadata": {},
   "outputs": [],
   "source": [
    "mort_hist"
   ]
  },
  {
   "cell_type": "code",
   "execution_count": null,
   "metadata": {},
   "outputs": [],
   "source": [
    "mort_hist.plot(kind='bar')"
   ]
  },
  {
   "cell_type": "code",
   "execution_count": null,
   "metadata": {},
   "outputs": [],
   "source": [
    "df_hist"
   ]
  },
  {
   "cell_type": "code",
   "execution_count": null,
   "metadata": {},
   "outputs": [],
   "source": [
    "df_hist = df_hist / (pop / 1e6 )\n",
    "df_hist.drop('2015-2018',axis=1,inplace=True)"
   ]
  },
  {
   "cell_type": "code",
   "execution_count": null,
   "metadata": {},
   "outputs": [],
   "source": [
    "df_hist"
   ]
  },
  {
   "cell_type": "code",
   "execution_count": null,
   "metadata": {},
   "outputs": [],
   "source": [
    "df_hist_transaction = df_hist.unstack().reset_index()"
   ]
  },
  {
   "cell_type": "code",
   "execution_count": null,
   "metadata": {},
   "outputs": [],
   "source": [
    "df_hist_transaction.loc[df_hist_transaction['level_1'] == '2020-02-29']\n",
    "df_hist_transaction.drop([59,791,1157,1523],inplace=True)"
   ]
  },
  {
   "cell_type": "code",
   "execution_count": null,
   "metadata": {},
   "outputs": [],
   "source": [
    "df_hist_transaction\n",
    "date_hist = pd.date_range('2015-01-01','2020-12-31')\n",
    "df_hist_transaction.index = date_hist\n",
    "df_hist_transaction.drop(['level_0'],inplace=True,axis=1)"
   ]
  },
  {
   "cell_type": "code",
   "execution_count": null,
   "metadata": {},
   "outputs": [],
   "source": [
    "df_hist_transaction['day_idx'] = df_hist_transaction.level_1.dt.dayofyear\n",
    "df_hist_transaction.drop('level_1',axis=1,inplace=True)\n",
    "df_hist_transaction.rename(columns={0:'dead'},inplace=True)\n"
   ]
  },
  {
   "cell_type": "code",
   "execution_count": null,
   "metadata": {},
   "outputs": [],
   "source": [
    "df_hist_transaction"
   ]
  },
  {
   "cell_type": "code",
   "execution_count": null,
   "metadata": {},
   "outputs": [],
   "source": [
    "len(df_hist_transaction['day_idx'].unique())"
   ]
  },
  {
   "cell_type": "code",
   "execution_count": null,
   "metadata": {},
   "outputs": [],
   "source": [
    "model5 = pm.Model()\n",
    "\n",
    "day_idx = df_hist_transaction['day_idx'].values\n",
    "\n",
    "with model5:\n",
    "\n",
    "    lambda_bar = pm.Exponential('lambda_bar',1 / df_hist_transaction['dead'].mean())\n",
    "    \n",
    "    lambda_ = pm.Exponential('lambda_',1 / lambda_bar,shape=len(df_hist_transaction['day_idx'].unique()))\n",
    "    \n",
    "    lkh = pm.Poisson('lkh',lambda_[day_idx-1],observed=df_hist_transaction['dead'])\n",
    "    \n",
    "    trace5 = pm.sample(500,tune=500)\n",
    "    \n",
    "    summary5 = az.summary(trace5)\n",
    "    "
   ]
  },
  {
   "cell_type": "code",
   "execution_count": null,
   "metadata": {},
   "outputs": [],
   "source": [
    "with model5:\n",
    "    print (summary5)"
   ]
  },
  {
   "cell_type": "code",
   "execution_count": null,
   "metadata": {
    "scrolled": false
   },
   "outputs": [],
   "source": [
    "with model5:\n",
    "    az.plot_forest(trace5,var_names=['lambda_bar','lambda_'])"
   ]
  },
  {
   "cell_type": "code",
   "execution_count": null,
   "metadata": {},
   "outputs": [],
   "source": [
    "daily_hist_means = pd.DataFrame(trace5['lambda_']).T\n",
    "dates = pd.date_range('2020-01-01','2020-12-31')\n",
    "daily_hist_means.index=dates\n",
    "daily_hist_means"
   ]
  },
  {
   "cell_type": "code",
   "execution_count": null,
   "metadata": {},
   "outputs": [],
   "source": [
    "ci_hist = np.percentile(daily_hist_means,[5.5,94.5],axis=1)\n",
    "print (ci_hist[:,0])\n",
    "means_hist = daily_hist_means.mean(axis=1)\n",
    "means_hist"
   ]
  },
  {
   "cell_type": "code",
   "execution_count": null,
   "metadata": {},
   "outputs": [],
   "source": [
    "plt.plot(daily_hist_means.iloc[0,:])"
   ]
  },
  {
   "cell_type": "code",
   "execution_count": null,
   "metadata": {},
   "outputs": [],
   "source": [
    "ax = means_hist.plot(figsize=(18,12))\n",
    "df_hist.plot(ax=ax,y='2020')"
   ]
  },
  {
   "cell_type": "code",
   "execution_count": null,
   "metadata": {},
   "outputs": [],
   "source": [
    "df_hist[df_hist['2020'] < 15]"
   ]
  },
  {
   "cell_type": "code",
   "execution_count": null,
   "metadata": {},
   "outputs": [],
   "source": [
    "last_data_day - pd.DateOffset(days=7)"
   ]
  },
  {
   "cell_type": "code",
   "execution_count": null,
   "metadata": {},
   "outputs": [],
   "source": [
    "means_hist[:last_data_day] = df_hist.loc[:last_data_day,'2020'] "
   ]
  },
  {
   "cell_type": "code",
   "execution_count": null,
   "metadata": {},
   "outputs": [],
   "source": [
    "ax = means_hist.plot(figsize=(18,12),style='--')\n",
    "df_hist.plot(ax=ax,y='2020',style='--')\n",
    "ax.fill_between(df_hist.index,ci_hist[0,:],ci_hist[1,:],color='m',alpha=0.3)"
   ]
  },
  {
   "cell_type": "code",
   "execution_count": null,
   "metadata": {},
   "outputs": [],
   "source": [
    "means_hist.sum()"
   ]
  },
  {
   "cell_type": "code",
   "execution_count": null,
   "metadata": {},
   "outputs": [],
   "source": [
    "last_data_day_idx = last_data_day.dayofyear\n",
    "last_data_day_idx\n",
    "\n",
    "best_case = means_hist.copy()\n",
    "worst_case = means_hist.copy()\n",
    "\n",
    "best_case[last_data_day:] = ci_hist[0,last_data_day_idx-1:]\n",
    "worst_case[last_data_day:] = ci_hist[1,last_data_day_idx-1:]\n",
    "\n",
    "print (best_case.sum())\n",
    "print (means_hist.sum())\n",
    "worst_case.sum()"
   ]
  },
  {
   "cell_type": "code",
   "execution_count": null,
   "metadata": {},
   "outputs": [],
   "source": [
    "#### NOTE : NOT AGE ADJ DATA!!! ####\n",
    "\n",
    "err_hist_low = np.abs(best_case.sum() - means_hist.sum())\n",
    "err_hist_high = np.abs(worst_case.sum() - means_hist.sum())\n",
    "\n",
    "avg_2015_2018 = (mort_hist['2015' : '2018']).mean() * 1e6\n",
    "\n",
    "title = 'SWEDEN deaths per million 2015-2020 (forecasted)\\nnon-age adj data\\nDataSource:scb.se'\n",
    "ax = (mort_hist * 1e6).plot(kind='bar',color='orange',figsize=(18,12),title=title)\n",
    "\n",
    "err = np.array([[0,0],[0,0],[0,0],[0,0],[0,0],[err_hist_low,err_hist_high]])\n",
    "ax.errorbar(mort_hist.index,(mort_hist*1e6),err.T,fmt='none',ecolor='k',capsize=5)\n",
    "\n",
    "ax.axhline(avg_2015_2018,color='r',ls='dashed')\n",
    "\n",
    "_ = ax.set_yticks(range(0,10000,1000))\n",
    "#ax.set_ylim([8000,10000])"
   ]
  },
  {
   "cell_type": "code",
   "execution_count": null,
   "metadata": {},
   "outputs": [],
   "source": [
    "print((mort_hist['2015' : '2018'] * 1e6).mean())\n",
    "(mort_hist * 1e6) - (mort_hist['2015' : '2018'] * 1e6).mean()"
   ]
  },
  {
   "cell_type": "code",
   "execution_count": null,
   "metadata": {},
   "outputs": [],
   "source": []
  }
 ],
 "metadata": {
  "kernelspec": {
   "display_name": "Python 3",
   "language": "python",
   "name": "python3"
  },
  "language_info": {
   "codemirror_mode": {
    "name": "ipython",
    "version": 3
   },
   "file_extension": ".py",
   "mimetype": "text/x-python",
   "name": "python",
   "nbconvert_exporter": "python",
   "pygments_lexer": "ipython3",
   "version": "3.8.5"
  }
 },
 "nbformat": 4,
 "nbformat_minor": 4
}
