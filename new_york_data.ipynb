{
 "cells": [
  {
   "cell_type": "code",
   "execution_count": null,
   "metadata": {},
   "outputs": [],
   "source": [
    "import numpy as np\n",
    "import matplotlib.pyplot as plt\n",
    "import seaborn as sns\n",
    "import pandas as pd\n",
    "\n",
    "def get_daily_data(f):\n",
    "    df = pd.read_csv(f,sep=',')\n",
    "    us = df.groupby('Country_Region').get_group('US')\n",
    "    ny_mask = us.loc[:,'Province_State'] == 'New York'\n",
    "    ny = us[ny_mask].copy()\n",
    "    ny['Last_Update'] = pd.to_datetime(ny['Last_Update'])\n",
    "    ny['Last_Update'] = ny['Last_Update'].dt.date\n",
    "    return ny\n",
    "\n",
    "def get_daily_data_2(f):\n",
    "    df = pd.read_csv(f,sep=',')\n",
    "    us = df.groupby('Country/Region').get_group('US')\n",
    "    ny_mask = us.loc[:,'Province/State'] == 'New York'\n",
    "    ny = us[ny_mask].copy()\n",
    "    ny['Last Update'] = pd.to_datetime(ny['Last Update'])\n",
    "    ny['Last Update'] = ny['Last Update'].dt.date\n",
    "    return ny\n",
    "\n",
    "f = '~/corona/COVID-19/csse_covid_19_data/csse_covid_19_daily_reports/03-29-2020.csv'\n",
    "\n",
    "df = get_daily_data(f)\n",
    "\n",
    "\n",
    "df2 = get_daily_data_2('~/corona/COVID-19/csse_covid_19_data/csse_covid_19_daily_reports/03-21-2020.csv')"
   ]
  },
  {
   "cell_type": "code",
   "execution_count": null,
   "metadata": {
    "scrolled": false
   },
   "outputs": [],
   "source": [
    "import glob\n",
    "\n",
    "file_prefix = '../../corona/COVID-19/csse_covid_19_data/csse_covid_19_daily_reports/*.csv'\n",
    "\n",
    "files = [f for f in glob.glob(file_prefix)]\n",
    "files = sorted(files)\n",
    "\n",
    "file_s = pd.Series(files)\n",
    "change_idx = 59\n",
    "\n",
    "timeline_df_1 = pd.DataFrame()\n",
    "timeline_df_2 = pd.DataFrame()\n",
    "\n",
    "for i,f in file_s.iteritems():\n",
    "    \n",
    "    \n",
    "    if i > change_idx:\n",
    "        temp = get_daily_data(f)\n",
    "        timeline_df_1 = pd.concat([timeline_df_1,temp],axis=0)\n",
    "    else:\n",
    "        temp = get_daily_data_2(f)\n",
    "        timeline_df_2 = pd.concat([timeline_df_2,temp],axis=0)\n",
    "        \n",
    "    \n",
    "timeline_df_1 = timeline_df_1.groupby(['Province_State','Last_Update']).sum()\n",
    "\n",
    "timeline_df_1.drop(['FIPS','Lat','Long_','Active'],axis=1,inplace=True)\n",
    "timeline_df_1.reset_index(inplace=True)\n",
    "timeline_df_2.drop(['Country/Region','Latitude','Longitude'],axis=1,inplace=True)\n",
    "timeline_df_2.rename(columns={'Province/State':'Province_State',\n",
    "                             'Last Update':'Last_Update'},inplace=True)\n",
    "\n",
    "timeline_df = pd.concat([timeline_df_2,timeline_df_1],axis=0)\n",
    "#timeline_df.drop(203,inplace=True) # double entry\n",
    "timeline_df.at[203,'Last_Update'] = pd.to_datetime('2020-03-13').date() # wrong date\n",
    "\n",
    "timeline_df['inc'] = timeline_df['Confirmed'] - timeline_df['Confirmed'].shift()\n",
    "timeline_df['inc_dead'] = timeline_df['Deaths'] - timeline_df['Deaths'].shift()\n",
    "timeline_df['factor'] = timeline_df['Confirmed'] / timeline_df['Confirmed'].shift()\n",
    "timeline_df['factor_dead'] = timeline_df['Deaths'] / timeline_df['Deaths'].shift()\n",
    "timeline_df.replace(np.inf,np.nan,inplace=True)\n",
    "\n",
    "timeline_df.columns = ['state','date','confirmed','dead','recovered','inc','inc_dead',\n",
    "                       'factor','factor_dead']\n",
    "\n",
    "timeline_df.to_pickle('ny_timeline.pkl')\n",
    "timeline_df"
   ]
  },
  {
   "cell_type": "code",
   "execution_count": null,
   "metadata": {},
   "outputs": [],
   "source": []
  }
 ],
 "metadata": {
  "kernelspec": {
   "display_name": "Python 3",
   "language": "python",
   "name": "python3"
  },
  "language_info": {
   "codemirror_mode": {
    "name": "ipython",
    "version": 3
   },
   "file_extension": ".py",
   "mimetype": "text/x-python",
   "name": "python",
   "nbconvert_exporter": "python",
   "pygments_lexer": "ipython3",
   "version": "3.6.9"
  }
 },
 "nbformat": 4,
 "nbformat_minor": 4
}
