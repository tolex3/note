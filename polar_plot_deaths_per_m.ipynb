{
 "cells": [
  {
   "cell_type": "code",
   "execution_count": null,
   "metadata": {},
   "outputs": [],
   "source": [
    "import numpy as np\n",
    "import matplotlib.pyplot as plt\n",
    "import seaborn as sns\n",
    "import pandas as pd\n",
    "import pymc3 as pm\n",
    "\n",
    "\n",
    "\n",
    "sns.set()\n",
    "\n",
    "\n",
    "###### must run scb_population_deaths before this #####\n",
    "### 2020 population 2019 * growth factor 2018-2019"
   ]
  },
  {
   "cell_type": "code",
   "execution_count": null,
   "metadata": {},
   "outputs": [],
   "source": [
    "##### MUST RUN covid_confirmed and then PYMC3_mortality to produce ifr_data.pkl\n",
    "\n",
    "df = pd.read_pickle('ifr_data.pkl')"
   ]
  },
  {
   "cell_type": "code",
   "execution_count": null,
   "metadata": {},
   "outputs": [],
   "source": [
    "df.tail()"
   ]
  },
  {
   "cell_type": "code",
   "execution_count": null,
   "metadata": {},
   "outputs": [],
   "source": [
    "swe = df.loc[df['country'] == 'Sweden']\n",
    "swe"
   ]
  },
  {
   "cell_type": "code",
   "execution_count": null,
   "metadata": {},
   "outputs": [],
   "source": [
    "deaths_per_m = pd.read_pickle('deaths_per_m_1990-2020-YTD.pkl')"
   ]
  },
  {
   "cell_type": "code",
   "execution_count": null,
   "metadata": {},
   "outputs": [],
   "source": [
    "deaths_per_m"
   ]
  },
  {
   "cell_type": "code",
   "execution_count": null,
   "metadata": {},
   "outputs": [],
   "source": [
    "month_theta_map = dict(\n",
    "    zip(\n",
    "        deaths_per_m.columns,\n",
    "        np.radians(np.arange(0,len(deaths_per_m.columns) + 0)) / 12 * 360))\n",
    "\n",
    "month_theta_map"
   ]
  },
  {
   "cell_type": "code",
   "execution_count": null,
   "metadata": {},
   "outputs": [],
   "source": [
    "def month_to_theta(month) :\n",
    "    return month_theta_map[month]\n",
    "\n",
    "month_to_theta('Dec')"
   ]
  },
  {
   "cell_type": "code",
   "execution_count": null,
   "metadata": {},
   "outputs": [],
   "source": [
    "plt.style.available"
   ]
  },
  {
   "cell_type": "code",
   "execution_count": null,
   "metadata": {},
   "outputs": [],
   "source": [
    "last_complete_month = \"Oct\"\n",
    "last_complete_month_num = 10\n",
    "\n",
    "plt.style.use('arviz-darkgrid')\n",
    "#sns.set_style('dark')\n",
    "\n",
    "\n",
    "def plot(year,color):\n",
    "    \n",
    "    if year != 2020:\n",
    "    \n",
    "        plt.polar(month_theta_map.values(),deaths_per_m.loc[year,:],'o--',\n",
    "                  color=color,label='{}'.format(year))\n",
    "        \n",
    "    else:\n",
    "        \n",
    "        plt.polar(list(month_theta_map.values())[:last_complete_month_num],\n",
    "                  deaths_per_m.loc[year,:last_complete_month],'o--',\n",
    "                  color=color,label='{}'.format(year))\n",
    "    \n",
    "    ax = plt.gca()\n",
    "\n",
    "    ax.set_theta_zero_location('N')\n",
    "    ax.set_theta_direction(-1)\n",
    "    \n",
    "    ax.set_thetagrids((np.arange(0,360,30)))\n",
    "    ax.set_xticklabels(deaths_per_m.columns)\n",
    "    \n",
    "    ax.set_facecolor('silver')\n",
    "\n",
    "\n",
    "    plt.legend(loc='upper left')"
   ]
  },
  {
   "cell_type": "code",
   "execution_count": null,
   "metadata": {},
   "outputs": [],
   "source": [
    "def plot_cum(year,color):\n",
    "    \n",
    "    if year != 2020:\n",
    "    \n",
    "        plt.polar(month_theta_map.values(),deaths_per_m.loc[year,:].cumsum(),'o--',\n",
    "                  color=color,label='{}'.format(year))\n",
    "        \n",
    "    else:\n",
    "        \n",
    "        plt.polar(list(month_theta_map.values())[:last_complete_month_num],\n",
    "                  deaths_per_m.loc[year,:last_complete_month].cumsum(),'o--',\n",
    "                  color=color,label='{}'.format(year))\n",
    "    \n",
    "    ax = plt.gca()\n",
    "\n",
    "    ax.set_theta_zero_location('N')\n",
    "    ax.set_theta_direction(-1)\n",
    "    \n",
    "    ax.set_thetagrids((np.arange(0,360,30)))\n",
    "    ax.set_xticklabels(deaths_per_m.columns)\n",
    "    \n",
    "    ax.set_facecolor('silver')\n",
    "    \n",
    "\n",
    "    plt.legend(loc='upper left')"
   ]
  },
  {
   "cell_type": "code",
   "execution_count": null,
   "metadata": {
    "scrolled": false
   },
   "outputs": [],
   "source": [
    "colors = ['orange','lime','yellow','k','m','crimson']\n",
    "\n",
    "\n",
    "plt.figure(figsize=(12,12))\n",
    "\n",
    "plt.subplot(1,1,1,projection='polar')\n",
    "plt.title('SWEDEN monthly deaths per million, 2015-2020',color='crimson')\n",
    "\n",
    "years = deaths_per_m.index\n",
    "\n",
    "for i,y in enumerate(years[-6:]):\n",
    "    \n",
    "    plot(y,colors[i])\n",
    "    \n",
    "plt.savefig('Sweden_deaths_polar_plot.jpg',format='jpg')\n",
    "\n"
   ]
  },
  {
   "cell_type": "code",
   "execution_count": null,
   "metadata": {
    "scrolled": false
   },
   "outputs": [],
   "source": [
    "plt.figure(figsize=(12,12))\n",
    "\n",
    "plt.subplot(1,1,1,projection='polar')\n",
    "plt.title('SWEDEN cumulative monthly deaths per million, 2015-2020',color='crimson')\n",
    "\n",
    "\n",
    "for i,y in enumerate(years[-6:]):\n",
    "    \n",
    "    plot_cum(y,colors[i])\n",
    "    \n",
    "plt.savefig('sweden_cum_deaths_polar_plot.jpg',format='jpg')"
   ]
  },
  {
   "cell_type": "code",
   "execution_count": null,
   "metadata": {},
   "outputs": [],
   "source": [
    "last_complete_month"
   ]
  },
  {
   "cell_type": "code",
   "execution_count": null,
   "metadata": {},
   "outputs": [],
   "source": [
    "years_2015_2020 = deaths_per_m.loc[2015 : 2020]\n",
    "years_2015_2020"
   ]
  },
  {
   "cell_type": "code",
   "execution_count": null,
   "metadata": {},
   "outputs": [],
   "source": [
    "years_2015_2018_monthly_mean = years_2015_2020.loc[2015 : 2018].mean()\n",
    "years_2015_2018_monthly_mean"
   ]
  },
  {
   "cell_type": "code",
   "execution_count": null,
   "metadata": {},
   "outputs": [],
   "source": [
    "excess = years_2015_2020.loc[2020] - years_2015_2018_monthly_mean\n",
    "excess"
   ]
  },
  {
   "cell_type": "code",
   "execution_count": null,
   "metadata": {},
   "outputs": [],
   "source": [
    "def plot_excess(r):\n",
    "    \n",
    "    plt.polar(list(month_theta_map.values())[:last_complete_month_num],r,'o--',\n",
    "             color='orange',label='excess deaths per million')\n",
    "    \n",
    "    ax = plt.gca()\n",
    "\n",
    "    ax.set_theta_zero_location('N')\n",
    "    ax.set_theta_direction(-1)\n",
    "    \n",
    "    ax.set_thetagrids((np.arange(0,360,30)))\n",
    "    ax.set_xticklabels(deaths_per_m.columns)\n",
    "    \n",
    "    ax.set_facecolor('silver')\n",
    "\n",
    "    \n",
    "    circle = np.linspace(0,2*np.pi,100)\n",
    "    \n",
    "    plt.polar(circle,np.repeat(0,len(circle)),color='crimson',label='zero')\n",
    "    plt.legend(loc='upper left')"
   ]
  },
  {
   "cell_type": "code",
   "execution_count": null,
   "metadata": {},
   "outputs": [],
   "source": [
    "plt.figure(figsize=(18,12))\n",
    "plot_excess(excess[:last_complete_month_num])\n",
    "plt.title('SWEDEN monthly excess deaths per million [baseline 2015-2018]',color='crimson')\n",
    "plt.savefig('sweden_polar_excess.jpg',format='jpg')"
   ]
  },
  {
   "cell_type": "code",
   "execution_count": null,
   "metadata": {},
   "outputs": [],
   "source": [
    "excess[:last_complete_month_num].cumsum()"
   ]
  },
  {
   "cell_type": "code",
   "execution_count": null,
   "metadata": {},
   "outputs": [],
   "source": [
    "\n",
    "plt.figure(figsize=(18,12))\n",
    "\n",
    "plot_excess(excess[:last_complete_month_num].cumsum())\n",
    "plt.title('SWEDEN cumulative monthly excess deaths per million [baseline 2015-2018]',color='crimson')\n",
    "plt.savefig('sweden_polar_cum_excess.jpg',format='jpg')"
   ]
  },
  {
   "cell_type": "code",
   "execution_count": null,
   "metadata": {},
   "outputs": [],
   "source": [
    "def parse_scb_prel(YTD=True):\n",
    "    \n",
    "    def monthname2number(m):\n",
    "        if m == 'januari' : return 1\n",
    "        if m == 'februari' : return 2\n",
    "        if m == 'mars' : return 3\n",
    "        if m == 'april' : return 4\n",
    "        if m == 'maj' : return 5\n",
    "        if m == 'juni' : return 6\n",
    "        if m == 'juli' : return 7\n",
    "        if m == 'augusti' : return 8\n",
    "        if m == 'september' : return 9\n",
    "        if m == 'oktober' : return 10\n",
    "        if m == 'november' : return 11\n",
    "        if m == 'december' : return 12\n",
    "\n",
    "    df = pd.read_csv('scb-dead_per_day.csv',sep=';',usecols=[1,2,3,4,5,6,7,10,11],thousands=',')\n",
    "    \n",
    "    \n",
    "    df['month'] = df['Månad'].apply(monthname2number)\n",
    "    df[['Månad','month']] = df[['Månad','month']].replace(np.nan,0)\n",
    "    df['month'] = df['month'].astype(int)\n",
    "    \n",
    "    \n",
    "    df = df.replace(np.nan,0)\n",
    "\n",
    "    \n",
    "    df[['2015','2016','2017','2018','2019','2020','2015-2019']] = df[['2015','2016','2017','2018','2019','2020','2015-2019']].astype(int)\n",
    "\n",
    "    unknown_death_day = df.iloc[-1,:7]\n",
    "    \n",
    "    df.drop(366,inplace=True)\n",
    "    \n",
    "    if YTD:\n",
    "        df = df.loc[df['2020'] != 0]\n",
    "        \n",
    "    df = df.drop('Månad',axis=1)\n",
    "    \n",
    "    known_death_day = df.iloc[:,:7].sum()\n",
    "    \n",
    "    year_fraction = len(df) / 366\n",
    "    \n",
    "    unknown_death_day[['2015','2016','2017','2018','2019','2015-2019']] = unknown_death_day[\n",
    "    ['2015','2016','2017','2018','2019','2015-2019']] * year_fraction\n",
    "    \n",
    "    dead_pct_per_day = df[['2015','2016','2017','2018','2019','2020','2015-2019']] / known_death_day\n",
    "    \n",
    "    all_deaths = df[['2015','2016','2017','2018','2019','2020','2015-2019']] + unknown_death_day * dead_pct_per_day\n",
    "    \n",
    "    if YTD:\n",
    "        index = pd.date_range('2020-01-01',periods=len(all_deaths))\n",
    "    else:\n",
    "        index = pd.date_range('2020-01-01','2020-12-31')\n",
    "        \n",
    "    all_deaths.index = index\n",
    "    \n",
    "    return all_deaths\n",
    "    "
   ]
  },
  {
   "cell_type": "code",
   "execution_count": null,
   "metadata": {},
   "outputs": [],
   "source": [
    "df_scb = parse_scb_prel(YTD=False)\n",
    "df_scb"
   ]
  },
  {
   "cell_type": "code",
   "execution_count": null,
   "metadata": {},
   "outputs": [],
   "source": [
    "pop = pd.read_csv('scb_population.csv',sep=',')\n",
    "pop"
   ]
  },
  {
   "cell_type": "code",
   "execution_count": null,
   "metadata": {},
   "outputs": [],
   "source": [
    "pop_growth_factor = pop['2019'] / pop['2018']\n",
    "pop['2020'] = pop['2019'] * pop_growth_factor\n",
    "pop = pop.loc[:,'2015' : '2020'].T\n",
    "pop = pd.Series(pop[0])\n",
    "pop"
   ]
  },
  {
   "cell_type": "code",
   "execution_count": null,
   "metadata": {},
   "outputs": [],
   "source": [
    "last_date = df_scb.loc[df_scb['2020'] == 0].index[0] - pd.DateOffset(weeks=1)\n",
    "#df_scb = df_scb[:last_date]\n",
    "df_scb.drop('2015-2019',axis=1,inplace=True)\n",
    "df_scb"
   ]
  },
  {
   "cell_type": "code",
   "execution_count": null,
   "metadata": {},
   "outputs": [],
   "source": [
    "df_scb_per_m = df_scb / (pop / 1e6)\n",
    "df_scb_per_m"
   ]
  },
  {
   "cell_type": "code",
   "execution_count": null,
   "metadata": {},
   "outputs": [],
   "source": [
    "df_scb_weekly = df_scb_per_m.resample('W-Tue').sum()\n",
    "\n",
    "df_scb_weekly = df_scb_weekly[:-1]"
   ]
  },
  {
   "cell_type": "code",
   "execution_count": null,
   "metadata": {},
   "outputs": [],
   "source": [
    "week_theta_map = dict(\n",
    "    zip(\n",
    "        df_scb_weekly.index.date,\n",
    "        np.radians(np.arange(0,len(df_scb_weekly.index) + 0)) / len(df_scb_weekly.index) * 360))\n",
    "\n",
    "week_theta_map"
   ]
  },
  {
   "cell_type": "code",
   "execution_count": null,
   "metadata": {},
   "outputs": [],
   "source": [
    "xticks_month = df_scb_weekly.index.month\n",
    "xticks_day = df_scb_weekly.index.day\n",
    "\n",
    "xticks = list(zip(xticks_month,xticks_day))\n",
    "\n",
    "xticks = [str(x[0]) + '/' + str(x[1]) for x in xticks]\n"
   ]
  },
  {
   "cell_type": "code",
   "execution_count": null,
   "metadata": {},
   "outputs": [],
   "source": [
    "np.array(list(week_theta_map.values()))\n",
    "\n",
    "len_2020 = len(df_scb_weekly[:last_date])\n",
    "max_ = df_scb_weekly.max().max()"
   ]
  },
  {
   "cell_type": "code",
   "execution_count": null,
   "metadata": {},
   "outputs": [],
   "source": [
    "\n",
    "\n",
    "def plot_weekly(series,color,label,max_,title):\n",
    "\n",
    "\n",
    "    \n",
    "    if label != '2020':\n",
    "\n",
    "        plt.polar(week_theta_map.values(),series,'o--',color=color,label=label)\n",
    "\n",
    "    else:\n",
    "        plt.polar(np.array(list(week_theta_map.values()))[:len_2020],\n",
    "                  series[:last_date],'o--',color=color,label=label)\n",
    "        \n",
    "        plt.polar(np.array(list(week_theta_map.values()))[len_2020 -1 ],max_,'X',\n",
    "                  color='crimson',markersize=10,label='latest 2020 data')\n",
    "        \n",
    "    ax = plt.gca()\n",
    "    \n",
    "    ax.set_title(title)\n",
    "\n",
    "    ax.set_theta_zero_location('N')\n",
    "    ax.set_theta_direction(-1)\n",
    "    \n",
    "    ax.set_thetagrids(np.arange(0,360,360 / len(df_scb_weekly)))\n",
    "    ax.set_xticklabels(xticks,rotation=180)\n",
    "\n",
    "    \n",
    "    ax.set_facecolor('silver')\n",
    "    ax.legend(loc='upper left')\n",
    "    \n",
    "\n"
   ]
  },
  {
   "cell_type": "code",
   "execution_count": null,
   "metadata": {},
   "outputs": [],
   "source": [
    "plt.figure(figsize=(18,12))\n",
    "\n",
    "title = 'SWEDEN weekly deaths per million, 2020 YTD vs 2015-2019'\n",
    "\n",
    "plot_weekly(df_scb_weekly['2019'],'g','2019',max_,title)\n",
    "plot_weekly(df_scb_weekly['2018'],'b','2018',max_,title)\n",
    "plot_weekly(df_scb_weekly['2017'],'orange','2017',max_,title)\n",
    "plot_weekly(df_scb_weekly['2016'],'lime','2016',max_,title)\n",
    "plot_weekly(df_scb_weekly['2015'],'k','2015',max_,title)\n",
    "plot_weekly(df_scb_weekly['2020'],'r','2020',max_,title)\n",
    "\n",
    "plt.savefig('sweden_polar_weekly.jpg',format='jpg')\n"
   ]
  },
  {
   "cell_type": "code",
   "execution_count": null,
   "metadata": {},
   "outputs": [],
   "source": [
    "max_ = df_scb_weekly.cumsum().max().max()"
   ]
  },
  {
   "cell_type": "code",
   "execution_count": null,
   "metadata": {},
   "outputs": [],
   "source": [
    "title = 'SWEDEN weekly cumulative deaths per million, 2020 YTD vs 2015-2019'\n",
    "\n",
    "\n",
    "plt.figure(figsize=(18,12))\n",
    "plot_weekly(df_scb_weekly['2019'].cumsum(),'g','2019',max_,title)\n",
    "plot_weekly(df_scb_weekly['2018'].cumsum(),'b','2018',max_,title)\n",
    "plot_weekly(df_scb_weekly['2017'].cumsum(),'orange','2017',max_,title)\n",
    "plot_weekly(df_scb_weekly['2016'].cumsum(),'lime','2016',max_,title)\n",
    "plot_weekly(df_scb_weekly['2015'].cumsum(),'k','2015',max_,title)\n",
    "plot_weekly(df_scb_weekly['2020'].cumsum(),'r','2020',max_,title)\n",
    "\n",
    "plt.savefig('sweden_polar_cum_weekly.jpg',format='jpg')\n",
    "\n"
   ]
  }
 ],
 "metadata": {
  "kernelspec": {
   "display_name": "Python 3",
   "language": "python",
   "name": "python3"
  },
  "language_info": {
   "codemirror_mode": {
    "name": "ipython",
    "version": 3
   },
   "file_extension": ".py",
   "mimetype": "text/x-python",
   "name": "python",
   "nbconvert_exporter": "python",
   "pygments_lexer": "ipython3",
   "version": "3.8.6"
  }
 },
 "nbformat": 4,
 "nbformat_minor": 4
}
