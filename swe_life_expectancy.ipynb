{
 "cells": [
  {
   "cell_type": "code",
   "execution_count": null,
   "metadata": {},
   "outputs": [],
   "source": [
    "import numpy as np\n",
    "import matplotlib.pyplot as plt\n",
    "import seaborn as sns\n",
    "import pandas as pd\n",
    "\n",
    "import requests\n",
    "\n",
    "sns.set()"
   ]
  },
  {
   "cell_type": "code",
   "execution_count": null,
   "metadata": {},
   "outputs": [],
   "source": [
    "pop_url = 'http://api.scb.se/OV0104/v1/doris/sv/ssd/START/BE/BE0101/BE0101A/FolkmangdNov'\n",
    "\n",
    "pop_json_query = {\n",
    "  \"query\": [\n",
    "    {\n",
    "      \"code\": \"Region\",\n",
    "      \"selection\": {\n",
    "        \"filter\": \"vs:RegionRiket99\",\n",
    "        \"values\": [\n",
    "          \"00\"\n",
    "        ]\n",
    "      }\n",
    "    },\n",
    "    {\n",
    "      \"code\": \"Alder\",\n",
    "      \"selection\": {\n",
    "        \"filter\": \"vs:Ålder1årA\",\n",
    "        \"values\": [\n",
    "          \"0\",\n",
    "          \"1\",\n",
    "          \"2\",\n",
    "          \"3\",\n",
    "          \"4\",\n",
    "          \"5\",\n",
    "          \"6\",\n",
    "          \"7\",\n",
    "          \"8\",\n",
    "          \"9\",\n",
    "          \"10\",\n",
    "          \"11\",\n",
    "          \"12\",\n",
    "          \"13\",\n",
    "          \"14\",\n",
    "          \"15\",\n",
    "          \"16\",\n",
    "          \"17\",\n",
    "          \"18\",\n",
    "          \"19\",\n",
    "          \"20\",\n",
    "          \"21\",\n",
    "          \"22\",\n",
    "          \"23\",\n",
    "          \"24\",\n",
    "          \"25\",\n",
    "          \"26\",\n",
    "          \"27\",\n",
    "          \"28\",\n",
    "          \"29\",\n",
    "          \"30\",\n",
    "          \"31\",\n",
    "          \"32\",\n",
    "          \"33\",\n",
    "          \"34\",\n",
    "          \"35\",\n",
    "          \"36\",\n",
    "          \"37\",\n",
    "          \"38\",\n",
    "          \"39\",\n",
    "          \"40\",\n",
    "          \"41\",\n",
    "          \"42\",\n",
    "          \"43\",\n",
    "          \"44\",\n",
    "          \"45\",\n",
    "          \"46\",\n",
    "          \"47\",\n",
    "          \"48\",\n",
    "          \"49\",\n",
    "          \"50\",\n",
    "          \"51\",\n",
    "          \"52\",\n",
    "          \"53\",\n",
    "          \"54\",\n",
    "          \"55\",\n",
    "          \"56\",\n",
    "          \"57\",\n",
    "          \"58\",\n",
    "          \"59\",\n",
    "          \"60\",\n",
    "          \"61\",\n",
    "          \"62\",\n",
    "          \"63\",\n",
    "          \"64\",\n",
    "          \"65\",\n",
    "          \"66\",\n",
    "          \"67\",\n",
    "          \"68\",\n",
    "          \"69\",\n",
    "          \"70\",\n",
    "          \"71\",\n",
    "          \"72\",\n",
    "          \"73\",\n",
    "          \"74\",\n",
    "          \"75\",\n",
    "          \"76\",\n",
    "          \"77\",\n",
    "          \"78\",\n",
    "          \"79\",\n",
    "          \"80\",\n",
    "          \"81\",\n",
    "          \"82\",\n",
    "          \"83\",\n",
    "          \"84\",\n",
    "          \"85\",\n",
    "          \"86\",\n",
    "          \"87\",\n",
    "          \"88\",\n",
    "          \"89\",\n",
    "          \"90\",\n",
    "          \"91\",\n",
    "          \"92\",\n",
    "          \"93\",\n",
    "          \"94\",\n",
    "          \"95\",\n",
    "          \"96\",\n",
    "          \"97\",\n",
    "          \"98\",\n",
    "          \"99\",\n",
    "          \"100+\"\n",
    "        ]\n",
    "      }\n",
    "    },\n",
    "    {\n",
    "      \"code\": \"Kon\",\n",
    "      \"selection\": {\n",
    "        \"filter\": \"item\",\n",
    "        \"values\": [\n",
    "          \"1\",\n",
    "          \"2\"\n",
    "        ]\n",
    "      }\n",
    "    }\n",
    "  ],\n",
    "  \"response\": {\n",
    "    \"format\": \"json\"\n",
    "  }\n",
    "}"
   ]
  },
  {
   "cell_type": "code",
   "execution_count": null,
   "metadata": {},
   "outputs": [],
   "source": [
    "r_pop = requests.post(pop_url,json=pop_json_query)\n",
    "r_pop.status_code"
   ]
  },
  {
   "cell_type": "code",
   "execution_count": null,
   "metadata": {},
   "outputs": [],
   "source": [
    "pop_json = r_pop.json()\n",
    "pop_json['data'][0]"
   ]
  },
  {
   "cell_type": "code",
   "execution_count": null,
   "metadata": {},
   "outputs": [],
   "source": [
    "pop_df = pd.DataFrame.from_dict(pop_json['data'])\n",
    "pop_df[['area','age','gender','year']] = pop_df['key'].to_list()\n",
    "pop_df['pop'] = pop_df['values'].apply(lambda x :x[0]).astype(int)\n",
    "\n",
    "age_labels = pop_df['age'].unique()\n",
    "\n",
    "pop_df.drop(['key','values','area'],axis=1,inplace=True)\n",
    "pop_df['age'] = pd.Categorical(pop_df['age'],age_labels)\n",
    "pop_df = pop_df.groupby(['year','age']).sum()\n",
    "pop_df\n"
   ]
  },
  {
   "cell_type": "code",
   "execution_count": null,
   "metadata": {},
   "outputs": [],
   "source": [
    "# delete 2020 pop until we have official 2020 death data with 1 year bins\n",
    "\n",
    "pop_df_inc_2020 = pop_df.copy()\n",
    "\n",
    "pop_df.drop('2020',inplace=True)\n",
    "pop_df"
   ]
  },
  {
   "cell_type": "code",
   "execution_count": null,
   "metadata": {},
   "outputs": [],
   "source": [
    "#### DEATHS ####\n",
    "dead_url = 'http://api.scb.se/OV0104/v1/doris/sv/ssd/START/BE/BE0101/BE0101I/DodaHandelseK'\n",
    "dead_json_query = {\n",
    "  \"query\": [\n",
    "    {\n",
    "      \"code\": \"Region\",\n",
    "      \"selection\": {\n",
    "        \"filter\": \"vs:RegionRiket99\",\n",
    "        \"values\": [\n",
    "          \"00\"\n",
    "        ]\n",
    "      }\n",
    "    },\n",
    "    {\n",
    "      \"code\": \"Alder\",\n",
    "      \"selection\": {\n",
    "        \"filter\": \"vs:Ålder1årA\",\n",
    "        \"values\": [\n",
    "          \"0\",\n",
    "          \"1\",\n",
    "          \"2\",\n",
    "          \"3\",\n",
    "          \"4\",\n",
    "          \"5\",\n",
    "          \"6\",\n",
    "          \"7\",\n",
    "          \"8\",\n",
    "          \"9\",\n",
    "          \"10\",\n",
    "          \"11\",\n",
    "          \"12\",\n",
    "          \"13\",\n",
    "          \"14\",\n",
    "          \"15\",\n",
    "          \"16\",\n",
    "          \"17\",\n",
    "          \"18\",\n",
    "          \"19\",\n",
    "          \"20\",\n",
    "          \"21\",\n",
    "          \"22\",\n",
    "          \"23\",\n",
    "          \"24\",\n",
    "          \"25\",\n",
    "          \"26\",\n",
    "          \"27\",\n",
    "          \"28\",\n",
    "          \"29\",\n",
    "          \"30\",\n",
    "          \"31\",\n",
    "          \"32\",\n",
    "          \"33\",\n",
    "          \"34\",\n",
    "          \"35\",\n",
    "          \"36\",\n",
    "          \"37\",\n",
    "          \"38\",\n",
    "          \"39\",\n",
    "          \"40\",\n",
    "          \"41\",\n",
    "          \"42\",\n",
    "          \"43\",\n",
    "          \"44\",\n",
    "          \"45\",\n",
    "          \"46\",\n",
    "          \"47\",\n",
    "          \"48\",\n",
    "          \"49\",\n",
    "          \"50\",\n",
    "          \"51\",\n",
    "          \"52\",\n",
    "          \"53\",\n",
    "          \"54\",\n",
    "          \"55\",\n",
    "          \"56\",\n",
    "          \"57\",\n",
    "          \"58\",\n",
    "          \"59\",\n",
    "          \"60\",\n",
    "          \"61\",\n",
    "          \"62\",\n",
    "          \"63\",\n",
    "          \"64\",\n",
    "          \"65\",\n",
    "          \"66\",\n",
    "          \"67\",\n",
    "          \"68\",\n",
    "          \"69\",\n",
    "          \"70\",\n",
    "          \"71\",\n",
    "          \"72\",\n",
    "          \"73\",\n",
    "          \"74\",\n",
    "          \"75\",\n",
    "          \"76\",\n",
    "          \"77\",\n",
    "          \"78\",\n",
    "          \"79\",\n",
    "          \"80\",\n",
    "          \"81\",\n",
    "          \"82\",\n",
    "          \"83\",\n",
    "          \"84\",\n",
    "          \"85\",\n",
    "          \"86\",\n",
    "          \"87\",\n",
    "          \"88\",\n",
    "          \"89\",\n",
    "          \"90\",\n",
    "          \"91\",\n",
    "          \"92\",\n",
    "          \"93\",\n",
    "          \"94\",\n",
    "          \"95\",\n",
    "          \"96\",\n",
    "          \"97\",\n",
    "          \"98\",\n",
    "          \"99\",\n",
    "          \"100+\"\n",
    "        ]\n",
    "      }\n",
    "    },\n",
    "    {\n",
    "      \"code\": \"Kon\",\n",
    "      \"selection\": {\n",
    "        \"filter\": \"item\",\n",
    "        \"values\": [\n",
    "          \"1\",\n",
    "          \"2\"\n",
    "        ]\n",
    "      }\n",
    "    },\n",
    "    {\n",
    "      \"code\": \"Tid\",\n",
    "      \"selection\": {\n",
    "        \"filter\": \"item\",\n",
    "        \"values\": [\n",
    "          \"2002\",\n",
    "          \"2003\",\n",
    "          \"2004\",\n",
    "          \"2005\",\n",
    "          \"2006\",\n",
    "          \"2007\",\n",
    "          \"2008\",\n",
    "          \"2009\",\n",
    "          \"2010\",\n",
    "          \"2011\",\n",
    "          \"2012\",\n",
    "          \"2013\",\n",
    "          \"2014\",\n",
    "          \"2015\",\n",
    "          \"2016\",\n",
    "          \"2017\",\n",
    "          \"2018\",\n",
    "          \"2019\"\n",
    "        ]\n",
    "      }\n",
    "    }\n",
    "  ],\n",
    "  \"response\": {\n",
    "    \"format\": \"json\"\n",
    "  }\n",
    "}"
   ]
  },
  {
   "cell_type": "code",
   "execution_count": null,
   "metadata": {},
   "outputs": [],
   "source": [
    "r_dead = requests.post(dead_url,json=dead_json_query)\n",
    "r_dead.status_code"
   ]
  },
  {
   "cell_type": "code",
   "execution_count": null,
   "metadata": {},
   "outputs": [],
   "source": [
    "dead_json = r_dead.json()['data']\n",
    "dead_json[0]"
   ]
  },
  {
   "cell_type": "code",
   "execution_count": null,
   "metadata": {},
   "outputs": [],
   "source": [
    "dead_df = pd.DataFrame.from_dict(dead_json)\n",
    "dead_df[['area','age','gender','year']] = dead_df['key'].to_list()\n",
    "dead_df['dead'] = dead_df['values'].apply(lambda x : x[0]).astype(int)\n",
    "dead_df['age'] = pd.Categorical(dead_df['age'],age_labels)\n",
    "dead_df.drop(['key','values','area'],axis=1,inplace=True)\n",
    "dead_df = dead_df.groupby(['year','age']).sum()\n",
    "dead_df"
   ]
  },
  {
   "cell_type": "code",
   "execution_count": null,
   "metadata": {},
   "outputs": [],
   "source": [
    "#### scb prel deaths based on week number. W53 extends to Jan 3'd 2021 ####\n",
    "#### therefore this gives a bit higher death number than swe_life_expectancy.ipynb ####\n",
    "#### that is based on daily death data ####\n",
    "\n",
    "scb_file = pd.ExcelFile('https://www.scb.se/hitta-statistik/statistik-efter-amne/befolkning/befolkningens-sammansattning/befolkningsstatistik/pong/tabell-och-diagram/preliminar-statistik-over-doda/')\n",
    "print (scb_file.sheet_names)\n",
    "scb_prel = scb_file.parse(sheet_name='Tabell 7',skiprows=8,usecols=range(11,19))\n",
    "scb_prel = scb_prel.iloc[:54]\n",
    "scb_prel\n"
   ]
  },
  {
   "cell_type": "code",
   "execution_count": null,
   "metadata": {},
   "outputs": [],
   "source": [
    "scb_file.parse(sheet_name='Info',usecols=[15],skiprows=1).dropna()"
   ]
  },
  {
   "cell_type": "code",
   "execution_count": null,
   "metadata": {},
   "outputs": [],
   "source": [
    "dead_2020 = pd.DataFrame(scb_prel.iloc[:,:4].values + scb_prel.iloc[:,4:].values,\n",
    "                         index=scb_prel.index,columns=['0-64','65-79','80-89','90+'])\n",
    "\n",
    "dead_2020"
   ]
  },
  {
   "cell_type": "code",
   "execution_count": null,
   "metadata": {},
   "outputs": [],
   "source": [
    "##### week 53 goes to Jan 3'd 2021, so the sum will be about 750 larger than for the day count ####\n",
    "dead_2020.sum()"
   ]
  },
  {
   "cell_type": "code",
   "execution_count": null,
   "metadata": {},
   "outputs": [],
   "source": [
    "dead_2020.sum().sum()"
   ]
  },
  {
   "cell_type": "code",
   "execution_count": null,
   "metadata": {},
   "outputs": [],
   "source": [
    "mort_df = dead_df['dead'] / pop_df['pop']\n",
    "mort_df"
   ]
  },
  {
   "cell_type": "code",
   "execution_count": null,
   "metadata": {},
   "outputs": [],
   "source": [
    "mort_flat = mort_df.unstack()\n",
    "mort_flat"
   ]
  },
  {
   "cell_type": "code",
   "execution_count": null,
   "metadata": {},
   "outputs": [],
   "source": [
    "proportion_of_pop_dead_in_interval = ( 1 -  ( 1 - mort_flat ) ** 1) # one year intervals\n",
    "proportion_of_pop_dead_in_interval['100+'] = 1\n",
    "proportion_of_pop_dead_in_interval"
   ]
  },
  {
   "cell_type": "code",
   "execution_count": null,
   "metadata": {},
   "outputs": [],
   "source": [
    "# defines a std_pop, think 'deaths per 100000'\n",
    "\n",
    "def dead_and_remaining(year,prop_table):\n",
    "    \n",
    "    prop_dead= pd.DataFrame(prop_table.loc[year])\n",
    "\n",
    "    std_pop = 100000\n",
    "    \n",
    "    remaining = np.zeros(len(prop_table.columns))\n",
    "    dead = np.zeros(len(prop_table.columns))\n",
    "    \n",
    "    for i in range(len(prop_dead)):\n",
    "        dead[i] = prop_dead.iloc[i,0] * std_pop\n",
    "        std_pop -= prop_dead.iloc[i,0] * std_pop\n",
    "        remaining[i] = std_pop\n",
    "    \n",
    "    return (dead,remaining)"
   ]
  },
  {
   "cell_type": "code",
   "execution_count": null,
   "metadata": {},
   "outputs": [],
   "source": [
    "pop_evolution = pd.DataFrame()\n",
    "\n",
    "for year in proportion_of_pop_dead_in_interval.index:\n",
    "    \n",
    "    tmp = pd.DataFrame(dead_and_remaining(year,proportion_of_pop_dead_in_interval)).T\n",
    "    tmp.columns = ['dead','remaining']\n",
    "    tmp['year'] = year\n",
    "    pop_evolution = pd.concat([pop_evolution,tmp])\n",
    "    \n",
    "pop_evolution['interval'] = np.tile(age_labels,\n",
    "                                      len(proportion_of_pop_dead_in_interval))\n",
    "\n",
    "pop_evolution = pop_evolution.set_index(['year','interval'])\n",
    "pop_evolution"
   ]
  },
  {
   "cell_type": "code",
   "execution_count": null,
   "metadata": {},
   "outputs": [],
   "source": [
    "plt.figure(figsize=(18,12))\n",
    "\n",
    "for y in pop_evolution.index.get_level_values(0)[::len(age_labels)][1::4]:\n",
    "    plt.plot(pop_evolution.loc[y,'remaining'],'o--',label=y)\n",
    "    \n",
    "ax = plt.gca()\n",
    "\n",
    "plt.title('remaning pop of 100000')\n",
    "plt.xticks(rotation=90)\n",
    "\n",
    "for label in ax.xaxis.get_ticklabels()[1::2]:\n",
    "    label.set_visible(False)\n",
    "    \n",
    "plt.xlabel('age group [every second labelled]')\n",
    "plt.ylabel('population remaining')\n",
    "    \n",
    "plt.legend(loc='upper right')"
   ]
  },
  {
   "cell_type": "code",
   "execution_count": null,
   "metadata": {},
   "outputs": [],
   "source": [
    "pop_df_inc_2020"
   ]
  },
  {
   "cell_type": "code",
   "execution_count": null,
   "metadata": {},
   "outputs": [],
   "source": [
    "age_bins = [-1,64,79,89,200]\n",
    "\n",
    "def coarsify(df):\n",
    "    \n",
    "    num_age = [int(x.replace('+','')) for x in df.index.get_level_values(1).values]\n",
    "    df['num_age'] = num_age\n",
    "    df['age_bin'] = pd.cut(df['num_age'],age_bins,labels=['0-64','65-79','80-89','90+'])\n",
    "    return df"
   ]
  },
  {
   "cell_type": "code",
   "execution_count": null,
   "metadata": {},
   "outputs": [],
   "source": [
    "coarse_pop = coarsify(pop_df_inc_2020).groupby(['year','age_bin'])['pop'].sum()\n",
    "coarse_pop"
   ]
  },
  {
   "cell_type": "code",
   "execution_count": null,
   "metadata": {},
   "outputs": [],
   "source": [
    "coarse_dead = coarsify(dead_df).groupby(['year','age_bin'])['dead'].sum()\n",
    "coarse_dead"
   ]
  },
  {
   "cell_type": "code",
   "execution_count": null,
   "metadata": {},
   "outputs": [],
   "source": [
    "multi_idx = pd.MultiIndex.from_arrays([['2020'] * 4,['0-64','65-79','80-89','90+']])\n",
    "multi_idx"
   ]
  },
  {
   "cell_type": "code",
   "execution_count": null,
   "metadata": {},
   "outputs": [],
   "source": [
    "dead_2020_s = pd.Series(dead_2020.sum(),name='dead')\n",
    "dead_2020_s.index = multi_idx\n",
    "dead_2020_s"
   ]
  },
  {
   "cell_type": "code",
   "execution_count": null,
   "metadata": {},
   "outputs": [],
   "source": [
    "coarse_dead = pd.concat([coarse_dead,dead_2020_s])\n",
    "coarse_dead"
   ]
  },
  {
   "cell_type": "code",
   "execution_count": null,
   "metadata": {},
   "outputs": [],
   "source": [
    "coarse_mort = coarse_dead / coarse_pop\n",
    "coarse_mort"
   ]
  },
  {
   "cell_type": "code",
   "execution_count": null,
   "metadata": {},
   "outputs": [],
   "source": [
    "coarse_mort.loc['2015']"
   ]
  },
  {
   "cell_type": "code",
   "execution_count": null,
   "metadata": {},
   "outputs": [],
   "source": [
    "plt.figure(figsize=(18,12))\n",
    "\n",
    "for i,y in enumerate(coarse_mort.index.get_level_values(0)[::len(age_bins) - 1][8:]):\n",
    "    plt.plot(coarse_mort.loc[y],'o--',label=y)\n",
    "    \n",
    "plt.legend(loc='upper left')\n"
   ]
  },
  {
   "cell_type": "code",
   "execution_count": null,
   "metadata": {},
   "outputs": [],
   "source": [
    "coarse_mort_flat = coarse_mort.unstack()\n",
    "coarse_mort_flat"
   ]
  },
  {
   "cell_type": "code",
   "execution_count": null,
   "metadata": {},
   "outputs": [],
   "source": [
    "coarse_intervals = pd.Series([64,14,9,1],index=coarse_mort_flat.columns)\n",
    "\n",
    "coarse_proportion_of_pop_dead_in_interval = ( 1 -  ( 1 - coarse_mort_flat ) ** coarse_intervals) # one year intervals\n",
    "coarse_proportion_of_pop_dead_in_interval['90+'] = 1\n",
    "coarse_proportion_of_pop_dead_in_interval"
   ]
  },
  {
   "cell_type": "code",
   "execution_count": null,
   "metadata": {},
   "outputs": [],
   "source": [
    "pop_evolution_coarse = pd.DataFrame()\n",
    "\n",
    "for year in coarse_proportion_of_pop_dead_in_interval.index:\n",
    "    \n",
    "    tmp = pd.DataFrame(dead_and_remaining(year,coarse_proportion_of_pop_dead_in_interval)).T\n",
    "    tmp.columns = ['dead','remaining']\n",
    "    tmp['year'] = year\n",
    "    pop_evolution_coarse = pd.concat([pop_evolution_coarse,tmp])\n",
    "    \n",
    "pop_evolution_coarse['interval'] = np.tile(['0-64','65-79','80-89','90+'],\n",
    "                                      len(coarse_proportion_of_pop_dead_in_interval))\n",
    "\n",
    "pop_evolution_coarse = pop_evolution_coarse.set_index(['year','interval'])\n",
    "pop_evolution_coarse"
   ]
  },
  {
   "cell_type": "code",
   "execution_count": null,
   "metadata": {},
   "outputs": [],
   "source": [
    "start_year = '2015'\n",
    "start_year_idx = (pop_evolution_coarse.index.get_level_values(0)[::len(age_bins) - 1] == start_year).argmax()\n",
    "start_year_idx"
   ]
  },
  {
   "cell_type": "code",
   "execution_count": null,
   "metadata": {},
   "outputs": [],
   "source": [
    "plt.figure(figsize=(18,12))\n",
    "\n",
    "for y in pop_evolution_coarse.index.get_level_values(0)[::len(age_bins) -1 ][start_year_idx:]:\n",
    "    plt.plot(pop_evolution_coarse.loc[y,'remaining'][:-1],'o--',label=y)\n",
    "    \n",
    "ax = plt.gca()\n",
    "\n",
    "title1 = 'SWEDEN : risk of death within age interval\\n{} - 2020 YTD\\n'.format(start_year).upper()\n",
    "title2 = '\\nPopulation remaining per 100000 after age interval'\n",
    "title3 = '\\nDataSource : scb.se'\n",
    "\n",
    "plt.title(title1 + title2 + title3)\n",
    "\n",
    "plt.text('0-64',35000,'See link below for example on how calculation is done',color='r')\n",
    "plt.text('0-64',32000,'https://www.measureevaluation.org/resources/training/online-courses-and-resources/non-certificate-courses-and-mini-tutorials/multiple-decrement-life-tables/lesson-3',\n",
    "        size=10)\n",
    "\n",
    "plt.text('65-79',80000,' Last age interval 90+ (not shown) is OPEN ENDED,\\n so remaining population goes to 0 within that interval',\n",
    "        color='r',size=15)\n",
    "\n",
    "plt.xticks(rotation=90)\n",
    "\n",
    "'''\n",
    "for label in ax.xaxis.get_ticklabels()[1::2]:\n",
    "    label.set_visible(False)\n",
    "'''\n",
    "\n",
    "plt.xlabel('age interval')\n",
    "plt.ylabel('population remaining per 100000')\n",
    "    \n",
    "plt.legend(loc='upper right')\n",
    "plt.savefig('swe_LE_remaining_population.jpg',format='jpg')"
   ]
  },
  {
   "cell_type": "code",
   "execution_count": null,
   "metadata": {},
   "outputs": [],
   "source": [
    "#### age adjusted deaths #####\n",
    "\n",
    "standard_population = coarse_pop.loc['2019']\n",
    "standard_population"
   ]
  },
  {
   "cell_type": "code",
   "execution_count": null,
   "metadata": {},
   "outputs": [],
   "source": [
    "stratified_coarse_abs_deaths = standard_population * coarse_mort_flat\n",
    "stratified_coarse_abs_deaths"
   ]
  },
  {
   "cell_type": "code",
   "execution_count": null,
   "metadata": {},
   "outputs": [],
   "source": [
    "age_adj_mortality = stratified_coarse_abs_deaths.sum(axis=1) / standard_population.sum()\n",
    "age_adj_mortality"
   ]
  },
  {
   "cell_type": "code",
   "execution_count": null,
   "metadata": {},
   "outputs": [],
   "source": [
    "colors = ['b'] * 18 + ['orange']\n",
    "title = 'SWEDEN Age adjusted mortality [standard pop : 2019] 2002-2020 YTD'\n",
    "age_adj_mortality.plot(kind='bar',figsize=(18,12),color=colors,title=title)\n",
    "plt.ylabel('age adjusted mortality')\n",
    "plt.yticks(np.arange(0,0.012,0.0005))\n",
    "plt.savefig('swe_age_adjusted_mortality_2020_final_based_week_nrs.jpg',format='jpg')"
   ]
  },
  {
   "cell_type": "code",
   "execution_count": null,
   "metadata": {},
   "outputs": [],
   "source": [
    "# deaths based on week numbers w week 53 going to Jan 3'd 2021 gives about 750 more deaths than strict\n",
    "# daily counting, which with scb data from 2021-01-11 gives 97164 for full year 2020\n",
    "\n",
    "dead_2020_s.sum() - 97164"
   ]
  }
 ],
 "metadata": {
  "kernelspec": {
   "display_name": "Python 3",
   "language": "python",
   "name": "python3"
  },
  "language_info": {
   "codemirror_mode": {
    "name": "ipython",
    "version": 3
   },
   "file_extension": ".py",
   "mimetype": "text/x-python",
   "name": "python",
   "nbconvert_exporter": "python",
   "pygments_lexer": "ipython3",
   "version": "3.8.6"
  }
 },
 "nbformat": 4,
 "nbformat_minor": 4
}
