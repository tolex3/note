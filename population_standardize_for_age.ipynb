{
 "cells": [
  {
   "cell_type": "code",
   "execution_count": 2,
   "metadata": {},
   "outputs": [],
   "source": [
    "import numpy as np\n",
    "import matplotlib.pyplot as plt\n",
    "import seaborn as sns\n",
    "import pandas as pd\n",
    "\n",
    "sns.set()"
   ]
  },
  {
   "cell_type": "code",
   "execution_count": 3,
   "metadata": {},
   "outputs": [
    {
     "data": {
      "text/html": [
       "<div>\n",
       "<style scoped>\n",
       "    .dataframe tbody tr th:only-of-type {\n",
       "        vertical-align: middle;\n",
       "    }\n",
       "\n",
       "    .dataframe tbody tr th {\n",
       "        vertical-align: top;\n",
       "    }\n",
       "\n",
       "    .dataframe thead tr th {\n",
       "        text-align: left;\n",
       "    }\n",
       "</style>\n",
       "<table border=\"1\" class=\"dataframe\">\n",
       "  <thead>\n",
       "    <tr>\n",
       "      <th></th>\n",
       "      <th colspan=\"2\" halign=\"left\">A</th>\n",
       "      <th colspan=\"2\" halign=\"left\">B</th>\n",
       "    </tr>\n",
       "    <tr>\n",
       "      <th></th>\n",
       "      <th>pop</th>\n",
       "      <th>dead</th>\n",
       "      <th>pop</th>\n",
       "      <th>dead</th>\n",
       "    </tr>\n",
       "  </thead>\n",
       "  <tbody>\n",
       "    <tr>\n",
       "      <th>child</th>\n",
       "      <td>100000</td>\n",
       "      <td>1000</td>\n",
       "      <td>900000</td>\n",
       "      <td>9000</td>\n",
       "    </tr>\n",
       "    <tr>\n",
       "      <th>adult</th>\n",
       "      <td>900000</td>\n",
       "      <td>90000</td>\n",
       "      <td>100000</td>\n",
       "      <td>10000</td>\n",
       "    </tr>\n",
       "  </tbody>\n",
       "</table>\n",
       "</div>"
      ],
      "text/plain": [
       "            A              B       \n",
       "          pop   dead     pop   dead\n",
       "child  100000   1000  900000   9000\n",
       "adult  900000  90000  100000  10000"
      ]
     },
     "execution_count": 3,
     "metadata": {},
     "output_type": "execute_result"
    }
   ],
   "source": [
    "\n",
    "\n",
    "cols = [('A','pop'),('A','dead'),('B','pop'),('B','dead')]\n",
    "\n",
    "# example populations of two countries\n",
    "\n",
    "df2 = pd.DataFrame(data=[[100000,1000,900000,9000], #child: pop,dead,pop,dead : A,B\n",
    "                         [900000,90000,100000,10000]],    #adult pop,dead : A,B\n",
    "                   columns=pd.MultiIndex.from_tuples(cols),index=['child','adult'])\n",
    "\n",
    "# define a standard population, by age groups\n",
    "standard_pop = pd.DataFrame({'child' : [500000],\n",
    "                            'adult' : [500000]}).T\n",
    "\n",
    "standard_pop.columns=['pop']\n",
    "\n",
    "df2"
   ]
  },
  {
   "cell_type": "code",
   "execution_count": 4,
   "metadata": {},
   "outputs": [
    {
     "data": {
      "text/html": [
       "<div>\n",
       "<style scoped>\n",
       "    .dataframe tbody tr th:only-of-type {\n",
       "        vertical-align: middle;\n",
       "    }\n",
       "\n",
       "    .dataframe tbody tr th {\n",
       "        vertical-align: top;\n",
       "    }\n",
       "\n",
       "    .dataframe thead tr th {\n",
       "        text-align: left;\n",
       "    }\n",
       "</style>\n",
       "<table border=\"1\" class=\"dataframe\">\n",
       "  <thead>\n",
       "    <tr>\n",
       "      <th></th>\n",
       "      <th colspan=\"2\" halign=\"left\">A</th>\n",
       "      <th colspan=\"2\" halign=\"left\">B</th>\n",
       "    </tr>\n",
       "    <tr>\n",
       "      <th></th>\n",
       "      <th>pop</th>\n",
       "      <th>dead</th>\n",
       "      <th>pop</th>\n",
       "      <th>dead</th>\n",
       "    </tr>\n",
       "  </thead>\n",
       "  <tbody>\n",
       "    <tr>\n",
       "      <th>child</th>\n",
       "      <td>100000.0</td>\n",
       "      <td>1000.0</td>\n",
       "      <td>900000.0</td>\n",
       "      <td>9000.0</td>\n",
       "    </tr>\n",
       "    <tr>\n",
       "      <th>adult</th>\n",
       "      <td>900000.0</td>\n",
       "      <td>90000.0</td>\n",
       "      <td>100000.0</td>\n",
       "      <td>10000.0</td>\n",
       "    </tr>\n",
       "    <tr>\n",
       "      <th>All</th>\n",
       "      <td>1000000.0</td>\n",
       "      <td>91000.0</td>\n",
       "      <td>1000000.0</td>\n",
       "      <td>19000.0</td>\n",
       "    </tr>\n",
       "  </tbody>\n",
       "</table>\n",
       "</div>"
      ],
      "text/plain": [
       "               A                   B         \n",
       "             pop     dead        pop     dead\n",
       "child   100000.0   1000.0   900000.0   9000.0\n",
       "adult   900000.0  90000.0   100000.0  10000.0\n",
       "All    1000000.0  91000.0  1000000.0  19000.0"
      ]
     },
     "execution_count": 4,
     "metadata": {},
     "output_type": "execute_result"
    }
   ],
   "source": [
    "df2.loc['All',:] = df2.sum() \n",
    "df2"
   ]
  },
  {
   "cell_type": "code",
   "execution_count": 5,
   "metadata": {},
   "outputs": [
    {
     "data": {
      "text/html": [
       "<div>\n",
       "<style scoped>\n",
       "    .dataframe tbody tr th:only-of-type {\n",
       "        vertical-align: middle;\n",
       "    }\n",
       "\n",
       "    .dataframe tbody tr th {\n",
       "        vertical-align: top;\n",
       "    }\n",
       "\n",
       "    .dataframe thead tr th {\n",
       "        text-align: left;\n",
       "    }\n",
       "</style>\n",
       "<table border=\"1\" class=\"dataframe\">\n",
       "  <thead>\n",
       "    <tr>\n",
       "      <th></th>\n",
       "      <th colspan=\"2\" halign=\"left\">A</th>\n",
       "      <th colspan=\"2\" halign=\"left\">B</th>\n",
       "      <th>A</th>\n",
       "      <th>B</th>\n",
       "    </tr>\n",
       "    <tr>\n",
       "      <th></th>\n",
       "      <th>pop</th>\n",
       "      <th>dead</th>\n",
       "      <th>pop</th>\n",
       "      <th>dead</th>\n",
       "      <th>ratio</th>\n",
       "      <th>ratio</th>\n",
       "    </tr>\n",
       "  </thead>\n",
       "  <tbody>\n",
       "    <tr>\n",
       "      <th>child</th>\n",
       "      <td>100000.0</td>\n",
       "      <td>1000.0</td>\n",
       "      <td>900000.0</td>\n",
       "      <td>9000.0</td>\n",
       "      <td>0.010</td>\n",
       "      <td>0.010</td>\n",
       "    </tr>\n",
       "    <tr>\n",
       "      <th>adult</th>\n",
       "      <td>900000.0</td>\n",
       "      <td>90000.0</td>\n",
       "      <td>100000.0</td>\n",
       "      <td>10000.0</td>\n",
       "      <td>0.100</td>\n",
       "      <td>0.100</td>\n",
       "    </tr>\n",
       "    <tr>\n",
       "      <th>All</th>\n",
       "      <td>1000000.0</td>\n",
       "      <td>91000.0</td>\n",
       "      <td>1000000.0</td>\n",
       "      <td>19000.0</td>\n",
       "      <td>0.091</td>\n",
       "      <td>0.019</td>\n",
       "    </tr>\n",
       "  </tbody>\n",
       "</table>\n",
       "</div>"
      ],
      "text/plain": [
       "               A                   B               A      B\n",
       "             pop     dead        pop     dead  ratio  ratio\n",
       "child   100000.0   1000.0   900000.0   9000.0  0.010  0.010\n",
       "adult   900000.0  90000.0   100000.0  10000.0  0.100  0.100\n",
       "All    1000000.0  91000.0  1000000.0  19000.0  0.091  0.019"
      ]
     },
     "execution_count": 5,
     "metadata": {},
     "output_type": "execute_result"
    }
   ],
   "source": [
    "df2[('A','ratio')] = df2[('A','dead')] / df2[('A','pop')]\n",
    "df2[('B','ratio')] = df2[('B','dead')] / df2[('B','pop')]\n",
    "df2"
   ]
  },
  {
   "cell_type": "code",
   "execution_count": 6,
   "metadata": {},
   "outputs": [],
   "source": [
    "df2 = df2.reindex(columns=[('A','pop'),('A','dead'),('A','ratio'),('B','pop'),('B','dead'),('B','ratio')])"
   ]
  },
  {
   "cell_type": "code",
   "execution_count": 7,
   "metadata": {},
   "outputs": [
    {
     "data": {
      "text/html": [
       "<div>\n",
       "<style scoped>\n",
       "    .dataframe tbody tr th:only-of-type {\n",
       "        vertical-align: middle;\n",
       "    }\n",
       "\n",
       "    .dataframe tbody tr th {\n",
       "        vertical-align: top;\n",
       "    }\n",
       "\n",
       "    .dataframe thead tr th {\n",
       "        text-align: left;\n",
       "    }\n",
       "</style>\n",
       "<table border=\"1\" class=\"dataframe\">\n",
       "  <thead>\n",
       "    <tr>\n",
       "      <th></th>\n",
       "      <th colspan=\"3\" halign=\"left\">A</th>\n",
       "      <th colspan=\"3\" halign=\"left\">B</th>\n",
       "    </tr>\n",
       "    <tr>\n",
       "      <th></th>\n",
       "      <th>pop</th>\n",
       "      <th>dead</th>\n",
       "      <th>ratio</th>\n",
       "      <th>pop</th>\n",
       "      <th>dead</th>\n",
       "      <th>ratio</th>\n",
       "    </tr>\n",
       "  </thead>\n",
       "  <tbody>\n",
       "    <tr>\n",
       "      <th>child</th>\n",
       "      <td>100000.0</td>\n",
       "      <td>1000.0</td>\n",
       "      <td>0.010</td>\n",
       "      <td>900000.0</td>\n",
       "      <td>9000.0</td>\n",
       "      <td>0.010</td>\n",
       "    </tr>\n",
       "    <tr>\n",
       "      <th>adult</th>\n",
       "      <td>900000.0</td>\n",
       "      <td>90000.0</td>\n",
       "      <td>0.100</td>\n",
       "      <td>100000.0</td>\n",
       "      <td>10000.0</td>\n",
       "      <td>0.100</td>\n",
       "    </tr>\n",
       "    <tr>\n",
       "      <th>All</th>\n",
       "      <td>1000000.0</td>\n",
       "      <td>91000.0</td>\n",
       "      <td>0.091</td>\n",
       "      <td>1000000.0</td>\n",
       "      <td>19000.0</td>\n",
       "      <td>0.019</td>\n",
       "    </tr>\n",
       "  </tbody>\n",
       "</table>\n",
       "</div>"
      ],
      "text/plain": [
       "               A                          B                \n",
       "             pop     dead  ratio        pop     dead  ratio\n",
       "child   100000.0   1000.0  0.010   900000.0   9000.0  0.010\n",
       "adult   900000.0  90000.0  0.100   100000.0  10000.0  0.100\n",
       "All    1000000.0  91000.0  0.091  1000000.0  19000.0  0.019"
      ]
     },
     "execution_count": 7,
     "metadata": {},
     "output_type": "execute_result"
    }
   ],
   "source": [
    "df2"
   ]
  },
  {
   "cell_type": "code",
   "execution_count": 8,
   "metadata": {},
   "outputs": [
    {
     "data": {
      "text/html": [
       "<div>\n",
       "<style scoped>\n",
       "    .dataframe tbody tr th:only-of-type {\n",
       "        vertical-align: middle;\n",
       "    }\n",
       "\n",
       "    .dataframe tbody tr th {\n",
       "        vertical-align: top;\n",
       "    }\n",
       "\n",
       "    .dataframe thead th {\n",
       "        text-align: right;\n",
       "    }\n",
       "</style>\n",
       "<table border=\"1\" class=\"dataframe\">\n",
       "  <thead>\n",
       "    <tr style=\"text-align: right;\">\n",
       "      <th></th>\n",
       "      <th>pop</th>\n",
       "    </tr>\n",
       "  </thead>\n",
       "  <tbody>\n",
       "    <tr>\n",
       "      <th>child</th>\n",
       "      <td>500000</td>\n",
       "    </tr>\n",
       "    <tr>\n",
       "      <th>adult</th>\n",
       "      <td>500000</td>\n",
       "    </tr>\n",
       "  </tbody>\n",
       "</table>\n",
       "</div>"
      ],
      "text/plain": [
       "          pop\n",
       "child  500000\n",
       "adult  500000"
      ]
     },
     "execution_count": 8,
     "metadata": {},
     "output_type": "execute_result"
    }
   ],
   "source": [
    "standard_pop"
   ]
  },
  {
   "cell_type": "code",
   "execution_count": 9,
   "metadata": {},
   "outputs": [
    {
     "data": {
      "text/html": [
       "<div>\n",
       "<style scoped>\n",
       "    .dataframe tbody tr th:only-of-type {\n",
       "        vertical-align: middle;\n",
       "    }\n",
       "\n",
       "    .dataframe tbody tr th {\n",
       "        vertical-align: top;\n",
       "    }\n",
       "\n",
       "    .dataframe thead th {\n",
       "        text-align: right;\n",
       "    }\n",
       "</style>\n",
       "<table border=\"1\" class=\"dataframe\">\n",
       "  <thead>\n",
       "    <tr style=\"text-align: right;\">\n",
       "      <th></th>\n",
       "      <th>pop</th>\n",
       "      <th>expected_A</th>\n",
       "      <th>expected_B</th>\n",
       "      <th>rate_A</th>\n",
       "      <th>rate_B</th>\n",
       "    </tr>\n",
       "  </thead>\n",
       "  <tbody>\n",
       "    <tr>\n",
       "      <th>child</th>\n",
       "      <td>500000.0</td>\n",
       "      <td>5000.0</td>\n",
       "      <td>5000.0</td>\n",
       "      <td>0.010</td>\n",
       "      <td>0.010</td>\n",
       "    </tr>\n",
       "    <tr>\n",
       "      <th>adult</th>\n",
       "      <td>500000.0</td>\n",
       "      <td>50000.0</td>\n",
       "      <td>50000.0</td>\n",
       "      <td>0.100</td>\n",
       "      <td>0.100</td>\n",
       "    </tr>\n",
       "    <tr>\n",
       "      <th>All</th>\n",
       "      <td>1000000.0</td>\n",
       "      <td>55000.0</td>\n",
       "      <td>55000.0</td>\n",
       "      <td>0.055</td>\n",
       "      <td>0.055</td>\n",
       "    </tr>\n",
       "  </tbody>\n",
       "</table>\n",
       "</div>"
      ],
      "text/plain": [
       "             pop  expected_A  expected_B  rate_A  rate_B\n",
       "child   500000.0      5000.0      5000.0   0.010   0.010\n",
       "adult   500000.0     50000.0     50000.0   0.100   0.100\n",
       "All    1000000.0     55000.0     55000.0   0.055   0.055"
      ]
     },
     "execution_count": 9,
     "metadata": {},
     "output_type": "execute_result"
    }
   ],
   "source": [
    "standard_pop['expected_A'] = df2[('A','ratio')] * standard_pop['pop']\n",
    "standard_pop['expected_B'] = df2[('B','ratio')] * standard_pop['pop']\n",
    "standard_pop.loc['All',:] = standard_pop.sum()\n",
    "standard_pop['rate_A'] = standard_pop['expected_A'] / standard_pop['pop']\n",
    "standard_pop['rate_B'] = standard_pop['expected_B'] / standard_pop['pop']\n",
    "\n",
    "standard_pop"
   ]
  },
  {
   "cell_type": "code",
   "execution_count": 10,
   "metadata": {},
   "outputs": [
    {
     "data": {
      "text/html": [
       "<div>\n",
       "<style scoped>\n",
       "    .dataframe tbody tr th:only-of-type {\n",
       "        vertical-align: middle;\n",
       "    }\n",
       "\n",
       "    .dataframe tbody tr th {\n",
       "        vertical-align: top;\n",
       "    }\n",
       "\n",
       "    .dataframe thead th {\n",
       "        text-align: right;\n",
       "    }\n",
       "</style>\n",
       "<table border=\"1\" class=\"dataframe\">\n",
       "  <thead>\n",
       "    <tr style=\"text-align: right;\">\n",
       "      <th></th>\n",
       "      <th>age_grp</th>\n",
       "      <th>country</th>\n",
       "      <th>pop</th>\n",
       "      <th>dead</th>\n",
       "    </tr>\n",
       "  </thead>\n",
       "  <tbody>\n",
       "    <tr>\n",
       "      <th>0</th>\n",
       "      <td>inf</td>\n",
       "      <td>A</td>\n",
       "      <td>1000000</td>\n",
       "      <td>1000</td>\n",
       "    </tr>\n",
       "    <tr>\n",
       "      <th>1</th>\n",
       "      <td>inf</td>\n",
       "      <td>B</td>\n",
       "      <td>1000000</td>\n",
       "      <td>1000</td>\n",
       "    </tr>\n",
       "    <tr>\n",
       "      <th>2</th>\n",
       "      <td>child</td>\n",
       "      <td>A</td>\n",
       "      <td>6000000</td>\n",
       "      <td>7000</td>\n",
       "    </tr>\n",
       "    <tr>\n",
       "      <th>3</th>\n",
       "      <td>child</td>\n",
       "      <td>B</td>\n",
       "      <td>1500000</td>\n",
       "      <td>6300</td>\n",
       "    </tr>\n",
       "    <tr>\n",
       "      <th>4</th>\n",
       "      <td>adult</td>\n",
       "      <td>A</td>\n",
       "      <td>5500000</td>\n",
       "      <td>20000</td>\n",
       "    </tr>\n",
       "    <tr>\n",
       "      <th>5</th>\n",
       "      <td>adult</td>\n",
       "      <td>B</td>\n",
       "      <td>550000</td>\n",
       "      <td>3000</td>\n",
       "    </tr>\n",
       "    <tr>\n",
       "      <th>6</th>\n",
       "      <td>old</td>\n",
       "      <td>A</td>\n",
       "      <td>2500000</td>\n",
       "      <td>120000</td>\n",
       "    </tr>\n",
       "    <tr>\n",
       "      <th>7</th>\n",
       "      <td>old</td>\n",
       "      <td>B</td>\n",
       "      <td>120000</td>\n",
       "      <td>6000</td>\n",
       "    </tr>\n",
       "  </tbody>\n",
       "</table>\n",
       "</div>"
      ],
      "text/plain": [
       "  age_grp country      pop    dead\n",
       "0     inf       A  1000000    1000\n",
       "1     inf       B  1000000    1000\n",
       "2   child       A  6000000    7000\n",
       "3   child       B  1500000    6300\n",
       "4   adult       A  5500000   20000\n",
       "5   adult       B   550000    3000\n",
       "6     old       A  2500000  120000\n",
       "7     old       B   120000    6000"
      ]
     },
     "execution_count": 10,
     "metadata": {},
     "output_type": "execute_result"
    }
   ],
   "source": [
    "##### example on Simpson's Paradox from link below: \n",
    "\n",
    "# https://www.healthknowledge.org.uk/e-learning/epidemiology/specialists/standardisation\n",
    "# fake data from the above link'\n",
    "\n",
    "\n",
    "df = pd.DataFrame({'age_grp': ['inf','inf','child','child','adult','adult','old','old'],\n",
    "                  'country' : ['A','B','A','B','A','B','A','B'],\n",
    "                  'pop' : [1000000,1000000,6000000,1500000,5500000,550000,2500000,120000],\n",
    "                  'dead' : [1000,1000,7000,6300,20000,3000,120000,6000]})\n",
    "\n",
    "\n",
    "df['age_grp'] = pd.Categorical(df['age_grp'],['inf','child','adult','old'])\n",
    "\n",
    "df"
   ]
  },
  {
   "cell_type": "code",
   "execution_count": 11,
   "metadata": {},
   "outputs": [
    {
     "data": {
      "text/html": [
       "<div>\n",
       "<style scoped>\n",
       "    .dataframe tbody tr th:only-of-type {\n",
       "        vertical-align: middle;\n",
       "    }\n",
       "\n",
       "    .dataframe tbody tr th {\n",
       "        vertical-align: top;\n",
       "    }\n",
       "\n",
       "    .dataframe thead tr th {\n",
       "        text-align: left;\n",
       "    }\n",
       "\n",
       "    .dataframe thead tr:last-of-type th {\n",
       "        text-align: right;\n",
       "    }\n",
       "</style>\n",
       "<table border=\"1\" class=\"dataframe\">\n",
       "  <thead>\n",
       "    <tr>\n",
       "      <th></th>\n",
       "      <th colspan=\"3\" halign=\"left\">dead</th>\n",
       "      <th colspan=\"3\" halign=\"left\">pop</th>\n",
       "    </tr>\n",
       "    <tr>\n",
       "      <th>country</th>\n",
       "      <th>A</th>\n",
       "      <th>B</th>\n",
       "      <th>All</th>\n",
       "      <th>A</th>\n",
       "      <th>B</th>\n",
       "      <th>All</th>\n",
       "    </tr>\n",
       "    <tr>\n",
       "      <th>age_grp</th>\n",
       "      <th></th>\n",
       "      <th></th>\n",
       "      <th></th>\n",
       "      <th></th>\n",
       "      <th></th>\n",
       "      <th></th>\n",
       "    </tr>\n",
       "  </thead>\n",
       "  <tbody>\n",
       "    <tr>\n",
       "      <th>inf</th>\n",
       "      <td>1000</td>\n",
       "      <td>1000</td>\n",
       "      <td>2000</td>\n",
       "      <td>1000000</td>\n",
       "      <td>1000000</td>\n",
       "      <td>2000000</td>\n",
       "    </tr>\n",
       "    <tr>\n",
       "      <th>child</th>\n",
       "      <td>7000</td>\n",
       "      <td>6300</td>\n",
       "      <td>13300</td>\n",
       "      <td>6000000</td>\n",
       "      <td>1500000</td>\n",
       "      <td>7500000</td>\n",
       "    </tr>\n",
       "    <tr>\n",
       "      <th>adult</th>\n",
       "      <td>20000</td>\n",
       "      <td>3000</td>\n",
       "      <td>23000</td>\n",
       "      <td>5500000</td>\n",
       "      <td>550000</td>\n",
       "      <td>6050000</td>\n",
       "    </tr>\n",
       "    <tr>\n",
       "      <th>old</th>\n",
       "      <td>120000</td>\n",
       "      <td>6000</td>\n",
       "      <td>126000</td>\n",
       "      <td>2500000</td>\n",
       "      <td>120000</td>\n",
       "      <td>2620000</td>\n",
       "    </tr>\n",
       "    <tr>\n",
       "      <th>All</th>\n",
       "      <td>148000</td>\n",
       "      <td>16300</td>\n",
       "      <td>164300</td>\n",
       "      <td>15000000</td>\n",
       "      <td>3170000</td>\n",
       "      <td>18170000</td>\n",
       "    </tr>\n",
       "  </tbody>\n",
       "</table>\n",
       "</div>"
      ],
      "text/plain": [
       "           dead                      pop                   \n",
       "country       A      B     All         A        B       All\n",
       "age_grp                                                    \n",
       "inf        1000   1000    2000   1000000  1000000   2000000\n",
       "child      7000   6300   13300   6000000  1500000   7500000\n",
       "adult     20000   3000   23000   5500000   550000   6050000\n",
       "old      120000   6000  126000   2500000   120000   2620000\n",
       "All      148000  16300  164300  15000000  3170000  18170000"
      ]
     },
     "execution_count": 11,
     "metadata": {},
     "output_type": "execute_result"
    }
   ],
   "source": [
    "pivot = pd.pivot_table(df,index='age_grp',columns='country',values=['pop','dead'],aggfunc=sum,margins=True)\n",
    "pivot"
   ]
  },
  {
   "cell_type": "code",
   "execution_count": 12,
   "metadata": {},
   "outputs": [
    {
     "data": {
      "text/html": [
       "<div>\n",
       "<style scoped>\n",
       "    .dataframe tbody tr th:only-of-type {\n",
       "        vertical-align: middle;\n",
       "    }\n",
       "\n",
       "    .dataframe tbody tr th {\n",
       "        vertical-align: top;\n",
       "    }\n",
       "\n",
       "    .dataframe thead tr th {\n",
       "        text-align: left;\n",
       "    }\n",
       "\n",
       "    .dataframe thead tr:last-of-type th {\n",
       "        text-align: right;\n",
       "    }\n",
       "</style>\n",
       "<table border=\"1\" class=\"dataframe\">\n",
       "  <thead>\n",
       "    <tr>\n",
       "      <th></th>\n",
       "      <th colspan=\"3\" halign=\"left\">dead</th>\n",
       "      <th colspan=\"3\" halign=\"left\">pop</th>\n",
       "      <th>age_ratio_A</th>\n",
       "      <th>age_ratio_B</th>\n",
       "      <th>dead_ratio_A</th>\n",
       "      <th>dead_ratio_B</th>\n",
       "      <th>delta_dead_ratio</th>\n",
       "      <th>factor</th>\n",
       "    </tr>\n",
       "    <tr>\n",
       "      <th>country</th>\n",
       "      <th>A</th>\n",
       "      <th>B</th>\n",
       "      <th>All</th>\n",
       "      <th>A</th>\n",
       "      <th>B</th>\n",
       "      <th>All</th>\n",
       "      <th></th>\n",
       "      <th></th>\n",
       "      <th></th>\n",
       "      <th></th>\n",
       "      <th></th>\n",
       "      <th></th>\n",
       "    </tr>\n",
       "    <tr>\n",
       "      <th>age_grp</th>\n",
       "      <th></th>\n",
       "      <th></th>\n",
       "      <th></th>\n",
       "      <th></th>\n",
       "      <th></th>\n",
       "      <th></th>\n",
       "      <th></th>\n",
       "      <th></th>\n",
       "      <th></th>\n",
       "      <th></th>\n",
       "      <th></th>\n",
       "      <th></th>\n",
       "    </tr>\n",
       "  </thead>\n",
       "  <tbody>\n",
       "    <tr>\n",
       "      <th>inf</th>\n",
       "      <td>1000</td>\n",
       "      <td>1000</td>\n",
       "      <td>2000</td>\n",
       "      <td>1000000</td>\n",
       "      <td>1000000</td>\n",
       "      <td>2000000</td>\n",
       "      <td>0.066667</td>\n",
       "      <td>0.315457</td>\n",
       "      <td>0.001000</td>\n",
       "      <td>0.001000</td>\n",
       "      <td>0.000000</td>\n",
       "      <td>1.000000</td>\n",
       "    </tr>\n",
       "    <tr>\n",
       "      <th>child</th>\n",
       "      <td>7000</td>\n",
       "      <td>6300</td>\n",
       "      <td>13300</td>\n",
       "      <td>6000000</td>\n",
       "      <td>1500000</td>\n",
       "      <td>7500000</td>\n",
       "      <td>0.400000</td>\n",
       "      <td>0.473186</td>\n",
       "      <td>0.001167</td>\n",
       "      <td>0.004200</td>\n",
       "      <td>0.003033</td>\n",
       "      <td>3.600000</td>\n",
       "    </tr>\n",
       "    <tr>\n",
       "      <th>adult</th>\n",
       "      <td>20000</td>\n",
       "      <td>3000</td>\n",
       "      <td>23000</td>\n",
       "      <td>5500000</td>\n",
       "      <td>550000</td>\n",
       "      <td>6050000</td>\n",
       "      <td>0.366667</td>\n",
       "      <td>0.173502</td>\n",
       "      <td>0.003636</td>\n",
       "      <td>0.005455</td>\n",
       "      <td>0.001818</td>\n",
       "      <td>1.500000</td>\n",
       "    </tr>\n",
       "    <tr>\n",
       "      <th>old</th>\n",
       "      <td>120000</td>\n",
       "      <td>6000</td>\n",
       "      <td>126000</td>\n",
       "      <td>2500000</td>\n",
       "      <td>120000</td>\n",
       "      <td>2620000</td>\n",
       "      <td>0.166667</td>\n",
       "      <td>0.037855</td>\n",
       "      <td>0.048000</td>\n",
       "      <td>0.050000</td>\n",
       "      <td>0.002000</td>\n",
       "      <td>1.041667</td>\n",
       "    </tr>\n",
       "    <tr>\n",
       "      <th>All</th>\n",
       "      <td>148000</td>\n",
       "      <td>16300</td>\n",
       "      <td>164300</td>\n",
       "      <td>15000000</td>\n",
       "      <td>3170000</td>\n",
       "      <td>18170000</td>\n",
       "      <td>1.000000</td>\n",
       "      <td>1.000000</td>\n",
       "      <td>0.009867</td>\n",
       "      <td>0.005142</td>\n",
       "      <td>-0.004725</td>\n",
       "      <td>0.521144</td>\n",
       "    </tr>\n",
       "  </tbody>\n",
       "</table>\n",
       "</div>"
      ],
      "text/plain": [
       "           dead                      pop                    age_ratio_A  \\\n",
       "country       A      B     All         A        B       All               \n",
       "age_grp                                                                   \n",
       "inf        1000   1000    2000   1000000  1000000   2000000    0.066667   \n",
       "child      7000   6300   13300   6000000  1500000   7500000    0.400000   \n",
       "adult     20000   3000   23000   5500000   550000   6050000    0.366667   \n",
       "old      120000   6000  126000   2500000   120000   2620000    0.166667   \n",
       "All      148000  16300  164300  15000000  3170000  18170000    1.000000   \n",
       "\n",
       "        age_ratio_B dead_ratio_A dead_ratio_B delta_dead_ratio    factor  \n",
       "country                                                                   \n",
       "age_grp                                                                   \n",
       "inf        0.315457     0.001000     0.001000         0.000000  1.000000  \n",
       "child      0.473186     0.001167     0.004200         0.003033  3.600000  \n",
       "adult      0.173502     0.003636     0.005455         0.001818  1.500000  \n",
       "old        0.037855     0.048000     0.050000         0.002000  1.041667  \n",
       "All        1.000000     0.009867     0.005142        -0.004725  0.521144  "
      ]
     },
     "execution_count": 12,
     "metadata": {},
     "output_type": "execute_result"
    }
   ],
   "source": [
    "pivot['age_ratio_A'] = pivot[('pop','A')] / pivot.loc['All',('pop','A')]\n",
    "pivot['age_ratio_B'] = pivot[('pop','B')] / pivot.loc['All',('pop','B')]\n",
    "\n",
    "pivot['dead_ratio_A'] = pivot[('dead','A')] / pivot[('pop','A')]\n",
    "pivot['dead_ratio_B'] = pivot[('dead','B')] / pivot[('pop','B')]\n",
    "\n",
    "pivot['delta_dead_ratio'] = pivot['dead_ratio_B'] - pivot['dead_ratio_A']\n",
    "pivot['factor'] = pivot['dead_ratio_B'] / pivot['dead_ratio_A']\n",
    "\n",
    "pivot"
   ]
  },
  {
   "cell_type": "code",
   "execution_count": 13,
   "metadata": {},
   "outputs": [
    {
     "data": {
      "text/plain": [
       "<matplotlib.axes._subplots.AxesSubplot at 0x6ffff6e22a90>"
      ]
     },
     "execution_count": 13,
     "metadata": {},
     "output_type": "execute_result"
    },
    {
     "data": {
      "image/png": "[encoded data removed]",
      "text/plain": [
       "<Figure size 432x288 with 1 Axes>"
      ]
     },
     "metadata": {
      "needs_background": "light"
     },
     "output_type": "display_data"
    }
   ],
   "source": [
    "# for the fake data, the observation here is that Simpson's Paradox strikes again - overall country A has higher death ratio,\n",
    "# despite the fact that it has lower death ratios in each age group. \n",
    "\n",
    "pivot.loc['All','dead_ratio_A' : 'dead_ratio_B'].plot(kind='bar',color=['b','orange'],title='Death Ratio per country')"
   ]
  },
  {
   "cell_type": "code",
   "execution_count": 14,
   "metadata": {},
   "outputs": [
    {
     "data": {
      "text/plain": [
       "Text(0, 0.5, 'percentage')"
      ]
     },
     "execution_count": 14,
     "metadata": {},
     "output_type": "execute_result"
    },
    {
     "data": {
      "image/png": "[encoded data removed]",
      "text/plain": [
       "<Figure size 432x288 with 1 Axes>"
      ]
     },
     "metadata": {
      "needs_background": "light"
     },
     "output_type": "display_data"
    }
   ],
   "source": [
    "pivot.loc[:'old','age_ratio_A':'age_ratio_B'].plot(kind='bar',\n",
    "                                                   color=['b','orange'],title='age proportions per country')\n",
    "plt.legend(['A age ratio','B age ratio'])\n",
    "plt.ylabel('percentage')"
   ]
  },
  {
   "cell_type": "code",
   "execution_count": 15,
   "metadata": {},
   "outputs": [
    {
     "data": {
      "text/plain": [
       "Text(0, 0.5, 'percentage')"
      ]
     },
     "execution_count": 15,
     "metadata": {},
     "output_type": "execute_result"
    },
    {
     "data": {
      "image/png": "[encoded data removed]",
      "text/plain": [
       "<Figure size 432x288 with 1 Axes>"
      ]
     },
     "metadata": {
      "needs_background": "light"
     },
     "output_type": "display_data"
    }
   ],
   "source": [
    "pivot.loc[:'old','dead_ratio_A': 'dead_ratio_B'].plot(kind='bar',\n",
    "                                                     color=['b','orange'],title='death proportions by age and country')\n",
    "plt.legend(['A dead ratio','B dead ratio'])\n",
    "plt.ylabel('percentage')"
   ]
  },
  {
   "cell_type": "code",
   "execution_count": 16,
   "metadata": {},
   "outputs": [
    {
     "data": {
      "text/plain": [
       "<matplotlib.axes._subplots.AxesSubplot at 0x6ffff4976550>"
      ]
     },
     "execution_count": 16,
     "metadata": {},
     "output_type": "execute_result"
    },
    {
     "data": {
      "image/png": "[encoded data removed]",
      "text/plain": [
       "<Figure size 432x288 with 1 Axes>"
      ]
     },
     "metadata": {
      "needs_background": "light"
     },
     "output_type": "display_data"
    }
   ],
   "source": [
    "pivot['delta_dead_ratio'].plot(kind='bar',title='diff death ratio B - A')"
   ]
  },
  {
   "cell_type": "code",
   "execution_count": 17,
   "metadata": {},
   "outputs": [
    {
     "data": {
      "text/plain": [
       "<matplotlib.axes._subplots.AxesSubplot at 0x6ffff47964a8>"
      ]
     },
     "execution_count": 17,
     "metadata": {},
     "output_type": "execute_result"
    },
    {
     "data": {
      "image/png": "[encoded data removed]",
      "text/plain": [
       "<Figure size 432x288 with 1 Axes>"
      ]
     },
     "metadata": {
      "needs_background": "light"
     },
     "output_type": "display_data"
    }
   ],
   "source": [
    "pivot['factor'].plot(kind='bar')"
   ]
  }
 ],
 "metadata": {
  "kernelspec": {
   "display_name": "Python 3",
   "language": "python",
   "name": "python3"
  },
  "language_info": {
   "codemirror_mode": {
    "name": "ipython",
    "version": 3
   },
   "file_extension": ".py",
   "mimetype": "text/x-python",
   "name": "python",
   "nbconvert_exporter": "python",
   "pygments_lexer": "ipython3",
   "version": "3.6.9"
  }
 },
 "nbformat": 4,
 "nbformat_minor": 4
}
