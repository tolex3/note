{
 "cells": [
  {
   "cell_type": "code",
   "execution_count": 182,
   "metadata": {},
   "outputs": [],
   "source": [
    "import numpy as np\n",
    "import matplotlib.pyplot as plt\n",
    "import seaborn as sns\n",
    "import pandas as pd\n",
    "\n",
    "sns.set()"
   ]
  },
  {
   "cell_type": "code",
   "execution_count": 183,
   "metadata": {},
   "outputs": [
    {
     "data": {
      "text/html": [
       "<div>\n",
       "<style scoped>\n",
       "    .dataframe tbody tr th:only-of-type {\n",
       "        vertical-align: middle;\n",
       "    }\n",
       "\n",
       "    .dataframe tbody tr th {\n",
       "        vertical-align: top;\n",
       "    }\n",
       "\n",
       "    .dataframe thead tr th {\n",
       "        text-align: left;\n",
       "    }\n",
       "</style>\n",
       "<table border=\"1\" class=\"dataframe\">\n",
       "  <thead>\n",
       "    <tr>\n",
       "      <th></th>\n",
       "      <th colspan=\"2\" halign=\"left\">A</th>\n",
       "      <th colspan=\"2\" halign=\"left\">B</th>\n",
       "    </tr>\n",
       "    <tr>\n",
       "      <th></th>\n",
       "      <th>pop</th>\n",
       "      <th>dead</th>\n",
       "      <th>pop</th>\n",
       "      <th>dead</th>\n",
       "    </tr>\n",
       "  </thead>\n",
       "  <tbody>\n",
       "    <tr>\n",
       "      <th>child</th>\n",
       "      <td>100000</td>\n",
       "      <td>100</td>\n",
       "      <td>900000</td>\n",
       "      <td>900</td>\n",
       "    </tr>\n",
       "    <tr>\n",
       "      <th>adult</th>\n",
       "      <td>900000</td>\n",
       "      <td>9000</td>\n",
       "      <td>100000</td>\n",
       "      <td>1000</td>\n",
       "    </tr>\n",
       "  </tbody>\n",
       "</table>\n",
       "</div>"
      ],
      "text/plain": [
       "            A             B      \n",
       "          pop  dead     pop  dead\n",
       "child  100000   100  900000   900\n",
       "adult  900000  9000  100000  1000"
      ]
     },
     "execution_count": 183,
     "metadata": {},
     "output_type": "execute_result"
    }
   ],
   "source": [
    "\n",
    "\n",
    "cols = [('A','pop'),('A','dead'),('B','pop'),('B','dead')]\n",
    "\n",
    "# example populations of two countries\n",
    "\n",
    "df2 = pd.DataFrame(data=[[100000,100,900000,900], #child: pop,dead,pop,dead : A,B\n",
    "                         [900000,9000,100000,1000]],    #adult pop,dead : A,B\n",
    "                   columns=pd.MultiIndex.from_tuples(cols),index=['child','adult'])\n",
    "\n",
    "# define a standard population, by age groups\n",
    "standard_pop = pd.DataFrame({'child' : [500000],\n",
    "                            'adult' : [500000]}).T\n",
    "\n",
    "standard_pop.columns=['pop']\n",
    "\n",
    "df2"
   ]
  },
  {
   "cell_type": "code",
   "execution_count": 184,
   "metadata": {},
   "outputs": [
    {
     "data": {
      "text/html": [
       "<div>\n",
       "<style scoped>\n",
       "    .dataframe tbody tr th:only-of-type {\n",
       "        vertical-align: middle;\n",
       "    }\n",
       "\n",
       "    .dataframe tbody tr th {\n",
       "        vertical-align: top;\n",
       "    }\n",
       "\n",
       "    .dataframe thead th {\n",
       "        text-align: right;\n",
       "    }\n",
       "</style>\n",
       "<table border=\"1\" class=\"dataframe\">\n",
       "  <thead>\n",
       "    <tr style=\"text-align: right;\">\n",
       "      <th></th>\n",
       "      <th>country</th>\n",
       "      <th>age_grp</th>\n",
       "      <th>pop</th>\n",
       "      <th>dead</th>\n",
       "      <th>country_idx</th>\n",
       "      <th>age_idx</th>\n",
       "    </tr>\n",
       "  </thead>\n",
       "  <tbody>\n",
       "    <tr>\n",
       "      <th>0</th>\n",
       "      <td>A</td>\n",
       "      <td>child</td>\n",
       "      <td>100000</td>\n",
       "      <td>100</td>\n",
       "      <td>1</td>\n",
       "      <td>1</td>\n",
       "    </tr>\n",
       "    <tr>\n",
       "      <th>1</th>\n",
       "      <td>B</td>\n",
       "      <td>child</td>\n",
       "      <td>900000</td>\n",
       "      <td>900</td>\n",
       "      <td>2</td>\n",
       "      <td>1</td>\n",
       "    </tr>\n",
       "    <tr>\n",
       "      <th>2</th>\n",
       "      <td>A</td>\n",
       "      <td>adult</td>\n",
       "      <td>900000</td>\n",
       "      <td>9000</td>\n",
       "      <td>1</td>\n",
       "      <td>2</td>\n",
       "    </tr>\n",
       "    <tr>\n",
       "      <th>3</th>\n",
       "      <td>B</td>\n",
       "      <td>adult</td>\n",
       "      <td>100000</td>\n",
       "      <td>1000</td>\n",
       "      <td>2</td>\n",
       "      <td>2</td>\n",
       "    </tr>\n",
       "  </tbody>\n",
       "</table>\n",
       "</div>"
      ],
      "text/plain": [
       "  country age_grp     pop  dead  country_idx  age_idx\n",
       "0       A   child  100000   100            1        1\n",
       "1       B   child  900000   900            2        1\n",
       "2       A   adult  900000  9000            1        2\n",
       "3       B   adult  100000  1000            2        2"
      ]
     },
     "execution_count": 184,
     "metadata": {},
     "output_type": "execute_result"
    }
   ],
   "source": [
    "df2_trans = df2.T.unstack().unstack().reset_index()\n",
    "df2_trans.columns = ['age_grp','state','country','value']\n",
    "df2_trans\n",
    "grp = df2_trans.groupby('state')\n",
    "dead = grp.get_group('dead').reset_index(drop=True)\n",
    "pop = grp.get_group('pop').reset_index(drop=True)\n",
    "\n",
    "all_data = pd.concat([pop,dead],axis=1)\n",
    "all_data = all_data.iloc[:,[2,0,3,7]]\n",
    "\n",
    "all_data.columns = ['country','age_grp','pop','dead']\n",
    "\n",
    "def create_country_idx(c):\n",
    "    if c == 'A' : return  1\n",
    "    if c == 'B' : return 2\n",
    "    \n",
    "def create_age_idx(a):\n",
    "    if a == 'child' : return 1\n",
    "    if a == 'adult' : return 2\n",
    "\n",
    "all_data['country_idx'] = all_data['country'].apply(create_country_idx)\n",
    "all_data['age_idx'] = all_data['age_grp'].apply(create_age_idx)\n",
    "\n",
    "all_data"
   ]
  },
  {
   "cell_type": "code",
   "execution_count": 186,
   "metadata": {},
   "outputs": [
    {
     "name": "stdout",
     "output_type": "stream",
     "text": [
      " [-----------------100%-----------------] 50000 of 50000 complete in 47.3 sec"
     ]
    }
   ],
   "source": [
    "#PYMC\n",
    "import pymc as pm\n",
    "from pymc.Matplot import plot as pmplot\n",
    "\n",
    "\n",
    "### condition on country by assigning a unique alpha to each country\n",
    "### condition on age_grp by assigning a unique beta to each age group\n",
    "\n",
    "# model: \n",
    "# dead ~ Binomial(population,p)\n",
    "# p = logit(alpha[country_idx] + beta[age_idx])\n",
    "# alpha[country_idx] ~ Normal(0,10)\n",
    "# beta[age_idx] ~ Normal(0,10) \n",
    "\n",
    "\n",
    "country_idx = all_data['country_idx'] \n",
    "age_idx = all_data['age_idx']\n",
    "\n",
    "alpha = pm.Normal('alpha',0, 1 / 10 ** 2,size=2) # 2 countries\n",
    "\n",
    "beta = pm.Normal('beta',0,1 / 10 ** 2,size=2) # 2 age groups\n",
    "\n",
    "\n",
    "@pm.deterministic\n",
    "def logit_age(age_idx=age_idx-1,country_idx=country_idx-1,alpha=alpha,beta=beta):\n",
    "        \n",
    "    return np.exp(alpha[country_idx] + beta[age_idx]) / (\n",
    "        1 + np.exp(alpha[country_idx] + beta[age_idx]))\n",
    "\n",
    "\n",
    "lkh_age = pm.Binomial('lkh_age',n=all_data['pop'],p=logit_age,observed=True,\n",
    "                      value=all_data['dead'])\n",
    "\n",
    "model = pm.Model([alpha,beta,logit_age,lkh_age])\n",
    "\n",
    "_map = pm.MAP(model)\n",
    "_map.fit()\n",
    "\n",
    "mcmc = pm.MCMC(model)\n",
    "sample = mcmc.sample(50000,20000,3)\n",
    "\n"
   ]
  },
  {
   "cell_type": "code",
   "execution_count": 187,
   "metadata": {},
   "outputs": [],
   "source": [
    "def logit_pure(x):\n",
    "    return (np.exp(x)) / (1 + np.exp(x))\n",
    "\n",
    "def logistic_pure(p):\n",
    "    return np.log(p / (1 - p))"
   ]
  },
  {
   "cell_type": "code",
   "execution_count": 188,
   "metadata": {
    "scrolled": false
   },
   "outputs": [
    {
     "name": "stdout",
     "output_type": "stream",
     "text": [
      "Plotting alpha_A\n",
      "Plotting alpha_B\n",
      "Plotting beta_child\n",
      "Plotting beta_adult\n"
     ]
    },
    {
     "data": {
      "text/html": [
       "<div>\n",
       "<style scoped>\n",
       "    .dataframe tbody tr th:only-of-type {\n",
       "        vertical-align: middle;\n",
       "    }\n",
       "\n",
       "    .dataframe tbody tr th {\n",
       "        vertical-align: top;\n",
       "    }\n",
       "\n",
       "    .dataframe thead th {\n",
       "        text-align: right;\n",
       "    }\n",
       "</style>\n",
       "<table border=\"1\" class=\"dataframe\">\n",
       "  <thead>\n",
       "    <tr style=\"text-align: right;\">\n",
       "      <th></th>\n",
       "      <th>alpha_A</th>\n",
       "      <th>alpha_B</th>\n",
       "      <th>beta_child</th>\n",
       "      <th>beta_adult</th>\n",
       "    </tr>\n",
       "  </thead>\n",
       "  <tbody>\n",
       "    <tr>\n",
       "      <th>count</th>\n",
       "      <td>10000.000000</td>\n",
       "      <td>10000.000000</td>\n",
       "      <td>10000.000000</td>\n",
       "      <td>10000.000000</td>\n",
       "    </tr>\n",
       "    <tr>\n",
       "      <th>mean</th>\n",
       "      <td>3.664161</td>\n",
       "      <td>3.664690</td>\n",
       "      <td>-10.572230</td>\n",
       "      <td>-8.259295</td>\n",
       "    </tr>\n",
       "    <tr>\n",
       "      <th>std</th>\n",
       "      <td>0.232867</td>\n",
       "      <td>0.233876</td>\n",
       "      <td>0.235228</td>\n",
       "      <td>0.232783</td>\n",
       "    </tr>\n",
       "    <tr>\n",
       "      <th>min</th>\n",
       "      <td>3.195504</td>\n",
       "      <td>3.213723</td>\n",
       "      <td>-11.371299</td>\n",
       "      <td>-8.994930</td>\n",
       "    </tr>\n",
       "    <tr>\n",
       "      <th>25%</th>\n",
       "      <td>3.492997</td>\n",
       "      <td>3.493373</td>\n",
       "      <td>-10.714281</td>\n",
       "      <td>-8.398269</td>\n",
       "    </tr>\n",
       "    <tr>\n",
       "      <th>50%</th>\n",
       "      <td>3.611173</td>\n",
       "      <td>3.615051</td>\n",
       "      <td>-10.524488</td>\n",
       "      <td>-8.207729</td>\n",
       "    </tr>\n",
       "    <tr>\n",
       "      <th>75%</th>\n",
       "      <td>3.803510</td>\n",
       "      <td>3.803727</td>\n",
       "      <td>-10.398781</td>\n",
       "      <td>-8.088610</td>\n",
       "    </tr>\n",
       "    <tr>\n",
       "      <th>max</th>\n",
       "      <td>4.394710</td>\n",
       "      <td>4.438728</td>\n",
       "      <td>-10.065422</td>\n",
       "      <td>-7.803609</td>\n",
       "    </tr>\n",
       "  </tbody>\n",
       "</table>\n",
       "</div>"
      ],
      "text/plain": [
       "            alpha_A       alpha_B    beta_child    beta_adult\n",
       "count  10000.000000  10000.000000  10000.000000  10000.000000\n",
       "mean       3.664161      3.664690    -10.572230     -8.259295\n",
       "std        0.232867      0.233876      0.235228      0.232783\n",
       "min        3.195504      3.213723    -11.371299     -8.994930\n",
       "25%        3.492997      3.493373    -10.714281     -8.398269\n",
       "50%        3.611173      3.615051    -10.524488     -8.207729\n",
       "75%        3.803510      3.803727    -10.398781     -8.088610\n",
       "max        4.394710      4.438728    -10.065422     -7.803609"
      ]
     },
     "execution_count": 188,
     "metadata": {},
     "output_type": "execute_result"
    },
    {
     "data": {
      "image/png": "[encoded data removed]",
      "text/plain": [
       "<Figure size 720x432 with 3 Axes>"
      ]
     },
     "metadata": {},
     "output_type": "display_data"
    },
    {
     "data": {
      "image/png": "[encoded data removed]",
      "text/plain": [
       "<Figure size 720x432 with 3 Axes>"
      ]
     },
     "metadata": {},
     "output_type": "display_data"
    },
    {
     "data": {
      "image/png": "[encoded data removed]",
      "text/plain": [
       "<Figure size 720x432 with 3 Axes>"
      ]
     },
     "metadata": {},
     "output_type": "display_data"
    },
    {
     "data": {
      "image/png": "[encoded data removed]",
      "text/plain": [
       "<Figure size 720x432 with 3 Axes>"
      ]
     },
     "metadata": {},
     "output_type": "display_data"
    }
   ],
   "source": [
    "alpha_A = mcmc.trace('alpha')[:,0]\n",
    "alpha_B = mcmc.trace('alpha')[:,1]\n",
    "\n",
    "beta_child = mcmc.trace('beta')[:,0]\n",
    "beta_adult = mcmc.trace('beta')[:,1]\n",
    "\n",
    "pmplot(alpha_A,'alpha_A')\n",
    "pmplot(alpha_B,'alpha_B')\n",
    "\n",
    "pmplot(beta_child,'beta_child')\n",
    "pmplot(beta_adult,'beta_adult')\n",
    "\n",
    "result = pd.DataFrame({'alpha_A' : alpha_A,\n",
    "                      'alpha_B' : alpha_B,\n",
    "                      'beta_child' : beta_child,\n",
    "                      'beta_adult' : beta_adult})\n",
    "\n",
    "result.describe()"
   ]
  },
  {
   "cell_type": "code",
   "execution_count": 189,
   "metadata": {},
   "outputs": [
    {
     "data": {
      "text/html": [
       "<div>\n",
       "<style scoped>\n",
       "    .dataframe tbody tr th:only-of-type {\n",
       "        vertical-align: middle;\n",
       "    }\n",
       "\n",
       "    .dataframe tbody tr th {\n",
       "        vertical-align: top;\n",
       "    }\n",
       "\n",
       "    .dataframe thead th {\n",
       "        text-align: right;\n",
       "    }\n",
       "</style>\n",
       "<table border=\"1\" class=\"dataframe\">\n",
       "  <thead>\n",
       "    <tr style=\"text-align: right;\">\n",
       "      <th></th>\n",
       "      <th>A_child</th>\n",
       "      <th>A_adult</th>\n",
       "      <th>B_child</th>\n",
       "      <th>B_adult</th>\n",
       "    </tr>\n",
       "  </thead>\n",
       "  <tbody>\n",
       "    <tr>\n",
       "      <th>count</th>\n",
       "      <td>10000.000000</td>\n",
       "      <td>10000.000000</td>\n",
       "      <td>10000.000000</td>\n",
       "      <td>10000.000000</td>\n",
       "    </tr>\n",
       "    <tr>\n",
       "      <th>mean</th>\n",
       "      <td>0.001000</td>\n",
       "      <td>0.010000</td>\n",
       "      <td>0.001000</td>\n",
       "      <td>0.010009</td>\n",
       "    </tr>\n",
       "    <tr>\n",
       "      <th>std</th>\n",
       "      <td>0.000042</td>\n",
       "      <td>0.000104</td>\n",
       "      <td>0.000032</td>\n",
       "      <td>0.000295</td>\n",
       "    </tr>\n",
       "    <tr>\n",
       "      <th>min</th>\n",
       "      <td>0.000847</td>\n",
       "      <td>0.009570</td>\n",
       "      <td>0.000882</td>\n",
       "      <td>0.008978</td>\n",
       "    </tr>\n",
       "    <tr>\n",
       "      <th>25%</th>\n",
       "      <td>0.000971</td>\n",
       "      <td>0.009931</td>\n",
       "      <td>0.000978</td>\n",
       "      <td>0.009808</td>\n",
       "    </tr>\n",
       "    <tr>\n",
       "      <th>50%</th>\n",
       "      <td>0.000998</td>\n",
       "      <td>0.010000</td>\n",
       "      <td>0.000999</td>\n",
       "      <td>0.010008</td>\n",
       "    </tr>\n",
       "    <tr>\n",
       "      <th>75%</th>\n",
       "      <td>0.001027</td>\n",
       "      <td>0.010073</td>\n",
       "      <td>0.001021</td>\n",
       "      <td>0.010205</td>\n",
       "    </tr>\n",
       "    <tr>\n",
       "      <th>max</th>\n",
       "      <td>0.001154</td>\n",
       "      <td>0.010373</td>\n",
       "      <td>0.001112</td>\n",
       "      <td>0.011169</td>\n",
       "    </tr>\n",
       "  </tbody>\n",
       "</table>\n",
       "</div>"
      ],
      "text/plain": [
       "            A_child       A_adult       B_child       B_adult\n",
       "count  10000.000000  10000.000000  10000.000000  10000.000000\n",
       "mean       0.001000      0.010000      0.001000      0.010009\n",
       "std        0.000042      0.000104      0.000032      0.000295\n",
       "min        0.000847      0.009570      0.000882      0.008978\n",
       "25%        0.000971      0.009931      0.000978      0.009808\n",
       "50%        0.000998      0.010000      0.000999      0.010008\n",
       "75%        0.001027      0.010073      0.001021      0.010205\n",
       "max        0.001154      0.010373      0.001112      0.011169"
      ]
     },
     "execution_count": 189,
     "metadata": {},
     "output_type": "execute_result"
    }
   ],
   "source": [
    "result_p = pd.DataFrame()\n",
    "\n",
    "result_p['A_child'] = logit_pure(result['alpha_A'] + result['beta_child']) \n",
    "result_p['A_adult'] = logit_pure(result['alpha_A'] + result['beta_adult']) \n",
    "result_p['B_child'] = logit_pure(result['alpha_B'] + result['beta_child']) \n",
    "result_p['B_adult'] = logit_pure(result['alpha_B'] + result['beta_adult']) \n",
    "\n",
    "result_p.describe()"
   ]
  },
  {
   "cell_type": "code",
   "execution_count": 220,
   "metadata": {},
   "outputs": [
    {
     "ename": "NameError",
     "evalue": "name 'std_pop' is not defined",
     "output_type": "error",
     "traceback": [
      "\u001b[0;31m---------------------------------------------------------------------------\u001b[0m",
      "\u001b[0;31mNameError\u001b[0m                                 Traceback (most recent call last)",
      "\u001b[0;32m<ipython-input-220-b096b5623b2a>\u001b[0m in \u001b[0;36m<module>\u001b[0;34m()\u001b[0m\n\u001b[0;32m----> 1\u001b[0;31m \u001b[0mstd_pop\u001b[0m\u001b[0;34m\u001b[0m\u001b[0;34m\u001b[0m\u001b[0m\n\u001b[0m",
      "\u001b[0;31mNameError\u001b[0m: name 'std_pop' is not defined"
     ]
    }
   ],
   "source": []
  },
  {
   "cell_type": "code",
   "execution_count": 225,
   "metadata": {
    "scrolled": false
   },
   "outputs": [
    {
     "name": "stdout",
     "output_type": "stream",
     "text": [
      "pop    499.790733\n",
      "Name: child, dtype: float64\n",
      "pop    5000.200352\n",
      "Name: adult, dtype: float64\n",
      "pop    499.859405\n",
      "Name: child, dtype: float64\n",
      "pop    5004.706508\n",
      "Name: adult, dtype: float64\n"
     ]
    }
   ],
   "source": [
    "pymc_means = result_p.describe().loc['mean',:]\n",
    "\n",
    "pymc_deaths_per_M_A_child = pymc_means.loc['A_child'] * standard_pop.loc['child'] \n",
    "pymc_deaths_per_M_A_adult = pymc_means.loc['A_adult'] * standard_pop.loc['adult'] \n",
    "\n",
    "pymc_deaths_per_M_B_child = pymc_means.loc['B_child'] * standard_pop.loc['child'] \n",
    "pymc_deaths_per_M_B_adult = pymc_means.loc['B_adult'] * standard_pop.loc['adult'] \n",
    "\n",
    "print (pymc_deaths_per_M_A_child)\n",
    "print (pymc_deaths_per_M_A_adult)\n",
    "print (pymc_deaths_per_M_B_child)\n",
    "print (pymc_deaths_per_M_B_adult)\n",
    "\n"
   ]
  },
  {
   "cell_type": "code",
   "execution_count": 219,
   "metadata": {},
   "outputs": [
    {
     "data": {
      "text/plain": [
       "10000.400704796528"
      ]
     },
     "execution_count": 219,
     "metadata": {},
     "output_type": "execute_result"
    }
   ],
   "source": [
    "(pymc_means.loc['A_adult'] * df2.loc['adult',('A','pop')]) / (df2.loc['adult',('A','pop')] / 1e6)"
   ]
  },
  {
   "cell_type": "code",
   "execution_count": 132,
   "metadata": {},
   "outputs": [],
   "source": [
    "df2.loc['All',:] = df2.sum() \n"
   ]
  },
  {
   "cell_type": "code",
   "execution_count": 133,
   "metadata": {
    "scrolled": true
   },
   "outputs": [
    {
     "data": {
      "text/html": [
       "<div>\n",
       "<style scoped>\n",
       "    .dataframe tbody tr th:only-of-type {\n",
       "        vertical-align: middle;\n",
       "    }\n",
       "\n",
       "    .dataframe tbody tr th {\n",
       "        vertical-align: top;\n",
       "    }\n",
       "\n",
       "    .dataframe thead tr th {\n",
       "        text-align: left;\n",
       "    }\n",
       "</style>\n",
       "<table border=\"1\" class=\"dataframe\">\n",
       "  <thead>\n",
       "    <tr>\n",
       "      <th></th>\n",
       "      <th colspan=\"2\" halign=\"left\">A</th>\n",
       "      <th colspan=\"2\" halign=\"left\">B</th>\n",
       "      <th>A</th>\n",
       "      <th>B</th>\n",
       "    </tr>\n",
       "    <tr>\n",
       "      <th></th>\n",
       "      <th>pop</th>\n",
       "      <th>dead</th>\n",
       "      <th>pop</th>\n",
       "      <th>dead</th>\n",
       "      <th>ratio</th>\n",
       "      <th>ratio</th>\n",
       "    </tr>\n",
       "  </thead>\n",
       "  <tbody>\n",
       "    <tr>\n",
       "      <th>child</th>\n",
       "      <td>100000.0</td>\n",
       "      <td>100.0</td>\n",
       "      <td>900000.0</td>\n",
       "      <td>900.0</td>\n",
       "      <td>0.0010</td>\n",
       "      <td>0.0010</td>\n",
       "    </tr>\n",
       "    <tr>\n",
       "      <th>adult</th>\n",
       "      <td>900000.0</td>\n",
       "      <td>9000.0</td>\n",
       "      <td>100000.0</td>\n",
       "      <td>1000.0</td>\n",
       "      <td>0.0100</td>\n",
       "      <td>0.0100</td>\n",
       "    </tr>\n",
       "    <tr>\n",
       "      <th>All</th>\n",
       "      <td>1000000.0</td>\n",
       "      <td>9100.0</td>\n",
       "      <td>1000000.0</td>\n",
       "      <td>1900.0</td>\n",
       "      <td>0.0091</td>\n",
       "      <td>0.0019</td>\n",
       "    </tr>\n",
       "  </tbody>\n",
       "</table>\n",
       "</div>"
      ],
      "text/plain": [
       "               A                  B               A       B\n",
       "             pop    dead        pop    dead   ratio   ratio\n",
       "child   100000.0   100.0   900000.0   900.0  0.0010  0.0010\n",
       "adult   900000.0  9000.0   100000.0  1000.0  0.0100  0.0100\n",
       "All    1000000.0  9100.0  1000000.0  1900.0  0.0091  0.0019"
      ]
     },
     "execution_count": 133,
     "metadata": {},
     "output_type": "execute_result"
    }
   ],
   "source": [
    "df2[('A','ratio')] = df2[('A','dead')] / df2[('A','pop')]\n",
    "df2[('B','ratio')] = df2[('B','dead')] / df2[('B','pop')]\n",
    "df2"
   ]
  },
  {
   "cell_type": "code",
   "execution_count": 134,
   "metadata": {},
   "outputs": [],
   "source": [
    "df2 = df2.reindex(columns=[('A','pop'),('A','dead'),('A','ratio'),('B','pop'),('B','dead'),('B','ratio')])"
   ]
  },
  {
   "cell_type": "code",
   "execution_count": 135,
   "metadata": {},
   "outputs": [
    {
     "data": {
      "text/html": [
       "<div>\n",
       "<style scoped>\n",
       "    .dataframe tbody tr th:only-of-type {\n",
       "        vertical-align: middle;\n",
       "    }\n",
       "\n",
       "    .dataframe tbody tr th {\n",
       "        vertical-align: top;\n",
       "    }\n",
       "\n",
       "    .dataframe thead tr th {\n",
       "        text-align: left;\n",
       "    }\n",
       "</style>\n",
       "<table border=\"1\" class=\"dataframe\">\n",
       "  <thead>\n",
       "    <tr>\n",
       "      <th></th>\n",
       "      <th colspan=\"4\" halign=\"left\">A</th>\n",
       "      <th colspan=\"4\" halign=\"left\">B</th>\n",
       "    </tr>\n",
       "    <tr>\n",
       "      <th></th>\n",
       "      <th>pop</th>\n",
       "      <th>dead</th>\n",
       "      <th>ratio</th>\n",
       "      <th>dead_per_M</th>\n",
       "      <th>pop</th>\n",
       "      <th>dead</th>\n",
       "      <th>ratio</th>\n",
       "      <th>dead_per_M</th>\n",
       "    </tr>\n",
       "  </thead>\n",
       "  <tbody>\n",
       "    <tr>\n",
       "      <th>child</th>\n",
       "      <td>100000.0</td>\n",
       "      <td>100.0</td>\n",
       "      <td>0.0010</td>\n",
       "      <td>1000.0</td>\n",
       "      <td>900000.0</td>\n",
       "      <td>900.0</td>\n",
       "      <td>0.0010</td>\n",
       "      <td>1000.0</td>\n",
       "    </tr>\n",
       "    <tr>\n",
       "      <th>adult</th>\n",
       "      <td>900000.0</td>\n",
       "      <td>9000.0</td>\n",
       "      <td>0.0100</td>\n",
       "      <td>10000.0</td>\n",
       "      <td>100000.0</td>\n",
       "      <td>1000.0</td>\n",
       "      <td>0.0100</td>\n",
       "      <td>10000.0</td>\n",
       "    </tr>\n",
       "    <tr>\n",
       "      <th>All</th>\n",
       "      <td>1000000.0</td>\n",
       "      <td>9100.0</td>\n",
       "      <td>0.0091</td>\n",
       "      <td>9100.0</td>\n",
       "      <td>1000000.0</td>\n",
       "      <td>1900.0</td>\n",
       "      <td>0.0019</td>\n",
       "      <td>1900.0</td>\n",
       "    </tr>\n",
       "  </tbody>\n",
       "</table>\n",
       "</div>"
      ],
      "text/plain": [
       "               A                                     B                  \\\n",
       "             pop    dead   ratio dead_per_M        pop    dead   ratio   \n",
       "child   100000.0   100.0  0.0010     1000.0   900000.0   900.0  0.0010   \n",
       "adult   900000.0  9000.0  0.0100    10000.0   100000.0  1000.0  0.0100   \n",
       "All    1000000.0  9100.0  0.0091     9100.0  1000000.0  1900.0  0.0019   \n",
       "\n",
       "                  \n",
       "      dead_per_M  \n",
       "child     1000.0  \n",
       "adult    10000.0  \n",
       "All       1900.0  "
      ]
     },
     "execution_count": 135,
     "metadata": {},
     "output_type": "execute_result"
    }
   ],
   "source": [
    "df2[('A','dead_per_M')] = df2[('A','dead')] / (df2[('A','pop')] / 1e6)\n",
    "df2[('B','dead_per_M')] = df2[('B','dead')] / (df2[('B','pop')] / 1e6)\n",
    "\n",
    "df2 = df2.reindex(columns=[('A','pop'),('A','dead'),('A','ratio'),('A','dead_per_M'),\n",
    "                           ('B','pop'),('B','dead'),('B','ratio'),('B','dead_per_M')])\n",
    "\n",
    "df2"
   ]
  },
  {
   "cell_type": "code",
   "execution_count": 136,
   "metadata": {},
   "outputs": [
    {
     "data": {
      "text/html": [
       "<div>\n",
       "<style scoped>\n",
       "    .dataframe tbody tr th:only-of-type {\n",
       "        vertical-align: middle;\n",
       "    }\n",
       "\n",
       "    .dataframe tbody tr th {\n",
       "        vertical-align: top;\n",
       "    }\n",
       "\n",
       "    .dataframe thead th {\n",
       "        text-align: right;\n",
       "    }\n",
       "</style>\n",
       "<table border=\"1\" class=\"dataframe\">\n",
       "  <thead>\n",
       "    <tr style=\"text-align: right;\">\n",
       "      <th></th>\n",
       "      <th>pop</th>\n",
       "    </tr>\n",
       "  </thead>\n",
       "  <tbody>\n",
       "    <tr>\n",
       "      <th>child</th>\n",
       "      <td>500000</td>\n",
       "    </tr>\n",
       "    <tr>\n",
       "      <th>adult</th>\n",
       "      <td>500000</td>\n",
       "    </tr>\n",
       "  </tbody>\n",
       "</table>\n",
       "</div>"
      ],
      "text/plain": [
       "          pop\n",
       "child  500000\n",
       "adult  500000"
      ]
     },
     "execution_count": 136,
     "metadata": {},
     "output_type": "execute_result"
    }
   ],
   "source": [
    "standard_pop"
   ]
  },
  {
   "cell_type": "code",
   "execution_count": 137,
   "metadata": {},
   "outputs": [
    {
     "data": {
      "text/html": [
       "<div>\n",
       "<style scoped>\n",
       "    .dataframe tbody tr th:only-of-type {\n",
       "        vertical-align: middle;\n",
       "    }\n",
       "\n",
       "    .dataframe tbody tr th {\n",
       "        vertical-align: top;\n",
       "    }\n",
       "\n",
       "    .dataframe thead th {\n",
       "        text-align: right;\n",
       "    }\n",
       "</style>\n",
       "<table border=\"1\" class=\"dataframe\">\n",
       "  <thead>\n",
       "    <tr style=\"text-align: right;\">\n",
       "      <th></th>\n",
       "      <th>pop</th>\n",
       "      <th>expected_A</th>\n",
       "      <th>expected_B</th>\n",
       "      <th>rate_A</th>\n",
       "      <th>rate_B</th>\n",
       "      <th>expected_A_per_M</th>\n",
       "      <th>expected_B_per_M</th>\n",
       "    </tr>\n",
       "  </thead>\n",
       "  <tbody>\n",
       "    <tr>\n",
       "      <th>child</th>\n",
       "      <td>500000.0</td>\n",
       "      <td>500.0</td>\n",
       "      <td>500.0</td>\n",
       "      <td>0.0010</td>\n",
       "      <td>0.0010</td>\n",
       "      <td>500.0</td>\n",
       "      <td>500.0</td>\n",
       "    </tr>\n",
       "    <tr>\n",
       "      <th>adult</th>\n",
       "      <td>500000.0</td>\n",
       "      <td>5000.0</td>\n",
       "      <td>5000.0</td>\n",
       "      <td>0.0100</td>\n",
       "      <td>0.0100</td>\n",
       "      <td>5000.0</td>\n",
       "      <td>5000.0</td>\n",
       "    </tr>\n",
       "    <tr>\n",
       "      <th>All</th>\n",
       "      <td>1000000.0</td>\n",
       "      <td>5500.0</td>\n",
       "      <td>5500.0</td>\n",
       "      <td>0.0055</td>\n",
       "      <td>0.0055</td>\n",
       "      <td>5500.0</td>\n",
       "      <td>5500.0</td>\n",
       "    </tr>\n",
       "  </tbody>\n",
       "</table>\n",
       "</div>"
      ],
      "text/plain": [
       "             pop  expected_A  expected_B  rate_A  rate_B  expected_A_per_M  \\\n",
       "child   500000.0       500.0       500.0  0.0010  0.0010             500.0   \n",
       "adult   500000.0      5000.0      5000.0  0.0100  0.0100            5000.0   \n",
       "All    1000000.0      5500.0      5500.0  0.0055  0.0055            5500.0   \n",
       "\n",
       "       expected_B_per_M  \n",
       "child             500.0  \n",
       "adult            5000.0  \n",
       "All              5500.0  "
      ]
     },
     "execution_count": 137,
     "metadata": {},
     "output_type": "execute_result"
    }
   ],
   "source": [
    "standard_pop['expected_A'] = df2[('A','ratio')] * standard_pop['pop']\n",
    "standard_pop['expected_B'] = df2[('B','ratio')] * standard_pop['pop']\n",
    "standard_pop.loc['All',:] = standard_pop.sum()\n",
    "standard_pop['rate_A'] = standard_pop['expected_A'] / standard_pop['pop']\n",
    "standard_pop['rate_B'] = standard_pop['expected_B'] / standard_pop['pop']\n",
    "standard_pop['expected_A_per_M'] = standard_pop['expected_A'] / (standard_pop.loc['All','pop'] / 1e6)\n",
    "standard_pop['expected_B_per_M'] = standard_pop['expected_B'] / (standard_pop.loc['All','pop'] / 1e6)\n",
    "\n",
    "\n",
    "standard_pop"
   ]
  },
  {
   "cell_type": "code",
   "execution_count": 138,
   "metadata": {},
   "outputs": [
    {
     "data": {
      "text/plain": [
       "<matplotlib.axes._subplots.AxesSubplot at 0x6fffba637320>"
      ]
     },
     "execution_count": 138,
     "metadata": {},
     "output_type": "execute_result"
    },
    {
     "data": {
      "image/png": "[encoded data removed]",
      "text/plain": [
       "<Figure size 432x288 with 1 Axes>"
      ]
     },
     "metadata": {},
     "output_type": "display_data"
    }
   ],
   "source": [
    "standard_pop.loc['All',['expected_A','expected_B']].plot(kind='bar',title='standarized deaths per million')"
   ]
  },
  {
   "cell_type": "code",
   "execution_count": 139,
   "metadata": {},
   "outputs": [
    {
     "data": {
      "text/html": [
       "<div>\n",
       "<style scoped>\n",
       "    .dataframe tbody tr th:only-of-type {\n",
       "        vertical-align: middle;\n",
       "    }\n",
       "\n",
       "    .dataframe tbody tr th {\n",
       "        vertical-align: top;\n",
       "    }\n",
       "\n",
       "    .dataframe thead th {\n",
       "        text-align: right;\n",
       "    }\n",
       "</style>\n",
       "<table border=\"1\" class=\"dataframe\">\n",
       "  <thead>\n",
       "    <tr style=\"text-align: right;\">\n",
       "      <th></th>\n",
       "      <th>age_grp</th>\n",
       "      <th>country</th>\n",
       "      <th>pop</th>\n",
       "      <th>dead</th>\n",
       "    </tr>\n",
       "  </thead>\n",
       "  <tbody>\n",
       "    <tr>\n",
       "      <th>0</th>\n",
       "      <td>inf</td>\n",
       "      <td>A</td>\n",
       "      <td>1000000</td>\n",
       "      <td>1000</td>\n",
       "    </tr>\n",
       "    <tr>\n",
       "      <th>1</th>\n",
       "      <td>inf</td>\n",
       "      <td>B</td>\n",
       "      <td>1000000</td>\n",
       "      <td>1000</td>\n",
       "    </tr>\n",
       "    <tr>\n",
       "      <th>2</th>\n",
       "      <td>child</td>\n",
       "      <td>A</td>\n",
       "      <td>6000000</td>\n",
       "      <td>7000</td>\n",
       "    </tr>\n",
       "    <tr>\n",
       "      <th>3</th>\n",
       "      <td>child</td>\n",
       "      <td>B</td>\n",
       "      <td>1500000</td>\n",
       "      <td>6300</td>\n",
       "    </tr>\n",
       "    <tr>\n",
       "      <th>4</th>\n",
       "      <td>adult</td>\n",
       "      <td>A</td>\n",
       "      <td>5500000</td>\n",
       "      <td>20000</td>\n",
       "    </tr>\n",
       "    <tr>\n",
       "      <th>5</th>\n",
       "      <td>adult</td>\n",
       "      <td>B</td>\n",
       "      <td>550000</td>\n",
       "      <td>3000</td>\n",
       "    </tr>\n",
       "    <tr>\n",
       "      <th>6</th>\n",
       "      <td>old</td>\n",
       "      <td>A</td>\n",
       "      <td>2500000</td>\n",
       "      <td>120000</td>\n",
       "    </tr>\n",
       "    <tr>\n",
       "      <th>7</th>\n",
       "      <td>old</td>\n",
       "      <td>B</td>\n",
       "      <td>120000</td>\n",
       "      <td>6000</td>\n",
       "    </tr>\n",
       "  </tbody>\n",
       "</table>\n",
       "</div>"
      ],
      "text/plain": [
       "  age_grp country      pop    dead\n",
       "0     inf       A  1000000    1000\n",
       "1     inf       B  1000000    1000\n",
       "2   child       A  6000000    7000\n",
       "3   child       B  1500000    6300\n",
       "4   adult       A  5500000   20000\n",
       "5   adult       B   550000    3000\n",
       "6     old       A  2500000  120000\n",
       "7     old       B   120000    6000"
      ]
     },
     "execution_count": 139,
     "metadata": {},
     "output_type": "execute_result"
    }
   ],
   "source": [
    "##### example on Simpson's Paradox from link below: \n",
    "\n",
    "# https://www.healthknowledge.org.uk/e-learning/epidemiology/specialists/standardisation\n",
    "# fake data from the above link'\n",
    "\n",
    "\n",
    "df = pd.DataFrame({'age_grp': ['inf','inf','child','child','adult','adult','old','old'],\n",
    "                  'country' : ['A','B','A','B','A','B','A','B'],\n",
    "                  'pop' : [1000000,1000000,6000000,1500000,5500000,550000,2500000,120000],\n",
    "                  'dead' : [1000,1000,7000,6300,20000,3000,120000,6000]})\n",
    "\n",
    "\n",
    "df['age_grp'] = pd.Categorical(df['age_grp'],['inf','child','adult','old'])\n",
    "\n",
    "df"
   ]
  },
  {
   "cell_type": "code",
   "execution_count": 140,
   "metadata": {},
   "outputs": [
    {
     "data": {
      "text/html": [
       "<div>\n",
       "<style scoped>\n",
       "    .dataframe tbody tr th:only-of-type {\n",
       "        vertical-align: middle;\n",
       "    }\n",
       "\n",
       "    .dataframe tbody tr th {\n",
       "        vertical-align: top;\n",
       "    }\n",
       "\n",
       "    .dataframe thead tr th {\n",
       "        text-align: left;\n",
       "    }\n",
       "\n",
       "    .dataframe thead tr:last-of-type th {\n",
       "        text-align: right;\n",
       "    }\n",
       "</style>\n",
       "<table border=\"1\" class=\"dataframe\">\n",
       "  <thead>\n",
       "    <tr>\n",
       "      <th></th>\n",
       "      <th colspan=\"3\" halign=\"left\">dead</th>\n",
       "      <th colspan=\"3\" halign=\"left\">pop</th>\n",
       "    </tr>\n",
       "    <tr>\n",
       "      <th>country</th>\n",
       "      <th>A</th>\n",
       "      <th>B</th>\n",
       "      <th>All</th>\n",
       "      <th>A</th>\n",
       "      <th>B</th>\n",
       "      <th>All</th>\n",
       "    </tr>\n",
       "    <tr>\n",
       "      <th>age_grp</th>\n",
       "      <th></th>\n",
       "      <th></th>\n",
       "      <th></th>\n",
       "      <th></th>\n",
       "      <th></th>\n",
       "      <th></th>\n",
       "    </tr>\n",
       "  </thead>\n",
       "  <tbody>\n",
       "    <tr>\n",
       "      <th>inf</th>\n",
       "      <td>1000</td>\n",
       "      <td>1000</td>\n",
       "      <td>2000</td>\n",
       "      <td>1000000</td>\n",
       "      <td>1000000</td>\n",
       "      <td>2000000</td>\n",
       "    </tr>\n",
       "    <tr>\n",
       "      <th>child</th>\n",
       "      <td>7000</td>\n",
       "      <td>6300</td>\n",
       "      <td>13300</td>\n",
       "      <td>6000000</td>\n",
       "      <td>1500000</td>\n",
       "      <td>7500000</td>\n",
       "    </tr>\n",
       "    <tr>\n",
       "      <th>adult</th>\n",
       "      <td>20000</td>\n",
       "      <td>3000</td>\n",
       "      <td>23000</td>\n",
       "      <td>5500000</td>\n",
       "      <td>550000</td>\n",
       "      <td>6050000</td>\n",
       "    </tr>\n",
       "    <tr>\n",
       "      <th>old</th>\n",
       "      <td>120000</td>\n",
       "      <td>6000</td>\n",
       "      <td>126000</td>\n",
       "      <td>2500000</td>\n",
       "      <td>120000</td>\n",
       "      <td>2620000</td>\n",
       "    </tr>\n",
       "    <tr>\n",
       "      <th>All</th>\n",
       "      <td>148000</td>\n",
       "      <td>16300</td>\n",
       "      <td>164300</td>\n",
       "      <td>15000000</td>\n",
       "      <td>3170000</td>\n",
       "      <td>18170000</td>\n",
       "    </tr>\n",
       "  </tbody>\n",
       "</table>\n",
       "</div>"
      ],
      "text/plain": [
       "           dead                      pop                   \n",
       "country       A      B     All         A        B       All\n",
       "age_grp                                                    \n",
       "inf        1000   1000    2000   1000000  1000000   2000000\n",
       "child      7000   6300   13300   6000000  1500000   7500000\n",
       "adult     20000   3000   23000   5500000   550000   6050000\n",
       "old      120000   6000  126000   2500000   120000   2620000\n",
       "All      148000  16300  164300  15000000  3170000  18170000"
      ]
     },
     "execution_count": 140,
     "metadata": {},
     "output_type": "execute_result"
    }
   ],
   "source": [
    "pivot = pd.pivot_table(df,index='age_grp',columns='country',values=['pop','dead'],aggfunc=sum,margins=True)\n",
    "pivot"
   ]
  },
  {
   "cell_type": "code",
   "execution_count": 141,
   "metadata": {},
   "outputs": [
    {
     "data": {
      "text/html": [
       "<div>\n",
       "<style scoped>\n",
       "    .dataframe tbody tr th:only-of-type {\n",
       "        vertical-align: middle;\n",
       "    }\n",
       "\n",
       "    .dataframe tbody tr th {\n",
       "        vertical-align: top;\n",
       "    }\n",
       "\n",
       "    .dataframe thead tr th {\n",
       "        text-align: left;\n",
       "    }\n",
       "\n",
       "    .dataframe thead tr:last-of-type th {\n",
       "        text-align: right;\n",
       "    }\n",
       "</style>\n",
       "<table border=\"1\" class=\"dataframe\">\n",
       "  <thead>\n",
       "    <tr>\n",
       "      <th></th>\n",
       "      <th colspan=\"3\" halign=\"left\">dead</th>\n",
       "      <th colspan=\"3\" halign=\"left\">pop</th>\n",
       "      <th>age_ratio_A</th>\n",
       "      <th>age_ratio_B</th>\n",
       "      <th>dead_ratio_A</th>\n",
       "      <th>dead_ratio_B</th>\n",
       "      <th>delta_dead_ratio</th>\n",
       "      <th>factor</th>\n",
       "    </tr>\n",
       "    <tr>\n",
       "      <th>country</th>\n",
       "      <th>A</th>\n",
       "      <th>B</th>\n",
       "      <th>All</th>\n",
       "      <th>A</th>\n",
       "      <th>B</th>\n",
       "      <th>All</th>\n",
       "      <th></th>\n",
       "      <th></th>\n",
       "      <th></th>\n",
       "      <th></th>\n",
       "      <th></th>\n",
       "      <th></th>\n",
       "    </tr>\n",
       "    <tr>\n",
       "      <th>age_grp</th>\n",
       "      <th></th>\n",
       "      <th></th>\n",
       "      <th></th>\n",
       "      <th></th>\n",
       "      <th></th>\n",
       "      <th></th>\n",
       "      <th></th>\n",
       "      <th></th>\n",
       "      <th></th>\n",
       "      <th></th>\n",
       "      <th></th>\n",
       "      <th></th>\n",
       "    </tr>\n",
       "  </thead>\n",
       "  <tbody>\n",
       "    <tr>\n",
       "      <th>inf</th>\n",
       "      <td>1000</td>\n",
       "      <td>1000</td>\n",
       "      <td>2000</td>\n",
       "      <td>1000000</td>\n",
       "      <td>1000000</td>\n",
       "      <td>2000000</td>\n",
       "      <td>0.066667</td>\n",
       "      <td>0.315457</td>\n",
       "      <td>0.001000</td>\n",
       "      <td>0.001000</td>\n",
       "      <td>0.000000</td>\n",
       "      <td>1.000000</td>\n",
       "    </tr>\n",
       "    <tr>\n",
       "      <th>child</th>\n",
       "      <td>7000</td>\n",
       "      <td>6300</td>\n",
       "      <td>13300</td>\n",
       "      <td>6000000</td>\n",
       "      <td>1500000</td>\n",
       "      <td>7500000</td>\n",
       "      <td>0.400000</td>\n",
       "      <td>0.473186</td>\n",
       "      <td>0.001167</td>\n",
       "      <td>0.004200</td>\n",
       "      <td>0.003033</td>\n",
       "      <td>3.600000</td>\n",
       "    </tr>\n",
       "    <tr>\n",
       "      <th>adult</th>\n",
       "      <td>20000</td>\n",
       "      <td>3000</td>\n",
       "      <td>23000</td>\n",
       "      <td>5500000</td>\n",
       "      <td>550000</td>\n",
       "      <td>6050000</td>\n",
       "      <td>0.366667</td>\n",
       "      <td>0.173502</td>\n",
       "      <td>0.003636</td>\n",
       "      <td>0.005455</td>\n",
       "      <td>0.001818</td>\n",
       "      <td>1.500000</td>\n",
       "    </tr>\n",
       "    <tr>\n",
       "      <th>old</th>\n",
       "      <td>120000</td>\n",
       "      <td>6000</td>\n",
       "      <td>126000</td>\n",
       "      <td>2500000</td>\n",
       "      <td>120000</td>\n",
       "      <td>2620000</td>\n",
       "      <td>0.166667</td>\n",
       "      <td>0.037855</td>\n",
       "      <td>0.048000</td>\n",
       "      <td>0.050000</td>\n",
       "      <td>0.002000</td>\n",
       "      <td>1.041667</td>\n",
       "    </tr>\n",
       "    <tr>\n",
       "      <th>All</th>\n",
       "      <td>148000</td>\n",
       "      <td>16300</td>\n",
       "      <td>164300</td>\n",
       "      <td>15000000</td>\n",
       "      <td>3170000</td>\n",
       "      <td>18170000</td>\n",
       "      <td>1.000000</td>\n",
       "      <td>1.000000</td>\n",
       "      <td>0.009867</td>\n",
       "      <td>0.005142</td>\n",
       "      <td>-0.004725</td>\n",
       "      <td>0.521144</td>\n",
       "    </tr>\n",
       "  </tbody>\n",
       "</table>\n",
       "</div>"
      ],
      "text/plain": [
       "           dead                      pop                    age_ratio_A  \\\n",
       "country       A      B     All         A        B       All               \n",
       "age_grp                                                                   \n",
       "inf        1000   1000    2000   1000000  1000000   2000000    0.066667   \n",
       "child      7000   6300   13300   6000000  1500000   7500000    0.400000   \n",
       "adult     20000   3000   23000   5500000   550000   6050000    0.366667   \n",
       "old      120000   6000  126000   2500000   120000   2620000    0.166667   \n",
       "All      148000  16300  164300  15000000  3170000  18170000    1.000000   \n",
       "\n",
       "        age_ratio_B dead_ratio_A dead_ratio_B delta_dead_ratio    factor  \n",
       "country                                                                   \n",
       "age_grp                                                                   \n",
       "inf        0.315457     0.001000     0.001000         0.000000  1.000000  \n",
       "child      0.473186     0.001167     0.004200         0.003033  3.600000  \n",
       "adult      0.173502     0.003636     0.005455         0.001818  1.500000  \n",
       "old        0.037855     0.048000     0.050000         0.002000  1.041667  \n",
       "All        1.000000     0.009867     0.005142        -0.004725  0.521144  "
      ]
     },
     "execution_count": 141,
     "metadata": {},
     "output_type": "execute_result"
    }
   ],
   "source": [
    "pivot['age_ratio_A'] = pivot[('pop','A')] / pivot.loc['All',('pop','A')]\n",
    "pivot['age_ratio_B'] = pivot[('pop','B')] / pivot.loc['All',('pop','B')]\n",
    "\n",
    "pivot['dead_ratio_A'] = pivot[('dead','A')] / pivot[('pop','A')]\n",
    "pivot['dead_ratio_B'] = pivot[('dead','B')] / pivot[('pop','B')]\n",
    "\n",
    "pivot['delta_dead_ratio'] = pivot['dead_ratio_B'] - pivot['dead_ratio_A']\n",
    "pivot['factor'] = pivot['dead_ratio_B'] / pivot['dead_ratio_A']\n",
    "\n",
    "pivot"
   ]
  },
  {
   "cell_type": "code",
   "execution_count": 142,
   "metadata": {},
   "outputs": [
    {
     "data": {
      "text/plain": [
       "<matplotlib.axes._subplots.AxesSubplot at 0x6fffc4ccfda0>"
      ]
     },
     "execution_count": 142,
     "metadata": {},
     "output_type": "execute_result"
    },
    {
     "data": {
      "image/png": "[encoded data removed]",
      "text/plain": [
       "<Figure size 432x288 with 1 Axes>"
      ]
     },
     "metadata": {},
     "output_type": "display_data"
    }
   ],
   "source": [
    "# for the fake data, the observation here is that Simpson's Paradox strikes again - overall country A has higher death ratio,\n",
    "# despite the fact that it has lower death ratios in each age group. \n",
    "\n",
    "pivot.loc['All','dead_ratio_A' : 'dead_ratio_B'].plot(kind='bar',color=['b','orange'],title='Death Ratio per country')"
   ]
  },
  {
   "cell_type": "code",
   "execution_count": 143,
   "metadata": {},
   "outputs": [
    {
     "data": {
      "text/plain": [
       "Text(0, 0.5, 'percentage')"
      ]
     },
     "execution_count": 143,
     "metadata": {},
     "output_type": "execute_result"
    },
    {
     "data": {
      "image/png": "[encoded data removed]",
      "text/plain": [
       "<Figure size 432x288 with 1 Axes>"
      ]
     },
     "metadata": {},
     "output_type": "display_data"
    }
   ],
   "source": [
    "pivot.loc[:'old','age_ratio_A':'age_ratio_B'].plot(kind='bar',\n",
    "                                                   color=['b','orange'],title='age proportions per country')\n",
    "plt.legend(['A age ratio','B age ratio'])\n",
    "plt.ylabel('percentage')"
   ]
  },
  {
   "cell_type": "code",
   "execution_count": 144,
   "metadata": {},
   "outputs": [
    {
     "data": {
      "text/plain": [
       "Text(0, 0.5, 'percentage')"
      ]
     },
     "execution_count": 144,
     "metadata": {},
     "output_type": "execute_result"
    },
    {
     "data": {
      "image/png": "[encoded data removed]",
      "text/plain": [
       "<Figure size 432x288 with 1 Axes>"
      ]
     },
     "metadata": {},
     "output_type": "display_data"
    }
   ],
   "source": [
    "pivot.loc[:'old','dead_ratio_A': 'dead_ratio_B'].plot(kind='bar',\n",
    "                                                     color=['b','orange'],title='death proportions by age and country')\n",
    "plt.legend(['A dead ratio','B dead ratio'])\n",
    "plt.ylabel('percentage')"
   ]
  },
  {
   "cell_type": "code",
   "execution_count": 145,
   "metadata": {},
   "outputs": [
    {
     "data": {
      "text/plain": [
       "<matplotlib.axes._subplots.AxesSubplot at 0x6fffb9540240>"
      ]
     },
     "execution_count": 145,
     "metadata": {},
     "output_type": "execute_result"
    },
    {
     "data": {
      "image/png": "[encoded data removed]",
      "text/plain": [
       "<Figure size 432x288 with 1 Axes>"
      ]
     },
     "metadata": {},
     "output_type": "display_data"
    }
   ],
   "source": [
    "pivot['delta_dead_ratio'].plot(kind='bar',title='diff death ratio B - A')"
   ]
  },
  {
   "cell_type": "code",
   "execution_count": 146,
   "metadata": {},
   "outputs": [
    {
     "data": {
      "text/plain": [
       "<matplotlib.axes._subplots.AxesSubplot at 0x6fffbf8d5630>"
      ]
     },
     "execution_count": 146,
     "metadata": {},
     "output_type": "execute_result"
    },
    {
     "data": {
      "image/png": "[encoded data removed]",
      "text/plain": [
       "<Figure size 432x288 with 1 Axes>"
      ]
     },
     "metadata": {},
     "output_type": "display_data"
    }
   ],
   "source": [
    "pivot['factor'].plot(kind='bar')"
   ]
  }
 ],
 "metadata": {
  "kernelspec": {
   "display_name": "Python 3",
   "language": "python",
   "name": "python3"
  },
  "language_info": {
   "codemirror_mode": {
    "name": "ipython",
    "version": 3
   },
   "file_extension": ".py",
   "mimetype": "text/x-python",
   "name": "python",
   "nbconvert_exporter": "python",
   "pygments_lexer": "ipython3",
   "version": "3.6.9"
  }
 },
 "nbformat": 4,
 "nbformat_minor": 4
}
