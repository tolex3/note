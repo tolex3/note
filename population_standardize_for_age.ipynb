{
 "cells": [
  {
   "cell_type": "code",
   "execution_count": null,
   "metadata": {},
   "outputs": [],
   "source": [
    "import numpy as np\n",
    "import matplotlib.pyplot as plt\n",
    "import seaborn as sns\n",
    "import pandas as pd\n",
    "\n",
    "sns.set()"
   ]
  },
  {
   "cell_type": "code",
   "execution_count": null,
   "metadata": {},
   "outputs": [],
   "source": [
    "\n",
    "\n",
    "cols = [('A','pop'),('A','dead'),('B','pop'),('B','dead')]\n",
    "\n",
    "# example populations of two countries\n",
    "\n",
    "df2 = pd.DataFrame(data=[[100000,100,900000,900], #child: pop,dead,pop,dead : A,B\n",
    "                         [900000,9000,100000,1000]],    #adult pop,dead : A,B\n",
    "                   columns=pd.MultiIndex.from_tuples(cols),index=['child','adult'])\n",
    "\n",
    "# define a standard population, by age groups\n",
    "standard_pop = pd.DataFrame({'child' : [500000],\n",
    "                            'adult' : [500000]}).T\n",
    "\n",
    "standard_pop.columns=['pop']\n",
    "\n",
    "df2"
   ]
  },
  {
   "cell_type": "code",
   "execution_count": null,
   "metadata": {},
   "outputs": [],
   "source": [
    "df2_trans = df2.T.unstack().unstack().reset_index()\n",
    "df2_trans.columns = ['age_grp','state','country','value']\n",
    "df2_trans\n",
    "grp = df2_trans.groupby('state')\n",
    "dead = grp.get_group('dead').reset_index(drop=True)\n",
    "pop = grp.get_group('pop').reset_index(drop=True)\n",
    "\n",
    "all_data = pd.concat([pop,dead],axis=1)\n",
    "all_data = all_data.iloc[:,[2,0,3,7]]\n",
    "\n",
    "all_data.columns = ['country','age_grp','pop','dead']\n",
    "\n",
    "def create_country_idx(c):\n",
    "    if c == 'A' : return  1\n",
    "    if c == 'B' : return 2\n",
    "    \n",
    "def create_age_idx(a):\n",
    "    if a == 'child' : return 1\n",
    "    if a == 'adult' : return 2\n",
    "    \n",
    "\n",
    "all_data['country_idx'] = all_data['country'].apply(create_country_idx)\n",
    "all_data['age_idx'] = all_data['age_grp'].apply(create_age_idx)\n",
    "\n",
    "all_data"
   ]
  },
  {
   "cell_type": "code",
   "execution_count": null,
   "metadata": {},
   "outputs": [],
   "source": [
    "#PYMC\n",
    "import pymc as pm\n",
    "from pymc.Matplot import plot as pmplot\n",
    "\n",
    "\n",
    "### condition on country by assigning a unique alpha to each country\n",
    "### condition on age_grp by assigning a unique beta to each age group\n",
    "\n",
    "# model: \n",
    "# dead ~ Binomial(population,p)\n",
    "# p = logit(alpha[country_idx] + beta[age_idx])\n",
    "# alpha[country_idx] ~ Normal(0,10)\n",
    "# beta[age_idx] ~ Normal(0,10) \n",
    "\n",
    "\n",
    "country_idx = all_data['country_idx'] \n",
    "age_idx = all_data['age_idx']\n",
    "\n",
    "alpha = pm.Normal('alpha',0, 1 / 10 ** 2,size=2) # 2 countries\n",
    "\n",
    "beta = pm.Normal('beta',0,1 / 10 ** 2,size=2) # 2 age groups\n",
    "\n",
    "\n",
    "@pm.deterministic\n",
    "def logit_age(age_idx=age_idx-1,country_idx=country_idx-1,alpha=alpha,beta=beta):\n",
    "        \n",
    "    return np.exp(alpha[country_idx] + beta[age_idx]) / (\n",
    "        1 + np.exp(alpha[country_idx] + beta[age_idx]))\n",
    "\n",
    "\n",
    "lkh_age = pm.Binomial('lkh_age',n=all_data['pop'],p=logit_age,observed=True,\n",
    "                      value=all_data['dead'])\n",
    "\n",
    "model = pm.Model([alpha,beta,logit_age,lkh_age])\n",
    "\n",
    "_map = pm.MAP(model)\n",
    "_map.fit()\n",
    "\n",
    "mcmc = pm.MCMC(model)\n",
    "sample = mcmc.sample(50000,20000,3)\n",
    "\n"
   ]
  },
  {
   "cell_type": "code",
   "execution_count": null,
   "metadata": {},
   "outputs": [],
   "source": [
    "def logit_pure(x):\n",
    "    return (np.exp(x)) / (1 + np.exp(x))\n",
    "\n",
    "def logistic_pure(p):\n",
    "    return np.log(p / (1 - p))"
   ]
  },
  {
   "cell_type": "code",
   "execution_count": null,
   "metadata": {
    "scrolled": false
   },
   "outputs": [],
   "source": [
    "alpha_A = mcmc.trace('alpha')[:,0]\n",
    "alpha_B = mcmc.trace('alpha')[:,1]\n",
    "\n",
    "beta_child = mcmc.trace('beta')[:,0]\n",
    "beta_adult = mcmc.trace('beta')[:,1]\n",
    "\n",
    "pmplot(alpha_A,'alpha_A')\n",
    "pmplot(alpha_B,'alpha_B')\n",
    "\n",
    "pmplot(beta_child,'beta_child')\n",
    "pmplot(beta_adult,'beta_adult')\n",
    "\n",
    "result = pd.DataFrame({'alpha_A' : alpha_A,\n",
    "                      'alpha_B' : alpha_B,\n",
    "                      'beta_child' : beta_child,\n",
    "                      'beta_adult' : beta_adult})\n",
    "\n",
    "result.describe()"
   ]
  },
  {
   "cell_type": "code",
   "execution_count": null,
   "metadata": {},
   "outputs": [],
   "source": [
    "result_p = pd.DataFrame()\n",
    "\n",
    "result_p['A_child'] = logit_pure(result['alpha_A'] + result['beta_child']) \n",
    "result_p['A_adult'] = logit_pure(result['alpha_A'] + result['beta_adult']) \n",
    "result_p['B_child'] = logit_pure(result['alpha_B'] + result['beta_child']) \n",
    "result_p['B_adult'] = logit_pure(result['alpha_B'] + result['beta_adult']) \n",
    "\n",
    "result_p.describe()"
   ]
  },
  {
   "cell_type": "code",
   "execution_count": null,
   "metadata": {},
   "outputs": [],
   "source": []
  },
  {
   "cell_type": "code",
   "execution_count": null,
   "metadata": {
    "scrolled": false
   },
   "outputs": [],
   "source": [
    "pymc_means = result_p.describe().loc['mean',:]\n",
    "\n",
    "pymc_deaths_per_M_A_child = pymc_means.loc['A_child'] * standard_pop.loc['child'] \n",
    "pymc_deaths_per_M_A_adult = pymc_means.loc['A_adult'] * standard_pop.loc['adult'] \n",
    "\n",
    "pymc_deaths_per_M_B_child = pymc_means.loc['B_child'] * standard_pop.loc['child'] \n",
    "pymc_deaths_per_M_B_adult = pymc_means.loc['B_adult'] * standard_pop.loc['adult'] \n",
    "\n",
    "print (pymc_deaths_per_M_A_child)\n",
    "print (pymc_deaths_per_M_A_adult)\n",
    "print (pymc_deaths_per_M_B_child)\n",
    "print (pymc_deaths_per_M_B_adult)\n",
    "\n"
   ]
  },
  {
   "cell_type": "code",
   "execution_count": null,
   "metadata": {},
   "outputs": [],
   "source": [
    "(pymc_means.loc['A_adult'] * df2.loc['adult',('A','pop')]) / (df2.loc['adult',('A','pop')] / 1e6)"
   ]
  },
  {
   "cell_type": "code",
   "execution_count": null,
   "metadata": {},
   "outputs": [],
   "source": [
    "df2.loc['All',:] = df2.sum() \n"
   ]
  },
  {
   "cell_type": "code",
   "execution_count": null,
   "metadata": {
    "scrolled": true
   },
   "outputs": [],
   "source": [
    "df2[('A','ratio')] = df2[('A','dead')] / df2[('A','pop')]\n",
    "df2[('B','ratio')] = df2[('B','dead')] / df2[('B','pop')]\n",
    "df2"
   ]
  },
  {
   "cell_type": "code",
   "execution_count": null,
   "metadata": {},
   "outputs": [],
   "source": [
    "df2 = df2.reindex(columns=[('A','pop'),('A','dead'),('A','ratio'),('B','pop'),('B','dead'),('B','ratio')])"
   ]
  },
  {
   "cell_type": "code",
   "execution_count": null,
   "metadata": {},
   "outputs": [],
   "source": [
    "df2[('A','dead_per_M')] = df2[('A','dead')] / (df2[('A','pop')] / 1e6)\n",
    "df2[('B','dead_per_M')] = df2[('B','dead')] / (df2[('B','pop')] / 1e6)\n",
    "\n",
    "df2 = df2.reindex(columns=[('A','pop'),('A','dead'),('A','ratio'),('A','dead_per_M'),\n",
    "                           ('B','pop'),('B','dead'),('B','ratio'),('B','dead_per_M')])\n",
    "\n",
    "df2"
   ]
  },
  {
   "cell_type": "code",
   "execution_count": null,
   "metadata": {},
   "outputs": [],
   "source": [
    "standard_pop"
   ]
  },
  {
   "cell_type": "code",
   "execution_count": null,
   "metadata": {},
   "outputs": [],
   "source": [
    "standard_pop['expected_A'] = df2[('A','ratio')] * standard_pop['pop']\n",
    "standard_pop['expected_B'] = df2[('B','ratio')] * standard_pop['pop']\n",
    "standard_pop.loc['All',:] = standard_pop.sum()\n",
    "standard_pop['rate_A'] = standard_pop['expected_A'] / standard_pop['pop']\n",
    "standard_pop['rate_B'] = standard_pop['expected_B'] / standard_pop['pop']\n",
    "standard_pop['expected_A_per_M'] = standard_pop['expected_A'] / (standard_pop.loc['All','pop'] / 1e6)\n",
    "standard_pop['expected_B_per_M'] = standard_pop['expected_B'] / (standard_pop.loc['All','pop'] / 1e6)\n",
    "\n",
    "\n",
    "standard_pop"
   ]
  },
  {
   "cell_type": "code",
   "execution_count": null,
   "metadata": {},
   "outputs": [],
   "source": [
    "standard_pop.loc['All',['expected_A','expected_B']].plot(kind='bar',title='standarized deaths per million')"
   ]
  },
  {
   "cell_type": "code",
   "execution_count": null,
   "metadata": {},
   "outputs": [],
   "source": [
    "##### example on Simpson's Paradox from link below: \n",
    "\n",
    "# https://www.healthknowledge.org.uk/e-learning/epidemiology/specialists/standardisation\n",
    "# fake data from the above link'\n",
    "\n",
    "\n",
    "df = pd.DataFrame({'age_grp': ['inf','inf','child','child','adult','adult','old','old'],\n",
    "                  'country' : ['A','B','A','B','A','B','A','B'],\n",
    "                  'pop' : [1000000,1000000,6000000,1500000,5500000,550000,2500000,120000],\n",
    "                  'dead' : [1000,1000,7000,6300,20000,3000,120000,6000]})\n",
    "\n",
    "\n",
    "df['age_grp'] = pd.Categorical(df['age_grp'],['inf','child','adult','old'])\n",
    "\n",
    "df"
   ]
  },
  {
   "cell_type": "code",
   "execution_count": null,
   "metadata": {},
   "outputs": [],
   "source": [
    "pivot = pd.pivot_table(df,index='age_grp',columns='country',values=['pop','dead'],aggfunc=sum,margins=True)\n",
    "pivot"
   ]
  },
  {
   "cell_type": "code",
   "execution_count": null,
   "metadata": {},
   "outputs": [],
   "source": [
    "pivot['age_ratio_A'] = pivot[('pop','A')] / pivot.loc['All',('pop','A')]\n",
    "pivot['age_ratio_B'] = pivot[('pop','B')] / pivot.loc['All',('pop','B')]\n",
    "\n",
    "pivot['dead_ratio_A'] = pivot[('dead','A')] / pivot[('pop','A')]\n",
    "pivot['dead_ratio_B'] = pivot[('dead','B')] / pivot[('pop','B')]\n",
    "\n",
    "pivot['delta_dead_ratio'] = pivot['dead_ratio_B'] - pivot['dead_ratio_A']\n",
    "pivot['factor'] = pivot['dead_ratio_B'] / pivot['dead_ratio_A']\n",
    "\n",
    "pivot"
   ]
  },
  {
   "cell_type": "code",
   "execution_count": null,
   "metadata": {},
   "outputs": [],
   "source": [
    "# for the fake data, the observation here is that Simpson's Paradox strikes again - overall country A has higher death ratio,\n",
    "# despite the fact that it has lower death ratios in each age group. \n",
    "\n",
    "pivot.loc['All','dead_ratio_A' : 'dead_ratio_B'].plot(kind='bar',color=['b','orange'],title='Death Ratio per country')"
   ]
  },
  {
   "cell_type": "code",
   "execution_count": null,
   "metadata": {},
   "outputs": [],
   "source": [
    "pivot.loc[:'old','age_ratio_A':'age_ratio_B'].plot(kind='bar',\n",
    "                                                   color=['b','orange'],title='age proportions per country')\n",
    "plt.legend(['A age ratio','B age ratio'])\n",
    "plt.ylabel('percentage')"
   ]
  },
  {
   "cell_type": "code",
   "execution_count": null,
   "metadata": {},
   "outputs": [],
   "source": [
    "pivot.loc[:'old','dead_ratio_A': 'dead_ratio_B'].plot(kind='bar',\n",
    "                                                     color=['b','orange'],title='death proportions by age and country')\n",
    "plt.legend(['A dead ratio','B dead ratio'])\n",
    "plt.ylabel('percentage')"
   ]
  },
  {
   "cell_type": "code",
   "execution_count": null,
   "metadata": {},
   "outputs": [],
   "source": [
    "pivot['delta_dead_ratio'].plot(kind='bar',title='diff death ratio B - A')"
   ]
  },
  {
   "cell_type": "code",
   "execution_count": null,
   "metadata": {},
   "outputs": [],
   "source": [
    "pivot['factor'].plot(kind='bar')"
   ]
  }
 ],
 "metadata": {
  "kernelspec": {
   "display_name": "Python 3",
   "language": "python",
   "name": "python3"
  },
  "language_info": {
   "codemirror_mode": {
    "name": "ipython",
    "version": 3
   },
   "file_extension": ".py",
   "mimetype": "text/x-python",
   "name": "python",
   "nbconvert_exporter": "python",
   "pygments_lexer": "ipython3",
   "version": "3.6.9"
  }
 },
 "nbformat": 4,
 "nbformat_minor": 4
}
