{
 "cells": [
  {
   "cell_type": "code",
   "execution_count": null,
   "metadata": {},
   "outputs": [],
   "source": [
    "import pandas as pd\n",
    "import numpy as np\n",
    "import scipy.stats as sps\n",
    "import matplotlib.pyplot as plt\n",
    "import seaborn as sns\n",
    "import pymc as pm\n",
    "\n",
    "%matplotlib inline\n",
    "sns.set()\n",
    "# its possible to look at Confirmed,Recovered or Deaths simply by changing the filename below\n",
    "# assign either of ['Confirmed','Deaths','Recovered'] to param below:\n",
    "\n",
    "param = 'Deaths'\n",
    "\n",
    "df_confirmed = pd.read_csv(\n",
    "    '../../corona/COVID-19/csse_covid_19_data/csse_covid_19_time_series/time_series_19-covid-' + param + '.csv',\n",
    "                sep=',',encoding='ISO8859-1')\n",
    "df_confirmed.head()"
   ]
  },
  {
   "cell_type": "code",
   "execution_count": null,
   "metadata": {},
   "outputs": [],
   "source": [
    "country_list = sorted(df_confirmed['Country/Region'].unique())\n",
    "#country_list\n"
   ]
  },
  {
   "cell_type": "code",
   "execution_count": null,
   "metadata": {
    "scrolled": true
   },
   "outputs": [],
   "source": [
    "countries = df_confirmed.groupby('Country/Region')\n",
    "country_increase = pd.DataFrame(countries.sum().iloc[:,-1] - countries.sum().iloc[:,-2],columns=['increase'])\n",
    "country_increase['today'] = countries.sum().iloc[:,-1]\n",
    "country_increase['previous_day'] = countries.sum().iloc[:,-2]\n",
    "country_increase['factor'] = countries.sum().iloc[:,-1] / countries.sum().iloc[:,-2]\n",
    "country_increase['factor'] = country_increase['factor'].replace(np.inf,np.nan)\n",
    "country_increase.sort_values(by='increase',ascending=False,inplace=True)\n",
    "country_increase = country_increase[['previous_day','today','increase','factor']]\n",
    "country_increase.head(40)\n",
    "                                                                    "
   ]
  },
  {
   "cell_type": "code",
   "execution_count": null,
   "metadata": {},
   "outputs": [],
   "source": [
    "country_increase[['previous_day','today','increase']].sum()"
   ]
  },
  {
   "cell_type": "code",
   "execution_count": null,
   "metadata": {},
   "outputs": [],
   "source": [
    "country_increase.describe()"
   ]
  },
  {
   "cell_type": "code",
   "execution_count": null,
   "metadata": {
    "scrolled": true
   },
   "outputs": [],
   "source": [
    "# pandas plot generates a warning about depreciated feature. Nothing to do bout it, it's pandas internal\n",
    "plt.figure(figsize=(18,12))\n",
    "plt.subplot(211)\n",
    "plt.title('Corona  - Top-10 increase from previous day [{}]'.format(param))\n",
    "plt.ylabel('Number of additional ' + param)\n",
    "country_increase['increase'][:10].plot(kind='bar')\n",
    "plt.xticks(rotation=0)\n",
    "plt.subplot(212)\n",
    "plt.title('Corona - Top-10 increase of Growth Factor from previous day [{}]'.format(param))\n",
    "plt.ylabel('Growth Factor')\n",
    "country_increase['factor'][:10].plot(kind='bar')\n",
    "plt.savefig('top_10_daily_growth.jpg',format='jpg')"
   ]
  },
  {
   "cell_type": "code",
   "execution_count": null,
   "metadata": {},
   "outputs": [],
   "source": [
    "my_countries = ['Italy','Spain','US','Sweden','Finland','Norway','Denmark']\n",
    "\n",
    "mask = country_increase['increase'] == 0\n",
    "#zero_growth = country_increase[mask]\n",
    "#ero_growth\n",
    "country_increase.loc[my_countries].sort_values('increase')"
   ]
  },
  {
   "cell_type": "code",
   "execution_count": null,
   "metadata": {},
   "outputs": [],
   "source": [
    "#### SELECT COUNTRY OF INTEREST\n",
    "#### for other countries, replace the country name in the line below ###\n",
    "####\n",
    "\n",
    "country_of_interest = 'Italy'\n",
    "\n",
    "####\n",
    "####\n",
    "\n",
    "us = countries.get_group(country_of_interest)\n",
    "us.head()"
   ]
  },
  {
   "cell_type": "code",
   "execution_count": null,
   "metadata": {},
   "outputs": [],
   "source": [
    "us_count = us.iloc[:,4:].sum()\n",
    "us_count.index = pd.to_datetime(us_count.index)\n",
    "us_count = pd.DataFrame(us_count,columns=['confirmed'])\n",
    "us_count['factor'] = us_count['confirmed'] / us_count['confirmed'].shift()\n",
    "us_count['factor'].replace(np.inf,np.nan)\n",
    "us_count = us_count.loc[us_count['confirmed'] > 0]\n",
    "us_count['factor'] = us_count['factor'].replace(np.inf,np.nan)\n",
    "\n",
    "# FILTER FOR GROWTH HAVING STARTED\n",
    "if param == 'Confirmed':\n",
    "    limit = 100\n",
    "elif param == 'Deaths':\n",
    "    limit = 1\n",
    "else:\n",
    "    limit = 1\n",
    "    \n",
    "us_count = us_count.loc[us_count['confirmed'] >= limit]\n",
    "us_count['day'] = np.arange(1,len(us_count) + 1)\n",
    "\n",
    "us_count.tail(60)"
   ]
  },
  {
   "cell_type": "code",
   "execution_count": null,
   "metadata": {},
   "outputs": [],
   "source": [
    "us_count.describe()\n"
   ]
  },
  {
   "cell_type": "code",
   "execution_count": null,
   "metadata": {},
   "outputs": [],
   "source": [
    "plt.figure(figsize=(18,12))\n",
    "plt.title('Number of {} for '.format(param) + country_of_interest + ' [log scale]')\n",
    "plt.plot(np.log10(us_count['confirmed']),'x--',color='r')\n",
    "plt.ylabel(r'# {} $10^x$'.format(param))\n",
    "plt.xticks(rotation=90)\n",
    "plt.savefig('nr_{}_log_'.format(param) + country_of_interest + '.jpg',format='jpg')"
   ]
  },
  {
   "cell_type": "code",
   "execution_count": null,
   "metadata": {},
   "outputs": [],
   "source": [
    "factor_mean = us_count['factor'].mean()\n",
    "factor_std = us_count['factor'].std()\n",
    "day_mean = us_count['day'].mean()\n",
    "day_std = us_count['day'].std()\n",
    "\n",
    "def standardize(x):\n",
    "    return (x - x.mean()) / x.std()\n",
    "\n",
    "us_count['day'] = standardize(us_count['day'])\n",
    "us_count['factor'] = standardize(us_count['factor'])\n",
    "us_count.tail()"
   ]
  },
  {
   "cell_type": "code",
   "execution_count": null,
   "metadata": {},
   "outputs": [],
   "source": [
    "factor_1 = 0 - (factor_mean - 1) / factor_std\n",
    "\n",
    "plt.figure(figsize=(18,12))\n",
    "plt.axhline(factor_1,ls='dashed',label='factor==1',color='orange')\n",
    "plt.title('Growth Factor evolution {} for '.format(param) + country_of_interest)\n",
    "plt.plot(us_count['day'],us_count['factor'],'x--',color='red')\n",
    "_=plt.xlabel(r'day number [std] $\\mu$ {:.2f} $\\sigma$ {:.2f}'.format(day_mean,day_std))\n",
    "_=plt.ylabel(r'factor [std] $\\mu$ {:.2f} $\\sigma$ {:.2f}'.format(factor_mean,factor_std))\n",
    "plt.legend(loc='upper right')\n",
    "plt.savefig('growth_factor_evolution_{}'.format(param) + country_of_interest +'.jpg',format='jpg')"
   ]
  },
  {
   "cell_type": "code",
   "execution_count": null,
   "metadata": {},
   "outputs": [],
   "source": [
    "#FIGURE OUT PRIORS by random sampling\n",
    "# purpose: to see that the priors, before seeing data, produce\n",
    "# resonable regression lines, i.e. the lines should not extend beyond 3 standard deviations \n",
    "# at the y-axis.\n",
    "\n",
    "def sim_linreq_mu(x,alpha,beta):\n",
    "    return x * alpha + beta\n",
    "\n",
    "#SIMULATE priors \n",
    "#HYPOTHESIS by looking at graph: \n",
    "alpha_mu = 0 #HYPOTHESIS: intercept at 0\n",
    "alpha_sigma = 5\n",
    "beta_mu = 0 #HYPOTHESIS: slope 0\n",
    "beta_sigma = 5\n",
    "\n",
    "size = 10000\n",
    "# simulate priors based on params above\n",
    "alpha = pm.rnormal(mu = alpha_mu,tau = 1 / alpha_sigma ** 2,size=size)\n",
    "beta =  pm.rnormal(mu = beta_mu, tau = 1 / beta_sigma ** 2,size=size)\n",
    "\n",
    "print ('alpha mean {:.2f} beta mean {:.2f}'.format(alpha.mean(),beta.mean()))\n",
    "\n",
    "# sample simulated priors\n",
    "nr_rows = 1000\n",
    "alphas = np.random.choice(alpha,replace=True,size=nr_rows)\n",
    "betas = np.random.choice(beta,replace=True,size=nr_rows)\n",
    "\n",
    "# build simulated regression lines\n",
    "X = np.linspace(min(us_count['day']),max(us_count['day']),nr_rows)\n",
    "X = standardize(X)\n",
    "lines = [X[i] * betas + alphas for i in range(len(X))]\n",
    "\n",
    "_=plt.plot(X,lines,color='r',alpha=0.03)\n",
    "plt.ylabel('factor [std]')\n",
    "plt.xlabel('day [std]')\n",
    "plt.title('lines simulated from priors')\n"
   ]
  },
  {
   "cell_type": "code",
   "execution_count": null,
   "metadata": {},
   "outputs": [],
   "source": [
    "#REGRESSION\n",
    "alpha = pm.Normal('alpha',mu=alpha_mu,tau = 1 / alpha_sigma ** 2)\n",
    "beta = pm.Normal('beta',mu=beta_mu, tau = 1/ beta_sigma ** 2)\n",
    "sigma = pm.Uniform('sigma',lower=0,upper=10)\n",
    "\n",
    "us_count.dropna(inplace = True) # pymc doesnt like them\n",
    "x = us_count['day']\n",
    "\n",
    "@pm.deterministic()\n",
    "def linreq_mu(x=x,alpha=alpha,beta=beta):\n",
    "    return x * beta + alpha\n",
    "\n",
    "likelihood = pm.Normal('likelihood',\n",
    "                     mu=linreq_mu,\n",
    "                     tau= 1 / sigma ** 2,\n",
    "                     observed = True,\n",
    "                      value=us_count['factor'])\n",
    "\n",
    "model = pm.Model([alpha,beta,sigma,linreq_mu,likelihood])\n",
    "map_ = pm.MAP(model)\n",
    "map_.fit()\n",
    "\n",
    "mcmc = pm.MCMC(model)\n",
    "mcmc.sample(10000,5000,2)\n",
    "\n",
    "alpha_post = mcmc.trace('alpha')[:]\n",
    "beta_post = mcmc.trace('beta')[:]\n",
    "sigma_post = mcmc.trace('sigma')[:]\n",
    "linreq_mu_post = mcmc.trace('linreq_mu')[:,0]\n",
    "\n",
    "result = pd.DataFrame({'alpha_post':alpha_post,\n",
    "                       'beta_post':beta_post,\n",
    "                       'sigma_post':sigma_post,\n",
    "                       'linreq_mu_post':linreq_mu_post})\n",
    "\n",
    "result.describe()\n"
   ]
  },
  {
   "cell_type": "code",
   "execution_count": null,
   "metadata": {},
   "outputs": [],
   "source": [
    "# LEAST SQUARES REGRESSION for comparison\n",
    "slope,intercept,_,_,_ = sps.linregress(x,us_count['factor'])"
   ]
  },
  {
   "cell_type": "code",
   "execution_count": null,
   "metadata": {},
   "outputs": [],
   "source": [
    "#PLOT POSTERIOR\n",
    "alphas = np.random.choice(result['alpha_post'],replace=True,size=nr_rows)\n",
    "betas = np.random.choice(result['beta_post'],replace=True,size=nr_rows)\n",
    "sigmas = np.random.choice(result['sigma_post'],replace=True,size=nr_rows)\n",
    "\n",
    "mus = np.array([X[i] * betas + alphas for i in range(len(X))])\n",
    "\n",
    "lsq_mus = np.array([X[i] * slope + intercept for i in range(len(X))])\n",
    "\n",
    "plt.figure(figsize=(18,12))\n",
    "plt.title('Posterior Linear Regression : Growth Factor {} for '.format(param) + country_of_interest)\n",
    "plt.plot(X,mus,color='r',alpha=0.03)\n",
    "plt.plot(X,lsq_mus,'x--',color='k',label='Least Squares',alpha=0.5)\n",
    "plt.plot(X,np.array([X[i] * beta_post.mean() + alpha_post.mean() for i in range(len(X))]),\n",
    "        'x--',color='orange',label='Posterior mean',alpha=0.5)\n",
    "\n",
    "plt.scatter(us_count['day'],us_count['factor'],color='crimson',label='Data')\n",
    "\n",
    "xlabel = r'day [std] with unscaled $\\mu$: {:.2f} $\\sigma$: {:.2f}'.format(\n",
    "    day_mean,\n",
    "    day_std)\n",
    "\n",
    "ylabel = r'factor [std] with unscaled $\\mu$: {:.2f} $\\sigma$: {:.2f} :: $\\alpha$: {:.2f} $\\beta$ {:.2f}'.format(\n",
    "    factor_mean,\n",
    "    factor_std,\n",
    "    alpha_post.mean(),\n",
    "    beta_post.mean())\n",
    "\n",
    "plt.xlabel(xlabel)\n",
    "plt.ylabel(ylabel)\n",
    "plt.legend(loc='upper left',framealpha=0.2)\n",
    "plt.savefig('linear_regression_{}'.format(param) + country_of_interest +'.jpg',format='jpg')\n",
    "\n",
    "\n",
    "\n",
    "\n"
   ]
  }
 ],
 "metadata": {
  "kernelspec": {
   "display_name": "Python 3",
   "language": "python",
   "name": "python3"
  },
  "language_info": {
   "codemirror_mode": {
    "name": "ipython",
    "version": 3
   },
   "file_extension": ".py",
   "mimetype": "text/x-python",
   "name": "python",
   "nbconvert_exporter": "python",
   "pygments_lexer": "ipython3",
   "version": "3.6.9"
  }
 },
 "nbformat": 4,
 "nbformat_minor": 4
}
