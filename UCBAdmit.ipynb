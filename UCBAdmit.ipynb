{
 "cells": [
  {
   "cell_type": "code",
   "execution_count": null,
   "metadata": {},
   "outputs": [],
   "source": [
    "import numpy as np\n",
    "import matplotlib.pyplot as plt\n",
    "import seaborn as sns\n",
    "import pandas as pd\n",
    "import pymc as pm\n",
    "\n",
    "sns.set()"
   ]
  },
  {
   "cell_type": "code",
   "execution_count": null,
   "metadata": {},
   "outputs": [],
   "source": [
    "# the logit and logistic below seem to be inversed, but I couldnt figure out McElreaths text otherwise\n",
    "\n",
    "alpha=1\n",
    "beta=1\n",
    "\n",
    "x = np.linspace(0,1,20)\n",
    "y= np.arange(-10,10) \n",
    "\n",
    "def logit_pure(x):\n",
    "    return (np.exp(x)) / (1 + np.exp(x))"
   ]
  },
  {
   "cell_type": "code",
   "execution_count": null,
   "metadata": {},
   "outputs": [],
   "source": [
    "def logistic_pure(p):\n",
    "    return np.log(p / (1 - p))"
   ]
  },
  {
   "cell_type": "code",
   "execution_count": null,
   "metadata": {},
   "outputs": [],
   "source": [
    "fig,axes = plt.subplots(3,1,sharex=True,figsize=(18,12))\n",
    "\n",
    "axes[0].plot(x,y)\n",
    "axes[1].plot(x,logit_pure(x=y))\n",
    "axes[2].plot(x,logistic_pure(logit_pure(x=y)))"
   ]
  },
  {
   "cell_type": "code",
   "execution_count": null,
   "metadata": {},
   "outputs": [],
   "source": [
    "df = pd.read_csv('UCBAdmit.csv',sep=';')\n",
    "df['male'] = df['applicant.gender'].apply(lambda x : 1 if x=='male' else 0)\n",
    "df"
   ]
  },
  {
   "cell_type": "code",
   "execution_count": null,
   "metadata": {},
   "outputs": [],
   "source": [
    "# model: \n",
    "# admit ~ Binomial(applications,p)\n",
    "# p = logit(alpha + beta * male)\n",
    "\n",
    "# probability is a function depending on gender\n",
    "# so if female, alpha will be the only determinant for p\n",
    "\n",
    "# logit function maps the linear function to a non-linear space 0..1\n",
    "\n",
    "alpha = pm.Normal('alpha',0, 1 / 10 ** 2)\n",
    "beta = pm.Normal('beta',0,1 / 10 ** 2)\n",
    "\n",
    "x = df['male']\n",
    "\n",
    "@pm.deterministic\n",
    "def logit(alpha=alpha,beta=beta,x=x):\n",
    "    return (np.exp(alpha+beta*x)) / (1 + np.exp(alpha+beta*x))\n",
    "\n",
    "lkh = pm.Binomial('lkh',n=df['applications'],p=logit,observed=True,value=df['admit'])\n",
    "\n",
    "model = pm.Model([alpha,beta,logit,lkh])\n",
    "\n",
    "mcmc = pm.MCMC(model)\n",
    "sample = mcmc.sample(50000,10000,2)"
   ]
  },
  {
   "cell_type": "code",
   "execution_count": null,
   "metadata": {},
   "outputs": [],
   "source": [
    "post_alpha = mcmc.trace('alpha')[:]\n",
    "post_beta = mcmc.trace('beta')[:]\n",
    "\n",
    "result = pd.DataFrame({'post_alpha' : post_alpha,\n",
    "                      'post_beta' : post_beta})\n",
    "\n",
    "result['male_p'] = logit_pure(result['post_alpha'] + result['post_beta'])\n",
    "result['female_p'] = logit_pure(result['post_alpha'])\n",
    "result['male_advantage'] = result['male_p'] - result['female_p']\n",
    "\n",
    "print (result.head())\n",
    "result.describe()\n",
    "\n"
   ]
  },
  {
   "cell_type": "code",
   "execution_count": null,
   "metadata": {},
   "outputs": [],
   "source": [
    "plt.scatter(df['male'],df['admit'])"
   ]
  },
  {
   "cell_type": "code",
   "execution_count": null,
   "metadata": {},
   "outputs": [],
   "source": [
    "nr_rows = 100000\n",
    "nr_applications = 4000\n",
    "\n",
    "rows = np.random.choice(result.index,replace=True,size=nr_rows)\n",
    "\n",
    "m_admitted = pm.rbinomial(n=nr_applications,p=result.iloc[rows].male_p,size=nr_rows)\n",
    "f_admitted = pm.rbinomial(n=nr_applications,p = result.iloc[rows].female_p,size=nr_rows)\n",
    "\n",
    "male_advantage = (m_admitted / f_admitted)\n",
    "print (male_advantage.mean()) # same as 0.44 / 0.30 above\n",
    "print (m_admitted.mean() / nr_applications)\n",
    "print (f_admitted.mean() / nr_applications)\n",
    "plt.hist(male_advantage)"
   ]
  }
 ],
 "metadata": {
  "kernelspec": {
   "display_name": "Python 3",
   "language": "python",
   "name": "python3"
  },
  "language_info": {
   "codemirror_mode": {
    "name": "ipython",
    "version": 3
   },
   "file_extension": ".py",
   "mimetype": "text/x-python",
   "name": "python",
   "nbconvert_exporter": "python",
   "pygments_lexer": "ipython3",
   "version": "3.6.9"
  }
 },
 "nbformat": 4,
 "nbformat_minor": 4
}
