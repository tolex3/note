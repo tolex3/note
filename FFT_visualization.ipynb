{
 "cells": [
  {
   "cell_type": "code",
   "execution_count": null,
   "metadata": {},
   "outputs": [],
   "source": [
    "# https://youtu.be/spUNpyF58BY\n",
    "\n",
    "import numpy as np\n",
    "import matplotlib.pyplot as plt\n",
    "import pandas as pd\n",
    "import seaborn as sns\n",
    "\n",
    "sns.set()"
   ]
  },
  {
   "cell_type": "code",
   "execution_count": null,
   "metadata": {},
   "outputs": [],
   "source": [
    "def cart2pol(x, y):\n",
    "    rho = np.sqrt(x**2 + y**2)\n",
    "    phi = np.arctan2(y, x)\n",
    "    return(rho, phi)\n",
    "\n",
    "def pol2cart(rho, phi):\n",
    "    x = rho * np.cos(phi)\n",
    "    y = rho * np.sin(phi)\n",
    "    return(x, y)"
   ]
  },
  {
   "cell_type": "code",
   "execution_count": null,
   "metadata": {},
   "outputs": [],
   "source": [
    "\n",
    "t = np.arange(0,5,0.01) # time \n",
    "\n",
    "amp_offset = 1 # to avoid negative y-values\n",
    "\n",
    "freq = 3 #frequency of the signal we want to identify\n",
    "\n",
    "df = pd.DataFrame({'t' : t,\n",
    "                  'amp' : amp_offset + np.sin(freq*t*2*np.pi)})\n",
    "\n",
    "df.head()"
   ]
  },
  {
   "cell_type": "code",
   "execution_count": null,
   "metadata": {},
   "outputs": [],
   "source": [
    "df.plot(x='t',y='amp')\n",
    "plt.ylabel('amplitude')\n",
    "plt.xlabel('time')"
   ]
  },
  {
   "cell_type": "code",
   "execution_count": null,
   "metadata": {},
   "outputs": [],
   "source": [
    "# polar plot with the same wrapping freq. as the signal\n",
    "\n",
    "plt.figure(figsize=(18,12))\n",
    "plt.polar(df['t'] * freq * 2 * np.pi,df['amp'])\n",
    "\n",
    "ax = plt.gca()\n",
    "\n",
    "ax.set_theta_zero_location('N')\n",
    "ax.set_theta_direction(-1)\n",
    "\n",
    "\n"
   ]
  },
  {
   "cell_type": "code",
   "execution_count": null,
   "metadata": {},
   "outputs": [],
   "source": [
    "# wrap data on circles with frequency Hz\n",
    "\n",
    "def plot_g(df,Hz,freq,ax):\n",
    "    title = 'True Signal Frequency: {} Wrapping Frequency; {}'.format(freq,Hz)\n",
    "    \n",
    "    cartesian = pd.DataFrame(pol2cart(df['amp'],df['t'] * Hz * 2 * np.pi)).T\n",
    "    cartesian.columns = ['y','x']\n",
    "    ax.set_title(title)\n",
    "    ax.plot(cartesian['x'],cartesian['y'],'o--')\n",
    "    ax.plot(cartesian['x'].mean(),0,'o',color='orange')\n",
    "    "
   ]
  },
  {
   "cell_type": "code",
   "execution_count": null,
   "metadata": {},
   "outputs": [],
   "source": [
    "# same wrapping frequency as the signal\n",
    "ax = plt.gca()\n",
    "plot_g(df,freq,freq,ax)"
   ]
  },
  {
   "cell_type": "code",
   "execution_count": null,
   "metadata": {},
   "outputs": [],
   "source": [
    "# plots with different wrapping frequencies. Note that all wrap.freq's but the correct one\n",
    "# have their centre of mass (the orange dot) at origo. \n",
    "\n",
    "fig,axes = plt.subplots(2,3,figsize=(18,12))\n",
    "\n",
    "plot_g(df,1,freq,axes[0,0])\n",
    "plot_g(df,2,freq,axes[0,1])\n",
    "plot_g(df,3,freq,axes[0,2])\n",
    "plot_g(df,4,freq,axes[1,0])\n",
    "plot_g(df,5,freq,axes[1,1])\n",
    "plot_g(df,6,freq,axes[1,2])\n",
    "\n",
    "plt.savefig('fft_intuition.jpg',format='jpg')"
   ]
  }
 ],
 "metadata": {
  "kernelspec": {
   "display_name": "Python 3",
   "language": "python",
   "name": "python3"
  },
  "language_info": {
   "codemirror_mode": {
    "name": "ipython",
    "version": 3
   },
   "file_extension": ".py",
   "mimetype": "text/x-python",
   "name": "python",
   "nbconvert_exporter": "python",
   "pygments_lexer": "ipython3",
   "version": "3.8.6"
  }
 },
 "nbformat": 4,
 "nbformat_minor": 4
}
