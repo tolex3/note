{
 "cells": [
  {
   "cell_type": "code",
   "execution_count": null,
   "metadata": {},
   "outputs": [],
   "source": [
    "import numpy as np\n",
    "import matplotlib.pyplot as plt\n",
    "import seaborn as sns\n",
    "import pandas as pd\n",
    "\n",
    "sns.set()\n"
   ]
  },
  {
   "cell_type": "code",
   "execution_count": null,
   "metadata": {},
   "outputs": [],
   "source": [
    "pop = pd.read_csv('us_states_pop_density.csv',sep=',',index_col=['State'])\n",
    "pop.head()"
   ]
  },
  {
   "cell_type": "code",
   "execution_count": null,
   "metadata": {},
   "outputs": [],
   "source": [
    "dick = pd.read_pickle('us_state_dict.pkl')\n",
    "\n",
    "ny = dick['New York']\n",
    "ny.tail(10)"
   ]
  },
  {
   "cell_type": "code",
   "execution_count": null,
   "metadata": {
    "scrolled": false
   },
   "outputs": [],
   "source": [
    "resample_period = ['W-MON','W-TUE','W-WED','W-THU','W-FRI','W-SAT','W-SUN']\n",
    "    \n",
    "today = pd.datetime.today().weekday()\n",
    "\n",
    "yesterday = lambda i : resample_period[i % 7 -1] if i != 0 else resample_period[6]\n",
    "print (today)\n",
    "print (yesterday(today))\n",
    "\n",
    "for state,vals in dick.items():\n",
    "    plt.figure(figsize=(18,12))\n",
    "    vals.index = pd.DatetimeIndex(vals.index)\n",
    "    inc_per_m = vals['inc'] / (pop.loc[state,'Pop'] / 1e6)\n",
    "    \n",
    "    inc_per_m_w = inc_per_m.resample(yesterday(today)).sum()\n",
    "    \n",
    "    dinc_per_m = vals['dead_inc'] / (pop.loc[state,'Pop'] / 1e6)\n",
    "    \n",
    "    dinc_per_m_w = dinc_per_m.resample(yesterday(today)).sum()\n",
    "    \n",
    "    plt.subplot(211)\n",
    "    plt.title('Weekly increment of confirmed per million for {}'.format(state))\n",
    "    plt.ylabel('inc per million')\n",
    "    plt.bar(inc_per_m_w.index,inc_per_m_w,ls='dashed',label='increment CONFIRMED ' + state,color='orange')\n",
    "    plt.subplot(212)\n",
    "    plt.title('Weekly increment of deceased per million for {}'.format(state))\n",
    "    plt.ylabel(' dead inc per million')\n",
    "    plt.bar(dinc_per_m_w.index,dinc_per_m_w,ls='dashed',label=state,color='crimson')\n",
    "\n",
    "    plt.legend(loc='upper left')\n",
    "    plt.savefig('us_states_{}_weekly_incs.jpg'.format(state),format='jpg')\n",
    "    plt.close()"
   ]
  }
 ],
 "metadata": {
  "kernelspec": {
   "display_name": "Python 3",
   "language": "python",
   "name": "python3"
  },
  "language_info": {
   "codemirror_mode": {
    "name": "ipython",
    "version": 3
   },
   "file_extension": ".py",
   "mimetype": "text/x-python",
   "name": "python",
   "nbconvert_exporter": "python",
   "pygments_lexer": "ipython3",
   "version": "3.6.9"
  }
 },
 "nbformat": 4,
 "nbformat_minor": 4
}
