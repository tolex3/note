{
 "cells": [
  {
   "cell_type": "code",
   "execution_count": null,
   "metadata": {},
   "outputs": [],
   "source": [
    "import numpy as np\n",
    "import matplotlib.pyplot as plt\n",
    "import seaborn as sns\n",
    "import pandas as pd\n",
    "import pymc as pm\n",
    "from pymc.Matplot import plot as pmplot\n",
    "\n",
    "sns.set()"
   ]
  },
  {
   "cell_type": "code",
   "execution_count": null,
   "metadata": {},
   "outputs": [],
   "source": [
    "# TRANSACTION FORMAT - EACH LINE IS A COMPLETE 'OBJECT' OR TRANSACTION, CONTAINING ALL DATA FOR THAT REC,\n",
    "# KEY == COUNTRY + AGE_GRP\n",
    "\n",
    "# A,64,dead,pop\n",
    "# A,79,dead,pop\n",
    "# A,89,dead,pop\n",
    "# A,90,dead,pop\n",
    "# B...\n",
    "\n",
    "df = pd.DataFrame({'country' : ['A','A','A','A','B','B','B','B','C','C','C','C'],\n",
    "                  'age_grp' : ['64','79','89','90','64','79','89','90','64','79','89','90'],\n",
    "                  'dead' : [1,2,3,8,\n",
    "                            4,3,2,2,\n",
    "                            2,2,10,200],\n",
    "                  'pop' : [100,200,300,400,\n",
    "                           400,300,200,100,\n",
    "                           200,200,1000,10000],\n",
    "                  'country_idx' : [1,1,1,1,2,2,2,2,3,3,3,3],\n",
    "                  'age_idx' : [1,2,3,4,1,2,3,4,1,2,3,4] })\n",
    "\n",
    "df['pop'] *= 100\n",
    "df['dead'] *= 100\n",
    "\n",
    "df['rate'] = df['dead'] / df['pop']\n",
    "\n",
    "df"
   ]
  },
  {
   "cell_type": "code",
   "execution_count": null,
   "metadata": {},
   "outputs": [],
   "source": [
    "# NOW KEY MOVED TO HIERARCHICAL INDEX\n",
    "grouped = df.groupby(['country','age_grp']).sum()\n",
    "grouped"
   ]
  },
  {
   "cell_type": "code",
   "execution_count": null,
   "metadata": {},
   "outputs": [],
   "source": [
    "grouped['fraction_dead'] = grouped['dead'] / (grouped['pop'] )\n",
    "grouped"
   ]
  },
  {
   "cell_type": "code",
   "execution_count": null,
   "metadata": {},
   "outputs": [],
   "source": [
    "tot_pop = grouped.groupby(level=0).sum()['pop']\n",
    "tot_pop"
   ]
  },
  {
   "cell_type": "code",
   "execution_count": null,
   "metadata": {},
   "outputs": [],
   "source": [
    "ratio_age_of_pop = grouped['pop'] / tot_pop\n",
    "ratio_age_of_pop"
   ]
  },
  {
   "cell_type": "code",
   "execution_count": null,
   "metadata": {},
   "outputs": [],
   "source": [
    "ratio_age_of_pop.unstack().plot(kind='bar',stacked='True',figsize=(18,12),title='population age group ratio')"
   ]
  },
  {
   "cell_type": "code",
   "execution_count": null,
   "metadata": {},
   "outputs": [],
   "source": [
    "total_fractions = grouped.groupby(level=0).sum()['dead'] / grouped.groupby(level=0).sum()['pop']\n",
    "total_fractions"
   ]
  },
  {
   "cell_type": "code",
   "execution_count": null,
   "metadata": {},
   "outputs": [],
   "source": [
    "std_pop = grouped.loc['B']['pop']\n",
    "std_pop\n"
   ]
  },
  {
   "cell_type": "code",
   "execution_count": null,
   "metadata": {},
   "outputs": [],
   "source": [
    "std_dead = (std_pop * grouped['fraction_dead']).unstack().sum(axis=1)\n",
    "#total_dead / std_pop.sum()\n",
    "std_dead"
   ]
  },
  {
   "cell_type": "code",
   "execution_count": null,
   "metadata": {},
   "outputs": [],
   "source": [
    "std_rate = std_dead / std_pop.sum()\n",
    "std_rate"
   ]
  },
  {
   "cell_type": "code",
   "execution_count": null,
   "metadata": {},
   "outputs": [],
   "source": [
    "rate_cmp = pd.concat([total_fractions,std_rate],axis=1)\n",
    "rate_cmp.columns = ['total_rate','age_adj_rate']\n",
    "rate_cmp"
   ]
  },
  {
   "cell_type": "code",
   "execution_count": null,
   "metadata": {},
   "outputs": [],
   "source": [
    "rate_cmp.plot(kind='bar',figsize=(18,12))"
   ]
  },
  {
   "cell_type": "code",
   "execution_count": null,
   "metadata": {},
   "outputs": [],
   "source": [
    "# pymc 1 : no conditioning on age, each country gets its own alpha for total probability. \n",
    "# To be compared to rate_cmp\n",
    "\n",
    "country_idx = df['country_idx']\n",
    "\n",
    "alpha = pm.Normal('alpha',0, 1 / 10 ** 2,size=3) # 3 countries\n",
    "\n",
    "@pm.deterministic\n",
    "def logit(country_idx=country_idx-1,alpha=alpha):\n",
    "        \n",
    "    return np.exp(alpha[country_idx]) / (1 + np.exp(alpha[country_idx] ))\n",
    "\n",
    "\n",
    "obs = pm.Binomial('obs',n=df['pop'],p=logit,observed=True,\n",
    "                      value=df['dead'])\n",
    "\n",
    "model = pm.Model([alpha,logit,obs])\n",
    "\n",
    "_map = pm.MAP(model)\n",
    "_map.fit()\n",
    "\n",
    "mcmc = pm.MCMC(model)\n",
    "sample = mcmc.sample(50000,20000,3)\n",
    "\n"
   ]
  },
  {
   "cell_type": "code",
   "execution_count": null,
   "metadata": {},
   "outputs": [],
   "source": [
    "def logit_pure(x):\n",
    "    return (np.exp(x)) / (1 + np.exp(x))\n",
    "\n",
    "def logistic_pure(p):\n",
    "    return np.log(p / (1 - p))"
   ]
  },
  {
   "cell_type": "code",
   "execution_count": null,
   "metadata": {},
   "outputs": [],
   "source": [
    "alpha_A1 = mcmc.trace('alpha')[:,0]\n",
    "alpha_B1 = mcmc.trace('alpha')[:,1]\n",
    "alpha_C1 = mcmc.trace('alpha')[:,2]\n",
    "\n",
    "pmplot(alpha_A1,'alpha_A1')\n",
    "pmplot(alpha_B1,'alpha_B1')\n",
    "pmplot(alpha_C1,'alpha_C1')\n",
    "\n",
    "result = pd.DataFrame({'alpha_A1' : alpha_A1,\n",
    "                      'alpha_B1' : alpha_B1,\n",
    "                      'alpha_C1' : alpha_C1})\n",
    "\n",
    "result.describe()"
   ]
  },
  {
   "cell_type": "code",
   "execution_count": null,
   "metadata": {},
   "outputs": [],
   "source": [
    "result_p = pd.DataFrame()\n",
    "\n",
    "result_p['A'] = logit_pure(result['alpha_A1'])\n",
    "result_p['B'] = logit_pure(result['alpha_B1'])\n",
    "result_p['C'] = logit_pure(result['alpha_C1'])\n",
    "\n",
    "result_p.describe()"
   ]
  },
  {
   "cell_type": "code",
   "execution_count": null,
   "metadata": {},
   "outputs": [],
   "source": [
    "rate_cmp['pymc_1'] = result_p.describe().loc['mean']\n",
    "rate_cmp"
   ]
  },
  {
   "cell_type": "code",
   "execution_count": null,
   "metadata": {},
   "outputs": [],
   "source": [
    "# pymc 2 : condition on age by a common beta\n",
    "# that is: each country gets its own alpha, and they share a common beta for age groups\n",
    "# not very good results... they make no sense....!!!\n",
    "\n",
    "country_idx = df['country_idx']\n",
    "x = df['age_idx']\n",
    "\n",
    "alpha = pm.Normal('alpha',0, 1 / 10 ** 2,size=3) # 3 countries\n",
    "beta = pm.Normal('beta',0, 1 / 5 ** 2)\n",
    "\n",
    "@pm.deterministic\n",
    "def logit(country_idx=country_idx-1,alpha=alpha,beta=beta,x=x):\n",
    "        \n",
    "    return np.exp(alpha[country_idx] + beta * x) / (1 + np.exp(alpha[country_idx] + beta * x))\n",
    "\n",
    "\n",
    "obs = pm.Binomial('obs',n=df['pop'],p=logit,observed=True,\n",
    "                      value=df['dead'])\n",
    "\n",
    "model = pm.Model([alpha,logit,obs,beta])\n",
    "\n",
    "_map = pm.MAP(model)\n",
    "_map.fit()\n",
    "\n",
    "mcmc = pm.MCMC(model)\n",
    "sample = mcmc.sample(50000,20000,3)"
   ]
  },
  {
   "cell_type": "code",
   "execution_count": null,
   "metadata": {
    "scrolled": false
   },
   "outputs": [],
   "source": [
    "alpha_A2 = mcmc.trace('alpha')[:,0]\n",
    "alpha_B2 = mcmc.trace('alpha')[:,1]\n",
    "alpha_C2 = mcmc.trace('alpha')[:,2]\n",
    "\n",
    "pmplot(alpha_A2,'alpha_A2')\n",
    "pmplot(alpha_B2,'alpha_B2')\n",
    "pmplot(alpha_C2,'alpha_C2')\n",
    "\n",
    "beta = mcmc.trace('beta')[:]\n",
    "\n",
    "pmplot(beta,'beta')\n",
    "\n",
    "result2 = pd.DataFrame({'alpha_A2' : alpha_A2,\n",
    "                      'alpha_B2' : alpha_B2,\n",
    "                      'alpha_C2' : alpha_C2,\n",
    "                      'beta' : beta})\n",
    "\n",
    "result2.describe()"
   ]
  },
  {
   "cell_type": "code",
   "execution_count": null,
   "metadata": {},
   "outputs": [],
   "source": [
    "result2_p = pd.DataFrame()\n",
    "\n",
    "result2_p['A'] = logit_pure(result2['alpha_A2'] + result2['beta'])\n",
    "result2_p['B'] = logit_pure(result2['alpha_B2'] + result2['beta'])\n",
    "result2_p['C'] = logit_pure(result2['alpha_C2'] + result2['beta'])\n",
    "\n",
    "result2_p.describe()"
   ]
  },
  {
   "cell_type": "code",
   "execution_count": null,
   "metadata": {},
   "outputs": [],
   "source": [
    "rate_cmp['pymc_2'] = result2_p.describe().loc['mean']\n",
    "rate_cmp"
   ]
  },
  {
   "cell_type": "code",
   "execution_count": null,
   "metadata": {},
   "outputs": [],
   "source": [
    "# pymc 3 : condition country by separate alphas and on age by a separate beta for each age grp\n",
    "\n",
    "country_idx = df['country_idx']\n",
    "age_idx = df['age_idx']\n",
    "\n",
    "alpha = pm.Normal('alpha',0, 1 / 2 ** 2,size=3) # 3 countries\n",
    "beta = pm.Normal('beta',0, 1 / 2 ** 2,size=4) # 4 age groups\n",
    "\n",
    "@pm.deterministic\n",
    "def logit(country_idx=country_idx-1,age_idx=age_idx-1,alpha=alpha,beta=beta):\n",
    "        \n",
    "    return np.exp(alpha[country_idx] + beta[age_idx]) / (\n",
    "        1 + np.exp(alpha[country_idx] + beta[age_idx] ))\n",
    "\n",
    "\n",
    "obs = pm.Binomial('obs',n=df['pop'],p=logit,observed=True,\n",
    "                      value=df['dead'])\n",
    "\n",
    "model = pm.Model([alpha,logit,obs,beta])\n",
    "\n",
    "#_map = pm.MAP(model)\n",
    "#_map.fit()\n",
    "\n",
    "mcmc = pm.MCMC(model)\n",
    "sample = mcmc.sample(50000,10000,2)"
   ]
  },
  {
   "cell_type": "code",
   "execution_count": null,
   "metadata": {
    "scrolled": false
   },
   "outputs": [],
   "source": [
    "alpha_A3 = mcmc.trace('alpha')[:,0]\n",
    "alpha_B3 = mcmc.trace('alpha')[:,1]\n",
    "alpha_C3 = mcmc.trace('alpha')[:,2]\n",
    "\n",
    "pmplot(alpha_A3,'alpha_A3')\n",
    "pmplot(alpha_B3,'alpha_B3')\n",
    "pmplot(alpha_C3,'alpha_C3')\n",
    "\n",
    "beta_0 = mcmc.trace('beta')[:,0]\n",
    "beta_1 = mcmc.trace('beta')[:,1]\n",
    "beta_2 = mcmc.trace('beta')[:,2]\n",
    "beta_3 = mcmc.trace('beta')[:,3]\n",
    "\n",
    "\n",
    "pmplot(beta_0,'beta_0')\n",
    "pmplot(beta_1,'beta_1')\n",
    "pmplot(beta_2,'beta_2')\n",
    "pmplot(beta_3,'beta_3')\n",
    "\n",
    "\n",
    "result3 = pd.DataFrame({'alpha_A3' : alpha_A3,\n",
    "                      'alpha_B3' : alpha_B3,\n",
    "                      'alpha_C3' : alpha_C3,\n",
    "                      'beta_0' : beta_0,\n",
    "                       'beta_1' : beta_1,\n",
    "                       'beta_2' : beta_2,\n",
    "                       'beta_3' : beta_3})\n",
    "\n",
    "result3.describe()"
   ]
  },
  {
   "cell_type": "code",
   "execution_count": null,
   "metadata": {},
   "outputs": [],
   "source": [
    "result3_p = pd.DataFrame()\n",
    "\n",
    "result3_p['A_64'] = logit_pure(result3['alpha_A3'] + result3['beta_0'])\n",
    "result3_p['A_79'] = logit_pure(result3['alpha_A3'] + result3['beta_1'])\n",
    "result3_p['A_89'] = logit_pure(result3['alpha_A3'] + result3['beta_2'])\n",
    "result3_p['A_90'] = logit_pure(result3['alpha_A3'] + result3['beta_3'])\n",
    "\n",
    "result3_p['B_64'] = logit_pure(result3['alpha_B3'] + result3['beta_0'])\n",
    "result3_p['B_79'] = logit_pure(result3['alpha_B3'] + result3['beta_1'])\n",
    "result3_p['B_89'] = logit_pure(result3['alpha_B3'] + result3['beta_2'])\n",
    "result3_p['B_90'] = logit_pure(result3['alpha_B3'] + result3['beta_3'])\n",
    "\n",
    "result3_p['C_64'] = logit_pure(result3['alpha_C3'] + result3['beta_0'])\n",
    "result3_p['C_79'] = logit_pure(result3['alpha_C3'] + result3['beta_1'])\n",
    "result3_p['C_89'] = logit_pure(result3['alpha_C3'] + result3['beta_2'])\n",
    "result3_p['C_90'] = logit_pure(result3['alpha_C3'] + result3['beta_3'])\n",
    "\n",
    "\n",
    "result3_p.describe()"
   ]
  },
  {
   "cell_type": "code",
   "execution_count": null,
   "metadata": {},
   "outputs": [],
   "source": [
    "pymc_3 = result3_p.describe().loc['mean'].reset_index()['index'].str.split('_',expand=True)\n",
    "pymc_3.columns = ['country','age_grp']\n",
    "result3_summary = pd.concat([result3_p.describe().loc['mean'].reset_index(),pymc_3],axis=1)\n",
    "result3_summary"
   ]
  },
  {
   "cell_type": "code",
   "execution_count": null,
   "metadata": {},
   "outputs": [],
   "source": [
    "multi_idx = pd.MultiIndex.from_arrays((result3_summary.country,result3_summary.age_grp))\n",
    "result3_summary.index = multi_idx\n",
    "result3_summary"
   ]
  },
  {
   "cell_type": "code",
   "execution_count": null,
   "metadata": {},
   "outputs": [],
   "source": [
    "grouped['fraction_dead']"
   ]
  },
  {
   "cell_type": "code",
   "execution_count": null,
   "metadata": {},
   "outputs": [],
   "source": [
    "plt.figure(figsize=(18,12))\n",
    "\n",
    "plt.subplot(3,4,1)\n",
    "plt.title('A_64')\n",
    "plt.hist(result3_p['A_64'],density=True)\n",
    "plt.axvline(grouped.loc[('A','64'),'fraction_dead'],color='orange',ls='dashed')\n",
    "\n",
    "plt.subplot(3,4,2)\n",
    "plt.title('A_79')\n",
    "plt.hist(result3_p['A_79'],density=True)\n",
    "plt.axvline(grouped.loc[('A','79'),'fraction_dead'],color='orange',ls='dashed')\n",
    "\n",
    "plt.subplot(3,4,3)\n",
    "plt.title('A_89')\n",
    "plt.hist(result3_p['A_89'],density=True)\n",
    "plt.axvline(grouped.loc[('A','89'),'fraction_dead'],color='orange',ls='dashed')\n",
    "\n",
    "plt.subplot(3,4,4)\n",
    "plt.title('A_90')\n",
    "plt.hist(result3_p['A_90'],density=True)\n",
    "plt.axvline(grouped.loc[('A','90'),'fraction_dead'],color='orange',ls='dashed')\n",
    "\n",
    "plt.subplot(3,4,5)\n",
    "plt.title('B_64')\n",
    "plt.hist(result3_p['B_64'],density=True)\n",
    "plt.axvline(grouped.loc[('B','64'),'fraction_dead'],color='orange',ls='dashed')\n",
    "\n",
    "plt.subplot(3,4,6)\n",
    "plt.title('B_79')\n",
    "plt.hist(result3_p['B_79'],density=True)\n",
    "plt.axvline(grouped.loc[('B','79'),'fraction_dead'],color='orange',ls='dashed')\n",
    "\n",
    "plt.subplot(3,4,7)\n",
    "plt.title('B_89')\n",
    "plt.hist(result3_p['B_89'],density=True)\n",
    "plt.axvline(grouped.loc[('B','89'),'fraction_dead'],color='orange',ls='dashed')\n",
    "\n",
    "plt.subplot(3,4,8)\n",
    "plt.title('B_90')\n",
    "plt.hist(result3_p['B_90'],density=True)\n",
    "plt.axvline(grouped.loc[('B','90'),'fraction_dead'],color='orange',ls='dashed')\n",
    "\n",
    "plt.subplot(3,4,9)\n",
    "plt.title('C_64')\n",
    "plt.hist(result3_p['C_64'],density=True)\n",
    "plt.axvline(grouped.loc[('C','64'),'fraction_dead'],color='orange',ls='dashed')\n",
    "\n",
    "plt.subplot(3,4,10)\n",
    "plt.title('C_79')\n",
    "plt.hist(result3_p['C_79'],density=True)\n",
    "plt.axvline(grouped.loc[('C','79'),'fraction_dead'],color='orange',ls='dashed')\n",
    "\n",
    "plt.subplot(3,4,11)\n",
    "plt.title('C_89')\n",
    "plt.hist(result3_p['C_89'],density=True)\n",
    "plt.axvline(grouped.loc[('C','89'),'fraction_dead'],color='orange',ls='dashed')\n",
    "\n",
    "plt.subplot(3,4,12)\n",
    "plt.title('C_90')\n",
    "plt.hist(result3_p['C_90'],density=True)\n",
    "plt.axvline(grouped.loc[('C','90'),'fraction_dead'],color='orange',ls='dashed')"
   ]
  },
  {
   "cell_type": "code",
   "execution_count": null,
   "metadata": {},
   "outputs": [],
   "source": [
    "means_p = result3_p.describe().loc['mean']\n",
    "country_age_death_rate = means_p.reset_index()['index'].str.split('_',expand=True)\n",
    "country_age_death_rate.columns = ['country','age_grp']\n",
    "means_p.index = country_age_death_rate.index\n",
    "country_age_death_rate['rate'] = means_p\n",
    "country_age_death_rate"
   ]
  },
  {
   "cell_type": "code",
   "execution_count": null,
   "metadata": {},
   "outputs": [],
   "source": [
    "country_age_death_rate = country_age_death_rate.pivot(index='age_grp',columns='country',values='rate')\n",
    "country_age_death_rate"
   ]
  },
  {
   "cell_type": "code",
   "execution_count": null,
   "metadata": {},
   "outputs": [],
   "source": [
    "std_pop"
   ]
  },
  {
   "cell_type": "code",
   "execution_count": null,
   "metadata": {},
   "outputs": [],
   "source": [
    "pymc_deaths_per_age_grp = std_pop.values * country_age_death_rate.T\n",
    "pymc_deaths_per_age_grp"
   ]
  },
  {
   "cell_type": "code",
   "execution_count": null,
   "metadata": {},
   "outputs": [],
   "source": [
    "analytic_deaths_per_age_grp = (std_pop * grouped['fraction_dead']).unstack()\n",
    "analytic_deaths_per_age_grp"
   ]
  },
  {
   "cell_type": "code",
   "execution_count": null,
   "metadata": {},
   "outputs": [],
   "source": [
    "ratio_analytic_pymc = pymc_deaths_per_age_grp / analytic_deaths_per_age_grp\n",
    "ratio_analytic_pymc"
   ]
  },
  {
   "cell_type": "code",
   "execution_count": null,
   "metadata": {},
   "outputs": [],
   "source": [
    "ratio_analytic_pymc.mean(axis=1)"
   ]
  },
  {
   "cell_type": "code",
   "execution_count": null,
   "metadata": {},
   "outputs": [],
   "source": []
  },
  {
   "cell_type": "code",
   "execution_count": null,
   "metadata": {},
   "outputs": [],
   "source": [
    "pymc_dead = pymc_deaths_per_age_grp.sum(axis=1)\n",
    "pymc_dead"
   ]
  },
  {
   "cell_type": "code",
   "execution_count": null,
   "metadata": {},
   "outputs": [],
   "source": [
    "std_dead"
   ]
  },
  {
   "cell_type": "code",
   "execution_count": null,
   "metadata": {},
   "outputs": [],
   "source": [
    "cmp_pymc_analytic_deaths = pd.concat([std_dead,pymc_dead],axis=1)\n",
    "cmp_pymc_analytic_deaths.columns=['analytic','pymc']\n",
    "cmp_pymc_analytic_deaths"
   ]
  },
  {
   "cell_type": "code",
   "execution_count": null,
   "metadata": {},
   "outputs": [],
   "source": [
    "\n",
    "scb_all_data = pd.read_pickle('stratified_population_death_age_control.pkl')\n",
    "scb_all_data"
   ]
  },
  {
   "cell_type": "code",
   "execution_count": null,
   "metadata": {},
   "outputs": [],
   "source": [
    "year_idx = scb_all_data['year_idx'] \n",
    "age_idx = scb_all_data['age_idx']\n",
    "\n",
    "alpha = pm.Normal('alpha',0, 1 / 10 ** 2,size=len(year_idx)) # 20 years\n",
    "\n",
    "beta = pm.Normal('beta',0,1 / 10 ** 2,size=4)\n",
    "\n",
    "\n",
    "@pm.deterministic\n",
    "def logit_age(age_idx=age_idx-1,year_idx=year_idx-1,alpha=alpha,beta=beta):\n",
    "        \n",
    "    return np.exp(alpha[year_idx] + beta[age_idx]) / (\n",
    "        1 + np.exp(alpha[year_idx] + beta[age_idx]))\n",
    "\n",
    "\n",
    "lkh_age = pm.Binomial('lkh_age',n=scb_all_data['pop'],p=logit_age,observed=True,\n",
    "                      value=scb_all_data['dead'])\n",
    "\n",
    "model = pm.Model([alpha,beta,logit_age,lkh_age])\n",
    "\n",
    "_map = pm.MAP(model)\n",
    "_map.fit()\n",
    "\n",
    "mcmc = pm.MCMC(model)\n",
    "sample = mcmc.sample(50000,20000,2)"
   ]
  },
  {
   "cell_type": "code",
   "execution_count": null,
   "metadata": {
    "scrolled": false
   },
   "outputs": [],
   "source": [
    "alpha_2001 = mcmc.trace('alpha')[:,0]\n",
    "alpha_2002 = mcmc.trace('alpha')[:,1]\n",
    "alpha_2003 = mcmc.trace('alpha')[:,2]\n",
    "alpha_2004 = mcmc.trace('alpha')[:,3]\n",
    "alpha_2005 = mcmc.trace('alpha')[:,4]\n",
    "alpha_2006 = mcmc.trace('alpha')[:,5]\n",
    "alpha_2007 = mcmc.trace('alpha')[:,6]\n",
    "alpha_2008 = mcmc.trace('alpha')[:,7]\n",
    "alpha_2009 = mcmc.trace('alpha')[:,8]\n",
    "alpha_2010 = mcmc.trace('alpha')[:,9]\n",
    "alpha_2011 = mcmc.trace('alpha')[:,10]\n",
    "alpha_2012 = mcmc.trace('alpha')[:,11]\n",
    "alpha_2013 = mcmc.trace('alpha')[:,12]\n",
    "alpha_2014 = mcmc.trace('alpha')[:,13]\n",
    "alpha_2015 = mcmc.trace('alpha')[:,14]\n",
    "alpha_2016 = mcmc.trace('alpha')[:,15]\n",
    "alpha_2017 = mcmc.trace('alpha')[:,16]\n",
    "alpha_2018 = mcmc.trace('alpha')[:,17]\n",
    "alpha_2019 = mcmc.trace('alpha')[:,18]\n",
    "alpha_2020 = mcmc.trace('alpha')[:,19]\n",
    "\n",
    "\n",
    "beta_64 = mcmc.trace('beta')[:,0]\n",
    "beta_79 = mcmc.trace('beta')[:,1]\n",
    "beta_89 = mcmc.trace('beta')[:,2]\n",
    "beta_90 = mcmc.trace('beta')[:,3]\n",
    "\n",
    "pmplot(beta_64,'beta_64')\n",
    "pmplot(beta_79,'beta_79')\n",
    "pmplot(beta_89,'beta_89')\n",
    "pmplot(beta_90,'beta_90')\n",
    "\n",
    "pmplot(alpha_2001,'alpha_2001')\n",
    "pmplot(alpha_2002,'alpha_2002')\n",
    "pmplot(alpha_2012,'alpha_2012')\n",
    "pmplot(alpha_2015,'alpha_2015')\n",
    "pmplot(alpha_2019,'alpha_2019')\n",
    "pmplot(alpha_2020,'alpha_2020')\n",
    "\n",
    "\n",
    "\n",
    "\n",
    "result = pd.DataFrame({\n",
    "                       'alpha_2001': alpha_2001,\n",
    "                       'alpha_2002' : alpha_2002,\n",
    "                       'alpha_2003' : alpha_2003,\n",
    "                       'alpha_2004' : alpha_2004,\n",
    "                       'alpha_2005' : alpha_2005,\n",
    "                       'alpha_2006' : alpha_2006,\n",
    "                       'alpha_2007' : alpha_2007,\n",
    "                       'alpha_2008' : alpha_2008,\n",
    "                       'alpha_2009' : alpha_2009,\n",
    "                       'alpha_2010' : alpha_2010,\n",
    "                       'alpha_2011' : alpha_2011,\n",
    "                       'alpha_2012' : alpha_2012,\n",
    "                       'alpha_2013' : alpha_2013,\n",
    "                       'alpha_2014' : alpha_2014,\n",
    "                       'alpha_2015' : alpha_2015,\n",
    "                       'alpha_2016' : alpha_2016,\n",
    "                       'alpha_2017' : alpha_2017,\n",
    "                       'alpha_2018' : alpha_2018,\n",
    "                       'alpha_2019' : alpha_2019,\n",
    "                        'alpha_2020' : alpha_2020,\n",
    "                        'beta_64' : beta_64,\n",
    "                        'beta_79' : beta_79,\n",
    "                        'beta_89' : beta_89,\n",
    "                        'beta_90' : beta_90})\n",
    "                      \n",
    "\n",
    "result.describe()\n"
   ]
  },
  {
   "cell_type": "code",
   "execution_count": null,
   "metadata": {},
   "outputs": [],
   "source": [
    "result_p = pd.DataFrame()\n",
    "\n",
    "result_p['2001_64'] = logit_pure(result['alpha_2001'] + result['beta_64']) \n",
    "result_p['2001_79'] = logit_pure(result['alpha_2001'] + result['beta_79']) \n",
    "result_p['2001_89'] = logit_pure(result['alpha_2001'] + result['beta_89']) \n",
    "result_p['2001_90'] = logit_pure(result['alpha_2001'] + result['beta_90']) \n",
    "\n",
    "result_p['2002_64'] = logit_pure(result['alpha_2002'] + result['beta_64']) \n",
    "result_p['2002_79'] = logit_pure(result['alpha_2002'] + result['beta_79']) \n",
    "result_p['2002_89'] = logit_pure(result['alpha_2002'] + result['beta_89']) \n",
    "result_p['2002_90'] = logit_pure(result['alpha_2002'] + result['beta_90']) \n",
    "\n",
    "result_p['2003_64'] = logit_pure(result['alpha_2003'] + result['beta_64']) \n",
    "result_p['2003_79'] = logit_pure(result['alpha_2003'] + result['beta_79']) \n",
    "result_p['2003_89'] = logit_pure(result['alpha_2003'] + result['beta_89']) \n",
    "result_p['2003_90'] = logit_pure(result['alpha_2003'] + result['beta_90']) \n",
    "\n",
    "result_p['2004_64'] = logit_pure(result['alpha_2004'] + result['beta_64']) \n",
    "result_p['2004_79'] = logit_pure(result['alpha_2004'] + result['beta_79']) \n",
    "result_p['2004_89'] = logit_pure(result['alpha_2004'] + result['beta_89']) \n",
    "result_p['2004_90'] = logit_pure(result['alpha_2004'] + result['beta_90']) \n",
    "\n",
    "result_p['2005_64'] = logit_pure(result['alpha_2005'] + result['beta_64']) \n",
    "result_p['2005_79'] = logit_pure(result['alpha_2005'] + result['beta_79']) \n",
    "result_p['2005_89'] = logit_pure(result['alpha_2005'] + result['beta_89']) \n",
    "result_p['2005_90'] = logit_pure(result['alpha_2005'] + result['beta_90']) \n",
    "\n",
    "result_p['2006_64'] = logit_pure(result['alpha_2006'] + result['beta_64']) \n",
    "result_p['2006_79'] = logit_pure(result['alpha_2006'] + result['beta_79']) \n",
    "result_p['2006_89'] = logit_pure(result['alpha_2006'] + result['beta_89']) \n",
    "result_p['2006_90'] = logit_pure(result['alpha_2006'] + result['beta_90']) \n",
    "\n",
    "result_p['2007_64'] = logit_pure(result['alpha_2007'] + result['beta_64']) \n",
    "result_p['2007_79'] = logit_pure(result['alpha_2007'] + result['beta_79']) \n",
    "result_p['2007_89'] = logit_pure(result['alpha_2007'] + result['beta_89']) \n",
    "result_p['2007_90'] = logit_pure(result['alpha_2007'] + result['beta_90']) \n",
    "\n",
    "result_p['2008_64'] = logit_pure(result['alpha_2008'] + result['beta_64']) \n",
    "result_p['2008_79'] = logit_pure(result['alpha_2008'] + result['beta_79']) \n",
    "result_p['2008_89'] = logit_pure(result['alpha_2008'] + result['beta_89']) \n",
    "result_p['2008_90'] = logit_pure(result['alpha_2008'] + result['beta_90']) \n",
    "\n",
    "result_p['2009_64'] = logit_pure(result['alpha_2009'] + result['beta_64']) \n",
    "result_p['2009_79'] = logit_pure(result['alpha_2009'] + result['beta_79']) \n",
    "result_p['2009_89'] = logit_pure(result['alpha_2009'] + result['beta_89']) \n",
    "result_p['2009_90'] = logit_pure(result['alpha_2009'] + result['beta_90']) \n",
    "\n",
    "result_p['2010_64'] = logit_pure(result['alpha_2010'] + result['beta_64']) \n",
    "result_p['2010_79'] = logit_pure(result['alpha_2010'] + result['beta_79']) \n",
    "result_p['2010_89'] = logit_pure(result['alpha_2010'] + result['beta_89']) \n",
    "result_p['2010_90'] = logit_pure(result['alpha_2010'] + result['beta_90']) \n",
    "\n",
    "result_p['2011_64'] = logit_pure(result['alpha_2011'] + result['beta_64']) \n",
    "result_p['2011_79'] = logit_pure(result['alpha_2011'] + result['beta_79']) \n",
    "result_p['2011_89'] = logit_pure(result['alpha_2011'] + result['beta_89']) \n",
    "result_p['2011_90'] = logit_pure(result['alpha_2011'] + result['beta_90']) \n",
    "\n",
    "result_p['2012_64'] = logit_pure(result['alpha_2012'] + result['beta_64']) \n",
    "result_p['2012_79'] = logit_pure(result['alpha_2012'] + result['beta_79']) \n",
    "result_p['2012_89'] = logit_pure(result['alpha_2012'] + result['beta_89']) \n",
    "result_p['2012_90'] = logit_pure(result['alpha_2012'] + result['beta_90']) \n",
    "\n",
    "result_p['2013_64'] = logit_pure(result['alpha_2013'] + result['beta_64']) \n",
    "result_p['2013_79'] = logit_pure(result['alpha_2013'] + result['beta_79']) \n",
    "result_p['2013_89'] = logit_pure(result['alpha_2013'] + result['beta_89']) \n",
    "result_p['2013_90'] = logit_pure(result['alpha_2013'] + result['beta_90']) \n",
    "\n",
    "result_p['2014_64'] = logit_pure(result['alpha_2014'] + result['beta_64']) \n",
    "result_p['2014_79'] = logit_pure(result['alpha_2014'] + result['beta_79']) \n",
    "result_p['2014_89'] = logit_pure(result['alpha_2014'] + result['beta_89']) \n",
    "result_p['2014_90'] = logit_pure(result['alpha_2014'] + result['beta_90']) \n",
    "\n",
    "result_p['2015_64'] = logit_pure(result['alpha_2015'] + result['beta_64']) \n",
    "result_p['2015_79'] = logit_pure(result['alpha_2015'] + result['beta_79']) \n",
    "result_p['2015_89'] = logit_pure(result['alpha_2015'] + result['beta_89']) \n",
    "result_p['2015_90'] = logit_pure(result['alpha_2015'] + result['beta_90']) \n",
    "\n",
    "result_p['2016_64'] = logit_pure(result['alpha_2016'] + result['beta_64']) \n",
    "result_p['2016_79'] = logit_pure(result['alpha_2016'] + result['beta_79']) \n",
    "result_p['2016_89'] = logit_pure(result['alpha_2016'] + result['beta_89']) \n",
    "result_p['2016_90'] = logit_pure(result['alpha_2016'] + result['beta_90']) \n",
    "\n",
    "result_p['2017_64'] = logit_pure(result['alpha_2017'] + result['beta_64']) \n",
    "result_p['2017_79'] = logit_pure(result['alpha_2017'] + result['beta_79']) \n",
    "result_p['2017_89'] = logit_pure(result['alpha_2017'] + result['beta_89']) \n",
    "result_p['2017_90'] = logit_pure(result['alpha_2017'] + result['beta_90']) \n",
    "\n",
    "result_p['2018_64'] = logit_pure(result['alpha_2018'] + result['beta_64']) \n",
    "result_p['2018_79'] = logit_pure(result['alpha_2018'] + result['beta_79']) \n",
    "result_p['2018_89'] = logit_pure(result['alpha_2018'] + result['beta_89']) \n",
    "result_p['2018_90'] = logit_pure(result['alpha_2018'] + result['beta_90']) \n",
    "\n",
    "result_p['2019_64'] = logit_pure(result['alpha_2019'] + result['beta_64']) \n",
    "result_p['2019_79'] = logit_pure(result['alpha_2019'] + result['beta_79']) \n",
    "result_p['2019_89'] = logit_pure(result['alpha_2019'] + result['beta_89']) \n",
    "result_p['2019_90'] = logit_pure(result['alpha_2019'] + result['beta_90']) \n",
    "\n",
    "result_p['2020_64'] = logit_pure(result['alpha_2020'] + result['beta_64']) \n",
    "result_p['2020_79'] = logit_pure(result['alpha_2020'] + result['beta_79']) \n",
    "result_p['2020_89'] = logit_pure(result['alpha_2020'] + result['beta_89']) \n",
    "result_p['2020_90'] = logit_pure(result['alpha_2020'] + result['beta_90']) \n",
    "\n",
    "result_p.describe()\n"
   ]
  },
  {
   "cell_type": "code",
   "execution_count": null,
   "metadata": {},
   "outputs": [],
   "source": [
    "p_means = result_p.describe().loc['mean']\n",
    "p_means = p_means.reset_index()\n",
    "p_means[['year','age_grp']] = p_means['index'].str.split('_',1,expand=True)\n",
    "p_means = pd.pivot(p_means,index='age_grp',columns='year',values='mean')\n",
    "p_means = p_means.T\n",
    "p_means.rename(columns={'90' : '90+'},inplace=True)\n"
   ]
  },
  {
   "cell_type": "code",
   "execution_count": null,
   "metadata": {},
   "outputs": [],
   "source": [
    "computed_death_rate_per_capita = pd.read_pickle('computed_death_rate_per_capita.pkl')\n",
    "computed_death_rate_per_capita"
   ]
  },
  {
   "cell_type": "code",
   "execution_count": null,
   "metadata": {},
   "outputs": [],
   "source": [
    "p_means.index = range(2001,2021)\n",
    "p_means"
   ]
  },
  {
   "cell_type": "code",
   "execution_count": null,
   "metadata": {},
   "outputs": [],
   "source": [
    "strata_abs_pop = pd.read_pickle('strata_abs_pop.pkl')\n",
    "strata_abs_pop"
   ]
  },
  {
   "cell_type": "code",
   "execution_count": null,
   "metadata": {},
   "outputs": [],
   "source": [
    "pymc_strata_tot = strata_abs_pop * p_means\n",
    "pymc_strata_tot.columns=['p_64','p_79','p_89','p_90+']\n",
    "pymc_strata_tot"
   ]
  },
  {
   "cell_type": "code",
   "execution_count": null,
   "metadata": {},
   "outputs": [],
   "source": [
    "analytic_strata_tot = computed_death_rate_per_capita * strata_abs_pop\n",
    "analytic_strata_tot.columns =['a_64','a_79','a_89','a_90+']\n",
    "analytic_strata_tot"
   ]
  },
  {
   "cell_type": "code",
   "execution_count": null,
   "metadata": {},
   "outputs": [],
   "source": [
    "pymc_tot = pymc_strata_tot.sum(axis=1)\n",
    "pymc_tot"
   ]
  },
  {
   "cell_type": "code",
   "execution_count": null,
   "metadata": {},
   "outputs": [],
   "source": [
    "analytic_tot = analytic_strata_tot.sum(axis=1)\n",
    "analytic_tot"
   ]
  },
  {
   "cell_type": "code",
   "execution_count": null,
   "metadata": {},
   "outputs": [],
   "source": [
    "combined_totals = pd.concat([analytic_tot,pymc_tot],axis=1)\n",
    "combined_totals.columns =['analytic_tot','pymc_tot']\n",
    "combined_totals                         "
   ]
  },
  {
   "cell_type": "code",
   "execution_count": null,
   "metadata": {},
   "outputs": [],
   "source": [
    "combined_totals.plot(kind='bar',figsize=(18,12))"
   ]
  },
  {
   "cell_type": "code",
   "execution_count": null,
   "metadata": {},
   "outputs": [],
   "source": [
    "combined_strata_tot = pd.concat([analytic_strata_tot,pymc_strata_tot],axis=1)\n",
    "combined_strata_tot = combined_strata_tot[['a_64','p_64','a_79','p_79','a_89','p_89',\n",
    "                                          'a_90+','p_90+']]\n",
    "combined_strata_tot"
   ]
  },
  {
   "cell_type": "code",
   "execution_count": null,
   "metadata": {},
   "outputs": [],
   "source": [
    "analytic_deaths_per_capita = combined_strata_tot[['a_64','a_79','a_89','a_90+']] / (strata_abs_pop.values )\n",
    "pymc_deaths_per_capita = combined_strata_tot[['p_64','p_79','p_89','p_90+']] / strata_abs_pop.values\n",
    "\n",
    "deaths_per_capita = pd.concat([analytic_deaths_per_capita,pymc_deaths_per_capita],axis=1)\n",
    "deaths_per_capita = deaths_per_capita[['a_64','p_64','a_79','p_79','a_89','p_89','a_90+','p_90+']]\n",
    "deaths_per_capita"
   ]
  },
  {
   "cell_type": "code",
   "execution_count": null,
   "metadata": {
    "scrolled": false
   },
   "outputs": [],
   "source": [
    "ax = combined_strata_tot[['a_64','a_79','a_89','a_90+']].plot(kind='bar',color=['b','orange','g','r'],\n",
    "                                                              stacked=True,figsize=(18,12),alpha=0.7)\n",
    "combined_strata_tot[['p_64','p_79','p_89','p_90+']].plot(ax=ax,color=['r','g','orange','b'],\n",
    "                                                         kind='bar',stacked=True,alpha=0.7)"
   ]
  },
  {
   "cell_type": "code",
   "execution_count": null,
   "metadata": {},
   "outputs": [],
   "source": [
    "width = 0.2\n",
    "plt.figure(figsize=(18,12))\n",
    "plt.subplot(2,2,1)\n",
    "plt.title('SWEDEN absolute deaths age group 64, analytic vs Bayesian Infrence')\n",
    "plt.bar(analytic_strata_tot.index + width,analytic_strata_tot['a_64'],color='b',width=width,label='analytic')\n",
    "plt.bar(analytic_strata_tot.index - width,pymc_strata_tot['p_64'],color='r',width=width,label='Bayesian inference')\n",
    "plt.legend(loc='upper left')\n",
    "xticks = range(2001,2021)\n",
    "_=plt.xticks(xticks,rotation=90)\n",
    "\n",
    "plt.subplot(2,2,2)\n",
    "plt.title('SWEDEN absolute deaths age group 79, analytic vs Bayesian Infrence')\n",
    "plt.bar(analytic_strata_tot.index + width,analytic_strata_tot['a_79'],color='b',width=width,label='analytic')\n",
    "plt.bar(analytic_strata_tot.index - width,pymc_strata_tot['p_79'],color='r',width=width,label='Bayesian inference')\n",
    "plt.legend(loc='upper left')\n",
    "xticks = range(2001,2021)\n",
    "_=plt.xticks(xticks,rotation=90)\n",
    "\n",
    "plt.subplot(2,2,3)\n",
    "plt.title('SWEDEN absolute deaths age group 89, analytic vs Bayesian Infrence')\n",
    "plt.bar(analytic_strata_tot.index + width,analytic_strata_tot['a_89'],color='b',width=width,label='analytic')\n",
    "plt.bar(analytic_strata_tot.index - width,pymc_strata_tot['p_89'],color='r',width=width,label='Bayesian inference')\n",
    "plt.legend(loc='upper left')\n",
    "xticks = range(2001,2021)\n",
    "_=plt.xticks(xticks,rotation=90)\n",
    "\n",
    "plt.subplot(2,2,4)\n",
    "plt.title('SWEDEN absolute deaths age group 90+, analytic vs Bayesian Infrence')\n",
    "plt.bar(analytic_strata_tot.index + width,analytic_strata_tot['a_90+'],color='b',width=width,label='analytic')\n",
    "plt.bar(analytic_strata_tot.index - width,pymc_strata_tot['p_90+'],color='r',width=width,label='Bayesian inference')\n",
    "plt.legend(loc='upper left')\n",
    "xticks = range(2001,2021)\n",
    "_=plt.xticks(xticks,rotation=90)"
   ]
  },
  {
   "cell_type": "code",
   "execution_count": null,
   "metadata": {},
   "outputs": [],
   "source": [
    "width = 0.2\n",
    "plt.figure(figsize=(18,12))\n",
    "plt.subplot(2,2,1)\n",
    "plt.title('SWEDEN  deaths per capita age group 64, analytic vs Bayesian Infrence')\n",
    "plt.bar(analytic_deaths_per_capita.index + width,analytic_deaths_per_capita['a_64'],color='b',width=width,label='analytic')\n",
    "plt.bar(analytic_deaths_per_capita.index - width,pymc_deaths_per_capita['p_64'],color='r',width=width,label='Bayesian inference')\n",
    "plt.legend(loc='upper left')\n",
    "xticks = range(2001,2021)\n",
    "_=plt.xticks(xticks,rotation=90)\n",
    "\n",
    "plt.subplot(2,2,2)\n",
    "plt.title('SWEDEN deaths per capita age group 79, analytic vs Bayesian Infrence')\n",
    "plt.bar(analytic_deaths_per_capita.index + width,analytic_deaths_per_capita['a_79'],color='b',width=width,label='analytic')\n",
    "plt.bar(analytic_deaths_per_capita.index - width,pymc_deaths_per_capita['p_79'],color='r',width=width,label='Bayesian inference')\n",
    "plt.legend(loc='upper left')\n",
    "xticks = range(2001,2021)\n",
    "_=plt.xticks(xticks,rotation=90)\n",
    "\n",
    "plt.subplot(2,2,3)\n",
    "plt.title('SWEDEN deaths per capita age group 89, analytic vs Bayesian Infrence')\n",
    "plt.bar(analytic_deaths_per_capita.index + width,analytic_deaths_per_capita['a_89'],color='b',width=width,label='analytic')\n",
    "plt.bar(analytic_deaths_per_capita.index - width,pymc_deaths_per_capita['p_89'],color='r',width=width,label='Bayesian inference')\n",
    "plt.legend(loc='upper left')\n",
    "xticks = range(2001,2021)\n",
    "_=plt.xticks(xticks,rotation=90)\n",
    "\n",
    "plt.subplot(2,2,4)\n",
    "plt.title('SWEDEN deaths per capita age group 90+, analytic vs Bayesian Infrence')\n",
    "plt.bar(analytic_deaths_per_capita.index + width,analytic_deaths_per_capita['a_90+'],color='b',width=width,label='analytic')\n",
    "plt.bar(analytic_deaths_per_capita.index - width,pymc_deaths_per_capita['p_90+'],color='r',width=width,label='Bayesian inference')\n",
    "plt.legend(loc='upper left')\n",
    "xticks = range(2001,2021)\n",
    "_=plt.xticks(xticks,rotation=90)"
   ]
  }
 ],
 "metadata": {
  "kernelspec": {
   "display_name": "Python 3",
   "language": "python",
   "name": "python3"
  },
  "language_info": {
   "codemirror_mode": {
    "name": "ipython",
    "version": 3
   },
   "file_extension": ".py",
   "mimetype": "text/x-python",
   "name": "python",
   "nbconvert_exporter": "python",
   "pygments_lexer": "ipython3",
   "version": "3.6.9"
  }
 },
 "nbformat": 4,
 "nbformat_minor": 4
}
