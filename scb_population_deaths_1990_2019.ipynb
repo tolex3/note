{
 "cells": [
  {
   "cell_type": "code",
   "execution_count": null,
   "metadata": {},
   "outputs": [],
   "source": [
    "import numpy as np\n",
    "import matplotlib.pyplot as plt\n",
    "import seaborn as sns\n",
    "import pandas as pd\n",
    "\n",
    "sns.set()"
   ]
  },
  {
   "cell_type": "code",
   "execution_count": null,
   "metadata": {},
   "outputs": [],
   "source": [
    "##### PARAM #####\n",
    "last_complete_month = '2020-07-31'"
   ]
  },
  {
   "cell_type": "code",
   "execution_count": null,
   "metadata": {
    "scrolled": false
   },
   "outputs": [],
   "source": [
    "def date_parser(m):\n",
    "    eng_months = {'januari' : 'January',\n",
    "                 'februari' : 'February',\n",
    "                 'mars' : 'March',\n",
    "                 'april' : 'April',\n",
    "                 'maj' : 'May',\n",
    "                 'juni' : 'June',\n",
    "                 'juli' : 'July',\n",
    "                 'augusti' : 'August',\n",
    "                 'september' : 'September',\n",
    "                 'oktober' : 'October',\n",
    "                 'november' : 'November',\n",
    "                 'december' : 'December'}\n",
    "    \n",
    "    eng = eng_months[m]\n",
    "    \n",
    "    return pd.datetime.strptime(eng,'%B').date().strftime('%B')\n",
    "    \n",
    "    \n",
    "death_df = pd.read_csv('scb_dead_per_month.csv',encoding='ISO-8859-1')"
   ]
  },
  {
   "cell_type": "code",
   "execution_count": null,
   "metadata": {},
   "outputs": [],
   "source": [
    "death_df['månad'] = death_df['månad'].apply(date_parser)\n",
    "death_df['månad'] = pd.Categorical(death_df['månad'],['January','February','March','April','May','June',\n",
    "                                         'July','August','September','October','November','December'])"
   ]
  },
  {
   "cell_type": "code",
   "execution_count": null,
   "metadata": {},
   "outputs": [],
   "source": [
    "death_df"
   ]
  },
  {
   "cell_type": "code",
   "execution_count": null,
   "metadata": {},
   "outputs": [],
   "source": [
    "death_df = death_df.groupby('månad').sum()\n",
    "\n",
    "death_df"
   ]
  },
  {
   "cell_type": "code",
   "execution_count": null,
   "metadata": {},
   "outputs": [],
   "source": [
    "death_df.iloc[:,:].sum()"
   ]
  },
  {
   "cell_type": "code",
   "execution_count": null,
   "metadata": {
    "scrolled": false
   },
   "outputs": [],
   "source": [
    "scb_pop = pd.read_csv('scb_population.csv',encoding='ISO-8859-1')\n",
    "\n",
    "scb_pop"
   ]
  },
  {
   "cell_type": "code",
   "execution_count": null,
   "metadata": {},
   "outputs": [],
   "source": [
    "pd.set_option(\"display.precision\", 2)\n",
    "deaths_per_m = death_df / (scb_pop.loc[0,:] / 1e6)\n",
    "deaths_per_m = deaths_per_m.T\n",
    "deaths_per_m"
   ]
  },
  {
   "cell_type": "code",
   "execution_count": null,
   "metadata": {
    "scrolled": false
   },
   "outputs": [],
   "source": [
    "monthly_deaths = []\n",
    "\n",
    "for r,v in deaths_per_m.iterrows():\n",
    "    monthly_deaths.extend(v)\n",
    "    \n"
   ]
  },
  {
   "cell_type": "code",
   "execution_count": null,
   "metadata": {
    "scrolled": true
   },
   "outputs": [],
   "source": [
    "dates = pd.date_range('1990-01-01','2019-12-31',freq='M')\n",
    "dates"
   ]
  },
  {
   "cell_type": "code",
   "execution_count": null,
   "metadata": {},
   "outputs": [],
   "source": [
    "monthly_timeline = pd.DataFrame(data=monthly_deaths,index=dates,columns=['dead_per_million'])\n",
    "scb_1990_2019 = monthly_timeline.copy()"
   ]
  },
  {
   "cell_type": "code",
   "execution_count": null,
   "metadata": {},
   "outputs": [],
   "source": [
    "scb_pop.mean()['2015':'2019'].mean()"
   ]
  },
  {
   "cell_type": "code",
   "execution_count": null,
   "metadata": {},
   "outputs": [],
   "source": [
    "curr_pop = 10327589 #from scb.se for 2019-12-31\n",
    "\n",
    "scb_2020 = pd.read_csv('scb-dead_per_day.csv',sep=';')\n",
    "scb_2020 = scb_2020.groupby('Månad').sum()\n",
    "scb_2020['min_2015_2019'] = scb_2020[['2015','2016','2017','2018','2019']].min(axis=1)\n",
    "scb_2020['max_2015_2019'] = scb_2020[['2015','2016','2017','2018','2019']].max(axis=1)\n",
    "\n",
    "scb_2020 = scb_2020[['2020','2015-2019','min_2015_2019','max_2015_2019']]\n",
    "scb_2020_orig = scb_2020.copy()\n",
    "\n",
    "####\n",
    "# dividing all years 2015-2020 by 2020 population for consistency with scb_poisson\n",
    "####\n",
    "\n",
    "'''\n",
    "scb_2020[['2015-2019','min_2015_2019',\n",
    "          'max_2015_2019']] = scb_2020[['2015-2019','min_2015_2019',\n",
    "            'max_2015_2019']] / (scb_pop.mean()['2015':'2019'].mean()/1e6)\n",
    "'''\n",
    "\n",
    "scb_2020[['2015-2019','min_2015_2019',\n",
    "          'max_2015_2019']] = scb_2020[['2015-2019','min_2015_2019',\n",
    "            'max_2015_2019']] / (curr_pop/1e6)\n",
    "\n",
    "scb_2020 = pd.DataFrame(scb_2020)\n",
    "scb_2020.reset_index(inplace=True)\n",
    "\n",
    "scb_2020['Månad'] = pd.Categorical(scb_2020['Månad'],['januari','februari','mars','april','maj','juni',\n",
    "                                                      'juli','augusti','september','oktober','november','december'])\n",
    "\n",
    "\n",
    "scb_2020.sort_values('Månad',inplace=True)\n",
    "scb_2020.index = pd.date_range('2020-01-01','2020-12-31',freq='M')\n",
    "#scb_2020 = scb_2020.loc[:last_complete_month]\n",
    "scb_2020['2020'] = scb_2020['2020'] / (curr_pop/1e6)\n",
    "scb_2020.rename(columns={'2020' : 'dead_per_million'},inplace=True)\n",
    "scb_2020"
   ]
  },
  {
   "cell_type": "code",
   "execution_count": null,
   "metadata": {},
   "outputs": [],
   "source": [
    "scb_2020['dead_per_million'].cumsum() - scb_2020['2015-2019'].cumsum()"
   ]
  },
  {
   "cell_type": "code",
   "execution_count": null,
   "metadata": {},
   "outputs": [],
   "source": [
    "monthly_timeline"
   ]
  },
  {
   "cell_type": "code",
   "execution_count": null,
   "metadata": {},
   "outputs": [],
   "source": [
    "monthly_timeline.loc[:'2019-12-31','dead_per_million'].plot(figsize=(18,12))\n",
    "plt.plot(scb_2020.loc[:last_complete_month,'dead_per_million'],color='r')"
   ]
  },
  {
   "cell_type": "code",
   "execution_count": null,
   "metadata": {},
   "outputs": [],
   "source": [
    "scb_2020"
   ]
  },
  {
   "cell_type": "code",
   "execution_count": null,
   "metadata": {
    "scrolled": false
   },
   "outputs": [],
   "source": [
    "monthly_timeline = pd.concat([monthly_timeline['dead_per_million'],scb_2020['dead_per_million']],axis=0)\n",
    "monthly_timeline"
   ]
  },
  {
   "cell_type": "code",
   "execution_count": null,
   "metadata": {},
   "outputs": [],
   "source": [
    "two_thousands_rank = monthly_timeline.rank(ascending=False).sort_values()\n",
    "two_thousands_rank = two_thousands_rank.loc['2000-01-01':]\n",
    "two_thousands_rank.plot(figsize=(18,12),style=['o--'])\n",
    "plt.ylabel('rank')"
   ]
  },
  {
   "cell_type": "code",
   "execution_count": null,
   "metadata": {},
   "outputs": [],
   "source": [
    "monthly_timeline = pd.DataFrame(monthly_timeline.sort_values(ascending=False))\n",
    "monthly_timeline['rank'] = range(1,len(monthly_timeline) + 1)\n",
    "monthly_timeline.head(50)"
   ]
  },
  {
   "cell_type": "code",
   "execution_count": null,
   "metadata": {},
   "outputs": [],
   "source": [
    "mean = monthly_timeline.mean()\n",
    "mean"
   ]
  },
  {
   "cell_type": "code",
   "execution_count": null,
   "metadata": {},
   "outputs": [],
   "source": [
    "monthly_timeline.loc[last_complete_month]"
   ]
  },
  {
   "cell_type": "code",
   "execution_count": null,
   "metadata": {},
   "outputs": [],
   "source": [
    "top_20 = pd.DataFrame(monthly_timeline[:20])\n",
    "top_20"
   ]
  },
  {
   "cell_type": "code",
   "execution_count": null,
   "metadata": {
    "scrolled": false
   },
   "outputs": [],
   "source": [
    "colors = ['b'] * 18 # must set colors after seeing which place they fall onto\n",
    "colors.append('r')\n",
    "colors.append('b')\n",
    "print (colors)\n",
    "top_20.index = top_20.index.date\n",
    "top_20['dead_per_million'].plot(kind='bar',\n",
    "                                figsize=(18,12),\n",
    "                                color=colors,\n",
    "                                title='SWEDEN - Top-20 deadliest months January 1990 - May 2020\\nDataSource: SCB.se')\n",
    "plt.ylabel('deaths per million')\n",
    "plt.axhline(mean['dead_per_million'],color='orange',ls='dashed',label='average 1990-2019')\n",
    "plt.legend(loc='upper right')\n",
    "plt.savefig('scb_population_deaths_1990-2020.jpg',format='jpg')"
   ]
  },
  {
   "cell_type": "code",
   "execution_count": null,
   "metadata": {},
   "outputs": [],
   "source": [
    "\n",
    "scb_1990_2019"
   ]
  },
  {
   "cell_type": "code",
   "execution_count": null,
   "metadata": {},
   "outputs": [],
   "source": [
    "scb_1990_2020 = pd.DataFrame(pd.concat([scb_1990_2019['dead_per_million'],scb_2020['dead_per_million']],axis=0))\n",
    "scb_1990_2020"
   ]
  },
  {
   "cell_type": "code",
   "execution_count": null,
   "metadata": {},
   "outputs": [],
   "source": [
    "scb_1990_2020['year'] = scb_1990_2020.index.year\n",
    "scb_1990_2020['month'] = scb_1990_2020.index.month"
   ]
  },
  {
   "cell_type": "code",
   "execution_count": null,
   "metadata": {},
   "outputs": [],
   "source": [
    "scb_1990_2020.tail(20)"
   ]
  },
  {
   "cell_type": "code",
   "execution_count": null,
   "metadata": {},
   "outputs": [],
   "source": [
    "month_grp = scb_1990_2020[:'2019-12-31'].groupby('month')['dead_per_million'].agg(['min','mean','max'])\n",
    "print (month_grp.head(12))\n",
    "scb_2020\n"
   ]
  },
  {
   "cell_type": "code",
   "execution_count": null,
   "metadata": {},
   "outputs": [],
   "source": [
    "scb_2020['excess'] = scb_2020['dead_per_million'] - scb_2020['2015-2019']\n",
    "scb_2020"
   ]
  },
  {
   "cell_type": "code",
   "execution_count": null,
   "metadata": {},
   "outputs": [],
   "source": [
    "excess = scb_2020.set_index(scb_2020.index.month).join(month_grp['mean'])\n",
    "excess.drop(['min_2015_2019','max_2015_2019'],axis=1,inplace=True)\n"
   ]
  },
  {
   "cell_type": "code",
   "execution_count": null,
   "metadata": {
    "scrolled": false
   },
   "outputs": [],
   "source": [
    "excess.rename(columns={'mean' : '1990-2019_mean'}, inplace=True)\n",
    "excess['excess_1990_baseline'] = excess['dead_per_million'] - excess['1990-2019_mean']\n",
    "excess['excess_2015_baseline'] = excess['dead_per_million'] - excess['2015-2019']\n",
    "excess['cumulative_excess_vs_1990-2019'] = excess['excess_1990_baseline'].cumsum()\n",
    "excess['cumulative_excess_vs_2015-2019'] = excess['excess_2015_baseline'].cumsum()\n",
    "excess['date'] = pd.date_range('2020-01-01','2020-12-31',freq='M')\n",
    "\n",
    "excess[:pd.Timestamp(last_complete_month).date().month].plot(kind='bar',figsize=(18,12),\n",
    "                                                             title=('Sweden Excess Deaths 2020, baselines 1990-2019 & 2015-2019'),\n",
    "                                                             y=['cumulative_excess_vs_1990-2019',\n",
    "                                                               'cumulative_excess_vs_2015-2019'],color=['orange','red'])\n",
    "plt.ylabel('Excess Deaths per Million')\n",
    "plt.xlabel('Month')\n",
    "excess"
   ]
  },
  {
   "cell_type": "code",
   "execution_count": null,
   "metadata": {
    "scrolled": false
   },
   "outputs": [],
   "source": [
    "foo_2020 = pd.read_csv('scb-dead_per_day.csv',sep=';')\n",
    "foo_2020.drop(['DagMånad','-','Sort','Unnamed: 12','Unnamed: 13','Dag'],axis=1,inplace=True)\n",
    "foo_2020['Månad'] = foo_2020['Månad'].apply(date_parser)\n",
    "foo_2020['Månad'] = pd.Categorical(foo_2020['Månad'],['January','February','March','April','May','June',\n",
    "                                         'July','August','September','October','November','December'])\n",
    "foo_2020 = foo_2020.groupby('Månad').sum()\n",
    "foo_2020['excess'] = foo_2020['2020'] - foo_2020['2015-2019']\n",
    "foo_2020['excess_per_M'] = foo_2020['excess'] /(curr_pop / 1e6)\n",
    "foo_2020['2020_cum'] = foo_2020['2020'].cumsum()\n",
    "foo_2020['2015-2019_cum'] = foo_2020['2015-2019'].cumsum()\n",
    "foo_2020['excess_cum'] = foo_2020['2020_cum'] - foo_2020['2015-2019_cum']\n",
    "foo_2020.drop(['2015','2016','2017','2018','2019'],inplace=True,axis=1)\n",
    "foo_2020['2020_per_M'] = foo_2020['2020'] / (curr_pop /1e6)\n",
    "foo_2020['2015-2019_per_M'] = foo_2020['2015-2019'] / (curr_pop / 1e6)\n",
    "foo_2020['2020_per_M_cum'] = foo_2020['2020_per_M'].cumsum()\n",
    "foo_2020['2015-2019_per_M_cum'] = foo_2020['2015-2019_per_M'].cumsum()\n",
    "foo_2020['excess_per_M_cum'] = foo_2020['2020_per_M_cum'] - foo_2020['2015-2019_per_M_cum']\n",
    "foo_2020\n"
   ]
  },
  {
   "cell_type": "code",
   "execution_count": null,
   "metadata": {
    "scrolled": false
   },
   "outputs": [],
   "source": [
    "scb_2020['month'] = scb_2020.index.month \n",
    "\n",
    "plt.figure(figsize=(18,12))\n",
    "plt.title('Sweden Monthly Deaths per million, adjusted for population - All Causes\\nDataSource:SCB.se')\n",
    "ax = plt.gca()\n",
    "ax2 = plt.twinx()\n",
    "\n",
    "ax.plot(month_grp['mean'],'o--',label='Monthly Average 1990-2019')\n",
    "#ax.plot(scb_2020['month'],scb_2020['2015-2019'],'o--',color='k',label='Monthly Average 2015-2019')\n",
    "#plt.fill_between(scb_2020['month'],scb_2020['min_2015_2019'],scb_2020['max_2015_2019'],color='m',alpha=0.3,label='2015-2019 range')\n",
    "\n",
    "ax.fill_between(month_grp.index,month_grp['min'],month_grp['max'],color='c',alpha=0.3,label='1990-2019 range')\n",
    "\n",
    "ax.plot(scb_2020['month'][:last_complete_month],scb_2020['dead_per_million'][:last_complete_month],'o--',color='crimson',label='2020')\n",
    "ax.legend(loc='upper left')\n",
    "ax.set_xlabel('month')\n",
    "ax.set_ylabel('dead per million')\n",
    "\n",
    "#ax2.plot(excess['cum_vs_2015'][:pd.Timestamp(last_complete_month).month],'o--',\n",
    "         #color='orange',label='Excess deaths cmp 2015-2019')\n",
    "\n",
    "ax2.plot(excess['cumulative_excess_vs_1990-2019'][:pd.Timestamp(last_complete_month).month],'o--',\n",
    "         color='orange',label='Excess deaths cmp 1990-2019\\nNOTE!! AXIS VALUES ARE NEGATIVE!')\n",
    "\n",
    "ax2.set_ylabel('Cumulative Excess Deaths per Million')\n",
    "#ax2.set_ylim([-400,10])\n",
    "ax2.legend(loc='upper right')\n",
    "\n",
    "xticks = ['Jan','Feb','Mar','Apr','May','Jun','Jul','Aug','Sep','Oct','Nov','Dec']\n",
    "_=plt.xticks(month_grp.index,xticks)\n",
    "plt.savefig('scb_monthly_deaths_all_cmp_1990_2019.jpg',format='jpg')"
   ]
  },
  {
   "cell_type": "code",
   "execution_count": null,
   "metadata": {},
   "outputs": [],
   "source": [
    "plt.figure(figsize=(18,12))\n",
    "plt.title('Sweden Monthly Deaths per million, adjusted for population - All Causes\\nDataSource:SCB.se')\n",
    "ax = plt.gca()\n",
    "ax2 = plt.twinx()\n",
    "\n",
    "#ax.plot(month_grp['mean'],'o--',label='Monthly Average 1990-2019')\n",
    "ax.plot(scb_2020['month'],scb_2020['2015-2019'],'o--',color='b',label='Monthly Average 2015-2019')\n",
    "ax.fill_between(scb_2020['month'],scb_2020['min_2015_2019'],scb_2020['max_2015_2019'],color='c',alpha=0.3,label='2015-2019 range')\n",
    "\n",
    "#ax.fill_between(month_grp.index,month_grp['min'],month_grp['max'],color='c',alpha=0.3,label='1990-2019 range')\n",
    "\n",
    "ax.plot(scb_2020['month'][:last_complete_month],scb_2020['dead_per_million'][:last_complete_month],'o--',color='crimson',label='2020')\n",
    "ax.legend(loc='upper left')\n",
    "ax.set_xlabel('month')\n",
    "ax.set_ylabel('dead per million')\n",
    "\n",
    "#ax2.plot(excess['cum_vs_2015'][:pd.Timestamp(last_complete_month).month],'o--',\n",
    "         #color='orange',label='Excess deaths cmp 2015-2019')\n",
    "\n",
    "ax2.plot(excess['cumulative_excess_vs_2015-2019'][:pd.Timestamp(last_complete_month).month],'o--',\n",
    "         color='orange',label='Excess deaths cmp 2015-2019')\n",
    "\n",
    "ax2.set_ylabel('Cumulative Excess Deaths per Million')\n",
    "ax2.legend(loc='upper right')\n",
    "\n",
    "xticks = ['Jan','Feb','Mar','Apr','May','Jun','Jul','Aug','Sep','Oct','Nov','Dec']\n",
    "_=plt.xticks(month_grp.index,xticks)\n",
    "plt.savefig('scb_monthly_deaths_all_cmp_2015-2019.jpg',format='jpg')"
   ]
  },
  {
   "cell_type": "code",
   "execution_count": null,
   "metadata": {},
   "outputs": [],
   "source": [
    "scb_2020_monthly = scb_2020.set_index('month')\n",
    "print (scb_2020_monthly)\n",
    "\n",
    "mean_1990_2019 = month_grp.loc[:pd.Timestamp(last_complete_month).month]\n",
    "print (mean_1990_2019)\n",
    "monthly_excess = scb_2020_monthly['dead_per_million'] - mean_1990_2019['mean']\n",
    "print (monthly_excess)\n",
    "print (monthly_excess.cumsum())"
   ]
  },
  {
   "cell_type": "code",
   "execution_count": null,
   "metadata": {},
   "outputs": [],
   "source": [
    "pd.Timestamp(last_complete_month).month"
   ]
  },
  {
   "cell_type": "code",
   "execution_count": null,
   "metadata": {},
   "outputs": [],
   "source": [
    "mask = scb_1990_2020.index.month.isin(range(1,pd.Timestamp(last_complete_month).month + 1))\n",
    "first_months = scb_1990_2020[mask]['dead_per_million']\n",
    "first_cum = first_months.groupby(first_months.index.year).sum()\n",
    "first_cum"
   ]
  },
  {
   "cell_type": "code",
   "execution_count": null,
   "metadata": {},
   "outputs": [],
   "source": [
    "first_cum.plot(kind='bar',figsize=(18,12),color='orange',\n",
    "               title='SWEDEN cumulative deaths per million Jan 1:st - {} last,1990-2020\\nDataSource:SCB.se'.format(\n",
    "                   pd.Timestamp(last_complete_month).month_name()))\n",
    "plt.ylabel('deaths per million')\n",
    "plt.savefig('scb_deaths_jan_may_unsorted.jpg'.format('jpg'))"
   ]
  },
  {
   "cell_type": "code",
   "execution_count": null,
   "metadata": {},
   "outputs": [],
   "source": [
    "colors = ['orange'] * 23\n",
    "colors.append('crimson')\n",
    "color_tail = ['orange'] * 7\n",
    "colors.extend(color_tail)\n",
    "\n",
    "print (colors)\n",
    "first_cum.sort_values(ascending=False).plot(kind='bar',figsize=(18,12),\n",
    "                                            title='SWEDEN cumulative deaths per million Jan 1:st - {} last,1990-2020\\nDataSource:SCB.se'.format(\n",
    "                   pd.Timestamp(last_complete_month).month_name()),\n",
    "                                            color=colors)\n",
    "plt.ylabel('deaths per million')\n",
    "plt.savefig('scb_deaths_jan_may_sorted.jpg',format='jpg')"
   ]
  },
  {
   "cell_type": "code",
   "execution_count": null,
   "metadata": {},
   "outputs": [],
   "source": []
  },
  {
   "cell_type": "code",
   "execution_count": null,
   "metadata": {
    "scrolled": false
   },
   "outputs": [],
   "source": [
    "by_month = first_months.groupby(first_months.index.month)\n",
    "month_stats =[]\n",
    "\n",
    "for month in range (1,pd.Timestamp(last_complete_month).month + 1):\n",
    "    m = by_month.get_group(month)\n",
    "    month_stats.append(m.agg(['min','mean','max']).values)\n",
    "    \n",
    "month_stats = pd.DataFrame(data=np.array(month_stats),\n",
    "                           index=range(1,pd.Timestamp(last_complete_month).month + 1),\n",
    "                           columns=['mini','mean','maxi'])\n",
    "\n",
    "month_stats.index.name='month'\n",
    "month_stats"
   ]
  },
  {
   "cell_type": "code",
   "execution_count": null,
   "metadata": {
    "scrolled": false
   },
   "outputs": [],
   "source": [
    "from matplotlib import cm\n",
    "\n",
    "first_cumsum = first_months.groupby(first_months.index.year).cumsum()\n",
    "bar = first_cumsum.groupby(first_cumsum.index.year)\n",
    "\n",
    "plt.figure(figsize=(18,12))\n",
    "plt.title('SWEDEN cumulative monthly deaths per million, 1990-2020, Jan 1st to {} last'.format(\n",
    "    pd.Timestamp(last_complete_month).month_name()))\n",
    "\n",
    "for k in bar.groups.keys():\n",
    "    plt.plot(bar.get_group(k),'ro--')\n",
    "    \n",
    "plt.ylabel('cumulative deaths per million')"
   ]
  },
  {
   "cell_type": "code",
   "execution_count": null,
   "metadata": {},
   "outputs": [],
   "source": [
    "first_months"
   ]
  },
  {
   "cell_type": "code",
   "execution_count": null,
   "metadata": {
    "scrolled": false
   },
   "outputs": [],
   "source": [
    "first_sum = first_months.groupby(first_months.index.year)\n",
    "\n",
    "month_names = {1:'Jan',2:'Feb',3:'Mar',4:'Apr',5:'May',6:'Jun',\n",
    "              7:'Jul',8:'Aug',9:'Sep',10:'Oct',11:'Nov',12:'Dec'}\n",
    "\n",
    "years = dict()\n",
    "\n",
    "for k in first_sum.groups.keys():\n",
    "    years[k] = first_sum.get_group(k).values\n",
    "    \n",
    "years = pd.DataFrame(years).T\n",
    "num_months = range(1,pd.Timestamp(last_complete_month).month + 1)\n",
    "years.columns= num_months\n",
    "\n",
    "years.rename(columns=month_names,inplace=True)\n",
    "\n",
    "years.columns.name = 'month'\n",
    "years.index.name = 'year'\n",
    "years_per_M = years\n",
    "\n"
   ]
  },
  {
   "cell_type": "code",
   "execution_count": null,
   "metadata": {},
   "outputs": [],
   "source": [
    "years_1990_2019_mean = years.loc[1990:2019].mean().sum()\n",
    "years_2015_2019_mean = years.loc[2015:2019].mean().sum()\n",
    "print (years_1990_2019_mean)\n",
    "print (years_2015_2019_mean)\n",
    "years"
   ]
  },
  {
   "cell_type": "code",
   "execution_count": null,
   "metadata": {},
   "outputs": [],
   "source": [
    "\n",
    "\n",
    "years.plot(kind='bar',stacked=True,figsize=(18,12),\n",
    "          title='Sweden1990-2020 : Deaths per million : All Causes : January to {}\\nDataSource:SCB.se'.format(\n",
    "              pd.Timestamp(last_complete_month).month_name()))\n",
    "\n",
    "plt.axhline(years_1990_2019_mean,ls='dashed',color='crimson',label='1990-2019 average')\n",
    "plt.axhline(years_2015_2019_mean,ls='dashed',color='orange',label='2015-2019 average')\n",
    "\n",
    "plt.ylabel('Nr dead per million')\n",
    "\n",
    "plt.legend(framealpha=0.1, loc='best')\n",
    "plt.savefig('scb_deaths_per_M_per_month_1990_2020.jpg',format='jpg')"
   ]
  },
  {
   "cell_type": "code",
   "execution_count": null,
   "metadata": {},
   "outputs": [],
   "source": [
    "plt.figure(figsize=(18,12))\n",
    "for month in years.columns:\n",
    "    \n",
    "    plt.plot(years.index,years[month],'o--',label=month)\n",
    "    \n",
    "plt.legend(loc='upper right')\n"
   ]
  },
  {
   "cell_type": "code",
   "execution_count": null,
   "metadata": {
    "scrolled": false
   },
   "outputs": [],
   "source": [
    "scatter_scale_factor = 100\n",
    "#years = years[:10]\n",
    "years = years / scatter_scale_factor\n",
    "\n",
    "colors =['r','b','g','yellow','orange'] * 6\n",
    "colors.append('crimson')\n",
    "\n",
    "plt.figure(figsize=(18,12))\n",
    "plt.title('Sweden : Deaths per 10.000 January - {} 1990 - 2020\\nDataSource:SCB.se'.format(\n",
    "    pd.Timestamp(last_complete_month).month_name()))\n",
    "plt.grid(True)\n",
    "\n",
    "for r in range(len(years.index)):\n",
    "    for c in range(len(years.columns) ):\n",
    "        ndots = int(np.round(years.iloc[r,c]))\n",
    "        \n",
    "        \n",
    "        for i in range (0,ndots):\n",
    "            rr = 0.1 + r + 0.8 * np.random.random()\n",
    "            cc = 0.1 + c + 0.8 * np.random.random()\n",
    "            \n",
    "            plt.scatter(cc,rr,color = colors[r])\n",
    "\n",
    "yticks = range(1990,2022)\n",
    "\n",
    "random_labels = list('ABCDEFGHIJKLMNOPQRSTUVXYZ')\n",
    "random_labels.extend(('AA','BB','CC','DD','EE','FF'))\n",
    "#yticks = random_labels\n",
    "\n",
    "plt.yticks(range(len(years) + 1),yticks)\n",
    "\n",
    "month_names = ['Jan','Feb','Mar','Apr','May','Jun']\n",
    "plt.xticks(range(len(years.columns) + 1),month_names)\n",
    "\n",
    "plt.ylabel('year')\n",
    "plt.xlabel('month')\n",
    "print (years)\n",
    "plt.savefig('scb_1990_2019_deaths_scatter.jpg',format='jpg')\n"
   ]
  },
  {
   "cell_type": "code",
   "execution_count": null,
   "metadata": {},
   "outputs": [],
   "source": []
  },
  {
   "cell_type": "code",
   "execution_count": null,
   "metadata": {},
   "outputs": [],
   "source": [
    "print (years)\n",
    "deaths_per_month = years.sum(axis=0)\n",
    "\n",
    "\n",
    "deaths_per_year = years.sum(axis=1) \n",
    "\n",
    "print (deaths_per_month)\n",
    "print (deaths_per_year)"
   ]
  },
  {
   "cell_type": "code",
   "execution_count": null,
   "metadata": {},
   "outputs": [],
   "source": [
    "deaths_per_year.plot(kind='barh',title='Sweden deaths per 10.000 Jan - {} 1990-2020'.format(\n",
    "    pd.Timestamp(last_complete_month).month_name()),color='orange',\n",
    "                     figsize=(18,12))\n",
    "\n",
    "plt.xlabel('deaths per 10.000')\n",
    "plt.ylabel('year')"
   ]
  },
  {
   "cell_type": "code",
   "execution_count": null,
   "metadata": {
    "scrolled": false
   },
   "outputs": [],
   "source": [
    "years = years_per_M\n",
    "print (years[:-1])\n",
    "\n",
    "average_2015_2019 = years.loc[2015:2019].mean()\n",
    "print (average_2015_2019)\n",
    "monthly_average = years[:-1].mean()\n",
    "print (monthly_average)\n",
    "monthly_percentiles = years[:-1].quantile(1,axis=0)\n",
    "monthly_percentiles\n"
   ]
  },
  {
   "cell_type": "code",
   "execution_count": null,
   "metadata": {},
   "outputs": [],
   "source": [
    "fhm_dead = pd.read_csv('fhm_scb_dead.csv',sep=';',header=0,index_col=0,parse_dates=True,names=['fhm_dead'])\n",
    "fhm_dead\n"
   ]
  },
  {
   "cell_type": "code",
   "execution_count": null,
   "metadata": {},
   "outputs": [],
   "source": [
    "fhm_monthly = fhm_dead.groupby(fhm_dead.index.month).sum()\n",
    "fhm_monthly['fhm_dead_per_M'] = fhm_monthly['fhm_dead'] / (curr_pop / 1e6)\n",
    "fhm_monthly.at[1,:] = [0,0]\n",
    "fhm_monthly.at[2,:] = [0,0]\n",
    "fhm_monthly.sort_index(inplace=True)\n",
    "fhm_monthly"
   ]
  },
  {
   "cell_type": "code",
   "execution_count": null,
   "metadata": {},
   "outputs": [],
   "source": [
    "scb_dead_2020_per_M = pd.DataFrame(years.loc[2020].copy())\n",
    "scb_dead_2020_per_M['month_nr'] = range(1,len(scb_dead_2020_per_M) + 1)\n",
    "scb_dead_2020_per_M.reset_index(inplace=True)\n",
    "scb_dead_2020_per_M.set_index('month_nr',inplace=True)\n",
    "scb_dead_2020_per_M"
   ]
  },
  {
   "cell_type": "code",
   "execution_count": null,
   "metadata": {},
   "outputs": [],
   "source": [
    "all_deaths = scb_dead_2020_per_M.join(fhm_monthly)\n",
    "all_deaths.rename(columns={2020 : 'scb_dead_per_M',\n",
    "                          'fhm_dead_per_M' : 'covid_deaths_per_M'},inplace=True)\n",
    "all_deaths['other_deaths_per_M'] = all_deaths['scb_dead_per_M'] - all_deaths['covid_deaths_per_M']\n",
    "all_deaths['pct_covid_deaths'] = all_deaths['covid_deaths_per_M'] / all_deaths['scb_dead_per_M'] * 100\n",
    "all_deaths['pct_other_deaths'] = all_deaths['other_deaths_per_M'] / all_deaths['scb_dead_per_M'] * 100\n",
    "all_deaths"
   ]
  },
  {
   "cell_type": "code",
   "execution_count": null,
   "metadata": {},
   "outputs": [],
   "source": [
    "all_deaths.plot(title='SWEDEN COVID-19 deaths vs OTHER deaths Jan - {} 2020\\nDataSource: SCB.se, FHM'.format(\n",
    "    pd.Timestamp(last_complete_month).month_name()),\n",
    "                kind='bar',x='month',color=['r','orange'],\n",
    "                y=['covid_deaths_per_M','other_deaths_per_M'],stacked=True,figsize=(18,12))\n",
    "\n",
    "plt.ylabel('Total deaths per million')\n",
    "plt.plot(monthly_average.index,monthly_average,'o--',label='monthly average 1990-2019',color='red')\n",
    "plt.plot(average_2015_2019.index,average_2015_2019,'o--',label='monthly average 2015-2019',color='k')\n",
    "\n",
    "plt.legend(loc='upper right')\n",
    "plt.savefig('scb_fhm_covid_vs_other_abs.jpg',format='jpg')"
   ]
  },
  {
   "cell_type": "code",
   "execution_count": null,
   "metadata": {
    "scrolled": false
   },
   "outputs": [],
   "source": [
    "average_2015_2019"
   ]
  },
  {
   "cell_type": "code",
   "execution_count": null,
   "metadata": {},
   "outputs": [],
   "source": [
    "all_deaths.plot(title='SWEDEN : Percent COVID-19 deaths vs OTHER deaths Jan - {} 2020\\nDataSource: SCB.se, FHM'.format(\n",
    "    pd.Timestamp(last_complete_month).month_name()),\n",
    "                kind='bar',x='month',color=['r','orange'],\n",
    "                y=['pct_covid_deaths','pct_other_deaths'],stacked=True,figsize=(18,12))\n",
    "\n",
    "plt.ylabel('Percent')\n",
    "plt.savefig('scb_fhm_covid_vs_other_rel.jpg',format='jpg')"
   ]
  },
  {
   "cell_type": "code",
   "execution_count": null,
   "metadata": {},
   "outputs": [],
   "source": [
    "print (years.min())\n",
    "print (years.max())\n",
    "print (years)\n"
   ]
  },
  {
   "cell_type": "code",
   "execution_count": null,
   "metadata": {},
   "outputs": [],
   "source": [
    "years.sum(axis=1).sort_values(ascending=False)"
   ]
  },
  {
   "cell_type": "code",
   "execution_count": null,
   "metadata": {},
   "outputs": [],
   "source": [
    "cum_mean_2015_2019 = years.sum(axis=1)\n",
    "cum_mean_2015_2019 = cum_mean_2015_2019.loc[2015:2020].mean()\n",
    "print (cum_mean_2015_2019)\n",
    "\n",
    "cum_mean_1990_2019 = years.sum(axis=1)\n",
    "cum_mean_1990_2019 = cum_mean_1990_2019.loc[1990:2020].mean()\n",
    "print (cum_mean_1990_2019)\n",
    "\n",
    "print (years.loc[2020].sum())"
   ]
  },
  {
   "cell_type": "code",
   "execution_count": null,
   "metadata": {},
   "outputs": [],
   "source": [
    "scb_2020_copy = scb_2020_orig.copy()\n",
    "scb_2020_copy.reset_index(inplace=True)\n",
    "#scb_2020_copy['Månad'] = scb_2020_copy['Månad'].apply(date_parser)\n",
    "\n",
    "\n",
    "scb_2020_copy['Månad'] = pd.Categorical(scb_2020_copy['Månad'],['januari','februari','mars','april','maj','juni',\n",
    "                                                      'juli','augusti','september','oktober','november','december'])\n",
    "\n",
    "scb_2020_copy.sort_values('Månad',inplace=True)\n",
    "scb_2020_copy.drop(['min_2015_2019','max_2015_2019'],axis=1,inplace=True)\n",
    "\n",
    "scb_2020_copy['excess_2015'] = scb_2020_copy['2020'] - scb_2020_copy['2015-2019']\n",
    "scb_2020_copy['excess_2015_cum'] = scb_2020_copy['excess_2015'].cumsum()\n",
    "scb_2020_copy['2020_cum'] = scb_2020_copy['2020'].cumsum()\n",
    "scb_2020_copy['2020_per_M'] = scb_2020_copy['2020'] / (curr_pop / 1e6)\n",
    "scb_2020_copy['2020_per_M_cum'] = scb_2020_copy['2020_per_M'].cumsum()\n",
    "scb_2020_copy['excess_2015_per_M'] = scb_2020_copy['excess_2015'] / (curr_pop / 1e6)\n",
    "scb_2020_copy['excess_2015_per_M_cum'] = scb_2020_copy['excess_2015_per_M'].cumsum()\n",
    "scb_2020_copy"
   ]
  },
  {
   "cell_type": "code",
   "execution_count": null,
   "metadata": {},
   "outputs": [],
   "source": [
    "mean_1990_2019 = scb_1990_2019.groupby(scb_1990_2019.index.month).mean()\n",
    "mean_1990_2019.index = scb_2020_copy.index\n",
    "\n",
    "scb_2020_copy['1990-2019'] = mean_1990_2019\n",
    "mean_1990_2019"
   ]
  },
  {
   "cell_type": "code",
   "execution_count": null,
   "metadata": {},
   "outputs": [],
   "source": [
    "scb_2020_copy['excess_1990_per_M'] = scb_2020_copy['2020_per_M'] - scb_2020_copy['1990-2019']\n",
    "scb_2020_copy['excess_1990_per_M_cum'] = scb_2020_copy['excess_1990_per_M'].cumsum()\n",
    "scb_2020_copy.set_index('Månad',inplace=True)\n",
    "scb_2020_copy"
   ]
  },
  {
   "cell_type": "code",
   "execution_count": null,
   "metadata": {},
   "outputs": [],
   "source": [
    "scb_2020_copy[['excess_2015_per_M_cum',\n",
    "               'excess_1990_per_M_cum']][:'juli'].plot(\n",
    "    kind='bar',color=['r','orange'],\n",
    "    title='Sweden Cumulative Excess Death 2020 Y2D, baseline: averages 2015-2019 & 1990-2019\\nDataSource:SCB.se',\n",
    "figsize=(18,12))\n",
    "\n",
    "plt.ylabel('Cumulative Excess deaths per million')\n",
    "plt.legend(['cmp to 2015-2019 average','cmp to 1990-2019 average'],loc='upper left')\n",
    "plt.savefig('excess_deaths_cumulative.jpg',format='jpg',dpi='figure')"
   ]
  }
 ],
 "metadata": {
  "kernelspec": {
   "display_name": "Python 3",
   "language": "python",
   "name": "python3"
  },
  "language_info": {
   "codemirror_mode": {
    "name": "ipython",
    "version": 3
   },
   "file_extension": ".py",
   "mimetype": "text/x-python",
   "name": "python",
   "nbconvert_exporter": "python",
   "pygments_lexer": "ipython3",
   "version": "3.6.9"
  }
 },
 "nbformat": 4,
 "nbformat_minor": 4
}
