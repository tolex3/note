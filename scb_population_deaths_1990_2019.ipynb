{
 "cells": [
  {
   "cell_type": "code",
   "execution_count": null,
   "metadata": {},
   "outputs": [],
   "source": [
    "import numpy as np\n",
    "import matplotlib.pyplot as plt\n",
    "import seaborn as sns\n",
    "import pandas as pd\n",
    "\n",
    "sns.set()"
   ]
  },
  {
   "cell_type": "code",
   "execution_count": null,
   "metadata": {
    "scrolled": false
   },
   "outputs": [],
   "source": [
    "def date_parser(m):\n",
    "    eng_months = {'januari' : 'January',\n",
    "                 'februari' : 'February',\n",
    "                 'mars' : 'March',\n",
    "                 'april' : 'April',\n",
    "                 'maj' : 'May',\n",
    "                 'juni' : 'June',\n",
    "                 'juli' : 'July',\n",
    "                 'augusti' : 'August',\n",
    "                 'september' : 'September',\n",
    "                 'oktober' : 'October',\n",
    "                 'november' : 'November',\n",
    "                 'december' : 'December'}\n",
    "    \n",
    "    eng = eng_months[m]\n",
    "    \n",
    "    return pd.datetime.strptime(eng,'%B').date().strftime('%B')\n",
    "    \n",
    "    \n",
    "death_df = pd.read_csv('scb_dead_per_month.csv',encoding='ISO-8859-1')"
   ]
  },
  {
   "cell_type": "code",
   "execution_count": null,
   "metadata": {},
   "outputs": [],
   "source": [
    "death_df['månad'] = death_df['månad'].apply(date_parser)\n",
    "death_df['månad'] = pd.Categorical(death_df['månad'],['January','February','March','April','May','June',\n",
    "                                         'July','August','September','October','November','December'])"
   ]
  },
  {
   "cell_type": "code",
   "execution_count": null,
   "metadata": {},
   "outputs": [],
   "source": [
    "death_df"
   ]
  },
  {
   "cell_type": "code",
   "execution_count": null,
   "metadata": {},
   "outputs": [],
   "source": [
    "death_df = death_df.groupby('månad').sum()\n",
    "\n",
    "death_df"
   ]
  },
  {
   "cell_type": "code",
   "execution_count": null,
   "metadata": {
    "scrolled": false
   },
   "outputs": [],
   "source": [
    "scb_pop = pd.read_csv('scb_population.csv',encoding='ISO-8859-1')\n",
    "\n",
    "scb_pop"
   ]
  },
  {
   "cell_type": "code",
   "execution_count": null,
   "metadata": {},
   "outputs": [],
   "source": [
    "pd.set_option(\"display.precision\", 2)\n",
    "deaths_per_m = death_df / (scb_pop.loc[0,:] / 1e6)\n",
    "deaths_per_m = deaths_per_m.T\n",
    "deaths_per_m"
   ]
  },
  {
   "cell_type": "code",
   "execution_count": null,
   "metadata": {
    "scrolled": false
   },
   "outputs": [],
   "source": [
    "monthly_deaths = []\n",
    "\n",
    "for r,v in deaths_per_m.iterrows():\n",
    "    monthly_deaths.extend(v)\n",
    "    \n"
   ]
  },
  {
   "cell_type": "code",
   "execution_count": null,
   "metadata": {
    "scrolled": true
   },
   "outputs": [],
   "source": [
    "dates = pd.date_range('1990-01-01','2019-12-31',freq='M')\n",
    "dates"
   ]
  },
  {
   "cell_type": "code",
   "execution_count": null,
   "metadata": {},
   "outputs": [],
   "source": [
    "monthly_timeline = pd.DataFrame(data=monthly_deaths,index=dates,columns=['dead_per_million'])"
   ]
  },
  {
   "cell_type": "code",
   "execution_count": null,
   "metadata": {},
   "outputs": [],
   "source": [
    "curr_pop = 10327589 #from scb.se for 2019-12-31\n",
    "\n",
    "scb_2020 = pd.read_csv('scb-dead_per_day.csv',sep=';')\n",
    "scb_2020 = scb_2020.groupby('Månad').sum()\n",
    "scb_2020 = scb_2020['2020']\n",
    "scb_2020 = pd.DataFrame(scb_2020)\n",
    "scb_2020.reset_index(inplace=True)\n",
    "scb_2020['Månad'] = pd.Categorical(scb_2020['Månad'],['januari','februari','mars','april','maj','juni',\n",
    "                                                     'juli','augusti','september','oktober','november','december'])\n",
    "\n",
    "scb_2020.sort_values('Månad',inplace=True)\n",
    "scb_2020.index = pd.date_range('2020-01-01','2020-12-31',freq='M')\n",
    "scb_2020 = scb_2020.loc[:'2020-05-31']\n",
    "scb_2020['2020'] = scb_2020['2020'] / (curr_pop/1e6)\n",
    "scb_2020.rename(columns={'2020' : 'dead_per_million'},inplace=True)\n",
    "scb_2020"
   ]
  },
  {
   "cell_type": "code",
   "execution_count": null,
   "metadata": {},
   "outputs": [],
   "source": []
  },
  {
   "cell_type": "code",
   "execution_count": null,
   "metadata": {},
   "outputs": [],
   "source": [
    "monthly_timeline"
   ]
  },
  {
   "cell_type": "code",
   "execution_count": null,
   "metadata": {},
   "outputs": [],
   "source": [
    "monthly_timeline.plot(figsize=(18,12))\n",
    "scb_2020['dead_per_million'].plot(color='r')"
   ]
  },
  {
   "cell_type": "code",
   "execution_count": null,
   "metadata": {},
   "outputs": [],
   "source": [
    "monthly_timeline = pd.concat([monthly_timeline['dead_per_million'],scb_2020['dead_per_million']],axis=0)\n",
    "monthly_timeline"
   ]
  },
  {
   "cell_type": "code",
   "execution_count": null,
   "metadata": {},
   "outputs": [],
   "source": [
    "monthly_timeline = pd.DataFrame(monthly_timeline.sort_values(ascending=False))\n",
    "monthly_timeline['rank'] = range(1,len(monthly_timeline) + 1)\n",
    "monthly_timeline.head(50)"
   ]
  },
  {
   "cell_type": "code",
   "execution_count": null,
   "metadata": {},
   "outputs": [],
   "source": [
    "mean = monthly_timeline.mean()\n",
    "mean"
   ]
  },
  {
   "cell_type": "code",
   "execution_count": null,
   "metadata": {},
   "outputs": [],
   "source": [
    "monthly_timeline.loc['2020-05-31']"
   ]
  },
  {
   "cell_type": "code",
   "execution_count": null,
   "metadata": {},
   "outputs": [],
   "source": [
    "top_20 = pd.DataFrame(monthly_timeline[:20])\n",
    "top_20"
   ]
  },
  {
   "cell_type": "code",
   "execution_count": null,
   "metadata": {
    "scrolled": false
   },
   "outputs": [],
   "source": [
    "colors = ['b'] * 18\n",
    "colors.append('r')\n",
    "colors.append('b')\n",
    "print (colors)\n",
    "top_20.index = top_20.index.date\n",
    "top_20['dead_per_million'].plot(kind='bar',\n",
    "                                figsize=(18,12),\n",
    "                                color=colors,\n",
    "                                title='SWEDEN - Top-20 deadliest months January 1990 - May 2020\\nDataSource: SCB.se')\n",
    "plt.ylabel('deaths per million')\n",
    "plt.axhline(mean['dead_per_million'],color='orange',ls='dashed',label='average 1990-2019')\n",
    "plt.legend(loc='upper right')\n",
    "plt.savefig('scb_population_deaths_1990-2020.jpg',format='jpg')"
   ]
  },
  {
   "cell_type": "code",
   "execution_count": null,
   "metadata": {},
   "outputs": [],
   "source": []
  }
 ],
 "metadata": {
  "kernelspec": {
   "display_name": "Python 3",
   "language": "python",
   "name": "python3"
  },
  "language_info": {
   "codemirror_mode": {
    "name": "ipython",
    "version": 3
   },
   "file_extension": ".py",
   "mimetype": "text/x-python",
   "name": "python",
   "nbconvert_exporter": "python",
   "pygments_lexer": "ipython3",
   "version": "3.6.9"
  }
 },
 "nbformat": 4,
 "nbformat_minor": 4
}
