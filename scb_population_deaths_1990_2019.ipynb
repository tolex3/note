{
 "cells": [
  {
   "cell_type": "code",
   "execution_count": null,
   "metadata": {},
   "outputs": [],
   "source": [
    "### at month change, must recode in places marked fix\n",
    "\n",
    "# uses first sheet of scb excel\n",
    "### USES fhm_scb_dead.csv FHM sheet antal avlidna per dag\n",
    "# fhm_dead = pd.read_csv('fhm_scb_dead.csv',sep=';',header=0,index_col=0,parse_dates=True,names=['fhm_dead'])\n",
    "\n",
    "# historical death data from: (in scb_dead_per_month.csv)\n",
    "# http://www.statistikdatabasen.scb.se/pxweb/sv/ssd/START__BE__BE0101__BE0101G/ManadFoddDod/table/tableViewLayout1/\n",
    "\n",
    "#### !!!!! ANOMALY in SCB data: historical death data for (at least ) 2019 from statistikdatabasen \n",
    "# http://www.statistikdatabasen.scb.se/pxweb/sv/ssd/START__BE__BE0101__BE0101G/ManadFoddDod/table/tableViewLayout1/\n",
    "# does not concur with death data 2019 in the preliminary data! \n",
    "\n",
    "### DUE to okänd dödsdag when using the daily data of the preliminary stuff - much more okänd dag than okänd månad in \n",
    "### the monthly stuff\n",
    "####\n",
    "\n",
    "\n",
    "\n",
    "### uses 2019 population for 2020 in curr_pop, multiplied with same growth factor as 2018->2019\n",
    "\n",
    "import numpy as np\n",
    "import matplotlib.pyplot as plt\n",
    "import seaborn as sns\n",
    "import pandas as pd\n",
    "import requests\n",
    "\n",
    "sns.set()"
   ]
  },
  {
   "cell_type": "code",
   "execution_count": null,
   "metadata": {},
   "outputs": [],
   "source": [
    "def parse_scb_prel(YTD=True):\n",
    "    \n",
    "    def monthname2number(m):\n",
    "        if m == 'januari' : return 1\n",
    "        if m == 'februari' : return 2\n",
    "        if m == 'mars' : return 3\n",
    "        if m == 'april' : return 4\n",
    "        if m == 'maj' : return 5\n",
    "        if m == 'juni' : return 6\n",
    "        if m == 'juli' : return 7\n",
    "        if m == 'augusti' : return 8\n",
    "        if m == 'september' : return 9\n",
    "        if m == 'oktober' : return 10\n",
    "        if m == 'november' : return 11\n",
    "        if m == 'december' : return 12\n",
    "\n",
    "    df = pd.read_csv('scb-dead_per_day.csv',sep=';',usecols=[1,2,3,4,5,6,7,10,11],thousands=',')\n",
    "        \n",
    "    df['month'] = df['Månad'].apply(monthname2number)\n",
    "    df[['Månad','month']] = df[['Månad','month']].replace(np.nan,0)\n",
    "    df['month'] = df['month'].astype(int)\n",
    "    \n",
    "    df = df.replace(np.nan,0)\n",
    "\n",
    "    \n",
    "    df[['2015','2016','2017','2018','2019','2020','2015-2019']] = df[['2015','2016','2017','2018','2019','2020','2015-2019']].astype(int)\n",
    "\n",
    "    \n",
    "    unknown_death_day = df.iloc[-1,:7]\n",
    "    \n",
    "    df.drop(366,inplace=True)\n",
    "    \n",
    "    if YTD:\n",
    "        df = df.loc[df['2020'] != 0]\n",
    "    \n",
    "    #df = df.drop('Månad',axis=1)\n",
    "    \n",
    "    index = pd.date_range('2020-01-01',periods=len(df))\n",
    "    df.index = index\n",
    "    \n",
    "    known_death_day = df.iloc[:,:7].sum()\n",
    "    \n",
    "    year_fraction = len(df) / 366\n",
    "    \n",
    "    unknown_death_day[['2015','2016','2017','2018','2019','2015-2019']] = unknown_death_day[\n",
    "    ['2015','2016','2017','2018','2019','2015-2019']] * year_fraction\n",
    "    \n",
    "    dead_pct_per_day = df[['2015','2016','2017','2018','2019','2020','2015-2019']] / known_death_day\n",
    "    \n",
    "    all_deaths = df[['2015','2016','2017','2018','2019','2020','2015-2019']] + unknown_death_day * dead_pct_per_day\n",
    "    \n",
    "    all_deaths = pd.concat([all_deaths,df['Månad']],axis=1)\n",
    "    \n",
    "    return all_deaths\n",
    "    "
   ]
  },
  {
   "cell_type": "code",
   "execution_count": null,
   "metadata": {},
   "outputs": [],
   "source": [
    "# PARAM #####\n",
    "last_complete_month = '2020-10-31'\n",
    "curr_pop = 10327589 * 1.009521235441979 #from scb.se for 2019-12-31 * estimated growth factor\n"
   ]
  },
  {
   "cell_type": "code",
   "execution_count": null,
   "metadata": {
    "scrolled": false
   },
   "outputs": [],
   "source": [
    "def date_parser(m):\n",
    "    eng_months = {'januari' : 'January',\n",
    "                 'februari' : 'February',\n",
    "                 'mars' : 'March',\n",
    "                 'april' : 'April',\n",
    "                 'maj' : 'May',\n",
    "                 'juni' : 'June',\n",
    "                 'juli' : 'July',\n",
    "                 'augusti' : 'August',\n",
    "                 'september' : 'September',\n",
    "                 'oktober' : 'October',\n",
    "                 'november' : 'November',\n",
    "                 'december' : 'December'}\n",
    "    \n",
    "    eng = eng_months[m]\n",
    "    \n",
    "    return pd.datetime.strptime(eng,'%B').date().strftime('%B')\n",
    "    \n",
    "    \n",
    "\n"
   ]
  },
  {
   "cell_type": "code",
   "execution_count": null,
   "metadata": {},
   "outputs": [],
   "source": [
    "url_0 = 'http://api.scb.se/OV0104/v1/doris/sv/ssd/START/BE/BE0101/BE0101G/ManadFoddDod'\n",
    "\n",
    "data_0 = {\n",
    "  \"query\": [\n",
    "    {\n",
    "      \"code\": \"Kon\",\n",
    "      \"selection\": {\n",
    "        \"filter\": \"item\",\n",
    "        \"values\": [\n",
    "          \"1\",\n",
    "          \"2\"\n",
    "        ]\n",
    "      }\n",
    "    },\n",
    "    {\n",
    "      \"code\": \"Manad\",\n",
    "      \"selection\": {\n",
    "        \"filter\": \"item\",\n",
    "        \"values\": [\n",
    "          \"01\",\n",
    "          \"02\",\n",
    "          \"03\",\n",
    "          \"04\",\n",
    "          \"05\",\n",
    "          \"06\",\n",
    "          \"07\",\n",
    "          \"08\",\n",
    "          \"09\",\n",
    "          \"10\",\n",
    "          \"11\",\n",
    "          \"12\",\n",
    "          \"90\"\n",
    "        ]\n",
    "      }\n",
    "    },\n",
    "    {\n",
    "      \"code\": \"ContentsCode\",\n",
    "      \"selection\": {\n",
    "        \"filter\": \"item\",\n",
    "        \"values\": [\n",
    "          \"000000NF\"\n",
    "        ]\n",
    "      }\n",
    "    },\n",
    "    {\n",
    "      \"code\": \"Tid\",\n",
    "      \"selection\": {\n",
    "        \"filter\": \"item\",\n",
    "        \"values\": [\n",
    "          \"1990\",\n",
    "          \"1991\",\n",
    "          \"1992\",\n",
    "          \"1993\",\n",
    "          \"1994\",\n",
    "          \"1995\",\n",
    "          \"1996\",\n",
    "          \"1997\",\n",
    "          \"1998\",\n",
    "          \"1999\",\n",
    "          \"2000\",\n",
    "          \"2001\",\n",
    "          \"2002\",\n",
    "          \"2003\",\n",
    "          \"2004\",\n",
    "          \"2005\",\n",
    "          \"2006\",\n",
    "          \"2007\",\n",
    "          \"2008\",\n",
    "          \"2009\",\n",
    "          \"2010\",\n",
    "          \"2011\",\n",
    "          \"2012\",\n",
    "          \"2013\",\n",
    "          \"2014\",\n",
    "          \"2015\",\n",
    "          \"2016\",\n",
    "          \"2017\",\n",
    "          \"2018\",\n",
    "          \"2019\"\n",
    "        ]\n",
    "      }\n",
    "    }\n",
    "  ],\n",
    "  \"response\": {\n",
    "    \"format\": \"json\"\n",
    "  }\n",
    "}"
   ]
  },
  {
   "cell_type": "code",
   "execution_count": null,
   "metadata": {},
   "outputs": [],
   "source": [
    "r0 = requests.post(url_0,json=data_0)\n",
    "r0.status_code"
   ]
  },
  {
   "cell_type": "code",
   "execution_count": null,
   "metadata": {
    "scrolled": false
   },
   "outputs": [],
   "source": [
    "json_0 = r0.json()\n",
    "json_0['data'][0]\n"
   ]
  },
  {
   "cell_type": "code",
   "execution_count": null,
   "metadata": {
    "scrolled": false
   },
   "outputs": [],
   "source": [
    "data_list_0 = []\n",
    "\n",
    "nr_records_0 = (len(json_0['data']))\n",
    "\n",
    "for rec_0 in range(nr_records_0):\n",
    "\n",
    "    data_list_0.append ((json_0['data'][rec_0]['key'][0],\n",
    "                        json_0['data'][rec_0]['key'][1],json_0['data'][rec_0]['key'][2],json_0['data'][rec_0]['values'][0]))\n",
    "\n"
   ]
  },
  {
   "cell_type": "code",
   "execution_count": null,
   "metadata": {},
   "outputs": [],
   "source": [
    "death_df = pd.DataFrame(data_list_0,columns=['gender','month','year','dead'])\n",
    "\n",
    "death_df"
   ]
  },
  {
   "cell_type": "code",
   "execution_count": null,
   "metadata": {},
   "outputs": [],
   "source": [
    "death_df['dead'] = death_df['dead'].astype(int)\n",
    "death_df"
   ]
  },
  {
   "cell_type": "code",
   "execution_count": null,
   "metadata": {},
   "outputs": [],
   "source": [
    "death_df = death_df.groupby(['year','month']).sum().unstack()\n"
   ]
  },
  {
   "cell_type": "code",
   "execution_count": null,
   "metadata": {},
   "outputs": [],
   "source": [
    "death_df.columns = range(1,14)\n",
    "death_df"
   ]
  },
  {
   "cell_type": "code",
   "execution_count": null,
   "metadata": {},
   "outputs": [],
   "source": [
    "\n",
    "no_month = death_df[13]\n",
    "print (no_month)\n",
    "death_df = death_df.iloc[:,:-1]\n",
    "death_df"
   ]
  },
  {
   "cell_type": "code",
   "execution_count": null,
   "metadata": {},
   "outputs": [],
   "source": [
    "death_monthly_ratio = death_df.div(death_df.sum(axis=1),axis=0)\n",
    "death_monthly_ratio"
   ]
  },
  {
   "cell_type": "code",
   "execution_count": null,
   "metadata": {},
   "outputs": [],
   "source": [
    "add_deaths = death_monthly_ratio.mul(no_month,axis=0)\n",
    "add_deaths"
   ]
  },
  {
   "cell_type": "code",
   "execution_count": null,
   "metadata": {},
   "outputs": [],
   "source": [
    "death_df = death_df + add_deaths"
   ]
  },
  {
   "cell_type": "code",
   "execution_count": null,
   "metadata": {},
   "outputs": [],
   "source": [
    "death_df.columns = ['January','February','March','April','May','June',\n",
    "                    'July','August','September','October','November','December']\n",
    "death_df = death_df.T\n",
    "\n",
    "death_df"
   ]
  },
  {
   "cell_type": "code",
   "execution_count": null,
   "metadata": {},
   "outputs": [],
   "source": [
    "death_df.iloc[:,1:].sum()"
   ]
  },
  {
   "cell_type": "code",
   "execution_count": null,
   "metadata": {},
   "outputs": [],
   "source": [
    "(death_df.iloc[:,:].sum()).plot(kind='bar',color='r',figsize=(18,12),\n",
    "                               title='SWEDEN total deaths 1990-2019')\n",
    "plt.ylabel('nr of deaths')\n",
    "plt.savefig('total_number_of_deaths_1990_2019.jpg',format='jpg')"
   ]
  },
  {
   "cell_type": "code",
   "execution_count": null,
   "metadata": {},
   "outputs": [],
   "source": [
    "death_df[['2015','2016','2017','2018','2019']].sum().mean() - death_df.sum()['2019']"
   ]
  },
  {
   "cell_type": "code",
   "execution_count": null,
   "metadata": {},
   "outputs": [],
   "source": []
  },
  {
   "cell_type": "code",
   "execution_count": null,
   "metadata": {
    "scrolled": false
   },
   "outputs": [],
   "source": [
    "scb_pop = pd.read_csv('scb_population.csv',encoding='ISO-8859-1')\n",
    "\n",
    "scb_pop"
   ]
  },
  {
   "cell_type": "code",
   "execution_count": null,
   "metadata": {},
   "outputs": [],
   "source": [
    "pd.set_option(\"display.precision\", 2)\n",
    "deaths_per_m = death_df / (scb_pop.loc[0,:] / 1e6)\n",
    "deaths_per_m = deaths_per_m.T\n",
    "deaths_per_m"
   ]
  },
  {
   "cell_type": "code",
   "execution_count": null,
   "metadata": {},
   "outputs": [],
   "source": [
    "deaths_per_m.loc[:,'January' : 'September'].sum(axis=1)\n",
    "\n",
    "deaths_per_m.sum(axis=1).plot(kind='bar',\n",
    "                              figsize=(18,12),\n",
    "                              color='red',\n",
    "                              title='SWEDEN All Cause Deaths per million, 1990-2019')\n",
    "\n",
    "plt.ylabel('deaths per million')"
   ]
  },
  {
   "cell_type": "code",
   "execution_count": null,
   "metadata": {
    "scrolled": false
   },
   "outputs": [],
   "source": [
    "monthly_deaths = []\n",
    "\n",
    "for r,v in deaths_per_m.iterrows():\n",
    "    monthly_deaths.extend(v)\n",
    "    \n"
   ]
  },
  {
   "cell_type": "code",
   "execution_count": null,
   "metadata": {
    "scrolled": true
   },
   "outputs": [],
   "source": [
    "dates = pd.date_range('1990-01-01','2019-12-31',freq='M')\n",
    "dates"
   ]
  },
  {
   "cell_type": "code",
   "execution_count": null,
   "metadata": {},
   "outputs": [],
   "source": [
    "monthly_timeline = pd.DataFrame(data=monthly_deaths,index=dates,columns=['dead_per_million'])\n",
    "scb_1990_2019 = monthly_timeline.copy()"
   ]
  },
  {
   "cell_type": "code",
   "execution_count": null,
   "metadata": {},
   "outputs": [],
   "source": [
    "scb_1990_2019.loc['2019-01-01' : '2019-08-31'].sum()"
   ]
  },
  {
   "cell_type": "code",
   "execution_count": null,
   "metadata": {},
   "outputs": [],
   "source": [
    "scb_pop.mean()['2015':'2019'].mean()"
   ]
  },
  {
   "cell_type": "code",
   "execution_count": null,
   "metadata": {},
   "outputs": [],
   "source": [
    "scb_2020 = parse_scb_prel()\n",
    "scb_2020"
   ]
  },
  {
   "cell_type": "code",
   "execution_count": null,
   "metadata": {},
   "outputs": [],
   "source": [
    "(scb_2020.loc[:,'2015' : '2020'].sum()).astype(int)"
   ]
  },
  {
   "cell_type": "code",
   "execution_count": null,
   "metadata": {},
   "outputs": [],
   "source": [
    "pd.date_range('2020-01-01',pd.Timestamp((pd.to_datetime(last_complete_month) + pd.DateOffset(days=31))),\n",
    "                                  freq='M')"
   ]
  },
  {
   "cell_type": "code",
   "execution_count": null,
   "metadata": {},
   "outputs": [],
   "source": [
    "last_date = scb_2020.index[-1].date()\n",
    "last_date"
   ]
  },
  {
   "cell_type": "code",
   "execution_count": null,
   "metadata": {},
   "outputs": [],
   "source": [
    "##### needs update when month changes #####\n",
    "\n",
    "scb_2020 = scb_2020.groupby('Månad').sum()\n",
    "scb_2020['min_2015_2019'] = scb_2020[['2015','2016','2017','2018','2019']].min(axis=1)\n",
    "scb_2020['max_2015_2019'] = scb_2020[['2015','2016','2017','2018','2019']].max(axis=1)\n",
    "\n",
    "scb_2020 = scb_2020[['2020','2015-2019','min_2015_2019','max_2015_2019']]\n",
    "scb_2020_orig = scb_2020.copy()\n",
    "\n",
    "\n",
    "####\n",
    "# dividing all years 2015-2020 by 2020 population for consistency with scb_poisson\n",
    "####\n",
    "\n",
    "'''\n",
    "scb_2020[['2015-2019','min_2015_2019',\n",
    "          'max_2015_2019']] = scb_2020[['2015-2019','min_2015_2019',\n",
    "            'max_2015_2019']] / (scb_pop.mean()['2015':'2019'].mean()/1e6)\n",
    "'''\n",
    "\n",
    "scb_2020[['2015-2019','min_2015_2019',\n",
    "          'max_2015_2019']] = scb_2020[['2015-2019','min_2015_2019',\n",
    "            'max_2015_2019']] / (curr_pop/1e6)\n",
    "\n",
    "scb_2020 = pd.DataFrame(scb_2020)\n",
    "scb_2020.reset_index(inplace=True)\n",
    "\n",
    "# fix monthly\n",
    "scb_2020['Månad'] = pd.Categorical(scb_2020['Månad'],['januari','februari','mars','april','maj','juni',\n",
    "                                                      'juli','augusti','september','oktober','november'])\n",
    "scb_2020.sort_values('Månad',inplace=True)\n",
    "\n",
    "print (scb_2020)\n",
    "\n",
    "# fix monthly\n",
    "try:\n",
    "    scb_2020.index = pd.date_range('2020-01-01',last_complete_month,freq='M')\n",
    "except:\n",
    "    scb_2020.index = pd.date_range('2020-01-01',pd.Timestamp((pd.to_datetime(last_complete_month) + pd.DateOffset(days=31))),\n",
    "                                  freq='M')\n",
    "    \n",
    "#scb_2020 = scb_2020.loc[:last_complete_month]\n",
    "scb_2020['2020'] = scb_2020['2020'] / (curr_pop/1e6)\n",
    "scb_2020.rename(columns={'2020' : 'dead_per_million'},inplace=True)\n",
    "scb_2020"
   ]
  },
  {
   "cell_type": "code",
   "execution_count": null,
   "metadata": {},
   "outputs": [],
   "source": [
    "scb_2020['dead_per_million'].cumsum() - scb_2020['2015-2019'].cumsum()"
   ]
  },
  {
   "cell_type": "code",
   "execution_count": null,
   "metadata": {},
   "outputs": [],
   "source": [
    "monthly_timeline"
   ]
  },
  {
   "cell_type": "code",
   "execution_count": null,
   "metadata": {},
   "outputs": [],
   "source": [
    "monthly_timeline.loc[:'2019-12-31','dead_per_million'].plot(figsize=(18,12))\n",
    "plt.plot(scb_2020.loc[:last_complete_month,'dead_per_million'],color='r')"
   ]
  },
  {
   "cell_type": "code",
   "execution_count": null,
   "metadata": {},
   "outputs": [],
   "source": [
    "scb_2020"
   ]
  },
  {
   "cell_type": "code",
   "execution_count": null,
   "metadata": {
    "scrolled": false
   },
   "outputs": [],
   "source": [
    "monthly_timeline = pd.concat([monthly_timeline['dead_per_million'],scb_2020['dead_per_million']],axis=0)\n",
    "monthly_timeline"
   ]
  },
  {
   "cell_type": "code",
   "execution_count": null,
   "metadata": {
    "scrolled": false
   },
   "outputs": [],
   "source": [
    "yearly_monthly_sums = monthly_timeline.groupby(\n",
    "    [monthly_timeline.index.year,monthly_timeline.index.month]).sum()\n",
    "\n",
    "deaths_per_m_grouped_sums_1990_2020_YTD = yearly_monthly_sums.unstack().reset_index().set_index('index')\n",
    "cols = ['Jan','Feb','Mar','Apr','May','Jun','Jul','Aug','Sep','Oct','Nov','Dec']\n",
    "deaths_per_m_grouped_sums_1990_2020_YTD.columns = cols\n",
    "deaths_per_m_grouped_sums_1990_2020_YTD.index.name='year'\n",
    "deaths_per_m_grouped_sums_1990_2020_YTD "
   ]
  },
  {
   "cell_type": "code",
   "execution_count": null,
   "metadata": {},
   "outputs": [],
   "source": [
    "deaths_per_m_grouped_sums_1990_2020_YTD.to_pickle('deaths_per_m_1990-2020-YTD.pkl')"
   ]
  },
  {
   "cell_type": "code",
   "execution_count": null,
   "metadata": {},
   "outputs": [],
   "source": [
    "\n",
    "deaths_per_m_grouped_sums_1990_2020_YTD.loc[:,'Jan' : 'Oct'].sum(axis=1)"
   ]
  },
  {
   "cell_type": "code",
   "execution_count": null,
   "metadata": {},
   "outputs": [],
   "source": [
    "print (sns.axes_style())\n",
    "\n",
    "#sns.set_style(\"darkgrid\", {\"axes.facecolor\": \".9\"})\n",
    "\n",
    "sns.set_style({'grid.color' : 'lightgrey'})"
   ]
  },
  {
   "cell_type": "code",
   "execution_count": null,
   "metadata": {},
   "outputs": [],
   "source": [
    "title = 'SWEDEN deaths per million Y2D {} stacked by month\\nDataSource SCB.se'.format(last_date)\n",
    "\n",
    "deaths_per_m_grouped_sums_1990_2020_YTD.plot(kind='bar',title=title,\n",
    "                                             stacked=True,figsize=(18,12),edgecolor='none')\n",
    "plt.ylabel('deaths per million')\n",
    "plt.legend(loc='lower center')\n",
    "plt.yticks(range(0,12000,1000))\n",
    "plt.savefig('scb_1990_2020_deaths_per_M_stacked.jpg',format='jpg')\n",
    "\n"
   ]
  },
  {
   "cell_type": "code",
   "execution_count": null,
   "metadata": {},
   "outputs": [],
   "source": []
  },
  {
   "cell_type": "code",
   "execution_count": null,
   "metadata": {},
   "outputs": [],
   "source": [
    "two_thousands_rank = monthly_timeline.rank(ascending=False).sort_values()\n",
    "two_thousands_rank = two_thousands_rank.loc['2000-01-01':]\n",
    "two_thousands_rank.plot(figsize=(18,12),style=['o--'])\n",
    "plt.ylabel('rank')"
   ]
  },
  {
   "cell_type": "code",
   "execution_count": null,
   "metadata": {},
   "outputs": [],
   "source": [
    "monthly_timeline = pd.DataFrame(monthly_timeline.sort_values(ascending=False))\n",
    "monthly_timeline['rank'] = range(1,len(monthly_timeline) + 1)\n",
    "monthly_timeline.head(50)"
   ]
  },
  {
   "cell_type": "code",
   "execution_count": null,
   "metadata": {},
   "outputs": [],
   "source": [
    "monthly_timeline.loc['2020-08-31']"
   ]
  },
  {
   "cell_type": "code",
   "execution_count": null,
   "metadata": {
    "scrolled": false
   },
   "outputs": [],
   "source": [
    "monthly_timeline.sort_index().plot(y='dead_per_million',figsize=(18,12),color=['crimson'])"
   ]
  },
  {
   "cell_type": "code",
   "execution_count": null,
   "metadata": {},
   "outputs": [],
   "source": [
    "mean = monthly_timeline.mean()\n",
    "mean"
   ]
  },
  {
   "cell_type": "code",
   "execution_count": null,
   "metadata": {
    "scrolled": false
   },
   "outputs": [],
   "source": [
    "monthly_timeline.loc[last_complete_month]"
   ]
  },
  {
   "cell_type": "code",
   "execution_count": null,
   "metadata": {},
   "outputs": [],
   "source": [
    "monthly_timeline.sort_index()"
   ]
  },
  {
   "cell_type": "code",
   "execution_count": null,
   "metadata": {},
   "outputs": [],
   "source": [
    "max_rank = monthly_timeline['rank'].max()\n",
    "year_groups = monthly_timeline.groupby(pd.Grouper(freq='Y'))\n",
    "year_group_2020 = (year_groups.get_group('2020-12-31 00:00:00')).copy()\n",
    "year_group_2020['rel_rank'] = 1 - year_group_2020['rank'] / max_rank\n",
    "year_group_2020['inv_rank'] = max_rank - year_group_2020['rank']"
   ]
  },
  {
   "cell_type": "code",
   "execution_count": null,
   "metadata": {},
   "outputs": [],
   "source": [
    "ax = year_group_2020.set_index(year_group_2020.index.date).plot(kind='bar',y='rel_rank')\n",
    "\n",
    "year_group_2020.set_index(year_group_2020.index.date).plot(kind='bar',y='rank')\n",
    "\n",
    "year_group_2020.set_index(\n",
    "    year_group_2020.index.date).plot(\n",
    "    kind='bar',color='r',\n",
    "    y='rank',\n",
    "    figsize=(18,12),\n",
    "    title='SWEDEN 2020 : monthly deaths per million : months ranked against all months Jan 1990 - Sept 2020 \\\n",
    "    \\nDeadliest Month (Dec-93) ranks as\\\n",
    "    #1\\nCurrent MAX rank (least deadly month) : {}\\nHIGHER IS BETTER!'.format(len(monthly_timeline)))\n",
    "\n",
    "plt.ylabel('Deadliest Month Rank')\n",
    "plt.axhline(len(monthly_timeline),color='orange',ls='dashed',label='MAX Rank (least deadly month)')\n",
    "plt.legend(loc='upper left')\n",
    "\n",
    "plt.savefig('monthly_ranking_2020.jpg',format='jpg')"
   ]
  },
  {
   "cell_type": "code",
   "execution_count": null,
   "metadata": {},
   "outputs": [],
   "source": [
    "year_group_2020"
   ]
  },
  {
   "cell_type": "code",
   "execution_count": null,
   "metadata": {},
   "outputs": [],
   "source": [
    "year_groups2 = monthly_timeline.groupby(pd.Grouper(freq='M')).mean()\n",
    "year_groups2"
   ]
  },
  {
   "cell_type": "code",
   "execution_count": null,
   "metadata": {},
   "outputs": [],
   "source": [
    "top_20 = pd.DataFrame(monthly_timeline[:20])\n",
    "top_20"
   ]
  },
  {
   "cell_type": "code",
   "execution_count": null,
   "metadata": {},
   "outputs": [],
   "source": [
    "len (top_20)"
   ]
  },
  {
   "cell_type": "code",
   "execution_count": null,
   "metadata": {
    "scrolled": false
   },
   "outputs": [],
   "source": [
    "colors = ['b'] * 13 # must set colors after seeing which place they fall onto\n",
    "colors.extend(['r','b','b','b','b','b','b'])\n",
    "print (colors)\n",
    "top_20.index = top_20.index.date\n",
    "top_20['dead_per_million'].plot(kind='bar',\n",
    "                                figsize=(18,12),\n",
    "                                color=colors,\n",
    "                                title='SWEDEN - Top-20 deadliest months January 1990 - {}\\nDataSource: SCB.se'.format(\n",
    "                                last_complete_month))\n",
    "plt.ylabel('deaths per million')\n",
    "plt.axhline(mean['dead_per_million'],color='orange',ls='dashed',label='average 1990-2019')\n",
    "plt.legend(loc='upper right')\n",
    "plt.savefig('scb_population_deaths_1990-2020.jpg',format='jpg')"
   ]
  },
  {
   "cell_type": "code",
   "execution_count": null,
   "metadata": {},
   "outputs": [],
   "source": [
    "bottom_20 = monthly_timeline.iloc[-21:].sort_values('dead_per_million',ascending=False)\n",
    "bottom_20 = bottom_20.loc[:last_complete_month]\n",
    "bottom_20.index = bottom_20.index.date\n",
    "bottom_20"
   ]
  },
  {
   "cell_type": "code",
   "execution_count": null,
   "metadata": {},
   "outputs": [],
   "source": [
    "monthly_timeline.loc['2020-02-29']"
   ]
  },
  {
   "cell_type": "code",
   "execution_count": null,
   "metadata": {},
   "outputs": [],
   "source": [
    "print ('total number of months',len(monthly_timeline))\n",
    "months_rank_2020 = monthly_timeline[monthly_timeline.index.get_level_values(0).year == 2020]\n",
    "months_rank_2020"
   ]
  },
  {
   "cell_type": "code",
   "execution_count": null,
   "metadata": {
    "scrolled": false
   },
   "outputs": [],
   "source": [
    "\n",
    "colors = ['b'] * 2 # must set colors after seeing which place they fall onto\n",
    "colors.extend(['r','b','b','b','b','b','b','b','b','b','r','b','b','r','b','b','r','b'])\n",
    "\n",
    "\n",
    "print (colors)\n",
    "title = 'SWEDEN All Cause morta'\n",
    "bottom_20.plot(kind='bar',y='dead_per_million',figsize=(19,12),color=colors,\n",
    "              title='SWEDEN - Top-20 least deadly  months January 1990 - {}\\nDataSource: SCB.se'.format(\n",
    "                                last_complete_month))\n",
    "\n",
    "plt.ylabel('deaths per million')\n",
    "plt.savefig('sweden_bottom_20_deadliest_months.jpg',format='jpg')\n"
   ]
  },
  {
   "cell_type": "code",
   "execution_count": null,
   "metadata": {},
   "outputs": [],
   "source": [
    "\n",
    "scb_1990_2019"
   ]
  },
  {
   "cell_type": "code",
   "execution_count": null,
   "metadata": {},
   "outputs": [],
   "source": [
    "scb_1990_2020 = pd.DataFrame(pd.concat([scb_1990_2019['dead_per_million'],scb_2020['dead_per_million']],axis=0))\n",
    "scb_1990_2020"
   ]
  },
  {
   "cell_type": "code",
   "execution_count": null,
   "metadata": {},
   "outputs": [],
   "source": [
    "scb_1990_2020['year'] = scb_1990_2020.index.year\n",
    "scb_1990_2020['month'] = scb_1990_2020.index.month"
   ]
  },
  {
   "cell_type": "code",
   "execution_count": null,
   "metadata": {},
   "outputs": [],
   "source": [
    "scb_1990_2020.tail(20)"
   ]
  },
  {
   "cell_type": "code",
   "execution_count": null,
   "metadata": {},
   "outputs": [],
   "source": [
    "month_grp = scb_1990_2020[:'2019-12-31'].groupby('month')['dead_per_million'].agg(['min','mean','max'])\n",
    "print (month_grp.head(12))\n",
    "scb_2020\n"
   ]
  },
  {
   "cell_type": "code",
   "execution_count": null,
   "metadata": {},
   "outputs": [],
   "source": [
    "scb_2020['excess'] = scb_2020['dead_per_million'] - scb_2020['2015-2019']\n",
    "scb_2020"
   ]
  },
  {
   "cell_type": "code",
   "execution_count": null,
   "metadata": {},
   "outputs": [],
   "source": [
    "excess = scb_2020.set_index(scb_2020.index.month).join(month_grp['mean'])\n",
    "excess.drop(['min_2015_2019','max_2015_2019'],axis=1,inplace=True)\n"
   ]
  },
  {
   "cell_type": "code",
   "execution_count": null,
   "metadata": {
    "scrolled": false
   },
   "outputs": [],
   "source": [
    "excess.rename(columns={'mean' : '1990-2019_mean'}, inplace=True)\n",
    "excess['excess_1990_baseline'] = excess['dead_per_million'] - excess['1990-2019_mean']\n",
    "excess['excess_2015_baseline'] = excess['dead_per_million'] - excess['2015-2019']\n",
    "excess['cumulative_excess_vs_1990-2019'] = excess['excess_1990_baseline'].cumsum()\n",
    "excess['cumulative_excess_vs_2015-2019'] = excess['excess_2015_baseline'].cumsum()\n",
    "\n",
    "# fix monthly\n",
    "#excess['date'] = pd.date_range('2020-01-01',last_complete_month,freq='M')\n",
    "excess['date'] = pd.date_range('2020-01-01',pd.Timestamp((pd.to_datetime(last_complete_month) + pd.DateOffset(days=31))),\n",
    "                                  freq='M')\n",
    "\n",
    "excess[:pd.Timestamp(last_complete_month).date().month].plot(kind='bar',figsize=(18,12),\n",
    "                                                             title=('Sweden Excess Deaths 2020, baselines 1990-2019 & 2015-2019'),\n",
    "                                                             y=['cumulative_excess_vs_1990-2019',\n",
    "                                                               'cumulative_excess_vs_2015-2019'],color=['orange','red'])\n",
    "plt.ylabel('Excess Deaths per Million')\n",
    "plt.xlabel('Month')\n",
    "excess"
   ]
  },
  {
   "cell_type": "code",
   "execution_count": null,
   "metadata": {
    "scrolled": false
   },
   "outputs": [],
   "source": [
    "scb_2020['month'] = scb_2020.index.month \n",
    "\n",
    "plt.figure(figsize=(18,12))\n",
    "plt.title('Sweden Monthly Deaths per million, adjusted for population - All Causes\\nDataSource:SCB.se')\n",
    "ax = plt.gca()\n",
    "ax2 = plt.twinx()\n",
    "\n",
    "ax.plot(month_grp['mean'],'o--',label='Monthly Average 1990-2019')\n",
    "#ax.plot(scb_2020['month'],scb_2020['2015-2019'],'o--',color='k',label='Monthly Average 2015-2019')\n",
    "#plt.fill_between(scb_2020['month'],scb_2020['min_2015_2019'],scb_2020['max_2015_2019'],color='m',alpha=0.3,label='2015-2019 range')\n",
    "\n",
    "ax.fill_between(month_grp.index,month_grp['min'],month_grp['max'],color='c',alpha=0.3,label='1990-2019 range')\n",
    "\n",
    "ax.plot(scb_2020['month'][:last_complete_month],scb_2020['dead_per_million'][:last_complete_month],'o--',color='crimson',label='2020')\n",
    "ax.legend(loc='upper left')\n",
    "ax.set_xlabel('month')\n",
    "ax.set_ylabel('dead per million')\n",
    "\n",
    "#ax2.plot(excess['cum_vs_2015'][:pd.Timestamp(last_complete_month).month],'o--',\n",
    "         #color='orange',label='Excess deaths cmp 2015-2019')\n",
    "\n",
    "ax2.plot(excess['cumulative_excess_vs_1990-2019'][:pd.Timestamp(last_complete_month).month],'o--',\n",
    "         color='orange',label='Excess deaths cmp 1990-2019\\nNOTE!! AXIS VALUES ARE NEGATIVE!')\n",
    "\n",
    "ax2.set_ylabel('Cumulative Excess Deaths per Million')\n",
    "#ax2.set_ylim([-400,10])\n",
    "ax2.legend(loc='upper right')\n",
    "\n",
    "xticks = ['Jan','Feb','Mar','Apr','May','Jun','Jul','Aug','Sep','Oct','Nov','Dec']\n",
    "_=plt.xticks(month_grp.index,xticks)\n",
    "plt.savefig('scb_monthly_deaths_all_cmp_1990_2019.jpg',format='jpg')"
   ]
  },
  {
   "cell_type": "code",
   "execution_count": null,
   "metadata": {},
   "outputs": [],
   "source": [
    "plt.figure(figsize=(18,12))\n",
    "plt.title('Sweden Monthly Deaths per million, adjusted for population - All Causes\\nDataSource:SCB.se')\n",
    "ax = plt.gca()\n",
    "ax2 = plt.twinx()\n",
    "\n",
    "#ax.plot(month_grp['mean'],'o--',label='Monthly Average 1990-2019')\n",
    "ax.plot(scb_2020['month'],scb_2020['2015-2019'],'o--',color='b',label='Monthly Average 2015-2019')\n",
    "ax.fill_between(scb_2020['month'],scb_2020['min_2015_2019'],scb_2020['max_2015_2019'],\n",
    "                color='c',alpha=0.3,label='2015-2019 range')\n",
    "\n",
    "#ax.fill_between(month_grp.index,month_grp['min'],month_grp['max'],color='c',alpha=0.3,label='1990-2019 range')\n",
    "\n",
    "ax.plot(scb_2020['month'][:last_complete_month],scb_2020['dead_per_million'][:last_complete_month],\n",
    "        'o--',color='crimson',label='2020')\n",
    "ax.legend(loc='upper left')\n",
    "ax.set_xlabel('month')\n",
    "ax.set_ylabel('dead per million')\n",
    "\n",
    "#ax2.plot(excess['cum_vs_2015'][:pd.Timestamp(last_complete_month).month],'o--',\n",
    "         #color='orange',label='Excess deaths cmp 2015-2019')\n",
    "\n",
    "ax2.plot(excess['cumulative_excess_vs_2015-2019'][:],'o--',\n",
    "         color='orange',label='Excess deaths cmp 2015-2019')\n",
    "\n",
    "ax2.set_ylabel('Cumulative Excess Deaths per Million')\n",
    "ax2.legend(loc='upper right')\n",
    "\n",
    "xticks = ['Jan','Feb','Mar','Apr','May','Jun','Jul','Aug','Sep','Oct','Nov','Dec']\n",
    "_=plt.xticks(month_grp.index,xticks)\n",
    "plt.savefig('scb_monthly_deaths_all_cmp_2015-2019.jpg',format='jpg')"
   ]
  },
  {
   "cell_type": "code",
   "execution_count": null,
   "metadata": {},
   "outputs": [],
   "source": [
    "scb_2020_monthly = scb_2020.set_index('month')\n",
    "print (scb_2020_monthly)\n",
    "\n",
    "mean_1990_2019 = month_grp.loc[:pd.Timestamp(last_complete_month).month]\n",
    "print (mean_1990_2019)\n",
    "monthly_excess = scb_2020_monthly['dead_per_million'] - mean_1990_2019['mean']\n",
    "print (monthly_excess)\n",
    "print (monthly_excess.cumsum())"
   ]
  },
  {
   "cell_type": "code",
   "execution_count": null,
   "metadata": {},
   "outputs": [],
   "source": [
    "pd.Timestamp(last_complete_month).month"
   ]
  },
  {
   "cell_type": "code",
   "execution_count": null,
   "metadata": {},
   "outputs": [],
   "source": [
    "mask = scb_1990_2020.index.month.isin(range(1,pd.Timestamp(last_complete_month).month + 1))\n",
    "first_months = scb_1990_2020[mask]['dead_per_million']\n",
    "first_cum = first_months.groupby(first_months.index.year).sum()\n",
    "first_cum"
   ]
  },
  {
   "cell_type": "code",
   "execution_count": null,
   "metadata": {},
   "outputs": [],
   "source": [
    "first_cum.plot(kind='bar',figsize=(18,12),color='orange',\n",
    "               title='SWEDEN cumulative deaths per million Jan 1:st - {} last,1990-2020\\nDataSource:SCB.se'.format(\n",
    "                   pd.Timestamp(last_complete_month).month_name()))\n",
    "plt.ylabel('deaths per million')\n",
    "plt.savefig('scb_deaths_jan_may_unsorted.jpg'.format('jpg'))"
   ]
  },
  {
   "cell_type": "code",
   "execution_count": null,
   "metadata": {
    "scrolled": false
   },
   "outputs": [],
   "source": [
    "colors = ['orange'] * 25\n",
    "colors.append('crimson')\n",
    "color_tail = ['orange'] * 3\n",
    "colors.extend(color_tail)\n",
    "\n",
    "print (colors)\n",
    "first_cum.sort_values(ascending=False).plot(kind='bar',figsize=(18,12),\n",
    "                                            title='SWEDEN cumulative deaths per million Jan 1:st - {} last,1990-2020\\nDataSource:SCB.se'.format(\n",
    "                   pd.Timestamp(last_complete_month).month_name()),\n",
    "                                            color=colors)\n",
    "plt.ylabel('deaths per million')\n",
    "plt.savefig('scb_deaths_jan_july_sorted.jpg',format='jpg')"
   ]
  },
  {
   "cell_type": "code",
   "execution_count": null,
   "metadata": {},
   "outputs": [],
   "source": [
    "first_cum.sort_values(ascending=False).plot(kind='bar',figsize=(18,12),\n",
    "                                            title='SWEDEN cumulative deaths per million Jan 1:st - {} last,1990-2020\\nDataSource:SCB.se'.format(\n",
    "                   pd.Timestamp(last_complete_month).month_name()),\n",
    "                                            color='crimson')\n",
    "plt.ylabel('deaths per million')\n",
    "plt.xticks(range(len(first_cum)),range(1,len(first_cum) + 1))\n",
    "plt.savefig('scb_deaths_jan_july_sorted_random.jpg',format='jpg')"
   ]
  },
  {
   "cell_type": "code",
   "execution_count": null,
   "metadata": {},
   "outputs": [],
   "source": []
  },
  {
   "cell_type": "code",
   "execution_count": null,
   "metadata": {
    "scrolled": false
   },
   "outputs": [],
   "source": [
    "by_month = first_months.groupby(first_months.index.month)\n",
    "month_stats =[]\n",
    "\n",
    "for month in range (1,pd.Timestamp(last_complete_month).month + 1):\n",
    "    m = by_month.get_group(month)\n",
    "    month_stats.append(m.agg(['min','mean','max']).values)\n",
    "    \n",
    "month_stats = pd.DataFrame(data=np.array(month_stats),\n",
    "                           index=range(1,pd.Timestamp(last_complete_month).month + 1),\n",
    "                           columns=['mini','mean','maxi'])\n",
    "\n",
    "month_stats.index.name='month'\n",
    "month_stats"
   ]
  },
  {
   "cell_type": "code",
   "execution_count": null,
   "metadata": {
    "scrolled": false
   },
   "outputs": [],
   "source": [
    "from matplotlib import cm\n",
    "\n",
    "first_cumsum = first_months.groupby(first_months.index.year).cumsum()\n",
    "bar = first_cumsum.groupby(first_cumsum.index.year)\n",
    "\n",
    "plt.figure(figsize=(18,12))\n",
    "plt.title('SWEDEN cumulative monthly deaths per million, 1990-2020, Jan 1st to {} last'.format(\n",
    "    pd.Timestamp(last_complete_month).month_name()))\n",
    "\n",
    "for k in bar.groups.keys():\n",
    "    plt.plot(bar.get_group(k),'ro--')\n",
    "    \n",
    "plt.ylabel('cumulative deaths per million')"
   ]
  },
  {
   "cell_type": "code",
   "execution_count": null,
   "metadata": {},
   "outputs": [],
   "source": [
    "first_months"
   ]
  },
  {
   "cell_type": "code",
   "execution_count": null,
   "metadata": {
    "scrolled": false
   },
   "outputs": [],
   "source": [
    "first_sum = first_months.groupby(first_months.index.year)\n",
    "\n",
    "month_names = {1:'Jan',2:'Feb',3:'Mar',4:'Apr',5:'May',6:'Jun',\n",
    "              7:'Jul',8:'Aug',9:'Sep',10:'Oct',11:'Nov',12:'Dec'}\n",
    "\n",
    "years = dict()\n",
    "\n",
    "for k in first_sum.groups.keys():\n",
    "    years[k] = first_sum.get_group(k).values\n",
    "    \n",
    "years = pd.DataFrame(years).T\n",
    "num_months = range(1,pd.Timestamp(last_complete_month).month + 1)\n",
    "years.columns= num_months\n",
    "\n",
    "years.rename(columns=month_names,inplace=True)\n",
    "\n",
    "years.columns.name = 'month'\n",
    "years.index.name = 'year'\n",
    "years_per_M = years\n",
    "\n",
    "years_per_M"
   ]
  },
  {
   "cell_type": "code",
   "execution_count": null,
   "metadata": {},
   "outputs": [],
   "source": [
    "years_1990_2019_mean = years.loc[1990:2019].mean().sum()\n",
    "years_2015_2019_mean = years.loc[2015:2019].mean().sum()\n",
    "print (years_1990_2019_mean)\n",
    "print (years_2015_2019_mean)\n",
    "\n",
    "# fix monthly\n",
    "#years.drop('Oct',axis=1,inplace=True)\n",
    "\n",
    "years"
   ]
  },
  {
   "cell_type": "code",
   "execution_count": null,
   "metadata": {},
   "outputs": [],
   "source": [
    "years.to_csv('death_per_M_1990_2020_Jan_Jul.csv')\n",
    "years.sum(axis=1)"
   ]
  },
  {
   "cell_type": "code",
   "execution_count": null,
   "metadata": {},
   "outputs": [],
   "source": [
    "\n",
    "\n",
    "years.plot(kind='bar',stacked=True,figsize=(18,12),\n",
    "          title='Sweden1990-2020 : Deaths per million : All Causes : January to {}\\nDataSource:SCB.se'.format(\n",
    "              pd.Timestamp(last_complete_month).month_name()))\n",
    "\n",
    "#plt.axhline(years_1990_2019_mean,ls='dashed',color='crimson',label='1990-2019 average')\n",
    "#plt.axhline(years_2015_2019_mean,ls='dashed',color='orange',label='2015-2019 average')\n",
    "\n",
    "plt.ylabel('Nr dead per million')\n",
    "\n",
    "plt.legend(framealpha=0.1, loc='best')\n",
    "plt.yticks(range(0,10000,1000))\n",
    "plt.savefig('scb_deaths_per_M_per_month_1990_2020.jpg',format='jpg')"
   ]
  },
  {
   "cell_type": "code",
   "execution_count": null,
   "metadata": {},
   "outputs": [],
   "source": [
    "plt.figure(figsize=(18,12))\n",
    "for month in years.columns:\n",
    "    \n",
    "    plt.plot(years.index,years[month],'o--',label=month)\n",
    "    \n",
    "plt.legend(loc='upper right')\n"
   ]
  },
  {
   "cell_type": "code",
   "execution_count": null,
   "metadata": {},
   "outputs": [],
   "source": []
  },
  {
   "cell_type": "code",
   "execution_count": null,
   "metadata": {
    "scrolled": false
   },
   "outputs": [],
   "source": [
    "print (years)\n",
    "deaths_per_month = years.sum(axis=0)\n",
    "\n",
    "\n",
    "deaths_per_year = years.sum(axis=1) \n",
    "\n",
    "print (deaths_per_month)\n",
    "print (deaths_per_year)"
   ]
  },
  {
   "cell_type": "code",
   "execution_count": null,
   "metadata": {},
   "outputs": [],
   "source": [
    "deaths_per_year.plot(kind='barh',title='Sweden deaths per 10.000 Jan - {} 1990-2020'.format(\n",
    "    pd.Timestamp(last_complete_month).month_name()),color='orange',\n",
    "                     figsize=(18,12))\n",
    "\n",
    "plt.xlabel('deaths per 10.000')\n",
    "plt.ylabel('year')"
   ]
  },
  {
   "cell_type": "code",
   "execution_count": null,
   "metadata": {
    "scrolled": false
   },
   "outputs": [],
   "source": [
    "years = years_per_M\n",
    "print (years[:-1])\n",
    "\n",
    "average_2015_2019 = years.loc[2015:2019].mean()\n",
    "print (average_2015_2019)\n",
    "monthly_average = years[:-1].mean()\n",
    "print (monthly_average)\n",
    "monthly_percentiles = years[:-1].quantile(1,axis=0)\n",
    "monthly_percentiles\n"
   ]
  },
  {
   "cell_type": "code",
   "execution_count": null,
   "metadata": {},
   "outputs": [],
   "source": [
    "### USES fhm_scb_dead.csv\n",
    "\n",
    "fhm_dead = pd.read_csv('fhm_scb_dead.csv',sep=';',header=0,index_col=0,parse_dates=True,names=['fhm_dead'])\n",
    "fhm_dead\n"
   ]
  },
  {
   "cell_type": "code",
   "execution_count": null,
   "metadata": {},
   "outputs": [],
   "source": [
    "fhm_monthly = fhm_dead.groupby(fhm_dead.index.month).sum()\n",
    "fhm_monthly['fhm_dead_per_M'] = fhm_monthly['fhm_dead'] / (curr_pop / 1e6)\n",
    "fhm_monthly.at[1,:] = [0,0]\n",
    "fhm_monthly.at[2,:] = [0,0]\n",
    "fhm_monthly.sort_index(inplace=True)\n",
    "fhm_monthly"
   ]
  },
  {
   "cell_type": "code",
   "execution_count": null,
   "metadata": {},
   "outputs": [],
   "source": [
    "scb_dead_2020_per_M = pd.DataFrame(years.loc[2020].copy())\n",
    "scb_dead_2020_per_M['month_nr'] = range(1,len(scb_dead_2020_per_M) + 1)\n",
    "scb_dead_2020_per_M.reset_index(inplace=True)\n",
    "scb_dead_2020_per_M.set_index('month_nr',inplace=True)\n",
    "scb_dead_2020_per_M"
   ]
  },
  {
   "cell_type": "code",
   "execution_count": null,
   "metadata": {},
   "outputs": [],
   "source": [
    "all_deaths = scb_dead_2020_per_M.join(fhm_monthly)\n",
    "all_deaths.rename(columns={2020 : 'scb_dead_per_M',\n",
    "                          'fhm_dead_per_M' : 'covid_deaths_per_M'},inplace=True)\n",
    "all_deaths['other_deaths_per_M'] = all_deaths['scb_dead_per_M'] - all_deaths['covid_deaths_per_M']\n",
    "all_deaths['pct_covid_deaths'] = all_deaths['covid_deaths_per_M'] / all_deaths['scb_dead_per_M'] * 100\n",
    "all_deaths['pct_other_deaths'] = all_deaths['other_deaths_per_M'] / all_deaths['scb_dead_per_M'] * 100\n",
    "all_deaths"
   ]
  },
  {
   "cell_type": "code",
   "execution_count": null,
   "metadata": {},
   "outputs": [],
   "source": [
    "(pd.Timestamp(last_complete_month) - pd.DateOffset(months=1)).month_name()"
   ]
  },
  {
   "cell_type": "code",
   "execution_count": null,
   "metadata": {},
   "outputs": [],
   "source": [
    "all_deaths.plot(title='SWEDEN COVID-19 deaths vs OTHER deaths Jan - {} 2020\\nDataSource: SCB.se, FHM'.format(\n",
    "    pd.Timestamp(last_complete_month).month_name()),\n",
    "                kind='bar',x='month',color=['r','orange'],\n",
    "                y=['covid_deaths_per_M','other_deaths_per_M'],stacked=True,figsize=(18,12))\n",
    "\n",
    "plt.ylabel('Total deaths per million')\n",
    "plt.plot(monthly_average.index,monthly_average,'o--',label='monthly average 1990-2019',color='red')\n",
    "plt.plot(average_2015_2019.index,average_2015_2019,'o--',label='monthly average 2015-2019',color='k')\n",
    "\n",
    "plt.legend(loc='upper right')\n",
    "plt.savefig('scb_fhm_covid_vs_other_per_M.jpg',format='jpg')"
   ]
  },
  {
   "cell_type": "code",
   "execution_count": null,
   "metadata": {
    "scrolled": false
   },
   "outputs": [],
   "source": [
    "average_2015_2019"
   ]
  },
  {
   "cell_type": "code",
   "execution_count": null,
   "metadata": {},
   "outputs": [],
   "source": [
    "all_deaths.plot(title='SWEDEN : Percent COVID-19 deaths vs OTHER deaths Jan - {} 2020\\nDataSource: SCB.se, FHM'.format(\n",
    "    pd.Timestamp(last_complete_month).month_name()),\n",
    "                kind='bar',x='month',color=['r','orange'],\n",
    "                y=['pct_covid_deaths','pct_other_deaths'],stacked=True,figsize=(18,12))\n",
    "\n",
    "plt.ylabel('Percent')\n",
    "plt.savefig('scb_fhm_covid_vs_other_rel.jpg',format='jpg')"
   ]
  },
  {
   "cell_type": "code",
   "execution_count": null,
   "metadata": {},
   "outputs": [],
   "source": [
    "print (years.min())\n",
    "print (years.max())\n",
    "print (years)\n"
   ]
  },
  {
   "cell_type": "code",
   "execution_count": null,
   "metadata": {},
   "outputs": [],
   "source": [
    "years.sum(axis=1).sort_values(ascending=False)"
   ]
  },
  {
   "cell_type": "code",
   "execution_count": null,
   "metadata": {},
   "outputs": [],
   "source": [
    "cum_mean_2015_2019 = years.sum(axis=1)\n",
    "cum_mean_2015_2019 = cum_mean_2015_2019.loc[2015:2020].mean()\n",
    "print (cum_mean_2015_2019)\n",
    "\n",
    "cum_mean_1990_2019 = years.sum(axis=1)\n",
    "cum_mean_1990_2019 = cum_mean_1990_2019.loc[1990:2020].mean()\n",
    "print (cum_mean_1990_2019)\n",
    "\n",
    "print (years.loc[2020].sum())"
   ]
  },
  {
   "cell_type": "code",
   "execution_count": null,
   "metadata": {},
   "outputs": [],
   "source": [
    "scb_2020_copy = scb_2020_orig.copy()\n",
    "scb_2020_copy.reset_index(inplace=True)\n",
    "#scb_2020_copy['Månad'] = scb_2020_copy['Månad'].apply(date_parser)\n",
    "\n",
    "\n",
    "scb_2020_copy['Månad'] = pd.Categorical(scb_2020_copy['Månad'],['januari','februari','mars','april','maj','juni',\n",
    "                                                      'juli','augusti','september','oktober','november','december'])\n",
    "\n",
    "scb_2020_copy.sort_values('Månad',inplace=True)\n",
    "scb_2020_copy.drop(['min_2015_2019','max_2015_2019'],axis=1,inplace=True)\n",
    "\n",
    "scb_2020_copy['excess_2015'] = scb_2020_copy['2020'] - scb_2020_copy['2015-2019']\n",
    "scb_2020_copy['excess_2015_cum'] = scb_2020_copy['excess_2015'].cumsum()\n",
    "scb_2020_copy['2020_cum'] = scb_2020_copy['2020'].cumsum()\n",
    "scb_2020_copy['2020_per_M'] = scb_2020_copy['2020'] / (curr_pop / 1e6)\n",
    "scb_2020_copy['2020_per_M_cum'] = scb_2020_copy['2020_per_M'].cumsum()\n",
    "scb_2020_copy['excess_2015_per_M'] = scb_2020_copy['excess_2015'] / (curr_pop / 1e6)\n",
    "scb_2020_copy['excess_2015_per_M_cum'] = scb_2020_copy['excess_2015_per_M'].cumsum()\n",
    "scb_2020_copy"
   ]
  },
  {
   "cell_type": "code",
   "execution_count": null,
   "metadata": {},
   "outputs": [],
   "source": [
    "death_df"
   ]
  },
  {
   "cell_type": "code",
   "execution_count": null,
   "metadata": {},
   "outputs": [],
   "source": [
    "scb_2020_abs = scb_2020_orig.reset_index()\n",
    "\n",
    "scb_2020_abs['Månad'] = scb_2020_abs['Månad'].apply(date_parser)\n",
    "print (scb_2020_abs)\n",
    "\n",
    "scb_2020_abs['Månad'] = pd.Categorical(scb_2020_abs['Månad'],['January','February','March',\n",
    "                                                             'April','May','June','July','August','September',\n",
    "                                                             'October'])\n",
    "scb_2020_abs.set_index('Månad',inplace=True)"
   ]
  },
  {
   "cell_type": "code",
   "execution_count": null,
   "metadata": {},
   "outputs": [],
   "source": [
    "scb_2020_abs.sort_index(inplace=True)\n",
    "scb_2020_abs"
   ]
  },
  {
   "cell_type": "code",
   "execution_count": null,
   "metadata": {},
   "outputs": [],
   "source": [
    "scb_2020_abs = pd.concat([death_df,scb_2020_abs['2020']],axis=1)\n",
    "death_df.reset_index(inplace=True)\n",
    "death_df"
   ]
  },
  {
   "cell_type": "code",
   "execution_count": null,
   "metadata": {},
   "outputs": [],
   "source": [
    "scb_2020_abs.reset_index(inplace=True)"
   ]
  },
  {
   "cell_type": "code",
   "execution_count": null,
   "metadata": {},
   "outputs": [],
   "source": [
    "scb_2020_abs['index'] = pd.Categorical(scb_2020_abs['index'],['January','February','March','April',\n",
    "                                                             'May','June','July','August',\n",
    "                                                             'September','October','November','December'])\n",
    "\n",
    "scb_2020_abs.sort_values('index',inplace=True)\n",
    "scb_2020_abs.set_index('index',inplace=True)\n",
    "scb_2020_abs\n",
    "                                       \n",
    "                                       "
   ]
  },
  {
   "cell_type": "code",
   "execution_count": null,
   "metadata": {},
   "outputs": [],
   "source": [
    "total_abs_ytd = scb_2020_abs[:pd.to_datetime(last_complete_month).month_name()].sum()\n",
    "total_abs_ytd"
   ]
  },
  {
   "cell_type": "code",
   "execution_count": null,
   "metadata": {},
   "outputs": [],
   "source": [
    "year_pairs_abs = total_abs_ytd.iloc[1::2].reset_index() + total_abs_ytd.iloc[2::2].reset_index()\n",
    "year_pairs_abs['index'] = year_pairs_abs['index'].apply(lambda x : x[:4] + '_' + x[4:])\n",
    "year_pairs_abs.columns = ['years','deaths']\n",
    "year_pairs_abs"
   ]
  },
  {
   "cell_type": "code",
   "execution_count": null,
   "metadata": {},
   "outputs": [],
   "source": [
    "pop = scb_pop.T[1:]"
   ]
  },
  {
   "cell_type": "code",
   "execution_count": null,
   "metadata": {},
   "outputs": [],
   "source": [
    "pop = pop.iloc[::2].reset_index()\n",
    "pop.columns=['year','pop']\n",
    "pop"
   ]
  },
  {
   "cell_type": "code",
   "execution_count": null,
   "metadata": {},
   "outputs": [],
   "source": [
    "year_pairs_abs['dead_per_M'] = year_pairs_abs['deaths'] / (pop['pop'] / 1e6)\n",
    "year_pairs_abs.set_index('years',inplace=True)\n",
    "year_pairs_abs"
   ]
  },
  {
   "cell_type": "code",
   "execution_count": null,
   "metadata": {},
   "outputs": [],
   "source": [
    "year_pairs_abs.plot(figsize=(18,12),y='deaths',kind='bar',color='crimson',\n",
    "                   title='SWEDEN sum of absolute deaths consecutive pairwise years, Jan-{} \\nDataSource : SCB.se'.format(\n",
    "                   pd.to_datetime(last_complete_month).month_name()))\n",
    "plt.ylabel('number of deaths')\n",
    "\n",
    "plt.savefig('pair_abs_deaths.jpg',format='jpg',dpi=400)"
   ]
  },
  {
   "cell_type": "code",
   "execution_count": null,
   "metadata": {},
   "outputs": [],
   "source": [
    "year_pairs_abs.plot(figsize=(18,12),y='dead_per_M',kind='bar',color='crimson',\n",
    "                   title='SWEDEN sum of deaths per M,consecutive pairwise years, Jan-{} \\nDataSource : SCB.se'.format(\n",
    "                   pd.to_datetime(last_complete_month).month_name()))\n",
    "plt.ylabel('deaths per million')\n",
    "\n",
    "plt.savefig('pair_rel_deaths.jpg',format='jpg',dpi=400)"
   ]
  },
  {
   "cell_type": "code",
   "execution_count": null,
   "metadata": {},
   "outputs": [],
   "source": [
    "pd.to_datetime(last_complete_month).month_name()"
   ]
  },
  {
   "cell_type": "code",
   "execution_count": null,
   "metadata": {},
   "outputs": [],
   "source": [
    "deaths_per_m_grouped_sums_1990_2020_YTD.sum(axis=1)\n",
    "\n"
   ]
  },
  {
   "cell_type": "code",
   "execution_count": null,
   "metadata": {},
   "outputs": [],
   "source": [
    "last_date"
   ]
  },
  {
   "cell_type": "code",
   "execution_count": null,
   "metadata": {},
   "outputs": [],
   "source": [
    "deaths_per_m_grouped_sums_1990_2020_YTD\n"
   ]
  },
  {
   "cell_type": "code",
   "execution_count": null,
   "metadata": {},
   "outputs": [],
   "source": [
    "first_part_of_year = ['Aug','Sep','Oct','Nov','Dec']\n",
    "second_part_of_year = ['Jan','Feb','Mar','Apr','May','Jun','Jul']\n",
    "\n",
    "\n",
    "first = deaths_per_m_grouped_sums_1990_2020_YTD[first_part_of_year][1:]\n",
    "second = deaths_per_m_grouped_sums_1990_2020_YTD[second_part_of_year][1:]\n",
    "\n",
    "first = first[::2]\n",
    "second = second[1::2]\n",
    "print (first.sum(axis=1))\n",
    "second.sum(axis=1)\n"
   ]
  },
  {
   "cell_type": "code",
   "execution_count": null,
   "metadata": {},
   "outputs": [],
   "source": [
    "season_deaths_per_m = pd.concat([first.reset_index(drop=True),second.reset_index(drop=True)],axis=1)\n",
    "season_deaths_per_m.sum(axis=1)"
   ]
  },
  {
   "cell_type": "code",
   "execution_count": null,
   "metadata": {},
   "outputs": [],
   "source": [
    "title = 'SWEDEN seasonal deaths per million, August preceeding year - July subsequent year,'\\\n",
    "' 1991-2020\\nDataSource : SCB.se'\n",
    "\n",
    "xlabels = ['91-92','93-94','95-96','97-98','99-00','01-02','03-04','05-06','07-08',\n",
    "          '09-10','11-12','13-14','15-16','17-18','19-20']\n",
    "\n",
    "season_deaths_per_m.plot(figsize=(18,12),kind='bar',stacked=True,title=title)\n",
    "plt.xticks(range(len(season_deaths_per_m.index)),xlabels)\n",
    "plt.legend(loc='lower center')\n",
    "plt.xlabel('Season [August-July]')\n",
    "plt.ylabel('dead per million')\n",
    "plt.savefig('sweden_seasonal_deaths_per_m.jpg',format='jpg',dpi=400)"
   ]
  },
  {
   "cell_type": "code",
   "execution_count": null,
   "metadata": {},
   "outputs": [],
   "source": [
    "death_df.rename(columns={'index' : 'Månad'},inplace=True)"
   ]
  },
  {
   "cell_type": "code",
   "execution_count": null,
   "metadata": {},
   "outputs": [],
   "source": [
    "print (scb_2020_orig)\n",
    "scb_2020_orig.index = scb_2020_orig.reset_index()['Månad'].apply(date_parser)"
   ]
  },
  {
   "cell_type": "code",
   "execution_count": null,
   "metadata": {},
   "outputs": [],
   "source": [
    "scb_2020_orig"
   ]
  },
  {
   "cell_type": "code",
   "execution_count": null,
   "metadata": {},
   "outputs": [],
   "source": [
    "abs_deaths = death_df.set_index('Månad').join(scb_2020_orig['2020'])"
   ]
  },
  {
   "cell_type": "code",
   "execution_count": null,
   "metadata": {},
   "outputs": [],
   "source": [
    "abs_deaths = abs_deaths.T\n",
    "abs_deaths"
   ]
  },
  {
   "cell_type": "code",
   "execution_count": null,
   "metadata": {},
   "outputs": [],
   "source": [
    "first_season_half = abs_deaths.loc[:,'September' : 'December'][1::2]\n",
    "second_season_half = abs_deaths.loc[:,: 'August'][2::2]\n",
    "\n",
    "print (first_season_half)\n",
    "second_season_half"
   ]
  },
  {
   "cell_type": "code",
   "execution_count": null,
   "metadata": {},
   "outputs": [],
   "source": [
    "season_deaths_abs= pd.concat([first_season_half.reset_index(drop=True),second_season_half.reset_index(drop=True)],axis=1)\n",
    "season_deaths_abs.sum(axis=1)"
   ]
  },
  {
   "cell_type": "code",
   "execution_count": null,
   "metadata": {},
   "outputs": [],
   "source": [
    "scb_pop['2020'] = scb_pop['2019']"
   ]
  },
  {
   "cell_type": "code",
   "execution_count": null,
   "metadata": {},
   "outputs": [],
   "source": [
    "ave_pop = ((scb_pop.T + scb_pop.T.shift()) / 2)[::2].reset_index(drop=True).dropna().reset_index(drop=True)\n",
    "ave_pop"
   ]
  },
  {
   "cell_type": "code",
   "execution_count": null,
   "metadata": {},
   "outputs": [],
   "source": [
    "season_deaths_abs = season_deaths_abs[['January','February','March','April','May','June',\n",
    "                                      'July','August','September','October','November','December']]\n",
    "\n",
    "season_deaths_abs.index = ['91-92','93-94','95-96','97-98','99-00','01-02','03-04',\n",
    "                          '05-06','07-08','09-10','11-12','13-14','15-16',\n",
    "                          '17-18','19-20']\n",
    "\n",
    "season_deaths_abs"
   ]
  },
  {
   "cell_type": "code",
   "execution_count": null,
   "metadata": {},
   "outputs": [],
   "source": [
    "season_tot_deaths_abs = season_deaths_abs.sum(axis=1)\n",
    "season_tot_deaths_per_m = season_tot_deaths_abs.reset_index(drop=True) / (ave_pop[0] / 1e6)\n",
    "\n",
    "season_tot_deaths_per_m.index = ['91-92','93-94','95-96','97-98','99-00','01-02','03-04',\n",
    "                          '05-06','07-08','09-10','11-12','13-14','15-16',\n",
    "                          '17-18','19-20']\n",
    "season_tot_deaths_per_m"
   ]
  },
  {
   "cell_type": "code",
   "execution_count": null,
   "metadata": {},
   "outputs": [],
   "source": [
    "season_tot_deaths_per_m.plot(figsize=(18,12),kind='bar')"
   ]
  },
  {
   "cell_type": "code",
   "execution_count": null,
   "metadata": {},
   "outputs": [],
   "source": [
    "second_season_half\n"
   ]
  },
  {
   "cell_type": "code",
   "execution_count": null,
   "metadata": {},
   "outputs": [],
   "source": [
    "abs_deaths"
   ]
  },
  {
   "cell_type": "code",
   "execution_count": null,
   "metadata": {},
   "outputs": [],
   "source": [
    "first_season_half_even = abs_deaths.loc[:,'November' : 'December'][2::2]\n",
    "first_season_half_even = first_season_half_even[:-1]\n",
    "second_season_half_even = abs_deaths.loc[:,: 'October'][3::2]\n",
    "\n",
    "print (first_season_half_even)\n",
    "second_season_half_even"
   ]
  },
  {
   "cell_type": "code",
   "execution_count": null,
   "metadata": {},
   "outputs": [],
   "source": [
    "season_deaths_abs_even = pd.concat([first_season_half_even.reset_index(drop=True),\n",
    "                                    second_season_half_even.reset_index(drop=True)],axis=1)\n",
    "\n",
    "season_deaths_abs_even\n"
   ]
  },
  {
   "cell_type": "code",
   "execution_count": null,
   "metadata": {},
   "outputs": [],
   "source": [
    "season_deaths_abs_even = season_deaths_abs_even[['January','February','March','April','May','June',\n",
    "                                      'July','August','September','October','November','December']]\n",
    "\n",
    "season_deaths_abs_even.index = ['92-93','94-95','96-97','98-99','00-01','02-03','04-05',\n",
    "                          '06-07','08-09','10-11','12-13','14-15','16-17',\n",
    "                          '18-19']\n",
    "\n",
    "season_deaths_abs_even"
   ]
  },
  {
   "cell_type": "code",
   "execution_count": null,
   "metadata": {},
   "outputs": [],
   "source": [
    "season_even_tot_deaths_abs = season_deaths_abs_even.sum(axis=1)\n",
    "season_even_tot_deaths_abs"
   ]
  },
  {
   "cell_type": "code",
   "execution_count": null,
   "metadata": {},
   "outputs": [],
   "source": [
    "scb_pop.T"
   ]
  },
  {
   "cell_type": "code",
   "execution_count": null,
   "metadata": {},
   "outputs": [],
   "source": [
    "ava_pop_even = ((scb_pop.T.loc['1992':] + scb_pop.T.loc['1992':].shift(-1)) / 2)[::2].dropna().astype(int).reset_index(drop=True)\n",
    "ava_pop_even"
   ]
  },
  {
   "cell_type": "code",
   "execution_count": null,
   "metadata": {},
   "outputs": [],
   "source": [
    "season_even_tot_deaths_per_m = season_even_tot_deaths_abs.reset_index(drop=True) / (ava_pop_even[0] / 1e6)\n",
    "season_even_tot_deaths_per_m.dropna(inplace=True)\n",
    "\n",
    "season_even_tot_deaths_per_m"
   ]
  },
  {
   "cell_type": "code",
   "execution_count": null,
   "metadata": {},
   "outputs": [],
   "source": [
    "season_even_tot_deaths_per_m.index = ['92-93','94-95','96-97','98-99','00-01','02-03','04-05',\n",
    "                          '06-07','08-09','10-11','12-13','14-15','16-17',\n",
    "                          '18-19']\n",
    "\n",
    "season_even_tot_deaths_per_m"
   ]
  },
  {
   "cell_type": "code",
   "execution_count": null,
   "metadata": {},
   "outputs": [],
   "source": [
    "all_season_deaths_per_m = pd.concat([season_tot_deaths_per_m,season_even_tot_deaths_per_m])\n",
    "all_season_deaths_per_m"
   ]
  },
  {
   "cell_type": "code",
   "execution_count": null,
   "metadata": {},
   "outputs": [],
   "source": [
    "new_index = ['91-92','92-93','93-94','94-95','95-96','96-97','97-98','98-99',\n",
    "            '99-00','00-01','01-02','02-03','03-04','04-05','05-06','06-07',\n",
    "            '07-08','08-09','09-10','10-11','11-12','12-13','13-14','14-15',\n",
    "            '15-16','16-17','17-18','18-19','19-20']\n",
    "\n",
    "all_season_deaths_per_m = all_season_deaths_per_m.reindex(new_index)\n",
    "all_season_deaths_per_m"
   ]
  },
  {
   "cell_type": "code",
   "execution_count": null,
   "metadata": {},
   "outputs": [],
   "source": [
    "all_season_deaths_per_m.plot(figsize=(18,12),kind='bar',color='crimson',\n",
    "                            title='SWEDEN Seasonal All Cause Deaths 1991/1992 - 2019/2020, Oct-Sep')\n",
    "\n",
    "plt.xlabel('Season [Oct -> Sep]')\n",
    "plt.ylabel('deaths per million')\n",
    "\n",
    "plt.savefig('sweden_seasonal_deaths_91_2020_sep_aug.jpg',format='jpg',dpi=400)\n",
    "                             "
   ]
  },
  {
   "cell_type": "code",
   "execution_count": null,
   "metadata": {
    "scrolled": false
   },
   "outputs": [],
   "source": [
    "scb = parse_scb_prel(YTD=False)\n",
    "scb = scb.loc[:,'2015':'2015-2019'].astype(int)\n",
    "scb['2015-2018'] = scb.loc[:,'2015':'2018'].mean(axis=1)\n",
    "scb"
   ]
  },
  {
   "cell_type": "code",
   "execution_count": null,
   "metadata": {},
   "outputs": [],
   "source": [
    "np.argwhere(scb.index=='2020-09-25')"
   ]
  },
  {
   "cell_type": "code",
   "execution_count": null,
   "metadata": {},
   "outputs": [],
   "source": [
    "scb.sum()"
   ]
  },
  {
   "cell_type": "code",
   "execution_count": null,
   "metadata": {},
   "outputs": [],
   "source": [
    "cum_means = scb.cumsum().div(np.arange(1,len(scb) + 1),axis=0)"
   ]
  },
  {
   "cell_type": "code",
   "execution_count": null,
   "metadata": {},
   "outputs": [],
   "source": [
    "cum_means.plot(y=['2015','2020'],title='Proportional daily running mean YTD')\n",
    "plt.ylabel('average daily deaths at day n')"
   ]
  },
  {
   "cell_type": "code",
   "execution_count": null,
   "metadata": {},
   "outputs": [],
   "source": [
    "cum_means"
   ]
  },
  {
   "cell_type": "code",
   "execution_count": null,
   "metadata": {},
   "outputs": [],
   "source": [
    "(cum_means.loc['2020-09-04','2020'] - cum_means.loc['2020-09-04','2015-2019']) "
   ]
  },
  {
   "cell_type": "code",
   "execution_count": null,
   "metadata": {},
   "outputs": [],
   "source": [
    "scb_pop"
   ]
  },
  {
   "cell_type": "code",
   "execution_count": null,
   "metadata": {},
   "outputs": [],
   "source": [
    "scb.drop(['2015-2018','2015-2019'],axis=1,inplace=True)\n",
    "scb"
   ]
  },
  {
   "cell_type": "code",
   "execution_count": null,
   "metadata": {},
   "outputs": [],
   "source": [
    "pop_15_20 = scb_pop.loc[:,'2014' : '2019']\n",
    "pop_15_20.columns=['2015','2016','2017','2018','2019','2020']\n",
    "pop_15_20"
   ]
  },
  {
   "cell_type": "code",
   "execution_count": null,
   "metadata": {},
   "outputs": [],
   "source": [
    "scb_per_M = scb / (pop_15_20.values / 1e6)\n",
    "scb_per_M = scb_per_M[:-4]\n",
    "scb_per_M"
   ]
  },
  {
   "cell_type": "code",
   "execution_count": null,
   "metadata": {},
   "outputs": [],
   "source": [
    "cum_means_per_M = scb_per_M.cumsum().div(np.arange(1,len(scb_per_M) + 1),axis=0)\n",
    "cum_means_per_M_avg = cum_means_per_M.loc[:,'2015' : '2018'].mean(axis=1)\n",
    "cum_means_per_M"
   ]
  },
  {
   "cell_type": "code",
   "execution_count": null,
   "metadata": {},
   "outputs": [],
   "source": [
    "cum_means_per_M.loc[:'2020-09-18']"
   ]
  },
  {
   "cell_type": "code",
   "execution_count": null,
   "metadata": {},
   "outputs": [],
   "source": [
    "last_d = cum_means_per_M.index[-1].date()\n",
    "last_d"
   ]
  },
  {
   "cell_type": "code",
   "execution_count": null,
   "metadata": {},
   "outputs": [],
   "source": [
    "last_date = last_date - pd.DateOffset(weeks=1)"
   ]
  },
  {
   "cell_type": "code",
   "execution_count": null,
   "metadata": {},
   "outputs": [],
   "source": [
    "colors = ['r','g','b','yellow','orange','k']\n",
    "ax = cum_means_per_M.loc[:last_date].plot(\n",
    "    title='SWEDEN Moving daily average deaths per million YTD {}, 2015-2020'.format(last_date),\n",
    "                    figsize=(18,12),color=colors)\n",
    "\n",
    "cum_means_per_M_avg.plot(ax=ax,style='k--',label='2015-2018 mean',lw=3)\n",
    "\n",
    "plt.ylabel('average YTD daily deaths per million on day n of year')\n",
    "plt.axvline(last_date,color='orange',ls='dashed',label='2020 last data: {}'.format(last_date))\n",
    "plt.legend(loc='upper right')\n",
    "plt.savefig('running_daily_average_deaths.jpg',format='jpg')"
   ]
  },
  {
   "cell_type": "code",
   "execution_count": null,
   "metadata": {},
   "outputs": [],
   "source": [
    "total_abs_ytd"
   ]
  },
  {
   "cell_type": "code",
   "execution_count": null,
   "metadata": {},
   "outputs": [],
   "source": [
    "pair_wise_years_abs = total_abs_ytd + total_abs_ytd.shift()\n",
    "pair_wise_years_abs.dropna(inplace=True)\n",
    "pair_wise_years_abs.index = ['90/91','91/92','92/93','93/94','94/95','95/96','96/97','97/98',\n",
    "                            '98/99','99/00','00/01','01/02','02/03','03/04','04/05','05/06',\n",
    "                            '06/07','07/08','08/09','09/10','10/11','11/12','12/13','13/14',\n",
    "                            '14/15','15/16','16/17','17/18','18/19','19/20']\n",
    "\n",
    "pair_wise_years_abs / 2\n"
   ]
  },
  {
   "cell_type": "code",
   "execution_count": null,
   "metadata": {},
   "outputs": [],
   "source": [
    "scb_pop"
   ]
  },
  {
   "cell_type": "code",
   "execution_count": null,
   "metadata": {},
   "outputs": [],
   "source": [
    "pair_wise_pop = (scb_pop.T + scb_pop.T.shift()) / 2\n",
    "pair_wise_pop.dropna(inplace=True)\n",
    "pair_wise_pop.index = ['90/91','91/92','92/93','93/94','94/95','95/96','96/97','97/98',\n",
    "                            '98/99','99/00','00/01','01/02','02/03','03/04','04/05','05/06',\n",
    "                            '06/07','07/08','08/09','09/10','10/11','11/12','12/13','13/14',\n",
    "                            '14/15','15/16','16/17','17/18','18/19','19/20']\n",
    "\n",
    "pair_wise_pop = pair_wise_pop[0]\n",
    "pair_wise_pop"
   ]
  },
  {
   "cell_type": "code",
   "execution_count": null,
   "metadata": {},
   "outputs": [],
   "source": [
    "pair_wise_deaths_per_m = (pair_wise_years_abs / 2) / (pair_wise_pop / 1e6)\n",
    "pair_wise_deaths_per_m"
   ]
  },
  {
   "cell_type": "code",
   "execution_count": null,
   "metadata": {},
   "outputs": [],
   "source": [
    "pd.to_datetime(last_complete_month).month_name()"
   ]
  },
  {
   "cell_type": "code",
   "execution_count": null,
   "metadata": {},
   "outputs": [],
   "source": [
    "title='SWEDEN Mortality - \"Regression to the Mean\" :'\\\n",
    "'\\naverage deaths per million January - {}\\n'\\\n",
    "'pairwise consecutive years, 1990-2020\\nDataSource : SCB.se'.format(\n",
    "    pd.to_datetime(last_complete_month).month_name())\n",
    "\n",
    "pair_wise_deaths_per_m.plot(kind='bar',figsize=(18,12),title=title,color='crimson')\n",
    "plt.ylabel('average deaths per million for two consecutive years')\n",
    "plt.savefig('sweden_regression_to_mean.jpg',format='jpg')"
   ]
  },
  {
   "cell_type": "code",
   "execution_count": null,
   "metadata": {},
   "outputs": [],
   "source": [
    "print (years_per_M.min())\n",
    "print (years_per_M.apply(lambda x : years_per_M.index[x.argmin()]))"
   ]
  },
  {
   "cell_type": "code",
   "execution_count": null,
   "metadata": {},
   "outputs": [],
   "source": []
  },
  {
   "cell_type": "code",
   "execution_count": null,
   "metadata": {},
   "outputs": [],
   "source": [
    "years_per_M"
   ]
  },
  {
   "cell_type": "code",
   "execution_count": null,
   "metadata": {},
   "outputs": [],
   "source": [
    "odd_years = years_per_M.iloc[1::2]\n",
    "even_years = years_per_M.iloc[2::2]\n",
    "print (odd_years)\n",
    "even_years"
   ]
  },
  {
   "cell_type": "code",
   "execution_count": null,
   "metadata": {},
   "outputs": [],
   "source": [
    "pairwise_years = (odd_years.reset_index(drop=True) + even_years.reset_index(drop=True)) / 2\n",
    "pairwise_years.index=['91/92','93/94','95/96','97/98','99/00',\n",
    "                     '01/02','03/04','05/06','07/08','09/10',\n",
    "                     '11/12','13/14','15/16','17/18','19/20']\n",
    "pairwise_years"
   ]
  },
  {
   "cell_type": "code",
   "execution_count": null,
   "metadata": {},
   "outputs": [],
   "source": [
    "pairwise_years.sum(axis=1)"
   ]
  },
  {
   "cell_type": "code",
   "execution_count": null,
   "metadata": {},
   "outputs": [],
   "source": [
    "month = pd.to_datetime(last_complete_month).month_name()\n",
    "day = pd.to_datetime(last_complete_month).day"
   ]
  },
  {
   "cell_type": "code",
   "execution_count": null,
   "metadata": {},
   "outputs": [],
   "source": [
    "title = 'SWEDEN avg deaths per M, pairwise years, January 1:st - {} {}:th\\nDataSource : scb.se'.format(month,day)\n",
    "pairwise_years.sum(axis=1).plot(kind='bar',figsize=(18,12),color='crimson',title=title)\n",
    "plt.ylabel('deaths per million')\n",
    "plt.xlabel('paired years')\n",
    "\n",
    "plt.savefig('swe_pairwise_years_deaths_per_m_ytd.jpg',format='jpg')"
   ]
  },
  {
   "cell_type": "code",
   "execution_count": null,
   "metadata": {},
   "outputs": [],
   "source": [
    "abs_deaths_ytd = abs_deaths.loc[:,:'October'].sum(axis=1)\n",
    "abs_deaths_ytd"
   ]
  },
  {
   "cell_type": "code",
   "execution_count": null,
   "metadata": {},
   "outputs": [],
   "source": [
    "odd_abs = abs_deaths_ytd.iloc[1::2]\n",
    "even_abs = abs_deaths_ytd.iloc[2::2]\n",
    "print (odd_abs)\n",
    "print (even_abs)"
   ]
  },
  {
   "cell_type": "code",
   "execution_count": null,
   "metadata": {},
   "outputs": [],
   "source": [
    "pairwise_abs = (odd_abs.reset_index(drop=True) + even_abs.reset_index(drop=True)) / 2\n",
    "pairwise_abs.index=['91/92','93/94','95/96','97/98','99/00',\n",
    "                     '01/02','03/04','05/06','07/08','09/10',\n",
    "                     '11/12','13/14','15/16','17/18','19/20']\n",
    "\n",
    "pairwise_abs"
   ]
  },
  {
   "cell_type": "code",
   "execution_count": null,
   "metadata": {},
   "outputs": [],
   "source": [
    "pairwise_abs.plot(kind='bar',figsize=(18,12))"
   ]
  }
 ],
 "metadata": {
  "kernelspec": {
   "display_name": "Python 3",
   "language": "python",
   "name": "python3"
  },
  "language_info": {
   "codemirror_mode": {
    "name": "ipython",
    "version": 3
   },
   "file_extension": ".py",
   "mimetype": "text/x-python",
   "name": "python",
   "nbconvert_exporter": "python",
   "pygments_lexer": "ipython3",
   "version": "3.8.6"
  }
 },
 "nbformat": 4,
 "nbformat_minor": 4
}
