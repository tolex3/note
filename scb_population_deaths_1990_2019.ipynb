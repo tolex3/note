{
 "cells": [
  {
   "cell_type": "code",
   "execution_count": null,
   "metadata": {},
   "outputs": [],
   "source": [
    "import numpy as np\n",
    "import matplotlib.pyplot as plt\n",
    "import seaborn as sns\n",
    "import pandas as pd\n",
    "\n",
    "sns.set()"
   ]
  },
  {
   "cell_type": "code",
   "execution_count": null,
   "metadata": {},
   "outputs": [],
   "source": [
    "##### PARAM #####\n",
    "last_complete_month = '2020-05-31'"
   ]
  },
  {
   "cell_type": "code",
   "execution_count": null,
   "metadata": {
    "scrolled": false
   },
   "outputs": [],
   "source": [
    "def date_parser(m):\n",
    "    eng_months = {'januari' : 'January',\n",
    "                 'februari' : 'February',\n",
    "                 'mars' : 'March',\n",
    "                 'april' : 'April',\n",
    "                 'maj' : 'May',\n",
    "                 'juni' : 'June',\n",
    "                 'juli' : 'July',\n",
    "                 'augusti' : 'August',\n",
    "                 'september' : 'September',\n",
    "                 'oktober' : 'October',\n",
    "                 'november' : 'November',\n",
    "                 'december' : 'December'}\n",
    "    \n",
    "    eng = eng_months[m]\n",
    "    \n",
    "    return pd.datetime.strptime(eng,'%B').date().strftime('%B')\n",
    "    \n",
    "    \n",
    "death_df = pd.read_csv('scb_dead_per_month.csv',encoding='ISO-8859-1')"
   ]
  },
  {
   "cell_type": "code",
   "execution_count": null,
   "metadata": {},
   "outputs": [],
   "source": [
    "death_df['månad'] = death_df['månad'].apply(date_parser)\n",
    "death_df['månad'] = pd.Categorical(death_df['månad'],['January','February','March','April','May','June',\n",
    "                                         'July','August','September','October','November','December'])"
   ]
  },
  {
   "cell_type": "code",
   "execution_count": null,
   "metadata": {},
   "outputs": [],
   "source": [
    "death_df"
   ]
  },
  {
   "cell_type": "code",
   "execution_count": null,
   "metadata": {},
   "outputs": [],
   "source": [
    "death_df = death_df.groupby('månad').sum()\n",
    "\n",
    "death_df"
   ]
  },
  {
   "cell_type": "code",
   "execution_count": null,
   "metadata": {
    "scrolled": false
   },
   "outputs": [],
   "source": [
    "scb_pop = pd.read_csv('scb_population.csv',encoding='ISO-8859-1')\n",
    "\n",
    "scb_pop"
   ]
  },
  {
   "cell_type": "code",
   "execution_count": null,
   "metadata": {},
   "outputs": [],
   "source": [
    "pd.set_option(\"display.precision\", 2)\n",
    "deaths_per_m = death_df / (scb_pop.loc[0,:] / 1e6)\n",
    "deaths_per_m = deaths_per_m.T\n",
    "deaths_per_m"
   ]
  },
  {
   "cell_type": "code",
   "execution_count": null,
   "metadata": {
    "scrolled": false
   },
   "outputs": [],
   "source": [
    "monthly_deaths = []\n",
    "\n",
    "for r,v in deaths_per_m.iterrows():\n",
    "    monthly_deaths.extend(v)\n",
    "    \n"
   ]
  },
  {
   "cell_type": "code",
   "execution_count": null,
   "metadata": {
    "scrolled": true
   },
   "outputs": [],
   "source": [
    "dates = pd.date_range('1990-01-01','2019-12-31',freq='M')\n",
    "dates"
   ]
  },
  {
   "cell_type": "code",
   "execution_count": null,
   "metadata": {},
   "outputs": [],
   "source": [
    "monthly_timeline = pd.DataFrame(data=monthly_deaths,index=dates,columns=['dead_per_million'])\n",
    "scb_1990_2019 = monthly_timeline.copy()"
   ]
  },
  {
   "cell_type": "code",
   "execution_count": null,
   "metadata": {},
   "outputs": [],
   "source": [
    "scb_pop.mean()['2015':'2019'].mean()"
   ]
  },
  {
   "cell_type": "code",
   "execution_count": null,
   "metadata": {},
   "outputs": [],
   "source": [
    "curr_pop = 10327589 #from scb.se for 2019-12-31\n",
    "\n",
    "scb_2020 = pd.read_csv('scb-dead_per_day.csv',sep=';')\n",
    "scb_2020 = scb_2020.groupby('Månad').sum()\n",
    "scb_2020['min_2015_2019'] = scb_2020[['2015','2016','2017','2018','2019']].min(axis=1)\n",
    "scb_2020['max_2015_2019'] = scb_2020[['2015','2016','2017','2018','2019']].max(axis=1)\n",
    "\n",
    "scb_2020 = scb_2020[['2020','2015-2019','min_2015_2019','max_2015_2019']]\n",
    "scb_2020[['2015-2019','min_2015_2019','max_2015_2019']] = scb_2020[['2015-2019','min_2015_2019','max_2015_2019']] / (scb_pop.mean()['2015':'2019'].mean()/1e6)\n",
    "\n",
    "scb_2020 = pd.DataFrame(scb_2020)\n",
    "scb_2020.reset_index(inplace=True)\n",
    "scb_2020['Månad'] = pd.Categorical(scb_2020['Månad'],['januari','februari','mars','april','maj','juni',                                                    'juli','augusti','september','oktober','november','december'])\n",
    "\n",
    "scb_2020.sort_values('Månad',inplace=True)\n",
    "scb_2020.index = pd.date_range('2020-01-01','2020-12-31',freq='M')\n",
    "#scb_2020 = scb_2020.loc[:last_complete_month]\n",
    "scb_2020['2020'] = scb_2020['2020'] / (curr_pop/1e6)\n",
    "scb_2020.rename(columns={'2020' : 'dead_per_million'},inplace=True)\n",
    "scb_2020"
   ]
  },
  {
   "cell_type": "code",
   "execution_count": null,
   "metadata": {},
   "outputs": [],
   "source": []
  },
  {
   "cell_type": "code",
   "execution_count": null,
   "metadata": {},
   "outputs": [],
   "source": [
    "monthly_timeline"
   ]
  },
  {
   "cell_type": "code",
   "execution_count": null,
   "metadata": {},
   "outputs": [],
   "source": [
    "monthly_timeline.plot(figsize=(18,12))\n",
    "scb_2020['dead_per_million'].plot(color='r')"
   ]
  },
  {
   "cell_type": "code",
   "execution_count": null,
   "metadata": {},
   "outputs": [],
   "source": [
    "monthly_timeline = pd.concat([monthly_timeline['dead_per_million'],scb_2020['dead_per_million']],axis=0)\n",
    "monthly_timeline"
   ]
  },
  {
   "cell_type": "code",
   "execution_count": null,
   "metadata": {},
   "outputs": [],
   "source": [
    "two_thousands_rank = monthly_timeline.rank(ascending=False).sort_values()\n",
    "two_thousands_rank = two_thousands_rank.loc['2000-01-01':]\n",
    "two_thousands_rank.plot(figsize=(18,12),style=['o--'])\n",
    "plt.ylabel('rank')"
   ]
  },
  {
   "cell_type": "code",
   "execution_count": null,
   "metadata": {},
   "outputs": [],
   "source": [
    "monthly_timeline = pd.DataFrame(monthly_timeline.sort_values(ascending=False))\n",
    "monthly_timeline['rank'] = range(1,len(monthly_timeline) + 1)\n",
    "monthly_timeline.head(50)"
   ]
  },
  {
   "cell_type": "code",
   "execution_count": null,
   "metadata": {},
   "outputs": [],
   "source": [
    "mean = monthly_timeline.mean()\n",
    "mean"
   ]
  },
  {
   "cell_type": "code",
   "execution_count": null,
   "metadata": {},
   "outputs": [],
   "source": [
    "monthly_timeline.loc[last_complete_month]"
   ]
  },
  {
   "cell_type": "code",
   "execution_count": null,
   "metadata": {},
   "outputs": [],
   "source": [
    "top_20 = pd.DataFrame(monthly_timeline[:20])\n",
    "top_20"
   ]
  },
  {
   "cell_type": "code",
   "execution_count": null,
   "metadata": {
    "scrolled": false
   },
   "outputs": [],
   "source": [
    "colors = ['b'] * 18 # must set colors after seeing which place they fall onto\n",
    "colors.append('r')\n",
    "colors.append('b')\n",
    "print (colors)\n",
    "top_20.index = top_20.index.date\n",
    "top_20['dead_per_million'].plot(kind='bar',\n",
    "                                figsize=(18,12),\n",
    "                                color=colors,\n",
    "                                title='SWEDEN - Top-20 deadliest months January 1990 - May 2020\\nDataSource: SCB.se')\n",
    "plt.ylabel('deaths per million')\n",
    "plt.axhline(mean['dead_per_million'],color='orange',ls='dashed',label='average 1990-2019')\n",
    "plt.legend(loc='upper right')\n",
    "plt.savefig('scb_population_deaths_1990-2020.jpg',format='jpg')"
   ]
  },
  {
   "cell_type": "code",
   "execution_count": null,
   "metadata": {},
   "outputs": [],
   "source": [
    "\n",
    "scb_1990_2019"
   ]
  },
  {
   "cell_type": "code",
   "execution_count": null,
   "metadata": {},
   "outputs": [],
   "source": [
    "scb_1990_2020 = pd.DataFrame(pd.concat([scb_1990_2019['dead_per_million'],scb_2020['dead_per_million']],axis=0))\n",
    "scb_1990_2020"
   ]
  },
  {
   "cell_type": "code",
   "execution_count": null,
   "metadata": {},
   "outputs": [],
   "source": [
    "scb_1990_2020['year'] = scb_1990_2020.index.year\n",
    "scb_1990_2020['month'] = scb_1990_2020.index.month"
   ]
  },
  {
   "cell_type": "code",
   "execution_count": null,
   "metadata": {},
   "outputs": [],
   "source": [
    "scb_1990_2020"
   ]
  },
  {
   "cell_type": "code",
   "execution_count": null,
   "metadata": {},
   "outputs": [],
   "source": [
    "month_grp = scb_1990_2020[:'2019-12-31'].groupby('month')['dead_per_million'].agg(['min','mean','max'])\n",
    "month_grp"
   ]
  },
  {
   "cell_type": "code",
   "execution_count": null,
   "metadata": {
    "scrolled": false
   },
   "outputs": [],
   "source": [
    "scb_2020['month'] = scb_2020.index.month \n",
    "\n",
    "plt.figure(figsize=(18,12))\n",
    "plt.title('Sweden Monthly Deaths per million, adjusted for population - All Causes\\nDataSource:SCB.se')\n",
    "plt.plot(month_grp['mean'],'o--',label='Monthly Average 1990-2019')\n",
    "plt.plot(scb_2020['month'],scb_2020['2015-2019'],'o--',color='orange',label='Monthly Average 2015-2019')\n",
    "plt.fill_between(scb_2020['month'],scb_2020['min_2015_2019'],scb_2020['max_2015_2019'],color='m',alpha=0.3,label='2015-2019 range')\n",
    "\n",
    "plt.fill_between(month_grp.index,month_grp['min'],month_grp['max'],color='c',alpha=0.3,label='1990-2019 range')\n",
    "\n",
    "plt.plot(scb_2020['month'][:last_complete_month],scb_2020['dead_per_million'][:last_complete_month],'o--',color='crimson',label='2020')\n",
    "plt.legend(loc='upper left')\n",
    "plt.xlabel('month')\n",
    "plt.ylabel('dead per million')\n",
    "xticks = ['Jan','Feb','Mar','Apr','May','Jun','Jul','Aug','Sep','Oct','Nov','Dec']\n",
    "_=plt.xticks(month_grp.index,xticks)\n",
    "plt.savefig('scb_monthly_deaths_all.jpg',format='jpg')"
   ]
  },
  {
   "cell_type": "code",
   "execution_count": null,
   "metadata": {},
   "outputs": [],
   "source": [
    "scb_2020_monthly = scb_2020.set_index('month')\n",
    "print (scb_2020_monthly)\n",
    "\n",
    "mean_1990_2019 = month_grp.loc[:pd.Timestamp(last_complete_month).month]\n",
    "print (mean_1990_2019)\n",
    "monthly_excess = scb_2020_monthly['dead_per_million'] - mean_1990_2019['mean']\n",
    "print (monthly_excess)\n",
    "print (monthly_excess.cumsum())"
   ]
  },
  {
   "cell_type": "code",
   "execution_count": null,
   "metadata": {},
   "outputs": [],
   "source": [
    "pd.Timestamp(last_complete_month).month"
   ]
  },
  {
   "cell_type": "code",
   "execution_count": null,
   "metadata": {},
   "outputs": [],
   "source": [
    "mask = scb_1990_2020.index.month.isin(range(1,pd.Timestamp(last_complete_month).month + 1))\n",
    "first_months = scb_1990_2020[mask]['dead_per_million']\n",
    "first_cum = first_months.groupby(first_months.index.year).sum()\n",
    "first_cum"
   ]
  },
  {
   "cell_type": "code",
   "execution_count": null,
   "metadata": {},
   "outputs": [],
   "source": [
    "first_cum.plot(kind='bar',figsize=(18,12),color='orange',\n",
    "               title='SWEDEN cumulative deaths per million Jan 1:st - {} last,1990-2020\\nDataSource:SCB.se'.format(\n",
    "                   pd.Timestamp(last_complete_month).month_name()))\n",
    "plt.ylabel('deaths per million')\n",
    "plt.savefig('scb_deaths_jan_may_unsorted.jpg'.format('jpg'))"
   ]
  },
  {
   "cell_type": "code",
   "execution_count": null,
   "metadata": {},
   "outputs": [],
   "source": [
    "colors = ['orange'] * 22\n",
    "colors.append('crimson')\n",
    "color_tail = ['orange'] * 8\n",
    "colors.extend(color_tail)\n",
    "\n",
    "print (colors)\n",
    "first_cum.sort_values(ascending=False).plot(kind='bar',figsize=(18,12),\n",
    "                                            title='SWEDEN cumulative deaths per million Jan 1:st - {} last,1990-2020\\nDataSource:SCB.se'.format(\n",
    "                   pd.Timestamp(last_complete_month).month_name()),\n",
    "                                            color=colors)\n",
    "plt.ylabel('deaths per million')\n",
    "plt.savefig('scb_deaths_jan_may_sorted.jpg',format='jpg')"
   ]
  },
  {
   "cell_type": "code",
   "execution_count": null,
   "metadata": {},
   "outputs": [],
   "source": []
  },
  {
   "cell_type": "code",
   "execution_count": null,
   "metadata": {
    "scrolled": false
   },
   "outputs": [],
   "source": [
    "by_month = first_months.groupby(first_months.index.month)\n",
    "month_stats =[]\n",
    "\n",
    "for month in range (1,pd.Timestamp(last_complete_month).month + 1):\n",
    "    m = by_month.get_group(month)\n",
    "    month_stats.append(m.agg(['min','mean','max']).values)\n",
    "    \n",
    "month_stats = pd.DataFrame(data=np.array(month_stats),\n",
    "                           index=range(1,pd.Timestamp(last_complete_month).month + 1),\n",
    "                           columns=['mini','mean','maxi'])\n",
    "\n",
    "month_stats.index.name='month'\n",
    "month_stats"
   ]
  },
  {
   "cell_type": "code",
   "execution_count": null,
   "metadata": {
    "scrolled": false
   },
   "outputs": [],
   "source": [
    "from matplotlib import cm\n",
    "\n",
    "first_cumsum = first_months.groupby(first_months.index.year).cumsum()\n",
    "bar = first_cumsum.groupby(first_cumsum.index.year)\n",
    "\n",
    "plt.figure(figsize=(18,12))\n",
    "plt.title('SWEDEN cumulative monthly deaths per million, 1990-2020, Jan 1st to {} last'.format(\n",
    "    pd.Timestamp(last_complete_month).month_name()))\n",
    "\n",
    "for k in bar.groups.keys():\n",
    "    plt.plot(bar.get_group(k),'ro--')\n",
    "    \n",
    "plt.ylabel('cumulative deaths per million')"
   ]
  },
  {
   "cell_type": "code",
   "execution_count": null,
   "metadata": {},
   "outputs": [],
   "source": [
    "first_months"
   ]
  },
  {
   "cell_type": "code",
   "execution_count": null,
   "metadata": {
    "scrolled": false
   },
   "outputs": [],
   "source": [
    "first_sum = first_months.groupby(first_months.index.year)\n",
    "\n",
    "month_names = {1:'Jan',2:'Feb',3:'Mar',4:'Apr',5:'May',6:'Jun',\n",
    "              7:'Jul',8:'Aug',9:'Sep',10:'Oct',11:'Nov',12:'Dec'}\n",
    "\n",
    "years = dict()\n",
    "\n",
    "for k in first_sum.groups.keys():\n",
    "    years[k] = first_sum.get_group(k).values\n",
    "    \n",
    "years = pd.DataFrame(years).T\n",
    "num_months = range(1,pd.Timestamp(last_complete_month).month + 1)\n",
    "years.columns= num_months\n",
    "\n",
    "years.rename(columns=month_names,inplace=True)\n",
    "\n",
    "years.columns.name = 'month'\n",
    "years.index.name = 'year'\n",
    "years\n",
    "\n"
   ]
  },
  {
   "cell_type": "code",
   "execution_count": null,
   "metadata": {},
   "outputs": [],
   "source": [
    "years.plot(kind='bar',stacked=True,figsize=(18,12),\n",
    "          title='Sweden1990-2020 : Deaths per million : All Causes : January to {}\\nDataSource:SCB.se'.format(\n",
    "              pd.Timestamp(last_complete_month).month_name()))\n",
    "\n",
    "plt.ylabel('Nr dead per million')\n",
    "plt.savefig('scb_deaths_per_M_per_month_1990_2020.jpg',format='jpg')"
   ]
  }
 ],
 "metadata": {
  "kernelspec": {
   "display_name": "Python 3",
   "language": "python",
   "name": "python3"
  },
  "language_info": {
   "codemirror_mode": {
    "name": "ipython",
    "version": 3
   },
   "file_extension": ".py",
   "mimetype": "text/x-python",
   "name": "python",
   "nbconvert_exporter": "python",
   "pygments_lexer": "ipython3",
   "version": "3.6.9"
  }
 },
 "nbformat": 4,
 "nbformat_minor": 4
}
