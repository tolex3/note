{
 "cells": [
  {
   "cell_type": "code",
   "execution_count": null,
   "metadata": {},
   "outputs": [],
   "source": [
    "import pandas as pd\n",
    "import numpy as np\n",
    "import matplotlib.pyplot as plt\n",
    "import seaborn as sns\n",
    "\n",
    "%matplotlib inline\n",
    "sns.set()\n",
    "\n",
    "df_confirmed = pd.read_csv(\n",
    "    '../../corona/COVID-19/csse_covid_19_data/csse_covid_19_time_series/time_series_19-covid-Confirmed.csv',\n",
    "                sep=',',encoding='ISO8859-1')\n",
    "\n",
    "df_deceased = pd.read_csv(\n",
    "    '../../corona/COVID-19/csse_covid_19_data/csse_covid_19_time_series/time_series_19-covid-Deaths.csv',\n",
    "                sep=',',encoding='ISO8859-1')\n"
   ]
  },
  {
   "cell_type": "code",
   "execution_count": null,
   "metadata": {
    "scrolled": true
   },
   "outputs": [],
   "source": [
    "df_confirmed.head(40)"
   ]
  },
  {
   "cell_type": "code",
   "execution_count": null,
   "metadata": {},
   "outputs": [],
   "source": [
    "us = df_confirmed.groupby('Country/Region').get_group('US')\n",
    "us_states = us.groupby('Province/State').sum()\n",
    "us_states.reset_index(inplace=True)\n",
    "us_states['state'] = us_states['Province/State']\n",
    "\n",
    "\n",
    "city_state = us_states['Province/State'].str.split(',',expand=True)\n",
    "city_state.columns = ['city','state']\n",
    "\n",
    "state_map = pd.read_csv('../../corona/us_states.csv',sep=';',names=['statename','abb'],header=None)\n",
    "state_map.set_index('statename',inplace=True)\n",
    "\n",
    "missing_mask = city_state['state'].isnull()\n",
    "non_missing_mask = ~city_state['state'].isnull()\n",
    "\n",
    "missing_states = city_state[missing_mask]\n",
    "missing_states = missing_states.reset_index().merge(state_map,left_on='city',right_on='statename',how='outer')\n",
    "missing_states.drop(['city','state'],axis=1,inplace=True)\n",
    "missing_states.set_index('index',inplace=True)\n",
    "\n",
    "us_states.loc[missing_states.index,'state'] = missing_states['abb']\n",
    "#foo = us_states.loc[non_missing_mask,'state'].apply(lambda x : x.split(',')[1])\n",
    "#us_states.loc[non_missing_mask,'state'] = foo\n",
    "us_states\n",
    "us_states = us_states[missing_mask]\n",
    "us_states\n",
    "\n",
    "us_states.set_index('Province/State',inplace=True)\n",
    "us_states.drop(['Lat','Long','state'],axis=1,inplace=True)\n",
    "us_states = us_states.join(state_map,how='inner')\n",
    "us_states.drop('abb',axis=1,inplace=True)\n",
    "plt.figure(figsize=(18,12))\n",
    "plt.title('Corona - US infected by State')\n",
    "plt.ylabel('Nr infected')\n",
    "us_states.iloc[:,-1].plot(kind='bar')\n",
    "plt.savefig('us_infected_by_state.jpg',format='jpg')\n",
    "(us_states.sum(axis=1) / us_states.sum(axis=1).sum()).sort_values()\n"
   ]
  },
  {
   "cell_type": "code",
   "execution_count": null,
   "metadata": {},
   "outputs": [],
   "source": [
    "countries = df_confirmed['Country/Region'].unique()\n",
    "sorted(countries)"
   ]
  },
  {
   "cell_type": "code",
   "execution_count": null,
   "metadata": {},
   "outputs": [],
   "source": [
    "\n",
    "all_countries = pd.DataFrame()\n",
    "\n",
    "for c in countries:\n",
    "    temp = df_confirmed[df_confirmed['Country/Region'] == c]\n",
    "    temp = temp.groupby('Country/Region')\n",
    "    temp = temp.sum().iloc[:,4:]\n",
    "    temp = temp.T\n",
    "\n",
    "    all_countries = pd.concat([all_countries,temp],axis=1)\n",
    "\n",
    "def create_country_df(country):\n",
    "    \n",
    "    confirmed = all_countries[country]\n",
    "    confirmed.index = pd.to_datetime(confirmed.index)\n",
    "    factor = confirmed / confirmed.shift()\n",
    "    data = pd.concat([confirmed,factor],axis=1)\n",
    "    data.columns = ['confirmed','factor']\n",
    "    data.factor.replace(np.inf,np.nan,inplace=True)\n",
    "    data['inc'] = data['confirmed'] - data['confirmed'].shift()\n",
    "    return data\n",
    "\n",
    "confirmed_dict = dict()\n",
    "\n",
    "for c in countries:\n",
    "    confirmed_dict[c] = create_country_df(c)\n",
    "    \n",
    "thai = confirmed_dict['Thailand']\n",
    "swe = confirmed_dict['Sweden']\n",
    "ita = confirmed_dict['Italy']\n",
    "korea = confirmed_dict['Korea, South']\n",
    "us = confirmed_dict['US']\n",
    "spain = confirmed_dict['Spain']\n",
    "\n"
   ]
  },
  {
   "cell_type": "code",
   "execution_count": null,
   "metadata": {},
   "outputs": [],
   "source": [
    "global_confirmed = df_confirmed.iloc[:,5:].sum()\n"
   ]
  },
  {
   "cell_type": "code",
   "execution_count": null,
   "metadata": {},
   "outputs": [],
   "source": [
    "global_deceased = df_deceased.iloc[:,5:].sum()\n",
    "global_deceased.index = pd.to_datetime(global_deceased.index)\n",
    "global_confirmed = df_confirmed.iloc[:,5:].sum()\n",
    "global_confirmed.index = pd.to_datetime(global_confirmed.index)\n",
    "\n",
    "global_data = pd.DataFrame(global_confirmed,columns=['confirmed'])\n",
    "global_data['factor'] = global_data['confirmed'] / global_data['confirmed'].shift()\n",
    "global_data['inc'] = global_data['confirmed'] - global_data['confirmed'].shift()\n",
    "global_data['dead'] = global_deceased\n",
    "global_data['dead_factor'] = global_data['dead'] / global_data['dead'].shift()\n",
    "global_data['dead_inc'] = global_data['dead'] - global_data['dead'].shift()\n",
    "global_data['pct_dead'] = 100 * global_data['dead'] /global_data['confirmed']\n",
    "global_data.index = pd.to_datetime(global_data.index)\n",
    "global_data.tail(10)"
   ]
  },
  {
   "cell_type": "code",
   "execution_count": null,
   "metadata": {},
   "outputs": [],
   "source": [
    "global_conf = np.log10(global_confirmed)\n",
    "\n",
    "swe_conf = swe.loc[swe['confirmed'] > 0]\n",
    "swe_conf = np.log10(swe_conf['confirmed'])\n",
    "ita_conf = ita.loc[ita['confirmed'] > 0]\n",
    "ita_conf = np.log10(ita_conf['confirmed'])\n",
    "us_conf = us.loc[us['confirmed'] > 0]\n",
    "us_conf = np.log10(us_conf['confirmed'])\n",
    "korea_conf = korea.loc[korea['confirmed'] > 0]\n",
    "korea_conf = np.log10(korea_conf['confirmed'])\n",
    "spain_conf = spain.loc[spain['confirmed'] > 0]\n",
    "spain_conf = np.log10(spain['confirmed'])\n",
    "\n",
    "plt.figure(figsize=(18,12))\n",
    "plt.title('Number of infected [Log Scale]')\n",
    "plt.plot(swe_conf,'x-',color='yellow',label='Sweden')\n",
    "plt.plot(ita_conf,'x-',color='green',label='Italy')\n",
    "plt.plot(global_conf,'x-',color='black',label='Global')\n",
    "plt.plot(us_conf,'x-',color='red',label='US')\n",
    "plt.plot(korea_conf,'x-',color='b',label='Korea')\n",
    "plt.plot(spain_conf,'x-',color='orange',label='Spain')\n",
    "plt.ylabel('Nr Infected [log-10]')\n",
    "plt.legend(loc='upper left')\n",
    "plt.savefig('corona_evolution_countries_log.jpg',format='jpg')"
   ]
  },
  {
   "cell_type": "code",
   "execution_count": null,
   "metadata": {},
   "outputs": [],
   "source": [
    "global_series = all_countries.sum(axis=1)\n",
    "_= plt.figure(figsize=(18,12))\n",
    "_= plt.plot(global_series,'x--')\n",
    "\n",
    "_= plt.xticks(rotation=90)\n",
    "\n"
   ]
  },
  {
   "cell_type": "code",
   "execution_count": null,
   "metadata": {},
   "outputs": [],
   "source": [
    "df_deceased = pd.read_csv(\n",
    "    '../../corona/COVID-19/csse_covid_19_data/csse_covid_19_time_series/time_series_19-covid-Deaths.csv',\n",
    "                sep=',',encoding='ISO8859-1')\n",
    "df_deceased.head()\n",
    "\n",
    "#countries_deceased = df_deceased['Country/Region'].unique()\n",
    "\n",
    "countries_deceased = countries\n",
    "all_countries_deceased = pd.DataFrame()\n",
    "\n",
    "for c in countries_deceased:\n",
    "    temp = df_deceased[df_deceased['Country/Region'] == c]\n",
    "    temp = temp.groupby('Country/Region')\n",
    "    temp = temp.sum().iloc[:,4:]\n",
    "    temp = temp.T\n",
    "\n",
    "    all_countries_deceased = pd.concat([all_countries_deceased,temp],axis=1)\n",
    "\n",
    "def create_deceased_df(country):\n",
    "    \n",
    "    deceased = all_countries_deceased[country]\n",
    "    deceased.index = pd.to_datetime(deceased.index)\n",
    "    factor = deceased / deceased.shift()\n",
    "\n",
    "    data = pd.concat([deceased,factor],axis=1)\n",
    "    data.columns = ['deceased','dead_factor']\n",
    "    data.dead_factor.replace(np.inf,np.nan,inplace=True)\n",
    "    data['dead_inc'] = data['deceased'] - data['deceased'].shift()\n",
    "    return data\n",
    "\n",
    "deceased_dict = dict()\n",
    "\n",
    "for c in countries_deceased:\n",
    "    deceased_dict[c] = create_deceased_df(c)\n",
    "\n",
    "\n"
   ]
  },
  {
   "cell_type": "code",
   "execution_count": null,
   "metadata": {
    "scrolled": true
   },
   "outputs": [],
   "source": [
    "country_data = dict()\n",
    "\n",
    "for c in countries:\n",
    "    country_data[c] = pd.concat([confirmed_dict[c],deceased_dict[c]],axis=1)\n",
    "    country_data[c]['pct_dead'] = 100 * country_data[c]['deceased'] / country_data[c]['confirmed']\n",
    "    country_data[c]['conf_over_dead'] = country_data[c]['confirmed'] / country_data[c]['deceased']\n",
    "    country_data[c]['conf_over_dead'] = country_data[c]['conf_over_dead'].replace(np.inf,np.nan)\n",
    "import pickle\n",
    "\n",
    "with open ('country_data.pkl','wb') as f:\n",
    "    pickle.dump(country_data,f,protocol=pickle.HIGHEST_PROTOCOL)\n",
    "    \n",
    "ita = country_data['Italy']\n",
    "swe = country_data['Sweden']\n",
    "esp = country_data['Spain']\n",
    "korea = country_data['Korea, South']\n",
    "us = country_data['US']\n",
    "germany = country_data['Germany']\n",
    "china = country_data['China']\n",
    "#iran = country_data['Iran']\n",
    "swe\n",
    "\n"
   ]
  },
  {
   "cell_type": "code",
   "execution_count": null,
   "metadata": {},
   "outputs": [],
   "source": [
    "plt.figure(figsize=(18,12))\n",
    "plt.plot(ita['factor'],'x-',label='Italy',color='g')\n",
    "plt.plot(swe['factor'],'x-',label='Sweden',color='yellow')\n",
    "plt.legend(loc='upper left')\n",
    "plt.xticks(rotation=90)"
   ]
  },
  {
   "cell_type": "code",
   "execution_count": null,
   "metadata": {
    "scrolled": false
   },
   "outputs": [],
   "source": [
    "plt.figure(figsize=(18,12))\n",
    "    \n",
    "plt.plot(ita['conf_over_dead'],ita['inc'],'x--',color='g',label='Italy')\n",
    "plt.plot(korea['conf_over_dead'],korea['inc'],'x--',color='m',label='Korea')\n",
    "plt.plot(us['conf_over_dead'],us['inc'],'x--',color='cyan',label='US')\n",
    "#plt.plot(esp['conf_over_dead'],esp['inc'],'x--',color='yellow',label='Spain')\n",
    "plt.plot(china['conf_over_dead'],china['inc'],'x--',color='r',label='China')\n",
    "plt.plot(germany['conf_over_dead'],germany['inc'],'x--',color='k',label='Germany')\n",
    "markers = ['1','2','3','4','5','6','7']\n",
    "plt.plot(swe['conf_over_dead'],swe['inc'],'x--',color='orange',label='Sweden')\n",
    "\n",
    "\n",
    "plt.xscale('log')\n",
    "plt.yscale('log')\n",
    "\n",
    "plt.ylabel('Daily increment of confirmed')\n",
    "plt.xlabel('confirmed over dead')\n",
    "\n",
    "plt.legend(loc='upper left')\n",
    "plt.savefig('scott.jpg',format='jpg')"
   ]
  }
 ],
 "metadata": {
  "kernelspec": {
   "display_name": "Python 3",
   "language": "python",
   "name": "python3"
  },
  "language_info": {
   "codemirror_mode": {
    "name": "ipython",
    "version": 3
   },
   "file_extension": ".py",
   "mimetype": "text/x-python",
   "name": "python",
   "nbconvert_exporter": "python",
   "pygments_lexer": "ipython3",
   "version": "3.6.9"
  }
 },
 "nbformat": 4,
 "nbformat_minor": 4
}
