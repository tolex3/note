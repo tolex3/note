{
 "cells": [
  {
   "cell_type": "code",
   "execution_count": null,
   "metadata": {},
   "outputs": [],
   "source": [
    "import pandas as pd\n",
    "import numpy as np\n",
    "import matplotlib.pyplot as plt\n",
    "import seaborn as sns\n",
    "\n",
    "%matplotlib inline\n",
    "sns.set()\n",
    "\n",
    "df_confirmed = pd.read_csv(\n",
    "    '../../corona/COVID-19/csse_covid_19_data/csse_covid_19_time_series/time_series_covid19_confirmed_global.csv',\n",
    "                sep=',',encoding='ISO8859-1')\n",
    "\n",
    "df_deceased = pd.read_csv(\n",
    "    '../../corona/COVID-19/csse_covid_19_data/csse_covid_19_time_series/time_series_covid19_deaths_global.csv',\n",
    "                sep=',',encoding='ISO8859-1')\n"
   ]
  },
  {
   "cell_type": "code",
   "execution_count": null,
   "metadata": {
    "scrolled": false
   },
   "outputs": [],
   "source": [
    "df_confirmed.tail(40)"
   ]
  },
  {
   "cell_type": "code",
   "execution_count": null,
   "metadata": {
    "scrolled": true
   },
   "outputs": [],
   "source": [
    "countries = df_confirmed['Country/Region'].unique()\n",
    "sorted(countries)"
   ]
  },
  {
   "cell_type": "code",
   "execution_count": null,
   "metadata": {},
   "outputs": [],
   "source": [
    "\n",
    "all_countries = pd.DataFrame()\n",
    "\n",
    "for c in countries:\n",
    "    temp = df_confirmed[df_confirmed['Country/Region'] == c]\n",
    "    temp = temp.groupby('Country/Region')\n",
    "    temp = temp.sum().iloc[:,4:]\n",
    "    temp = temp.T\n",
    "\n",
    "    all_countries = pd.concat([all_countries,temp],axis=1)\n",
    "\n",
    "def create_country_df(country):\n",
    "    \n",
    "    confirmed = all_countries[country]\n",
    "    confirmed.index = pd.to_datetime(confirmed.index)\n",
    "    factor = confirmed / confirmed.shift()\n",
    "    data = pd.concat([confirmed,factor],axis=1)\n",
    "    data.columns = ['confirmed','factor']\n",
    "    data.factor.replace(np.inf,np.nan,inplace=True)\n",
    "    data['inc'] = data['confirmed'] - data['confirmed'].shift()\n",
    "    return data\n",
    "\n",
    "confirmed_dict = dict()\n",
    "\n",
    "for c in countries:\n",
    "    confirmed_dict[c] = create_country_df(c)\n",
    "    \n",
    "thai = confirmed_dict['Thailand']\n",
    "swe = confirmed_dict['Sweden']\n",
    "ita = confirmed_dict['Italy']\n",
    "korea = confirmed_dict['Korea, South']\n",
    "us = confirmed_dict['US']\n",
    "spain = confirmed_dict['Spain']\n",
    "ger = confirmed_dict['Germany']\n",
    "\n",
    "us\n"
   ]
  },
  {
   "cell_type": "code",
   "execution_count": null,
   "metadata": {},
   "outputs": [],
   "source": [
    "global_confirmed = df_confirmed.iloc[:,5:].sum()\n"
   ]
  },
  {
   "cell_type": "code",
   "execution_count": null,
   "metadata": {},
   "outputs": [],
   "source": [
    "global_deceased = df_deceased.iloc[:,5:].sum()\n",
    "global_deceased.index = pd.to_datetime(global_deceased.index)\n",
    "global_confirmed = df_confirmed.iloc[:,5:].sum()\n",
    "global_confirmed.index = pd.to_datetime(global_confirmed.index)\n",
    "\n",
    "global_data = pd.DataFrame(global_confirmed,columns=['confirmed'])\n",
    "global_data['factor'] = global_data['confirmed'] / global_data['confirmed'].shift()\n",
    "global_data['inc'] = global_data['confirmed'] - global_data['confirmed'].shift()\n",
    "global_data['dead'] = global_deceased\n",
    "global_data['dead_factor'] = global_data['dead'] / global_data['dead'].shift()\n",
    "global_data['dead_inc'] = global_data['dead'] - global_data['dead'].shift()\n",
    "global_data['pct_dead'] = 100 * global_data['dead'] /global_data['confirmed']\n",
    "global_data.index = pd.to_datetime(global_data.index)\n",
    "global_data.to_pickle('global_data.pkl')\n",
    "global_data\n",
    "global_data.describe()"
   ]
  },
  {
   "cell_type": "code",
   "execution_count": null,
   "metadata": {},
   "outputs": [],
   "source": [
    "global_conf = np.log10(global_confirmed)\n",
    "\n",
    "swe_conf = swe.loc[swe['confirmed'] > 0]\n",
    "swe_conf = np.log10(swe_conf['confirmed'])\n",
    "ita_conf = ita.loc[ita['confirmed'] > 0]\n",
    "ita_conf = np.log10(ita_conf['confirmed'])\n",
    "us_conf = us.loc[us['confirmed'] > 0]\n",
    "us_conf = np.log10(us_conf['confirmed'])\n",
    "korea_conf = korea.loc[korea['confirmed'] > 0]\n",
    "korea_conf = np.log10(korea_conf['confirmed'])\n",
    "spain_conf = spain.loc[spain['confirmed'] > 0]\n",
    "spain_conf = np.log10(spain['confirmed'])\n",
    "\n",
    "plt.figure(figsize=(18,12))\n",
    "plt.title('Number of infected [Log Scale]')\n",
    "plt.plot(swe_conf,'x-',color='yellow',label='Sweden')\n",
    "plt.plot(ita_conf,'x-',color='green',label='Italy')\n",
    "plt.plot(global_conf,'x-',color='black',label='Global')\n",
    "plt.plot(us_conf,'x-',color='red',label='US')\n",
    "plt.plot(korea_conf,'x-',color='b',label='Korea')\n",
    "plt.plot(spain_conf,'x-',color='orange',label='Spain')\n",
    "plt.ylabel('Nr Infected [log-10]')\n",
    "plt.legend(loc='upper left')\n",
    "plt.savefig('corona_evolution_countries_log.jpg',format='jpg')"
   ]
  },
  {
   "cell_type": "code",
   "execution_count": null,
   "metadata": {},
   "outputs": [],
   "source": [
    "global_series = all_countries.sum(axis=1)\n",
    "_= plt.figure(figsize=(18,12))\n",
    "_= plt.plot(global_series,'x--')\n",
    "\n",
    "_= plt.xticks(rotation=90)\n",
    "\n"
   ]
  },
  {
   "cell_type": "code",
   "execution_count": null,
   "metadata": {},
   "outputs": [],
   "source": [
    "\n",
    "\n",
    "countries_deceased = countries\n",
    "all_countries_deceased = pd.DataFrame()\n",
    "\n",
    "for c in countries_deceased:\n",
    "    temp = df_deceased[df_deceased['Country/Region'] == c]\n",
    "    temp = temp.groupby('Country/Region')\n",
    "    temp = temp.sum().iloc[:,4:]\n",
    "    temp = temp.T\n",
    "\n",
    "    all_countries_deceased = pd.concat([all_countries_deceased,temp],axis=1)\n",
    "    \n",
    "\n",
    "def create_deceased_df(country):\n",
    "    process = True\n",
    "    try:\n",
    "        deceased = all_countries_deceased[country]\n",
    "    except KeyError:\n",
    "        print ('cant find {} in deaths'.format(country))\n",
    "        process = False\n",
    "        \n",
    "    if process:\n",
    "        deceased.index = pd.to_datetime(deceased.index)\n",
    "        factor = deceased / deceased.shift()\n",
    "\n",
    "        data = pd.concat([deceased,factor],axis=1)\n",
    "        data.columns = ['deceased','dead_factor']\n",
    "        data.dead_factor.replace(np.inf,np.nan,inplace=True)\n",
    "        data['dead_inc'] = data['deceased'] - data['deceased'].shift()\n",
    "        return data\n",
    "\n",
    "deceased_dict = dict()\n",
    "\n",
    "for c in countries_deceased:\n",
    "    \n",
    "    deceased_dict[c] = create_deceased_df(c)\n",
    "\n",
    "\n"
   ]
  },
  {
   "cell_type": "code",
   "execution_count": null,
   "metadata": {
    "scrolled": false
   },
   "outputs": [],
   "source": [
    "country_data = dict()\n",
    "\n",
    "for c in countries:\n",
    "    country_data[c] = pd.concat([confirmed_dict[c],deceased_dict[c]],axis=1)\n",
    "    country_data[c]['pct_dead'] = 100 * country_data[c]['deceased'] / country_data[c]['confirmed']\n",
    "    country_data[c]['conf_over_dead'] = country_data[c]['confirmed'] / country_data[c]['deceased']\n",
    "    country_data[c]['conf_over_dead'] = country_data[c]['conf_over_dead'].replace(np.inf,np.nan)\n",
    "    country_data[c]['dead_conf_ratio'] =  country_data[c]['dead_factor'] / country_data[c]['factor']\n",
    "    \n",
    "\n",
    "import pickle\n",
    "\n",
    "with open ('country_data.pkl','wb') as f:\n",
    "    pickle.dump(country_data,f,protocol=pickle.HIGHEST_PROTOCOL)\n",
    "\n",
    "countries_of_interest = ['China','Taiwan*','Korea, South','Singapore',\n",
    "                         'Italy','Spain','US','Germany','Sweden']\n",
    "\n",
    "colors = ['r','b','lawngreen','c',\n",
    "          'forestgreen','orange','navy','k','yellow']\n",
    "\n",
    "plt.figure(figsize=(18,12))\n",
    "plt.title('death/ confirmed ratio')\n",
    "\n",
    "i = 0\n",
    "for c in countries_of_interest:\n",
    "    country = country_data[c]\n",
    "    mask = country['deceased'] >= 1\n",
    "    country = country[mask]\n",
    "    plt.plot(country['deceased'] / country['confirmed'],'x--',\n",
    "             color=colors[i],label=c)\n",
    "    i += 1      \n",
    "\n",
    "plt.ylabel('ratio')\n",
    "plt.xticks(rotation=90)\n",
    "plt.ylim([0,0.10])\n",
    "plt.legend(loc='upper left')\n",
    "#plt.yscale('log')\n",
    "\n",
    "plt.savefig('corona_dead_conf_ratio.jpg',format='jpg')\n"
   ]
  },
  {
   "cell_type": "code",
   "execution_count": null,
   "metadata": {
    "scrolled": false
   },
   "outputs": [],
   "source": [
    "country_data['Sweden'].tail(40)"
   ]
  },
  {
   "cell_type": "code",
   "execution_count": null,
   "metadata": {
    "scrolled": false
   },
   "outputs": [],
   "source": [
    "plt.figure(figsize=(18,12))\n",
    "plt.ylim([0,2])\n",
    "i = 0\n",
    "for c in countries_of_interest:\n",
    "    country = country_data[c]\n",
    "    mask = country['deceased'] >= 1\n",
    "    country = country[mask]\n",
    "    plt.plot(country['dead_conf_ratio'],'x--',\n",
    "             color=colors[i],label=c)\n",
    "    i += 1 "
   ]
  }
 ],
 "metadata": {
  "kernelspec": {
   "display_name": "Python 3",
   "language": "python",
   "name": "python3"
  },
  "language_info": {
   "codemirror_mode": {
    "name": "ipython",
    "version": 3
   },
   "file_extension": ".py",
   "mimetype": "text/x-python",
   "name": "python",
   "nbconvert_exporter": "python",
   "pygments_lexer": "ipython3",
   "version": "3.6.9"
  }
 },
 "nbformat": 4,
 "nbformat_minor": 4
}
