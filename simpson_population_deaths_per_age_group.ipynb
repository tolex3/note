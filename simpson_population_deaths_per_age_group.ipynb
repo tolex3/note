{
 "cells": [
  {
   "cell_type": "code",
   "execution_count": null,
   "metadata": {
    "scrolled": true
   },
   "outputs": [],
   "source": [
    "import numpy as np\n",
    "import matplotlib.pyplot as plt\n",
    "import seaborn as sns\n",
    "import pandas as pd\n",
    "\n",
    "sns.set()\n",
    "last_complete_month = '2020-06-30'\n",
    "last_complete_week = pd.Timestamp(last_complete_month).week\n",
    "\n",
    "# last complete week may be a few days off... but we are not doing rocket science here,\n",
    "# no need for precision to nth decimal... let's subtract one week for the 2015-2019 baseline,\n",
    "# so we are not getting positive bias for 2020\n",
    "\n",
    "last_complete_week -= 1\n",
    "\n",
    "last_complete_week"
   ]
  },
  {
   "cell_type": "code",
   "execution_count": null,
   "metadata": {
    "scrolled": true
   },
   "outputs": [],
   "source": [
    "df = pd.read_csv('scb_dead_per_age.csv',sep=';',header=None,usecols=range(19),index_col=0)\n",
    "cols = ['2019_tot','2019_M_64','2019_M_79','2019_M_89','2019_M_90+',\n",
    "       '2019_W_64','2019_W_79','2019_W_89','2019_W_90+',\n",
    "       '2020_tot','2020_M_64','2020_M_79','2020_M_89','2020_M_90+',\n",
    "       '2020_W_64','2020_W_79','2020_W_89','2020_W_90+']\n",
    "index = pd.date_range('2020-01-01','2020-12-31')\n",
    "df.index = index\n",
    "df.columns = cols\n",
    "df = df.loc[:last_complete_month]\n",
    "df"
   ]
  },
  {
   "cell_type": "code",
   "execution_count": null,
   "metadata": {
    "scrolled": true
   },
   "outputs": [],
   "source": [
    "totals = df[['2019_tot','2020_tot']]\n",
    "totals"
   ]
  },
  {
   "cell_type": "code",
   "execution_count": null,
   "metadata": {
    "scrolled": true
   },
   "outputs": [],
   "source": [
    "monthly_totals = totals.groupby(totals.index.month).sum()\n",
    "monthly_totals"
   ]
  },
  {
   "cell_type": "code",
   "execution_count": null,
   "metadata": {
    "scrolled": true
   },
   "outputs": [],
   "source": [
    "deaths_2015_2019 = pd.read_csv('scb_dead_per_age_2015-2019.csv',sep=';',\n",
    "                               header=None,index_col=0,usecols=range(10))\n",
    "deaths_2015_2019.index.name='week'\n",
    "deaths_2015_2019[64] = deaths_2015_2019[2] + deaths_2015_2019[6]\n",
    "deaths_2015_2019[79] = deaths_2015_2019[3] + deaths_2015_2019[7]\n",
    "deaths_2015_2019[89] = deaths_2015_2019[4] + deaths_2015_2019[8]\n",
    "deaths_2015_2019[90] = deaths_2015_2019[5] + deaths_2015_2019[9]\n",
    "deaths_2015_2019 = deaths_2015_2019[[64,79,89,90]]\n",
    "deaths_2015_2019 = deaths_2015_2019.loc[:last_complete_week,:]\n",
    "deaths_2015_2019 = deaths_2015_2019.sum()\n",
    "deaths_2015_2019"
   ]
  },
  {
   "cell_type": "code",
   "execution_count": null,
   "metadata": {
    "scrolled": true
   },
   "outputs": [],
   "source": [
    "foo = monthly_totals.T.plot(kind='bar',stacked=True,figsize=(18,12))\n",
    "foo"
   ]
  },
  {
   "cell_type": "code",
   "execution_count": null,
   "metadata": {
    "scrolled": true
   },
   "outputs": [],
   "source": [
    "monthly = df.resample('M').sum()\n",
    "monthly.drop(['2019_tot','2020_tot'],axis=1,inplace=True)\n",
    "monthly_sums_per_age = monthly.sum()\n",
    "cols = ['2019_M_64','2020_M_64','2019_M_79','2020_M_79','2019_M_89','2020_M_89','2019_M_90+','2020_M_90+',\n",
    "        '2019_W_64','2020_W_64','2019_W_79','2020_W_79','2019_W_89','2020_W_89','2019_W_90+','2020_W_90+']\n",
    "\n",
    "monthly_sums_per_age = monthly_sums_per_age[cols]\n",
    "monthly_sums_per_age"
   ]
  },
  {
   "cell_type": "code",
   "execution_count": null,
   "metadata": {
    "scrolled": true
   },
   "outputs": [],
   "source": [
    "monthly_sums_per_age.plot(kind='bar')"
   ]
  },
  {
   "cell_type": "code",
   "execution_count": null,
   "metadata": {
    "scrolled": true
   },
   "outputs": [],
   "source": [
    "foo = monthly_sums_per_age.index.str.contains('W')\n",
    "foo"
   ]
  },
  {
   "cell_type": "code",
   "execution_count": null,
   "metadata": {
    "scrolled": true
   },
   "outputs": [],
   "source": [
    "monthly_sums_per_age = pd.DataFrame(monthly_sums_per_age,columns=['dead'])\n",
    "monthly_sums_per_age['female'] = foo\n",
    "monthly_sums_per_age"
   ]
  },
  {
   "cell_type": "code",
   "execution_count": null,
   "metadata": {
    "scrolled": true
   },
   "outputs": [],
   "source": [
    "monthly_sums_per_age.reset_index(inplace=True,drop=False)\n",
    "monthly_sums_per_age\n"
   ]
  },
  {
   "cell_type": "code",
   "execution_count": null,
   "metadata": {
    "scrolled": true
   },
   "outputs": [],
   "source": [
    "bar = monthly_sums_per_age['index'].str[-3:].str.replace('_','').str.replace('+','').astype(int)\n",
    "bar"
   ]
  },
  {
   "cell_type": "code",
   "execution_count": null,
   "metadata": {
    "scrolled": true
   },
   "outputs": [],
   "source": [
    "monthly_sums_per_age['age'] = bar\n",
    "monthly_sums_per_age['year'] = monthly_sums_per_age['index'].apply(lambda x : x[:4])\n",
    "monthly_sums_per_age['year'] = monthly_sums_per_age['year'].apply(lambda x : pd.Timestamp(x).year)\n",
    "monthly_sums_per_age['gender'] = monthly_sums_per_age['female'].apply(lambda x : 'F' if x == True else 'M')\n",
    "monthly_sums_per_age.index = monthly_sums_per_age[['year','gender','age']]\n",
    "monthly_sums_per_age"
   ]
  },
  {
   "cell_type": "code",
   "execution_count": null,
   "metadata": {
    "scrolled": true
   },
   "outputs": [],
   "source": [
    "monthly_sums_per_age = monthly_sums_per_age.groupby(['year','age'])['dead'].sum()\n"
   ]
  },
  {
   "cell_type": "code",
   "execution_count": null,
   "metadata": {
    "scrolled": true
   },
   "outputs": [],
   "source": [
    "yearly_diff = monthly_sums_per_age.unstack().T\n",
    "yearly_diff['delta'] = yearly_diff[2020] - yearly_diff[2019]\n",
    "yearly_diff['pct'] = 100 * yearly_diff[2020] / yearly_diff[2019] - 100\n",
    "print (yearly_diff.sum())\n",
    "yearly_diff"
   ]
  },
  {
   "cell_type": "code",
   "execution_count": null,
   "metadata": {
    "scrolled": true
   },
   "outputs": [],
   "source": [
    "# population 2019 2020 - based on previous dec previous year\n",
    "\n",
    "pop = pd.read_csv('scb_population_2019_2020.csv',sep=';',header=None,usecols=[1,2,3,4,5,6])\n",
    "pop.index.name = 'age'\n",
    "pop['2019'] = pop[2] + pop[5]\n",
    "pop['2020'] = pop[3] + pop[6]\n",
    "\n",
    "pop = pop[['2019','2020']]\n",
    "\n",
    "pop_2019_64 = pop.loc[:64,'2019'].sum()\n",
    "pop_2019_79 = pop.loc[65:79,'2019'].sum()\n",
    "pop_2019_89 = pop.loc[80:89,'2019'].sum()\n",
    "pop_2019_90 = pop.loc[90:,'2019'].sum()\n",
    "\n",
    "print (pop_2019_64)\n",
    "print (pop_2019_79)\n",
    "print (pop_2019_89)\n",
    "print (pop_2019_90)\n",
    "\n",
    "print (pop_2019_64 + pop_2019_79 + pop_2019_89 + pop_2019_90)\n",
    "print ()\n",
    "pop_2020_64 = pop.loc[:64,'2020'].sum()\n",
    "pop_2020_79 = pop.loc[65:79,'2020'].sum()\n",
    "pop_2020_89 = pop.loc[80:89,'2020'].sum()\n",
    "pop_2020_90 = pop.loc[90:,'2020'].sum()\n",
    "\n",
    "print (pop_2020_64)\n",
    "print (pop_2020_79)\n",
    "print (pop_2020_89)\n",
    "print (pop_2020_90)\n",
    "\n",
    "print (pop_2020_64 + pop_2020_79 + pop_2020_89 + pop_2020_90)"
   ]
  },
  {
   "cell_type": "code",
   "execution_count": null,
   "metadata": {
    "scrolled": true
   },
   "outputs": [],
   "source": [
    "### fake data for categorical regression\n",
    "\n",
    "pop_df = pd.DataFrame({'pop_0-9' : [100000,200000],\n",
    "                      'pop_10-19' : [200000,400000],\n",
    "                      'pop_20-29' : [300000,600000],\n",
    "                      'dead_0-9' : [1000,2000],\n",
    "                      'dead_10-19' : [2000,4000],\n",
    "                      'dead_20-29' : [3000,6000]},\n",
    "                      index=[2000,2010])\n",
    "\n",
    "pop_df.at[2000,'pop_all'] = pop_df.loc[2000,'pop_0-9':'pop_20-29'].sum() \n",
    "pop_df.at[2010,'pop_all'] = pop_df.loc[2010,'pop_0-9':'pop_20-29'].sum() \n",
    "\n",
    "pop_df.at[2000,'dead_all'] = pop_df.loc[2000,'dead_0-9' : 'dead_20-29'].sum()\n",
    "pop_df.at[2010,'dead_all'] = pop_df.loc[2010,'dead_0-9' : 'dead_20-29'].sum()\n",
    "\n",
    "pop_df.at[2000,'dead_all_ratio'] = pop_df.loc[2000,'dead_all'] / pop_df.loc[2000,'pop_all']\n",
    "pop_df.at[2010,'dead_all_ratio'] = pop_df.loc[2010,'dead_all'] / pop_df.loc[2010,'pop_all']\n",
    "\n",
    "pop_df['dead_0-9_ratio'] = pop_df['dead_0-9'] / pop_df['pop_0-9']\n",
    "pop_df['dead_10-19_ratio'] = pop_df['dead_10-19'] / pop_df['pop_10-19']\n",
    "pop_df['dead_20-29_ratio'] = pop_df['dead_20-29'] / pop_df['pop_20-29']\n",
    "\n",
    "pop_df"
   ]
  },
  {
   "cell_type": "code",
   "execution_count": null,
   "metadata": {
    "scrolled": true
   },
   "outputs": [],
   "source": [
    "yearly_diff"
   ]
  },
  {
   "cell_type": "code",
   "execution_count": null,
   "metadata": {
    "scrolled": true
   },
   "outputs": [],
   "source": [
    "yearly_diff['2015-2019'] = deaths_2015_2019\n",
    "yearly_diff"
   ]
  },
  {
   "cell_type": "code",
   "execution_count": null,
   "metadata": {
    "scrolled": true
   },
   "outputs": [],
   "source": [
    "# https://www.healthknowledge.org.uk/e-learning/epidemiology/specialists/standardisation\n",
    "# fake data from the above link\n",
    "'''\n",
    "df = pd.DataFrame({'age_grp': ['inf','inf','child','child','adult','adult','old','old'],\n",
    "                  'country' : ['A','B','A','B','A','B','A','B'],\n",
    "                  'pop' : [1000000,1000000,6000000,1500000,5500000,550000,2500000,120000],\n",
    "                  'dead' : [1000,1000,7000,6300,20000,3000,120000,6000]})\n",
    "'''\n",
    "\n",
    "df = pd.DataFrame({'age_grp': ['inf','inf','child','child','adult','adult','old','old'],\n",
    "                  'country' : ['A','B','A','B','A','B','A','B'],\n",
    "                  'pop' : [pop_2019_64,pop_2020_64,pop_2019_79,pop_2020_79,\n",
    "                           pop_2019_89,pop_2020_89,pop_2019_90,pop_2020_90],\n",
    "                  'dead' : [yearly_diff.loc[64,'2015-2019'],yearly_diff.loc[64,2020],\n",
    "                            yearly_diff.loc[79,'2015-2019'],yearly_diff.loc[79,2020],\n",
    "                            yearly_diff.loc[89,'2015-2019'],yearly_diff.loc[89,2020],\n",
    "                            yearly_diff.loc[90,'2015-2019'],yearly_diff.loc[90,2020]]})\n",
    "\n",
    "df['age_grp'] = pd.Categorical(df['age_grp'],['inf','child','adult','old'])\n",
    "\n",
    "df"
   ]
  },
  {
   "cell_type": "code",
   "execution_count": null,
   "metadata": {
    "scrolled": true
   },
   "outputs": [],
   "source": [
    "pivot = pd.pivot_table(df,index='age_grp',columns='country',values=['pop','dead'],aggfunc=sum,margins=True)\n",
    "pivot"
   ]
  },
  {
   "cell_type": "code",
   "execution_count": null,
   "metadata": {
    "scrolled": true
   },
   "outputs": [],
   "source": [
    "pivot['age_ratio_A'] = pivot[('pop','A')] / pivot.loc['All',('pop','A')]\n",
    "pivot['age_ratio_B'] = pivot[('pop','B')] / pivot.loc['All',('pop','B')]\n",
    "\n",
    "pivot['dead_ratio_A'] = pivot[('dead','A')] / pivot[('pop','A')]\n",
    "pivot['dead_ratio_B'] = pivot[('dead','B')] / pivot[('pop','B')]\n",
    "\n",
    "pivot['delta_dead_ratio'] = pivot['dead_ratio_B'] - pivot['dead_ratio_A']\n",
    "pivot['factor'] = pivot['dead_ratio_B'] / pivot['dead_ratio_A']\n",
    "\n",
    "pivot"
   ]
  },
  {
   "cell_type": "code",
   "execution_count": null,
   "metadata": {
    "scrolled": true
   },
   "outputs": [],
   "source": [
    "# for the fake data, the observation here is that Simpson's Paradox strikes again - overall country A has higher death ratio,\n",
    "# despite the fact that it has lower death ratios in each age group. \n",
    "\n",
    "pivot.loc['All','dead_ratio_A' : 'dead_ratio_B'].plot(kind='bar',color=['b','orange'],title='Death Ratio per country')"
   ]
  },
  {
   "cell_type": "code",
   "execution_count": null,
   "metadata": {
    "scrolled": true
   },
   "outputs": [],
   "source": [
    "pivot.loc[:'old','age_ratio_A':'age_ratio_B'].plot(kind='bar',\n",
    "                                                   color=['b','orange'],title='age proportions per country')\n",
    "plt.legend(['A age ratio','B age ratio'])\n",
    "plt.ylabel('percentage')"
   ]
  },
  {
   "cell_type": "code",
   "execution_count": null,
   "metadata": {
    "scrolled": true
   },
   "outputs": [],
   "source": [
    "pivot.loc[:'old','dead_ratio_A': 'dead_ratio_B'].plot(kind='bar',\n",
    "                                                     color=['b','orange'],title='death proportions by age and country')\n",
    "plt.legend(['A dead ratio','B dead ratio'])\n",
    "plt.ylabel('percentage')"
   ]
  },
  {
   "cell_type": "code",
   "execution_count": null,
   "metadata": {
    "scrolled": true
   },
   "outputs": [],
   "source": [
    "pivot['delta_dead_ratio'].plot(kind='bar',title='diff death ratio B - A')"
   ]
  },
  {
   "cell_type": "code",
   "execution_count": null,
   "metadata": {
    "scrolled": true
   },
   "outputs": [],
   "source": [
    "pivot['factor'].plot(kind='bar')"
   ]
  },
  {
   "cell_type": "code",
   "execution_count": null,
   "metadata": {
    "scrolled": true
   },
   "outputs": [],
   "source": [
    "pivot\n"
   ]
  },
  {
   "cell_type": "code",
   "execution_count": null,
   "metadata": {
    "scrolled": true
   },
   "outputs": [],
   "source": [
    "### prep for pymc\n",
    "\n",
    "def age_encode(x):\n",
    "    if x == 'inf' : return 1\n",
    "    if x == 'child' : return 2\n",
    "    if x == 'adult' : return 3\n",
    "    if x == 'old' : return 4\n",
    "    \n",
    "def country_encode(x):\n",
    "    if x == 'A' : return 1\n",
    "    if x == 'B' : return 2\n",
    "\n",
    "    \n",
    "df['age_idx'] = df['age_grp'].apply(age_encode).astype(int)\n",
    "df['country_index'] = df['country'].apply(country_encode)\n",
    "df"
   ]
  },
  {
   "cell_type": "code",
   "execution_count": null,
   "metadata": {
    "scrolled": true
   },
   "outputs": [],
   "source": [
    "def logit_pure(x):\n",
    "    return (np.exp(x)) / (1 + np.exp(x))\n",
    "\n",
    "def logistic_pure(p):\n",
    "    return np.log(p / (1 - p))"
   ]
  },
  {
   "cell_type": "code",
   "execution_count": null,
   "metadata": {
    "scrolled": true
   },
   "outputs": [],
   "source": [
    "import pymc as pm\n",
    "from pymc.Matplot import plot as pmplot\n",
    "\n",
    "\n",
    "### control for age_grp by assigning a unique alpha to each age_grp,\n",
    "# setting that alpha as the p for death country A, and then having a common offset for country B\n",
    "\n",
    "# model: \n",
    "# dead ~ Binomial(population,p)\n",
    "# p = logit(alpha[age_idx] + beta * year)\n",
    "# alpha[age_idx] ~ Normal(0,10)\n",
    "# beta ~ Normal(0,10)\n",
    "\n",
    "x = df['country_index']\n",
    "age_idx = df['age_idx']\n",
    "\n",
    "alpha = pm.Normal('alpha',0, 1 / 10 ** 2,size=4) #4 age groups\n",
    "\n",
    "beta = pm.Normal('beta',0,1 / 10 ** 2)\n",
    "\n",
    "@pm.deterministic\n",
    "def logit_age(age_idx=age_idx-1,alpha=alpha,beta=beta,x=x):\n",
    "    \n",
    "    # index for alpha : subtract 1 from age_idx that goes 1..4 to get zero-based index of python\n",
    "    \n",
    "    return (np.exp(alpha[age_idx]+beta*x)) / (1 + np.exp(alpha[age_idx]+beta*x))\n",
    "\n",
    "lkh_age = pm.Binomial('lkh_age',n=df['pop'],p=logit_age,observed=True,value=df['dead'])\n",
    "\n",
    "model = pm.Model([alpha,beta,logit_age,lkh_age])\n",
    "\n",
    "mcmc = pm.MCMC(model)\n",
    "sample = mcmc.sample(500000,100000,2)"
   ]
  },
  {
   "cell_type": "code",
   "execution_count": null,
   "metadata": {
    "scrolled": true
   },
   "outputs": [],
   "source": [
    "alpha_inf = mcmc.trace('alpha')[:,0]\n",
    "alpha_child = mcmc.trace('alpha')[:,1]\n",
    "alpha_adult = mcmc.trace('alpha')[:,2]\n",
    "alpha_old = mcmc.trace('alpha')[:,3]\n",
    "\n",
    "beta = mcmc.trace('beta')[:]\n",
    "\n",
    "pmplot(alpha_inf,'alpha_inf')\n",
    "pmplot(alpha_child,'alpha_child')\n",
    "pmplot(alpha_adult,'alpha_adult')\n",
    "pmplot(alpha_old,'alpha_old')\n",
    "pmplot(beta,'beta')\n",
    "\n",
    "\n",
    "result = pd.DataFrame({'alpha_inf' : alpha_inf,\n",
    "                        'alpha_child' : alpha_child,\n",
    "                      'alpha_adult' : alpha_adult,\n",
    "                       'alpha_old' : alpha_old,\n",
    "                      'beta' : beta})\n",
    "\n",
    "result.describe()"
   ]
  },
  {
   "cell_type": "code",
   "execution_count": null,
   "metadata": {
    "scrolled": true
   },
   "outputs": [],
   "source": [
    "p_result = pd.DataFrame()\n",
    "\n",
    "p_result['A_inf_p'] = logit_pure(result['alpha_inf'])\n",
    "p_result['A_child_p'] = logit_pure(result['alpha_child'])\n",
    "p_result['A_adult_p'] = logit_pure(result['alpha_adult'])\n",
    "p_result['A_old_p'] = logit_pure(result['alpha_old'])\n",
    "\n",
    "\n",
    "p_result['B_inf_p'] = logit_pure(result['alpha_inf'] + result['beta'])\n",
    "p_result['B_child_p'] = logit_pure(result['alpha_child'] + result['beta'])\n",
    "p_result['B_adult_p'] = logit_pure(result['alpha_adult'] + result['beta'])\n",
    "p_result['B_old_p'] = logit_pure(result['alpha_old'] + result['beta'])"
   ]
  },
  {
   "cell_type": "code",
   "execution_count": null,
   "metadata": {
    "scrolled": true
   },
   "outputs": [],
   "source": [
    "p_result.describe()"
   ]
  },
  {
   "cell_type": "code",
   "execution_count": null,
   "metadata": {
    "scrolled": true
   },
   "outputs": [],
   "source": [
    "pivot\n"
   ]
  },
  {
   "cell_type": "code",
   "execution_count": null,
   "metadata": {
    "scrolled": true
   },
   "outputs": [],
   "source": [
    "plt.figure(figsize=(18,12))\n",
    "\n",
    "plt.subplot(411)\n",
    "plt.title('Probability Distribution for probability of dying, age group <=64')\n",
    "plt.hist(p_result.A_inf_p,density=True,color='b',alpha=0.7,label='2015-2019')\n",
    "plt.hist(p_result.B_inf_p,density=True,color='orange',alpha=0.7,label='2020')\n",
    "plt.xlabel('probability of dying')\n",
    "plt.ylabel('probability density')\n",
    "plt.legend(loc='upper left')\n",
    "\n",
    "plt.subplot(412)\n",
    "plt.title('Probability Distribution for probability of dying, age group 65-79')\n",
    "\n",
    "plt.hist(p_result.A_child_p,density=True,color='b',alpha=0.7,label='2015-2019')\n",
    "plt.hist(p_result.B_child_p,density=True,color='orange',alpha=0.7,label='2020')\n",
    "plt.xlabel('probability of dying')\n",
    "plt.ylabel('probability density')\n",
    "plt.legend(loc='upper left')\n",
    "\n",
    "plt.subplot(413)\n",
    "plt.title('Probability Distribution for probability of dying, age group 80-89')\n",
    "\n",
    "plt.hist(p_result.A_adult_p,density=True,color='b',alpha=0.7,label='2015-2019')\n",
    "plt.hist(p_result.B_adult_p,density=True,color='orange',alpha=0.7,label='2020')\n",
    "plt.xlabel('probability of dying')\n",
    "plt.ylabel('probability density')\n",
    "plt.legend(loc='upper left')\n",
    "\n",
    "plt.subplot(414)\n",
    "plt.title('Probability Distribution for probability of dying, age group 90+')\n",
    "\n",
    "plt.hist(p_result.A_old_p,density=True,color='b',alpha=0.7,label='2015-2019')\n",
    "plt.hist(p_result.B_old_p,density=True,color='orange',alpha=0.7,label='2020')\n",
    "plt.xlabel('probability of dying')\n",
    "plt.ylabel('probability density')\n",
    "plt.legend(loc='upper left')\n",
    "\n",
    "plt.tight_layout()\n",
    "\n",
    "plt.savefig('probabilty2die.jpg',format='jpg',dpi=1200)"
   ]
  },
  {
   "cell_type": "code",
   "execution_count": null,
   "metadata": {
    "scrolled": false
   },
   "outputs": [],
   "source": []
  }
 ],
 "metadata": {
  "kernelspec": {
   "display_name": "Python 3",
   "language": "python",
   "name": "python3"
  },
  "language_info": {
   "codemirror_mode": {
    "name": "ipython",
    "version": 3
   },
   "file_extension": ".py",
   "mimetype": "text/x-python",
   "name": "python",
   "nbconvert_exporter": "python",
   "pygments_lexer": "ipython3",
   "version": "3.6.9"
  }
 },
 "nbformat": 4,
 "nbformat_minor": 4
}
