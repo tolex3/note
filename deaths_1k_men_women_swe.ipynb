{
 "cells": [
  {
   "cell_type": "code",
   "execution_count": null,
   "metadata": {},
   "outputs": [],
   "source": [
    "import requests\n",
    "import numpy as np\n",
    "import matplotlib.pyplot as plt\n",
    "import seaborn as sns\n",
    "import pandas as pd\n",
    "\n",
    "sns.set()\n"
   ]
  },
  {
   "cell_type": "code",
   "execution_count": null,
   "metadata": {},
   "outputs": [],
   "source": [
    "url = 'http://api.scb.se/OV0104/v1/doris/sv/ssd/START/BE/BE0101/BE0101I/Dodstal'\n",
    "\n",
    "data = {\n",
    "  \"query\": [\n",
    "    {\n",
    "      \"code\": \"Kon\",\n",
    "      \"selection\": {\n",
    "        \"filter\": \"item\",\n",
    "        \"values\": [\n",
    "          \"1\",\n",
    "          \"2\"\n",
    "        ]\n",
    "      }\n",
    "    }\n",
    "  ],\n",
    "  \"response\": {\n",
    "    \"format\": \"json\"\n",
    "  }\n",
    "}\n"
   ]
  },
  {
   "cell_type": "code",
   "execution_count": null,
   "metadata": {},
   "outputs": [],
   "source": [
    "r = requests.post(url,json=data)\n",
    "print (r.status_code)\n",
    "\n",
    "json = r.json()"
   ]
  },
  {
   "cell_type": "code",
   "execution_count": null,
   "metadata": {
    "scrolled": false
   },
   "outputs": [],
   "source": [
    "json['data'][0]"
   ]
  },
  {
   "cell_type": "code",
   "execution_count": null,
   "metadata": {},
   "outputs": [],
   "source": [
    "#parse death data from json to df \n",
    "\n",
    "data_list = []\n",
    "\n",
    "nr_records = (len(json['data']))\n",
    "\n",
    "for rec in range(nr_records):\n",
    "\n",
    "    data_list.append ((json['data'][rec]['key'][0],json['data'][rec]['key'][1],\n",
    "                       json['data'][rec]['key'][2],json['data'][rec]['values'][0]))"
   ]
  },
  {
   "cell_type": "code",
   "execution_count": null,
   "metadata": {
    "scrolled": false
   },
   "outputs": [],
   "source": [
    "# death rate df\n",
    "death_rate = pd.DataFrame(data_list,columns=['age_grp','gender','year','dead_per_1k'])\n",
    "death_rate"
   ]
  },
  {
   "cell_type": "code",
   "execution_count": null,
   "metadata": {},
   "outputs": [],
   "source": [
    "death_rate['dead_per_1k'] = death_rate['dead_per_1k'].astype(float)"
   ]
  },
  {
   "cell_type": "code",
   "execution_count": null,
   "metadata": {},
   "outputs": [],
   "source": [
    "gender_groups  = death_rate.groupby('gender')"
   ]
  },
  {
   "cell_type": "code",
   "execution_count": null,
   "metadata": {},
   "outputs": [],
   "source": [
    "male_death_rate = gender_groups.get_group('1').copy()\n",
    "male_death_rate['age_grp'] = pd.Categorical(male_death_rate['age_grp'],\n",
    "                                            ['0','1-4','5-9','10-14','15-19','20-24','25-29','30-34','35-39',\n",
    "                                            '40-44','45-49','50-54','55-59','60-64','65-69','70-74',\n",
    "                                            '75-79','80-84','85-89','90+'])\n",
    "\n",
    "male_death_rate = pd.pivot(male_death_rate,index='age_grp',columns='year',values='dead_per_1k')\n",
    "male_death_rate"
   ]
  },
  {
   "cell_type": "code",
   "execution_count": null,
   "metadata": {},
   "outputs": [],
   "source": [
    "female_death_rate = gender_groups.get_group('2').copy()\n",
    "female_death_rate['age_grp'] = pd.Categorical(female_death_rate['age_grp'],\n",
    "                                            ['0','1-4','5-9','10-14','15-19','20-24','25-29','30-34','35-39',\n",
    "                                            '40-44','45-49','50-54','55-59','60-64','65-69','70-74',\n",
    "                                            '75-79','80-84','85-89','90+'])\n",
    "\n",
    "female_death_rate = pd.pivot(female_death_rate,index='age_grp',columns='year',values='dead_per_1k')\n",
    "female_death_rate"
   ]
  },
  {
   "cell_type": "code",
   "execution_count": null,
   "metadata": {},
   "outputs": [],
   "source": [
    "ax = male_death_rate.plot(figsize=(18,12),color='b',style='x--',legend=False,\n",
    "                         title='Sweden deaths per 1K per age group, men (blue) vs women (red),2000-2019')\n",
    "female_death_rate.plot(ax=ax,color='r',style='o--',legend=False)\n",
    "\n",
    "plt.yscale('log')\n",
    "plt.ylabel('deaths per 1K [log scale]')\n",
    "\n",
    "_= plt.xticks(range(len(male_death_rate)),male_death_rate.index.values)\n",
    "\n",
    "plt.savefig('deaths_men_darwin_award.jpg',format='jpg',dpi=1200)"
   ]
  }
 ],
 "metadata": {
  "kernelspec": {
   "display_name": "Python 3",
   "language": "python",
   "name": "python3"
  },
  "language_info": {
   "codemirror_mode": {
    "name": "ipython",
    "version": 3
   },
   "file_extension": ".py",
   "mimetype": "text/x-python",
   "name": "python",
   "nbconvert_exporter": "python",
   "pygments_lexer": "ipython3",
   "version": "3.6.9"
  }
 },
 "nbformat": 4,
 "nbformat_minor": 4
}
