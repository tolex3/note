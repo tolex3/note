{
 "cells": [
  {
   "cell_type": "code",
   "execution_count": null,
   "metadata": {},
   "outputs": [],
   "source": [
    "import numpy as np\n",
    "import matplotlib.pyplot as plt\n",
    "import seaborn as sns\n",
    "import pandas as pd\n",
    "import pymc3 as pm\n",
    "import arviz as az\n",
    "\n",
    "sns.set()"
   ]
  },
  {
   "cell_type": "code",
   "execution_count": null,
   "metadata": {},
   "outputs": [],
   "source": [
    "# HIERARCHICAL MODEL that demonstrates SHRINKAGE,\n",
    "# using binomial likelihood and logit-link\n",
    "\n",
    "N_data = [30,30,30]\n",
    "G_data = [15,3,3]\n",
    "\n",
    "data = []\n",
    "\n",
    "# if repeat is given as arr, it must have a broadcastable shape, and \n",
    "# then each element of input array is repeated arr[i] times\n",
    "\n",
    "group_idx = np.repeat(range(len(N_data)),N_data)\n",
    "\n",
    "for i in range(len(N_data)):\n",
    "    \n",
    "    data.extend(np.repeat([1,0],[G_data[i],N_data[i] - G_data[i]]))\n",
    "\n",
    "data\n",
    "\n",
    "df = pd.DataFrame({'water' : data,\n",
    "                  'group_idx' : group_idx})\n",
    "\n",
    "df"
   ]
  },
  {
   "cell_type": "code",
   "execution_count": null,
   "metadata": {},
   "outputs": [],
   "source": [
    "df['water'].mean()"
   ]
  },
  {
   "cell_type": "code",
   "execution_count": null,
   "metadata": {},
   "outputs": [],
   "source": [
    "df.groupby('group_idx').mean()"
   ]
  },
  {
   "cell_type": "code",
   "execution_count": null,
   "metadata": {},
   "outputs": [],
   "source": [
    "def logit_pure(x):\n",
    "    return (np.exp(x)) / (1 + np.exp(x))\n",
    "\n",
    "def logistic_pure(p):\n",
    "    return np.log(p / (1 - p))"
   ]
  },
  {
   "cell_type": "code",
   "execution_count": null,
   "metadata": {},
   "outputs": [],
   "source": [
    "grp_idx = df['group_idx'].values\n",
    "\n",
    "model = pm.Model()\n",
    "with model:\n",
    "    alpha_bar = pm.Normal('alpha_bar',0,1.5)\n",
    "    sigma = pm.Exponential('sigma',1)\n",
    "    \n",
    "    alpha  = pm.Normal('alpha',alpha_bar,shape=len(np.unique(df['group_idx'])))\n",
    "    \n",
    "    logit = np.exp(alpha[grp_idx]) / (\n",
    "            1 + np.exp(alpha[grp_idx] ))\n",
    "\n",
    "    obs = pm.Bernoulli('obs',logit,observed=df['water'])\n",
    "    \n",
    "    trace = pm.sample(500,tune=500,random_seed=4711)\n",
    "    \n",
    "    summary = az.summary(trace,hdi_prob=0.89)\n",
    "    result = pm.trace_to_dataframe(trace)"
   ]
  },
  {
   "cell_type": "code",
   "execution_count": null,
   "metadata": {},
   "outputs": [],
   "source": [
    "summary"
   ]
  },
  {
   "cell_type": "code",
   "execution_count": null,
   "metadata": {},
   "outputs": [],
   "source": [
    "with model:\n",
    "    az.plot_trace(trace)"
   ]
  },
  {
   "cell_type": "code",
   "execution_count": null,
   "metadata": {},
   "outputs": [],
   "source": [
    "plt.hist(trace['alpha_bar'])"
   ]
  },
  {
   "cell_type": "code",
   "execution_count": null,
   "metadata": {},
   "outputs": [],
   "source": [
    "p_result = pd.DataFrame()\n",
    "p_result['alpha_bar'] = logit_pure(result['alpha_bar'])\n",
    "p_result['alpha__0'] = logit_pure(result['alpha__0'])\n",
    "p_result['alpha__1'] = logit_pure(result['alpha__1'])\n",
    "p_result['alpha__2'] = logit_pure(result['alpha__2'])\n",
    "p_result.mean()"
   ]
  },
  {
   "cell_type": "code",
   "execution_count": null,
   "metadata": {},
   "outputs": [],
   "source": [
    "p_result['alpha_bar'].plot(kind='hist')"
   ]
  }
 ],
 "metadata": {
  "kernelspec": {
   "display_name": "Python 3",
   "language": "python",
   "name": "python3"
  },
  "language_info": {
   "codemirror_mode": {
    "name": "ipython",
    "version": 3
   },
   "file_extension": ".py",
   "mimetype": "text/x-python",
   "name": "python",
   "nbconvert_exporter": "python",
   "pygments_lexer": "ipython3",
   "version": "3.8.5"
  }
 },
 "nbformat": 4,
 "nbformat_minor": 4
}
