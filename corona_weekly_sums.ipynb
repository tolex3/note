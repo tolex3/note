{
 "cells": [
  {
   "cell_type": "code",
   "execution_count": null,
   "metadata": {},
   "outputs": [],
   "source": [
    "import numpy as np\n",
    "import matplotlib.pyplot as plt\n",
    "import seaborn as sns\n",
    "import pandas as pd\n",
    "\n",
    "sns.set()\n",
    "\n",
    "limit = 100"
   ]
  },
  {
   "cell_type": "code",
   "execution_count": null,
   "metadata": {},
   "outputs": [],
   "source": [
    "def strip(x):\n",
    "    return x.replace('\\t','')\n",
    "\n",
    "country_populations = pd.read_csv('world_pop.csv',\n",
    "                                  sep=';',header=None,index_col=0,names=['population'],\n",
    "                                 thousands=',',converters={0 : strip})\n"
   ]
  },
  {
   "cell_type": "code",
   "execution_count": null,
   "metadata": {},
   "outputs": [],
   "source": [
    "dick = pd.read_pickle('country_data.pkl')\n",
    "\n",
    "us_state_dict = pd.read_pickle('us_state_dict.pkl')\n",
    "ny = us_state_dict['New York']\n",
    "ny.index = pd.DatetimeIndex(ny.index)\n",
    "dick['New York'] = ny\n",
    "\n",
    "ny.info()\n"
   ]
  },
  {
   "cell_type": "code",
   "execution_count": null,
   "metadata": {},
   "outputs": [],
   "source": [
    "def process_country(country_name):\n",
    "    df = dick[country_name]\n",
    "    \n",
    "    df = df[df['confirmed'] > limit]\n",
    "    \n",
    "    resample_period = ['W-MON','W-TUE','W-WED','W-THU','W-FRI','W-SAT','W-SUN']\n",
    "    \n",
    "    today = pd.datetime.today().weekday()\n",
    "\n",
    "    yesterday = lambda i : resample_period[i % 7 -1] if i != 0 else resample_period[6]\n",
    "    print (today)\n",
    "    print (yesterday(today))\n",
    "    \n",
    "    #### MAKE SURE to adjust the param of resample so that all data points for the last week are included\n",
    "    weekly = df[['inc','dead_inc']].resample(yesterday(today)).sum()\n",
    "    weekly[['inc_per_M','dead_inc_per_M']] = weekly[['inc','dead_inc']] / (\n",
    "        country_populations.loc[country_name,'population'] / 1e6)\n",
    "    ####\n",
    "    \n",
    "    weekly['factor'] = weekly['inc'] / weekly['inc'].shift()\n",
    "    weekly['dead_factor'] = weekly['dead_inc'] / weekly['dead_inc'].shift()\n",
    "    \n",
    "    print ('+++++++ {} +++++++'.format(country_name))\n",
    "    print (weekly)\n",
    "    \n",
    "    return weekly\n",
    "    "
   ]
  },
  {
   "cell_type": "code",
   "execution_count": null,
   "metadata": {},
   "outputs": [],
   "source": [
    "def plot(weekly,country_name):\n",
    "    \n",
    "    plt.figure(figsize=(18,12))\n",
    "    \n",
    "    plt.plot(weekly.index,weekly['inc'],'x--',color='orange',\n",
    "            label=r'new confirmed')\n",
    "    plt.plot(weekly.index,weekly['dead_inc'],'x--',color='crimson',\n",
    "            label = 'new dead')\n",
    "    \n",
    "   \n",
    "    \n",
    "    plt.plot(weekly.index,weekly['factor'],'o-',color='orange',\n",
    "            label=r'weekly growth factor confirmed [ last weekly growth factor: {:.2f} ]'.format(weekly['factor'][-1]))\n",
    "    \n",
    "    plt.plot(weekly.index,weekly['dead_factor'],'o-',color='crimson',\n",
    "             label=r'weekly growth factor dead [ last weekly growth factor: {:.2f} ]'.format(weekly['dead_factor'][-1]))\n",
    "    \n",
    "    plt.title('Corona - weekly sum of new CONFIRMED and DEAD for {} [confirmed > {}]'.format(str.upper(country_name),limit))\n",
    "    \n",
    "    plt.plot(weekly.index, [1] * len(weekly.index),color='lime',ls = 'dashed',label='factor 1.00')\n",
    "    \n",
    "    y_max = weekly['inc'].max() * 10\n",
    "    y_min = 0.1\n",
    "    \n",
    "    plt.ylim([y_min,y_max])\n",
    "    #plt.yscale('log')\n",
    "    plt.ylabel('weekly total')  \n",
    "    plt.xticks(rotation=90)\n",
    "    plt.legend(loc='upper left')\n",
    "    \n",
    "    plt.savefig('corona_weekly_sums_{}.jpg'.format(country_name),format='jpg')\n"
   ]
  },
  {
   "cell_type": "code",
   "execution_count": null,
   "metadata": {
    "scrolled": false
   },
   "outputs": [],
   "source": [
    "countries = ['Sweden','Spain','Italy','US','Germany','Netherlands']\n",
    "colors = ['gold','b','r','g','k','c','lime']\n",
    "#countries = ['Finland','Denmark','Norway','Austria','Belgium','France']\n",
    "#countries = ['New York']\n",
    "\n",
    "fignr = 1\n",
    "\n",
    "for c in countries:\n",
    "    weekly = process_country(c)\n",
    "    print ('++++++++++++++++ {} ++++++++++++++'.format(str.upper(c)))\n",
    "    print (c,weekly.tail(10))\n",
    "    plot(weekly,c)\n",
    "    fignr += 1\n",
    "    \n",
    "\n",
    "\n",
    "# plot all normalized on same plot\n",
    "\n",
    "plt.figure(fignr + 1,figsize=(18,12))\n",
    "plt.figure(fignr + 2,figsize=(18,12))\n",
    "\n",
    "for i,c in enumerate(countries):\n",
    "    plt.figure(fignr +1 )\n",
    "    plt.title('Dead per million weekly increment')\n",
    "    weekly = process_country(c)\n",
    "    \n",
    "    plt.plot(weekly.index,weekly['dead_inc_per_M'],'D--',\n",
    "             color=colors[i],label=c.upper() + ' start ' + str(weekly.index[0].date()))\n",
    "    \n",
    "    #plt.yscale('log') # NOTICE that log scale makes the growth look much smaller...!!!\n",
    "    \n",
    "    plt.legend(loc='upper left')\n",
    "    plt.ylabel('weekly increment')\n",
    "    plt.figure(fignr + 2)\n",
    "    plt.title('Confirmed per million weekly increment')\n",
    "    plt.plot(weekly.index,weekly['inc_per_M'],'D--',color=colors[i],label=c.upper())\n",
    "    plt.legend(loc='upper left')\n",
    "    plt.ylabel('weekly increment')\n",
    "\n",
    "plt.figure(fignr +1)\n",
    "plt.savefig('weekly__dead_consolidated_sums_per_million.jpg')\n",
    "plt.figure(fignr +2)\n",
    "plt.savefig('weekly_conf_consolidated_sums_per_million.jpg')"
   ]
  }
 ],
 "metadata": {
  "kernelspec": {
   "display_name": "Python 3",
   "language": "python",
   "name": "python3"
  },
  "language_info": {
   "codemirror_mode": {
    "name": "ipython",
    "version": 3
   },
   "file_extension": ".py",
   "mimetype": "text/x-python",
   "name": "python",
   "nbconvert_exporter": "python",
   "pygments_lexer": "ipython3",
   "version": "3.8.5"
  }
 },
 "nbformat": 4,
 "nbformat_minor": 4
}
