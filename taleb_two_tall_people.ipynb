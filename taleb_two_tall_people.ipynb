{
 "cells": [
  {
   "cell_type": "code",
   "execution_count": 1,
   "metadata": {
    "scrolled": true
   },
   "outputs": [],
   "source": [
    "import numpy as np\n",
    "import matplotlib.pyplot as plt\n",
    "import seaborn as sns\n",
    "import pymc as pm\n",
    "import pandas as pd\n",
    "from pymc.Matplot import plot as pmplot\n",
    "from matplotlib.ticker import StrMethodFormatter\n",
    "\n",
    "import scipy.stats as sps\n",
    "\n",
    "\n",
    "sns.set()"
   ]
  },
  {
   "cell_type": "code",
   "execution_count": 2,
   "metadata": {
    "scrolled": false
   },
   "outputs": [
    {
     "name": "stdout",
     "output_type": "stream",
     "text": [
      "[410.]\n",
      " [-----------------100%-----------------] 100000 of 100000 complete in 13.7 sec\n",
      "373.1903481564094\n",
      "383.30317035737\n",
      "0.00824\n",
      "0.00824\n"
     ]
    },
    {
     "data": {
      "image/png": "[encoded data removed]",
      "text/plain": [
       "<Figure size 432x288 with 1 Axes>"
      ]
     },
     "metadata": {
      "needs_background": "light"
     },
     "output_type": "display_data"
    },
    {
     "data": {
      "image/png": "[encoded data removed]",
      "text/plain": [
       "<Figure size 432x288 with 1 Axes>"
      ]
     },
     "metadata": {
      "needs_background": "light"
     },
     "output_type": "display_data"
    }
   ],
   "source": [
    "# with data - posterior distribution\n",
    "\n",
    "x1 = pm.Normal('x1',mu=185,tau = 1 / 10 ** 2)\n",
    "x2 = pm.Normal('x2',mu=185,tau = 1 / 10 ** 2)\n",
    "\n",
    "obs_sigma = pm.Uniform('obs_sigma',0,100)\n",
    "\n",
    "nr_pairs = 1\n",
    "data = np.ones(nr_pairs) * 410 # combined length of two people\n",
    "print (data)\n",
    "\n",
    "@pm.deterministic\n",
    "def two_tall_people(x1=x1,x2=x2):\n",
    "    out = np.ones(len(data)) * (x1 + x2) \n",
    "    return out\n",
    "\n",
    "obs = pm.Normal('obs',two_tall_people,1 / obs_sigma ** 2,observed=True,value=np.array(data))\n",
    "\n",
    "model = pm.Model([x1,x2,two_tall_people,obs,obs_sigma])\n",
    "\n",
    "map_ = pm.MAP(model)\n",
    "map_.fit()\n",
    "\n",
    "mcmc = pm.MCMC(model)\n",
    "\n",
    "sample = mcmc.sample(100000,50000,2)\n",
    "\n",
    "x1_post = mcmc.trace('x1')[:]\n",
    "x2_post = mcmc.trace('x2')[:]\n",
    "two_tall_post = mcmc.trace('two_tall_people')[:]\n",
    "\n",
    "\n",
    "#pmplot(x1_post,'x1')\n",
    "#pmplot(x2_post,'x2')\n",
    "#pmplot(two_tall_post,'two_tall_people')\n",
    "\n",
    "plt.figure()\n",
    "plt.gca().xaxis.set_major_formatter(StrMethodFormatter('{x:,.2f}')) # 2 decimal places\n",
    "#plt.ticklabel_format(useOffset=False)\n",
    "plt.hist(x1_post,color='g',alpha=0.5,density=True)\n",
    "plt.figure()\n",
    "plt.gca().xaxis.set_major_formatter(StrMethodFormatter('{x:,.2f}')) # 2 decimal places\n",
    "#plt.ticklabel_format(useOffset=False)\n",
    "_ = plt.hist(x2_post,color='r',alpha=0.5,density=True)\n",
    "print()\n",
    "print (x1_post.min() + x2_post.max())\n",
    "print (x1_post.max() + x1_post.min())\n",
    "\n",
    "print ((x1_post + x2_post >= 410).sum() / len(x1_post))\n",
    "print ((x1_post + x2_post >= 410).mean())"
   ]
  },
  {
   "cell_type": "code",
   "execution_count": null,
   "metadata": {
    "scrolled": true
   },
   "outputs": [],
   "source": [
    "#without data - prior distribution\n",
    "# x1 + x2 = 410\n",
    "# x2 = 410 - x1\n",
    "x1 = pm.Normal('x1',mu=180,tau = 1 / 10 ** 2)\n",
    "x2 = pm.Normal('x2',mu=410-x1,tau = 1 / 10 ** 2)\n",
    "\n",
    "model = pm.Model([x1,x2])\n",
    "map_ = pm.MAP(model)\n",
    "map_.fit()\n",
    "\n",
    "mcmc = pm.MCMC(model)\n",
    "sample = mcmc.sample(100)\n",
    "\n",
    "x1_trace = mcmc.trace('x1')[:]\n",
    "x2_trace = mcmc.trace('x2')[:]\n",
    "\n",
    "plt.hist(x1_trace,density=True,color='g',alpha=0.6)\n",
    "plt.hist(x2_trace,density=True,color='r',alpha=0.6)\n",
    "\n",
    "plt.figure(figsize=(18,12))\n",
    "plt.subplot(311)\n",
    "plt.plot(x1_trace,color='g')\n",
    "plt.subplot(312)\n",
    "plt.plot(-x2_trace,color='orange')\n",
    "plt.subplot(313)\n",
    "plt.plot(x2_trace,color='r')"
   ]
  },
  {
   "cell_type": "code",
   "execution_count": null,
   "metadata": {
    "scrolled": true
   },
   "outputs": [],
   "source": [
    "# trap of averages with low sample sizes - hacker book\n",
    "\n",
    "nr_counties = 5000\n",
    "p = 0.01\n",
    "\n",
    "def gen_population():\n",
    "    pop = pm.rdiscrete_uniform(100,10000,size=nr_counties)\n",
    "    return pop\n",
    "\n",
    "def gen_dead(popsize):\n",
    "    l = pm.rbernoulli(p=p,size=popsize)\n",
    "    return l\n",
    "\n",
    "pop_df = pd.DataFrame({'population':gen_population()})\n",
    "pop_df.index.name='country_nr'\n",
    "pop_df.sort_values('population',inplace=True)\n",
    "pop_df.reset_index(inplace=True)\n",
    "pop_df.head()\n",
    "\n"
   ]
  },
  {
   "cell_type": "code",
   "execution_count": null,
   "metadata": {
    "scrolled": true
   },
   "outputs": [],
   "source": [
    "pop_df['is_dead'] = pop_df['population'].apply(gen_dead)\n",
    "pop_df['mean_dead'] = pop_df['is_dead'].apply(np.mean)\n",
    "pop_df.head(40)"
   ]
  },
  {
   "cell_type": "code",
   "execution_count": null,
   "metadata": {
    "scrolled": true
   },
   "outputs": [],
   "source": [
    "\n",
    "\n",
    "plt.figure(figsize=(18,12))\n",
    "plt.title('Law of SMALL Numbers - beware of using averages of small samples!')\n",
    "plt.scatter(pop_df['population'],pop_df['mean_dead'],facecolor='none',edgecolor='crimson')\n",
    "plt.xlabel('country population size')\n",
    "plt.ylabel('country mean ratio of dead')\n",
    "plt.axhline(p,ls='dashed',color='orange',lw=3,label='True ratio of dead')\n",
    "plt.axhline(pop_df['mean_dead'].mean() - pop_df['mean_dead'].std(),color='lime',ls='dashed',label='1 std')\n",
    "plt.axhline(pop_df['mean_dead'].mean() + pop_df['mean_dead'].std(),color='lime',ls='dashed',label='1 std')\n",
    "\n",
    "plt.legend(loc='upper right')"
   ]
  },
  {
   "cell_type": "code",
   "execution_count": null,
   "metadata": {
    "scrolled": true
   },
   "outputs": [],
   "source": [
    "# observed vs samples\n",
    "\n",
    "days = 10\n",
    "observed_per_day = 100\n",
    "samples_per_day = 10\n",
    "\n",
    "observed = np.zeros((days,observed_per_day))\n",
    "samples = np.zeros((days,samples_per_day))\n",
    "\n",
    "print (observed.shape)\n",
    "print (samples.shape)\n",
    "\n",
    "for d in range(0,days):\n",
    "    observed[d] = np.random.normal((d + 1) * 10 ,5,observed_per_day)\n",
    "    samples[d] = np.random.normal((d + 1) * 10, 5,samples_per_day)\n",
    "    samples[d] += np.random.randint(1,5,samples_per_day)\n",
    "\n",
    "### samples and observed are two dimensional with same nr of rows\n",
    "def observed_vs_samples(observed,samples):\n",
    "    \n",
    "    observed_mean_per_day = np.mean(observed,axis=1)\n",
    "    sample_mean_per_day = np.mean(samples,axis=1)\n",
    "\n",
    "    df = pd.DataFrame({'observed_mean' : observed_mean_per_day,\n",
    "                      'samples_mean' : sample_mean_per_day})\n",
    "\n",
    "    df.index.name= 'day'\n",
    "    df['sample_ci_low'] = np.percentile(samples,[5.5,94.5],axis=1)[0]\n",
    "    df['sample_ci_high'] = np.percentile(samples,[5.5,94.5],axis=1)[1]\n",
    "\n",
    "    plt.figure(figsize=(18,12))\n",
    "    plt.errorbar(df['observed_mean'],df['samples_mean'],\n",
    "                 np.array(np.abs(df['samples_mean'] - df['sample_ci_low']),\n",
    "                          np.abs(df['samples_mean'] - df['sample_ci_high'])),\n",
    "                fmt='o')\n",
    "    \n",
    "    plt.xlabel('observed mean by each day')\n",
    "    plt.ylabel('sample mean by each day')\n",
    "    print (df)\n",
    "    \n",
    "_ = observed_vs_samples(observed,samples)"
   ]
  },
  {
   "cell_type": "code",
   "execution_count": null,
   "metadata": {
    "scrolled": true
   },
   "outputs": [],
   "source": [
    "resample_period = ['W-MON','W-TUE','W-WED','W-THU','W-FRI','W-SAT','W-SUN']\n",
    "today = pd.datetime.today().weekday()\n",
    "\n",
    "yesterday = lambda i : resample_period[i % 7 -1] if i != 0 else resample_period[6]\n",
    "\n",
    "for i in range (7):\n",
    "    print (i,resample_period[today],yesterday(today))\n",
    "    \n",
    "today"
   ]
  },
  {
   "cell_type": "code",
   "execution_count": null,
   "metadata": {
    "scrolled": true
   },
   "outputs": [],
   "source": [
    "some_dates = pd.date_range('2020-01-01','2020-01-31')\n",
    "start = pd.to_datetime('2020-01-10')\n",
    "end = pd.to_datetime('2020-01-15')\n",
    "\n",
    "df = pd.DataFrame(index=some_dates,data=range(len(some_dates)))\n",
    "df.loc['2020-01-05' : '2020-01-10']"
   ]
  },
  {
   "cell_type": "code",
   "execution_count": null,
   "metadata": {
    "scrolled": true
   },
   "outputs": [],
   "source": [
    "# Water Land\n",
    "\n",
    "#conjecture : assume prior proportion water is uniform discrete [0..1] with 0.1 steps\n",
    "\n",
    "conjecture = np.zeros((6,4))\n",
    "conjecture"
   ]
  },
  {
   "cell_type": "code",
   "execution_count": null,
   "metadata": {
    "scrolled": true
   },
   "outputs": [],
   "source": [
    "#McElreath Water \n",
    "\n",
    "size = 10000\n",
    "p_grid = np.linspace(0,1,size)\n",
    "\n",
    "#prior = np.ones_like(p_grid) #uniform prior\n",
    "#prior = sps.beta.pdf(p_grid,80,40)\n",
    "prior = sps.norm.pdf(p_grid,0.5,0.3)\n",
    "\n",
    "plt.figure(figsize=(18,12))\n",
    "\n",
    "for nr_water in range(1,2):\n",
    "    likelihood = sps.binom.pmf(6,n=9,p=p_grid) #must be a pmf/pdf, not samples! \n",
    "    posterior = prior * likelihood \n",
    "    posterior = posterior / posterior.sum()\n",
    "\n",
    "    _= plt.plot(p_grid,posterior)\n",
    "\n"
   ]
  },
  {
   "cell_type": "code",
   "execution_count": null,
   "metadata": {
    "scrolled": true
   },
   "outputs": [],
   "source": [
    "# lognormal\n",
    "\n",
    "data = np.random.lognormal(1,0.25,10000)\n",
    "data = np.power(np.e,data)\n",
    "data_mean = data.mean()\n",
    "\n",
    "plt.hist(data,bins=20)\n",
    "plt.axvline(data.min(),color='r',ls='dashed',label='min')\n",
    "plt.axvline(data.max(),color='r',ls='dashed',label='max')\n",
    "plt.axvline(data.mean(),color='orange',ls='dashed',label='mean')\n",
    "plt.axvline(np.median(data),color='lime',ls='dashed',label='median')\n",
    "plt.axvline(data.mean() - data.std(),color='navy',ls='dashed',label='std')\n",
    "plt.axvline(data.mean() + data.std(),color='navy',ls='dashed',label='std')\n",
    "\n",
    "\n",
    "plt.legend(loc='upper center')\n",
    "\n",
    "plt.figure()\n",
    "log_data = np.log10(data)\n",
    "plt.axvline(log_data.min(),color='r',ls='dashed',label='min')\n",
    "plt.axvline(log_data.max(),color='r',ls='dashed',label='max')\n",
    "plt.axvline(log_data.mean(),color='orange',ls='dashed',label='mean')\n",
    "plt.axvline(np.median(log_data),color='lime',ls='dashed',label='median')\n",
    "plt.axvline(log_data.mean() - log_data.std(),color='navy',ls='dashed',label='std')\n",
    "plt.axvline(log_data.mean() + log_data.std(),color='navy',ls='dashed',label='std')\n",
    "\n",
    "plt.legend(loc='upper center')\n",
    "plt.hist(log_data)"
   ]
  },
  {
   "cell_type": "code",
   "execution_count": null,
   "metadata": {
    "scrolled": true
   },
   "outputs": [],
   "source": [
    "# parametric-non-parametric vs Bayes\n",
    "# https://onlinelibrary.wiley.com/doi/pdf/10.1111/anae.13666\n",
    "\n",
    "#data1 = np.array([1,2,3])\n",
    "data1 = np.array([5,7,9])\n",
    "#data2 = np.array([4,5,6])\n",
    "data2 = np.array([1453,1720,1785])\n",
    "\n",
    "alpha_1 = 1 / data1.mean()\n",
    "alpha_2 = 1 / data2.mean()\n",
    "\n",
    "lambda_1 = pm.Exponential('lambda_1',alpha_1)\n",
    "lambda_2 = pm.Exponential('lambda_2',alpha_2)\n",
    "\n",
    "obs_1 = pm.Poisson('obs_1',lambda_1,observed=True,value=data1)\n",
    "obs_2 = pm.Poisson('obs_2',lambda_2,observed=True,value=data2)\n",
    "\n",
    "model = pm.Model([lambda_1,lambda_2,obs_1,obs_2])\n",
    "\n",
    "map_ = pm.MAP(model)\n",
    "map_.fit()\n",
    "\n",
    "mcmc = pm.MCMC(model)\n",
    "\n",
    "sample = mcmc.sample(50000,10000,2)\n",
    "\n",
    "lambda_1_post = mcmc.trace('lambda_1')[:]\n",
    "lambda_2_post = mcmc.trace('lambda_2')[:]\n",
    "\n",
    "pmplot(lambda_1_post,'lambda_1')\n",
    "pmplot(lambda_2_post,'lambda_2')\n",
    "\n",
    "plt.figure(figsize=(18,12))\n",
    "plt.title('Bayesian inference on the Non-parametric problem presented '\\\n",
    "          'in \\n https://onlinelibrary.wiley.com/doi/pdf/10.1111/anae.13666 \\n posterior probabily group1 > group2: {:.2f}'.format(\n",
    "(lambda_1_post > lambda_2_post).mean()))\n",
    "\n",
    "plt.hist(lambda_1_post,density=True,color='g',histtype='stepfilled',alpha=0.6,label='values 5,7,9')\n",
    "plt.hist(lambda_2_post,density=True,color='r',histtype='stepfilled',alpha=0.6,label='values 1453,1720,1785')\n",
    "plt.legend(loc='upper right')\n",
    "plt.ylabel('density')\n",
    "plt.xlabel('Expected Value for Rank in group')\n",
    "\n",
    "print ((lambda_1_post > lambda_2_post).mean())\n",
    "print ((lambda_1_post > lambda_2_post).sum() / lambda_1_post.size)\n",
    "\n",
    "plt.savefig('Bayesian_ex_of_p_value_bashing_no_ranks.jpg',format='jpg')"
   ]
  },
  {
   "cell_type": "code",
   "execution_count": null,
   "metadata": {
    "scrolled": false
   },
   "outputs": [],
   "source": [
    "# apply\n",
    "# DataFrame.apply operates on entire rows or columns at a time.\n",
    "\n",
    "# DataFrame.applymap, Series.apply, and Series.map operate on one element at time.\n",
    "\n",
    "def standardize(x):\n",
    "    return (x - x.mean()) / x.std()\n",
    "\n",
    "def standardize2(x,mean,std):\n",
    "    return (x - mean) / std\n",
    "\n",
    "df = pd.DataFrame({'A': range(0,3),\n",
    "                  'B': range(3,6),\n",
    "                  'C': range(6,9)})\n",
    "\n",
    "print (df)\n",
    "print (df.apply(np.mean))\n",
    "print (df.apply(standardize))\n",
    "# but df['A'].apply(standartize) fails b/c on series it operates on individual elements\n",
    "\n",
    "print (standardize(df['A']))\n",
    "\n",
    "print (standardize2(df['A'],df['A'].mean(),df['A'].std()))\n",
    "\n",
    "print (df['A'].apply(standardize2,args=(df['A'].mean(),df['A'].std())))"
   ]
  },
  {
   "cell_type": "code",
   "execution_count": null,
   "metadata": {
    "scrolled": true
   },
   "outputs": [],
   "source": []
  }
 ],
 "metadata": {
  "kernelspec": {
   "display_name": "Python 3",
   "language": "python",
   "name": "python3"
  },
  "language_info": {
   "codemirror_mode": {
    "name": "ipython",
    "version": 3
   },
   "file_extension": ".py",
   "mimetype": "text/x-python",
   "name": "python",
   "nbconvert_exporter": "python",
   "pygments_lexer": "ipython3",
   "version": "3.6.9"
  }
 },
 "nbformat": 4,
 "nbformat_minor": 4
}
