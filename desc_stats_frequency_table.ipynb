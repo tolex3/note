{
 "cells": [
  {
   "cell_type": "code",
   "execution_count": null,
   "metadata": {},
   "outputs": [],
   "source": [
    "import numpy as np\n",
    "import pandas as pd\n",
    "import seaborn as sns\n",
    "import matplotlib.pyplot as plt\n",
    "\n",
    "sns.set()"
   ]
  },
  {
   "cell_type": "code",
   "execution_count": null,
   "metadata": {},
   "outputs": [],
   "source": [
    "np.random.seed(666)\n",
    "vals = [0,1,2,3,4,5]\n",
    "nr_categories = 5\n",
    "df_freq = pd.DataFrame({'math' : np.random.choice(vals,nr_categories,replace=False),\n",
    "                   'physics' : np.random.choice(vals,nr_categories,replace=False),\n",
    "                   'chemistry' : np.random.choice(vals,nr_categories,replace=False),\n",
    "                   'biology' : np.random.choice(vals,nr_categories,replace=False)},\n",
    "                        index=range(1,nr_categories + 1))\n",
    "df_freq.index.name='points'\n",
    "df_freq.columns.name='subject'\n",
    "df_freq.sort_index(inplace=True)\n",
    "df_freq\n",
    "\n"
   ]
  },
  {
   "cell_type": "code",
   "execution_count": null,
   "metadata": {},
   "outputs": [],
   "source": [
    "df_freq_subgrps = pd.DataFrame(df_freq.unstack()) \n",
    "df_freq_subgrps.columns=['freq']\n",
    "df_freq_subgrps['points'] = df_freq_subgrps.index.get_level_values(1)\n",
    "df_freq_subgrps = df_freq_subgrps[['points','freq']]\n",
    "df_freq_subgrps = df_freq_subgrps.droplevel(1)\n",
    "df_freq_subgrps"
   ]
  },
  {
   "cell_type": "code",
   "execution_count": null,
   "metadata": {},
   "outputs": [],
   "source": [
    "serialized_points = df_freq_subgrps.groupby('subject',group_keys=False).apply(\n",
    "         lambda row: np.repeat(row['points'],row['freq'])) \n",
    "\n",
    "serialized_points"
   ]
  },
  {
   "cell_type": "code",
   "execution_count": null,
   "metadata": {},
   "outputs": [],
   "source": [
    "stats = serialized_points.groupby('subject').agg(['median','mean','count','min','max'])\n",
    "stats"
   ]
  },
  {
   "cell_type": "code",
   "execution_count": null,
   "metadata": {},
   "outputs": [],
   "source": [
    "serialized_points.groupby('subject').plot(kind='hist')\n",
    "plt.legend(loc='upper left')"
   ]
  },
  {
   "cell_type": "code",
   "execution_count": null,
   "metadata": {},
   "outputs": [],
   "source": [
    "# means\n",
    "serialized_points.groupby('subject').sum() / serialized_points.groupby('subject').count()"
   ]
  },
  {
   "cell_type": "code",
   "execution_count": null,
   "metadata": {},
   "outputs": [],
   "source": [
    "serialized_points.groupby('subject').mean()"
   ]
  },
  {
   "cell_type": "code",
   "execution_count": null,
   "metadata": {},
   "outputs": [],
   "source": [
    "serialized_points.groupby('subject').median()"
   ]
  }
 ],
 "metadata": {
  "kernelspec": {
   "display_name": "Python 3",
   "language": "python",
   "name": "python3"
  },
  "language_info": {
   "codemirror_mode": {
    "name": "ipython",
    "version": 3
   },
   "file_extension": ".py",
   "mimetype": "text/x-python",
   "name": "python",
   "nbconvert_exporter": "python",
   "pygments_lexer": "ipython3",
   "version": "3.8.6"
  }
 },
 "nbformat": 4,
 "nbformat_minor": 4
}
