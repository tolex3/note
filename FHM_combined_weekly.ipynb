{
 "cells": [
  {
   "cell_type": "code",
   "execution_count": null,
   "metadata": {},
   "outputs": [],
   "source": [
    "import numpy as np\n",
    "import matplotlib.pyplot as plt\n",
    "import seaborn as sns\n",
    "import pandas as pd\n",
    "\n",
    "import pymc3 as pm\n",
    "import arviz as az\n",
    "\n",
    "sns.set()"
   ]
  },
  {
   "cell_type": "code",
   "execution_count": null,
   "metadata": {},
   "outputs": [],
   "source": [
    "def parse_scb_prel(YTD=True):\n",
    "    \n",
    "    def monthname2number(m):\n",
    "        if m == 'januari' : return 1\n",
    "        if m == 'februari' : return 2\n",
    "        if m == 'mars' : return 3\n",
    "        if m == 'april' : return 4\n",
    "        if m == 'maj' : return 5\n",
    "        if m == 'juni' : return 6\n",
    "        if m == 'juli' : return 7\n",
    "        if m == 'augusti' : return 8\n",
    "        if m == 'september' : return 9\n",
    "        if m == 'oktober' : return 10\n",
    "        if m == 'november' : return 11\n",
    "        if m == 'december' : return 12\n",
    "\n",
    "    df = pd.read_csv('scb-dead_per_day.csv',sep=';',usecols=[1,2,3,4,5,6,7,10,11],thousands=',')\n",
    "    \n",
    "    \n",
    "    df['month'] = df['Månad'].apply(monthname2number)\n",
    "    df[['Månad','month']] = df[['Månad','month']].replace(np.nan,0)\n",
    "    df['month'] = df['month'].astype(int)\n",
    "    \n",
    "    \n",
    "    df = df.replace(np.nan,0)\n",
    "\n",
    "    \n",
    "    df[['2015','2016','2017','2018','2019','2020','2015-2019']] = df[['2015','2016','2017','2018','2019','2020','2015-2019']].astype(int)\n",
    "\n",
    "    unknown_death_day = df.iloc[-1,:7]\n",
    "    \n",
    "    df.drop(366,inplace=True)\n",
    "    \n",
    "    if YTD:\n",
    "        df = df.loc[df['2020'] != 0]\n",
    "        \n",
    "    df = df.drop('Månad',axis=1)\n",
    "    \n",
    "    known_death_day = df.iloc[:,:7].sum()\n",
    "    \n",
    "    year_fraction = len(df) / 366\n",
    "    \n",
    "    unknown_death_day[['2015','2016','2017','2018','2019','2015-2019']] = unknown_death_day[\n",
    "    ['2015','2016','2017','2018','2019','2015-2019']] * year_fraction\n",
    "    \n",
    "    dead_pct_per_day = df[['2015','2016','2017','2018','2019','2020','2015-2019']] / known_death_day\n",
    "    \n",
    "    all_deaths = df[['2015','2016','2017','2018','2019','2020','2015-2019']] + unknown_death_day * dead_pct_per_day\n",
    "    \n",
    "    if YTD:\n",
    "        index = pd.date_range('2020-01-01',periods=len(all_deaths))\n",
    "    else:\n",
    "        index = pd.date_range('2020-01-01','2020-12-31')\n",
    "        \n",
    "    all_deaths.index = index\n",
    "    \n",
    "    return all_deaths\n",
    "    "
   ]
  },
  {
   "cell_type": "code",
   "execution_count": null,
   "metadata": {},
   "outputs": [],
   "source": [
    "df_scb = parse_scb_prel()\n",
    "df_scb['2015-2018'] = df_scb.loc[:,'2015' : '2018'].mean(axis=1)\n",
    "df_scb['excess'] = df_scb['2020'] - df_scb['2015-2018']\n",
    "df_scb['cum_excess'] = df_scb['excess'].cumsum()\n",
    "df_scb = df_scb.astype(float)\n",
    "df_scb"
   ]
  },
  {
   "cell_type": "code",
   "execution_count": null,
   "metadata": {},
   "outputs": [],
   "source": [
    "df_scb_weekly = df_scb.resample('W').sum()\n",
    "df_scb_weekly.drop('cum_excess',axis=1,inplace=True)\n",
    "df_scb_weekly"
   ]
  },
  {
   "cell_type": "code",
   "execution_count": null,
   "metadata": {},
   "outputs": [],
   "source": [
    "df_conf_per_dag = pd.read_excel('fhm_excel.xlsx',sheet_name='Antal per dag region',index_col=0,usecols=[0,1])"
   ]
  },
  {
   "cell_type": "code",
   "execution_count": null,
   "metadata": {},
   "outputs": [],
   "source": [
    "df_conf_per_dag"
   ]
  },
  {
   "cell_type": "code",
   "execution_count": null,
   "metadata": {},
   "outputs": [],
   "source": [
    "df_dead_per_dag = pd.read_excel('fhm_excel.xlsx',sheet_name='Antal avlidna per dag',index_col=0)"
   ]
  },
  {
   "cell_type": "code",
   "execution_count": null,
   "metadata": {},
   "outputs": [],
   "source": [
    "dead_no_date = df_dead_per_dag.iloc[-1,0]\n",
    "dead_no_date"
   ]
  },
  {
   "cell_type": "code",
   "execution_count": null,
   "metadata": {},
   "outputs": [],
   "source": [
    "df_dead_per_dag = df_dead_per_dag[:-1]\n",
    "df_dead_per_dag.index = pd.to_datetime(df_dead_per_dag.index)\n",
    "df_dead_per_dag"
   ]
  },
  {
   "cell_type": "code",
   "execution_count": null,
   "metadata": {},
   "outputs": [],
   "source": [
    "df_icu_per_dag = pd.read_excel('fhm_excel.xlsx',sheet_name='Antal intensivvårdade per dag',index_col=0)\n",
    "df_icu_per_dag"
   ]
  },
  {
   "cell_type": "code",
   "execution_count": null,
   "metadata": {},
   "outputs": [],
   "source": [
    "df = pd.concat([df_conf_per_dag,df_icu_per_dag,df_dead_per_dag],axis=1)\n",
    "df"
   ]
  },
  {
   "cell_type": "code",
   "execution_count": null,
   "metadata": {},
   "outputs": [],
   "source": [
    "df.plot()"
   ]
  },
  {
   "cell_type": "code",
   "execution_count": null,
   "metadata": {},
   "outputs": [],
   "source": [
    "df_weekly = df.resample('W').sum()\n",
    "df_weekly"
   ]
  },
  {
   "cell_type": "code",
   "execution_count": null,
   "metadata": {
    "scrolled": false
   },
   "outputs": [],
   "source": [
    "plt.figure(figsize=(18,12))\n",
    "\n",
    "ax = plt.gca()\n",
    "\n",
    "styles = ['bo--','go--','ro--']\n",
    "last_date = df.index[-1]\n",
    "last_good_date = last_date - pd.DateOffset(weeks=1)\n",
    "\n",
    "title = 'SWEDEN weekly : [ COVID:Positives, ICUs, Deaths ] & All Cause Deaths. YTD {}\\nDataSource : FHM, SCB'.format(\n",
    "    last_good_date.date())\n",
    "\n",
    "\n",
    "ax.plot(df_scb_weekly['2020'][:last_good_date],'x--',color='crimson')\n",
    "ax.plot(df_scb_weekly['2015-2018'][:last_good_date],'x--',color='orange',alpha=1.0)\n",
    "\n",
    "\n",
    "df_weekly[:last_good_date].plot(style=styles,title=title,ax=ax,label=['Covid-cases','ICUs','Covid-Deaths'])\n",
    "\n",
    "ax.legend(['All Cause Deaths','2015-2018 all cause deaths avg','Covid Positives','Covid ICUs','Covid-Deaths'],\n",
    "         loc='upper left')\n",
    "\n",
    "ax2 = plt.twinx()\n",
    "ax2.plot(df_scb_weekly['excess'][:last_good_date].cumsum(),'--',color='k',label='cumulative excess deaths')\n",
    "\n",
    "ax.set_ylabel('Nr of events [no pop adj.]')\n",
    "ax2.set_ylabel('cumulative excess deaths [non-pop.adj.]')\n",
    "ax2.legend(loc='upper right')\n",
    "plt.savefig('FHM_weekly_combined.jpg',format='jpg')"
   ]
  },
  {
   "cell_type": "code",
   "execution_count": null,
   "metadata": {},
   "outputs": [],
   "source": [
    "df_weekly.corr()"
   ]
  },
  {
   "cell_type": "code",
   "execution_count": null,
   "metadata": {},
   "outputs": [],
   "source": [
    "plt.scatter(df_weekly['Totalt_antal_fall'],df_weekly['Antal_avlidna'],color='crimson')\n",
    "plt.scatter(df_weekly['Totalt_antal_fall'],df_weekly['Antal_intensivvårdade'],color='orange')"
   ]
  },
  {
   "cell_type": "code",
   "execution_count": null,
   "metadata": {},
   "outputs": [],
   "source": [
    "print (df_weekly.max())\n",
    "df_weekly['Totalt_antal_fall'].argmax()"
   ]
  },
  {
   "cell_type": "code",
   "execution_count": null,
   "metadata": {},
   "outputs": [],
   "source": [
    "df_weekly['Totalt_antal_fall'].where(df_weekly['Totalt_antal_fall'] > 5000)"
   ]
  },
  {
   "cell_type": "code",
   "execution_count": null,
   "metadata": {},
   "outputs": [],
   "source": [
    "df_scb_weekly.sum()"
   ]
  },
  {
   "cell_type": "code",
   "execution_count": null,
   "metadata": {},
   "outputs": [],
   "source": [
    "df_weekly.sum()"
   ]
  },
  {
   "cell_type": "code",
   "execution_count": null,
   "metadata": {},
   "outputs": [],
   "source": [
    "df_weekly"
   ]
  },
  {
   "cell_type": "code",
   "execution_count": null,
   "metadata": {},
   "outputs": [],
   "source": [
    "df_scb_weekly"
   ]
  },
  {
   "cell_type": "code",
   "execution_count": null,
   "metadata": {},
   "outputs": [],
   "source": [
    "df_2020_weekly = df_weekly.copy()\n",
    "df_2020_weekly['all_cause_deaths'] = df_scb_weekly['2020']\n",
    "df_2020_weekly.columns=['covid_pos','covid_ICUs','covid_deaths','all_cause_deaths']\n",
    "df_2020_weekly = df_2020_weekly[:-2]\n",
    "df_2020_weekly"
   ]
  },
  {
   "cell_type": "code",
   "execution_count": null,
   "metadata": {},
   "outputs": [],
   "source": [
    "\n",
    "icu_shift = 2\n",
    "deaths_shift = 3\n",
    "\n",
    "df_2020_weekly_shifted = df_2020_weekly.copy()\n",
    "\n",
    "df_2020_weekly_shifted['covid_ICUs'] = df_2020_weekly_shifted['covid_ICUs'].shift(icu_shift)\n",
    "df_2020_weekly_shifted['covid_deaths'] = df_2020_weekly_shifted['covid_deaths'].shift(deaths_shift)\n",
    "df_2020_weekly_shifted['all_cause_deaths'] = df_2020_weekly_shifted['all_cause_deaths'].shift(deaths_shift)\n",
    "\n",
    "\n",
    "\n",
    "df_2020_weekly_shifted"
   ]
  },
  {
   "cell_type": "code",
   "execution_count": null,
   "metadata": {},
   "outputs": [],
   "source": [
    "df_2020_weekly.corr()"
   ]
  },
  {
   "cell_type": "code",
   "execution_count": null,
   "metadata": {},
   "outputs": [],
   "source": [
    "df_2020_weekly_shifted.corr()"
   ]
  },
  {
   "cell_type": "code",
   "execution_count": null,
   "metadata": {},
   "outputs": [],
   "source": [
    "plt.scatter(df_2020_weekly['covid_pos'],df_2020_weekly['all_cause_deaths'],color='crimson')\n",
    "#plt.scatter(df_2020_weekly['covid_pos'],df_2020_weekly['covid_deaths'],color='orange')"
   ]
  },
  {
   "cell_type": "code",
   "execution_count": null,
   "metadata": {},
   "outputs": [],
   "source": [
    "def standardize(series):\n",
    "    return (series - series.mean()) / series.std()\n",
    "\n",
    "x = standardize(df_2020_weekly_shifted['covid_pos'])\n",
    "\n",
    "y_param = 'all_cause_deaths'\n",
    "\n",
    "y = standardize(df_2020_weekly_shifted[y_param])\n",
    "\n",
    "\n",
    "model = pm.Model()\n",
    "with model:\n",
    "    \n",
    "    alpha = pm.Normal('alpha',mu=0,sd=1)\n",
    "    beta = pm.Normal('beta',mu=0,sd=1)\n",
    "    \n",
    "    sigma = pm.Exponential('sigma',1)\n",
    "    \n",
    "    reg = pm.Deterministic('reg',alpha + x.values * beta)\n",
    "    \n",
    "    obs = pm.Normal('obs',reg,sigma,observed=y)\n",
    "    \n",
    "    trace = pm.sample(500,tune=500)\n",
    "    \n",
    "    "
   ]
  },
  {
   "cell_type": "code",
   "execution_count": null,
   "metadata": {},
   "outputs": [],
   "source": [
    "with model:\n",
    "    print (az.summary(trace,hdi_prob=0.89))"
   ]
  },
  {
   "cell_type": "code",
   "execution_count": null,
   "metadata": {
    "scrolled": false
   },
   "outputs": [],
   "source": [
    "with model:\n",
    "    az.plot_trace(trace,var_names=['alpha','beta','sigma'])"
   ]
  },
  {
   "cell_type": "code",
   "execution_count": null,
   "metadata": {},
   "outputs": [],
   "source": [
    "with model:\n",
    "    \n",
    "    X_min = x.min()\n",
    "    X_max = x.max()\n",
    "    \n",
    "    alpha_mean = trace['alpha'].mean()\n",
    "    alpha_CI = np.percentile(trace['alpha'],[5.5,94.5])\n",
    "    \n",
    "    beta_mean = trace['beta'].mean()\n",
    "    beta_CI = np.percentile(trace['beta'],[5.5, 94.5])\n",
    "\n",
    "    X = np.linspace(X_min,X_max,100)\n",
    "\n",
    "    result = pm.trace_to_dataframe(trace)\n",
    "    \n",
    "    rows = np.random.choice(result.index,replace=True,size=1000)\n",
    "    \n",
    "    ppc = pm.sample_posterior_predictive(trace,samples=2000,model=model)\n",
    "    \n",
    "    plt.figure(figsize=(18,12))\n",
    "    \n",
    "    title = 'SWEDEN Covid-Positives predictor for ' + y_param + '\\n' + r'$\\alpha$ : {:.2f} $\\alpha$ CI : [{:.2f}  {:.2f}] '.format(\n",
    "        alpha_mean,alpha_CI[0],alpha_CI[1]) +\\\n",
    "    r' $\\beta$ : {:.2f} $\\beta$ CI : [{:.2f}  {:.2f}]'.format(beta_mean,beta_CI[0],beta_CI[1]) + '\\nDataSource: FHM,SCB'\n",
    "    \n",
    "    plt.title(title)\n",
    "    \n",
    "    ax = plt.gca()\n",
    "    \n",
    "    az.plot_hdi(x,trace['reg'],hdi_prob=0.89,ax=ax)\n",
    "    \n",
    "    ax.scatter(x,y,color='crimson')\n",
    "    \n",
    "    #ax.plot(X,trace['alpha'][rows] + X[:,np.newaxis] * trace['beta'][rows],color='c',alpha=0.05)\n",
    "    \n",
    "    az.plot_hpd(x,ppc['obs'],hdi_prob=0.89,ax=ax)\n",
    "    \n",
    "    ax.plot(x,trace['alpha'].mean() + x * trace['beta'].mean(),color='k',ls='dashed')\n",
    "\n",
    "    \n",
    "    ax.set_ylabel( y_param + ' [standardized]')\n",
    "    ax.set_xlabel('covid positives [standardized]')\n",
    "    \n",
    "    plt.savefig('FHM_combined_regression_{}.jpg'.format(y_param),format='jpg')"
   ]
  },
  {
   "cell_type": "code",
   "execution_count": null,
   "metadata": {},
   "outputs": [],
   "source": [
    "result.describe()"
   ]
  }
 ],
 "metadata": {
  "kernelspec": {
   "display_name": "Python 3",
   "language": "python",
   "name": "python3"
  },
  "language_info": {
   "codemirror_mode": {
    "name": "ipython",
    "version": 3
   },
   "file_extension": ".py",
   "mimetype": "text/x-python",
   "name": "python",
   "nbconvert_exporter": "python",
   "pygments_lexer": "ipython3",
   "version": "3.8.5"
  }
 },
 "nbformat": 4,
 "nbformat_minor": 4
}
