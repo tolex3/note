{
 "cells": [
  {
   "cell_type": "markdown",
   "metadata": {
    "id": "hxK4cRNKxKQt"
   },
   "source": [
    "# Python / Pandas example of age adjusted mortality using SCB's data"
   ]
  },
  {
   "cell_type": "code",
   "execution_count": null,
   "metadata": {
    "id": "FD94tnMWxwWh"
   },
   "outputs": [],
   "source": [
    "import numpy as np\n",
    "import matplotlib.pyplot as plt\n",
    "import seaborn as sns\n",
    "import pandas as pd\n",
    "import requests\n",
    "\n",
    "sns.set()"
   ]
  },
  {
   "cell_type": "code",
   "execution_count": null,
   "metadata": {
    "id": "2BFe6yPgx8VS"
   },
   "outputs": [],
   "source": [
    "# get latest official population data from SCB, updated 2020-12-08, includes 2020\n",
    "pop_url = 'http://api.scb.se/OV0104/v1/doris/sv/ssd/START/BE/BE0101/BE0101A/FolkmangdNov'"
   ]
  },
  {
   "cell_type": "code",
   "execution_count": null,
   "metadata": {
    "id": "7SkJlewex8uy"
   },
   "outputs": [],
   "source": [
    "pop_json_data = {\n",
    "  \"query\": [\n",
    "    {\n",
    "      \"code\": \"Region\",\n",
    "      \"selection\": {\n",
    "        \"filter\": \"vs:RegionRiket99\",\n",
    "        \"values\": [\n",
    "          \"00\"\n",
    "        ]\n",
    "      }\n",
    "    },\n",
    "    {\n",
    "      \"code\": \"Alder\",\n",
    "      \"selection\": {\n",
    "        \"filter\": \"vs:Ålder1årA\",\n",
    "        \"values\": [\n",
    "          \"0\",\n",
    "          \"1\",\n",
    "          \"2\",\n",
    "          \"3\",\n",
    "          \"4\",\n",
    "          \"5\",\n",
    "          \"6\",\n",
    "          \"7\",\n",
    "          \"8\",\n",
    "          \"9\",\n",
    "          \"10\",\n",
    "          \"11\",\n",
    "          \"12\",\n",
    "          \"13\",\n",
    "          \"14\",\n",
    "          \"15\",\n",
    "          \"16\",\n",
    "          \"17\",\n",
    "          \"18\",\n",
    "          \"19\",\n",
    "          \"20\",\n",
    "          \"21\",\n",
    "          \"22\",\n",
    "          \"23\",\n",
    "          \"24\",\n",
    "          \"25\",\n",
    "          \"26\",\n",
    "          \"27\",\n",
    "          \"28\",\n",
    "          \"29\",\n",
    "          \"30\",\n",
    "          \"31\",\n",
    "          \"32\",\n",
    "          \"33\",\n",
    "          \"34\",\n",
    "          \"35\",\n",
    "          \"36\",\n",
    "          \"37\",\n",
    "          \"38\",\n",
    "          \"39\",\n",
    "          \"40\",\n",
    "          \"41\",\n",
    "          \"42\",\n",
    "          \"43\",\n",
    "          \"44\",\n",
    "          \"45\",\n",
    "          \"46\",\n",
    "          \"47\",\n",
    "          \"48\",\n",
    "          \"49\",\n",
    "          \"50\",\n",
    "          \"51\",\n",
    "          \"52\",\n",
    "          \"53\",\n",
    "          \"54\",\n",
    "          \"55\",\n",
    "          \"56\",\n",
    "          \"57\",\n",
    "          \"58\",\n",
    "          \"59\",\n",
    "          \"60\",\n",
    "          \"61\",\n",
    "          \"62\",\n",
    "          \"63\",\n",
    "          \"64\",\n",
    "          \"65\",\n",
    "          \"66\",\n",
    "          \"67\",\n",
    "          \"68\",\n",
    "          \"69\",\n",
    "          \"70\",\n",
    "          \"71\",\n",
    "          \"72\",\n",
    "          \"73\",\n",
    "          \"74\",\n",
    "          \"75\",\n",
    "          \"76\",\n",
    "          \"77\",\n",
    "          \"78\",\n",
    "          \"79\",\n",
    "          \"80\",\n",
    "          \"81\",\n",
    "          \"82\",\n",
    "          \"83\",\n",
    "          \"84\",\n",
    "          \"85\",\n",
    "          \"86\",\n",
    "          \"87\",\n",
    "          \"88\",\n",
    "          \"89\",\n",
    "          \"90\",\n",
    "          \"91\",\n",
    "          \"92\",\n",
    "          \"93\",\n",
    "          \"94\",\n",
    "          \"95\",\n",
    "          \"96\",\n",
    "          \"97\",\n",
    "          \"98\",\n",
    "          \"99\",\n",
    "          \"100+\"\n",
    "        ]\n",
    "      }\n",
    "    },\n",
    "    {\n",
    "      \"code\": \"Kon\",\n",
    "      \"selection\": {\n",
    "        \"filter\": \"item\",\n",
    "        \"values\": [\n",
    "          \"1\",\n",
    "          \"2\"\n",
    "        ]\n",
    "      }\n",
    "    }\n",
    "  ],\n",
    "  \"response\": {\n",
    "    \"format\": \"json\"\n",
    "  }\n",
    "}"
   ]
  },
  {
   "cell_type": "code",
   "execution_count": null,
   "metadata": {
    "colab": {
     "base_uri": "https://localhost:8080/"
    },
    "id": "Ckg8vMV2ylZn",
    "outputId": "3ddf75ab-ae55-42e7-e958-30b3a7979daa"
   },
   "outputs": [],
   "source": [
    "pop_r = requests.post(pop_url, json=pop_json_data)\n",
    "pop_r.status_code"
   ]
  },
  {
   "cell_type": "code",
   "execution_count": null,
   "metadata": {
    "colab": {
     "base_uri": "https://localhost:8080/"
    },
    "id": "VyvEVCR5x9FU",
    "outputId": "e1500b20-2ec3-4477-947a-7bd895ef9a94"
   },
   "outputs": [],
   "source": [
    "pop_json = pop_r.json()\n",
    "nr_recs = len(pop_json['data'])\n",
    "pop_json['data'][0]"
   ]
  },
  {
   "cell_type": "code",
   "execution_count": null,
   "metadata": {
    "id": "1xILFttZzqE0"
   },
   "outputs": [],
   "source": [
    "pop_list = []\n",
    "\n",
    "for rec in range(nr_recs):\n",
    "  pop_list.append([pop_json['data'][rec]['key'][1],\n",
    "                   pop_json['data'][rec]['key'][2],\n",
    "                   pop_json['data'][rec]['key'][3],\n",
    "                   pop_json['data'][rec]['values'][0]])\n",
    "  \n"
   ]
  },
  {
   "cell_type": "code",
   "execution_count": null,
   "metadata": {
    "colab": {
     "base_uri": "https://localhost:8080/",
     "height": 419
    },
    "id": "6Q_Cud551z5e",
    "outputId": "c9d79e8b-2ab6-4223-df51-7ec40bf68041"
   },
   "outputs": [],
   "source": [
    "pop_df = pd.DataFrame(pop_list,columns=['age','gender',\n",
    "                                        'year','pop'])\n",
    "\n",
    "pop_df['pop'] = pop_df['pop'].astype(int)\n",
    "\n",
    "pop_df['age'] = (pop_df['age'].apply(\n",
    "    lambda x : x.replace('+','')).astype(int))\n",
    "\n",
    "pop_df"
   ]
  },
  {
   "cell_type": "code",
   "execution_count": null,
   "metadata": {
    "colab": {
     "base_uri": "https://localhost:8080/",
     "height": 450
    },
    "id": "qduT1SP530M1",
    "outputId": "1bad1399-8ad5-4d95-aeef-57f881e68ede"
   },
   "outputs": [],
   "source": [
    "pop_df = pop_df.groupby(['year','age']).sum()\n",
    "pop_df"
   ]
  },
  {
   "cell_type": "code",
   "execution_count": null,
   "metadata": {
    "colab": {
     "base_uri": "https://localhost:8080/",
     "height": 669
    },
    "id": "Mq_M7K7O4ib4",
    "outputId": "5165664b-05fe-4dab-8aaf-6fe36033675d"
   },
   "outputs": [],
   "source": [
    "yearly_tot_pop = pop_df.groupby('year').sum()\n",
    "yearly_tot_pop"
   ]
  },
  {
   "cell_type": "code",
   "execution_count": null,
   "metadata": {
    "colab": {
     "base_uri": "https://localhost:8080/",
     "height": 669
    },
    "id": "5VUuDzCc4uGx",
    "outputId": "800c91bf-85aa-42bb-8680-a989eccbe30e"
   },
   "outputs": [],
   "source": [
    "pop_growth = yearly_tot_pop / yearly_tot_pop.shift()\n",
    "pop_growth"
   ]
  },
  {
   "cell_type": "code",
   "execution_count": null,
   "metadata": {
    "id": "YqzQDese6e8v"
   },
   "outputs": [],
   "source": [
    "# get official scb deaths for years up to 2019 "
   ]
  },
  {
   "cell_type": "code",
   "execution_count": null,
   "metadata": {
    "id": "bW0PcEF07Gcl"
   },
   "outputs": [],
   "source": [
    "#deaths\n",
    "dead_url = 'http://api.scb.se/OV0104/v1/doris/sv/ssd/START/BE/BE0101/BE0101I/DodaHandelseK'\n",
    "dead_json_data = {\n",
    "  \"query\": [\n",
    "    {\n",
    "      \"code\": \"Region\",\n",
    "      \"selection\": {\n",
    "        \"filter\": \"vs:RegionRiket99\",\n",
    "        \"values\": [\n",
    "          \"00\"\n",
    "        ]\n",
    "      }\n",
    "    },\n",
    "    {\n",
    "      \"code\": \"Alder\",\n",
    "      \"selection\": {\n",
    "        \"filter\": \"vs:Ålder1årA\",\n",
    "        \"values\": [\n",
    "          \"0\",\n",
    "          \"1\",\n",
    "          \"2\",\n",
    "          \"3\",\n",
    "          \"4\",\n",
    "          \"5\",\n",
    "          \"6\",\n",
    "          \"7\",\n",
    "          \"8\",\n",
    "          \"9\",\n",
    "          \"10\",\n",
    "          \"11\",\n",
    "          \"12\",\n",
    "          \"13\",\n",
    "          \"14\",\n",
    "          \"15\",\n",
    "          \"16\",\n",
    "          \"17\",\n",
    "          \"18\",\n",
    "          \"19\",\n",
    "          \"20\",\n",
    "          \"21\",\n",
    "          \"22\",\n",
    "          \"23\",\n",
    "          \"24\",\n",
    "          \"25\",\n",
    "          \"26\",\n",
    "          \"27\",\n",
    "          \"28\",\n",
    "          \"29\",\n",
    "          \"30\",\n",
    "          \"31\",\n",
    "          \"32\",\n",
    "          \"33\",\n",
    "          \"34\",\n",
    "          \"35\",\n",
    "          \"36\",\n",
    "          \"37\",\n",
    "          \"38\",\n",
    "          \"39\",\n",
    "          \"40\",\n",
    "          \"41\",\n",
    "          \"42\",\n",
    "          \"43\",\n",
    "          \"44\",\n",
    "          \"45\",\n",
    "          \"46\",\n",
    "          \"47\",\n",
    "          \"48\",\n",
    "          \"49\",\n",
    "          \"50\",\n",
    "          \"51\",\n",
    "          \"52\",\n",
    "          \"53\",\n",
    "          \"54\",\n",
    "          \"55\",\n",
    "          \"56\",\n",
    "          \"57\",\n",
    "          \"58\",\n",
    "          \"59\",\n",
    "          \"60\",\n",
    "          \"61\",\n",
    "          \"62\",\n",
    "          \"63\",\n",
    "          \"64\",\n",
    "          \"65\",\n",
    "          \"66\",\n",
    "          \"67\",\n",
    "          \"68\",\n",
    "          \"69\",\n",
    "          \"70\",\n",
    "          \"71\",\n",
    "          \"72\",\n",
    "          \"73\",\n",
    "          \"74\",\n",
    "          \"75\",\n",
    "          \"76\",\n",
    "          \"77\",\n",
    "          \"78\",\n",
    "          \"79\",\n",
    "          \"80\",\n",
    "          \"81\",\n",
    "          \"82\",\n",
    "          \"83\",\n",
    "          \"84\",\n",
    "          \"85\",\n",
    "          \"86\",\n",
    "          \"87\",\n",
    "          \"88\",\n",
    "          \"89\",\n",
    "          \"90\",\n",
    "          \"91\",\n",
    "          \"92\",\n",
    "          \"93\",\n",
    "          \"94\",\n",
    "          \"95\",\n",
    "          \"96\",\n",
    "          \"97\",\n",
    "          \"98\",\n",
    "          \"99\",\n",
    "          \"100+\"\n",
    "        ]\n",
    "      }\n",
    "      },\n",
    "    {\n",
    "      \"code\": \"Kon\",\n",
    "      \"selection\": {\n",
    "        \"filter\": \"item\",\n",
    "        \"values\": [\n",
    "          \"1\",\n",
    "          \"2\"\n",
    "        ]\n",
    "      }\n",
    "    }\n",
    "  ],\n",
    "  \"response\": {\n",
    "    \"format\": \"json\"\n",
    "  }\n",
    "}"
   ]
  },
  {
   "cell_type": "code",
   "execution_count": null,
   "metadata": {
    "colab": {
     "base_uri": "https://localhost:8080/"
    },
    "id": "Q3EC54Qx8Qdx",
    "outputId": "7cad8ea3-272d-4334-db87-743340d3e57e"
   },
   "outputs": [],
   "source": [
    "r_dead = requests.post(dead_url,json=dead_json_data)\n",
    "r_dead.status_code"
   ]
  },
  {
   "cell_type": "code",
   "execution_count": null,
   "metadata": {
    "colab": {
     "base_uri": "https://localhost:8080/"
    },
    "id": "uYAC6apF8jAJ",
    "outputId": "ba152a22-b1ea-46ca-f098-7b3eaeb4cda6"
   },
   "outputs": [],
   "source": [
    "dead_json = r_dead.json()\n",
    "nr_recs = len(dead_json['data'])\n",
    "data = dead_json['data']\n",
    "print (data[0])\n",
    "dead_list = []\n",
    "\n",
    "for rec in range (nr_recs):\n",
    "  dead_list.append([data[rec]['key'][1],\n",
    "                    data[rec]['key'][2],\n",
    "                    data[rec]['key'][3],\n",
    "                    data[rec]['values'][0]])\n",
    "  "
   ]
  },
  {
   "cell_type": "code",
   "execution_count": null,
   "metadata": {
    "colab": {
     "base_uri": "https://localhost:8080/",
     "height": 450
    },
    "id": "UheySrvF-8NQ",
    "outputId": "b1326ac1-0b7b-4b9b-dc2a-7ec3945ad54b"
   },
   "outputs": [],
   "source": [
    "dead_df = pd.DataFrame(dead_list,columns=['age',\n",
    "                                          'gender',\n",
    "                                          'year',\n",
    "                                          'dead'])\n",
    "\n",
    "dead_df['dead'] = dead_df['dead'].astype(int)\n",
    "\n",
    "dead_df['age'] = (dead_df['age'].apply(\n",
    "    lambda x : x.replace('+','')).astype(int))\n",
    "\n",
    "dead_df = dead_df.groupby(['year','age']).sum()\n",
    "dead_df\n",
    "\n"
   ]
  },
  {
   "cell_type": "code",
   "execution_count": null,
   "metadata": {
    "colab": {
     "base_uri": "https://localhost:8080/",
     "height": 450
    },
    "id": "RsEL4UjQAyPp",
    "outputId": "2b559cb1-034d-47c7-886e-0cdc0fed4236"
   },
   "outputs": [],
   "source": [
    "pop_data = pop_df.join(dead_df)\n",
    "pop_data = pop_data.replace(np.nan,0)\n",
    "pop_data"
   ]
  },
  {
   "cell_type": "code",
   "execution_count": null,
   "metadata": {
    "colab": {
     "base_uri": "https://localhost:8080/",
     "height": 450
    },
    "id": "ffNCIvNoCS2s",
    "outputId": "ff13f3e8-3ccd-46f1-e1ff-59c9ae8bc059"
   },
   "outputs": [],
   "source": [
    "# since the prel. SCB 2020 age grp death data are binned to 4 groups, we need to adjust our age grps accordingly \n",
    "pop_data['age_grp'] = pd.cut(pop_data.index.get_level_values(1),bins=[-1,64,79,89,200],labels=[64,79,89,200])\n",
    "pop_data"
   ]
  },
  {
   "cell_type": "code",
   "execution_count": null,
   "metadata": {
    "colab": {
     "base_uri": "https://localhost:8080/",
     "height": 450
    },
    "id": "xW-ovv9uFQAJ",
    "outputId": "4ece6bcb-ccc1-4079-8f3c-9cd3e0d8d438"
   },
   "outputs": [],
   "source": [
    "pop_data_4_grps = pop_data.groupby(['year','age_grp']).sum()\n",
    "pop_data_4_grps"
   ]
  },
  {
   "cell_type": "code",
   "execution_count": null,
   "metadata": {
    "id": "pwlkBrMSQ5Sa"
   },
   "outputs": [],
   "source": []
  },
  {
   "cell_type": "code",
   "execution_count": null,
   "metadata": {
    "colab": {
     "base_uri": "https://localhost:8080/"
    },
    "id": "XX-pdXH7Fljm",
    "outputId": "1a6c2f60-b9c0-4f1b-b3cd-08c30ee41260"
   },
   "outputs": [],
   "source": [
    "# fetch 2020 prel death data from SCB's excel file\n",
    "scb_excel = pd.ExcelFile('https://www.scb.se/hitta-statistik/statistik-efter-amne/befolkning/befolkningens-sammansattning/befolkningsstatistik/pong/tabell-och-diagram/preliminar-statistik-over-doda/')\n",
    "scb_excel.sheet_names\n",
    "\n"
   ]
  },
  {
   "cell_type": "code",
   "execution_count": null,
   "metadata": {
    "colab": {
     "base_uri": "https://localhost:8080/",
     "height": 1000
    },
    "id": "dZQ_xP9JF88q",
    "outputId": "7a5b4fae-4e16-4f29-a502-93fcc8c7c2c7"
   },
   "outputs": [],
   "source": [
    "scb_prel_dead = scb_excel.parse('Tabell 7',skiprows = 8,usecols=range(11,19))\n",
    "scb_prel_dead_orig = scb_prel_dead.copy()\n",
    "\n",
    "scb_prel_dead"
   ]
  },
  {
   "cell_type": "code",
   "execution_count": null,
   "metadata": {
    "colab": {
     "base_uri": "https://localhost:8080/"
    },
    "id": "6ero6Y4XHSUY",
    "outputId": "905fd88e-1053-41f4-c11d-e985053c304d"
   },
   "outputs": [],
   "source": [
    "unknowns = scb_prel_dead.iloc[53]\n",
    "unknowns.index = [64,79,89,200] * 2\n",
    "\n",
    "unknown_male = unknowns[:4]\n",
    "unknown_female = unknowns[4:]\n",
    "\n",
    "unknown_female.name='2020'\n",
    "unknown_male.name='2020'\n",
    "\n",
    "print (unknown_male,unknown_female)\n"
   ]
  },
  {
   "cell_type": "code",
   "execution_count": null,
   "metadata": {
    "colab": {
     "base_uri": "https://localhost:8080/",
     "height": 1000
    },
    "id": "4oqVkr_qHfLK",
    "outputId": "d6a5857e-cd89-41e8-9dc1-999c37e0ab3a"
   },
   "outputs": [],
   "source": [
    "scb_prel_dead = scb_prel_dead.loc[:52]\n",
    "scb_prel_dead"
   ]
  },
  {
   "cell_type": "code",
   "execution_count": null,
   "metadata": {
    "id": "IVR_I37rICSq"
   },
   "outputs": [],
   "source": [
    "scb_prel_dead_male = scb_prel_dead.iloc[:,:4]\n",
    "scb_prel_dead_male.columns=[64,79,89,200]\n",
    "scb_prel_dead_female = scb_prel_dead.iloc[:,4:]\n",
    "scb_prel_dead_female.columns = [64,79,89,200]\n"
   ]
  },
  {
   "cell_type": "code",
   "execution_count": null,
   "metadata": {
    "id": "hZipO8h_LW_o"
   },
   "outputs": [],
   "source": [
    "def allocate_unknowns(df,unknown):\n",
    "  daily_fraction = df / df.sum()\n",
    "  add_ons = daily_fraction * unknown\n",
    "  return df + add_ons"
   ]
  },
  {
   "cell_type": "code",
   "execution_count": null,
   "metadata": {
    "colab": {
     "base_uri": "https://localhost:8080/"
    },
    "id": "0VXwmuC5Mqns",
    "outputId": "2e857825-fc47-4c02-a156-561bd959c1f3"
   },
   "outputs": [],
   "source": [
    "unknown_male"
   ]
  },
  {
   "cell_type": "code",
   "execution_count": null,
   "metadata": {
    "colab": {
     "base_uri": "https://localhost:8080/",
     "height": 1000
    },
    "id": "YfE8O84eLlb6",
    "outputId": "6bc56ab8-cae9-4285-9ff4-02ea38bd0ebb"
   },
   "outputs": [],
   "source": [
    "corrected_male_dead = allocate_unknowns(scb_prel_dead_male,unknown_male)\n",
    "corrected_female_dead = allocate_unknowns(scb_prel_dead_female,unknown_female)\n",
    "\n",
    "corrected_dead = corrected_male_dead + corrected_female_dead\n",
    "corrected_dead"
   ]
  },
  {
   "cell_type": "code",
   "execution_count": null,
   "metadata": {
    "colab": {
     "base_uri": "https://localhost:8080/"
    },
    "id": "Cu23YTVjNUSp",
    "outputId": "b03582e4-4102-4a4c-ae14-5e49cf85bcf6"
   },
   "outputs": [],
   "source": [
    "print (scb_prel_dead_orig.sum(axis=1).sum())\n",
    "corrected_dead.sum(axis=1).sum()"
   ]
  },
  {
   "cell_type": "code",
   "execution_count": null,
   "metadata": {
    "colab": {
     "base_uri": "https://localhost:8080/",
     "height": 1000
    },
    "id": "rsIYTZfULTp8",
    "outputId": "a2155ac5-0a96-48ca-c8cf-1d73dc0b307e"
   },
   "outputs": [],
   "source": [
    "scb_prel_dead_combined = scb_prel_dead_male + scb_prel_dead_female\n",
    "scb_prel_dead_combined"
   ]
  },
  {
   "cell_type": "code",
   "execution_count": null,
   "metadata": {
    "colab": {
     "base_uri": "https://localhost:8080/"
    },
    "id": "mZDQSu_POKIk",
    "outputId": "17d7b63e-b91f-4e32-e561-4c4279cfa839"
   },
   "outputs": [],
   "source": [
    "scb_2020_age_grp_ytd = scb_prel_dead_combined.sum()\n",
    "scb_2020_age_grp_ytd"
   ]
  },
  {
   "cell_type": "code",
   "execution_count": null,
   "metadata": {
    "colab": {
     "base_uri": "https://localhost:8080/"
    },
    "id": "XG1hogsVOftu",
    "outputId": "27cf9686-c7b1-40a0-fc93-04f8a038d858"
   },
   "outputs": [],
   "source": [
    "multi_idx = pd.MultiIndex.from_arrays([['2020'] * 4,[64,79,89,200]])\n",
    "scb_2020_age_grp_ytd.index = multi_idx\n",
    "scb_2020_age_grp_ytd"
   ]
  },
  {
   "cell_type": "code",
   "execution_count": null,
   "metadata": {
    "colab": {
     "base_uri": "https://localhost:8080/",
     "height": 450
    },
    "id": "5AEU_SnjOtn8",
    "outputId": "c3cf5503-d25a-43da-a42d-b6c23c92751c"
   },
   "outputs": [],
   "source": [
    "pop_data_4_grps.loc['2020','dead'] = scb_2020_age_grp_ytd\n",
    "pop_data_4_grps              "
   ]
  },
  {
   "cell_type": "code",
   "execution_count": null,
   "metadata": {
    "colab": {
     "base_uri": "https://localhost:8080/",
     "height": 450
    },
    "id": "H8LwVgFDQ77h",
    "outputId": "09c2bd76-8d89-4668-d54a-94963a8f0003"
   },
   "outputs": [],
   "source": [
    "pop_data_4_grps['mortality'] = pop_data_4_grps['dead'] / pop_data_4_grps['pop']\n",
    "pop_data_4_grps"
   ]
  },
  {
   "cell_type": "code",
   "execution_count": null,
   "metadata": {
    "colab": {
     "base_uri": "https://localhost:8080/"
    },
    "id": "-cNyggG-RVEc",
    "outputId": "39349c83-32d6-4e3f-c57c-367a23b0210c"
   },
   "outputs": [],
   "source": [
    "std_pop = pop_data_4_grps.loc['2015','pop']\n",
    "std_pop"
   ]
  },
  {
   "cell_type": "code",
   "execution_count": null,
   "metadata": {
    "colab": {
     "base_uri": "https://localhost:8080/"
    },
    "id": "vKuwf530S0e1",
    "outputId": "c3305268-8210-4dbd-e672-09e02de9c438"
   },
   "outputs": [],
   "source": [
    "age_adj_dead = pop_data_4_grps['mortality'] * std_pop\n",
    "age_adj_dead"
   ]
  },
  {
   "cell_type": "code",
   "execution_count": null,
   "metadata": {
    "colab": {
     "base_uri": "https://localhost:8080/",
     "height": 450
    },
    "id": "OVq9GMe_TJuf",
    "outputId": "a0198cb8-86c2-40c0-dcc9-ece47b917159"
   },
   "outputs": [],
   "source": [
    "pop_data_4_grps['age_adj_dead'] = age_adj_dead\n",
    "pop_data_4_grps"
   ]
  },
  {
   "cell_type": "code",
   "execution_count": null,
   "metadata": {
    "colab": {
     "base_uri": "https://localhost:8080/"
    },
    "id": "_oZWvJHsTZ2Q",
    "outputId": "36a2c8a3-9130-48fd-dfb3-5199d15ec782"
   },
   "outputs": [],
   "source": [
    "age_adj_years = pop_data_4_grps.groupby('year')['age_adj_dead'].sum()\n",
    "age_adj_years"
   ]
  },
  {
   "cell_type": "code",
   "execution_count": null,
   "metadata": {
    "colab": {
     "base_uri": "https://localhost:8080/"
    },
    "id": "o67MEcsBTsbc",
    "outputId": "99f46e52-0a7f-4965-9c02-bc38032925ba"
   },
   "outputs": [],
   "source": [
    "age_adj_mort = age_adj_years / std_pop.sum()\n",
    "age_adj_mort"
   ]
  },
  {
   "cell_type": "code",
   "execution_count": null,
   "metadata": {
    "colab": {
     "base_uri": "https://localhost:8080/",
     "height": 754
    },
    "id": "hXdUfGW6T4N4",
    "outputId": "2d9bc810-14f2-47c5-c673-c3a92c01aac5"
   },
   "outputs": [],
   "source": [
    "colors = ['crimson'] * (len(age_adj_mort) - 1)\n",
    "colors.append('orange')\n",
    "\n",
    "title = 'Age adj. mortality 2020 YTD, others full years. [based on 4 age grps, std year 2015]'\n",
    "\n",
    "age_adj_mort.plot(kind='bar',figsize=(18,12),title=title,color=colors)\n",
    "plt.ylabel('mortality')\n",
    "_= plt.yticks(np.arange(0,0.012,0.0005))"
   ]
  },
  {
   "cell_type": "code",
   "execution_count": null,
   "metadata": {},
   "outputs": [],
   "source": [
    "param = 'pop'\n",
    "age_grp_y2y_growth = pop_data_4_grps[param].unstack() / pop_data_4_grps[param].unstack().shift()\n",
    "age_grp_y2y_growth"
   ]
  },
  {
   "cell_type": "code",
   "execution_count": null,
   "metadata": {},
   "outputs": [],
   "source": [
    "age_grp_y2y_growth.plot(figsize=(18,12),style='o--')\n",
    "plt.axhline(1,ls='dashed',color='k')\n",
    "_= plt.xticks(range(len(age_grp_y2y_growth)),age_grp_y2y_growth.index)"
   ]
  },
  {
   "cell_type": "code",
   "execution_count": null,
   "metadata": {},
   "outputs": [],
   "source": [
    "param = 'mortality'\n",
    "age_grp_y2y_mort_growth = pop_data_4_grps[param].unstack() / pop_data_4_grps[param].unstack().shift()\n",
    "age_grp_y2y_mort_growth"
   ]
  },
  {
   "cell_type": "code",
   "execution_count": null,
   "metadata": {},
   "outputs": [],
   "source": [
    "age_grp_y2y_mort_growth[:-1].plot(figsize=(18,12),style='o--')\n",
    "_= plt.xticks(range(len(age_grp_y2y_mort_growth) -1 ),age_grp_y2y_mort_growth.index[:-1])\n",
    "plt.axhline(1,ls='dashed',color='k')"
   ]
  },
  {
   "cell_type": "code",
   "execution_count": null,
   "metadata": {},
   "outputs": [],
   "source": [
    "base_15_19_mort = pop_data_4_grps.loc['2015':'2019','mortality'].groupby(['age_grp']).mean()\n",
    "base_15_19_mort.index = [64,79,89,200]\n",
    "base_15_19_mort"
   ]
  },
  {
   "cell_type": "code",
   "execution_count": null,
   "metadata": {},
   "outputs": [],
   "source": [
    "ax = pop_data_4_grps.unstack()['mortality'].plot(figsize=(18,12),style='o--')\n",
    "for i in base_15_19_mort.index:\n",
    "    plt.axhline(base_15_19_mort[i],color='k',ls='dashed',lw=1)\n",
    " \n",
    "plt.yscale('log')\n",
    "_= plt.xticks(range(len(age_grp_y2y_mort_growth) ),age_grp_y2y_mort_growth.index)\n"
   ]
  }
 ],
 "metadata": {
  "colab": {
   "name": "scb_age_adj__ex.ipynb",
   "provenance": []
  },
  "kernelspec": {
   "display_name": "Python 3",
   "language": "python",
   "name": "python3"
  },
  "language_info": {
   "codemirror_mode": {
    "name": "ipython",
    "version": 3
   },
   "file_extension": ".py",
   "mimetype": "text/x-python",
   "name": "python",
   "nbconvert_exporter": "python",
   "pygments_lexer": "ipython3",
   "version": "3.8.6"
  }
 },
 "nbformat": 4,
 "nbformat_minor": 1
}
