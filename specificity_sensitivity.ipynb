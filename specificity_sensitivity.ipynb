{
 "cells": [
  {
   "cell_type": "code",
   "execution_count": null,
   "metadata": {},
   "outputs": [],
   "source": [
    "import numpy as np\n",
    "import matplotlib.pyplot as plt\n",
    "import seaborn as sns\n",
    "import pandas as pd\n",
    "\n",
    "sns.set()"
   ]
  },
  {
   "cell_type": "code",
   "execution_count": null,
   "metadata": {},
   "outputs": [],
   "source": [
    "'''\n",
    "A == infected\n",
    "\n",
    "   *********o    # Healthy, 9 false positives - specificity 0.90\n",
    "   oooooooooo\n",
    "   oooooooooo\n",
    "   oooooooooo\n",
    "!A oooooooooo\n",
    "   oooooooooo\n",
    "   oooooooooo\n",
    "   oooooooooo\n",
    "   oooooooooo\n",
    "---------------  \n",
    "A  XXXXXXXXX/   # Infected, of which 9 are correctly identified - sensitivity 0.90\n",
    "\n",
    "P(A) = incidence\n",
    "P(!A) = 1 - incidence\n",
    "\n",
    "P(evidence | A) = 0.90 # Sensitivity\n",
    "P(evidence | !A) = 1 - Specificity\n",
    "\n",
    "True Positives = pop * P(A) * Sensitivity\n",
    "False Positives = pop * P(!A) * (1 - Specificity)\n",
    "\n",
    "P(A | evidence) = True Positives / (True Positives + False Positives)\n",
    "\n",
    "P(A | evidence) = pop * P(A) * Sensitivity / pop * (P(A) * Sensitivity + pop * P(!A) * (1 - Specificity))\n",
    "\n",
    "P(A | evidence) = P(A) * Sensitivity / (P(A) * Sensitivity + (1 - incidence) * (1 - Specificity) )\n",
    "\n",
    "P(A | evidence) = 0.1 * 0.9 / ( 0.1 * 0.9 + (1 - 0.1) * (1 - 0.9))\n",
    "\n",
    "P(A | evidence = 0.1 * 0.9 / (0.09 + 0.9 * 0.1)\n",
    "\n",
    "P(A | evidence) = 0.09 / 0.18\n",
    "\n",
    "P(A | evidence) = 0.5\n",
    "\n",
    "'''\n",
    "\n",
    "\n",
    "population = 10e6\n",
    "incidence = 0.01\n",
    "\n",
    "sensitivity = 0.99 # test correctly identifies 95 of 100 who have the decease as positive, low False Neg rate\n",
    "specificity = 0.99 # test correctly identifies 95 of 100 who do not have the decease, low False Pos rate\n",
    "\n",
    "infected = population * incidence\n",
    "print ('infected',infected)\n",
    "\n",
    "tested_positive_true = sensitivity * infected\n",
    "print ('tested_positive_true',tested_positive_true)\n",
    "\n",
    "false_negative = infected - tested_positive_true\n",
    "print ('false negative',false_negative)\n",
    "\n",
    "tested_negative_true = (population - infected) * specificity\n",
    "print ('tested_negative_true',tested_negative_true)\n",
    "false_positive = (population - infected) - tested_negative_true\n",
    "print ('false_positive',false_positive)\n",
    "\n",
    "total_tested_positive = tested_positive_true + false_positive\n",
    "print ('total_tested_positive',total_tested_positive)\n",
    "\n",
    "total_tested_negative = tested_negative_true + false_negative\n",
    "print ('total_tested_negative',total_tested_negative)\n",
    "\n",
    "p_positive = tested_positive_true / total_tested_positive\n",
    "print ('p_positive',p_positive)\n",
    "\n",
    "p_negative = tested_negative_true / total_tested_negative\n",
    "print ('p_negative',p_negative)\n",
    "\n",
    "print ('false negatives: {} {:.4f} %  of tests'.format(false_negative,false_negative/population))\n",
    "print ('false positives: {} {:.4f} % of tests'.format(false_positive,false_positive/population))\n",
    "\n",
    "print ('total test errors {} {:.4f} % of tests'.format(false_positive+false_negative,\n",
    "       (false_positive + false_negative) / population))\n"
   ]
  },
  {
   "cell_type": "code",
   "execution_count": null,
   "metadata": {},
   "outputs": [],
   "source": [
    "plt.bar(['false positive','false negative'],[false_positive,false_negative])"
   ]
  },
  {
   "cell_type": "code",
   "execution_count": null,
   "metadata": {},
   "outputs": [],
   "source": [
    "fig,axes = plt.subplots(1,2,figsize=(18,12))\n",
    "axes[0].bar(['infected'],infected,alpha=0.7,label='infected')\n",
    "axes[0].bar(['infected'],tested_positive_true,alpha=0.7,label='test positive')\n",
    "axes[1].bar(['healthy'],population - infected,alpha=0.7,label='healty')\n",
    "axes[1].bar(['healthy'],tested_negative_true,alpha=0.7,label='test negative')\n",
    "\n",
    "axes[0].text(['infected'],infected * 0.97,'False Negative')\n",
    "axes[1].text(['healthy'],(population - infected) * 0.97,'False Positive')\n",
    "\n",
    "axes[0].legend(loc='upper left')\n",
    "axes[1].legend(loc='upper left')"
   ]
  },
  {
   "cell_type": "code",
   "execution_count": null,
   "metadata": {},
   "outputs": [],
   "source": [
    "# using Bayes Rule\n",
    "\n",
    "# probability of having decease given that test tells so\n",
    "\n",
    "# p(inf|ev) = p(inf) * p(ev|inf) / ( p(inf) * p(ev|inf) + p(~inf) * p(ev|~infected) ) \n",
    "# that is: true positives / (true positives + false positives)\n",
    "\n",
    "p_inf = incidence\n",
    "p_not_inf = 1 - p_inf\n",
    "p_ev_given_inf = sensitivity \n",
    "p_ev_given_not_inf = 1 - specificity\n",
    "\n",
    "p_inf_given_ev = (p_inf * p_ev_given_inf) / (p_inf * p_ev_given_inf + p_not_inf * p_ev_given_not_inf)"
   ]
  },
  {
   "cell_type": "code",
   "execution_count": null,
   "metadata": {},
   "outputs": [],
   "source": [
    "p_inf_given_ev"
   ]
  },
  {
   "cell_type": "code",
   "execution_count": null,
   "metadata": {},
   "outputs": [],
   "source": [
    "# probabiliy of not having decease given test comes out negative\n",
    "# evidence not is being not infected\n",
    "\n",
    "p_ok = 1 - incidence\n",
    "p_not_ok = incidence\n",
    "p_ev_given_ok = specificity\n",
    "p_ev_given_not_ok = 1 - sensitivity\n",
    "\n",
    "p_ok_given_ev = (p_ok * p_ev_given_ok) / ( p_ok * p_ev_given_ok + p_not_ok * p_ev_given_not_ok)\n",
    "p_ok_given_ev"
   ]
  }
 ],
 "metadata": {
  "kernelspec": {
   "display_name": "Python 3",
   "language": "python",
   "name": "python3"
  },
  "language_info": {
   "codemirror_mode": {
    "name": "ipython",
    "version": 3
   },
   "file_extension": ".py",
   "mimetype": "text/x-python",
   "name": "python",
   "nbconvert_exporter": "python",
   "pygments_lexer": "ipython3",
   "version": "3.8.5"
  }
 },
 "nbformat": 4,
 "nbformat_minor": 4
}
