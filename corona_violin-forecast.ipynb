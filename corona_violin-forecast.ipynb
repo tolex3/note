{
 "cells": [
  {
   "cell_type": "code",
   "execution_count": null,
   "metadata": {},
   "outputs": [],
   "source": [
    "import numpy as np\n",
    "import matplotlib.pyplot as plt\n",
    "import seaborn as sns\n",
    "import pandas as pd\n",
    "import pymc as pm\n",
    "from pymc.Matplot import plot as pmplot\n",
    "\n",
    "\n",
    "sns.set()\n"
   ]
  },
  {
   "cell_type": "code",
   "execution_count": null,
   "metadata": {},
   "outputs": [],
   "source": [
    "dick = pd.read_pickle('country_data.pkl')"
   ]
  },
  {
   "cell_type": "code",
   "execution_count": null,
   "metadata": {},
   "outputs": [],
   "source": [
    "US = pd.read_pickle('us_state_dict.pkl')\n",
    "ny = US['New York']\n",
    "ny = ny[['confirmed','deceased','recovered','inc','factor','dead_inc','dead_factor']]\n",
    "dick['New York'] = ny"
   ]
  },
  {
   "cell_type": "code",
   "execution_count": null,
   "metadata": {},
   "outputs": [],
   "source": [
    "country_name = 'US'\n",
    "\n",
    "country = dick[country_name]\n",
    "\n",
    "country"
   ]
  },
  {
   "cell_type": "code",
   "execution_count": null,
   "metadata": {},
   "outputs": [],
   "source": [
    "def strip(x):\n",
    "    return x.replace('\\t','')\n",
    "\n",
    "country_populations = pd.read_csv('world_pop.csv',\n",
    "                                  sep=';',header=None,index_col=0,names=['population'],\n",
    "                                 thousands=',',converters={0 : strip})\n",
    "\n"
   ]
  },
  {
   "cell_type": "code",
   "execution_count": null,
   "metadata": {},
   "outputs": [],
   "source": [
    "country_posterior = pd.read_pickle('violin_daily_result_{}.pkl'.format(country_name.replace(' ','_')))\n",
    "# r_post = growth factor confirmed, f_post = true mortality rate\n",
    "country_posterior.describe()"
   ]
  },
  {
   "cell_type": "code",
   "execution_count": null,
   "metadata": {},
   "outputs": [],
   "source": [
    "C = country['confirmed'][-1]\n",
    "\n",
    "nr_samples = 1000\n",
    "\n",
    "rows = np.random.choice(country_posterior.index,replace=True,size=nr_samples)\n",
    "post_samples = country_posterior.loc[rows]\n"
   ]
  },
  {
   "cell_type": "code",
   "execution_count": null,
   "metadata": {},
   "outputs": [],
   "source": [
    "X = np.linspace(0,len(country),nr_samples)\n",
    "fwd_look = 40\n",
    "\n",
    "forecast = np.zeros((fwd_look,nr_samples))\n",
    "\n",
    "for fwd in range(fwd_look):\n",
    "    sample_dead = np.array(\n",
    "       [pm.rpoisson(C * post_samples.r_post.iloc[i] * post_samples.f_post.iloc[i]) for i in range(len(X))])\n",
    "    \n",
    "    forecast[fwd] = sample_dead\n",
    "\n",
    "    # logistic function for daily growth of C : general form for growth factor : (1 - ( N  / population ) ) * N\n",
    "    C  = C * country['factor'][-1] * (1 - (C / (country_populations.loc[country_name,'population'] \\\n",
    "                                                * country_posterior.f_post.mean() * 5)))\n",
    "    \n",
    "\n",
    "forecast_df = pd.DataFrame(forecast).T\n",
    "forecast_df.index.name = 'sample'\n",
    "forecast_df.columns.name = 'day'\n",
    "\n"
   ]
  },
  {
   "cell_type": "code",
   "execution_count": null,
   "metadata": {
    "scrolled": false
   },
   "outputs": [],
   "source": [
    "plt.figure(figsize=(18,12))\n",
    "\n",
    "means = forecast_df.mean(axis=0)\n",
    "current = country.iloc[-1,5]\n",
    "\n",
    "over_current = means > current\n",
    "forecast_df.drop(forecast_df.columns[over_current],axis=1,inplace=True)\n",
    "\n",
    "print (forecast_df)\n",
    "forecast_df.columns = range(0,len(forecast_df.columns) )\n",
    "\n",
    "means = forecast_df.mean(axis=0)\n",
    "CI_89 = np.percentile(forecast_df,[5.5,94.5],axis=0)\n",
    "CI_89_low = CI_89[0,:]\n",
    "CI_89_high = CI_89[1,:]\n",
    "\n",
    "\n",
    "sns.violinplot(data=forecast_df,palette=['orange'],inner='box')\n",
    "\n",
    "print (CI_89_low)\n",
    "print (CI_89_high)\n",
    "\n",
    "#start_day = country.index[0].date()\n",
    "start_day = pd.datetime.today().date()\n",
    "\n",
    "\n",
    "forecast_df.to_pickle('dead_forecast_{}_starting_{}.pkl'.format(country_name.replace(' ','_'),start_day))\n",
    "forecast_df"
   ]
  },
  {
   "cell_type": "code",
   "execution_count": null,
   "metadata": {},
   "outputs": [],
   "source": [
    "plt.figure(figsize=(18,12))\n",
    "plt.errorbar(range(len(forecast_df.columns)),means,np.array((np.abs(means - CI_89_low),np.abs(means - CI_89_high))),fmt='o')"
   ]
  }
 ],
 "metadata": {
  "kernelspec": {
   "display_name": "Python 3",
   "language": "python",
   "name": "python3"
  },
  "language_info": {
   "codemirror_mode": {
    "name": "ipython",
    "version": 3
   },
   "file_extension": ".py",
   "mimetype": "text/x-python",
   "name": "python",
   "nbconvert_exporter": "python",
   "pygments_lexer": "ipython3",
   "version": "3.6.9"
  }
 },
 "nbformat": 4,
 "nbformat_minor": 4
}
